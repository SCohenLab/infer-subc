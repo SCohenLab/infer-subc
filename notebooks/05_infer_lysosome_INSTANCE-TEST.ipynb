{
 "cells": [
  {
   "attachments": {},
   "cell_type": "markdown",
   "metadata": {},
   "source": [
    "# Infer ***lysosome*** -  4️⃣\n",
    "\n",
    "--------------\n",
    "\n",
    "## OVERVIEW\n",
    "In notesbooks 4-9, we will go how each organelle is segmented. These segmentation workflows are completely independent of each other and can be run in any order. Additionally, the entire image will be processed in this notebook, irrespective of the single cells identified in notebooks 1-3. The cell mask will be applied to the organelle segmentation outputs before quantification (as outlined in [10_regionprops](./10_regionprops.ipynb)). \n",
    "\n",
    "This notebook goes through the workflow steps to segment the ***lysosomes*** -- one of the six organelles of interest.\n",
    "\n",
    "## OBJECTIVE: \n",
    "### ✅ Infer sub-cellular component ***lysosome***\n",
    "Segment the ***lysosomes*** from a single channel (lysosomal membrane marker). This workflow was optimized for images of fluorescently tagged Lamp1, a membrane protein. When lysosomes are larger in size, this causes a hollow sphere structure that requires different segmentation compared to smaller lysosomes that appear filled in."
   ]
  },
  {
   "attachments": {},
   "cell_type": "markdown",
   "metadata": {},
   "source": [
    "\n",
    "## IMPORTS"
   ]
  },
  {
   "cell_type": "code",
   "execution_count": 2,
   "metadata": {},
   "outputs": [],
   "source": [
    "# top level imports\n",
    "from pathlib import Path\n",
    "import os, sys\n",
    "from typing import Optional\n",
    "\n",
    "import numpy as np\n",
    "\n",
    "from aicssegmentation.core.seg_dot import dot_2d_slice_by_slice_wrapper\n",
    "from aicssegmentation.core.vessel import filament_2d_wrapper\n",
    "from aicssegmentation.core.utils import topology_preserving_thinning\n",
    "from skimage.measure import label\n",
    "import skimage\n",
    "import scipy\n",
    "\n",
    "import napari\n",
    "\n",
    "### import local python functions in ../infer_subc\n",
    "sys.path.append(os.path.abspath((os.path.join(os.getcwd(), '..'))))\n",
    "\n",
    "\n",
    "from infer_subc.core.file_io import (read_czi_image,\n",
    "                                                                    read_ome_image,\n",
    "                                                                    export_inferred_organelle,\n",
    "                                                                    import_inferred_organelle,\n",
    "                                                                    list_image_files)\n",
    "from infer_subc.core.img import * #dot_filter_3, filament_filter_3\n",
    "from infer_subc.organelles import fixed_infer_cellmask_fromcomposite, fixed_infer_nuclei_fromlabel, get_cytoplasm, get_nuclei, get_cellmask\n",
    "# NOTE:  these \"constants\" are only accurate for the testing MCZ dataset\n",
    "from infer_subc.constants import (TEST_IMG_N,\n",
    "                                                                    NUC_CH ,\n",
    "                                                                    LYSO_CH ,\n",
    "                                                                    MITO_CH ,\n",
    "                                                                    GOLGI_CH ,\n",
    "                                                                    PEROX_CH ,\n",
    "                                                                    ER_CH ,\n",
    "                                                                    LD_CH ,\n",
    "                                                                    RESIDUAL_CH )              \n",
    "\n",
    "%load_ext autoreload\n",
    "%autoreload 2\n"
   ]
  },
  {
   "attachments": {},
   "cell_type": "markdown",
   "metadata": {},
   "source": [
    "## Get and load Image for processing"
   ]
  },
  {
   "cell_type": "code",
   "execution_count": 3,
   "metadata": {},
   "outputs": [],
   "source": [
    "test_img_n = TEST_IMG_N\n",
    "\n",
    "data_root_path = Path(os.path.expanduser(\"~\")) /  \"Documents/Python Scripts/Infer-subc-2D\"\n",
    "\n",
    "in_data_path = data_root_path / \"raw\"\n",
    "im_type = \".czi\"\n",
    "\n",
    "img_file_list = list_image_files(in_data_path,im_type)\n",
    "test_img_name = img_file_list[test_img_n]\n",
    "\n",
    "out_data_path = data_root_path / \"out\"\n",
    "if not Path.exists(out_data_path):\n",
    "    Path.mkdir(out_data_path)\n",
    "    print(f\"making {out_data_path}\")"
   ]
  },
  {
   "cell_type": "code",
   "execution_count": 4,
   "metadata": {},
   "outputs": [
    {
     "name": "stderr",
     "output_type": "stream",
     "text": [
      "c:\\Users\\Shannon\\anaconda3\\envs\\infer-subc\\lib\\site-packages\\ome_types\\_convenience.py:112: FutureWarning: The default XML parser will be changing from 'xmlschema' to 'lxml' in version 0.4.0.  To silence this warning, please provide the `parser` argument, specifying either 'lxml' (to opt into the new behavior), or'xmlschema' (to retain the old behavior).\n",
      "  d = to_dict(os.fspath(xml), parser=parser, validate=validate)\n"
     ]
    }
   ],
   "source": [
    "img_data,meta_dict = read_czi_image(test_img_name)\n",
    "\n",
    "channel_names = meta_dict['name']\n",
    "img = meta_dict['metadata']['aicsimage']\n",
    "scale = meta_dict['scale']\n",
    "channel_axis = meta_dict['channel_axis']"
   ]
  },
  {
   "attachments": {},
   "cell_type": "markdown",
   "metadata": {},
   "source": [
    "---------------------\n",
    "\n",
    "## infer ***lysosomes***\n",
    "\n",
    "## summary of steps\n",
    "\n",
    "➡️ INPUT\n",
    "- select single channel containing the lysosome marker (channel number = user input)\n",
    "\n",
    "PRE-PROCESSING\n",
    "- rescale image intensities: \n",
    "    - min=0, max=1\n",
    "- smooth image:\n",
    "    - median filter (media size = user input)\n",
    "    - gaussian filter (sigma = user input)\n",
    "\n",
    "CORE PROCESSING\n",
    "- apply \"dot\" thresholding method (for small round objects) from the Allen Cell [aicssegmentation](https://github.com/AllenCell/aics-segmentation) package (size scale and threshold cutoff = user input)\n",
    "- apply \"filament\"/\"vessel\" thresholding method (for tubular objects) from the Allen Cell [aicssegmentation](https://github.com/AllenCell/aics-segmentation) package (size scale and threshold cutoff = user input)\n",
    "- combine the two segmentations with logical *OR*\n",
    "\n",
    "POST-PROCESSING\n",
    "  - fill holes (hole size = user input)\n",
    "  - remove small objects (object size = user input)\n",
    "\n",
    "OUTPUT ➡️\n",
    "- label unique lysosome objects based on connectivity\n",
    "- save labeled ***lysosomes*** (lyso, LS) as unsigned integer 16-bit tif files\n",
    "\n",
    "\n",
    "> Generally, we followed the Allen Cell Segmenter procedure for lysosome segmentation from the [Lamp1](https://www.allencell.org/cell-observations/category/lamp1) marker. Sourced from: this notebook [example](https://github.com/AllenCell/aics-segmentation/blob/main/lookup_table_demo/playground_lamp1.ipynb)\n",
    "\n"
   ]
  },
  {
   "attachments": {},
   "cell_type": "markdown",
   "metadata": {},
   "source": [
    "## EXTRACT prototype"
   ]
  },
  {
   "cell_type": "code",
   "execution_count": 5,
   "metadata": {},
   "outputs": [],
   "source": [
    "###################\n",
    "# INPUT\n",
    "###################\n",
    "raw_lyso = select_channel_from_raw(img_data, LYSO_CH)"
   ]
  },
  {
   "attachments": {},
   "cell_type": "markdown",
   "metadata": {},
   "source": [
    "## PRE-PROCESSING prototype\n"
   ]
  },
  {
   "cell_type": "code",
   "execution_count": 6,
   "metadata": {},
   "outputs": [],
   "source": [
    "###################\n",
    "# PRE_PROCESSING\n",
    "###################\n",
    "med_filter_size = 3   \n",
    "gaussian_smoothing_sigma = 1.34\n",
    "\n",
    "struct_img =  scale_and_smooth(raw_lyso,\n",
    "                               median_size = med_filter_size, \n",
    "                               gauss_sigma = gaussian_smoothing_sigma)"
   ]
  },
  {
   "attachments": {},
   "cell_type": "markdown",
   "metadata": {},
   "source": [
    "## CORE PROCESSING prototype"
   ]
  },
  {
   "cell_type": "code",
   "execution_count": 7,
   "metadata": {},
   "outputs": [],
   "source": [
    "###################\n",
    "# CORE_PROCESSING\n",
    "###################\n",
    "## PARAMETERS for this step ##\n",
    "# s_param = [[5,0.09], [2.5,0.07], [1,0.01]]\n",
    "dot_method = \"3D\"\n",
    "\n",
    "# apply the 2D or 3D versions of the AICSsegmentation dot filter with multiple scales\n",
    "bw_dot_test = dot_filter_3(struct_img, 5, 0.09, 2.5, 0.07, 1, 0.01, dot_method)\n",
    "\n",
    "\n",
    "################################\n",
    "## PARAMETERS for this step ##\n",
    "# f_param = [[1, 0.15]]\n",
    "fil_method = \"3D\"\n",
    "\n",
    "# apply the 2D or 3D versions of the AICSsegmentation filament filter with multiple scales\n",
    "bw_filament_test = filament_filter_3(struct_img, 1, 0.15, 0,0,0,0, fil_method)\n",
    "\n",
    "\n",
    "# combine the two segmentations together\n",
    "bw_test = np.logical_or(bw_dot_test, bw_filament_test)\n"
   ]
  },
  {
   "attachments": {},
   "cell_type": "markdown",
   "metadata": {},
   "source": [
    "## POST-PROCESSING"
   ]
  },
  {
   "cell_type": "code",
   "execution_count": 10,
   "metadata": {},
   "outputs": [
    {
     "name": "stderr",
     "output_type": "stream",
     "text": [
      "[autoreload of skimage.util._montage failed: Traceback (most recent call last):\n",
      "  File \"c:\\Users\\Shannon\\anaconda3\\envs\\infer-subc\\lib\\site-packages\\IPython\\extensions\\autoreload.py\", line 273, in check\n",
      "    superreload(m, reload, self.old_objects)\n",
      "  File \"c:\\Users\\Shannon\\anaconda3\\envs\\infer-subc\\lib\\site-packages\\IPython\\extensions\\autoreload.py\", line 496, in superreload\n",
      "    update_generic(old_obj, new_obj)\n",
      "  File \"c:\\Users\\Shannon\\anaconda3\\envs\\infer-subc\\lib\\site-packages\\IPython\\extensions\\autoreload.py\", line 393, in update_generic\n",
      "    update(a, b)\n",
      "  File \"c:\\Users\\Shannon\\anaconda3\\envs\\infer-subc\\lib\\site-packages\\IPython\\extensions\\autoreload.py\", line 305, in update_function\n",
      "    setattr(old, name, getattr(new, name))\n",
      "ValueError: montage() requires a code object with 2 free vars, not 0\n",
      "]\n",
      "[autoreload of skimage.util.noise failed: Traceback (most recent call last):\n",
      "  File \"c:\\Users\\Shannon\\anaconda3\\envs\\infer-subc\\lib\\site-packages\\IPython\\extensions\\autoreload.py\", line 273, in check\n",
      "    superreload(m, reload, self.old_objects)\n",
      "  File \"c:\\Users\\Shannon\\anaconda3\\envs\\infer-subc\\lib\\site-packages\\IPython\\extensions\\autoreload.py\", line 496, in superreload\n",
      "    update_generic(old_obj, new_obj)\n",
      "  File \"c:\\Users\\Shannon\\anaconda3\\envs\\infer-subc\\lib\\site-packages\\IPython\\extensions\\autoreload.py\", line 393, in update_generic\n",
      "    update(a, b)\n",
      "  File \"c:\\Users\\Shannon\\anaconda3\\envs\\infer-subc\\lib\\site-packages\\IPython\\extensions\\autoreload.py\", line 305, in update_function\n",
      "    setattr(old, name, getattr(new, name))\n",
      "ValueError: random_noise() requires a code object with 3 free vars, not 0\n",
      "]\n",
      "[autoreload of skimage.measure._find_contours failed: Traceback (most recent call last):\n",
      "  File \"c:\\Users\\Shannon\\anaconda3\\envs\\infer-subc\\lib\\site-packages\\IPython\\extensions\\autoreload.py\", line 273, in check\n",
      "    superreload(m, reload, self.old_objects)\n",
      "  File \"c:\\Users\\Shannon\\anaconda3\\envs\\infer-subc\\lib\\site-packages\\IPython\\extensions\\autoreload.py\", line 496, in superreload\n",
      "    update_generic(old_obj, new_obj)\n",
      "  File \"c:\\Users\\Shannon\\anaconda3\\envs\\infer-subc\\lib\\site-packages\\IPython\\extensions\\autoreload.py\", line 393, in update_generic\n",
      "    update(a, b)\n",
      "  File \"c:\\Users\\Shannon\\anaconda3\\envs\\infer-subc\\lib\\site-packages\\IPython\\extensions\\autoreload.py\", line 305, in update_function\n",
      "    setattr(old, name, getattr(new, name))\n",
      "ValueError: find_contours() requires a code object with 0 free vars, not 2\n",
      "]\n",
      "[autoreload of skimage.measure.fit failed: Traceback (most recent call last):\n",
      "  File \"c:\\Users\\Shannon\\anaconda3\\envs\\infer-subc\\lib\\site-packages\\IPython\\extensions\\autoreload.py\", line 273, in check\n",
      "    superreload(m, reload, self.old_objects)\n",
      "  File \"c:\\Users\\Shannon\\anaconda3\\envs\\infer-subc\\lib\\site-packages\\IPython\\extensions\\autoreload.py\", line 496, in superreload\n",
      "    update_generic(old_obj, new_obj)\n",
      "  File \"c:\\Users\\Shannon\\anaconda3\\envs\\infer-subc\\lib\\site-packages\\IPython\\extensions\\autoreload.py\", line 393, in update_generic\n",
      "    update(a, b)\n",
      "  File \"c:\\Users\\Shannon\\anaconda3\\envs\\infer-subc\\lib\\site-packages\\IPython\\extensions\\autoreload.py\", line 305, in update_function\n",
      "    setattr(old, name, getattr(new, name))\n",
      "ValueError: ransac() requires a code object with 3 free vars, not 0\n",
      "]\n",
      "[autoreload of skimage.color failed: Traceback (most recent call last):\n",
      "  File \"c:\\Users\\Shannon\\anaconda3\\envs\\infer-subc\\lib\\site-packages\\IPython\\extensions\\autoreload.py\", line 273, in check\n",
      "    superreload(m, reload, self.old_objects)\n",
      "  File \"c:\\Users\\Shannon\\anaconda3\\envs\\infer-subc\\lib\\site-packages\\IPython\\extensions\\autoreload.py\", line 471, in superreload\n",
      "    module = reload(module)\n",
      "  File \"c:\\Users\\Shannon\\anaconda3\\envs\\infer-subc\\lib\\importlib\\__init__.py\", line 169, in reload\n",
      "    _bootstrap._exec(spec, module)\n",
      "  File \"<frozen importlib._bootstrap>\", line 619, in _exec\n",
      "  File \"<frozen importlib._bootstrap_external>\", line 883, in exec_module\n",
      "  File \"<frozen importlib._bootstrap>\", line 241, in _call_with_frames_removed\n",
      "  File \"c:\\Users\\Shannon\\anaconda3\\envs\\infer-subc\\lib\\site-packages\\skimage\\color\\__init__.py\", line 1, in <module>\n",
      "    from .colorconv import (convert_colorspace,\n",
      "ImportError: cannot import name 'rgb2grey' from 'skimage.color.colorconv' (c:\\Users\\Shannon\\anaconda3\\envs\\infer-subc\\lib\\site-packages\\skimage\\color\\colorconv.py)\n",
      "]\n",
      "[autoreload of skimage.color.colorconv failed: Traceback (most recent call last):\n",
      "  File \"c:\\Users\\Shannon\\anaconda3\\envs\\infer-subc\\lib\\site-packages\\IPython\\extensions\\autoreload.py\", line 273, in check\n",
      "    superreload(m, reload, self.old_objects)\n",
      "  File \"c:\\Users\\Shannon\\anaconda3\\envs\\infer-subc\\lib\\site-packages\\IPython\\extensions\\autoreload.py\", line 496, in superreload\n",
      "    update_generic(old_obj, new_obj)\n",
      "  File \"c:\\Users\\Shannon\\anaconda3\\envs\\infer-subc\\lib\\site-packages\\IPython\\extensions\\autoreload.py\", line 393, in update_generic\n",
      "    update(a, b)\n",
      "  File \"c:\\Users\\Shannon\\anaconda3\\envs\\infer-subc\\lib\\site-packages\\IPython\\extensions\\autoreload.py\", line 305, in update_function\n",
      "    setattr(old, name, getattr(new, name))\n",
      "ValueError: rgb2hsv() requires a code object with 2 free vars, not 0\n",
      "]\n",
      "[autoreload of skimage.draw failed: Traceback (most recent call last):\n",
      "  File \"c:\\Users\\Shannon\\anaconda3\\envs\\infer-subc\\lib\\site-packages\\IPython\\extensions\\autoreload.py\", line 273, in check\n",
      "    superreload(m, reload, self.old_objects)\n",
      "  File \"c:\\Users\\Shannon\\anaconda3\\envs\\infer-subc\\lib\\site-packages\\IPython\\extensions\\autoreload.py\", line 471, in superreload\n",
      "    module = reload(module)\n",
      "  File \"c:\\Users\\Shannon\\anaconda3\\envs\\infer-subc\\lib\\importlib\\__init__.py\", line 169, in reload\n",
      "    _bootstrap._exec(spec, module)\n",
      "  File \"<frozen importlib._bootstrap>\", line 619, in _exec\n",
      "  File \"<frozen importlib._bootstrap_external>\", line 883, in exec_module\n",
      "  File \"<frozen importlib._bootstrap>\", line 241, in _call_with_frames_removed\n",
      "  File \"c:\\Users\\Shannon\\anaconda3\\envs\\infer-subc\\lib\\site-packages\\skimage\\draw\\__init__.py\", line 1, in <module>\n",
      "    from .draw import (circle, ellipse, set_color, polygon_perimeter,\n",
      "ImportError: cannot import name 'circle' from 'skimage.draw.draw' (c:\\Users\\Shannon\\anaconda3\\envs\\infer-subc\\lib\\site-packages\\skimage\\draw\\draw.py)\n",
      "]\n",
      "[autoreload of skimage.morphology._skeletonize failed: Traceback (most recent call last):\n",
      "  File \"c:\\Users\\Shannon\\anaconda3\\envs\\infer-subc\\lib\\site-packages\\IPython\\extensions\\autoreload.py\", line 273, in check\n",
      "    superreload(m, reload, self.old_objects)\n",
      "  File \"c:\\Users\\Shannon\\anaconda3\\envs\\infer-subc\\lib\\site-packages\\IPython\\extensions\\autoreload.py\", line 496, in superreload\n",
      "    update_generic(old_obj, new_obj)\n",
      "  File \"c:\\Users\\Shannon\\anaconda3\\envs\\infer-subc\\lib\\site-packages\\IPython\\extensions\\autoreload.py\", line 393, in update_generic\n",
      "    update(a, b)\n",
      "  File \"c:\\Users\\Shannon\\anaconda3\\envs\\infer-subc\\lib\\site-packages\\IPython\\extensions\\autoreload.py\", line 305, in update_function\n",
      "    setattr(old, name, getattr(new, name))\n",
      "ValueError: medial_axis() requires a code object with 3 free vars, not 0\n",
      "]\n",
      "[autoreload of skimage._shared._geometry failed: Traceback (most recent call last):\n",
      "  File \"c:\\Users\\Shannon\\anaconda3\\envs\\infer-subc\\lib\\site-packages\\IPython\\extensions\\autoreload.py\", line 273, in check\n",
      "    superreload(m, reload, self.old_objects)\n",
      "  File \"c:\\Users\\Shannon\\anaconda3\\envs\\infer-subc\\lib\\site-packages\\IPython\\extensions\\autoreload.py\", line 496, in superreload\n",
      "    update_generic(old_obj, new_obj)\n",
      "  File \"c:\\Users\\Shannon\\anaconda3\\envs\\infer-subc\\lib\\site-packages\\IPython\\extensions\\autoreload.py\", line 393, in update_generic\n",
      "    update(a, b)\n",
      "  File \"c:\\Users\\Shannon\\anaconda3\\envs\\infer-subc\\lib\\site-packages\\IPython\\extensions\\autoreload.py\", line 305, in update_function\n",
      "    setattr(old, name, getattr(new, name))\n",
      "ValueError: polygon_clip() requires a code object with 3 free vars, not 0\n",
      "]\n",
      "[autoreload of skimage.draw.draw failed: Traceback (most recent call last):\n",
      "  File \"c:\\Users\\Shannon\\anaconda3\\envs\\infer-subc\\lib\\site-packages\\IPython\\extensions\\autoreload.py\", line 273, in check\n",
      "    superreload(m, reload, self.old_objects)\n",
      "  File \"c:\\Users\\Shannon\\anaconda3\\envs\\infer-subc\\lib\\site-packages\\IPython\\extensions\\autoreload.py\", line 496, in superreload\n",
      "    update_generic(old_obj, new_obj)\n",
      "  File \"c:\\Users\\Shannon\\anaconda3\\envs\\infer-subc\\lib\\site-packages\\IPython\\extensions\\autoreload.py\", line 393, in update_generic\n",
      "    update(a, b)\n",
      "  File \"c:\\Users\\Shannon\\anaconda3\\envs\\infer-subc\\lib\\site-packages\\IPython\\extensions\\autoreload.py\", line 305, in update_function\n",
      "    setattr(old, name, getattr(new, name))\n",
      "ValueError: polygon_perimeter() requires a code object with 3 free vars, not 0\n",
      "]\n",
      "[autoreload of skimage.transform.hough_transform failed: Traceback (most recent call last):\n",
      "  File \"c:\\Users\\Shannon\\anaconda3\\envs\\infer-subc\\lib\\site-packages\\IPython\\extensions\\autoreload.py\", line 273, in check\n",
      "    superreload(m, reload, self.old_objects)\n",
      "  File \"c:\\Users\\Shannon\\anaconda3\\envs\\infer-subc\\lib\\site-packages\\IPython\\extensions\\autoreload.py\", line 496, in superreload\n",
      "    update_generic(old_obj, new_obj)\n",
      "  File \"c:\\Users\\Shannon\\anaconda3\\envs\\infer-subc\\lib\\site-packages\\IPython\\extensions\\autoreload.py\", line 393, in update_generic\n",
      "    update(a, b)\n",
      "  File \"c:\\Users\\Shannon\\anaconda3\\envs\\infer-subc\\lib\\site-packages\\IPython\\extensions\\autoreload.py\", line 305, in update_function\n",
      "    setattr(old, name, getattr(new, name))\n",
      "ValueError: probabilistic_hough_line() requires a code object with 3 free vars, not 0\n",
      "]\n",
      "[autoreload of skimage.transform._geometric failed: Traceback (most recent call last):\n",
      "  File \"c:\\Users\\Shannon\\anaconda3\\envs\\infer-subc\\lib\\site-packages\\IPython\\extensions\\autoreload.py\", line 273, in check\n",
      "    superreload(m, reload, self.old_objects)\n",
      "  File \"c:\\Users\\Shannon\\anaconda3\\envs\\infer-subc\\lib\\site-packages\\IPython\\extensions\\autoreload.py\", line 496, in superreload\n",
      "    update_generic(old_obj, new_obj)\n",
      "  File \"c:\\Users\\Shannon\\anaconda3\\envs\\infer-subc\\lib\\site-packages\\IPython\\extensions\\autoreload.py\", line 393, in update_generic\n",
      "    update(a, b)\n",
      "  File \"c:\\Users\\Shannon\\anaconda3\\envs\\infer-subc\\lib\\site-packages\\IPython\\extensions\\autoreload.py\", line 345, in update_class\n",
      "    if update_generic(old_obj, new_obj):\n",
      "  File \"c:\\Users\\Shannon\\anaconda3\\envs\\infer-subc\\lib\\site-packages\\IPython\\extensions\\autoreload.py\", line 393, in update_generic\n",
      "    update(a, b)\n",
      "  File \"c:\\Users\\Shannon\\anaconda3\\envs\\infer-subc\\lib\\site-packages\\IPython\\extensions\\autoreload.py\", line 305, in update_function\n",
      "    setattr(old, name, getattr(new, name))\n",
      "ValueError: __init__() requires a code object with 1 free vars, not 0\n",
      "]\n",
      "[autoreload of skimage.transform._warps failed: Traceback (most recent call last):\n",
      "  File \"c:\\Users\\Shannon\\anaconda3\\envs\\infer-subc\\lib\\site-packages\\IPython\\extensions\\autoreload.py\", line 273, in check\n",
      "    superreload(m, reload, self.old_objects)\n",
      "  File \"c:\\Users\\Shannon\\anaconda3\\envs\\infer-subc\\lib\\site-packages\\IPython\\extensions\\autoreload.py\", line 496, in superreload\n",
      "    update_generic(old_obj, new_obj)\n",
      "  File \"c:\\Users\\Shannon\\anaconda3\\envs\\infer-subc\\lib\\site-packages\\IPython\\extensions\\autoreload.py\", line 393, in update_generic\n",
      "    update(a, b)\n",
      "  File \"c:\\Users\\Shannon\\anaconda3\\envs\\infer-subc\\lib\\site-packages\\IPython\\extensions\\autoreload.py\", line 305, in update_function\n",
      "    setattr(old, name, getattr(new, name))\n",
      "ValueError: rescale() requires a code object with 2 free vars, not 0\n",
      "]\n",
      "[autoreload of skimage.transform.radon_transform failed: Traceback (most recent call last):\n",
      "  File \"c:\\Users\\Shannon\\anaconda3\\envs\\infer-subc\\lib\\site-packages\\IPython\\extensions\\autoreload.py\", line 273, in check\n",
      "    superreload(m, reload, self.old_objects)\n",
      "  File \"c:\\Users\\Shannon\\anaconda3\\envs\\infer-subc\\lib\\site-packages\\IPython\\extensions\\autoreload.py\", line 496, in superreload\n",
      "    update_generic(old_obj, new_obj)\n",
      "  File \"c:\\Users\\Shannon\\anaconda3\\envs\\infer-subc\\lib\\site-packages\\IPython\\extensions\\autoreload.py\", line 393, in update_generic\n",
      "    update(a, b)\n",
      "  File \"c:\\Users\\Shannon\\anaconda3\\envs\\infer-subc\\lib\\site-packages\\IPython\\extensions\\autoreload.py\", line 305, in update_function\n",
      "    setattr(old, name, getattr(new, name))\n",
      "ValueError: iradon() requires a code object with 0 free vars, not 2\n",
      "]\n",
      "[autoreload of skimage.exposure.exposure failed: Traceback (most recent call last):\n",
      "  File \"c:\\Users\\Shannon\\anaconda3\\envs\\infer-subc\\lib\\site-packages\\IPython\\extensions\\autoreload.py\", line 273, in check\n",
      "    superreload(m, reload, self.old_objects)\n",
      "  File \"c:\\Users\\Shannon\\anaconda3\\envs\\infer-subc\\lib\\site-packages\\IPython\\extensions\\autoreload.py\", line 496, in superreload\n",
      "    update_generic(old_obj, new_obj)\n",
      "  File \"c:\\Users\\Shannon\\anaconda3\\envs\\infer-subc\\lib\\site-packages\\IPython\\extensions\\autoreload.py\", line 393, in update_generic\n",
      "    update(a, b)\n",
      "  File \"c:\\Users\\Shannon\\anaconda3\\envs\\infer-subc\\lib\\site-packages\\IPython\\extensions\\autoreload.py\", line 305, in update_function\n",
      "    setattr(old, name, getattr(new, name))\n",
      "ValueError: histogram() requires a code object with 2 free vars, not 0\n",
      "]\n",
      "[autoreload of skimage.filters.thresholding failed: Traceback (most recent call last):\n",
      "  File \"c:\\Users\\Shannon\\anaconda3\\envs\\infer-subc\\lib\\site-packages\\IPython\\extensions\\autoreload.py\", line 273, in check\n",
      "    superreload(m, reload, self.old_objects)\n",
      "  File \"c:\\Users\\Shannon\\anaconda3\\envs\\infer-subc\\lib\\site-packages\\IPython\\extensions\\autoreload.py\", line 496, in superreload\n",
      "    update_generic(old_obj, new_obj)\n",
      "  File \"c:\\Users\\Shannon\\anaconda3\\envs\\infer-subc\\lib\\site-packages\\IPython\\extensions\\autoreload.py\", line 393, in update_generic\n",
      "    update(a, b)\n",
      "  File \"c:\\Users\\Shannon\\anaconda3\\envs\\infer-subc\\lib\\site-packages\\IPython\\extensions\\autoreload.py\", line 305, in update_function\n",
      "    setattr(old, name, getattr(new, name))\n",
      "ValueError: try_all_threshold() requires a code object with 3 free vars, not 0\n",
      "]\n",
      "[autoreload of skimage.segmentation.random_walker_segmentation failed: Traceback (most recent call last):\n",
      "  File \"c:\\Users\\Shannon\\anaconda3\\envs\\infer-subc\\lib\\site-packages\\IPython\\extensions\\autoreload.py\", line 273, in check\n",
      "    superreload(m, reload, self.old_objects)\n",
      "  File \"c:\\Users\\Shannon\\anaconda3\\envs\\infer-subc\\lib\\site-packages\\IPython\\extensions\\autoreload.py\", line 496, in superreload\n",
      "    update_generic(old_obj, new_obj)\n",
      "  File \"c:\\Users\\Shannon\\anaconda3\\envs\\infer-subc\\lib\\site-packages\\IPython\\extensions\\autoreload.py\", line 393, in update_generic\n",
      "    update(a, b)\n",
      "  File \"c:\\Users\\Shannon\\anaconda3\\envs\\infer-subc\\lib\\site-packages\\IPython\\extensions\\autoreload.py\", line 305, in update_function\n",
      "    setattr(old, name, getattr(new, name))\n",
      "ValueError: random_walker() requires a code object with 2 free vars, not 0\n",
      "]\n",
      "[autoreload of skimage.restoration.deconvolution failed: Traceback (most recent call last):\n",
      "  File \"c:\\Users\\Shannon\\anaconda3\\envs\\infer-subc\\lib\\site-packages\\IPython\\extensions\\autoreload.py\", line 273, in check\n",
      "    superreload(m, reload, self.old_objects)\n",
      "  File \"c:\\Users\\Shannon\\anaconda3\\envs\\infer-subc\\lib\\site-packages\\IPython\\extensions\\autoreload.py\", line 496, in superreload\n",
      "    update_generic(old_obj, new_obj)\n",
      "  File \"c:\\Users\\Shannon\\anaconda3\\envs\\infer-subc\\lib\\site-packages\\IPython\\extensions\\autoreload.py\", line 393, in update_generic\n",
      "    update(a, b)\n",
      "  File \"c:\\Users\\Shannon\\anaconda3\\envs\\infer-subc\\lib\\site-packages\\IPython\\extensions\\autoreload.py\", line 305, in update_function\n",
      "    setattr(old, name, getattr(new, name))\n",
      "ValueError: unsupervised_wiener() requires a code object with 3 free vars, not 0\n",
      "]\n",
      "[autoreload of skimage.restoration.unwrap failed: Traceback (most recent call last):\n",
      "  File \"c:\\Users\\Shannon\\anaconda3\\envs\\infer-subc\\lib\\site-packages\\IPython\\extensions\\autoreload.py\", line 273, in check\n",
      "    superreload(m, reload, self.old_objects)\n",
      "  File \"c:\\Users\\Shannon\\anaconda3\\envs\\infer-subc\\lib\\site-packages\\IPython\\extensions\\autoreload.py\", line 496, in superreload\n",
      "    update_generic(old_obj, new_obj)\n",
      "  File \"c:\\Users\\Shannon\\anaconda3\\envs\\infer-subc\\lib\\site-packages\\IPython\\extensions\\autoreload.py\", line 393, in update_generic\n",
      "    update(a, b)\n",
      "  File \"c:\\Users\\Shannon\\anaconda3\\envs\\infer-subc\\lib\\site-packages\\IPython\\extensions\\autoreload.py\", line 305, in update_function\n",
      "    setattr(old, name, getattr(new, name))\n",
      "ValueError: unwrap_phase() requires a code object with 3 free vars, not 0\n",
      "]\n",
      "[autoreload of skimage.restoration._denoise failed: Traceback (most recent call last):\n",
      "  File \"c:\\Users\\Shannon\\anaconda3\\envs\\infer-subc\\lib\\site-packages\\IPython\\extensions\\autoreload.py\", line 273, in check\n",
      "    superreload(m, reload, self.old_objects)\n",
      "  File \"c:\\Users\\Shannon\\anaconda3\\envs\\infer-subc\\lib\\site-packages\\IPython\\extensions\\autoreload.py\", line 496, in superreload\n",
      "    update_generic(old_obj, new_obj)\n",
      "  File \"c:\\Users\\Shannon\\anaconda3\\envs\\infer-subc\\lib\\site-packages\\IPython\\extensions\\autoreload.py\", line 393, in update_generic\n",
      "    update(a, b)\n",
      "  File \"c:\\Users\\Shannon\\anaconda3\\envs\\infer-subc\\lib\\site-packages\\IPython\\extensions\\autoreload.py\", line 305, in update_function\n",
      "    setattr(old, name, getattr(new, name))\n",
      "ValueError: denoise_bilateral() requires a code object with 2 free vars, not 0\n",
      "]\n",
      "[autoreload of skimage.restoration._cycle_spin failed: Traceback (most recent call last):\n",
      "  File \"c:\\Users\\Shannon\\anaconda3\\envs\\infer-subc\\lib\\site-packages\\IPython\\extensions\\autoreload.py\", line 273, in check\n",
      "    superreload(m, reload, self.old_objects)\n",
      "  File \"c:\\Users\\Shannon\\anaconda3\\envs\\infer-subc\\lib\\site-packages\\IPython\\extensions\\autoreload.py\", line 496, in superreload\n",
      "    update_generic(old_obj, new_obj)\n",
      "  File \"c:\\Users\\Shannon\\anaconda3\\envs\\infer-subc\\lib\\site-packages\\IPython\\extensions\\autoreload.py\", line 393, in update_generic\n",
      "    update(a, b)\n",
      "  File \"c:\\Users\\Shannon\\anaconda3\\envs\\infer-subc\\lib\\site-packages\\IPython\\extensions\\autoreload.py\", line 305, in update_function\n",
      "    setattr(old, name, getattr(new, name))\n",
      "ValueError: cycle_spin() requires a code object with 2 free vars, not 0\n",
      "]\n",
      "[autoreload of skimage.restoration.non_local_means failed: Traceback (most recent call last):\n",
      "  File \"c:\\Users\\Shannon\\anaconda3\\envs\\infer-subc\\lib\\site-packages\\IPython\\extensions\\autoreload.py\", line 273, in check\n",
      "    superreload(m, reload, self.old_objects)\n",
      "  File \"c:\\Users\\Shannon\\anaconda3\\envs\\infer-subc\\lib\\site-packages\\IPython\\extensions\\autoreload.py\", line 496, in superreload\n",
      "    update_generic(old_obj, new_obj)\n",
      "  File \"c:\\Users\\Shannon\\anaconda3\\envs\\infer-subc\\lib\\site-packages\\IPython\\extensions\\autoreload.py\", line 393, in update_generic\n",
      "    update(a, b)\n",
      "  File \"c:\\Users\\Shannon\\anaconda3\\envs\\infer-subc\\lib\\site-packages\\IPython\\extensions\\autoreload.py\", line 305, in update_function\n",
      "    setattr(old, name, getattr(new, name))\n",
      "ValueError: denoise_nl_means() requires a code object with 2 free vars, not 0\n",
      "]\n",
      "[autoreload of skimage.restoration.inpaint failed: Traceback (most recent call last):\n",
      "  File \"c:\\Users\\Shannon\\anaconda3\\envs\\infer-subc\\lib\\site-packages\\IPython\\extensions\\autoreload.py\", line 273, in check\n",
      "    superreload(m, reload, self.old_objects)\n",
      "  File \"c:\\Users\\Shannon\\anaconda3\\envs\\infer-subc\\lib\\site-packages\\IPython\\extensions\\autoreload.py\", line 496, in superreload\n",
      "    update_generic(old_obj, new_obj)\n",
      "  File \"c:\\Users\\Shannon\\anaconda3\\envs\\infer-subc\\lib\\site-packages\\IPython\\extensions\\autoreload.py\", line 393, in update_generic\n",
      "    update(a, b)\n",
      "  File \"c:\\Users\\Shannon\\anaconda3\\envs\\infer-subc\\lib\\site-packages\\IPython\\extensions\\autoreload.py\", line 305, in update_function\n",
      "    setattr(old, name, getattr(new, name))\n",
      "ValueError: inpaint_biharmonic() requires a code object with 2 free vars, not 0\n",
      "]\n",
      "[autoreload of skimage.segmentation._felzenszwalb failed: Traceback (most recent call last):\n",
      "  File \"c:\\Users\\Shannon\\anaconda3\\envs\\infer-subc\\lib\\site-packages\\IPython\\extensions\\autoreload.py\", line 273, in check\n",
      "    superreload(m, reload, self.old_objects)\n",
      "  File \"c:\\Users\\Shannon\\anaconda3\\envs\\infer-subc\\lib\\site-packages\\IPython\\extensions\\autoreload.py\", line 496, in superreload\n",
      "    update_generic(old_obj, new_obj)\n",
      "  File \"c:\\Users\\Shannon\\anaconda3\\envs\\infer-subc\\lib\\site-packages\\IPython\\extensions\\autoreload.py\", line 393, in update_generic\n",
      "    update(a, b)\n",
      "  File \"c:\\Users\\Shannon\\anaconda3\\envs\\infer-subc\\lib\\site-packages\\IPython\\extensions\\autoreload.py\", line 305, in update_function\n",
      "    setattr(old, name, getattr(new, name))\n",
      "ValueError: felzenszwalb() requires a code object with 2 free vars, not 0\n",
      "]\n",
      "[autoreload of skimage.segmentation.slic_superpixels failed: Traceback (most recent call last):\n",
      "  File \"c:\\Users\\Shannon\\anaconda3\\envs\\infer-subc\\lib\\site-packages\\IPython\\extensions\\autoreload.py\", line 273, in check\n",
      "    superreload(m, reload, self.old_objects)\n",
      "  File \"c:\\Users\\Shannon\\anaconda3\\envs\\infer-subc\\lib\\site-packages\\IPython\\extensions\\autoreload.py\", line 496, in superreload\n",
      "    update_generic(old_obj, new_obj)\n",
      "  File \"c:\\Users\\Shannon\\anaconda3\\envs\\infer-subc\\lib\\site-packages\\IPython\\extensions\\autoreload.py\", line 393, in update_generic\n",
      "    update(a, b)\n",
      "  File \"c:\\Users\\Shannon\\anaconda3\\envs\\infer-subc\\lib\\site-packages\\IPython\\extensions\\autoreload.py\", line 305, in update_function\n",
      "    setattr(old, name, getattr(new, name))\n",
      "ValueError: slic() requires a code object with 2 free vars, not 0\n",
      "]\n",
      "[autoreload of skimage.segmentation._quickshift failed: Traceback (most recent call last):\n",
      "  File \"c:\\Users\\Shannon\\anaconda3\\envs\\infer-subc\\lib\\site-packages\\IPython\\extensions\\autoreload.py\", line 273, in check\n",
      "    superreload(m, reload, self.old_objects)\n",
      "  File \"c:\\Users\\Shannon\\anaconda3\\envs\\infer-subc\\lib\\site-packages\\IPython\\extensions\\autoreload.py\", line 496, in superreload\n",
      "    update_generic(old_obj, new_obj)\n",
      "  File \"c:\\Users\\Shannon\\anaconda3\\envs\\infer-subc\\lib\\site-packages\\IPython\\extensions\\autoreload.py\", line 393, in update_generic\n",
      "    update(a, b)\n",
      "  File \"c:\\Users\\Shannon\\anaconda3\\envs\\infer-subc\\lib\\site-packages\\IPython\\extensions\\autoreload.py\", line 305, in update_function\n",
      "    setattr(old, name, getattr(new, name))\n",
      "ValueError: quickshift() requires a code object with 3 free vars, not 0\n",
      "]\n"
     ]
    }
   ],
   "source": [
    "###################\n",
    "# POST_PROCESSING\n",
    "###################\n",
    "hole_min_width = 0\n",
    "hole_max_width = 25\n",
    "\n",
    "small_object_width = 1\n",
    "\n",
    "fill_filter_method = \"3D\"\n",
    "\n",
    "cleaned_img2 = fill_and_filter_linear_size(bw_test, \n",
    "                                           hole_min=hole_min_width, \n",
    "                                           hole_max=hole_max_width, \n",
    "                                           min_size=small_object_width,\n",
    "                                           method=fill_filter_method)\n"
   ]
  },
  {
   "cell_type": "code",
   "execution_count": 11,
   "metadata": {},
   "outputs": [],
   "source": [
    "viewer = napari.Viewer()"
   ]
  },
  {
   "cell_type": "code",
   "execution_count": 12,
   "metadata": {},
   "outputs": [
    {
     "data": {
      "text/plain": [
       "<Image layer 'cleaned_img2' at 0x19b9d19e440>"
      ]
     },
     "execution_count": 12,
     "metadata": {},
     "output_type": "execute_result"
    }
   ],
   "source": [
    "viewer.add_image(img_data)\n",
    "\n",
    "viewer.add_image(struct_img)\n",
    "\n",
    "viewer.add_image(cleaned_img2, colormap=\"cyan\", opacity=0.3)"
   ]
  },
  {
   "cell_type": "markdown",
   "metadata": {},
   "source": [
    "#### Labeling TEST"
   ]
  },
  {
   "cell_type": "code",
   "execution_count": 13,
   "metadata": {},
   "outputs": [
    {
     "name": "stderr",
     "output_type": "stream",
     "text": [
      "[autoreload of skimage.measure._colocalization failed: Traceback (most recent call last):\n",
      "  File \"c:\\Users\\Shannon\\anaconda3\\envs\\infer-subc\\lib\\site-packages\\IPython\\extensions\\autoreload.py\", line 273, in check\n",
      "    superreload(m, reload, self.old_objects)\n",
      "  File \"c:\\Users\\Shannon\\anaconda3\\envs\\infer-subc\\lib\\site-packages\\IPython\\extensions\\autoreload.py\", line 471, in superreload\n",
      "    module = reload(module)\n",
      "  File \"c:\\Users\\Shannon\\anaconda3\\envs\\infer-subc\\lib\\importlib\\__init__.py\", line 169, in reload\n",
      "    _bootstrap._exec(spec, module)\n",
      "  File \"<frozen importlib._bootstrap>\", line 619, in _exec\n",
      "  File \"<frozen importlib._bootstrap_external>\", line 883, in exec_module\n",
      "  File \"<frozen importlib._bootstrap>\", line 241, in _call_with_frames_removed\n",
      "  File \"c:\\Users\\Shannon\\anaconda3\\envs\\infer-subc\\lib\\site-packages\\skimage\\measure\\_colocalization.py\", line 4, in <module>\n",
      "    from .._shared.utils import check_shape_equality, as_binary_ndarray\n",
      "ImportError: cannot import name 'as_binary_ndarray' from 'skimage._shared.utils' (c:\\Users\\Shannon\\anaconda3\\envs\\infer-subc\\lib\\site-packages\\skimage\\_shared\\utils.py)\n",
      "]\n",
      "[autoreload of skimage.morphology.gray failed: Traceback (most recent call last):\n",
      "  File \"c:\\Users\\Shannon\\anaconda3\\envs\\infer-subc\\lib\\site-packages\\IPython\\extensions\\autoreload.py\", line 273, in check\n",
      "    superreload(m, reload, self.old_objects)\n",
      "  File \"c:\\Users\\Shannon\\anaconda3\\envs\\infer-subc\\lib\\site-packages\\IPython\\extensions\\autoreload.py\", line 471, in superreload\n",
      "    module = reload(module)\n",
      "  File \"c:\\Users\\Shannon\\anaconda3\\envs\\infer-subc\\lib\\importlib\\__init__.py\", line 169, in reload\n",
      "    _bootstrap._exec(spec, module)\n",
      "  File \"<frozen importlib._bootstrap>\", line 619, in _exec\n",
      "  File \"<frozen importlib._bootstrap_external>\", line 883, in exec_module\n",
      "  File \"<frozen importlib._bootstrap>\", line 241, in _call_with_frames_removed\n",
      "  File \"c:\\Users\\Shannon\\anaconda3\\envs\\infer-subc\\lib\\site-packages\\skimage\\morphology\\gray.py\", line 11, in <module>\n",
      "    from .misc import default_footprint\n",
      "ImportError: cannot import name 'default_footprint' from 'skimage.morphology.misc' (c:\\Users\\Shannon\\anaconda3\\envs\\infer-subc\\lib\\site-packages\\skimage\\morphology\\misc.py)\n",
      "]\n",
      "[autoreload of skimage.morphology.grayreconstruct failed: Traceback (most recent call last):\n",
      "  File \"c:\\Users\\Shannon\\anaconda3\\envs\\infer-subc\\lib\\site-packages\\IPython\\extensions\\autoreload.py\", line 273, in check\n",
      "    superreload(m, reload, self.old_objects)\n",
      "  File \"c:\\Users\\Shannon\\anaconda3\\envs\\infer-subc\\lib\\site-packages\\IPython\\extensions\\autoreload.py\", line 471, in superreload\n",
      "    module = reload(module)\n",
      "  File \"c:\\Users\\Shannon\\anaconda3\\envs\\infer-subc\\lib\\importlib\\__init__.py\", line 169, in reload\n",
      "    _bootstrap._exec(spec, module)\n",
      "  File \"<frozen importlib._bootstrap>\", line 619, in _exec\n",
      "  File \"<frozen importlib._bootstrap_external>\", line 883, in exec_module\n",
      "  File \"<frozen importlib._bootstrap>\", line 241, in _call_with_frames_removed\n",
      "  File \"c:\\Users\\Shannon\\anaconda3\\envs\\infer-subc\\lib\\site-packages\\skimage\\morphology\\grayreconstruct.py\", line 3, in <module>\n",
      "    from .._shared.utils import _supported_float_type\n",
      "ImportError: cannot import name '_supported_float_type' from 'skimage._shared.utils' (c:\\Users\\Shannon\\anaconda3\\envs\\infer-subc\\lib\\site-packages\\skimage\\_shared\\utils.py)\n",
      "]\n",
      "[autoreload of skimage._shared.filters failed: Traceback (most recent call last):\n",
      "  File \"c:\\Users\\Shannon\\anaconda3\\envs\\infer-subc\\lib\\site-packages\\IPython\\extensions\\autoreload.py\", line 273, in check\n",
      "    superreload(m, reload, self.old_objects)\n",
      "  File \"c:\\Users\\Shannon\\anaconda3\\envs\\infer-subc\\lib\\site-packages\\IPython\\extensions\\autoreload.py\", line 471, in superreload\n",
      "    module = reload(module)\n",
      "  File \"c:\\Users\\Shannon\\anaconda3\\envs\\infer-subc\\lib\\importlib\\__init__.py\", line 169, in reload\n",
      "    _bootstrap._exec(spec, module)\n",
      "  File \"<frozen importlib._bootstrap>\", line 619, in _exec\n",
      "  File \"<frozen importlib._bootstrap_external>\", line 883, in exec_module\n",
      "  File \"<frozen importlib._bootstrap>\", line 241, in _call_with_frames_removed\n",
      "  File \"c:\\Users\\Shannon\\anaconda3\\envs\\infer-subc\\lib\\site-packages\\skimage\\_shared\\filters.py\", line 12, in <module>\n",
      "    from .._shared.utils import _supported_float_type, convert_to_float, warn\n",
      "ImportError: cannot import name '_supported_float_type' from 'skimage._shared.utils' (c:\\Users\\Shannon\\anaconda3\\envs\\infer-subc\\lib\\site-packages\\skimage\\_shared\\utils.py)\n",
      "]\n",
      "[autoreload of skimage.exposure.histogram_matching failed: Traceback (most recent call last):\n",
      "  File \"c:\\Users\\Shannon\\anaconda3\\envs\\infer-subc\\lib\\site-packages\\IPython\\extensions\\autoreload.py\", line 273, in check\n",
      "    superreload(m, reload, self.old_objects)\n",
      "  File \"c:\\Users\\Shannon\\anaconda3\\envs\\infer-subc\\lib\\site-packages\\IPython\\extensions\\autoreload.py\", line 496, in superreload\n",
      "    update_generic(old_obj, new_obj)\n",
      "  File \"c:\\Users\\Shannon\\anaconda3\\envs\\infer-subc\\lib\\site-packages\\IPython\\extensions\\autoreload.py\", line 393, in update_generic\n",
      "    update(a, b)\n",
      "  File \"c:\\Users\\Shannon\\anaconda3\\envs\\infer-subc\\lib\\site-packages\\IPython\\extensions\\autoreload.py\", line 305, in update_function\n",
      "    setattr(old, name, getattr(new, name))\n",
      "ValueError: match_histograms() requires a code object with 0 free vars, not 2\n",
      "]\n",
      "[autoreload of skimage.util._montage failed: Traceback (most recent call last):\n",
      "  File \"c:\\Users\\Shannon\\anaconda3\\envs\\infer-subc\\lib\\site-packages\\IPython\\extensions\\autoreload.py\", line 273, in check\n",
      "    superreload(m, reload, self.old_objects)\n",
      "  File \"c:\\Users\\Shannon\\anaconda3\\envs\\infer-subc\\lib\\site-packages\\IPython\\extensions\\autoreload.py\", line 496, in superreload\n",
      "    update_generic(old_obj, new_obj)\n",
      "  File \"c:\\Users\\Shannon\\anaconda3\\envs\\infer-subc\\lib\\site-packages\\IPython\\extensions\\autoreload.py\", line 393, in update_generic\n",
      "    update(a, b)\n",
      "  File \"c:\\Users\\Shannon\\anaconda3\\envs\\infer-subc\\lib\\site-packages\\IPython\\extensions\\autoreload.py\", line 305, in update_function\n",
      "    setattr(old, name, getattr(new, name))\n",
      "ValueError: montage() requires a code object with 0 free vars, not 2\n",
      "]\n",
      "[autoreload of skimage.util.noise failed: Traceback (most recent call last):\n",
      "  File \"c:\\Users\\Shannon\\anaconda3\\envs\\infer-subc\\lib\\site-packages\\IPython\\extensions\\autoreload.py\", line 273, in check\n",
      "    superreload(m, reload, self.old_objects)\n",
      "  File \"c:\\Users\\Shannon\\anaconda3\\envs\\infer-subc\\lib\\site-packages\\IPython\\extensions\\autoreload.py\", line 496, in superreload\n",
      "    update_generic(old_obj, new_obj)\n",
      "  File \"c:\\Users\\Shannon\\anaconda3\\envs\\infer-subc\\lib\\site-packages\\IPython\\extensions\\autoreload.py\", line 393, in update_generic\n",
      "    update(a, b)\n",
      "  File \"c:\\Users\\Shannon\\anaconda3\\envs\\infer-subc\\lib\\site-packages\\IPython\\extensions\\autoreload.py\", line 305, in update_function\n",
      "    setattr(old, name, getattr(new, name))\n",
      "ValueError: random_noise() requires a code object with 0 free vars, not 3\n",
      "]\n",
      "[autoreload of skimage.data._binary_blobs failed: Traceback (most recent call last):\n",
      "  File \"c:\\Users\\Shannon\\anaconda3\\envs\\infer-subc\\lib\\site-packages\\IPython\\extensions\\autoreload.py\", line 273, in check\n",
      "    superreload(m, reload, self.old_objects)\n",
      "  File \"c:\\Users\\Shannon\\anaconda3\\envs\\infer-subc\\lib\\site-packages\\IPython\\extensions\\autoreload.py\", line 496, in superreload\n",
      "    update_generic(old_obj, new_obj)\n",
      "  File \"c:\\Users\\Shannon\\anaconda3\\envs\\infer-subc\\lib\\site-packages\\IPython\\extensions\\autoreload.py\", line 393, in update_generic\n",
      "    update(a, b)\n",
      "  File \"c:\\Users\\Shannon\\anaconda3\\envs\\infer-subc\\lib\\site-packages\\IPython\\extensions\\autoreload.py\", line 305, in update_function\n",
      "    setattr(old, name, getattr(new, name))\n",
      "ValueError: binary_blobs() requires a code object with 0 free vars, not 3\n",
      "]\n",
      "[autoreload of skimage.measure._find_contours failed: Traceback (most recent call last):\n",
      "  File \"c:\\Users\\Shannon\\anaconda3\\envs\\infer-subc\\lib\\site-packages\\IPython\\extensions\\autoreload.py\", line 273, in check\n",
      "    superreload(m, reload, self.old_objects)\n",
      "  File \"c:\\Users\\Shannon\\anaconda3\\envs\\infer-subc\\lib\\site-packages\\IPython\\extensions\\autoreload.py\", line 496, in superreload\n",
      "    update_generic(old_obj, new_obj)\n",
      "  File \"c:\\Users\\Shannon\\anaconda3\\envs\\infer-subc\\lib\\site-packages\\IPython\\extensions\\autoreload.py\", line 393, in update_generic\n",
      "    update(a, b)\n",
      "  File \"c:\\Users\\Shannon\\anaconda3\\envs\\infer-subc\\lib\\site-packages\\IPython\\extensions\\autoreload.py\", line 305, in update_function\n",
      "    setattr(old, name, getattr(new, name))\n",
      "ValueError: find_contours() requires a code object with 2 free vars, not 0\n",
      "]\n",
      "[autoreload of skimage.measure.fit failed: Traceback (most recent call last):\n",
      "  File \"c:\\Users\\Shannon\\anaconda3\\envs\\infer-subc\\lib\\site-packages\\IPython\\extensions\\autoreload.py\", line 273, in check\n",
      "    superreload(m, reload, self.old_objects)\n",
      "  File \"c:\\Users\\Shannon\\anaconda3\\envs\\infer-subc\\lib\\site-packages\\IPython\\extensions\\autoreload.py\", line 496, in superreload\n",
      "    update_generic(old_obj, new_obj)\n",
      "  File \"c:\\Users\\Shannon\\anaconda3\\envs\\infer-subc\\lib\\site-packages\\IPython\\extensions\\autoreload.py\", line 393, in update_generic\n",
      "    update(a, b)\n",
      "  File \"c:\\Users\\Shannon\\anaconda3\\envs\\infer-subc\\lib\\site-packages\\IPython\\extensions\\autoreload.py\", line 305, in update_function\n",
      "    setattr(old, name, getattr(new, name))\n",
      "ValueError: ransac() requires a code object with 0 free vars, not 3\n",
      "]\n",
      "[autoreload of skimage.color.colorconv failed: Traceback (most recent call last):\n",
      "  File \"c:\\Users\\Shannon\\anaconda3\\envs\\infer-subc\\lib\\site-packages\\IPython\\extensions\\autoreload.py\", line 273, in check\n",
      "    superreload(m, reload, self.old_objects)\n",
      "  File \"c:\\Users\\Shannon\\anaconda3\\envs\\infer-subc\\lib\\site-packages\\IPython\\extensions\\autoreload.py\", line 496, in superreload\n",
      "    update_generic(old_obj, new_obj)\n",
      "  File \"c:\\Users\\Shannon\\anaconda3\\envs\\infer-subc\\lib\\site-packages\\IPython\\extensions\\autoreload.py\", line 393, in update_generic\n",
      "    update(a, b)\n",
      "  File \"c:\\Users\\Shannon\\anaconda3\\envs\\infer-subc\\lib\\site-packages\\IPython\\extensions\\autoreload.py\", line 305, in update_function\n",
      "    setattr(old, name, getattr(new, name))\n",
      "ValueError: rgb2hsv() requires a code object with 0 free vars, not 2\n",
      "]\n",
      "[autoreload of skimage.morphology._skeletonize failed: Traceback (most recent call last):\n",
      "  File \"c:\\Users\\Shannon\\anaconda3\\envs\\infer-subc\\lib\\site-packages\\IPython\\extensions\\autoreload.py\", line 273, in check\n",
      "    superreload(m, reload, self.old_objects)\n",
      "  File \"c:\\Users\\Shannon\\anaconda3\\envs\\infer-subc\\lib\\site-packages\\IPython\\extensions\\autoreload.py\", line 496, in superreload\n",
      "    update_generic(old_obj, new_obj)\n",
      "  File \"c:\\Users\\Shannon\\anaconda3\\envs\\infer-subc\\lib\\site-packages\\IPython\\extensions\\autoreload.py\", line 393, in update_generic\n",
      "    update(a, b)\n",
      "  File \"c:\\Users\\Shannon\\anaconda3\\envs\\infer-subc\\lib\\site-packages\\IPython\\extensions\\autoreload.py\", line 305, in update_function\n",
      "    setattr(old, name, getattr(new, name))\n",
      "ValueError: medial_axis() requires a code object with 0 free vars, not 3\n",
      "]\n",
      "[autoreload of skimage.filters.lpi_filter failed: Traceback (most recent call last):\n",
      "  File \"c:\\Users\\Shannon\\anaconda3\\envs\\infer-subc\\lib\\site-packages\\IPython\\extensions\\autoreload.py\", line 273, in check\n",
      "    superreload(m, reload, self.old_objects)\n",
      "  File \"c:\\Users\\Shannon\\anaconda3\\envs\\infer-subc\\lib\\site-packages\\IPython\\extensions\\autoreload.py\", line 496, in superreload\n",
      "    update_generic(old_obj, new_obj)\n",
      "  File \"c:\\Users\\Shannon\\anaconda3\\envs\\infer-subc\\lib\\site-packages\\IPython\\extensions\\autoreload.py\", line 393, in update_generic\n",
      "    update(a, b)\n",
      "  File \"c:\\Users\\Shannon\\anaconda3\\envs\\infer-subc\\lib\\site-packages\\IPython\\extensions\\autoreload.py\", line 305, in update_function\n",
      "    setattr(old, name, getattr(new, name))\n",
      "ValueError: inverse() requires a code object with 0 free vars, not 4\n",
      "]\n",
      "[autoreload of skimage.feature._hog failed: Traceback (most recent call last):\n",
      "  File \"c:\\Users\\Shannon\\anaconda3\\envs\\infer-subc\\lib\\site-packages\\IPython\\extensions\\autoreload.py\", line 273, in check\n",
      "    superreload(m, reload, self.old_objects)\n",
      "  File \"c:\\Users\\Shannon\\anaconda3\\envs\\infer-subc\\lib\\site-packages\\IPython\\extensions\\autoreload.py\", line 496, in superreload\n",
      "    update_generic(old_obj, new_obj)\n",
      "  File \"c:\\Users\\Shannon\\anaconda3\\envs\\infer-subc\\lib\\site-packages\\IPython\\extensions\\autoreload.py\", line 393, in update_generic\n",
      "    update(a, b)\n",
      "  File \"c:\\Users\\Shannon\\anaconda3\\envs\\infer-subc\\lib\\site-packages\\IPython\\extensions\\autoreload.py\", line 305, in update_function\n",
      "    setattr(old, name, getattr(new, name))\n",
      "ValueError: hog() requires a code object with 0 free vars, not 2\n",
      "]\n",
      "[autoreload of skimage.feature.peak failed: Traceback (most recent call last):\n",
      "  File \"c:\\Users\\Shannon\\anaconda3\\envs\\infer-subc\\lib\\site-packages\\IPython\\extensions\\autoreload.py\", line 273, in check\n",
      "    superreload(m, reload, self.old_objects)\n",
      "  File \"c:\\Users\\Shannon\\anaconda3\\envs\\infer-subc\\lib\\site-packages\\IPython\\extensions\\autoreload.py\", line 496, in superreload\n",
      "    update_generic(old_obj, new_obj)\n",
      "  File \"c:\\Users\\Shannon\\anaconda3\\envs\\infer-subc\\lib\\site-packages\\IPython\\extensions\\autoreload.py\", line 393, in update_generic\n",
      "    update(a, b)\n",
      "  File \"c:\\Users\\Shannon\\anaconda3\\envs\\infer-subc\\lib\\site-packages\\IPython\\extensions\\autoreload.py\", line 305, in update_function\n",
      "    setattr(old, name, getattr(new, name))\n",
      "ValueError: peak_local_max() requires a code object with 4 free vars, not 0\n",
      "]\n",
      "[autoreload of skimage.feature.brief failed: Traceback (most recent call last):\n",
      "  File \"c:\\Users\\Shannon\\anaconda3\\envs\\infer-subc\\lib\\site-packages\\IPython\\extensions\\autoreload.py\", line 273, in check\n",
      "    superreload(m, reload, self.old_objects)\n",
      "  File \"c:\\Users\\Shannon\\anaconda3\\envs\\infer-subc\\lib\\site-packages\\IPython\\extensions\\autoreload.py\", line 496, in superreload\n",
      "    update_generic(old_obj, new_obj)\n",
      "  File \"c:\\Users\\Shannon\\anaconda3\\envs\\infer-subc\\lib\\site-packages\\IPython\\extensions\\autoreload.py\", line 393, in update_generic\n",
      "    update(a, b)\n",
      "  File \"c:\\Users\\Shannon\\anaconda3\\envs\\infer-subc\\lib\\site-packages\\IPython\\extensions\\autoreload.py\", line 345, in update_class\n",
      "    if update_generic(old_obj, new_obj):\n",
      "  File \"c:\\Users\\Shannon\\anaconda3\\envs\\infer-subc\\lib\\site-packages\\IPython\\extensions\\autoreload.py\", line 393, in update_generic\n",
      "    update(a, b)\n",
      "  File \"c:\\Users\\Shannon\\anaconda3\\envs\\infer-subc\\lib\\site-packages\\IPython\\extensions\\autoreload.py\", line 305, in update_function\n",
      "    setattr(old, name, getattr(new, name))\n",
      "ValueError: __init__() requires a code object with 0 free vars, not 3\n",
      "]\n",
      "[autoreload of skimage.feature.haar failed: Traceback (most recent call last):\n",
      "  File \"c:\\Users\\Shannon\\anaconda3\\envs\\infer-subc\\lib\\site-packages\\IPython\\extensions\\autoreload.py\", line 273, in check\n",
      "    superreload(m, reload, self.old_objects)\n",
      "  File \"c:\\Users\\Shannon\\anaconda3\\envs\\infer-subc\\lib\\site-packages\\IPython\\extensions\\autoreload.py\", line 496, in superreload\n",
      "    update_generic(old_obj, new_obj)\n",
      "  File \"c:\\Users\\Shannon\\anaconda3\\envs\\infer-subc\\lib\\site-packages\\IPython\\extensions\\autoreload.py\", line 393, in update_generic\n",
      "    update(a, b)\n",
      "  File \"c:\\Users\\Shannon\\anaconda3\\envs\\infer-subc\\lib\\site-packages\\IPython\\extensions\\autoreload.py\", line 305, in update_function\n",
      "    setattr(old, name, getattr(new, name))\n",
      "ValueError: draw_haar_like_feature() requires a code object with 0 free vars, not 3\n",
      "]\n",
      "[autoreload of skimage.filters.ridges failed: Traceback (most recent call last):\n",
      "  File \"c:\\Users\\Shannon\\anaconda3\\envs\\infer-subc\\lib\\site-packages\\IPython\\extensions\\autoreload.py\", line 273, in check\n",
      "    superreload(m, reload, self.old_objects)\n",
      "  File \"c:\\Users\\Shannon\\anaconda3\\envs\\infer-subc\\lib\\site-packages\\IPython\\extensions\\autoreload.py\", line 496, in superreload\n",
      "    update_generic(old_obj, new_obj)\n",
      "  File \"c:\\Users\\Shannon\\anaconda3\\envs\\infer-subc\\lib\\site-packages\\IPython\\extensions\\autoreload.py\", line 393, in update_generic\n",
      "    update(a, b)\n",
      "  File \"c:\\Users\\Shannon\\anaconda3\\envs\\infer-subc\\lib\\site-packages\\IPython\\extensions\\autoreload.py\", line 305, in update_function\n",
      "    setattr(old, name, getattr(new, name))\n",
      "ValueError: compute_hessian_eigenvalues() requires a code object with 0 free vars, not 4\n",
      "]\n",
      "[autoreload of skimage._shared._geometry failed: Traceback (most recent call last):\n",
      "  File \"c:\\Users\\Shannon\\anaconda3\\envs\\infer-subc\\lib\\site-packages\\IPython\\extensions\\autoreload.py\", line 273, in check\n",
      "    superreload(m, reload, self.old_objects)\n",
      "  File \"c:\\Users\\Shannon\\anaconda3\\envs\\infer-subc\\lib\\site-packages\\IPython\\extensions\\autoreload.py\", line 496, in superreload\n",
      "    update_generic(old_obj, new_obj)\n",
      "  File \"c:\\Users\\Shannon\\anaconda3\\envs\\infer-subc\\lib\\site-packages\\IPython\\extensions\\autoreload.py\", line 393, in update_generic\n",
      "    update(a, b)\n",
      "  File \"c:\\Users\\Shannon\\anaconda3\\envs\\infer-subc\\lib\\site-packages\\IPython\\extensions\\autoreload.py\", line 305, in update_function\n",
      "    setattr(old, name, getattr(new, name))\n",
      "ValueError: polygon_clip() requires a code object with 0 free vars, not 3\n",
      "]\n",
      "[autoreload of skimage.draw.draw failed: Traceback (most recent call last):\n",
      "  File \"c:\\Users\\Shannon\\anaconda3\\envs\\infer-subc\\lib\\site-packages\\IPython\\extensions\\autoreload.py\", line 273, in check\n",
      "    superreload(m, reload, self.old_objects)\n",
      "  File \"c:\\Users\\Shannon\\anaconda3\\envs\\infer-subc\\lib\\site-packages\\IPython\\extensions\\autoreload.py\", line 496, in superreload\n",
      "    update_generic(old_obj, new_obj)\n",
      "  File \"c:\\Users\\Shannon\\anaconda3\\envs\\infer-subc\\lib\\site-packages\\IPython\\extensions\\autoreload.py\", line 393, in update_generic\n",
      "    update(a, b)\n",
      "  File \"c:\\Users\\Shannon\\anaconda3\\envs\\infer-subc\\lib\\site-packages\\IPython\\extensions\\autoreload.py\", line 305, in update_function\n",
      "    setattr(old, name, getattr(new, name))\n",
      "ValueError: polygon_perimeter() requires a code object with 0 free vars, not 3\n",
      "]\n",
      "[autoreload of skimage.transform.hough_transform failed: Traceback (most recent call last):\n",
      "  File \"c:\\Users\\Shannon\\anaconda3\\envs\\infer-subc\\lib\\site-packages\\IPython\\extensions\\autoreload.py\", line 273, in check\n",
      "    superreload(m, reload, self.old_objects)\n",
      "  File \"c:\\Users\\Shannon\\anaconda3\\envs\\infer-subc\\lib\\site-packages\\IPython\\extensions\\autoreload.py\", line 496, in superreload\n",
      "    update_generic(old_obj, new_obj)\n",
      "  File \"c:\\Users\\Shannon\\anaconda3\\envs\\infer-subc\\lib\\site-packages\\IPython\\extensions\\autoreload.py\", line 393, in update_generic\n",
      "    update(a, b)\n",
      "  File \"c:\\Users\\Shannon\\anaconda3\\envs\\infer-subc\\lib\\site-packages\\IPython\\extensions\\autoreload.py\", line 305, in update_function\n",
      "    setattr(old, name, getattr(new, name))\n",
      "ValueError: probabilistic_hough_line() requires a code object with 0 free vars, not 3\n",
      "]\n",
      "[autoreload of skimage.transform._geometric failed: Traceback (most recent call last):\n",
      "  File \"c:\\Users\\Shannon\\anaconda3\\envs\\infer-subc\\lib\\site-packages\\IPython\\extensions\\autoreload.py\", line 273, in check\n",
      "    superreload(m, reload, self.old_objects)\n",
      "  File \"c:\\Users\\Shannon\\anaconda3\\envs\\infer-subc\\lib\\site-packages\\IPython\\extensions\\autoreload.py\", line 496, in superreload\n",
      "    update_generic(old_obj, new_obj)\n",
      "  File \"c:\\Users\\Shannon\\anaconda3\\envs\\infer-subc\\lib\\site-packages\\IPython\\extensions\\autoreload.py\", line 393, in update_generic\n",
      "    update(a, b)\n",
      "  File \"c:\\Users\\Shannon\\anaconda3\\envs\\infer-subc\\lib\\site-packages\\IPython\\extensions\\autoreload.py\", line 345, in update_class\n",
      "    if update_generic(old_obj, new_obj):\n",
      "  File \"c:\\Users\\Shannon\\anaconda3\\envs\\infer-subc\\lib\\site-packages\\IPython\\extensions\\autoreload.py\", line 393, in update_generic\n",
      "    update(a, b)\n",
      "  File \"c:\\Users\\Shannon\\anaconda3\\envs\\infer-subc\\lib\\site-packages\\IPython\\extensions\\autoreload.py\", line 305, in update_function\n",
      "    setattr(old, name, getattr(new, name))\n",
      "ValueError: __init__() requires a code object with 0 free vars, not 1\n",
      "]\n",
      "[autoreload of skimage.transform._warps failed: Traceback (most recent call last):\n",
      "  File \"c:\\Users\\Shannon\\anaconda3\\envs\\infer-subc\\lib\\site-packages\\IPython\\extensions\\autoreload.py\", line 273, in check\n",
      "    superreload(m, reload, self.old_objects)\n",
      "  File \"c:\\Users\\Shannon\\anaconda3\\envs\\infer-subc\\lib\\site-packages\\IPython\\extensions\\autoreload.py\", line 496, in superreload\n",
      "    update_generic(old_obj, new_obj)\n",
      "  File \"c:\\Users\\Shannon\\anaconda3\\envs\\infer-subc\\lib\\site-packages\\IPython\\extensions\\autoreload.py\", line 393, in update_generic\n",
      "    update(a, b)\n",
      "  File \"c:\\Users\\Shannon\\anaconda3\\envs\\infer-subc\\lib\\site-packages\\IPython\\extensions\\autoreload.py\", line 305, in update_function\n",
      "    setattr(old, name, getattr(new, name))\n",
      "ValueError: rescale() requires a code object with 0 free vars, not 2\n",
      "]\n",
      "[autoreload of skimage.transform.radon_transform failed: Traceback (most recent call last):\n",
      "  File \"c:\\Users\\Shannon\\anaconda3\\envs\\infer-subc\\lib\\site-packages\\IPython\\extensions\\autoreload.py\", line 273, in check\n",
      "    superreload(m, reload, self.old_objects)\n",
      "  File \"c:\\Users\\Shannon\\anaconda3\\envs\\infer-subc\\lib\\site-packages\\IPython\\extensions\\autoreload.py\", line 496, in superreload\n",
      "    update_generic(old_obj, new_obj)\n",
      "  File \"c:\\Users\\Shannon\\anaconda3\\envs\\infer-subc\\lib\\site-packages\\IPython\\extensions\\autoreload.py\", line 393, in update_generic\n",
      "    update(a, b)\n",
      "  File \"c:\\Users\\Shannon\\anaconda3\\envs\\infer-subc\\lib\\site-packages\\IPython\\extensions\\autoreload.py\", line 305, in update_function\n",
      "    setattr(old, name, getattr(new, name))\n",
      "ValueError: iradon() requires a code object with 2 free vars, not 0\n",
      "]\n",
      "[autoreload of skimage.exposure.exposure failed: Traceback (most recent call last):\n",
      "  File \"c:\\Users\\Shannon\\anaconda3\\envs\\infer-subc\\lib\\site-packages\\IPython\\extensions\\autoreload.py\", line 273, in check\n",
      "    superreload(m, reload, self.old_objects)\n",
      "  File \"c:\\Users\\Shannon\\anaconda3\\envs\\infer-subc\\lib\\site-packages\\IPython\\extensions\\autoreload.py\", line 496, in superreload\n",
      "    update_generic(old_obj, new_obj)\n",
      "  File \"c:\\Users\\Shannon\\anaconda3\\envs\\infer-subc\\lib\\site-packages\\IPython\\extensions\\autoreload.py\", line 393, in update_generic\n",
      "    update(a, b)\n",
      "  File \"c:\\Users\\Shannon\\anaconda3\\envs\\infer-subc\\lib\\site-packages\\IPython\\extensions\\autoreload.py\", line 305, in update_function\n",
      "    setattr(old, name, getattr(new, name))\n",
      "ValueError: histogram() requires a code object with 0 free vars, not 2\n",
      "]\n",
      "[autoreload of skimage.filters.thresholding failed: Traceback (most recent call last):\n",
      "  File \"c:\\Users\\Shannon\\anaconda3\\envs\\infer-subc\\lib\\site-packages\\IPython\\extensions\\autoreload.py\", line 273, in check\n",
      "    superreload(m, reload, self.old_objects)\n",
      "  File \"c:\\Users\\Shannon\\anaconda3\\envs\\infer-subc\\lib\\site-packages\\IPython\\extensions\\autoreload.py\", line 496, in superreload\n",
      "    update_generic(old_obj, new_obj)\n",
      "  File \"c:\\Users\\Shannon\\anaconda3\\envs\\infer-subc\\lib\\site-packages\\IPython\\extensions\\autoreload.py\", line 393, in update_generic\n",
      "    update(a, b)\n",
      "  File \"c:\\Users\\Shannon\\anaconda3\\envs\\infer-subc\\lib\\site-packages\\IPython\\extensions\\autoreload.py\", line 305, in update_function\n",
      "    setattr(old, name, getattr(new, name))\n",
      "ValueError: try_all_threshold() requires a code object with 0 free vars, not 3\n",
      "]\n",
      "[autoreload of skimage.segmentation.random_walker_segmentation failed: Traceback (most recent call last):\n",
      "  File \"c:\\Users\\Shannon\\anaconda3\\envs\\infer-subc\\lib\\site-packages\\IPython\\extensions\\autoreload.py\", line 273, in check\n",
      "    superreload(m, reload, self.old_objects)\n",
      "  File \"c:\\Users\\Shannon\\anaconda3\\envs\\infer-subc\\lib\\site-packages\\IPython\\extensions\\autoreload.py\", line 496, in superreload\n",
      "    update_generic(old_obj, new_obj)\n",
      "  File \"c:\\Users\\Shannon\\anaconda3\\envs\\infer-subc\\lib\\site-packages\\IPython\\extensions\\autoreload.py\", line 393, in update_generic\n",
      "    update(a, b)\n",
      "  File \"c:\\Users\\Shannon\\anaconda3\\envs\\infer-subc\\lib\\site-packages\\IPython\\extensions\\autoreload.py\", line 305, in update_function\n",
      "    setattr(old, name, getattr(new, name))\n",
      "ValueError: random_walker() requires a code object with 0 free vars, not 2\n",
      "]\n",
      "[autoreload of skimage.restoration.deconvolution failed: Traceback (most recent call last):\n",
      "  File \"c:\\Users\\Shannon\\anaconda3\\envs\\infer-subc\\lib\\site-packages\\IPython\\extensions\\autoreload.py\", line 273, in check\n",
      "    superreload(m, reload, self.old_objects)\n",
      "  File \"c:\\Users\\Shannon\\anaconda3\\envs\\infer-subc\\lib\\site-packages\\IPython\\extensions\\autoreload.py\", line 496, in superreload\n",
      "    update_generic(old_obj, new_obj)\n",
      "  File \"c:\\Users\\Shannon\\anaconda3\\envs\\infer-subc\\lib\\site-packages\\IPython\\extensions\\autoreload.py\", line 393, in update_generic\n",
      "    update(a, b)\n",
      "  File \"c:\\Users\\Shannon\\anaconda3\\envs\\infer-subc\\lib\\site-packages\\IPython\\extensions\\autoreload.py\", line 305, in update_function\n",
      "    setattr(old, name, getattr(new, name))\n",
      "ValueError: unsupervised_wiener() requires a code object with 0 free vars, not 3\n",
      "]\n",
      "[autoreload of skimage.restoration.unwrap failed: Traceback (most recent call last):\n",
      "  File \"c:\\Users\\Shannon\\anaconda3\\envs\\infer-subc\\lib\\site-packages\\IPython\\extensions\\autoreload.py\", line 273, in check\n",
      "    superreload(m, reload, self.old_objects)\n",
      "  File \"c:\\Users\\Shannon\\anaconda3\\envs\\infer-subc\\lib\\site-packages\\IPython\\extensions\\autoreload.py\", line 496, in superreload\n",
      "    update_generic(old_obj, new_obj)\n",
      "  File \"c:\\Users\\Shannon\\anaconda3\\envs\\infer-subc\\lib\\site-packages\\IPython\\extensions\\autoreload.py\", line 393, in update_generic\n",
      "    update(a, b)\n",
      "  File \"c:\\Users\\Shannon\\anaconda3\\envs\\infer-subc\\lib\\site-packages\\IPython\\extensions\\autoreload.py\", line 305, in update_function\n",
      "    setattr(old, name, getattr(new, name))\n",
      "ValueError: unwrap_phase() requires a code object with 0 free vars, not 3\n",
      "]\n",
      "[autoreload of skimage.restoration._denoise failed: Traceback (most recent call last):\n",
      "  File \"c:\\Users\\Shannon\\anaconda3\\envs\\infer-subc\\lib\\site-packages\\IPython\\extensions\\autoreload.py\", line 273, in check\n",
      "    superreload(m, reload, self.old_objects)\n",
      "  File \"c:\\Users\\Shannon\\anaconda3\\envs\\infer-subc\\lib\\site-packages\\IPython\\extensions\\autoreload.py\", line 496, in superreload\n",
      "    update_generic(old_obj, new_obj)\n",
      "  File \"c:\\Users\\Shannon\\anaconda3\\envs\\infer-subc\\lib\\site-packages\\IPython\\extensions\\autoreload.py\", line 393, in update_generic\n",
      "    update(a, b)\n",
      "  File \"c:\\Users\\Shannon\\anaconda3\\envs\\infer-subc\\lib\\site-packages\\IPython\\extensions\\autoreload.py\", line 305, in update_function\n",
      "    setattr(old, name, getattr(new, name))\n",
      "ValueError: denoise_bilateral() requires a code object with 0 free vars, not 2\n",
      "]\n",
      "[autoreload of skimage.restoration._cycle_spin failed: Traceback (most recent call last):\n",
      "  File \"c:\\Users\\Shannon\\anaconda3\\envs\\infer-subc\\lib\\site-packages\\IPython\\extensions\\autoreload.py\", line 273, in check\n",
      "    superreload(m, reload, self.old_objects)\n",
      "  File \"c:\\Users\\Shannon\\anaconda3\\envs\\infer-subc\\lib\\site-packages\\IPython\\extensions\\autoreload.py\", line 496, in superreload\n",
      "    update_generic(old_obj, new_obj)\n",
      "  File \"c:\\Users\\Shannon\\anaconda3\\envs\\infer-subc\\lib\\site-packages\\IPython\\extensions\\autoreload.py\", line 393, in update_generic\n",
      "    update(a, b)\n",
      "  File \"c:\\Users\\Shannon\\anaconda3\\envs\\infer-subc\\lib\\site-packages\\IPython\\extensions\\autoreload.py\", line 305, in update_function\n",
      "    setattr(old, name, getattr(new, name))\n",
      "ValueError: cycle_spin() requires a code object with 0 free vars, not 2\n",
      "]\n",
      "[autoreload of skimage.restoration.non_local_means failed: Traceback (most recent call last):\n",
      "  File \"c:\\Users\\Shannon\\anaconda3\\envs\\infer-subc\\lib\\site-packages\\IPython\\extensions\\autoreload.py\", line 273, in check\n",
      "    superreload(m, reload, self.old_objects)\n",
      "  File \"c:\\Users\\Shannon\\anaconda3\\envs\\infer-subc\\lib\\site-packages\\IPython\\extensions\\autoreload.py\", line 496, in superreload\n",
      "    update_generic(old_obj, new_obj)\n",
      "  File \"c:\\Users\\Shannon\\anaconda3\\envs\\infer-subc\\lib\\site-packages\\IPython\\extensions\\autoreload.py\", line 393, in update_generic\n",
      "    update(a, b)\n",
      "  File \"c:\\Users\\Shannon\\anaconda3\\envs\\infer-subc\\lib\\site-packages\\IPython\\extensions\\autoreload.py\", line 305, in update_function\n",
      "    setattr(old, name, getattr(new, name))\n",
      "ValueError: denoise_nl_means() requires a code object with 0 free vars, not 2\n",
      "]\n",
      "[autoreload of skimage.restoration.inpaint failed: Traceback (most recent call last):\n",
      "  File \"c:\\Users\\Shannon\\anaconda3\\envs\\infer-subc\\lib\\site-packages\\IPython\\extensions\\autoreload.py\", line 273, in check\n",
      "    superreload(m, reload, self.old_objects)\n",
      "  File \"c:\\Users\\Shannon\\anaconda3\\envs\\infer-subc\\lib\\site-packages\\IPython\\extensions\\autoreload.py\", line 496, in superreload\n",
      "    update_generic(old_obj, new_obj)\n",
      "  File \"c:\\Users\\Shannon\\anaconda3\\envs\\infer-subc\\lib\\site-packages\\IPython\\extensions\\autoreload.py\", line 393, in update_generic\n",
      "    update(a, b)\n",
      "  File \"c:\\Users\\Shannon\\anaconda3\\envs\\infer-subc\\lib\\site-packages\\IPython\\extensions\\autoreload.py\", line 305, in update_function\n",
      "    setattr(old, name, getattr(new, name))\n",
      "ValueError: inpaint_biharmonic() requires a code object with 0 free vars, not 2\n",
      "]\n",
      "[autoreload of skimage.segmentation._felzenszwalb failed: Traceback (most recent call last):\n",
      "  File \"c:\\Users\\Shannon\\anaconda3\\envs\\infer-subc\\lib\\site-packages\\IPython\\extensions\\autoreload.py\", line 273, in check\n",
      "    superreload(m, reload, self.old_objects)\n",
      "  File \"c:\\Users\\Shannon\\anaconda3\\envs\\infer-subc\\lib\\site-packages\\IPython\\extensions\\autoreload.py\", line 496, in superreload\n",
      "    update_generic(old_obj, new_obj)\n",
      "  File \"c:\\Users\\Shannon\\anaconda3\\envs\\infer-subc\\lib\\site-packages\\IPython\\extensions\\autoreload.py\", line 393, in update_generic\n",
      "    update(a, b)\n",
      "  File \"c:\\Users\\Shannon\\anaconda3\\envs\\infer-subc\\lib\\site-packages\\IPython\\extensions\\autoreload.py\", line 305, in update_function\n",
      "    setattr(old, name, getattr(new, name))\n",
      "ValueError: felzenszwalb() requires a code object with 0 free vars, not 2\n",
      "]\n",
      "[autoreload of skimage.segmentation.slic_superpixels failed: Traceback (most recent call last):\n",
      "  File \"c:\\Users\\Shannon\\anaconda3\\envs\\infer-subc\\lib\\site-packages\\IPython\\extensions\\autoreload.py\", line 273, in check\n",
      "    superreload(m, reload, self.old_objects)\n",
      "  File \"c:\\Users\\Shannon\\anaconda3\\envs\\infer-subc\\lib\\site-packages\\IPython\\extensions\\autoreload.py\", line 496, in superreload\n",
      "    update_generic(old_obj, new_obj)\n",
      "  File \"c:\\Users\\Shannon\\anaconda3\\envs\\infer-subc\\lib\\site-packages\\IPython\\extensions\\autoreload.py\", line 393, in update_generic\n",
      "    update(a, b)\n",
      "  File \"c:\\Users\\Shannon\\anaconda3\\envs\\infer-subc\\lib\\site-packages\\IPython\\extensions\\autoreload.py\", line 305, in update_function\n",
      "    setattr(old, name, getattr(new, name))\n",
      "ValueError: slic() requires a code object with 0 free vars, not 2\n",
      "]\n",
      "[autoreload of skimage.segmentation._quickshift failed: Traceback (most recent call last):\n",
      "  File \"c:\\Users\\Shannon\\anaconda3\\envs\\infer-subc\\lib\\site-packages\\IPython\\extensions\\autoreload.py\", line 273, in check\n",
      "    superreload(m, reload, self.old_objects)\n",
      "  File \"c:\\Users\\Shannon\\anaconda3\\envs\\infer-subc\\lib\\site-packages\\IPython\\extensions\\autoreload.py\", line 496, in superreload\n",
      "    update_generic(old_obj, new_obj)\n",
      "  File \"c:\\Users\\Shannon\\anaconda3\\envs\\infer-subc\\lib\\site-packages\\IPython\\extensions\\autoreload.py\", line 393, in update_generic\n",
      "    update(a, b)\n",
      "  File \"c:\\Users\\Shannon\\anaconda3\\envs\\infer-subc\\lib\\site-packages\\IPython\\extensions\\autoreload.py\", line 305, in update_function\n",
      "    setattr(old, name, getattr(new, name))\n",
      "ValueError: quickshift() requires a code object with 0 free vars, not 3\n",
      "]\n"
     ]
    }
   ],
   "source": [
    "lyso_basic_labels = label(cleaned_img2)\n",
    "viewer.add_image(lyso_basic_labels)\n",
    "\n",
    "unique_IDs = np.unique(lyso_basic_labels)"
   ]
  },
  {
   "cell_type": "code",
   "execution_count": 74,
   "metadata": {},
   "outputs": [
    {
     "data": {
      "text/plain": [
       "(array([0, 2]), array([0, 3]), array([0, 4]), array([0, 5]))"
      ]
     },
     "execution_count": 74,
     "metadata": {},
     "output_type": "execute_result"
    }
   ],
   "source": [
    "obj_two = (lyso_basic_labels==2)*2\n",
    "obj_three = (lyso_basic_labels==3)*3\n",
    "obj_four = (lyso_basic_labels==4)*4\n",
    "obj_five = (lyso_basic_labels==5)*5\n",
    "np.unique(obj_two), np.unique(obj_three), np.unique(obj_four), np.unique(obj_five)"
   ]
  },
  {
   "cell_type": "code",
   "execution_count": 75,
   "metadata": {},
   "outputs": [
    {
     "data": {
      "text/plain": [
       "(array([0, 2, 4]), array([0, 3, 5]))"
      ]
     },
     "execution_count": 75,
     "metadata": {},
     "output_type": "execute_result"
    }
   ],
   "source": [
    "new_array_even = np.add(obj_four, obj_two)\n",
    "new_array_odd = np.add(obj_three, obj_five)\n",
    "\n",
    "np.unique(new_array_even), np.unique(new_array_odd)"
   ]
  },
  {
   "cell_type": "code",
   "execution_count": 87,
   "metadata": {},
   "outputs": [
    {
     "data": {
      "text/plain": [
       "array([0, 2, 3, 4, 5])"
      ]
     },
     "execution_count": 87,
     "metadata": {},
     "output_type": "execute_result"
    }
   ],
   "source": [
    "combined_array = np.add(new_array_even, new_array_odd)\n",
    "np.unique(combined_array)"
   ]
  },
  {
   "cell_type": "code",
   "execution_count": 93,
   "metadata": {},
   "outputs": [
    {
     "data": {
      "text/plain": [
       "array([0, 6, 7, 8, 9])"
      ]
     },
     "execution_count": 93,
     "metadata": {},
     "output_type": "execute_result"
    }
   ],
   "source": [
    "renumber_array = skimage.segmentation.relabel_sequential(combined_array, 6)\n",
    "np.unique(renumber_array[0])"
   ]
  },
  {
   "cell_type": "code",
   "execution_count": 70,
   "metadata": {},
   "outputs": [
    {
     "data": {
      "text/plain": [
       "array([0, 2, 4])"
      ]
     },
     "execution_count": 70,
     "metadata": {},
     "output_type": "execute_result"
    }
   ],
   "source": [
    "np.unique(new_array)"
   ]
  },
  {
   "cell_type": "code",
   "execution_count": 31,
   "metadata": {},
   "outputs": [
    {
     "data": {
      "text/plain": [
       "1"
      ]
     },
     "execution_count": 31,
     "metadata": {},
     "output_type": "execute_result"
    }
   ],
   "source": [
    "lst = np.unique(four_eroded_skimage).astype(int)\n",
    "np.max(lst)"
   ]
  },
  {
   "cell_type": "code",
   "execution_count": 16,
   "metadata": {},
   "outputs": [
    {
     "data": {
      "text/plain": [
       "<Image layer 'four_eroded_skimage_2' at 0x19ba73c50c0>"
      ]
     },
     "execution_count": 16,
     "metadata": {},
     "output_type": "execute_result"
    }
   ],
   "source": []
  },
  {
   "cell_type": "code",
   "execution_count": 18,
   "metadata": {},
   "outputs": [
    {
     "data": {
      "text/plain": [
       "((17, 704, 704), (17, 704, 704))"
      ]
     },
     "execution_count": 18,
     "metadata": {},
     "output_type": "execute_result"
    }
   ],
   "source": [
    "np.shape(four_eroded_skimage), np.shape(four_eroded_skimage_2)"
   ]
  },
  {
   "cell_type": "code",
   "execution_count": 22,
   "metadata": {},
   "outputs": [
    {
     "data": {
      "text/plain": [
       "<Image layer 'Image' at 0x19ba7225840>"
      ]
     },
     "execution_count": 22,
     "metadata": {},
     "output_type": "execute_result"
    }
   ],
   "source": [
    "viewer.add_image(~obj_four)"
   ]
  },
  {
   "cell_type": "code",
   "execution_count": 27,
   "metadata": {},
   "outputs": [
    {
     "data": {
      "text/plain": [
       "<Image layer 'the_difference' at 0x19c0d4940d0>"
      ]
     },
     "execution_count": 27,
     "metadata": {},
     "output_type": "execute_result"
    }
   ],
   "source": [
    "whats_left_TEST = skimage.segmentation.watershed(~obj_four, markers=four_eroded_skimage_2, mask=obj_four)\n",
    "the_difference = np.logical_xor(obj_four, whats_left_TEST)\n",
    "viewer.add_image(whats_left_TEST)\n",
    "viewer.add_image(the_difference)"
   ]
  },
  {
   "cell_type": "code",
   "execution_count": 44,
   "metadata": {},
   "outputs": [
    {
     "data": {
      "text/plain": [
       "<Image layer 'four_eroded_skimage_16' at 0x19bb2c45bd0>"
      ]
     },
     "execution_count": 44,
     "metadata": {},
     "output_type": "execute_result"
    }
   ],
   "source": [
    "four_eroded_skimage = skimage.morphology.isotropic_erosion(obj_four, 0.1, spacing=scale)\n",
    "four_eroded_skimage_2 = skimage.morphology.isotropic_erosion(four_eroded_skimage, 0.1, spacing=scale)\n",
    "four_eroded_skimage_3 = skimage.morphology.isotropic_erosion(four_eroded_skimage_2, 0.1, spacing=scale)\n",
    "four_eroded_skimage_4 = skimage.morphology.isotropic_erosion(four_eroded_skimage_3, 0.1, spacing=scale)\n",
    "four_eroded_skimage_5 = skimage.morphology.isotropic_erosion(four_eroded_skimage_4, 0.1, spacing=scale)\n",
    "four_eroded_skimage_6 = skimage.morphology.isotropic_erosion(four_eroded_skimage_5, 0.1, spacing=scale)\n",
    "four_eroded_skimage_7 = skimage.morphology.isotropic_erosion(four_eroded_skimage_6, 0.1, spacing=scale)\n",
    "four_eroded_skimage_8 = skimage.morphology.isotropic_erosion(four_eroded_skimage_7, 0.1, spacing=scale)\n",
    "four_eroded_skimage_9 = skimage.morphology.isotropic_erosion(four_eroded_skimage_8, 0.1, spacing=scale)\n",
    "four_eroded_skimage_10 = skimage.morphology.isotropic_erosion(four_eroded_skimage_9, 0.1, spacing=scale)\n",
    "four_eroded_skimage_11 = skimage.morphology.isotropic_erosion(four_eroded_skimage_10, 0.1, spacing=scale)\n",
    "four_eroded_skimage_12 = skimage.morphology.isotropic_erosion(four_eroded_skimage_11, 0.1, spacing=scale)\n",
    "four_eroded_skimage_13 = skimage.morphology.isotropic_erosion(four_eroded_skimage_12, 0.1, spacing=scale)\n",
    "four_eroded_skimage_14 = skimage.morphology.isotropic_erosion(four_eroded_skimage_13, 0.1, spacing=scale)\n",
    "four_eroded_skimage_15 = skimage.morphology.isotropic_erosion(four_eroded_skimage_14, 0.1, spacing=scale)\n",
    "four_eroded_skimage_16 = skimage.morphology.isotropic_erosion(four_eroded_skimage_15, 0.1, spacing=scale)\n",
    "\n",
    "\n"
   ]
  },
  {
   "cell_type": "code",
   "execution_count": 49,
   "metadata": {},
   "outputs": [
    {
     "data": {
      "text/plain": [
       "<Image layer 'four_eroded_skimage_13' at 0x19ba69235b0>"
      ]
     },
     "execution_count": 49,
     "metadata": {},
     "output_type": "execute_result"
    }
   ],
   "source": [
    "viewer.add_image(four_eroded_skimage_13)"
   ]
  },
  {
   "cell_type": "code",
   "execution_count": 57,
   "metadata": {},
   "outputs": [],
   "source": [
    "whats_left_TEST = skimage.segmentation.watershed(~obj_four, markers=four_eroded_skimage, mask=obj_four)\n",
    "whats_left_TEST_2 = skimage.segmentation.watershed(~four_eroded_skimage, markers=four_eroded_skimage_2, mask=four_eroded_skimage)\n",
    "whats_left_TEST_3 = skimage.segmentation.watershed(~four_eroded_skimage_2, markers=four_eroded_skimage_3, mask=four_eroded_skimage_2)\n",
    "whats_left_TEST_4 = skimage.segmentation.watershed(~four_eroded_skimage_3, markers=four_eroded_skimage_4, mask=four_eroded_skimage_3)\n",
    "whats_left_TEST_5 = skimage.segmentation.watershed(~four_eroded_skimage_4, markers=four_eroded_skimage_5, mask=four_eroded_skimage_4)\n",
    "whats_left_TEST_6 = skimage.segmentation.watershed(~four_eroded_skimage_5, markers=four_eroded_skimage_6, mask=four_eroded_skimage_5)\n",
    "whats_left_TEST_7 = skimage.segmentation.watershed(~four_eroded_skimage_6, markers=four_eroded_skimage_2, mask=four_eroded_skimage_6)\n",
    "whats_left_TEST_8 = skimage.segmentation.watershed(~four_eroded_skimage_7, markers=four_eroded_skimage_3, mask=four_eroded_skimage_7)\n",
    "whats_left_TEST_9 = skimage.segmentation.watershed(~four_eroded_skimage_8, markers=four_eroded_skimage_4, mask=four_eroded_skimage_8)\n",
    "whats_left_TEST_10 = skimage.segmentation.watershed(~four_eroded_skimage_9, markers=four_eroded_skimage_5, mask=four_eroded_skimage_9)\n",
    "whats_left_TEST_11 = skimage.segmentation.watershed(~four_eroded_skimage_10, markers=four_eroded_skimage_6, mask=four_eroded_skimage_10)\n",
    "whats_left_TEST_12 = skimage.segmentation.watershed(~four_eroded_skimage_11, markers=four_eroded_skimage_2, mask=four_eroded_skimage_11)\n",
    "whats_left_TEST_13 = skimage.segmentation.watershed(~four_eroded_skimage_12, markers=four_eroded_skimage_3, mask=four_eroded_skimage_12)\n",
    "whats_left_TEST_14 = skimage.segmentation.watershed(~four_eroded_skimage_13, markers=four_eroded_skimage_4, mask=four_eroded_skimage_13)\n",
    "whats_left_TEST_15 = skimage.segmentation.watershed(~four_eroded_skimage_14, markers=four_eroded_skimage_5, mask=four_eroded_skimage_14)\n",
    "whats_left_TEST_16 = skimage.segmentation.watershed(~four_eroded_skimage_15, markers=four_eroded_skimage_6, mask=four_eroded_skimage_15)\n",
    "\n",
    "the_difference_ = np.logical_xor(obj_four, whats_left_TEST)\n",
    "the_difference_2 = np.logical_xor(four_eroded_skimage, whats_left_TEST_2)\n",
    "the_difference_3 = np.logical_xor(four_eroded_skimage_2, whats_left_TEST_3)\n",
    "the_difference_4 = np.logical_xor(four_eroded_skimage_3, whats_left_TEST_4)\n",
    "the_difference_5 = np.logical_xor(four_eroded_skimage_4, whats_left_TEST_5)\n",
    "the_difference_6 = np.logical_xor(four_eroded_skimage_5, whats_left_TEST_6)\n",
    "the_difference_7 = np.logical_xor(four_eroded_skimage_6, whats_left_TEST_7)\n",
    "the_difference_8 = np.logical_xor(four_eroded_skimage_7, whats_left_TEST_8)\n",
    "the_difference_9 = np.logical_xor(four_eroded_skimage_8, whats_left_TEST_9)\n",
    "the_difference_10 = np.logical_xor(four_eroded_skimage_9, whats_left_TEST_10)\n",
    "the_difference_11 = np.logical_xor(four_eroded_skimage_10, whats_left_TEST_11)\n",
    "the_difference_12 = np.logical_xor(four_eroded_skimage_11, whats_left_TEST_12)\n",
    "the_difference_13 = np.logical_xor(four_eroded_skimage_12, whats_left_TEST_13)\n",
    "the_difference_14 = np.logical_xor(four_eroded_skimage_13, whats_left_TEST_14)\n",
    "the_difference_15 = np.logical_xor(four_eroded_skimage_14, whats_left_TEST_15)\n",
    "the_difference_16 = np.logical_xor(four_eroded_skimage_15, whats_left_TEST_16)"
   ]
  },
  {
   "cell_type": "code",
   "execution_count": 55,
   "metadata": {},
   "outputs": [
    {
     "data": {
      "text/plain": [
       "<Image layer 'whats_left_TEST_2' at 0x19c12d18f10>"
      ]
     },
     "execution_count": 55,
     "metadata": {},
     "output_type": "execute_result"
    }
   ],
   "source": [
    "viewer.add_image(whats_left_TEST_2)"
   ]
  },
  {
   "cell_type": "code",
   "execution_count": 56,
   "metadata": {},
   "outputs": [
    {
     "data": {
      "text/plain": [
       "<Image layer 'the_difference_2' at 0x19c0d34bf70>"
      ]
     },
     "execution_count": 56,
     "metadata": {},
     "output_type": "execute_result"
    }
   ],
   "source": [
    "viewer.add_image(the_difference_2)"
   ]
  },
  {
   "cell_type": "code",
   "execution_count": null,
   "metadata": {},
   "outputs": [],
   "source": [
    "viewer.add_image(four_eroded_skimage, opacity=0.3)\n",
    "viewer.add_image(four_eroded_skimage_2, opacity=0.3)\n",
    "viewer.add_image(four_eroded_skimage_3, opacity=0.3)\n",
    "viewer.add_image(four_eroded_skimage_4, opacity=0.3)\n",
    "viewer.add_image(four_eroded_skimage_5, opacity=0.3)\n",
    "viewer.add_image(four_eroded_skimage_6, opacity=0.3)\n",
    "viewer.add_image(four_eroded_skimage_7, opacity=0.3)\n",
    "viewer.add_image(four_eroded_skimage_8, opacity=0.3)\n",
    "viewer.add_image(four_eroded_skimage_9, opacity=0.3)\n",
    "viewer.add_image(four_eroded_skimage_10, opacity=0.3)\n",
    "viewer.add_image(four_eroded_skimage_11, opacity=0.3)\n",
    "viewer.add_image(four_eroded_skimage_12, opacity=0.3)\n",
    "viewer.add_image(four_eroded_skimage_13, opacity=0.3)\n",
    "viewer.add_image(four_eroded_skimage_14, opacity=0.3)\n",
    "viewer.add_image(four_eroded_skimage_15, opacity=0.3)\n",
    "viewer.add_image(four_eroded_skimage_16, opacity=0.3)"
   ]
  },
  {
   "cell_type": "code",
   "execution_count": 48,
   "metadata": {},
   "outputs": [
    {
     "data": {
      "text/plain": [
       "<Image layer 'whats_left_TEST' at 0x19bb578d5d0>"
      ]
     },
     "execution_count": 48,
     "metadata": {},
     "output_type": "execute_result"
    }
   ],
   "source": [
    "viewer.add_image(whats_left_TEST, opacity=0.3)"
   ]
  },
  {
   "cell_type": "code",
   "execution_count": 59,
   "metadata": {},
   "outputs": [
    {
     "data": {
      "text/plain": [
       "<Image layer 'the_difference_16' at 0x19c12ec95a0>"
      ]
     },
     "execution_count": 59,
     "metadata": {},
     "output_type": "execute_result"
    }
   ],
   "source": [
    "\n",
    "viewer.add_image(the_difference, opacity=0.3, colormap=\"green\")\n",
    "viewer.add_image(the_difference_2, opacity=0.3, colormap=\"green\")\n",
    "viewer.add_image(the_difference_3, opacity=0.3, colormap=\"green\")\n",
    "viewer.add_image(the_difference_4, opacity=0.3, colormap=\"green\")\n",
    "viewer.add_image(the_difference_5, opacity=0.3, colormap=\"green\")\n",
    "viewer.add_image(the_difference_6, opacity=0.3, colormap=\"green\")\n",
    "viewer.add_image(the_difference_7, opacity=0.3, colormap=\"green\")\n",
    "viewer.add_image(the_difference_8, opacity=0.3, colormap=\"green\")\n",
    "viewer.add_image(the_difference_9, opacity=0.3, colormap=\"green\")\n",
    "viewer.add_image(the_difference_10, opacity=0.3, colormap=\"green\")\n",
    "viewer.add_image(the_difference_11, opacity=0.3, colormap=\"green\")\n",
    "viewer.add_image(the_difference_12, opacity=0.3, colormap=\"green\")\n",
    "viewer.add_image(the_difference_13, opacity=0.3, colormap=\"green\")\n",
    "viewer.add_image(the_difference_14, opacity=0.3, colormap=\"green\")\n",
    "viewer.add_image(the_difference_15, opacity=0.3, colormap=\"green\")\n",
    "viewer.add_image(the_difference_16, opacity=0.3, colormap=\"green\")"
   ]
  },
  {
   "cell_type": "code",
   "execution_count": 104,
   "metadata": {},
   "outputs": [
    {
     "name": "stdout",
     "output_type": "stream",
     "text": [
      "Working on ID # 4\n",
      "26239\n",
      "19979\n",
      "14712\n",
      "10665\n",
      "7616\n",
      "5368\n",
      "3725\n",
      "2542\n",
      "1650\n",
      "1031\n",
      "632\n",
      "349\n",
      "160\n",
      "65\n",
      "16\n",
      "2\n",
      "Completed ID # 4\n"
     ]
    }
   ],
   "source": [
    "img = obj_four.astype(int)\n",
    "unique_IDs = np.unique(img)\n",
    "output_seg = np.zeros_like(img)\n",
    "for ID in unique_IDs:\n",
    "    seeds = np.zeros_like(img)\n",
    "    if ID == 0:\n",
    "        pass\n",
    "    else:\n",
    "        obj = img==ID\n",
    "        size = np.count_nonzero(obj)\n",
    "        count = 0\n",
    "        print(f\"Working on ID # {ID}\")\n",
    "        while size != 0:\n",
    "            print(np.count_nonzero(obj))\n",
    "            erode = skimage.morphology.isotropic_erosion(obj, 0.1, spacing=scale, )\n",
    "            filled_remainder = skimage.segmentation.watershed(~obj, markers=erode, mask=obj)\n",
    "            centers = label(np.logical_xor(obj, filled_remainder))\n",
    "            \n",
    "            count = np.max(seeds)+1\n",
    "            centers = skimage.segmentation.relabel_sequential(centers, count)[0]\n",
    "\n",
    "            seeds = np.add(centers, seeds)\n",
    "\n",
    "            obj = erode\n",
    "            size = np.count_nonzero(obj)\n",
    "\n",
    "        watershed = skimage.segmentation.watershed(~img==ID, markers=seeds, mask=img==ID)\n",
    "        relabeling = np.max(output_seg)+1\n",
    "        watershed = skimage.segmentation.relabel_sequential(watershed, relabeling)[0]\n",
    "        output_seg = np.add(watershed, output_seg)\n",
    "\n",
    "        print(f\"Completed ID # {ID}\")\n",
    "\n",
    "### TO-DO: add in some additional connectivity stuff; hoping to reduce the number of seeds being extracted."
   ]
  },
  {
   "cell_type": "code",
   "execution_count": 106,
   "metadata": {},
   "outputs": [],
   "source": [
    "watershed_test = skimage.segmentation.watershed(~img==4, markers=seeds, mask=img==4)"
   ]
  },
  {
   "cell_type": "code",
   "execution_count": 108,
   "metadata": {},
   "outputs": [
    {
     "data": {
      "text/plain": [
       "array([  0,   1,   2,   3,   4,   5,   6,   7,   8,   9,  10,  11,  12,\n",
       "        13,  14,  15,  16,  17,  18,  19,  20,  21,  22,  23,  24,  25,\n",
       "        26,  27,  28,  29,  30,  31,  32,  33,  34,  35,  36,  37,  38,\n",
       "        39,  40,  41,  42,  43,  44,  45,  46,  47,  48,  49,  50,  51,\n",
       "        52,  53,  54,  55,  56,  57,  58,  59,  60,  61,  62,  63,  64,\n",
       "        65,  66,  67,  68,  69,  70,  71,  72,  73,  74,  75,  76,  77,\n",
       "        78,  79,  80,  81,  82,  83,  84,  85,  86,  87,  88,  89,  90,\n",
       "        91,  92,  93,  94,  95,  96,  97,  98,  99, 100, 101, 102, 103,\n",
       "       104, 105, 106, 107, 108, 109, 110, 111, 112, 113, 114, 115, 116,\n",
       "       117, 118, 119, 120, 121, 122, 123, 124, 125, 126, 127, 128, 129,\n",
       "       130])"
      ]
     },
     "execution_count": 108,
     "metadata": {},
     "output_type": "execute_result"
    }
   ],
   "source": [
    "np.unique(watershed_test)"
   ]
  },
  {
   "cell_type": "code",
   "execution_count": 107,
   "metadata": {},
   "outputs": [
    {
     "data": {
      "text/plain": [
       "<Labels layer 'watershed_test' at 0x19ba9d3b640>"
      ]
     },
     "execution_count": 107,
     "metadata": {},
     "output_type": "execute_result"
    }
   ],
   "source": [
    "viewer.add_labels(watershed_test)"
   ]
  },
  {
   "cell_type": "code",
   "execution_count": 102,
   "metadata": {},
   "outputs": [
    {
     "data": {
      "text/plain": [
       "130"
      ]
     },
     "execution_count": 102,
     "metadata": {},
     "output_type": "execute_result"
    }
   ],
   "source": [
    "np.max(seeds)"
   ]
  },
  {
   "cell_type": "code",
   "execution_count": 96,
   "metadata": {},
   "outputs": [
    {
     "data": {
      "text/plain": [
       "<Labels layer 'output_array' at 0x19c0d699f30>"
      ]
     },
     "execution_count": 96,
     "metadata": {},
     "output_type": "execute_result"
    }
   ],
   "source": [
    "viewer.add_labels(seeds)"
   ]
  },
  {
   "cell_type": "code",
   "execution_count": 105,
   "metadata": {},
   "outputs": [
    {
     "data": {
      "text/plain": [
       "<Image layer 'watershed [1]' at 0x19c0dcd6a70>"
      ]
     },
     "execution_count": 105,
     "metadata": {},
     "output_type": "execute_result"
    }
   ],
   "source": [
    "viewer.add_image(watershed)"
   ]
  },
  {
   "cell_type": "code",
   "execution_count": null,
   "metadata": {},
   "outputs": [
    {
     "ename": "SyntaxError",
     "evalue": "incomplete input (326180696.py, line 5)",
     "output_type": "error",
     "traceback": [
      "\u001b[1;36m  Cell \u001b[1;32mIn[19], line 5\u001b[1;36m\u001b[0m\n\u001b[1;33m    if len(ph_lst) > 2:\u001b[0m\n\u001b[1;37m                       ^\u001b[0m\n\u001b[1;31mSyntaxError\u001b[0m\u001b[1;31m:\u001b[0m incomplete input\n"
     ]
    }
   ],
   "source": [
    "img = lyso_basic_labels\n",
    "output_array = np.zeros_like(img)\n",
    "for ID in unique_IDs:\n",
    "    obj = img==ID\n",
    "    while np.count_nonzero(obj) != 0:\n",
    "        center = obj\n",
    "        ph = label(obj)\n",
    "        ph_lst = np.unique(obj)\n",
    "        while len(ph_lst) == 2:\n",
    "            center = obj\n",
    "            obj = skimage.morphology.isotropic_erosion(obj, 0.1, spacing=scale)\n",
    "            ph_lst = label(obj)\n",
    "        while len(ph_lst) > 2:\n",
    "            for id in ph_lst:\n",
    "                obj = obj==id\n",
    "                while np.count_nonzero(obj) != 0:\n",
    "                    center = obj\n",
    "                    obj = label(skimage.morphology.isotropic_erosion(obj, 0.1, spacing=scale))\n",
    "            ph_lst = np.unique(obj)\n",
    "        output_array = np.add(center*ID, output_array)\n",
    "\n",
    "\n"
   ]
  },
  {
   "cell_type": "code",
   "execution_count": null,
   "metadata": {},
   "outputs": [
    {
     "name": "stderr",
     "output_type": "stream",
     "text": [
      "C:\\Users\\Shannon\\AppData\\Local\\Temp\\ipykernel_22540\\3202761172.py:1: DeprecationWarning: Please use `binary_erosion` from the `scipy.ndimage` namespace, the `scipy.ndimage.morphology` namespace is deprecated.\n",
      "  four_eroded = scipy.ndimage.morphology.binary_erosion(obj_four, structure=ball(1), brute_force=False)\n",
      "C:\\Users\\Shannon\\AppData\\Local\\Temp\\ipykernel_22540\\3202761172.py:2: DeprecationWarning: Please use `binary_erosion` from the `scipy.ndimage` namespace, the `scipy.ndimage.morphology` namespace is deprecated.\n",
      "  four_eroded_brute = scipy.ndimage.morphology.binary_erosion(obj_four, structure=ball(3), brute_force=True)\n"
     ]
    }
   ],
   "source": [
    "four_eroded = scipy.ndimage.morphology.binary_erosion(obj_four, structure=ball(1), brute_force=False)\n",
    "four_eroded_brute = scipy.ndimage.morphology.binary_erosion(obj_four, structure=ball(3), brute_force=True)"
   ]
  },
  {
   "cell_type": "code",
   "execution_count": null,
   "metadata": {},
   "outputs": [
    {
     "data": {
      "text/plain": [
       "<Image layer 'four_eroded_brute [1]' at 0x28c8ec0db70>"
      ]
     },
     "execution_count": 22,
     "metadata": {},
     "output_type": "execute_result"
    }
   ],
   "source": [
    "viewer.add_image(four_eroded, opacity=0.3, colormap=\"bop orange\")\n",
    "viewer.add_image(four_eroded_brute, opacity=0.3, colormap=\"magenta\")"
   ]
  },
  {
   "cell_type": "code",
   "execution_count": null,
   "metadata": {},
   "outputs": [],
   "source": []
  },
  {
   "cell_type": "code",
   "execution_count": null,
   "metadata": {},
   "outputs": [
    {
     "data": {
      "text/plain": [
       "(array([0]), (17, 704, 704), (17, 704, 704))"
      ]
     },
     "execution_count": 14,
     "metadata": {},
     "output_type": "execute_result"
    }
   ],
   "source": [
    "new_array = np.zeros(lyso_basic_labels.shape, int)\n",
    "np.unique(new_array), new_array.shape, lyso_basic_labels.shape"
   ]
  },
  {
   "cell_type": "code",
   "execution_count": null,
   "metadata": {},
   "outputs": [
    {
     "data": {
      "text/plain": [
       "(array([0, 1]), array([0, 2]))"
      ]
     },
     "execution_count": 13,
     "metadata": {},
     "output_type": "execute_result"
    }
   ],
   "source": [
    "obj_one_again = obj_one*1\n",
    "obj_two_again = obj_two*2\n",
    "np.unique(obj_one_again), np.unique(obj_two_again)"
   ]
  },
  {
   "cell_type": "code",
   "execution_count": null,
   "metadata": {},
   "outputs": [
    {
     "data": {
      "text/plain": [
       "array([0, 1, 2])"
      ]
     },
     "execution_count": 15,
     "metadata": {},
     "output_type": "execute_result"
    }
   ],
   "source": [
    "new_array = np.add(obj_one_again, obj_two_again)\n",
    "np.unique(new_array)"
   ]
  },
  {
   "cell_type": "code",
   "execution_count": null,
   "metadata": {},
   "outputs": [
    {
     "data": {
      "text/plain": [
       "<Image layer 'new_array' at 0x20c253b75b0>"
      ]
     },
     "execution_count": 16,
     "metadata": {},
     "output_type": "execute_result"
    }
   ],
   "source": [
    "viewer.add_image(new_array)"
   ]
  },
  {
   "cell_type": "code",
   "execution_count": null,
   "metadata": {},
   "outputs": [
    {
     "data": {
      "text/plain": [
       "[0, 4]"
      ]
     },
     "execution_count": 31,
     "metadata": {},
     "output_type": "execute_result"
    }
   ],
   "source": [
    "unique_IDs_test = [0, 4] #np.unique(new_array)\n",
    "unique_IDs_test"
   ]
  },
  {
   "cell_type": "code",
   "execution_count": null,
   "metadata": {},
   "outputs": [
    {
     "ename": "KeyboardInterrupt",
     "evalue": "",
     "output_type": "error",
     "traceback": [
      "\u001b[1;31m---------------------------------------------------------------------------\u001b[0m",
      "\u001b[1;31mKeyboardInterrupt\u001b[0m                         Traceback (most recent call last)",
      "Cell \u001b[1;32mIn[39], line 7\u001b[0m\n\u001b[0;32m      5\u001b[0m \u001b[39mwhile\u001b[39;00m np\u001b[39m.\u001b[39mcount_nonzero(obj) \u001b[39m!=\u001b[39m \u001b[39m0\u001b[39m:\n\u001b[0;32m      6\u001b[0m     centers \u001b[39m=\u001b[39m obj\n\u001b[1;32m----> 7\u001b[0m     obj \u001b[39m=\u001b[39m label(skimage\u001b[39m.\u001b[39;49mmorphology\u001b[39m.\u001b[39;49mbinary_erosion(obj))\n\u001b[0;32m      8\u001b[0m     count \u001b[39m=\u001b[39m count\u001b[39m+\u001b[39m\u001b[39m1\u001b[39m\n\u001b[0;32m      9\u001b[0m     \u001b[39mif\u001b[39;00m count \u001b[39m==\u001b[39m \u001b[39m4\u001b[39m:\n",
      "File \u001b[1;32mc:\\Users\\Shannon\\anaconda3\\envs\\infer-subc\\lib\\site-packages\\skimage\\morphology\\misc.py:39\u001b[0m, in \u001b[0;36mdefault_selem.<locals>.func_out\u001b[1;34m(image, selem, *args, **kwargs)\u001b[0m\n\u001b[0;32m     37\u001b[0m \u001b[39mif\u001b[39;00m selem \u001b[39mis\u001b[39;00m \u001b[39mNone\u001b[39;00m:\n\u001b[0;32m     38\u001b[0m     selem \u001b[39m=\u001b[39m _default_selem(image\u001b[39m.\u001b[39mndim)\n\u001b[1;32m---> 39\u001b[0m \u001b[39mreturn\u001b[39;00m func(image, selem\u001b[39m=\u001b[39mselem, \u001b[39m*\u001b[39margs, \u001b[39m*\u001b[39m\u001b[39m*\u001b[39mkwargs)\n",
      "File \u001b[1;32mc:\\Users\\Shannon\\anaconda3\\envs\\infer-subc\\lib\\site-packages\\skimage\\morphology\\binary.py:42\u001b[0m, in \u001b[0;36mbinary_erosion\u001b[1;34m(image, selem, out)\u001b[0m\n\u001b[0;32m     40\u001b[0m \u001b[39mif\u001b[39;00m out \u001b[39mis\u001b[39;00m \u001b[39mNone\u001b[39;00m:\n\u001b[0;32m     41\u001b[0m     out \u001b[39m=\u001b[39m np\u001b[39m.\u001b[39mempty(image\u001b[39m.\u001b[39mshape, dtype\u001b[39m=\u001b[39m\u001b[39mbool\u001b[39m)\n\u001b[1;32m---> 42\u001b[0m ndi\u001b[39m.\u001b[39;49mbinary_erosion(image, structure\u001b[39m=\u001b[39;49mselem, output\u001b[39m=\u001b[39;49mout, border_value\u001b[39m=\u001b[39;49m\u001b[39mTrue\u001b[39;49;00m)\n\u001b[0;32m     43\u001b[0m \u001b[39mreturn\u001b[39;00m out\n",
      "File \u001b[1;32mc:\\Users\\Shannon\\anaconda3\\envs\\infer-subc\\lib\\site-packages\\scipy\\ndimage\\_morphology.py:387\u001b[0m, in \u001b[0;36mbinary_erosion\u001b[1;34m(input, structure, iterations, mask, output, border_value, origin, brute_force)\u001b[0m\n\u001b[0;32m    293\u001b[0m \u001b[39mdef\u001b[39;00m \u001b[39mbinary_erosion\u001b[39m(\u001b[39minput\u001b[39m, structure\u001b[39m=\u001b[39m\u001b[39mNone\u001b[39;00m, iterations\u001b[39m=\u001b[39m\u001b[39m1\u001b[39m, mask\u001b[39m=\u001b[39m\u001b[39mNone\u001b[39;00m, output\u001b[39m=\u001b[39m\u001b[39mNone\u001b[39;00m,\n\u001b[0;32m    294\u001b[0m                    border_value\u001b[39m=\u001b[39m\u001b[39m0\u001b[39m, origin\u001b[39m=\u001b[39m\u001b[39m0\u001b[39m, brute_force\u001b[39m=\u001b[39m\u001b[39mFalse\u001b[39;00m):\n\u001b[0;32m    295\u001b[0m \u001b[39m    \u001b[39m\u001b[39m\"\"\"\u001b[39;00m\n\u001b[0;32m    296\u001b[0m \u001b[39m    Multidimensional binary erosion with a given structuring element.\u001b[39;00m\n\u001b[0;32m    297\u001b[0m \n\u001b[1;32m   (...)\u001b[0m\n\u001b[0;32m    385\u001b[0m \n\u001b[0;32m    386\u001b[0m \u001b[39m    \"\"\"\u001b[39;00m\n\u001b[1;32m--> 387\u001b[0m     \u001b[39mreturn\u001b[39;00m _binary_erosion(\u001b[39minput\u001b[39;49m, structure, iterations, mask,\n\u001b[0;32m    388\u001b[0m                            output, border_value, origin, \u001b[39m0\u001b[39;49m, brute_force)\n",
      "File \u001b[1;32mc:\\Users\\Shannon\\anaconda3\\envs\\infer-subc\\lib\\site-packages\\scipy\\ndimage\\_morphology.py:254\u001b[0m, in \u001b[0;36m_binary_erosion\u001b[1;34m(input, structure, iterations, mask, output, border_value, origin, invert, brute_force)\u001b[0m\n\u001b[0;32m    252\u001b[0m     output \u001b[39m=\u001b[39m _ni_support\u001b[39m.\u001b[39m_get_output(output\u001b[39m.\u001b[39mdtype, \u001b[39minput\u001b[39m)\n\u001b[0;32m    253\u001b[0m \u001b[39mif\u001b[39;00m iterations \u001b[39m==\u001b[39m \u001b[39m1\u001b[39m:\n\u001b[1;32m--> 254\u001b[0m     _nd_image\u001b[39m.\u001b[39;49mbinary_erosion(\u001b[39minput\u001b[39;49m, structure, mask, output,\n\u001b[0;32m    255\u001b[0m                              border_value, origin, invert, cit, \u001b[39m0\u001b[39;49m)\n\u001b[0;32m    256\u001b[0m \u001b[39melif\u001b[39;00m cit \u001b[39mand\u001b[39;00m \u001b[39mnot\u001b[39;00m brute_force:\n\u001b[0;32m    257\u001b[0m     changed, coordinate_list \u001b[39m=\u001b[39m _nd_image\u001b[39m.\u001b[39mbinary_erosion(\n\u001b[0;32m    258\u001b[0m         \u001b[39minput\u001b[39m, structure, mask, output,\n\u001b[0;32m    259\u001b[0m         border_value, origin, invert, cit, \u001b[39m1\u001b[39m)\n",
      "\u001b[1;31mKeyboardInterrupt\u001b[0m: "
     ]
    }
   ],
   "source": [
    "empty_list = np.zeros_like(lyso_basic_labels)\n",
    "count = 0\n",
    "for ID in unique_IDs_test:\n",
    "    obj = lyso_basic_labels==ID\n",
    "    while np.count_nonzero(obj) != 0:\n",
    "        centers = obj\n",
    "        obj = label(skimage.morphology.binary_erosion(obj))\n",
    "        count = count+1\n",
    "        \n",
    "    empty_list = np.add(centers*ID, empty_list)\n",
    "\n",
    "    ## This seems to be working some what, but not sure why it is losing some of the objects"
   ]
  },
  {
   "cell_type": "code",
   "execution_count": null,
   "metadata": {},
   "outputs": [
    {
     "data": {
      "text/plain": [
       "264"
      ]
     },
     "execution_count": 38,
     "metadata": {},
     "output_type": "execute_result"
    }
   ],
   "source": [
    "count"
   ]
  },
  {
   "cell_type": "code",
   "execution_count": null,
   "metadata": {},
   "outputs": [
    {
     "data": {
      "text/plain": [
       "381"
      ]
     },
     "execution_count": 33,
     "metadata": {},
     "output_type": "execute_result"
    }
   ],
   "source": [
    "np.count_nonzero(empty_list)"
   ]
  },
  {
   "cell_type": "code",
   "execution_count": null,
   "metadata": {},
   "outputs": [
    {
     "data": {
      "text/plain": [
       "array([ 0,  4,  8, 12, 16, 20, 24, 28, 32, 36])"
      ]
     },
     "execution_count": 34,
     "metadata": {},
     "output_type": "execute_result"
    }
   ],
   "source": [
    "np.unique(empty_list)"
   ]
  },
  {
   "cell_type": "code",
   "execution_count": null,
   "metadata": {},
   "outputs": [
    {
     "data": {
      "text/plain": [
       "<Image layer 'empty_list' at 0x20c8c9b5e70>"
      ]
     },
     "execution_count": 36,
     "metadata": {},
     "output_type": "execute_result"
    }
   ],
   "source": [
    "viewer.add_image(lyso_basic_labels==4)\n",
    "viewer.add_image(empty_list)"
   ]
  },
  {
   "cell_type": "code",
   "execution_count": null,
   "metadata": {},
   "outputs": [
    {
     "data": {
      "text/plain": [
       "((17, 704, 704), (17, 704, 704))"
      ]
     },
     "execution_count": 23,
     "metadata": {},
     "output_type": "execute_result"
    }
   ],
   "source": [
    "np.shape(empty_list), np.shape(obj_one)"
   ]
  },
  {
   "cell_type": "code",
   "execution_count": null,
   "metadata": {},
   "outputs": [
    {
     "data": {
      "text/plain": [
       "(array([0, 1]), array([0, 1]))"
      ]
     },
     "execution_count": 25,
     "metadata": {},
     "output_type": "execute_result"
    }
   ],
   "source": [
    "np.unique(empty_list), np.unique(obj_one_again)"
   ]
  },
  {
   "cell_type": "code",
   "execution_count": null,
   "metadata": {},
   "outputs": [
    {
     "data": {
      "text/plain": [
       "False"
      ]
     },
     "execution_count": 27,
     "metadata": {},
     "output_type": "execute_result"
    }
   ],
   "source": [
    "np.all(empty_list == obj_one_again)"
   ]
  },
  {
   "cell_type": "code",
   "execution_count": null,
   "metadata": {},
   "outputs": [],
   "source": [
    "eroded = topology_preserving_thinning(cleaned_img2, 1, 10)"
   ]
  },
  {
   "cell_type": "code",
   "execution_count": null,
   "metadata": {},
   "outputs": [],
   "source": [
    "viewer.add_image(eroded, colormap=\"red\", opacity=0.3)"
   ]
  },
  {
   "cell_type": "code",
   "execution_count": null,
   "metadata": {},
   "outputs": [],
   "source": [
    "top_hat = skimage.morphology.white_tophat(cleaned_img2)\n",
    "black_top_hat = skimage.morphology.black_tophat(cleaned_img2)"
   ]
  },
  {
   "cell_type": "code",
   "execution_count": null,
   "metadata": {},
   "outputs": [],
   "source": [
    "viewer.add_image(top_hat, colormap=\"yellow\", opacity=0.3)\n",
    "viewer.add_image(black_top_hat, colormap=\"bop orange\", opacity=0.3)"
   ]
  },
  {
   "cell_type": "code",
   "execution_count": null,
   "metadata": {},
   "outputs": [],
   "source": [
    "lyso_watershed_labels = watershed(struct_img, mask=cleaned_img2)"
   ]
  },
  {
   "cell_type": "code",
   "execution_count": null,
   "metadata": {},
   "outputs": [],
   "source": [
    "viewer.add_image(lyso_watershed_labels, colormap=\"green\")"
   ]
  },
  {
   "cell_type": "code",
   "execution_count": null,
   "metadata": {},
   "outputs": [],
   "source": [
    "struct_img.shape"
   ]
  },
  {
   "cell_type": "code",
   "execution_count": null,
   "metadata": {},
   "outputs": [],
   "source": [
    "local_maxima = skimage.morphology.local_maxima_maxima(struct_img, selem=np.ones((3,3,3)))"
   ]
  },
  {
   "cell_type": "code",
   "execution_count": null,
   "metadata": {},
   "outputs": [],
   "source": [
    "viewer.add_image(local_maxima)"
   ]
  },
  {
   "attachments": {},
   "cell_type": "markdown",
   "metadata": {},
   "source": [
    "## LABELING prototype"
   ]
  },
  {
   "cell_type": "code",
   "execution_count": null,
   "metadata": {},
   "outputs": [],
   "source": [
    "lysosome_labels = label_uint16(cleaned_img2)"
   ]
  },
  {
   "cell_type": "code",
   "execution_count": null,
   "metadata": {},
   "outputs": [],
   "source": [
    "lysosome_labels.dtype"
   ]
  },
  {
   "attachments": {},
   "cell_type": "markdown",
   "metadata": {},
   "source": [
    "## Visualize with `napari` 1\n",
    "Visualize the first-pass segmentation and labeling with `napari`."
   ]
  },
  {
   "cell_type": "code",
   "execution_count": null,
   "metadata": {},
   "outputs": [],
   "source": [
    "viewer = napari.Viewer()"
   ]
  },
  {
   "cell_type": "code",
   "execution_count": null,
   "metadata": {},
   "outputs": [],
   "source": [
    "viewer.add_image(\n",
    "    struct_img)    \n",
    "\n",
    "viewer.add_image(\n",
    "    cleaned_img2,\n",
    "    opacity=0.3,)\n",
    "\n",
    "viewer.add_labels(\n",
    "    lysosome_labels,\n",
    "    opacity=0.3)\n"
   ]
  },
  {
   "attachments": {},
   "cell_type": "markdown",
   "metadata": {},
   "source": [
    "## SAVE inferred lysosomes to .tif file"
   ]
  },
  {
   "cell_type": "code",
   "execution_count": null,
   "metadata": {},
   "outputs": [],
   "source": [
    "out_file_n = export_inferred_organelle(lysosome_labels, \"lyso\", meta_dict, out_data_path)"
   ]
  },
  {
   "attachments": {},
   "cell_type": "markdown",
   "metadata": {},
   "source": [
    "----------\n",
    "## DEFINE `_infer_lysosomes` function\n",
    "\n",
    "Based on the _prototyping_ above define the function to infer nuclei. \n",
    "\n",
    "> NOTE: these functions mainly serve for downstream prototyping in the notebooks. Each step above has an independent function that is implemented in the plugin for easy of use."
   ]
  },
  {
   "cell_type": "code",
   "execution_count": null,
   "metadata": {},
   "outputs": [],
   "source": [
    "##########################\n",
    "#  infer_LYSOSOMES\n",
    "##########################\n",
    "def _infer_lyso(\n",
    "                                in_img: np.ndarray,\n",
    "                                lyso_ch: int,\n",
    "                                median_sz: int,\n",
    "                                gauss_sig: float,\n",
    "                                dot_scale_1: float,\n",
    "                                dot_cut_1: float,\n",
    "                                dot_scale_2: float,\n",
    "                                dot_cut_2: float,\n",
    "                                dot_scale_3: float,\n",
    "                                dot_cut_3: float,\n",
    "                                dot_method: str,\n",
    "                                fil_scale_1: float,\n",
    "                                fil_cut_1: float,\n",
    "                                fil_scale_2: float, \n",
    "                                fil_cut_2: float, \n",
    "                                fil_scale_3: float, \n",
    "                                fil_cut_3: float,\n",
    "                                fil_method: str,\n",
    "                                min_hole_w: int,\n",
    "                                max_hole_w: int,\n",
    "                                small_obj_w: int,\n",
    "                                fill_filter_method: str\n",
    "                            ) -> np.ndarray:\n",
    "    \"\"\"\n",
    "    Procedure to infer lysosome from linearly unmixed input,\n",
    "    \n",
    "    Parameters\n",
    "    ------------\n",
    "    in_img: \n",
    "        a 3d image containing all the channels\n",
    "    median_sz: \n",
    "        width of median filter for signal\n",
    "    gauss_sig: \n",
    "        sigma for gaussian smoothing of  signal\n",
    "    dot_scale: \n",
    "        scales (log_sigma) for dot filter (1,2, and 3)\n",
    "    dot_cut: \n",
    "        threshold for dot filter thresholds (1,2,and 3)\n",
    "    fil_scale: \n",
    "        scale (log_sigma) for filament filter\n",
    "    fil_cut: \n",
    "        threshold for filament fitered threshold\n",
    "    min_hole_w: \n",
    "        hole filling min for nuclei post-processing\n",
    "    max_hole_w: \n",
    "        hole filling cutoff for nuclei post-processing\n",
    "    small_obj_w: \n",
    "        minimu object size cutoff for nuclei post-processing\n",
    "    fill_filter_method:\n",
    "        to fill snall holes and remove small objects in \"3D\" or \"slice-by-slice\"\n",
    "\n",
    "    Returns\n",
    "    -------------\n",
    "    lyso_object\n",
    "        mask defined extent of lysosome object\n",
    "\n",
    "    \"\"\"\n",
    "    ###################\n",
    "    # EXTRACT\n",
    "    ###################    \n",
    "    lyso = select_channel_from_raw(in_img, lyso_ch)\n",
    "\n",
    "     ###################\n",
    "    # PRE_PROCESSING\n",
    "    ###################    \n",
    "    lyso1 =  scale_and_smooth(lyso,\n",
    "                             median_size = median_sz, \n",
    "                             gauss_sigma = gauss_sig)\n",
    "   ###################\n",
    "    # CORE_PROCESSING\n",
    "    ###################\n",
    "    bw_dot = dot_filter_3(lyso1, dot_scale_1, dot_cut_1, dot_scale_2, dot_cut_2, dot_scale_3, dot_cut_3, dot_method)\n",
    "\n",
    "    bw_filament = filament_filter_3(lyso1, fil_scale_1, fil_cut_1, fil_scale_2, fil_cut_2, fil_scale_3, fil_cut_3, fil_method)\n",
    "\n",
    "    bw = np.logical_or(bw_dot, bw_filament)\n",
    "\n",
    "    ###################\n",
    "    # POST_PROCESSING\n",
    "    ###################\n",
    "    struct_obj = fill_and_filter_linear_size(bw, hole_min=min_hole_w, hole_max=max_hole_w, min_size=small_obj_w, method=fill_filter_method)\n",
    "\n",
    "    ###################\n",
    "    # LABELING\n",
    "    ###################\n",
    "    struct_obj1 = label_uint16(struct_obj)\n",
    "\n",
    "    return struct_obj1\n"
   ]
  },
  {
   "attachments": {},
   "cell_type": "markdown",
   "metadata": {},
   "source": [
    "## DEFINE `_fixed_infer_lyso` function\n"
   ]
  },
  {
   "cell_type": "code",
   "execution_count": null,
   "metadata": {},
   "outputs": [],
   "source": [
    "##########################\n",
    "#  fixed_infer_nuclei\n",
    "##########################\n",
    "def _fixed_infer_lyso(in_img: np.ndarray) -> np.ndarray:\n",
    "    \"\"\"\n",
    "    Procedure to infer lysosome from linearly unmixed input with *fixed parameters*\n",
    "    Parameters\n",
    "    ------------\n",
    "    in_img: \n",
    "        a 3d image containing all the channels\n",
    "\n",
    "    Returns\n",
    "    -------------\n",
    "    lyso_object\n",
    "        mask defined extent of NU\n",
    "    \"\"\"\n",
    "    lyso_ch = 1\n",
    "    median_sz = 3\n",
    "    gauss_sig = 1.34\n",
    "    dot_scale_1 = 5\n",
    "    dot_cut_1 = 0.09\n",
    "    dot_scale_2 = 2.5\n",
    "    dot_cut_2 = 0.07\n",
    "    dot_scale_3 = 1\n",
    "    dot_cut_3 = 0.01\n",
    "    dot_method = \"3D\"\n",
    "    fil_scale_1 = 1\n",
    "    fil_cut_1 = 0.15\n",
    "    fil_scale_2 = 0\n",
    "    fil_cut_2 = 0\n",
    "    fil_scale_3 = 0\n",
    "    fil_cut_3 = 0\n",
    "    fil_method = \"3D\"\n",
    "    min_hole_w = 0\n",
    "    max_hole_w = 25\n",
    "    small_obj_w = 0\n",
    "    method = \"3D\"\n",
    "\n",
    "    return _infer_lyso(  \n",
    "        in_img,\n",
    "        lyso_ch,\n",
    "        median_sz,\n",
    "        gauss_sig,\n",
    "        dot_scale_1,\n",
    "        dot_cut_1,\n",
    "        dot_scale_2,\n",
    "        dot_cut_2,\n",
    "        dot_scale_3,\n",
    "        dot_cut_3,\n",
    "        dot_method,\n",
    "        fil_scale_1,\n",
    "        fil_cut_1,\n",
    "        fil_scale_2,\n",
    "        fil_cut_2,\n",
    "        fil_scale_3,\n",
    "        fil_cut_3,\n",
    "        fil_method,\n",
    "        min_hole_w,\n",
    "        max_hole_w,\n",
    "        small_obj_w,\n",
    "        method)"
   ]
  },
  {
   "attachments": {},
   "cell_type": "markdown",
   "metadata": {},
   "source": [
    "# TEST `_infer_lyso` function defined above"
   ]
  },
  {
   "cell_type": "code",
   "execution_count": null,
   "metadata": {},
   "outputs": [],
   "source": [
    "_lyso_object =  _fixed_infer_lyso(img_data) \n",
    "\n",
    "_lyso_object.dtype"
   ]
  },
  {
   "cell_type": "code",
   "execution_count": null,
   "metadata": {},
   "outputs": [],
   "source": [
    "np.all(lysosome_labels == _lyso_object)"
   ]
  },
  {
   "attachments": {},
   "cell_type": "markdown",
   "metadata": {},
   "source": [
    "---------------------\n",
    "# TEST `infer_lyso` exported functions\n",
    "\n",
    "The prototype `_infer_lyso` was copied to the [`.organelles.lysosome`](../infer_subc/organelles/lysosome.py) sub-module."
   ]
  },
  {
   "cell_type": "code",
   "execution_count": null,
   "metadata": {},
   "outputs": [],
   "source": [
    "from infer_subc.organelles.lysosome import fixed_infer_lyso\n",
    "\n",
    "lyso_object =  fixed_infer_lyso(img_data)"
   ]
  },
  {
   "cell_type": "code",
   "execution_count": null,
   "metadata": {},
   "outputs": [],
   "source": [
    "np.all(_lyso_object == lyso_object)"
   ]
  },
  {
   "attachments": {},
   "cell_type": "markdown",
   "metadata": {},
   "source": [
    "## Visualize  2\n"
   ]
  },
  {
   "cell_type": "code",
   "execution_count": null,
   "metadata": {},
   "outputs": [],
   "source": [
    "viewer.add_image(\n",
    "    _lyso_object,\n",
    "    opacity=0.3)\n",
    "\n",
    "viewer.add_labels(\n",
    "    lyso_object,\n",
    "    opacity=0.3)"
   ]
  },
  {
   "cell_type": "code",
   "execution_count": null,
   "metadata": {},
   "outputs": [],
   "source": [
    "from napari.utils.notebook_display import nbscreenshot\n",
    "\n",
    "nbscreenshot(viewer, canvas_only=True)"
   ]
  },
  {
   "cell_type": "code",
   "execution_count": null,
   "metadata": {},
   "outputs": [],
   "source": [
    "viewer.close()"
   ]
  },
  {
   "attachments": {},
   "cell_type": "markdown",
   "metadata": {},
   "source": [
    "-------------\n",
    "## SUMMARY\n",
    "\n",
    "The above details how the lysosome object is inferred.  \n",
    "\n",
    "### NEXT: INFER MITOCHONDRIA\n",
    "\n",
    "proceed to [05_infer_mito.ipynb](./05_infer_mito.ipynb)\n"
   ]
  }
 ],
 "metadata": {
  "kernelspec": {
   "display_name": "Python 3.9.13 ('napariNEW')",
   "language": "python",
   "name": "python3"
  },
  "language_info": {
   "codemirror_mode": {
    "name": "ipython",
    "version": 3
   },
   "file_extension": ".py",
   "mimetype": "text/x-python",
   "name": "python",
   "nbconvert_exporter": "python",
   "pygments_lexer": "ipython3",
   "version": "3.10.11"
  },
  "orig_nbformat": 4,
  "vscode": {
   "interpreter": {
    "hash": "d6148ef1fb015fb20f0b6da2ea61c87c6b848bdf3dabb03087e5d5cd0c4607e9"
   }
  }
 },
 "nbformat": 4,
 "nbformat_minor": 2
}
