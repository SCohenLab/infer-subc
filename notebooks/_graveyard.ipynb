{
 "cells": [
  {
   "cell_type": "code",
   "execution_count": null,
   "metadata": {},
   "outputs": [],
   "source": []
  },
  {
   "cell_type": "markdown",
   "metadata": {},
   "source": [
    "# GRAVEYARD"
   ]
  },
  {
   "cell_type": "markdown",
   "metadata": {},
   "source": [
    "z_to_xy_ratio = bioim_image.meta[\"scale\"][0]/bioim_image.meta[\"scale\"][1]\n",
    "\n",
    "gaussian_smoothing_sigma = (1.34,  1.34*z_to_xy_ratio, 1.34*z_to_xy_ratio)\n",
    "gaussian_smoothing_truncate_range=4.0\n",
    "\n",
    "gaussian_smoothing_sigma"
   ]
  },
  {
   "cell_type": "code",
   "execution_count": null,
   "metadata": {},
   "outputs": [],
   "source": [
    "\n",
    "\n",
    "\n",
    "total_florescence = img_data[1:-1].astype( np.double ).sum(axis=0)\n",
    "print(total_florescence.shape)\n",
    "max_proj = ndi.maximum_filter(total_florescence,size = (3,1,1))\n"
   ]
  }
 ],
 "metadata": {
  "kernelspec": {
   "display_name": "Python 3.9.13 ('napariNEW')",
   "language": "python",
   "name": "python3"
  },
  "language_info": {
   "name": "python",
   "version": "3.9.13"
  },
  "orig_nbformat": 4,
  "vscode": {
   "interpreter": {
    "hash": "d6148ef1fb015fb20f0b6da2ea61c87c6b848bdf3dabb03087e5d5cd0c4607e9"
   }
  }
 },
 "nbformat": 4,
 "nbformat_minor": 2
}
