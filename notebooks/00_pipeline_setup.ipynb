{
 "cells": [
  {
   "cell_type": "markdown",
   "metadata": {},
   "source": [
    "# SCohenLab 2D Image Processing notebook (Simplified MCZ)\n",
    "\n",
    "--------------\n",
    "# PIPELINE OVERVIEW\n",
    "## 1. GOAL SETTING ✍\n",
    "\n",
    "### GOAL:  Infer sub-cellular components in order to understand interactome \n",
    "\n",
    "To measure shape, position, size, and interaction of eight organelles/cellular components (Nuclei (NU), Lysosomes (LS),Mitochondria (MT), Golgi (GL), Peroxisomes (PO), Endoplasmic Reticulum (ER), Lipid Droplet (LD), and SOMA) during differentiation of iPSCs, in order to understand the Interactome / Spatiotemporal coordination.\n",
    "\n",
    "### summary of _OBJECTIVES_ ✅\n",
    "- robust inference of subcellular objects:\n",
    "  -  #### 1️⃣. [infer NUCLEI ](./01_infer_nuclei.ipynb) \n",
    "  -  #### 2️⃣. [Infer SOMA](./02_infer_soma.ipynb) 🚧 WIP 🚧 (🚨🚨🚨🚨 Steps 3-9 depend on establishing a good solution here.)\n",
    "  -  #### 3️⃣. [Infer CYTOSOL](./03_infer_cytosol.ipynb)🚧 WIP 🚧\n",
    "  -  #### 4️⃣. [Infer LYSOSOMES](./04_infer_lysosome.ipynb)\n",
    "  -  #### 5️⃣. [Infer MITOCHONDRIA](./05_infer_mitochondria.ipynb)\n",
    "  -  #### 6️⃣. [Infer GOLGI complex](./06_golgi.ipynb)\n",
    "  -  #### 7️⃣. [Infer PEROXISOMES](./07_peroxisome.ipynb)\n",
    "  -  #### 8️⃣. [Infer ENDOPLASMIC RETICULUM ](./08_endoplasmic_reticulum.ipynb)\n",
    "  -  #### 9️⃣. [Infer LB](./09_lipid_bodies.ipynb) 🚧 WIP 🚧\n",
    "\n"
   ]
  },
  {
   "cell_type": "markdown",
   "metadata": {},
   "source": [
    "\n",
    "\n",
    "## 2. DATA CREATION\n",
    "> METHODS:📚📚\n",
    "> \n",
    "> iPSC lines prepared and visualized on Zeiss Microscopes. 32 channel multispectral images collected.  Linear Unmixing in  ZEN Blue software with target emission spectra yields 8 channel image outputs.  Channels correspond to: Nuclei (NU), Lysosomes (LS),Mitochondria (MT), Golgi (GL), Peroxisomes (PO), Endoplasmic Reticulum (ER), Lipid Droplet (LD), and a “residual” signal.\n",
    "\n",
    "> Meta-DATA 🏺 (artifacts)\n",
    ">   - Microcope settings\n",
    ">  - OME scheme\n",
    "> - Experimenter observations\n",
    "> - Sample, bio-replicate, image numbers, condition values, etc\n",
    ">  - Dates\n",
    ">  - File structure, naming conventions\n",
    ">  - etc.\n",
    "\n",
    "\n"
   ]
  },
  {
   "cell_type": "markdown",
   "metadata": {},
   "source": [
    "\n",
    "## 3. IMAGE PROCESSING\n",
    "### INFERENCE OF SUB-CELLULAR OBJECTS\n",
    "The imported images have already been pre-processed to transform the 32 channel spectral measuremnts into \"linearly unmixed\" images which estimate independently labeled sub-cellular components.  Thes 7 channels (plus a residual \"non-linear\" signal) will be used to infer the shapes and extents of these sub-cellular components.   \n",
    "A single \"optimal\" Z slice is chosen for each image for subsequent 2D analysis.\n",
    "We will perform computational image analysis on the pictures to _segment_ (or _binarize_) the components of interest for measurement.  In other procedures we can used these labels as \"ground truth\" labels to train machine learning models to automatically perform the inference of these objects.\n",
    "Pseudo-independent processing of the imported multi-channel image to acheive each of the 9 objecives stated above.  i.e. infering: NUCLEI, SOMA, CYTOSOL, LYSOSOME, MITOCHONDRIA, GOLGI COMPLEX, PEROZISOMES, ENDOPLASMIC RETICULUM, and LIPID BODIES\n",
    "\n",
    "### General flow for infering objects via segmentation\n",
    "- Pre-processing 🌒\n",
    "- Core-processing (thresholding) 🌕\n",
    "- Post-processing  🌘\n",
    "\n",
    "### QC 🚧 WIP 🚧 \n"
   ]
  },
  {
   "cell_type": "markdown",
   "metadata": {},
   "source": [
    "\n",
    "\n",
    "## 4. QUANTIFICATION 📏📐🧮\n",
    "\n",
    "SUBCELLULAR COMPONENT METRICS\n",
    "-  extent \n",
    "-  size\n",
    "-  shape\n",
    "-  position\n",
    "\n",
    "\n",
    "\n",
    "### NOTE: PIPELINE TOOL AND DESIGN CHOICES?\n",
    "We want to leverage the Allen Cell & Structure Segmenter.  It has been wrapped as a [napari-plugin](https://www.napari-hub.org/plugins/napari-allencell-segmenter) but fore the workflow we are proving out here we will want to call the `aicssegmentation` [package](https://github.com/AllenCell/aics-segmentation) directly.\n",
    "\n",
    "#### ​The Allen Cell & Structure Segmenter \n",
    "​The Allen Cell & Structure Segmenter is a Python-based open source toolkit developed at the Allen Institute for Cell Science for 3D segmentation of intracellular structures in fluorescence microscope images. This toolkit brings together classic image segmentation and iterative deep learning workflows first to generate initial high-quality 3D intracellular structure segmentations and then to easily curate these results to generate the ground truths for building robust and accurate deep learning models. The toolkit takes advantage of the high replicate 3D live cell image data collected at the Allen Institute for Cell Science of over 30 endogenous fluorescently tagged human induced pluripotent stem cell (hiPSC) lines. Each cell line represents a different intracellular structure with one or more distinct localization patterns within undifferentiated hiPS cells and hiPSC-derived cardiomyocytes.\n",
    "\n",
    "More details about Segmenter can be found at https://allencell.org/segmenter\n",
    "In order to leverage the A\n",
    "# IMPORTS\n",
    "\n",
    "import  all nescessary packages\n",
    "\n",
    "we are using `napari` for visualization, and `scipy` `ndimage` and `skimage` for analyzing the image files.  The underlying data format are `numpy` `ndarrays` and tools from  Allen Institute for Cell Science.\n"
   ]
  },
  {
   "cell_type": "code",
   "execution_count": 1,
   "metadata": {},
   "outputs": [],
   "source": [
    "# top level imports\n",
    "from pathlib import Path\n",
    "import os, sys\n",
    "from collections import defaultdict\n",
    "\n",
    "import numpy as np\n",
    "import scipy\n",
    "\n",
    "# # function for core algorithm\n",
    "from scipy import ndimage as ndi\n",
    "import aicssegmentation\n",
    "from aicssegmentation.core.seg_dot import dot_3d_wrapper, dot_slice_by_slice, dot_2d_slice_by_slice_wrapper, dot_3d\n",
    "from aicssegmentation.core.pre_processing_utils import ( intensity_normalization, \n",
    "                                                         image_smoothing_gaussian_3d,  \n",
    "                                                         image_smoothing_gaussian_slice_by_slice )\n",
    "from aicssegmentation.core.utils import topology_preserving_thinning\n",
    "from aicssegmentation.core.MO_threshold import MO\n",
    "from aicssegmentation.core.utils import hole_filling\n",
    "from aicssegmentation.core.vessel import filament_2d_wrapper, vesselnessSliceBySlice\n",
    "from aicssegmentation.core.output_utils import   save_segmentation,  generate_segmentation_contour\n",
    "                                                 \n",
    "from skimage import filters\n",
    "from skimage import morphology\n",
    "from skimage.segmentation import watershed\n",
    "from skimage.feature import peak_local_max\n",
    "from skimage.morphology import remove_small_objects, binary_closing, ball , dilation   # function for post-processing (size filter)\n",
    "from skimage.measure import label\n",
    "\n",
    "# # package for io \n",
    "from aicsimageio import AICSImage\n",
    "\n",
    "import napari\n",
    "\n",
    "### import local python functions in ../infer_subc_2d\n",
    "sys.path.append(os.path.abspath((os.path.join(os.getcwd(), '..'))))\n",
    "\n",
    "from infer_subc_2d.utils.file_io import read_input_image, list_image_files\n",
    "from infer_subc_2d.utils.img import *\n",
    "\n",
    "%load_ext autoreload\n",
    "%autoreload 2\n",
    "\n",
    "viewer = None\n",
    "# # from infer_subc_2d.bioim.object import BioImObject\n",
    "# # from infer_subc_2d.transforms.transform import BioImTransform\n",
    "# # from infer_subc_2d.transforms.pipeline import BioImPipeline\n",
    "# from infer_subc_2d.utils.file_io import read_input_image, get_raw_meta_data"
   ]
  },
  {
   "cell_type": "code",
   "execution_count": 2,
   "metadata": {},
   "outputs": [],
   "source": [
    "\n",
    "from aicssegmentation.workflow import WorkflowEngine, WorkflowStep, WorkflowDefinition\n",
    "\n",
    "\n",
    "# from dataclasses import dataclass\n",
    "# from typing import List\n",
    "# from aicssegmentation.workflow import Workflow\n",
    "\n",
    "\n",
    "# @dataclass\n",
    "# class Channel:\n",
    "#     index: int\n",
    "#     name: str = None\n",
    "\n",
    "#     @property\n",
    "#     def display_name(self):\n",
    "#         if self.name is None or self.name.strip().isspace():\n",
    "#             return f\"Channel {self.index}\"\n",
    "\n",
    "#         return f\"Ch{self.index}.  {self.name}\"\n",
    "\n",
    "# @dataclass\n",
    "# class SegmenterModel:\n",
    "#     \"\"\"\n",
    "#     Main Segmenter plugin model\n",
    "#     \"\"\"\n",
    "\n",
    "#     layers: List[str] = None\n",
    "#     selected_layer: Layer = None\n",
    "#     channels: List[str] = None\n",
    "#     selected_channel: Channel = None\n",
    "#     workflows: List[str] = None\n",
    "#     active_workflow: Workflow = None\n",
    "\n",
    "#     def reset(self):\n",
    "#         \"\"\"\n",
    "#         Reset model state\n",
    "#         \"\"\"\n",
    "#         self.layers = None\n",
    "#         self.selected_layer = None\n",
    "#         self.channels = None\n",
    "#         self.selected_channel = None\n",
    "#         self.workflows = None\n",
    "#         self.active_workflow = None"
   ]
  },
  {
   "cell_type": "code",
   "execution_count": 3,
   "metadata": {},
   "outputs": [],
   "source": [
    "#sys.path.append(os.path.abspath((os.path.join(os.getcwd(), '..'))))\n",
    "# viewer = napari.Viewer()"
   ]
  },
  {
   "cell_type": "markdown",
   "metadata": {},
   "source": [
    "\n",
    "# Get and load Image for processing\n",
    "For testing purposes... TODO: build a nice wrapper for this.\n"
   ]
  },
  {
   "cell_type": "markdown",
   "metadata": {},
   "source": [
    "\n",
    "Read the data into memeory from the `.czi` files.  (Note: there is also the 2D slice .tif file read for later comparision).  WE will also collect metatdata.\n",
    "\n",
    "> the `data_path` variable should have the full path to the set of images wrapped in a `Path()`.   Below the path is built in 3 stages\n",
    "> 1. my user directory \"~\" plus\n",
    "> 2. general imaging data directory \"Projects/Imaging/data\" plus\n",
    "> 3. \"raw\" where the linearly unmixed zstacks are\n",
    "\n",
    "The image \"type\" is also set by `im_type = \".czi\"`\n"
   ]
  },
  {
   "cell_type": "code",
   "execution_count": 4,
   "metadata": {},
   "outputs": [
    {
     "data": {
      "text/plain": [
       "'/Users/ahenrie/Projects/Imaging/data/raw/ZSTACK_PBTOhNGN2hiPSCs_BR3_N04_Unmixed.czi'"
      ]
     },
     "execution_count": 4,
     "metadata": {},
     "output_type": "execute_result"
    }
   ],
   "source": [
    "# build the datapath\n",
    "# all the imaging data goes here.\n",
    "data_root_path = Path(os.path.expanduser(\"~\")) / \"Projects/Imaging/data\"\n",
    "\n",
    "# linearly unmixed \".czi\" files are here\n",
    "data_path = data_root_path / \"raw\"\n",
    "im_type = \".czi\"\n",
    "\n",
    "# depricate this\n",
    "# list_img_files = lambda img_folder,f_type: [os.path.join(img_folder,f_name) for f_name in os.listdir(img_folder) if f_name.endswith(f_type)]\n",
    "img_file_list = list_image_files(data_path,im_type)\n",
    "\n",
    "test_img_name = img_file_list[5]\n",
    "test_img_name"
   ]
  },
  {
   "cell_type": "code",
   "execution_count": 5,
   "metadata": {},
   "outputs": [
    {
     "name": "stderr",
     "output_type": "stream",
     "text": [
      "/opt/anaconda3/envs/napariNEW/lib/python3.9/site-packages/ome_types/_convenience.py:105: FutureWarning: The default XML parser will be changing from 'xmlschema' to 'lxml' in version 0.4.0.  To silence this warning, please provide the `parser` argument, specifying either 'lxml' (to opt into the new behavior), or'xmlschema' (to retain the old behavior).\n",
      "  d = to_dict(os.fspath(xml), parser=parser, validate=validate)\n"
     ]
    }
   ],
   "source": [
    "bioim_image = read_input_image(test_img_name)\n",
    "\n",
    "img_data = bioim_image.image\n",
    "raw_meta_data = bioim_image.raw_meta\n",
    "ome_types = []\n",
    "meta_dict = bioim_image.meta\n",
    "\n",
    "# get some top-level info about the RAW data\n",
    "channel_names = meta_dict['name']\n",
    "img = meta_dict['metadata']['aicsimage']\n",
    "scale = meta_dict['scale']\n",
    "channel_axis = meta_dict['channel_axis']\n"
   ]
  },
  {
   "cell_type": "markdown",
   "metadata": {},
   "source": [
    "## CHOOZE Z-SLICE\n",
    "\n",
    "We need to chooze which Z-slice to analyze for subsequent organelle segmentation.  _A priori_ we expect that the other organelles are ***NOT*** _inside_ of the nucleus, and we want to chooze a Z with minimal overlap between the nucleus and other organelles.  For now we will also assume that a majority of the signals are attributable to a single well marked cell.\n",
    "\n",
    "\n",
    "In the future we might develop an optimization procedure to resample along an arbitrary plane such that the total florescence signal is maximized and the overlap on nuclei with other organelles.   We may also want to limit ourselves to a single neuron / soma.\n",
    "\n",
    "Maria Clara's description of how she choose Z-slices:  \"I do choose the slice which it contains all the organelle (Nuclei and Golgi are the most difficult one since show high polarity) and that it would contain the highest density of them (you can see trough the slices that some organelle show high density in specific planes)\"\n"
   ]
  },
  {
   "cell_type": "code",
   "execution_count": 7,
   "metadata": {},
   "outputs": [],
   "source": [
    "# get nuclei and normalize...\n",
    "# median filter in 2D / convert to float 0-1.   get rid of the \"residual\"\n",
    "nuclei = simple_intensity_normalization(img_data[0].copy())\n",
    "\n",
    "med_filter_size = 4   \n",
    "# structure_img_median_3D = ndi.median_filter(struct_img,    size=med_filter_size  )\n",
    "nuclei = median_filter_slice_by_slice( \n",
    "                                                                nuclei,\n",
    "                                                                size=med_filter_size  )\n",
    "\n",
    "gaussian_smoothing_sigma = 1.34\n",
    "gaussian_smoothing_truncate_range = 3.0\n",
    "nuclei = image_smoothing_gaussian_slice_by_slice(   nuclei,\n",
    "                                                                                                    sigma=gaussian_smoothing_sigma,\n",
    "                                                                                                    truncate_range = gaussian_smoothing_truncate_range\n",
    "                                                                                                )\n",
    "\n",
    "#struct_obj = struct_img > filters.threshold_li(struct_img)\n",
    "threshold_value_log = threshold_li_log(nuclei)\n",
    "\n",
    "threshold_factor = 0.9 #from cellProfiler\n",
    "thresh_min = .1\n",
    "thresh_max = 1.\n",
    "threshold = min( max(threshold_value_log*threshold_factor, thresh_min), thresh_max)\n",
    "\n",
    "struct_obj = nuclei > threshold\n",
    "\n",
    "###################\n"
   ]
  },
  {
   "cell_type": "code",
   "execution_count": 8,
   "metadata": {},
   "outputs": [
    {
     "name": "stdout",
     "output_type": "stream",
     "text": [
      "(16, 768, 768)\n"
     ]
    },
    {
     "data": {
      "text/plain": [
       "8"
      ]
     },
     "execution_count": 8,
     "metadata": {},
     "output_type": "execute_result"
    }
   ],
   "source": [
    "\n",
    "# mask everything and find most intense flourescence NOT in the nuclei\n",
    "ch_to_agg = (1,2,3,4,5,6)\n",
    "\n",
    "total_florescence = img_data[ch_to_agg,].astype( np.double ).sum(axis=0)\n",
    "print(total_florescence.shape)\n",
    "total_ = total_florescence\n",
    "total_[struct_obj] =0 \n",
    "optimal_Z = total_.sum(axis=(1,2)).argmax()\n",
    "optimal_Z\n"
   ]
  },
  {
   "cell_type": "code",
   "execution_count": 9,
   "metadata": {},
   "outputs": [],
   "source": [
    "# copy this to base.py for easy import\n",
    "from typing import Tuple\n",
    "\n",
    "def _find_optimal_Z(raw_img:np.ndarray, nuc_ch:int, ch_to_agg:Tuple[int]) -> int:\n",
    "    \"\"\"\n",
    "    Procedure to infer NUCLEI from linearly unmixed input.\n",
    "\n",
    "    Parameters:\n",
    "    ------------\n",
    "    raw_img: np.ndarray\n",
    "        a ch,z,x,y - image containing florescent signal\n",
    "\n",
    "    nuclei_ch: int\n",
    "        holds the needed parameters\n",
    "\n",
    "    nuclei_ch: int\n",
    "        holds the needed parameters\n",
    "\n",
    "    Returns:\n",
    "    -------------\n",
    "    opt_z:\n",
    "        the \"0ptimal\" z-slice which has the most signal intensity for downstream 2D segmentation    \n",
    "    \"\"\"\n",
    "\n",
    "    # median filter in 2D / convert to float 0-1.   get rid of the \"residual\"\n",
    "    nuclei = simple_intensity_normalization(raw_img[nuc_ch].copy())\n",
    "\n",
    "    med_filter_size = 4   \n",
    "    # structure_img_median_3D = ndi.median_filter(struct_img,    size=med_filter_size  )\n",
    "    nuclei = median_filter_slice_by_slice( \n",
    "                                                                    nuclei,\n",
    "                                                                    size=med_filter_size  )\n",
    "\n",
    "    gaussian_smoothing_sigma = 1.34\n",
    "    gaussian_smoothing_truncate_range = 3.0\n",
    "    nuclei = image_smoothing_gaussian_slice_by_slice(  nuclei,\n",
    "                                                                                                sigma=gaussian_smoothing_sigma,\n",
    "                                                                                                truncate_range = gaussian_smoothing_truncate_range\n",
    "                                                                                                )\n",
    "\n",
    "    #struct_obj = struct_img > filters.threshold_li(struct_img)\n",
    "    threshold_value_log = threshold_li_log(nuclei)\n",
    "\n",
    "    threshold_factor = 0.9 #from cellProfiler\n",
    "    thresh_min = .1\n",
    "    thresh_max = 1.\n",
    "    threshold = min( max(threshold_value_log*threshold_factor, thresh_min), thresh_max)\n",
    "\n",
    "    struct_obj = nuclei > threshold\n",
    "    # find the z with the maximum non-nuclei florescence\n",
    "    total_florescence = raw_img[ch_to_agg,].astype( np.double ).sum(axis=0)\n",
    "    total_florescence[struct_obj] =0 \n",
    "    optimal_Z = total_florescence.sum(axis=(1,2)).argmax()\n",
    "\n",
    "    return optimal_Z\n"
   ]
  },
  {
   "cell_type": "code",
   "execution_count": 10,
   "metadata": {},
   "outputs": [],
   "source": [
    "ch_to_agg = (1,2,3,4,5,6)\n",
    "nuc_ch = 0"
   ]
  },
  {
   "cell_type": "code",
   "execution_count": 11,
   "metadata": {},
   "outputs": [],
   "source": [
    "optimal_Z = _find_optimal_Z(img_data, nuc_ch, ch_to_agg) \n"
   ]
  },
  {
   "cell_type": "code",
   "execution_count": 13,
   "metadata": {},
   "outputs": [
    {
     "data": {
      "text/plain": [
       "8"
      ]
     },
     "execution_count": 13,
     "metadata": {},
     "output_type": "execute_result"
    }
   ],
   "source": [
    "optimal_Z = find_optimal_Z(img_data, nuc_ch, ch_to_agg) \n",
    "optimal_Z"
   ]
  },
  {
   "cell_type": "code",
   "execution_count": null,
   "metadata": {},
   "outputs": [],
   "source": [
    "\n",
    "structure_img_smooth = ndi.gaussian_filter( struct_img, sigma=gaussian_smoothing_sigma, mode=\"nearest\", truncate=gaussian_smoothing_truncate_range)\n",
    "\n"
   ]
  },
  {
   "cell_type": "code",
   "execution_count": 11,
   "metadata": {},
   "outputs": [
    {
     "data": {
      "text/plain": [
       "dtype('float64')"
      ]
     },
     "execution_count": 11,
     "metadata": {},
     "output_type": "execute_result"
    }
   ],
   "source": [
    "structure_img_median.dtype"
   ]
  },
  {
   "cell_type": "code",
   "execution_count": null,
   "metadata": {},
   "outputs": [],
   "source": [
    "\n",
    "#pixels\n",
    "gaussian_smoothing_sigma = 2.0\n",
    "\n",
    "gaussian_smoothing_truncate_range = 4.0\n",
    "# cross product \n",
    "\n",
    "\n",
    "#\n",
    "structure_img_median = ndi.median_filter(struct_img, size = med_filter_size)\n",
    "structure_img_smooth = ndi.gaussian_filter( struct_img, sigma=gaussian_smoothing_sigma, mode=\"nearest\", truncate=gaussian_smoothing_truncate_range)\n"
   ]
  },
  {
   "cell_type": "markdown",
   "metadata": {},
   "source": [
    "Or do segmentation on EVERY slice and then calculate optimal slice _later_?\n"
   ]
  },
  {
   "cell_type": "code",
   "execution_count": 7,
   "metadata": {},
   "outputs": [
    {
     "data": {
      "text/plain": [
       "(8, 768, 768)"
      ]
     },
     "execution_count": 7,
     "metadata": {},
     "output_type": "execute_result"
    }
   ],
   "source": [
    "\n",
    "total_florescence = img_data[0:-2].astype( np.double ).sum(axis=0)\n",
    "max_proj = ndi.maximum_filter(total_florescence,size = (3,1,1))\n",
    "\n",
    "\n",
    "max_Z = max_proj.sum(axis=(1,2)).argmax()\n",
    "im_dat = img_data[:,max_Z,:,:]\n",
    "im_dat.shape"
   ]
  },
  {
   "cell_type": "code",
   "execution_count": 13,
   "metadata": {},
   "outputs": [
    {
     "data": {
      "text/plain": [
       "array([13591.60792914, 13716.53311564, 13600.09623244, 13467.81564229,\n",
       "       13454.94313863, 13532.09359266, 13705.09108209, 13869.04088677,\n",
       "       14032.77326457, 14099.54194336, 14009.02593418, 13889.99902751,\n",
       "       13637.38881836, 13343.11465454, 13106.73651937, 12902.12800225])"
      ]
     },
     "execution_count": 13,
     "metadata": {},
     "output_type": "execute_result"
    }
   ],
   "source": [
    "tot_organelle_pwr = (img_data[1:-2] ** 2).mean(axis=(2,3)).mean(axis=0)\n",
    "tot_organelle_pwr"
   ]
  },
  {
   "cell_type": "code",
   "execution_count": 21,
   "metadata": {},
   "outputs": [
    {
     "data": {
      "text/plain": [
       "[<Image layer 'Image [1]' at 0x18043b940>,\n",
       " <Image layer 'Image [2]' at 0x180579fd0>,\n",
       " <Image layer 'Image [3]' at 0x18064ff40>,\n",
       " <Image layer 'Image [4]' at 0x18074efa0>,\n",
       " <Image layer 'Image [5]' at 0x1807e9eb0>,\n",
       " <Image layer 'Image [6]' at 0x180809fd0>,\n",
       " <Image layer 'Image [7]' at 0x18089eeb0>,\n",
       " <Image layer 'Image [8]' at 0x180935ee0>]"
      ]
     },
     "execution_count": 21,
     "metadata": {},
     "output_type": "execute_result"
    }
   ],
   "source": []
  },
  {
   "cell_type": "code",
   "execution_count": 18,
   "metadata": {},
   "outputs": [
    {
     "data": {
      "text/plain": [
       "(16, 768, 768)"
      ]
     },
     "execution_count": 18,
     "metadata": {},
     "output_type": "execute_result"
    }
   ],
   "source": [
    "overlap_pwr[0].shape"
   ]
  },
  {
   "cell_type": "markdown",
   "metadata": {},
   "source": [
    "## TODO:  create a napari plugin to interactively find the best slice...\n",
    "\n",
    "- minimize: overlap_matric {nuclei(ch0), all other organelles (1-6)}\n",
    "- maximize: signal_pwr (ch 1-6)"
   ]
  },
  {
   "cell_type": "code",
   "execution_count": 17,
   "metadata": {},
   "outputs": [
    {
     "data": {
      "text/plain": [
       "<Image layer 'Image' at 0x1800fd4c0>"
      ]
     },
     "execution_count": 17,
     "metadata": {},
     "output_type": "execute_result"
    }
   ],
   "source": [
    "viewer.add_image(overlap_pwr[0])"
   ]
  },
  {
   "cell_type": "markdown",
   "metadata": {},
   "source": [
    "---------------------------\n",
    "Please proceed to 01_infer_nuclei.ipynb\n",
    "\n",
    "\n",
    "everything below is just testing some speed of different libraries..  "
   ]
  },
  {
   "cell_type": "markdown",
   "metadata": {},
   "source": []
  },
  {
   "cell_type": "markdown",
   "metadata": {},
   "source": [
    "Visualize the raw data file with [napari](https://napari.org)"
   ]
  },
  {
   "cell_type": "code",
   "execution_count": 26,
   "metadata": {},
   "outputs": [],
   "source": [
    "\n",
    "viewer = napari.view_image(\n",
    "    img_data,\n",
    "    channel_axis=0,\n",
    "    name=channel_names,\n",
    "    scale=scale\n",
    ")\n",
    "viewer.scale_bar.visible = True\n"
   ]
  },
  {
   "cell_type": "code",
   "execution_count": null,
   "metadata": {},
   "outputs": [],
   "source": [
    "viewer.dims.ndisplay = 3\n",
    "viewer.camera.angles = (-30, 25, 120)"
   ]
  },
  {
   "cell_type": "code",
   "execution_count": null,
   "metadata": {},
   "outputs": [],
   "source": [
    "##  need to save: \n",
    "\n",
    "# output_path, list_of_files\n",
    "viewer.dims.ndisplay = 2"
   ]
  }
 ],
 "metadata": {
  "kernelspec": {
   "display_name": "Python 3 (ipykernel)",
   "language": "python",
   "name": "python3"
  },
  "language_info": {
   "codemirror_mode": {
    "name": "ipython",
    "version": 3
   },
   "file_extension": ".py",
   "mimetype": "text/x-python",
   "name": "python",
   "nbconvert_exporter": "python",
   "pygments_lexer": "ipython3",
   "version": "3.9.13"
  },
  "vscode": {
   "interpreter": {
    "hash": "d6148ef1fb015fb20f0b6da2ea61c87c6b848bdf3dabb03087e5d5cd0c4607e9"
   }
  }
 },
 "nbformat": 4,
 "nbformat_minor": 2
}
