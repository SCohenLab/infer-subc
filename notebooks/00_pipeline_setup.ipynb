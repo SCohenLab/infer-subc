{
 "cells": [
  {
   "cell_type": "code",
   "execution_count": null,
   "metadata": {},
   "outputs": [],
   "source": []
  },
  {
   "cell_type": "markdown",
   "metadata": {},
   "source": [
    "# SCohenLab 2D Image Processing notebook (Simplified MCZ)\n",
    "\n",
    "This notebook illustrates how to read the .czi images and process them.   Specifically how to select an \"optimal\" Z-slice for further processing.\n",
    "\n",
    "\n",
    "--------------\n",
    "# PIPELINE OVERVIEW\n",
    "## 1. GOAL SETTING ✍\n",
    "\n",
    "### GOAL:  Infer sub-cellular components in order to understand interactome \n",
    "\n",
    "To measure shape, position, size, and interaction of eight organelles/cellular components (Nuclei (NU), Lysosomes (LS),Mitochondria (MT), Golgi (GL), Peroxisomes (PO), Endoplasmic Reticulum (ER), Lipid Droplet (LD), and SOMA) during differentiation of iPSCs, in order to understand the Interactome / Spatiotemporal coordination.\n",
    "\n",
    "### summary of _OBJECTIVES_ ✅\n",
    "- robust inference of subcellular objects:\n",
    "  -  #### 1️⃣. [Infer ***soma***](./01_infer_soma.ipynb) (🚨🚨🚨🚨 Steps 2-9 depend on establishing a good solution here.)\n",
    "  -  #### 2️⃣. [infer ***nuclei*** ](./02_infer_nuclei.ipynb) \n",
    "  -  #### 3️⃣. [Infer ***cytosol***](./03_infer_cytosol.ipynb)\n",
    "  -  #### 4️⃣. [Infer ***lysosomes***](./04_infer_lysosome.ipynb)\n",
    "  -  #### 5️⃣. [Infer ***mitochondria***](./05_infer_mitochondria.ipynb)\n",
    "  -  #### 6️⃣. [Infer ***golgi*** complex](./06_golgi.ipynb)\n",
    "  -  #### 7️⃣. [Infer ***peroxisome***](./07_peroxisome.ipynb)\n",
    "  -  #### 8️⃣. [Infer ***endoplasmic reticulum*** ](./08_endoplasmic_reticulum.ipynb)\n",
    "  -  #### 9️⃣. [Infer ***lipid body***](./09_lipid_bodies.ipynb) \n",
    "\n"
   ]
  },
  {
   "cell_type": "markdown",
   "metadata": {},
   "source": [
    "\n",
    "\n",
    "## 2. DATA CREATION\n",
    "> METHODS:📚📚\n",
    "> \n",
    "> iPSC lines prepared and visualized on Zeiss Microscopes. 32 channel multispectral images collected.  Linear Unmixing in  ZEN Blue software with target emission spectra yields 8 channel image outputs.  Channels correspond to: Nuclei (NU), Lysosomes (LS),Mitochondria (MT), Golgi (GL), Peroxisomes (PO), Endoplasmic Reticulum (ER), Lipid Droplet (LD), and a “residual” signal.\n",
    "\n",
    "> Meta-DATA 🏺 (artifacts)\n",
    ">   - Microcope settings\n",
    ">  - OME scheme\n",
    "> - Experimenter observations\n",
    "> - Sample, bio-replicate, image numbers, condition values, etc\n",
    ">  - Dates\n",
    ">  - File structure, naming conventions\n",
    ">  - etc.\n",
    "\n",
    "\n"
   ]
  },
  {
   "cell_type": "markdown",
   "metadata": {},
   "source": [
    "\n",
    "## 3. IMAGE PROCESSING  ⚙️🩻🔬\n",
    "### INFERENCE OF SUB-CELLULAR OBJECTS\n",
    "The imported images have already been pre-processed to transform the 32 channel spectral measuremnts into \"linearly unmixed\" images which estimate independently labeled sub-cellular components.  Thes 7 channels (plus a residual \"non-linear\" signal) will be used to infer the shapes and extents of these sub-cellular components.   \n",
    "A single \"optimal\" Z slice is chosen for each image for subsequent 2D analysis.\n",
    "We will perform computational image analysis on the pictures to _segment_ (or _binarize_) the components of interest for measurement.  In other procedures we can used these labels as \"ground truth\" labels to train machine learning models to automatically perform the inference of these objects.\n",
    "Pseudo-independent processing of the imported multi-channel image to acheive each of the 9 objecives stated above.  i.e. infering: NUCLEI, SOMA, CYTOSOL, LYSOSOME, MITOCHONDRIA, GOLGI COMPLEX, PEROZISOMES, ENDOPLASMIC RETICULUM, and LIPID BODIES\n",
    "\n",
    "### General flow for infering objects via segmentation\n",
    "- Pre-processing 🌒\n",
    "- Core-processing (thresholding) 🌕\n",
    "- Post-processing  🌘\n",
    "\n",
    "### QC 🚧 WIP 🚧 \n"
   ]
  },
  {
   "cell_type": "markdown",
   "metadata": {},
   "source": [
    "\n",
    "\n",
    "## 4. QUANTIFICATION 📏📐🧮\n",
    "\n",
    "SUBCELLULAR COMPONENT METRICS\n",
    "-  extent \n",
    "-  size\n",
    "-  shape\n",
    "-  position\n",
    "\n",
    "\n",
    "\n",
    "### NOTE: PIPELINE TOOL AND DESIGN CHOICES?\n",
    "We want to leverage the Allen Cell & Structure Segmenter.  It has been wrapped as a [napari-plugin](https://www.napari-hub.org/plugins/napari-allencell-segmenter) but fore the workflow we are proving out here we will want to call the `aicssegmentation` [package](https://github.com/AllenCell/aics-segmentation) directly.\n",
    "\n",
    "#### ​The Allen Cell & Structure Segmenter \n",
    "​The Allen Cell & Structure Segmenter is a Python-based open source toolkit developed at the Allen Institute for Cell Science for 3D segmentation of intracellular structures in fluorescence microscope images. This toolkit brings together classic image segmentation and iterative deep learning workflows first to generate initial high-quality 3D intracellular structure segmentations and then to easily curate these results to generate the ground truths for building robust and accurate deep learning models. The toolkit takes advantage of the high replicate 3D live cell image data collected at the Allen Institute for Cell Science of over 30 endogenous fluorescently tagged human induced pluripotent stem cell (hiPSC) lines. Each cell line represents a different intracellular structure with one or more distinct localization patterns within undifferentiated hiPS cells and hiPSC-derived cardiomyocytes.\n",
    "\n",
    "More details about Segmenter can be found at https://allencell.org/segmenter\n",
    "In order to leverage the A\n",
    "# IMPORTS\n",
    "\n",
    "import  all nescessary packages\n",
    "\n",
    "we are using `napari` for visualization, and `scipy` `ndimage` and `skimage` for analyzing the image files.  The underlying data format are `numpy` `ndarrays` and tools from  Allen Institute for Cell Science.\n"
   ]
  },
  {
   "cell_type": "code",
   "execution_count": 1,
   "metadata": {},
   "outputs": [],
   "source": [
    "# top level imports\n",
    "from pathlib import Path\n",
    "import os, sys\n",
    "from collections import defaultdict\n",
    "\n",
    "import numpy as np\n",
    "import scipy\n",
    "\n",
    "from typing import Union, List, Tuple, Any\n",
    "# TODO:  prune the imports.. this is the big set for almost all organelles\n",
    "# # function for core algorithm\n",
    "from scipy import ndimage as ndi\n",
    "import aicssegmentation\n",
    "from aicssegmentation.core.pre_processing_utils import ( intensity_normalization, \n",
    "                                                         image_smoothing_gaussian_slice_by_slice )\n",
    "\n",
    "# # package for io \n",
    "from aicsimageio import AICSImage\n",
    "\n",
    "import napari\n",
    "\n",
    "### import local python functions in ../infer_subc_2d\n",
    "sys.path.append(os.path.abspath((os.path.join(os.getcwd(), '..'))))\n",
    "\n",
    "from infer_subc_2d.utils.file_io import (read_czi_image,\n",
    "                                                                    list_image_files)\n",
    "from infer_subc_2d.utils.img import *\n",
    "from infer_subc_2d.organelles import fixed_get_optimal_Z_image, get_optimal_Z_image\n",
    "from infer_subc_2d.constants import (TEST_IMG_N,\n",
    "                                                                    NUC_CH ,\n",
    "                                                                    LYSO_CH ,\n",
    "                                                                    MITO_CH ,\n",
    "                                                                    GOLGI_CH ,\n",
    "                                                                    PEROXI_CH ,\n",
    "                                                                    ER_CH ,\n",
    "                                                                    LIPID_CH ,\n",
    "                                                                    RESIDUAL_CH , \n",
    "                                                                    ALL_CHANNELS)\n",
    "\n",
    "%load_ext autoreload\n",
    "%autoreload 2\n",
    "\n",
    "test_img_n = TEST_IMG_N"
   ]
  },
  {
   "cell_type": "markdown",
   "metadata": {},
   "source": [
    "\n",
    "# Get and load Image for processing\n",
    "For testing purposes... TODO: build a nice wrapper for this.\n"
   ]
  },
  {
   "cell_type": "markdown",
   "metadata": {},
   "source": [
    "\n",
    "Read the data into memeory from the `.czi` files.  (Note: there is also the 2D slice .tif file read for later comparision).  WE will also collect metatdata.\n",
    "\n",
    "> the `data_path` variable should have the full path to the set of images wrapped in a `Path()`.   Below the path is built in 3 stages\n",
    "> 1. my user directory \"~\" plus\n",
    "> 2. general imaging data directory \"Projects/Imaging/data\" plus\n",
    "> 3. \"raw\" where the linearly unmixed zstacks are\n",
    "\n",
    "The image \"type\" is also set by `im_type = \".czi\"`\n"
   ]
  },
  {
   "cell_type": "code",
   "execution_count": 2,
   "metadata": {},
   "outputs": [
    {
     "data": {
      "text/plain": [
       "'/Users/ahenrie/Projects/Imaging/data/raw/ZSTACK_PBTOhNGN2hiPSCs_BR3_N04_Unmixed.czi'"
      ]
     },
     "execution_count": 2,
     "metadata": {},
     "output_type": "execute_result"
    }
   ],
   "source": [
    "# build the datapath\n",
    "# all the imaging data goes here.\n",
    "data_root_path = Path(os.path.expanduser(\"~\")) / \"Projects/Imaging/data\"\n",
    "\n",
    "# linearly unmixed \".czi\" files are here\n",
    "data_path = data_root_path / \"raw\"\n",
    "im_type = \".czi\"\n",
    "\n",
    "# depricate this\n",
    "# list_img_files = lambda img_folder,f_type: [os.path.join(img_folder,f_name) for f_name in os.listdir(img_folder) if f_name.endswith(f_type)]\n",
    "img_file_list = list_image_files(data_path,im_type)\n",
    "\n",
    "test_img_name = img_file_list[test_img_n]\n",
    "test_img_name"
   ]
  },
  {
   "cell_type": "code",
   "execution_count": 3,
   "metadata": {},
   "outputs": [
    {
     "name": "stderr",
     "output_type": "stream",
     "text": [
      "/opt/anaconda3/envs/napariNEW/lib/python3.9/site-packages/ome_types/_convenience.py:105: FutureWarning: The default XML parser will be changing from 'xmlschema' to 'lxml' in version 0.4.0.  To silence this warning, please provide the `parser` argument, specifying either 'lxml' (to opt into the new behavior), or'xmlschema' (to retain the old behavior).\n",
      "  d = to_dict(os.fspath(xml), parser=parser, validate=validate)\n"
     ]
    }
   ],
   "source": [
    "img_data,meta_dict = read_czi_image(test_img_name)\n",
    "\n",
    "# get some top-level info about the RAW data\n",
    "channel_names = meta_dict['name']\n",
    "img = meta_dict['metadata']['aicsimage']\n",
    "scale = meta_dict['scale']\n",
    "channel_axis = meta_dict['channel_axis']\n"
   ]
  },
  {
   "cell_type": "markdown",
   "metadata": {},
   "source": [
    "## CHOOZE Z-SLICE\n",
    "\n",
    "We need to chooze which Z-slice to analyze for subsequent organelle segmentation.  _A priori_ we expect that the other organelles are ***NOT*** _inside_ of the nucleus, and we want to chooze a Z with minimal overlap between the nucleus and other organelles.  For now we will also assume that a majority of the signals are attributable to a single well marked cell.\n",
    "\n",
    "\n",
    "In the future we might develop an optimization procedure to resample along an arbitrary plane such that the total florescence signal is maximized and the overlap on nuclei with other organelles.   We may also want to limit ourselves to a single neuron / soma.\n",
    "\n",
    "Maria Clara's description of how she choose Z-slices:  \"I do choose the slice which it contains all the organelle (Nuclei and Golgi are the most difficult one since show high polarity) and that it would contain the highest density of them (you can see trough the slices that some organelle show high density in specific planes)\"\n"
   ]
  },
  {
   "cell_type": "code",
   "execution_count": 4,
   "metadata": {},
   "outputs": [
    {
     "name": "stdout",
     "output_type": "stream",
     "text": [
      "intensity normalization: min-max normalization with NO absoluteintensity upper bound\n",
      "(16, 768, 768)\n"
     ]
    }
   ],
   "source": [
    "# get nuclei and normalize...\n",
    "# median filter in 2D / convert to float 0-1.   get rid of the \"residual\"\n",
    "scaling_param =  [0]   \n",
    "\n",
    "nuclei = select_channel_from_raw(img_data, 0)\n",
    "\n",
    "nuclei = intensity_normalization(nuclei, scaling_param=[0])\n",
    "\n",
    "med_filter_size = 4   \n",
    "# structure_img_median_3D = ndi.median_filter(struct_img,    size=med_filter_size  )\n",
    "nuclei = median_filter_slice_by_slice( \n",
    "                                                                nuclei,\n",
    "                                                                size=med_filter_size  )\n",
    "\n",
    "gaussian_smoothing_sigma = 1.34\n",
    "nuclei = image_smoothing_gaussian_slice_by_slice(   nuclei, sigma=gaussian_smoothing_sigma )\n",
    "\n",
    "#struct_obj = struct_img > filters.threshold_li(struct_img)\n",
    "threshold_value_log = threshold_li_log(nuclei)\n",
    "\n",
    "threshold_factor = 0.9 #from cellProfiler\n",
    "thresh_min = .1\n",
    "thresh_max = 1.\n",
    "threshold = min( max(threshold_value_log*threshold_factor, thresh_min), thresh_max)\n",
    "\n",
    "struct_obj = nuclei > threshold\n",
    "\n",
    "###################\n",
    "# mask everything and find most intense flourescence NOT in the nuclei\n",
    "ch_to_agg = ( LYSO_CH ,\n",
    "                        MITO_CH ,\n",
    "                        GOLGI_CH ,\n",
    "                        PEROXI_CH ,\n",
    "                        ER_CH ,\n",
    "                        LIPID_CH )\n",
    "\n",
    "total_florescence = img_data[ch_to_agg,].astype( np.double ).sum(axis=0)\n",
    "print(total_florescence.shape)\n",
    "total_ = total_florescence\n",
    "total_[struct_obj] =0 \n",
    "optimal_Z = total_.sum(axis=(1,2)).argmax()\n"
   ]
  },
  {
   "cell_type": "markdown",
   "metadata": {},
   "source": [
    "Now make some functions to handle the procedure"
   ]
  },
  {
   "cell_type": "code",
   "execution_count": 5,
   "metadata": {},
   "outputs": [],
   "source": [
    "\n",
    "\n",
    "def _aggregate_signal_channels(img_i:np.ndarray, chs:Union[List, Tuple], ws:Union[List, Tuple, Any]= None) -> np.ndarray:\n",
    "    \"\"\" \n",
    "    return a weighted sum of the image across channels\n",
    "\n",
    "    img_in:  np.ndarray  [ch,z,x,y]\n",
    "    chs: list/tuple of channels to aggregate\n",
    "    ws: list/tuple/ of weights for aggregation\n",
    "    \"\"\"\n",
    "\n",
    "    n_chan = len(chs)\n",
    "    if n_chan <= 1:\n",
    "        return img_in[chs]\n",
    "\n",
    "    if ws is None:\n",
    "        ws = n_chan*[1.]\n",
    "    img_out = np.zeros_like(img_in[0]).astype(np.double)\n",
    "    for w,ch in zip(ws,chs):\n",
    "        img_out += w*img_in[ch]\n",
    "    return img_out\n",
    "    #return img_in[ch_to_agg,].astype( np.double ).sum(axis=0)\n",
    "\n",
    "\n",
    "def _choose_agg_signal_zmax(img_in,chs,ws=None,mask=None):\n",
    "    \"\"\" \n",
    "    return z the maximum signal for the aggregate signal\n",
    "\n",
    "    img_in:  np.ndarray  [ch,z,x,y]\n",
    "    chs: list of channels to aggregate\n",
    "    ws: list of weights for aggregation\n",
    "    mask: mask for img_in\n",
    "\n",
    "    returns z with maximum signal\n",
    "    \"\"\"\n",
    "    total_florescence_ = aggregate_signal_channels(img_data, chs)\n",
    "    if mask is not None:\n",
    "        total_florescence_[mask] = 0.\n",
    "    return total_florescence_.sum(axis=(1,2)).argmax()\n",
    "\n",
    "\n",
    "optimal_Z = _choose_agg_signal_zmax(img_data,ch_to_agg)\n",
    "\n"
   ]
  },
  {
   "cell_type": "code",
   "execution_count": 6,
   "metadata": {},
   "outputs": [],
   "source": [
    "\n",
    "\n",
    "def _select_channel_from_raw(img_in:np.ndarray, ch:Union[int, Tuple[int]]) -> np.ndarray:\n",
    "    \"\"\"\" \n",
    "    Parameters:\n",
    "    ------------\n",
    "    img_in: np.ndarray\n",
    "\n",
    "    ch:int  \n",
    "        channel to extract.\n",
    "\n",
    "    Returns:\n",
    "    -------------\n",
    "        np.ndarray\n",
    "    \"\"\"\n",
    "    return img_in[ch]\n"
   ]
  },
  {
   "cell_type": "code",
   "execution_count": 7,
   "metadata": {},
   "outputs": [],
   "source": [
    "    \n",
    "def _apply_log_li_threshold(img_in, threshold_factor=1.0, thresh_min=None, thresh_max=None):\n",
    "    \"\"\"return a binary mask after applying a log_li threshold\n",
    "    \n",
    "    Parameters:\n",
    "    ------------\n",
    "    img_in: np.ndimage\n",
    "\n",
    "    threshold_factor:float=1.0  scaling value for threshold\n",
    "\n",
    "    thresh_min= None or min\n",
    "\n",
    "    thresh_max = None or max\n",
    "\n",
    "    Returns:\n",
    "    -------------\n",
    "        np.ndimage\n",
    "    \"\"\"\n",
    "    #struct_obj = struct_img > filters.threshold_li(struct_img)\n",
    "    threshold_value_log = threshold_li_log(img_in)\n",
    "    threshold = threshold_value_log*threshold_factor\n",
    "\n",
    "    if thresh_min is not None:\n",
    "        threshold = max(threshold, thresh_min)\n",
    "    if thresh_max is not None:\n",
    "        threshold = min(threshold, thresh_max)\n",
    "    return img_in > threshold\n",
    "\n"
   ]
  },
  {
   "cell_type": "code",
   "execution_count": 8,
   "metadata": {},
   "outputs": [],
   "source": [
    "\n",
    "def _find_optimal_Z(raw_img:np.ndarray, nuc_ch:int, ch_to_agg:Tuple[int]) -> int:\n",
    "    \"\"\"\n",
    "    Procedure to infer _best_ Zslice  from linearly unmixed input.\n",
    "\n",
    "    Parameters:\n",
    "    ------------\n",
    "    raw_img: np.ndarray\n",
    "        a ch,z,x,y - image containing florescent signal\n",
    "\n",
    "    nuclei_ch: int\n",
    "        holds the needed parameters\n",
    "\n",
    "    nuclei_ch: int\n",
    "        holds the needed parameters\n",
    "\n",
    "    Returns:\n",
    "    -------------\n",
    "    opt_z:\n",
    "        the \"0ptimal\" z-slice which has the most signal intensity for downstream 2D segmentation    \n",
    "    \"\"\"\n",
    "\n",
    "    # median filter in 2D / convert to float 0-1.   get rid of the \"residual\"\n",
    "    struct_img = _select_channel_from_raw(raw_img, nuc_ch)\n",
    "\n",
    "    struct_img = min_max_intensity_normalization(struct_img)\n",
    "    med_filter_size = 4   \n",
    "    # structure_img_median_3D = ndi.median_filter(struct_img,    size=med_filter_size  )\n",
    "    nuclei = median_filter_slice_by_slice( struct_img,\n",
    "                                                                    size=med_filter_size  )\n",
    "\n",
    "    gaussian_smoothing_sigma = 1.34\n",
    "    nuclei = image_smoothing_gaussian_slice_by_slice(  nuclei,\n",
    "                                                                                                sigma=gaussian_smoothing_sigma\n",
    "                                                                                                )\n",
    "    threshold_factor = 0.9 #from cellProfiler\n",
    "    thresh_min = .1\n",
    "    thresh_max = 1.\n",
    "    struct_obj = _apply_log_li_threshold(nuclei, threshold_factor=threshold_factor, thresh_min=thresh_min, thresh_max=thresh_max)\n",
    "\n",
    "    optimal_Z = _choose_agg_signal_zmax(raw_img,ch_to_agg, mask=struct_obj)\n",
    "\n",
    "    return optimal_Z\n"
   ]
  },
  {
   "cell_type": "code",
   "execution_count": 9,
   "metadata": {},
   "outputs": [],
   "source": [
    "def _fixed_find_optimal_Z(img_data):\n",
    "    \"\"\"\n",
    "    Procedure to infer _best_ Zslice  from linearly unmixed input with fixed parameters\n",
    "    \"\"\"\n",
    "    nuc_ch = NUC_CH\n",
    "    ch_to_agg = ( LYSO_CH ,\n",
    "                            MITO_CH ,\n",
    "                            GOLGI_CH ,\n",
    "                            PEROXI_CH ,\n",
    "                            ER_CH ,\n",
    "                            LIPID_CH )\n",
    "    return _find_optimal_Z(img_data, nuc_ch, ch_to_agg) "
   ]
  },
  {
   "cell_type": "code",
   "execution_count": 11,
   "metadata": {},
   "outputs": [],
   "source": [
    "optimal_Z = _fixed_find_optimal_Z(img_data) \n"
   ]
  },
  {
   "cell_type": "code",
   "execution_count": 13,
   "metadata": {},
   "outputs": [
    {
     "data": {
      "text/plain": [
       "8"
      ]
     },
     "execution_count": 13,
     "metadata": {},
     "output_type": "execute_result"
    }
   ],
   "source": [
    "from infer_subc_2d.organelles import fixed_find_optimal_Z, fixed_get_optimal_Z_image\n",
    "\n",
    "optimal_Z = fixed_find_optimal_Z(img_data) \n",
    "single_Z_img = fixed_find_optimal_Z(img_data) \n",
    "single_Z_img"
   ]
  },
  {
   "cell_type": "markdown",
   "metadata": {},
   "source": [
    "## create a helper function to add function entries\n",
    "These helpers encode the workflow particulars for creating widgets and defining/executing workflows.    This function will be added to `infer_subc_2d.organelles_config.helper.py` "
   ]
  },
  {
   "cell_type": "code",
   "execution_count": 22,
   "metadata": {},
   "outputs": [],
   "source": [
    "from infer_subc_2d.utils.directories import Directories\n",
    "\n",
    "def _add_function_spec_to_widget_json( function_name, function_dict, json_file_name = \"all_functions.json\", overwrite=False):\n",
    "    \"\"\" helper function to compose / update list of functions for Workflows\n",
    "    \"\"\"\n",
    "    # read all_functions.json into dict\n",
    "    path = Directories.get_structure_config_dir() / json_file_name\n",
    "    try:\n",
    "        with open(path) as file:\n",
    "            obj = json.load(file)\n",
    "    except: #Exception as ex:\n",
    "        print(f\"file {path} not found\")\n",
    "        return \n",
    "        \n",
    "    # add function entry\n",
    "    if function_name in obj.keys():\n",
    "        print(f\"function {function_name} is already in {json_file_name}\")\n",
    "        if not overwrite:\n",
    "            return(0)\n",
    "    \n",
    "    obj[function_name] = function_dict    # write updated all_functions.json\n",
    "        \n",
    "    # re-write file\n",
    "    with open(path, \"w\") as file:\n",
    "        json.dump(obj, file, indent=4, sort_keys=True)\n",
    "        \n",
    "    return(1)\n"
   ]
  },
  {
   "cell_type": "code",
   "execution_count": 29,
   "metadata": {},
   "outputs": [
    {
     "data": {
      "text/plain": [
       "{'name': 'find the optimal Z slice (fixed parameters)',\n",
       " 'python::module': 'infer_subc_2d.organelles',\n",
       " 'python::function': 'fixed_find_optimal_Z',\n",
       " 'parameters': None}"
      ]
     },
     "execution_count": 29,
     "metadata": {},
     "output_type": "execute_result"
    }
   ],
   "source": [
    "fixed_find_optimal_Z_dict =  {\n",
    "        \"name\": \"find the optimal Z slice (fixed parameters)\",\n",
    "        \"python::module\": \"infer_subc_2d.organelles\",\n",
    "        \"python::function\": \"fixed_find_optimal_Z\",\n",
    "        \"parameters\": None\n",
    "        }\n",
    "\n",
    "fixed_find_optimal_Z_dict"
   ]
  },
  {
   "cell_type": "code",
   "execution_count": 30,
   "metadata": {},
   "outputs": [
    {
     "data": {
      "text/plain": [
       "{'name': 'extract optimal Z slice (fixed parameters)',\n",
       " 'python::module': 'infer_subc_2d.organelles',\n",
       " 'python::function': 'fixe_get_optimal_Z_image',\n",
       " 'parameters': None}"
      ]
     },
     "execution_count": 30,
     "metadata": {},
     "output_type": "execute_result"
    }
   ],
   "source": [
    "fixed_get_optimal_Z_img_dict =  {\n",
    "        \"name\": \"extract optimal Z slice (fixed parameters)\",\n",
    "        \"python::module\": \"infer_subc_2d.organelles\",\n",
    "        \"python::function\": \"fixe_get_optimal_Z_image\",\n",
    "        \"parameters\": None\n",
    "        }\n",
    "\n",
    "fixed_get_optimal_Z_img_dict"
   ]
  },
  {
   "cell_type": "code",
   "execution_count": 31,
   "metadata": {},
   "outputs": [
    {
     "name": "stdout",
     "output_type": "stream",
     "text": [
      "function fixed_find_optimal_Z is already in all_functions.json\n",
      "overwriting  fixed_find_optimal_Z\n",
      "function fixed_get_optimal_Z_img is already in all_functions.json\n",
      "overwriting  fixed_get_optimal_Z_img\n"
     ]
    },
    {
     "data": {
      "text/plain": [
       "1"
      ]
     },
     "execution_count": 31,
     "metadata": {},
     "output_type": "execute_result"
    }
   ],
   "source": [
    "from infer_subc_2d.organelles_config.helper import add_function_spec_to_widget_json\n",
    "\n",
    "add_function_spec_to_widget_json(\"fixed_find_optimal_Z\",fixed_find_optimal_Z_dict, overwrite=True)\n",
    "add_function_spec_to_widget_json(\"fixed_get_optimal_Z_img\",fixed_get_optimal_Z_img_dict, overwrite=True)"
   ]
  },
  {
   "cell_type": "code",
   "execution_count": 28,
   "metadata": {},
   "outputs": [
    {
     "name": "stdout",
     "output_type": "stream",
     "text": [
      "function select_channel_from_raw is already in all_functions.json\n"
     ]
    },
    {
     "data": {
      "text/plain": [
       "0"
      ]
     },
     "execution_count": 28,
     "metadata": {},
     "output_type": "execute_result"
    }
   ],
   "source": [
    "from infer_subc_2d.constants import ALL_CHANNELS\n",
    "_select_channel_from_raw_dict =  {\n",
    "        \"name\": \"select a channel \",\n",
    "        \"python::module\": \"infer_subc_2d.utils.img\",\n",
    "        \"python::function\": \"select_channel_from_raw\",\n",
    "        \"parameters\": {\n",
    "            \"chan\": {\n",
    "                \"data_type\": \"int\",\n",
    "                \"options\": ALL_CHANNELS,\n",
    "                \"widget_type\": \"drop-down\"\n",
    "            }\n",
    "        }\n",
    "}\n",
    "\n",
    "add_function_spec_to_widget_json(\"select_channel_from_raw\",_select_channel_from_raw_dict )"
   ]
  },
  {
   "cell_type": "code",
   "execution_count": null,
   "metadata": {},
   "outputs": [
    {
     "data": {
      "text/plain": [
       "1"
      ]
     },
     "metadata": {},
     "output_type": "display_data"
    }
   ],
   "source": []
  },
  {
   "cell_type": "code",
   "execution_count": 13,
   "metadata": {},
   "outputs": [],
   "source": [
    "ch_to_agg = (1,2,3,4,5,6)\n",
    "nuc_ch = 0"
   ]
  },
  {
   "cell_type": "code",
   "execution_count": 27,
   "metadata": {},
   "outputs": [],
   "source": [
    "optimal_Z = _find_optimal_Z(img_data, nuc_ch, ch_to_agg) \n"
   ]
  },
  {
   "cell_type": "markdown",
   "metadata": {},
   "source": [
    "## TODO:  create a napari plugin to interactively find the best slice...\n",
    "\n",
    "- minimize: overlap_matric {nuclei(ch0), all other organelles (1-6)}\n",
    "- maximize: signal_pwr (ch 1-6)"
   ]
  },
  {
   "cell_type": "markdown",
   "metadata": {},
   "source": [
    "---------------------------\n",
    "Please proceed to 01_infer_nuclei.ipynb\n",
    "\n",
    "\n",
    "everything below is just testing some speed of different libraries..  "
   ]
  },
  {
   "cell_type": "markdown",
   "metadata": {},
   "source": []
  },
  {
   "cell_type": "markdown",
   "metadata": {},
   "source": [
    "Visualize the raw data file with [napari](https://napari.org)"
   ]
  },
  {
   "cell_type": "code",
   "execution_count": null,
   "metadata": {},
   "outputs": [],
   "source": [
    "\n",
    "viewer = napari.view_image(\n",
    "    img_data,\n",
    "    channel_axis=0,\n",
    "    name=channel_names,\n",
    "    scale=scale\n",
    ")\n",
    "viewer.scale_bar.visible = True\n"
   ]
  },
  {
   "cell_type": "code",
   "execution_count": null,
   "metadata": {},
   "outputs": [],
   "source": [
    "viewer.dims.ndisplay = 3\n",
    "viewer.camera.angles = (-30, 25, 120)"
   ]
  },
  {
   "cell_type": "code",
   "execution_count": null,
   "metadata": {},
   "outputs": [],
   "source": [
    "##  need to save: \n",
    "\n",
    "# output_path, list_of_files\n",
    "viewer.dims.ndisplay = 2"
   ]
  }
 ],
 "metadata": {
  "kernelspec": {
   "display_name": "Python 3 (ipykernel)",
   "language": "python",
   "name": "python3"
  },
  "language_info": {
   "codemirror_mode": {
    "name": "ipython",
    "version": 3
   },
   "file_extension": ".py",
   "mimetype": "text/x-python",
   "name": "python",
   "nbconvert_exporter": "python",
   "pygments_lexer": "ipython3",
   "version": "3.9.13"
  },
  "vscode": {
   "interpreter": {
    "hash": "d6148ef1fb015fb20f0b6da2ea61c87c6b848bdf3dabb03087e5d5cd0c4607e9"
   }
  }
 },
 "nbformat": 4,
 "nbformat_minor": 2
}
