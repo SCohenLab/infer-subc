{
 "cells": [
  {
   "attachments": {},
   "cell_type": "markdown",
   "metadata": {},
   "source": [
    "# Infer ***soma*** -  2️⃣ \n",
    "\n",
    "> WARNING: (🚨🚨🚨🚨 Steps 3-9 depend on establishing a good solution here.)\n",
    ">> #### Because we do NOT have a direct cell membrane / soma signal, this segmentation is trickiest and potentially most problematic part of the overall sub-cellular component inference pipeline. We are using the nuclei of the cell with the brightest total fluorescence (all channels) to identify a single soma for all downstream steps. The Soma (via the Cytosol mask) will be used to define ALL subsequent sub-cellular Objects.\n",
    "\n",
    "--------------\n",
    "\n",
    "## OBJECTIVE: \n",
    "### ✅ Infer sub-cellular component #2: ***soma***/cell body in order to understand interactome \n",
    "\n",
    "Infer a segmentation of the cell body -- the ***soma*** -- in order to measure its shape, position, and size.\n",
    "\n",
    "CONTEXT: \"Soma\" is used here becuase subsequent experiments will contain neurons who's soma has a similar shape to an iPS cell body.\n",
    "\n",
    "This method is used in the case where there is no cell fill/membrane marker.\n",
    "\n",
    "We will infer the soma from a combination of fluorescent signals. The current selection includes the lysosomes, ER, and Golgi (e.g., 'Ch = 1, 3, 5) which have some intracellular fluorescence - likely from off target marker localization to the entire soma and/or the cell membrane. There are two other channels, the residual channel from linear unmixing (e.g. `ch = 7`) and the lipid droplet channel (e.g., `ch = 6`) that could more lead to more unbiased selection of the entire soma. However, the drawback of these two markers is that they are present in every cell which makes downstream cell selection more challenging. To expand on this, we will be collecting per cell measurements, so each cell area has to be segmented individually even if there are two appropriately labeled cells within one field of view. \n",
    "\n",
    "In the long term we can build of a database of \"ground truth\" by sourcing additional markers which can be iteratively improved.  For example using the Allen Cell \"Label Free\" segmentation results should provide a good corroboration or constraints to the procedures outlined below.  \n",
    "\n",
    "A first possible _workflow_ is illustrated below.\n",
    "\n",
    "### IMAGE PROCESSING  OBJECTIVE :  infer ***soma***\n",
    " \n",
    "> #### Note:  we are using the Nuclei of the brightest cell to aid in inferring the Soma and Cytosol objects.   Because we do NOT have a direct cell membrane / soma signal this is the trickiest and potentially problematic part of the overall sub-cellular component inference.   The Soma (via the Cytosol mask) will be used to define ALL subsequent sub-cellular Objects."
   ]
  },
  {
   "attachments": {},
   "cell_type": "markdown",
   "metadata": {},
   "source": [
    "## preamble\n",
    "\n",
    "1. imports\n",
    "2. setup\n",
    "3. ~~choose_Z~~\n",
    "4. infer-soma\n",
    "    * input\n",
    "    * pre-processing\n",
    "    * core processing\n",
    "    * post-processing\n",
    "    * select individual cell\n",
    "    * output\n",
    "5. export soma\n",
    "\n"
   ]
  },
  {
   "attachments": {},
   "cell_type": "markdown",
   "metadata": {},
   "source": [
    "\n",
    "\n",
    "## IMPORTS"
   ]
  },
  {
   "cell_type": "code",
   "execution_count": 1,
   "metadata": {},
   "outputs": [],
   "source": [
    "# top level imports\n",
    "from pathlib import Path\n",
    "import os, sys\n",
    "from collections import defaultdict\n",
    "from typing import Union, Tuple, List\n",
    "\n",
    "import numpy as np\n",
    "\n",
    "from scipy import ndimage as ndi\n",
    "from aicssegmentation.core.pre_processing_utils import ( intensity_normalization, \n",
    "                                                         image_smoothing_gaussian_slice_by_slice )\n",
    "from aicssegmentation.core.MO_threshold import MO\n",
    "from aicssegmentation.core.utils import hole_filling\n",
    "\n",
    "from skimage import filters\n",
    "from skimage.segmentation import watershed, clear_border\n",
    "from skimage.morphology import remove_small_holes   # function for post-processing (size filter)\n",
    "\n",
    "from skimage.measure import label\n",
    "\n",
    "# # package for io \n",
    "from aicsimageio import AICSImage\n",
    "\n",
    "import napari\n",
    "\n",
    "### import local python functions in ../infer_subc_2d\n",
    "sys.path.append(os.path.abspath((os.path.join(os.getcwd(), '..'))))\n",
    "\n",
    "\n",
    "from infer_subc_2d.utils.file_io import (read_czi_image,\n",
    "                                                                     read_ome_image,\n",
    "                                                                     import_inferred_organelle,\n",
    "                                                                     export_inferred_organelle,\n",
    "                                                                    list_image_files)\n",
    "\n",
    "                                             \n",
    "from infer_subc_2d.utils.img import *\n",
    "\n",
    "from infer_subc_2d.organelles import  fixed_infer_nuclei, get_nuclei\n",
    "\n",
    "%load_ext autoreload\n",
    "%autoreload 2\n"
   ]
  },
  {
   "attachments": {},
   "cell_type": "markdown",
   "metadata": {},
   "source": [
    "\n",
    "## SETUP\n",
    "\n",
    "CUSTOMIZE WITH: \n",
    "1. updated path to data\n",
    "2. updated folder name for \"raw\" data\n",
    "\n",
    "> NOTE: we are operating on a single \"test\" image in this notebook.  The batch-processing of all the images will be happen at the end of the notebook after we have developed/confirmed the setmentation procedures and parameter settings.\n"
   ]
  },
  {
   "cell_type": "code",
   "execution_count": 2,
   "metadata": {},
   "outputs": [],
   "source": [
    "# NOTE:  these \"constants\" are only accurate for the testing MCZ dataset\n",
    "from infer_subc_2d.constants import (TEST_IMG_N,\n",
    "                                                                    NUC_CH ,\n",
    "                                                                    LYSO_CH ,\n",
    "                                                                    MITO_CH ,\n",
    "                                                                    GOLGI_CH ,\n",
    "                                                                    PEROXI_CH ,\n",
    "                                                                    ER_CH ,\n",
    "                                                                    LIPID_CH ,\n",
    "                                                                    RESIDUAL_CH )                       "
   ]
  },
  {
   "cell_type": "code",
   "execution_count": 3,
   "metadata": {},
   "outputs": [],
   "source": [
    "# this will be the example image for testing the pipeline below\n",
    "test_img_n = TEST_IMG_N\n",
    "\n",
    "# build the datapath\n",
    "# all the imaging data goes here.\n",
    "data_root_path = Path(os.path.expanduser(\"~\")) / \"Projects/Imaging/data\"\n",
    "\n",
    "# linearly unmixed \".czi\" files are here\n",
    "in_data_path = data_root_path / \"raw\"\n",
    "im_type = \".czi\"\n",
    "\n",
    "# get the list of all files\n",
    "img_file_list = list_image_files(in_data_path,im_type)\n",
    "test_img_name = img_file_list[test_img_n]\n",
    "\n",
    "# save output \".tiff\" files here\n",
    "out_data_path = data_root_path / \"out\"\n",
    "im_type = \".czi\"\n",
    "\n"
   ]
  },
  {
   "cell_type": "markdown",
   "metadata": {},
   "source": []
  },
  {
   "cell_type": "code",
   "execution_count": 4,
   "metadata": {},
   "outputs": [
    {
     "name": "stderr",
     "output_type": "stream",
     "text": [
      "/opt/anaconda3/envs/napariNEW/lib/python3.9/site-packages/ome_types/_convenience.py:106: FutureWarning: The default XML parser will be changing from 'xmlschema' to 'lxml' in version 0.4.0.  To silence this warning, please provide the `parser` argument, specifying either 'lxml' (to opt into the new behavior), or'xmlschema' (to retain the old behavior).\n",
      "  d = to_dict(os.fspath(xml), parser=parser, validate=validate)\n"
     ]
    }
   ],
   "source": [
    "img_data,meta_dict = read_czi_image(test_img_name)\n",
    "\n",
    "# get some top-level info about the RAW data\n",
    "channel_names = meta_dict['name']\n",
    "img = meta_dict['metadata']['aicsimage']\n",
    "scale = meta_dict['scale']\n",
    "channel_axis = meta_dict['channel_axis']"
   ]
  },
  {
   "attachments": {},
   "cell_type": "markdown",
   "metadata": {},
   "source": [
    "##  infer ***soma***\n",
    "\n",
    ">WORKFLOW #1  - modified MCZ 3/20\n",
    "\n",
    "Segmentation on a 3 channel composite as per 3/20 pipeline from MCZ\n",
    "Summary - Starting with a linear combination of three signals,  the signal is smoothed and non-linearly combined (logrithmic and edge detected) for thresholding. \n",
    "## summary of steps\n",
    "\n",
    "➡️ INPUT\n",
    "- multi-channel sum (6.*1, 3, 2.*5)\n",
    "- nuclei mask\n",
    "\n",
    "PRE-PROCESSING\n",
    "- rescaling\n",
    "- denoise/smoothing\n",
    "- log transform inensities\n",
    "- scale to max 1.0\n",
    "- create non-linear aggregate of log-intensity + scharr edge filtered intensity\n",
    "\n",
    "CORE PROCESSING\n",
    "- mask object segmentation at bottom\n",
    "\n",
    "POST-PROCESSING\n",
    "  - fill holes\n",
    "  - remove small objects\n",
    "\n",
    "OUTPUT ➡️ \n",
    "- mask of SOMA\n",
    "\n",
    "\n",
    "> #### Note: this pipeline will eventually include a selection step to identify the soma that are properly labeled with all fluorescent markers. This could be one single cell per image, or more if applicable data is available.\n"
   ]
  },
  {
   "attachments": {},
   "cell_type": "markdown",
   "metadata": {},
   "source": [
    "## INPUT prototype\n",
    "\n",
    "Combine multiple channels that will allow inference of the soma.\n",
    "\n",
    "Note: the selected channels were chosen based on their qualitative ability to fill the cytoplasmic area of the cell. \n",
    "\n"
   ]
  },
  {
   "attachments": {},
   "cell_type": "markdown",
   "metadata": {},
   "source": [
    "## GET inferred nuclei"
   ]
  },
  {
   "cell_type": "code",
   "execution_count": 5,
   "metadata": {},
   "outputs": [
    {
     "name": "stdout",
     "output_type": "stream",
     "text": [
      ">>>>>>>>>>>> tifffile.imread  (dtype=uint8in (0.03) sec\n",
      "loaded  inferred 3D `nuclei`  from /Users/ahenrie/Projects/Imaging/data/out \n"
     ]
    }
   ],
   "source": [
    "\n",
    "# nuclei_fname = \"/Users/ahenrie/Projects/Imaging/data/out/nuclei_ZSTACK_PBTOhNGN2hiPSCs_BR3_N04_Unmixed.ome.tiff\"\n",
    "# nuclei = import_inferred_organelle(\"nuclei\", meta_dict, out_data_path)\n",
    "\n",
    "# if nuclei is None:\n",
    "#     nuclei =  fixed_infer_nuclei(img_data) \n",
    "#     out_file_n = export_inferred_organelle(nuclei, \"nuclei\", meta_dict, out_data_path)\n",
    "#     print(f\"calculated nuclei. wrote {out_file_n}\")\n",
    "# else:\n",
    "#     print(f\"loaded nuclei from {out_data_path}\")\n",
    "\n",
    "nuclei_obj=  get_nuclei(img_data,meta_dict, out_data_path)\n"
   ]
  },
  {
   "cell_type": "code",
   "execution_count": 6,
   "metadata": {},
   "outputs": [],
   "source": [
    "# # get_interior_labels.   Removes any segmentations on the edges, but we probably don't want to use it\n",
    "# nuclei_labls = get_interior_labels(nuclei)\n"
   ]
  },
  {
   "cell_type": "code",
   "execution_count": 7,
   "metadata": {},
   "outputs": [],
   "source": [
    "\n",
    "###################\n",
    "# INPUT\n",
    "###################\n",
    "struct_img_raw = (6. * img_data[LYSO_CH].copy().astype(np.double) +\n",
    "                  1. * img_data[ER_CH].copy().astype(np.double) + \n",
    "                  2. * img_data[GOLGI_CH].copy().astype(np.double))\n"
   ]
  },
  {
   "cell_type": "code",
   "execution_count": 8,
   "metadata": {},
   "outputs": [
    {
     "name": "stdout",
     "output_type": "stream",
     "text": [
      "weighted_aggregate: shape in- (8, 16, 768, 768) , shape_out- (16, 768, 768)\n",
      "weighted_aggregate: shape in- (8, 16, 768, 768) , shape_out- (16, 768, 768)\n"
     ]
    },
    {
     "data": {
      "text/plain": [
       "(array([34548., 31003., 27969., 57573., 66992., 67514., 63489., 75837.,\n",
       "        95956., 84172.]),\n",
       " array([34548., 31003., 27969., 57573., 66992., 67514., 63489., 75837.,\n",
       "        95956., 84172.]),\n",
       " array([34548., 31003., 27969., 57573., 66992., 67514., 63489., 75837.,\n",
       "        95956., 84172.]))"
      ]
     },
     "execution_count": 8,
     "metadata": {},
     "output_type": "execute_result"
    }
   ],
   "source": [
    "# confirm our functions work as expected:\n",
    "\n",
    "weights =  (0,6,0,2, 0,1) # _,lyso,_, golgi,_,1,0,0,_,_\n",
    "struct_img_raw2 = weighted_aggregate(img_data, *weights)\n",
    "# use splat so we can also break out the arguments for our napari widget later\n",
    "struct_img_raw3 = weighted_aggregate(img_data, 0,6,0,2, 0,1)\n",
    "\n",
    "struct_img_raw[0,0:10,0], struct_img_raw2[0,0:10,0], struct_img_raw3[0,0:10,0]\n"
   ]
  },
  {
   "attachments": {},
   "cell_type": "markdown",
   "metadata": {},
   "source": [
    "## PRE-PROCESSING prototype\n"
   ]
  },
  {
   "cell_type": "code",
   "execution_count": 20,
   "metadata": {},
   "outputs": [],
   "source": [
    "from infer_subc_2d.organelles.soma import raw_soma_MCZ, non_linear_soma_transform_MCZ, choose_max_label_soma_union_nucleus\n",
    "\n",
    "struct_img_raw = raw_soma_MCZ(img_data)\n",
    "###################\n",
    "# PRE_PROCESSING\n",
    "###################\n",
    "#\n",
    "# DEFAULT PARAMETERS:\n",
    "\n",
    "med_filter_size = 15  \n",
    "gaussian_smoothing_sigma = 1.34\n",
    "\n",
    "\n",
    "structure_img_smooth =  scale_and_smooth(struct_img_raw,\n",
    "                                                    median_sz = med_filter_size, \n",
    "                                                    gauss_sig = gaussian_smoothing_sigma)\n",
    "\n",
    "\n",
    "# # NON-Linear aggregation\n",
    "# log_image, d = log_transform( structure_img_smooth ) \n",
    "# log_image = intensity_normalization(  log_image,  scaling_param=[0] )\n",
    "# edges = filters.scharr(log_image)\n",
    "# composite_soma = intensity_normalization(  edges,  scaling_param=[0] ) + log_image \n",
    "\n",
    "composite_soma = non_linear_soma_transform_MCZ(structure_img_smooth)\n"
   ]
  },
  {
   "attachments": {},
   "cell_type": "markdown",
   "metadata": {},
   "source": [
    "## CORE PROCESSING"
   ]
  },
  {
   "cell_type": "code",
   "execution_count": null,
   "metadata": {},
   "outputs": [],
   "source": [
    "###################\n",
    "# CORE_PROCESSING\n",
    "###################\n",
    "low_level_min_size =  150\n",
    "\n",
    "################# part 1\n",
    "bw = masked_object_thresh(composite_soma, \n",
    "                                                th_method='ave', \n",
    "                                                cutoff_size=low_level_min_size, \n",
    "                                                th_adjust= 0.5)\n",
    "\n"
   ]
  },
  {
   "attachments": {},
   "cell_type": "markdown",
   "metadata": {},
   "source": [
    "## POST-PROCESSING"
   ]
  },
  {
   "cell_type": "code",
   "execution_count": null,
   "metadata": {},
   "outputs": [],
   "source": [
    "###################\n",
    "# POST_PROCESSING\n",
    "###################\n",
    "hole_width = 50\n",
    "#removed_holes = remove_small_holes(bw, hole_width ** 2 )\n",
    "removed_holes = hole_filling_linear_size(bw, \n",
    "                                                    hole_min=0, \n",
    "                                                    hole_max=hole_width)\n",
    "\n",
    "\n",
    "small_object_width = 45\n",
    "\n",
    "cleaned_img = size_filter_linear_size(removed_holes, \n",
    "                                                                min_size = small_object_width)\n",
    "\n",
    "cleaned_img2 = fill_and_filter_linear_size(bw, hole_min=0, hole_max=hole_width, min_size= small_object_width)"
   ]
  },
  {
   "cell_type": "code",
   "execution_count": null,
   "metadata": {},
   "outputs": [],
   "source": [
    "# make sure it works..\n",
    "np.all(cleaned_img==cleaned_img2)"
   ]
  },
  {
   "attachments": {},
   "cell_type": "markdown",
   "metadata": {},
   "source": [
    "## POST POST-PROCESSING"
   ]
  },
  {
   "cell_type": "code",
   "execution_count": null,
   "metadata": {},
   "outputs": [],
   "source": [
    "###################\n",
    "# POST- POST_PROCESSING\n",
    "###################\n",
    "\n",
    "# # below can be performed by: masked_inverted_watershed(img_in,markers, mask)\n",
    "# inverted_img = 1. - composite_soma\n",
    "# labels_out = watershed(\n",
    "#             inverted_img,\n",
    "#             markers=label(nuclei),\n",
    "#             connectivity=np.ones((1, 3,3), bool),\n",
    "#             mask=watershed_mask,\n",
    "#             )\n",
    "nuc_labels = label(nuclei)\n",
    "soma_labels = masked_inverted_watershed(structure_img_smooth,nuc_labels, cleaned_img)\n",
    "\n",
    "keep_label = get_max_label(composite_soma, soma_labels)\n",
    "\n",
    "soma_out = np.zeros_like(soma_labels)\n",
    "soma_out[soma_labels == keep_label] = 1\n",
    "soma_out[nuc_labels == keep_label] = 1\n",
    "\n",
    "soma_out2 = choose_max_label_soma_union_nucleus(structure_img_smooth, cleaned_img, nuclei) \n"
   ]
  },
  {
   "attachments": {},
   "cell_type": "markdown",
   "metadata": {},
   "source": [
    "## Visualize with `napari` 1\n",
    "Visualize the first-pass segmentation and labeling with `napari`."
   ]
  },
  {
   "cell_type": "code",
   "execution_count": null,
   "metadata": {},
   "outputs": [],
   "source": [
    "\n",
    "viewer = napari.view_image(\n",
    "        cleaned_img,\n",
    "    )\n"
   ]
  },
  {
   "cell_type": "code",
   "execution_count": null,
   "metadata": {},
   "outputs": [],
   "source": [
    "\n",
    "viewer.scale_bar.visible = True\n",
    "\n",
    "viewer.add_labels(\n",
    "    soma_out,\n",
    ")\n",
    "\n"
   ]
  },
  {
   "cell_type": "markdown",
   "metadata": {},
   "source": [
    "## SAVE inferred nuclei to .tif file\n",
    "\n",
    "Based on the _prototyping_ above define the function to infer nuclei.  \n"
   ]
  },
  {
   "cell_type": "code",
   "execution_count": null,
   "metadata": {},
   "outputs": [],
   "source": [
    "\n",
    "out_file_n = export_inferred_organelle(soma_out, \"soma\", meta_dict, out_data_path)\n"
   ]
  },
  {
   "cell_type": "markdown",
   "metadata": {},
   "source": [
    "## DEFINE parameterized  `_infer_soma` function\n",
    "\n",
    "A function to infer_soma from our (Channel, 1 Z slice, X, Y) image accourding the the following parameters: \n",
    "-  "
   ]
  },
  {
   "cell_type": "code",
   "execution_count": null,
   "metadata": {},
   "outputs": [],
   "source": [
    "from infer_subc_2d.organelles.soma import raw_soma_MCZ, non_linear_soma_transform_MCZ\n",
    "\n",
    "##########################\n",
    "# 1. infer_soma\n",
    "##########################\n",
    "\n",
    "def _infer_soma_MCZ(in_img: np.ndarray,\n",
    "                nuclei_obj: np.ndarray,\n",
    "    median_sz: int,\n",
    "    gauss_sig: float,\n",
    "    mo_method: str,\n",
    "    mo_adjust: float,\n",
    "    mo_cutoff_size: int,\n",
    "    max_hole_w: int,\n",
    "    small_obj_w: int\n",
    ") -> np.ndarray:\n",
    "    \"\"\"\n",
    "    Procedure to infer soma from linearly unmixed input.\n",
    "\n",
    "    Parameters\n",
    "    ------------\n",
    "    in_img: \n",
    "        a 3d image containing all the channels\n",
    "    nuclei_obj: \n",
    "        a 3d image containing the inferred nuclei\n",
    "    median_sz: \n",
    "        width of median filter for _soma_ signal\n",
    "    gauss_sig: \n",
    "        sigma for gaussian smoothing of _soma_ signal\n",
    "    mo_method: \n",
    "         which method to use for calculating global threshold. Options include:\n",
    "         \"triangle\" (or \"tri\"), \"median\" (or \"med\"), and \"ave_tri_med\" (or \"ave\").\n",
    "         \"ave\" refers the average of \"triangle\" threshold and \"mean\" threshold.\n",
    "    mo_adjust: \n",
    "        Masked Object threshold `local_adjust`\n",
    "    mo_cutoff_size: \n",
    "        Masked Object threshold `size_min`\n",
    "    max_hole_w: \n",
    "        hole filling cutoff for soma signal post-processing\n",
    "    small_obj_w: \n",
    "        minimu object size cutoff for soma signal post-processing\n",
    "\n",
    "    Returns\n",
    "    -------------\n",
    "    soma_mask:\n",
    "        a logical/labels object defining boundaries of soma\n",
    "\n",
    "    \"\"\"\n",
    "    nuc_ch = NUC_CH\n",
    "    ###################\n",
    "    # EXTRACT\n",
    "    ###################\n",
    "    struct_img = raw_soma_MCZ(in_img)\n",
    "\n",
    "    ###################\n",
    "    # PRE_PROCESSING\n",
    "    ###################                         \n",
    "    ################# part 1- soma\n",
    "\n",
    "    # Linear-ish processing\n",
    "    struct_img =  scale_and_smooth(struct_img,\n",
    "                        median_sz = median_sz, \n",
    "                        gauss_sig = gauss_sig)\n",
    "    \n",
    "\n",
    "    struct_img_non_lin = non_linear_soma_transform_MCZ(struct_img)\n",
    "\n",
    "    ###################\n",
    "    # CORE_PROCESSING\n",
    "    ###################\n",
    "    struct_obj = masked_object_thresh(struct_img_non_lin, \n",
    "                                                th_method=mo_method, \n",
    "                                                cutoff_size=mo_cutoff_size, \n",
    "                                                th_adjust=mo_adjust)               \n",
    "\n",
    "    ###################\n",
    "    # POST_PROCESSING\n",
    "    ###################\n",
    "    # struct_obj = hole_filling_linear_size(struct_obj, \n",
    "    #                                             hole_min =0 , \n",
    "    #                                             hole_max=max_hole_w) \n",
    "    # struct_obj = size_filter_linear_size(struct_obj, \n",
    "    #                                                 min_size= small_obj_w)\n",
    "    struct_obj = fill_and_filter_linear_size(struct_obj, hole_min=0, hole_max=max_hole_w, min_size= small_obj_w)\n",
    "\n",
    "    ###################\n",
    "    # POST- POST_PROCESSING\n",
    "    ###################\n",
    "    soma_out = choose_max_label_soma_union_nucleus(struct_img, struct_obj, nuclei_obj) \n",
    "\n",
    "    return soma_out\n",
    "\n",
    "\n",
    "\n"
   ]
  },
  {
   "cell_type": "markdown",
   "metadata": {},
   "source": [
    "## DEFINE `_fixed_infer_soma` function\n",
    "\n",
    "Based on the _prototyping_ above define the function to infer soma. with a *fixed* set of parameters for each step in the procedure.  That is they are all \"hard coded\""
   ]
  },
  {
   "cell_type": "code",
   "execution_count": null,
   "metadata": {},
   "outputs": [],
   "source": [
    "##########################\n",
    "# 1. fixed_infer_soma\n",
    "##########################\n",
    "\n",
    "\n",
    "def _fixed_infer_soma_MCZ(in_img: np.ndarray, nuclei_obj: np.ndarray) -> np.ndarray:\n",
    "    \"\"\"\n",
    "    Procedure to infer soma from linearly unmixed input, with a *fixed* set of parameters for each step in the procedure.  i.e. \"hard coded\"\n",
    "\n",
    "    Parameters\n",
    "    ------------\n",
    "    in_img: \n",
    "        a 3d image containing all the channels\n",
    "    nuclei_obj: \n",
    "        a 3d image containing the inferred nuclei\n",
    "\n",
    "    Returns\n",
    "    -------------\n",
    "    soma_mask:\n",
    "        a logical/labels object defining boundaries of soma\n",
    "    \"\"\"\n",
    "    \n",
    "\n",
    "    ###################\n",
    "    # PARAMETERS\n",
    "    ###################   \n",
    "    median_sz = 15\n",
    "    gauss_sig = 1.34\n",
    "    mo_method = \"ave\"\n",
    "    mo_adjust = 0.5\n",
    "    mo_cutoff_size = 150\n",
    "    max_hole_w = 50\n",
    "    small_obj_w = 45\n",
    "\n",
    "    soma_out = _infer_soma_MCZ(in_img,\n",
    "                                                nuclei_obj,\n",
    "                                                median_sz,\n",
    "                                                gauss_sig,\n",
    "                                                mo_method,\n",
    "                                                mo_adjust,\n",
    "                                                mo_cutoff_size,\n",
    "                                                max_hole_w,\n",
    "                                                small_obj_w) \n",
    "\n",
    "    return soma_out\n",
    "\n",
    "\n"
   ]
  },
  {
   "cell_type": "code",
   "execution_count": 6,
   "metadata": {},
   "outputs": [
    {
     "ename": "NotImplementedError",
     "evalue": "Only for images of dimension 1-3 are supported, got a 4D one",
     "output_type": "error",
     "traceback": [
      "\u001b[0;31m---------------------------------------------------------------------------\u001b[0m",
      "\u001b[0;31mNotImplementedError\u001b[0m                       Traceback (most recent call last)",
      "Cell \u001b[0;32mIn[6], line 3\u001b[0m\n\u001b[1;32m      1\u001b[0m \u001b[39mfrom\u001b[39;00m \u001b[39minfer_subc_2d\u001b[39;00m\u001b[39m.\u001b[39;00m\u001b[39morganelles\u001b[39;00m\u001b[39m.\u001b[39;00m\u001b[39msoma\u001b[39;00m \u001b[39mimport\u001b[39;00m fixed_infer_soma_MCZ\n\u001b[0;32m----> 3\u001b[0m soma_object \u001b[39m=\u001b[39m  fixed_infer_soma_MCZ(img_data, nuclei) \n",
      "File \u001b[0;32m~/Projects/Imaging/infer-subc-2D/infer_subc_2d/organelles/soma.py:245\u001b[0m, in \u001b[0;36mfixed_infer_soma_MCZ\u001b[0;34m(in_img, nuclei_obj)\u001b[0m\n\u001b[1;32m    242\u001b[0m max_hole_w \u001b[39m=\u001b[39m \u001b[39m50\u001b[39m\n\u001b[1;32m    243\u001b[0m small_obj_w \u001b[39m=\u001b[39m \u001b[39m45\u001b[39m\n\u001b[0;32m--> 245\u001b[0m soma_out \u001b[39m=\u001b[39m infer_soma_MCZ(\n\u001b[1;32m    246\u001b[0m     in_img, nuclei_obj, median_sz, gauss_sig, mo_method, mo_adjust, mo_cutoff_size, max_hole_w, small_obj_w\n\u001b[1;32m    247\u001b[0m )\n\u001b[1;32m    249\u001b[0m \u001b[39mreturn\u001b[39;00m soma_out\n",
      "File \u001b[0;32m~/Projects/Imaging/infer-subc-2D/infer_subc_2d/organelles/soma.py:212\u001b[0m, in \u001b[0;36minfer_soma_MCZ\u001b[0;34m(in_img, nuclei_obj, median_sz, gauss_sig, mo_method, mo_adjust, mo_cutoff_size, max_hole_w, small_obj_w)\u001b[0m\n\u001b[1;32m    207\u001b[0m struct_obj \u001b[39m=\u001b[39m fill_and_filter_linear_size(struct_obj, hole_min\u001b[39m=\u001b[39m\u001b[39m0\u001b[39m, hole_max\u001b[39m=\u001b[39mmax_hole_w, min_size\u001b[39m=\u001b[39msmall_obj_w)\n\u001b[1;32m    209\u001b[0m \u001b[39m###################\u001b[39;00m\n\u001b[1;32m    210\u001b[0m \u001b[39m# POST- POST_PROCESSING\u001b[39;00m\n\u001b[1;32m    211\u001b[0m \u001b[39m###################\u001b[39;00m\n\u001b[0;32m--> 212\u001b[0m soma_out \u001b[39m=\u001b[39m choose_max_label_soma_union_nucleus(struct_img, struct_obj, nuclei_obj)\n\u001b[1;32m    214\u001b[0m \u001b[39mreturn\u001b[39;00m soma_out\n",
      "File \u001b[0;32m~/Projects/Imaging/infer-subc-2D/infer_subc_2d/organelles/soma.py:114\u001b[0m, in \u001b[0;36mchoose_max_label_soma_union_nucleus\u001b[0;34m(soma_img, soma_obj, nuclei_obj)\u001b[0m\n\u001b[1;32m     95\u001b[0m \u001b[39mdef\u001b[39;00m \u001b[39mchoose_max_label_soma_union_nucleus\u001b[39m(\n\u001b[1;32m     96\u001b[0m     soma_img: np\u001b[39m.\u001b[39mndarray, soma_obj: np\u001b[39m.\u001b[39mndarray, nuclei_obj: np\u001b[39m.\u001b[39mndarray\n\u001b[1;32m     97\u001b[0m ) \u001b[39m-\u001b[39m\u001b[39m>\u001b[39m np\u001b[39m.\u001b[39mndarray:\n\u001b[1;32m     98\u001b[0m \u001b[39m    \u001b[39m\u001b[39m\"\"\"find the label with the maximum soma from watershed on the nuclei + plus the corresponding nuclei labels\u001b[39;00m\n\u001b[1;32m     99\u001b[0m \n\u001b[1;32m    100\u001b[0m \u001b[39m        Parameters\u001b[39;00m\n\u001b[0;32m   (...)\u001b[0m\n\u001b[1;32m    112\u001b[0m \n\u001b[1;32m    113\u001b[0m \u001b[39m    \"\"\"\u001b[39;00m\n\u001b[0;32m--> 114\u001b[0m     nuc_labels \u001b[39m=\u001b[39m label(nuclei_obj)\n\u001b[1;32m    115\u001b[0m     soma_labels \u001b[39m=\u001b[39m masked_inverted_watershed(soma_img, nuc_labels, soma_obj)\n\u001b[1;32m    117\u001b[0m     keep_label \u001b[39m=\u001b[39m get_max_label(soma_img, soma_labels)\n",
      "File \u001b[0;32m/opt/anaconda3/envs/napariNEW/lib/python3.9/site-packages/skimage/measure/_label.py:120\u001b[0m, in \u001b[0;36mlabel\u001b[0;34m(input, background, return_num, connectivity)\u001b[0m\n\u001b[1;32m    117\u001b[0m     \u001b[39mreturn\u001b[39;00m _label_bool(\u001b[39minput\u001b[39m, background\u001b[39m=\u001b[39mbackground,\n\u001b[1;32m    118\u001b[0m                        return_num\u001b[39m=\u001b[39mreturn_num, connectivity\u001b[39m=\u001b[39mconnectivity)\n\u001b[1;32m    119\u001b[0m \u001b[39melse\u001b[39;00m:\n\u001b[0;32m--> 120\u001b[0m     \u001b[39mreturn\u001b[39;00m clabel(\u001b[39minput\u001b[39;49m, background, return_num, connectivity)\n",
      "File \u001b[0;32mskimage/measure/_ccomp.pyx:370\u001b[0m, in \u001b[0;36mskimage.measure._ccomp.label_cython\u001b[0;34m()\u001b[0m\n",
      "File \u001b[0;32mskimage/measure/_ccomp.pyx:129\u001b[0m, in \u001b[0;36mskimage.measure._ccomp.get_shape_info\u001b[0;34m()\u001b[0m\n",
      "\u001b[0;31mNotImplementedError\u001b[0m: Only for images of dimension 1-3 are supported, got a 4D one"
     ]
    }
   ],
   "source": [
    "from infer_subc_2d.organelles.soma import fixed_infer_soma_MCZ\n",
    "\n",
    "soma_object =  fixed_infer_soma_MCZ(img_data, nuclei) \n"
   ]
  },
  {
   "cell_type": "code",
   "execution_count": null,
   "metadata": {},
   "outputs": [],
   "source": []
  },
  {
   "cell_type": "code",
   "execution_count": 10,
   "metadata": {},
   "outputs": [
    {
     "data": {
      "text/plain": [
       "dtype('uint8')"
      ]
     },
     "execution_count": 10,
     "metadata": {},
     "output_type": "execute_result"
    }
   ],
   "source": [
    "nuclei.dtype\n"
   ]
  },
  {
   "cell_type": "code",
   "execution_count": null,
   "metadata": {},
   "outputs": [],
   "source": [
    "\n",
    "out_file_n = export_inferred_organelle(soma_out, \"soma\", meta_dict, out_data_path)\n"
   ]
  },
  {
   "cell_type": "markdown",
   "metadata": {},
   "source": [
    "## Visualize  2\n"
   ]
  },
  {
   "cell_type": "code",
   "execution_count": null,
   "metadata": {},
   "outputs": [],
   "source": [
    "viewer.add_image(\n",
    "    soma_object,\n",
    "    opacity=0.3,\n",
    ")    \n",
    "\n",
    "\n",
    "viewer.add_labels(\n",
    "    label(nuclei),\n",
    "    opacity=0.3,\n",
    ")\n"
   ]
  },
  {
   "cell_type": "code",
   "execution_count": null,
   "metadata": {},
   "outputs": [],
   "source": [
    "from napari.utils.notebook_display import nbscreenshot\n",
    "\n",
    "# viewer.dims.ndisplay = 3\n",
    "# viewer.camera.angles = (-30, 25, 120)\n",
    "nbscreenshot(viewer, canvas_only=True)\n"
   ]
  },
  {
   "cell_type": "code",
   "execution_count": null,
   "metadata": {},
   "outputs": [],
   "source": [
    "viewer.close()"
   ]
  },
  {
   "cell_type": "code",
   "execution_count": null,
   "metadata": {},
   "outputs": [],
   "source": [
    "\n",
    "def _masked_object_thresh(\n",
    "    structure_img_smooth: np.ndarray, th_method: str, cutoff_size: int, th_adjust: float\n",
    ") -> np.ndarray:\n",
    "    \"\"\"\n",
    "    wrapper for applying Masked Object Thresholding with just two parameters via `MO` from `aicssegmentation`\n",
    "    Parameters\n",
    "    ------------\n",
    "    structure_img_smooth: np.ndarray\n",
    "        a 3d image\n",
    "    th_method: \n",
    "         which method to use for calculating global threshold. Options include:\n",
    "         \"triangle\" (or \"tri\"), \"median\" (or \"med\"), and \"ave_tri_med\" (or \"ave\").\n",
    "         \"ave\" refers the average of \"triangle\" threshold and \"mean\" threshold.\n",
    "    cutoff_size: \n",
    "        Masked Object threshold `size_min`\n",
    "    th_adjust: \n",
    "        Masked Object threshold `local_adjust`\n",
    "\n",
    "    Returns\n",
    "    -------------\n",
    "        np.ndarray segmentation \n",
    "\n",
    "    \"\"\"\n",
    "\n",
    "    struct_obj = MO(\n",
    "        structure_img_smooth,\n",
    "        global_thresh_method=th_method,\n",
    "        object_minArea=cutoff_size,\n",
    "        extra_criteria=True,\n",
    "        local_adjust=th_adjust,\n",
    "        return_object=False,\n",
    "        dilate=True,\n",
    "    )\n",
    "    return struct_obj\n"
   ]
  },
  {
   "cell_type": "code",
   "execution_count": null,
   "metadata": {},
   "outputs": [],
   "source": [
    "def get_max_label(raw_signal: np.ndarray, labels_in: np.ndarray) -> np.ndarray:\n",
    "    \"\"\"keep only the label with the maximum raw signal\n",
    "        Parameters\n",
    "    ------------\n",
    "    raw_signal:\n",
    "        the image to filter on\n",
    "    labels_in:\n",
    "        labels to consider\n",
    "\n",
    "    Returns\n",
    "    -------------\n",
    "        np.ndarray of labels corresponding to the largest total signal\n",
    "\n",
    "    \"\"\"\n",
    "    all_labels = np.unique(labels_in)[1:]\n",
    "\n",
    "    total_signal = [raw_signal[labels_in == label].sum() for label in all_labels]\n",
    "    # combine NU and \"labels\" to make a SOMA\n",
    "    keep_label = all_labels[np.argmax(total_signal)]\n",
    "\n",
    "    return keep_label\n",
    "\n",
    "def choose_max_label_soma_union_nucleus(soma_img: np.ndarray, soma_obj: np.ndarray, nuclei_obj: np.ndarray) -> np.ndarray:\n",
    "    \"\"\"find the label with the maximum soma from watershed on the nuclei + plus the corresponding nuclei labels\n",
    "\n",
    "    Parameters\n",
    "    ------------\n",
    "    soma_img:\n",
    "        the soma image intensities\n",
    "    soma_obj:\n",
    "        thresholded soma mask\n",
    "    nuclei_obj:\n",
    "        inferred nuclei\n",
    "\n",
    "    Returns\n",
    "    -------------\n",
    "        np.ndarray of soma+nuc labels corresponding to the largest total soma signal \n",
    "\n",
    "    \"\"\"\n",
    "    nuc_labels = label(nuclei_obj)\n",
    "    soma_labels = masked_inverted_watershed(soma_img,nuc_labels, soma_obj)\n",
    "\n",
    "    keep_label = get_max_label(soma_img, soma_labels)\n",
    "\n",
    "    soma_out = np.zeros_like(soma_labels)\n",
    "    soma_out[soma_labels == keep_label] = 1\n",
    "    soma_out[nuc_labels == keep_label] = 1\n",
    "\n",
    "    return soma_out\n"
   ]
  },
  {
   "cell_type": "code",
   "execution_count": null,
   "metadata": {},
   "outputs": [],
   "source": [
    "\n",
    "def raw_soma_MCZ(img_in: np.ndarray, scale_min_max:bool = True) -> np.ndarray:\n",
    "    \"\"\"define soma image\n",
    "    SOMA_W = (6.,1.,2.)\n",
    "    SOMA_CH = (LYSO_CH,ER_CH,GOLGI_CH)\n",
    "\n",
    "    Parameters\n",
    "    ------------\n",
    "    img_in\n",
    "        a 3d image\n",
    "    scale_min_max: \n",
    "        scale to [0,1] if True. default True\n",
    "\n",
    "    Returns\n",
    "    -------------\n",
    "        np.ndarray scaled aggregate\n",
    "\n",
    "    \"\"\"\n",
    "    weights = (0, 6, 0, 2, 0, 1)\n",
    "    if scale: \n",
    "        return min_max_intensity_normalization(weighted_aggregate(img_in, *weights))\n",
    "    else: \n",
    "        return weighted_aggregate(img_in, *weights)"
   ]
  },
  {
   "cell_type": "markdown",
   "metadata": {},
   "source": [
    "---------------------\n",
    "# TEST `_infer_soma`  function defined above\n",
    "\n",
    "\n",
    "##\n"
   ]
  },
  {
   "cell_type": "code",
   "execution_count": null,
   "metadata": {},
   "outputs": [],
   "source": [
    "\n",
    "SO_label =  _fixed_infer_soma_MCZ(img_data) "
   ]
  },
  {
   "cell_type": "code",
   "execution_count": null,
   "metadata": {},
   "outputs": [],
   "source": [
    "from infer_subc_2d.organelles import fixed_infer_soma_MCZ\n",
    "\n",
    "soma_ =  fixed_infer_soma_MCZ(img_data, nuclei) "
   ]
  },
  {
   "cell_type": "code",
   "execution_count": null,
   "metadata": {},
   "outputs": [],
   "source": [
    "\n",
    "viewer.add_image(\n",
    "    soma_\n",
    ")"
   ]
  },
  {
   "cell_type": "markdown",
   "metadata": {},
   "source": [
    "Write the `infer_soma` spec to the widget json"
   ]
  },
  {
   "attachments": {},
   "cell_type": "markdown",
   "metadata": {},
   "source": [
    "--------------------------\n",
    "\n",
    "# TEST `infer_soma` exported functions\n"
   ]
  },
  {
   "cell_type": "code",
   "execution_count": null,
   "metadata": {},
   "outputs": [],
   "source": [
    "from infer_subc_2d.organelles import fixed_infer_soma\n",
    "\n",
    "soma_mask =  fixed_infer_soma(img_data) "
   ]
  },
  {
   "attachments": {},
   "cell_type": "markdown",
   "metadata": {},
   "source": [
    "## Visualize  2\n"
   ]
  },
  {
   "cell_type": "code",
   "execution_count": null,
   "metadata": {},
   "outputs": [],
   "source": [
    "# viewer = napari.Viewer()\n",
    "\n",
    "viewer.scale_bar.visible = True\n",
    "\n",
    "viewer.add_labels(\n",
    "    soma_mask,\n",
    "    scale=scale,\n",
    "    blending='additive'\n",
    ")\n"
   ]
  },
  {
   "cell_type": "code",
   "execution_count": null,
   "metadata": {},
   "outputs": [],
   "source": [
    "\n",
    "from napari.utils.notebook_display import nbscreenshot\n",
    "\n",
    "# viewer.dims.ndisplay = 3\n",
    "# viewer.camera.angles = (-30, 25, 120)\n",
    "nbscreenshot(viewer, canvas_only=True)\n",
    "viewer.close()"
   ]
  },
  {
   "attachments": {},
   "cell_type": "markdown",
   "metadata": {},
   "source": [
    "-------------\n",
    "## SUMMARY\n",
    "\n",
    "The above explains the overall framework.  \n",
    "\n",
    "### NEXT: INFER NUCLEI\n",
    "\n",
    "proceed to [02_infer_nuclei.ipynb](./02_infer_nuclei.ipynb)\n"
   ]
  }
 ],
 "metadata": {
  "kernelspec": {
   "display_name": "Python 3.9.13 ('napariNEW')",
   "language": "python",
   "name": "python3"
  },
  "language_info": {
   "codemirror_mode": {
    "name": "ipython",
    "version": 3
   },
   "file_extension": ".py",
   "mimetype": "text/x-python",
   "name": "python",
   "nbconvert_exporter": "python",
   "pygments_lexer": "ipython3",
   "version": "3.9.16"
  },
  "orig_nbformat": 4,
  "vscode": {
   "interpreter": {
    "hash": "d6148ef1fb015fb20f0b6da2ea61c87c6b848bdf3dabb03087e5d5cd0c4607e9"
   }
  }
 },
 "nbformat": 4,
 "nbformat_minor": 2
}
