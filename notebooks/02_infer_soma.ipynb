{
 "cells": [
  {
   "attachments": {},
   "cell_type": "markdown",
   "metadata": {},
   "source": [
    "# Infer ***soma*** -  2️⃣ \n",
    "\n",
    "> WARNING: (🚨🚨🚨🚨 Steps 3-9 depend on establishing a good solution here.)\n",
    ">> #### Because we do NOT have a direct cell membrane / soma signal, this segmentation is trickiest and potentially most problematic part of the overall sub-cellular component inference pipeline. We are using the nuclei of the cell with the brightest total fluorescence (all channels) to identify a single soma for all downstream steps. The Soma (via the Cytosol mask) will be used to define ALL subsequent sub-cellular Objects.\n",
    "\n",
    "--------------\n",
    "\n",
    "## OBJECTIVE: \n",
    "### ✅ Infer sub-cellular component #2: ***soma***/cell body in order to understand interactome \n",
    "\n",
    "Infer a segmentation of the cell body -- the ***soma*** -- in order to measure its shape, position, and size.\n",
    "\n",
    "CONTEXT: \"Soma\" is used here becuase subsequent experiments will contain neurons who's soma has a similar shape to an iPS cell body.\n",
    "\n",
    "This method is used in the case where there is no cell fill/membrane marker.\n",
    "\n",
    "We will infer the soma from a combination of fluorescent signals. The current selection includes the lysosomes, ER, and Golgi (e.g., 'Ch = 1, 3, 5) which have some intracellular fluorescence - likely from off target marker localization to the entire soma and/or the cell membrane. There are two other channels, the residual channel from linear unmixing (e.g. `ch = 7`) and the lipid droplet channel (e.g., `ch = 6`) that could more lead to more unbiased selection of the entire soma. However, the drawback of these two markers is that they are present in every cell which makes downstream cell selection more challenging. To expand on this, we will be collecting per cell measurements, so each cell area has to be segmented individually even if there are two appropriately labeled cells within one field of view. \n",
    "\n",
    "In the long term we can build of a database of \"ground truth\" by sourcing additional markers which can be iteratively improved.  For example using the Allen Cell \"Label Free\" segmentation results should provide a good corroboration or constraints to the procedures outlined below.  \n",
    "\n",
    "A first possible _workflow_ is illustrated below.\n",
    "\n",
    "### IMAGE PROCESSING  OBJECTIVE :  infer ***soma***\n",
    " \n",
    "> #### Note:  we are using the Nuclei of the brightest cell to aid in inferring the Soma and Cytosol objects.   Because we do NOT have a direct cell membrane / soma signal this is the trickiest and potentially problematic part of the overall sub-cellular component inference.   The Soma (via the Cytosol mask) will be used to define ALL subsequent sub-cellular Objects."
   ]
  },
  {
   "attachments": {},
   "cell_type": "markdown",
   "metadata": {},
   "source": [
    "## preamble\n",
    "\n",
    "1. imports\n",
    "2. setup\n",
    "3. ~~choose_Z~~\n",
    "4. infer-soma\n",
    "    * input\n",
    "    * pre-processing\n",
    "    * core processing\n",
    "    * post-processing\n",
    "    * select individual cell\n",
    "    * output\n",
    "5. export soma\n",
    "\n"
   ]
  },
  {
   "attachments": {},
   "cell_type": "markdown",
   "metadata": {},
   "source": [
    "\n",
    "\n",
    "## IMPORTS"
   ]
  },
  {
   "cell_type": "code",
   "execution_count": 2,
   "metadata": {},
   "outputs": [],
   "source": [
    "# top level imports\n",
    "from pathlib import Path\n",
    "import os, sys\n",
    "from collections import defaultdict\n",
    "from typing import Union, Tuple, List\n",
    "\n",
    "import numpy as np\n",
    "\n",
    "from scipy import ndimage as ndi\n",
    "from aicssegmentation.core.pre_processing_utils import ( intensity_normalization, \n",
    "                                                         image_smoothing_gaussian_slice_by_slice )\n",
    "from aicssegmentation.core.MO_threshold import MO\n",
    "from aicssegmentation.core.utils import hole_filling\n",
    "\n",
    "from skimage import filters\n",
    "from skimage.segmentation import watershed, clear_border\n",
    "from skimage.morphology import remove_small_holes   # function for post-processing (size filter)\n",
    "\n",
    "from skimage.measure import label\n",
    "\n",
    "# # package for io \n",
    "from aicsimageio import AICSImage\n",
    "\n",
    "import napari\n",
    "\n",
    "### import local python functions in ../infer_subc_2d\n",
    "sys.path.append(os.path.abspath((os.path.join(os.getcwd(), '..'))))\n",
    "\n",
    "\n",
    "from infer_subc_2d.utils.file_io import (read_czi_image,\n",
    "                                                                     read_ome_image,\n",
    "                                                                     import_inferred_organelle,\n",
    "                                                                     export_inferred_organelle,\n",
    "                                                                    list_image_files)\n",
    "\n",
    "                                             \n",
    "from infer_subc_2d.utils.img import *\n",
    "\n",
    "from infer_subc_2d.organelles import  fixed_infer_nuclei\n",
    "\n",
    "%load_ext autoreload\n",
    "%autoreload 2\n"
   ]
  },
  {
   "attachments": {},
   "cell_type": "markdown",
   "metadata": {},
   "source": [
    "\n",
    "## SETUP\n",
    "\n",
    "CUSTOMIZE WITH: \n",
    "1. updated path to data\n",
    "2. updated folder name for \"raw\" data\n",
    "\n",
    "> NOTE: we are operating on a single \"test\" image in this notebook.  The batch-processing of all the images will be happen at the end of the notebook after we have developed/confirmed the setmentation procedures and parameter settings.\n"
   ]
  },
  {
   "cell_type": "code",
   "execution_count": 4,
   "metadata": {},
   "outputs": [],
   "source": [
    "# NOTE:  these \"constants\" are only accurate for the testing MCZ dataset\n",
    "from infer_subc_2d.constants import (TEST_IMG_N,\n",
    "                                                                    NUC_CH ,\n",
    "                                                                    LYSO_CH ,\n",
    "                                                                    MITO_CH ,\n",
    "                                                                    GOLGI_CH ,\n",
    "                                                                    PEROXI_CH ,\n",
    "                                                                    ER_CH ,\n",
    "                                                                    LIPID_CH ,\n",
    "                                                                    RESIDUAL_CH )                       "
   ]
  },
  {
   "cell_type": "code",
   "execution_count": 5,
   "metadata": {},
   "outputs": [],
   "source": [
    "# this will be the example image for testing the pipeline below\n",
    "test_img_n = TEST_IMG_N\n",
    "\n",
    "# build the datapath\n",
    "# all the imaging data goes here.\n",
    "data_root_path = Path(os.path.expanduser(\"~\")) / \"Projects/Imaging/data\"\n",
    "\n",
    "# linearly unmixed \".czi\" files are here\n",
    "in_data_path = data_root_path / \"raw\"\n",
    "im_type = \".czi\"\n",
    "\n",
    "# get the list of all files\n",
    "img_file_list = list_image_files(in_data_path,im_type)\n",
    "test_img_name = img_file_list[test_img_n]\n",
    "\n",
    "# save output \".tiff\" files here\n",
    "out_data_path = data_root_path / \"out\"\n",
    "im_type = \".czi\"\n",
    "\n"
   ]
  },
  {
   "cell_type": "markdown",
   "metadata": {},
   "source": []
  },
  {
   "cell_type": "code",
   "execution_count": 6,
   "metadata": {},
   "outputs": [
    {
     "name": "stderr",
     "output_type": "stream",
     "text": [
      "/opt/anaconda3/envs/napariNEW/lib/python3.9/site-packages/ome_types/_convenience.py:106: FutureWarning: The default XML parser will be changing from 'xmlschema' to 'lxml' in version 0.4.0.  To silence this warning, please provide the `parser` argument, specifying either 'lxml' (to opt into the new behavior), or'xmlschema' (to retain the old behavior).\n",
      "  d = to_dict(os.fspath(xml), parser=parser, validate=validate)\n"
     ]
    }
   ],
   "source": [
    "img_data,meta_dict = read_czi_image(test_img_name)\n",
    "\n",
    "# get some top-level info about the RAW data\n",
    "channel_names = meta_dict['name']\n",
    "img = meta_dict['metadata']['aicsimage']\n",
    "scale = meta_dict['scale']\n",
    "channel_axis = meta_dict['channel_axis']"
   ]
  },
  {
   "attachments": {},
   "cell_type": "markdown",
   "metadata": {},
   "source": [
    "##  infer ***soma***\n",
    "\n",
    ">WORKFLOW #1  - modified MCZ 3/20\n",
    "\n",
    "Segmentation on a 3 channel composite as per 3/20 pipeline from MCZ\n",
    "Summary - Starting with a linear combination of three signals,  the signal is smoothed and non-linearly combined (logrithmic and edge detected) for thresholding. \n",
    "## summary of steps\n",
    "\n",
    "➡️ INPUT\n",
    "- multi-channel sum (6.*1, 3, 2.*5)\n",
    "- nuclei mask\n",
    "\n",
    "PRE-PROCESSING\n",
    "- rescaling\n",
    "- denoise/smoothing\n",
    "- log transform inensities\n",
    "- scale to max 1.0\n",
    "- create non-linear aggregate of log-intensity + scharr edge filtered intensity\n",
    "\n",
    "CORE PROCESSING\n",
    "- mask object segmentation at bottom\n",
    "\n",
    "POST-PROCESSING\n",
    "  - fill holes\n",
    "  - remove small objects\n",
    "\n",
    "OUTPUT ➡️ \n",
    "- mask of SOMA\n",
    "\n",
    "\n",
    "> #### Note: this pipeline will eventually include a selection step to identify the soma that are properly labeled with all fluorescent markers. This could be one single cell per image, or more if applicable data is available.\n"
   ]
  },
  {
   "attachments": {},
   "cell_type": "markdown",
   "metadata": {},
   "source": [
    "## INPUT prototype\n",
    "\n",
    "Combine multiple channels that will allow inference of the soma.\n",
    "\n",
    "Note: the selected channels were chosen based on their qualitative ability to fill the cytoplasmic area of the cell. \n",
    "\n"
   ]
  },
  {
   "attachments": {},
   "cell_type": "markdown",
   "metadata": {},
   "source": [
    "## GET inferred nuclei"
   ]
  },
  {
   "cell_type": "code",
   "execution_count": 7,
   "metadata": {},
   "outputs": [
    {
     "name": "stdout",
     "output_type": "stream",
     "text": [
      "loaded nuclei from /Users/ahenrie/Projects/Imaging/data/out\n"
     ]
    }
   ],
   "source": [
    "\n",
    "# nuclei_fname = \"/Users/ahenrie/Projects/Imaging/data/out/nuclei_ZSTACK_PBTOhNGN2hiPSCs_BR3_N04_Unmixed.ome.tiff\"\n",
    "nuclei = import_inferred_organelle(\"nuclei\", meta_dict, out_data_path)\n",
    "\n",
    "if nuclei is None:\n",
    "    nuclei =  fixed_infer_nuclei(img_data) \n",
    "    out_file_n = export_inferred_organelle(nuclei, \"nuclei\", meta_dict, out_data_path)\n",
    "    print(f\"calculated nuclei. wrote {out_file_n}\")\n",
    "else:\n",
    "    print(f\"loaded nuclei from {out_data_path}\")\n"
   ]
  },
  {
   "cell_type": "code",
   "execution_count": 8,
   "metadata": {},
   "outputs": [],
   "source": [
    "# get_interior_labels.   Removes any segmentations on the edges, but we probably don't want to use it\n",
    "nuclei_labls = get_interior_labels(nuclei)\n"
   ]
  },
  {
   "cell_type": "code",
   "execution_count": 9,
   "metadata": {},
   "outputs": [],
   "source": [
    "\n",
    "###################\n",
    "# INPUT\n",
    "###################\n",
    "struct_img_raw = (6. * img_data[LYSO_CH].copy().astype(np.double) +\n",
    "                  1. * img_data[ER_CH].copy().astype(np.double) + \n",
    "                  2. * img_data[GOLGI_CH].copy().astype(np.double))\n"
   ]
  },
  {
   "cell_type": "code",
   "execution_count": 10,
   "metadata": {},
   "outputs": [
    {
     "data": {
      "text/plain": [
       "(array([34548., 31003., 27969., 57573., 66992., 67514., 63489., 75837.,\n",
       "        95956., 84172.]),\n",
       " array([34548., 31003., 27969., 57573., 66992., 67514., 63489., 75837.,\n",
       "        95956., 84172.]),\n",
       " array([34548., 31003., 27969., 57573., 66992., 67514., 63489., 75837.,\n",
       "        95956., 84172.]))"
      ]
     },
     "execution_count": 10,
     "metadata": {},
     "output_type": "execute_result"
    }
   ],
   "source": [
    "# confirm our functions work as expected:\n",
    "\n",
    "weights =  (0,6,0,2, 0,1) # _,lyso,_, golgi,_,1,0,0,_,_\n",
    "struct_img_raw2 = weighted_aggregate(img_data, *weights)\n",
    "# use splat so we can also break out the arguments for our napari widget later\n",
    "struct_img_raw3 = weighted_aggregate(img_data, 0,6,0,2, 0,1)\n",
    "\n",
    "struct_img_raw[0,0:10,0], struct_img_raw2[0,0:10,0], struct_img_raw3[0,0:10,0]\n"
   ]
  },
  {
   "attachments": {},
   "cell_type": "markdown",
   "metadata": {},
   "source": [
    "## PRE-PROCESSING prototype\n"
   ]
  },
  {
   "cell_type": "code",
   "execution_count": 11,
   "metadata": {},
   "outputs": [],
   "source": [
    "from infer_subc_2d.organelles.soma import raw_soma_MCZ, non_linear_soma_transform_MCZ, choose_max_label_soma_union_nucleus\n",
    "\n",
    "struct_img_raw = raw_soma_MCZ(img_data)\n",
    "###################\n",
    "# PRE_PROCESSING\n",
    "###################\n",
    "#\n",
    "# DEFAULT PARAMETERS:\n",
    "\n",
    "med_filter_size = 15  \n",
    "gaussian_smoothing_sigma = 1.34\n",
    "\n",
    "\n",
    "structure_img_smooth =  scale_and_smooth(struct_img_raw,\n",
    "                                                    median_sz = med_filter_size, \n",
    "                                                    gauss_sig = gaussian_smoothing_sigma)\n",
    "\n",
    "\n",
    "# # NON-Linear aggregation\n",
    "# log_image, d = log_transform( structure_img_smooth ) \n",
    "# log_image = intensity_normalization(  log_image,  scaling_param=[0] )\n",
    "# edges = filters.scharr(log_image)\n",
    "# composite_soma = intensity_normalization(  edges,  scaling_param=[0] ) + log_image \n",
    "\n",
    "composite_soma = non_linear_soma_transform_MCZ(structure_img_smooth)\n"
   ]
  },
  {
   "attachments": {},
   "cell_type": "markdown",
   "metadata": {},
   "source": [
    "## CORE PROCESSING"
   ]
  },
  {
   "cell_type": "code",
   "execution_count": 12,
   "metadata": {},
   "outputs": [],
   "source": [
    "###################\n",
    "# CORE_PROCESSING\n",
    "###################\n",
    "low_level_min_size =  150\n",
    "\n",
    "################# part 1\n",
    "bw = masked_object_thresh(composite_soma, \n",
    "                                                th_method='ave', \n",
    "                                                cutoff_size=low_level_min_size, \n",
    "                                                th_adjust= 0.5)\n",
    "\n"
   ]
  },
  {
   "attachments": {},
   "cell_type": "markdown",
   "metadata": {},
   "source": [
    "## POST-PROCESSING"
   ]
  },
  {
   "cell_type": "code",
   "execution_count": 13,
   "metadata": {},
   "outputs": [],
   "source": [
    "###################\n",
    "# POST_PROCESSING\n",
    "###################\n",
    "hole_width = 50\n",
    "#removed_holes = remove_small_holes(bw, hole_width ** 2 )\n",
    "removed_holes = hole_filling_linear_size(bw, \n",
    "                                                    hole_min=0, \n",
    "                                                    hole_max=hole_width)\n",
    "\n",
    "\n",
    "small_object_width = 45\n",
    "\n",
    "cleaned_img = size_filter_linear_size(removed_holes, \n",
    "                                                                min_size = small_object_width)\n",
    "\n",
    "cleaned_img2 = fill_and_filter_linear_size(bw, hole_min=0, hole_max=hole_width, min_size= small_object_width)"
   ]
  },
  {
   "cell_type": "code",
   "execution_count": 14,
   "metadata": {},
   "outputs": [
    {
     "data": {
      "text/plain": [
       "True"
      ]
     },
     "execution_count": 14,
     "metadata": {},
     "output_type": "execute_result"
    }
   ],
   "source": [
    "# make sure it works..\n",
    "np.all(cleaned_img==cleaned_img2)"
   ]
  },
  {
   "attachments": {},
   "cell_type": "markdown",
   "metadata": {},
   "source": [
    "## POST POST-PROCESSING"
   ]
  },
  {
   "cell_type": "code",
   "execution_count": 15,
   "metadata": {},
   "outputs": [],
   "source": [
    "###################\n",
    "# POST- POST_PROCESSING\n",
    "###################\n",
    "\n",
    "# # below can be performed by: masked_inverted_watershed(img_in,markers, mask)\n",
    "# inverted_img = 1. - composite_soma\n",
    "# labels_out = watershed(\n",
    "#             inverted_img,\n",
    "#             markers=label(nuclei),\n",
    "#             connectivity=np.ones((1, 3,3), bool),\n",
    "#             mask=watershed_mask,\n",
    "#             )\n",
    "nuc_labels = label(nuclei)\n",
    "soma_labels = masked_inverted_watershed(structure_img_smooth,nuc_labels, cleaned_img)\n",
    "\n",
    "keep_label = get_max_label(composite_soma, soma_labels)\n",
    "\n",
    "soma_out = np.zeros_like(soma_labels)\n",
    "soma_out[soma_labels == keep_label] = 1\n",
    "soma_out[nuc_labels == keep_label] = 1\n",
    "\n",
    "soma_out2 = choose_max_label_soma_union_nucleus(structure_img_smooth, cleaned_img, nuclei) \n"
   ]
  },
  {
   "attachments": {},
   "cell_type": "markdown",
   "metadata": {},
   "source": [
    "## Visualize with `napari` 1\n",
    "Visualize the first-pass segmentation and labeling with `napari`."
   ]
  },
  {
   "cell_type": "code",
   "execution_count": 16,
   "metadata": {},
   "outputs": [],
   "source": [
    "\n",
    "viewer = napari.view_image(\n",
    "        cleaned_img,\n",
    "    )\n"
   ]
  },
  {
   "cell_type": "code",
   "execution_count": 17,
   "metadata": {},
   "outputs": [
    {
     "data": {
      "text/plain": [
       "<Labels layer 'soma_out' at 0x103f9acd0>"
      ]
     },
     "execution_count": 17,
     "metadata": {},
     "output_type": "execute_result"
    }
   ],
   "source": [
    "\n",
    "viewer.scale_bar.visible = True\n",
    "\n",
    "viewer.add_labels(\n",
    "    soma_out,\n",
    ")\n",
    "\n"
   ]
  },
  {
   "cell_type": "markdown",
   "metadata": {},
   "source": [
    "## SAVE inferred nuclei to .tif file\n",
    "\n",
    "Based on the _prototyping_ above define the function to infer nuclei.  \n"
   ]
  },
  {
   "cell_type": "code",
   "execution_count": 18,
   "metadata": {},
   "outputs": [
    {
     "name": "stderr",
     "output_type": "stream",
     "text": [
      "/opt/anaconda3/envs/napariNEW/lib/python3.9/site-packages/ome_types/_convenience.py:106: FutureWarning: The default XML parser will be changing from 'xmlschema' to 'lxml' in version 0.4.0.  To silence this warning, please provide the `parser` argument, specifying either 'lxml' (to opt into the new behavior), or'xmlschema' (to retain the old behavior).\n",
      "  d = to_dict(os.fspath(xml), parser=parser, validate=validate)\n"
     ]
    },
    {
     "name": "stdout",
     "output_type": "stream",
     "text": [
      "saved file: /Users/ahenrie/Projects/Imaging/data/out/soma_ZSTACK_PBTOhNGN2hiPSCs_BR3_N04_Unmixed.ome.tiff\n"
     ]
    }
   ],
   "source": [
    "\n",
    "out_file_n = export_inferred_organelle(soma_out, \"soma\", meta_dict, out_data_path)\n"
   ]
  },
  {
   "cell_type": "markdown",
   "metadata": {},
   "source": [
    "## DEFINE parameterized  `_infer_soma` function\n",
    "\n",
    "A function to infer_soma from our (Channel, 1 Z slice, X, Y) image accourding the the following parameters: \n",
    "-  "
   ]
  },
  {
   "cell_type": "code",
   "execution_count": 19,
   "metadata": {},
   "outputs": [],
   "source": [
    "from infer_subc_2d.organelles.soma import raw_soma_MCZ, non_linear_soma_transform_MCZ\n",
    "\n",
    "##########################\n",
    "# 1. infer_soma\n",
    "##########################\n",
    "\n",
    "def _infer_soma_MCZ(in_img: np.ndarray,\n",
    "                nuclei_obj: np.ndarray,\n",
    "    median_sz: int,\n",
    "    gauss_sig: float,\n",
    "    mo_method: str,\n",
    "    mo_adjust: float,\n",
    "    mo_cutoff_size: int,\n",
    "    max_hole_w: int,\n",
    "    small_obj_w: int\n",
    ") -> np.ndarray:\n",
    "    \"\"\"\n",
    "    Procedure to infer soma from linearly unmixed input.\n",
    "\n",
    "    Parameters\n",
    "    ------------\n",
    "    in_img: \n",
    "        a 3d image containing all the channels\n",
    "    nuclei_obj: \n",
    "        a 3d image containing the inferred nuclei\n",
    "    median_sz: \n",
    "        width of median filter for _soma_ signal\n",
    "    gauss_sig: \n",
    "        sigma for gaussian smoothing of _soma_ signal\n",
    "    mo_method: \n",
    "         which method to use for calculating global threshold. Options include:\n",
    "         \"triangle\" (or \"tri\"), \"median\" (or \"med\"), and \"ave_tri_med\" (or \"ave\").\n",
    "         \"ave\" refers the average of \"triangle\" threshold and \"mean\" threshold.\n",
    "    mo_adjust: \n",
    "        Masked Object threshold `local_adjust`\n",
    "    mo_cutoff_size: \n",
    "        Masked Object threshold `size_min`\n",
    "    max_hole_w: \n",
    "        hole filling cutoff for soma signal post-processing\n",
    "    small_obj_w: \n",
    "        minimu object size cutoff for soma signal post-processing\n",
    "\n",
    "    Returns\n",
    "    -------------\n",
    "    soma_mask:\n",
    "        a logical/labels object defining boundaries of soma\n",
    "\n",
    "    \"\"\"\n",
    "    nuc_ch = NUC_CH\n",
    "    ###################\n",
    "    # EXTRACT\n",
    "    ###################\n",
    "    struct_img = raw_soma_MCZ(in_img)\n",
    "    scaled_signal = struct_img.copy() # already scaled\n",
    "\n",
    "    ###################\n",
    "    # PRE_PROCESSING\n",
    "    ###################                         \n",
    "    ################# part 1- soma\n",
    "\n",
    "    # Linear-ish processing\n",
    "    struct_img = median_filter_slice_by_slice(struct_img, size=median_sz)\n",
    "\n",
    "    struct_img = image_smoothing_gaussian_slice_by_slice( struct_img,\n",
    "                                                                                sigma=gauss_sig)\n",
    "\n",
    "    struct_img_non_lin = non_linear_soma_transform_MCZ(struct_img)\n",
    "\n",
    "    ###################\n",
    "    # CORE_PROCESSING\n",
    "    ###################\n",
    "    struct_obj = masked_object_thresh(struct_img_non_lin, \n",
    "                                                th_method=mo_method, \n",
    "                                                cutoff_size=mo_cutoff_size, \n",
    "                                                th_adjust=mo_adjust)               \n",
    "\n",
    "    ###################\n",
    "    # POST_PROCESSING\n",
    "    ###################\n",
    "    # struct_obj = hole_filling_linear_size(struct_obj, \n",
    "    #                                             hole_min =0 , \n",
    "    #                                             hole_max=max_hole_w) \n",
    "    # struct_obj = size_filter_linear_size(struct_obj, \n",
    "    #                                                 min_size= small_obj_w)\n",
    "    struct_obj = fill_and_filter_linear_size(struct_obj, hole_min=0, hole_max=max_hole_w, min_size= small_obj_w)\n",
    "\n",
    "    ###################\n",
    "    # POST- POST_PROCESSING\n",
    "    ###################\n",
    "    soma_out = choose_max_label_soma_union_nucleus(struct_img, struct_obj, nuclei_obj) \n",
    "\n",
    "    return soma_out\n",
    "\n",
    "\n",
    "\n"
   ]
  },
  {
   "cell_type": "markdown",
   "metadata": {},
   "source": [
    "## DEFINE `_fixed_infer_soma` function\n",
    "\n",
    "Based on the _prototyping_ above define the function to infer soma. with a *fixed* set of parameters for each step in the procedure.  That is they are all \"hard coded\""
   ]
  },
  {
   "cell_type": "code",
   "execution_count": 20,
   "metadata": {},
   "outputs": [],
   "source": [
    "##########################\n",
    "# 1. fixed_infer_soma\n",
    "##########################\n",
    "\n",
    "\n",
    "def _fixed_infer_soma_MCZ(in_img: np.ndarray, nuclei_obj: np.ndarray) -> np.ndarray:\n",
    "    \"\"\"\n",
    "    Procedure to infer soma from linearly unmixed input, with a *fixed* set of parameters for each step in the procedure.  i.e. \"hard coded\"\n",
    "\n",
    "    Parameters\n",
    "    ------------\n",
    "    in_img: \n",
    "        a 3d image containing all the channels\n",
    "    nuclei_obj: \n",
    "        a 3d image containing the inferred nuclei\n",
    "\n",
    "    Returns\n",
    "    -------------\n",
    "    soma_mask:\n",
    "        a logical/labels object defining boundaries of soma\n",
    "    \"\"\"\n",
    "    \n",
    "\n",
    "    ###################\n",
    "    # PARAMETERS\n",
    "    ###################   \n",
    "    median_sz = 15\n",
    "    gauss_sig = 1.34\n",
    "    mo_method = \"ave\"\n",
    "    mo_adjust = 0.5\n",
    "    mo_cutoff_size = 150\n",
    "    max_hole_w = 50\n",
    "    small_obj_w = 45\n",
    "\n",
    "    soma_out = _infer_soma(in_img,\n",
    "                                                nuclei_obj,\n",
    "                                                median_sz,\n",
    "                                                gauss_sig,\n",
    "                                                mo_method,\n",
    "                                                mo_adjust,\n",
    "                                                mo_cutoff_size,\n",
    "                                                max_hole_w,\n",
    "                                                small_obj_w) \n",
    "\n",
    "    return soma_out\n",
    "\n",
    "\n"
   ]
  },
  {
   "cell_type": "code",
   "execution_count": 21,
   "metadata": {},
   "outputs": [],
   "source": [
    "from infer_subc_2d.organelles.soma import fixed_infer_soma_MCZ\n",
    "\n",
    "soma_object =  fixed_infer_soma_MCZ(img_data, nuclei) \n"
   ]
  },
  {
   "cell_type": "markdown",
   "metadata": {},
   "source": [
    "## Visualize  2\n"
   ]
  },
  {
   "cell_type": "code",
   "execution_count": 22,
   "metadata": {},
   "outputs": [
    {
     "data": {
      "text/plain": [
       "<Labels layer 'Labels' at 0x166f4ba30>"
      ]
     },
     "execution_count": 22,
     "metadata": {},
     "output_type": "execute_result"
    }
   ],
   "source": [
    "viewer.add_image(\n",
    "    soma_object,\n",
    "    scale=scale,\n",
    "    opacity=0.3,\n",
    ")    \n",
    "\n",
    "\n",
    "viewer.add_labels(\n",
    "    label(nuclei),\n",
    "    scale=scale,\n",
    "    opacity=0.3,\n",
    ")\n"
   ]
  },
  {
   "cell_type": "code",
   "execution_count": 23,
   "metadata": {},
   "outputs": [
    {
     "data": {
      "image/png": "[encoded data removed]",
      "text/html": [
       "<img src=\"data:image/png;base64,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\"></img>"
      ],
      "text/plain": [
       "<napari.utils.notebook_display.NotebookScreenshot at 0x1670b5880>"
      ]
     },
     "execution_count": 23,
     "metadata": {},
     "output_type": "execute_result"
    }
   ],
   "source": [
    "from napari.utils.notebook_display import nbscreenshot\n",
    "\n",
    "# viewer.dims.ndisplay = 3\n",
    "# viewer.camera.angles = (-30, 25, 120)\n",
    "nbscreenshot(viewer, canvas_only=True)\n"
   ]
  },
  {
   "cell_type": "code",
   "execution_count": 24,
   "metadata": {},
   "outputs": [],
   "source": [
    "viewer.close()"
   ]
  },
  {
   "cell_type": "code",
   "execution_count": null,
   "metadata": {},
   "outputs": [],
   "source": [
    "\n",
    "def _masked_object_thresh(\n",
    "    structure_img_smooth: np.ndarray, th_method: str, cutoff_size: int, th_adjust: float\n",
    ") -> np.ndarray:\n",
    "    \"\"\"\n",
    "    wrapper for applying Masked Object Thresholding with just two parameters via `MO` from `aicssegmentation`\n",
    "    Parameters\n",
    "    ------------\n",
    "    structure_img_smooth: np.ndarray\n",
    "        a 3d image\n",
    "    th_method: \n",
    "         which method to use for calculating global threshold. Options include:\n",
    "         \"triangle\" (or \"tri\"), \"median\" (or \"med\"), and \"ave_tri_med\" (or \"ave\").\n",
    "         \"ave\" refers the average of \"triangle\" threshold and \"mean\" threshold.\n",
    "    cutoff_size: \n",
    "        Masked Object threshold `size_min`\n",
    "    th_adjust: \n",
    "        Masked Object threshold `local_adjust`\n",
    "\n",
    "    Returns\n",
    "    -------------\n",
    "        np.ndarray segmentation \n",
    "\n",
    "    \"\"\"\n",
    "\n",
    "    struct_obj = MO(\n",
    "        structure_img_smooth,\n",
    "        global_thresh_method=th_method,\n",
    "        object_minArea=cutoff_size,\n",
    "        extra_criteria=True,\n",
    "        local_adjust=th_adjust,\n",
    "        return_object=False,\n",
    "        dilate=True,\n",
    "    )\n",
    "    return struct_obj\n"
   ]
  },
  {
   "cell_type": "code",
   "execution_count": null,
   "metadata": {},
   "outputs": [],
   "source": [
    "def get_max_label(raw_signal: np.ndarray, labels_in: np.ndarray) -> np.ndarray:\n",
    "    \"\"\"keep only the label with the maximum raw signal\n",
    "        Parameters\n",
    "    ------------\n",
    "    raw_signal:\n",
    "        the image to filter on\n",
    "    labels_in:\n",
    "        labels to consider\n",
    "\n",
    "    Returns\n",
    "    -------------\n",
    "        np.ndarray of labels corresponding to the largest total signal\n",
    "\n",
    "    \"\"\"\n",
    "    all_labels = np.unique(labels_in)[1:]\n",
    "\n",
    "    total_signal = [raw_signal[labels_in == label].sum() for label in all_labels]\n",
    "    # combine NU and \"labels\" to make a SOMA\n",
    "    keep_label = all_labels[np.argmax(total_signal)]\n",
    "\n",
    "    return keep_label\n",
    "\n",
    "def choose_max_label_soma_union_nucleus(soma_img: np.ndarray, soma_obj: np.ndarray, nuclei_obj: np.ndarray) -> np.ndarray:\n",
    "    \"\"\"find the label with the maximum soma from watershed on the nuclei + plus the corresponding nuclei labels\n",
    "\n",
    "        Parameters\n",
    "    ------------\n",
    "    soma_img:\n",
    "        the soma image intensities\n",
    "    soma_obj:\n",
    "        thresholded soma mask\n",
    "    nuclei_obj:\n",
    "        inferred nuclei\n",
    "\n",
    "    Returns\n",
    "    -------------\n",
    "        np.ndarray of soma+nuc labels corresponding to the largest total soma signal \n",
    "\n",
    "    \"\"\"\n",
    "    nuc_labels = label(nuclei_obj)\n",
    "    soma_labels = masked_inverted_watershed(soma_img,nuc_labels, soma_obj)\n",
    "\n",
    "    keep_label = get_max_label(soma_img, soma_labels)\n",
    "\n",
    "    soma_out = np.zeros_like(soma_labels)\n",
    "    soma_out[soma_labels == keep_label] = 1\n",
    "    soma_out[nuc_labels == keep_label] = 1\n",
    "\n",
    "    return soma_out\n"
   ]
  },
  {
   "cell_type": "code",
   "execution_count": null,
   "metadata": {},
   "outputs": [],
   "source": [
    "\n",
    "def raw_soma_MCZ(img_in: np.ndarray, scale_min_max:bool = True) -> np.ndarray:\n",
    "    \"\"\"define soma image\n",
    "    SOMA_W = (6.,1.,2.)\n",
    "    SOMA_CH = (LYSO_CH,ER_CH,GOLGI_CH)\n",
    "\n",
    "    Parameters\n",
    "    ------------\n",
    "    img_in\n",
    "        a 3d image\n",
    "    scale_min_max: \n",
    "        scale to [0,1] if True. default True\n",
    "\n",
    "    Returns\n",
    "    -------------\n",
    "        np.ndarray scaled aggregate\n",
    "\n",
    "    \"\"\"\n",
    "    weights = (0, 6, 0, 2, 0, 1)\n",
    "    if scale: \n",
    "        return min_max_intensity_normalization(weighted_aggregate(img_in, *weights))\n",
    "    else: \n",
    "        return weighted_aggregate(img_in, *weights)"
   ]
  },
  {
   "cell_type": "markdown",
   "metadata": {},
   "source": [
    "---------------------\n",
    "# TEST `_infer_soma`  function defined above\n",
    "\n",
    "\n",
    "##\n"
   ]
  },
  {
   "cell_type": "code",
   "execution_count": 25,
   "metadata": {},
   "outputs": [],
   "source": [
    "\n",
    "SO_label =  _fixed_infer_soma(img_2D) "
   ]
  },
  {
   "cell_type": "code",
   "execution_count": 23,
   "metadata": {},
   "outputs": [],
   "source": [
    "from infer_subc_2d.organelles import fixed_infer_soma\n",
    "\n",
    "soma_ =  fixed_infer_soma(img_data, nuclei) "
   ]
  },
  {
   "cell_type": "code",
   "execution_count": 24,
   "metadata": {},
   "outputs": [
    {
     "data": {
      "text/plain": [
       "<Image layer 'soma_' at 0x1658ac4c0>"
      ]
     },
     "execution_count": 24,
     "metadata": {},
     "output_type": "execute_result"
    }
   ],
   "source": [
    "\n",
    "viewer.add_image(\n",
    "    soma_,\n",
    "    scale=scale \n",
    ")"
   ]
  },
  {
   "cell_type": "markdown",
   "metadata": {},
   "source": [
    "Write the `infer_soma` spec to the widget json"
   ]
  },
  {
   "cell_type": "code",
   "execution_count": 28,
   "metadata": {},
   "outputs": [
    {
     "name": "stdout",
     "output_type": "stream",
     "text": [
      "function fixed_infer_soma is already in all_functions.json\n",
      "overwriting  fixed_infer_soma\n"
     ]
    },
    {
     "data": {
      "text/plain": [
       "1"
      ]
     },
     "execution_count": 28,
     "metadata": {},
     "output_type": "execute_result"
    }
   ],
   "source": [
    "from infer_subc_2d.organelles_config.helper import add_function_spec_to_widget_json\n",
    "\n",
    "_fixed_infer_soma =  {\n",
    "        \"name\": \" infer soma mask (fixed parameters)\",\n",
    "        \"python::module\": \"infer_subc_2d.organelles\",\n",
    "        \"python::function\": \"fixed_infer_soma\",\n",
    "        \"parameters\": None\n",
    "        }\n",
    "\n",
    "add_function_spec_to_widget_json(\"fixed_infer_soma\", _fixed_infer_soma, overwrite=True)"
   ]
  },
  {
   "cell_type": "code",
   "execution_count": 29,
   "metadata": {},
   "outputs": [
    {
     "name": "stdout",
     "output_type": "stream",
     "text": [
      "function infer_soma is already in all_functions.json\n",
      "overwriting  infer_soma\n"
     ]
    },
    {
     "data": {
      "text/plain": [
       "1"
      ]
     },
     "execution_count": 29,
     "metadata": {},
     "output_type": "execute_result"
    }
   ],
   "source": [
    "\n",
    "_infer_soma =  {\n",
    "        \"name\": \" infer soma mask\",\n",
    "        \"python::module\": \"infer_subc_2d.organelles\",\n",
    "        \"python::function\": \"infer_soma\",\n",
    "        \"parameters\": {\n",
    "                \"median_sz_soma\": {\n",
    "                        \"widget_type\": \"slider\",\n",
    "                        \"data_type\": \"int\",\n",
    "                        \"min\": 3,\n",
    "                        \"max\": 15,\n",
    "                        \"increment\": 1\n",
    "                },\n",
    "                \"gauss_sig_soma\": {\n",
    "                        \"data_type\": \"float\",\n",
    "                        \"increment\": 0.25,\n",
    "                        \"max\": 15.0,\n",
    "                        \"min\": 1.25,\n",
    "                        \"widget_type\": \"slider\"\n",
    "                },\n",
    "                \"median_sz_nuc\": {\n",
    "                        \"widget_type\": \"slider\",\n",
    "                        \"data_type\": \"int\",\n",
    "                        \"min\": 3,\n",
    "                        \"max\": 15,\n",
    "                        \"increment\": 1\n",
    "                },\n",
    "                \"gauss_sig_nuc\": {\n",
    "                        \"data_type\": \"float\",\n",
    "                        \"increment\": 0.25,\n",
    "                        \"max\": 15.0,\n",
    "                        \"min\": 1.25,\n",
    "                        \"widget_type\": \"slider\"\n",
    "                },\n",
    "                \"mo_method\": {\n",
    "                        \"data_type\": \"str\",\n",
    "                        \"widget_type\": \"drop-down\",\n",
    "                        \"options\": [\n",
    "                                \"triangle\",\n",
    "                                \"median\",\n",
    "                                \"ave_tri_med\"\n",
    "                                ]\n",
    "                },\n",
    "                \"mo_adjust\": {\n",
    "                        \"data_type\": \"float\",\n",
    "                        \"increment\": 0.05,\n",
    "                        \"max\": 1.0,\n",
    "                        \"min\": 0.0,\n",
    "                        \"widget_type\": \"slider\"\n",
    "                },\n",
    "                \"mo_cutoff_size\": {\n",
    "                        \"data_type\": \"int\",\n",
    "                        \"increment\": 10,\n",
    "                        \"max\": 250,\n",
    "                        \"min\": 10,\n",
    "                        \"widget_type\": \"slider\"\n",
    "                },\n",
    "                \"thresh_factor\": {\n",
    "                        \"data_type\": \"float\",\n",
    "                        \"increment\": 0.05,\n",
    "                        \"max\": 1.2,\n",
    "                        \"min\": 0.6,\n",
    "                        \"widget_type\": \"slider\"\n",
    "                },\n",
    "                \"thresh_min\": {\n",
    "                        \"data_type\": \"float\",\n",
    "                        \"increment\": 0.05,\n",
    "                        \"max\": .9,\n",
    "                        \"min\": 0.0,\n",
    "                        \"widget_type\": \"slider\"\n",
    "                },\n",
    "                \"thresh_max\": {\n",
    "                        \"data_type\": \"float\",\n",
    "                        \"increment\": 0.05,\n",
    "                        \"max\": 1.0,\n",
    "                        \"min\": 0.1,\n",
    "                        \"widget_type\": \"slider\"\n",
    "                },\n",
    "                \"max_hole_w_nuc\": {\n",
    "                        \"data_type\": \"int\",\n",
    "                        \"increment\": 1,\n",
    "                        \"max\": 40,\n",
    "                        \"min\": 4,\n",
    "                        \"widget_type\": \"slider\"\n",
    "                },           \n",
    "                \"small_obj_w_nuc\": {\n",
    "                        \"data_type\": \"int\",\n",
    "                        \"increment\": 1,\n",
    "                        \"max\": 50,\n",
    "                        \"min\": 1,\n",
    "                        \"widget_type\": \"slider\"\n",
    "                },                           \n",
    "                \"max_hole_w_soma\": {\n",
    "                        \"data_type\": \"int\",\n",
    "                        \"increment\": 2,\n",
    "                        \"max\": 100,\n",
    "                        \"min\": 20,\n",
    "                        \"widget_type\": \"slider\"\n",
    "                },           \n",
    "                \"small_obj_w_soma\": {\n",
    "                        \"data_type\": \"int\",\n",
    "                        \"increment\": 1,\n",
    "                        \"max\": 50,\n",
    "                        \"min\": 1,\n",
    "                        \"widget_type\": \"slider\"\n",
    "                },        \n",
    "        }\n",
    "}\n",
    "\n",
    "add_function_spec_to_widget_json(\"infer_soma\", _infer_soma, overwrite=True )\n",
    "\n"
   ]
  },
  {
   "cell_type": "code",
   "execution_count": 30,
   "metadata": {},
   "outputs": [
    {
     "name": "stdout",
     "output_type": "stream",
     "text": [
      "function raw_soma_MCZ is already in all_functions.json\n",
      "overwriting  raw_soma_MCZ\n"
     ]
    },
    {
     "data": {
      "text/plain": [
       "1"
      ]
     },
     "execution_count": 30,
     "metadata": {},
     "output_type": "execute_result"
    }
   ],
   "source": [
    "\n",
    "_raw_soma_MCZ =  {\n",
    "        \"name\": \"define weighted aggregate soma signal (MCZ-cellprofiler)\",\n",
    "        \"python::module\": \"infer_subc_2d.organelles\",\n",
    "        \"python::function\": \"raw_soma_MCZ\",\n",
    "        \"parameters\": None\n",
    "        }\n",
    "\n",
    "add_function_spec_to_widget_json(\"raw_soma_MCZ\", _raw_soma_MCZ, overwrite=True)"
   ]
  },
  {
   "cell_type": "code",
   "execution_count": 31,
   "metadata": {},
   "outputs": [
    {
     "name": "stdout",
     "output_type": "stream",
     "text": [
      "function non_linear_soma_transform_MCZ is already in all_functions.json\n"
     ]
    },
    {
     "data": {
      "text/plain": [
       "0"
      ]
     },
     "execution_count": 31,
     "metadata": {},
     "output_type": "execute_result"
    }
   ],
   "source": [
    "\n",
    "_non_linear_soma_transform_MCZ =  {\n",
    "        \"name\": \"non-linear filter of soma signal (MCZ-cellprofiler)\",\n",
    "        \"python::module\": \"infer_subc_2d.organelles\",\n",
    "        \"python::function\": \"non_linear_soma_transform_MCZ\",\n",
    "        \"parameters\": None\n",
    "        }\n",
    "\n",
    "add_function_spec_to_widget_json(\"non_linear_soma_transform_MCZ\", _non_linear_soma_transform_MCZ)"
   ]
  },
  {
   "cell_type": "code",
   "execution_count": 32,
   "metadata": {},
   "outputs": [
    {
     "name": "stdout",
     "output_type": "stream",
     "text": [
      "function masked_inverted_watershed is already in all_functions.json\n"
     ]
    },
    {
     "data": {
      "text/plain": [
       "0"
      ]
     },
     "execution_count": 32,
     "metadata": {},
     "output_type": "execute_result"
    }
   ],
   "source": [
    "\n",
    "_masked_inverted_watershed =  {\n",
    "        \"name\": \"watershed on inverted image and masked\",\n",
    "        \"python::module\": \"infer_subc_2d.organelles\",\n",
    "        \"python::function\": \"masked_inverted_watershed\",\n",
    "        \"parameters\": None\n",
    "        }\n",
    "\n",
    "add_function_spec_to_widget_json(\"masked_inverted_watershed\", _masked_inverted_watershed)"
   ]
  },
  {
   "cell_type": "code",
   "execution_count": 33,
   "metadata": {},
   "outputs": [
    {
     "name": "stdout",
     "output_type": "stream",
     "text": [
      "function choose_max_label is already in all_functions.json\n"
     ]
    },
    {
     "data": {
      "text/plain": [
       "0"
      ]
     },
     "execution_count": 33,
     "metadata": {},
     "output_type": "execute_result"
    }
   ],
   "source": [
    "\n",
    "_choose_max_label =  {\n",
    "        \"name\": \"keep only the label with the maximum raw signa\",\n",
    "        \"python::module\": \"infer_subc_2d.utils.img\",\n",
    "        \"python::function\": \"choose_max_label\",\n",
    "        \"parameters\": None\n",
    "        }\n",
    "\n",
    "add_function_spec_to_widget_json(\"choose_max_label\", _choose_max_label)"
   ]
  },
  {
   "cell_type": "code",
   "execution_count": 34,
   "metadata": {},
   "outputs": [
    {
     "name": "stdout",
     "output_type": "stream",
     "text": [
      "function min_max_intensity_normalization is already in all_functions.json\n"
     ]
    },
    {
     "data": {
      "text/plain": [
       "0"
      ]
     },
     "execution_count": 34,
     "metadata": {},
     "output_type": "execute_result"
    }
   ],
   "source": [
    "\n",
    "_min_max_intensity_normalization =  {\n",
    "        \"name\": \"Min Max Intesity Normalization\",\n",
    "        \"python::module\": \"infer_subc_2d.utils.img\",\n",
    "        \"python::function\": \"min_max_intensity_normalization\",\n",
    "        \"parameters\": None\n",
    "        }\n",
    "\n",
    "add_function_spec_to_widget_json(\"min_max_intensity_normalization\", _min_max_intensity_normalization)"
   ]
  },
  {
   "cell_type": "code",
   "execution_count": 35,
   "metadata": {},
   "outputs": [
    {
     "name": "stdout",
     "output_type": "stream",
     "text": [
      "function masked_object_thresh is already in all_functions.json\n",
      "overwriting  masked_object_thresh\n"
     ]
    },
    {
     "data": {
      "text/plain": [
       "1"
      ]
     },
     "execution_count": 35,
     "metadata": {},
     "output_type": "execute_result"
    }
   ],
   "source": [
    "from infer_subc_2d.organelles_config.helper import add_function_spec_to_widget_json\n",
    "\n",
    "_masked_object_thresh =  {\n",
    "        \"name\": \"Masked Object Threshold wrapper for widgets\",\n",
    "        \"python::module\": \"infer_subc_2d.utils.img\",\n",
    "        \"python::function\": \"masked_object_thresh\",\n",
    "        \"parameters\": {\n",
    "                \"th_method\": {\n",
    "                        \"data_type\": \"str\",\n",
    "                        \"widget_type\": \"drop-down\",\n",
    "                        \"options\": [\n",
    "                        \"triangle\",\n",
    "                        \"median\",\n",
    "                        \"ave_tri_med\"\n",
    "                        ]\n",
    "                },\n",
    "                \"cutoff_size\": {\n",
    "                        \"data_type\": \"int\",\n",
    "                        \"widget_type\": \"slider\",\n",
    "                        \"min\": 0,\n",
    "                        \"max\": 2000,\n",
    "                        \"increment\": 50\n",
    "                },\n",
    "                \"th_adjust\": {\n",
    "                        \"data_type\": \"float\",\n",
    "                        \"widget_type\": \"slider\",\n",
    "                        \"min\": 0,\n",
    "                        \"max\": 2,\n",
    "                        \"increment\": 0.02\n",
    "                }\n",
    "        }\n",
    "}\n",
    "\n",
    "add_function_spec_to_widget_json(\"masked_object_thresh\", _masked_object_thresh, overwrite=True)"
   ]
  },
  {
   "attachments": {},
   "cell_type": "markdown",
   "metadata": {},
   "source": [
    "--------------------------\n",
    "\n",
    "# TEST `infer_soma` exported functions\n"
   ]
  },
  {
   "cell_type": "code",
   "execution_count": 43,
   "metadata": {},
   "outputs": [],
   "source": [
    "from infer_subc_2d.organelles import fixed_infer_soma\n",
    "\n",
    "soma_mask =  fixed_infer_soma(img_2D) "
   ]
  },
  {
   "attachments": {},
   "cell_type": "markdown",
   "metadata": {},
   "source": [
    "## Visualize  2\n"
   ]
  },
  {
   "cell_type": "code",
   "execution_count": 37,
   "metadata": {},
   "outputs": [
    {
     "data": {
      "text/plain": [
       "<Labels layer 'soma_mask' at 0x1819c34f0>"
      ]
     },
     "execution_count": 37,
     "metadata": {},
     "output_type": "execute_result"
    }
   ],
   "source": [
    "# viewer = napari.Viewer()\n",
    "\n",
    "viewer.scale_bar.visible = True\n",
    "\n",
    "viewer.add_labels(\n",
    "    soma_mask,\n",
    "    scale=scale,\n",
    "    blending='additive'\n",
    ")\n"
   ]
  },
  {
   "cell_type": "code",
   "execution_count": 38,
   "metadata": {},
   "outputs": [],
   "source": [
    "\n",
    "from napari.utils.notebook_display import nbscreenshot\n",
    "\n",
    "# viewer.dims.ndisplay = 3\n",
    "# viewer.camera.angles = (-30, 25, 120)\n",
    "nbscreenshot(viewer, canvas_only=True)\n",
    "viewer.close()"
   ]
  },
  {
   "cell_type": "markdown",
   "metadata": {},
   "source": [
    "-------------------------------\n",
    "## Write workflow .json\n",
    "Now that we've added our function specs we can compose workflows."
   ]
  },
  {
   "cell_type": "code",
   "execution_count": 39,
   "metadata": {},
   "outputs": [],
   "source": [
    "def make_infer_soma_step_by_step_dict():\n",
    "    \"\"\"\n",
    "    crete .json version of infer_soma\n",
    "    \"\"\"\n",
    "    step_name = []\n",
    "    function_name = []\n",
    "    category =[]\n",
    "    parameter_values = []\n",
    "    parent = []\n",
    "    notes = []\n",
    "\n",
    "    ###################\n",
    "    # EXTRACT\n",
    "    ###################   \n",
    "    # struct_img = _raw_soma_MCZ(in_img)\n",
    "    step_name.append(\"1\")\n",
    "    function_name.append(\"raw_soma_MCZ\")\n",
    "    category.append(\"extraction\")\n",
    "    parameter_values.append(None)\n",
    "    parent.append(0)\n",
    "    notes.append(f\" this creates an aggregate signal for the soma\" )\n",
    "\n",
    "    step_name.append(\"2\")\n",
    "    function_name.append(\"select_channel_from_raw\")\n",
    "    category.append(\"extraction\")\n",
    "    parameter_values.append( dict(chan = NUC_CH) )\n",
    "    parent.append(0)\n",
    "\n",
    "    ###################\n",
    "    # PRE_PROCESSING\n",
    "    ###################\n",
    "    #SOMA\n",
    "    step_name.append(\"3\")\n",
    "    function_name.append(\"min_max_intensity_normalization\")\n",
    "    category.append(\"preprocessing\")\n",
    "    parameter_values.append(None)\n",
    "    parent.append(1)\n",
    "\n",
    "\n",
    "    step_name.append(\"4\")\n",
    "    function_name.append(\"median_filter_slice_by_slice\")\n",
    "    category.append(\"preprocessing\")\n",
    "    parameter_values.append(dict(size = 15 ))\n",
    "    parent.append(3)\n",
    "\n",
    "\n",
    "    step_name.append(\"5\")\n",
    "    function_name.append(\"image_smoothing_gaussian_slice_by_slice\")\n",
    "    category.append(\"preprocessing\")\n",
    "    parameter_values.append(dict( sigma = 1.4 ))\n",
    "    parent.append(4)\n",
    "\n",
    "    step_name.append(\"6\")\n",
    "    function_name.append(\"non_linear_soma_transform_MCZ\")\n",
    "    category.append(\"preprocessing\")\n",
    "    parameter_values.append(None)\n",
    "    parent.append(5)\n",
    "\n",
    "    #NUC\n",
    "    step_name.append(\"7\")\n",
    "    function_name.append(\"min_max_intensity_normalization\")\n",
    "    category.append(\"preprocessing\")\n",
    "    parameter_values.append(None)\n",
    "    parent.append(2)\n",
    "\n",
    "    step_name.append(\"8\")\n",
    "    function_name.append(\"median_filter_slice_by_slice\")\n",
    "    category.append(\"preprocessing\")\n",
    "    parameter_values.append(dict(size = 4 ))\n",
    "    parent.append(7)\n",
    "\n",
    "    step_name.append(\"9\")\n",
    "    function_name.append(\"image_smoothing_gaussian_slice_by_slice\")\n",
    "    category.append(\"preprocessing\")\n",
    "    parameter_values.append(dict( sigma = 1.4 ))\n",
    "    parent.append(8)\n",
    "\n",
    "    ###################\n",
    "    # CORE_PROCESSING\n",
    "    ###################\n",
    "    # SOMA\n",
    "    step_name.append(\"10\")\n",
    "    function_name.append(\"masked_object_thresh\")\n",
    "    category.append(\"core\")\n",
    "    parameter_values.append(dict( th_method=\"ave_tri_med\",\n",
    "                                                            cutoff_size = 100,\n",
    "                                                            th_adjust = 0.5))\n",
    "    parent.append(6)\n",
    "\n",
    "\n",
    "    # NUCLEI\n",
    "    step_name.append(\"11\")\n",
    "    function_name.append(\"apply_log_li_threshold\")\n",
    "    category.append(\"core\")\n",
    "    parameter_values.append(dict(thresh_factor = 0.9, \n",
    "                                                            thresh_min = .1,\n",
    "                                                            thresh_max = 1.))\n",
    "    parent.append(9)\n",
    "\n",
    "\n",
    "    ###################\n",
    "    # POST_PROCESSING\n",
    "    ###################\n",
    "    # NUCLEI\n",
    "    step_name.append(\"12\")\n",
    "    function_name.append(\"hole_filling\")\n",
    "    category.append(\"postprocessing\")\n",
    "    parameter_values.append(dict( hole_min=0, hole_max=5**2, fill_2d=True))\n",
    "    parent.append(11)\n",
    "\n",
    "    step_name.append(\"13\")\n",
    "    function_name.append(\"size_filter_2D\")\n",
    "    category.append(\"postprocessing\")\n",
    "    parameter_values.append(dict( min_size = 15**2  ))\n",
    "    parent.append(12)\n",
    "\n",
    "    step_name.append(\"14\")\n",
    "    function_name.append(\"label\")\n",
    "    category.append(\"postprocessing\")\n",
    "    parameter_values.append(None)\n",
    "    parent.append(13)\n",
    "\n",
    "    # SOMA\n",
    "    step_name.append(\"15\")\n",
    "    function_name.append(\"hole_filling\")\n",
    "    category.append(\"postprocessing\")\n",
    "    parameter_values.append(dict( hole_min=0, hole_max=25**2, fill_2d=True))\n",
    "    parent.append(10)\n",
    "\n",
    "    step_name.append(\"16\")\n",
    "    function_name.append(\"size_filter_2D\")\n",
    "    category.append(\"postprocessing\")\n",
    "    parameter_values.append(dict( min_size = 15**2  ))\n",
    "    parent.append(15)\n",
    "\n",
    "    step_name.append(\"17\")\n",
    "    function_name.append(\"masked_inverted_watershed\")\n",
    "    category.append(\"postprocessing\")\n",
    "    parameter_values.append(None)\n",
    "    parent.append([ 5 , 14, 16])\n",
    "\n",
    "    ###################\n",
    "    # POST- POST_PROCESSING\n",
    "    ###################\n",
    "    # keep the \"SOMA\" label which contains the highest total signal\n",
    "    step_name.append(\"18\")\n",
    "    function_name.append(\"choose_max_label\")\n",
    "    category.append(\"postpostprocessing\")\n",
    "    parameter_values.append(None)\n",
    "    parent.append([5, 17])\n",
    "\n",
    "    ##########################\n",
    "    out_dict = dict()\n",
    "    for i,stepn in enumerate(step_name):\n",
    "        entry = dict(category=category[i],\n",
    "                            function=function_name[i],\n",
    "                            parameter_values=parameter_values[i],\n",
    "                            parent=parent[i]\n",
    "        )\n",
    "        if entry['parameter_values'] is None:\n",
    "            _ = entry.pop('parameter_values')\n",
    "        out_dict[stepn] = entry\n",
    "        \n",
    "    return out_dict"
   ]
  },
  {
   "cell_type": "code",
   "execution_count": 40,
   "metadata": {},
   "outputs": [
    {
     "data": {
      "text/plain": [
       "PosixPath('/Users/ahenrie/Projects/Imaging/infer-subc-2D/infer_subc_2d/organelles_config/conf_2.1.soma_stepbystep.json')"
      ]
     },
     "execution_count": 40,
     "metadata": {},
     "output_type": "execute_result"
    }
   ],
   "source": [
    "from infer_subc_2d.organelles_config.helper import write_workflow_json\n",
    "\n",
    "infer_soma_stepbystep_dict = make_infer_soma_step_by_step_dict()\n",
    "\n",
    "write_workflow_json(\"conf_2.1.soma_stepbystep\", infer_soma_stepbystep_dict )"
   ]
  },
  {
   "cell_type": "code",
   "execution_count": 41,
   "metadata": {},
   "outputs": [],
   "source": [
    "def make_infer_soma_step_by_step_from_raw_dict():\n",
    "    \"\"\"\n",
    "    Procedure to infer nuclei from linearly unmixed input.\n",
    "\n",
    "    Parameters\n",
    "    ------------\n",
    "    in_img: np.ndarray\n",
    "        a 3d image containing all the channels\n",
    "\n",
    "    soma_mask: np.ndarray\n",
    "        mask\n",
    "\n",
    "    Returns\n",
    "    -------------\n",
    "    nuclei_object\n",
    "        mask defined extent of NU\n",
    "\n",
    "    \"\"\"\n",
    "    step_name = []\n",
    "    function_name = []\n",
    "    category =[]\n",
    "    parameter_values = []\n",
    "    parent = []\n",
    "\n",
    "    ###################\n",
    "    # EXTRACT\n",
    "    ###################   \n",
    "    step_name.append(\"1\")\n",
    "    function_name.append(\"fixed_get_optimal_Z_img\")\n",
    "    category.append(\"extraction\")\n",
    "    parameter_values.append(None)\n",
    "    parent.append(0)\n",
    "\n",
    "    # SOMA\n",
    "    step_name.append(\"2\")\n",
    "    function_name.append(\"raw_soma_MCZ\")\n",
    "    category.append(\"extraction\")\n",
    "    parameter_values.append(None)\n",
    "    parent.append(1)\n",
    "\n",
    "    # NUC\n",
    "    step_name.append(\"3\")\n",
    "    function_name.append(\"select_channel_from_raw\")\n",
    "    category.append(\"extraction\")\n",
    "    parameter_values.append( dict(chan = NUC_CH) )\n",
    "    parent.append(1)\n",
    "\n",
    "    ###################\n",
    "    # PRE_PROCESSING\n",
    "    ###################\n",
    "    # SOMA\n",
    "    step_name.append(\"4\")\n",
    "    function_name.append(\"min_max_intensity_normalization\")\n",
    "    category.append(\"preprocessing\")\n",
    "    parameter_values.append(None)\n",
    "    parent.append(2)\n",
    "\n",
    "    step_name.append(\"5\")\n",
    "    function_name.append(\"median_filter_slice_by_slice\")\n",
    "    category.append(\"preprocessing\")\n",
    "    parameter_values.append(dict(size = 15 ))\n",
    "    parent.append(4)\n",
    "\n",
    "    step_name.append(\"6\")\n",
    "    function_name.append(\"image_smoothing_gaussian_slice_by_slice\")\n",
    "    category.append(\"preprocessing\")\n",
    "    parameter_values.append(dict( sigma = 1.4 ))\n",
    "    parent.append(5)\n",
    "\n",
    "    step_name.append(\"7\")\n",
    "    function_name.append(\"non_linear_soma_transform_MCZ\")\n",
    "    category.append(\"preprocessing\")\n",
    "    parameter_values.append(None)\n",
    "    parent.append(6)\n",
    "\n",
    "    #NUC\n",
    "    step_name.append(\"8\")\n",
    "    function_name.append(\"min_max_intensity_normalization\")\n",
    "    category.append(\"preprocessing\")\n",
    "    parameter_values.append(None)\n",
    "    parent.append(3)\n",
    "\n",
    "    step_name.append(\"9\")\n",
    "    function_name.append(\"median_filter_slice_by_slice\")\n",
    "    category.append(\"preprocessing\")\n",
    "    parameter_values.append(dict(size = 4 ))\n",
    "    parent.append(8)\n",
    "\n",
    "    step_name.append(\"10\")\n",
    "    function_name.append(\"image_smoothing_gaussian_slice_by_slice\")\n",
    "    category.append(\"preprocessing\")\n",
    "    parameter_values.append(dict( sigma = 1.4 ))\n",
    "    parent.append(9)\n",
    "\n",
    "    ###################\n",
    "    # CORE_PROCESSING\n",
    "    ###################\n",
    "    # SOMA\n",
    "    step_name.append(\"11\")\n",
    "    function_name.append(\"masked_object_thresh\")\n",
    "    category.append(\"core\")\n",
    "    parameter_values.append(dict( th_method=\"ave_tri_med\",\n",
    "                                                            cutoff_size = 100,\n",
    "                                                            th_adjust = 0.5))\n",
    "    parent.append(7)\n",
    "\n",
    "    # NUC\n",
    "    step_name.append(\"12\")\n",
    "    function_name.append(\"apply_log_li_threshold\")\n",
    "    category.append(\"core\")\n",
    "    parameter_values.append(dict(thresh_factor = 0.9, \n",
    "                                                            thresh_min = .1,\n",
    "                                                            thresh_max = 1.))\n",
    "    parent.append(10)\n",
    "\n",
    "    ###################\n",
    "    # POST_PROCESSING\n",
    "    ###################\n",
    "    # nUC\n",
    "    step_name.append(\"13\")\n",
    "    function_name.append(\"hole_filling\")\n",
    "    category.append(\"postprocessing\")\n",
    "    parameter_values.append(dict( hole_min=0, hole_max=5**2, fill_2d=True))\n",
    "    parent.append(12)\n",
    "\n",
    "    step_name.append(\"14\")\n",
    "    function_name.append(\"size_filter_2D\")\n",
    "    category.append(\"postprocessing\")\n",
    "    parameter_values.append(dict( min_size = 15**2  ))\n",
    "    parent.append(13)\n",
    "\n",
    "    step_name.append(\"15\")\n",
    "    function_name.append(\"label\")\n",
    "    category.append(\"postprocessing\")\n",
    "    parameter_values.append(None)\n",
    "    parent.append(14)\n",
    "\n",
    "\n",
    "    # SOMA\n",
    "    step_name.append(\"16\")\n",
    "    function_name.append(\"hole_filling\")\n",
    "    category.append(\"postprocessing\")\n",
    "    parameter_values.append(dict( hole_min=0, hole_max=25**2, fill_2d=True))\n",
    "    parent.append(11)\n",
    "\n",
    "    step_name.append(\"17\")\n",
    "    function_name.append(\"size_filter_2D\")\n",
    "    category.append(\"postprocessing\")\n",
    "    parameter_values.append(dict( min_size = 15**2  ))\n",
    "    parent.append(16)\n",
    "\n",
    "    step_name.append(\"18\")\n",
    "    function_name.append(\"masked_inverted_watershed\")\n",
    "    category.append(\"postprocessing\")\n",
    "    parameter_values.append(None)\n",
    "    parent.append([  7 , 15,17 ])\n",
    "\n",
    "    ###################\n",
    "    # POST- POST_PROCESSING\n",
    "    ###################\n",
    "    # keep the \"SOMA\" label which contains the highest total signal\n",
    "    step_name.append(\"19\")\n",
    "    function_name.append(\"choose_max_label\")\n",
    "    category.append(\"postpostprocessing\")\n",
    "    parameter_values.append(None)\n",
    "    parent.append([6,18])\n",
    "\n",
    "    ##########################\n",
    "    out_dict = dict()\n",
    "    for i,stepn in enumerate(step_name):\n",
    "        entry = dict(category=category[i],\n",
    "                            function=function_name[i],\n",
    "                            parameter_values=parameter_values[i],\n",
    "                            parent=parent[i]\n",
    "        )\n",
    "        if entry['parameter_values'] is None:\n",
    "            _ = entry.pop('parameter_values')\n",
    "        out_dict[stepn] = entry\n",
    "        \n",
    "    return out_dict"
   ]
  },
  {
   "cell_type": "code",
   "execution_count": 42,
   "metadata": {},
   "outputs": [
    {
     "data": {
      "text/plain": [
       "PosixPath('/Users/ahenrie/Projects/Imaging/infer-subc-2D/infer_subc_2d/organelles_config/conf_1.1.soma_stepbystep_from_raw.json')"
      ]
     },
     "execution_count": 42,
     "metadata": {},
     "output_type": "execute_result"
    }
   ],
   "source": [
    "\n",
    "infer_soma_stepbystep_from_raw_dict = make_infer_soma_step_by_step_from_raw_dict()\n",
    "\n",
    "write_workflow_json(\"conf_1.1.soma_stepbystep_from_raw\", infer_soma_stepbystep_from_raw_dict)"
   ]
  },
  {
   "attachments": {},
   "cell_type": "markdown",
   "metadata": {},
   "source": [
    "-------------\n",
    "## SUMMARY\n",
    "\n",
    "The above explains the overall framework.  \n",
    "\n",
    "### NEXT: INFER NUCLEI\n",
    "\n",
    "proceed to [02_infer_nuclei.ipynb](./02_infer_nuclei.ipynb)\n"
   ]
  }
 ],
 "metadata": {
  "kernelspec": {
   "display_name": "Python 3.9.13 ('napariNEW')",
   "language": "python",
   "name": "python3"
  },
  "language_info": {
   "codemirror_mode": {
    "name": "ipython",
    "version": 3
   },
   "file_extension": ".py",
   "mimetype": "text/x-python",
   "name": "python",
   "nbconvert_exporter": "python",
   "pygments_lexer": "ipython3",
   "version": "3.9.16"
  },
  "orig_nbformat": 4,
  "vscode": {
   "interpreter": {
    "hash": "d6148ef1fb015fb20f0b6da2ea61c87c6b848bdf3dabb03087e5d5cd0c4607e9"
   }
  }
 },
 "nbformat": 4,
 "nbformat_minor": 2
}
