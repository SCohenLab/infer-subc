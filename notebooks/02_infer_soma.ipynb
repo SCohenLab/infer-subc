{
 "cells": [
  {
   "attachments": {},
   "cell_type": "markdown",
   "metadata": {},
   "source": [
    "# Infer ***soma*** -  2️⃣ \n",
    "\n",
    "> WARNING: (🚨🚨🚨🚨 Steps 3-9 depend on establishing a good solution here.)\n",
    ">> #### Because we do NOT have a direct cell membrane / soma signal, this segmentation is trickiest and potentially most problematic part of the overall sub-cellular component inference pipeline. We are using the nuclei of the cell with the brightest total fluorescence (all channels) to identify a single soma for all downstream steps. The Soma (via the Cytosol mask) will be used to define ALL subsequent sub-cellular Objects.\n",
    "\n",
    "--------------\n",
    "\n",
    "## OBJECTIVE: \n",
    "### ✅ Infer sub-cellular component #2: ***soma***/cell body in order to understand interactome \n",
    "\n",
    "Infer a segmentation of the cell body -- the ***soma*** -- in order to measure its shape, position, and size.\n",
    "\n",
    "CONTEXT: \"Soma\" is used here becuase subsequent experiments will contain neurons who's soma has a similar shape to an iPS cell body.\n",
    "\n",
    "This method is used in the case where there is no cell fill/membrane marker.\n",
    "\n",
    "We will infer the soma from a combination of fluorescent signals. The current selection includes the lysosomes, ER, and Golgi (e.g., 'Ch = 1, 3, 5) which have some intracellular fluorescence - likely from off target marker localization to the entire soma and/or the cell membrane. There are two other channels, the residual channel from linear unmixing (e.g. `ch = 7`) and the lipid droplet channel (e.g., `ch = 6`) that could more lead to more unbiased selection of the entire soma. However, the drawback of these two markers is that they are present in every cell which makes downstream cell selection more challenging. To expand on this, we will be collecting per cell measurements, so each cell area has to be segmented individually even if there are two appropriately labeled cells within one field of view. \n",
    "\n",
    "In the long term we can build of a database of \"ground truth\" by sourcing additional markers which can be iteratively improved.  For example using the Allen Cell \"Label Free\" segmentation results should provide a good corroboration or constraints to the procedures outlined below.  \n",
    "\n",
    "A first possible _workflow_ is illustrated below.\n",
    "\n",
    "### IMAGE PROCESSING  OBJECTIVE :  infer ***soma***\n",
    " \n",
    "> #### Note:  we are using the Nuclei of the brightest cell to aid in inferring the Soma and Cytosol objects.   Because we do NOT have a direct cell membrane / soma signal this is the trickiest and potentially problematic part of the overall sub-cellular component inference.   The Soma (via the Cytosol mask) will be used to define ALL subsequent sub-cellular Objects."
   ]
  },
  {
   "attachments": {},
   "cell_type": "markdown",
   "metadata": {},
   "source": [
    "## preamble\n",
    "\n",
    "1. imports\n",
    "2. setup\n",
    "3. ~~choose_Z~~\n",
    "4. infer-soma\n",
    "    * input\n",
    "    * pre-processing\n",
    "    * core processing\n",
    "    * post-processing\n",
    "    * select individual cell\n",
    "    * output\n",
    "\n"
   ]
  },
  {
   "attachments": {},
   "cell_type": "markdown",
   "metadata": {},
   "source": [
    "\n",
    "\n",
    "## IMPORTS"
   ]
  },
  {
   "cell_type": "code",
   "execution_count": 1,
   "metadata": {},
   "outputs": [],
   "source": [
    "# top level imports\n",
    "from pathlib import Path\n",
    "import os, sys\n",
    "from collections import defaultdict\n",
    "from typing import Union, Tuple, List\n",
    "\n",
    "import numpy as np\n",
    "\n",
    "from scipy import ndimage as ndi\n",
    "from aicssegmentation.core.pre_processing_utils import ( intensity_normalization, \n",
    "                                                         image_smoothing_gaussian_slice_by_slice )\n",
    "from aicssegmentation.core.MO_threshold import MO\n",
    "from aicssegmentation.core.utils import hole_filling\n",
    "\n",
    "from skimage import filters\n",
    "from skimage.segmentation import watershed, clear_border\n",
    "from skimage.morphology import remove_small_holes   # function for post-processing (size filter)\n",
    "\n",
    "from skimage.measure import label\n",
    "\n",
    "# # package for io \n",
    "from aicsimageio import AICSImage\n",
    "\n",
    "import napari\n",
    "\n",
    "### import local python functions in ../infer_subc_2d\n",
    "sys.path.append(os.path.abspath((os.path.join(os.getcwd(), '..'))))\n",
    "\n",
    "\n",
    "from infer_subc_2d.utils.file_io import (read_czi_image,\n",
    "                                                                     read_ome_image,\n",
    "                                                                     export_inferred_organelle,\n",
    "                                                                    list_image_files)\n",
    "\n",
    "                                             \n",
    "from infer_subc_2d.utils.img import *\n",
    "\n",
    "from infer_subc_2d.organelles import  fixed_infer_nuclei\n",
    "\n",
    "%load_ext autoreload\n",
    "%autoreload 2\n"
   ]
  },
  {
   "attachments": {},
   "cell_type": "markdown",
   "metadata": {},
   "source": [
    "\n",
    "## SETUP\n",
    "\n",
    "CUSTOMIZE WITH: \n",
    "1. updated path to data\n",
    "2. updated folder name for \"raw\" data\n",
    "\n",
    "> NOTE: we are operating on a single \"test\" image in this notebook.  The batch-processing of all the images will be happen at the end of the notebook after we have developed/confirmed the setmentation procedures and parameter settings.\n"
   ]
  },
  {
   "cell_type": "code",
   "execution_count": 2,
   "metadata": {},
   "outputs": [],
   "source": [
    "# NOTE:  these \"constants\" are only accurate for the testing MCZ dataset\n",
    "from infer_subc_2d.constants import (TEST_IMG_N,\n",
    "                                                                    NUC_CH ,\n",
    "                                                                    LYSO_CH ,\n",
    "                                                                    MITO_CH ,\n",
    "                                                                    GOLGI_CH ,\n",
    "                                                                    PEROXI_CH ,\n",
    "                                                                    ER_CH ,\n",
    "                                                                    LIPID_CH ,\n",
    "                                                                    RESIDUAL_CH )                       "
   ]
  },
  {
   "cell_type": "code",
   "execution_count": 3,
   "metadata": {},
   "outputs": [],
   "source": [
    "# this will be the example image for testing the pipeline below\n",
    "test_img_n = TEST_IMG_N\n",
    "\n",
    "# build the datapath\n",
    "# all the imaging data goes here.\n",
    "data_root_path = Path(os.path.expanduser(\"~\")) / \"Projects/Imaging/data\"\n",
    "\n",
    "# linearly unmixed \".czi\" files are here\n",
    "in_data_path = data_root_path / \"raw\"\n",
    "im_type = \".czi\"\n",
    "\n",
    "# get the list of all files\n",
    "img_file_list = list_image_files(in_data_path,im_type)\n",
    "test_img_name = img_file_list[test_img_n]\n",
    "\n",
    "# save output \".tiff\" files here\n",
    "out_data_path = data_root_path / \"out\"\n",
    "im_type = \".czi\"\n",
    "\n"
   ]
  },
  {
   "cell_type": "markdown",
   "metadata": {},
   "source": []
  },
  {
   "cell_type": "code",
   "execution_count": 4,
   "metadata": {},
   "outputs": [
    {
     "name": "stderr",
     "output_type": "stream",
     "text": [
      "/opt/anaconda3/envs/napariNEW/lib/python3.9/site-packages/ome_types/_convenience.py:106: FutureWarning: The default XML parser will be changing from 'xmlschema' to 'lxml' in version 0.4.0.  To silence this warning, please provide the `parser` argument, specifying either 'lxml' (to opt into the new behavior), or'xmlschema' (to retain the old behavior).\n",
      "  d = to_dict(os.fspath(xml), parser=parser, validate=validate)\n"
     ]
    }
   ],
   "source": [
    "img_data,meta_dict = read_czi_image(test_img_name)\n",
    "\n",
    "# get some top-level info about the RAW data\n",
    "channel_names = meta_dict['name']\n",
    "img = meta_dict['metadata']['aicsimage']\n",
    "scale = meta_dict['scale']\n",
    "channel_axis = meta_dict['channel_axis']"
   ]
  },
  {
   "attachments": {},
   "cell_type": "markdown",
   "metadata": {},
   "source": [
    "##  infer ***soma***\n",
    "\n",
    ">WORKFLOW #1  - modified MCZ 3/20\n",
    "\n",
    "Segmentation on a 3 channel composite as per 3/20 pipeline from MCZ\n",
    "Summary - Starting with a linear combination of three signals,  the signal is smoothed and non-linearly combined (logrithmic and edge detected) for thresholding. \n",
    "## summary of steps\n",
    "\n",
    "➡️ INPUT\n",
    "- multi-channel sum (6.*1, 3, 2.*5)\n",
    "- nuclei mask\n",
    "\n",
    "PRE-PROCESSING\n",
    "- rescaling\n",
    "- denoise/smoothing\n",
    "- log transform inensities\n",
    "- scale to max 1.0\n",
    "- create non-linear aggregate of log-intensity + scharr edge filtered intensity\n",
    "\n",
    "CORE PROCESSING\n",
    "- mask object segmentation at bottom\n",
    "\n",
    "POST-PROCESSING\n",
    "  - fill holes\n",
    "  - remove small objects\n",
    "\n",
    "OUTPUT ➡️ \n",
    "- mask of SOMA\n",
    "\n",
    "\n",
    "> #### Note: this pipeline will eventually include a selection step to identify the soma that are properly labeled with all fluorescent markers. This could be one single cell per image, or more if applicable data is available.\n"
   ]
  },
  {
   "attachments": {},
   "cell_type": "markdown",
   "metadata": {},
   "source": [
    "## INPUT prototype\n",
    "\n",
    "Combine multiple channels that will allow inference of the soma.\n",
    "\n",
    "Note: the selected channels were chosen based on their qualitative ability to fill the cytoplasmic area of the cell. \n",
    "\n"
   ]
  },
  {
   "attachments": {},
   "cell_type": "markdown",
   "metadata": {},
   "source": [
    "## GET inferred nuclei"
   ]
  },
  {
   "cell_type": "code",
   "execution_count": 5,
   "metadata": {},
   "outputs": [
    {
     "name": "stdout",
     "output_type": "stream",
     "text": [
      "loaded nuclei\n"
     ]
    }
   ],
   "source": [
    "\n",
    "# nuclei_fname = \"/Users/ahenrie/Projects/Imaging/data/out/nuclei_ZSTACK_PBTOhNGN2hiPSCs_BR3_N04_Unmixed.ome.tiff\"\n",
    "nuclei_fname = \"nuclei_\" + test_img_name.split(\"/\")[-1].split(\".\")[0] + \".ome.tiff\"\n",
    "nuclei_path = out_data_path / nuclei_fname  \n",
    "\n",
    "if Path.exists( nuclei_path ):\n",
    "    nuclei, nuc_meta_dict = read_ome_image( nuclei_path  )\n",
    "    print(\"loaded nuclei\")\n",
    "else:\n",
    "    nuclei =  fixed_infer_nuclei(img_data) \n",
    "    print(\"calculated nuclei\")\n",
    "\n",
    "\n",
    "# TODO:  load from saved tiff if available... \n",
    "\n",
    "# chan_name = 'nuclei'\n",
    "# out_path = data_root_path / \"inferred_objects\" \n",
    "# object_name = 'NU_object'\n",
    "\n",
    "# NU_bioim = read_input_image( out_path/ f\"{object_name}.ome.tiff\"  )\n",
    "# NU_object = NU_bioim.image\n",
    "# NU_labels = label(NU_object)"
   ]
  },
  {
   "cell_type": "code",
   "execution_count": 6,
   "metadata": {},
   "outputs": [],
   "source": [
    "# get_interior_labels.   Removes any segmentations on the edges, but we probably don't want to use it\n",
    "\n",
    "nuclei_labls = get_interior_labels(nuclei)\n",
    "\n",
    "\n"
   ]
  },
  {
   "cell_type": "code",
   "execution_count": 7,
   "metadata": {},
   "outputs": [],
   "source": [
    "\n",
    "###################\n",
    "# INPUT\n",
    "###################\n",
    "struct_img_raw = (6. * img_data[LYSO_CH].copy().astype(np.double) +\n",
    "                  1. * img_data[ER_CH].copy().astype(np.double) + \n",
    "                  2. * img_data[GOLGI_CH].copy().astype(np.double))\n"
   ]
  },
  {
   "cell_type": "code",
   "execution_count": 8,
   "metadata": {},
   "outputs": [
    {
     "data": {
      "text/plain": [
       "(array([34548., 31003., 27969., 57573., 66992., 67514., 63489., 75837.,\n",
       "        95956., 84172.]),\n",
       " array([34548., 31003., 27969., 57573., 66992., 67514., 63489., 75837.,\n",
       "        95956., 84172.]),\n",
       " array([34548., 31003., 27969., 57573., 66992., 67514., 63489., 75837.,\n",
       "        95956., 84172.]))"
      ]
     },
     "execution_count": 8,
     "metadata": {},
     "output_type": "execute_result"
    }
   ],
   "source": [
    "# confirm our functions work as expected:\n",
    "\n",
    "weights =  (0,6,0,2, 0,1) # _,lyso,_, golgi,_,1,0,0,_,_\n",
    "struct_img_raw2 = weighted_aggregate(img_data, *weights)\n",
    "# use splat so we can also break out the arguments for our napari widget later\n",
    "struct_img_raw3 = weighted_aggregate(img_data, 0,6,0,2, 0,1)\n",
    "\n",
    "struct_img_raw[0,0:10,0], struct_img_raw2[0,0:10,0], struct_img_raw3[0,0:10,0]\n"
   ]
  },
  {
   "attachments": {},
   "cell_type": "markdown",
   "metadata": {},
   "source": [
    "## PRE-PROCESSING prototype\n"
   ]
  },
  {
   "cell_type": "code",
   "execution_count": 13,
   "metadata": {},
   "outputs": [],
   "source": [
    "from infer_subc_2d.organelles.soma import raw_soma_MCZ, non_linear_soma_transform_MCZ, choose_max_label_soma_union_nucleus\n",
    "\n",
    "struct_img_raw = raw_soma_MCZ(img_data)\n",
    "###################\n",
    "# PRE_PROCESSING\n",
    "###################\n",
    "#\n",
    "# DEFAULT PARAMETERS:\n",
    "\n",
    "med_filter_size = 15  \n",
    "gaussian_smoothing_sigma = 1.34\n",
    "\n",
    "\n",
    "structure_img_smooth =  scale_and_smooth(struct_img_raw,\n",
    "                                                    median_sz = med_filter_size, \n",
    "                                                    gauss_sig = gaussian_smoothing_sigma)\n",
    "\n",
    "\n",
    "# # NON-Linear aggregation\n",
    "# log_image, d = log_transform( structure_img_smooth ) \n",
    "# log_image = intensity_normalization(  log_image,  scaling_param=[0] )\n",
    "# edges = filters.scharr(log_image)\n",
    "# composite_soma = intensity_normalization(  edges,  scaling_param=[0] ) + log_image \n",
    "\n",
    "composite_soma = non_linear_soma_transform_MCZ(structure_img_smooth)\n"
   ]
  },
  {
   "attachments": {},
   "cell_type": "markdown",
   "metadata": {},
   "source": [
    "## CORE PROCESSING"
   ]
  },
  {
   "cell_type": "code",
   "execution_count": 10,
   "metadata": {},
   "outputs": [],
   "source": [
    "###################\n",
    "# CORE_PROCESSING\n",
    "###################\n",
    "low_level_min_size =  150\n",
    "\n",
    "################# part 1\n",
    "bw = masked_object_thresh(composite_soma, \n",
    "                                                th_method='ave', \n",
    "                                                cutoff_size=low_level_min_size, \n",
    "                                                th_adjust= 0.5)\n",
    "\n"
   ]
  },
  {
   "attachments": {},
   "cell_type": "markdown",
   "metadata": {},
   "source": [
    "## POST-PROCESSING"
   ]
  },
  {
   "cell_type": "code",
   "execution_count": 11,
   "metadata": {},
   "outputs": [],
   "source": [
    "###################\n",
    "# POST_PROCESSING\n",
    "###################\n",
    "hole_width = 50\n",
    "#removed_holes = remove_small_holes(bw, hole_width ** 2 )\n",
    "removed_holes = hole_filling_linear_size(bw, \n",
    "                                                    hole_min=0, \n",
    "                                                    hole_max=hole_width)\n",
    "\n",
    "\n",
    "small_object_width = 45\n",
    "\n",
    "cleaned_img = size_filter_linear_size(removed_holes, \n",
    "                                                                min_size = small_object_width)\n",
    "\n"
   ]
  },
  {
   "attachments": {},
   "cell_type": "markdown",
   "metadata": {},
   "source": [
    "## POST POST-PROCESSING"
   ]
  },
  {
   "cell_type": "code",
   "execution_count": 15,
   "metadata": {},
   "outputs": [],
   "source": [
    "###################\n",
    "# POST- POST_PROCESSING\n",
    "###################\n",
    "\n",
    "# # below can be performed by: masked_inverted_watershed(img_in,markers, mask)\n",
    "# inverted_img = 1. - composite_soma\n",
    "# labels_out = watershed(\n",
    "#             inverted_img,\n",
    "#             markers=label(nuclei),\n",
    "#             connectivity=np.ones((1, 3,3), bool),\n",
    "#             mask=watershed_mask,\n",
    "#             )\n",
    "nuc_labels = label(nuclei)\n",
    "soma_labels = masked_inverted_watershed(structure_img_smooth,nuc_labels, cleaned_img)\n",
    "\n",
    "keep_label = get_max_label(composite_soma, soma_labels)\n",
    "\n",
    "soma_out = np.zeros_like(soma_labels)\n",
    "soma_out[soma_labels == keep_label] = 1\n",
    "soma_out[nuc_labels == keep_label] = 1\n",
    "\n",
    "soma_out2 = choose_max_label_soma_union_nucleus(structure_img_smooth, cleaned_img, nuclei) \n"
   ]
  },
  {
   "attachments": {},
   "cell_type": "markdown",
   "metadata": {},
   "source": [
    "## Visualize with `napari` 1\n",
    "Visualize the first-pass segmentation and labeling with `napari`."
   ]
  },
  {
   "cell_type": "code",
   "execution_count": 16,
   "metadata": {},
   "outputs": [],
   "source": [
    "\n",
    "viewer = napari.view_image(\n",
    "        cleaned_img,\n",
    "    )\n"
   ]
  },
  {
   "cell_type": "code",
   "execution_count": 18,
   "metadata": {},
   "outputs": [
    {
     "data": {
      "text/plain": [
       "<Labels layer 'soma_out' at 0x16eeb3ee0>"
      ]
     },
     "execution_count": 18,
     "metadata": {},
     "output_type": "execute_result"
    }
   ],
   "source": [
    "\n",
    "viewer.scale_bar.visible = True\n",
    "\n",
    "viewer.add_labels(\n",
    "    soma_out,\n",
    ")\n",
    "\n"
   ]
  },
  {
   "cell_type": "markdown",
   "metadata": {},
   "source": [
    "## SAVE inferred nuclei to .tif file\n",
    "\n",
    "Based on the _prototyping_ above define the function to infer nuclei.  \n"
   ]
  },
  {
   "cell_type": "code",
   "execution_count": 19,
   "metadata": {},
   "outputs": [
    {
     "name": "stderr",
     "output_type": "stream",
     "text": [
      "/opt/anaconda3/envs/napariNEW/lib/python3.9/site-packages/ome_types/_convenience.py:106: FutureWarning: The default XML parser will be changing from 'xmlschema' to 'lxml' in version 0.4.0.  To silence this warning, please provide the `parser` argument, specifying either 'lxml' (to opt into the new behavior), or'xmlschema' (to retain the old behavior).\n",
      "  d = to_dict(os.fspath(xml), parser=parser, validate=validate)\n"
     ]
    },
    {
     "name": "stdout",
     "output_type": "stream",
     "text": [
      "saved file: /Users/ahenrie/Projects/Imaging/data/out/soma_ZSTACK_PBTOhNGN2hiPSCs_BR3_N04_Unmixed.ome.tiff\n"
     ]
    }
   ],
   "source": [
    "\n",
    "out_file_n = export_inferred_organelle(soma_out, \"soma\", meta_dict, out_data_path)\n"
   ]
  },
  {
   "cell_type": "markdown",
   "metadata": {},
   "source": [
    "## DEFINE parameterized  `_infer_soma` function\n",
    "\n",
    "A function to infer_soma from our (Channel, 1 Z slice, X, Y) image accourding the the following parameters: \n",
    "-  "
   ]
  },
  {
   "cell_type": "code",
   "execution_count": 20,
   "metadata": {},
   "outputs": [],
   "source": [
    "from infer_subc_2d.organelles.soma import raw_soma_MCZ, non_linear_soma_transform_MCZ\n",
    "\n",
    "##########################\n",
    "# 1. infer_soma\n",
    "##########################\n",
    "\n",
    "def _infer_soma_MCZ(in_img: np.ndarray,\n",
    "                nuclei_obj: np.ndarray,\n",
    "    median_sz: int,\n",
    "    gauss_sig: float,\n",
    "    mo_method: str,\n",
    "    mo_adjust: float,\n",
    "    mo_cutoff_size: int,\n",
    "    max_hole_w: int,\n",
    "    small_obj_w: int\n",
    ") -> np.ndarray:\n",
    "    \"\"\"\n",
    "    Procedure to infer soma from linearly unmixed input.\n",
    "\n",
    "    Parameters\n",
    "    ------------\n",
    "    in_img: \n",
    "        a 3d image containing all the channels\n",
    "    nuclei_obj: \n",
    "        a 3d image containing the inferred nuclei\n",
    "    median_sz: \n",
    "        width of median filter for _soma_ signal\n",
    "    gauss_sig: \n",
    "        sigma for gaussian smoothing of _soma_ signal\n",
    "    mo_method: \n",
    "         which method to use for calculating global threshold. Options include:\n",
    "         \"triangle\" (or \"tri\"), \"median\" (or \"med\"), and \"ave_tri_med\" (or \"ave\").\n",
    "         \"ave\" refers the average of \"triangle\" threshold and \"mean\" threshold.\n",
    "    mo_adjust: \n",
    "        Masked Object threshold `local_adjust`\n",
    "    mo_cutoff_size: \n",
    "        Masked Object threshold `size_min`\n",
    "    max_hole_w: \n",
    "        hole filling cutoff for soma signal post-processing\n",
    "    small_obj_w: \n",
    "        minimu object size cutoff for soma signal post-processing\n",
    "\n",
    "    Returns\n",
    "    -------------\n",
    "    soma_mask:\n",
    "        a logical/labels object defining boundaries of soma\n",
    "\n",
    "    \"\"\"\n",
    "    nuc_ch = NUC_CH\n",
    "    ###################\n",
    "    # EXTRACT\n",
    "    ###################\n",
    "    struct_img = raw_soma_MCZ(in_img)\n",
    "    scaled_signal = struct_img.copy() # already scaled\n",
    "\n",
    "    ###################\n",
    "    # PRE_PROCESSING\n",
    "    ###################                         \n",
    "    ################# part 1- soma\n",
    "\n",
    "    # Linear-ish processing\n",
    "    struct_img = median_filter_slice_by_slice(struct_img, size=median_sz)\n",
    "\n",
    "    struct_img = image_smoothing_gaussian_slice_by_slice( struct_img,\n",
    "                                                                                sigma=gauss_sig)\n",
    "\n",
    "    struct_img_non_lin = non_linear_soma_transform_MCZ(struct_img)\n",
    "\n",
    "    ###################\n",
    "    # CORE_PROCESSING\n",
    "    ###################\n",
    "    struct_obj = masked_object_thresh(struct_img_non_lin, \n",
    "                                                th_method=mo_method, \n",
    "                                                cutoff_size=mo_cutoff_size, \n",
    "                                                th_adjust=mo_adjust)               \n",
    "\n",
    "\n",
    "    ###################\n",
    "    # POST_PROCESSING\n",
    "    ###################\n",
    "    struct_obj = hole_filling_linear_size(struct_obj, \n",
    "                                                hole_min =0 , \n",
    "                                                hole_max=max_hole_w) \n",
    " \n",
    "    struct_obj = size_filter_linear_size(struct_obj, \n",
    "                                                    min_size= small_obj_w)\n",
    "\n",
    "    ###################\n",
    "    # POST- POST_PROCESSING\n",
    "    ###################\n",
    "    soma_out = choose_max_label_soma_union_nucleus(struct_img, struct_obj, nuclei_obj) \n",
    "\n",
    "    return soma_out\n",
    "\n",
    "\n",
    "\n"
   ]
  },
  {
   "cell_type": "markdown",
   "metadata": {},
   "source": [
    "## DEFINE `_fixed_infer_soma` function\n",
    "\n",
    "Based on the _prototyping_ above define the function to infer soma. with a *fixed* set of parameters for each step in the procedure.  That is they are all \"hard coded\""
   ]
  },
  {
   "cell_type": "code",
   "execution_count": 21,
   "metadata": {},
   "outputs": [],
   "source": [
    "##########################\n",
    "# 1. fixed_infer_soma\n",
    "##########################\n",
    "\n",
    "\n",
    "def _fixed_infer_soma_MCZ(in_img: np.ndarray, nuclei_obj: np.ndarray) -> np.ndarray:\n",
    "    \"\"\"\n",
    "    Procedure to infer soma from linearly unmixed input, with a *fixed* set of parameters for each step in the procedure.  i.e. \"hard coded\"\n",
    "\n",
    "    Parameters\n",
    "    ------------\n",
    "    in_img: \n",
    "        a 3d image containing all the channels\n",
    "    nuclei_obj: \n",
    "        a 3d image containing the inferred nuclei\n",
    "\n",
    "    Returns\n",
    "    -------------\n",
    "    soma_mask:\n",
    "        a logical/labels object defining boundaries of soma\n",
    "    \"\"\"\n",
    "    \n",
    "\n",
    "    ###################\n",
    "    # PARAMETERS\n",
    "    ###################   \n",
    "    median_sz = 15\n",
    "    gauss_sig = 1.34\n",
    "    mo_method = \"ave\"\n",
    "    mo_adjust = 0.5\n",
    "    mo_cutoff_size = 150\n",
    "    max_hole_w = 50\n",
    "    small_obj_w = 45\n",
    "\n",
    "    soma_out = _infer_soma(in_img,\n",
    "                                                nuclei_obj,\n",
    "                                                median_sz,\n",
    "                                                gauss_sig,\n",
    "                                                mo_method,\n",
    "                                                mo_adjust,\n",
    "                                                mo_cutoff_size,\n",
    "                                                max_hole_w,\n",
    "                                                small_obj_w) \n",
    "\n",
    "    return soma_out\n",
    "\n",
    "\n"
   ]
  },
  {
   "cell_type": "code",
   "execution_count": 22,
   "metadata": {},
   "outputs": [],
   "source": [
    "from infer_subc_2d.organelles.soma import fixed_infer_soma_MCZ\n",
    "\n",
    "soma_object =  fixed_infer_soma_MCZ(img_data, nuclei) \n"
   ]
  },
  {
   "cell_type": "markdown",
   "metadata": {},
   "source": [
    "## Visualize  2\n"
   ]
  },
  {
   "cell_type": "code",
   "execution_count": 23,
   "metadata": {},
   "outputs": [
    {
     "data": {
      "text/plain": [
       "<Labels layer 'Labels' at 0x173272a90>"
      ]
     },
     "execution_count": 23,
     "metadata": {},
     "output_type": "execute_result"
    }
   ],
   "source": [
    "viewer.add_image(\n",
    "    soma_object,\n",
    "    scale=scale,\n",
    "    opacity=0.3,\n",
    ")    \n",
    "\n",
    "\n",
    "viewer.add_labels(\n",
    "    label(nuclei),\n",
    "    scale=scale,\n",
    "    opacity=0.3,\n",
    ")\n"
   ]
  },
  {
   "cell_type": "code",
   "execution_count": 24,
   "metadata": {},
   "outputs": [
    {
     "data": {
      "image/png": "[encoded data removed]",
      "text/html": [
       "<img src=\"data:image/png;base64,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\"></img>"
      ],
      "text/plain": [
       "<napari.utils.notebook_display.NotebookScreenshot at 0x173272b20>"
      ]
     },
     "execution_count": 24,
     "metadata": {},
     "output_type": "execute_result"
    }
   ],
   "source": [
    "from napari.utils.notebook_display import nbscreenshot\n",
    "\n",
    "# viewer.dims.ndisplay = 3\n",
    "# viewer.camera.angles = (-30, 25, 120)\n",
    "nbscreenshot(viewer, canvas_only=True)\n"
   ]
  },
  {
   "cell_type": "code",
   "execution_count": 25,
   "metadata": {},
   "outputs": [],
   "source": [
    "viewer.close()"
   ]
  },
  {
   "cell_type": "code",
   "execution_count": null,
   "metadata": {},
   "outputs": [],
   "source": [
    "\n",
    "def _masked_object_thresh(\n",
    "    structure_img_smooth: np.ndarray, th_method: str, cutoff_size: int, th_adjust: float\n",
    ") -> np.ndarray:\n",
    "    \"\"\"\n",
    "    wrapper for applying Masked Object Thresholding with just two parameters via `MO` from `aicssegmentation`\n",
    "    Parameters\n",
    "    ------------\n",
    "    structure_img_smooth: np.ndarray\n",
    "        a 3d image\n",
    "    th_method: \n",
    "         which method to use for calculating global threshold. Options include:\n",
    "         \"triangle\" (or \"tri\"), \"median\" (or \"med\"), and \"ave_tri_med\" (or \"ave\").\n",
    "         \"ave\" refers the average of \"triangle\" threshold and \"mean\" threshold.\n",
    "    cutoff_size: \n",
    "        Masked Object threshold `size_min`\n",
    "    th_adjust: \n",
    "        Masked Object threshold `local_adjust`\n",
    "\n",
    "    Returns\n",
    "    -------------\n",
    "        np.ndarray segmentation \n",
    "\n",
    "    \"\"\"\n",
    "\n",
    "    struct_obj = MO(\n",
    "        structure_img_smooth,\n",
    "        global_thresh_method=th_method,\n",
    "        object_minArea=cutoff_size,\n",
    "        extra_criteria=True,\n",
    "        local_adjust=th_adjust,\n",
    "        return_object=False,\n",
    "        dilate=True,\n",
    "    )\n",
    "    return struct_obj\n"
   ]
  },
  {
   "cell_type": "code",
   "execution_count": null,
   "metadata": {},
   "outputs": [],
   "source": [
    "def get_max_label(raw_signal: np.ndarray, labels_in: np.ndarray) -> np.ndarray:\n",
    "    \"\"\"keep only the label with the maximum raw signal\n",
    "        Parameters\n",
    "    ------------\n",
    "    raw_signal:\n",
    "        the image to filter on\n",
    "    labels_in:\n",
    "        labels to consider\n",
    "\n",
    "    Returns\n",
    "    -------------\n",
    "        np.ndarray of labels corresponding to the largest total signal\n",
    "\n",
    "    \"\"\"\n",
    "    all_labels = np.unique(labels_in)[1:]\n",
    "\n",
    "    total_signal = [raw_signal[labels_in == label].sum() for label in all_labels]\n",
    "    # combine NU and \"labels\" to make a SOMA\n",
    "    keep_label = all_labels[np.argmax(total_signal)]\n",
    "\n",
    "    return keep_label\n",
    "\n",
    "def choose_max_label_soma_union_nucleus(soma_img: np.ndarray, soma_obj: np.ndarray, nuclei_obj: np.ndarray) -> np.ndarray:\n",
    "    \"\"\"find the label with the maximum soma from watershed on the nuclei + plus the corresponding nuclei labels\n",
    "\n",
    "        Parameters\n",
    "    ------------\n",
    "    soma_img:\n",
    "        the soma image intensities\n",
    "    soma_obj:\n",
    "        thresholded soma mask\n",
    "    nuclei_obj:\n",
    "        inferred nuclei\n",
    "\n",
    "    Returns\n",
    "    -------------\n",
    "        np.ndarray of soma+nuc labels corresponding to the largest total soma signal \n",
    "\n",
    "    \"\"\"\n",
    "    nuc_labels = label(nuclei_obj)\n",
    "    soma_labels = masked_inverted_watershed(soma_img,nuc_labels, soma_obj)\n",
    "\n",
    "    keep_label = get_max_label(soma_img, soma_labels)\n",
    "\n",
    "    soma_out = np.zeros_like(soma_labels)\n",
    "    soma_out[soma_labels == keep_label] = 1\n",
    "    soma_out[nuc_labels == keep_label] = 1\n",
    "\n",
    "    return soma_out\n"
   ]
  },
  {
   "cell_type": "code",
   "execution_count": null,
   "metadata": {},
   "outputs": [],
   "source": [
    "\n",
    "def raw_soma_MCZ(img_in: np.ndarray, scale_min_max:bool = True) -> np.ndarray:\n",
    "    \"\"\"define soma image\n",
    "    SOMA_W = (6.,1.,2.)\n",
    "    SOMA_CH = (LYSO_CH,ER_CH,GOLGI_CH)\n",
    "\n",
    "    Parameters\n",
    "    ------------\n",
    "    img_in\n",
    "        a 3d image\n",
    "    scale_min_max: \n",
    "        scale to [0,1] if True. default True\n",
    "\n",
    "    Returns\n",
    "    -------------\n",
    "        np.ndarray scaled aggregate\n",
    "\n",
    "    \"\"\"\n",
    "    weights = (0, 6, 0, 2, 0, 1)\n",
    "    if scale: \n",
    "        return min_max_intensity_normalization(weighted_aggregate(img_in, *weights))\n",
    "    else: \n",
    "        return weighted_aggregate(img_in, *weights)"
   ]
  },
  {
   "cell_type": "markdown",
   "metadata": {},
   "source": [
    "---------------------\n",
    "# TEST `_infer_soma`  function defined above\n",
    "\n",
    "\n",
    "##\n"
   ]
  },
  {
   "cell_type": "code",
   "execution_count": 25,
   "metadata": {},
   "outputs": [],
   "source": [
    "\n",
    "SO_label =  _fixed_infer_soma(img_2D) "
   ]
  },
  {
   "cell_type": "code",
   "execution_count": 23,
   "metadata": {},
   "outputs": [],
   "source": [
    "from infer_subc_2d.organelles import fixed_infer_soma\n",
    "\n",
    "soma_ =  fixed_infer_soma(img_data, nuclei) "
   ]
  },
  {
   "cell_type": "code",
   "execution_count": 24,
   "metadata": {},
   "outputs": [
    {
     "data": {
      "text/plain": [
       "<Image layer 'soma_' at 0x1658ac4c0>"
      ]
     },
     "execution_count": 24,
     "metadata": {},
     "output_type": "execute_result"
    }
   ],
   "source": [
    "\n",
    "viewer.add_image(\n",
    "    soma_,\n",
    "    scale=scale \n",
    ")"
   ]
  },
  {
   "cell_type": "markdown",
   "metadata": {},
   "source": [
    "Write the `infer_soma` spec to the widget json"
   ]
  },
  {
   "cell_type": "code",
   "execution_count": 28,
   "metadata": {},
   "outputs": [
    {
     "name": "stdout",
     "output_type": "stream",
     "text": [
      "function fixed_infer_soma is already in all_functions.json\n",
      "overwriting  fixed_infer_soma\n"
     ]
    },
    {
     "data": {
      "text/plain": [
       "1"
      ]
     },
     "execution_count": 28,
     "metadata": {},
     "output_type": "execute_result"
    }
   ],
   "source": [
    "from infer_subc_2d.organelles_config.helper import add_function_spec_to_widget_json\n",
    "\n",
    "_fixed_infer_soma =  {\n",
    "        \"name\": \" infer soma mask (fixed parameters)\",\n",
    "        \"python::module\": \"infer_subc_2d.organelles\",\n",
    "        \"python::function\": \"fixed_infer_soma\",\n",
    "        \"parameters\": None\n",
    "        }\n",
    "\n",
    "add_function_spec_to_widget_json(\"fixed_infer_soma\", _fixed_infer_soma, overwrite=True)"
   ]
  },
  {
   "cell_type": "code",
   "execution_count": 29,
   "metadata": {},
   "outputs": [
    {
     "name": "stdout",
     "output_type": "stream",
     "text": [
      "function infer_soma is already in all_functions.json\n",
      "overwriting  infer_soma\n"
     ]
    },
    {
     "data": {
      "text/plain": [
       "1"
      ]
     },
     "execution_count": 29,
     "metadata": {},
     "output_type": "execute_result"
    }
   ],
   "source": [
    "\n",
    "_infer_soma =  {\n",
    "        \"name\": \" infer soma mask\",\n",
    "        \"python::module\": \"infer_subc_2d.organelles\",\n",
    "        \"python::function\": \"infer_soma\",\n",
    "        \"parameters\": {\n",
    "                \"median_sz_soma\": {\n",
    "                        \"widget_type\": \"slider\",\n",
    "                        \"data_type\": \"int\",\n",
    "                        \"min\": 3,\n",
    "                        \"max\": 15,\n",
    "                        \"increment\": 1\n",
    "                },\n",
    "                \"gauss_sig_soma\": {\n",
    "                        \"data_type\": \"float\",\n",
    "                        \"increment\": 0.25,\n",
    "                        \"max\": 15.0,\n",
    "                        \"min\": 1.25,\n",
    "                        \"widget_type\": \"slider\"\n",
    "                },\n",
    "                \"median_sz_nuc\": {\n",
    "                        \"widget_type\": \"slider\",\n",
    "                        \"data_type\": \"int\",\n",
    "                        \"min\": 3,\n",
    "                        \"max\": 15,\n",
    "                        \"increment\": 1\n",
    "                },\n",
    "                \"gauss_sig_nuc\": {\n",
    "                        \"data_type\": \"float\",\n",
    "                        \"increment\": 0.25,\n",
    "                        \"max\": 15.0,\n",
    "                        \"min\": 1.25,\n",
    "                        \"widget_type\": \"slider\"\n",
    "                },\n",
    "                \"mo_method\": {\n",
    "                        \"data_type\": \"str\",\n",
    "                        \"widget_type\": \"drop-down\",\n",
    "                        \"options\": [\n",
    "                                \"triangle\",\n",
    "                                \"median\",\n",
    "                                \"ave_tri_med\"\n",
    "                                ]\n",
    "                },\n",
    "                \"mo_adjust\": {\n",
    "                        \"data_type\": \"float\",\n",
    "                        \"increment\": 0.05,\n",
    "                        \"max\": 1.0,\n",
    "                        \"min\": 0.0,\n",
    "                        \"widget_type\": \"slider\"\n",
    "                },\n",
    "                \"mo_cutoff_size\": {\n",
    "                        \"data_type\": \"int\",\n",
    "                        \"increment\": 10,\n",
    "                        \"max\": 250,\n",
    "                        \"min\": 10,\n",
    "                        \"widget_type\": \"slider\"\n",
    "                },\n",
    "                \"thresh_factor\": {\n",
    "                        \"data_type\": \"float\",\n",
    "                        \"increment\": 0.05,\n",
    "                        \"max\": 1.2,\n",
    "                        \"min\": 0.6,\n",
    "                        \"widget_type\": \"slider\"\n",
    "                },\n",
    "                \"thresh_min\": {\n",
    "                        \"data_type\": \"float\",\n",
    "                        \"increment\": 0.05,\n",
    "                        \"max\": .9,\n",
    "                        \"min\": 0.0,\n",
    "                        \"widget_type\": \"slider\"\n",
    "                },\n",
    "                \"thresh_max\": {\n",
    "                        \"data_type\": \"float\",\n",
    "                        \"increment\": 0.05,\n",
    "                        \"max\": 1.0,\n",
    "                        \"min\": 0.1,\n",
    "                        \"widget_type\": \"slider\"\n",
    "                },\n",
    "                \"max_hole_w_nuc\": {\n",
    "                        \"data_type\": \"int\",\n",
    "                        \"increment\": 1,\n",
    "                        \"max\": 40,\n",
    "                        \"min\": 4,\n",
    "                        \"widget_type\": \"slider\"\n",
    "                },           \n",
    "                \"small_obj_w_nuc\": {\n",
    "                        \"data_type\": \"int\",\n",
    "                        \"increment\": 1,\n",
    "                        \"max\": 50,\n",
    "                        \"min\": 1,\n",
    "                        \"widget_type\": \"slider\"\n",
    "                },                           \n",
    "                \"max_hole_w_soma\": {\n",
    "                        \"data_type\": \"int\",\n",
    "                        \"increment\": 2,\n",
    "                        \"max\": 100,\n",
    "                        \"min\": 20,\n",
    "                        \"widget_type\": \"slider\"\n",
    "                },           \n",
    "                \"small_obj_w_soma\": {\n",
    "                        \"data_type\": \"int\",\n",
    "                        \"increment\": 1,\n",
    "                        \"max\": 50,\n",
    "                        \"min\": 1,\n",
    "                        \"widget_type\": \"slider\"\n",
    "                },        \n",
    "        }\n",
    "}\n",
    "\n",
    "add_function_spec_to_widget_json(\"infer_soma\", _infer_soma, overwrite=True )\n",
    "\n"
   ]
  },
  {
   "cell_type": "code",
   "execution_count": 30,
   "metadata": {},
   "outputs": [
    {
     "name": "stdout",
     "output_type": "stream",
     "text": [
      "function raw_soma_MCZ is already in all_functions.json\n",
      "overwriting  raw_soma_MCZ\n"
     ]
    },
    {
     "data": {
      "text/plain": [
       "1"
      ]
     },
     "execution_count": 30,
     "metadata": {},
     "output_type": "execute_result"
    }
   ],
   "source": [
    "\n",
    "_raw_soma_MCZ =  {\n",
    "        \"name\": \"define weighted aggregate soma signal (MCZ-cellprofiler)\",\n",
    "        \"python::module\": \"infer_subc_2d.organelles\",\n",
    "        \"python::function\": \"raw_soma_MCZ\",\n",
    "        \"parameters\": None\n",
    "        }\n",
    "\n",
    "add_function_spec_to_widget_json(\"raw_soma_MCZ\", _raw_soma_MCZ, overwrite=True)"
   ]
  },
  {
   "cell_type": "code",
   "execution_count": 31,
   "metadata": {},
   "outputs": [
    {
     "name": "stdout",
     "output_type": "stream",
     "text": [
      "function non_linear_soma_transform_MCZ is already in all_functions.json\n"
     ]
    },
    {
     "data": {
      "text/plain": [
       "0"
      ]
     },
     "execution_count": 31,
     "metadata": {},
     "output_type": "execute_result"
    }
   ],
   "source": [
    "\n",
    "_non_linear_soma_transform_MCZ =  {\n",
    "        \"name\": \"non-linear filter of soma signal (MCZ-cellprofiler)\",\n",
    "        \"python::module\": \"infer_subc_2d.organelles\",\n",
    "        \"python::function\": \"non_linear_soma_transform_MCZ\",\n",
    "        \"parameters\": None\n",
    "        }\n",
    "\n",
    "add_function_spec_to_widget_json(\"non_linear_soma_transform_MCZ\", _non_linear_soma_transform_MCZ)"
   ]
  },
  {
   "cell_type": "code",
   "execution_count": 32,
   "metadata": {},
   "outputs": [
    {
     "name": "stdout",
     "output_type": "stream",
     "text": [
      "function masked_inverted_watershed is already in all_functions.json\n"
     ]
    },
    {
     "data": {
      "text/plain": [
       "0"
      ]
     },
     "execution_count": 32,
     "metadata": {},
     "output_type": "execute_result"
    }
   ],
   "source": [
    "\n",
    "_masked_inverted_watershed =  {\n",
    "        \"name\": \"watershed on inverted image and masked\",\n",
    "        \"python::module\": \"infer_subc_2d.organelles\",\n",
    "        \"python::function\": \"masked_inverted_watershed\",\n",
    "        \"parameters\": None\n",
    "        }\n",
    "\n",
    "add_function_spec_to_widget_json(\"masked_inverted_watershed\", _masked_inverted_watershed)"
   ]
  },
  {
   "cell_type": "code",
   "execution_count": 33,
   "metadata": {},
   "outputs": [
    {
     "name": "stdout",
     "output_type": "stream",
     "text": [
      "function choose_max_label is already in all_functions.json\n"
     ]
    },
    {
     "data": {
      "text/plain": [
       "0"
      ]
     },
     "execution_count": 33,
     "metadata": {},
     "output_type": "execute_result"
    }
   ],
   "source": [
    "\n",
    "_choose_max_label =  {\n",
    "        \"name\": \"keep only the label with the maximum raw signa\",\n",
    "        \"python::module\": \"infer_subc_2d.utils.img\",\n",
    "        \"python::function\": \"choose_max_label\",\n",
    "        \"parameters\": None\n",
    "        }\n",
    "\n",
    "add_function_spec_to_widget_json(\"choose_max_label\", _choose_max_label)"
   ]
  },
  {
   "cell_type": "code",
   "execution_count": 34,
   "metadata": {},
   "outputs": [
    {
     "name": "stdout",
     "output_type": "stream",
     "text": [
      "function min_max_intensity_normalization is already in all_functions.json\n"
     ]
    },
    {
     "data": {
      "text/plain": [
       "0"
      ]
     },
     "execution_count": 34,
     "metadata": {},
     "output_type": "execute_result"
    }
   ],
   "source": [
    "\n",
    "_min_max_intensity_normalization =  {\n",
    "        \"name\": \"Min Max Intesity Normalization\",\n",
    "        \"python::module\": \"infer_subc_2d.utils.img\",\n",
    "        \"python::function\": \"min_max_intensity_normalization\",\n",
    "        \"parameters\": None\n",
    "        }\n",
    "\n",
    "add_function_spec_to_widget_json(\"min_max_intensity_normalization\", _min_max_intensity_normalization)"
   ]
  },
  {
   "cell_type": "code",
   "execution_count": 35,
   "metadata": {},
   "outputs": [
    {
     "name": "stdout",
     "output_type": "stream",
     "text": [
      "function masked_object_thresh is already in all_functions.json\n",
      "overwriting  masked_object_thresh\n"
     ]
    },
    {
     "data": {
      "text/plain": [
       "1"
      ]
     },
     "execution_count": 35,
     "metadata": {},
     "output_type": "execute_result"
    }
   ],
   "source": [
    "from infer_subc_2d.organelles_config.helper import add_function_spec_to_widget_json\n",
    "\n",
    "_masked_object_thresh =  {\n",
    "        \"name\": \"Masked Object Threshold wrapper for widgets\",\n",
    "        \"python::module\": \"infer_subc_2d.utils.img\",\n",
    "        \"python::function\": \"masked_object_thresh\",\n",
    "        \"parameters\": {\n",
    "                \"th_method\": {\n",
    "                        \"data_type\": \"str\",\n",
    "                        \"widget_type\": \"drop-down\",\n",
    "                        \"options\": [\n",
    "                        \"triangle\",\n",
    "                        \"median\",\n",
    "                        \"ave_tri_med\"\n",
    "                        ]\n",
    "                },\n",
    "                \"cutoff_size\": {\n",
    "                        \"data_type\": \"int\",\n",
    "                        \"widget_type\": \"slider\",\n",
    "                        \"min\": 0,\n",
    "                        \"max\": 2000,\n",
    "                        \"increment\": 50\n",
    "                },\n",
    "                \"th_adjust\": {\n",
    "                        \"data_type\": \"float\",\n",
    "                        \"widget_type\": \"slider\",\n",
    "                        \"min\": 0,\n",
    "                        \"max\": 2,\n",
    "                        \"increment\": 0.02\n",
    "                }\n",
    "        }\n",
    "}\n",
    "\n",
    "add_function_spec_to_widget_json(\"masked_object_thresh\", _masked_object_thresh, overwrite=True)"
   ]
  },
  {
   "attachments": {},
   "cell_type": "markdown",
   "metadata": {},
   "source": [
    "--------------------------\n",
    "\n",
    "# TEST `infer_soma` exported functions\n"
   ]
  },
  {
   "cell_type": "code",
   "execution_count": 43,
   "metadata": {},
   "outputs": [],
   "source": [
    "from infer_subc_2d.organelles import fixed_infer_soma\n",
    "\n",
    "soma_mask =  fixed_infer_soma(img_2D) "
   ]
  },
  {
   "attachments": {},
   "cell_type": "markdown",
   "metadata": {},
   "source": [
    "## Visualize  2\n"
   ]
  },
  {
   "cell_type": "code",
   "execution_count": 37,
   "metadata": {},
   "outputs": [
    {
     "data": {
      "text/plain": [
       "<Labels layer 'soma_mask' at 0x1819c34f0>"
      ]
     },
     "execution_count": 37,
     "metadata": {},
     "output_type": "execute_result"
    }
   ],
   "source": [
    "# viewer = napari.Viewer()\n",
    "\n",
    "viewer.scale_bar.visible = True\n",
    "\n",
    "viewer.add_labels(\n",
    "    soma_mask,\n",
    "    scale=scale,\n",
    "    blending='additive'\n",
    ")\n"
   ]
  },
  {
   "cell_type": "code",
   "execution_count": 38,
   "metadata": {},
   "outputs": [],
   "source": [
    "\n",
    "from napari.utils.notebook_display import nbscreenshot\n",
    "\n",
    "# viewer.dims.ndisplay = 3\n",
    "# viewer.camera.angles = (-30, 25, 120)\n",
    "nbscreenshot(viewer, canvas_only=True)\n",
    "viewer.close()"
   ]
  },
  {
   "cell_type": "markdown",
   "metadata": {},
   "source": [
    "-------------------------------\n",
    "## Write workflow .json\n",
    "Now that we've added our function specs we can compose workflows."
   ]
  },
  {
   "cell_type": "code",
   "execution_count": 39,
   "metadata": {},
   "outputs": [],
   "source": [
    "def make_infer_soma_step_by_step_dict():\n",
    "    \"\"\"\n",
    "    crete .json version of infer_soma\n",
    "    \"\"\"\n",
    "    step_name = []\n",
    "    function_name = []\n",
    "    category =[]\n",
    "    parameter_values = []\n",
    "    parent = []\n",
    "    notes = []\n",
    "\n",
    "    ###################\n",
    "    # EXTRACT\n",
    "    ###################   \n",
    "    # struct_img = _raw_soma_MCZ(in_img)\n",
    "    step_name.append(\"1\")\n",
    "    function_name.append(\"raw_soma_MCZ\")\n",
    "    category.append(\"extraction\")\n",
    "    parameter_values.append(None)\n",
    "    parent.append(0)\n",
    "    notes.append(f\" this creates an aggregate signal for the soma\" )\n",
    "\n",
    "    step_name.append(\"2\")\n",
    "    function_name.append(\"select_channel_from_raw\")\n",
    "    category.append(\"extraction\")\n",
    "    parameter_values.append( dict(chan = NUC_CH) )\n",
    "    parent.append(0)\n",
    "\n",
    "    ###################\n",
    "    # PRE_PROCESSING\n",
    "    ###################\n",
    "    #SOMA\n",
    "    step_name.append(\"3\")\n",
    "    function_name.append(\"min_max_intensity_normalization\")\n",
    "    category.append(\"preprocessing\")\n",
    "    parameter_values.append(None)\n",
    "    parent.append(1)\n",
    "\n",
    "\n",
    "    step_name.append(\"4\")\n",
    "    function_name.append(\"median_filter_slice_by_slice\")\n",
    "    category.append(\"preprocessing\")\n",
    "    parameter_values.append(dict(size = 15 ))\n",
    "    parent.append(3)\n",
    "\n",
    "\n",
    "    step_name.append(\"5\")\n",
    "    function_name.append(\"image_smoothing_gaussian_slice_by_slice\")\n",
    "    category.append(\"preprocessing\")\n",
    "    parameter_values.append(dict( sigma = 1.4 ))\n",
    "    parent.append(4)\n",
    "\n",
    "    step_name.append(\"6\")\n",
    "    function_name.append(\"non_linear_soma_transform_MCZ\")\n",
    "    category.append(\"preprocessing\")\n",
    "    parameter_values.append(None)\n",
    "    parent.append(5)\n",
    "\n",
    "    #NUC\n",
    "    step_name.append(\"7\")\n",
    "    function_name.append(\"min_max_intensity_normalization\")\n",
    "    category.append(\"preprocessing\")\n",
    "    parameter_values.append(None)\n",
    "    parent.append(2)\n",
    "\n",
    "    step_name.append(\"8\")\n",
    "    function_name.append(\"median_filter_slice_by_slice\")\n",
    "    category.append(\"preprocessing\")\n",
    "    parameter_values.append(dict(size = 4 ))\n",
    "    parent.append(7)\n",
    "\n",
    "    step_name.append(\"9\")\n",
    "    function_name.append(\"image_smoothing_gaussian_slice_by_slice\")\n",
    "    category.append(\"preprocessing\")\n",
    "    parameter_values.append(dict( sigma = 1.4 ))\n",
    "    parent.append(8)\n",
    "\n",
    "    ###################\n",
    "    # CORE_PROCESSING\n",
    "    ###################\n",
    "    # SOMA\n",
    "    step_name.append(\"10\")\n",
    "    function_name.append(\"masked_object_thresh\")\n",
    "    category.append(\"core\")\n",
    "    parameter_values.append(dict( th_method=\"ave_tri_med\",\n",
    "                                                            cutoff_size = 100,\n",
    "                                                            th_adjust = 0.5))\n",
    "    parent.append(6)\n",
    "\n",
    "\n",
    "    # NUCLEI\n",
    "    step_name.append(\"11\")\n",
    "    function_name.append(\"apply_log_li_threshold\")\n",
    "    category.append(\"core\")\n",
    "    parameter_values.append(dict(thresh_factor = 0.9, \n",
    "                                                            thresh_min = .1,\n",
    "                                                            thresh_max = 1.))\n",
    "    parent.append(9)\n",
    "\n",
    "\n",
    "    ###################\n",
    "    # POST_PROCESSING\n",
    "    ###################\n",
    "    # NUCLEI\n",
    "    step_name.append(\"12\")\n",
    "    function_name.append(\"hole_filling\")\n",
    "    category.append(\"postprocessing\")\n",
    "    parameter_values.append(dict( hole_min=0, hole_max=5**2, fill_2d=True))\n",
    "    parent.append(11)\n",
    "\n",
    "    step_name.append(\"13\")\n",
    "    function_name.append(\"size_filter_2D\")\n",
    "    category.append(\"postprocessing\")\n",
    "    parameter_values.append(dict( min_size = 15**2  ))\n",
    "    parent.append(12)\n",
    "\n",
    "    step_name.append(\"14\")\n",
    "    function_name.append(\"label\")\n",
    "    category.append(\"postprocessing\")\n",
    "    parameter_values.append(None)\n",
    "    parent.append(13)\n",
    "\n",
    "    # SOMA\n",
    "    step_name.append(\"15\")\n",
    "    function_name.append(\"hole_filling\")\n",
    "    category.append(\"postprocessing\")\n",
    "    parameter_values.append(dict( hole_min=0, hole_max=25**2, fill_2d=True))\n",
    "    parent.append(10)\n",
    "\n",
    "    step_name.append(\"16\")\n",
    "    function_name.append(\"size_filter_2D\")\n",
    "    category.append(\"postprocessing\")\n",
    "    parameter_values.append(dict( min_size = 15**2  ))\n",
    "    parent.append(15)\n",
    "\n",
    "    step_name.append(\"17\")\n",
    "    function_name.append(\"masked_inverted_watershed\")\n",
    "    category.append(\"postprocessing\")\n",
    "    parameter_values.append(None)\n",
    "    parent.append([ 5 , 14, 16])\n",
    "\n",
    "    ###################\n",
    "    # POST- POST_PROCESSING\n",
    "    ###################\n",
    "    # keep the \"SOMA\" label which contains the highest total signal\n",
    "    step_name.append(\"18\")\n",
    "    function_name.append(\"choose_max_label\")\n",
    "    category.append(\"postpostprocessing\")\n",
    "    parameter_values.append(None)\n",
    "    parent.append([5, 17])\n",
    "\n",
    "    ##########################\n",
    "    out_dict = dict()\n",
    "    for i,stepn in enumerate(step_name):\n",
    "        entry = dict(category=category[i],\n",
    "                            function=function_name[i],\n",
    "                            parameter_values=parameter_values[i],\n",
    "                            parent=parent[i]\n",
    "        )\n",
    "        if entry['parameter_values'] is None:\n",
    "            _ = entry.pop('parameter_values')\n",
    "        out_dict[stepn] = entry\n",
    "        \n",
    "    return out_dict"
   ]
  },
  {
   "cell_type": "code",
   "execution_count": 40,
   "metadata": {},
   "outputs": [
    {
     "data": {
      "text/plain": [
       "PosixPath('/Users/ahenrie/Projects/Imaging/infer-subc-2D/infer_subc_2d/organelles_config/conf_2.1.soma_stepbystep.json')"
      ]
     },
     "execution_count": 40,
     "metadata": {},
     "output_type": "execute_result"
    }
   ],
   "source": [
    "from infer_subc_2d.organelles_config.helper import write_workflow_json\n",
    "\n",
    "infer_soma_stepbystep_dict = make_infer_soma_step_by_step_dict()\n",
    "\n",
    "write_workflow_json(\"conf_2.1.soma_stepbystep\", infer_soma_stepbystep_dict )"
   ]
  },
  {
   "cell_type": "code",
   "execution_count": 41,
   "metadata": {},
   "outputs": [],
   "source": [
    "def make_infer_soma_step_by_step_from_raw_dict():\n",
    "    \"\"\"\n",
    "    Procedure to infer nuclei from linearly unmixed input.\n",
    "\n",
    "    Parameters\n",
    "    ------------\n",
    "    in_img: np.ndarray\n",
    "        a 3d image containing all the channels\n",
    "\n",
    "    soma_mask: np.ndarray\n",
    "        mask\n",
    "\n",
    "    Returns\n",
    "    -------------\n",
    "    nuclei_object\n",
    "        mask defined extent of NU\n",
    "\n",
    "    \"\"\"\n",
    "    step_name = []\n",
    "    function_name = []\n",
    "    category =[]\n",
    "    parameter_values = []\n",
    "    parent = []\n",
    "\n",
    "    ###################\n",
    "    # EXTRACT\n",
    "    ###################   \n",
    "    step_name.append(\"1\")\n",
    "    function_name.append(\"fixed_get_optimal_Z_img\")\n",
    "    category.append(\"extraction\")\n",
    "    parameter_values.append(None)\n",
    "    parent.append(0)\n",
    "\n",
    "    # SOMA\n",
    "    step_name.append(\"2\")\n",
    "    function_name.append(\"raw_soma_MCZ\")\n",
    "    category.append(\"extraction\")\n",
    "    parameter_values.append(None)\n",
    "    parent.append(1)\n",
    "\n",
    "    # NUC\n",
    "    step_name.append(\"3\")\n",
    "    function_name.append(\"select_channel_from_raw\")\n",
    "    category.append(\"extraction\")\n",
    "    parameter_values.append( dict(chan = NUC_CH) )\n",
    "    parent.append(1)\n",
    "\n",
    "    ###################\n",
    "    # PRE_PROCESSING\n",
    "    ###################\n",
    "    # SOMA\n",
    "    step_name.append(\"4\")\n",
    "    function_name.append(\"min_max_intensity_normalization\")\n",
    "    category.append(\"preprocessing\")\n",
    "    parameter_values.append(None)\n",
    "    parent.append(2)\n",
    "\n",
    "    step_name.append(\"5\")\n",
    "    function_name.append(\"median_filter_slice_by_slice\")\n",
    "    category.append(\"preprocessing\")\n",
    "    parameter_values.append(dict(size = 15 ))\n",
    "    parent.append(4)\n",
    "\n",
    "    step_name.append(\"6\")\n",
    "    function_name.append(\"image_smoothing_gaussian_slice_by_slice\")\n",
    "    category.append(\"preprocessing\")\n",
    "    parameter_values.append(dict( sigma = 1.4 ))\n",
    "    parent.append(5)\n",
    "\n",
    "    step_name.append(\"7\")\n",
    "    function_name.append(\"non_linear_soma_transform_MCZ\")\n",
    "    category.append(\"preprocessing\")\n",
    "    parameter_values.append(None)\n",
    "    parent.append(6)\n",
    "\n",
    "    #NUC\n",
    "    step_name.append(\"8\")\n",
    "    function_name.append(\"min_max_intensity_normalization\")\n",
    "    category.append(\"preprocessing\")\n",
    "    parameter_values.append(None)\n",
    "    parent.append(3)\n",
    "\n",
    "    step_name.append(\"9\")\n",
    "    function_name.append(\"median_filter_slice_by_slice\")\n",
    "    category.append(\"preprocessing\")\n",
    "    parameter_values.append(dict(size = 4 ))\n",
    "    parent.append(8)\n",
    "\n",
    "    step_name.append(\"10\")\n",
    "    function_name.append(\"image_smoothing_gaussian_slice_by_slice\")\n",
    "    category.append(\"preprocessing\")\n",
    "    parameter_values.append(dict( sigma = 1.4 ))\n",
    "    parent.append(9)\n",
    "\n",
    "    ###################\n",
    "    # CORE_PROCESSING\n",
    "    ###################\n",
    "    # SOMA\n",
    "    step_name.append(\"11\")\n",
    "    function_name.append(\"masked_object_thresh\")\n",
    "    category.append(\"core\")\n",
    "    parameter_values.append(dict( th_method=\"ave_tri_med\",\n",
    "                                                            cutoff_size = 100,\n",
    "                                                            th_adjust = 0.5))\n",
    "    parent.append(7)\n",
    "\n",
    "    # NUC\n",
    "    step_name.append(\"12\")\n",
    "    function_name.append(\"apply_log_li_threshold\")\n",
    "    category.append(\"core\")\n",
    "    parameter_values.append(dict(thresh_factor = 0.9, \n",
    "                                                            thresh_min = .1,\n",
    "                                                            thresh_max = 1.))\n",
    "    parent.append(10)\n",
    "\n",
    "    ###################\n",
    "    # POST_PROCESSING\n",
    "    ###################\n",
    "    # nUC\n",
    "    step_name.append(\"13\")\n",
    "    function_name.append(\"hole_filling\")\n",
    "    category.append(\"postprocessing\")\n",
    "    parameter_values.append(dict( hole_min=0, hole_max=5**2, fill_2d=True))\n",
    "    parent.append(12)\n",
    "\n",
    "    step_name.append(\"14\")\n",
    "    function_name.append(\"size_filter_2D\")\n",
    "    category.append(\"postprocessing\")\n",
    "    parameter_values.append(dict( min_size = 15**2  ))\n",
    "    parent.append(13)\n",
    "\n",
    "    step_name.append(\"15\")\n",
    "    function_name.append(\"label\")\n",
    "    category.append(\"postprocessing\")\n",
    "    parameter_values.append(None)\n",
    "    parent.append(14)\n",
    "\n",
    "\n",
    "    # SOMA\n",
    "    step_name.append(\"16\")\n",
    "    function_name.append(\"hole_filling\")\n",
    "    category.append(\"postprocessing\")\n",
    "    parameter_values.append(dict( hole_min=0, hole_max=25**2, fill_2d=True))\n",
    "    parent.append(11)\n",
    "\n",
    "    step_name.append(\"17\")\n",
    "    function_name.append(\"size_filter_2D\")\n",
    "    category.append(\"postprocessing\")\n",
    "    parameter_values.append(dict( min_size = 15**2  ))\n",
    "    parent.append(16)\n",
    "\n",
    "    step_name.append(\"18\")\n",
    "    function_name.append(\"masked_inverted_watershed\")\n",
    "    category.append(\"postprocessing\")\n",
    "    parameter_values.append(None)\n",
    "    parent.append([  7 , 15,17 ])\n",
    "\n",
    "    ###################\n",
    "    # POST- POST_PROCESSING\n",
    "    ###################\n",
    "    # keep the \"SOMA\" label which contains the highest total signal\n",
    "    step_name.append(\"19\")\n",
    "    function_name.append(\"choose_max_label\")\n",
    "    category.append(\"postpostprocessing\")\n",
    "    parameter_values.append(None)\n",
    "    parent.append([6,18])\n",
    "\n",
    "    ##########################\n",
    "    out_dict = dict()\n",
    "    for i,stepn in enumerate(step_name):\n",
    "        entry = dict(category=category[i],\n",
    "                            function=function_name[i],\n",
    "                            parameter_values=parameter_values[i],\n",
    "                            parent=parent[i]\n",
    "        )\n",
    "        if entry['parameter_values'] is None:\n",
    "            _ = entry.pop('parameter_values')\n",
    "        out_dict[stepn] = entry\n",
    "        \n",
    "    return out_dict"
   ]
  },
  {
   "cell_type": "code",
   "execution_count": 42,
   "metadata": {},
   "outputs": [
    {
     "data": {
      "text/plain": [
       "PosixPath('/Users/ahenrie/Projects/Imaging/infer-subc-2D/infer_subc_2d/organelles_config/conf_1.1.soma_stepbystep_from_raw.json')"
      ]
     },
     "execution_count": 42,
     "metadata": {},
     "output_type": "execute_result"
    }
   ],
   "source": [
    "\n",
    "infer_soma_stepbystep_from_raw_dict = make_infer_soma_step_by_step_from_raw_dict()\n",
    "\n",
    "write_workflow_json(\"conf_1.1.soma_stepbystep_from_raw\", infer_soma_stepbystep_from_raw_dict)"
   ]
  },
  {
   "attachments": {},
   "cell_type": "markdown",
   "metadata": {},
   "source": [
    "-------------\n",
    "## SUMMARY\n",
    "\n",
    "The above explains the overall framework.  \n",
    "\n",
    "### NEXT: INFER NUCLEI\n",
    "\n",
    "proceed to [02_infer_nuclei.ipynb](./02_infer_nuclei.ipynb)\n"
   ]
  }
 ],
 "metadata": {
  "kernelspec": {
   "display_name": "Python 3.9.13 ('napariNEW')",
   "language": "python",
   "name": "python3"
  },
  "language_info": {
   "codemirror_mode": {
    "name": "ipython",
    "version": 3
   },
   "file_extension": ".py",
   "mimetype": "text/x-python",
   "name": "python",
   "nbconvert_exporter": "python",
   "pygments_lexer": "ipython3",
   "version": "3.9.16"
  },
  "orig_nbformat": 4,
  "vscode": {
   "interpreter": {
    "hash": "d6148ef1fb015fb20f0b6da2ea61c87c6b848bdf3dabb03087e5d5cd0c4607e9"
   }
  }
 },
 "nbformat": 4,
 "nbformat_minor": 2
}
