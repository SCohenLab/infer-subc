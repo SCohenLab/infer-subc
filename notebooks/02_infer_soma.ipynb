{
 "cells": [
  {
   "cell_type": "code",
   "execution_count": null,
   "metadata": {},
   "outputs": [],
   "source": []
  },
  {
   "cell_type": "markdown",
   "metadata": {},
   "source": [
    "# Infer SOMA - part 2\n",
    "\n",
    "--------------\n",
    "\n",
    "## OBJECTIVE:  Infer sub-cellular component #2: SOMA  in order to understand interactome \n",
    "\n",
    "To measure shape, position, and size of the cell body -- the soma.    There are a variety of signals from which we could make this inference.  The two most promising are a composite signal including the residual from linear unmixing (`ch = [1, 4, 5,7]`) and a signal derived from the lysosome channel (`ch = 1`).\n",
    "\n",
    "Dependencies:\n",
    "The CYTOSOL inference rely on the NUCLEI AND SOMA inference.  Therefore all of the sub-cellular objects rely on this segmentation.\n",
    "\n"
   ]
  },
  {
   "cell_type": "markdown",
   "metadata": {},
   "source": [
    "\n",
    "\n",
    "# IMPORTS"
   ]
  },
  {
   "cell_type": "code",
   "execution_count": 1,
   "metadata": {},
   "outputs": [],
   "source": [
    "\n",
    "# this needs to be organzied to explain the imports\n",
    "from pathlib import Path\n",
    "import os\n",
    "from re import S\n",
    "\n",
    "import numpy as np\n",
    "\n",
    "import scipy\n",
    "from scipy import ndimage as ndi\n",
    "\n",
    "import napari\n",
    "\n",
    "# function for core algorithm\n",
    "import aicssegmentation\n",
    "\n",
    "from aicssegmentation.core.seg_dot import dot_3d_wrapper, dot_slice_by_slice, dot_2d_slice_by_slice_wrapper, dot_3d\n",
    "from aicssegmentation.core.pre_processing_utils import ( intensity_normalization, \n",
    "                                                         image_smoothing_gaussian_3d,  \n",
    "                                                         image_smoothing_gaussian_slice_by_slice )\n",
    "from aicssegmentation.core.utils import topology_preserving_thinning\n",
    "from aicssegmentation.core.MO_threshold import MO\n",
    "\n",
    "from aicssegmentation.core.utils import hole_filling\n",
    "from aicssegmentation.core.vessel import filament_2d_wrapper, vesselnessSliceBySlice\n",
    "\n",
    "from aicssegmentation.core.output_utils import   save_segmentation,  generate_segmentation_contour\n",
    "                                                 \n",
    "from skimage import filters\n",
    "from skimage import morphology\n",
    "\n",
    "from skimage.segmentation import watershed\n",
    "from skimage.feature import peak_local_max\n",
    "from skimage.morphology import remove_small_objects, binary_closing, ball , dilation   # function for post-processing (size filter)\n",
    "from skimage.measure import label\n",
    "\n",
    "# # package for io \n",
    "# from aicsimageio import AICSImage\n",
    "\n",
    "from napari.utils.notebook_display import nbscreenshot\n",
    "\n",
    "#import .infer_subc.base\n",
    "from infer_subc.base import *\n"
   ]
  },
  {
   "cell_type": "markdown",
   "metadata": {},
   "source": [
    "--------------\n",
    "\n",
    "# IMAGE PROCESSING Objective 2:  infer SOMA\n",
    "  [OUTLINE: Objective #2](#summary-of-objectives)\n",
    "## summary of steps\n",
    "\n",
    "INPUT\n",
    "- channel  1,4,5, and 7\n",
    "- labeled NUCLEI (objective #1)\n",
    "\n",
    "PRE-PROCESSING\n",
    "-  scale to max 1.0\n",
    "- gaussian  Filter window 10\n",
    "\n",
    "CORE-PROCESSING\n",
    "  - watershed from NU, global threshold, minimum cross-entropy\n",
    "  - threshold smoothing scale: 1 pixel\n",
    "  - threshold correction factor: .5 (more lenient)\n",
    "  - lower / upper bounds  (0,1)\n",
    "  - log transformed thresholding\n",
    "  - fill holes\n",
    "    - discard objects on borde\n",
    "    - fill holes\n",
    "\n",
    "- POST-PROCESSING\n",
    "  - fill holes\n",
    "  - remove small objects\n",
    "  - keep only the \"most intense\" Soma\n",
    "\n",
    "\n",
    "OUTPUT\n",
    "- mask of SOMA\n",
    "- mask of NU (contained by SOMA)"
   ]
  },
  {
   "cell_type": "code",
   "execution_count": 2,
   "metadata": {},
   "outputs": [
    {
     "name": "stdout",
     "output_type": "stream",
     "text": [
      "/Users/ahenrie/Projects/Imaging/mcz_subcell/data/raw/ZSTACK_PBTOhNGN2hiPSCs_BR3_N04_Unmixed.czi\n"
     ]
    },
    {
     "name": "stderr",
     "output_type": "stream",
     "text": [
      "/opt/anaconda3/envs/napariNEW/lib/python3.9/site-packages/ome_types/_convenience.py:105: FutureWarning: The default XML parser will be changing from 'xmlschema' to 'lxml' in version 0.4.0.  To silence this warning, please provide the `parser` argument, specifying either 'lxml' (to opt into the new behavior), or'xmlschema' (to retain the old behavior).\n",
      "  d = to_dict(os.fspath(xml), parser=parser, validate=validate)\n"
     ]
    }
   ],
   "source": [
    "\n",
    "data_path = Path( f\"{os.getenv('HOME')}/Projects/Imaging/mcz_subcell/data\")\n",
    "czi_img_folder = data_path/\"raw\"\n",
    "\n",
    "list_img_files = lambda img_folder,f_type: [os.path.join(img_folder,f_name) for f_name in os.listdir(img_folder) if f_name.endswith(f_type)]\n",
    "\n",
    "img_file_list = list_img_files(czi_img_folder,'.czi')\n",
    "print(img_file_list[5])\n",
    "\n",
    "test_img_name = img_file_list[5]\n",
    "\n",
    "img_data, meta_dict = read_input_image(test_img_name)\n",
    "\n",
    "raw_meta_data, ome_types = get_raw_meta_data(meta_dict)\n",
    "\n",
    "# get some top-level info about the RAW data\n",
    "channel_names = meta_dict['name']\n",
    "img = meta_dict['metadata']['aicsimage']\n",
    "scale = meta_dict['scale']\n",
    "channel_axis = meta_dict['channel_axis']\n"
   ]
  },
  {
   "cell_type": "code",
   "execution_count": 3,
   "metadata": {},
   "outputs": [],
   "source": [
    "chan_name = 'nuclei'\n",
    "out_path = data_path / \"inferred_objects\" \n",
    "object_name = 'NU_object'\n",
    "\n",
    "#NU_object_filen = export_ome_tiff(NU_object, meta_dict, object_name, str(out_path)+\"/\", curr_chan=0)\n",
    "\n",
    "NU_object, meta_dict_t = read_input_image( out_path/ f\"{object_name}.ome.tiff\" )\n",
    "\n",
    "NU_labels = label(NU_object)\n"
   ]
  },
  {
   "cell_type": "code",
   "execution_count": 4,
   "metadata": {},
   "outputs": [
    {
     "name": "stdout",
     "output_type": "stream",
     "text": [
      "gaussian filtering width (2D) is ~ : 0.6389732147869854 microns, scale:(0.5804527163320905, 0.07987165184837318, 0.07987165184837318)\n",
      "gaussian filtering width (3d) is ~ : [1.1008187175429014, 8.0, 8.0] pixels; :[0.6389732147869854, 0.6389732147869854, 0.6389732147869854] microns\n",
      "mean intensity of the stack: 641.5999045901829\n",
      "the standard deviation of intensity of the stack: 2144.942904845627\n",
      "0.9999 percentile of the stack intensity is: 49648.38039997965\n",
      "minimum intensity of the stack: 0\n",
      "maximum intensity of the stack: 65535\n",
      "suggested upper range is 23.0, which is 49975.2867160396\n",
      "suggested lower range is 0.0, which is 641.5999045901829\n",
      "So, suggested parameter for normalization is [0.0, 23.0]\n",
      "To further enhance the contrast: You may increase the first value (may loss some dim parts), or decrease the second value(may loss some texture in super bright regions)\n",
      "To slightly reduce the contrast: You may decrease the first value, or increase the second value\n"
     ]
    }
   ],
   "source": [
    "\n",
    "###################\n",
    "# INPUT\n",
    "###################\n",
    "\n",
    "# composite_channels = [1,4,5,7]\n",
    "composite_channels = [1,2,3,4] # andy's best guess but maybe need to scale channel 1 (lysosomes) mega\n",
    "# #composite_channels = range(img_data.shape[0]-1)\n",
    "composite_channels = [1]\n",
    "\n",
    "\n",
    "\n",
    "gaussian_smoothing_sigma = 8\n",
    "gaussian_smoothing_truncate_range = 3.0\n",
    "\n",
    "gaussian_smoothing_sigma_3D = [gaussian_smoothing_sigma*scale[2]/x  for x in scale]\n",
    "\n",
    "\n",
    "\n",
    "print(f\"gaussian filtering width (2D) is ~ : { scale[1]*gaussian_smoothing_sigma} microns, scale:{scale}\")\n",
    "print(f\"gaussian filtering width (3d) is ~ : {gaussian_smoothing_sigma_3D} pixels; :{[x*y for x,y in zip(scale,gaussian_smoothing_sigma_3D)]} microns\")\n",
    "\n",
    "aicssegmentation.core.pre_processing_utils.suggest_normalization_param(img_data[1,:,:,:]) #  [0.0, 8]"
   ]
  },
  {
   "cell_type": "markdown",
   "metadata": {},
   "source": [
    "# WORKFLOW #1 \n",
    "\n",
    "Segmentation on the log-scaled Lysosome signal and aggressively filling holes.\n",
    "\n"
   ]
  },
  {
   "cell_type": "code",
   "execution_count": 5,
   "metadata": {},
   "outputs": [
    {
     "name": "stdout",
     "output_type": "stream",
     "text": [
      "intensity normalization: min-max normalization with NO absoluteintensity upper bound\n",
      "intensity normalization: min-max normalization with NO absoluteintensity upper bound\n"
     ]
    },
    {
     "ename": "NameError",
     "evalue": "name 'log_raw' is not defined",
     "output_type": "error",
     "traceback": [
      "\u001b[0;31m---------------------------------------------------------------------------\u001b[0m",
      "\u001b[0;31mNameError\u001b[0m                                 Traceback (most recent call last)",
      "\u001b[1;32m/Users/ahenrie/Projects/Imaging/infer-subc/notebooks/02_infer_soma.ipynb Cell 10\u001b[0m in \u001b[0;36m<cell line: 18>\u001b[0;34m()\u001b[0m\n\u001b[1;32m     <a href='vscode-notebook-cell:/Users/ahenrie/Projects/Imaging/infer-subc/notebooks/02_infer_soma.ipynb#X12sZmlsZQ%3D%3D?line=13'>14</a>\u001b[0m gaussian_smoothing_sigma \u001b[39m=\u001b[39m \u001b[39m4\u001b[39m\n\u001b[1;32m     <a href='vscode-notebook-cell:/Users/ahenrie/Projects/Imaging/infer-subc/notebooks/02_infer_soma.ipynb#X12sZmlsZQ%3D%3D?line=14'>15</a>\u001b[0m gaussian_smoothing_truncate_range \u001b[39m=\u001b[39m \u001b[39m3.0\u001b[39m\n\u001b[0;32m---> <a href='vscode-notebook-cell:/Users/ahenrie/Projects/Imaging/infer-subc/notebooks/02_infer_soma.ipynb#X12sZmlsZQ%3D%3D?line=17'>18</a>\u001b[0m structure_img_smooth \u001b[39m=\u001b[39m image_smoothing_gaussian_slice_by_slice(   log_raw,\n\u001b[1;32m     <a href='vscode-notebook-cell:/Users/ahenrie/Projects/Imaging/infer-subc/notebooks/02_infer_soma.ipynb#X12sZmlsZQ%3D%3D?line=18'>19</a>\u001b[0m                                                                                                                         sigma\u001b[39m=\u001b[39mgaussian_smoothing_sigma,\n\u001b[1;32m     <a href='vscode-notebook-cell:/Users/ahenrie/Projects/Imaging/infer-subc/notebooks/02_infer_soma.ipynb#X12sZmlsZQ%3D%3D?line=19'>20</a>\u001b[0m                                                                                                                         truncate_range\u001b[39m=\u001b[39mgaussian_smoothing_truncate_range,\n\u001b[1;32m     <a href='vscode-notebook-cell:/Users/ahenrie/Projects/Imaging/infer-subc/notebooks/02_infer_soma.ipynb#X12sZmlsZQ%3D%3D?line=20'>21</a>\u001b[0m                                                                                                                     )\n",
      "\u001b[0;31mNameError\u001b[0m: name 'log_raw' is not defined"
     ]
    }
   ],
   "source": [
    "\n",
    "sc_image = intensity_normalization(  img_data[1,:,:,:].copy() ,  scaling_param=[0] )\n",
    "\n",
    "sc_median = median_filter_slice_by_slice( \n",
    "                                                                sc_image,\n",
    "                                                                size=9 )\n",
    "\n",
    "log_image, d = log_transform( sc_median ) \n",
    "log_image = intensity_normalization(  log_image,  scaling_param=[0] )\n",
    "\n",
    "\n",
    "edges = filters.scharr(log_image)\n",
    "\n",
    "\n",
    "gaussian_smoothing_sigma = 4\n",
    "gaussian_smoothing_truncate_range = 3.0\n",
    "\n"
   ]
  },
  {
   "cell_type": "code",
   "execution_count": 16,
   "metadata": {},
   "outputs": [],
   "source": [
    "\n",
    "structure_img_smooth = image_smoothing_gaussian_slice_by_slice(   log_image,\n",
    "                                                                                                                        sigma=gaussian_smoothing_sigma,\n",
    "                                                                                                                        truncate_range=gaussian_smoothing_truncate_range,\n",
    "                                                                                                                    )\n",
    "\n",
    "structure_img = structure_img_smooth + edges"
   ]
  },
  {
   "cell_type": "code",
   "execution_count": 29,
   "metadata": {},
   "outputs": [],
   "source": [
    "###################\n",
    "# CORE_PROCESSING\n",
    "###################\n",
    "\n",
    "##########################################################################\n",
    "# DEFAULT PARAMETERS:\n",
    "#   note that these parameters are supposed to be fixed for the structure\n",
    "#   and work well accross different datasets\n",
    "\n",
    "#intensity_norm_param = [0.5, 15]\n",
    "intensity_norm_param = [0]\n",
    "gaussian_smoothing_sigma = 5\n",
    "gaussian_smoothing_truncate_range = 3.0\n",
    "dot_2d_sigma = 2\n",
    "dot_2d_sigma_extra = 1\n",
    "dot_2d_cutoff = 0.025\n",
    "min_area = 10\n",
    "low_level_min_size =  100\n",
    "#structure_img_smooth = raw_gaussian_filter2D\n",
    "# this is closer to the original \n",
    "bw, _bw_low_level = MO(structure_img, \n",
    "                                                global_thresh_method='ave', \n",
    "                                                object_minArea=low_level_min_size, \n",
    "                                                extra_criteria=True,\n",
    "                                                local_adjust= 0.5, \n",
    "                                                return_object=True,\n",
    "                                                dilate=True)\n",
    "                                                \n"
   ]
  },
  {
   "cell_type": "code",
   "execution_count": 30,
   "metadata": {},
   "outputs": [
    {
     "name": "stdout",
     "output_type": "stream",
     "text": [
      " remove hole size  ~ : 6.3897321478698546 microns, scale:(0.5804527163320905, 0.07987165184837318, 0.07987165184837318)\n",
      " remove small objects  size  ~ : 3.594224333176793 microns, scale:(0.5804527163320905, 0.07987165184837318, 0.07987165184837318)\n"
     ]
    }
   ],
   "source": [
    "\n",
    "###################\n",
    "# POST_PROCESSING (gaussian)\n",
    "###################\n",
    "width = 80  \n",
    "# discount z direction\n",
    "#segmented_soma = remove_small_objects(bw, min_size=width*width*1.5, connectivity=1, in_place=False)\n",
    "#removed_holes = morphology.remove_small_holes(bw, width ** 3 )\n",
    "removed_holes = aicssegmentation.core.utils.hole_filling(bw, hole_min =0. , hole_max=width**2, fill_2d = True) \n",
    "\n",
    "\n",
    "print(f\" remove hole size  ~ : { scale[1]*width} microns, scale:{scale}\")\n",
    "\n",
    "width = 45  \n",
    "cleaned_img = aicssegmentation.core.utils.size_filter(removed_holes, # wrapper to remove_small_objects which can do slice by slice\n",
    "                                                         min_size= width**2, \n",
    "                                                         method = \"slice_by_slice\" ,\n",
    "                                                         connectivity=1)\n",
    "print(f\" remove small objects  size  ~ : { scale[1]*width} microns, scale:{scale}\")\n",
    "\n",
    "#sobel_image = np.abs(ndi.sobel(struct_img))\n",
    "# watershed on the sobel limited by the mask\n",
    "# labels_out = watershed(\n",
    "#         image=np.abs(ndi.sobel(structure_img_composite)),\n",
    "#         markers=NU_labels,\n",
    "#         connectivity=np.ones((3, 3, 3), bool),\n",
    "#         mask=cleaned_img,\n",
    "#     )\n",
    "\n",
    "labels_out = watershed(\n",
    "        image=edges,\n",
    "        markers=NU_labels,\n",
    "        connectivity=np.ones((3, 3, 3), bool),\n",
    "        mask=cleaned_img,\n",
    "    )\n",
    "\n",
    "contour_img = aicssegmentation.core.output_utils.generate_segmentation_contour(cleaned_img)\n",
    "# def generate_segmentation_contour(im):\n",
    "#     \"\"\"generate the contour of the segmentation\"\"\"\n",
    "\n",
    "#     bd = np.logical_xor(erosion(im > 0, selem=ball(1)), im > 0)\n",
    "\n",
    "#     bd = bd.astype(np.uint8)\n",
    "#     bd[bd > 0] = 255\n"
   ]
  },
  {
   "cell_type": "code",
   "execution_count": 31,
   "metadata": {},
   "outputs": [
    {
     "data": {
      "text/plain": [
       "<Labels layer 'labels_simple [1]' at 0x1706305e0>"
      ]
     },
     "execution_count": 31,
     "metadata": {},
     "output_type": "execute_result"
    }
   ],
   "source": [
    "labels_simple = label(cleaned_img)\n",
    "viewer.add_labels(\n",
    "    labels_simple,\n",
    "    scale=scale \n",
    ")\n"
   ]
  },
  {
   "cell_type": "markdown",
   "metadata": {},
   "source": [
    "Find the label with the brightest florescence..\n",
    "\n",
    "Keep the Nuclei with that label.  \n",
    "Mask all the other nuclei.\n",
    "\n",
    "re-label the soma with watershed using the single.\n",
    "\n",
    "\n",
    "\n",
    "find the center of mass of each nuclei.  Use those as seeds for the soma..."
   ]
  },
  {
   "cell_type": "code",
   "execution_count": null,
   "metadata": {},
   "outputs": [],
   "source": [
    "# keep the \"SOMA\" which contains the highest total signal\n",
    "all_labels = np.unique(labels_out)[1:]\n",
    "\n",
    "total_flourescence = [ struct_img[labels_out == label].sum() for label in all_labels]\n",
    "# combine NU and \"labels\" to make a SOMA\n",
    "keep_label = all_labels[np.argmax(total_flourescence)]\n",
    "keep_label"
   ]
  },
  {
   "cell_type": "code",
   "execution_count": 22,
   "metadata": {},
   "outputs": [
    {
     "data": {
      "text/plain": [
       "<Labels layer 'labels_out' at 0x168e07ee0>"
      ]
     },
     "execution_count": 22,
     "metadata": {},
     "output_type": "execute_result"
    }
   ],
   "source": [
    "\n",
    "viewer = napari.view_image(\n",
    "    edges,\n",
    "    scale=scale,\n",
    "    blending='additive',\n",
    "    colormap='magenta',\n",
    ")\n",
    "\n",
    "viewer.add_image(\n",
    "    log_image,\n",
    "    scale=scale \n",
    ")\n",
    "\n",
    "viewer.add_image(\n",
    "    sc_image,\n",
    "    scale=scale \n",
    ")\n",
    "\n",
    "viewer.add_image(\n",
    "    cleaned_img,\n",
    "    scale=scale\n",
    ")\n",
    "viewer.scale_bar.visible = True\n",
    "\n",
    "viewer.add_labels(\n",
    "    labels_out,\n",
    "    scale=scale \n",
    ")\n",
    "\n",
    "\n",
    "# viewer.add_labels(\n",
    "#     contour_img,\n",
    "#     scale=scale \n",
    "# )\n"
   ]
  },
  {
   "cell_type": "code",
   "execution_count": 26,
   "metadata": {},
   "outputs": [
    {
     "data": {
      "text/plain": [
       "<Labels layer 'labels_out2 [1]' at 0x168bafeb0>"
      ]
     },
     "execution_count": 26,
     "metadata": {},
     "output_type": "execute_result"
    }
   ],
   "source": [
    "viewer.add_labels(\n",
    "    labels_out2,\n",
    "    scale=scale \n",
    ")\n"
   ]
  },
  {
   "cell_type": "markdown",
   "metadata": {},
   "source": [
    "# WORKFLOW #2"
   ]
  },
  {
   "cell_type": "code",
   "execution_count": 34,
   "metadata": {},
   "outputs": [
    {
     "name": "stdout",
     "output_type": "stream",
     "text": [
      "gaussian filtering width (2D) is ~ : 0.6389732147869854 microns, scale:(0.5804527163320905, 0.07987165184837318, 0.07987165184837318)\n",
      "gaussian filtering width (3d) is ~ : [1.1008187175429014, 8.0, 8.0] pixels; :[0.6389732147869854, 0.6389732147869854, 0.6389732147869854] microns\n",
      "mean intensity of the stack: 641.5999045901829\n",
      "the standard deviation of intensity of the stack: 2144.942904845627\n",
      "0.9999 percentile of the stack intensity is: 49648.38039997965\n",
      "minimum intensity of the stack: 0\n",
      "maximum intensity of the stack: 65535\n",
      "suggested upper range is 23.0, which is 49975.2867160396\n",
      "suggested lower range is 0.0, which is 641.5999045901829\n",
      "So, suggested parameter for normalization is [0.0, 23.0]\n",
      "To further enhance the contrast: You may increase the first value (may loss some dim parts), or decrease the second value(may loss some texture in super bright regions)\n",
      "To slightly reduce the contrast: You may decrease the first value, or increase the second value\n",
      "intensity normalization: min-max normalization with NO absoluteintensity upper bound\n",
      "intensity normalization: min-max normalization with NO absoluteintensity upper bound\n"
     ]
    },
    {
     "ename": "NameError",
     "evalue": "name 'struct_img_scaled' is not defined",
     "output_type": "error",
     "traceback": [
      "\u001b[0;31m---------------------------------------------------------------------------\u001b[0m",
      "\u001b[0;31mNameError\u001b[0m                                 Traceback (most recent call last)",
      "\u001b[1;32m/Users/ahenrie/Projects/Imaging/infer-subc/notebooks/02_infer_soma.ipynb Cell 20\u001b[0m in \u001b[0;36m<cell line: 71>\u001b[0;34m()\u001b[0m\n\u001b[1;32m     <a href='vscode-notebook-cell:/Users/ahenrie/Projects/Imaging/infer-subc/notebooks/02_infer_soma.ipynb#X25sZmlsZQ%3D%3D?line=65'>66</a>\u001b[0m edges \u001b[39m=\u001b[39m filters\u001b[39m.\u001b[39mscharr(struct_img)\n\u001b[1;32m     <a href='vscode-notebook-cell:/Users/ahenrie/Projects/Imaging/infer-subc/notebooks/02_infer_soma.ipynb#X25sZmlsZQ%3D%3D?line=67'>68</a>\u001b[0m \u001b[39m# ##########################################################################\u001b[39;00m\n\u001b[1;32m     <a href='vscode-notebook-cell:/Users/ahenrie/Projects/Imaging/infer-subc/notebooks/02_infer_soma.ipynb#X25sZmlsZQ%3D%3D?line=68'>69</a>\u001b[0m \u001b[39m# PARAMETERS:\u001b[39;00m\n\u001b[0;32m---> <a href='vscode-notebook-cell:/Users/ahenrie/Projects/Imaging/infer-subc/notebooks/02_infer_soma.ipynb#X25sZmlsZQ%3D%3D?line=70'>71</a>\u001b[0m aicssegmentation\u001b[39m.\u001b[39mcore\u001b[39m.\u001b[39mpre_processing_utils\u001b[39m.\u001b[39msuggest_normalization_param(struct_img_scaled) \u001b[39m#  [0.5, 12.5]\u001b[39;00m\n\u001b[1;32m     <a href='vscode-notebook-cell:/Users/ahenrie/Projects/Imaging/infer-subc/notebooks/02_infer_soma.ipynb#X25sZmlsZQ%3D%3D?line=71'>72</a>\u001b[0m aicssegmentation\u001b[39m.\u001b[39mcore\u001b[39m.\u001b[39mpre_processing_utils\u001b[39m.\u001b[39msuggest_normalization_param(structure_img_smooth) \u001b[39m# [0.5, 9.0]\u001b[39;00m\n\u001b[1;32m     <a href='vscode-notebook-cell:/Users/ahenrie/Projects/Imaging/infer-subc/notebooks/02_infer_soma.ipynb#X25sZmlsZQ%3D%3D?line=72'>73</a>\u001b[0m aicssegmentation\u001b[39m.\u001b[39mcore\u001b[39m.\u001b[39mpre_processing_utils\u001b[39m.\u001b[39msuggest_normalization_param(structure_img_median) \u001b[39m# [0.5, 9.0]\u001b[39;00m\n",
      "\u001b[0;31mNameError\u001b[0m: name 'struct_img_scaled' is not defined"
     ]
    }
   ],
   "source": [
    "\n",
    "###################\n",
    "# INPUT\n",
    "###################\n",
    "\n",
    "composite_channels = [1,4,5,7]\n",
    "#composite_channels = [1,2,3,4] # andy's best guess but maybe need to scale channel 1 (lysosomes) mega\n",
    "#composite_channels = range(img_data.shape[0]-1)\n",
    "composite_channels\n",
    "\n",
    "\n",
    "\n",
    "gaussian_smoothing_sigma = 8\n",
    "gaussian_smoothing_truncate_range = 3.0\n",
    "\n",
    "gaussian_smoothing_sigma_3D = [gaussian_smoothing_sigma*scale[2]/x  for x in scale]\n",
    "\n",
    "\n",
    "\n",
    "print(f\"gaussian filtering width (2D) is ~ : { scale[1]*gaussian_smoothing_sigma} microns, scale:{scale}\")\n",
    "print(f\"gaussian filtering width (3d) is ~ : {gaussian_smoothing_sigma_3D} pixels; :{[x*y for x,y in zip(scale,gaussian_smoothing_sigma_3D)]} microns\")\n",
    "\n",
    "aicssegmentation.core.pre_processing_utils.suggest_normalization_param(img_data[1,:,:,:]) #  [0.0, 8]\n",
    "\n",
    "###################\n",
    "# PRE_PROCESSING\n",
    "###################\n",
    "\n",
    "#truncate_intensity = raw_soma.mean()+raw_soma.std()*3\n",
    "raw_soma_linear = intensity_normalization(  img_data[composite_channels,:,:,:].copy(), scaling_param=[0] ).sum(axis=0)\n",
    "raw_soma_linear = intensity_normalization(  raw_soma_linear, scaling_param=[0] )\n",
    "\n",
    "\n",
    "\n",
    "\n",
    "\n",
    "# non-linear scaling for the aggregate tested below\n",
    "# # scale_parameters = [[0.0, 24.5],\n",
    "# #                                     [0.0, 35.0],\n",
    "# #                                     [0.5, 15.0],\n",
    "# #                                     [1.5, 10.0]]\n",
    "# # hold_it = []\n",
    "\n",
    "struct_img = raw_soma_linear.copy()\n",
    "\n",
    "# smoothing with gaussian filter\n",
    "# 3D alternative: image_smoothing_gaussian_3d(...)\n",
    "gaussian_smoothing_sigma = 3\n",
    "gaussian_smoothing_truncate_range = 3.0\n",
    "\n",
    "med_filter_size = 9\n",
    "#structure_img_median = ndi.median_filter(struct_img,    size=med_filter_size  )\n",
    "\n",
    "structure_img_median = median_filter_slice_by_slice( \n",
    "                                                                struct_img,\n",
    "                                                                size=9 )\n",
    "\n",
    "# log_image, d = log_transform( sc_median ) \n",
    "# log_image = intensity_normalization(  log_image,  scaling_param=[0] )\n",
    "\n",
    "\n",
    "structure_img_smooth = image_smoothing_gaussian_slice_by_slice(   structure_img_median,\n",
    "                                                                                                                        sigma=gaussian_smoothing_sigma,\n",
    "                                                                                                                        truncate_range=gaussian_smoothing_truncate_range,\n",
    "                                                                                                                    )\n",
    "\n",
    "edges = filters.scharr(struct_img)\n",
    "\n"
   ]
  },
  {
   "cell_type": "code",
   "execution_count": 36,
   "metadata": {},
   "outputs": [
    {
     "name": "stdout",
     "output_type": "stream",
     "text": [
      "mean intensity of the stack: 0.022594163479725156\n",
      "the standard deviation of intensity of the stack: 0.035176025031434015\n",
      "0.9999 percentile of the stack intensity is: 0.562098829807297\n",
      "minimum intensity of the stack: 6.00946325238002e-09\n",
      "maximum intensity of the stack: 1.0\n",
      "suggested upper range is 15.5, which is 0.5678225514669525\n",
      "suggested lower range is 0.5, which is 0.0050061509640081485\n",
      "So, suggested parameter for normalization is [0.5, 15.5]\n",
      "To further enhance the contrast: You may increase the first value (may loss some dim parts), or decrease the second value(may loss some texture in super bright regions)\n",
      "To slightly reduce the contrast: You may decrease the first value, or increase the second value\n",
      "mean intensity of the stack: 0.02121846708738522\n",
      "the standard deviation of intensity of the stack: 0.03109671695313\n",
      "0.9999 percentile of the stack intensity is: 0.49197553144795597\n",
      "minimum intensity of the stack: 0.005571961371672658\n",
      "maximum intensity of the stack: 0.7053786193844717\n",
      "suggested upper range is 15.5, which is 0.5032175798609002\n",
      "suggested lower range is 0.5, which is 0.005670108610820219\n",
      "So, suggested parameter for normalization is [0.5, 15.5]\n",
      "To further enhance the contrast: You may increase the first value (may loss some dim parts), or decrease the second value(may loss some texture in super bright regions)\n",
      "To slightly reduce the contrast: You may decrease the first value, or increase the second value\n",
      "mean intensity of the stack: 0.021218103928360828\n",
      "the standard deviation of intensity of the stack: 0.03191390281334251\n",
      "0.9999 percentile of the stack intensity is: 0.5208109846958499\n",
      "minimum intensity of the stack: 0.005015915674606106\n",
      "maximum intensity of the stack: 0.7679201869925036\n",
      "suggested upper range is 16.0, which is 0.5318405489418411\n",
      "suggested lower range is 0.5, which is 0.005261152521689572\n",
      "So, suggested parameter for normalization is [0.5, 16.0]\n",
      "To further enhance the contrast: You may increase the first value (may loss some dim parts), or decrease the second value(may loss some texture in super bright regions)\n",
      "To slightly reduce the contrast: You may decrease the first value, or increase the second value\n"
     ]
    }
   ],
   "source": [
    "\n",
    "# ##########################################################################\n",
    "# PARAMETERS:\n",
    "\n",
    "aicssegmentation.core.pre_processing_utils.suggest_normalization_param(struct_img) #  [0.5, 12.5]\n",
    "aicssegmentation.core.pre_processing_utils.suggest_normalization_param(structure_img_smooth) # [0.5, 9.0]\n",
    "aicssegmentation.core.pre_processing_utils.suggest_normalization_param(structure_img_median) # [0.5, 9.0]\n",
    "# [0.0, 23.5]\n",
    "\n",
    "#intensity_norm_param = [0.5, 15]\n",
    "intensity_norm_param = [0]\n",
    "gaussian_smoothing_sigma = 5\n",
    "gaussian_smoothing_truncate_range = 3.0\n",
    "dot_2d_sigma = 2\n",
    "dot_2d_sigma_extra = 1\n",
    "dot_2d_cutoff = 0.025\n",
    "min_area = 10\n",
    "low_level_min_size =  100\n",
    "#structure_img_smooth = raw_gaussian_filter2D\n",
    "# this is closer to the original \n",
    "bw, _bw_low_level = MO(structure_img_smooth, \n",
    "                                                global_thresh_method='ave', \n",
    "                                                object_minArea=low_level_min_size, \n",
    "                                                extra_criteria=True,\n",
    "                                                local_adjust= 0.25, \n",
    "                                                return_object=True,\n",
    "                                                dilate=True)\n",
    "                                                \n",
    "\n",
    "\n",
    "\n",
    "\n",
    "###################\n",
    "# POST_PROCESSING\n",
    "###################\n",
    "width = 5  \n",
    "# discount z direction\n",
    "#segmented_soma = remove_small_objects(bw, min_size=width*width*1.5, connectivity=1, in_place=False)\n",
    "removed_holes = morphology.remove_small_holes(bw, width ** 3 )\n",
    "\n",
    "width = 6  \n",
    "cleaned_img = aicssegmentation.core.utils.size_filter(removed_holes, # wrapper to remove_small_objects which can do slice by slice\n",
    "                                                         min_size= width**3, \n",
    "                                                         method = \"3D\", #\"slice_by_slice\" \n",
    "                                                         connectivity=1)\n",
    "\n",
    "#sobel_image = np.abs(ndi.sobel(struct_img))\n",
    "# watershed on the sobel limited by the mask\n",
    "\n",
    "\n",
    "labels_out = watershed(\n",
    "        image=edges, #np.abs(ndi.sobel(structure_img_smooth)),\n",
    "        markers=NU_labels,\n",
    "        connectivity=np.ones((3, 3, 3), bool),\n",
    "        mask=cleaned_img,\n",
    "    )\n",
    "\n"
   ]
  },
  {
   "cell_type": "code",
   "execution_count": 37,
   "metadata": {},
   "outputs": [
    {
     "data": {
      "text/plain": [
       "<Labels layer 'labels_out' at 0x171982eb0>"
      ]
     },
     "execution_count": 37,
     "metadata": {},
     "output_type": "execute_result"
    }
   ],
   "source": [
    "\n",
    "viewer = napari.view_image(\n",
    "    edges,\n",
    "    scale=scale,\n",
    "    blending='additive',\n",
    "    colormap='magenta',\n",
    ")\n",
    "\n",
    "viewer.add_image(\n",
    "    structure_img_smooth,\n",
    "    scale=scale \n",
    ")\n",
    "\n",
    "viewer.add_image(\n",
    "    cleaned_img,\n",
    "    scale=scale\n",
    ")\n",
    "viewer.scale_bar.visible = True\n",
    "\n",
    "viewer.add_labels(\n",
    "    labels_out,\n",
    "    scale=scale \n",
    ")\n",
    "\n"
   ]
  },
  {
   "cell_type": "markdown",
   "metadata": {},
   "source": [
    "# workflow 3"
   ]
  },
  {
   "cell_type": "code",
   "execution_count": null,
   "metadata": {},
   "outputs": [],
   "source": [
    "\n",
    "\n",
    "# # workflow 1  in cellProfiler \"cross-entropy\" is Li's method\n",
    "# li_thresholded = structure_img_smooth > filters.threshold_li(structure_img_smooth)\n",
    "\n",
    "#sobel1=np.abs(ndi.sobel(structure_img_med_smooth1))\n",
    "sobel_e=np.abs(ndi.sobel(log_raw))\n",
    "\n"
   ]
  }
 ],
 "metadata": {
  "kernelspec": {
   "display_name": "Python 3.9.13 ('napariNEW')",
   "language": "python",
   "name": "python3"
  },
  "language_info": {
   "codemirror_mode": {
    "name": "ipython",
    "version": 3
   },
   "file_extension": ".py",
   "mimetype": "text/x-python",
   "name": "python",
   "nbconvert_exporter": "python",
   "pygments_lexer": "ipython3",
   "version": "3.9.13"
  },
  "orig_nbformat": 4,
  "vscode": {
   "interpreter": {
    "hash": "d6148ef1fb015fb20f0b6da2ea61c87c6b848bdf3dabb03087e5d5cd0c4607e9"
   }
  }
 },
 "nbformat": 4,
 "nbformat_minor": 2
}
