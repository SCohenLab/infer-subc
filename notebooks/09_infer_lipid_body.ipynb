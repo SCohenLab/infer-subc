{
 "cells": [
  {
   "attachments": {},
   "cell_type": "markdown",
   "metadata": {},
   "source": [
    "# Infer ***lipid body*** - part 9️⃣\n",
    "\n",
    "--------------\n",
    "OBJECTIVE: ✅ Infer sub-cellular component ***lipid body***  in order to understand interactome \n",
    "\n",
    "\n",
    "\n",
    "Dependencies:\n",
    "The  ***lipid body***  inference rely on the cytosol mask.\n"
   ]
  },
  {
   "cell_type": "markdown",
   "metadata": {},
   "source": [
    "\n",
    "## IMPORTS"
   ]
  },
  {
   "cell_type": "code",
   "execution_count": 1,
   "metadata": {},
   "outputs": [],
   "source": [
    "# top level imports\n",
    "from pathlib import Path\n",
    "import os, sys\n",
    "from typing import Optional\n",
    "import numpy as np\n",
    "from typing import Optional\n",
    "\n",
    "\n",
    "from aicssegmentation.core.pre_processing_utils import image_smoothing_gaussian_slice_by_slice\n",
    "from aicssegmentation.core.utils import hole_filling\n",
    "from skimage.measure import label\n",
    "\n",
    "# # package for io \n",
    "from aicsimageio import AICSImage\n",
    "\n",
    "import napari\n",
    "\n",
    "\n",
    "### import local python functions in ../infer_subc_2d\n",
    "sys.path.append(os.path.abspath((os.path.join(os.getcwd(), '..'))))\n",
    "from infer_subc_2d.utils.file_io import (read_czi_image, \n",
    "                                                                    list_image_files)\n",
    "from infer_subc_2d.utils.img import *\n",
    "from infer_subc_2d.constants import (TEST_IMG_N,\n",
    "                                                                    NUC_CH ,\n",
    "                                                                    LYSO_CH ,\n",
    "                                                                    MITO_CH ,\n",
    "                                                                    GOLGI_CH ,\n",
    "                                                                    PEROXI_CH ,\n",
    "                                                                    ER_CH ,\n",
    "                                                                    LIPID_CH ,\n",
    "                                                                    RESIDUAL_CH )        \n",
    "\n",
    "from infer_subc_2d.organelles import fixed_infer_soma, fixed_infer_nuclei, infer_cytosol, find_optimal_Z\n",
    "\n",
    "\n",
    "%load_ext autoreload\n",
    "%autoreload 2\n",
    "\n",
    "\n",
    "test_img_n = TEST_IMG_N"
   ]
  },
  {
   "attachments": {},
   "cell_type": "markdown",
   "metadata": {},
   "source": [
    "\n",
    "## SETUP"
   ]
  },
  {
   "cell_type": "code",
   "execution_count": 2,
   "metadata": {},
   "outputs": [
    {
     "name": "stderr",
     "output_type": "stream",
     "text": [
      "/opt/anaconda3/envs/napariNEW/lib/python3.9/site-packages/ome_types/_convenience.py:105: FutureWarning: The default XML parser will be changing from 'xmlschema' to 'lxml' in version 0.4.0.  To silence this warning, please provide the `parser` argument, specifying either 'lxml' (to opt into the new behavior), or'xmlschema' (to retain the old behavior).\n",
      "  d = to_dict(os.fspath(xml), parser=parser, validate=validate)\n"
     ]
    }
   ],
   "source": [
    "# build the datapath\n",
    "# all the imaging data goes here.\n",
    "data_root_path = Path(os.path.expanduser(\"~\")) / \"Projects/Imaging/data\"\n",
    "\n",
    "# linearly unmixed \".czi\" files are here\n",
    "data_path = data_root_path / \"raw\"\n",
    "im_type = \".czi\"\n",
    "\n",
    "# get the list of all files\n",
    "img_file_list = list_image_files(data_path,im_type)\n",
    "test_img_name = img_file_list[test_img_n]\n",
    "\n",
    "img_data,meta_dict = read_czi_image(test_img_name)\n",
    "\n",
    "# get some top-level info about the RAW data\n",
    "channel_names = meta_dict['name']\n",
    "img = meta_dict['metadata']['aicsimage']\n",
    "scale = meta_dict['scale']\n",
    "channel_axis = meta_dict['channel_axis']\n"
   ]
  },
  {
   "cell_type": "markdown",
   "metadata": {},
   "source": [
    "## CHOOZE Z-SLICE\n",
    "\n",
    "Lets find the slice with the most overall intensity..."
   ]
  },
  {
   "cell_type": "code",
   "execution_count": 3,
   "metadata": {},
   "outputs": [
    {
     "name": "stdout",
     "output_type": "stream",
     "text": [
      "choosing _optimal_ z-slice::: 8\n"
     ]
    }
   ],
   "source": [
    "ch_to_agg = ( LYSO_CH ,\n",
    "                        MITO_CH ,\n",
    "                        GOLGI_CH ,\n",
    "                        PEROXI_CH ,\n",
    "                        ER_CH ,\n",
    "                        LIPID_CH )\n",
    "                            \n",
    "nuc_ch = NUC_CH\n",
    "optimal_Z = find_optimal_Z(img_data, nuc_ch, ch_to_agg) \n",
    "img_2D = select_z_from_raw(img_data, optimal_Z)\n"
   ]
  },
  {
   "attachments": {},
   "cell_type": "markdown",
   "metadata": {},
   "source": [
    "## GET SOMA MASK\n",
    "\n",
    "Find the soma in our chozed Z-slice"
   ]
  },
  {
   "cell_type": "code",
   "execution_count": 4,
   "metadata": {},
   "outputs": [],
   "source": [
    "soma_mask =  fixed_infer_soma(img_2D) "
   ]
  },
  {
   "attachments": {},
   "cell_type": "markdown",
   "metadata": {},
   "source": [
    "## INFER NUCLEI OBJECT\n"
   ]
  },
  {
   "cell_type": "code",
   "execution_count": 5,
   "metadata": {},
   "outputs": [],
   "source": [
    "nuclei_object =  fixed_infer_nuclei(img_2D, soma_mask) \n"
   ]
  },
  {
   "attachments": {},
   "cell_type": "markdown",
   "metadata": {},
   "source": [
    "## GET CYTOSOL MASK\n"
   ]
  },
  {
   "cell_type": "code",
   "execution_count": 6,
   "metadata": {},
   "outputs": [],
   "source": [
    "cytosol_mask =  infer_cytosol( nuclei_object,soma_mask) \n"
   ]
  },
  {
   "attachments": {},
   "cell_type": "markdown",
   "metadata": {},
   "source": [
    "---------------------\n",
    "\n",
    "## infer ***lipid body*** \n",
    "\n",
    "## summary of steps \n",
    "\n",
    "INPUT\n",
    "- ch 7\n",
    "- cytosol mask\n",
    "\n",
    "\n",
    "PRE-PROCESSING\n",
    "- rescale \n",
    "-  median, window 2\n",
    "-  \n",
    "CORE-PROCESSING\n",
    "   - \"robust background\" 2 STD\n",
    "\n",
    "POST-PROCESSING\n",
    "  - n/a\n",
    "\n",
    "OUTPUT\n",
    "- object ***lipid body***\n",
    "\n",
    "\n",
    "\n",
    "\n",
    "NOTE:  consider using [Fibrillarin](https://www.allencell.org/cell-observations/category/fibrillarin) (nucleous marker) workflow from AllenCell.  playground_spotty.ipynb  or maybe [centrin](https://www.allencell.org/cell-observations/category/centrin)\n",
    "\n",
    "\n",
    "Not a good thing to follow from  the Allen Cell Segmenter procedure, but doing more aggressive contrast scaling than their prescribed contrast scaling.\n"
   ]
  },
  {
   "attachments": {},
   "cell_type": "markdown",
   "metadata": {},
   "source": [
    "## INPUT prototype"
   ]
  },
  {
   "cell_type": "code",
   "execution_count": 7,
   "metadata": {},
   "outputs": [],
   "source": [
    "###################\n",
    "# INPUT\n",
    "###################\n",
    "# raw_lipid   = img_2D[LIPID_CH].copy()\n",
    "raw_lipid = select_channel_from_raw(img_2D, LIPID_CH)\n"
   ]
  },
  {
   "attachments": {},
   "cell_type": "markdown",
   "metadata": {},
   "source": [
    "## PRE-PROCESSING prototype"
   ]
  },
  {
   "cell_type": "code",
   "execution_count": 8,
   "metadata": {},
   "outputs": [],
   "source": [
    "###################\n",
    "# PRE_PROCESSING\n",
    "###################\n",
    "struct_img = min_max_intensity_normalization( raw_lipid)\n",
    "\n",
    "med_filter_size = 2   \n",
    "struct_img = median_filter_slice_by_slice( \n",
    "                                                                struct_img,\n",
    "                                                                size=med_filter_size  )\n",
    "\n",
    "gaussian_smoothing_sigma = 1.34\n",
    "struct_img = image_smoothing_gaussian_slice_by_slice(   struct_img,\n",
    "                                                                                                    sigma=gaussian_smoothing_sigma,\n",
    "                                                                                                )\n"
   ]
  },
  {
   "attachments": {},
   "cell_type": "markdown",
   "metadata": {},
   "source": [
    "## CORE PROCESSING prototype"
   ]
  },
  {
   "cell_type": "code",
   "execution_count": 9,
   "metadata": {},
   "outputs": [],
   "source": [
    "\n",
    "###################\n",
    "# CORE_PROCESSING\n",
    "###################\n",
    "\n",
    "threshold_factor = 0.99 #from cellProfiler\n",
    "thresh_min = .5\n",
    "thresh_max = 1.\n",
    "otsu_thresholded = apply_threshold(struct_img, method= \"otsu\", thresh_factor=threshold_factor, thresh_min=thresh_min, thresh_max=thresh_max)\n"
   ]
  },
  {
   "attachments": {},
   "cell_type": "markdown",
   "metadata": {},
   "source": [
    "## POST-PROCESSING prototype"
   ]
  },
  {
   "cell_type": "code",
   "execution_count": 10,
   "metadata": {},
   "outputs": [],
   "source": [
    "\n",
    "###################\n",
    "# POST_PROCESSING\n",
    "###################\n",
    "# # wrapper to remoce_small_objects\n",
    "hole_min = 0\n",
    "hole_max = 2.5\n",
    "bw = hole_filling(otsu_thresholded, hole_min=hole_min**2, hole_max=hole_max**2, fill_2d=True)\n",
    "\n",
    "struct_obj = apply_mask(bw, cytosol_mask)\n",
    "\n",
    "small_object_width = 4\n",
    "\n",
    "struct_obj = size_filter_linear_size(struct_obj, # wrapper to remove_small_objects which can do slice by slice\n",
    "                                                         min_size= small_object_width ** 2, \n",
    "                                                         connectivity=1)\n",
    "\n",
    "\n",
    "lipid_object = struct_obj\n",
    "lipid_labels = label( lipid_object   )\n"
   ]
  },
  {
   "cell_type": "markdown",
   "metadata": {},
   "source": [
    "#### Visualize with `napari`\n",
    "Visualize the first-pass segmentation and labeling with `napari`."
   ]
  },
  {
   "cell_type": "code",
   "execution_count": 11,
   "metadata": {},
   "outputs": [],
   "source": [
    "\n",
    "viewer = napari.view_image(\n",
    "    lipid_object,\n",
    "    scale=scale\n",
    ")\n",
    "\n"
   ]
  },
  {
   "cell_type": "code",
   "execution_count": 12,
   "metadata": {},
   "outputs": [
    {
     "data": {
      "text/plain": [
       "<Labels layer 'lipid_labels' at 0x180847040>"
      ]
     },
     "execution_count": 12,
     "metadata": {},
     "output_type": "execute_result"
    }
   ],
   "source": [
    "\n",
    "viewer.scale_bar.visible = True\n",
    "viewer.add_image(\n",
    "    struct_img,\n",
    "    scale=scale\n",
    ")\n",
    "\n",
    "viewer.add_labels(\n",
    "    lipid_labels,\n",
    "    scale=scale\n",
    ")"
   ]
  },
  {
   "cell_type": "code",
   "execution_count": 13,
   "metadata": {},
   "outputs": [
    {
     "data": {
      "text/plain": [
       "<Image layer 'lipid_object [1]' at 0x180daf280>"
      ]
     },
     "execution_count": 13,
     "metadata": {},
     "output_type": "execute_result"
    }
   ],
   "source": [
    "viewer.add_image(\n",
    "    lipid_object,\n",
    "    scale=scale\n",
    ")\n",
    "\n"
   ]
  },
  {
   "attachments": {},
   "cell_type": "markdown",
   "metadata": {},
   "source": [
    "## DEFINE `infer_lipid_body` function\n",
    "\n",
    "Based on the _prototyping_ above define the function to infer the lipid boty.  \n"
   ]
  },
  {
   "cell_type": "code",
   "execution_count": 14,
   "metadata": {},
   "outputs": [],
   "source": [
    "##########################\n",
    "#  infer_endoplasmic_reticulum\n",
    "##########################\n",
    "def _infer_lipid_body(\n",
    "                            in_img: np.ndarray,\n",
    "                            cytosol_mask: np.ndarray,\n",
    "                            median_sz: int,\n",
    "                            gauss_sig: float,\n",
    "                            method: str,\n",
    "                            thresh_factor: float,\n",
    "                            thresh_min: float,\n",
    "                            thresh_max: float,\n",
    "                            max_hole_w: int,\n",
    "                            small_obj_w: int,\n",
    "                        ) -> np.ndarray:\n",
    "    \"\"\"\n",
    "    Procedure to infer peroxisome from linearly unmixed input.\n",
    "\n",
    "    Parameters\n",
    "    ------------\n",
    "    in_img: \n",
    "        a 3d image containing all the channels\n",
    "    cytosol_mask: \n",
    "        mask of cytosol\n",
    "    median_sz: \n",
    "        width of median filter for signal\n",
    "    gauss_sig: \n",
    "        sigma for gaussian smoothing of  signal\n",
    "    method: \n",
    "        method for applying threshold.  \"otsu\"  or \"li\", \"triangle\", \"median\", \"ave\", \"sauvola\",\"multi_otsu\",\"muiltiotsu\"\n",
    "    thresh_factor:\n",
    "        scaling value for threshold\n",
    "    thresh_min:\n",
    "        absolute minumum for threshold\n",
    "    thresh_max:\n",
    "        absolute maximum for threshold\n",
    "    max_hole_w: \n",
    "        hole filling cutoff for lipid post-processing\n",
    "    small_obj_w: \n",
    "        minimu object size cutoff for lipid post-processing\n",
    "    Returns\n",
    "    -------------\n",
    "    peroxi_object\n",
    "        mask defined extent of peroxisome object\n",
    "    \"\"\"\n",
    "    lipid_ch = LIPID_CH\n",
    "    ###################\n",
    "    # EXTRACT\n",
    "    ###################    \n",
    "    lipid = select_channel_from_raw(in_img, lipid_ch)\n",
    "    ###################\n",
    "    # PRE_PROCESSING\n",
    "    ###################                         \n",
    "    lipid = min_max_intensity_normalization(lipid)\n",
    "\n",
    "    lipid = median_filter_slice_by_slice(lipid, size=median_sz)\n",
    "\n",
    "    lipid = image_smoothing_gaussian_slice_by_slice(lipid, sigma=gauss_sig)\n",
    "\n",
    "    ###################\n",
    "    # CORE_PROCESSING\n",
    "    ###################\n",
    "    bw = apply_threshold(lipid, \n",
    "                                            method= method, \n",
    "                                            thresh_factor=thresh_factor, \n",
    "                                            thresh_min=thresh_min, \n",
    "                                            thresh_max=thresh_max)\n",
    "\n",
    "\n",
    "    ###################\n",
    "    # POST_PROCESSING\n",
    "    ###################\n",
    "    min_hole_w = 0\n",
    "    struct_obj = hole_filling(bw, hole_min=min_hole_w**2, hole_max=max_hole_w**2, fill_2d=True)\n",
    "\n",
    "    struct_obj = apply_mask(struct_obj, cytosol_mask)\n",
    "\n",
    "    struct_obj = size_filter_linear_size(struct_obj, # wrapper to remove_small_objects which can do slice by slice\n",
    "                                                            min_size= small_obj_w ** 2, \n",
    "                                                            connectivity=1)\n",
    "\n",
    "    return struct_obj\n",
    "\n"
   ]
  },
  {
   "cell_type": "code",
   "execution_count": 15,
   "metadata": {},
   "outputs": [],
   "source": [
    "\n",
    "\n",
    "##########################\n",
    "#  fixed_infer_lipid_body\n",
    "##########################\n",
    "def _fixed_infer_lipid_body(in_img: np.ndarray, cytosol_mask: Optional[np.ndarray] = None) -> np.ndarray:\n",
    "    \"\"\"\n",
    "    Procedure to infer soma from linearly unmixed input, with a *fixed* set of parameters for each step in the procedure.  i.e. \"hard coded\"\n",
    "\n",
    "    Parameters\n",
    "    ------------\n",
    "    in_img: \n",
    "        a 3d image containing all the channels\n",
    "    cytosol_mask: \n",
    "        mask - default=None\n",
    "\n",
    "    Returns\n",
    "    -------------\n",
    "    lipid_body_object\n",
    "        mask defined extent of liipid body\n",
    "\n",
    "    \"\"\"\n",
    "\n",
    "    median_sz = 2   \n",
    "    gauss_sig = 1.34\n",
    "    method = \"otsu\"\n",
    "    threshold_factor = 0.99 #from cellProfiler\n",
    "    thresh_min = .5\n",
    "    thresh_max = 1.\n",
    "    max_hole_w = 2.5\n",
    "    small_obj_w = 4\n",
    "\n",
    "    return _infer_lipid_body(\n",
    "        in_img, cytosol_mask, median_sz, gauss_sig, method, threshold_factor, thresh_min, thresh_max, max_hole_w, small_obj_w\n",
    "    )\n"
   ]
  },
  {
   "cell_type": "markdown",
   "metadata": {},
   "source": [
    "# TEST  `infer_lipid_body` function"
   ]
  },
  {
   "cell_type": "code",
   "execution_count": 16,
   "metadata": {},
   "outputs": [],
   "source": [
    "\n",
    "_lipid_obj =  _fixed_infer_lipid_body(img_2D, cytosol_mask) "
   ]
  },
  {
   "cell_type": "code",
   "execution_count": 17,
   "metadata": {},
   "outputs": [
    {
     "ename": "ImportError",
     "evalue": "cannot import name 'fixed_infer_lipid_body' from 'infer_subc_2d.organelles' (/Users/ahenrie/Projects/Imaging/infer-subc-2D/infer_subc_2d/organelles/__init__.py)",
     "output_type": "error",
     "traceback": [
      "\u001b[0;31m---------------------------------------------------------------------------\u001b[0m",
      "\u001b[0;31mImportError\u001b[0m                               Traceback (most recent call last)",
      "\u001b[1;32m/Users/ahenrie/Projects/Imaging/infer-subc-2D/notebooks/09_infer_lipid_body.ipynb Cell 32\u001b[0m in \u001b[0;36m<cell line: 1>\u001b[0;34m()\u001b[0m\n\u001b[0;32m----> <a href='vscode-notebook-cell:/Users/ahenrie/Projects/Imaging/infer-subc-2D/notebooks/09_infer_lipid_body.ipynb#X42sZmlsZQ%3D%3D?line=0'>1</a>\u001b[0m \u001b[39mfrom\u001b[39;00m \u001b[39minfer_subc_2d\u001b[39;00m\u001b[39m.\u001b[39;00m\u001b[39morganelles\u001b[39;00m \u001b[39mimport\u001b[39;00m fixed_infer_lipid_body\n\u001b[1;32m      <a href='vscode-notebook-cell:/Users/ahenrie/Projects/Imaging/infer-subc-2D/notebooks/09_infer_lipid_body.ipynb#X42sZmlsZQ%3D%3D?line=2'>3</a>\u001b[0m lipid_obj \u001b[39m=\u001b[39m  fixed_infer_lipid_body(img_2D, cytosol_mask)\n",
      "\u001b[0;31mImportError\u001b[0m: cannot import name 'fixed_infer_lipid_body' from 'infer_subc_2d.organelles' (/Users/ahenrie/Projects/Imaging/infer-subc-2D/infer_subc_2d/organelles/__init__.py)"
     ]
    }
   ],
   "source": [
    "from infer_subc_2d.organelles import fixed_infer_lipid_body\n",
    "\n",
    "lipid_obj =  fixed_infer_lipid_body(img_2D, cytosol_mask) "
   ]
  },
  {
   "attachments": {},
   "cell_type": "markdown",
   "metadata": {},
   "source": [
    "## Visualize  2\n"
   ]
  },
  {
   "cell_type": "code",
   "execution_count": null,
   "metadata": {},
   "outputs": [
    {
     "data": {
      "text/plain": [
       "<Labels layer 'Labels' at 0x1889d4ee0>"
      ]
     },
     "execution_count": 29,
     "metadata": {},
     "output_type": "execute_result"
    }
   ],
   "source": [
    "\n",
    "viewer.add_image(\n",
    "    _lipid_obj,\n",
    "    scale=scale\n",
    ")\n",
    "\n",
    "viewer.add_image(\n",
    "    lipid_obj,\n",
    "    scale=scale\n",
    ")\n",
    "viewer.add_labels(\n",
    "    label(lipid_obj),\n",
    "    scale=scale\n",
    ")"
   ]
  },
  {
   "cell_type": "code",
   "execution_count": null,
   "metadata": {},
   "outputs": [
    {
     "data": {
      "image/png": "[encoded data removed]",
      "text/html": [
       "<img src=\"data:image/png;base64,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\"></img>"
      ],
      "text/plain": [
       "<napari.utils.notebook_display.NotebookScreenshot at 0x186dd6e20>"
      ]
     },
     "execution_count": 30,
     "metadata": {},
     "output_type": "execute_result"
    }
   ],
   "source": [
    "from napari.utils.notebook_display import nbscreenshot\n",
    "\n",
    "# viewer.dims.ndisplay = 3\n",
    "# viewer.camera.angles = (-30, 25, 120)\n",
    "nbscreenshot(viewer, canvas_only=True)"
   ]
  },
  {
   "cell_type": "code",
   "execution_count": null,
   "metadata": {},
   "outputs": [],
   "source": [
    "viewer.close()"
   ]
  },
  {
   "attachments": {},
   "cell_type": "markdown",
   "metadata": {},
   "source": [
    "-----------------\n",
    "Write the `infer_endoplasmic_reticulum` spec to the widget json "
   ]
  },
  {
   "cell_type": "code",
   "execution_count": null,
   "metadata": {},
   "outputs": [
    {
     "name": "stdout",
     "output_type": "stream",
     "text": [
      "function fixed_infer_lipid is already in all_functions.json\n"
     ]
    },
    {
     "data": {
      "text/plain": [
       "0"
      ]
     },
     "execution_count": 31,
     "metadata": {},
     "output_type": "execute_result"
    }
   ],
   "source": [
    "from infer_subc_2d.organelles_config.helper import add_function_spec_to_widget_json\n",
    "\n",
    "_fixed_infer_lipid=  {\n",
    "        \"name\": \"infer lipid bodies (fixed parameters)\",\n",
    "        \"python::module\": \"infer_subc_2d.organelles\",\n",
    "        \"python::function\": \"fixed_infer_lipid\",\n",
    "        \"parameters\": None\n",
    "        }\n",
    "\n",
    "add_function_spec_to_widget_json(\"fixed_infer_lipid\",_fixed_infer_lipid)"
   ]
  },
  {
   "cell_type": "code",
   "execution_count": null,
   "metadata": {},
   "outputs": [
    {
     "name": "stdout",
     "output_type": "stream",
     "text": [
      "function infer_lipid is already in all_functions.json\n",
      "overwriting  infer_lipid\n"
     ]
    },
    {
     "data": {
      "text/plain": [
       "1"
      ]
     },
     "execution_count": 32,
     "metadata": {},
     "output_type": "execute_result"
    }
   ],
   "source": [
    "\n",
    "_infer_lipid =  {\n",
    "        \"name\": \"infer lipid\",\n",
    "        \"python::module\": \"infer_subc_2d.organelles\",\n",
    "        \"python::function\": \"infer_lipid\",\n",
    "        \"parameters\": {\n",
    "                \"median_sz\": {\n",
    "                        \"widget_type\": \"slider\",\n",
    "                        \"data_type\": \"int\",\n",
    "                        \"min\": 3,\n",
    "                        \"max\": 15,\n",
    "                        \"increment\": 1\n",
    "                },\n",
    "                \"gauss_sig\": {\n",
    "                        \"data_type\": \"float\",\n",
    "                        \"increment\": 0.25,\n",
    "                        \"max\": 15.0,\n",
    "                        \"min\": 1.25,\n",
    "                        \"widget_type\": \"slider\"\n",
    "                },\n",
    "                \"method\": {\n",
    "                        \"data_type\": \"str\",\n",
    "                        \"widget_type\": \"drop-down\",\n",
    "                        \"options\": [\n",
    "                                \"otsu\",\n",
    "                                \"li\",\n",
    "                                \"triangle\",\n",
    "                                \"median\",\n",
    "                                \"ave_tri_med\"\n",
    "                        ]\n",
    "                },\n",
    "                \"thresh_factor\": {\n",
    "                        \"data_type\": \"float\",\n",
    "                        \"increment\": 0.05,\n",
    "                        \"max\": 1.2,\n",
    "                        \"min\": 0.6,\n",
    "                        \"widget_type\": \"slider\"\n",
    "                },\n",
    "                \"thresh_min\": {\n",
    "                        \"data_type\": \"float\",\n",
    "                        \"increment\": 0.05,\n",
    "                        \"max\": .9,\n",
    "                        \"min\": 0.0,\n",
    "                        \"widget_type\": \"slider\"\n",
    "                },\n",
    "                \"thresh_max\": {\n",
    "                        \"data_type\": \"float\",\n",
    "                        \"increment\": 0.05,\n",
    "                        \"max\": 1.0,\n",
    "                        \"min\": 0.1,\n",
    "                        \"widget_type\": \"slider\"\n",
    "                },\n",
    "                \"max_hole_w\": {\n",
    "                        \"data_type\": \"int\",\n",
    "                        \"increment\": 1,\n",
    "                        \"max\": 40,\n",
    "                        \"min\": 4,\n",
    "                        \"widget_type\": \"slider\"\n",
    "                },           \n",
    "                \"small_obj_w\": {\n",
    "                        \"data_type\": \"int\",\n",
    "                        \"increment\": 1,\n",
    "                        \"max\": 50,\n",
    "                        \"min\": 1,\n",
    "                        \"widget_type\": \"slider\"\n",
    "                }\n",
    "        }\n",
    "}\n",
    "\n",
    "add_function_spec_to_widget_json(\"infer_lipid\", _infer_lipid, overwrite=True )\n",
    "\n"
   ]
  },
  {
   "attachments": {},
   "cell_type": "markdown",
   "metadata": {},
   "source": [
    "##  helper function definitions\n",
    "\n",
    "Wrappers for vessleness filters"
   ]
  },
  {
   "cell_type": "code",
   "execution_count": null,
   "metadata": {},
   "outputs": [
    {
     "name": "stdout",
     "output_type": "stream",
     "text": [
      "function apply_threshold is already in all_functions.json\n",
      "overwriting  apply_threshold\n"
     ]
    },
    {
     "data": {
      "text/plain": [
       "1"
      ]
     },
     "execution_count": 36,
     "metadata": {},
     "output_type": "execute_result"
    }
   ],
   "source": [
    "from infer_subc_2d.organelles_config.helper import add_function_spec_to_widget_json\n",
    "\n",
    "_apply_threshold =  {\n",
    "        \"name\": \"Apply Threshold\",\n",
    "        \"python::module\": \"infer_subc_2d.utils.img\",\n",
    "        \"python::function\": \"apply_threshold\",\n",
    "        \"parameters\": {\n",
    "                \"method\": {\n",
    "                        \"data_type\": \"str\",\n",
    "                        \"widget_type\": \"drop-down\",\n",
    "                        \"options\": [\n",
    "                                \"otsu\",\n",
    "                                \"li\",\n",
    "                                \"triangle\",\n",
    "                                \"median\",\n",
    "                                \"ave_tri_med\"\n",
    "                        ]\n",
    "                },\n",
    "                \"thresh_factor\": {\n",
    "                        \"data_type\": \"float\",\n",
    "                        \"increment\": 0.05,\n",
    "                        \"max\": 1.2,\n",
    "                        \"min\": 0.6,\n",
    "                        \"widget_type\": \"slider\"\n",
    "                },\n",
    "                \"thresh_min\": {\n",
    "                        \"data_type\": \"float\",\n",
    "                        \"increment\": 0.05,\n",
    "                        \"max\": .9,\n",
    "                        \"min\": 0.0,\n",
    "                        \"widget_type\": \"slider\"\n",
    "                },\n",
    "                \"thresh_max\": {\n",
    "                        \"data_type\": \"float\",\n",
    "                        \"increment\": 0.05,\n",
    "                        \"max\": 1.0,\n",
    "                        \"min\": 0.1,\n",
    "                        \"widget_type\": \"slider\"\n",
    "                },\n",
    "        }\n",
    "}\n",
    "\n",
    "add_function_spec_to_widget_json(\"apply_threshold\",_apply_threshold,overwrite=True)"
   ]
  },
  {
   "attachments": {},
   "cell_type": "markdown",
   "metadata": {},
   "source": [
    "-------------------------------\n",
    "## Write workflow .json\n",
    "Now that we've added our function specs we can compose workflows."
   ]
  },
  {
   "cell_type": "code",
   "execution_count": null,
   "metadata": {},
   "outputs": [],
   "source": [
    "from infer_subc_2d.constants import LIPID_CH\n",
    "\n",
    "def make_infer_lipid_step_by_step_from_raw_dict():\n",
    "    \"\"\"\n",
    "    Procedure to infer lipid from linearly unmixed input.\n",
    "\n",
    "    Parameters\n",
    "    ------------\n",
    "    in_img: np.ndarray\n",
    "        a 3d image containing all the channels\n",
    "\n",
    "    soma_mask: np.ndarray\n",
    "        mask\n",
    "\n",
    "    Returns\n",
    "    -------------\n",
    "    lipid_object\n",
    "        mask defined extent of NU\n",
    "\n",
    "    \"\"\"\n",
    "    step_name = []\n",
    "    function_name = []\n",
    "    category =[]\n",
    "    parameter_values = []\n",
    "    parent = []\n",
    "   \n",
    "    step_name.append(\"1\")\n",
    "    function_name.append(\"fixed_get_optimal_Z_img\")\n",
    "    category.append(\"extraction\")\n",
    "    parameter_values.append(None)\n",
    "    parent.append(0)\n",
    "\n",
    "    step_name.append(\"2\")\n",
    "    function_name.append(\"fixed_infer_soma\")\n",
    "    category.append(\"extraction\")\n",
    "    parameter_values.append( None )\n",
    "    parent.append(1)\n",
    "\n",
    "    step_name.append(\"3\")\n",
    "    function_name.append(\"fixed_infer_nuclei\")\n",
    "    category.append(\"extraction\")\n",
    "    parameter_values.append( None )\n",
    "    parent.append([1,2])\n",
    "\n",
    "    step_name.append(\"4\")\n",
    "    function_name.append(\"infer_cytosol\")\n",
    "    category.append(\"extraction\")\n",
    "    parameter_values.append(dict(erode_nuclei = True ))\n",
    "    parent.append([2,3])\n",
    "\n",
    "    step_name.append(\"5\")\n",
    "    function_name.append(\"select_channel_from_raw\")\n",
    "    category.append(\"extraction\")\n",
    "    parameter_values.append( dict(chan = LIPID_CH) )\n",
    "    parent.append(1)\n",
    "    \n",
    "    step_name.append(\"6\")\n",
    "    function_name.append(\"min_max_intensity_normalization\")\n",
    "    category.append(\"preprocessing\")\n",
    "    parameter_values.append(None)\n",
    "    parent.append(5)\n",
    "\n",
    "    step_name.append(\"7\")\n",
    "    function_name.append(\"median_filter_slice_by_slice\")\n",
    "    category.append(\"preprocessing\")\n",
    "    parameter_values.append(dict(size = 4 ))\n",
    "    parent.append(6)\n",
    "\n",
    "    step_name.append(\"8\")\n",
    "    function_name.append(\"image_smoothing_gaussian_slice_by_slice\")\n",
    "    category.append(\"preprocessing\")\n",
    "    parameter_values.append(dict( sigma = 1.34 ))\n",
    "    parent.append(7)\n",
    "\n",
    "    step_name.append(\"9\")\n",
    "    function_name.append(\"apply_threshold\")\n",
    "    category.append(\"core\")\n",
    "    parameter_values.append(dict(method = \"otsu\",\n",
    "                                                            thresh_factor = 0.99, \n",
    "                                                            thresh_min = .5,\n",
    "                                                            thresh_max = 1.))\n",
    "    parent.append(8)\n",
    "\n",
    "    step_name.append(\"10\")\n",
    "    function_name.append(\"hole_filling\")\n",
    "    category.append(\"postprocessing\")\n",
    "    parameter_values.append(dict( hole_min=0, hole_max=2.5**2, fill_2d=True))\n",
    "    parent.append(9)\n",
    "\n",
    "    step_name.append(\"11\")\n",
    "    function_name.append(\"apply_mask\")\n",
    "    category.append(\"postprocessing\")\n",
    "    parameter_values.append(None)\n",
    "    parent.append([10,4])\n",
    "\n",
    "    step_name.append(\"12\")\n",
    "    function_name.append(\"size_filter_linear_size\")\n",
    "    category.append(\"postprocessing\")\n",
    "    parameter_values.append(dict( min_size = 4**2  ))\n",
    "    parent.append(6)\n",
    "\n",
    "    out_dict = dict()\n",
    "    for i,stepn in enumerate(step_name):\n",
    "        entry = dict(category=category[i],\n",
    "                            function=function_name[i],\n",
    "                            parameter_values=parameter_values[i],\n",
    "                            parent=parent[i]\n",
    "        )\n",
    "        if entry['parameter_values'] is None:\n",
    "            _ = entry.pop('parameter_values')\n",
    "        out_dict[stepn] = entry\n",
    "        \n",
    "    return out_dict"
   ]
  },
  {
   "cell_type": "code",
   "execution_count": null,
   "metadata": {},
   "outputs": [
    {
     "data": {
      "text/plain": [
       "PosixPath('/Users/ahenrie/Projects/Imaging/infer-subc-2D/infer_subc_2d/organelles_config/conf_1.9.lipid_stepbystep_from_raw.json')"
      ]
     },
     "execution_count": 35,
     "metadata": {},
     "output_type": "execute_result"
    }
   ],
   "source": [
    "from infer_subc_2d.organelles_config.helper import write_workflow_json\n",
    "\n",
    "infer_lipid_stepbystep_from_raw_dict = make_infer_lipid_step_by_step_from_raw_dict()\n",
    "\n",
    "write_workflow_json(\"conf_1.9.lipid_stepbystep_from_raw\", infer_lipid_stepbystep_from_raw_dict)"
   ]
  },
  {
   "attachments": {},
   "cell_type": "markdown",
   "metadata": {},
   "source": [
    "-------------\n",
    "## SUMMARY\n",
    "\n",
    "The above details how the endoplasmic lipid body is inferred.  \n",
    "\n",
    "###  THATS IT!\n"
   ]
  }
 ],
 "metadata": {
  "kernelspec": {
   "display_name": "Python 3.9.13 ('napariNEW')",
   "language": "python",
   "name": "python3"
  },
  "language_info": {
   "codemirror_mode": {
    "name": "ipython",
    "version": 3
   },
   "file_extension": ".py",
   "mimetype": "text/x-python",
   "name": "python",
   "nbconvert_exporter": "python",
   "pygments_lexer": "ipython3",
   "version": "3.9.13 | packaged by conda-forge | (main, May 27 2022, 17:00:52) \n[Clang 13.0.1 ]"
  },
  "orig_nbformat": 4,
  "vscode": {
   "interpreter": {
    "hash": "d6148ef1fb015fb20f0b6da2ea61c87c6b848bdf3dabb03087e5d5cd0c4607e9"
   }
  }
 },
 "nbformat": 4,
 "nbformat_minor": 2
}
