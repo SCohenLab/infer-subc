{
 "cells": [
  {
   "attachments": {},
   "cell_type": "markdown",
   "metadata": {},
   "source": [
    "# Infer ***lipid body*** - part 9️⃣\n",
    "\n",
    "--------------\n",
    "OBJECTIVE: ✅ Infer sub-cellular component ***lipid body***  in order to understand interactome \n",
    "\n",
    "\n",
    "\n",
    "Dependencies:\n",
    "The  ***lipid body***  inference rely on the cytosol mask.\n"
   ]
  },
  {
   "cell_type": "markdown",
   "metadata": {},
   "source": [
    "\n",
    "## IMPORTS"
   ]
  },
  {
   "cell_type": "code",
   "execution_count": 1,
   "metadata": {},
   "outputs": [],
   "source": [
    "# top level imports\n",
    "from pathlib import Path\n",
    "import os, sys\n",
    "from typing import Optional\n",
    "import numpy as np\n",
    "\n",
    "\n",
    "from aicssegmentation.core.pre_processing_utils import image_smoothing_gaussian_slice_by_slice\n",
    "from aicssegmentation.core.utils import hole_filling\n",
    "from skimage.measure import label\n",
    "\n",
    "import napari\n",
    "\n",
    "### import local python functions in ../infer_subc_2d\n",
    "sys.path.append(os.path.abspath((os.path.join(os.getcwd(), '..'))))\n",
    "\n",
    "\n",
    "from infer_subc_2d.utils.file_io import (read_czi_image,\n",
    "                                                                    read_ome_image,\n",
    "                                                                    export_inferred_organelle,\n",
    "                                                                    import_inferred_organelle,\n",
    "                                                                    list_image_files)\n",
    "\n",
    "from infer_subc_2d.utils.img import *\n",
    "\n",
    "from infer_subc_2d.organelles import fixed_infer_soma_MCZ, fixed_infer_nuclei, infer_cytosol\n",
    "\n",
    "\n",
    "%load_ext autoreload\n",
    "%autoreload 2\n"
   ]
  },
  {
   "cell_type": "code",
   "execution_count": 2,
   "metadata": {},
   "outputs": [],
   "source": [
    "# NOTE:  these \"constants\" are only accurate for the testing MCZ dataset\n",
    "from infer_subc_2d.constants import (TEST_IMG_N,\n",
    "                                                                    NUC_CH ,\n",
    "                                                                    LYSO_CH ,\n",
    "                                                                    MITO_CH ,\n",
    "                                                                    GOLGI_CH ,\n",
    "                                                                    PEROXI_CH ,\n",
    "                                                                    ER_CH ,\n",
    "                                                                    LIPID_CH ,\n",
    "                                                                    RESIDUAL_CH )              "
   ]
  },
  {
   "attachments": {},
   "cell_type": "markdown",
   "metadata": {},
   "source": [
    "\n",
    "## SETUP"
   ]
  },
  {
   "cell_type": "code",
   "execution_count": 3,
   "metadata": {},
   "outputs": [],
   "source": [
    "# this will be the example image for testing the pipeline below\n",
    "test_img_n = TEST_IMG_N\n",
    "\n",
    "# build the datapath\n",
    "# all the imaging data goes here.\n",
    "data_root_path = Path(os.path.expanduser(\"~\")) / \"Projects/Imaging/data\"\n",
    "\n",
    "# linearly unmixed \".czi\" files are here\n",
    "in_data_path = data_root_path / \"raw\"\n",
    "im_type = \".czi\"\n",
    "\n",
    "# get the list of all files\n",
    "img_file_list = list_image_files(in_data_path,im_type)\n",
    "test_img_name = img_file_list[test_img_n]\n",
    "\n",
    "# save output \".tiff\" files here\n",
    "out_data_path = data_root_path / \"out\"\n",
    "\n",
    "if not Path.exists(out_data_path):\n",
    "    Path.mkdir(out_data_path)\n",
    "    print(f\"making {out_data_path}\")"
   ]
  },
  {
   "cell_type": "code",
   "execution_count": 4,
   "metadata": {},
   "outputs": [
    {
     "name": "stderr",
     "output_type": "stream",
     "text": [
      "/opt/anaconda3/envs/napariNEW/lib/python3.9/site-packages/ome_types/_convenience.py:106: FutureWarning: The default XML parser will be changing from 'xmlschema' to 'lxml' in version 0.4.0.  To silence this warning, please provide the `parser` argument, specifying either 'lxml' (to opt into the new behavior), or'xmlschema' (to retain the old behavior).\n",
      "  d = to_dict(os.fspath(xml), parser=parser, validate=validate)\n"
     ]
    }
   ],
   "source": [
    "img_data,meta_dict = read_czi_image(test_img_name)\n",
    "\n",
    "# get some top-level info about the RAW data\n",
    "channel_names = meta_dict['name']\n",
    "img = meta_dict['metadata']['aicsimage']\n",
    "scale = meta_dict['scale']\n",
    "channel_axis = meta_dict['channel_axis']\n"
   ]
  },
  {
   "attachments": {},
   "cell_type": "markdown",
   "metadata": {},
   "source": [
    "## GET CYTOSOL MASK\n"
   ]
  },
  {
   "cell_type": "code",
   "execution_count": 5,
   "metadata": {},
   "outputs": [
    {
     "name": "stdout",
     "output_type": "stream",
     "text": [
      "loaded cytosol mask from /Users/ahenrie/Projects/Imaging/data/out\n"
     ]
    }
   ],
   "source": [
    "# nuclei_fname = \"/Users/ahenrie/Projects/Imaging/data/out/nuclei_ZSTACK_PBTOhNGN2hiPSCs_BR3_N04_Unmixed.ome.tiff\"\n",
    "\n",
    "cytosol_mask = import_inferred_organelle(\"cytosol\", meta_dict, out_data_path)\n",
    "\n",
    "if cytosol_mask is None:\n",
    "    nuclei =  fixed_infer_nuclei(img_data) \n",
    "    soma = fixed_infer_soma_MCZ(img_data, nuclei)\n",
    "    nucleus_obj =  apply_mask(nuclei, soma) \n",
    "    cytosol_mask =  infer_cytosol(soma, nucleus_obj, erode_nuclei=False) \n",
    "    out_file_n = export_inferred_organelle(cytosol_mask, \"cytosol\", meta_dict, out_data_path)\n",
    "    print(f\"calculated cytosol mask. wrote {out_file_n}\")\n",
    "else:\n",
    "    print(f\"loaded cytosol mask from {out_data_path}\")\n"
   ]
  },
  {
   "attachments": {},
   "cell_type": "markdown",
   "metadata": {},
   "source": [
    "---------------------\n",
    "\n",
    "## infer ***lipid body*** \n",
    "\n",
    "## summary of steps \n",
    "\n",
    "INPUT\n",
    "- ch 7\n",
    "- cytosol mask\n",
    "\n",
    "\n",
    "PRE-PROCESSING\n",
    "- rescale \n",
    "-  median, window 2\n",
    "-  \n",
    "CORE-PROCESSING\n",
    "   - \"robust background\" 2 STD\n",
    "\n",
    "POST-PROCESSING\n",
    "  - n/a\n",
    "\n",
    "OUTPUT\n",
    "- object ***lipid body***\n",
    "\n",
    "\n",
    "\n",
    "\n",
    "NOTE:  consider using [Fibrillarin](https://www.allencell.org/cell-observations/category/fibrillarin) (nucleous marker) workflow from AllenCell.  playground_spotty.ipynb  or maybe [centrin](https://www.allencell.org/cell-observations/category/centrin)\n",
    "\n",
    "\n",
    "Not a good thing to follow from  the Allen Cell Segmenter procedure, but doing more aggressive contrast scaling than their prescribed contrast scaling.\n"
   ]
  },
  {
   "attachments": {},
   "cell_type": "markdown",
   "metadata": {},
   "source": [
    "## INPUT prototype"
   ]
  },
  {
   "cell_type": "code",
   "execution_count": 7,
   "metadata": {},
   "outputs": [],
   "source": [
    "###################\n",
    "# INPUT\n",
    "###################\n",
    "# raw_lipid   = img_2D[LIPID_CH].copy()\n",
    "raw_lipid = select_channel_from_raw(img_data, LIPID_CH)\n"
   ]
  },
  {
   "attachments": {},
   "cell_type": "markdown",
   "metadata": {},
   "source": [
    "## PRE-PROCESSING prototype"
   ]
  },
  {
   "cell_type": "code",
   "execution_count": 11,
   "metadata": {},
   "outputs": [],
   "source": [
    "###################\n",
    "# PRE_PROCESSING\n",
    "###################\n",
    "median_sz = 2\n",
    "gauss_sig = 1.34\n",
    "\n",
    "struct_img =  scale_and_smooth(raw_lipid,\n",
    "                                                    median_sz = median_sz, \n",
    "                                                    gauss_sig = gauss_sig)\n"
   ]
  },
  {
   "attachments": {},
   "cell_type": "markdown",
   "metadata": {},
   "source": [
    "## CORE PROCESSING prototype"
   ]
  },
  {
   "cell_type": "code",
   "execution_count": 12,
   "metadata": {},
   "outputs": [],
   "source": [
    "\n",
    "###################\n",
    "# CORE_PROCESSING\n",
    "###################\n",
    "\n",
    "threshold_factor = 0.99 #from cellProfiler\n",
    "thresh_min = .5\n",
    "thresh_max = 1.\n",
    "otsu_thresholded = apply_threshold(struct_img, method= \"otsu\", thresh_factor=threshold_factor, thresh_min=thresh_min, thresh_max=thresh_max)\n"
   ]
  },
  {
   "attachments": {},
   "cell_type": "markdown",
   "metadata": {},
   "source": [
    "## POST-PROCESSING prototype"
   ]
  },
  {
   "cell_type": "code",
   "execution_count": 13,
   "metadata": {},
   "outputs": [],
   "source": [
    "\n",
    "###################\n",
    "# POST_PROCESSING\n",
    "###################\n",
    "# # wrapper to remoce_small_objects\n",
    "max_hole_w = 2.5\n",
    "small_obj_w = 4\n",
    "struct_obj = fill_and_filter_linear_size(otsu_thresholded, hole_min=0, hole_max=max_hole_w, min_size= small_obj_w)\n",
    "\n",
    "\n",
    "lipid_object = struct_obj\n",
    "lipid_labels = label( lipid_object   )\n"
   ]
  },
  {
   "cell_type": "markdown",
   "metadata": {},
   "source": [
    "#### Visualize with `napari`\n",
    "Visualize the first-pass segmentation and labeling with `napari`."
   ]
  },
  {
   "cell_type": "code",
   "execution_count": 14,
   "metadata": {},
   "outputs": [],
   "source": [
    "\n",
    "viewer = napari.view_image(\n",
    "    lipid_object,\n",
    ")\n",
    "\n"
   ]
  },
  {
   "cell_type": "code",
   "execution_count": 15,
   "metadata": {},
   "outputs": [
    {
     "data": {
      "text/plain": [
       "<Labels layer 'lipid_labels' at 0x1452b6580>"
      ]
     },
     "execution_count": 15,
     "metadata": {},
     "output_type": "execute_result"
    }
   ],
   "source": [
    "\n",
    "viewer.scale_bar.visible = True\n",
    "viewer.add_image(\n",
    "    struct_img,\n",
    ")\n",
    "\n",
    "viewer.add_labels(\n",
    "    lipid_labels,\n",
    ")"
   ]
  },
  {
   "cell_type": "code",
   "execution_count": 17,
   "metadata": {},
   "outputs": [
    {
     "data": {
      "text/plain": [
       "<Image layer 'lipid_object [2]' at 0x16a521040>"
      ]
     },
     "execution_count": 17,
     "metadata": {},
     "output_type": "execute_result"
    }
   ],
   "source": [
    "viewer.add_image(\n",
    "    lipid_object,\n",
    ")\n",
    "\n"
   ]
  },
  {
   "attachments": {},
   "cell_type": "markdown",
   "metadata": {},
   "source": [
    "## DEFINE `infer_lipid_body` function\n",
    "\n",
    "Based on the _prototyping_ above define the function to infer the lipid boty.  \n"
   ]
  },
  {
   "cell_type": "code",
   "execution_count": 22,
   "metadata": {},
   "outputs": [],
   "source": [
    "##########################\n",
    "#  infer_lipid\n",
    "##########################\n",
    "def _infer_lipid(\n",
    "                            in_img: np.ndarray,\n",
    "                            median_sz: int,\n",
    "                            gauss_sig: float,\n",
    "                            method: str,\n",
    "                            thresh_factor: float,\n",
    "                            thresh_min: float,\n",
    "                            thresh_max: float,\n",
    "                            max_hole_w: int,\n",
    "                            small_obj_w: int,\n",
    "                        ) -> np.ndarray:\n",
    "    \"\"\"\n",
    "    Procedure to infer peroxisome from linearly unmixed input.\n",
    "\n",
    "    Parameters\n",
    "    ------------\n",
    "    in_img: \n",
    "        a 3d image containing all the channels\n",
    "    median_sz: \n",
    "        width of median filter for signal\n",
    "    gauss_sig: \n",
    "        sigma for gaussian smoothing of  signal\n",
    "    method: \n",
    "        method for applying threshold.  \"otsu\"  or \"li\", \"triangle\", \"median\", \"ave\", \"sauvola\",\"multi_otsu\",\"muiltiotsu\"\n",
    "    thresh_factor:\n",
    "        scaling value for threshold\n",
    "    thresh_min:\n",
    "        absolute minumum for threshold\n",
    "    thresh_max:\n",
    "        absolute maximum for threshold\n",
    "    max_hole_w: \n",
    "        hole filling cutoff for lipid post-processing\n",
    "    small_obj_w: \n",
    "        minimu object size cutoff for lipid post-processing\n",
    "    Returns\n",
    "    -------------\n",
    "    peroxi_object\n",
    "        mask defined extent of peroxisome object\n",
    "    \"\"\"\n",
    "    lipid_ch = LIPID_CH\n",
    "    ###################\n",
    "    # EXTRACT\n",
    "    ###################    \n",
    "    lipid = select_channel_from_raw(in_img, lipid_ch)\n",
    "    ###################\n",
    "    # PRE_PROCESSING\n",
    "    ###################                         \n",
    "    lipid =  scale_and_smooth(lipid,\n",
    "                                                    median_sz = median_sz, \n",
    "                                                    gauss_sig = gauss_sig)\n",
    "\n",
    "\n",
    "    ###################\n",
    "    # CORE_PROCESSING\n",
    "    ###################\n",
    "    bw = apply_threshold(lipid, \n",
    "                                            method= method, \n",
    "                                            thresh_factor=thresh_factor, \n",
    "                                            thresh_min=thresh_min, \n",
    "                                            thresh_max=thresh_max)\n",
    "\n",
    "\n",
    "    ###################\n",
    "    # POST_PROCESSING\n",
    "    ###################\n",
    "    # min_hole_w = 0\n",
    "    struct_obj = fill_and_filter_linear_size(bw, hole_min=0, hole_max=max_hole_w, min_size= small_obj_w)\n",
    "\n",
    "    return struct_obj\n",
    "\n"
   ]
  },
  {
   "cell_type": "code",
   "execution_count": 23,
   "metadata": {},
   "outputs": [],
   "source": [
    "\n",
    "\n",
    "##########################\n",
    "#  fixed_infer_lipid\n",
    "##########################\n",
    "def _fixed_infer_lipid(in_img: np.ndarray) -> np.ndarray:\n",
    "    \"\"\"\n",
    "    Procedure to infer soma from linearly unmixed input, with a *fixed* set of parameters for each step in the procedure.  i.e. \"hard coded\"\n",
    "\n",
    "    Parameters\n",
    "    ------------\n",
    "    in_img: \n",
    "        a 3d image containing all the channels\n",
    "\n",
    "    Returns\n",
    "    -------------\n",
    "    lipid_body_object\n",
    "        mask defined extent of liipid body\n",
    "\n",
    "    \"\"\"\n",
    "\n",
    "    median_sz = 2   \n",
    "    gauss_sig = 1.34\n",
    "    method = \"otsu\"\n",
    "    threshold_factor = 0.99 #from cellProfiler\n",
    "    thresh_min = .5\n",
    "    thresh_max = 1.\n",
    "    max_hole_w = 2.5\n",
    "    small_obj_w = 4\n",
    "\n",
    "    return _infer_lipid_body(\n",
    "        in_img,  median_sz, gauss_sig, method, threshold_factor, thresh_min, thresh_max, max_hole_w, small_obj_w\n",
    "    )\n"
   ]
  },
  {
   "cell_type": "markdown",
   "metadata": {},
   "source": [
    "# TEST  `infer_lipid_body` function"
   ]
  },
  {
   "cell_type": "code",
   "execution_count": 24,
   "metadata": {},
   "outputs": [],
   "source": [
    "\n",
    "_lipid_obj =  _fixed_infer_lipid(img_data) "
   ]
  },
  {
   "cell_type": "code",
   "execution_count": 25,
   "metadata": {},
   "outputs": [],
   "source": [
    "from infer_subc_2d.organelles import fixed_infer_lipid\n",
    "\n",
    "lipid_obj =  fixed_infer_lipid(img_data) "
   ]
  },
  {
   "attachments": {},
   "cell_type": "markdown",
   "metadata": {},
   "source": [
    "## Visualize  2\n"
   ]
  },
  {
   "cell_type": "code",
   "execution_count": 26,
   "metadata": {},
   "outputs": [
    {
     "data": {
      "text/plain": [
       "<Labels layer 'Labels' at 0x16ad14eb0>"
      ]
     },
     "execution_count": 26,
     "metadata": {},
     "output_type": "execute_result"
    }
   ],
   "source": [
    "\n",
    "viewer.add_image(\n",
    "    _lipid_obj,\n",
    ")\n",
    "\n",
    "viewer.add_image(\n",
    "    lipid_obj,\n",
    ")\n",
    "viewer.add_labels(\n",
    "    label(lipid_obj),\n",
    ")"
   ]
  },
  {
   "cell_type": "code",
   "execution_count": 27,
   "metadata": {},
   "outputs": [
    {
     "data": {
      "image/png": "[encoded data removed]",
      "text/html": [
       "<img src=\"data:image/png;base64,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\"></img>"
      ],
      "text/plain": [
       "<napari.utils.notebook_display.NotebookScreenshot at 0x16adadd90>"
      ]
     },
     "execution_count": 27,
     "metadata": {},
     "output_type": "execute_result"
    }
   ],
   "source": [
    "from napari.utils.notebook_display import nbscreenshot\n",
    "\n",
    "# viewer.dims.ndisplay = 3\n",
    "# viewer.camera.angles = (-30, 25, 120)\n",
    "nbscreenshot(viewer, canvas_only=True)"
   ]
  },
  {
   "cell_type": "code",
   "execution_count": 28,
   "metadata": {},
   "outputs": [],
   "source": [
    "viewer.close()"
   ]
  },
  {
   "attachments": {},
   "cell_type": "markdown",
   "metadata": {},
   "source": [
    "-----------------\n",
    "Write the `infer_endoplasmic_reticulum` spec to the widget json "
   ]
  },
  {
   "cell_type": "code",
   "execution_count": null,
   "metadata": {},
   "outputs": [
    {
     "name": "stdout",
     "output_type": "stream",
     "text": [
      "function fixed_infer_lipid is already in all_functions.json\n"
     ]
    },
    {
     "data": {
      "text/plain": [
       "0"
      ]
     },
     "execution_count": 31,
     "metadata": {},
     "output_type": "execute_result"
    }
   ],
   "source": [
    "from infer_subc_2d.organelles_config.helper import add_function_spec_to_widget_json\n",
    "\n",
    "_fixed_infer_lipid=  {\n",
    "        \"name\": \"infer lipid bodies (fixed parameters)\",\n",
    "        \"python::module\": \"infer_subc_2d.organelles\",\n",
    "        \"python::function\": \"fixed_infer_lipid\",\n",
    "        \"parameters\": None\n",
    "        }\n",
    "\n",
    "add_function_spec_to_widget_json(\"fixed_infer_lipid\",_fixed_infer_lipid)"
   ]
  },
  {
   "cell_type": "code",
   "execution_count": null,
   "metadata": {},
   "outputs": [
    {
     "name": "stdout",
     "output_type": "stream",
     "text": [
      "function infer_lipid is already in all_functions.json\n",
      "overwriting  infer_lipid\n"
     ]
    },
    {
     "data": {
      "text/plain": [
       "1"
      ]
     },
     "execution_count": 32,
     "metadata": {},
     "output_type": "execute_result"
    }
   ],
   "source": [
    "\n",
    "_infer_lipid =  {\n",
    "        \"name\": \"infer lipid\",\n",
    "        \"python::module\": \"infer_subc_2d.organelles\",\n",
    "        \"python::function\": \"infer_lipid\",\n",
    "        \"parameters\": {\n",
    "                \"median_sz\": {\n",
    "                        \"widget_type\": \"slider\",\n",
    "                        \"data_type\": \"int\",\n",
    "                        \"min\": 3,\n",
    "                        \"max\": 15,\n",
    "                        \"increment\": 1\n",
    "                },\n",
    "                \"gauss_sig\": {\n",
    "                        \"data_type\": \"float\",\n",
    "                        \"increment\": 0.25,\n",
    "                        \"max\": 15.0,\n",
    "                        \"min\": 1.25,\n",
    "                        \"widget_type\": \"slider\"\n",
    "                },\n",
    "                \"method\": {\n",
    "                        \"data_type\": \"str\",\n",
    "                        \"widget_type\": \"drop-down\",\n",
    "                        \"options\": [\n",
    "                                \"otsu\",\n",
    "                                \"li\",\n",
    "                                \"triangle\",\n",
    "                                \"median\",\n",
    "                                \"ave_tri_med\"\n",
    "                        ]\n",
    "                },\n",
    "                \"thresh_factor\": {\n",
    "                        \"data_type\": \"float\",\n",
    "                        \"increment\": 0.05,\n",
    "                        \"max\": 1.2,\n",
    "                        \"min\": 0.6,\n",
    "                        \"widget_type\": \"slider\"\n",
    "                },\n",
    "                \"thresh_min\": {\n",
    "                        \"data_type\": \"float\",\n",
    "                        \"increment\": 0.05,\n",
    "                        \"max\": .9,\n",
    "                        \"min\": 0.0,\n",
    "                        \"widget_type\": \"slider\"\n",
    "                },\n",
    "                \"thresh_max\": {\n",
    "                        \"data_type\": \"float\",\n",
    "                        \"increment\": 0.05,\n",
    "                        \"max\": 1.0,\n",
    "                        \"min\": 0.1,\n",
    "                        \"widget_type\": \"slider\"\n",
    "                },\n",
    "                \"max_hole_w\": {\n",
    "                        \"data_type\": \"int\",\n",
    "                        \"increment\": 1,\n",
    "                        \"max\": 40,\n",
    "                        \"min\": 4,\n",
    "                        \"widget_type\": \"slider\"\n",
    "                },           \n",
    "                \"small_obj_w\": {\n",
    "                        \"data_type\": \"int\",\n",
    "                        \"increment\": 1,\n",
    "                        \"max\": 50,\n",
    "                        \"min\": 1,\n",
    "                        \"widget_type\": \"slider\"\n",
    "                }\n",
    "        }\n",
    "}\n",
    "\n",
    "add_function_spec_to_widget_json(\"infer_lipid\", _infer_lipid, overwrite=True )\n",
    "\n"
   ]
  },
  {
   "attachments": {},
   "cell_type": "markdown",
   "metadata": {},
   "source": [
    "##  helper function definitions\n",
    "\n",
    "Wrappers for vessleness filters"
   ]
  },
  {
   "cell_type": "code",
   "execution_count": null,
   "metadata": {},
   "outputs": [
    {
     "name": "stdout",
     "output_type": "stream",
     "text": [
      "function apply_threshold is already in all_functions.json\n",
      "overwriting  apply_threshold\n"
     ]
    },
    {
     "data": {
      "text/plain": [
       "1"
      ]
     },
     "execution_count": 36,
     "metadata": {},
     "output_type": "execute_result"
    }
   ],
   "source": [
    "from infer_subc_2d.organelles_config.helper import add_function_spec_to_widget_json\n",
    "\n",
    "_apply_threshold =  {\n",
    "        \"name\": \"Apply Threshold\",\n",
    "        \"python::module\": \"infer_subc_2d.utils.img\",\n",
    "        \"python::function\": \"apply_threshold\",\n",
    "        \"parameters\": {\n",
    "                \"method\": {\n",
    "                        \"data_type\": \"str\",\n",
    "                        \"widget_type\": \"drop-down\",\n",
    "                        \"options\": [\n",
    "                                \"otsu\",\n",
    "                                \"li\",\n",
    "                                \"triangle\",\n",
    "                                \"median\",\n",
    "                                \"ave_tri_med\"\n",
    "                        ]\n",
    "                },\n",
    "                \"thresh_factor\": {\n",
    "                        \"data_type\": \"float\",\n",
    "                        \"increment\": 0.05,\n",
    "                        \"max\": 1.2,\n",
    "                        \"min\": 0.6,\n",
    "                        \"widget_type\": \"slider\"\n",
    "                },\n",
    "                \"thresh_min\": {\n",
    "                        \"data_type\": \"float\",\n",
    "                        \"increment\": 0.05,\n",
    "                        \"max\": .9,\n",
    "                        \"min\": 0.0,\n",
    "                        \"widget_type\": \"slider\"\n",
    "                },\n",
    "                \"thresh_max\": {\n",
    "                        \"data_type\": \"float\",\n",
    "                        \"increment\": 0.05,\n",
    "                        \"max\": 1.0,\n",
    "                        \"min\": 0.1,\n",
    "                        \"widget_type\": \"slider\"\n",
    "                },\n",
    "        }\n",
    "}\n",
    "\n",
    "add_function_spec_to_widget_json(\"apply_threshold\",_apply_threshold,overwrite=True)"
   ]
  },
  {
   "attachments": {},
   "cell_type": "markdown",
   "metadata": {},
   "source": [
    "-------------------------------\n",
    "## Write workflow .json\n",
    "Now that we've added our function specs we can compose workflows."
   ]
  },
  {
   "cell_type": "code",
   "execution_count": null,
   "metadata": {},
   "outputs": [],
   "source": [
    "from infer_subc_2d.constants import LIPID_CH\n",
    "\n",
    "def make_infer_lipid_step_by_step_from_raw_dict():\n",
    "    \"\"\"\n",
    "    Procedure to infer lipid from linearly unmixed input.\n",
    "\n",
    "    Parameters\n",
    "    ------------\n",
    "    in_img: np.ndarray\n",
    "        a 3d image containing all the channels\n",
    "\n",
    "    soma_mask: np.ndarray\n",
    "        mask\n",
    "\n",
    "    Returns\n",
    "    -------------\n",
    "    lipid_object\n",
    "        mask defined extent of NU\n",
    "\n",
    "    \"\"\"\n",
    "    step_name = []\n",
    "    function_name = []\n",
    "    category =[]\n",
    "    parameter_values = []\n",
    "    parent = []\n",
    "   \n",
    "    step_name.append(\"1\")\n",
    "    function_name.append(\"fixed_get_optimal_Z_img\")\n",
    "    category.append(\"extraction\")\n",
    "    parameter_values.append(None)\n",
    "    parent.append(0)\n",
    "\n",
    "    step_name.append(\"2\")\n",
    "    function_name.append(\"fixed_infer_soma\")\n",
    "    category.append(\"extraction\")\n",
    "    parameter_values.append( None )\n",
    "    parent.append(1)\n",
    "\n",
    "    step_name.append(\"3\")\n",
    "    function_name.append(\"fixed_infer_nuclei\")\n",
    "    category.append(\"extraction\")\n",
    "    parameter_values.append( None )\n",
    "    parent.append([1,2])\n",
    "\n",
    "    step_name.append(\"4\")\n",
    "    function_name.append(\"infer_cytosol\")\n",
    "    category.append(\"extraction\")\n",
    "    parameter_values.append(dict(erode_nuclei = True ))\n",
    "    parent.append([2,3])\n",
    "\n",
    "    step_name.append(\"5\")\n",
    "    function_name.append(\"select_channel_from_raw\")\n",
    "    category.append(\"extraction\")\n",
    "    parameter_values.append( dict(chan = LIPID_CH) )\n",
    "    parent.append(1)\n",
    "    \n",
    "    step_name.append(\"6\")\n",
    "    function_name.append(\"min_max_intensity_normalization\")\n",
    "    category.append(\"preprocessing\")\n",
    "    parameter_values.append(None)\n",
    "    parent.append(5)\n",
    "\n",
    "    step_name.append(\"7\")\n",
    "    function_name.append(\"median_filter_slice_by_slice\")\n",
    "    category.append(\"preprocessing\")\n",
    "    parameter_values.append(dict(size = 4 ))\n",
    "    parent.append(6)\n",
    "\n",
    "    step_name.append(\"8\")\n",
    "    function_name.append(\"image_smoothing_gaussian_slice_by_slice\")\n",
    "    category.append(\"preprocessing\")\n",
    "    parameter_values.append(dict( sigma = 1.34 ))\n",
    "    parent.append(7)\n",
    "\n",
    "    step_name.append(\"9\")\n",
    "    function_name.append(\"apply_threshold\")\n",
    "    category.append(\"core\")\n",
    "    parameter_values.append(dict(method = \"otsu\",\n",
    "                                                            thresh_factor = 0.99, \n",
    "                                                            thresh_min = .5,\n",
    "                                                            thresh_max = 1.))\n",
    "    parent.append(8)\n",
    "\n",
    "    step_name.append(\"10\")\n",
    "    function_name.append(\"hole_filling\")\n",
    "    category.append(\"postprocessing\")\n",
    "    parameter_values.append(dict( hole_min=0, hole_max=2.5**2, fill_2d=True))\n",
    "    parent.append(9)\n",
    "\n",
    "    step_name.append(\"11\")\n",
    "    function_name.append(\"apply_mask\")\n",
    "    category.append(\"postprocessing\")\n",
    "    parameter_values.append(None)\n",
    "    parent.append([10,4])\n",
    "\n",
    "    step_name.append(\"12\")\n",
    "    function_name.append(\"size_filter_linear_size\")\n",
    "    category.append(\"postprocessing\")\n",
    "    parameter_values.append(dict( min_size = 4**2  ))\n",
    "    parent.append(6)\n",
    "\n",
    "    out_dict = dict()\n",
    "    for i,stepn in enumerate(step_name):\n",
    "        entry = dict(category=category[i],\n",
    "                            function=function_name[i],\n",
    "                            parameter_values=parameter_values[i],\n",
    "                            parent=parent[i]\n",
    "        )\n",
    "        if entry['parameter_values'] is None:\n",
    "            _ = entry.pop('parameter_values')\n",
    "        out_dict[stepn] = entry\n",
    "        \n",
    "    return out_dict"
   ]
  },
  {
   "cell_type": "code",
   "execution_count": null,
   "metadata": {},
   "outputs": [
    {
     "data": {
      "text/plain": [
       "PosixPath('/Users/ahenrie/Projects/Imaging/infer-subc-2D/infer_subc_2d/organelles_config/conf_1.9.lipid_stepbystep_from_raw.json')"
      ]
     },
     "execution_count": 35,
     "metadata": {},
     "output_type": "execute_result"
    }
   ],
   "source": [
    "from infer_subc_2d.organelles_config.helper import write_workflow_json\n",
    "\n",
    "infer_lipid_stepbystep_from_raw_dict = make_infer_lipid_step_by_step_from_raw_dict()\n",
    "\n",
    "write_workflow_json(\"conf_1.9.lipid_stepbystep_from_raw\", infer_lipid_stepbystep_from_raw_dict)"
   ]
  },
  {
   "attachments": {},
   "cell_type": "markdown",
   "metadata": {},
   "source": [
    "-------------\n",
    "## SUMMARY\n",
    "\n",
    "The above details how the endoplasmic lipid body is inferred.  \n",
    "\n",
    "###  THATS IT!\n"
   ]
  }
 ],
 "metadata": {
  "kernelspec": {
   "display_name": "Python 3.9.13 ('napariNEW')",
   "language": "python",
   "name": "python3"
  },
  "language_info": {
   "codemirror_mode": {
    "name": "ipython",
    "version": 3
   },
   "file_extension": ".py",
   "mimetype": "text/x-python",
   "name": "python",
   "nbconvert_exporter": "python",
   "pygments_lexer": "ipython3",
   "version": "3.9.16"
  },
  "orig_nbformat": 4,
  "vscode": {
   "interpreter": {
    "hash": "d6148ef1fb015fb20f0b6da2ea61c87c6b848bdf3dabb03087e5d5cd0c4607e9"
   }
  }
 },
 "nbformat": 4,
 "nbformat_minor": 2
}
