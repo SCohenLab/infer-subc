{
 "cells": [
  {
   "cell_type": "markdown",
   "metadata": {},
   "source": [
    "# **Measure Organelle Interactions**\n",
    "\n",
    "***Prior to this notebook, you should have already run through [2.0_quantification_setup](2.0_quantification_setup.ipynb).***\n",
    "\n",
    "In notebooks 2.1 through 2.4, we will go over the implementation of `infer-subc` quantification methods (explained in detail in the `method_...` notebooks) to assess the morphology, interactions, and distribution of organelles at the single-cell level. \n",
    "\n",
    "### 📍 **Purpose**\n",
    "This notebook can be used to measure the morphology and distribution of `organelle interactions` from one or more cells. It includes options to:\n",
    "1. 🦠 Quantify *one or more organelle interaction types* from <ins>ONE CELL</ins>\n",
    "2. 🧪 Batch process the quantification of *all possible organelle interaction types* from *multiple cells* for a <ins>SINGLE EXPERIMENT</ins>\n",
    "3. 🧮 Summarize organelle interaction metrics *per cell* across <INS>ONE OR MORE EXPERIMENTS</ins>\n",
    "\n",
    "### 🍃 **Biological Relevance - Organelle Interactions**\n",
    "Intracellular organelles do not exist independently of one another. In recent years, the existance and function of organelle contact site, regions of close apposition between membrane bound organelles has been recognized. They facilitate protein, lipid, and metabolite transport, coordinate organelle trafficking and function, and are involved in many cellular pathways and functions [[1](https://www.cell.com/cell/pdf/S0092-8674(23)01328-4.pdf)]. \n",
    "\n",
    "The distance between membranes at contact sites is between 30-80 nm depending on the types of organelles involved. This distance is not resolvable using standard confocal microscopy images [[2](https://zeiss-campus.magnet.fsu.edu/articles/basics/resolution.html)]. However, interactions between organelle which can include organelle contact sites can be estimated through overlap in label localization in confocal microscopy images.\n",
    "\n",
    "Here, we will use the overlapping area between two or more organelle objects as putative interaction sites. The current notebook is only formatted to collect information about pairwise interactions between organelles, but this will be expanded in future versions to include all possible n-way interaction types.\n",
    "\n",
    "**`Organelle interaction sites`**: regions of overlap between two or more organelles\n",
    "\n",
    "These sites can then be measured for features such as number, size, and shape utilizing the `get_morpholgy_metrics()` function outlined in [method_morphology](method_morphology.ipynb) notebook and/or measurements of subcellular distribution utilizing the `get_distribution()` function outlined in [method_distribution](method_distribution.ipynb) notebook.\n",
    "\n",
    "*You can learn more about how interaction sites are created within infer-subc in the [method_interactions](method_interactions.ipynb) notebook.*\n",
    "\n",
    "-----"
   ]
  },
  {
   "cell_type": "markdown",
   "metadata": {},
   "source": [
    "## 🗂️ **Table of Contents**\n",
    "The following sections are included in this notebook:\n",
    "\n",
    "**IMPORTS AND LOAD IMAGE**\n",
    "\n",
    "**EXPLANATION OF STEPS** - This section serves as *expository examples* of the functions used to quantify, batch process, and summarize organelle morphology.\n",
    "\n",
    "🦠 **Quantify *one or more organelle interaction types* from <ins>ONE CELL</ins>**\n",
    "- **`STEP 1`** - Apply cell mask for single cell analysis\n",
    "- **`STEP 2`** - Loop through the list of organelles to quantify the morphology of each\n",
    "- **`STEP 3`** - Combine all of the tables together and add column\n",
    "- **`DEFINE`** - The get_organelle_morph() function\n",
    "\n",
    "🧪 **Batch process the quantification of *all possible organelle interaction types* from *multiple cells* for a <ins>SINGLE EXPERIMENT</ins>**\n",
    "- **`STEP 1`** - List images and segmentations to be collected for each\n",
    "- **`STEP 2`** - Loop through the list of images and perform the morphology quantification on all organelles\n",
    "- **`STEP 3`** - Combine all of the tables together and create/store the csv file\n",
    "- **`DEFINE`** - The batch_process_org_morph() function\n",
    "\n",
    "🧮 **Summarize organelle interaction metrics *per cell* across <INS>ONE OR MORE EXPERIMENTS</ins>**\n",
    "- **`STEP 1`** - Get the orgnaelle morphology .csv files\n",
    "- **`STEP 2`** - Summarize the mean, median, and standard deviation of each feature per cell\n",
    "- **`STEP 3`** - Calculate additional metrics\n",
    "- **`STEP 4`** - Unstack the organelle names, fill NA values with 0, and save file\n",
    "- **`DEFINE`** - The batch_org_morph_summary_stats() function\n",
    "\n",
    "**EXECUTE QUANTIFICATION** - Once you understand how the functions work, this section can be used to quantify your data in a quick and easy way.\n",
    "- **`STEP 1`:** 🧪 **Batch process the quantification of *all possible organelle interaction types* from *multiple cells* for a <ins>SINGLE EXPERIMENT</ins>**\n",
    "- **`STEP 2`:** 🧮 **Summarize organelle interaction metrics *per cell* across <INS>ONE OR MORE EXPERIMENTS</ins>**"
   ]
  },
  {
   "cell_type": "markdown",
   "metadata": {},
   "source": [
    "-----\n",
    "---------------------\n",
    "## **IMPORTS AND LOAD IMAGE**\n",
    "Details about the functions included in this subsection are outlined in the [`2.0_quantification_setup`](2.0_quantification_setup.ipynb) notebook. Please visit that notebook first if you are confused about any of the code included here."
   ]
  },
  {
   "cell_type": "code",
   "execution_count": null,
   "metadata": {},
   "outputs": [],
   "source": [
    "from typing import List, Union\n",
    "from pathlib import Path\n",
    "import os\n",
    "import time\n",
    "import warnings\n",
    "\n",
    "from infer_subc.core.img import *\n",
    "\n",
    "import numpy as np\n",
    "import pandas as pd\n",
    "import napari\n",
    "from napari.utils.notebook_display import nbscreenshot\n",
    "\n",
    "from infer_subc.utils.stats import get_morphology_metrics, get_org_morphology, batch_process_org_morph, batch_org_morph_summary_stats\n",
    "from infer_subc.utils.batch import list_image_files, find_segmentation_tiff_files\n",
    "from infer_subc.core.file_io import read_czi_image, read_tiff_image\n",
    "\n",
    "pd.set_option('display.max_columns', None)"
   ]
  },
  {
   "cell_type": "markdown",
   "metadata": {},
   "source": [
    "#### &#x1F3C3; **Run code; no user input required**"
   ]
  },
  {
   "cell_type": "markdown",
   "metadata": {},
   "source": [
    "#### &#x1F6D1; &#x270D; **User Input Required:**\n",
    "\n",
    "Please specify the following information about your data: `raw_img_type`, `data_root_path`, `raw_data_path`, `seg_data_path`, and `quant_data_path`."
   ]
  },
  {
   "cell_type": "code",
   "execution_count": null,
   "metadata": {},
   "outputs": [],
   "source": [
    "#### USER INPUT REQUIRED ###\n",
    "raw_img_type = \".czi\"\n",
    "data_root_path = Path(os.path.expanduser(\"~\")) / \"Documents/Python_Scripts/Infer-subc\"\n",
    "raw_data_path = data_root_path / \"raw_two\"\n",
    "seg_data_path = data_root_path / \"out_two\"\n",
    "quant_data_path = data_root_path / \"quant_two\""
   ]
  },
  {
   "cell_type": "markdown",
   "metadata": {},
   "source": [
    "#### &#x1F3C3; **Run code; no user input required**"
   ]
  },
  {
   "cell_type": "code",
   "execution_count": null,
   "metadata": {},
   "outputs": [
    {
     "data": {
      "text/html": [
       "<div>\n",
       "<style scoped>\n",
       "    .dataframe tbody tr th:only-of-type {\n",
       "        vertical-align: middle;\n",
       "    }\n",
       "\n",
       "    .dataframe tbody tr th {\n",
       "        vertical-align: top;\n",
       "    }\n",
       "\n",
       "    .dataframe thead th {\n",
       "        text-align: right;\n",
       "    }\n",
       "</style>\n",
       "<table border=\"1\" class=\"dataframe\">\n",
       "  <thead>\n",
       "    <tr style=\"text-align: right;\">\n",
       "      <th></th>\n",
       "      <th>Image Name</th>\n",
       "    </tr>\n",
       "  </thead>\n",
       "  <tbody>\n",
       "    <tr>\n",
       "      <th>0</th>\n",
       "      <td>C:\\Users\\Shannon\\Documents\\Python_Scripts\\Infer-subc\\raw_two\\a24hrs-Ctrl_14_Unmixing.czi</td>\n",
       "    </tr>\n",
       "    <tr>\n",
       "      <th>1</th>\n",
       "      <td>C:\\Users\\Shannon\\Documents\\Python_Scripts\\Infer-subc\\raw_two\\a48hrs-Ctrl + oleic acid_01_Unmixing.czi</td>\n",
       "    </tr>\n",
       "  </tbody>\n",
       "</table>\n",
       "</div>"
      ],
      "text/plain": [
       "                                                                                              Image Name\n",
       "0               C:\\Users\\Shannon\\Documents\\Python_Scripts\\Infer-subc\\raw_two\\a24hrs-Ctrl_14_Unmixing.czi\n",
       "1  C:\\Users\\Shannon\\Documents\\Python_Scripts\\Infer-subc\\raw_two\\a48hrs-Ctrl + oleic acid_01_Unmixing.czi"
      ]
     },
     "metadata": {},
     "output_type": "display_data"
    }
   ],
   "source": [
    "# Create the output directory to save the segmentation outputs in.\n",
    "if not Path.exists(quant_data_path):\n",
    "    Path.mkdir(quant_data_path)\n",
    "    print(f\"making {quant_data_path}\")\n",
    "\n",
    "# Create a list of the file paths for each image in the input folder. Select test image path.\n",
    "raw_img_file_list = list_image_files(raw_data_path,raw_img_type)\n",
    "pd.set_option('display.max_colwidth', None)\n",
    "pd.DataFrame({\"Image Name\":raw_img_file_list})"
   ]
  },
  {
   "cell_type": "markdown",
   "metadata": {},
   "source": [
    "#### &#x1F6D1; &#x270D; **User Input Required:**\n",
    "\n",
    "Use the list above to specify which image you wish to analyze based on its index: `test_img_n`"
   ]
  },
  {
   "cell_type": "code",
   "execution_count": null,
   "metadata": {},
   "outputs": [],
   "source": [
    "#### USER INPUT REQUIRED ###\n",
    "test_img_n = 0"
   ]
  },
  {
   "cell_type": "markdown",
   "metadata": {},
   "source": [
    "#### &#x1F3C3; **Run code; no user input required**"
   ]
  },
  {
   "cell_type": "code",
   "execution_count": null,
   "metadata": {},
   "outputs": [
    {
     "name": "stdout",
     "output_type": "stream",
     "text": [
      "Metadata information\n",
      "File path: C:\\Users\\Shannon\\Documents\\Python_Scripts\\Infer-subc\\raw_two\\a24hrs-Ctrl_14_Unmixing.czi\n",
      "Channel 0 name: 0 :: a24hrs-Ctrl_14_Unmixing-0 :: Nuclei_Jan22\n",
      "Channel 1 name: 0 :: a24hrs-Ctrl_14_Unmixing-0 :: Lyso+405_Jan22\n",
      "Channel 2 name: 0 :: a24hrs-Ctrl_14_Unmixing-0 :: Mito+405_Jan22\n",
      "Channel 3 name: 0 :: a24hrs-Ctrl_14_Unmixing-0 :: Golgi+405_Jan22\n",
      "Channel 4 name: 0 :: a24hrs-Ctrl_14_Unmixing-0 :: Peroxy+405_Jan22\n",
      "Channel 5 name: 0 :: a24hrs-Ctrl_14_Unmixing-0 :: ER+405_Jan22\n",
      "Channel 6 name: 0 :: a24hrs-Ctrl_14_Unmixing-0 :: BODIPY+405low_Jan22\n",
      "Channel 7 name: 0 :: a24hrs-Ctrl_14_Unmixing-0 :: Residuals\n",
      "Scale (ZYX): (0.3891184878080979, 0.07987165184837317, 0.07987165184837318)\n",
      "Channel axis: 0\n"
     ]
    }
   ],
   "source": [
    "# Read in the image and metadata as an ndarray and dictionary from the test image selected above. \n",
    "test_img_name = raw_img_file_list[test_img_n]\n",
    "img_data,meta_dict = read_czi_image(test_img_name)\n",
    "\n",
    "# Define some of the metadata features.\n",
    "channel_names = meta_dict['name']\n",
    "meta = meta_dict['metadata']['aicsimage']\n",
    "scale = meta_dict['scale']\n",
    "channel_axis = meta_dict['channel_axis']\n",
    "file_path = meta_dict['file_name']\n",
    "\n",
    "print(\"Metadata information\")\n",
    "print(f\"File path: {file_path}\")\n",
    "for i in list(range(len(channel_names))):\n",
    "    print(f\"Channel {i} name: {channel_names[i]}\")\n",
    "print(f\"Scale (ZYX): {scale}\")\n",
    "print(f\"Channel axis: {channel_axis}\")"
   ]
  },
  {
   "cell_type": "markdown",
   "metadata": {},
   "source": [
    "#### &#x1F6D1; &#x270D; **User Input Required:**\n",
    "\n",
    "Specify the following information about the segmentation files: - `org_file_names`, `org_channels_ordered`, `regions_file_names`, `suffix_separator`, and `mask_name`."
   ]
  },
  {
   "cell_type": "code",
   "execution_count": null,
   "metadata": {},
   "outputs": [],
   "source": [
    "#### USER INPUT REQUIRED ###\n",
    "org_file_names = [\"lyso\", \"mito\", \"golgi\", \"perox\", \"ER\", \"LD\"]\n",
    "org_channels_ordered = [1, 2, 3, 4, 5, 6]\n",
    "regions_file_names = [\"cell\", \"nuc\"]\n",
    "suffix_separator = \"-20230426_test_\"\n",
    "mask_name = \"cell\""
   ]
  },
  {
   "cell_type": "markdown",
   "metadata": {},
   "source": [
    "#### &#x1F3C3; **Run code; no user input required**"
   ]
  },
  {
   "cell_type": "code",
   "execution_count": null,
   "metadata": {},
   "outputs": [
    {
     "name": "stderr",
     "output_type": "stream",
     "text": [
      "WARNING: QWindowsWindow::setGeometry: Unable to set geometry 1086x661+1530+213 (frame: 1104x708+1521+175) on QWidgetWindow/\"_QtMainWindowClassWindow\" on \"\\\\.\\DISPLAY1\". Resulting geometry: 905x831+1528+206 (frame: 923x878+1519+168) margins: 9, 38, 9, 9 minimum size: 385x519 MINMAXINFO maxSize=0,0 maxpos=0,0 mintrack=403,566 maxtrack=0,0)\n",
      "09-Feb-25 13:18:45 - vispy    - WARNING  - QWindowsWindow::setGeometry: Unable to set geometry 1086x661+1530+213 (frame: 1104x708+1521+175) on QWidgetWindow/\"_QtMainWindowClassWindow\" on \"\\\\.\\DISPLAY1\". Resulting geometry: 905x831+1528+206 (frame: 923x878+1519+168) margins: 9, 38, 9, 9 minimum size: 385x519 MINMAXINFO maxSize=0,0 maxpos=0,0 mintrack=403,566 maxtrack=0,0)\n"
     ]
    },
    {
     "name": "stdout",
     "output_type": "stream",
     "text": [
      "The following matching files were found and can now be viewed in Napari:\n"
     ]
    },
    {
     "data": {
      "text/plain": [
       "{'raw': WindowsPath('C:/Users/Shannon/Documents/Python_Scripts/Infer-subc/raw_two/a24hrs-Ctrl_14_Unmixing.czi'),\n",
       " 'lyso': WindowsPath('C:/Users/Shannon/Documents/Python_Scripts/Infer-subc/out_two/a24hrs-Ctrl_14_Unmixing-20230426_test_lyso.tiff'),\n",
       " 'mito': WindowsPath('C:/Users/Shannon/Documents/Python_Scripts/Infer-subc/out_two/a24hrs-Ctrl_14_Unmixing-20230426_test_mito.tiff'),\n",
       " 'golgi': WindowsPath('C:/Users/Shannon/Documents/Python_Scripts/Infer-subc/out_two/a24hrs-Ctrl_14_Unmixing-20230426_test_golgi.tiff'),\n",
       " 'perox': WindowsPath('C:/Users/Shannon/Documents/Python_Scripts/Infer-subc/out_two/a24hrs-Ctrl_14_Unmixing-20230426_test_perox.tiff'),\n",
       " 'ER': WindowsPath('C:/Users/Shannon/Documents/Python_Scripts/Infer-subc/out_two/a24hrs-Ctrl_14_Unmixing-20230426_test_ER.tiff'),\n",
       " 'LD': WindowsPath('C:/Users/Shannon/Documents/Python_Scripts/Infer-subc/out_two/a24hrs-Ctrl_14_Unmixing-20230426_test_LD.tiff'),\n",
       " 'cell': WindowsPath('C:/Users/Shannon/Documents/Python_Scripts/Infer-subc/out_two/a24hrs-Ctrl_14_Unmixing-20230426_test_cell.tiff'),\n",
       " 'nuc': WindowsPath('C:/Users/Shannon/Documents/Python_Scripts/Infer-subc/out_two/a24hrs-Ctrl_14_Unmixing-20230426_test_nuc.tiff')}"
      ]
     },
     "metadata": {},
     "output_type": "display_data"
    }
   ],
   "source": [
    "# find file paths for segmentations\n",
    "all_suffixes = org_file_names + regions_file_names\n",
    "filez = find_segmentation_tiff_files(file_path, all_suffixes, seg_data_path, suffix_separator)\n",
    "\n",
    "# read the segmentation and masks/regions files into memory\n",
    "organelles = [read_tiff_image(filez[org]) for org in org_file_names]\n",
    "regions = [] \n",
    "for m in regions_file_names:\n",
    "    mfile = read_tiff_image(filez[m])\n",
    "    regions.append(mfile)\n",
    "\n",
    "# match the intensity channels to the segmentation files\n",
    "intensities = [img_data[ch] for ch in org_channels_ordered]\n",
    "\n",
    "# open viewer and add images\n",
    "viewer = napari.Viewer()\n",
    "for r, reg in enumerate(regions_file_names):\n",
    "    viewer.add_image(regions[r],\n",
    "                     scale=scale,\n",
    "                     name=f\"{reg} mask\")\n",
    "\n",
    "# colors = [\"red\", \"bop orange\", \"yellow\", \"green\", \"blue\", \"cyan\", \"magenta\", \"bop purple\"]\n",
    "for o, org in enumerate(org_file_names):\n",
    "    viewer.add_image(intensities[o],\n",
    "                     scale=scale,\n",
    "                     name=f\"{org} intensity channel\")\n",
    "    viewer.add_labels(organelles[o],\n",
    "                      scale=scale,\n",
    "                      name=f\"{org} segmentation\")\n",
    "viewer.grid.enabled = True\n",
    "viewer.reset_view()\n",
    "\n",
    "print(\"The following matching files were found and can now be viewed in Napari:\")\n",
    "filez"
   ]
  },
  {
   "cell_type": "markdown",
   "metadata": {},
   "source": [
    "------\n",
    "-----\n",
    "## **EXPLANATION OF STEPS**"
   ]
  },
  {
   "cell_type": "markdown",
   "metadata": {},
   "source": [
    "-----\n",
    "### 🦠 **Quantify *one or more organelle interaction types* from <ins>ONE CELL</ins>**"
   ]
  },
  {
   "cell_type": "markdown",
   "metadata": {},
   "source": [
    "#### **`STEP 1` - Create region of overlap between organelle 'a' and organelle 'b'**"
   ]
  },
  {
   "cell_type": "markdown",
   "metadata": {},
   "source": []
  }
 ],
 "metadata": {
  "kernelspec": {
   "display_name": "infer-subc-scohen",
   "language": "python",
   "name": "python3"
  },
  "language_info": {
   "name": "python",
   "version": "3.10.15"
  }
 },
 "nbformat": 4,
 "nbformat_minor": 2
}
