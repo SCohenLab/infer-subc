{
 "cells": [
  {
   "cell_type": "markdown",
   "metadata": {},
   "source": [
    "# **Measure Organelle Interactions**\n",
    "\n",
    "***Prior to this notebook, you should have already run through [2.0_quantification_setup](2.0_quantification_setup.ipynb).***\n",
    "\n",
    "The `'methods_...'` notebooks included here in infer-subc Part 2: quantification will go over how each of the quantification methods (morphology, interactions, and distribution) are carried out. The notebooks will explain each step in the method and display the combined function at the end of the notebook. \n",
    "\n",
    "### **Biological Relevance**\n",
    "Intracellular organelles do not exist independently of one another. In recent years, the existance and function of organelle contact site, regions of close apposition between membrane bound organelles has been recognized. They facilitate protein, lipid, and metabolite transport, coordinate organelle trafficking and function, and are involved in many cellular pathways and functions [[1](https://www.cell.com/cell/pdf/S0092-8674(23)01328-4.pdf)]. \n",
    "\n",
    "The distance between membranes at contact sites is between 30-80 nm depending on the types of organelles involved. This distance is not resolvable using standard confocal microscopy images [[2](https://zeiss-campus.magnet.fsu.edu/articles/basics/resolution.html)]. However, interactions between organelle which can include organelle contact sites can be estimated through overlap in label localization in confocal microscopy images.\n",
    "\n",
    "### **Oragnelle Interactions** 📐\n",
    "Here, we will use the overlapping area between two or more organelle objects as putative interaction sites. The current notebook is only formatted to collect information about pairwise interactions between organelles, but this will be expanded in future versions to include all possible n-way interaction types.\n",
    "\n",
    "**`Organelle interaction sites`**: regions of overlap between two or more organelles\n",
    "\n",
    "These sites can then be measured for features such as number, size, and shape utilizing the `get_morpholgy_metrics()` function outlined in [method_morphology](method_morphology.ipynb) notebook and/or measurements of subcellular distribution utilizing the `get_distribution()` function outlined in [method_distribution](method_distribution.ipynb) notebook.\n",
    "\n",
    "-----"
   ]
  },
  {
   "cell_type": "markdown",
   "metadata": {},
   "source": [
    "### 👣 **Summary of steps**  \n",
    "\n",
    "🛠️ **BUILD FUNCTION STEP-BY-STEP**\n",
    "\n",
    "- **`STEP 1`** - Select two organelles of interest\n",
    "\n",
    "- **`STEP 2`** - Create pairwise interaction sites\n",
    "\n",
    "- **`STEP 3`** - Apply mask to the object of interest\n",
    "\n",
    "- **`STEP 4`** - Measure interaction site morphology\n",
    "\n",
    "- **`STEP 5`** - Find the ID number of the organelles involved in each interaction site\n",
    "\n",
    "- **`STEP 6`** - Measure interaction site distribution\n",
    "\n",
    "⚙️ **DEFINE AND TEST *`Interactions`* FUNCTION**\n",
    "\n",
    "- Define `get_interactions_metrics` function\n",
    "- Run `get_interactions_metrics` function\n",
    "\n",
    "The above steps will be applied to pair of organelles of interest. Batch processing is available in a separate notebook."
   ]
  },
  {
   "cell_type": "markdown",
   "metadata": {},
   "source": [
    "---------------------\n",
    "## **IMPORTS AND LOAD IMAGE**\n",
    "Details about the functions included in this subsection are outlined in the [`2.0_quantification_setup`](2.0_quantification_setup.ipynb) notebook. Please visit that notebook first if you are confused about any of the code included here."
   ]
  },
  {
   "cell_type": "code",
   "execution_count": null,
   "metadata": {},
   "outputs": [],
   "source": [
    "from pathlib import Path\n",
    "import os\n",
    "import warnings\n",
    "\n",
    "import napari\n",
    "from napari.utils.notebook_display import nbscreenshot\n",
    "\n",
    "from skimage.measure import (regionprops, regionprops_table)\n",
    "\n",
    "from infer_subc.core.file_io import (read_czi_image,\n",
    "                                     import_inferred_organelle,\n",
    "                                     list_image_files)\n",
    "\n",
    "from infer_subc.core.img import *\n",
    "from infer_subc.utils.stats import *\n",
    "from infer_subc.utils.stats import (_assert_uint16_labels)\n",
    "from infer_subc.utils.stats_helpers import *\n",
    "from infer_subc.organelles import * \n",
    "\n",
    "%load_ext autoreload\n",
    "%autoreload 2"
   ]
  },
  {
   "cell_type": "markdown",
   "metadata": {},
   "source": [
    "#### &#x1F3C3; **Run code; no user input required**"
   ]
  },
  {
   "cell_type": "markdown",
   "metadata": {},
   "source": [
    "#### &#x1F6D1; &#x270D; **User Input Required:**\n",
    "\n",
    "Please specify the following information about your data: `raw_img_type`, `data_root_path`, `raw_data_path`, `seg_data_path`, and `quant_data_path`."
   ]
  },
  {
   "cell_type": "code",
   "execution_count": null,
   "metadata": {},
   "outputs": [],
   "source": [
    "#### USER INPUT REQUIRED ###\n",
    "raw_img_type = \".czi\"\n",
    "data_root_path = Path(os.path.expanduser(\"~\")) / \"Documents/Python_Scripts/Infer-subc\"\n",
    "raw_data_path = data_root_path / \"raw_single\"\n",
    "seg_data_path = data_root_path / \"out_single\"\n",
    "quant_data_path = data_root_path / \"quant_single\""
   ]
  },
  {
   "cell_type": "markdown",
   "metadata": {},
   "source": [
    "#### &#x1F3C3; **Run code; no user input required**"
   ]
  },
  {
   "cell_type": "code",
   "execution_count": null,
   "metadata": {},
   "outputs": [
    {
     "data": {
      "text/html": [
       "<div>\n",
       "<style scoped>\n",
       "    .dataframe tbody tr th:only-of-type {\n",
       "        vertical-align: middle;\n",
       "    }\n",
       "\n",
       "    .dataframe tbody tr th {\n",
       "        vertical-align: top;\n",
       "    }\n",
       "\n",
       "    .dataframe thead th {\n",
       "        text-align: right;\n",
       "    }\n",
       "</style>\n",
       "<table border=\"1\" class=\"dataframe\">\n",
       "  <thead>\n",
       "    <tr style=\"text-align: right;\">\n",
       "      <th></th>\n",
       "      <th>Image Name</th>\n",
       "    </tr>\n",
       "  </thead>\n",
       "  <tbody>\n",
       "    <tr>\n",
       "      <th>0</th>\n",
       "      <td>C:\\Users\\Shannon\\Documents\\Python_Scripts\\Infer-subc\\raw_single\\a24hrs_Ctrl_14_Unmixing.czi</td>\n",
       "    </tr>\n",
       "  </tbody>\n",
       "</table>\n",
       "</div>"
      ],
      "text/plain": [
       "                                                                                    Image Name\n",
       "0  C:\\Users\\Shannon\\Documents\\Python_Scripts\\Infer-subc\\raw_single\\a24hrs_Ctrl_14_Unmixing.czi"
      ]
     },
     "metadata": {},
     "output_type": "display_data"
    }
   ],
   "source": [
    "# Create the output directory to save the segmentation outputs in.\n",
    "if not Path.exists(quant_data_path):\n",
    "    Path.mkdir(quant_data_path)\n",
    "    print(f\"making {quant_data_path}\")\n",
    "\n",
    "# Create a list of the file paths for each image in the input folder. Select test image path.\n",
    "raw_img_file_list = list_image_files(raw_data_path,raw_img_type)\n",
    "pd.set_option('display.max_colwidth', None)\n",
    "pd.DataFrame({\"Image Name\":raw_img_file_list})"
   ]
  },
  {
   "cell_type": "markdown",
   "metadata": {},
   "source": [
    "#### &#x1F6D1; &#x270D; **User Input Required:**\n",
    "\n",
    "Use the list above to specify which image you wish to analyze based on its index: `test_img_n`"
   ]
  },
  {
   "cell_type": "code",
   "execution_count": null,
   "metadata": {},
   "outputs": [],
   "source": [
    "#### USER INPUT REQUIRED ###\n",
    "test_img_n = 0"
   ]
  },
  {
   "cell_type": "markdown",
   "metadata": {},
   "source": [
    "#### &#x1F3C3; **Run code; no user input required**"
   ]
  },
  {
   "cell_type": "code",
   "execution_count": null,
   "metadata": {},
   "outputs": [
    {
     "name": "stdout",
     "output_type": "stream",
     "text": [
      "Metadata information\n",
      "File path: C:\\Users\\Shannon\\Documents\\Python_Scripts\\Infer-subc\\raw_single\\a24hrs_Ctrl_14_Unmixing.czi\n",
      "Channel 0 name: 0 :: a24hrs_Ctrl_14_Unmixing-0 :: Nuclei_Jan22\n",
      "Channel 1 name: 0 :: a24hrs_Ctrl_14_Unmixing-0 :: Lyso+405_Jan22\n",
      "Channel 2 name: 0 :: a24hrs_Ctrl_14_Unmixing-0 :: Mito+405_Jan22\n",
      "Channel 3 name: 0 :: a24hrs_Ctrl_14_Unmixing-0 :: Golgi+405_Jan22\n",
      "Channel 4 name: 0 :: a24hrs_Ctrl_14_Unmixing-0 :: Peroxy+405_Jan22\n",
      "Channel 5 name: 0 :: a24hrs_Ctrl_14_Unmixing-0 :: ER+405_Jan22\n",
      "Channel 6 name: 0 :: a24hrs_Ctrl_14_Unmixing-0 :: BODIPY+405low_Jan22\n",
      "Channel 7 name: 0 :: a24hrs_Ctrl_14_Unmixing-0 :: Residuals\n",
      "Scale (ZYX): (0.3891184878080979, 0.07987165184837317, 0.07987165184837318)\n",
      "Channel axis: 0\n"
     ]
    }
   ],
   "source": [
    "# Read in the image and metadata as an ndarray and dictionary from the test image selected above. \n",
    "test_img_name = raw_img_file_list[test_img_n]\n",
    "img_data,meta_dict = read_czi_image(test_img_name)\n",
    "\n",
    "# Define some of the metadata features.\n",
    "channel_names = meta_dict['name']\n",
    "meta = meta_dict['metadata']['aicsimage']\n",
    "scale = meta_dict['scale']\n",
    "channel_axis = meta_dict['channel_axis']\n",
    "file_path = meta_dict['file_name']\n",
    "\n",
    "print(\"Metadata information\")\n",
    "print(f\"File path: {file_path}\")\n",
    "for i in list(range(len(channel_names))):\n",
    "    print(f\"Channel {i} name: {channel_names[i]}\")\n",
    "print(f\"Scale (ZYX): {scale}\")\n",
    "print(f\"Channel axis: {channel_axis}\")"
   ]
  },
  {
   "cell_type": "markdown",
   "metadata": {},
   "source": [
    "#### &#x1F6D1; &#x270D; **User Input Required:**\n",
    "\n",
    "Specify the following information about the segmentation files: - `org_file_names`, `org_channels_ordered`, `regions_file_names`, `suffix_separator`, and `mask_name`."
   ]
  },
  {
   "cell_type": "code",
   "execution_count": null,
   "metadata": {},
   "outputs": [],
   "source": [
    "#### USER INPUT REQUIRED ###\n",
    "org_file_names = [\"lyso\", \"mito\", \"golgi\", \"perox\", \"ER\", \"LD\"]\n",
    "org_channels_ordered = [1, 2, 3, 4, 5, 6]\n",
    "regions_file_names = [\"cell\", \"nuc\"]\n",
    "suffix_separator = \"-\"\n",
    "mask_name = \"cell\""
   ]
  },
  {
   "cell_type": "markdown",
   "metadata": {},
   "source": [
    "#### &#x1F3C3; **Run code; no user input required**"
   ]
  },
  {
   "cell_type": "code",
   "execution_count": null,
   "metadata": {},
   "outputs": [
    {
     "name": "stderr",
     "output_type": "stream",
     "text": [
      "WARNING: QWindowsWindow::setGeometry: Unable to set geometry 1086x661+1530+213 (frame: 1104x708+1521+175) on QWidgetWindow/\"_QtMainWindowClassWindow\" on \"\\\\.\\DISPLAY1\". Resulting geometry: 905x831+1528+206 (frame: 923x878+1519+168) margins: 9, 38, 9, 9 minimum size: 385x519 MINMAXINFO maxSize=0,0 maxpos=0,0 mintrack=403,566 maxtrack=0,0)\n",
      "09-Feb-25 13:14:41 - vispy    - WARNING  - QWindowsWindow::setGeometry: Unable to set geometry 1086x661+1530+213 (frame: 1104x708+1521+175) on QWidgetWindow/\"_QtMainWindowClassWindow\" on \"\\\\.\\DISPLAY1\". Resulting geometry: 905x831+1528+206 (frame: 923x878+1519+168) margins: 9, 38, 9, 9 minimum size: 385x519 MINMAXINFO maxSize=0,0 maxpos=0,0 mintrack=403,566 maxtrack=0,0)\n"
     ]
    },
    {
     "name": "stdout",
     "output_type": "stream",
     "text": [
      "The following matching files were found and can now be viewed in Napari:\n"
     ]
    },
    {
     "data": {
      "text/plain": [
       "{'raw': WindowsPath('C:/Users/Shannon/Documents/Python_Scripts/Infer-subc/raw_single/a24hrs_Ctrl_14_Unmixing.czi'),\n",
       " 'lyso': WindowsPath('C:/Users/Shannon/Documents/Python_Scripts/Infer-subc/out_single/a24hrs_Ctrl_14_Unmixing-lyso.tiff'),\n",
       " 'mito': WindowsPath('C:/Users/Shannon/Documents/Python_Scripts/Infer-subc/out_single/a24hrs_Ctrl_14_Unmixing-mito.tiff'),\n",
       " 'golgi': WindowsPath('C:/Users/Shannon/Documents/Python_Scripts/Infer-subc/out_single/a24hrs_Ctrl_14_Unmixing-golgi.tiff'),\n",
       " 'perox': WindowsPath('C:/Users/Shannon/Documents/Python_Scripts/Infer-subc/out_single/a24hrs_Ctrl_14_Unmixing-perox.tiff'),\n",
       " 'ER': WindowsPath('C:/Users/Shannon/Documents/Python_Scripts/Infer-subc/out_single/a24hrs_Ctrl_14_Unmixing-ER.tiff'),\n",
       " 'LD': WindowsPath('C:/Users/Shannon/Documents/Python_Scripts/Infer-subc/out_single/a24hrs_Ctrl_14_Unmixing-LD.tiff'),\n",
       " 'cell': WindowsPath('C:/Users/Shannon/Documents/Python_Scripts/Infer-subc/out_single/a24hrs_Ctrl_14_Unmixing-cell.tiff'),\n",
       " 'nuc': WindowsPath('C:/Users/Shannon/Documents/Python_Scripts/Infer-subc/out_single/a24hrs_Ctrl_14_Unmixing-nuc.tiff')}"
      ]
     },
     "metadata": {},
     "output_type": "display_data"
    }
   ],
   "source": [
    "# find file paths for segmentations\n",
    "all_suffixes = org_file_names + regions_file_names\n",
    "filez = find_segmentation_tiff_files(file_path, all_suffixes, seg_data_path, suffix_separator)\n",
    "\n",
    "# read the segmentation and masks/regions files into memory\n",
    "organelles = [read_tiff_image(filez[org]) for org in org_file_names]\n",
    "regions = [] \n",
    "for m in regions_file_names:\n",
    "    mfile = read_tiff_image(filez[m])\n",
    "    regions.append(mfile)\n",
    "\n",
    "# match the intensity channels to the segmentation files\n",
    "intensities = [img_data[ch] for ch in org_channels_ordered]\n",
    "\n",
    "# specifiy the mask image\n",
    "m = regions_file_names.index(mask_name)\n",
    "mask = regions[m]\n",
    "\n",
    "# open viewer and add images\n",
    "viewer = napari.Viewer()\n",
    "for r, reg in enumerate(regions_file_names):\n",
    "    viewer.add_image(regions[r],\n",
    "                     scale=scale,\n",
    "                     name=f\"{reg} mask\")\n",
    "\n",
    "for o, org in enumerate(org_file_names):\n",
    "    viewer.add_image(intensities[o],\n",
    "                     scale=scale,\n",
    "                     name=f\"{org} intensity channel\")\n",
    "    viewer.add_labels(organelles[o],\n",
    "                      scale=scale,\n",
    "                      name=f\"{org} segmentation\")\n",
    "viewer.grid.enabled = True\n",
    "viewer.reset_view()\n",
    "\n",
    "print(\"The following matching files were found and can now be viewed in Napari:\")\n",
    "filez\n"
   ]
  },
  {
   "cell_type": "markdown",
   "metadata": {},
   "source": [
    "-----\n",
    "## **QUANTIFY INTERACTIONS BETWEEN *two organelles* FROM <INS>ONE CELL</INS>**"
   ]
  },
  {
   "cell_type": "markdown",
   "metadata": {},
   "source": [
    "### **`STEP 1` - Select two organelles of interest**"
   ]
  },
  {
   "cell_type": "markdown",
   "metadata": {},
   "source": [
    "&#x1F453; **FYI:** To ensure we are performing single cell analysis, we will apply the cell segmentation as a mask to the segmentation file. This will exclude any objects outside of the mask area from the analysis.\n",
    "\n",
    "#### &#x1F6D1; &#x270D; **User Input Required:**\n",
    "\n",
    "Please specify which organelle you would like to examine in this analysis and which segmentation file should be used as the mask:\n",
    "- `org_a_name`: the suffix of the first organelle you would like to measure interactions for; it should match one of the names included in the \"org_file_names\" variable above\n",
    "- `org_b_name`: the suffix of the second organelle you would like to measure interactions for; it should match one of the names included in the \"org_file_names\" variable above"
   ]
  },
  {
   "cell_type": "code",
   "execution_count": null,
   "metadata": {},
   "outputs": [],
   "source": [
    "#### USER INPUT REQUIRED ###\n",
    "org_a_name = \"lyso\"\n",
    "org_b_name = \"mito\""
   ]
  },
  {
   "cell_type": "markdown",
   "metadata": {},
   "source": [
    "### **`STEP 2` - Create pairwise interaction sites**"
   ]
  },
  {
   "cell_type": "markdown",
   "metadata": {},
   "source": [
    "#### &#x1F3C3; **Run code; no user input required**\n",
    "\n",
    "&#x1F453; **FYI:** This block of code selects the voxels within the image that are shared between the two organelles using a `logical OR` opporation. The output from this step is included in the Napari window. The interaction sites are highlighted in white and the two organelles are colors magenta and green."
   ]
  },
  {
   "cell_type": "code",
   "execution_count": null,
   "metadata": {},
   "outputs": [],
   "source": [
    "# ensure the organelles chosen are labeled with ID numbers\n",
    "a = _assert_uint16_labels(org_a_name)\n",
    "b = _assert_uint16_labels(org_b_name)\n",
    "\n",
    "# logical OR\n",
    "a_int_b = np.logical_and(a > 0, b > 0)\n",
    "\n",
    "# visualize output in Napari\n",
    "viewer.layers.clear()\n",
    "viewer.add_image(a>0, colormap='green', blending ='additive')\n",
    "viewer.add_image(b>0, colormap='magenta', blending ='additive')\n",
    "viewer.add_image(a_int_b>0, blending ='additive')\n",
    "nbscreenshot(viewer, canvas_only=True)"
   ]
  },
  {
   "cell_type": "markdown",
   "metadata": {},
   "source": [
    "### **`STEP 3` - Measure interaction site morphology**"
   ]
  },
  {
   "cell_type": "code",
   "execution_count": null,
   "metadata": {},
   "outputs": [],
   "source": [
    "# TODO: figure out how to access the props table so that the interaction IDs can be created as done below\n",
    "\n",
    "aXb_interaction_tab = get_morphology_metrics(segmentation_img=a_int_b, \n",
    "                                            seg_name=f\"{org_a_name}X{org_b_name}\", \n",
    "                                            intensity_img=None, \n",
    "                                            mask=mask, \n",
    "                                            mask_name=mask_name,\n",
    "                                            scale=scale)"
   ]
  },
  {
   "cell_type": "markdown",
   "metadata": {},
   "source": [
    "### **`STEP 5` - Find the ID number of the organelles involved in each interaction site**"
   ]
  },
  {
   "cell_type": "code",
   "execution_count": null,
   "metadata": {},
   "outputs": [],
   "source": [
    "label_a = []\n",
    "index_ab = []\n",
    "label_b = []\n",
    "for index, lab in enumerate(props[\"label\"]):\n",
    "    # this seems less elegant than you might wish, given that regionprops returns a slice,\n",
    "    # but we need to expand the slice out by one voxel in each direction, or surface area freaks out\n",
    "    volume = labels[props[\"slice\"][index]]\n",
    "    la = a[props[\"slice\"][index]]\n",
    "    lb = b[props[\"slice\"][index]]\n",
    "    volume = volume == lab\n",
    "    la = la[volume]\n",
    "    lb = lb[volume]\n",
    "\n",
    "    all_as = np.unique(la[la>0]).tolist()\n",
    "    all_bs = np.unique(lb[lb>0]).tolist()\n",
    "    if len(all_as) != 1:\n",
    "        print(f\"we have an error.  as-> {all_as}\")\n",
    "    if len(all_bs) != 1:\n",
    "        print(f\"we have an error.  bs-> {all_bs}\")\n",
    "\n",
    "    label_a.append(f\"{all_as[0]}\" )\n",
    "    label_b.append(f\"{all_bs[0]}\" )\n",
    "    index_ab.append(f\"{all_as[0]}_{all_bs[0]}\")"
   ]
  },
  {
   "cell_type": "markdown",
   "metadata": {},
   "source": [
    "### **`STEP 6` - Measure interaction site distribution**"
   ]
  },
  {
   "cell_type": "markdown",
   "metadata": {},
   "source": [
    "### **`DEFINE` - `get_interaction_metrics` function**"
   ]
  }
 ],
 "metadata": {
  "language_info": {
   "name": "python"
  }
 },
 "nbformat": 4,
 "nbformat_minor": 2
}
