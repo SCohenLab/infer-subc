{
 "cells": [
  {
   "cell_type": "markdown",
   "metadata": {},
   "source": [
    "# **Measure Object Morphology**\n",
    "\n",
    "***Prior to this notebook, you should have already run through [2.0_quantification_setup](2.0_quantification_setup.ipynb).***\n",
    "\n",
    "The `'methods_...'` notebooks included here in infer-subc Part 2: quantification will go over how each of the quantification methods (morphology, interactions, and distribution) are carried out. The notebooks will explain each step in the method and display the combined function at the end of the notebook. \n",
    "\n",
    "### **Biological Relevance**\n",
    "Measurements of organelle, interaction site, and cell/cellular region morphology -- amount, size, and shape -- are included as part of the organelle signature analysis. These metrics can provide information about the physiology of a cell and its constituent organelles. \n",
    "\n",
    "Organelle amount per cell has been demonstrated to differ between cell types. The cytoplasms of some specialized cell types, like adipocytes, are composed almost entirely by a single large lipid droplet for fat storage[[1]](https://doi.org/10.3390/biom11121906), while other cell types, like muscle cells, have large and elaborate mitochdondrial networks for effective metabolite diffusion during muscle contraction[[2]](https://doi.org/10.1038/nature14614).\n",
    "\n",
    "Additionally, different organelle organelle morphologies are important to their function. For example, fission and fusion maintain mitochondrial homeostasis by modulating the size and connectedness of the mitochondrial network. A recent study demonstrated that asymmetric fission events resulted in morphologically distinct daughter mitochondria with different fates; the larger mitochondria continued to grow and divide, while the smaller, spherical fragments containing high reactive oxygen species (ROS) were destined for autophagic degradation[[3]](https://doi.org/10.1038/s41586-021-03510-6).\n",
    "\n",
    "The size and shape of cells can also be informative about their functions. For example, the shape of astrocyte cells and nuclei can indicate their activity state (e.g., reactive or non-reactive) and function[[4]](https://doi.org/10.1186/s40659-024-00532-y). \n",
    "\n",
    "### **Morphology Measurements** 📐\n",
    "The following morphological measurements are included:\n",
    "- label\n",
    "- centroid\n",
    "- bbox\n",
    "- area\n",
    "- equivalent_diameter\n",
    "- extent\n",
    "- euler_number\n",
    "- solidity\n",
    "- axis_major_length\n",
    "\n",
    "The following measures of the intensity images are also included:\n",
    "- min_intensity\n",
    "- max_intensity\n",
    "- mean_intensity\n",
    "\n",
    "These measurements are derived from the [`skimage.measure.regionprops()`](https://scikit-image.org/docs/stable/api/skimage.measure.html#skimage.measure.regionprops) function. More in depth information about each measurement can be found there."
   ]
  },
  {
   "cell_type": "markdown",
   "metadata": {},
   "source": []
  }
 ],
 "metadata": {
  "language_info": {
   "name": "python"
  }
 },
 "nbformat": 4,
 "nbformat_minor": 2
}
