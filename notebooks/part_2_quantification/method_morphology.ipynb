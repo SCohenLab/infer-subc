{
 "cells": [
  {
   "cell_type": "markdown",
   "metadata": {},
   "source": [
    "# **Measure Object Morphology**\n",
    "\n",
    "***Prior to this notebook, you should have already run through [2.0_quantification_setup](2.0_quantification_setup.ipynb).***\n",
    "\n",
    "The `'methods_...'` notebooks included here in infer-subc Part 2: quantification will go over how each of the quantification methods (morphology, interactions, and distribution) are carried out. The notebooks will explain each step in the method and display the combined function at the end of the notebook. \n",
    "\n",
    "### **Biological Relevance**\n",
    "Measurements of organelle, interaction site, and cell/cellular region morphology -- amount, size, and shape -- are included as part of the organelle signature analysis. These metrics can provide information about the physiology of a cell and its constituent organelles. \n",
    "\n",
    "Organelle amount per cell has been demonstrated to differ between cell types. The cytoplasms of some specialized cell types, like adipocytes, are composed almost entirely by a single large lipid droplet for fat storage[[1]](https://doi.org/10.3390/biom11121906), while other cell types, like muscle cells, have large and elaborate mitochdondrial networks for effective metabolite diffusion during muscle contraction[[2]](https://doi.org/10.1038/nature14614).\n",
    "\n",
    "Additionally, different organelle organelle morphologies are important to their function. For example, fission and fusion maintain mitochondrial homeostasis by modulating the size and connectedness of the mitochondrial network. A recent study demonstrated that asymmetric fission events resulted in morphologically distinct daughter mitochondria with different fates; the larger mitochondria continued to grow and divide, while the smaller, spherical fragments containing high reactive oxygen species (ROS) were destined for autophagic degradation[[3]](https://doi.org/10.1038/s41586-021-03510-6).\n",
    "\n",
    "The size and shape of cells can also be informative about their functions. For example, the shape of astrocyte cells and nuclei can indicate their activity state (e.g., reactive or non-reactive) and function[[4]](https://doi.org/10.1186/s40659-024-00532-y). \n",
    "\n",
    "### **Morphology Measurements** 📐\n",
    "The following morphological measurements are included:\n",
    "- `label`: \n",
    "- `centroid`: centroid coordinate tuple (row, col, Z)\n",
    "- `bbox`: bounding box coordinates (min_row, min_col, max_row, max_col); pixels/voxels belonging to the bounding box are in the half-open interval [min_row; max_row) and [min_col; max_col).\n",
    "- `area`: (or volume for 3D z-stack images) area of the region i.e. number of pixels of the region scaled by pixel-area\n",
    "- `equivalent_diameter`: the diameter of a circle with the same area as the region.\n",
    "- `extent`: ratio of pixels/voxels in the region to pixels/voxels in the total bounding box. Computed as area / (rows * cols)\n",
    "- `euler_number`: Euler characteristic of the set of non-zero pixels. Computed as number of connected components subtracted by number of holes (input.ndim connectivity). In 3D, number of connected components plus number of holes subtracted by number of tunnels.\n",
    "- `solidity`: ratio of pixels/voxels in the region to pixels/voxels of the convex hull image.\n",
    "- `axis_major_length`: the length of the major axis of the ellipse that has the same normalized second central moments as the region.\n",
    "- `surface_area`: the surface area of the region. For 3D, surface area of a 2D surface mesh of the region (skimage.measure.marching_cubes) using skimage.measure.mesh_surface_area.\n",
    "\n",
    "The following measures of the intensity images are also included:\n",
    "- `min_intensity`: value with the least intensity in the region.\n",
    "- `max_intensity`: value with the greatest intensity in the region.\n",
    "- `mean_intensity`: value with the mean intensity in the region.\n",
    "- `standard_deviation_intensity`: the standard deviation of the intensity in the region.\n",
    "\n",
    "These measurements and definitions are derived from the [`skimage.measure.regionprops()`](https://scikit-image.org/docs/stable/api/skimage.measure.html#skimage.measure.regionprops) function. More in depth information about each measurement can be found there."
   ]
  },
  {
   "cell_type": "markdown",
   "metadata": {},
   "source": []
  }
 ],
 "metadata": {
  "language_info": {
   "name": "python"
  }
 },
 "nbformat": 4,
 "nbformat_minor": 2
}
