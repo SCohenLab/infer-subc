{
 "cells": [
  {
   "cell_type": "markdown",
   "metadata": {},
   "source": [
    "# Infer ***peroxisomes*** - part 7️⃣\n",
    "\n",
    "--------------\n",
    "\n",
    "## OBJECTIVE:  ✅ Infer sub-cellular component ***peroxisomes*** in order to understand interactome \n",
    "\n",
    "\n",
    "\n",
    "Dependencies:\n",
    "The ***peroxisomes***  inference rely on the cytosol mask.\n"
   ]
  },
  {
   "cell_type": "markdown",
   "metadata": {},
   "source": [
    "\n",
    "## IMPORTS"
   ]
  },
  {
   "cell_type": "code",
   "execution_count": 1,
   "metadata": {},
   "outputs": [],
   "source": [
    "# top level imports\n",
    "from pathlib import Path\n",
    "import os, sys\n",
    "from collections import defaultdict\n",
    "\n",
    "import numpy as np\n",
    "\n",
    "from scipy import ndimage as ndi\n",
    "from aicssegmentation.core.seg_dot import dot_2d_slice_by_slice_wrapper, dot_3d_wrapper\n",
    "\n",
    "from aicssegmentation.core.pre_processing_utils import ( intensity_normalization, \n",
    "                                                         image_smoothing_gaussian_slice_by_slice )\n",
    "from aicssegmentation.core.utils import size_filter\n",
    "from aicssegmentation.core.MO_threshold import MO\n",
    "\n",
    "from skimage.segmentation import watershed\n",
    "from skimage.feature import peak_local_max\n",
    "from skimage.morphology import remove_small_objects,  ball , dilation  # function for post-processing (size filter)\n",
    "from skimage.measure import label\n",
    "\n",
    "# # package for io \n",
    "from aicsimageio import AICSImage\n",
    "\n",
    "import napari\n",
    "\n",
    "### import local python functions in ../infer_subc_2d\n",
    "sys.path.append(os.path.abspath((os.path.join(os.getcwd(), '..'))))\n",
    "\n",
    "from infer_subc_2d.utils.file_io import (read_czi_image, \n",
    "                                                                    list_image_files)\n",
    "from infer_subc_2d.utils.img import *\n",
    "from infer_subc_2d.constants import (TEST_IMG_N,\n",
    "                                                                    NUC_CH ,\n",
    "                                                                    LYSO_CH ,\n",
    "                                                                    MITO_CH ,\n",
    "                                                                    peroxisome_CH ,\n",
    "                                                                    PEROXI_CH ,\n",
    "                                                                    ER_CH ,\n",
    "                                                                    LIPID_CH ,\n",
    "                                                                    RESIDUAL_CH )        \n",
    "                                                                    \n",
    "from infer_subc_2d.organelles import fixed_infer_soma, fixed_infer_nuclei, infer_cytosol, find_optimal_Z\n",
    "\n",
    "\n",
    "%load_ext autoreload\n",
    "%autoreload 2\n",
    "\n",
    "\n",
    "test_img_n = TEST_IMG_N"
   ]
  },
  {
   "cell_type": "markdown",
   "metadata": {},
   "source": [
    "# IMAGE PROCESSING Objective 7:  infer ***peroxisomes***\n",
    "> Back to  [OUTLINE: Objective #5](00_pipeline_setup.ipynb#summary-of-objectives)\n",
    "\n",
    "\n",
    "## summary & steps\n",
    "\n",
    "Generally following the Allen Cell Segmenter procedure, but doing more aggressive contrast scaling than their prescribed contrast scaling.\n",
    "\n",
    "> PMP34 os  good start for Peroxisomes  as per from [Allen Cell](https://www.allencell.org/cell-observations/category/peroxisome)\n",
    "\n",
    "> [playground_dots.ipynb](https://github.com/AllenInstitute/aics-segmentation/blob/master/lookup_table_demo/playground_dots.ipynb)\n",
    "\n",
    "### steps\n",
    "\n",
    "INPUT\n",
    "- ch 4\n",
    "- cytosol mask\n",
    "\n",
    "PRE-PROCESSING\n",
    "-  MM scale\n",
    "-  G2 gaussian filter 2D \n",
    "   -  sigma = 1.\n",
    "\n",
    "CORE-PROCESSING\n",
    "- S2 - dot filter\n",
    "- W - watershed to disambiguate overlapping dots\n",
    "\n",
    "POST-PROCESSING\n",
    "  - S  - remove dots less than 2x2 pixels (area = 4)\n",
    "\n",
    "OUTPUT\n",
    "- object ***peroxisomes*** \n",
    "\n",
    "\n",
    "\n",
    "\n",
    "\n",
    ">#### ASIDE:  3D Spot filter (S3)\n",
    ">* Parameter syntax: `[[scale_1, cutoff_1], [scale_2, cutoff_2], ....]` \n",
    ">    * `scale_x` is set based on the estimated radius of your target dots. For example, if visually the diameter of the dots is usually 3~4 pixels, then you may want to set `scale_x` as `1` or something near `1` (like `1.25`). Multiple scales can be used, if you have dots of very different sizes.  \n",
    ">    * `cutoff_x` is a threshold applied on the actual filter reponse to get the binary result. Smaller `cutoff_x` may yielf more dots and fatter segmentation, while larger `cutoff_x` could be less permisive and yield less dots and slimmer segmentation. \n",
    ">* Parameter for PMP34:  `s3_param = [[1,0.03]]`\n"
   ]
  },
  {
   "cell_type": "markdown",
   "metadata": {},
   "source": [
    "\n",
    "------------------------\n",
    "# LOAD RAW IMAGE DATA\n",
    "Identify path to _raw_ image data and load our example image\n"
   ]
  },
  {
   "cell_type": "code",
   "execution_count": 2,
   "metadata": {},
   "outputs": [
    {
     "name": "stderr",
     "output_type": "stream",
     "text": [
      "/opt/anaconda3/envs/napariNEW/lib/python3.9/site-packages/ome_types/_convenience.py:105: FutureWarning: The default XML parser will be changing from 'xmlschema' to 'lxml' in version 0.4.0.  To silence this warning, please provide the `parser` argument, specifying either 'lxml' (to opt into the new behavior), or'xmlschema' (to retain the old behavior).\n",
      "  d = to_dict(os.fspath(xml), parser=parser, validate=validate)\n"
     ]
    }
   ],
   "source": [
    "data_root_path = Path(os.path.expanduser(\"~\")) / \"Projects/Imaging/data\"\n",
    "\n",
    "# linearly unmixed \".czi\" files are here\n",
    "data_path = data_root_path / \"raw\"\n",
    "im_type = \".czi\"\n",
    "\n",
    "# get the list of all files\n",
    "img_file_list = list_image_files(data_path,im_type)\n",
    "test_img_name = img_file_list[test_img_n]\n",
    "\n",
    "img_data,meta_dict = read_czi_image(test_img_name)\n",
    "\n",
    "# get some top-level info about the RAW data\n",
    "channel_names = meta_dict['name']\n",
    "img = meta_dict['metadata']['aicsimage']\n",
    "scale = meta_dict['scale']\n",
    "channel_axis = meta_dict['channel_axis']\n"
   ]
  },
  {
   "cell_type": "markdown",
   "metadata": {},
   "source": [
    "## CHOOZE Z-SLICE\n",
    "\n",
    "Lets find the slice with the most overall intensity..."
   ]
  },
  {
   "cell_type": "code",
   "execution_count": 3,
   "metadata": {},
   "outputs": [],
   "source": [
    "ch_to_agg = ( LYSO_CH ,\n",
    "                        MITO_CH ,\n",
    "                        peroxisome_CH ,\n",
    "                        PEROXI_CH ,\n",
    "                        ER_CH ,\n",
    "                        LIPID_CH )\n",
    "                            \n",
    "nuc_ch = NUC_CH\n",
    "optimal_Z = find_optimal_Z(img_data, nuc_ch, ch_to_agg) \n",
    "\n"
   ]
  },
  {
   "cell_type": "markdown",
   "metadata": {},
   "source": [
    "Now get the single \"optimal\" slice of all our organelle channels...."
   ]
  },
  {
   "cell_type": "code",
   "execution_count": 4,
   "metadata": {},
   "outputs": [],
   "source": [
    "img_2D = select_z_from_raw(img_data, optimal_Z)\n"
   ]
  },
  {
   "cell_type": "markdown",
   "metadata": {},
   "source": [
    "## Collect the ***cytosol*** mask\n",
    "\n",
    "i.e. inferred soma, nuclei and cytosol objects\n",
    "(takes < 1 sec)"
   ]
  },
  {
   "cell_type": "code",
   "execution_count": 5,
   "metadata": {},
   "outputs": [],
   "source": [
    "soma_mask =  fixed_infer_soma(img_2D) \n",
    "\n",
    "nuclei_object =  fixed_infer_nuclei(img_2D, soma_mask) \n",
    "cytosol_mask =  infer_cytosol( nuclei_object,soma_mask) \n"
   ]
  },
  {
   "cell_type": "markdown",
   "metadata": {},
   "source": [
    "## Build  ***Peroxisome***  specific inference workflow\n",
    "\n"
   ]
  },
  {
   "cell_type": "markdown",
   "metadata": {},
   "source": [
    "### INPUT"
   ]
  },
  {
   "cell_type": "code",
   "execution_count": 30,
   "metadata": {},
   "outputs": [],
   "source": [
    "###################\n",
    "# INPUT\n",
    "###################\n",
    "# raw_peroxi   = img_2D[PEROXI_CH].copy()\n",
    "raw_peroxi = select_channel_from_raw(img_2D, PEROXI_CH)\n"
   ]
  },
  {
   "cell_type": "markdown",
   "metadata": {},
   "source": [
    "### PRE-PROCESSING"
   ]
  },
  {
   "cell_type": "code",
   "execution_count": 31,
   "metadata": {},
   "outputs": [],
   "source": [
    "###################\n",
    "# PRE_PROCESSING\n",
    "###################\n",
    "struct_img = min_max_intensity_normalization( raw_peroxi )\n",
    "\n",
    "gaussian_smoothing_sigma = 3.0\n",
    "\n",
    "structure_img_smooth = image_smoothing_gaussian_slice_by_slice(   struct_img,\n",
    "                                                                                                                        sigma=gaussian_smoothing_sigma,\n",
    "                                                                                                                    )\n"
   ]
  },
  {
   "cell_type": "markdown",
   "metadata": {},
   "source": [
    "### CORE PROCESSING"
   ]
  },
  {
   "cell_type": "code",
   "execution_count": 32,
   "metadata": {},
   "outputs": [],
   "source": [
    "###################\n",
    "# CORE_PROCESSING\n",
    "###################\n",
    "\n",
    "################################\n",
    "## PARAMETERS for this step ##\n",
    "dot_2d_sigma = 1\n",
    "dot_2d_cutoff = 0.01\n",
    "s2_param = [[dot_2d_sigma,dot_2d_cutoff]]\n",
    "################################\n",
    "bw = dot_2d_slice_by_slice_wrapper(structure_img_smooth, s2_param)"
   ]
  },
  {
   "cell_type": "markdown",
   "metadata": {},
   "source": [
    "### POST-PROCESSING\n",
    "\n",
    "> NOTE:  AllenCell Segmenter suggests using a masked watershed to disambiguate overlapping peroxisomes, but it is depricated here as our contrast/separation is pretty good."
   ]
  },
  {
   "cell_type": "code",
   "execution_count": 33,
   "metadata": {},
   "outputs": [],
   "source": [
    "\n",
    "###################\n",
    "# POST_PROCESSING\n",
    "###################\n",
    "# watershed\n",
    "#minArea = 4\n",
    "# mask_ = remove_small_objects(bw>0, min_size=minArea, connectivity=1, in_place=False) \n",
    "# seed_ = dilation(peak_local_max(struct_img,labels=label(mask_), min_distance=2, indices=False), selem=ball(1))\n",
    "# watershed_map = -1*ndi.distance_transform_edt(bw)\n",
    "# struct_obj = watershed(watershed_map, label(seed_), mask=mask_, watershed_line=True)\n",
    "\n",
    "\n",
    "bw = apply_mask(bw, cytosol_mask)\n",
    "\n",
    "################################\n",
    "## PARAMETERS for this step ##\n",
    "small_object_width = 2 \n",
    "################################\n",
    "\n",
    "#struct_obj = remove_small_objects(bw>0, min_size=minArea, connectivity=1, in_place=False)\n",
    "peroxi_object = size_filter_2D(bw, \n",
    "                                                min_size= small_object_width**2, \n",
    "                                                connectivity=1)"
   ]
  },
  {
   "cell_type": "markdown",
   "metadata": {},
   "source": [
    "#### Visualize with `napari`\n",
    "Visualize the first-pass segmentation and labeling with `napari`."
   ]
  },
  {
   "cell_type": "code",
   "execution_count": 34,
   "metadata": {},
   "outputs": [],
   "source": [
    "viewer = napari.Viewer()\n"
   ]
  },
  {
   "cell_type": "code",
   "execution_count": 35,
   "metadata": {},
   "outputs": [
    {
     "data": {
      "text/plain": [
       "<Image layer 'bw' at 0x18c46da00>"
      ]
     },
     "execution_count": 35,
     "metadata": {},
     "output_type": "execute_result"
    }
   ],
   "source": [
    "\n",
    "\n",
    "viewer = napari.view_image(\n",
    "    peroxi_object,\n",
    "    scale=scale\n",
    ")\n",
    "\n",
    "viewer.scale_bar.visible = True\n",
    "viewer.add_image(\n",
    "    structure_img_smooth,\n",
    "    scale=scale\n",
    ")\n",
    "viewer.add_image(\n",
    "    bw,\n",
    "    scale=scale\n",
    ")\n"
   ]
  },
  {
   "cell_type": "code",
   "execution_count": 42,
   "metadata": {},
   "outputs": [
    {
     "data": {
      "text/plain": [
       "True"
      ]
     },
     "execution_count": 42,
     "metadata": {},
     "output_type": "execute_result"
    }
   ],
   "source": [
    "bw.any()"
   ]
  },
  {
   "cell_type": "markdown",
   "metadata": {},
   "source": [
    "### Collect into a single `infer_peroxisome` function"
   ]
  },
  {
   "cell_type": "code",
   "execution_count": 49,
   "metadata": {},
   "outputs": [],
   "source": [
    "##########################\n",
    "#  infer_peroxisome\n",
    "##########################\n",
    "def _infer_peroxisome( in_img: np.ndarray,\n",
    "                                cytosol_mask: np.ndarray,\n",
    "                                gauss_sig: float,\n",
    "                                dot_scale: float,\n",
    "                                dot_cut: float,\n",
    "                                small_obj_w: int,\n",
    "                            ) -> np.ndarray:\n",
    "    \"\"\"\n",
    "    Procedure to infer peroxisome from linearly unmixed input.\n",
    "\n",
    "   Parameters:\n",
    "    ------------\n",
    "    in_img: np.ndarray\n",
    "        a 3d image containing all the channels\n",
    "    cytosol_mask: np.ndarray\n",
    "        mask\n",
    "    gauss_sig: float\n",
    "        sigma for gaussian smoothing of  signal\n",
    "    dot_scale: float\n",
    "        scales (log_sigma) for dot filter (1,2, and 3)\n",
    "    dot_cut: float\n",
    "        threshold for dot filter thresholds (1,2,and 3)\n",
    "    small_obj_w: int\n",
    "        minimu object size cutoff for nuclei post-processing\n",
    " \n",
    "    Returns:\n",
    "    -------------\n",
    "    peroxi_object\n",
    "        mask defined extent of peroxisome object\n",
    "    \"\"\"\n",
    "    peroxi_ch = PEROXI_CH\n",
    "    ###################\n",
    "    # EXTRACT\n",
    "    ###################    \n",
    "    peroxi = select_channel_from_raw(in_img, peroxi_ch)\n",
    "\n",
    "    ###################\n",
    "    # PRE_PROCESSING\n",
    "    ###################    \n",
    "    peroxi = min_max_intensity_normalization(peroxi)\n",
    "\n",
    "    peroxi = image_smoothing_gaussian_slice_by_slice(peroxi, sigma=gauss_sig)\n",
    "\n",
    "   ###################\n",
    "    # CORE_PROCESSING\n",
    "    ###################\n",
    "    s3_param = [[dot_scale,dot_cut]]\n",
    "    bw = dot_2d_slice_by_slice_wrapper(peroxi, s3_param)\n",
    "    ###################\n",
    "    # POST_PROCESSING\n",
    "    ###################\n",
    "    # do_watershed = False\n",
    "    # if do_watershed: # BUG: this makes bw into labels... but we are returning a binary object...\n",
    "    #     minArea = 4\n",
    "    #     mask_ = remove_small_objects(bw>0, min_size=minArea, connectivity=1, in_place=False) \n",
    "    #     seed_ = dilation(peak_local_max(struct_img,labels=label(mask_), min_distance=2, indices=False), selem=ball(1))\n",
    "    #     watershed_map = -1*ndi.distance_transform_edt(bw)\n",
    "    #     bw = watershed(watershed_map, label(seed_), mask=mask_, watershed_line=True)\n",
    "    struct_obj = apply_mask(bw, cytosol_mask)\n",
    "    struct_obj = size_filter_2D(struct_obj, \n",
    "                                                min_size= small_obj_w**2, \n",
    "                                                connectivity=1)\n",
    "\n",
    "\n",
    "    return struct_obj"
   ]
  },
  {
   "cell_type": "code",
   "execution_count": 50,
   "metadata": {},
   "outputs": [],
   "source": [
    "from typing import Optional\n",
    "\n",
    "##########################\n",
    "#  fixed_infer_peroxisome\n",
    "##########################\n",
    "def _fixed_infer_peroxisome(in_img: np.ndarray, cytosol_mask: Optional[np.ndarray] = None) -> np.ndarray:\n",
    "    \"\"\"\n",
    "    Procedure to infer peroxisome from linearly unmixed input with fixed parameters.\n",
    "\n",
    "   Parameters:\n",
    "    ------------\n",
    "    in_img: np.ndarray\n",
    "        a 3d image containing all the channels\n",
    "    cytosol_mask: Optional[np.ndarray] = None\n",
    "        mask\n",
    "\n",
    "    Returns:\n",
    "    -------------\n",
    "    peroxi_object\n",
    "        mask defined extent of peroxisome object\n",
    "    \"\"\"\n",
    "    gauss_sig = 3.\n",
    "    dot_scale = 1.0\n",
    "    dot_cut = 0.01\n",
    "    small_obj_w = 2\n",
    "\n",
    "    return _infer_peroxisome(in_img,\n",
    "                                    cytosol_mask,\n",
    "                                    gauss_sig,\n",
    "                                    dot_scale,\n",
    "                                    dot_cut,\n",
    "                                    small_obj_w,\n",
    "                                )\n"
   ]
  },
  {
   "cell_type": "markdown",
   "metadata": {},
   "source": [
    "# TEST  `_infer_peroxisome` function"
   ]
  },
  {
   "cell_type": "code",
   "execution_count": 51,
   "metadata": {},
   "outputs": [
    {
     "name": "stdout",
     "output_type": "stream",
     "text": [
      "[[[0.08314042 0.08212488 0.08102595 ... 0.00570029 0.0067732  0.00794706]\n",
      "  [0.08354804 0.08381509 0.08362011 ... 0.00508845 0.00591447 0.00683421]\n",
      "  [0.08549419 0.08719199 0.08794305 ... 0.00449249 0.00509401 0.00578249]\n",
      "  ...\n",
      "  [0.00133715 0.00148233 0.00159684 ... 0.0012753  0.00124254 0.00116013]\n",
      "  [0.00124423 0.00138491 0.00149937 ... 0.00103817 0.00100062 0.00092222]\n",
      "  [0.00106861 0.00120166 0.00132007 ... 0.00080004 0.00075974 0.00068765]]]\n",
      "True\n",
      "True\n"
     ]
    }
   ],
   "source": [
    "_peroxi_object =  _fixed_infer_peroxisome(img_2D, cytosol_mask) \n"
   ]
  },
  {
   "cell_type": "code",
   "execution_count": 55,
   "metadata": {},
   "outputs": [],
   "source": [
    "from infer_subc_2d.organelles import infer_peroxisome, fixed_infer_peroxisome \n",
    "\n",
    "peroxi_object =  fixed_infer_peroxisome(img_2D, cytosol_mask) \n"
   ]
  },
  {
   "cell_type": "code",
   "execution_count": 56,
   "metadata": {},
   "outputs": [
    {
     "data": {
      "text/plain": [
       "<Labels layer 'Labels [2]' at 0x1a1a53dc0>"
      ]
     },
     "execution_count": 56,
     "metadata": {},
     "output_type": "execute_result"
    }
   ],
   "source": [
    "\n",
    "viewer.add_image(\n",
    "    peroxi_object,\n",
    "    scale=scale\n",
    ")\n",
    "\n",
    "viewer.add_image(\n",
    "    _peroxi_object,\n",
    "    scale=scale\n",
    ")\n",
    "\n",
    "viewer.add_labels(\n",
    "    label(peroxi_object),\n",
    "    scale=scale\n",
    ")"
   ]
  },
  {
   "cell_type": "code",
   "execution_count": 57,
   "metadata": {},
   "outputs": [
    {
     "data": {
      "image/png": "[encoded data removed]",
      "text/html": [
       "<img src=\"data:image/png;base64,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\"></img>"
      ],
      "text/plain": [
       "<napari.utils.notebook_display.NotebookScreenshot at 0x1a1c111c0>"
      ]
     },
     "execution_count": 57,
     "metadata": {},
     "output_type": "execute_result"
    }
   ],
   "source": [
    "from napari.utils.notebook_display import nbscreenshot\n",
    "\n",
    "# viewer.dims.ndisplay = 3\n",
    "# viewer.camera.angles = (-30, 25, 120)\n",
    "nbscreenshot(viewer, canvas_only=True)"
   ]
  },
  {
   "cell_type": "markdown",
   "metadata": {},
   "source": [
    "-----------------\n",
    "## make function json to add to `all_functions.json`\n",
    "### infer_peroxisome"
   ]
  },
  {
   "cell_type": "code",
   "execution_count": 58,
   "metadata": {},
   "outputs": [
    {
     "data": {
      "text/plain": [
       "1"
      ]
     },
     "execution_count": 58,
     "metadata": {},
     "output_type": "execute_result"
    }
   ],
   "source": [
    "from infer_subc_2d.organelles_config.helper import add_function_spec_to_widget_json\n",
    "\n",
    "_fixed_infer_peroxisome =  {\n",
    "        \"name\": \"infer peroxisome (fixed parameters)\",\n",
    "        \"python::module\": \"infer_subc_2d.organelles\",\n",
    "        \"python::function\": \"fixed_infer_peroxisome\",\n",
    "        \"parameters\": None\n",
    "        }\n",
    "\n",
    "add_function_spec_to_widget_json(\"fixed_infer_peroxisome\",_fixed_infer_peroxisome)"
   ]
  },
  {
   "cell_type": "code",
   "execution_count": 59,
   "metadata": {},
   "outputs": [
    {
     "data": {
      "text/plain": [
       "1"
      ]
     },
     "execution_count": 59,
     "metadata": {},
     "output_type": "execute_result"
    }
   ],
   "source": [
    "\n",
    "_infer_peroxisome =  {\n",
    "        \"name\": \"infer peroxisome\",\n",
    "        \"python::module\": \"infer_subc_2d.organelles\",\n",
    "        \"python::function\": \"infer_peroxisome\",\n",
    "        \"parameters\": {\n",
    "                \"gauss_sig\": {\n",
    "                        \"data_type\": \"float\",\n",
    "                        \"increment\": 0.25,\n",
    "                        \"max\": 15.0,\n",
    "                        \"min\": 1.25,\n",
    "                        \"widget_type\": \"slider\"\n",
    "                },\n",
    "                \"dot_scale\": {\n",
    "                        \"data_type\": \"float\",\n",
    "                        \"increment\": 0.05,\n",
    "                        \"max\": 10,\n",
    "                        \"min\": 0,\n",
    "                        \"widget_type\": \"slider\"\n",
    "                },\n",
    "                \"dot_cut\": {\n",
    "                        \"data_type\": \"float\",\n",
    "                        \"increment\": 0.005,\n",
    "                        \"max\": 0.5,\n",
    "                        \"min\": 0,\n",
    "                        \"widget_type\": \"slider\"\n",
    "                },\n",
    "                \"small_obj_w\": {\n",
    "                        \"data_type\": \"int\",\n",
    "                        \"increment\": 1,\n",
    "                        \"max\": 50,\n",
    "                        \"min\": 1,\n",
    "                        \"widget_type\": \"slider\"\n",
    "                }\n",
    "        }\n",
    "}\n",
    "\n",
    "add_function_spec_to_widget_json(\"infer_peroxisome\", _infer_peroxisome, overwrite=True )\n",
    "\n"
   ]
  },
  {
   "cell_type": "code",
   "execution_count": 61,
   "metadata": {},
   "outputs": [],
   "source": [
    "def make_infer_peroxisome_step_by_step_from_raw_dict():\n",
    "    \"\"\"\n",
    "    Procedure to infer mitochondria from linearly unmixed input from raw\n",
    "\n",
    "    \"\"\"\n",
    "    step_name = []\n",
    "    function_name = []\n",
    "    category =[]\n",
    "    parameter_values = []\n",
    "    parent = []\n",
    "   \n",
    "    ###################\n",
    "    # EXTRACT\n",
    "    ###################   \n",
    "    step_name = []\n",
    "    function_name = []\n",
    "    category =[]\n",
    "    parameter_values = []\n",
    "    parent = []\n",
    "   \n",
    "    ###################\n",
    "    # EXTRACT\n",
    "    ###################   \n",
    "\n",
    "    step_name.append(\"1\")\n",
    "    function_name.append(\"fixed_get_optimal_Z_img\")\n",
    "    category.append(\"extraction\")\n",
    "    parameter_values.append(None)\n",
    "    parent.append(0)\n",
    "\n",
    "    step_name.append(\"2\")\n",
    "    function_name.append(\"fixed_infer_soma\")\n",
    "    category.append(\"extraction\")\n",
    "    parameter_values.append( None )\n",
    "    parent.append(1)\n",
    "\n",
    "    step_name.append(\"3\")\n",
    "    function_name.append(\"fixed_infer_nuclei\")\n",
    "    category.append(\"extraction\")\n",
    "    parameter_values.append( None )\n",
    "    parent.append([1,2])\n",
    "\n",
    "    step_name.append(\"4\")\n",
    "    function_name.append(\"infer_cytosol\")\n",
    "    category.append(\"extraction\")\n",
    "    parameter_values.append(dict(erode_nuclei = True ))\n",
    "    parent.append([2,3])\n",
    "\n",
    "    step_name.append(\"5\")\n",
    "    function_name.append(\"select_channel_from_raw\")\n",
    "    category.append(\"extraction\")\n",
    "    parameter_values.append( dict(chan = PEROXI_CH) )\n",
    "    parent.append(1)\n",
    "    \n",
    "    step_name.append(\"6\")\n",
    "    function_name.append(\"min_max_intensity_normalization\")\n",
    "    category.append(\"preprocessing\")\n",
    "    parameter_values.append(None)\n",
    "    parent.append(5)\n",
    "\n",
    "    step_name.append(\"7\")\n",
    "    function_name.append(\"image_smoothing_gaussian_slice_by_slice\")\n",
    "    category.append(\"preprocessing\")\n",
    "    parameter_values.append(dict( sigma = 3.0 ))\n",
    "    parent.append(6)\n",
    "\n",
    "    step_name.append(\"8\")\n",
    "    function_name.append(\"spot_filter_slice_by_slice\") \n",
    "    category.append(\"core\")\n",
    "    parameter_values.append( dict( log_sigma=1, cutoff=0.01) )\n",
    "    parent.append(7)\n",
    "\n",
    "    step_name.append(\"9\")\n",
    "    function_name.append(\"apply_mask\")\n",
    "    category.append(\"postprocessing\")\n",
    "    parameter_values.append(None)\n",
    "    parent.append([8,4])\n",
    "\n",
    "    step_name.append(\"10\")\n",
    "    function_name.append(\"size_filter_2D\")\n",
    "    category.append(\"postprocessing\")\n",
    "    parameter_values.append(dict( min_size = 2**2  ))\n",
    "    parent.append(9)\n",
    "\n",
    "    out_dict = dict()\n",
    "    for i,stepn in enumerate(step_name):\n",
    "        entry = dict(category=category[i],\n",
    "                            function=function_name[i],\n",
    "                            parameter_values=parameter_values[i],\n",
    "                            parent=parent[i]\n",
    "        )\n",
    "        if entry['parameter_values'] is None:\n",
    "            _ = entry.pop('parameter_values')\n",
    "        out_dict[stepn] = entry\n",
    "    \n",
    "    return out_dict\n",
    "\n"
   ]
  },
  {
   "cell_type": "code",
   "execution_count": 62,
   "metadata": {},
   "outputs": [
    {
     "data": {
      "text/plain": [
       "PosixPath('/Users/ahenrie/Projects/Imaging/infer-subc-2D/infer_subc_2d/organelles_config/conf_infer_peroxisome_from_raw.json')"
      ]
     },
     "execution_count": 62,
     "metadata": {},
     "output_type": "execute_result"
    }
   ],
   "source": [
    "from infer_subc_2d.organelles_config.helper import write_workflow_json\n",
    "\n",
    "infer_peroxisome_stepbystep_from_raw_dict = make_infer_peroxisome_step_by_step_from_raw_dict()\n",
    "\n",
    "write_workflow_json(\"conf_infer_peroxisome_from_raw\", infer_peroxisome_stepbystep_from_raw_dict)"
   ]
  },
  {
   "cell_type": "markdown",
   "metadata": {},
   "source": [
    "---------------------\n",
    "\n",
    " 🚧 WIP 🚧 (🚨🚨🚨🚨 )\n",
    "\n",
    "\n",
    "# WORKFLOW #2 (WIP)\n",
    "as per 6/22 CellProfiler pipeline from MCZ\n",
    " \n",
    "## summary of steps\n",
    "\n",
    "INPUT\n",
    "- ch 4\n",
    "- CY mask\n",
    "\n",
    "PRE-PROCESSING\n",
    "-   non-local noise reduction\n",
    "  - size:4, distance:2, cut-off:0.08\n",
    "\n",
    "CORE-PROCESSING\n",
    "- adaptive Otsu\n",
    "    - diameter: (4,100)\n",
    "  - two classes\n",
    "    - threshold smoothing scale: 1.34\n",
    "    - threshold correction factor: .75\n",
    "    - threshold bounds: (0.14, 1)\n",
    "    - adaptive window: 20 pixels\n",
    "\n",
    "- POST-PROCESSING\n",
    "  - N/A\n",
    "\n",
    "OUTPUT\n",
    "- object PEROXISOME"
   ]
  },
  {
   "cell_type": "markdown",
   "metadata": {},
   "source": [
    "### INPUT"
   ]
  },
  {
   "cell_type": "markdown",
   "metadata": {},
   "source": [
    "### PRE-PROCESSING"
   ]
  },
  {
   "cell_type": "code",
   "execution_count": null,
   "metadata": {},
   "outputs": [],
   "source": [
    "###################\n",
    "# PRE_PROCESSING\n",
    "###################\n",
    "\n",
    "intensity_norm_param = [0] # \n",
    "\n",
    "# Linear-ish smoothing\n",
    "raw_mito = intensity_normalization( struct_img_raw ,  scaling_param=intensity_norm_param)\n",
    "\n",
    "med_filter_size =3  \n",
    "\n",
    "gaussian_smoothing_sigma = 1.3\n",
    "gaussian_smoothing_truncate_range = 3.0\n",
    "\n",
    "struct_img = median_filter(raw_mito,    size=med_filter_size  )\n",
    "\n",
    "structure_img_smooth = image_smoothing_gaussian_slice_by_slice(   struct_img,\n",
    "                                                                                                                        sigma=gaussian_smoothing_sigma,\n",
    "                                                                                                                        truncate_range=gaussian_smoothing_truncate_range,\n",
    "                                                                                                                    )\n",
    "\n",
    "\n",
    "# log_img, d = log_transform( structure_img_smooth ) \n",
    "# struct_img = intensity_normalization(  log_img  ,  scaling_param=[0] )  \n",
    "\n",
    "struct_img = structure_img_smooth"
   ]
  },
  {
   "cell_type": "markdown",
   "metadata": {},
   "source": [
    "### CORE PROCESSING"
   ]
  },
  {
   "cell_type": "code",
   "execution_count": null,
   "metadata": {},
   "outputs": [],
   "source": [
    "###################\n",
    "# CORE_PROCESSING\n",
    "###################\n",
    "def _enhance_speckles(image, radius, volumetric=True):\n",
    "    radius = radius / 2\n",
    "    if volumetric:\n",
    "        selem = ball(radius)\n",
    "    else:\n",
    "        selem = disk(radius)     \n",
    "\n",
    "    # if radius >10:\n",
    "    #         minimum = scipy.ndimage.minimum_filter(image, footprint=selem)\n",
    "    #         maximum = scipy.ndimage.maximum_filter(minimum, footprint=selem)\n",
    "    #         result = data - maximum\n",
    "    # else:\n",
    "    result =  white_tophat(image)\n",
    "\n",
    "    return result\n",
    "\n",
    "def enhance_neurites(image, radius, volumetric = True):\n",
    "    if volumetric:\n",
    "        selem = ball(radius)\n",
    "    else:\n",
    "        selem = disk(radius)     \n",
    "    white = white_tophat(image,selem)\n",
    "    black = black_tophat(image, selem)\n",
    "    result = image + white - black\n",
    "    result[result > 1] = 1\n",
    "    result[result < 0] = 0\n",
    "\n",
    "    return result\n",
    "\n",
    "    \n",
    "\n"
   ]
  },
  {
   "cell_type": "code",
   "execution_count": null,
   "metadata": {},
   "outputs": [],
   "source": [
    "# enhance spreckles - 40\n",
    "big_struct_rad = 40\n",
    "big_img = _enhance_speckles(struct_img.copy(),big_struct_rad, True)\n",
    "\n"
   ]
  },
  {
   "cell_type": "code",
   "execution_count": null,
   "metadata": {},
   "outputs": [],
   "source": [
    "\n",
    "# enhance spreckles - 10\n",
    "sm_struct_rad = 20\n",
    "sm_img = _enhance_speckles(struct_img.copy(),sm_struct_rad, True)\n",
    "\n",
    "\n",
    "#adaptive_otsu(big_struct) # three class - middle foreground\n",
    "# adaptive window- 20\n",
    "#size: 10,100\n",
    "# threshold smooth 1.34\n",
    "# threshold correction 1\n",
    "# threshold (0.1497,1)\n",
    "#fill holes\n",
    "# \"adatpive\" thresholds are NOT currently working... will use      \n",
    "# \"Masked Object Thresholding\" - 3D\n",
    "low_level_min_size = 10\n",
    "bw_big, _bw_low_level = MO(big_img, \n",
    "                                                global_thresh_method='ave', \n",
    "                                                object_minArea=low_level_min_size, \n",
    "                                                extra_criteria=True,\n",
    "                                                local_adjust= 0.5, \n",
    "                                                return_object=True,\n",
    "                                                dilate=True)\n",
    " # or this?                                               \n",
    "#    struct_obj = struct_img > filters.threshold_otsu(struct_img)\n",
    "#     threshold_value_log = threshold_otsu_log(struct_img)\n",
    "\n",
    "#     thresh_factor = 0.9 #from cellProfiler\n",
    "#     thresh_min = .1\n",
    "#     thresh_max = 1.\n",
    "#     threshold = min( max(threshold_value_log*thresh_factor, thresh_min), thresh_max)\n",
    "#     struct_obj = struct_img > threshold\n",
    "\n",
    "\n",
    "# enhance speckles\n",
    "#   adaptive_sauvola(sm_struct) \n",
    "# adaptive window- 10\n",
    "#size: 2,10\n",
    "# threshold smooth 1.34\n",
    "# threshold correction 1\n",
    "# threshold (0.05,1)\n",
    "#fill holes\n",
    "# \"adatpive\" thresholds are NOT currently working... will use      \n",
    "# \"Masked Object Thresholding\" - 3D\n",
    "low_level_min_size = 2\n",
    "bw_sm, _bw_low_level = MO(sm_img, \n",
    "                                                global_thresh_method='ave', \n",
    "                                                object_minArea=low_level_min_size, \n",
    "                                                extra_criteria=True,\n",
    "                                                local_adjust= 0.5, \n",
    "                                                return_object=True,\n",
    "                                                dilate=True)\n",
    " # or this?                                               \n",
    "#    struct_obj = struct_img > filters.threshold_otsu(struct_img)\n",
    "#     threshold_value_log = threshold_otsu_log(struct_img)\n",
    "#     thresh_factor = 0.9 #from cellProfiler\n",
    "#     thresh_min = .1\n",
    "#     thresh_max = 1.\n",
    "#     threshold = min( max(threshold_value_log*thresh_factor, thresh_min), thresh_max)\n",
    "#     struct_obj = struct_img > threshold\n",
    "\n"
   ]
  },
  {
   "cell_type": "markdown",
   "metadata": {},
   "source": [
    "### POST-PROCESSING"
   ]
  },
  {
   "cell_type": "code",
   "execution_count": null,
   "metadata": {},
   "outputs": [],
   "source": [
    "###################\n",
    "# POST_PROCESSING\n",
    "###################\n",
    "\n",
    "\n",
    "# 3D\n",
    "# cleaned_img = remove_small_objects(removed_holes>0, \n",
    "#                                                             min_size=minArea, \n",
    "#                                                             connectivity=1, \n",
    "#                                                             in_place=False)\n",
    "small_object_width = 10\n",
    "cleaned_img_big = size_filter(bw_big, # wrapper to remove_small_objects which can do slice by slice\n",
    "                                                         min_size= small_object_width**2,\n",
    "                                                         method = \"slice_by_slice\",\n",
    "                                                         connectivity=1)\n",
    "\n",
    "\n",
    "#                                                             in_place=False)\n",
    "small_object_width = 2\n",
    "cleaned_img_sm = size_filter(bw_sm, # wrapper to remove_small_objects which can do slice by slice\n",
    "                                                         min_size= small_object_width**2,\n",
    "                                                         method = \"slice_by_slice\",\n",
    "                                                         connectivity=1)\n",
    "\n",
    "\n",
    "\n",
    "cleaned_img = np.logical_or(cleaned_img_big, cleaned_img_sm)\n",
    "\n"
   ]
  },
  {
   "cell_type": "markdown",
   "metadata": {},
   "source": [
    "#### Visualize with `napari`\n",
    "Visualize the first-pass segmentation and labeling with `napari`."
   ]
  },
  {
   "cell_type": "code",
   "execution_count": null,
   "metadata": {},
   "outputs": [],
   "source": [
    "\n",
    "if viewer is None:\n",
    "    viewer = napari.view_image(\n",
    "        cleaned_img,\n",
    "        scale=scale\n",
    "    )\n",
    "else: \n",
    "    viewer.add_image(\n",
    "        cleaned_img,\n",
    "        scale=scale\n",
    "    )\n",
    "\n",
    "viewer.scale_bar.visible = True\n",
    "viewer.add_image(\n",
    "    cleaned_img_big,\n",
    "    scale=scale\n",
    ")\n",
    "\n",
    "viewer.add_image(\n",
    "    big_img,\n",
    "    scale=scale\n",
    ")\n",
    "viewer.add_image(\n",
    "    cleaned_img_big,\n",
    "    scale=scale\n",
    ")\n",
    "viewer.add_image(\n",
    "    sm_img,\n",
    "    scale=scale\n",
    ")"
   ]
  },
  {
   "cell_type": "markdown",
   "metadata": {},
   "source": []
  },
  {
   "cell_type": "code",
   "execution_count": null,
   "metadata": {},
   "outputs": [],
   "source": []
  }
 ],
 "metadata": {
  "kernelspec": {
   "display_name": "Python 3.9.13 ('napariNEW')",
   "language": "python",
   "name": "python3"
  },
  "language_info": {
   "codemirror_mode": {
    "name": "ipython",
    "version": 3
   },
   "file_extension": ".py",
   "mimetype": "text/x-python",
   "name": "python",
   "nbconvert_exporter": "python",
   "pygments_lexer": "ipython3",
   "version": "3.9.13"
  },
  "orig_nbformat": 4,
  "vscode": {
   "interpreter": {
    "hash": "d6148ef1fb015fb20f0b6da2ea61c87c6b848bdf3dabb03087e5d5cd0c4607e9"
   }
  }
 },
 "nbformat": 4,
 "nbformat_minor": 2
}
