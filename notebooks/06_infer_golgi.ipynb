{
 "cells": [
  {
   "attachments": {},
   "cell_type": "markdown",
   "metadata": {},
   "source": [
    "# Infer ***golgi*** - part 6️⃣\n",
    "\n",
    "--------------\n",
    "OBJECTIVE:  ✅ Infer sub-cellular component ***golgi complex***  in order to understand interactome \n",
    "\n",
    "Dependencies:\n",
    "The ***golgi***  inference rely on the **cytosol** mask. "
   ]
  },
  {
   "attachments": {},
   "cell_type": "markdown",
   "metadata": {},
   "source": [
    "## preamble\n",
    "\n",
    "1. imports\n",
    "2. setup\n",
    "3. choose_Z\n",
    "4. get soma mask\n",
    "5. infer nuclei object  \n",
    "6. get cytosol mask"
   ]
  },
  {
   "cell_type": "markdown",
   "metadata": {},
   "source": []
  },
  {
   "cell_type": "markdown",
   "metadata": {},
   "source": [
    "\n",
    "## IMPORTS"
   ]
  },
  {
   "cell_type": "code",
   "execution_count": 1,
   "metadata": {},
   "outputs": [],
   "source": [
    "# top level imports\n",
    "from pathlib import Path\n",
    "import os, sys\n",
    "from collections import defaultdict\n",
    "from typing import Optional\n",
    "\n",
    "import numpy as np\n",
    "\n",
    "from aicssegmentation.core.seg_dot import dot_2d_slice_by_slice_wrapper, dot_3d_wrapper\n",
    "from aicssegmentation.core.utils import topology_preserving_thinning\n",
    "from skimage.measure import label\n",
    "\n",
    "import napari\n",
    "\n",
    "### import local python functions in ../infer_subc_2d\n",
    "sys.path.append(os.path.abspath((os.path.join(os.getcwd(), '..'))))\n",
    "\n",
    "\n",
    "from infer_subc_2d.utils.file_io import (read_czi_image,\n",
    "                                                                    read_ome_image,\n",
    "                                                                    export_inferred_organelle,\n",
    "                                                                    import_inferred_organelle,\n",
    "                                                                    list_image_files)\n",
    "\n",
    "from infer_subc_2d.utils.img import *\n",
    "\n",
    "from infer_subc_2d.organelles import fixed_infer_soma_MCZ, fixed_infer_nuclei, infer_cytosol\n",
    "\n",
    "\n",
    "%load_ext autoreload\n",
    "%autoreload 2\n"
   ]
  },
  {
   "cell_type": "code",
   "execution_count": 2,
   "metadata": {},
   "outputs": [],
   "source": [
    "# NOTE:  these \"constants\" are only accurate for the testing MCZ dataset\n",
    "from infer_subc_2d.constants import (TEST_IMG_N,\n",
    "                                                                    NUC_CH ,\n",
    "                                                                    LYSO_CH ,\n",
    "                                                                    MITO_CH ,\n",
    "                                                                    GOLGI_CH ,\n",
    "                                                                    PEROXI_CH ,\n",
    "                                                                    ER_CH ,\n",
    "                                                                    LIPID_CH ,\n",
    "                                                                    RESIDUAL_CH )              "
   ]
  },
  {
   "attachments": {},
   "cell_type": "markdown",
   "metadata": {},
   "source": [
    "\n",
    "## SETUP"
   ]
  },
  {
   "cell_type": "code",
   "execution_count": 3,
   "metadata": {},
   "outputs": [],
   "source": [
    "# this will be the example image for testing the pipeline below\n",
    "test_img_n = TEST_IMG_N\n",
    "\n",
    "# build the datapath\n",
    "# all the imaging data goes here.\n",
    "data_root_path = Path(os.path.expanduser(\"~\")) / \"Projects/Imaging/data\"\n",
    "\n",
    "# linearly unmixed \".czi\" files are here\n",
    "in_data_path = data_root_path / \"raw\"\n",
    "im_type = \".czi\"\n",
    "\n",
    "# get the list of all files\n",
    "img_file_list = list_image_files(in_data_path,im_type)\n",
    "test_img_name = img_file_list[test_img_n]\n",
    "\n",
    "# save output \".tiff\" files here\n",
    "out_data_path = data_root_path / \"out\"\n",
    "\n",
    "if not Path.exists(out_data_path):\n",
    "    Path.mkdir(out_data_path)\n",
    "    print(f\"making {out_data_path}\")"
   ]
  },
  {
   "cell_type": "code",
   "execution_count": 4,
   "metadata": {},
   "outputs": [
    {
     "name": "stderr",
     "output_type": "stream",
     "text": [
      "/opt/anaconda3/envs/napariNEW/lib/python3.9/site-packages/ome_types/_convenience.py:106: FutureWarning: The default XML parser will be changing from 'xmlschema' to 'lxml' in version 0.4.0.  To silence this warning, please provide the `parser` argument, specifying either 'lxml' (to opt into the new behavior), or'xmlschema' (to retain the old behavior).\n",
      "  d = to_dict(os.fspath(xml), parser=parser, validate=validate)\n"
     ]
    }
   ],
   "source": [
    "img_data,meta_dict = read_czi_image(test_img_name)\n",
    "\n",
    "# get some top-level info about the RAW data\n",
    "channel_names = meta_dict['name']\n",
    "img = meta_dict['metadata']['aicsimage']\n",
    "scale = meta_dict['scale']\n",
    "channel_axis = meta_dict['channel_axis']\n"
   ]
  },
  {
   "attachments": {},
   "cell_type": "markdown",
   "metadata": {},
   "source": [
    "## GET CYTOSOL MASK\n"
   ]
  },
  {
   "cell_type": "code",
   "execution_count": 5,
   "metadata": {},
   "outputs": [
    {
     "name": "stdout",
     "output_type": "stream",
     "text": [
      "loaded cytosol mask from /Users/ahenrie/Projects/Imaging/data/out\n"
     ]
    }
   ],
   "source": [
    "# nuclei_fname = \"/Users/ahenrie/Projects/Imaging/data/out/nuclei_ZSTACK_PBTOhNGN2hiPSCs_BR3_N04_Unmixed.ome.tiff\"\n",
    "\n",
    "cytosol_mask = import_inferred_organelle(\"cytosol\", meta_dict, out_data_path)\n",
    "\n",
    "if cytosol_mask is None:\n",
    "    nuclei =  fixed_infer_nuclei(img_data) \n",
    "    soma = fixed_infer_soma_MCZ(img_data, nuclei)\n",
    "    nucleus_obj =  apply_mask(nuclei, soma) \n",
    "    cytosol_mask =  infer_cytosol(soma, nucleus_obj, erode_nuclei=False) \n",
    "    out_file_n = export_inferred_organelle(cytosol_mask, \"cytosol\", meta_dict, out_data_path)\n",
    "    print(f\"calculated cytosol mask. wrote {out_file_n}\")\n",
    "else:\n",
    "    print(f\"loaded cytosol mask from {out_data_path}\")\n"
   ]
  },
  {
   "attachments": {},
   "cell_type": "markdown",
   "metadata": {},
   "source": [
    "---------------------\n",
    "\n",
    "## infer ***golgi complex***\n",
    "\n",
    "## summary of steps \n",
    "INPUT\n",
    "- ch 4\n",
    "- cytosol mask\n",
    "\n",
    "PRE-PROCESSING\n",
    "-   non-local noise reduction\n",
    "  - size:4, distance:2, cut-off:0.1\n",
    "\n",
    "CORE-PROCESSING\n",
    "- adaptive Otsu\n",
    "    - diameter: (4,100)\n",
    "  - two classes\n",
    "    - threshold smoothing scale: 1.34\n",
    "    - threshold correction factor: .75\n",
    "    - threshold bounds: (0.14, 1)\n",
    "    - adaptive window: 20 pixels\n",
    "\n",
    "  - adaptive Sauvola\n",
    "    - threshold smoothing scale: 0\n",
    "    - threshold correction factor: .6\n",
    "    - threshold bounds: (0. ,1.0)\n",
    "    - adaptive window: 20 pixels\n",
    "\n",
    "- POST-PROCESSING\n",
    "  - N/A\n",
    "\n",
    "OUTPUT\n",
    "- inferred  ***golgi*** object\n",
    "\n",
    "\n",
    "Generally following the Allen Cell Segmenter procedure, but doing more aggressive contrast scaling than their prescribed contrast scaling.\n",
    "\n",
    "> As per the Allen Cell segmenter sialyltransferase 1 (ST6GAL1) a potential Golgi segmenter. e.g. [Allen Cell](https://www.allencell.org/cell-observations/category/golgi-apparatus).    using [seg_st6gal1.py](\"../../../../aics-segmentation/aicssegmentation/structure_wrapper/seg_st6gal1.py\") and [playground_st6gal1.ipynb](\"../../../../aics-segmentation/lookup_table_demo/playground_st6gal1.ipynb\")\n",
    "\n",
    "\n",
    ">#### ASIDE: Perform topology-preserving thinning \n",
    ">There are two parameters:\n",
    ">* `thin_dist_preserve`: Half of the minimum width you want to keep from being thinned. For example, when the object width is smaller than 4, you don't want to make this part even thinning (may break the thin object and alter the topology), you can set `thin_dist_preserve` as `2`.\n",
    ">* `thin_dist`: the amount to thin (has to be an positive integer). The number of pixels to be removed from outter boundary towards center\n"
   ]
  },
  {
   "attachments": {},
   "cell_type": "markdown",
   "metadata": {},
   "source": [
    "## INPUT prototype"
   ]
  },
  {
   "cell_type": "code",
   "execution_count": 6,
   "metadata": {},
   "outputs": [],
   "source": [
    "\n",
    "###################\n",
    "# INPUT\n",
    "###################\n",
    "raw_golgi = select_channel_from_raw(img_data, GOLGI_CH)\n",
    "\n"
   ]
  },
  {
   "attachments": {},
   "cell_type": "markdown",
   "metadata": {},
   "source": [
    "## PRE-PROCESSING prototype\n"
   ]
  },
  {
   "cell_type": "code",
   "execution_count": 17,
   "metadata": {},
   "outputs": [],
   "source": [
    "###################\n",
    "# PRE_PROCESSING\n",
    "###################\n",
    "median_sz = 4\n",
    "gauss_sig = 1.34\n",
    "\n",
    "struct_img =  scale_and_smooth(raw_golgi,\n",
    "                                                    median_sz = median_sz, \n",
    "                                                    gauss_sig = gauss_sig)"
   ]
  },
  {
   "attachments": {},
   "cell_type": "markdown",
   "metadata": {},
   "source": [
    "## CORE PROCESSING prototype"
   ]
  },
  {
   "cell_type": "code",
   "execution_count": 18,
   "metadata": {},
   "outputs": [],
   "source": [
    "###################\n",
    "# CORE_PROCESSING\n",
    "###################\n",
    "################################\n",
    "## PARAMETERS for this step ##\n",
    "cell_wise_min_area = 1200\n",
    "dot_2d_sigma = 1.6\n",
    "dot_2d_cutoff = 0.02\n",
    "thin_dist = 1\n",
    "thin_dist_preserve = 1.6\n",
    "\n",
    "\n",
    "\n",
    "###################\n",
    "# CORE_PROCESSING\n",
    "###################\n",
    "\n",
    "bw, object_for_debug = MO(struct_img, \n",
    "                                                global_thresh_method='tri', \n",
    "                                                object_minArea=cell_wise_min_area, \n",
    "                                                return_object=True)\n",
    "\n",
    "\n",
    "thin_dist_preserve = 1.6\n",
    "thin_dist = 1\n",
    "bw_thin = topology_preserving_thinning(bw, thin_dist_preserve, thin_dist)\n",
    "\n",
    "\n",
    "################################\n",
    "## PARAMETERS for this step ##\n",
    "#s3_param = [[1.6, 0.02]]\n",
    "s3_param = [(dot_2d_sigma,dot_2d_cutoff)]\n",
    "################################\n",
    "\n",
    "# bw_extra = dot_3d_wrapper(structure_img_smooth, s3_param)\n",
    "bw_extra = dot_2d_slice_by_slice_wrapper(struct_img, s3_param)\n",
    "\n",
    "bw_combine = np.logical_or(bw_extra, bw_thin)\n"
   ]
  },
  {
   "attachments": {},
   "cell_type": "markdown",
   "metadata": {},
   "source": [
    "## POST-PROCESSING prototype"
   ]
  },
  {
   "cell_type": "code",
   "execution_count": 19,
   "metadata": {},
   "outputs": [],
   "source": [
    "###################\n",
    "# POST_PROCESSING\n",
    "###################\n",
    "small_object_width = 3\n",
    "\n",
    "golgi_object = size_filter_linear_size(bw_combine, \n",
    "                                                min_size= small_object_width, \n",
    "                                                connectivity=1)\n"
   ]
  },
  {
   "cell_type": "markdown",
   "metadata": {},
   "source": [
    "#### Visualize with `napari`\n",
    "Visualize the first-pass segmentation and labeling with `napari`."
   ]
  },
  {
   "cell_type": "code",
   "execution_count": 20,
   "metadata": {},
   "outputs": [],
   "source": [
    "viewer = napari.Viewer()\n"
   ]
  },
  {
   "cell_type": "code",
   "execution_count": 21,
   "metadata": {},
   "outputs": [
    {
     "data": {
      "text/plain": [
       "<Image layer 'golgi_object' at 0x16083cca0>"
      ]
     },
     "execution_count": 21,
     "metadata": {},
     "output_type": "execute_result"
    }
   ],
   "source": [
    "\n",
    "viewer.add_image(\n",
    "    golgi_object,\n",
    "    scale=scale\n",
    ")\n",
    "\n"
   ]
  },
  {
   "cell_type": "code",
   "execution_count": 22,
   "metadata": {},
   "outputs": [
    {
     "data": {
      "text/plain": [
       "<Image layer 'bw_thin' at 0x16a2f38e0>"
      ]
     },
     "execution_count": 22,
     "metadata": {},
     "output_type": "execute_result"
    }
   ],
   "source": [
    "viewer.scale_bar.visible = True\n",
    "viewer.add_image(\n",
    "    bw_extra,\n",
    "    scale=scale\n",
    ")\n",
    "viewer.add_image(\n",
    "    bw_thin,\n",
    "    scale=scale\n",
    ")\n"
   ]
  },
  {
   "attachments": {},
   "cell_type": "markdown",
   "metadata": {},
   "source": [
    "## DEFINE `infer_golgi` function\n",
    "\n",
    "Based on the _prototyping_ above define the function to infer the golgi.  \n"
   ]
  },
  {
   "cell_type": "code",
   "execution_count": 23,
   "metadata": {},
   "outputs": [],
   "source": [
    "##########################\n",
    "#  infer_golgi\n",
    "##########################\n",
    "def _infer_golgi(\n",
    "            in_img: np.ndarray,\n",
    "            median_sz: int,\n",
    "            gauss_sig: float,\n",
    "            mo_method: str,\n",
    "            mo_adjust: float,\n",
    "            mo_cutoff_size: int,\n",
    "            min_thickness: int,\n",
    "            thin: int,\n",
    "            dot_scale: float,\n",
    "            dot_cut: float,\n",
    "            small_obj_w: int,\n",
    "        ) -> np.ndarray:\n",
    "\n",
    "    \"\"\"\n",
    "    Procedure to infer golgi from linearly unmixed input.\n",
    "\n",
    "   Parameters\n",
    "    ------------\n",
    "    in_img: \n",
    "        a 3d image containing all the channels\n",
    "    median_sz: \n",
    "        width of median filter for signal\n",
    "    mo_method: \n",
    "         which method to use for calculating global threshold. Options include:\n",
    "         \"triangle\" (or \"tri\"), \"median\" (or \"med\"), and \"ave_tri_med\" (or \"ave\").\n",
    "         \"ave\" refers the average of \"triangle\" threshold and \"mean\" threshold.\n",
    "    mo_adjust: \n",
    "        Masked Object threshold `local_adjust`\n",
    "    mo_cutoff_size: \n",
    "        Masked Object threshold `size_min`\n",
    "    min_thinkness: \n",
    "        Half of the minimum width you want to keep from being thinned.\n",
    "        For example, when the object width is smaller than 4, you don't\n",
    "        want to make this part even thinner (may break the thin object\n",
    "        and alter the topology), you can set this value as 2.\n",
    "    thin: \n",
    "        the amount to thin (has to be an positive integer). The number of\n",
    "         pixels to be removed from outter boundary towards center.\n",
    "    dot_scale: \n",
    "        scales (log_sigma) for dot filter (1,2, and 3)\n",
    "    dot_cut: \n",
    "        threshold for dot filter thresholds (1,2,and 3)\n",
    "    small_obj_w: \n",
    "        minimu object size cutoff for nuclei post-processing\n",
    "    \n",
    "    Returns\n",
    "    -------------\n",
    "    golgi_object\n",
    "        mask defined extent of golgi object\n",
    "    \"\"\"\n",
    "    golgi_ch = GOLGI_CH\n",
    "\n",
    "    ###################\n",
    "    # EXTRACT\n",
    "    ###################    \n",
    "    golgi = select_channel_from_raw(in_img, golgi_ch)\n",
    "\n",
    "    ###################\n",
    "    # PRE_PROCESSING\n",
    "    ###################    \n",
    "    golgi =  scale_and_smooth(golgi,\n",
    "                                                    median_sz = median_sz, \n",
    "                                                    gauss_sig = gauss_sig)\n",
    "   ###################\n",
    "    # CORE_PROCESSING\n",
    "    ###################\n",
    "    # bw = MO(golgi, global_thresh_method=thresh_method, object_minArea=obj_min_area)\n",
    "    bw = masked_object_thresh(golgi, th_method=mo_method, cutoff_size=mo_cutoff_size, th_adjust=mo_adjust)\n",
    "\n",
    "    bw_thin = topology_preserving_thinning(bw, min_thickness, thin)\n",
    "\n",
    "    s3_param = [(dot_cut,dot_scale)]\n",
    "    bw_extra = dot_2d_slice_by_slice_wrapper(golgi, s3_param)\n",
    "    # bw_extra = dot_3d_wrapper(golgi, s3_param)\n",
    "\n",
    "    bw = np.logical_or(bw_extra, bw_thin)\n",
    "    ###################\n",
    "    # POST_PROCESSING\n",
    "    ###################\n",
    "    struct_obj = size_filter_linear_size(bw, \n",
    "                                                min_size= small_obj_w, \n",
    "                                                connectivity=1)\n",
    "\n",
    "\n",
    "    return struct_obj"
   ]
  },
  {
   "attachments": {},
   "cell_type": "markdown",
   "metadata": {},
   "source": [
    "## DEFINE `_fixed_infer_golgi` function\n"
   ]
  },
  {
   "cell_type": "code",
   "execution_count": 24,
   "metadata": {},
   "outputs": [],
   "source": [
    "##########################\n",
    "#  fixed_infer_golgi\n",
    "##########################\n",
    "def _fixed_infer_golgi(in_img: np.ndarray ) -> np.ndarray:\n",
    "    \"\"\"\n",
    "    Procedure to infer golgi from linearly unmixed input.\n",
    "\n",
    "    Parameters\n",
    "    ------------\n",
    "    in_img: \n",
    "        a 3d image containing all the channels\n",
    "    Returns\n",
    "    -------------\n",
    "   golgi_object\n",
    "        mask defined extent of golgi object\n",
    "    \"\"\"\n",
    "\n",
    "    median_sz = 4\n",
    "    gauss_sig = 1.34\n",
    "    mo_method = \"tri\"\n",
    "    mo_adjust = 0.90\n",
    "    mo_cutoff_size = 1200\n",
    "    min_thickness = 1.6\n",
    "    thin = 1\n",
    "    dot_scale = 1.6\n",
    "    dot_cut = 0.02\n",
    "    small_obj_w = 3\n",
    "\n",
    "    return _infer_golgi(\n",
    "        in_img,\n",
    "        median_sz,\n",
    "        gauss_sig,\n",
    "        mo_method,\n",
    "        mo_adjust,\n",
    "        mo_cutoff_size,\n",
    "        min_thickness,\n",
    "        thin,\n",
    "        dot_scale,\n",
    "        dot_cut,\n",
    "        small_obj_w,\n",
    "    )"
   ]
  },
  {
   "cell_type": "markdown",
   "metadata": {},
   "source": [
    "# TEST  `infer_golgi` function"
   ]
  },
  {
   "cell_type": "code",
   "execution_count": 25,
   "metadata": {},
   "outputs": [],
   "source": [
    "\n",
    "_golgi_object =  _fixed_infer_golgi(img_data) \n"
   ]
  },
  {
   "cell_type": "code",
   "execution_count": 26,
   "metadata": {},
   "outputs": [],
   "source": [
    "from infer_subc_2d.organelles import infer_golgi, fixed_infer_golgi\n",
    "\n",
    "golgi_object =  fixed_infer_golgi(img_data) \n"
   ]
  },
  {
   "attachments": {},
   "cell_type": "markdown",
   "metadata": {},
   "source": [
    "## Visualize  2\n"
   ]
  },
  {
   "cell_type": "code",
   "execution_count": 27,
   "metadata": {},
   "outputs": [
    {
     "data": {
      "text/plain": [
       "<Labels layer 'Labels' at 0x16b4373a0>"
      ]
     },
     "execution_count": 27,
     "metadata": {},
     "output_type": "execute_result"
    }
   ],
   "source": [
    "\n",
    "viewer.add_image(\n",
    "    _golgi_object,\n",
    "    scale=scale\n",
    ")\n",
    "viewer.add_image(\n",
    "    golgi_object,\n",
    "    scale=scale\n",
    ")\n",
    "viewer.add_labels(\n",
    "    label(golgi_object),\n",
    "    scale=scale\n",
    ")"
   ]
  },
  {
   "cell_type": "code",
   "execution_count": 28,
   "metadata": {},
   "outputs": [
    {
     "data": {
      "image/png": "[encoded data removed]",
      "text/html": [
       "<img src=\"data:image/png;base64,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\"></img>"
      ],
      "text/plain": [
       "<napari.utils.notebook_display.NotebookScreenshot at 0x16a94f700>"
      ]
     },
     "execution_count": 28,
     "metadata": {},
     "output_type": "execute_result"
    }
   ],
   "source": [
    "from napari.utils.notebook_display import nbscreenshot\n",
    "\n",
    "# viewer.dims.ndisplay = 3\n",
    "# viewer.camera.angles = (-30, 25, 120)\n",
    "nbscreenshot(viewer, canvas_only=True)"
   ]
  },
  {
   "cell_type": "code",
   "execution_count": 30,
   "metadata": {},
   "outputs": [],
   "source": [
    "viewer.close()"
   ]
  },
  {
   "attachments": {},
   "cell_type": "markdown",
   "metadata": {},
   "source": [
    "-------------\n",
    "## SUMMARY\n",
    "\n",
    "The above details how the golgi body object is inferred.  \n",
    "\n",
    "### NEXT: INFER PEROXISOME\n",
    "\n",
    "proceed to [07_infer_peroxisome.ipynb](./07_infer_peroxisome.ipynb)\n"
   ]
  },
  {
   "cell_type": "markdown",
   "metadata": {},
   "source": []
  }
 ],
 "metadata": {
  "kernelspec": {
   "display_name": "Python 3.9.13 ('napariNEW')",
   "language": "python",
   "name": "python3"
  },
  "language_info": {
   "codemirror_mode": {
    "name": "ipython",
    "version": 3
   },
   "file_extension": ".py",
   "mimetype": "text/x-python",
   "name": "python",
   "nbconvert_exporter": "python",
   "pygments_lexer": "ipython3",
   "version": "3.9.16"
  },
  "orig_nbformat": 4,
  "vscode": {
   "interpreter": {
    "hash": "d6148ef1fb015fb20f0b6da2ea61c87c6b848bdf3dabb03087e5d5cd0c4607e9"
   }
  }
 },
 "nbformat": 4,
 "nbformat_minor": 2
}
