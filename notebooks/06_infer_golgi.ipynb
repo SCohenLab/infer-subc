{
 "cells": [
  {
   "attachments": {},
   "cell_type": "markdown",
   "metadata": {},
   "source": [
    "# Infer ***golgi*** - part 6️⃣\n",
    "\n",
    "--------------\n",
    "OBJECTIVE:  ✅ Infer sub-cellular component ***golgi complex***  in order to understand interactome \n",
    "\n",
    "Dependencies:\n",
    "The ***golgi***  inference rely on the **cytosol** mask. "
   ]
  },
  {
   "attachments": {},
   "cell_type": "markdown",
   "metadata": {},
   "source": [
    "## preamble\n",
    "\n",
    "1. imports\n",
    "2. setup\n",
    "3. choose_Z\n",
    "4. get soma mask\n",
    "5. infer nuclei object  \n",
    "6. get cytosol mask"
   ]
  },
  {
   "cell_type": "markdown",
   "metadata": {},
   "source": []
  },
  {
   "cell_type": "markdown",
   "metadata": {},
   "source": [
    "\n",
    "## IMPORTS"
   ]
  },
  {
   "cell_type": "code",
   "execution_count": 1,
   "metadata": {},
   "outputs": [],
   "source": [
    "# top level imports\n",
    "from pathlib import Path\n",
    "import os, sys\n",
    "from collections import defaultdict\n",
    "from typing import Optional\n",
    "\n",
    "import numpy as np\n",
    "\n",
    "from aicssegmentation.core.seg_dot import dot_2d_slice_by_slice_wrapper, dot_3d_wrapper\n",
    "\n",
    "from aicssegmentation.core.pre_processing_utils import ( intensity_normalization, \n",
    "                                                         image_smoothing_gaussian_3d,  \n",
    "                                                         image_smoothing_gaussian_slice_by_slice )\n",
    "from aicssegmentation.core.utils import topology_preserving_thinning, size_filter\n",
    "from skimage.morphology import ball \n",
    "from skimage.measure import label\n",
    "\n",
    "# # package for io \n",
    "from aicsimageio import AICSImage\n",
    "\n",
    "import napari\n",
    "\n",
    "### import local python functions in ../infer_subc_2d\n",
    "sys.path.append(os.path.abspath((os.path.join(os.getcwd(), '..'))))\n",
    "from infer_subc_2d.utils.file_io import (read_czi_image, \n",
    "                                                                    list_image_files)\n",
    "from infer_subc_2d.utils.img import *\n",
    "from infer_subc_2d.constants import (TEST_IMG_N,\n",
    "                                                                    NUC_CH ,\n",
    "                                                                    LYSO_CH ,\n",
    "                                                                    MITO_CH ,\n",
    "                                                                    GOLGI_CH ,\n",
    "                                                                    PEROXI_CH ,\n",
    "                                                                    ER_CH ,\n",
    "                                                                    LIPID_CH ,\n",
    "                                                                    RESIDUAL_CH )        \n",
    "\n",
    "from infer_subc_2d.organelles import fixed_infer_soma, fixed_infer_nuclei, infer_cytosol, find_optimal_Z\n",
    "\n",
    "\n",
    "%load_ext autoreload\n",
    "%autoreload 2\n",
    "\n",
    "\n",
    "test_img_n = TEST_IMG_N"
   ]
  },
  {
   "attachments": {},
   "cell_type": "markdown",
   "metadata": {},
   "source": [
    "\n",
    "## SETUP"
   ]
  },
  {
   "cell_type": "code",
   "execution_count": 2,
   "metadata": {},
   "outputs": [
    {
     "name": "stderr",
     "output_type": "stream",
     "text": [
      "/opt/anaconda3/envs/napariNEW/lib/python3.9/site-packages/ome_types/_convenience.py:105: FutureWarning: The default XML parser will be changing from 'xmlschema' to 'lxml' in version 0.4.0.  To silence this warning, please provide the `parser` argument, specifying either 'lxml' (to opt into the new behavior), or'xmlschema' (to retain the old behavior).\n",
      "  d = to_dict(os.fspath(xml), parser=parser, validate=validate)\n"
     ]
    }
   ],
   "source": [
    "# build the datapath\n",
    "# all the imaging data goes here.\n",
    "data_root_path = Path(os.path.expanduser(\"~\")) / \"Projects/Imaging/data\"\n",
    "\n",
    "# linearly unmixed \".czi\" files are here\n",
    "data_path = data_root_path / \"raw\"\n",
    "im_type = \".czi\"\n",
    "\n",
    "# get the list of all files\n",
    "img_file_list = list_image_files(data_path,im_type)\n",
    "test_img_name = img_file_list[test_img_n]\n",
    "\n",
    "img_data,meta_dict = read_czi_image(test_img_name)\n",
    "\n",
    "# get some top-level info about the RAW data\n",
    "channel_names = meta_dict['name']\n",
    "img = meta_dict['metadata']['aicsimage']\n",
    "scale = meta_dict['scale']\n",
    "channel_axis = meta_dict['channel_axis']\n"
   ]
  },
  {
   "cell_type": "markdown",
   "metadata": {},
   "source": [
    "## CHOOZE Z-SLICE\n",
    "\n",
    "Lets find the slice with the most overall intensity..."
   ]
  },
  {
   "cell_type": "code",
   "execution_count": 3,
   "metadata": {},
   "outputs": [
    {
     "name": "stdout",
     "output_type": "stream",
     "text": [
      "choosing _optimal_ z-slice::: 8\n"
     ]
    }
   ],
   "source": [
    "ch_to_agg = ( LYSO_CH ,\n",
    "                        MITO_CH ,\n",
    "                        GOLGI_CH ,\n",
    "                        PEROXI_CH ,\n",
    "                        ER_CH ,\n",
    "                        LIPID_CH )\n",
    "                            \n",
    "nuc_ch = NUC_CH\n",
    "optimal_Z = find_optimal_Z(img_data, nuc_ch, ch_to_agg) \n",
    "img_2D = select_z_from_raw(img_data, optimal_Z)\n"
   ]
  },
  {
   "attachments": {},
   "cell_type": "markdown",
   "metadata": {},
   "source": [
    "## GET SOMA MASK\n",
    "\n",
    "Find the soma in our chozed Z-slice"
   ]
  },
  {
   "cell_type": "code",
   "execution_count": 4,
   "metadata": {},
   "outputs": [],
   "source": [
    "soma_mask =  fixed_infer_soma(img_2D) "
   ]
  },
  {
   "attachments": {},
   "cell_type": "markdown",
   "metadata": {},
   "source": [
    "## INFER NUCLEI OBJECT\n"
   ]
  },
  {
   "cell_type": "code",
   "execution_count": 5,
   "metadata": {},
   "outputs": [],
   "source": [
    "nuclei_object =  fixed_infer_nuclei(img_2D, soma_mask) \n"
   ]
  },
  {
   "attachments": {},
   "cell_type": "markdown",
   "metadata": {},
   "source": [
    "## GET CYTOSOL MASK\n"
   ]
  },
  {
   "cell_type": "code",
   "execution_count": 6,
   "metadata": {},
   "outputs": [],
   "source": [
    "cytosol_mask =  infer_cytosol( nuclei_object,soma_mask) \n"
   ]
  },
  {
   "attachments": {},
   "cell_type": "markdown",
   "metadata": {},
   "source": [
    "---------------------\n",
    "\n",
    "## infer ***golgi complex***\n",
    "\n",
    "## summary of steps \n",
    "INPUT\n",
    "- ch 4\n",
    "- cytosol mask\n",
    "\n",
    "PRE-PROCESSING\n",
    "-   non-local noise reduction\n",
    "  - size:4, distance:2, cut-off:0.1\n",
    "\n",
    "CORE-PROCESSING\n",
    "- adaptive Otsu\n",
    "    - diameter: (4,100)\n",
    "  - two classes\n",
    "    - threshold smoothing scale: 1.34\n",
    "    - threshold correction factor: .75\n",
    "    - threshold bounds: (0.14, 1)\n",
    "    - adaptive window: 20 pixels\n",
    "\n",
    "  - adaptive Sauvola\n",
    "    - threshold smoothing scale: 0\n",
    "    - threshold correction factor: .6\n",
    "    - threshold bounds: (0. ,1.0)\n",
    "    - adaptive window: 20 pixels\n",
    "\n",
    "- POST-PROCESSING\n",
    "  - N/A\n",
    "\n",
    "OUTPUT\n",
    "- inferred  ***golgi*** object\n",
    "\n",
    "\n",
    "Generally following the Allen Cell Segmenter procedure, but doing more aggressive contrast scaling than their prescribed contrast scaling.\n",
    "\n",
    "> As per the Allen Cell segmenter sialyltransferase 1 (ST6GAL1) a potential Golgi segmenter. e.g. [Allen Cell](https://www.allencell.org/cell-observations/category/golgi-apparatus).    using [seg_st6gal1.py](\"../../../../aics-segmentation/aicssegmentation/structure_wrapper/seg_st6gal1.py\") and [playground_st6gal1.ipynb](\"../../../../aics-segmentation/lookup_table_demo/playground_st6gal1.ipynb\")\n",
    "\n",
    "\n",
    ">#### ASIDE: Perform topology-preserving thinning \n",
    ">There are two parameters:\n",
    ">* `thin_dist_preserve`: Half of the minimum width you want to keep from being thinned. For example, when the object width is smaller than 4, you don't want to make this part even thinning (may break the thin object and alter the topology), you can set `thin_dist_preserve` as `2`.\n",
    ">* `thin_dist`: the amount to thin (has to be an positive integer). The number of pixels to be removed from outter boundary towards center\n"
   ]
  },
  {
   "attachments": {},
   "cell_type": "markdown",
   "metadata": {},
   "source": [
    "## INPUT prototype"
   ]
  },
  {
   "cell_type": "code",
   "execution_count": 7,
   "metadata": {},
   "outputs": [],
   "source": [
    "\n",
    "###################\n",
    "# INPUT\n",
    "###################\n",
    "# raw_golgi   = img_2D[GOLGI_CH].copy()\n",
    "raw_golgi = select_channel_from_raw(img_2D, GOLGI_CH)\n",
    "\n"
   ]
  },
  {
   "attachments": {},
   "cell_type": "markdown",
   "metadata": {},
   "source": [
    "## PRE-PROCESSING prototype\n"
   ]
  },
  {
   "cell_type": "code",
   "execution_count": 8,
   "metadata": {},
   "outputs": [],
   "source": [
    "###################\n",
    "# PRE_PROCESSING\n",
    "###################\n",
    "\n",
    "\n",
    "# intensity_norm_param = [0.1, 30.]  # CHECK THIS\n",
    "# # Linear-ish smoothing\n",
    "# golgi = intensity_normalization( masked_golgi ,  scaling_param=intensity_norm_param)\n",
    "\n",
    "golgi = min_max_intensity_normalization( raw_golgi )\n",
    "\n",
    "\n",
    "med_filter_size = 3  \n",
    "\n",
    "gaussian_smoothing_sigma = 1.34\n",
    "\n",
    "struct_img = median_filter_slice_by_slice(golgi,    size=med_filter_size  )\n",
    "\n",
    "structure_img_smooth = image_smoothing_gaussian_slice_by_slice(   struct_img,\n",
    "                                                                                                                        sigma=gaussian_smoothing_sigma,\n",
    "                                                                                                                    )\n",
    "\n",
    "\n",
    "struct_img = structure_img_smooth\n",
    "\n",
    "\n"
   ]
  },
  {
   "attachments": {},
   "cell_type": "markdown",
   "metadata": {},
   "source": [
    "## CORE PROCESSING prototype"
   ]
  },
  {
   "cell_type": "code",
   "execution_count": 9,
   "metadata": {},
   "outputs": [],
   "source": [
    "###################\n",
    "# CORE_PROCESSING\n",
    "###################\n",
    "################################\n",
    "## PARAMETERS for this step ##\n",
    "cell_wise_min_area = 1200\n",
    "dot_2d_sigma = 1.6\n",
    "dot_2d_cutoff = 0.02\n",
    "thin_dist = 1\n",
    "thin_dist_preserve = 1.6\n",
    "\n",
    "\n",
    "\n",
    "###################\n",
    "# CORE_PROCESSING\n",
    "###################\n",
    "\n",
    "bw, object_for_debug = MO(structure_img_smooth, \n",
    "                                                global_thresh_method='tri', \n",
    "                                                object_minArea=cell_wise_min_area, \n",
    "                                                return_object=True)\n",
    "\n",
    "\n",
    "thin_dist_preserve = 1.6\n",
    "thin_dist = 1\n",
    "bw_thin = topology_preserving_thinning(bw, thin_dist_preserve, thin_dist)\n",
    "\n",
    "\n",
    "################################\n",
    "## PARAMETERS for this step ##\n",
    "#s3_param = [[1.6, 0.02]]\n",
    "s3_param = [(dot_2d_sigma,dot_2d_cutoff)]\n",
    "################################\n",
    "\n",
    "# bw_extra = dot_3d_wrapper(structure_img_smooth, s3_param)\n",
    "bw_extra = dot_2d_slice_by_slice_wrapper(structure_img_smooth, s3_param)\n",
    "\n",
    "bw_combine = np.logical_or(bw_extra, bw_thin)\n"
   ]
  },
  {
   "attachments": {},
   "cell_type": "markdown",
   "metadata": {},
   "source": [
    "## POST-PROCESSING prototype"
   ]
  },
  {
   "cell_type": "code",
   "execution_count": 10,
   "metadata": {},
   "outputs": [],
   "source": [
    "\n",
    "###################\n",
    "# POST_PROCESSING\n",
    "###################\n",
    "bw_combine = apply_mask(bw_combine, cytosol_mask)\n",
    "    \n",
    "small_object_width = 3\n",
    "\n",
    "golgi_object = size_filter_2D(bw_combine, \n",
    "                                                min_size= small_object_width**2, \n",
    "                                                connectivity=1)\n"
   ]
  },
  {
   "cell_type": "markdown",
   "metadata": {},
   "source": [
    "#### Visualize with `napari`\n",
    "Visualize the first-pass segmentation and labeling with `napari`."
   ]
  },
  {
   "cell_type": "code",
   "execution_count": 11,
   "metadata": {},
   "outputs": [],
   "source": [
    "viewer = napari.Viewer()\n"
   ]
  },
  {
   "cell_type": "code",
   "execution_count": 12,
   "metadata": {},
   "outputs": [
    {
     "data": {
      "text/plain": [
       "<Image layer 'golgi_object' at 0x14203d460>"
      ]
     },
     "execution_count": 12,
     "metadata": {},
     "output_type": "execute_result"
    }
   ],
   "source": [
    "\n",
    "viewer.add_image(\n",
    "    golgi_object,\n",
    "    scale=scale\n",
    ")\n",
    "\n"
   ]
  },
  {
   "cell_type": "code",
   "execution_count": 13,
   "metadata": {},
   "outputs": [
    {
     "data": {
      "text/plain": [
       "<Image layer 'bw_thin' at 0x173e78d00>"
      ]
     },
     "execution_count": 13,
     "metadata": {},
     "output_type": "execute_result"
    }
   ],
   "source": [
    "viewer.scale_bar.visible = True\n",
    "viewer.add_image(\n",
    "    bw_extra,\n",
    "    scale=scale\n",
    ")\n",
    "viewer.add_image(\n",
    "    bw_thin,\n",
    "    scale=scale\n",
    ")\n"
   ]
  },
  {
   "attachments": {},
   "cell_type": "markdown",
   "metadata": {},
   "source": [
    "## DEFINE `infer_golgi` function\n",
    "\n",
    "Based on the _prototyping_ above define the function to infer the golgi.  \n"
   ]
  },
  {
   "cell_type": "code",
   "execution_count": 22,
   "metadata": {},
   "outputs": [],
   "source": [
    "##########################\n",
    "#  infer_golgi\n",
    "##########################\n",
    "def _infer_golgi(\n",
    "            in_img: np.ndarray,\n",
    "            cytosol_mask: np.ndarray,\n",
    "            median_sz: int,\n",
    "            gauss_sig: float,\n",
    "            mo_method: str,\n",
    "            mo_adjust: float,\n",
    "            mo_cutoff_size: int,\n",
    "            min_thickness: int,\n",
    "            thin: int,\n",
    "            dot_scale: float,\n",
    "            dot_cut: float,\n",
    "            small_obj_w: int,\n",
    "        ) -> np.ndarray:\n",
    "\n",
    "    \"\"\"\n",
    "    Procedure to infer golgi from linearly unmixed input.\n",
    "\n",
    "   Parameters\n",
    "    ------------\n",
    "    in_img: \n",
    "        a 3d image containing all the channels\n",
    "    soma_mask: \n",
    "        mask \n",
    "    median_sz: \n",
    "        width of median filter for signal\n",
    "    mo_method: \n",
    "         which method to use for calculating global threshold. Options include:\n",
    "         \"triangle\" (or \"tri\"), \"median\" (or \"med\"), and \"ave_tri_med\" (or \"ave\").\n",
    "         \"ave\" refers the average of \"triangle\" threshold and \"mean\" threshold.\n",
    "    mo_adjust: \n",
    "        Masked Object threshold `local_adjust`\n",
    "    mo_cutoff_size: \n",
    "        Masked Object threshold `size_min`\n",
    "    min_thinkness: \n",
    "        Half of the minimum width you want to keep from being thinned.\n",
    "        For example, when the object width is smaller than 4, you don't\n",
    "        want to make this part even thinner (may break the thin object\n",
    "        and alter the topology), you can set this value as 2.\n",
    "    thin: \n",
    "        the amount to thin (has to be an positive integer). The number of\n",
    "         pixels to be removed from outter boundary towards center.\n",
    "    dot_scale: \n",
    "        scales (log_sigma) for dot filter (1,2, and 3)\n",
    "    dot_cut: \n",
    "        threshold for dot filter thresholds (1,2,and 3)\n",
    "    small_obj_w: \n",
    "        minimu object size cutoff for nuclei post-processing\n",
    "    \n",
    "    Returns\n",
    "    -------------\n",
    "    golgi_object\n",
    "        mask defined extent of golgi object\n",
    "    \"\"\"\n",
    "    golgi_ch = GOLGI_CH\n",
    "\n",
    "\n",
    "    ###################\n",
    "    # EXTRACT\n",
    "    ###################    \n",
    "    golgi = select_channel_from_raw(in_img, golgi_ch)\n",
    "\n",
    "    ###################\n",
    "    # PRE_PROCESSING\n",
    "    ###################    \n",
    "    golgi = min_max_intensity_normalization(golgi)\n",
    "\n",
    "    golgi = median_filter_slice_by_slice(golgi, size=median_sz)\n",
    "\n",
    "    golgi = image_smoothing_gaussian_slice_by_slice(golgi, sigma=gauss_sig)\n",
    "\n",
    "   ###################\n",
    "    # CORE_PROCESSING\n",
    "    ###################\n",
    "    # bw = MO(golgi, global_thresh_method=thresh_method, object_minArea=obj_min_area)\n",
    "    bw = masked_object_thresh(golgi, th_method=mo_method, cutoff_size=mo_cutoff_size, th_adjust=mo_adjust)\n",
    "\n",
    "    bw_thin = topology_preserving_thinning(bw, min_thickness, thin)\n",
    "\n",
    "    s3_param = [(dot_cut,dot_scale)]\n",
    "    bw_extra = dot_2d_slice_by_slice_wrapper(golgi, s3_param)\n",
    "    # bw_extra = dot_3d_wrapper(golgi, s3_param)\n",
    "\n",
    "    bw = np.logical_or(bw_extra, bw_thin)\n",
    "    ###################\n",
    "    # POST_PROCESSING\n",
    "    ###################\n",
    "    struct_obj = apply_mask(bw, cytosol_mask)\n",
    "\n",
    "    struct_obj = size_filter_2D(struct_obj, \n",
    "                                                min_size= small_obj_w**2, \n",
    "                                                connectivity=1)\n",
    "\n",
    "\n",
    "    return struct_obj"
   ]
  },
  {
   "attachments": {},
   "cell_type": "markdown",
   "metadata": {},
   "source": [
    "## DEFINE `_fixed_infer_golgi` function\n"
   ]
  },
  {
   "cell_type": "code",
   "execution_count": 23,
   "metadata": {},
   "outputs": [],
   "source": [
    "##########################\n",
    "#  fixed_infer_golgi\n",
    "##########################\n",
    "def _fixed_infer_golgi(in_img: np.ndarray, \n",
    "                                                cytosol_mask: Optional[np.ndarray] = None\n",
    "                                            ) -> np.ndarray:\n",
    "    \"\"\"\n",
    "    Procedure to infer golgi from linearly unmixed input.\n",
    "\n",
    "    Parameters\n",
    "    ------------\n",
    "    in_img: \n",
    "        a 3d image containing all the channels\n",
    "    cytosol_mask: \n",
    "        mask\n",
    "\n",
    "    Returns\n",
    "    -------------\n",
    "   golgi_object\n",
    "        mask defined extent of golgi object\n",
    "    \"\"\"\n",
    "\n",
    "    median_sz = 4\n",
    "    gauss_sig = 1.34\n",
    "    mo_method = \"tri\"\n",
    "    mo_adjust = 0.90\n",
    "    mo_cutoff_size = 1200\n",
    "    min_thickness = 1.6\n",
    "    thin = 1\n",
    "    dot_scale = 1.6\n",
    "    dot_cut = 0.02\n",
    "    small_obj_w = 3\n",
    "\n",
    "    return _infer_golgi(\n",
    "        in_img,\n",
    "        cytosol_mask,\n",
    "        median_sz,\n",
    "        gauss_sig,\n",
    "        mo_method,\n",
    "        mo_adjust,\n",
    "        mo_cutoff_size,\n",
    "        min_thickness,\n",
    "        thin,\n",
    "        dot_scale,\n",
    "        dot_cut,\n",
    "        small_obj_w,\n",
    "    )"
   ]
  },
  {
   "cell_type": "markdown",
   "metadata": {},
   "source": [
    "# TEST  `infer_golgi` function"
   ]
  },
  {
   "cell_type": "code",
   "execution_count": 24,
   "metadata": {},
   "outputs": [],
   "source": [
    "\n",
    "_golgi_object =  _fixed_infer_golgi(img_2D, cytosol_mask) \n"
   ]
  },
  {
   "cell_type": "code",
   "execution_count": 25,
   "metadata": {},
   "outputs": [],
   "source": [
    "from infer_subc_2d.organelles import infer_golgi, fixed_infer_golgi\n",
    "\n",
    "golgi_object =  fixed_infer_golgi(img_2D, cytosol_mask) \n"
   ]
  },
  {
   "attachments": {},
   "cell_type": "markdown",
   "metadata": {},
   "source": [
    "## Visualize  2\n"
   ]
  },
  {
   "cell_type": "code",
   "execution_count": 26,
   "metadata": {},
   "outputs": [
    {
     "data": {
      "text/plain": [
       "<Labels layer 'Labels' at 0x175acf9a0>"
      ]
     },
     "execution_count": 26,
     "metadata": {},
     "output_type": "execute_result"
    }
   ],
   "source": [
    "\n",
    "viewer.add_image(\n",
    "    _golgi_object,\n",
    "    scale=scale\n",
    ")\n",
    "viewer.add_image(\n",
    "    golgi_object,\n",
    "    scale=scale\n",
    ")\n",
    "viewer.add_labels(\n",
    "    label(golgi_object),\n",
    "    scale=scale\n",
    ")"
   ]
  },
  {
   "cell_type": "code",
   "execution_count": 27,
   "metadata": {},
   "outputs": [
    {
     "data": {
      "image/png": "[encoded data removed]",
      "text/html": [
       "<img src=\"data:image/png;base64,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\"></img>"
      ],
      "text/plain": [
       "<napari.utils.notebook_display.NotebookScreenshot at 0x1765e7280>"
      ]
     },
     "execution_count": 27,
     "metadata": {},
     "output_type": "execute_result"
    }
   ],
   "source": [
    "from napari.utils.notebook_display import nbscreenshot\n",
    "\n",
    "# viewer.dims.ndisplay = 3\n",
    "# viewer.camera.angles = (-30, 25, 120)\n",
    "nbscreenshot(viewer, canvas_only=True)"
   ]
  },
  {
   "cell_type": "code",
   "execution_count": 28,
   "metadata": {},
   "outputs": [],
   "source": [
    "viewer.close()"
   ]
  },
  {
   "attachments": {},
   "cell_type": "markdown",
   "metadata": {},
   "source": [
    "-----------------\n",
    "Write the `infer_lysosome` spec to the widget json "
   ]
  },
  {
   "cell_type": "code",
   "execution_count": 29,
   "metadata": {},
   "outputs": [
    {
     "name": "stdout",
     "output_type": "stream",
     "text": [
      "function fixed_infer_golgi is already in all_functions.json\n",
      "overwriting  fixed_infer_golgi\n"
     ]
    },
    {
     "data": {
      "text/plain": [
       "1"
      ]
     },
     "execution_count": 29,
     "metadata": {},
     "output_type": "execute_result"
    }
   ],
   "source": [
    "from infer_subc_2d.organelles_config.helper import add_function_spec_to_widget_json\n",
    "\n",
    "_fixed_infer_golgi =  {\n",
    "        \"name\": \"infer golgi  (fixed parameters)\",\n",
    "        \"python::module\": \"infer_subc_2d.organelles\",\n",
    "        \"python::function\": \"fixed_infer_golgi\",\n",
    "        \"parameters\": None\n",
    "        }\n",
    "\n",
    "add_function_spec_to_widget_json(\"fixed_infer_golgi\",_fixed_infer_golgi, overwrite=True)"
   ]
  },
  {
   "cell_type": "code",
   "execution_count": 30,
   "metadata": {},
   "outputs": [
    {
     "name": "stdout",
     "output_type": "stream",
     "text": [
      "function infer_golgi is already in all_functions.json\n",
      "overwriting  infer_golgi\n"
     ]
    },
    {
     "data": {
      "text/plain": [
       "1"
      ]
     },
     "execution_count": 30,
     "metadata": {},
     "output_type": "execute_result"
    }
   ],
   "source": [
    "\n",
    "_infer_golgi =  {\n",
    "        \"name\": \"infer golgi\",\n",
    "        \"python::module\": \"infer_subc_2d.organelles\",\n",
    "        \"python::function\": \"infer_golgi\",\n",
    "        \"parameters\": {\n",
    "                \"median_sz\": {\n",
    "                        \"widget_type\": \"slider\",\n",
    "                        \"data_type\": \"int\",\n",
    "                        \"min\": 3,\n",
    "                        \"max\": 15,\n",
    "                        \"increment\": 1\n",
    "                },\n",
    "                \"gauss_sig\": {\n",
    "                        \"data_type\": \"float\",\n",
    "                        \"increment\": 0.25,\n",
    "                        \"max\": 15.0,\n",
    "                        \"min\": 1.25,\n",
    "                        \"widget_type\": \"slider\"\n",
    "                },\n",
    "                \"mo_method\": {\n",
    "                        \"data_type\": \"str\",\n",
    "                        \"widget_type\": \"drop-down\",\n",
    "                        \"options\": [\n",
    "                                \"triangle\",\n",
    "                                \"median\",\n",
    "                                \"ave_tri_med\"\n",
    "                                ]\n",
    "                },\n",
    "                \"mo_adjust\": {\n",
    "                        \"data_type\": \"float\",\n",
    "                        \"increment\": 0.05,\n",
    "                        \"max\": 1.0,\n",
    "                        \"min\": 0.0,\n",
    "                        \"widget_type\": \"slider\"\n",
    "                },\n",
    "                \"mo_cutoff_size\": {\n",
    "                        \"data_type\": \"int\",\n",
    "                        \"increment\": 10,\n",
    "                        \"max\": 250,\n",
    "                        \"min\": 10,\n",
    "                        \"widget_type\": \"slider\"\n",
    "                },\n",
    "                \"min_thickness\": {\n",
    "                        \"widget_type\": \"slider\",\n",
    "                        \"data_type\": \"int\",\n",
    "                        \"min\": 1,\n",
    "                        \"max\": 10,\n",
    "                        \"increment\": 1\n",
    "                },\n",
    "                \"thin\": {\n",
    "                        \"widget_type\": \"slider\",\n",
    "                        \"data_type\": \"int\",\n",
    "                        \"min\": 1,\n",
    "                        \"max\": 200,\n",
    "                        \"increment\": 1\n",
    "                },\n",
    "                \"dot_scale\": {\n",
    "                        \"data_type\": \"float\",\n",
    "                        \"increment\": 0.05,\n",
    "                        \"max\": 10,\n",
    "                        \"min\": 0,\n",
    "                        \"widget_type\": \"slider\"\n",
    "                },\n",
    "                \"dot_cut\": {\n",
    "                        \"data_type\": \"float\",\n",
    "                        \"increment\": 0.001,\n",
    "                        \"max\": 0.5,\n",
    "                        \"min\": 0,\n",
    "                        \"widget_type\": \"slider\"\n",
    "                },\n",
    "                \"small_obj_w\": {\n",
    "                        \"data_type\": \"int\",\n",
    "                        \"increment\": 1,\n",
    "                        \"max\": 50,\n",
    "                        \"min\": 1,\n",
    "                        \"widget_type\": \"slider\"\n",
    "                }\n",
    "        }\n",
    "}\n",
    "\n",
    "add_function_spec_to_widget_json(\"infer_golgi\", _infer_golgi, overwrite=True )\n",
    "\n"
   ]
  },
  {
   "attachments": {},
   "cell_type": "markdown",
   "metadata": {},
   "source": [
    "-------------------------------\n",
    "## Write workflow .json\n",
    "Now that we've added our function specs we can compose workflows."
   ]
  },
  {
   "cell_type": "code",
   "execution_count": 31,
   "metadata": {},
   "outputs": [],
   "source": [
    "from infer_subc_2d.constants import GOLGI_CH\n",
    "def make_infer_golgi_step_by_step_from_raw_dict():\n",
    "    \"\"\"\n",
    "    Procedure to infer mitochondria from linearly unmixed input from raw\n",
    "\n",
    "    \"\"\"\n",
    "    step_name = []\n",
    "    function_name = []\n",
    "    category =[]\n",
    "    parameter_values = []\n",
    "    parent = []\n",
    "   \n",
    "    ###################\n",
    "    # EXTRACT\n",
    "    ###################   \n",
    "    step_name = []\n",
    "    function_name = []\n",
    "    category =[]\n",
    "    parameter_values = []\n",
    "    parent = []\n",
    "   \n",
    "    ###################\n",
    "    # EXTRACT\n",
    "    ###################   \n",
    "\n",
    "    step_name.append(\"1\")\n",
    "    function_name.append(\"fixed_get_optimal_Z_img\")\n",
    "    category.append(\"extraction\")\n",
    "    parameter_values.append(None)\n",
    "    parent.append(0)\n",
    "\n",
    "    step_name.append(\"2\")\n",
    "    function_name.append(\"fixed_infer_soma\")\n",
    "    category.append(\"extraction\")\n",
    "    parameter_values.append( None )\n",
    "    parent.append(1)\n",
    "\n",
    "    step_name.append(\"3\")\n",
    "    function_name.append(\"fixed_infer_nuclei\")\n",
    "    category.append(\"extraction\")\n",
    "    parameter_values.append( None )\n",
    "    parent.append([1,2])\n",
    "\n",
    "    step_name.append(\"4\")\n",
    "    function_name.append(\"infer_cytosol\")\n",
    "    category.append(\"extraction\")\n",
    "    parameter_values.append(dict(erode_nuclei = True ))\n",
    "    parent.append([2,3])\n",
    "\n",
    "    step_name.append(\"5\")\n",
    "    function_name.append(\"select_channel_from_raw\")\n",
    "    category.append(\"extraction\")\n",
    "    parameter_values.append( dict(chan = GOLGI_CH) )\n",
    "    parent.append(1)\n",
    "    \n",
    "    step_name.append(\"6\")\n",
    "    function_name.append(\"min_max_intensity_normalization\")\n",
    "    category.append(\"preprocessing\")\n",
    "    parameter_values.append(None)\n",
    "    parent.append(5)\n",
    "\n",
    "    step_name.append(\"7\")\n",
    "    function_name.append(\"median_filter_slice_by_slice\")\n",
    "    category.append(\"preprocessing\")\n",
    "    parameter_values.append(dict(size = 3 ))\n",
    "    parent.append(6)\n",
    "\n",
    "    step_name.append(\"8\")\n",
    "    function_name.append(\"image_smoothing_gaussian_slice_by_slice\")\n",
    "    category.append(\"preprocessing\")\n",
    "    parameter_values.append(dict( sigma = 1.34 ))\n",
    "    parent.append(7)\n",
    "\n",
    "    step_name.append(\"9\")\n",
    "    function_name.append(\"masked_object_thresh\") \n",
    "    category.append(\"core\")\n",
    "    parameter_values.append( dict( th_method= \"triangle\", \n",
    "                                                            cutoff_size=1200,\n",
    "                                                            th_adjust = 0.5) )\n",
    "    parent.append(8)\n",
    "\n",
    "    step_name.append(\"10\")\n",
    "    function_name.append(\"topology_preserving_thinning\") \n",
    "    category.append(\"core\")\n",
    "    parameter_values.append( dict( min_thickness=1.6, thin=1) )\n",
    "    parent.append(9)\n",
    "\n",
    "    step_name.append(\"11\")\n",
    "    function_name.append(\"spot_filter_slice_by_slice\") \n",
    "    category.append(\"core\")\n",
    "    parameter_values.append( dict( log_sigma=1.6, cutoff=0.02) )\n",
    "    parent.append(9)\n",
    "\n",
    "    step_name.append(\"12\")\n",
    "    function_name.append(\"logical_or\")\n",
    "    category.append(\"core\")\n",
    "    parameter_values.append( None )\n",
    "    parent.append([10,11])\n",
    "\n",
    "    step_name.append(\"13\")\n",
    "    function_name.append(\"apply_mask\")\n",
    "    category.append(\"postprocessing\")\n",
    "    parameter_values.append(None)\n",
    "    parent.append([12,4])\n",
    "\n",
    "    step_name.append(\"14\")\n",
    "    function_name.append(\"size_filter_2D\")\n",
    "    category.append(\"postprocessing\")\n",
    "    parameter_values.append(dict( min_size = 3**2  ))\n",
    "    parent.append(13)\n",
    "\n",
    "    out_dict = dict()\n",
    "    for i,stepn in enumerate(step_name):\n",
    "        entry = dict(category=category[i],\n",
    "                            function=function_name[i],\n",
    "                            parameter_values=parameter_values[i],\n",
    "                            parent=parent[i]\n",
    "        )\n",
    "        if entry['parameter_values'] is None:\n",
    "            _ = entry.pop('parameter_values')\n",
    "        out_dict[stepn] = entry\n",
    "    \n",
    "    return out_dict\n",
    "\n"
   ]
  },
  {
   "cell_type": "code",
   "execution_count": 32,
   "metadata": {},
   "outputs": [
    {
     "data": {
      "text/plain": [
       "PosixPath('/Users/ahenrie/Projects/Imaging/infer-subc-2D/infer_subc_2d/organelles_config/conf_1.6.golgi_stepbystep_from_raw.json')"
      ]
     },
     "execution_count": 32,
     "metadata": {},
     "output_type": "execute_result"
    }
   ],
   "source": [
    "from infer_subc_2d.organelles_config.helper import write_workflow_json\n",
    "\n",
    "infer_golgi_stepbystep_from_raw_dict = make_infer_golgi_step_by_step_from_raw_dict()\n",
    "\n",
    "write_workflow_json(\"conf_1.6.golgi_stepbystep_from_raw\", infer_golgi_stepbystep_from_raw_dict)"
   ]
  },
  {
   "attachments": {},
   "cell_type": "markdown",
   "metadata": {},
   "source": [
    "-------------\n",
    "## SUMMARY\n",
    "\n",
    "The above details how the golgi body object is inferred.  \n",
    "\n",
    "### NEXT: INFER PEROXISOME\n",
    "\n",
    "proceed to [07_infer_peroxisome.ipynb](./07_infer_peroxisome.ipynb)\n"
   ]
  },
  {
   "cell_type": "markdown",
   "metadata": {},
   "source": []
  }
 ],
 "metadata": {
  "kernelspec": {
   "display_name": "Python 3.9.13 ('napariNEW')",
   "language": "python",
   "name": "python3"
  },
  "language_info": {
   "codemirror_mode": {
    "name": "ipython",
    "version": 3
   },
   "file_extension": ".py",
   "mimetype": "text/x-python",
   "name": "python",
   "nbconvert_exporter": "python",
   "pygments_lexer": "ipython3",
   "version": "3.9.13 | packaged by conda-forge | (main, May 27 2022, 17:00:52) \n[Clang 13.0.1 ]"
  },
  "orig_nbformat": 4,
  "vscode": {
   "interpreter": {
    "hash": "d6148ef1fb015fb20f0b6da2ea61c87c6b848bdf3dabb03087e5d5cd0c4607e9"
   }
  }
 },
 "nbformat": 4,
 "nbformat_minor": 2
}
