{
 "cells": [
  {
   "cell_type": "markdown",
   "metadata": {},
   "source": [
    "# Infer ***mitochondria*** - part 5️⃣\n",
    "\n",
    "--------------\n",
    "OBJECTIVE: ✅ Infer sub-cellular component  ***mitochondria***  in order to understand interactome \n",
    "\n",
    "Dependencies:\n",
    "The ***mitochondria***  inference rely on the ***cytosol*** mask"
   ]
  },
  {
   "cell_type": "markdown",
   "metadata": {},
   "source": [
    "\n",
    "# IMPORTS"
   ]
  },
  {
   "cell_type": "code",
   "execution_count": 5,
   "metadata": {},
   "outputs": [
    {
     "name": "stdout",
     "output_type": "stream",
     "text": [
      "The autoreload extension is already loaded. To reload it, use:\n",
      "  %reload_ext autoreload\n"
     ]
    }
   ],
   "source": [
    "# top level imports\n",
    "from pathlib import Path\n",
    "import os, sys\n",
    "from collections import defaultdict\n",
    "\n",
    "import numpy as np\n",
    "\n",
    "from aicssegmentation.core.pre_processing_utils import ( intensity_normalization, \n",
    "                                                         image_smoothing_gaussian_slice_by_slice )\n",
    "from aicssegmentation.core.utils import size_filter\n",
    "from aicssegmentation.core.MO_threshold import MO\n",
    "\n",
    "from skimage.measure import label\n",
    "\n",
    "# # package for io \n",
    "from aicsimageio import AICSImage\n",
    "\n",
    "import napari\n",
    "\n",
    "### import local python functions in ../infer_subc_2d\n",
    "sys.path.append(os.path.abspath((os.path.join(os.getcwd(), '..'))))\n",
    "\n",
    "from infer_subc_2d.utils.file_io import (read_czi_image, \n",
    "                                                                    list_image_files)\n",
    "from infer_subc_2d.utils.img import *\n",
    "from infer_subc_2d.constants import (TEST_IMG_N,\n",
    "                                                                    NUC_CH ,\n",
    "                                                                    LYSO_CH ,\n",
    "                                                                    MITO_CH ,\n",
    "                                                                    GOLGI_CH ,\n",
    "                                                                    PEROXI_CH ,\n",
    "                                                                    ER_CH ,\n",
    "                                                                    LIPID_CH ,\n",
    "                                                                    RESIDUAL_CH )        \n",
    "from infer_subc_2d.organelles import fixed_infer_soma, fixed_infer_nuclei, infer_cytosol, find_optimal_Z\n",
    "\n",
    "%load_ext autoreload\n",
    "%autoreload 2\n",
    "\n",
    "\n",
    "test_img_n = TEST_IMG_N"
   ]
  },
  {
   "cell_type": "markdown",
   "metadata": {},
   "source": [
    "# BUILD ***mitochondria*** inference image processing workflow\n",
    "\n",
    "## IMAGE PROCESSING Objective 5:  infer ***mitochondria***\n",
    "\n",
    "\n",
    "### summary \n",
    "\n",
    "Generally following the Allen Cell Segmenter procedure, but doing more aggressive contrast scaling than their prescribed contrast scaling.\n",
    "\n",
    "> Using Allen Cell Segmenter Tom20as a potential Mitochondria segmenter to start with  start from [Allen Cell](https://www.allencell.org/cell-observations/category/mitochondria).   using [seg_tomm20.py](\"../../../../aics-segmentation/aicssegmentation/structure_wrapper/seg_tomm20.py\")\n",
    "\n",
    "### steps\n",
    "\n",
    "INPUT\n",
    "- channel  2\n",
    "- cytosol mask\n",
    "\n",
    "PRE-PROCESSING\n",
    "-  smoothe / remove noise\n",
    "\n",
    "CORE-PROCESSING\n",
    "-  'vesselness' enhancement\n",
    "-  threshold objects\n",
    "\n",
    "- POST-PROCESSING\n",
    "  - apply mask\n",
    "  - filter objects\n",
    "\n",
    "OUTPUT\n",
    "- inferred  ***mitochondria*** object\n",
    "\n"
   ]
  },
  {
   "cell_type": "markdown",
   "metadata": {},
   "source": [
    "\n",
    "------------------------\n",
    "## LOAD RAW IMAGE DATA\n",
    "Identify path to _raw_ image data and load our example image\n"
   ]
  },
  {
   "cell_type": "code",
   "execution_count": 2,
   "metadata": {},
   "outputs": [
    {
     "name": "stderr",
     "output_type": "stream",
     "text": [
      "/opt/anaconda3/envs/napariNEW/lib/python3.9/site-packages/ome_types/_convenience.py:105: FutureWarning: The default XML parser will be changing from 'xmlschema' to 'lxml' in version 0.4.0.  To silence this warning, please provide the `parser` argument, specifying either 'lxml' (to opt into the new behavior), or'xmlschema' (to retain the old behavior).\n",
      "  d = to_dict(os.fspath(xml), parser=parser, validate=validate)\n"
     ]
    }
   ],
   "source": [
    "# build the datapath\n",
    "# all the imaging data goes here.\n",
    "data_root_path = Path(os.path.expanduser(\"~\")) / \"Projects/Imaging/data\"\n",
    "\n",
    "# linearly unmixed \".czi\" files are here\n",
    "data_path = data_root_path / \"raw\"\n",
    "im_type = \".czi\"\n",
    "\n",
    "# get the list of all files\n",
    "img_file_list = list_image_files(data_path,im_type)\n",
    "test_img_name = img_file_list[test_img_n]\n",
    "\n",
    "img_data,meta_dict = read_czi_image(test_img_name)\n",
    "\n",
    "# get some top-level info about the RAW data\n",
    "channel_names = meta_dict['name']\n",
    "img = meta_dict['metadata']['aicsimage']\n",
    "scale = meta_dict['scale']\n",
    "channel_axis = meta_dict['channel_axis']\n"
   ]
  },
  {
   "cell_type": "code",
   "execution_count": 3,
   "metadata": {},
   "outputs": [],
   "source": [
    "# lets see if napari is smart enough with scale...\n",
    "\n",
    "# # make sure we have removed Z\n",
    "# if len(scale)>2:\n",
    "#     scale = scale[1:]"
   ]
  },
  {
   "cell_type": "markdown",
   "metadata": {},
   "source": [
    "## CHOOZE Z-SLICE\n"
   ]
  },
  {
   "cell_type": "markdown",
   "metadata": {},
   "source": [
    "\n",
    "First, find the slice with the most overall intensity..."
   ]
  },
  {
   "cell_type": "code",
   "execution_count": 6,
   "metadata": {},
   "outputs": [],
   "source": [
    "ch_to_agg = ( LYSO_CH ,\n",
    "                        MITO_CH ,\n",
    "                        GOLGI_CH ,\n",
    "                        PEROXI_CH ,\n",
    "                        ER_CH ,\n",
    "                        LIPID_CH )\n",
    "                            \n",
    "nuc_ch = NUC_CH\n",
    "optimal_Z = find_optimal_Z(img_data, nuc_ch, ch_to_agg) \n",
    "\n"
   ]
  },
  {
   "cell_type": "markdown",
   "metadata": {},
   "source": [
    "Now get the single \"optimal\" slice of all our organelle channels...."
   ]
  },
  {
   "cell_type": "code",
   "execution_count": 7,
   "metadata": {},
   "outputs": [],
   "source": [
    "img_2D = select_z_from_raw(img_data, optimal_Z)\n"
   ]
  },
  {
   "cell_type": "markdown",
   "metadata": {},
   "source": [
    "## get the inferred soma, nuclei and cytosol objects\n",
    "\n",
    "(takes < 1 sec)"
   ]
  },
  {
   "cell_type": "code",
   "execution_count": 8,
   "metadata": {},
   "outputs": [],
   "source": [
    "\n",
    "soma_mask =  fixed_infer_soma(img_2D) \n",
    "\n",
    "nuclei_object =  fixed_infer_nuclei(img_2D, soma_mask) \n",
    "cytosol_mask =  infer_cytosol( nuclei_object,soma_mask) \n"
   ]
  },
  {
   "cell_type": "markdown",
   "metadata": {},
   "source": [
    "## Build  ***Mitochondria***  specific inference workflow\n",
    "\n"
   ]
  },
  {
   "cell_type": "markdown",
   "metadata": {},
   "source": [
    "### INPUT"
   ]
  },
  {
   "cell_type": "code",
   "execution_count": 9,
   "metadata": {},
   "outputs": [],
   "source": [
    "\n",
    "###################\n",
    "# INPUT\n",
    "###################\n",
    "# raw_mito   = img_2D[MITO_CH].copy()\n",
    "raw_mito = select_channel_from_raw(img_2D, MITO_CH)\n"
   ]
  },
  {
   "cell_type": "markdown",
   "metadata": {},
   "source": [
    "### PRE-PROCESSING"
   ]
  },
  {
   "cell_type": "code",
   "execution_count": 11,
   "metadata": {},
   "outputs": [],
   "source": [
    "###################\n",
    "# PRE_PROCESSING\n",
    "###################\n",
    "\n",
    "# intensity_norm_param = [0, 9] # from Allen Cell Segmenter LAMP1  workflow\n",
    "# struct_img = intensity_normalization( raw_mito ,  scaling_param=intensity_norm_param)\n",
    "\n",
    "struct_img = min_max_intensity_normalization( raw_mito)\n"
   ]
  },
  {
   "cell_type": "code",
   "execution_count": 12,
   "metadata": {},
   "outputs": [],
   "source": [
    "\n",
    "med_filter_size = 3  \n",
    "\n",
    "gaussian_smoothing_sigma = 1.3\n",
    "gaussian_smoothing_truncate_range = 3.0\n",
    "\n",
    "struct_img = median_filter_slice_by_slice(struct_img,    size=med_filter_size  )\n",
    "\n",
    "structure_img_smooth = image_smoothing_gaussian_slice_by_slice(   struct_img,\n",
    "                                                                                                                        sigma=gaussian_smoothing_sigma,\n",
    "                                                                                                                        truncate_range=gaussian_smoothing_truncate_range,\n",
    "                                                                                                                    )\n",
    "\n",
    "\n",
    "# log_img, d = log_transform( structure_img_smooth ) \n",
    "# struct_img = intensity_normalization(  log_img  ,  scaling_param=[0] )  \n",
    "\n",
    "struct_img = structure_img_smooth"
   ]
  },
  {
   "cell_type": "markdown",
   "metadata": {},
   "source": [
    "### CORE PROCESSING"
   ]
  },
  {
   "cell_type": "code",
   "execution_count": 13,
   "metadata": {},
   "outputs": [],
   "source": [
    "###################\n",
    "# CORE_PROCESSING\n",
    "###################\n",
    "# dot and filiment enhancement - 2D\n",
    "\n",
    "\n",
    "################################\n",
    "## PARAMETERS for this step ##\n",
    "vesselness_sigma = [1.5]\n",
    "vesselness_cutoff = 0.05\n",
    "# 2d vesselness slice by slice\n",
    "response = vesselness_slice_by_slice(structure_img_smooth, sigmas=vesselness_sigma, cutoff=-1, tau=.75)\n",
    "bw = vesselness_slice_by_slice(structure_img_smooth, sigmas=vesselness_sigma, cutoff=vesselness_cutoff, tau=.75)\n",
    "\n",
    "# # from Sec61b workflows - playground references Tom20\n",
    "# f2_param = [[1.5, 0.16]]\n",
    "# bw = filament_2d_wrapper(structure_img_smooth, f2_param)"
   ]
  },
  {
   "cell_type": "markdown",
   "metadata": {},
   "source": [
    "### POST-PROCESSING"
   ]
  },
  {
   "cell_type": "code",
   "execution_count": 14,
   "metadata": {},
   "outputs": [],
   "source": [
    "\n",
    "# # 3D\n",
    "###################\n",
    "# POST_PROCESSING\n",
    "###################\n",
    "\n",
    "################################\n",
    "\n",
    "mito_object = apply_mask(bw,cytosol_mask)\n",
    "\n",
    "small_object_width = 3\n",
    "\n",
    "mito_object = size_filter_2D(mito_object, \n",
    "                                                min_size= small_object_width**2, \n",
    "                                                connectivity=1)\n"
   ]
  },
  {
   "cell_type": "markdown",
   "metadata": {},
   "source": [
    "#### Visualize with `napari`\n",
    "Visualize the first-pass segmentation and labeling with `napari`."
   ]
  },
  {
   "cell_type": "code",
   "execution_count": 15,
   "metadata": {},
   "outputs": [],
   "source": [
    "viewer = napari.Viewer()\n",
    "\n"
   ]
  },
  {
   "cell_type": "code",
   "execution_count": 16,
   "metadata": {},
   "outputs": [
    {
     "data": {
      "text/plain": [
       "<Image layer 'structure_img_smooth' at 0x17fa8ddf0>"
      ]
     },
     "execution_count": 16,
     "metadata": {},
     "output_type": "execute_result"
    }
   ],
   "source": [
    "\n",
    "\n",
    "viewer.add_image(\n",
    "    raw_mito,\n",
    "    scale=scale\n",
    ")\n",
    "\n",
    "viewer.scale_bar.visible = True\n",
    "viewer.add_image(\n",
    "    structure_img_smooth,\n",
    "    scale=scale\n",
    ")\n"
   ]
  },
  {
   "cell_type": "code",
   "execution_count": 17,
   "metadata": {},
   "outputs": [
    {
     "data": {
      "text/plain": [
       "<Image layer 'mito_object' at 0x169c23d90>"
      ]
     },
     "execution_count": 17,
     "metadata": {},
     "output_type": "execute_result"
    }
   ],
   "source": [
    "\n",
    "viewer.add_image(\n",
    "    mito_object,\n",
    "    scale=scale\n",
    ")\n"
   ]
  },
  {
   "cell_type": "code",
   "execution_count": 15,
   "metadata": {},
   "outputs": [
    {
     "data": {
      "text/plain": [
       "<Image layer 'bw' at 0x17ef8c7f0>"
      ]
     },
     "execution_count": 15,
     "metadata": {},
     "output_type": "execute_result"
    }
   ],
   "source": [
    "\n",
    "\n",
    "viewer.add_image(\n",
    "    response,\n",
    "    scale=scale\n",
    ")\n",
    "\n",
    "\n",
    "viewer.add_image(\n",
    "    bw,\n",
    "    scale=scale\n",
    ")\n"
   ]
  },
  {
   "cell_type": "markdown",
   "metadata": {},
   "source": [
    "### Collect into a single `infer_mitochondria` function"
   ]
  },
  {
   "cell_type": "code",
   "execution_count": 18,
   "metadata": {},
   "outputs": [],
   "source": [
    "##########################\n",
    "#  infer_mitochondria\n",
    "##########################\n",
    "def _infer_mitochondria(\n",
    "                                in_img: np.ndarray,\n",
    "                                cytosol_mask: np.ndarray,\n",
    "                                median_sz: int,\n",
    "                                gauss_sig: float,\n",
    "                                vesselness_scale : float,\n",
    "                                vesselness_cut : float,\n",
    "                                small_obj_w: int,\n",
    "                            ) -> np.ndarray:\n",
    "    \"\"\"\n",
    "    Procedure to infer mitochondria from linearly unmixed input.\n",
    "\n",
    "    Parameters:\n",
    "    ------------\n",
    "    in_img: np.ndarray\n",
    "        a 3d image containing all the channels\n",
    "    soma_mask: Optional[np.ndarray] = None\n",
    "        mask\n",
    "    median_sz: int\n",
    "        width of median filter for signal\n",
    "    gauss_sig: float\n",
    "        sigma for gaussian smoothing of  signal\n",
    "    vesselness_scale: float\n",
    "        scale (log_sigma) for vesselness filter\n",
    "    vesselness_cut: float\n",
    "        threshold for vesselness fitered threshold\n",
    "    small_obj_w: int\n",
    "        minimu object size cutoff for nuclei post-processing\n",
    "\n",
    "    Returns:\n",
    "    -------------\n",
    "    mitochondria_object\n",
    "        mask defined extent of mitochondria object\n",
    "    \n",
    "    \"\"\"\n",
    "    mito_ch = MITO_CH\n",
    "   \n",
    "    ###################\n",
    "    # PRE_PROCESSING\n",
    "    ###################                         \n",
    "    mito = select_channel_from_raw(in_img, MITO_CH)\n",
    "\n",
    "    mito = min_max_intensity_normalization(mito)\n",
    "\n",
    "    mito = median_filter_slice_by_slice(mito, size=median_sz)\n",
    "\n",
    "    struct_img = image_smoothing_gaussian_slice_by_slice( mito, sigma=gauss_sig )\n",
    "\n",
    "    ###################   \n",
    "    # CORE_PROCESSING\n",
    "    ###################\n",
    "    bw = vesselness_slice_by_slice(struct_img, sigmas=[vesselness_scale], cutoff=vesselness_cut, tau=.75)\n",
    "\n",
    "    ###################\n",
    "    # POST_PROCESSING\n",
    "    ###################\n",
    "    struct_obj = apply_mask(bw, cytosol_mask)\n",
    "\n",
    "    struct_obj = size_filter_2D(struct_obj, min_size=small_obj_w**2, connectivity=1)\n",
    "\n",
    "    return struct_obj\n",
    "\n"
   ]
  },
  {
   "cell_type": "code",
   "execution_count": 19,
   "metadata": {},
   "outputs": [],
   "source": [
    "\n",
    "\n",
    "from typing import Optional\n",
    "\n",
    "##########################\n",
    "#  fixed_infer_mitochondria\n",
    "##########################\n",
    "def _fixed_infer_mitochondria(in_img: np.ndarray, \n",
    "                                                cytosol_mask: Optional[np.ndarray] = None\n",
    "                                            ) -> np.ndarray:\n",
    "    \"\"\"\n",
    "    Procedure to infer lysosome from linearly unmixed input,\n",
    "    Parameters:\n",
    "    ------------\n",
    "    in_img: np.ndarray\n",
    "        a 3d image containing all the channels\n",
    "    cytosol_mask: Optional[np.ndarray] = None\n",
    "        mask\n",
    "\n",
    "    Returns:\n",
    "    -------------\n",
    "    mitochondria_object\n",
    "        mask defined extent of mitochondria\n",
    "    \"\"\"\n",
    "    median_sz = 3\n",
    "    gauss_sig = 1.34\n",
    "    vesselness_scale = 1.5\n",
    "    vesselness_cut = 0.05\n",
    "    small_obj_w = 3\n",
    "\n",
    "    return _infer_mitochondria(  \n",
    "                                in_img,\n",
    "                                cytosol_mask,\n",
    "                                median_sz,\n",
    "                                gauss_sig,\n",
    "                                vesselness_cut,\n",
    "                                vesselness_scale,\n",
    "                                small_obj_w\n",
    "                                )\n",
    "\n"
   ]
  },
  {
   "cell_type": "markdown",
   "metadata": {},
   "source": [
    "------------------\n",
    "\n",
    "### TEST `infer_mitochondria` function"
   ]
  },
  {
   "cell_type": "code",
   "execution_count": 20,
   "metadata": {},
   "outputs": [],
   "source": [
    "\n",
    "_mito_object =  _fixed_infer_mitochondria(img_2D, cytosol_mask) "
   ]
  },
  {
   "cell_type": "code",
   "execution_count": 23,
   "metadata": {},
   "outputs": [],
   "source": [
    "from infer_subc_2d.organelles import fixed_infer_mitochondria\n",
    "\n",
    "mito_object =  fixed_infer_mitochondria(img_2D, cytosol_mask) "
   ]
  },
  {
   "cell_type": "code",
   "execution_count": 24,
   "metadata": {},
   "outputs": [
    {
     "data": {
      "text/plain": [
       "<Image layer 'mito_object [1]' at 0x1812308b0>"
      ]
     },
     "execution_count": 24,
     "metadata": {},
     "output_type": "execute_result"
    }
   ],
   "source": [
    "\n",
    "viewer.add_image(\n",
    "    mito_object,\n",
    "    scale=scale\n",
    ")\n"
   ]
  },
  {
   "cell_type": "code",
   "execution_count": 25,
   "metadata": {},
   "outputs": [
    {
     "data": {
      "text/plain": [
       "<Image layer '_mito_object' at 0x181242070>"
      ]
     },
     "execution_count": 25,
     "metadata": {},
     "output_type": "execute_result"
    }
   ],
   "source": [
    "\n",
    "viewer.add_image(\n",
    "    _mito_object,\n",
    "    scale=scale\n",
    ")\n"
   ]
  },
  {
   "cell_type": "code",
   "execution_count": 26,
   "metadata": {},
   "outputs": [
    {
     "data": {
      "text/plain": [
       "<Labels layer 'Labels' at 0x181399370>"
      ]
     },
     "execution_count": 26,
     "metadata": {},
     "output_type": "execute_result"
    }
   ],
   "source": [
    "\n",
    "viewer.add_labels(\n",
    "    label(mito_object),\n",
    "    scale=scale\n",
    ")"
   ]
  },
  {
   "cell_type": "code",
   "execution_count": 28,
   "metadata": {},
   "outputs": [
    {
     "data": {
      "image/png": "[encoded data removed]",
      "text/html": [
       "<img src=\"data:image/png;base64,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\"></img>"
      ],
      "text/plain": [
       "<napari.utils.notebook_display.NotebookScreenshot at 0x181253400>"
      ]
     },
     "execution_count": 28,
     "metadata": {},
     "output_type": "execute_result"
    }
   ],
   "source": [
    "from napari.utils.notebook_display import nbscreenshot\n",
    "\n",
    "# viewer.dims.ndisplay = 3\n",
    "# viewer.camera.angles = (-30, 25, 120)\n",
    "nbscreenshot(viewer, canvas_only=True)"
   ]
  },
  {
   "cell_type": "markdown",
   "metadata": {},
   "source": [
    "-----------------\n",
    "## make function json to add to `all_functions.json`\n",
    "### infer_mitochondria "
   ]
  },
  {
   "cell_type": "code",
   "execution_count": 29,
   "metadata": {},
   "outputs": [
    {
     "data": {
      "text/plain": [
       "1"
      ]
     },
     "execution_count": 29,
     "metadata": {},
     "output_type": "execute_result"
    }
   ],
   "source": [
    "from infer_subc_2d.organelles_config.helper import add_function_spec_to_widget_json\n",
    "\n",
    "_fixed_infer_mitochondria =  {\n",
    "        \"name\": \"infer lysosomes  (fixed parameters)\",\n",
    "        \"python::module\": \"infer_subc_2d.organelles\",\n",
    "        \"python::function\": \"fixed_infer_mitochondria\",\n",
    "        \"parameters\": None\n",
    "        }\n",
    "\n",
    "add_function_spec_to_widget_json(\"fixed_infer_mitochondria\",_fixed_infer_mitochondria)"
   ]
  },
  {
   "cell_type": "code",
   "execution_count": 30,
   "metadata": {},
   "outputs": [
    {
     "data": {
      "text/plain": [
       "1"
      ]
     },
     "execution_count": 30,
     "metadata": {},
     "output_type": "execute_result"
    }
   ],
   "source": [
    "\n",
    "_infer_mitochondria =  {\n",
    "        \"name\": \"infer mitochondria\",\n",
    "        \"python::module\": \"infer_subc_2d.organelles\",\n",
    "        \"python::function\": \"infer_mitochondria\",\n",
    "        \"parameters\": {\n",
    "                \"median_sz\": {\n",
    "                        \"widget_type\": \"slider\",\n",
    "                        \"data_type\": \"int\",\n",
    "                        \"min\": 3,\n",
    "                        \"max\": 15,\n",
    "                        \"increment\": 1\n",
    "                },\n",
    "                \"gauss_sig\": {\n",
    "                        \"data_type\": \"float\",\n",
    "                        \"increment\": 0.25,\n",
    "                        \"max\": 15.0,\n",
    "                        \"min\": 1.25,\n",
    "                        \"widget_type\": \"slider\"\n",
    "                },\n",
    "                \"vesselness_scale\": {\n",
    "                        \"data_type\": \"float\",\n",
    "                        \"increment\": 0.05,\n",
    "                        \"max\": 10,\n",
    "                        \"min\": 0,\n",
    "                        \"widget_type\": \"slider\"\n",
    "                },\n",
    "                \"vesselness_cut\": {\n",
    "                        \"data_type\": \"float\",\n",
    "                        \"increment\": 0.001,\n",
    "                        \"max\": 0.5,\n",
    "                        \"min\": 0,\n",
    "                        \"widget_type\": \"slider\"\n",
    "                },\n",
    "                \"small_obj_w\": {\n",
    "                        \"data_type\": \"int\",\n",
    "                        \"increment\": 1,\n",
    "                        \"max\": 50,\n",
    "                        \"min\": 1,\n",
    "                        \"widget_type\": \"slider\"\n",
    "                }\n",
    "        }\n",
    "}\n",
    "\n",
    "add_function_spec_to_widget_json(\"infer_mitochondria\", _infer_mitochondria, overwrite=True )\n",
    "\n"
   ]
  },
  {
   "cell_type": "code",
   "execution_count": 37,
   "metadata": {},
   "outputs": [
    {
     "data": {
      "text/plain": [
       "1"
      ]
     },
     "execution_count": 37,
     "metadata": {},
     "output_type": "execute_result"
    }
   ],
   "source": [
    "\n",
    "_vesselness_slice_by_slice =  {\n",
    "        \"name\": \"vesselness filter (e.g. mitochondria)\",\n",
    "        \"python::module\": \"infer_subc_2d.utils.img\",\n",
    "        \"python::function\": \"vesselness_slice_by_slice\",\n",
    "        \"parameters\": {\n",
    "            \"sigmas\": [\n",
    "                {\n",
    "                    \"widget_type\": \"slider\",\n",
    "                    \"data_type\": \"float\",\n",
    "                    \"min\": 0.5,\n",
    "                    \"max\": 5,\n",
    "                    \"increment\": 0.5\n",
    "                }\n",
    "            ],\n",
    "            \"cutoff\": {\n",
    "                \"widget_type\": \"slider\",\n",
    "                \"data_type\": \"float\",\n",
    "                \"min\": 0.005,\n",
    "                \"max\": 0.5,\n",
    "                \"increment\": 0.005\n",
    "            }\n",
    "        }\n",
    "    }\n",
    "\n",
    "add_function_spec_to_widget_json(\"vesselness_slice_by_slice\", _vesselness_slice_by_slice )\n"
   ]
  },
  {
   "cell_type": "code",
   "execution_count": 2,
   "metadata": {},
   "outputs": [],
   "source": [
    "from infer_subc_2d.constants import MITO_CH \n",
    "\n",
    "def make_infer_mitochondria_step_by_step_from_raw_dict():\n",
    "    \"\"\"\n",
    "    Procedure to infer mitochondria from linearly unmixed input from raw\n",
    "\n",
    "    \"\"\"\n",
    "    step_name = []\n",
    "    function_name = []\n",
    "    category =[]\n",
    "    parameter_values = []\n",
    "    parent = []\n",
    "   \n",
    "    ###################\n",
    "    # EXTRACT\n",
    "    ###################   \n",
    "    step_name = []\n",
    "    function_name = []\n",
    "    category =[]\n",
    "    parameter_values = []\n",
    "    parent = []\n",
    "   \n",
    "    ###################\n",
    "    # EXTRACT\n",
    "    ###################   \n",
    "\n",
    "    step_name.append(\"1\")\n",
    "    function_name.append(\"fixed_get_optimal_Z_img\")\n",
    "    category.append(\"extraction\")\n",
    "    parameter_values.append(None)\n",
    "    parent.append(0)\n",
    "\n",
    "    step_name.append(\"2\")\n",
    "    function_name.append(\"fixed_infer_soma\")\n",
    "    category.append(\"extraction\")\n",
    "    parameter_values.append( None )\n",
    "    parent.append(1)\n",
    "\n",
    "    step_name.append(\"3\")\n",
    "    function_name.append(\"fixed_infer_nuclei\")\n",
    "    category.append(\"extraction\")\n",
    "    parameter_values.append( None )\n",
    "    parent.append([1,2])\n",
    "\n",
    "    step_name.append(\"4\")\n",
    "    function_name.append(\"infer_cytosol\")\n",
    "    category.append(\"extraction\")\n",
    "    parameter_values.append(dict(erode_nuclei = True ))\n",
    "    parent.append([2,3])\n",
    "\n",
    "    step_name.append(\"5\")\n",
    "    function_name.append(\"select_channel_from_raw\")\n",
    "    category.append(\"extraction\")\n",
    "    parameter_values.append( dict(chan = MITO_CH) )\n",
    "    parent.append(1)\n",
    "\n",
    "    \n",
    "    step_name.append(\"6\")\n",
    "    function_name.append(\"min_max_intensity_normalization\")\n",
    "    category.append(\"preprocessing\")\n",
    "    parameter_values.append(None)\n",
    "    parent.append(5)\n",
    "\n",
    "    step_name.append(\"7\")\n",
    "    function_name.append(\"median_filter_slice_by_slice\")\n",
    "    category.append(\"preprocessing\")\n",
    "    parameter_values.append(dict(size = 3 ))\n",
    "    parent.append(6)\n",
    "\n",
    "    step_name.append(\"8\")\n",
    "    function_name.append(\"image_smoothing_gaussian_slice_by_slice\")\n",
    "    category.append(\"preprocessing\")\n",
    "    parameter_values.append(dict( sigma = 1.34 ))\n",
    "    parent.append(7)\n",
    "\n",
    "\n",
    "    step_name.append(\"9\")\n",
    "    function_name.append(\"vesselness_slice_by_slice\") \n",
    "    category.append(\"core\")\n",
    "    parameter_values.append( dict( sigmas=[1.5], cutoff=0.05) )\n",
    "    parent.append(8)\n",
    "\n",
    "\n",
    "    step_name.append(\"10\")\n",
    "    function_name.append(\"apply_mask\")\n",
    "    category.append(\"postprocessing\")\n",
    "    parameter_values.append(None)\n",
    "    parent.append([9,4])\n",
    "\n",
    "    step_name.append(\"11\")\n",
    "    function_name.append(\"size_filter_2D\")\n",
    "    category.append(\"postprocessing\")\n",
    "    parameter_values.append(dict( min_size = 3**2  ))\n",
    "    parent.append(10)\n",
    "\n",
    "    out_dict = dict()\n",
    "    for i,stepn in enumerate(step_name):\n",
    "        entry = dict(category=category[i],\n",
    "                            function=function_name[i],\n",
    "                            parameter_values=parameter_values[i],\n",
    "                            parent=parent[i]\n",
    "        )\n",
    "        if entry['parameter_values'] is None:\n",
    "            _ = entry.pop('parameter_values')\n",
    "        out_dict[stepn] = entry\n",
    "    \n",
    "    return out_dict\n",
    "\n"
   ]
  },
  {
   "cell_type": "code",
   "execution_count": 4,
   "metadata": {},
   "outputs": [
    {
     "data": {
      "text/plain": [
       "PosixPath('/Users/ahenrie/Projects/Imaging/infer-subc-2D/infer_subc_2d/organelles_config/conf_mitochondria_stepbystep_from_raw.json')"
      ]
     },
     "execution_count": 4,
     "metadata": {},
     "output_type": "execute_result"
    }
   ],
   "source": [
    "from infer_subc_2d.organelles_config.helper import write_workflow_json\n",
    "\n",
    "infer_mitochondria_stepbystep_from_raw_dict = make_infer_mitochondria_step_by_step_from_raw_dict()\n",
    "\n",
    "write_workflow_json(\"conf_mitochondria_stepbystep_from_raw\", infer_mitochondria_stepbystep_from_raw_dict)"
   ]
  },
  {
   "cell_type": "markdown",
   "metadata": {},
   "source": [
    "---------------------\n",
    "\n",
    " 🚧 WIP 🚧 (🚨🚨🚨🚨 )\n",
    "\n",
    "# PUTATIVE ALTERNATE WORKFLOW #2 (WIP)\n",
    "as per 6/22 CellProfiler pipeline from MCZ\n",
    " > ADAPTIVE... not sure exactly how to impliment this...\n",
    "\n",
    "  >ReduceNoise performs non-local means noise reduction. Instead of only using a neighborhood of pixels around a central pixel for denoising, such as in GaussianFilter, multiple neighborhoods are pooled together. The neighborhood pool is determined by scanning the image for regions similar to the area around the central pixel using a correlation metric and a cutoff value.\n",
    "   \n",
    "## summary of steps (Workflow #1 & #2)\n",
    "\n",
    "INPUT\n",
    "- ch 3\n",
    "- CY mask\n",
    "\n",
    "PRE-PROCESSING\n",
    "-  non-local noise reduction\n",
    "  - size:4, distance:2, cut-off:0.1\n",
    "\n",
    "CORE-PROCESSING\n",
    "  - adaptive Otsu\n",
    "    - diameter: (2,200)\n",
    "  - two classes\n",
    "    - threshold smoothing scale: 0\n",
    "    - threshold correction factor: .1\n",
    "    - threshold bounds: (0.14 1)\n",
    "    - adaptive window: 20 pixels\n",
    "\n",
    "POST-PROCESSING\n",
    "  - N/A\n",
    "\n",
    "\n",
    "\n"
   ]
  },
  {
   "cell_type": "code",
   "execution_count": null,
   "metadata": {},
   "outputs": [],
   "source": []
  },
  {
   "cell_type": "markdown",
   "metadata": {},
   "source": [
    "### INPUT"
   ]
  },
  {
   "cell_type": "code",
   "execution_count": null,
   "metadata": {},
   "outputs": [],
   "source": [
    "\n",
    "###################\n",
    "# INPUT\n",
    "###################\n",
    "raw_mito    = img_2D[2].copy()\n",
    "\n",
    "# mask object\n",
    "masked_mito = apply_mask(raw_mito,CY_object)\n"
   ]
  },
  {
   "cell_type": "markdown",
   "metadata": {},
   "source": [
    "### PRE-PROCESSING"
   ]
  },
  {
   "cell_type": "code",
   "execution_count": null,
   "metadata": {},
   "outputs": [],
   "source": [
    "###################\n",
    "# PRE_PROCESSING\n",
    "###################\n",
    "\n",
    "intensity_norm_param = [0] # \n",
    "\n",
    "# Linear-ish smoothing\n",
    "raw_mito = intensity_normalization( masked_mito ,  scaling_param=intensity_norm_param)\n",
    "\n",
    "med_filter_size =3  \n",
    "\n",
    "gaussian_smoothing_sigma = 1.3\n",
    "gaussian_smoothing_truncate_range = 3.0\n",
    "\n",
    "struct_img = median_filter(raw_mito,    size=med_filter_size  )\n",
    "\n",
    "structure_img_smooth = image_smoothing_gaussian_slice_by_slice(   struct_img,\n",
    "                                                                                                                        sigma=gaussian_smoothing_sigma,\n",
    "                                                                                                                        truncate_range=gaussian_smoothing_truncate_range,\n",
    "                                                                                                                    )\n",
    "\n",
    "\n",
    "# log_img, d = log_transform( structure_img_smooth ) \n",
    "# struct_img = intensity_normalization(  log_img  ,  scaling_param=[0] )  \n",
    "\n",
    "struct_img = structure_img_smooth"
   ]
  },
  {
   "cell_type": "markdown",
   "metadata": {},
   "source": [
    "### CORE PROCESSING"
   ]
  },
  {
   "cell_type": "code",
   "execution_count": null,
   "metadata": {},
   "outputs": [],
   "source": [
    "###################\n",
    "# CORE_PROCESSING\n",
    "###################\n",
    "# enhance spreckles - 40\n",
    "big_struct_rad = 40\n",
    "big_img = enhance_speckles(struct_img.copy(),big_struct_rad, True)\n",
    "\n",
    "#adaptive_otsu(big_struct) # three class - middle foreground\n",
    "# adaptive window- 20\n",
    "#size: 10,100\n",
    "# threshold smooth 1.34\n",
    "# threshold correction 1\n",
    "# threshold (0.1497,1)\n",
    "#fill holes\n",
    "# \"adatpive\" thresholds are NOT currently working... will use      \n",
    "# \"Masked Object Thresholding\" - 3D\n",
    "low_level_min_size = 10\n",
    "bw_big, _bw_low_level = MO(big_img, \n",
    "                                                global_thresh_method='ave', \n",
    "                                                object_minArea=low_level_min_size, \n",
    "                                                extra_criteria=True,\n",
    "                                                local_adjust= 0.5, \n",
    "                                                return_object=True,\n",
    "                                                dilate=True)"
   ]
  },
  {
   "cell_type": "code",
   "execution_count": null,
   "metadata": {},
   "outputs": [],
   "source": [
    "\n",
    "# enhance speckles\n",
    "#   adaptive_sauvola(sm_struct) \n",
    "# adaptive window- 10\n",
    "#size: 2,10\n",
    "# threshold smooth 1.34\n",
    "# threshold correction 1\n",
    "# threshold (0.05,1)\n",
    "#fill holes\n",
    "\n",
    "# enhance spreckles - 10\n",
    "sm_struct_rad = 20\n",
    "sm_img = enhance_speckles(struct_img.copy(),sm_struct_rad, True)\n",
    "\n",
    "# \"adatpive\" thresholds are NOT currently working... will use      \n",
    "# \"Masked Object Thresholding\" - 3D\n",
    "low_level_min_size = 2\n",
    "bw_sm, _bw_low_level = MO(sm_img, \n",
    "                                                global_thresh_method='ave', \n",
    "                                                object_minArea=low_level_min_size, \n",
    "                                                extra_criteria=True,\n",
    "                                                local_adjust= 0.5, \n",
    "                                                return_object=True,\n",
    "                                                dilate=True)\n",
    " # or this?                                               \n",
    "#    struct_obj = struct_img > filters.threshold_otsu(struct_img)\n",
    "#     threshold_value_log = threshold_otsu_log(struct_img)\n",
    "#     thresh_factor = 0.9 #from cellProfiler\n",
    "#     thresh_min = .1\n",
    "#     thresh_max = 1.\n",
    "#     threshold = min( max(threshold_value_log*thresh_factor, thresh_min), thresh_max)\n",
    "#     struct_obj = struct_img > threshold\n",
    "\n"
   ]
  },
  {
   "cell_type": "markdown",
   "metadata": {},
   "source": [
    "### POST-PROCESSING"
   ]
  },
  {
   "cell_type": "code",
   "execution_count": null,
   "metadata": {},
   "outputs": [],
   "source": [
    "###################\n",
    "# POST_PROCESSING\n",
    "###################\n",
    "\n",
    "\n",
    "# 3D\n",
    "# cleaned_img = remove_small_objects(removed_holes>0, \n",
    "#                                                             min_size=minArea, \n",
    "#                                                             connectivity=1, \n",
    "#                                                             in_place=False)\n",
    "small_object_width = 10\n",
    "cleaned_img_big = size_filter(bw_big, # wrapper to remove_small_objects which can do slice by slice\n",
    "                                                         min_size= small_object_width**2,\n",
    "                                                         method = \"slice_by_slice\",\n",
    "                                                         connectivity=1)\n",
    "\n",
    "\n",
    "#                                                             in_place=False)\n",
    "small_object_width = 2\n",
    "cleaned_img_sm = size_filter(bw_sm, # wrapper to remove_small_objects which can do slice by slice\n",
    "                                                         min_size= small_object_width**2,\n",
    "                                                         method = \"slice_by_slice\",\n",
    "                                                         connectivity=1)\n",
    "\n",
    "\n",
    "\n",
    "cleaned_img = np.logical_or(cleaned_img_big, cleaned_img_sm)\n",
    "\n"
   ]
  },
  {
   "cell_type": "markdown",
   "metadata": {},
   "source": [
    "#### Visualize with `napari`\n",
    "Visualize the first-pass segmentation and labeling with `napari`."
   ]
  },
  {
   "cell_type": "code",
   "execution_count": null,
   "metadata": {},
   "outputs": [],
   "source": [
    "\n",
    "\n",
    "viewer.add_image(\n",
    "    cleaned_img,\n",
    "    scale=scale\n",
    ")\n",
    "\n",
    "viewer.scale_bar.visible = True\n",
    "viewer.add_image(\n",
    "    cleaned_img_big,\n",
    "    scale=scale\n",
    ")\n",
    "\n",
    "viewer.add_image(\n",
    "    big_img,\n",
    "    scale=scale\n",
    ")\n",
    "viewer.add_image(\n",
    "    cleaned_img_big,\n",
    "    scale=scale\n",
    ")\n",
    "viewer.add_image(\n",
    "    sm_img,\n",
    "    scale=scale\n",
    ")"
   ]
  }
 ],
 "metadata": {
  "kernelspec": {
   "display_name": "Python 3.9.13 ('napariNEW')",
   "language": "python",
   "name": "python3"
  },
  "language_info": {
   "codemirror_mode": {
    "name": "ipython",
    "version": 3
   },
   "file_extension": ".py",
   "mimetype": "text/x-python",
   "name": "python",
   "nbconvert_exporter": "python",
   "pygments_lexer": "ipython3",
   "version": "3.9.13"
  },
  "orig_nbformat": 4,
  "vscode": {
   "interpreter": {
    "hash": "d6148ef1fb015fb20f0b6da2ea61c87c6b848bdf3dabb03087e5d5cd0c4607e9"
   }
  }
 },
 "nbformat": 4,
 "nbformat_minor": 2
}
