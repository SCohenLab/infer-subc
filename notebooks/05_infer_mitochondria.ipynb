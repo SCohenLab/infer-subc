{
 "cells": [
  {
   "cell_type": "markdown",
   "metadata": {},
   "source": [
    "# Infer ***mitochondria*** - part 5️⃣\n",
    "\n",
    "--------------\n",
    "OBJECTIVE: ✅ Infer sub-cellular component  ***mitochondria***  in order to understand interactome \n",
    "\n",
    "Dependencies:\n",
    "The ***mitochondria***  inference rely on the ***cytosol*** mask"
   ]
  },
  {
   "attachments": {},
   "cell_type": "markdown",
   "metadata": {},
   "source": [
    "## preamble\n",
    "\n",
    "1. imports\n",
    "2. setup\n",
    "3. get cytosol mask\n",
    "4. infer mitochondria\n",
    "    * pre-processing\n",
    "    * core processing\n",
    "    * post processing\n",
    "5. export mitochondria\n"
   ]
  },
  {
   "attachments": {},
   "cell_type": "markdown",
   "metadata": {},
   "source": [
    "\n",
    "## IMPORTS"
   ]
  },
  {
   "cell_type": "code",
   "execution_count": 11,
   "metadata": {},
   "outputs": [
    {
     "name": "stdout",
     "output_type": "stream",
     "text": [
      "The autoreload extension is already loaded. To reload it, use:\n",
      "  %reload_ext autoreload\n"
     ]
    }
   ],
   "source": [
    "# top level imports\n",
    "from pathlib import Path\n",
    "import os, sys\n",
    "from collections import defaultdict\n",
    "\n",
    "from typing import Optional, Dict\n",
    "\n",
    "import numpy as np\n",
    "\n",
    "from aicssegmentation.core.utils import size_filter\n",
    "from aicssegmentation.core.MO_threshold import MO\n",
    "\n",
    "from skimage.measure import label\n",
    "\n",
    "# # package for io \n",
    "from aicsimageio import AICSImage\n",
    "\n",
    "import napari\n",
    "### import local python functions in ../infer_subc_2d\n",
    "sys.path.append(os.path.abspath((os.path.join(os.getcwd(), '..'))))\n",
    "\n",
    "\n",
    "from infer_subc_2d.core.file_io import (read_czi_image, \n",
    "                                         read_ome_image,\n",
    "                                         list_image_files, \n",
    "                                         import_inferred_organelle, \n",
    "                                         export_inferred_organelle)\n",
    "\n",
    "from infer_subc_2d.core.img import *\n",
    "from infer_subc_2d.organelles import fixed_infer_cellmask_fromaggr_MCZ, fixed_infer_nuclei, infer_cytoplasm\n",
    "\n",
    "%load_ext autoreload\n",
    "%autoreload 2\n",
    "\n"
   ]
  },
  {
   "cell_type": "code",
   "execution_count": 12,
   "metadata": {},
   "outputs": [],
   "source": [
    "# NOTE:  these \"constants\" are only accurate for the testing MCZ dataset\n",
    "from infer_subc_2d.constants import (TEST_IMG_N,\n",
    "                                                                    NUC_CH ,\n",
    "                                                                    LYSO_CH ,\n",
    "                                                                    MITO_CH ,\n",
    "                                                                    GOLGI_CH ,\n",
    "                                                                    PEROX_CH ,\n",
    "                                                                    ER_CH ,\n",
    "                                                                    LD_CH ,\n",
    "                                                                    RESIDUAL_CH )              "
   ]
  },
  {
   "cell_type": "markdown",
   "metadata": {},
   "source": [
    "\n",
    "## SETUP"
   ]
  },
  {
   "cell_type": "code",
   "execution_count": 13,
   "metadata": {},
   "outputs": [],
   "source": [
    "# this will be the example image for testing the pipeline below\n",
    "test_img_n = TEST_IMG_N\n",
    "\n",
    "# build the datapath\n",
    "# all the imaging data goes here.\n",
    "data_root_path = Path(os.path.expanduser(\"~\")) / \"Projects/Imaging/data\"\n",
    "\n",
    "# linearly unmixed \".czi\" files are here\n",
    "in_data_path = data_root_path / \"raw\"\n",
    "im_type = \".czi\"\n",
    "\n",
    "# get the list of all files\n",
    "img_file_list = list_image_files(in_data_path,im_type)\n",
    "test_img_name = img_file_list[test_img_n]\n",
    "\n",
    "# save output \".tiff\" files here\n",
    "out_data_path = data_root_path / \"out\"\n",
    "\n",
    "if not Path.exists(out_data_path):\n",
    "    Path.mkdir(out_data_path)\n",
    "    print(f\"making {out_data_path}\")"
   ]
  },
  {
   "cell_type": "code",
   "execution_count": 14,
   "metadata": {},
   "outputs": [
    {
     "name": "stderr",
     "output_type": "stream",
     "text": [
      "/opt/anaconda3/envs/napariNEW/lib/python3.9/site-packages/ome_types/_convenience.py:106: FutureWarning: The default XML parser will be changing from 'xmlschema' to 'lxml' in version 0.4.0.  To silence this warning, please provide the `parser` argument, specifying either 'lxml' (to opt into the new behavior), or'xmlschema' (to retain the old behavior).\n",
      "  d = to_dict(os.fspath(xml), parser=parser, validate=validate)\n"
     ]
    }
   ],
   "source": [
    "img_data,meta_dict = read_czi_image(test_img_name)\n",
    "\n",
    "# get some top-level info about the RAW data\n",
    "channel_names = meta_dict['name']\n",
    "img = meta_dict['metadata']['aicsimage']\n",
    "scale = meta_dict['scale']\n",
    "channel_axis = meta_dict['channel_axis']\n"
   ]
  },
  {
   "cell_type": "markdown",
   "metadata": {},
   "source": [
    "## GET CYTOSOL MASK\n",
    "\n"
   ]
  },
  {
   "cell_type": "code",
   "execution_count": 15,
   "metadata": {},
   "outputs": [
    {
     "name": "stdout",
     "output_type": "stream",
     "text": [
      "loaded cytosol mask from /Users/ahenrie/Projects/Imaging/data/out\n"
     ]
    }
   ],
   "source": [
    "\n",
    "cytoplasm_mask = import_inferred_organelle(\"cytosol\", meta_dict, out_data_path)\n",
    "\n",
    "if cytoplasm_mask is None:\n",
    "    nuclei =  fixed_infer_nuclei(img_data) \n",
    "    cellmask = fixed_infer_cellmask_fromaggr_MCZ(img_data, nuclei)\n",
    "    nucleus_obj =  apply_mask(nuclei, cellmask) \n",
    "    cytoplasm_mask =  infer_cytoplasm(cellmask, nucleus_obj, erode_nuclei=False) \n",
    "    out_file_n = export_inferred_organelle(cytoplasm_mask, \"cytosol\", meta_dict, out_data_path)\n",
    "    print(f\"calculated cytosol mask. wrote {out_file_n}\")\n",
    "else:\n",
    "    print(f\"loaded cytosol mask from {out_data_path}\")\n"
   ]
  },
  {
   "attachments": {},
   "cell_type": "markdown",
   "metadata": {},
   "source": [
    "---------------------\n",
    "\n",
    "## infer ***mitochondria***\n",
    "\n",
    "## summary of steps (Workflow #1 & #2)\n",
    "\n",
    "INPUT\n",
    "- channel  2\n",
    "- cytosol mask\n",
    "\n",
    "PRE-PROCESSING\n",
    "-  smoothe / remove noise\n",
    "\n",
    "CORE-PROCESSING\n",
    "-  'vesselness' enhancement\n",
    "-  threshold objects\n",
    "\n",
    "- POST-PROCESSING\n",
    "  - filter objects\n",
    "\n",
    "OUTPUT\n",
    "- inferred  ***mitochondria*** object\n",
    "\n",
    "\n",
    "Generally following the Allen Cell Segmenter procedure, but doing more aggressive contrast scaling than their prescribed contrast scaling.\n",
    "\n",
    "> Using Allen Cell Segmenter Tom20as a potential Mitochondria segmenter to start with  start from [Allen Cell](https://www.allencell.org/cell-observations/category/mitochondria).   using [seg_tomm20.py](\"../../../../aics-segmentation/aicssegmentation/structure_wrapper/seg_tomm20.py\")\n"
   ]
  },
  {
   "attachments": {},
   "cell_type": "markdown",
   "metadata": {},
   "source": [
    "## INPUT prototype"
   ]
  },
  {
   "cell_type": "code",
   "execution_count": 16,
   "metadata": {},
   "outputs": [],
   "source": [
    "\n",
    "###################\n",
    "# INPUT\n",
    "###################\n",
    "raw_mito = select_channel_from_raw(img_data, MITO_CH)\n"
   ]
  },
  {
   "attachments": {},
   "cell_type": "markdown",
   "metadata": {},
   "source": [
    "## PRE-PROCESSING prototype\n"
   ]
  },
  {
   "cell_type": "code",
   "execution_count": 20,
   "metadata": {},
   "outputs": [],
   "source": [
    "###################\n",
    "# PRE_PROCESSING\n",
    "###################\n",
    "med_filter_size = 3\n",
    "gaussian_smoothing_sigma = 1.34\n",
    "struct_img =  scale_and_smooth(raw_mito,\n",
    "                                                    median_sz = med_filter_size, \n",
    "                                                    gauss_sig = gaussian_smoothing_sigma)"
   ]
  },
  {
   "attachments": {},
   "cell_type": "markdown",
   "metadata": {},
   "source": [
    "## CORE PROCESSING prototype"
   ]
  },
  {
   "cell_type": "code",
   "execution_count": 22,
   "metadata": {},
   "outputs": [],
   "source": [
    "###################\n",
    "# CORE_PROCESSING\n",
    "###################\n",
    "\n",
    "\n",
    "################################\n",
    "## PARAMETERS for this step ##\n",
    "vesselness_sigma = 1.5\n",
    "vesselness_cutoff = 0.05\n",
    "# 2d vesselness slice by slice\n",
    "# response = vesselness_slice_by_slice(structure_img_smooth, sigmas=vesselness_sigma, cutoff=-1, tau=.75)\n",
    "bw = vesselness_slice_by_slice(struct_img, sigma=vesselness_sigma, cutoff=vesselness_cutoff, tau=.75)\n",
    "\n",
    "# # from Sec61b workflows - playground references Tom20\n",
    "# f2_param = [[1.5, 0.16]]\n",
    "# bw = filament_2d_wrapper(structure_img_smooth, f2_param)"
   ]
  },
  {
   "attachments": {},
   "cell_type": "markdown",
   "metadata": {},
   "source": [
    "## POST-PROCESSING prototype"
   ]
  },
  {
   "cell_type": "code",
   "execution_count": 23,
   "metadata": {},
   "outputs": [],
   "source": [
    "###################\n",
    "# POST_PROCESSING\n",
    "###################\n",
    "# mito_object = apply_mask(bw,cytoplasm_mask)\n",
    "\n",
    "small_object_width = 3\n",
    "mito_object = size_filter_linear_size(bw, \n",
    "                                                min_size= small_object_width)\n"
   ]
  },
  {
   "cell_type": "markdown",
   "metadata": {},
   "source": [
    "#### Visualize with `napari`\n",
    "Visualize the first-pass segmentation and labeling with `napari`."
   ]
  },
  {
   "cell_type": "code",
   "execution_count": 24,
   "metadata": {},
   "outputs": [],
   "source": [
    "viewer = napari.Viewer()\n",
    "\n"
   ]
  },
  {
   "cell_type": "code",
   "execution_count": 26,
   "metadata": {},
   "outputs": [
    {
     "data": {
      "text/plain": [
       "<Image layer 'struct_img' at 0x16500c970>"
      ]
     },
     "execution_count": 26,
     "metadata": {},
     "output_type": "execute_result"
    }
   ],
   "source": [
    "\n",
    "\n",
    "viewer.add_image(\n",
    "    raw_mito,\n",
    ")\n",
    "\n",
    "viewer.scale_bar.visible = True\n",
    "viewer.add_image(\n",
    "    struct_img,\n",
    ")\n"
   ]
  },
  {
   "cell_type": "code",
   "execution_count": 14,
   "metadata": {},
   "outputs": [
    {
     "data": {
      "text/plain": [
       "<Image layer 'mito_object' at 0x15ef14a30>"
      ]
     },
     "execution_count": 14,
     "metadata": {},
     "output_type": "execute_result"
    }
   ],
   "source": [
    "\n",
    "viewer.add_image(\n",
    "    mito_object,\n",
    ")\n"
   ]
  },
  {
   "cell_type": "code",
   "execution_count": 28,
   "metadata": {},
   "outputs": [
    {
     "data": {
      "text/plain": [
       "<Image layer 'bw' at 0x16509f640>"
      ]
     },
     "execution_count": 28,
     "metadata": {},
     "output_type": "execute_result"
    }
   ],
   "source": [
    "\n",
    "\n",
    "viewer.add_image(\n",
    "    bw,\n",
    ")\n"
   ]
  },
  {
   "attachments": {},
   "cell_type": "markdown",
   "metadata": {},
   "source": [
    "## DEFINE `infer_mito` function\n",
    "\n",
    "Based on the _prototyping_ above define the function to infer the mitochondria.  \n"
   ]
  },
  {
   "cell_type": "code",
   "execution_count": 34,
   "metadata": {},
   "outputs": [],
   "source": [
    "##########################\n",
    "#  infer_mito\n",
    "##########################\n",
    "def _infer_mito(\n",
    "                                in_img: np.ndarray,\n",
    "                                median_sz: int,\n",
    "                                gauss_sig: float,\n",
    "                                vesselness_scale : float,\n",
    "                                vesselness_cut : float,\n",
    "                                small_obj_w: int,\n",
    "                            ) -> np.ndarray:\n",
    "    \"\"\"\n",
    "    Procedure to infer mitochondria from linearly unmixed input.\n",
    "\n",
    "    Parameters\n",
    "    ------------\n",
    "    in_img:\n",
    "        a 3d image containing all the channels\n",
    "    median_sz: \n",
    "        width of median filter for signal\n",
    "    gauss_sig: \n",
    "        sigma for gaussian smoothing of  signal\n",
    "    vesselness_scale: \n",
    "        scale (log_sigma) for vesselness filter\n",
    "    vesselness_cut: \n",
    "        threshold for vesselness fitered threshold\n",
    "    small_obj_w: \n",
    "        minimu object size cutoff for nuclei post-processing\n",
    "\n",
    "    Returns\n",
    "    -------------\n",
    "    mito_object\n",
    "        mask defined extent of mitochondria object\n",
    "    \n",
    "    \"\"\"\n",
    "    mito_ch = MITO_CH\n",
    "    ###################\n",
    "    # EXTRACT\n",
    "    ###################    \n",
    "    mito = select_channel_from_raw(in_img, MITO_CH)\n",
    "    ###################\n",
    "    # PRE_PROCESSING\n",
    "    ###################                         \n",
    "    # mito = min_max_intensity_normalization(mito)\n",
    "    # mito = median_filter_slice_by_slice(mito, size=median_sz)\n",
    "    # struct_img = image_smoothing_gaussian_slice_by_slice( mito, sigma=gauss_sig )\n",
    "    struct_img =  scale_and_smooth(mito,\n",
    "                                                    median_sz = median_sz, \n",
    "                                                    gauss_sig = gauss_sig)\n",
    "    ###################   \n",
    "    # CORE_PROCESSING\n",
    "    ###################\n",
    "    struct_img = vesselness_slice_by_slice(struct_img, sigma=vesselness_scale, cutoff=vesselness_cut, tau=.75)\n",
    "\n",
    "    ###################\n",
    "    # POST_PROCESSING\n",
    "    ###################\n",
    "    # struct_obj = apply_mask(struct_img, cytoplasm_mask)\n",
    "    # struct_obj = size_filter_linear_size(struct_img, min_size=small_obj_w)\n",
    "    struct_obj = fill_and_filter_linear_size(struct_img, hole_min=0, hole_max=0, min_size= small_obj_w)\n",
    "\n",
    "    return struct_obj\n",
    "\n"
   ]
  },
  {
   "attachments": {},
   "cell_type": "markdown",
   "metadata": {},
   "source": [
    "## DEFINE `_fixed_infer_mito` function\n"
   ]
  },
  {
   "cell_type": "code",
   "execution_count": 36,
   "metadata": {},
   "outputs": [],
   "source": [
    "\n",
    "\n",
    "##########################\n",
    "#  fixed_infer_mito\n",
    "##########################\n",
    "def _fixed_infer_mito(in_img: np.ndarray ) -> np.ndarray:\n",
    "    \"\"\"\n",
    "    Procedure to infer mitochondria from linearly unmixed input,\n",
    "    \n",
    "    Parameters\n",
    "    ------------\n",
    "    in_img: \n",
    "        a 3d image containing all the channels\n",
    "\n",
    "    Returns\n",
    "    -------------\n",
    "    mito_object\n",
    "        mask defined extent of mitochondria\n",
    "    \"\"\"\n",
    "    median_sz = 3\n",
    "    gauss_sig = 1.4\n",
    "    vesselness_scale = 1.5\n",
    "    vesselness_cut = 0.05\n",
    "    small_obj_w = 3\n",
    "\n",
    "    return _infer_mito(  \n",
    "                                in_img,\n",
    "                                median_sz,\n",
    "                                gauss_sig,\n",
    "                                vesselness_scale,                                \n",
    "                                vesselness_cut,\n",
    "                                small_obj_w\n",
    "                                )\n",
    "\n"
   ]
  },
  {
   "attachments": {},
   "cell_type": "markdown",
   "metadata": {},
   "source": [
    "------------------\n",
    "\n",
    "# TEST `infer_mito` function"
   ]
  },
  {
   "cell_type": "code",
   "execution_count": 37,
   "metadata": {},
   "outputs": [],
   "source": [
    "\n",
    "_mito_object =  _fixed_infer_mito(img_data) "
   ]
  },
  {
   "cell_type": "code",
   "execution_count": 38,
   "metadata": {},
   "outputs": [],
   "source": [
    "from infer_subc_2d.organelles import fixed_infer_mito\n",
    "\n",
    "mito_object =  fixed_infer_mito(img_data, cytoplasm_mask) "
   ]
  },
  {
   "attachments": {},
   "cell_type": "markdown",
   "metadata": {},
   "source": [
    "## Visualize  2\n"
   ]
  },
  {
   "cell_type": "code",
   "execution_count": 39,
   "metadata": {},
   "outputs": [
    {
     "data": {
      "text/plain": [
       "<Image layer 'mito_object' at 0x16704c5e0>"
      ]
     },
     "execution_count": 39,
     "metadata": {},
     "output_type": "execute_result"
    }
   ],
   "source": [
    "\n",
    "viewer.add_image(\n",
    "    mito_object,\n",
    ")\n"
   ]
  },
  {
   "cell_type": "code",
   "execution_count": 40,
   "metadata": {},
   "outputs": [
    {
     "data": {
      "text/plain": [
       "<Image layer '_mito_object' at 0x16704c190>"
      ]
     },
     "execution_count": 40,
     "metadata": {},
     "output_type": "execute_result"
    }
   ],
   "source": [
    "\n",
    "viewer.add_image(\n",
    "    _mito_object,\n",
    ")\n"
   ]
  },
  {
   "cell_type": "code",
   "execution_count": 41,
   "metadata": {},
   "outputs": [
    {
     "data": {
      "text/plain": [
       "<Labels layer 'Labels' at 0x166fceb20>"
      ]
     },
     "execution_count": 41,
     "metadata": {},
     "output_type": "execute_result"
    }
   ],
   "source": [
    "\n",
    "viewer.add_labels(\n",
    "    label(mito_object),\n",
    ")"
   ]
  },
  {
   "cell_type": "code",
   "execution_count": 42,
   "metadata": {},
   "outputs": [
    {
     "data": {
      "image/png": "[encoded data removed]",
      "text/html": [
       "<img src=\"data:image/png;base64,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\"></img>"
      ],
      "text/plain": [
       "<napari.utils.notebook_display.NotebookScreenshot at 0x167150ca0>"
      ]
     },
     "execution_count": 42,
     "metadata": {},
     "output_type": "execute_result"
    }
   ],
   "source": [
    "from napari.utils.notebook_display import nbscreenshot\n",
    "\n",
    "# viewer.dims.ndisplay = 3\n",
    "# viewer.camera.angles = (-30, 25, 120)\n",
    "nbscreenshot(viewer, canvas_only=True)"
   ]
  },
  {
   "cell_type": "code",
   "execution_count": 43,
   "metadata": {},
   "outputs": [],
   "source": [
    "viewer.close()"
   ]
  },
  {
   "attachments": {},
   "cell_type": "markdown",
   "metadata": {},
   "source": [
    "-------------\n",
    "## SUMMARY\n",
    "\n",
    "The above details how the mitochondria object is inferred.  \n",
    "\n",
    "### NEXT: INFER GOLGI\n",
    "\n",
    "proceed to [06_infer_golgi.ipynb](./06_infer_golgi.ipynb)\n"
   ]
  }
 ],
 "metadata": {
  "kernelspec": {
   "display_name": "Python 3.9.13 ('napariNEW')",
   "language": "python",
   "name": "python3"
  },
  "language_info": {
   "codemirror_mode": {
    "name": "ipython",
    "version": 3
   },
   "file_extension": ".py",
   "mimetype": "text/x-python",
   "name": "python",
   "nbconvert_exporter": "python",
   "pygments_lexer": "ipython3",
   "version": "3.9.16"
  },
  "orig_nbformat": 4,
  "vscode": {
   "interpreter": {
    "hash": "d6148ef1fb015fb20f0b6da2ea61c87c6b848bdf3dabb03087e5d5cd0c4607e9"
   }
  }
 },
 "nbformat": 4,
 "nbformat_minor": 2
}
