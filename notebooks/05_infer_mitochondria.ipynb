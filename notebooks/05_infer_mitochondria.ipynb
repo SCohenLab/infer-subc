{
 "cells": [
  {
   "cell_type": "markdown",
   "metadata": {},
   "source": [
    "# Infer ***mitochondria*** - part 5️⃣\n",
    "\n",
    "--------------\n",
    "OBJECTIVE: ✅ Infer sub-cellular component  ***mitochondria***  in order to understand interactome \n",
    "\n",
    "Dependencies:\n",
    "The ***mitochondria***  inference rely on the ***cytosol*** mask"
   ]
  },
  {
   "cell_type": "markdown",
   "metadata": {},
   "source": [
    "\n",
    "# IMPORTS"
   ]
  },
  {
   "cell_type": "code",
   "execution_count": 5,
   "metadata": {},
   "outputs": [],
   "source": [
    "# top level imports\n",
    "from pathlib import Path\n",
    "import os, sys\n",
    "from collections import defaultdict\n",
    "\n",
    "import numpy as np\n",
    "\n",
    "from aicssegmentation.core.pre_processing_utils import ( intensity_normalization, \n",
    "                                                         image_smoothing_gaussian_slice_by_slice )\n",
    "from aicssegmentation.core.utils import size_filter\n",
    "from aicssegmentation.core.MO_threshold import MO\n",
    "\n",
    "from skimage.measure import label\n",
    "\n",
    "# # package for io \n",
    "from aicsimageio import AICSImage\n",
    "\n",
    "import napari\n",
    "\n",
    "### import local python functions in ../infer_subc_2d\n",
    "sys.path.append(os.path.abspath((os.path.join(os.getcwd(), '..'))))\n",
    "\n",
    "from infer_subc_2d.utils.file_io import (read_czi_image, \n",
    "                                                                    list_image_files)\n",
    "from infer_subc_2d.utils.img import *\n",
    "from infer_subc_2d.constants import (TEST_IMG_N,\n",
    "                                                                    NUC_CH ,\n",
    "                                                                    LYSO_CH ,\n",
    "                                                                    MITO_CH ,\n",
    "                                                                    GOLGI_CH ,\n",
    "                                                                    PEROXI_CH ,\n",
    "                                                                    ER_CH ,\n",
    "                                                                    LIPID_CH ,\n",
    "                                                                    RESIDUAL_CH )        \n",
    "from infer_subc_2d.organelles import fixed_infer_soma, fixed_infer_nuclei, infer_cytosol, find_optimal_Z\n",
    "\n",
    "%load_ext autoreload\n",
    "%autoreload 2\n",
    "\n",
    "\n",
    "test_img_n = TEST_IMG_N"
   ]
  },
  {
   "cell_type": "markdown",
   "metadata": {},
   "source": [
    "# BUILD ***mitochondria*** inference image processing workflow\n",
    "\n",
    "## IMAGE PROCESSING Objective 5:  infer ***mitochondria***\n",
    "\n",
    "\n",
    "### summary \n",
    "\n",
    "Generally following the Allen Cell Segmenter procedure, but doing more aggressive contrast scaling than their prescribed contrast scaling.\n",
    "\n",
    "> Using Allen Cell Segmenter Tom20as a potential Mitochondria segmenter to start with  start from [Allen Cell](https://www.allencell.org/cell-observations/category/mitochondria).   using [seg_tomm20.py](\"../../../../aics-segmentation/aicssegmentation/structure_wrapper/seg_tomm20.py\")\n",
    "\n",
    "### steps\n",
    "\n",
    "INPUT\n",
    "- channel  2\n",
    "- cytosol mask\n",
    "\n",
    "PRE-PROCESSING\n",
    "-  smoothe / remove noise\n",
    "\n",
    "CORE-PROCESSING\n",
    "-  'vesselness' enhancement\n",
    "-  threshold objects\n",
    "\n",
    "- POST-PROCESSING\n",
    "  - apply mask\n",
    "  - filter objects\n",
    "\n",
    "OUTPUT\n",
    "- inferred  ***mitochondria*** object\n",
    "\n"
   ]
  },
  {
   "cell_type": "markdown",
   "metadata": {},
   "source": [
    "\n",
    "------------------------\n",
    "## LOAD RAW IMAGE DATA\n",
    "Identify path to _raw_ image data and load our example image\n"
   ]
  },
  {
   "cell_type": "code",
   "execution_count": 6,
   "metadata": {},
   "outputs": [
    {
     "name": "stderr",
     "output_type": "stream",
     "text": [
      "/opt/anaconda3/envs/napariNEW/lib/python3.9/site-packages/ome_types/_convenience.py:105: FutureWarning: The default XML parser will be changing from 'xmlschema' to 'lxml' in version 0.4.0.  To silence this warning, please provide the `parser` argument, specifying either 'lxml' (to opt into the new behavior), or'xmlschema' (to retain the old behavior).\n",
      "  d = to_dict(os.fspath(xml), parser=parser, validate=validate)\n"
     ]
    }
   ],
   "source": [
    "# build the datapath\n",
    "# all the imaging data goes here.\n",
    "data_root_path = Path(os.path.expanduser(\"~\")) / \"Projects/Imaging/data\"\n",
    "\n",
    "# linearly unmixed \".czi\" files are here\n",
    "data_path = data_root_path / \"raw\"\n",
    "im_type = \".czi\"\n",
    "\n",
    "# get the list of all files\n",
    "img_file_list = list_image_files(data_path,im_type)\n",
    "test_img_name = img_file_list[test_img_n]\n",
    "\n",
    "img_data,meta_dict = read_czi_image(test_img_name)\n",
    "\n",
    "# get some top-level info about the RAW data\n",
    "channel_names = meta_dict['name']\n",
    "img = meta_dict['metadata']['aicsimage']\n",
    "scale = meta_dict['scale']\n",
    "channel_axis = meta_dict['channel_axis']\n"
   ]
  },
  {
   "cell_type": "code",
   "execution_count": 7,
   "metadata": {},
   "outputs": [],
   "source": [
    "# lets see if napari is smart enough with scale...\n",
    "\n",
    "# # make sure we have removed Z\n",
    "# if len(scale)>2:\n",
    "#     scale = scale[1:]"
   ]
  },
  {
   "cell_type": "markdown",
   "metadata": {},
   "source": [
    "## CHOOZE Z-SLICE\n"
   ]
  },
  {
   "cell_type": "markdown",
   "metadata": {},
   "source": [
    "\n",
    "First, find the slice with the most overall intensity..."
   ]
  },
  {
   "cell_type": "code",
   "execution_count": 8,
   "metadata": {},
   "outputs": [
    {
     "name": "stdout",
     "output_type": "stream",
     "text": [
      "choosing _optimal_ z-slice::: 8\n"
     ]
    }
   ],
   "source": [
    "ch_to_agg = ( LYSO_CH ,\n",
    "                        MITO_CH ,\n",
    "                        GOLGI_CH ,\n",
    "                        PEROXI_CH ,\n",
    "                        ER_CH ,\n",
    "                        LIPID_CH )\n",
    "                            \n",
    "nuc_ch = NUC_CH\n",
    "optimal_Z = find_optimal_Z(img_data, nuc_ch, ch_to_agg) \n",
    "\n"
   ]
  },
  {
   "cell_type": "markdown",
   "metadata": {},
   "source": [
    "Now get the single \"optimal\" slice of all our organelle channels...."
   ]
  },
  {
   "cell_type": "code",
   "execution_count": 9,
   "metadata": {},
   "outputs": [],
   "source": [
    "img_2D = select_z_from_raw(img_data, optimal_Z)\n"
   ]
  },
  {
   "cell_type": "markdown",
   "metadata": {},
   "source": [
    "## get the inferred soma, nuclei and cytosol objects\n",
    "\n",
    "(takes < 1 sec)"
   ]
  },
  {
   "cell_type": "code",
   "execution_count": 10,
   "metadata": {},
   "outputs": [],
   "source": [
    "\n",
    "soma_mask =  fixed_infer_soma(img_2D) \n",
    "\n",
    "nuclei_object =  fixed_infer_nuclei(img_2D, soma_mask) \n",
    "cytosol_mask =  infer_cytosol( nuclei_object,soma_mask) \n"
   ]
  },
  {
   "cell_type": "markdown",
   "metadata": {},
   "source": [
    "## Build  ***Mitochondria***  specific inference workflow\n",
    "\n"
   ]
  },
  {
   "cell_type": "markdown",
   "metadata": {},
   "source": [
    "### INPUT"
   ]
  },
  {
   "cell_type": "code",
   "execution_count": 37,
   "metadata": {},
   "outputs": [],
   "source": [
    "\n",
    "###################\n",
    "# INPUT\n",
    "###################\n",
    "# raw_mito   = img_2D[MITO_CH].copy()\n",
    "raw_mito = select_channel_from_raw(img_2D, MITO_CH)\n"
   ]
  },
  {
   "cell_type": "markdown",
   "metadata": {},
   "source": [
    "### PRE-PROCESSING"
   ]
  },
  {
   "cell_type": "code",
   "execution_count": 40,
   "metadata": {},
   "outputs": [],
   "source": [
    "###################\n",
    "# PRE_PROCESSING\n",
    "###################\n",
    "\n",
    "# intensity_norm_param = [0, 9] # from Allen Cell Segmenter LAMP1  workflow\n",
    "# struct_img = intensity_normalization( raw_mito ,  scaling_param=intensity_norm_param)\n",
    "\n",
    "struct_img = min_max_intensity_normalization( raw_mito)\n"
   ]
  },
  {
   "cell_type": "code",
   "execution_count": 41,
   "metadata": {},
   "outputs": [],
   "source": [
    "\n",
    "med_filter_size = 3  \n",
    "\n",
    "gaussian_smoothing_sigma = 1.4\n",
    "struct_img = median_filter_slice_by_slice(struct_img,    size=med_filter_size  )\n",
    "\n",
    "structure_img_smooth = image_smoothing_gaussian_slice_by_slice(   struct_img,\n",
    "                                                                                                                        sigma=gaussian_smoothing_sigma,\n",
    "                                                                                                                    )\n",
    "\n",
    "\n",
    "# log_img, d = log_transform( structure_img_smooth ) \n",
    "# struct_img = intensity_normalization(  log_img  ,  scaling_param=[0] )  \n",
    "\n",
    "struct_img = structure_img_smooth"
   ]
  },
  {
   "cell_type": "markdown",
   "metadata": {},
   "source": [
    "### CORE PROCESSING"
   ]
  },
  {
   "cell_type": "code",
   "execution_count": 62,
   "metadata": {},
   "outputs": [],
   "source": [
    "###################\n",
    "# CORE_PROCESSING\n",
    "###################\n",
    "# dot and filiment enhancement - 2D\n",
    "\n",
    "\n",
    "################################\n",
    "## PARAMETERS for this step ##\n",
    "vesselness_sigma = 1.5\n",
    "vesselness_cutoff = 0.05\n",
    "# 2d vesselness slice by slice\n",
    "# response = vesselness_slice_by_slice(structure_img_smooth, sigmas=vesselness_sigma, cutoff=-1, tau=.75)\n",
    "bw = vesselness_slice_by_slice(structure_img_smooth, sigma=vesselness_sigma, cutoff=vesselness_cutoff, tau=.75)\n",
    "\n",
    "# # from Sec61b workflows - playground references Tom20\n",
    "# f2_param = [[1.5, 0.16]]\n",
    "# bw = filament_2d_wrapper(structure_img_smooth, f2_param)"
   ]
  },
  {
   "cell_type": "markdown",
   "metadata": {},
   "source": [
    "### POST-PROCESSING"
   ]
  },
  {
   "cell_type": "code",
   "execution_count": 53,
   "metadata": {},
   "outputs": [],
   "source": [
    "\n",
    "# # 3D\n",
    "###################\n",
    "# POST_PROCESSING\n",
    "###################\n",
    "\n",
    "################################\n",
    "\n",
    "mito_object = apply_mask(bw,cytosol_mask)\n",
    "\n",
    "small_object_width = 3\n",
    "mito_object = size_filter_2D(mito_object, \n",
    "                                                min_size= small_object_width**2, \n",
    "                                                connectivity=1)\n"
   ]
  },
  {
   "cell_type": "code",
   "execution_count": 55,
   "metadata": {},
   "outputs": [
    {
     "data": {
      "text/plain": [
       "True"
      ]
     },
     "execution_count": 55,
     "metadata": {},
     "output_type": "execute_result"
    }
   ],
   "source": []
  },
  {
   "cell_type": "markdown",
   "metadata": {},
   "source": [
    "#### Visualize with `napari`\n",
    "Visualize the first-pass segmentation and labeling with `napari`."
   ]
  },
  {
   "cell_type": "code",
   "execution_count": 16,
   "metadata": {},
   "outputs": [],
   "source": [
    "viewer = napari.Viewer()\n",
    "\n"
   ]
  },
  {
   "cell_type": "code",
   "execution_count": 45,
   "metadata": {},
   "outputs": [
    {
     "data": {
      "text/plain": [
       "<Image layer 'structure_img_smooth [1]' at 0x17c759b20>"
      ]
     },
     "execution_count": 45,
     "metadata": {},
     "output_type": "execute_result"
    }
   ],
   "source": [
    "\n",
    "\n",
    "viewer.add_image(\n",
    "    raw_mito,\n",
    "    scale=scale\n",
    ")\n",
    "\n",
    "viewer.scale_bar.visible = True\n",
    "viewer.add_image(\n",
    "    structure_img_smooth,\n",
    "    scale=scale\n",
    ")\n"
   ]
  },
  {
   "cell_type": "code",
   "execution_count": 46,
   "metadata": {},
   "outputs": [
    {
     "data": {
      "text/plain": [
       "<Image layer 'mito_object [2]' at 0x17cd07610>"
      ]
     },
     "execution_count": 46,
     "metadata": {},
     "output_type": "execute_result"
    }
   ],
   "source": [
    "\n",
    "viewer.add_image(\n",
    "    mito_object,\n",
    "    scale=scale\n",
    ")\n"
   ]
  },
  {
   "cell_type": "code",
   "execution_count": 19,
   "metadata": {},
   "outputs": [
    {
     "data": {
      "text/plain": [
       "<Image layer 'bw' at 0x14df3c430>"
      ]
     },
     "execution_count": 19,
     "metadata": {},
     "output_type": "execute_result"
    }
   ],
   "source": [
    "\n",
    "\n",
    "viewer.add_image(\n",
    "    response,\n",
    "    scale=scale\n",
    ")\n",
    "\n",
    "\n",
    "viewer.add_image(\n",
    "    bw,\n",
    "    scale=scale\n",
    ")\n"
   ]
  },
  {
   "cell_type": "markdown",
   "metadata": {},
   "source": [
    "### Collect into a single `infer_mitochondria` function"
   ]
  },
  {
   "cell_type": "code",
   "execution_count": 75,
   "metadata": {},
   "outputs": [],
   "source": [
    "##########################\n",
    "#  infer_mitochondria\n",
    "##########################\n",
    "def _infer_mitochondria(\n",
    "                                in_img: np.ndarray,\n",
    "                                cytosol_mask: np.ndarray,\n",
    "                                median_sz: int,\n",
    "                                gauss_sig: float,\n",
    "                                vesselness_scale : float,\n",
    "                                vesselness_cut : float,\n",
    "                                small_obj_w: int,\n",
    "                            ) -> np.ndarray:\n",
    "    \"\"\"\n",
    "    Procedure to infer mitochondria from linearly unmixed input.\n",
    "\n",
    "    Parameters:\n",
    "    ------------\n",
    "    in_img: np.ndarray\n",
    "        a 3d image containing all the channels\n",
    "    soma_mask: Optional[np.ndarray] = None\n",
    "        mask\n",
    "    median_sz: int\n",
    "        width of median filter for signal\n",
    "    gauss_sig: float\n",
    "        sigma for gaussian smoothing of  signal\n",
    "    vesselness_scale: float\n",
    "        scale (log_sigma) for vesselness filter\n",
    "    vesselness_cut: float\n",
    "        threshold for vesselness fitered threshold\n",
    "    small_obj_w: int\n",
    "        minimu object size cutoff for nuclei post-processing\n",
    "\n",
    "    Returns:\n",
    "    -------------\n",
    "    mitochondria_object\n",
    "        mask defined extent of mitochondria object\n",
    "    \n",
    "    \"\"\"\n",
    "    mito_ch = MITO_CH\n",
    "   \n",
    "    ###################\n",
    "    # PRE_PROCESSING\n",
    "    ###################                         \n",
    "    mito = select_channel_from_raw(in_img, MITO_CH)\n",
    "\n",
    "    mito = min_max_intensity_normalization(mito)\n",
    "\n",
    "    mito = median_filter_slice_by_slice(mito, size=median_sz)\n",
    "\n",
    "    struct_img = image_smoothing_gaussian_slice_by_slice( mito, sigma=gauss_sig )\n",
    "\n",
    "    ###################   \n",
    "    # CORE_PROCESSING\n",
    "    ###################\n",
    "    struct_img = vesselness_slice_by_slice(struct_img, sigma=vesselness_scale, cutoff=vesselness_cut, tau=.75)\n",
    "\n",
    "    ###################\n",
    "    # POST_PROCESSING\n",
    "    ###################\n",
    "    struct_obj = apply_mask(struct_img, cytosol_mask)\n",
    "\n",
    "    struct_obj = size_filter_2D(struct_obj, min_size=small_obj_w**2, connectivity=1)\n",
    "\n",
    "    return struct_obj\n",
    "\n"
   ]
  },
  {
   "cell_type": "code",
   "execution_count": 76,
   "metadata": {},
   "outputs": [],
   "source": [
    "\n",
    "\n",
    "from typing import Optional\n",
    "\n",
    "##########################\n",
    "#  fixed_infer_mitochondria\n",
    "##########################\n",
    "def _fixed_infer_mitochondria(in_img: np.ndarray, \n",
    "                                                cytosol_mask: Optional[np.ndarray] = None\n",
    "                                            ) -> np.ndarray:\n",
    "    \"\"\"\n",
    "    Procedure to infer lysosome from linearly unmixed input,\n",
    "    Parameters:\n",
    "    ------------\n",
    "    in_img: np.ndarray\n",
    "        a 3d image containing all the channels\n",
    "    cytosol_mask: Optional[np.ndarray] = None\n",
    "        mask\n",
    "\n",
    "    Returns:\n",
    "    -------------\n",
    "    mitochondria_object\n",
    "        mask defined extent of mitochondria\n",
    "    \"\"\"\n",
    "    median_sz = 3\n",
    "    gauss_sig = 1.4\n",
    "    vesselness_scale = 1.5\n",
    "    vesselness_cut = 0.05\n",
    "    small_obj_w = 3\n",
    "\n",
    "    return _infer_mitochondria(  \n",
    "                                in_img,\n",
    "                                cytosol_mask,\n",
    "                                median_sz,\n",
    "                                gauss_sig,\n",
    "                                vesselness_scale,                                \n",
    "                                vesselness_cut,\n",
    "                                small_obj_w\n",
    "                                )\n",
    "\n"
   ]
  },
  {
   "cell_type": "markdown",
   "metadata": {},
   "source": [
    "------------------\n",
    "\n",
    "### TEST `infer_mitochondria` function"
   ]
  },
  {
   "cell_type": "code",
   "execution_count": 64,
   "metadata": {},
   "outputs": [],
   "source": [
    "\n",
    "_mito_object =  _fixed_infer_mitochondria(img_2D, cytosol_mask) "
   ]
  },
  {
   "cell_type": "code",
   "execution_count": 66,
   "metadata": {},
   "outputs": [],
   "source": [
    "from infer_subc_2d.organelles import fixed_infer_mitochondria\n",
    "\n",
    "mito_object =  fixed_infer_mitochondria(img_2D, cytosol_mask) "
   ]
  },
  {
   "cell_type": "code",
   "execution_count": 67,
   "metadata": {},
   "outputs": [
    {
     "data": {
      "text/plain": [
       "<Image layer 'mito_object [3]' at 0x17c759400>"
      ]
     },
     "execution_count": 67,
     "metadata": {},
     "output_type": "execute_result"
    }
   ],
   "source": [
    "\n",
    "viewer.add_image(\n",
    "    mito_object,\n",
    "    scale=scale\n",
    ")\n"
   ]
  },
  {
   "cell_type": "code",
   "execution_count": 68,
   "metadata": {},
   "outputs": [
    {
     "data": {
      "text/plain": [
       "<Image layer '_mito_object [2]' at 0x17d257280>"
      ]
     },
     "execution_count": 68,
     "metadata": {},
     "output_type": "execute_result"
    }
   ],
   "source": [
    "\n",
    "viewer.add_image(\n",
    "    _mito_object,\n",
    "    scale=scale\n",
    ")\n"
   ]
  },
  {
   "cell_type": "code",
   "execution_count": 69,
   "metadata": {},
   "outputs": [
    {
     "data": {
      "text/plain": [
       "<Labels layer 'Labels' at 0x17d257ca0>"
      ]
     },
     "execution_count": 69,
     "metadata": {},
     "output_type": "execute_result"
    }
   ],
   "source": [
    "\n",
    "viewer.add_labels(\n",
    "    label(mito_object),\n",
    "    scale=scale\n",
    ")"
   ]
  },
  {
   "cell_type": "code",
   "execution_count": 70,
   "metadata": {},
   "outputs": [
    {
     "data": {
      "image/png": "[encoded data removed]",
      "text/html": [
       "<img src=\"data:image/png;base64,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\"></img>"
      ],
      "text/plain": [
       "<napari.utils.notebook_display.NotebookScreenshot at 0x181224970>"
      ]
     },
     "execution_count": 70,
     "metadata": {},
     "output_type": "execute_result"
    }
   ],
   "source": [
    "from napari.utils.notebook_display import nbscreenshot\n",
    "\n",
    "# viewer.dims.ndisplay = 3\n",
    "# viewer.camera.angles = (-30, 25, 120)\n",
    "nbscreenshot(viewer, canvas_only=True)"
   ]
  },
  {
   "cell_type": "markdown",
   "metadata": {},
   "source": [
    "-----------------\n",
    "## make function json to add to `all_functions.json`\n",
    "### infer_mitochondria "
   ]
  },
  {
   "cell_type": "code",
   "execution_count": 1,
   "metadata": {},
   "outputs": [
    {
     "name": "stdout",
     "output_type": "stream",
     "text": [
      "function fixed_infer_mitochondria is already in all_functions.json\n",
      "overwriting  fixed_infer_mitochondria\n"
     ]
    },
    {
     "data": {
      "text/plain": [
       "1"
      ]
     },
     "execution_count": 1,
     "metadata": {},
     "output_type": "execute_result"
    }
   ],
   "source": [
    "from infer_subc_2d.organelles_config.helper import add_function_spec_to_widget_json\n",
    "\n",
    "_fixed_infer_mitochondria =  {\n",
    "        \"name\": \"infer mitochondria  (fixed parameters)\",\n",
    "        \"python::module\": \"infer_subc_2d.organelles\",\n",
    "        \"python::function\": \"fixed_infer_mitochondria\",\n",
    "        \"parameters\": None\n",
    "        }\n",
    "\n",
    "add_function_spec_to_widget_json(\"fixed_infer_mitochondria\",_fixed_infer_mitochondria, overwrite=True)"
   ]
  },
  {
   "cell_type": "code",
   "execution_count": 78,
   "metadata": {},
   "outputs": [
    {
     "name": "stdout",
     "output_type": "stream",
     "text": [
      "function infer_mitochondria is already in all_functions.json\n",
      "overwriting  infer_mitochondria\n"
     ]
    },
    {
     "data": {
      "text/plain": [
       "1"
      ]
     },
     "execution_count": 78,
     "metadata": {},
     "output_type": "execute_result"
    }
   ],
   "source": [
    "\n",
    "_infer_mitochondria =  {\n",
    "        \"name\": \"infer mitochondria\",\n",
    "        \"python::module\": \"infer_subc_2d.organelles\",\n",
    "        \"python::function\": \"infer_mitochondria\",\n",
    "        \"parameters\": {\n",
    "                \"median_sz\": {\n",
    "                        \"widget_type\": \"slider\",\n",
    "                        \"data_type\": \"int\",\n",
    "                        \"min\": 3,\n",
    "                        \"max\": 15,\n",
    "                        \"increment\": 1\n",
    "                },\n",
    "                \"gauss_sig\": {\n",
    "                        \"data_type\": \"float\",\n",
    "                        \"increment\": 0.25,\n",
    "                        \"max\": 15.0,\n",
    "                        \"min\": 1.25,\n",
    "                        \"widget_type\": \"slider\"\n",
    "                },\n",
    "                \"vesselness_scale\": {\n",
    "                        \"data_type\": \"float\",\n",
    "                        \"increment\": 0.05,\n",
    "                        \"max\": 10,\n",
    "                        \"min\": 0,\n",
    "                        \"widget_type\": \"slider\"\n",
    "                },\n",
    "                \"vesselness_cut\": {\n",
    "                        \"data_type\": \"float\",\n",
    "                        \"increment\": 0.001,\n",
    "                        \"max\": 0.5,\n",
    "                        \"min\": 0,\n",
    "                        \"widget_type\": \"slider\"\n",
    "                },\n",
    "                \"small_obj_w\": {\n",
    "                        \"data_type\": \"int\",\n",
    "                        \"increment\": 1,\n",
    "                        \"max\": 50,\n",
    "                        \"min\": 1,\n",
    "                        \"widget_type\": \"slider\"\n",
    "                }\n",
    "        }\n",
    "}\n",
    "\n",
    "add_function_spec_to_widget_json(\"infer_mitochondria\", _infer_mitochondria, overwrite=True )\n",
    "\n"
   ]
  },
  {
   "cell_type": "code",
   "execution_count": 79,
   "metadata": {},
   "outputs": [
    {
     "name": "stdout",
     "output_type": "stream",
     "text": [
      "function vesselness_slice_by_slice is already in all_functions.json\n",
      "overwriting  vesselness_slice_by_slice\n"
     ]
    },
    {
     "data": {
      "text/plain": [
       "1"
      ]
     },
     "execution_count": 79,
     "metadata": {},
     "output_type": "execute_result"
    }
   ],
   "source": [
    "\n",
    "_vesselness_slice_by_slice =  {\n",
    "        \"name\": \"vesselness filter (e.g. mitochondria)\",\n",
    "        \"python::module\": \"infer_subc_2d.utils.img\",\n",
    "        \"python::function\": \"vesselness_slice_by_slice\",\n",
    "        \"parameters\": {\n",
    "            \"sigma\": [\n",
    "                {\n",
    "                    \"widget_type\": \"slider\",\n",
    "                    \"data_type\": \"float\",\n",
    "                    \"min\": 0.5,\n",
    "                    \"max\": 5,\n",
    "                    \"increment\": 0.5\n",
    "                }\n",
    "            ],\n",
    "            \"cutoff\": {\n",
    "                \"widget_type\": \"slider\",\n",
    "                \"data_type\": \"float\",\n",
    "                \"min\": 0.005,\n",
    "                \"max\": 0.5,\n",
    "                \"increment\": 0.005\n",
    "            }\n",
    "        }\n",
    "    }\n",
    "\n",
    "add_function_spec_to_widget_json(\"vesselness_slice_by_slice\", _vesselness_slice_by_slice, overwrite=True)\n"
   ]
  },
  {
   "cell_type": "code",
   "execution_count": 80,
   "metadata": {},
   "outputs": [],
   "source": [
    "from infer_subc_2d.constants import MITO_CH \n",
    "\n",
    "def make_infer_mitochondria_step_by_step_from_raw_dict():\n",
    "    \"\"\"\n",
    "    Procedure to infer mitochondria from linearly unmixed input from raw\n",
    "\n",
    "    \"\"\"\n",
    "    step_name = []\n",
    "    function_name = []\n",
    "    category =[]\n",
    "    parameter_values = []\n",
    "    parent = []\n",
    "   \n",
    "    ###################\n",
    "    # EXTRACT\n",
    "    ###################   \n",
    "    step_name = []\n",
    "    function_name = []\n",
    "    category =[]\n",
    "    parameter_values = []\n",
    "    parent = []\n",
    "   \n",
    "    ###################\n",
    "    # EXTRACT\n",
    "    ###################   \n",
    "\n",
    "    step_name.append(\"1\")\n",
    "    function_name.append(\"fixed_get_optimal_Z_img\")\n",
    "    category.append(\"extraction\")\n",
    "    parameter_values.append(None)\n",
    "    parent.append(0)\n",
    "\n",
    "    step_name.append(\"2\")\n",
    "    function_name.append(\"fixed_infer_soma\")\n",
    "    category.append(\"extraction\")\n",
    "    parameter_values.append( None )\n",
    "    parent.append(1)\n",
    "\n",
    "    step_name.append(\"3\")\n",
    "    function_name.append(\"fixed_infer_nuclei\")\n",
    "    category.append(\"extraction\")\n",
    "    parameter_values.append( None )\n",
    "    parent.append([1,2])\n",
    "\n",
    "    step_name.append(\"4\")\n",
    "    function_name.append(\"infer_cytosol\")\n",
    "    category.append(\"extraction\")\n",
    "    parameter_values.append(dict(erode_nuclei = True ))\n",
    "    parent.append([2,3])\n",
    "\n",
    "    step_name.append(\"5\")\n",
    "    function_name.append(\"select_channel_from_raw\")\n",
    "    category.append(\"extraction\")\n",
    "    parameter_values.append( dict(chan = MITO_CH) )\n",
    "    parent.append(1)\n",
    "\n",
    "    \n",
    "    step_name.append(\"6\")\n",
    "    function_name.append(\"min_max_intensity_normalization\")\n",
    "    category.append(\"preprocessing\")\n",
    "    parameter_values.append(None)\n",
    "    parent.append(5)\n",
    "\n",
    "    step_name.append(\"7\")\n",
    "    function_name.append(\"median_filter_slice_by_slice\")\n",
    "    category.append(\"preprocessing\")\n",
    "    parameter_values.append(dict(size = 3 ))\n",
    "    parent.append(6)\n",
    "\n",
    "    step_name.append(\"8\")\n",
    "    function_name.append(\"image_smoothing_gaussian_slice_by_slice\")\n",
    "    category.append(\"preprocessing\")\n",
    "    parameter_values.append(dict( sigma = 1.34 ))\n",
    "    parent.append(7)\n",
    "\n",
    "\n",
    "    step_name.append(\"9\")\n",
    "    function_name.append(\"vesselness_slice_by_slice\") \n",
    "    category.append(\"core\")\n",
    "    parameter_values.append( dict( sigma=1.5, cutoff=0.05) )\n",
    "    parent.append(8)\n",
    "\n",
    "\n",
    "    step_name.append(\"10\")\n",
    "    function_name.append(\"apply_mask\")\n",
    "    category.append(\"postprocessing\")\n",
    "    parameter_values.append(None)\n",
    "    parent.append([9,4])\n",
    "\n",
    "    step_name.append(\"11\")\n",
    "    function_name.append(\"size_filter_2D\")\n",
    "    category.append(\"postprocessing\")\n",
    "    parameter_values.append(dict( min_size = 3**2  ))\n",
    "    parent.append(10)\n",
    "\n",
    "    out_dict = dict()\n",
    "    for i,stepn in enumerate(step_name):\n",
    "        entry = dict(category=category[i],\n",
    "                            function=function_name[i],\n",
    "                            parameter_values=parameter_values[i],\n",
    "                            parent=parent[i]\n",
    "        )\n",
    "        if entry['parameter_values'] is None:\n",
    "            _ = entry.pop('parameter_values')\n",
    "        out_dict[stepn] = entry\n",
    "    \n",
    "    return out_dict\n",
    "\n"
   ]
  },
  {
   "cell_type": "code",
   "execution_count": 82,
   "metadata": {},
   "outputs": [
    {
     "data": {
      "text/plain": [
       "PosixPath('/Users/ahenrie/Projects/Imaging/infer-subc-2D/infer_subc_2d/organelles_config/conf_1.5.mitochondria_stepbystep_from_raw.json')"
      ]
     },
     "execution_count": 82,
     "metadata": {},
     "output_type": "execute_result"
    }
   ],
   "source": [
    "from infer_subc_2d.organelles_config.helper import write_workflow_json\n",
    "\n",
    "infer_mitochondria_stepbystep_from_raw_dict = make_infer_mitochondria_step_by_step_from_raw_dict()\n",
    "\n",
    "write_workflow_json(\"conf_1.5.mitochondria_stepbystep_from_raw\", infer_mitochondria_stepbystep_from_raw_dict)"
   ]
  },
  {
   "cell_type": "code",
   "execution_count": 83,
   "metadata": {},
   "outputs": [],
   "source": [
    "viewer.close()"
   ]
  },
  {
   "cell_type": "markdown",
   "metadata": {},
   "source": [
    "---------------------\n",
    "\n",
    " 🚧 WIP 🚧 (🚨🚨🚨🚨 )\n",
    "\n",
    "# PUTATIVE ALTERNATE WORKFLOW #2 (WIP)\n",
    "as per 6/22 CellProfiler pipeline from MCZ\n",
    " > ADAPTIVE... not sure exactly how to impliment this...\n",
    "\n",
    "  >ReduceNoise performs non-local means noise reduction. Instead of only using a neighborhood of pixels around a central pixel for denoising, such as in GaussianFilter, multiple neighborhoods are pooled together. The neighborhood pool is determined by scanning the image for regions similar to the area around the central pixel using a correlation metric and a cutoff value.\n",
    "   \n",
    "## summary of steps (Workflow #1 & #2)\n",
    "\n",
    "INPUT\n",
    "- ch 3\n",
    "- CY mask\n",
    "\n",
    "PRE-PROCESSING\n",
    "-  non-local noise reduction\n",
    "  - size:4, distance:2, cut-off:0.1\n",
    "\n",
    "CORE-PROCESSING\n",
    "  - adaptive Otsu\n",
    "    - diameter: (2,200)\n",
    "  - two classes\n",
    "    - threshold smoothing scale: 0\n",
    "    - threshold correction factor: .1\n",
    "    - threshold bounds: (0.14 1)\n",
    "    - adaptive window: 20 pixels\n",
    "\n",
    "POST-PROCESSING\n",
    "  - N/A\n",
    "\n",
    "\n",
    "\n"
   ]
  },
  {
   "cell_type": "code",
   "execution_count": null,
   "metadata": {},
   "outputs": [],
   "source": []
  },
  {
   "cell_type": "markdown",
   "metadata": {},
   "source": [
    "### INPUT"
   ]
  },
  {
   "cell_type": "code",
   "execution_count": null,
   "metadata": {},
   "outputs": [],
   "source": [
    "\n",
    "###################\n",
    "# INPUT\n",
    "###################\n",
    "raw_mito    = img_2D[2].copy()\n",
    "\n",
    "# mask object\n",
    "masked_mito = apply_mask(raw_mito,CY_object)\n"
   ]
  },
  {
   "cell_type": "markdown",
   "metadata": {},
   "source": [
    "### PRE-PROCESSING"
   ]
  },
  {
   "cell_type": "code",
   "execution_count": null,
   "metadata": {},
   "outputs": [],
   "source": [
    "###################\n",
    "# PRE_PROCESSING\n",
    "###################\n",
    "\n",
    "intensity_norm_param = [0] # \n",
    "\n",
    "# Linear-ish smoothing\n",
    "raw_mito = intensity_normalization( masked_mito ,  scaling_param=intensity_norm_param)\n",
    "\n",
    "med_filter_size =3  \n",
    "\n",
    "gaussian_smoothing_sigma = 1.3\n",
    "gaussian_smoothing_truncate_range = 3.0\n",
    "\n",
    "struct_img = median_filter(raw_mito,    size=med_filter_size  )\n",
    "\n",
    "structure_img_smooth = image_smoothing_gaussian_slice_by_slice(   struct_img,\n",
    "                                                                                                                        sigma=gaussian_smoothing_sigma,\n",
    "                                                                                                                        truncate_range=gaussian_smoothing_truncate_range,\n",
    "                                                                                                                    )\n",
    "\n",
    "\n",
    "# log_img, d = log_transform( structure_img_smooth ) \n",
    "# struct_img = intensity_normalization(  log_img  ,  scaling_param=[0] )  \n",
    "\n",
    "struct_img = structure_img_smooth"
   ]
  },
  {
   "cell_type": "markdown",
   "metadata": {},
   "source": [
    "### CORE PROCESSING"
   ]
  },
  {
   "cell_type": "code",
   "execution_count": null,
   "metadata": {},
   "outputs": [],
   "source": [
    "###################\n",
    "# CORE_PROCESSING\n",
    "###################\n",
    "# enhance spreckles - 40\n",
    "big_struct_rad = 40\n",
    "big_img = enhance_speckles(struct_img.copy(),big_struct_rad, True)\n",
    "\n",
    "#adaptive_otsu(big_struct) # three class - middle foreground\n",
    "# adaptive window- 20\n",
    "#size: 10,100\n",
    "# threshold smooth 1.34\n",
    "# threshold correction 1\n",
    "# threshold (0.1497,1)\n",
    "#fill holes\n",
    "# \"adatpive\" thresholds are NOT currently working... will use      \n",
    "# \"Masked Object Thresholding\" - 3D\n",
    "low_level_min_size = 10\n",
    "bw_big, _bw_low_level = MO(big_img, \n",
    "                                                global_thresh_method='ave', \n",
    "                                                object_minArea=low_level_min_size, \n",
    "                                                extra_criteria=True,\n",
    "                                                local_adjust= 0.5, \n",
    "                                                return_object=True,\n",
    "                                                dilate=True)"
   ]
  },
  {
   "cell_type": "code",
   "execution_count": null,
   "metadata": {},
   "outputs": [],
   "source": [
    "\n",
    "# enhance speckles\n",
    "#   adaptive_sauvola(sm_struct) \n",
    "# adaptive window- 10\n",
    "#size: 2,10\n",
    "# threshold smooth 1.34\n",
    "# threshold correction 1\n",
    "# threshold (0.05,1)\n",
    "#fill holes\n",
    "\n",
    "# enhance spreckles - 10\n",
    "sm_struct_rad = 20\n",
    "sm_img = enhance_speckles(struct_img.copy(),sm_struct_rad, True)\n",
    "\n",
    "# \"adatpive\" thresholds are NOT currently working... will use      \n",
    "# \"Masked Object Thresholding\" - 3D\n",
    "low_level_min_size = 2\n",
    "bw_sm, _bw_low_level = MO(sm_img, \n",
    "                                                global_thresh_method='ave', \n",
    "                                                object_minArea=low_level_min_size, \n",
    "                                                extra_criteria=True,\n",
    "                                                local_adjust= 0.5, \n",
    "                                                return_object=True,\n",
    "                                                dilate=True)\n",
    " # or this?                                               \n",
    "#    struct_obj = struct_img > filters.threshold_otsu(struct_img)\n",
    "#     threshold_value_log = threshold_otsu_log(struct_img)\n",
    "#     thresh_factor = 0.9 #from cellProfiler\n",
    "#     thresh_min = .1\n",
    "#     thresh_max = 1.\n",
    "#     threshold = min( max(threshold_value_log*thresh_factor, thresh_min), thresh_max)\n",
    "#     struct_obj = struct_img > threshold\n",
    "\n"
   ]
  },
  {
   "cell_type": "markdown",
   "metadata": {},
   "source": [
    "### POST-PROCESSING"
   ]
  },
  {
   "cell_type": "code",
   "execution_count": null,
   "metadata": {},
   "outputs": [],
   "source": [
    "###################\n",
    "# POST_PROCESSING\n",
    "###################\n",
    "\n",
    "\n",
    "# 3D\n",
    "# cleaned_img = remove_small_objects(removed_holes>0, \n",
    "#                                                             min_size=minArea, \n",
    "#                                                             connectivity=1, \n",
    "#                                                             in_place=False)\n",
    "small_object_width = 10\n",
    "cleaned_img_big = size_filter(bw_big, # wrapper to remove_small_objects which can do slice by slice\n",
    "                                                         min_size= small_object_width**2,\n",
    "                                                         method = \"slice_by_slice\",\n",
    "                                                         connectivity=1)\n",
    "\n",
    "\n",
    "#                                                             in_place=False)\n",
    "small_object_width = 2\n",
    "cleaned_img_sm = size_filter(bw_sm, # wrapper to remove_small_objects which can do slice by slice\n",
    "                                                         min_size= small_object_width**2,\n",
    "                                                         method = \"slice_by_slice\",\n",
    "                                                         connectivity=1)\n",
    "\n",
    "\n",
    "\n",
    "cleaned_img = np.logical_or(cleaned_img_big, cleaned_img_sm)\n",
    "\n"
   ]
  },
  {
   "cell_type": "markdown",
   "metadata": {},
   "source": [
    "#### Visualize with `napari`\n",
    "Visualize the first-pass segmentation and labeling with `napari`."
   ]
  },
  {
   "cell_type": "code",
   "execution_count": null,
   "metadata": {},
   "outputs": [],
   "source": [
    "\n",
    "\n",
    "viewer.add_image(\n",
    "    cleaned_img,\n",
    "    scale=scale\n",
    ")\n",
    "\n",
    "viewer.scale_bar.visible = True\n",
    "viewer.add_image(\n",
    "    cleaned_img_big,\n",
    "    scale=scale\n",
    ")\n",
    "\n",
    "viewer.add_image(\n",
    "    big_img,\n",
    "    scale=scale\n",
    ")\n",
    "viewer.add_image(\n",
    "    cleaned_img_big,\n",
    "    scale=scale\n",
    ")\n",
    "viewer.add_image(\n",
    "    sm_img,\n",
    "    scale=scale\n",
    ")"
   ]
  }
 ],
 "metadata": {
  "kernelspec": {
   "display_name": "Python 3.9.13 ('napariNEW')",
   "language": "python",
   "name": "python3"
  },
  "language_info": {
   "codemirror_mode": {
    "name": "ipython",
    "version": 3
   },
   "file_extension": ".py",
   "mimetype": "text/x-python",
   "name": "python",
   "nbconvert_exporter": "python",
   "pygments_lexer": "ipython3",
   "version": "3.9.13"
  },
  "orig_nbformat": 4,
  "vscode": {
   "interpreter": {
    "hash": "d6148ef1fb015fb20f0b6da2ea61c87c6b848bdf3dabb03087e5d5cd0c4607e9"
   }
  }
 },
 "nbformat": 4,
 "nbformat_minor": 2
}
