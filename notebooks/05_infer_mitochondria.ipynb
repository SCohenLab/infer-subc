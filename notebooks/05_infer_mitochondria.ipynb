{
 "cells": [
  {
   "cell_type": "code",
   "execution_count": null,
   "metadata": {},
   "outputs": [],
   "source": []
  },
  {
   "cell_type": "markdown",
   "metadata": {},
   "source": [
    "# Infer ***mitochondria*** - part 5️⃣\n",
    "\n",
    "--------------\n",
    "OBJECTIVE: ✅ Infer sub-cellular component  ***mitochondria***  in order to understand interactome \n",
    "\n",
    "Dependencies:\n",
    "The ***mitochondria***  inference rely on the ***cytosol*** mask"
   ]
  },
  {
   "cell_type": "markdown",
   "metadata": {},
   "source": [
    "\n",
    "# IMPORTS"
   ]
  },
  {
   "cell_type": "code",
   "execution_count": 1,
   "metadata": {},
   "outputs": [],
   "source": [
    "# top level imports\n",
    "from pathlib import Path\n",
    "import os, sys\n",
    "from collections import defaultdict\n",
    "\n",
    "import numpy as np\n",
    "import scipy\n",
    "\n",
    "# TODO:  prune the imports.. this is the big set for almost all organelles\n",
    "# # function for core algorithm\n",
    "from scipy import ndimage as ndi\n",
    "import aicssegmentation\n",
    "from aicssegmentation.core.seg_dot import dot_3d_wrapper, dot_slice_by_slice, dot_2d_slice_by_slice_wrapper, dot_3d\n",
    "from aicssegmentation.core.pre_processing_utils import ( intensity_normalization, \n",
    "                                                         image_smoothing_gaussian_3d,  \n",
    "                                                         image_smoothing_gaussian_slice_by_slice )\n",
    "from aicssegmentation.core.utils import topology_preserving_thinning, size_filter\n",
    "from aicssegmentation.core.MO_threshold import MO\n",
    "from aicssegmentation.core.utils import hole_filling\n",
    "from aicssegmentation.core.vessel import filament_2d_wrapper, vesselnessSliceBySlice\n",
    "from aicssegmentation.core.output_utils import   save_segmentation,  generate_segmentation_contour\n",
    "                                                 \n",
    "from skimage import filters\n",
    "from skimage.segmentation import watershed\n",
    "from skimage.feature import peak_local_max\n",
    "from skimage.morphology import remove_small_objects, binary_closing, ball , dilation, remove_small_holes   # function for post-processing (size filter)\n",
    "from skimage.measure import label\n",
    "\n",
    "# # package for io \n",
    "from aicsimageio import AICSImage\n",
    "\n",
    "import napari\n",
    "\n",
    "### import local python functions in ../infer_subc_2d\n",
    "sys.path.append(os.path.abspath((os.path.join(os.getcwd(), '..'))))\n",
    "\n",
    "from infer_subc_2d.utils.file_io import (read_czi_image, \n",
    "                                                                    list_image_files, \n",
    "                                                                    export_ome_tiff, \n",
    "                                                                    etree_to_dict, \n",
    "                                                                    save_parameters, \n",
    "                                                                    load_parameters, \n",
    "                                                                    export_ndarray)\n",
    "from infer_subc_2d.utils.img import *\n",
    "from infer_subc_2d.constants import (TEST_IMG_N,\n",
    "                                                                    NUC_CH ,\n",
    "                                                                    LYSO_CH ,\n",
    "                                                                    MITO_CH ,\n",
    "                                                                    GOLGI_CH ,\n",
    "                                                                    PEROXI_CH ,\n",
    "                                                                    ER_CH ,\n",
    "                                                                    LIPID_CH ,\n",
    "                                                                    RESIDUAL_CH )        \n",
    "from infer_subc_2d.organelles.soma import infer_soma\n",
    "from infer_subc_2d.organelles.nuclei import infer_nuclei\n",
    "from infer_subc_2d.organelles.cytosol import infer_cytosol\n",
    "\n",
    "%load_ext autoreload\n",
    "%autoreload 2\n",
    "\n",
    "test_img_n = 5"
   ]
  },
  {
   "cell_type": "markdown",
   "metadata": {},
   "source": [
    "# BUILD ***mitochondria*** inference image processing workflow\n",
    "\n",
    "## IMAGE PROCESSING Objective 5:  infer ***mitochondria***\n",
    "\n",
    "\n",
    "### summary \n",
    "\n",
    "Generally following the Allen Cell Segmenter procedure, but doing more aggressive contrast scaling than their prescribed contrast scaling.\n",
    "\n",
    "> Using Allen Cell Segmenter Tom20as a potential Mitochondria segmenter to start with  start from [Allen Cell](https://www.allencell.org/cell-observations/category/mitochondria).   using [seg_tomm20.py](\"../../../../aics-segmentation/aicssegmentation/structure_wrapper/seg_tomm20.py\")\n",
    "\n",
    "### steps\n",
    "\n",
    "INPUT\n",
    "- channel  2\n",
    "- cytosol mask\n",
    "\n",
    "PRE-PROCESSING\n",
    "-  smoothe / remove noise\n",
    "\n",
    "CORE-PROCESSING\n",
    "-  'vesselness' enhancement\n",
    "-  threshold objects\n",
    "\n",
    "- POST-PROCESSING\n",
    "  - apply mask\n",
    "  - filter objects\n",
    "\n",
    "OUTPUT\n",
    "- inferred  ***mitochondria*** object\n",
    "\n"
   ]
  },
  {
   "cell_type": "markdown",
   "metadata": {},
   "source": [
    "\n",
    "------------------------\n",
    "## LOAD RAW IMAGE DATA\n",
    "Identify path to _raw_ image data and load our example image\n"
   ]
  },
  {
   "cell_type": "code",
   "execution_count": 2,
   "metadata": {},
   "outputs": [
    {
     "name": "stderr",
     "output_type": "stream",
     "text": [
      "/opt/anaconda3/envs/napariNEW/lib/python3.9/site-packages/ome_types/_convenience.py:105: FutureWarning: The default XML parser will be changing from 'xmlschema' to 'lxml' in version 0.4.0.  To silence this warning, please provide the `parser` argument, specifying either 'lxml' (to opt into the new behavior), or'xmlschema' (to retain the old behavior).\n",
      "  d = to_dict(os.fspath(xml), parser=parser, validate=validate)\n"
     ]
    }
   ],
   "source": [
    "# build the datapath\n",
    "# all the imaging data goes here.\n",
    "data_root_path = Path(os.path.expanduser(\"~\")) / \"Projects/Imaging/data\"\n",
    "\n",
    "# linearly unmixed \".czi\" files are here\n",
    "data_path = data_root_path / \"raw\"\n",
    "im_type = \".czi\"\n",
    "\n",
    "# get the list of all files\n",
    "img_file_list = list_image_files(data_path,im_type)\n",
    "test_img_name = img_file_list[test_img_n]\n",
    "\n",
    "img_data,meta_dict = read_czi_image(test_img_name)\n",
    "\n",
    "# get some top-level info about the RAW data\n",
    "channel_names = meta_dict['name']\n",
    "img = meta_dict['metadata']['aicsimage']\n",
    "scale = meta_dict['scale']\n",
    "channel_axis = meta_dict['channel_axis']\n"
   ]
  },
  {
   "cell_type": "code",
   "execution_count": 3,
   "metadata": {},
   "outputs": [],
   "source": [
    "# lets see if napari is smart enough with scale...\n",
    "\n",
    "# # make sure we have removed Z\n",
    "# if len(scale)>2:\n",
    "#     scale = scale[1:]"
   ]
  },
  {
   "cell_type": "markdown",
   "metadata": {},
   "source": [
    "## CHOOZE Z-SLICE\n"
   ]
  },
  {
   "cell_type": "markdown",
   "metadata": {},
   "source": [
    "\n",
    "First, find the slice with the most overall intensity..."
   ]
  },
  {
   "cell_type": "code",
   "execution_count": 4,
   "metadata": {},
   "outputs": [],
   "source": [
    "ch_to_agg = ( LYSO_CH ,\n",
    "                        MITO_CH ,\n",
    "                        GOLGI_CH ,\n",
    "                        PEROXI_CH ,\n",
    "                        ER_CH ,\n",
    "                        LIPID_CH )\n",
    "                            \n",
    "nuc_ch = NUC_CH\n",
    "optimal_Z = find_optimal_Z(img_data, nuc_ch, ch_to_agg) \n",
    "\n"
   ]
  },
  {
   "cell_type": "markdown",
   "metadata": {},
   "source": [
    "Now get the single \"optimal\" slice of all our organelle channels...."
   ]
  },
  {
   "cell_type": "code",
   "execution_count": 5,
   "metadata": {},
   "outputs": [],
   "source": [
    "img_2D = img_data[:,[optimal_Z],:,:].copy()"
   ]
  },
  {
   "cell_type": "markdown",
   "metadata": {},
   "source": [
    "## Collect the ***cytosol*** mask\n",
    "\n",
    "i.e. inferred soma, nuclei and cytosol objects\n",
    "\n",
    "(takes < 1 sec)"
   ]
  },
  {
   "cell_type": "code",
   "execution_count": 6,
   "metadata": {},
   "outputs": [],
   "source": [
    "\n",
    "soma_mask =  infer_soma(img_2D) \n",
    "nuclei_object =  infer_nuclei(img_2D, soma_mask) \n",
    "cytosol_mask =  infer_cytosol( nuclei_object,soma_mask) \n"
   ]
  },
  {
   "cell_type": "markdown",
   "metadata": {},
   "source": [
    "## Build  ***Mitochondria***  specific inference workflow\n",
    "\n"
   ]
  },
  {
   "cell_type": "markdown",
   "metadata": {},
   "source": [
    "### INPUT"
   ]
  },
  {
   "cell_type": "code",
   "execution_count": 7,
   "metadata": {},
   "outputs": [],
   "source": [
    "\n",
    "###################\n",
    "# INPUT\n",
    "###################\n",
    "raw_mito    = img_2D[MITO_CH].copy()\n"
   ]
  },
  {
   "cell_type": "markdown",
   "metadata": {},
   "source": [
    "### PRE-PROCESSING"
   ]
  },
  {
   "cell_type": "code",
   "execution_count": 8,
   "metadata": {},
   "outputs": [],
   "source": [
    "###################\n",
    "# PRE_PROCESSING\n",
    "###################\n",
    "\n",
    "# intensity_norm_param = [0, 9] # from Allen Cell Segmenter LAMP1  workflow\n",
    "# struct_img = intensity_normalization( raw_mito ,  scaling_param=intensity_norm_param)\n",
    "\n",
    "struct_img = min_max_intensity_normalization( raw_mito)\n",
    "\n",
    "\n"
   ]
  },
  {
   "cell_type": "code",
   "execution_count": 9,
   "metadata": {},
   "outputs": [],
   "source": [
    "\n",
    "med_filter_size = 3  \n",
    "\n",
    "gaussian_smoothing_sigma = 1.3\n",
    "gaussian_smoothing_truncate_range = 3.0\n",
    "\n",
    "struct_img = median_filter_slice_by_slice(struct_img,    size=med_filter_size  )\n",
    "\n",
    "structure_img_smooth = image_smoothing_gaussian_slice_by_slice(   struct_img,\n",
    "                                                                                                                        sigma=gaussian_smoothing_sigma,\n",
    "                                                                                                                        truncate_range=gaussian_smoothing_truncate_range,\n",
    "                                                                                                                    )\n",
    "\n",
    "\n",
    "# log_img, d = log_transform( structure_img_smooth ) \n",
    "# struct_img = intensity_normalization(  log_img  ,  scaling_param=[0] )  \n",
    "\n",
    "struct_img = structure_img_smooth"
   ]
  },
  {
   "cell_type": "markdown",
   "metadata": {},
   "source": [
    "### CORE PROCESSING"
   ]
  },
  {
   "cell_type": "code",
   "execution_count": 10,
   "metadata": {},
   "outputs": [],
   "source": [
    "###################\n",
    "# CORE_PROCESSING\n",
    "###################\n",
    "# dot and filiment enhancement - 2D\n",
    "\n",
    "\n",
    "################################\n",
    "## PARAMETERS for this step ##\n",
    "vesselness_sigma = [1.5]\n",
    "vesselness_cutoff = 0.05\n",
    "# 2d vesselness slice by slice\n",
    "response = vesselness_slice_by_slice(structure_img_smooth, sigmas=vesselness_sigma, cutoff=-1, tau=.75)\n",
    "bw = vesselness_slice_by_slice(structure_img_smooth, sigmas=vesselness_sigma, cutoff=vesselness_cutoff, tau=.75)\n",
    "\n",
    "\n",
    "# # from Sec61b workflows - playground references Tom20\n",
    "# f2_param = [[1.5, 0.16]]\n",
    "# bw = filament_2d_wrapper(structure_img_smooth, f2_param)"
   ]
  },
  {
   "cell_type": "markdown",
   "metadata": {},
   "source": [
    "### POST-PROCESSING"
   ]
  },
  {
   "cell_type": "code",
   "execution_count": 11,
   "metadata": {},
   "outputs": [],
   "source": [
    "\n",
    "# # 3D\n",
    "###################\n",
    "# POST_PROCESSING\n",
    "###################\n",
    "\n",
    "################################\n",
    "\n",
    "mito_object = apply_mask(bw,cytosol_mask)\n",
    "\n",
    "\n",
    "small_object_max = 3\n",
    "\n",
    "mito_object = size_filter_2D(mito_object, \n",
    "                                                min_size= small_object_max**2, \n",
    "                                                connectivity=1)\n"
   ]
  },
  {
   "cell_type": "markdown",
   "metadata": {},
   "source": [
    "#### Visualize with `napari`\n",
    "Visualize the first-pass segmentation and labeling with `napari`."
   ]
  },
  {
   "cell_type": "code",
   "execution_count": 12,
   "metadata": {},
   "outputs": [],
   "source": [
    "viewer = napari.Viewer()\n",
    "\n"
   ]
  },
  {
   "cell_type": "code",
   "execution_count": 13,
   "metadata": {},
   "outputs": [
    {
     "data": {
      "text/plain": [
       "<Image layer 'structure_img_smooth' at 0x14aed47c0>"
      ]
     },
     "execution_count": 13,
     "metadata": {},
     "output_type": "execute_result"
    }
   ],
   "source": [
    "\n",
    "\n",
    "viewer.add_image(\n",
    "    raw_mito,\n",
    "    scale=scale\n",
    ")\n",
    "\n",
    "viewer.scale_bar.visible = True\n",
    "viewer.add_image(\n",
    "    structure_img_smooth,\n",
    "    scale=scale\n",
    ")\n"
   ]
  },
  {
   "cell_type": "code",
   "execution_count": 14,
   "metadata": {},
   "outputs": [
    {
     "data": {
      "text/plain": [
       "<Image layer 'mito_object' at 0x16c5836d0>"
      ]
     },
     "execution_count": 14,
     "metadata": {},
     "output_type": "execute_result"
    }
   ],
   "source": [
    "\n",
    "viewer.add_image(\n",
    "    mito_object,\n",
    "    scale=scale\n",
    ")\n"
   ]
  },
  {
   "cell_type": "code",
   "execution_count": 15,
   "metadata": {},
   "outputs": [
    {
     "data": {
      "text/plain": [
       "<Image layer 'bw' at 0x17ef8c7f0>"
      ]
     },
     "execution_count": 15,
     "metadata": {},
     "output_type": "execute_result"
    }
   ],
   "source": [
    "\n",
    "\n",
    "viewer.add_image(\n",
    "    response,\n",
    "    scale=scale\n",
    ")\n",
    "\n",
    "\n",
    "viewer.add_image(\n",
    "    bw,\n",
    "    scale=scale\n",
    ")\n"
   ]
  },
  {
   "cell_type": "markdown",
   "metadata": {},
   "source": [
    "### Collect into a single `infer_mitochondria` function"
   ]
  },
  {
   "cell_type": "code",
   "execution_count": 16,
   "metadata": {},
   "outputs": [],
   "source": [
    "##########################\n",
    "#  infer_mitochondria\n",
    "##########################\n",
    "def _infer_mitochondria(in_img: np.ndarray, cytosol_mask: np.ndarray) -> np.ndarray:\n",
    "    \"\"\"\n",
    "    Procedure to infer mitochondria from linearly unmixed input.\n",
    "\n",
    "    Parameters:\n",
    "    ------------\n",
    "    in_img: np.ndarray\n",
    "        a 3d image containing all the channels\n",
    "\n",
    "    cytosol_mask: np.ndarray\n",
    "        mask of cytosol\n",
    "\n",
    "    Returns:\n",
    "    -------------\n",
    "    lysosome_object\n",
    "        mask defined extent of mitochondria object\n",
    "    \n",
    "    \"\"\"\n",
    " \n",
    "   \n",
    "    ###################\n",
    "    # PRE_PROCESSING\n",
    "    ###################                         \n",
    "    struct_img = min_max_intensity_normalization(in_img[MITO_CH].copy())\n",
    "\n",
    "    med_filter_size = 3\n",
    "    struct_img = median_filter_slice_by_slice(struct_img, size=med_filter_size)\n",
    "\n",
    "    gaussian_smoothing_sigma = 1.34\n",
    "    gaussian_smoothing_truncate_range = 3.0\n",
    "    struct_img = image_smoothing_gaussian_slice_by_slice(\n",
    "        struct_img, sigma=gaussian_smoothing_sigma, truncate_range=gaussian_smoothing_truncate_range\n",
    "    )\n",
    "\n",
    "   ###################\n",
    "    # CORE_PROCESSING\n",
    "    ###################\n",
    "    ################################\n",
    "    ## PARAMETERS for this step ##\n",
    "    vesselness_sigma = [1.5]\n",
    "    vesselness_cutoff = 0.05\n",
    "    # 2d vesselness slice by slice\n",
    "    bw = vesselness_slice_by_slice(struct_img, sigmas=vesselness_sigma, cutoff=vesselness_cutoff, tau=.75)\n",
    "\n",
    "    ###################\n",
    "    # POST_PROCESSING\n",
    "    ###################\n",
    "\n",
    "    struct_obj = apply_mask(bw, cytosol_mask)\n",
    "\n",
    "    small_object_max = 3\n",
    "    struct_obj = size_filter_2D(struct_obj, min_size=small_object_max**2, connectivity=1)\n",
    "\n",
    "    return struct_obj\n",
    "\n"
   ]
  },
  {
   "cell_type": "markdown",
   "metadata": {},
   "source": [
    "------------------\n",
    "\n",
    "### TEST `infer_mitochondria` function"
   ]
  },
  {
   "cell_type": "code",
   "execution_count": null,
   "metadata": {},
   "outputs": [],
   "source": [
    "\n",
    "\n",
    "_mito_object =  _infer_mitochondria(img_2D, cytosol_mask) "
   ]
  },
  {
   "cell_type": "code",
   "execution_count": null,
   "metadata": {},
   "outputs": [],
   "source": [
    "from infer_subc_2d.organelles.mitochondria import infer_mitochondria\n",
    "\n",
    "mito_object =  infer_mitochondria(img_2D, cytosol_mask) "
   ]
  },
  {
   "cell_type": "code",
   "execution_count": null,
   "metadata": {},
   "outputs": [],
   "source": [
    "\n",
    "viewer.add_image(\n",
    "    mito_object,\n",
    "    scale=scale\n",
    ")\n"
   ]
  },
  {
   "cell_type": "code",
   "execution_count": null,
   "metadata": {},
   "outputs": [],
   "source": [
    "\n",
    "viewer.add_image(\n",
    "    _mito_object,\n",
    "    scale=scale\n",
    ")\n"
   ]
  },
  {
   "cell_type": "code",
   "execution_count": null,
   "metadata": {},
   "outputs": [],
   "source": [
    "\n",
    "viewer.add_labels(\n",
    "    label(mito_object),\n",
    "    scale=scale\n",
    ")"
   ]
  },
  {
   "cell_type": "code",
   "execution_count": 18,
   "metadata": {},
   "outputs": [
    {
     "data": {
      "image/png": "[encoded data removed]",
      "text/html": [
       "<img src=\"data:image/png;base64,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\"></img>"
      ],
      "text/plain": [
       "<napari.utils.notebook_display.NotebookScreenshot at 0x17f60b190>"
      ]
     },
     "execution_count": 18,
     "metadata": {},
     "output_type": "execute_result"
    }
   ],
   "source": [
    "from napari.utils.notebook_display import nbscreenshot\n",
    "\n",
    "# viewer.dims.ndisplay = 3\n",
    "# viewer.camera.angles = (-30, 25, 120)\n",
    "nbscreenshot(viewer, canvas_only=True)"
   ]
  },
  {
   "cell_type": "markdown",
   "metadata": {},
   "source": [
    "---------------------\n",
    "\n",
    " 🚧 WIP 🚧 (🚨🚨🚨🚨 )\n",
    "\n",
    "# PUTATIVE ALTERNATE WORKFLOW #2 (WIP)\n",
    "as per 6/22 CellProfiler pipeline from MCZ\n",
    " > ADAPTIVE... not sure exactly how to impliment this...\n",
    "\n",
    "  >ReduceNoise performs non-local means noise reduction. Instead of only using a neighborhood of pixels around a central pixel for denoising, such as in GaussianFilter, multiple neighborhoods are pooled together. The neighborhood pool is determined by scanning the image for regions similar to the area around the central pixel using a correlation metric and a cutoff value.\n",
    "   \n",
    "## summary of steps (Workflow #1 & #2)\n",
    "\n",
    "INPUT\n",
    "- ch 3\n",
    "- CY mask\n",
    "\n",
    "PRE-PROCESSING\n",
    "-  non-local noise reduction\n",
    "  - size:4, distance:2, cut-off:0.1\n",
    "\n",
    "CORE-PROCESSING\n",
    "  - adaptive Otsu\n",
    "    - diameter: (2,200)\n",
    "  - two classes\n",
    "    - threshold smoothing scale: 0\n",
    "    - threshold correction factor: .1\n",
    "    - threshold bounds: (0.14 1)\n",
    "    - adaptive window: 20 pixels\n",
    "\n",
    "POST-PROCESSING\n",
    "  - N/A\n",
    "\n",
    "\n",
    "\n"
   ]
  },
  {
   "cell_type": "markdown",
   "metadata": {},
   "source": [
    "### INPUT"
   ]
  },
  {
   "cell_type": "code",
   "execution_count": null,
   "metadata": {},
   "outputs": [],
   "source": [
    "\n",
    "###################\n",
    "# INPUT\n",
    "###################\n",
    "raw_mito    = img_2D[2].copy()\n",
    "\n",
    "# mask object\n",
    "masked_mito = apply_mask(raw_mito,CY_object)\n"
   ]
  },
  {
   "cell_type": "markdown",
   "metadata": {},
   "source": [
    "### PRE-PROCESSING"
   ]
  },
  {
   "cell_type": "code",
   "execution_count": null,
   "metadata": {},
   "outputs": [],
   "source": [
    "###################\n",
    "# PRE_PROCESSING\n",
    "###################\n",
    "\n",
    "intensity_norm_param = [0] # \n",
    "\n",
    "# Linear-ish smoothing\n",
    "raw_mito = intensity_normalization( masked_mito ,  scaling_param=intensity_norm_param)\n",
    "\n",
    "med_filter_size =3  \n",
    "\n",
    "gaussian_smoothing_sigma = 1.3\n",
    "gaussian_smoothing_truncate_range = 3.0\n",
    "\n",
    "struct_img = median_filter(raw_mito,    size=med_filter_size  )\n",
    "\n",
    "structure_img_smooth = image_smoothing_gaussian_slice_by_slice(   struct_img,\n",
    "                                                                                                                        sigma=gaussian_smoothing_sigma,\n",
    "                                                                                                                        truncate_range=gaussian_smoothing_truncate_range,\n",
    "                                                                                                                    )\n",
    "\n",
    "\n",
    "# log_img, d = log_transform( structure_img_smooth ) \n",
    "# struct_img = intensity_normalization(  log_img  ,  scaling_param=[0] )  \n",
    "\n",
    "struct_img = structure_img_smooth"
   ]
  },
  {
   "cell_type": "markdown",
   "metadata": {},
   "source": [
    "### CORE PROCESSING"
   ]
  },
  {
   "cell_type": "code",
   "execution_count": null,
   "metadata": {},
   "outputs": [],
   "source": [
    "###################\n",
    "# CORE_PROCESSING\n",
    "###################\n",
    "# enhance spreckles - 40\n",
    "big_struct_rad = 40\n",
    "big_img = enhance_speckles(struct_img.copy(),big_struct_rad, True)\n",
    "\n",
    "#adaptive_otsu(big_struct) # three class - middle foreground\n",
    "# adaptive window- 20\n",
    "#size: 10,100\n",
    "# threshold smooth 1.34\n",
    "# threshold correction 1\n",
    "# threshold (0.1497,1)\n",
    "#fill holes\n",
    "# \"adatpive\" thresholds are NOT currently working... will use      \n",
    "# \"Masked Object Thresholding\" - 3D\n",
    "low_level_min_size = 10\n",
    "bw_big, _bw_low_level = MO(big_img, \n",
    "                                                global_thresh_method='ave', \n",
    "                                                object_minArea=low_level_min_size, \n",
    "                                                extra_criteria=True,\n",
    "                                                local_adjust= 0.5, \n",
    "                                                return_object=True,\n",
    "                                                dilate=True)"
   ]
  },
  {
   "cell_type": "code",
   "execution_count": null,
   "metadata": {},
   "outputs": [],
   "source": [
    "\n",
    "# enhance speckles\n",
    "#   adaptive_sauvola(sm_struct) \n",
    "# adaptive window- 10\n",
    "#size: 2,10\n",
    "# threshold smooth 1.34\n",
    "# threshold correction 1\n",
    "# threshold (0.05,1)\n",
    "#fill holes\n",
    "\n",
    "# enhance spreckles - 10\n",
    "sm_struct_rad = 20\n",
    "sm_img = enhance_speckles(struct_img.copy(),sm_struct_rad, True)\n",
    "\n",
    "# \"adatpive\" thresholds are NOT currently working... will use      \n",
    "# \"Masked Object Thresholding\" - 3D\n",
    "low_level_min_size = 2\n",
    "bw_sm, _bw_low_level = MO(sm_img, \n",
    "                                                global_thresh_method='ave', \n",
    "                                                object_minArea=low_level_min_size, \n",
    "                                                extra_criteria=True,\n",
    "                                                local_adjust= 0.5, \n",
    "                                                return_object=True,\n",
    "                                                dilate=True)\n",
    " # or this?                                               \n",
    "#    struct_obj = struct_img > filters.threshold_otsu(struct_img)\n",
    "#     threshold_value_log = threshold_otsu_log(struct_img)\n",
    "#     threshold_factor = 0.9 #from cellProfiler\n",
    "#     thresh_min = .1\n",
    "#     thresh_max = 1.\n",
    "#     threshold = min( max(threshold_value_log*threshold_factor, thresh_min), thresh_max)\n",
    "#     struct_obj = struct_img > threshold\n",
    "\n"
   ]
  },
  {
   "cell_type": "markdown",
   "metadata": {},
   "source": [
    "### POST-PROCESSING"
   ]
  },
  {
   "cell_type": "code",
   "execution_count": null,
   "metadata": {},
   "outputs": [],
   "source": [
    "###################\n",
    "# POST_PROCESSING\n",
    "###################\n",
    "\n",
    "\n",
    "# 3D\n",
    "# cleaned_img = remove_small_objects(removed_holes>0, \n",
    "#                                                             min_size=minArea, \n",
    "#                                                             connectivity=1, \n",
    "#                                                             in_place=False)\n",
    "small_object_max = 10\n",
    "cleaned_img_big = size_filter(bw_big, # wrapper to remove_small_objects which can do slice by slice\n",
    "                                                         min_size= small_object_max**2,\n",
    "                                                         method = \"slice_by_slice\",\n",
    "                                                         connectivity=1)\n",
    "\n",
    "\n",
    "#                                                             in_place=False)\n",
    "small_object_max = 2\n",
    "cleaned_img_sm = size_filter(bw_sm, # wrapper to remove_small_objects which can do slice by slice\n",
    "                                                         min_size= small_object_max**2,\n",
    "                                                         method = \"slice_by_slice\",\n",
    "                                                         connectivity=1)\n",
    "\n",
    "\n",
    "\n",
    "cleaned_img = np.logical_or(cleaned_img_big, cleaned_img_sm)\n",
    "\n"
   ]
  },
  {
   "cell_type": "markdown",
   "metadata": {},
   "source": [
    "#### Visualize with `napari`\n",
    "Visualize the first-pass segmentation and labeling with `napari`."
   ]
  },
  {
   "cell_type": "code",
   "execution_count": null,
   "metadata": {},
   "outputs": [],
   "source": [
    "\n",
    "\n",
    "viewer.add_image(\n",
    "    cleaned_img,\n",
    "    scale=scale\n",
    ")\n",
    "\n",
    "viewer.scale_bar.visible = True\n",
    "viewer.add_image(\n",
    "    cleaned_img_big,\n",
    "    scale=scale\n",
    ")\n",
    "\n",
    "viewer.add_image(\n",
    "    big_img,\n",
    "    scale=scale\n",
    ")\n",
    "viewer.add_image(\n",
    "    cleaned_img_big,\n",
    "    scale=scale\n",
    ")\n",
    "viewer.add_image(\n",
    "    sm_img,\n",
    "    scale=scale\n",
    ")"
   ]
  }
 ],
 "metadata": {
  "kernelspec": {
   "display_name": "Python 3.9.13 ('napariNEW')",
   "language": "python",
   "name": "python3"
  },
  "language_info": {
   "codemirror_mode": {
    "name": "ipython",
    "version": 3
   },
   "file_extension": ".py",
   "mimetype": "text/x-python",
   "name": "python",
   "nbconvert_exporter": "python",
   "pygments_lexer": "ipython3",
   "version": "3.9.13"
  },
  "orig_nbformat": 4,
  "vscode": {
   "interpreter": {
    "hash": "d6148ef1fb015fb20f0b6da2ea61c87c6b848bdf3dabb03087e5d5cd0c4607e9"
   }
  }
 },
 "nbformat": 4,
 "nbformat_minor": 2
}
