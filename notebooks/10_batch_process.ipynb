{
 "cells": [
  {
   "cell_type": "markdown",
   "metadata": {},
   "source": [
    "# SCohenLab 2D BATCH Image Processing notebook (Simplified MCZ)\n",
    "\n",
    "--------------\n",
    "# PIPELINE OVERVIEW\n",
    "## ❶ GOAL SETTING ✍\n",
    "\n",
    "### GOAL:  Infer sub-cellular components in order to understand interactome \n",
    "\n",
    "To measure shape, position, size, and interaction of eight organelles/cellular components (Nuclei (NU), Lysosomes (LS),Mitochondria (MT), Golgi (GL), Peroxisomes (PO), Endoplasmic Reticulum (ER), Lipid Droplet (LD), and SOMA) during differentiation of iPSCs, in order to understand the Interactome / Spatiotemporal coordination.\n",
    "\n",
    "### summary of _OBJECTIVES_ ✅\n",
    "- robust inference of subcellular objects:\n",
    "  -  #### 1️⃣. [infer NUCLEI ](./01_infer_nuclei.ipynb) \n",
    "  -  #### 2️⃣. [Infer SOMA](./02_infer_soma.ipynb) (🚨🚨🚨🚨 Steps 3-9 depend on establishing a good solution here.)\n",
    "  -  #### 3️⃣. [Infer CYTOSOL](./03_infer_cytosol.ipynb)\n",
    "  -  #### 4️⃣. [Infer LYSOSOMES](./04_infer_lysosome.ipynb)\n",
    "  -  #### 5️⃣. [Infer MITOCHONDRIA](./05_infer_mitochondria.ipynb)\n",
    "  -  #### 6️⃣. [Infer GOLGI complex](./06_golgi.ipynb)\n",
    "  -  #### 7️⃣. [Infer PEROXISOMES](./07_peroxisome.ipynb)\n",
    "  -  #### 8️⃣. [Infer ENDOPLASMIC RETICULUM ](./08_endoplasmic_reticulum.ipynb)\n",
    "  -  #### 9️⃣. [Infer LB](./09_lipid_bodies.ipynb) \n",
    "\n",
    "\n"
   ]
  },
  {
   "cell_type": "markdown",
   "metadata": {},
   "source": [
    "\n",
    "\n",
    "## ❷ DATA CREATION\n",
    "> METHODS:📚📚\n",
    "> \n",
    "> iPSC lines prepared and visualized on Zeiss Microscopes. 32 channel multispectral images collected.  Linear Unmixing in  ZEN Blue software with target emission spectra yields 8 channel image outputs.  Channels correspond to: Nuclei (NU), Lysosomes (LS),Mitochondria (MT), Golgi (GL), Peroxisomes (PO), Endoplasmic Reticulum (ER), Lipid Droplet (LD), and a “residual” signal.\n",
    "\n",
    "> Meta-DATA 🏺 (artifacts)\n",
    ">   - Microcope settings\n",
    ">  - OME scheme\n",
    "> - Experimenter observations\n",
    "> - Sample, bio-replicate, image numbers, condition values, etc\n",
    ">  - Dates\n",
    ">  - File structure, naming conventions\n",
    ">  - etc.\n",
    "\n",
    "\n"
   ]
  },
  {
   "cell_type": "markdown",
   "metadata": {},
   "source": [
    "\n",
    "## ❸. IMAGE PROCESSING ⚙️🩻🔬\n",
    "### INFERENCE OF SUB-CELLULAR OBJECTS\n",
    "The imported images have already been pre-processed to transform the 32 channel spectral measuremnts into \"linearly unmixed\" images which estimate independently labeled sub-cellular components.  Thes 7 channels (plus a residual \"non-linear\" signal) will be used to infer the shapes and extents of these sub-cellular components.   \n",
    "We will perform computational image analysis on the pictures (in 2D an 3D) to _segment_ the components of interest for measurement.  In other prcoedures we can used these labels as \"ground truth\" labels to train machine learning models to automatically perform the inference of these objects.\n",
    "Pseudo-independent processing of the imported multi-channel image to acheive each of the 9 objecives stated above.  i.e. infering: NUCLEI, SOMA, CYTOSOL, LYSOSOME, MITOCHONDRIA, GOLGI COMPLEX, PEROZISOMES, ENDOPLASMIC RETICULUM, and LIPID BODIES\n",
    "\n",
    "### General flow for infering objects via segmentation\n",
    "- Pre-processing 🌒\n",
    "- Core-processing (thresholding) 🌕\n",
    "- Post-processing  🌘\n",
    "\n",
    "### QC 🚧 WIP 🚧 \n"
   ]
  },
  {
   "cell_type": "markdown",
   "metadata": {},
   "source": [
    "\n",
    "\n",
    "## ❹. QUANTIFICATION 📏📐🧮\n",
    "\n",
    "SUBCELLULAR COMPONENT METRICS\n",
    "-  extent \n",
    "-  size\n",
    "-  shape\n",
    "-  position\n",
    "\n",
    "\n",
    "\n",
    "### NOTE: PIPELINE TOOL AND DESIGN CHOICES?\n",
    "We want to leverage the Allen Cell & Structure Setmenter.  It has been wrapped as a [napari-plugin](https://www.napari-hub.org/plugins/napari-allencell-segmenter) but fore the workflow we are proving out here we will want to call the `aicssegmentation` [package](https://github.com/AllenCell/aics-segmentation) directly.\n",
    "\n",
    "#### ​The Allen Cell & Structure Segmenter \n",
    "​The Allen Cell & Structure Segmenter is a Python-based open source toolkit developed at the Allen Institute for Cell Science for 3D segmentation of intracellular structures in fluorescence microscope images. This toolkit brings together classic image segmentation and iterative deep learning workflows first to generate initial high-quality 3D intracellular structure segmentations and then to easily curate these results to generate the ground truths for building robust and accurate deep learning models. The toolkit takes advantage of the high replicate 3D live cell image data collected at the Allen Institute for Cell Science of over 30 endogenous fluorescently tagged human induced pluripotent stem cell (hiPSC) lines. Each cell line represents a different intracellular structure with one or more distinct localization patterns within undifferentiated hiPS cells and hiPSC-derived cardiomyocytes.\n",
    "\n",
    "More details about Segmenter can be found at https://allencell.org/segmenter\n",
    "In order to leverage the A\n",
    "# IMPORTS\n",
    "\n",
    "import  all nescessary packages\n",
    "\n",
    "we are using `napari` for visualization, and `scipy` `ndimage` and `skimage` for analyzing the image files.  The underlying data format are `numpy` `ndarrays` and tools from  Allen Institute for Cell Science.\n"
   ]
  },
  {
   "cell_type": "code",
   "execution_count": 1,
   "metadata": {},
   "outputs": [],
   "source": [
    "# top level imports\n",
    "from pathlib import Path\n",
    "import os, sys\n",
    "from collections import defaultdict\n",
    "\n",
    "import numpy as np\n",
    "import scipy\n",
    "\n",
    "# TODO:  prune the imports.. this is the big set for almost all organelles\n",
    "# # function for core algorithm\n",
    "from scipy import ndimage as ndi\n",
    "from scipy.ndimage import median_filter\n",
    "import aicssegmentation\n",
    "from aicssegmentation.core.seg_dot import dot_3d_wrapper, dot_slice_by_slice, dot_2d_slice_by_slice_wrapper, dot_3d\n",
    "from aicssegmentation.core.pre_processing_utils import ( intensity_normalization, \n",
    "                                                         image_smoothing_gaussian_3d,  \n",
    "                                                         image_smoothing_gaussian_slice_by_slice, edge_preserving_smoothing_3d )\n",
    "from aicssegmentation.core.utils import topology_preserving_thinning, size_filter\n",
    "from aicssegmentation.core.MO_threshold import MO\n",
    "from aicssegmentation.core.utils import hole_filling\n",
    "from aicssegmentation.core.vessel import filament_2d_wrapper, vesselnessSliceBySlice\n",
    "from aicssegmentation.core.output_utils import   save_segmentation,  generate_segmentation_contour\n",
    "                                                 \n",
    "from skimage import filters\n",
    "from skimage.segmentation import watershed\n",
    "from skimage.feature import peak_local_max\n",
    "from skimage.morphology import remove_small_objects, binary_closing, ball , dilation, remove_small_holes   # function for post-processing (size filter)\n",
    "from skimage.measure import label\n",
    "\n",
    "# # package for io \n",
    "from aicsimageio import AICSImage\n",
    "\n",
    "import napari\n",
    "\n",
    "### import local python functions in ../infer_subc_2d\n",
    "sys.path.append(os.path.abspath((os.path.join(os.getcwd(), '..'))))\n",
    "\n",
    "from infer_subc_2d.utils.file_io import (read_input_image, \n",
    "                                                                    list_image_files, \n",
    "                                                                    export_ome_tiff, \n",
    "                                                                    etree_to_dict, \n",
    "                                                                    save_parameters, \n",
    "                                                                    load_parameters, \n",
    "                                                                    export_ndarray)\n",
    "from infer_subc_2d.utils.img import *\n",
    "from infer_subc_2d.organelles import *\n",
    "\n",
    "from infer_subc_2d.constants import TEST_IMG_N\n",
    "\n",
    "%load_ext autoreload\n",
    "%autoreload 2\n",
    "\n",
    "test_img_n = TEST_IMG_N"
   ]
  },
  {
   "cell_type": "markdown",
   "metadata": {},
   "source": [
    "\n",
    "------------------------\n",
    "# LOAD RAW IMAGE DATA\n",
    "Identify path to _raw_ image data and load our example image\n"
   ]
  },
  {
   "cell_type": "code",
   "execution_count": 2,
   "metadata": {},
   "outputs": [],
   "source": [
    "# build the datapath\n",
    "# all the imaging data goes here.\n",
    "data_root_path = Path(os.path.expanduser(\"~\")) / \"Projects/Imaging/data\"\n",
    "\n",
    "# linearly unmixed \".czi\" files are here\n",
    "data_path = data_root_path / \"raw\"\n",
    "im_type = \".czi\"\n",
    "\n",
    "# get the list of all files\n",
    "img_file_list = list_image_files(data_path,im_type)\n",
    "\n",
    "\n",
    "test_img_name = img_file_list[test_img_n]\n"
   ]
  },
  {
   "cell_type": "code",
   "execution_count": 3,
   "metadata": {},
   "outputs": [
    {
     "name": "stderr",
     "output_type": "stream",
     "text": [
      "/opt/anaconda3/envs/napariNEW/lib/python3.9/site-packages/ome_types/_convenience.py:105: FutureWarning: The default XML parser will be changing from 'xmlschema' to 'lxml' in version 0.4.0.  To silence this warning, please provide the `parser` argument, specifying either 'lxml' (to opt into the new behavior), or'xmlschema' (to retain the old behavior).\n",
      "  d = to_dict(os.fspath(xml), parser=parser, validate=validate)\n"
     ]
    }
   ],
   "source": [
    "\n",
    "bioim_image = read_input_image(test_img_name)\n",
    "img_data = bioim_image.image\n",
    "raw_meta_data = bioim_image.raw_meta\n",
    "ome_types = []\n",
    "meta_dict = bioim_image.meta\n",
    "\n",
    "# get some top-level info about the RAW data\n",
    "channel_names = meta_dict['name']\n",
    "img = meta_dict['metadata']['aicsimage']\n",
    "scale = meta_dict['scale']\n",
    "channel_axis = meta_dict['channel_axis']\n"
   ]
  },
  {
   "cell_type": "markdown",
   "metadata": {},
   "source": [
    "## Get default parameters, including  \"optimal\" Z\n",
    "\n",
    "takes ~ 4 seconds to calculate"
   ]
  },
  {
   "cell_type": "code",
   "execution_count": 8,
   "metadata": {},
   "outputs": [],
   "source": [
    "\n",
    "ch_to_agg = (1,2,3,4,5,6)\n",
    "nuc_ch = 0\n",
    "optimal_Z = find_optimal_Z(img_data, nuc_ch, ch_to_agg) \n",
    "\n",
    "default_params = defaultdict(str, **{\n",
    "    #\"intensity_norm_param\" : [0.5, 15]\n",
    "    \"intensity_norm_param\" : [0],\n",
    "    \"gaussian_smoothing_sigma\" : 1.34,\n",
    "    \"gaussian_smoothing_truncate_range\" : 3.0,\n",
    "    \"dot_2d_sigma\" : 2,\n",
    "    \"dot_2d_sigma_extra\" : 1,\n",
    "    \"dot_2d_cutoff\" : 0.025,\n",
    "    \"min_area\" : 10,\n",
    "    \"low_level_min_size\" :  100,\n",
    "    \"median_filter_size\" : 4,\n",
    "    \"ch_to_agg\" : (1,2,3,4,5,6), # exclude residual\n",
    "    \"nuc_ch\" : 0,\n",
    "    \"optimal_Z\": optimal_Z,\n",
    "})\n",
    "\n",
    "\n",
    "save_parameters(default_params, test_img_name.split(\"/\")[-1], data_root_path / \"intermediate\" )\n",
    "# make sure we have removed Z\n",
    "if len(scale)>2:\n",
    "    scale = scale[1:]\n",
    "\n",
    "\n",
    "img_2D = img_data[:,[optimal_Z],:,:].copy()\n"
   ]
  },
  {
   "cell_type": "code",
   "execution_count": null,
   "metadata": {},
   "outputs": [],
   "source": [
    "#optimal_Z = find_optimal_Z(img_data, nuc_ch, ch_to_agg) \n",
    "img_data.shape"
   ]
  },
  {
   "cell_type": "markdown",
   "metadata": {},
   "source": [
    "## get the inferred nuclei object\n",
    "\n",
    "(takes < 1 sec)"
   ]
  },
  {
   "cell_type": "code",
   "execution_count": null,
   "metadata": {},
   "outputs": [],
   "source": [
    "\n",
    "###################\n",
    "# INPUT NU\n",
    "###################\n",
    "\n",
    "\n",
    "raw_nuclei = img_2D[0].copy()\n",
    "NU_object, NU_label, out_p =  infer_NUCLEI(raw_nuclei.copy(), default_params) \n"
   ]
  },
  {
   "cell_type": "code",
   "execution_count": null,
   "metadata": {},
   "outputs": [],
   "source": [
    "\n",
    "###################\n",
    "# GET SOMA\n",
    "###################\n",
    "\n",
    "raw_soma = (4. * img_2D[1].copy() + \n",
    "                               1. * img_2D[5].copy() + \n",
    "                               1. * img_2D[7].copy() )\n",
    "\n",
    "SO_object, SO_label, out_p =  infer_SOMA(raw_soma.copy(), NU_label, out_p) \n",
    "CY_object =  infer_CYTOSOL(SO_object, NU_object) \n",
    "\n",
    "nuclei  = apply_mask(raw_nuclei, SO_object)\n",
    "NU_object  = apply_mask(NU_object, SO_object)\n"
   ]
  },
  {
   "cell_type": "markdown",
   "metadata": {},
   "source": [
    "Builde the segmentations in order\n",
    "\n",
    "\n"
   ]
  },
  {
   "cell_type": "code",
   "execution_count": null,
   "metadata": {},
   "outputs": [],
   "source": [
    "\n",
    "###################\n",
    "# INPUT LY\n",
    "###################\n",
    "\n",
    "raw_lyso =  img_2D[1].copy()\n",
    "LY_object, out_p =  infer_LYSOSOMES(raw_lyso, CY_object, out_p) "
   ]
  },
  {
   "cell_type": "code",
   "execution_count": null,
   "metadata": {},
   "outputs": [],
   "source": [
    "\n",
    "###################\n",
    "# INPUT MT\n",
    "###################\n",
    "raw_mito    = img_2D[2].copy()\n",
    "\n",
    "MT_object, out_p =  infer_MITOCHONDRIA(raw_mito, CY_object, out_p) \n"
   ]
  },
  {
   "cell_type": "code",
   "execution_count": null,
   "metadata": {},
   "outputs": [],
   "source": [
    "\n",
    "###################\n",
    "# INPUT GOLGI\n",
    "###################\n",
    "raw_golgi    = img_2D[3].copy()\n",
    "\n",
    "GL_object, out_p =  infer_GOLGI(raw_golgi, CY_object, out_p) \n",
    "\n"
   ]
  },
  {
   "cell_type": "code",
   "execution_count": null,
   "metadata": {},
   "outputs": [],
   "source": [
    "\n",
    "###################\n",
    "# INPUT PEROXISOME\n",
    "###################\n",
    "raw_peroxi    = img_2D[4].copy()\n",
    "\n",
    "PO_object, out_p =  infer_PEROXISOME(raw_peroxi, CY_object, out_p) "
   ]
  },
  {
   "cell_type": "code",
   "execution_count": null,
   "metadata": {},
   "outputs": [],
   "source": [
    "\n",
    "###################\n",
    "# INPUT ER\n",
    "###################\n",
    "raw_er  = img_2D[5].copy()\n",
    "\n",
    "ER_object, out_p =  infer_ENDOPLASMIC_RETICULUM(raw_er, CY_object, out_p) \n",
    "\n",
    "\n",
    "###################\n",
    "# INPUT LIPID DRP\n",
    "###################\n",
    "raw_lipid   = img_2D[6].copy()\n",
    "\n",
    "LD_object, out_p =  infer_LIPID_DROPLET(raw_lipid, CY_object, out_p) \n"
   ]
  },
  {
   "cell_type": "markdown",
   "metadata": {},
   "source": [
    "## View"
   ]
  },
  {
   "cell_type": "code",
   "execution_count": null,
   "metadata": {},
   "outputs": [],
   "source": [
    "viewer = napari.Viewer()"
   ]
  },
  {
   "cell_type": "code",
   "execution_count": null,
   "metadata": {},
   "outputs": [],
   "source": [
    "viewer.add_image(\n",
    "    raw_lyso,\n",
    "    scale=scale,\n",
    "    colormap='cyan', \n",
    "    blending='additive'\n",
    ")\n",
    "\n",
    "viewer.add_image(\n",
    "    LY_object,\n",
    "    scale=scale,\n",
    "    blending='additive'\n",
    ")\n",
    "\n",
    "viewer.add_image(\n",
    "    raw_mito,\n",
    "    scale=scale,\n",
    "    colormap='green', \n",
    "    blending='additive'\n",
    ")\n",
    "\n",
    "viewer.add_image(\n",
    "    MT_object,\n",
    "    scale=scale,\n",
    "    blending='additive'\n",
    ")\n",
    "\n",
    "viewer.add_image(\n",
    "    raw_golgi,\n",
    "    scale=scale,\n",
    "    colormap='yellow', \n",
    "    blending='additive'\n",
    ")\n",
    "\n",
    "viewer.add_image(\n",
    "    GL_object,\n",
    "    scale=scale,\n",
    "    blending='additive')\n",
    "\n",
    "viewer.add_image(\n",
    "    raw_peroxi,\n",
    "    scale=scale,\n",
    "    colormap='bop orange', \n",
    "    blending='additive'\n",
    ")\n",
    "\n",
    "viewer.add_image(\n",
    "    PO_object,\n",
    "    scale=scale,\n",
    "    blending='additive')\n",
    "\n",
    "\n",
    "viewer.add_image(\n",
    "    raw_er,\n",
    "    scale=scale,\n",
    "    colormap='red', \n",
    "    blending='additive'\n",
    ")\n",
    "\n",
    "viewer.add_image(\n",
    "    ER_object,\n",
    "    scale=scale,\n",
    "    blending='additive')\n",
    "\n",
    "viewer.add_image(\n",
    "    raw_lipid,\n",
    "    scale=scale,\n",
    "    colormap='red', \n",
    "    blending='additive'\n",
    ")\n",
    "\n",
    "viewer.add_image(\n",
    "    LD_object,\n",
    "    scale=scale,\n",
    "    blending='additive')\n"
   ]
  },
  {
   "cell_type": "code",
   "execution_count": null,
   "metadata": {},
   "outputs": [],
   "source": [
    "viewer.add_labels(\n",
    "    label(ER_object),\n",
    "    scale=scale,\n",
    "    blending='additive')\n"
   ]
  },
  {
   "cell_type": "code",
   "execution_count": null,
   "metadata": {},
   "outputs": [],
   "source": [
    "\n",
    "viewer.add_image(\n",
    "    nuclei,\n",
    "    scale=scale,\n",
    "    colormap='blue', \n",
    "    blending='additive'\n",
    ")\n",
    "\n",
    "viewer.add_image(\n",
    "    NU_object,\n",
    "    scale=scale,\n",
    "    blending='additive')\n"
   ]
  },
  {
   "cell_type": "markdown",
   "metadata": {},
   "source": [
    "\n",
    "There may be a bug where the input images to the \"infer_*\" functions are modified in place and we might need to access them.  _MASKING_ seems to be the problem.  Also need to be clear about _when_ to apply the mask."
   ]
  },
  {
   "cell_type": "code",
   "execution_count": 6,
   "metadata": {},
   "outputs": [],
   "source": [
    "\n",
    "default_params = defaultdict(str, **{\n",
    "    #\"intensity_norm_param\" : [0.5, 15]\n",
    "    \"intensity_norm_param\" : [0],\n",
    "    \"gaussian_smoothing_sigma\" : 1.34,\n",
    "    \"gaussian_smoothing_truncate_range\" : 3.0,\n",
    "    \"dot_2d_sigma\" : 2,\n",
    "    \"dot_2d_sigma_extra\" : 1,\n",
    "    \"dot_2d_cutoff\" : 0.025,\n",
    "    \"min_area\" : 10,\n",
    "    \"low_level_min_size\" :  100,\n",
    "    \"median_filter_size\" : 4,\n",
    "    \"ch_to_agg\" : (1,2,3,4,5,6), # exclude residual\n",
    "    \"nuc_ch\" : 0,\n",
    "})\n",
    "ch_to_agg = (1,2,3,4,5,6)\n",
    "nuc_ch = 0\n"
   ]
  },
  {
   "cell_type": "code",
   "execution_count": null,
   "metadata": {},
   "outputs": [],
   "source": [
    "\n",
    "for i,target_file in enumerate(img_file_list):\n",
    "\n",
    "\n",
    "\n",
    "    bioim_image = read_input_image(target_file)\n",
    "    img_data = bioim_image.image\n",
    "    raw_meta_data = bioim_image.raw_meta\n",
    "    ome_types = []\n",
    "    meta_dict = bioim_image.meta\n",
    "\n",
    "    # get some top-level info about the RAW data\n",
    "    channel_names = meta_dict['name']\n",
    "    img = meta_dict['metadata']['aicsimage']\n",
    "    scale = meta_dict['scale']\n",
    "    channel_axis = meta_dict['channel_axis']\n",
    "\n",
    "    optimal_Z = find_optimal_Z(img_data, nuc_ch, ch_to_agg) \n",
    "\n",
    "    # make sure we have removed Z\n",
    "    if len(scale)>2:\n",
    "        scale = scale[1:]\n",
    "\n",
    "    img_2D = img_data[:,[optimal_Z],:,:].copy()\n",
    "\n",
    "    raw_nuclei = img_2D[0].copy()\n",
    "    NU_object, NU_label, out_p =  infer_NUCLEI(raw_nuclei.copy(), default_params) \n",
    "\n",
    "    raw_soma = (4. * img_2D[1].copy() + \n",
    "                                1. * img_2D[5].copy() + \n",
    "                                1. * img_2D[7].copy() )\n",
    "\n",
    "    SO_object, SO_label, out_p =  infer_SOMA(raw_soma.copy(), NU_label, out_p) \n",
    "    CY_object =  infer_CYTOSOL(SO_object, NU_object) \n",
    "\n",
    "\n",
    "    nuclei  = apply_mask(raw_nuclei, SO_object)\n",
    "    NU_object  = apply_mask(NU_object, SO_object)\n",
    "\n",
    "\n",
    "    raw_lyso =  img_2D[1].copy()\n",
    "    LY_object, out_p =  infer_LYSOSOMES(raw_lyso, CY_object, out_p) \n",
    "\n",
    "    raw_mito    = img_2D[2].copy()\n",
    "    MT_object, out_p =  infer_MITOCHONDRIA(raw_mito, CY_object, out_p) \n",
    "\n",
    "    raw_golgi    = img_2D[3].copy()\n",
    "    GL_object, out_p =  infer_GOLGI(raw_golgi, CY_object, out_p) \n",
    "\n",
    "    raw_peroxi    = img_2D[4].copy()\n",
    "    PO_object, out_p =  infer_PEROXISOME(raw_peroxi, CY_object, out_p) \n",
    "\n",
    "    raw_er  = img_2D[5].copy()\n",
    "    ER_object, out_p =  infer_ENDOPLASMIC_RETICULUM(raw_er, CY_object, out_p) \n",
    "\n",
    "    raw_lipid   = img_2D[6].copy()\n",
    "    LD_object, out_p =  infer_LIPID_DROPLET(raw_lipid, CY_object, out_p) \n",
    "\n",
    "    img_layers = [NU_object,\n",
    "                            LY_object,\n",
    "                            GL_object,\n",
    "                            PO_object,\n",
    "                            ER_object,\n",
    "                            LD_object,\n",
    "                            CY_object,\n",
    "                            SO_object]\n",
    "    layer_names = [\"nuclei\",\"lysosome\",\"golgi\",\"peroxisome\",\"er\",\"lipid_drop\",\"cytosol_mask\",'soma_mask']\n",
    "\n",
    "    img_out = np.stack(img_layers, axis = 0)\n",
    "\n",
    "    # add params to metadata\n",
    "\n",
    "    out_path = data_root_path / \"inferred_objects\" \n",
    "    img_name = 'binarized_' + target_file.split(\"/\")[-1].split(\".\")[0]\n",
    "\n",
    "    out_file_n = export_ome_tiff(img_out, meta_dict, img_name, str(out_path)+\"/\", layer_names)\n",
    "    print(f\"saved file: {out_file_n}\")\n",
    "\n",
    "\n"
   ]
  },
  {
   "cell_type": "code",
   "execution_count": 10,
   "metadata": {},
   "outputs": [
    {
     "data": {
      "text/plain": [
       "(65535, 1.0, 65535)"
      ]
     },
     "execution_count": 10,
     "metadata": {},
     "output_type": "execute_result"
    }
   ],
   "source": [
    "\n",
    "\n",
    "test_img = img_data.copy()\n",
    "test_im2 = simple_intensity_normalization(test_img)\n",
    "\n",
    "test_img.max(), test_im2.max(), img_data.max()\n"
   ]
  },
  {
   "cell_type": "code",
   "execution_count": 16,
   "metadata": {},
   "outputs": [
    {
     "name": "stdout",
     "output_type": "stream",
     "text": [
      "intensity normalization: min-max normalization with NO absoluteintensity upper bound\n",
      "intensity normalization: min-max normalization with NO absoluteintensity upper bound\n",
      "intensity normalization: min-max normalization with NO absoluteintensity upper bound\n",
      "intensity normalization: min-max normalization with NO absoluteintensity upper bound\n",
      "intensity normalization: min-max normalization with NO absoluteintensity upper bound\n",
      "intensity normalization: min-max normalization with NO absoluteintensity upper bound\n",
      "intensity normalization: min-max normalization with NO absoluteintensity upper bound\n",
      "intensity normalization: min-max normalization with NO absoluteintensity upper bound\n",
      "intensity normalization: min-max normalization with NO absoluteintensity upper bound\n",
      "['binarized_ZSTACK_PBTOhNGN2hiPSCs_BR3_N08_Unmixed']\n",
      "saved file: /Users/ahenrie/Projects/Imaging/data/inferred_objects/binarized_ZSTACK_PBTOhNGN2hiPSCs_BR3_N08_Unmixed.ome.tiff\n"
     ]
    }
   ],
   "source": [
    "\n",
    "\n",
    "target_file = img_file_list[0]\n",
    "##########\n",
    "# IMPORT\n",
    "##########\n",
    "\n",
    "def  _import_czi_file(target_file):\n",
    "    bioim_image = read_input_image(target_file)\n",
    "    img_data = bioim_image.image\n",
    "    raw_meta_data = bioim_image.raw_meta\n",
    "    ome_types = []\n",
    "    meta_dict = bioim_image.meta\n",
    "    return (img_data, meta_dict)\n",
    "\n",
    "img_data,meta_dict = _import_czi_file(target_file)\n",
    "###########\n",
    "# Choose Z\n",
    "##########\n",
    "optimal_Z = find_optimal_Z(img_data, nuc_ch, ch_to_agg) \n",
    "\n",
    "    # make sure we have removed Z\n",
    "\n",
    "def _raw_soma_MCZ(img_in):\n",
    "    \"\"\" define soma image\n",
    "    \"\"\"\n",
    "    SOMA_W = (4.,1.,1.)\n",
    "    SOMA_CH = (1,5,7) #LYSO, ER, RESIDUAL\n",
    "    img_out = np.zeros_like(img_in[0]).astype(np.double)\n",
    "    for w,ch in zip(SOMA_W,SOMA_CH):\n",
    "        img_out += w*img_in[ch]\n",
    "    return img_out\n",
    "\n",
    "\n",
    "###########\n",
    "# infer organelles\n",
    "##########\n",
    "def _infer_organelles(img_data, optimal_Z, default_params):\n",
    "    NUC_ch = 1\n",
    "    LYSO_ch = 1\n",
    "    MITO_ch = 2\n",
    "    GOLGI_ch = 3\n",
    "    PEROXI_ch = 4\n",
    "    ER_ch = 5\n",
    "    LIPID_ch = 6\n",
    "\n",
    "    # Stage 1:  nuclei, soma, cytosol\n",
    "    img_2D = img_data[:,[optimal_Z],:,:].copy()\n",
    "\n",
    "    raw_nuclei = img_2D[NUC_ch].copy()\n",
    "    NU_object, NU_label, out_p =  infer_NUCLEI(raw_nuclei, default_params) \n",
    "\n",
    "    raw_soma = _raw_soma_MCZ(img_2D)\n",
    "\n",
    "    SO_object, SO_label, out_p =  infer_SOMA(raw_soma, NU_label, out_p) \n",
    "    CY_object =  infer_CYTOSOL(SO_object, NU_object) \n",
    "\n",
    "\n",
    "    #nuclei  = apply_mask(raw_nuclei, SO_object)\n",
    "    NU_object  = apply_mask(NU_object, SO_object)\n",
    "\n",
    "\n",
    "    # stage 2:  lysosomes, mitochondria, golgi, perosisomes, er, lipid bodies.\n",
    "    raw_lyso =  img_2D[LYSO_ch].copy()\n",
    "    LY_object, out_p =  infer_LYSOSOMES(raw_lyso, CY_object, out_p) \n",
    "\n",
    "    raw_mito    = img_2D[MITO_ch].copy()\n",
    "    MT_object, out_p =  infer_MITOCHONDRIA(raw_mito, CY_object, out_p) \n",
    "\n",
    "    raw_golgi    = img_2D[GOLGI_ch].copy()\n",
    "    GL_object, out_p =  infer_GOLGI(raw_golgi, CY_object, out_p) \n",
    "\n",
    "    raw_peroxi    = img_2D[PEROXI_ch].copy()\n",
    "    PO_object, out_p =  infer_PEROXISOME(raw_peroxi, CY_object, out_p) \n",
    "\n",
    "    raw_er  = img_2D[ER_ch].copy()\n",
    "    ER_object, out_p =  infer_ENDOPLASMIC_RETICULUM(raw_er, CY_object, out_p) \n",
    "\n",
    "    raw_lipid   = img_2D[LIPID_ch].copy()\n",
    "    LD_object, out_p =  infer_LIPID_DROPLET(raw_lipid, CY_object, out_p) \n",
    "\n",
    "    img_layers = [NU_object,\n",
    "                            LY_object,\n",
    "                            GL_object,\n",
    "                            PO_object,\n",
    "                            ER_object,\n",
    "                            LD_object,\n",
    "                            CY_object,\n",
    "                            SO_object]\n",
    "                            \n",
    "    layer_names = [\"nuclei\",\"lysosome\",\"golgi\",\"peroxisome\",\"er\",\"lipid_drop\",\"cytosol_mask\",'soma_mask']\n",
    "\n",
    "    img_out = np.stack(img_layers, axis = 0)\n",
    "    return (img_out, layer_names, out_p)\n",
    "\n",
    "\n",
    "inferred_organelles, layer_names, updated_params = _infer_organelles(img_data, optimal_Z, default_params)\n",
    "\n",
    "##################\n",
    "# export\n",
    "##################\n",
    "\n",
    "def _export_infer_organelles(img_out, layer_names, meta_dict):\n",
    "       # get some top-level info about the RAW data\n",
    "    channel_names = meta_dict['name']\n",
    "    img = meta_dict['metadata']['aicsimage']\n",
    "    scale = meta_dict['scale']\n",
    "    channel_axis = meta_dict['channel_axis']\n",
    "    if len(scale)>2:\n",
    "        scale = scale[1:]\n",
    "\n",
    "\n",
    "\n",
    "    # add params to metadata\n",
    "\n",
    "    out_path = data_root_path / \"inferred_objects\" \n",
    "    img_name = 'binarized_' + target_file.split(\"/\")[-1].split(\".\")[0]\n",
    "\n",
    "    out_file_n = export_ome_tiff(img_out, meta_dict, img_name, str(out_path)+\"/\", layer_names)\n",
    "    print(f\"saved file: {out_file_n}\")\n",
    "    return out_file_n\n",
    "\n",
    "out_file_n = _export_infer_organelles(inferred_organelles, layer_names, meta_dict)\n",
    "\n"
   ]
  },
  {
   "cell_type": "code",
   "execution_count": 17,
   "metadata": {},
   "outputs": [
    {
     "data": {
      "text/plain": [
       "'/Users/ahenrie/Projects/Imaging/data/inferred_objects/binarized_ZSTACK_PBTOhNGN2hiPSCs_BR3_N08_Unmixed.ome.tiff'"
      ]
     },
     "execution_count": 17,
     "metadata": {},
     "output_type": "execute_result"
    }
   ],
   "source": [
    "out_file_n"
   ]
  },
  {
   "cell_type": "code",
   "execution_count": 12,
   "metadata": {},
   "outputs": [
    {
     "name": "stderr",
     "output_type": "stream",
     "text": [
      "/opt/anaconda3/envs/napariNEW/lib/python3.9/site-packages/ome_types/_convenience.py:105: FutureWarning: The default XML parser will be changing from 'xmlschema' to 'lxml' in version 0.4.0.  To silence this warning, please provide the `parser` argument, specifying either 'lxml' (to opt into the new behavior), or'xmlschema' (to retain the old behavior).\n",
      "  d = to_dict(os.fspath(xml), parser=parser, validate=validate)\n"
     ]
    },
    {
     "name": "stdout",
     "output_type": "stream",
     "text": [
      "intensity normalization: min-max normalization with NO absoluteintensity upper bound\n"
     ]
    }
   ],
   "source": [
    "\n",
    "\n",
    "target_file = img_file_list[0]\n",
    "##########\n",
    "# IMPORT\n",
    "##########\n",
    "\n",
    "def  _import_czi_file(target_file):\n",
    "    bioim_image = read_input_image(target_file)\n",
    "    img_data = bioim_image.image\n",
    "    raw_meta_data = bioim_image.raw_meta\n",
    "    ome_types = []\n",
    "    meta_dict = bioim_image.meta\n",
    "    return (img_data, meta_dict)\n",
    "\n",
    "img_data,meta_dict = _import_czi_file(target_file)\n",
    "###########\n",
    "# Choose Z\n",
    "##########\n",
    "optimal_Z = find_optimal_Z(img_data, nuc_ch, ch_to_agg) \n",
    "\n",
    "    # make sure we have removed Z\n",
    "\n",
    "\n",
    "def _raw_soma_MCZ(img_in):\n",
    "    \"\"\" define soma image\n",
    "    \"\"\"\n",
    "    SOMA_W = (4.,1.,1.)\n",
    "    SOMA_CH = (1,5,7) #LYSO, ER, RESIDUAL\n",
    "    img_out = np.zeros_like(img_in[0]).astype(np.double)\n",
    "    for w,ch in zip(SOMA_W,SOMA_CH):\n",
    "        img_out += w*img_in[ch]\n",
    "    return img_out\n",
    "\n",
    "\n",
    "NUC_ch = 0\n",
    "LYSO_ch = 1\n",
    "MITO_ch = 2\n",
    "GOLGI_ch = 3\n",
    "PEROXI_ch = 4\n",
    "ER_ch = 5\n",
    "LIPID_ch = 6\n",
    "\n",
    "# Stage 1:  nuclei, soma, cytosol\n",
    "img_2D = img_data[:,[optimal_Z],:,:].copy()\n",
    "\n",
    "raw_nuclei = img_2D[NUC_ch].copy()\n",
    "NU_object, NU_label, out_p =  infer_NUCLEI(raw_nuclei, default_params) \n"
   ]
  },
  {
   "cell_type": "code",
   "execution_count": 13,
   "metadata": {},
   "outputs": [],
   "source": [
    "\n",
    "raw_soma = _raw_soma_MCZ(img_2D)\n"
   ]
  },
  {
   "cell_type": "code",
   "execution_count": 15,
   "metadata": {},
   "outputs": [
    {
     "name": "stdout",
     "output_type": "stream",
     "text": [
      "intensity normalization: min-max normalization with NO absoluteintensity upper bound\n",
      "intensity normalization: min-max normalization with NO absoluteintensity upper bound\n",
      "intensity normalization: min-max normalization with NO absoluteintensity upper bound\n"
     ]
    }
   ],
   "source": [
    "\n",
    "SO_object, SO_label, out_p =  infer_SOMA(raw_soma, NU_label, out_p) \n"
   ]
  },
  {
   "cell_type": "code",
   "execution_count": 10,
   "metadata": {},
   "outputs": [
    {
     "data": {
      "text/plain": [
       "(8, 1, 768, 768)"
      ]
     },
     "execution_count": 10,
     "metadata": {},
     "output_type": "execute_result"
    }
   ],
   "source": [
    "raw_soma.shape"
   ]
  },
  {
   "cell_type": "code",
   "execution_count": 20,
   "metadata": {},
   "outputs": [
    {
     "name": "stdout",
     "output_type": "stream",
     "text": [
      "intensity normalization: min-max normalization with NO absoluteintensity upper bound\n"
     ]
    }
   ],
   "source": [
    "in_img = raw_soma\n",
    "\n",
    "out_p = out_p.copy()\n",
    "struct_img = in_img.copy()\n",
    "###################\n",
    "# PRE_PROCESSING\n",
    "###################\n",
    "\n",
    "# TODO: replace params below with the input params\n",
    "scaling_param = [0]\n",
    "struct_img = intensity_normalization(struct_img, scaling_param=scaling_param)\n",
    "out_p[\"intensity_norm_param\"] = scaling_param\n",
    "\n",
    "# make a copy for post-post processing\n",
    "scaled_signal = struct_img.copy()\n",
    "\n",
    "# Linear-ish processing\n",
    "med_filter_size = 15\n",
    "# structure_img_median_3D = ndi.median_filter(struct_img,    size=med_filter_size  )\n",
    "#struct_img = median_filter_slice_by_slice(struct_img, size=med_filter_size)\n",
    "struct_img = median_filter(struct_img.squeeze(), size=med_filter_size)[np.newaxis,:,:]\n"
   ]
  },
  {
   "cell_type": "code",
   "execution_count": null,
   "metadata": {},
   "outputs": [],
   "source": [
    "\n",
    "out_p[\"median_filter_size\"] = med_filter_size\n",
    "gaussian_smoothing_sigma = 1.0\n",
    "gaussian_smoothing_truncate_range = 3.0\n",
    "struct_img = image_smoothing_gaussian_slice_by_slice(\n",
    "    struct_img, sigma=gaussian_smoothing_sigma, truncate_range=gaussian_smoothing_truncate_range\n",
    ")\n",
    "out_p[\"gaussian_smoothing_sigma\"] = gaussian_smoothing_sigma\n",
    "out_p[\"gaussian_smoothing_truncate_range\"] = gaussian_smoothing_truncate_range\n",
    "\n",
    "# non-Linear processing\n",
    "log_img, d = log_transform(struct_img)\n",
    "log_img = intensity_normalization(log_img, scaling_param=[0])\n",
    "\n",
    "struct_img = intensity_normalization(scharr(log_img), scaling_param=[0]) + log_img\n",
    "\n",
    "###################\n",
    "# CORE_PROCESSING\n",
    "###################\n",
    "local_adjust = 0.5\n",
    "low_level_min_size = 100\n",
    "# \"Masked Object Thresholding\" - 3D\n",
    "struct_obj, _bw_low_level = MO(\n",
    "    struct_img,\n",
    "    global_thresh_method=\"ave\",\n",
    "    object_minArea=low_level_min_size,\n",
    "    extra_criteria=True,\n",
    "    local_adjust=local_adjust,\n",
    "    return_object=True,\n",
    "    dilate=True,\n",
    ")\n",
    "\n",
    "out_p[\"local_adjust\"] = local_adjust\n",
    "out_p[\"low_level_min_size\"] = low_level_min_size\n",
    "\n",
    "###################\n",
    "# POST_PROCESSING\n",
    "###################\n",
    "\n",
    "# 2D\n",
    "hole_max = 80\n",
    "struct_obj = hole_filling(struct_obj, hole_min=0.0, hole_max=hole_max**2, fill_2d=True)\n",
    "out_p[\"hole_max\"] = hole_max\n",
    "\n",
    "small_object_max = 35\n",
    "struct_obj = size_filter(\n",
    "    struct_obj,  # wrapper to remove_small_objects which can do slice by slice\n",
    "    min_size=small_object_max**3,\n",
    "    method=\"slice_by_slice\",\n",
    "    connectivity=1,\n",
    ")\n",
    "out_p[\"small_object_max\"] = small_object_max\n",
    "\n",
    "labels_out = watershed(\n",
    "    connectivity=np.ones((3, 3, 3), bool),\n",
    "    image=1.0 - struct_img,\n",
    "    markers=NU_labels,\n",
    "    mask=np.logical_or(struct_obj, NU_labels > 0),\n",
    ")\n",
    "###################\n",
    "# POST- POST_PROCESSING\n",
    "###################\n",
    "# keep the \"SOMA\" label which contains the highest total signal\n",
    "all_labels = np.unique(labels_out)[1:]\n",
    "\n",
    "total_signal = [scaled_signal[labels_out == label].sum() for label in all_labels]\n",
    "# combine NU and \"labels\" to make a SOMA\n",
    "keep_label = all_labels[np.argmax(total_signal)]\n",
    "\n",
    "# now use all the NU labels which AREN't keep_label and add to mask and re-label\n",
    "masked_composite_soma = struct_img.copy()\n",
    "new_NU_mask = np.logical_and(NU_labels != 0, NU_labels != keep_label)\n",
    "\n",
    "# \"Masked Object Thresholding\" - 3D\n",
    "masked_composite_soma[new_NU_mask] = 0\n",
    "struct_obj, _bw_low_level = MO(\n",
    "    masked_composite_soma,\n",
    "    global_thresh_method=\"ave\",\n",
    "    object_minArea=low_level_min_size,\n",
    "    extra_criteria=True,\n",
    "    local_adjust=local_adjust,\n",
    "    return_object=True,\n",
    "    dilate=True,\n",
    ")\n",
    "\n",
    "struct_obj = hole_filling(struct_obj, hole_min=0.0, hole_max=hole_max**2, fill_2d=True)\n",
    "struct_obj = size_filter(\n",
    "    struct_obj,  # wrapper to remove_small_objects which can do slice by slice\n",
    "    min_size=small_object_max**3,\n",
    "    method=\"slice_by_slice\",\n",
    "    connectivity=1,\n",
    ")\n",
    "masked_labels_out = watershed(\n",
    "    connectivity=np.ones((3, 3, 3), bool),\n",
    "    image=1.0 - struct_img,\n",
    "    markers=NU_labels,\n",
    "    mask=np.logical_or(struct_obj, NU_labels == keep_label),\n",
    ")\n",
    "\n",
    "retval = (struct_obj, masked_labels_out, out_p)\n"
   ]
  },
  {
   "cell_type": "code",
   "execution_count": null,
   "metadata": {},
   "outputs": [],
   "source": [
    "\n",
    "CY_object =  infer_CYTOSOL(SO_object, NU_object) \n",
    "\n"
   ]
  },
  {
   "cell_type": "code",
   "execution_count": null,
   "metadata": {},
   "outputs": [],
   "source": [
    "\n",
    "#nuclei  = apply_mask(raw_nuclei, SO_object)\n",
    "NU_object  = apply_mask(NU_object, SO_object)\n",
    "\n",
    "\n",
    "# stage 2:  lysosomes, mitochondria, golgi, perosisomes, er, lipid bodies.\n",
    "raw_lyso =  img_2D[LYSO_ch].copy()\n",
    "LY_object, out_p =  infer_LYSOSOMES(raw_lyso, CY_object, out_p) \n",
    "\n",
    "raw_mito    = img_2D[MITO_ch].copy()\n",
    "MT_object, out_p =  infer_MITOCHONDRIA(raw_mito, CY_object, out_p) \n",
    "\n",
    "raw_golgi    = img_2D[GOLGI_ch].copy()\n",
    "GL_object, out_p =  infer_GOLGI(raw_golgi, CY_object, out_p) \n",
    "\n",
    "raw_peroxi    = img_2D[PEROXI_ch].copy()\n",
    "PO_object, out_p =  infer_PEROXISOME(raw_peroxi, CY_object, out_p) \n",
    "\n",
    "raw_er  = img_2D[ER_ch].copy()\n",
    "ER_object, out_p =  infer_ENDOPLASMIC_RETICULUM(raw_er, CY_object, out_p) \n",
    "\n",
    "raw_lipid   = img_2D[LIPID_ch].copy()\n",
    "LD_object, out_p =  infer_LIPID_DROPLET(raw_lipid, CY_object, out_p) \n",
    "\n",
    "img_layers = [NU_object,\n",
    "                        LY_object,\n",
    "                        GL_object,\n",
    "                        PO_object,\n",
    "                        ER_object,\n",
    "                        LD_object,\n",
    "                        CY_object,\n",
    "                        SO_object]\n",
    "                        \n",
    "layer_names = [\"nuclei\",\"lysosome\",\"golgi\",\"peroxisome\",\"er\",\"lipid_drop\",\"cytosol_mask\",'soma_mask']\n",
    "\n",
    "img_out = np.stack(img_layers, axis = 0)"
   ]
  },
  {
   "cell_type": "code",
   "execution_count": null,
   "metadata": {},
   "outputs": [],
   "source": [
    "target_file"
   ]
  },
  {
   "cell_type": "code",
   "execution_count": null,
   "metadata": {},
   "outputs": [],
   "source": [
    "img_out.shape, len(layer_names), data_path"
   ]
  },
  {
   "cell_type": "code",
   "execution_count": null,
   "metadata": {},
   "outputs": [],
   "source": [
    "out_path = data_root_path / \"inferred_objects\" \n",
    "img_name = 'binarized_' + target_file.split(\"/\")[-1].split(\".\")[0]\n",
    "\n",
    "out_file_n = export_ome_tiff(img_out, meta_dict, img_name, str(out_path)+\"/\", layer_names)\n",
    "\n",
    "\n"
   ]
  },
  {
   "cell_type": "code",
   "execution_count": null,
   "metadata": {},
   "outputs": [],
   "source": [
    "from aicsimageio.writers import OmeTiffWriter\n",
    "data_in = img_out\n",
    "channel_names = [layer_names]\n",
    "image_names = [img_name]\n",
    "print(image_names)\n",
    "# chan_names = meta_in['metadata']['aicsimage'].channel_names\n",
    "dimension_order = [\"CZYX\"]\n",
    "\n",
    "num_images = len(  [data_in.shape])\n",
    "if data_in.dtype == \"bool\":\n",
    "    data_in = data_in.astype(np.uint8)\n",
    "    data_in[data_in > 0] = 255\n",
    "\n",
    "physical_pixel_sizes = [meta_dict[\"metadata\"][\"aicsimage\"].physical_pixel_sizes]\n",
    "out_ome = OmeTiffWriter.build_ome(\n",
    "        [data_in.shape],\n",
    "        [data_in.dtype],\n",
    "        channel_names=channel_names,  # type: ignore\n",
    "        image_name=image_names,\n",
    "        physical_pixel_sizes=physical_pixel_sizes,\n",
    "        dimension_order=dimension_order,\n",
    "    )"
   ]
  },
  {
   "cell_type": "code",
   "execution_count": null,
   "metadata": {},
   "outputs": [],
   "source": [
    "out_ome.images.append()"
   ]
  },
  {
   "cell_type": "code",
   "execution_count": null,
   "metadata": {},
   "outputs": [],
   "source": [
    "raw_golgi2    = img_2D[3].copy()\n",
    "\n",
    "viewer.add_image(\n",
    "    raw_golgi2,\n",
    "    scale=scale,\n",
    "    colormap='yellow', \n",
    "    blending='additive'\n",
    ")\n"
   ]
  },
  {
   "cell_type": "code",
   "execution_count": null,
   "metadata": {},
   "outputs": [],
   "source": [
    "CY_object.sum()"
   ]
  },
  {
   "cell_type": "code",
   "execution_count": null,
   "metadata": {},
   "outputs": [],
   "source": [
    "viewer.add_image(img_out,\n",
    "channel_axis = 0,\n",
    "name = layer_names)"
   ]
  },
  {
   "cell_type": "code",
   "execution_count": null,
   "metadata": {},
   "outputs": [],
   "source": [
    "viewer.add_image(img_data,\n",
    "channel_axis = 0)"
   ]
  },
  {
   "cell_type": "code",
   "execution_count": null,
   "metadata": {},
   "outputs": [],
   "source": [
    "napari.view_image(img_data)"
   ]
  },
  {
   "cell_type": "code",
   "execution_count": null,
   "metadata": {},
   "outputs": [],
   "source": []
  }
 ],
 "metadata": {
  "kernelspec": {
   "display_name": "Python 3.9.13 ('napariNEW')",
   "language": "python",
   "name": "python3"
  },
  "language_info": {
   "codemirror_mode": {
    "name": "ipython",
    "version": 3
   },
   "file_extension": ".py",
   "mimetype": "text/x-python",
   "name": "python",
   "nbconvert_exporter": "python",
   "pygments_lexer": "ipython3",
   "version": "3.9.13"
  },
  "orig_nbformat": 4,
  "vscode": {
   "interpreter": {
    "hash": "d6148ef1fb015fb20f0b6da2ea61c87c6b848bdf3dabb03087e5d5cd0c4607e9"
   }
  }
 },
 "nbformat": 4,
 "nbformat_minor": 2
}
