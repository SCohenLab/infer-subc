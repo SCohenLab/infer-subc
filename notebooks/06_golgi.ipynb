{
 "cells": [
  {
   "cell_type": "markdown",
   "metadata": {},
   "source": [
    "# Infer ***golgi*** - part 6️⃣\n",
    "\n",
    "--------------\n",
    "\n",
    "## OBJECTIVE:  ✅ Infer sub-cellular component ***golgi complex***  in order to understand interactome \n",
    "\n",
    "\n",
    "\n",
    "Dependencies:\n",
    "The ***golgi***  inference rely on the **cytosol** mask. "
   ]
  },
  {
   "cell_type": "markdown",
   "metadata": {},
   "source": [
    "\n",
    "## IMPORTS"
   ]
  },
  {
   "cell_type": "code",
   "execution_count": 2,
   "metadata": {},
   "outputs": [
    {
     "name": "stdout",
     "output_type": "stream",
     "text": [
      "The autoreload extension is already loaded. To reload it, use:\n",
      "  %reload_ext autoreload\n"
     ]
    }
   ],
   "source": [
    "# top level imports\n",
    "from pathlib import Path\n",
    "import os, sys\n",
    "from collections import defaultdict\n",
    "\n",
    "import numpy as np\n",
    "import scipy\n",
    "\n",
    "# TODO:  prune the imports.. this is the big set for almost all organelles\n",
    "# # function for core algorithm\n",
    "from scipy import ndimage as ndi\n",
    "import aicssegmentation\n",
    "from aicssegmentation.core.seg_dot import dot_3d_wrapper, dot_slice_by_slice, dot_2d_slice_by_slice_wrapper, dot_3d\n",
    "from aicssegmentation.core.pre_processing_utils import ( intensity_normalization, \n",
    "                                                         image_smoothing_gaussian_3d,  \n",
    "                                                         image_smoothing_gaussian_slice_by_slice )\n",
    "from aicssegmentation.core.utils import topology_preserving_thinning, size_filter\n",
    "from aicssegmentation.core.MO_threshold import MO\n",
    "from aicssegmentation.core.utils import hole_filling\n",
    "from aicssegmentation.core.vessel import filament_2d_wrapper, vesselnessSliceBySlice\n",
    "from aicssegmentation.core.output_utils import   save_segmentation,  generate_segmentation_contour\n",
    "                                                 \n",
    "from skimage import filters\n",
    "from skimage.segmentation import watershed\n",
    "from skimage.feature import peak_local_max\n",
    "from skimage.morphology import remove_small_objects, binary_closing, ball , dilation, remove_small_holes   # function for post-processing (size filter)\n",
    "from skimage.measure import label\n",
    "\n",
    "# # package for io \n",
    "from aicsimageio import AICSImage\n",
    "\n",
    "import napari\n",
    "\n",
    "### import local python functions in ../infer_subc_2d\n",
    "sys.path.append(os.path.abspath((os.path.join(os.getcwd(), '..'))))\n",
    "from infer_subc_2d.utils.file_io import (read_czi_image, \n",
    "                                                                    list_image_files, \n",
    "                                                                    export_ome_tiff, \n",
    "                                                                    etree_to_dict, \n",
    "                                                                    save_parameters, \n",
    "                                                                    load_parameters, \n",
    "                                                                    export_ndarray)\n",
    "from infer_subc_2d.utils.img import *\n",
    "from infer_subc_2d.constants import (TEST_IMG_N,\n",
    "                                                                    NUC_CH ,\n",
    "                                                                    LYSO_CH ,\n",
    "                                                                    MITO_CH ,\n",
    "                                                                    GOLGI_CH ,\n",
    "                                                                    PEROXI_CH ,\n",
    "                                                                    ER_CH ,\n",
    "                                                                    LIPID_CH ,\n",
    "                                                                    RESIDUAL_CH )        \n",
    "from infer_subc_2d.organelles.soma import infer_soma\n",
    "from infer_subc_2d.organelles.nuclei import infer_nuclei\n",
    "from infer_subc_2d.organelles.cytosol import infer_cytosol\n",
    "\n",
    "%load_ext autoreload\n",
    "%autoreload 2\n",
    "\n",
    "test_img_n = 5"
   ]
  },
  {
   "cell_type": "markdown",
   "metadata": {},
   "source": [
    "# IMAGE PROCESSING Objective 6:  infer ***golgi complex***\n",
    "> Back to  [OUTLINE: Objective #6](00_pipeline_setup.ipynb#summary-of-objectives)\n",
    "\n",
    "## summary & steps\n",
    "\n",
    "Generally following the Allen Cell Segmenter procedure, but doing more aggressive contrast scaling than their prescribed contrast scaling.\n",
    "\n",
    "> As per the Allen Cell segmenter sialyltransferase 1 (ST6GAL1) a potential Golgi segmenter. e.g. [Allen Cell](https://www.allencell.org/cell-observations/category/golgi-apparatus).    using [seg_st6gal1.py](\"../../../../aics-segmentation/aicssegmentation/structure_wrapper/seg_st6gal1.py\") and [playground_st6gal1.ipynb](\"../../../../aics-segmentation/lookup_table_demo/playground_st6gal1.ipynb\")\n",
    "\n",
    "### steps \n",
    "\n",
    "INPUT\n",
    "- ch 4\n",
    "- cytosol mask\n",
    "\n",
    "PRE-PROCESSING\n",
    "-   non-local noise reduction\n",
    "  - size:4, distance:2, cut-off:0.1\n",
    "\n",
    "CORE-PROCESSING\n",
    "- adaptive Otsu\n",
    "    - diameter: (4,100)\n",
    "  - two classes\n",
    "    - threshold smoothing scale: 1.34\n",
    "    - threshold correction factor: .75\n",
    "    - threshold bounds: (0.14, 1)\n",
    "    - adaptive window: 20 pixels\n",
    "\n",
    "  - adaptive Sauvola\n",
    "    - threshold smoothing scale: 0\n",
    "    - threshold correction factor: .6\n",
    "    - threshold bounds: (0. ,1.0)\n",
    "    - adaptive window: 20 pixels\n",
    "\n",
    "- POST-PROCESSING\n",
    "  - N/A\n",
    "\n",
    "OUTPUT\n",
    "- inferred  ***golgi*** object\n",
    "\n",
    "\n",
    ">#### ASIDE: Perform topology-preserving thinning \n",
    ">There are two parameters:\n",
    ">* `thin_dist_preserve`: Half of the minimum width you want to keep from being thinned. For example, when the object width is smaller than 4, you don't want to make this part even thinning (may break the thin object and alter the topology), you can set `thin_dist_preserve` as `2`.\n",
    ">* `thin_dist`: the amount to thin (has to be an positive integer). The number of pixels to be removed from outter boundary towards center\n",
    "\n",
    "\n"
   ]
  },
  {
   "cell_type": "markdown",
   "metadata": {},
   "source": [
    "\n",
    "------------------------\n",
    "## LOAD RAW IMAGE DATA\n",
    "Identify path to _raw_ image data and load our example image\n"
   ]
  },
  {
   "cell_type": "code",
   "execution_count": 3,
   "metadata": {},
   "outputs": [
    {
     "name": "stderr",
     "output_type": "stream",
     "text": [
      "/opt/anaconda3/envs/napariNEW/lib/python3.9/site-packages/ome_types/_convenience.py:105: FutureWarning: The default XML parser will be changing from 'xmlschema' to 'lxml' in version 0.4.0.  To silence this warning, please provide the `parser` argument, specifying either 'lxml' (to opt into the new behavior), or'xmlschema' (to retain the old behavior).\n",
      "  d = to_dict(os.fspath(xml), parser=parser, validate=validate)\n"
     ]
    }
   ],
   "source": [
    "data_root_path = Path(os.path.expanduser(\"~\")) / \"Projects/Imaging/data\"\n",
    "\n",
    "# linearly unmixed \".czi\" files are here\n",
    "data_path = data_root_path / \"raw\"\n",
    "im_type = \".czi\"\n",
    "\n",
    "# get the list of all files\n",
    "img_file_list = list_image_files(data_path,im_type)\n",
    "test_img_name = img_file_list[test_img_n]\n",
    "\n",
    "img_data,meta_dict = read_czi_image(test_img_name)\n",
    "\n",
    "# get some top-level info about the RAW data\n",
    "channel_names = meta_dict['name']\n",
    "img = meta_dict['metadata']['aicsimage']\n",
    "scale = meta_dict['scale']\n",
    "channel_axis = meta_dict['channel_axis']\n"
   ]
  },
  {
   "cell_type": "markdown",
   "metadata": {},
   "source": [
    "## CHOOZE Z-SLICE\n",
    "\n",
    "Lets find the slice with the most overall intensity..."
   ]
  },
  {
   "cell_type": "code",
   "execution_count": 4,
   "metadata": {},
   "outputs": [],
   "source": [
    "ch_to_agg = ( LYSO_CH ,\n",
    "                        MITO_CH ,\n",
    "                        GOLGI_CH ,\n",
    "                        PEROXI_CH ,\n",
    "                        ER_CH ,\n",
    "                        LIPID_CH )\n",
    "                            \n",
    "nuc_ch = NUC_CH\n",
    "optimal_Z = find_optimal_Z(img_data, nuc_ch, ch_to_agg) \n",
    "\n"
   ]
  },
  {
   "cell_type": "markdown",
   "metadata": {},
   "source": [
    "Now get the single \"optimal\" slice of all our organelle channels...."
   ]
  },
  {
   "cell_type": "code",
   "execution_count": 5,
   "metadata": {},
   "outputs": [],
   "source": [
    "img_2D = img_data[:,[optimal_Z],:,:].copy()"
   ]
  },
  {
   "cell_type": "markdown",
   "metadata": {},
   "source": [
    "## Collect the ***cytosol*** mask\n",
    "\n",
    "i.e. inferred soma, nuclei and cytosol objects\n",
    "(takes < 1 sec)"
   ]
  },
  {
   "cell_type": "code",
   "execution_count": 6,
   "metadata": {},
   "outputs": [],
   "source": [
    "\n",
    "soma_mask =  infer_soma(img_2D) \n",
    "nuclei_object =  infer_nuclei(img_2D, soma_mask) \n",
    "cytosol_mask =  infer_cytosol( nuclei_object,soma_mask) \n"
   ]
  },
  {
   "cell_type": "markdown",
   "metadata": {},
   "source": [
    "## Build  ***Golgi Complex***  specific inference workflow\n",
    "\n"
   ]
  },
  {
   "cell_type": "markdown",
   "metadata": {},
   "source": [
    "### INPUT"
   ]
  },
  {
   "cell_type": "code",
   "execution_count": 10,
   "metadata": {},
   "outputs": [],
   "source": [
    "\n",
    "###################\n",
    "# INPUT\n",
    "###################\n",
    "raw_golgi   = img_2D[GOLGI_CH].copy()\n",
    "\n"
   ]
  },
  {
   "cell_type": "markdown",
   "metadata": {},
   "source": [
    "### PRE-PROCESSING"
   ]
  },
  {
   "cell_type": "code",
   "execution_count": 12,
   "metadata": {},
   "outputs": [],
   "source": [
    "###################\n",
    "# PRE_PROCESSING\n",
    "###################\n",
    "\n",
    "\n",
    "# intensity_norm_param = [0.1, 30.]  # CHECK THIS\n",
    "# # Linear-ish smoothing\n",
    "# golgi = intensity_normalization( masked_golgi ,  scaling_param=intensity_norm_param)\n",
    "\n",
    "golgi = min_max_intensity_normalization( raw_golgi )\n",
    "\n",
    "\n",
    "med_filter_size = 3  \n",
    "\n",
    "gaussian_smoothing_sigma = 1.34\n",
    "gaussian_smoothing_truncate_range = 3.0\n",
    "\n",
    "struct_img = median_filter_slice_by_slice(golgi,    size=med_filter_size  )\n",
    "\n",
    "structure_img_smooth = image_smoothing_gaussian_slice_by_slice(   struct_img,\n",
    "                                                                                                                        sigma=gaussian_smoothing_sigma,\n",
    "                                                                                                                        truncate_range=gaussian_smoothing_truncate_range,\n",
    "                                                                                                                    )\n",
    "\n",
    "\n",
    "struct_img = structure_img_smooth\n",
    "\n",
    "\n"
   ]
  },
  {
   "cell_type": "markdown",
   "metadata": {},
   "source": [
    "### CORE PROCESSING"
   ]
  },
  {
   "cell_type": "code",
   "execution_count": 17,
   "metadata": {},
   "outputs": [],
   "source": [
    "###################\n",
    "# CORE_PROCESSING\n",
    "###################\n",
    "################################\n",
    "## PARAMETERS for this step ##\n",
    "cell_wise_min_area = 1200\n",
    "dot_2d_sigma = 1.6\n",
    "dot_2d_cutoff = 0.02\n",
    "thin_dist = 1\n",
    "thin_dist_preserve = 1.6\n",
    "\n",
    "\n",
    "\n",
    "###################\n",
    "# CORE_PROCESSING\n",
    "###################\n",
    "\n",
    "bw, object_for_debug = MO(structure_img_smooth, \n",
    "                                                global_thresh_method='tri', \n",
    "                                                object_minArea=cell_wise_min_area, \n",
    "                                                return_object=True)\n",
    "\n",
    "\n",
    "thin_dist_preserve = 1.6\n",
    "thin_dist = 1\n",
    "bw_thin = topology_preserving_thinning(bw, thin_dist_preserve, thin_dist)\n",
    "\n",
    "\n",
    "################################\n",
    "## PARAMETERS for this step ##\n",
    "#s3_param = [[1.6, 0.02]]\n",
    "s3_param = [(dot_2d_sigma,dot_2d_cutoff)]\n",
    "################################\n",
    "\n",
    "bw_extra = dot_3d_wrapper(structure_img_smooth, s3_param)\n",
    "\n",
    "bw_combine = np.logical_or(bw_extra, bw_thin)\n"
   ]
  },
  {
   "cell_type": "markdown",
   "metadata": {},
   "source": [
    "### POST-PROCESSING"
   ]
  },
  {
   "cell_type": "code",
   "execution_count": 21,
   "metadata": {},
   "outputs": [],
   "source": [
    "\n",
    "###################\n",
    "# POST_PROCESSING\n",
    "###################\n",
    "bw_combine = apply_mask(bw_combine, cytosol_mask)\n",
    "    \n",
    "small_object_width = 3\n",
    "\n",
    "golgi_object = size_filter_2D(bw_combine, \n",
    "                                                min_size= small_object_width**2, \n",
    "                                                connectivity=1)\n"
   ]
  },
  {
   "cell_type": "markdown",
   "metadata": {},
   "source": [
    "#### Visualize with `napari`\n",
    "Visualize the first-pass segmentation and labeling with `napari`."
   ]
  },
  {
   "cell_type": "code",
   "execution_count": 20,
   "metadata": {},
   "outputs": [
    {
     "data": {
      "text/plain": [
       "<Image layer 'bw_thin' at 0x16e331490>"
      ]
     },
     "execution_count": 20,
     "metadata": {},
     "output_type": "execute_result"
    }
   ],
   "source": [
    "viewer = napari.Viewer()\n"
   ]
  },
  {
   "cell_type": "code",
   "execution_count": 22,
   "metadata": {},
   "outputs": [
    {
     "data": {
      "text/plain": [
       "<Image layer 'golgi_object [1]' at 0x1794b34f0>"
      ]
     },
     "execution_count": 22,
     "metadata": {},
     "output_type": "execute_result"
    }
   ],
   "source": [
    "\n",
    "viewer.add_image(\n",
    "    golgi_object,\n",
    "    scale=scale\n",
    ")\n",
    "\n"
   ]
  },
  {
   "cell_type": "code",
   "execution_count": null,
   "metadata": {},
   "outputs": [],
   "source": [
    "viewer.scale_bar.visible = True\n",
    "viewer.add_image(\n",
    "    bw_extra,\n",
    "    scale=scale\n",
    ")\n",
    "viewer.add_image(\n",
    "    bw_thin,\n",
    "    scale=scale\n",
    ")\n"
   ]
  },
  {
   "cell_type": "markdown",
   "metadata": {},
   "source": [
    "### Collect into a single `infer_golgi` function"
   ]
  },
  {
   "cell_type": "code",
   "execution_count": 24,
   "metadata": {},
   "outputs": [],
   "source": [
    "##########################\n",
    "#  infer_golgi\n",
    "##########################\n",
    "def _infer_golgi(in_img:  np.ndarray, cytosol_mask:  np.ndarray) -> np.ndarray:\n",
    "    \"\"\"\n",
    "    Procedure to infer golgi from linearly unmixed input.\n",
    "\n",
    "    Parameters:\n",
    "    ------------\n",
    "    in_img: np.ndarray\n",
    "        a 3d image containing all the channels\n",
    "\n",
    "    cytosol_mask: np.ndarray\n",
    "        mask of cytosol\n",
    " \n",
    "    Returns:\n",
    "    -------------\n",
    "   golgi_object\n",
    "        mask defined extent of golgi object\n",
    "    \"\"\"\n",
    "   \n",
    "    ###################\n",
    "    # PRE_PROCESSING\n",
    "    ###################     \n",
    "    struct_img = min_max_intensity_normalization(in_img[GOLGI_CH].copy() )\n",
    "\n",
    "    med_filter_size = 3   \n",
    "    struct_img = median_filter_slice_by_slice( \n",
    "                                                                    struct_img,\n",
    "                                                                    size=med_filter_size  )\n",
    "\n",
    "    gaussian_smoothing_sigma = 1.34\n",
    "    gaussian_smoothing_truncate_range = 3.0\n",
    "    struct_img = image_smoothing_gaussian_slice_by_slice(   struct_img,\n",
    "                                                                                                        sigma=gaussian_smoothing_sigma,\n",
    "                                                                                                        truncate_range = gaussian_smoothing_truncate_range\n",
    "                                                                                                    )\n",
    "\n",
    "\n",
    "   ###################\n",
    "    # CORE_PROCESSING\n",
    "    ###################\n",
    "    cell_wise_min_area = 1200\n",
    "    bw, object_for_debug = MO(struct_img, \n",
    "                                                global_thresh_method='tri', \n",
    "                                                object_minArea=cell_wise_min_area, \n",
    "                                                return_object=True)\n",
    "\n",
    "\n",
    "    thin_dist_preserve=1.6\n",
    "    thin_dist=1\n",
    "    bw_thin = topology_preserving_thinning(bw, thin_dist_preserve, thin_dist)\n",
    "\n",
    "\n",
    "    dot_2d_sigma = 1.6\n",
    "    dot_2d_cutoff = 0.02\n",
    "    s3_param = [(dot_2d_sigma,dot_2d_cutoff)]\n",
    "\n",
    "    bw_extra = dot_3d_wrapper(struct_img, s3_param)\n",
    "\n",
    "    bw = np.logical_or(bw_extra, bw_thin)\n",
    "\n",
    "\n",
    "    ###################\n",
    "    # POST_PROCESSING\n",
    "    ###################\n",
    "    struct_obj = apply_mask(bw, cytosol_mask)\n",
    "\n",
    "    small_object_width = 3\n",
    "    struct_obj = size_filter_2D(struct_obj, \n",
    "                                                min_size= small_object_width**2, \n",
    "                                                connectivity=1)\n",
    "\n",
    "\n",
    "    return struct_obj"
   ]
  },
  {
   "cell_type": "markdown",
   "metadata": {},
   "source": [
    "# TEST  `infer_golgi` function"
   ]
  },
  {
   "cell_type": "code",
   "execution_count": 25,
   "metadata": {},
   "outputs": [],
   "source": [
    "\n",
    "_golgi_object =  _infer_golgi(img_2D, cytosol_mask) \n"
   ]
  },
  {
   "cell_type": "code",
   "execution_count": 28,
   "metadata": {},
   "outputs": [],
   "source": [
    "from infer_subc_2d.organelles.golgi import infer_golgi \n",
    "\n",
    "golgi_object =  infer_golgi(img_2D, cytosol_mask) \n"
   ]
  },
  {
   "cell_type": "code",
   "execution_count": 29,
   "metadata": {},
   "outputs": [
    {
     "data": {
      "text/plain": [
       "<Labels layer 'Labels' at 0x18455d2e0>"
      ]
     },
     "execution_count": 29,
     "metadata": {},
     "output_type": "execute_result"
    }
   ],
   "source": [
    "\n",
    "viewer.add_image(\n",
    "    _golgi_object,\n",
    "    scale=scale\n",
    ")\n",
    "viewer.add_image(\n",
    "    golgi_object,\n",
    "    scale=scale\n",
    ")\n",
    "viewer.add_labels(\n",
    "    label(golgi_object),\n",
    "    scale=scale\n",
    ")"
   ]
  },
  {
   "cell_type": "code",
   "execution_count": 30,
   "metadata": {},
   "outputs": [
    {
     "data": {
      "image/png": "[encoded data removed]",
      "text/html": [
       "<img src=\"data:image/png;base64,iVBORw0KGgoAAAANSUhEUgAADB4AAAdWCAYAAAAXhorqAAB6OklEQVR42uzbQQHAIADEsBv+PTMD1EEiof9+2+4AAAAAAAAAAAAAAAAejgQAAAAAAAAAAAAAAEAxHgAAAAAAAAAAAAAAAMl4AAAAAAAAAAAAAAAAJOMBAAAAAAAAAAAAAACQjAcAAAAAAAAAAAAAAEAyHgAAAAAAAAAAAAAAAMl4AAAAAAAAAAAAAAAAJOMBAAAAAAAAAAAAAACQjAcAAAAAAAAAAAAAAEAyHgAAAAAAAAAAAAAAAMl4AAAAAAAAAAAAAAAAJOMBAAAAAAAAAAAAAACQjAcAAAAAAAAAAAAAAEAyHgAAAAAAAAAAAAAAAMl4AAAAAAAAAAAAAAAAJOMBAAAAAAAAAAAAAACQjAcAAAAAAAAAAAAAAEAyHgAAAAAAAAAAAAAAAMl4AAAAAAAAAAAAAAAAJOMBAAAAAAAAAAAAAACQjAcAAAAAAAAAAAAAAEAyHgAAAAAAAAAAAAAAAMl4AAAAAAAAAAAAAAAAJOMBAAAAAAAAAAAAAACQjAcAAAAAAAAAAAAAAEAyHgAAAAAAAAAAAAAAAMl4AAAAAAAAAAAAAAAAJOMBAAAAAAAAAAAAAACQjAcAAAAAAAAAAAAAAEAyHgAAAAAAAAAAAAAAAMl4AAAAAAAAAAAAAAAAJOMBAAAAAAAAAAAAAACQjAcAAAAAAAAAAAAAAEAyHgAAAAAAAAAAAAAAAMl4AAAAAAAAAAAAAAAAJOMBAAAAAAAAAAAAAACQjAcAAAAAAAAAAAAAAEAyHgAAAAAAAAAAAAAAAMl4AAAAAAAAAAAAAAAAJOMBAAAAAAAAAAAAAACQjAcAAAAAAAAAAAAAAEAyHgAAAAAAAAAAAAAAAMl4AAAAAAAAAAAAAAAAJOMBAAAAAAAAAAAAAACQjAcAAAAAAAAAAAAAAEAyHgAAAAAAAAAAAAAAAMl4AAAAAAAAAAAAAAAAJOMBAAAAAAAAAAAAAACQjAcAAAAAAAAAAAAAAEAyHgAAAAAAAAAAAAAAAMl4AAAAAAAAAAAAAAAAJOMBAAAAAAAAAAAAAACQjAcAAAAAAAAAAAAAAEAyHgAAAAAAAAAAAAAAAMl4AAAAAAAAAAAAAAAAJOMBAAAAAAAAAAAAAACQjAcAAAAAAAAAAAAAAEAyHgAAAAAAAAAAAAAAAMl4AAAAAAAAAAAAAAAAJOMBAAAAAAAAAAAAAACQjAcAAAAAAAAAAAAAAEAyHgAAAAAAAAAAAAAAAMl4AAAAAAAAAAAAAAAAJOMBAAAAAAAAAAAAAACQjAcAAAAAAAAAAAAAAEAyHgAAAAAAAAAAAAAAAMl4AAAAAAAAAAAAAAAAJOMBAAAAAAAAAAAAAACQjAcAAAAAAAAAAAAAAEAyHgAAAAAAAAAAAAAAAMl4AAAAAAAAAAAAAAAAJOMBAAAAAAAAAAAAAACQjAcAAAAAAAAAAAAAAEAyHgAAAAAAAAAAAAAAAMl4AAAAAAAAAAAAAAAAJOMBAAAAAAAAAAAAAACQjAcAAAAAAAAAAAAAAEAyHgAAAAAAAAAAAAAAAMl4AAAAAAAAAAAAAAAAJOMBAAAAAAAAAAAAAACQjAcAAAAAAAAAAAAAAEAyHgAAAAAAAAAAAAAAAMl4AAAAAAAAAAAAAAAAJOMBAAAAAAAAAAAAAACQjAcAAAAAAAAAAAAAAEAyHgAAAAAAAAAAAAAAAMl4AAAAAAAAAAAAAAAAJOMBAAAAAAAAAAAAAACQjAcAAAAAAAAAAAAAAEAyHgAAAAAAAAAAAAAAAMl4AAAAAAAAAAAAAAAAJOMBAAAAAAAAAAAAAACQjAcAAAAAAAAAAAAAAEAyHgAAAAAAAAAAAAAAAMl4AAAAAAAAAAAAAAAAJOMBAAAAAAAAAAAAAACQjAcAAAAAAAAAAAAAAEAyHgAAAAAAAAAAAAAAAMl4AAAAAAAAAAAAAAAAJOMBAAAAAAAAAAAAAACQjAcAAAAAAAAAAAAAAEAyHgAAAAAAAAAAAAAAAMl4AAAAAAAAAAAAAAAAJOMBAAAAAAAAAAAAAACQjAcAAAAAAAAAAAAAAEAyHgAAAAAAAAAAAAAAAMl4AAAAAAAAAAAAAAAAJOMBAAAAAAAAAAAAAACQjAcAAAAAAAAAAAAAAEAyHgAAAAAAAAAAAAAAAMl4AAAAAAAAAAAAAAAAJOMBAAAAAAAAAAAAAACQjAcAAAAAAAAAAAAAAEAyHgAAAAAAAAAAAAAAAMl4AAAAAAAAAAAAAAAAJOMBAAAAAAAAAAAAAACQjAcAAAAAAAAAAAAAAEAyHgAAAAAAAAAAAAAAAMl4AAAAAAAAAAAAAAAAJOMBAAAAAAAAAAAAAACQjAcAAAAAAAAAAAAAAEAyHgAAAAAAAAAAAAAAAMl4AAAAAAAAAAAAAAAAJOMBAAAAAAAAAAAAAACQjAcAAAAAAAAAAAAAAEAyHgAAAAAAAAAAAAAAAMl4AAAAAAAAAAAAAAAAJOMBAAAAAAAAAAAAAACQjAcAAAAAAAAAAAAAAEAyHgAAAAAAAAAAAAAAAMl4AAAAAAAAAAAAAAAAJOMBAAAAAAAAAAAAAACQjAcAAAAAAAAAAAAAAEAyHgAAAAAAAAAAAAAAAMl4AAAAAAAAAAAAAAAAJOMBAAAAAAAAAAAAAACQjAcAAAAAAAAAAAAAAEAyHgAAAAAAAAAAAAAAAMl4AAAAAAAAAAAAAAAAJOMBAAAAAAAAAAAAAACQjAcAAAAAAAAAAAAAAEAyHgAAAAAAAAAAAAAAAMl4AAAAAAAAAAAAAAAAJOMBAAAAAAAAAAAAAACQjAcAAAAAAAAAAAAAAEAyHgAAAAAAAAAAAAAAAMl4AAAAAAAAAAAAAAAAJOMBAAAAAAAAAAAAAACQjAcAAAAAAAAAAAAAAEAyHgAAAAAAAAAAAAAAAMl4AAAAAAAAAAAAAAAAJOMBAAAAAAAAAAAAAACQjAcAAAAAAAAAAAAAAEAyHgAAAAAAAAAAAAAAAMl4AAAAAAAAAAAAAAAAJOMBAAAAAAAAAAAAAACQjAcAAAAAAAAAAAAAAEAyHgAAAAAAAAAAAAAAAMl4AAAAAAAAAAAAAAAAJOMBAAAAAAAAAAAAAACQjAcAAAAAAAAAAAAAAEAyHgAAAAAAAAAAAAAAAMl4AAAAAAAAAAAAAAAAJOMBAAAAAAAAAAAAAACQjAcAAAAAAAAAAAAAAEAyHgAAAAAAAAAAAAAAAMl4AAAAAAAAAAAAAAAAJOMBAAAAAAAAAAAAAACQjAcAAAAAAAAAAAAAAEAyHgAAAAAAAAAAAAAAAMl4AAAAAAAAAAAAAAAAJOMBAAAAAAAAAAAAAACQjAcAAAAAAAAAAAAAAEAyHgAAAAAAAAAAAAAAAMl4AAAAAAAAAAAAAAAAJOMBAAAAAAAAAAAAAACQjAcAAAAAAAAAAAAAAEAyHgAAAAAAAAAAAAAAAMl4AAAAAAAAAAAAAAAAJOMBAAAAAAAAAAAAAACQjAcAAAAAAAAAAAAAAEAyHgAAAAAAAAAAAAAAAMl4AAAAAAAAAAAAAAAAJOMBAAAAAAAAAAAAAACQjAcAAAAAAAAAAAAAAEAyHgAAAAAAAAAAAAAAAMl4AAAAAAAAAAAAAAAAJOMBAAAAAAAAAAAAAACQjAcAAAAAAAAAAAAAAEAyHgAAAAAAAAAAAAAAAMl4AAAAAAAAAAAAAAAAJOMBAAAAAAAAAAAAAACQjAcAAAAAAAAAAAAAAEAyHgAAAAAAAAAAAAAAAMl4AAAAAAAAAAAAAAAAJOMBAAAAAAAAAAAAAACQjAcAAAAAAAAAAAAAAEAyHgAAAAAAAAAAAAAAAMl4AAAAAAAAAAAAAAAAJOMBAAAAAAAAAAAAAACQjAcAAAAAAAAAAAAAAEAyHgAAAAAAAAAAAAAAAMl4AAAAAAAAAAAAAAAAJOMBAAAAAAAAAAAAAACQjAcAAAAAAAAAAAAAAEAyHgAAAAAAAAAAAAAAAMl4AAAAAAAAAAAAAAAAJOMBAAAAAAAAAAAAAACQjAcAAAAAAAAAAAAAAEAyHgAAAAAAAAAAAAAAAMl4AAAAAAAAAAAAAAAAJOMBAAAAAAAAAAAAAACQjAcAAAAAAAAAAAAAAEAyHgAAAAAAAAAAAAAAAMl4AAAAAAAAAAAAAAAAJOMBAAAAAAAAAAAAAACQjAcAAAAAAAAAAAAAAEAyHgAAAAAAAAAAAAAAAMl4AAAAAAAAAAAAAAAAJOMBAAAAAAAAAAAAAACQjAcAAAAAAAAAAAAAAEAyHgAAAAAAAAAAAAAAAMl4AAAAAAAAAAAAAAAAJOMBAAAAAAAAAAAAAACQjAcAAAAAAAAAAAAAAEAyHgAAAAAAAAAAAAAAAMl4AAAAAAAAAAAAAAAAJOMBAAAAAAAAAAAAAACQjAcAAAAAAAAAAAAAAEAyHgAAAAAAAAAAAAAAAMl4AAAAAAAAAAAAAAAAJOMBAAAAAAAAAAAAAACQjAcAAAAAAAAAAAAAAEAyHgAAAAAAAAAAAAAAAMl4AAAAAAAAAAAAAAAAJOMBAAAAAAAAAAAAAACQjAcAAAAAAAAAAAAAAEAyHgAAAAAAAAAAAAAAAMl4AAAAAAAAAAAAAAAAJOMBAAAAAAAAAAAAAACQjAcAAAAAAAAAAAAAAEAyHgAAAAAAAAAAAAAAAMl4AAAAAAAAAAAAAAAAJOMBAAAAAAAAAAAAAACQjAcAAAAAAAAAAAAAAEAyHgAAAAAAAAAAAAAAAMl4AAAAAAAAAAAAAAAAJOMBAAAAAAAAAAAAAACQjAcAAAAAAAAAAAAAAEAyHgAAAAAAAAAAAAAAAMl4AAAAAAAAAAAAAAAAJOMBAAAAAAAAAAAAAACQjAcAAAAAAAAAAAAAAEAyHgAAAAAAAAAAAAAAAMl4AAAAAAAAAAAAAAAAJOMBAAAAAAAAAAAAAACQjAcAAAAAAAAAAAAAAEAyHgAAAAAAAAAAAAAAAMl4AAAAAAAAAAAAAAAAJOMBAAAAAAAAAAAAAACQjAcAAAAAAAAAAAAAAEAyHgAAAAAAAAAAAAAAAMl4AAAAAAAAAAAAAAAAJOMBAAAAAAAAAAAAAACQjAcAAAAAAAAAAAAAAEAyHgAAAAAAAAAAAAAAAMl4AAAAAAAAAAAAAAAAJOMBAAAAAAAAAAAAAACQjAcAAAAAAAAAAAAAAEAyHgAAAAAAAAAAAAAAAMl4AAAAAAAAAAAAAAAAJOMBAAAAAAAAAAAAAACQjAcAAAAAAAAAAAAAAEAyHgAAAAAAAAAAAAAAAMl4AAAAAAAAAAAAAAAAJOMBAAAAAAAAAAAAAACQjAcAAAAAAAAAAAAAAEAyHgAAAAAAAAAAAAAAAMl4AAAAAAAAAAAAAAAAJOMBAAAAAAAAAAAAAACQjAcAAAAAAAAAAAAAAEAyHgAAAAAAAAAAAAAAAMl4AAAAAAAAAAAAAAAAJOMBAAAAAAAAAAAAAACQjAcAAAAAAAAAAAAAAEAyHgAAAAAAAAAAAAAAAMl4AAAAAAAAAAAAAAAAJOMBAAAAAAAAAAAAAACQjAcAAAAAAAAAAAAAAEAyHgAAAAAAAAAAAAAAAMl4AAAAAAAAAAAAAAAAJOMBAAAAAAAAAAAAAACQjAcAAAAAAAAAAAAAAEAyHgAAAAAAAAAAAAAAAMl4AAAAAAAAAAAAAAAAJOMBAAAAAAAAAAAAAACQjAcAAAAAAAAAAAAAAEAyHgAAAAAAAAAAAAAAAMl4AAAAAAAAAAAAAAAAJOMBAAAAAAAAAAAAAACQjAcAAAAAAAAAAAAAAEAyHgAAAAAAAAAAAAAAAMl4AAAAAAAAAAAAAAAAJOMBAAAAAAAAAAAAAACQjAcAAAAAAAAAAAAAAEAyHgAAAAAAAAAAAAAAAMl4AAAAAAAAAAAAAAAAJOMBAAAAAAAAAAAAAACQjAcAAAAAAAAAAAAAAEAyHgAAAAAAAAAAAAAAAMl4AAAAAAAAAAAAAAAAJOMBAAAAAAAAAAAAAACQjAcAAAAAAAAAAAAAAEAyHgAAAAAAAAAAAAAAAMl4AAAAAAAAAAAAAAAAJOMBAAAAAAAAAAAAAACQjAcAAAAAAAAAAAAAAEAyHgAAAAAAAAAAAAAAAMl4AAAAAAAAAAAAAAAAJOMBAAAAAAAAAAAAAACQjAcAAAAAAAAAAAAAAEAyHgAAAAAAAAAAAAAAAMl4AAAAAAAAAAAAAAAAJOMBAAAAAAAAAAAAAACQjAcAAAAAAAAAAAAAAEAyHgAAAAAAAAAAAAAAAMl4AAAAAAAAAAAAAAAAJOMBAAAAAAAAAAAAAACQjAcAAAAAAAAAAAAAAEAyHgAAAAAAAAAAAAAAAMl4AAAAAAAAAAAAAAAAJOMBAAAAAAAAAAAAAACQjAcAAAAAAAAAAAAAAEAyHgAAAAAAAAAAAAAAAMl4AAAAAAAAAAAAAAAAJOMBAAAAAAAAAAAAAACQjAcAAAAAAAAAAAAAAEAyHgAAAAAAAAAAAAAAAMl4AAAAAAAAAAAAAAAAJOMBAAAAAAAAAAAAAACQjAcAAAAAAAAAAAAAAEAyHgAAAAAAAAAAAAAAAMl4AAAAAAAAAAAAAAAAJOMBAAAAAAAAAAAAAACQjAcAAAAAAAAAAAAAAEAyHgAAAAAAAAAAAAAAAMl4AAAAAAAAAAAAAAAAJOMBAAAAAAAAAAAAAACQjAcAAAAAAAAAAAAAAEAyHgAAAAAAAAAAAAAAAMl4AAAAAAAAAAAAAAAAJOMBAAAAAAAAAAAAAACQjAcAAAAAAAAAAAAAAEAyHgAAAAAAAAAAAAAAAMl4AAAAAAAAAAAAAAAAJOMBAAAAAAAAAAAAAACQjAcAAAAAAAAAAAAAAEAyHgAAAAAAAAAAAAAAAMl4AAAAAAAAAAAAAAAAJOMBAAAAAAAAAAAAAACQjAcAAAAAAAAAAAAAAEAyHgAAAAAAAAAAAAAAAMl4AAAAAAAAAAAAAAAAJOMBAAAAAAAAAAAAAACQjAcAAAAAAAAAAAAAAEAyHgAAAAAAAAAAAAAAAMl4AAAAAAAAAAAAAAAAJOMBAAAAAAAAAAAAAACQjAcAAAAAAAAAAAAAAEAyHgAAAAAAAAAAAAAAAMl4AAAAAAAAAAAAAAAAJOMBAAAAAAAAAAAAAACQjAcAAAAAAAAAAAAAAEAyHgAAAAAAAAAAAAAAAMl4AAAAAAAAAAAAAAAAJOMBAAAAAAAAAAAAAACQjAcAAAAAAAAAAAAAAEAyHgAAAAAAAAAAAAAAAMl4AAAAAAAAAAAAAAAAJOMBAAAAAAAAAAAAAACQjAcAAAAAAAAAAAAAAEAyHgAAAAAAAAAAAAAAAMl4AAAAAAAAAAAAAAAAJOMBAAAAAAAAAAAAAACQjAcAAAAAAAAAAAAAAEAyHgAAAAAAAAAAAAAAAMl4AAAAAAAAAAAAAAAAJOMBAAAAAAAAAAAAAACQjAcAAAAAAAAAAAAAAEAyHgAAAAAAAAAAAAAAAMl4AAAAAAAAAAAAAAAAJOMBAAAAAAAAAAAAAACQjAcAAAAAAAAAAAAAAEAyHgAAAAAAAAAAAAAAAMl4AAAAAAAAAAAAAAAAJOMBAAAAAAAAAAAAAACQjAcAAAAAAAAAAAAAAEAyHgAAAAAAAAAAAAAAAMl4AAAAAAAAAAAAAAAAJOMBAAAAAAAAAAAAAACQjAcAAAAAAAAAAAAAAEAyHgAAAAAAAAAAAAAAAMl4AAAAAAAAAAAAAAAAJOMBAAAAAAAAAAAAAACQjAcAAAAAAAAAAAAAAEAyHgAAAAAAAAAAAAAAAMl4AAAAAAAAAAAAAAAAJOMBAAAAAAAAAAAAAACQjAcAAAAAAAAAAAAAAEAyHgAAAAAAAAAAAAAAAMl4AAAAAAAAAAAAAAAAJOMBAAAAAAAAAAAAAACQjAcAAAAAAAAAAAAAAEAyHgAAAAAAAAAAAAAAAMl4AAAAAAAAAAAAAAAAJOMBAAAAAAAAAAAAAACQjAcAAAAAAAAAAAAAAEAyHgAAAAAAAAAAAAAAAMl4AAAAAAAAAAAAAAAAJOMBAAAAAAAAAAAAAACQjAcAAAAAAAAAAAAAAEAyHgAAAAAAAAAAAAAAAMl4AAAAAAAAAAAAAAAAJOMBAAAAAAAAAAAAAACQjAcAAAAAAAAAAAAAAEAyHgAAAAAAAAAAAAAAAMl4AAAAAAAAAAAAAAAAJOMBAAAAAAAAAAAAAACQjAcAAAAAAAAAAAAAAEAyHgAAAAAAAAAAAAAAAMl4AAAAAAAAAAAAAAAAJOMBAAAAAAAAAAAAAACQjAcAAAAAAAAAAAAAAEAyHgAAAAAAAAAAAAAAAMl4AAAAAAAAAAAAAAAAJOMBAAAAAAAAAAAAAACQjAcAAAAAAAAAAAAAAEAyHgAAAAAAAAAAAAAAAMl4AAAAAAAAAAAAAAAAJOMBAAAAAAAAAAAAAACQjAcAAAAAAAAAAAAAAEAyHgAAAAAAAAAAAAAAAMl4AAAAAAAAAAAAAAAAJOMBAAAAAAAAAAAAAACQjAcAAAAAAAAAAAAAAEAyHgAAAAAAAAAAAAAAAMl4AAAAAAAAAAAAAAAAJOMBAAAAAAAAAAAAAACQjAcAAAAAAAAAAAAAAEAyHgAAAAAAAAAAAAAAAMl4AAAAAAAAAAAAAAAAJOMBAAAAAAAAAAAAAACQjAcAAAAAAAAAAAAAAEAyHgAAAAAAAAAAAAAAAMl4AAAAAAAAAAAAAAAAJOMBAAAAAAAAAAAAAACQjAcAAAAAAAAAAAAAAEAyHgAAAAAAAAAAAAAAAMl4AAAAAAAAAAAAAAAAJOMBAAAAAAAAAAAAAACQjAcAAAAAAAAAAAAAAEAyHgAAAAAAAAAAAAAAAMl4AAAAAAAAAAAAAAAAJOMBAAAAAAAAAAAAAACQjAcAAAAAAAAAAAAAAEAyHgAAAAAAAAAAAAAAAMl4AAAAAAAAAAAAAAAAJOMBAAAAAAAAAAAAAACQjAcAAAAAAAAAAAAAAEAyHgAAAAAAAAAAAAAAAMl4AAAAAAAAAAAAAAAAJOMBAAAAAAAAAAAAAACQjAcAAAAAAAAAAAAAAEAyHgAAAAAAAAAAAAAAAMl4AAAAAAAAAAAAAAAAJOMBAAAAAAAAAAAAAACQjAcAAAAAAAAAAAAAAEAyHgAAAAAAAAAAAAAAAMl4AAAAAAAAAAAAAAAAJOMBAAAAAAAAAAAAAACQjAcAAAAAAAAAAAAAAEAyHgAAAAAAAAAAAAAAAMl4AAAAAAAAAAAAAAAAJOMBAAAAAAAAAAAAAACQjAcAAAAAAAAAAAAAAEAyHgAAAAAAAAAAAAAAAMl4AAAAAAAAAAAAAAAAJOMBAAAAAAAAAAAAAACQjAcAAAAAAAAAAAAAAEAyHgAAAAAAAAAAAAAAAMl4AAAAAAAAAAAAAAAAJOMBAAAAAAAAAAAAAACQjAcAAAAAAAAAAAAAAEAyHgAAAAAAAAAAAAAAAMl4AAAAAAAAAAAAAAAAJOMBAAAAAAAAAAAAAACQjAcAAAAAAAAAAAAAAEAyHgAAAAAAAAAAAAAAAMl4AAAAAAAAAAAAAAAAJOMBAAAAAAAAAAAAAACQjAcAAAAAAAAAAAAAAEAyHgAAAAAAAAAAAAAAAMl4AAAAAAAAAAAAAAAAJOMBAAAAAAAAAAAAAACQjAcAAAAAAAAAAAAAAEAyHgAAAAAAAAAAAAAAAMl4AAAAAAAAAAAAAAAAJOMBAAAAAAAAAAAAAACQjAcAAAAAAAAAAAAAAEAyHgAAAAAAAAAAAAAAAMl4AAAAAAAAAAAAAAAAJOMBAAAAAAAAAAAAAACQjAcAAAAAAAAAAAAAAEAyHgAAAAAAAAAAAAAAAMl4AAAAAAAAAAAAAAAAJOMBAAAAAAAAAAAAAACQjAcAAAAAAAAAAAAAAEAyHgAAAAAAAAAAAAAAAMl4AAAAAAAAAAAAAAAAJOMBAAAAAAAAAAAAAACQjAcAAAAAAAAAAAAAAEAyHgAAAAAAAAAAAAAAAMl4AAAAAAAAAAAAAAAAJOMBAAAAAAAAAAAAAACQjAcAAAAAAAAAAAAAAEAyHgAAAAAAAAAAAAAAAMl4AAAAAAAAAAAAAAAAJOMBAAAAAAAAAAAAAACQjAcAAAAAAAAAAAAAAEAyHgAAAAAAAAAAAAAAAMl4AAAAAAAAAAAAAAAAJOMBAAAAAAAAAAAAAACQjAcAAAAAAAAAAAAAAEAyHgAAAAAAAAAAAAAAAMl4AAAAAAAAAAAAAAAAJOMBAAAAAAAAAAAAAACQjAcAAAAAAAAAAAAAAEAyHgAAAAAAAAAAAAAAAMl4AAAAAAAAAAAAAAAAJOMBAAAAAAAAAAAAAACQjAcAAAAAAAAAAAAAAEAyHgAAAAAAAAAAAAAAAMl4AAAAAAAAAAAAAAAAJOMBAAAAAAAAAAAAAACQjAcAAAAAAAAAAAAAAEAyHgAAAAAAAAAAAAAAAMl4AAAAAAAAAAAAAAAAJOMBAAAAAAAAAAAAAACQjAcAAAAAAAAAAAAAAEAyHgAAAAAAAAAAAAAAAMl4AAAAAAAAAAAAAAAAJOMBAAAAAAAAAAAAAACQjAcAAAAAAAAAAAAAAEAyHgAAAAAAAAAAAAAAAMl4AAAAAAAAAAAAAAAAJOMBAAAAAAAAAAAAAACQjAcAAAAAAAAAAAAAAEAyHgAAAAAAAAAAAAAAAMl4AAAAAAAAAAAAAAAAJOMBAAAAAAAAAAAAAACQjAcAAAAAAAAAAAAAAEAyHgAAAAAAAAAAAAAAAMl4AAAAAAAAAAAAAAAAJOMBAAAAAAAAAAAAAACQjAcAAAAAAAAAAAAAAEAyHgAAAAAAAAAAAAAAAMl4AAAAAAAAAAAAAAAAJOMBAAAAAAAAAAAAAACQjAcAAAAAAAAAAAAAAEAyHgAAAAAAAAAAAAAAAMl4AAAAAAAAAAAAAAAAJOMBAAAAAAAAAAAAAACQjAcAAAAAAAAAAAAAAEAyHgAAAAAAAAAAAAAAAMl4AAAAAAAAAAAAAAAAJOMBAAAAAAAAAAAAAACQjAcAAAAAAAAAAAAAAEAyHgAAAAAAAAAAAAAAAMl4AAAAAAAAAAAAAAAAJOMBAAAAAAAAAAAAAACQjAcAAAAAAAAAAAAAAEAyHgAAAAAAAAAAAAAAAMl4AAAAAAAAAAAAAAAAJOMBAAAAAAAAAAAAAACQjAcAAAAAAAAAAAAAAEAyHgAAAAAAAAAAAAAAAMl4AAAAAAAAAAAAAAAAJOMBAAAAAAAAAAAAAACQjAcAAAAAAAAAAAAAAEAyHgAAAAAAAAAAAAAAAMl4AAAAAAAAAAAAAAAAJOMBAAAAAAAAAAAAAACQjAcAAAAAAAAAAAAAAEAyHgAAAAAAAAAAAAAAAMl4AAAAAAAAAAAAAAAAJOMBAAAAAAAAAAAAAACQjAcAAAAAAAAAAAAAAEAyHgAAAAAAAAAAAAAAAMl4AAAAAAAAAAAAAAAAJOMBAAAAAAAAAAAAAACQjAcAAAAAAAAAAAAAAEAyHgAAAAAAAAAAAAAAAMl4AAAAAAAAAAAAAAAAJOMBAAAAAAAAAAAAAACQjAcAAAAAAAAAAAAAAEAyHgAAAAAAAAAAAAAAAMl4AAAAAAAAAAAAAAAAJOMBAAAAAAAAAAAAAACQjAcAAAAAAAAAAAAAAEAyHgAAAAAAAAAAAAAAAMl4AAAAAAAAAAAAAAAAJOMBAAAAAAAAAAAAAACQjAcAAAAAAAAAAAAAAEAyHgAAAAAAAAAAAAAAAMl4AAAAAAAAAAAAAAAAJOMBAAAAAAAAAAAAAACQjAcAAAAAAAAAAAAAAEAyHgAAAAAAAAAAAAAAAMl4AAAAAAAAAAAAAAAAJOMBAAAAAAAAAAAAAACQjAcAAAAAAAAAAAAAAEAyHgAAAAAAAAAAAAAAAMl4AAAAAAAAAAAAAAAAJOMBAAAAAAAAAAAAAACQjAcAAAAAAAAAAAAAAEAyHgAAAAAAAAAAAAAAAMl4AAAAAAAAAAAAAAAAJOMBAAAAAAAAAAAAAACQjAcAAAAAAAAAAAAAAEAyHgAAAAAAAAAAAAAAAMl4AAAAAAAAAAAAAAAAJOMBAAAAAAAAAAAAAACQjAcAAAAAAAAAAAAAAEAyHgAAAAAAAAAAAAAAAMl4AAAAAAAAAAAAAAAAJOMBAAAAAAAAAAAAAACQjAcAAAAAAAAAAAAAAEAyHgAAAAAAAAAAAAAAAMl4AAAAAAAAAAAAAAAAJOMBAAAAAAAAAAAAAACQjAcAAAAAAAAAAAAAAEAyHgAAAAAAAAAAAAAAAMl4AAAAAAAAAAAAAAAAJOMBAAAAAAAAAAAAAACQjAcAAAAAAAAAAAAAAEAyHgAAAAAAAAAAAAAAAMl4AAAAAAAAAAAAAAAAJOMBAAAAAAAAAAAAAACQjAcAAAAAAAAAAAAAAEAyHgAAAAAAAAAAAAAAAMl4AAAAAAAAAAAAAAAAJOMBAAAAAAAAAAAAAACQjAcAAAAAAAAAAAAAAEAyHgAAAAAAAAAAAAAAAMl4AAAAAAAAAAAAAAAAJOMBAAAAAAAAAAAAAACQjAcAAAAAAAAAAAAAAEAyHgAAAAAAAAAAAAAAAMl4AAAAAAAAAAAAAAAAJOMBAAAAAAAAAAAAAACQjAcAAAAAAAAAAAAAAEAyHgAAAAAAAAAAAAAAAMl4AAAAAAAAAAAAAAAAJOMBAAAAAAAAAAAAAACQjAcAAAAAAAAAAAAAAEAyHgAAAAAAAAAAAAAAAMl4AAAAAAAAAAAAAAAAJOMBAAAAAAAA8LN3/6xRpQ0Yh58DZ0knFtb7CYR0qewOiI2Col3AVJZBWAbL4ZRyWAiWVhHSRRRiEwLTWaUL+Am2thC7sMV5m5d537DebmImM3Nmrqs6s2b+3TNbTPHjAQAAAACIhAcAAAAAAAAAAAAAAEAkPAAAAAAAAAAAAAAAACLhAQAAAAAAAAAAAAAAEAkPAAAAAAAAAAAAAACASHgAAAAAAAAAAAAAAABEwgMAAAAAAAAAAAAAACASHgAAAAAAAAAAAAAAAJHwAAAAAAAAAAAAAAAAiIQHAAAAAAAAAAAAAABAJDwAAAAAAAAAAAAAAAAi4QEAAAAAAAAAAAAAABAJDwAAAAAAAAAAAAAAgEh4AAAAAAAAAAAAAAAARMIDAAAAAAAAAAAAAAAgEh4AAAAAAAAAAAAAAACR8AAAAAAAAAAAAAAAAIiEBwAAAAAAAAAAAAAAQCQ8AAAAAAAAAAAAAAAAIuEBAAAAAAAAAAAAAAAQCQ8AAAAAAAAAAAAAAIBIeAAAAAAAAAAAAAAAAETCAwAAAAAAAAAAAAAAIBIeAAAAAAAAAAAAAAAAkfAAAAAAAAAAAAAAAACIhAcAAAAAAAAAAAAAAEAkPAAAAAAAAAAAAAAAACLhAQAAAAAAAAAAAAAAEAkPAAAAAAAAAAAAAACASHgAAAAAAAAAAAAAAABEwgMAAAAAAAAAAAAAACASHgAAAAAAAAAAAAAAAJHwAAAAAAAAAAAAAAAAiIQHAAAAAAAAAAAAAABAJDwAAAAAAAAAAAAAAAAi4QEAAAAAAAAAAAAAABAJDwAAAAAAAAAAAAAAgEh4AAAAAAAAAAAAAAAARMIDAAAAAAAAAAAAAAAgEh4AAAAAAAAAAAAAAACR8AAAAAAAAAAAAAAAAIiEBwAAAAAAAAAAAAAAQCQ8AAAAAAAAAAAAAAAAIuEBAAAAAAAAAAAAAAAQCQ8AAAAAAAAAAAAAAIBIeAAAAAAAAAAAAAAAAETCAwAAAAAAAAAAAAAAIBIeAAAAAAAAAAAAAAAAkfAAAAAAAAAAAAAAAACIhAcAAAAAAAAAAAAAAEAkPAAAAAAAAAAAAAAAACLhAQAAAAAAAAAAAAAAEAkPAAAAAAAAAAAAAACASHgAAAAAAAAAAAAAAABEwgMAAAAAAAAAAAAAACASHgAAAAAAAAAAAAAAAJHwAAAAAAAAAAAAAAAAiIQHAAAAAAAAAAAAAABAJDwAAAAAAAAAAAAAAAAi4QEAAAAAAAAAAAAAABAJDwAAAAAAAAAAAAAAgEh4AAAAAAAAAAAAAAAARMIDAAAAAAAAAAAAAAAgEh4AAAAAAAAAAAAAAACR8AAAAAAAAAAAAAAAAIiEBwAAAAAAAAAAAAAAQCQ8AAAAAAAAAAAAAAAAIuEBAAAAAAAAAAAAAAAQCQ8AAAAAAAAAAAAAAIBIeAAAAAAAAAAAAAAAAETCAwAAAAAAAAAAAAAAIBIeAAAAAAAAAAAAAAAAkfAAAAAAAAAAAAAAAACIhAcAAAAAAAAAAAAAAEAkPAAAAAAAAAAAAAAAACLhAQAAAAAAAAAAAAAAEAkPAAAAAAAAAAAAAACASHgAAAAAAAAAAAAAAABEwgMAAAAAAAAAAAAAACASHgAAAAAAAAAAAAAAAJHwAAAAAAAAAAAAAAAAiIQHAAAAAAAAAAAAAABAJDwAAAAAAAAAAAAAAAAi4QEAAAAAAAAAAAAAABAJDwAAAAAAAAAAAAAAgEh4AAAAAAAAAAAAAAAARMIDAAAAAAAAAAAAAAAgEh4AAAAAAAAAAAAAAACR8AAAAAAAAAAAAAAAAIiEBwAAAAAAAAAAAAAAQCQ8AAAAAAAAAAAAAAAAIuEBAAAAAAAAAAAAAAAQCQ8AAAAAAAAAAAAAAIBIeAAAAAAAAAAAAAAAAETCAwAAAAAAAAAAAAAAIBIeAAAAAAAAAAAAAAAAkfAAAAAAAAAAAAAAAACIhAcAAAAAAAAAAAAAAEAkPAAAAAAAAAAAAAAAACLhAQAAAAAAAAAAAAAAEAkPAAAAAAAAAAAAAACASHgAAAAAAAAAAAAAAABEwgMAAAAAAAAAAAAAACASHgAAAAAAAAAAAAAAAJHwAAAAAAAAAAAAAAAAiIQHAAAAAAAAAAAAAABAJDwAAAAAAAAAAAAAAAAi4QEAAAAAAAAAAAAAABAJDwAAAAAAAAAAAAAAgEh4AAAAAAAAAAAAAAAARMIDAAAAAAAAAAAAAAAgEh4AAAAAAAAAAAAAAACR8AAAAAAAAAAAAAAAAIiEBwAAAAAAAAAAAAAAQCQ8AAAAAAAAAAAAAAAAIuEBAAAAAAAAAAAAAAAQCQ8AAAAAAAAAAAAAAIBIeAAAAAAAAAAAAAAAAETCAwAAAAAAAAAAAAAAIBIeAAAAAAAAAAAAAAAAkfAAAAAAAAAAAAAAAACIhAcAAAAAAAAAAAAAAEAkPAAAAAAAAAAAAAAAACLhAQAAAAAAAAAAAAAAEAkPAAAAAAAAAAAAAACASHgAAAAAAAAAAAAAAABEwgMAAAAAAAAAAAAAACASHgAAAAAAAAAAAAAAAJHwAAAAAAAAAAAAAAAAiIQHAAAAAAAAAAAAAABAJDwAAAAAAAAAAAAAAAAi4QEAAAAAAAAAAAAAABAJDwAAAAAAAAAAAAAAgEh4AAAAAAAAAAAAAAAARMIDAAAAAAAAAAAAAAAgEh4AAAAAAAAAAAAAAACR8AAAAAAAAAAAAAAAAIiEBwAAAAAAAAAAAAAAQCQ8AAAAAAAAAAAAAAAAIuEBAAAAAAAAAAAAAAAQCQ8AAAAAAAAAAAAAAIBIeAAAAAAAAAAAAAAAAETCAwAAAAAAAAAAAAAAIBIeAAAAAAAAAAAAAAAAkfAAAAAAAAAAAAAAAACIhAcAAAAAAAAAAAAAAEAkPAAAAAAAAAAAAAAAACLhAQAAAAAAAAAAAAAAEAkPAAAAAAAAAAAAAACASHgAAAAAAAAAAAAAAABEwgMAAAAAAAAAAAAAACASHgAAAAAAAAAAAAAAAJHwAAAAAAAAAAAAAAAAiIQHAAAAAAAAAAAAAABAJDwAAAAAAAAAAAAAAAAi4QEAAAAAAAAAAAAAABAJDwAAAAAAAAAAAAAAgEh4AAAAAAAAAAAAAAAARMIDAAAAAAAAAAAAAAAgEh4AAAAAAAAAAAAAAACR8AAAAAAAAAAAAAAAAIiEBwAAAAAAAAAAAAAAQCQ8AAAAAAAAAAAAAAAAIuEBAAAAAAAAAAAAAAAQCQ8AAAAAAAAAAAAAAIBIeAAAAAAAAAAAAAAAAETCAwAAAAAAAAAAAAAAIBIeAAAAAAAAAAAAAAAAkfAAAAAAAAAAAAAAAACIhAcAAAAAAAAAAAAAAEAkPAAAAAAAAAAAAAAAACLhAQAAAAAAAAAAAAAAEAkPAAAAAAAAAAAAAACASHgAAAAAAAAAAAAAAABEwgMAAAAAAAAAAAAAACASHgAAAAAAAAAAAAAAAJHwAAAAAAAAAAAAAAAAiIQHAAAAAAAAAAAAAABAJDwAAAAAAAAAAAAAAAAi4QEAAAAAAAAAAAAAABAJDwAAAAAAAAAAAAAAgEh4AAAAAAAAAAAAAAAARMIDAAAAAAAAAAAAAAAgEh4AAAAAAAAAAAAAAACR8AAAAAAAAAAAAAAAAIiEBwAAAAAAAAAAAAAAQCQ8AAAAAAAAAAAAAAAAIuEBAAAAAAAAAAAAAAAQCQ8AAAAAAAAAAAAAAIBIeAAAAAAAAAAAAAAAAETCAwAAAAAAAAAAAAAAIBIeAAAAAAAAAAAAAAAAkfAAAAAAAAAAAAAAAACIhAcAAAAAAAAAAAAAAEAkPAAAAAAAAAAAAAAAACLhAQAAAAAAAAAAAAAAEAkPAAAAAAAAAAAAAACASHgAAAAAAAAAAAAAAABEwgMAAAAAAAAAAAAAACASHgAAAAAAAAAAAAAAAJHwAAAAAAAAAAAAAAAAiIQHAAAAAAAAAAAAAABAJDwAAAAAAAAAAAAAAAAi4QEAAAAAAAAAAAAAABAJDwAAAAAAAAAAAAAAgEh4AAAAAAAAAAAAAAAARMIDAAAAAAAAAAAAAAAgEh4AAAAAAAAAAAAAAACR8AAAAAAAAAAAAAAAAIiEBwAAAAAAAAAAAAAAQCQ8AAAAAAAAAAAAAAAAIuEBAAAAAAAAAAAAAAAQCQ8AAAAAAAAAAAAAAIBIeAAAAAAAAAAAAAAAAETCAwAAAAAAAAAAAAAAIBIeAAAAAAAAAAAAAAAAkfAAAAAAAAAAAAAAAACIhAcAAAAAAAAAAAAAAEAkPAAAAAAAAAAAAAAAACLhAQAAAAAAAAAAAAAAEAkPAAAAAAAAAAAAAACASHgAAAAAAAAAAAAAAABEwgMAAAAAAAAAAAAAACASHgAAAAAAAAAAAAAAAJHwAAAAAAAAAAAAAAAAiIQHAAAAAAAAAAAAAABAJDwAAAAAAAAAAAAAAAAi4QEAAAAAAAAAAAAAABAJDwAAAAAAAAAAAAAAgEh4AAAAAAAAAAAAAAAARMIDAAAAAAAAAAAAAAAgEh4AAAAAAAAAAAAAAACR8AAAAAAAAAAAAAAAAIiEBwAAAAAAAAAAAAAAQCQ8AAAAAAAAAAAAAAAAIuEBAAAAAAAAAAAAAAAQCQ8AAAAAAAAAAAAAAIBIeAAAAAAAAAAAAAAAAETCAwAAAAAAAAAAAAAAIBIeAAAAAAAAAAAAAAAAkfAAAAAAAAAAAAAAAACIhAcAAAAAAAAAAAAAAEAkPAAAAAAAAAAAAAAAACLhAQAAAAAAAAAAAAAAEAkPAAAAAAAAAAAAAACASHgAAAAAAAAAAAAAAABEtQkAAGC9vHvx+FJ/9/ztR2MBAAAAAAAAAABOPAAAAAAAAAAAAAAAADLhAQAAAAAAAAAAAAAAENUmAAAAfuTdi8fT6+dvPxoEAAAAAAAAAADWlBMPAAAAAAAAAAAAAACASHgAAAAAAAAAAAAAAABEwgMAAAAAAAAAAAAAACCqTQAAAPybdy8eT6+fv/1oEAAAAAAAAAAAWCNOPAAAAAAAAAAAAAAAACLhAQAAAAAAAAAAAAAAENUmAACA9fL87cfp9bsXjw0CAAAAAAAAAAD8lBMPAAAAAAAAAAAAAACASHgAAAAAAAAAAAAAAABEVSmlNwMAAPDuxeP4b8/ffjQQAAAAAAAAAACsKSceAAAAAAAAAAAAAAAAkfAAAAAAAAAAAAAAAACIhAcAAAAAAAAAAAAAAEBUlVJ6MwAAAAAAAAAAAAAAAD/ixAMAAAAAAAAAAAAAACASHgAAAAAAAAAAAAAAAJHwAAAAAAAAAAAAAAAAiIQHAAAAAAAAAAAAAABAJDwAAAAAAAAAAAAAAACi2gQAAABwdX/+9Xf8tz9+/81AAAAAAAAAAMDKcOIBAAAAAAAAAAAAAAAQCQ8AAAAAAAAAAAAAAIBIeAAAAAAAAAAAAAAAAES1CQAAAGC2/vzr7+n1H7//ZhAAAAAAAAAAYNCceAAAAAAAAAAAAAAAAETCAwAAAAAAAAAAAAAAIKpNAAAAADfnz7/+nl7/8ftvBgEAAAAAAAAABseJBwAAAAAAAAAAAAAAQCQ8AAAAAAAAAAAAAAAAIuEBAAAAAAAAAAAAAAAQCQ8AAAAAAAAAAAAAAIBIeAAAAAAAAAAAAAAAAES1CQAAAODm/PH7b0YAAAAAAAAAAAbNiQcAAAAAAAAAAAAAAEAkPAAAAAAAAAAAAAAAACLhAQAAAAAAAAAAAAAAEFWllN4MAAAAAAAAAAAAAADAjzjxAAAAAAAAAAAAAAAAiIQHAAAAAAAAAAAAAABAJDwAAAAAAAAAAAAAAAAi4QEAAAAAAAAAAAAAABAJDwAAAAAAAAAAAAAAgEh4AAAAAAAAAAAAAAAARMIDAAAAAAAAAAAAAAAgEh4AAAAAAAAAAAAAAACR8AAAAAAAAAAAAAAAAIiEBwAAAAAAAAAAAAAAQCQ8AAAAAAAAAAAAAAAAIuEBAAAAAAAAAAAAAAAQCQ8AAAAAAAAAAAAAAIBIeAAAAAAAAAAAAAAAAETCAwAAAAAAAAAAAAAAIBIeAAAAAAAAAAAAAAAAkfAAAAAAAAAAAAAAAACIhAcAAAAAAAAAAAAAAEAkPAAAAAAAAAAAAAAAACLhAQAAAAAAAAAAAAAAEAkPAAAAAAAAAAAAAACASHgAAAAAAAAAAAAAAABEwgMAAAAAAAAAAAAAACASHgAAAAAAAAAAAAAAAJHwAAAAAAAAAAAAAAAAiIQHAAAAAAAAAAAAAABAJDwAAAAAAAAAAAAAAAAi4QEAAAAAAAAAAAAAABDVJgAAgOv79P7bte7/8OltIwIAAAAAAAAAAEvJiQcAAAAAAAAAAAAAAEAkPAAAAAAAAAAAAAAAACLhAQAAAAAAAAAAAAAAENUmAACAX/Pp/TcjAAAAAAAAAAAAK8+JBwAAAAAAAAAAAAAAQCQ8AAAAAAAAAAAAAAAAotoEAABwOZ/efzMCAAAAAAAAAACwdpx4AAAAAAAAAAAAAAAARMIDAAAAAAAAAAAAAAAgqk0AAACL9+n9twu3Hz69bRQAAAAAAAAAAGApOPEAAAAAAAAAAAAAAACIhAcAAAAAAAAAAAAAAEAkPAAAAAAAAAAAAAAAAKKqlNKbAQAAfuzT+28Lfw0Pn972QQAAAAAAAAAAAAvjxAMAAAAAAAAAAAAAACASHgAAAAAAAAAAAAAAAJHwAAAAAAAAAAAAAAAAiIQHAAAAAAAAAAAAAABAJDwAAAAAAAAAAAAAAACi2gQAALDcPr3/Nr1++PS2QQAAAAAAAAAAgLly4gEAAAAAAAAAAAAAABAJDwAAAAAAAAAAAAAAgEh4AAAAAAAAAAAAAAAARLUJAAAge/j09vT60/tvBgEAAAAAAAAAANaOEw8AAAAAAAAAAAAAAIBIeAAAAAAAAAAAAAAAAERVKaU3AwAAXN2n99/m8jwPn942NgAAAAAAAAAAsDBOPAAAAAAAAAAAAAAAACLhAQAAAAAAAAAAAAAAEFWllN4MAAAwO5/ef7vyfR4+vW04AAAAAAAAAABgKTnxAAAAAAAAAAAAAAAAiIQHAAAAAAAAAAAAAABAVJVSejMAAAAAAAAAAAAAAAA/4sQDAAAAAAAAAAAAAAAgEh4AAAAAAAAAAAAAAACR8AAAAAAAAAAAAAAAAIiEBwAAAAAAAAAAAAAAQCQ8AAAAAAAAAAAAAAAAIuEBAAAAAAAAAAAAAAAQCQ8AAAAAAAAAAAAAAIBIeAAAAAAAAAAAAAAAAETCAwAAAAAAAAAAAAAAIBIeAAAAAAAAAAAAAAAAkfAAAAAAAAAAAAAAAACIhAcAAAAAAAAAAAAAAEAkPAAAAAAAAAAAAAAAACLhAQAAAAAAAAAAAAAAEAkPAAAAAAAAAAAAAACASHgAAAAAAAAAAAAAAABEwgMAAAAAAAAAAAAAACASHgAAAAAAAAAAAAAAAJHwAAAAAAAAAAAAAAAAiIQHAAAAAAAAAAAAAABAJDwAAAAAAAAAAAAAAAAi4QEAAAAAAAAAAAAAABAJDwAAAAAAAAAAAAAAgEh4AAAAAAAAAAAAAAAARMIDAAAAAAAAAAAAAAAgEh4AAAAAAAAAAAAAAACR8AAAAAAAAAAAAAAAAIiEBwAAAAAAAAAAAAAAQCQ8AAAAAAAAAAAAAAAAIuEBAAAAAAAAAAAAAAAQCQ8AAAAAAAAAAAAAAIBIeAAAAAAAAAAAAAAAAETCAwAAAAAAAAAAAAAAIBIeAAAAAAAAAAAAAAAAkfAAAAAAAAAAAAAAAACIhAcAAAAAAAAAAAAAAEBUmwAAgHVxsrd75fvcf/lmMO9vPJpc6u/arvFlAAAAAAAAAAAALs2JBwAAAAAAAAAAAAAAQCQ8AAAAAAAAAAAAAAAAoqqU0psBAIBVcbK3O9PHu//yzVK/3/Focq37t13jSwMAAAAAAAAAAPyUEw8AAAAAAAAAAAAAAIBIeAAAAAAAAAAAAAAAAES1CQAAYDjGo4kRAAAAAAAAAACAuXLiAQAAAAAAAAAAAAAAEAkPAAAAAAAAAAAAAACASHgAAAAAAAAAAAAAAABEtQkAAGB9jUeT6XXbNQYBAAAAAAAAAAD+wYkHAAAAAAAAAAAAAABAJDwAAAAAAAAAAAAAAACi2gQAAAzdyd7uSr+/8WjiQwYAAAAAAAAAABbGiQcAAAAAAAAAAAAAAEAkPAAAAAAAAAAAAAAAAKLaBAAADNHJ3q4RAAAAAAAAAAAA5sCJBwAAAAAAAAAAAAAAQCQ8AAAAAAAAAAAAAAAAIuEBAAAAAAAAAAAAAAAQ1SYAAID11XaNEQAAAAAAAAAAgJ9y4gEAAAAAAAAAAAAAABAJDwAAAAAAAAAAAAAAgKg2AQAAQ3Cyt2sEAAAAAAAAAACABXDiAQAAAAAAAAAAAAAAEAkPAAAAAAAAAAAAAACASHgAAAAAAAAAAAAAAABEwgMAAAAAAAAAAAAAACASHgAAAAAAAAAAAAAAAJHwAAAAAAAAAAAAAAAAiGoTAACwrE72do1wA9quMQIAAAAAAAAAAHBpTjwAAAAAAAAAAAAAAAAi4QEAAAAAAAAAAAAAABDVJgAAYJmc7O0u/DXcf/nGBwEAAAAAAAAAAPBfTjwAAAAAAAAAAAAAAAAi4QEAAAAAAAAAAAAAABAJDwAAAAAAAAAAAAAAgEh4AAAAAAAAAAAAAAAARMIDAAAAAAAAAAAAAAAgqk0AAMAineztGmEO2q4xAgAAAAAAAAAA8EuceAAAAAAAAAAAAAAAAETCAwAAAAAAAAAAAAAAIBIeAAAAAAAAAAAAAAAAkfAAAAAAAAAAAAAAAACIhAcAAAAAAAAAAAAAAEAkPAAAAAAAAAAAAAAAAKLaBAAALNL9l28u3D7Z2zXKDLRdYwQAAAAAAAAAAGAmnHgAAAAAAAAAAAAAAABEwgMAAAAAAAAAAAAAACCqTQAAwDK5//LN9Ppkb3fuzwkAAAAAAAAAAMBFTjwAAAAAAAAAAAAAAAAi4QEAAAAAAAAAAAAAABAJDwAAAAAAAAAAAAAAgKg2AQAAy+r+yzfT65O9XYMAAAAAAAAAAAAsgBMPAAAAAAAAAAAAAACASHgAAAAAAAAAAAAAAABEVSmlNwMAAEN2srd75fvcf/lmkO91PJpc6u/arvHFAAAAAAAAAAAAZsKJBwAAAAAAAAAAAAAAQCQ8AAAAAAAAAAAAAAAAoqqU0psBAIBVdbK3O72+//LNIN/DeDS59mO0XePLAAAAAAAAAAAA/BInHgAAAAAAAAAAAAAAAJHwAAAAAAAAAAAAAAAAiIQHAAAAAAAAAAAAAABAVJVSejMAAMByGY8mc3/OtmsMDwAAAAAAAAAA/IMTDwAAAAAAAAAAAAAAgEh4AAAAAAAAAAAAAAAARLUJAACAUkoZjyYXbrddYxQAAAAAAAAAAMCJBwAAAAAAAAAAAAAAQCY8AAAAAAAAAAAAAAAAoqqU0psBAAAWazyaDOa1tl3jAwMAAAAAAAAAgDXixAMAAAAAAAAAAAAAACASHgAAAAAAAAAAAAAAAFFtAgAA4CrGo8mF223XGAUAAAAAAAAAAFaYEw8AAAAAAAAAAAAAAIBIeAAAAAAAAAAAAAAAAETCAwAAAAAAAAAAAAAAIKpNAAAAXMd4NJlet11jEAAAAAAAAAAAWDFOPAAAAAAAAAAAAAAAACLhAQAAAAAAAAAAAAAAEAkPAAAAAAAAAAAAAACASHgAAAAAAAAAAAAAAABEwgMAAAAAAAAAAAAAACCqSim9GQAAYP7Go8lKv7+2a3zIAAAAAAAAAACwApx4AAAAAAAAAAAAAAAARMIDAAAAAAAAAAAAAAAgEh4AAAAAAAAAAAAAAACR8AAAAAAAAAAAAAAAAIiEBwAAAAAAAAAAAAAAQCQ8AAAAAAAAAAAAAAAAIuEBAAAAAAAAAAAAAAAQCQ8AAAAAAAAAAAAAAIBIeAAAAAAAAAAAAAAAAETCAwAAAAAAAAAAAAAAIBIeAAAAAAAAAAAAAAAAkfAAAAAAAAAAAAAAAACIhAcAAAAAAAAAAAAAAEAkPAAAAAAAAAAAAAAAACLhAQAAAAAAAAAAAAAAEAkPAAAAAAAAAAAAAACAqDYBAAAwK23XGAEAAAAAAAAAAFaMEw8AAAAAAAAAAAAAAIBIeAAAAAAAAAAAAAAAAES1CQAAACD7/P3Dle9z79YTwwEAAAAAAAAAK8OJBwAAAAAAAAAAAAAAQCQ8AAAAAAAAAAAAAAAAotoEAAAAMFufv3/44X+/d+uJcQAAAAAAAACAwXHiAQAAAAAAAAAAAAAAEAkPAAAAAAAAAAAAAACASHgAAAAAAAAAAAAAAABEtQkAAGAx2q651N+NRxNjwQLdu/Vkev35+weDAAAAAAAAAABrx4kHAAAAAAAAAAAAAABAJDwAAAAAAAAAAAAAAACiqpTSmwEAAIZpPJos7Wtru8YHNACnB2dXvs/W9uba7vX5+4dr3f/erSe+dAAAAAAAAADA4DjxAAAAAAAAAAAAAAAAiIQHAAAAAAAAAAAAAABAVJVSejMAAAA/Mx5NrnyftmsMt6ROD85m9lhb25tru+Pn7x+ufJ97t574AgIAAAAAAAAAg+PEAwAAAAAAAAAAAAAAIBIeAAAAAAAAAAAAAAAAkfAAAAAAAAAAAAAAAACIqlJKbwYAAOBXjUeTS/1d2zXGWhKnB2cze6yt7U2DllI+f/8Q/+3erScGAgAAAAAAAAAGzYkHAAAAAAAAAAAAAABAJDwAAAAAAAAAAAAAAACiqpTSmwEAAJiF8Whyqb9ru8ZYC3R6cDazx9ra3jQoAAAAAAAAAMCKc+IBAAAAAAAAAAAAAAAQCQ8AAAAAAAAAAAAAAICoNgEAADArbddMr8ejiUEAAAAAAAAAAGAFOPEAAAAAAAAAAAAAAACIhAcAAAAAAAAAAAAAAEAkPAAAAAAAAAAAAAAAAKLaBAAAAFzF1vamEQAAAAAAAAAA1ogTDwAAAAAAAAAAAAAAgEh4AAAAAAAAAAAAAAAARLUJAACAeRuPJtPrtmtW+r2eHpwN9rVvbW/6sl7S4dHxhdvPHj0wCgAAAAAAAACwMpx4AAAAAAAAAAAAAAAARMIDAAAAAAAAAAAAAAAgqk0AAABwfacHZ4N5rVvbmz6wG3Z4dDy9fvbogUEAAAAAAAAAgEFz4gEAAAAAAAAAAAAAABAJDwAAAAAAAAAAAAAAgKg2AQAAwNWdHpwZYc0dHh0bAQAAAAAAAABYC048AAAAAAAAAAAAAAAAIuEBAAAAAAAAAAAAAAAQCQ8AAAAAAAAAAAAAAICoNgEAAMBq29reNAIAAAAAAAAAAL/MiQcAAAAAAAAAAAAAAEAkPAAAAAAAAAAAAAAAAKLaBAAAwE1ou+bC7fFoMvj3dHpw5oNdc4dHx0YAAAAAAAAAANaOEw8AAAAAAAAAAAAAAIBIeAAAAAAAAAAAAAAAAERVKaU3AwAAsCjj0eTC7bZrlva1nh6cDWbXre1NX64ZOTw6vvJ9nj16YDgAAAAAAAAAYGU48QAAAAAAAAAAAAAAAIiEBwAAAAAAAAAAAAAAQCQ8AAAAAAAAAAAAAAAAotoEAADAMhmPJtPrtmsW/npOD858KAt0eHT8r3/z7NGDuT/nTb8GAAAAAAAAAIBl4sQDAAAAAAAAAAAAAAAgEh4AAAAAAAAAAAAAAABRVUrpzQAAAMzTeDS58n3arlnIaz09OBvMrlvbmyv3XTk8Ol7a1/bs0QP/MwMAAAAAAAAAa8GJBwAAAAAAAAAAAAAAQCQ8AAAAAAAAAAAAAAAAotoEAADAEIxHk+l12zVru8PW9qYvAwAAAAAAAAAAc+XEAwAAAAAAAAAAAAAAIBIeAAAAAAAAAAAAAAAAkfAAAAAAAAAAAAAAAACIahMAAADz1nbN9Ho8mqzVe9/a3vQFuIJnjx5Mrw+Pjg0CAAAAAAAAALAATjwAAAAAAAAAAAAAAAAi4QEAAAAAAAAAAAAAABBVpZTeDAAAwKKMR5NrP0bbNYZcM4dHxzf22M8ePTAwAAAAAAAAAMD/ceIBAAAAAAAAAAAAAAAQCQ8AAAAAAAAAAAAAAICoNgEAAADr6NmjB0YAAAAAAAAAALgEJx4AAAAAAAAAAAAAAACR8AAAAAAAAAAAAAAAAIhqEwAAAIvUds2F2+PRxCj8q2ePHkyvD4+ODQIAAAAAAAAAcIOceAAAAAAAAAAAAAAAAETCAwAAAAAAAAAAAAAAIBIeAAAAAAAAAAAAAAAAUVVK6c0AAAAso/Focqm/a7vGWAAAAAAAAAAAcEOceAAAAAAAAAAAAAAAAETCAwAAAAAAAAAAAAAAIKpNAAAADN14NJlet11jEAAAAAAAAAAAmCEnHgAAAAAAAAAAAAAAAJHwAAAAAAAAAAAAAAAAiGoTAAAAy6rtmun1eDQxCAAAAAAAAAAALIATDwAAAAAAAAAAAAAAgEh4AAAAAAAAAAAAAAAARMIDAAAAAAAAAAAAAAAgqkopvRkAAIAhGY8ml/q7tmuMBQAAAAAAAAAA1+TEAwAAAAAAAAAAAAAAIBIeAAAAAAAAAAAAAAAAUW0CAABgaNquuXB7PJoYBQAAAAAAAAAAbogTDwAAAAAAAAAAAAAAgEh4AAAAAAAAAAAAAAAARLUJAACAVTUeTS7cbrvGKAAAAAAAAAAAcEVOPAAAAAAAAAAAAAAAACLhAQAAAAAAAAAAAAAAEAkPAAAAAAAAAAAAAACAqDYBAAAwdG3XTK/Ho4lBAAAAAAAAAABghpx4AAAAAAAAAAAAAAAARMIDAAAAAAAAAAAAAAAgqkopvRkAAAAAAAAAAAAAAIAfceIBAAAAAAAAAAAAAAAQCQ8AAAAAAAAAAAAAAIBIeAAAAAAAAAAAAAAAAETCAwAAAAAAAAAAAAAAIBIeAAAAAAAAAAAAAAAAUW0CAADgJvTnO5f6u2pj31gAAAAAAAAAALDEnHgAAAAAAAAAAAAAAABEwgMAAAAAAAAAAAAAACASHgAAAAAAAAAAAAAAAFFtAgAAYJH68534b9XGvoEAAAAAAAAAAGDBnHgAAAAAAAAAAAAAAABEwgMAAAAAAAAAAAAAACCqSim9GQAAgFnoz3fm80NmY9/YAAAAAAAAAAAwJ048AAAAAAAAAAAAAAAAIuEBAAAAAAAAAAAAAAAQVaWU3gwAAMCs9ec78/ths7FvcAAAAAAAAAAAuCFOPAAAAAAAAAAAAAAAACLhAQAAAAAAAAAAAAAAEAkPAAAAAAAAAAAAAACAqDYBAAAs3pevr2/08e/eebXS+/XnO9PramN/po+XzOJ5AAAAAAAAAABgCJx4AAAAAAAAAAAAAAAARMIDAAAAAAAAAAAAAAAgqkopvRkAAGA+vnx9vZDnvXvn1cLfe3++M/8fPBv7c3utv/pcAAAAAAAAAACw7Jx4AAAAAAAAAAAAAAAARMIDAAAAAAAAAAAAAAAgqkopvRkAAODmfPn6eqlez907rxbyvP35zuJ/AG3sz+W1XvZ5AAAAAAAAAABgCJx4AAAAAAAAAAAAAAAARMIDAAAAAAAAAAAAAAAgEh4AAAAAAAAAAAAAAABRVUrpzQAAADfny9fXC38Nd++8WqpN+vOdxf8Y2tify+v72fMAAAAAAAAAAMAQOPEAAAAAAAAAAAAAAACIhAcAAAAAAAAAAAAAAEBUmwAAAFbP3Tuvlvr1VRv70+v+fGchr2FRzwsAAAAAAAAAAEPjxAMAAAAAAAAAAAAAACASHgAAAAAAAAAAAAAAAFFtAgAAWA1377wywhLqz3cu3K429o0CAAAAAAAAAMCgOPEAAAAAAAAAAAAAAACIhAcAAAAAAAAAAAAAAEAkPAAAAAAAAAAAAAAAAKKqlNKbAQAA5uPL19dXvs/dO6/WaqP+fGe1f4Rt7PsfAQAAAAAAAACAQXHiAQAAAAAAAAAAAAAAEAkPAAAAAAAAAAAAAACAqCql9GYAAACWRX++sz4/yDb2feAAAAAAAAAAACw9Jx4AAAAAAAAAAAAAAACR8AAAAAAAAAAAAAAAAIiqUkpvBgAAYBn15zvr8+NsY98HDgAAAAAAAADAUnLiAQAAAAAAAAAAAAAAEAkPAAAAAAAAAAAAAACAqCql9GYAAACWXX++c7kfORv7M328X/qhdcnXAAAAAAAAAAAAQ+DEAwAAAAAAAAAAAAAAIBIeAAAAAAAAAAAAAAAAkfAAAAAAAAAAAAAAAACIqlJKbwYAAGBI+vOdiz9sNvZn+njX/qF1zdcDAAAAAAAAAADLxIkHAAAAAAAAAAAAAABAJDwAAAAAAAAAAAAAAACiqpTSmwEAAOB/+vOdq/+42tg3HAAAAAAAAAAAK8mJBwAAAAAAAAAAAAAAQCQ8AAAAAAAAAAAAAAAAIuEBAAAAAAAAAAAAAAAQCQ8AAAAAAAAAAAAAAIBIeAAAAAAAAAAAAAAAAETCAwAAAAAAAAAAAAAAIKpKKb0ZAAAAfqw/3/nxj6mNfeMAAAAAAAAAALAWnHgAAAAAAAAAAAAAAABEwgMAAAAAAADgP+3dX2iddx3H8e/TPU1n18Y/HYFI9UIvBKewCoZVhSojF4K1JewIgtAsLNtNb2uQhSAhm8Te9i4jpgxRPBhaq4LmahfSmRUiU1AZeLOVQrWlzbrQbnOPF7JDM/Od+XOSnD+v19U5yXmec/Y52d3e+wEAAAAApIqIqMwAAAAAAAAAAAAAAACsxYkHAAAAAAAAAAAAAABASngAAAAAAAAAAAAAAACkhAcAAAAAAAAAAAAAAEBKeAAAAAAAAAAAAAAAAKSEBwAAAAAAAAAAAAAAQEp4AAAAAAAAAAAAAAAApIQHAAAAAAAAAAAAAABASngAAAAAAAAAAAAAAACkhAcAAAAAAAAAAAAAAEBKeAAAAAAAAAAAAAAAAKSEBwAAAAAAAAAAAAAAQEp4AAAAAAAAAAAAAAAApIQHAAAAAAAAAAAAAABASngAAAAAAAAAAAAAAACkhAcAAAAAAAAAAAAAAEBKeAAAAAAAAAAAAAAAAKSEBwAAAAAAAAAAAAAAQEp4AAAAAAAAAAAAAAAApIQHAAAAAAAAAAAAAABASngAAAAAAAAAAAAAAACkhAcAAAAAAAAAAAAAAEBKeAAAAAAAAAAAAAAAAKSEBwAAAAAAAAAAAAAAQEp4AAAAAAAAAAAAAAAApIQHAAAAAAAAAAAAAABASngAAAAAAAAAAAAAAACkhAcAAAAAAAAAAAAAAEBKeAAAAAAAAAAAAAAAAKSEBwAAAAAAAAAAAAAAQEp4AAAAAAAAAAAAAAAApIQHAAAAAAAAAAAAAABASngAAAAAAAAAAAAAAACkhAcAAAAAAAAAAAAAAEBKeAAAAAAAAAAAAAAAAKSEBwAAAAAAAAAAAAAAQEp4AAAAAAAAAAAAAAAApIQHAAAAAAAAAAAAAABASngAAAAAAAAAAAAAAACkhAcAAAAAAAAAAAAAAEBKeAAAAAAAAAAAAAAAAKSEBwAAAAAAAAAAAAAAQEp4AAAAAAAAAAAAAAAApIQHAAAAAAAAAAAAAABASngAAAAAAAAAAAAAAACkhAcAAAAAAAAAAAAAAEBKeAAAAAAAAAAAAAAAAKSEBwAAAAAAAAAAAAAAQEp4AAAAAAAAAAAAAAAApIQHAAAAAAAAAAAAAABASngAAAAAAAAAAAAAAACkhAcAAAAAAAAAAAAAAEBKeAAAAAAAAAAAAAAAAKSEBwAAAAAAAAAAAAAAQEp4AAAAAAAAAAAAAAAApIQHAAAAAAAAAAAAAABASngAAAAAAAAAAAAAAACkhAcAAAAAAAAAAAAAAEBKeAAAAAAAAAAAAAAAAKSEBwAAAAAAAAAAAAAAQEp4AAAAAAAAAAAAAAAApIQHAAAAAAAAAAAAAABASngAAAAAAAAAAAAAAACkhAcAAAAAAAAAAAAAAEBKeAAAAAAAAAAAAAAAAKSEBwAAAAAAAAAAAAAAQEp4AAAAAAAAAAAAAAAApIQHAAAAAAAAAAAAAABASngAAAAAAAAAAAAAAACkhAcAAAAAAAAAAAAAAEBKeAAAAAAAAAAAAAAAAKSEBwAAAAAAAAAAAAAAQEp4AAAAAAAAAAAAAAAApIQHAAAAAAAAAAAAAABASngAAAAAAAAAAAAAAACkhAcAAAAAAAAAAAAAAEBKeAAAAAAAAAAAAAAAAKSEBwAAAAAAAAAAAAAAQEp4AAAAAAAAAAAAAAAApIQHAAAAAAAAAAAAAABASngAAAAAAAAAAAAAAACkhAcAAAAAAAAAAAAAAEBKeAAAAAAAAAAAAAAAAKSEBwAAAAAAAAAAAAAAQEp4AAAAAAAAAAAAAAAApIQHAAAAAAAAAAAAAABASngAAAAAAAAAAAAAAACkhAcAAAAAAAAAAAAAAEBKeAAAAAAAAAAAAAAAAKSEBwAAAAAAAAAAAAAAQEp4AAAAAAAAAAAAAAAApIQHAAAAAAAAAAAAAABASngAAAAAAAAAAAAAAACkhAcAAAAAAAAAAAAAAEBKeAAAAAAAAAAAAAAAAKSEBwAAAAAAAAAAAAAAQEp4AAAAAAAAAAAAAAAApIQHAAAAAAAAAAAAAABASngAAAAAAAAAAAAAAACkhAcAAAAAAAAAAAAAAEBKeAAAAAAAAAAAAAAAAKSEBwAAAAAAAAAAAAAAQEp4AAAAAAAAAAAAAAAApIQHAAAAAAAAAAAAAABASngAAAAAAAAAAAAAAACkhAcAAAAAAAAAAAAAAEBKeAAAAAAAAAAAAAAAAKSEBwAAAAAAAAAAAAAAQEp4AAAAAAAAAAAAAAAApIQHAAAAAAAAAAAAAABASngAAAAAAAAAAAAAAACkhAcAAAAAAAAAAAAAAEBKeAAAAAAAAAAAAAAAAKSEBwAAAAAAAAAAAAAAQEp4AAAAAAAAAAAAAAAApIQHAAAAAAAAAAAAAABASngAAAAAAAAAAAAAAACkhAcAAAAAAAAAAAAAAEBKeAAAAAAAAAAAAAAAAKSEBwAAAAAAAAAAAAAAQEp4AAAAAAAAAAAAAAAApIQHAAAAAAAAAAAAAABASngAAAAAAAAAAAAAAACkhAcAAAAAAAAAAAAAAEBKeAAAAAAAAAAAAAAAAKRKEwAAAM1yYupM+ruL42cNBAAAAAAAAAAAbciJBwAAAAAAAAAAAAAAQEp4AAAAAAAAAAAAAAAApIQHAAAAAAAAAAAAAABAqoiIygwAAMBmnZg6s+FrLo6fNRwAAAAAAAAAALQJJx4AAAAAAAAAAAAAAAAp4QEAAAAAAAAAAAAAAJAqTQAAAOy0E1NnGo8vjp81CAAAAAAAAAAAtDAnHgAAAAAAAAAAAAAAACnhAQAAAAAAAAAAAAAAkCpNAAAA7KYTU2dWPb84ftYoAAAAAAAAAADQQpx4AAAAAAAAAAAAAAAApIQHAAAAAAAAAAAAAABASngAAAAAAAAAAAAAAACkhAcAAAAAAAAAAAAAAEBKeAAAAAAAAAAAAAAAAKSEBwAAAAAAAAAAAAAAQEp4AAAAAAAAAAAAAAAApIQHAAAAAAAAAAAAAABASngAAAAAAAAAAAAAAACkhAcAAAAAAAAAAAAAAEBKeAAAAAAAAAAAAAAAAKSEBwAAAAAAAAAAAAAAQEp4AAAAAAAAAAAAAAAApIQHAAAAAAAAAAAAAABASngAAAAAAAAAAAAAAACkhAcAAAAAAAAAAAAAAEBKeAAAAAAAAAAAAAAAAKSEBwAAAAAAAAAAAAAAQEp4AAAAAAAAAAAAAAAApIQHAAAAAAAAAAAAAABASngAAAAAAAAAAAAAAACkhAcAAAAAAAAAAAAAAECqiIjKDAAAQDOcmDrT1PtdHD9rVAAAAAAAAAAA2GVOPAAAAAAAAAAAAAAAAFLCAwAAAAAAAAAAAAAAICU8AAAAAAAAAAAAAAAAUsIDAAAAAAAAAAAAAAAgJTwAAAAAAAAAAAAAAABSwgMAAAAAAAAAAAAAACBVmgAAAGiWi+NnG49PTJ0xCAAAAAAAAAAAdAAnHgAAAAAAAAAAAAAAACnhAQAAAAAAAAAAAAAAkBIeAAAAAAAAAAAAAAAAKeEBAAAAAAAAAAAAAACQEh4AAAAAAAAAAAAAAAAp4QEAAAAAAAAAAAAAAJAqIqIyAwAAsN1OTJ3Z0vUXx88aEQAAAAAAAAAAdoETDwAAAAAAAAAAAAAAgJTwAAAAAAAAAAAAAAAASAkPAAAAAAAAAAAAAACAlPAAAAAAAAAAAAAAAABICQ8AAAAAAAAAAAAAAIBUaQIAAGAnXBw/23h8YuqMQQAAAAAAAAAAoE048QAAAAAAAAAAAAAAAEgJDwAAAAAAAAAAAAAAgFRpAgAAgO6yUJ9Z8+eDtVHjAAAAAAAAAADwP5x4AAAAAAAAAAAAAAAApIQHAAAAAAAAAAAAAABASngAAAAAAAAAAAAAAACkioiozAAAAOyWE1Nn1vW6i+NnjbUBC/WZLd9jsDZqSAAAAAAAAAAAnHgAAAAAAAAAAAAAAADkhAcAAAAAAAAAAAAAAECqiIjKDAAAQKs4MXWm8fji+FmDbNJCfaap9xusjRoVAAAAAAAAAKBLOfEAAAAAAAAAAAAAAABICQ8AAAAAAAAAAAAAAIBUERGVGQAAANrfQn1mR95nsDZqbAAAAAAAAACALuLEAwAAAAAAAAAAAAAAICU8AAAAAAAAAAAAAAAAUsIDAAAAAAAAAAAAAAAgJTwAAAAAAAAAAAAAAABSwgMAAAAAAAAAAAAAACAlPAAAAAAAAAAAAAAAAFJFRFRmAAAA6CwL9ZkdeZ/B2qixAQAAAAAAAAA6nBMPAAAAAAAAAAAAAACAlPAAAAAAAAAAAAAAAABICQ8AAAAAAAAAAAAAAICU8AAAAAAAAAAAAAAAAEgJDwAAAAAAAAAAAAAAgJTwAAAAAAAAAAAAAAAASJUmAAAAYLMW6jOrng/WRo0CAAAAAAAAANBhnHgAAAAAAAAAAAAAAACkhAcAAAAAAAAAAAAAAECqNAEAAEDnGayNNh4v1GcMAgAAAAAAAADApjnxAAAAAAAAAAAAAAAASAkPAAAAAAAAAAAAAACAVBERlRkAAAC6x0J9ZkfeZ7A2amwAAAAAAAAAgA7gxAMAAAAAAAAAAAAAACAlPAAAAAAAAAAAAAAAAFJFRFRmAAAA6E4L9Zmm3m+wNmpUAAAAAAAAAIAO48QDAAAAAAAAAAAAAAAgJTwAAAAAAAAAAAAAAABSwgMAAAAAAAAAAAAAACBVmgAAAKB7DdZGG48X6jM79r73v9f9nwEAYLcdP728rtddOtdrLAAAAAAAoGs48QAAAAAAAAAAAAAAAEgJDwAAAAAAAAAAAAAAgFRpAgAAACIiBmujq54v1Gc2fE1mPfcCAAAAAAAAAKA1OfEAAAAAAAAAAAAAAABICQ8AAAAAAAAAAAAAAIBUaQIAAAC2w0J9ZsOvG6yNGg4A2FWXzvWuen789LJRAAAAAACArufEAwAAAAAAAAAAAAAAICU8AAAAAAAAAAAAAAAAUsIDAAAAAAAAAAAAAAAgVUREZQYAAAAW6jMt/fkGa6O+JAA6ythwfV2vm56rGWsXHT+9vOFrLp3rNRwAAAAAANBRnHgAAAAAAAAAAAAAAACkhAcAAAAAAAAAAAAAAECqiIjKDAAAAHzQQn2mZT/bYG3UFwRA2xsbrm/4mum5muF22PHTyxu+5tK5XsMBAAAAAAAdxYkHAAAAAAAAAAAAAABASngAAAAAAAAAAAAAAACkShMAAACwlsHaaOPxQn1m267ZjPvvff97AgBs1fHTy0YAAAAAAAD4ACceAAAAAAAAAAAAAAAAKeEBAAAAAAAAAAAAAACQEh4AAAAAAAAAAAAAAACpIiIqMwAAAHSP6/Mja/68b2h2295zoT6zbfcerI36UgHYdWPD9TV/Pj1X29L1m70fG3P89PKWrr90rteIAAAAAABAR3PiAQAAAAAAAAAAAAAAkBIeAAAAAAAAAAAAAAAAqSIiKjMAAAB0ruvzI5u6rm9odts+00J9pmn3GqyN+pIB2HVjw/V1vW56rrbha9ZzL5rn+Onldb3u0rleYwEAAAAAAF3DiQcAAAAAAAAAAAAAAEBKeAAAAAAAAAAAAAAAAKSKiKjMAAAA0H6uz49s6/37hmZ35J9joT6zrtcN1kZ96QC0rLHhekt9num5mi8FAAAAAACApnHiAQAAAAAAAAAAAAAAkBIeAAAAAAAAAAAAAAAAKeEBAAAAAAAAAAAAAACQKk0AAADQPq7Pj+zKe/UNzW7b+wzWRn2xAAAAAAAAAAAtzIkHAAAAAAAAAAAAAABASngAAAAAAAAAAAAAAACkShMAAAAAALCdzt/59qauO3XgV8YDAAAAAABoAU48AAAAAAAAAAAAAAAAUsIDAAAAAAAAAAAAAAAgVUREZQYAAID2c31+ZFfet29o1vgAdL2x4XrLfabpuVrL7nX+zrc3dd2pA7/yxwYAAAAAANACnHgAAAAAAAAAAAAAAACkhAcAAAAAAAAAAAAAAECqNAEAAAAAAGzMxMLcul43OThsLAAAAAAAoO058QAAAAAAAAAAAAAAAEgJDwAAAAAAAAAAAAAAgJTwAAAAAAAAAAAAAAAASJUmAAAAAADYmOm52qrnY8P1Xf8MrezUgV/5owEAAAAAAGhjTjwAAAAAAAAAAAAAAABSwgMAAAAAAAAAAAAAACBVmgAAAAAAYOdNz9XS340N13f883zwPT/s8wEAAAAAANBdnHgAAAAAAAAAAAAAAACkhAcAAAAAAAAAAAAAAECqiIjKDAAAAO3n+vzIrrxv39Cs8QHoemPD9U1dNz1X27b7r/fem3mfzdy7m0wszK3rdZODw8YCAAAAAADakhMPAAAAAAAAAAAAAACAlPAAAAAAAAAAAAAAAABICQ8AAAAAAAAAAAAAAIBUaQIAAAAAgM4yNlzf8j2m52qGXKfJweFVzycW5owCAAAAAAB0FCceAAAAAAAAAAAAAAAAKeEBAAAAAAAAAAAAAACQKk0AAAAAALA9pudqO/ZeY8P1lv583WRycNgIAAAAAABAR3HiAQAAAAAAAAAAAAAAkBIeAAAAAAAAAAAAAAAAqdIEAAAA7eP6/IgRAKAFTM/VtnyPseG6IQEAAAAAAGgLTjwAAAAAAAAAAAAAAABSwgMAAAAAAAAAAAAAACAlPAAAAAAAAAAAAAAAAFKlCQAAAIDtduPaYvq7Q/0DBgK6xthwfdc/w/RcraM2vTN9btXzA2On/aEBAAAAAAA0mRMPAAAAAAAAAAAAAACAlPAAAAAAAAAAAAAAAABIlSYAAAAAtsONa4sbft2h/gHDAazT9Fxt1fOx4bpRIuLO9LnG4wNjpw0CAAAAAADQBE48AAAAAAAAAAAAAAAAUsIDAAAAAAAAAAAAAAAgVZoAAACgffQNzTYeX58fMQgt5ca1xabe41D/gFGBrjU9V9uRa9rVnelz/kgAAAAAAAB2kBMPAAAAAAAAAAAAAACAlPAAAAAAAAAAAAAAAABIFRFRmQEAAKD9XJ8f2bH36huaNTgbduPaYlPvd6h/wKgAXebO9LktXX9g7LQRAQAAAAAAmsCJBwAAAAAAAAAAAAAAQEp4AAAAAAAAAAAAAAAApIQHAAAAAAAAAAAAAABAqjQBAABAe+obml31/Pr8iFHYcTeuLRoBAAAAAAAAADqcEw8AAAAAAAAAAAAAAICU8AAAAAAAAAAAAAAAAEiVJgAAAGAtfUOzRugCN64tNh4f6h9Y8+cAAAAAAAAAQHdz4gEAAAAAAAAAAAAAAJASHgAAAAAAAAAAAAAAAKkiIiozAAAAQHe6cW2xbT7rof4BXxi0sWffeGnNnz93+Jhx2LA70+fW9boDY6eNBQAAAAAA0AROPAAAAAAAAAAAAAAAAFLCAwAAAAAAAAAAAAAAICU8AAAAAAAAAAAAAAAAUqUJAAAAAIBme/aNl4zAtjkwdtoIAAAAAAAAO8iJBwAAAAAAAAAAAAAAQEp4AAAAAAAAAAAAAAAApEoTAAAAAADN8OwbL63rdc8dPmYsAAAAAAAAaCNOPAAAAAAAAAAAAAAAAFLCAwAAAAAAAAAAAAAAICU8AAAAAAAAAAAAAAAAUsIDAAAAAAAAAAAAAAAgJTwAAAAAAAAAAAAAAABSwgMAAAAAAAAAAAAAACBVRERlBgAAAOhON64ttuXnPtQ/4MuDFvfsGy+t63XPHT5mLAAAAAAAAGhxTjwAAAAAAAAAAAAAAABSwgMAAAAAAAAAAAAAACBVmgAAAAC616H+gcbjG9cW2+azAu3tucPHjAAAAAAAAABtxIkHAAAAAAAAAAAAAABASngAAAAAAAAAAAAAAACkioiozAAAAADcuLbY0p/vUP+ALwkAAAAAAAAAdoETDwAAAAAAAAAAAAAAgJTwAAAAAAAAAAAAAAAASBURUZkBAAAAuN+Na4u7/hkO9Q/4IgDa2MTShfR3k0dOGggAAAAAAKCNOPEAAAAAAAAAAAAAAABICQ8AAAAAAAAAAAAAAICU8AAAAAAAAAAAAAAAAEiVJgAAAAA+6FD/QPq7G9cWDQTAmiaWLqz588kjJ40DAAAAAADQxpx4AAAAAAAAAAAAAAAApIQHAAAAAAAAAAAAAABAqjQBAAAAsBGH+gfW/PmNa4tNvR8AO2ti6YIRAAAAAAAAWJMTDwAAAAAAAAAAAAAAgJTwAAAAAAAAAAAAAAAASJUmAAAAAJrhUP+AEQD+j7cWlxuPHxroNQgAAAAAAABtwYkHAAAAAAAAAAAAAABASngAAAAAAAAAAAAAAACkhAcAAAAAAAAAAAAAAECqiIjKDAAAAAAAzffW4vK6XvfQQO+uf9aJpQu78r6TR076QwEAAAAAAGhxTjwAAAAAAAAAAAAAAABSwgMAAAAAAAAAAAAAACBVmgAAAAAAgN0ysXRhXa+bPHLSWAAAAAAAALvEiQcAAAAAAAAAAAAAAEBKeAAAAAAAAAAAAAAAAKRKEwAAAAAA7K63FpdXPX9ooHfHP8PkkZOrnk8sXUh/t1H33wsAAAAAAID248QDAAAAAAAAAAAAAAAgJTwAAAAAAAAAAAAAAABSwgMAAAAAAAAAAAAAACBVRERlBgAAAACA5nhrcXnL93hooLejN5pYurDhayaPnPTHBQAAAAAAsEuceAAAAAAAAAAAAAAAAKSEBwAAAAAAAAAAAAAAQKo0AQAAAABA8zw00Nt4/NbiskHWMHnkZOPxxNIFgwAAAAAAALQ4Jx4AAAAAAAAAAAAAAAAp4QEAAAAAAAAAAAAAAJAqTQAAAAAAsD0eGug1AgAAAAAAAG3PiQcAAAAAAAAAAAAAAEBKeAAAAAAAAAAAAAAAAKRKEwAAAABAe5oceWrNn0/MvrDle1+eXGk8Pjqx39gAAAAAAADQxZx4AAAAAAAAAAAAAAAApIQHAAAAAAAAAAAAAABASngAAAAAAAAAAAAAAACkioiozAAAAAAArW9y5KlNXTcx+8L/fc3lyZVN3fvoxH5fDBv/m1y6sPG//yMnDQcAAAAAALBLnHgAAAAAAAAAAAAAAACkhAcAAAAAAAAAAAAAAECqNAEAAAAAAJsxsXTBCAAAAAAAAF3AiQcAAAAAAAAAAAAAAEBKeAAAAAAAAAAAAAAAAKRKEwAAAABAe5iYfWHV88mRp4wCAAAAAAAAbDsnHgAAAAAAAAAAAAAAACnhAQAAAAAAAAAAAAAAkBIeAAAAAAAAAAAAAAAAqdIEAAAAANCeJmZfaDyeHHlqR97z6MR+w7NtJo+cNAIAAAAAAEALcuIBAAAAAAAAAAAAAACQEh4AAAAAAAAAAAAAAACpIiIqMwAAAABAd7s8ubKu1x2d2L+u1738nR9s6nM89osf+TIAAAAAAACgxTjxAAAAAAAAAAAAAAAASAkPAAAAAAAAAAAAAACAlPAAAAAAAAAAAAAAAABICQ8AAAAAAAAAAAAAAICU8AAAAAAAAAAAAAAAAEgJDwAAAAAAAAAAAAAAgFRpAgAAAACg2R77xY9WPX/5Oz8wCgAAAAAAALQpJx4AAAAAAAAAAAAAAAAp4QEAAAAAAAAAAAAAAJAqIqIyAwAAAAAAAAAAAAAAsBYnHgAAAAAAAAAAAAAAACnhAQAAAAAAAAAAAAAAkBIeAAAAAAAAAAAAAAAAKeEBAAAAAAAAAAAAAACQEh4AAAAAAAAAAAAAAACp0gQAAAAAsDPmx0+t63VDU+eNBQAAAAAAALQMJx4AAAAAAAAAAAAAAAAp4QEAAAAAAAAAAAAAAJASHgAAAAAAAAAAAAAAAKnSBAAAAACwfebHTxkBAAAAAAAAaGtOPAAAAAAAAAAAAAAAAFLCAwAAAAAAAAAAAAAAIFWaAAAAAAC2Zn78lBEAAAAAAACAjuXEAwAAAAAAAAAAAAAAICU8AAAAAAAAAAAAAAAAUqUJAAAAAOgU8+OnVj0fmjq/bfdupmZ+TgAAAAAAAIBmc+IBAAAAAAAAAAAAAACQEh4AAAAAAAAAAAAAAAAp4QEAAAAAAAAAAAAAAJAqTQAAAABAp5ofP7Xmz4emzm/pegAAAAAAAIBu4sQDAAAAAAAAAAAAAAAgJTwAAAAAAAAAAAAAAABSRURUZgAAAACgE82Pn2rZzzY0dd4XBAAAAAAAALQFJx4AAAAAAAAAAAAAAAAp4QEAAAAAAAAAAAAAAJAqTQAAAAAAO2No6rwRAAAAAAAAgLbjxAMAAAAAAAAAAAAAACAlPAAAAAAAAAAAAAAAAFLCAwAAAAAAAAAAAAAAIFVERGUGAAAAADrd/Pipdb1uaOr8rtwPAAAAAAAAoFU58QAAAAAAAAAAAAAAAEgJDwAAAAAAAAAAAAAAgFRpAgAAAAC6wdDUeSMAAAAAAAAAbIITDwAAAAAAAAAAAAAAgJTwAAAAAAAAAAAAAAAASAkPAAAAAAAAAAAAAACAlPAAAAAAAAAAAAAAAABICQ8AAAAAAAAAAAAAAIBUaQIAAAAA2LihqfONx/PjpwwCAAAAAAAAdCwnHgAAAAAAAAAAAAAAACnhAQAAAAAAAAAAAAAAkBIeAAAAAAAAAAAAAAAAKeEBAAAAAAAAAAAAAACQEh4AAAAAAAAAAAAAAAAp4QEAAAAAAAAAAAAAAJAqIqIyAwAAAAAAAAAAAAAAsBYnHgAAAAAAAAAAAAAAACnhAQAAAAAAAAAAAAAAkBIeAAAAAAAAAAAAAAAAKeEBAAAAAAAAAAAAAACQEh4AAAAAAAAAAAAAAAAp4QEAAAAAAAAAAAAAAJASHgAAAAAAAAAAAAAAACnhAQAAAAAAAAAAAAAAkBIeAAAAAAAAAAAAAAAAKeEBAAAAAAAAAAAAAACQEh4AAAAAAAAAAAAAAAAp4QEAAAAAAAAAAAAAAJASHgAAAAAAAAAAAAAAACnhAQAAAAAAAAAAAAAAkBIeAAAAAAAAAAAAAAAAKeEBAAAAAAAAAAAAAACQEh4AAAAAAAAAAAAAAAAp4QEAAAAAAAAAAAAAAJASHgAAAAAAAAAAAAAAACnhAQAAAAAAAAAAAAAAkBIeAAAAAAAAAAAAAAAAKeEBAAAAAAAAAAAAAACQEh4AAAAAAAAAAAAAAAAp4QEAAAAAAAAAAAAAAJASHgAAAAAAAAAAAAAAACnhAQAAAAAAAAAAAAAAkBIeAAAAAAAAAAAAAAAAKeEBAAAAAAAAAAAAAACQEh4AAAAAAAAAAAAAAAAp4QEAAAAAAAAAAAAAAJASHgAAAAAAAAAAAAAAACnhAQAAAAAAAAAAAAAAkBIeAAAAAAAAAAAAAAAAKeEBAAAAAAAAAAAAAACQEh4AAAAAAAAAAAAAAAAp4QEAAAAAAAAAAAAAAJASHgAAAAAAAAAAAAAAACnhAQAAAAAAAAAAAAAAkBIeAAAAAAAAAAAAAAAAKeEBAAAAAAAAAAAAAACQEh4AAAAAAAAAAAAAAAAp4QEAAAAAAAAAAAAAAJASHgAAAAAAAAAAAAAAACnhAQAAAAAAAAAAAAAAkBIeAAAAAAAAAAAAAAAAKeEBAAAAAAAAAAAAAACQEh4AAAAAAAAAAAAAAAAp4QEAAAAAAAAAAAAAAJASHgAAAAAAAAAAAAAAACnhAQAAAAAAAAAAAAAAkBIeAAAAAAAAAAAAAAAAKeEBAAAAAAAAAAAAAACQEh4AAAAAAAAAAAAAAAAp4QEAAAAAAAAAAAAAAJASHgAAAAAAAAAAAAAAACnhAQAAAAAAAAAAAAAAkBIeAAAAAAAAAAAAAAAAKeEBAAAAAAAAAAAAAACQEh4AAAAAAAAAAAAAAAAp4QEAAAAAAAAAAAAAAJASHgAAAAAAAAAAAAAAAKnSBAAAAAAAAAAAAABAq6iqas2fF0VhHNilf3eceAAAAAAAAAAAAAAAAKSEBwAAAAAAAAAAAAAAQEp4AAAAAAAAAAAAAAAApIQHAAAAAAAAAAAAAABASngAAAAAAAAAAAAAAACkhAcAAAAAAAAAAAAAAECqNAEAAAAAAAAAAAAA0OqqqjIC7BInHgAAAAAAAAAAAAAAACnhAQAAAAAAAAAAAAAAkBIeAAAAAAAAAAAAAAAAKeEBAAAAAAAAAAAAAACQEh4AAAAAAAAAAAAAAACp0gQAAAAAAAAAAAAAQKsrisII8CGqqtq2ezvxAAAAAAAAAAAAAAAASAkPAAAAAAAAAAAAAACAlPAAAAAAAAAAAAAAAABICQ8AAAAAAAAAAAAAAICU8AAAAAAAAAAAAAAAAEgJDwAAAAAAAAAAAAAAgFQREZUZAAAAAAAAAAAAAACAtTjxAAAAAAAAAAAAAAAASAkPAAAAAAAAAAAAAACAlPAAAAAAAAAAAAAAAABICQ8AAAAAAAAAAAAAAICU8AAAAAAAAAAAAAAAAEgJDwAAAAAAAAAAAAAAgJTwAAAAAAAAAAAAAAAASAkPAAAAAAAAAAAAAACAVGkCAAAAAAAAAAAAAAA+6Mknn4yvfe1rURTFhq67efNmTE5OxvLyshE7RBERlRkAAAAAAAAAAAAAAHjf3r174ze/+U0MDg5u6vq+vr745z//acgOsccEAAAAAAAAAAAAAADcb9++ffHJT37SEERERGkCAAAAAAAAAAAAAADut2/fvujt7W08f/HFF+P1119f17W3bt2Ke/fuGbGDFBFRmQEAAAAAAAAAAAAAgPcdPnw4Xn311fj4xz8eERGf//zn469//athutQeEwAAAAAAAAAAAAAAcL+enp7o6elpPF9eXjZKFxMeAAAAAAAAAAAAAACwyr59+6Isy4iIqKoqVlZWjNLFhAcAAAAAAAAAAAAAAKzy8MMPx969eyMi4ubNm/Hmm28apYsJDwAAAAAAAAAAAAAAWOXgwYOxZ89//3PzO3fuxLvvvmuULiY8AAAAAAAAAAAAAABglUceeaTxeGlpySBdTngAAAAAAAAAAAAAAMAqn/jEJxqPb926ZZAuV5oAAAAAAAAAAAAAAID79fX1NR7funUrPvOZz8RHP/rR6Onpid7e3ujp6Ynbt2/H7du34/XXX4/bt29HVVWG61BFRPh2AQAAAAAAAAAAAABo+OUvfxlDQ0MREfGvf/0rIiIOHjwYZVnGnj17oiiKeO+992JlZSX+8Y9/xOXLl+P8+fPx8ssvCxA6kPAAAAAAAAAAAAAAAIBVLl26FN/61rc2dM0777wTP/3pT+P555+P1157zYgdRHgAAAAAAAAAAAAAAMAqx44dix//+MfxxS9+Md588824evVq/OUvf4n33nsvIiL27NkTjz76aHz2s5+N/fv3N66rqir++Mc/xhNPPBFXr141ZIcQHgAAAAAAAAAAAAAA8D8efPDBeOCBB2JlZSWqau3/7Lyvry++973vxdNPPx2f+9znGj//2c9+Fk8++WTcu3fPkB1AeAAAAAAAAAAAAAAAwJYcPXo0ZmZm4pFHHomIiOXl5fjud78bv/3tb43TAfaYAAAAAAAAAAAAAACArbh8+XI888wz8c4770RERG9vbxw/ftwwHUJ4AAAAAAAAAAAAAADAlr3yyitx5cqVxvOvfvWr8cADDximAwgPAAAAAAAAAAAAAADYsrfffjv+/ve/N55/+tOfjqIoDNMBhAcAAAAAAAAAAAAAADTF3bt3jdCBhAcAAAAAAAAAAAAAADRFT09P4/GdO3cM0iGEBwAAAAAAAAAAAAAANMWnPvWpxuMrV67Eu+++a5QOIDwAAAAAAAAAAAAAAGDLvvzlL8djjz3WeP6nP/3JKB1CeAAAAAAAAAAAAAAAwJYcPHgwvv/978fBgwcjIuLmzZvx61//2jAdQngAAAAAAAAAAAAAAEDDsWPH4oc//GF86Utfio985CMf+tqyLOMLX/hC/PznP48nnnii8fMXX3wxlpaWjNkhioiozAAAAAAAAAAAAAAAQETE8PBw/OQnP4mVlZW4fPlyvPLKK/Haa6/Fn//857h3715EROzduzceffTR+MpXvhLf/OY3o7+/v3H94uJiHD9+PK5fv27MDlGaAAAAAAAAAAAAAACA91XVf//f9vv374/HH388Hn/88XVdd+/evZifn48zZ86IDjrMHhMAAAAAAAAAAAAAAPC+P/zhD/H73/8+7t69u+5rrly5Ek8//XQ888wzcfXqVSN2mCIiKjMAAAAAAAAAAAAAAPC+oiji4Ycfjq9//evxjW98Iz72sY/Fgw8+2Pj9v//977h79268+uqr8bvf/S7+9re/xdtvv224Tv17COEBAAAAAAAAAAAAAACQ2GMCAAAAAAAAAAAAAAAgIzwAAAAAAAAAAAAAAABSwgMAAAAAAAAAAAAAACAlPAAAAAAAAAAAAAAAAFLCAwAAAAAAAAAAAAAAICU8AAAAAAAAAAAAAAAAUsIDAAAAAAAAAAAAAAAgJTwAAAAAAAAAAAAAAABSwgMAAAAAAAAAAAAAACAlPAAAAAAAAAAAAAAAAFL/AdHOjs8G2zGTAAAAAElFTkSuQmCC\"></img>"
      ],
      "text/plain": [
       "<napari.utils.notebook_display.NotebookScreenshot at 0x18455d3d0>"
      ]
     },
     "execution_count": 30,
     "metadata": {},
     "output_type": "execute_result"
    }
   ],
   "source": [
    "from napari.utils.notebook_display import nbscreenshot\n",
    "\n",
    "# viewer.dims.ndisplay = 3\n",
    "# viewer.camera.angles = (-30, 25, 120)\n",
    "nbscreenshot(viewer, canvas_only=True)"
   ]
  },
  {
   "cell_type": "markdown",
   "metadata": {},
   "source": [
    "\n",
    "---------------------\n",
    "\n",
    " 🚧 WIP 🚧 (🚨🚨🚨🚨 )\n",
    "\n",
    " \n",
    "# WORKFLOW #2 (WIP)\n",
    "as per 6/22 CellProfiler pipeline from MCZ\n",
    " \n",
    "## summary of steps\n",
    "\n",
    "INPUT\n",
    "- ch 4\n",
    "- CY mask\n",
    "\n",
    "PRE-PROCESSING\n",
    "-   non-local noise reduction\n",
    "  - size:4, distance:2, cut-off:0.08\n",
    "\n",
    "CORE-PROCESSING\n",
    "- adaptive Otsu\n",
    "    - diameter: (4,100)\n",
    "  - two classes\n",
    "    - threshold smoothing scale: 1.34\n",
    "    - threshold correction factor: .75\n",
    "    - threshold bounds: (0.14, 1)\n",
    "    - adaptive window: 20 pixels\n",
    "\n",
    "- POST-PROCESSING\n",
    "  - N/A\n",
    "\n",
    "OUTPUT\n",
    "- object GOLGI \n",
    "\n"
   ]
  },
  {
   "cell_type": "markdown",
   "metadata": {},
   "source": [
    "### INPUT"
   ]
  },
  {
   "cell_type": "code",
   "execution_count": null,
   "metadata": {},
   "outputs": [],
   "source": [
    "\n",
    "###################\n",
    "# INPUT\n",
    "###################\n",
    "struct_img_raw = img_data[3,:,:,:].copy()\n",
    "\n",
    "# DEFAULT PARAMETERS:\n",
    "intensity_norm_param = [3.5, 15] # from Allen Cell Segmenter LAMP1  workflow\n",
    "scaling_param = [0]\n",
    "gaussian_smoothing_sigma = 1.\n",
    "gaussian_smoothing_truncate_range = 3.0\n",
    "dot_2d_sigma = 2\n",
    "dot_2d_sigma_extra = 1\n",
    "dot_2d_cutoff = 0.025\n",
    "min_area = 10\n",
    "low_level_min_size =  100\n",
    "\n",
    "med_filter_size =2  \n",
    "\n",
    "gaussian_smoothing_sigma = 10\n",
    "gaussian_smoothing_truncate_range = 3.0\n",
    "\n",
    "aicssegmentation.core.pre_processing_utils.suggest_normalization_param(struct_img_raw) #  [0., 23]\n"
   ]
  },
  {
   "cell_type": "markdown",
   "metadata": {},
   "source": [
    "### PRE-PROCESSING"
   ]
  },
  {
   "cell_type": "code",
   "execution_count": null,
   "metadata": {},
   "outputs": [],
   "source": [
    "###################\n",
    "# PRE_PROCESSING\n",
    "###################\n",
    "\n",
    "intensity_norm_param = [0] # \n",
    "\n",
    "# Linear-ish smoothing\n",
    "raw_mito = intensity_normalization( struct_img_raw ,  scaling_param=intensity_norm_param)\n",
    "\n",
    "med_filter_size =3  \n",
    "\n",
    "gaussian_smoothing_sigma = 1.3\n",
    "gaussian_smoothing_truncate_range = 3.0\n",
    "\n",
    "struct_img = median_filter(raw_mito,    size=med_filter_size  )\n",
    "\n",
    "structure_img_smooth = image_smoothing_gaussian_3d(   struct_img,\n",
    "                                                                                                                        sigma=gaussian_smoothing_sigma,\n",
    "                                                                                                                        truncate_range=gaussian_smoothing_truncate_range,\n",
    "                                                                                                                    )\n",
    "\n",
    "\n",
    "# log_img, d = log_transform( structure_img_smooth ) \n",
    "# struct_img = intensity_normalization(  log_img  ,  scaling_param=[0] )  \n",
    "\n",
    "struct_img = structure_img_smooth"
   ]
  },
  {
   "cell_type": "markdown",
   "metadata": {},
   "source": [
    "### CORE PROCESSING"
   ]
  },
  {
   "cell_type": "code",
   "execution_count": null,
   "metadata": {},
   "outputs": [],
   "source": [
    "###################\n",
    "# CORE_PROCESSING\n",
    "###################\n",
    "def _enhance_speckles(image, radius, volumetric=True):\n",
    "    radius = radius / 2\n",
    "    if volumetric:\n",
    "        selem = ball(radius)\n",
    "    else:\n",
    "        selem = disk(radius)     \n",
    "\n",
    "    # if radius >10:\n",
    "    #         minimum = scipy.ndimage.minimum_filter(image, footprint=selem)\n",
    "    #         maximum = scipy.ndimage.maximum_filter(minimum, footprint=selem)\n",
    "    #         result = data - maximum\n",
    "    # else:\n",
    "    result =  white_tophat(image)\n",
    "\n",
    "    return result\n",
    "\n",
    "def enhance_neurites(image, radius, volumetric = True):\n",
    "    if volumetric:\n",
    "        selem = ball(radius)\n",
    "    else:\n",
    "        selem = disk(radius)     \n",
    "    white = white_tophat(image,selem)\n",
    "    black = black_tophat(image, selem)\n",
    "    result = image + white - black\n",
    "    result[result > 1] = 1\n",
    "    result[result < 0] = 0\n",
    "\n",
    "    return result\n",
    "\n",
    "    \n",
    "\n"
   ]
  },
  {
   "cell_type": "code",
   "execution_count": null,
   "metadata": {},
   "outputs": [],
   "source": [
    "# enhance spreckles - 40\n",
    "big_struct_rad = 40\n",
    "big_img = _enhance_speckles(struct_img.copy(),big_struct_rad, True)\n",
    "\n"
   ]
  },
  {
   "cell_type": "code",
   "execution_count": null,
   "metadata": {},
   "outputs": [],
   "source": [
    "\n",
    "# enhance spreckles - 10\n",
    "sm_struct_rad = 20\n",
    "sm_img = _enhance_speckles(struct_img.copy(),sm_struct_rad, True)\n",
    "\n",
    "\n",
    "#adaptive_otsu(big_struct) # three class - middle foreground\n",
    "# adaptive window- 20\n",
    "#size: 10,100\n",
    "# threshold smooth 1.34\n",
    "# threshold correction 1\n",
    "# threshold (0.1497,1)\n",
    "#fill holes\n",
    "# \"adatpive\" thresholds are NOT currently working... will use      \n",
    "# \"Masked Object Thresholding\" - 3D\n",
    "low_level_min_size = 10\n",
    "bw_big, _bw_low_level = MO(big_img, \n",
    "                                                global_thresh_method='ave', \n",
    "                                                object_minArea=low_level_min_size, \n",
    "                                                extra_criteria=True,\n",
    "                                                local_adjust= 0.5, \n",
    "                                                return_object=True,\n",
    "                                                dilate=True)\n",
    " # or this?                                               \n",
    "#    struct_obj = struct_img > filters.threshold_otsu(struct_img)\n",
    "#     threshold_value_log = threshold_otsu_log(struct_img)\n",
    "\n",
    "#     threshold_factor = 0.9 #from cellProfiler\n",
    "#     thresh_min = .1\n",
    "#     thresh_max = 1.\n",
    "#     threshold = min( max(threshold_value_log*threshold_factor, thresh_min), thresh_max)\n",
    "#     struct_obj = struct_img > threshold\n",
    "\n",
    "\n",
    "# enhance speckles\n",
    "#   adaptive_sauvola(sm_struct) \n",
    "# adaptive window- 10\n",
    "#size: 2,10\n",
    "# threshold smooth 1.34\n",
    "# threshold correction 1\n",
    "# threshold (0.05,1)\n",
    "#fill holes\n",
    "# \"adatpive\" thresholds are NOT currently working... will use      \n",
    "# \"Masked Object Thresholding\" - 3D\n",
    "low_level_min_size = 2\n",
    "bw_sm, _bw_low_level = MO(sm_img, \n",
    "                                                global_thresh_method='ave', \n",
    "                                                object_minArea=low_level_min_size, \n",
    "                                                extra_criteria=True,\n",
    "                                                local_adjust= 0.5, \n",
    "                                                return_object=True,\n",
    "                                                dilate=True)\n",
    " # or this?                                               \n",
    "#    struct_obj = struct_img > filters.threshold_otsu(struct_img)\n",
    "#     threshold_value_log = threshold_otsu_log(struct_img)\n",
    "#     threshold_factor = 0.9 #from cellProfiler\n",
    "#     thresh_min = .1\n",
    "#     thresh_max = 1.\n",
    "#     threshold = min( max(threshold_value_log*threshold_factor, thresh_min), thresh_max)\n",
    "#     struct_obj = struct_img > threshold\n",
    "\n"
   ]
  },
  {
   "cell_type": "markdown",
   "metadata": {},
   "source": [
    "### POST-PROCESSING"
   ]
  },
  {
   "cell_type": "code",
   "execution_count": null,
   "metadata": {},
   "outputs": [],
   "source": [
    "###################\n",
    "# POST_PROCESSING\n",
    "###################\n",
    "\n",
    "\n",
    "# 3D\n",
    "# cleaned_img = remove_small_objects(removed_holes>0, \n",
    "#                                                             min_size=minArea, \n",
    "#                                                             connectivity=1, \n",
    "#                                                             in_place=False)\n",
    "small_object_width = 10\n",
    "cleaned_img_big = size_filter(bw_big, # wrapper to remove_small_objects which can do slice by slice\n",
    "                                                         min_size= small_object_width**2,\n",
    "                                                         method = \"slice_by_slice\",\n",
    "                                                         connectivity=1)\n",
    "\n",
    "\n",
    "#                                                             in_place=False)\n",
    "small_object_width = 2\n",
    "cleaned_img_sm = size_filter(bw_sm, # wrapper to remove_small_objects which can do slice by slice\n",
    "                                                         min_size= small_object_width**2,\n",
    "                                                         method = \"slice_by_slice\",\n",
    "                                                         connectivity=1)\n",
    "\n",
    "\n",
    "\n",
    "cleaned_img = np.logical_or(cleaned_img_big, cleaned_img_sm)\n",
    "\n"
   ]
  },
  {
   "cell_type": "markdown",
   "metadata": {},
   "source": [
    "#### Visualize with `napari`\n",
    "Visualize the first-pass segmentation and labeling with `napari`."
   ]
  },
  {
   "cell_type": "code",
   "execution_count": null,
   "metadata": {},
   "outputs": [],
   "source": [
    "\n",
    "if viewer is None:\n",
    "    viewer = napari.view_image(\n",
    "        cleaned_img,\n",
    "        scale=scale\n",
    "    )\n",
    "else: \n",
    "    viewer.add_image(\n",
    "        cleaned_img,\n",
    "        scale=scale\n",
    "    )\n",
    "\n",
    "viewer.scale_bar.visible = True\n",
    "viewer.add_image(\n",
    "    cleaned_img_big,\n",
    "    scale=scale\n",
    ")\n",
    "\n",
    "viewer.add_image(\n",
    "    big_img,\n",
    "    scale=scale\n",
    ")\n",
    "viewer.add_image(\n",
    "    cleaned_img_big,\n",
    "    scale=scale\n",
    ")\n",
    "viewer.add_image(\n",
    "    sm_img,\n",
    "    scale=scale\n",
    ")"
   ]
  }
 ],
 "metadata": {
  "kernelspec": {
   "display_name": "Python 3.9.13 ('napariNEW')",
   "language": "python",
   "name": "python3"
  },
  "language_info": {
   "codemirror_mode": {
    "name": "ipython",
    "version": 3
   },
   "file_extension": ".py",
   "mimetype": "text/x-python",
   "name": "python",
   "nbconvert_exporter": "python",
   "pygments_lexer": "ipython3",
   "version": "3.9.13"
  },
  "orig_nbformat": 4,
  "vscode": {
   "interpreter": {
    "hash": "d6148ef1fb015fb20f0b6da2ea61c87c6b848bdf3dabb03087e5d5cd0c4607e9"
   }
  }
 },
 "nbformat": 4,
 "nbformat_minor": 2
}
