{
 "cells": [
  {
   "cell_type": "markdown",
   "metadata": {},
   "source": [
    "# Infer ***golgi*** - part 6️⃣\n",
    "\n",
    "--------------\n",
    "\n",
    "## OBJECTIVE:  ✅ Infer sub-cellular component ***golgi complex***  in order to understand interactome \n",
    "\n",
    "\n",
    "\n",
    "Dependencies:\n",
    "The ***golgi***  inference rely on the **cytosol** mask. "
   ]
  },
  {
   "cell_type": "markdown",
   "metadata": {},
   "source": []
  },
  {
   "cell_type": "markdown",
   "metadata": {},
   "source": [
    "\n",
    "## IMPORTS"
   ]
  },
  {
   "cell_type": "code",
   "execution_count": 3,
   "metadata": {},
   "outputs": [],
   "source": [
    "# top level imports\n",
    "from pathlib import Path\n",
    "import os, sys\n",
    "from collections import defaultdict\n",
    "\n",
    "import numpy as np\n",
    "\n",
    "from aicssegmentation.core.seg_dot import dot_2d_slice_by_slice_wrapper, dot_3d_wrapper\n",
    "\n",
    "from aicssegmentation.core.pre_processing_utils import ( intensity_normalization, \n",
    "                                                         image_smoothing_gaussian_3d,  \n",
    "                                                         image_smoothing_gaussian_slice_by_slice )\n",
    "from aicssegmentation.core.utils import topology_preserving_thinning, size_filter\n",
    "from skimage.morphology import ball \n",
    "from skimage.measure import label\n",
    "\n",
    "# # package for io \n",
    "from aicsimageio import AICSImage\n",
    "\n",
    "import napari\n",
    "\n",
    "### import local python functions in ../infer_subc_2d\n",
    "sys.path.append(os.path.abspath((os.path.join(os.getcwd(), '..'))))\n",
    "from infer_subc_2d.utils.file_io import (read_czi_image, \n",
    "                                                                    list_image_files)\n",
    "from infer_subc_2d.utils.img import *\n",
    "from infer_subc_2d.constants import (TEST_IMG_N,\n",
    "                                                                    NUC_CH ,\n",
    "                                                                    LYSO_CH ,\n",
    "                                                                    MITO_CH ,\n",
    "                                                                    GOLGI_CH ,\n",
    "                                                                    PEROXI_CH ,\n",
    "                                                                    ER_CH ,\n",
    "                                                                    LIPID_CH ,\n",
    "                                                                    RESIDUAL_CH )        \n",
    "\n",
    "from infer_subc_2d.organelles import fixed_infer_soma, fixed_infer_nuclei, infer_cytosol, find_optimal_Z\n",
    "\n",
    "\n",
    "%load_ext autoreload\n",
    "%autoreload 2\n",
    "\n",
    "\n",
    "test_img_n = TEST_IMG_N"
   ]
  },
  {
   "cell_type": "markdown",
   "metadata": {},
   "source": [
    "# IMAGE PROCESSING Objective 6:  infer ***golgi complex***\n",
    "> Back to  [OUTLINE: Objective #6](00_pipeline_setup.ipynb#summary-of-objectives)\n",
    "\n",
    "## summary & steps\n",
    "\n",
    "Generally following the Allen Cell Segmenter procedure, but doing more aggressive contrast scaling than their prescribed contrast scaling.\n",
    "\n",
    "> As per the Allen Cell segmenter sialyltransferase 1 (ST6GAL1) a potential Golgi segmenter. e.g. [Allen Cell](https://www.allencell.org/cell-observations/category/golgi-apparatus).    using [seg_st6gal1.py](\"../../../../aics-segmentation/aicssegmentation/structure_wrapper/seg_st6gal1.py\") and [playground_st6gal1.ipynb](\"../../../../aics-segmentation/lookup_table_demo/playground_st6gal1.ipynb\")\n",
    "\n",
    "### steps \n",
    "\n",
    "INPUT\n",
    "- ch 4\n",
    "- cytosol mask\n",
    "\n",
    "PRE-PROCESSING\n",
    "-   non-local noise reduction\n",
    "  - size:4, distance:2, cut-off:0.1\n",
    "\n",
    "CORE-PROCESSING\n",
    "- adaptive Otsu\n",
    "    - diameter: (4,100)\n",
    "  - two classes\n",
    "    - threshold smoothing scale: 1.34\n",
    "    - threshold correction factor: .75\n",
    "    - threshold bounds: (0.14, 1)\n",
    "    - adaptive window: 20 pixels\n",
    "\n",
    "  - adaptive Sauvola\n",
    "    - threshold smoothing scale: 0\n",
    "    - threshold correction factor: .6\n",
    "    - threshold bounds: (0. ,1.0)\n",
    "    - adaptive window: 20 pixels\n",
    "\n",
    "- POST-PROCESSING\n",
    "  - N/A\n",
    "\n",
    "OUTPUT\n",
    "- inferred  ***golgi*** object\n",
    "\n",
    "\n",
    ">#### ASIDE: Perform topology-preserving thinning \n",
    ">There are two parameters:\n",
    ">* `thin_dist_preserve`: Half of the minimum width you want to keep from being thinned. For example, when the object width is smaller than 4, you don't want to make this part even thinning (may break the thin object and alter the topology), you can set `thin_dist_preserve` as `2`.\n",
    ">* `thin_dist`: the amount to thin (has to be an positive integer). The number of pixels to be removed from outter boundary towards center\n",
    "\n",
    "\n"
   ]
  },
  {
   "cell_type": "markdown",
   "metadata": {},
   "source": [
    "\n",
    "------------------------\n",
    "## LOAD RAW IMAGE DATA\n",
    "Identify path to _raw_ image data and load our example image\n"
   ]
  },
  {
   "cell_type": "code",
   "execution_count": 4,
   "metadata": {},
   "outputs": [
    {
     "name": "stderr",
     "output_type": "stream",
     "text": [
      "/opt/anaconda3/envs/napariNEW/lib/python3.9/site-packages/ome_types/_convenience.py:105: FutureWarning: The default XML parser will be changing from 'xmlschema' to 'lxml' in version 0.4.0.  To silence this warning, please provide the `parser` argument, specifying either 'lxml' (to opt into the new behavior), or'xmlschema' (to retain the old behavior).\n",
      "  d = to_dict(os.fspath(xml), parser=parser, validate=validate)\n"
     ]
    }
   ],
   "source": [
    "data_root_path = Path(os.path.expanduser(\"~\")) / \"Projects/Imaging/data\"\n",
    "\n",
    "# linearly unmixed \".czi\" files are here\n",
    "data_path = data_root_path / \"raw\"\n",
    "im_type = \".czi\"\n",
    "\n",
    "# get the list of all files\n",
    "img_file_list = list_image_files(data_path,im_type)\n",
    "test_img_name = img_file_list[test_img_n]\n",
    "\n",
    "img_data,meta_dict = read_czi_image(test_img_name)\n",
    "\n",
    "# get some top-level info about the RAW data\n",
    "channel_names = meta_dict['name']\n",
    "img = meta_dict['metadata']['aicsimage']\n",
    "scale = meta_dict['scale']\n",
    "channel_axis = meta_dict['channel_axis']\n"
   ]
  },
  {
   "cell_type": "markdown",
   "metadata": {},
   "source": [
    "## CHOOZE Z-SLICE\n",
    "\n",
    "Lets find the slice with the most overall intensity..."
   ]
  },
  {
   "cell_type": "code",
   "execution_count": 5,
   "metadata": {},
   "outputs": [
    {
     "name": "stdout",
     "output_type": "stream",
     "text": [
      "choosing _optimal_ z-slice::: 8\n"
     ]
    }
   ],
   "source": [
    "ch_to_agg = ( LYSO_CH ,\n",
    "                        MITO_CH ,\n",
    "                        GOLGI_CH ,\n",
    "                        PEROXI_CH ,\n",
    "                        ER_CH ,\n",
    "                        LIPID_CH )\n",
    "                            \n",
    "nuc_ch = NUC_CH\n",
    "optimal_Z = find_optimal_Z(img_data, nuc_ch, ch_to_agg) \n",
    "\n"
   ]
  },
  {
   "cell_type": "markdown",
   "metadata": {},
   "source": [
    "Now get the single \"optimal\" slice of all our organelle channels...."
   ]
  },
  {
   "cell_type": "code",
   "execution_count": 6,
   "metadata": {},
   "outputs": [],
   "source": [
    "img_2D = select_z_from_raw(img_data, optimal_Z)\n"
   ]
  },
  {
   "cell_type": "markdown",
   "metadata": {},
   "source": [
    "## Collect the ***cytosol*** mask\n",
    "\n",
    "i.e. inferred soma, nuclei and cytosol objects\n",
    "(takes < 1 sec)"
   ]
  },
  {
   "cell_type": "code",
   "execution_count": 7,
   "metadata": {},
   "outputs": [],
   "source": [
    "\n",
    "soma_mask =  fixed_infer_soma(img_2D) \n",
    "\n",
    "nuclei_object =  fixed_infer_nuclei(img_2D, soma_mask) \n",
    "cytosol_mask =  infer_cytosol( nuclei_object,soma_mask) \n",
    "\n"
   ]
  },
  {
   "cell_type": "markdown",
   "metadata": {},
   "source": [
    "## Build  ***Golgi Complex***  specific inference workflow\n",
    "\n"
   ]
  },
  {
   "cell_type": "markdown",
   "metadata": {},
   "source": [
    "### INPUT"
   ]
  },
  {
   "cell_type": "code",
   "execution_count": 8,
   "metadata": {},
   "outputs": [],
   "source": [
    "\n",
    "###################\n",
    "# INPUT\n",
    "###################\n",
    "# raw_golgi   = img_2D[GOLGI_CH].copy()\n",
    "raw_golgi = select_channel_from_raw(img_2D, GOLGI_CH)\n",
    "\n"
   ]
  },
  {
   "cell_type": "markdown",
   "metadata": {},
   "source": [
    "### PRE-PROCESSING"
   ]
  },
  {
   "cell_type": "code",
   "execution_count": 9,
   "metadata": {},
   "outputs": [],
   "source": [
    "###################\n",
    "# PRE_PROCESSING\n",
    "###################\n",
    "\n",
    "\n",
    "# intensity_norm_param = [0.1, 30.]  # CHECK THIS\n",
    "# # Linear-ish smoothing\n",
    "# golgi = intensity_normalization( masked_golgi ,  scaling_param=intensity_norm_param)\n",
    "\n",
    "golgi = min_max_intensity_normalization( raw_golgi )\n",
    "\n",
    "\n",
    "med_filter_size = 3  \n",
    "\n",
    "gaussian_smoothing_sigma = 1.34\n",
    "\n",
    "struct_img = median_filter_slice_by_slice(golgi,    size=med_filter_size  )\n",
    "\n",
    "structure_img_smooth = image_smoothing_gaussian_slice_by_slice(   struct_img,\n",
    "                                                                                                                        sigma=gaussian_smoothing_sigma,\n",
    "                                                                                                                    )\n",
    "\n",
    "\n",
    "struct_img = structure_img_smooth\n",
    "\n",
    "\n"
   ]
  },
  {
   "cell_type": "markdown",
   "metadata": {},
   "source": [
    "### CORE PROCESSING"
   ]
  },
  {
   "cell_type": "code",
   "execution_count": 10,
   "metadata": {},
   "outputs": [],
   "source": [
    "###################\n",
    "# CORE_PROCESSING\n",
    "###################\n",
    "################################\n",
    "## PARAMETERS for this step ##\n",
    "cell_wise_min_area = 1200\n",
    "dot_2d_sigma = 1.6\n",
    "dot_2d_cutoff = 0.02\n",
    "thin_dist = 1\n",
    "thin_dist_preserve = 1.6\n",
    "\n",
    "\n",
    "\n",
    "###################\n",
    "# CORE_PROCESSING\n",
    "###################\n",
    "\n",
    "bw, object_for_debug = MO(structure_img_smooth, \n",
    "                                                global_thresh_method='tri', \n",
    "                                                object_minArea=cell_wise_min_area, \n",
    "                                                return_object=True)\n",
    "\n",
    "\n",
    "thin_dist_preserve = 1.6\n",
    "thin_dist = 1\n",
    "bw_thin = topology_preserving_thinning(bw, thin_dist_preserve, thin_dist)\n",
    "\n",
    "\n",
    "################################\n",
    "## PARAMETERS for this step ##\n",
    "#s3_param = [[1.6, 0.02]]\n",
    "s3_param = [(dot_2d_sigma,dot_2d_cutoff)]\n",
    "################################\n",
    "\n",
    "# bw_extra = dot_3d_wrapper(structure_img_smooth, s3_param)\n",
    "bw_extra = dot_2d_slice_by_slice_wrapper(structure_img_smooth, s3_param)\n",
    "\n",
    "bw_combine = np.logical_or(bw_extra, bw_thin)\n"
   ]
  },
  {
   "cell_type": "markdown",
   "metadata": {},
   "source": [
    "### POST-PROCESSING"
   ]
  },
  {
   "cell_type": "code",
   "execution_count": 11,
   "metadata": {},
   "outputs": [],
   "source": [
    "\n",
    "###################\n",
    "# POST_PROCESSING\n",
    "###################\n",
    "bw_combine = apply_mask(bw_combine, cytosol_mask)\n",
    "    \n",
    "small_object_width = 3\n",
    "\n",
    "golgi_object = size_filter_2D(bw_combine, \n",
    "                                                min_size= small_object_width**2, \n",
    "                                                connectivity=1)\n"
   ]
  },
  {
   "cell_type": "markdown",
   "metadata": {},
   "source": [
    "#### Visualize with `napari`\n",
    "Visualize the first-pass segmentation and labeling with `napari`."
   ]
  },
  {
   "cell_type": "code",
   "execution_count": 12,
   "metadata": {},
   "outputs": [],
   "source": [
    "viewer = napari.Viewer()\n"
   ]
  },
  {
   "cell_type": "code",
   "execution_count": 13,
   "metadata": {},
   "outputs": [
    {
     "data": {
      "text/plain": [
       "<Image layer 'golgi_object' at 0x1036b06a0>"
      ]
     },
     "execution_count": 13,
     "metadata": {},
     "output_type": "execute_result"
    }
   ],
   "source": [
    "\n",
    "viewer.add_image(\n",
    "    golgi_object,\n",
    "    scale=scale\n",
    ")\n",
    "\n"
   ]
  },
  {
   "cell_type": "code",
   "execution_count": 14,
   "metadata": {},
   "outputs": [
    {
     "data": {
      "text/plain": [
       "<Image layer 'bw_thin' at 0x174aa4100>"
      ]
     },
     "execution_count": 14,
     "metadata": {},
     "output_type": "execute_result"
    }
   ],
   "source": [
    "viewer.scale_bar.visible = True\n",
    "viewer.add_image(\n",
    "    bw_extra,\n",
    "    scale=scale\n",
    ")\n",
    "viewer.add_image(\n",
    "    bw_thin,\n",
    "    scale=scale\n",
    ")\n"
   ]
  },
  {
   "cell_type": "markdown",
   "metadata": {},
   "source": [
    "### Collect into a single `infer_golgi` function"
   ]
  },
  {
   "cell_type": "code",
   "execution_count": 15,
   "metadata": {},
   "outputs": [],
   "source": [
    "##########################\n",
    "#  infer_golgi\n",
    "##########################\n",
    "def _infer_golgi( in_img: np.ndarray,\n",
    "                                cytosol_mask: np.ndarray,\n",
    "                                median_sz: int,\n",
    "                                gauss_sig: float,\n",
    "                                obj_min_area: int,\n",
    "                                thresh_method: str,\n",
    "                                min_thickness: int,\n",
    "                                thin : int,\n",
    "                                dot_scale: float,\n",
    "                                dot_cut: float,\n",
    "                                small_obj_w: int,\n",
    "                            ) -> np.ndarray:\n",
    "\n",
    "    \"\"\"\n",
    "    Procedure to infer golgi from linearly unmixed input.\n",
    "\n",
    "   Parameters\n",
    "    ------------\n",
    "    in_img: np.ndarray\n",
    "        a 3d image containing all the channels\n",
    "    soma_mask: Optional[np.ndarray] = None\n",
    "        mask\n",
    "    median_sz: int\n",
    "        width of median filter for signal\n",
    "    mo_method: str\n",
    "         which method to use for calculating global threshold. Options include:\n",
    "         \"triangle\" (or \"tri\"), \"median\" (or \"med\"), and \"ave_tri_med\" (or \"ave\").\n",
    "         \"ave\" refers the average of \"triangle\" threshold and \"mean\" threshold.\n",
    "    mo_adjust: float\n",
    "        Masked Object threshold `local_adjust`\n",
    "    mo_cutoff_size: int\n",
    "        Masked Object threshold `size_min`\n",
    "    min_thinkness: int\n",
    "        Half of the minimum width you want to keep from being thinned.\n",
    "        For example, when the object width is smaller than 4, you don't\n",
    "        want to make this part even thinner (may break the thin object\n",
    "        and alter the topology), you can set this value as 2.\n",
    "    thin: int\n",
    "        the amount to thin (has to be an positive integer). The number of\n",
    "         pixels to be removed from outter boundary towards center.\n",
    "    dot_scale: float\n",
    "        scales (log_sigma) for dot filter (1,2, and 3)\n",
    "    dot_cut: float\n",
    "        threshold for dot filter thresholds (1,2,and 3)\n",
    "    small_obj_w: int\n",
    "        minimu object size cutoff for nuclei post-processing\n",
    "    \n",
    "    Returns\n",
    "    -------------\n",
    "   golgi_object\n",
    "        mask defined extent of golgi object\n",
    "    \"\"\"\n",
    "    golgi_ch = GOLGI_CH\n",
    "\n",
    "\n",
    "    ###################\n",
    "    # EXTRACT\n",
    "    ###################    \n",
    "    golgi = select_channel_from_raw(in_img, golgi_ch)\n",
    "\n",
    "    ###################\n",
    "    # PRE_PROCESSING\n",
    "    ###################    \n",
    "    golgi = min_max_intensity_normalization(golgi)\n",
    "\n",
    "    golgi = median_filter_slice_by_slice(golgi, size=median_sz)\n",
    "\n",
    "    golgi = image_smoothing_gaussian_slice_by_slice(golgi, sigma=gauss_sig)\n",
    "\n",
    "   ###################\n",
    "    # CORE_PROCESSING\n",
    "    ###################\n",
    "    # bw = MO(golgi, global_thresh_method=thresh_method, object_minArea=obj_min_area)\n",
    "    bw = masked_object_thresh(golgi, th_method=mo_method, cutoff_size=mo_cutoff_size, th_adjust=mo_adjust)\n",
    "\n",
    "    bw_thin = topology_preserving_thinning(bw, min_thickness, thin)\n",
    "\n",
    "    s3_param = [(dot_cut,dot_scale)]\n",
    "    bw_extra = dot_2d_slice_by_slice_wrapper(golgi, s3_param)\n",
    "    # bw_extra = dot_3d_wrapper(golgi, s3_param)\n",
    "\n",
    "    bw = np.logical_or(bw_extra, bw_thin)\n",
    "    ###################\n",
    "    # POST_PROCESSING\n",
    "    ###################\n",
    "    struct_obj = apply_mask(bw, cytosol_mask)\n",
    "\n",
    "    struct_obj = size_filter_2D(struct_obj, \n",
    "                                                min_size= small_obj_w**2, \n",
    "                                                connectivity=1)\n",
    "\n",
    "\n",
    "    return struct_obj"
   ]
  },
  {
   "cell_type": "code",
   "execution_count": 16,
   "metadata": {},
   "outputs": [],
   "source": [
    "from typing import Optional\n",
    "##########################\n",
    "#  fixed_infer_golgi\n",
    "##########################\n",
    "def _fixed_infer_golgi(in_img: np.ndarray, \n",
    "                                                cytosol_mask: Optional[np.ndarray] = None\n",
    "                                            ) -> np.ndarray:\n",
    "    \"\"\"\n",
    "    Procedure to infer golgi from linearly unmixed input.\n",
    "\n",
    "   Parameters\n",
    "    ------------\n",
    "    in_img: np.ndarray\n",
    "        a 3d image containing all the channels\n",
    "    soma_mask: Optional[np.ndarray] = None\n",
    "        mask\n",
    "    median_sz: int\n",
    "        width of median filter for signal\n",
    "    gauss_sig: float\n",
    "        sigma for gaussian smoothing of  signal\n",
    "    obj_min_area: int\n",
    "        the size filter for excluding small object before applying local threshold\n",
    "    thresh_method: str\n",
    "        which method to use for calculating global threshold. Options include:\n",
    "        \"triangle\" (or \"tri\"), \"median\" (or \"med\"), and \"ave_tri_med\" (or \"ave\").\n",
    "        \"ave\" refers the average of \"triangle\" threshold and \"mean\" threshold.\n",
    "    min_thickness: int\n",
    "        Half of the minimum width you want to keep from being thinned.\n",
    "        For example, when the object width is smaller than 4, you don't\n",
    "        want to make this part even thinner (may break the thin object\n",
    "        and alter the topology), you can set this value as 2.\n",
    "    thin: int\n",
    "        the amount to thin (has to be an positive integer). The number of\n",
    "         pixels to be removed from outter boundary towards center.\n",
    "    dot_scale: float\n",
    "        scales (log_sigma) for dot filter (1,2, and 3)\n",
    "    dot_cut: float\n",
    "        threshold for dot filter thresholds (1,2,and 3)\n",
    "    small_obj_w: int\n",
    "        minimu object size cutoff for nuclei post-processing\n",
    "    \n",
    "    Returns\n",
    "    -------------\n",
    "   golgi_object\n",
    "        mask defined extent of golgi object\n",
    "    \"\"\"\n",
    "\n",
    "    median_sz = 4\n",
    "    gauss_sig = 1.34\n",
    "    mo_method = \"tri\"\n",
    "    mo_adjust = 0.90\n",
    "    mo_cutoff_size = 1200\n",
    "    min_thickness = 1.6\n",
    "    thin = 1\n",
    "    dot_scale = 1.6\n",
    "    dot_cut = 0.02\n",
    "    small_obj_w = 3\n",
    "\n",
    "    return _infer_golgi(\n",
    "        in_img,\n",
    "        cytosol_mask,\n",
    "        median_sz,\n",
    "        gauss_sig,\n",
    "        mo_method,\n",
    "        mo_adjust,\n",
    "        mo_cutoff_size,\n",
    "        min_thickness,\n",
    "        thin,\n",
    "        dot_scale,\n",
    "        dot_cut,\n",
    "        small_obj_w,\n",
    "    )"
   ]
  },
  {
   "cell_type": "markdown",
   "metadata": {},
   "source": [
    "# TEST  `infer_golgi` function"
   ]
  },
  {
   "cell_type": "code",
   "execution_count": 17,
   "metadata": {},
   "outputs": [],
   "source": [
    "\n",
    "_golgi_object =  _fixed_infer_golgi(img_2D, cytosol_mask) \n"
   ]
  },
  {
   "cell_type": "code",
   "execution_count": 18,
   "metadata": {},
   "outputs": [],
   "source": [
    "from infer_subc_2d.organelles import infer_golgi, fixed_infer_golgi\n",
    "\n",
    "golgi_object =  fixed_infer_golgi(img_2D, cytosol_mask) \n"
   ]
  },
  {
   "cell_type": "code",
   "execution_count": 19,
   "metadata": {},
   "outputs": [
    {
     "data": {
      "text/plain": [
       "<Labels layer 'Labels' at 0x175360f40>"
      ]
     },
     "execution_count": 19,
     "metadata": {},
     "output_type": "execute_result"
    }
   ],
   "source": [
    "\n",
    "viewer.add_image(\n",
    "    _golgi_object,\n",
    "    scale=scale\n",
    ")\n",
    "viewer.add_image(\n",
    "    golgi_object,\n",
    "    scale=scale\n",
    ")\n",
    "viewer.add_labels(\n",
    "    label(golgi_object),\n",
    "    scale=scale\n",
    ")"
   ]
  },
  {
   "cell_type": "code",
   "execution_count": 20,
   "metadata": {},
   "outputs": [
    {
     "data": {
      "image/png": "[encoded data removed]",
      "text/html": [
       "<img src=\"data:image/png;base64,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\"></img>"
      ],
      "text/plain": [
       "<napari.utils.notebook_display.NotebookScreenshot at 0x174e1b9a0>"
      ]
     },
     "execution_count": 20,
     "metadata": {},
     "output_type": "execute_result"
    }
   ],
   "source": [
    "from napari.utils.notebook_display import nbscreenshot\n",
    "\n",
    "# viewer.dims.ndisplay = 3\n",
    "# viewer.camera.angles = (-30, 25, 120)\n",
    "nbscreenshot(viewer, canvas_only=True)"
   ]
  },
  {
   "cell_type": "markdown",
   "metadata": {},
   "source": [
    "-----------------\n",
    "## make function json to add to `all_functions.json`\n",
    "### infer_golgi "
   ]
  },
  {
   "cell_type": "code",
   "execution_count": 2,
   "metadata": {},
   "outputs": [
    {
     "name": "stdout",
     "output_type": "stream",
     "text": [
      "function fixed_infer_golgi is already in all_functions.json\n",
      "overwriting  fixed_infer_golgi\n"
     ]
    },
    {
     "data": {
      "text/plain": [
       "1"
      ]
     },
     "execution_count": 2,
     "metadata": {},
     "output_type": "execute_result"
    }
   ],
   "source": [
    "from infer_subc_2d.organelles_config.helper import add_function_spec_to_widget_json\n",
    "\n",
    "_fixed_infer_golgi =  {\n",
    "        \"name\": \"infer golgi  (fixed parameters)\",\n",
    "        \"python::module\": \"infer_subc_2d.organelles\",\n",
    "        \"python::function\": \"fixed_infer_golgi\",\n",
    "        \"parameters\": None\n",
    "        }\n",
    "\n",
    "add_function_spec_to_widget_json(\"fixed_infer_golgi\",_fixed_infer_golgi, overwrite=True)"
   ]
  },
  {
   "cell_type": "code",
   "execution_count": 3,
   "metadata": {},
   "outputs": [
    {
     "name": "stdout",
     "output_type": "stream",
     "text": [
      "function infer_golgi is already in all_functions.json\n",
      "overwriting  infer_golgi\n"
     ]
    },
    {
     "data": {
      "text/plain": [
       "1"
      ]
     },
     "execution_count": 3,
     "metadata": {},
     "output_type": "execute_result"
    }
   ],
   "source": [
    "\n",
    "_infer_golgi =  {\n",
    "        \"name\": \"infer golgi\",\n",
    "        \"python::module\": \"infer_subc_2d.organelles\",\n",
    "        \"python::function\": \"infer_golgi\",\n",
    "        \"parameters\": {\n",
    "                \"median_sz\": {\n",
    "                        \"widget_type\": \"slider\",\n",
    "                        \"data_type\": \"int\",\n",
    "                        \"min\": 3,\n",
    "                        \"max\": 15,\n",
    "                        \"increment\": 1\n",
    "                },\n",
    "                \"gauss_sig\": {\n",
    "                        \"data_type\": \"float\",\n",
    "                        \"increment\": 0.25,\n",
    "                        \"max\": 15.0,\n",
    "                        \"min\": 1.25,\n",
    "                        \"widget_type\": \"slider\"\n",
    "                },\n",
    "                \"mo_method\": {\n",
    "                        \"data_type\": \"str\",\n",
    "                        \"widget_type\": \"drop-down\",\n",
    "                        \"options\": [\n",
    "                                \"triangle\",\n",
    "                                \"median\",\n",
    "                                \"ave_tri_med\"\n",
    "                                ]\n",
    "                },\n",
    "                \"mo_adjust\": {\n",
    "                        \"data_type\": \"float\",\n",
    "                        \"increment\": 0.05,\n",
    "                        \"max\": 1.0,\n",
    "                        \"min\": 0.0,\n",
    "                        \"widget_type\": \"slider\"\n",
    "                },\n",
    "                \"mo_cutoff_size\": {\n",
    "                        \"data_type\": \"int\",\n",
    "                        \"increment\": 10,\n",
    "                        \"max\": 250,\n",
    "                        \"min\": 10,\n",
    "                        \"widget_type\": \"slider\"\n",
    "                },\n",
    "                \"min_thickness\": {\n",
    "                        \"widget_type\": \"slider\",\n",
    "                        \"data_type\": \"int\",\n",
    "                        \"min\": 1,\n",
    "                        \"max\": 10,\n",
    "                        \"increment\": 1\n",
    "                },\n",
    "                \"thin\": {\n",
    "                        \"widget_type\": \"slider\",\n",
    "                        \"data_type\": \"int\",\n",
    "                        \"min\": 1,\n",
    "                        \"max\": 200,\n",
    "                        \"increment\": 1\n",
    "                },\n",
    "                \"dot_scale\": {\n",
    "                        \"data_type\": \"float\",\n",
    "                        \"increment\": 0.05,\n",
    "                        \"max\": 10,\n",
    "                        \"min\": 0,\n",
    "                        \"widget_type\": \"slider\"\n",
    "                },\n",
    "                \"dot_cut\": {\n",
    "                        \"data_type\": \"float\",\n",
    "                        \"increment\": 0.001,\n",
    "                        \"max\": 0.5,\n",
    "                        \"min\": 0,\n",
    "                        \"widget_type\": \"slider\"\n",
    "                },\n",
    "                \"small_obj_w\": {\n",
    "                        \"data_type\": \"int\",\n",
    "                        \"increment\": 1,\n",
    "                        \"max\": 50,\n",
    "                        \"min\": 1,\n",
    "                        \"widget_type\": \"slider\"\n",
    "                }\n",
    "        }\n",
    "}\n",
    "\n",
    "add_function_spec_to_widget_json(\"infer_golgi\", _infer_golgi, overwrite=True )\n",
    "\n"
   ]
  },
  {
   "cell_type": "code",
   "execution_count": 28,
   "metadata": {},
   "outputs": [],
   "source": [
    "from infer_subc_2d.constants import GOLGI_CH\n",
    "def make_infer_golgi_step_by_step_from_raw_dict():\n",
    "    \"\"\"\n",
    "    Procedure to infer mitochondria from linearly unmixed input from raw\n",
    "\n",
    "    \"\"\"\n",
    "    step_name = []\n",
    "    function_name = []\n",
    "    category =[]\n",
    "    parameter_values = []\n",
    "    parent = []\n",
    "   \n",
    "    ###################\n",
    "    # EXTRACT\n",
    "    ###################   \n",
    "    step_name = []\n",
    "    function_name = []\n",
    "    category =[]\n",
    "    parameter_values = []\n",
    "    parent = []\n",
    "   \n",
    "    ###################\n",
    "    # EXTRACT\n",
    "    ###################   \n",
    "\n",
    "    step_name.append(\"1\")\n",
    "    function_name.append(\"fixed_get_optimal_Z_img\")\n",
    "    category.append(\"extraction\")\n",
    "    parameter_values.append(None)\n",
    "    parent.append(0)\n",
    "\n",
    "    step_name.append(\"2\")\n",
    "    function_name.append(\"fixed_infer_soma\")\n",
    "    category.append(\"extraction\")\n",
    "    parameter_values.append( None )\n",
    "    parent.append(1)\n",
    "\n",
    "    step_name.append(\"3\")\n",
    "    function_name.append(\"fixed_infer_nuclei\")\n",
    "    category.append(\"extraction\")\n",
    "    parameter_values.append( None )\n",
    "    parent.append([1,2])\n",
    "\n",
    "    step_name.append(\"4\")\n",
    "    function_name.append(\"infer_cytosol\")\n",
    "    category.append(\"extraction\")\n",
    "    parameter_values.append(dict(erode_nuclei = True ))\n",
    "    parent.append([2,3])\n",
    "\n",
    "    step_name.append(\"5\")\n",
    "    function_name.append(\"select_channel_from_raw\")\n",
    "    category.append(\"extraction\")\n",
    "    parameter_values.append( dict(chan = GOLGI_CH) )\n",
    "    parent.append(1)\n",
    "    \n",
    "    step_name.append(\"6\")\n",
    "    function_name.append(\"min_max_intensity_normalization\")\n",
    "    category.append(\"preprocessing\")\n",
    "    parameter_values.append(None)\n",
    "    parent.append(5)\n",
    "\n",
    "    step_name.append(\"7\")\n",
    "    function_name.append(\"median_filter_slice_by_slice\")\n",
    "    category.append(\"preprocessing\")\n",
    "    parameter_values.append(dict(size = 3 ))\n",
    "    parent.append(6)\n",
    "\n",
    "    step_name.append(\"8\")\n",
    "    function_name.append(\"image_smoothing_gaussian_slice_by_slice\")\n",
    "    category.append(\"preprocessing\")\n",
    "    parameter_values.append(dict( sigma = 1.34 ))\n",
    "    parent.append(7)\n",
    "\n",
    "    step_name.append(\"9\")\n",
    "    function_name.append(\"masked_object_thresh\") \n",
    "    category.append(\"core\")\n",
    "    parameter_values.append( dict( th_method= \"triangle\", \n",
    "                                                            cutoff_size=1200,\n",
    "                                                            th_adjust = 0.5) )\n",
    "    parent.append(8)\n",
    "\n",
    "    step_name.append(\"10\")\n",
    "    function_name.append(\"topology_preserving_thinning\") \n",
    "    category.append(\"core\")\n",
    "    parameter_values.append( dict( min_thickness=1.6, thin=1) )\n",
    "    parent.append(9)\n",
    "\n",
    "    step_name.append(\"11\")\n",
    "    function_name.append(\"spot_filter_slice_by_slice\") \n",
    "    category.append(\"core\")\n",
    "    parameter_values.append( dict( log_sigma=1.6, cutoff=0.02) )\n",
    "    parent.append(9)\n",
    "\n",
    "    step_name.append(\"12\")\n",
    "    function_name.append(\"logical_or\")\n",
    "    category.append(\"core\")\n",
    "    parameter_values.append( None )\n",
    "    parent.append([10,11])\n",
    "\n",
    "    step_name.append(\"13\")\n",
    "    function_name.append(\"apply_mask\")\n",
    "    category.append(\"postprocessing\")\n",
    "    parameter_values.append(None)\n",
    "    parent.append([12,4])\n",
    "\n",
    "    step_name.append(\"14\")\n",
    "    function_name.append(\"size_filter_2D\")\n",
    "    category.append(\"postprocessing\")\n",
    "    parameter_values.append(dict( min_size = 3**2  ))\n",
    "    parent.append(13)\n",
    "\n",
    "    out_dict = dict()\n",
    "    for i,stepn in enumerate(step_name):\n",
    "        entry = dict(category=category[i],\n",
    "                            function=function_name[i],\n",
    "                            parameter_values=parameter_values[i],\n",
    "                            parent=parent[i]\n",
    "        )\n",
    "        if entry['parameter_values'] is None:\n",
    "            _ = entry.pop('parameter_values')\n",
    "        out_dict[stepn] = entry\n",
    "    \n",
    "    return out_dict\n",
    "\n"
   ]
  },
  {
   "cell_type": "code",
   "execution_count": 29,
   "metadata": {},
   "outputs": [
    {
     "data": {
      "text/plain": [
       "PosixPath('/Users/ahenrie/Projects/Imaging/infer-subc-2D/infer_subc_2d/organelles_config/conf_1.6.golgi_stepbystep_from_raw.json')"
      ]
     },
     "execution_count": 29,
     "metadata": {},
     "output_type": "execute_result"
    }
   ],
   "source": [
    "from infer_subc_2d.organelles_config.helper import write_workflow_json\n",
    "\n",
    "infer_golgi_stepbystep_from_raw_dict = make_infer_golgi_step_by_step_from_raw_dict()\n",
    "\n",
    "write_workflow_json(\"conf_1.6.golgi_stepbystep_from_raw\", infer_golgi_stepbystep_from_raw_dict)"
   ]
  },
  {
   "cell_type": "code",
   "execution_count": 30,
   "metadata": {},
   "outputs": [],
   "source": [
    "viewer.close()"
   ]
  },
  {
   "cell_type": "markdown",
   "metadata": {},
   "source": [
    "\n",
    "---------------------\n",
    "\n",
    " 🚧 WIP 🚧 (🚨🚨🚨🚨 )\n",
    "\n",
    " \n",
    "# WORKFLOW #2 (WIP)\n",
    "as per 6/22 CellProfiler pipeline from MCZ\n",
    " \n",
    "## summary of steps\n",
    "\n",
    "INPUT\n",
    "- ch 4\n",
    "- CY mask\n",
    "\n",
    "PRE-PROCESSING\n",
    "-   non-local noise reduction\n",
    "  - size:4, distance:2, cut-off:0.08\n",
    "\n",
    "CORE-PROCESSING\n",
    "- adaptive Otsu\n",
    "    - diameter: (4,100)\n",
    "  - two classes\n",
    "    - threshold smoothing scale: 1.34\n",
    "    - threshold correction factor: .75\n",
    "    - threshold bounds: (0.14, 1)\n",
    "    - adaptive window: 20 pixels\n",
    "\n",
    "- POST-PROCESSING\n",
    "  - N/A\n",
    "\n",
    "OUTPUT\n",
    "- object GOLGI \n",
    "\n"
   ]
  },
  {
   "cell_type": "markdown",
   "metadata": {},
   "source": [
    "### INPUT"
   ]
  },
  {
   "cell_type": "code",
   "execution_count": null,
   "metadata": {},
   "outputs": [],
   "source": [
    "\n",
    "###################\n",
    "# INPUT\n",
    "###################\n",
    "struct_img_raw = img_data[3,:,:,:].copy()\n",
    "\n",
    "# DEFAULT PARAMETERS:\n",
    "intensity_norm_param = [3.5, 15] # from Allen Cell Segmenter LAMP1  workflow\n",
    "scaling_param = [0]\n",
    "gaussian_smoothing_sigma = 1.\n",
    "gaussian_smoothing_truncate_range = 3.0\n",
    "dot_2d_sigma = 2\n",
    "dot_2d_sigma_extra = 1\n",
    "dot_2d_cutoff = 0.025\n",
    "min_area = 10\n",
    "low_level_min_size =  100\n",
    "\n",
    "med_filter_size =2  \n",
    "\n",
    "gaussian_smoothing_sigma = 10\n",
    "gaussian_smoothing_truncate_range = 3.0\n",
    "\n",
    "# aicssegmentation.core.pre_processing_utils.suggest_normalization_param(struct_img_raw) #  [0., 23]\n"
   ]
  },
  {
   "cell_type": "markdown",
   "metadata": {},
   "source": [
    "### PRE-PROCESSING"
   ]
  },
  {
   "cell_type": "code",
   "execution_count": null,
   "metadata": {},
   "outputs": [],
   "source": [
    "###################\n",
    "# PRE_PROCESSING\n",
    "###################\n",
    "\n",
    "intensity_norm_param = [0] # \n",
    "\n",
    "# Linear-ish smoothing\n",
    "raw_mito = intensity_normalization( struct_img_raw ,  scaling_param=intensity_norm_param)\n",
    "\n",
    "med_filter_size =3  \n",
    "\n",
    "gaussian_smoothing_sigma = 1.3\n",
    "gaussian_smoothing_truncate_range = 3.0\n",
    "\n",
    "struct_img = median_filter(raw_mito,    size=med_filter_size  )\n",
    "\n",
    "structure_img_smooth = image_smoothing_gaussian_3d(   struct_img,\n",
    "                                                                                                                        sigma=gaussian_smoothing_sigma,\n",
    "                                                                                                                        truncate_range=gaussian_smoothing_truncate_range,\n",
    "                                                                                                                    )\n",
    "\n",
    "\n",
    "# log_img, d = log_transform( structure_img_smooth ) \n",
    "# struct_img = intensity_normalization(  log_img  ,  scaling_param=[0] )  \n",
    "\n",
    "struct_img = structure_img_smooth"
   ]
  },
  {
   "cell_type": "markdown",
   "metadata": {},
   "source": [
    "### CORE PROCESSING"
   ]
  },
  {
   "cell_type": "code",
   "execution_count": null,
   "metadata": {},
   "outputs": [],
   "source": [
    "###################\n",
    "# CORE_PROCESSING\n",
    "###################\n",
    "def _enhance_speckles(image, radius, volumetric=True):\n",
    "    radius = radius / 2\n",
    "    if volumetric:\n",
    "        selem = ball(radius)\n",
    "    else:\n",
    "        selem = disk(radius)     \n",
    "\n",
    "    # if radius >10:\n",
    "    #         minimum = scipy.ndimage.minimum_filter(image, footprint=selem)\n",
    "    #         maximum = scipy.ndimage.maximum_filter(minimum, footprint=selem)\n",
    "    #         result = data - maximum\n",
    "    # else:\n",
    "    result =  white_tophat(image)\n",
    "\n",
    "    return result\n",
    "\n",
    "def enhance_neurites(image, radius, volumetric = True):\n",
    "    if volumetric:\n",
    "        selem = ball(radius)\n",
    "    else:\n",
    "        selem = disk(radius)     \n",
    "    white = white_tophat(image,selem)\n",
    "    black = black_tophat(image, selem)\n",
    "    result = image + white - black\n",
    "    result[result > 1] = 1\n",
    "    result[result < 0] = 0\n",
    "\n",
    "    return result\n",
    "\n",
    "    \n",
    "\n"
   ]
  },
  {
   "cell_type": "code",
   "execution_count": null,
   "metadata": {},
   "outputs": [],
   "source": [
    "# enhance spreckles - 40\n",
    "big_struct_rad = 40\n",
    "big_img = _enhance_speckles(struct_img.copy(),big_struct_rad, True)\n",
    "\n"
   ]
  },
  {
   "cell_type": "code",
   "execution_count": null,
   "metadata": {},
   "outputs": [],
   "source": [
    "\n",
    "# enhance spreckles - 10\n",
    "sm_struct_rad = 20\n",
    "sm_img = _enhance_speckles(struct_img.copy(),sm_struct_rad, True)\n",
    "\n",
    "\n",
    "#adaptive_otsu(big_struct) # three class - middle foreground\n",
    "# adaptive window- 20\n",
    "#size: 10,100\n",
    "# threshold smooth 1.34\n",
    "# threshold correction 1\n",
    "# threshold (0.1497,1)\n",
    "#fill holes\n",
    "# \"adatpive\" thresholds are NOT currently working... will use      \n",
    "# \"Masked Object Thresholding\" - 3D\n",
    "low_level_min_size = 10\n",
    "bw_big, _bw_low_level = MO(big_img, \n",
    "                                                global_thresh_method='ave', \n",
    "                                                object_minArea=low_level_min_size, \n",
    "                                                extra_criteria=True,\n",
    "                                                local_adjust= 0.5, \n",
    "                                                return_object=True,\n",
    "                                                dilate=True)\n",
    " # or this?                                               \n",
    "#    struct_obj = struct_img > filters.threshold_otsu(struct_img)\n",
    "#     threshold_value_log = threshold_otsu_log(struct_img)\n",
    "\n",
    "#     thresh_factor = 0.9 #from cellProfiler\n",
    "#     thresh_min = .1\n",
    "#     thresh_max = 1.\n",
    "#     threshold = min( max(threshold_value_log*thresh_factor, thresh_min), thresh_max)\n",
    "#     struct_obj = struct_img > threshold\n",
    "\n",
    "\n",
    "# enhance speckles\n",
    "#   adaptive_sauvola(sm_struct) \n",
    "# adaptive window- 10\n",
    "#size: 2,10\n",
    "# threshold smooth 1.34\n",
    "# threshold correction 1\n",
    "# threshold (0.05,1)\n",
    "#fill holes\n",
    "# \"adatpive\" thresholds are NOT currently working... will use      \n",
    "# \"Masked Object Thresholding\" - 3D\n",
    "low_level_min_size = 2\n",
    "bw_sm, _bw_low_level = MO(sm_img, \n",
    "                                                global_thresh_method='ave', \n",
    "                                                object_minArea=low_level_min_size, \n",
    "                                                extra_criteria=True,\n",
    "                                                local_adjust= 0.5, \n",
    "                                                return_object=True,\n",
    "                                                dilate=True)\n",
    " # or this?                                               \n",
    "#    struct_obj = struct_img > filters.threshold_otsu(struct_img)\n",
    "#     threshold_value_log = threshold_otsu_log(struct_img)\n",
    "#     thresh_factor = 0.9 #from cellProfiler\n",
    "#     thresh_min = .1\n",
    "#     thresh_max = 1.\n",
    "#     threshold = min( max(threshold_value_log*thresh_factor, thresh_min), thresh_max)\n",
    "#     struct_obj = struct_img > threshold\n",
    "\n"
   ]
  },
  {
   "cell_type": "markdown",
   "metadata": {},
   "source": [
    "### POST-PROCESSING"
   ]
  },
  {
   "cell_type": "code",
   "execution_count": null,
   "metadata": {},
   "outputs": [],
   "source": [
    "###################\n",
    "# POST_PROCESSING\n",
    "###################\n",
    "\n",
    "\n",
    "# 3D\n",
    "# cleaned_img = remove_small_objects(removed_holes>0, \n",
    "#                                                             min_size=minArea, \n",
    "#                                                             connectivity=1, \n",
    "#                                                             in_place=False)\n",
    "small_object_width = 10\n",
    "cleaned_img_big = size_filter(bw_big, # wrapper to remove_small_objects which can do slice by slice\n",
    "                                                         min_size= small_object_width**2,\n",
    "                                                         method = \"slice_by_slice\",\n",
    "                                                         connectivity=1)\n",
    "\n",
    "\n",
    "#                                                             in_place=False)\n",
    "small_object_width = 2\n",
    "cleaned_img_sm = size_filter(bw_sm, # wrapper to remove_small_objects which can do slice by slice\n",
    "                                                         min_size= small_object_width**2,\n",
    "                                                         method = \"slice_by_slice\",\n",
    "                                                         connectivity=1)\n",
    "\n",
    "\n",
    "\n",
    "cleaned_img = np.logical_or(cleaned_img_big, cleaned_img_sm)\n",
    "\n"
   ]
  },
  {
   "cell_type": "markdown",
   "metadata": {},
   "source": [
    "#### Visualize with `napari`\n",
    "Visualize the first-pass segmentation and labeling with `napari`."
   ]
  },
  {
   "cell_type": "code",
   "execution_count": null,
   "metadata": {},
   "outputs": [],
   "source": [
    "\n",
    "if viewer is None:\n",
    "    viewer = napari.view_image(\n",
    "        cleaned_img,\n",
    "        scale=scale\n",
    "    )\n",
    "else: \n",
    "    viewer.add_image(\n",
    "        cleaned_img,\n",
    "        scale=scale\n",
    "    )\n",
    "\n",
    "viewer.scale_bar.visible = True\n",
    "viewer.add_image(\n",
    "    cleaned_img_big,\n",
    "    scale=scale\n",
    ")\n",
    "\n",
    "viewer.add_image(\n",
    "    big_img,\n",
    "    scale=scale\n",
    ")\n",
    "viewer.add_image(\n",
    "    cleaned_img_big,\n",
    "    scale=scale\n",
    ")\n",
    "viewer.add_image(\n",
    "    sm_img,\n",
    "    scale=scale\n",
    ")"
   ]
  }
 ],
 "metadata": {
  "kernelspec": {
   "display_name": "Python 3.9.13 ('napariNEW')",
   "language": "python",
   "name": "python3"
  },
  "language_info": {
   "codemirror_mode": {
    "name": "ipython",
    "version": 3
   },
   "file_extension": ".py",
   "mimetype": "text/x-python",
   "name": "python",
   "nbconvert_exporter": "python",
   "pygments_lexer": "ipython3",
   "version": "3.9.13"
  },
  "orig_nbformat": 4,
  "vscode": {
   "interpreter": {
    "hash": "d6148ef1fb015fb20f0b6da2ea61c87c6b848bdf3dabb03087e5d5cd0c4607e9"
   }
  }
 },
 "nbformat": 4,
 "nbformat_minor": 2
}
