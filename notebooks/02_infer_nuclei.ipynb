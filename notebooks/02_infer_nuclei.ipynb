{
 "cells": [
  {
   "cell_type": "markdown",
   "metadata": {},
   "source": [
    "# Infer ***nuclei*** - 2️⃣ \n",
    "\n",
    "--------------\n",
    "\n",
    "## OBJECTIVE: ✅ Infer sub-cellular component #2: ***nuclei***  in order to understand interactome \n",
    "\n",
    "To measure shape, position, size, and interaction of eight organelles/cellular components ***nuclei***.  \n",
    "\n",
    "Dependencies:\n",
    "***Soma*** and ***cytosol*** inference rely on the ***nuclei*** inference.  Therefore all of the sub-cellular objects rely on the NU segmentation.\n",
    "\n"
   ]
  },
  {
   "cell_type": "markdown",
   "metadata": {},
   "source": [
    "\n",
    "\n",
    "# IMPORTS"
   ]
  },
  {
   "cell_type": "code",
   "execution_count": 41,
   "metadata": {},
   "outputs": [
    {
     "name": "stdout",
     "output_type": "stream",
     "text": [
      "The autoreload extension is already loaded. To reload it, use:\n",
      "  %reload_ext autoreload\n"
     ]
    }
   ],
   "source": [
    "# top level imports\n",
    "from pathlib import Path\n",
    "import os, sys\n",
    "from collections import defaultdict\n",
    "\n",
    "import numpy as np\n",
    "\n",
    "from aicssegmentation.core.pre_processing_utils import  image_smoothing_gaussian_slice_by_slice \n",
    "from aicssegmentation.core.utils import hole_filling\n",
    "from skimage.measure import label\n",
    "\n",
    "# # package for io \n",
    "from aicsimageio import AICSImage\n",
    "\n",
    "import napari\n",
    "\n",
    "### import local python functions in ../infer_subc_2d\n",
    "sys.path.append(os.path.abspath((os.path.join(os.getcwd(), '..'))))\n",
    "\n",
    "\n",
    "from infer_subc_2d.utils.file_io import (read_czi_image,\n",
    "                                                                    list_image_files)\n",
    "from infer_subc_2d.utils.img import *\n",
    "from infer_subc_2d.organelles import fixed_get_optimal_Z_image, fixed_find_optimal_Z, find_optimal_Z\n",
    "from infer_subc_2d.constants import (TEST_IMG_N,\n",
    "                                                                    NUC_CH ,\n",
    "                                                                    LYSO_CH ,\n",
    "                                                                    MITO_CH ,\n",
    "                                                                    GOLGI_CH ,\n",
    "                                                                    PEROXI_CH ,\n",
    "                                                                    ER_CH ,\n",
    "                                                                    LIPID_CH ,\n",
    "                                                                    RESIDUAL_CH, \n",
    "                                                                    ALL_CHANNELS )          \n",
    "\n",
    "from infer_subc_2d.organelles import infer_soma, fixed_infer_soma\n",
    "\n",
    "%load_ext autoreload\n",
    "%autoreload 2\n",
    "\n",
    "test_img_n = TEST_IMG_N"
   ]
  },
  {
   "cell_type": "markdown",
   "metadata": {},
   "source": [
    "# IMAGE PROCESSING  OBJECTIVE :  infer ***nuclei***\n",
    " \n",
    "\n",
    "NOTE:  using Allen Cell Segmenter  [Nucleophosmin](https://www.allencell.org/cell-observations/category/nucleophosmin) might be a good generic mechanism.  e.g.\n",
    "-  [playground_npm1.ipynb](https://github.com/AllenInstitute/aics-segmentation/blob/master/lookup_table_demo/playground_npm1.ipynb) and [npm1.py](https://github.com/AllenInstitute/aics-segmentation/blob/master/aicssegmentation/structure_wrapper/seg_npm1.py) and [npm1_SR.py](https://github.com/AllenInstitute/aics-segmentation/blob/master/aicssegmentation/structure_wrapper/seg_npm1_SR.py)\n",
    "\n",
    "\n",
    "> #### Note:  this initial inferred object -- the ***nuclei*** of the brightest cell -- is implicitly used in inferring the ***soma*** and ***cytosol*** objects.  \n",
    "\n",
    "\n",
    "------------------------\n",
    "# LOAD RAW IMAGE DATA\n",
    "Identify path to _raw_ image data and load our example image\n"
   ]
  },
  {
   "cell_type": "code",
   "execution_count": 42,
   "metadata": {},
   "outputs": [],
   "source": [
    "# build the datapath\n",
    "# all the imaging data goes here.\n",
    "# CUSTOMIZE HERE --->\n",
    "data_root_path = Path(os.path.expanduser(\"~\")) / \"Projects/Imaging/data\"\n",
    "\n",
    "# linearly unmixed \".czi\" files are here\n",
    "data_path = data_root_path / \"raw\"\n",
    "im_type = \".czi\"\n",
    "\n",
    "# get the list of all files\n",
    "img_file_list = list_image_files(data_path,im_type)\n",
    "test_img_name = img_file_list[test_img_n]\n"
   ]
  },
  {
   "cell_type": "code",
   "execution_count": 43,
   "metadata": {},
   "outputs": [
    {
     "name": "stderr",
     "output_type": "stream",
     "text": [
      "/opt/anaconda3/envs/napariNEW/lib/python3.9/site-packages/ome_types/_convenience.py:105: FutureWarning: The default XML parser will be changing from 'xmlschema' to 'lxml' in version 0.4.0.  To silence this warning, please provide the `parser` argument, specifying either 'lxml' (to opt into the new behavior), or'xmlschema' (to retain the old behavior).\n",
      "  d = to_dict(os.fspath(xml), parser=parser, validate=validate)\n"
     ]
    }
   ],
   "source": [
    "img_data,meta_dict = read_czi_image(test_img_name)\n",
    "\n",
    "\n",
    "# get some top-level info about the RAW data\n",
    "channel_names = meta_dict['name']\n",
    "img = meta_dict['metadata']['aicsimage']\n",
    "scale = meta_dict['scale']\n",
    "channel_axis = meta_dict['channel_axis']\n",
    "\n"
   ]
  },
  {
   "cell_type": "code",
   "execution_count": 10,
   "metadata": {},
   "outputs": [],
   "source": [
    "# make sure we have removed Z\n",
    "if len(scale)>2:\n",
    "    scale = scale[1:]"
   ]
  },
  {
   "cell_type": "markdown",
   "metadata": {},
   "source": [
    "## CHOOZE Z-SLICE\n",
    "\n",
    "Lets find the slice with the most overall intensity..."
   ]
  },
  {
   "cell_type": "code",
   "execution_count": 11,
   "metadata": {},
   "outputs": [],
   "source": [
    "ch_to_agg = ( LYSO_CH ,\n",
    "                        MITO_CH ,\n",
    "                        GOLGI_CH ,\n",
    "                        PEROXI_CH ,\n",
    "                        ER_CH ,\n",
    "                        LIPID_CH )\n",
    "                            \n",
    "nuc_ch = NUC_CH\n",
    "optimal_Z = find_optimal_Z(img_data, nuc_ch, ch_to_agg) \n",
    "\n",
    "\n"
   ]
  },
  {
   "cell_type": "markdown",
   "metadata": {},
   "source": [
    "Now get the single \"optimal\" slice of all our organelle channels...."
   ]
  },
  {
   "cell_type": "code",
   "execution_count": 12,
   "metadata": {},
   "outputs": [],
   "source": [
    "\n",
    "# img_2D = img_data[:,[optimal_Z],:,:].copy()\n",
    "img_2D = select_z_from_raw(img_data, optimal_Z)\n",
    "\n",
    "soma_mask =  fixed_infer_soma(img_2D) "
   ]
  },
  {
   "cell_type": "markdown",
   "metadata": {},
   "source": [
    "... and visualize."
   ]
  },
  {
   "cell_type": "code",
   "execution_count": 13,
   "metadata": {},
   "outputs": [
    {
     "data": {
      "text/plain": [
       "<Image layer 'soma_mask' at 0x16553eca0>"
      ]
     },
     "execution_count": 13,
     "metadata": {},
     "output_type": "execute_result"
    }
   ],
   "source": [
    "viewer = napari.Viewer()\n",
    "\n",
    "viewer.add_image(soma_mask,\n",
    "    scale=scale)"
   ]
  },
  {
   "cell_type": "markdown",
   "metadata": {},
   "source": [
    "\n",
    "# IMAGE PROCESSING PROTOTYPE, Objective 2:  infer NUCLEI\n",
    " \n",
    "## details\n",
    "\n",
    "➡️ INPUT\n",
    "\n",
    "- channel 0\n",
    "\n",
    "PRE-PROCESSING\n",
    "-  scale to min 0, max 1.0\n",
    "- median Filter window 4\n",
    "-  gaussian 1.34\n",
    "\n",
    "CORE-PROCESSING\n",
    "  - threshold method minimum cross-entropy.  \n",
    "    - objects 50-400 pixels, \n",
    "    - threshold smoothing scale: 1.34 (later 1 pixel\n",
    "    - threshold correction factor: 0.9 (later 1.2 )\n",
    "    - lower / upper bounds  (.1,1) ?\n",
    "    - log transformed thresholding\n",
    "    - fill holes\n",
    "\n",
    "\n",
    "POST-PROCESSING\n",
    "  - fill holes\n",
    "  - remove small objects\n",
    "\n",
    "\n",
    "OUTPUT ➡️ \n",
    "- labels of NUCLEI\n",
    "\n",
    "\n",
    "> #### Note:  in later steps we will limit each analysis to a single object, but at this stage we have multiple\n"
   ]
  },
  {
   "cell_type": "markdown",
   "metadata": {},
   "source": [
    "DATA IMPORT\n",
    "\n",
    "Get the \"raw\" signals we need to analyze as well as any other dependencies in \"inferred\" objects.  \n",
    "\n",
    "> NOTE: we are operating on a single \"test\" image in this notebook.  The batch-processing of all the images will be happen at the end of the notebook after we have developed/confirmed the setmentation procedures and parameter settings."
   ]
  },
  {
   "cell_type": "markdown",
   "metadata": {},
   "source": [
    "## PRE- PROCESSING"
   ]
  },
  {
   "cell_type": "code",
   "execution_count": 14,
   "metadata": {},
   "outputs": [],
   "source": [
    "###################\n",
    "# INPUT\n",
    "###################\n",
    "# raw_nuclei = img_2D[NUC_CH].copy()\n",
    "raw_nuclei = select_channel_from_raw(img_2D, NUC_CH)\n"
   ]
  },
  {
   "cell_type": "code",
   "execution_count": 15,
   "metadata": {},
   "outputs": [],
   "source": [
    "###################\n",
    "# PRE_PROCESSING\n",
    "###################           \n",
    "# \n",
    "nuclei = min_max_intensity_normalization(raw_nuclei )\n",
    "\n",
    "med_filter_size = 4   \n",
    "# structure_img_median_3D = ndi.median_filter(struct_img,    size=med_filter_size  )\n",
    "nuclei = median_filter_slice_by_slice( \n",
    "                                                                nuclei,\n",
    "                                                                size=med_filter_size  )\n",
    "\n",
    "gaussian_smoothing_sigma = 1.34\n",
    "nuclei = image_smoothing_gaussian_slice_by_slice(  nuclei,\n",
    "                                                                                            sigma=gaussian_smoothing_sigma)\n",
    "\n"
   ]
  },
  {
   "cell_type": "markdown",
   "metadata": {},
   "source": [
    "\n",
    "> #### NOTE: Thresholding\n",
    "> [Thresholding](https://en.wikipedia.org/wiki/Thresholding_%28image_processing%29) is used to create binary images. A threshold value determines the intensity value separating foreground pixels from background pixels. Foregound pixels are pixels brighter than the threshold value, background pixels are darker. In many cases, images can be adequately segmented by thresholding followed by labelling of *connected components*, which is a fancy way of saying \"groups of pixels that touch each other\".\n",
    "> \n",
    "> Different thresholding algorithms produce different results. [Otsu's method](https://en.wikipedia.org/wiki/Otsu%27s_method) and [Li's minimum cross entropy threshold](https://scikit-image.org/docs/dev/auto_examples/developers/plot_threshold_li.html) are two common algorithms. Below, we use Li. You can use `skimage.filters.threshold_<TAB>` to find different thresholding methods.\n",
    "\n",
    "_Li_ procedure  better matches the CellProfiler pipeline which simply calls it \"Minimum Cross Entropy\" .\n"
   ]
  },
  {
   "cell_type": "markdown",
   "metadata": {},
   "source": [
    "## CORE PROCESSING"
   ]
  },
  {
   "cell_type": "code",
   "execution_count": 17,
   "metadata": {},
   "outputs": [],
   "source": [
    "\n",
    "###################\n",
    "# CORE_PROCESSING\n",
    "###################\n",
    "\n",
    "threshold_factor = 0.9 #from cellProfiler\n",
    "thresh_min = .1\n",
    "thresh_max = 1.\n",
    "li_thresholded = apply_log_li_threshold(nuclei, thresh_factor=threshold_factor, thresh_min=thresh_min, thresh_max=thresh_max)\n"
   ]
  },
  {
   "cell_type": "markdown",
   "metadata": {},
   "source": [
    "## POST PROCESSING\n",
    "\n",
    "> NOTE: the size parameters are by convention defined as one dimensional \"width\", so the inputs to the functions need to be _squared_ i.e. raised to the power of 2: `** 2`.   For volumetric (3D) analysis this would be _cubed_:`**3`"
   ]
  },
  {
   "cell_type": "code",
   "execution_count": 18,
   "metadata": {},
   "outputs": [],
   "source": [
    "###################\n",
    "# POST_PROCESSING\n",
    "###################\n",
    "\n",
    "hole_width = 5  \n",
    "# # wrapper to remoce_small_objects\n",
    "#removed_holes = remove_small_holes(li_thresholded, hole_width ** 2 )\n",
    "removed_holes = hole_filling(li_thresholded, hole_min=0, hole_max=hole_width**2, fill_2d=True)\n",
    "\n",
    "small_object_width = 15\n",
    "cleaned_img = size_filter_2D(removed_holes, # wrapper to remove_small_objects which can do slice by slice\n",
    "                                                         min_size= small_object_width ** 2, \n",
    "                                                         connectivity=1)\n"
   ]
  },
  {
   "cell_type": "markdown",
   "metadata": {},
   "source": [
    "OUTPUT + Visualize Results"
   ]
  },
  {
   "cell_type": "code",
   "execution_count": 19,
   "metadata": {},
   "outputs": [],
   "source": [
    "nuclei_object = cleaned_img\n",
    "NU_labels = label( cleaned_img )\n",
    "NU_signal = raw_nuclei"
   ]
  },
  {
   "cell_type": "code",
   "execution_count": 20,
   "metadata": {},
   "outputs": [
    {
     "data": {
      "text/plain": [
       "<Labels layer 'NU_labels' at 0x171490040>"
      ]
     },
     "execution_count": 20,
     "metadata": {},
     "output_type": "execute_result"
    }
   ],
   "source": [
    "\n",
    "viewer.add_image(\n",
    "    nuclei_object,\n",
    "    scale=scale,\n",
    "    opacity=0.3,\n",
    ")    \n",
    "\n",
    "\n",
    "viewer.add_labels(\n",
    "    NU_labels,\n",
    "    scale=scale,\n",
    "    opacity=0.3,\n",
    ")\n",
    "\n"
   ]
  },
  {
   "cell_type": "markdown",
   "metadata": {},
   "source": [
    "# DEFINE `_infer_nuclei` function\n",
    "\n",
    "Based on the _prototyping_ above define the function to infer nuclei.  \n",
    "\n",
    "> NOTE:  although it takes the parameters as input, they are all \"hard coded\" below, and the function returns the parameters in the same `defaultdict`"
   ]
  },
  {
   "cell_type": "code",
   "execution_count": 21,
   "metadata": {},
   "outputs": [],
   "source": [
    "from typing import Optional\n"
   ]
  },
  {
   "cell_type": "code",
   "execution_count": 22,
   "metadata": {},
   "outputs": [],
   "source": [
    "##########################\n",
    "#  _infer_nuclei\n",
    "##########################\n",
    "def _infer_nuclei( in_img: np.ndarray, \n",
    "                            soma_mask: np.ndarray,\n",
    "                            median_sz: int, \n",
    "                            gauss_sig: float,\n",
    "                            thresh_factor: float,\n",
    "                            thresh_min: float,\n",
    "                            thresh_max: float,\n",
    "                            max_hole_w: int,\n",
    "                            small_obj_w: int\n",
    "                        ) -> np.ndarray:\n",
    "    \"\"\"\n",
    "    Procedure to infer nuclei from linearly unmixed input.\n",
    "\n",
    "    Parameters:\n",
    "    ------------\n",
    "    in_img: np.ndarray\n",
    "        a 3d image containing all the channels\n",
    "    soma_mask: Optional[np.ndarray] = None\n",
    "        mask\n",
    "    median_sz: int\n",
    "        width of median filter for signal\n",
    "    gauss_sig: float\n",
    "        sigma for gaussian smoothing of  signal\n",
    "    thresh_factor: float\n",
    "        adjustment factor for log Li threholding\n",
    "    thresh_min: float\n",
    "        abs min threhold for log Li threholding\n",
    "    thresh_max: float\n",
    "        abs max threhold for log Li threholding\n",
    "    max_hole_w: int\n",
    "        hole filling cutoff for nuclei post-processing\n",
    "    small_obj_w: int\n",
    "        minimu object size cutoff for nuclei post-processing\n",
    "\n",
    "    Returns:\n",
    "    -------------\n",
    "    nuclei_object\n",
    "        mask defined extent of NU\n",
    "    \n",
    "    \"\"\"\n",
    "\n",
    "    ###################\n",
    "    # PRE_PROCESSING\n",
    "    ###################                \n",
    "    nuc_ch = NUC_CH\n",
    "    nuclei = select_channel_from_raw(in_img, nuc_ch)\n",
    "    nuclei = min_max_intensity_normalization( nuclei )\n",
    "\n",
    "    nuclei = median_filter_slice_by_slice( nuclei,\n",
    "                                                                    size=median_sz  )\n",
    "\n",
    "    nuclei = image_smoothing_gaussian_slice_by_slice(  nuclei,\n",
    "                                                                                                sigma=gauss_sig )\n",
    "\n",
    "    ###################\n",
    "    # CORE_PROCESSING\n",
    "    ###################\n",
    "    nuclei_object = apply_log_li_threshold(nuclei, \n",
    "                                                                    thresh_factor=thresh_factor, \n",
    "                                                                    thresh_min=thresh_min, \n",
    "                                                                    thresh_max=thresh_max)\n",
    "\n",
    "\n",
    "    NU_labels = label(nuclei_object)\n",
    "    ###################\n",
    "    # POST_PROCESSING\n",
    "    ###################\n",
    "    nuclei_object = hole_filling(nuclei_object, \n",
    "                                                    hole_min=0, \n",
    "                                                    hole_max=max_hole_w, \n",
    "                                                    fill_2d=True)\n",
    "\n",
    "    if soma_mask is not None:\n",
    "        nuclei_object = apply_mask(nuclei_object, soma_mask)\n",
    "\n",
    "    nuclei_object = size_filter_2D(nuclei_object, \n",
    "                                                                min_size = small_obj_w, \n",
    "                                                                connectivity=1)\n",
    "\n",
    "    return nuclei_object\n"
   ]
  },
  {
   "cell_type": "code",
   "execution_count": 23,
   "metadata": {},
   "outputs": [],
   "source": [
    "##########################\n",
    "#  fixed_infer_nuclei\n",
    "##########################\n",
    "def _fixed_infer_nuclei(in_img: np.ndarray, soma_mask: Optional[np.ndarray] = None) -> np.ndarray:\n",
    "    \"\"\"\n",
    "    Procedure to infer soma from linearly unmixed input, with a *fixed* set of parameters for each step in the procedure.  i.e. \"hard coded\"\n",
    "\n",
    "    Parameters:\n",
    "    ------------\n",
    "    in_img: np.ndarray\n",
    "        a 3d image containing all the channels\n",
    "    soma_mask: np.ndarray\n",
    "        mask\n",
    " \n",
    "    Returns:\n",
    "    -------------\n",
    "    nuclei_object\n",
    "        mask defined extent of NU\n",
    "    \n",
    "    \"\"\"\n",
    "    nuc_ch = NUC_CH\n",
    "    median_sz = 4   \n",
    "    gauss_sig = 1.34\n",
    "    threshold_factor = 0.9\n",
    "    thresh_min = 0.1\n",
    "    thresh_max = 1.0\n",
    "    max_hole_w = 5\n",
    "    small_obj_w = 15\n",
    "\n",
    "    return _infer_nuclei( in_img,\n",
    "                                    soma_mask,\n",
    "                                    median_sz,\n",
    "                                    gauss_sig,\n",
    "                                    threshold_factor,\n",
    "                                    thresh_min,\n",
    "                                    thresh_max,\n",
    "                                    max_hole_w,\n",
    "                                    small_obj_w  )\n"
   ]
  },
  {
   "cell_type": "markdown",
   "metadata": {},
   "source": [
    "---------------------\n",
    "# TEST `_infer_nuclei`  function defined above\n",
    "\n",
    "\n",
    "##\n"
   ]
  },
  {
   "cell_type": "code",
   "execution_count": 24,
   "metadata": {},
   "outputs": [],
   "source": [
    "\n",
    "_NU_object =  _fixed_infer_nuclei(img_2D, soma_mask) \n",
    "\n"
   ]
  },
  {
   "cell_type": "code",
   "execution_count": 25,
   "metadata": {},
   "outputs": [
    {
     "data": {
      "text/plain": [
       "<Labels layer 'Labels' at 0x171febdf0>"
      ]
     },
     "execution_count": 25,
     "metadata": {},
     "output_type": "execute_result"
    }
   ],
   "source": [
    "viewer.add_image(\n",
    "    _NU_object,\n",
    "    scale=scale,\n",
    "    opacity=0.3,\n",
    ")    \n",
    "\n",
    "\n",
    "viewer.add_labels(\n",
    "    label(_NU_object),\n",
    "    scale=scale,\n",
    "    opacity=0.3,\n",
    ")\n"
   ]
  },
  {
   "cell_type": "markdown",
   "metadata": {},
   "source": [
    "---------------------\n",
    "# TEST `infer_nuclei` exported functions\n",
    "\n",
    "> the prototype `_infer_nuclei` was copied to the [`.organelles.nuclei`](../infer_subc_2d/organelles/nuclei.py) sub-module \n",
    "##\n",
    "`infer_nuclei` procedure\n",
    "\n",
    "Use the `infer_nuclei` function to infer the Nucleus and export it as an _ome.tif_ for easy reference."
   ]
  },
  {
   "cell_type": "code",
   "execution_count": 26,
   "metadata": {},
   "outputs": [],
   "source": [
    "# from infer_subc_2d.organelles.nuclei import infer_nuclei, fixed_infer_nuclei\n",
    "\n",
    "nuclei_object =  _fixed_infer_nuclei(img_2D, soma_mask) \n"
   ]
  },
  {
   "cell_type": "code",
   "execution_count": 27,
   "metadata": {},
   "outputs": [
    {
     "data": {
      "text/plain": [
       "<Image layer 'nuclei_object [1]' at 0x1721cfa00>"
      ]
     },
     "execution_count": 27,
     "metadata": {},
     "output_type": "execute_result"
    }
   ],
   "source": [
    "viewer.add_image(\n",
    "    nuclei_object,\n",
    "    scale=scale,\n",
    "    opacity=0.3,\n",
    ")    \n",
    "\n"
   ]
  },
  {
   "cell_type": "code",
   "execution_count": 28,
   "metadata": {},
   "outputs": [
    {
     "data": {
      "image/png": "[encoded data removed]",
      "text/html": [
       "<img src=\"data:image/png;base64,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\"></img>"
      ],
      "text/plain": [
       "<napari.utils.notebook_display.NotebookScreenshot at 0x17acf3fa0>"
      ]
     },
     "execution_count": 28,
     "metadata": {},
     "output_type": "execute_result"
    }
   ],
   "source": [
    "from napari.utils.notebook_display import nbscreenshot\n",
    "\n",
    "# viewer.dims.ndisplay = 3\n",
    "# viewer.camera.angles = (-30, 25, 120)\n",
    "nbscreenshot(viewer, canvas_only=True)"
   ]
  },
  {
   "cell_type": "markdown",
   "metadata": {},
   "source": [
    "-----------------\n",
    "## make function json to add to `all_functions.json`\n",
    "### infer_nuclei "
   ]
  },
  {
   "cell_type": "code",
   "execution_count": 50,
   "metadata": {},
   "outputs": [
    {
     "name": "stdout",
     "output_type": "stream",
     "text": [
      "function fixed_infer_nuclei is already in all_functions.json\n"
     ]
    },
    {
     "data": {
      "text/plain": [
       "0"
      ]
     },
     "execution_count": 50,
     "metadata": {},
     "output_type": "execute_result"
    }
   ],
   "source": [
    "from infer_subc_2d.organelles_config.helper import add_function_spec_to_widget_json\n",
    "\n",
    "_fixed_infer_nuclei =  {\n",
    "        \"name\": \"infer nuclei  (fixed parameters)\",\n",
    "        \"python::module\": \"infer_subc_2d.organelles\",\n",
    "        \"python::function\": \"fixed_infer_nuclei\",\n",
    "        \"parameters\": None\n",
    "        }\n",
    "\n",
    "add_function_spec_to_widget_json(\"fixed_infer_nuclei\",_fixed_infer_nuclei)"
   ]
  },
  {
   "cell_type": "code",
   "execution_count": 51,
   "metadata": {},
   "outputs": [
    {
     "name": "stdout",
     "output_type": "stream",
     "text": [
      "function infer_nuclei is already in all_functions.json\n",
      "overwriting  infer_nuclei\n"
     ]
    },
    {
     "data": {
      "text/plain": [
       "1"
      ]
     },
     "execution_count": 51,
     "metadata": {},
     "output_type": "execute_result"
    }
   ],
   "source": [
    "\n",
    "_infer_nuclei =  {\n",
    "        \"name\": \"infer nuclei\",\n",
    "        \"python::module\": \"infer_subc_2d.organelles\",\n",
    "        \"python::function\": \"infer_nuclei\",\n",
    "        \"parameters\": {\n",
    "                \"median_sz\": {\n",
    "                        \"widget_type\": \"slider\",\n",
    "                        \"data_type\": \"int\",\n",
    "                        \"min\": 3,\n",
    "                        \"max\": 15,\n",
    "                        \"increment\": 1\n",
    "                },\n",
    "                \"gauss_sig\": {\n",
    "                        \"data_type\": \"float\",\n",
    "                        \"increment\": 0.25,\n",
    "                        \"max\": 15.0,\n",
    "                        \"min\": 1.25,\n",
    "                        \"widget_type\": \"slider\"\n",
    "                },\n",
    "                \"thresh_factor\": {\n",
    "                        \"data_type\": \"float\",\n",
    "                        \"increment\": 0.05,\n",
    "                        \"max\": 1.2,\n",
    "                        \"min\": 0.6,\n",
    "                        \"widget_type\": \"slider\"\n",
    "                },\n",
    "                \"thresh_min\": {\n",
    "                        \"data_type\": \"float\",\n",
    "                        \"increment\": 0.05,\n",
    "                        \"max\": .9,\n",
    "                        \"min\": 0.0,\n",
    "                        \"widget_type\": \"slider\"\n",
    "                },\n",
    "                \"thresh_max\": {\n",
    "                        \"data_type\": \"float\",\n",
    "                        \"increment\": 0.05,\n",
    "                        \"max\": 1.0,\n",
    "                        \"min\": 0.1,\n",
    "                        \"widget_type\": \"slider\"\n",
    "                },\n",
    "                \"max_hole_w\": {\n",
    "                        \"data_type\": \"int\",\n",
    "                        \"increment\": 1,\n",
    "                        \"max\": 40,\n",
    "                        \"min\": 4,\n",
    "                        \"widget_type\": \"slider\"\n",
    "                },           \n",
    "                \"small_obj_w\": {\n",
    "                        \"data_type\": \"int\",\n",
    "                        \"increment\": 1,\n",
    "                        \"max\": 50,\n",
    "                        \"min\": 1,\n",
    "                        \"widget_type\": \"slider\"\n",
    "                }\n",
    "        }\n",
    "}\n",
    "\n",
    "add_function_spec_to_widget_json(\"infer_nuclei\", _infer_nuclei, overwrite=True )\n",
    "\n"
   ]
  },
  {
   "cell_type": "code",
   "execution_count": 52,
   "metadata": {},
   "outputs": [
    {
     "name": "stdout",
     "output_type": "stream",
     "text": [
      "function median_filter_slice_by_slice is already in all_functions.json\n"
     ]
    },
    {
     "data": {
      "text/plain": [
       "0"
      ]
     },
     "execution_count": 52,
     "metadata": {},
     "output_type": "execute_result"
    }
   ],
   "source": [
    "_median_filter_slice_by_slice =  {\n",
    "                \"name\": \"Median Smoothing Slice by Slice\",\n",
    "                \"python::module\": \"infer_subc_2d.utils.img\",\n",
    "                \"python::function\": \"median_filter_slice_by_slice\",\n",
    "                \"parameters\": {\n",
    "                    \"size\": {\n",
    "                        \"widget_type\": \"slider\",\n",
    "                        \"data_type\": \"int\",\n",
    "                        \"min\": 1,\n",
    "                        \"max\": 20,\n",
    "                        \"increment\": 1\n",
    "                    }\n",
    "                }\n",
    "            } \n",
    "add_function_spec_to_widget_json(\"median_filter_slice_by_slice\",_median_filter_slice_by_slice)"
   ]
  },
  {
   "cell_type": "code",
   "execution_count": 53,
   "metadata": {},
   "outputs": [
    {
     "name": "stdout",
     "output_type": "stream",
     "text": [
      "function image_smoothing_gaussian_slice_by_slice is already in all_functions.json\n"
     ]
    },
    {
     "data": {
      "text/plain": [
       "0"
      ]
     },
     "execution_count": 53,
     "metadata": {},
     "output_type": "execute_result"
    }
   ],
   "source": [
    "\n",
    "    # gaussian_smoothing_sigma = 1.34\n",
    "    # gaussian_smoothing_truncate_range = 3.0\n",
    "    # nuclei = image_smoothing_gaussian_slice_by_slice(  nuclei,\n",
    "    #                                                                                             sigma=gaussian_smoothing_sigma,\n",
    "    #                                                                                             truncate_range = gaussian_smoothing_truncate_range\n",
    "    #                                                                                             )\n",
    "_image_smoothing_gaussian_slice_by_slice = {\n",
    "        \"name\": \"Gaussian Smoothing Slice by Slice\",\n",
    "        \"python::module\": \"aicssegmentation.core.pre_processing_utils\",\n",
    "        \"python::function\": \"image_smoothing_gaussian_slice_by_slice\",\n",
    "        \"parameters\": {\n",
    "            \"sigma\": {\n",
    "                \"widget_type\": \"slider\",\n",
    "                \"data_type\": \"float\",\n",
    "                \"min\": 0.8,\n",
    "                \"max\": 20,\n",
    "                \"increment\": 0.2\n",
    "            }\n",
    "        }\n",
    "        }\n",
    "\n",
    "# json.dumps({\"image_smoothing_gaussian_slice_by_slice\": _image_smoothing_gaussian_slice_by_slice} )\n",
    "add_function_spec_to_widget_json(\"image_smoothing_gaussian_slice_by_slice\",_image_smoothing_gaussian_slice_by_slice)        \n"
   ]
  },
  {
   "cell_type": "code",
   "execution_count": 54,
   "metadata": {},
   "outputs": [
    {
     "name": "stdout",
     "output_type": "stream",
     "text": [
      "function apply_log_li_threshold is already in all_functions.json\n",
      "overwriting  apply_log_li_threshold\n"
     ]
    },
    {
     "data": {
      "text/plain": [
       "1"
      ]
     },
     "execution_count": 54,
     "metadata": {},
     "output_type": "execute_result"
    }
   ],
   "source": [
    "\n",
    "    # threshold_factor = 0.9 #from cellProfiler\n",
    "    # thresh_min = .1\n",
    "    # thresh_max = 1.\n",
    "    # nuclei_object = apply_log_li_threshold(nuclei, threshold_factor=threshold_factor, thresh_min=thresh_min, thresh_max=thresh_max)\n",
    "\n",
    "# WARNING: not a good way to set to None\n",
    "_apply_log_li_threshold = {\n",
    "        \"name\": \"threshold log Li\",\n",
    "        \"python::module\": \"infer_subc_2d.utils.img\",\n",
    "        \"python::function\": \"apply_log_li_threshold\",\n",
    "        \"parameters\": {\n",
    "            \"thresh_factor\": {\n",
    "                \"widget_type\": \"slider\",\n",
    "                \"data_type\": \"float\",\n",
    "                \"min\": 0.3,\n",
    "                \"max\": 1.1,\n",
    "                \"increment\": 0.05\n",
    "            },\n",
    "            \"thresh_min\": {\n",
    "                \"widget_type\": \"slider\",\n",
    "                \"data_type\": \"float\",\n",
    "                \"min\": 0.0,\n",
    "                \"max\": 0.8,\n",
    "                \"increment\": 0.01\n",
    "            },\n",
    "            \"thresh_max\": {\n",
    "                \"widget_type\": \"slider\",\n",
    "                \"data_type\": \"float\",\n",
    "                \"min\": 0.3,\n",
    "                \"max\": 1.0,\n",
    "                \"increment\": 0.05\n",
    "            },\n",
    "        }\n",
    "        }\n",
    "\n",
    "# json.dumps({\"apply_log_li_threshold\": _apply_log_li_threshold} )\n",
    "add_function_spec_to_widget_json(\"apply_log_li_threshold\",_apply_log_li_threshold,overwrite=True)        \n"
   ]
  },
  {
   "cell_type": "code",
   "execution_count": 55,
   "metadata": {},
   "outputs": [
    {
     "name": "stdout",
     "output_type": "stream",
     "text": [
      "function label is already in all_functions.json\n"
     ]
    },
    {
     "data": {
      "text/plain": [
       "0"
      ]
     },
     "execution_count": 55,
     "metadata": {},
     "output_type": "execute_result"
    }
   ],
   "source": [
    "\n",
    "\n",
    "    # NU_labels = label(nuclei_object)\n",
    "\n",
    "_label =  {\n",
    "        \"name\": \"label objects\",\n",
    "        \"python::module\": \"skimage.measure\",\n",
    "        \"python::function\": \"label\",\n",
    "        \"parameters\": None\n",
    "        }\n",
    "# json.dumps({\"label\":_label})\n",
    "add_function_spec_to_widget_json(\"label\",_label)        \n"
   ]
  },
  {
   "cell_type": "code",
   "execution_count": 56,
   "metadata": {},
   "outputs": [
    {
     "name": "stdout",
     "output_type": "stream",
     "text": [
      "function apply_mask is already in all_functions.json\n"
     ]
    },
    {
     "data": {
      "text/plain": [
       "0"
      ]
     },
     "execution_count": 56,
     "metadata": {},
     "output_type": "execute_result"
    }
   ],
   "source": [
    "\n",
    "#  nulei_object = apply_mask(nuclei_object, soma_mask)\n",
    "\n",
    "_apply_mask=  {\n",
    "        \"name\": \"apply mask\",\n",
    "        \"python::module\": \"infer_subc_2d.utils.img\",\n",
    "        \"python::function\": \"apply_mask\",\n",
    "        \"parameters\": None\n",
    "        }\n",
    "# json.dumps({\"apply_mask\":_apply_mask})\n",
    "add_function_spec_to_widget_json(\"apply_mask\",_apply_mask)        \n"
   ]
  },
  {
   "cell_type": "code",
   "execution_count": 57,
   "metadata": {},
   "outputs": [
    {
     "name": "stdout",
     "output_type": "stream",
     "text": [
      "function size_filter_2D is already in all_functions.json\n"
     ]
    },
    {
     "data": {
      "text/plain": [
       "0"
      ]
     },
     "execution_count": 57,
     "metadata": {},
     "output_type": "execute_result"
    }
   ],
   "source": [
    "\n",
    "    # small_object_width = 45\n",
    "    # nuclei_object = size_filter_2D(nuclei_object, \n",
    "    #                                                             min_size= small_object_width**2, \n",
    "    #                                                             connectivity=1)\n",
    "\n",
    "\n",
    "_size_filter_2D = {\n",
    "        \"name\": \"Size Filter 2D\",\n",
    "        \"python::module\": \"infer_subc_2d.utils.img\",\n",
    "        \"python::function\": \"size_filter_2D\",\n",
    "        \"parameters\": {\n",
    "            \"min_size\": {\n",
    "                \"widget_type\": \"slider\",\n",
    "                \"data_type\": \"int\",\n",
    "                \"min\": 0,\n",
    "                \"max\": 500,\n",
    "                \"increment\": 1\n",
    "            }\n",
    "        }\n",
    "    }\n",
    "# json.dumps({  \"size_filter_2D\":  _size_filter_2D   })\n",
    "\n",
    "add_function_spec_to_widget_json(\"size_filter_2D\",_size_filter_2D)        \n"
   ]
  },
  {
   "cell_type": "markdown",
   "metadata": {},
   "source": [
    "## Write workflow .json\n",
    "Now that we've added our function specs we can compose workflows."
   ]
  },
  {
   "cell_type": "code",
   "execution_count": 58,
   "metadata": {},
   "outputs": [],
   "source": [
    "from infer_subc_2d.constants import NUC_CH\n",
    "def make_infer_nuclei_dict():\n",
    "    \"\"\"\n",
    "    Procedure to infer nuclei from linearly unmixed input.\n",
    "\n",
    "    Parameters:\n",
    "    ------------\n",
    "    in_img: np.ndarray\n",
    "        a 3d image containing all the channels\n",
    "\n",
    "    soma_mask: np.ndarray\n",
    "        mask\n",
    "\n",
    "    Returns:\n",
    "    -------------\n",
    "    nuclei_object\n",
    "        mask defined extent of NU\n",
    "\n",
    "    \"\"\"\n",
    "    step_name = []\n",
    "    function_name = []\n",
    "    category =[]\n",
    "    parameter_values = []\n",
    "    parent = []\n",
    "   \n",
    "    ###################\n",
    "    # EXTRACT\n",
    "    ###################   \n",
    "    step_name.append(\"1\")\n",
    "    function_name.append(\"select_channel_from_raw\")\n",
    "    category.append(\"extraction\")\n",
    "    parameter_values.append( dict(chan = NUC_CH) )\n",
    "    parent.append(0)\n",
    "\n",
    "    ###################\n",
    "    # PRE_PROCESSING\n",
    "    ###################                         \n",
    "    # nuclei = min_max_intensity_normalization(in_img[NUC_CH].copy() )\n",
    "    step_name.append(\"2\")\n",
    "    function_name.append(\"min_max_intensity_normalization\")\n",
    "    category.append(\"preprocessing\")\n",
    "    parameter_values.append(None)\n",
    "    parent.append(1)\n",
    "\n",
    "    # size = 4   \n",
    "    # nuclei = median_filter_slice_by_slice( \n",
    "    #                                                                 nuclei,\n",
    "    #                                                                 size=size  )\n",
    "    step_name.append(\"3\")\n",
    "    function_name.append(\"median_filter_slice_by_slice\")\n",
    "    category.append(\"preprocessing\")\n",
    "    parameter_values.append(dict(size = 4 ))\n",
    "    parent.append(2)\n",
    "\n",
    "    # sigma = 1.34\n",
    "    # truncate_range = 3.0\n",
    "    # nuclei = image_smoothing_gaussian_slice_by_slice(  nuclei,\n",
    "    #                                                                                             sigma=sigma,\n",
    "    #                                                                                             truncate_range = truncate_range\n",
    "    #                                                                                             )\n",
    "    step_name.append(\"4\")\n",
    "    function_name.append(\"image_smoothing_gaussian_slice_by_slice\")\n",
    "    category.append(\"preprocessing\")\n",
    "    parameter_values.append(dict( sigma = 1.34 ))\n",
    "    parent.append(3)\n",
    "\n",
    "    ###################\n",
    "    # CORE_PROCESSING\n",
    "    ###################\n",
    "    # threshold_factor = 0.9 \n",
    "    # thresh_min = .1\n",
    "    # thresh_max = 1.\n",
    "    # nuclei_object = apply_log_li_threshold(nuclei, threshold_factor=threshold_factor, thresh_min=thresh_min, thresh_max=thresh_max)\n",
    "    step_name.append(\"5\")\n",
    "    function_name.append(\"apply_log_li_threshold\")\n",
    "    category.append(\"core\")\n",
    "    parameter_values.append(dict(thresh_factor = 0.9, \n",
    "                                                            thresh_min = .1,\n",
    "                                                            thresh_max = 1.))\n",
    "    parent.append(4)\n",
    "\n",
    "\n",
    "    # NU_labels = label(nuclei_object)\n",
    "    step_name.append(\"6\")\n",
    "    function_name.append(\"label\")\n",
    "    category.append(\"core\")\n",
    "    parameter_values.append(None)\n",
    "    parent.append(5)\n",
    "\n",
    "\n",
    "    ###################\n",
    "    # POST_PROCESSING\n",
    "    ###################\n",
    "    # hole_width = 5  \n",
    "    # nuclei_object = hole_filling(nuclei_object, hole_min=0, hole_max=hole_width**2, fill_2d=True)\n",
    "    step_name.append(\"6\")\n",
    "    function_name.append(\"hole_filling\")\n",
    "    category.append(\"postprocessing\")\n",
    "    parameter_values.append(dict( hole_min=0, hole_max=5**2, fill_2d=True))\n",
    "    parent.append(5)\n",
    "\n",
    "    # # EEEEEK I don't know how to compose where the mask comes from... \n",
    "    # nuclei_object = apply_mask(nuclei_object, soma_mask)\n",
    "\n",
    "    # small_object_width = 15\n",
    "    # nuclei_object = size_filter_2D(nuclei_object, \n",
    "    #                                                             min_size= small_object_width**2, \n",
    "    #                                                             connectivity=1)\n",
    "    step_name.append(\"7\")\n",
    "    function_name.append(\"size_filter_2D\")\n",
    "    category.append(\"postprocessing\")\n",
    "    parameter_values.append(dict( min_size = 15**2  ))\n",
    "    parent.append(6)\n",
    "\n",
    "    out_dict = dict()\n",
    "    for i,stepn in enumerate(step_name):\n",
    "        entry = dict(category=category[i],\n",
    "                            function=function_name[i],\n",
    "                            parameter_values=parameter_values[i],\n",
    "                            parent=parent[i]\n",
    "        )\n",
    "        if entry['parameter_values'] is None:\n",
    "            _ = entry.pop('parameter_values')\n",
    "        out_dict[stepn] = entry\n",
    "        \n",
    "    return out_dict"
   ]
  },
  {
   "cell_type": "code",
   "execution_count": 59,
   "metadata": {},
   "outputs": [],
   "source": [
    "def _write_workflow_json(wf_name, wf_dict):\n",
    "\n",
    "    # read all_functions.json into dict\n",
    "    # if not wf_name.startswith(\"conf\"):\n",
    "    #     wf_name = f\"conf_{wf_name}\"\n",
    "    path = Directories.get_structure_config_dir() / f\"{wf_name}.json\"\n",
    "\n",
    "    # re-write file\n",
    "    with open(path, \"w\") as file:\n",
    "        json.dump(wf_dict, file, indent=4, sort_keys=False)\n",
    "\n",
    "    return path\n",
    "\n",
    "\n"
   ]
  },
  {
   "cell_type": "code",
   "execution_count": 60,
   "metadata": {},
   "outputs": [
    {
     "data": {
      "text/plain": [
       "PosixPath('/Users/ahenrie/Projects/Imaging/infer-subc-2D/infer_subc_2d/organelles_config/conf_2.2.nuclei_stepbystep.json')"
      ]
     },
     "execution_count": 60,
     "metadata": {},
     "output_type": "execute_result"
    }
   ],
   "source": [
    "from infer_subc_2d.organelles_config.helper import write_workflow_json\n",
    "\n",
    "infer_nuclei_dict = make_infer_nuclei_dict()\n",
    "\n",
    "write_workflow_json(\"conf_2.2.nuclei_stepbystep\", infer_nuclei_dict)"
   ]
  },
  {
   "cell_type": "code",
   "execution_count": 61,
   "metadata": {},
   "outputs": [],
   "source": [
    "from infer_subc_2d.constants import NUC_CH\n",
    "\n",
    "\n",
    "def make_infer_nuclei_from_raw_dict():\n",
    "    \"\"\"\n",
    "    Procedure to infer nuclei from linearly unmixed input.\n",
    "\n",
    "    Parameters:\n",
    "    ------------\n",
    "    in_img: np.ndarray\n",
    "        a 3d image containing all the channels\n",
    "\n",
    "    soma_mask: np.ndarray\n",
    "        mask\n",
    "\n",
    "    Returns:\n",
    "    -------------\n",
    "    nuclei_object\n",
    "        mask defined extent of NU\n",
    "\n",
    "    \"\"\"\n",
    "    step_name = []\n",
    "    function_name = []\n",
    "    category =[]\n",
    "    parameter_values = []\n",
    "    parent = []\n",
    "   \n",
    "    ###################\n",
    "    # EXTRACT\n",
    "    ###################   \n",
    "\n",
    "    step_name.append(\"1\")\n",
    "    function_name.append(\"fixed_get_optimal_Z_img\")\n",
    "    category.append(\"extraction\")\n",
    "    parameter_values.append(None)\n",
    "    parent.append(0)\n",
    "\n",
    "\n",
    "    step_name.append(\"2\")\n",
    "    function_name.append(\"fixed_infer_soma\")\n",
    "    category.append(\"extraction\")\n",
    "    parameter_values.append( None )\n",
    "    parent.append(1)\n",
    "\n",
    "    step_name.append(\"3\")\n",
    "    function_name.append(\"select_channel_from_raw\")\n",
    "    category.append(\"extraction\")\n",
    "    parameter_values.append( dict(chan = NUC_CH) )\n",
    "    parent.append(1)\n",
    "\n",
    "    ###################\n",
    "    # PRE_PROCESSING\n",
    "    ###################                         \n",
    "    # nuclei = min_max_intensity_normalization(in_img[NUC_CH].copy() )\n",
    "    step_name.append(\"4\")\n",
    "    function_name.append(\"min_max_intensity_normalization\")\n",
    "    category.append(\"preprocessing\")\n",
    "    parameter_values.append(None)\n",
    "    parent.append(3)\n",
    "\n",
    "    # size = 4   \n",
    "    # nuclei = median_filter_slice_by_slice( \n",
    "    #                                                                 nuclei,\n",
    "    #                                                                 size=size  )\n",
    "    step_name.append(\"5\")\n",
    "    function_name.append(\"median_filter_slice_by_slice\")\n",
    "    category.append(\"preprocessing\")\n",
    "    parameter_values.append(dict(size = 4 ))\n",
    "    parent.append(4)\n",
    "\n",
    "    # sigma = 1.34\n",
    "    # truncate_range = 3.0\n",
    "    # nuclei = image_smoothing_gaussian_slice_by_slice(  nuclei,\n",
    "    #                                                                                             sigma=sigma,\n",
    "    #                                                                                             truncate_range = truncate_range\n",
    "    #                                                                                             )\n",
    "    step_name.append(\"6\")\n",
    "    function_name.append(\"image_smoothing_gaussian_slice_by_slice\")\n",
    "    category.append(\"preprocessing\")\n",
    "    parameter_values.append(dict( sigma = 1.34 ))\n",
    "    parent.append(5)\n",
    "\n",
    "    ###################\n",
    "    # CORE_PROCESSING\n",
    "    ###################\n",
    "    # threshold_factor = 0.9 \n",
    "    # thresh_min = .1\n",
    "    # thresh_max = 1.\n",
    "    # nuclei_object = apply_log_li_threshold(nuclei, threshold_factor=threshold_factor, thresh_min=thresh_min, thresh_max=thresh_max)\n",
    "    step_name.append(\"7\")\n",
    "    function_name.append(\"apply_log_li_threshold\")\n",
    "    category.append(\"core\")\n",
    "    parameter_values.append(dict(thresh_factor = 0.9, \n",
    "                                                            thresh_min = .1,\n",
    "                                                            thresh_max = 1.))\n",
    "    parent.append(6)\n",
    "\n",
    "\n",
    "    # NU_labels = label(nuclei_object)\n",
    "    step_name.append(\"8\")\n",
    "    function_name.append(\"label\")\n",
    "    category.append(\"core\")\n",
    "    parameter_values.append(None)\n",
    "    parent.append(7)\n",
    "\n",
    "\n",
    "    ###################\n",
    "    # POST_PROCESSING\n",
    "    ###################\n",
    "    # hole_width = 5  \n",
    "    # nuclei_object = hole_filling(nuclei_object, hole_min=0, hole_max=hole_width**2, fill_2d=True)\n",
    "    step_name.append(\"9\")\n",
    "    function_name.append(\"hole_filling\")\n",
    "    category.append(\"postprocessing\")\n",
    "    parameter_values.append(dict( hole_min=0, hole_max=5**2, fill_2d=True))\n",
    "    parent.append(8)\n",
    "\n",
    "    step_name.append(\"10\")\n",
    "    function_name.append(\"apply_mask\")\n",
    "    category.append(\"postprocessing\")\n",
    "    parameter_values.append(None)\n",
    "    parent.append([9,2])\n",
    "\n",
    "\n",
    "    # small_object_width = 15\n",
    "    # nuclei_object = size_filter_2D(nuclei_object, \n",
    "    #                                                             min_size= small_object_width**2, \n",
    "    #                                                             connectivity=1)\n",
    "    step_name.append(\"11\")\n",
    "    function_name.append(\"size_filter_2D\")\n",
    "    category.append(\"postprocessing\")\n",
    "    parameter_values.append(dict( min_size = 15**2  ))\n",
    "    parent.append(10)\n",
    "\n",
    "    out_dict = dict()\n",
    "    for i,stepn in enumerate(step_name):\n",
    "        entry = dict(category=category[i],\n",
    "                            function=function_name[i],\n",
    "                            parameter_values=parameter_values[i],\n",
    "                            parent=parent[i]\n",
    "        )\n",
    "        if entry['parameter_values'] is None:\n",
    "            _ = entry.pop('parameter_values')\n",
    "        out_dict[stepn] = entry\n",
    "        \n",
    "    return out_dict"
   ]
  },
  {
   "cell_type": "code",
   "execution_count": 62,
   "metadata": {},
   "outputs": [
    {
     "data": {
      "text/plain": [
       "PosixPath('/Users/ahenrie/Projects/Imaging/infer-subc-2D/infer_subc_2d/organelles_config/conf_1.2.nuclei_stepbystep_from_raw.json')"
      ]
     },
     "execution_count": 62,
     "metadata": {},
     "output_type": "execute_result"
    }
   ],
   "source": [
    "from infer_subc_2d.organelles_config.helper import write_workflow_json\n",
    "\n",
    "infer_nuclei_dict = make_infer_nuclei_from_raw_dict()\n",
    "\n",
    "write_workflow_json(\"conf_1.2.nuclei_stepbystep_from_raw\", infer_nuclei_dict)"
   ]
  },
  {
   "cell_type": "code",
   "execution_count": 63,
   "metadata": {},
   "outputs": [
    {
     "name": "stdout",
     "output_type": "stream",
     "text": [
      "function infer_nuclei is already in all_functions.json\n"
     ]
    },
    {
     "data": {
      "text/plain": [
       "0"
      ]
     },
     "execution_count": 63,
     "metadata": {},
     "output_type": "execute_result"
    }
   ],
   "source": [
    "from infer_subc_2d.organelles_config.helper import add_function_spec_to_widget_json\n",
    "\n",
    "_infer_nuclei =  {\n",
    "        \"name\": \"infer infer_nuclei\",\n",
    "        \"python::module\": \"infer_subc_2d.organelles\",\n",
    "        \"python::function\": \"infer_nuclei\",\n",
    "        \"parameters\": None\n",
    "        }\n",
    "\n",
    "add_function_spec_to_widget_json(\"infer_nuclei\",_infer_nuclei)"
   ]
  },
  {
   "cell_type": "code",
   "execution_count": 64,
   "metadata": {},
   "outputs": [
    {
     "ename": "",
     "evalue": "",
     "output_type": "error",
     "traceback": [
      "\u001b[1;31mThe Kernel crashed while executing code in the the current cell or a previous cell. Please review the code in the cell(s) to identify a possible cause of the failure. Click <a href='https://aka.ms/vscodeJupyterKernelCrash'>here</a> for more info. View Jupyter <a href='command:jupyter.viewOutput'>log</a> for further details."
     ]
    }
   ],
   "source": [
    "viewer.close()"
   ]
  },
  {
   "cell_type": "code",
   "execution_count": null,
   "metadata": {},
   "outputs": [],
   "source": []
  }
 ],
 "metadata": {
  "kernelspec": {
   "display_name": "Python 3 (ipykernel)",
   "language": "python",
   "name": "python3"
  },
  "language_info": {
   "codemirror_mode": {
    "name": "ipython",
    "version": 3
   },
   "file_extension": ".py",
   "mimetype": "text/x-python",
   "name": "python",
   "nbconvert_exporter": "python",
   "pygments_lexer": "ipython3",
   "version": "3.9.13"
  },
  "vscode": {
   "interpreter": {
    "hash": "d6148ef1fb015fb20f0b6da2ea61c87c6b848bdf3dabb03087e5d5cd0c4607e9"
   }
  }
 },
 "nbformat": 4,
 "nbformat_minor": 2
}
