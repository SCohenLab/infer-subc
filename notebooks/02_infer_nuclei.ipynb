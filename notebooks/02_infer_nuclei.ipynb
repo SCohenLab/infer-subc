{
 "cells": [
  {
   "attachments": {},
   "cell_type": "markdown",
   "metadata": {},
   "source": [
    "# Infer ***nuclei*** - 2️⃣ \n",
    "\n",
    "--------------\n",
    "\n",
    "## OBJECTIVE: \n",
    "### ✅ Infer sub-cellular component #2: ***nuclei***  in order to understand interactome \n",
    "\n",
    "To measure shape, position, size, and interaction of eight organelles/cellular components ***nuclei***.  \n",
    "\n",
    "Dependencies:\n",
    "***Soma*** and ***cytosol*** inference rely on the ***nuclei*** inference.  Therefore all of the sub-cellular objects rely on the NU segmentation.\n",
    "\n"
   ]
  },
  {
   "attachments": {},
   "cell_type": "markdown",
   "metadata": {},
   "source": [
    "## preamble\n",
    "\n",
    "1. imports\n",
    "2. setup\n",
    "3. choose_Z\n",
    "4. get soma mask\n",
    "\n",
    "> the contents of the preamble are reduncant with [00.2_extract_optimal_Z.ipynb](./00.2_extract_optimal_Z.ipynb)"
   ]
  },
  {
   "attachments": {},
   "cell_type": "markdown",
   "metadata": {},
   "source": [
    "\n",
    "\n",
    "### IMPORTS"
   ]
  },
  {
   "cell_type": "code",
   "execution_count": 22,
   "metadata": {},
   "outputs": [
    {
     "name": "stdout",
     "output_type": "stream",
     "text": [
      "The autoreload extension is already loaded. To reload it, use:\n",
      "  %reload_ext autoreload\n"
     ]
    }
   ],
   "source": [
    "# top level imports\n",
    "from pathlib import Path\n",
    "import os, sys\n",
    "from collections import defaultdict\n",
    "from typing import Optional\n",
    "\n",
    "import numpy as np\n",
    "\n",
    "from aicssegmentation.core.pre_processing_utils import  image_smoothing_gaussian_slice_by_slice \n",
    "from aicssegmentation.core.utils import hole_filling\n",
    "from skimage.measure import label\n",
    "\n",
    "# # package for io \n",
    "from aicsimageio import AICSImage\n",
    "\n",
    "import napari\n",
    "\n",
    "### import local python functions in ../infer_subc_2d\n",
    "sys.path.append(os.path.abspath((os.path.join(os.getcwd(), '..'))))\n",
    "\n",
    "\n",
    "from infer_subc_2d.utils.file_io import (read_czi_image,\n",
    "                                                                    list_image_files)\n",
    "from infer_subc_2d.utils.img import *\n",
    "from infer_subc_2d.organelles import fixed_get_optimal_Z_image, fixed_find_optimal_Z, find_optimal_Z\n",
    "from infer_subc_2d.constants import (TEST_IMG_N,\n",
    "                                                                    NUC_CH ,\n",
    "                                                                    LYSO_CH ,\n",
    "                                                                    MITO_CH ,\n",
    "                                                                    GOLGI_CH ,\n",
    "                                                                    PEROXI_CH ,\n",
    "                                                                    ER_CH ,\n",
    "                                                                    LIPID_CH ,\n",
    "                                                                    RESIDUAL_CH, \n",
    "                                                                    ALL_CHANNELS )          \n",
    "\n",
    "from infer_subc_2d.organelles import infer_soma, fixed_infer_soma\n",
    "\n",
    "%load_ext autoreload\n",
    "%autoreload 2\n",
    "\n",
    "test_img_n = TEST_IMG_N"
   ]
  },
  {
   "cell_type": "code",
   "execution_count": 23,
   "metadata": {},
   "outputs": [],
   "source": [
    "# build the datapath\n",
    "# all the imaging data goes here.\n",
    "# CUSTOMIZE HERE --->\n",
    "data_root_path = Path(os.path.expanduser(\"~\")) / \"Projects/Imaging/data\"\n",
    "\n",
    "# linearly unmixed \".czi\" files are here\n",
    "data_path = data_root_path / \"raw\"\n",
    "im_type = \".czi\"\n",
    "\n",
    "# get the list of all files\n",
    "img_file_list = list_image_files(data_path,im_type)\n",
    "test_img_name = img_file_list[test_img_n]\n"
   ]
  },
  {
   "cell_type": "code",
   "execution_count": 24,
   "metadata": {},
   "outputs": [
    {
     "name": "stderr",
     "output_type": "stream",
     "text": [
      "/opt/anaconda3/envs/napariNEW/lib/python3.9/site-packages/ome_types/_convenience.py:105: FutureWarning: The default XML parser will be changing from 'xmlschema' to 'lxml' in version 0.4.0.  To silence this warning, please provide the `parser` argument, specifying either 'lxml' (to opt into the new behavior), or'xmlschema' (to retain the old behavior).\n",
      "  d = to_dict(os.fspath(xml), parser=parser, validate=validate)\n"
     ]
    }
   ],
   "source": [
    "img_data,meta_dict = read_czi_image(test_img_name)\n",
    "\n",
    "\n",
    "# get some top-level info about the RAW data\n",
    "channel_names = meta_dict['name']\n",
    "img = meta_dict['metadata']['aicsimage']\n",
    "scale = meta_dict['scale']\n",
    "channel_axis = meta_dict['channel_axis']\n",
    "\n"
   ]
  },
  {
   "cell_type": "markdown",
   "metadata": {},
   "source": [
    "## CHOOZE Z-SLICE\n",
    "\n",
    "Lets find the slice with the most overall intensity..."
   ]
  },
  {
   "cell_type": "code",
   "execution_count": 25,
   "metadata": {},
   "outputs": [
    {
     "name": "stdout",
     "output_type": "stream",
     "text": [
      "choosing _optimal_ z-slice::: 8\n"
     ]
    }
   ],
   "source": [
    "ch_to_agg = ( LYSO_CH ,\n",
    "                        MITO_CH ,\n",
    "                        GOLGI_CH ,\n",
    "                        PEROXI_CH ,\n",
    "                        ER_CH ,\n",
    "                        LIPID_CH )\n",
    "                            \n",
    "nuc_ch = NUC_CH\n",
    "optimal_Z = find_optimal_Z(img_data, nuc_ch, ch_to_agg) \n"
   ]
  },
  {
   "cell_type": "markdown",
   "metadata": {},
   "source": [
    "Now get the single \"optimal\" slice of all our organelle channels...."
   ]
  },
  {
   "cell_type": "code",
   "execution_count": 26,
   "metadata": {},
   "outputs": [
    {
     "name": "stdout",
     "output_type": "stream",
     "text": [
      "choosing _optimal_ z-slice::: 8\n"
     ]
    }
   ],
   "source": [
    "# TEST other both extract Z methods\n",
    "img_2D = select_z_from_raw(img_data, optimal_Z)\n",
    "img_2D = fixed_get_optimal_Z_image(img_data)\n"
   ]
  },
  {
   "attachments": {},
   "cell_type": "markdown",
   "metadata": {},
   "source": [
    "## GET SOMA MASK\n",
    "\n",
    "Find the soma in our chozed Z-slice"
   ]
  },
  {
   "cell_type": "code",
   "execution_count": 27,
   "metadata": {},
   "outputs": [],
   "source": [
    "\n",
    "soma_mask =  fixed_infer_soma(img_2D) "
   ]
  },
  {
   "attachments": {},
   "cell_type": "markdown",
   "metadata": {},
   "source": [
    "## infer ***nuclei***\n",
    " \n",
    "\n",
    "## summary of steps\n",
    "\n",
    "➡️ INPUT\n",
    "\n",
    "- channel 0\n",
    "\n",
    "PRE-PROCESSING\n",
    "-  scale to min 0, max 1.0\n",
    "- median Filter window 4\n",
    "-  gaussian 1.34\n",
    "\n",
    "CORE-PROCESSING\n",
    "  - threshold method minimum cross-entropy.  \n",
    "    - objects 50-400 pixels, \n",
    "    - threshold smoothing scale: 1.34 (later 1 pixel\n",
    "    - threshold correction factor: 0.9 (later 1.2 )\n",
    "    - lower / upper bounds  (.1,1) ?\n",
    "    - log transformed thresholding\n",
    "    - fill holes\n",
    "\n",
    "\n",
    "POST-PROCESSING\n",
    "  - fill holes\n",
    "  - remove small objects\n",
    "\n",
    "\n",
    "OUTPUT ➡️ \n",
    "- labels of NUCLEI\n",
    "\n",
    "\n",
    "> #### Note:  in later steps we will limit each analysis to a single object, but at this stage we have multiple\n",
    "\n",
    "NOTE:  using Allen Cell Segmenter  [Nucleophosmin](https://www.allencell.org/cell-observations/category/nucleophosmin) might be a good generic mechanism.  e.g.\n",
    "-  [playground_npm1.ipynb](https://github.com/AllenInstitute/aics-segmentation/blob/master/lookup_table_demo/playground_npm1.ipynb) and [npm1.py](https://github.com/AllenInstitute/aics-segmentation/blob/master/aicssegmentation/structure_wrapper/seg_npm1.py) and [npm1_SR.py](https://github.com/AllenInstitute/aics-segmentation/blob/master/aicssegmentation/structure_wrapper/seg_npm1_SR.py)\n",
    "\n",
    "\n",
    "> #### Note:  this initial inferred object -- the ***nuclei*** of the brightest cell -- is implicitly used in inferring the ***soma*** and ***cytosol*** objects.  \n",
    "\n",
    "\n",
    "------------------------\n",
    "# LOAD RAW IMAGE DATA\n",
    "Identify path to _raw_ image data and load our example image\n"
   ]
  },
  {
   "attachments": {},
   "cell_type": "markdown",
   "metadata": {},
   "source": [
    "## INPUT prototype\n",
    "\n",
    "Get the \"raw\" signals we need to analyze as well as any other dependencies in \"inferred\" objects.  \n",
    "\n",
    "> NOTE: we are operating on a single \"test\" image in this notebook.  The batch-processing of all the images will be happen at the end of the notebook after we have developed/confirmed the setmentation procedures and parameter settings."
   ]
  },
  {
   "cell_type": "code",
   "execution_count": 28,
   "metadata": {},
   "outputs": [],
   "source": [
    "###################\n",
    "# INPUT\n",
    "###################\n",
    "# raw_nuclei = img_2D[NUC_CH].copy()\n",
    "raw_nuclei = select_channel_from_raw(img_2D, NUC_CH)\n"
   ]
  },
  {
   "attachments": {},
   "cell_type": "markdown",
   "metadata": {},
   "source": [
    "## PRE-PROCESSING prototype\n"
   ]
  },
  {
   "cell_type": "code",
   "execution_count": 29,
   "metadata": {},
   "outputs": [],
   "source": [
    "###################\n",
    "# PRE_PROCESSING\n",
    "###################           \n",
    "# \n",
    "nuclei = min_max_intensity_normalization(raw_nuclei )\n",
    "\n",
    "med_filter_size = 4   \n",
    "# structure_img_median_3D = ndi.median_filter(struct_img,    size=med_filter_size  )\n",
    "nuclei = median_filter_slice_by_slice( \n",
    "                                                                nuclei,\n",
    "                                                                size=med_filter_size  )\n",
    "\n",
    "gaussian_smoothing_sigma = 1.34\n",
    "nuclei = image_smoothing_gaussian_slice_by_slice(  nuclei,\n",
    "                                                                                            sigma=gaussian_smoothing_sigma)\n",
    "\n"
   ]
  },
  {
   "attachments": {},
   "cell_type": "markdown",
   "metadata": {},
   "source": [
    "\n",
    "> #### ASIDE: Thresholding\n",
    "> [Thresholding](https://en.wikipedia.org/wiki/Thresholding_%28image_processing%29) is used to create binary images. A threshold value determines the intensity value separating foreground pixels from background pixels. Foregound pixels are pixels brighter than the threshold value, background pixels are darker. In many cases, images can be adequately segmented by thresholding followed by labelling of *connected components*, which is a fancy way of saying \"groups of pixels that touch each other\".\n",
    "> \n",
    "> Different thresholding algorithms produce different results. [Otsu's method](https://en.wikipedia.org/wiki/Otsu%27s_method) and [Li's minimum cross entropy threshold](https://scikit-image.org/docs/dev/auto_examples/developers/plot_threshold_li.html) are two common algorithms. Below, we use Li. You can use `skimage.filters.threshold_<TAB>` to find different thresholding methods.\n",
    "\n",
    "_Li_ procedure  better matches the CellProfiler pipeline which simply calls it \"Minimum Cross Entropy\" .\n"
   ]
  },
  {
   "cell_type": "markdown",
   "metadata": {},
   "source": [
    "## CORE PROCESSING"
   ]
  },
  {
   "cell_type": "code",
   "execution_count": 30,
   "metadata": {},
   "outputs": [],
   "source": [
    "\n",
    "###################\n",
    "# CORE_PROCESSING\n",
    "###################\n",
    "\n",
    "threshold_factor = 0.9 #from cellProfiler\n",
    "thresh_min = .1\n",
    "thresh_max = 1.\n",
    "li_thresholded = apply_log_li_threshold(nuclei, thresh_factor=threshold_factor, thresh_min=thresh_min, thresh_max=thresh_max)\n"
   ]
  },
  {
   "cell_type": "markdown",
   "metadata": {},
   "source": [
    "## POST PROCESSING\n",
    "\n",
    "> NOTE: the size parameters are by convention defined as one dimensional \"width\", so the inputs to the functions need to be _squared_ i.e. raised to the power of 2: `** 2`.   For volumetric (3D) analysis this would be _cubed_:`**3`"
   ]
  },
  {
   "cell_type": "code",
   "execution_count": 31,
   "metadata": {},
   "outputs": [],
   "source": [
    "###################\n",
    "# POST_PROCESSING\n",
    "###################\n",
    "\n",
    "hole_width = 5  \n",
    "# # wrapper to remoce_small_objects\n",
    "#removed_holes = remove_small_holes(li_thresholded, hole_width ** 2 )\n",
    "removed_holes = hole_filling(li_thresholded, hole_min=0, hole_max=hole_width**2, fill_2d=True)\n",
    "\n",
    "small_object_width = 15\n",
    "cleaned_img = size_filter_2D(removed_holes, # wrapper to remove_small_objects which can do slice by slice\n",
    "                                                         min_size= small_object_width ** 2, \n",
    "                                                         connectivity=1)\n"
   ]
  },
  {
   "cell_type": "code",
   "execution_count": 32,
   "metadata": {},
   "outputs": [],
   "source": [
    "nuclei_object = cleaned_img\n",
    "NU_labels = label( cleaned_img )\n",
    "NU_signal = raw_nuclei"
   ]
  },
  {
   "attachments": {},
   "cell_type": "markdown",
   "metadata": {},
   "source": [
    "## Visualize with `napari` 1\n",
    "Visualize the first-pass segmentation and labeling with `napari`."
   ]
  },
  {
   "cell_type": "code",
   "execution_count": 33,
   "metadata": {},
   "outputs": [
    {
     "data": {
      "text/plain": [
       "<Image layer 'soma_mask' at 0x16dc81af0>"
      ]
     },
     "execution_count": 33,
     "metadata": {},
     "output_type": "execute_result"
    }
   ],
   "source": [
    "viewer = napari.Viewer()\n",
    "\n",
    "viewer.add_image(soma_mask,\n",
    "    scale=scale)"
   ]
  },
  {
   "cell_type": "code",
   "execution_count": 34,
   "metadata": {},
   "outputs": [
    {
     "data": {
      "text/plain": [
       "<Labels layer 'NU_labels' at 0x16e17d0d0>"
      ]
     },
     "execution_count": 34,
     "metadata": {},
     "output_type": "execute_result"
    }
   ],
   "source": [
    "\n",
    "viewer.add_image(\n",
    "    nuclei_object,\n",
    "    scale=scale,\n",
    "    opacity=0.3,\n",
    ")    \n",
    "\n",
    "\n",
    "viewer.add_labels(\n",
    "    NU_labels,\n",
    "    scale=scale,\n",
    "    opacity=0.3,\n",
    ")\n",
    "\n"
   ]
  },
  {
   "attachments": {},
   "cell_type": "markdown",
   "metadata": {},
   "source": [
    "## DEFINE `_infer_nuclei` function\n",
    "\n",
    "Based on the _prototyping_ above define the function to infer nuclei.  \n",
    "\n",
    "> NOTE:  although it takes the parameters as input, they are all \"hard coded\" below, and the function returns the parameters in the same `defaultdict`"
   ]
  },
  {
   "cell_type": "code",
   "execution_count": 35,
   "metadata": {},
   "outputs": [],
   "source": [
    "##########################\n",
    "#  _infer_nuclei\n",
    "##########################\n",
    "def _infer_nuclei( in_img: np.ndarray, \n",
    "                            soma_mask: np.ndarray,\n",
    "                            median_sz: int, \n",
    "                            gauss_sig: float,\n",
    "                            thresh_factor: float,\n",
    "                            thresh_min: float,\n",
    "                            thresh_max: float,\n",
    "                            max_hole_w: int,\n",
    "                            small_obj_w: int\n",
    "                        ) -> np.ndarray:\n",
    "    \"\"\"\n",
    "    Procedure to infer nuclei from linearly unmixed input.\n",
    "\n",
    "    Parameters\n",
    "    ------------\n",
    "    in_img: np.ndarray\n",
    "        a 3d image containing all the channels\n",
    "    soma_mask: Optional[np.ndarray] = None\n",
    "        mask\n",
    "    median_sz: int\n",
    "        width of median filter for signal\n",
    "    gauss_sig: float\n",
    "        sigma for gaussian smoothing of  signal\n",
    "    thresh_factor: float\n",
    "        adjustment factor for log Li threholding\n",
    "    thresh_min: float\n",
    "        abs min threhold for log Li threholding\n",
    "    thresh_max: float\n",
    "        abs max threhold for log Li threholding\n",
    "    max_hole_w: int\n",
    "        hole filling cutoff for nuclei post-processing\n",
    "    small_obj_w: int\n",
    "        minimu object size cutoff for nuclei post-processing\n",
    "\n",
    "    Returns\n",
    "    -------------\n",
    "    nuclei_object\n",
    "        mask defined extent of NU\n",
    "    \n",
    "    \"\"\"\n",
    "\n",
    "    ###################\n",
    "    # PRE_PROCESSING\n",
    "    ###################                \n",
    "    nuc_ch = NUC_CH\n",
    "    nuclei = select_channel_from_raw(in_img, nuc_ch)\n",
    "    nuclei = min_max_intensity_normalization( nuclei )\n",
    "\n",
    "    nuclei = median_filter_slice_by_slice( nuclei,\n",
    "                                                                    size=median_sz  )\n",
    "\n",
    "    nuclei = image_smoothing_gaussian_slice_by_slice(  nuclei,\n",
    "                                                                                                sigma=gauss_sig )\n",
    "\n",
    "    ###################\n",
    "    # CORE_PROCESSING\n",
    "    ###################\n",
    "    nuclei_object = apply_log_li_threshold(nuclei, \n",
    "                                                                    thresh_factor=thresh_factor, \n",
    "                                                                    thresh_min=thresh_min, \n",
    "                                                                    thresh_max=thresh_max)\n",
    "\n",
    "\n",
    "    NU_labels = label(nuclei_object)\n",
    "    ###################\n",
    "    # POST_PROCESSING\n",
    "    ###################\n",
    "    nuclei_object = hole_filling(nuclei_object, \n",
    "                                                    hole_min=0, \n",
    "                                                    hole_max=max_hole_w, \n",
    "                                                    fill_2d=True)\n",
    "\n",
    "    if soma_mask is not None:\n",
    "        nuclei_object = apply_mask(nuclei_object, soma_mask)\n",
    "\n",
    "    nuclei_object = size_filter_2D(nuclei_object, \n",
    "                                                                min_size = small_obj_w, \n",
    "                                                                connectivity=1)\n",
    "\n",
    "    return nuclei_object\n"
   ]
  },
  {
   "attachments": {},
   "cell_type": "markdown",
   "metadata": {},
   "source": [
    "## DEFINE `_fixed_infer_nuclei` function\n"
   ]
  },
  {
   "cell_type": "code",
   "execution_count": 36,
   "metadata": {},
   "outputs": [],
   "source": [
    "##########################\n",
    "#  fixed_infer_nuclei\n",
    "##########################\n",
    "def _fixed_infer_nuclei(in_img: np.ndarray, soma_mask: Optional[np.ndarray] = None) -> np.ndarray:\n",
    "    \"\"\"\n",
    "    Procedure to infer soma from linearly unmixed input, with a *fixed* set of parameters for each step in the procedure.  i.e. \"hard coded\"\n",
    "\n",
    "    Parameters\n",
    "    ------------\n",
    "    in_img: np.ndarray\n",
    "        a 3d image containing all the channels\n",
    "    soma_mask: np.ndarray\n",
    "        mask\n",
    " \n",
    "    Returns\n",
    "    -------------\n",
    "    nuclei_object\n",
    "        mask defined extent of NU\n",
    "    \n",
    "    \"\"\"\n",
    "    nuc_ch = NUC_CH\n",
    "    median_sz = 4   \n",
    "    gauss_sig = 1.34\n",
    "    threshold_factor = 0.9\n",
    "    thresh_min = 0.1\n",
    "    thresh_max = 1.0\n",
    "    max_hole_w = 5\n",
    "    small_obj_w = 15\n",
    "\n",
    "    return _infer_nuclei( in_img,\n",
    "                                    soma_mask,\n",
    "                                    median_sz,\n",
    "                                    gauss_sig,\n",
    "                                    threshold_factor,\n",
    "                                    thresh_min,\n",
    "                                    thresh_max,\n",
    "                                    max_hole_w,\n",
    "                                    small_obj_w  )\n"
   ]
  },
  {
   "attachments": {},
   "cell_type": "markdown",
   "metadata": {},
   "source": [
    "---------------------\n",
    "## TEST `_infer_nuclei`  function defined above\n"
   ]
  },
  {
   "cell_type": "code",
   "execution_count": 37,
   "metadata": {},
   "outputs": [],
   "source": [
    "\n",
    "_NU_object =  _fixed_infer_nuclei(img_2D, soma_mask) \n"
   ]
  },
  {
   "cell_type": "code",
   "execution_count": 38,
   "metadata": {},
   "outputs": [
    {
     "data": {
      "text/plain": [
       "<Labels layer 'Labels' at 0x16dc81100>"
      ]
     },
     "execution_count": 38,
     "metadata": {},
     "output_type": "execute_result"
    }
   ],
   "source": [
    "viewer.add_image(\n",
    "    _NU_object,\n",
    "    scale=scale,\n",
    "    opacity=0.3,\n",
    ")    \n",
    "\n",
    "\n",
    "viewer.add_labels(\n",
    "    label(_NU_object),\n",
    "    scale=scale,\n",
    "    opacity=0.3,\n",
    ")\n"
   ]
  },
  {
   "cell_type": "markdown",
   "metadata": {},
   "source": [
    "---------------------\n",
    "# TEST `infer_nuclei` exported functions\n",
    "\n",
    "> the prototype `_infer_nuclei` was copied to the [`.organelles.nuclei`](../infer_subc_2d/organelles/nuclei.py) sub-module \n",
    "##\n",
    "`infer_nuclei` procedure\n",
    "\n",
    "Use the `infer_nuclei` function to infer the Nucleus and export it as an _ome.tif_ for easy reference."
   ]
  },
  {
   "cell_type": "code",
   "execution_count": 39,
   "metadata": {},
   "outputs": [],
   "source": [
    "# from infer_subc_2d.organelles.nuclei import infer_nuclei, fixed_infer_nuclei\n",
    "\n",
    "nuclei_object =  _fixed_infer_nuclei(img_2D, soma_mask) \n"
   ]
  },
  {
   "attachments": {},
   "cell_type": "markdown",
   "metadata": {},
   "source": [
    "## Visualize  2\n"
   ]
  },
  {
   "cell_type": "code",
   "execution_count": 40,
   "metadata": {},
   "outputs": [
    {
     "data": {
      "text/plain": [
       "<Image layer 'nuclei_object [1]' at 0x16f656b20>"
      ]
     },
     "execution_count": 40,
     "metadata": {},
     "output_type": "execute_result"
    }
   ],
   "source": [
    "viewer.add_image(\n",
    "    nuclei_object,\n",
    "    scale=scale,\n",
    "    opacity=0.3,\n",
    ")    \n"
   ]
  },
  {
   "cell_type": "code",
   "execution_count": 41,
   "metadata": {},
   "outputs": [],
   "source": [
    "from napari.utils.notebook_display import nbscreenshot\n",
    "\n",
    "# viewer.dims.ndisplay = 3\n",
    "# viewer.camera.angles = (-30, 25, 120)\n",
    "nbscreenshot(viewer, canvas_only=True)\n",
    "viewer.close()"
   ]
  },
  {
   "cell_type": "code",
   "execution_count": 42,
   "metadata": {},
   "outputs": [
    {
     "ename": "AttributeError",
     "evalue": "'Window' object has no attribute '_qt_window'",
     "output_type": "error",
     "traceback": [
      "\u001b[0;31m---------------------------------------------------------------------------\u001b[0m",
      "\u001b[0;31mAttributeError\u001b[0m                            Traceback (most recent call last)",
      "File \u001b[0;32m/opt/anaconda3/envs/napariNEW/lib/python3.9/site-packages/IPython/core/formatters.py:343\u001b[0m, in \u001b[0;36mBaseFormatter.__call__\u001b[0;34m(self, obj)\u001b[0m\n\u001b[1;32m    341\u001b[0m     method \u001b[39m=\u001b[39m get_real_method(obj, \u001b[39mself\u001b[39m\u001b[39m.\u001b[39mprint_method)\n\u001b[1;32m    342\u001b[0m     \u001b[39mif\u001b[39;00m method \u001b[39mis\u001b[39;00m \u001b[39mnot\u001b[39;00m \u001b[39mNone\u001b[39;00m:\n\u001b[0;32m--> 343\u001b[0m         \u001b[39mreturn\u001b[39;00m method()\n\u001b[1;32m    344\u001b[0m     \u001b[39mreturn\u001b[39;00m \u001b[39mNone\u001b[39;00m\n\u001b[1;32m    345\u001b[0m \u001b[39melse\u001b[39;00m:\n",
      "File \u001b[0;32m/opt/anaconda3/envs/napariNEW/lib/python3.9/site-packages/napari/utils/notebook_display.py:76\u001b[0m, in \u001b[0;36mNotebookScreenshot._repr_html_\u001b[0;34m(self)\u001b[0m\n\u001b[1;32m     75\u001b[0m \u001b[39mdef\u001b[39;00m \u001b[39m_repr_html_\u001b[39m(\u001b[39mself\u001b[39m):\n\u001b[0;32m---> 76\u001b[0m     png \u001b[39m=\u001b[39m \u001b[39mself\u001b[39;49m\u001b[39m.\u001b[39;49m_repr_png_()\n\u001b[1;32m     77\u001b[0m     url \u001b[39m=\u001b[39m \u001b[39m'\u001b[39m\u001b[39mdata:image/png;base64,\u001b[39m\u001b[39m'\u001b[39m \u001b[39m+\u001b[39m base64\u001b[39m.\u001b[39mb64encode(png)\u001b[39m.\u001b[39mdecode(\u001b[39m'\u001b[39m\u001b[39mutf-8\u001b[39m\u001b[39m'\u001b[39m)\n\u001b[1;32m     78\u001b[0m     html \u001b[39m=\u001b[39m \u001b[39mf\u001b[39m\u001b[39m'\u001b[39m\u001b[39m<img src=\u001b[39m\u001b[39m\"\u001b[39m\u001b[39m{\u001b[39;00murl\u001b[39m}\u001b[39;00m\u001b[39m\"\u001b[39m\u001b[39m></img>\u001b[39m\u001b[39m'\u001b[39m\n",
      "File \u001b[0;32m/opt/anaconda3/envs/napariNEW/lib/python3.9/site-packages/napari/utils/notebook_display.py:66\u001b[0m, in \u001b[0;36mNotebookScreenshot._repr_png_\u001b[0;34m(self)\u001b[0m\n\u001b[1;32m     63\u001b[0m \u001b[39mfrom\u001b[39;00m \u001b[39m.\u001b[39;00m\u001b[39m.\u001b[39;00m\u001b[39m_qt\u001b[39;00m\u001b[39m.\u001b[39;00m\u001b[39mqt_event_loop\u001b[39;00m \u001b[39mimport\u001b[39;00m get_app\n\u001b[1;32m     65\u001b[0m get_app()\u001b[39m.\u001b[39mprocessEvents()\n\u001b[0;32m---> 66\u001b[0m \u001b[39mself\u001b[39m\u001b[39m.\u001b[39mimage \u001b[39m=\u001b[39m \u001b[39mself\u001b[39;49m\u001b[39m.\u001b[39;49mviewer\u001b[39m.\u001b[39;49mscreenshot(\n\u001b[1;32m     67\u001b[0m     canvas_only\u001b[39m=\u001b[39;49m\u001b[39mself\u001b[39;49m\u001b[39m.\u001b[39;49mcanvas_only, flash\u001b[39m=\u001b[39;49m\u001b[39mFalse\u001b[39;49;00m\n\u001b[1;32m     68\u001b[0m )\n\u001b[1;32m     69\u001b[0m \u001b[39mwith\u001b[39;00m BytesIO() \u001b[39mas\u001b[39;00m file_obj:\n\u001b[1;32m     70\u001b[0m     imsave(file_obj, \u001b[39mself\u001b[39m\u001b[39m.\u001b[39mimage, \u001b[39mformat\u001b[39m\u001b[39m=\u001b[39m\u001b[39m'\u001b[39m\u001b[39mpng\u001b[39m\u001b[39m'\u001b[39m)\n",
      "File \u001b[0;32m/opt/anaconda3/envs/napariNEW/lib/python3.9/site-packages/napari/viewer.py:105\u001b[0m, in \u001b[0;36mViewer.screenshot\u001b[0;34m(self, path, canvas_only, flash)\u001b[0m\n\u001b[1;32m     83\u001b[0m \u001b[39mdef\u001b[39;00m \u001b[39mscreenshot\u001b[39m(\u001b[39mself\u001b[39m, path\u001b[39m=\u001b[39m\u001b[39mNone\u001b[39;00m, \u001b[39m*\u001b[39m, canvas_only\u001b[39m=\u001b[39m\u001b[39mTrue\u001b[39;00m, flash: \u001b[39mbool\u001b[39m \u001b[39m=\u001b[39m \u001b[39mTrue\u001b[39;00m):\n\u001b[1;32m     84\u001b[0m \u001b[39m    \u001b[39m\u001b[39m\"\"\"Take currently displayed screen and convert to an image array.\u001b[39;00m\n\u001b[1;32m     85\u001b[0m \n\u001b[1;32m     86\u001b[0m \u001b[39m    Parameters\u001b[39;00m\n\u001b[0;32m   (...)\u001b[0m\n\u001b[1;32m    103\u001b[0m \u001b[39m        upper-left corner of the rendered region.\u001b[39;00m\n\u001b[1;32m    104\u001b[0m \u001b[39m    \"\"\"\u001b[39;00m\n\u001b[0;32m--> 105\u001b[0m     \u001b[39mreturn\u001b[39;00m \u001b[39mself\u001b[39;49m\u001b[39m.\u001b[39;49mwindow\u001b[39m.\u001b[39;49mscreenshot(\n\u001b[1;32m    106\u001b[0m         path\u001b[39m=\u001b[39;49mpath, flash\u001b[39m=\u001b[39;49mflash, canvas_only\u001b[39m=\u001b[39;49mcanvas_only\n\u001b[1;32m    107\u001b[0m     )\n",
      "File \u001b[0;32m/opt/anaconda3/envs/napariNEW/lib/python3.9/site-packages/napari/_qt/qt_main_window.py:1182\u001b[0m, in \u001b[0;36mWindow.screenshot\u001b[0;34m(self, path, flash, canvas_only)\u001b[0m\n\u001b[1;32m   1161\u001b[0m \u001b[39mdef\u001b[39;00m \u001b[39mscreenshot\u001b[39m(\u001b[39mself\u001b[39m, path\u001b[39m=\u001b[39m\u001b[39mNone\u001b[39;00m, flash\u001b[39m=\u001b[39m\u001b[39mTrue\u001b[39;00m, canvas_only\u001b[39m=\u001b[39m\u001b[39mFalse\u001b[39;00m):\n\u001b[1;32m   1162\u001b[0m \u001b[39m    \u001b[39m\u001b[39m\"\"\"Take currently displayed viewer and convert to an image array.\u001b[39;00m\n\u001b[1;32m   1163\u001b[0m \n\u001b[1;32m   1164\u001b[0m \u001b[39m    Parameters\u001b[39;00m\n\u001b[0;32m   (...)\u001b[0m\n\u001b[1;32m   1180\u001b[0m \u001b[39m        upper-left corner of the rendered region.\u001b[39;00m\n\u001b[1;32m   1181\u001b[0m \u001b[39m    \"\"\"\u001b[39;00m\n\u001b[0;32m-> 1182\u001b[0m     img \u001b[39m=\u001b[39m QImg2array(\u001b[39mself\u001b[39;49m\u001b[39m.\u001b[39;49m_screenshot(flash, canvas_only))\n\u001b[1;32m   1183\u001b[0m     \u001b[39mif\u001b[39;00m path \u001b[39mis\u001b[39;00m \u001b[39mnot\u001b[39;00m \u001b[39mNone\u001b[39;00m:\n\u001b[1;32m   1184\u001b[0m         imsave(path, img)  \u001b[39m# scikit-image imsave method\u001b[39;00m\n",
      "File \u001b[0;32m/opt/anaconda3/envs/napariNEW/lib/python3.9/site-packages/napari/_qt/qt_main_window.py:1152\u001b[0m, in \u001b[0;36mWindow._screenshot\u001b[0;34m(self, flash, canvas_only)\u001b[0m\n\u001b[1;32m   1149\u001b[0m \u001b[39mfrom\u001b[39;00m \u001b[39m.\u001b[39;00m\u001b[39mutils\u001b[39;00m \u001b[39mimport\u001b[39;00m add_flash_animation\n\u001b[1;32m   1151\u001b[0m \u001b[39mif\u001b[39;00m canvas_only:\n\u001b[0;32m-> 1152\u001b[0m     img \u001b[39m=\u001b[39m \u001b[39mself\u001b[39;49m\u001b[39m.\u001b[39;49m_qt_viewer\u001b[39m.\u001b[39mcanvas\u001b[39m.\u001b[39mnative\u001b[39m.\u001b[39mgrabFramebuffer()\n\u001b[1;32m   1153\u001b[0m     \u001b[39mif\u001b[39;00m flash:\n\u001b[1;32m   1154\u001b[0m         add_flash_animation(\u001b[39mself\u001b[39m\u001b[39m.\u001b[39m_qt_viewer\u001b[39m.\u001b[39m_canvas_overlay)\n",
      "File \u001b[0;32m/opt/anaconda3/envs/napariNEW/lib/python3.9/site-packages/napari/_qt/qt_main_window.py:566\u001b[0m, in \u001b[0;36mWindow._qt_viewer\u001b[0;34m(self)\u001b[0m\n\u001b[1;32m    563\u001b[0m \u001b[39m@property\u001b[39m\n\u001b[1;32m    564\u001b[0m \u001b[39mdef\u001b[39;00m \u001b[39m_qt_viewer\u001b[39m(\u001b[39mself\u001b[39m):\n\u001b[1;32m    565\u001b[0m     \u001b[39m# this is starting to be \"vestigial\"... this property could be removed\u001b[39;00m\n\u001b[0;32m--> 566\u001b[0m     \u001b[39mreturn\u001b[39;00m \u001b[39mself\u001b[39;49m\u001b[39m.\u001b[39;49m_qt_window\u001b[39m.\u001b[39m_qt_viewer\n",
      "\u001b[0;31mAttributeError\u001b[0m: 'Window' object has no attribute '_qt_window'"
     ]
    },
    {
     "ename": "AttributeError",
     "evalue": "'Window' object has no attribute '_qt_window'",
     "output_type": "error",
     "traceback": [
      "\u001b[0;31m---------------------------------------------------------------------------\u001b[0m",
      "\u001b[0;31mAttributeError\u001b[0m                            Traceback (most recent call last)",
      "File \u001b[0;32m/opt/anaconda3/envs/napariNEW/lib/python3.9/site-packages/IPython/core/formatters.py:343\u001b[0m, in \u001b[0;36mBaseFormatter.__call__\u001b[0;34m(self, obj)\u001b[0m\n\u001b[1;32m    341\u001b[0m     method \u001b[39m=\u001b[39m get_real_method(obj, \u001b[39mself\u001b[39m\u001b[39m.\u001b[39mprint_method)\n\u001b[1;32m    342\u001b[0m     \u001b[39mif\u001b[39;00m method \u001b[39mis\u001b[39;00m \u001b[39mnot\u001b[39;00m \u001b[39mNone\u001b[39;00m:\n\u001b[0;32m--> 343\u001b[0m         \u001b[39mreturn\u001b[39;00m method()\n\u001b[1;32m    344\u001b[0m     \u001b[39mreturn\u001b[39;00m \u001b[39mNone\u001b[39;00m\n\u001b[1;32m    345\u001b[0m \u001b[39melse\u001b[39;00m:\n",
      "File \u001b[0;32m/opt/anaconda3/envs/napariNEW/lib/python3.9/site-packages/napari/utils/notebook_display.py:66\u001b[0m, in \u001b[0;36mNotebookScreenshot._repr_png_\u001b[0;34m(self)\u001b[0m\n\u001b[1;32m     63\u001b[0m \u001b[39mfrom\u001b[39;00m \u001b[39m.\u001b[39;00m\u001b[39m.\u001b[39;00m\u001b[39m_qt\u001b[39;00m\u001b[39m.\u001b[39;00m\u001b[39mqt_event_loop\u001b[39;00m \u001b[39mimport\u001b[39;00m get_app\n\u001b[1;32m     65\u001b[0m get_app()\u001b[39m.\u001b[39mprocessEvents()\n\u001b[0;32m---> 66\u001b[0m \u001b[39mself\u001b[39m\u001b[39m.\u001b[39mimage \u001b[39m=\u001b[39m \u001b[39mself\u001b[39;49m\u001b[39m.\u001b[39;49mviewer\u001b[39m.\u001b[39;49mscreenshot(\n\u001b[1;32m     67\u001b[0m     canvas_only\u001b[39m=\u001b[39;49m\u001b[39mself\u001b[39;49m\u001b[39m.\u001b[39;49mcanvas_only, flash\u001b[39m=\u001b[39;49m\u001b[39mFalse\u001b[39;49;00m\n\u001b[1;32m     68\u001b[0m )\n\u001b[1;32m     69\u001b[0m \u001b[39mwith\u001b[39;00m BytesIO() \u001b[39mas\u001b[39;00m file_obj:\n\u001b[1;32m     70\u001b[0m     imsave(file_obj, \u001b[39mself\u001b[39m\u001b[39m.\u001b[39mimage, \u001b[39mformat\u001b[39m\u001b[39m=\u001b[39m\u001b[39m'\u001b[39m\u001b[39mpng\u001b[39m\u001b[39m'\u001b[39m)\n",
      "File \u001b[0;32m/opt/anaconda3/envs/napariNEW/lib/python3.9/site-packages/napari/viewer.py:105\u001b[0m, in \u001b[0;36mViewer.screenshot\u001b[0;34m(self, path, canvas_only, flash)\u001b[0m\n\u001b[1;32m     83\u001b[0m \u001b[39mdef\u001b[39;00m \u001b[39mscreenshot\u001b[39m(\u001b[39mself\u001b[39m, path\u001b[39m=\u001b[39m\u001b[39mNone\u001b[39;00m, \u001b[39m*\u001b[39m, canvas_only\u001b[39m=\u001b[39m\u001b[39mTrue\u001b[39;00m, flash: \u001b[39mbool\u001b[39m \u001b[39m=\u001b[39m \u001b[39mTrue\u001b[39;00m):\n\u001b[1;32m     84\u001b[0m \u001b[39m    \u001b[39m\u001b[39m\"\"\"Take currently displayed screen and convert to an image array.\u001b[39;00m\n\u001b[1;32m     85\u001b[0m \n\u001b[1;32m     86\u001b[0m \u001b[39m    Parameters\u001b[39;00m\n\u001b[0;32m   (...)\u001b[0m\n\u001b[1;32m    103\u001b[0m \u001b[39m        upper-left corner of the rendered region.\u001b[39;00m\n\u001b[1;32m    104\u001b[0m \u001b[39m    \"\"\"\u001b[39;00m\n\u001b[0;32m--> 105\u001b[0m     \u001b[39mreturn\u001b[39;00m \u001b[39mself\u001b[39;49m\u001b[39m.\u001b[39;49mwindow\u001b[39m.\u001b[39;49mscreenshot(\n\u001b[1;32m    106\u001b[0m         path\u001b[39m=\u001b[39;49mpath, flash\u001b[39m=\u001b[39;49mflash, canvas_only\u001b[39m=\u001b[39;49mcanvas_only\n\u001b[1;32m    107\u001b[0m     )\n",
      "File \u001b[0;32m/opt/anaconda3/envs/napariNEW/lib/python3.9/site-packages/napari/_qt/qt_main_window.py:1182\u001b[0m, in \u001b[0;36mWindow.screenshot\u001b[0;34m(self, path, flash, canvas_only)\u001b[0m\n\u001b[1;32m   1161\u001b[0m \u001b[39mdef\u001b[39;00m \u001b[39mscreenshot\u001b[39m(\u001b[39mself\u001b[39m, path\u001b[39m=\u001b[39m\u001b[39mNone\u001b[39;00m, flash\u001b[39m=\u001b[39m\u001b[39mTrue\u001b[39;00m, canvas_only\u001b[39m=\u001b[39m\u001b[39mFalse\u001b[39;00m):\n\u001b[1;32m   1162\u001b[0m \u001b[39m    \u001b[39m\u001b[39m\"\"\"Take currently displayed viewer and convert to an image array.\u001b[39;00m\n\u001b[1;32m   1163\u001b[0m \n\u001b[1;32m   1164\u001b[0m \u001b[39m    Parameters\u001b[39;00m\n\u001b[0;32m   (...)\u001b[0m\n\u001b[1;32m   1180\u001b[0m \u001b[39m        upper-left corner of the rendered region.\u001b[39;00m\n\u001b[1;32m   1181\u001b[0m \u001b[39m    \"\"\"\u001b[39;00m\n\u001b[0;32m-> 1182\u001b[0m     img \u001b[39m=\u001b[39m QImg2array(\u001b[39mself\u001b[39;49m\u001b[39m.\u001b[39;49m_screenshot(flash, canvas_only))\n\u001b[1;32m   1183\u001b[0m     \u001b[39mif\u001b[39;00m path \u001b[39mis\u001b[39;00m \u001b[39mnot\u001b[39;00m \u001b[39mNone\u001b[39;00m:\n\u001b[1;32m   1184\u001b[0m         imsave(path, img)  \u001b[39m# scikit-image imsave method\u001b[39;00m\n",
      "File \u001b[0;32m/opt/anaconda3/envs/napariNEW/lib/python3.9/site-packages/napari/_qt/qt_main_window.py:1152\u001b[0m, in \u001b[0;36mWindow._screenshot\u001b[0;34m(self, flash, canvas_only)\u001b[0m\n\u001b[1;32m   1149\u001b[0m \u001b[39mfrom\u001b[39;00m \u001b[39m.\u001b[39;00m\u001b[39mutils\u001b[39;00m \u001b[39mimport\u001b[39;00m add_flash_animation\n\u001b[1;32m   1151\u001b[0m \u001b[39mif\u001b[39;00m canvas_only:\n\u001b[0;32m-> 1152\u001b[0m     img \u001b[39m=\u001b[39m \u001b[39mself\u001b[39;49m\u001b[39m.\u001b[39;49m_qt_viewer\u001b[39m.\u001b[39mcanvas\u001b[39m.\u001b[39mnative\u001b[39m.\u001b[39mgrabFramebuffer()\n\u001b[1;32m   1153\u001b[0m     \u001b[39mif\u001b[39;00m flash:\n\u001b[1;32m   1154\u001b[0m         add_flash_animation(\u001b[39mself\u001b[39m\u001b[39m.\u001b[39m_qt_viewer\u001b[39m.\u001b[39m_canvas_overlay)\n",
      "File \u001b[0;32m/opt/anaconda3/envs/napariNEW/lib/python3.9/site-packages/napari/_qt/qt_main_window.py:566\u001b[0m, in \u001b[0;36mWindow._qt_viewer\u001b[0;34m(self)\u001b[0m\n\u001b[1;32m    563\u001b[0m \u001b[39m@property\u001b[39m\n\u001b[1;32m    564\u001b[0m \u001b[39mdef\u001b[39;00m \u001b[39m_qt_viewer\u001b[39m(\u001b[39mself\u001b[39m):\n\u001b[1;32m    565\u001b[0m     \u001b[39m# this is starting to be \"vestigial\"... this property could be removed\u001b[39;00m\n\u001b[0;32m--> 566\u001b[0m     \u001b[39mreturn\u001b[39;00m \u001b[39mself\u001b[39;49m\u001b[39m.\u001b[39;49m_qt_window\u001b[39m.\u001b[39m_qt_viewer\n",
      "\u001b[0;31mAttributeError\u001b[0m: 'Window' object has no attribute '_qt_window'"
     ]
    },
    {
     "data": {
      "text/plain": [
       "<napari.utils.notebook_display.NotebookScreenshot at 0x16f5fc640>"
      ]
     },
     "execution_count": 42,
     "metadata": {},
     "output_type": "execute_result"
    }
   ],
   "source": [
    "from napari.utils.notebook_display import nbscreenshot\n",
    "\n",
    "# viewer.dims.ndisplay = 3\n",
    "# viewer.camera.angles = (-30, 25, 120)\n",
    "nbscreenshot(viewer, canvas_only=True)"
   ]
  },
  {
   "attachments": {},
   "cell_type": "markdown",
   "metadata": {},
   "source": [
    "-----------------\n",
    "Write the `infer_nuclei` spec to the widget json "
   ]
  },
  {
   "cell_type": "code",
   "execution_count": null,
   "metadata": {},
   "outputs": [
    {
     "name": "stdout",
     "output_type": "stream",
     "text": [
      "function fixed_infer_nuclei is already in all_functions.json\n"
     ]
    },
    {
     "data": {
      "text/plain": [
       "0"
      ]
     },
     "execution_count": 50,
     "metadata": {},
     "output_type": "execute_result"
    }
   ],
   "source": [
    "from infer_subc_2d.organelles_config.helper import add_function_spec_to_widget_json\n",
    "\n",
    "_fixed_infer_nuclei =  {\n",
    "        \"name\": \"infer nuclei  (fixed parameters)\",\n",
    "        \"python::module\": \"infer_subc_2d.organelles\",\n",
    "        \"python::function\": \"fixed_infer_nuclei\",\n",
    "        \"parameters\": None\n",
    "        }\n",
    "\n",
    "add_function_spec_to_widget_json(\"fixed_infer_nuclei\",_fixed_infer_nuclei)"
   ]
  },
  {
   "cell_type": "code",
   "execution_count": null,
   "metadata": {},
   "outputs": [
    {
     "name": "stdout",
     "output_type": "stream",
     "text": [
      "function infer_nuclei is already in all_functions.json\n",
      "overwriting  infer_nuclei\n"
     ]
    },
    {
     "data": {
      "text/plain": [
       "1"
      ]
     },
     "execution_count": 51,
     "metadata": {},
     "output_type": "execute_result"
    }
   ],
   "source": [
    "\n",
    "_infer_nuclei =  {\n",
    "        \"name\": \"infer nuclei\",\n",
    "        \"python::module\": \"infer_subc_2d.organelles\",\n",
    "        \"python::function\": \"infer_nuclei\",\n",
    "        \"parameters\": {\n",
    "                \"median_sz\": {\n",
    "                        \"widget_type\": \"slider\",\n",
    "                        \"data_type\": \"int\",\n",
    "                        \"min\": 3,\n",
    "                        \"max\": 15,\n",
    "                        \"increment\": 1\n",
    "                },\n",
    "                \"gauss_sig\": {\n",
    "                        \"data_type\": \"float\",\n",
    "                        \"increment\": 0.25,\n",
    "                        \"max\": 15.0,\n",
    "                        \"min\": 1.25,\n",
    "                        \"widget_type\": \"slider\"\n",
    "                },\n",
    "                \"thresh_factor\": {\n",
    "                        \"data_type\": \"float\",\n",
    "                        \"increment\": 0.05,\n",
    "                        \"max\": 1.2,\n",
    "                        \"min\": 0.6,\n",
    "                        \"widget_type\": \"slider\"\n",
    "                },\n",
    "                \"thresh_min\": {\n",
    "                        \"data_type\": \"float\",\n",
    "                        \"increment\": 0.05,\n",
    "                        \"max\": .9,\n",
    "                        \"min\": 0.0,\n",
    "                        \"widget_type\": \"slider\"\n",
    "                },\n",
    "                \"thresh_max\": {\n",
    "                        \"data_type\": \"float\",\n",
    "                        \"increment\": 0.05,\n",
    "                        \"max\": 1.0,\n",
    "                        \"min\": 0.1,\n",
    "                        \"widget_type\": \"slider\"\n",
    "                },\n",
    "                \"max_hole_w\": {\n",
    "                        \"data_type\": \"int\",\n",
    "                        \"increment\": 1,\n",
    "                        \"max\": 40,\n",
    "                        \"min\": 4,\n",
    "                        \"widget_type\": \"slider\"\n",
    "                },           \n",
    "                \"small_obj_w\": {\n",
    "                        \"data_type\": \"int\",\n",
    "                        \"increment\": 1,\n",
    "                        \"max\": 50,\n",
    "                        \"min\": 1,\n",
    "                        \"widget_type\": \"slider\"\n",
    "                }\n",
    "        }\n",
    "}\n",
    "\n",
    "add_function_spec_to_widget_json(\"infer_nuclei\", _infer_nuclei, overwrite=True )\n",
    "\n"
   ]
  },
  {
   "cell_type": "code",
   "execution_count": null,
   "metadata": {},
   "outputs": [
    {
     "name": "stdout",
     "output_type": "stream",
     "text": [
      "function median_filter_slice_by_slice is already in all_functions.json\n"
     ]
    },
    {
     "data": {
      "text/plain": [
       "0"
      ]
     },
     "execution_count": 52,
     "metadata": {},
     "output_type": "execute_result"
    }
   ],
   "source": [
    "_median_filter_slice_by_slice =  {\n",
    "                \"name\": \"Median Smoothing Slice by Slice\",\n",
    "                \"python::module\": \"infer_subc_2d.utils.img\",\n",
    "                \"python::function\": \"median_filter_slice_by_slice\",\n",
    "                \"parameters\": {\n",
    "                    \"size\": {\n",
    "                        \"widget_type\": \"slider\",\n",
    "                        \"data_type\": \"int\",\n",
    "                        \"min\": 1,\n",
    "                        \"max\": 20,\n",
    "                        \"increment\": 1\n",
    "                    }\n",
    "                }\n",
    "            } \n",
    "add_function_spec_to_widget_json(\"median_filter_slice_by_slice\",_median_filter_slice_by_slice)"
   ]
  },
  {
   "cell_type": "code",
   "execution_count": null,
   "metadata": {},
   "outputs": [
    {
     "name": "stdout",
     "output_type": "stream",
     "text": [
      "function image_smoothing_gaussian_slice_by_slice is already in all_functions.json\n"
     ]
    },
    {
     "data": {
      "text/plain": [
       "0"
      ]
     },
     "execution_count": 53,
     "metadata": {},
     "output_type": "execute_result"
    }
   ],
   "source": [
    "\n",
    "\n",
    "_image_smoothing_gaussian_slice_by_slice = {\n",
    "        \"name\": \"Gaussian Smoothing Slice by Slice\",\n",
    "        \"python::module\": \"aicssegmentation.core.pre_processing_utils\",\n",
    "        \"python::function\": \"image_smoothing_gaussian_slice_by_slice\",\n",
    "        \"parameters\": {\n",
    "            \"sigma\": {\n",
    "                \"widget_type\": \"slider\",\n",
    "                \"data_type\": \"float\",\n",
    "                \"min\": 0.8,\n",
    "                \"max\": 20,\n",
    "                \"increment\": 0.2\n",
    "            }\n",
    "        }\n",
    "        }\n",
    "\n",
    "# json.dumps({\"image_smoothing_gaussian_slice_by_slice\": _image_smoothing_gaussian_slice_by_slice} )\n",
    "add_function_spec_to_widget_json(\"image_smoothing_gaussian_slice_by_slice\",_image_smoothing_gaussian_slice_by_slice)        \n"
   ]
  },
  {
   "cell_type": "code",
   "execution_count": null,
   "metadata": {},
   "outputs": [
    {
     "name": "stdout",
     "output_type": "stream",
     "text": [
      "function apply_log_li_threshold is already in all_functions.json\n",
      "overwriting  apply_log_li_threshold\n"
     ]
    },
    {
     "data": {
      "text/plain": [
       "1"
      ]
     },
     "execution_count": 54,
     "metadata": {},
     "output_type": "execute_result"
    }
   ],
   "source": [
    "\n",
    "# WARNING: not a good way to set to None\n",
    "_apply_log_li_threshold = {\n",
    "        \"name\": \"threshold log Li\",\n",
    "        \"python::module\": \"infer_subc_2d.utils.img\",\n",
    "        \"python::function\": \"apply_log_li_threshold\",\n",
    "        \"parameters\": {\n",
    "            \"thresh_factor\": {\n",
    "                \"widget_type\": \"slider\",\n",
    "                \"data_type\": \"float\",\n",
    "                \"min\": 0.3,\n",
    "                \"max\": 1.1,\n",
    "                \"increment\": 0.05\n",
    "            },\n",
    "            \"thresh_min\": {\n",
    "                \"widget_type\": \"slider\",\n",
    "                \"data_type\": \"float\",\n",
    "                \"min\": 0.0,\n",
    "                \"max\": 0.8,\n",
    "                \"increment\": 0.01\n",
    "            },\n",
    "            \"thresh_max\": {\n",
    "                \"widget_type\": \"slider\",\n",
    "                \"data_type\": \"float\",\n",
    "                \"min\": 0.3,\n",
    "                \"max\": 1.0,\n",
    "                \"increment\": 0.05\n",
    "            },\n",
    "        }\n",
    "        }\n",
    "\n",
    "# json.dumps({\"apply_log_li_threshold\": _apply_log_li_threshold} )\n",
    "add_function_spec_to_widget_json(\"apply_log_li_threshold\",_apply_log_li_threshold,overwrite=True)        \n"
   ]
  },
  {
   "cell_type": "code",
   "execution_count": null,
   "metadata": {},
   "outputs": [
    {
     "name": "stdout",
     "output_type": "stream",
     "text": [
      "function label is already in all_functions.json\n"
     ]
    },
    {
     "data": {
      "text/plain": [
       "0"
      ]
     },
     "execution_count": 55,
     "metadata": {},
     "output_type": "execute_result"
    }
   ],
   "source": [
    "\n",
    "\n",
    "    # NU_labels = label(nuclei_object)\n",
    "\n",
    "_label =  {\n",
    "        \"name\": \"label objects\",\n",
    "        \"python::module\": \"skimage.measure\",\n",
    "        \"python::function\": \"label\",\n",
    "        \"parameters\": None\n",
    "        }\n",
    "# json.dumps({\"label\":_label})\n",
    "add_function_spec_to_widget_json(\"label\",_label)        \n"
   ]
  },
  {
   "cell_type": "code",
   "execution_count": null,
   "metadata": {},
   "outputs": [
    {
     "name": "stdout",
     "output_type": "stream",
     "text": [
      "function apply_mask is already in all_functions.json\n"
     ]
    },
    {
     "data": {
      "text/plain": [
       "0"
      ]
     },
     "execution_count": 56,
     "metadata": {},
     "output_type": "execute_result"
    }
   ],
   "source": [
    "\n",
    "#  nulei_object = apply_mask(nuclei_object, soma_mask)\n",
    "\n",
    "_apply_mask=  {\n",
    "        \"name\": \"apply mask\",\n",
    "        \"python::module\": \"infer_subc_2d.utils.img\",\n",
    "        \"python::function\": \"apply_mask\",\n",
    "        \"parameters\": None\n",
    "        }\n",
    "# json.dumps({\"apply_mask\":_apply_mask})\n",
    "add_function_spec_to_widget_json(\"apply_mask\",_apply_mask)        \n"
   ]
  },
  {
   "cell_type": "code",
   "execution_count": null,
   "metadata": {},
   "outputs": [
    {
     "name": "stdout",
     "output_type": "stream",
     "text": [
      "function size_filter_2D is already in all_functions.json\n"
     ]
    },
    {
     "data": {
      "text/plain": [
       "0"
      ]
     },
     "execution_count": 57,
     "metadata": {},
     "output_type": "execute_result"
    }
   ],
   "source": [
    "\n",
    "    # small_object_width = 45\n",
    "    # nuclei_object = size_filter_2D(nuclei_object, \n",
    "    #                                                             min_size= small_object_width**2, \n",
    "    #                                                             connectivity=1)\n",
    "\n",
    "\n",
    "_size_filter_2D = {\n",
    "        \"name\": \"Size Filter 2D\",\n",
    "        \"python::module\": \"infer_subc_2d.utils.img\",\n",
    "        \"python::function\": \"size_filter_2D\",\n",
    "        \"parameters\": {\n",
    "            \"min_size\": {\n",
    "                \"widget_type\": \"slider\",\n",
    "                \"data_type\": \"int\",\n",
    "                \"min\": 0,\n",
    "                \"max\": 500,\n",
    "                \"increment\": 1\n",
    "            }\n",
    "        }\n",
    "    }\n",
    "# json.dumps({  \"size_filter_2D\":  _size_filter_2D   })\n",
    "\n",
    "add_function_spec_to_widget_json(\"size_filter_2D\",_size_filter_2D)        \n"
   ]
  },
  {
   "attachments": {},
   "cell_type": "markdown",
   "metadata": {},
   "source": [
    "-------------------------------\n",
    "## Write workflow .json\n",
    "Now that we've added our function specs we can compose workflows."
   ]
  },
  {
   "cell_type": "code",
   "execution_count": null,
   "metadata": {},
   "outputs": [],
   "source": [
    "from infer_subc_2d.constants import NUC_CH\n",
    "def make_infer_nuclei_dict():\n",
    "    \"\"\"\n",
    "    Procedure to infer nuclei from linearly unmixed input.\n",
    "\n",
    "    Parameters\n",
    "    ------------\n",
    "    in_img: np.ndarray\n",
    "        a 3d image containing all the channels\n",
    "\n",
    "    soma_mask: np.ndarray\n",
    "        mask\n",
    "\n",
    "    Returns\n",
    "    -------------\n",
    "    nuclei_object\n",
    "        mask defined extent of NU\n",
    "\n",
    "    \"\"\"\n",
    "    step_name = []\n",
    "    function_name = []\n",
    "    category =[]\n",
    "    parameter_values = []\n",
    "    parent = []\n",
    "   \n",
    "    ###################\n",
    "    # EXTRACT\n",
    "    ###################   \n",
    "    step_name.append(\"1\")\n",
    "    function_name.append(\"select_channel_from_raw\")\n",
    "    category.append(\"extraction\")\n",
    "    parameter_values.append( dict(chan = NUC_CH) )\n",
    "    parent.append(0)\n",
    "\n",
    "    ###################\n",
    "    # PRE_PROCESSING\n",
    "    ###################                         \n",
    "    # nuclei = min_max_intensity_normalization(in_img[NUC_CH].copy() )\n",
    "    step_name.append(\"2\")\n",
    "    function_name.append(\"min_max_intensity_normalization\")\n",
    "    category.append(\"preprocessing\")\n",
    "    parameter_values.append(None)\n",
    "    parent.append(1)\n",
    "\n",
    "    # size = 4   \n",
    "    # nuclei = median_filter_slice_by_slice( \n",
    "    #                                                                 nuclei,\n",
    "    #                                                                 size=size  )\n",
    "    step_name.append(\"3\")\n",
    "    function_name.append(\"median_filter_slice_by_slice\")\n",
    "    category.append(\"preprocessing\")\n",
    "    parameter_values.append(dict(size = 4 ))\n",
    "    parent.append(2)\n",
    "\n",
    "    # sigma = 1.34\n",
    "    # truncate_range = 3.0\n",
    "    # nuclei = image_smoothing_gaussian_slice_by_slice(  nuclei,\n",
    "    #                                                                                             sigma=sigma,\n",
    "    #                                                                                             truncate_range = truncate_range\n",
    "    #                                                                                             )\n",
    "    step_name.append(\"4\")\n",
    "    function_name.append(\"image_smoothing_gaussian_slice_by_slice\")\n",
    "    category.append(\"preprocessing\")\n",
    "    parameter_values.append(dict( sigma = 1.34 ))\n",
    "    parent.append(3)\n",
    "\n",
    "    ###################\n",
    "    # CORE_PROCESSING\n",
    "    ###################\n",
    "    # threshold_factor = 0.9 \n",
    "    # thresh_min = .1\n",
    "    # thresh_max = 1.\n",
    "    # nuclei_object = apply_log_li_threshold(nuclei, threshold_factor=threshold_factor, thresh_min=thresh_min, thresh_max=thresh_max)\n",
    "    step_name.append(\"5\")\n",
    "    function_name.append(\"apply_log_li_threshold\")\n",
    "    category.append(\"core\")\n",
    "    parameter_values.append(dict(thresh_factor = 0.9, \n",
    "                                                            thresh_min = .1,\n",
    "                                                            thresh_max = 1.))\n",
    "    parent.append(4)\n",
    "\n",
    "\n",
    "    # NU_labels = label(nuclei_object)\n",
    "    step_name.append(\"6\")\n",
    "    function_name.append(\"label\")\n",
    "    category.append(\"core\")\n",
    "    parameter_values.append(None)\n",
    "    parent.append(5)\n",
    "\n",
    "\n",
    "    ###################\n",
    "    # POST_PROCESSING\n",
    "    ###################\n",
    "    # hole_width = 5  \n",
    "    # nuclei_object = hole_filling(nuclei_object, hole_min=0, hole_max=hole_width**2, fill_2d=True)\n",
    "    step_name.append(\"6\")\n",
    "    function_name.append(\"hole_filling\")\n",
    "    category.append(\"postprocessing\")\n",
    "    parameter_values.append(dict( hole_min=0, hole_max=5**2, fill_2d=True))\n",
    "    parent.append(5)\n",
    "\n",
    "    # # EEEEEK I don't know how to compose where the mask comes from... \n",
    "    # nuclei_object = apply_mask(nuclei_object, soma_mask)\n",
    "\n",
    "    # small_object_width = 15\n",
    "    # nuclei_object = size_filter_2D(nuclei_object, \n",
    "    #                                                             min_size= small_object_width**2, \n",
    "    #                                                             connectivity=1)\n",
    "    step_name.append(\"7\")\n",
    "    function_name.append(\"size_filter_2D\")\n",
    "    category.append(\"postprocessing\")\n",
    "    parameter_values.append(dict( min_size = 15**2  ))\n",
    "    parent.append(6)\n",
    "\n",
    "    out_dict = dict()\n",
    "    for i,stepn in enumerate(step_name):\n",
    "        entry = dict(category=category[i],\n",
    "                            function=function_name[i],\n",
    "                            parameter_values=parameter_values[i],\n",
    "                            parent=parent[i]\n",
    "        )\n",
    "        if entry['parameter_values'] is None:\n",
    "            _ = entry.pop('parameter_values')\n",
    "        out_dict[stepn] = entry\n",
    "        \n",
    "    return out_dict"
   ]
  },
  {
   "cell_type": "code",
   "execution_count": null,
   "metadata": {},
   "outputs": [],
   "source": [
    "def _write_workflow_json(wf_name, wf_dict):\n",
    "\n",
    "    # read all_functions.json into dict\n",
    "    # if not wf_name.startswith(\"conf\"):\n",
    "    #     wf_name = f\"conf_{wf_name}\"\n",
    "    path = Directories.get_structure_config_dir() / f\"{wf_name}.json\"\n",
    "\n",
    "    # re-write file\n",
    "    with open(path, \"w\") as file:\n",
    "        json.dump(wf_dict, file, indent=4, sort_keys=False)\n",
    "\n",
    "    return path\n",
    "\n",
    "\n"
   ]
  },
  {
   "cell_type": "code",
   "execution_count": null,
   "metadata": {},
   "outputs": [
    {
     "data": {
      "text/plain": [
       "PosixPath('/Users/ahenrie/Projects/Imaging/infer-subc-2D/infer_subc_2d/organelles_config/conf_2.2.nuclei_stepbystep.json')"
      ]
     },
     "execution_count": 60,
     "metadata": {},
     "output_type": "execute_result"
    }
   ],
   "source": [
    "from infer_subc_2d.organelles_config.helper import write_workflow_json\n",
    "\n",
    "infer_nuclei_dict = make_infer_nuclei_dict()\n",
    "\n",
    "write_workflow_json(\"conf_2.2.nuclei_stepbystep\", infer_nuclei_dict)"
   ]
  },
  {
   "cell_type": "code",
   "execution_count": null,
   "metadata": {},
   "outputs": [],
   "source": [
    "from infer_subc_2d.constants import NUC_CH\n",
    "\n",
    "\n",
    "def make_infer_nuclei_from_raw_dict():\n",
    "    \"\"\"\n",
    "    Procedure to infer nuclei from linearly unmixed input.\n",
    "\n",
    "    Parameters\n",
    "    ------------\n",
    "    in_img: np.ndarray\n",
    "        a 3d image containing all the channels\n",
    "\n",
    "    soma_mask: np.ndarray\n",
    "        mask\n",
    "\n",
    "    Returns\n",
    "    -------------\n",
    "    nuclei_object\n",
    "        mask defined extent of NU\n",
    "\n",
    "    \"\"\"\n",
    "    step_name = []\n",
    "    function_name = []\n",
    "    category =[]\n",
    "    parameter_values = []\n",
    "    parent = []\n",
    "   \n",
    "    ###################\n",
    "    # EXTRACT\n",
    "    ###################   \n",
    "\n",
    "    step_name.append(\"1\")\n",
    "    function_name.append(\"fixed_get_optimal_Z_img\")\n",
    "    category.append(\"extraction\")\n",
    "    parameter_values.append(None)\n",
    "    parent.append(0)\n",
    "\n",
    "\n",
    "    step_name.append(\"2\")\n",
    "    function_name.append(\"fixed_infer_soma\")\n",
    "    category.append(\"extraction\")\n",
    "    parameter_values.append( None )\n",
    "    parent.append(1)\n",
    "\n",
    "    step_name.append(\"3\")\n",
    "    function_name.append(\"select_channel_from_raw\")\n",
    "    category.append(\"extraction\")\n",
    "    parameter_values.append( dict(chan = NUC_CH) )\n",
    "    parent.append(1)\n",
    "\n",
    "    ###################\n",
    "    # PRE_PROCESSING\n",
    "    ###################                         \n",
    "    # nuclei = min_max_intensity_normalization(in_img[NUC_CH].copy() )\n",
    "    step_name.append(\"4\")\n",
    "    function_name.append(\"min_max_intensity_normalization\")\n",
    "    category.append(\"preprocessing\")\n",
    "    parameter_values.append(None)\n",
    "    parent.append(3)\n",
    "\n",
    "    # size = 4   \n",
    "    # nuclei = median_filter_slice_by_slice( \n",
    "    #                                                                 nuclei,\n",
    "    #                                                                 size=size  )\n",
    "    step_name.append(\"5\")\n",
    "    function_name.append(\"median_filter_slice_by_slice\")\n",
    "    category.append(\"preprocessing\")\n",
    "    parameter_values.append(dict(size = 4 ))\n",
    "    parent.append(4)\n",
    "\n",
    "    # sigma = 1.34\n",
    "    # truncate_range = 3.0\n",
    "    # nuclei = image_smoothing_gaussian_slice_by_slice(  nuclei,\n",
    "    #                                                                                             sigma=sigma,\n",
    "    #                                                                                             truncate_range = truncate_range\n",
    "    #                                                                                             )\n",
    "    step_name.append(\"6\")\n",
    "    function_name.append(\"image_smoothing_gaussian_slice_by_slice\")\n",
    "    category.append(\"preprocessing\")\n",
    "    parameter_values.append(dict( sigma = 1.34 ))\n",
    "    parent.append(5)\n",
    "\n",
    "    ###################\n",
    "    # CORE_PROCESSING\n",
    "    ###################\n",
    "    # threshold_factor = 0.9 \n",
    "    # thresh_min = .1\n",
    "    # thresh_max = 1.\n",
    "    # nuclei_object = apply_log_li_threshold(nuclei, threshold_factor=threshold_factor, thresh_min=thresh_min, thresh_max=thresh_max)\n",
    "    step_name.append(\"7\")\n",
    "    function_name.append(\"apply_log_li_threshold\")\n",
    "    category.append(\"core\")\n",
    "    parameter_values.append(dict(thresh_factor = 0.9, \n",
    "                                                            thresh_min = .1,\n",
    "                                                            thresh_max = 1.))\n",
    "    parent.append(6)\n",
    "\n",
    "\n",
    "    # NU_labels = label(nuclei_object)\n",
    "    step_name.append(\"8\")\n",
    "    function_name.append(\"label\")\n",
    "    category.append(\"core\")\n",
    "    parameter_values.append(None)\n",
    "    parent.append(7)\n",
    "\n",
    "\n",
    "    ###################\n",
    "    # POST_PROCESSING\n",
    "    ###################\n",
    "    # hole_width = 5  \n",
    "    # nuclei_object = hole_filling(nuclei_object, hole_min=0, hole_max=hole_width**2, fill_2d=True)\n",
    "    step_name.append(\"9\")\n",
    "    function_name.append(\"hole_filling\")\n",
    "    category.append(\"postprocessing\")\n",
    "    parameter_values.append(dict( hole_min=0, hole_max=5**2, fill_2d=True))\n",
    "    parent.append(8)\n",
    "\n",
    "    step_name.append(\"10\")\n",
    "    function_name.append(\"apply_mask\")\n",
    "    category.append(\"postprocessing\")\n",
    "    parameter_values.append(None)\n",
    "    parent.append([9,2])\n",
    "\n",
    "\n",
    "    # small_object_width = 15\n",
    "    # nuclei_object = size_filter_2D(nuclei_object, \n",
    "    #                                                             min_size= small_object_width**2, \n",
    "    #                                                             connectivity=1)\n",
    "    step_name.append(\"11\")\n",
    "    function_name.append(\"size_filter_2D\")\n",
    "    category.append(\"postprocessing\")\n",
    "    parameter_values.append(dict( min_size = 15**2  ))\n",
    "    parent.append(10)\n",
    "\n",
    "    out_dict = dict()\n",
    "    for i,stepn in enumerate(step_name):\n",
    "        entry = dict(category=category[i],\n",
    "                            function=function_name[i],\n",
    "                            parameter_values=parameter_values[i],\n",
    "                            parent=parent[i]\n",
    "        )\n",
    "        if entry['parameter_values'] is None:\n",
    "            _ = entry.pop('parameter_values')\n",
    "        out_dict[stepn] = entry\n",
    "        \n",
    "    return out_dict"
   ]
  },
  {
   "cell_type": "code",
   "execution_count": null,
   "metadata": {},
   "outputs": [
    {
     "data": {
      "text/plain": [
       "PosixPath('/Users/ahenrie/Projects/Imaging/infer-subc-2D/infer_subc_2d/organelles_config/conf_1.2.nuclei_stepbystep_from_raw.json')"
      ]
     },
     "execution_count": 62,
     "metadata": {},
     "output_type": "execute_result"
    }
   ],
   "source": [
    "from infer_subc_2d.organelles_config.helper import write_workflow_json\n",
    "\n",
    "infer_nuclei_dict = make_infer_nuclei_from_raw_dict()\n",
    "\n",
    "write_workflow_json(\"conf_1.2.nuclei_stepbystep_from_raw\", infer_nuclei_dict)"
   ]
  },
  {
   "cell_type": "code",
   "execution_count": null,
   "metadata": {},
   "outputs": [
    {
     "name": "stdout",
     "output_type": "stream",
     "text": [
      "function infer_nuclei is already in all_functions.json\n"
     ]
    },
    {
     "data": {
      "text/plain": [
       "0"
      ]
     },
     "execution_count": 63,
     "metadata": {},
     "output_type": "execute_result"
    }
   ],
   "source": [
    "from infer_subc_2d.organelles_config.helper import add_function_spec_to_widget_json\n",
    "\n",
    "_infer_nuclei =  {\n",
    "        \"name\": \"infer infer_nuclei\",\n",
    "        \"python::module\": \"infer_subc_2d.organelles\",\n",
    "        \"python::function\": \"infer_nuclei\",\n",
    "        \"parameters\": None\n",
    "        }\n",
    "\n",
    "add_function_spec_to_widget_json(\"infer_nuclei\",_infer_nuclei)"
   ]
  },
  {
   "attachments": {},
   "cell_type": "markdown",
   "metadata": {},
   "source": [
    "-------------\n",
    "## SUMMARY\n",
    "\n",
    "The above explains the overall framework.  \n",
    "\n",
    "### NEXT: INFER CYTOSOL\n",
    "\n",
    "proceed to [03_infer_cytosol.ipynb](./03_infer_cytosol.ipynb)\n"
   ]
  }
 ],
 "metadata": {
  "kernelspec": {
   "display_name": "Python 3 (ipykernel)",
   "language": "python",
   "name": "python3"
  },
  "language_info": {
   "codemirror_mode": {
    "name": "ipython",
    "version": 3
   },
   "file_extension": ".py",
   "mimetype": "text/x-python",
   "name": "python",
   "nbconvert_exporter": "python",
   "pygments_lexer": "ipython3",
   "version": "3.9.13"
  },
  "vscode": {
   "interpreter": {
    "hash": "d6148ef1fb015fb20f0b6da2ea61c87c6b848bdf3dabb03087e5d5cd0c4607e9"
   }
  }
 },
 "nbformat": 4,
 "nbformat_minor": 2
}
