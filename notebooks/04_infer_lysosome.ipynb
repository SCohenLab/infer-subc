{
 "cells": [
  {
   "attachments": {},
   "cell_type": "markdown",
   "metadata": {},
   "source": [
    "# Infer ***lysosome*** -  4️⃣\n",
    "\n",
    "--------------\n",
    "\n",
    "## OBJECTIVE: \n",
    "### ✅ Infer sub-cellular component ***lysosome***  in order to understand interactome \n",
    "\n",
    "\n",
    "\n",
    "Dependencies:\n",
    "The ***lysosome***  inference rely on the ***cytosol*** mask.\n"
   ]
  },
  {
   "attachments": {},
   "cell_type": "markdown",
   "metadata": {},
   "source": [
    "## preamble\n",
    "\n",
    "1. imports\n",
    "2. setup\n",
    "3. choose_Z\n",
    "4. get soma mask\n",
    "5. infer nuclei object  \n",
    "6. get cytosol mask"
   ]
  },
  {
   "cell_type": "markdown",
   "metadata": {},
   "source": [
    "\n",
    "## IMPORTS"
   ]
  },
  {
   "cell_type": "code",
   "execution_count": 6,
   "metadata": {},
   "outputs": [
    {
     "name": "stdout",
     "output_type": "stream",
     "text": [
      "The autoreload extension is already loaded. To reload it, use:\n",
      "  %reload_ext autoreload\n"
     ]
    }
   ],
   "source": [
    "# top level imports\n",
    "from pathlib import Path\n",
    "import os, sys\n",
    "from typing import Optional\n",
    "\n",
    "import numpy as np\n",
    "\n",
    "from aicssegmentation.core.seg_dot import dot_2d_slice_by_slice_wrapper\n",
    "from aicssegmentation.core.pre_processing_utils import       image_smoothing_gaussian_slice_by_slice \n",
    "from aicssegmentation.core.utils import hole_filling\n",
    "from aicssegmentation.core.vessel import filament_2d_wrapper\n",
    "from skimage.measure import label\n",
    "\n",
    "# # package for io \n",
    "from aicsimageio import AICSImage\n",
    "\n",
    "import napari\n",
    "\n",
    "### import local python functions in ../infer_subc_2d\n",
    "sys.path.append(os.path.abspath((os.path.join(os.getcwd(), '..'))))\n",
    "\n",
    "\n",
    "from infer_subc_2d.utils.file_io import (read_czi_image, read_ome_image,\n",
    "                                                                    list_image_files)\n",
    "from infer_subc_2d.utils.img import *\n",
    "from infer_subc_2d.organelles import fixed_infer_soma_MCZ, fixed_infer_nuclei, infer_cytosol\n",
    "\n",
    "%load_ext autoreload\n",
    "%autoreload 2\n",
    "\n"
   ]
  },
  {
   "cell_type": "markdown",
   "metadata": {},
   "source": [
    "\n",
    "## SETUP\n",
    "\n",
    "\n",
    "CUSTOMIZE WITH: \n",
    "1. updated path to data\n",
    "2. updated folder name for \"raw\" data\n",
    "\n",
    "> NOTE: we are operating on a single \"test\" image in this notebook.  The batch-processing of all the images will be happen at the end of the notebook after we have developed/confirmed the setmentation procedures and parameter settings.\n"
   ]
  },
  {
   "cell_type": "code",
   "execution_count": 2,
   "metadata": {},
   "outputs": [],
   "source": [
    "# NOTE:  these \"constants\" are only accurate for the testing MCZ dataset\n",
    "from infer_subc_2d.constants import (TEST_IMG_N,\n",
    "                                                                    NUC_CH ,\n",
    "                                                                    LYSO_CH ,\n",
    "                                                                    MITO_CH ,\n",
    "                                                                    GOLGI_CH ,\n",
    "                                                                    PEROXI_CH ,\n",
    "                                                                    ER_CH ,\n",
    "                                                                    LIPID_CH ,\n",
    "                                                                    RESIDUAL_CH )              "
   ]
  },
  {
   "attachments": {},
   "cell_type": "markdown",
   "metadata": {},
   "source": [
    "\n",
    "## SETUP"
   ]
  },
  {
   "cell_type": "code",
   "execution_count": 3,
   "metadata": {},
   "outputs": [],
   "source": [
    "# this will be the example image for testing the pipeline below\n",
    "test_img_n = TEST_IMG_N\n",
    "\n",
    "# build the datapath\n",
    "# all the imaging data goes here.\n",
    "data_root_path = Path(os.path.expanduser(\"~\")) / \"Projects/Imaging/data\"\n",
    "\n",
    "# linearly unmixed \".czi\" files are here\n",
    "in_data_path = data_root_path / \"raw\"\n",
    "im_type = \".czi\"\n",
    "\n",
    "# get the list of all files\n",
    "img_file_list = list_image_files(in_data_path,im_type)\n",
    "test_img_name = img_file_list[test_img_n]\n",
    "\n",
    "# save output \".tiff\" files here\n",
    "out_data_path = data_root_path / \"out\"\n",
    "\n",
    "if not Path.exists(out_data_path):\n",
    "    Path.mkdir(out_data_path)\n",
    "    print(f\"making {out_data_path}\")"
   ]
  },
  {
   "cell_type": "code",
   "execution_count": 4,
   "metadata": {},
   "outputs": [
    {
     "name": "stderr",
     "output_type": "stream",
     "text": [
      "/opt/anaconda3/envs/napariNEW/lib/python3.9/site-packages/ome_types/_convenience.py:106: FutureWarning: The default XML parser will be changing from 'xmlschema' to 'lxml' in version 0.4.0.  To silence this warning, please provide the `parser` argument, specifying either 'lxml' (to opt into the new behavior), or'xmlschema' (to retain the old behavior).\n",
      "  d = to_dict(os.fspath(xml), parser=parser, validate=validate)\n"
     ]
    }
   ],
   "source": [
    "img_data,meta_dict = read_czi_image(test_img_name)\n",
    "\n",
    "# get some top-level info about the RAW data\n",
    "channel_names = meta_dict['name']\n",
    "img = meta_dict['metadata']['aicsimage']\n",
    "scale = meta_dict['scale']\n",
    "channel_axis = meta_dict['channel_axis']\n"
   ]
  },
  {
   "attachments": {},
   "cell_type": "markdown",
   "metadata": {},
   "source": [
    "## GET CYTOSOL MASK\n",
    "\n"
   ]
  },
  {
   "cell_type": "code",
   "execution_count": 7,
   "metadata": {},
   "outputs": [
    {
     "name": "stderr",
     "output_type": "stream",
     "text": [
      "/opt/anaconda3/envs/napariNEW/lib/python3.9/site-packages/ome_types/_convenience.py:106: FutureWarning: The default XML parser will be changing from 'xmlschema' to 'lxml' in version 0.4.0.  To silence this warning, please provide the `parser` argument, specifying either 'lxml' (to opt into the new behavior), or'xmlschema' (to retain the old behavior).\n",
      "  d = to_dict(os.fspath(xml), parser=parser, validate=validate)\n"
     ]
    },
    {
     "name": "stdout",
     "output_type": "stream",
     "text": [
      "loaded cytosol mask\n"
     ]
    }
   ],
   "source": [
    "\n",
    "# nuclei_fname = \"/Users/ahenrie/Projects/Imaging/data/out/nuclei_ZSTACK_PBTOhNGN2hiPSCs_BR3_N04_Unmixed.ome.tiff\"\n",
    "cytosol_fname = \"cytosol_\" + test_img_name.split(\"/\")[-1].split(\".\")[0] + \".ome.tiff\"\n",
    "cytosol_path = out_data_path / cytosol_fname  \n",
    "\n",
    "if Path.exists( cytosol_path ):\n",
    "    cytosol_mask, cytosol_meta_dict = read_ome_image( cytosol_path  )\n",
    "    print(\"loaded cytosol mask\")\n",
    "else:\n",
    "    nuclei =  fixed_infer_nuclei(img_data) \n",
    "    soma = fixed_infer_soma_MCZ(img_data, nuclei)\n",
    "    nucleus_obj =  apply_mask(nuclei, soma) \n",
    "    cytosol_mask =  infer_cytosol(soma, nucleus_obj, erode_nuclei=False) \n",
    "    out_file_n = export_inferred_organelle(cytosol_mask, \"cytosol\", meta_dict, out_data_path)\n",
    "    print(f\"calculated cytosol mask. wrote {out_file_n}\")\n"
   ]
  },
  {
   "attachments": {},
   "cell_type": "markdown",
   "metadata": {},
   "source": [
    "---------------------\n",
    "\n",
    "## infer ***lysosome***\n",
    "\n",
    "## summary of steps (Workflow #1 & #2)\n",
    "\n",
    "INPUT\n",
    "- channel  2\n",
    "- cytosol mask\n",
    "\n",
    "PRE-PROCESSING\n",
    "-  smooth / remove noise\n",
    "\n",
    "CORE-PROCESSING\n",
    "- enhance two classes of \"spots\"\n",
    "-  segment objects\n",
    "\n",
    "POST-PROCESSING\n",
    "  - filter objects\n",
    "\n",
    "OUTPUT\n",
    "- object ***lysosome*** \n",
    "\n",
    "\n",
    "Generally following the Allen Cell Segmenter procedure, but doing more aggressive contrast scaling than their prescribed contrast scaling.\n",
    "\n",
    "> Using Allen Cell Segmenter LAMP1 [workflow](https://www.allencell.org/cell-observations/category/lamp1).  Examples sourced from: [Notebook](/Users/ahenrie/Projects/Imaging/mcz_subcell/napari/aics-segmentation/lookup_table_demo/playground_lamp1.ipynb) and [script](/Users/ahenrie/Projects/Imaging/mcz_subcell/napari/aics-segmentation/aicssegmentation/structure_wrapper/seg_lamp1.py)\n",
    "\n"
   ]
  },
  {
   "attachments": {},
   "cell_type": "markdown",
   "metadata": {},
   "source": [
    "## INPUT prototype"
   ]
  },
  {
   "cell_type": "code",
   "execution_count": 8,
   "metadata": {},
   "outputs": [],
   "source": [
    "\n",
    "###################\n",
    "# INPUT\n",
    "###################\n",
    "raw_lyso = select_channel_from_raw(img_data, LYSO_CH)\n"
   ]
  },
  {
   "attachments": {},
   "cell_type": "markdown",
   "metadata": {},
   "source": [
    "## PRE-PROCESSING prototype\n"
   ]
  },
  {
   "cell_type": "code",
   "execution_count": 9,
   "metadata": {},
   "outputs": [],
   "source": [
    "###################\n",
    "# PRE_PROCESSING\n",
    "###################\n",
    "med_filter_size = 3   \n",
    "gaussian_smoothing_sigma = 1.34\n",
    "\n",
    "# # Linear-ish smoothing\n",
    "# lysosome = min_max_intensity_normalization( raw_lyso)\n",
    "# structure_img_median = median_filter_slice_by_slice( lysosome, size=med_filter_size  )\n",
    "# structure_img_smooth = image_smoothing_gaussian_slice_by_slice(  structure_img_median,\n",
    "#                                                                                             sigma=gaussian_smoothing_sigma )\n",
    "\n",
    "struct_img =  scale_and_smooth(raw_lyso,\n",
    "                                                    median_sz = med_filter_size, \n",
    "                                                    gauss_sig = gaussian_smoothing_sigma)"
   ]
  },
  {
   "attachments": {},
   "cell_type": "markdown",
   "metadata": {},
   "source": [
    "## CORE PROCESSING prototype"
   ]
  },
  {
   "cell_type": "code",
   "execution_count": 10,
   "metadata": {},
   "outputs": [],
   "source": [
    "###################\n",
    "# CORE_PROCESSING\n",
    "###################\n",
    "## PARAMETERS for this step ##\n",
    "s2_param = [[5,0.09], [2.5,0.07], [1,0.01]]\n",
    "################################\n",
    "bw_spot = dot_2d_slice_by_slice_wrapper(struct_img, s2_param)\n",
    "\n",
    "\n",
    "################################\n",
    "## PARAMETERS for this step ##\n",
    "f2_param = [[1, 0.15]]\n",
    "################################\n",
    "bw_filament = filament_2d_wrapper(struct_img, f2_param)\n",
    "bw = np.logical_or(bw_spot, bw_filament)\n"
   ]
  },
  {
   "cell_type": "markdown",
   "metadata": {},
   "source": [
    "### POST-PROCESSING\n",
    "\n",
    "> NOTE: we are using the 3D aicssegmentation functions which wrap `scipy.ndimage` functions with a single Z rather than the `scipy.ndimage` functions directly"
   ]
  },
  {
   "cell_type": "code",
   "execution_count": 15,
   "metadata": {},
   "outputs": [],
   "source": [
    "###################\n",
    "# POST_PROCESSING\n",
    "###################\n",
    "\n",
    "################################\n",
    "## PARAMETERS for this step ##\n",
    "fill_2d = True\n",
    "fill_max_size = 25\n",
    "hole_min = 0\n",
    "################################\n",
    "removed_holes = hole_filling_linear_size(bw, hole_min=0, hole_max=fill_max_size)\n",
    "\n",
    "small_object_width = 3  \n",
    "cleaned_img = size_filter_linear_size(removed_holes, # wrapper to remove_small_objects which can do slice by slice\n",
    "                                                         min_size= small_object_width, \n",
    "                                                         connectivity=1)\n",
    "\n",
    "masked_img = apply_mask(cleaned_img, cytosol_mask)\n"
   ]
  },
  {
   "attachments": {},
   "cell_type": "markdown",
   "metadata": {},
   "source": [
    "## Visualize with `napari` 1\n",
    "Visualize the first-pass segmentation and labeling with `napari`."
   ]
  },
  {
   "cell_type": "code",
   "execution_count": 16,
   "metadata": {},
   "outputs": [
    {
     "ename": "NameError",
     "evalue": "name 'soma_mask' is not defined",
     "output_type": "error",
     "traceback": [
      "\u001b[0;31m---------------------------------------------------------------------------\u001b[0m",
      "\u001b[0;31mNameError\u001b[0m                                 Traceback (most recent call last)",
      "Cell \u001b[0;32mIn[16], line 2\u001b[0m\n\u001b[1;32m      1\u001b[0m viewer \u001b[39m=\u001b[39m napari\u001b[39m.\u001b[39mViewer()\n\u001b[0;32m----> 2\u001b[0m viewer\u001b[39m.\u001b[39madd_image(soma_mask,\n\u001b[1;32m      3\u001b[0m     scale\u001b[39m=\u001b[39mscale)\n\u001b[1;32m      4\u001b[0m viewer\u001b[39m.\u001b[39madd_image(nuclei_object,\n\u001b[1;32m      5\u001b[0m     scale\u001b[39m=\u001b[39mscale)\n\u001b[1;32m      6\u001b[0m viewer\u001b[39m.\u001b[39madd_image(cytosol_mask,\n\u001b[1;32m      7\u001b[0m     scale\u001b[39m=\u001b[39mscale)    \n",
      "\u001b[0;31mNameError\u001b[0m: name 'soma_mask' is not defined"
     ]
    }
   ],
   "source": [
    "viewer = napari.Viewer()\n",
    "# viewer.add_image(soma_mask,\n",
    "#     scale=scale)\n",
    "# viewer.add_image(nuclei_object,\n",
    "#     scale=scale)\n",
    "viewer.add_image(cytosol_mask,\n",
    "    scale=scale)    "
   ]
  },
  {
   "cell_type": "code",
   "execution_count": 17,
   "metadata": {},
   "outputs": [
    {
     "data": {
      "text/plain": [
       "<Image layer 'masked_img' at 0x1404c5b80>"
      ]
     },
     "execution_count": 17,
     "metadata": {},
     "output_type": "execute_result"
    }
   ],
   "source": [
    "\n",
    "viewer.add_image(\n",
    "    removed_holes,\n",
    "    scale=scale\n",
    ")\n",
    "viewer.add_image(\n",
    "    masked_img,\n",
    "    scale=scale\n",
    ")\n"
   ]
  },
  {
   "cell_type": "code",
   "execution_count": 14,
   "metadata": {},
   "outputs": [
    {
     "data": {
      "text/plain": [
       "<Image layer 'structure_img_smooth' at 0x174cabee0>"
      ]
     },
     "execution_count": 14,
     "metadata": {},
     "output_type": "execute_result"
    }
   ],
   "source": [
    "\n",
    "viewer.scale_bar.visible = True\n",
    "viewer.add_image(\n",
    "    cleaned_img,\n",
    "    scale=scale\n",
    ")\n",
    "viewer.add_image(\n",
    "    structure_img_smooth,\n",
    "    scale=scale\n",
    ")"
   ]
  },
  {
   "cell_type": "markdown",
   "metadata": {},
   "source": []
  },
  {
   "attachments": {},
   "cell_type": "markdown",
   "metadata": {},
   "source": [
    "## DEFINE `_infer_lysosome` function\n",
    "\n",
    "Based on the _prototyping_ above define the function to infer the lysosomes.  \n",
    "\n"
   ]
  },
  {
   "cell_type": "code",
   "execution_count": 18,
   "metadata": {},
   "outputs": [],
   "source": [
    "##########################\n",
    "#  infer_LYSOSOMES\n",
    "##########################\n",
    "def _infer_lysosome(\n",
    "                                in_img: np.ndarray,\n",
    "                                cytosol_mask: np.ndarray,\n",
    "                                median_sz: int,\n",
    "                                gauss_sig: float,\n",
    "                                dot_scale_1: float,\n",
    "                                dot_cut_1: float,\n",
    "                                dot_scale_2: float,\n",
    "                                dot_cut_2: float,\n",
    "                                dot_scale_3: float,\n",
    "                                dot_cut_3: float,\n",
    "                                filament_scale : float,\n",
    "                                filament_cut : float,\n",
    "                                min_hole_w: int,\n",
    "                                max_hole_w: int,\n",
    "                                small_obj_w: int,\n",
    "                            ) -> np.ndarray:\n",
    "    \"\"\"\n",
    "    Procedure to infer lysosome from linearly unmixed input,\n",
    "    \n",
    "    Parameters\n",
    "    ------------\n",
    "    in_img: \n",
    "        a 3d image containing all the channels\n",
    "    cytosol_mask: \n",
    "        mask\n",
    "    median_sz: \n",
    "        width of median filter for signal\n",
    "    gauss_sig: \n",
    "        sigma for gaussian smoothing of  signal\n",
    "    dot_scale: \n",
    "        scales (log_sigma) for dot filter (1,2, and 3)\n",
    "    dot_cut: \n",
    "        threshold for dot filter thresholds (1,2,and 3)\n",
    "    filament_scale: \n",
    "        scale (log_sigma) for filament filter\n",
    "    filament_cut: \n",
    "        threshold for filament fitered threshold\n",
    "    min_hole_w: \n",
    "        hole filling min for nuclei post-processing\n",
    "    max_hole_w: \n",
    "        hole filling cutoff for nuclei post-processing\n",
    "    small_obj_w: \n",
    "        minimu object size cutoff for nuclei post-processing\n",
    "\n",
    "    Returns\n",
    "    -------------\n",
    "    lysosome_object\n",
    "        mask defined extent of lysosome object\n",
    "\n",
    "    \"\"\"\n",
    "    lyso_ch = LYSO_CH\n",
    "    ###################\n",
    "    # EXTRACT\n",
    "    ###################    \n",
    "    lyso = select_channel_from_raw(in_img, lyso_ch)\n",
    "\n",
    "     ###################\n",
    "    # PRE_PROCESSING\n",
    "    ###################    \n",
    "    # lyso = min_max_intensity_normalization(lyso)\n",
    "    # lyso = median_filter_slice_by_slice(lyso, size=median_sz)\n",
    "    # lyso = image_smoothing_gaussian_slice_by_slice(lyso, sigma=gauss_sig)\n",
    "\n",
    "    lyso =  scale_and_smooth(lyso,\n",
    "                                                    median_sz = median_sz, \n",
    "                                                    gauss_sig = gauss_sig)\n",
    "   ###################\n",
    "    # CORE_PROCESSING\n",
    "    ###################\n",
    "    # s2_param = [[5,0.09], [2.5,0.07], [1,0.01]]\n",
    "    s2_param = [    \n",
    "                [dot_scale_1, dot_cut_1],\n",
    "                [dot_scale_2, dot_cut_2],\n",
    "                [dot_scale_3, dot_cut_3]\n",
    "                ]\n",
    "    bw_spot = dot_2d_slice_by_slice_wrapper(lyso, s2_param)\n",
    "\n",
    "    f2_param = [[filament_scale, filament_cut]]\n",
    "    # f2_param = [[1, 0.15]]  # [scale_1, cutoff_1]\n",
    "    bw_filament = filament_2d_wrapper(lyso, f2_param)\n",
    "\n",
    "    bw = np.logical_or(bw_spot, bw_filament)\n",
    "\n",
    "    ###################\n",
    "    # POST_PROCESSING\n",
    "    ###################\n",
    "    struct_obj = hole_filling_linear_size(bw, hole_min=min_hole_w, hole_max=max_hole_w)\n",
    "    struct_obj = size_filter_linear_size(struct_obj, # wrapper to remove_small_objects which can do slice by slice\n",
    "                                                            min_size= small_obj_w, \n",
    "                                                            connectivity=1)\n",
    "\n",
    "    struct_obj = apply_mask(struct_obj, cytosol_mask)            \n",
    "    return struct_obj"
   ]
  },
  {
   "attachments": {},
   "cell_type": "markdown",
   "metadata": {},
   "source": [
    "## DEFINE `_fixed_infer_lysosome` function\n"
   ]
  },
  {
   "cell_type": "code",
   "execution_count": 19,
   "metadata": {},
   "outputs": [],
   "source": [
    "\n",
    "\n",
    "##########################\n",
    "#  fixed_infer_nuclei\n",
    "##########################\n",
    "def _fixed_infer_lysosome(in_img: np.ndarray, \n",
    "                                                cytosol_mask: Optional[np.ndarray] = None\n",
    "                                            ) -> np.ndarray:\n",
    "    \"\"\"\n",
    "    Procedure to infer lysosome from linearly unmixed input with *fixed parameters*\n",
    "    Parameters\n",
    "    ------------\n",
    "    in_img: \n",
    "        a 3d image containing all the channels\n",
    "    cytosol_mask: \n",
    "        mask\n",
    "\n",
    "    Returns\n",
    "    -------------\n",
    "    lysosome_object\n",
    "        mask defined extent of NU\n",
    "    \"\"\"\n",
    "    median_sz = 4\n",
    "    gauss_sig = 1.34\n",
    "    dot_scale_1 = 5\n",
    "    dot_cut_1 = 0.09\n",
    "    dot_scale_2 = 2.5\n",
    "    dot_cut_2 = 0.07\n",
    "    dot_scale_3 = 1\n",
    "    dot_cut_3 = 0.01\n",
    "    filament_scale = 1\n",
    "    filament_cut = 0.15\n",
    "    min_hole_w = 0\n",
    "    max_hole_w = 25\n",
    "    small_obj_w = 3\n",
    "\n",
    "    return _infer_lysosome(  \n",
    "        in_img,\n",
    "        cytosol_mask,\n",
    "        median_sz,\n",
    "        gauss_sig,\n",
    "        dot_cut_1,\n",
    "        dot_scale_1,\n",
    "        dot_cut_2,\n",
    "        dot_scale_2,\n",
    "        dot_cut_3,\n",
    "        dot_scale_3,\n",
    "        filament_scale,\n",
    "        filament_cut ,\n",
    "        min_hole_w,\n",
    "        max_hole_w,\n",
    "        small_obj_w\n",
    "        )\n"
   ]
  },
  {
   "attachments": {},
   "cell_type": "markdown",
   "metadata": {},
   "source": [
    "------------------\n",
    "\n",
    "# TEST `_infer_lysosome` function defined above"
   ]
  },
  {
   "cell_type": "code",
   "execution_count": 20,
   "metadata": {},
   "outputs": [],
   "source": [
    "\n",
    "_lysosome_object =  _fixed_infer_lysosome(img_data, cytosol_mask) \n",
    "\n"
   ]
  },
  {
   "cell_type": "code",
   "execution_count": 25,
   "metadata": {},
   "outputs": [],
   "source": [
    "from infer_subc_2d.organelles.lysosome import fixed_infer_lysosome\n",
    "\n",
    "lysosome_object =  fixed_infer_lysosome(img_data, cytosol_mask) \n",
    "\n"
   ]
  },
  {
   "attachments": {},
   "cell_type": "markdown",
   "metadata": {},
   "source": [
    "## Visualize  2\n"
   ]
  },
  {
   "cell_type": "code",
   "execution_count": 26,
   "metadata": {},
   "outputs": [
    {
     "data": {
      "text/plain": [
       "<Image layer 'lysosome_object' at 0x15b4094f0>"
      ]
     },
     "execution_count": 26,
     "metadata": {},
     "output_type": "execute_result"
    }
   ],
   "source": [
    "\n",
    "viewer.add_image(\n",
    "    _lysosome_object,\n",
    "    scale=scale\n",
    ")\n",
    "viewer.add_labels(\n",
    "    label(lysosome_object),\n",
    "    scale=scale\n",
    ")\n",
    "viewer.add_image(\n",
    "    lysosome_object,\n",
    "    scale=scale\n",
    ")"
   ]
  },
  {
   "cell_type": "code",
   "execution_count": 27,
   "metadata": {},
   "outputs": [
    {
     "data": {
      "image/png": "[encoded data removed]",
      "text/html": [
       "<img src=\"data:image/png;base64,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\"></img>"
      ],
      "text/plain": [
       "<napari.utils.notebook_display.NotebookScreenshot at 0x165065a00>"
      ]
     },
     "execution_count": 27,
     "metadata": {},
     "output_type": "execute_result"
    }
   ],
   "source": [
    "from napari.utils.notebook_display import nbscreenshot\n",
    "\n",
    "# viewer.dims.ndisplay = 3\n",
    "# viewer.camera.angles = (-30, 25, 120)\n",
    "nbscreenshot(viewer, canvas_only=True)"
   ]
  },
  {
   "cell_type": "code",
   "execution_count": 21,
   "metadata": {},
   "outputs": [],
   "source": [
    "viewer.close()"
   ]
  },
  {
   "attachments": {},
   "cell_type": "markdown",
   "metadata": {},
   "source": [
    "-----------------\n",
    "Write the `infer_lysosome` spec to the widget json "
   ]
  },
  {
   "cell_type": "code",
   "execution_count": 22,
   "metadata": {},
   "outputs": [
    {
     "name": "stdout",
     "output_type": "stream",
     "text": [
      "function fixed_infer_lysosome is already in all_functions.json\n"
     ]
    },
    {
     "data": {
      "text/plain": [
       "0"
      ]
     },
     "execution_count": 22,
     "metadata": {},
     "output_type": "execute_result"
    }
   ],
   "source": [
    "from infer_subc_2d.organelles_config.helper import add_function_spec_to_widget_json\n",
    "\n",
    "_fixed_infer_lysosome =  {\n",
    "        \"name\": \"infer lysosome  (fixed parameters)\",\n",
    "        \"python::module\": \"infer_subc_2d.organelles\",\n",
    "        \"python::function\": \"fixed_infer_lysosome\",\n",
    "        \"parameters\": None\n",
    "        }\n",
    "\n",
    "add_function_spec_to_widget_json(\"fixed_infer_lysosome\",_fixed_infer_lysosome)"
   ]
  },
  {
   "cell_type": "code",
   "execution_count": 23,
   "metadata": {},
   "outputs": [
    {
     "name": "stdout",
     "output_type": "stream",
     "text": [
      "function infer_lysosome is already in all_functions.json\n",
      "overwriting  infer_lysosome\n"
     ]
    },
    {
     "data": {
      "text/plain": [
       "1"
      ]
     },
     "execution_count": 23,
     "metadata": {},
     "output_type": "execute_result"
    }
   ],
   "source": [
    "\n",
    "_infer_lysosome =  {\n",
    "        \"name\": \"infer lysosome\",\n",
    "        \"python::module\": \"infer_subc_2d.organelles\",\n",
    "        \"python::function\": \"infer_lysosome\",\n",
    "        \"parameters\": {\n",
    "                \"median_sz\": {\n",
    "                        \"widget_type\": \"slider\",\n",
    "                        \"data_type\": \"int\",\n",
    "                        \"min\": 3,\n",
    "                        \"max\": 15,\n",
    "                        \"increment\": 1\n",
    "                },\n",
    "                \"gauss_sig\": {\n",
    "                        \"data_type\": \"float\",\n",
    "                        \"increment\": 0.25,\n",
    "                        \"max\": 15.0,\n",
    "                        \"min\": 1.25,\n",
    "                        \"widget_type\": \"slider\"\n",
    "                },\n",
    "                \"dot_scale_1\": {\n",
    "                        \"data_type\": \"float\",\n",
    "                        \"increment\": 0.05,\n",
    "                        \"max\": 10,\n",
    "                        \"min\": 0,\n",
    "                        \"widget_type\": \"slider\"\n",
    "                },\n",
    "                \"dot_cut_1\": {\n",
    "                        \"data_type\": \"float\",\n",
    "                        \"increment\": 0.001,\n",
    "                        \"max\": 0.5,\n",
    "                        \"min\": 0,\n",
    "                        \"widget_type\": \"slider\"\n",
    "                },\n",
    "                \"dot_scale_2\": {\n",
    "                        \"data_type\": \"float\",\n",
    "                        \"increment\": 0.05,\n",
    "                        \"max\": 10,\n",
    "                        \"min\": 0,\n",
    "                        \"widget_type\": \"slider\"\n",
    "                },\n",
    "                \"dot_cut_2\": {\n",
    "                        \"data_type\": \"float\",\n",
    "                        \"increment\": 0.001,\n",
    "                        \"max\": 0.5,\n",
    "                        \"min\": 0,\n",
    "                        \"widget_type\": \"slider\"\n",
    "                },\n",
    "                \"dot_scale_3\": {\n",
    "                        \"data_type\": \"float\",\n",
    "                        \"increment\": 0.05,\n",
    "                        \"max\": 10,\n",
    "                        \"min\": 0,\n",
    "                        \"widget_type\": \"slider\"\n",
    "                },\n",
    "                \"dot_cut_3\": {\n",
    "                        \"data_type\": \"float\",\n",
    "                        \"increment\": 0.001,\n",
    "                        \"max\": 0.5,\n",
    "                        \"min\": 0,\n",
    "                        \"widget_type\": \"slider\"\n",
    "                },\n",
    "                \"filament_scale\": {\n",
    "                        \"data_type\": \"float\",\n",
    "                        \"increment\": 0.05,\n",
    "                        \"max\": 10,\n",
    "                        \"min\": 0,\n",
    "                        \"widget_type\": \"slider\"\n",
    "                },\n",
    "                \"filament_cut\": {\n",
    "                        \"data_type\": \"float\",\n",
    "                        \"increment\": 0.001,\n",
    "                        \"max\": 0.5,\n",
    "                        \"min\": 0,\n",
    "                        \"widget_type\": \"slider\"\n",
    "                },\n",
    "                \"min_hole_w\": {\n",
    "                        \"data_type\": \"int\",\n",
    "                        \"increment\": 1,\n",
    "                        \"max\": 30,\n",
    "                        \"min\": 0,\n",
    "                        \"widget_type\": \"slider\"\n",
    "                },    \n",
    "                \"max_hole_w\": {\n",
    "                        \"data_type\": \"int\",\n",
    "                        \"increment\": 1,\n",
    "                        \"max\": 40,\n",
    "                        \"min\": 4,\n",
    "                        \"widget_type\": \"slider\"\n",
    "                },           \n",
    "                \"small_obj_w\": {\n",
    "                        \"data_type\": \"int\",\n",
    "                        \"increment\": 1,\n",
    "                        \"max\": 50,\n",
    "                        \"min\": 1,\n",
    "                        \"widget_type\": \"slider\"\n",
    "                }\n",
    "        }\n",
    "}\n",
    "\n",
    "add_function_spec_to_widget_json(\"infer_lysosome\", _infer_lysosome, overwrite=True )\n",
    "\n"
   ]
  },
  {
   "attachments": {},
   "cell_type": "markdown",
   "metadata": {},
   "source": [
    "##  helper function definitions\n",
    "\n",
    "Wrappers for spot and filiment filters"
   ]
  },
  {
   "cell_type": "code",
   "execution_count": 24,
   "metadata": {},
   "outputs": [],
   "source": [
    "\n",
    "def _lysosome_spot_filter(in_img: np.ndarray) -> np.ndarray:\n",
    "    \"\"\" spot filter helper function for lysosome \"\"\"\n",
    "    dot_scale_1 = 5\n",
    "    dot_cut_1 = 0.09\n",
    "    dot_scale_2 = 2.5\n",
    "    dot_cut_2 = 0.07\n",
    "    dot_scale_3 = 1\n",
    "    dot_cut_3 = 0.01\n",
    "    s2_param = [[dot_scale_1, dot_cut_1], [dot_scale_2, dot_cut_2], [dot_scale_3, dot_cut_3]]\n",
    "    return dot_2d_slice_by_slice_wrapper(in_img, s2_param)\n",
    "\n",
    "# def _lysosome_filiment_filter(in_img: np.ndarray) -> np.ndarray:\n",
    "#     \"\"\" spot filter helper function for lysosome  (DEPRICATED)\"\"\"\n",
    "#     f2_param = [[filament_scale, filament_cut]]\n",
    "#     # f2_param = [[1, 0.15]]  # [scale_1, cutoff_1]\n",
    "#     return filament_2d_wrapper(in_img, f2_param)\n",
    "\n"
   ]
  },
  {
   "cell_type": "code",
   "execution_count": 25,
   "metadata": {},
   "outputs": [
    {
     "name": "stdout",
     "output_type": "stream",
     "text": [
      "function lysosome_spot_filter is already in all_functions.json\n",
      "overwriting  lysosome_spot_filter\n"
     ]
    },
    {
     "data": {
      "text/plain": [
       "1"
      ]
     },
     "execution_count": 25,
     "metadata": {},
     "output_type": "execute_result"
    }
   ],
   "source": [
    "_lysosome_spot_filter =  {\n",
    "        \"name\": \"lysosome spot filter\",\n",
    "        \"python::module\": \"infer_subc_2d.organelles\",\n",
    "        \"python::function\": \"lysosome_spot_filter\",\n",
    "        \"parameters\": None\n",
    "        }\n",
    "\n",
    "add_function_spec_to_widget_json(\"lysosome_spot_filter\",_lysosome_spot_filter, overwrite=True)"
   ]
  },
  {
   "cell_type": "code",
   "execution_count": 26,
   "metadata": {},
   "outputs": [
    {
     "name": "stdout",
     "output_type": "stream",
     "text": [
      "function lysosome_filiment_filter is already in all_functions.json\n"
     ]
    },
    {
     "data": {
      "text/plain": [
       "0"
      ]
     },
     "execution_count": 26,
     "metadata": {},
     "output_type": "execute_result"
    }
   ],
   "source": [
    "_lysosome_filiment_filter =  {\n",
    "        \"name\": \"lysosome filiment filter\",\n",
    "        \"python::module\": \"infer_subc_2d.organelles\",\n",
    "        \"python::function\": \"lysosome_filiment_filter\",\n",
    "        \"parameters\": None\n",
    "        }\n",
    "\n",
    "add_function_spec_to_widget_json(\"lysosome_filiment_filter\",_lysosome_filiment_filter)"
   ]
  },
  {
   "cell_type": "code",
   "execution_count": 27,
   "metadata": {},
   "outputs": [
    {
     "name": "stdout",
     "output_type": "stream",
     "text": [
      "function logical_or is already in all_functions.json\n"
     ]
    },
    {
     "data": {
      "text/plain": [
       "0"
      ]
     },
     "execution_count": 27,
     "metadata": {},
     "output_type": "execute_result"
    }
   ],
   "source": [
    "_logical_or =  {\n",
    "        \"name\": \"logical or\",\n",
    "        \"python::module\": \"numpy\",\n",
    "        \"python::function\": \"logical_or\",\n",
    "        \"parameters\": None\n",
    "        }\n",
    "\n",
    "add_function_spec_to_widget_json(\"logical_or\",_logical_or)"
   ]
  },
  {
   "cell_type": "code",
   "execution_count": 28,
   "metadata": {},
   "outputs": [
    {
     "name": "stdout",
     "output_type": "stream",
     "text": [
      "function fixed_infer_nuclei is already in all_functions.json\n"
     ]
    },
    {
     "data": {
      "text/plain": [
       "0"
      ]
     },
     "execution_count": 28,
     "metadata": {},
     "output_type": "execute_result"
    }
   ],
   "source": [
    "from infer_subc_2d.organelles_config.helper import add_function_spec_to_widget_json\n",
    "\n",
    "_fixed_infer_nuclei =  {\n",
    "        \"name\": \"infer nuclei  (fixed parameters)\",\n",
    "        \"python::module\": \"infer_subc_2d.organelles\",\n",
    "        \"python::function\": \"fixed_infer_nuclei\",\n",
    "        \"parameters\": None\n",
    "        }\n",
    "\n",
    "add_function_spec_to_widget_json(\"fixed_infer_nuclei\",_fixed_infer_nuclei)"
   ]
  },
  {
   "cell_type": "code",
   "execution_count": 29,
   "metadata": {},
   "outputs": [
    {
     "name": "stdout",
     "output_type": "stream",
     "text": [
      "function label is already in all_functions.json\n"
     ]
    },
    {
     "data": {
      "text/plain": [
       "0"
      ]
     },
     "execution_count": 29,
     "metadata": {},
     "output_type": "execute_result"
    }
   ],
   "source": [
    "\n",
    "\n",
    "    # NU_labels = label(nuclei_object)\n",
    "\n",
    "_label =  {\n",
    "        \"name\": \"label objects\",\n",
    "        \"python::module\": \"skimage.measure\",\n",
    "        \"python::function\": \"label\",\n",
    "        \"parameters\": None\n",
    "        }\n",
    "# json.dumps({\"label\":_label})\n",
    "add_function_spec_to_widget_json(\"label\",_label)        \n"
   ]
  },
  {
   "attachments": {},
   "cell_type": "markdown",
   "metadata": {},
   "source": [
    "-------------------------------\n",
    "## Write workflow .json\n",
    "Now that we've added our function specs we can compose workflows."
   ]
  },
  {
   "cell_type": "code",
   "execution_count": 30,
   "metadata": {},
   "outputs": [],
   "source": [
    "from infer_subc_2d.constants import LYSO_CH\n",
    "def make_infer_lysosome_step_by_step_from_raw_dict():\n",
    "    \"\"\"\n",
    "    Procedure to infer lysosome from linearly unmixed input from raw\n",
    "\n",
    "    \"\"\"\n",
    "    step_name = []\n",
    "    function_name = []\n",
    "    category =[]\n",
    "    parameter_values = []\n",
    "    parent = []\n",
    "   \n",
    "    ###################\n",
    "    # EXTRACT\n",
    "    ###################   \n",
    "    step_name = []\n",
    "    function_name = []\n",
    "    category =[]\n",
    "    parameter_values = []\n",
    "    parent = []\n",
    "   \n",
    "    ###################\n",
    "    # EXTRACT\n",
    "    ###################   \n",
    "\n",
    "    step_name.append(\"1\")\n",
    "    function_name.append(\"fixed_get_optimal_Z_img\")\n",
    "    category.append(\"extraction\")\n",
    "    parameter_values.append(None)\n",
    "    parent.append(0)\n",
    "\n",
    "    step_name.append(\"2\")\n",
    "    function_name.append(\"fixed_infer_soma\")\n",
    "    category.append(\"extraction\")\n",
    "    parameter_values.append( None )\n",
    "    parent.append(1)\n",
    "\n",
    "    step_name.append(\"3\")\n",
    "    function_name.append(\"fixed_infer_nuclei\")\n",
    "    category.append(\"extraction\")\n",
    "    parameter_values.append( None )\n",
    "    parent.append([1,2])\n",
    "\n",
    "    step_name.append(\"4\")\n",
    "    function_name.append(\"infer_cytosol\")\n",
    "    category.append(\"extraction\")\n",
    "    parameter_values.append(dict(erode_nuclei = True ))\n",
    "    parent.append([2,3])\n",
    "\n",
    "    step_name.append(\"5\")\n",
    "    function_name.append(\"select_channel_from_raw\")\n",
    "    category.append(\"extraction\")\n",
    "    parameter_values.append( dict(chan = LYSO_CH) )\n",
    "    parent.append(1)\n",
    "    \n",
    "    step_name.append(\"6\")\n",
    "    function_name.append(\"min_max_intensity_normalization\")\n",
    "    category.append(\"preprocessing\")\n",
    "    parameter_values.append(None)\n",
    "    parent.append(5)\n",
    "\n",
    "    step_name.append(\"7\")\n",
    "    function_name.append(\"median_filter_slice_by_slice\")\n",
    "    category.append(\"preprocessing\")\n",
    "    parameter_values.append(dict(size = 4 ))\n",
    "    parent.append(6)\n",
    "\n",
    "    step_name.append(\"8\")\n",
    "    function_name.append(\"image_smoothing_gaussian_slice_by_slice\")\n",
    "    category.append(\"preprocessing\")\n",
    "    parameter_values.append(dict( sigma = 1.34 ))\n",
    "    parent.append(7)\n",
    "\n",
    "\n",
    "    step_name.append(\"9\")\n",
    "    function_name.append(\"lysosome_spot_filter\")\n",
    "    category.append(\"core\")\n",
    "    parameter_values.append( None )\n",
    "    parent.append(8)\n",
    "\n",
    "    # step_name.append(\"10\")\n",
    "    # function_name.append(\"lysosome_filiment_filter\")\n",
    "    # category.append(\"core\")\n",
    "    # parameter_values.append( None )\n",
    "    # parent.append(8)\n",
    "    step_name.append(\"10\")\n",
    "    function_name.append(\"filament_filter\") \n",
    "    category.append(\"core\")\n",
    "    parameter_values.append( dict( filament_scale=1., filament_cut=.15) )\n",
    "    parent.append(8)\n",
    "\n",
    "    step_name.append(\"11\")\n",
    "    function_name.append(\"logical_or\")\n",
    "    category.append(\"core\")\n",
    "    parameter_values.append( None )\n",
    "    parent.append([9,10])\n",
    "\n",
    "    step_name.append(\"12\")\n",
    "    function_name.append(\"hole_filling\")\n",
    "    category.append(\"postprocessing\")\n",
    "    parameter_values.append(dict( hole_min=0, hole_max=25**2, fill_2d=True))\n",
    "    parent.append(11)\n",
    "\n",
    "    step_name.append(\"13\")\n",
    "    function_name.append(\"apply_mask\")\n",
    "    category.append(\"postprocessing\")\n",
    "    parameter_values.append(None)\n",
    "    parent.append([12,4])\n",
    "\n",
    "    step_name.append(\"14\")\n",
    "    function_name.append(\"size_filter_linear_size\")\n",
    "    category.append(\"postprocessing\")\n",
    "    parameter_values.append(dict( min_size = 3**2  ))\n",
    "    parent.append(13)\n",
    "\n",
    "    out_dict = dict()\n",
    "    for i,stepn in enumerate(step_name):\n",
    "        entry = dict(category=category[i],\n",
    "                            function=function_name[i],\n",
    "                            parameter_values=parameter_values[i],\n",
    "                            parent=parent[i]\n",
    "        )\n",
    "        if entry['parameter_values'] is None:\n",
    "            _ = entry.pop('parameter_values')\n",
    "        out_dict[stepn] = entry\n",
    "    \n",
    "    return out_dict"
   ]
  },
  {
   "cell_type": "code",
   "execution_count": 31,
   "metadata": {},
   "outputs": [
    {
     "data": {
      "text/plain": [
       "PosixPath('/Users/ahenrie/Projects/Imaging/infer-subc-2D/infer_subc_2d/organelles_config/conf_1.4.lysosome_stepbystep_from_raw.json')"
      ]
     },
     "execution_count": 31,
     "metadata": {},
     "output_type": "execute_result"
    }
   ],
   "source": [
    "from infer_subc_2d.organelles_config.helper import write_workflow_json\n",
    "\n",
    "infer_lysosome_stepbystep_from_raw_dict = make_infer_lysosome_step_by_step_from_raw_dict()\n",
    "\n",
    "write_workflow_json(\"conf_1.4.lysosome_stepbystep_from_raw\", infer_lysosome_stepbystep_from_raw_dict)"
   ]
  },
  {
   "attachments": {},
   "cell_type": "markdown",
   "metadata": {},
   "source": [
    "-------------\n",
    "## SUMMARY\n",
    "\n",
    "The above details how the lysosome object is inferred.  \n",
    "\n",
    "### NEXT: INFER MITOCHONDRIA\n",
    "\n",
    "proceed to [05_infer_mitochondria.ipynb](./05_infer_mitochondria.ipynb)\n"
   ]
  },
  {
   "cell_type": "markdown",
   "metadata": {},
   "source": []
  }
 ],
 "metadata": {
  "kernelspec": {
   "display_name": "Python 3.9.13 ('napariNEW')",
   "language": "python",
   "name": "python3"
  },
  "language_info": {
   "codemirror_mode": {
    "name": "ipython",
    "version": 3
   },
   "file_extension": ".py",
   "mimetype": "text/x-python",
   "name": "python",
   "nbconvert_exporter": "python",
   "pygments_lexer": "ipython3",
   "version": "3.9.16"
  },
  "orig_nbformat": 4,
  "vscode": {
   "interpreter": {
    "hash": "d6148ef1fb015fb20f0b6da2ea61c87c6b848bdf3dabb03087e5d5cd0c4607e9"
   }
  }
 },
 "nbformat": 4,
 "nbformat_minor": 2
}
