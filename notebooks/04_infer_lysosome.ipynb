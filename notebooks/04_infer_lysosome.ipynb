{
 "cells": [
  {
   "attachments": {},
   "cell_type": "markdown",
   "metadata": {},
   "source": [
    "# Infer ***lysosome*** -  4️⃣\n",
    "\n",
    "--------------\n",
    "\n",
    "## OBJECTIVE: \n",
    "### ✅ Infer sub-cellular component ***lysosome***  in order to understand interactome \n",
    "\n",
    "\n",
    "\n",
    "Dependencies:\n",
    "The ***lysosome***  inference rely on the ***cytosol*** mask.\n"
   ]
  },
  {
   "attachments": {},
   "cell_type": "markdown",
   "metadata": {},
   "source": [
    "## preamble\n",
    "\n",
    "1. imports\n",
    "2. setup\n",
    "3. choose_Z\n",
    "4. get soma mask\n",
    "5. infer nuclei object  \n",
    "6. get cytosol mask"
   ]
  },
  {
   "cell_type": "markdown",
   "metadata": {},
   "source": [
    "\n",
    "## IMPORTS"
   ]
  },
  {
   "cell_type": "code",
   "execution_count": 1,
   "metadata": {},
   "outputs": [],
   "source": [
    "# top level imports\n",
    "from pathlib import Path\n",
    "import os, sys\n",
    "from typing import Optional\n",
    "\n",
    "import numpy as np\n",
    "\n",
    "from aicssegmentation.core.seg_dot import dot_2d_slice_by_slice_wrapper\n",
    "from aicssegmentation.core.pre_processing_utils import       image_smoothing_gaussian_slice_by_slice \n",
    "from aicssegmentation.core.utils import hole_filling\n",
    "from aicssegmentation.core.vessel import filament_2d_wrapper\n",
    "from skimage.measure import label\n",
    "\n",
    "# # package for io \n",
    "from aicsimageio import AICSImage\n",
    "\n",
    "import napari\n",
    "\n",
    "### import local python functions in ../infer_subc_2d\n",
    "sys.path.append(os.path.abspath((os.path.join(os.getcwd(), '..'))))\n",
    "\n",
    "\n",
    "from infer_subc_2d.utils.file_io import (read_czi_image,\n",
    "                                                                    list_image_files)\n",
    "from infer_subc_2d.utils.img import *\n",
    "\n",
    "from infer_subc_2d.constants import (\n",
    "        TEST_IMG_N,\n",
    "        NUC_CH ,\n",
    "        LYSO_CH ,\n",
    "        MITO_CH ,\n",
    "        GOLGI_CH ,\n",
    "        PEROXI_CH ,\n",
    "        ER_CH ,\n",
    "        LIPID_CH ,\n",
    "        RESIDUAL_CH )          \n",
    "\n",
    "from infer_subc_2d.organelles import fixed_infer_soma, fixed_infer_nuclei, infer_cytosol, find_optimal_Z\n",
    "\n",
    "%load_ext autoreload\n",
    "%autoreload 2\n",
    "\n",
    "test_img_n = TEST_IMG_N"
   ]
  },
  {
   "attachments": {},
   "cell_type": "markdown",
   "metadata": {},
   "source": [
    "\n",
    "## SETUP"
   ]
  },
  {
   "cell_type": "code",
   "execution_count": 2,
   "metadata": {},
   "outputs": [],
   "source": [
    "# build the datapath\n",
    "# all the imaging data goes here.\n",
    "data_root_path = Path(os.path.expanduser(\"~\")) / \"Projects/Imaging/data\"\n",
    "\n",
    "# linearly unmixed \".czi\" files are here\n",
    "data_path = data_root_path / \"raw\"\n",
    "im_type = \".czi\"\n",
    "\n",
    "# get the list of all files\n",
    "img_file_list = list_image_files(data_path,im_type)\n",
    "test_img_name = img_file_list[test_img_n]\n"
   ]
  },
  {
   "cell_type": "code",
   "execution_count": 3,
   "metadata": {},
   "outputs": [
    {
     "name": "stderr",
     "output_type": "stream",
     "text": [
      "/opt/anaconda3/envs/napariNEW/lib/python3.9/site-packages/ome_types/_convenience.py:105: FutureWarning: The default XML parser will be changing from 'xmlschema' to 'lxml' in version 0.4.0.  To silence this warning, please provide the `parser` argument, specifying either 'lxml' (to opt into the new behavior), or'xmlschema' (to retain the old behavior).\n",
      "  d = to_dict(os.fspath(xml), parser=parser, validate=validate)\n"
     ]
    }
   ],
   "source": [
    "img_data,meta_dict = read_czi_image(test_img_name)\n",
    "\n",
    "# get some top-level info about the RAW data\n",
    "channel_names = meta_dict['name']\n",
    "img = meta_dict['metadata']['aicsimage']\n",
    "scale = meta_dict['scale']\n",
    "channel_axis = meta_dict['channel_axis']\n"
   ]
  },
  {
   "cell_type": "markdown",
   "metadata": {},
   "source": [
    "## CHOOZE Z-SLICE\n",
    "\n",
    "Lets find the slice with the most overall intensity..."
   ]
  },
  {
   "cell_type": "markdown",
   "metadata": {},
   "source": [
    "... and get the single \"optimal\" slice of all our organelle channels...."
   ]
  },
  {
   "cell_type": "code",
   "execution_count": 4,
   "metadata": {},
   "outputs": [
    {
     "name": "stdout",
     "output_type": "stream",
     "text": [
      "choosing _optimal_ z-slice::: 8\n"
     ]
    }
   ],
   "source": [
    "ch_to_agg = ( \n",
    "    LYSO_CH ,\n",
    "    MITO_CH ,\n",
    "    GOLGI_CH ,\n",
    "    PEROXI_CH ,\n",
    "    ER_CH ,\n",
    "    LIPID_CH )\n",
    "                            \n",
    "nuc_ch = NUC_CH\n",
    "optimal_Z = find_optimal_Z(img_data, nuc_ch, ch_to_agg) \n",
    "img_2D = select_z_from_raw(img_data, optimal_Z)\n"
   ]
  },
  {
   "attachments": {},
   "cell_type": "markdown",
   "metadata": {},
   "source": [
    "## GET SOMA MASK\n",
    "\n",
    "Find the soma in our chozed Z-slice"
   ]
  },
  {
   "cell_type": "code",
   "execution_count": 5,
   "metadata": {},
   "outputs": [],
   "source": [
    "soma_mask =  fixed_infer_soma(img_2D) "
   ]
  },
  {
   "attachments": {},
   "cell_type": "markdown",
   "metadata": {},
   "source": [
    "## INFER NUCLEI OBJECT\n"
   ]
  },
  {
   "cell_type": "code",
   "execution_count": 6,
   "metadata": {},
   "outputs": [],
   "source": [
    "nuclei_object =  fixed_infer_nuclei(img_2D, soma_mask) \n"
   ]
  },
  {
   "attachments": {},
   "cell_type": "markdown",
   "metadata": {},
   "source": [
    "## GET CYTOSOL MASK\n"
   ]
  },
  {
   "cell_type": "code",
   "execution_count": 7,
   "metadata": {},
   "outputs": [],
   "source": [
    "cytosol_mask =  infer_cytosol( nuclei_object,soma_mask) \n"
   ]
  },
  {
   "attachments": {},
   "cell_type": "markdown",
   "metadata": {},
   "source": [
    "---------------------\n",
    "\n",
    "## infer ***lysosome***\n",
    "\n",
    "## summary of steps (Workflow #1 & #2)\n",
    "\n",
    "INPUT\n",
    "- channel  2\n",
    "- cytosol mask\n",
    "\n",
    "PRE-PROCESSING\n",
    "-  smooth / remove noise\n",
    "\n",
    "CORE-PROCESSING\n",
    "- enhance two classes of \"spots\"\n",
    "-  segment objects\n",
    "\n",
    "POST-PROCESSING\n",
    "  - filter objects\n",
    "\n",
    "OUTPUT\n",
    "- object ***lysosome*** \n",
    "\n",
    "\n",
    "Generally following the Allen Cell Segmenter procedure, but doing more aggressive contrast scaling than their prescribed contrast scaling.\n",
    "\n",
    "> Using Allen Cell Segmenter LAMP1 [workflow](https://www.allencell.org/cell-observations/category/lamp1).  Examples sourced from: [Notebook](/Users/ahenrie/Projects/Imaging/mcz_subcell/napari/aics-segmentation/lookup_table_demo/playground_lamp1.ipynb) and [script](/Users/ahenrie/Projects/Imaging/mcz_subcell/napari/aics-segmentation/aicssegmentation/structure_wrapper/seg_lamp1.py)\n",
    "\n"
   ]
  },
  {
   "attachments": {},
   "cell_type": "markdown",
   "metadata": {},
   "source": [
    "## INPUT prototype"
   ]
  },
  {
   "cell_type": "code",
   "execution_count": 8,
   "metadata": {},
   "outputs": [],
   "source": [
    "\n",
    "###################\n",
    "# INPUT\n",
    "###################\n",
    "raw_lyso = select_channel_from_raw(img_2D, LYSO_CH)\n"
   ]
  },
  {
   "attachments": {},
   "cell_type": "markdown",
   "metadata": {},
   "source": [
    "## PRE-PROCESSING prototype\n"
   ]
  },
  {
   "cell_type": "code",
   "execution_count": 9,
   "metadata": {},
   "outputs": [],
   "source": [
    "###################\n",
    "# PRE_PROCESSING\n",
    "###################\n",
    "\n",
    "# Linear-ish smoothing\n",
    "lysosome = min_max_intensity_normalization( raw_lyso)\n",
    "\n",
    "med_filter_size = 3   \n",
    "structure_img_median = median_filter_slice_by_slice( lysosome, size=med_filter_size  )\n",
    "\n",
    "gaussian_smoothing_sigma = 1.34\n",
    "gaussian_smoothing_truncate_range = 3.0\n",
    "structure_img_smooth = image_smoothing_gaussian_slice_by_slice(  structure_img_median,\n",
    "                                                                                            sigma=gaussian_smoothing_sigma,\n",
    "                                                                                            truncate_range = gaussian_smoothing_truncate_range )\n",
    "\n",
    "struct_img = structure_img_smooth"
   ]
  },
  {
   "attachments": {},
   "cell_type": "markdown",
   "metadata": {},
   "source": [
    "## CORE PROCESSING prototype"
   ]
  },
  {
   "cell_type": "code",
   "execution_count": 10,
   "metadata": {},
   "outputs": [],
   "source": [
    "###################\n",
    "# CORE_PROCESSING\n",
    "###################\n",
    "# dot and filiment enhancement - 2D\n",
    "\n",
    "################################\n",
    "## PARAMETERS for this step ##\n",
    "s2_param = [[5,0.09], [2.5,0.07], [1,0.01]]\n",
    "################################\n",
    "bw_spot = dot_2d_slice_by_slice_wrapper(struct_img, s2_param)\n",
    "\n",
    "\n",
    "################################\n",
    "## PARAMETERS for this step ##\n",
    "f2_param = [[1, 0.15]]\n",
    "################################\n",
    "bw_filament = filament_2d_wrapper(struct_img, f2_param)\n",
    "bw = np.logical_or(bw_spot, bw_filament)\n",
    "\n"
   ]
  },
  {
   "cell_type": "markdown",
   "metadata": {},
   "source": [
    "### POST-PROCESSING\n",
    "\n",
    "> NOTE: we are using the 3D aicssegmentation functions which wrap `scipy.ndimage` functions with a single Z rather than the `scipy.ndimage` functions directly"
   ]
  },
  {
   "cell_type": "code",
   "execution_count": 11,
   "metadata": {},
   "outputs": [],
   "source": [
    "###################\n",
    "# POST_PROCESSING\n",
    "###################\n",
    "\n",
    "################################\n",
    "## PARAMETERS for this step ##\n",
    "fill_2d = True\n",
    "fill_max_size = 25\n",
    "hole_min = 0\n",
    "################################\n",
    "\n",
    "removed_holes = hole_filling(bw, hole_min ** 2, fill_max_size ** 2, fill_2d)\n",
    "\n",
    "\n",
    "masked_img = apply_mask(removed_holes, cytosol_mask)\n",
    "\n",
    "width = 3  \n",
    "# cleaned_img = size_filter(removed_holes, # wrapper to remove_small_objects which can do slice by slice\n",
    "#                                                          min_size= width**2, \n",
    "#                                                          method = \"slice_by_slice\" ,\n",
    "#                                                          connectivity=1)\n",
    "\n",
    "cleaned_img = size_filter_2D(masked_img, # wrapper to remove_small_objects which can do slice by slice\n",
    "                                                         min_size= width ** 2, \n",
    "                                                         connectivity=1)\n"
   ]
  },
  {
   "attachments": {},
   "cell_type": "markdown",
   "metadata": {},
   "source": [
    "## Visualize with `napari` 1\n",
    "Visualize the first-pass segmentation and labeling with `napari`."
   ]
  },
  {
   "cell_type": "code",
   "execution_count": 12,
   "metadata": {},
   "outputs": [
    {
     "data": {
      "text/plain": [
       "<Image layer 'cytosol_mask' at 0x15fd81d00>"
      ]
     },
     "execution_count": 12,
     "metadata": {},
     "output_type": "execute_result"
    }
   ],
   "source": [
    "viewer = napari.Viewer()\n",
    "viewer.add_image(soma_mask,\n",
    "    scale=scale)\n",
    "viewer.add_image(nuclei_object,\n",
    "    scale=scale)\n",
    "viewer.add_image(cytosol_mask,\n",
    "    scale=scale)    "
   ]
  },
  {
   "cell_type": "code",
   "execution_count": 13,
   "metadata": {},
   "outputs": [
    {
     "data": {
      "text/plain": [
       "<Image layer 'masked_img' at 0x14236f970>"
      ]
     },
     "execution_count": 13,
     "metadata": {},
     "output_type": "execute_result"
    }
   ],
   "source": [
    "\n",
    "viewer.add_image(\n",
    "    removed_holes,\n",
    "    scale=scale\n",
    ")\n",
    "viewer.add_image(\n",
    "    masked_img,\n",
    "    scale=scale\n",
    ")\n"
   ]
  },
  {
   "cell_type": "code",
   "execution_count": 14,
   "metadata": {},
   "outputs": [
    {
     "data": {
      "text/plain": [
       "<Image layer 'structure_img_smooth' at 0x174cabee0>"
      ]
     },
     "execution_count": 14,
     "metadata": {},
     "output_type": "execute_result"
    }
   ],
   "source": [
    "\n",
    "viewer.scale_bar.visible = True\n",
    "viewer.add_image(\n",
    "    cleaned_img,\n",
    "    scale=scale\n",
    ")\n",
    "viewer.add_image(\n",
    "    structure_img_smooth,\n",
    "    scale=scale\n",
    ")"
   ]
  },
  {
   "cell_type": "markdown",
   "metadata": {},
   "source": []
  },
  {
   "attachments": {},
   "cell_type": "markdown",
   "metadata": {},
   "source": [
    "## DEFINE `_infer_lysosome` function\n",
    "\n",
    "Based on the _prototyping_ above define the function to infer the lysosomes.  \n",
    "\n"
   ]
  },
  {
   "cell_type": "code",
   "execution_count": 15,
   "metadata": {},
   "outputs": [],
   "source": [
    "##########################\n",
    "#  infer_LYSOSOMES\n",
    "##########################\n",
    "def _infer_lysosome(\n",
    "                                in_img: np.ndarray,\n",
    "                                cytosol_mask: np.ndarray,\n",
    "                                median_sz: int,\n",
    "                                gauss_sig: float,\n",
    "                                dot_scale_1: float,\n",
    "                                dot_cut_1: float,\n",
    "                                dot_scale_2: float,\n",
    "                                dot_cut_2: float,\n",
    "                                dot_scale_3: float,\n",
    "                                dot_cut_3: float,\n",
    "                                filament_scale : float,\n",
    "                                filament_cut : float,\n",
    "                                min_hole_w: int,\n",
    "                                max_hole_w: int,\n",
    "                                small_obj_w: int,\n",
    "                            ) -> np.ndarray:\n",
    "    \"\"\"\n",
    "    Procedure to infer lysosome from linearly unmixed input,\n",
    "    \n",
    "    Parameters\n",
    "    ------------\n",
    "    in_img: \n",
    "        a 3d image containing all the channels\n",
    "    cytosol_mask: \n",
    "        mask\n",
    "    median_sz: \n",
    "        width of median filter for signal\n",
    "    gauss_sig: \n",
    "        sigma for gaussian smoothing of  signal\n",
    "    dot_scale: \n",
    "        scales (log_sigma) for dot filter (1,2, and 3)\n",
    "    dot_cut: \n",
    "        threshold for dot filter thresholds (1,2,and 3)\n",
    "    filament_scale: \n",
    "        scale (log_sigma) for filament filter\n",
    "    filament_cut: \n",
    "        threshold for filament fitered threshold\n",
    "    min_hole_w: \n",
    "        hole filling min for nuclei post-processing\n",
    "    max_hole_w: \n",
    "        hole filling cutoff for nuclei post-processing\n",
    "    small_obj_w: \n",
    "        minimu object size cutoff for nuclei post-processing\n",
    "\n",
    "    Returns\n",
    "    -------------\n",
    "    lysosome_object\n",
    "        mask defined extent of lysosome object\n",
    "\n",
    "    \"\"\"\n",
    "    lyso_ch = LYSO_CH\n",
    "    ###################\n",
    "    # EXTRACT\n",
    "    ###################    \n",
    "    lyso = select_channel_from_raw(in_img, lyso_ch)\n",
    "\n",
    "     ###################\n",
    "    # PRE_PROCESSING\n",
    "    ###################    \n",
    "    lyso = min_max_intensity_normalization(lyso)\n",
    "\n",
    "    lyso = median_filter_slice_by_slice(lyso, size=median_sz)\n",
    "\n",
    "    lyso = image_smoothing_gaussian_slice_by_slice(lyso, sigma=gauss_sig)\n",
    "\n",
    "   ###################\n",
    "    # CORE_PROCESSING\n",
    "    ###################\n",
    "    # s2_param = [[5,0.09], [2.5,0.07], [1,0.01]]\n",
    "    s2_param = [    \n",
    "                [dot_scale_1, dot_cut_1],\n",
    "                [dot_scale_2, dot_cut_2],\n",
    "                [dot_scale_3, dot_cut_3]\n",
    "                ]\n",
    "    bw_spot = dot_2d_slice_by_slice_wrapper(lyso, s2_param)\n",
    "\n",
    "    f2_param = [[filament_scale, filament_cut]]\n",
    "    # f2_param = [[1, 0.15]]  # [scale_1, cutoff_1]\n",
    "    bw_filament = filament_2d_wrapper(lyso, f2_param)\n",
    "\n",
    "    bw = np.logical_or(bw_spot, bw_filament)\n",
    "\n",
    "    ###################\n",
    "    # POST_PROCESSING\n",
    "    ###################\n",
    "\n",
    "    struct_obj = hole_filling(bw, hole_min = min_hole_w **2 , hole_max=max_hole_w**2, fill_2d = True) \n",
    "\n",
    "    struct_obj = apply_mask(struct_obj, cytosol_mask)\n",
    "\n",
    "    struct_obj = size_filter_2D(struct_obj, \n",
    "                                                                min_size= small_obj_w**2, \n",
    "                                                                connectivity=1)\n",
    "                \n",
    "    return struct_obj"
   ]
  },
  {
   "attachments": {},
   "cell_type": "markdown",
   "metadata": {},
   "source": [
    "## DEFINE `_fixed_infer_lysosome` function\n"
   ]
  },
  {
   "cell_type": "code",
   "execution_count": 16,
   "metadata": {},
   "outputs": [],
   "source": [
    "\n",
    "\n",
    "##########################\n",
    "#  fixed_infer_nuclei\n",
    "##########################\n",
    "def _fixed_infer_lysosome(in_img: np.ndarray, \n",
    "                                                cytosol_mask: Optional[np.ndarray] = None\n",
    "                                            ) -> np.ndarray:\n",
    "    \"\"\"\n",
    "    Procedure to infer lysosome from linearly unmixed input with *fixed parameters*\n",
    "    Parameters\n",
    "    ------------\n",
    "    in_img: \n",
    "        a 3d image containing all the channels\n",
    "    cytosol_mask: \n",
    "        mask\n",
    "\n",
    "    Returns\n",
    "    -------------\n",
    "    lysosome_object\n",
    "        mask defined extent of NU\n",
    "    \"\"\"\n",
    "    median_sz = 4\n",
    "    gauss_sig = 1.34\n",
    "    dot_scale_1 = 5\n",
    "    dot_cut_1 = 0.09\n",
    "    dot_scale_2 = 2.5\n",
    "    dot_cut_2 = 0.07\n",
    "    dot_scale_3 = 1\n",
    "    dot_cut_3 = 0.01\n",
    "    filament_scale = 1\n",
    "    filament_cut = 0.15\n",
    "    min_hole_w = 0\n",
    "    max_hole_w = 25\n",
    "    small_obj_w = 3\n",
    "\n",
    "    return _infer_lysosome(  \n",
    "        in_img,\n",
    "        cytosol_mask,\n",
    "        median_sz,\n",
    "        gauss_sig,\n",
    "        dot_cut_1,\n",
    "        dot_scale_1,\n",
    "        dot_cut_2,\n",
    "        dot_scale_2,\n",
    "        dot_cut_3,\n",
    "        dot_scale_3,\n",
    "        filament_scale,\n",
    "        filament_cut ,\n",
    "        min_hole_w,\n",
    "        max_hole_w,\n",
    "        small_obj_w\n",
    "        )\n"
   ]
  },
  {
   "attachments": {},
   "cell_type": "markdown",
   "metadata": {},
   "source": [
    "------------------\n",
    "\n",
    "# TEST `_infer_lysosome` function defined above"
   ]
  },
  {
   "cell_type": "code",
   "execution_count": 17,
   "metadata": {},
   "outputs": [],
   "source": [
    "\n",
    "_lysosome_object =  _fixed_infer_lysosome(img_2D, cytosol_mask) \n",
    "\n"
   ]
  },
  {
   "cell_type": "code",
   "execution_count": 18,
   "metadata": {},
   "outputs": [],
   "source": [
    "from infer_subc_2d.organelles.lysosome import fixed_infer_lysosome\n",
    "\n",
    "lysosome_object =  fixed_infer_lysosome(img_2D, cytosol_mask) \n",
    "\n"
   ]
  },
  {
   "attachments": {},
   "cell_type": "markdown",
   "metadata": {},
   "source": [
    "## Visualize  2\n"
   ]
  },
  {
   "cell_type": "code",
   "execution_count": 19,
   "metadata": {},
   "outputs": [
    {
     "data": {
      "text/plain": [
       "<Image layer 'lysosome_object' at 0x176710d30>"
      ]
     },
     "execution_count": 19,
     "metadata": {},
     "output_type": "execute_result"
    }
   ],
   "source": [
    "\n",
    "viewer.add_image(\n",
    "    _lysosome_object,\n",
    "    scale=scale\n",
    ")\n",
    "viewer.add_labels(\n",
    "    label(lysosome_object),\n",
    "    scale=scale\n",
    ")\n",
    "viewer.add_image(\n",
    "    lysosome_object,\n",
    "    scale=scale\n",
    ")"
   ]
  },
  {
   "cell_type": "code",
   "execution_count": 20,
   "metadata": {},
   "outputs": [
    {
     "data": {
      "image/png": "[encoded data removed]",
      "text/html": [
       "<img src=\"data:image/png;base64,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\"></img>"
      ],
      "text/plain": [
       "<napari.utils.notebook_display.NotebookScreenshot at 0x1753ed580>"
      ]
     },
     "execution_count": 20,
     "metadata": {},
     "output_type": "execute_result"
    }
   ],
   "source": [
    "from napari.utils.notebook_display import nbscreenshot\n",
    "\n",
    "# viewer.dims.ndisplay = 3\n",
    "# viewer.camera.angles = (-30, 25, 120)\n",
    "nbscreenshot(viewer, canvas_only=True)"
   ]
  },
  {
   "cell_type": "code",
   "execution_count": 21,
   "metadata": {},
   "outputs": [],
   "source": [
    "viewer.close()"
   ]
  },
  {
   "attachments": {},
   "cell_type": "markdown",
   "metadata": {},
   "source": [
    "-----------------\n",
    "Write the `infer_lysosome` spec to the widget json "
   ]
  },
  {
   "cell_type": "code",
   "execution_count": 22,
   "metadata": {},
   "outputs": [
    {
     "name": "stdout",
     "output_type": "stream",
     "text": [
      "function fixed_infer_lysosome is already in all_functions.json\n"
     ]
    },
    {
     "data": {
      "text/plain": [
       "0"
      ]
     },
     "execution_count": 22,
     "metadata": {},
     "output_type": "execute_result"
    }
   ],
   "source": [
    "from infer_subc_2d.organelles_config.helper import add_function_spec_to_widget_json\n",
    "\n",
    "_fixed_infer_lysosome =  {\n",
    "        \"name\": \"infer lysosome  (fixed parameters)\",\n",
    "        \"python::module\": \"infer_subc_2d.organelles\",\n",
    "        \"python::function\": \"fixed_infer_lysosome\",\n",
    "        \"parameters\": None\n",
    "        }\n",
    "\n",
    "add_function_spec_to_widget_json(\"fixed_infer_lysosome\",_fixed_infer_lysosome)"
   ]
  },
  {
   "cell_type": "code",
   "execution_count": 23,
   "metadata": {},
   "outputs": [
    {
     "name": "stdout",
     "output_type": "stream",
     "text": [
      "function infer_lysosome is already in all_functions.json\n",
      "overwriting  infer_lysosome\n"
     ]
    },
    {
     "data": {
      "text/plain": [
       "1"
      ]
     },
     "execution_count": 23,
     "metadata": {},
     "output_type": "execute_result"
    }
   ],
   "source": [
    "\n",
    "_infer_lysosome =  {\n",
    "        \"name\": \"infer lysosome\",\n",
    "        \"python::module\": \"infer_subc_2d.organelles\",\n",
    "        \"python::function\": \"infer_lysosome\",\n",
    "        \"parameters\": {\n",
    "                \"median_sz\": {\n",
    "                        \"widget_type\": \"slider\",\n",
    "                        \"data_type\": \"int\",\n",
    "                        \"min\": 3,\n",
    "                        \"max\": 15,\n",
    "                        \"increment\": 1\n",
    "                },\n",
    "                \"gauss_sig\": {\n",
    "                        \"data_type\": \"float\",\n",
    "                        \"increment\": 0.25,\n",
    "                        \"max\": 15.0,\n",
    "                        \"min\": 1.25,\n",
    "                        \"widget_type\": \"slider\"\n",
    "                },\n",
    "                \"dot_scale_1\": {\n",
    "                        \"data_type\": \"float\",\n",
    "                        \"increment\": 0.05,\n",
    "                        \"max\": 10,\n",
    "                        \"min\": 0,\n",
    "                        \"widget_type\": \"slider\"\n",
    "                },\n",
    "                \"dot_cut_1\": {\n",
    "                        \"data_type\": \"float\",\n",
    "                        \"increment\": 0.001,\n",
    "                        \"max\": 0.5,\n",
    "                        \"min\": 0,\n",
    "                        \"widget_type\": \"slider\"\n",
    "                },\n",
    "                \"dot_scale_2\": {\n",
    "                        \"data_type\": \"float\",\n",
    "                        \"increment\": 0.05,\n",
    "                        \"max\": 10,\n",
    "                        \"min\": 0,\n",
    "                        \"widget_type\": \"slider\"\n",
    "                },\n",
    "                \"dot_cut_2\": {\n",
    "                        \"data_type\": \"float\",\n",
    "                        \"increment\": 0.001,\n",
    "                        \"max\": 0.5,\n",
    "                        \"min\": 0,\n",
    "                        \"widget_type\": \"slider\"\n",
    "                },\n",
    "                \"dot_scale_3\": {\n",
    "                        \"data_type\": \"float\",\n",
    "                        \"increment\": 0.05,\n",
    "                        \"max\": 10,\n",
    "                        \"min\": 0,\n",
    "                        \"widget_type\": \"slider\"\n",
    "                },\n",
    "                \"dot_cut_3\": {\n",
    "                        \"data_type\": \"float\",\n",
    "                        \"increment\": 0.001,\n",
    "                        \"max\": 0.5,\n",
    "                        \"min\": 0,\n",
    "                        \"widget_type\": \"slider\"\n",
    "                },\n",
    "                \"filament_scale\": {\n",
    "                        \"data_type\": \"float\",\n",
    "                        \"increment\": 0.05,\n",
    "                        \"max\": 10,\n",
    "                        \"min\": 0,\n",
    "                        \"widget_type\": \"slider\"\n",
    "                },\n",
    "                \"filament_cut\": {\n",
    "                        \"data_type\": \"float\",\n",
    "                        \"increment\": 0.001,\n",
    "                        \"max\": 0.5,\n",
    "                        \"min\": 0,\n",
    "                        \"widget_type\": \"slider\"\n",
    "                },\n",
    "                \"min_hole_w\": {\n",
    "                        \"data_type\": \"int\",\n",
    "                        \"increment\": 1,\n",
    "                        \"max\": 30,\n",
    "                        \"min\": 0,\n",
    "                        \"widget_type\": \"slider\"\n",
    "                },    \n",
    "                \"max_hole_w\": {\n",
    "                        \"data_type\": \"int\",\n",
    "                        \"increment\": 1,\n",
    "                        \"max\": 40,\n",
    "                        \"min\": 4,\n",
    "                        \"widget_type\": \"slider\"\n",
    "                },           \n",
    "                \"small_obj_w\": {\n",
    "                        \"data_type\": \"int\",\n",
    "                        \"increment\": 1,\n",
    "                        \"max\": 50,\n",
    "                        \"min\": 1,\n",
    "                        \"widget_type\": \"slider\"\n",
    "                }\n",
    "        }\n",
    "}\n",
    "\n",
    "add_function_spec_to_widget_json(\"infer_lysosome\", _infer_lysosome, overwrite=True )\n",
    "\n"
   ]
  },
  {
   "attachments": {},
   "cell_type": "markdown",
   "metadata": {},
   "source": [
    "##  helper function definitions\n",
    "\n",
    "Wrappers for spot and filiment filters"
   ]
  },
  {
   "cell_type": "code",
   "execution_count": 24,
   "metadata": {},
   "outputs": [],
   "source": [
    "\n",
    "def _lysosome_spot_filter(in_img: np.ndarray) -> np.ndarray:\n",
    "    \"\"\" spot filter helper function for lysosome \"\"\"\n",
    "    dot_scale_1 = 5\n",
    "    dot_cut_1 = 0.09\n",
    "    dot_scale_2 = 2.5\n",
    "    dot_cut_2 = 0.07\n",
    "    dot_scale_3 = 1\n",
    "    dot_cut_3 = 0.01\n",
    "    s2_param = [[dot_scale_1, dot_cut_1], [dot_scale_2, dot_cut_2], [dot_scale_3, dot_cut_3]]\n",
    "    return dot_2d_slice_by_slice_wrapper(in_img, s2_param)\n",
    "\n",
    "# def _lysosome_filiment_filter(in_img: np.ndarray) -> np.ndarray:\n",
    "#     \"\"\" spot filter helper function for lysosome  (DEPRICATED)\"\"\"\n",
    "#     f2_param = [[filament_scale, filament_cut]]\n",
    "#     # f2_param = [[1, 0.15]]  # [scale_1, cutoff_1]\n",
    "#     return filament_2d_wrapper(in_img, f2_param)\n",
    "\n"
   ]
  },
  {
   "cell_type": "code",
   "execution_count": 25,
   "metadata": {},
   "outputs": [
    {
     "name": "stdout",
     "output_type": "stream",
     "text": [
      "function lysosome_spot_filter is already in all_functions.json\n",
      "overwriting  lysosome_spot_filter\n"
     ]
    },
    {
     "data": {
      "text/plain": [
       "1"
      ]
     },
     "execution_count": 25,
     "metadata": {},
     "output_type": "execute_result"
    }
   ],
   "source": [
    "_lysosome_spot_filter =  {\n",
    "        \"name\": \"lysosome spot filter\",\n",
    "        \"python::module\": \"infer_subc_2d.organelles\",\n",
    "        \"python::function\": \"lysosome_spot_filter\",\n",
    "        \"parameters\": None\n",
    "        }\n",
    "\n",
    "add_function_spec_to_widget_json(\"lysosome_spot_filter\",_lysosome_spot_filter, overwrite=True)"
   ]
  },
  {
   "cell_type": "code",
   "execution_count": 26,
   "metadata": {},
   "outputs": [
    {
     "name": "stdout",
     "output_type": "stream",
     "text": [
      "function lysosome_filiment_filter is already in all_functions.json\n"
     ]
    },
    {
     "data": {
      "text/plain": [
       "0"
      ]
     },
     "execution_count": 26,
     "metadata": {},
     "output_type": "execute_result"
    }
   ],
   "source": [
    "_lysosome_filiment_filter =  {\n",
    "        \"name\": \"lysosome filiment filter\",\n",
    "        \"python::module\": \"infer_subc_2d.organelles\",\n",
    "        \"python::function\": \"lysosome_filiment_filter\",\n",
    "        \"parameters\": None\n",
    "        }\n",
    "\n",
    "add_function_spec_to_widget_json(\"lysosome_filiment_filter\",_lysosome_filiment_filter)"
   ]
  },
  {
   "cell_type": "code",
   "execution_count": 27,
   "metadata": {},
   "outputs": [
    {
     "name": "stdout",
     "output_type": "stream",
     "text": [
      "function logical_or is already in all_functions.json\n"
     ]
    },
    {
     "data": {
      "text/plain": [
       "0"
      ]
     },
     "execution_count": 27,
     "metadata": {},
     "output_type": "execute_result"
    }
   ],
   "source": [
    "_logical_or =  {\n",
    "        \"name\": \"logical or\",\n",
    "        \"python::module\": \"numpy\",\n",
    "        \"python::function\": \"logical_or\",\n",
    "        \"parameters\": None\n",
    "        }\n",
    "\n",
    "add_function_spec_to_widget_json(\"logical_or\",_logical_or)"
   ]
  },
  {
   "cell_type": "code",
   "execution_count": 28,
   "metadata": {},
   "outputs": [
    {
     "name": "stdout",
     "output_type": "stream",
     "text": [
      "function fixed_infer_nuclei is already in all_functions.json\n"
     ]
    },
    {
     "data": {
      "text/plain": [
       "0"
      ]
     },
     "execution_count": 28,
     "metadata": {},
     "output_type": "execute_result"
    }
   ],
   "source": [
    "from infer_subc_2d.organelles_config.helper import add_function_spec_to_widget_json\n",
    "\n",
    "_fixed_infer_nuclei =  {\n",
    "        \"name\": \"infer nuclei  (fixed parameters)\",\n",
    "        \"python::module\": \"infer_subc_2d.organelles\",\n",
    "        \"python::function\": \"fixed_infer_nuclei\",\n",
    "        \"parameters\": None\n",
    "        }\n",
    "\n",
    "add_function_spec_to_widget_json(\"fixed_infer_nuclei\",_fixed_infer_nuclei)"
   ]
  },
  {
   "cell_type": "code",
   "execution_count": 29,
   "metadata": {},
   "outputs": [
    {
     "name": "stdout",
     "output_type": "stream",
     "text": [
      "function label is already in all_functions.json\n"
     ]
    },
    {
     "data": {
      "text/plain": [
       "0"
      ]
     },
     "execution_count": 29,
     "metadata": {},
     "output_type": "execute_result"
    }
   ],
   "source": [
    "\n",
    "\n",
    "    # NU_labels = label(nuclei_object)\n",
    "\n",
    "_label =  {\n",
    "        \"name\": \"label objects\",\n",
    "        \"python::module\": \"skimage.measure\",\n",
    "        \"python::function\": \"label\",\n",
    "        \"parameters\": None\n",
    "        }\n",
    "# json.dumps({\"label\":_label})\n",
    "add_function_spec_to_widget_json(\"label\",_label)        \n"
   ]
  },
  {
   "attachments": {},
   "cell_type": "markdown",
   "metadata": {},
   "source": [
    "-------------------------------\n",
    "## Write workflow .json\n",
    "Now that we've added our function specs we can compose workflows."
   ]
  },
  {
   "cell_type": "code",
   "execution_count": 30,
   "metadata": {},
   "outputs": [],
   "source": [
    "from infer_subc_2d.constants import LYSO_CH\n",
    "def make_infer_lysosome_step_by_step_from_raw_dict():\n",
    "    \"\"\"\n",
    "    Procedure to infer lysosome from linearly unmixed input from raw\n",
    "\n",
    "    \"\"\"\n",
    "    step_name = []\n",
    "    function_name = []\n",
    "    category =[]\n",
    "    parameter_values = []\n",
    "    parent = []\n",
    "   \n",
    "    ###################\n",
    "    # EXTRACT\n",
    "    ###################   \n",
    "    step_name = []\n",
    "    function_name = []\n",
    "    category =[]\n",
    "    parameter_values = []\n",
    "    parent = []\n",
    "   \n",
    "    ###################\n",
    "    # EXTRACT\n",
    "    ###################   \n",
    "\n",
    "    step_name.append(\"1\")\n",
    "    function_name.append(\"fixed_get_optimal_Z_img\")\n",
    "    category.append(\"extraction\")\n",
    "    parameter_values.append(None)\n",
    "    parent.append(0)\n",
    "\n",
    "    step_name.append(\"2\")\n",
    "    function_name.append(\"fixed_infer_soma\")\n",
    "    category.append(\"extraction\")\n",
    "    parameter_values.append( None )\n",
    "    parent.append(1)\n",
    "\n",
    "    step_name.append(\"3\")\n",
    "    function_name.append(\"fixed_infer_nuclei\")\n",
    "    category.append(\"extraction\")\n",
    "    parameter_values.append( None )\n",
    "    parent.append([1,2])\n",
    "\n",
    "    step_name.append(\"4\")\n",
    "    function_name.append(\"infer_cytosol\")\n",
    "    category.append(\"extraction\")\n",
    "    parameter_values.append(dict(erode_nuclei = True ))\n",
    "    parent.append([2,3])\n",
    "\n",
    "    step_name.append(\"5\")\n",
    "    function_name.append(\"select_channel_from_raw\")\n",
    "    category.append(\"extraction\")\n",
    "    parameter_values.append( dict(chan = LYSO_CH) )\n",
    "    parent.append(1)\n",
    "    \n",
    "    step_name.append(\"6\")\n",
    "    function_name.append(\"min_max_intensity_normalization\")\n",
    "    category.append(\"preprocessing\")\n",
    "    parameter_values.append(None)\n",
    "    parent.append(5)\n",
    "\n",
    "    step_name.append(\"7\")\n",
    "    function_name.append(\"median_filter_slice_by_slice\")\n",
    "    category.append(\"preprocessing\")\n",
    "    parameter_values.append(dict(size = 4 ))\n",
    "    parent.append(6)\n",
    "\n",
    "    step_name.append(\"8\")\n",
    "    function_name.append(\"image_smoothing_gaussian_slice_by_slice\")\n",
    "    category.append(\"preprocessing\")\n",
    "    parameter_values.append(dict( sigma = 1.34 ))\n",
    "    parent.append(7)\n",
    "\n",
    "\n",
    "    step_name.append(\"9\")\n",
    "    function_name.append(\"lysosome_spot_filter\")\n",
    "    category.append(\"core\")\n",
    "    parameter_values.append( None )\n",
    "    parent.append(8)\n",
    "\n",
    "    # step_name.append(\"10\")\n",
    "    # function_name.append(\"lysosome_filiment_filter\")\n",
    "    # category.append(\"core\")\n",
    "    # parameter_values.append( None )\n",
    "    # parent.append(8)\n",
    "    step_name.append(\"10\")\n",
    "    function_name.append(\"filament_filter\") \n",
    "    category.append(\"core\")\n",
    "    parameter_values.append( dict( filament_scale=1., filament_cut=.15) )\n",
    "    parent.append(8)\n",
    "\n",
    "    step_name.append(\"11\")\n",
    "    function_name.append(\"logical_or\")\n",
    "    category.append(\"core\")\n",
    "    parameter_values.append( None )\n",
    "    parent.append([9,10])\n",
    "\n",
    "    step_name.append(\"12\")\n",
    "    function_name.append(\"hole_filling\")\n",
    "    category.append(\"postprocessing\")\n",
    "    parameter_values.append(dict( hole_min=0, hole_max=25**2, fill_2d=True))\n",
    "    parent.append(11)\n",
    "\n",
    "    step_name.append(\"13\")\n",
    "    function_name.append(\"apply_mask\")\n",
    "    category.append(\"postprocessing\")\n",
    "    parameter_values.append(None)\n",
    "    parent.append([12,4])\n",
    "\n",
    "    step_name.append(\"14\")\n",
    "    function_name.append(\"size_filter_2D\")\n",
    "    category.append(\"postprocessing\")\n",
    "    parameter_values.append(dict( min_size = 3**2  ))\n",
    "    parent.append(13)\n",
    "\n",
    "    out_dict = dict()\n",
    "    for i,stepn in enumerate(step_name):\n",
    "        entry = dict(category=category[i],\n",
    "                            function=function_name[i],\n",
    "                            parameter_values=parameter_values[i],\n",
    "                            parent=parent[i]\n",
    "        )\n",
    "        if entry['parameter_values'] is None:\n",
    "            _ = entry.pop('parameter_values')\n",
    "        out_dict[stepn] = entry\n",
    "    \n",
    "    return out_dict"
   ]
  },
  {
   "cell_type": "code",
   "execution_count": 31,
   "metadata": {},
   "outputs": [
    {
     "data": {
      "text/plain": [
       "PosixPath('/Users/ahenrie/Projects/Imaging/infer-subc-2D/infer_subc_2d/organelles_config/conf_1.4.lysosome_stepbystep_from_raw.json')"
      ]
     },
     "execution_count": 31,
     "metadata": {},
     "output_type": "execute_result"
    }
   ],
   "source": [
    "from infer_subc_2d.organelles_config.helper import write_workflow_json\n",
    "\n",
    "infer_lysosome_stepbystep_from_raw_dict = make_infer_lysosome_step_by_step_from_raw_dict()\n",
    "\n",
    "write_workflow_json(\"conf_1.4.lysosome_stepbystep_from_raw\", infer_lysosome_stepbystep_from_raw_dict)"
   ]
  },
  {
   "attachments": {},
   "cell_type": "markdown",
   "metadata": {},
   "source": [
    "-------------\n",
    "## SUMMARY\n",
    "\n",
    "The above details how the lysosome object is inferred.  \n",
    "\n",
    "### NEXT: INFER MITOCHONDRIA\n",
    "\n",
    "proceed to [05_infer_mitochondria.ipynb](./05_infer_mitochondria.ipynb)\n"
   ]
  },
  {
   "cell_type": "markdown",
   "metadata": {},
   "source": []
  }
 ],
 "metadata": {
  "kernelspec": {
   "display_name": "Python 3.9.13 ('napariNEW')",
   "language": "python",
   "name": "python3"
  },
  "language_info": {
   "codemirror_mode": {
    "name": "ipython",
    "version": 3
   },
   "file_extension": ".py",
   "mimetype": "text/x-python",
   "name": "python",
   "nbconvert_exporter": "python",
   "pygments_lexer": "ipython3",
   "version": "3.9.13 | packaged by conda-forge | (main, May 27 2022, 17:00:52) \n[Clang 13.0.1 ]"
  },
  "orig_nbformat": 4,
  "vscode": {
   "interpreter": {
    "hash": "d6148ef1fb015fb20f0b6da2ea61c87c6b848bdf3dabb03087e5d5cd0c4607e9"
   }
  }
 },
 "nbformat": 4,
 "nbformat_minor": 2
}
