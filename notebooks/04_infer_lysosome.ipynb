{
 "cells": [
  {
   "attachments": {},
   "cell_type": "markdown",
   "metadata": {},
   "source": [
    "# Infer ***lysosome*** -  4️⃣\n",
    "\n",
    "--------------\n",
    "\n",
    "## OBJECTIVE: \n",
    "### ✅ Infer sub-cellular component ***lysosome***  in order to understand interactome \n",
    "\n",
    "\n",
    "\n",
    "Dependencies:\n",
    "The ***lysosome***  inference rely on the ***cytosol*** mask.\n"
   ]
  },
  {
   "attachments": {},
   "cell_type": "markdown",
   "metadata": {},
   "source": [
    "## preamble\n",
    "\n",
    "1. imports\n",
    "2. setup\n",
    "3. get cytosol mask\n",
    "4. infer lysosomes\n",
    "    * pre-processing\n",
    "    * core processing\n",
    "    * post processing\n",
    "5. export lysosomes"
   ]
  },
  {
   "cell_type": "markdown",
   "metadata": {},
   "source": [
    "\n",
    "## IMPORTS"
   ]
  },
  {
   "cell_type": "code",
   "execution_count": 1,
   "metadata": {},
   "outputs": [],
   "source": [
    "# top level imports\n",
    "from pathlib import Path\n",
    "import os, sys\n",
    "from typing import Optional\n",
    "\n",
    "import numpy as np\n",
    "\n",
    "from aicssegmentation.core.seg_dot import dot_2d_slice_by_slice_wrapper\n",
    "from aicssegmentation.core.vessel import filament_2d_wrapper\n",
    "from skimage.measure import label\n",
    "\n",
    "import napari\n",
    "\n",
    "### import local python functions in ../infer_subc_2d\n",
    "sys.path.append(os.path.abspath((os.path.join(os.getcwd(), '..'))))\n",
    "\n",
    "\n",
    "from infer_subc_2d.core.file_io import (read_czi_image,\n",
    "                                                                    read_ome_image,\n",
    "                                                                    export_inferred_organelle,\n",
    "                                                                    import_inferred_organelle,\n",
    "                                                                    list_image_files)\n",
    "from infer_subc_2d.core.img import *\n",
    "from infer_subc_2d.organelles import fixed_infer_cellmask_fromaggr_MCZ, fixed_infer_nuclei, infer_cytoplasm\n",
    "\n",
    "%load_ext autoreload\n",
    "%autoreload 2\n",
    "\n"
   ]
  },
  {
   "cell_type": "markdown",
   "metadata": {},
   "source": [
    "\n",
    "## SETUP\n",
    "\n",
    "\n",
    "CUSTOMIZE WITH: \n",
    "1. updated path to data\n",
    "2. updated folder name for \"raw\" data\n",
    "\n",
    "> NOTE: we are operating on a single \"test\" image in this notebook.  The batch-processing of all the images will be happen at the end of the notebook after we have developed/confirmed the setmentation procedures and parameter settings.\n"
   ]
  },
  {
   "cell_type": "code",
   "execution_count": 2,
   "metadata": {},
   "outputs": [],
   "source": [
    "# NOTE:  these \"constants\" are only accurate for the testing MCZ dataset\n",
    "from infer_subc_2d.constants import (TEST_IMG_N,\n",
    "                                                                    NUC_CH ,\n",
    "                                                                    LYSO_CH ,\n",
    "                                                                    MITO_CH ,\n",
    "                                                                    GOLGI_CH ,\n",
    "                                                                    PEROX_CH ,\n",
    "                                                                    ER_CH ,\n",
    "                                                                    LD_CH ,\n",
    "                                                                    RESIDUAL_CH )              "
   ]
  },
  {
   "attachments": {},
   "cell_type": "markdown",
   "metadata": {},
   "source": [
    "\n",
    "## SETUP"
   ]
  },
  {
   "cell_type": "code",
   "execution_count": 3,
   "metadata": {},
   "outputs": [],
   "source": [
    "# this will be the example image for testing the pipeline below\n",
    "test_img_n = TEST_IMG_N\n",
    "\n",
    "# build the datapath\n",
    "# all the imaging data goes here.\n",
    "data_root_path = Path(os.path.expanduser(\"~\")) / \"Projects/Imaging/data\"\n",
    "\n",
    "# linearly unmixed \".czi\" files are here\n",
    "in_data_path = data_root_path / \"raw\"\n",
    "im_type = \".czi\"\n",
    "\n",
    "# get the list of all files\n",
    "img_file_list = list_image_files(in_data_path,im_type)\n",
    "test_img_name = img_file_list[test_img_n]\n",
    "\n",
    "# save output \".tiff\" files here\n",
    "out_data_path = data_root_path / \"out\"\n",
    "\n",
    "if not Path.exists(out_data_path):\n",
    "    Path.mkdir(out_data_path)\n",
    "    print(f\"making {out_data_path}\")"
   ]
  },
  {
   "cell_type": "code",
   "execution_count": 4,
   "metadata": {},
   "outputs": [
    {
     "name": "stderr",
     "output_type": "stream",
     "text": [
      "/opt/anaconda3/envs/napariNEW/lib/python3.9/site-packages/ome_types/_convenience.py:106: FutureWarning: The default XML parser will be changing from 'xmlschema' to 'lxml' in version 0.4.0.  To silence this warning, please provide the `parser` argument, specifying either 'lxml' (to opt into the new behavior), or'xmlschema' (to retain the old behavior).\n",
      "  d = to_dict(os.fspath(xml), parser=parser, validate=validate)\n"
     ]
    }
   ],
   "source": [
    "img_data,meta_dict = read_czi_image(test_img_name)\n",
    "\n",
    "# get some top-level info about the RAW data\n",
    "channel_names = meta_dict['name']\n",
    "img = meta_dict['metadata']['aicsimage']\n",
    "scale = meta_dict['scale']\n",
    "channel_axis = meta_dict['channel_axis']\n"
   ]
  },
  {
   "attachments": {},
   "cell_type": "markdown",
   "metadata": {},
   "source": [
    "## GET CYTOSOL MASK\n",
    "\n"
   ]
  },
  {
   "cell_type": "code",
   "execution_count": 5,
   "metadata": {},
   "outputs": [
    {
     "name": "stdout",
     "output_type": "stream",
     "text": [
      "loaded cytosol mask from /Users/ahenrie/Projects/Imaging/data/out\n"
     ]
    }
   ],
   "source": [
    "\n",
    "# nuclei_fname = \"/Users/ahenrie/Projects/Imaging/data/out/nuclei_ZSTACK_PBTOhNGN2hiPSCs_BR3_N04_Unmixed.ome.tiff\"\n",
    "\n",
    "cytoplasm_mask = import_inferred_organelle(\"cytosol\", meta_dict, out_data_path)\n",
    "\n",
    "if cytoplasm_mask is None:\n",
    "    nuclei =  fixed_infer_nuclei(img_data) \n",
    "    cellmask = fixed_infer_cellmask_fromaggr_MCZ(img_data, nuclei)\n",
    "    nucleus_obj =  apply_mask(nuclei, cellmask) \n",
    "    cytoplasm_mask =  infer_cytoplasm(cellmask, nucleus_obj, erode_nuclei=False) \n",
    "    out_file_n = export_inferred_organelle(cytoplasm_mask, \"cytosol\", meta_dict, out_data_path)\n",
    "    print(f\"calculated cytosol mask. wrote {out_file_n}\")\n",
    "else:\n",
    "    print(f\"loaded cytosol mask from {out_data_path}\")\n"
   ]
  },
  {
   "attachments": {},
   "cell_type": "markdown",
   "metadata": {},
   "source": [
    "---------------------\n",
    "\n",
    "## infer ***lysosome***\n",
    "\n",
    "## summary of steps (Workflow #1 & #2)\n",
    "\n",
    "INPUT\n",
    "- channel  2\n",
    "- cytosol mask\n",
    "\n",
    "PRE-PROCESSING\n",
    "-  smooth / remove noise\n",
    "\n",
    "CORE-PROCESSING\n",
    "- enhance two classes of \"spots\"\n",
    "-  segment objects\n",
    "\n",
    "POST-PROCESSING\n",
    "  - filter objects\n",
    "\n",
    "OUTPUT\n",
    "- object ***lysosome*** \n",
    "\n",
    "\n",
    "Generally following the Allen Cell Segmenter procedure, but doing more aggressive contrast scaling than their prescribed contrast scaling.\n",
    "\n",
    "> Using Allen Cell Segmenter LAMP1 [workflow](https://www.allencell.org/cell-observations/category/lamp1).  Examples sourced from: [Notebook](/Users/ahenrie/Projects/Imaging/mcz_subcell/napari/aics-segmentation/lookup_table_demo/playground_lamp1.ipynb) and [script](/Users/ahenrie/Projects/Imaging/mcz_subcell/napari/aics-segmentation/aicssegmentation/structure_wrapper/seg_lamp1.py)\n",
    "\n"
   ]
  },
  {
   "attachments": {},
   "cell_type": "markdown",
   "metadata": {},
   "source": [
    "## INPUT prototype"
   ]
  },
  {
   "cell_type": "code",
   "execution_count": 6,
   "metadata": {},
   "outputs": [],
   "source": [
    "\n",
    "###################\n",
    "# INPUT\n",
    "###################\n",
    "raw_lyso = select_channel_from_raw(img_data, LYSO_CH)\n"
   ]
  },
  {
   "attachments": {},
   "cell_type": "markdown",
   "metadata": {},
   "source": [
    "## PRE-PROCESSING prototype\n"
   ]
  },
  {
   "cell_type": "code",
   "execution_count": 7,
   "metadata": {},
   "outputs": [],
   "source": [
    "###################\n",
    "# PRE_PROCESSING\n",
    "###################\n",
    "med_filter_size = 3   \n",
    "gaussian_smoothing_sigma = 1.34\n",
    "\n",
    "# # Linear-ish smoothing\n",
    "# lysosome = min_max_intensity_normalization( raw_lyso)\n",
    "# structure_img_median = median_filter_slice_by_slice( lysosome, size=med_filter_size  )\n",
    "# structure_img_smooth = image_smoothing_gaussian_slice_by_slice(  structure_img_median,\n",
    "#                                                                                             sigma=gaussian_smoothing_sigma )\n",
    "\n",
    "struct_img =  scale_and_smooth(raw_lyso,\n",
    "                                                    median_sz = med_filter_size, \n",
    "                                                    gauss_sig = gaussian_smoothing_sigma)"
   ]
  },
  {
   "attachments": {},
   "cell_type": "markdown",
   "metadata": {},
   "source": [
    "## CORE PROCESSING prototype"
   ]
  },
  {
   "cell_type": "code",
   "execution_count": 8,
   "metadata": {},
   "outputs": [],
   "source": [
    "###################\n",
    "# CORE_PROCESSING\n",
    "###################\n",
    "## PARAMETERS for this step ##\n",
    "s2_param = [[5,0.09], [2.5,0.07], [1,0.01]]\n",
    "################################\n",
    "bw_spot = dot_2d_slice_by_slice_wrapper(struct_img, s2_param)\n",
    "\n",
    "\n",
    "################################\n",
    "## PARAMETERS for this step ##\n",
    "f2_param = [[1, 0.15]]\n",
    "################################\n",
    "bw_filament = filament_2d_wrapper(struct_img, f2_param)\n",
    "bw = np.logical_or(bw_spot, bw_filament)\n"
   ]
  },
  {
   "cell_type": "markdown",
   "metadata": {},
   "source": [
    "### POST-PROCESSING\n",
    "\n",
    "> NOTE: we are using the 3D aicssegmentation functions which wrap `scipy.ndimage` functions with a single Z rather than the `scipy.ndimage` functions directly"
   ]
  },
  {
   "cell_type": "code",
   "execution_count": 9,
   "metadata": {},
   "outputs": [],
   "source": [
    "###################\n",
    "# POST_PROCESSING\n",
    "###################\n",
    "\n",
    "################################\n",
    "## PARAMETERS for this step ##\n",
    "fill_2d = True\n",
    "fill_max_size = 25\n",
    "hole_min = 0\n",
    "################################\n",
    "removed_holes = hole_filling_linear_size(bw, hole_min=0, hole_max=fill_max_size)\n",
    "\n",
    "small_object_width = 3  \n",
    "cleaned_img = size_filter_linear_size(removed_holes, # wrapper to remove_small_objects which can do slice by slice\n",
    "                                                         min_size= small_object_width, \n",
    "                                                         connectivity=1)\n",
    "\n",
    "cleaned_img2 = fill_and_filter_linear_size(bw, hole_min=0, hole_max=fill_max_size, min_size= small_object_width)\n",
    "\n",
    "#DEPRICATE masking until stat collection\n",
    "# masked_img = apply_mask(cleaned_img, cytoplasm_mask)\n"
   ]
  },
  {
   "attachments": {},
   "cell_type": "markdown",
   "metadata": {},
   "source": [
    "## Visualize with `napari` 1\n",
    "Visualize the first-pass segmentation and labeling with `napari`."
   ]
  },
  {
   "cell_type": "code",
   "execution_count": 10,
   "metadata": {},
   "outputs": [
    {
     "data": {
      "text/plain": [
       "<Image layer 'cytoplasm_mask' at 0x14b7da160>"
      ]
     },
     "execution_count": 10,
     "metadata": {},
     "output_type": "execute_result"
    }
   ],
   "source": [
    "viewer = napari.Viewer()\n",
    "\n",
    "viewer.add_image(cytoplasm_mask)    "
   ]
  },
  {
   "cell_type": "markdown",
   "metadata": {},
   "source": []
  },
  {
   "cell_type": "code",
   "execution_count": 11,
   "metadata": {},
   "outputs": [
    {
     "data": {
      "text/plain": [
       "<Image layer 'removed_holes' at 0x10f7037c0>"
      ]
     },
     "execution_count": 11,
     "metadata": {},
     "output_type": "execute_result"
    }
   ],
   "source": [
    "\n",
    "viewer.add_image(\n",
    "    removed_holes,\n",
    ")\n"
   ]
  },
  {
   "cell_type": "code",
   "execution_count": 12,
   "metadata": {},
   "outputs": [
    {
     "data": {
      "text/plain": [
       "<Image layer 'cleaned_img' at 0x16e2a6ac0>"
      ]
     },
     "execution_count": 12,
     "metadata": {},
     "output_type": "execute_result"
    }
   ],
   "source": [
    "\n",
    "viewer.scale_bar.visible = True\n",
    "viewer.add_image(\n",
    "    cleaned_img,\n",
    ")\n"
   ]
  },
  {
   "cell_type": "markdown",
   "metadata": {},
   "source": []
  },
  {
   "attachments": {},
   "cell_type": "markdown",
   "metadata": {},
   "source": [
    "## DEFINE `_infer_lyso` function\n",
    "\n",
    "Based on the _prototyping_ above define the function to infer the lysosomes.  \n",
    "\n"
   ]
  },
  {
   "cell_type": "code",
   "execution_count": 13,
   "metadata": {},
   "outputs": [],
   "source": [
    "##########################\n",
    "#  infer_LYSOSOMES\n",
    "##########################\n",
    "def _infer_lyso(\n",
    "                                in_img: np.ndarray,\n",
    "                                median_sz: int,\n",
    "                                gauss_sig: float,\n",
    "                                dot_scale_1: float,\n",
    "                                dot_cut_1: float,\n",
    "                                dot_scale_2: float,\n",
    "                                dot_cut_2: float,\n",
    "                                dot_scale_3: float,\n",
    "                                dot_cut_3: float,\n",
    "                                filament_scale : float,\n",
    "                                filament_cut : float,\n",
    "                                min_hole_w: int,\n",
    "                                max_hole_w: int,\n",
    "                                small_obj_w: int,\n",
    "                            ) -> np.ndarray:\n",
    "    \"\"\"\n",
    "    Procedure to infer lysosome from linearly unmixed input,\n",
    "    \n",
    "    Parameters\n",
    "    ------------\n",
    "    in_img: \n",
    "        a 3d image containing all the channels\n",
    "    median_sz: \n",
    "        width of median filter for signal\n",
    "    gauss_sig: \n",
    "        sigma for gaussian smoothing of  signal\n",
    "    dot_scale: \n",
    "        scales (log_sigma) for dot filter (1,2, and 3)\n",
    "    dot_cut: \n",
    "        threshold for dot filter thresholds (1,2,and 3)\n",
    "    filament_scale: \n",
    "        scale (log_sigma) for filament filter\n",
    "    filament_cut: \n",
    "        threshold for filament fitered threshold\n",
    "    min_hole_w: \n",
    "        hole filling min for nuclei post-processing\n",
    "    max_hole_w: \n",
    "        hole filling cutoff for nuclei post-processing\n",
    "    small_obj_w: \n",
    "        minimu object size cutoff for nuclei post-processing\n",
    "\n",
    "    Returns\n",
    "    -------------\n",
    "    lyso_object\n",
    "        mask defined extent of lysosome object\n",
    "\n",
    "    \"\"\"\n",
    "    lyso_ch = LYSO_CH\n",
    "    ###################\n",
    "    # EXTRACT\n",
    "    ###################    \n",
    "    lyso = select_channel_from_raw(in_img, lyso_ch)\n",
    "\n",
    "     ###################\n",
    "    # PRE_PROCESSING\n",
    "    ###################    \n",
    "    # lyso = min_max_intensity_normalization(lyso)\n",
    "    # lyso = median_filter_slice_by_slice(lyso, size=median_sz)\n",
    "    # lyso = image_smoothing_gaussian_slice_by_slice(lyso, sigma=gauss_sig)\n",
    "    lyso =  scale_and_smooth(lyso,\n",
    "                                                    median_sz = median_sz, \n",
    "                                                    gauss_sig = gauss_sig)\n",
    "   ###################\n",
    "    # CORE_PROCESSING\n",
    "    ###################\n",
    "    # s2_param = [[5,0.09], [2.5,0.07], [1,0.01]]\n",
    "    s2_param = [    \n",
    "                [dot_scale_1, dot_cut_1],\n",
    "                [dot_scale_2, dot_cut_2],\n",
    "                [dot_scale_3, dot_cut_3]\n",
    "                ]\n",
    "    bw_spot = dot_2d_slice_by_slice_wrapper(lyso, s2_param)\n",
    "\n",
    "    f2_param = [[filament_scale, filament_cut]]\n",
    "    # f2_param = [[1, 0.15]]  # [scale_1, cutoff_1]\n",
    "    bw_filament = filament_2d_wrapper(lyso, f2_param)\n",
    "\n",
    "    bw = np.logical_or(bw_spot, bw_filament)\n",
    "\n",
    "    ###################\n",
    "    # POST_PROCESSING\n",
    "    ###################\n",
    "    # struct_obj = hole_filling_linear_size(bw, hole_min=min_hole_w, hole_max=max_hole_w)\n",
    "    # struct_obj = size_filter_linear_size(struct_obj, # wrapper to remove_small_objects which can do slice by slice\n",
    "    #                                                         min_size= small_obj_w, \n",
    "    #                                                         connectivity=1)\n",
    "    struct_obj = fill_and_filter_linear_size(bw, hole_min=0, hole_max=max_hole_w, min_size= small_obj_w)\n",
    "\n",
    "    return struct_obj"
   ]
  },
  {
   "attachments": {},
   "cell_type": "markdown",
   "metadata": {},
   "source": [
    "## DEFINE `_fixed_infer_lyso` function\n"
   ]
  },
  {
   "cell_type": "code",
   "execution_count": 14,
   "metadata": {},
   "outputs": [],
   "source": [
    "\n",
    "\n",
    "##########################\n",
    "#  fixed_infer_nuclei\n",
    "##########################\n",
    "def _fixed_infer_lyso(in_img: np.ndarray  ) -> np.ndarray:\n",
    "    \"\"\"\n",
    "    Procedure to infer lysosome from linearly unmixed input with *fixed parameters*\n",
    "    Parameters\n",
    "    ------------\n",
    "    in_img: \n",
    "        a 3d image containing all the channels\n",
    "\n",
    "    Returns\n",
    "    -------------\n",
    "    lyso_object\n",
    "        mask defined extent of NU\n",
    "    \"\"\"\n",
    "    median_sz = 4\n",
    "    gauss_sig = 1.34\n",
    "    dot_scale_1 = 5\n",
    "    dot_cut_1 = 0.09\n",
    "    dot_scale_2 = 2.5\n",
    "    dot_cut_2 = 0.07\n",
    "    dot_scale_3 = 1\n",
    "    dot_cut_3 = 0.01\n",
    "    filament_scale = 1\n",
    "    filament_cut = 0.15\n",
    "    min_hole_w = 0\n",
    "    max_hole_w = 25\n",
    "    small_obj_w = 3\n",
    "\n",
    "    return _infer_lyso(  \n",
    "        in_img,\n",
    "        median_sz,\n",
    "        gauss_sig,\n",
    "        dot_cut_1,\n",
    "        dot_scale_1,\n",
    "        dot_cut_2,\n",
    "        dot_scale_2,\n",
    "        dot_cut_3,\n",
    "        dot_scale_3,\n",
    "        filament_scale,\n",
    "        filament_cut ,\n",
    "        min_hole_w,\n",
    "        max_hole_w,\n",
    "        small_obj_w\n",
    "        )\n"
   ]
  },
  {
   "attachments": {},
   "cell_type": "markdown",
   "metadata": {},
   "source": [
    "------------------\n",
    "\n",
    "# TEST `_infer_lyso` function defined above"
   ]
  },
  {
   "cell_type": "code",
   "execution_count": 15,
   "metadata": {},
   "outputs": [],
   "source": [
    "\n",
    "_lyso_object =  _fixed_infer_lyso(img_data) \n",
    "\n"
   ]
  },
  {
   "cell_type": "code",
   "execution_count": 16,
   "metadata": {},
   "outputs": [],
   "source": [
    "from infer_subc_2d.organelles.lysosome import fixed_infer_lyso\n",
    "\n",
    "lyso_object =  fixed_infer_lyso(img_data) \n",
    "\n"
   ]
  },
  {
   "attachments": {},
   "cell_type": "markdown",
   "metadata": {},
   "source": [
    "## Visualize  2\n"
   ]
  },
  {
   "cell_type": "code",
   "execution_count": 17,
   "metadata": {},
   "outputs": [
    {
     "data": {
      "text/plain": [
       "<Image layer 'lyso_object' at 0x171dbe1f0>"
      ]
     },
     "execution_count": 17,
     "metadata": {},
     "output_type": "execute_result"
    }
   ],
   "source": [
    "\n",
    "viewer.add_image(\n",
    "    _lyso_object,\n",
    "    scale=scale\n",
    ")\n",
    "viewer.add_labels(\n",
    "    label(lyso_object),\n",
    "    scale=scale\n",
    ")\n",
    "viewer.add_image(\n",
    "    lyso_object,\n",
    "    scale=scale\n",
    ")"
   ]
  },
  {
   "cell_type": "code",
   "execution_count": 18,
   "metadata": {},
   "outputs": [
    {
     "data": {
      "image/png": "[encoded data removed]",
      "text/html": [
       "<img src=\"data:image/png;base64,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\"></img>"
      ],
      "text/plain": [
       "<napari.utils.notebook_display.NotebookScreenshot at 0x1717d29a0>"
      ]
     },
     "execution_count": 18,
     "metadata": {},
     "output_type": "execute_result"
    }
   ],
   "source": [
    "from napari.utils.notebook_display import nbscreenshot\n",
    "\n",
    "# viewer.dims.ndisplay = 3\n",
    "# viewer.camera.angles = (-30, 25, 120)\n",
    "nbscreenshot(viewer, canvas_only=True)"
   ]
  },
  {
   "cell_type": "code",
   "execution_count": 19,
   "metadata": {},
   "outputs": [],
   "source": [
    "viewer.close()"
   ]
  },
  {
   "attachments": {},
   "cell_type": "markdown",
   "metadata": {},
   "source": [
    "-----------------\n",
    "Write the `infer_lyso` spec to the widget json "
   ]
  },
  {
   "attachments": {},
   "cell_type": "markdown",
   "metadata": {},
   "source": [
    "-------------\n",
    "## SUMMARY\n",
    "\n",
    "The above details how the lysosome object is inferred.  \n",
    "\n",
    "### NEXT: INFER MITOCHONDRIA\n",
    "\n",
    "proceed to [05_infer_mito.ipynb](./05_infer_mito.ipynb)\n"
   ]
  },
  {
   "cell_type": "markdown",
   "metadata": {},
   "source": []
  }
 ],
 "metadata": {
  "kernelspec": {
   "display_name": "Python 3.9.13 ('napariNEW')",
   "language": "python",
   "name": "python3"
  },
  "language_info": {
   "codemirror_mode": {
    "name": "ipython",
    "version": 3
   },
   "file_extension": ".py",
   "mimetype": "text/x-python",
   "name": "python",
   "nbconvert_exporter": "python",
   "pygments_lexer": "ipython3",
   "version": "3.9.16"
  },
  "orig_nbformat": 4,
  "vscode": {
   "interpreter": {
    "hash": "d6148ef1fb015fb20f0b6da2ea61c87c6b848bdf3dabb03087e5d5cd0c4607e9"
   }
  }
 },
 "nbformat": 4,
 "nbformat_minor": 2
}
