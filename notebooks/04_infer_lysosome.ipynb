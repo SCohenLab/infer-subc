{
 "cells": [
  {
   "attachments": {},
   "cell_type": "markdown",
   "metadata": {},
   "source": [
    "# Infer ***lysosome*** -  4️⃣\n",
    "\n",
    "--------------\n",
    "\n",
    "## OBJECTIVE: \n",
    "### ✅ Infer sub-cellular component ***lysosome***  in order to understand interactome \n",
    "\n",
    "\n",
    "\n",
    "Dependencies:\n",
    "The ***lysosome***  inference rely on the ***cytosol*** mask.\n"
   ]
  },
  {
   "attachments": {},
   "cell_type": "markdown",
   "metadata": {},
   "source": [
    "## preamble\n",
    "\n",
    "1. imports\n",
    "2. setup\n",
    "3. get cytosol mask\n",
    "4. infer lysosomes\n",
    "    * pre-processing\n",
    "    * core processing\n",
    "    * post processing\n",
    "5. export lysosomes"
   ]
  },
  {
   "cell_type": "markdown",
   "metadata": {},
   "source": [
    "\n",
    "## IMPORTS"
   ]
  },
  {
   "cell_type": "code",
   "execution_count": 6,
   "metadata": {},
   "outputs": [
    {
     "name": "stdout",
     "output_type": "stream",
     "text": [
      "The autoreload extension is already loaded. To reload it, use:\n",
      "  %reload_ext autoreload\n"
     ]
    }
   ],
   "source": [
    "# top level imports\n",
    "from pathlib import Path\n",
    "import os, sys\n",
    "from typing import Optional\n",
    "\n",
    "import numpy as np\n",
    "\n",
    "from aicssegmentation.core.seg_dot import dot_2d_slice_by_slice_wrapper\n",
    "from aicssegmentation.core.vessel import filament_2d_wrapper\n",
    "from skimage.measure import label\n",
    "\n",
    "import napari\n",
    "\n",
    "### import local python functions in ../infer_subc_2d\n",
    "sys.path.append(os.path.abspath((os.path.join(os.getcwd(), '..'))))\n",
    "\n",
    "\n",
    "from infer_subc_2d.utils.file_io import (read_czi_image,\n",
    "                                                                    read_ome_image,\n",
    "                                                                    export_inferred_organelle,\n",
    "                                                                    import_inferred_organelle,\n",
    "                                                                    list_image_files)\n",
    "from infer_subc_2d.utils.img import *\n",
    "from infer_subc_2d.organelles import fixed_infer_soma_MCZ, fixed_infer_nuclei, infer_cytosol\n",
    "\n",
    "%load_ext autoreload\n",
    "%autoreload 2\n",
    "\n"
   ]
  },
  {
   "cell_type": "markdown",
   "metadata": {},
   "source": [
    "\n",
    "## SETUP\n",
    "\n",
    "\n",
    "CUSTOMIZE WITH: \n",
    "1. updated path to data\n",
    "2. updated folder name for \"raw\" data\n",
    "\n",
    "> NOTE: we are operating on a single \"test\" image in this notebook.  The batch-processing of all the images will be happen at the end of the notebook after we have developed/confirmed the setmentation procedures and parameter settings.\n"
   ]
  },
  {
   "cell_type": "code",
   "execution_count": 7,
   "metadata": {},
   "outputs": [],
   "source": [
    "# NOTE:  these \"constants\" are only accurate for the testing MCZ dataset\n",
    "from infer_subc_2d.constants import (TEST_IMG_N,\n",
    "                                                                    NUC_CH ,\n",
    "                                                                    LYSO_CH ,\n",
    "                                                                    MITO_CH ,\n",
    "                                                                    GOLGI_CH ,\n",
    "                                                                    PEROXI_CH ,\n",
    "                                                                    ER_CH ,\n",
    "                                                                    LIPID_CH ,\n",
    "                                                                    RESIDUAL_CH )              "
   ]
  },
  {
   "attachments": {},
   "cell_type": "markdown",
   "metadata": {},
   "source": [
    "\n",
    "## SETUP"
   ]
  },
  {
   "cell_type": "code",
   "execution_count": 8,
   "metadata": {},
   "outputs": [],
   "source": [
    "# this will be the example image for testing the pipeline below\n",
    "test_img_n = TEST_IMG_N\n",
    "\n",
    "# build the datapath\n",
    "# all the imaging data goes here.\n",
    "data_root_path = Path(os.path.expanduser(\"~\")) / \"Projects/Imaging/data\"\n",
    "\n",
    "# linearly unmixed \".czi\" files are here\n",
    "in_data_path = data_root_path / \"raw\"\n",
    "im_type = \".czi\"\n",
    "\n",
    "# get the list of all files\n",
    "img_file_list = list_image_files(in_data_path,im_type)\n",
    "test_img_name = img_file_list[test_img_n]\n",
    "\n",
    "# save output \".tiff\" files here\n",
    "out_data_path = data_root_path / \"out\"\n",
    "\n",
    "if not Path.exists(out_data_path):\n",
    "    Path.mkdir(out_data_path)\n",
    "    print(f\"making {out_data_path}\")"
   ]
  },
  {
   "cell_type": "code",
   "execution_count": 9,
   "metadata": {},
   "outputs": [
    {
     "name": "stderr",
     "output_type": "stream",
     "text": [
      "/opt/anaconda3/envs/napariNEW/lib/python3.9/site-packages/ome_types/_convenience.py:106: FutureWarning: The default XML parser will be changing from 'xmlschema' to 'lxml' in version 0.4.0.  To silence this warning, please provide the `parser` argument, specifying either 'lxml' (to opt into the new behavior), or'xmlschema' (to retain the old behavior).\n",
      "  d = to_dict(os.fspath(xml), parser=parser, validate=validate)\n"
     ]
    }
   ],
   "source": [
    "img_data,meta_dict = read_czi_image(test_img_name)\n",
    "\n",
    "# get some top-level info about the RAW data\n",
    "channel_names = meta_dict['name']\n",
    "img = meta_dict['metadata']['aicsimage']\n",
    "scale = meta_dict['scale']\n",
    "channel_axis = meta_dict['channel_axis']\n"
   ]
  },
  {
   "attachments": {},
   "cell_type": "markdown",
   "metadata": {},
   "source": [
    "## GET CYTOSOL MASK\n",
    "\n"
   ]
  },
  {
   "cell_type": "code",
   "execution_count": 10,
   "metadata": {},
   "outputs": [
    {
     "name": "stdout",
     "output_type": "stream",
     "text": [
      "loaded cytosol mask from /Users/ahenrie/Projects/Imaging/data/out\n"
     ]
    }
   ],
   "source": [
    "\n",
    "# nuclei_fname = \"/Users/ahenrie/Projects/Imaging/data/out/nuclei_ZSTACK_PBTOhNGN2hiPSCs_BR3_N04_Unmixed.ome.tiff\"\n",
    "\n",
    "cytosol_mask = import_inferred_organelle(\"cytosol\", meta_dict, out_data_path)\n",
    "\n",
    "if cytosol_mask is None:\n",
    "    nuclei =  fixed_infer_nuclei(img_data) \n",
    "    soma = fixed_infer_soma_MCZ(img_data, nuclei)\n",
    "    nucleus_obj =  apply_mask(nuclei, soma) \n",
    "    cytosol_mask =  infer_cytosol(soma, nucleus_obj, erode_nuclei=False) \n",
    "    out_file_n = export_inferred_organelle(cytosol_mask, \"cytosol\", meta_dict, out_data_path)\n",
    "    print(f\"calculated cytosol mask. wrote {out_file_n}\")\n",
    "else:\n",
    "    print(f\"loaded cytosol mask from {out_data_path}\")\n"
   ]
  },
  {
   "attachments": {},
   "cell_type": "markdown",
   "metadata": {},
   "source": [
    "---------------------\n",
    "\n",
    "## infer ***lysosome***\n",
    "\n",
    "## summary of steps (Workflow #1 & #2)\n",
    "\n",
    "INPUT\n",
    "- channel  2\n",
    "- cytosol mask\n",
    "\n",
    "PRE-PROCESSING\n",
    "-  smooth / remove noise\n",
    "\n",
    "CORE-PROCESSING\n",
    "- enhance two classes of \"spots\"\n",
    "-  segment objects\n",
    "\n",
    "POST-PROCESSING\n",
    "  - filter objects\n",
    "\n",
    "OUTPUT\n",
    "- object ***lysosome*** \n",
    "\n",
    "\n",
    "Generally following the Allen Cell Segmenter procedure, but doing more aggressive contrast scaling than their prescribed contrast scaling.\n",
    "\n",
    "> Using Allen Cell Segmenter LAMP1 [workflow](https://www.allencell.org/cell-observations/category/lamp1).  Examples sourced from: [Notebook](/Users/ahenrie/Projects/Imaging/mcz_subcell/napari/aics-segmentation/lookup_table_demo/playground_lamp1.ipynb) and [script](/Users/ahenrie/Projects/Imaging/mcz_subcell/napari/aics-segmentation/aicssegmentation/structure_wrapper/seg_lamp1.py)\n",
    "\n"
   ]
  },
  {
   "attachments": {},
   "cell_type": "markdown",
   "metadata": {},
   "source": [
    "## INPUT prototype"
   ]
  },
  {
   "cell_type": "code",
   "execution_count": 11,
   "metadata": {},
   "outputs": [],
   "source": [
    "\n",
    "###################\n",
    "# INPUT\n",
    "###################\n",
    "raw_lyso = select_channel_from_raw(img_data, LYSO_CH)\n"
   ]
  },
  {
   "attachments": {},
   "cell_type": "markdown",
   "metadata": {},
   "source": [
    "## PRE-PROCESSING prototype\n"
   ]
  },
  {
   "cell_type": "code",
   "execution_count": 12,
   "metadata": {},
   "outputs": [],
   "source": [
    "###################\n",
    "# PRE_PROCESSING\n",
    "###################\n",
    "med_filter_size = 3   \n",
    "gaussian_smoothing_sigma = 1.34\n",
    "\n",
    "# # Linear-ish smoothing\n",
    "# lysosome = min_max_intensity_normalization( raw_lyso)\n",
    "# structure_img_median = median_filter_slice_by_slice( lysosome, size=med_filter_size  )\n",
    "# structure_img_smooth = image_smoothing_gaussian_slice_by_slice(  structure_img_median,\n",
    "#                                                                                             sigma=gaussian_smoothing_sigma )\n",
    "\n",
    "struct_img =  scale_and_smooth(raw_lyso,\n",
    "                                                    median_sz = med_filter_size, \n",
    "                                                    gauss_sig = gaussian_smoothing_sigma)"
   ]
  },
  {
   "attachments": {},
   "cell_type": "markdown",
   "metadata": {},
   "source": [
    "## CORE PROCESSING prototype"
   ]
  },
  {
   "cell_type": "code",
   "execution_count": 13,
   "metadata": {},
   "outputs": [],
   "source": [
    "###################\n",
    "# CORE_PROCESSING\n",
    "###################\n",
    "## PARAMETERS for this step ##\n",
    "s2_param = [[5,0.09], [2.5,0.07], [1,0.01]]\n",
    "################################\n",
    "bw_spot = dot_2d_slice_by_slice_wrapper(struct_img, s2_param)\n",
    "\n",
    "\n",
    "################################\n",
    "## PARAMETERS for this step ##\n",
    "f2_param = [[1, 0.15]]\n",
    "################################\n",
    "bw_filament = filament_2d_wrapper(struct_img, f2_param)\n",
    "bw = np.logical_or(bw_spot, bw_filament)\n"
   ]
  },
  {
   "cell_type": "markdown",
   "metadata": {},
   "source": [
    "### POST-PROCESSING\n",
    "\n",
    "> NOTE: we are using the 3D aicssegmentation functions which wrap `scipy.ndimage` functions with a single Z rather than the `scipy.ndimage` functions directly"
   ]
  },
  {
   "cell_type": "code",
   "execution_count": 15,
   "metadata": {},
   "outputs": [],
   "source": [
    "###################\n",
    "# POST_PROCESSING\n",
    "###################\n",
    "\n",
    "################################\n",
    "## PARAMETERS for this step ##\n",
    "fill_2d = True\n",
    "fill_max_size = 25\n",
    "hole_min = 0\n",
    "################################\n",
    "removed_holes = hole_filling_linear_size(bw, hole_min=0, hole_max=fill_max_size)\n",
    "\n",
    "small_object_width = 3  \n",
    "cleaned_img = size_filter_linear_size(removed_holes, # wrapper to remove_small_objects which can do slice by slice\n",
    "                                                         min_size= small_object_width, \n",
    "                                                         connectivity=1)\n",
    "\n",
    "cleaned_img2 = fill_and_filter_linear_size(bw, hole_min=0, hole_max=fill_max_size, min_size= small_object_width)\n",
    "\n",
    "#DEPRICATE masking until stat collection\n",
    "# masked_img = apply_mask(cleaned_img, cytosol_mask)\n"
   ]
  },
  {
   "attachments": {},
   "cell_type": "markdown",
   "metadata": {},
   "source": [
    "## Visualize with `napari` 1\n",
    "Visualize the first-pass segmentation and labeling with `napari`."
   ]
  },
  {
   "cell_type": "code",
   "execution_count": 16,
   "metadata": {},
   "outputs": [
    {
     "data": {
      "text/plain": [
       "<Image layer 'cytosol_mask' at 0x15ce6e1c0>"
      ]
     },
     "execution_count": 16,
     "metadata": {},
     "output_type": "execute_result"
    }
   ],
   "source": [
    "viewer = napari.Viewer()\n",
    "\n",
    "viewer.add_image(cytosol_mask)    "
   ]
  },
  {
   "cell_type": "code",
   "execution_count": 18,
   "metadata": {},
   "outputs": [
    {
     "data": {
      "text/plain": [
       "<Image layer 'removed_holes [1]' at 0x167126850>"
      ]
     },
     "execution_count": 18,
     "metadata": {},
     "output_type": "execute_result"
    }
   ],
   "source": [
    "\n",
    "viewer.add_image(\n",
    "    removed_holes,\n",
    ")\n"
   ]
  },
  {
   "cell_type": "code",
   "execution_count": 20,
   "metadata": {},
   "outputs": [
    {
     "data": {
      "text/plain": [
       "<Image layer 'cleaned_img [1]' at 0x1671a0700>"
      ]
     },
     "execution_count": 20,
     "metadata": {},
     "output_type": "execute_result"
    }
   ],
   "source": [
    "\n",
    "viewer.scale_bar.visible = True\n",
    "viewer.add_image(\n",
    "    cleaned_img,\n",
    ")\n"
   ]
  },
  {
   "cell_type": "markdown",
   "metadata": {},
   "source": []
  },
  {
   "attachments": {},
   "cell_type": "markdown",
   "metadata": {},
   "source": [
    "## DEFINE `_infer_lysosome` function\n",
    "\n",
    "Based on the _prototyping_ above define the function to infer the lysosomes.  \n",
    "\n"
   ]
  },
  {
   "cell_type": "code",
   "execution_count": 21,
   "metadata": {},
   "outputs": [],
   "source": [
    "##########################\n",
    "#  infer_LYSOSOMES\n",
    "##########################\n",
    "def _infer_lysosome(\n",
    "                                in_img: np.ndarray,\n",
    "                                median_sz: int,\n",
    "                                gauss_sig: float,\n",
    "                                dot_scale_1: float,\n",
    "                                dot_cut_1: float,\n",
    "                                dot_scale_2: float,\n",
    "                                dot_cut_2: float,\n",
    "                                dot_scale_3: float,\n",
    "                                dot_cut_3: float,\n",
    "                                filament_scale : float,\n",
    "                                filament_cut : float,\n",
    "                                min_hole_w: int,\n",
    "                                max_hole_w: int,\n",
    "                                small_obj_w: int,\n",
    "                            ) -> np.ndarray:\n",
    "    \"\"\"\n",
    "    Procedure to infer lysosome from linearly unmixed input,\n",
    "    \n",
    "    Parameters\n",
    "    ------------\n",
    "    in_img: \n",
    "        a 3d image containing all the channels\n",
    "    median_sz: \n",
    "        width of median filter for signal\n",
    "    gauss_sig: \n",
    "        sigma for gaussian smoothing of  signal\n",
    "    dot_scale: \n",
    "        scales (log_sigma) for dot filter (1,2, and 3)\n",
    "    dot_cut: \n",
    "        threshold for dot filter thresholds (1,2,and 3)\n",
    "    filament_scale: \n",
    "        scale (log_sigma) for filament filter\n",
    "    filament_cut: \n",
    "        threshold for filament fitered threshold\n",
    "    min_hole_w: \n",
    "        hole filling min for nuclei post-processing\n",
    "    max_hole_w: \n",
    "        hole filling cutoff for nuclei post-processing\n",
    "    small_obj_w: \n",
    "        minimu object size cutoff for nuclei post-processing\n",
    "\n",
    "    Returns\n",
    "    -------------\n",
    "    lysosome_object\n",
    "        mask defined extent of lysosome object\n",
    "\n",
    "    \"\"\"\n",
    "    lyso_ch = LYSO_CH\n",
    "    ###################\n",
    "    # EXTRACT\n",
    "    ###################    \n",
    "    lyso = select_channel_from_raw(in_img, lyso_ch)\n",
    "\n",
    "     ###################\n",
    "    # PRE_PROCESSING\n",
    "    ###################    \n",
    "    # lyso = min_max_intensity_normalization(lyso)\n",
    "    # lyso = median_filter_slice_by_slice(lyso, size=median_sz)\n",
    "    # lyso = image_smoothing_gaussian_slice_by_slice(lyso, sigma=gauss_sig)\n",
    "    lyso =  scale_and_smooth(lyso,\n",
    "                                                    median_sz = median_sz, \n",
    "                                                    gauss_sig = gauss_sig)\n",
    "   ###################\n",
    "    # CORE_PROCESSING\n",
    "    ###################\n",
    "    # s2_param = [[5,0.09], [2.5,0.07], [1,0.01]]\n",
    "    s2_param = [    \n",
    "                [dot_scale_1, dot_cut_1],\n",
    "                [dot_scale_2, dot_cut_2],\n",
    "                [dot_scale_3, dot_cut_3]\n",
    "                ]\n",
    "    bw_spot = dot_2d_slice_by_slice_wrapper(lyso, s2_param)\n",
    "\n",
    "    f2_param = [[filament_scale, filament_cut]]\n",
    "    # f2_param = [[1, 0.15]]  # [scale_1, cutoff_1]\n",
    "    bw_filament = filament_2d_wrapper(lyso, f2_param)\n",
    "\n",
    "    bw = np.logical_or(bw_spot, bw_filament)\n",
    "\n",
    "    ###################\n",
    "    # POST_PROCESSING\n",
    "    ###################\n",
    "    # struct_obj = hole_filling_linear_size(bw, hole_min=min_hole_w, hole_max=max_hole_w)\n",
    "    # struct_obj = size_filter_linear_size(struct_obj, # wrapper to remove_small_objects which can do slice by slice\n",
    "    #                                                         min_size= small_obj_w, \n",
    "    #                                                         connectivity=1)\n",
    "    struct_obj = fill_and_filter_linear_size(bw, hole_min=0, hole_max=max_hole_w, min_size= small_obj_w)\n",
    "\n",
    "    return struct_obj"
   ]
  },
  {
   "attachments": {},
   "cell_type": "markdown",
   "metadata": {},
   "source": [
    "## DEFINE `_fixed_infer_lysosome` function\n"
   ]
  },
  {
   "cell_type": "code",
   "execution_count": 22,
   "metadata": {},
   "outputs": [],
   "source": [
    "\n",
    "\n",
    "##########################\n",
    "#  fixed_infer_nuclei\n",
    "##########################\n",
    "def _fixed_infer_lysosome(in_img: np.ndarray  ) -> np.ndarray:\n",
    "    \"\"\"\n",
    "    Procedure to infer lysosome from linearly unmixed input with *fixed parameters*\n",
    "    Parameters\n",
    "    ------------\n",
    "    in_img: \n",
    "        a 3d image containing all the channels\n",
    "\n",
    "    Returns\n",
    "    -------------\n",
    "    lysosome_object\n",
    "        mask defined extent of NU\n",
    "    \"\"\"\n",
    "    median_sz = 4\n",
    "    gauss_sig = 1.34\n",
    "    dot_scale_1 = 5\n",
    "    dot_cut_1 = 0.09\n",
    "    dot_scale_2 = 2.5\n",
    "    dot_cut_2 = 0.07\n",
    "    dot_scale_3 = 1\n",
    "    dot_cut_3 = 0.01\n",
    "    filament_scale = 1\n",
    "    filament_cut = 0.15\n",
    "    min_hole_w = 0\n",
    "    max_hole_w = 25\n",
    "    small_obj_w = 3\n",
    "\n",
    "    return _infer_lysosome(  \n",
    "        in_img,\n",
    "        median_sz,\n",
    "        gauss_sig,\n",
    "        dot_cut_1,\n",
    "        dot_scale_1,\n",
    "        dot_cut_2,\n",
    "        dot_scale_2,\n",
    "        dot_cut_3,\n",
    "        dot_scale_3,\n",
    "        filament_scale,\n",
    "        filament_cut ,\n",
    "        min_hole_w,\n",
    "        max_hole_w,\n",
    "        small_obj_w\n",
    "        )\n"
   ]
  },
  {
   "attachments": {},
   "cell_type": "markdown",
   "metadata": {},
   "source": [
    "------------------\n",
    "\n",
    "# TEST `_infer_lysosome` function defined above"
   ]
  },
  {
   "cell_type": "code",
   "execution_count": 24,
   "metadata": {},
   "outputs": [],
   "source": [
    "\n",
    "_lysosome_object =  _fixed_infer_lysosome(img_data) \n",
    "\n"
   ]
  },
  {
   "cell_type": "code",
   "execution_count": 25,
   "metadata": {},
   "outputs": [],
   "source": [
    "from infer_subc_2d.organelles.lysosome import fixed_infer_lysosome\n",
    "\n",
    "lysosome_object =  fixed_infer_lysosome(img_data) \n",
    "\n"
   ]
  },
  {
   "attachments": {},
   "cell_type": "markdown",
   "metadata": {},
   "source": [
    "## Visualize  2\n"
   ]
  },
  {
   "cell_type": "code",
   "execution_count": 26,
   "metadata": {},
   "outputs": [
    {
     "data": {
      "text/plain": [
       "<Image layer 'lysosome_object' at 0x167719730>"
      ]
     },
     "execution_count": 26,
     "metadata": {},
     "output_type": "execute_result"
    }
   ],
   "source": [
    "\n",
    "viewer.add_image(\n",
    "    _lysosome_object,\n",
    "    scale=scale\n",
    ")\n",
    "viewer.add_labels(\n",
    "    label(lysosome_object),\n",
    "    scale=scale\n",
    ")\n",
    "viewer.add_image(\n",
    "    lysosome_object,\n",
    "    scale=scale\n",
    ")"
   ]
  },
  {
   "cell_type": "code",
   "execution_count": 27,
   "metadata": {},
   "outputs": [
    {
     "data": {
      "image/png": "[encoded data removed]",
      "text/html": [
       "<img src=\"data:image/png;base64,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\"></img>"
      ],
      "text/plain": [
       "<napari.utils.notebook_display.NotebookScreenshot at 0x163f5e1c0>"
      ]
     },
     "execution_count": 27,
     "metadata": {},
     "output_type": "execute_result"
    }
   ],
   "source": [
    "from napari.utils.notebook_display import nbscreenshot\n",
    "\n",
    "# viewer.dims.ndisplay = 3\n",
    "# viewer.camera.angles = (-30, 25, 120)\n",
    "nbscreenshot(viewer, canvas_only=True)"
   ]
  },
  {
   "cell_type": "code",
   "execution_count": 21,
   "metadata": {},
   "outputs": [],
   "source": [
    "viewer.close()"
   ]
  },
  {
   "attachments": {},
   "cell_type": "markdown",
   "metadata": {},
   "source": [
    "-----------------\n",
    "Write the `infer_lysosome` spec to the widget json "
   ]
  },
  {
   "cell_type": "code",
   "execution_count": 22,
   "metadata": {},
   "outputs": [
    {
     "name": "stdout",
     "output_type": "stream",
     "text": [
      "function fixed_infer_lysosome is already in all_functions.json\n"
     ]
    },
    {
     "data": {
      "text/plain": [
       "0"
      ]
     },
     "execution_count": 22,
     "metadata": {},
     "output_type": "execute_result"
    }
   ],
   "source": [
    "from infer_subc_2d.organelles_config.helper import add_function_spec_to_widget_json\n",
    "\n",
    "_fixed_infer_lysosome =  {\n",
    "        \"name\": \"infer lysosome  (fixed parameters)\",\n",
    "        \"python::module\": \"infer_subc_2d.organelles\",\n",
    "        \"python::function\": \"fixed_infer_lysosome\",\n",
    "        \"parameters\": None\n",
    "        }\n",
    "\n",
    "add_function_spec_to_widget_json(\"fixed_infer_lysosome\",_fixed_infer_lysosome)"
   ]
  },
  {
   "cell_type": "code",
   "execution_count": 23,
   "metadata": {},
   "outputs": [
    {
     "name": "stdout",
     "output_type": "stream",
     "text": [
      "function infer_lysosome is already in all_functions.json\n",
      "overwriting  infer_lysosome\n"
     ]
    },
    {
     "data": {
      "text/plain": [
       "1"
      ]
     },
     "execution_count": 23,
     "metadata": {},
     "output_type": "execute_result"
    }
   ],
   "source": [
    "\n",
    "_infer_lysosome =  {\n",
    "        \"name\": \"infer lysosome\",\n",
    "        \"python::module\": \"infer_subc_2d.organelles\",\n",
    "        \"python::function\": \"infer_lysosome\",\n",
    "        \"parameters\": {\n",
    "                \"median_sz\": {\n",
    "                        \"widget_type\": \"slider\",\n",
    "                        \"data_type\": \"int\",\n",
    "                        \"min\": 3,\n",
    "                        \"max\": 15,\n",
    "                        \"increment\": 1\n",
    "                },\n",
    "                \"gauss_sig\": {\n",
    "                        \"data_type\": \"float\",\n",
    "                        \"increment\": 0.25,\n",
    "                        \"max\": 15.0,\n",
    "                        \"min\": 1.25,\n",
    "                        \"widget_type\": \"slider\"\n",
    "                },\n",
    "                \"dot_scale_1\": {\n",
    "                        \"data_type\": \"float\",\n",
    "                        \"increment\": 0.05,\n",
    "                        \"max\": 10,\n",
    "                        \"min\": 0,\n",
    "                        \"widget_type\": \"slider\"\n",
    "                },\n",
    "                \"dot_cut_1\": {\n",
    "                        \"data_type\": \"float\",\n",
    "                        \"increment\": 0.001,\n",
    "                        \"max\": 0.5,\n",
    "                        \"min\": 0,\n",
    "                        \"widget_type\": \"slider\"\n",
    "                },\n",
    "                \"dot_scale_2\": {\n",
    "                        \"data_type\": \"float\",\n",
    "                        \"increment\": 0.05,\n",
    "                        \"max\": 10,\n",
    "                        \"min\": 0,\n",
    "                        \"widget_type\": \"slider\"\n",
    "                },\n",
    "                \"dot_cut_2\": {\n",
    "                        \"data_type\": \"float\",\n",
    "                        \"increment\": 0.001,\n",
    "                        \"max\": 0.5,\n",
    "                        \"min\": 0,\n",
    "                        \"widget_type\": \"slider\"\n",
    "                },\n",
    "                \"dot_scale_3\": {\n",
    "                        \"data_type\": \"float\",\n",
    "                        \"increment\": 0.05,\n",
    "                        \"max\": 10,\n",
    "                        \"min\": 0,\n",
    "                        \"widget_type\": \"slider\"\n",
    "                },\n",
    "                \"dot_cut_3\": {\n",
    "                        \"data_type\": \"float\",\n",
    "                        \"increment\": 0.001,\n",
    "                        \"max\": 0.5,\n",
    "                        \"min\": 0,\n",
    "                        \"widget_type\": \"slider\"\n",
    "                },\n",
    "                \"filament_scale\": {\n",
    "                        \"data_type\": \"float\",\n",
    "                        \"increment\": 0.05,\n",
    "                        \"max\": 10,\n",
    "                        \"min\": 0,\n",
    "                        \"widget_type\": \"slider\"\n",
    "                },\n",
    "                \"filament_cut\": {\n",
    "                        \"data_type\": \"float\",\n",
    "                        \"increment\": 0.001,\n",
    "                        \"max\": 0.5,\n",
    "                        \"min\": 0,\n",
    "                        \"widget_type\": \"slider\"\n",
    "                },\n",
    "                \"min_hole_w\": {\n",
    "                        \"data_type\": \"int\",\n",
    "                        \"increment\": 1,\n",
    "                        \"max\": 30,\n",
    "                        \"min\": 0,\n",
    "                        \"widget_type\": \"slider\"\n",
    "                },    \n",
    "                \"max_hole_w\": {\n",
    "                        \"data_type\": \"int\",\n",
    "                        \"increment\": 1,\n",
    "                        \"max\": 40,\n",
    "                        \"min\": 4,\n",
    "                        \"widget_type\": \"slider\"\n",
    "                },           \n",
    "                \"small_obj_w\": {\n",
    "                        \"data_type\": \"int\",\n",
    "                        \"increment\": 1,\n",
    "                        \"max\": 50,\n",
    "                        \"min\": 1,\n",
    "                        \"widget_type\": \"slider\"\n",
    "                }\n",
    "        }\n",
    "}\n",
    "\n",
    "add_function_spec_to_widget_json(\"infer_lysosome\", _infer_lysosome, overwrite=True )\n",
    "\n"
   ]
  },
  {
   "attachments": {},
   "cell_type": "markdown",
   "metadata": {},
   "source": [
    "##  helper function definitions\n",
    "\n",
    "Wrappers for spot and filiment filters"
   ]
  },
  {
   "cell_type": "code",
   "execution_count": 24,
   "metadata": {},
   "outputs": [],
   "source": [
    "\n",
    "def _lysosome_spot_filter(in_img: np.ndarray) -> np.ndarray:\n",
    "    \"\"\" spot filter helper function for lysosome \"\"\"\n",
    "    dot_scale_1 = 5\n",
    "    dot_cut_1 = 0.09\n",
    "    dot_scale_2 = 2.5\n",
    "    dot_cut_2 = 0.07\n",
    "    dot_scale_3 = 1\n",
    "    dot_cut_3 = 0.01\n",
    "    s2_param = [[dot_scale_1, dot_cut_1], [dot_scale_2, dot_cut_2], [dot_scale_3, dot_cut_3]]\n",
    "    return dot_2d_slice_by_slice_wrapper(in_img, s2_param)\n",
    "\n",
    "# def _lysosome_filiment_filter(in_img: np.ndarray) -> np.ndarray:\n",
    "#     \"\"\" spot filter helper function for lysosome  (DEPRICATED)\"\"\"\n",
    "#     f2_param = [[filament_scale, filament_cut]]\n",
    "#     # f2_param = [[1, 0.15]]  # [scale_1, cutoff_1]\n",
    "#     return filament_2d_wrapper(in_img, f2_param)\n",
    "\n"
   ]
  },
  {
   "cell_type": "code",
   "execution_count": 25,
   "metadata": {},
   "outputs": [
    {
     "name": "stdout",
     "output_type": "stream",
     "text": [
      "function lysosome_spot_filter is already in all_functions.json\n",
      "overwriting  lysosome_spot_filter\n"
     ]
    },
    {
     "data": {
      "text/plain": [
       "1"
      ]
     },
     "execution_count": 25,
     "metadata": {},
     "output_type": "execute_result"
    }
   ],
   "source": [
    "_lysosome_spot_filter =  {\n",
    "        \"name\": \"lysosome spot filter\",\n",
    "        \"python::module\": \"infer_subc_2d.organelles\",\n",
    "        \"python::function\": \"lysosome_spot_filter\",\n",
    "        \"parameters\": None\n",
    "        }\n",
    "\n",
    "add_function_spec_to_widget_json(\"lysosome_spot_filter\",_lysosome_spot_filter, overwrite=True)"
   ]
  },
  {
   "cell_type": "code",
   "execution_count": 26,
   "metadata": {},
   "outputs": [
    {
     "name": "stdout",
     "output_type": "stream",
     "text": [
      "function lysosome_filiment_filter is already in all_functions.json\n"
     ]
    },
    {
     "data": {
      "text/plain": [
       "0"
      ]
     },
     "execution_count": 26,
     "metadata": {},
     "output_type": "execute_result"
    }
   ],
   "source": [
    "_lysosome_filiment_filter =  {\n",
    "        \"name\": \"lysosome filiment filter\",\n",
    "        \"python::module\": \"infer_subc_2d.organelles\",\n",
    "        \"python::function\": \"lysosome_filiment_filter\",\n",
    "        \"parameters\": None\n",
    "        }\n",
    "\n",
    "add_function_spec_to_widget_json(\"lysosome_filiment_filter\",_lysosome_filiment_filter)"
   ]
  },
  {
   "cell_type": "code",
   "execution_count": 27,
   "metadata": {},
   "outputs": [
    {
     "name": "stdout",
     "output_type": "stream",
     "text": [
      "function logical_or is already in all_functions.json\n"
     ]
    },
    {
     "data": {
      "text/plain": [
       "0"
      ]
     },
     "execution_count": 27,
     "metadata": {},
     "output_type": "execute_result"
    }
   ],
   "source": [
    "_logical_or =  {\n",
    "        \"name\": \"logical or\",\n",
    "        \"python::module\": \"numpy\",\n",
    "        \"python::function\": \"logical_or\",\n",
    "        \"parameters\": None\n",
    "        }\n",
    "\n",
    "add_function_spec_to_widget_json(\"logical_or\",_logical_or)"
   ]
  },
  {
   "cell_type": "code",
   "execution_count": 28,
   "metadata": {},
   "outputs": [
    {
     "name": "stdout",
     "output_type": "stream",
     "text": [
      "function fixed_infer_nuclei is already in all_functions.json\n"
     ]
    },
    {
     "data": {
      "text/plain": [
       "0"
      ]
     },
     "execution_count": 28,
     "metadata": {},
     "output_type": "execute_result"
    }
   ],
   "source": [
    "from infer_subc_2d.organelles_config.helper import add_function_spec_to_widget_json\n",
    "\n",
    "_fixed_infer_nuclei =  {\n",
    "        \"name\": \"infer nuclei  (fixed parameters)\",\n",
    "        \"python::module\": \"infer_subc_2d.organelles\",\n",
    "        \"python::function\": \"fixed_infer_nuclei\",\n",
    "        \"parameters\": None\n",
    "        }\n",
    "\n",
    "add_function_spec_to_widget_json(\"fixed_infer_nuclei\",_fixed_infer_nuclei)"
   ]
  },
  {
   "cell_type": "code",
   "execution_count": 29,
   "metadata": {},
   "outputs": [
    {
     "name": "stdout",
     "output_type": "stream",
     "text": [
      "function label is already in all_functions.json\n"
     ]
    },
    {
     "data": {
      "text/plain": [
       "0"
      ]
     },
     "execution_count": 29,
     "metadata": {},
     "output_type": "execute_result"
    }
   ],
   "source": [
    "\n",
    "\n",
    "    # NU_labels = label(nuclei_object)\n",
    "\n",
    "_label =  {\n",
    "        \"name\": \"label objects\",\n",
    "        \"python::module\": \"skimage.measure\",\n",
    "        \"python::function\": \"label\",\n",
    "        \"parameters\": None\n",
    "        }\n",
    "# json.dumps({\"label\":_label})\n",
    "add_function_spec_to_widget_json(\"label\",_label)        \n"
   ]
  },
  {
   "attachments": {},
   "cell_type": "markdown",
   "metadata": {},
   "source": [
    "-------------------------------\n",
    "## Write workflow .json\n",
    "Now that we've added our function specs we can compose workflows."
   ]
  },
  {
   "cell_type": "code",
   "execution_count": 30,
   "metadata": {},
   "outputs": [],
   "source": [
    "from infer_subc_2d.constants import LYSO_CH\n",
    "def make_infer_lysosome_step_by_step_from_raw_dict():\n",
    "    \"\"\"\n",
    "    Procedure to infer lysosome from linearly unmixed input from raw\n",
    "\n",
    "    \"\"\"\n",
    "    step_name = []\n",
    "    function_name = []\n",
    "    category =[]\n",
    "    parameter_values = []\n",
    "    parent = []\n",
    "   \n",
    "    ###################\n",
    "    # EXTRACT\n",
    "    ###################   \n",
    "    step_name = []\n",
    "    function_name = []\n",
    "    category =[]\n",
    "    parameter_values = []\n",
    "    parent = []\n",
    "   \n",
    "    ###################\n",
    "    # EXTRACT\n",
    "    ###################   \n",
    "\n",
    "    step_name.append(\"1\")\n",
    "    function_name.append(\"fixed_get_optimal_Z_img\")\n",
    "    category.append(\"extraction\")\n",
    "    parameter_values.append(None)\n",
    "    parent.append(0)\n",
    "\n",
    "    step_name.append(\"2\")\n",
    "    function_name.append(\"fixed_infer_soma\")\n",
    "    category.append(\"extraction\")\n",
    "    parameter_values.append( None )\n",
    "    parent.append(1)\n",
    "\n",
    "    step_name.append(\"3\")\n",
    "    function_name.append(\"fixed_infer_nuclei\")\n",
    "    category.append(\"extraction\")\n",
    "    parameter_values.append( None )\n",
    "    parent.append([1,2])\n",
    "\n",
    "    step_name.append(\"4\")\n",
    "    function_name.append(\"infer_cytosol\")\n",
    "    category.append(\"extraction\")\n",
    "    parameter_values.append(dict(erode_nuclei = True ))\n",
    "    parent.append([2,3])\n",
    "\n",
    "    step_name.append(\"5\")\n",
    "    function_name.append(\"select_channel_from_raw\")\n",
    "    category.append(\"extraction\")\n",
    "    parameter_values.append( dict(chan = LYSO_CH) )\n",
    "    parent.append(1)\n",
    "    \n",
    "    step_name.append(\"6\")\n",
    "    function_name.append(\"min_max_intensity_normalization\")\n",
    "    category.append(\"preprocessing\")\n",
    "    parameter_values.append(None)\n",
    "    parent.append(5)\n",
    "\n",
    "    step_name.append(\"7\")\n",
    "    function_name.append(\"median_filter_slice_by_slice\")\n",
    "    category.append(\"preprocessing\")\n",
    "    parameter_values.append(dict(size = 4 ))\n",
    "    parent.append(6)\n",
    "\n",
    "    step_name.append(\"8\")\n",
    "    function_name.append(\"image_smoothing_gaussian_slice_by_slice\")\n",
    "    category.append(\"preprocessing\")\n",
    "    parameter_values.append(dict( sigma = 1.34 ))\n",
    "    parent.append(7)\n",
    "\n",
    "\n",
    "    step_name.append(\"9\")\n",
    "    function_name.append(\"lysosome_spot_filter\")\n",
    "    category.append(\"core\")\n",
    "    parameter_values.append( None )\n",
    "    parent.append(8)\n",
    "\n",
    "    # step_name.append(\"10\")\n",
    "    # function_name.append(\"lysosome_filiment_filter\")\n",
    "    # category.append(\"core\")\n",
    "    # parameter_values.append( None )\n",
    "    # parent.append(8)\n",
    "    step_name.append(\"10\")\n",
    "    function_name.append(\"filament_filter\") \n",
    "    category.append(\"core\")\n",
    "    parameter_values.append( dict( filament_scale=1., filament_cut=.15) )\n",
    "    parent.append(8)\n",
    "\n",
    "    step_name.append(\"11\")\n",
    "    function_name.append(\"logical_or\")\n",
    "    category.append(\"core\")\n",
    "    parameter_values.append( None )\n",
    "    parent.append([9,10])\n",
    "\n",
    "    step_name.append(\"12\")\n",
    "    function_name.append(\"hole_filling\")\n",
    "    category.append(\"postprocessing\")\n",
    "    parameter_values.append(dict( hole_min=0, hole_max=25**2, fill_2d=True))\n",
    "    parent.append(11)\n",
    "\n",
    "    step_name.append(\"13\")\n",
    "    function_name.append(\"apply_mask\")\n",
    "    category.append(\"postprocessing\")\n",
    "    parameter_values.append(None)\n",
    "    parent.append([12,4])\n",
    "\n",
    "    step_name.append(\"14\")\n",
    "    function_name.append(\"size_filter_linear_size\")\n",
    "    category.append(\"postprocessing\")\n",
    "    parameter_values.append(dict( min_size = 3**2  ))\n",
    "    parent.append(13)\n",
    "\n",
    "    out_dict = dict()\n",
    "    for i,stepn in enumerate(step_name):\n",
    "        entry = dict(category=category[i],\n",
    "                            function=function_name[i],\n",
    "                            parameter_values=parameter_values[i],\n",
    "                            parent=parent[i]\n",
    "        )\n",
    "        if entry['parameter_values'] is None:\n",
    "            _ = entry.pop('parameter_values')\n",
    "        out_dict[stepn] = entry\n",
    "    \n",
    "    return out_dict"
   ]
  },
  {
   "cell_type": "code",
   "execution_count": 31,
   "metadata": {},
   "outputs": [
    {
     "data": {
      "text/plain": [
       "PosixPath('/Users/ahenrie/Projects/Imaging/infer-subc-2D/infer_subc_2d/organelles_config/conf_1.4.lysosome_stepbystep_from_raw.json')"
      ]
     },
     "execution_count": 31,
     "metadata": {},
     "output_type": "execute_result"
    }
   ],
   "source": [
    "from infer_subc_2d.organelles_config.helper import write_workflow_json\n",
    "\n",
    "infer_lysosome_stepbystep_from_raw_dict = make_infer_lysosome_step_by_step_from_raw_dict()\n",
    "\n",
    "write_workflow_json(\"conf_1.4.lysosome_stepbystep_from_raw\", infer_lysosome_stepbystep_from_raw_dict)"
   ]
  },
  {
   "attachments": {},
   "cell_type": "markdown",
   "metadata": {},
   "source": [
    "-------------\n",
    "## SUMMARY\n",
    "\n",
    "The above details how the lysosome object is inferred.  \n",
    "\n",
    "### NEXT: INFER MITOCHONDRIA\n",
    "\n",
    "proceed to [05_infer_mitochondria.ipynb](./05_infer_mitochondria.ipynb)\n"
   ]
  },
  {
   "cell_type": "markdown",
   "metadata": {},
   "source": []
  }
 ],
 "metadata": {
  "kernelspec": {
   "display_name": "Python 3.9.13 ('napariNEW')",
   "language": "python",
   "name": "python3"
  },
  "language_info": {
   "codemirror_mode": {
    "name": "ipython",
    "version": 3
   },
   "file_extension": ".py",
   "mimetype": "text/x-python",
   "name": "python",
   "nbconvert_exporter": "python",
   "pygments_lexer": "ipython3",
   "version": "3.9.16"
  },
  "orig_nbformat": 4,
  "vscode": {
   "interpreter": {
    "hash": "d6148ef1fb015fb20f0b6da2ea61c87c6b848bdf3dabb03087e5d5cd0c4607e9"
   }
  }
 },
 "nbformat": 4,
 "nbformat_minor": 2
}
