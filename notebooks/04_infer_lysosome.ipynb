{
 "cells": [
  {
   "cell_type": "markdown",
   "metadata": {},
   "source": [
    "# Infer ***lysosome*** - part 4️⃣\n",
    "\n",
    "--------------\n",
    "\n",
    "## OBJECTIVE: ✅ Infer sub-cellular component ***lysosome***  in order to understand interactome \n",
    "\n",
    "\n",
    "\n",
    "Dependencies:\n",
    "The ***lysosome***  inference rely on the ***cytosol*** mask.\n"
   ]
  },
  {
   "cell_type": "markdown",
   "metadata": {},
   "source": [
    "\n",
    "## IMPORTS"
   ]
  },
  {
   "cell_type": "code",
   "execution_count": 1,
   "metadata": {},
   "outputs": [],
   "source": [
    "# top level imports\n",
    "from pathlib import Path\n",
    "import os, sys\n",
    "from collections import defaultdict\n",
    "\n",
    "import numpy as np\n",
    "import scipy\n",
    "\n",
    "# TODO:  prune the imports.. this is the big set for almost all organelles\n",
    "# # function for core algorithm\n",
    "from scipy import ndimage as ndi\n",
    "import aicssegmentation\n",
    "from aicssegmentation.core.seg_dot import dot_3d_wrapper, dot_slice_by_slice, dot_2d_slice_by_slice_wrapper, dot_3d\n",
    "from aicssegmentation.core.pre_processing_utils import ( intensity_normalization, \n",
    "                                                         image_smoothing_gaussian_3d,  \n",
    "                                                         image_smoothing_gaussian_slice_by_slice )\n",
    "from aicssegmentation.core.utils import topology_preserving_thinning, size_filter\n",
    "from aicssegmentation.core.MO_threshold import MO\n",
    "from aicssegmentation.core.utils import hole_filling, segmentation_union, size_filter\n",
    "from aicssegmentation.core.vessel import filament_2d_wrapper, vesselnessSliceBySlice\n",
    "from aicssegmentation.core.output_utils import   save_segmentation,  generate_segmentation_contour\n",
    "                                                 \n",
    "from skimage import filters\n",
    "from skimage.segmentation import watershed\n",
    "from skimage.feature import peak_local_max\n",
    "from skimage.morphology import remove_small_objects, binary_closing, ball , dilation, remove_small_holes   # function for post-processing (size filter)\n",
    "from skimage.measure import label\n",
    "\n",
    "# # package for io \n",
    "from aicsimageio import AICSImage\n",
    "\n",
    "import napari\n",
    "\n",
    "### import local python functions in ../infer_subc_2d\n",
    "sys.path.append(os.path.abspath((os.path.join(os.getcwd(), '..'))))\n",
    "\n",
    "\n",
    "from infer_subc_2d.utils.file_io import (read_czi_image,\n",
    "                                                                    read_input_image, \n",
    "                                                                    list_image_files, \n",
    "                                                                    export_ome_tiff, \n",
    "                                                                    etree_to_dict, \n",
    "                                                                    save_parameters, \n",
    "                                                                    load_parameters, \n",
    "                                                                    export_ndarray)\n",
    "from infer_subc_2d.utils.img import *\n",
    "\n",
    "from infer_subc_2d.constants import (TEST_IMG_N,\n",
    "                                                                    NUC_CH ,\n",
    "                                                                    LYSO_CH ,\n",
    "                                                                    MITO_CH ,\n",
    "                                                                    GOLGI_CH ,\n",
    "                                                                    PEROXI_CH ,\n",
    "                                                                    ER_CH ,\n",
    "                                                                    LIPID_CH ,\n",
    "                                                                    RESIDUAL_CH )          \n",
    "\n",
    "from infer_subc_2d.organelles.soma import infer_soma\n",
    "from infer_subc_2d.organelles.nuclei import infer_nuclei\n",
    "from infer_subc_2d.organelles.cytosol import infer_cytosol\n",
    "\n",
    "%load_ext autoreload\n",
    "%autoreload 2\n",
    "\n",
    "test_img_n = TEST_IMG_N"
   ]
  },
  {
   "cell_type": "markdown",
   "metadata": {},
   "source": [
    "---------------------\n",
    "\n",
    "# IMAGE PROCESSING Objective 4:  infer ***lysosome***\n",
    "\n",
    "## summary of steps (Workflow #1 & #2)\n",
    "\n",
    "INPUT\n",
    "- channel  2\n",
    "- cytosol mask\n",
    "\n",
    "PRE-PROCESSING\n",
    "-  smooth / remove noise\n",
    "\n",
    "CORE-PROCESSING\n",
    "- enhance two classes of \"spots\"\n",
    "-  segment objects\n",
    "\n",
    "POST-PROCESSING\n",
    "  - filter objects\n",
    "\n",
    "OUTPUT\n",
    "- object ***lysosome*** \n"
   ]
  },
  {
   "cell_type": "markdown",
   "metadata": {},
   "source": [
    "\n",
    "------------------------\n",
    "# LOAD RAW IMAGE DATA\n",
    "Identify path to _raw_ image data and load our example image\n"
   ]
  },
  {
   "cell_type": "code",
   "execution_count": 2,
   "metadata": {},
   "outputs": [],
   "source": [
    "# build the datapath\n",
    "# all the imaging data goes here.\n",
    "data_root_path = Path(os.path.expanduser(\"~\")) / \"Projects/Imaging/data\"\n",
    "\n",
    "# linearly unmixed \".czi\" files are here\n",
    "data_path = data_root_path / \"raw\"\n",
    "im_type = \".czi\"\n",
    "\n",
    "# get the list of all files\n",
    "img_file_list = list_image_files(data_path,im_type)\n",
    "test_img_name = img_file_list[test_img_n]\n"
   ]
  },
  {
   "cell_type": "code",
   "execution_count": 3,
   "metadata": {},
   "outputs": [
    {
     "name": "stderr",
     "output_type": "stream",
     "text": [
      "/opt/anaconda3/envs/napariNEW/lib/python3.9/site-packages/ome_types/_convenience.py:105: FutureWarning: The default XML parser will be changing from 'xmlschema' to 'lxml' in version 0.4.0.  To silence this warning, please provide the `parser` argument, specifying either 'lxml' (to opt into the new behavior), or'xmlschema' (to retain the old behavior).\n",
      "  d = to_dict(os.fspath(xml), parser=parser, validate=validate)\n"
     ]
    }
   ],
   "source": [
    "img_data,meta_dict = read_czi_image(test_img_name)\n",
    "\n",
    "# get some top-level info about the RAW data\n",
    "channel_names = meta_dict['name']\n",
    "img = meta_dict['metadata']['aicsimage']\n",
    "scale = meta_dict['scale']\n",
    "channel_axis = meta_dict['channel_axis']\n"
   ]
  },
  {
   "cell_type": "code",
   "execution_count": 4,
   "metadata": {},
   "outputs": [],
   "source": [
    "# # make sure we have removed Z\n",
    "# if len(scale)>2:\n",
    "#     scale = scale[1:]"
   ]
  },
  {
   "cell_type": "markdown",
   "metadata": {},
   "source": [
    "## CHOOZE Z-SLICE\n",
    "\n",
    "Lets find the slice with the most overall intensity..."
   ]
  },
  {
   "cell_type": "code",
   "execution_count": 5,
   "metadata": {},
   "outputs": [],
   "source": [
    "ch_to_agg = ( LYSO_CH ,\n",
    "                        MITO_CH ,\n",
    "                        GOLGI_CH ,\n",
    "                        PEROXI_CH ,\n",
    "                        ER_CH ,\n",
    "                        LIPID_CH )\n",
    "                            \n",
    "nuc_ch = NUC_CH\n",
    "optimal_Z = find_optimal_Z(img_data, nuc_ch, ch_to_agg) \n",
    "img_2D = img_data[:,[optimal_Z],:,:].copy()\n"
   ]
  },
  {
   "cell_type": "markdown",
   "metadata": {},
   "source": [
    "Now get the single \"optimal\" slice of all our organelle channels...."
   ]
  },
  {
   "cell_type": "markdown",
   "metadata": {},
   "source": [
    "## get the inferred soma, nuclei and cytosol objects\n",
    "\n",
    "(takes < 1 sec)"
   ]
  },
  {
   "cell_type": "code",
   "execution_count": 8,
   "metadata": {},
   "outputs": [],
   "source": [
    "\n",
    "soma_mask =  infer_soma(img_2D) \n",
    "\n",
    "nuclei_object =  infer_nuclei(img_2D, soma_mask) \n",
    "cytosol_mask =  infer_cytosol( nuclei_object,soma_mask) \n"
   ]
  },
  {
   "cell_type": "markdown",
   "metadata": {},
   "source": [
    "... and visualize."
   ]
  },
  {
   "cell_type": "code",
   "execution_count": 9,
   "metadata": {},
   "outputs": [
    {
     "data": {
      "text/plain": [
       "<Image layer 'nuclei_object' at 0x1673baca0>"
      ]
     },
     "execution_count": 9,
     "metadata": {},
     "output_type": "execute_result"
    }
   ],
   "source": [
    "viewer = napari.Viewer()\n",
    "viewer.add_image(soma_mask,\n",
    "    scale=scale)\n",
    "viewer.add_image(nuclei_object,\n",
    "    scale=scale)\n",
    "    \n"
   ]
  },
  {
   "cell_type": "code",
   "execution_count": 10,
   "metadata": {},
   "outputs": [
    {
     "data": {
      "text/plain": [
       "<Image layer 'cytosol_mask' at 0x175a5deb0>"
      ]
     },
     "execution_count": 10,
     "metadata": {},
     "output_type": "execute_result"
    }
   ],
   "source": [
    "viewer.add_image(cytosol_mask,\n",
    "    scale=scale)    "
   ]
  },
  {
   "cell_type": "markdown",
   "metadata": {},
   "source": [
    "# WORKFLOW #1 \n",
    "\n",
    "Generally following the Allen Cell Segmenter procedure, but doing more aggressive contrast scaling than their prescribed contrast scaling.\n",
    "\n",
    "> Using Allen Cell Segmenter LAMP1 [workflow](https://www.allencell.org/cell-observations/category/lamp1).  Examples sourced from: [Notebook](/Users/ahenrie/Projects/Imaging/mcz_subcell/napari/aics-segmentation/lookup_table_demo/playground_lamp1.ipynb) and [script](/Users/ahenrie/Projects/Imaging/mcz_subcell/napari/aics-segmentation/aicssegmentation/structure_wrapper/seg_lamp1.py)\n",
    "\n",
    "## summary of steps\n",
    "\n",
    "INPUT\n",
    "- channel 1\n",
    "- ***cytosol*** mask\n",
    "\n",
    "PRE-PROCESSING\n",
    "- contrast scale\n",
    "- ne-noise and somoothe\n",
    "\n",
    "CORE PROCESSING\n",
    "- dot enhancement / segment\n",
    "- filiment enhancement / segment\n",
    "\n",
    "POST-PROCESSING\n",
    "  - fill holes\n",
    "  - remove small objects\n",
    "\n",
    "OUTPUT\n",
    "- ***lysosome*** object\n"
   ]
  },
  {
   "cell_type": "markdown",
   "metadata": {},
   "source": [
    "### INPUT"
   ]
  },
  {
   "cell_type": "code",
   "execution_count": 11,
   "metadata": {},
   "outputs": [],
   "source": [
    "\n",
    "###################\n",
    "# INPUT\n",
    "###################\n",
    "raw_lyso    = img_2D[LYSO_CH].copy()\n"
   ]
  },
  {
   "cell_type": "markdown",
   "metadata": {},
   "source": [
    "### PRE-PROCESSING"
   ]
  },
  {
   "cell_type": "code",
   "execution_count": 12,
   "metadata": {},
   "outputs": [],
   "source": [
    "###################\n",
    "# PRE_PROCESSING\n",
    "###################\n",
    "\n",
    "# Linear-ish smoothing\n",
    "lysosomes = min_max_intensity_normalization( raw_lyso)\n",
    "\n",
    "med_filter_size = 3   \n",
    "structure_img_median = median_filter_slice_by_slice( lysosomes, size=med_filter_size  )\n",
    "\n",
    "gaussian_smoothing_sigma = 1.34\n",
    "gaussian_smoothing_truncate_range = 3.0\n",
    "structure_img_smooth = image_smoothing_gaussian_slice_by_slice(  structure_img_median,\n",
    "                                                                                            sigma=gaussian_smoothing_sigma,\n",
    "                                                                                            truncate_range = gaussian_smoothing_truncate_range )\n",
    "\n",
    "struct_img = structure_img_smooth"
   ]
  },
  {
   "cell_type": "markdown",
   "metadata": {},
   "source": [
    "### CORE PROCESSING"
   ]
  },
  {
   "cell_type": "code",
   "execution_count": 13,
   "metadata": {},
   "outputs": [],
   "source": [
    "###################\n",
    "# CORE_PROCESSING\n",
    "###################\n",
    "# dot and filiment enhancement - 2D\n",
    "\n",
    "################################\n",
    "## PARAMETERS for this step ##\n",
    "s2_param = [[5,0.09], [2.5,0.07], [1,0.01]]\n",
    "################################\n",
    "bw_spot = dot_2d_slice_by_slice_wrapper(struct_img, s2_param)\n",
    "\n",
    "\n",
    "################################\n",
    "## PARAMETERS for this step ##\n",
    "f2_param = [[1, 0.15]]\n",
    "################################\n",
    "bw_filament = filament_2d_wrapper(struct_img, f2_param)\n",
    "bw = np.logical_or(bw_spot, bw_filament)\n",
    "\n"
   ]
  },
  {
   "cell_type": "markdown",
   "metadata": {},
   "source": [
    "### POST-PROCESSING\n",
    "\n",
    "> NOTE: we are using the 3D aicssegmentation functions which wrap `scipy.ndimage` functions with a single Z rather than the `scipy.ndimage` functions directly"
   ]
  },
  {
   "cell_type": "code",
   "execution_count": 14,
   "metadata": {},
   "outputs": [],
   "source": [
    "###################\n",
    "# POST_PROCESSING\n",
    "###################\n",
    "\n",
    "################################\n",
    "## PARAMETERS for this step ##\n",
    "\n",
    "fill_2d = True\n",
    "fill_max_size = 25\n",
    "hole_min = 0\n",
    "################################\n",
    "\n",
    "removed_holes = hole_filling(bw, hole_min ** 2, fill_max_size ** 2, fill_2d)\n",
    "\n",
    "\n",
    "masked_img = apply_mask(removed_holes, cytosol_mask)\n",
    "\n",
    "width = 3  \n",
    "# cleaned_img = size_filter(removed_holes, # wrapper to remove_small_objects which can do slice by slice\n",
    "#                                                          min_size= width**2, \n",
    "#                                                          method = \"slice_by_slice\" ,\n",
    "#                                                          connectivity=1)\n",
    "\n",
    "cleaned_img = size_filter_2D(masked_img, # wrapper to remove_small_objects which can do slice by slice\n",
    "                                                         min_size= width ** 2, \n",
    "                                                         connectivity=1)\n"
   ]
  },
  {
   "cell_type": "markdown",
   "metadata": {},
   "source": [
    "#### Visualize with `napari`\n",
    "Visualize the first-pass segmentation and labeling with `napari`."
   ]
  },
  {
   "cell_type": "code",
   "execution_count": 15,
   "metadata": {},
   "outputs": [
    {
     "data": {
      "text/plain": [
       "<Image layer 'masked_img' at 0x17f9b8a30>"
      ]
     },
     "execution_count": 15,
     "metadata": {},
     "output_type": "execute_result"
    }
   ],
   "source": [
    "\n",
    "viewer.add_image(\n",
    "    removed_holes,\n",
    "    scale=scale\n",
    ")\n",
    "viewer.add_image(\n",
    "    masked_img,\n",
    "    scale=scale\n",
    ")\n"
   ]
  },
  {
   "cell_type": "code",
   "execution_count": 16,
   "metadata": {},
   "outputs": [
    {
     "data": {
      "text/plain": [
       "<Image layer 'structure_img_smooth' at 0x17fccddc0>"
      ]
     },
     "execution_count": 16,
     "metadata": {},
     "output_type": "execute_result"
    }
   ],
   "source": [
    "\n",
    "viewer.scale_bar.visible = True\n",
    "viewer.add_image(\n",
    "    cleaned_img,\n",
    "    scale=scale\n",
    ")\n",
    "viewer.add_image(\n",
    "    structure_img_smooth,\n",
    "    scale=scale\n",
    ")"
   ]
  },
  {
   "cell_type": "markdown",
   "metadata": {},
   "source": []
  },
  {
   "cell_type": "markdown",
   "metadata": {},
   "source": [
    "### DEFINE `infer_lysosomes` function"
   ]
  },
  {
   "cell_type": "code",
   "execution_count": 27,
   "metadata": {},
   "outputs": [],
   "source": [
    "##########################\n",
    "#  infer_LYSOSOMES\n",
    "##########################\n",
    "def _infer_lysosomes(in_img:  np.ndarray, cytosol_mask:  np.ndarray) -> np.ndarray:\n",
    "    \"\"\"\n",
    "    Procedure to infer lysosome from linearly unmixed input.\n",
    "\n",
    "    Parameters:\n",
    "    ------------\n",
    "    in_img: np.ndarray\n",
    "        a 3d image containing all the channels\n",
    "\n",
    "    cytosol_mask: np.ndarray\n",
    "        mask of cytosol\n",
    " \n",
    "    Returns:\n",
    "    -------------\n",
    "    lysosome_object\n",
    "        mask defined extent of lysosome object\n",
    "    \"\"\"\n",
    "\n",
    "    \n",
    "    ###################\n",
    "    # PRE_PROCESSING\n",
    "    ###################     \n",
    "    struct_img = min_max_intensity_normalization(in_img[LYSO_CH].copy() )\n",
    "\n",
    "    med_filter_size = 3   \n",
    "    struct_img = median_filter_slice_by_slice( \n",
    "                                                                    struct_img,\n",
    "                                                                    size=med_filter_size  )\n",
    "\n",
    "    gaussian_smoothing_sigma = 1.34\n",
    "    gaussian_smoothing_truncate_range = 3.0\n",
    "    struct_img = image_smoothing_gaussian_slice_by_slice(   struct_img,\n",
    "                                                                                                        sigma=gaussian_smoothing_sigma,\n",
    "                                                                                                        truncate_range = gaussian_smoothing_truncate_range\n",
    "                                                                                                    )\n",
    "\n",
    "   ###################\n",
    "    # CORE_PROCESSING\n",
    "    ###################\n",
    "    # dot and filiment enhancement - 2D\n",
    "    s2_param = [[5,0.09], [2.5,0.07], [1,0.01]]\n",
    "    bw_spot = dot_2d_slice_by_slice_wrapper(struct_img, s2_param)\n",
    "\n",
    "    f2_param = [[1, 0.15]]\n",
    "    bw_filament = filament_2d_wrapper(struct_img, f2_param)\n",
    "\n",
    "    bw = np.logical_or(bw_spot, bw_filament)\n",
    "    #bw = segmentation_union([bw_spot,bw_filament])\n",
    "\n",
    "    ###################\n",
    "    # POST_PROCESSING\n",
    "    ###################\n",
    "    # 2D cleaning\n",
    "    hole_min = 0\n",
    "    hole_max = 25  \n",
    "    struct_obj = hole_filling(bw, hole_min = hole_min **2 , hole_max=hole_max**2, fill_2d = True) \n",
    "\n",
    "    struct_obj = apply_mask(struct_obj, cytosol_mask)\n",
    "    \n",
    "    small_object_width = 3\n",
    "    struct_obj = size_filter_2D(struct_obj, \n",
    "                                                                min_size= small_object_width**2, \n",
    "                                                                connectivity=1)\n",
    "                \n",
    "    return struct_obj"
   ]
  },
  {
   "cell_type": "markdown",
   "metadata": {},
   "source": [
    "------------------\n",
    "\n",
    "# TEST `_infer_lysosomes` function"
   ]
  },
  {
   "cell_type": "code",
   "execution_count": 30,
   "metadata": {},
   "outputs": [],
   "source": [
    "\n",
    "_lysosome_object =  _infer_lysosomes(img_2D, cytosol_mask) \n",
    "\n"
   ]
  },
  {
   "cell_type": "code",
   "execution_count": null,
   "metadata": {},
   "outputs": [],
   "source": []
  },
  {
   "cell_type": "code",
   "execution_count": 31,
   "metadata": {},
   "outputs": [],
   "source": [
    "from infer_subc_2d.organelles.lysosomes import infer_lysosomes\n",
    "\n",
    "lysosome_object =  infer_lysosomes(img_2D, cytosol_mask) \n",
    "\n"
   ]
  },
  {
   "cell_type": "code",
   "execution_count": 32,
   "metadata": {},
   "outputs": [
    {
     "data": {
      "text/plain": [
       "<Image layer 'lysosome_object [4]' at 0x182e04e20>"
      ]
     },
     "execution_count": 32,
     "metadata": {},
     "output_type": "execute_result"
    }
   ],
   "source": [
    "\n",
    "viewer.add_image(\n",
    "    _lysosome_object,\n",
    "    scale=scale\n",
    ")\n",
    "viewer.add_labels(\n",
    "    label(lysosome_object),\n",
    "    scale=scale\n",
    ")\n",
    "viewer.add_image(\n",
    "    lysosome_object,\n",
    "    scale=scale\n",
    ")"
   ]
  },
  {
   "cell_type": "code",
   "execution_count": 33,
   "metadata": {},
   "outputs": [
    {
     "data": {
      "image/png": "[encoded data removed]",
      "text/html": [
       "<img src=\"data:image/png;base64,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\"></img>"
      ],
      "text/plain": [
       "<napari.utils.notebook_display.NotebookScreenshot at 0x149f6ca00>"
      ]
     },
     "execution_count": 33,
     "metadata": {},
     "output_type": "execute_result"
    }
   ],
   "source": [
    "from napari.utils.notebook_display import nbscreenshot\n",
    "\n",
    "# viewer.dims.ndisplay = 3\n",
    "# viewer.camera.angles = (-30, 25, 120)\n",
    "nbscreenshot(viewer, canvas_only=True)"
   ]
  },
  {
   "cell_type": "code",
   "execution_count": null,
   "metadata": {},
   "outputs": [],
   "source": []
  }
 ],
 "metadata": {
  "kernelspec": {
   "display_name": "Python 3.9.13 ('napariNEW')",
   "language": "python",
   "name": "python3"
  },
  "language_info": {
   "codemirror_mode": {
    "name": "ipython",
    "version": 3
   },
   "file_extension": ".py",
   "mimetype": "text/x-python",
   "name": "python",
   "nbconvert_exporter": "python",
   "pygments_lexer": "ipython3",
   "version": "3.9.13"
  },
  "orig_nbformat": 4,
  "vscode": {
   "interpreter": {
    "hash": "d6148ef1fb015fb20f0b6da2ea61c87c6b848bdf3dabb03087e5d5cd0c4607e9"
   }
  }
 },
 "nbformat": 4,
 "nbformat_minor": 2
}
