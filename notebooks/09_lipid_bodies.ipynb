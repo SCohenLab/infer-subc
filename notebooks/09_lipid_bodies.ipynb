{
 "cells": [
  {
   "cell_type": "markdown",
   "metadata": {},
   "source": [
    "# Infer ***lipid body*** - part 9️⃣\n",
    "\n",
    "--------------\n",
    "\n",
    "## OBJECTIVE: ✅ Infer sub-cellular component ***lipid body***  in order to understand interactome \n",
    "\n",
    "\n",
    "\n",
    "Dependencies:\n",
    "The  ***lipid body***  inference rely on the cytosol mask.\n"
   ]
  },
  {
   "cell_type": "markdown",
   "metadata": {},
   "source": [
    "\n",
    "## IMPORTS"
   ]
  },
  {
   "cell_type": "code",
   "execution_count": 11,
   "metadata": {},
   "outputs": [
    {
     "ename": "ImportError",
     "evalue": "cannot import name 'infer_nuclei' from 'infer_subc_2d.organelles.nuclei' (/Users/ahenrie/Projects/Imaging/infer-subc-2D/infer_subc_2d/organelles/nuclei.py)",
     "output_type": "error",
     "traceback": [
      "\u001b[0;31m---------------------------------------------------------------------------\u001b[0m",
      "\u001b[0;31mImportError\u001b[0m                               Traceback (most recent call last)",
      "\u001b[1;32m/Users/ahenrie/Projects/Imaging/infer-subc-2D/notebooks/09_lipid_bodies.ipynb Cell 3\u001b[0m in \u001b[0;36m<cell line: 57>\u001b[0;34m()\u001b[0m\n\u001b[1;32m     <a href='vscode-notebook-cell:/Users/ahenrie/Projects/Imaging/infer-subc-2D/notebooks/09_lipid_bodies.ipynb#W2sZmlsZQ%3D%3D?line=45'>46</a>\u001b[0m \u001b[39mfrom\u001b[39;00m \u001b[39minfer_subc_2d\u001b[39;00m\u001b[39m.\u001b[39;00m\u001b[39mconstants\u001b[39;00m \u001b[39mimport\u001b[39;00m (TEST_IMG_N,\n\u001b[1;32m     <a href='vscode-notebook-cell:/Users/ahenrie/Projects/Imaging/infer-subc-2D/notebooks/09_lipid_bodies.ipynb#W2sZmlsZQ%3D%3D?line=46'>47</a>\u001b[0m                                                                     NUC_CH ,\n\u001b[1;32m     <a href='vscode-notebook-cell:/Users/ahenrie/Projects/Imaging/infer-subc-2D/notebooks/09_lipid_bodies.ipynb#W2sZmlsZQ%3D%3D?line=47'>48</a>\u001b[0m                                                                     LYSO_CH ,\n\u001b[0;32m   (...)\u001b[0m\n\u001b[1;32m     <a href='vscode-notebook-cell:/Users/ahenrie/Projects/Imaging/infer-subc-2D/notebooks/09_lipid_bodies.ipynb#W2sZmlsZQ%3D%3D?line=52'>53</a>\u001b[0m                                                                     LIPID_CH ,\n\u001b[1;32m     <a href='vscode-notebook-cell:/Users/ahenrie/Projects/Imaging/infer-subc-2D/notebooks/09_lipid_bodies.ipynb#W2sZmlsZQ%3D%3D?line=53'>54</a>\u001b[0m                                                                     RESIDUAL_CH )        \n\u001b[1;32m     <a href='vscode-notebook-cell:/Users/ahenrie/Projects/Imaging/infer-subc-2D/notebooks/09_lipid_bodies.ipynb#W2sZmlsZQ%3D%3D?line=55'>56</a>\u001b[0m \u001b[39mfrom\u001b[39;00m \u001b[39minfer_subc_2d\u001b[39;00m\u001b[39m.\u001b[39;00m\u001b[39morganelles\u001b[39;00m\u001b[39m.\u001b[39;00m\u001b[39msoma\u001b[39;00m \u001b[39mimport\u001b[39;00m infer_soma\n\u001b[0;32m---> <a href='vscode-notebook-cell:/Users/ahenrie/Projects/Imaging/infer-subc-2D/notebooks/09_lipid_bodies.ipynb#W2sZmlsZQ%3D%3D?line=56'>57</a>\u001b[0m \u001b[39mfrom\u001b[39;00m \u001b[39minfer_subc_2d\u001b[39;00m\u001b[39m.\u001b[39;00m\u001b[39morganelles\u001b[39;00m\u001b[39m.\u001b[39;00m\u001b[39mnuclei\u001b[39;00m \u001b[39mimport\u001b[39;00m infer_nuclei\n\u001b[1;32m     <a href='vscode-notebook-cell:/Users/ahenrie/Projects/Imaging/infer-subc-2D/notebooks/09_lipid_bodies.ipynb#W2sZmlsZQ%3D%3D?line=57'>58</a>\u001b[0m \u001b[39mfrom\u001b[39;00m \u001b[39minfer_subc_2d\u001b[39;00m\u001b[39m.\u001b[39;00m\u001b[39morganelles\u001b[39;00m\u001b[39m.\u001b[39;00m\u001b[39mcytosol\u001b[39;00m \u001b[39mimport\u001b[39;00m infer_cytosol\n\u001b[1;32m     <a href='vscode-notebook-cell:/Users/ahenrie/Projects/Imaging/infer-subc-2D/notebooks/09_lipid_bodies.ipynb#W2sZmlsZQ%3D%3D?line=59'>60</a>\u001b[0m get_ipython()\u001b[39m.\u001b[39mrun_line_magic(\u001b[39m'\u001b[39m\u001b[39mload_ext\u001b[39m\u001b[39m'\u001b[39m, \u001b[39m'\u001b[39m\u001b[39mautoreload\u001b[39m\u001b[39m'\u001b[39m)\n",
      "\u001b[0;31mImportError\u001b[0m: cannot import name 'infer_nuclei' from 'infer_subc_2d.organelles.nuclei' (/Users/ahenrie/Projects/Imaging/infer-subc-2D/infer_subc_2d/organelles/nuclei.py)"
     ]
    }
   ],
   "source": [
    "# top level imports\n",
    "from pathlib import Path\n",
    "import os, sys\n",
    "from collections import defaultdict\n",
    "\n",
    "import numpy as np\n",
    "import scipy\n",
    "\n",
    "# TODO:  prune the imports.. this is the big set for almost all organelles\n",
    "# # function for core algorithm\n",
    "from scipy import ndimage as ndi\n",
    "import aicssegmentation\n",
    "from aicssegmentation.core.seg_dot import dot_3d_wrapper, dot_slice_by_slice, dot_2d_slice_by_slice_wrapper, dot_3d\n",
    "from aicssegmentation.core.pre_processing_utils import ( intensity_normalization, \n",
    "                                                         image_smoothing_gaussian_3d,  \n",
    "                                                         image_smoothing_gaussian_slice_by_slice,\n",
    "                                                         edge_preserving_smoothing_3d )\n",
    "from aicssegmentation.core.utils import topology_preserving_thinning, size_filter\n",
    "from aicssegmentation.core.MO_threshold import MO\n",
    "from aicssegmentation.core.utils import hole_filling\n",
    "from aicssegmentation.core.vessel import filament_2d_wrapper, vesselnessSliceBySlice\n",
    "from aicssegmentation.core.output_utils import   save_segmentation,  generate_segmentation_contour\n",
    "                                                 \n",
    "from skimage import filters\n",
    "from skimage.segmentation import watershed\n",
    "from skimage.feature import peak_local_max\n",
    "from skimage.morphology import remove_small_objects, binary_closing, ball , dilation, remove_small_holes   # function for post-processing (size filter)\n",
    "from skimage.measure import label\n",
    "\n",
    "# # package for io \n",
    "from aicsimageio import AICSImage\n",
    "\n",
    "import napari\n",
    "\n",
    "### import local python functions in ../infer_subc_2d\n",
    "sys.path.append(os.path.abspath((os.path.join(os.getcwd(), '..'))))\n",
    "\n",
    "from infer_subc_2d.utils.file_io import (read_czi_image, \n",
    "                                                                    list_image_files, \n",
    "                                                                    export_ome_tiff, \n",
    "                                                                    etree_to_dict, \n",
    "                                                                    save_parameters, \n",
    "                                                                    load_parameters, \n",
    "                                                                    export_ndarray)\n",
    "from infer_subc_2d.utils.img import *\n",
    "from infer_subc_2d.constants import (TEST_IMG_N,\n",
    "                                                                    NUC_CH ,\n",
    "                                                                    LYSO_CH ,\n",
    "                                                                    MITO_CH ,\n",
    "                                                                    GOLGI_CH ,\n",
    "                                                                    PEROXI_CH ,\n",
    "                                                                    ER_CH ,\n",
    "                                                                    LIPID_CH ,\n",
    "                                                                    RESIDUAL_CH )        \n",
    "                                                                    \n",
    "from infer_subc_2d.organelles.soma import infer_soma\n",
    "from infer_subc_2d.organelles.nuclei import infer_nuclei\n",
    "from infer_subc_2d.organelles.cytosol import infer_cytosol\n",
    "\n",
    "%load_ext autoreload\n",
    "%autoreload 2\n",
    "\n",
    "test_img_n = 5"
   ]
  },
  {
   "cell_type": "markdown",
   "metadata": {},
   "source": [
    "# IMAGE PROCESSING Objective 9️⃣:  infer ***lipid body*** \n",
    "> Back to  [OUTLINE: Objectives 9️⃣](00_pipeline_setup.ipynb#summary-of-objectives)\n",
    "\n",
    "## summary \n",
    "\n",
    "NOTE:  consider using [Fibrillarin](https://www.allencell.org/cell-observations/category/fibrillarin) (nucleous marker) workflow from AllenCell.  playground_spotty.ipynb  or maybe [centrin](https://www.allencell.org/cell-observations/category/centrin)\n",
    "\n",
    "\n",
    "Not a good thing to follow from  the Allen Cell Segmenter procedure, but doing more aggressive contrast scaling than their prescribed contrast scaling.\n",
    "\n",
    "### steps\n",
    "\n",
    "INPUT\n",
    "- ch 7\n",
    "- cytosol mask\n",
    "\n",
    "\n",
    "PRE-PROCESSING\n",
    "- rescale \n",
    "-  median, window 2\n",
    "-  \n",
    "CORE-PROCESSING\n",
    "   - \"robust background\" 2 STD\n",
    "\n",
    "POST-PROCESSING\n",
    "  - n/a\n",
    "\n",
    "OUTPUT\n",
    "- object BD\n",
    "\n",
    "\n",
    "\n"
   ]
  },
  {
   "cell_type": "markdown",
   "metadata": {},
   "source": [
    "\n",
    "------------------------\n",
    "# LOAD RAW IMAGE DATA\n",
    "Identify path to _raw_ image data and load our example image\n"
   ]
  },
  {
   "cell_type": "code",
   "execution_count": 12,
   "metadata": {},
   "outputs": [
    {
     "name": "stderr",
     "output_type": "stream",
     "text": [
      "/opt/anaconda3/envs/napariNEW/lib/python3.9/site-packages/ome_types/_convenience.py:105: FutureWarning: The default XML parser will be changing from 'xmlschema' to 'lxml' in version 0.4.0.  To silence this warning, please provide the `parser` argument, specifying either 'lxml' (to opt into the new behavior), or'xmlschema' (to retain the old behavior).\n",
      "  d = to_dict(os.fspath(xml), parser=parser, validate=validate)\n"
     ]
    }
   ],
   "source": [
    "data_root_path = Path(os.path.expanduser(\"~\")) / \"Projects/Imaging/data\"\n",
    "\n",
    "# linearly unmixed \".czi\" files are here\n",
    "data_path = data_root_path / \"raw\"\n",
    "im_type = \".czi\"\n",
    "\n",
    "# get the list of all files\n",
    "img_file_list = list_image_files(data_path,im_type)\n",
    "test_img_name = img_file_list[test_img_n]\n",
    "\n",
    "img_data,meta_dict = read_czi_image(test_img_name)\n",
    "\n",
    "# get some top-level info about the RAW data\n",
    "channel_names = meta_dict['name']\n",
    "img = meta_dict['metadata']['aicsimage']\n",
    "scale = meta_dict['scale']\n",
    "channel_axis = meta_dict['channel_axis']\n"
   ]
  },
  {
   "cell_type": "markdown",
   "metadata": {},
   "source": [
    "## CHOOZE Z-SLICE\n",
    "\n",
    "Lets find the slice with the most overall intensity..."
   ]
  },
  {
   "cell_type": "code",
   "execution_count": 13,
   "metadata": {},
   "outputs": [],
   "source": [
    "ch_to_agg = ( LYSO_CH ,\n",
    "                        MITO_CH ,\n",
    "                        GOLGI_CH ,\n",
    "                        PEROXI_CH ,\n",
    "                        ER_CH ,\n",
    "                        LIPID_CH )\n",
    "                            \n",
    "nuc_ch = NUC_CH\n",
    "optimal_Z = find_optimal_Z(img_data, nuc_ch, ch_to_agg) \n",
    "\n"
   ]
  },
  {
   "cell_type": "markdown",
   "metadata": {},
   "source": [
    "Now get the single \"optimal\" slice of all our organelle channels...."
   ]
  },
  {
   "cell_type": "code",
   "execution_count": 14,
   "metadata": {},
   "outputs": [],
   "source": [
    "img_2D = img_data[:,[optimal_Z],:,:].copy()"
   ]
  },
  {
   "cell_type": "markdown",
   "metadata": {},
   "source": [
    "## Collect the ***cytosol*** mask\n",
    "\n",
    "i.e. inferred soma, nuclei and cytosol objects\n",
    "(takes < 1 sec)"
   ]
  },
  {
   "cell_type": "code",
   "execution_count": 15,
   "metadata": {},
   "outputs": [],
   "source": [
    "\n",
    "soma_mask =  infer_soma(img_2D) \n",
    "nuclei_object =  infer_nuclei(img_2D, soma_mask) \n",
    "cytosol_mask =  infer_cytosol( nuclei_object,soma_mask) \n"
   ]
  },
  {
   "cell_type": "markdown",
   "metadata": {},
   "source": [
    "## Build  ***lipid body***  specific inference workflow\n",
    "\n"
   ]
  },
  {
   "cell_type": "markdown",
   "metadata": {},
   "source": [
    "### INPUT"
   ]
  },
  {
   "cell_type": "code",
   "execution_count": 16,
   "metadata": {},
   "outputs": [],
   "source": [
    "###################\n",
    "# INPUT\n",
    "###################\n",
    "raw_er   = img_2D[LIPID_CH].copy()\n"
   ]
  },
  {
   "cell_type": "markdown",
   "metadata": {},
   "source": [
    "### PRE-PROCESSING"
   ]
  },
  {
   "cell_type": "code",
   "execution_count": 17,
   "metadata": {},
   "outputs": [],
   "source": [
    "###################\n",
    "# PRE_PROCESSING\n",
    "###################\n",
    "struct_img = min_max_intensity_normalization( raw_er)\n",
    "\n",
    "med_filter_size = 2   \n",
    "struct_img = median_filter_slice_by_slice( \n",
    "                                                                struct_img,\n",
    "                                                                size=med_filter_size  )\n",
    "\n",
    "gaussian_smoothing_sigma = 1.34\n",
    "gaussian_smoothing_truncate_range = 3.0\n",
    "struct_img = image_smoothing_gaussian_slice_by_slice(   struct_img,\n",
    "                                                                                                    sigma=gaussian_smoothing_sigma,\n",
    "                                                                                                    truncate_range = gaussian_smoothing_truncate_range\n",
    "                                                                                                )\n"
   ]
  },
  {
   "cell_type": "markdown",
   "metadata": {},
   "source": [
    "### CORE PROCESSING"
   ]
  },
  {
   "cell_type": "code",
   "execution_count": 33,
   "metadata": {},
   "outputs": [],
   "source": [
    "\n",
    "###################\n",
    "# CORE_PROCESSING\n",
    "###################\n",
    "\n",
    "threshold_factor = 0.99 #from cellProfiler\n",
    "thresh_min = .5\n",
    "thresh_max = 1.\n",
    "otsu_thresholded = apply_threshold(struct_img, method= \"otsu\", threshold_factor=threshold_factor, thresh_min=thresh_min, thresh_max=thresh_max)\n"
   ]
  },
  {
   "cell_type": "markdown",
   "metadata": {},
   "source": [
    "### POST-PROCESSING"
   ]
  },
  {
   "cell_type": "code",
   "execution_count": 31,
   "metadata": {},
   "outputs": [],
   "source": [
    "\n",
    "###################\n",
    "# POST_PROCESSING\n",
    "###################\n",
    "# # wrapper to remoce_small_objects\n",
    "hole_min = 0\n",
    "hole_max = 2.5\n",
    "bw = hole_filling(otsu_thresholded, hole_min=hole_min**2, hole_max=hole_max**2, fill_2d=True)\n",
    "\n",
    "struct_obj = apply_mask(bw, cytosol_mask)\n",
    "\n",
    "small_object_max = 4\n",
    "\n",
    "struct_obj = size_filter_2D(struct_obj, # wrapper to remove_small_objects which can do slice by slice\n",
    "                                                         min_size= small_object_max ** 2, \n",
    "                                                         connectivity=1)\n",
    "\n",
    "\n",
    "lipid_object = struct_obj\n",
    "lipid_labels = label( lipid_object   )\n"
   ]
  },
  {
   "cell_type": "markdown",
   "metadata": {},
   "source": [
    "#### Visualize with `napari`\n",
    "Visualize the first-pass segmentation and labeling with `napari`."
   ]
  },
  {
   "cell_type": "code",
   "execution_count": 27,
   "metadata": {},
   "outputs": [
    {
     "ename": "NameError",
     "evalue": "name 'structure_img_smooth' is not defined",
     "output_type": "error",
     "traceback": [
      "\u001b[0;31m---------------------------------------------------------------------------\u001b[0m",
      "\u001b[0;31mNameError\u001b[0m                                 Traceback (most recent call last)",
      "\u001b[1;32m/Users/ahenrie/Projects/Imaging/infer-subc-2D/notebooks/09_lipid_bodies.ipynb Cell 23\u001b[0m in \u001b[0;36m<cell line: 8>\u001b[0;34m()\u001b[0m\n\u001b[1;32m      <a href='vscode-notebook-cell:/Users/ahenrie/Projects/Imaging/infer-subc-2D/notebooks/09_lipid_bodies.ipynb#X66sZmlsZQ%3D%3D?line=0'>1</a>\u001b[0m viewer \u001b[39m=\u001b[39m napari\u001b[39m.\u001b[39mview_image(\n\u001b[1;32m      <a href='vscode-notebook-cell:/Users/ahenrie/Projects/Imaging/infer-subc-2D/notebooks/09_lipid_bodies.ipynb#X66sZmlsZQ%3D%3D?line=1'>2</a>\u001b[0m     lipid_object,\n\u001b[1;32m      <a href='vscode-notebook-cell:/Users/ahenrie/Projects/Imaging/infer-subc-2D/notebooks/09_lipid_bodies.ipynb#X66sZmlsZQ%3D%3D?line=2'>3</a>\u001b[0m     scale\u001b[39m=\u001b[39mscale\n\u001b[1;32m      <a href='vscode-notebook-cell:/Users/ahenrie/Projects/Imaging/infer-subc-2D/notebooks/09_lipid_bodies.ipynb#X66sZmlsZQ%3D%3D?line=3'>4</a>\u001b[0m )\n\u001b[1;32m      <a href='vscode-notebook-cell:/Users/ahenrie/Projects/Imaging/infer-subc-2D/notebooks/09_lipid_bodies.ipynb#X66sZmlsZQ%3D%3D?line=6'>7</a>\u001b[0m viewer\u001b[39m.\u001b[39mscale_bar\u001b[39m.\u001b[39mvisible \u001b[39m=\u001b[39m \u001b[39mTrue\u001b[39;00m\n\u001b[1;32m      <a href='vscode-notebook-cell:/Users/ahenrie/Projects/Imaging/infer-subc-2D/notebooks/09_lipid_bodies.ipynb#X66sZmlsZQ%3D%3D?line=7'>8</a>\u001b[0m viewer\u001b[39m.\u001b[39madd_image(\n\u001b[0;32m----> <a href='vscode-notebook-cell:/Users/ahenrie/Projects/Imaging/infer-subc-2D/notebooks/09_lipid_bodies.ipynb#X66sZmlsZQ%3D%3D?line=8'>9</a>\u001b[0m     structure_img_smooth,\n\u001b[1;32m     <a href='vscode-notebook-cell:/Users/ahenrie/Projects/Imaging/infer-subc-2D/notebooks/09_lipid_bodies.ipynb#X66sZmlsZQ%3D%3D?line=9'>10</a>\u001b[0m     scale\u001b[39m=\u001b[39mscale\n\u001b[1;32m     <a href='vscode-notebook-cell:/Users/ahenrie/Projects/Imaging/infer-subc-2D/notebooks/09_lipid_bodies.ipynb#X66sZmlsZQ%3D%3D?line=10'>11</a>\u001b[0m )\n\u001b[1;32m     <a href='vscode-notebook-cell:/Users/ahenrie/Projects/Imaging/infer-subc-2D/notebooks/09_lipid_bodies.ipynb#X66sZmlsZQ%3D%3D?line=12'>13</a>\u001b[0m viewer\u001b[39m.\u001b[39madd_labels(\n\u001b[1;32m     <a href='vscode-notebook-cell:/Users/ahenrie/Projects/Imaging/infer-subc-2D/notebooks/09_lipid_bodies.ipynb#X66sZmlsZQ%3D%3D?line=13'>14</a>\u001b[0m     lipid_labels,\n\u001b[1;32m     <a href='vscode-notebook-cell:/Users/ahenrie/Projects/Imaging/infer-subc-2D/notebooks/09_lipid_bodies.ipynb#X66sZmlsZQ%3D%3D?line=14'>15</a>\u001b[0m     scale\u001b[39m=\u001b[39mscale\n\u001b[1;32m     <a href='vscode-notebook-cell:/Users/ahenrie/Projects/Imaging/infer-subc-2D/notebooks/09_lipid_bodies.ipynb#X66sZmlsZQ%3D%3D?line=15'>16</a>\u001b[0m )\n",
      "\u001b[0;31mNameError\u001b[0m: name 'structure_img_smooth' is not defined"
     ]
    }
   ],
   "source": [
    "\n",
    "viewer = napari.view_image(\n",
    "    lipid_object,\n",
    "    scale=scale\n",
    ")\n",
    "\n"
   ]
  },
  {
   "cell_type": "code",
   "execution_count": 29,
   "metadata": {},
   "outputs": [
    {
     "data": {
      "text/plain": [
       "<Labels layer 'lipid_labels' at 0x174457820>"
      ]
     },
     "execution_count": 29,
     "metadata": {},
     "output_type": "execute_result"
    }
   ],
   "source": [
    "\n",
    "viewer.scale_bar.visible = True\n",
    "viewer.add_image(\n",
    "    struct_img,\n",
    "    scale=scale\n",
    ")\n",
    "\n",
    "viewer.add_labels(\n",
    "    lipid_labels,\n",
    "    scale=scale\n",
    ")"
   ]
  },
  {
   "cell_type": "code",
   "execution_count": 32,
   "metadata": {},
   "outputs": [
    {
     "data": {
      "text/plain": [
       "<Image layer 'lipid_object [1]' at 0x17f05b8b0>"
      ]
     },
     "execution_count": 32,
     "metadata": {},
     "output_type": "execute_result"
    }
   ],
   "source": [
    "viewer.add_image(\n",
    "    lipid_object,\n",
    "    scale=scale\n",
    ")\n",
    "\n"
   ]
  },
  {
   "cell_type": "markdown",
   "metadata": {},
   "source": [
    "### Collect into a single `infer_lipid_body` function"
   ]
  },
  {
   "cell_type": "code",
   "execution_count": 36,
   "metadata": {},
   "outputs": [
    {
     "name": "stderr",
     "output_type": "stream",
     "text": [
      "[autoreload of infer_subc_2d.organelles.lipid failed: Traceback (most recent call last):\n",
      "  File \"/opt/anaconda3/envs/napariNEW/lib/python3.9/site-packages/IPython/extensions/autoreload.py\", line 257, in check\n",
      "    superreload(m, reload, self.old_objects)\n",
      "  File \"/opt/anaconda3/envs/napariNEW/lib/python3.9/site-packages/IPython/extensions/autoreload.py\", line 455, in superreload\n",
      "    module = reload(module)\n",
      "  File \"/opt/anaconda3/envs/napariNEW/lib/python3.9/importlib/__init__.py\", line 169, in reload\n",
      "    _bootstrap._exec(spec, module)\n",
      "  File \"<frozen importlib._bootstrap>\", line 613, in _exec\n",
      "  File \"<frozen importlib._bootstrap_external>\", line 850, in exec_module\n",
      "  File \"<frozen importlib._bootstrap>\", line 228, in _call_with_frames_removed\n",
      "  File \"/Users/ahenrie/Projects/Imaging/infer-subc-2D/infer_subc_2d/organelles/lipid.py\", line 20, in <module>\n",
      "    def _infer_lipid_body(in_img: np.ndarray, cytosol_mask: np.ndarray) -> np.ndarray:\n",
      "NameError: name 'np' is not defined\n",
      "]\n"
     ]
    }
   ],
   "source": [
    "##########################\n",
    "#  infer_endoplasmic_reticulum\n",
    "##########################\n",
    "def _infer_lipid_body(in_img:  np.ndarray, cytosol_mask:  np.ndarray) -> np.ndarray:\n",
    "    \"\"\"\n",
    "    Procedure to infer peroxisome from linearly unmixed input.\n",
    "\n",
    "    Parameters:\n",
    "    ------------\n",
    "    in_img: np.ndarray\n",
    "        a 3d image containing all the channels\n",
    "\n",
    "    cytosol_mask: np.ndarray\n",
    "        mask of cytosol\n",
    " \n",
    "    Returns:\n",
    "    -------------\n",
    "    peroxi_object\n",
    "        mask defined extent of peroxisome object\n",
    "    \"\"\"\n",
    "    in_img   = img_2D[LIPID_CH].copy()\n",
    "\n",
    "    ###################\n",
    "    # PRE_PROCESSING\n",
    "    ###################                         \n",
    "    struct_img = min_max_intensity_normalization( struct_img )\n",
    "\n",
    "    med_filter_size = 2   \n",
    "    struct_img = median_filter_slice_by_slice( \n",
    "                                                                    struct_img,\n",
    "                                                                    size=med_filter_size  )\n",
    "\n",
    "    gaussian_smoothing_sigma = 1.34\n",
    "    gaussian_smoothing_truncate_range = 3.0\n",
    "    struct_img = image_smoothing_gaussian_slice_by_slice(   struct_img,\n",
    "                                                                                                        sigma=gaussian_smoothing_sigma,\n",
    "                                                                                                        truncate_range = gaussian_smoothing_truncate_range\n",
    "                                                                                                    )\n",
    "\n",
    "\n",
    "\n",
    "   ###################\n",
    "    # CORE_PROCESSING\n",
    "    ###################\n",
    "\n",
    "    threshold_factor = 0.99 #from cellProfiler\n",
    "    thresh_min = .5\n",
    "    thresh_max = 1.\n",
    "    bw = apply_threshold(struct_img, method= \"otsu\", threshold_factor=threshold_factor, thresh_min=thresh_min, thresh_max=thresh_max)\n",
    "\n",
    "    ###################\n",
    "    # POST_PROCESSING\n",
    "    ###################\n",
    "    # 2D cleaning\n",
    "    hole_min = 0\n",
    "    hole_max = 2.5\n",
    "    struct_obj = hole_filling(bw, hole_min=hole_min**2, hole_max=hole_max**2, fill_2d=True)\n",
    "\n",
    "    struct_obj = apply_mask(struct_obj, cytosol_mask)\n",
    "\n",
    "    small_object_max = 4\n",
    "    struct_obj = size_filter_2D(struct_obj, # wrapper to remove_small_objects which can do slice by slice\n",
    "                                                            min_size= small_object_max ** 2, \n",
    "                                                            connectivity=1)\n",
    "\n",
    "    return struct_obj\n"
   ]
  },
  {
   "cell_type": "markdown",
   "metadata": {},
   "source": [
    "# TEST  `infer_lipid_body` function"
   ]
  },
  {
   "cell_type": "code",
   "execution_count": 38,
   "metadata": {},
   "outputs": [],
   "source": [
    "\n",
    "_lipid_obj =  _infer_lipid_body(img_2D, cytosol_mask) "
   ]
  },
  {
   "cell_type": "code",
   "execution_count": 39,
   "metadata": {},
   "outputs": [],
   "source": [
    "from infer_subc_2d.organelles.er import infer_endoplasmic_reticulum\n",
    "\n",
    "lipid_obj =  infer_lipid_body(img_2D, cytosol_mask) "
   ]
  },
  {
   "cell_type": "code",
   "execution_count": 40,
   "metadata": {},
   "outputs": [
    {
     "data": {
      "text/plain": [
       "<Labels layer 'Labels' at 0x17f282fd0>"
      ]
     },
     "execution_count": 40,
     "metadata": {},
     "output_type": "execute_result"
    }
   ],
   "source": [
    "\n",
    "viewer.add_image(\n",
    "    _lipid_obj,\n",
    "    scale=scale\n",
    ")\n",
    "\n",
    "viewer.add_image(\n",
    "    lipid_obj,\n",
    "    scale=scale\n",
    ")\n",
    "viewer.add_labels(\n",
    "    label(lipid_obj),\n",
    "    scale=scale\n",
    ")"
   ]
  },
  {
   "cell_type": "code",
   "execution_count": 41,
   "metadata": {},
   "outputs": [
    {
     "data": {
      "image/png": "[encoded data removed]",
      "text/html": [
       "<img src=\"data:image/png;base64,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\"></img>"
      ],
      "text/plain": [
       "<napari.utils.notebook_display.NotebookScreenshot at 0x17f3c28b0>"
      ]
     },
     "execution_count": 41,
     "metadata": {},
     "output_type": "execute_result"
    }
   ],
   "source": [
    "from napari.utils.notebook_display import nbscreenshot\n",
    "\n",
    "# viewer.dims.ndisplay = 3\n",
    "# viewer.camera.angles = (-30, 25, 120)\n",
    "nbscreenshot(viewer, canvas_only=True)"
   ]
  }
 ],
 "metadata": {
  "kernelspec": {
   "display_name": "Python 3.9.13 ('napariNEW')",
   "language": "python",
   "name": "python3"
  },
  "language_info": {
   "codemirror_mode": {
    "name": "ipython",
    "version": 3
   },
   "file_extension": ".py",
   "mimetype": "text/x-python",
   "name": "python",
   "nbconvert_exporter": "python",
   "pygments_lexer": "ipython3",
   "version": "3.9.13"
  },
  "orig_nbformat": 4,
  "vscode": {
   "interpreter": {
    "hash": "d6148ef1fb015fb20f0b6da2ea61c87c6b848bdf3dabb03087e5d5cd0c4607e9"
   }
  }
 },
 "nbformat": 4,
 "nbformat_minor": 2
}
