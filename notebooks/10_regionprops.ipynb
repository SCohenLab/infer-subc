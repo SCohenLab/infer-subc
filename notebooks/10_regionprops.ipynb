{
 "cells": [
  {
   "attachments": {},
   "cell_type": "markdown",
   "metadata": {},
   "source": [
    "# SCohenLab 2D BATCH Image Processing notebook (Simplified MCZ)\n",
    "--------------\n",
    "\n",
    "# PIPELINE OVERVIEW\n",
    "## ❶ GOAL SETTING ✍\n",
    "\n",
    "\n",
    "### GOAL:  Infer sub-cellular components in order to understand interactome \n",
    "\n",
    "To measure shape, position, size, and interaction of eight organelles/cellular components (Nuclei (NU), Lysosomes (LS),Mitochondria (MT), Golgi (GL), Peroxisomes (PO), Endoplasmic Reticulum (ER), Lipid Droplet (LD), and CELLMASK) during differentiation of iPSCs, in order to understand the Interactome / Spatiotemporal coordination.\n",
    "\n",
    "### summary of _OBJECTIVES_ ✅\n",
    "- robust inference of subcellular objects:\n",
    "  + 1️⃣-***nuclei***\n",
    "  + 2️⃣-***cellmask***\n",
    "  + 3️⃣-***cytoplasm*** (+ ***nucleus***)\n",
    "  + 4️⃣-***lysosome***\n",
    "  + 5️⃣-***mitochondria***\n",
    "  + 6️⃣-***golgi***\n",
    "  + 7️⃣-***peroxisome***\n",
    "  + 8️⃣-***ER***\n",
    "  + 9️⃣-***lipid droplet***\n",
    "\n"
   ]
  },
  {
   "cell_type": "markdown",
   "metadata": {},
   "source": [
    "\n",
    "\n",
    "## ❷ DATA CREATION\n",
    "> METHODS:📚📚\n",
    "> \n",
    "> iPSC lines prepared and visualized on Zeiss Microscopes. 32 channel multispectral images collected.  Linear Unmixing in  ZEN Blue software with target emission spectra yields 8 channel image outputs.  Channels correspond to: Nuclei (NU), Lysosomes (LS),Mitochondria (MT), Golgi (GL), Peroxisomes (PO), Endoplasmic Reticulum (ER), Lipid Droplet (LD), and a “residual” signal.\n",
    "\n",
    "> Meta-DATA 🏺 (artifacts)\n",
    ">   - Microcope settings\n",
    ">  - OME scheme\n",
    "> - Experimenter observations\n",
    "> - Sample, bio-replicate, image numbers, condition values, etc\n",
    ">  - Dates\n",
    ">  - File structure, naming conventions\n",
    ">  - etc.\n",
    "\n",
    "\n"
   ]
  },
  {
   "cell_type": "markdown",
   "metadata": {},
   "source": [
    "\n",
    "## ❸. IMAGE PROCESSING ⚙️🩻🔬\n",
    "### INFERENCE OF SUB-CELLULAR OBJECTS\n",
    "The imported images have already been pre-processed to transform the 32 channel spectral measuremnts into \"linearly unmixed\" images which estimate independently labeled sub-cellular components.  Thes 7 channels (plus a residual \"non-linear\" signal) will be used to infer the shapes and extents of these sub-cellular components.   \n",
    "We will perform computational image analysis on the pictures (in 2D an 3D) to _segment_ the components of interest for measurement.  In other prcoedures we can used these labels as \"ground truth\" labels to train machine learning models to automatically perform the inference of these objects.\n",
    "Pseudo-independent processing of the imported multi-channel image to acheive each of the 9 objecives stated above.  i.e. infering: NUCLEI, CELLMASK, CYTOPLASM, LYSOSOME, MITOCHONDRIA, GOLGI COMPLEX, PEROZISOMES, ENDOPLASMIC RETICULUM, and LIPID BODIES\n",
    "\n",
    "### General flow for infering objects via segmentation\n",
    "- Pre-processing 🌒\n",
    "- Core-processing (thresholding) 🌕\n",
    "- Post-processing  🌘\n",
    "\n",
    "### QC 🚧 WIP 🚧 \n"
   ]
  },
  {
   "attachments": {},
   "cell_type": "markdown",
   "metadata": {},
   "source": [
    "\n",
    "\n",
    "## ❹. QUANTIFICATION 📏📐🧮\n",
    "\n",
    "SUBCELLULAR COMPONENT METRICS\n",
    "-  extent \n",
    "-  size\n",
    "-  shape\n",
    "-  position\n",
    "\n",
    "\n",
    "\n",
    "### NOTE: PIPELINE TOOL AND DESIGN CHOICES?\n",
    "We want to leverage the Allen Cell & Structure Setmenter.  It has been wrapped as a [napari-plugin](https://www.napari-hub.org/plugins/napari-allencell-segmenter) but fore the workflow we are proving out here we will want to call the `aicssegmentation` [package](https://github.com/AllenCell/aics-segmentation) directly.\n",
    "\n",
    "#### ​The Allen Cell & Structure Segmenter \n",
    "​The Allen Cell & Structure Segmenter is a Python-based open source toolkit developed at the Allen Institute for Cell Science for 3D segmentation of intracellular structures in fluorescence microscope images. This toolkit brings together classic image segmentation and iterative deep learning workflows first to generate initial high-quality 3D intracellular structure segmentations and then to easily curate these results to generate the ground truths for building robust and accurate deep learning models. The toolkit takes advantage of the high replicate 3D live cell image data collected at the Allen Institute for Cell Science of over 30 endogenous fluorescently tagged human induced pluripotent stem cell (hiPSC) lines. Each cell line represents a different intracellular structure with one or more distinct localization patterns within undifferentiated hiPS cells and hiPSC-derived cardiomyocytes.\n",
    "\n",
    "More details about Segmenter can be found at https://allencell.org/segmenter\n",
    "In order to leverage the A\n"
   ]
  },
  {
   "attachments": {},
   "cell_type": "markdown",
   "metadata": {},
   "source": [
    "\n",
    "\n",
    "## IMPORTS"
   ]
  },
  {
   "cell_type": "code",
   "execution_count": 1,
   "metadata": {},
   "outputs": [],
   "source": [
    "# top level imports\n",
    "from pathlib import Path\n",
    "import os, sys\n",
    "from typing import Optional, Union\n",
    "\n",
    "import numpy as np\n",
    "import pandas as pd\n",
    "from skimage.measure import regionprops_table, regionprops, label\n",
    "from skimage.morphology import binary_erosion\n",
    "\n",
    "\n",
    "import napari\n",
    "\n",
    "### import local python functions in ../infer_subc\n",
    "sys.path.append(os.path.abspath((os.path.join(os.getcwd(), '..'))))\n",
    "\n",
    "from infer_subc.core.file_io import (read_czi_image,\n",
    "                                        export_inferred_organelle,\n",
    "                                        import_inferred_organelle,\n",
    "                                        export_tiff,\n",
    "                                        list_image_files)\n",
    "\n",
    "from infer_subc.core.img import *\n",
    "from infer_subc.utils.stats import *\n",
    "from infer_subc.utils.stats_helpers import *\n",
    "\n",
    "\n",
    "from infer_subc.organelles import * \n",
    "\n",
    "import time\n",
    "%load_ext autoreload\n",
    "%autoreload 2\n",
    "\n"
   ]
  },
  {
   "cell_type": "code",
   "execution_count": 2,
   "metadata": {},
   "outputs": [],
   "source": [
    "# NOTE:  these \"constants\" are only accurate for the testing MCZ dataset\n",
    "from infer_subc.constants import (TEST_IMG_N,\n",
    "                                    NUC_CH ,\n",
    "                                    LYSO_CH ,\n",
    "                                    MITO_CH ,\n",
    "                                    GOLGI_CH ,\n",
    "                                    PEROX_CH ,\n",
    "                                    ER_CH ,\n",
    "                                    LD_CH ,\n",
    "                                    RESIDUAL_CH )              "
   ]
  },
  {
   "attachments": {},
   "cell_type": "markdown",
   "metadata": {},
   "source": [
    "\n",
    "## SETUP"
   ]
  },
  {
   "cell_type": "code",
   "execution_count": 3,
   "metadata": {},
   "outputs": [],
   "source": [
    "# this will be the example image for testing the pipeline below\n",
    "test_img_n = TEST_IMG_N\n",
    "\n",
    "# build the datapath\n",
    "# all the imaging data goes here.\n",
    "data_root_path = Path(os.path.expanduser(\"~\")) / \"Projects/Imaging/data\"\n",
    "\n",
    "# linearly unmixed \".czi\" files are here\n",
    "in_data_path = data_root_path / \"raw\"\n",
    "im_type = \".czi\"\n",
    "\n",
    "# get the list of all files\n",
    "img_file_list = list_image_files(in_data_path,im_type)\n",
    "test_img_name = img_file_list[test_img_n]\n",
    "\n",
    "# save output \".tiff\" files here\n",
    "out_data_path = data_root_path / \"out\"\n",
    "\n",
    "if not Path.exists(out_data_path):\n",
    "    Path.mkdir(out_data_path)\n",
    "    print(f\"making {out_data_path}\")"
   ]
  },
  {
   "cell_type": "code",
   "execution_count": 4,
   "metadata": {},
   "outputs": [
    {
     "name": "stderr",
     "output_type": "stream",
     "text": [
      "/Users/ergonyc/miniforge3/envs/napari10/lib/python3.10/site-packages/ome_types/_convenience.py:112: FutureWarning: The default XML parser will be changing from 'xmlschema' to 'lxml' in version 0.4.0.  To silence this warning, please provide the `parser` argument, specifying either 'lxml' (to opt into the new behavior), or'xmlschema' (to retain the old behavior).\n",
      "  d = to_dict(os.fspath(xml), parser=parser, validate=validate)\n"
     ]
    }
   ],
   "source": [
    "img_data,meta_dict = read_czi_image(test_img_name)\n",
    "\n",
    "# get some top-level info about the RAW data\n",
    "channel_names = meta_dict['name']\n",
    "img = meta_dict['metadata']['aicsimage']\n",
    "scale = meta_dict['scale']\n",
    "channel_axis = meta_dict['channel_axis']\n",
    "\n",
    "source_file = meta_dict['file_name']"
   ]
  },
  {
   "cell_type": "code",
   "execution_count": 5,
   "metadata": {},
   "outputs": [
    {
     "data": {
      "text/plain": [
       "(7.267318290023735,\n",
       " (0.5804527163320905, 0.07987165184837318, 0.07987165184837318))"
      ]
     },
     "execution_count": 5,
     "metadata": {},
     "output_type": "execute_result"
    }
   ],
   "source": [
    "scale[0]/scale[1], scale"
   ]
  },
  {
   "cell_type": "markdown",
   "metadata": {},
   "source": [
    "Now get the single \"optimal\" slice of all our organelle channels...."
   ]
  },
  {
   "cell_type": "markdown",
   "metadata": {},
   "source": [
    "## get the inferred cellmask, nuclei and cytoplasm objects\n",
    "\n",
    "(takes < 1 sec)"
   ]
  },
  {
   "cell_type": "markdown",
   "metadata": {},
   "source": [
    "Builde the segmentations in order\n",
    "\n",
    "\n"
   ]
  },
  {
   "cell_type": "code",
   "execution_count": 6,
   "metadata": {},
   "outputs": [
    {
     "name": "stdout",
     "output_type": "stream",
     "text": [
      "loaded  inferred 3D `nuclei`  from /Users/ergonyc/Projects/Imaging/data/out \n",
      "loaded  inferred 3D `cellmask`  from /Users/ergonyc/Projects/Imaging/data/out \n",
      "loaded  inferred 3D `cytoplasm`  from /Users/ergonyc/Projects/Imaging/data/out \n"
     ]
    }
   ],
   "source": [
    "\n",
    "###################\n",
    "# CELLMASK, NUCLEI, CYTOPLASM, NUCLEUS\n",
    "###################\n",
    "nuclei_obj =  get_nuclei(img_data,meta_dict, out_data_path)\n",
    "cellmask_obj = get_cellmask(img_data, nuclei_obj, meta_dict, out_data_path)\n",
    "cyto_mask = get_cytoplasm(nuclei_obj , cellmask_obj , meta_dict, out_data_path)\n",
    "\n"
   ]
  },
  {
   "attachments": {},
   "cell_type": "markdown",
   "metadata": {},
   "source": [
    "-------------------------\n",
    "## regionprops\n",
    "\n",
    "`skimage.measure.regionprops` provides the basic tools nescessary to quantify our segmentations.\n",
    "\n",
    "First lets see what works in 3D.  \n",
    "\n",
    "> Note: the names of the regionprops correspond to the 2D analysis even for those which are well defined in 3D.  i.e. \"area\" is actually \"volume\" in 3D, etc."
   ]
  },
  {
   "attachments": {},
   "cell_type": "markdown",
   "metadata": {},
   "source": [
    "\n",
    "-----------------\n",
    "## basic stats\n",
    "\n",
    "### per-organelle\n",
    "\n",
    "\n",
    "- regionprops \n",
    "\n",
    "\n",
    "### summary stats\n",
    "\n",
    "- group + aggregate:  surface_area, volume\n",
    "  - median\n",
    "  - mean\n",
    "  - std \n",
    "  - count\n",
    "\n",
    "- normalizers\n",
    "  - CELLMASK?\n",
    "  - CYTOPLASM?\n",
    "\n",
    "### nuclei caveats\n",
    "The other organelles are sensibly normalized by cytoplasm.  does normalizing the nuclei by cytoplasm make sense?  or use cellmask?"
   ]
  },
  {
   "attachments": {},
   "cell_type": "markdown",
   "metadata": {},
   "source": [
    "Lets see which possible measures are sensible for 3D or volumetric with regionprops"
   ]
  },
  {
   "cell_type": "code",
   "execution_count": 7,
   "metadata": {},
   "outputs": [],
   "source": [
    "if False:\n",
    "    labels = label(nuclei_obj )\n",
    "    rp = regionprops(labels, intensity_image=img_data[NUC_CH])\n",
    "\n",
    "    supported = [] \n",
    "    unsupported = []\n",
    "\n",
    "    for prop in rp[0]:\n",
    "        try:\n",
    "            rp[0][prop]\n",
    "            supported.append(prop)\n",
    "        except NotImplementedError:\n",
    "            unsupported.append(prop)\n",
    "\n",
    "    print(\"Supported properties:\")\n",
    "    print(\"  \" + \"\\n  \".join(supported))\n",
    "    print()\n",
    "    print(\"Unsupported properties:\")\n",
    "    print(\"  \" + \"\\n  \".join(unsupported))"
   ]
  },
  {
   "attachments": {},
   "cell_type": "markdown",
   "metadata": {},
   "source": [
    "Supported properties:\n",
    "-  area\n",
    "-  bbox\n",
    "-  bbox_area\n",
    "-  centroid\n",
    "-  convex_area\n",
    "-  convex_image\n",
    "-  coords\n",
    "-  equivalent_diameter\n",
    "-  euler_number\n",
    "-  extent\n",
    "-  feret_diameter_max\n",
    "-  filled_area\n",
    "-  filled_image\n",
    "-  image\n",
    "-  inertia_tensor\n",
    "-  inertia_tensor_eigvals\n",
    "-  intensity_image\n",
    "-  label\n",
    "-  local_centroid\n",
    "-  major_axis_length\n",
    "-  max_intensity\n",
    "-  mean_intensity\n",
    "-  min_intensity\n",
    "-  minor_axis_length\n",
    "-  moments\n",
    "-  moments_central\n",
    "-  moments_normalized\n",
    "-  slice\n",
    "-  solidity\n",
    "-  weighted_centroid\n",
    "-  weighted_local_centroid\n",
    "-  weighted_moments\n",
    "-  weighted_moments_central\n",
    "-  weighted_moments_normalized\n",
    "-\n",
    "Unsupported properties:\n",
    "-  eccentricity\n",
    "-  moments_hu\n",
    "-  orientation\n",
    "-  perimeter\n",
    "-  perimeter_crofton\n",
    "-  weighted_moments_hu"
   ]
  },
  {
   "cell_type": "code",
   "execution_count": 8,
   "metadata": {},
   "outputs": [],
   "source": [
    "# from scipy.ndimage import find_objects\n",
    "    \n",
    "# labels = label(nuclei_obj ).astype(\"int\")\n",
    "# objects = find_objects(labels)\n",
    "\n",
    "# # objects are the slices into the original array for each organelle"
   ]
  },
  {
   "cell_type": "code",
   "execution_count": 9,
   "metadata": {},
   "outputs": [],
   "source": [
    "# get overall summary stats for cellmask\n",
    "cm_intensity =  raw_cellmask_fromaggr(img_data, scale_min_max=False)\n"
   ]
  },
  {
   "cell_type": "code",
   "execution_count": 10,
   "metadata": {},
   "outputs": [
    {
     "data": {
      "text/plain": [
       "dtype('uint8')"
      ]
     },
     "execution_count": 10,
     "metadata": {},
     "output_type": "execute_result"
    }
   ],
   "source": [
    "cellmask_obj.dtype"
   ]
  },
  {
   "attachments": {},
   "cell_type": "markdown",
   "metadata": {},
   "source": [
    "Now we want to get a list of our organelle names, segmentations, intensities (florescence)"
   ]
  },
  {
   "cell_type": "code",
   "execution_count": 34,
   "metadata": {},
   "outputs": [
    {
     "name": "stdout",
     "output_type": "stream",
     "text": [
      "loaded  inferred 3D `nuclei`  from /Users/ergonyc/Projects/Imaging/data/out \n",
      "loaded  inferred 3D `lyso`  from /Users/ergonyc/Projects/Imaging/data/out \n",
      "loaded lyso in (0.00) sec\n",
      "loaded  inferred 3D `mitochondria`  from /Users/ergonyc/Projects/Imaging/data/out \n",
      "loaded  inferred 3D `golgi`  from /Users/ergonyc/Projects/Imaging/data/out \n",
      "starting segmentation...\n",
      "loaded  inferred 3D `peroxisome`  from /Users/ergonyc/Projects/Imaging/data/out \n",
      "loaded peroxisome in (0.00) sec\n",
      "loaded  inferred 3D `er`  from /Users/ergonyc/Projects/Imaging/data/out \n",
      "loaded  inferred 3D `lipid`  from /Users/ergonyc/Projects/Imaging/data/out \n"
     ]
    }
   ],
   "source": [
    "# names of organelles we have\n",
    "organelle_names = [\"nuclei\",\"lyso\", \"mitochondria\",\"golgi\",\"peroxisome\",\"er\",\"lipid\"]\n",
    "\n",
    "get_methods  = [get_nuclei,\n",
    "                get_lyso,\n",
    "            get_mito,\n",
    "            get_golgi,\n",
    "            get_perox,\n",
    "            get_ER,\n",
    "            get_LD]\n",
    "\n",
    "# load all the organelle segmentations\n",
    "organelles = [meth(img_data,meta_dict, out_data_path) for meth in get_methods]\n",
    "\n",
    "# get the intensities\n",
    "organelle_channels = [NUC_CH, LYSO_CH,MITO_CH,GOLGI_CH,PEROX_CH,ER_CH,LD_CH]\n",
    "\n",
    "intensities = [img_data[ch] for ch in organelle_channels]\n"
   ]
  },
  {
   "attachments": {},
   "cell_type": "markdown",
   "metadata": {},
   "source": [
    "\n",
    "-----------------\n",
    "## CONTACTS (cross-stats)\n",
    "\n",
    "### organelle cross stats\n",
    "\n",
    "\n",
    "- regionprops \n",
    "\n",
    "\n",
    "\n",
    "- intersect for A vs all other organelles Bi\n",
    "  - regionprops on A ∩ Bi\n",
    "\n",
    "   \n",
    "- contacts?\n",
    "  - dilate then intersect?\n",
    "  - loop through each sub-object for each \n",
    "\n"
   ]
  },
  {
   "cell_type": "code",
   "execution_count": 35,
   "metadata": {},
   "outputs": [
    {
     "name": "stdout",
     "output_type": "stream",
     "text": [
      "getting stats for A = nuclei\n",
      "  b = lyso\n",
      "  b = mitochondria\n",
      "  b = golgi\n",
      "  b = peroxisome\n",
      "  b = er\n",
      "  b = lipid\n",
      "getting stats for A = lyso\n",
      "  b = nuclei\n",
      "  b = mitochondria\n",
      "  b = golgi\n",
      "  b = peroxisome\n",
      "  b = er\n",
      "  b = lipid\n",
      "getting stats for A = mitochondria\n",
      "  b = nuclei\n",
      "  b = lyso\n",
      "  b = golgi\n",
      "  b = peroxisome\n",
      "  b = er\n",
      "  b = lipid\n",
      "getting stats for A = golgi\n",
      "  b = nuclei\n",
      "  b = lyso\n",
      "  b = mitochondria\n",
      "  b = peroxisome\n",
      "  b = er\n",
      "  b = lipid\n",
      "getting stats for A = peroxisome\n",
      "  b = nuclei\n",
      "  b = lyso\n",
      "  b = mitochondria\n",
      "  b = golgi\n",
      "  b = er\n",
      "  b = lipid\n",
      "getting stats for A = er\n",
      "  b = nuclei\n",
      "  b = lyso\n",
      "  b = mitochondria\n",
      "  b = golgi\n",
      "  b = peroxisome\n",
      "  b = lipid\n",
      "getting stats for A = lipid\n",
      "  b = nuclei\n",
      "  b = lyso\n",
      "  b = mitochondria\n",
      "  b = golgi\n",
      "  b = peroxisome\n",
      "  b = er\n",
      "dumped 42 csvs\n"
     ]
    }
   ],
   "source": [
    "\n",
    "\n",
    "n_files = dump_organelle_stats(organelle_names, organelles,intensities, cyto_mask, out_data_path, source_file)"
   ]
  },
  {
   "cell_type": "code",
   "execution_count": 36,
   "metadata": {},
   "outputs": [
    {
     "name": "stdout",
     "output_type": "stream",
     "text": [
      "getting stats for A = nuclei\n",
      "  X lyso\n",
      "  X mitochondria\n",
      "  X golgi\n",
      "  X peroxisome\n",
      "  X er\n",
      "  X lipid\n",
      "getting stats for A = lyso\n",
      "  X nuclei\n",
      "  X mitochondria\n",
      "  X golgi\n",
      "  X peroxisome\n",
      "  X er\n",
      "  X lipid\n",
      "getting stats for A = mitochondria\n",
      "  X nuclei\n",
      "  X lyso\n",
      "  X golgi\n",
      "  X peroxisome\n",
      "  X er\n",
      "  X lipid\n",
      "getting stats for A = golgi\n",
      "  X nuclei\n",
      "  X lyso\n",
      "  X mitochondria\n",
      "  X peroxisome\n",
      "  X er\n",
      "  X lipid\n",
      "getting stats for A = peroxisome\n",
      "  X nuclei\n",
      "  X lyso\n",
      "  X mitochondria\n",
      "  X golgi\n",
      "  X er\n",
      "  X lipid\n",
      "getting stats for A = er\n",
      "  X nuclei\n",
      "  X lyso\n",
      "  X mitochondria\n",
      "  X golgi\n",
      "  X peroxisome\n",
      "  X lipid\n",
      "getting stats for A = lipid\n",
      "  X nuclei\n",
      "  X lyso\n",
      "  X mitochondria\n",
      "  X golgi\n",
      "  X peroxisome\n",
      "  X er\n"
     ]
    }
   ],
   "source": [
    "n_files = dump_shell_cross_stats(organelle_names, organelles, cyto_mask, out_data_path, source_file) \n"
   ]
  },
  {
   "attachments": {},
   "cell_type": "markdown",
   "metadata": {},
   "source": [
    "\n",
    "-----------------\n",
    "##  SUMMARY STATS  \n",
    "> WARNING: (🚨🚨🚨🚨 WIP)\n",
    "### normalizations.\n",
    "\n",
    "- overlaps, normalized by CYTOPLASM, A, and B\n",
    "- per cell averages, medians, std, and totals\n",
    "\n",
    "These is all pandas munging and very straightforward tabular manipulation.\n"
   ]
  },
  {
   "cell_type": "code",
   "execution_count": 37,
   "metadata": {},
   "outputs": [
    {
     "data": {
      "text/html": [
       "<div>\n",
       "<style scoped>\n",
       "    .dataframe tbody tr th:only-of-type {\n",
       "        vertical-align: middle;\n",
       "    }\n",
       "\n",
       "    .dataframe tbody tr th {\n",
       "        vertical-align: top;\n",
       "    }\n",
       "\n",
       "    .dataframe thead th {\n",
       "        text-align: right;\n",
       "    }\n",
       "</style>\n",
       "<table border=\"1\" class=\"dataframe\">\n",
       "  <thead>\n",
       "    <tr style=\"text-align: right;\">\n",
       "      <th></th>\n",
       "      <th>Unnamed: 0</th>\n",
       "      <th>label</th>\n",
       "      <th>max_intensity</th>\n",
       "      <th>mean_intensity</th>\n",
       "      <th>min_intensity</th>\n",
       "      <th>volume</th>\n",
       "      <th>equivalent_diameter</th>\n",
       "      <th>centroid-0</th>\n",
       "      <th>centroid-1</th>\n",
       "      <th>centroid-2</th>\n",
       "      <th>...</th>\n",
       "      <th>mitochondria_overlap</th>\n",
       "      <th>mitochondria_labels</th>\n",
       "      <th>golgi_overlap</th>\n",
       "      <th>golgi_labels</th>\n",
       "      <th>peroxisome_overlap</th>\n",
       "      <th>peroxisome_labels</th>\n",
       "      <th>er_overlap</th>\n",
       "      <th>er_labels</th>\n",
       "      <th>lipid_overlap</th>\n",
       "      <th>lipid_labels</th>\n",
       "    </tr>\n",
       "  </thead>\n",
       "  <tbody>\n",
       "    <tr>\n",
       "      <th>0</th>\n",
       "      <td>0</td>\n",
       "      <td>1</td>\n",
       "      <td>6618</td>\n",
       "      <td>2426.684211</td>\n",
       "      <td>0</td>\n",
       "      <td>76</td>\n",
       "      <td>5.255390</td>\n",
       "      <td>1.328947</td>\n",
       "      <td>149.578947</td>\n",
       "      <td>665.907895</td>\n",
       "      <td>...</td>\n",
       "      <td>0</td>\n",
       "      <td>[]</td>\n",
       "      <td>0</td>\n",
       "      <td>[]</td>\n",
       "      <td>0</td>\n",
       "      <td>[]</td>\n",
       "      <td>0</td>\n",
       "      <td>[]</td>\n",
       "      <td>0</td>\n",
       "      <td>[]</td>\n",
       "    </tr>\n",
       "    <tr>\n",
       "      <th>1</th>\n",
       "      <td>1</td>\n",
       "      <td>2</td>\n",
       "      <td>65535</td>\n",
       "      <td>16752.316071</td>\n",
       "      <td>0</td>\n",
       "      <td>30857</td>\n",
       "      <td>38.915119</td>\n",
       "      <td>6.450530</td>\n",
       "      <td>206.110121</td>\n",
       "      <td>517.963801</td>\n",
       "      <td>...</td>\n",
       "      <td>3602</td>\n",
       "      <td>[6, 47, 48, 49, 70, 80, 88, 114, 130, 133, 151...</td>\n",
       "      <td>2019</td>\n",
       "      <td>[1]</td>\n",
       "      <td>77</td>\n",
       "      <td>[3, 5, 6, 15, 17, 20, 21]</td>\n",
       "      <td>3740</td>\n",
       "      <td>[3, 19, 187, 201]</td>\n",
       "      <td>0</td>\n",
       "      <td>[]</td>\n",
       "    </tr>\n",
       "    <tr>\n",
       "      <th>2</th>\n",
       "      <td>2</td>\n",
       "      <td>5</td>\n",
       "      <td>21639</td>\n",
       "      <td>10844.098901</td>\n",
       "      <td>2242</td>\n",
       "      <td>1547</td>\n",
       "      <td>14.349295</td>\n",
       "      <td>2.798319</td>\n",
       "      <td>370.100194</td>\n",
       "      <td>595.351648</td>\n",
       "      <td>...</td>\n",
       "      <td>0</td>\n",
       "      <td>[]</td>\n",
       "      <td>0</td>\n",
       "      <td>[]</td>\n",
       "      <td>0</td>\n",
       "      <td>[]</td>\n",
       "      <td>139</td>\n",
       "      <td>[3, 77]</td>\n",
       "      <td>0</td>\n",
       "      <td>[]</td>\n",
       "    </tr>\n",
       "    <tr>\n",
       "      <th>3</th>\n",
       "      <td>3</td>\n",
       "      <td>6</td>\n",
       "      <td>5773</td>\n",
       "      <td>2776.759036</td>\n",
       "      <td>480</td>\n",
       "      <td>83</td>\n",
       "      <td>5.412025</td>\n",
       "      <td>1.445783</td>\n",
       "      <td>131.614458</td>\n",
       "      <td>569.843373</td>\n",
       "      <td>...</td>\n",
       "      <td>0</td>\n",
       "      <td>[]</td>\n",
       "      <td>0</td>\n",
       "      <td>[]</td>\n",
       "      <td>0</td>\n",
       "      <td>[]</td>\n",
       "      <td>0</td>\n",
       "      <td>[]</td>\n",
       "      <td>0</td>\n",
       "      <td>[]</td>\n",
       "    </tr>\n",
       "    <tr>\n",
       "      <th>4</th>\n",
       "      <td>4</td>\n",
       "      <td>7</td>\n",
       "      <td>11263</td>\n",
       "      <td>3762.868852</td>\n",
       "      <td>482</td>\n",
       "      <td>61</td>\n",
       "      <td>4.884016</td>\n",
       "      <td>1.000000</td>\n",
       "      <td>133.180328</td>\n",
       "      <td>604.426230</td>\n",
       "      <td>...</td>\n",
       "      <td>0</td>\n",
       "      <td>[]</td>\n",
       "      <td>0</td>\n",
       "      <td>[]</td>\n",
       "      <td>0</td>\n",
       "      <td>[]</td>\n",
       "      <td>0</td>\n",
       "      <td>[]</td>\n",
       "      <td>0</td>\n",
       "      <td>[]</td>\n",
       "    </tr>\n",
       "  </tbody>\n",
       "</table>\n",
       "<p>5 rows × 32 columns</p>\n",
       "</div>"
      ],
      "text/plain": [
       "   Unnamed: 0  label  max_intensity  mean_intensity  min_intensity  volume  \\\n",
       "0           0      1           6618     2426.684211              0      76   \n",
       "1           1      2          65535    16752.316071              0   30857   \n",
       "2           2      5          21639    10844.098901           2242    1547   \n",
       "3           3      6           5773     2776.759036            480      83   \n",
       "4           4      7          11263     3762.868852            482      61   \n",
       "\n",
       "   equivalent_diameter  centroid-0  centroid-1  centroid-2  ...  \\\n",
       "0             5.255390    1.328947  149.578947  665.907895  ...   \n",
       "1            38.915119    6.450530  206.110121  517.963801  ...   \n",
       "2            14.349295    2.798319  370.100194  595.351648  ...   \n",
       "3             5.412025    1.445783  131.614458  569.843373  ...   \n",
       "4             4.884016    1.000000  133.180328  604.426230  ...   \n",
       "\n",
       "   mitochondria_overlap                                mitochondria_labels  \\\n",
       "0                     0                                                 []   \n",
       "1                  3602  [6, 47, 48, 49, 70, 80, 88, 114, 130, 133, 151...   \n",
       "2                     0                                                 []   \n",
       "3                     0                                                 []   \n",
       "4                     0                                                 []   \n",
       "\n",
       "   golgi_overlap  golgi_labels  peroxisome_overlap          peroxisome_labels  \\\n",
       "0              0            []                   0                         []   \n",
       "1           2019           [1]                  77  [3, 5, 6, 15, 17, 20, 21]   \n",
       "2              0            []                   0                         []   \n",
       "3              0            []                   0                         []   \n",
       "4              0            []                   0                         []   \n",
       "\n",
       "   er_overlap          er_labels  lipid_overlap  lipid_labels  \n",
       "0           0                 []              0            []  \n",
       "1        3740  [3, 19, 187, 201]              0            []  \n",
       "2         139            [3, 77]              0            []  \n",
       "3           0                 []              0            []  \n",
       "4           0                 []              0            []  \n",
       "\n",
       "[5 rows x 32 columns]"
      ]
     },
     "execution_count": 37,
     "metadata": {},
     "output_type": "execute_result"
    }
   ],
   "source": [
    "target = organelle_names[1]\n",
    "\n",
    "csv_path = out_data_path / f\"{source_file.stem}-{target}-stats.csv\"\n",
    "\n",
    "mito_table = pd.read_csv(csv_path)\n",
    "mito_table.head()"
   ]
  },
  {
   "cell_type": "code",
   "execution_count": 38,
   "metadata": {},
   "outputs": [
    {
     "data": {
      "text/plain": [
       "480.036231884058"
      ]
     },
     "execution_count": 38,
     "metadata": {},
     "output_type": "execute_result"
    }
   ],
   "source": [
    "mito_table.volume.mean()"
   ]
  },
  {
   "attachments": {},
   "cell_type": "markdown",
   "metadata": {},
   "source": [
    "\n",
    "-----------------\n",
    "## DISTRIBUTION  \n",
    "> WARNING: (🚨🚨🚨🚨 WIP)\n",
    "### XY- summary\n",
    "Segment image in 3D;\n",
    "sum projection of binary image; \n",
    "create 5 concentric rings going from the edge of the nuclie to the edge of the cellmask (ideally these will be morphed to cellmask/nuclei shape as done in CellProfiler); \n",
    "measure intensity per ring (include nuclei as the center area to measure from)/ring area; \n",
    "the normalized measurement will act as a frequency distribution of that organelle starting from the nuclei bin going out to the cell membrane - \n",
    "Measurements needed: mean, median, and standard deviation of the frequency will be calculated\n",
    "\n",
    "- pre-processing\n",
    "  1. Make 2D sum projection of binary segmentation\n",
    "  2. Create 5 concentric rings going out from the edge of the nuclei to the edge of the cellmask - these rings should be morphed to the shape of the nuclei and cellmask. \n",
    "  3. Use nucleus + concentric rings to mask the 2D sum project into radial distribution regions: nuclei = bin 1, ... largest/outter most ring = bin 6. See similar concept in CellProfiler: https://cellprofiler-manual.s3.amazonaws.com/CellProfiler-4.2.5/modules/measurement.html?highlight=distribution#module-cellprofiler.modules.measureobjectintensitydistribution\"\t\n",
    "   \n",
    "- per-object measurements\n",
    "  - For each bin measure:\n",
    "    1. pixel \"\"intensity\"\"\n",
    "    2. bin area\"\n",
    "\n",
    "- per-object calculations\n",
    "  - per-object For each bin: \n",
    "  - sum of pixel intensity per bin / bin area\"\t\n",
    "\n",
    "- per cell summary\n",
    "  1. Create a frequency table with bin number of the x axis and normalized pixel intensity on the y-axis\n",
    "  2. Measure the frequency distribution's mean, median, and standard deviation for each cell\"\n",
    "\n"
   ]
  },
  {
   "cell_type": "code",
   "execution_count": 39,
   "metadata": {},
   "outputs": [
    {
     "data": {
      "text/plain": [
       "'ZSTACK_PBTOhNGN2hiPSCs_BR1_N19_Unmixed.czi'"
      ]
     },
     "execution_count": 39,
     "metadata": {},
     "output_type": "execute_result"
    }
   ],
   "source": [
    "# csv_path = out_data_path / f\"{o}_{meta_dict[\"file_name\"].split('/')[-1].split('.')[0]}_stats.csv\"\n",
    "Path(meta_dict['file_name']).name"
   ]
  },
  {
   "cell_type": "code",
   "execution_count": 40,
   "metadata": {},
   "outputs": [
    {
     "data": {
      "text/plain": [
       "((15, 768, 768), 'nuclei')"
      ]
     },
     "execution_count": 40,
     "metadata": {},
     "output_type": "execute_result"
    }
   ],
   "source": [
    "organelles[0].shape, organelle_names[0]"
   ]
  },
  {
   "cell_type": "code",
   "execution_count": 41,
   "metadata": {},
   "outputs": [],
   "source": [
    "test_org = 0\n",
    "\n",
    "# args \n",
    "cellmask_obj\n",
    "nuclei_obj\n",
    "organelle_mask = cyto_mask\n",
    "organelle_name = organelle_names[test_org]\n",
    "organelle_obj = organelles[test_org]\n",
    "organelle_img = intensities[test_org]\n",
    "\n"
   ]
  },
  {
   "cell_type": "code",
   "execution_count": 42,
   "metadata": {},
   "outputs": [],
   "source": [
    "rad_stats, bin_idx = get_proj_XYstats(        \n",
    "        cellmask_obj,\n",
    "        organelle_mask,\n",
    "        organelle_obj,\n",
    "        organelle_img,\n",
    "        organelle_name,\n",
    "        nuclei_obj\n",
    "        )\n"
   ]
  },
  {
   "cell_type": "code",
   "execution_count": 43,
   "metadata": {},
   "outputs": [
    {
     "data": {
      "text/html": [
       "<div>\n",
       "<style scoped>\n",
       "    .dataframe tbody tr th:only-of-type {\n",
       "        vertical-align: middle;\n",
       "    }\n",
       "\n",
       "    .dataframe tbody tr th {\n",
       "        vertical-align: top;\n",
       "    }\n",
       "\n",
       "    .dataframe thead th {\n",
       "        text-align: right;\n",
       "    }\n",
       "</style>\n",
       "<table border=\"1\" class=\"dataframe\">\n",
       "  <thead>\n",
       "    <tr style=\"text-align: right;\">\n",
       "      <th></th>\n",
       "      <th>organelle</th>\n",
       "      <th>mask</th>\n",
       "      <th>bin</th>\n",
       "      <th>n_bins</th>\n",
       "      <th>n_pix</th>\n",
       "      <th>cm_vox_cnt</th>\n",
       "      <th>org_vox_cnt</th>\n",
       "      <th>org_intensity</th>\n",
       "      <th>cm_radial_cv</th>\n",
       "      <th>org_radial_cv</th>\n",
       "      <th>img_radial_cv</th>\n",
       "    </tr>\n",
       "  </thead>\n",
       "  <tbody>\n",
       "    <tr>\n",
       "      <th>0</th>\n",
       "      <td>nuclei</td>\n",
       "      <td>cellmask</td>\n",
       "      <td>Ctr</td>\n",
       "      <td>5</td>\n",
       "      <td>43090.0</td>\n",
       "      <td>560133.0</td>\n",
       "      <td>65727.0</td>\n",
       "      <td>1.231449e+09</td>\n",
       "      <td>0.039089</td>\n",
       "      <td>0.129276</td>\n",
       "      <td>0.106966</td>\n",
       "    </tr>\n",
       "    <tr>\n",
       "      <th>1</th>\n",
       "      <td>nuclei</td>\n",
       "      <td>cellmask</td>\n",
       "      <td>1</td>\n",
       "      <td>5</td>\n",
       "      <td>13370.0</td>\n",
       "      <td>133005.0</td>\n",
       "      <td>0.0</td>\n",
       "      <td>2.167817e+08</td>\n",
       "      <td>0.238991</td>\n",
       "      <td>0.000000</td>\n",
       "      <td>0.327669</td>\n",
       "    </tr>\n",
       "    <tr>\n",
       "      <th>2</th>\n",
       "      <td>nuclei</td>\n",
       "      <td>cellmask</td>\n",
       "      <td>2</td>\n",
       "      <td>5</td>\n",
       "      <td>19158.0</td>\n",
       "      <td>157767.0</td>\n",
       "      <td>0.0</td>\n",
       "      <td>2.244383e+08</td>\n",
       "      <td>0.383749</td>\n",
       "      <td>0.000000</td>\n",
       "      <td>0.388063</td>\n",
       "    </tr>\n",
       "    <tr>\n",
       "      <th>3</th>\n",
       "      <td>nuclei</td>\n",
       "      <td>cellmask</td>\n",
       "      <td>3</td>\n",
       "      <td>5</td>\n",
       "      <td>29521.0</td>\n",
       "      <td>181294.0</td>\n",
       "      <td>0.0</td>\n",
       "      <td>2.700947e+08</td>\n",
       "      <td>0.463339</td>\n",
       "      <td>0.000000</td>\n",
       "      <td>0.409650</td>\n",
       "    </tr>\n",
       "    <tr>\n",
       "      <th>4</th>\n",
       "      <td>nuclei</td>\n",
       "      <td>cellmask</td>\n",
       "      <td>4</td>\n",
       "      <td>5</td>\n",
       "      <td>75192.0</td>\n",
       "      <td>204117.0</td>\n",
       "      <td>0.0</td>\n",
       "      <td>3.895217e+08</td>\n",
       "      <td>0.354069</td>\n",
       "      <td>0.000000</td>\n",
       "      <td>0.319295</td>\n",
       "    </tr>\n",
       "  </tbody>\n",
       "</table>\n",
       "</div>"
      ],
      "text/plain": [
       "  organelle      mask  bin n_bins    n_pix  cm_vox_cnt  org_vox_cnt  \\\n",
       "0    nuclei  cellmask  Ctr      5  43090.0    560133.0      65727.0   \n",
       "1    nuclei  cellmask    1      5  13370.0    133005.0          0.0   \n",
       "2    nuclei  cellmask    2      5  19158.0    157767.0          0.0   \n",
       "3    nuclei  cellmask    3      5  29521.0    181294.0          0.0   \n",
       "4    nuclei  cellmask    4      5  75192.0    204117.0          0.0   \n",
       "\n",
       "   org_intensity  cm_radial_cv  org_radial_cv  img_radial_cv  \n",
       "0   1.231449e+09      0.039089       0.129276       0.106966  \n",
       "1   2.167817e+08      0.238991       0.000000       0.327669  \n",
       "2   2.244383e+08      0.383749       0.000000       0.388063  \n",
       "3   2.700947e+08      0.463339       0.000000       0.409650  \n",
       "4   3.895217e+08      0.354069       0.000000       0.319295  "
      ]
     },
     "execution_count": 43,
     "metadata": {},
     "output_type": "execute_result"
    }
   ],
   "source": [
    "rad_stats"
   ]
  },
  {
   "cell_type": "code",
   "execution_count": 44,
   "metadata": {},
   "outputs": [],
   "source": [
    "viewer = napari.view_image(bin_idx)"
   ]
  },
  {
   "attachments": {},
   "cell_type": "markdown",
   "metadata": {},
   "source": [
    "\n",
    "### Z- summary\n",
    "Segment image in 3D;\n",
    "measure area fraction of each organelle per Z slice;\n",
    "these measurements will act as a frequency distribution of that organelle starting from the bottom of the cellmask (not including neurites) to the top of the cellmask;\n",
    "measurements: mean, median, and standard deviation of the frequency distribution\t\n",
    "\n",
    "- pre-processing\n",
    "  1. subtract nuclei from the cellmask --> cellmask cytoplasm\n",
    "  2. mask organelle channels with cellmask cytoplasm mask\n",
    "\n",
    "- per-object measurements\n",
    "  - For each Z slice in the masked binary image measure:\n",
    "    1. organelle area\n",
    "    2. cellmask cytoplasm area\n",
    "\n",
    "- per-object calculations\n",
    "  - For each Z slice in the masked binary image: organelle area / cellmask cytoplasm area\n",
    "\n",
    "- per cell summary\n",
    "  1. create a frequency table with the z slice number on the x axis and the area fraction on the y axis\n",
    "  2. Measure the frequency distribution's mean, median, and standard deviation for each cell\""
   ]
  },
  {
   "cell_type": "code",
   "execution_count": 45,
   "metadata": {},
   "outputs": [
    {
     "data": {
      "text/plain": [
       "<Image layer 'Image' at 0x2bd9b6a10>"
      ]
     },
     "execution_count": 45,
     "metadata": {},
     "output_type": "execute_result"
    }
   ],
   "source": [
    "viewer.add_image(cellmask_obj>0)"
   ]
  },
  {
   "cell_type": "code",
   "execution_count": 46,
   "metadata": {},
   "outputs": [],
   "source": [
    "\n",
    "\n",
    "# flattened\n",
    "cellmask_proj = create_masked_proj_on_Z(cellmask_obj)\n",
    "org_proj = create_masked_proj_on_Z(organelle_obj,organelle_mask.astype(bool))\n",
    "img_proj = create_masked_proj_on_Z(organelle_img,organelle_mask.astype(bool), to_bool=False)\n",
    "\n",
    "nucleus_proj = create_masked_proj_on_Z(nuclei_obj,cellmask_obj.astype(bool)) if nuclei_obj is not None else None\n"
   ]
  },
  {
   "cell_type": "code",
   "execution_count": 47,
   "metadata": {},
   "outputs": [],
   "source": [
    "z_stats = get_proj_Zstats(        \n",
    "        cellmask_obj,\n",
    "        organelle_mask,\n",
    "        organelle_obj,\n",
    "        organelle_img,\n",
    "        organelle_name,\n",
    "        nuclei_obj\n",
    "        )"
   ]
  },
  {
   "cell_type": "code",
   "execution_count": 55,
   "metadata": {},
   "outputs": [],
   "source": [
    "cellmask_proj = create_masked_proj_on_Z(cellmask_obj)\n",
    "org_proj = create_masked_proj_on_Z(organelle_obj,organelle_mask.astype(bool))\n",
    "img_proj = create_masked_proj_on_Z(organelle_img,organelle_mask.astype(bool), to_bool=False)\n",
    "\n",
    "nucleus_proj = create_masked_proj_on_Z(nuclei_obj,cellmask_obj.astype(bool)) if nuclei_obj is not None else None\n"
   ]
  },
  {
   "cell_type": "code",
   "execution_count": 48,
   "metadata": {},
   "outputs": [
    {
     "data": {
      "text/html": [
       "<div>\n",
       "<style scoped>\n",
       "    .dataframe tbody tr th:only-of-type {\n",
       "        vertical-align: middle;\n",
       "    }\n",
       "\n",
       "    .dataframe tbody tr th {\n",
       "        vertical-align: top;\n",
       "    }\n",
       "\n",
       "    .dataframe thead th {\n",
       "        text-align: right;\n",
       "    }\n",
       "</style>\n",
       "<table border=\"1\" class=\"dataframe\">\n",
       "  <thead>\n",
       "    <tr style=\"text-align: right;\">\n",
       "      <th></th>\n",
       "      <th>organelle</th>\n",
       "      <th>mask</th>\n",
       "      <th>bin</th>\n",
       "      <th>n_bins</th>\n",
       "      <th>cm_vox_cnt</th>\n",
       "      <th>org_vox_cnt</th>\n",
       "      <th>org_intensity</th>\n",
       "      <th>nuc_vox_cnt</th>\n",
       "    </tr>\n",
       "  </thead>\n",
       "  <tbody>\n",
       "    <tr>\n",
       "      <th>0</th>\n",
       "      <td>nuclei</td>\n",
       "      <td>cellmask</td>\n",
       "      <td>0</td>\n",
       "      <td>15</td>\n",
       "      <td>0</td>\n",
       "      <td>0</td>\n",
       "      <td>0</td>\n",
       "      <td>0</td>\n",
       "    </tr>\n",
       "    <tr>\n",
       "      <th>1</th>\n",
       "      <td>nuclei</td>\n",
       "      <td>cellmask</td>\n",
       "      <td>1</td>\n",
       "      <td>15</td>\n",
       "      <td>149379</td>\n",
       "      <td>17669</td>\n",
       "      <td>446015391</td>\n",
       "      <td>17669</td>\n",
       "    </tr>\n",
       "    <tr>\n",
       "      <th>2</th>\n",
       "      <td>nuclei</td>\n",
       "      <td>cellmask</td>\n",
       "      <td>2</td>\n",
       "      <td>15</td>\n",
       "      <td>121726</td>\n",
       "      <td>6536</td>\n",
       "      <td>247810538</td>\n",
       "      <td>24205</td>\n",
       "    </tr>\n",
       "    <tr>\n",
       "      <th>3</th>\n",
       "      <td>nuclei</td>\n",
       "      <td>cellmask</td>\n",
       "      <td>3</td>\n",
       "      <td>15</td>\n",
       "      <td>109521</td>\n",
       "      <td>4851</td>\n",
       "      <td>181560714</td>\n",
       "      <td>29056</td>\n",
       "    </tr>\n",
       "    <tr>\n",
       "      <th>4</th>\n",
       "      <td>nuclei</td>\n",
       "      <td>cellmask</td>\n",
       "      <td>4</td>\n",
       "      <td>15</td>\n",
       "      <td>99450</td>\n",
       "      <td>2164</td>\n",
       "      <td>126591321</td>\n",
       "      <td>31212</td>\n",
       "    </tr>\n",
       "    <tr>\n",
       "      <th>5</th>\n",
       "      <td>nuclei</td>\n",
       "      <td>cellmask</td>\n",
       "      <td>5</td>\n",
       "      <td>15</td>\n",
       "      <td>94083</td>\n",
       "      <td>1470</td>\n",
       "      <td>105567356</td>\n",
       "      <td>32536</td>\n",
       "    </tr>\n",
       "    <tr>\n",
       "      <th>6</th>\n",
       "      <td>nuclei</td>\n",
       "      <td>cellmask</td>\n",
       "      <td>6</td>\n",
       "      <td>15</td>\n",
       "      <td>90942</td>\n",
       "      <td>1063</td>\n",
       "      <td>94683190</td>\n",
       "      <td>32729</td>\n",
       "    </tr>\n",
       "    <tr>\n",
       "      <th>7</th>\n",
       "      <td>nuclei</td>\n",
       "      <td>cellmask</td>\n",
       "      <td>7</td>\n",
       "      <td>15</td>\n",
       "      <td>93625</td>\n",
       "      <td>1717</td>\n",
       "      <td>107276890</td>\n",
       "      <td>32333</td>\n",
       "    </tr>\n",
       "    <tr>\n",
       "      <th>8</th>\n",
       "      <td>nuclei</td>\n",
       "      <td>cellmask</td>\n",
       "      <td>8</td>\n",
       "      <td>15</td>\n",
       "      <td>90628</td>\n",
       "      <td>3771</td>\n",
       "      <td>125758228</td>\n",
       "      <td>30862</td>\n",
       "    </tr>\n",
       "    <tr>\n",
       "      <th>9</th>\n",
       "      <td>nuclei</td>\n",
       "      <td>cellmask</td>\n",
       "      <td>9</td>\n",
       "      <td>15</td>\n",
       "      <td>85107</td>\n",
       "      <td>7398</td>\n",
       "      <td>161987403</td>\n",
       "      <td>27104</td>\n",
       "    </tr>\n",
       "    <tr>\n",
       "      <th>10</th>\n",
       "      <td>nuclei</td>\n",
       "      <td>cellmask</td>\n",
       "      <td>10</td>\n",
       "      <td>15</td>\n",
       "      <td>87988</td>\n",
       "      <td>2701</td>\n",
       "      <td>167588505</td>\n",
       "      <td>19707</td>\n",
       "    </tr>\n",
       "    <tr>\n",
       "      <th>11</th>\n",
       "      <td>nuclei</td>\n",
       "      <td>cellmask</td>\n",
       "      <td>11</td>\n",
       "      <td>15</td>\n",
       "      <td>83988</td>\n",
       "      <td>3502</td>\n",
       "      <td>178066442</td>\n",
       "      <td>17006</td>\n",
       "    </tr>\n",
       "    <tr>\n",
       "      <th>12</th>\n",
       "      <td>nuclei</td>\n",
       "      <td>cellmask</td>\n",
       "      <td>12</td>\n",
       "      <td>15</td>\n",
       "      <td>72638</td>\n",
       "      <td>5414</td>\n",
       "      <td>187560369</td>\n",
       "      <td>13504</td>\n",
       "    </tr>\n",
       "    <tr>\n",
       "      <th>13</th>\n",
       "      <td>nuclei</td>\n",
       "      <td>cellmask</td>\n",
       "      <td>13</td>\n",
       "      <td>15</td>\n",
       "      <td>34163</td>\n",
       "      <td>7354</td>\n",
       "      <td>127146966</td>\n",
       "      <td>8091</td>\n",
       "    </tr>\n",
       "    <tr>\n",
       "      <th>14</th>\n",
       "      <td>nuclei</td>\n",
       "      <td>cellmask</td>\n",
       "      <td>14</td>\n",
       "      <td>15</td>\n",
       "      <td>23078</td>\n",
       "      <td>117</td>\n",
       "      <td>74672554</td>\n",
       "      <td>737</td>\n",
       "    </tr>\n",
       "  </tbody>\n",
       "</table>\n",
       "</div>"
      ],
      "text/plain": [
       "   organelle      mask  bin  n_bins  cm_vox_cnt  org_vox_cnt  org_intensity  \\\n",
       "0     nuclei  cellmask    0      15           0            0              0   \n",
       "1     nuclei  cellmask    1      15      149379        17669      446015391   \n",
       "2     nuclei  cellmask    2      15      121726         6536      247810538   \n",
       "3     nuclei  cellmask    3      15      109521         4851      181560714   \n",
       "4     nuclei  cellmask    4      15       99450         2164      126591321   \n",
       "5     nuclei  cellmask    5      15       94083         1470      105567356   \n",
       "6     nuclei  cellmask    6      15       90942         1063       94683190   \n",
       "7     nuclei  cellmask    7      15       93625         1717      107276890   \n",
       "8     nuclei  cellmask    8      15       90628         3771      125758228   \n",
       "9     nuclei  cellmask    9      15       85107         7398      161987403   \n",
       "10    nuclei  cellmask   10      15       87988         2701      167588505   \n",
       "11    nuclei  cellmask   11      15       83988         3502      178066442   \n",
       "12    nuclei  cellmask   12      15       72638         5414      187560369   \n",
       "13    nuclei  cellmask   13      15       34163         7354      127146966   \n",
       "14    nuclei  cellmask   14      15       23078          117       74672554   \n",
       "\n",
       "    nuc_vox_cnt  \n",
       "0             0  \n",
       "1         17669  \n",
       "2         24205  \n",
       "3         29056  \n",
       "4         31212  \n",
       "5         32536  \n",
       "6         32729  \n",
       "7         32333  \n",
       "8         30862  \n",
       "9         27104  \n",
       "10        19707  \n",
       "11        17006  \n",
       "12        13504  \n",
       "13         8091  \n",
       "14          737  "
      ]
     },
     "execution_count": 48,
     "metadata": {},
     "output_type": "execute_result"
    }
   ],
   "source": [
    "z_stats"
   ]
  },
  {
   "cell_type": "code",
   "execution_count": 49,
   "metadata": {},
   "outputs": [
    {
     "name": "stdout",
     "output_type": "stream",
     "text": [
      "dumped 7x2 csvs\n"
     ]
    }
   ],
   "source": [
    "n_files = dump_projection_stats(organelle_names, organelles,intensities, cellmask_obj, nuclei_obj, cyto_mask, out_data_path, source_file)"
   ]
  },
  {
   "cell_type": "code",
   "execution_count": 50,
   "metadata": {},
   "outputs": [
    {
     "data": {
      "text/plain": [
       "7"
      ]
     },
     "execution_count": 50,
     "metadata": {},
     "output_type": "execute_result"
    }
   ],
   "source": [
    "n_files"
   ]
  },
  {
   "cell_type": "code",
   "execution_count": 51,
   "metadata": {},
   "outputs": [
    {
     "data": {
      "text/plain": [
       "['nuclei', 'lyso', 'mitochondria', 'golgi', 'peroxisome', 'er', 'lipid']"
      ]
     },
     "execution_count": 51,
     "metadata": {},
     "output_type": "execute_result"
    }
   ],
   "source": [
    "organelle_names"
   ]
  },
  {
   "cell_type": "code",
   "execution_count": null,
   "metadata": {},
   "outputs": [],
   "source": []
  }
 ],
 "metadata": {
  "kernelspec": {
   "display_name": "cento",
   "language": "python",
   "name": "python3"
  },
  "language_info": {
   "codemirror_mode": {
    "name": "ipython",
    "version": 3
   },
   "file_extension": ".py",
   "mimetype": "text/x-python",
   "name": "python",
   "nbconvert_exporter": "python",
   "pygments_lexer": "ipython3",
   "version": "3.10.10"
  },
  "orig_nbformat": 4,
  "vscode": {
   "interpreter": {
    "hash": "93c02d17d940b07f2fdb039339d8f031bbdf819bb53303e166c2960587ec682b"
   }
  }
 },
 "nbformat": 4,
 "nbformat_minor": 2
}
