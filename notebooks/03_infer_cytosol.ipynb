{
 "cells": [
  {
   "cell_type": "code",
   "execution_count": null,
   "metadata": {},
   "outputs": [],
   "source": []
  },
  {
   "cell_type": "markdown",
   "metadata": {},
   "source": [
    "# Infer CYTOSOL - part 3\n",
    "\n",
    "--------------\n",
    "\n",
    "## OBJECTIVE:  Infer sub-cellular component #3: CYTOSOL  in order to understand interactome \n",
    "\n",
    "To measure shape, position, and size of the cytosol of the cell body -- the soma minus the nucleus.    \n",
    "\n",
    "Dependencies:\n",
    "The CYTOSOL inference rely on the NUCLEI AND SOMA inference.  Therefore all of the sub-cellular objects rely on this segmentation.\n",
    "\n"
   ]
  },
  {
   "cell_type": "markdown",
   "metadata": {},
   "source": [
    "\n",
    "\n",
    "# IMPORTS"
   ]
  },
  {
   "cell_type": "code",
   "execution_count": null,
   "metadata": {},
   "outputs": [
    {
     "ename": "",
     "evalue": "",
     "output_type": "error",
     "traceback": [
      "\u001b[1;31mRunning cells with 'Python 3.9.13 64-bit' requires ipykernel package.\n",
      "\u001b[1;31mRun the following command to install 'ipykernel' into the Python environment. \n",
      "\u001b[1;31mCommand: '/usr/local/bin/python3.9 -m pip install ipykernel -U --user --force-reinstall'"
     ]
    }
   ],
   "source": [
    "\n",
    "# this needs to be organzied to explain the imports\n",
    "from pathlib import Path\n",
    "import os\n",
    "from collections import defaultdict\n",
    "\n",
    "import numpy as np\n",
    "import scipy\n",
    "from scipy import ndimage as ndi\n",
    "\n",
    "import napari\n",
    "\n",
    "# function for core algorithm\n",
    "import aicssegmentation\n",
    "from aicssegmentation.core.seg_dot import dot_3d_wrapper, dot_slice_by_slice, dot_2d_slice_by_slice_wrapper, dot_3d\n",
    "from aicssegmentation.core.pre_processing_utils import ( intensity_normalization, \n",
    "                                                         image_smoothing_gaussian_3d,  \n",
    "                                                         image_smoothing_gaussian_slice_by_slice )\n",
    "from aicssegmentation.core.utils import topology_preserving_thinning, hole_filling\n",
    "from aicssegmentation.core.MO_threshold import MO\n",
    "from aicssegmentation.core.vessel import filament_2d_wrapper, vesselnessSliceBySlice\n",
    "from aicssegmentation.core.output_utils import   save_segmentation,  generate_segmentation_contour\n",
    "                                                 \n",
    "from skimage import filters, img_as_float\n",
    "from skimage import morphology\n",
    "\n",
    "from skimage.segmentation import watershed\n",
    "from skimage.feature import peak_local_max\n",
    "from skimage.morphology import remove_small_objects, binary_closing, ball , dilation   # function for post-processing (size filter)\n",
    "from skimage.measure import label\n",
    "# # package for io \n",
    "# from aicsimageio import AICSImage\n",
    "\n",
    "from napari.utils.notebook_display import nbscreenshot\n",
    "\n",
    "#import .infer_subc.base\n",
    "from infer_subc.base import *\n"
   ]
  },
  {
   "cell_type": "markdown",
   "metadata": {},
   "source": [
    "# IMAGE PROCESSING Objective 3:  infer CYTOSOL\n",
    "  [OUTLINE: Objective #2](#summary-of-objectives)\n",
    "## summary of steps\n",
    "\n",
    "INPUT\n",
    "- labeled NUCLEI (objective #1)\n",
    "- labeled SOMA (objective #2)\n",
    "\n",
    "PRE-PROCESSING\n",
    "- erode Nuclei (shrink)\n",
    "- CORE-PROCESSIN\n",
    "  - XOR(NUCLEI, SOMA)\n",
    "\n",
    "- POST-PROCESSING\n",
    "  - N/A\n",
    "\n",
    "OUTPUT\n",
    "- mask of CYTOSOL\n",
    "- CYTOSOL object (intensity)\n"
   ]
  },
  {
   "cell_type": "markdown",
   "metadata": {},
   "source": [
    "\n",
    "# INPUT"
   ]
  },
  {
   "cell_type": "code",
   "execution_count": null,
   "metadata": {},
   "outputs": [],
   "source": [
    "###################\n",
    "# INPUT\n",
    "###################\n",
    "\n",
    "# load these if we don't have them\n",
    "# NU_object\n",
    "# SO_object\n",
    "\n",
    "NU_object_file, meta_dict_t = read_input_image(\"out_data/NU_object.ome.tiff\")\n",
    "\n",
    "SO_object_file, meta_dict_t = read_input_image(\"out_data/SO_object.ome.tiff\")\n",
    "SO_labels_file, meta_dict_t = read_input_image(\"out_data/SO_labels.ome.tiff\")\n"
   ]
  },
  {
   "cell_type": "code",
   "execution_count": null,
   "metadata": {},
   "outputs": [],
   "source": [
    "###################\n",
    "# PRE_PROCESSING\n",
    "###################\n",
    "\n",
    "#NU_eroded1 = morphology.binary_erosion(NU_object,  footprint=morphology.ball(3) )\n",
    "NU_eroded = morphology.binary_erosion(NU_object)  \n",
    "###################\n",
    "# CORE_PROCESSING\n",
    "###################\n",
    "\n",
    "# logical  SO - NU_eroded\n",
    "CY_object = np.logical_and(SO_NU_mask,~NU_eroded)\n",
    "CY_object2 = np.logical_and(SO_mask,~NU_eroded)\n",
    "\n",
    "# use SOMA flourescence signal\n",
    "CY_signal = SO_signal.copy()\n",
    "CY_signal[~CY_object] = 0\n",
    "\n",
    "# use total flourescence signal\n",
    "CY_signal_all = total_flourescence_scaled.copy()\n",
    "CY_signal_all[~CY_object] = 0"
   ]
  },
  {
   "cell_type": "code",
   "execution_count": null,
   "metadata": {},
   "outputs": [],
   "source": [
    "\n",
    "CY_object_filen = export_ome_tiff(CY_object, meta_in, \"CY_object\", \"./out_data/\", curr_chan=0)\n",
    "#CY_signal_filen = export_ome_tiff(CY_signal, meta_in, \"CY_signal\", \"./out_data/\", curr_chan=0)\n",
    "\n",
    "\n",
    "viewer.add_image(\n",
    "    CY_object,\n",
    "    scale=scale,\n",
    "    opacity=0.3,\n",
    ")    \n",
    "\n",
    "viewer.add_image(\n",
    "    CY_object2,\n",
    "    scale=scale,\n",
    "    opacity=0.3,\n",
    ")    \n"
   ]
  }
 ],
 "metadata": {
  "kernelspec": {
   "display_name": "Python 3.9.13 ('napariNEW')",
   "language": "python",
   "name": "python3"
  },
  "language_info": {
   "name": "python",
   "version": "3.9.13"
  },
  "orig_nbformat": 4,
  "vscode": {
   "interpreter": {
    "hash": "d6148ef1fb015fb20f0b6da2ea61c87c6b848bdf3dabb03087e5d5cd0c4607e9"
   }
  }
 },
 "nbformat": 4,
 "nbformat_minor": 2
}
