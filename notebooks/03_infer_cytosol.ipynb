{
 "cells": [
  {
   "attachments": {},
   "cell_type": "markdown",
   "metadata": {},
   "source": [
    "# Infer ***cytosol*** -  3️⃣\n",
    "(🚨🚨🚨🚨 Steps 4-9 depend on establishing a good solution here.)\n",
    "\n",
    "--------------\n",
    "\n",
    "## OBJECTIVE:  \n",
    "### Infer sub-cellular component #3: ***cytosol***  in order to understand interactome \n",
    "\n",
    "To measure shape, position, and size of the cytosol of the cell body -- the cytosol minus the nucleus.    \n",
    "\n",
    "Dependencies:\n",
    "The ***cytoso*** inference rely on the ***nuclei*** AND ***cytosol*** inference.  Therefore all of the sub-cellular objects rely on this segmentation.\n",
    "\n"
   ]
  },
  {
   "attachments": {},
   "cell_type": "markdown",
   "metadata": {},
   "source": [
    "## preamble\n",
    "\n",
    "1. imports\n",
    "2. setup\n",
    "3. get nuclei\n",
    "4. get soma mask\n",
    "5. get cytosol mask\n",
    "6. export cytosol\n",
    "7. get nuclues\n",
    "8.  export nucleus\n"
   ]
  },
  {
   "attachments": {},
   "cell_type": "markdown",
   "metadata": {},
   "source": [
    "\n",
    "## IMPORTS"
   ]
  },
  {
   "cell_type": "code",
   "execution_count": 10,
   "metadata": {},
   "outputs": [
    {
     "name": "stdout",
     "output_type": "stream",
     "text": [
      "The autoreload extension is already loaded. To reload it, use:\n",
      "  %reload_ext autoreload\n"
     ]
    }
   ],
   "source": [
    "# top level imports\n",
    "from pathlib import Path\n",
    "import os, sys\n",
    "from collections import defaultdict\n",
    "\n",
    "import numpy as np\n",
    "\n",
    "from skimage.morphology import binary_erosion\n",
    "# # package for io \n",
    "from aicsimageio import AICSImage\n",
    "\n",
    "import napari\n",
    "\n",
    "### import local python functions in ../infer_subc_2d\n",
    "sys.path.append(os.path.abspath((os.path.join(os.getcwd(), '..'))))\n",
    "\n",
    "from infer_subc_2d.utils.file_io import (read_czi_image,\n",
    "                                                                    read_ome_image,\n",
    "                                                                    export_inferred_organelle,\n",
    "                                                                    import_inferred_organelle,\n",
    "                                                                    list_image_files)\n",
    "from infer_subc_2d.utils.img import *\n",
    "from infer_subc_2d.organelles import infer_soma_MCZ, fixed_infer_soma_MCZ, fixed_infer_nuclei\n",
    "\n",
    "%load_ext autoreload\n",
    "%autoreload 2\n"
   ]
  },
  {
   "attachments": {},
   "cell_type": "markdown",
   "metadata": {},
   "source": [
    "\n",
    "## SETUP"
   ]
  },
  {
   "cell_type": "code",
   "execution_count": 11,
   "metadata": {},
   "outputs": [],
   "source": [
    "# NOTE:  these \"constants\" are only accurate for the testing MCZ dataset\n",
    "from infer_subc_2d.constants import (TEST_IMG_N,\n",
    "                                                                    NUC_CH ,\n",
    "                                                                    LYSO_CH ,\n",
    "                                                                    MITO_CH ,\n",
    "                                                                    GOLGI_CH ,\n",
    "                                                                    PEROXI_CH ,\n",
    "                                                                    ER_CH ,\n",
    "                                                                    LIPID_CH ,\n",
    "                                                                    RESIDUAL_CH )                       "
   ]
  },
  {
   "cell_type": "code",
   "execution_count": 12,
   "metadata": {},
   "outputs": [],
   "source": [
    "# this will be the example image for testing the pipeline below\n",
    "test_img_n = TEST_IMG_N\n",
    "\n",
    "# build the datapath\n",
    "# all the imaging data goes here.\n",
    "data_root_path = Path(os.path.expanduser(\"~\")) / \"Projects/Imaging/data\"\n",
    "\n",
    "# linearly unmixed \".czi\" files are here\n",
    "data_path = data_root_path / \"raw\"\n",
    "im_type = \".czi\"\n",
    "\n",
    "# get the list of all files\n",
    "img_file_list = list_image_files(data_path,im_type)\n",
    "test_img_name = img_file_list[test_img_n]\n",
    "\n",
    "# save output \".tiff\" files here\n",
    "out_data_path = data_root_path / \"out\"\n",
    "\n",
    "if not Path.exists(out_data_path):\n",
    "    Path.mkdir(out_data_path)\n",
    "    print(f\"making {out_data_path}\")"
   ]
  },
  {
   "cell_type": "code",
   "execution_count": 13,
   "metadata": {},
   "outputs": [
    {
     "name": "stderr",
     "output_type": "stream",
     "text": [
      "/opt/anaconda3/envs/napariNEW/lib/python3.9/site-packages/ome_types/_convenience.py:106: FutureWarning: The default XML parser will be changing from 'xmlschema' to 'lxml' in version 0.4.0.  To silence this warning, please provide the `parser` argument, specifying either 'lxml' (to opt into the new behavior), or'xmlschema' (to retain the old behavior).\n",
      "  d = to_dict(os.fspath(xml), parser=parser, validate=validate)\n"
     ]
    }
   ],
   "source": [
    "\n",
    "img_data,meta_dict = read_czi_image(test_img_name)\n",
    "\n",
    "# get some top-level info about the RAW data\n",
    "channel_names = meta_dict['name']\n",
    "img = meta_dict['metadata']['aicsimage']\n",
    "scale = meta_dict['scale']\n",
    "channel_axis = meta_dict['channel_axis']\n"
   ]
  },
  {
   "attachments": {},
   "cell_type": "markdown",
   "metadata": {},
   "source": [
    "## GET inferred NUCLEI\n",
    "\n"
   ]
  },
  {
   "cell_type": "code",
   "execution_count": 14,
   "metadata": {},
   "outputs": [
    {
     "name": "stdout",
     "output_type": "stream",
     "text": [
      "loaded nuclei from /Users/ahenrie/Projects/Imaging/data/out\n"
     ]
    }
   ],
   "source": [
    "\n",
    "# nuclei_fname = \"/Users/ahenrie/Projects/Imaging/data/out/nuclei_ZSTACK_PBTOhNGN2hiPSCs_BR3_N04_Unmixed.ome.tiff\"\n",
    "nuclei = import_inferred_organelle(\"nuclei\", meta_dict, out_data_path)\n",
    "\n",
    "if nuclei is None:\n",
    "    nuclei =  fixed_infer_nuclei(img_data) \n",
    "    out_file_n = export_inferred_organelle(nuclei, \"nuclei\", meta_dict, out_data_path)\n",
    "    print(f\"calculated nuclei. wrote {out_file_n}\")\n",
    "else:\n",
    "    print(f\"loaded nuclei from {out_data_path}\")\n"
   ]
  },
  {
   "attachments": {},
   "cell_type": "markdown",
   "metadata": {},
   "source": [
    "## GET SOMA MASK\n",
    "\n",
    "Find the soma in our chozed Z-slice"
   ]
  },
  {
   "cell_type": "code",
   "execution_count": 15,
   "metadata": {},
   "outputs": [
    {
     "name": "stderr",
     "output_type": "stream",
     "text": [
      "/opt/anaconda3/envs/napariNEW/lib/python3.9/site-packages/ome_types/_convenience.py:106: FutureWarning: The default XML parser will be changing from 'xmlschema' to 'lxml' in version 0.4.0.  To silence this warning, please provide the `parser` argument, specifying either 'lxml' (to opt into the new behavior), or'xmlschema' (to retain the old behavior).\n",
      "  d = to_dict(os.fspath(xml), parser=parser, validate=validate)\n"
     ]
    },
    {
     "name": "stdout",
     "output_type": "stream",
     "text": [
      "loaded soma from /Users/ahenrie/Projects/Imaging/data/out\n"
     ]
    }
   ],
   "source": [
    "# soma_fname = \"/Users/ahenrie/Projects/Imaging/data/out/soma_ZSTACK_PBTOhNGN2hiPSCs_BR3_N04_Unmixed.ome.tiff\"\n",
    "soma = import_inferred_organelle(\"soma\", meta_dict, out_data_path)\n",
    "\n",
    "if soma is None:\n",
    "    soma = fixed_infer_soma_MCZ(img_data, nuclei)\n",
    "    out_file_n = export_inferred_organelle(soma, \"soma\", meta_dict, out_data_path)\n",
    "    print(f\"calculated soma. wrote {out_file_n}\")\n",
    "else:\n",
    "    print(f\"loaded soma from {out_data_path}\")\n"
   ]
  },
  {
   "attachments": {},
   "cell_type": "markdown",
   "metadata": {},
   "source": [
    "## INFER NUCLEUS OBJECT\n",
    "\n",
    "mask the nuclei with the soma to get a ***single*** nucleus."
   ]
  },
  {
   "cell_type": "code",
   "execution_count": 16,
   "metadata": {},
   "outputs": [],
   "source": [
    "nucleus_obj =  apply_mask(nuclei, soma) \n"
   ]
  },
  {
   "cell_type": "code",
   "execution_count": 17,
   "metadata": {},
   "outputs": [
    {
     "name": "stderr",
     "output_type": "stream",
     "text": [
      "/opt/anaconda3/envs/napariNEW/lib/python3.9/site-packages/ome_types/_convenience.py:106: FutureWarning: The default XML parser will be changing from 'xmlschema' to 'lxml' in version 0.4.0.  To silence this warning, please provide the `parser` argument, specifying either 'lxml' (to opt into the new behavior), or'xmlschema' (to retain the old behavior).\n",
      "  d = to_dict(os.fspath(xml), parser=parser, validate=validate)\n"
     ]
    },
    {
     "name": "stdout",
     "output_type": "stream",
     "text": [
      "saved file: /Users/ahenrie/Projects/Imaging/data/out/nucleus_ZSTACK_PBTOhNGN2hiPSCs_BR3_N04_Unmixed.ome.tiff\n"
     ]
    }
   ],
   "source": [
    "\n",
    "out_file_n = export_inferred_organelle(nucleus_obj, \"nucleus\", meta_dict, out_data_path)"
   ]
  },
  {
   "attachments": {},
   "cell_type": "markdown",
   "metadata": {},
   "source": [
    "##  infer ***cytosol***\n",
    "\n",
    "## summary of steps\n",
    "\n",
    "➡️ INPUT\n",
    "- labeled ***nuclei*** (objective #1)\n",
    "- labeled ***soma*** (objective #2)\n",
    "\n",
    "PRE-PROCESSING\n",
    "- erode ***nuclei*** (shrink)\n",
    "\n",
    "CORE PROCESSING\n",
    "  - XOR(***nuclei***, ***soma***)\n",
    "\n",
    "- POST-PROCESSING\n",
    "  - N/A\n",
    "\n",
    "OUTPUT ➡️ \n",
    "- mask of ***cytosol***\n",
    "- ***cytosol*** object (intensity)\n"
   ]
  },
  {
   "cell_type": "markdown",
   "metadata": {},
   "source": [
    "## PRE-PROCESSING"
   ]
  },
  {
   "cell_type": "code",
   "execution_count": 18,
   "metadata": {},
   "outputs": [],
   "source": [
    "###################\n",
    "# PRE_PROCESSING\n",
    "###################\n",
    "nucleus_eroded = binary_erosion(nucleus_obj)  \n",
    "\n"
   ]
  },
  {
   "cell_type": "markdown",
   "metadata": {},
   "source": [
    "## CORE PROCESSING"
   ]
  },
  {
   "cell_type": "code",
   "execution_count": 19,
   "metadata": {},
   "outputs": [],
   "source": [
    "###################\n",
    "# CORE_PROCESSING\n",
    "###################\n",
    "\n",
    "cyto_object = np.logical_and(soma,~nucleus_eroded)\n",
    "\n",
    "cyto_object_xor = np.logical_xor(soma,nucleus_eroded)\n",
    "\n",
    "#cyto_object = binary_dilation(cyto_object)"
   ]
  },
  {
   "attachments": {},
   "cell_type": "markdown",
   "metadata": {},
   "source": [
    "## Visualize with `napari` "
   ]
  },
  {
   "cell_type": "code",
   "execution_count": 20,
   "metadata": {},
   "outputs": [],
   "source": [
    "\n",
    "\n",
    "viewer = napari.view_image( #viewer.add_image(\n",
    "    soma,\n",
    "    scale=scale,\n",
    "    opacity=0.3,\n",
    ")    \n"
   ]
  },
  {
   "cell_type": "code",
   "execution_count": 21,
   "metadata": {},
   "outputs": [
    {
     "data": {
      "text/plain": [
       "<Image layer 'nucleus_eroded' at 0x1680609d0>"
      ]
     },
     "execution_count": 21,
     "metadata": {},
     "output_type": "execute_result"
    }
   ],
   "source": [
    "\n",
    "viewer.add_image(\n",
    "    nucleus_eroded,\n",
    "    scale=scale,\n",
    "    opacity=0.3,\n",
    ")    \n"
   ]
  },
  {
   "cell_type": "code",
   "execution_count": 22,
   "metadata": {},
   "outputs": [
    {
     "data": {
      "text/plain": [
       "<Image layer 'nucleus_obj' at 0x16805be50>"
      ]
     },
     "execution_count": 22,
     "metadata": {},
     "output_type": "execute_result"
    }
   ],
   "source": [
    "\n",
    "viewer.add_image(\n",
    "    nucleus_obj,\n",
    "    scale=scale,\n",
    "    opacity=0.3,\n",
    ")    \n"
   ]
  },
  {
   "cell_type": "code",
   "execution_count": 23,
   "metadata": {},
   "outputs": [
    {
     "data": {
      "text/plain": [
       "<Image layer 'nuclei' at 0x16b341df0>"
      ]
     },
     "execution_count": 23,
     "metadata": {},
     "output_type": "execute_result"
    }
   ],
   "source": [
    "\n",
    "viewer.add_image(\n",
    "    nuclei,\n",
    "    scale=scale,\n",
    "    opacity=0.3,\n",
    ")    \n"
   ]
  },
  {
   "attachments": {},
   "cell_type": "markdown",
   "metadata": {},
   "source": [
    "## DEFINE `_infer_cytosol` function\n",
    "\n",
    "Based on the _prototyping_ above define the function to infer cytosol.  \n"
   ]
  },
  {
   "cell_type": "code",
   "execution_count": 24,
   "metadata": {},
   "outputs": [],
   "source": [
    "# copy this to base.py for easy import\n",
    "\n",
    "def _infer_cytosol(soma_mask, nuclei_object, erode_nuclei = False):\n",
    "    \"\"\"\n",
    "    Procedure to infer cytosol from linearly unmixed input.\n",
    "\n",
    "    Parameters\n",
    "    ------------\n",
    "    nuclei_object: \n",
    "        a 3d image containing the nuclei signal\n",
    "\n",
    "    soma_mask: \n",
    "        a 3d image containing the soma signal\n",
    "\n",
    "    erode_nuclei: \n",
    "        should we erode? Default False\n",
    "\n",
    "    Returns\n",
    "    -------------\n",
    "    cytosol_mask \n",
    "        boolean np.ndarray\n",
    "      \n",
    "    \"\"\"\n",
    "\n",
    "\n",
    "    if erode_nuclei:\n",
    "        # cytosol_mask = np.logical_and(soma_mask, ~binary_erosion(nuclei_object))\n",
    "        cytosol_mask = np.logical_xor(soma_mask, binary_erosion(nuclei_object))\n",
    "    else:\n",
    "        # cytosol_mask = np.logical_and(soma_mask, ~nuclei_object)\n",
    "        cytosol_mask = np.logical_xor(soma_mask, nuclei_object)\n",
    "\n",
    "\n",
    "    return cytosol_mask\n"
   ]
  },
  {
   "attachments": {},
   "cell_type": "markdown",
   "metadata": {},
   "source": [
    "--------------------------\n",
    "\n",
    "## TEST `infer_cytosol` exported functions\n"
   ]
  },
  {
   "cell_type": "code",
   "execution_count": 25,
   "metadata": {},
   "outputs": [],
   "source": [
    "from infer_subc_2d.organelles.cytosol import infer_cytosol\n",
    "\n",
    "_cytosol_mask =  _infer_cytosol(soma, nucleus_obj, erode_nuclei=False) \n",
    "\n",
    "cytosol_mask =  infer_cytosol(soma, nucleus_obj, erode_nuclei=False) \n"
   ]
  },
  {
   "cell_type": "code",
   "execution_count": 26,
   "metadata": {},
   "outputs": [
    {
     "name": "stderr",
     "output_type": "stream",
     "text": [
      "/opt/anaconda3/envs/napariNEW/lib/python3.9/site-packages/ome_types/_convenience.py:106: FutureWarning: The default XML parser will be changing from 'xmlschema' to 'lxml' in version 0.4.0.  To silence this warning, please provide the `parser` argument, specifying either 'lxml' (to opt into the new behavior), or'xmlschema' (to retain the old behavior).\n",
      "  d = to_dict(os.fspath(xml), parser=parser, validate=validate)\n"
     ]
    },
    {
     "name": "stdout",
     "output_type": "stream",
     "text": [
      "saved file: /Users/ahenrie/Projects/Imaging/data/out/cytosol_ZSTACK_PBTOhNGN2hiPSCs_BR3_N04_Unmixed.ome.tiff\n"
     ]
    }
   ],
   "source": [
    "out_file_n = export_inferred_organelle(cytosol_mask, \"cytosol\", meta_dict, out_data_path)"
   ]
  },
  {
   "attachments": {},
   "cell_type": "markdown",
   "metadata": {},
   "source": [
    "## Visualize  2\n"
   ]
  },
  {
   "cell_type": "code",
   "execution_count": 27,
   "metadata": {},
   "outputs": [
    {
     "data": {
      "text/plain": [
       "<Labels layer '_cytosol_mask' at 0x16bc7adc0>"
      ]
     },
     "execution_count": 27,
     "metadata": {},
     "output_type": "execute_result"
    }
   ],
   "source": [
    "\n",
    "\n",
    "viewer.scale_bar.visible = True\n",
    "viewer.add_image(\n",
    "    cytosol_mask,\n",
    "    scale=scale \n",
    ")\n",
    "\n",
    "viewer.add_labels(\n",
    "    _cytosol_mask,\n",
    "    scale=scale \n",
    ")\n"
   ]
  },
  {
   "cell_type": "code",
   "execution_count": 28,
   "metadata": {},
   "outputs": [
    {
     "data": {
      "image/png": "[encoded data removed]",
      "text/html": [
       "<img src=\"data:image/png;base64,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\"></img>"
      ],
      "text/plain": [
       "<napari.utils.notebook_display.NotebookScreenshot at 0x16b62f550>"
      ]
     },
     "execution_count": 28,
     "metadata": {},
     "output_type": "execute_result"
    }
   ],
   "source": [
    "from napari.utils.notebook_display import nbscreenshot\n",
    "\n",
    "# viewer.dims.ndisplay = 3\n",
    "# viewer.camera.angles = (-30, 25, 120)\n",
    "nbscreenshot(viewer, canvas_only=True)\n",
    "\n"
   ]
  },
  {
   "cell_type": "code",
   "execution_count": 29,
   "metadata": {},
   "outputs": [],
   "source": [
    "viewer.close()"
   ]
  },
  {
   "attachments": {},
   "cell_type": "markdown",
   "metadata": {},
   "source": [
    "-----------------\n",
    "Write the `infer_cytosol` spec to the widget json "
   ]
  },
  {
   "cell_type": "code",
   "execution_count": 15,
   "metadata": {},
   "outputs": [
    {
     "name": "stdout",
     "output_type": "stream",
     "text": [
      "function infer_cytosol is already in all_functions.json\n",
      "overwriting  infer_cytosol\n"
     ]
    },
    {
     "data": {
      "text/plain": [
       "1"
      ]
     },
     "execution_count": 15,
     "metadata": {},
     "output_type": "execute_result"
    }
   ],
   "source": [
    "from infer_subc_2d.organelles_config.helper import add_function_spec_to_widget_json\n",
    "\n",
    "_infer_cytosol=  {\n",
    "        \"name\": \"infer infer_cytosol\",\n",
    "        \"python::module\": \"infer_subc_2d.organelles\",\n",
    "        \"python::function\": \"infer_cytosol\",\n",
    "        \"parameters\": {\n",
    "                \"erode_nuclei\" : {\n",
    "                        \"widget_type\": \"drop-down\",\n",
    "                        \"data_type\": \"bool\",\n",
    "                        \"options\": [\n",
    "                        True,\n",
    "                        False\n",
    "                        ]\n",
    "            }\n",
    "        }\n",
    "}\n",
    "\n",
    "add_function_spec_to_widget_json(\"infer_cytosol\",_infer_cytosol, overwrite=True)"
   ]
  },
  {
   "cell_type": "markdown",
   "metadata": {},
   "source": [
    "--------------------------\n",
    "## Write workflow .json\n",
    "Now that we've added our function specs we can compose workflows."
   ]
  },
  {
   "cell_type": "code",
   "execution_count": 16,
   "metadata": {},
   "outputs": [],
   "source": [
    "def make_infer_cytosol_dict():\n",
    "    \"\"\"\n",
    "    Procedure to infer infer from linearly unmixed input. (logical soma AND NOT nucleus)\n",
    "    \"\"\"\n",
    "    step_name = []\n",
    "    function_name = []\n",
    "    category =[]\n",
    "    parameter_values = []\n",
    "    parent = []\n",
    "   \n",
    "    ###################\n",
    "    # EXTRACT\n",
    "    ###################   \n",
    "\n",
    "    step_name.append(\"1\")\n",
    "    function_name.append(\"fixed_infer_nuclei\")\n",
    "    category.append(\"extraction\")\n",
    "    parameter_values.append( None )\n",
    "    parent.append(0)\n",
    "\n",
    "    step_name.append(\"2\")\n",
    "    function_name.append(\"fixed_infer_soma_MCZ\")\n",
    "    category.append(\"extraction\")\n",
    "    parameter_values.append( None )\n",
    "    parent.append([0,1])\n",
    "\n",
    "    step_name.append(\"3\")\n",
    "    function_name.append(\"apply_mask\")\n",
    "    category.append(\"postprocessing\")\n",
    "    parameter_values.append(None)\n",
    "    parent.append([1,2])\n",
    "\n",
    "    step_name.append(\"4\")\n",
    "    function_name.append(\"infer_cytosol\")\n",
    "    category.append(\"postprocessing\")\n",
    "    parameter_values.append(dict(erode_nuclei = False ))\n",
    "    parent.append([2,3])\n",
    "\n",
    "    out_dict = dict()\n",
    "    for i,stepn in enumerate(step_name):\n",
    "        entry = dict(category=category[i],\n",
    "                            function=function_name[i],\n",
    "                            parameter_values=parameter_values[i],\n",
    "                            parent=parent[i]\n",
    "        )\n",
    "        if entry['parameter_values'] is None:\n",
    "            _ = entry.pop('parameter_values')\n",
    "        out_dict[stepn] = entry\n",
    "        \n",
    "    return out_dict"
   ]
  },
  {
   "cell_type": "code",
   "execution_count": 17,
   "metadata": {},
   "outputs": [
    {
     "data": {
      "text/plain": [
       "PosixPath('/Users/ahenrie/Projects/Imaging/infer-subc-2D/infer_subc_2d/organelles_config/conf_1.3.cytosol_from_raw.json')"
      ]
     },
     "execution_count": 17,
     "metadata": {},
     "output_type": "execute_result"
    }
   ],
   "source": [
    "from infer_subc_2d.organelles_config.helper import write_workflow_json\n",
    "\n",
    "infer_cytosol_dict = make_infer_cytosol_dict()\n",
    "\n",
    "write_workflow_json(\"conf_1.3.cytosol_from_raw\", infer_cytosol_dict)"
   ]
  },
  {
   "attachments": {},
   "cell_type": "markdown",
   "metadata": {},
   "source": [
    "-------------\n",
    "## SUMMARY\n",
    "\n",
    "The above details how the cytosol mask is inferred. \n",
    "\n",
    "### NEXT: INFER LYSOSOME\n",
    "\n",
    "proceed to [04_infer_lysosome.ipynb](./04_infer_lysosome.ipynb)\n"
   ]
  }
 ],
 "metadata": {
  "kernelspec": {
   "display_name": "Python 3.9.13 ('napariNEW')",
   "language": "python",
   "name": "python3"
  },
  "language_info": {
   "codemirror_mode": {
    "name": "ipython",
    "version": 3
   },
   "file_extension": ".py",
   "mimetype": "text/x-python",
   "name": "python",
   "nbconvert_exporter": "python",
   "pygments_lexer": "ipython3",
   "version": "3.9.16"
  },
  "orig_nbformat": 4,
  "vscode": {
   "interpreter": {
    "hash": "d6148ef1fb015fb20f0b6da2ea61c87c6b848bdf3dabb03087e5d5cd0c4607e9"
   }
  }
 },
 "nbformat": 4,
 "nbformat_minor": 2
}
