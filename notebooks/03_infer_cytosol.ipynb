{
 "cells": [
  {
   "attachments": {},
   "cell_type": "markdown",
   "metadata": {},
   "source": [
    "# Infer ***cytosol*** -  3️⃣\n",
    "(🚨🚨🚨🚨 Steps 4-9 depend on establishing a good solution here.)\n",
    "\n",
    "--------------\n",
    "\n",
    "## OBJECTIVE:  \n",
    "### Infer sub-cellular component #3: ***cytosol***  in order to understand interactome \n",
    "\n",
    "To measure shape, position, and size of the cytosol of the cell body -- the cytosol minus the nucleus.    \n",
    "\n",
    "Dependencies:\n",
    "The ***cytoso*** inference rely on the ***nuclei*** AND ***cytosol*** inference.  Therefore all of the sub-cellular objects rely on this segmentation.\n",
    "\n"
   ]
  },
  {
   "attachments": {},
   "cell_type": "markdown",
   "metadata": {},
   "source": [
    "## preamble\n",
    "\n",
    "1. imports\n",
    "2. setup\n",
    "3. choose_Z\n",
    "4. get soma mask\n",
    "5. infer nuclei object "
   ]
  },
  {
   "attachments": {},
   "cell_type": "markdown",
   "metadata": {},
   "source": [
    "\n",
    "## IMPORTS"
   ]
  },
  {
   "cell_type": "code",
   "execution_count": 19,
   "metadata": {},
   "outputs": [
    {
     "name": "stdout",
     "output_type": "stream",
     "text": [
      "The autoreload extension is already loaded. To reload it, use:\n",
      "  %reload_ext autoreload\n"
     ]
    }
   ],
   "source": [
    "# top level imports\n",
    "from pathlib import Path\n",
    "import os, sys\n",
    "from collections import defaultdict\n",
    "\n",
    "import numpy as np\n",
    "\n",
    "from skimage.morphology import binary_erosion\n",
    "# # package for io \n",
    "from aicsimageio import AICSImage\n",
    "\n",
    "import napari\n",
    "\n",
    "### import local python functions in ../infer_subc_2d\n",
    "sys.path.append(os.path.abspath((os.path.join(os.getcwd(), '..'))))\n",
    "\n",
    "from infer_subc_2d.utils.file_io import (read_czi_image,\n",
    "                                                                    read_ome_image,\n",
    "                                                                    export_inferred_organelle,\n",
    "                                                                    list_image_files)\n",
    "from infer_subc_2d.utils.img import *\n",
    "\n",
    "from infer_subc_2d.constants import (TEST_IMG_N,\n",
    "                                                                    NUC_CH ,\n",
    "                                                                    LYSO_CH ,\n",
    "                                                                    MITO_CH ,\n",
    "                                                                    GOLGI_CH ,\n",
    "                                                                    PEROXI_CH ,\n",
    "                                                                    ER_CH ,\n",
    "                                                                    LIPID_CH ,\n",
    "                                                                    RESIDUAL_CH )          \n",
    "\n",
    "from infer_subc_2d.organelles import infer_soma_MCZ, fixed_infer_soma_MCZ, fixed_infer_nuclei, find_optimal_Z, fixed_get_optimal_Z_image\n",
    "\n",
    "%load_ext autoreload\n",
    "%autoreload 2\n",
    "\n",
    "test_img_n = 5"
   ]
  },
  {
   "attachments": {},
   "cell_type": "markdown",
   "metadata": {},
   "source": [
    "\n",
    "## SETUP"
   ]
  },
  {
   "cell_type": "code",
   "execution_count": 2,
   "metadata": {},
   "outputs": [],
   "source": [
    "# build the datapath\n",
    "# all the imaging data goes here.\n",
    "data_root_path = Path(os.path.expanduser(\"~\")) / \"Projects/Imaging/data\"\n",
    "\n",
    "# linearly unmixed \".czi\" files are here\n",
    "data_path = data_root_path / \"raw\"\n",
    "im_type = \".czi\"\n",
    "\n",
    "# get the list of all files\n",
    "img_file_list = list_image_files(data_path,im_type)\n",
    "test_img_name = img_file_list[test_img_n]\n",
    "\n",
    "# save output \".tiff\" files here\n",
    "out_data_path = data_root_path / \"out\"\n",
    "\n",
    "if not Path.exists(out_data_path):\n",
    "    Path.mkdir(out_data_path)\n",
    "    print(f\"making {out_data_path}\")"
   ]
  },
  {
   "cell_type": "code",
   "execution_count": 3,
   "metadata": {},
   "outputs": [
    {
     "name": "stderr",
     "output_type": "stream",
     "text": [
      "/opt/anaconda3/envs/napariNEW/lib/python3.9/site-packages/ome_types/_convenience.py:106: FutureWarning: The default XML parser will be changing from 'xmlschema' to 'lxml' in version 0.4.0.  To silence this warning, please provide the `parser` argument, specifying either 'lxml' (to opt into the new behavior), or'xmlschema' (to retain the old behavior).\n",
      "  d = to_dict(os.fspath(xml), parser=parser, validate=validate)\n"
     ]
    }
   ],
   "source": [
    "\n",
    "img_data,meta_dict = read_czi_image(test_img_name)\n",
    "\n",
    "# get some top-level info about the RAW data\n",
    "channel_names = meta_dict['name']\n",
    "img = meta_dict['metadata']['aicsimage']\n",
    "scale = meta_dict['scale']\n",
    "channel_axis = meta_dict['channel_axis']\n"
   ]
  },
  {
   "attachments": {},
   "cell_type": "markdown",
   "metadata": {},
   "source": [
    "## GET inferred NUCLEI\n",
    "\n"
   ]
  },
  {
   "cell_type": "code",
   "execution_count": 4,
   "metadata": {},
   "outputs": [
    {
     "name": "stdout",
     "output_type": "stream",
     "text": [
      "loaded nuclei\n"
     ]
    }
   ],
   "source": [
    "\n",
    "# nuclei_fname = \"/Users/ahenrie/Projects/Imaging/data/out/nuclei_ZSTACK_PBTOhNGN2hiPSCs_BR3_N04_Unmixed.ome.tiff\"\n",
    "nuclei_fname = \"nuclei_\" + test_img_name.split(\"/\")[-1].split(\".\")[0] + \".ome.tiff\"\n",
    "nuclei_path = out_data_path / nuclei_fname  \n",
    "\n",
    "if Path.exists( nuclei_path ):\n",
    "    nuclei, nuc_meta_dict = read_ome_image( nuclei_path  )\n",
    "    print(\"loaded nuclei\")\n",
    "else:\n",
    "    nuclei =  fixed_infer_nuclei(img_data) \n",
    "    print(\"calculated nuclei\")\n"
   ]
  },
  {
   "attachments": {},
   "cell_type": "markdown",
   "metadata": {},
   "source": [
    "## GET SOMA MASK\n",
    "\n",
    "Find the soma in our chozed Z-slice"
   ]
  },
  {
   "cell_type": "code",
   "execution_count": 5,
   "metadata": {},
   "outputs": [
    {
     "name": "stderr",
     "output_type": "stream",
     "text": [
      "/opt/anaconda3/envs/napariNEW/lib/python3.9/site-packages/ome_types/_convenience.py:106: FutureWarning: The default XML parser will be changing from 'xmlschema' to 'lxml' in version 0.4.0.  To silence this warning, please provide the `parser` argument, specifying either 'lxml' (to opt into the new behavior), or'xmlschema' (to retain the old behavior).\n",
      "  d = to_dict(os.fspath(xml), parser=parser, validate=validate)\n"
     ]
    },
    {
     "name": "stdout",
     "output_type": "stream",
     "text": [
      "loaded soma\n"
     ]
    }
   ],
   "source": [
    "\n",
    "# soma_fname = \"/Users/ahenrie/Projects/Imaging/data/out/soma_ZSTACK_PBTOhNGN2hiPSCs_BR3_N04_Unmixed.ome.tiff\"\n",
    "soma_fname = \"soma_\" + test_img_name.split(\"/\")[-1].split(\".\")[0] + \".ome.tiff\"\n",
    "soma_path = out_data_path / soma_fname  \n",
    "\n",
    "if Path.exists( soma_path ):\n",
    "    soma, soma_meta_dict = read_ome_image( soma_path  )\n",
    "    print(\"loaded soma\")\n",
    "else:\n",
    "    soma = fixed_infer_soma_MCZ(img_data, nuclei)\n",
    "    print(\"calculated soma\")\n",
    "\n",
    "\n"
   ]
  },
  {
   "attachments": {},
   "cell_type": "markdown",
   "metadata": {},
   "source": [
    "## INFER NUCLEUS OBJECT\n",
    "\n",
    "mask the nuclei with the soma to get a ***single*** nucleus."
   ]
  },
  {
   "cell_type": "code",
   "execution_count": 6,
   "metadata": {},
   "outputs": [],
   "source": [
    "nucleus_obj =  apply_mask(nuclei, soma) \n"
   ]
  },
  {
   "cell_type": "code",
   "execution_count": 20,
   "metadata": {},
   "outputs": [
    {
     "name": "stderr",
     "output_type": "stream",
     "text": [
      "/opt/anaconda3/envs/napariNEW/lib/python3.9/site-packages/ome_types/_convenience.py:106: FutureWarning: The default XML parser will be changing from 'xmlschema' to 'lxml' in version 0.4.0.  To silence this warning, please provide the `parser` argument, specifying either 'lxml' (to opt into the new behavior), or'xmlschema' (to retain the old behavior).\n",
      "  d = to_dict(os.fspath(xml), parser=parser, validate=validate)\n"
     ]
    },
    {
     "name": "stdout",
     "output_type": "stream",
     "text": [
      "saved file: /Users/ahenrie/Projects/Imaging/data/out/nucleus_ZSTACK_PBTOhNGN2hiPSCs_BR3_N04_Unmixed.ome.tiff\n"
     ]
    }
   ],
   "source": [
    "\n",
    "out_file_n = export_inferred_organelle(nucleus_obj, \"nucleus\", meta_dict, out_data_path)"
   ]
  },
  {
   "attachments": {},
   "cell_type": "markdown",
   "metadata": {},
   "source": [
    "##  infer ***cytosol***\n",
    "\n",
    "## summary of steps\n",
    "\n",
    "➡️ INPUT\n",
    "- labeled ***nuclei*** (objective #1)\n",
    "- labeled ***soma*** (objective #2)\n",
    "\n",
    "PRE-PROCESSING\n",
    "- erode ***nuclei*** (shrink)\n",
    "\n",
    "CORE PROCESSING\n",
    "  - XOR(***nuclei***, ***soma***)\n",
    "\n",
    "- POST-PROCESSING\n",
    "  - N/A\n",
    "\n",
    "OUTPUT ➡️ \n",
    "- mask of ***cytosol***\n",
    "- ***cytosol*** object (intensity)\n"
   ]
  },
  {
   "cell_type": "markdown",
   "metadata": {},
   "source": [
    "## PRE-PROCESSING"
   ]
  },
  {
   "cell_type": "code",
   "execution_count": 7,
   "metadata": {},
   "outputs": [],
   "source": [
    "###################\n",
    "# PRE_PROCESSING\n",
    "###################\n",
    "nucleus_eroded = binary_erosion(nucleus_obj)  \n",
    "\n"
   ]
  },
  {
   "cell_type": "markdown",
   "metadata": {},
   "source": [
    "## CORE PROCESSING"
   ]
  },
  {
   "cell_type": "code",
   "execution_count": 8,
   "metadata": {},
   "outputs": [],
   "source": [
    "###################\n",
    "# CORE_PROCESSING\n",
    "###################\n",
    "\n",
    "cyto_object = np.logical_and(soma,~nucleus_eroded)\n",
    "\n",
    "cyto_object_xor = np.logical_xor(soma,nucleus_eroded)\n",
    "\n",
    "#cyto_object = binary_dilation(cyto_object)"
   ]
  },
  {
   "attachments": {},
   "cell_type": "markdown",
   "metadata": {},
   "source": [
    "## Visualize with `napari` "
   ]
  },
  {
   "cell_type": "code",
   "execution_count": 9,
   "metadata": {},
   "outputs": [],
   "source": [
    "\n",
    "\n",
    "viewer = napari.view_image( #viewer.add_image(\n",
    "    soma,\n",
    "    scale=scale,\n",
    "    opacity=0.3,\n",
    ")    \n"
   ]
  },
  {
   "cell_type": "code",
   "execution_count": 10,
   "metadata": {},
   "outputs": [
    {
     "data": {
      "text/plain": [
       "<Image layer 'nucleus_eroded' at 0x17139adf0>"
      ]
     },
     "execution_count": 10,
     "metadata": {},
     "output_type": "execute_result"
    }
   ],
   "source": [
    "\n",
    "viewer.add_image(\n",
    "    nucleus_eroded,\n",
    "    scale=scale,\n",
    "    opacity=0.3,\n",
    ")    \n"
   ]
  },
  {
   "cell_type": "code",
   "execution_count": 11,
   "metadata": {},
   "outputs": [
    {
     "data": {
      "text/plain": [
       "<Image layer 'nucleus_obj' at 0x1746e4070>"
      ]
     },
     "execution_count": 11,
     "metadata": {},
     "output_type": "execute_result"
    }
   ],
   "source": [
    "\n",
    "viewer.add_image(\n",
    "    nucleus_obj,\n",
    "    scale=scale,\n",
    "    opacity=0.3,\n",
    ")    \n"
   ]
  },
  {
   "cell_type": "code",
   "execution_count": 12,
   "metadata": {},
   "outputs": [
    {
     "data": {
      "text/plain": [
       "<Image layer 'nuclei' at 0x1746e4640>"
      ]
     },
     "execution_count": 12,
     "metadata": {},
     "output_type": "execute_result"
    }
   ],
   "source": [
    "\n",
    "viewer.add_image(\n",
    "    nuclei,\n",
    "    scale=scale,\n",
    "    opacity=0.3,\n",
    ")    \n"
   ]
  },
  {
   "attachments": {},
   "cell_type": "markdown",
   "metadata": {},
   "source": [
    "## DEFINE `_infer_cytosol` function\n",
    "\n",
    "Based on the _prototyping_ above define the function to infer cytosol.  \n"
   ]
  },
  {
   "cell_type": "code",
   "execution_count": 13,
   "metadata": {},
   "outputs": [],
   "source": [
    "# copy this to base.py for easy import\n",
    "\n",
    "def _infer_cytosol(soma_mask, nuclei_object, erode_nuclei = False):\n",
    "    \"\"\"\n",
    "    Procedure to infer cytosol from linearly unmixed input.\n",
    "\n",
    "    Parameters\n",
    "    ------------\n",
    "    nuclei_object: \n",
    "        a 3d image containing the nuclei signal\n",
    "\n",
    "    soma_mask: \n",
    "        a 3d image containing the soma signal\n",
    "\n",
    "    erode_nuclei: \n",
    "        should we erode? Default False\n",
    "\n",
    "    Returns\n",
    "    -------------\n",
    "    cytosol_mask \n",
    "        boolean np.ndarray\n",
    "      \n",
    "    \"\"\"\n",
    "\n",
    "\n",
    "    if erode_nuclei:\n",
    "        # cytosol_mask = np.logical_and(soma_mask, ~binary_erosion(nuclei_object))\n",
    "        cytosol_mask = np.logical_xor(soma_mask, binary_erosion(nuclei_object))\n",
    "    else:\n",
    "        # cytosol_mask = np.logical_and(soma_mask, ~nuclei_object)\n",
    "        cytosol_mask = np.logical_xor(soma_mask, nuclei_object)\n",
    "\n",
    "\n",
    "    return cytosol_mask\n"
   ]
  },
  {
   "attachments": {},
   "cell_type": "markdown",
   "metadata": {},
   "source": [
    "--------------------------\n",
    "\n",
    "## TEST `infer_cytosol` exported functions\n"
   ]
  },
  {
   "cell_type": "code",
   "execution_count": 14,
   "metadata": {},
   "outputs": [],
   "source": [
    "from infer_subc_2d.organelles.cytosol import infer_cytosol\n",
    "\n",
    "_cytosol_mask =  _infer_cytosol(soma, nucleus_obj, erode_nuclei=False) \n",
    "\n",
    "cytosol_mask =  infer_cytosol(soma, nucleus_obj, erode_nuclei=False) \n"
   ]
  },
  {
   "cell_type": "code",
   "execution_count": 21,
   "metadata": {},
   "outputs": [
    {
     "name": "stdout",
     "output_type": "stream",
     "text": [
      "saved file: /Users/ahenrie/Projects/Imaging/data/out/cytosol_ZSTACK_PBTOhNGN2hiPSCs_BR3_N04_Unmixed.ome.tiff\n"
     ]
    }
   ],
   "source": [
    "out_file_n = export_inferred_organelle(cytosol_mask, \"cytosol\", meta_dict, out_data_path)"
   ]
  },
  {
   "attachments": {},
   "cell_type": "markdown",
   "metadata": {},
   "source": [
    "## Visualize  2\n"
   ]
  },
  {
   "cell_type": "code",
   "execution_count": 15,
   "metadata": {},
   "outputs": [
    {
     "data": {
      "text/plain": [
       "<Labels layer '_cytosol_mask' at 0x174830fd0>"
      ]
     },
     "execution_count": 15,
     "metadata": {},
     "output_type": "execute_result"
    }
   ],
   "source": [
    "\n",
    "\n",
    "viewer.scale_bar.visible = True\n",
    "viewer.add_image(\n",
    "    cytosol_mask,\n",
    "    scale=scale \n",
    ")\n",
    "\n",
    "viewer.add_labels(\n",
    "    _cytosol_mask,\n",
    "    scale=scale \n",
    ")\n"
   ]
  },
  {
   "cell_type": "code",
   "execution_count": 16,
   "metadata": {},
   "outputs": [
    {
     "data": {
      "image/png": "[encoded data removed]",
      "text/html": [
       "<img src=\"data:image/png;base64,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\"></img>"
      ],
      "text/plain": [
       "<napari.utils.notebook_display.NotebookScreenshot at 0x174fe3ee0>"
      ]
     },
     "execution_count": 16,
     "metadata": {},
     "output_type": "execute_result"
    }
   ],
   "source": [
    "from napari.utils.notebook_display import nbscreenshot\n",
    "\n",
    "# viewer.dims.ndisplay = 3\n",
    "# viewer.camera.angles = (-30, 25, 120)\n",
    "nbscreenshot(viewer, canvas_only=True)\n",
    "\n"
   ]
  },
  {
   "cell_type": "code",
   "execution_count": 17,
   "metadata": {},
   "outputs": [],
   "source": [
    "viewer.close()"
   ]
  },
  {
   "attachments": {},
   "cell_type": "markdown",
   "metadata": {},
   "source": [
    "-----------------\n",
    "Write the `infer_cytosol` spec to the widget json "
   ]
  },
  {
   "cell_type": "code",
   "execution_count": 15,
   "metadata": {},
   "outputs": [
    {
     "name": "stdout",
     "output_type": "stream",
     "text": [
      "function infer_cytosol is already in all_functions.json\n",
      "overwriting  infer_cytosol\n"
     ]
    },
    {
     "data": {
      "text/plain": [
       "1"
      ]
     },
     "execution_count": 15,
     "metadata": {},
     "output_type": "execute_result"
    }
   ],
   "source": [
    "from infer_subc_2d.organelles_config.helper import add_function_spec_to_widget_json\n",
    "\n",
    "_infer_cytosol=  {\n",
    "        \"name\": \"infer infer_cytosol\",\n",
    "        \"python::module\": \"infer_subc_2d.organelles\",\n",
    "        \"python::function\": \"infer_cytosol\",\n",
    "        \"parameters\": {\n",
    "                \"erode_nuclei\" : {\n",
    "                        \"widget_type\": \"drop-down\",\n",
    "                        \"data_type\": \"bool\",\n",
    "                        \"options\": [\n",
    "                        True,\n",
    "                        False\n",
    "                        ]\n",
    "            }\n",
    "        }\n",
    "}\n",
    "\n",
    "add_function_spec_to_widget_json(\"infer_cytosol\",_infer_cytosol, overwrite=True)"
   ]
  },
  {
   "cell_type": "markdown",
   "metadata": {},
   "source": [
    "--------------------------\n",
    "## Write workflow .json\n",
    "Now that we've added our function specs we can compose workflows."
   ]
  },
  {
   "cell_type": "code",
   "execution_count": 16,
   "metadata": {},
   "outputs": [],
   "source": [
    "def make_infer_cytosol_dict():\n",
    "    \"\"\"\n",
    "    Procedure to infer infer from linearly unmixed input. (logical soma AND NOT nucleus)\n",
    "    \"\"\"\n",
    "    step_name = []\n",
    "    function_name = []\n",
    "    category =[]\n",
    "    parameter_values = []\n",
    "    parent = []\n",
    "   \n",
    "    ###################\n",
    "    # EXTRACT\n",
    "    ###################   \n",
    "\n",
    "    step_name.append(\"1\")\n",
    "    function_name.append(\"fixed_infer_nuclei\")\n",
    "    category.append(\"extraction\")\n",
    "    parameter_values.append( None )\n",
    "    parent.append(0)\n",
    "\n",
    "    step_name.append(\"2\")\n",
    "    function_name.append(\"fixed_infer_soma_MCZ\")\n",
    "    category.append(\"extraction\")\n",
    "    parameter_values.append( None )\n",
    "    parent.append([0,1])\n",
    "\n",
    "    step_name.append(\"3\")\n",
    "    function_name.append(\"apply_mask\")\n",
    "    category.append(\"postprocessing\")\n",
    "    parameter_values.append(None)\n",
    "    parent.append([1,2])\n",
    "\n",
    "    step_name.append(\"4\")\n",
    "    function_name.append(\"infer_cytosol\")\n",
    "    category.append(\"postprocessing\")\n",
    "    parameter_values.append(dict(erode_nuclei = False ))\n",
    "    parent.append([2,3])\n",
    "\n",
    "    out_dict = dict()\n",
    "    for i,stepn in enumerate(step_name):\n",
    "        entry = dict(category=category[i],\n",
    "                            function=function_name[i],\n",
    "                            parameter_values=parameter_values[i],\n",
    "                            parent=parent[i]\n",
    "        )\n",
    "        if entry['parameter_values'] is None:\n",
    "            _ = entry.pop('parameter_values')\n",
    "        out_dict[stepn] = entry\n",
    "        \n",
    "    return out_dict"
   ]
  },
  {
   "cell_type": "code",
   "execution_count": 17,
   "metadata": {},
   "outputs": [
    {
     "data": {
      "text/plain": [
       "PosixPath('/Users/ahenrie/Projects/Imaging/infer-subc-2D/infer_subc_2d/organelles_config/conf_1.3.cytosol_from_raw.json')"
      ]
     },
     "execution_count": 17,
     "metadata": {},
     "output_type": "execute_result"
    }
   ],
   "source": [
    "from infer_subc_2d.organelles_config.helper import write_workflow_json\n",
    "\n",
    "infer_cytosol_dict = make_infer_cytosol_dict()\n",
    "\n",
    "write_workflow_json(\"conf_1.3.cytosol_from_raw\", infer_cytosol_dict)"
   ]
  },
  {
   "attachments": {},
   "cell_type": "markdown",
   "metadata": {},
   "source": [
    "-------------\n",
    "## SUMMARY\n",
    "\n",
    "The above details how the cytosol mask is inferred. \n",
    "\n",
    "### NEXT: INFER LYSOSOME\n",
    "\n",
    "proceed to [04_infer_lysosome.ipynb](./04_infer_lysosome.ipynb)\n"
   ]
  }
 ],
 "metadata": {
  "kernelspec": {
   "display_name": "Python 3.9.13 ('napariNEW')",
   "language": "python",
   "name": "python3"
  },
  "language_info": {
   "codemirror_mode": {
    "name": "ipython",
    "version": 3
   },
   "file_extension": ".py",
   "mimetype": "text/x-python",
   "name": "python",
   "nbconvert_exporter": "python",
   "pygments_lexer": "ipython3",
   "version": "3.9.16"
  },
  "orig_nbformat": 4,
  "vscode": {
   "interpreter": {
    "hash": "d6148ef1fb015fb20f0b6da2ea61c87c6b848bdf3dabb03087e5d5cd0c4607e9"
   }
  }
 },
 "nbformat": 4,
 "nbformat_minor": 2
}
