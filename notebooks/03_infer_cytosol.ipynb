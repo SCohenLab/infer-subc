{
 "cells": [
  {
   "cell_type": "code",
   "execution_count": null,
   "metadata": {},
   "outputs": [],
   "source": []
  },
  {
   "cell_type": "markdown",
   "metadata": {},
   "source": [
    "# Infer CYTOSOL - part 3\n",
    "\n",
    "--------------\n",
    "\n",
    "## OBJECTIVE:  Infer sub-cellular component #3: CYTOSOL  in order to understand interactome \n",
    "\n",
    "To measure shape, position, and size of the cytosol of the cell body -- the soma minus the nucleus.    \n",
    "\n",
    "Dependencies:\n",
    "The CYTOSOL inference rely on the NUCLEI AND SOMA inference.  Therefore all of the sub-cellular objects rely on this segmentation.\n",
    "\n"
   ]
  },
  {
   "cell_type": "markdown",
   "metadata": {},
   "source": [
    "\n",
    "\n",
    "# IMPORTS"
   ]
  },
  {
   "cell_type": "code",
   "execution_count": 1,
   "metadata": {},
   "outputs": [],
   "source": [
    "# top level imports\n",
    "from pathlib import Path\n",
    "import os, sys\n",
    "from collections import defaultdict\n",
    "\n",
    "import numpy as np\n",
    "import scipy\n",
    "\n",
    "# # function for core algorithm\n",
    "from scipy import ndimage as ndi\n",
    "import aicssegmentation\n",
    "from aicssegmentation.core.seg_dot import dot_3d_wrapper, dot_slice_by_slice, dot_2d_slice_by_slice_wrapper, dot_3d\n",
    "from aicssegmentation.core.pre_processing_utils import ( intensity_normalization, \n",
    "                                                         image_smoothing_gaussian_3d,  \n",
    "                                                         image_smoothing_gaussian_slice_by_slice )\n",
    "from aicssegmentation.core.utils import topology_preserving_thinning\n",
    "from aicssegmentation.core.MO_threshold import MO\n",
    "from aicssegmentation.core.utils import hole_filling\n",
    "from aicssegmentation.core.vessel import filament_2d_wrapper, vesselnessSliceBySlice\n",
    "from aicssegmentation.core.output_utils import   save_segmentation,  generate_segmentation_contour\n",
    "                                                 \n",
    "from skimage import filters\n",
    "from skimage import morphology\n",
    "from skimage.segmentation import watershed\n",
    "from skimage.feature import peak_local_max\n",
    "from skimage.morphology import remove_small_objects, binary_closing, ball , dilation   # function for post-processing (size filter)\n",
    "from skimage.measure import label\n",
    "\n",
    "# # package for io \n",
    "from aicsimageio import AICSImage\n",
    "\n",
    "import napari\n",
    "\n",
    "### import local python functions in ../infer_subc\n",
    "sys.path.append(os.path.abspath((os.path.join(os.getcwd(), '..'))))\n",
    "\n",
    "from infer_subc.utils.file_io import read_input_image, list_image_files, export_ome_tiff\n",
    "from infer_subc.utils.img import *\n",
    "\n",
    "%load_ext autoreload\n",
    "%autoreload 2\n",
    "\n",
    "from infer_subc.organelles.cytosol import infer_CYTOSOL"
   ]
  },
  {
   "cell_type": "markdown",
   "metadata": {},
   "source": [
    "# IMAGE PROCESSING Objective 3:  infer CYTOSOL\n",
    "  [OUTLINE: Objective #2](#summary-of-objectives)\n",
    "## summary of steps\n",
    "\n",
    "INPUT\n",
    "- labeled NUCLEI (objective #1)\n",
    "- labeled SOMA (objective #2)\n",
    "\n",
    "PRE-PROCESSING\n",
    "- erode Nuclei (shrink)\n",
    "\n",
    "CORE PROCESSING\n",
    "  - XOR(NUCLEI, SOMA)\n",
    "\n",
    "- POST-PROCESSING\n",
    "  - N/A\n",
    "\n",
    "OUTPUT\n",
    "- mask of CYTOSOL\n",
    "- CYTOSOL object (intensity)\n"
   ]
  },
  {
   "cell_type": "markdown",
   "metadata": {},
   "source": [
    "\n",
    "# INPUT"
   ]
  },
  {
   "cell_type": "code",
   "execution_count": 3,
   "metadata": {},
   "outputs": [
    {
     "name": "stderr",
     "output_type": "stream",
     "text": [
      "/opt/anaconda3/envs/napariNEW/lib/python3.9/site-packages/ome_types/_convenience.py:105: FutureWarning: The default XML parser will be changing from 'xmlschema' to 'lxml' in version 0.4.0.  To silence this warning, please provide the `parser` argument, specifying either 'lxml' (to opt into the new behavior), or'xmlschema' (to retain the old behavior).\n",
      "  d = to_dict(os.fspath(xml), parser=parser, validate=validate)\n",
      "/opt/anaconda3/envs/napariNEW/lib/python3.9/site-packages/ome_types/_convenience.py:105: FutureWarning: The default XML parser will be changing from 'xmlschema' to 'lxml' in version 0.4.0.  To silence this warning, please provide the `parser` argument, specifying either 'lxml' (to opt into the new behavior), or'xmlschema' (to retain the old behavior).\n",
      "  d = to_dict(os.fspath(xml), parser=parser, validate=validate)\n",
      "/opt/anaconda3/envs/napariNEW/lib/python3.9/site-packages/ome_types/_convenience.py:105: FutureWarning: The default XML parser will be changing from 'xmlschema' to 'lxml' in version 0.4.0.  To silence this warning, please provide the `parser` argument, specifying either 'lxml' (to opt into the new behavior), or'xmlschema' (to retain the old behavior).\n",
      "  d = to_dict(os.fspath(xml), parser=parser, validate=validate)\n"
     ]
    },
    {
     "data": {
      "text/plain": [
       "'/Users/ahenrie/Projects/Imaging/mcz_subcell/data/inferred_objects/SO_object3.ome.tiff'"
      ]
     },
     "execution_count": 3,
     "metadata": {},
     "output_type": "execute_result"
    }
   ],
   "source": [
    "###################\n",
    "# INPUT\n",
    "###################\n",
    "##  set up files\n",
    "# build the datapath\n",
    "# all the imaging data goes here.\n",
    "data_root_path = Path(os.path.expanduser(\"~\")) / \"Projects/Imaging/data\"\n",
    "\n",
    "chan_name = 'nuclei'\n",
    "out_path = data_root_path / \"inferred_objects\" \n",
    "object_name = 'NU_object'\n",
    "\n",
    "NU_bioim = read_input_image( out_path/ f\"{object_name}.ome.tiff\"  )\n",
    "NU_object = NU_bioim.image\n",
    "NU_labels = label(NU_object)\n",
    "\n",
    "\n",
    "object_name = 'SO_object3'\n",
    "label_name = 'SO_label3'\n",
    "\n",
    "SO_bioim = read_input_image( out_path/ f\"{object_name}.ome.tiff\" )\n",
    "SO_object = SO_bioim.image\n",
    "\n",
    "SO_bioim = read_input_image( out_path/ f\"{label_name}.ome.tiff\" )\n",
    "SO_labels = SO_bioim.image\n",
    "scale = SO_bioim.meta['scale']\n",
    "'/Users/ahenrie/Projects/Imaging/mcz_subcell/data/inferred_objects/SO_object3.ome.tiff'"
   ]
  },
  {
   "cell_type": "markdown",
   "metadata": {},
   "source": [
    "## PRE-PROCESSING"
   ]
  },
  {
   "cell_type": "code",
   "execution_count": 15,
   "metadata": {},
   "outputs": [],
   "source": [
    "###################\n",
    "# PRE_PROCESSING\n",
    "###################\n",
    "\n",
    "#NU_eroded1 = morphology.binary_erosion(NU_object,  footprint=morphology.ball(3) )\n",
    "NU_eroded = morphology.binary_erosion(NU_object)  \n",
    "\n"
   ]
  },
  {
   "cell_type": "markdown",
   "metadata": {},
   "source": [
    "## CORE PROCESSING"
   ]
  },
  {
   "cell_type": "code",
   "execution_count": null,
   "metadata": {},
   "outputs": [],
   "source": [
    "\n",
    "###################\n",
    "# CORE_PROCESSING\n",
    "###################\n",
    "\n",
    "# logical  SO - NU_eroded\n",
    "# CY_labels = np.zeros_like(SO_labels)\n",
    "CY_object = np.logical_and(SO_object,~NU_eroded)\n",
    "# CY_labels[CY_object] = 1"
   ]
  },
  {
   "cell_type": "code",
   "execution_count": 17,
   "metadata": {},
   "outputs": [
    {
     "name": "stdout",
     "output_type": "stream",
     "text": [
      "['CY_object']\n"
     ]
    },
    {
     "name": "stderr",
     "output_type": "stream",
     "text": [
      "/opt/anaconda3/envs/napariNEW/lib/python3.9/site-packages/ome_types/_convenience.py:105: FutureWarning: The default XML parser will be changing from 'xmlschema' to 'lxml' in version 0.4.0.  To silence this warning, please provide the `parser` argument, specifying either 'lxml' (to opt into the new behavior), or'xmlschema' (to retain the old behavior).\n",
      "  d = to_dict(os.fspath(xml), parser=parser, validate=validate)\n"
     ]
    }
   ],
   "source": [
    "\n",
    "\n",
    "chan_name = 'nuclei'\n",
    "out_path = data_path / \"inferred_objects\" \n",
    "\n",
    "# test: does this export work?\n",
    "object_name = 'CY_object'\n",
    "CY_object_filen = export_ome_tiff(CY_object, meta_dict_t, object_name, str(out_path)+\"/\", curr_chan=0)\n",
    "\n",
    "\n",
    "\n",
    "viewer = napari.view_image( #viewer.add_image(\n",
    "    CY_object,\n",
    "    scale=scale,\n",
    "    opacity=0.3,\n",
    ")    \n"
   ]
  },
  {
   "cell_type": "markdown",
   "metadata": {},
   "source": [
    "# DEFINE `infer_CYTOSOL` function"
   ]
  },
  {
   "cell_type": "code",
   "execution_count": 23,
   "metadata": {},
   "outputs": [],
   "source": [
    "# copy this to base.py for easy import\n",
    "\n",
    "def infer_CYTOSOL(SO_object, NU_object, erode_NU = True):\n",
    "    \"\"\"\n",
    "    Procedure to infer NUCLEI from linearly unmixed input.\n",
    "\n",
    "    Parameters:\n",
    "    ------------\n",
    "    SO_object: np.ndarray\n",
    "        a 3d image containing the NUCLEI signal\n",
    "\n",
    "    NU_object: np.ndarray\n",
    "        a 3d image containing the NUCLEI signal\n",
    "\n",
    "    erode_NU: bool\n",
    "        should we erode?\n",
    "\n",
    "    Returns:\n",
    "    -------------\n",
    "    CY_object: np.ndarray (bool)\n",
    "      \n",
    "    \"\"\"\n",
    "\n",
    "    #NU_eroded1 = morphology.binary_erosion(NU_object,  footprint=morphology.ball(3) )\n",
    "    if erode_NU:\n",
    "        CY_object = np.logical_and(SO_object,~morphology.binary_erosion(NU_object) )\n",
    "    else:\n",
    "        CY_object = np.logical_and(SO_object,~NU_object)\n",
    "    return CY_object\n"
   ]
  },
  {
   "cell_type": "code",
   "execution_count": 24,
   "metadata": {},
   "outputs": [],
   "source": [
    "data_root_path = Path(os.path.expanduser(\"~\")) / \"Projects/Imaging/data\"\n",
    "\n",
    "out_path = data_root_path / \"inferred_objects\" \n",
    "object_name = 'NU_object'\n",
    "\n",
    "NU_bioim = read_input_image( out_path/ f\"{object_name}.ome.tiff\"  )\n",
    "NU_object = NU_bioim.image\n",
    "NU_labels = label(NU_object)\n",
    "\n",
    "object_name = 'SO_object3'\n",
    "label_name = 'SO_label3'\n",
    "SO_bioim = read_input_image( out_path/ f\"{object_name}.ome.tiff\" )\n",
    "SO_object = SO_bioim.image\n",
    "\n",
    "SO_bioim = read_input_image( out_path/ f\"{label_name}.ome.tiff\" )\n",
    "SO_labels = SO_bioim.image\n",
    "\n",
    "scale = meta_dict_t['scale']\n",
    "\n",
    "CYTO_object =  infer_CYTOSOL(SO_object, NU_object) \n",
    "\n"
   ]
  },
  {
   "cell_type": "code",
   "execution_count": null,
   "metadata": {},
   "outputs": [],
   "source": [
    "\n",
    "viewer = napari.view_image( #viewer.add_image(\n",
    "    CYTO_object,\n",
    "    scale=scale,\n",
    "    opacity=0.3,\n",
    ")    "
   ]
  },
  {
   "cell_type": "code",
   "execution_count": null,
   "metadata": {},
   "outputs": [],
   "source": [
    "\n",
    "\n",
    "chan_name = 'nuclei'\n",
    "out_path = data_path / \"inferred_objects\" \n",
    "\n",
    "# test: does this export work?\n",
    "object_name = 'CY_object'\n",
    "CY_object_filen = export_ome_tiff(CY_object, meta_dict_t, object_name, str(out_path)+\"/\", curr_chan=0)\n",
    "\n"
   ]
  }
 ],
 "metadata": {
  "kernelspec": {
   "display_name": "Python 3.9.13 ('napariNEW')",
   "language": "python",
   "name": "python3"
  },
  "language_info": {
   "codemirror_mode": {
    "name": "ipython",
    "version": 3
   },
   "file_extension": ".py",
   "mimetype": "text/x-python",
   "name": "python",
   "nbconvert_exporter": "python",
   "pygments_lexer": "ipython3",
   "version": "3.9.13"
  },
  "orig_nbformat": 4,
  "vscode": {
   "interpreter": {
    "hash": "d6148ef1fb015fb20f0b6da2ea61c87c6b848bdf3dabb03087e5d5cd0c4607e9"
   }
  }
 },
 "nbformat": 4,
 "nbformat_minor": 2
}
