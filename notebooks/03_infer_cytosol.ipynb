{
 "cells": [
  {
   "cell_type": "markdown",
   "metadata": {},
   "source": [
    "# Infer ***cytosol*** - part 3️⃣\n",
    "(🚨🚨🚨🚨 Steps 4-9 depend on establishing a good solution here.)\n",
    "\n",
    "--------------\n",
    "\n",
    "## OBJECTIVE:  Infer sub-cellular component #3: ***cytosol***  in order to understand interactome \n",
    "\n",
    "To measure shape, position, and size of the cytosol of the cell body -- the cytosol minus the nucleus.    \n",
    "\n",
    "Dependencies:\n",
    "The ***cytoso*** inference rely on the ***nuclei*** AND ***cytosol*** inference.  Therefore all of the sub-cellular objects rely on this segmentation.\n",
    "\n"
   ]
  },
  {
   "cell_type": "markdown",
   "metadata": {},
   "source": [
    "\n",
    "\n",
    "# IMPORTS"
   ]
  },
  {
   "cell_type": "code",
   "execution_count": 6,
   "metadata": {},
   "outputs": [
    {
     "name": "stdout",
     "output_type": "stream",
     "text": [
      "The autoreload extension is already loaded. To reload it, use:\n",
      "  %reload_ext autoreload\n"
     ]
    }
   ],
   "source": [
    "# top level imports\n",
    "from pathlib import Path\n",
    "import os, sys\n",
    "from collections import defaultdict\n",
    "\n",
    "import numpy as np\n",
    "\n",
    "from skimage.morphology import binary_erosion, binary_dilation\n",
    "# # package for io \n",
    "from aicsimageio import AICSImage\n",
    "\n",
    "import napari\n",
    "\n",
    "### import local python functions in ../infer_subc_2d\n",
    "sys.path.append(os.path.abspath((os.path.join(os.getcwd(), '..'))))\n",
    "\n",
    "from infer_subc_2d.utils.file_io import (read_czi_image,\n",
    "                                                                    read_input_image, \n",
    "                                                                    list_image_files, \n",
    "                                                                    export_ome_tiff, \n",
    "                                                                    etree_to_dict, \n",
    "                                                                    save_parameters, \n",
    "                                                                    load_parameters, \n",
    "                                                                    export_ndarray)\n",
    "from infer_subc_2d.utils.img import *\n",
    "\n",
    "from infer_subc_2d.constants import (TEST_IMG_N,\n",
    "                                                                    NUC_CH ,\n",
    "                                                                    LYSO_CH ,\n",
    "                                                                    MITO_CH ,\n",
    "                                                                    GOLGI_CH ,\n",
    "                                                                    PEROXI_CH ,\n",
    "                                                                    ER_CH ,\n",
    "                                                                    LIPID_CH ,\n",
    "                                                                    RESIDUAL_CH )          \n",
    "\n",
    "from infer_subc_2d.organelles.nuclei import infer_nuclei\n",
    "from infer_subc_2d.organelles.cytosol import infer_soma\n",
    "\n",
    "%load_ext autoreload\n",
    "%autoreload 2\n",
    "\n",
    "test_img_n = 5"
   ]
  },
  {
   "cell_type": "markdown",
   "metadata": {},
   "source": [
    "------------------------\n",
    "# LOAD RAW IMAGE DATA\n",
    "Identify path to _raw_ image data and load our example image\n"
   ]
  },
  {
   "cell_type": "code",
   "execution_count": 7,
   "metadata": {},
   "outputs": [],
   "source": [
    "# build the datapath\n",
    "# all the imaging data goes here.\n",
    "data_root_path = Path(os.path.expanduser(\"~\")) / \"Projects/Imaging/data\"\n",
    "\n",
    "# linearly unmixed \".czi\" files are here\n",
    "data_path = data_root_path / \"raw\"\n",
    "im_type = \".czi\"\n",
    "\n",
    "# get the list of all files\n",
    "img_file_list = list_image_files(data_path,im_type)\n",
    "test_img_name = img_file_list[test_img_n]\n"
   ]
  },
  {
   "cell_type": "code",
   "execution_count": 8,
   "metadata": {},
   "outputs": [],
   "source": [
    "\n",
    "img_data,meta_dict = read_czi_image(test_img_name)\n",
    "\n",
    "# get some top-level info about the RAW data\n",
    "channel_names = meta_dict['name']\n",
    "img = meta_dict['metadata']['aicsimage']\n",
    "scale = meta_dict['scale']\n",
    "channel_axis = meta_dict['channel_axis']\n"
   ]
  },
  {
   "cell_type": "code",
   "execution_count": 9,
   "metadata": {},
   "outputs": [],
   "source": [
    "# make sure we have removed Z\n",
    "if len(scale)>2:\n",
    "    scale = scale[1:]"
   ]
  },
  {
   "cell_type": "markdown",
   "metadata": {},
   "source": [
    "## Now get the single \"optimal\" slice of all our organelle channels and infer the SOMA\n",
    "\n",
    "takes ~ 4 seconds to calculate"
   ]
  },
  {
   "cell_type": "code",
   "execution_count": 12,
   "metadata": {},
   "outputs": [],
   "source": [
    "ch_to_agg = ( LYSO_CH ,\n",
    "                        MITO_CH ,\n",
    "                        GOLGI_CH ,\n",
    "                        PEROXI_CH ,\n",
    "                        ER_CH ,\n",
    "                        LIPID_CH )\n",
    "                            \n",
    "nuc_ch = NUC_CH\n",
    "optimal_Z = find_optimal_Z(img_data, nuc_ch, ch_to_agg) \n"
   ]
  },
  {
   "cell_type": "code",
   "execution_count": 13,
   "metadata": {},
   "outputs": [],
   "source": [
    "\n",
    "img_2D = img_data[:,[optimal_Z],:,:].copy()\n",
    "\n",
    "soma_mask =  infer_soma(img_2D) "
   ]
  },
  {
   "cell_type": "markdown",
   "metadata": {},
   "source": [
    "## get the inferred nuclei object\n",
    "\n",
    "(takes < 1 sec)"
   ]
  },
  {
   "cell_type": "code",
   "execution_count": 14,
   "metadata": {},
   "outputs": [],
   "source": [
    "nuclei_object =  infer_nuclei(img_2D, soma_mask) \n"
   ]
  },
  {
   "cell_type": "markdown",
   "metadata": {},
   "source": [
    "# IMAGE PROCESSING Objective 3:  infer ***cytosol***\n",
    "\n",
    "## summary of steps\n",
    "\n",
    "➡️ INPUT\n",
    "- labeled ***nuclei*** (objective #1)\n",
    "- labeled ***soma*** (objective #2)\n",
    "\n",
    "PRE-PROCESSING\n",
    "- erode ***nuclei*** (shrink)\n",
    "\n",
    "CORE PROCESSING\n",
    "  - XOR(***nuclei***, ***soma***)\n",
    "\n",
    "- POST-PROCESSING\n",
    "  - N/A\n",
    "\n",
    "OUTPUT ➡️ \n",
    "- mask of ***cytosol***\n",
    "- ***cytosol*** object (intensity)\n"
   ]
  },
  {
   "cell_type": "markdown",
   "metadata": {},
   "source": [
    "## PRE-PROCESSING"
   ]
  },
  {
   "cell_type": "code",
   "execution_count": 15,
   "metadata": {},
   "outputs": [],
   "source": [
    "###################\n",
    "# PRE_PROCESSING\n",
    "###################\n",
    "\n",
    "#nuclei_eroded1 = morphology.binary_erosion(nuclei_object,  footprint=morphology.ball(3) )\n",
    "nuclei_eroded = binary_erosion(nuclei_object)  \n",
    "\n"
   ]
  },
  {
   "cell_type": "markdown",
   "metadata": {},
   "source": [
    "## CORE PROCESSING"
   ]
  },
  {
   "cell_type": "code",
   "execution_count": 16,
   "metadata": {},
   "outputs": [],
   "source": [
    "\n",
    "###################\n",
    "# CORE_PROCESSING\n",
    "###################\n",
    "\n",
    "\n",
    "cyto_object = np.logical_and(soma_mask,~nuclei_eroded)\n",
    "\n",
    "cyto_object_xor = np.logical_xor(soma_mask,nuclei_eroded)\n",
    "\n",
    "#cyto_object = binary_dilation(cyto_object)"
   ]
  },
  {
   "cell_type": "code",
   "execution_count": 17,
   "metadata": {},
   "outputs": [
    {
     "data": {
      "text/plain": [
       "<Image layer 'NU_object' at 0x151c71340>"
      ]
     },
     "execution_count": 17,
     "metadata": {},
     "output_type": "execute_result"
    }
   ],
   "source": [
    "\n",
    "\n",
    "\n",
    "viewer = napari.view_image( #viewer.add_image(\n",
    "    cyto_object,\n",
    "    scale=scale,\n",
    "    opacity=0.3,\n",
    ")    \n",
    "\n",
    "viewer.add_image(\n",
    "    nuclei_eroded,\n",
    "    scale=scale,\n",
    "    opacity=0.3,\n",
    ")    \n",
    "\n",
    "viewer.add_image(\n",
    "    nuclei_object,\n",
    "    scale=scale,\n",
    "    opacity=0.3,\n",
    ")    \n"
   ]
  },
  {
   "cell_type": "markdown",
   "metadata": {},
   "source": [
    "# DEFINE `_infer_cytosol` function\n",
    "\n",
    "Based on the _prototyping_ above define the function to infer cytosol.  \n"
   ]
  },
  {
   "cell_type": "code",
   "execution_count": 16,
   "metadata": {},
   "outputs": [],
   "source": [
    "# copy this to base.py for easy import\n",
    "\n",
    "def _infer_cytosol(nuclei_object, soma_mask, erode_nuclei = True):\n",
    "    \"\"\"\n",
    "    Procedure to infer cytosol from linearly unmixed input.\n",
    "\n",
    "    Parameters:\n",
    "    ------------\n",
    "    nuclei_object: np.ndarray\n",
    "        a 3d image containing the nuclei signal\n",
    "\n",
    "    soma_mask: np.ndarray\n",
    "        a 3d image containing the soma signal\n",
    "\n",
    "    erode_nuclei: bool\n",
    "        should we erode?\n",
    "\n",
    "    Returns:\n",
    "    -------------\n",
    "    cytosol_mask: np.ndarray (bool)\n",
    "      \n",
    "    \"\"\"\n",
    "\n",
    "    if erode_nuclei:\n",
    "        # cytosol_mask = np.logical_and(soma_mask, ~binary_erosion(nuclei_object))\n",
    "        cytosol_mask = np.logical_xor(soma_mask, binary_erosion(nuclei_object))\n",
    "    else:\n",
    "        # cytosol_mask = np.logical_and(soma_mask, ~nuclei_object)\n",
    "        cytosol_mask = np.logical_xor(soma_mask, nuclei_object)\n",
    "\n",
    "\n",
    "    return cytosol_mask\n"
   ]
  },
  {
   "cell_type": "markdown",
   "metadata": {},
   "source": [
    "--------------------------\n",
    "\n",
    "# TEST `infer_cytosol` exported functions\n",
    "\n",
    "\n",
    "##\n",
    "`infer_cytosol` procedure"
   ]
  },
  {
   "cell_type": "code",
   "execution_count": 18,
   "metadata": {},
   "outputs": [],
   "source": [
    "from infer_subc_2d.organelles.cytosol import infer_cytosol\n",
    "\n",
    "_cytosol_mask =  _infer_cytosol(soma_mask, nuclei_object) \n",
    "\n",
    "cytosol_mask =  infer_cytosol(soma_mask, nuclei_object) \n"
   ]
  },
  {
   "cell_type": "code",
   "execution_count": 22,
   "metadata": {},
   "outputs": [
    {
     "data": {
      "text/plain": [
       "<Image layer 'NU_eroded' at 0x183afcfd0>"
      ]
     },
     "execution_count": 22,
     "metadata": {},
     "output_type": "execute_result"
    }
   ],
   "source": [
    "\n",
    "\n",
    "viewer.scale_bar.visible = True\n",
    "viewer.add_image(\n",
    "    cytosol_mask,\n",
    "    scale=scale \n",
    ")\n",
    "\n",
    "viewer.add_labels(\n",
    "    _cytosol_mask,\n",
    "    scale=scale \n",
    ")\n",
    "\n",
    "viewer.add_labels(\n",
    "    nuclei_object,\n",
    "    scale=scale \n",
    ")\n",
    "\n",
    "viewer.add_image(\n",
    "    nuclei_eroded,\n",
    "    scale=scale \n",
    ")"
   ]
  },
  {
   "cell_type": "code",
   "execution_count": null,
   "metadata": {},
   "outputs": [],
   "source": [
    "from napari.utils.notebook_display import nbscreenshot\n",
    "\n",
    "# viewer.dims.ndisplay = 3\n",
    "# viewer.camera.angles = (-30, 25, 120)\n",
    "nbscreenshot(viewer, canvas_only=True)"
   ]
  },
  {
   "cell_type": "markdown",
   "metadata": {},
   "source": [
    "--------------------------\n",
    "## Write workflow .json\n",
    "Now that we've added our function specs we can compose workflows."
   ]
  },
  {
   "cell_type": "code",
   "execution_count": null,
   "metadata": {},
   "outputs": [],
   "source": [
    "def make_infer_cytosol_dict():\n",
    "    \"\"\"\n",
    "    Procedure to infer infer from linearly unmixed input. (logical soma AND NOT nucleus)\n",
    "\n",
    "    Parameters:\n",
    "    ------------\n",
    "    nuclei_object: np.ndarray\n",
    "        a 3d image containing the nuclei object\n",
    "\n",
    "    soma_mask: np.ndarray\n",
    "        a 3d image containing the soma object (mask)\n",
    "\n",
    "    erode_nuclei: bool\n",
    "        should we erode?\n",
    "\n",
    "    Returns:\n",
    "    -------------\n",
    "    cytosol_mask: np.ndarray (bool)\n",
    "\n",
    "    \"\"\"\n",
    "    step_name = []\n",
    "    function_name = []\n",
    "    category =[]\n",
    "    parameter_values = []\n",
    "    parent = []\n",
    "    \n",
    "    # eroded_nuclear_object = binary_erosion(nuclei_object)\n",
    "\n",
    "\n",
    "    step_name.append(\"1\")\n",
    "    function_name.append(\"min_max_intensity_normalization\")\n",
    "    category.append(\"preprocessing\")\n",
    "    parameter_values.append(None)\n",
    "    parent.append(0)\n",
    "\n",
    "    # cytosol_mask = np.logical_xor(soma_mask,eroded_nuclear_object)\n",
    "\n",
    "    step_name.append(\"2\")\n",
    "    function_name.append(\"median_filter_slice_by_slice\")\n",
    "    category.append(\"preprocessing\")\n",
    "    parameter_values.append(dict(size = 4 ))\n",
    "    parent.append(1)\n",
    "\n",
    "    out_dict = dict()\n",
    "    for i,stepn in enumerate(step_name):\n",
    "        entry = dict(category=category[i],\n",
    "                            function=function_name[i],\n",
    "                            parameter_values=parameter_values[i],\n",
    "                            parent=parent[i]\n",
    "        )\n",
    "        if entry['parameter_values'] is None:\n",
    "            _ = entry.pop('parameter_values')\n",
    "        out_dict[stepn] = entry\n",
    "        \n",
    "    return out_dict"
   ]
  },
  {
   "cell_type": "code",
   "execution_count": null,
   "metadata": {},
   "outputs": [
    {
     "data": {
      "text/plain": [
       "PosixPath('/Users/ahenrie/Projects/Imaging/infer-subc-2D/infer_subc_2d/organelles_config/infer_nuclei.json')"
      ]
     },
     "metadata": {},
     "output_type": "display_data"
    }
   ],
   "source": [
    "from infer_subc_2d.organelles_config.helper import write_workflow_json\n",
    "\n",
    "infer_cytosol_dict = make_infer_cytosol_dict()\n",
    "\n",
    "write_workflow_json(\"infer_cytosol\", infer_cytosol_dict)"
   ]
  },
  {
   "cell_type": "markdown",
   "metadata": {},
   "source": [
    "## make function json to add to `all_functions.json`\n",
    "### infer_nuclei "
   ]
  },
  {
   "cell_type": "code",
   "execution_count": null,
   "metadata": {},
   "outputs": [
    {
     "data": {
      "text/plain": [
       "1"
      ]
     },
     "metadata": {},
     "output_type": "display_data"
    }
   ],
   "source": [
    "from infer_subc_2d.organelles_config.helper import add_function_spec_to_widget_json\n",
    "\n",
    "_infer_soma =  {\n",
    "        \"name\": \"infer infer_soma\",\n",
    "        \"python::module\": \"infer_subc_2d.organelles\",\n",
    "        \"python::function\": \"infer_soma\",\n",
    "        \"parameters\": None\n",
    "        }\n",
    "\n",
    "add_function_spec_to_widget_json(\"infer_soma\",_infer_soma)"
   ]
  }
 ],
 "metadata": {
  "kernelspec": {
   "display_name": "Python 3.9.13 ('napariNEW')",
   "language": "python",
   "name": "python3"
  },
  "language_info": {
   "codemirror_mode": {
    "name": "ipython",
    "version": 3
   },
   "file_extension": ".py",
   "mimetype": "text/x-python",
   "name": "python",
   "nbconvert_exporter": "python",
   "pygments_lexer": "ipython3",
   "version": "3.9.13"
  },
  "orig_nbformat": 4,
  "vscode": {
   "interpreter": {
    "hash": "d6148ef1fb015fb20f0b6da2ea61c87c6b848bdf3dabb03087e5d5cd0c4607e9"
   }
  }
 },
 "nbformat": 4,
 "nbformat_minor": 2
}
