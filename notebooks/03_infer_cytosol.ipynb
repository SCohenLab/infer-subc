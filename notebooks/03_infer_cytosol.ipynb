{
 "cells": [
  {
   "attachments": {},
   "cell_type": "markdown",
   "metadata": {},
   "source": [
    "# Infer ***cytosol*** -  3️⃣\n",
    "(🚨🚨🚨🚨 Steps 4-9 depend on establishing a good solution here.)\n",
    "\n",
    "--------------\n",
    "\n",
    "## OBJECTIVE:  \n",
    "### Infer sub-cellular component #3: ***cytosol***  in order to understand interactome \n",
    "\n",
    "To measure shape, position, and size of the cytosol of the cell body -- the cytosol minus the nucleus.    \n",
    "\n",
    "Dependencies:\n",
    "The ***cytoso*** inference rely on the ***nuclei*** AND ***cytosol*** inference.  Therefore all of the sub-cellular objects rely on this segmentation.\n",
    "\n"
   ]
  },
  {
   "attachments": {},
   "cell_type": "markdown",
   "metadata": {},
   "source": [
    "## preamble\n",
    "\n",
    "1. imports\n",
    "2. setup\n",
    "3. choose_Z\n",
    "4. get soma mask\n",
    "5. infer nuclei object "
   ]
  },
  {
   "attachments": {},
   "cell_type": "markdown",
   "metadata": {},
   "source": [
    "\n",
    "## IMPORTS"
   ]
  },
  {
   "cell_type": "code",
   "execution_count": 10,
   "metadata": {},
   "outputs": [
    {
     "name": "stdout",
     "output_type": "stream",
     "text": [
      "The autoreload extension is already loaded. To reload it, use:\n",
      "  %reload_ext autoreload\n"
     ]
    }
   ],
   "source": [
    "# top level imports\n",
    "from pathlib import Path\n",
    "import os, sys\n",
    "from collections import defaultdict\n",
    "\n",
    "import numpy as np\n",
    "\n",
    "from skimage.morphology import binary_erosion\n",
    "# # package for io \n",
    "from aicsimageio import AICSImage\n",
    "\n",
    "import napari\n",
    "\n",
    "### import local python functions in ../infer_subc_2d\n",
    "sys.path.append(os.path.abspath((os.path.join(os.getcwd(), '..'))))\n",
    "\n",
    "from infer_subc_2d.utils.file_io import (read_czi_image,\n",
    "                                                                    read_ome_image,\n",
    "                                                                    list_image_files)\n",
    "from infer_subc_2d.utils.img import *\n",
    "\n",
    "from infer_subc_2d.constants import (TEST_IMG_N,\n",
    "                                                                    NUC_CH ,\n",
    "                                                                    LYSO_CH ,\n",
    "                                                                    MITO_CH ,\n",
    "                                                                    GOLGI_CH ,\n",
    "                                                                    PEROXI_CH ,\n",
    "                                                                    ER_CH ,\n",
    "                                                                    LIPID_CH ,\n",
    "                                                                    RESIDUAL_CH )          \n",
    "\n",
    "from infer_subc_2d.organelles import infer_soma_MCZ, fixed_infer_soma_MCZ, fixed_infer_nuclei, find_optimal_Z, fixed_get_optimal_Z_image\n",
    "\n",
    "%load_ext autoreload\n",
    "%autoreload 2\n",
    "\n",
    "test_img_n = 5"
   ]
  },
  {
   "attachments": {},
   "cell_type": "markdown",
   "metadata": {},
   "source": [
    "\n",
    "## SETUP"
   ]
  },
  {
   "cell_type": "code",
   "execution_count": 7,
   "metadata": {},
   "outputs": [],
   "source": [
    "# build the datapath\n",
    "# all the imaging data goes here.\n",
    "data_root_path = Path(os.path.expanduser(\"~\")) / \"Projects/Imaging/data\"\n",
    "\n",
    "# linearly unmixed \".czi\" files are here\n",
    "data_path = data_root_path / \"raw\"\n",
    "im_type = \".czi\"\n",
    "\n",
    "# get the list of all files\n",
    "img_file_list = list_image_files(data_path,im_type)\n",
    "test_img_name = img_file_list[test_img_n]\n",
    "\n",
    "# save output \".tiff\" files here\n",
    "out_data_path = data_root_path / \"out\"\n",
    "\n",
    "if not Path.exists(out_data_path):\n",
    "    Path.mkdir(out_data_path)\n",
    "    print(f\"making {out_data_path}\")"
   ]
  },
  {
   "cell_type": "code",
   "execution_count": 5,
   "metadata": {},
   "outputs": [
    {
     "name": "stderr",
     "output_type": "stream",
     "text": [
      "/opt/anaconda3/envs/napariNEW/lib/python3.9/site-packages/ome_types/_convenience.py:106: FutureWarning: The default XML parser will be changing from 'xmlschema' to 'lxml' in version 0.4.0.  To silence this warning, please provide the `parser` argument, specifying either 'lxml' (to opt into the new behavior), or'xmlschema' (to retain the old behavior).\n",
      "  d = to_dict(os.fspath(xml), parser=parser, validate=validate)\n"
     ]
    }
   ],
   "source": [
    "\n",
    "img_data,meta_dict = read_czi_image(test_img_name)\n",
    "\n",
    "# get some top-level info about the RAW data\n",
    "channel_names = meta_dict['name']\n",
    "img = meta_dict['metadata']['aicsimage']\n",
    "scale = meta_dict['scale']\n",
    "channel_axis = meta_dict['channel_axis']\n"
   ]
  },
  {
   "attachments": {},
   "cell_type": "markdown",
   "metadata": {},
   "source": [
    "## GET inferred NUCLEI\n",
    "\n"
   ]
  },
  {
   "cell_type": "code",
   "execution_count": 11,
   "metadata": {},
   "outputs": [
    {
     "name": "stderr",
     "output_type": "stream",
     "text": [
      "/opt/anaconda3/envs/napariNEW/lib/python3.9/site-packages/ome_types/_convenience.py:106: FutureWarning: The default XML parser will be changing from 'xmlschema' to 'lxml' in version 0.4.0.  To silence this warning, please provide the `parser` argument, specifying either 'lxml' (to opt into the new behavior), or'xmlschema' (to retain the old behavior).\n",
      "  d = to_dict(os.fspath(xml), parser=parser, validate=validate)\n"
     ]
    },
    {
     "name": "stdout",
     "output_type": "stream",
     "text": [
      "loaded nuclei\n"
     ]
    }
   ],
   "source": [
    "\n",
    "# nuclei_fname = \"/Users/ahenrie/Projects/Imaging/data/out/nuclei_ZSTACK_PBTOhNGN2hiPSCs_BR3_N04_Unmixed.ome.tiff\"\n",
    "nuclei_fname = \"nuclei_\" + test_img_name.split(\"/\")[-1].split(\".\")[0] + \".ome.tiff\"\n",
    "nuclei_path = out_data_path / nuclei_fname  \n",
    "\n",
    "if Path.exists( nuclei_path ):\n",
    "    nuclei, nuc_meta_dict = read_ome_image( nuclei_path  )\n",
    "    print(\"loaded nuclei\")\n",
    "else:\n",
    "    nuclei =  fixed_infer_nuclei(img_data) \n",
    "    print(\"calculated nuclei\")\n"
   ]
  },
  {
   "attachments": {},
   "cell_type": "markdown",
   "metadata": {},
   "source": [
    "## GET SOMA MASK\n",
    "\n",
    "Find the soma in our chozed Z-slice"
   ]
  },
  {
   "cell_type": "code",
   "execution_count": 12,
   "metadata": {},
   "outputs": [
    {
     "name": "stderr",
     "output_type": "stream",
     "text": [
      "/opt/anaconda3/envs/napariNEW/lib/python3.9/site-packages/ome_types/_convenience.py:106: FutureWarning: The default XML parser will be changing from 'xmlschema' to 'lxml' in version 0.4.0.  To silence this warning, please provide the `parser` argument, specifying either 'lxml' (to opt into the new behavior), or'xmlschema' (to retain the old behavior).\n",
      "  d = to_dict(os.fspath(xml), parser=parser, validate=validate)\n"
     ]
    },
    {
     "name": "stdout",
     "output_type": "stream",
     "text": [
      "loaded soma\n"
     ]
    }
   ],
   "source": [
    "\n",
    "# soma_fname = \"/Users/ahenrie/Projects/Imaging/data/out/soma_ZSTACK_PBTOhNGN2hiPSCs_BR3_N04_Unmixed.ome.tiff\"\n",
    "soma_fname = \"soma_\" + test_img_name.split(\"/\")[-1].split(\".\")[0] + \".ome.tiff\"\n",
    "soma_path = out_data_path / soma_fname  \n",
    "\n",
    "if Path.exists( soma_path ):\n",
    "    soma, soma_meta_dict = read_ome_image( soma_path  )\n",
    "    print(\"loaded soma\")\n",
    "else:\n",
    "    soma = fixed_infer_soma_MCZ(img_data, nuclei)\n",
    "    print(\"calculated soma\")\n",
    "\n",
    "\n"
   ]
  },
  {
   "attachments": {},
   "cell_type": "markdown",
   "metadata": {},
   "source": [
    "## INFER NUCLEUS OBJECT\n",
    "\n",
    "mask the nuclei with the soma to get a ***single*** nucleus."
   ]
  },
  {
   "cell_type": "code",
   "execution_count": 14,
   "metadata": {},
   "outputs": [],
   "source": [
    "nucleus_obj =  apply_mask(nuclei, soma) \n"
   ]
  },
  {
   "attachments": {},
   "cell_type": "markdown",
   "metadata": {},
   "source": [
    "##  infer ***cytosol***\n",
    "\n",
    "## summary of steps\n",
    "\n",
    "➡️ INPUT\n",
    "- labeled ***nuclei*** (objective #1)\n",
    "- labeled ***soma*** (objective #2)\n",
    "\n",
    "PRE-PROCESSING\n",
    "- erode ***nuclei*** (shrink)\n",
    "\n",
    "CORE PROCESSING\n",
    "  - XOR(***nuclei***, ***soma***)\n",
    "\n",
    "- POST-PROCESSING\n",
    "  - N/A\n",
    "\n",
    "OUTPUT ➡️ \n",
    "- mask of ***cytosol***\n",
    "- ***cytosol*** object (intensity)\n"
   ]
  },
  {
   "cell_type": "markdown",
   "metadata": {},
   "source": [
    "## PRE-PROCESSING"
   ]
  },
  {
   "cell_type": "code",
   "execution_count": 18,
   "metadata": {},
   "outputs": [],
   "source": [
    "###################\n",
    "# PRE_PROCESSING\n",
    "###################\n",
    "nucleus_eroded = binary_erosion(nucleus_obj)  \n",
    "\n"
   ]
  },
  {
   "cell_type": "markdown",
   "metadata": {},
   "source": [
    "## CORE PROCESSING"
   ]
  },
  {
   "cell_type": "code",
   "execution_count": 19,
   "metadata": {},
   "outputs": [],
   "source": [
    "###################\n",
    "# CORE_PROCESSING\n",
    "###################\n",
    "\n",
    "cyto_object = np.logical_and(soma,~nucleus_eroded)\n",
    "\n",
    "cyto_object_xor = np.logical_xor(soma,nucleus_eroded)\n",
    "\n",
    "#cyto_object = binary_dilation(cyto_object)"
   ]
  },
  {
   "attachments": {},
   "cell_type": "markdown",
   "metadata": {},
   "source": [
    "## Visualize with `napari` "
   ]
  },
  {
   "cell_type": "code",
   "execution_count": 20,
   "metadata": {},
   "outputs": [
    {
     "ename": "NameError",
     "evalue": "name 'nuclei_object' is not defined",
     "output_type": "error",
     "traceback": [
      "\u001b[0;31m---------------------------------------------------------------------------\u001b[0m",
      "\u001b[0;31mNameError\u001b[0m                                 Traceback (most recent call last)",
      "Cell \u001b[0;32mIn[20], line 14\u001b[0m\n\u001b[1;32m      1\u001b[0m viewer \u001b[39m=\u001b[39m napari\u001b[39m.\u001b[39mview_image( \u001b[39m#viewer.add_image(\u001b[39;00m\n\u001b[1;32m      2\u001b[0m     cyto_object,\n\u001b[1;32m      3\u001b[0m     scale\u001b[39m=\u001b[39mscale,\n\u001b[1;32m      4\u001b[0m     opacity\u001b[39m=\u001b[39m\u001b[39m0.3\u001b[39m,\n\u001b[1;32m      5\u001b[0m )    \n\u001b[1;32m      7\u001b[0m viewer\u001b[39m.\u001b[39madd_image(\n\u001b[1;32m      8\u001b[0m     nuclei_eroded,\n\u001b[1;32m      9\u001b[0m     scale\u001b[39m=\u001b[39mscale,\n\u001b[1;32m     10\u001b[0m     opacity\u001b[39m=\u001b[39m\u001b[39m0.3\u001b[39m,\n\u001b[1;32m     11\u001b[0m )    \n\u001b[1;32m     13\u001b[0m viewer\u001b[39m.\u001b[39madd_image(\n\u001b[0;32m---> 14\u001b[0m     nuclei_object,\n\u001b[1;32m     15\u001b[0m     scale\u001b[39m=\u001b[39mscale,\n\u001b[1;32m     16\u001b[0m     opacity\u001b[39m=\u001b[39m\u001b[39m0.3\u001b[39m,\n\u001b[1;32m     17\u001b[0m )    \n",
      "\u001b[0;31mNameError\u001b[0m: name 'nuclei_object' is not defined"
     ]
    }
   ],
   "source": [
    "\n",
    "\n",
    "viewer = napari.view_image( #viewer.add_image(\n",
    "    cyto_object,\n",
    "    scale=scale,\n",
    "    opacity=0.3,\n",
    ")    \n"
   ]
  },
  {
   "cell_type": "code",
   "execution_count": 21,
   "metadata": {},
   "outputs": [
    {
     "data": {
      "text/plain": [
       "<Image layer 'nucleus_obj' at 0x148d36d90>"
      ]
     },
     "execution_count": 21,
     "metadata": {},
     "output_type": "execute_result"
    }
   ],
   "source": [
    "\n",
    "viewer.add_image(\n",
    "    nucleus_eroded,\n",
    "    scale=scale,\n",
    "    opacity=0.3,\n",
    ")    \n",
    "\n",
    "viewer.add_image(\n",
    "    nucleus_obj,\n",
    "    scale=scale,\n",
    "    opacity=0.3,\n",
    ")    \n"
   ]
  },
  {
   "attachments": {},
   "cell_type": "markdown",
   "metadata": {},
   "source": [
    "## DEFINE `_infer_cytosol` function\n",
    "\n",
    "Based on the _prototyping_ above define the function to infer cytosol.  \n"
   ]
  },
  {
   "cell_type": "code",
   "execution_count": 22,
   "metadata": {},
   "outputs": [],
   "source": [
    "# copy this to base.py for easy import\n",
    "\n",
    "def _infer_cytosol(soma_mask, nuclei_object, erode_nuclei = True):\n",
    "    \"\"\"\n",
    "    Procedure to infer cytosol from linearly unmixed input.\n",
    "\n",
    "    Parameters\n",
    "    ------------\n",
    "    nuclei_object: \n",
    "        a 3d image containing the nuclei signal\n",
    "\n",
    "    soma_mask: \n",
    "        a 3d image containing the soma signal\n",
    "\n",
    "    erode_nuclei: \n",
    "        should we erode?\n",
    "\n",
    "    Returns\n",
    "    -------------\n",
    "    cytosol_mask \n",
    "        boolean np.ndarray\n",
    "      \n",
    "    \"\"\"\n",
    "\n",
    "\n",
    "    if erode_nuclei:\n",
    "        # cytosol_mask = np.logical_and(soma_mask, ~binary_erosion(nuclei_object))\n",
    "        cytosol_mask = np.logical_xor(soma_mask, binary_erosion(nuclei_object))\n",
    "    else:\n",
    "        # cytosol_mask = np.logical_and(soma_mask, ~nuclei_object)\n",
    "        cytosol_mask = np.logical_xor(soma_mask, nuclei_object)\n",
    "\n",
    "\n",
    "    return cytosol_mask\n"
   ]
  },
  {
   "attachments": {},
   "cell_type": "markdown",
   "metadata": {},
   "source": [
    "--------------------------\n",
    "\n",
    "## TEST `infer_cytosol` exported functions\n"
   ]
  },
  {
   "cell_type": "code",
   "execution_count": 24,
   "metadata": {},
   "outputs": [],
   "source": [
    "from infer_subc_2d.organelles.cytosol import infer_cytosol\n",
    "\n",
    "_cytosol_mask =  _infer_cytosol(soma, nucleus_obj, erode_nuclei=False) \n",
    "\n",
    "cytosol_mask =  infer_cytosol(soma, nucleus_obj, erode_nuclei=False) \n"
   ]
  },
  {
   "attachments": {},
   "cell_type": "markdown",
   "metadata": {},
   "source": [
    "## Visualize  2\n"
   ]
  },
  {
   "cell_type": "code",
   "execution_count": 25,
   "metadata": {},
   "outputs": [
    {
     "data": {
      "text/plain": [
       "<Labels layer '_cytosol_mask' at 0x16f2ade80>"
      ]
     },
     "execution_count": 25,
     "metadata": {},
     "output_type": "execute_result"
    }
   ],
   "source": [
    "\n",
    "\n",
    "viewer.scale_bar.visible = True\n",
    "viewer.add_image(\n",
    "    cytosol_mask,\n",
    "    scale=scale \n",
    ")\n",
    "\n",
    "viewer.add_labels(\n",
    "    _cytosol_mask,\n",
    "    scale=scale \n",
    ")\n"
   ]
  },
  {
   "cell_type": "code",
   "execution_count": 26,
   "metadata": {},
   "outputs": [
    {
     "data": {
      "image/png": "[encoded data removed]",
      "text/html": [
       "<img src=\"data:image/png;base64,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\"></img>"
      ],
      "text/plain": [
       "<napari.utils.notebook_display.NotebookScreenshot at 0x16f2b00d0>"
      ]
     },
     "execution_count": 26,
     "metadata": {},
     "output_type": "execute_result"
    }
   ],
   "source": [
    "from napari.utils.notebook_display import nbscreenshot\n",
    "\n",
    "# viewer.dims.ndisplay = 3\n",
    "# viewer.camera.angles = (-30, 25, 120)\n",
    "nbscreenshot(viewer, canvas_only=True)\n",
    "\n"
   ]
  },
  {
   "cell_type": "code",
   "execution_count": 31,
   "metadata": {},
   "outputs": [],
   "source": [
    "viewer.close()"
   ]
  },
  {
   "attachments": {},
   "cell_type": "markdown",
   "metadata": {},
   "source": [
    "-----------------\n",
    "Write the `infer_cytosol` spec to the widget json "
   ]
  },
  {
   "cell_type": "code",
   "execution_count": 15,
   "metadata": {},
   "outputs": [
    {
     "name": "stdout",
     "output_type": "stream",
     "text": [
      "function infer_cytosol is already in all_functions.json\n",
      "overwriting  infer_cytosol\n"
     ]
    },
    {
     "data": {
      "text/plain": [
       "1"
      ]
     },
     "execution_count": 15,
     "metadata": {},
     "output_type": "execute_result"
    }
   ],
   "source": [
    "from infer_subc_2d.organelles_config.helper import add_function_spec_to_widget_json\n",
    "\n",
    "_infer_cytosol=  {\n",
    "        \"name\": \"infer infer_cytosol\",\n",
    "        \"python::module\": \"infer_subc_2d.organelles\",\n",
    "        \"python::function\": \"infer_cytosol\",\n",
    "        \"parameters\": {\n",
    "                \"erode_nuclei\" : {\n",
    "                        \"widget_type\": \"drop-down\",\n",
    "                        \"data_type\": \"bool\",\n",
    "                        \"options\": [\n",
    "                        True,\n",
    "                        False\n",
    "                        ]\n",
    "            }\n",
    "        }\n",
    "}\n",
    "\n",
    "add_function_spec_to_widget_json(\"infer_cytosol\",_infer_cytosol, overwrite=True)"
   ]
  },
  {
   "cell_type": "markdown",
   "metadata": {},
   "source": [
    "--------------------------\n",
    "## Write workflow .json\n",
    "Now that we've added our function specs we can compose workflows."
   ]
  },
  {
   "cell_type": "code",
   "execution_count": 16,
   "metadata": {},
   "outputs": [],
   "source": [
    "def make_infer_cytosol_dict():\n",
    "    \"\"\"\n",
    "    Procedure to infer infer from linearly unmixed input. (logical soma AND NOT nucleus)\n",
    "\n",
    "    Parameters\n",
    "    ------------\n",
    "    nuclei_object: np.ndarray\n",
    "        a 3d image containing the nuclei object\n",
    "\n",
    "    soma_mask: np.ndarray\n",
    "        a 3d image containing the soma object (mask)\n",
    "\n",
    "    erode_nuclei: bool\n",
    "        should we erode?\n",
    "\n",
    "    Returns\n",
    "    -------------\n",
    "    cytosol_mask: np.ndarray (bool)\n",
    "\n",
    "    \"\"\"\n",
    "    step_name = []\n",
    "    function_name = []\n",
    "    category =[]\n",
    "    parameter_values = []\n",
    "    parent = []\n",
    "   \n",
    "    ###################\n",
    "    # EXTRACT\n",
    "    ###################   \n",
    "\n",
    "    step_name.append(\"1\")\n",
    "    function_name.append(\"fixed_get_optimal_Z_img\")\n",
    "    category.append(\"extraction\")\n",
    "    parameter_values.append(None)\n",
    "    parent.append(0)\n",
    "\n",
    "\n",
    "    step_name.append(\"2\")\n",
    "    function_name.append(\"fixed_infer_soma\")\n",
    "    category.append(\"extraction\")\n",
    "    parameter_values.append( None )\n",
    "    parent.append(1)\n",
    "\n",
    "    step_name.append(\"3\")\n",
    "    function_name.append(\"fixed_infer_nuclei\")\n",
    "    category.append(\"extraction\")\n",
    "    parameter_values.append( None )\n",
    "    parent.append([1,2])\n",
    "\n",
    "    step_name.append(\"4\")\n",
    "    function_name.append(\"infer_cytosol\")\n",
    "    category.append(\"postprocessing\")\n",
    "    parameter_values.append(dict(erode_nuclei = True ))\n",
    "    parent.append([2,3])\n",
    "\n",
    "    out_dict = dict()\n",
    "    for i,stepn in enumerate(step_name):\n",
    "        entry = dict(category=category[i],\n",
    "                            function=function_name[i],\n",
    "                            parameter_values=parameter_values[i],\n",
    "                            parent=parent[i]\n",
    "        )\n",
    "        if entry['parameter_values'] is None:\n",
    "            _ = entry.pop('parameter_values')\n",
    "        out_dict[stepn] = entry\n",
    "        \n",
    "    return out_dict"
   ]
  },
  {
   "cell_type": "code",
   "execution_count": 17,
   "metadata": {},
   "outputs": [
    {
     "data": {
      "text/plain": [
       "PosixPath('/Users/ahenrie/Projects/Imaging/infer-subc-2D/infer_subc_2d/organelles_config/conf_1.3.cytosol_from_raw.json')"
      ]
     },
     "execution_count": 17,
     "metadata": {},
     "output_type": "execute_result"
    }
   ],
   "source": [
    "from infer_subc_2d.organelles_config.helper import write_workflow_json\n",
    "\n",
    "infer_cytosol_dict = make_infer_cytosol_dict()\n",
    "\n",
    "write_workflow_json(\"conf_1.3.cytosol_from_raw\", infer_cytosol_dict)"
   ]
  },
  {
   "attachments": {},
   "cell_type": "markdown",
   "metadata": {},
   "source": [
    "-------------\n",
    "## SUMMARY\n",
    "\n",
    "The above details how the cytosol mask is inferred. \n",
    "\n",
    "### NEXT: INFER LYSOSOME\n",
    "\n",
    "proceed to [04_infer_lysosome.ipynb](./04_infer_lysosome.ipynb)\n"
   ]
  }
 ],
 "metadata": {
  "kernelspec": {
   "display_name": "Python 3.9.13 ('napariNEW')",
   "language": "python",
   "name": "python3"
  },
  "language_info": {
   "codemirror_mode": {
    "name": "ipython",
    "version": 3
   },
   "file_extension": ".py",
   "mimetype": "text/x-python",
   "name": "python",
   "nbconvert_exporter": "python",
   "pygments_lexer": "ipython3",
   "version": "3.9.16"
  },
  "orig_nbformat": 4,
  "vscode": {
   "interpreter": {
    "hash": "d6148ef1fb015fb20f0b6da2ea61c87c6b848bdf3dabb03087e5d5cd0c4607e9"
   }
  }
 },
 "nbformat": 4,
 "nbformat_minor": 2
}
