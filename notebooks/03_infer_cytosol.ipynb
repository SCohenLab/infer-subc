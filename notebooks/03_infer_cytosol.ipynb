{
 "cells": [
  {
   "attachments": {},
   "cell_type": "markdown",
   "metadata": {},
   "source": [
    "# Infer ***cytosol*** -  3️⃣\n",
    "(🚨🚨🚨🚨 Steps 4-9 depend on establishing a good solution here.)\n",
    "\n",
    "--------------\n",
    "\n",
    "## OBJECTIVE:  \n",
    "### Infer sub-cellular component #3: ***cytosol***  in order to understand interactome \n",
    "\n",
    "To measure shape, position, and size of the cytosol of the cell body -- the cytosol minus the nucleus.    \n",
    "\n",
    "Dependencies:\n",
    "The ***cytoso*** inference rely on the ***nuclei*** AND ***cytosol*** inference.  Therefore all of the sub-cellular objects rely on this segmentation.\n",
    "\n"
   ]
  },
  {
   "attachments": {},
   "cell_type": "markdown",
   "metadata": {},
   "source": [
    "## preamble\n",
    "\n",
    "1. imports\n",
    "2. setup\n",
    "3. get nuclei\n",
    "4. get cellmask mask\n",
    "5. get cytosol mask\n",
    "6. export cytosol\n",
    "7. get nuclues\n",
    "8.  export nucleus\n"
   ]
  },
  {
   "attachments": {},
   "cell_type": "markdown",
   "metadata": {},
   "source": [
    "\n",
    "## IMPORTS"
   ]
  },
  {
   "cell_type": "code",
   "execution_count": 2,
   "metadata": {},
   "outputs": [],
   "source": [
    "# top level imports\n",
    "from pathlib import Path\n",
    "import os, sys\n",
    "\n",
    "import numpy as np\n",
    "\n",
    "from skimage.morphology import binary_erosion\n",
    "\n",
    "import napari\n",
    "\n",
    "### import local python functions in ../infer_subc_2d\n",
    "sys.path.append(os.path.abspath((os.path.join(os.getcwd(), '..'))))\n",
    "\n",
    "from infer_subc_2d.core.file_io import (read_czi_image,\n",
    "                                                                    read_ome_image,\n",
    "                                                                    export_inferred_organelle,\n",
    "                                                                    import_inferred_organelle,\n",
    "                                                                    list_image_files)\n",
    "from infer_subc_2d.core.img import *\n",
    "from infer_subc_2d.organelles import infer_cellmask_fromaggr, fixed_infer_cellmask_fromaggr, infer_nuclei_fromlabel, get_cellmask\n",
    "\n",
    "%load_ext autoreload\n",
    "%autoreload 2\n"
   ]
  },
  {
   "attachments": {},
   "cell_type": "markdown",
   "metadata": {},
   "source": [
    "\n",
    "## SETUP"
   ]
  },
  {
   "cell_type": "code",
   "execution_count": 3,
   "metadata": {},
   "outputs": [],
   "source": [
    "# NOTE:  these \"constants\" are only accurate for the testing MCZ dataset\n",
    "from infer_subc_2d.constants import (TEST_IMG_N,\n",
    "                                                                    NUC_CH ,\n",
    "                                                                    LYSO_CH ,\n",
    "                                                                    MITO_CH ,\n",
    "                                                                    GOLGI_CH ,\n",
    "                                                                    PEROX_CH ,\n",
    "                                                                    ER_CH ,\n",
    "                                                                    LD_CH ,\n",
    "                                                                    RESIDUAL_CH )                       "
   ]
  },
  {
   "cell_type": "code",
   "execution_count": 4,
   "metadata": {},
   "outputs": [],
   "source": [
    "# this will be the example image for testing the pipeline below\n",
    "test_img_n = TEST_IMG_N\n",
    "\n",
    "# build the datapath\n",
    "# all the imaging data goes here.\n",
    "data_root_path = Path(os.path.expanduser(\"~\")) / \"Projects/Imaging/data\"\n",
    "\n",
    "# linearly unmixed \".czi\" files are here\n",
    "data_path = data_root_path / \"raw\"\n",
    "im_type = \".czi\"\n",
    "\n",
    "# get the list of all files\n",
    "img_file_list = list_image_files(data_path,im_type)\n",
    "test_img_name = img_file_list[test_img_n]\n",
    "\n",
    "# save output \".tiff\" files here\n",
    "out_data_path = data_root_path / \"out\"\n",
    "\n",
    "if not Path.exists(out_data_path):\n",
    "    Path.mkdir(out_data_path)\n",
    "    print(f\"making {out_data_path}\")"
   ]
  },
  {
   "cell_type": "code",
   "execution_count": 5,
   "metadata": {},
   "outputs": [
    {
     "name": "stderr",
     "output_type": "stream",
     "text": [
      "/opt/anaconda3/envs/napariNEW/lib/python3.9/site-packages/ome_types/_convenience.py:106: FutureWarning: The default XML parser will be changing from 'xmlschema' to 'lxml' in version 0.4.0.  To silence this warning, please provide the `parser` argument, specifying either 'lxml' (to opt into the new behavior), or'xmlschema' (to retain the old behavior).\n",
      "  d = to_dict(os.fspath(xml), parser=parser, validate=validate)\n"
     ]
    }
   ],
   "source": [
    "\n",
    "img_data,meta_dict = read_czi_image(test_img_name)\n",
    "\n",
    "# get some top-level info about the RAW data\n",
    "channel_names = meta_dict['name']\n",
    "img = meta_dict['metadata']['aicsimage']\n",
    "scale = meta_dict['scale']\n",
    "channel_axis = meta_dict['channel_axis']\n"
   ]
  },
  {
   "attachments": {},
   "cell_type": "markdown",
   "metadata": {},
   "source": [
    "## GET inferred NUCLEI\n",
    "\n"
   ]
  },
  {
   "cell_type": "code",
   "execution_count": 6,
   "metadata": {},
   "outputs": [
    {
     "name": "stdout",
     "output_type": "stream",
     "text": [
      ">>>>>>>>>>>> tifffile.imread  (dtype=uint8in (0.03) sec\n",
      "loaded  inferred 3D `nuclei`  from /Users/ahenrie/Projects/Imaging/data/out \n"
     ]
    }
   ],
   "source": [
    "\n",
    "nuclei =  infer_nuclei_fromlabel(img_data,meta_dict, out_data_path)\n",
    "\n"
   ]
  },
  {
   "attachments": {},
   "cell_type": "markdown",
   "metadata": {},
   "source": [
    "## GET SOMA MASK\n",
    "\n",
    "Find the cellmask in our chozed Z-slice"
   ]
  },
  {
   "cell_type": "code",
   "execution_count": 8,
   "metadata": {},
   "outputs": [
    {
     "name": "stdout",
     "output_type": "stream",
     "text": [
      "`cellmask` object not found: /Users/ahenrie/Projects/Imaging/data/out/cellmask_ZSTACK_PBTOhNGN2hiPSCs_BR3_N04_Unmixed.tiff\n",
      "starting segmentation...\n",
      "shape in_img (8, 16, 768, 768)\n",
      "shape nuclei_obj (16, 768, 768)\n",
      "weighted_aggregate: shape in- (8, 16, 768, 768) , shape_out- (16, 768, 768)\n",
      "shape struct_img (16, 768, 768)\n",
      ">>>>>>>>>>>> tifffile.imwrite in (0.04) sec\n",
      "saved file: None\n",
      "inferred (and exported) cellmask in (25.79) sec\n"
     ]
    }
   ],
   "source": [
    "# # soma_fname = \"/Users/ahenrie/Projects/Imaging/data/out/soma_ZSTACK_PBTOhNGN2hiPSCs_BR3_N04_Unmixed.ome.tiff\"\n",
    "# cellmask = import_inferred_organelle(\"cellmask\", meta_dict, out_data_path)\n",
    "\n",
    "# if cellmask is None:\n",
    "#     cellmask = fixed_infer_cellmask_fromaggr_MCZ(img_data, nuclei)\n",
    "#     out_file_n = export_inferred_organelle(cellmask, \"cellmask\", meta_dict, out_data_path)\n",
    "#     print(f\"calculated cellmask. wrote {out_file_n}\")\n",
    "# else:\n",
    "#     print(f\"loaded cellmask from {out_data_path}\")\n",
    "\n",
    "cellmask = get_cellmask(img_data, nuclei, meta_dict, out_data_path)\n",
    "\n"
   ]
  },
  {
   "attachments": {},
   "cell_type": "markdown",
   "metadata": {},
   "source": [
    "##  infer ***cytosol***\n",
    "\n",
    "## summary of steps\n",
    "\n",
    "➡️ INPUT\n",
    "- labeled ***nuclei*** (objective #1)\n",
    "- labeled ***cellmask*** (objective #2)\n",
    "\n",
    "PRE-PROCESSING\n",
    "- N/A\n",
    "\n",
    "CORE PROCESSING\n",
    "- mask nuclei with ***cellmask*** for ***nucleus***\n",
    "- erode ***nucleus*** (shrink)\n",
    "  - XOR(***nucleus***, ***cellmask***)\n",
    "\n",
    "POST-PROCESSING\n",
    "  - N/A\n",
    "\n",
    "OUTPUT ➡️ \n",
    "- mask of ***cytosol***\n",
    "- ***cytosol*** object (intensity)\n"
   ]
  },
  {
   "cell_type": "markdown",
   "metadata": {},
   "source": [
    "## CORE PROCESSING"
   ]
  },
  {
   "cell_type": "code",
   "execution_count": 9,
   "metadata": {},
   "outputs": [],
   "source": [
    "###################\n",
    "# CORE_PROCESSING\n",
    "###################\n",
    "nucleus_obj =  apply_mask(nuclei, cellmask) \n",
    "\n",
    "nucleus_eroded = binary_erosion(nucleus_obj)  \n",
    "\n",
    "cyto_object = np.logical_and(cellmask,~nucleus_eroded)\n",
    "cyto_object_xor = np.logical_xor(cellmask,nucleus_eroded)\n",
    "\n",
    "#cyto_object = binary_dilation(cyto_object)"
   ]
  },
  {
   "attachments": {},
   "cell_type": "markdown",
   "metadata": {},
   "source": [
    "## Visualize with `napari` "
   ]
  },
  {
   "cell_type": "code",
   "execution_count": 10,
   "metadata": {},
   "outputs": [],
   "source": [
    "\n",
    "\n",
    "viewer = napari.view_image( #viewer.add_image(\n",
    "    cellmask,\n",
    "    opacity=0.3,\n",
    ")    \n"
   ]
  },
  {
   "cell_type": "code",
   "execution_count": 11,
   "metadata": {},
   "outputs": [
    {
     "data": {
      "text/plain": [
       "<Image layer 'nucleus_eroded' at 0x16fac4c70>"
      ]
     },
     "execution_count": 11,
     "metadata": {},
     "output_type": "execute_result"
    }
   ],
   "source": [
    "\n",
    "viewer.add_image(\n",
    "    nucleus_eroded,\n",
    "    opacity=0.3,\n",
    ")    \n"
   ]
  },
  {
   "cell_type": "code",
   "execution_count": 12,
   "metadata": {},
   "outputs": [
    {
     "data": {
      "text/plain": [
       "<Image layer 'nucleus_obj' at 0x16fac4610>"
      ]
     },
     "execution_count": 12,
     "metadata": {},
     "output_type": "execute_result"
    }
   ],
   "source": [
    "\n",
    "viewer.add_image(\n",
    "    nucleus_obj,\n",
    "    opacity=0.3,\n",
    ")    \n"
   ]
  },
  {
   "cell_type": "code",
   "execution_count": 13,
   "metadata": {},
   "outputs": [
    {
     "data": {
      "text/plain": [
       "<Image layer 'cyto_object_xor' at 0x14cceb5e0>"
      ]
     },
     "execution_count": 13,
     "metadata": {},
     "output_type": "execute_result"
    }
   ],
   "source": [
    "\n",
    "viewer.add_image(\n",
    "    cyto_object_xor,\n",
    "    opacity=0.3,\n",
    ")    \n"
   ]
  },
  {
   "attachments": {},
   "cell_type": "markdown",
   "metadata": {},
   "source": [
    "## DEFINE `_infer_cytoplasm` function\n",
    "\n",
    "Based on the _prototyping_ above define the function to infer cytosol.  \n"
   ]
  },
  {
   "cell_type": "code",
   "execution_count": 14,
   "metadata": {},
   "outputs": [],
   "source": [
    "# copy this to base.py for easy import\n",
    "\n",
    "def _infer_cytoplasm(nuclei_object, soma_mask,  erode_nuclei = True):\n",
    "    \"\"\"\n",
    "    Procedure to infer cytosol from linearly unmixed input.\n",
    "\n",
    "    Parameters\n",
    "    ------------\n",
    "    nuclei_object: \n",
    "        a 3d image containing the nuclei signal\n",
    "    soma_mask: \n",
    "        a 3d image containing the cellmask signal\n",
    "    erode_nuclei: \n",
    "        should we erode? Default False\n",
    "\n",
    "    Returns\n",
    "    -------------\n",
    "    cytoplasm_mask \n",
    "        boolean np.ndarray\n",
    "      \n",
    "    \"\"\"\n",
    "\n",
    "    nucleus_obj =  apply_mask(nuclei_object, soma_mask) \n",
    "\n",
    "    if erode_nuclei:\n",
    "        # cytoplasm_mask = np.logical_and(soma_mask, ~binary_erosion(nuclei_object))\n",
    "        cytoplasm_mask = np.logical_xor(soma_mask, binary_erosion(nucleus_obj))\n",
    "    else:\n",
    "        # cytoplasm_mask = np.logical_and(soma_mask, ~nuclei_object)\n",
    "        cytoplasm_mask = np.logical_xor(soma_mask, nucleus_obj)\n",
    "\n",
    "\n",
    "    return cytoplasm_mask\n"
   ]
  },
  {
   "attachments": {},
   "cell_type": "markdown",
   "metadata": {},
   "source": [
    "--------------------------\n",
    "\n",
    "## TEST `infer_cytoplasm` exported functions\n"
   ]
  },
  {
   "cell_type": "code",
   "execution_count": 15,
   "metadata": {},
   "outputs": [],
   "source": [
    "from infer_subc_2d.organelles.cytosol import infer_cytoplasm\n",
    "\n",
    "_cytoplasm_mask =  _infer_cytoplasm(nuclei, cellmask, erode_nuclei=False) \n",
    "\n",
    "cytoplasm_mask =  infer_cytoplasm(nuclei, cellmask, erode_nuclei=False) \n"
   ]
  },
  {
   "cell_type": "code",
   "execution_count": 16,
   "metadata": {},
   "outputs": [
    {
     "name": "stdout",
     "output_type": "stream",
     "text": [
      ">>>>>>>>>>>> tifffile.imwrite in (0.03) sec\n",
      "saved file: None\n"
     ]
    }
   ],
   "source": [
    "out_file_n = export_inferred_organelle(cytoplasm_mask, \"cytosol\", meta_dict, out_data_path)"
   ]
  },
  {
   "attachments": {},
   "cell_type": "markdown",
   "metadata": {},
   "source": [
    "## Visualize  2\n"
   ]
  },
  {
   "cell_type": "code",
   "execution_count": 17,
   "metadata": {},
   "outputs": [
    {
     "data": {
      "text/plain": [
       "<Labels layer '_cytoplasm_mask' at 0x173490d90>"
      ]
     },
     "execution_count": 17,
     "metadata": {},
     "output_type": "execute_result"
    }
   ],
   "source": [
    "\n",
    "\n",
    "viewer.scale_bar.visible = True\n",
    "viewer.add_image(\n",
    "    cytoplasm_mask,\n",
    ")\n",
    "\n",
    "viewer.add_labels(\n",
    "    _cytoplasm_mask,\n",
    ")\n"
   ]
  },
  {
   "cell_type": "code",
   "execution_count": 18,
   "metadata": {},
   "outputs": [
    {
     "data": {
      "image/png": "[encoded data removed]",
      "text/html": [
       "<img src=\"data:image/png;base64,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\"></img>"
      ],
      "text/plain": [
       "<napari.utils.notebook_display.NotebookScreenshot at 0x17374f400>"
      ]
     },
     "execution_count": 18,
     "metadata": {},
     "output_type": "execute_result"
    }
   ],
   "source": [
    "from napari.utils.notebook_display import nbscreenshot\n",
    "\n",
    "# viewer.dims.ndisplay = 3\n",
    "# viewer.camera.angles = (-30, 25, 120)\n",
    "nbscreenshot(viewer, canvas_only=True)\n",
    "\n"
   ]
  },
  {
   "cell_type": "code",
   "execution_count": 19,
   "metadata": {},
   "outputs": [],
   "source": [
    "viewer.close()"
   ]
  },
  {
   "attachments": {},
   "cell_type": "markdown",
   "metadata": {},
   "source": [
    "-------------\n",
    "## SUMMARY\n",
    "\n",
    "The above details how the cytosol mask is inferred. \n",
    "\n",
    "### NEXT: INFER LYSOSOME\n",
    "\n",
    "proceed to [04_infer_lyso.ipynb](./04_infer_lyso.ipynb)\n"
   ]
  }
 ],
 "metadata": {
  "kernelspec": {
   "display_name": "Python 3.9.13 ('napariNEW')",
   "language": "python",
   "name": "python3"
  },
  "language_info": {
   "codemirror_mode": {
    "name": "ipython",
    "version": 3
   },
   "file_extension": ".py",
   "mimetype": "text/x-python",
   "name": "python",
   "nbconvert_exporter": "python",
   "pygments_lexer": "ipython3",
   "version": "3.9.16"
  },
  "orig_nbformat": 4,
  "vscode": {
   "interpreter": {
    "hash": "d6148ef1fb015fb20f0b6da2ea61c87c6b848bdf3dabb03087e5d5cd0c4607e9"
   }
  }
 },
 "nbformat": 4,
 "nbformat_minor": 2
}
