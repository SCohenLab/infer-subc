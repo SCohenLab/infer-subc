{
 "cells": [
  {
   "cell_type": "markdown",
   "metadata": {},
   "source": [
    "# Export function prototypes \n",
    "\n",
    "We need to compose workflows and place the function prototypes into their proper place."
   ]
  },
  {
   "attachments": {},
   "cell_type": "markdown",
   "metadata": {},
   "source": [
    "### IMports\n"
   ]
  },
  {
   "cell_type": "code",
   "execution_count": 10,
   "metadata": {},
   "outputs": [],
   "source": [
    "from infer_subc_2d.organelles_config.helper import add_function_spec_to_widget_json\n",
    "from infer_subc_2d.organelles_config.helper import write_workflow_json\n"
   ]
  },
  {
   "cell_type": "code",
   "execution_count": null,
   "metadata": {},
   "outputs": [],
   "source": []
  },
  {
   "attachments": {},
   "cell_type": "markdown",
   "metadata": {},
   "source": [
    "_____________\n",
    "\n",
    "## NUCLEI\n",
    "\n",
    "\n",
    "- `fixed_infer_nuclei`\n",
    "- `infer_nuclei`\n",
    "\n"
   ]
  },
  {
   "cell_type": "code",
   "execution_count": 11,
   "metadata": {},
   "outputs": [
    {
     "name": "stdout",
     "output_type": "stream",
     "text": [
      "function fixed_infer_nuclei is already in all_functions.json\n"
     ]
    },
    {
     "data": {
      "text/plain": [
       "0"
      ]
     },
     "execution_count": 11,
     "metadata": {},
     "output_type": "execute_result"
    }
   ],
   "source": [
    "\n",
    "_fixed_infer_nuclei =  {\n",
    "        \"name\": \"infer nuclei  (fixed parameters)\",\n",
    "        \"python::module\": \"infer_subc_2d.organelles\",\n",
    "        \"python::function\": \"fixed_infer_nuclei\",\n",
    "        \"parameters\": None\n",
    "        }\n",
    "\n",
    "add_function_spec_to_widget_json(\"fixed_infer_nuclei\",_fixed_infer_nuclei)"
   ]
  },
  {
   "cell_type": "code",
   "execution_count": 72,
   "metadata": {},
   "outputs": [
    {
     "name": "stdout",
     "output_type": "stream",
     "text": [
      "function infer_nuclei is already in all_functions.json\n",
      "overwriting  infer_nuclei\n"
     ]
    },
    {
     "data": {
      "text/plain": [
       "1"
      ]
     },
     "execution_count": 72,
     "metadata": {},
     "output_type": "execute_result"
    }
   ],
   "source": [
    "\n",
    "_infer_nuclei =  {\n",
    "        \"name\": \"infer nuclei\",\n",
    "        \"python::module\": \"infer_subc_2d.organelles.nuclei\",\n",
    "        \"python::function\": \"infer_nuclei\",\n",
    "        \"parameters\": {\n",
    "                \"nuc_ch\": {\n",
    "                        \"widget_type\": \"slider\",\n",
    "                        \"data_type\": \"int\",\n",
    "                        \"min\": 0,\n",
    "                        \"max\": 10,\n",
    "                        \"increment\": 1\n",
    "                },\n",
    "                \"median_sz\": {\n",
    "                        \"widget_type\": \"slider\",\n",
    "                        \"data_type\": \"int\",\n",
    "                        \"min\": 3,\n",
    "                        \"max\": 15,\n",
    "                        \"increment\": 1\n",
    "                },\n",
    "                \"gauss_sig\": {\n",
    "                        \"data_type\": \"float\",\n",
    "                        \"increment\": 0.25,\n",
    "                        \"max\": 15.0,\n",
    "                        \"min\": 1.25,\n",
    "                        \"widget_type\": \"slider\"\n",
    "                },\n",
    "                \"thresh_factor\": {\n",
    "                        \"data_type\": \"float\",\n",
    "                        \"increment\": 0.05,\n",
    "                        \"max\": 1.2,\n",
    "                        \"min\": 0.6,\n",
    "                        \"widget_type\": \"slider\"\n",
    "                },\n",
    "                \"thresh_min\": {\n",
    "                        \"data_type\": \"float\",\n",
    "                        \"increment\": 0.05,\n",
    "                        \"max\": .9,\n",
    "                        \"min\": 0.0,\n",
    "                        \"widget_type\": \"slider\"\n",
    "                },\n",
    "                \"thresh_max\": {\n",
    "                        \"data_type\": \"float\",\n",
    "                        \"increment\": 0.05,\n",
    "                        \"max\": 1.0,\n",
    "                        \"min\": 0.1,\n",
    "                        \"widget_type\": \"slider\"\n",
    "                },\n",
    "                \"max_hole_w\": {\n",
    "                        \"data_type\": \"int\",\n",
    "                        \"increment\": 1,\n",
    "                        \"max\": 40,\n",
    "                        \"min\": 4,\n",
    "                        \"widget_type\": \"slider\"\n",
    "                },           \n",
    "                \"small_obj_w\": {\n",
    "                        \"data_type\": \"int\",\n",
    "                        \"increment\": 1,\n",
    "                        \"max\": 50,\n",
    "                        \"min\": 1,\n",
    "                        \"widget_type\": \"slider\"\n",
    "                }\n",
    "        }\n",
    "}\n",
    "\n",
    "add_function_spec_to_widget_json(\"infer_nuclei\", _infer_nuclei, overwrite=True )\n",
    "\n"
   ]
  },
  {
   "attachments": {},
   "cell_type": "markdown",
   "metadata": {},
   "source": [
    "\n",
    "## HELPERS\n",
    "\n",
    "- `label`\n",
    "- `apply_log_li_threshold`\n",
    "- `scale_and_smooth`\n",
    "- `select_channel_from_raw`\n",
    "- `apply_mask`\n",
    "- `fill_and_filter_linear_size`\n",
    "- `size_filter_2D`\n",
    "- `image_smoothing_gaussian_slice_by_slice`\n",
    "- `median_filter_slice_by_slice`\n"
   ]
  },
  {
   "cell_type": "code",
   "execution_count": 13,
   "metadata": {},
   "outputs": [
    {
     "name": "stdout",
     "output_type": "stream",
     "text": [
      "function median_filter_slice_by_slice is already in all_functions.json\n"
     ]
    },
    {
     "data": {
      "text/plain": [
       "0"
      ]
     },
     "execution_count": 13,
     "metadata": {},
     "output_type": "execute_result"
    }
   ],
   "source": [
    "_median_filter_slice_by_slice =  {\n",
    "                \"name\": \"Median Smoothing Slice by Slice\",\n",
    "                \"python::module\": \"infer_subc_2d.utils.img\",\n",
    "                \"python::function\": \"median_filter_slice_by_slice\",\n",
    "                \"parameters\": {\n",
    "                    \"size\": {\n",
    "                        \"widget_type\": \"slider\",\n",
    "                        \"data_type\": \"int\",\n",
    "                        \"min\": 1,\n",
    "                        \"max\": 20,\n",
    "                        \"increment\": 1\n",
    "                    }\n",
    "                }\n",
    "            } \n",
    "add_function_spec_to_widget_json(\"median_filter_slice_by_slice\",_median_filter_slice_by_slice)"
   ]
  },
  {
   "cell_type": "code",
   "execution_count": 14,
   "metadata": {},
   "outputs": [
    {
     "data": {
      "text/plain": [
       "1"
      ]
     },
     "execution_count": 14,
     "metadata": {},
     "output_type": "execute_result"
    }
   ],
   "source": [
    "\n",
    "_image_smoothing_gaussian_slice_by_slice = {\n",
    "        \"name\": \"Gaussian Smoothing Slice by Slice\",\n",
    "        \"python::module\": \"aicssegmentation.core.pre_processing_utils\",\n",
    "        \"python::function\": \"image_smoothing_gaussian_slice_by_slice\",\n",
    "        \"parameters\": {\n",
    "            \"sigma\": {\n",
    "                \"widget_type\": \"slider\",\n",
    "                \"data_type\": \"float\",\n",
    "                \"min\": 0.8,\n",
    "                \"max\": 20,\n",
    "                \"increment\": 0.2\n",
    "            }\n",
    "        }\n",
    "        }\n",
    "\n",
    "add_function_spec_to_widget_json(\"image_smoothing_gaussian_slice_by_slice\",_image_smoothing_gaussian_slice_by_slice)        \n"
   ]
  },
  {
   "cell_type": "code",
   "execution_count": 15,
   "metadata": {},
   "outputs": [
    {
     "name": "stdout",
     "output_type": "stream",
     "text": [
      "function apply_log_li_threshold is already in all_functions.json\n",
      "overwriting  apply_log_li_threshold\n"
     ]
    },
    {
     "data": {
      "text/plain": [
       "1"
      ]
     },
     "execution_count": 15,
     "metadata": {},
     "output_type": "execute_result"
    }
   ],
   "source": [
    "_apply_log_li_threshold = {\n",
    "        \"name\": \"threshold log Li\",\n",
    "        \"python::module\": \"infer_subc_2d.utils.img\",\n",
    "        \"python::function\": \"apply_log_li_threshold\",\n",
    "        \"parameters\": {\n",
    "            \"thresh_factor\": {\n",
    "                \"widget_type\": \"slider\",\n",
    "                \"data_type\": \"float\",\n",
    "                \"min\": 0.3,\n",
    "                \"max\": 1.1,\n",
    "                \"increment\": 0.05\n",
    "            },\n",
    "            \"thresh_min\": {\n",
    "                \"widget_type\": \"slider\",\n",
    "                \"data_type\": \"float\",\n",
    "                \"min\": 0.0,\n",
    "                \"max\": 0.8,\n",
    "                \"increment\": 0.01\n",
    "            },\n",
    "            \"thresh_max\": {\n",
    "                \"widget_type\": \"slider\",\n",
    "                \"data_type\": \"float\",\n",
    "                \"min\": 0.3,\n",
    "                \"max\": 1.0,\n",
    "                \"increment\": 0.05\n",
    "            },\n",
    "        }\n",
    "        }\n",
    "\n",
    "add_function_spec_to_widget_json(\"apply_log_li_threshold\",_apply_log_li_threshold,overwrite=True)        \n"
   ]
  },
  {
   "cell_type": "code",
   "execution_count": 16,
   "metadata": {},
   "outputs": [
    {
     "name": "stdout",
     "output_type": "stream",
     "text": [
      "function label is already in all_functions.json\n"
     ]
    },
    {
     "data": {
      "text/plain": [
       "0"
      ]
     },
     "execution_count": 16,
     "metadata": {},
     "output_type": "execute_result"
    }
   ],
   "source": [
    "\n",
    "_label =  {\n",
    "        \"name\": \"label objects\",\n",
    "        \"python::module\": \"skimage.measure\",\n",
    "        \"python::function\": \"label\",\n",
    "        \"parameters\": None\n",
    "        }\n",
    "add_function_spec_to_widget_json(\"label\",_label)        \n",
    "\n"
   ]
  },
  {
   "cell_type": "code",
   "execution_count": 17,
   "metadata": {},
   "outputs": [
    {
     "name": "stdout",
     "output_type": "stream",
     "text": [
      "function apply_mask is already in all_functions.json\n"
     ]
    },
    {
     "data": {
      "text/plain": [
       "0"
      ]
     },
     "execution_count": 17,
     "metadata": {},
     "output_type": "execute_result"
    }
   ],
   "source": [
    "\n",
    "#  = apply_mask(nuclei_object, soma_mask)\n",
    "\n",
    "_apply_mask=  {\n",
    "        \"name\": \"apply mask\",\n",
    "        \"python::module\": \"infer_subc_2d.utils.img\",\n",
    "        \"python::function\": \"apply_mask\",\n",
    "        \"parameters\": None\n",
    "        }\n",
    "add_function_spec_to_widget_json(\"apply_mask\",_apply_mask)        \n"
   ]
  },
  {
   "cell_type": "code",
   "execution_count": 18,
   "metadata": {},
   "outputs": [
    {
     "data": {
      "text/plain": [
       "1"
      ]
     },
     "execution_count": 18,
     "metadata": {},
     "output_type": "execute_result"
    }
   ],
   "source": [
    "\n",
    "_size_filter_2D = {\n",
    "        \"name\": \"Size Filter 2D\",\n",
    "        \"python::module\": \"infer_subc_2d.utils.img\",\n",
    "        \"python::function\": \"size_filter_2D\",\n",
    "        \"parameters\": {\n",
    "            \"min_size\": {\n",
    "                \"widget_type\": \"slider\",\n",
    "                \"data_type\": \"int\",\n",
    "                \"min\": 0,\n",
    "                \"max\": 500,\n",
    "                \"increment\": 1\n",
    "            }\n",
    "        }\n",
    "    }\n",
    "add_function_spec_to_widget_json(\"size_filter_2D\",_size_filter_2D)        \n"
   ]
  },
  {
   "cell_type": "code",
   "execution_count": 19,
   "metadata": {},
   "outputs": [
    {
     "name": "stdout",
     "output_type": "stream",
     "text": [
      "function select_channel_from_raw is already in all_functions.json\n"
     ]
    },
    {
     "data": {
      "text/plain": [
       "0"
      ]
     },
     "execution_count": 19,
     "metadata": {},
     "output_type": "execute_result"
    }
   ],
   "source": [
    "from infer_subc_2d.constants import ALL_CHANNELS\n",
    "_select_channel_from_raw_dict =  {\n",
    "        \"name\": \"select a channel \",\n",
    "        \"python::module\": \"infer_subc_2d.utils.img\",\n",
    "        \"python::function\": \"select_channel_from_raw\",\n",
    "        \"parameters\": {\n",
    "            \"chan\": {\n",
    "                \"data_type\": \"int\",\n",
    "                \"options\": ALL_CHANNELS,\n",
    "                \"widget_type\": \"drop-down\"\n",
    "            }\n",
    "        }\n",
    "}\n",
    "\n",
    "add_function_spec_to_widget_json(\"select_channel_from_raw\",_select_channel_from_raw_dict )"
   ]
  },
  {
   "cell_type": "code",
   "execution_count": 20,
   "metadata": {},
   "outputs": [
    {
     "name": "stdout",
     "output_type": "stream",
     "text": [
      "function scale_and_smooth is already in all_functions.json\n"
     ]
    },
    {
     "data": {
      "text/plain": [
       "0"
      ]
     },
     "execution_count": 20,
     "metadata": {},
     "output_type": "execute_result"
    }
   ],
   "source": [
    "_scale_and_smooth_dict =  {\n",
    "        \"name\": \"scale and smooth\",\n",
    "        \"python::module\": \"infer_subc_2d.utils.img\",\n",
    "        \"python::function\": \"scale_and_smooth\",\n",
    "        \"parameters\": {\n",
    "                \"median_sz\": {\n",
    "                        \"widget_type\": \"slider\",\n",
    "                        \"data_type\": \"int\",\n",
    "                        \"min\": 3,\n",
    "                        \"max\": 15,\n",
    "                        \"increment\": 1\n",
    "                },\n",
    "                \"gauss_sig\": {\n",
    "                        \"data_type\": \"float\",\n",
    "                        \"increment\": 0.25,\n",
    "                        \"max\": 15.0,\n",
    "                        \"min\": 1.25,\n",
    "                        \"widget_type\": \"slider\"\n",
    "                },\n",
    "        }\n",
    "}\n",
    "\n",
    "add_function_spec_to_widget_json(\"scale_and_smooth\",_scale_and_smooth_dict )"
   ]
  },
  {
   "cell_type": "code",
   "execution_count": 21,
   "metadata": {},
   "outputs": [
    {
     "name": "stdout",
     "output_type": "stream",
     "text": [
      "function fill_and_filter_linear_size is already in all_functions.json\n"
     ]
    },
    {
     "data": {
      "text/plain": [
       "0"
      ]
     },
     "execution_count": 21,
     "metadata": {},
     "output_type": "execute_result"
    }
   ],
   "source": [
    "_fill_and_filter_linear_size_dict =  {\n",
    "        \"name\": \"fill holes and filter small objects - linear space constant\",\n",
    "        \"python::module\": \"infer_subc_2d.utils.img\",\n",
    "        \"python::function\": \"fill_and_filter_linear_size\",\n",
    "        \"parameters\": {\n",
    "                \"hole_min\": {\n",
    "                        \"widget_type\": \"slider\",\n",
    "                        \"data_type\": \"int\",\n",
    "                        \"min\": 0,\n",
    "                        \"max\": 20,\n",
    "                        \"increment\": 1\n",
    "                },\n",
    "                \"hole_max\": {\n",
    "                         \"widget_type\": \"slider\",\n",
    "                        \"data_type\": \"int\",\n",
    "                        \"min\": 0,\n",
    "                        \"max\": 80,\n",
    "                        \"increment\": 1\n",
    "                },\n",
    "                \"min_size\": {\n",
    "                        \"widget_type\": \"slider\",\n",
    "                        \"data_type\": \"int\",\n",
    "                        \"min\": 0,\n",
    "                        \"max\": 80,\n",
    "                        \"increment\": 1\n",
    "                },\n",
    "                \"method\": {\n",
    "                        \"data_type\": \"str\",\n",
    "                        \"widget_type\": \"drop-down\",\n",
    "                        \"options\": [\n",
    "                        \"3D\",\n",
    "                        \"slice_by_slice\"\n",
    "                        ]\n",
    "            \n",
    "                },\n",
    "        #     \"connectivity\": {\n",
    "        #         \"widget_type\": \"slider\",\n",
    "        #         \"data_type\": \"int\",\n",
    "        #         \"min\": 0,\n",
    "        #         \"max\": 5,\n",
    "        #         \"increment\": 1\n",
    "            }\n",
    "        }\n",
    "\n",
    "add_function_spec_to_widget_json(\"fill_and_filter_linear_size\",_fill_and_filter_linear_size_dict )"
   ]
  },
  {
   "attachments": {},
   "cell_type": "markdown",
   "metadata": {},
   "source": [
    "_____________\n",
    "\n",
    "## SOMA"
   ]
  },
  {
   "cell_type": "code",
   "execution_count": 22,
   "metadata": {},
   "outputs": [
    {
     "data": {
      "text/plain": [
       "1"
      ]
     },
     "execution_count": 22,
     "metadata": {},
     "output_type": "execute_result"
    }
   ],
   "source": [
    "\n",
    "_fixed_infer_soma =  {\n",
    "        \"name\": \" infer soma mask (fixed parameters)\",\n",
    "        \"python::module\": \"infer_subc_2d.organelles\",\n",
    "        \"python::function\": \"fixed_infer_soma\",\n",
    "        \"parameters\": None\n",
    "        }\n",
    "\n",
    "add_function_spec_to_widget_json(\"fixed_infer_soma\", _fixed_infer_soma, overwrite=True)"
   ]
  },
  {
   "cell_type": "code",
   "execution_count": 24,
   "metadata": {},
   "outputs": [
    {
     "data": {
      "text/plain": [
       "1"
      ]
     },
     "execution_count": 24,
     "metadata": {},
     "output_type": "execute_result"
    }
   ],
   "source": [
    "\n",
    "_infer_soma_MCZ =  {\n",
    "        \"name\": \" infer soma (MCZ)\",\n",
    "        \"python::module\": \"infer_subc_2d.organelles\",\n",
    "        \"python::function\": \"infer_soma_MCZ\",\n",
    "        \"parameters\": {\n",
    "                \"median_sz\": {\n",
    "                        \"widget_type\": \"slider\",\n",
    "                        \"data_type\": \"int\",\n",
    "                        \"min\": 0,\n",
    "                        \"max\": 15,\n",
    "                        \"increment\": 1\n",
    "                },\n",
    "                \"gauss_sig\": {\n",
    "                        \"data_type\": \"float\",\n",
    "                        \"increment\": 0.25,\n",
    "                        \"max\": 15.0,\n",
    "                        \"min\": 1.25,\n",
    "                        \"widget_type\": \"slider\"\n",
    "                },\n",
    "                \"mo_method\": {\n",
    "                        \"data_type\": \"str\",\n",
    "                        \"widget_type\": \"drop-down\",\n",
    "                        \"options\": [\n",
    "                                \"triangle\",\n",
    "                                \"median\",\n",
    "                                \"ave_tri_med\"\n",
    "                                ]\n",
    "                },\n",
    "                \"mo_adjust\": {\n",
    "                        \"data_type\": \"float\",\n",
    "                        \"increment\": 0.05,\n",
    "                        \"max\": 1.0,\n",
    "                        \"min\": 0.0,\n",
    "                        \"widget_type\": \"slider\"\n",
    "                },\n",
    "                \"mo_cutoff_size\": {\n",
    "                        \"data_type\": \"int\",\n",
    "                        \"increment\": 10,\n",
    "                        \"max\": 250,\n",
    "                        \"min\": 10,\n",
    "                        \"widget_type\": \"slider\"\n",
    "                },                           \n",
    "                \"max_hole_w\": {\n",
    "                        \"data_type\": \"int\",\n",
    "                        \"increment\": 2,\n",
    "                        \"max\": 100,\n",
    "                        \"min\": 20,\n",
    "                        \"widget_type\": \"slider\"\n",
    "                },           \n",
    "                \"small_obj_w\": {\n",
    "                        \"data_type\": \"int\",\n",
    "                        \"increment\": 1,\n",
    "                        \"max\": 50,\n",
    "                        \"min\": 1,\n",
    "                        \"widget_type\": \"slider\"\n",
    "                },        \n",
    "        }\n",
    "}\n",
    "\n",
    "add_function_spec_to_widget_json(\"infer_soma_MCZ\", _infer_soma_MCZ, overwrite=True )\n",
    "\n"
   ]
  },
  {
   "cell_type": "code",
   "execution_count": null,
   "metadata": {},
   "outputs": [],
   "source": [
    "\n"
   ]
  },
  {
   "attachments": {},
   "cell_type": "markdown",
   "metadata": {},
   "source": [
    "\n",
    "## HELPERS\n",
    "\n",
    "- `raw_soma_MCZ`\n",
    "- `non_linear_soma_transform_MCZ`\n",
    "- `choose_max_label`\n",
    "- `min_max_intensity_normalization`\n",
    "- `masked_object_thresh`\n",
    "- `masked_inverted_watershed`\n",
    "- `choose_max_label_soma_union_nucleus`\n",
    "- `weighted_aggregate`\n"
   ]
  },
  {
   "cell_type": "code",
   "execution_count": 25,
   "metadata": {},
   "outputs": [
    {
     "data": {
      "text/plain": [
       "1"
      ]
     },
     "execution_count": 25,
     "metadata": {},
     "output_type": "execute_result"
    }
   ],
   "source": [
    "\n",
    "_raw_soma_MCZ =  {\n",
    "        \"name\": \"define weighted aggregate soma signal (MCZ-cellprofiler)\",\n",
    "        \"python::module\": \"infer_subc_2d.organelles\",\n",
    "        \"python::function\": \"raw_soma_MCZ\",\n",
    "        \"parameters\": None\n",
    "        }\n",
    "\n",
    "add_function_spec_to_widget_json(\"raw_soma_MCZ\", _raw_soma_MCZ, overwrite=True)"
   ]
  },
  {
   "cell_type": "code",
   "execution_count": 26,
   "metadata": {},
   "outputs": [
    {
     "data": {
      "text/plain": [
       "1"
      ]
     },
     "execution_count": 26,
     "metadata": {},
     "output_type": "execute_result"
    }
   ],
   "source": [
    "\n",
    "_non_linear_soma_transform_MCZ =  {\n",
    "        \"name\": \"non-linear filter of soma signal (MCZ-cellprofiler)\",\n",
    "        \"python::module\": \"infer_subc_2d.organelles\",\n",
    "        \"python::function\": \"non_linear_soma_transform_MCZ\",\n",
    "        \"parameters\": None\n",
    "        }\n",
    "\n",
    "add_function_spec_to_widget_json(\"non_linear_soma_transform_MCZ\", _non_linear_soma_transform_MCZ)"
   ]
  },
  {
   "cell_type": "code",
   "execution_count": 27,
   "metadata": {},
   "outputs": [
    {
     "data": {
      "text/plain": [
       "1"
      ]
     },
     "execution_count": 27,
     "metadata": {},
     "output_type": "execute_result"
    }
   ],
   "source": [
    "\n",
    "_get_max_label =  {\n",
    "        \"name\": \"get the label with the maximum raw signa\",\n",
    "        \"python::module\": \"infer_subc_2d.utils.img\",\n",
    "        \"python::function\": \"get_max_label\",\n",
    "        \"parameters\": None\n",
    "        }\n",
    "\n",
    "add_function_spec_to_widget_json(\"get_max_label\", _get_max_label)\n",
    "\n",
    "\n"
   ]
  },
  {
   "cell_type": "code",
   "execution_count": 28,
   "metadata": {},
   "outputs": [
    {
     "data": {
      "text/plain": [
       "1"
      ]
     },
     "execution_count": 28,
     "metadata": {},
     "output_type": "execute_result"
    }
   ],
   "source": [
    "\n",
    "_choose_max_label_soma_union_nucleus =  {\n",
    "        \"name\": \"get soma UNION nuclei for largest signal label\",\n",
    "        \"python::module\": \"infer_subc_2d.utils.organelles.soma\",\n",
    "        \"python::function\": \"choose_max_label_soma_union_nucleus\",\n",
    "        \"parameters\": None\n",
    "        }\n",
    "\n",
    "add_function_spec_to_widget_json(\"choose_max_label_soma_union_nucleus\", _choose_max_label_soma_union_nucleus)\n",
    "\n"
   ]
  },
  {
   "cell_type": "code",
   "execution_count": 30,
   "metadata": {},
   "outputs": [
    {
     "data": {
      "text/plain": [
       "1"
      ]
     },
     "execution_count": 30,
     "metadata": {},
     "output_type": "execute_result"
    }
   ],
   "source": [
    "\n",
    "_weighted_aggregate =  {\n",
    "        \"name\": \"weighted sum\",\n",
    "        \"python::module\": \"infer_subc_2d.utils.img\",\n",
    "        \"python::function\": \"weighted_aggregate\",\n",
    "        \"parameters\":     { \n",
    "            \"waights0\": {\n",
    "                \"widget_type\": \"slider\",\n",
    "                \"data_type\": \"int\",\n",
    "                \"min\": 0,\n",
    "                \"max\": 10,\n",
    "                \"increment\": 1\n",
    "            },\n",
    "        \"waights1\": {\n",
    "                \"widget_type\": \"slider\",\n",
    "                \"data_type\": \"int\",\n",
    "                \"min\": 0,\n",
    "                \"max\": 10,\n",
    "                \"increment\": 1\n",
    "            },\n",
    "        \"waights2\": {\n",
    "                \"widget_type\": \"slider\",\n",
    "                \"data_type\": \"int\",\n",
    "                \"min\": 0,\n",
    "                \"max\": 10,\n",
    "                \"increment\": 1\n",
    "            },\n",
    "        \"waights3\": {\n",
    "                \"widget_type\": \"slider\",\n",
    "                \"data_type\": \"int\",\n",
    "                \"min\": 0,\n",
    "                \"max\": 10,\n",
    "                \"increment\": 1\n",
    "            },\n",
    "        \"waights4\": {\n",
    "                \"widget_type\": \"slider\",\n",
    "                \"data_type\": \"int\",\n",
    "                \"min\": 0,\n",
    "                \"max\": 10,\n",
    "                \"increment\": 1\n",
    "            },\n",
    "        \"waights5\": {\n",
    "                \"widget_type\": \"slider\",\n",
    "                \"data_type\": \"int\",\n",
    "                \"min\": 0,\n",
    "                \"max\": 10,\n",
    "                \"increment\": 1\n",
    "            },\n",
    "        \"waights6\": {\n",
    "                \"widget_type\": \"slider\",\n",
    "                \"data_type\": \"int\",\n",
    "                \"min\": 0,\n",
    "                \"max\": 10,\n",
    "                \"increment\": 1\n",
    "            },\n",
    "        \"waights7\": {\n",
    "                \"widget_type\": \"slider\",\n",
    "                \"data_type\": \"int\",\n",
    "                \"min\": 0,\n",
    "                \"max\": 10,\n",
    "                \"increment\": 1\n",
    "            },\n",
    "        \"waights8\": {\n",
    "                \"widget_type\": \"slider\",\n",
    "                \"data_type\": \"int\",\n",
    "                \"min\": 0,\n",
    "                \"max\": 10,\n",
    "                \"increment\": 1\n",
    "            },\n",
    "        \"waights9\": {\n",
    "                \"widget_type\": \"slider\",\n",
    "                \"data_type\": \"int\",\n",
    "                \"min\": 0,\n",
    "                \"max\": 10,\n",
    "                \"increment\": 1\n",
    "            },\n",
    "        \"waights10\": {\n",
    "                \"widget_type\": \"slider\",\n",
    "                \"data_type\": \"int\",\n",
    "                \"min\": 0,\n",
    "                \"max\": 10,\n",
    "                \"increment\": 1\n",
    "            },\n",
    "        }\n",
    "}\n",
    "\n",
    "add_function_spec_to_widget_json(\"weighted_aggregate\", _weighted_aggregate)\n"
   ]
  },
  {
   "cell_type": "code",
   "execution_count": 31,
   "metadata": {},
   "outputs": [
    {
     "data": {
      "text/plain": [
       "1"
      ]
     },
     "execution_count": 31,
     "metadata": {},
     "output_type": "execute_result"
    }
   ],
   "source": [
    "\n",
    "_masked_inverted_watershed =  {\n",
    "        \"name\": \"watershed on inverted image and masked\",\n",
    "        \"python::module\": \"infer_subc_2d.organelles\",\n",
    "        \"python::function\": \"masked_inverted_watershed\",\n",
    "        \"parameters\": None\n",
    "        }\n",
    "\n",
    "add_function_spec_to_widget_json(\"masked_inverted_watershed\", _masked_inverted_watershed)"
   ]
  },
  {
   "cell_type": "code",
   "execution_count": 32,
   "metadata": {},
   "outputs": [
    {
     "data": {
      "text/plain": [
       "1"
      ]
     },
     "execution_count": 32,
     "metadata": {},
     "output_type": "execute_result"
    }
   ],
   "source": [
    "\n",
    "_min_max_intensity_normalization =  {\n",
    "        \"name\": \"Min Max Intesity Normalization\",\n",
    "        \"python::module\": \"infer_subc_2d.utils.img\",\n",
    "        \"python::function\": \"min_max_intensity_normalization\",\n",
    "        \"parameters\": None\n",
    "        }\n",
    "add_function_spec_to_widget_json(\"min_max_intensity_normalization\", _min_max_intensity_normalization)"
   ]
  },
  {
   "cell_type": "code",
   "execution_count": 33,
   "metadata": {},
   "outputs": [
    {
     "data": {
      "text/plain": [
       "1"
      ]
     },
     "execution_count": 33,
     "metadata": {},
     "output_type": "execute_result"
    }
   ],
   "source": [
    "\n",
    "_masked_object_thresh =  {\n",
    "        \"name\": \"Masked Object Threshold wrapper for widgets\",\n",
    "        \"python::module\": \"infer_subc_2d.utils.img\",\n",
    "        \"python::function\": \"masked_object_thresh\",\n",
    "        \"parameters\": {\n",
    "                \"th_method\": {\n",
    "                        \"data_type\": \"str\",\n",
    "                        \"widget_type\": \"drop-down\",\n",
    "                        \"options\": [\n",
    "                        \"triangle\",\n",
    "                        \"median\",\n",
    "                        \"ave_tri_med\"\n",
    "                        ]\n",
    "                },\n",
    "                \"cutoff_size\": {\n",
    "                        \"data_type\": \"int\",\n",
    "                        \"widget_type\": \"slider\",\n",
    "                        \"min\": 0,\n",
    "                        \"max\": 2000,\n",
    "                        \"increment\": 50\n",
    "                },\n",
    "                \"th_adjust\": {\n",
    "                        \"data_type\": \"float\",\n",
    "                        \"widget_type\": \"slider\",\n",
    "                        \"min\": 0,\n",
    "                        \"max\": 2,\n",
    "                        \"increment\": 0.02\n",
    "                }\n",
    "        }\n",
    "}\n",
    "\n",
    "add_function_spec_to_widget_json(\"masked_object_thresh\", _masked_object_thresh, overwrite=True)\n",
    "\n",
    "\n"
   ]
  },
  {
   "attachments": {},
   "cell_type": "markdown",
   "metadata": {},
   "source": [
    "_____________\n",
    "\n",
    "## CYTOSOL"
   ]
  },
  {
   "cell_type": "code",
   "execution_count": 34,
   "metadata": {},
   "outputs": [
    {
     "data": {
      "text/plain": [
       "1"
      ]
     },
     "execution_count": 34,
     "metadata": {},
     "output_type": "execute_result"
    }
   ],
   "source": [
    "\n",
    "_infer_cytosol=  {\n",
    "        \"name\": \"infer infer_cytosol\",\n",
    "        \"python::module\": \"infer_subc_2d.organelles\",\n",
    "        \"python::function\": \"infer_cytosol\",\n",
    "        \"parameters\": {\n",
    "                \"erode_nuclei\" : {\n",
    "                        \"widget_type\": \"drop-down\",\n",
    "                        \"data_type\": \"bool\",\n",
    "                        \"options\": [\n",
    "                        True,\n",
    "                        False\n",
    "                        ]\n",
    "            }\n",
    "        }\n",
    "}\n",
    "\n",
    "add_function_spec_to_widget_json(\"infer_cytosol\",_infer_cytosol, overwrite=True)"
   ]
  },
  {
   "attachments": {},
   "cell_type": "markdown",
   "metadata": {},
   "source": [
    "-----------------\n",
    "## NUCLEI workflow\n",
    "\n",
    "Write the `infer_nuclei` spec to the widget json "
   ]
  },
  {
   "cell_type": "code",
   "execution_count": 39,
   "metadata": {},
   "outputs": [],
   "source": [
    "from infer_subc_2d.constants import NUC_CH\n",
    "\n",
    "\n",
    "def make_infer_nuclei_dict():\n",
    "    \"\"\"\n",
    "    \"\"\"\n",
    "    step_name = []\n",
    "    function_name = []\n",
    "    category =[]\n",
    "    parameter_values = []\n",
    "    parent = []\n",
    "    annotation = []\n",
    "    step_n = 0\n",
    "    ###################\n",
    "    # EXTRACT\n",
    "    ###################   \n",
    "\n",
    "    step_name.append(f\"{step_n+1}\")\n",
    "    function_name.append(\"select_channel_from_raw\")\n",
    "    category.append(\"extraction\")\n",
    "    parameter_values.append( dict(chan = NUC_CH) )\n",
    "    parent.append(step_n)\n",
    "    annotation.append(f\"basic nuclei segmentation: {step_n}\")\n",
    "    step_n += 1\n",
    "\n",
    "    ###################\n",
    "    # PRE_PROCESSING\n",
    "    ###################                         \n",
    "    step_name.append(f\"{step_n+1}\")\n",
    "    function_name.append(\"scale_and_smooth\")\n",
    "    category.append(\"preprocessing\")\n",
    "    parameter_values.append(dict(median_sz = 4, gauss_sig=1.4 ))\n",
    "    parent.append(step_n)\n",
    "    annotation.append(f\"basic nuclei segmentation: {step_n}\")\n",
    "    step_n += 1\n",
    "\n",
    "    ###################\n",
    "    # CORE_PROCESSING\n",
    "    ###################\n",
    "    step_name.append(f\"{step_n+1}\")\n",
    "    function_name.append(\"apply_log_li_threshold\")\n",
    "    category.append(\"core\")\n",
    "    parameter_values.append(dict(thresh_factor = 0.9, \n",
    "                                                            thresh_min = .1,\n",
    "                                                            thresh_max = 1.))\n",
    "    parent.append(step_n)\n",
    "    annotation.append(f\"basic nuclei segmentation: {step_n}\")\n",
    "    step_n += 1\n",
    "\n",
    "    ###################\n",
    "    # POST_PROCESSING\n",
    "    ###################\n",
    "    step_name.append(f\"{step_n+1}\")\n",
    "    function_name.append(\"fill_and_filter_linear_size\")\n",
    "    category.append(\"postprocessing\")\n",
    "    parameter_values.append(dict( hole_min=0, \n",
    "                                 hole_max= 25, \n",
    "                                  min_size = 15,\n",
    "                                 method=\"slice_by_slice\" ))\n",
    "    parent.append(step_n)\n",
    "    annotation.append(f\"basic nuclei segmentation: {step_n}\")\n",
    "    step_n += 1\n",
    "\n",
    "    \n",
    "    out_dict = dict()\n",
    "    for i,stepn in enumerate(step_name):\n",
    "        entry = dict(category=category[i],\n",
    "                            function=function_name[i],\n",
    "                            parameter_values=parameter_values[i],\n",
    "                            parent=parent[i],\n",
    "                            annotation=annotation[i]\n",
    "        )\n",
    "        if entry['parameter_values'] is None:\n",
    "            _ = entry.pop('parameter_values')\n",
    "        out_dict[stepn] = entry\n",
    "        \n",
    "    return out_dict"
   ]
  },
  {
   "cell_type": "code",
   "execution_count": 40,
   "metadata": {},
   "outputs": [
    {
     "data": {
      "text/plain": [
       "PosixPath('/Users/ahenrie/Projects/Imaging/infer-subc-2D/infer_subc_2d/organelles_config/conf_1.1.nuclei.json')"
      ]
     },
     "execution_count": 40,
     "metadata": {},
     "output_type": "execute_result"
    }
   ],
   "source": [
    "from infer_subc_2d.organelles_config.helper import write_workflow_json\n",
    "\n",
    "infer_nuclei_dict = make_infer_nuclei_dict()\n",
    "\n",
    "write_workflow_json(\"conf_1.1.nuclei\", infer_nuclei_dict)"
   ]
  },
  {
   "cell_type": "code",
   "execution_count": null,
   "metadata": {},
   "outputs": [
    {
     "data": {
      "text/plain": [
       "-1"
      ]
     },
     "metadata": {},
     "output_type": "display_data"
    }
   ],
   "source": [
    "int(\"-1\")"
   ]
  },
  {
   "cell_type": "code",
   "execution_count": null,
   "metadata": {},
   "outputs": [
    {
     "data": {
      "text/plain": [
       "PosixPath('/Users/ahenrie/Projects/Imaging/infer-subc-2D/infer_subc_2d/organelles_config/conf_2.2.nuclei_stepbystep.json')"
      ]
     },
     "metadata": {},
     "output_type": "display_data"
    }
   ],
   "source": [
    "from infer_subc_2d.organelles_config.helper import write_workflow_json\n",
    "\n",
    "infer_nuclei_dict = make_infer_nuclei_dict()\n",
    "\n",
    "write_workflow_json(\"conf_2.2.nuclei_stepbystep\", infer_nuclei_dict)"
   ]
  },
  {
   "cell_type": "markdown",
   "metadata": {},
   "source": [
    "_____________\n",
    "\n",
    "## SOMA"
   ]
  },
  {
   "cell_type": "code",
   "execution_count": 66,
   "metadata": {},
   "outputs": [],
   "source": [
    "def make_infer_soma_step_by_step_dict():\n",
    "    \"\"\"\n",
    "    crete .json version of infer_soma\n",
    "    \"\"\"\n",
    "    \"\"\"\n",
    "    \"\"\"\n",
    "    step_name = []\n",
    "    function_name = []\n",
    "    category =[]\n",
    "    parameter_values = []\n",
    "    parent = []\n",
    "    annotation = []\n",
    "    step_n = 1\n",
    "    ###################\n",
    "    # EXTRACT\n",
    "    ###################   \n",
    "    raw_input_step = 0\n",
    "\n",
    "\n",
    "    step_name.append(f\"{step_n}\")\n",
    "    function_name.append(\"infer_nuclei\")\n",
    "    category.append(\"extraction\")\n",
    "    parameter_values.append( dict(\n",
    "                                nuc_ch = NUC_CH,\n",
    "                                median_sz = 4,\n",
    "                                gauss_sig = 1.34,\n",
    "                                thresh_factor = 0.9,\n",
    "                                thresh_min = 0.1,\n",
    "                                thresh_max = 1.0,\n",
    "                                max_hole_w = 25,\n",
    "                                small_obj_w = 15)\n",
    "                                )\n",
    "                                \n",
    "    parent.append(raw_input_step)\n",
    "    annotation.append(f\"get  nuclei segmentation: {step_n}\")    \n",
    "    nuc_step = step_n\n",
    "\n",
    "    step_n += 1                     \n",
    "\n",
    "    step_name.append(f\"{step_n}\")\n",
    "    function_name.append(\"raw_soma_MCZ\")\n",
    "    category.append(\"extraction\")\n",
    "    parameter_values.append(None)\n",
    "    parent.append(raw_input_step)\n",
    "    annotation.append(f\" this creates an aggregate signal for the soma\" )\n",
    "    soma_input_step = step_n\n",
    "\n",
    "    step_n += 1                     \n",
    "    ### PRE PROCESSING\n",
    "    step_name.append(f\"{step_n}\")\n",
    "    function_name.append(\"scale_and_smooth\")\n",
    "    category.append(\"preprocessing\")\n",
    "    parameter_values.append(dict(median_sz = 4, gauss_sig=1.4 ))\n",
    "    parent.append(soma_input_step)\n",
    "    annotation.append(f\"basic nuclei segmentation: {step_n}\")\n",
    "\n",
    "    step_n += 1\n",
    "\n",
    "    step_name.append(f\"{step_n}\")\n",
    "    function_name.append(\"non_linear_soma_transform_MCZ\")\n",
    "    category.append(\"preprocessing\")\n",
    "    parameter_values.append(None)\n",
    "    annotation.append(f\"basic nuclei segmentation: {step_n}\")\n",
    "    parent.append(step_n-1)\n",
    "\n",
    "    step_n += 1\n",
    "\n",
    "    ### CORE\n",
    "    step_name.append(f\"{step_n}\")\n",
    "    function_name.append(\"masked_object_thresh\")\n",
    "    category.append(\"core\")\n",
    "    parameter_values.append(dict( th_method=\"ave_tri_med\",\n",
    "                                                            cutoff_size = 100,\n",
    "                                                            th_adjust = 0.5))\n",
    "    parent.append(step_n-1)\n",
    "    annotation.append(f\"basic nuclei segmentation: {step_n}\")\n",
    "\n",
    "    step_n += 1\n",
    "\n",
    "    ### POST_PROCESSING\n",
    "    step_name.append(f\"{step_n}\")\n",
    "    function_name.append(\"fill_and_filter_linear_size\")\n",
    "    category.append(\"postprocessing\")\n",
    "    parameter_values.append(dict( hole_min=0, \n",
    "                                 hole_max= 25, \n",
    "                                  min_size = 15,\n",
    "                                 method=\"slice_by_slice\" ))\n",
    "    parent.append(step_n-1)\n",
    "    annotation.append(f\"basic nuclei segmentation: {step_n}\")\n",
    "    \n",
    "    step_n += 1\n",
    "\n",
    "    ### POST- POST_PROCESSING\n",
    "    step_name.append(f\"{step_n}\")\n",
    "    function_name.append(\"choose_max_label_soma_union_nucleus\")\n",
    "    category.append(\"postpostprocessing\")\n",
    "    parameter_values.append(None)\n",
    "    annotation.append(f\"basic soma segmentation: {step_n}\")\n",
    "    parent.append([step_n-1, nuc_step])\n",
    "    soma_step = step_n\n",
    "\n",
    "    step_n += 1\n",
    "\n",
    "    step_name.append(f\"{step_n}\")\n",
    "    function_name.append(\"infer_cytosol\")\n",
    "    category.append(\"postpostprocessing\")\n",
    "    parameter_values.append(dict(erode_nuclei=True))\n",
    "    parent.append([nuc_step, soma_step])\n",
    "    annotation.append(f\"basic soma segmentation: {step_n}\")\n",
    "    cyto_step = step_n\n",
    "\n",
    "\n",
    "    # ###################\n",
    "    # # EXPORT\n",
    "    # ###################\n",
    "    # step_name.append(\"18\")\n",
    "    # function_name.append(\"export_PLACE_HOLDER\")\n",
    "    # category.append(\"export\")\n",
    "    # parameter_values.append(None)\n",
    "    # parent.append([5, 17])\n",
    "\n",
    "\n",
    "    ##########################\n",
    "    out_dict = dict()\n",
    "    for i,stepn in enumerate(step_name):\n",
    "\n",
    "        entry = dict(category=category[i],\n",
    "                            function=function_name[i],\n",
    "                            parameter_values=parameter_values[i],\n",
    "                            parent=parent[i],\n",
    "                            annotation=annotation[i]\n",
    "        )\n",
    "        if entry['parameter_values'] is None:\n",
    "            _ = entry.pop('parameter_values')\n",
    "        out_dict[stepn] = entry\n",
    "        \n",
    "    return out_dict"
   ]
  },
  {
   "cell_type": "code",
   "execution_count": 67,
   "metadata": {},
   "outputs": [
    {
     "data": {
      "text/plain": [
       "PosixPath('/Users/ahenrie/Projects/Imaging/infer-subc-2D/infer_subc_2d/organelles_config/conf_1.2.soma.json')"
      ]
     },
     "execution_count": 67,
     "metadata": {},
     "output_type": "execute_result"
    }
   ],
   "source": [
    "\n",
    "infer_soma_stepbystep_dict = make_infer_soma_step_by_step_dict()\n",
    "infer_soma_stepbystep_dict\n",
    "\n",
    "write_workflow_json(\"conf_1.2.soma\", infer_soma_stepbystep_dict)"
   ]
  },
  {
   "attachments": {},
   "cell_type": "markdown",
   "metadata": {},
   "source": [
    "--------------------------\n",
    "## CYTOSOL .json\n"
   ]
  },
  {
   "cell_type": "code",
   "execution_count": 70,
   "metadata": {},
   "outputs": [],
   "source": [
    "def make_infer_cytosol_dict():\n",
    "    \"\"\"\n",
    "    Procedure to infer cyto from linearly unmixed input. (logical soma AND NOT nucleus)\n",
    "    \"\"\"\n",
    "    step_name = []\n",
    "    function_name = []\n",
    "    category =[]\n",
    "    parameter_values = []\n",
    "    parent = []\n",
    "    annotation = []\n",
    "    raw_input_step = 0\n",
    "    ###################\n",
    "    # EXTRACT\n",
    "    ###################   \n",
    "    step_n = 1\n",
    "\n",
    "\n",
    "    step_name.append(f\"{step_n}\")\n",
    "    function_name.append(\"infer_nuclei\")\n",
    "    category.append(\"extraction\")\n",
    "    parameter_values.append( dict(\n",
    "                                nuc_ch = NUC_CH,\n",
    "                                median_sz = 4,\n",
    "                                gauss_sig = 1.34,\n",
    "                                thresh_factor = 0.9,\n",
    "                                thresh_min = 0.1,\n",
    "                                thresh_max = 1.0,\n",
    "                                max_hole_w = 25,\n",
    "                                small_obj_w = 15)\n",
    "                                )\n",
    "                                \n",
    "    parent.append(raw_input_step)\n",
    "    annotation.append(f\"get  nuclei segmentation: {step_n}\")    \n",
    "    nuc_step = step_n\n",
    "    step_n += 1                     \n",
    "\n",
    "    step_name.append(f\"{step_n}\")\n",
    "    function_name.append(\"infer_soma_MCZ\")\n",
    "    category.append(\"extraction\")\n",
    "    parameter_values.append(dict(\n",
    "                                                    median_sz = 15,\n",
    "                                            gauss_sig = 1.34,\n",
    "                                            mo_method = \"ave_tri_med\",\n",
    "                                            mo_adjust = 0.5,\n",
    "                                            mo_cutoff_size = 150,\n",
    "                                            max_hole_w = 50,\n",
    "                                            small_obj_w = 45\n",
    "                                            ))\n",
    "    parent.append([raw_input_step, nuc_step])\n",
    "    annotation.append(f\" this creates an aggregate signal for the soma\" )\n",
    "    soma_step = step_n\n",
    "\n",
    "    step_n += 1                     \n",
    "    step_name.append(f\"{step_n}\")\n",
    "    function_name.append(\"infer_cytosol\")\n",
    "    category.append(\"core\")\n",
    "    parameter_values.append(dict(erode_nuclei=True))\n",
    "    parent.append([nuc_step, soma_step])\n",
    "    annotation.append(f\"basic soma segmentation: {step_n}\")\n",
    "    cyto_step = step_n\n",
    "\n",
    "\n",
    "    # ###################\n",
    "    # # EXPORT\n",
    "    # ###################\n",
    "    # step_name.append(\"18\")\n",
    "    # function_name.append(\"export_PLACE_HOLDER\")\n",
    "    # category.append(\"export\")\n",
    "    # parameter_values.append(None)\n",
    "    # parent.append([5, 17])\n",
    "\n",
    "\n",
    "    ##########################\n",
    "    out_dict = dict()\n",
    "    for i,stepn in enumerate(step_name):\n",
    "\n",
    "        entry = dict(category=category[i],\n",
    "                            function=function_name[i],\n",
    "                            parameter_values=parameter_values[i],\n",
    "                            parent=parent[i],\n",
    "                            annotation=annotation[i]\n",
    "        )\n",
    "        if entry['parameter_values'] is None:\n",
    "            _ = entry.pop('parameter_values')\n",
    "        out_dict[stepn] = entry\n",
    "        \n",
    "    return out_dict"
   ]
  },
  {
   "cell_type": "code",
   "execution_count": 71,
   "metadata": {},
   "outputs": [
    {
     "data": {
      "text/plain": [
       "PosixPath('/Users/ahenrie/Projects/Imaging/infer-subc-2D/infer_subc_2d/organelles_config/conf_1.3.cytosol.json')"
      ]
     },
     "execution_count": 71,
     "metadata": {},
     "output_type": "execute_result"
    }
   ],
   "source": [
    "\n",
    "infer_cytosol_dict = make_infer_cytosol_dict()\n",
    "\n",
    "write_workflow_json(\"conf_1.3.cytosol\", infer_cytosol_dict)"
   ]
  },
  {
   "cell_type": "code",
   "execution_count": null,
   "metadata": {},
   "outputs": [],
   "source": []
  }
 ],
 "metadata": {
  "kernelspec": {
   "display_name": "napariNEW",
   "language": "python",
   "name": "python3"
  },
  "language_info": {
   "codemirror_mode": {
    "name": "ipython",
    "version": 3
   },
   "file_extension": ".py",
   "mimetype": "text/x-python",
   "name": "python",
   "nbconvert_exporter": "python",
   "pygments_lexer": "ipython3",
   "version": "3.9.16"
  },
  "orig_nbformat": 4
 },
 "nbformat": 4,
 "nbformat_minor": 2
}
