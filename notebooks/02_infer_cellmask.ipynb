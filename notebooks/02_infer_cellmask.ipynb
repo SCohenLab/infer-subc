{
 "cells": [
  {
   "cell_type": "markdown",
   "metadata": {},
   "source": []
  },
  {
   "attachments": {},
   "cell_type": "markdown",
   "metadata": {},
   "source": [
    "# Infer ***cellmask*** -  2️⃣ \n",
    "\n",
    "> WARNING: (🚨🚨🚨🚨 Steps 3-9 depend on establishing a good solution here.)\n",
    ">> #### Because we do NOT have a direct cell membrane / cellmask signal, this segmentation is trickiest and potentially most problematic part of the overall sub-cellular component inference pipeline. We are using the nuclei of the cell with the brightest total fluorescence (all channels) to identify a single cellmask for all downstream steps. The Soma (via the Cytosol mask) will be used to define ALL subsequent sub-cellular Objects.\n",
    "\n",
    "--------------\n",
    "\n",
    "## OBJECTIVE: \n",
    "### ✅ Infer sub-cellular component #2: ***cellmask***/cell body in order to understand interactome \n",
    "\n",
    "Infer a segmentation of the cell body -- the ***cellmask*** -- in order to measure its shape, position, and size.\n",
    "\n",
    "CONTEXT: \"Soma\" is used here becuase subsequent experiments will contain neurons who's cellmask has a similar shape to an iPS cell body.\n",
    "\n",
    "This method is used in the case where there is no cell fill/membrane marker.\n",
    "\n",
    "We will infer the cellmask from a combination of fluorescent signals. The current selection includes the lysosomes, ER, and Golgi (e.g., 'Ch = 1, 3, 5) which have some intracellular fluorescence - likely from off target marker localization to the entire cellmask and/or the cell membrane. There are two other channels, the residual channel from linear unmixing (e.g. `ch = 7`) and the lipid droplet channel (e.g., `ch = 6`) that could more lead to more unbiased selection of the entire cellmask. However, the drawback of these two markers is that they are present in every cell which makes downstream cell selection more challenging. To expand on this, we will be collecting per cell measurements, so each cell area has to be segmented individually even if there are two appropriately labeled cells within one field of view. \n",
    "\n",
    "In the long term we can build of a database of \"ground truth\" by sourcing additional markers which can be iteratively improved.  For example using the Allen Cell \"Label Free\" segmentation results should provide a good corroboration or constraints to the procedures outlined below.  \n",
    "\n",
    "A first possible _workflow_ is illustrated below.\n",
    "\n",
    "### IMAGE PROCESSING  OBJECTIVE :  infer ***cellmask***\n",
    " \n",
    "> #### Note:  we are using the Nuclei of the brightest cell to aid in inferring the Soma and Cytosol objects.   Because we do NOT have a direct cell membrane / cellmask signal this is the trickiest and potentially problematic part of the overall sub-cellular component inference.   The Soma (via the Cytosol mask) will be used to define ALL subsequent sub-cellular Objects."
   ]
  },
  {
   "attachments": {},
   "cell_type": "markdown",
   "metadata": {},
   "source": [
    "## preamble\n",
    "\n",
    "1. imports\n",
    "2. setup\n",
    "3. ~~choose_Z~~\n",
    "4. infer-cellmask\n",
    "    * input\n",
    "    * pre-processing\n",
    "    * core processing\n",
    "    * post-processing\n",
    "    * select individual cell\n",
    "    * output\n",
    "5. export cellmask\n",
    "\n"
   ]
  },
  {
   "attachments": {},
   "cell_type": "markdown",
   "metadata": {},
   "source": [
    "\n",
    "\n",
    "## IMPORTS"
   ]
  },
  {
   "cell_type": "code",
   "execution_count": 1,
   "metadata": {},
   "outputs": [],
   "source": [
    "# top level imports\n",
    "from pathlib import Path\n",
    "import os, sys\n",
    "from collections import defaultdict\n",
    "from typing import Union, Tuple, List\n",
    "\n",
    "import numpy as np\n",
    "\n",
    "from scipy import ndimage as ndi\n",
    "from aicssegmentation.core.pre_processing_utils import ( intensity_normalization, \n",
    "                                                         image_smoothing_gaussian_slice_by_slice )\n",
    "from aicssegmentation.core.MO_threshold import MO\n",
    "from aicssegmentation.core.utils import hole_filling\n",
    "\n",
    "from skimage import filters\n",
    "from skimage.segmentation import watershed, clear_border\n",
    "from skimage.morphology import remove_small_holes   # function for post-processing (size filter)\n",
    "\n",
    "from skimage.measure import label\n",
    "\n",
    "# # package for io \n",
    "from aicsimageio import AICSImage\n",
    "\n",
    "import napari\n",
    "\n",
    "### import local python functions in ../infer_subc_2d\n",
    "sys.path.append(os.path.abspath((os.path.join(os.getcwd(), '..'))))\n",
    "\n",
    "\n",
    "from infer_subc_2d.core.file_io import (read_czi_image,\n",
    "                                                                     read_ome_image,\n",
    "                                                                     import_inferred_organelle,\n",
    "                                                                     export_inferred_organelle,\n",
    "                                                                    list_image_files)\n",
    "\n",
    "                                             \n",
    "from infer_subc_2d.core.img import *\n",
    "\n",
    "from infer_subc_2d.organelles import  fixed_infer_nuclei, infer_nuclei_fromlabel, get_nuclei\n",
    "\n",
    "%load_ext autoreload\n",
    "%autoreload 2\n"
   ]
  },
  {
   "attachments": {},
   "cell_type": "markdown",
   "metadata": {},
   "source": [
    "\n",
    "## SETUP\n",
    "\n",
    "CUSTOMIZE WITH: \n",
    "1. updated path to data\n",
    "2. updated folder name for \"raw\" data\n",
    "\n",
    "> NOTE: we are operating on a single \"test\" image in this notebook.  The batch-processing of all the images will be happen at the end of the notebook after we have developed/confirmed the setmentation procedures and parameter settings.\n"
   ]
  },
  {
   "cell_type": "code",
   "execution_count": 2,
   "metadata": {},
   "outputs": [],
   "source": [
    "# NOTE:  these \"constants\" are only accurate for the testing MCZ dataset\n",
    "from infer_subc_2d.constants import (TEST_IMG_N,\n",
    "                                                                    NUC_CH ,\n",
    "                                                                    LYSO_CH ,\n",
    "                                                                    MITO_CH ,\n",
    "                                                                    GOLGI_CH ,\n",
    "                                                                    PEROX_CH ,\n",
    "                                                                    ER_CH ,\n",
    "                                                                    LD_CH ,\n",
    "                                                                    RESIDUAL_CH )                       "
   ]
  },
  {
   "cell_type": "code",
   "execution_count": 3,
   "metadata": {},
   "outputs": [],
   "source": [
    "# this will be the example image for testing the pipeline below\n",
    "test_img_n = TEST_IMG_N\n",
    "\n",
    "# build the datapath\n",
    "# all the imaging data goes here.\n",
    "data_root_path = Path(os.path.expanduser(\"~\")) / \"Projects/Imaging/data\"\n",
    "\n",
    "# linearly unmixed \".czi\" files are here\n",
    "in_data_path = data_root_path / \"raw\"\n",
    "im_type = \".czi\"\n",
    "\n",
    "# get the list of all files\n",
    "img_file_list = list_image_files(in_data_path,im_type)\n",
    "test_img_name = img_file_list[test_img_n]\n",
    "\n",
    "# save output \".tiff\" files here\n",
    "out_data_path = data_root_path / \"out\"\n",
    "im_type = \".czi\"\n",
    "\n"
   ]
  },
  {
   "cell_type": "markdown",
   "metadata": {},
   "source": []
  },
  {
   "cell_type": "code",
   "execution_count": 4,
   "metadata": {},
   "outputs": [
    {
     "name": "stderr",
     "output_type": "stream",
     "text": [
      "/opt/anaconda3/envs/napariNEW/lib/python3.9/site-packages/ome_types/_convenience.py:106: FutureWarning: The default XML parser will be changing from 'xmlschema' to 'lxml' in version 0.4.0.  To silence this warning, please provide the `parser` argument, specifying either 'lxml' (to opt into the new behavior), or'xmlschema' (to retain the old behavior).\n",
      "  d = to_dict(os.fspath(xml), parser=parser, validate=validate)\n"
     ]
    }
   ],
   "source": [
    "img_data,meta_dict = read_czi_image(test_img_name)\n",
    "\n",
    "# get some top-level info about the RAW data\n",
    "channel_names = meta_dict['name']\n",
    "img = meta_dict['metadata']['aicsimage']\n",
    "scale = meta_dict['scale']\n",
    "channel_axis = meta_dict['channel_axis']"
   ]
  },
  {
   "attachments": {},
   "cell_type": "markdown",
   "metadata": {},
   "source": [
    "##  infer ***cellmask***\n",
    "\n",
    ">WORKFLOW #1  - modified MCZ 3/20\n",
    "\n",
    "Segmentation on a 3 channel composite as per 3/20 pipeline from MCZ\n",
    "Summary - Starting with a linear combination of three signals,  the signal is smoothed and non-linearly combined (logrithmic and edge detected) for thresholding. \n",
    "## summary of steps\n",
    "\n",
    "➡️ INPUT\n",
    "- multi-channel sum (6.*1, 3, 2.*5)\n",
    "- nuclei mask\n",
    "\n",
    "PRE-PROCESSING\n",
    "- rescaling\n",
    "- denoise/smoothing\n",
    "- log transform inensities\n",
    "- scale to max 1.0\n",
    "- create non-linear aggregate of log-intensity + scharr edge filtered intensity\n",
    "\n",
    "CORE PROCESSING\n",
    "- mask object segmentation at bottom\n",
    "\n",
    "POST-PROCESSING\n",
    "  - fill holes\n",
    "  - remove small objects\n",
    "\n",
    "OUTPUT ➡️ \n",
    "- mask of SOMA\n",
    "\n",
    "\n",
    "> #### Note: this pipeline will eventually include a selection step to identify the cellmask that are properly labeled with all fluorescent markers. This could be one single cell per image, or more if applicable data is available.\n"
   ]
  },
  {
   "attachments": {},
   "cell_type": "markdown",
   "metadata": {},
   "source": [
    "## INPUT prototype\n",
    "\n",
    "Combine multiple channels that will allow inference of the cellmask.\n",
    "\n",
    "Note: the selected channels were chosen based on their qualitative ability to fill the cytoplasmic area of the cell. \n",
    "\n"
   ]
  },
  {
   "attachments": {},
   "cell_type": "markdown",
   "metadata": {},
   "source": [
    "## GET inferred nuclei"
   ]
  },
  {
   "cell_type": "code",
   "execution_count": 5,
   "metadata": {},
   "outputs": [
    {
     "name": "stdout",
     "output_type": "stream",
     "text": [
      ">>>>>>>>>>>> tifffile.imread  (dtype=uint8in (0.01) sec\n",
      "loaded  inferred 3D `nuclei`  from /Users/ahenrie/Projects/Imaging/data/out \n"
     ]
    }
   ],
   "source": [
    "\n",
    "# nuclei_fname = \"/Users/ahenrie/Projects/Imaging/data/out/nuclei_ZSTACK_PBTOhNGN2hiPSCs_BR3_N04_Unmixed.ome.tiff\"\n",
    "# nuclei = import_inferred_organelle(\"nuclei\", meta_dict, out_data_path)\n",
    "\n",
    "# if nuclei is None:\n",
    "#     nuclei =  fixed_infer_nuclei(img_data) \n",
    "#     out_file_n = export_inferred_organelle(nuclei, \"nuclei\", meta_dict, out_data_path)\n",
    "#     print(f\"calculated nuclei. wrote {out_file_n}\")\n",
    "# else:\n",
    "#     print(f\"loaded nuclei from {out_data_path}\")\n",
    "\n",
    "nuclei_obj = get_nuclei(img_data,meta_dict, out_data_path)\n"
   ]
  },
  {
   "cell_type": "code",
   "execution_count": 6,
   "metadata": {},
   "outputs": [],
   "source": [
    "# # get_interior_labels.   Removes any segmentations on the edges, but we probably don't want to use it\n",
    "# nuclei_labls = get_interior_labels(nuclei)\n"
   ]
  },
  {
   "cell_type": "code",
   "execution_count": 7,
   "metadata": {},
   "outputs": [],
   "source": [
    "\n",
    "###################\n",
    "# INPUT\n",
    "###################\n",
    "struct_img_raw = (6. * img_data[LYSO_CH].copy().astype(np.double) +\n",
    "                  1. * img_data[ER_CH].copy().astype(np.double) + \n",
    "                  2. * img_data[GOLGI_CH].copy().astype(np.double))\n"
   ]
  },
  {
   "cell_type": "code",
   "execution_count": 8,
   "metadata": {},
   "outputs": [
    {
     "name": "stdout",
     "output_type": "stream",
     "text": [
      "weighted_aggregate: shape in- (8, 16, 768, 768) , shape_out- (16, 768, 768)\n",
      "weighted_aggregate: shape in- (8, 16, 768, 768) , shape_out- (16, 768, 768)\n"
     ]
    },
    {
     "data": {
      "text/plain": [
       "(array([34548., 31003., 27969., 57573., 66992., 67514., 63489., 75837.,\n",
       "        95956., 84172.]),\n",
       " array([34548., 31003., 27969., 57573., 66992., 67514., 63489., 75837.,\n",
       "        95956., 84172.]),\n",
       " array([34548., 31003., 27969., 57573., 66992., 67514., 63489., 75837.,\n",
       "        95956., 84172.]))"
      ]
     },
     "execution_count": 8,
     "metadata": {},
     "output_type": "execute_result"
    }
   ],
   "source": [
    "# confirm our functions work as expected:\n",
    "\n",
    "weights =  (0,6,0,2, 0,1) # _,lyso,_, golgi,_,1,0,0,_,_\n",
    "struct_img_raw2 = weighted_aggregate(img_data, *weights)\n",
    "# use splat so we can also break out the arguments for our napari widget later\n",
    "struct_img_raw3 = weighted_aggregate(img_data, 0,6,0,2, 0,1)\n",
    "\n",
    "struct_img_raw[0,0:10,0], struct_img_raw2[0,0:10,0], struct_img_raw3[0,0:10,0]\n"
   ]
  },
  {
   "attachments": {},
   "cell_type": "markdown",
   "metadata": {},
   "source": [
    "## PRE-PROCESSING prototype\n"
   ]
  },
  {
   "cell_type": "code",
   "execution_count": 9,
   "metadata": {},
   "outputs": [
    {
     "name": "stdout",
     "output_type": "stream",
     "text": [
      "weighted_aggregate: shape in- (8, 16, 768, 768) , shape_out- (16, 768, 768)\n"
     ]
    }
   ],
   "source": [
    "from infer_subc_2d.organelles.cellmask import (raw_cellmask_fromaggr, \n",
    "                                               non_linear_cellmask_transform_MCZ, \n",
    "                                               choose_max_label_cellmask_union_nucleus)\n",
    "\n",
    "struct_img_raw = raw_cellmask_fromaggr(img_data)\n",
    "###################\n",
    "# PRE_PROCESSING\n",
    "###################\n",
    "#\n",
    "# DEFAULT PARAMETERS:\n",
    "\n",
    "med_filter_size = 15  \n",
    "gaussian_smoothing_sigma = 1.34\n",
    "\n",
    "\n",
    "structure_img_smooth =  scale_and_smooth(struct_img_raw,\n",
    "                                                    median_sz = med_filter_size, \n",
    "                                                    gauss_sig = gaussian_smoothing_sigma)\n",
    "\n"
   ]
  },
  {
   "cell_type": "code",
   "execution_count": 10,
   "metadata": {},
   "outputs": [],
   "source": [
    "\n",
    "# # NON-Linear aggregation\n",
    "# log_image, d = log_transform( structure_img_smooth ) \n",
    "# log_image = intensity_normalization(  log_image,  scaling_param=[0] )\n",
    "# edges = filters.scharr(log_image)\n",
    "# composite_soma = intensity_normalization(  edges,  scaling_param=[0] ) + log_image \n",
    "\n",
    "composite_soma = non_linear_cellmask_transform_MCZ(structure_img_smooth)\n"
   ]
  },
  {
   "attachments": {},
   "cell_type": "markdown",
   "metadata": {},
   "source": [
    "## CORE PROCESSING"
   ]
  },
  {
   "cell_type": "code",
   "execution_count": 11,
   "metadata": {},
   "outputs": [],
   "source": [
    "###################\n",
    "# CORE_PROCESSING\n",
    "###################\n",
    "low_level_min_size =  150\n",
    "\n",
    "################# part 1\n",
    "bw = masked_object_thresh(composite_soma, \n",
    "                                                th_method='ave', \n",
    "                                                cutoff_size=low_level_min_size, \n",
    "                                                th_adjust= 0.5)\n",
    "\n"
   ]
  },
  {
   "attachments": {},
   "cell_type": "markdown",
   "metadata": {},
   "source": [
    "## POST-PROCESSING"
   ]
  },
  {
   "cell_type": "code",
   "execution_count": 12,
   "metadata": {},
   "outputs": [],
   "source": [
    "###################\n",
    "# POST_PROCESSING\n",
    "###################\n",
    "hole_width = 50\n",
    "#removed_holes = remove_small_holes(bw, hole_width ** 2 )\n",
    "removed_holes = hole_filling_linear_size(bw, \n",
    "                                                    hole_min=0, \n",
    "                                                    hole_max=hole_width)\n",
    "\n",
    "\n",
    "small_object_width = 45\n",
    "\n",
    "cleaned_img = size_filter_linear_size(removed_holes, \n",
    "                                                                min_size = small_object_width)\n",
    "\n",
    "cleaned_img2 = fill_and_filter_linear_size(bw, hole_min=0, hole_max=hole_width, min_size= small_object_width)"
   ]
  },
  {
   "cell_type": "code",
   "execution_count": 13,
   "metadata": {},
   "outputs": [
    {
     "data": {
      "text/plain": [
       "True"
      ]
     },
     "execution_count": 13,
     "metadata": {},
     "output_type": "execute_result"
    }
   ],
   "source": [
    "# make sure it works..\n",
    "np.all(cleaned_img==cleaned_img2)"
   ]
  },
  {
   "attachments": {},
   "cell_type": "markdown",
   "metadata": {},
   "source": [
    "## POST POST-PROCESSING"
   ]
  },
  {
   "cell_type": "code",
   "execution_count": 14,
   "metadata": {},
   "outputs": [],
   "source": [
    "###################\n",
    "# POST- POST_PROCESSING\n",
    "###################\n",
    "\n",
    "# # below can be performed by: masked_inverted_watershed(img_in,markers, mask)\n",
    "# inverted_img = 1. - composite_soma\n",
    "# labels_out = watershed(\n",
    "#             inverted_img,\n",
    "#             markers=label(nuclei),\n",
    "#             connectivity=np.ones((1, 3,3), bool),\n",
    "#             mask=watershed_mask,\n",
    "#             )\n",
    "nuc_labels = label(nuclei_obj)\n",
    "cellmask_labels = masked_inverted_watershed(structure_img_smooth,nuc_labels, cleaned_img)\n",
    "\n",
    "keep_label = get_max_label(composite_soma, cellmask_labels)\n",
    "\n",
    "cellmask_out = np.zeros_like(cellmask_labels)\n",
    "cellmask_out[cellmask_labels == keep_label] = 1\n",
    "cellmask_out[nuc_labels == keep_label] = 1\n",
    "\n",
    "cellmask_out2 = choose_max_label_cellmask_union_nucleus(structure_img_smooth, cleaned_img, nuclei_obj) \n"
   ]
  },
  {
   "attachments": {},
   "cell_type": "markdown",
   "metadata": {},
   "source": [
    "## Visualize with `napari` 1\n",
    "Visualize the first-pass segmentation and labeling with `napari`."
   ]
  },
  {
   "cell_type": "code",
   "execution_count": 15,
   "metadata": {},
   "outputs": [],
   "source": [
    "\n",
    "viewer = napari.view_image(\n",
    "        cleaned_img,\n",
    "    )\n"
   ]
  },
  {
   "cell_type": "code",
   "execution_count": 16,
   "metadata": {},
   "outputs": [
    {
     "data": {
      "text/plain": [
       "<Labels layer 'cellmask_out' at 0x16e354ca0>"
      ]
     },
     "execution_count": 16,
     "metadata": {},
     "output_type": "execute_result"
    }
   ],
   "source": [
    "\n",
    "viewer.scale_bar.visible = True\n",
    "\n",
    "viewer.add_labels(\n",
    "    cellmask_out,\n",
    ")\n",
    "\n"
   ]
  },
  {
   "cell_type": "markdown",
   "metadata": {},
   "source": [
    "## SAVE inferred nuclei to .tif file\n",
    "\n",
    "Based on the _prototyping_ above define the function to infer nuclei.  \n"
   ]
  },
  {
   "cell_type": "code",
   "execution_count": 17,
   "metadata": {},
   "outputs": [
    {
     "name": "stdout",
     "output_type": "stream",
     "text": [
      ">>>>>>>>>>>> tifffile.imwrite in (0.05) sec\n",
      "saved file: None\n"
     ]
    }
   ],
   "source": [
    "\n",
    "out_file_n = export_inferred_organelle(cellmask_out, \"cellmask\", meta_dict, out_data_path)\n"
   ]
  },
  {
   "cell_type": "markdown",
   "metadata": {},
   "source": [
    "## DEFINE parameterized  `_infer_cellmask_fromaggr` function\n",
    "\n",
    "A function to infer_cellmask_fromaggr from our (Channel, 1 Z slice, X, Y) image accourding the the following parameters: \n",
    "-  "
   ]
  },
  {
   "cell_type": "code",
   "execution_count": 18,
   "metadata": {},
   "outputs": [],
   "source": [
    "from infer_subc_2d.organelles.cellmask import raw_cellmask_fromaggr, non_linear_cellmask_transform_MCZ\n",
    "\n",
    "##########################\n",
    "# 1. infer_cellmask_fromaggr\n",
    "##########################\n",
    "\n",
    "def _infer_cellmask_fromaggr(in_img: np.ndarray,\n",
    "                nuclei_obj: np.ndarray,\n",
    "    median_sz: int,\n",
    "    gauss_sig: float,\n",
    "    mo_method: str,\n",
    "    mo_adjust: float,\n",
    "    mo_cutoff_size: int,\n",
    "    max_hole_w: int,\n",
    "    small_obj_w: int\n",
    ") -> np.ndarray:\n",
    "    \"\"\"\n",
    "    Procedure to infer cellmask from linearly unmixed input.\n",
    "\n",
    "    Parameters\n",
    "    ------------\n",
    "    in_img: \n",
    "        a 3d image containing all the channels\n",
    "    nuclei_obj: \n",
    "        a 3d image containing the inferred nuclei\n",
    "    median_sz: \n",
    "        width of median filter for _cellmask_ signal\n",
    "    gauss_sig: \n",
    "        sigma for gaussian smoothing of _cellmask_ signal\n",
    "    mo_method: \n",
    "         which method to use for calculating global threshold. Options include:\n",
    "         \"triangle\" (or \"tri\"), \"median\" (or \"med\"), and \"ave_tri_med\" (or \"ave\").\n",
    "         \"ave\" refers the average of \"triangle\" threshold and \"mean\" threshold.\n",
    "    mo_adjust: \n",
    "        Masked Object threshold `local_adjust`\n",
    "    mo_cutoff_size: \n",
    "        Masked Object threshold `size_min`\n",
    "    max_hole_w: \n",
    "        hole filling cutoff for cellmask signal post-processing\n",
    "    small_obj_w: \n",
    "        minimu object size cutoff for cellmask signal post-processing\n",
    "\n",
    "    Returns\n",
    "    -------------\n",
    "    cellmask_mask:\n",
    "        a logical/labels object defining boundaries of cellmask\n",
    "\n",
    "    \"\"\"\n",
    "    nuc_ch = NUC_CH\n",
    "    ###################\n",
    "    # EXTRACT\n",
    "    ###################\n",
    "    struct_img = raw_cellmask_fromaggr(in_img)\n",
    "\n",
    "    ###################\n",
    "    # PRE_PROCESSING\n",
    "    ###################                         \n",
    "    ################# part 1- cellmask\n",
    "\n",
    "    # Linear-ish processing\n",
    "    struct_img =  scale_and_smooth(struct_img,\n",
    "                        median_sz = median_sz, \n",
    "                        gauss_sig = gauss_sig)\n",
    "    \n",
    "\n",
    "    struct_img_non_lin = non_linear_cellmask_transform_MCZ(struct_img)\n",
    "\n",
    "    ###################\n",
    "    # CORE_PROCESSING\n",
    "    ###################\n",
    "    struct_obj = masked_object_thresh(struct_img_non_lin, \n",
    "                                                th_method=mo_method, \n",
    "                                                cutoff_size=mo_cutoff_size, \n",
    "                                                th_adjust=mo_adjust)               \n",
    "\n",
    "    ###################\n",
    "    # POST_PROCESSING\n",
    "    ###################\n",
    "    # struct_obj = hole_filling_linear_size(struct_obj, \n",
    "    #                                             hole_min =0 , \n",
    "    #                                             hole_max=max_hole_w) \n",
    "    # struct_obj = size_filter_linear_size(struct_obj, \n",
    "    #                                                 min_size= small_obj_w)\n",
    "    struct_obj = fill_and_filter_linear_size(struct_obj, hole_min=0, hole_max=max_hole_w, min_size= small_obj_w)\n",
    "\n",
    "    ###################\n",
    "    # POST- POST_PROCESSING\n",
    "    ###################\n",
    "    cellmask_out = choose_max_label_cellmask_union_nucleus(struct_img, struct_obj, nuclei_obj) \n",
    "\n",
    "    return cellmask_out\n",
    "\n",
    "\n",
    "\n"
   ]
  },
  {
   "cell_type": "markdown",
   "metadata": {},
   "source": [
    "## DEFINE `_fixed_infer_cellmask_fromaggr` function\n",
    "\n",
    "Based on the _prototyping_ above define the function to infer cellmask. with a *fixed* set of parameters for each step in the procedure.  That is they are all \"hard coded\""
   ]
  },
  {
   "cell_type": "code",
   "execution_count": 19,
   "metadata": {},
   "outputs": [],
   "source": [
    "##########################\n",
    "# 1. fixed_infer_cellmask_fromaggr\n",
    "##########################\n",
    "\n",
    "\n",
    "def _fixed_infer_cellmask_fromaggr(in_img: np.ndarray, nuclei_obj: np.ndarray) -> np.ndarray:\n",
    "    \"\"\"\n",
    "    Procedure to infer cellmask from linearly unmixed input, with a *fixed* set of parameters for each step in the procedure.  i.e. \"hard coded\"\n",
    "\n",
    "    Parameters\n",
    "    ------------\n",
    "    in_img: \n",
    "        a 3d image containing all the channels\n",
    "    nuclei_obj: \n",
    "        a 3d image containing the inferred nuclei\n",
    "\n",
    "    Returns\n",
    "    -------------\n",
    "    cellmask_mask:\n",
    "        a logical/labels object defining boundaries of cellmask\n",
    "    \"\"\"\n",
    "    \n",
    "\n",
    "    ###################\n",
    "    # PARAMETERS\n",
    "    ###################   \n",
    "    median_sz = 15\n",
    "    gauss_sig = 1.34\n",
    "    mo_method = \"ave\"\n",
    "    mo_adjust = 0.5\n",
    "    mo_cutoff_size = 150\n",
    "    max_hole_w = 50\n",
    "    small_obj_w = 45\n",
    "\n",
    "    cellmask_out = _infer_cellmask_fromaggr(in_img,\n",
    "                                                nuclei_obj,\n",
    "                                                median_sz,\n",
    "                                                gauss_sig,\n",
    "                                                mo_method,\n",
    "                                                mo_adjust,\n",
    "                                                mo_cutoff_size,\n",
    "                                                max_hole_w,\n",
    "                                                small_obj_w) \n",
    "\n",
    "    return cellmask_out\n",
    "\n",
    "\n"
   ]
  },
  {
   "cell_type": "code",
   "execution_count": 22,
   "metadata": {},
   "outputs": [
    {
     "name": "stdout",
     "output_type": "stream",
     "text": [
      "shape in_img (8, 16, 768, 768)\n",
      "shape nuclei_obj (16, 768, 768)\n",
      "weighted_aggregate: shape in- (8, 16, 768, 768) , shape_out- (16, 768, 768)\n",
      "shape struct_img (16, 768, 768)\n"
     ]
    }
   ],
   "source": [
    "from infer_subc_2d.organelles import fixed_infer_cellmask_fromaggr\n",
    "\n",
    "cellmask_object =  fixed_infer_cellmask_fromaggr(img_data, nuclei_obj) \n"
   ]
  },
  {
   "cell_type": "code",
   "execution_count": null,
   "metadata": {},
   "outputs": [],
   "source": [
    "\n",
    "out_file_n = export_inferred_organelle(cellmask_out, \"cellmask\", meta_dict, out_data_path)\n"
   ]
  },
  {
   "cell_type": "markdown",
   "metadata": {},
   "source": [
    "## Visualize  2\n"
   ]
  },
  {
   "cell_type": "code",
   "execution_count": null,
   "metadata": {},
   "outputs": [],
   "source": [
    "viewer.add_image(\n",
    "    cellmask_object,\n",
    "    opacity=0.3,\n",
    ")    \n",
    "\n",
    "\n",
    "viewer.add_labels(\n",
    "    label(nuclei_obj),\n",
    "    opacity=0.3,\n",
    ")\n"
   ]
  },
  {
   "cell_type": "code",
   "execution_count": null,
   "metadata": {},
   "outputs": [],
   "source": [
    "from napari.utils.notebook_display import nbscreenshot\n",
    "\n",
    "# viewer.dims.ndisplay = 3\n",
    "# viewer.camera.angles = (-30, 25, 120)\n",
    "nbscreenshot(viewer, canvas_only=True)\n"
   ]
  },
  {
   "cell_type": "code",
   "execution_count": null,
   "metadata": {},
   "outputs": [],
   "source": [
    "viewer.close()"
   ]
  },
  {
   "cell_type": "markdown",
   "metadata": {},
   "source": [
    "---------------------\n",
    "# TEST `_infer_cellmask_fromaggr`  function defined above\n",
    "\n",
    "\n",
    "##\n"
   ]
  },
  {
   "cell_type": "code",
   "execution_count": null,
   "metadata": {},
   "outputs": [],
   "source": [
    "\n",
    "SO_label =  _fixed_infer_cellmask_fromaggr(img_data) "
   ]
  },
  {
   "cell_type": "code",
   "execution_count": null,
   "metadata": {},
   "outputs": [],
   "source": [
    "from infer_subc_2d.organelles import fixed_infer_cellmask_fromaggr\n",
    "\n",
    "cellmask_ =  fixed_infer_cellmask_fromaggr(img_data, nuclei_obj) "
   ]
  },
  {
   "cell_type": "code",
   "execution_count": null,
   "metadata": {},
   "outputs": [],
   "source": [
    "\n",
    "viewer.add_image(\n",
    "    cellmask_\n",
    ")"
   ]
  },
  {
   "cell_type": "markdown",
   "metadata": {},
   "source": [
    "Write the `infer_cellmask_fromaggr` spec to the widget json"
   ]
  },
  {
   "attachments": {},
   "cell_type": "markdown",
   "metadata": {},
   "source": [
    "--------------------------\n",
    "\n",
    "# TEST `infer_cellmask_fromaggr` exported functions\n"
   ]
  },
  {
   "cell_type": "code",
   "execution_count": null,
   "metadata": {},
   "outputs": [],
   "source": [
    "from infer_subc_2d.organelles import fixed_infer_cellmask_fromaggr\n",
    "\n",
    "cellmask_mask =  fixed_infer_cellmask_fromaggr(img_data) "
   ]
  },
  {
   "attachments": {},
   "cell_type": "markdown",
   "metadata": {},
   "source": [
    "## Visualize  2\n"
   ]
  },
  {
   "cell_type": "code",
   "execution_count": null,
   "metadata": {},
   "outputs": [],
   "source": [
    "# viewer = napari.Viewer()\n",
    "\n",
    "viewer.scale_bar.visible = True\n",
    "\n",
    "viewer.add_labels(\n",
    "    cellmask_mask,\n",
    "    scale=scale,\n",
    "    blending='additive'\n",
    ")\n"
   ]
  },
  {
   "cell_type": "code",
   "execution_count": null,
   "metadata": {},
   "outputs": [],
   "source": [
    "\n",
    "from napari.utils.notebook_display import nbscreenshot\n",
    "\n",
    "# viewer.dims.ndisplay = 3\n",
    "# viewer.camera.angles = (-30, 25, 120)\n",
    "nbscreenshot(viewer, canvas_only=True)\n",
    "viewer.close()"
   ]
  },
  {
   "cell_type": "markdown",
   "metadata": {},
   "source": [
    "-------------\n",
    "## SUMMARY\n",
    "\n",
    "The above details how the nuclei object is inferred.  \n",
    "\n",
    "### NEXT: INFER CYTOSOL\n",
    "\n",
    "proceed to [03_infer_cytoplasm.ipynb](./03_infer_cytoplasm.ipynb)\n"
   ]
  }
 ],
 "metadata": {
  "kernelspec": {
   "display_name": "Python 3.9.13 ('napariNEW')",
   "language": "python",
   "name": "python3"
  },
  "language_info": {
   "codemirror_mode": {
    "name": "ipython",
    "version": 3
   },
   "file_extension": ".py",
   "mimetype": "text/x-python",
   "name": "python",
   "nbconvert_exporter": "python",
   "pygments_lexer": "ipython3",
   "version": "3.9.16"
  },
  "orig_nbformat": 4,
  "vscode": {
   "interpreter": {
    "hash": "d6148ef1fb015fb20f0b6da2ea61c87c6b848bdf3dabb03087e5d5cd0c4607e9"
   }
  }
 },
 "nbformat": 4,
 "nbformat_minor": 2
}
