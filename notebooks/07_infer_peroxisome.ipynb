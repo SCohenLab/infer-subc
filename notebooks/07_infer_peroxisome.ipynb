{
 "cells": [
  {
   "attachments": {},
   "cell_type": "markdown",
   "metadata": {},
   "source": [
    "# Infer ***peroxisome*** - part 7️⃣\n",
    "\n",
    "--------------\n",
    "OBJECTIVE:  ✅ Infer sub-cellular component ***peroxisome*** in order to understand interactome \n",
    "\n",
    "\n",
    "\n",
    "Dependencies:\n",
    "The ***peroxisome***  inference rely on the cytosol mask.\n"
   ]
  },
  {
   "attachments": {},
   "cell_type": "markdown",
   "metadata": {},
   "source": [
    "## preamble\n",
    "\n",
    "1. imports\n",
    "2. setup\n",
    "3. choose_Z\n",
    "4. get cellmask mask\n",
    "5. infer nuclei object  \n",
    "6. get cytosol mask"
   ]
  },
  {
   "cell_type": "markdown",
   "metadata": {},
   "source": [
    "\n",
    "## IMPORTS"
   ]
  },
  {
   "cell_type": "code",
   "execution_count": 6,
   "metadata": {},
   "outputs": [
    {
     "name": "stdout",
     "output_type": "stream",
     "text": [
      "The autoreload extension is already loaded. To reload it, use:\n",
      "  %reload_ext autoreload\n"
     ]
    }
   ],
   "source": [
    "# top level imports\n",
    "from pathlib import Path\n",
    "import os, sys\n",
    "from collections import defaultdict\n",
    "from typing import Optional\n",
    "\n",
    "import numpy as np\n",
    "\n",
    "from scipy import ndimage as ndi\n",
    "from aicssegmentation.core.seg_dot import dot_2d_slice_by_slice_wrapper\n",
    "\n",
    "from skimage.measure import label\n",
    "\n",
    "import napari\n",
    "\n",
    "### import local python functions in ../infer_subc_2d\n",
    "sys.path.append(os.path.abspath((os.path.join(os.getcwd(), '..'))))\n",
    "\n",
    "from infer_subc_2d.core.file_io import (read_czi_image,\n",
    "                                                                    read_ome_image,\n",
    "                                                                    export_inferred_organelle,\n",
    "                                                                    import_inferred_organelle,\n",
    "                                                                    list_image_files)\n",
    "\n",
    "from infer_subc_2d.core.img import *\n",
    "\n",
    "                                                                    \n",
    "from infer_subc_2d.organelles import fixed_infer_cellmask_fromaggr_MCZ, fixed_infer_nuclei, infer_cytoplasm\n",
    "\n",
    "\n",
    "%load_ext autoreload\n",
    "%autoreload 2\n",
    "\n"
   ]
  },
  {
   "cell_type": "code",
   "execution_count": 2,
   "metadata": {},
   "outputs": [],
   "source": [
    "# NOTE:  these \"constants\" are only accurate for the testing MCZ dataset\n",
    "from infer_subc_2d.constants import (TEST_IMG_N,\n",
    "                                                                    NUC_CH ,\n",
    "                                                                    LYSO_CH ,\n",
    "                                                                    MITO_CH ,\n",
    "                                                                    GOLGI_CH ,\n",
    "                                                                    PEROX_CH ,\n",
    "                                                                    ER_CH ,\n",
    "                                                                    LD_CH ,\n",
    "                                                                    RESIDUAL_CH )              "
   ]
  },
  {
   "attachments": {},
   "cell_type": "markdown",
   "metadata": {},
   "source": [
    "\n",
    "## SETUP"
   ]
  },
  {
   "cell_type": "code",
   "execution_count": 3,
   "metadata": {},
   "outputs": [],
   "source": [
    "# this will be the example image for testing the pipeline below\n",
    "test_img_n = TEST_IMG_N\n",
    "\n",
    "# build the datapath\n",
    "# all the imaging data goes here.\n",
    "data_root_path = Path(os.path.expanduser(\"~\")) / \"Projects/Imaging/data\"\n",
    "\n",
    "# linearly unmixed \".czi\" files are here\n",
    "in_data_path = data_root_path / \"raw\"\n",
    "im_type = \".czi\"\n",
    "\n",
    "# get the list of all files\n",
    "img_file_list = list_image_files(in_data_path,im_type)\n",
    "test_img_name = img_file_list[test_img_n]\n",
    "\n",
    "# save output \".tiff\" files here\n",
    "out_data_path = data_root_path / \"out\"\n",
    "\n",
    "if not Path.exists(out_data_path):\n",
    "    Path.mkdir(out_data_path)\n",
    "    print(f\"making {out_data_path}\")"
   ]
  },
  {
   "cell_type": "code",
   "execution_count": 4,
   "metadata": {},
   "outputs": [
    {
     "name": "stderr",
     "output_type": "stream",
     "text": [
      "/opt/anaconda3/envs/napariNEW/lib/python3.9/site-packages/ome_types/_convenience.py:106: FutureWarning: The default XML parser will be changing from 'xmlschema' to 'lxml' in version 0.4.0.  To silence this warning, please provide the `parser` argument, specifying either 'lxml' (to opt into the new behavior), or'xmlschema' (to retain the old behavior).\n",
      "  d = to_dict(os.fspath(xml), parser=parser, validate=validate)\n"
     ]
    }
   ],
   "source": [
    "img_data,meta_dict = read_czi_image(test_img_name)\n",
    "\n",
    "# get some top-level info about the RAW data\n",
    "channel_names = meta_dict['name']\n",
    "img = meta_dict['metadata']['aicsimage']\n",
    "scale = meta_dict['scale']\n",
    "channel_axis = meta_dict['channel_axis']\n"
   ]
  },
  {
   "attachments": {},
   "cell_type": "markdown",
   "metadata": {},
   "source": [
    "## GET CYTOSOL MASK\n"
   ]
  },
  {
   "cell_type": "code",
   "execution_count": 7,
   "metadata": {},
   "outputs": [
    {
     "name": "stdout",
     "output_type": "stream",
     "text": [
      "loaded cytosol mask from /Users/ahenrie/Projects/Imaging/data/out\n"
     ]
    }
   ],
   "source": [
    "# nuclei_fname = \"/Users/ahenrie/Projects/Imaging/data/out/nuclei_ZSTACK_PBTOhNGN2hiPSCs_BR3_N04_Unmixed.ome.tiff\"\n",
    "\n",
    "cytoplasm_mask = import_inferred_organelle(\"cytosol\", meta_dict, out_data_path)\n",
    "\n",
    "if cytoplasm_mask is None:\n",
    "    nuclei =  fixed_infer_nuclei(img_data) \n",
    "    cellmask = fixed_infer_cellmask_fromaggr_MCZ(img_data, nuclei)\n",
    "    nucleus_obj =  apply_mask(nuclei, cellmask) \n",
    "    cytoplasm_mask =  infer_cytoplasm(cellmask, nucleus_obj, erode_nuclei=False) \n",
    "    out_file_n = export_inferred_organelle(cytoplasm_mask, \"cytosol\", meta_dict, out_data_path)\n",
    "    print(f\"calculated cytosol mask. wrote {out_file_n}\")\n",
    "else:\n",
    "    print(f\"loaded cytosol mask from {out_data_path}\")\n"
   ]
  },
  {
   "attachments": {},
   "cell_type": "markdown",
   "metadata": {},
   "source": [
    "---------------------\n",
    "\n",
    "## infer ***golgi complex***\n",
    "\n",
    "## summary of steps \n",
    "\n",
    "INPUT\n",
    "- ch 4\n",
    "- cytosol mask\n",
    "\n",
    "PRE-PROCESSING\n",
    "-  MM scale\n",
    "-  G2 gaussian filter 2D \n",
    "   -  sigma = 1.\n",
    "\n",
    "CORE-PROCESSING\n",
    "- S2 - dot filter\n",
    "- W - watershed to disambiguate overlapping dots\n",
    "\n",
    "POST-PROCESSING\n",
    "  - S  - remove dots less than 2x2 pixels (area = 4)\n",
    "\n",
    "OUTPUT\n",
    "- object ***peroxisome*** \n",
    "\n",
    "\n",
    "\n",
    "Generally following the Allen Cell Segmenter procedure, but doing more aggressive contrast scaling than their prescribed contrast scaling.\n",
    "\n",
    "> PMP34 os  good start for Peroxisomes  as per from [Allen Cell](https://www.allencell.org/cell-observations/category/peroxisome)\n",
    "\n",
    "> [playground_dots.ipynb](https://github.com/AllenInstitute/aics-segmentation/blob/master/lookup_table_demo/playground_dots.ipynb)\n",
    "\n",
    "\n",
    "\n",
    "\n",
    ">#### ASIDE:  3D Spot filter (S3)\n",
    ">* Parameter syntax: `[[scale_1, cutoff_1], [scale_2, cutoff_2], ....]` \n",
    ">    * `scale_x` is set based on the estimated radius of your target dots. For example, if visually the diameter of the dots is usually 3~4 pixels, then you may want to set `scale_x` as `1` or something near `1` (like `1.25`). Multiple scales can be used, if you have dots of very different sizes.  \n",
    ">    * `cutoff_x` is a threshold applied on the actual filter reponse to get the binary result. Smaller `cutoff_x` may yielf more dots and fatter segmentation, while larger `cutoff_x` could be less permisive and yield less dots and slimmer segmentation. \n",
    ">* Parameter for PMP34:  `s3_param = [[1,0.03]]`\n"
   ]
  },
  {
   "attachments": {},
   "cell_type": "markdown",
   "metadata": {},
   "source": [
    "## INPUT prototype"
   ]
  },
  {
   "cell_type": "code",
   "execution_count": 8,
   "metadata": {},
   "outputs": [],
   "source": [
    "###################\n",
    "# INPUT\n",
    "###################\n",
    "raw_peroxi = select_channel_from_raw(img_data, PEROX_CH)\n"
   ]
  },
  {
   "attachments": {},
   "cell_type": "markdown",
   "metadata": {},
   "source": [
    "## PRE-PROCESSING prototype"
   ]
  },
  {
   "cell_type": "code",
   "execution_count": 9,
   "metadata": {},
   "outputs": [],
   "source": [
    "###################\n",
    "# PRE_PROCESSING\n",
    "###################\n",
    "median_sz = 0\n",
    "gauss_sig = 3.0\n",
    "\n",
    "struct_img =  scale_and_smooth(raw_peroxi,\n",
    "                                                    median_sz = median_sz, \n",
    "                                                    gauss_sig = gauss_sig)"
   ]
  },
  {
   "attachments": {},
   "cell_type": "markdown",
   "metadata": {},
   "source": [
    "## CORE PROCESSING prototype"
   ]
  },
  {
   "cell_type": "code",
   "execution_count": 10,
   "metadata": {},
   "outputs": [],
   "source": [
    "###################\n",
    "# CORE_PROCESSING\n",
    "###################\n",
    "\n",
    "################################\n",
    "## PARAMETERS for this step ##\n",
    "dot_2d_sigma = 1\n",
    "dot_2d_cutoff = 0.01\n",
    "s2_param = [[dot_2d_sigma,dot_2d_cutoff]]\n",
    "################################\n",
    "bw = dot_2d_slice_by_slice_wrapper(struct_img, s2_param)"
   ]
  },
  {
   "attachments": {},
   "cell_type": "markdown",
   "metadata": {},
   "source": [
    "## POST-PROCESSING prototype\n",
    "\n",
    "> NOTE:  AllenCell Segmenter suggests using a masked watershed to disambiguate overlapping peroxisome, but it is depricated here as our contrast/separation is pretty good."
   ]
  },
  {
   "cell_type": "code",
   "execution_count": 11,
   "metadata": {},
   "outputs": [],
   "source": [
    "\n",
    "###################\n",
    "# POST_PROCESSING\n",
    "###################\n",
    "\n",
    "small_object_width = 2 \n",
    "peroxi_object = size_filter_linear_size(bw, \n",
    "                                                min_size= small_object_width)"
   ]
  },
  {
   "cell_type": "markdown",
   "metadata": {},
   "source": [
    "#### Visualize with `napari`\n",
    "Visualize the first-pass segmentation and labeling with `napari`."
   ]
  },
  {
   "cell_type": "code",
   "execution_count": 12,
   "metadata": {},
   "outputs": [],
   "source": [
    "viewer = napari.Viewer()\n"
   ]
  },
  {
   "cell_type": "code",
   "execution_count": 14,
   "metadata": {},
   "outputs": [
    {
     "data": {
      "text/plain": [
       "<Image layer 'bw' at 0x16a999ac0>"
      ]
     },
     "execution_count": 14,
     "metadata": {},
     "output_type": "execute_result"
    }
   ],
   "source": [
    "\n",
    "\n",
    "viewer.add_image(\n",
    "    peroxi_object,\n",
    ")\n",
    "\n",
    "viewer.scale_bar.visible = True\n",
    "viewer.add_image(\n",
    "    struct_img\n",
    ")\n",
    "viewer.add_image(\n",
    "    bw,\n",
    ")\n"
   ]
  },
  {
   "attachments": {},
   "cell_type": "markdown",
   "metadata": {},
   "source": [
    "## DEFINE `infer_perox` function\n",
    "\n",
    "Based on the _prototyping_ above define the function to infer the peroxisome.  \n"
   ]
  },
  {
   "cell_type": "code",
   "execution_count": 19,
   "metadata": {},
   "outputs": [],
   "source": [
    "##########################\n",
    "#  infer_perox\n",
    "##########################\n",
    "def _infer_perox( in_img: np.ndarray,\n",
    "                                gauss_sig: float,\n",
    "                                dot_scale: float,\n",
    "                                dot_cut: float,\n",
    "                                small_obj_w: int,\n",
    "                            ) -> np.ndarray:\n",
    "    \"\"\"\n",
    "    Procedure to infer peroxisome from linearly unmixed input.\n",
    "\n",
    "   Parameters\n",
    "    ------------\n",
    "    in_img: \n",
    "        a 3d image containing all the channels\n",
    "    gauss_sig: \n",
    "        sigma for gaussian smoothing of  signal\n",
    "    dot_scale: \n",
    "        scales (log_sigma) for dot filter (1,2, and 3)\n",
    "    dot_cut: \n",
    "        threshold for dot filter thresholds (1,2,and 3)\n",
    "    small_obj_w: \n",
    "        minimu object size cutoff for nuclei post-processing\n",
    " \n",
    "    Returns\n",
    "    -------------\n",
    "    peroxi_object\n",
    "        mask defined extent of peroxisome object\n",
    "    \"\"\"\n",
    "    peroxi_ch = PEROX_CH\n",
    "    ###################\n",
    "    # EXTRACT\n",
    "    ###################    \n",
    "    peroxi = select_channel_from_raw(in_img, peroxi_ch)\n",
    "\n",
    "    ###################\n",
    "    # PRE_PROCESSING\n",
    "    ###################    \n",
    "    peroxi =  scale_and_smooth(peroxi,\n",
    "                                                    median_sz = 0,            #skips for median_sz < 2\n",
    "                                                    gauss_sig = gauss_sig)\n",
    "\n",
    "   ###################\n",
    "    # CORE_PROCESSING\n",
    "    ###################\n",
    "    s3_param = [[dot_scale,dot_cut]]\n",
    "    bw = dot_2d_slice_by_slice_wrapper(peroxi, s3_param)\n",
    "\n",
    "    ###################\n",
    "    # POST_PROCESSING\n",
    "    ###################\n",
    "    struct_obj = size_filter_linear_size(bw, \n",
    "                                                min_size= small_obj_w, \n",
    "                                                connectivity=1)\n",
    "\n",
    "\n",
    "    return struct_obj"
   ]
  },
  {
   "attachments": {},
   "cell_type": "markdown",
   "metadata": {},
   "source": [
    "## DEFINE `_fixed_infer_perox` function\n"
   ]
  },
  {
   "cell_type": "code",
   "execution_count": 20,
   "metadata": {},
   "outputs": [],
   "source": [
    "\n",
    "##########################\n",
    "#  fixed_infer_perox\n",
    "##########################\n",
    "def _fixed_infer_perox(in_img: np.ndarray) -> np.ndarray:\n",
    "    \"\"\"\n",
    "    Procedure to infer peroxisome from linearly unmixed input with fixed parameters.\n",
    "\n",
    "   Parameters\n",
    "    ------------\n",
    "    in_img: np.ndarray\n",
    "        a 3d image containing all the channels\n",
    "        \n",
    "    Returns\n",
    "    -------------\n",
    "    peroxi_object\n",
    "        mask defined extent of peroxisome object\n",
    "    \"\"\"\n",
    "    gauss_sig = 3.\n",
    "    dot_scale = 1.0\n",
    "    dot_cut = 0.01\n",
    "    small_obj_w = 2\n",
    "\n",
    "    return _infer_perox(in_img,\n",
    "                                    gauss_sig,\n",
    "                                    dot_scale,\n",
    "                                    dot_cut,\n",
    "                                    small_obj_w,\n",
    "                                )\n"
   ]
  },
  {
   "cell_type": "markdown",
   "metadata": {},
   "source": [
    "# TEST  `_infer_perox` function"
   ]
  },
  {
   "cell_type": "code",
   "execution_count": 21,
   "metadata": {},
   "outputs": [],
   "source": [
    "_peroxi_object =  _fixed_infer_perox(img_data) \n"
   ]
  },
  {
   "cell_type": "code",
   "execution_count": 23,
   "metadata": {},
   "outputs": [],
   "source": [
    "from infer_subc_2d.organelles import infer_perox, fixed_infer_perox \n",
    "\n",
    "peroxi_object =  fixed_infer_perox(img_data) \n"
   ]
  },
  {
   "attachments": {},
   "cell_type": "markdown",
   "metadata": {},
   "source": [
    "## Visualize  2\n"
   ]
  },
  {
   "cell_type": "code",
   "execution_count": 24,
   "metadata": {},
   "outputs": [
    {
     "data": {
      "text/plain": [
       "<Labels layer 'Labels' at 0x160812070>"
      ]
     },
     "execution_count": 24,
     "metadata": {},
     "output_type": "execute_result"
    }
   ],
   "source": [
    "\n",
    "viewer.add_image(\n",
    "    peroxi_object)\n",
    "\n",
    "viewer.add_image(\n",
    "    _peroxi_object)\n",
    "\n",
    "viewer.add_labels(\n",
    "    label(peroxi_object))"
   ]
  },
  {
   "cell_type": "code",
   "execution_count": 26,
   "metadata": {},
   "outputs": [
    {
     "data": {
      "image/png": "[encoded data removed]",
      "text/html": [
       "<img src=\"data:image/png;base64,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\"></img>"
      ],
      "text/plain": [
       "<napari.utils.notebook_display.NotebookScreenshot at 0x16b6a7670>"
      ]
     },
     "execution_count": 26,
     "metadata": {},
     "output_type": "execute_result"
    }
   ],
   "source": [
    "from napari.utils.notebook_display import nbscreenshot\n",
    "\n",
    "# viewer.dims.ndisplay = 3\n",
    "# viewer.camera.angles = (-30, 25, 120)\n",
    "nbscreenshot(viewer, canvas_only=True)"
   ]
  },
  {
   "cell_type": "code",
   "execution_count": 27,
   "metadata": {},
   "outputs": [],
   "source": [
    "viewer.close()"
   ]
  },
  {
   "attachments": {},
   "cell_type": "markdown",
   "metadata": {},
   "source": [
    "-------------\n",
    "## SUMMARY\n",
    "\n",
    "The above details how the peroxisome object is inferred.  \n",
    "\n",
    "### NEXT: INFER ENDOPLASMIC RETICULUM\n",
    "\n",
    "proceed to [08_infer_ER.ipynb](./08_infer_ER.ipynb)\n"
   ]
  },
  {
   "cell_type": "code",
   "execution_count": null,
   "metadata": {},
   "outputs": [],
   "source": []
  }
 ],
 "metadata": {
  "kernelspec": {
   "display_name": "Python 3.9.13 ('napariNEW')",
   "language": "python",
   "name": "python3"
  },
  "language_info": {
   "codemirror_mode": {
    "name": "ipython",
    "version": 3
   },
   "file_extension": ".py",
   "mimetype": "text/x-python",
   "name": "python",
   "nbconvert_exporter": "python",
   "pygments_lexer": "ipython3",
   "version": "3.9.16"
  },
  "orig_nbformat": 4,
  "vscode": {
   "interpreter": {
    "hash": "d6148ef1fb015fb20f0b6da2ea61c87c6b848bdf3dabb03087e5d5cd0c4607e9"
   }
  }
 },
 "nbformat": 4,
 "nbformat_minor": 2
}
