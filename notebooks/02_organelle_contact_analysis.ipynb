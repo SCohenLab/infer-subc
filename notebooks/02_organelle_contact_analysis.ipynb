{
 "cells": [
  {
   "cell_type": "markdown",
   "metadata": {},
   "source": [
    "# ORGANELLE CONTACT ANALYSIS\n",
    "\n",
    "-------\n",
    "\n",
    "## OBJECTIVE:\n",
    "In this notebook, the logic for determining locations of contacts between 2 or more organelles is outlined. Additionally, the logic for quantifying organelle contact composition (how much of each contact is present) and morphology (contact site size and shape) is outlined as well. Here, we begin with a walkthrough of how the workflow completes 2-way contacts, then proceed to more complex n-way contacts. "
   ]
  },
  {
   "cell_type": "markdown",
   "metadata": {},
   "source": [
    "## SUMMARY OF WORKFLOW STEPS:\n",
    " - Inputs\n",
    "    - Get and Load image and its segmentations\n",
    "    - Save segmentations to a dictionary\n",
    "    - Create overlap regions dictionary\n",
    " - Run Analysis \n",
    "    - Regionprops\n",
    "    - Distribution"
   ]
  },
  {
   "cell_type": "markdown",
   "metadata": {},
   "source": [
    "## IMPORTS:"
   ]
  },
  {
   "cell_type": "code",
   "execution_count": null,
   "metadata": {},
   "outputs": [],
   "source": [
    "import warnings\n",
    "import numpy as np\n",
    "from typing import Any, List, Union\n",
    "import pandas as pd\n",
    "from IPython.display import display\n",
    "from pathlib import Path\n",
    "import os, sys\n",
    "import itertools \n",
    "\n",
    "from skimage.measure import regionprops_table, label\n",
    "from skimage.segmentation import watershed\n",
    "\n",
    "from infer_subc.core.file_io import read_czi_image, read_tiff_image\n",
    "from infer_subc.core.img import apply_mask\n",
    "from infer_subc.utils.batch import list_image_files, find_segmentation_tiff_files\n",
    "from infer_subc.utils.stats import surface_area_from_props, get_XY_distribution, get_Z_distribution\n",
    "from infer_subc.utils.stats_helpers import inkeys\n",
    "\n",
    "from infer_subc.constants import (TEST_IMG_N,\n",
    "                                  NUC_CH ,\n",
    "                                  LYSO_CH ,\n",
    "                                  MITO_CH ,\n",
    "                                  GOLGI_CH ,\n",
    "                                  PEROX_CH ,\n",
    "                                  ER_CH ,\n",
    "                                  LD_CH ,\n",
    "                                  RESIDUAL_CH )\n",
    "\n",
    "#For Convexhull Errors\n",
    "warnings.simplefilter(\"ignore\", UserWarning)\n",
    "warnings.simplefilter(\"ignore\", RuntimeWarning)"
   ]
  },
  {
   "cell_type": "markdown",
   "metadata": {},
   "source": [
    "## INPUTS:\n",
    "Load image and segmentations and save segmentations to a dictionary. Using these segmentations, overlaps between 2 or more segmentations are performed and added to their own dictionary."
   ]
  },
  {
   "cell_type": "markdown",
   "metadata": {},
   "source": [
    "### User Inputs"
   ]
  },
  {
   "cell_type": "markdown",
   "metadata": {},
   "source": [
    "##### Image Path\n",
    "Here, the user should edit any of the values to correctly access the folder containing the __RAW__ image files. The naming of this file will then be used later to collect the corresponding segmentation files."
   ]
  },
  {
   "cell_type": "code",
   "execution_count": null,
   "metadata": {},
   "outputs": [],
   "source": [
    "test_img_n = 0\n",
    "\n",
    "data_root_path = Path(os.path.expanduser(\"~\")) / \"Documents/Python Scripts/Infer-subc-2D\"\n",
    "\n",
    "in_data_path = data_root_path / \"raw/shannon\"\n",
    "seg_path = data_root_path/\"out\"\n",
    "seg_suffix = \"-\"\n",
    "im_type = \".tiff\"\n",
    "\n",
    "img_file_list = list_image_files(in_data_path,im_type)\n",
    "test_img_name = img_file_list[test_img_n]\n",
    "\n",
    "out_data_path = data_root_path / \"out\"\n",
    "if not Path.exists(out_data_path):\n",
    "    Path.mkdir(out_data_path)\n",
    "    print(f\"making {out_data_path}\")"
   ]
  },
  {
   "cell_type": "code",
   "execution_count": null,
   "metadata": {},
   "outputs": [],
   "source": [
    "img_data,meta_dict = read_czi_image(test_img_name)\n",
    "\n",
    "channel_names = meta_dict['name']\n",
    "img = meta_dict['metadata']['aicsimage']\n",
    "scale = meta_dict['scale']\n",
    "channel_axis = meta_dict['channel_axis']"
   ]
  },
  {
   "cell_type": "markdown",
   "metadata": {},
   "source": [
    "##### Function Inputs\n",
    "These are inputs that will be entered into the main function by the user. These should be changed to properly represent the user's image."
   ]
  },
  {
   "cell_type": "code",
   "execution_count": null,
   "metadata": {},
   "outputs": [],
   "source": [
    "org_names = ['LD', 'ER', 'golgi', 'lyso', 'mito', 'perox']\n",
    "masks_file_name= ['nuc', 'cell']\n",
    "mask = 'cell'\n",
    "splitter = \"_\"\n",
    "include_contact_dist = True\n",
    "dist_centering_obj = 'nuc'\n",
    "dist_center_on = False\n",
    "dist_keep_center_as_bin = True\n",
    "dist_num_bins = 5\n",
    "dist_zernike_degrees=None"
   ]
  },
  {
   "cell_type": "markdown",
   "metadata": {},
   "source": [
    "### Collecting All Organelle Segmentations and Region/Mask Segmentations\n",
    "These inputs are NOT meant to be changed. These will be used by the program to collect the segmentations based off of the inputs from above and used furtherdown in the pipeline."
   ]
  },
  {
   "cell_type": "code",
   "execution_count": null,
   "metadata": {},
   "outputs": [],
   "source": [
    "org_segs = [read_tiff_image(find_segmentation_tiff_files(test_img_name, (org_names + masks_file_name), seg_path, seg_suffix)[org]) for org in org_names]\n",
    "region_segs=[read_tiff_image(find_segmentation_tiff_files(test_img_name, (org_names + masks_file_name), seg_path, seg_suffix)[masks_file_name[0]]), read_tiff_image(find_segmentation_tiff_files(test_img_name, (org_names + masks_file_name), seg_path, seg_suffix)[masks_file_name[1]])]\n",
    "mask = region_segs[masks_file_name.index(mask)]\n",
    "center_obj = region_segs[masks_file_name.index(dist_centering_obj)]"
   ]
  },
  {
   "cell_type": "markdown",
   "metadata": {},
   "source": [
    "### Make Dictionaries\n",
    "These inputs are NOT meant to be changed and are not user facing.\n",
    "\n",
    "Here we will convert the input list of __organelle segmentations__ and the input list of __organelle names__ into a ***labeled*** dictionary. \n",
    "\n",
    "The ***labeled*** format treats the locations of the organelles in the image as positive integers with each different organelle within the organelle type having a different integer value assigned to it; meanwhile, the space without the organelle is assigned 0s. "
   ]
  },
  {
   "cell_type": "code",
   "execution_count": null,
   "metadata": {},
   "outputs": [],
   "source": [
    "organelle_segs = {}                                                       #Initialize dictionary\n",
    "for idx, name in enumerate(org_names):                                  #Loop across each organelle name\n",
    "    if name == 'ER':                                                    #Proceed only for ER\n",
    "        organelle_segs[name]=(org_segs[idx]>0).astype(np.uint16)          #Ensures ER is labeled only as one object & sets it as key for its object segmentation\n",
    "    else:                                                               #Proceed for other organelles\n",
    "        organelle_segs[name]=org_segs[idx]                                #Set the organelle name as the key for the corresponding object segmentation"
   ]
  },
  {
   "cell_type": "markdown",
   "metadata": {},
   "source": [
    "## 2-Way Contact Workflow\n",
    "First, we will run through how the workflow determines 2-Way contacts. In the final take of this function, all contacts, including n-way contacts will be analyzed.\n",
    "\n",
    "### Inputs\n",
    "\n",
    "#### Choose a 2-Way Contact\n",
    "Due to this function being designed around only functioning for a single contact site given by a string, __users should input__ the desired 2-Way contact to analyze here. \n",
    "\n",
    "The format for the contact site string is as follows:\n",
    "<br>\n",
    "`organelle 1` + `splitter` + `organelle 2`\n",
    "\n",
    "For example, if the desired contact site is between the _endoplasmic reticulum_ and _peroxisomes_, and in the above block of code the _endoplasmic reticulum_ is set equal to _`ER`_, the _splitter_ is listed as _`_`_, and _peroxisomes_ are set equal to _`perox`_ in the above block of code, the contact site string would be as follows:\n",
    "<br>\n",
    "`ER_perox`\n"
   ]
  },
  {
   "cell_type": "code",
   "execution_count": null,
   "metadata": {},
   "outputs": [],
   "source": [
    "orgs = \"ER_perox\""
   ]
  },
  {
   "cell_type": "markdown",
   "metadata": {},
   "source": [
    "#### Make 2-Way Contacts \n",
    "Here we are creating a contact site between the selected organelles. The method for creating pairwise contacts like this will be expanded upon to make nth order contacts. These inputs are NOT meant to be changed and are not user facing."
   ]
  },
  {
   "cell_type": "code",
   "execution_count": null,
   "metadata": {},
   "outputs": [],
   "source": [
    "site = organelle_segs[orgs.split(splitter)[0]] * organelle_segs[orgs.split(splitter)[1]]"
   ]
  },
  {
   "cell_type": "markdown",
   "metadata": {},
   "source": [
    "### RUN ANALYSIS:\n",
    "Here the data from the above inputs are analyzed to find everything we can about the contacts from regionprops measurements to the original organelles and their numbers' involved in the contacts to even the distribution of the contacts."
   ]
  },
  {
   "cell_type": "markdown",
   "metadata": {},
   "source": [
    "#### Find Contacts Involved in Higher Order (3-Way) Contacts\n",
    "Here, higher order contacts of the 2-Way contact sites are found. In the case of 2-way contacts, the ones looked at are 3-Way contacts. These are overlapping regions between the 2-way contact site and a organelle not involved in the original contact. This data is then used to determine which 2-Way contacts are also involved in 3-Way or even higher order contacts. \n",
    "\n",
    "To find these higher order contacts, we iterate across each of the organelles we have segmentations for. Then, for each organelle we have segmentations for, if they are not present in the original 2-Way contact, we find the contacts between the 2-Way contact and the organelle and use the image to watershed onto the 2-Way contact image. Using the watershed, we take the area that has been filled and remove it from the Higher Order Contact version of the 2-Way contact's site variable."
   ]
  },
  {
   "cell_type": "code",
   "execution_count": null,
   "metadata": {},
   "outputs": [],
   "source": [
    "HOc = site.copy()\n",
    "for org, val in organelle_segs.items():\n",
    "    if (org not in orgs.split(splitter)) and np.any(site*val):\n",
    "        HOc = HOc*(np.invert(watershed(image=(np.invert(site)),\n",
    "                                       markers=(site*val),\n",
    "                                       mask=site,\n",
    "                                       connectivity=np.ones((3, 3, 3), bool))>0))"
   ]
  },
  {
   "cell_type": "markdown",
   "metadata": {},
   "source": [
    "#### Isolate Images To Within the Cell\n",
    "Here, we ensure that we are only taking measurements from within the cellmask. This means applying the mask to both the 2-Way contact image and the version of the 2-Way contact image that only contains non-redundant contact sites."
   ]
  },
  {
   "cell_type": "code",
   "execution_count": null,
   "metadata": {},
   "outputs": [],
   "source": [
    "labels = label(apply_mask(site, mask)).astype(\"int\")    #Isolate to only contact sites found within the cell of interest\n",
    "para_labels = apply_mask((HOc>0), mask).astype(\"int\") * labels #copy labels found in labels to para_labels"
   ]
  },
  {
   "cell_type": "markdown",
   "metadata": {},
   "source": [
    "#### Create List of Regionprops Measurements And Run Regionprops\n",
    "Here, a table is created using the regionprops measurements for the contact site."
   ]
  },
  {
   "cell_type": "code",
   "execution_count": null,
   "metadata": {},
   "outputs": [],
   "source": [
    "##########################################\n",
    "## CREATE LIST OF REGIONPROPS MEASUREMENTS\n",
    "##########################################\n",
    "# start with LABEL\n",
    "properties = [\"label\"]\n",
    "\n",
    "# add position\n",
    "properties = properties + [\"centroid\", \"bbox\"]\n",
    "\n",
    "# add area\n",
    "properties = properties + [\"area\", \"equivalent_diameter\"] # \"num_pixels\", \n",
    "\n",
    "# add shape measurements\n",
    "properties = properties + [\"extent\", \"euler_number\", \"solidity\", \"axis_major_length\", \"slice\"] # \"feret_diameter_max\", \"axis_minor_length\", \n",
    "\n",
    "##################\n",
    "## RUN REGIONPROPS\n",
    "##################\n",
    "props = regionprops_table(labels, intensity_image=None, properties=properties, extra_properties=None, spacing=scale)"
   ]
  },
  {
   "cell_type": "markdown",
   "metadata": {},
   "source": [
    "#### Add Surface Area Columns to Data Table\n",
    "This function adds the surface area of the contact. Viewing the two involved organelles as circles in a venn-diagram and the contact as the overlapping area, the surface area is the part of each circle's surface that is inside of the other circle."
   ]
  },
  {
   "cell_type": "code",
   "execution_count": null,
   "metadata": {},
   "outputs": [],
   "source": [
    "surface_area_tab = pd.DataFrame(surface_area_from_props(labels, props, scale))"
   ]
  },
  {
   "cell_type": "markdown",
   "metadata": {},
   "source": [
    "#### Determine Organelles Involved in Contact and Organelle's Labels\n",
    "This section of code enables the determination of which organelle label of each organelle involved in the contact is present in the contact. For example, if peroxisome # 6 was involved in a contact with the ER, the contact would be listed as \"ER_perox\" and the label for the contact would be listed as 1_6. \n",
    "\n",
    "Additionally, this section of code also determines whether or not the contact is involved in a higher order contact, and lists it as redundant if it is. This means, that any contact that is of the highest order is listed as non-redundant. This does not remove redundant contacts from analysis--it only provides additional context to the data."
   ]
  },
  {
   "cell_type": "code",
   "execution_count": null,
   "metadata": {},
   "outputs": [],
   "source": [
    "cont_inv = []                                               #initializes a variable to be used for creating the values for the contacts in the dictionary\n",
    "                                                                  #   This variable is a list of the labels of each organelle involved in one contact site between those organelles\n",
    "involved = orgs.split(splitter)                             #creates list of all involved organelles in the contact\n",
    "indexes = dict.fromkeys(involved, [])                       #A dictionary of indexes of site involved in the contact\n",
    "indexes[orgs] = []                                           #   str = \"contact\" or \"organelle\", may have multiple different organelles\n",
    "                                                                  #   list = contact or organelle number in image corresponding to the same contact in the other keys\n",
    "                                                                #   a 2-way contact will have 3 keys, a 3-way contact will have 4 keys, etc\n",
    "redundancy = []\n",
    "for index, l in enumerate(props[\"label\"]):\n",
    "    cont_inv.clear()                                        #clears cont_inv variable of any labels from past contact site for new contact site\n",
    "    present = para_labels[props[\"slice\"][index]]            #examines contact site to find if it is present in a higher order contact or not\n",
    "    present = present==l\n",
    "    redundant = not np.any(present)\n",
    "    redundancy.append(redundant)\n",
    "    for org in involved:                                    #iterates across list of involved organelles\n",
    "        volume = labels[props[\"slice\"][index]]\n",
    "        lorg = organelle_segs[org][props[\"slice\"][index]]\n",
    "        volume = volume==l\n",
    "        lorg = lorg[volume]\n",
    "        all_inv = np.unique(lorg[lorg>0]).tolist()\n",
    "        if len(all_inv) != 1:                               #ensures only one label is involved in the contact site\n",
    "            print(f\"we have an error.  as-> {all_inv}\")     #informs the console of any errors and the reasoing for it\n",
    "        indexes[org].append(f\"{all_inv[0]}\")                #adds the label of the organelle involved in the contact to the organelle's key's list\n",
    "        cont_inv.append(f\"{all_inv[0]}\")                    #adds the label of the organelle involved in the contact to the list of involved organelle labels\n",
    "    indexes[orgs].append(\"_\".join(cont_inv))                #adds the combination of all the organelle's labels involved in the contact to the contact key's list"
   ]
  },
  {
   "cell_type": "markdown",
   "metadata": {},
   "source": [
    "#### Combine the Datatables\n",
    "Here, all of the individual datatables created to examine the contacts data present are combined into one data table for export."
   ]
  },
  {
   "cell_type": "code",
   "execution_count": null,
   "metadata": {},
   "outputs": [],
   "source": [
    "props_table = pd.DataFrame(props)\n",
    "props_table.drop(columns=['slice', 'label'], inplace=True)\n",
    "props_table.insert(0, 'label',value=indexes[orgs])\n",
    "props_table.insert(0, \"object\", orgs)\n",
    "props_table.rename(columns={\"area\": \"volume\"}, inplace=True)\n",
    "props_table.insert(11, \"surface_area\", surface_area_tab)\n",
    "props_table.insert(13, \"SA_to_volume_ratio\", \n",
    "props_table[\"surface_area\"].div(props_table[\"volume\"]))\n",
    "if scale is not None:\n",
    "    round_scale = (round(scale[0], 4), round(scale[1], 4), round(scale[2], 4))\n",
    "    props_table.insert(loc=2, column=\"scale\", value=f\"{round_scale}\")\n",
    "else: \n",
    "    props_table.insert(loc=2, column=\"scale\", value=f\"{tuple(np.ones(labels.ndim))}\") \n",
    "props_table[\"redundant\"] = redundancy"
   ]
  },
  {
   "cell_type": "markdown",
   "metadata": {},
   "source": [
    "Here, we can view the results of the analysis performed for the contacts thus far."
   ]
  },
  {
   "cell_type": "code",
   "execution_count": null,
   "metadata": {},
   "outputs": [],
   "source": [
    "display(props_table)"
   ]
  },
  {
   "cell_type": "markdown",
   "metadata": {},
   "source": [
    "#### Calculate Distribution of Measurements\n",
    "This section of code performs analysis on the distribution measurements of the contacts. It is entirely optional and whether it is performed or not is determined in the user inputs earlier on in this notebook. \n",
    "\n",
    "This section of code will additional combine the distribution measurements into a separate table for export."
   ]
  },
  {
   "cell_type": "code",
   "execution_count": null,
   "metadata": {},
   "outputs": [],
   "source": [
    "if include_contact_dist:\n",
    "    XY_contact_dist, XY_bins, XY_wedges = get_XY_distribution(mask=mask, \n",
    "                                                              obj=site,\n",
    "                                                              obj_name=orgs,\n",
    "                                                              centering_obj=center_obj,\n",
    "                                                              scale=scale,\n",
    "                                                              center_on=dist_center_on,\n",
    "                                                              keep_center_as_bin=dist_keep_center_as_bin,\n",
    "                                                              num_bins=dist_num_bins,\n",
    "                                                              zernike_degrees=dist_zernike_degrees)\n",
    "          \n",
    "    Z_contact_dist = get_Z_distribution(mask=mask,\n",
    "                                        obj=site,\n",
    "                                        obj_name=orgs,\n",
    "                                        center_obj=center_obj,\n",
    "                                        scale=scale)\n",
    "    contact_dist_tab = pd.merge(XY_contact_dist, Z_contact_dist, on=[\"object\", \"scale\"])\n",
    "    dist_tabs.append(contact_dist_tab)\n",
    "indexes.clear()\n",
    "combined_dist_tab = pd.concat(dist_tabs, ignore_index=True)\n",
    "combined_dist_tab.insert(loc=0,column='image_name',value=test_img_name.stem)"
   ]
  },
  {
   "cell_type": "markdown",
   "metadata": {},
   "source": [
    "Here, we can view the distribution metrics created by the above block of code. \n",
    "\n",
    ">NOTE: If include_contact_dist is False, the following code will produce an error as there will be no data to display."
   ]
  },
  {
   "cell_type": "code",
   "execution_count": null,
   "metadata": {},
   "outputs": [],
   "source": [
    "display(combined_dist_tab)"
   ]
  },
  {
   "cell_type": "markdown",
   "metadata": {},
   "source": [
    "## N-Way Contact Workflow\n",
    "First, we will run through how the workflow determines 2-Way contacts. In the final take of this function, all contacts, including n-way contacts will be analyzed.\n",
    "\n",
    "### Inputs\n",
    "\n",
    "#### Choose an N-Way Contact\n",
    "Due to this function being designed around only functioning for a single contact site given by a string, __users should input__ their desired n-Way contact to analyze here. \n",
    "\n",
    "The format for the contact site string is as follows:\n",
    "<br>\n",
    "`organelle 1` + `splitter` + `organelle 2` + `splitter` + `organelle 3` + ...\n",
    "\n",
    "For example, if the desired contact site is between the _endoplasmic reticulum_, _peroxisomes_, and _mitochondria_ and in the earlier input block of code the _endoplasmic reticulum_ is set equal to _`ER`_, the _splitter_ is listed as _`_`_, _peroxisomes_ are set equal to _`perox`_, and _mitochondria_ are set equal to _`mito`_, the contact site string would be as follows:\n",
    "<br>\n",
    "`ER_perox_mito`\n"
   ]
  },
  {
   "cell_type": "code",
   "execution_count": null,
   "metadata": {},
   "outputs": [],
   "source": [
    "orgs = \"ER_perox_mito\""
   ]
  },
  {
   "cell_type": "markdown",
   "metadata": {},
   "source": [
    "#### Make N-Way Contacts \n",
    "Here we are creating a contact site between the selected organelles. The method for creating pairwise contacts from earlier is expanded upon here. Previously, the method directly selected the organelles involved; however, when analyzing a variable number of contacts it is not possible to directly call upon what you want so instead we use a for loop. These inputs are NOT meant to be changed and are not user facing."
   ]
  },
  {
   "cell_type": "code",
   "execution_count": null,
   "metadata": {},
   "outputs": [],
   "source": [
    "site = np.ones_like(organelle_segs[orgs.split(splitter)[0]])\n",
    "for org in orgs.split(splitter):\n",
    "    site = site*(organelle_segs[org]>0)"
   ]
  },
  {
   "cell_type": "markdown",
   "metadata": {},
   "source": [
    "### Get the Contact Metrics for Chosen n-Way Contact\n",
    "This will allow us to analyze and obtain numerical data from the image and the contacts between organelles present in it. This is run in a loop across each organelle in practice, but here we are only running it across a single organelle to help break down the concepts of what is happening. "
   ]
  },
  {
   "cell_type": "code",
   "execution_count": null,
   "metadata": {},
   "outputs": [],
   "source": [
    "site = contacts[orgs]\n",
    "para = HO_conts[orgs]\n",
    "dist_tabs =[]\n",
    "labels = label(apply_mask(site, mask))    #Isolate to only contact sites found within the cell of interest\n",
    "para_labels = apply_mask((para>0), mask).astype(\"int\") * labels #copy labels found in labels to para_labels"
   ]
  },
  {
   "cell_type": "markdown",
   "metadata": {},
   "source": [
    "## DEFINE FUNCTIONS:\n",
    "This section creates new functions that should run the contact metrics. These functions are based on the code from above."
   ]
  },
  {
   "cell_type": "markdown",
   "metadata": {},
   "source": [
    "### Make Dictionary\n",
    "Creates a dictionary of all organelle segmentations with their keys assigned to their names"
   ]
  },
  {
   "cell_type": "code",
   "execution_count": null,
   "metadata": {},
   "outputs": [],
   "source": [
    "def _make_dict(obj_names: list[str],                                        #Intakes list of object names\n",
    "               obj_segs: list[np.ndarray]):                                 #Intakes list of object segmentations\n",
    "    objs_labeled = {}                                                       #Initialize dictionary\n",
    "    for idx, name in enumerate(obj_names):                                  #Loop across each organelle name\n",
    "        if name == 'ER':                                                    #Proceed only for ER\n",
    "            objs_labeled[name]=(obj_segs[idx]>0).astype(np.uint16)          #Ensures ER is labeled only as one object & sets it as key for its object segmentation\n",
    "        else:                                                               #Proceed for other organelles\n",
    "            objs_labeled[name]=obj_segs[idx]                                #Set the organelle name as the key for the corresponding object segmentation\n",
    "    return objs_labeled                                                 #Return a dictionary of segmented objects with keys as the organelle name\n"
   ]
  },
  {
   "cell_type": "markdown",
   "metadata": {},
   "source": [
    "### Make Contacting Function\n",
    "Using the logic from the above 2-Way Contacts method and n-Way Contacts method, a new function capable of making contacts between n number of organelles is created."
   ]
  },
  {
   "cell_type": "code",
   "execution_count": null,
   "metadata": {},
   "outputs": [],
   "source": [
    "def _contacting(segs: dict[str], \n",
    "               iterated:dict[str],\n",
    "               splitter:str=\"_\") -> dict:\n",
    "    conts = {} \n",
    "    for a in iterated:                                                                  #Iterates through preexisting dictionary of contact sites\n",
    "        for b in segs:                                                                #Iterates through labeled organelles list (b)\n",
    "            if(np.any(((iterated[a]>0)*(segs[b]>0))>0) and not (a==b) and not         #Proceeds if there is a contact between the lower order contact and the other organelle\n",
    "               ((b+splitter in a)or(splitter+b in a)or(splitter+b+splitter in a)) and   #Proceeds if organelle is not already in lower order contact set\n",
    "               (not inkeys(conts,(a+splitter+b),splitter=splitter))):                #Proceeds if contact between organelle and lower ordercontact set is not already made  \n",
    "                conts[(a+splitter+b)]=label((iterated[a]*segs[b])>0)               #Adds new labeled contact\n",
    "    return conts                                                                     #Returns contacts"
   ]
  },
  {
   "cell_type": "markdown",
   "metadata": {},
   "source": [
    "### Make n-Way Contacts\n",
    "Using the logic from the above n-Way contacts section, this _multi_contact function employs the new _contacting function to create the 2-way and n-Way contacts between organelles in addition to finding the highest order contacts."
   ]
  },
  {
   "cell_type": "code",
   "execution_count": null,
   "metadata": {},
   "outputs": [],
   "source": [
    "def _multi_contact(org_segs:dict[str:np.ndarray], \n",
    "                  organelles:list[str],\n",
    "                  splitter:str=\"_\",\n",
    "                  redundancy:bool=True) -> dict:\n",
    "    contacts=_contacting(org_segs, org_segs, splitter=splitter)     #Dictionary for ALL contacts, starts with 2nd Order                                     #Returns with dictionary of all levels of \n",
    "\n",
    "    iterated={}                            #Iterated Dictionary\n",
    "    contact={}                             #Contact Dictionary\n",
    "    HO_conts={}\n",
    "    for n in (range(len(organelles)-1)): \n",
    "        iterated.clear()                   #Clears iterated dictionary\n",
    "        contact.clear()                    #Clears contact dictionary\n",
    "        num=n+3                            #Number of contacts in lower order number\n",
    "\n",
    "    ##########################\n",
    "    # Finding nLO Contacts\n",
    "    ##########################\n",
    "        for key in contacts:                                    #Iterates over every key in contacts\n",
    "            if (len(key.split(splitter)) == (num-1)):           #Selects for last set of contacts\n",
    "                iterated[key]=contacts[key]                     #Adds each key from last set of contacts to iterated\n",
    "\n",
    "    ###########################\n",
    "    # Making the n-Way Contact\n",
    "    ###########################\n",
    "        for c in iterated:                                                                  #Iterates through preexisting dictionary of contact sites\n",
    "            for d in org_segs:                                                              #Iterates through labeled organelles list (b)\n",
    "                if(np.any((iterated[c]*org_segs[d])>0) and not\n",
    "                   ((d+splitter in c)or(splitter+d in c)or(splitter+d+splitter in c)) and   #Proceeds if organelle is not already in previous contact set\n",
    "                   (not inkeys(contact,(c+splitter+d),splitter=splitter))):                 #Proceeds if contact between organelle and previous contact set is not already made  \n",
    "                    contact[(c+splitter+d)]=label((iterated[c]*org_segs[d])>0)              #Adds new binary contact\n",
    "\n",
    "    ################################################\n",
    "    # Adding n-Way contacts to contacts Dictionary\n",
    "    ################################################\n",
    "        for key in contact:              #Iterates across the new contact sites \n",
    "            contacts[key]=(contact[key])   #Labels & assigns higher order contact to \n",
    "\n",
    "    ################################################\n",
    "    # Dictionary of Non-Redundant Contacts\n",
    "    ################################################\n",
    "        if not redundancy:\n",
    "            while len(iterated) != 0:\n",
    "                key = list(iterated.keys())[0]\n",
    "                ara = iterated[key]>0\n",
    "                HO_conts[key] = ara\n",
    "                for ki in contact.keys():\n",
    "                    if (set(ki.split(splitter)).issuperset(key.split(splitter))):\n",
    "                        HO_conts[key] = HO_conts[key]*(np.invert(watershed(image=(np.invert(ara)),                           #Watershed with the map of the nLO image\n",
    "                                                                                  markers=contact[ki],                       #Watershed with the markers of the nO's superstr\n",
    "                                                                                  mask=ara,                                  #Watershed unable to proceed beyond the nLO image\n",
    "                                                                                  connectivity=np.ones((3, 3, 3), bool))>0)) #Watershed with 3D connectivity\n",
    "                del iterated[key]\n",
    "    if not redundancy:\n",
    "        return contacts, HO_conts\n",
    "    else:\n",
    "        return contacts"
   ]
  },
  {
   "cell_type": "markdown",
   "metadata": {},
   "source": [
    "### Create Contact"
   ]
  },
  {
   "cell_type": "code",
   "execution_count": null,
   "metadata": {},
   "outputs": [],
   "source": [
    "def _contact(orgs:str,\n",
    "             organelle_segs: dict[str:np.ndarray]) -> tuple[np.ndarray, np.ndarray]: \n",
    "    ##########################################\n",
    "    ## CREATE CONTACT\n",
    "    ##########################################\n",
    "    site = np.ones_like(organelle_segs[orgs.split(splitter)[0]])\n",
    "    for org in orgs.split(splitter):\n",
    "        site = site*(organelle_segs[org]>0)\n",
    "        \n",
    "    ##########################################\n",
    "    ## DETERMINE REDUNDANT CONTACTS\n",
    "    ##########################################\n",
    "    HOc = site.copy()\n",
    "    for org, val in organelle_segs.items():\n",
    "        if (org not in orgs.split(splitter)) and np.any(site*val):\n",
    "            HOc = HOc*(np.invert(watershed(image=(np.invert(site)),\n",
    "                                           markers=(site*val),\n",
    "                                            mask=site,\n",
    "                                           connectivity=np.ones((3, 3, 3), bool))>0))\n",
    "    return site, HOc"
   ]
  },
  {
   "cell_type": "markdown",
   "metadata": {},
   "source": [
    "### Get Contact Metrics\n",
    "This function combines multiple steps seen in the above \"Get Contact Metrics for Chosen n-Way Contact\" section to produce a data table for the contact metrics and provides a True or False statement to enable or disable the production of a data table for the distribution metrics."
   ]
  },
  {
   "cell_type": "code",
   "execution_count": null,
   "metadata": {},
   "outputs": [],
   "source": [
    "def _get_contact_metrics_3D(orgs: str,\n",
    "                        organelle_segs: dict[str:np.ndarray],\n",
    "                        mask: np.ndarray,\n",
    "                        splitter: str=\"_\",\n",
    "                        scale: Union[tuple, None]=None,\n",
    "                        include_dist:bool=False, \n",
    "                        dist_centering_obj: Union[np.ndarray, None]=None,\n",
    "                        dist_num_bins: Union[int, None]=None,\n",
    "                        dist_zernike_degrees: Union[int, None]=None,\n",
    "                        dist_center_on: Union[bool, None]=None,\n",
    "                        dist_keep_center_as_bin: Union[bool, None]=None) -> list:\n",
    "    \n",
    "    ##########################################\n",
    "    ## PREPARING CONTACT METRICS\n",
    "    ##########################################\n",
    "    site, HOc = _contact(orgs, organelle_segs)    \n",
    "    dist_tabs =[]\n",
    "    labels = label(apply_mask(site, mask)).astype(\"int\")    #Isolate to only contact sites found within the cell of interest\n",
    "    para_labels = apply_mask((HOc>0), mask).astype(\"int\") * labels #copy labels found in labels to para_labels\n",
    "    \n",
    "    ##########################################\n",
    "    ## CREATE LIST OF REGIONPROPS MEASUREMENTS\n",
    "    ##########################################\n",
    "    # start with LABEL\n",
    "    properties = [\"label\"]\n",
    "\n",
    "    # add position\n",
    "    properties = properties + [\"centroid\", \"bbox\"]\n",
    "\n",
    "    # add area\n",
    "    properties = properties + [\"area\", \"equivalent_diameter\"] # \"num_pixels\", \n",
    "\n",
    "    # add shape measurements\n",
    "    properties = properties + [\"extent\", \"euler_number\", \"solidity\", \"axis_major_length\", \"slice\"] # \"feret_diameter_max\", \"axis_minor_length\", \n",
    "\n",
    "    ##################\n",
    "    ## RUN REGIONPROPS\n",
    "    ##################\n",
    "    props = regionprops_table(labels, intensity_image=None, properties=properties, extra_properties=None, spacing=scale)\n",
    "\n",
    "    ##################################################################\n",
    "    ## RUN SURFACE AREA FUNCTION SEPARATELY AND APPEND THE PROPS_TABLE\n",
    "    ##################################################################\n",
    "    surface_area_tab = pd.DataFrame(surface_area_from_props(labels, props, scale))\n",
    "\n",
    "    ######################################################\n",
    "    ## LIST WHICH ORGANELLES ARE INVOLVED IN THE CONTACT\n",
    "    ######################################################    \n",
    "    cont_inv = []                                               #initializes a variable to be used for creating the values for the contacts in the dictionary\n",
    "                                                                  #   This variable is a list of the labels of each organelle involved in one contact site between those organelles\n",
    "    involved = orgs.split(splitter)                             #creates list of all involved organelles in the contact\n",
    "    indexes = dict.fromkeys(involved, [])                       #A dictionary of indexes of site involved in the contact\n",
    "    indexes[orgs] = []                                           #   str = \"contact\" or \"organelle\", may have multiple different organelles\n",
    "                                                                  #   list = contact or organelle number in image corresponding to the same contact in the other keys\n",
    "                                                                #   a 2-way contact will have 3 keys, a 3-way contact will have 4 keys, etc\n",
    "    redundancy = []\n",
    "    for index, l in enumerate(props[\"label\"]):\n",
    "        cont_inv.clear()                                        #clears cont_inv variable of any labels from past contact site for new contact site\n",
    "        present = para_labels[props[\"slice\"][index]]\n",
    "        present = present==l\n",
    "        redundant = not np.any(present)\n",
    "        redundancy.append(redundant)\n",
    "        for org in involved:                                    #iterates across list of involved organelles\n",
    "            volume = labels[props[\"slice\"][index]]\n",
    "            lorg = organelle_segs[org][props[\"slice\"][index]]\n",
    "            volume = volume==l\n",
    "            lorg = lorg[volume]\n",
    "            all_inv = np.unique(lorg[lorg>0]).tolist()\n",
    "            if len(all_inv) != 1:                               #ensures only one label is involved in the contact site\n",
    "                print(f\"we have an error.  as-> {all_inv}\")     #informs the console of any errors and the reasoing for it\n",
    "            indexes[org].append(f\"{all_inv[0]}\")                #adds the label of the organelle involved in the contact to the organelle's key's list\n",
    "            cont_inv.append(f\"{all_inv[0]}\")                    #adds the label of the organelle involved in the contact to the list of involved organelle labels\n",
    "        indexes[orgs].append(splitter.join(cont_inv))                #adds the combination of all the organelle's labels involved in the contact to the contact key's list                                                \n",
    "    ######################################################\n",
    "    ## CREATE COMBINED DATAFRAME OF THE QUANTIFICATION\n",
    "    ######################################################\n",
    "    props_table = pd.DataFrame(props)\n",
    "    props_table.drop(columns=['slice', 'label'], inplace=True)\n",
    "    props_table.insert(0, 'label',value=indexes[orgs])\n",
    "    props_table.insert(0, \"object\", orgs)\n",
    "    props_table.rename(columns={\"area\": \"volume\"}, inplace=True)\n",
    "\n",
    "    props_table.insert(11, \"surface_area\", surface_area_tab)\n",
    "    props_table.insert(13, \"SA_to_volume_ratio\", \n",
    "    props_table[\"surface_area\"].div(props_table[\"volume\"]))\n",
    "    props_table[\"redundant\"] = redundancy\n",
    "    \n",
    "    if scale is not None:\n",
    "        round_scale = (round(scale[0], 4), round(scale[1], 4), round(scale[2], 4))\n",
    "        props_table.insert(loc=2, column=\"scale\", value=f\"{round_scale}\")\n",
    "    else: \n",
    "        props_table.insert(loc=2, column=\"scale\", value=f\"{tuple(np.ones(labels.ndim))}\") \n",
    "\n",
    "    ######################################################\n",
    "    ## optional: DISTRIBUTION OF CONTACTS MEASUREMENTS\n",
    "    ######################################################\n",
    "    if include_dist:\n",
    "        XY_contact_dist, XY_bins, XY_wedges = get_XY_distribution(mask=mask, \n",
    "                                                                  obj=site,\n",
    "                                                                  obj_name=orgs,\n",
    "                                                                  centering_obj=dist_centering_obj,\n",
    "                                                                  scale=scale,\n",
    "                                                                  center_on=dist_center_on,\n",
    "                                                                  keep_center_as_bin=dist_keep_center_as_bin,\n",
    "                                                                  num_bins=dist_num_bins,\n",
    "                                                                  zernike_degrees=dist_zernike_degrees)\n",
    "       \n",
    "        Z_contact_dist = get_Z_distribution(mask=mask,\n",
    "                                            obj=site,\n",
    "                                            obj_name=orgs,\n",
    "                                            center_obj=dist_centering_obj,\n",
    "                                            scale=scale)\n",
    "        contact_dist_tab = pd.merge(XY_contact_dist, Z_contact_dist, on=[\"object\", \"scale\"])\n",
    "        dist_tabs.append(contact_dist_tab)\n",
    "    indexes.clear()\n",
    "    print(props_table)\n",
    "    if include_dist:\n",
    "        return props_table, dist_tabs\n",
    "    else:\n",
    "        return props_table"
   ]
  },
  {
   "cell_type": "markdown",
   "metadata": {},
   "source": [
    "## OUTPUT:\n",
    "Here, we will use the functions we created above to create the output from earlier that was made without using the functions while expanding on it to repeat across all of the contact sites."
   ]
  },
  {
   "cell_type": "code",
   "execution_count": null,
   "metadata": {},
   "outputs": [],
   "source": [
    "distance_tabs = []\n",
    "contacts_tabs = []\n",
    "all_pos =[]\n",
    "labeled_dict = _make_dict(org_names, org_segs)\n",
    "for n in list(map(lambda x:x+2, (range(len(org_names)-1)))):\n",
    "        all_pos += itertools.combinations(org_names, n)\n",
    "possib = [splitter.join(cont) for cont in all_pos]\n",
    "if include_contact_dist:\n",
    "    for conts in possib:\n",
    "        print(conts)\n",
    "        cont_tab, dist_tab = _get_contact_metrics_3D(orgs=conts,\n",
    "                                                    organelle_segs=labeled_dict,\n",
    "                                                    mask=mask,\n",
    "                                                    splitter=splitter,\n",
    "                                                    scale=scale,\n",
    "                                                    include_dist=include_contact_dist,\n",
    "                                                    dist_centering_obj=region_segs[masks_file_name.index(dist_centering_obj)],\n",
    "                                                    dist_num_bins=dist_num_bins,\n",
    "                                                    dist_zernike_degrees=dist_zernike_degrees,\n",
    "                                                    dist_center_on=dist_center_on,\n",
    "                                                    dist_keep_center_as_bin=dist_keep_center_as_bin)\n",
    "        for tabs in dist_tab:\n",
    "            distance_tabs.append(tabs)\n",
    "        contacts_tabs.append(cont_tab)\n",
    "else:\n",
    "    for conts in all_pos:\n",
    "        cont_tab = _get_contact_metrics_3D(orgs=orgs,\n",
    "                                           organelle_segs=labeled_dict,\n",
    "                                           mask=mask,\n",
    "                                           splitter=splitter,\n",
    "                                           scale=scale,\n",
    "                                           include_dist=include_contact_dist)\n",
    "        contacts_tabs.append(cont_tab)"
   ]
  },
  {
   "cell_type": "markdown",
   "metadata": {},
   "source": [
    "The following block of code enables viewing of the contact metrics table."
   ]
  },
  {
   "cell_type": "code",
   "execution_count": null,
   "metadata": {},
   "outputs": [],
   "source": [
    "final_contact_tab = pd.concat(contacts_tabs, ignore_index=True)\n",
    "final_contact_tab.insert(loc=0,column='image_name',value=test_img_name.stem)\n",
    "display(final_contact_tab)"
   ]
  },
  {
   "cell_type": "markdown",
   "metadata": {},
   "source": [
    "The following block of code enables viewing of the distribution metrics table."
   ]
  },
  {
   "cell_type": "code",
   "execution_count": null,
   "metadata": {},
   "outputs": [],
   "source": [
    "final_dist_tab = pd.concat(distance_tabs, ignore_index=True)\n",
    "final_dist_tab.insert(loc=0,column='image_name',value=test_img_name.stem)\n",
    "display(final_dist_tab)"
   ]
  },
  {
   "cell_type": "code",
   "execution_count": null,
   "metadata": {},
   "outputs": [],
   "source": []
  }
 ],
 "metadata": {
  "kernelspec": {
   "display_name": "cohenpy",
   "language": "python",
   "name": "python3"
  },
  "language_info": {
   "codemirror_mode": {
    "name": "ipython",
    "version": 3
   },
   "file_extension": ".py",
   "mimetype": "text/x-python",
   "name": "python",
   "nbconvert_exporter": "python",
   "pygments_lexer": "ipython3",
   "version": "3.10.13"
  }
 },
 "nbformat": 4,
 "nbformat_minor": 2
}
