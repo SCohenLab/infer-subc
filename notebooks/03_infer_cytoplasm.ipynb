{
 "cells": [
  {
   "attachments": {},
   "cell_type": "markdown",
   "metadata": {},
   "source": [
    "# Infer ***cytoplasm*** -  3️⃣\n",
    "\n",
    "--------------\n",
    "\n",
    "## OVERVIEW\n",
    "We will start by segmenting the different cell regions - the nucleus, cell, and cytoplasm - since they will be necessary for determining which organelle are in which cell. This is integral to our single cell analysis approach.\n",
    "\n",
    "This notebook goes through the workflow steps to segment the ***cytoplasm*** -- the cellmask minus the nucleus area.\n",
    "\n",
    "## OBJECTIVE:  \n",
    "### ✅ Infer sub-cellular component #3: ***cytoplasm***\n",
    "Segment the ***cytoplasm*** from the cellmask and nuclei outputs. We will first select the single nucleus that is within our cellmask. Then, a logical and will be applied to produce the cytoplasmic area."
   ]
  },
  {
   "attachments": {},
   "cell_type": "markdown",
   "metadata": {},
   "source": [
    "\n",
    "## IMPORTS"
   ]
  },
  {
   "cell_type": "code",
   "execution_count": 1,
   "metadata": {},
   "outputs": [],
   "source": [
    "# top level imports\n",
    "from pathlib import Path\n",
    "import os, sys\n",
    "\n",
    "import numpy as np\n",
    "\n",
    "from skimage.morphology import binary_erosion\n",
    "\n",
    "import napari\n",
    "\n",
    "### import local python functions in ../infer_subc\n",
    "sys.path.append(os.path.abspath((os.path.join(os.getcwd(), '..'))))\n",
    "\n",
    "from infer_subc.core.file_io import (read_czi_image,\n",
    "                                     read_ome_image,\n",
    "                                     export_inferred_organelle,\n",
    "                                     import_inferred_organelle,\n",
    "                                     list_image_files)\n",
    "from infer_subc.core.img import *\n",
    "from infer_subc.organelles import infer_cellmask_fromcomposite, fixed_infer_cellmask_fromcomposite, infer_nuclei_fromlabel, get_cellmask, get_nuclei\n",
    "# NOTE:  these \"constants\" are only accurate for the testing MCZ dataset\n",
    "from infer_subc.constants import (TEST_IMG_N,\n",
    "                                  NUC_CH ,\n",
    "                                  LYSO_CH ,\n",
    "                                  MITO_CH ,\n",
    "                                  GOLGI_CH ,\n",
    "                                  PEROX_CH ,\n",
    "                                  ER_CH ,\n",
    "                                  LD_CH ,\n",
    "                                  RESIDUAL_CH)\n",
    "\n",
    "\n",
    "%load_ext autoreload\n",
    "%autoreload 2\n"
   ]
  },
  {
   "attachments": {},
   "cell_type": "markdown",
   "metadata": {},
   "source": [
    "## Get and load Image for processing"
   ]
  },
  {
   "cell_type": "code",
   "execution_count": 2,
   "metadata": {},
   "outputs": [],
   "source": [
    "test_img_n = TEST_IMG_N\n",
    "\n",
    "data_root_path = Path(os.path.expanduser(\"~\")) / \"Documents/Python Scripts/Infer-subc-2D\"\n",
    "\n",
    "in_data_path = data_root_path / \"raw\"\n",
    "im_type = \".czi\"\n",
    "\n",
    "img_file_list = list_image_files(in_data_path,im_type)\n",
    "test_img_name = img_file_list[test_img_n]\n",
    "\n",
    "out_data_path = data_root_path / \"out\"\n",
    "if not Path.exists(out_data_path):\n",
    "    Path.mkdir(out_data_path)\n",
    "    print(f\"making {out_data_path}\")"
   ]
  },
  {
   "cell_type": "code",
   "execution_count": 3,
   "metadata": {},
   "outputs": [
    {
     "name": "stderr",
     "output_type": "stream",
     "text": [
      "c:\\Users\\Shannon\\anaconda3\\envs\\infer-subc\\lib\\site-packages\\ome_types\\_convenience.py:112: FutureWarning: The default XML parser will be changing from 'xmlschema' to 'lxml' in version 0.4.0.  To silence this warning, please provide the `parser` argument, specifying either 'lxml' (to opt into the new behavior), or'xmlschema' (to retain the old behavior).\n",
      "  d = to_dict(os.fspath(xml), parser=parser, validate=validate)\n"
     ]
    }
   ],
   "source": [
    "img_data,meta_dict = read_czi_image(test_img_name)\n",
    "\n",
    "channel_names = meta_dict['name']\n",
    "img = meta_dict['metadata']['aicsimage']\n",
    "scale = meta_dict['scale']\n",
    "channel_axis = meta_dict['channel_axis']"
   ]
  },
  {
   "attachments": {},
   "cell_type": "markdown",
   "metadata": {},
   "source": [
    "----------\n",
    "##  infer ***cytoplasm***\n",
    "\n",
    "### summary of steps\n",
    "\n",
    "➡️ INPUT (extract)\n",
    "- segmented ***nuclei*** objects (from [01_infer_nuclei](./02_infer_cellmask_from-composite.ipynb))\n",
    "- segmented ***cellmask*** object (from [02_infer_cellmask_from-composite](./02_infer_cellmask_from-composite.ipynb))\n",
    "\n",
    "PRE-PROCESSING\n",
    "  - N/A\n",
    "\n",
    "CORE PROCESSING\n",
    "  - mask nuclei with ***cellmask*** to select single ***nucleus***\n",
    "  - erode ***nucleus*** (shrink; *optional*)\n",
    "  - XOR(***nucleus***, ***cellmask***)\n",
    "\n",
    "POST-PROCESSING\n",
    "  - N/A\n",
    "\n",
    "OUTPUT ➡️ \n",
    "  - save single ***nucleus*** (nuc, N1) at unsigned integer 8-bit tif files\n",
    "  - save ***cytoplasm*** (cyto, CY) at unsigned integer 8-bit tif files"
   ]
  },
  {
   "attachments": {},
   "cell_type": "markdown",
   "metadata": {},
   "source": [
    "## GET nuclei segmentation output"
   ]
  },
  {
   "cell_type": "code",
   "execution_count": 4,
   "metadata": {},
   "outputs": [
    {
     "name": "stdout",
     "output_type": "stream",
     "text": [
      "loaded  inferred 3D `nuclei`  from C:\\Users\\Shannon\\Documents\\Python Scripts\\Infer-subc-2D\\out \n"
     ]
    }
   ],
   "source": [
    "nuclei =  get_nuclei(img_data,meta_dict, out_data_path)"
   ]
  },
  {
   "attachments": {},
   "cell_type": "markdown",
   "metadata": {},
   "source": [
    "## GET cellmask segmentation output"
   ]
  },
  {
   "cell_type": "code",
   "execution_count": 5,
   "metadata": {},
   "outputs": [
    {
     "name": "stdout",
     "output_type": "stream",
     "text": [
      "loaded  inferred 3D `cell`  from C:\\Users\\Shannon\\Documents\\Python Scripts\\Infer-subc-2D\\out \n"
     ]
    }
   ],
   "source": [
    "cellmask = get_cellmask(img_data, nuclei, meta_dict, out_data_path)"
   ]
  },
  {
   "cell_type": "code",
   "execution_count": 6,
   "metadata": {},
   "outputs": [
    {
     "data": {
      "text/plain": [
       "dtype('uint16')"
      ]
     },
     "execution_count": 6,
     "metadata": {},
     "output_type": "execute_result"
    }
   ],
   "source": [
    "cellmask.dtype"
   ]
  },
  {
   "attachments": {},
   "cell_type": "markdown",
   "metadata": {},
   "source": [
    "## EXTRACTION prototype\n",
    "\n",
    "No extraction steps needed for this workflow."
   ]
  },
  {
   "attachments": {},
   "cell_type": "markdown",
   "metadata": {},
   "source": [
    "## PRE-PROCESSING prototype\n",
    "\n",
    "No pre-processing steps needed for this workflow."
   ]
  },
  {
   "attachments": {},
   "cell_type": "markdown",
   "metadata": {},
   "source": [
    "## CORE PROCESSING prototype"
   ]
  },
  {
   "cell_type": "code",
   "execution_count": 7,
   "metadata": {},
   "outputs": [],
   "source": [
    "###################\n",
    "# CORE_PROCESSING\n",
    "###################\n",
    "# mask the nuclei segmentation with the cellmask to select the single nucleus\n",
    "nucleus_obj =  apply_mask(nuclei, cellmask) \n",
    "\n",
    "# erode nucleus if desired (this likely depends on the type of label used)\n",
    "nucleus_eroded = binary_erosion(nucleus_obj)\n",
    "\n",
    "# select the cytoplasmic area (two ways shown here)\n",
    "cyto_object = np.logical_and(cellmask,~nucleus_eroded)\n",
    "cyto_object_xor = np.logical_xor(cellmask,nucleus_eroded)\n",
    "\n",
    "nucleus_out = nucleus_obj.astype(np.uint8)\n",
    "cytoplasm_out = cyto_object_xor.astype(np.uint8)"
   ]
  },
  {
   "cell_type": "code",
   "execution_count": 8,
   "metadata": {},
   "outputs": [
    {
     "data": {
      "text/plain": [
       "(dtype('uint8'), dtype('uint8'))"
      ]
     },
     "execution_count": 8,
     "metadata": {},
     "output_type": "execute_result"
    }
   ],
   "source": [
    "nucleus_out.dtype, cytoplasm_out.dtype"
   ]
  },
  {
   "attachments": {},
   "cell_type": "markdown",
   "metadata": {},
   "source": [
    "## POST-PROCESSING prototype\n",
    "\n",
    "No post-processing steps needed for this workflow."
   ]
  },
  {
   "attachments": {},
   "cell_type": "markdown",
   "metadata": {},
   "source": [
    "## LABELING prototype\n",
    "\n",
    "No labeling steps needed for this workflow."
   ]
  },
  {
   "attachments": {},
   "cell_type": "markdown",
   "metadata": {},
   "source": [
    "## Visualize with `napari` "
   ]
  },
  {
   "cell_type": "code",
   "execution_count": 9,
   "metadata": {},
   "outputs": [],
   "source": [
    "viewer = napari.view_image(cellmask, opacity=0.3)"
   ]
  },
  {
   "cell_type": "code",
   "execution_count": 10,
   "metadata": {},
   "outputs": [
    {
     "data": {
      "text/plain": [
       "<Image layer 'cyto_object_xor' at 0x26e553a8d30>"
      ]
     },
     "execution_count": 10,
     "metadata": {},
     "output_type": "execute_result"
    }
   ],
   "source": [
    "viewer.add_image(\n",
    "    nucleus_eroded,\n",
    "    opacity=0.3)    \n",
    "\n",
    "viewer.add_image(\n",
    "    nucleus_obj,\n",
    "    opacity=0.3) \n",
    "\n",
    "viewer.add_image(\n",
    "    cyto_object_xor,\n",
    "    opacity=0.3) "
   ]
  },
  {
   "attachments": {},
   "cell_type": "markdown",
   "metadata": {},
   "source": [
    "## SAVE inferred nucleus and cytoplasm to .tif file"
   ]
  },
  {
   "cell_type": "code",
   "execution_count": 11,
   "metadata": {},
   "outputs": [
    {
     "name": "stdout",
     "output_type": "stream",
     "text": [
      "saved file: a24hrs-Ctrl_14_Unmixing-nuc\n",
      "saved file: a24hrs-Ctrl_14_Unmixing-cyto\n"
     ]
    }
   ],
   "source": [
    "out_file_n = export_inferred_organelle(nucleus_out, \"nuc\", meta_dict, out_data_path)\n",
    "out_file_c = export_inferred_organelle(cytoplasm_out, \"cyto\", meta_dict, out_data_path)"
   ]
  },
  {
   "attachments": {},
   "cell_type": "markdown",
   "metadata": {},
   "source": [
    "----------\n",
    "## DEFINE `_infer_cytoplasm` function\n",
    "\n",
    "Based on the _prototyping_ above define the function to infer cytoplasm.  \n",
    "\n",
    "> NOTE: these functions mainly serve for downstream prototyping in the notebooks. Each step above has an independent function that is implemented in the plugin for easy of use."
   ]
  },
  {
   "cell_type": "code",
   "execution_count": 12,
   "metadata": {},
   "outputs": [],
   "source": [
    "def _infer_cytoplasm(nuclei_object, cellmask,  erode_nuclei = True):\n",
    "    \"\"\"\n",
    "    Procedure to infer cytoplasm from linearly unmixed input.\n",
    "\n",
    "    Parameters\n",
    "    ------------\n",
    "    nuclei_object: \n",
    "        a 3d image containing the nuclei signal\n",
    "    cellmask: \n",
    "        a 3d image containing the cellmask signal\n",
    "    erode_nuclei: \n",
    "        should we erode? Default False\n",
    "\n",
    "    Returns\n",
    "    -------------\n",
    "    cytoplasm_mask \n",
    "        boolean np.ndarray\n",
    "      \n",
    "    \"\"\"\n",
    "    nucleus_obj =  apply_mask(nuclei_object, cellmask) \n",
    "\n",
    "    if erode_nuclei:\n",
    "        # cytoplasm_mask = np.logical_and(cellmask, ~binary_erosion(nuclei_object))\n",
    "        cytoplasm_mask = np.logical_xor(cellmask, binary_erosion(nucleus_obj))\n",
    "    else:\n",
    "        # cytoplasm_mask = np.logical_and(cellmask, ~nuclei_object)\n",
    "        cytoplasm_mask = np.logical_xor(cellmask, nucleus_obj)\n",
    "\n",
    "    return cytoplasm_mask.astype(np.uint8)"
   ]
  },
  {
   "attachments": {},
   "cell_type": "markdown",
   "metadata": {},
   "source": [
    "## TEST `_infer_cytoplasm` function defined above"
   ]
  },
  {
   "cell_type": "code",
   "execution_count": 13,
   "metadata": {},
   "outputs": [
    {
     "data": {
      "text/plain": [
       "dtype('uint8')"
      ]
     },
     "execution_count": 13,
     "metadata": {},
     "output_type": "execute_result"
    }
   ],
   "source": [
    "_CY_object = _infer_cytoplasm(nuclei, cellmask, erode_nuclei=True)\n",
    "\n",
    "_CY_object.dtype"
   ]
  },
  {
   "cell_type": "code",
   "execution_count": 14,
   "metadata": {},
   "outputs": [
    {
     "data": {
      "text/plain": [
       "True"
      ]
     },
     "execution_count": 14,
     "metadata": {},
     "output_type": "execute_result"
    }
   ],
   "source": [
    "np.all(cytoplasm_out == _CY_object)"
   ]
  },
  {
   "attachments": {},
   "cell_type": "markdown",
   "metadata": {},
   "source": [
    "--------------------------\n",
    "\n",
    "## TEST `infer_cytoplasm` exported functions\n",
    "\n",
    "\n",
    "The prototype `_infer_cytoplasm` was copied to the [`.organelles.cytoplasm`](../infer_subc/organelles/cytoplasm.py) sub-module."
   ]
  },
  {
   "cell_type": "code",
   "execution_count": 15,
   "metadata": {},
   "outputs": [
    {
     "data": {
      "text/plain": [
       "dtype('uint8')"
      ]
     },
     "execution_count": 15,
     "metadata": {},
     "output_type": "execute_result"
    }
   ],
   "source": [
    "from infer_subc.organelles.cytoplasm import infer_cytoplasm\n",
    "cytoplasm_mask =  infer_cytoplasm(nuclei, cellmask, erode_nuclei=True) \n",
    "\n",
    "cytoplasm_mask.dtype"
   ]
  },
  {
   "cell_type": "code",
   "execution_count": 16,
   "metadata": {},
   "outputs": [
    {
     "data": {
      "text/plain": [
       "True"
      ]
     },
     "execution_count": 16,
     "metadata": {},
     "output_type": "execute_result"
    }
   ],
   "source": [
    "np.all(_CY_object == cytoplasm_mask)"
   ]
  },
  {
   "attachments": {},
   "cell_type": "markdown",
   "metadata": {},
   "source": [
    "## Visualize  2\n"
   ]
  },
  {
   "cell_type": "code",
   "execution_count": 17,
   "metadata": {},
   "outputs": [
    {
     "data": {
      "text/plain": [
       "<Labels layer 'cytoplasm_mask [1]' at 0x26e495e70a0>"
      ]
     },
     "execution_count": 17,
     "metadata": {},
     "output_type": "execute_result"
    }
   ],
   "source": [
    "viewer.add_image(\n",
    "    cytoplasm_mask)\n",
    "\n",
    "viewer.add_labels(\n",
    "    cytoplasm_mask)"
   ]
  },
  {
   "cell_type": "code",
   "execution_count": 18,
   "metadata": {},
   "outputs": [
    {
     "data": {
      "image/png": "[encoded data removed]",
      "text/html": [
       "<img src=\"data:image/png;base64,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\"></img>"
      ],
      "text/plain": [
       "<napari.utils.notebook_display.NotebookScreenshot at 0x26e608f65f0>"
      ]
     },
     "execution_count": 18,
     "metadata": {},
     "output_type": "execute_result"
    }
   ],
   "source": [
    "from napari.utils.notebook_display import nbscreenshot\n",
    "\n",
    "nbscreenshot(viewer, canvas_only=True)"
   ]
  },
  {
   "cell_type": "code",
   "execution_count": 19,
   "metadata": {},
   "outputs": [],
   "source": [
    "viewer.close()"
   ]
  },
  {
   "attachments": {},
   "cell_type": "markdown",
   "metadata": {},
   "source": [
    "-------------\n",
    "## SUMMARY\n",
    "\n",
    "The above details how the cytoplasm mask is inferred. \n",
    "\n",
    "### NEXT: INFER LYSOSOME\n",
    "\n",
    "proceed to [04_infer_lysosome.ipynb](./04_infer_lysosome.ipynb)\n"
   ]
  }
 ],
 "metadata": {
  "kernelspec": {
   "display_name": "Python 3.9.13 ('napariNEW')",
   "language": "python",
   "name": "python3"
  },
  "language_info": {
   "codemirror_mode": {
    "name": "ipython",
    "version": 3
   },
   "file_extension": ".py",
   "mimetype": "text/x-python",
   "name": "python",
   "nbconvert_exporter": "python",
   "pygments_lexer": "ipython3",
   "version": "3.10.11"
  },
  "orig_nbformat": 4,
  "vscode": {
   "interpreter": {
    "hash": "d6148ef1fb015fb20f0b6da2ea61c87c6b848bdf3dabb03087e5d5cd0c4607e9"
   }
  }
 },
 "nbformat": 4,
 "nbformat_minor": 2
}
