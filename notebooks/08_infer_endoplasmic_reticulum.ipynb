{
 "cells": [
  {
   "attachments": {},
   "cell_type": "markdown",
   "metadata": {},
   "source": [
    "# Infer ***endoplasmic reticulum*** - part 8️⃣\n",
    "\n",
    "--------------\n",
    "\n",
    "OBJECTIVE:  ✅ Infer sub-cellular component ***endoplasmic reticulum*** (***ER***) in order to understand interactome \n",
    "\n",
    "\n",
    "\n",
    "Dependencies:\n",
    "The ***ER***  inference rely on the cytosol mask.\n"
   ]
  },
  {
   "cell_type": "markdown",
   "metadata": {},
   "source": [
    "\n",
    "## IMPORTS"
   ]
  },
  {
   "cell_type": "code",
   "execution_count": 7,
   "metadata": {},
   "outputs": [
    {
     "name": "stdout",
     "output_type": "stream",
     "text": [
      "The autoreload extension is already loaded. To reload it, use:\n",
      "  %reload_ext autoreload\n"
     ]
    }
   ],
   "source": [
    "# top level imports\n",
    "from pathlib import Path\n",
    "import os, sys\n",
    "\n",
    "import numpy as np\n",
    "\n",
    "from aicssegmentation.core.pre_processing_utils import ( intensity_normalization, \n",
    "                                                         image_smoothing_gaussian_3d,  \n",
    "                                                         edge_preserving_smoothing_3d )\n",
    "from aicssegmentation.core.utils import topology_preserving_thinning, size_filter\n",
    "from aicssegmentation.core.MO_threshold import MO\n",
    "from aicssegmentation.core.vessel import filament_2d_wrapper\n",
    "                                                 \n",
    "from skimage.measure import label\n",
    "\n",
    "\n",
    "import napari\n",
    "\n",
    "### import local python functions in ../infer_subc_2d\n",
    "sys.path.append(os.path.abspath((os.path.join(os.getcwd(), '..'))))\n",
    "\n",
    "from infer_subc_2d.utils.file_io import (read_czi_image,\n",
    "                                                                    read_ome_image,\n",
    "                                                                    export_inferred_organelle,\n",
    "                                                                    import_inferred_organelle,\n",
    "                                                                    list_image_files)\n",
    "\n",
    "from infer_subc_2d.utils.img import *\n",
    "\n",
    "from infer_subc_2d.organelles import fixed_infer_soma_MCZ, fixed_infer_nuclei, infer_cytosol\n",
    "\n",
    "\n",
    "%load_ext autoreload\n",
    "%autoreload 2\n",
    "\n"
   ]
  },
  {
   "cell_type": "code",
   "execution_count": 8,
   "metadata": {},
   "outputs": [],
   "source": [
    "# NOTE:  these \"constants\" are only accurate for the testing MCZ dataset\n",
    "from infer_subc_2d.constants import (TEST_IMG_N,\n",
    "                                                                    NUC_CH ,\n",
    "                                                                    LYSO_CH ,\n",
    "                                                                    MITO_CH ,\n",
    "                                                                    GOLGI_CH ,\n",
    "                                                                    PEROXI_CH ,\n",
    "                                                                    ER_CH ,\n",
    "                                                                    LIPID_CH ,\n",
    "                                                                    RESIDUAL_CH )              "
   ]
  },
  {
   "attachments": {},
   "cell_type": "markdown",
   "metadata": {},
   "source": [
    "\n",
    "## SETUP"
   ]
  },
  {
   "cell_type": "code",
   "execution_count": 9,
   "metadata": {},
   "outputs": [],
   "source": [
    "# this will be the example image for testing the pipeline below\n",
    "test_img_n = TEST_IMG_N\n",
    "\n",
    "# build the datapath\n",
    "# all the imaging data goes here.\n",
    "data_root_path = Path(os.path.expanduser(\"~\")) / \"Projects/Imaging/data\"\n",
    "\n",
    "# linearly unmixed \".czi\" files are here\n",
    "in_data_path = data_root_path / \"raw\"\n",
    "im_type = \".czi\"\n",
    "\n",
    "# get the list of all files\n",
    "img_file_list = list_image_files(in_data_path,im_type)\n",
    "test_img_name = img_file_list[test_img_n]\n",
    "\n",
    "# save output \".tiff\" files here\n",
    "out_data_path = data_root_path / \"out\"\n",
    "\n",
    "if not Path.exists(out_data_path):\n",
    "    Path.mkdir(out_data_path)\n",
    "    print(f\"making {out_data_path}\")"
   ]
  },
  {
   "cell_type": "code",
   "execution_count": 10,
   "metadata": {},
   "outputs": [
    {
     "name": "stderr",
     "output_type": "stream",
     "text": [
      "/opt/anaconda3/envs/napariNEW/lib/python3.9/site-packages/ome_types/_convenience.py:106: FutureWarning: The default XML parser will be changing from 'xmlschema' to 'lxml' in version 0.4.0.  To silence this warning, please provide the `parser` argument, specifying either 'lxml' (to opt into the new behavior), or'xmlschema' (to retain the old behavior).\n",
      "  d = to_dict(os.fspath(xml), parser=parser, validate=validate)\n"
     ]
    }
   ],
   "source": [
    "img_data,meta_dict = read_czi_image(test_img_name)\n",
    "\n",
    "# get some top-level info about the RAW data\n",
    "channel_names = meta_dict['name']\n",
    "img = meta_dict['metadata']['aicsimage']\n",
    "scale = meta_dict['scale']\n",
    "channel_axis = meta_dict['channel_axis']\n"
   ]
  },
  {
   "attachments": {},
   "cell_type": "markdown",
   "metadata": {},
   "source": [
    "## GET CYTOSOL MASK\n"
   ]
  },
  {
   "cell_type": "code",
   "execution_count": 11,
   "metadata": {},
   "outputs": [
    {
     "name": "stdout",
     "output_type": "stream",
     "text": [
      "loaded cytosol mask from /Users/ahenrie/Projects/Imaging/data/out\n"
     ]
    }
   ],
   "source": [
    "# nuclei_fname = \"/Users/ahenrie/Projects/Imaging/data/out/nuclei_ZSTACK_PBTOhNGN2hiPSCs_BR3_N04_Unmixed.ome.tiff\"\n",
    "\n",
    "cytosol_mask = import_inferred_organelle(\"cytosol\", meta_dict, out_data_path)\n",
    "\n",
    "if cytosol_mask is None:\n",
    "    nuclei =  fixed_infer_nuclei(img_data) \n",
    "    soma = fixed_infer_soma_MCZ(img_data, nuclei)\n",
    "    nucleus_obj =  apply_mask(nuclei, soma) \n",
    "    cytosol_mask =  infer_cytosol(soma, nucleus_obj, erode_nuclei=False) \n",
    "    out_file_n = export_inferred_organelle(cytosol_mask, \"cytosol\", meta_dict, out_data_path)\n",
    "    print(f\"calculated cytosol mask. wrote {out_file_n}\")\n",
    "else:\n",
    "    print(f\"loaded cytosol mask from {out_data_path}\")\n"
   ]
  },
  {
   "attachments": {},
   "cell_type": "markdown",
   "metadata": {},
   "source": [
    "---------------------\n",
    "\n",
    "## infer ***endoplasmic reticulum***\n",
    "\n",
    "## summary of steps \n",
    "\n",
    "INPUT\n",
    "- ch 6\n",
    "- cytosol mask\n",
    "\n",
    "PRE-PROCESSING\n",
    "- edge preserving scaling\n",
    "\n",
    "CORE-PROCESSING\n",
    "- vesselness slice-by-slice\n",
    "\n",
    "POST-PROCESSING\n",
    "  - S  - remove objects less than 2x2 pixels (area = 4)\n",
    "\n",
    "OUTPUT\n",
    "- object **er** \n",
    "\n",
    "\n",
    "Generally following the Allen Cell Segmenter procedure, but doing more aggressive contrast scaling than their prescribed contrast scaling.\n",
    "\n",
    ">sec61beta  is  good start for ER  as per from [Allen Cell](https://www.allencell.org/cell-observations/category/endoplasmic-reticulum).    \n",
    "\n",
    "using [seg_sec61b.py](https://github.com/AllenInstitute/aics-segmentation/blob/master/aics-segmentation/aicssegmentation/structure_wrapper/seg_sec61b.py)\n",
    "[seg_sec61b_dual.py](https://github.com/AllenInstitute/aics-segmentation/blob/master/aicssegmentation/structure_wrapper/seg_sec61b_dual.py)\n",
    "\n",
    "[playground_Sec61b.ipynb](https://github.com/AllenInstitute/aics-segmentation/blob/master/lookup_table_demo/playground_Sec61b.ipynb)\n",
    "\n"
   ]
  },
  {
   "attachments": {},
   "cell_type": "markdown",
   "metadata": {},
   "source": [
    "## INPUT prototype"
   ]
  },
  {
   "cell_type": "code",
   "execution_count": 12,
   "metadata": {},
   "outputs": [],
   "source": [
    "###################\n",
    "# INPUT\n",
    "###################\n",
    "# raw_er   = img_2D[ER_CH].copy()\n",
    "raw_er = select_channel_from_raw(img_data, ER_CH)\n"
   ]
  },
  {
   "attachments": {},
   "cell_type": "markdown",
   "metadata": {},
   "source": [
    "## PRE-PROCESSING prototype"
   ]
  },
  {
   "cell_type": "code",
   "execution_count": 13,
   "metadata": {},
   "outputs": [],
   "source": [
    "###################\n",
    "# PRE_PROCESSING\n",
    "###################\n",
    "# struct_img = normalized_edge_preserving_smoothing( raw_er)\n",
    "\n",
    "median_sz = 0\n",
    "gauss_sig = 3.0\n",
    "\n",
    "struct_img =  scale_and_smooth(raw_er,\n",
    "                                                    median_sz = median_sz, \n",
    "                                                    gauss_sig = gauss_sig)\n"
   ]
  },
  {
   "attachments": {},
   "cell_type": "markdown",
   "metadata": {},
   "source": [
    "## CORE PROCESSING prototype"
   ]
  },
  {
   "cell_type": "code",
   "execution_count": 14,
   "metadata": {},
   "outputs": [],
   "source": [
    "###################\n",
    "# CORE_PROCESSING\n",
    "###################\n",
    "\n",
    "################################\n",
    "## PARAMETERS for this step ##\n",
    "f2_param = [[1, 0.15]]\n",
    "################################\n",
    "\n",
    "bw = filament_2d_wrapper(struct_img, f2_param)"
   ]
  },
  {
   "attachments": {},
   "cell_type": "markdown",
   "metadata": {},
   "source": [
    "## POST-PROCESSING prototype"
   ]
  },
  {
   "cell_type": "code",
   "execution_count": 15,
   "metadata": {},
   "outputs": [],
   "source": [
    "\n",
    "###################\n",
    "# POST_PROCESSING\n",
    "###################\n",
    "################################\n",
    "## PARAMETERS for this step ##\n",
    "small_object_width = 4\n",
    "################################\n",
    "er_object = size_filter_linear_size(bw, \n",
    "                                                min_size= small_object_width)\n",
    "\n",
    "# ################################\n",
    "# ## PARAMETERS for this step ## from seg_sec61b.py\n",
    "# min_area = 15\n",
    "# ################################\n",
    "# bw = remove_small_objects(bw > 0, min_size=min_area, connectivity=1, in_place=False)\n",
    "# # prune slice by slice\n",
    "# for zz in range(bw.shape[0]):\n",
    "#     bw[zz, :, :] = remove_small_objects(bw[zz, :, :], min_size=3, connectivity=1, in_place=False)\n",
    "\n",
    "# ER_object = remove_small_objects(bw > 0, min_size=min_area, connectivity=1, in_place=False)\n",
    "\n"
   ]
  },
  {
   "cell_type": "markdown",
   "metadata": {},
   "source": [
    "#### Visualize with `napari`\n",
    "Visualize the first-pass segmentation and labeling with `napari`."
   ]
  },
  {
   "cell_type": "code",
   "execution_count": 16,
   "metadata": {},
   "outputs": [],
   "source": [
    "viewer = napari.Viewer()\n"
   ]
  },
  {
   "cell_type": "code",
   "execution_count": 18,
   "metadata": {},
   "outputs": [
    {
     "data": {
      "text/plain": [
       "<Image layer 'er_object' at 0x14493f5b0>"
      ]
     },
     "execution_count": 18,
     "metadata": {},
     "output_type": "execute_result"
    }
   ],
   "source": [
    "\n",
    "viewer.add_image(\n",
    "    bw,\n",
    ")\n",
    "\n",
    "\n",
    "viewer.scale_bar.visible = True\n",
    "viewer.add_image(\n",
    "    struct_img\n",
    ")\n",
    "\n",
    "viewer.add_image(\n",
    "    er_object,\n",
    ")"
   ]
  },
  {
   "attachments": {},
   "cell_type": "markdown",
   "metadata": {},
   "source": [
    "## DEFINE `infer_endoplasmic_reticulum` function\n",
    "\n",
    "Based on the _prototyping_ above define the function to infer the er.  \n"
   ]
  },
  {
   "cell_type": "code",
   "execution_count": 19,
   "metadata": {},
   "outputs": [],
   "source": [
    "##########################\n",
    "#  infer_endoplasmic_reticulum\n",
    "##########################\n",
    "def _infer_endoplasmic_reticulum(\n",
    "                                in_img: np.ndarray,\n",
    "                                gauss_sig: float,\n",
    "                                filament_scale : float,\n",
    "                                filament_cut : float,\n",
    "                                small_obj_w: int,\n",
    "                            ) -> np.ndarray:\n",
    "    \"\"\"\n",
    "    Procedure to infer peroxisome from linearly unmixed input.\n",
    "\n",
    "    Parameters\n",
    "    ------------\n",
    "    in_img: \n",
    "        a 3d image containing all the channels\n",
    "    gauss_sig: \n",
    "        sigma for gaussian smoothing of  signal\n",
    "    filament_scale: \n",
    "        scale (log_sigma) for filament filter\n",
    "    filament_cut: \n",
    "        threshold for filament fitered threshold\n",
    "    small_obj_w: \n",
    "        minimu object size cutoff for nuclei post-processing\n",
    "    Returns\n",
    "    -------------\n",
    "    peroxi_object\n",
    "        mask defined extent of peroxisome object\n",
    "    \"\"\"\n",
    "    er_ch = ER_CH\n",
    "    ###################\n",
    "    # EXTRACT\n",
    "    ###################    \n",
    "    er = select_channel_from_raw(in_img, er_ch)\n",
    "\n",
    "    ###################\n",
    "    # PRE_PROCESSING\n",
    "    ###################    \n",
    "    # er = normalized_edge_preserving_smoothing(er)\n",
    "    struct_img =  scale_and_smooth(er,\n",
    "                                                    median_sz = 0, \n",
    "                                                    gauss_sig = gauss_sig)\n",
    "\n",
    "   ###################\n",
    "    # CORE_PROCESSING\n",
    "    ###################\n",
    "    # f2_param = [[filament_scale, filament_cut]]\n",
    "    # # f2_param = [[1, 0.15]]  # [scale_1, cutoff_1]\n",
    "    # struct_obj = filament_2d_wrapper(er, f2_param)\n",
    "    struct_obj = filament_filter(er, filament_scale, filament_cut)\n",
    "\n",
    "    ###################\n",
    "    # POST_PROCESSING\n",
    "    ################### \n",
    "    struct_obj = size_filter_linear_size(struct_obj, \n",
    "                                                    min_size= small_obj_w)\n",
    "\n",
    "    return struct_obj\n",
    "\n"
   ]
  },
  {
   "attachments": {},
   "cell_type": "markdown",
   "metadata": {},
   "source": [
    "# TEST  `_fixed_infer_endoplasmic_reticulum` function"
   ]
  },
  {
   "cell_type": "code",
   "execution_count": 20,
   "metadata": {},
   "outputs": [],
   "source": [
    "##########################\n",
    "#  fixed_infer_endoplasmic_reticulum\n",
    "##########################\n",
    "def _fixed_infer_endoplasmic_reticulum(in_img: np.ndarray ) -> np.ndarray:\n",
    "    \"\"\"\n",
    "    Procedure to infer endoplasmic rediculum from linearly unmixed input with *fixed parameters*\n",
    "\n",
    "    Parameters\n",
    "    ------------\n",
    "    in_img: \n",
    "        a 3d image containing all the channels\n",
    "\n",
    "    Returns\n",
    "    -------------\n",
    "    peroxi_object\n",
    "        mask defined extent of peroxisome object\n",
    "    \"\"\"\n",
    "    gauss_sig = 3\n",
    "    filament_scale = 1\n",
    "    filament_cut = 0.15\n",
    "    small_obj_w = 2 \n",
    "    return _infer_endoplasmic_reticulum(  in_img,\n",
    "                                gauss_sig,\n",
    "                                filament_scale,\n",
    "                                filament_cut ,\n",
    "                                small_obj_w)\n",
    "    \n",
    "    "
   ]
  },
  {
   "cell_type": "markdown",
   "metadata": {},
   "source": [
    "# TEST  `_infer_endoplasmic_reticulum` function"
   ]
  },
  {
   "cell_type": "code",
   "execution_count": 21,
   "metadata": {},
   "outputs": [],
   "source": [
    "\n",
    "_er_object =  _fixed_infer_endoplasmic_reticulum(img_data) \n"
   ]
  },
  {
   "cell_type": "code",
   "execution_count": 22,
   "metadata": {},
   "outputs": [],
   "source": [
    "from infer_subc_2d.organelles import fixed_infer_endoplasmic_reticulum\n",
    "\n",
    "er_object =  fixed_infer_endoplasmic_reticulum(img_data) \n"
   ]
  },
  {
   "attachments": {},
   "cell_type": "markdown",
   "metadata": {},
   "source": [
    "## Visualize  2\n"
   ]
  },
  {
   "cell_type": "code",
   "execution_count": 23,
   "metadata": {},
   "outputs": [
    {
     "data": {
      "text/plain": [
       "<Image layer '_er_object' at 0x13f4475e0>"
      ]
     },
     "execution_count": 23,
     "metadata": {},
     "output_type": "execute_result"
    }
   ],
   "source": [
    "\n",
    "viewer.add_image(\n",
    "    er_object,\n",
    ")\n",
    "viewer.add_labels(\n",
    "    label(er_object),\n",
    ")\n",
    "\n",
    "\n",
    "viewer.add_image(\n",
    "    _er_object,\n",
    ")"
   ]
  },
  {
   "cell_type": "code",
   "execution_count": 24,
   "metadata": {},
   "outputs": [
    {
     "data": {
      "image/png": "[encoded data removed]",
      "text/html": [
       "<img src=\"data:image/png;base64,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\"></img>"
      ],
      "text/plain": [
       "<napari.utils.notebook_display.NotebookScreenshot at 0x175693700>"
      ]
     },
     "execution_count": 24,
     "metadata": {},
     "output_type": "execute_result"
    }
   ],
   "source": [
    "from napari.utils.notebook_display import nbscreenshot\n",
    "\n",
    "# viewer.dims.ndisplay = 3\n",
    "# viewer.camera.angles = (-30, 25, 120)\n",
    "nbscreenshot(viewer, canvas_only=True)"
   ]
  },
  {
   "cell_type": "code",
   "execution_count": 25,
   "metadata": {},
   "outputs": [],
   "source": [
    "viewer.close()"
   ]
  },
  {
   "attachments": {},
   "cell_type": "markdown",
   "metadata": {},
   "source": [
    "-----------------\n",
    "Write the `infer_endoplasmic_reticulum` spec to the widget json "
   ]
  },
  {
   "cell_type": "code",
   "execution_count": 22,
   "metadata": {},
   "outputs": [
    {
     "name": "stdout",
     "output_type": "stream",
     "text": [
      "function fixed_infer_er is already in all_functions.json\n",
      "overwriting  fixed_infer_er\n"
     ]
    },
    {
     "data": {
      "text/plain": [
       "1"
      ]
     },
     "execution_count": 22,
     "metadata": {},
     "output_type": "execute_result"
    }
   ],
   "source": [
    "from infer_subc_2d.organelles_config.helper import add_function_spec_to_widget_json\n",
    "\n",
    "_fixed_infer_er =  {\n",
    "        \"name\": \"infer endoplasmic reticulum  (fixed parameters)\",\n",
    "        \"python::module\": \"infer_subc_2d.organelles\",\n",
    "        \"python::function\": \"fixed_infer_endoplasmic_reticulum\",\n",
    "        \"parameters\": None\n",
    "        }\n",
    "\n",
    "add_function_spec_to_widget_json(\"fixed_infer_er\",_fixed_infer_er, overwrite=True)"
   ]
  },
  {
   "cell_type": "code",
   "execution_count": 23,
   "metadata": {},
   "outputs": [
    {
     "name": "stdout",
     "output_type": "stream",
     "text": [
      "function infer_er is already in all_functions.json\n",
      "overwriting  infer_er\n"
     ]
    },
    {
     "data": {
      "text/plain": [
       "1"
      ]
     },
     "execution_count": 23,
     "metadata": {},
     "output_type": "execute_result"
    }
   ],
   "source": [
    "\n",
    "_infer_er =  {\n",
    "        \"name\": \"Infer Endoplasmic Reticulum\",\n",
    "        \"python::module\": \"infer_subc_2d.organelles\",\n",
    "        \"python::function\": \"infer_endoplasmic_reticulum\",\n",
    "        \"parameters\": {\n",
    "                \"filament_scale\": {\n",
    "                        \"data_type\": \"float\",\n",
    "                        \"increment\": 0.05,\n",
    "                        \"max\": 10,\n",
    "                        \"min\": 0,\n",
    "                        \"widget_type\": \"slider\"\n",
    "                },\n",
    "                \"filament_cut\": {\n",
    "                        \"data_type\": \"float\",\n",
    "                        \"increment\": 0.001,\n",
    "                        \"max\": 0.5,\n",
    "                        \"min\": 0,\n",
    "                        \"widget_type\": \"slider\"\n",
    "                },\n",
    "                \"small_obj_w\": {\n",
    "                        \"data_type\": \"int\",\n",
    "                        \"increment\": 1,\n",
    "                        \"max\": 50,\n",
    "                        \"min\": 1,\n",
    "                        \"widget_type\": \"slider\"\n",
    "                }\n",
    "        }\n",
    "}\n",
    "\n",
    "add_function_spec_to_widget_json(\"infer_er\", _infer_er, overwrite=True )\n",
    "\n"
   ]
  },
  {
   "attachments": {},
   "cell_type": "markdown",
   "metadata": {},
   "source": [
    "##  helper function definitions\n",
    "\n",
    "Wrappers for vessleness filters"
   ]
  },
  {
   "cell_type": "code",
   "execution_count": 24,
   "metadata": {},
   "outputs": [
    {
     "name": "stdout",
     "output_type": "stream",
     "text": [
      "function filament_filter is already in all_functions.json\n",
      "overwriting  filament_filter\n"
     ]
    },
    {
     "data": {
      "text/plain": [
       "1"
      ]
     },
     "execution_count": 24,
     "metadata": {},
     "output_type": "execute_result"
    }
   ],
   "source": [
    "\n",
    "_filament_filter =  {\n",
    "        \"name\": \"filament filter thresholding\",\n",
    "        \"python::module\": \"infer_subc_2d.utils.img\",\n",
    "        \"python::function\": \"filament_filter\",\n",
    "        \"parameters\": {\n",
    "                \"filament_scale\": {\n",
    "                        \"data_type\": \"float\",\n",
    "                        \"increment\": 0.05,\n",
    "                        \"max\": 10,\n",
    "                        \"min\": 0,\n",
    "                        \"widget_type\": \"slider\"\n",
    "                },\n",
    "                \"filament_cut\": {\n",
    "                        \"data_type\": \"float\",\n",
    "                        \"increment\": 0.001,\n",
    "                        \"max\": 0.5,\n",
    "                        \"min\": 0,\n",
    "                        \"widget_type\": \"slider\"\n",
    "                },\n",
    "        }\n",
    "}\n",
    "\n",
    "add_function_spec_to_widget_json(\"filament_filter\", _filament_filter, overwrite=True )\n",
    "\n"
   ]
  },
  {
   "attachments": {},
   "cell_type": "markdown",
   "metadata": {},
   "source": [
    "-------------------------------\n",
    "## Write workflow .json\n",
    "Now that we've added our function specs we can compose workflows."
   ]
  },
  {
   "cell_type": "code",
   "execution_count": 25,
   "metadata": {},
   "outputs": [],
   "source": [
    "from infer_subc_2d.constants import ER_CH\n",
    "def make_infer_er_step_by_step_from_raw_dict():\n",
    "    \"\"\"\n",
    "    Procedure to infer mitochondria from linearly unmixed input from raw\n",
    "\n",
    "    \"\"\"\n",
    "    step_name = []\n",
    "    function_name = []\n",
    "    category =[]\n",
    "    parameter_values = []\n",
    "    parent = []\n",
    "   \n",
    "    ###################\n",
    "    # EXTRACT\n",
    "    ###################   \n",
    "    step_name = []\n",
    "    function_name = []\n",
    "    category =[]\n",
    "    parameter_values = []\n",
    "    parent = []\n",
    "   \n",
    "    ###################\n",
    "    # EXTRACT\n",
    "    ###################   \n",
    "\n",
    "    step_name.append(\"1\")\n",
    "    function_name.append(\"fixed_get_optimal_Z_img\")\n",
    "    category.append(\"extraction\")\n",
    "    parameter_values.append(None)\n",
    "    parent.append(0)\n",
    "\n",
    "    step_name.append(\"2\")\n",
    "    function_name.append(\"fixed_infer_soma\")\n",
    "    category.append(\"extraction\")\n",
    "    parameter_values.append( None )\n",
    "    parent.append(1)\n",
    "\n",
    "    step_name.append(\"3\")\n",
    "    function_name.append(\"fixed_infer_nuclei\")\n",
    "    category.append(\"extraction\")\n",
    "    parameter_values.append( None )\n",
    "    parent.append([1,2])\n",
    "\n",
    "    step_name.append(\"4\")\n",
    "    function_name.append(\"infer_cytosol\")\n",
    "    category.append(\"extraction\")\n",
    "    parameter_values.append(dict(erode_nuclei = True ))\n",
    "    parent.append([2,3])\n",
    "\n",
    "    step_name.append(\"5\")\n",
    "    function_name.append(\"select_channel_from_raw\")\n",
    "    category.append(\"extraction\")\n",
    "    parameter_values.append( dict(chan = ER_CH) )\n",
    "    parent.append(1)\n",
    "    \n",
    "    step_name.append(\"6\")\n",
    "    function_name.append(\"min_max_intensity_normalization\")\n",
    "    category.append(\"preprocessing\")\n",
    "    parameter_values.append(None)\n",
    "    parent.append(5)\n",
    "\n",
    "    step_name.append(\"7\")\n",
    "    function_name.append(\"edge_preserving_smoothing\")\n",
    "    category.append(\"preprocessing\")\n",
    "    parameter_values.append(None)\n",
    "    parent.append(6)\n",
    "\n",
    "    step_name.append(\"8\")\n",
    "    function_name.append(\"filament_filter\") \n",
    "    category.append(\"core\")\n",
    "    parameter_values.append( dict( filament_scale=1., filament_cut=.15) )\n",
    "    parent.append(7)\n",
    "\n",
    "    step_name.append(\"9\")\n",
    "    function_name.append(\"apply_mask\")\n",
    "    category.append(\"postprocessing\")\n",
    "    parameter_values.append(None)\n",
    "    parent.append([8,4])\n",
    "\n",
    "    step_name.append(\"10\")\n",
    "    function_name.append(\"size_filter_linear_size\")\n",
    "    category.append(\"postprocessing\")\n",
    "    parameter_values.append(dict( min_size = 2**2  ))\n",
    "    parent.append(9)\n",
    "\n",
    "    out_dict = dict()\n",
    "    for i,stepn in enumerate(step_name):\n",
    "        entry = dict(category=category[i],\n",
    "                            function=function_name[i],\n",
    "                            parameter_values=parameter_values[i],\n",
    "                            parent=parent[i]\n",
    "        )\n",
    "        if entry['parameter_values'] is None:\n",
    "            _ = entry.pop('parameter_values')\n",
    "        out_dict[stepn] = entry\n",
    "    \n",
    "    return out_dict\n",
    "\n"
   ]
  },
  {
   "cell_type": "code",
   "execution_count": 26,
   "metadata": {},
   "outputs": [
    {
     "data": {
      "text/plain": [
       "PosixPath('/Users/ahenrie/Projects/Imaging/infer-subc-2D/infer_subc_2d/organelles_config/conf_1.8.er_stepbystep_from_raw.json')"
      ]
     },
     "execution_count": 26,
     "metadata": {},
     "output_type": "execute_result"
    }
   ],
   "source": [
    "from infer_subc_2d.organelles_config.helper import write_workflow_json\n",
    "\n",
    "infer_er_stepbystep_from_raw_dict = make_infer_er_step_by_step_from_raw_dict()\n",
    "\n",
    "write_workflow_json(\"conf_1.8.er_stepbystep_from_raw\", infer_er_stepbystep_from_raw_dict)"
   ]
  },
  {
   "cell_type": "code",
   "execution_count": 27,
   "metadata": {},
   "outputs": [],
   "source": [
    "viewer.close()"
   ]
  },
  {
   "attachments": {},
   "cell_type": "markdown",
   "metadata": {},
   "source": [
    "-------------\n",
    "## SUMMARY\n",
    "\n",
    "The above details how the endoplasmic reticulum object is inferred.  \n",
    "\n",
    "### NEXT: INFER LIPID BODY\n",
    "\n",
    "proceed to [09_infer_lipid_body.ipynb](./09_infer_lipid_body.ipynb)\n"
   ]
  }
 ],
 "metadata": {
  "kernelspec": {
   "display_name": "Python 3.9.13 ('napariNEW')",
   "language": "python",
   "name": "python3"
  },
  "language_info": {
   "codemirror_mode": {
    "name": "ipython",
    "version": 3
   },
   "file_extension": ".py",
   "mimetype": "text/x-python",
   "name": "python",
   "nbconvert_exporter": "python",
   "pygments_lexer": "ipython3",
   "version": "3.9.16"
  },
  "orig_nbformat": 4,
  "vscode": {
   "interpreter": {
    "hash": "d6148ef1fb015fb20f0b6da2ea61c87c6b848bdf3dabb03087e5d5cd0c4607e9"
   }
  }
 },
 "nbformat": 4,
 "nbformat_minor": 2
}
