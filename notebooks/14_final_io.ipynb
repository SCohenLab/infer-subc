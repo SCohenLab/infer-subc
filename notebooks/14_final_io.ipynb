{
 "cells": [
  {
   "attachments": {},
   "cell_type": "markdown",
   "metadata": {},
   "source": [
    "# PUTATIVE WORKFLOW\n",
    "\n",
    "\n",
    "## WORKFLOW EDITOR PLUGIN\n",
    "- FINE-TUNE SEGMENTATIONS\n",
    "  - export workflow.jsons\n",
    "    - masks:\n",
    "      - nuclei\n",
    "      - cellmask\n",
    "      - cytoplasm\n",
    "    - organelles:\n",
    "      - lyso\n",
    "      - mito\n",
    "      - golgi\n",
    "      - perox\n",
    "      - ER\n",
    "      - LD\n",
    "\n",
    "\n",
    "## BATCHPROCESS WORKFLOW\n",
    "- BATCH PROCESS\n",
    "  - load workflow.jsons for: \n",
    "  1. masks\n",
    "    - export: masks .tiff as stack (nuclei, cellmask, cytoplasm)\n",
    "  2. organelles\n",
    "    - export individual .tiffs\n",
    "\n",
    "\n",
    "\n",
    "## NOTEBOOK OR ***FUTURE*** PLUGIN\n",
    "- COLLECT ORGANELLE STATS\n",
    "  - extract masks.tiffs as individual\n",
    "    - nuclei, cellmask, cytoplasm\n",
    "  - collect regionprops for all organelles\n",
    "    - export .csvs\n",
    "\n",
    "\n",
    "## NOTEBOOK OR __FUTURE__ PLUGIN\n",
    "- SUMMARIZE STUDY DATA\n",
    "  - munge .csv to create summary stats across all cells/images\n",
    "\n",
    "\n"
   ]
  },
  {
   "attachments": {},
   "cell_type": "markdown",
   "metadata": {},
   "source": [
    "### IMports\n"
   ]
  },
  {
   "cell_type": "code",
   "execution_count": null,
   "metadata": {},
   "outputs": [],
   "source": [
    "from infer_subc_2d.organelles_config.helper import write_workflow_json\n"
   ]
  },
  {
   "cell_type": "code",
   "execution_count": null,
   "metadata": {},
   "outputs": [],
   "source": [
    "import infer_subc_2d.constants"
   ]
  },
  {
   "attachments": {},
   "cell_type": "markdown",
   "metadata": {},
   "source": [
    "-----------------\n",
    "## EXTRACT mask stack\n",
    "\n",
    "\n"
   ]
  },
  {
   "attachments": {},
   "cell_type": "markdown",
   "metadata": {},
   "source": [
    "_____________\n",
    "\n",
    "## TO DO\n",
    "- add \"segmentation name\" field instead of copying from workflow.json name\n",
    "\n",
    "\n",
    "- choose alternate conf_XXX.json location. \n",
    "  - strategy:  add to \"prebuilt\" list from path\n",
    "\n",
    "\n",
    "  \n",
    "  ## FILE NAME CONVENTIONS\n",
    "\n",
    "  raw file name is kept.\n",
    "\n",
    "  PREFIX = \"segmentation name\" or regionprop name.  e.g. \n",
    "  SUFFIX = \"description\" i.e. "
   ]
  },
  {
   "cell_type": "code",
   "execution_count": null,
   "metadata": {},
   "outputs": [],
   "source": []
  }
 ],
 "metadata": {
  "kernelspec": {
   "display_name": "napariNEW",
   "language": "python",
   "name": "python3"
  },
  "language_info": {
   "codemirror_mode": {
    "name": "ipython",
    "version": 3
   },
   "file_extension": ".py",
   "mimetype": "text/x-python",
   "name": "python",
   "nbconvert_exporter": "python",
   "pygments_lexer": "ipython3",
   "version": "3.9.16"
  },
  "orig_nbformat": 4
 },
 "nbformat": 4,
 "nbformat_minor": 2
}
