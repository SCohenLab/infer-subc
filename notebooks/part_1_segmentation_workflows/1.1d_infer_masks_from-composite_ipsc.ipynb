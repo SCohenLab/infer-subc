{
 "cells": [
  {
   "cell_type": "markdown",
   "id": "e51d64c2",
   "metadata": {},
   "source": [
    "# **Infer `Cellmask` and `Nucleus`**\n",
    "\n",
    "***Prior to this notebook, you should have already run through [1.0_image_setup](1.0_image_setup.ipynb).***\n",
    "\n",
    "### ➡️ **Input:**\n",
    "In this workflow, a single or multi-channel confocal microscopy image of fluorescently tagged organelles will be used to \"infer\" (or segment) the cell and nucleus masks. The following setup is recommended for this pipeline:\n",
    "\n",
    "| **Imaging Requirements**|[**Masks Workflow (D)**](./1.1d_infer_masks_from-composite_ipsc.ipynb)|\n",
    "| :------------------------------------- |  :------:  |\n",
    "| Nuclei Marker                          |      ✔     |\n",
    "| Cell Membrane Marker                   |      ✔     |\n",
    "| Cytoplasmic Organelles                 |      ✔     |\n",
    "| Number of cells per image              |   Single or Multiple   |\n",
    "| Applicable with sample data         |  IPSC   |\n",
    "\n",
    "*If your images are not compatible with this setup, consider the other 1.1_Masks Workflows available:*\n",
    "\n",
    "| **Imaging Requirements**|[**Masks Workflow**](./1.1_infer_masks_from-composite_with_nuc.ipynb)|[**Masks Workflow (A)**](./1.1a_infer_masks_from-composite_single_cell.ipynb)|[**Masks Workflow (B)**](./1.1b_infer_masks_from-composite_multiple-cells.ipynb)|[**Masks Workflow (C)**](./1.1c_infer_masks_from-composite_neuron_with_pm.ipynb)|\n",
    "| :------------------------------------- |  :------:  |  :------:  |  :------:  |  :------:  |\n",
    "| Nuclei Marker                          |     ✔     |      ✘     |     ✘     |     ✔     |\n",
    "| Cell Membrane Marker                   |     ✘     |       ✘    |    ✘     |     ✔     |\n",
    "| Cytoplasmic Organelles                 |     ✔     |      ✔     |     ✔     |     ✔     |\n",
    "| Number of cells per image              |  Single or Multiple  |   Single   |  Single or Multiple |  Single or Multiple |\n",
    "| Applicable with sample data         |  ✘  | Neuron_1   |  Astrocyte | Neuron_2|\n",
    "\n",
    "### **Included in this Notebook:**\n",
    "1. **Infer *nuclei*** - Segment the ***nuclei*** from a single channel (nuclei marker). This will be necessary to determine the other subcellular compartments. The nuclei will also be used to seed the instance segmentation of the ***cell*** area (***cellmask***).\n",
    "    \n",
    "    *Convention: *\"nuclei\"* for the segmentation of ALL nuclei in the image. *\"nucleus\"* for the single nucleus associated to the single cell being analyzed after the cell with the most signal is determined.*\n",
    "\n",
    "2. **Infer *cellmask*** - Segment multiple ***cellmasks*** via a watershedding algorithm, then select the ***cellmask*** with the most aggregate signal. The **cellmask** will be necessary for selecting the ***nucleus***.\n",
    "-----"
   ]
  },
  {
   "cell_type": "markdown",
   "id": "2aa226aa",
   "metadata": {},
   "source": [
    "### 👣 **Summary of steps**\n",
    "\n",
    "➡️ **EXTRACTION**\n",
    "- **`STEP 1`** - Create composite image\n",
    "\n",
    "    - determine weight to apply to each channel of the intensity image (w# = user input)\n",
    "    - select plasma membrane channel (pm_channel = user input)\n",
    "    - choose whether to invert plasma membrane or not (invert_PM = user input)\n",
    "\n",
    "- **`STEP 2`** - Segment nuclei (from label)\n",
    "\n",
    "    - (A) select single channel containing the nuclei marker (channel number = user input)\n",
    "    - (B) rescale intensity of composite image (min=0, max=1); apply median (median size = user input) and gaussian filter (sigma = user input)\n",
    "    - (C) log transform image and calculate Li's minimum cross entropy threshold value; apply threshold to image (thresholding options = user input)\n",
    "    - (D) fill holes (hole size = user input) and remove small objects (object size = user input)\n",
    "    - (E) label nuclei objects\n",
    " \n",
    "**CORE PROCESSING**\n",
    "- **`STEP 3`** - Watershed for cellmask\n",
    "\n",
    "    - select plasma membrane channel (pm_channel = user input)\n",
    "    - perform water-shedding algorithm on composite using the nuclei as seeds (method = user input)\n",
    "\n",
    "**POST-PROCESSING**\n",
    "- **`STEP 4`** - Select cell from watershed\n",
    "\n",
    "    - cell mask (and corresponding nucleus) is selected based on maximum raw signal from composite image\n",
    "\n",
    "**POST-POST-PROCESSING**\n",
    "- **`STEP 5`** - Hole Filling\n",
    "\n",
    "    - fill holes (hole size = user input)\n",
    "    - determine filling method (fill_2d = user input)\n",
    "\n",
    "**OUTPUT** ➡️ \n",
    "- **`STEP 6`** - Stack layers\n",
    "\n",
    "    - Stack masks in order of nucleus, then cellmask"
   ]
  },
  {
   "cell_type": "markdown",
   "id": "5bfc90c7",
   "metadata": {},
   "source": [
    "---------------------\n",
    "## **IMPORTS AND LOAD IMAGE**\n",
    "Details about the functions included in this subsection are outlined in the [`1.0_image_setup`](1.0_image_setup.ipynb) notebook. Please visit that notebook first if you are confused about any of the code included here."
   ]
  },
  {
   "cell_type": "markdown",
   "id": "baef2ebe",
   "metadata": {},
   "source": [
    "#### &#x1F3C3; **Run code; no user input required**"
   ]
  },
  {
   "cell_type": "code",
   "execution_count": 6,
   "id": "c23686c0",
   "metadata": {},
   "outputs": [
    {
     "name": "stdout",
     "output_type": "stream",
     "text": [
      "The autoreload extension is already loaded. To reload it, use:\n",
      "  %reload_ext autoreload\n"
     ]
    }
   ],
   "source": [
    "from pathlib import Path\n",
    "import os\n",
    "\n",
    "import numpy as np\n",
    "import pandas as pd\n",
    "import napari\n",
    "from napari.utils.notebook_display import nbscreenshot\n",
    "\n",
    "from infer_subc.core.file_io import (read_czi_image, \n",
    "                                     export_inferred_organelle,\n",
    "                                     list_image_files,\n",
    "                                     sample_input)\n",
    "from infer_subc.core.img import *\n",
    "from infer_subc.organelles.membrane import *\n",
    "\n",
    "%load_ext autoreload\n",
    "%autoreload 2"
   ]
  },
  {
   "cell_type": "markdown",
   "id": "d23f7128",
   "metadata": {},
   "source": [
    "#### &#x1F6D1; &#x270D; **User Input Required:**\n",
    "\n",
    "Please specify the following information about your data: `im_type`, `data_root_path`, `in_data_path`, and `out_data_path`."
   ]
  },
  {
   "cell_type": "code",
   "execution_count": 7,
   "id": "4f741aed",
   "metadata": {},
   "outputs": [],
   "source": [
    "### USER INPUT REQUIRED ###\n",
    "# If using the sample data, set cell_type to \"ipsc\":\n",
    "# If not using the sample data, set cell_type to None\n",
    "sample_data_type = \"ipsc\"\n",
    "\n",
    "# If you are not using the sample data, please edit \"USER SPECIFIED\" as necessary.\n",
    "## Define the path to the directory that contains the input image folder.\n",
    "data_root_path = Path(\"USER SPECIFIED\")\n",
    "\n",
    "# Specify the file type of your raw data that will be analyzed. Ex) \".czi\" or \".tiff\"\n",
    "im_type = \"USER SPECIFIED\"\n",
    "\n",
    "## Specify which subfolder that contains the input data and the input data file extension\n",
    "in_data_path = data_root_path / \"USER SPECIFIED\"\n",
    "\n",
    "## Specify the output folder to save the segmentation outputs if.\n",
    "## If its not already created, the code below will creat it for you\n",
    "out_data_path = data_root_path / \"USER SPECIFIED\""
   ]
  },
  {
   "cell_type": "markdown",
   "id": "3d3e7859",
   "metadata": {},
   "source": [
    "#### &#x1F3C3; **Run code; no user input required**"
   ]
  },
  {
   "cell_type": "code",
   "execution_count": 8,
   "id": "75108374",
   "metadata": {},
   "outputs": [
    {
     "data": {
      "text/html": [
       "<div>\n",
       "<style scoped>\n",
       "    .dataframe tbody tr th:only-of-type {\n",
       "        vertical-align: middle;\n",
       "    }\n",
       "\n",
       "    .dataframe tbody tr th {\n",
       "        vertical-align: top;\n",
       "    }\n",
       "\n",
       "    .dataframe thead th {\n",
       "        text-align: right;\n",
       "    }\n",
       "</style>\n",
       "<table border=\"1\" class=\"dataframe\">\n",
       "  <thead>\n",
       "    <tr style=\"text-align: right;\">\n",
       "      <th></th>\n",
       "      <th>Image Name</th>\n",
       "    </tr>\n",
       "  </thead>\n",
       "  <tbody>\n",
       "    <tr>\n",
       "      <th>0</th>\n",
       "      <td>c:\\Users\\redre\\Documents\\CohenLab\\scohen_lab_repo\\infer-subc\\sample_data\\example_ipsc\\raw\\01202024_MSi08L_iPSCs_undiff_BR5_N14_Unmixing_0_cmle.ome.tiff</td>\n",
       "    </tr>\n",
       "  </tbody>\n",
       "</table>\n",
       "</div>"
      ],
      "text/plain": [
       "                                                                                                                                                Image Name\n",
       "0  c:\\Users\\redre\\Documents\\CohenLab\\scohen_lab_repo\\infer-subc\\sample_data\\example_ipsc\\raw\\01202024_MSi08L_iPSCs_undiff_BR5_N14_Unmixing_0_cmle.ome.tiff"
      ]
     },
     "execution_count": 8,
     "metadata": {},
     "output_type": "execute_result"
    }
   ],
   "source": [
    "# If sample_data_type is set \"neuron_1\", then the sample data is used and the directories are set\n",
    "if sample_data_type != None:\n",
    "    data_root_path, im_type, in_data_path, out_data_path = sample_input(sample_data_type)\n",
    "\n",
    "# list files in the input folder\n",
    "img_file_list = list_image_files(in_data_path,im_type)\n",
    "pd.set_option('display.max_colwidth', None)\n",
    "pd.DataFrame({\"Image Name\":img_file_list})"
   ]
  },
  {
   "cell_type": "markdown",
   "id": "dc3553a2",
   "metadata": {},
   "source": [
    "#### &#x1F6D1; &#x270D; **User Input Required:**\n",
    "\n",
    "Use the list above to specify which image you wish to analyze based on its index: `test_img_n`"
   ]
  },
  {
   "cell_type": "code",
   "execution_count": 9,
   "id": "f09e11d6",
   "metadata": {},
   "outputs": [],
   "source": [
    "#### USER INPUT REQUIRED ###\n",
    "test_img_n = 0"
   ]
  },
  {
   "cell_type": "markdown",
   "id": "885656ac",
   "metadata": {},
   "source": [
    "#### &#x1F3C3; **Run code; no user input required**"
   ]
  },
  {
   "cell_type": "code",
   "execution_count": 10,
   "id": "9605a981",
   "metadata": {},
   "outputs": [
    {
     "name": "stdout",
     "output_type": "stream",
     "text": [
      "Metadata information\n",
      "File path: c:\\Users\\redre\\Documents\\CohenLab\\scohen_lab_repo\\infer-subc\\sample_data\\example_ipsc\\raw\\01202024_MSi08L_iPSCs_undiff_BR5_N14_Unmixing_0_cmle.ome.tiff\n",
      "Channel 0 name: 01202024_MSi08L_iPSCs_undiff_BR5_N14_Unmixing_0_cmle.ome :: Channel:0\n",
      "Channel 1 name: 01202024_MSi08L_iPSCs_undiff_BR5_N14_Unmixing_0_cmle.ome :: Channel:1\n",
      "Channel 2 name: 01202024_MSi08L_iPSCs_undiff_BR5_N14_Unmixing_0_cmle.ome :: Channel:2\n",
      "Channel 3 name: 01202024_MSi08L_iPSCs_undiff_BR5_N14_Unmixing_0_cmle.ome :: Channel:3\n",
      "Channel 4 name: 01202024_MSi08L_iPSCs_undiff_BR5_N14_Unmixing_0_cmle.ome :: Channel:4\n",
      "Channel 5 name: 01202024_MSi08L_iPSCs_undiff_BR5_N14_Unmixing_0_cmle.ome :: Channel:5\n",
      "Channel 6 name: 01202024_MSi08L_iPSCs_undiff_BR5_N14_Unmixing_0_cmle.ome :: Channel:6\n",
      "Channel 7 name: 01202024_MSi08L_iPSCs_undiff_BR5_N14_Unmixing_0_cmle.ome :: Channel:7\n",
      "Channel 8 name: 01202024_MSi08L_iPSCs_undiff_BR5_N14_Unmixing_0_cmle.ome :: Channel:8\n",
      "Channel 9 name: 01202024_MSi08L_iPSCs_undiff_BR5_N14_Unmixing_0_cmle.ome :: Channel:9\n",
      "Scale (ZYX): (0.450743, 0.07064, 0.07064)\n",
      "Channel axis: 0\n",
      "\n",
      "Proceed to Napari window to view your selected image.\n"
     ]
    }
   ],
   "source": [
    "# load image and metadata\n",
    "test_img_name = img_file_list[test_img_n]\n",
    "img_data,meta_dict = read_czi_image(test_img_name)\n",
    "\n",
    "# metadata\n",
    "channel_names = meta_dict['name']\n",
    "meta = meta_dict['metadata']['aicsimage']\n",
    "scale = meta_dict['scale']\n",
    "channel_axis = meta_dict['channel_axis']\n",
    "file_path = meta_dict['file_name']\n",
    "print(\"Metadata information\")\n",
    "print(f\"File path: {file_path}\")\n",
    "for i in list(range(len(channel_names))):\n",
    "    print(f\"Channel {i} name: {channel_names[i]}\")\n",
    "print(f\"Scale (ZYX): {scale}\")\n",
    "print(f\"Channel axis: {channel_axis}\")\n",
    "\n",
    "# open viewer and add images\n",
    "viewer = napari.Viewer()\n",
    "for i in list(range(len(channel_names))):\n",
    "    viewer.add_image(img_data[i],\n",
    "                     scale=scale,\n",
    "                     name=f\"Channel {i}\")\n",
    "viewer.grid.enabled = True\n",
    "viewer.reset_view()\n",
    "print(\"\\nProceed to Napari window to view your selected image.\")"
   ]
  },
  {
   "cell_type": "markdown",
   "id": "57e95e82",
   "metadata": {},
   "source": [
    "-----\n",
    "\n",
    "## **EXTRACTION**"
   ]
  },
  {
   "cell_type": "markdown",
   "id": "2a4a2cb9",
   "metadata": {},
   "source": [
    "### **`STEP 1` - Create composite image**\n",
    "\n",
    "&#x1F453; **FYI:** This code block creates the composite image of the organelle channels. The intensity of each channel is combined with specified weights.\n",
    "\n",
    "#### &#x1F6D1; &#x270D; **User Input Required:**\n",
    "\n",
    "Please specify the following values:\n",
    "- `Invert_PM`: \"True\" inverts the intensities of the plasma membrane channel when added to the composite image; \"False\" leaves the intensity values as is when added to the composite image\n",
    "- `PM_channel`: the index of the channel containing your plasma membrane label. Image indexing begins with 0, not 1. Reference the channel numbers indicated in the Napari window for easy reference.\n",
    "- `weight_ch0`: the weight of channel 0 (the first channel); a value of 0 will exclude this channel from the compostite; large values will cause this channel to be more prominent in the final composite image\n",
    "- `weight_ch1`: the weight of channel 1\n",
    "- `weight_ch2`: the weight of channel 2\n",
    "- `weight_ch3`: the weight of channel 3\n",
    "- `weight_ch4`: the weight of channel 4\n",
    "- `weight_ch5`: the weight of channel 5\n",
    "- `weight_ch6`: the weight of channel 6\n",
    "- `weight_ch7`: the weight of channel 7\n",
    "- `weight_ch8`: the weight of channel 8\n",
    "- `weight_ch9`: the weight of channel 9"
   ]
  },
  {
   "cell_type": "code",
   "execution_count": 11,
   "id": "2ff07dce",
   "metadata": {},
   "outputs": [],
   "source": [
    "#### USER INPUT REQUIRED ###\n",
    "invert_pm = False\n",
    "PM_CH = 7\n",
    "w0 = 0\n",
    "w1 = 0\n",
    "w2 = 2\n",
    "w3 = 2\n",
    "w4 = 2\n",
    "w5 = 2\n",
    "w6 = 2\n",
    "w7 = 0\n",
    "w8 = 0\n",
    "w9 = 0"
   ]
  },
  {
   "cell_type": "markdown",
   "id": "1816b5f8",
   "metadata": {},
   "source": [
    "#### &#x1F3C3; **Run code; no user input required**\n",
    "\n",
    "&#x1F453; **FYI:** This code block creates the composite based on the settings above. The image is then added to Napari as a new layer for visual comparison to the input image. \n",
    "\n",
    "Use the Napari viewer to iteratively adjust the weights selected above."
   ]
  },
  {
   "cell_type": "code",
   "execution_count": 12,
   "id": "bbf3e979",
   "metadata": {},
   "outputs": [
    {
     "data": {
      "text/plain": [
       "<Image layer '1-Cell: Create composite' at 0x201094fb340>"
      ]
     },
     "execution_count": 12,
     "metadata": {},
     "output_type": "execute_result"
    }
   ],
   "source": [
    "# make aggregate\n",
    "struct_img_raw = membrane_composite(img_data,\n",
    "                                weight_ch0= w0,\n",
    "                                weight_ch1= w1,\n",
    "                                weight_ch2= w2,\n",
    "                                weight_ch3= w3,\n",
    "                                weight_ch4= w4,\n",
    "                                weight_ch5= w5,\n",
    "                                weight_ch6= w6,\n",
    "                                weight_ch7= w7,\n",
    "                                weight_ch8= w8,\n",
    "                                weight_ch9= w9,\n",
    "                                Invert_PM = invert_pm,\n",
    "                                PM_Channel = PM_CH)\n",
    "\n",
    "# adding image to Napari as a new layer\n",
    "viewer.layers.clear()\n",
    "viewer.grid.enabled = False\n",
    "viewer.reset_view()\n",
    "viewer.add_image(img_data, scale=scale)\n",
    "viewer.add_image(struct_img_raw, scale=scale, name=\"1-Cell: Create composite\")"
   ]
  },
  {
   "cell_type": "markdown",
   "id": "14098a39",
   "metadata": {},
   "source": [
    "### **`STEP 2` - Segment nuclei (from label)**\n",
    "#### **`A. Select channel`**\n",
    "\n",
    "#### &#x1F6D1; &#x270D; **User Input Required:**\n",
    "\n",
    "Please specify which channel includes your nuclei label:\n",
    "- `NUC_CH`: the index of the channel containing your nuclei label. Image indexing begins with 0, not 1. Reference the channel numbers indicated in the Napari window for easy reference."
   ]
  },
  {
   "cell_type": "code",
   "execution_count": 13,
   "id": "e8ee68e2",
   "metadata": {},
   "outputs": [],
   "source": [
    "#### USER INPUT REQUIRED ###\n",
    "NUC_CH = 1"
   ]
  },
  {
   "cell_type": "markdown",
   "id": "43bee952",
   "metadata": {},
   "source": [
    "#### &#x1F3C3; **Run code; no user input required**\n",
    "\n",
    "&#x1F453; **FYI:** This code block extracts the nuclei channel from your multi-channel image. It will be the only part of the image used in the rest of this section of the workflow. The single nuclei channel is added to the Napari viewer."
   ]
  },
  {
   "cell_type": "code",
   "execution_count": 14,
   "id": "fdd4425e",
   "metadata": {},
   "outputs": [
    {
     "data": {
      "text/plain": [
       "<Image layer '2-Nuc: Extract Channel' at 0x2010f9c7b50>"
      ]
     },
     "execution_count": 14,
     "metadata": {},
     "output_type": "execute_result"
    }
   ],
   "source": [
    "# select channel\n",
    "raw_nuclei = select_channel_from_raw(img_data, NUC_CH)\n",
    "\n",
    "# add single channel as a new layer\n",
    "viewer.add_image(raw_nuclei, scale=scale, name=\"2-Nuc: Extract Channel\")"
   ]
  },
  {
   "cell_type": "markdown",
   "id": "1014c05c",
   "metadata": {},
   "source": [
    "### **`B. Rescale and smooth image`**\n",
    "\n",
    "&#x1F453; **FYI:** This code block rescales the image so that the pixel/voxel with the highest intensity is set to 1 and the one with the lowest intensity is set to 0. The image is then *optionally* smoothed using a Gaussian and/or median filter. \n",
    "\n",
    "<mark> Include more information on the Gaussian and median filtering methods here </mark>\n",
    "\n",
    "#### &#x1F6D1; &#x270D; **User Input Required:**\n",
    "\n",
    "Please specify the amount of filter to use for each method. Higher values indicate more smoothing:\n",
    "- `med_filter_size`: the size of the median filter to apply; if 0 is used, no filter will be applied\n",
    "- `gaussian_smoothing_sigma`: the sigma to apply in the Gaussian filtering step; if 0 is used, no filter will be applied"
   ]
  },
  {
   "cell_type": "code",
   "execution_count": 15,
   "id": "5173d0e0",
   "metadata": {},
   "outputs": [],
   "source": [
    "#### USER INPUT REQUIRED ###\n",
    "nuc_med_filter_size = 4   \n",
    "nuc_gaussian_smoothing_sigma = 2.0"
   ]
  },
  {
   "cell_type": "markdown",
   "id": "32093bde",
   "metadata": {},
   "source": [
    "#### &#x1F3C3; **Run code; no user input required**\n",
    "\n",
    "&#x1F453; **FYI:** This code block rescales the image and applies the specified median and Gaussian filters. The image is then added to Napari as a new layer for visual comparison to the input image. \n",
    "\n",
    "Use the Napari viewer to iteratively adjust the smoothing settings selected above."
   ]
  },
  {
   "cell_type": "code",
   "execution_count": 16,
   "id": "06360b0a",
   "metadata": {},
   "outputs": [
    {
     "data": {
      "text/plain": [
       "<Image layer '2-Nuc: Rescale and Smooth' at 0x20106f040a0>"
      ]
     },
     "execution_count": 16,
     "metadata": {},
     "output_type": "execute_result"
    }
   ],
   "source": [
    "# rescaling and smoothing input image\n",
    "nuclei =  scale_and_smooth(raw_nuclei,\n",
    "                           median_size = nuc_med_filter_size, \n",
    "                           gauss_sigma = nuc_gaussian_smoothing_sigma)\n",
    "\n",
    "# adding image to Napari as a new layer\n",
    "viewer.add_image(nuclei, scale=scale, name=\"2-Nuc: Rescale and Smooth\")"
   ]
  },
  {
   "cell_type": "markdown",
   "id": "b8640bfd",
   "metadata": {},
   "source": [
    "### **`C. Apply log transform and threshold`**\n",
    "\n",
    "&#x1F453; **FYI:** This code block applies a log transform and creates semantic segmentation using [Li's Minimum Cross Entropy](https://scikit-image.org/docs/stable/api/skimage.filters.html#skimage.filters.threshold_li) method. `Semantic segmentation` is the process of deciding whether a pixel/voxel should be included in an object (labeled with a value of 1) or should be considered as part of the background (labeled with a value of 0). A semantic segmentation does not discern individual objects from one another.\n",
    "\n",
    "\n",
    "#### &#x1F6D1; &#x270D; **User Input Required:**\n",
    "\n",
    "Please specify the following information:\n",
    "- `threshold_factor`: adjustment to make to the local threshold; larger values make the segmentation more stringent (less area included)\n",
    "- `thresh_min`: minimum bound of the threshold\n",
    "- `thresh_max`: maximum bound of the threshold"
   ]
  },
  {
   "cell_type": "code",
   "execution_count": 17,
   "id": "888f28d9",
   "metadata": {},
   "outputs": [],
   "source": [
    "#### USER INPUT REQUIRED ###\n",
    "nuc_threshold_factor = 0.9\n",
    "nuc_thresh_min = .1\n",
    "nuc_thresh_max = 1."
   ]
  },
  {
   "cell_type": "markdown",
   "id": "7f9bab11",
   "metadata": {},
   "source": [
    "#### &#x1F3C3; **Run code; no user input required**\n",
    "\n",
    "&#x1F453; **FYI:** This code block executes the log transform and threshold using the settings above.\n",
    "\n",
    "Use the Napari viewer to iteratively adjust the filter settings as needed."
   ]
  },
  {
   "cell_type": "code",
   "execution_count": 18,
   "id": "a429592a",
   "metadata": {},
   "outputs": [
    {
     "data": {
      "text/plain": [
       "<Image layer '2-Nuc: Threshold' at 0x201106fb670>"
      ]
     },
     "execution_count": 18,
     "metadata": {},
     "output_type": "execute_result"
    }
   ],
   "source": [
    "# log transform the image, calculate the threshold value using Li minimum cross entropy method, inverse log transform the value\n",
    "li_thresholded = apply_log_li_threshold(nuclei, \n",
    "                                        thresh_factor=nuc_threshold_factor, \n",
    "                                        thresh_min=nuc_thresh_min, \n",
    "                                        thresh_max=nuc_thresh_max)\n",
    "\n",
    "# adding image to Napari as a new layer\n",
    "viewer.add_image(li_thresholded, scale=scale, name=\"2-Nuc: Threshold\", opacity=0.3, colormap=\"cyan\", blending='additive')"
   ]
  },
  {
   "cell_type": "markdown",
   "id": "1b3416a2",
   "metadata": {},
   "source": [
    "### **`D. Remove small holes and objects`**\n",
    "\n",
    "&#x1F453; **FYI:** This code block cleans up the semantic segmentation by filling small holes and/or removing small objects that can be considered errors in the initial segmentation. \n",
    "\n",
    "#### &#x1F6D1; &#x270D; **User Input Required:**\n",
    "\n",
    "Please specify the following values:\n",
    "- `hole_min_width`: the width of the smallest hole to be filled\n",
    "- `hole_max_width`: the width of the largest hole to be filled\n",
    "- `small_object_width`: the width of the largest object to be removed; any object smaller than this size will be removed\n",
    "- `fill_filter_method`: \"3D\" processes the image taking into account segmentation values in three dimensions (XYZ); \"slice-by-slice\" processes each Z-slice in the image separately, not considering the segmentation results in higher or lower Z planes."
   ]
  },
  {
   "cell_type": "code",
   "execution_count": 19,
   "id": "1483982e",
   "metadata": {},
   "outputs": [],
   "source": [
    "#### USER INPUT REQUIRED ###\n",
    "nuc_hole_min_width = 0\n",
    "nuc_hole_max_width = 40 \n",
    "\n",
    "nuc_small_object_width = 25\n",
    "\n",
    "nuc_fill_filter_method = \"3D\""
   ]
  },
  {
   "cell_type": "markdown",
   "id": "99bf2b2a",
   "metadata": {},
   "source": [
    "#### &#x1F3C3; **Run code; no user input required**\n",
    "\n",
    "&#x1F453; **FYI:** This code block executes the dot filter using the settings above.\n",
    "\n",
    "Use the Napari viewer to iteratively adjust the filter settings as needed. \n",
    "\n",
    "*Hint: white pixels/voxels are the ones remaining after this step*"
   ]
  },
  {
   "cell_type": "code",
   "execution_count": 20,
   "id": "9a3f3c8b",
   "metadata": {},
   "outputs": [
    {
     "data": {
      "text/plain": [
       "<Image layer '2-Nuc: Fill holes and remove small objects' at 0x20110be44c0>"
      ]
     },
     "execution_count": 20,
     "metadata": {},
     "output_type": "execute_result"
    }
   ],
   "source": [
    "# combine the above functions into one for downstream use in plugin\n",
    "cleaned_img = fill_and_filter_linear_size(li_thresholded, \n",
    "                                           hole_min=nuc_hole_min_width, \n",
    "                                           hole_max=nuc_hole_max_width, \n",
    "                                           min_size=nuc_small_object_width,\n",
    "                                           method=nuc_fill_filter_method)\n",
    "\n",
    "# adding image to Napari as a new layer\n",
    "viewer.add_image(cleaned_img, scale=scale, name=\"2-Nuc: Fill holes and remove small objects\", colormap=\"magenta\", blending=\"additive\")"
   ]
  },
  {
   "cell_type": "markdown",
   "id": "1998b37a",
   "metadata": {},
   "source": [
    "### **`E. - Label objects`**\n",
    "\n",
    "#### &#x1F3C3; **Run code; no user input required**\n",
    "&#x1F453; **FYI:** This code block takes the semantic segmentation and creates an `instance segmentation`. In this output, each individual object in the image is given a unique ID number. The background pixels/voxels are still labeled as 0, but now each pixle/voxel within an object is labeled as a positive integer. \n",
    "\n",
    "In this workflow objects are separated based on connectivity: if a pixel/voxel is touching another pixel/voxel in any direction, they are considered the same object and each pixel/voxel within that object is labeled as the same unique ID number. \n",
    "\n",
    "*In the Napari viewer, the image is added as a \"labels\" layer where each object appears as a different color.*"
   ]
  },
  {
   "cell_type": "code",
   "execution_count": 21,
   "id": "90fc1f15",
   "metadata": {},
   "outputs": [
    {
     "data": {
      "text/plain": [
       "<Labels layer '2-Nuc: Instance segmentation' at 0x20106cd1000>"
      ]
     },
     "execution_count": 21,
     "metadata": {},
     "output_type": "execute_result"
    }
   ],
   "source": [
    "# create instance segmentation based on connectivity\n",
    "nuclei_labels = label_uint16(cleaned_img)\n",
    "\n",
    "# adding image to Napari as a new layer\n",
    "viewer.add_labels(nuclei_labels, scale=scale, name=\"2-Nuc: Instance segmentation\")"
   ]
  },
  {
   "cell_type": "markdown",
   "id": "a4d0d384",
   "metadata": {},
   "source": [
    "-----\n",
    "## **CORE-PROCESSING**"
   ]
  },
  {
   "cell_type": "markdown",
   "id": "72018a62",
   "metadata": {},
   "source": [
    "### **`STEP 3` - Watershed for cellmask**\n",
    "\n",
    "&#x1F453; **FYI:** This code segments all of the cellmasks in the image. The process is accomplished with a [watershed](https://scikit-image.org/docs/stable/api/skimage.segmentation.html#skimage.segmentation.watershed) algorithm on the plasma membrane channel (values are inverted) where the nuclei are used as seeds. To perform the watershed in 3D, set Method = `\"3D\"`, or set Method = `\"slice_by_slice\"` to run it in 2D.\n",
    "\n",
    "#### &#x1F6D1; &#x270D; **User Input Required:**\n",
    "\n",
    "Please specify the following values:\n",
    "- `PM_channel`: the index of the channel containing your plasma membrane label. Image indexing begins with 0, not 1. Reference the channel numbers indicated in the Napari window for easy reference.\n",
    "- `Method`: \"3D\" processes the image taking into account segmentation values in three dimensions (XYZ); \"slice-by-slice\" processes each Z-slice in the image separately, not considering the segmentation results in higher or lower Z planes.\n"
   ]
  },
  {
   "cell_type": "code",
   "execution_count": 22,
   "id": "d7402763",
   "metadata": {},
   "outputs": [],
   "source": [
    "# parameters for watershed\n",
    "PM_CH = 7\n",
    "method = \"3D\""
   ]
  },
  {
   "cell_type": "code",
   "execution_count": 23,
   "id": "ac99e7d7",
   "metadata": {},
   "outputs": [
    {
     "data": {
      "text/plain": [
       "<Image layer '3-Cell: Watershed' at 0x20126150910>"
      ]
     },
     "execution_count": 23,
     "metadata": {},
     "output_type": "execute_result"
    }
   ],
   "source": [
    "# Segmentate multiple cellmasks via watershed\n",
    "watershed_cell = invert_pm_watershed(img_data,\n",
    "                                  nuclei_labels,\n",
    "                                  PM_CH,\n",
    "                                  method)                       \n",
    "                                  \n",
    "# adding image to Napari as a new layer\n",
    "viewer.add_image(watershed_cell, scale=scale, name=\"3-Cell: Watershed\")"
   ]
  },
  {
   "cell_type": "markdown",
   "id": "ec0d9400",
   "metadata": {},
   "source": [
    "-----\n",
    "## **POST-PROCESSING**"
   ]
  },
  {
   "cell_type": "markdown",
   "id": "230ae4f9",
   "metadata": {},
   "source": [
    "### **`STEP 4` - Select cell from watershed**\n",
    "\n",
    "#### &#x1F3C3; **Run code; no user input required**\n",
    "\n",
    "&#x1F453; **FYI:** The cell and associated nucleus with the highest combined organelle intensity is then selected for downstream single-cell analysis."
   ]
  },
  {
   "cell_type": "code",
   "execution_count": 24,
   "id": "a85c5c0e",
   "metadata": {},
   "outputs": [
    {
     "data": {
      "text/plain": [
       "<Image layer '4-Cell: Select Cell' at 0x20118983670>"
      ]
     },
     "execution_count": 24,
     "metadata": {},
     "output_type": "execute_result"
    }
   ],
   "source": [
    "# Select single cellmask based on maximum intensity in composite\n",
    "raw_cellmask = choose_cell(struct_img_raw,\n",
    "                           nuclei_labels,\n",
    "                           watershed_cell)\n",
    "\n",
    "# adding image to Napari as a new layer\n",
    "viewer.add_image(raw_cellmask, scale=scale, name=\"4-Cell: Select Cell\")"
   ]
  },
  {
   "cell_type": "markdown",
   "id": "0da6c5b7",
   "metadata": {},
   "source": [
    "-----\n",
    "## **POST-POST-PROCESSING**"
   ]
  },
  {
   "cell_type": "markdown",
   "id": "55f2867d",
   "metadata": {},
   "source": [
    "### **`STEP 5` - Hole Filling**\n",
    "\n",
    "&#x1F453; **FYI:** For some final cleaning, the [hole filling](https://github.com/AllenInstitute/aics-segmentation/blob/master/docs/API.md#hole_filling) function from Allen Cell [aicssegmentation](https://github.com/AllenCell/aics-segmentation) is used. To perform the hole filling in 3D, set fill_2d = `False`, or set fill_2d = `True` to run it in 2D. Hole Filling in 2D could be useful for removing topological tunnels aligned with the Z-axis, as the tunnel will become a series of holes when observed slice by slice\n",
    "\n",
    "#### &#x1F6D1; &#x270D; **User Input Required:**\n",
    "\n",
    "Please specify the following values:\n",
    "- `hole_min`: the width of the smallest hole to be filled\n",
    "- `hole_max`: the width of the largest hole to be filled\n",
    "- `fill_2d`: whether to fill holes in the image slice by slice (True) or in 3D (False)"
   ]
  },
  {
   "cell_type": "code",
   "execution_count": 25,
   "id": "838f0056",
   "metadata": {},
   "outputs": [],
   "source": [
    "# parameters for hole filling\n",
    "hole_min = 0\n",
    "hole_max = 300\n",
    "fill_2d = True"
   ]
  },
  {
   "cell_type": "code",
   "execution_count": 26,
   "id": "f9d02dd3",
   "metadata": {},
   "outputs": [
    {
     "data": {
      "text/plain": [
       "<Image layer '5-Cell: Fill holes in Cellmask' at 0x20118cd3070>"
      ]
     },
     "execution_count": 26,
     "metadata": {},
     "output_type": "execute_result"
    }
   ],
   "source": [
    "# fill holes in the cellmask\n",
    "cellmask_obj = hole_filling(raw_cellmask,\n",
    "                            hole_min,\n",
    "                            hole_max,\n",
    "                            fill_2d)\n",
    "\n",
    "# adding image to Napari as a new layer\n",
    "viewer.add_image(cellmask_obj, scale=scale, name=\"5-Cell: Fill holes in Cellmask\")"
   ]
  },
  {
   "cell_type": "markdown",
   "id": "6bfbd3f2",
   "metadata": {},
   "source": [
    "-----\n",
    "## **EXPORT**"
   ]
  },
  {
   "cell_type": "markdown",
   "id": "bf878721",
   "metadata": {},
   "source": [
    "### **`STEP 6` - Stack layers**\n",
    "\n",
    "#### &#x1F3C3; **Run code; no user input required**\n",
    "&#x1F453; **FYI:** This code block stacks the nucleus and cell into one multichannel image."
   ]
  },
  {
   "cell_type": "code",
   "execution_count": 27,
   "id": "7aceed3d",
   "metadata": {},
   "outputs": [
    {
     "name": "stdout",
     "output_type": "stream",
     "text": [
      "Stack mask file structure: (2, 35, 796, 796)\n",
      "The dimension of '2' represents the 'nucleus' and 'cell' in that order.\n"
     ]
    }
   ],
   "source": [
    "stack = stack_layers(nuclei_labels = nuclei_labels, cellmask = cellmask_obj)\n",
    "print(f\"Stack mask file structure: {np.shape(stack)}\")\n",
    "print(f\"The dimension of '2' represents the 'nucleus' and 'cell' in that order.\")"
   ]
  },
  {
   "cell_type": "markdown",
   "id": "f09bdf2c",
   "metadata": {},
   "source": [
    "-----\n",
    "## **SAVING**"
   ]
  },
  {
   "cell_type": "markdown",
   "id": "bee9f95e",
   "metadata": {},
   "source": [
    "### **`Saving` - Save the segmentation output**\n",
    "\n",
    "#### &#x1F3C3; **Run code; no user input required**\n",
    "&#x1F453; **FYI:** This code block saves the instance segmentation output to the `out_data_path` specified earlier."
   ]
  },
  {
   "cell_type": "code",
   "execution_count": 28,
   "id": "5a8090df",
   "metadata": {},
   "outputs": [
    {
     "name": "stdout",
     "output_type": "stream",
     "text": [
      "saved file: 01202024_MSi08L_iPSCs_undiff_BR5_N14_Unmixing_0_cmle.ome-masks_D\n"
     ]
    }
   ],
   "source": [
    "out_file_n = export_inferred_organelle(stack, \"masks_D\", meta_dict, out_data_path)"
   ]
  },
  {
   "cell_type": "markdown",
   "id": "f08f03d6",
   "metadata": {},
   "source": [
    "-----\n",
    "-----\n",
    "## **Define functions**\n",
    "The following code includes an example of how the workflow steps above are combined into functions. The final combined `infer_masks_D` function can be run below to process a single image. It is included in the [batch process notebook](batch_process_segmentations.ipynb) to run the above analysis on multiple cells.\n",
    "\n",
    "This function can utilized from infer-subc using:\n",
    "```python\n",
    "infer_subc.organelles.masks.infer_masks_D()\n",
    "```"
   ]
  },
  {
   "cell_type": "markdown",
   "id": "218c4f92",
   "metadata": {},
   "source": [
    "#### &#x1F3C3; **Run code; no user input required**\n",
    "&#x1F453; **FYI:** This code block defines the `_infer_masks_masks_D()`, function. It is applied below."
   ]
  },
  {
   "cell_type": "code",
   "execution_count": 29,
   "id": "cbd79ec3",
   "metadata": {},
   "outputs": [],
   "source": [
    "##########################\n",
    "#  _infer_nuclei\n",
    "##########################\n",
    "def _infer_nuclei_fromlabel(in_img: np.ndarray, \n",
    "                            nuc_ch: Union[int,None],\n",
    "                            median_sz: int, \n",
    "                            gauss_sig: float,\n",
    "                            thresh_factor: float,\n",
    "                            thresh_min: float,\n",
    "                            thresh_max: float,\n",
    "                            min_hole_w: int,\n",
    "                            max_hole_w: int,\n",
    "                            small_obj_w: int,\n",
    "                            fill_filter_method: str\n",
    "                            ) -> np.ndarray:\n",
    "    \"\"\"\n",
    "    Procedure to infer nuclei from linear unmixed input.\n",
    "\n",
    "    Parameters\n",
    "    ------------\n",
    "    in_img: np.ndarray\n",
    "        a 3d image containing all the channels\n",
    "    nuc_ch:\n",
    "        the index of the channel containing your nuclei label\n",
    "    median_sz: int\n",
    "        width of median filter for nuclei signal\n",
    "    gauss_sig: float\n",
    "        sigma for gaussian smoothing of  nuclei signal\n",
    "    thresh_factor: float\n",
    "        adjustment factor for log Li nuclei threholding\n",
    "    thresh_min: float\n",
    "        abs min threhold for log Li nuclei threholding\n",
    "    thresh_max: float\n",
    "        abs max threhold for log Li nuclei threholding\n",
    "    min_hole_w: int\n",
    "        hole filling minimum for nuclei post-processing\n",
    "    max_hole_w: int\n",
    "        hole filling cutoff for nuclei post-processing\n",
    "    small_obj_w: int\n",
    "        minimum object size cutoff for nuclei post-processing\n",
    "    fill_filter_method:\n",
    "        determines if fill and filter should be run 'sice-by-slice' or in '3D' (nucleus)\n",
    "\n",
    "    Returns\n",
    "    -------------\n",
    "    nuclei_object\n",
    "        mask defined extent of NU\n",
    "    \n",
    "    \"\"\"\n",
    "    ###################\n",
    "    # EXTRACT\n",
    "    ###################                \n",
    "    nuclei = select_channel_from_raw(in_img, nuc_ch)\n",
    "\n",
    "    ###################\n",
    "    # PRE_PROCESSING\n",
    "    ###################                \n",
    "    nuclei =  scale_and_smooth(nuclei,\n",
    "                        median_size = median_sz, \n",
    "                        gauss_sigma = gauss_sig)\n",
    "\n",
    "    ###################\n",
    "    # CORE_PROCESSING\n",
    "    ###################\n",
    "    nuclei_object = apply_log_li_threshold(nuclei, \n",
    "                                           thresh_factor=thresh_factor, \n",
    "                                           thresh_min=thresh_min, \n",
    "                                           thresh_max=thresh_max)\n",
    "\n",
    "    ###################\n",
    "    # POST_PROCESSING\n",
    "    ###################\n",
    "    nuclei_object = fill_and_filter_linear_size(nuclei_object, \n",
    "                                                hole_min=min_hole_w, \n",
    "                                                hole_max=max_hole_w, \n",
    "                                                min_size=small_obj_w,\n",
    "                                                method=fill_filter_method)\n",
    "\n",
    "    nuclei_labels = label_uint16(nuclei_object)\n",
    "\n",
    "    return nuclei_labels"
   ]
  },
  {
   "cell_type": "markdown",
   "id": "fa5e9947",
   "metadata": {},
   "source": [
    "#### &#x1F3C3; **Run code; no user input required**\n",
    "\n",
    "&#x1F453; **FYI:** This code block applies the function above to your test image. The settings specified above are applied here."
   ]
  },
  {
   "cell_type": "code",
   "execution_count": 30,
   "id": "180571a6",
   "metadata": {},
   "outputs": [
    {
     "name": "stdout",
     "output_type": "stream",
     "text": [
      "The segmentation output here matches the output created above: True\n"
     ]
    }
   ],
   "source": [
    "# run nuclei segmentation from label\n",
    "_NU_objects = _infer_nuclei_fromlabel(img_data,\n",
    "                                NUC_CH,\n",
    "                                nuc_med_filter_size,\n",
    "                                nuc_gaussian_smoothing_sigma,\n",
    "                                nuc_threshold_factor,\n",
    "                                nuc_thresh_min,\n",
    "                                nuc_thresh_max,\n",
    "                                nuc_hole_min_width,\n",
    "                                nuc_hole_max_width,\n",
    "                                nuc_small_object_width,\n",
    "                                nuc_fill_filter_method)\n",
    "\n",
    "# confirm this output matches the output saved above\n",
    "print(f\"The segmentation output here matches the output created above: {np.all(nuclei_labels == _NU_objects)}\")"
   ]
  },
  {
   "cell_type": "code",
   "execution_count": 31,
   "id": "6549082d",
   "metadata": {},
   "outputs": [],
   "source": [
    "##########################\n",
    "# _infer_cellmask_masks_D\n",
    "# alternative workflow \"d\"\n",
    "##########################\n",
    "def _infer_cellmask_masks_D(in_img: np.ndarray,\n",
    "                           pm_ch: Union[int,None],\n",
    "                           weights: list[int],\n",
    "                           invert_pm: bool,\n",
    "                           nuclei_labels: np.ndarray,\n",
    "                           cell_method: str,\n",
    "                           hole_min: int,\n",
    "                           hole_max: int,\n",
    "                           fill_2d: bool):\n",
    "    \n",
    "    \"\"\"\n",
    "    Procedure to infer intermediate masks from linear unmixed input.\n",
    "\n",
    "    Parameters\n",
    "    ------------\n",
    "    in_img: \n",
    "        a 3d image containing all the channels\n",
    "    pm_ch:\n",
    "        the index of the channel containing your plasma membrane label\n",
    "    weights:\n",
    "        a list of int that corresond to the weights for each channel in the composite; use 0 if a channel should not be included in the composite image\n",
    "    invert_pm:\n",
    "        True = invert plasma membrane channel in the composite\n",
    "        False = do not invert plasma membrane channel in the composite\n",
    "    nuclei_labels:\n",
    "        a 3d image containing the inferred nuclei objects\n",
    "    cell_method:\n",
    "        The type of watershedding method to perform for the cellmask. Options include:\n",
    "        \"3D\" (3D watershedding), \"slice-by-slice\" (2D watershedding).\n",
    "    hole_min: \n",
    "        the minimum hole width to be filled in the cellmask\n",
    "    hole_max: \n",
    "        the maximum hole width to be filled in the cellmask\n",
    "    fill_2d:\n",
    "        True = fill cellmask holes in 2D (slice by slice)\n",
    "        False = fill cellmask holes in 3D\n",
    "    \n",
    "    Returns\n",
    "    -------------\n",
    "    cellmask:\n",
    "        a logical/labels object defining boundaries of cellmask\n",
    "\n",
    "    \"\"\"\n",
    "\n",
    "    ###################\n",
    "    # EXTRACT\n",
    "    ###################\n",
    "\n",
    "    struct_img_raw = membrane_composite(in_img, *weights, invert_pm, pm_ch)\n",
    "\n",
    "    ###################\n",
    "    # CORE_PROCESSING\n",
    "    ###################\n",
    "\n",
    "    watershed_cell = invert_pm_watershed(in_img,\n",
    "                                  nuclei_labels,\n",
    "                                  pm_ch,\n",
    "                                  cell_method)\n",
    "    \n",
    "    ###################\n",
    "    # POST_PROCESSING\n",
    "    ###################\n",
    "    \n",
    "    raw_cellmask = choose_cell(struct_img_raw,\n",
    "                           nuclei_labels,\n",
    "                           watershed_cell)\n",
    "    \n",
    "    #########################\n",
    "    # POST- POST_PROCESSING\n",
    "    #########################\n",
    "\n",
    "    cellmask_obj = hole_filling(raw_cellmask,\n",
    "                            hole_min,\n",
    "                            hole_max,\n",
    "                            fill_2d)\n",
    "    \n",
    "    return label_bool_as_uint16(cellmask_obj)\n",
    "    "
   ]
  },
  {
   "cell_type": "code",
   "execution_count": 32,
   "id": "ee840347",
   "metadata": {},
   "outputs": [
    {
     "name": "stdout",
     "output_type": "stream",
     "text": [
      "The segmentation output here matches the output created above: True\n"
     ]
    }
   ],
   "source": [
    "# run nuclei segmentation from label\n",
    "_CM_object = _infer_cellmask_masks_D(img_data,\n",
    "                                    PM_CH,\n",
    "                                    [w0, w1, w2, w3, w4, w5, w6, w7, w8, w9],\n",
    "                                    invert_pm,\n",
    "                                    _NU_objects,\n",
    "                                    method,\n",
    "                                    hole_min,\n",
    "                                    hole_max,\n",
    "                                    fill_2d)\n",
    "\n",
    "# confirm this output matches the output saved above\n",
    "print(f\"The segmentation output here matches the output created above: {np.all(cellmask_obj == _CM_object)}\")"
   ]
  },
  {
   "cell_type": "markdown",
   "id": "e87e7527",
   "metadata": {},
   "source": [
    "#### &#x1F3C3; **Run code; no user input required**\n",
    "&#x1F453; **FYI:** This code block defines the `infer_masks_D()`, function, the complete function that combines the three above and that will be used for batch processing. It is applied below."
   ]
  },
  {
   "cell_type": "code",
   "execution_count": 33,
   "id": "101e043a",
   "metadata": {},
   "outputs": [],
   "source": [
    "def _infer_masks_D(in_img: np.ndarray,\n",
    "                   pm_ch: Union[int,None],\n",
    "                   nuc_ch: Union[int,None],\n",
    "                   weights: list[int],\n",
    "                   median_sz: int, \n",
    "                   gauss_sig: float,\n",
    "                   thresh_factor: float,\n",
    "                   thresh_min: float,\n",
    "                   thresh_max: float,\n",
    "                   min_hole_w: int,\n",
    "                   max_hole_w: int,\n",
    "                   small_obj_w: int,\n",
    "                   fill_filter_method: str,\n",
    "                   invert_pm: bool,\n",
    "                   cell_method: str,\n",
    "                   hole_min: int,\n",
    "                   hole_max: int,\n",
    "                   fill_2d: bool):\n",
    "    \n",
    "    \"\"\"\n",
    "    Procedure to infer intermediate masks from linear unmixed input.\n",
    "\n",
    "    Parameters\n",
    "    ------------\n",
    "    in_img: \n",
    "        a 3d image containing all the channels\n",
    "    pm_ch:\n",
    "        the index of the channel containing your plasma membrane label\n",
    "    nuc_ch:\n",
    "        the index of the channel containing your nuclei label\n",
    "    weights:\n",
    "        a list of int that corresond to the weights for each channel in the composite; use 0 if a channel should not be included in the composite image\n",
    "    median_sz: int\n",
    "        width of median filter for nuclei signal\n",
    "    gauss_sig: float\n",
    "        sigma for gaussian smoothing of nuclei signal\n",
    "    thresh_factor: float\n",
    "        adjustment factor for log Li nuclei threholding\n",
    "    thresh_min: float\n",
    "        abs min threhold for log Li nuclei threholding\n",
    "    thresh_max: float\n",
    "        abs max threhold for log Li nuclei threholding\n",
    "    min_hole_w: int\n",
    "        hole filling minimum for nuclei post-processing\n",
    "    max_hole_w: int\n",
    "        hole filling cutoff for nuclei post-processing\n",
    "    small_obj_w: int\n",
    "        minimum object size cutoff for nuclei post-processing\n",
    "    fill_filter_method:\n",
    "        determines if fill and filter should be run 'sice-by-slice' or in '3D' (nucleus)\n",
    "    invert_pm:\n",
    "        True = invert plasma membrane channel in the composite\n",
    "        False = do not invert plasma membrane channel in the composite\n",
    "    cell_method:\n",
    "        The type of watershedding method to perform for the cellmask. Options include:\n",
    "        \"3D\" (3D watershedding), \"slice-by-slice\" (2D watershedding).\n",
    "    hole_min: \n",
    "        the minimum hole width to be filled in the cellmask\n",
    "    hole_max: \n",
    "        the maximum hole width to be filled in the cellmask\n",
    "    fill_2d:\n",
    "        True = fill cellmask holes in 2D (slice by slice)\n",
    "        False = fill cellmask holes in 3D\n",
    "    \n",
    "    Returns\n",
    "    -------------\n",
    "    mask_stack:\n",
    "        a two channel np.ndarray constisting of the nucleus and cell (one object per channel)\n",
    "\n",
    "    \"\"\"\n",
    "\n",
    "    ##########################\n",
    "    # get nuclei labels #\n",
    "    ##########################\n",
    "\n",
    "    nuclei_labels = _infer_nuclei_fromlabel(in_img,\n",
    "                                nuc_ch,\n",
    "                                median_sz,\n",
    "                                gauss_sig,\n",
    "                                thresh_factor,\n",
    "                                thresh_min,\n",
    "                                thresh_max,\n",
    "                                min_hole_w,\n",
    "                                max_hole_w,\n",
    "                                small_obj_w,\n",
    "                                fill_filter_method)\n",
    "    \n",
    "    ##########################\n",
    "    # get cellmask #\n",
    "    ##########################\n",
    "\n",
    "    cellmask_obj = _infer_cellmask_masks_D(in_img,\n",
    "                                    pm_ch,\n",
    "                                    weights,\n",
    "                                    invert_pm,\n",
    "                                    nuclei_labels,\n",
    "                                    cell_method,\n",
    "                                    hole_min,\n",
    "                                    hole_max,\n",
    "                                    fill_2d)\n",
    "    \n",
    "    ###################\n",
    "    ### stack layers ##\n",
    "    ###################\n",
    "\n",
    "    stack = stack_layers(nuclei_labels = nuclei_labels,\n",
    "                         cellmask = cellmask_obj)\n",
    "    \n",
    "    return stack"
   ]
  },
  {
   "cell_type": "code",
   "execution_count": 34,
   "id": "dcd34c4f",
   "metadata": {},
   "outputs": [
    {
     "name": "stdout",
     "output_type": "stream",
     "text": [
      "The segmentation output here matches the output created above: True\n"
     ]
    }
   ],
   "source": [
    "_stacked_masks = _infer_masks_D(img_data,\n",
    "                                PM_CH,\n",
    "                                NUC_CH,\n",
    "                                [w0, w1, w2, w3, w4, w5, w6, w7, w8, w9],\n",
    "                                nuc_med_filter_size,\n",
    "                                nuc_gaussian_smoothing_sigma,\n",
    "                                nuc_threshold_factor,\n",
    "                                nuc_thresh_min,\n",
    "                                nuc_thresh_max,\n",
    "                                nuc_hole_min_width,\n",
    "                                nuc_hole_max_width,\n",
    "                                nuc_small_object_width,\n",
    "                                nuc_fill_filter_method,\n",
    "                                invert_pm,\n",
    "                                method,\n",
    "                                hole_min,\n",
    "                                hole_max,\n",
    "                                fill_2d)\n",
    "\n",
    "#confirm this output matches the output saved above\n",
    "print(f\"The segmentation output here matches the output created above: {np.all(stack == _stacked_masks)}\")"
   ]
  },
  {
   "cell_type": "markdown",
   "id": "8af3ae5f",
   "metadata": {},
   "source": [
    "-------------\n",
    "### ✅ **INFER MASKS COMPLETE!**\n",
    "\n",
    "Now that a single cell has been identified for analysis, the organelle segmentions need to be completed. Continue on to complete the organelle notebooks (1.2 through 1.7) associated to each of the organelles you would like to include in your analysis:\n",
    "- Infer [`lysosomes`](1.2_infer_lysosome.ipynb)\n",
    "- Infer [`mitochondria`](1.3_infer_mitochondria.ipynb)\n",
    "- Infer [`golgi`](1.4_infer_golgi.ipynb)\n",
    "- Infer [`peroxisomes`](1.5_infer_peroxisome.ipynb)\n",
    "- Infer [`endoplasmic reticulum (ER)`](1.6_infer_ER.ipynb)\n",
    "- Infer [`lipid droplets`](1.7_infer_lipid_droplet.ipynb)"
   ]
  }
 ],
 "metadata": {
  "kernelspec": {
   "display_name": "infer-subc-sc",
   "language": "python",
   "name": "python3"
  },
  "language_info": {
   "codemirror_mode": {
    "name": "ipython",
    "version": 3
   },
   "file_extension": ".py",
   "mimetype": "text/x-python",
   "name": "python",
   "nbconvert_exporter": "python",
   "pygments_lexer": "ipython3",
   "version": "3.10.15"
  }
 },
 "nbformat": 4,
 "nbformat_minor": 5
}
