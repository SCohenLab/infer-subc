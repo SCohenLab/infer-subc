{
 "cells": [
  {
   "cell_type": "markdown",
   "id": "83a5dd1d",
   "metadata": {},
   "source": [
    "# **Measure Object Morphology**\n",
    "\n",
    "***Prior to this notebook, you should have already run through [1.0_image_setup](1.0_image_setup.ipynb).***\n",
    "\n",
    "The `'methods_...'` notebooks included here in infer-subc Part 1: segmentation workflows will go over how additional higher complexity functions are carried out. The notebooks will explain each step in the method and display the combined function at the end of the notebook. \n",
    "\n",
    "### **Biological Relevance**\n",
    "Measurements of organelles and interaction sites use the masks that are provided by the segmentation workflows; however, sometimes the organelles that are segmented are grouped together due to high signals being too close together. By applying the declumping method here, we are able to separate the organelles that are in close proximity from each other, providing a better depiction of the organization of individual organelles of the same type within a cell. Additionally, by separating close proximity organelles in our segmentation, we gain an increased readout of organelle and interaction morphology metrics for the declumped organelles that are closer to the \"true\" makeup of the cell.\n",
    "\n",
    "***We advise that you test the declumping process on a small, pilot dataset before committing to a particular declumping strategy and segmentation approach as it is possible to over-declump images.***\n",
    "\n",
    "\n",
    "-----"
   ]
  },
  {
   "cell_type": "markdown",
   "id": "c6380af8",
   "metadata": {},
   "source": [
    "### 👣 **Summary of steps**  \n",
    "\n",
    "🛠️ **BUILD FUNCTION STEP-BY-STEP**\n",
    "\n",
    "- **`STEP 1`** - Select desired organelle for declumping\n",
    "    - Collect intensity image of the organelle that is desired\n",
    "    - Collect segmentation image of the organelle that is desired\n",
    "\n",
    "- **`STEP 2`** - Apply a highpass filter to the raw intensity image\n",
    "    - Apply a lowpass gaussian filter to the raw intensity image\n",
    "    - Subtract the lowpass from the raw intensity image to get the highpass image\n",
    "    - (Optional) Apply a morphological opening to the highpass\n",
    "    - (Optional) Repeat above steps n times using the highpass image as the raw intensity image\n",
    "\n",
    "- **`STEP 3`** - Apply otsu thresholding & size filter to the image\n",
    "    - Mathematically determine an optimal threshold for the image, and multiply it by an adjustment scalar\n",
    "    - Apply the threshold to the image, setting everything above it to 1, and everything below it to 0\n",
    "    - Remove objects that are below a specified size from the image\n",
    "\n",
    "- **`STEP 4`** - Apply an inverted watershed\n",
    "    - Invert the raw intensity image\n",
    "    - Use the labeled thresholded image as \"seeds\" for the watershed\n",
    "    - Apply the watershed masked with the segmentation image\n",
    "    - Add the segmentation image back to the image to ensure smaller objects originally segmented are not lost\n",
    "\n",
    "⚙️ **DEFINE AND TEST *`Declumping`* FUNCTIONS**\n",
    "\n",
    "- Define `watershed_declumping` function\n",
    "- Run `watershed_declumping` function"
   ]
  },
  {
   "cell_type": "markdown",
   "id": "5391fcfe",
   "metadata": {},
   "source": [
    "---------------------\n",
    "## **IMPORTS AND LOAD IMAGE**\n",
    "Details about the functions included in this subsection are outlined in the [`1.0_image_setup`](1.0_image_setup.ipynb) notebook. Please visit that notebook first if you are confused about any of the code included here."
   ]
  },
  {
   "cell_type": "code",
   "execution_count": null,
   "id": "8298bc95",
   "metadata": {},
   "outputs": [],
   "source": [
    "from pathlib import Path\n",
    "import os\n",
    "\n",
    "import numpy as np\n",
    "import pandas as pd\n",
    "\n",
    "from skimage.morphology import opening\n",
    "from skimage.filters import threshold_otsu\n",
    "from skimage.measure import label\n",
    "from skimage.segmentation import watershed\n",
    "from scipy import ndimage\n",
    "from aicssegmentation.core.utils import size_filter\n",
    "\n",
    "from infer_subc.core.file_io import (list_image_files,\n",
    "                                     read_czi_image)\n",
    "from infer_subc.utils.batch import find_segmentation_tiff_files\n",
    "from infer_subc.organelles.declumping import watershed_declumping\n",
    "\n",
    "import napari\n",
    "viewer = napari.Viewer()"
   ]
  },
  {
   "cell_type": "markdown",
   "id": "a70dd3cd",
   "metadata": {},
   "source": [
    "#### &#x1F3C3; **Run code; no user input required**"
   ]
  },
  {
   "cell_type": "markdown",
   "id": "ee8ef172",
   "metadata": {},
   "source": [
    "#### &#x1F6D1; &#x270D; **User Input Required:**\n",
    "\n",
    "Please specify the following information about your data: `raw_img_type`, `data_root_path`, `raw_data_path`, `seg_data_path`, and `quant_data_path`."
   ]
  },
  {
   "cell_type": "code",
   "execution_count": null,
   "id": "de9915ed",
   "metadata": {},
   "outputs": [],
   "source": [
    "#### USER INPUT REQUIRED ###\n",
    "raw_img_type = \".tiff\"\n",
    "data_root_path = Path(os.path.expanduser(\"~\")) / \"Documents/Python Scripts/Infer-subc\"\n",
    "raw_data_path = data_root_path / \"raw\"\n",
    "seg_data_path = data_root_path / \"segmentations\""
   ]
  },
  {
   "cell_type": "markdown",
   "id": "d1841220",
   "metadata": {},
   "source": [
    "#### &#x1F3C3; **Run code; no user input required**"
   ]
  },
  {
   "cell_type": "code",
   "execution_count": null,
   "id": "246d0034",
   "metadata": {},
   "outputs": [],
   "source": [
    "# Create a list of the file paths for each image in the input folder. Select test image path.\n",
    "raw_img_file_list = list_image_files(raw_data_path,raw_img_type)\n",
    "pd.set_option('display.max_colwidth', None)\n",
    "pd.DataFrame({\"Image Name\":raw_img_file_list})"
   ]
  },
  {
   "cell_type": "markdown",
   "id": "0cdb76a5",
   "metadata": {},
   "source": [
    "#### &#x1F6D1; &#x270D; **User Input Required:**\n",
    "\n",
    "Use the list above to specify which image you wish to analyze based on its index: `test_img_n`"
   ]
  },
  {
   "cell_type": "code",
   "execution_count": null,
   "id": "26e6c8f3",
   "metadata": {},
   "outputs": [],
   "source": [
    "#### USER INPUT REQUIRED ###\n",
    "test_img_n = 0"
   ]
  },
  {
   "cell_type": "markdown",
   "id": "b2470747",
   "metadata": {},
   "source": [
    "#### &#x1F6D1; &#x270D; **User Input Required:**\n",
    "\n",
    "Specify the organelle file name(s)'s suffix(es), and the channel that the organelle(s) appear(s) in the raw image"
   ]
  },
  {
   "cell_type": "code",
   "execution_count": null,
   "id": "f0647f1d",
   "metadata": {},
   "outputs": [],
   "source": [
    "org_file_names = [\"lyso\", \"mito\", \"golgi\", \"perox\", \"ER\", \"LD\"]\n",
    "org_channels_ordered = [6, 0, 2, 4, 3, 1]"
   ]
  },
  {
   "cell_type": "markdown",
   "id": "804557c9",
   "metadata": {},
   "source": [
    "#### &#x1F3C3; **Run code; no user input required**"
   ]
  },
  {
   "cell_type": "code",
   "execution_count": null,
   "id": "9d08a42b",
   "metadata": {},
   "outputs": [],
   "source": [
    "# Read in the image and metadata as an ndarray and dictionary from the test image selected above. \n",
    "test_img_name = raw_img_file_list[test_img_n]\n",
    "img_data,meta_dict = read_czi_image(test_img_name)\n",
    "\n",
    "# Define some of the metadata features.\n",
    "channel_names = meta_dict['name']\n",
    "meta = meta_dict['metadata']['aicsimage']\n",
    "scale = meta_dict['scale']\n",
    "channel_axis = meta_dict['channel_axis']\n",
    "file_path = meta_dict['file_name']\n",
    "\n",
    "print(\"Metadata information\")\n",
    "print(f\"File path: {file_path}\")\n",
    "for i in list(range(len(channel_names))):\n",
    "    print(f\"Channel {i} name: {channel_names[i]}\")\n",
    "print(f\"Scale (ZYX): {scale}\")\n",
    "print(f\"Channel axis: {channel_axis}\")\n",
    "\n",
    "filez = find_segmentation_tiff_files(file_path, org_file_names, seg_data_path, \"-\")\n",
    "\n",
    "org_raws = {}\n",
    "org_segs = {}\n",
    "for chan, org in zip(org_channels_ordered, org_file_names):\n",
    "    seg, md = read_czi_image(filez[org])\n",
    "\n",
    "    viewer.add_image(img_data[chan], \n",
    "                     name=f\"Raw {org}\", \n",
    "                     scale=scale)\n",
    "    org_raws[org]= img_data[chan]\n",
    "\n",
    "    viewer.add_image(seg, \n",
    "                     name=f\"Segmentation {org}\", \n",
    "                     scale=scale)\n",
    "    org_segs[org] = seg    \n",
    "\n",
    "print(\"The following matching files were found and can now be viewed in Napari:\")\n",
    "filez\n"
   ]
  },
  {
   "cell_type": "markdown",
   "id": "e7739fd5",
   "metadata": {},
   "source": [
    "---------------------\n",
    "## **SEPARATE 'CLUMPED' ORGANELLES**"
   ]
  },
  {
   "cell_type": "markdown",
   "id": "0e68dbb3",
   "metadata": {},
   "source": [
    "### **`STEP 1` - Select desired organelle to declump**"
   ]
  },
  {
   "cell_type": "markdown",
   "id": "c5ed2c8e",
   "metadata": {},
   "source": [
    "&#x1F453; **FYI:** To ensure we are only declumping a single organelle type, we will choose only a single organelle from our organelle list, and use the segmentation of that organelle as our segmentation image. This will exclude any other organelles from being involved in the declumping process.\n",
    "\n",
    "#### &#x1F6D1; &#x270D; **User Input Required:**\n",
    "\n",
    "Please specify which organelle you would like to examine, and which segmentation file should be used:\n",
    "- `declump_org`: the suffix of the object you would like to declump; it should match one of the names included in the \"org_file_names\" variable above"
   ]
  },
  {
   "cell_type": "code",
   "execution_count": null,
   "id": "8a0e7e24",
   "metadata": {},
   "outputs": [],
   "source": [
    "#### USER INPUT REQUIRED ###\n",
    "declump_org = \"mito\""
   ]
  },
  {
   "cell_type": "markdown",
   "id": "59e14e71",
   "metadata": {},
   "source": [
    "#### &#x1F3C3; **Run code; no user input required**\n",
    "\n",
    "&#x1F453; **FYI:** The intensity and segmentation images will now be the only images in the Napari viewer. The intensity image will appear black and white, and the segmentation image will appear magenta. "
   ]
  },
  {
   "cell_type": "code",
   "execution_count": null,
   "id": "7197e4f1",
   "metadata": {},
   "outputs": [],
   "source": [
    "org_raw = org_raws[declump_org]\n",
    "org_seg = org_segs[declump_org]\n",
    "\n",
    "viewer.layers.clear()\n",
    "viewer.add_image(org_raw, \n",
    "                 name=f\"Raw {declump_org}\", \n",
    "                 scale=scale)\n",
    "viewer.add_image(org_seg, \n",
    "                 name=f\"Segmentation {declump_org}\",\n",
    "                 scale=scale,\n",
    "                 blending=\"translucent\", \n",
    "                 opacity=0.7, \n",
    "                 colormap=\"magenta\")"
   ]
  },
  {
   "cell_type": "markdown",
   "id": "10c14805",
   "metadata": {},
   "source": [
    "### **`STEP 2` - Apply highpass filter to raw intensity image**"
   ]
  },
  {
   "cell_type": "markdown",
   "id": "b7f4cf2e",
   "metadata": {},
   "source": [
    "&#x1F453; **FYI:** To find the specific peaks of intensity within the image, we use a highpass filter to remove all lower areas of intensity within an intensity gradient. This is done via creating a lowpass filter, then subtracting the lowpass filtered image from the raw image. This process is then repeated a number of times equal to the iteration value. Afterwards, an opening filter is optionally applied to the image.\n",
    "\n",
    "#### &#x1F6D1; &#x270D; **User Input Required:**\n",
    "\n",
    "Please specify the values to use for the filter. Higher values indicate more smoothing, and more declumping:\n",
    "- `sigma`: the sigma to apply in the Gaussian filtering step; if 0 is used, no filter will be applied\n",
    "- `open`: the True/False statement of whether to apply a morphological opening to the image\n",
    "- `iterations`: the number of times to apply the above 3 values to generate the highpass image; minimum of 1"
   ]
  },
  {
   "cell_type": "code",
   "execution_count": null,
   "id": "36142e65",
   "metadata": {},
   "outputs": [],
   "source": [
    "sigma = 1.34\n",
    "open = False\n",
    "iterations = 1"
   ]
  },
  {
   "cell_type": "markdown",
   "id": "c96a0b74",
   "metadata": {},
   "source": [
    "#### &#x1F3C3; **Run code; no user input required**\n",
    "\n",
    "&#x1F453; **FYI:** This code block repeats the process of applying the specified median and Gaussian filters and choosing to apply the opening a number of times specified above. The image is then added to Napari as a new layer for visual comparison to the input image. \n",
    "\n",
    "Use the Napari viewer to view the image, and adjust the settings selected above accordingly."
   ]
  },
  {
   "cell_type": "code",
   "execution_count": null,
   "id": "6dbc1f1d",
   "metadata": {},
   "outputs": [],
   "source": [
    "highpass = org_raw.copy()\n",
    "for _ in range(iterations):\n",
    "    lowpass = ndimage.gaussian_filter(highpass, sigma)\n",
    "    highpass -= lowpass\n",
    "    np.clip(highpass, 0, None, out=highpass)\n",
    "if open:\n",
    "    highpass=opening(highpass)\n",
    "\n",
    "viewer.add_image(highpass,\n",
    "                 name=f\"Highpass {declump_org}\",\n",
    "                 scale=scale,\n",
    "                 blending=\"translucent\", \n",
    "                 opacity=0.7, \n",
    "                 colormap=\"orange\")"
   ]
  },
  {
   "cell_type": "markdown",
   "id": "4b77576c",
   "metadata": {},
   "source": [
    "### **`STEP 3` - Apply highpass filter to raw intensity image**"
   ]
  },
  {
   "cell_type": "markdown",
   "id": "b7ed8912",
   "metadata": {},
   "source": [
    "&#x1F453; **FYI:** The peaks of intensity within the image are segmented from the highpass image using an otsu thresholding algorithm. Afterwards, small areas of the image are removed by a size filter.\n",
    "\n",
    "#### &#x1F6D1; &#x270D; **User Input Required:**\n",
    "\n",
    "Please specify the amount to adjust the threshold by:\n",
    "- `thresh_adj`: a scalar value that is used to multiply the threshold by to find the desired threshold \n",
    "- `min_size`: the minimum connected voxels for a segmented object to remain segmented "
   ]
  },
  {
   "cell_type": "code",
   "execution_count": null,
   "id": "68dd0b05",
   "metadata": {},
   "outputs": [],
   "source": [
    "thresh_adj = 1.0\n",
    "min_size = 0"
   ]
  },
  {
   "cell_type": "markdown",
   "id": "a0be80ab",
   "metadata": {},
   "source": [
    "#### &#x1F3C3; **Run code; no user input required**\n",
    "\n",
    "&#x1F453; **FYI:** This code block applies the otsu threshold to the highpass image, then removes objects that are below a specified voxel count."
   ]
  },
  {
   "cell_type": "code",
   "execution_count": null,
   "id": "2d507fe0",
   "metadata": {},
   "outputs": [],
   "source": [
    "threshold = threshold_otsu(highpass)\n",
    "ots = size_filter(img=(highpass >= (threshold*thresh_adj)), min_size=min_size, method='3D')\n",
    "\n",
    "viewer.add_image(highpass,\n",
    "                 name=f\"Otsu {declump_org}\",\n",
    "                 scale=scale,\n",
    "                 blending=\"translucent\", \n",
    "                 opacity=0.7, \n",
    "                 colormap=\"blue\")"
   ]
  },
  {
   "cell_type": "markdown",
   "id": "cd1f93c5",
   "metadata": {},
   "source": [
    "### **`STEP 4` - Apply inverted watershed**"
   ]
  },
  {
   "cell_type": "markdown",
   "id": "873e730a",
   "metadata": {},
   "source": [
    "#### &#x1F3C3; **Run code; no user input required**\n",
    "\n",
    "&#x1F453; **FYI:** This code block uses a watershed with the map as the inverse of the raw intensity image, the markers as the otsu filter, and the mask as the original organelle segmentation. This watershed is then added to the original organelle segmentation and relabeled to ensure no organelles were lost in the process of the watershed."
   ]
  },
  {
   "cell_type": "code",
   "execution_count": null,
   "id": "2f85f217",
   "metadata": {},
   "outputs": [],
   "source": [
    "org_declump = label((org_seg) + watershed(image=(np.max(org_raw)-org_raw), \n",
    "                                                 markers=label(ots), \n",
    "                                                 mask=org_seg,\n",
    "                                                 connectivity=np.ones((3, 3, 3), bool)))"
   ]
  },
  {
   "cell_type": "markdown",
   "id": "1d398a94",
   "metadata": {},
   "source": [
    "### **`DEFINE` - The watershed_declumping function**"
   ]
  },
  {
   "cell_type": "markdown",
   "id": "0311f4b8",
   "metadata": {},
   "source": [
    "The following code includes an example of how the declumping steps above are combined into one function. This function will output a declumped segmentation. It is applied in the batch process functions available in [`1.2_infer_lysosome`](1.2_infer_lysosome.ipynb), [`1.3_infer_mitochondria`](1.2_infer_mitochondria.ipynb), [`1.4_infer_golgi`](1.2_infer_golgi.ipynb), [`1.5_infer_peroxisome`](1.5_infer_peroxisome.ipynb), [`1.6_infer_ER`](1.6_infer_ER.ipynb), and [`1.7_infer_lipid_droplet`](1.7_infer_lipid_droplet.ipynb) notebooks.\n",
    "\n",
    "This function can utilized from infer-subc using:\n",
    "```python\n",
    "infer_subc.organelles.declumping.watershed_declumping()\n",
    "```\n",
    "\n",
    "#### &#x1F3C3; **Run code; no user input required**\n",
    "\n",
    "&#x1F453; **FYI:** This code block defines the `watershed_declumping()` function. It is applied below."
   ]
  },
  {
   "cell_type": "code",
   "execution_count": null,
   "id": "f17749a3",
   "metadata": {},
   "outputs": [],
   "source": [
    "def _watershed_declumping(raw_img:np.ndarray, seg_img:np.ndarray, declump:bool, \n",
    "                          sigma:float, iterations:int=1, open:bool=False, \n",
    "                          thresh_adj:float=1, min_size:int=0) -> np.ndarray:\n",
    "    if declump and iterations>=1:\n",
    "        highpass = raw_img.copy()\n",
    "        for _ in range(iterations):\n",
    "            lowpass = ndimage.gaussian_filter(highpass, sigma)\n",
    "            highpass -= lowpass\n",
    "            np.clip(highpass, 0, None, out=highpass)\n",
    "        if open:\n",
    "            highpass=opening(highpass)\n",
    "        threshold = threshold_otsu(highpass)\n",
    "        ots = size_filter(img=(highpass >= (threshold*thresh_adj)), min_size=min_size, method='3D')\n",
    "        return label((seg_img) + watershed(image=(np.max(raw_img)-raw_img), \n",
    "                                                      markers=label(ots), \n",
    "                                                      mask=seg_img,\n",
    "                                                      connectivity=np.ones((3, 3, 3), bool)))\n",
    "    else:\n",
    "        return seg_img"
   ]
  },
  {
   "cell_type": "markdown",
   "id": "75bb3683",
   "metadata": {},
   "source": [
    "#### &#x1F3C3; **Run code; no user input required**\n",
    "\n",
    "&#x1F453; **FYI:** This code block applies the function above to your test image. The settings specified above are applied here."
   ]
  },
  {
   "cell_type": "code",
   "execution_count": null,
   "id": "2a380467",
   "metadata": {},
   "outputs": [],
   "source": [
    "org_declump_test = _watershed_declumping(raw_img=org_raw,\n",
    "                                         seg_img=org_seg,\n",
    "                                         declump=True,\n",
    "                                         sigma=sigma,\n",
    "                                         iterations=iterations,\n",
    "                                         open=open,\n",
    "                                         thresh_adj=thresh_adj,\n",
    "                                         min_size=min_size)\n",
    "\n",
    "print(\"The declumping output here matches the output created above:\")\n",
    "print(f\"{np.array_equal(org_declump, org_declump_test)}\")\n",
    "\n",
    "org_declump_fn = watershed_declumping(raw_img=org_raw,\n",
    "                                         seg_img=org_seg,\n",
    "                                         declump=True,\n",
    "                                         sigma=sigma,\n",
    "                                         iterations=iterations,\n",
    "                                         open=open,\n",
    "                                         thresh_adj=thresh_adj,\n",
    "                                         min_size=min_size)\n",
    "\n",
    "print(\"The declumping output here matches the output created with the integrated function:\")\n",
    "print(f\"{np.array_equal(org_declump_fn, org_declump_test)}\")"
   ]
  },
  {
   "cell_type": "markdown",
   "id": "9928082d",
   "metadata": {},
   "source": [
    "##### &#x1F453; **FYI:** This function has been added to `infer_subc.organelles.declumping` and can be imported with the following:\n",
    "> ```python\n",
    "> from infer_subc.organelles.declumping import watershed_declumping\n",
    "> ```"
   ]
  },
  {
   "cell_type": "markdown",
   "id": "bfb0f870",
   "metadata": {},
   "source": [
    "-----\n",
    "### 🎉 **CONGRATULATIONS!! You've completed the `Declumping` method explanation notebook.**\n",
    "\n",
    "This method is utilized in the following batch processing notebooks:\n",
    "\n",
    "- [1.2_infer_lysosome](1.2_infer_lysosome.ipynb)\n",
    "- [1.3_infer_mitochondria](1.2_infer_mitochondria.ipynb)\n",
    "- [1.4_infer_golgi](1.2_infer_golgi.ipynb) \n",
    "- [1.5_infer_peroxisome](1.5_infer_peroxisome.ipynb)\n",
    "- [1.6_infer_ER](1.6_infer_ER.ipynb)\n",
    "- [1.7_infer_lipid_droplet](1.7_infer_lipid_droplet.ipynb)\n",
    "\n",
    "Continue on to learn about the other methods included in `infer-subc`:\n",
    "- [method_morphology](method_morphology.ipynb)\n",
    "- [method_distribution](method_distribution.ipynb)\n",
    "- [method_interactions](method_interactions.ipynb)\n"
   ]
  }
 ],
 "metadata": {
  "kernelspec": {
   "display_name": "infer-subc",
   "language": "python",
   "name": "python3"
  },
  "language_info": {
   "codemirror_mode": {
    "name": "ipython",
    "version": 3
   },
   "file_extension": ".py",
   "mimetype": "text/x-python",
   "name": "python",
   "nbconvert_exporter": "python",
   "pygments_lexer": "ipython3",
   "version": "3.10.13"
  }
 },
 "nbformat": 4,
 "nbformat_minor": 5
}
