{
 "cells": [
  {
   "attachments": {},
   "cell_type": "markdown",
   "metadata": {},
   "source": [
    "# **Infer `Lysosomes`**\n",
    "\n",
    "***Prior to this notebook, you should have already run through [1.0_image_setup](1.0_image_setup.ipynb).***\n",
    "\n",
    "In notebooks 1.2 through 1.7, we will go over the implementation of `infer-subc` in the a Napari plugin called  `organelle-segmenter-plugin`. The steps outlined in each notebook correlate to the workflow steps from the plugin. Here, you will gain knownledge of what `infer-subc` functions are involved in each of those steps. You can also utilize these notebooks to select which settings you'd like to use while batch processing your images.\n",
    "\n",
    "The segmentation workflows are completely independent of each other and can be run in any order. The current notebook segments the `Lysosomes`. Notesbooks for the segmentation of other organelles can be found here:\n",
    "- Infer [`mitochondria`](1.3_infer_mitochondria.ipynb)\n",
    "- Infer [`golgi`](1.4_infer_golgi.ipynb)\n",
    "- Infer [`peroxisomes`](1.5_infer_peroxisome.ipynb)\n",
    "- Infer [`endoplasmic reticulum (ER)`](1.6_infer_ER.ipynb)\n",
    "- Infer [`lipid droplets`](1.7_infer_lipid_droplet.ipynb)\n",
    "\n",
    "***Note:** These notebooks do not include a batch processing option. They are simply explanations of the steps included in the Napari plugin. If you would like to batch process your images in a Jupyter notebook instead of the plugin, you can use: <mark> insert batch process segmentation notebook here </mark>*\n",
    "\n",
    "### **Single cell analysis**\n",
    "Each workflow segments organelles from the entire image, irrespective of the cell mask identified in notebook 1.1. To attain a single-cell analysis, the mask will be applied to the organelle segmentation outputs before quantification in the `part_2_quantification` notebooks. \n",
    "\n",
    "### **Lysosomes** 🗑️♻️\n",
    "Lysosomes are membrane-enclosed structures that contain enzymes and an acidic lumen for breaking down cellular components such as proteins, other organelles, and more. Degradative cargo can be obtained through endocytosis, the secretory pathway, and fusion with autophagosomes. Lysosomes can also act as secretory vesicles and are involved in organelles contacts with many other intracellular organelles.\n",
    "\n",
    "### **Fluorescence labeling strategies** 🔆 \n",
    "Lysosomes can be fluorescently labeled in live and fixed cells by staining for endogenous proteins, targeting fluorescent proteins to the membrane or lumen using genertically encoded markers, or with dye-based approaches. The labeling approach used and resolution of your images can result in different staining outcomes that can impact the segmentation steps below. For example, a genetically encoded fluorescent protein targeted to lysosomes using the membrane-associated Lamp1 protein (e.g., Lamp1-GFP) will specifically label the lyososomal membrane, not the lumen. In this case, large lysosomes may appear as empty rings or shells. In contrast, if a luminal dye is used, the structures will likely appear as a filled-in circle or sphere. \n",
    "\n",
    "Additionally, it can be challenging to differentiate between closely related vesicles within the endolysosomal system, like late endososomes and lysosomes. Therefore, understanding the coverage of your chosen marker is important in understanding the biological implication of results derived from this pipeline. \n",
    "\n",
    "The workflow below is best suited for segmentation of filled-in lysosome structures. When membrane-based labeling methods are used, the hollow structures are not always able to be filled in during segmentation, and, in some cases, regions of the shell structure enclosing the lysosomes aren't bright enough to segmented completely. \n",
    "\n",
    "Lysosome shapes can be spherical or take on a more elongated tube shape, so two segmentation methods to identify the wide range of object shapes is included. Read through the steps below for more details.\n",
    "\n",
    "***We advise that you test the segmentation process on a small, pilot dataset before committing to a particular labeling strategy and segmentation approach.***\n",
    "\n",
    "-----"
   ]
  },
  {
   "cell_type": "markdown",
   "metadata": {},
   "source": [
    "### 👣 **Summary of steps**  \n",
    "\n",
    "➡️ **EXTRACTION**\n",
    "- **`Step 1`** - Select a channel for segmentation\n",
    "\n",
    "  - select single channel containing the lysosome marker (channel number = user input)\n",
    "\n",
    "**PRE-PROCESSING**\n",
    "- **`Step 2`** - Rescale and smooth image\n",
    "\n",
    "  - rescale intensity of composite image (min=0, max=1)\n",
    "  - median filter (median size = user input)\n",
    "  - gaussian filter (sigma = user input)\n",
    "\n",
    "**CORE PROCESSING**\n",
    "- **`Step 3`** - ‘Dot’ thresholding method (AICSSeg)\n",
    "\n",
    "  - apply \"dot\" thresholding method (for small round objects) from the Allen Cell [aicssegmentation](https://github.com/AllenCell/aics-segmentation) package (size scale, threshold cutoff, and method = user input)\n",
    "\n",
    "- **`Step 4`** - ‘Filament’ threshold method (AICSSeg)\n",
    "\n",
    "  - apply \"filament\"/\"vessel\" thresholding method (for tubular objects) from the Allen Cell [aicssegmentation](https://github.com/AllenCell/aics-segmentation) package (size scale and threshold cutoff = user input)\n",
    "\n",
    "- **`Step 5`** - Combine Segmentations (logical or)\n",
    "\n",
    "  - combine the two segmentations with logical *OR*\n",
    "\n",
    "**POST-PROCESSING**\n",
    "- **`Step 6`** - Remove small holes and objects\n",
    "\n",
    "  - fill holes (hole size = user input)\n",
    "  - remove small objects (object size = user input)\n",
    "  - filter method (method = user input)\n",
    "\n",
    "**POST-POST-PROCESSING**\n",
    "- **`Step 7`** - Label objects\n",
    "\n",
    "  - label unique lysosome objects based on connectivity\n",
    "\n",
    "**EXPORT** ➡️\n",
    "- save labeled ***lysosomes*** (lyso, LS) as unsigned integer 16-bit \".tiff\" file"
   ]
  },
  {
   "attachments": {},
   "cell_type": "markdown",
   "metadata": {},
   "source": [
    "---------------------\n",
    "## **IMPORTS AND LOAD IMAGE**\n",
    "Details about the functions included in this subsection are outlined in the [`1.0_image_setup`](1.0_image_setup.ipynb) notebook. Please visit that notebook first if you are confused about any of the code included here."
   ]
  },
  {
   "cell_type": "markdown",
   "metadata": {},
   "source": [
    "#### &#x1F3C3; **Run code; no user input required**"
   ]
  },
  {
   "cell_type": "code",
   "execution_count": 1,
   "metadata": {},
   "outputs": [],
   "source": [
    "from pathlib import Path\n",
    "import os\n",
    "\n",
    "import numpy as np\n",
    "import pandas as pd\n",
    "import napari\n",
    "from napari.utils.notebook_display import nbscreenshot\n",
    "\n",
    "from infer_subc.core.file_io import (read_czi_image,\n",
    "                                     export_inferred_organelle,\n",
    "                                     list_image_files)\n",
    "from infer_subc.core.img import *         \n",
    "\n",
    "%load_ext autoreload\n",
    "%autoreload 2"
   ]
  },
  {
   "cell_type": "markdown",
   "metadata": {},
   "source": [
    "#### &#x1F6D1; &#x270D; **User Input Required:**\n",
    "\n",
    "Please specify the following information about your data: `im_type`, `data_root_path`, `in_data_path`, and `out_data_path`."
   ]
  },
  {
   "cell_type": "code",
   "execution_count": 2,
   "metadata": {},
   "outputs": [],
   "source": [
    "#### USER INPUT REQUIRED ###\n",
    "im_type = \".czi\"\n",
    "data_root_path = Path(os.path.expanduser(\"~\")) / \"Documents/Python_Scripts/Infer-subc\"\n",
    "in_data_path = data_root_path / \"raw\"\n",
    "out_data_path = data_root_path / \"out\""
   ]
  },
  {
   "cell_type": "markdown",
   "metadata": {},
   "source": [
    "#### &#x1F3C3; **Run code; no user input required**"
   ]
  },
  {
   "cell_type": "code",
   "execution_count": 3,
   "metadata": {},
   "outputs": [
    {
     "data": {
      "text/html": [
       "<div>\n",
       "<style scoped>\n",
       "    .dataframe tbody tr th:only-of-type {\n",
       "        vertical-align: middle;\n",
       "    }\n",
       "\n",
       "    .dataframe tbody tr th {\n",
       "        vertical-align: top;\n",
       "    }\n",
       "\n",
       "    .dataframe thead th {\n",
       "        text-align: right;\n",
       "    }\n",
       "</style>\n",
       "<table border=\"1\" class=\"dataframe\">\n",
       "  <thead>\n",
       "    <tr style=\"text-align: right;\">\n",
       "      <th></th>\n",
       "      <th>Image Name</th>\n",
       "    </tr>\n",
       "  </thead>\n",
       "  <tbody>\n",
       "    <tr>\n",
       "      <th>0</th>\n",
       "      <td>C:\\Users\\Shannon\\Documents\\Python_Scripts\\Infer-subc\\raw\\11252023_MSi08L_iPSCs_undiff_BR1_N20_Unmixing.czi</td>\n",
       "    </tr>\n",
       "    <tr>\n",
       "      <th>1</th>\n",
       "      <td>C:\\Users\\Shannon\\Documents\\Python_Scripts\\Infer-subc\\raw\\24hrs-Ctrl +oleicAcid 50uM_2_Unmixing.czi</td>\n",
       "    </tr>\n",
       "    <tr>\n",
       "      <th>2</th>\n",
       "      <td>C:\\Users\\Shannon\\Documents\\Python_Scripts\\Infer-subc\\raw\\24hrs-Ctrl +oleicAcid 50uM_3_Unmixing.czi</td>\n",
       "    </tr>\n",
       "    <tr>\n",
       "      <th>3</th>\n",
       "      <td>C:\\Users\\Shannon\\Documents\\Python_Scripts\\Infer-subc\\raw\\a24hrs-Ctrl +oleicAcid 50uM_10_Unmixing.czi</td>\n",
       "    </tr>\n",
       "    <tr>\n",
       "      <th>4</th>\n",
       "      <td>C:\\Users\\Shannon\\Documents\\Python_Scripts\\Infer-subc\\raw\\a24hrs-Ctrl +oleicAcid 50uM_4_Unmixing.czi</td>\n",
       "    </tr>\n",
       "    <tr>\n",
       "      <th>5</th>\n",
       "      <td>C:\\Users\\Shannon\\Documents\\Python_Scripts\\Infer-subc\\raw\\a24hrs-Ctrl_10_Unmixing.czi</td>\n",
       "    </tr>\n",
       "    <tr>\n",
       "      <th>6</th>\n",
       "      <td>C:\\Users\\Shannon\\Documents\\Python_Scripts\\Infer-subc\\raw\\a24hrs-Ctrl_14_Unmixing.czi</td>\n",
       "    </tr>\n",
       "    <tr>\n",
       "      <th>7</th>\n",
       "      <td>C:\\Users\\Shannon\\Documents\\Python_Scripts\\Infer-subc\\raw\\a48hrs-Ctrl + oleic acid_01_Unmixing.czi</td>\n",
       "    </tr>\n",
       "    <tr>\n",
       "      <th>8</th>\n",
       "      <td>C:\\Users\\Shannon\\Documents\\Python_Scripts\\Infer-subc\\raw\\a48hrs-Ctrl + oleic acid_02_Unmixing.czi</td>\n",
       "    </tr>\n",
       "    <tr>\n",
       "      <th>9</th>\n",
       "      <td>C:\\Users\\Shannon\\Documents\\Python_Scripts\\Infer-subc\\raw\\a48hrs-Ctrl + oleic acid_07_Unmixing.czi</td>\n",
       "    </tr>\n",
       "    <tr>\n",
       "      <th>10</th>\n",
       "      <td>C:\\Users\\Shannon\\Documents\\Python_Scripts\\Infer-subc\\raw\\a48hrs-Ctrl_10_Unmixing.czi</td>\n",
       "    </tr>\n",
       "    <tr>\n",
       "      <th>11</th>\n",
       "      <td>C:\\Users\\Shannon\\Documents\\Python_Scripts\\Infer-subc\\raw\\a48hrs-Ctrl_7_Unmixing.czi</td>\n",
       "    </tr>\n",
       "    <tr>\n",
       "      <th>12</th>\n",
       "      <td>C:\\Users\\Shannon\\Documents\\Python_Scripts\\Infer-subc\\raw\\a48hrs-Ctrl_8_Unmixing.czi</td>\n",
       "    </tr>\n",
       "    <tr>\n",
       "      <th>13</th>\n",
       "      <td>C:\\Users\\Shannon\\Documents\\Python_Scripts\\Infer-subc\\raw\\a48hrs-Ctrl_9_Unmixing.czi</td>\n",
       "    </tr>\n",
       "  </tbody>\n",
       "</table>\n",
       "</div>"
      ],
      "text/plain": [
       "                                                                                                    Image Name\n",
       "0   C:\\Users\\Shannon\\Documents\\Python_Scripts\\Infer-subc\\raw\\11252023_MSi08L_iPSCs_undiff_BR1_N20_Unmixing.czi\n",
       "1           C:\\Users\\Shannon\\Documents\\Python_Scripts\\Infer-subc\\raw\\24hrs-Ctrl +oleicAcid 50uM_2_Unmixing.czi\n",
       "2           C:\\Users\\Shannon\\Documents\\Python_Scripts\\Infer-subc\\raw\\24hrs-Ctrl +oleicAcid 50uM_3_Unmixing.czi\n",
       "3         C:\\Users\\Shannon\\Documents\\Python_Scripts\\Infer-subc\\raw\\a24hrs-Ctrl +oleicAcid 50uM_10_Unmixing.czi\n",
       "4          C:\\Users\\Shannon\\Documents\\Python_Scripts\\Infer-subc\\raw\\a24hrs-Ctrl +oleicAcid 50uM_4_Unmixing.czi\n",
       "5                         C:\\Users\\Shannon\\Documents\\Python_Scripts\\Infer-subc\\raw\\a24hrs-Ctrl_10_Unmixing.czi\n",
       "6                         C:\\Users\\Shannon\\Documents\\Python_Scripts\\Infer-subc\\raw\\a24hrs-Ctrl_14_Unmixing.czi\n",
       "7            C:\\Users\\Shannon\\Documents\\Python_Scripts\\Infer-subc\\raw\\a48hrs-Ctrl + oleic acid_01_Unmixing.czi\n",
       "8            C:\\Users\\Shannon\\Documents\\Python_Scripts\\Infer-subc\\raw\\a48hrs-Ctrl + oleic acid_02_Unmixing.czi\n",
       "9            C:\\Users\\Shannon\\Documents\\Python_Scripts\\Infer-subc\\raw\\a48hrs-Ctrl + oleic acid_07_Unmixing.czi\n",
       "10                        C:\\Users\\Shannon\\Documents\\Python_Scripts\\Infer-subc\\raw\\a48hrs-Ctrl_10_Unmixing.czi\n",
       "11                         C:\\Users\\Shannon\\Documents\\Python_Scripts\\Infer-subc\\raw\\a48hrs-Ctrl_7_Unmixing.czi\n",
       "12                         C:\\Users\\Shannon\\Documents\\Python_Scripts\\Infer-subc\\raw\\a48hrs-Ctrl_8_Unmixing.czi\n",
       "13                         C:\\Users\\Shannon\\Documents\\Python_Scripts\\Infer-subc\\raw\\a48hrs-Ctrl_9_Unmixing.czi"
      ]
     },
     "execution_count": 3,
     "metadata": {},
     "output_type": "execute_result"
    }
   ],
   "source": [
    "# list files in the input folder\n",
    "img_file_list = list_image_files(in_data_path,im_type)\n",
    "pd.set_option('display.max_colwidth', None)\n",
    "pd.DataFrame({\"Image Name\":img_file_list})"
   ]
  },
  {
   "cell_type": "markdown",
   "metadata": {},
   "source": [
    "#### &#x1F6D1; &#x270D; **User Input Required:**\n",
    "\n",
    "Use the list above to specify which image you wish to analyze based on its index: `test_img_n`"
   ]
  },
  {
   "cell_type": "code",
   "execution_count": 4,
   "metadata": {},
   "outputs": [],
   "source": [
    "#### USER INPUT REQUIRED ###\n",
    "test_img_n = 5"
   ]
  },
  {
   "cell_type": "markdown",
   "metadata": {},
   "source": [
    "#### &#x1F3C3; **Run code; no user input required**"
   ]
  },
  {
   "cell_type": "code",
   "execution_count": 5,
   "metadata": {},
   "outputs": [
    {
     "name": "stdout",
     "output_type": "stream",
     "text": [
      "Metadata information\n",
      "File path: C:\\Users\\Shannon\\Documents\\Python_Scripts\\Infer-subc\\raw\\a24hrs-Ctrl_10_Unmixing.czi\n",
      "Channel 0 name: 0 :: a24hrs-Ctrl_10_Unmixing-0 :: Nuclei_Jan22\n",
      "Channel 1 name: 0 :: a24hrs-Ctrl_10_Unmixing-0 :: Lyso+405_Jan22\n",
      "Channel 2 name: 0 :: a24hrs-Ctrl_10_Unmixing-0 :: Mito+405_Jan22\n",
      "Channel 3 name: 0 :: a24hrs-Ctrl_10_Unmixing-0 :: Golgi+405_Jan22\n",
      "Channel 4 name: 0 :: a24hrs-Ctrl_10_Unmixing-0 :: Peroxy+405_Jan22\n",
      "Channel 5 name: 0 :: a24hrs-Ctrl_10_Unmixing-0 :: ER+405_Jan22\n",
      "Channel 6 name: 0 :: a24hrs-Ctrl_10_Unmixing-0 :: BODIPY+405low_Jan22\n",
      "Channel 7 name: 0 :: a24hrs-Ctrl_10_Unmixing-0 :: Residuals\n",
      "Scale (ZYX): (0.3891184878080979, 0.07987165184837317, 0.07987165184837318)\n",
      "Channel axis: 0\n",
      "\n",
      "Proceed to Napari window to view your selected image.\n"
     ]
    }
   ],
   "source": [
    "# load image and metadata\n",
    "test_img_name = img_file_list[test_img_n]\n",
    "img_data,meta_dict = read_czi_image(test_img_name)\n",
    "\n",
    "# metadata\n",
    "channel_names = meta_dict['name']\n",
    "meta = meta_dict['metadata']['aicsimage']\n",
    "scale = meta_dict['scale']\n",
    "channel_axis = meta_dict['channel_axis']\n",
    "file_path = meta_dict['file_name']\n",
    "print(\"Metadata information\")\n",
    "print(f\"File path: {file_path}\")\n",
    "for i in list(range(len(channel_names))):\n",
    "    print(f\"Channel {i} name: {channel_names[i]}\")\n",
    "print(f\"Scale (ZYX): {scale}\")\n",
    "print(f\"Channel axis: {channel_axis}\")\n",
    "\n",
    "# open viewer and add images\n",
    "viewer = napari.Viewer()\n",
    "for i in list(range(len(channel_names))):\n",
    "    viewer.add_image(img_data[i],\n",
    "                     scale=scale,\n",
    "                     name=f\"Channel {i}\")\n",
    "viewer.grid.enabled = True\n",
    "viewer.reset_view()\n",
    "print(\"\\nProceed to Napari window to view your selected image.\")"
   ]
  },
  {
   "attachments": {},
   "cell_type": "markdown",
   "metadata": {},
   "source": [
    "-----\n",
    "\n",
    "## **EXTRACTION**"
   ]
  },
  {
   "cell_type": "markdown",
   "metadata": {},
   "source": [
    "### **`STEP 1` - Select a channel for segmentation**\n",
    "\n",
    "#### &#x1F6D1; &#x270D; **User Input Required:**\n",
    "\n",
    "Please specify which channel includes your lysosome label:\n",
    "- `LYSO_CH`: the index of the channel containing your lysosome label. Image indexing beginning with 0, not 1. Reference the channel numbers indicated in the Napari window for easy reference."
   ]
  },
  {
   "cell_type": "code",
   "execution_count": 6,
   "metadata": {},
   "outputs": [],
   "source": [
    "#### USER INPUT REQUIRED ###\n",
    "LYSO_CH = 1"
   ]
  },
  {
   "cell_type": "markdown",
   "metadata": {},
   "source": [
    "#### &#x1F3C3; **Run code; no user input required**\n",
    "\n",
    "&#x1F453; **FYI:** This code block extracts the lysosome channel from your multi- (or single) channel image. It will be the only part of the image used in the rest of this workflow. The single lysosome channel is added to the Napari viewer."
   ]
  },
  {
   "cell_type": "code",
   "execution_count": null,
   "metadata": {},
   "outputs": [
    {
     "data": {
      "text/plain": [
       "<Image layer '1 - Extract Lyso' at 0x165562b31c0>"
      ]
     },
     "execution_count": 7,
     "metadata": {},
     "output_type": "execute_result"
    }
   ],
   "source": [
    "# select channel\n",
    "raw_lyso = select_channel_from_raw(img_data, LYSO_CH)\n",
    "\n",
    "# clear napari and add single channel as a new layer\n",
    "viewer.layers.clear()\n",
    "viewer.grid.enabled = False\n",
    "viewer.add_image(raw_lyso, scale=scale, name=\"1 - Extract Lyso\")"
   ]
  },
  {
   "attachments": {},
   "cell_type": "markdown",
   "metadata": {},
   "source": [
    "-----\n",
    "## **PRE-PROCESSING**"
   ]
  },
  {
   "cell_type": "markdown",
   "metadata": {},
   "source": [
    "### **`STEP 2` - Rescale and smooth image**\n",
    "\n",
    "&#x1F453; **FYI:** This code block rescales the image so that the pixel/voxel with the highest intensity is set to 1 and the one with the lowest intensity is set to 0. The image is then *optionally* smoothed using a Gaussian and/or median filter. \n",
    "\n",
    "<mark> Include more information on the Gaussian and median filtering methods here </mark>\n",
    "\n",
    "#### &#x1F6D1; &#x270D; **User Input Required:**\n",
    "\n",
    "Please specify the amount of filter to use for each method. Higher values indicate more smoothing:\n",
    "- `med_filter_size`: the size of the median filter to apply; if 0 is used, no filter will be applied\n",
    "- `gaussian_smoothing_sigma`: the sigma to apply in the Gaussian filtering step; if 0 is used, no filter will be applied"
   ]
  },
  {
   "cell_type": "code",
   "execution_count": 8,
   "metadata": {},
   "outputs": [],
   "source": [
    "#### USER INPUT REQUIRED ###\n",
    "med_filter_size = 3   \n",
    "gaussian_smoothing_sigma = 1.34"
   ]
  },
  {
   "cell_type": "markdown",
   "metadata": {},
   "source": [
    "#### &#x1F3C3; **Run code; no user input required**\n",
    "\n",
    "&#x1F453; **FYI:** This code block rescales the image and applies the specified median and Gaussian filters. The image is then added to Napari as a new layer for visual comparison to the input image. \n",
    "\n",
    "Use the Napari viewer to iteratively adjust the smoothing settings selected above."
   ]
  },
  {
   "cell_type": "code",
   "execution_count": null,
   "metadata": {},
   "outputs": [
    {
     "data": {
      "text/plain": [
       "<Image layer '2 - Rescale and Smoooth Lyso' at 0x16555661fc0>"
      ]
     },
     "execution_count": 9,
     "metadata": {},
     "output_type": "execute_result"
    }
   ],
   "source": [
    "# rescaling and smoothing input image\n",
    "struct_img =  scale_and_smooth(raw_lyso,\n",
    "                               median_size = med_filter_size, \n",
    "                               gauss_sigma = gaussian_smoothing_sigma)\n",
    "\n",
    "# adding image to Napari as a new layer\n",
    "viewer.add_image(struct_img, scale=scale, name=\"2 - Rescale and Smooth\")"
   ]
  },
  {
   "attachments": {},
   "cell_type": "markdown",
   "metadata": {},
   "source": [
    "-----\n",
    "## **CORE-PROCESSING**"
   ]
  },
  {
   "cell_type": "markdown",
   "metadata": {},
   "source": [
    "### **`STEP 3` -  ‘Dot’ thresholding method (AICSSeg)**\n",
    "\n",
    "&#x1F453; **FYI:** This code block is the first of two semantic segmentation steps that are combined together in a later step. `Semantic segmentation` is the process of deciding whether a pixel/voxel should be included in an object (labeled with a value of 1) or should be considered as part of the background (labeled with a value of 0). A semantic segmentation does not discern individual objects from one another.\n",
    "\n",
    "The 'dot' filter is derived from the [`aics-segmentation`](https://github.com/AllenCell/aics-segmentation) package. It utilizes up to three scale (object size) and cutoff (threshold) pairs for different size and intensity objects. This function is specifically designed to segment small round objects.\n",
    "\n",
    "#### &#x1F6D1; &#x270D; **User Input Required:**\n",
    "\n",
    "Please specify the scale and cutoff values for each pair:\n",
    "- `dot_scale_1`: the size scale for the first scale/cutoff pair; larger values correlate to selection of larger objects\n",
    "- `dot_cut_1`: the threshold cutoff value for the first scale/cutoff pair; small cutoffs tend to yield more dots that are larger in volume; larger cutoffs tend to yield less dots that are slimmer.\n",
    "- `dot_scale_2`: the size scale for the second scale/cutoff pair; this can be set to 0 if a second scale/cutoff pair isn't needed\n",
    "- `dot_cut_2`: the threshold cutoff value for the second scale/cutoff pair; this can be set to 0 if a second scale/cutoff pair isn't needed\n",
    "- `dot_scale_3`: the size scale for the third scale/cutoff pair; this can be set to 0 if a third scale/cutoff pair isn't needed\n",
    "- `dot_cut_3`: the threshold cutoff value for the third scale/cutoff pair; this can be set to 0 if a third scale/cutoff pair isn't needed\n",
    "- `dot_method`: \"3D\" processes the image taking into account intensities in three dimensions (XYZ); \"slice-by-slice\" processes each Z-slice in the image separately, not considering any intensity in higher or lower Z planes."
   ]
  },
  {
   "cell_type": "code",
   "execution_count": 10,
   "metadata": {},
   "outputs": [],
   "source": [
    "#### USER INPUT REQUIRED ###\n",
    "dot_scale_1 = 5\n",
    "dot_cut_1 = 0.09\n",
    "\n",
    "dot_scale_2 = 2.5\n",
    "dot_cut_2 = 0.07\n",
    "\n",
    "dot_scale_3 = 1\n",
    "dot_cut_3 = 0.01\n",
    "\n",
    "dot_method = \"3D\""
   ]
  },
  {
   "cell_type": "markdown",
   "metadata": {},
   "source": [
    "#### &#x1F3C3; **Run code; no user input required**\n",
    "\n",
    "&#x1F453; **FYI:** This code block executes the dot filter using the settings above.\n",
    "\n",
    "Use the Napari viewer to iteratively adjust the filter settings as needed. \n",
    "\n",
    "*Hint: it is helpful to adjust the scale/cutoff filters one at a time and then combine them once each pair's settings are confirmed.*"
   ]
  },
  {
   "cell_type": "code",
   "execution_count": 11,
   "metadata": {},
   "outputs": [
    {
     "data": {
      "text/plain": [
       "<Image layer '3 - Dot filter' at 0x16556930dc0>"
      ]
     },
     "execution_count": 11,
     "metadata": {},
     "output_type": "execute_result"
    }
   ],
   "source": [
    "# apply the 2D or 3D versions of the AICSsegmentation dot filter with multiple scales\n",
    "bw_dot_test = dot_filter_3(struct_img,\n",
    "                           dot_scale_1,\n",
    "                           dot_cut_1,\n",
    "                           dot_scale_2,\n",
    "                           dot_cut_2,\n",
    "                           dot_scale_3,\n",
    "                           dot_cut_3,\n",
    "                           dot_method)\n",
    "\n",
    "# adding image to Napari as a new layer\n",
    "viewer.add_image(bw_dot_test, scale=scale, name=\"3 - Dot filter\", opacity=0.3, colormap=\"cyan\", blending='additive')"
   ]
  },
  {
   "cell_type": "markdown",
   "metadata": {},
   "source": [
    "### **`STEP 4` - ‘Filament’ threshold method (AICSSeg)**\n",
    "\n",
    "&#x1F453; **FYI:** This code block is the second semantic segmentation step that will be combined with the dot filter results.\n",
    "\n",
    "The 'filament' filter is derived from the [`aics-segmentation`](https://github.com/AllenCell/aics-segmentation) package. It utilizes up to three scale (object size) and cutoff (threshold) pairs for different size and intensity objects. This function is specifically designed to segment filamentous or tubular objects.\n",
    "\n",
    "#### &#x1F6D1; &#x270D; **User Input Required:**\n",
    "\n",
    "Please specify the scale and cutoff values for each pair:\n",
    "- `fil_scale_1`: the size scale for the first scale/cutoff pair; larger values correlate to selection of larger objects\n",
    "- `fil_cut_1`: the threshold cutoff value for the first scale/cutoff pair; small cutoffs tend to yield more dots that are larger in volume; larger cutoffs tend to yield less dots that are slimmer.\n",
    "- `fil_scale_2`: the size scale for the second scale/cutoff pair; this can be set to 0 if a second scale/cutoff pair isn't needed\n",
    "- `fil_cut_2`: the threshold cutoff value for the second scale/cutoff pair; this can be set to 0 if a second scale/cutoff pair isn't needed\n",
    "- `fil_scale_3`: the size scale for the third scale/cutoff pair; this can be set to 0 if a third scale/cutoff pair isn't needed\n",
    "- `fil_cut_3`: the threshold cutoff value for the third scale/cutoff pair; this can be set to 0 if a third scale/cutoff pair isn't needed\n",
    "- `fil_method`: \"3D\" processes the image taking into account intensities in three dimensions (XYZ); \"slice-by-slice\" processes each Z-slice in the image separately, not considering any intensity in higher or lower Z planes."
   ]
  },
  {
   "cell_type": "code",
   "execution_count": 12,
   "metadata": {},
   "outputs": [],
   "source": [
    "#### USER INPUT REQUIRED ###\n",
    "fil_scale_1 = 1\n",
    "fil_cut_1 = 0.15\n",
    "\n",
    "fil_scale_2 = 0\n",
    "fil_cut_2 = 0\n",
    "\n",
    "fil_scale_3 = 0\n",
    "fil_cut_3 = 0\n",
    "\n",
    "fil_method = \"3D\""
   ]
  },
  {
   "cell_type": "markdown",
   "metadata": {},
   "source": [
    "#### &#x1F3C3; **Run code; no user input required**\n",
    "\n",
    "&#x1F453; **FYI:** This code block executes the filament filter using the settings above.\n",
    "\n",
    "Use the Napari viewer to iteratively adjust the filter settings as needed. \n",
    "\n",
    "*Hint: it is helpful to adjust sellect the scale/cutoff filters one at a time and then combine them once each pair's settings are confirmed.*"
   ]
  },
  {
   "cell_type": "code",
   "execution_count": 13,
   "metadata": {},
   "outputs": [
    {
     "data": {
      "text/plain": [
       "<Image layer '4 - Filament filter' at 0x1654c601240>"
      ]
     },
     "execution_count": 13,
     "metadata": {},
     "output_type": "execute_result"
    }
   ],
   "source": [
    "# apply the 2D or 3D versions of the AICSsegmentation filament filter with multiple scales\n",
    "bw_filament_test = filament_filter_3(struct_img,\n",
    "                                    fil_scale_1,\n",
    "                                    fil_cut_1,\n",
    "                                    fil_scale_2,\n",
    "                                    fil_cut_2,\n",
    "                                    fil_scale_3,\n",
    "                                    fil_cut_3,\n",
    "                                    fil_method)\n",
    "\n",
    "# adding image to Napari as a new layer\n",
    "viewer.add_image(bw_filament_test, scale=scale, name=\"4 - Filament filter\", opacity=0.3, colormap=\"magenta\", blending='additive')"
   ]
  },
  {
   "cell_type": "markdown",
   "metadata": {},
   "source": [
    "### **`STEP 5` - Combine Segmentations**\n",
    "\n",
    "#### &#x1F3C3; **Run code; no user input required**\n",
    "\n",
    "&#x1F453; **FYI:** This code block combines the dot and filament filter outputs together using the \"logical or\" operation. The resulting semantic segmentation can be viewed in Napari."
   ]
  },
  {
   "cell_type": "code",
   "execution_count": 23,
   "metadata": {},
   "outputs": [
    {
     "data": {
      "text/plain": [
       "<Image layer '5 - Combined Semantic Segmentation' at 0x16556ca1000>"
      ]
     },
     "execution_count": 23,
     "metadata": {},
     "output_type": "execute_result"
    }
   ],
   "source": [
    "# combine the two segmentations together\n",
    "bw_test = np.logical_or(bw_dot_test, bw_filament_test)\n",
    "\n",
    "# adding image to Napari as a new layer\n",
    "viewer.add_image(bw_test, scale=scale, name=\"5 - Combined Semantic Segmentation\", colormap=\"green\")"
   ]
  },
  {
   "attachments": {},
   "cell_type": "markdown",
   "metadata": {},
   "source": [
    "-----\n",
    "## **POST-PROCESSING**"
   ]
  },
  {
   "cell_type": "markdown",
   "metadata": {},
   "source": [
    "### **`STEP 6` - Remove small holes and objects**\n",
    "\n",
    "&#x1F453; **FYI:** This code block cleans up the semantic segmentation by filling small holes and/or removing small objects that can be considered errors in the initial segmentation. \n",
    "\n",
    "#### &#x1F6D1; &#x270D; **User Input Required:**\n",
    "\n",
    "Please specify the following values:\n",
    "- `hole_min_width`: the width of the smallest hole to be filled\n",
    "- `hole_max_width`: the width of the largest hole to be filled\n",
    "- `small_object_width`: the width of the largest object to be removed; any object smaller than this size will be removed\n",
    "- `fill_filter_method`: \"3D\" processes the image taking into account segmentation values in three dimensions (XYZ); \"slice-by-slice\" processes each Z-slice in the image separately, not considering the segmentation results is higher or lower Z planes."
   ]
  },
  {
   "cell_type": "code",
   "execution_count": 28,
   "metadata": {},
   "outputs": [],
   "source": [
    "#### USER INPUT REQUIRED ###\n",
    "hole_min_width = 0\n",
    "hole_max_width = 25\n",
    "\n",
    "small_object_width = 2\n",
    "\n",
    "fill_filter_method = \"3D\""
   ]
  },
  {
   "cell_type": "markdown",
   "metadata": {},
   "source": [
    "#### &#x1F3C3; **Run code; no user input required**\n",
    "\n",
    "&#x1F453; **FYI:** This code block executes the dot filter using the settings above.\n",
    "\n",
    "Use the Napari viewer to iteratively adjust the filter settings as needed. \n",
    "\n",
    "*Hint: white pixels/voxels are the one remaining after this step*"
   ]
  },
  {
   "cell_type": "code",
   "execution_count": null,
   "metadata": {},
   "outputs": [
    {
     "data": {
      "text/plain": [
       "<Image layer '6 - Fill holes and remove small objects' at 0x16555660970>"
      ]
     },
     "execution_count": 29,
     "metadata": {},
     "output_type": "execute_result"
    }
   ],
   "source": [
    "# fill holes and removed small objects\n",
    "cleaned_img2 = fill_and_filter_linear_size(bw_test, \n",
    "                                           hole_min=hole_min_width, \n",
    "                                           hole_max=hole_max_width, \n",
    "                                           min_size=small_object_width,\n",
    "                                           method=fill_filter_method)\n",
    "\n",
    "# adding image to Napari as a new layer\n",
    "viewer.add_image(cleaned_img2, scale=scale, name=\"6 - Fill holes and remove small objects\", colormap=\"magenta\", blending=\"additive\")"
   ]
  },
  {
   "attachments": {},
   "cell_type": "markdown",
   "metadata": {},
   "source": [
    "-----\n",
    "## **POST-POST-PROCESSING**"
   ]
  },
  {
   "cell_type": "markdown",
   "metadata": {},
   "source": [
    "## **`STEP 7` - Label objects**\n",
    "\n",
    "#### &#x1F3C3; **Run code; no user input required**\n",
    "&#x1F453; **FYI:** This code block takes the semantic segmentation and creates an `instance segmentation`. In this output, each individual object in the image is given a unique ID number. The background pixels/voxels are still labeled as 0, but now each pixle/voxel within an object is labeled as a positive integer. \n",
    "\n",
    "In this workflow objects are separated based on connectivity: if a pixel/voxel is touching another pixel/voxel in any direction, they are considered the same object and each pixel/voxel within that object is labeled as the same unique ID number. \n",
    "\n",
    "*In the Napari viewer, the image is added as a \"labels\" layer where each object appears as a different color.*"
   ]
  },
  {
   "cell_type": "code",
   "execution_count": 31,
   "metadata": {},
   "outputs": [
    {
     "data": {
      "text/plain": [
       "<Labels layer '7 - Instance segmentation' at 0x1655c809180>"
      ]
     },
     "execution_count": 31,
     "metadata": {},
     "output_type": "execute_result"
    }
   ],
   "source": [
    "# create instance segmentation based on connectivity\n",
    "lysosome_labels = label_uint16(cleaned_img2)\n",
    "\n",
    "# adding image to Napari as a new layer\n",
    "viewer.add_labels(lysosome_labels, scale=scale, name=\"7 - Instance segmentation\")"
   ]
  },
  {
   "attachments": {},
   "cell_type": "markdown",
   "metadata": {},
   "source": [
    "-----\n",
    "## **SAVING**"
   ]
  },
  {
   "cell_type": "markdown",
   "metadata": {},
   "source": [
    "## **`Saving` - Save the segmentation output**\n",
    "\n",
    "#### &#x1F3C3; **Run code; no user input required**\n",
    "&#x1F453; **FYI:** This code block saves the instance segmentation output to the `out_data_path` specified earlier."
   ]
  },
  {
   "cell_type": "code",
   "execution_count": null,
   "metadata": {},
   "outputs": [
    {
     "name": "stdout",
     "output_type": "stream",
     "text": [
      "saved file: a24hrs-Ctrl_10_Unmixing-lyso\n",
      "saved to: C:\\Users\\Shannon\\Documents\\Python_Scripts\\Infer-subc\\out.\n"
     ]
    }
   ],
   "source": [
    "# Saving file\n",
    "out_file_n = export_inferred_organelle(lysosome_labels, \"lyso\", meta_dict, out_data_path)\n",
    "print(f\"saved to: {out_data_path}\")"
   ]
  },
  {
   "attachments": {},
   "cell_type": "markdown",
   "metadata": {},
   "source": [
    "-----\n",
    "-----\n",
    "## **Define `infer_lyso()` function**\n",
    "The following code includes an example of how the workflow steps above are combined into one function. This function can be run below to process a single image. It is included in the <mark>batch process notebook</mark> to run the above analysis on multiple cells. \n",
    "\n",
    "This function can utilized from infer-subc using:\n",
    "```python\n",
    "infer_subc.organelles.lysosome.infer_lyso()\n",
    "```\n",
    "\n",
    "#### &#x1F3C3; **Run code; no user input required**\n",
    "&#x1F453; **FYI:** This code block defines the `infer_lyso()` function. It is applied below."
   ]
  },
  {
   "cell_type": "code",
   "execution_count": null,
   "metadata": {},
   "outputs": [],
   "source": [
    "##########################\n",
    "#  infer_lyso\n",
    "##########################\n",
    "def _infer_lyso(in_img: np.ndarray,\n",
    "                lyso_ch: int,\n",
    "                median_sz: int,\n",
    "                gauss_sig: float,\n",
    "                dot_scale_1: float,\n",
    "                dot_cut_1: float,\n",
    "                dot_scale_2: float,\n",
    "                dot_cut_2: float,\n",
    "                dot_scale_3: float,\n",
    "                dot_cut_3: float,\n",
    "                dot_method: str,\n",
    "                fil_scale_1: float,\n",
    "                fil_cut_1: float,\n",
    "                fil_scale_2: float, \n",
    "                fil_cut_2: float, \n",
    "                fil_scale_3: float, \n",
    "                fil_cut_3: float,\n",
    "                fil_method: str,\n",
    "                min_hole_w: int,\n",
    "                max_hole_w: int,\n",
    "                small_obj_w: int,\n",
    "                fill_filter_method: str ) -> np.ndarray:\n",
    "    \"\"\"\n",
    "    Procedure to infer lysosome from linearly unmixed input,\n",
    "    \n",
    "    Parameters\n",
    "    ------------\n",
    "    in_img: \n",
    "        a 3d image containing all the channels\n",
    "    median_sz: \n",
    "        width of median filter for signal\n",
    "    gauss_sig: \n",
    "        sigma for gaussian smoothing of  signal\n",
    "    dot_scale: \n",
    "        scales (log_sigma) for dot filter (1,2, and 3)\n",
    "    dot_cut: \n",
    "        threshold for dot filter thresholds (1,2,and 3)\n",
    "    fil_scale: \n",
    "        scale (log_sigma) for filament filter\n",
    "    fil_cut: \n",
    "        threshold for filament fitered threshold\n",
    "    min_hole_w: \n",
    "        hole filling min for nuclei post-processing\n",
    "    max_hole_w: \n",
    "        hole filling cutoff for nuclei post-processing\n",
    "    small_obj_w: \n",
    "        minimu object size cutoff for nuclei post-processing\n",
    "    fill_filter_method:\n",
    "        to fill snall holes and remove small objects in \"3D\" or \"slice-by-slice\"\n",
    "\n",
    "    Returns\n",
    "    -------------\n",
    "    lyso_object\n",
    "        mask defined extent of lysosome object\n",
    "\n",
    "    \"\"\"\n",
    "    ###################\n",
    "    # EXTRACT\n",
    "    ###################    \n",
    "    lyso = select_channel_from_raw(in_img, lyso_ch)\n",
    "\n",
    "     ###################\n",
    "    # PRE_PROCESSING\n",
    "    ###################    \n",
    "    lyso1 =  scale_and_smooth(lyso,\n",
    "                             median_size = median_sz, \n",
    "                             gauss_sigma = gauss_sig)\n",
    "   ###################\n",
    "    # CORE_PROCESSING\n",
    "    ###################\n",
    "    bw_dot = dot_filter_3(lyso1, dot_scale_1, dot_cut_1, dot_scale_2, dot_cut_2, dot_scale_3, dot_cut_3, dot_method)\n",
    "\n",
    "    bw_filament = filament_filter_3(lyso1, fil_scale_1, fil_cut_1, fil_scale_2, fil_cut_2, fil_scale_3, fil_cut_3, fil_method)\n",
    "\n",
    "    bw = np.logical_or(bw_dot, bw_filament)\n",
    "\n",
    "    ###################\n",
    "    # POST_PROCESSING\n",
    "    ###################\n",
    "    struct_obj = fill_and_filter_linear_size(bw, hole_min=min_hole_w, hole_max=max_hole_w, min_size=small_obj_w, method=fill_filter_method)\n",
    "\n",
    "    ###################\n",
    "    # LABELING\n",
    "    ###################\n",
    "    struct_obj1 = label_uint16(struct_obj)\n",
    "\n",
    "    return struct_obj1\n"
   ]
  },
  {
   "cell_type": "markdown",
   "metadata": {},
   "source": [
    "#### &#x1F3C3; **Run code; no user input required**\n",
    "\n",
    "&#x1F453; **FYI:** This code block applies the function above to your test image. The settings specified above are applied here."
   ]
  },
  {
   "cell_type": "code",
   "execution_count": 36,
   "metadata": {},
   "outputs": [
    {
     "name": "stdout",
     "output_type": "stream",
     "text": [
      "The segmentation output here matches the output created above: True\n"
     ]
    },
    {
     "data": {
      "text/plain": [
       "<Labels layer 'infer_lyso() output' at 0x165563ebb50>"
      ]
     },
     "execution_count": 36,
     "metadata": {},
     "output_type": "execute_result"
    }
   ],
   "source": [
    "# run lysosome segmentation function\n",
    "_lyso_object = _infer_lyso(  \n",
    "        img_data,\n",
    "        LYSO_CH,\n",
    "        med_filter_size,\n",
    "        gaussian_smoothing_sigma,\n",
    "        dot_scale_1,\n",
    "        dot_cut_1,\n",
    "        dot_scale_2,\n",
    "        dot_cut_2,\n",
    "        dot_scale_3,\n",
    "        dot_cut_3,\n",
    "        dot_method,\n",
    "        fil_scale_1,\n",
    "        fil_cut_1,\n",
    "        fil_scale_2,\n",
    "        fil_cut_2,\n",
    "        fil_scale_3,\n",
    "        fil_cut_3,\n",
    "        fil_method,\n",
    "        hole_min_width,\n",
    "        hole_max_width,\n",
    "        small_object_width,\n",
    "        fill_filter_method)\n",
    "\n",
    "#confirm this output matches the output saved above\n",
    "print(f\"The segmentation output here matches the output created above: {np.all(lysosome_labels == _lyso_object)}\")\n",
    "\n",
    "# adding image to Napari as a new layer\n",
    "viewer.add_labels(_lyso_object, scale=scale, name=\"infer_lyso() output\")"
   ]
  },
  {
   "attachments": {},
   "cell_type": "markdown",
   "metadata": {},
   "source": [
    "-------------\n",
    "### ✅ **INFER LYSOSOMES COMPLETE!**\n",
    "\n",
    "Continue on to other notebooks as needed:\n",
    "- Infer [`mitochondria`](1.3_infer_mitochondria.ipynb)\n",
    "- Infer [`golgi`](1.4_infer_golgi.ipynb)\n",
    "- Infer [`peroxisomes`](1.5_infer_peroxisome.ipynb)\n",
    "- Infer [`endoplasmic reticulum (ER)`](1.6_infer_ER.ipynb)\n",
    "- Infer [`lipid droplets`](1.7_infer_lipid_droplet.ipynb)\n",
    "\n",
    "Or proceed to batch processing here: <mark>link to batch notebook</mark>"
   ]
  }
 ],
 "metadata": {
  "kernelspec": {
   "display_name": "infer-subc-scohen",
   "language": "python",
   "name": "python3"
  },
  "language_info": {
   "codemirror_mode": {
    "name": "ipython",
    "version": 3
   },
   "file_extension": ".py",
   "mimetype": "text/x-python",
   "name": "python",
   "nbconvert_exporter": "python",
   "pygments_lexer": "ipython3",
   "version": "3.10.15"
  },
  "orig_nbformat": 4
 },
 "nbformat": 4,
 "nbformat_minor": 2
}
