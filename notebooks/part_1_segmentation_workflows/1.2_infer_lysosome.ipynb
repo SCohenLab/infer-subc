{
 "cells": [
  {
   "attachments": {},
   "cell_type": "markdown",
   "metadata": {},
   "source": [
    "# **Infer `Lysosomes`**\n",
    "\n",
    "***Prior to this notebook, you should have already run through [1.0_image_setup](1.0_image_setup.ipynb).***\n",
    "\n",
    "In notebooks 1.2 through 1.7, we will go over the implementation of `infer-subc` in the Napari plugin called  `organelle-segmenter-plugin`. The steps outlined in each notebook correlate to the workflow steps from the plugin. Here, you will gain knowledge of what `infer-subc` functions are involved in each of those steps.\n",
    "\n",
    "The segmentation workflows are completely independent of each other and can be run in any order. The current notebook segments the `Lysosomes`. Notebooks for the segmentation of other organelles can be found here:\n",
    "- Infer [`mitochondria`](1.3_infer_mitochondria.ipynb)\n",
    "- Infer [`golgi`](1.4_infer_golgi.ipynb)\n",
    "- Infer [`peroxisomes`](1.5_infer_peroxisome.ipynb)\n",
    "- Infer [`endoplasmic reticulum (ER)`](1.6_infer_ER.ipynb)\n",
    "- Infer [`lipid droplets`](1.7_infer_lipid_droplet.ipynb)\n",
    "\n",
    "***Note:** These notebooks do not include a batch processing option. They are simply explanations of the steps included in the Napari plugin. If you would like to batch process your images in a Jupyter notebook instead of the plugin, you can use the [batch process segmentation](batch_process_segmentations.ipynb) notebook.*\n",
    "\n",
    "### **Single cell analysis**\n",
    "Each workflow segments organelles from the entire image, irrespective of the cell mask identified in notebook 1.1. To attain a single-cell analysis, the mask will be applied to the organelle segmentation outputs before quantification in the `part_2_quantification` notebooks. \n",
    "\n",
    "### **Lysosomes** 🗑️♻️\n",
    "Lysosomes are membrane-enclosed structures that contain enzymes and an acidic lumen for breaking down cellular components such as proteins, other organelles, and more. Degradative cargo can be obtained through endocytosis, the secretory pathway, and fusion with autophagosomes. Lysosomes can also act as secretory vesicles and are involved in organelles contacts with many other intracellular organelles.\n",
    "\n",
    "### **Fluorescence labeling strategies** 🔆 \n",
    "Lysosomes can be fluorescently labeled in live and fixed cells by staining for endogenous proteins, targeting fluorescent proteins to the membrane or lumen using genertically encoded markers, or with dye-based approaches. The labeling approach used and resolution of your images can result in different staining outcomes that can impact the segmentation steps below. For example, a genetically encoded fluorescent protein targeted to lysosomes using the membrane-associated Lamp1 protein (e.g., Lamp1-GFP) will specifically label the lyososomal membrane, not the lumen. In this case, large lysosomes may appear as empty rings or shells. In contrast, if a luminal dye is used, the structures will likely appear as a filled-in circle or sphere. \n",
    "\n",
    "Additionally, it can be challenging to differentiate between closely related vesicles within the endolysosomal system, like late endososomes and lysosomes. Therefore, understanding the coverage of your chosen marker is important in understanding the biological implication of results derived from this pipeline. \n",
    "\n",
    "The workflow below is best suited for segmentation of filled-in lysosome structures. When membrane-based labeling methods are used, the hollow structures are not always able to be filled in during segmentation, and, in some cases, regions of the shell structure enclosing the lysosomes aren't bright enough to be segmented completely. \n",
    "\n",
    "Lysosome shapes can be spherical or take on a more elongated tube shape, so two segmentation methods to identify the wide range of object shapes is included. Read through the steps below for more details.\n",
    "\n",
    "***We advise that you test the segmentation process on a small, pilot dataset before committing to a particular labeling strategy and segmentation approach.***\n",
    "\n",
    "-----"
   ]
  },
  {
   "cell_type": "markdown",
   "metadata": {},
   "source": [
    "### 👣 **Summary of steps**  \n",
    "\n",
    "➡️ **EXTRACTION**\n",
    "- **`Step 1`** - Select a channel for segmentation\n",
    "\n",
    "  - select single channel containing the lysosome marker (channel number = user input)\n",
    "\n",
    "**PRE-PROCESSING**\n",
    "- **`Step 2`** - Rescale and smooth image\n",
    "\n",
    "  - rescale intensity of composite image (min=0, max=1)\n",
    "  - median filter (median size = user input)\n",
    "  - gaussian filter (sigma = user input)\n",
    "\n",
    "**CORE PROCESSING**\n",
    "- **`Step 3`** - ‘Dot’ thresholding method (AICSSeg)\n",
    "\n",
    "  - apply \"dot\" thresholding method (for small round objects) from the Allen Cell [aicssegmentation](https://github.com/AllenCell/aics-segmentation) package (size scale, threshold cutoff, and method = user input)\n",
    "\n",
    "- **`Step 4`** - ‘Filament’ threshold method (AICSSeg)\n",
    "\n",
    "  - apply \"filament\"/\"vessel\" thresholding method (for tubular objects) from the Allen Cell [aicssegmentation](https://github.com/AllenCell/aics-segmentation) package (size scale and threshold cutoff = user input)\n",
    "\n",
    "- **`Step 5`** - Combine Segmentations (logical or)\n",
    "\n",
    "  - combine the two segmentations with logical *OR*\n",
    "\n",
    "**POST-PROCESSING**\n",
    "- **`Step 6`** - Remove small holes and objects\n",
    "\n",
    "  - fill holes (hole size = user input)\n",
    "  - remove small objects (object size = user input)\n",
    "  - filter method (method = user input)\n",
    "\n",
    "**POST-POST-PROCESSING**\n",
    "- **`Step 7`** - Label objects\n",
    "\n",
    "  - label unique lysosome objects based on connectivity\n",
    "\n",
    "**EXPORT** ➡️\n",
    "- save labeled ***lysosomes*** (lyso, LS) as unsigned integer 16-bit \".tiff\" file"
   ]
  },
  {
   "attachments": {},
   "cell_type": "markdown",
   "metadata": {},
   "source": [
    "---------------------\n",
    "## **IMPORTS AND LOAD IMAGE**\n",
    "Details about the functions included in this subsection are outlined in the [`1.0_image_setup`](1.0_image_setup.ipynb) notebook. Please visit that notebook first if you are confused about any of the code included here."
   ]
  },
  {
   "cell_type": "markdown",
   "metadata": {},
   "source": [
    "#### &#x1F3C3; **Run code; no user input required**"
   ]
  },
  {
   "cell_type": "code",
   "execution_count": 61,
   "metadata": {},
   "outputs": [
    {
     "name": "stdout",
     "output_type": "stream",
     "text": [
      "The autoreload extension is already loaded. To reload it, use:\n",
      "  %reload_ext autoreload\n"
     ]
    }
   ],
   "source": [
    "from pathlib import Path\n",
    "import os\n",
    "\n",
    "import numpy as np\n",
    "import pandas as pd\n",
    "import napari\n",
    "from napari.utils.notebook_display import nbscreenshot\n",
    "\n",
    "from infer_subc.core.file_io import (read_czi_image,\n",
    "                                     export_inferred_organelle,\n",
    "                                     list_image_files,\n",
    "                                     sample_input)\n",
    "from infer_subc.core.img import *         \n",
    "\n",
    "%load_ext autoreload\n",
    "%autoreload 2"
   ]
  },
  {
   "cell_type": "markdown",
   "metadata": {},
   "source": [
    "#### &#x1F6D1; &#x270D; **User Input Required:**\n",
    "\n",
    "Please specify the following information about your data: `im_type`, `data_root_path`, `in_data_path`, and `out_data_path`."
   ]
  },
  {
   "cell_type": "code",
   "execution_count": 62,
   "metadata": {},
   "outputs": [],
   "source": [
    "### USER INPUT REQUIRED ###\n",
    "# If using the sample data, select which cell type you would like analyze (\"neuron_1\", \"astrocyte\", \"neuron_2\" or \"ipsc\"):\n",
    "# If not using the sample data, set cell_type to None\n",
    "sample_data_type = \"neuron_1\"\n",
    "\n",
    "# If you are not using the sample data, please edit \"USER SPECIFIED\" as necessary.\n",
    "## Define the path to the directory that contains the input image folder.\n",
    "data_root_path = Path(\"USER SPECIFIED\")\n",
    "\n",
    "# Specify the file type of your raw data that will be analyzed. Ex) \".czi\" or \".tiff\"\n",
    "im_type = \"USER SPECIFIED\"\n",
    "\n",
    "## Specify which subfolder that contains the input data and the input data file extension\n",
    "in_data_path = data_root_path / \"USER SPECIFIED\"\n",
    "\n",
    "## Specify the output folder to save the segmentation outputs if.\n",
    "## If its not already created, the code below will create it for you\n",
    "out_data_path = data_root_path / \"USER SPECIFIED\""
   ]
  },
  {
   "cell_type": "markdown",
   "metadata": {},
   "source": [
    "#### &#x1F3C3; **Run code; no user input required**"
   ]
  },
  {
   "cell_type": "code",
   "execution_count": 63,
   "metadata": {},
   "outputs": [
    {
     "data": {
      "text/html": [
       "<div>\n",
       "<style scoped>\n",
       "    .dataframe tbody tr th:only-of-type {\n",
       "        vertical-align: middle;\n",
       "    }\n",
       "\n",
       "    .dataframe tbody tr th {\n",
       "        vertical-align: top;\n",
       "    }\n",
       "\n",
       "    .dataframe thead th {\n",
       "        text-align: right;\n",
       "    }\n",
       "</style>\n",
       "<table border=\"1\" class=\"dataframe\">\n",
       "  <thead>\n",
       "    <tr style=\"text-align: right;\">\n",
       "      <th></th>\n",
       "      <th>Image Name</th>\n",
       "    </tr>\n",
       "  </thead>\n",
       "  <tbody>\n",
       "    <tr>\n",
       "      <th>0</th>\n",
       "      <td>c:\\Users\\redre\\Documents\\CohenLab\\scohen_lab_repo\\infer-subc\\sample_data\\example_neuron_1\\raw\\20230727_C2-121_conditioned_well 4_cell 1_untreated_Linear unmixing_0_cmle.ome.tiff</td>\n",
       "    </tr>\n",
       "  </tbody>\n",
       "</table>\n",
       "</div>"
      ],
      "text/plain": [
       "                                                                                                                                                                          Image Name\n",
       "0  c:\\Users\\redre\\Documents\\CohenLab\\scohen_lab_repo\\infer-subc\\sample_data\\example_neuron_1\\raw\\20230727_C2-121_conditioned_well 4_cell 1_untreated_Linear unmixing_0_cmle.ome.tiff"
      ]
     },
     "execution_count": 63,
     "metadata": {},
     "output_type": "execute_result"
    }
   ],
   "source": [
    "# If sample_data_type is set to \"neuron_1\", \"astrocyte\", \"neuron_2\" or \"ipsc\", then the sample data is used and the directories are set\n",
    "if sample_data_type != None:\n",
    "    data_root_path, im_type, in_data_path, out_data_path = sample_input(sample_data_type)\n",
    "\n",
    "# list files in the input folder\n",
    "img_file_list = list_image_files(in_data_path,im_type)\n",
    "pd.set_option('display.max_colwidth', None)\n",
    "pd.DataFrame({\"Image Name\":img_file_list})"
   ]
  },
  {
   "cell_type": "markdown",
   "metadata": {},
   "source": [
    "#### &#x1F6D1; &#x270D; **User Input Required:**\n",
    "\n",
    "Use the list above to specify which image you wish to analyze based on its index: `test_img_n`"
   ]
  },
  {
   "cell_type": "code",
   "execution_count": 64,
   "metadata": {},
   "outputs": [],
   "source": [
    "#### USER INPUT REQUIRED ###\n",
    "test_img_n = 0"
   ]
  },
  {
   "cell_type": "markdown",
   "metadata": {},
   "source": [
    "#### &#x1F3C3; **Run code; no user input required**"
   ]
  },
  {
   "cell_type": "code",
   "execution_count": 65,
   "metadata": {},
   "outputs": [
    {
     "name": "stdout",
     "output_type": "stream",
     "text": [
      "Metadata information\n",
      "File path: c:\\Users\\redre\\Documents\\CohenLab\\scohen_lab_repo\\infer-subc\\sample_data\\example_neuron_1\\raw\\20230727_C2-121_conditioned_well 4_cell 1_untreated_Linear unmixing_0_cmle.ome.tiff\n",
      "Channel 0 name: 20230727_C2-121_conditioned_well 4_cell 1_untreated_Linear unmixing_0_cmle.ome :: Channel:0\n",
      "Channel 1 name: 20230727_C2-121_conditioned_well 4_cell 1_untreated_Linear unmixing_0_cmle.ome :: Channel:1\n",
      "Channel 2 name: 20230727_C2-121_conditioned_well 4_cell 1_untreated_Linear unmixing_0_cmle.ome :: Channel:2\n",
      "Channel 3 name: 20230727_C2-121_conditioned_well 4_cell 1_untreated_Linear unmixing_0_cmle.ome :: Channel:3\n",
      "Channel 4 name: 20230727_C2-121_conditioned_well 4_cell 1_untreated_Linear unmixing_0_cmle.ome :: Channel:4\n",
      "Channel 5 name: 20230727_C2-121_conditioned_well 4_cell 1_untreated_Linear unmixing_0_cmle.ome :: Channel:5\n",
      "Scale (ZYX): (0.410594, 0.079947, 0.079947)\n",
      "Channel axis: 0\n",
      "\n",
      "Proceed to Napari window to view your selected image.\n"
     ]
    }
   ],
   "source": [
    "# load image and metadata\n",
    "test_img_name = img_file_list[test_img_n]\n",
    "img_data,meta_dict = read_czi_image(test_img_name)\n",
    "\n",
    "# metadata\n",
    "channel_names = meta_dict['name']\n",
    "meta = meta_dict['metadata']['aicsimage']\n",
    "scale = meta_dict['scale']\n",
    "channel_axis = meta_dict['channel_axis']\n",
    "file_path = meta_dict['file_name']\n",
    "print(\"Metadata information\")\n",
    "print(f\"File path: {file_path}\")\n",
    "for i in list(range(len(channel_names))):\n",
    "    print(f\"Channel {i} name: {channel_names[i]}\")\n",
    "print(f\"Scale (ZYX): {scale}\")\n",
    "print(f\"Channel axis: {channel_axis}\")\n",
    "\n",
    "# open viewer and add images\n",
    "viewer = napari.Viewer()\n",
    "for i in list(range(len(channel_names))):\n",
    "    viewer.add_image(img_data[i],\n",
    "                     scale=scale,\n",
    "                     name=f\"Channel {i}\")\n",
    "viewer.grid.enabled = True\n",
    "viewer.reset_view()\n",
    "print(\"\\nProceed to Napari window to view your selected image.\")"
   ]
  },
  {
   "attachments": {},
   "cell_type": "markdown",
   "metadata": {},
   "source": [
    "-----\n",
    "\n",
    "## **EXTRACTION**"
   ]
  },
  {
   "cell_type": "markdown",
   "metadata": {},
   "source": [
    "### **`STEP 1` - Select a channel for segmentation**\n",
    "\n",
    "#### &#x1F6D1; &#x270D; **User Input Required:**\n",
    "\n",
    "Please specify which channel includes your lysosome label:\n",
    "- `LYSO_CH`: the index of the channel containing your lysosome label. Image indexing begins with 0, not 1. Reference the channel numbers indicated in the Napari window for easy reference.\n",
    "\n",
    "\n",
    "⚙️ **SAMPLE DATA SETTINGS**\n",
    "\n",
    "If using the sample data, here are the correct channel indices\n",
    "\n",
    "|**Cell type**|LYSO_CH| \n",
    "| :------------------------------------- |  :------:  |\n",
    "|Neuron 1 |`3`|\n",
    "|Astrocyte|`3`|\n",
    "|Neuron 2 |`4`|\n",
    "|IPSC|`2`|"
   ]
  },
  {
   "cell_type": "code",
   "execution_count": 66,
   "metadata": {},
   "outputs": [],
   "source": [
    "#### USER INPUT REQUIRED ###\n",
    "LYSO_CH = 3"
   ]
  },
  {
   "cell_type": "markdown",
   "metadata": {},
   "source": [
    "#### &#x1F3C3; **Run code; no user input required**\n",
    "\n",
    "&#x1F453; **FYI:** This code block extracts the lysosome channel from your multi- (or single) channel image. It will be the only part of the image used in the rest of this workflow. The single lysosome channel is added to the Napari viewer."
   ]
  },
  {
   "cell_type": "code",
   "execution_count": 67,
   "metadata": {},
   "outputs": [
    {
     "data": {
      "text/plain": [
       "<Image layer '1 - Extract Lyso' at 0x2390612b700>"
      ]
     },
     "execution_count": 67,
     "metadata": {},
     "output_type": "execute_result"
    }
   ],
   "source": [
    "# select channel\n",
    "raw_lyso = select_channel_from_raw(img_data, LYSO_CH)\n",
    "\n",
    "# clear napari and add single channel as a new layer\n",
    "viewer.layers.clear()\n",
    "viewer.grid.enabled = False\n",
    "viewer.add_image(raw_lyso, scale=scale, name=\"1 - Extract Lyso\")"
   ]
  },
  {
   "attachments": {},
   "cell_type": "markdown",
   "metadata": {},
   "source": [
    "-----\n",
    "## **PRE-PROCESSING**"
   ]
  },
  {
   "cell_type": "markdown",
   "metadata": {},
   "source": [
    "### **`STEP 2` - Rescale and smooth image**\n",
    "\n",
    "&#x1F453; **FYI:** This code block rescales the image so that the pixel/voxel with the highest intensity is set to 1 and the one with the lowest intensity is set to 0. The image is then *optionally* smoothed using a Gaussian and/or median filter. \n",
    "\n",
    "<mark> Include more information on the Gaussian and median filtering methods here </mark>\n",
    "\n",
    "#### &#x1F6D1; &#x270D; **User Input Required:**\n",
    "\n",
    "Please specify the amount of filter to use for each method. Higher values indicate more smoothing:\n",
    "- `med_filter_size`: the size of the median filter to apply; if 0 is used, no filter will be applied\n",
    "- `gaussian_smoothing_sigma`: the sigma to apply in the Gaussian filtering step; if 0 is used, no filter will be applied"
   ]
  },
  {
   "cell_type": "markdown",
   "metadata": {},
   "source": [
    "⚙️ **SAMPLE DATA SETTINGS**\n",
    "\n",
    "If using the sample data, here are the recommended parameters for each cell type\n",
    "\n",
    "|**Cell type**|med_filter_size|gaussian_smoothing_sigma| \n",
    "| :------------------------------------- |  :------:  |  :------:  |\n",
    "|Neuron 1|`0`|`0.0`|\n",
    "|Astrocyte|`0`|`0.0`|\n",
    "|Neuron 2|`0`|`0.0`|\n",
    "|IPSC|`0`|`0.0`|"
   ]
  },
  {
   "cell_type": "code",
   "execution_count": 68,
   "metadata": {},
   "outputs": [],
   "source": [
    "#### USER INPUT REQUIRED ###\n",
    "med_filter_size = 0\n",
    "gaussian_smoothing_sigma = 0.0"
   ]
  },
  {
   "cell_type": "markdown",
   "metadata": {},
   "source": [
    "#### &#x1F3C3; **Run code; no user input required**\n",
    "\n",
    "&#x1F453; **FYI:** This code block rescales the image and applies the specified median and Gaussian filters. The image is then added to Napari as a new layer for visual comparison to the input image. \n",
    "\n",
    "Use the Napari viewer to iteratively adjust the smoothing settings selected above."
   ]
  },
  {
   "cell_type": "code",
   "execution_count": 69,
   "metadata": {},
   "outputs": [
    {
     "data": {
      "text/plain": [
       "<Image layer '2 - Rescale and Smooth' at 0x239064cb010>"
      ]
     },
     "execution_count": 69,
     "metadata": {},
     "output_type": "execute_result"
    }
   ],
   "source": [
    "# rescaling and smoothing input image\n",
    "struct_img =  scale_and_smooth(raw_lyso,\n",
    "                               median_size = med_filter_size, \n",
    "                               gauss_sigma = gaussian_smoothing_sigma)\n",
    "\n",
    "# adding image to Napari as a new layer\n",
    "viewer.add_image(struct_img, scale=scale, name=\"2 - Rescale and Smooth\")"
   ]
  },
  {
   "attachments": {},
   "cell_type": "markdown",
   "metadata": {},
   "source": [
    "-----\n",
    "## **CORE-PROCESSING**"
   ]
  },
  {
   "cell_type": "markdown",
   "metadata": {},
   "source": [
    "### **`STEP 3` -  ‘Dot’ thresholding method (AICSSeg)**\n",
    "\n",
    "&#x1F453; **FYI:** This code block is the first of two semantic segmentation steps that are combined together in a later step. `Semantic segmentation` is the process of deciding whether a pixel/voxel should be included in an object (labeled with a value of 1) or should be considered as part of the background (labeled with a value of 0). A semantic segmentation does not discern individual objects from one another.\n",
    "\n",
    "The 'dot' filter is derived from the [`aics-segmentation`](https://github.com/AllenCell/aics-segmentation) package. It utilizes up to three scale (object size) and cutoff (threshold) pairs for objects of different size and intensity. This function is specifically designed to segment small round objects.\n",
    "\n",
    "#### &#x1F6D1; &#x270D; **User Input Required:**\n",
    "\n",
    "Please specify the scale and cutoff values for each pair:\n",
    "- `dot_scale_1`: the size scale for the first scale/cutoff pair; larger values correlate to selection of larger objects\n",
    "- `dot_cut_1`: the threshold cutoff value for the first scale/cutoff pair; small cutoffs tend to yield more dots that are larger in volume; larger cutoffs tend to yield less dots that are slimmer.\n",
    "- `dot_scale_2`: the size scale for the second scale/cutoff pair; this can be set to 0 if a second scale/cutoff pair isn't needed\n",
    "- `dot_cut_2`: the threshold cutoff value for the second scale/cutoff pair; this can be set to 0 if a second scale/cutoff pair isn't needed\n",
    "- `dot_scale_3`: the size scale for the third scale/cutoff pair; this can be set to 0 if a third scale/cutoff pair isn't needed\n",
    "- `dot_cut_3`: the threshold cutoff value for the third scale/cutoff pair; this can be set to 0 if a third scale/cutoff pair isn't needed\n",
    "- `dot_method`: \"3D\" processes the image taking into account intensities in three dimensions (XYZ); \"slice-by-slice\" processes each Z-slice in the image separately, not considering any intensity in higher or lower Z planes."
   ]
  },
  {
   "cell_type": "markdown",
   "metadata": {},
   "source": [
    "⚙️ **SAMPLE DATA SETTINGS**\n",
    "\n",
    "If using the sample data, here are the recommended parameters for each cell type\n",
    "\n",
    "|**Cell type**|dot_scale_1|dot_cut_1|dot_scale_2|dot_cut_2|dot_scale_3|dot_cut_3|dot_method|\n",
    "| :------------------------------------- |  :------:  |  :------:  |  :------:  |  :------:  |  :------:  |  :------:  |  :------:  |\n",
    "|Neuron 1|`0.01`|`0.2`|`0`|`0`|`0`|`0`|`\"3D\"`|\n",
    "|Astrocyte|`0.01`|`0.1`|`0`|`0`|`0`|`0`|`\"3D\"`|\n",
    "|Neuron 2|`4.5`|`0.08`|`2.0`|`0.05`|`0.5`|`0.03`|`\"slice_by_slice\"`|\n",
    "|IPSC|`2.0`|`0.06`|`1.0`|`0.07`|`5.0`|`0.07`|`\"slice_by_slice\"`|"
   ]
  },
  {
   "cell_type": "code",
   "execution_count": 70,
   "metadata": {},
   "outputs": [],
   "source": [
    "#### USER INPUT REQUIRED ###\n",
    "dot_scale_1 = 0.01\n",
    "dot_cut_1 = 0.2\n",
    "\n",
    "dot_scale_2 = 0\n",
    "dot_cut_2 = 0\n",
    "\n",
    "dot_scale_3 = 0\n",
    "dot_cut_3 = 0\n",
    "\n",
    "dot_method = \"3D\""
   ]
  },
  {
   "cell_type": "markdown",
   "metadata": {},
   "source": [
    "#### &#x1F3C3; **Run code; no user input required**\n",
    "\n",
    "&#x1F453; **FYI:** This code block executes the dot filter using the settings above.\n",
    "\n",
    "Use the Napari viewer to iteratively adjust the filter settings as needed. \n",
    "\n",
    "*Hint: it is helpful to adjust the scale/cutoff filters one at a time and then combine them once each pair's settings are confirmed.*"
   ]
  },
  {
   "cell_type": "code",
   "execution_count": 71,
   "metadata": {},
   "outputs": [
    {
     "data": {
      "text/plain": [
       "<Image layer '3 - Dot filter' at 0x239063a6770>"
      ]
     },
     "execution_count": 71,
     "metadata": {},
     "output_type": "execute_result"
    }
   ],
   "source": [
    "# apply the 2D or 3D versions of the AICSsegmentation dot filter with multiple scales\n",
    "bw_dot_test = dot_filter_3(struct_img,\n",
    "                           dot_scale_1,\n",
    "                           dot_cut_1,\n",
    "                           dot_scale_2,\n",
    "                           dot_cut_2,\n",
    "                           dot_scale_3,\n",
    "                           dot_cut_3,\n",
    "                           dot_method)\n",
    "\n",
    "# adding image to Napari as a new layer\n",
    "viewer.add_image(bw_dot_test, scale=scale, name=\"3 - Dot filter\", opacity=0.3, colormap=\"cyan\", blending='additive')"
   ]
  },
  {
   "cell_type": "markdown",
   "metadata": {},
   "source": [
    "### **`STEP 4` - ‘Filament’ threshold method (AICSSeg)**\n",
    "\n",
    "&#x1F453; **FYI:** This code block is the second semantic segmentation step that will be combined with the dot filter results.\n",
    "\n",
    "The 'filament' filter is derived from the [`aics-segmentation`](https://github.com/AllenCell/aics-segmentation) package. It utilizes up to three scale (object size) and cutoff (threshold) pairs for objects of different size and intensity. This function is specifically designed to segment filamentous or tubular objects.\n",
    "\n",
    "#### &#x1F6D1; &#x270D; **User Input Required:**\n",
    "\n",
    "Please specify the scale and cutoff values for each pair:\n",
    "- `fil_scale_1`: the size scale for the first scale/cutoff pair; larger values correlate to selection of larger objects\n",
    "- `fil_cut_1`: the threshold cutoff value for the first scale/cutoff pair; small cutoffs tend to yield more dots that are larger in volume; larger cutoffs tend to yield less dots that are slimmer.\n",
    "- `fil_scale_2`: the size scale for the second scale/cutoff pair; this can be set to 0 if a second scale/cutoff pair isn't needed\n",
    "- `fil_cut_2`: the threshold cutoff value for the second scale/cutoff pair; this can be set to 0 if a second scale/cutoff pair isn't needed\n",
    "- `fil_scale_3`: the size scale for the third scale/cutoff pair; this can be set to 0 if a third scale/cutoff pair isn't needed\n",
    "- `fil_cut_3`: the threshold cutoff value for the third scale/cutoff pair; this can be set to 0 if a third scale/cutoff pair isn't needed\n",
    "- `fil_method`: \"3D\" processes the image taking into account intensities in three dimensions (XYZ); \"slice-by-slice\" processes each Z-slice in the image separately, not considering any intensity in higher or lower Z planes."
   ]
  },
  {
   "cell_type": "markdown",
   "metadata": {},
   "source": [
    "⚙️ **SAMPLE DATA SETTINGS**\n",
    "\n",
    "If using the sample data, here are the recommended parameters for each cell type\n",
    "\n",
    "|**Cell type**|fil_scale_1|fil_cut_1|fil_scale_2|fil_cut_2|fil_scale_3|fil_cut_3|fil_method|\n",
    "| :------------------------------------- |  :------:  |  :------:  |  :------:  |  :------:  |  :------:  |  :------:  |  :------:  |\n",
    "|Neuron 1|`1`|`0.05`|`0`|`0`|`0`|`0`|`\"3D\"`|\n",
    "|Astrocyte|`1`|`0.01`|`0.1`|`0.01`|`0`|`0`|`\"3D\"`|\n",
    "|Neuron 2|`2.5`|`0.8`|`1.0`|`0.08`|`0`|`0`|`\"slice_by_slice\"`|\n",
    "|IPSC|`1.0`|`0.15`|`0`|`0`|`0`|`0`|`\"3D\"`|"
   ]
  },
  {
   "cell_type": "code",
   "execution_count": 72,
   "metadata": {},
   "outputs": [],
   "source": [
    "#### USER INPUT REQUIRED ###\n",
    "fil_scale_1 = 1\n",
    "fil_cut_1 = 0.05\n",
    "\n",
    "fil_scale_2 = 0\n",
    "fil_cut_2 = 0\n",
    "\n",
    "fil_scale_3 = 0\n",
    "fil_cut_3 = 0\n",
    "\n",
    "fil_method = \"3D\""
   ]
  },
  {
   "cell_type": "markdown",
   "metadata": {},
   "source": [
    "#### &#x1F3C3; **Run code; no user input required**\n",
    "\n",
    "&#x1F453; **FYI:** This code block executes the filament filter using the settings above.\n",
    "\n",
    "Use the Napari viewer to iteratively adjust the filter settings as needed. \n",
    "\n",
    "*Hint: it is helpful to adjust sellect the scale/cutoff filters one at a time and then combine them once each pair's settings are confirmed.*"
   ]
  },
  {
   "cell_type": "code",
   "execution_count": 73,
   "metadata": {},
   "outputs": [
    {
     "data": {
      "text/plain": [
       "<Image layer '4 - Filament filter' at 0x2390e0fec50>"
      ]
     },
     "execution_count": 73,
     "metadata": {},
     "output_type": "execute_result"
    }
   ],
   "source": [
    "# apply the 2D or 3D versions of the AICSsegmentation filament filter with multiple scales\n",
    "bw_filament_test = filament_filter_3(struct_img,\n",
    "                                    fil_scale_1,\n",
    "                                    fil_cut_1,\n",
    "                                    fil_scale_2,\n",
    "                                    fil_cut_2,\n",
    "                                    fil_scale_3,\n",
    "                                    fil_cut_3,\n",
    "                                    fil_method)\n",
    "\n",
    "# adding image to Napari as a new layer\n",
    "viewer.add_image(bw_filament_test, scale=scale, name=\"4 - Filament filter\", opacity=0.3, colormap=\"magenta\", blending='additive')"
   ]
  },
  {
   "cell_type": "markdown",
   "metadata": {},
   "source": [
    "### **`STEP 5` - Combine Segmentations**\n",
    "\n",
    "#### &#x1F3C3; **Run code; no user input required**\n",
    "\n",
    "&#x1F453; **FYI:** This code block combines the dot and filament filter outputs together using the \"logical or\" operation. The resulting semantic segmentation can be viewed in Napari."
   ]
  },
  {
   "cell_type": "code",
   "execution_count": 74,
   "metadata": {},
   "outputs": [
    {
     "data": {
      "text/plain": [
       "<Image layer '5 - Combined Semantic Segmentation' at 0x239131f3eb0>"
      ]
     },
     "execution_count": 74,
     "metadata": {},
     "output_type": "execute_result"
    }
   ],
   "source": [
    "# combine the two segmentations together\n",
    "bw_test = np.logical_or(bw_dot_test, bw_filament_test)\n",
    "\n",
    "# adding image to Napari as a new layer\n",
    "viewer.add_image(bw_test, scale=scale, name=\"5 - Combined Semantic Segmentation\", colormap=\"green\")"
   ]
  },
  {
   "attachments": {},
   "cell_type": "markdown",
   "metadata": {},
   "source": [
    "-----\n",
    "## **POST-PROCESSING**"
   ]
  },
  {
   "cell_type": "markdown",
   "metadata": {},
   "source": [
    "### **`STEP 6` - Remove small holes and objects**\n",
    "\n",
    "&#x1F453; **FYI:** This code block cleans up the semantic segmentation by filling small holes and/or removing small objects that can be considered errors in the initial segmentation. \n",
    "\n",
    "#### &#x1F6D1; &#x270D; **User Input Required:**\n",
    "\n",
    "Please specify the following values:\n",
    "- `hole_min_width`: the width of the smallest hole to be filled\n",
    "- `hole_max_width`: the width of the largest hole to be filled\n",
    "- `small_object_width`: the width of the largest object to be removed; any object smaller than this size will be removed\n",
    "- `fill_filter_method`: \"3D\" processes the image taking into account segmentation values in three dimensions (XYZ); \"slice-by-slice\" processes each Z-slice in the image separately, not considering the segmentation results in higher or lower Z planes."
   ]
  },
  {
   "cell_type": "markdown",
   "metadata": {},
   "source": [
    "⚙️ **SAMPLE DATA SETTINGS**\n",
    "\n",
    "If using the sample data, here are the recommended parameters for each cell type\n",
    "\n",
    "|**Cell type**|hole_min_width|hole_max_width|small_object_width|fill_filter_method|\n",
    "| :------------------------------------- |  :------:  |  :------:  |  :------:  |  :------:  |\n",
    "|Neuron 1|`0`|`0`|`2`|`\"3D\"`|\n",
    "|Astrocyte|`0`|`0`|`2`|`\"3D\"`|\n",
    "|Neuron 2|`0`|`0`|`2`|`\"slice_by_slice\"`|\n",
    "|IPSC|`0`|`0`|`2`|`\"slice_by_slice\"`|"
   ]
  },
  {
   "cell_type": "code",
   "execution_count": 75,
   "metadata": {},
   "outputs": [],
   "source": [
    "#### USER INPUT REQUIRED ###\n",
    "hole_min_width = 0\n",
    "hole_max_width = 0\n",
    "\n",
    "small_object_width = 2\n",
    "\n",
    "fill_filter_method = \"3D\""
   ]
  },
  {
   "cell_type": "markdown",
   "metadata": {},
   "source": [
    "#### &#x1F3C3; **Run code; no user input required**\n",
    "\n",
    "&#x1F453; **FYI:** This code block fills small holes and removes small objects using the settings above.\n",
    "\n",
    "Use the Napari viewer to iteratively adjust the filter settings as needed. \n",
    "\n",
    "*Hint: white pixels/voxels are the one remaining after this step*"
   ]
  },
  {
   "cell_type": "code",
   "execution_count": 76,
   "metadata": {},
   "outputs": [
    {
     "data": {
      "text/plain": [
       "<Image layer '6 - Fill holes and remove small objects' at 0x23918eaad10>"
      ]
     },
     "execution_count": 76,
     "metadata": {},
     "output_type": "execute_result"
    }
   ],
   "source": [
    "# fill holes and removed small objects\n",
    "cleaned_img2 = fill_and_filter_linear_size(bw_test, \n",
    "                                           hole_min=hole_min_width, \n",
    "                                           hole_max=hole_max_width, \n",
    "                                           min_size=small_object_width,\n",
    "                                           method=fill_filter_method)\n",
    "\n",
    "# adding image to Napari as a new layer\n",
    "viewer.add_image(cleaned_img2, scale=scale, name=\"6 - Fill holes and remove small objects\", colormap=\"magenta\", blending=\"additive\")"
   ]
  },
  {
   "attachments": {},
   "cell_type": "markdown",
   "metadata": {},
   "source": [
    "-----\n",
    "## **POST-POST-PROCESSING**"
   ]
  },
  {
   "cell_type": "markdown",
   "metadata": {},
   "source": [
    "## **`STEP 7` - Label objects**\n",
    "\n",
    "#### &#x1F3C3; **Run code; no user input required**\n",
    "&#x1F453; **FYI:** This code block takes the semantic segmentation and creates an `instance segmentation`. In this output, each individual object in the image is given a unique ID number. The background pixels/voxels are still labeled as 0, but now each pixel/voxel within an object is labeled as a positive integer. \n",
    "\n",
    "In this workflow objects are separated based on connectivity: if a pixel/voxel is touching another pixel/voxel in any direction, they are considered the same object and each pixel/voxel within that object is labeled as the same unique ID number. \n",
    "\n",
    "*In the Napari viewer, the image is added as a \"labels\" layer where each object appears as a different color.*"
   ]
  },
  {
   "cell_type": "code",
   "execution_count": 77,
   "metadata": {},
   "outputs": [
    {
     "data": {
      "text/plain": [
       "<Labels layer '7 - Instance segmentation' at 0x23926af4280>"
      ]
     },
     "execution_count": 77,
     "metadata": {},
     "output_type": "execute_result"
    }
   ],
   "source": [
    "# create instance segmentation based on connectivity\n",
    "lysosome_labels = label_uint16(cleaned_img2)\n",
    "\n",
    "# adding image to Napari as a new layer\n",
    "viewer.add_labels(lysosome_labels, scale=scale, name=\"7 - Instance segmentation\")"
   ]
  },
  {
   "attachments": {},
   "cell_type": "markdown",
   "metadata": {},
   "source": [
    "-----\n",
    "## **SAVING**"
   ]
  },
  {
   "cell_type": "markdown",
   "metadata": {},
   "source": [
    "## **`Saving` - Save the segmentation output**\n",
    "\n",
    "#### &#x1F3C3; **Run code; no user input required**\n",
    "&#x1F453; **FYI:** This code block saves the instance segmentation output to the `out_data_path` specified earlier."
   ]
  },
  {
   "cell_type": "code",
   "execution_count": 78,
   "metadata": {},
   "outputs": [
    {
     "name": "stdout",
     "output_type": "stream",
     "text": [
      "saved file: 20230727_C2-121_conditioned_well 4_cell 1_untreated_Linear unmixing_0_cmle.ome-lyso\n",
      "saved to: c:\\Users\\redre\\Documents\\CohenLab\\scohen_lab_repo\\infer-subc\\sample_data\\example_neuron_1\\seg\n"
     ]
    }
   ],
   "source": [
    "# Saving file\n",
    "out_file_n = export_inferred_organelle(lysosome_labels, \"lyso\", meta_dict, out_data_path)\n",
    "print(f\"saved to: {out_data_path}\")"
   ]
  },
  {
   "attachments": {},
   "cell_type": "markdown",
   "metadata": {},
   "source": [
    "-----\n",
    "-----\n",
    "## **Define `infer_lyso()` function**\n",
    "The following code includes an example of how the workflow steps above are combined into one function. This function can be run below to process a single image. It is included in the [batch process notebook](batch_process_segmentations.ipynb) to run the above analysis on multiple cells. \n",
    "\n",
    "This function can utilized from infer-subc using:\n",
    "```python\n",
    "infer_subc.organelles.lysosome.infer_lyso()\n",
    "```\n",
    "\n",
    "#### &#x1F3C3; **Run code; no user input required**\n",
    "&#x1F453; **FYI:** This code block defines the `infer_lyso()` function. It is applied below."
   ]
  },
  {
   "cell_type": "code",
   "execution_count": 79,
   "metadata": {},
   "outputs": [],
   "source": [
    "##########################\n",
    "#  infer_lyso\n",
    "##########################\n",
    "def _infer_lyso(in_img: np.ndarray,\n",
    "                lyso_ch: int,\n",
    "                median_sz: int,\n",
    "                gauss_sig: float,\n",
    "                dot_scale_1: float,\n",
    "                dot_cut_1: float,\n",
    "                dot_scale_2: float,\n",
    "                dot_cut_2: float,\n",
    "                dot_scale_3: float,\n",
    "                dot_cut_3: float,\n",
    "                dot_method: str,\n",
    "                fil_scale_1: float,\n",
    "                fil_cut_1: float,\n",
    "                fil_scale_2: float, \n",
    "                fil_cut_2: float, \n",
    "                fil_scale_3: float, \n",
    "                fil_cut_3: float,\n",
    "                fil_method: str,\n",
    "                min_hole_w: int,\n",
    "                max_hole_w: int,\n",
    "                small_obj_w: int,\n",
    "                fill_filter_method: str ) -> np.ndarray:\n",
    "    \"\"\"\n",
    "    Procedure to infer lysosome from linearly unmixed input,\n",
    "    \n",
    "    Parameters\n",
    "    ------------\n",
    "    in_img: \n",
    "        a 3d image containing all the channels\n",
    "    median_sz: \n",
    "        width of median filter for signal\n",
    "    gauss_sig: \n",
    "        sigma for gaussian smoothing of  signal\n",
    "    dot_scale: \n",
    "        scales (log_sigma) for dot filter (1,2, and 3)\n",
    "    dot_cut: \n",
    "        threshold for dot filter thresholds (1,2,and 3)\n",
    "    fil_scale: \n",
    "        scale (log_sigma) for filament filter\n",
    "    fil_cut: \n",
    "        threshold for filament fitered threshold\n",
    "    min_hole_w: \n",
    "        hole filling min for nuclei post-processing\n",
    "    max_hole_w: \n",
    "        hole filling cutoff for nuclei post-processing\n",
    "    small_obj_w: \n",
    "        minimu object size cutoff for nuclei post-processing\n",
    "    fill_filter_method:\n",
    "        to fill snall holes and remove small objects in \"3D\" or \"slice-by-slice\"\n",
    "\n",
    "    Returns\n",
    "    -------------\n",
    "    lyso_object\n",
    "        mask defined extent of lysosome object\n",
    "\n",
    "    \"\"\"\n",
    "    ###################\n",
    "    # EXTRACT\n",
    "    ###################    \n",
    "    lyso = select_channel_from_raw(in_img, lyso_ch)\n",
    "\n",
    "     ###################\n",
    "    # PRE_PROCESSING\n",
    "    ###################    \n",
    "    lyso1 =  scale_and_smooth(lyso,\n",
    "                             median_size = median_sz, \n",
    "                             gauss_sigma = gauss_sig)\n",
    "   ###################\n",
    "    # CORE_PROCESSING\n",
    "    ###################\n",
    "    bw_dot = dot_filter_3(lyso1, dot_scale_1, dot_cut_1, dot_scale_2, dot_cut_2, dot_scale_3, dot_cut_3, dot_method)\n",
    "\n",
    "    bw_filament = filament_filter_3(lyso1, fil_scale_1, fil_cut_1, fil_scale_2, fil_cut_2, fil_scale_3, fil_cut_3, fil_method)\n",
    "\n",
    "    bw = np.logical_or(bw_dot, bw_filament)\n",
    "\n",
    "    ###################\n",
    "    # POST_PROCESSING\n",
    "    ###################\n",
    "    struct_obj = fill_and_filter_linear_size(bw, hole_min=min_hole_w, hole_max=max_hole_w, min_size=small_obj_w, method=fill_filter_method)\n",
    "\n",
    "    ###################\n",
    "    # LABELING\n",
    "    ###################\n",
    "    struct_obj1 = label_uint16(struct_obj)\n",
    "\n",
    "    return struct_obj1\n"
   ]
  },
  {
   "cell_type": "markdown",
   "metadata": {},
   "source": [
    "#### &#x1F3C3; **Run code; no user input required**\n",
    "\n",
    "&#x1F453; **FYI:** This code block applies the function above to your test image. The settings specified above are applied here."
   ]
  },
  {
   "cell_type": "code",
   "execution_count": 80,
   "metadata": {},
   "outputs": [
    {
     "name": "stdout",
     "output_type": "stream",
     "text": [
      "The segmentation output here matches the output created above: True\n"
     ]
    },
    {
     "data": {
      "image/png": "[encoded data removed]",
      "text/html": [
       "<img src=\"data:image/png;base64,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\" alt=\"\"></img>"
      ],
      "text/plain": [
       "<napari.utils.notebook_display.NotebookScreenshot at 0x238faebf190>"
      ]
     },
     "execution_count": 80,
     "metadata": {},
     "output_type": "execute_result"
    }
   ],
   "source": [
    "# run lysosome segmentation function\n",
    "_lyso_object = _infer_lyso(  \n",
    "        img_data,\n",
    "        LYSO_CH,\n",
    "        med_filter_size,\n",
    "        gaussian_smoothing_sigma,\n",
    "        dot_scale_1,\n",
    "        dot_cut_1,\n",
    "        dot_scale_2,\n",
    "        dot_cut_2,\n",
    "        dot_scale_3,\n",
    "        dot_cut_3,\n",
    "        dot_method,\n",
    "        fil_scale_1,\n",
    "        fil_cut_1,\n",
    "        fil_scale_2,\n",
    "        fil_cut_2,\n",
    "        fil_scale_3,\n",
    "        fil_cut_3,\n",
    "        fil_method,\n",
    "        hole_min_width,\n",
    "        hole_max_width,\n",
    "        small_object_width,\n",
    "        fill_filter_method)\n",
    "\n",
    "#confirm this output matches the output saved above\n",
    "print(f\"The segmentation output here matches the output created above: {np.all(lysosome_labels == _lyso_object)}\")\n",
    "\n",
    "# adding image to Napari as a new layer\n",
    "viewer.add_labels(_lyso_object, scale=scale, name=\"infer_lyso() output\")\n",
    "viewer.grid.enabled = True\n",
    "viewer.reset_view()\n",
    "\n",
    "# screenshot viewer\n",
    "nbscreenshot(viewer, canvas_only = False)"
   ]
  },
  {
   "attachments": {},
   "cell_type": "markdown",
   "metadata": {},
   "source": [
    "-------------\n",
    "### ✅ **INFER LYSOSOMES COMPLETE!**\n",
    "\n",
    "Continue on to other notebooks as needed:\n",
    "- Infer [`mitochondria`](1.3_infer_mitochondria.ipynb)\n",
    "- Infer [`golgi`](1.4_infer_golgi.ipynb)\n",
    "- Infer [`peroxisomes`](1.5_infer_peroxisome.ipynb)\n",
    "- Infer [`endoplasmic reticulum (ER)`](1.6_infer_ER.ipynb)\n",
    "- Infer [`lipid droplets`](1.7_infer_lipid_droplet.ipynb)\n",
    "\n",
    "Or proceed to batch processing here: [batch process notebook](batch_process_segmentations.ipynb)"
   ]
  }
 ],
 "metadata": {
  "kernelspec": {
   "display_name": "infer-subc-sc",
   "language": "python",
   "name": "python3"
  },
  "language_info": {
   "codemirror_mode": {
    "name": "ipython",
    "version": 3
   },
   "file_extension": ".py",
   "mimetype": "text/x-python",
   "name": "python",
   "nbconvert_exporter": "python",
   "pygments_lexer": "ipython3",
   "version": "3.10.15"
  },
  "orig_nbformat": 4
 },
 "nbformat": 4,
 "nbformat_minor": 2
}
