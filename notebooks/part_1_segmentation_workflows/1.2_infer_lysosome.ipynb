{
 "cells": [
  {
   "attachments": {},
   "cell_type": "markdown",
   "metadata": {},
   "source": [
    "# **Infer `Lysosomes`**\n",
    "\n",
    "***Prior to this notebook, you should have already run through [1.0_image_setup](1.0_image_setup.ipynb).***\n",
    "\n",
    "In notebooks 1.2 through 1.7, we will go over the implementation of `infer-subc` in the Napari plugin called  `organelle-segmenter-plugin`. The steps outlined in each notebook correlate to the workflow steps from the plugin. Here, you will gain knowledge of what `infer-subc` functions are involved in each of those steps.\n",
    "\n",
    "The segmentation workflows are completely independent of each other and can be run in any order. The current notebook segments the `Lysosomes`. Notebooks for the segmentation of other organelles can be found here:\n",
    "- Infer [`mitochondria`](1.3_infer_mitochondria.ipynb)\n",
    "- Infer [`golgi`](1.4_infer_golgi.ipynb)\n",
    "- Infer [`peroxisomes`](1.5_infer_peroxisome.ipynb)\n",
    "- Infer [`endoplasmic reticulum (ER)`](1.6_infer_ER.ipynb)\n",
    "- Infer [`lipid droplets`](1.7_infer_lipid_droplet.ipynb)\n",
    "\n",
    "***Note:** These notebooks do not include a batch processing option. They are simply explanations of the steps included in the Napari plugin. If you would like to batch process your images in a Jupyter notebook instead of the plugin, you can use the [batch process segmentation](batch_process_segmentations.ipynb) notebook.*\n",
    "\n",
    "### **Single cell analysis**\n",
    "Each workflow segments organelles from the entire image, irrespective of the cell mask identified in notebook 1.1. To attain a single-cell analysis, the mask will be applied to the organelle segmentation outputs before quantification in the `part_2_quantification` notebooks. \n",
    "\n",
    "### **Lysosomes** 🗑️♻️\n",
    "Lysosomes are membrane-enclosed structures that contain enzymes and an acidic lumen for breaking down cellular components such as proteins, other organelles, and more. Degradative cargo can be obtained through endocytosis, the secretory pathway, and fusion with autophagosomes. Lysosomes can also act as secretory vesicles and are involved in organelles contacts with many other intracellular organelles.\n",
    "\n",
    "### **Fluorescence labeling strategies** 🔆 \n",
    "Lysosomes can be fluorescently labeled in live and fixed cells by staining for endogenous proteins, targeting fluorescent proteins to the membrane or lumen using genertically encoded markers, or with dye-based approaches. The labeling approach used and resolution of your images can result in different staining outcomes that can impact the segmentation steps below. For example, a genetically encoded fluorescent protein targeted to lysosomes using the membrane-associated Lamp1 protein (e.g., Lamp1-GFP) will specifically label the lyososomal membrane, not the lumen. In this case, large lysosomes may appear as empty rings or shells. In contrast, if a luminal dye is used, the structures will likely appear as a filled-in circle or sphere. \n",
    "\n",
    "Additionally, it can be challenging to differentiate between closely related vesicles within the endolysosomal system, like late endososomes and lysosomes. Therefore, understanding the coverage of your chosen marker is important in understanding the biological implication of results derived from this pipeline. \n",
    "\n",
    "The workflow below is best suited for segmentation of filled-in lysosome structures. When membrane-based labeling methods are used, the hollow structures are not always able to be filled in during segmentation, and, in some cases, regions of the shell structure enclosing the lysosomes aren't bright enough to be segmented completely. \n",
    "\n",
    "Lysosome shapes can be spherical or take on a more elongated tube shape, so two segmentation methods to identify the wide range of object shapes is included. Read through the steps below for more details.\n",
    "\n",
    "***We advise that you test the segmentation process on a small, pilot dataset before committing to a particular labeling strategy and segmentation approach.***\n",
    "\n",
    "-----"
   ]
  },
  {
   "cell_type": "markdown",
   "metadata": {},
   "source": [
    "### 👣 **Summary of steps**  \n",
    "\n",
    "➡️ **EXTRACTION**\n",
    "- **`Step 1`** - Select a channel for segmentation\n",
    "\n",
    "  - select single channel containing the lysosome marker (channel number = user input)\n",
    "\n",
    "**PRE-PROCESSING**\n",
    "- **`Step 2`** - Rescale and smooth image\n",
    "\n",
    "  - rescale intensity of composite image (min=0, max=1)\n",
    "  - median filter (median size = user input)\n",
    "  - gaussian filter (sigma = user input)\n",
    "\n",
    "**CORE PROCESSING**\n",
    "- **`Step 3`** - ‘Dot’ thresholding method (AICSSeg)\n",
    "\n",
    "  - apply \"dot\" thresholding method (for small round objects) from the Allen Cell [aicssegmentation](https://github.com/AllenCell/aics-segmentation) package (size scale, threshold cutoff, and method = user input)\n",
    "\n",
    "- **`Step 4`** - ‘Filament’ threshold method (AICSSeg)\n",
    "\n",
    "  - apply \"filament\"/\"vessel\" thresholding method (for tubular objects) from the Allen Cell [aicssegmentation](https://github.com/AllenCell/aics-segmentation) package (size scale and threshold cutoff = user input)\n",
    "\n",
    "- **`Step 5`** - Combine Segmentations (logical or)\n",
    "\n",
    "  - combine the two segmentations with logical *OR*\n",
    "\n",
    "**POST-PROCESSING**\n",
    "- **`Step 6`** - Remove small holes and objects\n",
    "\n",
    "  - fill holes (hole size = user input)\n",
    "  - remove small objects (object size = user input)\n",
    "  - filter method (method = user input)\n",
    "\n",
    "**POST-POST-PROCESSING**\n",
    "- **`Step 7`** - Label objects\n",
    "\n",
    "  - label unique lysosome objects based on connectivity\n",
    "\n",
    "**EXPORT** ➡️\n",
    "- save labeled ***lysosomes*** (lyso, LS) as unsigned integer 16-bit \".tiff\" file"
   ]
  },
  {
   "attachments": {},
   "cell_type": "markdown",
   "metadata": {},
   "source": [
    "---------------------\n",
    "## **IMPORTS AND LOAD IMAGE**\n",
    "Details about the functions included in this subsection are outlined in the [`1.0_image_setup`](1.0_image_setup.ipynb) notebook. Please visit that notebook first if you are confused about any of the code included here."
   ]
  },
  {
   "cell_type": "markdown",
   "metadata": {},
   "source": [
    "#### &#x1F3C3; **Run code; no user input required**"
   ]
  },
  {
   "cell_type": "code",
   "execution_count": 1,
   "metadata": {},
   "outputs": [],
   "source": [
    "from pathlib import Path\n",
    "import os\n",
    "\n",
    "import numpy as np\n",
    "import pandas as pd\n",
    "import napari\n",
    "from napari.utils.notebook_display import nbscreenshot\n",
    "\n",
    "from infer_subc.core.file_io import (read_czi_image,\n",
    "                                     export_inferred_organelle,\n",
    "                                     list_image_files,\n",
    "                                     sample_input)\n",
    "from infer_subc.core.img import *         \n",
    "\n",
    "%load_ext autoreload\n",
    "%autoreload 2"
   ]
  },
  {
   "cell_type": "markdown",
   "metadata": {},
   "source": [
    "#### &#x1F6D1; &#x270D; **User Input Required:**\n",
    "\n",
    "Please specify the following information about your data: `im_type`, `data_root_path`, `in_data_path`, and `out_data_path`."
   ]
  },
  {
   "cell_type": "code",
   "execution_count": 10,
   "metadata": {},
   "outputs": [],
   "source": [
    "### USER INPUT REQUIRED ###\n",
    "# If using the sample data, select which cell type you would like analyze (\"neuron_1\", \"astrocyte\" or \"neuron_2\"):\n",
    "# If not using the sample data, set cell_type to None\n",
    "sample_data_type = \"neuron_1\"\n",
    "\n",
    "# If you are not using the sample data, please edit \"USER SPECIFIED\" as necessary.\n",
    "## Define the path to the directory that contains the input image folder.\n",
    "data_root_path = Path(\"USER SPECIFIED\")\n",
    "\n",
    "# Specify the file type of your raw data that will be analyzed. Ex) \".czi\" or \".tiff\"\n",
    "im_type = \"USER SPECIFIED\"\n",
    "\n",
    "## Specify which subfolder that contains the input data and the input data file extension\n",
    "in_data_path = data_root_path / \"USER SPECIFIED\"\n",
    "\n",
    "## Specify the output folder to save the segmentation outputs if.\n",
    "## If its not already created, the code below will create it for you\n",
    "out_data_path = data_root_path / \"USER SPECIFIED\""
   ]
  },
  {
   "cell_type": "markdown",
   "metadata": {},
   "source": [
    "#### &#x1F3C3; **Run code; no user input required**"
   ]
  },
  {
   "cell_type": "code",
   "execution_count": 3,
   "metadata": {},
   "outputs": [
    {
     "data": {
      "text/html": [
       "<div>\n",
       "<style scoped>\n",
       "    .dataframe tbody tr th:only-of-type {\n",
       "        vertical-align: middle;\n",
       "    }\n",
       "\n",
       "    .dataframe tbody tr th {\n",
       "        vertical-align: top;\n",
       "    }\n",
       "\n",
       "    .dataframe thead th {\n",
       "        text-align: right;\n",
       "    }\n",
       "</style>\n",
       "<table border=\"1\" class=\"dataframe\">\n",
       "  <thead>\n",
       "    <tr style=\"text-align: right;\">\n",
       "      <th></th>\n",
       "      <th>Image Name</th>\n",
       "    </tr>\n",
       "  </thead>\n",
       "  <tbody>\n",
       "    <tr>\n",
       "      <th>0</th>\n",
       "      <td>c:\\Users\\redre\\Documents\\CohenLab\\scohen_lab_repo\\infer-subc\\sample_data\\example_neuron_1\\raw\\20230727_C2-121_conditioned_well 4_cell 3_untreated_Linear unmixing_0_cmle.ome.tiff</td>\n",
       "    </tr>\n",
       "  </tbody>\n",
       "</table>\n",
       "</div>"
      ],
      "text/plain": [
       "                                                                                                                                                                          Image Name\n",
       "0  c:\\Users\\redre\\Documents\\CohenLab\\scohen_lab_repo\\infer-subc\\sample_data\\example_neuron_1\\raw\\20230727_C2-121_conditioned_well 4_cell 3_untreated_Linear unmixing_0_cmle.ome.tiff"
      ]
     },
     "execution_count": 3,
     "metadata": {},
     "output_type": "execute_result"
    }
   ],
   "source": [
    "# If sample_data_type is set to \"neuron_1\", \"astrocyte\" or \"neuron_2\", then the sample data is used and the directories are set\n",
    "if sample_data_type != None:\n",
    "    data_root_path, im_type, in_data_path, out_data_path = sample_input(sample_data_type)\n",
    "\n",
    "# list files in the input folder\n",
    "img_file_list = list_image_files(in_data_path,im_type)\n",
    "pd.set_option('display.max_colwidth', None)\n",
    "pd.DataFrame({\"Image Name\":img_file_list})"
   ]
  },
  {
   "cell_type": "markdown",
   "metadata": {},
   "source": [
    "#### &#x1F6D1; &#x270D; **User Input Required:**\n",
    "\n",
    "Use the list above to specify which image you wish to analyze based on its index: `test_img_n`"
   ]
  },
  {
   "cell_type": "code",
   "execution_count": 4,
   "metadata": {},
   "outputs": [],
   "source": [
    "#### USER INPUT REQUIRED ###\n",
    "test_img_n = 0"
   ]
  },
  {
   "cell_type": "markdown",
   "metadata": {},
   "source": [
    "#### &#x1F3C3; **Run code; no user input required**"
   ]
  },
  {
   "cell_type": "code",
   "execution_count": 5,
   "metadata": {},
   "outputs": [
    {
     "name": "stdout",
     "output_type": "stream",
     "text": [
      "Metadata information\n",
      "File path: c:\\Users\\redre\\Documents\\CohenLab\\scohen_lab_repo\\infer-subc\\sample_data\\example_neuron_1\\raw\\20230727_C2-121_conditioned_well 4_cell 3_untreated_Linear unmixing_0_cmle.ome.tiff\n",
      "Channel 0 name: 20230727_C2-121_conditioned_well 4_cell 3_untreated_Linear unmixing_0_cmle.ome :: Channel:0\n",
      "Channel 1 name: 20230727_C2-121_conditioned_well 4_cell 3_untreated_Linear unmixing_0_cmle.ome :: Channel:1\n",
      "Channel 2 name: 20230727_C2-121_conditioned_well 4_cell 3_untreated_Linear unmixing_0_cmle.ome :: Channel:2\n",
      "Channel 3 name: 20230727_C2-121_conditioned_well 4_cell 3_untreated_Linear unmixing_0_cmle.ome :: Channel:3\n",
      "Channel 4 name: 20230727_C2-121_conditioned_well 4_cell 3_untreated_Linear unmixing_0_cmle.ome :: Channel:4\n",
      "Channel 5 name: 20230727_C2-121_conditioned_well 4_cell 3_untreated_Linear unmixing_0_cmle.ome :: Channel:5\n",
      "Scale (ZYX): (0.410594, 0.079947, 0.079947)\n",
      "Channel axis: 0\n",
      "\n",
      "Proceed to Napari window to view your selected image.\n"
     ]
    }
   ],
   "source": [
    "# load image and metadata\n",
    "test_img_name = img_file_list[test_img_n]\n",
    "img_data,meta_dict = read_czi_image(test_img_name)\n",
    "\n",
    "# metadata\n",
    "channel_names = meta_dict['name']\n",
    "meta = meta_dict['metadata']['aicsimage']\n",
    "scale = meta_dict['scale']\n",
    "channel_axis = meta_dict['channel_axis']\n",
    "file_path = meta_dict['file_name']\n",
    "print(\"Metadata information\")\n",
    "print(f\"File path: {file_path}\")\n",
    "for i in list(range(len(channel_names))):\n",
    "    print(f\"Channel {i} name: {channel_names[i]}\")\n",
    "print(f\"Scale (ZYX): {scale}\")\n",
    "print(f\"Channel axis: {channel_axis}\")\n",
    "\n",
    "# open viewer and add images\n",
    "viewer = napari.Viewer()\n",
    "for i in list(range(len(channel_names))):\n",
    "    viewer.add_image(img_data[i],\n",
    "                     scale=scale,\n",
    "                     name=f\"Channel {i}\")\n",
    "viewer.grid.enabled = True\n",
    "viewer.reset_view()\n",
    "print(\"\\nProceed to Napari window to view your selected image.\")"
   ]
  },
  {
   "attachments": {},
   "cell_type": "markdown",
   "metadata": {},
   "source": [
    "-----\n",
    "\n",
    "## **EXTRACTION**"
   ]
  },
  {
   "cell_type": "markdown",
   "metadata": {},
   "source": [
    "### **`STEP 1` - Select a channel for segmentation**\n",
    "\n",
    "#### &#x1F6D1; &#x270D; **User Input Required:**\n",
    "\n",
    "Please specify which channel includes your lysosome label:\n",
    "- `LYSO_CH`: the index of the channel containing your lysosome label. Image indexing begins with 0, not 1. Reference the channel numbers indicated in the Napari window for easy reference.\n",
    "\n",
    "\n",
    "⚙️ **SAMPLE DATA SETTINGS**\n",
    "\n",
    "If using the sample data, here are the correct channel indices\n",
    "\n",
    "|**Cell type**|LYSO_CH| \n",
    "| :------------------------------------- |  :------:  |\n",
    "|Neuron 1 |`3`|\n",
    "|Astrocyte|`3`|\n",
    "|Neuron 2 |`4`|"
   ]
  },
  {
   "cell_type": "code",
   "execution_count": 6,
   "metadata": {},
   "outputs": [],
   "source": [
    "#### USER INPUT REQUIRED ###\n",
    "LYSO_CH = 3"
   ]
  },
  {
   "cell_type": "markdown",
   "metadata": {},
   "source": [
    "#### &#x1F3C3; **Run code; no user input required**\n",
    "\n",
    "&#x1F453; **FYI:** This code block extracts the lysosome channel from your multi- (or single) channel image. It will be the only part of the image used in the rest of this workflow. The single lysosome channel is added to the Napari viewer."
   ]
  },
  {
   "cell_type": "code",
   "execution_count": 7,
   "metadata": {},
   "outputs": [
    {
     "data": {
      "text/plain": [
       "<Image layer '1 - Extract Lyso' at 0x27d7dfa02e0>"
      ]
     },
     "execution_count": 7,
     "metadata": {},
     "output_type": "execute_result"
    }
   ],
   "source": [
    "# select channel\n",
    "raw_lyso = select_channel_from_raw(img_data, LYSO_CH)\n",
    "\n",
    "# clear napari and add single channel as a new layer\n",
    "viewer.layers.clear()\n",
    "viewer.grid.enabled = False\n",
    "viewer.add_image(raw_lyso, scale=scale, name=\"1 - Extract Lyso\")"
   ]
  },
  {
   "attachments": {},
   "cell_type": "markdown",
   "metadata": {},
   "source": [
    "-----\n",
    "## **PRE-PROCESSING**"
   ]
  },
  {
   "cell_type": "markdown",
   "metadata": {},
   "source": [
    "### **`STEP 2` - Rescale and smooth image**\n",
    "\n",
    "&#x1F453; **FYI:** This code block rescales the image so that the pixel/voxel with the highest intensity is set to 1 and the one with the lowest intensity is set to 0. The image is then *optionally* smoothed using a Gaussian and/or median filter. \n",
    "\n",
    "<mark> Include more information on the Gaussian and median filtering methods here </mark>\n",
    "\n",
    "#### &#x1F6D1; &#x270D; **User Input Required:**\n",
    "\n",
    "Please specify the amount of filter to use for each method. Higher values indicate more smoothing:\n",
    "- `med_filter_size`: the size of the median filter to apply; if 0 is used, no filter will be applied\n",
    "- `gaussian_smoothing_sigma`: the sigma to apply in the Gaussian filtering step; if 0 is used, no filter will be applied"
   ]
  },
  {
   "cell_type": "markdown",
   "metadata": {},
   "source": [
    "⚙️ **SAMPLE DATA SETTINGS**\n",
    "\n",
    "If using the sample data, here are the recommended parameters for each cell type\n",
    "\n",
    "|**Cell type**|med_filter_size|gaussian_smoothing_sigma| \n",
    "| :------------------------------------- |  :------:  |  :------:  |\n",
    "|Neuron 1|`0`|`0.0`|\n",
    "|Astrocyte|`0`|`0.0`|\n",
    "|Neuron 2|`0`|`0.0`|"
   ]
  },
  {
   "cell_type": "code",
   "execution_count": 8,
   "metadata": {},
   "outputs": [],
   "source": [
    "#### USER INPUT REQUIRED ###\n",
    "med_filter_size = 0\n",
    "gaussian_smoothing_sigma = 0.0"
   ]
  },
  {
   "cell_type": "markdown",
   "metadata": {},
   "source": [
    "#### &#x1F3C3; **Run code; no user input required**\n",
    "\n",
    "&#x1F453; **FYI:** This code block rescales the image and applies the specified median and Gaussian filters. The image is then added to Napari as a new layer for visual comparison to the input image. \n",
    "\n",
    "Use the Napari viewer to iteratively adjust the smoothing settings selected above."
   ]
  },
  {
   "cell_type": "code",
   "execution_count": 9,
   "metadata": {},
   "outputs": [
    {
     "data": {
      "text/plain": [
       "<Image layer '2 - Rescale and Smooth' at 0x27d0b040520>"
      ]
     },
     "execution_count": 9,
     "metadata": {},
     "output_type": "execute_result"
    }
   ],
   "source": [
    "# rescaling and smoothing input image\n",
    "struct_img =  scale_and_smooth(raw_lyso,\n",
    "                               median_size = med_filter_size, \n",
    "                               gauss_sigma = gaussian_smoothing_sigma)\n",
    "\n",
    "# adding image to Napari as a new layer\n",
    "viewer.add_image(struct_img, scale=scale, name=\"2 - Rescale and Smooth\")"
   ]
  },
  {
   "attachments": {},
   "cell_type": "markdown",
   "metadata": {},
   "source": [
    "-----\n",
    "## **CORE-PROCESSING**"
   ]
  },
  {
   "cell_type": "markdown",
   "metadata": {},
   "source": [
    "### **`STEP 3` -  ‘Dot’ thresholding method (AICSSeg)**\n",
    "\n",
    "&#x1F453; **FYI:** This code block is the first of two semantic segmentation steps that are combined together in a later step. `Semantic segmentation` is the process of deciding whether a pixel/voxel should be included in an object (labeled with a value of 1) or should be considered as part of the background (labeled with a value of 0). A semantic segmentation does not discern individual objects from one another.\n",
    "\n",
    "The 'dot' filter is derived from the [`aics-segmentation`](https://github.com/AllenCell/aics-segmentation) package. It utilizes up to three scale (object size) and cutoff (threshold) pairs for objects of different size and intensity. This function is specifically designed to segment small round objects.\n",
    "\n",
    "#### &#x1F6D1; &#x270D; **User Input Required:**\n",
    "\n",
    "Please specify the scale and cutoff values for each pair:\n",
    "- `dot_scale_1`: the size scale for the first scale/cutoff pair; larger values correlate to selection of larger objects\n",
    "- `dot_cut_1`: the threshold cutoff value for the first scale/cutoff pair; small cutoffs tend to yield more dots that are larger in volume; larger cutoffs tend to yield less dots that are slimmer.\n",
    "- `dot_scale_2`: the size scale for the second scale/cutoff pair; this can be set to 0 if a second scale/cutoff pair isn't needed\n",
    "- `dot_cut_2`: the threshold cutoff value for the second scale/cutoff pair; this can be set to 0 if a second scale/cutoff pair isn't needed\n",
    "- `dot_scale_3`: the size scale for the third scale/cutoff pair; this can be set to 0 if a third scale/cutoff pair isn't needed\n",
    "- `dot_cut_3`: the threshold cutoff value for the third scale/cutoff pair; this can be set to 0 if a third scale/cutoff pair isn't needed\n",
    "- `dot_method`: \"3D\" processes the image taking into account intensities in three dimensions (XYZ); \"slice-by-slice\" processes each Z-slice in the image separately, not considering any intensity in higher or lower Z planes."
   ]
  },
  {
   "cell_type": "markdown",
   "metadata": {},
   "source": [
    "⚙️ **SAMPLE DATA SETTINGS**\n",
    "\n",
    "If using the sample data, here are the recommended parameters for each cell type\n",
    "\n",
    "|**Cell type**|dot_scale_1|dot_cut_1|dot_scale_2|dot_cut_2|dot_scale_3|dot_cut_3|dot_method|\n",
    "| :------------------------------------- |  :------:  |  :------:  |  :------:  |  :------:  |  :------:  |  :------:  |  :------:  |\n",
    "|Neuron 1|`0.01`|`0.2`|`0`|`0`|`0`|`0`|`\"3D\"`|\n",
    "|Astrocyte|`0.01`|`0.1`|`0`|`0`|`0`|`0`|`\"3D\"`|\n",
    "|Neuron 2|`4.5`|`0.08`|`2.0`|`0.05`|`0.5`|`0.03`|`\"slice_by_slice\"`|"
   ]
  },
  {
   "cell_type": "code",
   "execution_count": null,
   "metadata": {},
   "outputs": [],
   "source": [
    "#### USER INPUT REQUIRED ###\n",
    "dot_scale_1 = 0.01\n",
    "dot_cut_1 = 0.2\n",
    "\n",
    "dot_scale_2 = 0\n",
    "dot_cut_2 = 0\n",
    "\n",
    "dot_scale_3 = 0\n",
    "dot_cut_3 = 0\n",
    "\n",
    "dot_method = \"3D\""
   ]
  },
  {
   "cell_type": "markdown",
   "metadata": {},
   "source": [
    "#### &#x1F3C3; **Run code; no user input required**\n",
    "\n",
    "&#x1F453; **FYI:** This code block executes the dot filter using the settings above.\n",
    "\n",
    "Use the Napari viewer to iteratively adjust the filter settings as needed. \n",
    "\n",
    "*Hint: it is helpful to adjust the scale/cutoff filters one at a time and then combine them once each pair's settings are confirmed.*"
   ]
  },
  {
   "cell_type": "code",
   "execution_count": 11,
   "metadata": {},
   "outputs": [
    {
     "data": {
      "text/plain": [
       "<Image layer '3 - Dot filter' at 0x19f9586c5e0>"
      ]
     },
     "execution_count": 11,
     "metadata": {},
     "output_type": "execute_result"
    }
   ],
   "source": [
    "# apply the 2D or 3D versions of the AICSsegmentation dot filter with multiple scales\n",
    "bw_dot_test = dot_filter_3(struct_img,\n",
    "                           dot_scale_1,\n",
    "                           dot_cut_1,\n",
    "                           dot_scale_2,\n",
    "                           dot_cut_2,\n",
    "                           dot_scale_3,\n",
    "                           dot_cut_3,\n",
    "                           dot_method)\n",
    "\n",
    "# adding image to Napari as a new layer\n",
    "viewer.add_image(bw_dot_test, scale=scale, name=\"3 - Dot filter\", opacity=0.3, colormap=\"cyan\", blending='additive')"
   ]
  },
  {
   "cell_type": "markdown",
   "metadata": {},
   "source": [
    "### **`STEP 4` - ‘Filament’ threshold method (AICSSeg)**\n",
    "\n",
    "&#x1F453; **FYI:** This code block is the second semantic segmentation step that will be combined with the dot filter results.\n",
    "\n",
    "The 'filament' filter is derived from the [`aics-segmentation`](https://github.com/AllenCell/aics-segmentation) package. It utilizes up to three scale (object size) and cutoff (threshold) pairs for objects of different size and intensity. This function is specifically designed to segment filamentous or tubular objects.\n",
    "\n",
    "#### &#x1F6D1; &#x270D; **User Input Required:**\n",
    "\n",
    "Please specify the scale and cutoff values for each pair:\n",
    "- `fil_scale_1`: the size scale for the first scale/cutoff pair; larger values correlate to selection of larger objects\n",
    "- `fil_cut_1`: the threshold cutoff value for the first scale/cutoff pair; small cutoffs tend to yield more dots that are larger in volume; larger cutoffs tend to yield less dots that are slimmer.\n",
    "- `fil_scale_2`: the size scale for the second scale/cutoff pair; this can be set to 0 if a second scale/cutoff pair isn't needed\n",
    "- `fil_cut_2`: the threshold cutoff value for the second scale/cutoff pair; this can be set to 0 if a second scale/cutoff pair isn't needed\n",
    "- `fil_scale_3`: the size scale for the third scale/cutoff pair; this can be set to 0 if a third scale/cutoff pair isn't needed\n",
    "- `fil_cut_3`: the threshold cutoff value for the third scale/cutoff pair; this can be set to 0 if a third scale/cutoff pair isn't needed\n",
    "- `fil_method`: \"3D\" processes the image taking into account intensities in three dimensions (XYZ); \"slice-by-slice\" processes each Z-slice in the image separately, not considering any intensity in higher or lower Z planes."
   ]
  },
  {
   "cell_type": "markdown",
   "metadata": {},
   "source": [
    "⚙️ **SAMPLE DATA SETTINGS**\n",
    "\n",
    "If using the sample data, here are the recommended parameters for each cell type\n",
    "\n",
    "|**Cell type**|fil_scale_1|fil_cut_1|fil_scale_2|fil_cut_2|fil_scale_3|fil_cut_3|fil_method|\n",
    "| :------------------------------------- |  :------:  |  :------:  |  :------:  |  :------:  |  :------:  |  :------:  |  :------:  |\n",
    "|Neuron 1|`1`|`0.05`|`0`|`0`|`0`|`0`|`\"3D\"`|\n",
    "|Astrocyte|`1`|`0.01`|`0.1`|`0.01`|`0`|`0`|`\"3D\"`|\n",
    "|Neuron 2|`2.5`|`0.8`|`1.0`|`0.08`|`0`|`0`|`\"slice_by_slice\"`|"
   ]
  },
  {
   "cell_type": "code",
   "execution_count": 1,
   "metadata": {},
   "outputs": [],
   "source": [
    "#### USER INPUT REQUIRED ###\n",
    "fil_scale_1 = 1\n",
    "fil_cut_1 = 0.05\n",
    "\n",
    "fil_scale_2 = 0\n",
    "fil_cut_2 = 0\n",
    "\n",
    "fil_scale_3 = 0\n",
    "fil_cut_3 = 0\n",
    "\n",
    "fil_method = \"3D\""
   ]
  },
  {
   "cell_type": "markdown",
   "metadata": {},
   "source": [
    "#### &#x1F3C3; **Run code; no user input required**\n",
    "\n",
    "&#x1F453; **FYI:** This code block executes the filament filter using the settings above.\n",
    "\n",
    "Use the Napari viewer to iteratively adjust the filter settings as needed. \n",
    "\n",
    "*Hint: it is helpful to adjust sellect the scale/cutoff filters one at a time and then combine them once each pair's settings are confirmed.*"
   ]
  },
  {
   "cell_type": "code",
   "execution_count": 13,
   "metadata": {},
   "outputs": [
    {
     "data": {
      "text/plain": [
       "<Image layer '4 - Filament filter' at 0x19f9a0212a0>"
      ]
     },
     "execution_count": 13,
     "metadata": {},
     "output_type": "execute_result"
    }
   ],
   "source": [
    "# apply the 2D or 3D versions of the AICSsegmentation filament filter with multiple scales\n",
    "bw_filament_test = filament_filter_3(struct_img,\n",
    "                                    fil_scale_1,\n",
    "                                    fil_cut_1,\n",
    "                                    fil_scale_2,\n",
    "                                    fil_cut_2,\n",
    "                                    fil_scale_3,\n",
    "                                    fil_cut_3,\n",
    "                                    fil_method)\n",
    "\n",
    "# adding image to Napari as a new layer\n",
    "viewer.add_image(bw_filament_test, scale=scale, name=\"4 - Filament filter\", opacity=0.3, colormap=\"magenta\", blending='additive')"
   ]
  },
  {
   "cell_type": "markdown",
   "metadata": {},
   "source": [
    "### **`STEP 5` - Combine Segmentations**\n",
    "\n",
    "#### &#x1F3C3; **Run code; no user input required**\n",
    "\n",
    "&#x1F453; **FYI:** This code block combines the dot and filament filter outputs together using the \"logical or\" operation. The resulting semantic segmentation can be viewed in Napari."
   ]
  },
  {
   "cell_type": "code",
   "execution_count": 14,
   "metadata": {},
   "outputs": [
    {
     "data": {
      "text/plain": [
       "<Image layer '5 - Combined Semantic Segmentation' at 0x19f8dfb9bd0>"
      ]
     },
     "execution_count": 14,
     "metadata": {},
     "output_type": "execute_result"
    }
   ],
   "source": [
    "# combine the two segmentations together\n",
    "bw_test = np.logical_or(bw_dot_test, bw_filament_test)\n",
    "\n",
    "# adding image to Napari as a new layer\n",
    "viewer.add_image(bw_test, scale=scale, name=\"5 - Combined Semantic Segmentation\", colormap=\"green\")"
   ]
  },
  {
   "attachments": {},
   "cell_type": "markdown",
   "metadata": {},
   "source": [
    "-----\n",
    "## **POST-PROCESSING**"
   ]
  },
  {
   "cell_type": "markdown",
   "metadata": {},
   "source": [
    "### **`STEP 6` - Remove small holes and objects**\n",
    "\n",
    "&#x1F453; **FYI:** This code block cleans up the semantic segmentation by filling small holes and/or removing small objects that can be considered errors in the initial segmentation. \n",
    "\n",
    "#### &#x1F6D1; &#x270D; **User Input Required:**\n",
    "\n",
    "Please specify the following values:\n",
    "- `hole_min_width`: the width of the smallest hole to be filled\n",
    "- `hole_max_width`: the width of the largest hole to be filled\n",
    "- `small_object_width`: the width of the largest object to be removed; any object smaller than this size will be removed\n",
    "- `fill_filter_method`: \"3D\" processes the image taking into account segmentation values in three dimensions (XYZ); \"slice-by-slice\" processes each Z-slice in the image separately, not considering the segmentation results in higher or lower Z planes."
   ]
  },
  {
   "cell_type": "markdown",
   "metadata": {},
   "source": [
    "⚙️ **SAMPLE DATA SETTINGS**\n",
    "\n",
    "If using the sample data, here are the recommended parameters for each cell type\n",
    "\n",
    "|**Cell type**|hole_min_width|hole_max_width|small_object_width|fill_filter_method|\n",
    "| :------------------------------------- |  :------:  |  :------:  |  :------:  |  :------:  |\n",
    "|Neuron 1|`0`|`0`|`2`|`\"3D\"`|\n",
    "|Astrocyte|`0`|`0`|`2`|`\"3D\"`|\n",
    "|Neuron 2|`0`|`0`|`2`|`\"slice_by_slice\"`|"
   ]
  },
  {
   "cell_type": "code",
   "execution_count": 15,
   "metadata": {},
   "outputs": [],
   "source": [
    "#### USER INPUT REQUIRED ###\n",
    "hole_min_width = 0\n",
    "hole_max_width = 0\n",
    "\n",
    "small_object_width = 2\n",
    "\n",
    "fill_filter_method = \"3D\""
   ]
  },
  {
   "cell_type": "markdown",
   "metadata": {},
   "source": [
    "#### &#x1F3C3; **Run code; no user input required**\n",
    "\n",
    "&#x1F453; **FYI:** This code block fills small holes and removes small objects using the settings above.\n",
    "\n",
    "Use the Napari viewer to iteratively adjust the filter settings as needed. \n",
    "\n",
    "*Hint: white pixels/voxels are the one remaining after this step*"
   ]
  },
  {
   "cell_type": "code",
   "execution_count": 16,
   "metadata": {},
   "outputs": [
    {
     "data": {
      "text/plain": [
       "<Image layer '6 - Fill holes and remove small objects' at 0x19f8a79b670>"
      ]
     },
     "execution_count": 16,
     "metadata": {},
     "output_type": "execute_result"
    }
   ],
   "source": [
    "# fill holes and removed small objects\n",
    "cleaned_img2 = fill_and_filter_linear_size(bw_test, \n",
    "                                           hole_min=hole_min_width, \n",
    "                                           hole_max=hole_max_width, \n",
    "                                           min_size=small_object_width,\n",
    "                                           method=fill_filter_method)\n",
    "\n",
    "# adding image to Napari as a new layer\n",
    "viewer.add_image(cleaned_img2, scale=scale, name=\"6 - Fill holes and remove small objects\", colormap=\"magenta\", blending=\"additive\")"
   ]
  },
  {
   "attachments": {},
   "cell_type": "markdown",
   "metadata": {},
   "source": [
    "-----\n",
    "## **POST-POST-PROCESSING**"
   ]
  },
  {
   "cell_type": "markdown",
   "metadata": {},
   "source": [
    "## **`STEP 7` - Label objects**\n",
    "\n",
    "#### &#x1F3C3; **Run code; no user input required**\n",
    "&#x1F453; **FYI:** This code block takes the semantic segmentation and creates an `instance segmentation`. In this output, each individual object in the image is given a unique ID number. The background pixels/voxels are still labeled as 0, but now each pixel/voxel within an object is labeled as a positive integer. \n",
    "\n",
    "In this workflow objects are separated based on connectivity: if a pixel/voxel is touching another pixel/voxel in any direction, they are considered the same object and each pixel/voxel within that object is labeled as the same unique ID number. \n",
    "\n",
    "*In the Napari viewer, the image is added as a \"labels\" layer where each object appears as a different color.*"
   ]
  },
  {
   "cell_type": "code",
   "execution_count": 17,
   "metadata": {},
   "outputs": [
    {
     "data": {
      "text/plain": [
       "<Labels layer '7 - Instance segmentation' at 0x19f99809060>"
      ]
     },
     "execution_count": 17,
     "metadata": {},
     "output_type": "execute_result"
    }
   ],
   "source": [
    "# create instance segmentation based on connectivity\n",
    "lysosome_labels = label_uint16(cleaned_img2)\n",
    "\n",
    "# adding image to Napari as a new layer\n",
    "viewer.add_labels(lysosome_labels, scale=scale, name=\"7 - Instance segmentation\")"
   ]
  },
  {
   "attachments": {},
   "cell_type": "markdown",
   "metadata": {},
   "source": [
    "-----\n",
    "## **SAVING**"
   ]
  },
  {
   "cell_type": "markdown",
   "metadata": {},
   "source": [
    "## **`Saving` - Save the segmentation output**\n",
    "\n",
    "#### &#x1F3C3; **Run code; no user input required**\n",
    "&#x1F453; **FYI:** This code block saves the instance segmentation output to the `out_data_path` specified earlier."
   ]
  },
  {
   "cell_type": "code",
   "execution_count": 18,
   "metadata": {},
   "outputs": [
    {
     "name": "stdout",
     "output_type": "stream",
     "text": [
      "saved file: 20230727_C2-121_conditioned_well 4_cell 3_untreated_Linear unmixing_0_cmle.ome-lyso\n",
      "saved to: c:\\Users\\redre\\Documents\\CohenLab\\scohen_lab_repo\\infer-subc\\sample_data\\example_neuron\\seg\n"
     ]
    }
   ],
   "source": [
    "# Saving file\n",
    "out_file_n = export_inferred_organelle(lysosome_labels, \"lyso\", meta_dict, out_data_path)\n",
    "print(f\"saved to: {out_data_path}\")"
   ]
  },
  {
   "attachments": {},
   "cell_type": "markdown",
   "metadata": {},
   "source": [
    "-----\n",
    "-----\n",
    "## **Define `infer_lyso()` function**\n",
    "The following code includes an example of how the workflow steps above are combined into one function. This function can be run below to process a single image. It is included in the [batch process notebook](batch_process_segmentations.ipynb) to run the above analysis on multiple cells. \n",
    "\n",
    "This function can utilized from infer-subc using:\n",
    "```python\n",
    "infer_subc.organelles.lysosome.infer_lyso()\n",
    "```\n",
    "\n",
    "#### &#x1F3C3; **Run code; no user input required**\n",
    "&#x1F453; **FYI:** This code block defines the `infer_lyso()` function. It is applied below."
   ]
  },
  {
   "cell_type": "code",
   "execution_count": 19,
   "metadata": {},
   "outputs": [],
   "source": [
    "##########################\n",
    "#  infer_lyso\n",
    "##########################\n",
    "def _infer_lyso(in_img: np.ndarray,\n",
    "                lyso_ch: int,\n",
    "                median_sz: int,\n",
    "                gauss_sig: float,\n",
    "                dot_scale_1: float,\n",
    "                dot_cut_1: float,\n",
    "                dot_scale_2: float,\n",
    "                dot_cut_2: float,\n",
    "                dot_scale_3: float,\n",
    "                dot_cut_3: float,\n",
    "                dot_method: str,\n",
    "                fil_scale_1: float,\n",
    "                fil_cut_1: float,\n",
    "                fil_scale_2: float, \n",
    "                fil_cut_2: float, \n",
    "                fil_scale_3: float, \n",
    "                fil_cut_3: float,\n",
    "                fil_method: str,\n",
    "                min_hole_w: int,\n",
    "                max_hole_w: int,\n",
    "                small_obj_w: int,\n",
    "                fill_filter_method: str ) -> np.ndarray:\n",
    "    \"\"\"\n",
    "    Procedure to infer lysosome from linearly unmixed input,\n",
    "    \n",
    "    Parameters\n",
    "    ------------\n",
    "    in_img: \n",
    "        a 3d image containing all the channels\n",
    "    median_sz: \n",
    "        width of median filter for signal\n",
    "    gauss_sig: \n",
    "        sigma for gaussian smoothing of  signal\n",
    "    dot_scale: \n",
    "        scales (log_sigma) for dot filter (1,2, and 3)\n",
    "    dot_cut: \n",
    "        threshold for dot filter thresholds (1,2,and 3)\n",
    "    fil_scale: \n",
    "        scale (log_sigma) for filament filter\n",
    "    fil_cut: \n",
    "        threshold for filament fitered threshold\n",
    "    min_hole_w: \n",
    "        hole filling min for nuclei post-processing\n",
    "    max_hole_w: \n",
    "        hole filling cutoff for nuclei post-processing\n",
    "    small_obj_w: \n",
    "        minimu object size cutoff for nuclei post-processing\n",
    "    fill_filter_method:\n",
    "        to fill snall holes and remove small objects in \"3D\" or \"slice-by-slice\"\n",
    "\n",
    "    Returns\n",
    "    -------------\n",
    "    lyso_object\n",
    "        mask defined extent of lysosome object\n",
    "\n",
    "    \"\"\"\n",
    "    ###################\n",
    "    # EXTRACT\n",
    "    ###################    \n",
    "    lyso = select_channel_from_raw(in_img, lyso_ch)\n",
    "\n",
    "     ###################\n",
    "    # PRE_PROCESSING\n",
    "    ###################    \n",
    "    lyso1 =  scale_and_smooth(lyso,\n",
    "                             median_size = median_sz, \n",
    "                             gauss_sigma = gauss_sig)\n",
    "   ###################\n",
    "    # CORE_PROCESSING\n",
    "    ###################\n",
    "    bw_dot = dot_filter_3(lyso1, dot_scale_1, dot_cut_1, dot_scale_2, dot_cut_2, dot_scale_3, dot_cut_3, dot_method)\n",
    "\n",
    "    bw_filament = filament_filter_3(lyso1, fil_scale_1, fil_cut_1, fil_scale_2, fil_cut_2, fil_scale_3, fil_cut_3, fil_method)\n",
    "\n",
    "    bw = np.logical_or(bw_dot, bw_filament)\n",
    "\n",
    "    ###################\n",
    "    # POST_PROCESSING\n",
    "    ###################\n",
    "    struct_obj = fill_and_filter_linear_size(bw, hole_min=min_hole_w, hole_max=max_hole_w, min_size=small_obj_w, method=fill_filter_method)\n",
    "\n",
    "    ###################\n",
    "    # LABELING\n",
    "    ###################\n",
    "    struct_obj1 = label_uint16(struct_obj)\n",
    "\n",
    "    return struct_obj1\n"
   ]
  },
  {
   "cell_type": "markdown",
   "metadata": {},
   "source": [
    "#### &#x1F3C3; **Run code; no user input required**\n",
    "\n",
    "&#x1F453; **FYI:** This code block applies the function above to your test image. The settings specified above are applied here."
   ]
  },
  {
   "cell_type": "code",
   "execution_count": 20,
   "metadata": {},
   "outputs": [
    {
     "name": "stdout",
     "output_type": "stream",
     "text": [
      "The segmentation output here matches the output created above: True\n"
     ]
    },
    {
     "data": {
      "image/png": "[encoded data removed]",
      "text/html": [
       "<img src=\"data:image/png;base64,iVBORw0KGgoAAAANSUhEUgAAB4AAAAPfCAYAAAAmNdT3AAAAMXRFWHRTb2Z0d2FyZQBuYXBhcmkgdmVyc2lvbiAwLjUuNCBodHRwczovL25hcGFyaS5vcmcvkNxBigAA9SFJREFUeJzs/X2c13WdL/4/ZgaQCw0EvBiGGQcvULISSUhJotzcWk2ToCVPlLt92/Vsy1m0raO2p/Z3tnMyT27mWXbPYc9uLUVrbBiurW2tlRmJBkqammIqwwwz4wWXijAKM/P7Yy4YYIAZ5uIDw/3ejdvO5/1+XTzfn/n42T8e83q9iiZOmtwcAAAAAAAAAI56xYUuAAAAAAAAAIDeIQAGAAAAAAAAGCAEwAAAAAAAAAADhAAYAAAAAAAAYIAQAAMAAAAAAAAMEAJgAAAAAAAAgAFCAAwAAAAAAAAwQAiAAQAAAAAAAAaILgfAl3/l51n10N7//vqyjvduzuUd2i7704l9UO4B6vrK+w55b98ajyQHe4aBYv/Pz5LMP3vv+739mTkSfucH+t1e/pWfZ9W/XJtzDtK+N+o/50+XHNGfrYPV193PRH9+7wAAAAAAABypBnWncfW3Ppk5f/vMftfv+ey7ck+vldQ999z3QP7yC+/O5fnRPjW8L5fMSFb81Y9a2hWwRlp0/Pyc86dL8s3FS5Jr5mXh2r6Z70j4nXf++ZyYCaclqZiR9569KE+v3fv6in/ymQUAAAAAAODwHP1bQP/gZ1mRd+aSy/a5ftm7MyMP5Kc/KEhVHMLTf/tX+WZ1Rd793gG+YvO5qlSnPBM6rHbO2e/JuyuqU11dkQln7H993XP9XSQAAAAAAAADRa8EwF3ZevWcP11ywO1/e+ZH+emKZMZ79t5G9vL3vDNZ8bP2FZSd1Xigmvbftvd9+esOW1639+2PrXXPvjbLOm6d3GHb4M62Fz7nT5fs1ebA7/vEzP+Xn+evL2t5tvathi+7uY9+T93xvvz1vnOffW2W7bMd8l7bSv/Ltbl8n9/J3r/ztudt+b+dPl9fPPva+/KzfYLuc947IxUrvpVvrN/nc3tGZSqqV+THaw+z/k7ekzOyv70/Ez/f7z07Yj77nejO90jb+7dXn0623QYAAAAAABhI+mUF8Dl/uiTfnLkiH7/wXZl24bsy7a9q8vHFvXc26z33PZDMeHeH8Vq30r3vR4dV0z33PZCcVrknKLrs3ZmRvcO6MyorDjp+bznnvZX52TWtNV74yXwzH803W8O3/erMxLx3ZkVW/NOiPH2IZ2xz2h+8O+uueVemXXhT7jn72iz7Qnm+2TbfX63o8+dbv27/LcW74vKv/Dx/edq39zzbP1XmLz9Wcch+M77wheTzLX3++4qKfPyLrYFgnz37M/nx/dWpqJzQfuWMyopUV63b7/d3+XvemayvytOHU3+69p6c86dL8s2P1eS/X9jhM3XaX7QHukfSZ39fh/M9UvGxf8j/yF91+t8PAAAAAADAQNStALjiY//QYfVdVwPc9+WPPpZ88/OL9gRbP/hGvlndybbNh+sHP8uKjtvsnv2evLviYNs/H6Km56pSXTEj721bEfyed2bFt76d6vZg7H25ZEb/bNX79N/e1OGM3Gey8J86BHQ/+FlWdKhz7+fu4vt+/zf2OYO3JuvaXv9gUZ+dz3v5V/4hHz/o7+hgWt7/vZ/tpvz3LmS21d/6q/Znuucfvp3qisoOq2T75tmfXlfT4Q8UWmr/2Y+f2ef313pm9SGC1QPX35X3pPUzcc1NHc4WfiYLP//tVLfVV4jP/oy/2HtFcuu/v5zRSe3d/R5Z8T87nFve9qwfK9DKdgAAAAAAgL43qDuNq7/1yQ5hShdd9u7MSEVmLP55Pr7Prd5bX/qj/HTFX+QP3zsxC9c+077F7j0Han6omtbel59Vf7TlfNa178slMx7ITz9blUs+9rG89+xFefqMd2dG9Yr8vz4KR/fVsmqzw0rO6qrWHw7y3F183/dagbv2vvys+h/ylw/9PJf81bvy5718fnLFx/4hqz7W9gzfzscvXHTQ1a4HdHZlTktNfrrP+/9cVXVSefCu+684bv3Dgb589h/8LCu+8Be55LLknnT87KzLuvZzgCtzWh7INw4x7wHrTxfek8venRmdtMnaqqzPjA7vQz9/9lf8z0z77P7B9+Vf+Xn+sO3FYX6PVFet2/tC67MCAAAAAAAMVN0KgA/fA/nvF9504EC2F9xz3wP5yz94T87527Rug3yoLWoPVlPLtr3ffM/7kucqc1p1VZ7Lj5IVf5FLzkjOmVCe6vu/cXjhZbe8L3/90F9kRsew9LKbs+oP9rQ4+HN3931/Jgt//11ZePa1Wbb451n1hd79vR3WHxB05ozKHHqz5+7qy2dvDeonTMw5KU/W/6z1s7Pnc3bOhBmpqF6Rw15Y22vvyZHy2e9M33+PAAAAAAAAHO36/gzg56pS3XF75r7Stp3uZYfa/rlrNT394xWpPq0yl793RnL/fXk6LWHrjPdcm/fOrDjss2u75eyWVaH//ff3rJQ9Z0L53m0O9Nw9ed/XLsqcCz+Zb1a/M3/4pxN78AC9qGPAeYBnO6OyFyLQPnr256qqUzHzD/NHM/c+P7dte+g/qqxIdevn7DAnOPR7cqDPROuK6rbtr4+Iz/6+DvPz3PHs5STtq6DX9dPqfQAAAAAAgP7W9wHw2kX5xoqKfHxxxzODJ2b+V65tPVO0t/woP11RkY9/4aOpWPGzg68S7EpNa6uyvuKj+cuPpeW81qQlhDptxqED5l7V8Wzja/M/PrZvyNny3O/+gxl7P/fhvO+X3Zy/3uc81YKEfa1bI3/8k+9rff2+/PUX3rnn9tr78rPqinz8ix2e5bKb9zkztpv6+Nmf/vGKVFe8MzMq9jk/9wc/y4q8MzPazgU+XG2/74O9Jwf6THzxo8m3vtHhs3OkfPY7ONzvkRl/0eH32vI5qu74rAAAAAAAAANMv2wBfc9n35V85ef5y4d+nr9svVb9rU9mYW/Pc98D+csZ79xrheXh19Sybe+M01bkx22rBdfel5/lo/n4wc4XPlwz/iKrHvqLPa+rv52P//6i/Ldvzcg32849rf52Pv5XD+Sbf7DPs/zDt/OHi2fkm5/f+7m7/b4/V5XTFv88q76wp+2cQoR9eSYLf/9/ZsJDbe/JA/nv13w7py2u7HD/k8m//EO++dBHWy6t+J/5+LfK883Kzkc8pL5+9tazdT+eDp+nJO2fsxk9X5V6z2c/mQmHeE/u+ey78tyfLsk39/lM7L01dz9/9rvocL5Hqr/1P7PuD/b8XrPif2Zab2xDDgAAAAAAcIQqmjhpcnOhi6CHLrs5q/6gKh/vsFX0sejyr/w8f1jVS+cMc9TzeQAAAAAAAI5Ffb8FNH1sYub/wTt7dn7sQHDZzfnLGQ/kG8I+AAAAAAAAjmH9sgU0fePyr/y85YzXY3Bb2/Znb/dA/vuFNznbFQAAAAAAgGOaLaABAAAAAAAABghbQAMAAAAAAAAMEAJgAAAAAAAAgAFCAAwAAAAAAAAwQAiAAQAAAAAAAAYIATAAAAAAAADAACEABgAAAAAAABggBMAAAAAAAAAAA8SgQhcA0BPPPPVooUsAAAAAAAAoiImTJu93zQpgAAAAAAAAgAFCAAwAAAAAAAAwQAiAAQAAAAAAAAaIfj0DuKioKKecfFIGDzmu/dq2bVvzyiuv9mcZ0AtOypkXlWfnY2tSu6PQtRwJvB8AAAAAAABHgsMKgIuLi1JRUZGSkpJUVa3PuW+elJdffjn1L7x40H6T3nxO5v/JH6dqfXX7tdNPn5D//Cd/djhlAL1GgAsAAAAAADAQdDsAPuOMCbl4+kXZsu2VDBk8OH/8R5/Ili1b8rXb//aQfY8fPiKPrHk0//j1xe3X/v7/LsxX//rL+eptf5MNG2q7Ww4AAAAAAAAArboVAE+orMzbzz8/P/3Zinz11puTJHfc8d3sbtyVM848PU8+8ZtuF9Dc3Jwnn3wq40pLBcAcpU7KmRednVEdrmz97S/y7MYRKZt8fk7c/Ks8Uf1ay42xk3LB+B158tH12blPv5Y+beOVZ+dvN+XEs8ozNJvy/INPZfOh5t28Ng+vfTkZflrecl55hiZJdqS+fVVv67i1O1NaNiZJ0lD7qzxRnZRNbhln1HkXpzSb8vyDGzO6sxoOOPY+xk7KBWeN2fO6rTYAAAAAAAD6VLcC4Nd2vJYRJxyfd8+ckebm5hQVFeXRX/86F104La9s67tzfMtOm9BnY0Nnatev60brl/Psgx3CzeGn5S3nTcrojU9l8+YdKR09NsOqX8vOJKPHjEnD5urszIiUTT47Q2t/lYerX9u7T8sgKR2/KU8++Ivs7HTOlv6j2oPVESk7e2yG5aSUnVeeht/+Ik9sTEsQe96k7Hyww7jDavLwg0+1zlmR0dVPpfbRtRm21xbQJ2X0fjWclDMPOnaH5z9rWOof+8We4PnsbrydAAAAAAAAHLZuBcC7d+/OaRUVaWpszL/8y50pKi7KjIun5yc/uS8bausO2b+uri4f+cicLPyb29K4e3eSZN26qkP2614YB4Ww7yrgHRk2PNlcXZOtZeUZPXx9aneclNGjd2TLYy2B74nDNqWubWXwjo3ZsvP8jB6bbN7Y0r/+mfUHCH+TDB+bE4ftSP0zbcHza6ld+1oydlJGZVOe39h6eePGbD3r7L3HrWnts2NHGjImw4Yn6fTc331qGDv2EGPvVWCHcV/Os2sP8fYBAAAAAADQK7oVAO/atSt////+MXV19Tn++ONTUlycba+80uX+G2rr8uk/vzGL/s/fpLq6uv3626dMzoO/XNWdUuAI0hL+tq/mbd1qucXL2bz57IwbOyK1O8Zm1M5NLatixw7P0IzJ6RddnNM7jLS1q1MOH56h2ZmdnQW3O3d0CI53ZOfOZNhhPFWnujL2jvV54rfDc8FZF+eCs1ou7dneGgAAAAAAgL7UrQD41Ve359VXtydJtm/fftiTfvaGz2XkyFHtr3e98XpefMn5oByl2lbGtq3m3cfmTZty+vixKRvWtv1zmwOd7dsFO3akIcM7vzdseIYlrfMMz7BeS3+7MfbGp/JwW+A7dlIuOKvj9tYAAAAAAAD0leJCTPrKK6+mpqam/d8LL76U5ubmQpQCPbdjRxoyrGXL46Q1EO5g48ZsHVae0tEdtnzeWJ36nWMyrmJEe7NhFZNSdoBMd/85N2bLzjE5/eyTWi+MSNnZp2XYxo3Zmg7jtobT+2/R3Jnhe56hM10de+ykvKXDc2XHjjTstXIYAAAAAACAvtKtFcBAJ3asz3O1Y3LueRenNEk2b9pnK+eWbaBHZWOHFbCvpfbRtRl20fm5oKz10s6aPFmdLmrrf3YuuOjslkub16Y2L+fZx4bnLee1jbsj9Y+t6cLK25dTW1uec8+6OBectSnPP9hZYtzFsTduTEPH52ptJwAGAAAAAADoe0UTJ0229Bb61IiUTT4/wzY4B7cvPPPUo4UuAQAAAAAAoCAmTpq83zUrgKHPvZbaR39R6CIAAAAAAAA4BhTkDGAAAAAAAAAAep8AGAAAAAAAAGCAEAADAAAAAAAADBACYAAAAAAAAIABQgAMAAAAAAAAMEAIgAEAAAAAAAAGCAEwAAAAAAAAwAAhAAYAAAAAAAAYIATAAAAAAAAAAAOEABgAAAAAAABggBAAAwAAAAAAAAwQg7ra8ISRJ+ZNo0b1YSnAseSVrVvz6rYthS4DAAAAAABgQOnyCmDhL9CbfKcAAAAAAAD0PltAAwAAAAAAAAwQAmAAAAAAAACAAUIADAAAAAAAADBADOrtAYcOHZqRI0eluKSkt4feS1NjY7Zt25qGhoa9bxQV5U0nnJBhw0ekuLhv8u2mpqbs3PFaXnn11aS52fzm33OvaFDWjXtXXhjztrwxaESfzD9k92s5ddOvM6Hu5ylu3r33zUK//wAAAAAAABRUrydE/RH+JklxSUlGjhy13/U3nXBCRhx/Qp+FX0lSXFycEcefkDedcIL5zb+XdePelepTLuqz8DdJ3hg0ItWnXJR14961371CPz8AAAAAAACF1espUX+Evweba9jwvgve9jV02HDzm38vL4x5W7/N/8Lot+537XCe/9STx+ZNJxzf7X6dPT8AAAAAAACF1etbQBdaX6583FdJJwG0+Y/t+fty5e9+cw3eP7Tt7vNPedu5ufSSGdnZ8Hq+873v56WXNna5b2fPDwAAAAAAQGH1X1pGwZSecnIuvOD8TKgY3+2+Z0yoyDvefl7GjhndB5VRcUJRvvO+IfnO+4ak4oSifp27LfxNkmFDj8tHPnRFTj55bL/WAAAAAAAAQO8acCuAD8egQSX5nZnvzGnlZXnqmefyiwdXp7m5udBlpaioqMd1nH3W6fngZZemqKglXLz/F7/MQw//qkt9L3nXRZk65bwkybsuvjDfWfb91NTWHVYdg0pKUjyoJG+8/sZ+94YPG5qdDa8fEe95f6o4oSj/8J4hOWV4y+/mH94zJJ+8741Uv9r378OEivHt4W9NbV1GjxqVESOG5yOzPpD/+0//3OnvCQAAAAAAgCPfMR8ADxpUkg9d+Xvtq2OnT5uS40cMzw9/fH/BAsmhxx2X37v03Tnz9NOy/bUd+Y+f/jzPras+rLHeft5bsv21HfnuXffk/e+dmalvf1vOPP20Q/YrKipK6Skn5dl163P/il/mYx+ZlfPeOumwAuBBJSX5yJwrM2L4sNyx7O688ur29nsXTH5rLpk5PXUvvJR/ueueIyJ4HDx4UN4785058/TKbH3llfzwx/fn5Y2be3WO8cfvHf4mySnDW6594qdvZMP2vv3sNTU3Z/fu3ampeyHfu/uHedMJI3L1nCtTXFScHGNBPAAAAAAAwEByRG4BXVRUlA+873dyWnn3tyzujn3D3zZvO/ecvP+9M9tXzfanoccdl4/MuSITz5yQmtr6DB5ckit/79IMGTL4sMbbsbMhgwYNypgTT8xxQ47L9td2ZMu2bYf8t3nrtjQ1JyccPyKlp56UQYNK8vrrrx9WDcWDSjJi+LCMGvmmXD3nyrzphJazay+Y/Nb8zrvfmaKiopSVnpK5sy7PkOOGHNYcvWXI4MH56Ic/mHMnnZXhw4dl3Kmn5D99+IMZNKh3/1bij88dtFf42+aU4UX543P77u8yTho7OoMGlWR9TW3+ZtHifHf5Pdm9e3c2b9mWRd/45/yfr387b7yxK2864fiUlByRXw8AAAAAAAAcxBG5AnjocUNz7qSzcvZZp+d7d/971lVv6PU5DhT+tnnbueckSb+uBB563HH5yOwP5JSTxuYXDz2cBx56ODMvfkcuvOD8jHrTm/LSxk3dHvOhRx5NRfm4fPDyS7N79+78y10/SM2GQ6/iLSoqyvhxp+TksWNz2e++J1u2bsuDq7u2dfS+3nj9jdyx7O5cPefK9hD4yaeeyTsvvCBJ8uRTz+TM0ysz7tSWEHjp8sKsBB4yeHD+0+9/MGNGn5iSkpL264NKSnLSmNGpf/GlXpvrly805aJTS/LEpqZcMr4laP3phqa8ZUxxfvlCU6/N09HplRX58FWX5Ymn1uaeH92XN3bt2uv+7t2NSZKK8nG5evaVqd5QnzuW/Wuf1AIAAAAAAEDf6LcA+N0zLspZp1e2v/71E7/JLx95bK82bz77zEx/xwUpLm5ZGdkW0i7713/P+preC4EPFf626c8QeOhxx2Xu7Ctyysl7wt9xp56S8992bl7bsTObt247rHFfeOGl3LHs7nxi3u9n+b/9R5fC3ySZ9vbzMvJNb8q/3vMfeXX7a3np5Y3Z3dh4WDUkySuvbt8rBG4Lf1c98ljuW/FgSk85KXM/dEVBQuDfv+rylJeVZlfj7gwePDiDOoS/bba9+mqvznnP+sbcs74xF5xcnEvGt6x6/vYzu/PwS30T/ibJ66+/ntde25EtW185aLsdrzVk2yuv5uWNG/usFgAAAAAAAPpGv+3xevLY0Rl94sj2f++ecVGmvO3c9vtnnH5aLn//72TM6FE5cdTI9uuDBpVkynnndjbkYekY/nYl1O2P7aCPO25I5s6+IqfuE/7+/ocuT0lJSe754U+ye/fuwx6/rW9jFwPck8eOycUXTc3Da36dtc8+n7oXXuxR+NvmlVe358mnnml//cbrb+SRRx9PktS/+HKWfu/7ef31N1qe/ar+2Q56zJgTM76sNIMGD8qwoUP3C3937W7MLx5anR07dvZonvHHF+Wv3jE4l5+2f7h8IJefVpK/esfgjD++Z5+9occdl+OOG5La+hez8P99Myt/+chB22/cvDn/9+vfzo9/9kCSZOSbTjjsLcgBAAAAAADoX/0WAD+19tmseeyJrHnsiWzcvCVJ8t73XJyTxo5OxfjSXHXZpSkuKsr2117Lr594ur3f5q1bc+99v+iVGjqGv7/69ZP59r/clTfe2HXIfn0ZAh933JDM/VBL+LviwdX7hb/L7/5Rn2yB3WktQ4ak9JSTc/n7L8nWrdvy85WrenX8Kee9pX3l7xtv7MqQ44bsdSZwxxC4rLQ1BO7j4HH7q6+luLgoTU37r7zdtWt3Vj38q/zy4cc66dl1FScU5euXDMkHJ5Tkusldf57rJw/KByeU5OuXDEnFCYf32asYX5o/+eS8/PE1Vx/Wmb7Dhh6XT17zkfznT/ynnHzy2MOqAQAAAAAAgP7TbwHw479Zm3vv+0Xuve8X+c6yu7Nl67aseuSxDCopyewrL8ugQYOyc2dDvvO9f8tPV6xM0hL+3vHd72f7a6/1eP59w9977/tFautfzHfv+kF27Tr06tq3nXtO3nHB+T2uo6PjjhuSj8z6QEpPOSkrHlydlb98ZL/w9/n11b0654GceXpl/vSPPp6PX/2hnDRmdH72i1/2yqrfNlPedm4ufc/FSVq2ff7Hby3NtldezaiRb8qsy3+3vd1+IfCsD/RZCDxk8OB8+KrLsvbZ57Oz4fW9QuCmpqasWvNYfvHQwz2ao+KEovzDe4bklOEtAe4Tm5pywcnF7f/OGbUn2D1nVNFe9x7f1FLPKcNbxuhuCFwxvjRzPnh5hgwenO07dqSpqfvbmO/a3ZidOxsybOiwfORDVwiBAQAAAAAAjnD9FgB39NqOnfnWd+7K40+tzYdbV3m+8caufPeue7Jp05a8/vob+bcf/SR3fPfuPgt/27Z/3lBXn+/+6w+6tMXy6ZUHPzO4O44b0hL+nnrqyVmxclVBw98k+d1LZuTV17bnFw89nObm5JyJZ/Ta2Oeec1be2yH8vW/Fg3nl1e3552V358WXXs7mbXufSVv/4stZdve/J0nKSk/J+W99c6/V0mbIkMH5/VmXZ+PmLfm3H/40S5Yuz86G19PYFpIWJU//9rkez/O/pg9uD3+T5JLxxfnHS4a0//vslD3h9menDN7r3iXj92wXfcrwovyv6V0Pwk8c9abM+eDlGTx4UDZv3ZrvLv/BYZ1jvXv37nznzrvz2ms7MmzocfnIh67I8GFDuz0OAAAAAAAA/aMgAXCSDBkyKB+Z9YEMGzY0u3fvzrK7/z3bXt3eoUVRuh9X7e9g4W+bmg11WfavPzxkCPzb59b3QkWt4e+HOoS/q9YUNPwtKirKsKFDs3nz1jz2+G/y+hsNGXbccb0y9qBBg/K775mRoqKirG4Nf9u88sqr+ad/vjPf//cf79fn4gvfniR5Y9euXt8Ce8iQwfnwVR/Ixs1b8qOf/DzNzc3Zuu2V3PVv/5GS4qLsbmxMY2NjiosL9p9Hj5UUD0rJoJYA+Y03dmfX7gNvdT58+LB8/OrZeccFkzOsk3B32yuvtv8hxuBBg1Jc3PVzjAEAAAAAAOhfgwox6fEjhmfuhz6Q448fkabm5vzrPfdmzImjMuvy380/t676/cD7LsmWrdvyz8vuzvbth7cKuCvhb5v1NRvyve//KB+68v0ZVLJ/wPXwo49n9ZqenQU7bOhxuWja2zPxzAkZ+aYT8ty66oKHv0nS3NycRx9/Mhec/7aceXplkuSpZ57tlbHHjD4xQ44bkubm5px88th8ZPYHDtnnhONPyOgTR+aNXbvy3eU/yEsvb+qVWpI94e+mzZvbw98kOX7EiPze787MQw//Kg2vv54tm7flpZc29ni+/7py115bQP90Q2O+/cyerbXPGVXUvgr4K2t25emtez6fH504KJeMbwmhX9zRnP+68tDnVbfZuHlz7r7n3lx5+aU59eSxmXPl7+Xb3/3XTtvu3NmQ4cOG5t0XX5iLL5qatc88n1/9+onU1r+YJGlsbMo/L7s7bz7nrGzavLVXVuUDAAAAAADQN/otAH7rm8/OqaeclCSpKC/LiaNGprm5OT/40U9TW/9SPvXJj2bQoEH5yOwP5PmqmiTJiaNG5j/NufKwQ+B3TX9Hl8LfNuvW1+Sue/4jsy5/X0pK9qz+XL3msfz05w8epOehFRcX56MfvipjxpyYl17amB2DB+eMCRV578yL85ZzJxYs/G3z058/mPoXXs640pPz5nPOzlvPPTu/WfvsYW0b3NErr2xPc3NzioqKclp5WZf7tYW/G+rqc/ppFb3yvrSFv5s7rPxNWsLfqz98Rdb+dl1+/sAvezxPR9WvNueT973RHgK/dUxxHn6pY5C753P29NbmPPzSnnOIv3xRS2j84o6WMapf7d7vYu2zz+df7/mPfPCyS3PqqSdnyODBeWPX/iFyyx8A/CYz3/mODCopybmTzsq5k87KSy9tzK8e/02efPqZvPHGrjz669907+EBAAAAAADod/0WAE86+8xMOK18r2s/vu8XefLp3yZJ7vrBvZl9xfszYsTwvPXcs9vbnDhqZH733Rfne//2o27PeeopY9PU3JzHHn+qy0Hmc8+vz3/89Of5vUvfnST55SOP5Wcrehb+JskF5781Y8acmB/++P489sRTGXLckPx/H/1w3n7+W7K7sbGg4W/SEgL+Zu1v85u1v83aZ9flI7OvyLveOS33/6JngejOhp15+Fe/ztQp53W5T8fw9+SxYzL7qt/LXff8R3777LrDruO4IUPyyY/PTcMbb+SN3btyyczpSZLBgwbnjNPL8+RTz/Z6+Num+tXmfOKnb+SPzx2UX77QdOgOrW57dHfecWpx/v7J3dmw/fCC+GeeXZf/t/g7aW5uzhu7duX4ESOyY8eONO3z38Ovn3gqF184da8/fDj55LF53++8K++ecWGe+M3a/OrXT2bT5q2HVQcAAAAAAAD9o98OOX1p4+Zs3rKt/d/PVjyYNb9+sv3+c8+vz7/98CfZtHlrtmx9pf367t2792rXHY89/lSKi4oy56rLMmrkm7rUZ9iwoXn75LcmSR5a/ateCX+TpPTUk9Pc3JzHn3w6SfLG62+kpu6FJCl4+Luvmg11+dkvHso73j45E8+c0OPx7lvxUJ5e+1yX2nYMf5Pkd2a+M8VFRfmdd03v0Zm840pPybBhwzJ29Im5YPJb2/+99c0T8+KLm3rt93wgG7Y35wu/3JV71jceunGre9Y35gu/3HXY4W+brdteybZXXk1F+bj86R99LJdeMmO/Njt2NmTts53/jo4bMiRvn/zWfPLjH8mkiWf2qBYAAAAAAAD6Vr+tAP7ZigcPGbL9Zu2z+c3aZzNs6LD82X++Jrt3786d3/9hqqo3HNacTz792wwfPiyXvGt6fn/WB/Ltf1me13bsPGD7YcOG5iMfuiInnzQmK1etyYqVqw5r3s4MPe647Nq1u33l5UljR+f008qzeevWPg1/Bw0alJnvvDBNTU256B1v7/IZrqsfeSwV5WW56rJLs7Phjfz2+XW5974VaWzs+grWNs3Nzbn7hz9Okpxz9hkHbLdv+FtWekoqysclSUa+6YRMOvvMPPnUM92eP0mKUpTGxsa9Vrju3r07j/76N/nJz1ce1pg9cflpJbl+8qA8vqnjmb8l+fJFg3Pbo7u7FRR3VVNjY5qbm7Ork22gk2TNY0/mzWeftXef5ua8+NLLqa6pS/WGulTX1PZ6XQAAAAAAAPSefguAu6Ph9YY8+dRv88RTaw87/G2zes2vkxTlknddlA/Pujz/vOzuvPH6G/u16xj+PvDQw/nFQw/3aN6ORr7phJSVnppXX9ueN599ZirKy/K2c89Jkvz7T+7vtXk68+53XpiJZ07IuvU1qSgvy+wr3pcHfvlIl/q+afjQNDU354UXX8p5b5mUV155NStXrTmsOg4VAu8b/ibJ+LLSvdqcNr7ssAPgJCkuLmr/edeu3fnV40/mvh6e7Xy43nFqcU4aVpRLxu+p6ZLxJe33+iIA3lD3Yr72d1/Prt27U1xcnLPPPD21L7yYV155NUlSW/dCXnp5U04+aUySZOOmzfnW0uV5443OA2MAAAAAAACOPEdkANzc3Jx/+9FPem281WseS4qSS2ZclI986APZsKF+vzYTKsszdszobH/ttQwZPDiXzLhovzabt27Lo4//pltzDxt6XGZd8b4MHjwoo0eNyhW/994kyZat2/Kjn6zI+pqeBdyHUlZ6cjZt2ZLv3vWDzLrifTnr9MrM/uDvdalvc3NzHnviqfzoJz/Pn/7Rx3LqySf1qJa2ELixqTHnTprYfr3h9ddz57/+cK/wN0lq6+rT3NycoqKWkLR6Q91hzTvkuCG5ePrUvPjyxjQ0vJ4kqal7Ib9c/avDfJKe+/snd+fCU4pzyvCiva6/uKM5f//k7j6b943W1b/nnnNWLn/fJXltx858Z9nd2bx1W5qamvKrXz+Z9/3Ou5IkVTW1wl8AAAAAAICjzBEZAPeF1Y88lqbGprxnxkUpPeXkA7Y7fsSITH37eZ3eq3/xpW4HwMNHDM+jv/5Njh8xPEnyyqvbs3HTltS/+FKam3t2tmtX1NTWZ+rbz8vHPjIrpaecnKefeS4/7eKWxx+64v1565vPyfiyU3P8iBFZ18PV2ElbuP/TrH12XSrKx2Xnjp157Mmn89prO/Zru6HuxSy7699z5hmnpbb+hTz51G8Pa87jhw3Ps89X5cFVa/rlPe+KDdub88n73sg/vGdIewj84o6Waz0987cr6upfSsPrr2fE8GH5T79/VX7z9DP58c8eyG+e/m3ec/GFGXLckNTUHF7gDgAAAAAAQOEcMwFwkjzy6ON5/MmnM6I1jO2unTsbut1n06Yt2bRpy2HN1xt+/uCqFJUUp7K8LI898VR+cv/K7N7dtRWmd93zH3nPjAtz4qiRWbFyVbfD74P57XPr8tvn1h2y3fPrq3t8RvLmrVuzsovbXven6ldbAt//NX1wkuS/rtyV6lf7J6DevHVrvnPnv+Ujsz+QYUOPy1vPPSc/X7kqb7yxK088/UzOf9u5qakVAAMAAAAAABxtjqkAOGnZAveNrdsKXUa/2b27MT/52QOH1feVV7fnX3/w416uiI6qX23OR360/5nU/eHFl17Od5Z9P1dedmk2b92atGbPD//q8RQVFWVn63bZAAAcm5Z9/LOZ882vFLoMAIA+1ZzmFKXo0A0B4Cgy4ALgpqamFBcX98tcjY2N5jf/Xobsfi1vDBrRL/MP2bV9v2vdff4XX96Y/7f4jr2ubdm6Lf/x0xWH7NvZ8wMAMHAIfwGAY4HwF4CBqNeTsqZ+DIU6m2vnjtf6bf6GnfufW2v+Y3v+Uzf9ut/mP3Xz4/tdK/TzAwAAAAAAUFi9vgJ427atGTlyVIpLSnp76L00NTZm27at+11/5dVXkyRDhw1PSR/V0NjYmIadO9rnMr/520yo+3mS5IXRb80bg4/vk/mH7NqeUzc/3j5XR4V+fgAAAAAAAAqraOKkyc1daVh22oS+rgU4xtSuX9fjMZ556tGeFwIAAAAAAHAUmjhp8n7X+uewVAAAAAAAAAD6nAAYAAAAAAAAYIAQAAMAAAAAAAAMEAJgAAAAAAAAgAFCAAwAAAAAAAAwQAiAAQAAAAAAAAYIATAAAAAAAADAACEABgAAAAAAABggBMAAAAAAAAAAA4QAGAAAAAAAAGCAEAADAAAAAAAADBACYAAAAAAAAIABYlChC4BCOeH44zNu/LiMGTM6Q4celyRpaHg9mzZtTt2Gury6fXuBKwQAAAAAAIDuEQBzzCkuLs7Z55yZsrKyFBUV7XVvxIjhGTFieMrLy1JbW5u1Tz+bpqamAlUKAAAAAAAA3SMA5phSXFycKVMm58TRow7arqioKOPHj8+I4cdnzZpHhcAAAAAAAAAcFZwBzDHl7HPOPGT429GJo0dl4tln9V1BAAAAAAAA0IuO4hXA03PT0itTc8ONWVLV8edC18WR6oTjj09ZWVm3+40fPy61NbUD40zgyjlZeMsVaXkX1uRrc2/P/Z21m7Egy+dP2f/66kWZdevKro8DAAAAAABAvzqKA+CVuXnuykIX0StGjx6Tk04tTXFRSaFLGdBGjRqx35m/XVFUVJSzzj4r9fUv9UFVPdPU2Jht27amoaGhC60rMm/BFaldeE3mr0hLyHvbnFRfvyzr9m264vbMWrFP39u+mAtrN3RvHAAAAAAAAPpV7wfAe60MrM+d7atyW1fp3lWf2Ve1rCysvevzmX9Hdeu9azOtwzCrFl6Tm9sDqH3ur16UWbemddXv3yULWu5Nu2VxZueprKqblLJVbWOnJaD6UG0+ff2yrGutr3av8QtL+Ns/hh43+LD7Hn/8iF6spPcUl5Rk5MhRaWh44dCNK6flwnH1eaim9XVNbWrHlaUiOXRwO2NWZo9bk6/dUZ1Uzjn8cQAAAAAAAOhTvXwG8PTc1Bquzpp7TWYtrM/sWxZkZvv90swuW916b03KrvpU5lUmLat5W/vMvSazbvh+yua39avIvNuuzbTVi1rvfz53ZlwmtI9ZnSXXL8qq1OfOG67JrLlfzndW1ads2rT2NjPfMSW1q1YdseGU8Ld/lJQc/vs8ePDhh8d9rbhbz1WfmqqOr0tTXnmoPhWZ96Epqb1reYdtng9nHAAAAAAAAPpa7wbAM6ZmWtZkZdvK2hWrsypTMn1GW4P63LlsZYd7pSkvb7s3PTctXZzlSxdn+S1XpKwtUGpdtdjeL9VZcuvBt5pdd8fdWTXugryzsmXc6VPr89CDrauBq5Zl/twjZ/Uv9Jvysux1AnJVXWq70q919e9321bUH+44AAAAAAAA9LleXgGcpK421e0vNqSm7kANO95r2eK57K7Pt67yXZRVbbfKy1K232rDQ1mZlatLc+FFFS2hdN3DeaBb/ftXU3NjoUs4JjQ2Hv77vGvXrl6spHc1dfW5amr3Dmorx+0d5HZqem6aPyWrFt6+Z/XvYY0DAAAAAABAf+j9ALj1LNAW41M+7kANO9xrXTncvsKwo33Dpi66/5drUjZtWuYd4ds/J8nLL9QLgftBw+uHH+Ju3/5aL1bSe5oaG7Nt29Zu9Nh3q+aD/3HFhKuvzLS67+c7+62Y7944AAAAAAAA9I9BvTraitVZNf/afPjqitx/R3V7sPu1zrZb7nivsja1uaAlUKpqu5fUJEnVqjxU98Vc95npuf/WlUkqMu8z0/LArfsuLW7dTrpq71pmj1uTr93aIViunJOFrecUHynbQG/evCmbN28qdBkD3gnHH593XDQ1RUVF3erX3NycZ555JttfPTJD4C6rWpWH6q7Y899JeVnK2lfsV2TebV/M7NpFmXVr23br0/ORq0qzauE+W64fdBwAAAAAAAAKqXcD4KzMzTeMy8JbvpjlVyVJfe684cY9W8emNLNvWZzZ2ede1bL89V0X5Ktt91av2bMFdKqz5PpFKV96bZYvvbbl0upFWbLPvN+568p8df7iLJ+/Jl+be3vuz8qsXH1tpmV1h/k5lr26fXtqa2szfvz4bvXbsKHu6A9/k7T9t3TT0sVZPj9J1uRrcw98nvbMz1ybaXXfz6f3+0OJ7o0DAAAAAABA/ymaOGlyc1calp02oYdTTc9NS69MzQ03ZklVD4fqkpYVjeXfO3JW+lJ4xcXFmTJlck4cPapL7Tdv3pJfrXksTU1NfVvYMap2fc9j42eeerTnhQAAAAAAAByFJk6avN+13j8D+EhROS0XjluTlcJfOmhqasqaNY+mpqY2zc0H/tuH5ubm1NTUZs0jjwp/AQAAAAAAOGr08hbQR46Zc65I2epFtn9mP01NTXn6qbWpranNuLLSjBk7JkOHHpckaWh4PZs2bkpdbX1e3b69wJUCAAAAAABA9/TjFtAAe7MFNAAAAAAAwOE7traABgAAAAAAADjGCIABAAAAAAAABggBMAAAAAAAAMAAIQAGAAAAAAAAGCAEwAAAAAAAAAADhAAYAAAAAAAAYIAQAAMAAAAAAAAMEIMKXcCxbujQoRk5clSKS0oKXQr0mqbGxmzbtjUNDQ2FLgUAAAAAAOCYYgVwgQl/GYiKS0oycuSoQpcBAAAAAABwzBEAF5jwl4HKZxsAAAAAAKD/CYABAAAAAAAABggBMAAAAAAAAMAAIQAGAAAAAAAAGCAEwAAAAAAAAAADRC8HwNNz09IvZ15ld+/1xXwcvvNy7W3X58pxha6D/lZSUpxBgwZ1619Jib8jAQAAAAAAOFIMKnQBvWd6blp6ZWpuuDFLqgpdS286L9fedknqv3Jb7q4rdC197Vh61iPTsKHD8ra3nJOioqIutW9qasrjTz6d7a/t6OPKAAAAAAAA6IoBFACvzM1zVxa6CDiqbX/ttfz2uapMPHNCl9o/+3yV8BcAAAAAAOAI0jcB8EULsvyWKUmS2rs+n/l3VHfSaHpuWnptprW+WrXwmty8ou36lam5qz6zr+psjL37JfWpSYd+N9yYJVWHGKNyThbeckXKOoxxZ9vK4dZ7te31FNaVN87NeUnO++yX8v48mW9c/0Sm3HZJ6pc8kcnz3pNT26+1tGvz2JLPZdEjSfuq2ntfyvsvPTdJ8sK9/zt/9YMXWhq+/aP5u3nn7un4+NJ86usdK9h3VW5nrzvM/fjSfOrrj+13/dD1dPas387qXnof6bqXN27K8cOHZ9y4Uw7arrbuhby8cXM/VQUAAAAAAEBX9EEAXJrZZXdn1tzbkxkLsnz+pzLvwX23Za7IvNuuTdldn8+sO6pbQ9cFmbni9ty/7xiVc7LwllmZecftuX/ffq2h7yHr2HeMBVckXRqj8O7+8tKU7hO4TslJef+lyZeu/1w2tLZbff1jezqNuzRf+OxHM/WRtgD1pLz/1J/mU9d/u/Xe72TqD76d1eMuzRfmnZwffuVze8LcT3SnulNbQtv20PfUXPmJt2Z8Ts2UG+fmlHv/dz71gxe6XM/+z0qhVNVsyPDhQzNq1MhO72/Zui3ra2r7uSoAAAAAAAAOpbj3h6zPnctat2JesTqrUpry8n2aVE7LhePW5LttK3KrVuWhuimZPqOTMarqUpvSlFd20q+rdXQcY8aszD7YGFXLMn/ukbH698Bezg+/eW97+NvivFx725fyd7d9KX/32ffk1Jyc0nEd2v+wNSCueykv7nXvpJSWtv38WBZ9/bF02bi3ZvIpHcbOC7n76/dmw7i3ZvIpT+bf21YZ1z2eR188N1Pe3pV6OBI0Nzdn7bPr0rCzYb97DTsb8syz69Lc3FyAygAAAAAAADiYPj4DeENq6pJ989+Ul6UsU3Ld0sW5rsPlVYcarrysw7bNPVBXm65EyEePlu2W21fctm6zfEh19+avlpycv5v3pfzdvJZLe7Zq7oLSk3NqXkr9vqt1S0/OqTk3f3jbl/KHHS53I1rmCLB79+78Zu1zOe+t56SkpCRJ0tjYmN8882x2795d4OoAAAAAAADoTB8HwONTfsCVnWvytbltWz53UU1tansjAh5Xlook63o+0pHh7W/JeXky32hbcdsdj3w7n2oLfN/+0fzdvI9m6iNPdK1v/Ut5IScf4KYzfAeCnQ0788yzz2fS2WclSdb+9vns7GRVMAAAAAAAAEeGPtgCuoMZUzMta7Jy3+2UVyzPnXVT8uGrK9ovTbh6QeZVHmK8qrrUpsNW0TOmZlp3a1qxOqsONkblnCxcujg3zeikb8F03Ka5E61BbPs2ym9/S87ryrBv/2i+cNmpe4/z4kup36vRi6l/cc/84y+7ZM/YrVs7/+En2q6cmis/cWnGP/KT/PDFc/N7HcYef9lHc2WXtnk+xLPS7zZvaTnvd311bbZs3VbocgAAAAAAADiIPlgBXJrZtyzO7CRJfe684cZOVvlWZ8n1i1K+9ItZflXrpbrv59N3HGrslbl54dQsn784y+cnWb3m0NtG98kY/emx3HPvJfncvC/l7+Y9mW9c38nq3Lp78/V735LPffZLeX+SPP5k17ZbfuSJvHjbn+XvLm278HJ++JXbsmGv+PiF3H3vk+3bRL9w7315LG/Zc+/LS1N629z83W1zWy49vjR354Vs+PLSlHYc+8X78qUfdPdZrSA+UmyorT90IwAAAAAAAAquaOKkyc1daVh22oS+rqVApuempVem5oYbs6Sq/2cvHdcrpxrDEam+rvag92vX93wj9meeerTHYwAAAAAAAByNJk6avN+1vt0C+gg18zMLMrPtxYypmVb3cB6oKmBBAAAAAAAAAL2gD7aAPhpMyXVLF+e6JMmafG3usvR8HSIAAAAAAABAYR2TAfD9t17TybnEAAAAAAAAAEe3Y3ILaAAAAAAAAICBSABcYE2NjYUuAfqEzzYAAAAAAED/EwAX2LZtWwVlDDhNjY3Ztm1rocsAAAAAAAA45hyTZwAfSRoaGtLQ8EKhywAAAAAAAAAGACuAAQAAAAAAAAYIATAAAAAAAADAACEABgAAAAAAABggnAFcYO947p5eG+uXZ1y+1+uhQ4dm5MhRKS4p6bU5oCuaGhuzbdvWNDQ0FLoUAAAAAACAY4oVwAOY8JdCKS4pyciRowpdBgAAAAAAwDFHADyACX8pJJ8/AAAAAACA/icABgAAAAAAABggBMAAAAAAAAAAA0QvB8DTc9PSL2deZW+1661+0E3jLs0Xbvtopha6jiPQmWdU5ozTTyt0GQAAAAAAAHTCCmDoxNT3vyenFrqII9TY0SdmzImjCl0GAAAAAAAAnRhU6ALgSDL+suvzuUtPKnQZAAAAAAAAcFj6MACenpuWXptpHa6sWnhNbl7R4cJFC7L8lilJktq7Pp/5d1R32ne/fm0q52ThLVek9kD3oZs2/OC2fOoHbUFwoasBAAAAAACA7unDAHhlbp67cs/LyjlZeMuCzFxxe+5PkpRmdtndmTX39mTGgiyf/6nMe/DGLKmqyLzbrk3ZXZ/PrDuqO+lHT5x5xoRDbt+7adPmPLtuff8UxBHvzDMqM3b0ie2vS0pKUlJSkgunnt9+7eWNm/LcuurOugMAAAAAANCP+ngL6H1XAdenvDJJVcvPdy5rDYhXrM6q+demvDxJpuXCcWvy3bbVwFWr8lDdFzN9RnL/vqt8q5Zl/txlffsIA01TU5qbmw7eJM39VAxHg+bm5jQ17fnMlJSUJMle15p9ZAAAAAAAAI4Ifb4FdPtK3kzPTUuvPEDbDampS8qTpLwsZZmS65YuznUdWqzqu0KPKc+uW59Y3Us3PPf8+jyXPZ+ZC6een6ampqx65LECVgUAAAAAAEBn+i4AnjE107ImX7ujK9vCjk/5uI6v1+Rrc235DAAAAAAAANAdxX02ck1talPasuVz0hoIH0BrWLxyRZIVy3Nn3ZR8+OqK9tsTrl6QeZWd9Kuck4VLF+emGb1ZOAAAAAAAAMDRqe9WAFcty1/fdUG+esvizE6S1Wv22ca5NLPb7qU+d95wY+uK3+osuX5Rypd+Mcuvam1a9/18+o4+qxTohpc3bnLmLwAAAAAAwBGqaOKkyV2KcspOm9DXtRyT3vHcPb021i/PuHyv16Xjynpt7GPF+Muuz+cuPWmfq0/mG9d/O6sLUtHRrb6u9qD3a9ev6/Eczzz1aI/HAAAAAAAAOBpNnDR5v2t9twIYjkIbfnBbPvWDQlcBAAAAAAAAh6fvzgAGAAAAAAAAoF8JgAewpsbGQpfAMcznDwAAAAAAoP/ZArrA9j23tzdt27Y1I0eOSnFJSZ/NAZ1pamzMtm1bC10GAAAAAADAMUcAPIA1NDSkoeGFQpcBAAAAAAAA9BNbQAMAAAAAAAAMEAJgAAAAAAAAgAFCAAwAAAAAAAAwQAiAAQAAAAAAAAYIATAAAAAAAADAACEABgAAAAAAABggBMAAAAAAAAAAA8SgQhfAkeeE44/PuPHjMmbM6AwdelySpKHh9WzatDl1G+ry6vbtBa4QAAAAAAAA6IwAmHbFxcU5+5wzU1ZWlqKior3ujRgxPCNGDE95eVlqa2uz9uln09TUVKBKAQAAAAAAgM4IgEnSEv5OmTI5J44eddB2RUVFGT9+fEYMPz5r1jwqBAYAAAAAAIAjSC+fATw9Ny39cuZV9u6o/T/Hsefsc848ZPjb0YmjR2Xi2Wf1XUEAAAAAAABAt/VyAHy0ECJ3dMLxx6esrKzb/caPH5cTjj++DyriyHGA/1Yq52Th0sVZvnRxli9dkJmFKA0AAAAAAID9HKNbQK/MzXNXFrqIdqNHj8lJp5amuKikIPOPGjVivzN/u6KoqChnnX1W6utf6oOq6G1NjY3Ztm1rGhoautR+5mcW57qpSVKfmr3uVGTegitSu/CazF+RZMaCLL9tTqqvX5Z1vV41AAAAAAAA3dE3AfBFC7L8lilJktq7Pp/5d1SnZSXhlalZ+HAunH9FyrImX5u7OtOXXpmaG27MkqrsadP2esaCLJ8/Zc+4qxdl1q0Hm6MTBxijbZ4HLvpyvnpV6d59Vi/KrFtXttZzbaa1Xl618JrcvKL1ReWcLLylJQRrv3aYChn+JsnQ4wYfdt/jjx/Ri5XQl4pLSjJy5Kg0NLzQpfb333pN7m/9b3IvldNy4bj6PNSWCtfUpnZcWSoSATAAAAAAAECB9UEAXJrZZXdn1tzbW8PXT2Xeg20Bb2lmfyj59NxrWoOi6Zl+oGEq52Th/NLcecM1e8LhzxxojlmZecftub9bY7RYd8eNmXVHh/a3XJCHlq1MUpF5t12bsrs+n1l3VLfeW5CZKzqZp4cKGf4mSUnJ4c8/ePDhh8f0v+Ie/K73Vp+aqo6vS1NemaSqs7YAAAAAAAD0lz44A7g+dy5r3V55xeqsSmnKyzvcu70728R27LsyN9/atm1zJ3NUdneMfU3PTbdckdz1dy1hceW0XDhuTb7btrK4alUeqpuS6TNam1cty/y5PV/9C0ed8rLsdWJ0VV1qC1ULAAAAAAAAe+njM4A3pKYuKT90w/1VLcv8hWVZPn9xls9vubSqu9std2OMmZ+5NtNWL2pZ7Zu0hlxTct3SxbmuQ7tVh/Eoh9LU3FjQVcCNjY0ZNOjw5t+1a1cvV0Nfamps7PkgNbWp7RgBV45LWbLPOcEAAAAAAAAUQh8HwONTPq4H3VfcnlltYe2MBVk+f0Fmrljd62NMuPrLuW7qmnxt7r6rg9fka3N7f8vnfb38Qn1BzwFueH1Xjj/MAHj79td6uRr6SlNjY7Zt29pLo+275fO+W0IDAAAAAABQCH0bAM+YmmlZk68dcNXuhtTUtW7RXJVMuPrKTEvrSsIZC7Jw/PLMb1uRW1Ob2rqkOjnwucH7zd+FMSrn5M+vSu68YZ+gd8Xy3PmhL+bDV1fk/tb+E65ekHc+eHvrFtFzsvCWK1Lb3VXJndi8eVM2b97Us0F64ITjj887LpqaoqKibvVrbm7OM888k+2vCoGPKVWr8lDdFe3/3aa8LGV1takucFkAAAAAAAD0SQBcmtm3LM7sJEl97rzhxoOsoK3Oku+tad+iufau72dVLmi5tWJ1apd+McuvamvbMta6rse/XRpj5pwrUpZ0qDlJ3ffz6euXZcn1i1LesX/d9/PpO7o+/dHi1e3bU1tbm/Hjx3er34YNdcLfAWzmZxbnuqktP0+7ZXFmt/53sS7VWXL9oty0tG1r9TX52tzunO0NAAAAAABAXymaOGlyc1calp02oa9roYCKi4szZcrknDh6VJfab968Jb9a81iampr6tjAGtNr1PY+Nn3nq0Z4XAgAAAAAAcBSaOGnyfteK+78MjkRNTU1Zs+bR1NTUprn5wH8T0NzcnJqa2qx55FHhLwAAAAAAABxh+vYMYI4qTU1Nefqptamtqc24stKMGTsmQ4celyRpaHg9mzZuSl1tfV7dvr3AlQIAAAAAAACdEQCzn1e3b8/atb9N1v620KUAAAAAAAAA3WALaAAAAACAAag5Bz7qDQAYuATAAADAgPWZ8t9t/3nKOQsy5ZwFBawGONa0fe/47gH6Wsegt7nD/4pSVMCqAIBCsQU0AAAwoHQMffe15unbkyTF085J06qn+6sk4BjQ8bvn1pr/2Oue7x6grxxsha/wFwCOXVYAAwAAR60/OG/Mftc6Bi8df24LYJIcMIC54dt/0HvFAce8NU/ffsjvHt87QG/oGPYWtf7vYGwNDQADW9HESZO79P/ty06b0Ne1AMeY2vXrejzGM0892vNCAICj1h+cNyb/9NimQpcBHGN89wD9zXbOAMCBTJw0eb9rVgADAABHLQEMUAi+e4D+JvwFALpDAAwAANDqkzf9tyTJV8/4SoErAY5UnW09/8H/9js9GtN3D9DfbAENAAObLaCBgrEFNAAAAAAAwOGzBTQAAHBMmDNuUOaMG7TXtf/yO/6oFehb+373+N4B+lpz6//2vQYAHNsGHboJAADA0WVZ3e5Or+8bxvzNT3q+IwlAm86+e3zvAH3pQGcD7xsCO0MYAI4tAmAAAOCYIHQB+lt3vnfePObj+c2mb/ZhNcCxorthb3OaBcQAMMDYAhoAAACgwIS/QKEIfwFg4BEAAwAAABxB/nXZ2EKXAAAAHMUEwAAAAABHkA/O2VjoEgAAgKOYABgAADiq/N5/vqDQJQDHIN89QH9rTnOhSwAAjlIC4AIrKi7OoEGDC10G9KriYmfHAAB94/f+8wX59//7cKHLAADoU81pdjYvAHDYBhW6gGNdcZLBQwblpJNPLnQp0Gu2btmS119vSFNTU6FLAQAGGOEvUCi+f4D+JPwFAHrCCuACa2xqyqhRowtdBvSqUSeeKPwFAAAAAAAoAAEwAAAAwCHM+Y7VeAAAwNFBAAwAABx15nynqN/DmD/+g2/263zAkae/v3v++A++6bsHjnHNrf/r7zkBgKNb0cRJk7v0/9HLTpvQ17Ucs0rHlRW6BOh19XW1h2xTu35dj+d55qlHezwGAAAAAADA0WjipMn7XbMCGAAAAAAAAGCAEAADAAAAAAAADBBHQAA8PTct/XLmVRa6joM5GmqEnikpKc6gQYO69a+k5Aj4CgEAAAAAAKDdoEIXQF8alTOnnJKdT61N7c5C18KRbtjQYXnbW85JUVFRl9o3NTXl8SefzvbXdvRxZQAAAAAAAHSVABhIkmx/7bX89rmqTDxzQpfaP/t8lfAXACiIz5T/bvvPt9b8RwErAY4lbd89vneA/tSc5vafi9K1P9oHAOiDAHh6blp6baa1vVy9KLNuXZlUzsnCW65IWZKkPnfecGOWVHXS/YDtpuempVemZuHDuXD+FSnLmnxt7u25f7+5r0zNXfWZfdWUJEntXZ/P/A2zsnx+h9d3VB9irk6eI/WpOcAzrlp4TW5esXf9tR2v9dionDnltJzY4cqWdY/l2S1t9zqu8m17vT6Z0NLnxEnnZVy25bk1Vdk87NS8ZdIpGZYkaUid1cF08PLGTTl++PCMG3fKQdvV1r2Qlzdu7qeqAAA6J4QB+lvb985nyn/XdxDQ59rCX8EvANBdvRwAV2TebddmWlvom4rM+8y0TMj0fKQ1FJ2/IsmMBVl+y4LUdBbgHrRdaWZ/KPn03Guy7oA1lGZ22d2ZNff21jD2i1m+elGH17My847bc/9B52p5jrK7Pp9Zd1SnLVju+Izt9yrnZOEtCzJzxb7P0pu25tk1W/e8HHZq3jKpMqO3VOXAEVxDan+zPsP2DYcnnZKGdY/liS1JTqzM1EmV2bnmYONwrKmq2ZDhw4dm1KiRnd7fsnVb1tfU9nNVAAB7CF2AQuj43eN7COgPgl8A4HAV9+poldNy4bj63LlsZeuF6iy5dVnWzZiaaVmTlW0rYleszqpMyfQZ+/Q/ZLv63Hn7soOEv61t2uavqkvtfq9LU155iLkqp+XCcWvy3baVwvs9Y4d7VavyUF2HGquWZf7c3lz922ZUzpxyXqZOOS9TJ52SYTkuw4Z1c4gTR+XEbMvmLa2vt2zNlozM6BMP2otjTHNzc9Y+uy4NOxv2u9ewsyHPPLsuzc3NnfQEAAAAAACg0Hp3BXB5WcpSn5qqTu7V1WZPnLohNXVJeWdjdLVdbzjQXOVlrdtCd6K8LGWZkuuWLs51HS6v6qsak7RtAT20fm1W1zekbZvnw9LQkD07PjdkZ0PS3RyZgW/37t35zdrnct5bz0lJSUmSpLGxMb955tns3r27wNUBAAAAAABwIL0bANfUpvZA0em4slQkrat3x6d83AHG6Gq73nCguQ72HEnS6fnDfah15e5z9fuvyOy2oUMzLGkNgYdm2NCeD8nAtLNhZ5559vlMOvusJMna3z6fnZ2sCgYAAAAAAODI0btbQLduh3zdZ6a3XqjIvM/MyYTW7ZU/fHVFy+V9t19u09V2veFgc1XVpbbj1tMzpmZae7/lubOuQ78kE65ekHmVrS8q52Th0sW5ad/trXuioSE7O275fOKo7Nm1uSE7G/YEucNKT8neOzp3CHlbt3weVzq0wzgdtoSGfWze0nLe7/rq2mzZuq3Q5QAAAAAAAHAIvbsCONVZcv2ilC+9NsuXXttyafWiLMnK3HzDuCy85YtZflWS1OfOG27sZAVtV9v1hoPNtTI3L5ya5fMXZ/n8JKvXdNjiue0Z2/olqft+Pn1HnxTZYucLea5+ZN4y6byMS5Kt27Ins21Ibf22TJ1wXqZOSHbWv5gtGdl6b2tq60/JWyacl6kTtuW5NVV59qmhecukszO1tKVv3VNrs7kPS+fot6G2vtAlAAD0iyl/9qGs+d/fK3QZwDHGdw8AANDbiiZOmtzclYZlp03o61qOWaXjDrbdNByd6utqD9mmdv26Hs/zzFOP9ngMAGBgqJwyIlVrXuvRGFP+7ENJIowB+pUQGCiE5jSnKEWFLgMA6KGJkybvd62XVwADAAAURk/D30TwCxSG7x6gEIS/ADBw9e4ZwAAAAEeof102Nv+6bGyhywCOMb53gP7W3Po/AODYJQAGAAAA6ANt4a8QGAAA6E8CYAAA4JjwwTkb88E5GwUxQL9p+94B6E9Frf+zChgAjl0CYAAA4JgijAH6m+8doBCc8QsAxy4B8BFg86ZNhS4BetWWzZtTXOzrBQAAAAAAoL8NKnQBJK+/3pD6utpClwG9pri4KE1NthkCAAauz12wNF96eG6hywCOIZ+7YGmS+O4B+lVzmq0kBoCjkAAY6HXCXwBgoBPAAP3N9w5QCMJfADg62aMVAAAAAAAAYIAQAAMAAAAAAAAMEAJgAAAAAAAAgAHCGcAFNnTo0IwcOSrFJSWFLgV6TVNjY7Zt25qGhoZClwIAAAAAAHBMsQK4wIS/DETFJSUZOXJUocsAAAAAAAA45giAC0z4y0Dlsw0AAAAAAND/BMAAAAAAAAAAA4QAGAAAAAAAAGCAGFToAqBvnZorb/yzvP+U1pcv3pcvffnebChoTUe3M8+oTHNzc557fn2hSwEAAAAAAGAfR/gK4Om5aemXM6+y0HVwtJr6iT/L+3NfvnT95/Kp6/93fpj35HOfOK/QZR3Vxo4+MWNOHFXoMgAAAAAAAOjEER4AQ0+clylvTR67t23F7wu5+94nk7dekivHFbg0AAAAAAAA6AN9sAX09Ny09NpMa3u5elFm3boyqZyThbdckbIkSX3uvOHGLKlqa39lau6qz+yrpiRJau/6fObfkcy7rWWcabcszuysydfm3p77DzVOp69bf174cC6cf0XK9hmrduE1uXlF778TFNjb35Lz8nJ+WN/hWv1LeSHnprQ0SV2hCgMAAAAAAIC+0csBcEVLaNsW+qYi8z4zLRMyPR9pDVrnr0gyY0GW37IgNXNvz/1JktLMLrs7s+be3hoUz8rMO27PkusXpXzfUPeg4xxMaWZ/KPn03GuyrncfutedecaEQ26xu2nT5jy7zhms3Vb3Ul5McsoppyZ5odDVHBXOPKMyY0ef2P66pKQkJSUluXDq+e3XXt64Kc+tqy5EeQAAAAAAAHTQu1tAV07LhePqc+eyla0XqrPk1mVZN2NqpmVNVratsl2xOqsyJdNntHXs0KeqLrUpTXllJ+MfcpyDqc+dty/bO/ytWpb5c4/A1b9NTWluPvi/pjQXukqOEc3NzWlqamr/16bjtWYfRwAAAAAAgCNC764ALi9LWepTU9XJvbra7FkfuCE1dUn54czRW+McwZ5dtz6xupcjxHPPr89z2fN5vHDq+WlqasqqRx4rYFUAAAAAAAB0pndXANfUpvZA98aVpaL9xfiUjzvMOXprHI5N407OKUlefNH2zwAAAAAAAAw8vRsAV63KQ3VTct1nprdeqMi8z8zJhNatmj98dWt0u+9WzgdVmvK2Jb4HHWdDaur2tJ1w9ZWZdqihK+dk4dLFualLW0hz1HnkiTyWk1Ja2uFa6ck5NS+nvr5gVQEAAAAAAECf6d0toFOdJdcvSvnSa7N86bUtl1YvypKszM03jMvCW76Y5VclSX3uvOHG3H/I8VbmO3ddma/OX5zl89fka3NvP8g41VnyvTVZPn9xls9Pau/6flblgt59PI4yj2XN43Pzh5demvGP3JsNOTVXXnpu8vjS3F1X6NqOXi9v3OTMXwAAAAAAgCNU0cRJk7sU5ZSdNqGvazkmlY4rK3QJA9ypufLGP8v7T2l9+eJ9+dKX782GgtZ07KivO+Cm8EmS2vXrejzHM0892uMxAAAAAAAAjkYTJ03e71ovrwCGI80LufvLn8vdhS4DAAAAAAAA+kHvngEMAAAAAAAAQMEIgAusqbGx0CVAn/DZBgAAAAAA6H8C4ALbtm2roIwBp6mxMdu2bS10GQAAAAAAAMccZwAXWENDQxoaXih0GQAAAAAAAMAAYAUwAAAAAAAAwAAhAAYAAAAAAAAYIATAAAAAAAAAAAOEM4ALbOjQoRk5clSKS0oKXQr0mqbGxmzbtjUNDQ2FLgUAAAAAAOCYYgVwgQl/GYiKS0oycuSoQpcBAAAAAABwzBEAF5jwl4HKZxsAAAAAAKD/CYABAAAAAAAABggBMAAAAAAAAMAAMajQBXTN9Ny09MrU3HBjllQdCeNwtJj6iS/lD9/a4cLjS/Oprz9WsHoGgjPPqExzc3Oee359oUsBAAAAAABgH0fhCuDpuWnplzOvct+fezIOA9N5mXLyffnS9Z/Lp67/XD51/dI89ta5+btPnFfowo5qY0efmDEnjip0GQAAAAAAAHTiKFkB3NHK3Dx35RE0Dkeux7Loy3u/vufeS3LepW/J1DyW1YUqCwAAAAAAAPpILwfArVss31Wf2VdNSZLU3vX5zL+j+iDtr8201lerFl6Tm1d0fi+pT03HOW74u2RBy/1ptyzO7KzJ1+benvsPMcf+49yYJVUHqHvDrCyf38lzVM7JwluuSO1e9QIAAAAAAAAUVh+sAC7N7LK7M2vu7a1B6azMvKOzYLYi8267NmV3fT6z7qhubbsgM1fcnvv3vdca1u6tOkuuX5Tyg57p25VxDlT3F7N89aIuPEfvO/OMCYfcYnfTps15dp0zWLvn1Ex520nJi0+kvtClHEXOPKMyY0ef2P66pKQkJSUluXDq+e3XXt64Kc+tO9AfegAAAAAAANBf+uAM4Prcuax1a+WqutSmNOWVnTSrnJYLx63Jd9tW1VatykN1UzJ9Rif3Dle3xtm37oM8R9WyzJ/bh6t/m5rS3Hzwf01p7qPJB67xl12d95+SPHbvvdlQ6GKOIs3NzWlqamr/16bjtWYfRwAAAAAAgCNC4c4ALi9LWabkuqWLc12Hy6va7/XWHEefZ9etT6zu7V3jLs0nLj0pL9z7v7PokUIXc3R57vn1eS57Po8XTj0/TU1NWfXIYwWsCgAAAAAAgM4ULgBOkgOd21tZm9reiG5remkcjnLn5drPvienPr40n/rBC4UuBgAAAAAAAPpMH2wB3UUrlufOuin58NUV7ZcmXL0g8yrTuuVy63bQSTJjaqYdcKDSlJcf4Fa3xumGyjlZuHRxbppx6KYU2nm59ra5Oe/xpfnU161YBQAAAAAAYGAr4Arg6iy5flHKl34xy69qvVT3/Xz6jiRZmZsXTs3y+YuzfH6S1Wtatobez8p8564r89X5i7N8fmeribs6DgOT8LcvvLxxkzN/AQAAAAAAjlBFEydN7lKUU3bahL6u5ZhUOs4W1X1m3KX5wmffk1M7ufXCvf87f2U76D5XX1d70Pu169f1eI5nnnq0x2MAAAAAAAAcjSZOmrzftQKfAQx9qO7e/NX19xa6CgAAAAAAAOg3hTsDGAAAAAAAAIBeJQAusKbGxkKXAH3CZxsAAAAAAKD/CYALbNu2rYIyBpymxsZs27a10GUAAAAAAAAcc5wBXGANDQ1paHih0GUAAAAAAAAAA4AVwAAAAAAAAAADhAAYAAAAAAAAYIAQAAMAAAAAAAAMEAJgAAAAAAAAgAFiUKELIBk6dGhGjhyV4pKSw+rf1NiYbdu2pqGhoZcrAwAAAAAAAI4mVgAfAXoS/iZJcUlJRo4c1XsFAQAAAAAAAEclAfARoCfhb2+OAQAAAAAAABzdBMAAAAAAAAAAA4QA+ChVPn5coUsAAAAAAAAAjjBHeAA8PTct/XLmVR7o9bHp4gsvyH+ac2UuvvCCQpcCAAAAAAAAHEEGFbqA7lmZm+euLHQRBXXxhRfknYJfAAAAAAAAoBN9EABPz01Lr820tperF2XWrSuTyjlZeMsVKUuS1OfOG27Mkqq29lem5q76zL5qSpKk9q7PZ/4dybzbWsaZdsvizM6afG3u6kxfemVq2vruNWbHcVvH3HeOTvt1UsuBXs9YkOXzp+x51H2erXbhNbl5Ra+/oe06hr8PPPRwfvHQw303GQAAAAAAAHDU6eUtoCtaQtvVizJr7jWZNffzuTPjMiHTc1NrQDpr7jWZtbA+s29ZkJnt/Uozu2x1y70bvp9cNSszU50l1y/KqtTnzhuuyay5t+f+fedacEVy1+db51qUVV2q8VC1HEDlnCycX9paS3fm677OzvcV/gIAAAAAAACH0rsBcOW0XDiuPncua9umuTpLbl2WdTOmZlrWZGXb6tgVq7MqUzJ9RlvHDn2q6lKb0pRXHmKuGbMye9yafPeO6u7VeMhaDqY05eVtP6/Mzbe21bws8+f2zurfzs73Ff4CAAAAAAAAXdG7W0CXl6Us9amp6uReXW32RLUbUlOXlHfSrFv2GvNw+3Wxlqplmb+wLMvnL87y+S2XVvXhls8dz/kV/gIAAAAAAABd0bsBcE1tajucyLuXcWWpSLIuSTI+5fvvctx9e415uP26UcuK2zOrLfCdsSDL5y/IzBX7bk3dM20B7zs7rPpNhL8AAAAAAADAofXuFtBVq/JQ3ZRc95nprRcqMu8zczKhdZvlD19d0XJ5322YD6rjtssd7Lt184ypmdZ+c0Nq6vb0m3D1lXvuHbSWg/SbsSAL2/okLWF320riyjlZuHRxburSNtKH9ouHHs4DHcJe4S8AAAAAAADQFb27AjjVWXL9opQvvTbLl17bcmn1oizJytx8w7gsvOWLWX5VktTnzhtu7MLK2ZX5zl1X5qvzF2f5/DX52tzVe927eeHUPVsyr16TVR3r+N6a9nu1d30/q3LBnn4HrOUg/VasTu3Stj57+nV79XEXdQx8hb8AAAAAAABAVxRNnDS5uSsNy06b0Ne19ND03LT0ytTccGOWVBW6lu4pHXeAbbO7qb6utlfGgf5Su77nf0LxzFOP9rwQAAAAAACAo9DESZP3u9a7W0D3s5mfWZCZbS9mTM20uofzQFUBCwIAAAAAAAAooF7eArq/Tcl1SxfnuiTJmnxt7rI+25K5LzU1Nqa4pKTHYwAAAAAAAADHtqM6AL7/1mu6cI7wkW/btq0ZOXLUYYfATY2N2bZta+8WBQAAAAAAABx1juoAeKBoaGhIQ8MLhS4DAAAAAAAAOMod1WcAAwAAAAAAALCHABgAAAAAAABggBAAAwAAAAAAAAwQAmAAAAAAAACAAUIADAAAAAAAADBADCp0ASRDhw7NyJGjUlxSclj9mxobs23b1jQ0NPRyZQAAAAAAAMDRxArgI0BPwt8kKS4pyciRo3qvIAAAAAAAAOCoJAA+AvQk/O3NMQAAAAAAAICjmwAYAAAAAAAAYIAQAAMAAAAAAAAMEAJgAAAAAAAAgAFiUO8ONz03Lb0yNXfVZ/ZVU5IktXd9PvPvqN5zb+HDuXD+FSnLmnxt7u25P9Nz09JrM611hFULr8nNK1pfzFiQ5fOn7Bl+9aLMunVl61id9dl3jnV5NkPz2A03ZklVa+PKOVl4S1m+e6i5AQAAAAAAAI4yfbACuDSzy1Zn1txrMmvhmpRd9anMq+xw70PJX8+9JrPm3p77U5F5t12bsrs+39L+hu+nbP6CzExagtr5pbnzhmta7s1dlFVJcrA++83x/8u/rS7N7DnT2+9OuOiClK1effC5AQAAAAAAAI5CfRAA1+fOZStbflyxOqtSmvLyDvduX5Z1bS8rp+XCcWvy3TuqW15XrcpDdVMyfUZbg459V+bmW1d2oc/ec9z/yzXJ1KmtwW5F3jmtNKt+2ZVxAAAAAAAAAI4uvbwF9L42pKYuKT/Q7fKylGVKrlu6ONd1uLwqSaqWZf7CsiyfvzjL57deX3hNbs5B+nRmxfLc+aEvZvqM5P6aabkw389fr0gyo5vjAAAAAAAAABzh+jgAHp/ycYdq03YWcCdW3J5Ze50HvCAzFx6iz36q88Cq+nz1HdMzYfwFyaq/27MCuVvjAAAAAAAAABzZ+mAL6A5mTM20rMnKFQe4v2J57qybkg9fXdF+acLVC1rODJ6xIAs7XE9NbWrralN9sD4HsO7Bh1M79cr8+bTkoQerDz03AAAAAAAAwFGoD1YAl2b2LYszO0lSnztvuPEgK2yrs+T6RSlf+sUsv6r1Ut338+k7klStTm3H661jrUuy7kB9DqRqWb67+opcV/b9PFDVhbkBAAAAAAAAjkJFEydNbu5Kw7LTJnSh1fTctPTK1NxwY5ZU9aywY0npuLJeGae+rrZXxoH+Urt+3aEbHcIzTz3a80IAAAAAAACOQhMnTd7vWt9uAQ0AAAAAAABAvxEAAwAAAAAAAAwQvXwG8MrcPHdl7w55DGhqbExxSUmPxwAAAAAAAACObVYAHwG2bdvaowC3qbEx27Zt7b2CAAAAAAAAgKNSL68A5nA0NDSkoeGFQpcBAAAAAAAAHOV6eQXw9Ny09MuZV9lb7XqrHwAAAAAAAMDAZwtoAAAAAAAAgAFCAAwAAAAAAAAwQPThGcDTc9PSazOtw5VVC6/JzSs6XLhoQZbfMiVJUnvX5zP/jupO++7Xr82MBVk+f8qe16sXZdatK5PKOVl4yxWpPVA/AAAAAAAAgAGoDwPglbl57so9LyvnZOEtCzJzxe25P0lSmtlld2fW3Ntbg9xPZd6DN2ZJVUXm3XZtyu76fGbdUd1Jvw7jzS/NnTdckyVVSTI9N32m754GAAAAAAAA4EjXhwFwsv8q4PqUVyapavn5zmWtAfGK1Vk1/9qUlyfJtFw4bk2+27YauGpVHqr7YqbPSO7fbzVvaUufqiRZmZtvbb1ctSzz5y7rkycCAAAAAAAAOFL1+RbQ7St5Mz03Lb3yAG03pKYuKU+S8rKUZUquW7o413VosWrfLlXLMn9hWZbPX5zl81vb2PIZAAAAAAAAOIb1XQA8Y2qmZU2+1n6u78GMT/m4jq/X5Gtz99nyuTMrbs+stsB3xoIsn9/JVtEAAAAAAAAAx4jiPhu5pja1KW3Z8jlpDYQPoDUsXrkiyYrlubNuSj58dUX77QlXL8i8yn37LMjCDm1SU5vautpUJy3nAy9dnJtm9M6jAAAAAAAAABwN+m4FcNWy/PVdF+SrtyzO7CRZvWafbZxLM7vtXupz5w03tq7crc6S6xelfOkXs/yq1qZ138+n79hn/BWrU9uxTesY6/rkYQAAAAAAAACOfEUTJ01u7krDstMm9HUtwDGmdn3P/2Tjmace7XkhAAAAAAAAR6GJkybvd63vtoAGAAAAAAAAoF8JgAEAAAAAAAAGCAEwAAAAAAAAwAAhAAYAAAAAAAAYIATAAAAAAAAAAAOEABgAAAAAAABggBAAAwAAAAAAAAwQAmAAAAAAAACAAWJQoQsgGTp0aEaOHJXikpLD6t/U2Jht27amoaGhlysDAAAAAAAAjiZWAB8BehL+JklxSUlGjhzVewUBAAAAAAAARyUB8BGgJ+Fvb44BAAAAAAAAHN36KQCenpuWfjnzKvtnNgAAAAAAAIBjkRXAAAAAAAAAAAOEABgAAAAAAABggOj9AHjGgixfunjPv89M33Pvoj33Fl5dsed65ZwsbO/TtlV0Rebdtne7mZ/Z+/WEq7+89/gAAAAAAAAAx7DeDYAr52Th/NLcecM1mTX3msyauyir2m+WZnbZ6pbrC9ek7KpZmZkkmZ6bbrkitQtb+yysz+xbFmRmqvPAqvqUlY1v7T8906fWJ2XTMqH1SkVZaVb9cmWvPgIAAAAAAADA0aoPtoAuTXl5288rc/OtbQFtfe5c1vrzitVZldKUVyaZMTXTsiYrV6TDvSmZPiNZt6E+KRvXEvjOmJppq+/OX9eW5Z2VSVsgXFPT+08AAAAAAAAAcDTq3QC4alnmL1yTafP3bAF904wu9KurTXX7iw2pqWv9ccXqrBpXlookM98xJat+uTLrNiQXXlSRVI5LWd3DeaCqV58AAAAAAAAA4Kg1qNdHXHF7ZrWt5p2xIMvnL8jMFasP3qc15F2XJBmf8nFtN1Zm5eprM33G9GTqmqy8NUlWp3bprMzckGTV8tY+AAAAAAAAAPTuCuAZC7Lw6oo9r2tqU7vX6t5OtG75/OG2fvtsCV1dW5+yD12ZaatX5/4kLaHwlHz4Q6Wp3XDQkQEAAAAAAACOKb27AnjF6tQu/WKWX9V2oT533nBj1mX6QTqtzM03jMvCW9r6tfS5v/XuugcfTq66Iqu+t7K9x/2/XJPr5iffXdHJcAAAAAAAAADHqKKJkyY3d6Vh2WkT+rqWY1bpuLJeGae+rrZXxoH+Uru+55u4P/PUoz0vBAAAAAAA4Cg0cdLk/a717hbQAAAAAAAAABSMABgAAAAAAABggBAAHwGaGhuPiDEAAAAAAACAo5sA+AiwbdvWHgW4TY2N2bZta+8VBAAA0FzoAgAA+sEHPlDoCgCg1w0qdAEkDQ0NaWh4odBlAAAA7FFU6AIAAPrBv/1boSsAgF53BKwAnp6bln458yqPtbkBAAAOg5W5AAAAwEEcAQFwTwlxAQCAY4iVuQAAAMBBDIAAGAAAAAAAAICkL84AnrEgy+dP2fN69aLMunVlWlbqXptprZdXLbwmN6/obICDtdv7XlZ/N3eWfTjTkky7ZXFmZ02+Nvf23N+dMVKfmrYfK+dk4S1XpPaAtQEAAAAAAAAcuXo3AK6ck4XzS3PnDddkSVWSTM9Nn0mSisy77dqU3fX5zLqjujVoXZCZK27P/XsNcLB2LfemtQfKFZn3mWl54PpFKV96ZWpuuLF1zkOP0X4v03PT0it79S0AAAAAAAAAKJQ+2AK6NOXlbT+vzM23rkwqp+XCcWvy3TuqWy5XrcpDdVMyfcY+XQ/WrnJaLhxXnzuXrWxtXJ0lty7Lun2nP+QYHe7tq2pZ5s+1+hcAAAAAAAA4OvXuCuCqZZm/sCzL5y/O8vktl1YtvCY3pyxlmZLrli7OdR2ar9q3f/lB2pWXpSz1qak6RA2HHAMAAAAAAABgYOr9M4BX3J5ZbStoZyzI8vkLMnNhkvbzeQ/lAO0qa1Pb5fi2N8YAAAAAAAAAOLr07hbQMxZk4dUVe17X1Ka2rjbVK5bnzrop+XCHexOuXpB5lfv0P1i71q2cr/vM9NY7FZn3mTmZkGSvbacPOkZdatNh6+kZUzOt4/yVc7Jw6eLctO/W1AAAAAAAAABHgd5dAbxidWqXfjHLr2q7UJ87b7gx65Ksu35Ryjveq/t+Pn3HvgNUZ8kB27XduzbLl17bcm/1oizJynznrivz1fmLs3x+y8rfA4+xMjcvnLpni+rVa/bfhhoAAAAAAADgKFU0cdLk5q40LDttQl/XAhxjatev6/EYzzz1aM8LAQAAAAAAOApNnDR5v2u9uwU0AAAAAAAAAAUjAAYAAAAAAAAYIATAAAAAAAAAAAOEABgAAAAAAABggBAAAwAAAAAAAAwQAmAAAAAAAACAAUIADAAAAAAAADBAdDkAfmXr1j4sAzjW+E4BAAAAAADofYO62vDVbVvy6rYtfVkLAAAAAAAAAD1gC2gAAAAAAACAAUIADAAAAAAAADBACIABAAAAAAAABogunwEMSVJcXJzzzz8vSfKrXz2Wpqamw7oOAAAAAAAA9D4rgOmW888/Lzf+1z/Pjf/1zzN58tsO+zoAAAAAAADQ+wTAAAAAAAAAAANE0cRJk5sLXQRHj+Li4vaVvI8++uu9tnruznXoLc889WihSwAAAAAAACiIiZMm73dNAAwc1QTAAAAAAADAsaqzANgW0AAAAAAAAAADhAAYAAAAAAAAYIAQAAMAAAAAAAAMEAJgAAAAAAAAgAFCAAwAAAAAAAAwQAiAAQAAAAAAAAaIQf05WVFRUU45+aQMHnJc+7Vt27bmlVde7c8y4Ch1Us68qDw7H1uT2h3H4vwAAAAAAAAcymEFwMXFRamoqEhJSUmqqtbn3DdPyssvv5z6F148aL9Jbz4n8//kj1O1vrr92umnT8h//pM/O5wygILpShgsMAYAAAAAAOhv3Q6AzzhjQi6eflG2bHslQwYPzh//0SeyZcuWfO32vz1k3+OHj8gjax7NP359cfu1v/+/C/PVv/5yvnrb32TDhtrulgMUxMt59sGXC10EAAAAAAAA++hWADyhsjJvP//8/PRnK/LVW29Oktxxx3ezu3FXzjjz9Dz5xG+6XUBzc3OefPKpjCstFQBDl52UMy86O6M6XNn621/k2Y0jUjb5/Jy4+Vd5ovq1lhtjJ+WC8Tvy5KPrs3Offi192sYrz87fbsqJZ5VnaDbl+QefyuaDzt9hde/YSbngrDF7bm+uSv2wyoxKMuq8i1N6yPEAAAAAAADoDd0KgF/b8VpGnHB83j1zRpqbm1NUVJRHf/3rXHThtLyyre/O8S07bUKfjQ1Hitr167rRep8VuMNPy1vOm5TRG5/K5s07Ujp6bIZVv5adSUaPGZOGzdXZmREpm3x2htb+Kg9Xv7Z3n5ZBUjp+U5588BfZ2Z3Ch5+Wt5w1LPWP/aJ1q+eTcubZSe2jazPMFtAAAAAAAAD9qlsB8O7du3NaRUWaGhvzL/9yZ4qKizLj4un5yU/uy4baukP2r6ury0c+MicL/+a2NO7enSRZt67qkP26F4zBsWLfVcA7Mmx4srm6JlvLyjN6+PrU7jgpo0fvyJbHWgLfE4dtSl3byuAdG7Nl5/kZPTbZvLGlf/0z67sX/rYbnmHDk+xIkpfz7NqW+gAAAAAAAOhf3QqAd+3alb//f/+Yurr6HH/88SkpLs62V17pcv8NtXX59J/fmEX/529SXV3dfv3tUybnwV+u6k4pcIxrCX/bV/O2bsnc4uVs3nx2xo0dkdodYzNq56bWbZqHZ2jG5PSLLs7pHUba2tNSdqzPE78dngvOujgXnNU6ZvvW0gAAAAAAAPSnbgXAr766Pa++uj1Jsn379sOe9LM3fC4jR45qf73rjdfz4ksvH7gDsLexYzMqm/J822refWzetCmnjx+bsmFt2z+36aOzeDc+lYfbAt+xk3LBWZMyeqMEGAAAAAAAoL8VF2LSV155NTU1Ne3/XnjxpTQ3NxeiFDg67diRhgxr2XY5aQ2EO9i4MVuHlad0dIctnzdWp37nmIyrGNHebFjFpJQNT8+MnZS3dBgzO3akYeeO1tB5+J4aAQAAAAAA6HPdWgEMHCF2rM9ztWNy7nkXpzRJNm/aZyvnlm2gR2Vjh9W+r6X20bUZdtH5uaCs9dLOmjxZnZ7ZuDENHcfMjtQ/tiY7k9TWlufcsy7OBWf10cpjAAAAAAAA9lI0cdJkS29hwBmRssnnZ9iGgX8W7zNPPVroEgAAAAAAAApi4qTJ+12zAhgGpNdS++gvCl0EAAAAAAAA/awgZwADAAAAAAAA0PsEwAAAAAAAAAADhAAYAAAAAAAAYIAQAAMAAAAAAAAMEAJgAAAAAAAAgAFCAAwAAAAAAAAwQAzqSqOhw4Zn1NixKSku6dNiGpsas3XjxjTs3KGWbtYCPeXzDAAAAAAAcPTr0grg/giFkqSkuCSjxo5Vy2HUAj3l8wwAAAAAAHD061IA3B+hUFfnUgv0DZ9nAAAAAACAo58zgAEAAAAAAAAGiC6dAdwTp5w8NmPHjskzzzyXXbt39/V0QD+YUFmR4cOH7XVt1xu788yzzxWoIgAAAAAAAJI+DoAnnX1W/vgTH0tRUVFqampz29/+fZqamvpyyvzuJTOzctXD2b79tT6dB45lV172vkyorNjr2rZXXs1f/o//VaCKAAAAAAAASPo4AD7vreemqKgoSVJeXpaxY0bnpZc39uWUefuUyZk2dUoW/eM38/LGTX061+EYPGhQysvHp7i4KGluTnNz0pykubklGG9uas6GuvrstlqaI0DZuNKcPuG0/a6/6U0n7HdtyJDBmfHOC/e7Xltbn+er1vdJfQAAAAAAAOytTwPgdVXVuXDa25MkW7Zuy5atW/tyuhQXF2fsmNEpKSnOdfP/KH//j9/O+pqaPp2zO04aOzZ/9IcfzcknjT1ouyd+83T+4Z++3U9VwYFNPOv0fPDy93ep7bChQzP7g5fvd/3+XzwoAAYAAAAAAOgnfRoAr3rkV9m+47WcfNLYrPnVr7NrV9+uah194qiUlBQnSUYMH5H5f/KJLF6yNE/85uk+nbcrzj7rjPzBxz6SYUOHZtPmLdm8ZUuKmouS4qIUFSVFSY4//vicfNLYFBcXF7pcSJKsW1edH/zoJz0a40j6IwwAAAAAAICBrkcBcFFRUX7vdy9J5WnleeRXv84vV6/Z635zc3Oe/M3aPJm1PSqyq04au/fK2sGDBuX/u+Y/Zdnyf8sDD63qlxr2VVRUlIsvmpYPffDyFBUV5bHHn8y3l34vb7zxxn5t3zPznfng5e9PXV19ASqF/VVV16SquibnvfXcTreCPpj6F17MQ6se6aPKAAAAAAAA6EyPAuALzj8vv/s7706STDzzjNTU1KbuhRd7o67DcvJJY/a7VlRUlA9/6IqcOOpNuedHP0lzc3O/1VNSUpzZV34g0y+amiT54b335Uc/vi/Nzc0pKSnJpLPPSvWGurzyyitJWs5bTZIN9S/0W43QFWeeMSEzpr+jW30ef/IpATAAAAAAAEA/61EAfPwJI/Z6PWLEiAO03NvMiy/KtAvOz/r1G/K97/8gu3f3ztbQJx3kbN33XjIzo0aNyh3fXZ7GxsZeme9gRowYnj+c95GcecaE7Nq9O9++Y1keffzJ9vuXXvKuvP/SS7Jp85b8j1tuS3Nzc8pKT02S1NYKgDky/eRnK7J+/YaDtjnppDG54rLf7aeKAAAAAAAA6KhHAfCqh3+Vt09+W8aXjcujjz+ZZ59ft9f9kpLinHLySdm8eWsaXn89SVI27tTMuvKy1p9Ls6G+PisfWt2TMtqdNHb/FcAdXTDlvLzpTcfn69+8Iw0Nr/fKnJ055ZST88d/OC9jRp+YLVu35R//6dvZsM+2zq+3bgHdthX04MGDcuopJ+eNN97Ixk2b+qw26Imamtr8+snfHLRNZUV5P1UDAAAAAADAvnoUAL/22o7cevv/yeDBg7Jr196reAcNGpT/8iefyGnl5dn+2o7c/rd/n5c3bsqQIUP2anfccXu/7omTxx54BXCbiWeekT/7kz/Kon9cnG2vvNprc7d58zkT8/GP/n6GHndc1lVV5+vfuiOvvrp9v3Y/+/nKPPf8+rz40ktpbm7OqaecnKKiotS98GK/blMNh2PunA+m9NRT8vVvfievvPJKrvvTP87Ohp1Z9I/fKnRpAAAAAAAAx7Ti3hhk3/A3SSory3NaectKwONHDM8FU85LklStr8kDD63Krt2789vnns+Dv3y4N0rI4EGDcuKJI7vUdlzpKbn+v/znnHrKyb0yd5u3nfvm/NEfzsvQ447LL1evyd/+/Tc6DX+TpLm5OdU1G/L66y0rgE+vPC1JUmf7Z44Cp558cioryjN4UEmS5LSK8Rk/blyBqwIAAAAAAOCwVwCPGX1iJpxWkWefX5et217Z7/6mjZuze/fuDBrUMkVd/YtJWoLP737v+1m2/N96daXrobZ/3teokW/KdX/6x/mHxd/Os8+tO3SHrtRw0pgUFRXltdd25F//7YddOtu4qKgo77xwaq664veSJM88+1yv1AIAAAAAAAAcew5rBfBJY8fmxj//L5l39Zzc8Of/JaNGvmm/Nlu2bsvf/v03smLlL7Nk6bL8+om9zw3t7W2OTzrp0Ns/72vo0OPyJ5+8JlPOe2uv1PCzFSvz/LqqjBgxPNd8dG6K///s/Xuc1nWdP/4/rplhOHhCsxQIGrIs3UxAIaX40MnDmpoIRnxio2w3d43fgspm7ffn7/v9/vx9V/lkhC1rWXuI1j5GgZjaVpatLEYKSaZtmicQnMEDhogHYA7X7485MDPMwABzYC7u971dN7neh9freb0Hr9vaY17PV9meH295eXkumXJBpk25IEly2x0/zu9+v+f9VQEAAAAAAAA6s18B8LtPPCEDBgxIkgweNCjvePvoDq9bt35Dlt1+V37z4O96fF/b/QmAk8YQ9tOf+kQ+NPn9KRQKB1RDfX19/vW7t2bLlpfzrhNPyEXn/3mn1x5+2JBc/vnPZOIZ47N9+45881++m/+67377/wIAAAAAAAD7bb8C4CeeWpf6+vokyc6dO/P0+g3dWtT+2Lz5pbz62uv7ff/HP3ZuLjzvnAOu49XXXs+3v3NLdu7cmf/xgTNy5oTTd7tm+LDjctXf/k1OGF2VFzdvzoJ//Gb++PiTBzw39JbXXn89r7zyShqKDUmSra9sy7ZXX+vjqgAAAAAAANivPYCfe/6FfGXhTXn729+WJ554On/asqXD6wqFQo5905vy8ssvp7YL++EeiIce/n3++w+P5YwJp+XDkz+Qo48e2uV7163fkN+s/V0eevi/u6WWmk3P59+/vzSf+/T/zCUXX5AXN2/Ok0+vT5Kc8p6T8hefnJbKysr88fGnsvh7S/L6G290y7zQW/75O99r8/7/+n++0keVAAAAAAAA0Np+BcBJYwj83PMvdHq+vLw8X/j8Z/L20VV55ZVtufGmb+elP3UcFHeX2rq6rFz1QFY9sCZjx5ySsz74P3LccW/p8NoXXtyc36z9XR787e96pK5Hfv9o/uPue3Le2R/JZ/9iRhb84zdz2rhTc97ZH0mS/Nd99+f2u36ShoaGbp8bul1Ta/Jj33xsqkaN3OOlxx/f9O+cbuYAAAAAAAC9br8D4L0ZPXpU3j66Kkly5JFHZPxpY/LTn/9nT03XRn19Q37z4O/y4NqH856T352PfnhS3jZyZLZtezVrf/dIfrP2oTxbvanH99v9+T0rMvz44zLmve/J1VfOTmVlZRoaGvLD2+7Mr1f/pkfnhu70bM2mJMn55360y/dsrKnpqXIAAAAAAADoRI8FwC+9tCX19fUpLy9Pkjz/wos9NVWnisViHvnvR/P7PzyW4958bF7Y/FKvrrgtFov53z9YnmOPfVPeOnxYXnvt9fzbv9/a0g4a+ovVv/ltBg6szDtGj06hrLDni4vJxmerc8+K+3qnOAAAAAAAAFr0WAC8ZcvL+eY/fzenjX1vntnwbLftr7s/isVinuuDADpJdu7cmZv/5bs5Y/y4rH3okR5vgw09oVgs5r/uuz//dd/9fV0KAAAAAAAAe9BjAXCSPPHU03niqad7cop+Ydu2V/PzX/5XX5cBAAAAAAAAlLiyvi4AAAAAAAAAgO7RpQC4vqG+p+vo8lxqgZ7h7zMAAAAAAED/16UA+OXNm3slsKlvqM/LmzerZT9qgQPl7zMAAAAAAED/VzjxpDHFvi4CYH89/uhDfV0CAAAAAABAnzjxpDG7HbMHMAAAAAAAAECJEAADAAAAAAAAlAgBMAAAAAAAAECJEAADAAAAAAAAlAgBMAAAAAAAAECJEAADAAAAAAAAlAgBMAAAAAAAAECJEAADAAAAAAAAlAgBMAAAAAAAAECJEAADAAAAAAAAlIiKrlz0+KMP9XAZ7fy/ftK78wE9rnznthz/h+U5bPOjfV0KAAAAAABAyepSANzrisW+rgDoZvUDDs9zJ03JCSsFwAAAAAAAAD3l4AyAIwCGUlRfeVhflwAAAAAAAFDSDs4A2ApgAAAAAAAAgH0mAAYAAAAAAAAoEQdnAKwFNAAAAAAAAMA+OzgDYCuAAQAAAAAAAPbZwRkAWwEMAAAAAAAAsM8OzgDYCmAAAAAAAACAfSYABgAAAAAAACgRB2cAvI8toI8cWJaPnnBETnzTwFSUlWXdlh35+VPb8sJrdT1UX8/6zKfPysL3PJ+5X3w43+niPRPOnZi7P3xYkn27r6v1/O0Lv864n77ajaPueb6FeThnv3BC7n7LUxn63ed7ZV727gNvOywXvPuoFIpJsZAUi8UUi8nPn9qWXz7dO38/AAAAAAAA6NzBGQB3cQVwWaGQS94zNF9437F5+LnteeSFN1JbX5fThg/O30w4Nt9/ZEu+/ZuXsqOuoYcL7l7fWXz3vgW4w07INz9czE0L7s7fb+qhoorF3lmZPfbULMzDGbr4uSTP5exzJ2btOa/2fPg89tS8/NFXc/ZXnsrq/jBuLysUklljjsmciW/OvU+/lldq61JWKKQshZw56rC8XtuQXz61ra/LBAAAAAAAOOQdnAFwF1YAH1ZZnhvPe2saUsysZevzzjcNyswxx2RQeSF3PLY181c+nzlnvjlLplflC3duSPUrtb1Qd196LY9v6smAtph9XZm97w7PP3z0sNx0y64Ue/VPn8pTXzkhn/npQ926qrlzPfUZ+29b84EVZbnmQ8fnnHccmf/3L2ry4z++kjcNqciWN+rSUEz+49PvyGMvvpH+/BkBAAAAAABKxcEZAO9lpengAWX5pwvemme31ub//EV1xr/18Hzl3BEt5//uzYNSW9+Q/+Pn1fmr04/Nty96Wz6zdF2/aQn9mc+cm799/r6M+8mrSQ7PP3zxA3nnz+/LE2d9IJe/JUlezU1fvS9/vymZ8OcfyN0fOTxJsvAr52Th73+Xod9pDFBbn2t9z64xf5d86tScleczd95v9xKwNq4A/sxnzs3C7JqjZZ5TnsvZ/+vJrB47Ni9/6rgO5mxfT5Lftx0nY9+Ry194KkNrWv/8N+Ur95yQb557WL7zk85XAe957GH54Q0n5IlWtWTYO7L2qiPy9Xm/TT5zbha+J0mOy91fOaHl3uafw19nzK6xX3iy8XMewLj9ybFDKrLgYyMz4sgBuXTZ+jzy/Bs5vLIsd3/mHfnWms353797KSOOHJA/vrjD3t0AAAAAAAAHgbK+LqBDze2GO3gVUszX/vytWfenHfn//Lw69Q3FnPvOI3cb4rwTj0qxoZhvrX4xP3j4pXxrSlUOG1DY49gHzytNr2LLosqzPjUm+fefZOhVP8ncRw7P5X/xjkwoFrP6P1Zm6FefzNN5LnOv+kmG/ltNUixmwrlNoexVjfcM/d6rufyqMflMqzFPOOu4PPHVn2ToVWvznS7W853fPZe85bBMaDl3eC465fD8/OdPZPWwd2Ttpw7LTV9tnvO5NAfHE879QO7+yKuNNV71kwy96r7c9JZT8/Ks41vmmXDcYXn6uW27zb/6uVfz9rcc3ml9XRm76S9Wh++/829Ntb7wZOPzanqGKSZv/8gH8s3iQ7vGzTty9wGP2z9e7z52UL73idEZUFbI//z+U3nkudeTYjGv7azPV+97Lj9/Ymve9aaBKRaTJza/0fWxAQAAAAAA6DEHZwC8K3Hc7VUsFvO7517Pu44dlCMHFZIU83pd/W4jvF7XkKSYyvLk1GFD8tiLb+SN2oY9jn3wvNo/g+TpX/w2f1/T+P47dz+Rp99yeE7u9J7j83cfTW7698ezuvnY2idy0wvH52PjWl3/8BMtY3a5nrWb8vO3HJ+Lhje9H35czn3Lc/nx2uZrX83jzWOufbxp/KZ6vro232kZ85X8/b8/kadPOT6faTp28nGH56nnX9l9/ue25enjDsuEDmvr2ti7P9P2xzo5/8hvM+4nr7Qb9x35h+EHMu7B/zp6cFkWXzI6j21+I59d+lSef7W25VyxWMz/fuilrNuyPeeceFTWv7wjb9TW78P4AAAAAAAA9JSDMwDeywrCbz7wfB6sfjX/cvHoHDukPN9/aHNe29nQcntDMfm3NS9mcEUhXz//bSkUkv/3zzamoaFhr2MfFK/Gh9Dm/VPPvdLqmiQ5PCcOa/2+1XMbOyxn5fBcftV5efmrza9Jje2jOx2zq/XU5MePHJ5zT21ckTvh1GF5+yObGlcQV2/KT184Pgu/el5+OLbYrp5X83h1u3GrX81TLZ/j8Jx43Kt5YlMH81e/mqfeckRO7qi2Lo3d0d+r9sc6uCbJ089v62DcdH5PV8btB6+tb9TlwepXM/KoypSX7b5yflB58r/OHZkL3j00X125aT/+fgMAAAAAANATemQP4D//6pD85KrXD2CEPYdExWKy4L5NeWV7fb4/4x355gMvZMb3n8jHTzo6lRVl+ekft+TNh1Xmh596Z1ZvfDXzV9SkrqFhj2MefIqtXknHz6TY7s+tr92UuVc+2Mm+vnsac2/1JN/53aYsPHtYJvxHMRe99/D8/O7qpmteyd9ff1f+fvi7snbex/LyzOYaOpuv9fFX8vjzh+djxxeTmnaXDT88J7ywLX/Y4zPY09h7uqb9uT1d053jHtwaisnVP9mQ733yHZl/zsj87Z3r0tD0EY4/YkBuvKAqRw0sz6d/8GQe37y9b4sFAAAAAACgRY+sAD6w8DddWkVYbCjm26ufz1/fti7nvvOofH/GOzNm+JCccMzAfGPK2/M3Z7wl//cvNub/+4uN2VFb3+crKvd5heRuq0rbX7OHezZty9NtVgh39OpgzK7W82BNYxvoccNy7ls25ccPtru++rGMu+Le3PT8sPztnx/eeT3DDs8J2bZr9W6SE47rYK/f4w/P259/Jas7qq3LY3cwZuvP1dHfuyRvb1/PuGE560DH7Sevbdvr8rc/WpexIw7LnPcPS4rFjBk2OLd+8p15fWd9Ztz6eB5/cR/2/m39TAAAAAAAAOgR/bIFdOvXk5tfz18ufTIXf/exfOc3L2TpI5vzF7c+nk/c8ses2bBt38Opg+HV5jl09EzaH2v3vvqxfP2RI3L5352ez7Rcc0T+4dJ3ZUKnY3a1nmJSrM6PHzki5541LG9/pKax/XOxmIw7PT8c17amp557pfN6Pn1i8vM/ttz/nYc25e3HH7Hb/BOOOzxPP9fJz7JLY2/LE88fkcvPHd50fnh+OHPY7s/wuHZtppPklNNafabG+54+0HH70Wv9n7bn7+5al0+POzb/90dH5p+nviP3Pr01n1/2VLa8Xndgf7+7oKysLKedNjannTY2ZWUH59cVAAAAAADAwaRHWkAfuH0LiZJk0ys7sumVHT1QS18ptnol6bQNcUfXJt/5lx8ln/t4Fi68MAubjj398//M3++1rfTe6mka/yd/zN9+cXhuWvzsrks2vZITvnhhXv6LXfONe7DYUs8fPvbh3N2unnE/fmXX/Q9W5+d/8a78w/Bn8/ctbaBH5O/O2pavz93aaWV7H3tr/v663+SdC0/PywtPS1KTuf/rjznhi0fs+kwPPpabzv5Q4/N65DcZ+i/VTeP8Jk+cvesz5ZHfZOiPtx7wuP3JqmdeyYL/qsmV/2NEvrLi2dz60Iv7muPut7FjT82XvnhVkuS6+Tdk7dqHemdiAAAAAACAfqpw4klj9hrlPP7oQ71QSiuf+W7vzse+O21CXj5nW87+h0ezurvHHVPdEpRO+NhH8s2saRsU95LPfO6i/O1zv+yTuQ9GRwwsz7Yd9Qc8zokPLOjytaedNnavAXCvfz8BAP1b83/9FPq0CuAQdH7Oz125q6/LAA4V55/f+M+7fO8AQKk78aQxux0rmRXAHIi35oc3js9ZHZz5+XeX55IH2x89Mv9wzvA8/bt7srq7f1YPPpC5Y6bk5c8lZz/37tx9/GMZ+i+dr/7teW1XPh/Ktu2o6/U5f/vb3+W6+TckSR566OFenx8A6Mda/79whQ7eA/SC89MYwNzV9H8A3a456E12hb3CXwA45B2cAXBv9ZelycZc8rcbu3TlZ/7y4ix8b5KHV2foXT0TzH7nn2/Ld5rqGtojM+yLfd+3lu7T0NCg7TMAsO86+n/fmkPgQqtrBMFAN2od9jbrSuhrZTCw31qHv+21DoM7CoI7Ow4AlISDswX0p/+td+cDes2Ja27s1vG0gAaAQ1xnQa6AFwAoJYJcAKATWkAD/UpZWVnGjj01SWM76IaGhj6uCAA46HQW8gp/AYBS0lnIK/wFADpwcAbAWu4CScaOPTVf+uJVSZLr5t+gHTQA0POsHAYAAAD6ubK+LqBjRS8vr5J9AQD0oAP9fzda7xEM0EXN+/8eLOMAh4A97f8LABzyrAAGek153ev7dP1vf/u7XDf/hiTJQw893BMlAQClprtW71oFDOyDu9I9LVi7axzgELCn1s/2BQaAQ54AGOgV5XWv5/hn7t2nexoaGrR9BgD2T/N/UhTaHSu0+idANzs/5wtxgd7VvBK4o8BXEAwAh6zCiSeNkbYC/dbjjz7U1yUAAP1FR//ls6cgWFAMdJPmYFhADPSKjtpDC4IBoGSdeNKY3Y4JgIGDVllZWcaOPTVJYzvohoaG3a4RAAMAAAAAAIeqjgLgst4vA6Brxo49NV/64lX50hevypgx7+3rcgCAg5lfawUAAABIIgAGAABKQU+2ahYuAwCHgo5aRwMA/VKXWkD3dovVD507pVfnA3pefUN9Xt68OdvfeL3L95SVlbWs/H3ooYe1gAYAAPqM/XsBAICDUUctoCt6vwzgUFReVp6hxx6b5zZu6PI9DQ0NWbv2oZ4rCgDon4rp2RW/AAB9rXk17l1+8QQA2HdaQAO9prysvK9LAAD6O+Ev0Ees/gV6nfAXANhPAmAAAKD/EP4CAIcC4S8AcAAEwAAAAAAAAAAlQgAMAAD0L8VWr96eFwCgN51//q79gHtzTgCgXxMAAwAA/Ys20AAAAACdqujrAgAAAPZZX4TAgmcAoLf1xV7A9h8GgH7PCmAAAAAAAACAEiEABgAAAAAAACgRJdECesjgwTn1lJMzfNjxKS8rz/MvvpiHHv59tr6yrfsmmTQny2eP6/DU6kWzct3K/R968rzFmZubM+WGVfs/CP3W5HmLM3f82iycfmNW9HUxe3HSu07M+NPHpJBCiikmxWKKxeShR36fR37/aF+XBwAAAAAAcMjr1wFwoVDI+88Yn/PO+WjWP7Mxz2x8NnX19TlhdFXOPfvDWbnqgfz8nntTW1t34JOtvDFT2oe8k+Zk+cXV+f4BhL/dqqmeK69YmnV9XcuhYH+edwf3rLhh1kEf/BYKhXzof7w/F5x3dn7/34/l9TfeSKGskLKU5V0nnpAdO3cIgAGA3lWMPXkBgNJ3/vn25AUA9lm/DYAHDhqUv/r0/0xDGnLjTd/KsOOPzwcnTcyAARVZ/Zvf5rY7/iPnn3dW5s35Qr71r9/NS3/a0s0VjMrMi8dl9W03ClspaQMGVOQTUz+ese99T763ZFl+s/Z3OeKIw/Pqq6+lWCzmmi9dmWdrNvV1mQDAoaTY7p+CYACgFJ1/ftt/CoIBgC7qlwFwZWVlLrt0Zl7605bc+oPleecJo/OZmdNbzk+5cFjq6+vzve8vy1kfnpzLP//ZfP2mb3dzS+gpmZo7c2W3r/4dlZlfuzYjb7smGy++NlOHJ8mmLLv6S7llffPcrdtRN57bOG1x5o5PknFZsOSCZE1TS+mqaVk0/4KMaB6+5s5Wq0+7MFeS0TOuz4KLhrW8b93yuu253e9to4O6m6/d2ziNbZJ3fYaFq0/P3BF3tLTNnjxvcS6pvjn3T7is6XM01bmx9effvc1y5/Pu+dnsqqfrz7uzexprvyazb93Q6TNvGT97r607HXnE4bn00/8zxxxzdP7xG/+aZzZuzKBBA/N//f3f5e577s1/3ffrvOmYo1NT/Vz3TgwAsDdCXwDgUCD0BQD2Q78LgAuFQj736Rl5/oXN+cGyH6VYLGbsqafsdt1pY0/Nfb9enbvvuTd1dXW5/POX5mv/+M1s37GjW+qY/L5xqV69vMdW/06YfXk2Xj0rU9Y3BYdzpuVXVyzNuqppWTR7WJZdPasx7Js0LTPT1Ea4g/bCo88ckfubr20KDhfMq2mz33Cnc6U5iNyUhdO/1BicVk3LzJFNY8+4Pgsm/CZXTm+ab9KcLJ8/Jxs72su2k7q7Ms7keYszd8Sdbc/PHpasaTvFiIsuTJo+x+gZ12fB7MVZXnNnrpw+K+uaPvvceROzoumzd6X+zp7N/jzvzu5pb7dn3jTO8nnp8s+tO7x1+LB87jOfyquvvpYFX/9GXt76SpJkx46d+dGPf5LHH38qI4Yfn2KxmJrnnu+mWQEAukD4CwAcCoS/AMB+KuvrAvZVsVjMumc25K3Djs+QIYOTJDt27tztuuZjFRUVqaoameqamg6v2y9V03LJ+LX5YasVm92t+vabWlZzrlh6Z6qHj8iolrObsrHpXFYu3eOqz3W33tjq/IbcctvaZMTwjO7SXBPzyYuGZfWiVoHu+qW5ZWXzuWTZja0Cx5XLs6xmXCZO6qyajure2zgTM3H8pnbnb8zCduFvkmTNHS2fY92td2R1ktW3Nd/X/rN3rf49/xx215XnvWdNdV3dOkTfkFtuvDPV48dncqsr97W2fXH4YUMy5wt/leqaTfn6N/65JfxNGv8d/K/77s/zL27O2DGn5IUXX8rO7vp3CwAAAAAAgAPS71YAJ8nPfnFvBlYOzOzLLs03vv2d3Lfqgbxv/LgMGjgwSWNAdc9/rkxlZWU+9+kZ2Vlbm+8tWZZisbiXkbtm9JmnZ8SaO3Zf5drGxHx5yWWZ0PJ+9/bDe1L9bPtweVhGViVZvzr311ybuUsWZ2KrVsx7rLd9O+Ga6q7NNXJ8JmRtFnY0x6TxmZBhmTB/caa2O7W6oyI6q3tv41QNz4hsyqr1bc9tqN6UXX2Wmz5H9bPtRtiUjRs7Kqbr9Xf+c+hk3Oz9ee/RpPGZ0MHnzfqaVOf0NnPvT21d9drrb+TJp9fn2Dcdk7Ly8qS2ts35AQMG5FPTL87J7z4x3/nekgOfEAAAAAAAgG7RIwHwn391SH5y1es9MXSSxoD3jv/4Wd54443Mm/M3+ekv7s2Cr38jE04bm4oBA7L2oYdz1JFH5otXfCFPPPV0bvvRj1Nf39BNs4/K+ycMy+rbVu3lulW5bvrertkfG3LLFbNyS9W0LJq/OMtn7ylYbgqha9q1T764u2rZl1B7T3XvYZxJI9rnvN1o30L5vevp5917isVivvu9H+TKv70ss2Zckm9/55aWX6A4euhR+dxnPpXDBg/Own/6Vmo2af8MAAAAAABwsOiRFtA9Gf42KxaLufuXK/KNf/5uxr33lFz1t5dn9Oi35fjj3pK//stZOfesD+f7y27PkqU/Sm1tXfdNXDUhZwxfm1VdWHnbo9Yvzezp12RZzbhcMqOTxr9VwzMia7Ow9R61bx3W8bUd2Vid6uZVpftybk/a1723cTo5P2rEPnyOfRj3gBzo895TXU0roVtaaPeCN7Zvz7f/7Xt5++i35YLzzk6SjK4alav+9m+yc8eOfPXr3xD+AgAAAAAAHGT63R7A7W167vks+ta/5voFX88vV9yXVQ+sycJF38pXFv5Tnnxy3d4H2Eejzzw9I2qq03O7/+7FpDn5crs9dtu0At5tH9hWYWLVtFx10T4EkuuX5odrhmXq/Dm79p6tmpaZkzo5l1GZOW9ax/vddlb33sZZvzr31wzL1Dmtxp00J3PHd/1jdPmz7an+zuzP897TXr2d1TXnguT25d24WrlrXnhxc75zy/fzof/x/sy4ZEpmX3ZpHvnDY/mnb30nr77W87/oAQDQ64pNLwCAUnb++Y0vAKAk9cs9gDuyZcvWbNmytcfnGTViWKpXr073R8tdtLE6I+YvzvLZjW+rb78ms5tXI69cnmUXN+6zO3fNzZlyw9J89fbTs6B5n9uaO3PlorVZsA8tiVfcMCuZt7hxzCTJpiy7emkn5xrruWUf697zOBtyyxXXJF+7NguWXNB4cs3NufL2YVlwgL2h96n+juzP897tnt3bhK+4YVY2zLg+C9rVNfvWvvm1g8cefzI/uuun+fj552b5nf+Rlb96oNv20wYAOOgU+roAAIBecNddfV0BANCDCieeNGavSc7jjz7UC6Xs8qFzp/TqfPQ/k+ctziXVfReKHooGDxqUN7ZvP+Bxqp/p3l+f6O3vJwAAAAAAgIPFiSeN2e1Yv28BzSFo0pzMHb82PxT+9qruCH8BAPqU9s5AHzg/WqwCvUx7ZwA45JVMC2hK1+R5i9vt+bs2C6ff2Ov74QIAAMC+uivarAIAAL1LAMxBb8UNs4S9AAAcOPv7AgCHAvv7AsAhTwtoAAAAAAAAgBIhAAYAANhX9hIGAA4F9hIGgH5JAAwAAAAAAABQIgTAQK+pb6jv6xIAALqH/YQBgEOB/YQBoF8SAAO9or6hPi9v3tzXZQAAAAAAAJS0iq5cdOJJY3q4jLaqn1nXq/MBAAAAAAAAlAIrgAEAAAAAAABKhAAYAAAAAAAAoEQIgAEAAAAAAABKRJf2AH780Yd6uIy2PnTulF6dD+h59Q31eXnz5mx/4/W+LgUAAAAAAKBkWQEM9IrysvIMPfbYvi4DAAAAAACgpAmAgV5TXlbe1yUAAAAAAACUNAEwAAAAAAAAQIkQAAMAAAAAAACUCAEwAAAAAAAAQIkQAAMAAAAAAACUCAEwAAAAAAAAQIkQAAMAAAAAAACUiIq+LgA4+Jw29r2Z/IEzU17eta+I+vq63Lvy11n70MM9XBkAAAAAAAB7UhIB8JDBg3PqKSdn+LDjU15WnudffDEPPfz7bH1l2wGMOiozv3Ztpg5veltzZ668YmnWHcCIk+ctztzxbY+tXjQr161sPrc2C6ffmBVN115SfU1m37qh5d7W7zuqdeRtjWMdSH2dz3FwGT3j+iwYcUem3LCqr0spSeefe3aW/eiuPPHU0126/oTRVblkyoUCYAAAAAAAgD7WrwPgQqGQ958xPued89Gsf2Zjntn4bOrq63PC6Kqce/aHs3LVA/n5PfemtrZuH0duDFTPWH1NpnRzGFp9e8cB64obZmVFt84E+6+yckCeenp9duzYmaOPHpr3nPzurP3tI3nt9dc6vP6pdetTWTmgl6sEAAAAAACgvX67B/DAQYPyhb/6bN57ysm58aZvZfWDv81J73pnxp36njy1bn3mf3VRjjl6aObN+ULedMzR+zT26BmXZ2r1zf1iJSz0tKkf/1imfvxjOevDk/q6FAAAAAAAAPaiX64ArqyszGWXzsxLf9qSW3+wPO88YXQ+M3N6y/kpFw5LfX19vvf9ZTnrw5Nz+ec/m6/f9O0utoQelfdPGJbVt/Vua+Huab/cum31piy7+ku5Zf2us6NnXJ8FFw3bdWDNzXttodz2nnZjTpqT5bPHdXyutappWTT/goxoft+mnXZz++prsvHizmtv0z675s4sXL2nqpvHvDmZfVkmZFdr7T19nsafwc25f8JlLa2/Vy+ales2tq5/11gdP6O0ea6T5y3O3LR9zqNnXJ8FE37T8gz2+Izb6+oz70a//8NjOe4tb85jjz/ZsxMBAAAAAABwwPpdAFwoFPK5T8/I8y9szg+W/SjFYjFjTz1lt+tOG3tq7vv16tx9z72pq6vL5Z+/NF/7x29m+44de56gakLOGL4p92daFi1pDv16J2g7UBNmX56NV8/KlPVNweOcaflVm5BxUxZO/1JTeNkYki6fl05D4JagcnpTWDtpTpbPn5ON02/MiqppWTR7WJZdPavxuUyalpmd1DX6zBG5v/m6pnkXzKtpM++eap88b3HmjrizbR2zhyVr9vw8Rlw8PvdfPSvXre/C52m+56ILk6Y6Rs+4PgtmL87ymjtz5fRZWddU+9x5E7Oiqfa9PdcVD6zN3IuHZ3TSEng3/oJBq5/LXmpqsQ/PvDvdv/rB3L/6wQ7PVVRUpK5uX1usAwAAAAAA0FP6XQvoYrGYdc9syFuHHZ8hQwYnSXbs3Lnbdc3HKioqUlU1MtU1NR1e17FhmXpx8tXpszJl+qxceXsydf6cTO6G+kdcdG2WL1nc9OqeMZtV335TS0i9YumdqR4+IqOSJBPzyYuSZVe3DhU35JYb70z1+PGd1NB0z43NK3WTrFyeZTXjMrGlE/CmbFzffG5ppwH5ultvbHVuQ265bW0yojEU7UrtE8dvalfHjVm4l/A3SbJ6eat5u/J5kqy5o+WedbfekdVJS1i7e+1deK4r12T18NPz/qqm01UTcsbwtVm1ch9qaqNrz7w3fPSDkzL/2msy8X3j934xAAAAAAAAvaLfrQBOkp/94t4MrByY2Zddmm98+zu5b9UDed/4cRk0cGCSxpD4nv9cmcrKynzu0zOys7Y231uyLMVisYsztA0c1916U5ZNuDaXzBiVFbu1aJ6YLy+5LBNa3u/eIri16tsPtM1z56qfbT/usIysSjJyfCZkU1atb3d6fU2qc3rjNe3PTRqfCRmWCfMXZ2q7U6uTZP3q3F9zbeYuWZyJi2blupV7rm23Nsk11V2rPcMzooPaN1Rvyq6e0h1rM+bePk/zPdXPtju7KRs3djLBpK4811VZteayXHLmqNyyfkNGn3l6Rqy5o/HvRxdr2jXuvj3z7jb0qCPz8tZXkiRnTjg95593dpLkE1Mv3Od9tgEAAAAAAOgZPRIAF1NMIYWeGLpx/GIxd/zHz/LGG29k3py/yU9/cW8WfP0bmXDa2FQMGJC1Dz2co448Ml+84gt54qmnc9uPfpz6+oYeqmZVrpveu/sF9549hdkbcssVs3JL1bQsmr84y2d3dm1TQF7TroXzxV0sYeSIveW8+2DP4XxPaWwDPSGjb00H+0vvS01dfebd7/1nTMglF1+Qe1euyrPP1uQTUy9sc/4jH5qU7du390IlAAAAAAAA7EmPtIDuyfC3WbFYzN2/XJFv/PN3M+69p+Sqv708o0e/Lccf95b89V/OyrlnfTjfX3Z7liz9UWpr92GP0vWrc3/NsIwcufup3Vep9hMbq1PdsqK2larG1bUtLYW7ck9765dm9vRrsqxmXC6ZMWr381XDMyJrs/CKXSuqR7912O7X7WPto0bswxh7GOeAdPW5NreBntS6/fMB1LS3Z97NTh97aqZNOT9J8sFJEzNzxrQUCh39O97z/94DAAAAAACwZ/1uD+D2Nj33fBZ9619z/YKv55cr7suqB9Zk4aJv5SsL/ylPPrlu7wPsZkN+tXpTJszetT/v6BmXZ2ruzPd7ueVut1m/ND9cM6zdPsajMnPOBcntyzteQdrZPfOmNe5/O2lOvtxun9rOA/JWIWfVtFx10T6Et811zJm2a8/gSXMyd1+3nd3b59kfXX6uq7JqzbCccfHpbY/va02dPvNRmfm1xVnUHAZXTcuiJddnZlXj29Ezrs/yr+3b59y5szajq0ZlzCl/lk9Nv7iTwLet2rp9+EULAAAAAAAAekS/3AO4I1u2bM2WLVu7Zax1t34pV+b6LFiyOHOTNLbp3bWCtT9accOsbJjR+jPtfT/iFTfMSuYtztx299ySJBurM2L+4iyf3WqsjgLy9Uvz1dtPz4LmfW5r7syVi9ZmQVdbQCdZccM1Gfm1a7NgyQWNB9bcnCtvH5YF+9gbeo+fZz919bmueGBt5s4elmW/3rDb/V2uqavPvBvc9dO7c945H8nhhx+Wrdu2JWlcdZ9iY4v3xu20iykWG/9cX1+Xe1b8qmeKAQAAAAAAoMsKJ540pri3ix5/9KFeKGWXD507pVfnA3pP9TPd+6sUvf39BAAAAAAAcLA48aQxux3r9y2gAQAAAAAAAGgkAAYAAAAAAAAoEQJgAAAAAAAAgBIhAAYAAAAAAAAoEQJgAAAAAAAAgBIhAAYAAAAAAAAoEQJgoNfUN9T3dQkAAAAAAAAlTQAM9Ir6hvq8vHlzX5cBAAAAAABQ0iq6ctGJJ43p4TLaqn5mXa/OBwAAAAAAAFAKrAAGAAAAAAAAKBECYAAAAAAAAIASIQAGAAAAAAAAKBFd2gP48Ucf6uEy2vrQuVN6dT6g59U31OflzZuz/Y3X+7oUAAAAAACAkmUFMNArysvKM/TYY/u6DAAAAAAAgJImAAZ6TXlZeV+XAAAAAAAAUNIEwAAAAAAAAAAlQgAMAAAAAAAAUCIEwAAAAAAAAAAlQgAMAAAAAAAAUCIEwAAAAAAAAAAlQgAMAAAAAAAAUCIq+roA4OBz2tj3ZvIHzkx5ede+Iurr63Lvyl9n7UMP93BlAAAAAAAA7ElJBMBDBg/OqaecnOHDjk95WXmef/HFPPTw77P1lW37NtCkOVk+e1zbY2tuzpQbVnVLnaNnXJ8FFw1rdWRtFk6/MSu6ZfSOTZ63OJdUX5PZt27Y4zVzx/dsLaNnXJ8FI+7Y47NsrKPVgW589r3lQJ/lwfIMzj/37Cz70V154qmnu3T9CaOrcsmUCwXAAAAAAAAAfaxfB8CFQiHvP2N8zjvno1n/zMY8s/HZ1NXX54TRVTn37A9n5aoH8vN77k1tbV3XB+2RwG1UZn7t2kwdvjYLp39pVzA4aU6+PClZsbKbp9tHK26Y1aMh9N41PZ/qmzNl+q5nP3nGtIxOsq7vCtuzSXOy/OLqXHnF0pYa9/9ZHlzPoLJyQJ56en127NiZo48emvec/O6s/e0jee311zq8/ql161NZOaCXqwQAAAAAAKC9fhsADxw0KH/16f+ZhjTkxpu+lWHHH58PTpqYAQMqsvo3v81td/xHzj/vrMyb84V861+/m5f+tGWvY45+67C9XrM/Rs+4PFNzZ66cvrRtkLfyxlzXIzP2M1UTcsbwTVl2Y9vgfcWtS/uooD5wED+DqR//WN5z8rvzpqOH5va7ftrX5QAAAAAAALAH/TIArqyszGWXzsxLf9qSW3+wPO88YXQ+M3N6y/kpFw5LfX19vvf9ZTnrw5Nz+ec/m6/f9O19bwndLSbmkxcNy+pFS/e6inO3FtHtViM3tnO+OfdPuCxThzceW71oVq7bOC2L5l+QEUk6ayvdZuyaO9usWm3bJrpxJerI267JxouvbZpnU5Zd/aXcsr6zWnc/36aVcc2dWbh6Dx98fU2qMywjRyZZ3/lle5pzv55NVetz7Z/Lnp/Drs83LguWXNDys+qo5Xb7n+vqRbNyXftV393wDHrK7//wWI57y5vz2ONP9uxEAAAAAAAAHLCyvi5gXxUKhXzu0zPy/Aub87+X3JaGhoaMPfWU3a47beypKRaLufuee/OrX6/O5Z+/NIMGDtz7BOMvy/Ilixtf8yYeeMGTxmdC1mbVXto8NwZ7m7Jw+qxMmT4rU6Zfk2UjLtuthhEXXZjc2HjNlbdvyoTZi7N8TvLV5ntqxmXubvdcm6ty065xc0EW7OWzTZh9ecs8C9cMy9Q5ja2IW2qd8Jtc2Vzrok2ZOn9OJjednzxvceaOuHPX+dtGZO5Fe1pdvSrfb/osi2aM6vz57GHO/Xk2o88ckfuvnrXH59LZc1hxw6xMWbS2MTSePqvTtuG7/VyvvjMbe/AZ9IT7Vz+Y/+d/LewwAK6o6Je/QwIAAAAAAFCy+l0AXCwWs+6ZDXnrsOMzZMjgJMmOnTt3u675WEVFRaqqRqa6pqbD61pbd+uXmsLAWZky/easHr97ANszJuaTFyXLrm69cndDbrnxzlSPH9824FtzR8uKz3W33pHVSVbf1rxqdUNuuW1tMmJ4S1jbeM/NrVakNo97YWZWdV5R9e03tcyzYumdqR4+IqNa13pjqxXNK5dnWc24TJzUeH7i+E3tzt+YhWv2/ATW3fqlTLn6zuSia7N8SfsQdG9z7t+zWXfrja1Wz3b87Dp/Dl3RvPq71c91/dLc0skvA3TLM+hFH/3gpMy/9ppMfN/4vV8MAAAAAABAr+iXy/d+9ot7M7ByYGZfdmm+8e3v5L5VD+R948e1rPAtFou55z9XprKyMp/79IzsrK3N95YsS7FY3IdZVuW6ReOzfPb4TM6q3VoqJxPz5SWXZULL+45bL3fJpPGZkE1Ztb7d8fU1qc7pGVmVlrbA1dXPtrtoUzZ2vKS0xW73rK9J9V5Kqn52Q7sjwxrrGDk+EzIsE+YvztR2V6xOkqrhGdHBZ9lQvSm7ei13Yv3SzJ6+NJk0J8tnX5vlI5paYE/ay5zNNe/Hs9mt7XZN2yfT6XNYv5fPkrSs/l64l9XfbRzgM+hJQ486Mi9vfSVJcuaE03P+eWcnST4x9cK86Zije6kKAAAAAAAA9qRnAuBikkKPjNw4fLGYO/7jZ3njjTcyb87f5Ke/uDcLvv6NTDhtbCoGDMjahx7OUUcemS9e8YU88dTTue1HP059fcO+T7SxOtWdpparct30jtv+7j7G6V0PDfuFPYTdk0bsNefdq5U3ZsrGaVk0/8LMrFqVW/Y2535pCvBr7syV05tW1U6ak+UXd9sEB6ZXnkHXvf+MCbnk4gty78pVefbZmnxi6oVtzn/kQ5Oyffv2PqgMAAAAAACA1nomAO7B8LdZsVjM3b9ckUf+8FimXvixfPxj5+bZmprU1tblr/9yVrZs2ZrvL7s9Tz65bu+DdWZkN4SZ61fn/poLMnXaxNzSyT6xnYbEnaym3VcjRrw1SauVrJ2tOO6KvQXanZwfNWJPewB3YH1NqjMsI0d2Yc79UTU8I7I2C6/Y1VJ59FuHJXtdG70PDrTunn4GXXT62FMzbcr5SZIPTtpTS/Re+BcfAAAAAACAPep3ewC3t+m557PoW/+a6xd8Pb9ccV9WPbAmCxd9K19Z+E/7GP6Oysx503bt/1o1LYtmj0v17csPcMXlhtxyRdN+wl+b1nZv3klz8uVJSdYvzQ/XDMvU+XNa7fc7KjPnXJAc8PxJxl/WOE+SZGK+fCCfq7Nam59d8/k5rT7rpDmZu6dtYqumZVG7vZZHz7gwE7I2q1Z2Yc791tTOuamGqy7ax5A6Sfa0J3BHdVdNy8yO9uw94GcwKjO/1mrf4KppWbTk+pZ9nkfPuH73v397sHNnbUZXjcqYU/4sn5p+cQqFvYe7tXV1XRwdAAAAAACAntIv9wDuyJYtW7Nly9YDG2TEBVmw5IKWt6sXzcp1+7J/a6dW5brpz2bm165tM35q7syVVzT+ccUNs7JhxvVZsGRx5jadrr79msy+tf0etPuu+vabs/HixVk+u+nAmpsz5QDGXXHDrGTe4sxtV+stLeevycjWn3XNzbny9mFZ0Nly6vU1qR5/WZYvuazVwbbtjvc25z5bvzRfvf30LGjeU7fmzly5aG0W7EsL6JXLs+ziaxtrWtO0V287u9e9KcuuXtpBPX3wDPbgrp/enfPO+UgOP/ywbN22LUnjqvsUk2KKadxOu5hisfHP9fV1uWfFr3qgEgAAAAAAAPZF4cSTxhT3dtHjjz7UC6Xs8qFzp/TqfEDvqX7mANqyd6C3v58AAAAAAAAOFieeNGa3Y/2+BTQAAAAAAAAAjQTAAAAAAAAAACVCAAwAAAAAAABQIgTAAAAAAAAAACVCAAwAAAAAAABQIgTAAAAAAAAAACVCAAz0mvqG+r4uAQAAAAAAoKQJgIFeUd9Qn5c3b+7rMgAAAAAAAEpaRVcuOvGkMT1cRlvVz6zr1fkAAAAAAAAASoEVwAAAAAAAAAAlQgAMAAAAAAAAUCIEwAAAAAAAAAAlokt7AG9Y/3hP19HGmZPP6dX5gJ5X31CflzdvzvY3Xu/rUgAAAAAAAEqWFcBArygvK8/QY4/t6zIAAAAAAABKmgAY6DXlZeV9XQIAAAAAAEBJEwADAAAAAAAAlAgBMAAAAAAAAECJEAADAAAAAAAAlAgBMAAAAAAAAECJEAADAAAAAAAAlAgBMAAAAAAAAECJqOjrAoCDz2lj35vJHzgz5eVd+4qor6/LvSt/nbUPPdzDlQEAAAAAALAnJREADxk8OKeecnKGDzs+5WXlef7FF/PQw7/P1le29XVp3WvSnCyfPSzLrv5Sbll/YENNnrc4c8e3PbZ60axct7L53NosnH5jVjRde0n1NZl964YDm/QgMHrG9Vlw0bAkjZ8vJfxZD8T5556dZT+6K0889XSXrj9hdFUumXKhABgAAAAAAKCP9esAuFAo5P1njM9553w065/ZmGc2Ppu6+vqcMLoq55794axc9UB+fs+9qa2t6+tSu8GozLx4XJJN3TZi9e0dB50rbpiVFd02Sy+ZNCfLL67OlVcszbrOrqmalqsuSpZdPWtXgL63z9qVcUtQZeWAPPX0+uzYsTNHHz007zn53Vn720fy2uuvdXj9U+vWp7JyQC9XCQAAAAAAQHv9dg/ggYMG5Qt/9dm895STc+NN38rqB3+bk971zow79T15at36zP/qohxz9NDMm/OFvOmYo/u63AM2esblmVq9Nqv7upB+b1M2ru/rGvqXqR//WKZ+/GM568OT+roUAAAAAAAA9qJfrgCurKzMZZfOzEt/2pJbf7A87zxhdD4zc3rL+SkXDkt9fX2+9/1lOevDk3P55z+br9/07f7bErpqWq66aFMWTl+TiUsu7PHp9toGuWpaFs2/ICOa39fc2WaFbOP9N+f+CZdl6vDGY6sXzcp1G1vft6vtcrNd7ZmTZFOrVtejMvNr12bkbddk48XXNo256/yudtbjsmDJBcmamzPlhlVtSm499twlizO36Zo9fdY9jbv3Wm9OZl+WCR18zv7m9394LMe95c157PEn+7oUAAAAAAAA9qLfBcCFQiGf+/SMPP/C5vxg2Y9SLBYz9tRTdrvutLGn5r5fr87d99yburq6XP75S/O1f/xmtu/Y0QdVH4hRmTnnglQvmpUVmZiJfV1OktFnjsj9LW2UGwPPBfNq2oSuIy66MLl6VqasbwpLZy/O8po7c+X0WVnXdM/ceROzonWgOuE3uXJ6U5A8aU6Wz5+Tja3C0wmzL8/GpjEnz1ucuXOm5VdXLG1sWb2XVs3rbv1Spvx6WhbNH5EfdjGQ7WzcrtQ64uLxuf/qWblu/T492oPS/asfzP2rH+zwXEVFRerqSqHFOgAAAAAAQGnody2gi8Vi1j2zIW8ddnyGDBmcJNmxc+du1zUfq6ioSFXVyFTX1HR43cFu8rxrM7X65ly3svvHHnHRtVm+ZHHTa04md/G+dbfeuGsP3WzILbetTUYMz+jWF625o+WadbfekdVJVt/WHKK2v2diPnlRsuzGVuHtyuVZVjMuE1t1Ha6+/aaWMVcsvTPVw0dk1L584G7RtVqzenmrZ1SaPvrBSZl/7TWZ+L7xfV0KAAAAAAAATfrdCuAk+dkv7s3AyoGZfdml+ca3v5P7Vj2Q940fl0EDByZpDInv+c+VqayszOc+PSM7a2vzvSXLUiwW+7jyfTRpTuaOuDNXXrFq79cmSSbmy0suy4SW93tuP1x9+x7aPO9F2xbISWqq245d/Wy7OzZl48ZOBps0PhMyLBPmL87Udqda73lc/Wz7WodlZFWS9V0sujvsd63939CjjszLW19Jkpw54fScf97ZSZJPTL2wJPbZBgAAAAAAKAX9MgAuFou54z9+ljfeeCPz5vxNfvqLe7Pg69/IhNPGpmLAgKx96OEcdeSR+eIVX8gTTz2d237049TXN/R12ftoVGZePC4Z3rT/bCsT5i/O1A72uU1W5brpXQ2L91dTyFxzZ9sWyBcf6Lj9aa/c/lRr93j/GRNyycUX5N6Vq/LsszX5xNS2e1F/5EOTsn379j6qDgAAAAAAgGb9MgBOGkPgu3+5Io/84bFMvfBj+fjHzs2zNTWpra3LX//lrGzZsjXfX3Z7nnyyox1h+4MNueWKWbmlzbGJ+fKSC7Px6i/1XXvhquEZkbVZ2HpP3LcOS1K9p7v2bGN1qnN676/m3R/9qdZucvrYUzNtyvlJkg9O2tMu1IXeKQgAAAAAAIBO9bs9gNvb9NzzWfStf831C76eX664L6seWJOFi76Vryz8p34c/h7smlovJ0nVtFzVuhX0/li/ND9cMyxT57feh3hUZs6b1nZf4b3pqT2BW4/bXbUe5HburM3oqlEZc8qf5VPTL06hsPdwt7aurhcqAwAAAAAAYE/67Qrg9rZs2ZotW7b2dRmlb/3SfPX207OgeQ/cmjtz5aK1WXCALaBX3DArmbc4c5csztymY9W3X9NuBfQerFyeZRdf23h/h+2x91MH4x5wrf3AXT+9O+ed85Ecfvhh2bptW5LGVfcpJsUU07iddjHFYuOf6+vrcs+KX/VpzQAAAAAAACSFE08aU9zbRRvWP94btbQ4c/I5vTof0Huqn+nelfmPP/pQt44HAAAAAADQX5x40pjdjvX7FtAAAAAAAAAANBIAAwAAAAAAAJQIATAAAAAAAABAiRAAAwAAAAAAAJQIATAAAAAAAABAiRAAAwAAAAAAAJQIATDQa+ob6vu6BAAAAAAAgJImAAZ6RX1DfV7evLmvywAAAAAAAChpFV25aFTViT1dRxvVz6zr1fkAAAAAAAAASoEVwAAAAAAAAAAlQgAMAAAAAAAAUCIEwAAAAAAAAAAlokt7AG9Y/3hP19HGmZPP6dX5gJ5X31CflzdvzvY3Xu/rUgAAAAAAAEqWFcBArygvK8/QY4/t6zIAAAAAAABKmgAY6DXlZeV9XQIAAAAAAEBJEwADAAAAAAAAlAgBMAAAAAAAAECJEAADAAAAAAAAlAgBMAAAAAAAAECJEAADAAAAAAAAlAgBMAAAAAAAAECJqOjrAoCDz2lj35vJHzgz5eVd+4qor6/LvSt/nbUPPdzDlQEAAAAAALAnJREADxk8OKeecnKGDzs+5WXlef7FF/PQw7/P1le29XVpfW/SnCyfPa7lbfXt12T2rRsOeNjRM67PgouG7Xa8u8bf+7xrs3D6jcm8xZk7vvHPK5JMnrc4l1T3bA2HgvPPPTvLfnRXnnjq6S5df8Loqlwy5UIBMAAAAAAAQB/r1wFwoVDI+88Yn/PO+WjWP7Mxz2x8NnX19TlhdFXOPfvDWbnqgfz8nntTW1vX16X2mcnvSxZOn5UVSZKJ+fKSa/PlZ2flupXdMPiamzPlhlWtDjSOv/yiXYFsl02ak+UXV+fKK5ZmXWfXVE3LVRcly66elVvWNx27Ydae5+nKuOymsnJAnnp6fXbs2Jmjjx6a95z87qz97SN57fXXOrz+qXXrU1k5oJerBAAAAAAAoL1+uwfwwEGD8oW/+mzee8rJufGmb2X1g7/NSe96Z8ad+p48tW595n91UY45emjmzflC3nTM0X1dbp9ZcUPrIHZVVq1JJrxvYg/NtirXTb8my2rGZe68nppjUzau76Gh6dDUj38sUz/+sZz14Ul9XQoAAAAAAAB70S8D4MrKylx26cxseWVrvvnP383Qo47KZ2ZOT9XbRmbE8GGZcuF5ec/J78r3vr8sD/72d7n885/NUUce0ddlHzSqq5/twdE35Jbb1ibjx2dyq6OjZ1yf5UsW73q1Cognz1vc2KZ6+AVZ0O5cm/vnX5ARGZe5ra6ZPG9xFs0Y1WElexq3bT3XZ2ZV85lRmfm1xfnypIn58pLFWb5kTpvPcSj6/R8ey4ubX8pjjz/Z16UAAAAAAACwF/2uBXShUMjnPj0jz7+wOT9Y9qMUi8WMPfWU3a47beypue/Xq3P3Pfemrq4ul3/+0nztH7+Z7Tt29EHVB4lJcxr3y72hh/fH3Vid6pyekVVJ1jfv27spC6d/qWk18qjM/Nq1WT4vmXLDqqy4YVZW7KVV87pbv5Qpv56WRfNH5IddbC/d2bijZ1yfBRN+kyunNx2bNCfL58/Jxlbjjrh4fO6/elauW39AT6Ik3L/6wdy/+sEOz1VUVKSu7tBtsQ4AAAAAAHCw6XcrgIvFYtY9syFvHXZ8hgwZnCTZsXPnbtc1H6uoqEhV1chU19R0eF3pa17JurgxCN3XvXn3x/qaVLea/5MXJcuubj3vhtxy452pbrdKuHc01XNjq6B55fIsqxmXia07HK9evmufYTr00Q9Oyvxrr8nE943v61IAAAAAAABo0u9WACfJz35xbwZWDszsyy7NN779ndy36oG8b/y4DBo4MEljSHzPf65MZWVlPvfpGdlZW5vvLVmWYrHYx5X3hVW5bvqqxj9WTcuiJYuT26/J7Fs7WgU8MV9eclkmtLxfm4X7ExhXDc+IJBuTZNL4TMimrFrf7pr1NW1WCfeaSeMzIcMyYf7iTG13anWrP1c/28OrpPuhoUcdmZe3vpIkOXPC6Tn/vLOTJJ+YeuEhvc82AAAAAADAwaRnAuAPfCC5774eGTppDHjv+I+f5Y033si8OX+Tn/7i3iz4+jcy4bSxqRgwIGsfejhHHXlkvnjFF/LEU0/nth/9OPX1DT1WT7+xfmlmLxqR5bOnZPKtHQW7rcLiAzFyREbU/Ca/Wp9k5IEP1/32M9g+hL3/jAm55OILcu/KVXn22Zp8YuqFbc5/5EOTsn379j6qDgAAAAAAgGY9EwD3YPjbrFgs5u5frsgjf3gsUy/8WD7+sXPzbE1Namvr8td/OStbtmzN95fdnief7GhHWXrOxHx59risXnRjY4vldvsBt6ganhEdrQzuaZ3VQ6dOH3tqpk05P0nywUkT93BloXcKAgAAAAAAoFP9sgV0a5ueez6LvvWvOfroozJ82PEpLy/PbT/6cV54cXNfl3YQmJiZM57NLS3tnhvD2erbr+mZ1a9V07Jo/gUZsebmTFnZdGz90vxwzQWZO39ONrasuh2VmXMuSNrXMXxERiXp9si+9bid1TNvQn51w9Lun7uf2rmzNqOrRqVywIB8avrFKRT2Hu7W1tX1QmUAAAAAAADsSb8PgJtt2bI1W7Zs7esyDjLPJhOuzfKLdh2p7nT/3/0w/rIsX3JZqwNrs3D6rN3C5RU3zMqGGddnwZLFmdtZHSuXZ9nF12buksWZu+bmTLmhG1pRdzLuihtmJfMWNx5rVc8t3TNjSbjrp3fnvHM+ksMPPyxbt21L0rjqPsWkmGIat9Muplhs/HN9fV3uWfGrPq0ZAAAAAACApHDiSWOKe7tow/rHe6OWFmdOPqdX5wN6T/Uz3bvO+vFHH+rW8QAA2quoqEidbidALysrK0tDQ0NflwEAABzkTjxpzG7Hynq/DAAAgP5D+Av0BeEvAACwvwTAAAAA7Gb48OF9XQJwiKmoqMjgwYP7ugwAAOj3BMAAAADsZuvWrX1dAnCIaWhoyM6dO/u6DAAA6Pcq+roAAAAAuq5QKKRYLPb4PK+99lqPzwH0H73x3aPtNQAAdA8rgAEAAPqR8vLyvi4BOMQUCoW+LgEAANgHVgADAAD0I3V1dX1dAnCI6Y2uAwAAQPexAhjoNfUN9X1dAgAAAAAAQEkTAAO9or6hPi9v3tzXZQAAAAAAAJS0LrWAHlV1Yk/X0Ub1M+t6dT4AAAAAAACAUmAFMAAAAAAAAECJEAADAAAAAAAAlAgBMAAAAAAAAECJ6NIewI8/+lAPl9HWh86d0qvzAT2vvqE+L2/enO1vvN7XpQAAAAAAAJQsK4CBXlFeVp6hxx7b12UAAAAAAACUNAEw0GvKy8r7ugQAAAAAAICSJgAGAAAAAAAAKBECYAAAAAAAAIASIQAGAAAAAAAAKBECYAAAAAAAAIASIQAGAAAAAAAAKBECYAAAAAAAAIASUdHXBQAHn9PGvjeTP3Bmysu79hVRX1+Xe1f+OmsferiHKwMAAAAAAGBPSiIAHjJ4cE495eQMH3Z8ysvK8/yLL+ahh3+fra9s670iJs3J8tnjdr1fc3Om3LDqgIedPG9x5o5vd7Cbxj4Qk+ctziXV12T2rRv6tI7WRs+4PgtG3LHHZ7Pb8zwInmXHRmXm167NyNtm5bqVvT/7+eeenWU/uitPPPV0l64/YXRVLplyoQAYAAAAAACgj/XrALhQKOT9Z4zPeed8NOuf2ZhnNj6buvr6nDC6Kuee/eGsXPVAfn7PvamtrevhSkZl5vuqc+X0G7MuSTIxX15yWRbNeLZ7AtI2IWU3j33IaAxUp1bfnCnTdwW+k2dMy+ik6efWhybNyfKLq3PlFUv7vpYklZUD8tTT67Njx84cffTQvOfkd2ftbx/Ja6+/1uH1T61bn8rKAb1cJQAAAAAAAO312z2ABw4alC/81Wfz3lNOzo03fSurH/xtTnrXOzPu1PfkqXXrM/+ri3LM0UMzb84X8qZjju7hajbklhtaB3er8v3bN2XEhAkZ3e1z9eTYJaxqQs4YvinLlrZd7bvi1oMjcD2YTf34xzL14x/LWR+e1NelAAAAAAAAsBf9cgVwZWVlLrt0Zl7605bc+oPleecJo/OZmdNbzk+5cFjq6+vzve8vy1kfnpzLP//ZfP2mb/dqS+h1z25KJvTgBNU1bYLL0TOuz4KLhjW925RlV38pt6xvetumPXXbc23vS1Yvamo5XDUti+ZfkBHNJ2ru3Ovq1D3W0N4ex29uf3xNNl58baYO73i8Nu2ca+7MwtV7KG59TaozLCNHJumkpsa21jfn/gmXNc3Z9Dw2tq51bRZOvzErOv3c6bCt9J6u2fU5xmXBkguazj3bdGHTyuVOnkFv+P0fHstxb3lzHnv8yd6dGAAAAAAAgH3W71YAFwqFfO7TM/L8C5vzv5fcloaGhow99ZTdrjtt7KkpFou5+55786tfr87ln780gwYO7LU6J79v3G4hbbeomparLkqblayjZ1yfBRN+kyunz8qU6bMyZdGmTJ0/J5Obrl80e1iWXd187jdt77toUxY233f1ndnYfO7MEbm/+Z7p12RZLsiCeRM7LWuPNXR0fRfGnzD78uTGxmsWrhmWqXOmtax6njxvceaOuHPXfLeNyNzWAetuGldOT5i9OItmjOr0qhEXXdgy55VN1y+fk3y1uc6acZnbqs7dnuH0a7JsxGVZvg/XrLhhVqYsWtsYgk+f1SY83tMz6C33r34w/8//WthhAFxR0S9/hwQAoORVVlb2dQnAIWjAAFsDAQDAwaDfBcDFYjHrntmQtw47PkOGDE6S7Ni5c7frmo9VVFSkqmpkqmtqOryuJ4yecX3mjl+bhe1Wge638Zdl+ZLFja85yVent14FOjGfvChZdmOr1bkrl2dZzbhMbOnYuykbm69fubTp3on55EXDsnpRq9Ws65fmlpWNf1x3642t5tiQW25bm4wY3kn42JUa2urK+NW339RyzYqld6Z6+IiMappv4vhN7ea7MQvXdDzXrjm/lClX35lcdG2WL+kkCF5zR8uc6269I6uTrL6teZ72dTZ97qtbrwjekFtuvDPV48c3hd9duaZznT+DvvfRD07K/GuvycT3jd/7xQAA9KqdvfTfPgCt1dbW9nUJAABAerAFdKFQSNIY2Ha3n/3i3gysHJjZl12ab3z7O7lv1QN53/hxLSt8i8Vi7vnPlamsrMznPj0jO2tr870ly3qklvYa2/nu3ia4rYn58pLLWnWI3sv1Le2CG+/75KSljW2ak2TS+EzIsEyYvzhT2922OknWr879Nddm7pLFmdjc3rnlvrVZuDKd2q1tcU11xxfurYb9HL/62Q3t7hiWkVVJMjwjsimr1rc9u6F6U3b1lO7E+qWZPX1pU1vsa7N8RNt2zdXVz7a7YVM2bkzHJo3PhA7qaGw3fXpjrSO7cE37c610+gz2cE9PGXrUkXl56ytJkjMnnJ7zzzs7SfKJqRf2wj7bAAAAAAAAdEWPBMDDhw9PTU1NkqSsrCwNDQ3dOn6xWMwd//GzvPHGG5k352/y01/cmwVf/0YmnDY2FQMGZO1DD+eoI4/MF6/4Qp546unc9qMfp76+e2vYXdNerdU3Z8r0va38XZXr9npNJ/ctGp/ls+dk8srWgfGeAuQNueWKWbmlaloWzV+c5bP3Fk4nLQF1zZ25cnrT6tdJc7L84j3d05VxD2T8VkaO2GvOu1crb8yUjdOyaP6FmVm1qtf31e1v3n/GhFxy8QW5d+WqPPtsTT4x9cI25z/yoUnZvn17H1UHAAAAAABAsx5pAd0c/iY9swK4edy7f7ki3/jn72bce0/JVX97eUaPfluOP+4t+eu/nJVzz/pwvr/s9ixZ+qPU1tb1SA2tTZ7XFP52V9vnzjS1Vr6kuX3xxupUt6yM3YP1SzO7aQ/bS2aM2vN9VcMzImuz8IpdLZZHv3UP++t2tYb9Hb+L840asQ9jJE2rcIdl5Mh9u21vdTR+vqa221255iB3+thTM23K+UmSD06amJkzprWs8G+ro2MAAAAAAAD0ph7fA7in2y5veu75LPrWv+b6BV/PL1fcl1UPrMnCRd/KVxb+U558ct3eB+gOVdNyyfhNWba0h8PfJM370I646PLMrEqyfml+uGZYps6f02o/2VGZOW9a4z61k+bky+324a1+dkPH91VNy8yWa1uFllXTctVFewhX91ZDh/Zh/M7mm9Nq/ElzMndPW9FWTcuieRPbHBo948JMyNqs2kMb7C7V0f5zz7kguX1542rorlzT7CDa33fnztqMrhqVMaf8WT41/eJOAt+2aut6/hctAAAAAAAA2LMe2wO4t23ZsjVbtmztwwqGZWpHe+C23ne3u6xcnmUXX5upc6blV1cszYobZiXzFmfuksWZ23RJ9e3X5JYk2VidEfMXZ/nsXcdnN9Wz+32bsuzqpcn6pfnq7adnQfPnqbkzVy5amwV7aNG8xxra24/xd5/vmoz82rVZsOSCxgNrbs6Vtw/Lgs56Q6+vSfX4y7J8yWWtDu5L2+rO6piVDTOuz4J2n3v2rRv26Zrmn+ncJYszd83NmXJD+72Ie9ddP707553zkRx++GHZum1bkqZf5igmxRTT+HsdxRSLjX+ur6/LPSt+1ac1AwAAAAAAkBROPGnMXpfoPv7oQ71Qyi4fOndKr84H9J7qZ7p3ZX5vfz8BAAAAAAAcLE48acxux3q8BTQAAAAAAAAAvUMADAAAAAAAAFAiBMAAAAAAAAAAJUIADAAAAAAAAFAiBMAAAAAAAAAAJUIADAAAAAAAAFAiBMBAr6lvqO/rEgAAAAAAAEqaABjoFfUN9Xl58+a+LgMAAAAAAKCkVXTlohNPGtPDZbRV/cy6Xp0PAAAAAAAAoBRYAQwAAAAAAABQIgTAAAAAAAAAACVCAAwAAAAAAABQIrq0B/Djjz7Uw2W09aFzp/TqfEDPq2+oz8ubN2f7G6/3dSkAAAAAAAAlywpgoFeUl5Vn6LHH9nUZAAAAAAAAJU0ADPSa8rLyvi4BAAAAAACgpAmAAQAAAAAAAEqEABgAAAAAAACgRAiAAQAAAAAAAEqEABgAAAAAAACgRAiAAQAAAAAAAEqEABgAAAAAAACgRFT0dQHAwee0se/N5A+cmfLyrn1F1NfX5d6Vv87ahx7u4coAAAAAAADYk5IIgIcMHpxTTzk5w4cdn/Ky8jz/4ot56OHfZ+sr2/q6tF4yKjO/dm1G3jYr16088NFGz7g+Cy4a1u7opiy7+ku5Zf2Bj98bJs9bnLm5OVNuWNXXpfRL5597dpb96K488dTTXbr+hNFVuWTKhQJgAAAAAACAPtavA+BCoZD3nzE+553z0ax/ZmOe2fhs6urrc8Loqpx79oezctUD+fk996a2tq6vS+0xk+ctztzxjX9e3Z0Dr9nP8HTSnCy/uDpXXrE067qznt6e4xBXWTkgTz29Pjt27MzRRw/Ne05+d9b+9pG89vprHV7/1Lr1qawc0MtVAgAAAAAA0F6/3QN44KBB+cJffTbvPeXk3HjTt7L6wd/mpHe9M+NOfU+eWrc+87+6KMccPTTz5nwhbzrm6L4ut2dMmpO549dm4fSbuzf8hVamfvxjmfrxj+WsD0/q61IAAAAAAADYi365AriysjKXXTozL/1pS279wfK884TR+czM6S3np1w4LPX19fne95flrA9PzuWf/2y+ftO3S68l9MobM2VlkkzMxF6asrE99KYsnH5jViRpbj89tfrmLMxlTauRx2XBkguaVhE/29Se+uZk9mWZkLWN91ZNy6L5F2RE88A1d+62ord9K+rVi2Zl1fsWdzBH11Yqd9QWevSM67Ngwm8a5540J8tnj2s607bl9W5tsfd3hXQ/9Ps/PJbj3vLmPPb4k31dCgAAAAAAAHvR7wLgQqGQz316Rp5/YXN+sOxHKRaLGXvqKbtdd9rYU3Pfr1fn7nvuTV1dXS7//KX52j9+M9t37OiDqkvHultvyrIJ1+aSGaOy4tYNGT3j8kzNnbnyhlVZl1VZsVt75lFJkhEXj8/9V8/Kdesbxxl95ojcf/WspoC1MUReMK+mJVTdFTR/qTForpqWmSOTFTfM6mCOrlnxwNrMvXh4Ricttb1/wrCsvm1p1lVNy6LZw7KsuaZJ0zKz6b7dammqd/m8HBIh8P2rH8z9qx/s8FxFRUXq6kq3xToAAAAAAEB/0+9aQBeLxax7ZkPeOuz4DBkyOEmyY+fO3a5rPlZRUZGqqpGprqnp8Do6Mf6yLF+yeNfra9MyOkmyIbfceGdy0ZRMzsR88qJk2Y1dCGJXL29ZTZsk6269sdX7DbnltrXJiOFNc0zMJy8altWLmlcZJ1m/NLesPMDPtHJNVg8/Pe+vanpfNSFnDF+bVS3jbsrG5ppWLm2qr+kzXt2qlqZnUD1+fCYfYEn92Uc/OCnzr70mE983vq9LAQAAAAAAoEmPrQAuFApJGgPb7vazX9ybgZUDM/uyS/ONb38n9616IO8bPy6DBg5smfOe/1yZysrKfO7TM7KztjbfW7KsR2rpPybmy0suy4SW92tbtXHuwJ5aHK9fmh+uWZy5S8Yla25uWdW7J9XPbtjt2G5tlWuqG/85aXxjq+gDDXx3syqr1lyWS84clVvWb8joM0/PiDV3ND6D9atzf821mbtkcSYumpXrmueeND4Tsimr1rcban1NqnN6RlYlaX+uRA096si8vPWVJMmZE07P+eednST5xNQLS3efbQAAAAAAgH6mRwLg4cOHp6amJklSVlaWhoaGbh2/WCzmjv/4Wd54443Mm/M3+ekv7s2Cr38jE04bm4oBA7L2oYdz1JFH5otXfCFPPPV0bvvRj1Nf37019D+rct307mtXvKF6UzJ+WKqrn92Pu5vC6Jo7c+X0ptXDk+Zk+cXdVl6nGttAT8joW9PU/rn5mWzILVfMyi1V07Jo/uIsn72XgPwQ8/4zJuSSiy/IvStX5dlna/KJqRe2Of+RD03K9u3b+6g6AAAAAAAAmvVIANwc/iY9swK4edy7f7kij/zhsUy98GP5+MfOzbM1Namtrctf/+WsbNmyNd9fdnuefHJfdomlS6qm5aqLNmXh1b/JJfMvz8xff6lNe+e93z88I7I2C1vt4Tv6rcOSNK0A3ljdc6trV67J6tkX5v2TkjOGr80P268yXr80s6evzsyvNe1z/OtOaqkanhEdrQwuQaePPTXTppyfJPngpIl7uLLQOwUBAAAAAADQqR7fA7in2y5veu75LPrWv+b6BV/PL1fcl1UPrMnCRd/KVxb+k/C3R4zKzDkXJLcvz4r1S/PV25Opc5r3B24yfERG7XWcYY2hatIUKLdqBb1+aX64Zlimzp+za4/dqmmZOWlf5+jIqqxaMyxnXHx6RqxZs2uF76Q5+fKktldWP7uh41paP4P9quHgt3NnbUZXjcqYU/4sn5p+cUtL9z2pravrhcoAAAAAAADYkx7bA7i3bdmyNVu2bO3rMkrH+MuyfMllbQ6tXjQrq953babmzlx5a+OevutuvSOrL7osV81Yndm3bkhWLs+yixv30p275uZMuaGDFtHrl+art5+eBfMXZ2qS1NyZKxetzYJWLaBX3DArmbe4cZwkyaYsu3pp48nd5uiktXX7z1BzZ668YmlWLL0zl8w/PctubHXfxuqMmL84y2c3vq2+/ZrMXrmrlg0zrs+Cllqazt+6+77GpeKun96d8875SA4//LBs3bYtSdMvcxSTYopp/L2OYorFxj/X19flnhW/6tOaAQB6Uk9sbQOwN5WVldm5c2dflwEAAPQzhRNPGrPXJbqPP/pQL5Syy4fOndKr83GImTQnyy+uzpWtWlDTe6qf6d6n3tvfTwAAAAAAAAeLE08as9uxHm8BDQeXUZl58bhUr14t/AUAAAAAAKDklEwLaNibyfMWZ+74JGtuzpQSbt8MAAAAAADAoUsAzCFjxQ2zsqKviwAAAAAAAIAepAU0AAAAAAAAQIkQAAMAAAAAAACUCAEwAAAAAAAAQIkQAAO9pr6hvq9LAAAAAAAAKGkCYKBX1DfU5+XNm/u6DAAAAAAAgJJW0ZWLTjxpTA+X0Vb1M+t6dT4AAAAAAACAUmAFMAAAAAAAAECJEAADAAAAAAAAlAgBMAAAAAAAAECJEAADAAAAAAAAlAgBMAAAAAAAAECJEAADAAAAAAAAlAgBMAAAAAAAAECJEAADAAAAAAAAlAgBMAAAAAAAAECJEAADAAAAAAAAlAgBMAAAAAAAAECJEAADAAAAAAAAlAgBMAAAAAAAAECJEAADAAAAAAAAlAgBMAAAAAAAAECJEAADAAAAAAAAlAgBMAAAAAAAAECJEAADAAAAAAAAlAgBMAAAAAAAAECJEAADAAAAAAAAlAgBMAAAAAAAAECJEAADAAAAAAAAlAgBMAAAAAAAAECJEAADAAAAAAAAlAgBMAAAAAAAAECJEAADAAAAAAAAlAgBMAAAAAAAAECJEAADAAAAAAAAlAgBMAAAAAAAAECJEAADAAAAAAAAlAgBMAAAAAAAAECJEAADAAAAAAAAlAgBMAAAAAAAAECJEAADAAAAAAAAlAgBMAAAAAAAAECJEAADAAAAAAAAlAgBMAAAAAAAAECJEAADAACHpIqKihQKhb4uAziEFAqFlJeX++4BAAB6lAAYAAAoGV0JVSoqKnLsscemvr4+xWKxF6oCSt3evnsKhUIGDRqUww8/3HcPAADQ4yr6ugAAAIDucthhh+W1115LsVhMRUVFBgwYkO3btydJxo8fn0GDBuWxxx7Liy++KIABukVZWVkGDRqU119/PYVCIQMHDkxtbW3q6+tz1FFHZdKkSdm6dWsefPDBbNu2ra/LBQAADgFWAAMAACWhUCjk1VdfzZFHHpn58+dn5MiRedOb3pTy8vIcccQR+eQnP5mNGzfmT3/6Uw4//HAtWIFuUSwW8/rrr+fP//zPc+GFF2bkyJEZOHBgysrK8ulPfzpvf/vb8+CDD2bnzp056qij+rpcAADgEFA48aQxfu0d6Lcef/Shvi4BAOhDQ4YMyRtvvNFmNe/xxx+fTZs25eSTT84LL7yQV199NbW1tSkWiykWiykvL8+AAQOyY8eONvcddthhGTJkSLZu3ZqdO3f2xccB+oGysrJUVla2dBdodskll+Tf//3fM3r06Lz66qt5/fXX09DQ0PI9M3jw4BSLxd3uO++88/Kf//mf2b59u84EAADAPjvxpDG7HRMAA/2aABgADm0nn3xynnjiidTW1qZQKLSEJ63/3FpZWVkaGhp6u0yghAwaNChve9vb8sc//nG3c519x3T2nbS3cwAAAHvTUQCsBTQAANBvPfroo0mSAQMGZMCAAS3HW4cpZWVlLe2eW7d9bt8CulAoZMiQIT1ZLlACtm/fnqeffjplZWUZMmRIysvLW861Dn8rKiq6NF55eXmbMQAAAA6UABgAAOiXhg4dmkKhkNra2tTX16dYLGbIkCG7BbsNDQ0pFAopFAqpr69Pkg4D4WKxmNGjR6dQKKSysrL3PgjQbxQKhRx33HGpra1NQ0NDduzYkfLy8g5/eaS+vr7lO6Z1d4L231FlZWWpqqpKkgwcOLBnPwAAAHBIEAADAAD90ssvv9wmTKmrq8uOHTuSZLfVdM0tVsvLy1NWVtYSxrRvu/rf//3fKRaLqa2t7YVPAPQ3xWIxmzdvbvnuaf6+2Llz527hblnZrv/J5fDDD0/ScbvnnTt35qmnnkoS3z0AAEC3EAADAAAHpa60RG1eYVcsFlMsFltWAp944om59NJLM2DAgFRWVqZQKOTP//zP26wALhaLHa4ETnYPhoFDQ0crdNtr/z1SLBZTV1eXJPm7v/u7jBgxIkcccUQaGhpyzjnnZMCAAXn11VdTXl7eZiVw6382s0c5AADQHQTAAADAQWlfgpD2ge1TTz2Vn/zkJxkwYEDq6+szePDgrF27Nu95z3uyfPnynHXWWTniiCPahMDNmlft7S0EAkpPc6C7L9e3/vO//du/5aWXXmr5Hnn44Ydz8skn59RTT82SJUsyZsyYDBgwIMVisU03gsR3DgAA0H0KJ540xq+2A/3W448+1NclAAD9QFlZWSoqKnLEEUfklVdeSUVFRSoqKrJt27bdrj388MPz+uuvZ/DgwXnttdf6oFqgVAwYMCCDBg1K0tjq+bDDDsu2bdt2a/VcKBRy7LHHZvPmzSkvL29ZUQwAALA3J540ZrdjFb1fBgAAwP5rXiXXfuXcnlbtNTQ0ZOfOnXnppZeS7HmfzVdffTVJhL9AGx199+xNbW1tm++b5n3K2ysWi3nxxReTRPgLAAAcMC2gAQCAfqW5dWp5eXnKyspSKBQycODAbp2jUCikrKwslZWVXdqLGChdrYPfAQMGtHw/VFRUtLR67i7N32lHHXVUt44LAAAcWgTAAABAv9AcupSVlWXgwIFpaGhIQ0NDisVitm/f3q1zFYvFNDQ0pLa2Nsccc0y3jg30L83fPQMHDmzZI7ihoSF1dXX7tFd5VzR/p73xxhupqNC0DQAA2D8CYAAAoF8oFAo57LDD8s53vjM7d+7cpzas+6t1W1bg0FMoFFJRUZFBgwblz/7sz/bYPr477dy5UytoAABgvwmAAQCAg15zm+eBAwdmy5YtKRaLLavyekN5eXlLG1jg0FFRUZHBgwcnSV5++eUUCoWWV2+orKzslXkAAIDSop8QAABw0Gtuibpjx440NDS0BL/d3X61MxUVFdmxY0evzAUcPGpra7N169aUlZVl3bp1SdIr3QeSxl886a3vOAAAoLQIgAEAgH6jOQzp7VBE+AuHtr4IYuvr63t9TgAAoDRoAQ0AAPQrhx9+eAYOHNjrbZl7q900cHA6+uijU15envLy8r4uBQAAYI/8LxgAAEC/UlFRkbe//e155zvfmUGDBvXavBdddFGvzQUcfEaOHJlRo0blbW97W6/98smb3/zmvOlNb+qVuQAAgNKhBTQAANCvbN26NTt37kxtbW3q6up6bd677rqr1+YCDj5//OMfUywW09DQ0Gv7AL/00ku9NhcAAFA6BMAAAEC/UiwWs3379l7fk3Pnzp29Oh9wcNmxY0fKysp69bunL/YeBgAA+j8toAEAgH5HKAL0Bd89AABAfyAABgAA+qVCoZCyMv9JA/Su8vLyXtsDGAAAYH9oAQ0AAPQrhUIh5eXlVuIBvaq8vDzFYtGevAAAwEHPr8sDAAD9RqFQyHHHHZdTTz01Q4YMyZAhQ1JR4fdagZ5VKBRy8skn54QTTsiAAQMyaNCgvi4JAACgUwJgAACgXzn11FOzc+fOVFZWpqKiQgAM9LghQ4bkhBNOSG1tbQYOHJhBgwZpAw0AABy0CieeNEbvIqDfevzRh/q6BACgl1VWVmbnzp1JkkGDBqWhoaHlPUBPKBQKqaioSG1tbcrKylq+h7SiBwAA+tqJJ43Z7ZgVwAAAQL/SOuxtaGhIfX19H1YDHAqKxWJqa2tb3tfV1dkLGAAAOGjplQYAAPRbtbW1vRLCFAoFYQ+QpPEXT6z8BQAADmZWAAMAAP1Wb4Wywl8AAACgvxAAAwAA/VqhUGjzT4De4nsHAAA4GAmAAQCAfq15de6BrtIdNGhQKisrBTpAlx3o905ZWVmOPPLIlJWV+e4BAAC6jQAYAAAoCUOHDj2g+7dv355jjjkmI0eOFMQAXVJRUZHBgwfv9/0NDQ157bXX8q53vStHHXVUN1YGAAAcyir6ugAAAIDu8PLLL7d53xziFovFFAqFlJWVpaGhIYVCIQ0NDS3XVVRUpK6uLkny3HPPpVAo2PMX6JK6urqW749mZWVlKRaLKRaLKS8vb/N90/q7pfk7qb6+Po899liv1QwAAJQ+K4ABAICS1BzANDv++OMzdOjQlJeXJ2kMiCsqKtqEM833NZ8vK/OfTMC+aWhoaPkeqaioyDve8Y4MGjSo5ZdSysvLOwyGm+9p/o4CAADYX/7XDAAAoOSVl5fnrW99awYOHNhmZXBdXd1uAXCz9gEywL4aOnRohg4dmsrKypZfKKmvr099fX2n9+zpHAAAQFdoAQ0AAJSUjlo419XVZe3atRk8eHAGDx6cnTt3dmksATDQVe2/ewqFQl544YVs2bIlxx13XF577bU+rA4AADiUCIABAICS0lloW1tbm9ra2iS79t7cV/YHBjrT/ruh+f3OnTuzcePG/W4p73sHAADYV1pAAwAAh5z9CX+Txv087QsM7I/9/d5JGtvYN7evBwAA2Bv/ywUAAEAX1dbWZuDAgTnjjDP6uhTgEFEsFlNfX58PfehDGTZsWF+XAwAA9ANaQAMAAOyD7du359FHH+3rMoBDzK9+9SsdCAAAgC4RAAMAAOyDYrGYrVu39nUZwCFmx44dfV0CAADQT/jVUQAAAAAAAIASIQAGAAAAOlQoFPq6BAAAAPaRABgAAPqB8vLyvi4BOMQUCgUBMAAAQD9kD2AAAOgH6uvr+7oE4BBTLBZTLBb7ugwAAAD2kRXAAAAAAAAAACVCAAwAAAAAAABQIgTAAAAAAAAAACVCAAwAAAAAAABQIgTAAAAAAAAAACVCAAwAAAAAAABQIgTAAAAAAAAAACVCAAwAAAAAAABQIgTAAAAAAAAAACVCAAwAAAAAAABQIgTAAAAAAAAAACVCAAwAAAAAAABQIgTAAAAAAAAAACVCAAwAAAAAAABQIgTAAAAAAAAAACVCAAwAAAAAAABQIgTAAAAAAAAAACVCAAwAAAAAAABQIgTAAAAAAAAAACVCAAwAAAAAAABQIgTAAAAAAAAAACVCAAwAAAAAAABQIgTAAAAAAAAAACVCAAwAAAAAAABQIgTAAAAAAAAAACVCAAwAAAAAAABQIgTAAAAAAAAAACVCAAwAAAAAAABQIgTAAAAAAAAAACVCAAwAAAAAAABQIgTAAAAAAAAAACVCAAwAAAAAAABQIgTAAAAAAAAAACVCAAwAAAAAAABQIgTAAAAAAAAAACVCAAwAAAAAAABQIgTAAAAAAAAAACVCAAwAAAAAAABQIgTAAAAAAAAAACVCAAwAAAAAAABQIgTAAAAAAAAAACVCAAwAAAAAAABQIgTAAAAAAAAAACVCAAwAAAAAAABQIgTAAAAAAAAAACVCAAwAAAAAAABQIgTAAAAAAAAAACVCAAwAAAAAAABQIgTAAAAAAAAAACVCAAwAAAAAAABQIgTAAAAAAAAAACVCAAwAAAAAAABQIgTAAAAAAAAAACVCAAwAAAAAAABQIgTAAAAAAAAAACVCAAwAAAAAAABQIgTAAAAAAAAAACVCAAwAAAAAAABQIgTAAAAAAAAAACVCAAwAAAAAAABQIgTAAAAAAAAAACVCAAwAAAAAAABQIgTAAAAAAAAAACVCAAwAAAAAAABQIgTAAAAAAAAAACVCAAwAAAAAAABQIgTAAAAAAAAAACVCAAwAAAAAAABQIgTAAAAAAAAAACVCAAwAAAAAAABQIgTAAAAAAAAAACVCAAwAAAAAAABQIgTAAAAAAAAAACVCAAwAAAAAAABQIgTAAAAAAAAAACVCAAwAAAAAAABQIgTAAAAAAAAAACVCAAwAAAAAAABQIgTAAAAAAAAAACVCAAwAAAAAAABQIgTAAAAAAAAAACVCAAwAAAAAAABQIgTAAAAAAAAAACVCAAwAAAAAAABQIgTAAAAAAAAAACVCAAwAAAAAAABQIgTAAAAAAAAAACVCAAwAAAAAAABQIgTAAAAAAAAAACVCAAwAAAAAAABQIgTAAAAAAAAAACVCAAwAAAAAAABQIgTAAAAAAAAAACVCAAwAAAAAAABQIgTAAAAAAAAAACVCAAwAAAAAAABQIgTAAAAAAAAAACVCAAwAAAAAAABQIgTAAAAAAAAAACVCAAwAAAAAAABQIgTAAAAAAAAAACVCAAwAAAAAAABQIgTAAAAAAAAAACVCAAwAAAAAAABQIgTAAAAAAAAAACWioisXDRg4MEcf8+YMqBzQo8XU7tiRLS+9mNra2k6vGTR4SIYee2zKy8p7tJb6hvq8vHlztr/xulr2sZY3v+X4vPu9YzKwclCP1rJj5/Y89vBDefGF5zq95mB6LgAAAAAAANDTuhQAH33MsSkW6/LSC3/q0WKOOGpojn7Tm/PCczWdXtMbYV6SlJeVZ+ixx+a5jRvUso+19Eb4myQDKwfl3e8dkxd/8dNOrzmYngsAAAAAAAD0tC61gB5QWZltW1/p6VqybevLGTBw4B6v6Y0wr6tzlVothUIhJ590Yv7yM59KZWXlfs/VG+FvV+c6mH5GAAAAAAAA0NO6tAK4vygvL09ZWWGf76urq0+xWOyWGo488ohMv/jj+dX9q/PoH5/otnF70oABFRk/bmwmT5qY495ybO5f/WB27tzZ12X1mTGnvif1dfV55L8f7etSAAAAAAAAYJ/0+wC4UCjkzAmn50OT3583H/um/Rpj27ZXs/Z3j+THP/3FAQef27a9mre85U35/KV/kZf+tCW/vPe+/Or+1Qc0Zk+a+L7xOe/cj+bww4a0HNuxc2cKhUK/CK+7U6FQyCUXX5CJ7xufJPnPFb/Kj37805Zzw457S2rr6vLi5pf6skwAAAAAAADo1H4FwBUVFTnqyCPy0p+2dHc9++zM952eT1x84QGNccQRh2fyB87M4Ycdln+/9Yf7NUahUMiE08bmox+elDcfe2yS5E3HHJ0TTqg6qAPghmJDm/A3SSZ/4MyMHDEs3/637+WN7dv7qLLeVSgU8ompF+bMCae3HPvQ5PenUEhuv+unmXP5X6XqbSOTJP913/257Y4f91WpAAAAAAAA0Kl9DoALhUL+z2uuTtXb3pZV9z+Qf/nXf+/TdsEfnvyBbhvrtLHvzR0//mm2vrJtn+47bMhhuXTWJ3PC6Krdzt33qwe6qbqe8Zu1v8vHzvlojjji8DbH3z66Kpf95adz4z99u9tWAk+eeHqOHnrEft370p+2ZuX9a7uljvaaV/62Dn+bffB/vD+DhwxuCX+T5D1/9i4BMAAAAAAAAAelfQ6Ay8vL8+Zj35wkmXjG+/LWYcOz4B9vykt90Ba3vLw8x77pmG4d8/jj37LPAfAnp328JfzdsWNnVj/42xw2ZHCOP+64PL3+mW6tr7vV1dVl5a8fyHlnf2S3c1WjRmbi+8Z32wrmo4cekePevH9tuuvre6YddaFQyCVTdrV97sj7Th/X9p7s+z7TAAAAAAAA0Bv2OQCuq6vLN7/9r/nCX/9VBg0amFFvG5n/3//1f+Tr/3RzHn30jz1RY6fKynYP4v7X1xbl1Vdf6/IYX/j8Z3PccW/ZNWahbJ9qGDCgIu/5s3cnSf770cfyv5fcntdefy3HHH10jj/+zR1cPyDvfc9JOW3MqRkyZPD/v707j6u6zvc4/j6A4i7uVnoAUcAWxTWLUDFSE7NMp+kxjKaT5X2kd7am+7g9mqsPndt0H9fb3LmNTTnZpKjVGNVMMzhZJsiJNNwQN0BRPK7IIouyyeHcP9gOi8BZEDi+no8Hjzy/5fv7gKYPzpvP56vko8d1KDlFhXaGzq6U+N1+PTZjms6cOaf9Bw8r4tFpGjq4qvbI2RE6mHxEpaVl7VZfWzEYDPrBU0/o4Sm3Dn8BAAAAAAAAAACAzsShPYCTk1O0+je/1S9/+pKGDBmiXr166dV/+6W2fvgXfb0rzmUjgx1x/foNFRZdb/X1FZZKp55XUWFRSWmpykrL9efoj2WxWCRJedeuKe9a1R7JBoNBgSNHaOKEEI257155e3fVhYuXdP1GsZ6MnKUnI2cp/VSG9h9KVsqxk7d9pPaN4hvaf+Cw0k+fUXLKMR1MTtHMR6dr9mPh6tGju/x9jTqZduq21tTWDAaDFs6fS/gLAAAAAAAAAAAAt+JQACxJly5e1qo1v9VLy5dp7NgHZDAYtCjqWfn5+WrTpq0qv3nTlXV2WFarVSdOpKtnr+614W+Nu+8aoonjQzRx3Bj16dNH164VyJS4V/sPpygr66okqXfvXho/9gFNGB+iHz+7UOXl5Uo5dlL7DyUr/VTGbQvTv4k3Kb+gsPZz2rkrTlezs/Vc1A81fNg9bhcAL3hqrkKnTHboXk9PDxkMhnb9QQfUCRwd0t4lAAAAAAAAAAAAdBgOB8CSVFxcot/939t6+qm5enLeXElSWOhDMg4fpj+sf1dZV7NdUmRH9+nf/qEXlkbVCwWjnl2gSeNDVFpapsMpx3TwULIyzp5rFBoWFV3Xnm/3as+3ezVk8EBNGDdWE8dXfVzJuqq33tmo4uISu+oZN/Z+PfLwg+rZo0eL11osFp3JNGvHl7saBdiHjxyTn69RA/r3s+v5Hd3C+U/okYccC38lqU+fPlrw1FzFfP53F1YFAAAAAAAAAAAAOM+pAFiSKisrFfPZF8rMPK/lL/5E3bp5y9c4XP/127Va/tLPbvs44/ZQUlqq7Z/9Xb7DhynTfF7dunlr0vgQ5eTm6eOYvyrjTGarukWzruZox85v9P3+Q1o4/wmNDhqlkQH+Sjl6otW1+PkO13NRP7Sr/nvuvks9e/ZQ9Lbtjc59+dVuRYSH2bVeR7bgyUinwt8ajzw0WdbKSn36t1gXVAUAAAAAAAAAAAC4htMBcI3UtHSZz59X4KiRVQt7eapvnz7Kzslx1SM6tCvVI50lydOj6ss6cEB/rVz+E2Xn5Gr/oWQdPHREuXnXmry/e7duChlzvyZNGKsR/n613bheHp521REcOMqh+kcHNX1fSWmp9u0/7NCaHU3ImPsVFjrFZeuFhU7ROfMFHTh8xGVrAgAAAAAAAAAAAM5wSQA8fNg9+vnPVmjwoIGSqvaQ/WZ3/B0T/rZk0MABmjPzUc2Z+ajOnM3U/oPJSk45rvKb5QoODNSkiSG6f3SQPD09lZGRqY8++VzppzO0+tVf2f0sry51v6X/+HKXDhxsPrz991/9VN28vdXF69Z/FNzl97H8pvt3o6N9dOveQz4DB8rTjh/YsFRalJ+To9KS4nrHe/ftpz4+Pq1epzA/X0UFdT9Y4kgtAAAAAAAAAAC0t6beN3f2PfM7ldMB8ORJE/TisqXy9u4qSSosLNJb699VWvopp4tzRyP8/TTC308LnpqrsrJy9ezZQ1lZV/XPr+N06PARXcsvkFTVEeys4pJi5RcUNn9Ry5Op3caJk+n67/9dr4H9B+iZhU+qV8+W90huSmlZmT78+DPl5efrwsVLLq4SnZEjgaunh6d8Bg7UlfPmesft+Yes5nrbf8wIfwEAANAZ9e7dR0PvHiYvry7tXcotVVTc1JVLF1RU1ML32QAAAAAc0tT75s6+Z367TXzoER3Y+227Pb+GwwGwwWDQwgVPad7cx2uPnT2Tqd+vf0d5txhzjDpeXl4qLi7R//z+j7p4+Uqr9giG8y5dztKly1maP+9xqUEAbLValX76jAoKq76Z792rp4IDR8lgMNS7zlJhUcrx1u/LDPfXMHC9b3SwTqSmtfj/dVsEtYS/AAAA6Iw6evgrSV5eXTT07mEqSuP7QQAAAKCt8B63azgUAPfo0V0v/csLGjvm/tpjCd9+p82bt6n85k2XFefuiktKdOHS5fYuA9W+3ZukT//6j3rH5s6OUMSMae1UETqr0CmTNDX0QW3etl3FJSUOr7PgyUidSD2lk2nptcd6dO8uP9/hOpGa3sydAAAAQOfS0cPfGp2lTgAAAMAdjQ8Zo8NHjtZrvoqYHqYbxcXam3SwHSvreOwOgA0Gg37585UKChwlSaqsrNTWbX/Rrt3xdLGiU7vURBh/6XJWO1SC2y5ouWI2R8koSUrUmimvKtbZJQNH6hf/ulwbN3+orKyrDq1x19AhOn+hbsz40CGDtWxJlJKPHicABgAAAAAAAADcUcIeflAPThxXr/lqwMAB6lrU1QWrB2jGC+NU8FmMDuY2ODUyQkvCfat+nX9EX3xyQHkOPaO/Jvxgvh7wqXldoKO1z2vunP0cCoCNw4dJkoqKruut9e8q1aY7zWAw6AcL52tCyFh5eHrIw9NTngaDDB4e8vD0kKeHpwweBnl5eEiSvj9wSO//OZrwGEA7CdTK30Tp3NqpWrhD0pw3lLR9uTKe2aBUJ1ceNHCAfrHyRW35MEbHTzq32pj77lXUswtq91sHAAAAAAAAAOBO44rmq4YCZj6vMF9JKtDRhidHRmhJuGR6731lOPugASNkLIjXpk+qVuo/aaHmzZios58cUF5z5xx4lN0BcGVlpd7Z8L4CRwXo62/iG+33O3TIYD0RObvV600LC9X2Tz5TYWGRvaU0acWLS1VhqWz19YMHDXTJc12t4b6zANpIULimG82Kr/mbOyNTZqOfAiSnA2BJ6ubtrWVLfqQdO3fp690Jdt9vMBg0KyJcsx8L5+8FAAAAAAAAAMAdr6b5autHMS5ZL+Or95VR3QFcX39NGOcrc5wLwl9Jyj2gz7+qe5l3JlMFIT7qJymvuXMOPMqhPYAPJ6focHJKk+dyc/OUnHJUQYGjZK20ylJpkbXSqspKiyyVVlkrLaqwVMpqtcpiqdD3SQcdDn8rKiy6UXxDPXv0rD02ZMhgh9aqkV9Q6NT9klRcUqxr1/LVr5+P3fcaDAYFB47SE5EzZbFU6tLlK07X01Hk5hXIYnGs0zvvWr5riwHqOa+zabavh8s/SFLaLS63k8FgUOTsx3T9erH2Jh2w696RAf6aNCHENYUAAAAAAAAAAOAGunl76/nnfqSjJ1JVVOSaJtNGBoyQ0adAGve8loRXHTLHva/dp12zfMCEsVLy502Gy82daw2HAuDmlN+8qTd/9wdXL9skq9WqI0dO6OGHJrlkvavZObqane30OlarVW+9s1GRjz+miePGtvq+4cPu1rzIWRoVMEKZ5vP6w7sbdeWq4/UM6j9AI/x8m73Gw+P2dRSa9h26bc8CWi3Ar3rv32ppmTqnMJc+wmq1KnbnN3aHv5J0OuOssnNz9fhjM+gABgAAAAAAAABAUmlZmbZ+FKP77g1uu4f081FfSUd3v1+1F+/ICC0Jj1DA6V1OdQT3n7RQ80L6SirQ0YN5rT5nD5cHwLfbF//cKR+fvrp3dKBT62Tn5GrT1o9lsWN8dHOu5Rdo60cxik/4TvMiZypwZMAtrx3Qv58iZ0dofMgYZefk6s9bPtLRYycd2he5vKy89tfh00IVPi20VfeVlZfZ/azOLDs316EO7Zp74UYyMmWWX93rID/5SjrrouXLSksV/XGMjp9wrJ3YarXqq13xunw5S1HPLlA3b28XVQYAAAAAAAAAQOeTnZNbuwdwmwbAkqR85dfEQqfPyhw+Xb4jpQwnuoDz9sdo035VBcpPRyj/vbpAublz9uj0AXBpaZne27RVgwYO0JAhg+Rp8LB7jbz8Al26fEUVFRUur+/CxUt6573NChoVoHmRs3X3XUNqz3Xt2kXz583RIw89qJKSEsV8/nftTTrgVAh9/GSqHp9pf6dgyjFX7HbaeWz9+DNNGPeAvLt2rT12/uLlRtddzrqqL7/eXfu64maFDh5pevw5OrOGI58bjoR2THZOrt7ftM2pTv4aR4+f1O/X/0nLlkQ5XxgAAAAAAAAAAJ1QWvppbd62XcUlJW3/sGv5KpCffAZIqu0NLFDBtbZcvxXnWqHTB8BSVYdc1fjmnPYupUlWq1Wp6aeVduptTRofojmzI+TTt4/69+unhx+cqF1xexS3J1GlZc534V68dEV//NMmPTxlknr27N7i9RZLpTLPndfueJPTz+5MCgsLFbcnscXrLl/J0uUrWbehIrSbtDjFm6PkH6CqADjAT0ZzptMburviH6HLV7JUdP1G7esrWVf1u7felZ/vcCerAwAAAAAAAACgczEl7tPhlGP1Jujm5uTqRnFx2zww94zM+WNlHNFfB3Pz1H/SOBmVL5Ojg2JHRmiGdtXuIdx/hJ/65mfqbG4L5xzQqgC4vKxMvfr01fXCAsee0kq9+/roZgujiC2VFnl6eLZpHbbPcmUtVqtVSQcP6/CRo5oyeYJ69uyp777fr8LCljentqeWUxlndCrjTKvrsldLtZSVl8q7a7c2e37DZzWnI/15QUeVrvXPvK439yUoaZUkJWrNlA1ypic+cd9+nUhNc2iMu61P/xbb6FhxSYlOpKY7tS4AAADQ0VRU3JSXV5f2LqNFFRU327sEAAAA4I516MjRRsd2uaDBMWDm8wrzrX7x9PN6IP+IvvjkgPKUp4OfxKvvC/O1JESSCnT0Myf2/72Wr75PP68l4TUHzsn03gHltXTOAYbA0SEtJhRdunSRz4BB6trGe0/eLC9TXnZ2s99QdeveQz4DB7Z5qGeptCg/J0elJbf+qQFqadqgwUMVPCakzUPgsvJSpaYkK/vqlVte05G+LnBfQ4cbHfozZqm06Mp5c71j9/j6273OxXN1OxY7WgsAAADQnnr37qOhdw/r0CFwRcVNXbl0QUVFhe1dCgAAAOC2Gr5v7ux75rfbxIce0YG937bb82u0KgAGANyaIz9ocKsfGujdt5/6+Pi0ep3C/HwV2Ww4cLt+6AEAAAAAAAAAAFdq6n1zZ98zv90IgAEAAAAAAAAAAAAALuXR3gUAAAAAAAAAAAAAAFyDABgAAAAAAAAAAAAA3AQBMAAAAAAAAAAAAAC4CQJgAAAAAAAAAAAAAHATBMAAAAAAAAAAAAAA4CYIgAEAAAAAAAAAAADATRAAAwAAAAAAAAAAAICbIAAGAAAAAAAAAAAAADdBAAwAAAAAAAAAAAAAboIAGAAAAAAAAAAAAADcBAEwAAAAAAAAAAAAALgJAmAAAAAAAAAAAAAAcBMEwAAAAAAAAAAAAADgJgiAAQAAAAAAAAAAAMBNdJIAOFArtycoad2s9i4EAAAAAAAAAAAAADosr5YuCF6xVdGLjA2OmhX93I+1Pq2NqgIAAAAAAAAAAAAA2K2VHcCJWjNlqiZXfyzeIi3evFUrg9q2OAAAAAAAAAAAAADoaCLXJShp3xuKdPG1ruDQCOjUt7fIJKOmRwS6uh4AAAAAAAAAAAAAaJWkfQlt/5A5byhp+3IF2xyKfWWqJk95VbGtuL3RtU2s50oO7gF8VmfNktHPv/7hoOWK2ZegpJqPRnv2Vu/l2+w1jdeJWVH/OZHrEpr8otzqOAAAAAAAAAAAAAD3UhP+3pYQuBNxMAD2l79RMmeerTsUtFwxm6N0bm3NqOjXZQp7rX7AO2ep/DfVjZKe/Nw2mcNeU8wKm07iOW8oqd46U/WB32tabLMNcWxcomQMU0S9EdSzNCNMMu+JU6pjnxQAAAAAAAAAAACATqBh6NtiCNywkbWJptLgFVvrNbK+Oae6AXVVqGSMUrRNc2vkuoTajDNyXeOm1+AVW2uf0ejaBuu1dL+9HAqAI9e9pjDzNv367fTqI4Fa+ZsoGU2v6+UdNVft1MtrE6Ww6XXzrHe8anNeUtoGfWCy7SQO1MoloVK9daTYV16XybaAHfGNR1DPma4wJeqD2poAAAAAAAAAAAAAuJtbhb3NhcDBEX6Kf66mAXWZohWlaJvQNXjFVkUvOq81No2sZ1U9vnltomTepsVTpmryKzsbrR0blyj5+tmEtYGKmGaUadOGRo2rTa1nz/2t0coAOFSrbdLuGXFTNfkZmwcGhWu6UTLFNfiEMzJl1nD51+vUrT8GenWY6j6hW61TPXK6zk7tNtUfQR0ZHiqZ4ls1ZxsAAAAAAAAAAABA59NSp++tzqe+/arWp9W8Stf6Tbah6yy9sMgo01qbfXrTNmj9jiYWasqOeJlspxcHhWu6MVG7b9f9DXi17rJEranemDhyXYJWr3pDkTsab2octipBSasa3+0fICmt+t4wybxlmSZXd+pGrkvQal/bq806m9FyRbFxiVq9aroitVOx1eOfTWsbJ+4AAAAAAAAAAAAA3MPkKVMdvreqy9dm31lzZtV/qycNr3EwcK1qXn1NSyMCtT4tXcERYTKattjRuOrs/fXZPQI69pVlijaHanWDOdSSZLLZt9f24+UdkoKWa2lY1TULmx3TbKwKjFuy4wNFm0M1Y45qf1McTcEBAAAAAAAAAAAAuKtZenNfgqKnmarGLk+pHsPsQrFxiTJOC1dwzfjmRhOP2/Z+Ww7sAZyu9f+xTeaw1/TmnOpDaXGKN0u+/oHN3tm4uzdQ/rbdv2mZOqem1vGXv7HBIaVr1x6zwsJnKTI8VOYtHzD+GQAAAAAAAAAAAEB9QX7yVaLW2GxxG+w/vO58k9va2qlmjPMcB8c3O3u/DQcCYElpG/SBSQpb9YYiJdXMyTYu2lgXCkuSZunNmk7htEydk1GLl9V1Dkeu26jF9YLdnXpvi7nBOoFauf01hTVRRuouk8xhi7TU16z4Xc11FQMAAAAAAAAAAAC4c9kEvEHL9Z+2o6DTNugDk1GLN9dkn1XXrLTNPY1+an6I8U7tNhk1fUmY1JrG1Ubr1d1vNMU71fjqWAAsKfaV12VSqFZvX161OfKOVzV5bWLVPsD7aj4W6ezGmvbknXr5uarO4ZrzSzOXaY2p/rqpb/9Yi7eYbdbZKP9NyxRtbqKItDjFm40yyqRdaU2cBwAAAAAAAAAAAHBnS9ugX2+RFm+uzh9/I/26wQjo2Femao0pVKtrcs7NYVLNZOPqrWlX70tQUhPb5NauEZcoo1EtN67eYr3YjdskoxS90fHxz5JkCBwdYnVqhXYVqJXbN2r6nmUt7CsMAAAAAAAAAAAAAB3YnDeUtCRTi21GVTvC4Q7gDiEoXNONjH8GAAAAAAAAAAAA0JkFauWSUJn3xDkV/kqSl0vqaSeRy6JkNL2u9Yx/BgAAAAAAAAAAANAJRa5L0OowSabXNdkFU4875Qjo4BVbFb3IWPVFeMW5GdgAAAAAAAAAAAAA4C46ZQAMAAAAAAAAAAAAAGisc+8BDAAAAAAAAAAAAACoRQAMAAAAAAAAAAAAAG6CABgAAAAAAAAAAAAA3MT/AyAhX7sO0ULXAAAAAElFTkSuQmCC\" alt=\"\"></img>"
      ],
      "text/plain": [
       "<napari.utils.notebook_display.NotebookScreenshot at 0x19f99e8e440>"
      ]
     },
     "execution_count": 20,
     "metadata": {},
     "output_type": "execute_result"
    }
   ],
   "source": [
    "# run lysosome segmentation function\n",
    "_lyso_object = _infer_lyso(  \n",
    "        img_data,\n",
    "        LYSO_CH,\n",
    "        med_filter_size,\n",
    "        gaussian_smoothing_sigma,\n",
    "        dot_scale_1,\n",
    "        dot_cut_1,\n",
    "        dot_scale_2,\n",
    "        dot_cut_2,\n",
    "        dot_scale_3,\n",
    "        dot_cut_3,\n",
    "        dot_method,\n",
    "        fil_scale_1,\n",
    "        fil_cut_1,\n",
    "        fil_scale_2,\n",
    "        fil_cut_2,\n",
    "        fil_scale_3,\n",
    "        fil_cut_3,\n",
    "        fil_method,\n",
    "        hole_min_width,\n",
    "        hole_max_width,\n",
    "        small_object_width,\n",
    "        fill_filter_method)\n",
    "\n",
    "#confirm this output matches the output saved above\n",
    "print(f\"The segmentation output here matches the output created above: {np.all(lysosome_labels == _lyso_object)}\")\n",
    "\n",
    "# adding image to Napari as a new layer\n",
    "viewer.add_labels(_lyso_object, scale=scale, name=\"infer_lyso() output\")\n",
    "viewer.grid.enabled = True\n",
    "viewer.reset_view()\n",
    "\n",
    "# screenshot viewer\n",
    "nbscreenshot(viewer, canvas_only = False)"
   ]
  },
  {
   "attachments": {},
   "cell_type": "markdown",
   "metadata": {},
   "source": [
    "-------------\n",
    "### ✅ **INFER LYSOSOMES COMPLETE!**\n",
    "\n",
    "Continue on to other notebooks as needed:\n",
    "- Infer [`mitochondria`](1.3_infer_mitochondria.ipynb)\n",
    "- Infer [`golgi`](1.4_infer_golgi.ipynb)\n",
    "- Infer [`peroxisomes`](1.5_infer_peroxisome.ipynb)\n",
    "- Infer [`endoplasmic reticulum (ER)`](1.6_infer_ER.ipynb)\n",
    "- Infer [`lipid droplets`](1.7_infer_lipid_droplet.ipynb)\n",
    "\n",
    "Or proceed to batch processing here: [batch process notebook](batch_process_segmentations.ipynb)"
   ]
  }
 ],
 "metadata": {
  "kernelspec": {
   "display_name": "infer-subc-sc",
   "language": "python",
   "name": "python3"
  },
  "language_info": {
   "codemirror_mode": {
    "name": "ipython",
    "version": 3
   },
   "file_extension": ".py",
   "mimetype": "text/x-python",
   "name": "python",
   "nbconvert_exporter": "python",
   "pygments_lexer": "ipython3",
   "version": "3.10.15"
  },
  "orig_nbformat": 4
 },
 "nbformat": 4,
 "nbformat_minor": 2
}
