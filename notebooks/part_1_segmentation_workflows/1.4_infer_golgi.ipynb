{
 "cells": [
  {
   "attachments": {},
   "cell_type": "markdown",
   "metadata": {},
   "source": [
    "# **Infer `Golgi`**\n",
    "\n",
    "***Prior to this notebook, you should have already run through [1.0_image_setup](1.0_image_setup.ipynb).***\n",
    "\n",
    "In notebooks 1.2 through 1.7, we will go over the implementation of `infer-subc` in the a Napari plugin called  `organelle-segmenter-plugin`. The steps outlined in each notebook correlate to the workflow steps from the plugin. Here, you will gain knowledge of what `infer-subc` functions are involved in each of those steps.\n",
    "\n",
    "The segmentation workflows are completely independent of each other and can be run in any order. The current notebook segments the `Golgi`. Notesbook for the segmentation of other organelles can be found here:\n",
    "- Infer [`lysosomes`](1.2_infer_lysosome.ipynb)\n",
    "- Infer [`mitochondria`](1.3_infer_mitochondria.ipynb)\n",
    "- Infer [`peroxisomes`](1.5_infer_peroxisome.ipynb)\n",
    "- Infer [`endoplasmic reticulum (ER)`](1.6_infer_ER.ipynb)\n",
    "- Infer [`lipid droplets`](1.7_infer_lipid_droplet.ipynb)\n",
    "\n",
    "***Note:** These notebooks do not include a batch processing option. They are simply explanations of the steps included in the Napari plugin. If you would like to batch process your images in a Jupyter notebook instead of the plugin, you can use the [batch process segmentation](batch_process_segmentations.ipynb) notebook.*\n",
    "\n",
    "### **Single cell analysis**\n",
    "Each workflow segments organelles from the entire image, irrespective of the cell mask identified in notebook 1.1. To attain a single-cell analysis, the mask will be applied to the organelle segmentation outputs before quantification in the `part_2_quantification` notebooks. \n",
    "\n",
    "### **Golgi** 📦✉️\n",
    "The Golgi is a membrane-enclosed complex that is part of the secretory pathway. Proteins and lipids are synthesized in the endoplasmic reticulum (ER), transferred to the Golgi where they are modified as needed, and then packaged into vesicles for further transport throughout the cell. The Golgi also acts as a signaling hub for nutrient sensing, cell growth and metabolism, and is involved in organelle contacts with other membrane-bound organelles. \n",
    "\n",
    "### **Fluorescence labeling strategies** 🔆 \n",
    "The Golgi can be fluorescently labeled in live and fixed cells by staining for endogenous proteins, targeting fluorescent proteins to the membrane or lumen using genertically encoded markers, or with dye-based approaches. The labeling approach used and resolution of your images can result in different staining outcomes that can impact the segmentation steps below. Additionally, sub-compartments within the Golgi have differing resident proteins making genetic and immunolabeling approaches nuanced. For example, labeling the GM130 protein will target the cis-Golgi while p230 will target the trans-Golgi network. These structures will likely have slightly different characteristics.\n",
    "\n",
    "This workflow was optimized for images of fluorescently tagged sialyltransferase 1 (SiT1), a Golgi membrane protein. The resulting Golgi structure has both the classical cisternae as well as small Golgi-derived vesicles; so we are utilizing two segmentation methods to idenfity the entire Golgi structure.\n",
    "\n",
    "***We advise that you test the segmentation process on a small, pilot dataset before committing to a particular labeling strategy and segmentation approach.***\n",
    "\n",
    "-----"
   ]
  },
  {
   "cell_type": "markdown",
   "metadata": {},
   "source": [
    "### 👣 **Summary of steps**  \n",
    "\n",
    "➡️ **EXTRACTION**\n",
    "- **`STEP 1`** - Select a channel for segmentation\n",
    "\n",
    "    - select single channel containing the golgi marker (channel number = user input)\n",
    "\n",
    "**PRE-PROCESSING**\n",
    "- **`STEP 2`** - Rescale and smooth image\n",
    "\n",
    "  - rescale intensity of composite image (min=0, max=1)\n",
    "  - median filter (median size = user input)\n",
    "  - gaussian filter (sigma = user input)\n",
    "\n",
    "**CORE PROCESSING**\n",
    "- **`STEP 3`** - Global + local thresholding (AICSSeg – MO)\n",
    "\n",
    "    - apply MO thresholding method from the Allen Cell [aicssegmentation](https://github.com/AllenCell/aics-segmentation) package (threshold options = user input)\n",
    "\n",
    "- **`STEP 4`** - Thin segmentation (Topology preserving)\n",
    "\n",
    "    - apply topology preserved thinning function from the Allen Cell [aicssegmentation](https://github.com/AllenCell/aics-segmentation) package (thinning amount, minimum thickness = user input)\n",
    "\n",
    "- **`STEP 5`** - ‘Dot’ thresholding method (AICSSeg)\n",
    "\n",
    "    - apply \"dot\" thresholding method (for small round objects) from the Allen Cell [aicssegmentation](https://github.com/AllenCell/aics-segmentation) package (size scale and threshold cutoff = user input)\n",
    "\n",
    "- **`STEP 6`** - Combine Segmentations (logical or)\n",
    "\n",
    "    - combine the two segmentations with logical *OR*\n",
    "\n",
    "**POST-PROCESSING**\n",
    "- **`STEP 7`** - Remove small holes and objects\n",
    "\n",
    "  - fill holes (hole size = user input)\n",
    "  - remove small objects (object size = user input)\n",
    "  - filter method (method = user input)\n",
    "\n",
    "**POST-POST-PROCESSING**\n",
    "- **`STEP 8`** - Label objects\n",
    "\n",
    "  - label unique golgi objects based on connectivity\n",
    "\n",
    "**EXPORT** ➡️\n",
    "- save labeled ***golgi*** (golgi, GL) as unsigned integer 16-bit tif files\n",
    "\n",
    "\n",
    "*This workflow is an adaptation of the Allen Cell Segmenter procedure for segmentation of Golgi from the [sialyltransferase 1 (ST6GAL1)](https://www.allencell.org/cell-observations/category/golgi-apparatus) marker. Sourced from: this [script](https://github.com/AllenCell/aics-segmentation/blob/main/aicssegmentation/structure_wrapper/seg_st6gal1.py).*"
   ]
  },
  {
   "cell_type": "markdown",
   "metadata": {},
   "source": [
    "---------------------\n",
    "## **IMPORTS AND LOAD IMAGE**\n",
    "Details about the functions included in this subsection are outlined in the [`1.0_image_setup`](1.0_image_setup.ipynb) notebook. Please visit that notebook first if you are confused about any of the code included here."
   ]
  },
  {
   "cell_type": "markdown",
   "metadata": {},
   "source": [
    "#### &#x1F3C3; **Run code; no user input required**"
   ]
  },
  {
   "cell_type": "code",
   "execution_count": 1,
   "metadata": {},
   "outputs": [],
   "source": [
    "from pathlib import Path\n",
    "import os\n",
    "\n",
    "import numpy as np\n",
    "import pandas as pd\n",
    "import napari\n",
    "from napari.utils.notebook_display import nbscreenshot\n",
    "\n",
    "from aicssegmentation.core.utils import topology_preserving_thinning\n",
    "\n",
    "from infer_subc.core.file_io import (read_czi_image,\n",
    "                                     export_inferred_organelle,\n",
    "                                     list_image_files,\n",
    "                                     sample_input)\n",
    "from infer_subc.core.img import *\n",
    "\n",
    "%load_ext autoreload\n",
    "%autoreload 2"
   ]
  },
  {
   "cell_type": "markdown",
   "metadata": {},
   "source": [
    "#### &#x1F6D1; &#x270D; **User Input Required:**\n",
    "\n",
    "Please specify the following information about your data: `im_type`, `data_root_path`, `in_data_path`, and `out_data_path`."
   ]
  },
  {
   "cell_type": "code",
   "execution_count": 2,
   "metadata": {},
   "outputs": [],
   "source": [
    "### USER INPUT REQUIRED ###\n",
    "# If using the sample data, select which cell type you would like analyze (\"neuron_1\", \"astrocyte\" or \"neuron_2\"):\n",
    "# If not using the sample data, set cell_type to None\n",
    "sample_data_type = \"neuron_1\"\n",
    "\n",
    "# If you are not using the sample data, please edit \"USER SPECIFIED\" as necessary.\n",
    "## Define the path to the directory that contains the input image folder.\n",
    "data_root_path = Path(\"USER SPECIFIED\")\n",
    "\n",
    "# Specify the file type of your raw data that will be analyzed. Ex) \".czi\" or \".tiff\"\n",
    "im_type = \"USER SPECIFIED\"\n",
    "\n",
    "## Specify which subfolder that contains the input data and the input data file extension\n",
    "in_data_path = data_root_path / \"USER SPECIFIED\"\n",
    "\n",
    "## Specify the output folder to save the segmentation outputs if.\n",
    "## If its not already created, the code below will creat it for you\n",
    "out_data_path = data_root_path / \"USER SPECIFIED\""
   ]
  },
  {
   "cell_type": "markdown",
   "metadata": {},
   "source": [
    "#### &#x1F3C3; **Run code; no user input required**"
   ]
  },
  {
   "cell_type": "code",
   "execution_count": 4,
   "metadata": {},
   "outputs": [
    {
     "data": {
      "text/html": [
       "<div>\n",
       "<style scoped>\n",
       "    .dataframe tbody tr th:only-of-type {\n",
       "        vertical-align: middle;\n",
       "    }\n",
       "\n",
       "    .dataframe tbody tr th {\n",
       "        vertical-align: top;\n",
       "    }\n",
       "\n",
       "    .dataframe thead th {\n",
       "        text-align: right;\n",
       "    }\n",
       "</style>\n",
       "<table border=\"1\" class=\"dataframe\">\n",
       "  <thead>\n",
       "    <tr style=\"text-align: right;\">\n",
       "      <th></th>\n",
       "      <th>Image Name</th>\n",
       "    </tr>\n",
       "  </thead>\n",
       "  <tbody>\n",
       "    <tr>\n",
       "      <th>0</th>\n",
       "      <td>c:\\Users\\redre\\Documents\\CohenLab\\scohen_lab_repo\\infer-subc\\sample_data\\example_neuron_1\\raw\\20230727_C2-121_conditioned_well 4_cell 3_untreated_Linear unmixing_0_cmle.ome.tiff</td>\n",
       "    </tr>\n",
       "  </tbody>\n",
       "</table>\n",
       "</div>"
      ],
      "text/plain": [
       "                                                                                                                                                                          Image Name\n",
       "0  c:\\Users\\redre\\Documents\\CohenLab\\scohen_lab_repo\\infer-subc\\sample_data\\example_neuron_1\\raw\\20230727_C2-121_conditioned_well 4_cell 3_untreated_Linear unmixing_0_cmle.ome.tiff"
      ]
     },
     "execution_count": 4,
     "metadata": {},
     "output_type": "execute_result"
    }
   ],
   "source": [
    "# If sample_data_type is set to \"neuron_1\", \"astrocyte\" or \"neuron_2\", then the sample data is used and the directories are set\n",
    "if sample_data_type != None:\n",
    "    data_root_path, im_type, in_data_path, out_data_path = sample_input(sample_data_type)\n",
    "\n",
    "# list files in the input folder\n",
    "img_file_list = list_image_files(in_data_path,im_type)\n",
    "pd.set_option('display.max_colwidth', None)\n",
    "pd.DataFrame({\"Image Name\":img_file_list})"
   ]
  },
  {
   "cell_type": "markdown",
   "metadata": {},
   "source": [
    "#### &#x1F6D1; &#x270D; **User Input Required:**\n",
    "\n",
    "Use the list above to specify which image you wish to analyze based on its index: `test_img_n`"
   ]
  },
  {
   "cell_type": "code",
   "execution_count": 4,
   "metadata": {},
   "outputs": [],
   "source": [
    "#### USER INPUT REQUIRED ###\n",
    "test_img_n = 0"
   ]
  },
  {
   "cell_type": "markdown",
   "metadata": {},
   "source": [
    "#### &#x1F3C3; **Run code; no user input required**"
   ]
  },
  {
   "cell_type": "code",
   "execution_count": 5,
   "metadata": {},
   "outputs": [
    {
     "name": "stdout",
     "output_type": "stream",
     "text": [
      "Metadata information\n",
      "File path: c:\\Users\\redre\\Documents\\CohenLab\\scohen_lab_repo\\infer-subc\\sample_data\\example_neuron\\raw\\20230727_C2-121_conditioned_well 4_cell 3_untreated_Linear unmixing_0_cmle.ome.tiff\n",
      "Channel 0 name: 20230727_C2-121_conditioned_well 4_cell 3_untreated_Linear unmixing_0_cmle.ome :: Channel:0\n",
      "Channel 1 name: 20230727_C2-121_conditioned_well 4_cell 3_untreated_Linear unmixing_0_cmle.ome :: Channel:1\n",
      "Channel 2 name: 20230727_C2-121_conditioned_well 4_cell 3_untreated_Linear unmixing_0_cmle.ome :: Channel:2\n",
      "Channel 3 name: 20230727_C2-121_conditioned_well 4_cell 3_untreated_Linear unmixing_0_cmle.ome :: Channel:3\n",
      "Channel 4 name: 20230727_C2-121_conditioned_well 4_cell 3_untreated_Linear unmixing_0_cmle.ome :: Channel:4\n",
      "Channel 5 name: 20230727_C2-121_conditioned_well 4_cell 3_untreated_Linear unmixing_0_cmle.ome :: Channel:5\n",
      "Scale (ZYX): (0.410594, 0.079947, 0.079947)\n",
      "Channel axis: 0\n",
      "\n",
      "Proceed to Napari window to view your selected image.\n"
     ]
    }
   ],
   "source": [
    "# load image and metadata\n",
    "test_img_name = img_file_list[test_img_n]\n",
    "img_data,meta_dict = read_czi_image(test_img_name)\n",
    "\n",
    "# metadata\n",
    "channel_names = meta_dict['name']\n",
    "meta = meta_dict['metadata']['aicsimage']\n",
    "scale = meta_dict['scale']\n",
    "channel_axis = meta_dict['channel_axis']\n",
    "file_path = meta_dict['file_name']\n",
    "print(\"Metadata information\")\n",
    "print(f\"File path: {file_path}\")\n",
    "for i in list(range(len(channel_names))):\n",
    "    print(f\"Channel {i} name: {channel_names[i]}\")\n",
    "print(f\"Scale (ZYX): {scale}\")\n",
    "print(f\"Channel axis: {channel_axis}\")\n",
    "\n",
    "# open viewer and add images\n",
    "viewer = napari.Viewer()\n",
    "for i in list(range(len(channel_names))):\n",
    "    viewer.add_image(img_data[i],\n",
    "                     scale=scale,\n",
    "                     name=f\"Channel {i}\")\n",
    "viewer.grid.enabled = True\n",
    "viewer.reset_view()\n",
    "print(\"\\nProceed to Napari window to view your selected image.\")"
   ]
  },
  {
   "cell_type": "markdown",
   "metadata": {},
   "source": [
    "-----\n",
    "\n",
    "## **EXTRACTION**"
   ]
  },
  {
   "cell_type": "markdown",
   "metadata": {},
   "source": [
    "### **`STEP 1` - Select a channel for segmentation**\n",
    "\n",
    "#### &#x1F6D1; &#x270D; **User Input Required:**\n",
    "\n",
    "Please specify which channel includes your Golgi label:\n",
    "- `GOLGI_CH`: the index of the channel containing your Golgi label. Image indexing begins with 0, not 1. Reference the channel numbers indicated in the Napari window for easy reference.\n",
    "\n",
    "⚙️ **SAMPLE DATA SETTINGS**\n",
    "\n",
    "If using the sample data, here are the correct channel indices\n",
    "\n",
    "|**Cell type**|GOLGI_CH| \n",
    "| :------------------------------------- |  :------:  |\n",
    "|Neuron 1|`2`|\n",
    "|Astrocyte|`2`|\n",
    "|Neuron 2|`2`|"
   ]
  },
  {
   "cell_type": "code",
   "execution_count": 6,
   "metadata": {},
   "outputs": [],
   "source": [
    "#### USER INPUT REQUIRED ###\n",
    "GOLGI_CH = 2"
   ]
  },
  {
   "cell_type": "markdown",
   "metadata": {},
   "source": [
    "#### &#x1F3C3; **Run code; no user input required**\n",
    "\n",
    "&#x1F453; **FYI:** This code block extracts the Golgi channel from your multi- (or single) channel image. It will be the only part of the image used in the rest of this workflow. The single golgi channel is added to the Napari viewer."
   ]
  },
  {
   "cell_type": "code",
   "execution_count": 7,
   "metadata": {},
   "outputs": [
    {
     "data": {
      "text/plain": [
       "<Image layer '1 - Extract Golgi' at 0x299a3daba30>"
      ]
     },
     "execution_count": 7,
     "metadata": {},
     "output_type": "execute_result"
    }
   ],
   "source": [
    "# select channel\n",
    "raw_golgi = select_channel_from_raw(img_data, GOLGI_CH)\n",
    "\n",
    "# clear napari and add single channel as a new layer\n",
    "viewer.layers.clear()\n",
    "viewer.grid.enabled = False\n",
    "viewer.add_image(raw_golgi, scale=scale, name=\"1 - Extract Golgi\")"
   ]
  },
  {
   "cell_type": "markdown",
   "metadata": {},
   "source": [
    "-----\n",
    "## **PRE-PROCESSING**"
   ]
  },
  {
   "cell_type": "markdown",
   "metadata": {},
   "source": [
    "### **`STEP 2` - Rescale and smooth image**\n",
    "\n",
    "&#x1F453; **FYI:** This code block rescales the image so that the pixel/voxel with the highest intensity is set to 1 and the one with the lowest intensity is set to 0. The image is then *optionally* smoothed using a Gaussian and/or median filter. \n",
    "\n",
    "<mark> Include more information on the Gaussian and median filtering methods here </mark>\n",
    "\n",
    "#### &#x1F6D1; &#x270D; **User Input Required:**\n",
    "\n",
    "Please specify the amount of filter to use for each method. Higher values indicate more smoothing:\n",
    "- `med_filter_size`: the size of the median filter to apply; if 0 is used, no filter will be applied\n",
    "- `gaussian_smoothing_sigma`: the sigma to apply in the Gaussian filtering step; if 0 is used, no filter will be applied"
   ]
  },
  {
   "cell_type": "markdown",
   "metadata": {},
   "source": [
    "⚙️ **SAMPLE DATA SETTINGS**\n",
    "\n",
    "If using the sample data, here are the recommended parameters for each cell type\n",
    "\n",
    "|**Cell type**|med_filter_size|gaussian_smoothing_sigma| \n",
    "| :------------------------------------- |  :------:  |  :------:  |\n",
    "|Neuron 1|`0`|`0.0`|\n",
    "|Astrocyte|`0`|`0.0`|\n",
    "|Neuron 2|`0`|`0.0`|"
   ]
  },
  {
   "cell_type": "code",
   "execution_count": null,
   "metadata": {},
   "outputs": [],
   "source": [
    "#### USER INPUT REQUIRED ###\n",
    "median_sz = 0\n",
    "gauss_sig = 0.0"
   ]
  },
  {
   "cell_type": "markdown",
   "metadata": {},
   "source": [
    "#### &#x1F3C3; **Run code; no user input required**\n",
    "\n",
    "&#x1F453; **FYI:** This code block rescales the image and applies the specified median and Gaussian filters. The image is then added to Napari as a new layer for visual comparison to the input image. \n",
    "\n",
    "Use the Napari viewer to iteratively adjust the smoothing settings selected above."
   ]
  },
  {
   "cell_type": "code",
   "execution_count": 9,
   "metadata": {},
   "outputs": [
    {
     "data": {
      "text/plain": [
       "<Image layer '2 - Rescale and Smooth' at 0x2999b151240>"
      ]
     },
     "execution_count": 9,
     "metadata": {},
     "output_type": "execute_result"
    }
   ],
   "source": [
    "# rescaling and smoothing input image\n",
    "struct_img =  scale_and_smooth(raw_golgi,\n",
    "                               median_size = median_sz, \n",
    "                               gauss_sigma = gauss_sig)\n",
    "\n",
    "# adding image to Napari as a new layer\n",
    "viewer.add_image(struct_img, scale=scale, name=\"2 - Rescale and Smooth\")"
   ]
  },
  {
   "cell_type": "markdown",
   "metadata": {},
   "source": [
    "-----\n",
    "## **CORE-PROCESSING**"
   ]
  },
  {
   "cell_type": "markdown",
   "metadata": {},
   "source": [
    "### **`STEP 3` - Global + local thresholding (AICSSeg – MO)**\n",
    "\n",
    "&#x1F453; **FYI:** This code block is the first of two semantic segmentation steps that are combined together in a later step, and is used to segment Golgi cisterae strucutres. `Semantic segmentation` is the process of deciding whether a pixel/voxel should be included in an object (labeled with a value of 1) or should be considered as part of the background (labeled with a value of 0). A semantic segmentation does not discern individual objects from one another.\n",
    "\n",
    "The masked_object_filter utilizes the 'MO' filter from the [`aics-segmentation`](https://github.com/AllenCell/aics-segmentation) package. AICS documentation states: \"The algorithm is a hybrid thresholding method combining two levels of thresholds. The steps are: [1] a global threshold is calculated, [2] extract each individual connected componet after applying the global threshold, [3] remove small objects, [4] within each remaining object, a local Otsu threshold is calculated and applied with an optional local threshold adjustment ratio (to make the segmentation more and less conservative). An extra check can be used in step [4], which requires the local Otsu threshold larger than 1/3 of global Otsu threhsold and otherwise this connected component is discarded.\"\n",
    "\n",
    "#### &#x1F6D1; &#x270D; **User Input Required:**\n",
    "\n",
    "Please specify the following values:\n",
    "- `thresh_method`: the global thresholding method; options include 'tri'/'triangle, 'med'/'median' or 'ave'/'ave_tri_med'. Triangle implements the [skimage.filters.threshold_triangle](https://scikit-image.org/docs/stable/api/skimage.filters.html#skimage.filters.threshold_triangle) method, median utilizes the 50th percentile of the intensities, and ave uses the average of the two methods to calculate the lower bound of the global threshold.\n",
    "- `cell_wise_min_area`: the minimum expected size of your object; smaller objects will be removed prior to local thresholding\n",
    "- `thresh_adj`: adjustment to make to the local threshold; larger values make the segmentation more stringent (less area included)"
   ]
  },
  {
   "cell_type": "markdown",
   "metadata": {},
   "source": [
    "⚙️ **SAMPLE DATA SETTINGS**\n",
    "\n",
    "If using the sample data, here are the recommended parameters for each cell type\n",
    "\n",
    "|**Cell type**|thresh_method|cell_wise_min_area|thresh_adj|\n",
    "| :------------------------------------- |  :------:  |  :------:  |  :------:  |\n",
    "|Neuron 1|`'ave_tri_med'`|`1200`|`.9`|\n",
    "|Astrocyte|`'ave_tri_med'`|`1200`|`.9`|\n",
    "|Neuron 2|`'triangle'`|`1200`|`.8`|"
   ]
  },
  {
   "cell_type": "code",
   "execution_count": 12,
   "metadata": {},
   "outputs": [],
   "source": [
    "#### USER INPUT REQUIRED ###\n",
    "thresh_method = 'ave_tri_med'\n",
    "cell_wise_min_area = 1200\n",
    "thresh_adj = .9"
   ]
  },
  {
   "cell_type": "markdown",
   "metadata": {},
   "source": [
    "#### &#x1F3C3; **Run code; no user input required**\n",
    "\n",
    "&#x1F453; **FYI:** This code block executes the MO filter using the settings above.\n",
    "\n",
    "Use the Napari viewer to iteratively adjust the filter settings as needed."
   ]
  },
  {
   "cell_type": "code",
   "execution_count": 13,
   "metadata": {},
   "outputs": [
    {
     "data": {
      "text/plain": [
       "<Image layer '3 - MO filter' at 0x299a5bfbca0>"
      ]
     },
     "execution_count": 13,
     "metadata": {},
     "output_type": "execute_result"
    }
   ],
   "source": [
    "# segment the majority of the golgi with this global and local thresholding method\n",
    "bw = masked_object_thresh(struct_img, \n",
    "                          global_method=thresh_method, \n",
    "                          cutoff_size=cell_wise_min_area, \n",
    "                          local_adjust=thresh_adj)\n",
    "\n",
    "# adding image to Napari as a new layer\n",
    "viewer.add_image(bw, scale=scale, name=\"3 - MO filter\", opacity=0.3, colormap=\"cyan\", blending='additive')"
   ]
  },
  {
   "cell_type": "markdown",
   "metadata": {},
   "source": [
    "### **`STEP 4` - Thin segmentation (topology preserving)**\n",
    "\n",
    "&#x1F453; **FYI:** This code block implements a thinning step to refine the result of the MO segmentation. This logic was developed in the [`aics-segmentation`](https://github.com/AllenCell/aics-segmentation) package. The [topology_preserve_thinning](https://github.com/AllenCell/aics-segmentation/blob/main/aicssegmentation/core/utils.py#L101) function reduces the diameter of the segmented object while preserving its overall topology.\n",
    "\n",
    "#### &#x1F6D1; &#x270D; **User Input Required:**\n",
    "\n",
    "Please specify the following values:\n",
    "- `thin_dist_preserve`: half of the minimum width of your object\n",
    "- `thin_dist`: the amount to thin by in pixels/voxels; must be a positive integer; a value of 0 can be used to if no thinning is needed"
   ]
  },
  {
   "cell_type": "markdown",
   "metadata": {},
   "source": [
    "⚙️ **SAMPLE DATA SETTINGS**\n",
    "\n",
    "If using the sample data, here are the recommended parameters for each cell type\n",
    "\n",
    "|**Cell type**|thin_dist_preserve|thin_dist|\n",
    "| :------------------------------------- |  :------:  |  :------:  |\n",
    "|Neuron 1|`8`|`1`|\n",
    "|Astrocyte|`8`|`1`|\n",
    "|Neuron 2|`1`|`1`|"
   ]
  },
  {
   "cell_type": "code",
   "execution_count": 14,
   "metadata": {},
   "outputs": [],
   "source": [
    "#### USER INPUT REQUIRED ###\n",
    "thin_dist_preserve = 8\n",
    "thin_dist = 1"
   ]
  },
  {
   "cell_type": "markdown",
   "metadata": {},
   "source": [
    "#### &#x1F3C3; **Run code; no user input required**\n",
    "\n",
    "&#x1F453; **FYI:** This code block executes the thinning step using the settings above.\n",
    "\n",
    "Use the Napari viewer to iteratively adjust the filter settings as needed."
   ]
  },
  {
   "cell_type": "code",
   "execution_count": 15,
   "metadata": {},
   "outputs": [
    {
     "data": {
      "text/plain": [
       "<Image layer '4 - Thinning' at 0x299a57d3b50>"
      ]
     },
     "execution_count": 15,
     "metadata": {},
     "output_type": "execute_result"
    }
   ],
   "source": [
    "# thin segmentation with maintain a minimal required thickness\n",
    "bw_thin = topology_preserving_thinning(bw, thin_dist_preserve, thin_dist)\n",
    "\n",
    "# adding image to Napari as a new layer\n",
    "viewer.add_image(bw_thin, scale=scale, name=\"4 - Thinning\", opacity=0.3, colormap=\"magenta\", blending='additive')"
   ]
  },
  {
   "cell_type": "markdown",
   "metadata": {},
   "source": [
    "### **`STEP 5` -  ‘Dot’ thresholding method (AICSSeg)**\n",
    "\n",
    "&#x1F453; **FYI:** This code block is the second of two semantic segmentation steps that are combined together in a later step, and is used to segment Golgi-derived vesicles. The 'dot' filter is derived from the [`aics-segmentation`](https://github.com/AllenCell/aics-segmentation) package. It utilizes up to three scale (object size) and cutoff (threshold) pairs for objects of different size and intensity. This function is specifically designed to segment small round objects.\n",
    "\n",
    "#### &#x1F6D1; &#x270D; **User Input Required:**\n",
    "\n",
    "Please specify the scale and cutoff values for each pair:\n",
    "- `dot_scale_1`: the size scale for the first scale/cutoff pair; larger values correlate to selection of larger objects\n",
    "- `dot_cut_1`: the threshold cutoff value for the first scale/cutoff pair; small cutoffs tend to yield more dots that are larger in volume; larger cutoffs tend to yield less dots that are slimmer.\n",
    "- `dot_scale_2`: the size scale for the second scale/cutoff pair; this can be set to 0 if a second scale/cutoff pair isn't needed\n",
    "- `dot_cut_2`: the threshold cutoff value for the second scale/cutoff pair; this can be set to 0 if a second scale/cutoff pair isn't needed\n",
    "- `dot_scale_3`: the size scale for the third scale/cutoff pair; this can be set to 0 if a third scale/cutoff pair isn't needed\n",
    "- `dot_cut_3`: the threshold cutoff value for the third scale/cutoff pair; this can be set to 0 if a third scale/cutoff pair isn't needed\n",
    "- `dot_method`: \"3D\" processes the image taking into account intensities in three dimensions (XYZ); \"slice-by-slice\" processes each Z-slice in the image separately, not considering any intensity in higher or lower Z planes."
   ]
  },
  {
   "cell_type": "markdown",
   "metadata": {},
   "source": [
    "⚙️ **SAMPLE DATA SETTINGS**\n",
    "\n",
    "If using the sample data, here are the recommended parameters for each cell type\n",
    "\n",
    "|**Cell type**|dot_scale_1|dot_cut_1|dot_scale_2|dot_cut_2|dot_scale_3|dot_cut_3|dot_method|\n",
    "| :------------------------------------- |  :------:  |  :------:  |  :------:  |  :------:  |  :------:  |  :------:  |  :------:  |\n",
    "|Neuron 1|`0.5`|`0.1`|`0`|`0`|`0`|`0`|`\"3D\"`|\n",
    "|Astrocyte|`0.5`|`0.1`|`0`|`0`|`0`|`0`|`\"3D\"`|\n",
    "|Neuron 2|`1.2`|`0.03`|`0`|`0`|`0`|`0`|`\"3D\"`|"
   ]
  },
  {
   "cell_type": "code",
   "execution_count": 16,
   "metadata": {},
   "outputs": [],
   "source": [
    "#### USER INPUT REQUIRED ###\n",
    "dot_scale_1 = 0.5\n",
    "dot_cut_1 = 0.1\n",
    "\n",
    "dot_scale_2 = 0\n",
    "dot_cut_2 = 0\n",
    "\n",
    "dot_scale_3 = 0\n",
    "dot_cut_3 = 0\n",
    "\n",
    "dot_method = '3D'"
   ]
  },
  {
   "cell_type": "markdown",
   "metadata": {},
   "source": [
    "#### &#x1F3C3; **Run code; no user input required**\n",
    "\n",
    "&#x1F453; **FYI:** This code block executes the dot filter using the settings above.\n",
    "\n",
    "Use the Napari viewer to iteratively adjust the filter settings as needed. \n",
    "\n",
    "*Hint: it is helpful to adjust the scale/cutoff filters one at a time and then combine them once each pair's settings are confirmed.*"
   ]
  },
  {
   "cell_type": "code",
   "execution_count": 17,
   "metadata": {},
   "outputs": [
    {
     "data": {
      "text/plain": [
       "<Image layer '5 - Dot filter' at 0x299a6cf8700>"
      ]
     },
     "execution_count": 17,
     "metadata": {},
     "output_type": "execute_result"
    }
   ],
   "source": [
    "# segment small round structures with this (golgi vesicles)\n",
    "bw_extra = dot_filter_3(struct_img,\n",
    "                        dot_scale_1,\n",
    "                        dot_cut_1,\n",
    "                        dot_scale_2,\n",
    "                        dot_cut_2,\n",
    "                        dot_scale_3,\n",
    "                        dot_cut_3,\n",
    "                        dot_method)\n",
    "\n",
    "# adding image to Napari as a new layer\n",
    "viewer.add_image(bw_extra, scale=scale, name=\"5 - Dot filter\", opacity=0.3, colormap=\"green\", blending='additive')"
   ]
  },
  {
   "cell_type": "markdown",
   "metadata": {},
   "source": [
    "### **`STEP 6` - Combine Segmentations**\n",
    "\n",
    "#### &#x1F3C3; **Run code; no user input required**\n",
    "\n",
    "&#x1F453; **FYI:** This code block combines the results of the thinning and the dot filter together using the \"logical or\" operation. The resulting semantic segmentation can be viewed in Napari."
   ]
  },
  {
   "cell_type": "code",
   "execution_count": 18,
   "metadata": {},
   "outputs": [
    {
     "data": {
      "text/plain": [
       "<Image layer '6 - Combined Semantic Segmentation' at 0x299a1df64d0>"
      ]
     },
     "execution_count": 18,
     "metadata": {},
     "output_type": "execute_result"
    }
   ],
   "source": [
    "# combine the two segmentations together\n",
    "bw_combine = np.logical_or(bw_extra, bw_thin)\n",
    "\n",
    "# adding image to Napari as a new layer\n",
    "viewer.add_image(bw_combine, scale=scale, name=\"6 - Combined Semantic Segmentation\", opacity=0.3, blending='additive')"
   ]
  },
  {
   "cell_type": "markdown",
   "metadata": {},
   "source": [
    "-----\n",
    "## **POST-PROCESSING**"
   ]
  },
  {
   "cell_type": "markdown",
   "metadata": {},
   "source": [
    "### **`STEP 7` - Remove small holes and objects**\n",
    "\n",
    "&#x1F453; **FYI:** This code block cleans up the semantic segmentation by filling small holes and/or removing small objects that can be considered errors in the initial segmentation. \n",
    "\n",
    "#### &#x1F6D1; &#x270D; **User Input Required:**\n",
    "\n",
    "Please specify the following values:\n",
    "- `hole_min_width`: the width of the smallest hole to be filled\n",
    "- `hole_max_width`: the width of the largest hole to be filled\n",
    "- `small_object_width`: the width of the largest object to be removed; any object smaller than this size will be removed\n",
    "- `fill_filter_method`: \"3D\" processes the image taking into account segmentation values in three dimensions (XYZ); \"slice-by-slice\" processes each Z-slice in the image separately, not considering the segmentation results in higher or lower Z planes."
   ]
  },
  {
   "cell_type": "markdown",
   "metadata": {},
   "source": [
    "⚙️ **SAMPLE DATA SETTINGS**\n",
    "\n",
    "If using the sample data, here are the recommended parameters for each cell type\n",
    "\n",
    "|**Cell type**|hole_min_width|hole_max_width|small_object_width|fill_filter_method|\n",
    "| :------------------------------------- |  :------:  |  :------:  |  :------:  |  :------:  |\n",
    "|Neuron 1|`0`|`0`|`2`|`\"3D\"`|\n",
    "|Astrocyte|`0`|`0`|`2`|`\"3D\"`|\n",
    "|Neuron 2|`0`|`4`|`2`|`\"3D\"`|"
   ]
  },
  {
   "cell_type": "code",
   "execution_count": 19,
   "metadata": {},
   "outputs": [],
   "source": [
    "#### USER INPUT REQUIRED ###\n",
    "hole_min_width = 0\n",
    "hole_max_width = 0\n",
    "\n",
    "small_object_width = 2\n",
    "\n",
    "fill_filter_method = \"3D\""
   ]
  },
  {
   "cell_type": "markdown",
   "metadata": {},
   "source": [
    "#### &#x1F3C3; **Run code; no user input required**\n",
    "\n",
    "&#x1F453; **FYI:** This code block fills small holes and removes small objects using the settings above.\n",
    "\n",
    "Use the Napari viewer to iteratively adjust the filter settings as needed. \n",
    "\n",
    "*Hint: white pixels/voxels are the ones remaining after this step*"
   ]
  },
  {
   "cell_type": "code",
   "execution_count": 20,
   "metadata": {},
   "outputs": [
    {
     "data": {
      "text/plain": [
       "<Image layer '7 - Fill holes and remove small objects' at 0x2999c20d720>"
      ]
     },
     "execution_count": 20,
     "metadata": {},
     "output_type": "execute_result"
    }
   ],
   "source": [
    "# fill holes and removed small objects\n",
    "cleaned_img2 = fill_and_filter_linear_size(bw_combine, \n",
    "                                           hole_min=hole_min_width, \n",
    "                                           hole_max=hole_max_width, \n",
    "                                           min_size=small_object_width,\n",
    "                                           method=fill_filter_method)\n",
    "\n",
    "# adding image to Napari as a new layer\n",
    "viewer.add_image(cleaned_img2, scale=scale, name=\"7 - Fill holes and remove small objects\", colormap=\"magenta\", blending=\"additive\")"
   ]
  },
  {
   "cell_type": "markdown",
   "metadata": {},
   "source": [
    "-----\n",
    "## **POST-POST-PROCESSING**"
   ]
  },
  {
   "cell_type": "markdown",
   "metadata": {},
   "source": [
    "## **`STEP 8` - Label objects**\n",
    "\n",
    "#### &#x1F3C3; **Run code; no user input required**\n",
    "&#x1F453; **FYI:** This code block takes the semantic segmentation and creates an `instance segmentation`. In this output, each individual object in the image is given a unique ID number. The background pixels/voxels are still labeled as 0, but now each pixel/voxel within an object is labeled as a positive integer. \n",
    "\n",
    "In this workflow objects are separated based on connectivity: if a pixel/voxel is touching another pixel/voxel in any direction, they are considered the same object and each pixel/voxel within that object is labeled as the same unique ID number. \n",
    "\n",
    "*In the Napari viewer, the image is added as a \"labels\" layer where each object appears as a different color.*"
   ]
  },
  {
   "cell_type": "code",
   "execution_count": 21,
   "metadata": {},
   "outputs": [
    {
     "data": {
      "text/plain": [
       "<Labels layer '8 - Instance segmentation' at 0x299a544e6b0>"
      ]
     },
     "execution_count": 21,
     "metadata": {},
     "output_type": "execute_result"
    }
   ],
   "source": [
    "# create instance segmentation based on connectivity\n",
    "golgi_labels = label_uint16(cleaned_img2)\n",
    "\n",
    "# adding image to Napari as a new layer\n",
    "viewer.add_labels(golgi_labels, scale=scale, name=\"8 - Instance segmentation\")"
   ]
  },
  {
   "cell_type": "markdown",
   "metadata": {},
   "source": [
    "-----\n",
    "## **SAVING**"
   ]
  },
  {
   "cell_type": "markdown",
   "metadata": {},
   "source": [
    "## **`Saving` - Save the segmentation output**\n",
    "\n",
    "#### &#x1F3C3; **Run code; no user input required**\n",
    "&#x1F453; **FYI:** This code block saves the instance segmentation output to the `out_data_path` specified earlier."
   ]
  },
  {
   "cell_type": "code",
   "execution_count": 22,
   "metadata": {},
   "outputs": [
    {
     "name": "stdout",
     "output_type": "stream",
     "text": [
      "saved file: 20230727_C2-121_conditioned_well 4_cell 3_untreated_Linear unmixing_0_cmle.ome-golgi\n",
      "saved to: c:\\Users\\redre\\Documents\\CohenLab\\scohen_lab_repo\\infer-subc\\sample_data\\example_neuron\\seg\n"
     ]
    }
   ],
   "source": [
    "# Saving file\n",
    "out_file_n = export_inferred_organelle(golgi_labels, \"golgi\", meta_dict, out_data_path)\n",
    "print(f\"saved to: {out_data_path}\")"
   ]
  },
  {
   "attachments": {},
   "cell_type": "markdown",
   "metadata": {},
   "source": [
    "-----\n",
    "-----\n",
    "## **Define `infer_golgi` function**\n",
    "The following code includes an example of how the workflow steps above are combined into one function. This function can be run below to process a single image. It is included in the [batch process notebook](batch_process_segmentations.ipynb) to run the above analysis on multiple cells. \n",
    "\n",
    "This function can utilized from infer-subc using:\n",
    "```python\n",
    "infer_subc.organelles.golgi.infer_golgi()\n",
    "```\n",
    "\n",
    "#### &#x1F3C3; **Run code; no user input required**\n",
    "&#x1F453; **FYI:** This code block defines the `infer_golgi()` function. It is applied below."
   ]
  },
  {
   "cell_type": "code",
   "execution_count": 23,
   "metadata": {},
   "outputs": [],
   "source": [
    "##########################\n",
    "#  infer_golgi\n",
    "##########################\n",
    "def _infer_golgi(\n",
    "            in_img: np.ndarray,\n",
    "            golgi_ch: int,\n",
    "            median_sz: int,\n",
    "            gauss_sig: float,\n",
    "            mo_method: str,\n",
    "            mo_adjust: float,\n",
    "            mo_cutoff_size: int,\n",
    "            min_thickness: int,\n",
    "            thin_dist: int,\n",
    "            dot_scale_1: float,\n",
    "            dot_cut_1: float,\n",
    "            dot_scale_2: float,\n",
    "            dot_cut_2: float,\n",
    "            dot_scale_3: float,\n",
    "            dot_cut_3: float,\n",
    "            dot_method: str,\n",
    "            min_hole_w: int,\n",
    "            max_hole_w: int,\n",
    "            small_obj_w: int,\n",
    "            fill_filter_method: str\n",
    "        ) -> np.ndarray:\n",
    "\n",
    "    \"\"\"\n",
    "    Procedure to infer golgi from linearly unmixed input.\n",
    "\n",
    "   Parameters\n",
    "    ------------\n",
    "    in_img: \n",
    "        a 3d image containing all the channels\n",
    "    median_sz: \n",
    "        width of median filter for signal\n",
    "    mo_method: \n",
    "         which method to use for calculating global threshold. Options include:\n",
    "         \"triangle\" (or \"tri\"), \"median\" (or \"med\"), and \"ave_tri_med\" (or \"ave\").\n",
    "         \"ave\" refers the average of \"triangle\" threshold and \"mean\" threshold.\n",
    "    mo_adjust: \n",
    "        Masked Object threshold `local_adjust`\n",
    "    mo_cutoff_size: \n",
    "        Masked Object threshold `size_min`\n",
    "    min_thinkness: \n",
    "        Half of the minimum width you want to keep from being thinned.\n",
    "        For example, when the object width is smaller than 4, you don't\n",
    "        want to make this part even thinner (may break the thin object\n",
    "        and alter the topology), you can set this value as 2.\n",
    "    thin_dist: \n",
    "        the amount to thin (has to be an positive integer). The number of\n",
    "         pixels to be removed from outter boundary towards center.\n",
    "    dot_scale: \n",
    "        scales (log_sigma) for dot filter (1,2, and 3)\n",
    "    dot_cut: \n",
    "        threshold for dot filter thresholds (1,2,and 3)\n",
    "    small_obj_w: \n",
    "        minimu object size cutoff for nuclei post-processing\n",
    "    \n",
    "    Returns\n",
    "    -------------\n",
    "    golgi_object\n",
    "        mask defined extent of golgi object\n",
    "    \"\"\"\n",
    "\n",
    "    ###################\n",
    "    # EXTRACT\n",
    "    ###################    \n",
    "    golgi = select_channel_from_raw(in_img, golgi_ch)\n",
    "\n",
    "    ###################\n",
    "    # PRE_PROCESSING\n",
    "    ###################    \n",
    "    golgi =  scale_and_smooth(golgi,\n",
    "                              median_size = median_sz, \n",
    "                              gauss_sigma = gauss_sig)\n",
    "    ###################\n",
    "    # CORE_PROCESSING\n",
    "    ###################\n",
    "    bw = masked_object_thresh(golgi, global_method=mo_method, cutoff_size=mo_cutoff_size, local_adjust=mo_adjust)\n",
    "\n",
    "    bw_thin = topology_preserving_thinning(bw, min_thickness, thin_dist)\n",
    "\n",
    "    bw_extra = dot_filter_3(golgi, dot_scale_1, dot_cut_1, dot_scale_2, dot_cut_2, dot_scale_3, dot_cut_3, dot_method)\n",
    "\n",
    "    bw = np.logical_or(bw_extra, bw_thin)\n",
    "    ###################\n",
    "    # POST_PROCESSING\n",
    "    ###################\n",
    "    struct_obj = fill_and_filter_linear_size(bw, \n",
    "                                             hole_min=min_hole_w, \n",
    "                                             hole_max=max_hole_w, \n",
    "                                             min_size=small_obj_w,\n",
    "                                             method=fill_filter_method)\n",
    "\n",
    "    ###################\n",
    "    # LABELING\n",
    "    ###################\n",
    "    struct_obj1 = label_uint16(struct_obj)\n",
    "\n",
    "    return struct_obj1\n"
   ]
  },
  {
   "cell_type": "markdown",
   "metadata": {},
   "source": [
    "#### &#x1F3C3; **Run code; no user input required**\n",
    "\n",
    "&#x1F453; **FYI:** This code block applies the function above to your test image. The settings specified above are applied here."
   ]
  },
  {
   "cell_type": "code",
   "execution_count": 24,
   "metadata": {},
   "outputs": [
    {
     "name": "stdout",
     "output_type": "stream",
     "text": [
      "The segmentation output here matches the output created above: False\n"
     ]
    },
    {
     "data": {
      "image/png": "[encoded data removed]",
      "text/html": [
       "<img src=\"data:image/png;base64,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\" alt=\"\"></img>"
      ],
      "text/plain": [
       "<napari.utils.notebook_display.NotebookScreenshot at 0x299b7a29d80>"
      ]
     },
     "execution_count": 24,
     "metadata": {},
     "output_type": "execute_result"
    }
   ],
   "source": [
    "_golgi_object =  _infer_golgi(\n",
    "    img_data,\n",
    "    GOLGI_CH,\n",
    "    median_sz,\n",
    "    gauss_sig,\n",
    "    thresh_method,\n",
    "    thresh_adj,\n",
    "    cell_wise_min_area,\n",
    "    thin_dist_preserve,\n",
    "    thin_dist,\n",
    "    dot_scale_1,\n",
    "    dot_cut_1,\n",
    "    dot_scale_2,\n",
    "    dot_cut_2,\n",
    "    dot_scale_3,\n",
    "    dot_cut_3,\n",
    "    dot_method,\n",
    "    hole_min_width,\n",
    "    hole_max_width,\n",
    "    small_object_width,\n",
    "    fill_filter_method) \n",
    "\n",
    "#confirm this output matches the output saved above\n",
    "print(f\"The segmentation output here matches the output created above: {np.all(golgi_labels == _golgi_object)}\")\n",
    "\n",
    "# adding image to Napari as a new layer\n",
    "viewer.add_labels(_golgi_object, scale=scale, name=\"infer_golgi() output\")\n",
    "viewer.grid.enabled = True\n",
    "viewer.reset_view()\n",
    "\n",
    "# screenshot viewer\n",
    "nbscreenshot(viewer, canvas_only = False)"
   ]
  },
  {
   "cell_type": "markdown",
   "metadata": {},
   "source": [
    "-------------\n",
    "### ✅ **INFER GOLGI COMPLETE!**\n",
    "\n",
    "Continue on to other notebooks as needed:\n",
    "- Infer [`lysosomes`](1.2_infer_lysosome.ipynb)\n",
    "- Infer [`mitochondria`](1.3_infer_mitochondria.ipynb)\n",
    "- Infer [`peroxisomes`](1.5_infer_peroxisome.ipynb)\n",
    "- Infer [`endoplasmic reticulum (ER)`](1.6_infer_ER.ipynb)\n",
    "- Infer [`lipid droplets`](1.7_infer_lipid_droplet.ipynb)\n",
    "\n",
    "Or proceed to batch processing here: [batch process notebook](batch_process_segmentations.ipynb)"
   ]
  }
 ],
 "metadata": {
  "kernelspec": {
   "display_name": "infer-subc-sc",
   "language": "python",
   "name": "python3"
  },
  "language_info": {
   "codemirror_mode": {
    "name": "ipython",
    "version": 3
   },
   "file_extension": ".py",
   "mimetype": "text/x-python",
   "name": "python",
   "nbconvert_exporter": "python",
   "pygments_lexer": "ipython3",
   "version": "3.10.15"
  },
  "orig_nbformat": 4
 },
 "nbformat": 4,
 "nbformat_minor": 2
}
