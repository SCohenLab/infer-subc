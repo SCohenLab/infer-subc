{
 "cells": [
  {
   "attachments": {},
   "cell_type": "markdown",
   "metadata": {},
   "source": [
    "# **Infer `Golgi`**\n",
    "\n",
    "***Prior to this notebook, you should have already run through [1.0_image_setup](1.0_image_setup.ipynb).***\n",
    "\n",
    "In notebooks 1.2 through 1.7, we will go over the implementation of `infer-subc` in the a Napari plugin called  `organelle-segmenter-plugin`. The steps outlined in each notebook correlate to the workflow steps from the plugin. Here, you will gain knowledge of what `infer-subc` functions are involved in each of those steps.\n",
    "\n",
    "The segmentation workflows are completely independent of each other and can be run in any order. The current notebook segments the `Golgi`. Notesbook for the segmentation of other organelles can be found here:\n",
    "- Infer [`lysosomes`](1.2_infer_lysosome.ipynb)\n",
    "- Infer [`mitochondria`](1.3_infer_mitochondria.ipynb)\n",
    "- Infer [`peroxisomes`](1.5_infer_peroxisome.ipynb)\n",
    "- Infer [`endoplasmic reticulum (ER)`](1.6_infer_ER.ipynb)\n",
    "- Infer [`lipid droplets`](1.7_infer_lipid_droplet.ipynb)\n",
    "\n",
    "***Note:** These notebooks do not include a batch processing option. They are simply explanations of the steps included in the Napari plugin. If you would like to batch process your images in a Jupyter notebook instead of the plugin, you can use the [batch process segmentation](batch_process_segmentations.ipynb) notebook.*\n",
    "\n",
    "### **Single cell analysis**\n",
    "Each workflow segments organelles from the entire image, irrespective of the cell mask identified in notebook 1.1. To attain a single-cell analysis, the mask will be applied to the organelle segmentation outputs before quantification in the `part_2_quantification` notebooks. \n",
    "\n",
    "### **Golgi** 📦✉️\n",
    "The Golgi is a membrane-enclosed complex that is part of the secretory pathway. Proteins and lipids are synthesized in the endoplasmic reticulum (ER), transferred to the Golgi where they are modified as needed, and then packaged into vesicles for further transport throughout the cell. The Golgi also acts as a signaling hub for nutrient sensing, cell growth and metabolism, and is involved in organelle contacts with other membrane-bound organelles. \n",
    "\n",
    "### **Fluorescence labeling strategies** 🔆 \n",
    "The Golgi can be fluorescently labeled in live and fixed cells by staining for endogenous proteins, targeting fluorescent proteins to the membrane or lumen using genertically encoded markers, or with dye-based approaches. The labeling approach used and resolution of your images can result in different staining outcomes that can impact the segmentation steps below. Additionally, sub-compartments within the Golgi have differing resident proteins making genetic and immunolabeling approaches nuanced. For example, labeling the GM130 protein will target the cis-Golgi while p230 will target the trans-Golgi network. These structures will likely have slightly different characteristics.\n",
    "\n",
    "This workflow was optimized for images of fluorescently tagged sialyltransferase 1 (SiT1), a Golgi membrane protein. The resulting Golgi structure has both the classical cisternae as well as small Golgi-derived vesicles; so we are utilizing two segmentation methods to idenfity the entire Golgi structure.\n",
    "\n",
    "***We advise that you test the segmentation process on a small, pilot dataset before committing to a particular labeling strategy and segmentation approach.***\n",
    "\n",
    "-----"
   ]
  },
  {
   "cell_type": "markdown",
   "metadata": {},
   "source": [
    "### 👣 **Summary of steps**  \n",
    "\n",
    "➡️ **EXTRACTION**\n",
    "- **`STEP 1`** - Select a channel for segmentation\n",
    "\n",
    "    - select single channel containing the golgi marker (channel number = user input)\n",
    "\n",
    "**PRE-PROCESSING**\n",
    "- **`STEP 2`** - Rescale and smooth image\n",
    "\n",
    "  - rescale intensity of composite image (min=0, max=1)\n",
    "  - median filter (median size = user input)\n",
    "  - gaussian filter (sigma = user input)\n",
    "\n",
    "**CORE PROCESSING**\n",
    "- **`STEP 3`** - Global + local thresholding (AICSSeg – MO)\n",
    "\n",
    "    - apply MO thresholding method from the Allen Cell [aicssegmentation](https://github.com/AllenCell/aics-segmentation) package (threshold options = user input)\n",
    "\n",
    "- **`STEP 4`** - Thin segmentation (Topology preserving)\n",
    "\n",
    "    - apply topology preserved thinning function from the Allen Cell [aicssegmentation](https://github.com/AllenCell/aics-segmentation) package (thinning amount, minimum thickness = user input)\n",
    "\n",
    "- **`STEP 5`** - ‘Dot’ thresholding method (AICSSeg)\n",
    "\n",
    "    - apply \"dot\" thresholding method (for small round objects) from the Allen Cell [aicssegmentation](https://github.com/AllenCell/aics-segmentation) package (size scale and threshold cutoff = user input)\n",
    "\n",
    "- **`STEP 6`** - Combine Segmentations (logical or)\n",
    "\n",
    "    - combine the two segmentations with logical *OR*\n",
    "\n",
    "**POST-PROCESSING**\n",
    "- **`STEP 7`** - Remove small holes and objects\n",
    "\n",
    "  - fill holes (hole size = user input)\n",
    "  - remove small objects (object size = user input)\n",
    "  - filter method (method = user input)\n",
    "\n",
    "**POST-POST-PROCESSING**\n",
    "- **`STEP 8`** - Label objects\n",
    "\n",
    "  - label unique golgi objects based on connectivity\n",
    "\n",
    "**EXPORT** ➡️\n",
    "- save labeled ***golgi*** (golgi, GL) as unsigned integer 16-bit tif files\n",
    "\n",
    "\n",
    "*This workflow is an adaptation of the Allen Cell Segmenter procedure for segmentation of Golgi from the [sialyltransferase 1 (ST6GAL1)](https://www.allencell.org/cell-observations/category/golgi-apparatus) marker. Sourced from: this [script](https://github.com/AllenCell/aics-segmentation/blob/main/aicssegmentation/structure_wrapper/seg_st6gal1.py).*"
   ]
  },
  {
   "cell_type": "markdown",
   "metadata": {},
   "source": [
    "---------------------\n",
    "## **IMPORTS AND LOAD IMAGE**\n",
    "Details about the functions included in this subsection are outlined in the [`1.0_image_setup`](1.0_image_setup.ipynb) notebook. Please visit that notebook first if you are confused about any of the code included here."
   ]
  },
  {
   "cell_type": "markdown",
   "metadata": {},
   "source": [
    "#### &#x1F3C3; **Run code; no user input required**"
   ]
  },
  {
   "cell_type": "code",
   "execution_count": 1,
   "metadata": {},
   "outputs": [],
   "source": [
    "from pathlib import Path\n",
    "import os\n",
    "\n",
    "import numpy as np\n",
    "import pandas as pd\n",
    "import napari\n",
    "from napari.utils.notebook_display import nbscreenshot\n",
    "\n",
    "from aicssegmentation.core.utils import topology_preserving_thinning\n",
    "\n",
    "from infer_subc.core.file_io import (read_czi_image,\n",
    "                                     export_inferred_organelle,\n",
    "                                     list_image_files,\n",
    "                                     sample_input)\n",
    "from infer_subc.core.img import *\n",
    "\n",
    "%load_ext autoreload\n",
    "%autoreload 2"
   ]
  },
  {
   "cell_type": "markdown",
   "metadata": {},
   "source": [
    "#### &#x1F6D1; &#x270D; **User Input Required:**\n",
    "\n",
    "Please specify the following information about your data: `im_type`, `data_root_path`, `in_data_path`, and `out_data_path`."
   ]
  },
  {
   "cell_type": "code",
   "execution_count": 2,
   "metadata": {},
   "outputs": [],
   "source": [
    "### USER INPUT REQUIRED ###\n",
    "# If using the sample data, select which cell type you would like analyze (\"neuron_1\", \"astrocyte\", \"neuron_2\" or \"ipsc\"):\n",
    "# If not using the sample data, set cell_type to None\n",
    "sample_data_type = \"neuron_1\"\n",
    "\n",
    "# If you are not using the sample data, please edit \"USER SPECIFIED\" as necessary.\n",
    "## Define the path to the directory that contains the input image folder.\n",
    "data_root_path = Path(\"USER SPECIFIED\")\n",
    "\n",
    "# Specify the file type of your raw data that will be analyzed. Ex) \".czi\" or \".tiff\"\n",
    "im_type = \"USER SPECIFIED\"\n",
    "\n",
    "## Specify which subfolder that contains the input data and the input data file extension\n",
    "in_data_path = data_root_path / \"USER SPECIFIED\"\n",
    "\n",
    "## Specify the output folder to save the segmentation outputs if.\n",
    "## If its not already created, the code below will creat it for you\n",
    "out_data_path = data_root_path / \"USER SPECIFIED\""
   ]
  },
  {
   "cell_type": "markdown",
   "metadata": {},
   "source": [
    "#### &#x1F3C3; **Run code; no user input required**"
   ]
  },
  {
   "cell_type": "code",
   "execution_count": 3,
   "metadata": {},
   "outputs": [
    {
     "data": {
      "text/html": [
       "<div>\n",
       "<style scoped>\n",
       "    .dataframe tbody tr th:only-of-type {\n",
       "        vertical-align: middle;\n",
       "    }\n",
       "\n",
       "    .dataframe tbody tr th {\n",
       "        vertical-align: top;\n",
       "    }\n",
       "\n",
       "    .dataframe thead th {\n",
       "        text-align: right;\n",
       "    }\n",
       "</style>\n",
       "<table border=\"1\" class=\"dataframe\">\n",
       "  <thead>\n",
       "    <tr style=\"text-align: right;\">\n",
       "      <th></th>\n",
       "      <th>Image Name</th>\n",
       "    </tr>\n",
       "  </thead>\n",
       "  <tbody>\n",
       "    <tr>\n",
       "      <th>0</th>\n",
       "      <td>c:\\Users\\redre\\Documents\\CohenLab\\scohen_lab_repo\\infer-subc\\sample_data\\example_neuron_1\\raw\\20230727_C2-121_conditioned_well 4_cell 1_untreated_Linear unmixing_0_cmle.ome.tiff</td>\n",
       "    </tr>\n",
       "  </tbody>\n",
       "</table>\n",
       "</div>"
      ],
      "text/plain": [
       "                                                                                                                                                                          Image Name\n",
       "0  c:\\Users\\redre\\Documents\\CohenLab\\scohen_lab_repo\\infer-subc\\sample_data\\example_neuron_1\\raw\\20230727_C2-121_conditioned_well 4_cell 1_untreated_Linear unmixing_0_cmle.ome.tiff"
      ]
     },
     "execution_count": 3,
     "metadata": {},
     "output_type": "execute_result"
    }
   ],
   "source": [
    "# If sample_data_type is set to \"neuron_1\", \"astrocyte\", \"neuron_2\" or \"ipsc\", then the sample data is used and the directories are set\n",
    "if sample_data_type != None:\n",
    "    data_root_path, im_type, in_data_path, out_data_path = sample_input(sample_data_type)\n",
    "\n",
    "# list files in the input folder\n",
    "img_file_list = list_image_files(in_data_path,im_type)\n",
    "pd.set_option('display.max_colwidth', None)\n",
    "pd.DataFrame({\"Image Name\":img_file_list})"
   ]
  },
  {
   "cell_type": "markdown",
   "metadata": {},
   "source": [
    "#### &#x1F6D1; &#x270D; **User Input Required:**\n",
    "\n",
    "Use the list above to specify which image you wish to analyze based on its index: `test_img_n`"
   ]
  },
  {
   "cell_type": "code",
   "execution_count": 4,
   "metadata": {},
   "outputs": [],
   "source": [
    "#### USER INPUT REQUIRED ###\n",
    "test_img_n = 0"
   ]
  },
  {
   "cell_type": "markdown",
   "metadata": {},
   "source": [
    "#### &#x1F3C3; **Run code; no user input required**"
   ]
  },
  {
   "cell_type": "code",
   "execution_count": 5,
   "metadata": {},
   "outputs": [
    {
     "name": "stdout",
     "output_type": "stream",
     "text": [
      "Metadata information\n",
      "File path: c:\\Users\\redre\\Documents\\CohenLab\\scohen_lab_repo\\infer-subc\\sample_data\\example_neuron_1\\raw\\20230727_C2-121_conditioned_well 4_cell 1_untreated_Linear unmixing_0_cmle.ome.tiff\n",
      "Channel 0 name: 20230727_C2-121_conditioned_well 4_cell 1_untreated_Linear unmixing_0_cmle.ome :: Channel:0\n",
      "Channel 1 name: 20230727_C2-121_conditioned_well 4_cell 1_untreated_Linear unmixing_0_cmle.ome :: Channel:1\n",
      "Channel 2 name: 20230727_C2-121_conditioned_well 4_cell 1_untreated_Linear unmixing_0_cmle.ome :: Channel:2\n",
      "Channel 3 name: 20230727_C2-121_conditioned_well 4_cell 1_untreated_Linear unmixing_0_cmle.ome :: Channel:3\n",
      "Channel 4 name: 20230727_C2-121_conditioned_well 4_cell 1_untreated_Linear unmixing_0_cmle.ome :: Channel:4\n",
      "Channel 5 name: 20230727_C2-121_conditioned_well 4_cell 1_untreated_Linear unmixing_0_cmle.ome :: Channel:5\n",
      "Scale (ZYX): (0.410594, 0.079947, 0.079947)\n",
      "Channel axis: 0\n",
      "\n",
      "Proceed to Napari window to view your selected image.\n"
     ]
    }
   ],
   "source": [
    "# load image and metadata\n",
    "test_img_name = img_file_list[test_img_n]\n",
    "img_data,meta_dict = read_czi_image(test_img_name)\n",
    "\n",
    "# metadata\n",
    "channel_names = meta_dict['name']\n",
    "meta = meta_dict['metadata']['aicsimage']\n",
    "scale = meta_dict['scale']\n",
    "channel_axis = meta_dict['channel_axis']\n",
    "file_path = meta_dict['file_name']\n",
    "print(\"Metadata information\")\n",
    "print(f\"File path: {file_path}\")\n",
    "for i in list(range(len(channel_names))):\n",
    "    print(f\"Channel {i} name: {channel_names[i]}\")\n",
    "print(f\"Scale (ZYX): {scale}\")\n",
    "print(f\"Channel axis: {channel_axis}\")\n",
    "\n",
    "# open viewer and add images\n",
    "viewer = napari.Viewer()\n",
    "for i in list(range(len(channel_names))):\n",
    "    viewer.add_image(img_data[i],\n",
    "                     scale=scale,\n",
    "                     name=f\"Channel {i}\")\n",
    "viewer.grid.enabled = True\n",
    "viewer.reset_view()\n",
    "print(\"\\nProceed to Napari window to view your selected image.\")"
   ]
  },
  {
   "cell_type": "markdown",
   "metadata": {},
   "source": [
    "-----\n",
    "\n",
    "## **EXTRACTION**"
   ]
  },
  {
   "cell_type": "markdown",
   "metadata": {},
   "source": [
    "### **`STEP 1` - Select a channel for segmentation**\n",
    "\n",
    "#### &#x1F6D1; &#x270D; **User Input Required:**\n",
    "\n",
    "Please specify which channel includes your Golgi label:\n",
    "- `GOLGI_CH`: the index of the channel containing your Golgi label. Image indexing begins with 0, not 1. Reference the channel numbers indicated in the Napari window for easy reference.\n",
    "\n",
    "⚙️ **SAMPLE DATA SETTINGS**\n",
    "\n",
    "If using the sample data, here are the correct channel indices\n",
    "\n",
    "|**Cell type**|GOLGI_CH| \n",
    "| :------------------------------------- |  :------:  |\n",
    "|Neuron 1|`2`|\n",
    "|Astrocyte|`2`|\n",
    "|Neuron 2|`2`|\n",
    "|IPSC|`4`|"
   ]
  },
  {
   "cell_type": "code",
   "execution_count": 6,
   "metadata": {},
   "outputs": [],
   "source": [
    "#### USER INPUT REQUIRED ###\n",
    "GOLGI_CH = 2"
   ]
  },
  {
   "cell_type": "markdown",
   "metadata": {},
   "source": [
    "#### &#x1F3C3; **Run code; no user input required**\n",
    "\n",
    "&#x1F453; **FYI:** This code block extracts the Golgi channel from your multi- (or single) channel image. It will be the only part of the image used in the rest of this workflow. The single golgi channel is added to the Napari viewer."
   ]
  },
  {
   "cell_type": "code",
   "execution_count": 7,
   "metadata": {},
   "outputs": [
    {
     "data": {
      "text/plain": [
       "<Image layer '1 - Extract Golgi' at 0x1ceb2b6cb20>"
      ]
     },
     "execution_count": 7,
     "metadata": {},
     "output_type": "execute_result"
    }
   ],
   "source": [
    "# select channel\n",
    "raw_golgi = select_channel_from_raw(img_data, GOLGI_CH)\n",
    "\n",
    "# clear napari and add single channel as a new layer\n",
    "viewer.layers.clear()\n",
    "viewer.grid.enabled = False\n",
    "viewer.add_image(raw_golgi, scale=scale, name=\"1 - Extract Golgi\")"
   ]
  },
  {
   "cell_type": "markdown",
   "metadata": {},
   "source": [
    "-----\n",
    "## **PRE-PROCESSING**"
   ]
  },
  {
   "cell_type": "markdown",
   "metadata": {},
   "source": [
    "### **`STEP 2` - Rescale and smooth image**\n",
    "\n",
    "&#x1F453; **FYI:** This code block rescales the image so that the pixel/voxel with the highest intensity is set to 1 and the one with the lowest intensity is set to 0. The image is then *optionally* smoothed using a Gaussian and/or median filter. \n",
    "\n",
    "<mark> Include more information on the Gaussian and median filtering methods here </mark>\n",
    "\n",
    "#### &#x1F6D1; &#x270D; **User Input Required:**\n",
    "\n",
    "Please specify the amount of filter to use for each method. Higher values indicate more smoothing:\n",
    "- `med_filter_size`: the size of the median filter to apply; if 0 is used, no filter will be applied\n",
    "- `gaussian_smoothing_sigma`: the sigma to apply in the Gaussian filtering step; if 0 is used, no filter will be applied"
   ]
  },
  {
   "cell_type": "markdown",
   "metadata": {},
   "source": [
    "⚙️ **SAMPLE DATA SETTINGS**\n",
    "\n",
    "If using the sample data, here are the recommended parameters for each cell type\n",
    "\n",
    "|**Cell type**|med_filter_size|gaussian_smoothing_sigma| \n",
    "| :------------------------------------- |  :------:  |  :------:  |\n",
    "|Neuron 1|`0`|`0.0`|\n",
    "|Astrocyte|`0`|`0.0`|\n",
    "|Neuron 2|`0`|`0.0`|\n",
    "|IPSC|`0`|`0.0`|"
   ]
  },
  {
   "cell_type": "code",
   "execution_count": 8,
   "metadata": {},
   "outputs": [],
   "source": [
    "#### USER INPUT REQUIRED ###\n",
    "median_sz = 0\n",
    "gauss_sig = 0.0"
   ]
  },
  {
   "cell_type": "markdown",
   "metadata": {},
   "source": [
    "#### &#x1F3C3; **Run code; no user input required**\n",
    "\n",
    "&#x1F453; **FYI:** This code block rescales the image and applies the specified median and Gaussian filters. The image is then added to Napari as a new layer for visual comparison to the input image. \n",
    "\n",
    "Use the Napari viewer to iteratively adjust the smoothing settings selected above."
   ]
  },
  {
   "cell_type": "code",
   "execution_count": 9,
   "metadata": {},
   "outputs": [
    {
     "data": {
      "text/plain": [
       "<Image layer '2 - Rescale and Smooth' at 0x1ceb9222590>"
      ]
     },
     "execution_count": 9,
     "metadata": {},
     "output_type": "execute_result"
    }
   ],
   "source": [
    "# rescaling and smoothing input image\n",
    "struct_img =  scale_and_smooth(raw_golgi,\n",
    "                               median_size = median_sz, \n",
    "                               gauss_sigma = gauss_sig)\n",
    "\n",
    "# adding image to Napari as a new layer\n",
    "viewer.add_image(struct_img, scale=scale, name=\"2 - Rescale and Smooth\")"
   ]
  },
  {
   "cell_type": "markdown",
   "metadata": {},
   "source": [
    "-----\n",
    "## **CORE-PROCESSING**"
   ]
  },
  {
   "cell_type": "markdown",
   "metadata": {},
   "source": [
    "### **`STEP 3` - Global + local thresholding (AICSSeg – MO)**\n",
    "\n",
    "&#x1F453; **FYI:** This code block is the first of two semantic segmentation steps that are combined together in a later step, and is used to segment Golgi cisterae strucutres. `Semantic segmentation` is the process of deciding whether a pixel/voxel should be included in an object (labeled with a value of 1) or should be considered as part of the background (labeled with a value of 0). A semantic segmentation does not discern individual objects from one another.\n",
    "\n",
    "The masked_object_filter utilizes the 'MO' filter from the [`aics-segmentation`](https://github.com/AllenCell/aics-segmentation) package. AICS documentation states: \"The algorithm is a hybrid thresholding method combining two levels of thresholds. The steps are: [1] a global threshold is calculated, [2] extract each individual connected componet after applying the global threshold, [3] remove small objects, [4] within each remaining object, a local Otsu threshold is calculated and applied with an optional local threshold adjustment ratio (to make the segmentation more and less conservative). An extra check can be used in step [4], which requires the local Otsu threshold larger than 1/3 of global Otsu threhsold and otherwise this connected component is discarded.\"\n",
    "\n",
    "#### &#x1F6D1; &#x270D; **User Input Required:**\n",
    "\n",
    "Please specify the following values:\n",
    "- `thresh_method`: the global thresholding method; options include 'tri'/'triangle, 'med'/'median' or 'ave'/'ave_tri_med'. Triangle implements the [skimage.filters.threshold_triangle](https://scikit-image.org/docs/stable/api/skimage.filters.html#skimage.filters.threshold_triangle) method, median utilizes the 50th percentile of the intensities, and ave uses the average of the two methods to calculate the lower bound of the global threshold.\n",
    "- `cell_wise_min_area`: the minimum expected size of your object; smaller objects will be removed prior to local thresholding\n",
    "- `thresh_adj`: adjustment to make to the local threshold; larger values make the segmentation more stringent (less area included)"
   ]
  },
  {
   "cell_type": "markdown",
   "metadata": {},
   "source": [
    "⚙️ **SAMPLE DATA SETTINGS**\n",
    "\n",
    "If using the sample data, here are the recommended parameters for each cell type\n",
    "\n",
    "|**Cell type**|thresh_method|cell_wise_min_area|thresh_adj|\n",
    "| :------------------------------------- |  :------:  |  :------:  |  :------:  |\n",
    "|Neuron 1|`'ave_tri_med'`|`1200`|`.9`|\n",
    "|Astrocyte|`'ave_tri_med'`|`1200`|`.9`|\n",
    "|Neuron 2|`'triangle'`|`1200`|`.8`|\n",
    "|IPSC|`'ave_tri_med'`|`1200`|`.6`|"
   ]
  },
  {
   "cell_type": "code",
   "execution_count": 10,
   "metadata": {},
   "outputs": [],
   "source": [
    "#### USER INPUT REQUIRED ###\n",
    "thresh_method = 'ave_tri_med'\n",
    "cell_wise_min_area = 1200\n",
    "thresh_adj = .9"
   ]
  },
  {
   "cell_type": "markdown",
   "metadata": {},
   "source": [
    "#### &#x1F3C3; **Run code; no user input required**\n",
    "\n",
    "&#x1F453; **FYI:** This code block executes the MO filter using the settings above.\n",
    "\n",
    "Use the Napari viewer to iteratively adjust the filter settings as needed."
   ]
  },
  {
   "cell_type": "code",
   "execution_count": 11,
   "metadata": {},
   "outputs": [
    {
     "data": {
      "text/plain": [
       "<Image layer '3 - MO filter' at 0x1ceae023f70>"
      ]
     },
     "execution_count": 11,
     "metadata": {},
     "output_type": "execute_result"
    }
   ],
   "source": [
    "# segment the majority of the golgi with this global and local thresholding method\n",
    "bw = masked_object_thresh(struct_img, \n",
    "                          global_method=thresh_method, \n",
    "                          cutoff_size=cell_wise_min_area, \n",
    "                          local_adjust=thresh_adj)\n",
    "\n",
    "# adding image to Napari as a new layer\n",
    "viewer.add_image(bw, scale=scale, name=\"3 - MO filter\", opacity=0.3, colormap=\"cyan\", blending='additive')"
   ]
  },
  {
   "cell_type": "markdown",
   "metadata": {},
   "source": [
    "### **`STEP 4` - Thin segmentation (topology preserving)**\n",
    "\n",
    "&#x1F453; **FYI:** This code block implements a thinning step to refine the result of the MO segmentation. This logic was developed in the [`aics-segmentation`](https://github.com/AllenCell/aics-segmentation) package. The [topology_preserve_thinning](https://github.com/AllenCell/aics-segmentation/blob/main/aicssegmentation/core/utils.py#L101) function reduces the diameter of the segmented object while preserving its overall topology.\n",
    "\n",
    "#### &#x1F6D1; &#x270D; **User Input Required:**\n",
    "\n",
    "Please specify the following values:\n",
    "- `thin_dist_preserve`: half of the minimum width of your object\n",
    "- `thin_dist`: the amount to thin by in pixels/voxels; must be a positive integer; a value of 0 can be used to if no thinning is needed"
   ]
  },
  {
   "cell_type": "markdown",
   "metadata": {},
   "source": [
    "⚙️ **SAMPLE DATA SETTINGS**\n",
    "\n",
    "If using the sample data, here are the recommended parameters for each cell type\n",
    "\n",
    "|**Cell type**|thin_dist_preserve|thin_dist|\n",
    "| :------------------------------------- |  :------:  |  :------:  |\n",
    "|Neuron 1|`8`|`1`|\n",
    "|Astrocyte|`8`|`1`|\n",
    "|Neuron 2|`1`|`1`|\n",
    "|IPSC|`4`|`2`|"
   ]
  },
  {
   "cell_type": "code",
   "execution_count": 12,
   "metadata": {},
   "outputs": [],
   "source": [
    "#### USER INPUT REQUIRED ###\n",
    "thin_dist_preserve = 8\n",
    "thin_dist = 1"
   ]
  },
  {
   "cell_type": "markdown",
   "metadata": {},
   "source": [
    "#### &#x1F3C3; **Run code; no user input required**\n",
    "\n",
    "&#x1F453; **FYI:** This code block executes the thinning step using the settings above.\n",
    "\n",
    "Use the Napari viewer to iteratively adjust the filter settings as needed."
   ]
  },
  {
   "cell_type": "code",
   "execution_count": 13,
   "metadata": {},
   "outputs": [
    {
     "data": {
      "text/plain": [
       "<Image layer '4 - Thinning' at 0x1ceb2950d60>"
      ]
     },
     "execution_count": 13,
     "metadata": {},
     "output_type": "execute_result"
    }
   ],
   "source": [
    "# thin segmentation with maintain a minimal required thickness\n",
    "bw_thin = topology_preserving_thinning(bw, thin_dist_preserve, thin_dist)\n",
    "\n",
    "# adding image to Napari as a new layer\n",
    "viewer.add_image(bw_thin, scale=scale, name=\"4 - Thinning\", opacity=0.3, colormap=\"magenta\", blending='additive')"
   ]
  },
  {
   "cell_type": "markdown",
   "metadata": {},
   "source": [
    "### **`STEP 5` -  ‘Dot’ thresholding method (AICSSeg)**\n",
    "\n",
    "&#x1F453; **FYI:** This code block is the second of two semantic segmentation steps that are combined together in a later step, and is used to segment Golgi-derived vesicles. The 'dot' filter is derived from the [`aics-segmentation`](https://github.com/AllenCell/aics-segmentation) package. It utilizes up to three scale (object size) and cutoff (threshold) pairs for objects of different size and intensity. This function is specifically designed to segment small round objects.\n",
    "\n",
    "#### &#x1F6D1; &#x270D; **User Input Required:**\n",
    "\n",
    "Please specify the scale and cutoff values for each pair:\n",
    "- `dot_scale_1`: the size scale for the first scale/cutoff pair; larger values correlate to selection of larger objects\n",
    "- `dot_cut_1`: the threshold cutoff value for the first scale/cutoff pair; small cutoffs tend to yield more dots that are larger in volume; larger cutoffs tend to yield less dots that are slimmer.\n",
    "- `dot_scale_2`: the size scale for the second scale/cutoff pair; this can be set to 0 if a second scale/cutoff pair isn't needed\n",
    "- `dot_cut_2`: the threshold cutoff value for the second scale/cutoff pair; this can be set to 0 if a second scale/cutoff pair isn't needed\n",
    "- `dot_scale_3`: the size scale for the third scale/cutoff pair; this can be set to 0 if a third scale/cutoff pair isn't needed\n",
    "- `dot_cut_3`: the threshold cutoff value for the third scale/cutoff pair; this can be set to 0 if a third scale/cutoff pair isn't needed\n",
    "- `dot_method`: \"3D\" processes the image taking into account intensities in three dimensions (XYZ); \"slice-by-slice\" processes each Z-slice in the image separately, not considering any intensity in higher or lower Z planes."
   ]
  },
  {
   "cell_type": "markdown",
   "metadata": {},
   "source": [
    "⚙️ **SAMPLE DATA SETTINGS**\n",
    "\n",
    "If using the sample data, here are the recommended parameters for each cell type\n",
    "\n",
    "|**Cell type**|dot_scale_1|dot_cut_1|dot_scale_2|dot_cut_2|dot_scale_3|dot_cut_3|dot_method|\n",
    "| :------------------------------------- |  :------:  |  :------:  |  :------:  |  :------:  |  :------:  |  :------:  |  :------:  |\n",
    "|Neuron 1|`0.5`|`0.1`|`0`|`0`|`0`|`0`|`\"3D\"`|\n",
    "|Astrocyte|`0.5`|`0.1`|`0`|`0`|`0`|`0`|`\"3D\"`|\n",
    "|Neuron 2|`1.2`|`0.03`|`0`|`0`|`0`|`0`|`\"3D\"`|\n",
    "|IPSC|`1.6`|`0.04`|`0`|`0`|`0`|`0`|`\"slice_by_slice\"`|"
   ]
  },
  {
   "cell_type": "code",
   "execution_count": 14,
   "metadata": {},
   "outputs": [],
   "source": [
    "#### USER INPUT REQUIRED ###\n",
    "dot_scale_1 = 0.5\n",
    "dot_cut_1 = 0.1\n",
    "\n",
    "dot_scale_2 = 0\n",
    "dot_cut_2 = 0\n",
    "\n",
    "dot_scale_3 = 0\n",
    "dot_cut_3 = 0\n",
    "\n",
    "dot_method = '3D'"
   ]
  },
  {
   "cell_type": "markdown",
   "metadata": {},
   "source": [
    "#### &#x1F3C3; **Run code; no user input required**\n",
    "\n",
    "&#x1F453; **FYI:** This code block executes the dot filter using the settings above.\n",
    "\n",
    "Use the Napari viewer to iteratively adjust the filter settings as needed. \n",
    "\n",
    "*Hint: it is helpful to adjust the scale/cutoff filters one at a time and then combine them once each pair's settings are confirmed.*"
   ]
  },
  {
   "cell_type": "code",
   "execution_count": 15,
   "metadata": {},
   "outputs": [
    {
     "data": {
      "text/plain": [
       "<Image layer '5 - Dot filter' at 0x1ceaf1a0a00>"
      ]
     },
     "execution_count": 15,
     "metadata": {},
     "output_type": "execute_result"
    }
   ],
   "source": [
    "# segment small round structures with this (golgi vesicles)\n",
    "bw_extra = dot_filter_3(struct_img,\n",
    "                        dot_scale_1,\n",
    "                        dot_cut_1,\n",
    "                        dot_scale_2,\n",
    "                        dot_cut_2,\n",
    "                        dot_scale_3,\n",
    "                        dot_cut_3,\n",
    "                        dot_method)\n",
    "\n",
    "# adding image to Napari as a new layer\n",
    "viewer.add_image(bw_extra, scale=scale, name=\"5 - Dot filter\", opacity=0.3, colormap=\"green\", blending='additive')"
   ]
  },
  {
   "cell_type": "markdown",
   "metadata": {},
   "source": [
    "### **`STEP 6` - Combine Segmentations**\n",
    "\n",
    "#### &#x1F3C3; **Run code; no user input required**\n",
    "\n",
    "&#x1F453; **FYI:** This code block combines the results of the thinning and the dot filter together using the \"logical or\" operation. The resulting semantic segmentation can be viewed in Napari."
   ]
  },
  {
   "cell_type": "code",
   "execution_count": 16,
   "metadata": {},
   "outputs": [
    {
     "data": {
      "text/plain": [
       "<Image layer '6 - Combined Semantic Segmentation' at 0x1ceb852de10>"
      ]
     },
     "execution_count": 16,
     "metadata": {},
     "output_type": "execute_result"
    }
   ],
   "source": [
    "# combine the two segmentations together\n",
    "bw_combine = np.logical_or(bw_extra, bw_thin)\n",
    "\n",
    "# adding image to Napari as a new layer\n",
    "viewer.add_image(bw_combine, scale=scale, name=\"6 - Combined Semantic Segmentation\", opacity=0.3, blending='additive')"
   ]
  },
  {
   "cell_type": "markdown",
   "metadata": {},
   "source": [
    "-----\n",
    "## **POST-PROCESSING**"
   ]
  },
  {
   "cell_type": "markdown",
   "metadata": {},
   "source": [
    "### **`STEP 7` - Remove small holes and objects**\n",
    "\n",
    "&#x1F453; **FYI:** This code block cleans up the semantic segmentation by filling small holes and/or removing small objects that can be considered errors in the initial segmentation. \n",
    "\n",
    "#### &#x1F6D1; &#x270D; **User Input Required:**\n",
    "\n",
    "Please specify the following values:\n",
    "- `hole_min_width`: the width of the smallest hole to be filled\n",
    "- `hole_max_width`: the width of the largest hole to be filled\n",
    "- `small_object_width`: the width of the largest object to be removed; any object smaller than this size will be removed\n",
    "- `fill_filter_method`: \"3D\" processes the image taking into account segmentation values in three dimensions (XYZ); \"slice-by-slice\" processes each Z-slice in the image separately, not considering the segmentation results in higher or lower Z planes."
   ]
  },
  {
   "cell_type": "markdown",
   "metadata": {},
   "source": [
    "⚙️ **SAMPLE DATA SETTINGS**\n",
    "\n",
    "If using the sample data, here are the recommended parameters for each cell type\n",
    "\n",
    "|**Cell type**|hole_min_width|hole_max_width|small_object_width|fill_filter_method|\n",
    "| :------------------------------------- |  :------:  |  :------:  |  :------:  |  :------:  |\n",
    "|Neuron 1|`0`|`0`|`2`|`\"3D\"`|\n",
    "|Astrocyte|`0`|`0`|`2`|`\"3D\"`|\n",
    "|Neuron 2|`0`|`4`|`2`|`\"3D\"`|\n",
    "|IPSC|`0`|`0`|`4`|`\"3D\"`|"
   ]
  },
  {
   "cell_type": "code",
   "execution_count": 17,
   "metadata": {},
   "outputs": [],
   "source": [
    "#### USER INPUT REQUIRED ###\n",
    "hole_min_width = 0\n",
    "hole_max_width = 0\n",
    "\n",
    "small_object_width = 2\n",
    "\n",
    "fill_filter_method = \"3D\""
   ]
  },
  {
   "cell_type": "markdown",
   "metadata": {},
   "source": [
    "#### &#x1F3C3; **Run code; no user input required**\n",
    "\n",
    "&#x1F453; **FYI:** This code block fills small holes and removes small objects using the settings above.\n",
    "\n",
    "Use the Napari viewer to iteratively adjust the filter settings as needed. \n",
    "\n",
    "*Hint: white pixels/voxels are the ones remaining after this step*"
   ]
  },
  {
   "cell_type": "code",
   "execution_count": 18,
   "metadata": {},
   "outputs": [
    {
     "data": {
      "text/plain": [
       "<Image layer '7 - Fill holes and remove small objects' at 0x1ceaed412d0>"
      ]
     },
     "execution_count": 18,
     "metadata": {},
     "output_type": "execute_result"
    }
   ],
   "source": [
    "# fill holes and removed small objects\n",
    "cleaned_img2 = fill_and_filter_linear_size(bw_combine, \n",
    "                                           hole_min=hole_min_width, \n",
    "                                           hole_max=hole_max_width, \n",
    "                                           min_size=small_object_width,\n",
    "                                           method=fill_filter_method)\n",
    "\n",
    "# adding image to Napari as a new layer\n",
    "viewer.add_image(cleaned_img2, scale=scale, name=\"7 - Fill holes and remove small objects\", colormap=\"magenta\", blending=\"additive\")"
   ]
  },
  {
   "cell_type": "markdown",
   "metadata": {},
   "source": [
    "-----\n",
    "## **POST-POST-PROCESSING**"
   ]
  },
  {
   "cell_type": "markdown",
   "metadata": {},
   "source": [
    "## **`STEP 8` - Label objects**\n",
    "\n",
    "#### &#x1F3C3; **Run code; no user input required**\n",
    "&#x1F453; **FYI:** This code block takes the semantic segmentation and creates an `instance segmentation`. In this output, each individual object in the image is given a unique ID number. The background pixels/voxels are still labeled as 0, but now each pixel/voxel within an object is labeled as a positive integer. \n",
    "\n",
    "In this workflow objects are separated based on connectivity: if a pixel/voxel is touching another pixel/voxel in any direction, they are considered the same object and each pixel/voxel within that object is labeled as the same unique ID number. \n",
    "\n",
    "*In the Napari viewer, the image is added as a \"labels\" layer where each object appears as a different color.*"
   ]
  },
  {
   "cell_type": "code",
   "execution_count": 19,
   "metadata": {},
   "outputs": [
    {
     "data": {
      "text/plain": [
       "<Labels layer '8 - Instance segmentation' at 0x1ceb324b940>"
      ]
     },
     "execution_count": 19,
     "metadata": {},
     "output_type": "execute_result"
    }
   ],
   "source": [
    "# create instance segmentation based on connectivity\n",
    "golgi_labels = label_uint16(cleaned_img2)\n",
    "\n",
    "# adding image to Napari as a new layer\n",
    "viewer.add_labels(golgi_labels, scale=scale, name=\"8 - Instance segmentation\")"
   ]
  },
  {
   "cell_type": "markdown",
   "metadata": {},
   "source": [
    "-----\n",
    "## **SAVING**"
   ]
  },
  {
   "cell_type": "markdown",
   "metadata": {},
   "source": [
    "## **`Saving` - Save the segmentation output**\n",
    "\n",
    "#### &#x1F3C3; **Run code; no user input required**\n",
    "&#x1F453; **FYI:** This code block saves the instance segmentation output to the `out_data_path` specified earlier."
   ]
  },
  {
   "cell_type": "code",
   "execution_count": 20,
   "metadata": {},
   "outputs": [
    {
     "name": "stdout",
     "output_type": "stream",
     "text": [
      "saved file: 20230727_C2-121_conditioned_well 4_cell 1_untreated_Linear unmixing_0_cmle.ome-golgi\n",
      "saved to: c:\\Users\\redre\\Documents\\CohenLab\\scohen_lab_repo\\infer-subc\\sample_data\\example_neuron_1\\seg\n"
     ]
    }
   ],
   "source": [
    "# Saving file\n",
    "out_file_n = export_inferred_organelle(golgi_labels, \"golgi\", meta_dict, out_data_path)\n",
    "print(f\"saved to: {out_data_path}\")"
   ]
  },
  {
   "attachments": {},
   "cell_type": "markdown",
   "metadata": {},
   "source": [
    "-----\n",
    "-----\n",
    "## **Define `infer_golgi` function**\n",
    "The following code includes an example of how the workflow steps above are combined into one function. This function can be run below to process a single image. It is included in the [batch process notebook](batch_process_segmentations.ipynb) to run the above analysis on multiple cells. \n",
    "\n",
    "This function can utilized from infer-subc using:\n",
    "```python\n",
    "infer_subc.organelles.golgi.infer_golgi()\n",
    "```\n",
    "\n",
    "#### &#x1F3C3; **Run code; no user input required**\n",
    "&#x1F453; **FYI:** This code block defines the `infer_golgi()` function. It is applied below."
   ]
  },
  {
   "cell_type": "code",
   "execution_count": 21,
   "metadata": {},
   "outputs": [],
   "source": [
    "##########################\n",
    "#  infer_golgi\n",
    "##########################\n",
    "def _infer_golgi(\n",
    "            in_img: np.ndarray,\n",
    "            golgi_ch: int,\n",
    "            median_sz: int,\n",
    "            gauss_sig: float,\n",
    "            mo_method: str,\n",
    "            mo_adjust: float,\n",
    "            mo_cutoff_size: int,\n",
    "            min_thickness: int,\n",
    "            thin_dist: int,\n",
    "            dot_scale_1: float,\n",
    "            dot_cut_1: float,\n",
    "            dot_scale_2: float,\n",
    "            dot_cut_2: float,\n",
    "            dot_scale_3: float,\n",
    "            dot_cut_3: float,\n",
    "            dot_method: str,\n",
    "            min_hole_w: int,\n",
    "            max_hole_w: int,\n",
    "            small_obj_w: int,\n",
    "            fill_filter_method: str\n",
    "        ) -> np.ndarray:\n",
    "\n",
    "    \"\"\"\n",
    "    Procedure to infer golgi from linearly unmixed input.\n",
    "\n",
    "   Parameters\n",
    "    ------------\n",
    "    in_img: \n",
    "        a 3d image containing all the channels\n",
    "    median_sz: \n",
    "        width of median filter for signal\n",
    "    mo_method: \n",
    "         which method to use for calculating global threshold. Options include:\n",
    "         \"triangle\" (or \"tri\"), \"median\" (or \"med\"), and \"ave_tri_med\" (or \"ave\").\n",
    "         \"ave\" refers the average of \"triangle\" threshold and \"mean\" threshold.\n",
    "    mo_adjust: \n",
    "        Masked Object threshold `local_adjust`\n",
    "    mo_cutoff_size: \n",
    "        Masked Object threshold `size_min`\n",
    "    min_thinkness: \n",
    "        Half of the minimum width you want to keep from being thinned.\n",
    "        For example, when the object width is smaller than 4, you don't\n",
    "        want to make this part even thinner (may break the thin object\n",
    "        and alter the topology), you can set this value as 2.\n",
    "    thin_dist: \n",
    "        the amount to thin (has to be an positive integer). The number of\n",
    "         pixels to be removed from outter boundary towards center.\n",
    "    dot_scale: \n",
    "        scales (log_sigma) for dot filter (1,2, and 3)\n",
    "    dot_cut: \n",
    "        threshold for dot filter thresholds (1,2,and 3)\n",
    "    small_obj_w: \n",
    "        minimu object size cutoff for nuclei post-processing\n",
    "    \n",
    "    Returns\n",
    "    -------------\n",
    "    golgi_object\n",
    "        mask defined extent of golgi object\n",
    "    \"\"\"\n",
    "\n",
    "    ###################\n",
    "    # EXTRACT\n",
    "    ###################    \n",
    "    golgi = select_channel_from_raw(in_img, golgi_ch)\n",
    "\n",
    "    ###################\n",
    "    # PRE_PROCESSING\n",
    "    ###################    \n",
    "    golgi =  scale_and_smooth(golgi,\n",
    "                              median_size = median_sz, \n",
    "                              gauss_sigma = gauss_sig)\n",
    "    ###################\n",
    "    # CORE_PROCESSING\n",
    "    ###################\n",
    "    bw = masked_object_thresh(golgi, global_method=mo_method, cutoff_size=mo_cutoff_size, local_adjust=mo_adjust)\n",
    "\n",
    "    bw_thin = topology_preserving_thinning(bw, min_thickness, thin_dist)\n",
    "\n",
    "    bw_extra = dot_filter_3(golgi, dot_scale_1, dot_cut_1, dot_scale_2, dot_cut_2, dot_scale_3, dot_cut_3, dot_method)\n",
    "\n",
    "    bw = np.logical_or(bw_extra, bw_thin)\n",
    "    ###################\n",
    "    # POST_PROCESSING\n",
    "    ###################\n",
    "    struct_obj = fill_and_filter_linear_size(bw, \n",
    "                                             hole_min=min_hole_w, \n",
    "                                             hole_max=max_hole_w, \n",
    "                                             min_size=small_obj_w,\n",
    "                                             method=fill_filter_method)\n",
    "\n",
    "    ###################\n",
    "    # LABELING\n",
    "    ###################\n",
    "    struct_obj1 = label_uint16(struct_obj)\n",
    "\n",
    "    return struct_obj1\n"
   ]
  },
  {
   "cell_type": "markdown",
   "metadata": {},
   "source": [
    "#### &#x1F3C3; **Run code; no user input required**\n",
    "\n",
    "&#x1F453; **FYI:** This code block applies the function above to your test image. The settings specified above are applied here."
   ]
  },
  {
   "cell_type": "code",
   "execution_count": 22,
   "metadata": {},
   "outputs": [
    {
     "name": "stdout",
     "output_type": "stream",
     "text": [
      "The segmentation output here matches the output created above: True\n"
     ]
    },
    {
     "data": {
      "image/png": "[encoded data removed]",
      "text/html": [
       "<img src=\"data:image/png;base64,iVBORw0KGgoAAAANSUhEUgAAB4AAAAPfCAYAAAAmNdT3AAAAMXRFWHRTb2Z0d2FyZQBuYXBhcmkgdmVyc2lvbiAwLjUuNCBodHRwczovL25hcGFyaS5vcmcvkNxBigAA8oNJREFUeJzs/X181/V9L/4/kqByoQXxMoTE4DWzrUiFIjW1dXXtvJoUOuoprVt/3Tyn4za0a4/a/dr91n5Prae26hmn38POTnfo6CwrDOdF18621lLRglKtWsWqhIQkXoGgCFFJ8vsjFwQIkECST/hwv/eW2/J5v18Xz/cnH3Lztkder1fJ6RMntQUAAAAAAACAg15poQsAAAAAAAAAoH8IgAEAAAAAAACKhAAYAAAAAAAAoEgIgAEAAAAAAACKhAAYAAAAAAAAoEgIgAEAAAAAAACKhAAYAAAAAAAAoEgIgAEAAAAAAACKRK8D4Eu+8YusfGjnr29e3P3ejbmkW9slf3H6AJS7h7q+8eF93tu1xqFkb89QLHb//CzK3DN2vt/fn5mh8DPf08/2km/8Iiv/5eqcuZf2/VH/mX+xaEh/tvZWX18/E4P5ewcAAAAAAGCoGtaXxnX/9JnM+p/P7Hb9ni+8P/f0W0l9c899D+RvvvyBXJIf71LDh3NhTbL8Kz9ub1fAGmnX/fNz5l8syncXLkqumpP5awZmvqHwM+/583l6JpyUpKomHzpjQZ5es/P15f/XZxYAAAAAAID9c/BvAf3Dn2d53pcLL97l+sUfSE0eyM9+WJCq2Ien/+dX8t26qnzgQ0W+YvO52tSlMhO6rXbOGR/MB6rqUldXlQmn7H597XODXSQAAAAAAADFol8C4N5svXrmXyza4/a/B+bH+dnypOaDO28je8kH35cs/3nXCsqeatxTTbtv2/vhfLPbltddfQdja90zrs6S7lsnd9s2uKfthc/8i0U7tdnz+3565v7LL/LNi9ufrWur4YtvHKCfU198ON/cde4zrs6SXbZD3mlb6X+5Opfs8jPZ+Wfe+bzt/7fH5xuIZ19zX36+S9B95odqUrX8n/KP63b53J5Snaq65fnJmv2sv4f35JTsbufPxC92e8+GzGe/B335PdL5/u3Up4dttwEAAAAAAIrJoKwAPvMvFuW7FyzPp6a9P1OnvT9Tv1KfTy3sv7NZ77nvgaTmA93G69hK974f71dN99z3QHJS9Y6g6OIPpCY7h3WnVFftdfz+cuaHqvPzqzpqnPaZfDefyHc7wrfd6szp+dAFVVn+fxfk6X08Y6eT/uQDWXvV+zN12g2554yrs+TLlflu53xfWT7gz7du7e5bivfGJd/4Rf7mpO/teLb/W52/+WTVPvvVfPnLyZfa+/zt8qp86qsdgeCAPfsz+cn9damqntB15ZTqqtTVrt3t53fJB9+XrKvN0/tTf3r3npz5F4vy3U/W52+ndftMnfTXXYHuUPrs72p/fo9UffIf8v/kKz3++wEAAAAAAChGfQqAqz75D91W3/U2wP1w/uyTyXe/tGBHsPXDf8x363rYtnl//fDnWd59m90zPpgPVO1t++d91PRcbeqqavKhzhXBH3xflv/T91LXFYx9OBfWDM5WvU//zxu6nZH7TOb/324B3Q9/nuXd6tz5uXv5vt//j7ucwVuftZ2vf7hgwM7nveQb/5BP7fVntDft7//Oz3ZD/rYXmW3dP32l65nu+Yfvpa6qutsq2YF59qfX1nf7A4X22n/+k2d2+fl1nFm9j2B1z/X35j3p+ExcdUO3s4WfyfwvfS91nfUV4rNf89c7r0ju+Pqbmh5q7+vvkeX/rdu55Z3P+skCrWwHAAAAAAAYeMP60rjunz7TLUzppYs/kJpUpWbhL/KpXW713/rSH+dny/86f/qh0zN/zTNdW+zes6fm+6ppzX35ed0n2s9nXfPhXFjzQH72hdpc+MlP5kNnLMjTp3wgNXXL878HKBzdVfuqzW4rOetqO77Zy3P38n3faQXumvvy87p/yN889Itc+JX356/6+fzkqk/+Q1Z+svMZvpdPTVuw19Wue3RGdU5KfX62y/v/XG1dUr33rruvOO74w4GBfPYf/jzLv/zXufDi5J50/+yszdquc4Crc1IeyD/uY9491p9evCcXfyA1PbTJmtqsS02392GQP/vL/1umfmH34PuSb/wif9r5Yj9/j9TVrt35QsezAgAAAAAAFKs+BcD774H87bQb9hzI9oN77nsgf/MnH8yZ/zMd2yDva4vavdXUvm3vdz/44eS56pxUV5vn8uNk+V/nwlOSMydUpu7+f9y/8LJPPpxvPvTXqekell58Y1b+yY4We3/uvr7vz2T+H78/88+4OksW/iIrv9y/P7f9+gOCnpxSnX1v9txXA/nsHUH9hNNzZiqTdT/v+Ozs+JydOaEmVXXLs98La/vtPRkqn/2eDPzvEQAAAAAAgIPdwJ8B/Fxt6rpvzzxQOrfTvXhf2z/3rqanf7I8dSdV55IP1ST335en0x621nzw6nzogqr9Pru2T85oXxX6t3+8Y6XsmRMqd26zp+c+kPd9zYLMmvaZfLfuffnTvzj9AB6gH3UPOPfwbKdU90MEOkDP/lxtXaou+NP82QU7n5/buT30n1VXpa7jc7afE+z7PdnTZ6JjRXXn9tdD4rO/q/38PHc/ezlJ1yrotYO0eh8AAAAAAGCwDXwAvGZB/nF5VT61sPuZwadn7jeu7jhTtL/8OD9bXpVPffkTqVr+872vEuxNTWtqs67qE/mbT6b9vNakPYQ6qWbfAXO/6n628dX5fz65a8jZ/twf+JOanZ97f973i2/MN3c5T7UgYV/H1sif+syHO15/ON/88vt23F5zX35eV5VPfbXbs1x84y5nxvbRAD/70z9Znrqq96Wmapfzc3/48yzP+1LTeS7w/ur8ee/tPdnTZ+Krn0j+6R+7fXaGyme/m/39PVLz191+ru2fo7ruzwoAAAAAAFBkBmUL6Hu+8P7kG7/I3zz0i/xNx7W6f/pM5vf3PPc9kL+ped9OKyz3v6b2bXtrTlqen3SuFlxzX36eT+RTeztfeH/V/HVWPvTXO17XfS+f+uMF+f/+U02+23nuad338qmvPJDv/skuz/IP38ufLqzJd7+083P3+X1/rjYnLfxFVn55R9tZhQj78kzm//F/y4SHOt+TB/K3V30vJy2s7nb/M8m//EO++9An2i8t/2/51D9V5rvVPY+4TwP97B1n634q3T5PSbo+ZzUHvir1ni98JhP28Z7c84X357m/WJTv7vKZ2Hlr7kH+7PfS/vweqfun/5a1f7Lj55rl/y1T+2MbcgAAAAAAgCGq5PSJk9oKXQQH6OIbs/JPavOpbltFH4ou+cYv8qe1/XTOMAc9nwcAAAAAAOBQNPBbQDPATs/cP3nfgZ0fWwwuvjF/U/NA/lHYBwAAAAAAwCFsULaAZmBc8o1ftJ/xeghua9v17F0eyN9Ou8HZrgAAAAAAABzSbAENAAAAAAAAUCRsAQ0AAAAAAABQJATAAAAAAAAAAEVCAAwAAAAAAABQJATAAAAAAAAAAEVCAAwAAAAAAABQJATAAAAAAAAAAEVCAAwAAAAAAABQJIYVugCAA/HMU48WugQAAAAAAICCOH3ipN2uWQEMAAAAAAAAUCQEwAAAAAAAAABFQgAMAAAAAAAAUCQG9QzgkpKSnHD8cTns8CO6rm3evCmvvfb6YJYB/eC4nHpeZbY9tjoNWwtdy1Dg/QAAAAAAABgK9isALi0tSVVVVcrKylJbuy5n/d7EvPzyy2l64cW99pv4e2dm7n/589Suq+u6dvLJE/Kf/8tf7k8ZQL8R4AIAAAAAABSDPgfAp5wyIedPPy+vbn4thx92WP78zz6dV199Nbfe9j/32ffIkaPyyOpH83++s7Dr2t//r/n51je/nm/d8ndZv76hr+UAAAAAAAAA0KFPAfCE6uq855xz8rOfL8+3br4xSXL77T/I9pa3c8qpJ+fJJ37b5wLa2try5JNPZVx5uQCYg9RxOfW8MzKm25VNv/tlnn1lVComnZOjN/46T9S90X7j2Ik5d/zWPPnoumzbpV97n87xKrPtdxty9GmVGZ4Nef7Bp7JxX/NuXJOH17ycjDwp7zy7MsOTJFvT1LWqt2Pchm0przgmSdLc8Os8UZdUTGofZ8zZ56c8G/L8g69kbE817HHsXRw7MeeedsyO1521AQAAAAAAMKD6FAC/sfWNjDrqyHzggpq0tbWlpKQkj/7mNzlv2tS8tnngzvGtOGnCgI0NPWlYt7YPrV/Osw92CzdHnpR3nj0xY195Khs3bk352GMzou6NbEsy9phj0ryxLtsyKhWTzsjwhl/n4bo3du7TPkjKx2/Ikw/+Mtt6nLO9/5iuYHVUKs44NiNyXCrOrkzz736ZJ15JexB79sRse7DbuCPq8/CDT3XMWZWxdU+l4dE1GbHTFtDHZexuNRyXU/c6drfnP21Emh775Y7g+Yw+vJ0AAAAAAADstz4FwNu3b89JVVVpbWnJv/zL0pSUlqTm/On56U/vy/qGxn32b2xszMc/Pivz/+6WtGzfniRZu7Z2n/36FsZBIey6CnhrRoxMNtbVZ1NFZcaOXJeGrcdl7NitefWx9sD36BEb0ti5MnjrK3l12zkZe2yy8ZX2/k3PrNtD+Jtk5LE5esTWND3TGTy/kYY1byTHTsyYbMjzr3RcfuWVbDrtjJ3Hre/os3VrmnNMRoxM0uO5v7vUcOyx+xh7pwK7jftynl2zj7cPAAAAAACAftGnAPjtt9/O3//v/5PGxqYceeSRKSstzebXXut1//UNjfncX12fBf/v36Wurq7r+nsmT8qDv1rZl1JgCGkPf7tW83Zstdzu5WzceEbGHTsqDVuPzZhtG9pXxR47MsNzTE4+7/yc3G2kTb2dcuTIDM+2bOspuN22tVtwvDXbtiUj9uOpetSbsbeuyxO/G5lzTzs/557WfmnH9tYAAAAAAAAMpD4FwK+/viWvv74lSbJly5b9nvQL130xo0eP6Xr99ltv5sWXnA/KQapzZWznat5dbNywISePPzYVIzq3f+60p7N9e2Hr1jRnZM/3RozMiKRjnpEZ0W/pbx/GfuWpPNwZ+B47Meee1n17awAAAAAAAAZKaSEmfe2111NfX9/19cKLL6Wtra0QpcCB27o1zRnRvuVx0hEId/PKK9k0ojLlY7tt+fxKXZq2HZNxVaO6mo2ompiKPWS6u8/5Sl7ddkxOPuO4jgujUnHGSRnxyivZlG7jdoTTu2/R3JORO56hJ70d+9iJeWe358rWrWneaeUwAAAAAAAAA6VPK4CBHmxdl+cajslZZ5+f8iTZuGGXrZzbt4Eek1e6rYB9Iw2PrsmI887JuRUdl7bV58m69FJn/zNy7nlntF/auCYNeTnPPjYy7zy7c9ytaXpsdS9W3r6chobKnHXa+Tn3tA15/sGeEuNejv3KK2nu/lwd7QTAAAAAAAAAA6/k9ImTLL2FATUqFZPOyYj1zsEdCM889WihSwAAAAAAACiI0ydO2u2aFcAw4N5Iw6O/LHQRAAAAAAAAHAIKcgYwAAAAAAAAAP1PAAwAAAAAAABQJATAAAAAAAAAAEVCAAwAAAAAAABQJATAAAAAAAAAAEVCAAwAAAAAAABQJATAAAAAAAAAAEVCAAwAAAAAAABQJATAAAAAAAAAAEVCAAwAAAAAAABQJATAAAAAAAAAAEViWG8bHjX66LxjzJgBLAU4lLy2aVNe3/xqocsAAAAAAAAoKr1eASz8BfqT3ykAAAAAAAD9zxbQAAAAAAAAAEVCAAwAAAAAAABQJATAAAAAAAAAAEViWH8POHz48IwePSalZWX9PfROWltasnnzpjQ3N+98o6Qk7zjqqIwYOSqlpQOTb7e2tmbb1jfy2uuvJ21t5jf/jnslw7J23PvzwjHvzlvDRg3I/IdvfyMnbvhNJjT+IqVt23e+Wej3HwAAAAAAgILq94RoMMLfJCktK8vo0WN2u/6Oo47KqCOPGrDwK0lKS0sz6sij8o6jjjK/+Xeydtz7U3fCeQMW/ibJW8NGpe6E87J23Pt3u1fo5wcAAAAAAKCw+j0lGozwd29zjRg5cMHbroaPGGl+8+/khWPePWjzvzD2Xbtd25/nP/H4Y/OOo47sc7+enh8AAAAAAIDC6vctoAttIFc+7qqshwDa/If2/AO58ne3uQ7bPbTt6/NPfvdZuejCmmxrfjPf/9e78tJLr/S6b0/PDwAAAAAAQGENXlpGwZSfcHymnXtOJlSN73PfUyZU5b3vOTvHHjN2ACqj6qiSfP/Dh+f7Hz48VUeVDOrcneFvkowYfkQ+/tHLcvzxxw5qDQAAAAAAAPSvolsBvD+GDSvL71/wvpxUWZGnnnkuv3xwVdra2gpdVkpKSg64jjNOOzl/dPFFKSlpDxfv/+Wv8tDDv+5V3wvff16mTD47SfL+86fl+0vuSn1D437VMaysLKXDyvLWm2/tdm/kiOHZ1vzmkHjPB1PVUSX5hw8enhNGtv9s/uGDh+cz972VutcH/n2YUDW+K/ytb2jM2DFjMmrUyHx8xqX5X//3n3v8OQEAAAAAADD0HfIB8LBhZfno5X/YtTp2+tTJOXLUyPzoJ/cXLJAcfsQR+cOLPpBTTz4pW97Ymv/42S/y3Nq6/RrrPWe/M1ve2Jof3HFPPvKhCzLlPe/OqSeftM9+JSUlKT/huDy7dl3uX/6rfPLjM3L2uybuVwA8rKwsH591eUaNHJHbl9yZ117f0nXv3EnvyoUXTE/jCy/lX+64Z0gEj4cdNiwfuuB9OfXk6mx67bX86Cf35+VXNvbrHOOP3Dn8TZITRrZf+/TP3sr6LQP72Wtta8v27dtT3/hC/vXOH+UdR43KlbMuT2lJaXKIBfEAAAAAAADFZEhuAV1SUpJLP/z7Oamy71sW98Wu4W+nd591Zj7yoQu6Vs0OpuFHHJGPz7osp586IfUNTTnssLJc/ocX5fDDD9uv8bZua86wYcNyzNFH54jDj8iWN7bm1c2b9/m1cdPmtLYlRx05KuUnHpdhw8ry5ptv7lcNpcPKMmrkiIwZ/Y5cOevyvOOo9rNrz530rvz+B96XkpKSVJSfkNkzLsnhRxy+X3P0l8MPOyyf+Ngf5ayJp2XkyBEZd+IJ+U8f+6MMG9a/fyvx52cN2yn87XTCyJL8+VkD93cZxx07NsOGlWVdfUP+bsHC/GDZPdm+fXs2vro5C/7xn/P/fud7eeutt/OOo45MWdmQ/PUAAAAAAADAXgzJFcDDjxiesyaeljNOOzn/eue/Z23d+n6fY0/hb6d3n3VmkgzqSuDhRxyRj8+8NCccd2x++dDDeeChh3PB+e/NtHPPyZh3vCMvvbKhz2M+9Mijqaoclz+65KJs3749/3LHD1O/ft+reEtKSjJ+3Ak5/thjc/EffDCvbtqcB1f1buvoXb315lu5fcmduXLW5V0h8JNPPZP3TTs3SfLkU8/k1JOrM+7E9hB48bLCrAQ+/LDD8p/++I9yzNijU1ZW1nV9WFlZjjtmbJpefKnf5vrVC60578SyPLGhNReObw9af7a+Ne88pjS/eqG13+bp7uTqqnzsiovzxFNrcs+P78tbb7+90/3t21uSJFWV43LlzMtTt74pty/5twGpBQAAAAAAgIExaAHwB2rOy2knV3e9/s0Tv82vHnlspza/d8apmf7ec1Na2r4ysjOkXfJv/5519f0XAu8r/O00mCHw8COOyOyZl+WE43eEv+NOPCHnvPusvLF1WzZu2rxf477wwku5fcmd+fScP86yu/+jV+Fvkkx9z9kZ/Y535N/u+Y+8vuWNvPTyK9ne0rJfNSTJa69v2SkE7gx/Vz7yWO5b/mDKTzgusz96WUFC4D++4pJUVpTn7ZbtOeywwzKsW/jbafPrr/frnPesa8k961py7vGluXB8+6rn7z2zPQ+/NDDhb5K8+eabeeONrXl102t7bbf1jeZsfu31vPzKKwNWCwAAAAAAAANj0PZ4Pf7YsRl79Oiurw/UnJfJ7z6r6/4pJ5+USz7y+zlm7JgcPWZ01/Vhw8oy+eyzehpyv3QPf3sT6g7GdtBHHHF4Zs+8LCfuEv7+8UcvSVlZWe750U+zffv2/R6/s29LLwPc4489JuefNyUPr/5N1jz7fBpfePGAwt9Or72+JU8+9UzX67fefCuPPPp4kqTpxZez+F/vyptvvtX+7FcMznbQxxxzdMZXlGfYYcMyYvjw3cLft7e35JcPrcrWrdsOaJ7xR5bkK+89LJectHu4vCeXnFSWr7z3sIw/8sA+e8OPOCJHHHF4GppezPz//d2s+NUje23/ysaN+V/f+V5+8vMHkiSj33HUfm9BDgAAAAAAwOAatAD4qTXPZvVjT2T1Y0/klY2vJkk+9MHzc9yxY1M1vjxXXHxRSktKsuWNN/KbJ57u6rdx06bce98v+6WG7uHvr3/zZL73L3fkrbfe3me/gQyBjzji8Mz+aHv4u/zBVbuFv8vu/PGAbIHdYy2HH57yE47PJR+5MJs2bc4vVqzs1/Enn/3OrpW/b731dg4/4vCdzgTuHgJXlHeEwAMcPG55/Y2UlpaktXX3lbdvv709Kx/+dX718GM99Oy9qqNK8p0LD88fTSjLNZN6/zzXThqWP5pQlu9ceHiqjtq/z17V+PL8l8/MyZ9fdeV+nek7YvgR+cxVH89//vR/yvHHH7tfNQAAAAAAADB4Bi0Afvy3a3Lvfb/Mvff9Mt9fcmde3bQ5Kx95LMPKyjLz8oszbNiwbNvWnO//69352fIVSdrD39t/cFe2vPHGAc+/a/h7732/TEPTi/nBHT/M22/ve3Xtu886M+8995wDrqO7I444PB+fcWnKTzguyx9clRW/emS38Pf5dXX9OueenHpydf7izz6VT1350Rx3zNj8/Je/6pdVv50mv/usXPTB85O0b/v8f/5pcTa/9nrGjH5HZlzyB13tdguBZ1w6YCHw4Ycdlo9dcXHWPPt8tjW/uVMI3NrampWrH8svH3r4gOaoOqok//DBw3PCyPYA94kNrTn3+NKurzPH7Ah2zxxTstO9xze013PCyPYx+hoCV40vz6w/uiSHH3ZYtmzdmtbWvm9j/vb2lmzb1pwRw0fk4x+9TAgMAAAAAAAwxA1aANzdG1u35Z++f0cef2pNPtaxyvOtt97OD+64Jxs2vJo333wrd//4p7n9B3cOWPjbuf3z+sam/ODfftirLZZPrt77mcF9ccTh7eHviScen+UrVhY0/E2SP7iwJq+/sSW/fOjhtLUlZ55+Sr+NfdaZp+VD3cLf+5Y/mNde35J/XnJnXnzp5WzcvPOZtE0vvpwld/57kqSi/ISc867f67daOh1++GH54xmX5JWNr+buH/0sixYvy7bmN9PSGZKWJE//7rkDnue/Tz+sK/xNkgvHl+b/XHh419cXJu8It78w+bCd7l04fsd20SeMLMl/n977IPzoMe/IrD+6JIcdNiwbN23KD5b9cL/Osd6+fXu+v/TOvPHG1owYfkQ+/tHLMnLE8D6PAwAAAAAAwOAoSACcJIcfPiwfn3FpRowYnu3bt2fJnf+eza9v6daiJH2Pq3a3t/C3U/36xiz5tx/tMwT+3XPr+qGijvD3o93C35WrCxr+lpSUZMTw4dm4cVMee/y3efOt5ow44oh+GXvYsGH5gw/WpKSkJKs6wt9Or732ev7vPy/NXf/+k936nD/tPUmSt95+u9+3wD788MPysSsuzSsbX82Pf/qLtLW1ZdPm13LH3f+RstKSbG9pSUtLS0pLC/bP44CVlQ5L2bD2APmtt7bn7e173up85MgR+dSVM/PecydlRA/h7ubXXu/6Q4zDhg1LaWnvzzEGAAAAAABgcA0rxKRHjhqZ2R+9NEceOSqtbW35t3vuzTFHj8mMS/4g/9yx6vfSD1+YVzdtzj8vuTNbtuzfKuDehL+d1tWvz7/e9eN89PKPZFjZ7gHXw48+nlWrD+ws2BHDj8h5U9+T00+dkNHvOCrPra0rePibJG1tbXn08Sdz7jnvzqknVydJnnrm2X4Z+5ixR+fwIw5PW1tbjj/+2Hx85qX77HPUkUdl7NGj89bbb+cHy36Yl17e0C+1JDvC3w0bN3aFv0ly5KhR+cM/uCAPPfzrNL/5Zl7duDkvvfTKAc/3X1e8vdMW0D9b35LvPbNja+0zx5R0rQL+xuq38/SmHZ/PT5w+LBeObw+hX9zalv+6Yt/nVXd6ZePG3HnPvbn8koty4vHHZtblf5jv/eDfemy7bVtzRo4Yng+cPy3nnzcla555Pr/+zRNpaHoxSdLS0pp/XnJnfu/M07Jh46Z+WZUPAAAAAADAwBi0APhdv3dGTjzhuCRJVWVFjh4zOm1tbfnhj3+WhqaX8tnPfCLDhg3Lx2demudr65MkR48Znf806/L9DoHfP/29vQp/O61dV5877vmPzLjkwykr27H6c9Xqx/KzXzy4l577Vlpamk987Iocc8zReemlV7L1sMNyyoSqfOiC8/POs04vWPjb6We/eDBNL7ycceXH5/fOPCPvOuuM/HbNs/u1bXB3r722JW1tbSkpKclJlRW97tcZ/q5vbMrJJ1X1y/vSGf5u7LbyN2kPf6/82GVZ87u1+cUDvzrgebqre70tn7nvra4Q+F3HlObhl7oHuTs+Z09vasvDL+04h/jr57WHxi9ubR+j7vW+/SzWPPt8/u2e/8gfXXxRTjzx+Bx+2GF56+3dQ+T2PwD4bS5433szrKwsZ008LWdNPC0vvfRKfv34b/Pk08/krbfezqO/+W3fHh4AAAAAAIBBN2gB8MQzTs2Ekyp3uvaT+36ZJ5/+XZLkjh/em5mXfSSjRo3Mu846o6vN0WNG5w8+cH7+9e4f93nOE084Nq1tbXns8ad6HWQ+9/y6/MfPfpE/vOgDSZJfPfJYfr78wMLfJDn3nHflmGOOzo9+cn8ee+KpHH7E4fn/fOJjec8578z2lpaChr9Jewj42zW/y2/X/C5rnl2bj8+8LO9/39Tc/8sDC0S3NW/Lw7/+TaZMPrvXfbqHv8cfe0xmXvGHueOe/8jvnl2733Uccfjh+cynZqf5rbfy1va3c+EF05Mkhw07LKecXJknn3q238PfTnWvt+XTP3srf37WsPzqhdZ9d+hwy6Pb894TS/P3T27P+i37F8Q/8+za/O+F309bW1veevvtHDlqVLZu3ZrWXf49/OaJp3L+tCk7/eHD8ccfmw///vvzgZppeeK3a/Lr3zyZDRs37VcdAAAAAAAADI5BO+T0pVc2ZuOrm7u+fr78waz+zZNd9597fl3u/tFPs2Hjpry66bWu69u3b9+pXV889vhTKS0pyawrLs6Y0e/oVZ8RI4bnPZPelSR5aNWv+yX8TZLyE49PW1tbHn/y6STJW2++lfrGF5Kk4OHvrurXN+bnv3wo733PpJx+6oQDHu++5Q/l6TXP9apt9/A3SX7/gveltKQkv//+6Qd0Ju+48hMyYsSIHDv26Jw76V1dX+/6vdPz4osb+u3nvCfrt7Tly796O/esa9l34w73rGvJl3/19n6Hv502bX4tm197PVWV4/IXf/bJXHRhzW5ttm5rzppne/4ZHXH44XnPpHflM5/6eCaefuoB1QIAAAAAAMDAGrQVwD9f/uA+Q7bfrnk2v13zbEYMH5G//M9XZfv27Vl6149SW7d+v+Z88unfZeTIEbnw/dPzxzMuzff+ZVne2Lptj+1HjBiej3/0shx/3DFZsXJ1lq9YuV/z9mT4EUfk7be3d628PO7YsTn5pMps3LRpQMPfYcOG5YL3TUtra2vOe+97en2G66pHHktVZUWuuPiibGt+K797fm3uvW95Wlp6v4K1U1tbW+780U+SJGeeccoe2+0a/laUn5CqynFJktHvOCoTzzg1Tz71TJ/nT5KSlKSlpWWnFa7bt2/Po7/5bX76ixX7NeaBuOSkslw7aVge39D9zN+yfP28w3LLo9v7FBT3VmtLS9ra2vJ2D9tAJ8nqx57M751x2s592try4ksvp66+MXXrG1NX39DvdQEAAAAAANB/Bi0A7ovmN5vz5FO/yxNPrdnv8LfTqtW/SVKSC99/Xj4245L885I789abb+3Wrnv4+8BDD+eXDz18QPN2N/odR6Wi/MS8/saW/N4Zp6aqsiLvPuvMJMm///T+fpunJx9437ScfuqErF1Xn6rKisy87MN54FeP9KrvO0YOT2tbW1548aWc/c6Jee2117Ni5er9qmNfIfCu4W+SjK8o36nNSeMr9jsATpLS0pKu799+e3t+/fiTue8Az3beX+89sTTHjSjJheN31HTh+LKuewMRAK9vfDG3fvs7eXv79pSWluaMU09Owwsv5rXXXk+SNDS+kJde3pDjjzsmSfLKho35p8XL8tZbPQfGAAAAAAAADD1DMgBua2vL3T/+ab+Nt2r1Y0lJcmHNefn4Ry/N+vVNu7WZUF2ZY48Zmy1vvJHDDzssF9act1ubjZs259HHf9unuUcMPyIzLvtwDjtsWMaOGZPL/vBDSZJXN23Oj3+6POvqDyzg3peK8uOz4dVX84M7fpgZl304p51cnZl/9Ie96tvW1pbHnngqP/7pL/IXf/bJnHj8cQdUS2cI3NLakrMmnt51vfnNN7P03360U/ibJA2NTWlra0tJSXtIWre+cb/mPfyIw3P+9Cl58eVX0tz8ZpKkvvGF/GrVr/fzSQ7c3z+5PdNOKM0JI0t2uv7i1rb8/ZPbB2zetzpW/5515mm55MMX5o2t2/L9JXdm46bNaW1tza9/82Q+/PvvT5LU1jcIfwEAAAAAAA4yQzIAHgirHnksrS2t+WDNeSk/4fg9tjty1KhMec/ZPd5revGlPgfAI0eNzKO/+W2OHDUySfLa61vyyoZX0/TiS2lrO7CzXXujvqEpU95zdj758RkpP+H4PP3Mc/lZL7c8/uhlH8m7fu/MjK84MUeOGpW1B7gaO+kM93+WNc+uTVXluGzbui2PPfl03nhj625t1ze+mCV3/HtOPeWkNDS9kCef+t1+zXnkiJF59vnaPLhy9aC8572xfktbPnPfW/mHDx7eFQK/uLX92oGe+dsbjU0vpfnNNzNq5Ij8pz++Ir99+pn85OcP5LdP/y4fPH9aDj/i8NTX71/gDgAAAAAAQOEcMgFwkjzy6ON5/MmnM6ojjO2rbdua+9xnw4ZXs2HDq/s1X3/4xYMrU1JWmurKijz2xFP56f0rsn1771aY3nHPf+SDNdNy9JjRWb5iZZ/D77353XNr87vn1u6z3fPr6g74jOSNmzZlRS+3vR5Mda+3B77/ffphSZL/uuLt1L0+OAH1xk2b8v2ld+fjMy/NiOFH5F1nnZlfrFiZt956O088/UzOefdZqW8QAAMAAAAAABxsDqkAOGnfAvetTZsLXcag2b69JT/9+QP71fe117fk3374k36uiO7qXm/Lx3+8+5nUg+HFl17O95fclcsvvigbN21KOrLnh3/9eEpKSrKtY7tsAAAAAAAADh5FFwC3tramtLR0UOZqaWkxv/l3cvj2N/LWsFGDMv/hb2/Z7Vpfn//Fl1/J/154+07XXt20Of/xs+X77NvT8wMAAAAAAFBY/Z6UtQ5iKNTTXNu2vjFo8zdv2/3cWvMf2vOfuOE3gzb/iRsf3+1aoZ8fAAAAAACAwur3FcCbN2/K6NFjUlpW1t9D76S1pSWbN2/a7fprr7+eJBk+YmTKBqiGlpaWNG/b2jWX+c3faULjL5IkL4x9V9467MgBmf/wt7fkxI2Pd83VXaGfHwAAAAAAgMIqOX3ipLbeNKw4acJA1wIcYhrWrT3gMZ556tEDLwQAAAAAAOAgdPrESbtdG5zDUgEAAAAAAAAYcAJgAAAAAAAAgCIhAAYAAAAAAAAoEgJgAAAAAAAAgCIhAAYAAAAAAAAoEgJgAAAAAAAAgCIhAAYAAAAAAAAoEgJgAAAAAAAAgCIhAAYAAAAAAAAoEgJgAAAAAAAAgCIhAAYAAAAAAAAoEgJgAAAAAAAAgCIxrNAFQKEcdeSRGTd+XI45ZmyGDz8iSdLc/GY2bNiYxvWNeX3LlgJXCAAAAAAAAH0jAOaQU1pamjPOPDUVFRUpKSnZ6d6oUSMzatTIVFZWpKGhIWuefjatra0FqhQAAAAAAAD6RgDMIaW0tDSTJ0/K0WPH7LVdSUlJxo8fn1Ejj8zq1Y8KgQEAAAAAADgoOAOYQ8oZZ566z/C3u6PHjsnpZ5w2cAUBAAAAAABAPzqIVwBPzw2LL0/9dddnUW337wtdF0PVUUcemYqKij73Gz9+XBrqG4rjTODqWZl/02VpfxdW59bZt+X+ntrVzMuyuZN3v75qQWbcvKL34wAAAAAAADCoDuIAeEVunL2i0EX0i7Fjj8lxJ5antKSs0KUUtTFjRu125m9vlJSU5LQzTktT00sDUNWBaW1pyebNm9Lc3NyL1lWZM++yNMy/KnOXpz3kvWVW6q5dkrW7Nl1+W2Ys36XvLV/NtIb1fRsHAAAAAACAQdX/AfBOKwObsrRrVW7HKt07mjLzivaVhQ13fClzb6/ruHd1pnYbZuX8q3JjVwC1y/1VCzLj5nSs+v12Mq/93tSbFmZmnsrKxompWNk5dtoDqo825HPXLsnajvoadhq/sIS/g2P4EYftd98jjxzVj5X0n9KysowePSbNzS/su3H11Ewb15SH6jte1zekYVxFqpJ9B7c1MzJz3OrcentdUj1r/8cBAAAAAABgQPXzGcDTc0NHuDpj9lWZMb8pM2+alwu67pdnZsWqjnurU3HFZzOnOmlfzdvRZ/ZVmXHdXamY29mvKnNuuTpTVy3ouP+lLM24TOgasy6Lrl2QlWnK0uuuyozZX8/3VzalYurUrjYXvHdyGlauHLLhlPB3cJSV7f/7fNhh+x8eD7TSPj1XU+pru78uT2X1vvpUZc5HJ6fhjmXdtnnen3EAAAAAAAAYaP0bANdMydSszorOlbXLV2VlJmd6TWeDpixdsqLbvfJUVnbem54bFi/MssULs+ymy1LRGSh1rFrs6pe6LLp571vNrr39zqwcd27eV90+7vQpTXnowY7VwLVLMnf20Fn9C4OmsiI7nYBc25iG3vTrWP37g84V9fs7DgAAAAAAAAOun1cAJ2lsSF3Xi/Wpb9xTw+732rd4rrjjSx2rfBdkZeetyopU7LbacF9WZMWq8kw7r6o9lG58OA/0qf/gam1rKXQJh4SWlv1/n99+++1+rKR/tfb2ueobdg5qq8ftHOT2aHpumDs5K+fftmP1736NAwAAAAAAwGDo/wC44yzQduNTOW5PDbvd61g53LXCsLtdw6Zeuv9Xq1MxdWrmDPHtn5Pk5ReahMCDoPnN/Q9xt2x5ox8r6T+tLS3ZvHlTH3rsulXz3v+4YsKVl2dq4135/m4r5vs2DgAAAAAAAINjWL+OtnxVVs69Oh+7sir3317XFeze2tN2y93vVTekIee2B0q1nfeS+iSpXZmHGr+aaz4/PfffvCJJVeZ8fmoeuHnXpcUd20nX7lzLzHGrc+vN3YLl6lmZ33FO8VDZBnrjxg3ZuHFDocsoekcdeWTee96UlJSU9KlfW1tbnnnmmWx5fWiGwL1WuzIPNV62499JZUUqulbsV2XOLV/NzIYFmXFz53br0/PxK8qzcv4uW67vdRwAAAAAAAAKqX8D4KzIjdeNy/ybvpplVyRJU5Zed/2OrWNTnpk3LczM7HKvdkm+ece5+VbnvVWrd2wBnbosunZBKhdfnWWLr26/tGpBFu0y7/fvuDzfmrswy+auzq2zb8v9WZEVq67O1KzqNj+Hste3bElDQ0PGjx/fp37r1zce/OFvks5/SzcsXphlc5NkdW6dvefztC/4/NWZ2nhXPrfbH0r0bRwAAAAAAAAGT8npEye19aZhxUkTDnCq6blh8eWpv+76LKo9wKF6pX1FY+W/Dp2VvhReaWlpJk+elKPHjulV+40bX82vVz+W1tbWgS3sENWw7sBj42eeevTACwEAAAAAADgInT5x0m7X+v8M4KGiemqmjVudFcJfumltbc3q1Y+mvr4hbW17/tuHtra21Nc3ZPUjjwp/AQAAAAAAOGj08xbQQ8cFsy5LxaoFtn9mN62trXn6qTVpqG/IuIryHHPsMRk+/IgkSXPzm9nwyoY0NjTl9S1bClwpAAAAAAAA9M0gbgENsDNbQAMAAAAAAOy/Q2sLaAAAAAAAAIBDjAAYAAAAAAAAoEgIgAEAAAAAAACKhAAYAAAAAAAAoEgIgAEAAAAAAACKhAAYAAAAAAAAoEgIgAEAAAAAAACKxLBCF3CoGz58eEaPHpPSsrJClwL9prWlJZs3b0pzc3OhSwEAAAAAADikWAFcYMJfilFpWVlGjx5T6DIAAAAAAAAOOQLgAhP+Uqx8tgEAAAAAAAafABgAAAAAAACgSAiAAQAAAAAAAIqEABgAAAAAAACgSAiAAQAAAAAAAIpEPwfA03PD4q9nTnVf7w3EfOy/s3P1Ldfm8nGFroPBVlZWmmHDhvXpq6zM35EAAAAAAAAMFcMKXUD/mZ4bFl+e+uuuz6LaQtfSn87O1bdcmKZv3JI7Gwtdy0A7lJ51aBoxfETe/c4zU1JS0qv2ra2tefzJp7Plja0DXBkAAAAAAAC9UUQB8IrcOHtFoYuAg9qWN97I756rzemnTuhV+2efrxX+AgAAAAAADCEDEwCfNy/LbpqcJGm440uZe3tdD42m54bFV2dqx6uV86/Kjcs7r1+e+juaMvOKnsbYuV/SlPp063fd9VlUu48xqmdl/k2XpaLbGEs7Vw533GvoqqewLr9+ds5OcvYXvpaP5Mn847VPZPItF6Zp0ROZNOeDObHrWnu7To8t+mIWPJJ0raq996V85KKzkiQv3Ps/8pUfvtDe8D2fyLfnnLWj4+OL89nvdK9g11W5Pb3uNvfji/PZ7zy22/V919PTs34vq/rpfaT3Xn5lQ44cOTLjxp2w13YNjS/k5Vc2DlJVAAAAAAAA9MYABMDlmVlxZ2bMvi2pmZdlcz+bOQ/uui1zVebccnUq7vhSZtxe1xG6zssFy2/L/buOUT0r82+akQtuvy3379qvI/TdZx27jjHvsqRXYxTenV9fnPJdAtfJOS4fuSj52rVfzPqOdquufWxHp3EX5ctf+ESmPNIZoB6Xj5z4s3z22u913Pv9TPnh97Jq3EX58pzj86NvfHFHmPvpvlR3Ynto2xX6npjLP/2ujM+JmXz97Jxw7//IZ3/4Qq/r2f1ZKZTa+vUZOXJ4xowZ3eP9Vzdtzrr6hkGuCgAAAAAAgH0p7f8hm7J0ScdWzMtXZWXKU1m5S5PqqZk2bnV+0Lkit3ZlHmqcnOk1PYxR25iGlKeyuod+va2j+xg1MzJzb2PULsnc2UNj9e+evZwffffervC33dm5+pav5du3fC3f/sIHc2KOT/m4bu1/1BEQN76UF3e6d1zKyzu/fywLvvNYem3cuzLphG5j54Xc+Z17s37cuzLphCfz752rjBsfz6MvnpXJ7+lNPQwFbW1tWfPs2jRva97tXvO25jzz7Nq0tbUVoDIAAAAAAAD2ZoDPAF6f+sZk1/w3lRWpyORcs3hhrul2eeW+hqus6LZt8wFobEhvIuSDR/t2y10rbju2Wd6nxnvzlUXH59tzvpZvz2m/tGOr5l4oPz4n5qU07bpat/z4nJiz8qe3fC1/2u1yH6JlhoDt27fnt2uey9nvOjNlZWVJkpaWlvz2mWezffv2AlcHAAAAAABATwY4AB6fyj2u7FydW2d3bvncS/UNaeiPCHhcRaqSrD3wkYaG97wzZ+fJ/GPnitu+eOR7+Wxn4PueT+Tbcz6RKY880bu+TS/lhRy/h5vO8C0G25q35Zlnn8/EM05Lkqz53fPZ1sOqYAAAAAAAAIaGAdgCupuaKZma1Vmx63bKy5dlaePkfOzKqq5LE66clznV+xivtjEN6bZVdM2UTO1rTctXZeXexqielfmLF+aGmh76Fkz3bZp70BHEdm2j/J535uzeDPueT+TLF5+48zgvvpSmnRq9mKYXd8w//uILd4zdsbXzn36688qJufzTF2X8Iz/Nj148K3/YbezxF38il/dqm+d9PCuDbuOr7ef9rqtryKubNhe6HAAAAAAAAPZiAFYAl2fmTQszM0nSlKXXXd/DKt+6LLp2QSoXfzXLrui41HhXPnf7vsZekRvnT8myuQuzbG6SVav3vW30gIwxmB7LPfdemC/O+Vq+PefJ/OO1PazObbw337n3nfniF76WjyTJ40/2brvlR57Ii7f8Zb59UeeFl/Ojb9yS9TvFxy/kznuf7Nom+oV778tjeeeOe19fnPJbZufbt8xuv/T44tyZF7L+64tT3n3sF+/L137Y12e1gnioWN/QtO9GAAAAAAAAFFzJ6RMntfWmYcVJEwa6lgKZnhsWX576667PotrBn718XL+cagxDUlNjw17vN6w78I3Yn3nq0QMeAwAAAAAA4GB0+sRJu10b2C2gh6gLPj8vF3S+qJmSqY0P54HaAhYEAAAAAAAA0A8GYAvog8HkXLN4Ya5JkqzOrbOX5MDXIQIAAAAAAAAU1iEZAN9/81U9nEsMAAAAAAAAcHA7JLeABgAAAAAAAChGAuACa21pKXQJMCB8tgEAAAAAAAafALjANm/eJCij6LS2tGTz5k2FLgMAAAAAAOCQc0ieATyUNDc3p7n5hUKXAQAAAAAAABQBK4ABAAAAAAAAioQAGAAAAAAAAKBICIABAAAAAAAAioQzgIvY8OHDM3r0mJSWlRW6FA4xrS0t2bx5U5qbmwtdCgAAAAAAwCFFAFxg733unn4b61enXLLTa+EvhVJaVpbRo8ekufmFQpcCAAAAAABwSLEFdBET/lJIPn8AAAAAAACDTwAMAAAAAAAAUCQEwAAAAAAAAABFQgAMAAAAAAAAUCT6OQCenhsWfz1zqvurXX/1gz4ad1G+fMsnMqXQdQxBp55SnVNOPqnQZQAAAAAAANADK4ChB1M+8sGcWOgihqhjxx6dY44eU+gyAAAAAAAA6MGwQhcAQ8n4i6/NFy86rtBlAAAAAAAAwH4ZwAB4em5YfHWmdruycv5VuXF5twvnzcuymyYnSRru+FLm3l7XY9/d+nWqnpX5N12Whj3dhz5a/8Nb8tkfdgbBha4GAAAAAAAA+mYAA+AVuXH2ih0vq2dl/k3zcsHy23J/kqQ8MyvuzIzZtyU187Js7mcz58Hrs6i2KnNuuToVd3wpM26v66EfB+LUUybsc/veDRs25tm16wanIIa8U0+pzrFjj+56XVZWlrKyskybck7XtZdf2ZDn1tb11B0AAAAAAIBBNMBbQO+6CrgpldVJatu/X7qkIyBevior516dysokmZpp41bnB52rgWtX5qHGr2Z6TXL/rqt8a5dk7uwlA/sIxaa1NW1trXtvkrZBKoaDQVtbW1pbd3xmysrKkmSna20+MgAAAAAAAEPCgG8B3bWSN9Nzw+LL99B2feobk8okqaxIRSbnmsULc023FisHrtBDyrNr1yVW99IHzz2/Ls9lx2dm2pRz0trampWPPFbAqgAAAAAAAOjJwAXANVMyNatz6+292RZ2fCrHdX+9OrfOtuUzAAAAAAAAQF+UDtjI9Q1pSHn7ls9JRyC8Bx1h8YrlSZYvy9LGyfnYlVVdtydcOS9zqnvoVz0r8xcvzA01/Vk4AAAwVEw+c16hSwAAGHBtjmQDAPrRwK0Arl2Sb95xbr5108LMTJJVq3fZxrk8MzvvpSlLr7u+Y8VvXRZduyCVi7+aZVd0NG28K5+7fcAqBfrg5Vc2OPMXAAAoWpPPnJfVT99W6DIAAAD2W8npEyf1KsqpOGnCQNdySHrvc/f021i/OuWSnV6Xj6vot7EPFeMvvjZfvOi4Xa4+mX+89ntZVZCKDm5NjQ17vd+wbu0Bz/HMU48e8BgAwNAkhAEKwe8eYLC1pS0lKSl0GQDAQer0iZN2uzZwK4DhILT+h7fksz8sdBUAAAAUgvAXAAAoBgN3BjAAAMABEMIAAIcCq38BgP4mAAYAAACIPzwBAACKgy2gC2zXc3v7U2tLS0rLygZsfNib1paWQpcAAAAAAABwyLECuIht3rxJCEdBtLa0ZPPmTYUuAwAAAAAA4JBjBXARa25uTnPzC4UuAwAAAAAAABgkVgADAAAAAAAAFAkBMAAAAAAAAECREAADAABDxqxxTqkBBpffO0AhtKWt0CUAAEVMAAwAAAAcspY0bhcCAwAARUUADAAADCmCGADgUGAVMAAwUPx/VgAAgCFjSeP2QpcAHIL87gEGW0lKCl0CAFDErAAGAAAAAAAAKBJWALObo448MuPGj8sxx4zN8OFHJEmam9/Mhg0b07i+Ma9v2VLgCgEAAAAAAICeCIDpUlpamjPOPDUVFRUpKdl5G5pRo0Zm1KiRqaysSENDQ9Y8/WxaW1sLVCkAAAAAAADQEwEwSdrD38mTJ+XosWP22q6kpCTjx4/PqJFHZvXqR4XAAAAAAAAAMIT08xnA03PD4q9nTnX/jjr4cxx6zjjz1H2Gv90dPXZMTj/jtIErCAAAAAAAAOizfg6ADxZC5O6OOvLIVFRU9Lnf+PHjctSRRw5ARQwde/i3Uj0r8xcvzLLFC7Ns8bxcUIjSAAAAAAAA2M0hugX0itw4e0Whi+gyduwxOe7E8pSWlBVk/jFjRu125m9vlJSU5LQzTktT00sDUBX9rbWlJZs3b0pzc3Ov2l/w+YW5ZkqSNKV+pztVmTPvsjTMvypzlyepmZdlt8xK3bVLsrbfqwYAAAAAAKAvBiYAPm9elt00OUnScMeXMvf2urSvJLw89fMfzrS5l6Uiq3Pr7FWZvvjy1F93fRbVZkebztc187Js7uQd465akBk3722OHuxhjM55Hjjv6/nWFeU791m1IDNuXtFRz9WZ2nF55fyrcuPyjhfVszL/pvYQrOvafipk+Jskw484bL/7HnnkqH6shIFUWlaW0aPHpLn5hV61v//mq3J/x7/JnVRPzbRxTXmoMxWub0jDuIpUJQJgAAAAAACAAhuALaDLM7NiVWbMvioz5q9OxRWf7bZ9bHlmfjT55uyrMmP2bbl/b8NUz8r8ueVZet1V7WPNXpCVe5xjRs9b0O51jHZrb7++495VmXHdXWlIU5YuWZGkKnNuuToVd3yp617F3IHZ6raQ4W+SlJXt//yHHbb/4TGDr/QAftY7a0p9bffX5ams7qehAQB2MWvcIbpxEVBQfvcAg60tbYUuAQAoEgMQAHcGqEmWr8rKlKeystu92/qyTWz3vity482d2zb3MEd1X8fY1fTccNNlyR3fbl99XD0108atzg86VxbXrsxDjZMzvaajee2SzJ194Kt/4aBTWZGdToyubUxDoWoBAA4JSxq3F7oEAIABV5KStHX8DwDgQAzwn7OuT31jUrnvhrurXZK58yuybO7CLJvbfmllX7db7sMYF3z+6kxdtSAzOgPfyopUZHKuWbww13Rrt+sK4v7Q2tZS0FXALS0tGTZs/+Z/++23+7kaBlJrS8uBD1LfkIbuEXD1uFQku5wTDADQv2aNGyYIBgaV3zlAoZSkpNAlAAAHuQEOgMenctwBdF9+W2Z0hrU187Js7rxcsHxVv48x4cqv55opq3Pr7F1XB6/OrfvaqrofvPxCU0HPAW5+8+0cuZ8B8JYtb/RzNQyU1paWbN68qZ9G61h1X9v5etctoQEA+pcgBgA4FAh/AYD+MLABcM2UTM3q3LrHVbvrU9/YsUVzbTLhysszNR0rCWvmZf74ZZnbuSK3viENjUldkum9nr8XY1TPyl9dkSy9bpegd/myLP3oV/OxK6tyf0f/CVfOy/sevK1ji+hZmX/TZWno66rkHmzcuCEbN244sEEOwFFHHpn3njclJSV9+w/Mtra2PPPMM9nyuhD4kFK7Mg81Xtb17zaVFalobEhdgcsCAAAAAABgQALg8sy8aWFmJkmasvS66/eygrYui/51ddcWzQ133JWVObf91vJVaVj81Sy7orNt+1hrex//9mqMC2ZdloqkW81JGu/K565dkkXXLkhl9/6Nd+Vzt/d++oPF61u2pKGhIePHj+9Tv/XrG4W/ReyCzy/MNVPav59608LM7Ph3sTZ1WXTtgtywuHNr9dW5dXZfzvYGAAAAAABgoJScPnFSW28aVpw0YaBroYBKS0szefKkHD12TK/ab9z4an69+rG0trYObGEUtYZ1Bx4bP/PUowdeCAAAAAAAwEHo9ImTdrtWOvhlMBS1trZm9epHU1/fkLa2Pf9NQFtbW+rrG7L6kUeFvwAAAAAAADDEDOwZwBxUWltb8/RTa9JQ35BxFeU55thjMnz4EUmS5uY3s+GVDWlsaMrrW7YUuFIAAAAAAACgJwJgdvP6li1Zs+Z3yZrfFboUAAAAAAAAoA9sAQ0AAAAAAABQJATAAAAAAAAAAEVCAAwAAAAAAABQJATAAAAAAAAAAEVCAAwAAAAAAABQJATAAAAAAAAAAEVCAAwAAAAAAABQJATAAAAAAAAAAEVCAAwAAAAAAABQJATAAAAAAAAAAEVCAAwAAAAAAABQJATAAAAAAAAAAEVCAAwAAAAAAABQJATAAAAAAAAAAEVCAAwAAAAAAABQJATABVZSWpphww4rdBnQr0pLSwpdAgAAAAAAwCFpWKELONSVJjns8GE57vjjC10K9JtNr76aN99sTmtra6FLAQAAAAAAOKRYAVxgLa2tGTNmbKHLgH415uijhb8AAAAAAAAFIAAGAAAAAAAAKBICYAAAAAAAAIAiIQAGAAAAAAAAKBICYAAAAAAAAIAiIQAGAAAAAAAAKBJDIACenhsWfz1zqgtdx94cDDXCgSkrK82wYcP69FVWNgR+hQAAAAAAANBlWKELYCCNyamTT8i2p9akYVuha2GoGzF8RN79zjNTUlLSq/atra15/Mmns+WNrQNcGQAAAAAAAL1l+R6QJNnyxhv53XO1vW7/7PO1wl8AAAAAAIAhZgBWAE/PDYuvztTOl6sWZMbNK5LqWZl/02WpSJI0Zel112dRbQ/d99huem5YfHnq5z+caXMvS0VW59bZt+X+3ea+PPV3NGXmFZOTJA13fClz18/IsrndXt9et4+5eniONKV+D8+4cv5VuXH5zvU3dL92wMbk1Mkn5ehuV15d+1iefbXzXvdVvp2v1yUT2vscPfHsjMvmPLe6NhtHnJh3TjwhI5IkzWm0OphuXn5lQ44cOTLjxp2w13YNjS/k5Vc2DlJVAAAAAAAA9FY/B8BVmXPL1ZnaGfqmKnM+PzUTMj0f7whF5y5PUjMvy26al/qeAty9tivPzI8mn5t9VdbusYbyzKy4MzNm39YRxn41y1Yt6PZ6Ri64/bbcv9e52p+j4o4vZcbtdekMlrs/Y9e96lmZf9O8XLB812fpT5vy7OpNO16OODHvnFidsa/WZs8RXHMafrsuI3YNhyeekOa1j+WJV5McXZ0pE6uzbfXexuFQU1u/PiNHDs+YMaN7vP/qps1ZV98wyFUBAAAAAADQG/27BXT11Ewb15SlS1Z0XKjLopuXZG3NlEzN6qzoXBG7fFVWZnKm1+zSf5/tmrL0tiV7CX872nTOX9uYht1el6eyeh9zVU/NtHGr84POlcK7PWO3e7Ur81Bjtxprl2Tu7P5c/dtpTE6dfHamTD47UyaekBE5IiNG9HGIo8fk6GzOxlc7Xr+6Ka9mdMYevddeHGLa2tqy5tm1ad7WvNu95m3NeebZtWlraytAZQAAAAAAAOxL/64ArqxIRZpSX9vDvcaG7IhT16e+MansaYzetusPe5qrsqJjW+geVFakIpNzzeKFuabb5ZUDVWOSzi2ghzetyaqm5nRu87xfmpuzY8fn5mxrTvqaI1P8tm/fnt+ueS5nv+vMlJWVJUlaWlry22eezfbt2wtcHQAAAAAAAHvSvwFwfUMa9hSdjqtIVdKxend8KsftYYzetusPe5prb8+RJD2ePzyAOlbuPte0+4rMPhs+PCOSjhB4eEYMP/AhKU7bmrflmWefz8QzTkuSrPnd89nWw6pgAAAAAAAAho7+3QK6Yzvkaz4/veNCVeZ8flYmdGyv/LErq9ov77r9cqfetusPe5urtjEN3beerpmSqV39lmVpY7d+SSZcOS9zqjteVM/K/MULc8Ou21sfiObmbOu+5fPRY7Jj1+bmbGveEeSOKD8hO+/o3C3k7djyeVz58G7jdNsSGnax8dX2837X1TXk1U2bC10OAAAAAAAA+9C/K4BTl0XXLkjl4quzbPHV7ZdWLciirMiN143L/Ju+mmVXJElTll53fQ8raHvbrj/sba4VuXH+lCybuzDL5iZZtbrbFs+dz9jZL0njXfnc7QNSZLttL+S5ptF558SzMy5JNm3Ojsy2OQ1NmzNlwtmZMiHZ1vRiXs3ojnub0tB0Qt454exMmbA5z62uzbNPDc87J56RKeXtfRufWpONA1g6B7/1DU2FLgEAAAAAAIBeKjl94qS23jSsOGnCQNdyyCoft7ftpuHg1NTYsM82DevWHvA8zzz16AGPAQAAAAAAcDA6feKk3a717xbQAAAAAAAAABSMABgAAAAAAACgSAiAAQAAAAAAAIqEABgAAAAAAACgSAiAAQAAAAAAAIqEAHgI2LhhQ6FLgH716saNKS316wUAAAAAAGCwDSt0ASRvvtmcpsaGQpcB/aa0tCStrW2FLgMAAAAAAOCQY4ke0O+EvwAAAAAAAIUhAAYAAAAAAAAoEgJgAAAAAAAAgCIhAAYAAAAAAAAoEsMKXcChbvjw4Rk9ekxKy8oKXQr0m9aWlmzevCnNzc2FLgUAAAAAAOCQYgVwgQl/KUalZWUZPXpMocsAAAAAAAA45AiAC0z4S7Hy2QYAAAAAABh8AmAAAAAAAACAIiEABgAAAAAAACgSAmAAAAAAAACAIjGs0AXAwDoxl1//l/nICR0vX7wvX/v6vVlf0JoObqeeUp22trY89/y6QpcCAAAAAADALob4CuDpuWHx1zOnutB1cLCa8um/zEdyX7527Rfz2Wv/R36UD+aLnz670GUd1I4de3SOOXpMocsAAAAAAACgB0M8AIYDcXYmvyt57N7OFb8v5M57n0zedWEuH1fg0gAAAAAAAGAADMAW0NNzw+KrM7Xz5aoFmXHziqR6VubfdFkqkiRNWXrd9VlU29n+8tTf0ZSZV0xOkjTc8aXMvT2Zc0v7OFNvWpiZWZ1bZ9+W+/c1To+vO76f/3Cmzb0sFbuM1TD/qty4vP/fCQrsPe/M2Xk5P2rqdq3ppbyQs1JenqSxUIUBAAAAAADAwOjnALiqPbTtDH1TlTmfn5oJmZ6PdwStc5cnqZmXZTfNS/3s23J/kqQ8MyvuzIzZt3UExTNywe23ZdG1C1K5a6i713H2pjwzP5p8bvZVWdu/D93vTj1lwj632N2wYWOeXesM1j5rfCkvJjnhhBOTvFDoag4Kp55SnWPHHt31uqysLGVlZZk25Zyuay+/siHPra0rRHkAAAAAAAB0079bQFdPzbRxTVm6ZEXHhbosunlJ1tZMydSszorOVbbLV2VlJmd6TWfHbn1qG9OQ8lRW9zD+PsfZm6YsvW3JzuFv7ZLMnT0EV/+2tqatbe9frWkrdJUcItra2tLa2tr11an7tTYfRwAAAAAAgCGhf1cAV1akIk2pr+3hXmNDdqwPXJ/6xqRyf+bor3GGsGfXrkus7mWIeO75dXkuOz6P06ack9bW1qx85LECVgUAAAAAAEBP+ncFcH1DGvZ0b1xFqrpejE/luP2co7/G4dA07vickOTFF23/DAAAAAAAQPHp3wC4dmUeapycaz4/veNCVeZ8flYmdGzV/LErO6LbXbdy3qvyVHYu8d3rOOtT37ij7YQrL8/UfQ1dPSvzFy/MDb3aQpqDziNP5LEcl/LybtfKj8+JeTlNTQWrCgAAAAAAAAZM/24BnbosunZBKhdfnWWLr26/tGpBFmVFbrxuXObf9NUsuyJJmrL0uutz/z7HW5Hv33F5vjV3YZbNXZ1bZ9+2l3HqsuhfV2fZ3IVZNjdpuOOurMy5/ft4HGQey+rHZ+dPL7oo4x+5N+tzYi6/6Kzk8cW5s7HQtR28Xn5lgzN/AQAAAAAAhqiS0ydO6lWUU3HShIGu5ZBUPq6i0CUUuRNz+fV/mY+c0PHyxfvyta/fm/UFrenQ0dS4x03hkyQN69Ye8BzPPPXoAY8BAAAAAABwMDp94qTdrvXzCmAYal7InV//Yu4sdBkAAAAAAAAwCPr3DGAAAAAAAAAACkYADAAAAAAAAFAkBMAF1trSUugSYED4bAMAAAAAAAw+AXCBbd68SVBG0WltacnmzZsKXQYAAAAAAMAhZ1ihCzjUNTc3p7n5hUKXAQAAAAAAABQBK4ABAAAAAAAAioQAGAAAAAAAAKBICIABAAAAAAAAioQzgAts+PDhGT16TErLygpdCvSb1paWbN68Kc3NzYUuBQAAAAAA4JBiBXCBCX8pRqVlZRk9ekyhywAAAAAAADjkCIALTPhLsfLZBgAAAAAAGHwCYAAAAAAAAIAiIQAGAAAAAAAAKBICYAAAAAAAAIAiMazQBfTO9Nyw+PLUX3d9FtUOhXE4WEz59Nfyp+/qduHxxfnsdx4rWD3F4NRTqtPW1pbnnl9X6FIAAAAAAADYxUG4Anh6blj89cyp3vX7AxmH4nR2Jh9/X7527Rfz2Wu/mM9euziPvWt2vv3pswtd2EHt2LFH55ijxxS6DAAAAAAAAHpwkKwA7m5Fbpy9YgiNw9D1WBZ8fefX99x7Yc6+6J2ZkseyqlBlAQAAAAAAwADp5wC4Y4vlO5oy84rJSZKGO76UubfX7aX91Zna8Wrl/Kty4/Ke7yVNqe8+x3XfTua1359608LMzOrcOvu23L+POXYf5/osqt1D3etnZNncHp6jelbm33RZGnaqFwAAAAAAAKCwBmAFcHlmVtyZGbNv6whKZ+SC23sKZqsy55arU3HHlzLj9rqOtvNywfLbcv+u9zrC2p3VZdG1C1K51zN9ezPOnur+apatWtCL5+h/p54yYZ9b7G7YsDHPrnUGa9+cmMnvPi558Yk0FbqUg8ipp1Tn2LFHd70uKytLWVlZpk05p+vay69syHNr9/SHHgAAAAAAAAyWATgDuClLl3RsrVzbmIaUp7K6h2bVUzNt3Or8oHNVbe3KPNQ4OdNreri3v/o0zq517+U5apdk7uwBXP3b2pq2tr1/taZtgCYvXuMvvjIfOSF57N57s77QxRxE2tra0tra2vXVqfu1Nh9HAAAAAACAIaFwZwBXVqQik3PN4oW5ptvllV33+muOg8+za9clVvf2r3EX5dMXHZcX7v0fWfBIoYs5uDz3/Lo8lx2fx2lTzklra2tWPvJYAasCAAAAAACgJ4ULgJNkT+f2VjekoT+i2/p+GoeD3Nm5+gsfzImPL85nf/hCoYsBAAAAAACAATMAW0D30vJlWdo4OR+7sqrr0oQr52VOdTq2XO7YDjpJaqZk6h4HKk9l5R5u9WmcPqielfmLF+aGmn03pdDOztW3zM7Zjy/OZ79jxSoAAAAAAADFrYArgOuy6NoFqVz81Sy7ouNS41353O1JsiI3zp+SZXMXZtncJKtWt28NvZsV+f4dl+dbcxdm2dyeVhP3dhyKk/B3ILz8ygZn/gIAAAAAAAxRJadPnNSrKKfipAkDXcshqXycLaoHzLiL8uUvfDAn9nDrhXv/R75iO+gB19TYsNf7DevWHvAczzz16AGPAQAAAAAAcDA6feKk3a4V+AxgGECN9+Yr195b6CoAAAAAAABg0BTuDGAAAAAAAAAA+pUAGAAAAAAAAKBICIALrLWlpdAlwIDw2QYAAAAAABh8AuAC27x5k6CMotPa0pLNmzcVugwAAAAAAIBDzrBCF3Coa25uTnPzC4UuAwAAAAAAACgCVgADAAAAAAAAFAkBMAAAAAAAAECREAADAAAAAAAAFAkBMAAAAAAAAECRGFboAkiGDx+e0aPHpLSsbL/6t7a0ZPPmTWlubu7nygAAAAAAAICDiRXAQ8CBhL9JUlpWltGjx/RfQQAAAAAAAMBBSQA8BBxI+NufYwAAAAAAAAAHNwEwAAAAAAAAQJEQAB+kKsePK3QJAAAAAAAAwBAzxAPg6blh8dczp3pPrw9N5087N/9p1uU5f9q5hS4FAAAAAAAAGEKGFbqAvlmRG2evKHQRBXX+tHPzPsEvAAAAAAAA0IMBCICn54bFV2dq58tVCzLj5hVJ9azMv+myVCRJmrL0uuuzqLaz/eWpv6MpM6+YnCRpuONLmXt7MueW9nGm3rQwM7M6t85elemLL099Z9+dxuw+bseYu87RY78eatnT65p5WTZ38o5H3eXZGuZflRuX9/sb2qV7+PvAQw/nlw89PHCTAQAAAAAAAAedft4Cuqo9tF21IDNmX5UZs7+UpRmXCZmeGzoC0hmzr8qM+U2ZedO8XNDVrzwzK1a137vuruSKGbkgdVl07YKsTFOWXndVZsy+LffvOte8y5I7vtQx14Ks7FWN+6plD6pnZf7c8o5a+jJf3/V0vq/wFwAAAAAAANiX/g2Aq6dm2rimLF3SuU1zXRbdvCRra6ZkalZnRefq2OWrsjKTM72ms2O3PrWNaUh5Kqv3MVfNjMwctzo/uL2ubzXus5a9KU9lZef3K3LjzZ01L8nc2f2z+ren832FvwAAAAAAAEBv9O8W0JUVqUhT6mt7uNfYkB1R7frUNyaVPTTrk53G3N9+vayldknmzq/IsrkLs2xu+6WVA7jlc/dzfoW/AAAAAAAAQG/0bwBc35CGbify7mRcRaqSrE2SjE/l7rsc991OY+5vvz7Usvy2zOgMfGvmZdnceblg+a5bUx+YzoD3fd1W/SbCXwAAAAAAAGDf+ncL6NqVeahxcq75/PSOC1WZ8/lZmdCxzfLHrqxqv7zrNsx71X3b5W523bq5Zkqmdt1cn/rGHf0mXHn5jnt7rWUv/WrmZX5nn6Q97O5cSVw9K/MXL8wNvdpGet9++dDDeaBb2Cv8BQAAAAAAAHqjf1cApy6Lrl2QysVXZ9niq9svrVqQRVmRG68bl/k3fTXLrkiSpiy97vperJxdke/fcXm+NXdhls1dnVtnr9rp3o3zp+zYknnV6qzsXse/ru6613DHXVmZc3f022Mte+m3fFUaFnf22dGvz6uPe6l74Cv8BQAAAAAAAHqj5PSJk9p607DipAkDXcsBmp4bFl+e+uuuz6LaQtfSN+Xj9rBtdh81NTb0yzgwWBrWHfifUDzz1KMHXggAAAAAAMBB6PSJk3a71r9bQA+yCz4/Lxd0vqiZkqmND+eB2gIWBAAAAAAAAFBA/bwF9GCbnGsWL8w1SZLVuXX2kgHbknkgtba0pLSs7IDHAAAAAAAAAA5tB3UAfP/NV/XiHOGhb/PmTRk9esx+h8CtLS3ZvHlT/xYFAAAAAAAAHHQO6gC4WDQ3N6e5+YVClwEAAAAAAAAc5A7qM4ABAAAAAAAA2EEADAAAAAAAAFAkBMAAAAAAAAAARUIADAAAAAAAAFAkBMAAAAAAAAAARWJYoQsgGT58eEaPHpPSsrL96t/a0pLNmzelubm5nysDAAAAAAAADiZWAA8BBxL+JklpWVlGjx7TfwUBAAAAAAAAByUB8BBwIOFvf44BAAAAAAAAHNwEwAAAAAAAAABFQgAMAAAAAAAAUCQEwAAAAAAAAABFYlj/Djc9Nyy+PPV3NGXmFZOTJA13fClzb6/bcW/+w5k297JUZHVunX1b7s/03LD46kztGGHl/Kty4/KOFzXzsmzu5B3Dr1qQGTev6Birpz67zrE2z2Z4Hrvu+iyq7WhcPSvzb6rID/Y1NwAAAAAAAMBBZgBWAJdnZsWqzJh9VWbMX52KKz6bOdXd7n00+ebsqzJj9m25P1WZc8vVqbjjS+3tr7srFXPn5YKkPaidW56l113Vfm/2gqxMkr312W2O/1/uXlWembOmd92dcN65qVi1au9zAwAAAAAAAByEBiAAbsrSJSvav12+KitTnsrKbvduW5K1nS+rp2bauNX5we117a9rV+ahxsmZXtPZoHvfFbnx5hW96LPzHPf/anUyZUpHsFuV900tz8pf9WYcAAAAAAAAgINLP28Bvav1qW9MKvd0u7IiFZmcaxYvzDXdLq9MktolmTu/IsvmLsyyuR3X51+VG7OXPj1ZvixLP/rVTK9J7q+fmmm5K99cnqSmj+MAAAAAAAAADHEDHACPT+W4fbXpPAu4B8tvy4ydzgOelwvm76PPburywMqmfOu90zNh/LnJym/vWIHcp3EAAAAAAAAAhrYB2AK6m5opmZrVWbF8D/eXL8vSxsn52JVVXZcmXDmv/czgmnmZ3+166hvS0NiQur312YO1Dz6chimX56+mJg89WLfvuQEAAAAAAAAOQgOwArg8M29amJlJkqYsve76vaywrcuiaxekcvFXs+yKjkuNd+VztyepXZWG7tc7xlqbZO2e+uxJ7ZL8YNVluabirjxQ24u5AQAAAAAAAA5CJadPnNTWm4YVJ03oRavpuWHx5am/7vosqj2wwg4l5eMq+mWcpsaGfhkHBkvDurX7brQPzzz16IEXAgAAAAAAcBA6feKk3a4N7BbQAAAAAAAAAAwaATAAAAAAAABAkejnM4BX5MbZK/p3yENAa0tLSsvKDngMAAAAAAAA4NBmBfAQsHnzpgMKcFtbWrJ586b+KwgAAAAAAAA4KPXzCmD2R3Nzc5qbXyh0GQAAAAAAAMBBrp9XAE/PDYu/njnV/dWuv/oBAAAAAAAAFD9bQAMAAAAAAAAUCQEwAAAAAAAAQJEYwDOAp+eGxVdnarcrK+dflRuXd7tw3rwsu2lykqThji9l7u11PfbdrV+nmnlZNnfyjterFmTGzSuS6lmZf9NladhTPwAAAAAAAIAiNIAB8IrcOHvFjpfVszL/pnm5YPltuT9JUp6ZFXdmxuzbOoLcz2bOg9dnUW1V5txydSru+FJm3F7XQ79u480tz9Lrrsqi2iSZnhs+P3BPAwAAAAAAADDUDWAAnOy+CrgpldVJatu/X7qkIyBevior516dysokmZpp41bnB52rgWtX5qHGr2Z6TXL/bqt5y9v71CbJitx4c8fl2iWZO3vJgDwRAAAAAAAAwFA14FtAd63kzfTcsPjyPbRdn/rGpDJJKitSkcm5ZvHCXNOtxcpdu9Quydz5FVk2d2GWze1oY8tnAAAAAAAA4BA2cAFwzZRMzerc2nWu796MT+W47q9X59bZu2z53JPlt2VGZ+BbMy/L5vawVTQAAAAAAADAIaJ0wEaub0hDytu3fE46AuE96AiLVyxPsnxZljZOzseurOq6PeHKeZlTvWufeZnfrU3qG9LQ2JC6pP184MULc0NN/zwKAAAAAAAAwMFg4FYA1y7JN+84N9+6aWFmJsmq1bts41yemZ330pSl113fsXK3LouuXZDKxV/Nsis6mjbelc/dvsv4y1eloXubjjHWDsjDAAAAAAAAAAx9JadPnNTWm4YVJ00Y6FqAQ0zDugP/k41nnnr0wAsBAAAAAAA4CJ0+cdJu1wZuC2gAAAAAAAAABpUAGAAAAAAAAKBICIABAAAAAAAAioQAGAAAAAAAAKBICIABAAAAAAAAioQAGAAAAAAAAKBICIABAAAAAAAAioQAGAAAAAAAAKBIDCt0ASTDhw/P6NFjUlpWtl/9W1tasnnzpjQ3N/dzZQAAAAAAAMDBxArgIeBAwt8kKS0ry+jRY/qvIAAAAAAAAOCgJAAeAg4k/O3PMQAAAAAAAICD2yAFwNNzw+KvZ0714MwGAAAAAAAAcCiyAhgAAAAAAACgSAiAAQAAAAAAAIpE/wfANfOybPHCHV+fn77j3nk77s2/smrH9epZmd/Vp3Or6KrMuWXndhd8fufXE678+s7jAwAAAAAAABzC+jcArp6V+XPLs/S6qzJj9lWZMXtBVnbdLM/MilXt1+evTsUVM3JBkmR6brjpsjTM7+gzvykzb5qXC1KXB1Y2paJifEf/6Zk+pSmpmJoJHVeqKsqz8lcr+vURAAAAAAAAAA5WA7AFdHkqKzu/X5Ebb+4MaJuydEnH98tXZWXKU1mdpGZKpmZ1VixPt3uTM70mWbu+KakY1x741kzJ1FV35psNFXlfddIZCNfX9/8TAAAAAAAAAByM+jcArl2SufNXZ+rcHVtA31DTi36NDanrerE+9Y0d3y5flZXjKlKV5IL3Ts7KX63I2vXJtPOqkupxqWh8OA/U9usTAAAAAAAAABy0hvX7iMtvy4zO1bw187Js7rxcsHzV3vt0hLxrkyTjUzmu88aKrFh1dabXTE+mrM6Km5NkVRoWz8gF65OsXNbRBwAAAAAAAID+XQFcMy/zr6za8bq+IQ07re7tQceWzx/r7LfLltB1DU2p+OjlmbpqVe5P0h4KT87HPlqehvV7HRkAAAAAAADgkNK/K4CXr0rD4q9m2RWdF5qy9LrrszbT99JpRW68blzm39TZr73P/R131z74cHLFZVn5ryu6etz/q9W5Zm7yg+U9DAcAAAAAAABwiCo5feKktt40rDhpwkDXcsgqH1fRL+M0NTb0yzgwWBrWHfgm7s889eiBFwIAAAAAAHAQOn3ipN2u9e8W0AAAAAAAAAAUjAAYAAAAAAAAoEgIgIeA1paWITEGAAAAAAAAcHATAA8BmzdvOqAAt7WlJZs3b+q/ggAAAAAAAICD0rBCF0DS3Nyc5uYXCl0GAAAAAAAAcJAbAiuAp+eGxV/PnOpDbW4AAAAAAACA/jUEAuADJcQFAAAAAAAASIoiAAYAAAAAAAAgGYgzgGvmZdncyTter1qQGTevSPtK3asztePyyvlX5cblPQ2wt3Y738uqH2RpxccyNcnUmxZmZlbn1tm35f6+jJGm1Hd+Wz0r82+6LA17rA0AAAAAAABg6OrfALh6VubPLc/S667KotokmZ4bPp8kVZlzy9WpuONLmXF7XUfQOi8XLL8t9+80wN7atd+b2hUoV2XO56fmgWsXpHLx5am/7vqOOfc9Rte9TM8Niy/v17cAAAAAAAAAoFAGYAvo8lRWdn6/IjfevCKpnppp41bnB7fXtV+uXZmHGidnes0uXffWrnpqpo1rytIlKzoa12XRzUuydtfp9zlGt3u7ql2SubOt/gUAAAAAAAAOTv27Arh2SebOr8iyuQuzbG77pZXzr8qNqUhFJueaxQtzTbfmK3ftX7mXdpUVqUhT6mv3UcM+xwAAAAAAAAAoTv1/BvDy2zKjcwVtzbwsmzsvF8xP0nU+777soV11Qxp6Hd/2xxgAAAAAAAAAB5f+3QK6Zl7mX1m143V9QxoaG1K3fFmWNk7Ox7rdm3DlvMyp3qX/3tp1bOV8zeend9ypypzPz8qEJDttO73XMRrTkG5bT9dMydTu81fPyvzFC3PDrltTAwAAAAAAABwE+ncF8PJVaVj81Sy7ovNCU5Zed33WJll77YJUdr/XeFc+d/uuA9Rl0R7bdd67OssWX91+b9WCLMqKfP+Oy/OtuQuzbG77yt89j7EiN86fsmOL6lWrd9+GGgAAAAAAAOAgVXL6xEltvWlYcdKEga4FOMQ0rFt7wGM889SjB14IAAAAAADAQej0iZN2u9a/W0ADAAAAAAAAUDACYAAAAAAAAIAiIQAGAAAAAAAAKBICYAAAAAAAAIAiIQAGAAAAAAAAKBICYAAAAAAAAIAiIQAGAAAAAAAAKBICYAAAAAAAAIAiIQAGAAAAAAAAKBICYAAAAAAAAIAiIQAGAAAAAAAAKBICYAAAAAAAAIAiIQAGAAAAAAAAKBICYAAAAAAAAIAiIQAGAAAAAAAAKBICYAAAAAAAAIAiIQAGAAAAAAAAKBICYAAAAAAAAIAiIQAGAAAAAAAAKBICYAAAAAAAAIAiIQAGAAAAAAAAKBICYAAAAAAAAIAiIQAGAAAAAAAAKBICYAAAAAAAAIAiIQAGAAAAAAAAKBICYAAAAAAAAIAiIQAGAAAAAAAAKBICYAAAAAAAAIAiIQAGAAAAAAAAKBICYAAAAAAAAIAiIQAGAAAAAAAAKBICYAAAAAAAAIAiIQAGAAAAAAAAKBICYAAAAAAAAIAiIQAGAAAAAAAAKBICYAAAAAAAAIAiIQAGAAAAAAAAKBICYAAAAAAAAIAiIQAGAAAAAAAAKBICYAAAAAAAAIAiIQAGAAAAAAAAKBICYAAAAAAAAIAiIQAGAAAAAAAAKBICYAAAAAAAAIAiIQAGAAAAAAAAKBICYAAAAAAAAIAiIQAGAAAAAAAAKBICYAAAAAAAAIAiIQAGAAAAAAAAKBICYAAAAAAAAIAiIQAGAAAAAAAAKBICYAAAAAAAAIAiIQAGAAAAAAAAKBICYAAAAAAAAIAiIQAGAAAAAAAAKBICYAAAAAAAAIAiIQAGAAAAAAAAKBICYAAAAAAAAIAiIQAGAAAAAAAAKBICYAAAAAAAAIAiIQAGAAAAAAAAKBICYAAAAAAAAIAiIQAGAAAAAAAAKBICYAAAAAAAAIAiIQAGAACGrEsvvbTQJQAADLhL4795AID+IwAGAACGJOEvUBB+9QAAAAc5ATAAADBk3X333YUuATiUXJrErx1gkF2aS3O3Xz4AQD8SAAMAAAAAAAAUCQEwAAAwJFn9Cww6v3aAArD6FwDobwJgAAAAAAAAgCIhAAYAAAAAAAAoEgJgAAAAAAAAgCIhAAYAAAAAAAAoEgJgAAAAAAAAgCIhAAYAAAAAAAAoEgJgAABgyLj00ksLXQJwqPFrByiAS/3yAQAGkAAYAAAAOHTdHSEwAABQVATAAADAkGIVMDDo7i50AcChyCpgAGCgDCt0AQAAAJ3uvlsKAwAUv7v95QkAMICsAAYAAAAAAAAoEgJgAAAAAAAAgCIhAAYAAAAAAAAoEgJgAAAAAAAAgCIhAAYAAAAAAAAoEr0OgF/btGkAywAONX6nAAAAAAAA9L9hvW34+uZX8/rmVweyFgAAgCTJpZdemrvvvrvQZQAADKhLc2nujv/mAQD6ly2gAQCAIUf4CwAcCoS/AMBAEAADAABD2qWXXlroEoBDkV89wCC7tON/AAAHSgAMAAAMaXfffbcQGBh8d0cIDAwqq4EBgP5ScvrESW2FLoKDR2lpac455+wkya9//VhaW1v36zr0l2eeerTQJQAAAAAAABTE6RMn7XbNCmD65Jxzzs71//Wvcv1//atMmvTu/b4OAAD7y2pgAAAAgD0TAAMAAAeVu++2PSIAAADAntgCmj4pLS3tWsn76KO/2Wmr575ch/5iC2gAAAAAAOBQ1dMW0AJgYMjqzRnSAmAAAAAAAOBQ5Qxg4KDiDGkAAAAAAIC+EQADAAAAAAAAFIlhhS4AYE9+/evHcuNNNydpP0MaAAAAAACAvRMAA0NWa2trVq9+tNBlAAAAAAAAHDRsAQ0AAAAAAABQJKwABoas0tLSnHPO2Unat4NubW0tcEUAAAAAAABD26AGwCUlJTnh+ONy2OFHdF3bvHlTXnvt9cEsAw5Sx+XU8yqz7bHVadh6aMx/zjln5/r/+ldJkhtvutl20AAAAAAAAPuwXwFwaWlJqqqqUlZWltradTnr9ybm5ZdfTtMLL+6138TfOzNz/8ufp3ZdXde1k0+ekP/8X/5yf8oACqY3YXChA2sAAAAAAIBDT58D4FNOmZDzp5+XVze/lsMPOyx//mefzquvvppbb/uf++x75MhReWT1o/k/31nYde3v/9f8fOubX8+3bvm7rF/f0NdygIJ4Oc8++PKAz/LrXz+WG2+6OUny6KO/GfD5AAAAAAAADnZ9CoAnVFfnPeeck5/9fHm+dfONSZLbb/9Btre8nVNOPTlPPvHbPhfQ1taWJ598KuPKywXA0GvH5dTzzsiYblc2/e6XefaVUamYdE6O3vjrPFH3RvuNYyfm3PFb8+Sj67Jtl37tfTrHq8y2323I0adVZng25PkHn8rGvc7fbXXvsRNz7mnH7Li9sTZNI6ozJsmYs89P+T7H61lra6ttnwEAAAAAAPqgTwHwG1vfyKijjswHLqhJW1tbSkpK8uhvfpPzpk3Na5sH7hzfipMmDNjYMFQ0rFvbh9a7rMAdeVLeefbEjH3lqWzcuDXlY4/NiLo3si3J2GOOSfPGumzLqFRMOiPDG36dh+ve2LlP+yApH78hTz74y2zrS+EjT8o7TxuRpsd+2bHV83E59Yyk4dE1GWELaAAAAAAAgEHVpwB4+/btOamqKq0tLfmXf1maktKS1Jw/PT/96X1Z39C4z/6NjY35+MdnZf7f3ZKW7duTJGvX1u6zX9+CMThU7LoKeGtGjEw21tVnU0Vlxo5cl4atx2Xs2K159bH2wPfoERvS2LkyeOsreXXbORl7bLLxlfb+Tc+s61v422VkRoxMsjVJXs6za9rrO1ClpaU555yzk7RvB93a2nrAYwIAAAAAABSzPgXAb7/9dv7+f/+fNDY25cgjj0xZaWk2v/Zar/uvb2jM5/7q+iz4f/8udXV1XdffM3lSHvzVyr6UAoe49vC3azVvx5bM7V7Oxo1nZNyxo9Kw9diM2bahY5vmkRmeY3Lyeefn5G4jbTrQUrauyxO/G5lzTzs/557WMWbX1tIH5pxzzs71//WvkiQ33nSz7aABAAAAAAD2oU8B8Ouvb8nrr29JkmzZsmW/J/3CdV/M6NFjul6//dabefGll/fcAdjZscdmTDbk+f8/e/ceV3WZ7/3/vTh6zrMCQZBlo5OpKJQUm7I0t6mJYAw7d3SYyRljD2TssWbfPu77d3vvne4xwjZTY83MjraNMYlY1kxZNjIUKSSZNtV4AsEFHjA8I4fF9/fHAuTMAtYBlq/n48Hjlu/3+l7XZ31187ibN9fnatzN28r3Z87oxutHK2BgY/vnRj07i7dLFd/qi8bAd/Qkzbx5kkZW2CEBBgAAAAAAAAAAQLd0KwC2l/PnL+j8ecedGQy4vcuXdUWjrrZdHj1aw6WrQW9Fhc7efIv8Bp7R0c8bQuKKEpVfP13+QYP1fUNwPDDIegZwr87oHT1Jtw4q0ddNraUv60pVYy3NW0N335dffqXn162XJO3bt78XRQIAAAAAAAAAAFwbXBIAA+ily8d0xDxKP5x6l/wk6fszrVo5W9tAD1dFs92+l2Te93cNnDVdMwMaLlWV6m8l6p2KCl1pPqcuq/yrQlVJMpsD9cOb79LMm3u287i+vp62zwAAAAAAAAAAAN1gmjhpmuHqIgDY22AFTJuugcftcxZvX3bw232uLgEAAAAAAAAAAMAlJk6a1uYaO4ABt3RJ5n2furoIAAAAAAAAAAAAOJmHqwsAAAAAAAAAAAAAANgHATAAAAAAAAAAAAAAuAkCYAAAAAAAAAAAAABwEwTAAAAAAAAAAAAAAOAmCIABAAAAAAAAAAAAwE0QAAMAAAAAAAAAAACAm/CyZdCAgYM0fPRoeXp4OrQYS71FZysqdKXqMrV0sxagt/j3DAAAAAAAAAAA0P/ZtAPYGaGQJHl6eGr46NHU0oNagN7i3zMAAAAAAAAAAED/Z1MA7IxQyNa1qAVwDP49AwAAAAAAAAAA9H+cAQwAAAAAAAAAAAAAbsKmM4B7Y9zY0Ro9epQOHjyi2ro6Ry8HwAlCgoM0aNDAFtdqa+p08PARF1UEAAAAAAAAAAAAycEB8KRbbtaTj/+zTCaTSkvNevHXr6q+vt6RS2ru7Cjl5X+hixcvOXQd4Fq2aP79CgkOanHt3PkL+t//7z9dVBEAAAAAAAAAAAAkBwfAU6f8UCaTSZIUGBig0aNG6tTpCkcuqRmh0xQeFqqNv3tDpyvOOHStnvD28lJg4PXy8DBJhiHDkAxJhmENxo16Q8fLylXHbmn0AQH+frox5IY214cNG9rmmo+PtyLvvKPNdbO5XEeLjzmkPgAAAAAAAAAAALTk0AC4qLhEd4TPkCRVnj2nyrNnHbmcPDw8NHrUSHl6eig58Sd69Xdv6lhpqUPX7I4xo0frJ489rLFjRnc67utvvtNvX3/TSVUBHZt484168IF5No0dOGCAYh58oM31nE8/JwAGAAAAAAAAAABwEocGwPl7v9TFy5c0dsxoFX65X7W1jt3VOnLEcHl6ekiSBg8arMSfPa6MTZn6+pvvHLquLW65eYIe/ecfaeCAATrzfaW+r6yUyTBJHiaZTJJJ0pAhQzR2zGh5eHi4ulxAklRUVKI/fbizV3P0pV/CAAAAAAAAAAAAcHe9CoBNJpP+ce5sBd8QqL1f7teegsIW9w3D0N+++bv+pr/3qkhbjRndcmett5eXnkj4J23Jfk+f7c53Sg2tmUwm3TUrXEsefEAmk0lfHfib3szcqpqamjZj74m6Uw8+ME9lZeUuqBRoq7ikVMUlpZo65YfttoLuTPmJk9qdv9dBlQEAAAAAAAAAAKA9vQqAZ06fqrn33i1JmnjTBJWWmlV24qQ96uqRsWNGtblmMpm0dMlCjRg+TO9/uFOGYTitHk9PD8UsWqCIWWGSpA8++os+/PgvMgxDnp6emnTLzSo5Xqbz589Lsp63KknHy084rUbAFjdNCFFkxO3deubA374lAAYAAAAAAAAAAHCyXgXAQ4YObvH94MGDOxjZUtRdsxQ+c7qOHTuurdv/pLo6+7SGHtPJ2br3zY7S8OHDtfntbFksFrus15nBgwfpsWU/0k0TQlRbV6c3N2/RvgN/a7o/Z/Y/aN6c2TrzfaX+37oXZRiGAvzGS5LMZgJg9E07d+Xq2LHjnY4ZM2aUFs6f66SKAAAAAAAAAAAA0FyvAuD8L77UjGm36foAf+078DcdPlrU4r6np4fGjR2j778/qyvV1ZKkAP/xil40v+HPfjpeXq683QW9KaPJmNFtdwA3NzN0qoYNG6Lfv7FZV65U22XN9owbN1ZPPrZMo0aOUOXZc/rd62/qeKu2ztUNLaAbW0F7e3tp/LixqqmpUcWZMw6rDeiN0lKz9v/tm07HBAcFOqkaAAAAAAAAAAAAtNarAPjSpctav+EVeXt7qba25S5eLy8v/cvPHtcNgYG6eOmyNvz6VZ2uOCMfH58W43x9W37fG2NHd7wDuNHEmybo5z/7iTb+LkPnzl+w29qNJv9goh55+CEN8PVVUXGJfv8/m3XhwsU243b9NU9Hjh7TyVOnZBiGxo8bK5PJpLITJ53aphroibjYB+U3fpx+/8ZbOn/+vJKfelJVV6q08Xf/4+rSAAAAAAAAAAAArmke9pikdfgrScHBgboh0LoTcMjgQZoZOlWSVHysVJ/tzldtXZ0OHTmqz/d8YY8S5O3lpREjrrNprL/fOD39Lz/V+HFj7bJ2o9t+OFk/eWyZBvj6ak9BoX796n+3G/5KkmEYKik9rupq6w7gG4NvkCSV0f4Z/cD4sWMVHBQoby9PSdINQdfren9/F1cFAAAAAAAAAACAHu8AHjVyhEJuCNLho0U6e+58m/tnKr5XXV2dvLysS5SVn5RkDT7f3rpdW7Lfs+tO167aP7c2/LphSn7qSf02400dPlLU9QO21DBmlEwmky5duqx33vvAprONTSaT7rwjTIsX/qMk6eDhI3apBQAAAAAAAAAAAMC1p0c7gMeMHq1nn/kXLYuP1apn/kXDrxvWZkzl2XP69av/rdy8PdqUuUX7v255bqi92xyPGdN1++fWBgzw1c9+nKDQqVPsUsOu3DwdLSrW4MGDlPBwnDw8On+9np6eWhq9ULHRCyVJW999X1993fn5qgAAAAAAAAAAAADQkR4FwD+YOEHe3t6SpIEDBuimG0PaHVdUXKKsbe/pi71fOfxc254EwJI1hH3k4Yd0T9SdMplMvarBYrHo929sVmXlWd0ycYIWL/jHDscOGTxIK558VBF3hOnKlWr95ndv6K+f7ub8XwAAAAAAAAAAAAA91qMA+NCRIlksFklSTU2NjhaX2LWonqioOKOLly73+PkHH5inRfPv73UdFy9d1muvb1JNTY3+4a47NCt8Zpsx/n7j9MzPf6YJIcE6XVGh1P/6jf5+8HCv1wac5dLlyzp//rzqjXpJ0rnzF3Th4iUXVwUAAAAAAAAAAIAenQF84uQp/SrtZd144w06dOiovq+sbHecyWTS6FGjdPbsWdXacB5ub+zb/7X+9s13uiN8hmZH3aURI4bb/GxRcYm+KPxK+/b/zS61lJWf1P+8tUVPPPJPWrpkoU5XVOjw0WJJ0pRbJ+mffxQrHx8f/f3gEWW8manLVVV2WRdwlt++/maL7//Pv//KRZUAAAAAAAAAAACguR4FwJI1BD5x8lSH9z09PfXUk4/qxpBgnT9/QRtefk1nvm8/KLaX2ro65ebtUd6eAk2fNkVz7v4HjRs3tt2xp05X6IvCr7T3y68cUteBr7/Vn3bs1Py59+qxf45X6n/9RjNCp2r+3HslSX/9dLe2vfdn1dfX231twO4aWpOPHjNawUGBnQ4dP77h/+boZg4AAAAAAAAAAOB0PQ6AuxISEqQbQ4IlScOGDVXYjGn64KO/OGq5FiyWen2x9yvtLdyvWyf/QPfNjtQNgYG6cOGiCr86oC8K9+m4udzh5+1+tDNH/uPHadptt2rVykT5+Piovr5eb2/drs/zv3Do2oA9HS8rlyQtmHefzc+UlpU5qhwAAAAAAAAAAAB0wGEB8JkzlbJYLPL09JQknTx12lFLdcgwDB3427f6+pvvNG7MaJ2qOOPUHbeGYegPf8zW6NGjdL2/ny5duqz//p/NTe2ggf4i/4sv5evro5tCQmTyMHU+2JBKj5u1M+dT5xQHAAAAAAAAAACAJg4LgCsrz+o3v31DM6bfpmMlx+12vm5PGIahEy4IoCWppqZGG3/3hu4IC1XhvgMOb4MNOIJhGPrrp7v11093u7oUAAAAAAAAAAAAdMJhAbAkHTpyVIeOHHXkEv3ChQsX9dEnf3V1GQAAAAAAAAAAAADcnIerCwAAAAAAAAAAAAAA2IdNAbCl3uLoOmxei1oAx+DfMwAAAAAAAAAAQP9nUwB8tqLCKYGNpd6isxUV1NKDWoDe4t8zAAAAAAAAAABA/2eaOGma4eoiAKCnDn67z9UlAAAAAAAAAAAAuMTESdPaXOMMYAAAAAAAAAAAAABwEwTAAAAAAAAAAAAAAOAmCIABAAAAAAAAAAAAwE0QAAMAAAAAAAAAAACAmyAABgAAAAAAAAAAAAA3QQAMAAAAAAAAAAAAAG6CABgAAAAAAAAAAAAA3AQBMAAAAAAAAAAAAAC4CQJgAAAAAAAAAAAAAHATBMAAAAAAAAAAAAAA4Ca8bBl08Nt9Di6jlX/5s3PXA+BwnjUXNP6bbA2u+NbVpQAAAAAAAAAAALgtmwJgpzMMV1cAwM4s3kN0YlK0JuQSAAMAAAAAAAAAADhK3wyARQAMuCOLz2BXlwAAAAAAAAAAAODW+mYAzA5gAAAAAAAAAAAAAOg2AmAAAAAAAAAAAAAAcBN9MwCmBTQAAAAAAAAAAAAAdFvfDIDZAQwAAAAAAAAAAAAA3dY3A2B2AAMAAAAAAAAAAABAt/XNAJgdwAAAAAAAAAAAAADQbQTAAAAAAAAAAAAAAOAm+mYA3M0W0MN8PXTfhKGaOMpXXh4eKqqs1kdHLujUpToH1Wc/jz4yR2m3nlTyL/brdRufCZ8XoR2zB0vq3nPO9Ogjc/TzU58r9IOL3XqmvXfx6CNzlKb9mntqgnaMPaLhb5y0e72wzV03DNbCH1wnkyEZJskwDBmG9NGRC/rkqO1/1wAAAAAAAAAAAHCMvhkA27gD2MNk0tJbh+up20dr/4krOnCqSrWWOs3wH6ifhY/WWwcq9doXZ1RdV+/ggnvu9Ywd3Qtw/SboN7MNvZy6Q78sd1BR9mIY3drN3e67mD5Vadqv4RknJJ3Q3HkRKrz/YreC5R6ZPlVn77uoub86ovz+MK+DmUxSwrSRSooYo11HL+l8bZ08TCZ5yKRZQYN1ubZenxy54OoyAQAAAAAAAAAArnl9MwC2YQfwYB9PbZh/veplKCGrWDePGqBl00ZqgKdJ7353TutyTypp1hhlxgXrqe0lMp+vdULdznJJB8v7Q5tsQ93dzd3SEP3HfYP18qarSXf+B0d05FcT9OgH+5y089lR77k//P1Z+Xp5aPU943X/TcP0vz4u0/t/P69Rg7xUWVWnekP60yM36bvTVepPnwkAAAAAAAAAAMBd9c0AuItdowO9PfTrhdfr+Lla/e+PzQq7foh+NS+g6f6/jhmgWku9/u0js34yc7ReW3yDHt1S1CdbQj/66Dz9/OSnCv3zRUlD9B+/uEs3f/SpDs25SyvGStJFvfzCp/pluRT+j3dpx71DJElpv7pfaV9/peGvW8PR5veaP3N1zq+kh6dqjk4qOeXLTsPTRx+dp7RbG745dVjJB8YrbdyRprXariepWS1XtdwB3NW8Ld+FpOk3acWpIxpe1vzfQ7l+tXOCfjNvsF7/c8e7gDuvz09vr5+gQ03vSJLfTSp8ZqheSvlSaqpznHb8akLTs431/VTTrs596rDm/ufhht28PZu3Lxs9yEupDwQqYJi3Hs8q1oGTVRri46Edj96kVwsq9IevzihgmLf+frqas7sBAAAAAAAAAAD6gH4XAJtM0ov/eL2Kvq/Wmk/KVW8YmnfzsDbj5k+8Tpn7v9er+adVU1evV6OD9XDmEV2q6WPtoBs3yTb7zHMenqZDL/xZw8ukRx/9R6X9803atu6Q8v+Uq+H7blbhM0P00jNXQ9zwf4zUjiknNPeZQ9YgMnS6zj4zTQebjZkwZ5w+eOHPWlrWeTmPPvqPSht7uOVcDw+RDlwNc8P/MVI77r2o5GdyG+Yfqv9YdZfOJhhXA81Wn8uWeVs/Ez5usI6euNDm30P+iYu68bYhktF+y+Gu62ucz2i1adVay+v//We9HjpdZ+dc1Nx1h662ajakG++9S7/5+FMNf+ZC07w7Ei72bt4+6gdjBmrDgkB9X2XRP711RCcvWn+B4lKNRS98ekK7Sy7pllG+MgzpUEUVATAAAAAAAAAAAEAf4OHqAtpndPhlGIa+OnFZt4weoGEDTJIMXa6ztJnhcl29JEM+ntJUv0H67nSVqmrrO53bNV+tP6909OMv9csy6/ev7ziko2OHaHKHz4zXv94nvfw/B5XfeK3wkF4+NV4PhDYbv/9Q05wdf43XA1MutpqrUMkH2lnvhUK93nTtvH75P4d0dMp4PdpBjV3P2/ZdTB43REdOnm9b54kLOjpusMI7+Azdr6+9ax3cP/ClQv98vtW8N+k//Hszb9/7GjHQQxlLQ/RdRZUe23JEJy/WNt0zDEN/2HdGRZVXdP/E61R8tlpVtZZuzA8AAAAAAAAAAABH6Xc7gCXpN3tOapC3Sb9bEqLl2UV6a1+FFk8aocE+1jy73pD+u+C0BnqZ9OIDN+iKpV7/68NS1df31fDJaPjM1vqOnDjfMivUEE30M6QyNbve8IdQP83REM15Zr5WtJr1I8NoGtdizo74D9EEXdT75pYDvzl5URrXsGaon+a0M0bmizoiv6t1Nv9ctszb5l0M1cRxF3Wo3Ghbt/mijoz102TDaLuLtjv1GUar99ysltbfNzh6stWOZPNFHWkzV/fn7WvOVdVpr/miAq/zkaeHSTJa7pwf4GXSmrmBigweqn/9c0mf/zwAAAAAAAAAAADXir4ZAHeRVBqGlPppuc5fseit+Jv0mz2nFP/WIT04aYR8vDz0wd8rNWawj95++Gbll17Uupwy1dX3sdbPLbS3W7S9Ma3HN/65XMkr93Zwrm9nc7Yyfohu7HCXZlc1tne9YbxN87b+/rwOnhyiB8Y3D5Qb+A/RhFMX9E2n76mz+job0ya5taFee8zbt9Qb0qo/l+jNH92kdfcH6ufbi9T4+xPjh3prw8JgXefrqUf+eFgHK664tlgAAAAAAAAAAAA06ZstoBt3rnbyZdQbei3/pH66tUjzbr5Ob8XfrGn+gzRhpK9eib5RP7tjrP6/j0v1fz8uVXWtxaY5XfLV5vNKTbtgm8Z08kz5BR1t3CHc4TrtzNneVwdzTR435OrzHa3nN0QTdEEHzbbX2GLe9t6FpAnjhrStc/wQ3XjyvPK78Rna1tfOnM3Xb+/foaQbW9cT6qc5vZ23j35duFKnn79TpOkBg5V0p59kGJrmN1Cbf3SzLtdYFL/5oA6erur+3AAAAAAAAAAAAHCYfhsAN34drrisH285rCVvfKfXvzilLQcq9M+bD+qhTX9XQckFl4doNodhhqGWLYSNDq61+t78nV46MFQr/nWmHm0aM1T/8fgtCu9wzg6+zGX64ORQrXik8VlDCp2ptCnN5uhovUcmSh/9Xa+397lsmbfNuzD0+r5y3Th+aJs6w8cN0dETHfzd2lTfBR06OVQr5vk33PfX28v82r7ncUM1ufXf1ZQZejvUaPHc0d7O24e/ir+/on99r0iPhI7W/3dfoH4bc5N2HT2nJ7OOqPJyXe/+zQMAAAAAAAAAAMDu+mUL6PaUn69W+flqB9TiDEazL0kdthhub6z0+u/ekZ54UGlpi5TWcO3oR3/RL7tsK93aOf3y+b9Iz92jHWkTrZcOfKG5Hw3RjvFX53r9d+/omwdma0er9ULfP9/B57Jt3pbPSNpr1kf/fIv+w/+4ftnUBjpA/zrngl5KPtfhp+i6vnP65fNf6Oa0mTqbNkNSmZL/8++a8Iuhzdb+Ti/Pvcf6Tg98oeG/MzfM84UOzV2ks/+sps8x/P1zvZ63L8s7dl6pfy3Tyn8I0K9yjmvzvtPkuAAAAAAAAAAAAH2UaeKkaV1GOQe/3eeEUpp59A3nrodOPfrEYv38xCftBLxOmHdGuM5OMzcFpeEP3KvfqMDutdjCUe+hvxjq66kL1ZZezzNxT6odqrnK6T+fAAAAAAAAAAAA+oiJk6a1ueY2O4Bhq+v19oYwzWnnzkdvZGvp3lYXZ9yutNvKlPy7jnfc9oit8+7do+Rp0Tr7hDT3xA+0Y/x3Gm7vWrql9Y7la8eF6jpXlwAAAAAAAAAAAIAu9M0AmP6yDlSqpT8v7fDuoz9eorTbml8xK/nne/R6L1ftzbyv/3Zrw7hSDe9lHb3HObYAAAAAAAAAAADou/pmC+hH/tu56wFwmokFG+w6Hy2gAQAAAAAAAADAtYoW0AAAAAAAAAAAAADgxvpmAEyLXQAAAAAAAAAAAADotr4ZALMDGAAAAAAAAAAAAAC6rW8GwOwABtySZ91lV5cAAAAAAAAAAADg1giAATiFZ91ljT+2y9VlAAAAAAAAAAAAuDWbAuCJk6Y5uIxWCl927noAAAAAAAAAAAAA4AY8XF0AAAAAAAAAAAAAAMA+CIABAAAAAAAAAAAAwE0QAAMAAAAAAAAAAACAm7DpDOCD3+5zcBkt3TMv2qnrAXA8S71FZysqdKXqsqtLAQAAAAAAAAAAcFvsAAbgFJ4enho+erSrywAAAAAAAAAAAHBrBMAAnMbTw9PVJQAAAAAAAAAAALg1AmAAAAAAAAAAAAAAcBMEwAAAAAAAAAAAAADgJgiAAQAAAAAAAAAAAMBNEAADAAAAAAAAAAAAgJsgAAYAAAAAAAAAAAAAN0EADAAAAAAAAAAAAABuggAYAAAAAAAAAAAAANyEl6sLsIdBAwdq6pTJ8vcbL08PT508fVr79n+tc+cv2H2tqJQMJYc1fFO2XSuf3qIie8ypjYpen9fb8tAPWf9NFSotboNyXF1MFybdMlFhM6fJJJMMGZJhyDCkfQe+1oGvv3V1eQAAAAAAAAAAANe8fr0D2GQy6a5Z4fpfq57WlB9O1sVLl3Xm7FlNCAnWsyk/1/x598nb234Zd0j82oagLkHRcQlKMy9UakqE3ebvtcgkZb8YqxBX13Gt6Mn7bueZnPUJiu7j4a/JZNLsqLv05OPL5O3ppZqaGtXV1aneYmjiTTdq0i03u7pEAAAAAAAAAAAAqB/vAPYdMEA/eeSfVK96bXj5VfmNH6+7IyPk7e2l/C++1NZ3/6QF8+coJekpvfr7N3Tm+8perhikO8P9lJ/+bFNQl7Nlu5auC1OU8vp0eAf0hre3lx6KeVDTb7tVb2Zm6YvCrzR06BBdvHhJhmFo9bMrdbys3NVlAgAAAAAAAAAAQP00APbx8dHyx5fpzPeV2vzHbN08IUSPLotruh+9yE8Wi0VvvpWlObOjtOLJx/TSy685pCW0/QVp2YtrFLh1tUqXrFGMvySVK2vVs9pU3DAkMknZiaEN31jvlcY2tqYOVWrmQqmgoaV0cKzS1y1UQOP0LdpW27CWrDufUxf7NX2fn56g53Pbu9f22RbaqbtxbFfztG69nZY/U8kB7za1zY5KydBS80btDl/e8Dka6ixt/vnbtlnueN3O383Vemx/3x09Y619tRI3l3T4zpvmV9e12dOwoUP0+CP/pJEjR+i/Xvm9jpWWasAAX/2fX/6rduzcpb9++rlGjRyhMvMJ+y4MAAAAAAAAAACAHul3LaBNJpOeeCReJ09V6A+ZW1VfX6/pU6e0GTdj+lQZhqEdO3fps8/zteLJxzXA17cXK5do09ZChScmKarhSlTsQgUUFDhk92944gppQ0Or6QI/xSQ1tA0OjlV6op+yVlnvRad/IamhjXB6oTVwjEtoCgtDZgVod+PYuNXKUtu21R2upcYgsryp7XX0qu0qbX4v/AvrenEJik4vV8y6q++nhQ7qtmWeqJQMJQdsv3p/a4CSm4ejDQIWL2r6HCu3lSs8MUPZSdILjZ+9LFTJzT67LfV39G568r47eqa1Nu88brWyApYruxt/b/Zwvb+fnv6Xn8rT01OpL72iY6XWv/nq6hq98/6f9dX+rxXgP16GYajsxEk7rgwAAAAAAAAAAICe6ncBsGEYKjpWouv9xmvQoIGSpOqamjbjGq95eXkpODhQ5rKydsd1S+4Grdzmp+TMDGVnZihZGzsM8XrLvO3lpt2cOVu2y+wfoKCmu+UqLW6saUunuz6LNm9odt8aYivAv0VQ2PFaEfrRYj/lpzfbNVu8RZtyG+9JWRsadxNLys1WVlmoIiI7qqa9uruaJ0IRYeWt7m9QWkE70xe82/Q5ija/q3xJ+Vsbn2v92W2rv/O/h7Zsed+da6hrVfOdyiXatGG7zGFhLcLp7tbWHUMGD1LSUz+RuaxcL73yW509d77pnmEY+uunu3XydIWmT5uiU6fPqKa3/7cFAAAAAAAAAAAAu+iXLaA//HiXfH18lbj8cb3y2uv6NG+Pbg8LbdrhaxiGdv4lVz4+PnrikXjV1NbqzcwsGYbRi1WtbXdjzBsVHdew2zN+rbIzw9q0FbaK0HOZyxXe9H3b9sOdMR8vaXXFT4HBkorztbtsjZIzMxTRrBVzZ9q0Ey4z27ZWYJjCVai09taIDFO4/BS+LkMxrW7lt1dER3V3NU+wvwJUrrzilvdKzOW62me54XOYj7eaoVylpWqfjfV3/PfQwbzq+n13KjJM4e18XhWXyayZLdbuSW22unS5SoePFmv0qJHy8PSUamtb3Pf29tbDcUs0+QcT9fqbmb1fEAAAAAAAAAAAAHbRLwNgwzD07p8+VFVVlVKSfqYPPt6l1JdeUfiM6fLy9lbhvv26btgw/eLpp3ToyFFtfed9WSz1vVs0Mlox/oVKe/rqjt+izS8rK3yNlsYHKWdz6zAuT8/HOWJ3cIk2PZ2gTcGxSl+XoezEzoLlhhC6bLtWxjXsdI1MUvYSe9XSnVC7s7o7mScyoHXOa0fdC+W75uj37TyGYeiNN/+olT9froT4pXrt9U1Nv0AxYvh1euLRhzV44ECl/fpVlZXT/hkAAAAAAAAAAKCv6HctoBsZhqEdn+Told++odDbpuiZn69QSMgNGj9urH764wTNmzNbb2VtU+aWd1RbW+fqcu2veIsSG861XRrfQePfYH8FqFBpT19tcxxyfduzcztUapa5cVdpd+51pnXdXc3Twf2ggG58jm7M2yu9fd+d1dWwE7qphbYTVF25otf++03dGHKDFs6fK0kKCQ7SMz//mWqqq/XCS68Q/gIAAAAAAAAAAPQx/TYAblR+4qTSX/291qa+pE9yPlXengKlpb+qX6X9WocPF3U9ga1yC5SvUCWnRDRdColfoRj/cu3+vPXuXweKTNJzrc7YbdEKuM05sM3CxOBYPbO4G4Fk8Ra9XeCnmHVJV8+eDY7VssgO7ilIy1Ji2z/vtqO6u5qnOF+7y/wUk9Rs3sgkJYfZ/jFs/myd1d+Rnrzvzs7q7aiupIXStmw77la2zanTFXp901u65x/uVPzSaCUuf1wHvvlOv371dV28dNnJ1QAAAAAAAAAAAKAr/bIFdHsqK8+psvKcA1fI0/Nx0nOZy5WdubzhWrmyVj2rTcUOXLa1UrMC1mUoO9H6rXnbaiU2nqebm62sJdZzdpMLNip6/Ra9sG2mUhvPuS3brpXphUrtRkvinPUJUkqGdU5J1s+8pYN71no2dbPuzucp0aanV0svrlFq5kLrzYKNWrnNT6m97A3drfrb05P33eaZtm3Cc9YnqCR+rVJb1ZXYps24c3x38LDeee8DPbhgnrK3/0m5n+3p5XnaAAAAAAAAAAAAcBTTxEnTukxyDn67zwmlXHXPvGinrof+JyolQ0vNrgtFr0UDBwxQ1ZUrvZ7HfMyOO/Pl/J9PAAAAAAAAAAAAfcXESdPaXOv3LaBxDYpMUnJYod4m/HUqe4S/AAAAAAAAAAAAcCy3aQEN9xWVktHqzN9CpcVtcPp5uAAAAAAAAAAAAEBfRwCMPi9nfQJhLwAAAAAAAAAAAGADWkADAAAAAAAAAAAAgJsgAAYAAAAAAAAAAAAAN0EADAAAAAAAAAAAAABuggAYgNNY6i2uLgEAAAAAAAAAAMCtEQADcApLvUVnKypcXQYAAAAAAAAAAIBb87Jl0MRJ0xxcRkvmY0VOXQ8AAAAAAAAAAAAA3AE7gAEAAAAAAAAAAADATRAAAwAAAAAAAAAAAICbIAAGAAAAAAAAAAAAADdh0xnAB7/d5+AyWrpnXrRT1wPgeJZ6i85WVOhK1WVXlwIAAAAAAAAAAOC22AEMwCk8PTw1fPRoV5cBAAAAAAAAAADg1giAATiNp4enq0sAAAAAAAAAAABwawTAAAAAAAAAAAAAAOAmCIABAAAAAAAAAAAAwE0QAAMAAAAAAAAAAACAmyAABgAAAAAAAAAAAAA3QQAMAAAAAAAAAAAAAG6CABgAAAAAAAAAAAAA3ISXqwsA0PfMmH6bou6aJU9P235EWCx12pX7uQr37XdwZQAAAAAAAAAAAOiMWwTAgwYO1NQpk+XvN16eHp46efq09u3/WufOX+j+ZJFJyk4MbfdWfnqCns/teZ1RKRlKDmt/Tuu9QqXFbVBOw9il5tVK3FzS9Gzz71sK0rIX1yhwa+/r63iNviUkfq1SA95V9Po8V5filhbMm6usd97ToSNHbRo/ISRYS6MXEQADAAAAAAAAAAC4WL8OgE0mk+68I0zz779PxcdKdaz0uOosFk0ICda8ubOVm7dHH+3cpdraOtsnzd2g6NYhamSSspeY9VYvwtVG5m3tB6w56xOU0/vpAbvw8fHWkaPFqq6u0YgRw3Xr5B+o8MsDunT5UrvjjxQVy8fH28lVAgAAAAAAAAAAoLV+ewaw74ABeuonj+m2KZO14eVXlb/3S0265WaFTr1VR4qKte6FdI0cMVwpSU9p1MgRvVgpSMuWhCp/6xYV2a16oP+IefABxTz4gObMjnR1KQAAAAAAAAAAAOhCv9wB7OPjo+WPL9OZ7yu1+Y/ZunlCiB5dFtd0P3qRnywWi958K0tzZkdpxZOP6aWXX+thS+hoxWi7Vtph929n7NN+2doKOsZfksqVtepZbSq+ejckfq1SF/tdvVCwscsWyi2faTVni3bZbddrEhyr9HULFdD4fdl2rXy6MVBvbF+9WqVLOq69Rfvssu1Ky++s6sY5N0qJyxWuq621O/s81r+DjdodvryhjoYW3aXN6786V/vvSC3ea1RKhpLV8j2HxK9VavgXTe+g03fcmq3v3I6+/uY7jRs7Rt8dPOzYhQAAAAAAAAAAANBr/S4ANplMeuKReJ08VaE/Zr0jwzA0feqUNuNmTJ+qTz/P146du1RXV6cVTz6uF//rN7pSXd2t9aJuD5U5P7tf7P4NT1yh0lUJii5uCB6TYvVZi5CxXGlxzzaEl9aQNDtFHYbATUFlXENYG5mk7HVJKo3boJzgWKUn+ilrVYI1gIyM1bIO6gqZFaDdjeMa1k1NKWuxbme1R6VkKDlge8s6Ev2kgs7fR8CSMO1elaDni234PI3PLF4kNdQREr9WqYkZyi7brpVxCSpqqD05JUI5DbV39V5z9hQqeYm/QqSmwPvOcL+mHeW21NSkG+/cnnbn79Xu/L3t3vPy8lJdXTdarAMAAAAAAAAAAMCh+l0LaMMwVHSsRNf7jdegQQMlSdU1NW3GNV7z8vJScHCgzGVl7Y7rVHCsloYV6u1e7cptKWDxGmVnZjR8JSnKbjNL5m0vN+0GzdmyXWb/AAVJkiL0o8VS1qrmoWKJNm3YLnNYWAc1NDyzoVnr69xsZZWFKqKpE3C5Sosb723pcCdq0eYNze6VaNPWQinAGoraUntEWHmrOjYorYvwV5KUn91sXVs+j6SCd5ueKdr8rvKlZu2/W9duw3vNLVC+/0zdGdxwOzhcd/gXKi+3GzW1YNs7d4b77o7UujWrFXF7WNeDAQAAAAAAAAAA4BT9bgewJH348S75+vgqcfnjeuW11/Vp3h7dHhaqAb6+kqwh8c6/5MrHx0dPPBKvmtpavZmZJcMwurVOyKyZCih4t+1OzBYi9FzmcoU3fd+2RXBz5m29bfPcMfPx1vP6KTBYUmCYwlWuvOJWt4vLZNZM65jW9yLDFC4/ha/LUEyrW/mSVJyv3WVrlJyZoYj0BD3fRYvsNm2Sy8y21S5/BbRTe4m5XFd7SrevxZxdfZ7GZ8zHW90tV2lpBwtE2vJe85RXsFxLZwVpU3FJy39TNtZ0dd7uvXN7G37dMJ09d16SNCt8phbMnytJeihmUS/P2QYAAAAAAAAAAIC99MsA2DAMvfunD1VVVaWUpJ/pg493KfWlVxQ+Y7q8vL1VuG+/rhs2TL94+ikdOnJUW995XxZLfTdXaWzV2/kZuVKeno/rakx/1VmYXaJNTydoU3Cs0tdlKDuxo7ENAXlZqxbOS2wsITCgq5y3GzoP5x3F2gY6XCGb1c6/qe7UZOs7t7877wjX0iULtSs3T8ePl+mhmEUt7t97T6SuXLnihEoAAAAAAAAAAADQmX7XArqRYRja8UmOXvntGwq9bYqe+fkKhYTcoPHjxuqnP07QvDmz9VbWNmVueUe1tT04o7RFq95+rtQsc9OO2maCrbtrm1oK2/JMa8VblBi3WllloVoaH9T2frC/AlSotKevtjkOud6v7bhu1h4U0I05OpmnV2x9r41toCNb/ZvqaU1dvXM7mzl9qmKjF0iS7o6M0LL4WJlMpnZGtncNAAAAAAAAAAAAztRvA+BG5SdOKv3V32tt6kv6JOdT5e0pUFr6q/pV2q91+HBR1xN0IGTWTAWUmeWYZs1OVrxFbxf4KWZd8zOHg7QsaaG0Lbv9HaQdPZMSaz3/NjJJz7U6p7ZtG+dGzULO4Fg9s7gb4W1jHUmxV88MjkxScnePne3q8/SEze81T3kFfrpjycyW17tbU4fvPEjLXsxQemMYHByr9My1WhZs/TYkfq2yX+ze56ypqVVIcJCmTfmhHo5b0kHg21JtXQ9+0QIAAAAAAAAAAAB21S9bQLensvKcKivP2W2+oAA/mfPz1fMIuW/JWZ+gkvi1Ss3MUHLDta7OI85ZnyClZCi51TObJKnUrIB1GcpObDZXe7uli7fohW0zldp4zm3Zdq1ML1SqrS2gJeWsX63AF9coNXOh9ULBRq3c5qfUbvaG7vTz9JCt7zVnT6GSE/2U9XlJm+dtrsnWd24H732wQ/Pvv1dDhgzWuQsXJFl33cuQDBmyHqdtyDCsf7ZY6rQz5zPHFAMAAAAAAAAAAACbmSZOmmZ0Nejgt/ucUMpV98yLdup6AJzHfMy+v1bh7J9PAAAAAAAAAAAAfcXESdPaXOv3LaABAAAAAAAAAAAAAFYEwAAAAAAAAAAAAADgJgiAAQAAAAAAAAAAAMBNEAADAAAAAAAAAAAAgJsgAAYAAAAAAAAAAAAAN0EADAAAAAAAAAAAAABuggAYgNNY6i2uLgEAAAAAAAAAAMCtEQADcApLvUVnKypcXQYAAAAAAAAAAIBb87Jl0MRJ0xxcRkvmY0VOXQ8AAAAAAAAAAAAA3AE7gAEAAAAAAAAAAADATRAAAwAAAAAAAAAAAICbIAAGAAAAAAAAAAAAADdh0xnAJcUHHV1HC7Oi7nfqegAcz1Jv0dmKCl2puuzqUgAAAAAAAAAAANwWO4ABOIWnh6eGjx7t6jIAAAAAAAAAAADcGgEwAKfx9PB0dQkAAAAAAAAAAABujQAYAAAAAAAAAAAAANwEATAAAAAAAAAAAAAAuAkCYAAAAAAAAAAAAABwEwTAAAAAAAAAAAAAAOAmCIABAAAAAAAAAAAAwE0QAAMAAAAAAAAAAACAm/BydQEA+p4Z029T1F2z5Olp248Ii6VOu3I/V+G+/Q6uDAAAAAAAAAAAAJ1xiwB40MCBmjplsvz9xsvTw1MnT5/Wvv1f69z5Cz2YLUjLXlyjGP+Gb8u2a+XTW1RkhzpD4tcqdbFfsyuFSovboBw7zN2RqJQMLTWvVuLmkk7HJIc5tpaQ+LVKDXhX0evzuqij2YWCjZ2O74t6+y77yjtYMG+ust55T4eOHLVp/ISQYC2NXkQADAAAAAAAAAAA4GL9OgA2mUy6844wzb//PhUfK9Wx0uOqs1g0ISRY8+bOVm7eHn20c5dqa+tsnNEa/t6Rv1rRnQSm3dcYKhcqLe7Zq8FgZJKei5Rycu24VA/krE9waAjdtYb3Y96o6LirYWdUfKxCJLuE7w4RmaTsJeYWvyDQ83fZt96Bj4+3jhwtVnV1jUaMGK5bJ/9AhV8e0KXLl9odf6SoWD4+3k6uEgAAAAAAAAAAAK312wDYd8AA/eSRf1K96rXh5VflN3687o6MkLe3l/K/+FJb3/2TFsyfo5Skp/Tq79/Qme8ru5wzJH6FNYCza/jbMK+2a2Vcq53EuRv0vF1X6qeCw3WHf7myNrTc6ZqzeYuLCnKBPvwOYh58QLdO/oFGjRiube994OpyAAAAAAAAAAAA0Il+GQD7+Pho+ePLdOb7Sm3+Y7ZunhCiR5fFNd2PXuQni8WiN9/K0pzZUVrx5GN66eXXumgJHaQ7w/2Uv9Xe7XYj9KPFfspP77qNdJsW0a3a/1rbOW/U7vDlTS2q89MT9HxprNLXLVSApI7aSreYu1Vb65Ztoq07UQO3rlbpksZW2OXKWvWsNhV3VGvb+y1aGZdtV1p+Jx+8uExm+SkwUFJxx8M6W7NH7ya4+b3W76Xz93D184UqNXNh099Vey23W/+95qcn6PnWu77t8A4c5etvvtO4sWP03cHDjl0IAAAAAAAAAAAAvebh6gK6y2Qy6YlH4nXyVIX+kLlV9fX1mj51SptxM6ZPlWEY2rFzlz77PF8rnnxcA3x9O564YQdmqWKVnpmh7MwMZWeu1bLgXhYcGaZwFSqvizbP1mCvXGlxCYqOS1B03GplBSxXdkpEi3EBixdJG6xjVm4rV3hihrKTpBcanykLVXKbZ9boGb18dV4tVGqrMa2FJ65oWietwE8xSdZWxE21hn+hlY21ppcrZl2SohruR6VkKDlg+9X7WwOU3OLs49by9FbDZ0mPD+r4/XSyZk/eTcisAO1eldDpe+noPeSsT1B0eqE1NI5L6PCc3jZ/r6u2q9SB78ARdufv1b//Z1q7AbCXV7/8HRIAAAAAAAAAAAC31e8CYMMwVHSsRNf7jdegQQMlSdU1NW3GNV7z8vJScHCgzGVl7Y5ryU8xSxoDwwSt3CanBGzWXcJS1qrmO3dLtGnDdpnDwlquX/Bu047Pos3vKl9S/tbGXasl2rS1UArwbwprrc9sbLYjtXHeRZ2G2+ZtLzetk7Nlu8z+AQpqXuuGZjuac7OVVRaqiEjr/Yiw8lb3NyitoPM3ULT5WUWv2i4tXqPszNYhaFdr9uzdFG3e0Gz3bPvvruP3YIvG3d/N/l6Lt2hTB78MYJd34ET33R2pdWtWK+L2sK4HAwAAAAAAAAAAwCn65fa9Dz/eJV8fXyUuf1yvvPa6Ps3bo9vDQpt2+BqGoZ1/yZWPj4+eeCReNbW1ejMzS4ZhdDFzy+CyaPPLygpfo6XxQcppcy5whJ7LXK7wpu/bb71sk8gwhatcecWtrheXyayZCgxWU1tgs/l4m5pL299S2qTNM8VlMndRkvl468/rZ60jMEzh8lP4ugzFtBqRL0nB/gpo57OUmMt1tddyB4q3KDFuixSZpOzENcoOaGiBHdnFmo019+DdtGm7XdbyzXT4Hoq7+CxS0+7vtC52f7fQy3fgSMOvG6az585LkmaFz9SC+XMlSQ/FLNKokSOcVAUAAAAAAAAAAAA60y8DYMMw9O6fPlRVVZVSkn6mDz7epdSXXlH4jOny8vZW4b79um7YMP3i6ad06MhRbX3nfVks9XauIk/Px9lwXnCpuU2I2/91EnZHBnSZ83Ypd4OiS2OVvm6RlgXnaVNXa/ZIQ4Bftl0r4xpC/8gkZS+x2wK945R3YLs77wjX0iULtSs3T8ePl+mhmEUt7t97T6SuXLnigsoAAAAAAAAAAADQXL9rAd3IMAzt+CRHr/z2DYXeNkXP/HyFQkJu0PhxY/XTHydo3pzZeitrmzK3vKPa2rquJyzO1+4yPwUGtr3VdhdoNzTMGxPbyZm7pWaZG3eWNtewm7a0uOfLS1JAwPUtLzTsOO7RvB3V2sX9oIDOzgBuR3GZdZ5AG9bsiWB/BahQaU9f3fEdcn03a+xKb+t29Duw0czpUxUbvUCSdHdkhJbFx8pkMrUzsr1rAAAAAAAAAAAAcKZ+GwA3Kj9xUumv/l5rU1/SJzmfKm9PgdLSX9Wv0n6tw4eLup6gSYk+yy9XeOLVM39D4lcoRtv1Vnda+LYz76anNyo/bLmyX4xteTZvZJKei5RUvEVvF/i1Om84SMuSFkrbsnu/4zNsuXUdSVKEnksMlbmn83ZUa0rDZ2u8n9Tss0YmKbmzY2KDY5We0jIgD4lfpHAVKi/XhjV7rFmgGhyrZxb3IADu7Ezg9uoOjtWy9s7s7fU7CNKyF5udGxwcq/TMtU3nPIfEr237768TNTW1CgkO0rQpP9TDcUs6CHxbqq2z4RctAAAAAAAAAAAA4FD9sgV0eyorz6my8lyv5ija/KxWaq1SMzOULMnacvfqDtGey9Pzcce17MU1Ss1cePVy2XatfNr6x5z1CSqJb762ZN62Woltzh7uPvO2jSpdkqHsxIYLBRsV3Yt5c9YnSCkZSm5V66am+6sV2PyzFmzUym1+Su2oN3Rxmcxhy5WdubzZxZbtjrtas9uKt+iFbTOV2nimbtl2rUwvVGp3WkDnZitryRprTQUNZ/W20rbucmWt2tJOPS54B51474Mdmn//vRoyZLDOXbggybrrXoZkyJD1OG1DhmH9s8VSp505nzmgEgAAAAAAAAAAAHSHaeKkaUZXg0qKDzqjliazou536noAnMd8rPe/UtHcwW/32XU+AAAAAAAAAACA/mLipGltrvX7FtAAAAAAAAAAAAAAACsCYAAAAAAAAAAAAABwEwTAAAAAAAAAAAAAAOAmCIABAAAAAAAAAAAAwE0QAAMAAAAAAAAAAACAmyAABgAAAAAAAAAAAAA3QQAMwGks9RZXlwAAAAAAAAAAAODWCIABOIWl3qKzFRWuLgMAAAAAAAAAAMCtedkyKCh4oqPraMF8rMip6wEAAAAAAAAAAACAO2AHMAAAAAAAAAAAAAC4CQJgAAAAAAAAAAAAAHATBMAAAAAAAAAAAAAA4CZsOgO4pPigo+toYVbU/U5dD4DjWeotOltRoStVl11dCgAAAAAAAAAAgNtiBzAAp/D08NTw0aNdXQYAAAAAAAAAAIBbIwAG4DSeHp6uLgEAAAAAAAAAAMCtEQADAAAAAAAAAAAAgJsgAAYAAAAAAAAAAAAAN0EADAAAAAAAAAAAAABuggAYAAAAAAAAAAAAANwEATAAAAAAAAAAAAAAuAkCYAAAAAAAAAAAAABwE16uLgBA3zNj+m2KumuWPD1t+xFhsdRpV+7nKty338GVAQAAAAAAAAAAoDNuEQAPGjhQU6dMlr/feHl6eOrk6dPat/9rnTt/wdWluV5kkrITQ1teK9io6PV5vZo2JH6tUhf7tblu3rZaiZtLejW3besWKi1ug5SSoeQw659zJEWlZGip2bE1XAsWzJurrHfe06EjR20aPyEkWEujFxEAAwAAAAAAAAAAuFi/DoBNJpPuvCNM8++/T8XHSnWs9LjqLBZNCAnWvLmzlZu3Rx/t3KXa2jpXl+padgh8bZs3Qs9lrlH24quBrM0ik5S9xKyVT29RUUdjgmP1zGIpa1WCNhU3XFuf0Pk6tsyLNnx8vHXkaLGqq2s0YsRw3Tr5Byr88oAuXb7U7vgjRcXy8fF2cpUAAAAAAAAAAABord+eAew7YICe+sljum3KZG14+VXl7/1Sk265WaFTb9WRomKteyFdI0cMV0rSUxo1coSry3WZkOvb7tJ1nDw9H7daWWWhSk6JcNAa5SotdtDUaFfMgw8o5sEHNGd2pKtLAQAAAAAAAAAAQBf6ZQDs4+Oj5Y8vU+X5c/rNb9/Q8Ouu06PL4hR8Q6AC/P0UvWi+bp18i958K0t7v/xKK558TNcNG+rqsq8RJdq0tVAKC1NUs6sh8WuVnZlx9atZQByVkmFtU+2/UKmt7rV4ft1CBShUyc3GRKVkKD0+qN1KOpu3ZT1rtSy48U6Qlr2YoeciI/RcZoayM5NafI5r0dfffKfTFWf03cHDri4FAAAAAAAAAAAAXeh3LaBNJpOeeCReJ09V6I9Z78gwDE2fOqXNuBnTp+rTz/O1Y+cu1dXVacWTj+vF//qNrlRXu6BqFwtbruzM5dY/O6oddHOlZpk1U4HBkoobz+0tV1rcsw3tmoO07MU1yk6RotfnKWd9gnK6aNVctPlZRX8eq/R1AXrbxvbSHc0bEr9WqeFfaGVcw7XIJGWvS1Jps3kDloRp96oEPV/cqzfhFnbn79Xu/L3t3vPy8lJd3TXeYh0AAAAAAAAAAKAP6Xc7gA3DUNGxEl3vN16DBg2UJFXX1LQZ13jNy8tLwcGBMpeVtTvO3RVtflbRcQkNXxuVH7a83R22dlVcJnPTNxH60WIpa1Xz0LZEmzZsl7nVLmHnaKhnQ7OgOTdbWWWhimje4Tg/++o5w2jXfXdHat2a1Yq4PczVpQAAAAAAAAAAAKBBv9sBLEkffrxLvj6+Slz+uF557XV9mrdHt4eFaoCvryRrSLzzL7ny8fHRE4/Eq6a2Vm9mZskwDBdX7mp5ej49TNmJYYpSXju7aCP0XOZyhTd9X6g0G3fbthDsrwBJpZIUGaZwlSuvuNWY4rIWu4SdJjJM4fJT+LoMxbS6ld/sz+bjJU4sqn8Yft0wnT13XpI0K3ymFsyfK0l6KGbRNX3ONgAAAAAAAAAAQF/SLwNgwzD07p8+VFVVlVKSfqYPPt6l1JdeUfiM6fLy9lbhvv26btgw/eLpp3ToyFFtfed9WSz1ri67byg1y6yADm7m6fk4O7SHDgxQQNkX+qxYUmDvp7O/Hgbb17A77wjX0iULtSs3T8ePl+mhmEUt7t97T6SuXLniouoAAAAAAAAAAADQqF8GwJI1BN7xSY4OfPOdYhY9oAcfmKfjZWWqra3TT3+coMrKc3ora5sOH27vRNlrWGBAh/GvfUToucRQ5advsLZYbnUecJNgfwW0tzPY0TqqBx2aOX2qYqMXSJLujuysfbjJOQUBAAAAAAAAAACgQ/3uDODWyk+cVPqrv9fa1Jf0Sc6nyttToLT0V/WrtF8T/ipIy1JiFdL4bXCs0hNDZd6W7Zjdr8GxSs9crvCCjXo+t+Fa8Ra9XeCnmHVJzc77DdKypIVS6zr8AxTkiLqaz9tRPc3fE1RTU6uQ4CBNm/JDPRy3RCZT1+FubV2dEyoDAAAAAAAAAABAZ/rtDuDWKivPqbLynKvL6HsCFio1c2HTt/npCVfD2d4KW67szOXNLhQqLS6hTbicsz5BJfFrlZqZoeSGa+Ztq5W4udk5u7nZylqyRsmZGUou2Kjo9XZoRd3BvDnrE6SUDOu1ZvVsss+KbuG9D3Zo/v33asiQwTp34YIk6657GZIhQ9bjtA0ZhvXPFkudduZ85tKaAQAAAAAAAAAAIJkmTppmdDWopPigM2ppMivqfqeuB8B5zMfsuzP/4Lf77DofAAAAAAAAAABAfzFx0rQ21/p9C2gAAAAAAAAAAAAAgBUBMAAAAAAAAAAAAAC4CQJgAAAAAAAAAAAAAHATBMAAAAAAAAAAAAAA4CYIgAEAAAAAAAAAAADATRAAAwAAAAAAAAAAAICbIAAG4DSWeourSwAAAAAAAAAAAHBrBMAAnMJSb9HZigpXlwEAAAAAAAAAAODWvGwZFBQ80dF1tGA+VuTU9QAAAAAAAAAAAADAHbADGAAAAAAAAAAAAADcBAEwAAAAAAAAAAAAALgJAmAAAAAAAAAAAAAAcBM2nQFcUnzQ0XW0MCvqfqeuB8DxLPUWna2o0JWqy64uBQAAAAAAAAAAwG2xAxiAU3h6eGr46NGuLgMAAAAAAAAAAMCtEQADcBpPD09XlwAAAAAAAAAAAODWCIABAAAAAAAAAAAAwE0QAAMAAAAAAAAAAACAmyAABgAAAAAAAAAAAAA3QQAMAAAAAAAAAAAAAG6CABgAAAAAAAAAAAAA3AQBMAAAAAAAAAAAAAC4CS9XFwCg75kx/TZF3TVLnp62/YiwWOq0K/dzFe7b7+DKAAAAAAAAAAAA0Bm3CIAHDRyoqVMmy99vvDw9PHXy9Gnt2/+1zp2/4OrS+p7IJGUn+ilr1bPaVNzzaaJSMpQc1sHNgo2KXn9cy15co8CtCXo+t7M5CpUWt0E5PS/FYfNdyxbMm6usd97ToSNHbRo/ISRYS6MXEQADAAAAAAAAAAC4WL8OgE0mk+68I0zz779PxcdKdaz0uOosFk0ICda8ubOVm7dHH+3cpdraOleX2kcEadmSUEnlvZ4pZ31CU8galZKhZG1U9Pq8Fmt1Zw57sPd81zIfH28dOVqs6uoajRgxXLdO/oEKvzygS5cvtTv+SFGxfHy8nVwlAAAAAAAAAAAAWuu3ZwD7Dhigp37ymG6bMlkbXn5V+Xu/1KRbblbo1Ft1pKhY615I18gRw5WS9JRGjRzh6nL7hJD4FYoxFyrf1YWgX4l58AHFPPiA5syOdHUpAAAAAAAAAAAA6EK/3AHs4+Oj5Y8v05nvK7X5j9m6eUKIHl0W13Q/epGfLBaL3nwrS3NmR2nFk4/ppZdfu7ZbQgfH6pnF5UqLK1BE5iInLhykZS+uUYy/JJW3aD0dlZKhpebVStxc0jQucOtqlS5pb3xX97s739VnmlpZl21XWv5MJQe822o387Xt62++07ixY/TdwcOuLgUAAAAAAAAAAABd6Hc7gE0mk554JF4nT1XoD5lbVV9fr+lTp7QZN2P6VBmGoR07d+mzz/O14snHNcDX1wUV9wVBWpa0UOZ055+NG564QtqQoOi4BKUV+CkmKVYhvRhvz/miUjKUHLBdK+Os96O3Bih5sV/vP7Sb2Z2/V//+n2ntBsBeXv3yd0gAAAAAAAAAAADcVr8LgA3DUNGxEl3vN16DBg2UJFXX1LQZ13jNy8tLwcGBMpeVtTvuWhCVskYx5o16Ptf5a5u3vdy04zZny3aZ/QM6PR24q/H2my9CEWHlytqwRUWNg3M3KK3A9s92rbvv7kitW7NaEbeHdT0YAAAAAAAAAAAATtEvt+99+PEu+fr4KnH543rltdf1ad4e3R4W2rTD1zAM7fxLrnx8fPTEI/Gqqa3Vm5lZMgzDxZW7QGSSdZfr07a2NI7Qc5nLFd70faHS4nq+c9h8vKTVFT8FBksq7tl4u80nfwWoXHmtnisxl0sB7c91rRt+3TCdPXdekjQrfKYWzJ8rSXooZhHnbAMAAAAAAAAAAPQR/TIANgxD7/7pQ1VVVSkl6Wf64ONdSn3pFYXPmC4vb28V7tuv64YN0y+efkqHjhzV1nfel8VS7+qyXSBIy5aESv6hSs1c2OJO+LoMxRRsbOes2zw9H3cNnH8bGEDO2w133hGupUsWalduno4fL9NDMS3Pkb73nkhduXLFRdUBAAAAAAAAAACgUb8MgCVrCLzjkxwd+OY7xSx6QA8+ME/Hy8pUW1unn/44QZWV5/RW1jYdPlzU9WRuq0Sbnk7QphbXIvRc5iKVrnq2qTXyNanULLNmttk9HBTAGcCtzZw+VbHRCyRJd0dGdDLS5JyCAAAAAAAAAAAA0KF+GwA3Kj9xUumv/l4jRlwnf7/x8vT01NZ33tep0xWuLg19WXG+dpctVExSrD57uuEc4MgkJYdJ4hxg1dTUKiQ4SD7e3no4bolMpq7D3dq6OidUBgAAAAAA4J5MJtO1eYQdAACwu34fADeqrDynyspzri4D/UaJNj29WnpxzdX22AUbtXKbn1LpDa33Ptih+fffqyFDBuvchQuSrLvuZUiGDFn/W8SQYVj/bLHUaWfOZy6tGQAAAADshRAGAAAAQH9mmjhpWpf/RVNSfNAZtTSZFXW/U9cDGkWlZGipebUSN5e4uhS3ZT5m37bsB7/dZ9f5AAAAAAAAAAAA+ouJk6a1uebh/DKAPioySclhhXqb8BcAAAAArmmenp7y8LDtfzKxdRwAdGXIkCE2j7XluC4AAHDtcpsW0EB3RaVkWM/8bVKotLgNynFVQQAAAAAAl/P29lZAQICOHTtm0/j6+noHVwTgWuDn56eqqiqbW9DTph4AAHSGABjXrJz1CYS9AAAAfd2CBdJ777m6CgBuzMPDo0WIu27dOv3bv/0b4QoAh2n9c8fLy0u/+MUv9Mwzz/CzBwAA2AV9igAAAAD0TYS/AJygedgyZswYffjhh7py5YoLKwLg7lp3DvjlL3+p//t//y8dBQAAgN0QAAMAAAAAgGta4zm+r7/+uj777DN24AFwOE9PT0nWnz9PPPGEzp075+KKAACAOyEABgAAANA3sfsXgJPU19fLZDLpt7/9rS5fvuzqcgBcAxp3+3p7eys6OppfPAEAAHZFAAzAaSz1FleXAAAAAAAtNIYuJpNJO3fudHE1AK4VjT976uvrdfjwYQJgAABgVwTAAJzCUm/R2YoKV5cBAAAAAO0aMGCApLZncwKAo3h5eWnw4MGqqqpydSkAAMDNeNkyKCh4oqPraMF8rMip6wEAAAAAgGuTh4eHRo8erZqaGp0/f97V5QC4BphMJvn6+mrkyJE6f/68amtrXV0SAABwMzYFwAAAAAAAAO7Gw8NDAwcO1OXLl3X58mV2/wJwOJPJJA8PD3l7e+v7779XdXW1q0sCAABuiAAYAAAAAABck7y8vGSxWFRdXc35mwCcZtCgQbp8+bIsFourSwEAAG6KM4ABAAAAAMA1qTF88fb2dnElAK4VhmHo8uXLGjRokKtLAQAAbsymHcAlxQcdXUcLs6Lud+p6ABzPUm/R2YoKXam67OpSAABAX7ZggfTee66uAsA1wmKx6K677lJ+fr6rSwFwDfHy8tIdd9yhjz76yNWlAAAAN8UOYABO4enhqeGjR7u6DAAAAABoYe/evQoKCpLJZHJ1KQCuETU1NU3nAPOzBwAAOAIBMACn8fTwdHUJAAAAANBCVVWVHnnkEY0dO1YeHvzPJAAczzAMDRgwQJMnT9bQoUMJgQEAgN3Z1AIaAAAAAJyC9s8AnMzLy0uvvPKKvL29ZRiGq8sBcA0wmUwqLCxUbW2tPDw8+NkDAADsjgAYAAAAAABckxqDlxMnTjT92WQyEcYAcChPT0+VlZXJw8OjafcvP3sAAIA9EQADAAAAAIBrkslkUl1dXVPwK4kQGIBDeXh4qL6+vulnTX19vSTxMwcAANgVh9sAAAAAAIBrksViaQpfLBaLfH19CX8BOFR9fX2LnzuN5wEDAADYEwEwAAAAAAC4ZplMpqZdeHV1dRo3blzTbmBH8PDwkIcH/3MMcK1r/GWT+vp6+fj4aNCgQQ5dj5AZAIBrC//FAQAAAAAArmmNu/GkqwGto0Lg5rv/AFybmrd+NplMqqqq0oABAxz6yydXrlxx2NwAAKDv4QxgAG3MmH6bou6aJU9P235EWCx12pX7uQr37XdwZQAAAABgPyaTSYMHD1ZVVVVTO+gzZ8407dBtPKcTAOzJ09NTAwYM0MWLF2UYhiwWi2pra+Xp6ckviQAAALtwiwB40MCBmjplsvz9xsvTw1MnT5/Wvv1f69z5C64uzfUik5SdGNr0rXnbaiVuLun1tFEpGUoOK1fWqme1qbi9ERF6LnO5wgs2Knp9XjvPNrtQtl0rn96ioi7WDIlfq9TFfpIKlRa3QUrJUHKY9c85DfMuNdvn813rFsybq6x33tOhI0dtGj8hJFhLoxcRAAMAAADod2prazVy5EhdunRJdXV1TeFv4048i8XiyvIAuKHGHcAjR46UYRi6cOFCU+cBDw8PGYbBL58AAIBe6dcBsMlk0p13hGn+/fep+FipjpUeV53FogkhwZo3d7Zy8/boo527VFtb5+pSXSbqdiktLkE5kqyh7Bo9dzxBz+faY3Y/3TErSJuK2wauIfGLFFBW3upqQyhctl0r464GvlEpGUrNDGgKctsVHKtnFktZqxKuBs7rEzoeL1nD7yVmm8JltOTj460jR4tVXV2jESOG69bJP1Dhlwd06fKldscfKSqWj4+3k6sEAABubcEC6b33XF0FADdnGIaqq6tVUVGh66+/XpcuXZLJZJLFYlF1dbU8PDwIgAHYXW1trerq6lRbW6tbbrlFRUVF8vLy0sCBA1VbW9u0KxgAAKCn+u0ZwL4DBuipnzym26ZM1oaXX1X+3i816ZabFTr1Vh0pKta6F9I1csRwpSQ9pVEjR7i6XJfJWd88VM1TXoEUfnuEXeY2l5UrYHG0otrcCdKd4X5trkalNIS/rQLZnPUJSisIVXJKV3WVq7S4VyWjB2IefEAxDz6gObMjXV0KAAC4ljQPfxcscF0dAK4JhmHo+PHjunjxoqqrq+Xr66ubbrpJQUFB8vX1dXV5ANyQYRiqra3V3//+d1VXV8swDI0bN06jRo3SuHHjHHoeMAAAcH/9MgD28fHR8seXqfL8Of3mt29o+HXX6dFlcQq+IVAB/n6KXjRft06+RW++laW9X36lFU8+puuGDXV12X2G2XzcPhPlv6usslBFtM4FI6MVo+16O7/5xQhFhEn5W9vfjZuzZbvMYYu0LLjtvZD4tcpet1ABClVyZoayG4LiqJQMpccHtVtaVEqGtfW1/0KlNnumab7MjIavtc3WDNKyFzP0XGSEnsvMUHZmUjvh9rXn62++0+mKM/ru4GFXlwIAAK5V771HCAzA4QzDUE1NjS5evKiamhoNHTpU9fX1Gjx4sDw9PV1dHgA31bgbuLKyUtXV1Ro1apSGDRumgQMHuro0AADQj/W7ANhkMumJR+J18lSF/pC5VfX19Zo+dUqbcTOmT5VhGNqxc5c++zxfK558XAOu9d/ajUxSclih3rbbGbnH9Vl+ucKXxCqk2dWo20Nlzs9Xi1UiwxSuQuV11Hq6uExm+SkwsO2tos3PKnrVdplVqLS4hDZnCrcnZ32CotMLrecLN3smJH6tUsO/sF6LS1B0erli1rUMegOWhKl0VYKiO2tJfQ3Znb9X//6fae0GwF5e/bqLPAAAAAC06+zZsyorK9OwYcNUX1+vESNGaMCAAezIA+AwhmHIbDZr4MCBOnv2rAzD0PDhw5vOJQcAAOiOfvf/gzAMQ0XHSnS933gNGmT9Tbjqmpo24xqveXl5KTg4UOaysnbHub/G3awZ1vNw7RxqFm1+V/n+M3VncMOF4FgttWvIbE8R+tFiKWtDs13IudltdzHnZ189Zxgduu/uSK1bs1oRt4e5uhQAAHAt4DxgAE5kGIaOHTumAwcO6OLFi6qqqtK4ceMUFBTEbmAADmOxWJSfn68zZ87IMAwNGDBAY8aMUUBAAL+AAgAAuqVfbt/78ONd8vXxVeLyx/XKa6/r07w9uj0stGmHr2EY2vmXXPn4+OiJR+JVU1urNzOzZBiGiyt3hTw9H9ewYzY4VumZGdK21UpsN6CN0HOZyxXe9H2h0roMjPOUV7BcS2cFaVNxiUJmzVRAwbvKkVrsCu4TIsMULj+Fr8tQTKtbzbtVm4/3xfDa9YZfN0xnz52XJM0Kn6kF8+dKkh6KWXRNn7MNAAAAwD01ns9pMplUW1ur6upqXblyRX5+fjp16pRqrslfMgfgaPX19aqvr5fFYlFdXZ3q6up0+fJljR07VqdOnbpG//dNAADQXf0yADYMQ+/+6UNVVVUpJeln+uDjXUp96RWFz5guL29vFe7br+uGDdMvnn5Kh44c1dZ33pfFUu/qsl2veIsS0wOUnRitqM3tBbvNwuJuyNmyXUvXRStqc7YCw6WsDe3MUWqWWTMVGCypuJ1Jgv0VoHLtLu328t1kS6iN1u68I1xLlyzUrtw8HT9epodiFrW4f+89kbpy5YqLqgMAAAAAx2k8G/jEiROSrO2h2YkHwNHq6+tVUVHR9P2FCxf42QMAAGzWLwNgyfofYDs+ydGBb75TzKIH9OAD83S8rEy1tXX66Y8TVFl5Tm9lbdPhw0VdT4beKc7X7rI1ikiRwvWFVha3N2aL3i5YqOTYCG1q5wzfqNiFCijY6NjWy12F0GjXzOlTFRu9QJJ0d2REJyP5jxAAAAAA1wZ24AFwBX72AAAAW/W7M4BbKz9xUumv/l5rU1/SJzmfKm9PgdLSX9Wv0n5N+KsILYsPavH9c4mhMm/LtvMO2BJt2lqo8LBQmfPz1dFbz1m/Uflhy5Wd0jJEjErJUHJYodLaCYZ7zT9ATW+geIveLvBTzLokRTUNCNKylNi+167axWpqahUSHKRpU36oh+OW2PQbprV1dU6oDAAAAAAAAAAAAJ3ptzuAW6usPKfKynOuLqOPOS6Fr1H24qtXzB2e/9tLuQXKT5TyOp07T8/HHdeyF9coO3P51csFGxXdg9bTXdeUrawla5ScmaHkgo2KXp+nnPUJUkqG9VrDMPO21dpk/9X7tfc+2KH599+rIUMG69yFC5IafsvUkAwZsv7CqSHDsP7ZYqnTzpzPXFozAAAAAAAAAAAAJNPESdO67B1SUnzQGbU0mRV1v1PXA+A85mP23Zl/8Nt9dp0PAAAAAAAAAACgv5g4aVqba/2+BTQAAAAAAAAAAAAAwIoAGAAAAAAAAAAAAADcBAEwAAAAAAAAAAAAALgJAmAAAAAAAAAAAAAAcBMEwAAAAAAAAAAAAADgJgiAAQAAAAAAAAAAAMBNEAADcBpLvcXVJQAAAAAAAAAAALg1AmAATmGpt+hsRYWrywAAAAAAAAAAAHBrXrYMCgqe6Og6WjAfK3LqegAAAAAAAAAAAADgDtgBDAAAAAAAAAAAAABuggAYAAAAAAAAAAAAANwEATAAAAAAAAAAAAAAuAmbzgA++O0+B5fR0j3zop26HgDHs9RbdLaiQleqLru6FAAAAAAAAAAAALfFDmAATuHp4anho0e7ugwAAAAAAAAAAAC3RgAMwGk8PTxdXQIAAAAAAAAAAIBbIwAGAAAAAAAAAAAAADdBAAwAAAAAAAAAAAAAboIAGAAAAAAAAAAAAADcBAEwAAAAAAAAAAAAALgJAmAAAAAAAAAAAAAAcBMEwAAAAAAAAAAAAADgJrxcXQCAvmfG9NsUddcseXra9iPCYqnTrtzPVbhvv4MrAwAAAAAAAAAAQGfcIgAeNHCgpk6ZLH+/8fL08NTJ06e1b//XOnf+gvOKiExSdmLo1e8LNip6fV6vp41KyVByWKuLdpq7N6JSMrTUvFqJm0tcWkdzIfFrlRrwbqfvps377APvsn1BWvbiGgVuTdDzuc5ffcG8ucp65z0dOnLUpvETQoK1NHoRATAAAAAAAAAAAICL9esA2GQy6c47wjT//vtUfKxUx0qPq85i0YSQYM2bO1u5eXv00c5dqq2tc3AlQVp2u1kr4zaoSJIUoecylys9/rh9AtIWIaWd575mWAPVGPNGRcddDXyj4mMVIjX8vblQZJKyl5i18uktrq9Fko+Pt44cLVZ1dY1GjBiuWyf/QIVfHtCly5faHX+kqFg+Pt5OrhIAAAAAAAAAAACt9dszgH0HDNBTP3lMt02ZrA0vv6r8vV9q0i03K3TqrTpSVKx1L6Rr5IjhSkl6SqNGjnBwNSXatL55cJent7aVKyA8XCF2X8uRc7ux4HDd4V+urC0td/vmbO4bgWtfFvPgA4p58AHNmR3p6lIAAAAAAAAAAADQBbvvAB43bpxOnjxp72lb8PHx0fLHl+nM95Xa/Mds3TwhRI8ui2u6H73ITxaLRW++laU5s6O04snH9NLLrzm1JXTR8XIp3IELmMtaBJch8WuVutiv4btyZa16VpuKG75t0Z665b2Wz0n56Q0th4Njlb5uoQIab5Rt73J3aqc1tNbp/I3tj1erdMkaxfi3P1+Lds5l25WW30lxxWUyy0+BgZI6qMna1nqjdocvb1iz4X2UNq+1UGlxG5TT4edWu22lOxtz9XOEKjVzYcO94w0DG3Yud/AOnOHrb77TuLFj9N3Bw85dGAAAAAAAAAAAAN1m9x3AFy44NmQ1mUx64pF4nTxVoT9kblV9fb2mT53SZtyM6VNlGIZ27Nylzz7P14onH9cAX1+H1tZc1O2hbUJauwiO1TOL1WIna0j8WqWGf6GVcQmKjktQdHq5YtYlKaphfHqin7JWNd77ouVzi8uV1vjcqu0qbbw3K0C7G5+JW60sLVRqSkSHZXVaQ3vjbZg/PHGFtME6Jq3ATzFJsU27nqNSMpQcsP3qelsDlNw8YG3DunM6PDFD6fFBHY4KWLyoac2VDeOzk6QXGussC1VyszrbvMO41coKWK7sbozJWZ+g6PRCawgel9AiPO7sHTjL7vy9+vf/TGs3APby6tdd5AEAAAAAAAAAANyO3QPgy5cv23vKFgzDUNGxEl3vN16DBg2UJFXX1LQZ13jNy8tLwcGBMpeVtTvOEULi1yo5rFBprXaB9ljYcmVnZli/kqQX4prvAo3QjxZLWRua7c7NzVZWWagimjr2lqu0cXzuloZnI/SjxX7KT2+2m7V4izblWv9YtHlDszVKtGlroRTg30H4aEsNLdkyv3nby01jcrZsl9k/QEEN60WElbdab4PSCtpf6+qazyp61XZp8RplZ3YQBBe827Rm0eZ3lS8pf2vjOq3rbPjcq5rvCC7Rpg3bZQ4Lawi/bRnTsY7fgevdd3ek1q1ZrYjbw7oeDAAAAAAAAAAAAKfol9v3Pvx4l3x9fJW4/HG98trr+jRvj24PC23a4WsYhnb+JVc+Pj564pF41dTW6s3MLBmG4fDarO1827YJbilCz2Uub9YhuovxTe2Crc/9KHKLtU2zJEWGKVx+Cl+XoZhWj+VLUnG+dpetUXJmhiIa2zs3PVeotFx1qE3b4jJz+wO7qqGH85uPl7R6wk+BwZLkrwCVK6+45d0Sc7mu9pTuQPEWJcZtaWiLvUbZAS3bNZvNx1s9UK7SUrUvMkzh7dRhbTc901proA1jWt9rpsN30MkzjjL8umE6e+68JGlW+EwtmD9XkvRQzCInnLMNAAAAAAAAAAAAW/TLANgwDL37pw9VVVWllKSf6YOPdyn1pVcUPmO6vLy9Vbhvv64bNky/ePopHTpyVFvfeV8WS72Dq2o4q9W8UdFxXe38zdPzXY7p4Ln0MGUnJikqt3lg3FmAXKJNTydoU3Cs0tdlKDuxq3Baagqoy7ZrZVzD7tfIJGUv6ewZW+btzfzNBAZ0mfN2KXeDoktjlb5ukZYF5zn9XN3+5s47wrV0yULtys3T8eNleihmUYv7994TqStXrrioOgAAAAAAAAAAADSyewtoZzEMQzs+ydErv31DobdN0TM/X6GQkBs0ftxY/fTHCZo3Z7beytqmzC3vqLa2zuH1RKU0hL/2avvckYbWyksb2xeXmmVu2hnbieItSmw4w3ZpfFDnzwX7K0CFSnv6aovlkOs7OV/X1hp6Or+N6wUFdGMOqWEXrp8CA7v3WFd1WD9fQ9ttW8b0cTOnT1Vs9AJJ0t2REVoWHyuTydTOyPauAQAAAAAAAAAAwJn6bQDcqPzESaW/+nutTX1Jn+R8qrw9BUpLf1W/Svu1Dh8u6noCewiO1dKwcmVtcXD4K6nxHNqAxSu0LFhS8Ra9XeCnmHVJzc6TDdKylFjrObWRSXqu1Tm85uMl7T8XHKtlTWObhZbBsXpmcSfhalc1tKsb83e0XlKz+SOTlNzZUbTBsUpPiWhxKSR+kcJVqLxO2mDbVEfrz520UNqWbd0NbcuYRn3ofN+amlqFBAdp2pQf6uG4JR0Evi3V1jn+Fy0AAAAAAAAAAADQuX7ZAro9lZXnVFl5zoUV+CmmvTNwm5+7ay+52cpaskYxSbH67OktylmfIKVkKDkzQ8kNQ8zbVmuTJJWaFbAuQ9mJV68nNtTT9rlyZa3aIhVv0QvbZiq18fOUbdfK9EKldtKiudMaWuvB/G3XW63AF9coNXOh9ULBRq3c5qfUjnpDF5fJHLZc2ZnLm13sTtvqjupIUEn8WqW2+tyJm0u6Nabx7zQ5M0PJBRsVvb71WcTO9d4HOzT//ns1ZMhgnbtwQZJ1170MyZAh63HahgzD+meLpU47cz5zac0AAAAAAAAAAACQTBMnTTO6GnTw231OKOWqe+ZFO3U9AM5jPmbfnfnO/vkEAAAAAAAAAADQV0ycNK3NtX7fAhoAAAAAAAAAAAAAYEUADAAAAAAAAAAAAABuggAYAAAAAAAAAAAAANwEATAAAAAAAAAAAAAAuAkCYAAAAAAAAAAAAABwEwTAAAAAAAAAAAAAAOAmCIABOI2l3uLqEgAAAAAAAAAAANwaATAAp7DUW3S2osLVZQAAAAAAAAAAALg1L1sGTZw0zcFltGQ+VuTU9QAAAAAAAAAAAADAHbADGAAAAAAAAAAAAADcBAEwAAAAAAAAAAAAALgJAmAAAAAAAAAAAAAAcBM2nQF88Nt9Di6jpXvmRTt1PQCOZ6m36GxFha5UXXZ1KQAAAAAAAAAAAG6LHcAAnMLTw1PDR492dRkAAAAAAAAAAABujQAYgNN4eni6ugQAAAAAAAAAAAC3RgAMAAAAAAAAAAAAAG6CABgAAAAAAAAAAAAA3AQBMAAAAAAAAAAAAAC4CQJgAAAAAAAAAAAAAHATBMAAAAAAAAAAAAAA4CYIgAEAAAAAAAAAAADATXi5ugAAfc+M6bcp6q5Z8vS07UeExVKnXbmfq3DffgdXBgAAAAAAAAAAgM64RQA8aOBATZ0yWf5+4+Xp4amTp09r3/6vde78BVeX5iBBWvbiGgVuTdDzub2fLSR+rVIX+7W6Wq6sVc9qU3Hv53eqyCRlJ4a2vFawUdHr82yeIiolQ0vNq5W4uaRbzySHFSotboNybH6q71owb66y3nlPh44ctWn8hJBgLY1eRAAMAAAAAAAAAADgYv06ADaZTLrzjjDNv/8+FR8r1bHS46qzWDQhJFjz5s5Wbt4efbRzl2pr61xdqt1Yg0brn/PtOXE3Q9ImkUnKXmLWyqe3qMie9XR7DWsoHuNfqLS4hGYhbISee9FfIZLj6pOUsz7BLYLfRj4+3jpytFjV1TUaMWK4bp38AxV+eUCXLl9qd/yRomL5+Hg7uUoAAAAAAAAAAAC01m/PAPYdMEBP/eQx3TZlsja8/Kry936pSbfcrNCpt+pIUbHWvZCukSOGKyXpKY0aOcLV5dpHZFLDLtON9g1/3UBI/ArFaLtWttmBm6fnHRlOXwNiHnxAMQ8+oDmzI11dCgAAAAAAAAAAALpg9x3A48aN08mTJ+09bQs+Pj5a/vgynfm+Upv/mK2bJ4To0WVxTfejF/nJYrHozbeyNGd2lFY8+Zheevm1/t8SOneDonMlKUIRTlrS2h66vFlr44adtuaNStPyht3IoUrNXNiwi/h4Q3vqjVLicoWroS1ycKzS1y1UQOPEZdvb7Oht3Yo6Pz1BebdntLNG653KEfrRYj/lp9sW9LZpeW3D7ufmO69Vtl1p+TOVHPBu03M9aRvdX3z9zXcaN3aMvjt42NWlAAAAAAAAAAAAoAt2D4AvXHBsyGoymfTEI/E6eapCf8x6R4ZhaPrUKW3GzZg+VZ9+nq8dO3eprq5OK558XC/+1290pbraofW5m6LNLysrfI2WxgcpZ3PJ1Z226/NUpDzltGnPHCRJClgSpt2rEvR8sXWekFkB2r0qoeFMYWuInJpS1hSgXg2an7UGzcGxWhbY0Fq5qxbQkWHWoNmG85DbrNNQS3aKOgyBo1IylBywXSvjGtaPTFJ2op9UYNMr7Pd25+/V7vy97d7z8vJSXZ37tFgHAAAAAAAAAADo7+zeAvry5cv2nrIFwzBUdKxE1/uN16BBAyVJ1TU1bcY1XvPy8lJwcKDMZWXtjkODsOXKzsy4+vVirEIkSSXatGG7tDhaUYrQjxZLWRts2Gmbn90Q9loVbd7Q7PsSbdpaKAX4N6zRuIO3Wfvm4i3aZEOg25GQ+LXNPk+SoprWkbJWNW8Tbf185rCwhjGtRSgirLzlZ87doLRrJPztzH13R2rdmtWKuD2s68EAAAAAAAAAAABwCrvvAHaGDz/eJV8fXyUuf1yvvPa6Ps3bo9vDQjXA11eSNSTe+Zdc+fj46IlH4lVTW6s3M7NkGIaLK3emCD2XuVzhTd8XNmvj3I7O2iAXb9HbBRlKzgyVCjY27ertjPl421bIbVovl5mt/283dvDaqmjzs4reLCk4VunrApqtU6684laDi8tk1kwFBktqfS/YXwHtPFNiLtfVftbXhuHXDdPZc+clSbPCZ2rB/LmSpIdiFrnPOdsAAAAAAAAAAAD9XL8MgA3D0Lt/+lBVVVVKSfqZPvh4l1JfekXhM6bLy9tbhfv267phw/SLp5/SoSNHtfWd92Wx1Lu6bCfL0/NxnZ9r2x0l5nIpzE9m8/EePN0QRpe1aqO8xE7FlZo7DnB7KzDgWst523XnHeFaumShduXm6fjxMj0Us6jF/XvvidSVK1dcVB0AAAAAAAAAAAAa2b0FtLMYhqEdn+Told++odDbpuiZn69QSMgNGj9urH764wTNmzNbb2VtU+aWd1RbyxmlvRIcq2cWlytt1XZp8QotC+7u8/4KUKHSmp3hG3J9s53ApWaZ5WcNcHuieIveLvBTTGxE5+M6Wqdhl29pse3PBAX4tTPYPc2cPlWx0QskSXdHRmhZfKxMJlM7I9u7BgAAAAAAAAAAAGfqtwFwo/ITJ5X+6u+1NvUlfZLzqfL2FCgt/VX9Ku3XOny4y5Nq0aUgLUtaKG3LVk7xFr2wTYpJajwfuIF/gIK6nKdZiBocq2eat4JuDHDXJV09hzc4VssibV8jZ/1G5Yctb3Z2cTvaW6f552v3mXztLvNr+Zkjk5Ts5sfe1tTUKiQ4SNOm/FAPxy3pIPBtqbaOX7QAAAAAAAAAAABwtX7ZAro9lZXnVFl5ztVl9F9hy5WdubzFpfz0BOXdvkYx2q6Vm61n+hZtflf5i5frmfh8JW4ukXKzlbVkjZIzM5RcsFHR69tpEV28RS9sm6nUdRmKkaSy7VqZXqjUZi2gc9YnSCkZ1nkkSeXKWrXFerPNGu21tra2vI5KyVBq5sI2n6Mx3M1Zn6CS+LVKbVpHMm9bbf0s7SrRpqdXSy+uuTpvwUat3OanVDfuDf3eBzs0//57NWTIYJ27cEGSdde9DMmQIetx2oYMw/pni6VOO3M+c2nNAAAAAAAAAAAAkEwTJ00zuhp08Nt9TijlqnvmRTt1PaC7olIytNTcWXCMjpiP2XdnvrN/PgEAAAAAAAAAAPQVEydNa3Ot37eABpwuMknJYYV6m/AXAAAAAAAAAAAAfYzbtIAGHCUqJaPVmb+FSovb0P6ZwQAAAAAAAAAAAIALEQADXchZn0DYCwAAAAAAAAAAgH6BFtAAAAAAAAAAAAAA4CYIgAEAAAAAAAAAAADATRAAAwAAAAAAAAAAAICbIAAG4DSWeourSwAAAAAAAAAAAHBrBMAAnMJSb9HZigpXlwEAAAAAAAAAAODWvGwZNHHSNAeX0ZL5WJFT1wMAAAAAAAAAAAAAd8AOYAAAAAAAAAAAAABwEwTAAAAAAAAAAAAAAOAmCIABAAAAAAAAAAAAwE0QAAMAAAAAAAAAAACAmyAABgAAAAAAAAAAAAA3QQAMAAAAAAAAAAAAAG6CABgAAAAAAAAAAAAA3AQBMAAAAAAAAAAAAAC4CQJgAAAAAAAAAAAAAHATBMAAAAAAAAAAAAAA4CYIgAEAAAAAAAAAAADATRAAAwAAAAAAAAAAAICbIAAGAAAAAAAAAAAAADdBAAwAAAAAAAAAAAAAboIAGAAAAAAAAAAAAADcBAEwAAAAAAAAAAAAALgJAmAAAAAAAAAAAAAAcBMEwAAAAAAAAAAAAADgJgiAAQAAAAAAAAAAAMBNEAADAAAAAAAAAAAAgJsgAAYAAAAAAAAAAAAAN0EADAAAAAAAAAAAAABuggAYAAAAAAAAAAAAANwEATAAAAAAAAAAAAAAuAkCYAAAAAAAAAAAAABwEwTAAAAAAAAAAAAAAOAmCIABAAAAAAAAAAAAwE0QAAMAAAAAAAAAAACAmyAABgAAAAAAAAAAAAA3QQAMAAAAAAAAAAAAAG6CABgAAAAAAAAAAAAA3AQBMAAAAAAAAAAAAAC4CQJgAAAAAAAAAAAAAHATBMAAAAAAAAAAAAAA4CYIgAEAAAAAAAAAAADATRAAAwAAAAAAAAAAAICbIAAGAAAAAAAAAAAAADdBAAwAAAAAAAAAAAAAboIAGAAAAAAAAAAAAADcBAEwAAAAAAAAAAAAALgJAmAAAAAAAAAAAAAAcBMEwAAAAAAAAAAAAADgJgiAAQAAAAAAAAAAAMBNEAADAAAAAAAAAAAAgJsgAAYAAAAAAAAAAAAAN0EADAAAAAAAAAAAAABuggAYAAAAAAAAAAAAANwEATAAAAAAAAAAAAAAuAkCYAAAAAAAAAAAAABwEwTAAAAAAAAAAAAAAOAmCIABAAAAAAAAAAAAwE0QAAMAAAAAAAAAAACAmyAABgAAAAAAAAAAAAA3QQAMAAAAAAAAAAAAAG6CABgAAAAAAAAAAAAA3AQBMAAAAAAAAAAAAAC4CQJgAAAAAAAAAAAAAHATBMAAAAAAAAAAAAAA4CYIgAEAAAAAAAAAAADATRAAAwAAAAAAAAAAAICbIAAGAAAAAAAAAAAAADdBAAwAAAAAAAAAAAAAboIAGAAAAAAAAAAAAADcBAEwAAAAAAAAAAAAALgJAmAAAAAAAAAAAAAAcBMEwAAAAAAAAAAAAADgJgiAAQAAAAAAAAAAAMBNEAADAAAAAAAAAAAAgJsgAAYAAAAAAAAAAAAAN0EADAAAAAAAAAAAAABuggAYAAAAAAAAAAAAANwEATAAAAAAAAAAAAAAuAkCYAAAAAAAAAAAAABwE162DPL29dWIkWPk7ePt0GJqq6tVeea0amtrOxwzYOAgDR89Wp4eng6txVJv0dmKCl2pukwt3axlzNjx+sFt0+TrM8ChtVTXXNF3+/fp9KkTHY7pS+8FAAAAAAAAAAAAcDSbAuARI0fLMOp05tT3Di1m6HXDNWLUGJ06UdbhGGeEeZLk6eGp4aNH60RpCbV0sxZnhL+S5OszQD+4bZpOf/xBh2P60nsBAAAAAAAAAAAAHM2mFtDePj66cO68o2vRhXNn5e3r2+kYZ4R5tq7lbrWYTCZNnjRRP370Yfn4+PR4LWeEv7au1Zf+jgAAAAAAAAAAAABHs2kHcH/h6ekpDw9Tt5+rq7PIMAy71DBs2FDFLXlQn+3O17d/P2S3eR3J29tLYaHTFRUZoXFjR2t3/l7V1NS4uiyXmTb1VlnqLDrwt29dXQoAAAAAAAAAAADQLf0+ADaZTJoVPlP3RN2pMaNH9WiOCxcuqvCrA3r/g497HXxeuHBRY8eO0pOP/7POfF+pT3Z9qs925/dqTkeKuD1M8+fdpyGDBzVdq66pkclk6hfhtT2ZTCYtXbJQEbeHSZL+kvOZ3nn/g6Z7fuPGqrauTqcrzriyTAAAAAAAAAAAAKBDPQqAvby8dN2woTrzfaW96+m2WbfP1ENLFvVqjqFDhyjqrlkaMniw/mfz2z2aw2QyKXzGdN03O1JjRo+WJI0aOUITJgT36QC43qhvEf5KUtRdsxQY4KfX/vtNVV254qLKnMtkMumhmEWaFT6z6do9UXfKZJK2vfeBklb8RME3BEqS/vrpbm19931XlQoAAAAAAAAAAAB0qNsBsMlk0v9evUrBN9ygvN179Lvf/49L2wXPjrrLbnPNmH6b3n3/A507f6Fbzw0eNFiPJ/xIE0KC29z79LM9dqrOMb4o/EoP3H+fhg4d0uL6jSHBWv7jR7Th16/ZbSdwVMRMjRg+tEfPnvn+nHJ3F9qljtYad/42D38b3f0Pd2rgoIFN4a8k3frDWwiAAQAAAAAAAAAA0Cd1OwD29PTUmNFjJEkRd9yu6/38lfpfL+uMC9rienp6avSokXadc/z4sd0OgH8U+2BT+FtdXaP8vV9q8KCBGj9unI4WH7NrffZWV1en3M/3aP7ce9vcCw4KVMTtYXbbwTxi+FCNG9OzNt0Wi2PaUZtMJi2Nvtr2uT23zwxt+Yy6f840AAAAAAAAAAAA4AzdDoDr6ur0m9d+r6d++hMNGOCroBsC9f/+z7/ppV9v1Lff/t0RNXbIw6NtEPefL6br4sVLNs/x1JOPady4sVfnNHl0qwZvby/d+sMfSJL+9u13+kPmNl26fEkjR4zQ+PFj2hnvrdtunaQZ06Zq0KCB2nfgbyrct1/nuxk629NneQWaMztKR48eU8HeL3XfvVEaP9Za+wPz7tPefV/pypVql9XnKCaTSUsXL1TEHR2HvwAAAAAAAAAAAEB/0qMzgPft26//veY/tPLnKzRu3DgNGTJEz/1ipTb9IVMfffwXu7UM7omLFy/p/IWLNo+vs9T3ar26OouqrlxR9ZUa/f6Nt2SxWCRJ31dW6vtK6xnJJpNJE2+6UTNnTNNtP5wsX18fHTeX6eKly3rwgfv14AP36+ChIyoo3Kf9X3/r9Jbaly5fUsEXX+rg4aPat/9r7d23X3PvvVvz5tyjQYMGKuSGIH3790NOrcnRTCaTYqMXEP4CAAAAwP/f3v1HRV3nexx/DeBPUlEwrXQAUcDdUvyZRWPiUpaUZbptZ1lNN8t7Vu/d3bvbObfTXj26t+2e623v3ta23GxT1K1rZPsLN4sEmVgNf0sZkAiMJSC/ofg9zP0DBoYf8mNmFBifj3M4Nd/5fj/fN4hymNe83x8AAAAAgEdxKgCWpMtf5WvTll/pR+vXaebMO2QwGLQq9gkFBQVq1669qm9ocGedA5bNZtP581nyvWlEa/hrd+stEzR3doTmzpqh0aNHq6ysQubUozp++pwKC69IkkaNukmzZ96hObMj9IMnVqq+vl7nPv1cx0+dUdYX2dctTP8o2azyisrWz+lQYpKuFBXpydjvafKk2zwuAF7x6EOKXDDfqWu9vb1kMBj69Y0OaBM6PaK/SwAAAAAAAAAAABgwnA6AJam6uka//t9X9NijD+mRZQ9JkkyRd8k4eZJ+u/01FV4pckuRA927f/6bnl4b2y4UjH1ihebNjlBtbZ1On/tUJ0+dUXZOXqfQsKrqax35+KiOfHxUE24O0JxZMzV3dvNHQeEVvfzqTlVX1/Spnlkzb9c9d98p35EjezzXarXqYq5FB99P7BRgnz77qYICjfIfN7ZP9x/oVi5/WPfc5Vz4K0mjR4/WikcfUvx7f3VjVQAAAAAAAAAAAIDrXAqAJampqUnxB/6i3NxLWv/MDzV8+DAFGifrP3+1Vet/9OPrPs64P9TU1mr/gb8qcPIk5VouafjwYZo3O0LFJaV6O/5Pyr6Y26tu0cIrxTp46CN9cvyUVi5/WNPDpmlqSLDOpZ/vdS1BgZP1ZOz3+lT/bbfeIl/fkYrbt7/Tc+9/cFjRUaY+rTeQrXgkxqXw1+6eu+bL1tSkd/+c4IaqAAAAAAAAAAAAAPdwOQC2y8jMkuXSJYVOm9q8sI+3xoweraLiYnfdYkAraBnpLEneXs1f1gD/cdq4/ocqKi7R8VNndPLUWZWUlnV5/YjhwxUx43bNmzNTU4KDWrtxfby8+1RHeOg0p+qfHtb1dTW1tTp2/LRTaw40ETNulylygdvWM0UuUJ7lS504fdZtawIAAAAAAAAAAACucEsAPHnSbfrJjzfo5vEBkpr3kP3ocPINE/72ZHyAv5be/x0tvf87upiTq+Mnz+jMuc9U31Cv8NBQzZsbodunh8nb21vZ2bl66533lHUhW5uf+3mf7+UzpO2P9G/vJ+rEye7D23/7+b9o+LBhGuJz9W8FT/lzrG/w/G509I/hI0bKLyBA3n14w4a1yary4mLV1lS3Oz5qzFiN9vPr9TqV5eWqqmh7Y4kztQAAAAAAAAAA0N+6et3c1dfMb1QuB8Dz583RM+vWatiwoZKkysoqvbz9NWVmfeFycZ5oSnCQpgQHacWjD6murl6+viNVWHhFf/8wSadOn1VZeYWk5o5gV1XXVKu8orL7k3qeTO0xzn+epf/6n+0KGOevx1c+opt8e94juSu1dXX649sHVFperi+/uuzmKjEYORO4ent5yy8gQAWXLO2O9+UHmf18xx9mhL8AAABA10aNGq2Jt06Sj8+Q/i5FjY0NKrj8paqqevidHQAAALiBdPW6uauvmV9vc++6RyeOftxv97dzOgA2GAxaueJRLXvowdZjORdz9Zvtr6r0KmOO0cbHx0fV1TX679/8Tl/lF/Rqj2C47nJ+oS7nF2r5sgelDgGwzWZT1oWLqqhs/gV81E2+Cg+dJoPB0O48a6NV5z7r/b7M8HwdA9dvTw/X+YzMHv9eX4uglvAXAAAA6NpACX8lycdniCbeOklVmfxuCQAAADjiNW73cCoAHjlyhH70T09r5ozbW4+lfPwP7d69T/UNDW4rztNV19Toy8v5/V0GWnx8NE3v/ulv7Y499EC0ohff208VYbCKXDBPCyPv1O59+1VdU+P0OiseidH5jC/0eWZW67GRI0YoKHCyzmdkdXMlAAAAgI4GSvhrN9DqAQAAAAa62REzdPpservmq+hFJn1TXa2jaSf7sbKBp88BsMFg0L/+ZKPCQqdJkpqamrR33/8p8XAyXawY1C53EcZfzi/sh0pw3YWtV/zuWBklSanasuA5Jbi6ZOhU/fSf12vn7j+qsPCKU2vcMnGCLn3ZNmZ84oSbtW5NrM6kf0YADAAAAAAAAAC4oZjuvlN3zp3VrvnKP8BfQ6uGumH1EC1+epYqDsTrZInDYf+5Wv7YTI2RJOXJ/Hqisp2+xzjN+e5y3eFnf1yhdMf7tbtXh+f6yKkA2Dh5kiSpquprvbz9NWU4dKcZDAZ9d+VyzYmYKS9vL3l5e8vbYJDBy0te3l7y9vKWwcsgHy8vSdInJ07pjT/EER4D6Ceh2vjLWOVtXaiVByUtfVFp+9cr+/EdynBx5fEB/vrpxme054/x+uxz11ab8e1vKfaJFa37rQMAAAAAAAAAcKNxR/NVRyH3PyVToCRVKL39M1r82ExVJL2h9y60nPfduSp754RKnbmR/xQZK5K1653mCHncvJVatniuct45odIO9xo3b6WWPRatcicD5z4HwE1NTXp1xxsKnRaiDz9K7rTf78QJN+vhmAd6vd69pkjtf+eAKiur+lpKlzY8s1aN1qZen3/z+AC33NfdOu47C+AaCYvSIqNFyfZ/QbNzZTEGKURyOQCWpOHDhmndmu/r4KFEfXg4pc/XGwwGLYmO0gP3RfHvAgAAAAAAAADghmdvvtr7Vrxb1sv+4A1lt3QAtzM1WEblyXyh5byTZzXjsSAF+59QqTOduSUn9N4HbQ9LL+aqIsJPY6WWQLlCFWXtn3OWU3sAnz5zTqfPnOvyuZKSUp05l66w0GmyNdlkbbLK1mRTU5NV1iabbE1WNVqbZLPZZLU26pO0k06Hv42NVn1T/Y18R/q2Hpsw4Wan1rIrr6h06XpJqq6pVllZucaO9evztQaDQeGh0/RwzP2yWpt0Ob/A5XoGipLSClmtznV6l5aVu7cYoJ1Lysl0fDxZwWGSMq9yeh8ZDAbFPHCfvv66WkfTTvTp2qkhwZo3J8I9hQAAAAAAAAAA4AGGDxump578vtLPZ6iqyj1NptdbyJyZ0pn3Wjp8s5WXt0imlq7fsilBGpN32ulx004FwN2pb2jQS7/+rbuX7ZLNZtPZs+d1913z3LLelaJiXSkqcnkdm82ml1/dqZgH79PcWTN7fd3kSbdqWcwSTQuZolzLJf32tZ0quOJ8PePH+WtKUGC353h5Xb+OQvOxU9ftXkCvhQS17P3bIjNXeTK59RY2m00Jhz7qc/grSReyc1RUUqIH71tMBzAAAAAAAAAAAJJq6+q09614fftb4dfuJmXlqtBMBU6Vsi+4b9lx81ZqWcQYSRVKP9k2TDr7YnM6Efj0UzJJsiQ5v9uw2wPg6+0vfz8kP78x+tb0UJfWKSou0a69b8vah/HR3Skrr9Det+KVnPIPLYu5X6FTQ656rv+4sYp5IFqzI2aoqLhEf9jzltI//dypfZHr6+pb/z/q3khF3RvZq+vq6uv6fK/BrKikxKkObfu18CDZubIoqO1xWJACJeW4afm62lrFvR2vz847105ss9n0QWKy8vMLFfvECg0fNsxNlQEAAAAAAAAAMPgUFZe07gF8TQPgkhN6L8lPa6Ke0poo+8EKl5ctPR6vXcclTY3WGvs+v/5ztTzKT+kH4nXyg5bnolZqTlm8TjoRSw36ALi2tk6v79qr8QH+mjBhvLwNXn1eo7S8QpfzC9TY2Oj2+r786rJefX23wqaFaFnMA7r1lgmtzw0dOkTLly3VPXfdqZqaGsW/91cdTTvhUgj92ecZevD+vncKnvvUHbudDh573z6gObPu0LChQ1uPXfoqv9N5+YVX9P6Hh1sfNzY06uTZrsefYzDrOPK540ho5xQVl+iNXftc6uS3S//sc/1m+++1bk2s64UBAAAAAAAAADAIZWZd0O59+1VdU3N9bnghUbvs3b9To7VmVrly3NUnWFauCgXJz1/SWD+NUbnK7WtfyJElapHGjJV0IwbAUnOHXPP45uL+LqVLNptNGVkXlPnFK5o3O0JLH4iW35jRGjd2rO6+c64Sk44o6Uiqautc78L96nKBfvf7Xbp7wTz5+o7o8XyrtUm5eZd0ONns8r0Hk8rKSiUdSe3xvPyCQuUXFF6HitBvMpOUbIlVcIiaA+CQIBktuU7P1W9d1g0/hPILClX19TetjwsKr+jXL7+moMDJLlYHAAAAAAAAAMDgYk49ptPnPm03QbekuETfVFdf+5v7z9XyqEBZkhJV2vPZXZsarcVK1OGWQHnclCCNKc9tCZQ7jJueGiyj8mR2cvR0rwLg+ro63TR6jL6udL2tuTujxvipoYdRxNYmq7y9vK9pHY73cmctNptNaSdP6/TZdC2YP0e+vr76xyfHVVnZ8+bUfanli+yL+iL7Yq/r6queaqmrr9WwocOv2f073qs7A+n7BQNVlrY//oJeOpaitE2SlKotC3bIlZ741GPHdT4j06kx7o7e/XNCp2PVNTU6n5Hl0roAAADAjaixsUE+PkP6u4xWjY0N/V0CAAAAMKicOpve6ViiGxocQ+5/SqbAlgePPaU7ys/qL++cUKlCtPjpRTJKkiqUfuANp8Yxtyor15jHHMdJ58n8+onmQLnTuOkKpR+Id7pZzRA6PaLHhGLIkCHy8x+vodd478mG+jqVFhV1+0vQ8BEj5RcQcM1DPWuTVeXFxaqtufq7Bqila+NvnqjwGRHXPASuq69VxrkzKrpScNVzBtLXBZ5r4mSjU99j1iarCi5Z2h27LTC4z+t8lde2Y7GztQAAAACebtSo0Zp466QBEQI3Njao4PKXqqqq7O9SAAAAgAGl4+vmrr5mfr3NvesenTj6cb/d365XATAA4OqceaPB1d40MGrMWI328+v1OpXl5aqqKHOpFgAAAAAAAAAA+ltXr5u7+pr59UYADAAAAAAAAAAAAABwK6/+LgAAAAAAAAAAAAAA4B4EwAAAAAAAAAAAAADgIQiAAQAAAAAAAAAAAMBDEAADAAAAAAAAAAAAgIcgAAYAAAAAAAAAAAAAD0EADAAAAAAAAAAAAAAeggAYAAAAAAAAAAAAADwEATAAAAAAAAAAAAAAeAgCYAAAAAAAAAAAAADwEATAAAAAAAAAAAAAAOAhCIABAAAAAAAAAAAAwEMQAAMAAAAAAAAAAACAhyAABgAAAAAAAAAAAAAPQQAMAAAAAAAAAAAAAB5ikATAodq4P0Vp25b0dyEAAAAAAAAAAAAAMGD59HRC+Ia9iltl7HDUorgnf6DtmdeoKgAAAAAAAAAAAABAn/WyAzhVWxYs1PyWj9V7pNW792pj2LUtDgAAAAAAAAAAAAAGmphtKUo79qJi3HyuOzg1AjrjlT0yy6hF0aHurgcAAAAAAAAAAAAAeiXtWMq1v8nSF5W2f73CHQ4lPLtQ8xc8p4ReXN7p3C7Wcycn9wDOUY5FMgYFtz8ctl7xx1KUZv/otGdvy16+3Z7TeZ34De3vE7MtpcsvytWOAwAAAAAAAAAAAPAs9vD3uoTAg4iTAXCwgo2SJTen7VDYesXvjlXeVvuo6BdkNj3fPuBdulbBu9pGSc9/cp8spucVv8Ghk3jpi0prt85CvRn0vFY7bEOckJQqGU2KbjeCeokWmyTLkSRlOPdJAQAAAAAAAAAAABgEOoa+PYbAHRtZu2gqDd+wt10j60tLWxpQN0VKxljFOTS3xmxLac04Y7Z1bnoN37C39R6dzu2wXk/X95VTAXDMtudlsuzTL17JajkSqo2/jJXR/IJ+dtB+1iH9bGuqZFrUNs/64HMOz0vK3KE3zY6dxKHauCZSareOlPDsCzI7FnAwufMI6qWLZFKq3mytCQAAAAAAAAAAAICnuVrY210IHB4dpOQn7Q2o6xSnWMU5hK7hG/YqbtUlbXFoZM1Ry/jmramSZZ9WL1io+c8e6rR2QlKqFBjkENaGKvpeo8y7dnRqXO1qvb5c3xu9DIAjtdkh7V6ctFDzH3e4YViUFhklc1KHTzg7VxZNVnC7Tt32Y6A3m9T2CV1tnZaR020O6bC5/QjqmKhIyZzcqznbAAAAAAAAAAAAAAafnjp9r/Z8xivPaXum/VGWtu9yDF2X6OlVRpm3OuzTm7lD2w92sVBXDibL7Di9OCxKi4ypOny9ru/Ap3enpWpLy8bEMdtStHnTi4o52HlTY9OmFKVt6nx1cIikzJZrTZJlzzrNb+nUjdmWos2BjmdblJPdc0UJSanavGmRYnRICS3jn81bOyfuAAAAAAAAAAAAADzD/AULnb62ucvXYd9ZS27zf1smDW9xMnBtbl59XmujQ7U9M0vh0SYZzXv60Ljq6vXt9XkEdMKz6xRnidTmDnOoJcnssG+v48fPDkoKW6+1puZzVnY7ptnYHBj35OCbirNEavFStf6hOJuCAwAAAAAAAAAAAPBUS/TSsRTF3WtuHru8oGUMsxslJKXKeG+Uwu3jmztNPL621ztyYg/gLG3/932ymJ7XS0tbDmUmKdkiBQaHdntl5+7eUAU7dv9m5ipPXa0TrGBjh0PKUuIRi0xRSxQTFSnLnjcZ/wwAAAAAAAAAAACgvbAgBSpVWxy2uA0Pntz2fJfb2vaRfYzzUifHN7t6vQMnAmBJmTv0plkybXpRMZLsc7KNq3a2hcKSpCV6yd4pnJmrPBm1el1b53DMtp1a3S7YPaTX91g6rBOqjfufl6mLMjISzbKYVmltoEXJid11FQMAAAAAAAAAAAC4cTkEvGHr9R+Oo6Azd+hNs1Grd9uzz+ZzNjrmnsYgdT/E+JAOm41atMYk9aZxtdN6bdcbzckuNb46FwBLSnj2BZkVqc371zdvjnzwOc3fmtq8D/Ax+8cq5ey0tycf0s+ebO4ctj+/Nnedtpjbr5vxyg+0eo/FYZ2dCt61TnGWLorITFKyxSijzErM7OJ5AAAAAAAAAAAAADe2zB36xR5p9e6W/PGX0i86jIBOeHahtpgjtdmec+42SfbJxi1b024+lqK0LrbJbV0jKVVGo3puXL3Kegk790lGKW6n8+OfJckQOj3C5tIK/SpUG/fv1KIj63rYVxgAAAAAAAAAAAAABrClLyptTa5WO4yqdobTHcADQliUFhkZ/wwAAAAAAAAAAABgMAvVxjWRshxJcin8lSQft9TTT2LWxcpofkHbGf8MAAAAAAAAAAAAYBCK2ZaizSZJ5hc03w1TjwflCOjwDXsVt8rY/EV41rUZ2AAAAAAAAAAAAADgKQZlAAwAAAAAAAAAAAAA6Gxw7wEMAAAAAAAAAAAAAGhFAAwAAAAAAAAAAAAAHoIAGAAAAAAAAAAAAAA8xP8Dy9NBYddiqHoAAAAASUVORK5CYII=\" alt=\"\"></img>"
      ],
      "text/plain": [
       "<napari.utils.notebook_display.NotebookScreenshot at 0x1ceb80f6470>"
      ]
     },
     "execution_count": 22,
     "metadata": {},
     "output_type": "execute_result"
    }
   ],
   "source": [
    "_golgi_object =  _infer_golgi(\n",
    "    img_data,\n",
    "    GOLGI_CH,\n",
    "    median_sz,\n",
    "    gauss_sig,\n",
    "    thresh_method,\n",
    "    thresh_adj,\n",
    "    cell_wise_min_area,\n",
    "    thin_dist_preserve,\n",
    "    thin_dist,\n",
    "    dot_scale_1,\n",
    "    dot_cut_1,\n",
    "    dot_scale_2,\n",
    "    dot_cut_2,\n",
    "    dot_scale_3,\n",
    "    dot_cut_3,\n",
    "    dot_method,\n",
    "    hole_min_width,\n",
    "    hole_max_width,\n",
    "    small_object_width,\n",
    "    fill_filter_method) \n",
    "\n",
    "#confirm this output matches the output saved above\n",
    "print(f\"The segmentation output here matches the output created above: {np.all(golgi_labels == _golgi_object)}\")\n",
    "\n",
    "# adding image to Napari as a new layer\n",
    "viewer.add_labels(_golgi_object, scale=scale, name=\"infer_golgi() output\")\n",
    "viewer.grid.enabled = True\n",
    "viewer.reset_view()\n",
    "\n",
    "# screenshot viewer\n",
    "nbscreenshot(viewer, canvas_only = False)"
   ]
  },
  {
   "cell_type": "markdown",
   "metadata": {},
   "source": [
    "-------------\n",
    "### ✅ **INFER GOLGI COMPLETE!**\n",
    "\n",
    "Continue on to other notebooks as needed:\n",
    "- Infer [`lysosomes`](1.2_infer_lysosome.ipynb)\n",
    "- Infer [`mitochondria`](1.3_infer_mitochondria.ipynb)\n",
    "- Infer [`peroxisomes`](1.5_infer_peroxisome.ipynb)\n",
    "- Infer [`endoplasmic reticulum (ER)`](1.6_infer_ER.ipynb)\n",
    "- Infer [`lipid droplets`](1.7_infer_lipid_droplet.ipynb)\n",
    "\n",
    "Or proceed to batch processing here: [batch process notebook](batch_process_segmentations.ipynb)"
   ]
  }
 ],
 "metadata": {
  "kernelspec": {
   "display_name": "infer-subc-sc",
   "language": "python",
   "name": "python3"
  },
  "language_info": {
   "codemirror_mode": {
    "name": "ipython",
    "version": 3
   },
   "file_extension": ".py",
   "mimetype": "text/x-python",
   "name": "python",
   "nbconvert_exporter": "python",
   "pygments_lexer": "ipython3",
   "version": "3.10.15"
  },
  "orig_nbformat": 4
 },
 "nbformat": 4,
 "nbformat_minor": 2
}
