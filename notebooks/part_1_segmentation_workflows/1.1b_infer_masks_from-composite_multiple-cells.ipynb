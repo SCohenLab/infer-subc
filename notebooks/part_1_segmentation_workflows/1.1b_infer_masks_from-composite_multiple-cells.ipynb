{
 "cells": [
  {
   "cell_type": "markdown",
   "metadata": {},
   "source": [
    "# **Infer `Cellmask` and `Nucleus`**\n",
    "\n",
    "***Prior to this notebook, you should have already run through [1.0_image_setup](1.0_image_setup.ipynb).***\n",
    "\n",
    "### ➡️ **Input:**\n",
    "In this workflow, a single or multi-channel confocal microscopy image of fluorescently tagged organelles will be used to \"infer\" (or segment) the cell and nucleus masks. The following setup is recommended for this pipeline:\n",
    "\n",
    "| **Imaging Requirements**|[**Masks Workflow (B)**](./1.1b_infer_masks_from-composite_multiple-cells.ipynb)| \n",
    "| :------------------------------------- |  :------:  |\n",
    "| Nuclei Marker                          |     ✘     |\n",
    "| Cell Membrane Marker                   |     ✘     |\n",
    "| Cytoplasmic Organelles                 |     ✔     |\n",
    "| Number of cells per image              |  Single or Multiple |\n",
    "| Applicable with sample data         | Astrocyte |\n",
    "\n",
    "*If your images are not compatible with this setup, consider the other 1.1_Masks Workflows available:*\n",
    "\n",
    "| **Imaging Requirements**|[**Masks Workflow**](./1.1_infer_masks_from-composite_with_nuc.ipynb)|[**Masks Workflow (A)**](./1.1a_infer_masks_from-composite_single_cell.ipynb)|[**Masks Workflow (C)**](./1.1c_infer_masks_from-composite_neuron_with_pm.ipynb)|[**Masks Workflow (D)**](./1.1d_infer_masks_from-composite_ipsc.ipynb)|\n",
    "| :------------------------------------- |  :------:  |  :------:  |  :------:  |  :------:  |\n",
    "| Nuclei Marker                          |     ✔     |      ✘     |     ✔     |     ✔     |\n",
    "| Cell Membrane Marker                   |     ✘     |      ✘     |     ✔     |     ✔     |\n",
    "| Cytoplasmic Organelles                 |     ✔     |      ✔     |     ✔     |     ✔     |\n",
    "| Number of cells per image              |  Single or Multiple  |   Single   | Single or Multiple | Single or Multiple |\n",
    "| Applicable with sample data         |  ✘  |   Neuron_1   | Neuron_2| IPSC |\n",
    "\n",
    "*This workflow utilizes similar logic to `Masks A`, but can be applied to images with multiple cells per field of view.*\n",
    "\n",
    "### **Included in this Notebook:**\n",
    "1. **Infer *cytoplasm*** - Segment the ***cytoplasm*** from a composite image of multiple organelle markers combined. The ***cell*** and ***nucleus*** masks will be derived from this image.\n",
    "    \n",
    "    *The combination of organelle markers used to create the composite image for the cytoplasm segmentation is based on the assumption that the organelle labels used will \"fill up\" the entire cytoplasm (not including the nucleus). This is NOT the most accurate method to determine the cell area, but is required in the case where membrane and nuclei markers can not be used or are not included. It is important to consider the specifics of your system as the cell type and labeling method may differ from the example used to optimize this workflow.*\n",
    "\n",
    "2. **Infer *nucleus*** - Segment the ***nucleus*** from an exclusive or (XOR) of the ***cytoplasm*** mask and a hole-filled version of the ***cytoplasm*** mask.\n",
    "3. **Infer *cellmask***\n",
    "Segment the ***cellmask*** by combining the ***nucleus*** and ***cytoplasm*** masks. To create an instance segmentation of the cellmask, the nuclei will be used as the seeds for the watershed operation. Then, the cell with the highest combined fluorescence intensity will be considered the main cell for analysis and everything else will be discarded. The nuclei and cytoplasm associated to that cell will be selected by masking.\n",
    "-----"
   ]
  },
  {
   "cell_type": "markdown",
   "metadata": {},
   "source": [
    "### 👣 **Summary of steps**  \n",
    "\n",
    "➡️ **EXTRACTION**\n",
    "- **`STEP 1`** - Create composite image\n",
    "\n",
    "    - determine weight to apply to each channel of the intensity image (w# = user input)\n",
    "    - rescale summed image intensities (rescale = user input)\n",
    "\n",
    "**PRE-PROCESSING**\n",
    "- **`STEP 2`** - Rescale and smooth image\n",
    "\n",
    "    - rescale intensity of composite image (min=0, max=1)\n",
    "    - median filter (median size = user input)\n",
    "    - gaussian filter (sigma = user input)\n",
    "\n",
    "- **`STEP 3`** - Log transform + Scharr edge detection\n",
    "\n",
    "    - perform a log transformation on the image\n",
    "    - apply Scharr edge detection filter\n",
    "    - combine log image and Scharr edge filtered intensity image\n",
    " \n",
    "**CORE PROCESSING**\n",
    "- **`STEP 4`** - Semantic segmentation of the cytoplasm\n",
    "\n",
    "    - (A) apply MO thresholding method from the Allen Cell [aicssegmentation](https://github.com/AllenCell/aics-segmentation) package (threshold options = user input)\n",
    "    - (B) fill holes and remove small objects (hole size = user input, object size = user input, method = user input)\n",
    "    \n",
    "- **`STEP 5`** - Segmentation of nuclei ‘seeds’ from cytoplasm\n",
    "\n",
    "    - (A) binary opening of inverted aggregate cytoplasm mask; remove the nuclei in aggregate cytoplasm mask (hole size = user input) and select the removed items with a logical **XOR** with the inverted cytoplasm\n",
    "    - (B) remove small objects (object size = user input)\n",
    "    \n",
    "- **`STEP 6`** - Combine nucleus masks and cytoplasm masks\n",
    "\n",
    "    - logical **OR** of the nucleus and cytoplasm\n",
    "    - fill gaps (hole size = user input)\n",
    "\n",
    "**POST-PROCESSING**\n",
    "- **`STEP 7`** - Label cells based on nuclei 'seeds'; isolate highest intensity\n",
    "\n",
    "    - perform a masked inverted watershed with the aggregate cellmask segmentation and the nuclei seeds\n",
    "    - select the label with the highest total intensity\n",
    "\n",
    "**POST-POST-PROCESSING**\n",
    "- **`STEP 8`** - Segmentation of single nucleus from cytoplasm; cell mask applied\n",
    "\n",
    "    - logical **AND** of the cellmask and aggregate cytoplasm mask\n",
    "    - invert cytoplasm mask and clear border (nucleus mask)\n",
    "    - fill holes (hole size = user input)\n",
    "    - remove small objects (object size = user input)\n",
    "\n",
    "**EXPORT** ➡️\n",
    "- **`STEP 9`** - Stack masks\n",
    "\n",
    "    - stack masks in order of nucleus, cellmask and cytoplasm mask"
   ]
  },
  {
   "cell_type": "markdown",
   "metadata": {},
   "source": [
    "---------------------\n",
    "## **IMPORTS AND LOAD IMAGE**\n",
    "Details about the functions included in this subsection are outlined in the [`1.0_image_setup`](1.0_image_setup.ipynb) notebook. Please visit that notebook first if you are confused about any of the code included here."
   ]
  },
  {
   "cell_type": "markdown",
   "metadata": {},
   "source": [
    "#### &#x1F3C3; **Run code; no user input required**"
   ]
  },
  {
   "cell_type": "code",
   "execution_count": 1,
   "metadata": {},
   "outputs": [],
   "source": [
    "from pathlib import Path\n",
    "import os\n",
    "\n",
    "import numpy as np\n",
    "import pandas as pd\n",
    "import napari\n",
    "from napari.utils.notebook_display import nbscreenshot\n",
    "\n",
    "from skimage.segmentation import clear_border\n",
    "from skimage.morphology import binary_opening\n",
    "from skimage.measure import label\n",
    "\n",
    "from infer_subc.core.file_io import (read_czi_image,\n",
    "                                     export_inferred_organelle,\n",
    "                                     list_image_files,\n",
    "                                     sample_input)        \n",
    "from infer_subc.core.img import *\n",
    "from infer_subc.organelles import non_linear_cellmask_transform\n",
    "\n",
    "%load_ext autoreload\n",
    "%autoreload 2\n"
   ]
  },
  {
   "cell_type": "markdown",
   "metadata": {},
   "source": [
    "#### &#x1F6D1; &#x270D; **User Input Required:**\n",
    "\n",
    "Please specify the following information about your data: `im_type`, `data_root_path`, `in_data_path`, and `out_data_path`."
   ]
  },
  {
   "cell_type": "code",
   "execution_count": 2,
   "metadata": {},
   "outputs": [],
   "source": [
    "### USER INPUT REQUIRED ###\n",
    "# If using the sample data, set cell_type to \"astrocyte\":\n",
    "# If not using the sample data, set cell_type to None\n",
    "sample_data_type = \"astrocyte\"\n",
    "\n",
    "# If you are not using the sample data, please edit \"USER SPECIFIED\" as necessary.\n",
    "## Define the path to the directory that contains the input image folder.\n",
    "data_root_path = Path(\"USER SPECIFIED\")\n",
    "\n",
    "# Specify the file type of your raw data that will be analyzed. Ex) \".czi\" or \".tiff\"\n",
    "im_type = \"USER SPECIFIED\"\n",
    "\n",
    "## Specify which subfolder that contains the input data and the input data file extension\n",
    "in_data_path = data_root_path / \"USER SPECIFIED\"\n",
    "\n",
    "## Specify the output folder to save the segmentation outputs if.\n",
    "## If its not already created, the code below will create it for you\n",
    "out_data_path = data_root_path / \"USER SPECIFIED\""
   ]
  },
  {
   "cell_type": "markdown",
   "metadata": {},
   "source": [
    "#### &#x1F3C3; **Run code; no user input required**"
   ]
  },
  {
   "cell_type": "code",
   "execution_count": 3,
   "metadata": {},
   "outputs": [
    {
     "data": {
      "text/html": [
       "<div>\n",
       "<style scoped>\n",
       "    .dataframe tbody tr th:only-of-type {\n",
       "        vertical-align: middle;\n",
       "    }\n",
       "\n",
       "    .dataframe tbody tr th {\n",
       "        vertical-align: top;\n",
       "    }\n",
       "\n",
       "    .dataframe thead th {\n",
       "        text-align: right;\n",
       "    }\n",
       "</style>\n",
       "<table border=\"1\" class=\"dataframe\">\n",
       "  <thead>\n",
       "    <tr style=\"text-align: right;\">\n",
       "      <th></th>\n",
       "      <th>Image Name</th>\n",
       "    </tr>\n",
       "  </thead>\n",
       "  <tbody>\n",
       "    <tr>\n",
       "      <th>0</th>\n",
       "      <td>c:\\Users\\redre\\Documents\\CohenLab\\scohen_lab_repo\\infer-subc\\sample_data\\example_astrocyte\\raw\\05052022_astro_control_2_Linear unmixing_0_cmle.ome.tiff</td>\n",
       "    </tr>\n",
       "  </tbody>\n",
       "</table>\n",
       "</div>"
      ],
      "text/plain": [
       "                                                                                                                                                Image Name\n",
       "0  c:\\Users\\redre\\Documents\\CohenLab\\scohen_lab_repo\\infer-subc\\sample_data\\example_astrocyte\\raw\\05052022_astro_control_2_Linear unmixing_0_cmle.ome.tiff"
      ]
     },
     "execution_count": 3,
     "metadata": {},
     "output_type": "execute_result"
    }
   ],
   "source": [
    "# If sample_data_type is set to \"astrocyte\", then the sample data is used and the directories are set\n",
    "if sample_data_type != None:\n",
    "    data_root_path, im_type, in_data_path, out_data_path = sample_input(sample_data_type)\n",
    "    \n",
    "# list files in the input folder\n",
    "img_file_list = list_image_files(in_data_path,im_type)\n",
    "pd.set_option('display.max_colwidth', None)\n",
    "pd.DataFrame({\"Image Name\":img_file_list})"
   ]
  },
  {
   "cell_type": "markdown",
   "metadata": {},
   "source": [
    "#### &#x1F6D1; &#x270D; **User Input Required:**\n",
    "\n",
    "Use the list above to specify which image you wish to analyze based on its index: `test_img_n`"
   ]
  },
  {
   "cell_type": "code",
   "execution_count": 4,
   "metadata": {},
   "outputs": [],
   "source": [
    "#### USER INPUT REQUIRED ###\n",
    "test_img_n = 0"
   ]
  },
  {
   "cell_type": "markdown",
   "metadata": {},
   "source": [
    "#### &#x1F3C3; **Run code; no user input required**"
   ]
  },
  {
   "cell_type": "code",
   "execution_count": 5,
   "metadata": {},
   "outputs": [
    {
     "name": "stdout",
     "output_type": "stream",
     "text": [
      "Metadata information\n",
      "File path: c:\\Users\\redre\\Documents\\CohenLab\\scohen_lab_repo\\infer-subc\\sample_data\\example_astrocyte\\raw\\05052022_astro_control_2_Linear unmixing_0_cmle.ome.tiff\n",
      "Channel 0 name: 05052022_astro_control_2_Linear unmixing_0_cmle.ome :: Channel:0\n",
      "Channel 1 name: 05052022_astro_control_2_Linear unmixing_0_cmle.ome :: Channel:1\n",
      "Channel 2 name: 05052022_astro_control_2_Linear unmixing_0_cmle.ome :: Channel:2\n",
      "Channel 3 name: 05052022_astro_control_2_Linear unmixing_0_cmle.ome :: Channel:3\n",
      "Channel 4 name: 05052022_astro_control_2_Linear unmixing_0_cmle.ome :: Channel:4\n",
      "Channel 5 name: 05052022_astro_control_2_Linear unmixing_0_cmle.ome :: Channel:5\n",
      "Scale (ZYX): (0.396091, 0.079947, 0.079947)\n",
      "Channel axis: 0\n",
      "\n",
      "Proceed to Napari window to view your selected image.\n"
     ]
    }
   ],
   "source": [
    "# load image and metadata\n",
    "test_img_name = img_file_list[test_img_n]\n",
    "img_data,meta_dict = read_czi_image(test_img_name)\n",
    "\n",
    "# metadata\n",
    "channel_names = meta_dict['name']\n",
    "meta = meta_dict['metadata']['aicsimage']\n",
    "scale = meta_dict['scale']\n",
    "channel_axis = meta_dict['channel_axis']\n",
    "file_path = meta_dict['file_name']\n",
    "print(\"Metadata information\")\n",
    "print(f\"File path: {file_path}\")\n",
    "for i in list(range(len(channel_names))):\n",
    "    print(f\"Channel {i} name: {channel_names[i]}\")\n",
    "print(f\"Scale (ZYX): {scale}\")\n",
    "print(f\"Channel axis: {channel_axis}\")\n",
    "\n",
    "# open viewer and add images\n",
    "viewer = napari.Viewer()\n",
    "for i in list(range(len(channel_names))):\n",
    "    viewer.add_image(img_data[i],\n",
    "                     scale=scale,\n",
    "                     name=f\"Channel {i}\")\n",
    "viewer.grid.enabled = True\n",
    "viewer.reset_view()\n",
    "print(\"\\nProceed to Napari window to view your selected image.\")"
   ]
  },
  {
   "cell_type": "markdown",
   "metadata": {},
   "source": [
    "-----\n",
    "\n",
    "## **EXTRACTION**"
   ]
  },
  {
   "cell_type": "markdown",
   "metadata": {},
   "source": [
    "### **`STEP 1` - Create composite image**\n",
    "\n",
    "&#x1F453; **FYI:** This code block creates a composite image of the organelle channels. The intensity of each channel is combined with specified weights. The resulting composite will be used to segment the cytoplasm area. \n",
    "\n",
    "*Hint: combine organelles in a way that produces a relatively even intensity throughout the cell.* \n",
    "\n",
    "#### &#x1F6D1; &#x270D; **User Input Required:**\n",
    "\n",
    "Please specify the following values:\n",
    "- `w0`: the weight of channel 0 (the first channel); a value of 0 will exclude this channel from the compostite; large values will cause this channel to be more prominent in the final composite image\n",
    "- `w1`: the weight of channel 1\n",
    "- `w2`: the weight of channel 2\n",
    "- `w3`: the weight of channel 3\n",
    "- `w4`: the weight of channel 4\n",
    "- `w5`: the weight of channel 5\n",
    "- `w6`: the weight of channel 6\n",
    "- `w7`: the weight of channel 7\n",
    "- `w8`: the weight of channel 8\n",
    "- `w9`: the weight of channel 9\n",
    "- `rescale`: \"True\" rescales the image so that the pixel/voxel with the highest intensity is set to 1 and the one with the lowest intensity is set to 0; \"False\" leaves the combined intensity values as is after the composite is made"
   ]
  },
  {
   "cell_type": "code",
   "execution_count": 6,
   "metadata": {},
   "outputs": [],
   "source": [
    "#### USER INPUT REQUIRED ###\n",
    "w0 = 2\n",
    "w1 = 2\n",
    "w2 = 3\n",
    "w3 = 1\n",
    "w4 = 4\n",
    "w5 = 2\n",
    "w6 = 0\n",
    "w7 = 0\n",
    "w8 = 0\n",
    "w9 = 0\n",
    "\n",
    "cyto_rescale = True"
   ]
  },
  {
   "cell_type": "markdown",
   "metadata": {},
   "source": [
    "#### &#x1F3C3; **Run code; no user input required**\n",
    "\n",
    "&#x1F453; **FYI:** This code block creates the composite and optionally rescales the image based on the settings above. The image is then added to Napari as a new layer for visual comparison to the input image. \n",
    "\n",
    "Use the Napari viewer to iteratively adjust the smoothing settings selected above."
   ]
  },
  {
   "cell_type": "code",
   "execution_count": 7,
   "metadata": {},
   "outputs": [
    {
     "data": {
      "text/plain": [
       "<Image layer '1-Cyto: Create composite' at 0x1bbabd81e40>"
      ]
     },
     "execution_count": 7,
     "metadata": {},
     "output_type": "execute_result"
    }
   ],
   "source": [
    "# make aggregate and optionally rescale\n",
    "struct_img_raw = make_aggregate(img_data,\n",
    "                                weight_ch0= w0,\n",
    "                                weight_ch1= w1,\n",
    "                                weight_ch2= w2,\n",
    "                                weight_ch3= w3,\n",
    "                                weight_ch4= w4,\n",
    "                                weight_ch5= w5,\n",
    "                                weight_ch6= w6,\n",
    "                                weight_ch7= w7,\n",
    "                                weight_ch8= w8,\n",
    "                                weight_ch9= w9,\n",
    "                                rescale = cyto_rescale)\n",
    "\n",
    "# adding image to Napari as a new layer\n",
    "viewer.layers.clear()\n",
    "viewer.grid.enabled = False\n",
    "viewer.reset_view()\n",
    "viewer.add_image(img_data, scale=scale)\n",
    "viewer.add_image(struct_img_raw, scale=scale, name=\"1-Cyto: Create composite\")"
   ]
  },
  {
   "cell_type": "markdown",
   "metadata": {},
   "source": [
    "-----\n",
    "## **PRE-PROCESSING**"
   ]
  },
  {
   "cell_type": "markdown",
   "metadata": {},
   "source": [
    "### **`STEP 2` - Rescale and smooth image**\n",
    "\n",
    "&#x1F453; **FYI:** This code block rescales the image so that the pixel/voxel with the highest intensity is set to 1 and the one with the lowest intensity is set to 0. The image is then *optionally* smoothed using a Gaussian and/or median filter. \n",
    "\n",
    "<mark> Include more information on the Gaussian and median filtering methods here </mark>\n",
    "\n",
    "#### &#x1F6D1; &#x270D; **User Input Required:**\n",
    "\n",
    "Please specify the amount of filter to use for each method. Higher values indicate more smoothing:\n",
    "- `med_filter_size`: the size of the median filter to apply; if 0 is used, no filter will be applied\n",
    "- `gaussian_smoothing_sigma`: the sigma to apply in the Gaussian filtering step; if 0 is used, no filter will be applied"
   ]
  },
  {
   "cell_type": "code",
   "execution_count": 8,
   "metadata": {},
   "outputs": [],
   "source": [
    "#### USER INPUT REQUIRED ###\n",
    "cyto_med_filter_size = 0\n",
    "cyto_gaussian_smoothing_sigma = 0"
   ]
  },
  {
   "cell_type": "markdown",
   "metadata": {},
   "source": [
    "#### &#x1F3C3; **Run code; no user input required**\n",
    "\n",
    "&#x1F453; **FYI:** This code block rescales the image and applies the specified median and Gaussian filters. The image is then added to Napari as a new layer for visual comparison to the input image. \n",
    "\n",
    "Use the Napari viewer to iteratively adjust the smoothing settings selected above."
   ]
  },
  {
   "cell_type": "code",
   "execution_count": 9,
   "metadata": {},
   "outputs": [
    {
     "data": {
      "text/plain": [
       "<Image layer '2-Cyto: Rescale and Smooth' at 0x1bbee7a78e0>"
      ]
     },
     "execution_count": 9,
     "metadata": {},
     "output_type": "execute_result"
    }
   ],
   "source": [
    "# rescaling and smoothing input image\n",
    "structure_img_smooth = scale_and_smooth(struct_img_raw,\n",
    "                                        median_size = cyto_med_filter_size, \n",
    "                                        gauss_sigma = cyto_gaussian_smoothing_sigma)\n",
    "\n",
    "\n",
    "# adding image to Napari as a new layer\n",
    "viewer.add_image(structure_img_smooth, scale=scale, name=\"2-Cyto: Rescale and Smooth\")"
   ]
  },
  {
   "cell_type": "markdown",
   "metadata": {},
   "source": [
    "### **`STEP 3` - Log transform + Scharr edge detection**\n",
    "\n",
    "#### &#x1F3C3; **Run code; no user input required**\n",
    "\n",
    "&#x1F453; **FYI:** This code block applies a log transform and the [Scharr](https://scikit-image.org/docs/stable/api/skimage.filters.html#skimage.filters.scharr) edge detection filter.\n",
    "\n",
    "Use the Napari viewer to iteratively adjust the filter settings as needed.\n",
    "\n",
    "*Hint: it may be helpful to readjust the composite and smoothing settings to improve the outcome of this step.*"
   ]
  },
  {
   "cell_type": "code",
   "execution_count": 10,
   "metadata": {},
   "outputs": [
    {
     "data": {
      "text/plain": [
       "<Image layer '3-Cyto: Log Scharr edge detection' at 0x1bbe9b43370>"
      ]
     },
     "execution_count": 10,
     "metadata": {},
     "output_type": "execute_result"
    }
   ],
   "source": [
    "# log scale the image, apply the scharr edge detection filter to logged image, add the two images together\n",
    "composite_cytomask = non_linear_cellmask_transform(structure_img_smooth)\n",
    "\n",
    "# adding image to Napari as a new layer\n",
    "viewer.add_image(composite_cytomask, scale=scale, name=\"3-Cyto: Log Scharr edge detection\")"
   ]
  },
  {
   "cell_type": "markdown",
   "metadata": {},
   "source": [
    "-----\n",
    "## **CORE-PROCESSING**"
   ]
  },
  {
   "cell_type": "markdown",
   "metadata": {},
   "source": [
    "### **`STEP 4` - Semantic segmentation of the cytoplasm**\n",
    "#### `A. Global + local thresholding (AICSSeg – MO)`\n",
    "\n",
    "&#x1F453; **FYI:** This code block creates a semantic segmentation of the cytoplasmic area. `Semantic segmentation` is the process of deciding whether a pixel/voxel should be included in an object (labeled with a value of 1) or should be considered as part of the background (labeled with a value of 0). A semantic segmentation does not discern individual objects from one another.\n",
    "\n",
    "The masked_object_filter utilizes the 'MO' filter from the [`aics-segmentation`](https://github.com/AllenCell/aics-segmentation) package. AICS documentation states: \"The algorithm is a hybrid thresholding method combining two levels of thresholds. The steps are: [1] a global threshold is calculated, [2] extract each individual connected componet after applying the global threshold, [3] remove small objects, [4] within each remaining object, a local Otsu threshold is calculated and applied with an optional local threshold adjustment ratio (to make the segmentation more and less conservative). An extra check can be used in step [4], which requires the local Otsu threshold larger than 1/3 of global Otsu threhsold and otherwise this connected component is discarded.\"\n",
    "\n",
    "#### &#x1F6D1; &#x270D; **User Input Required:**\n",
    "\n",
    "Please specify the following values:\n",
    "- `thresh_method`: the global thresholding method; options include 'tri'/'triangle, 'med'/'median' or 'ave'/'ave_tri_med'. Triangle implements the [skimage.filters.threshold_triangle](https://scikit-image.org/docs/stable/api/skimage.filters.html#skimage.filters.threshold_triangle) method, median utilizes the 50th percentile of the intensities, and ave uses the average of the two methods to calculate the lower bound of the global threshold.\n",
    "- `cell_wise_min_area`: the minimum expected size of your object; smaller objects will be removed prior to local thresholding\n",
    "- `thresh_adj`: adjustment to make to the local threshold; larger values make the segmentation more stringent (less area included)"
   ]
  },
  {
   "cell_type": "code",
   "execution_count": 11,
   "metadata": {},
   "outputs": [],
   "source": [
    "#### USER INPUT REQUIRED ###\n",
    "cyto_thresh_method = 'med'\n",
    "cyto_cutoff_size =  200\n",
    "cyto_thresh_adj = 0.914286"
   ]
  },
  {
   "cell_type": "markdown",
   "metadata": {},
   "source": [
    "#### &#x1F3C3; **Run code; no user input required**\n",
    "\n",
    "&#x1F453; **FYI:** This code block executes the MO filter using the settings above.\n",
    "\n",
    "Use the Napari viewer to iteratively adjust the filter settings as needed."
   ]
  },
  {
   "cell_type": "code",
   "execution_count": 12,
   "metadata": {},
   "outputs": [
    {
     "data": {
      "text/plain": [
       "<Image layer '4-Cyto: MO filter' at 0x1bbf4d10580>"
      ]
     },
     "execution_count": 12,
     "metadata": {},
     "output_type": "execute_result"
    }
   ],
   "source": [
    "# threshold the composite image after log/edge detection using the MO filter function from aicssegmentation - this applies a global threshold, then a local threshold to produce a semantic segmentation\n",
    "bw = masked_object_thresh(composite_cytomask, \n",
    "                          global_method=cyto_thresh_method, \n",
    "                          cutoff_size=cyto_cutoff_size, \n",
    "                          local_adjust=cyto_thresh_adj)\n",
    "\n",
    "# adding image to Napari as a new layer\n",
    "viewer.add_image(bw, scale=scale, name=\"4-Cyto: MO filter\", opacity=0.3, colormap=\"cyan\", blending='additive')"
   ]
  },
  {
   "cell_type": "markdown",
   "metadata": {},
   "source": [
    "#### `B - Remove small holes and objects`\n",
    "\n",
    "&#x1F453; **FYI:** This code block cleans up the semantic segmentation by filling small holes and/or removing small objects that can be considered errors in the initial segmentation. \n",
    "\n",
    "#### &#x1F6D1; &#x270D; **User Input Required:**\n",
    "\n",
    "Please specify the following values:\n",
    "- `hole_min_width`: the width of the smallest hole to be filled\n",
    "- `hole_max_width`: the width of the largest hole to be filled\n",
    "- `small_object_width`: the width of the largest object to be removed; any object smaller than this size will be removed\n",
    "- `fill_filter_method`: \"3D\" processes the image taking into account segmentation values in three dimensions (XYZ); \"slice-by-slice\" processes each Z-slice in the image separately, not considering the segmentation results in higher or lower Z planes."
   ]
  },
  {
   "cell_type": "code",
   "execution_count": 13,
   "metadata": {},
   "outputs": [],
   "source": [
    "#### USER INPUT REQUIRED ###\n",
    "cyto_hole_min_width = 0\n",
    "cyto_hole_max_width = 50\n",
    "\n",
    "cyto_small_object_width = 50\n",
    "\n",
    "cyto_fill_filter_method = \"slice_by_slice\""
   ]
  },
  {
   "cell_type": "markdown",
   "metadata": {},
   "source": [
    "#### &#x1F3C3; **Run code; no user input required**\n",
    "\n",
    "&#x1F453; **FYI:** This code block fills small holes and removes small objects using the settings above.\n",
    "\n",
    "Use the Napari viewer to iteratively adjust the filter settings as needed. "
   ]
  },
  {
   "cell_type": "code",
   "execution_count": 14,
   "metadata": {},
   "outputs": [
    {
     "data": {
      "text/plain": [
       "<Image layer '4-Cyto: Fill holes and remove small objects' at 0x1bbf57e6fb0>"
      ]
     },
     "execution_count": 14,
     "metadata": {},
     "output_type": "execute_result"
    }
   ],
   "source": [
    "# fill small holes and remove small objects\n",
    "cleaned_img2 = fill_and_filter_linear_size(bw, \n",
    "                                           hole_min=cyto_hole_min_width, \n",
    "                                           hole_max=cyto_hole_max_width, \n",
    "                                           min_size=cyto_small_object_width,\n",
    "                                           method=cyto_fill_filter_method)\n",
    "\n",
    "# force all sections of the cytoplasm to be labeled as 1 even if they are separated\n",
    "cytoplasm_mask = label_bool_as_uint16(cleaned_img2)\n",
    "\n",
    "# adding image to Napari as a new layer\n",
    "viewer.add_image(cytoplasm_mask, scale=scale, name=\"4-Cyto: Fill holes and remove small objects\", colormap=\"magenta\")"
   ]
  },
  {
   "cell_type": "markdown",
   "metadata": {},
   "source": [
    "### **`STEP 5` - Segmentation of nuclei ‘seeds’ from cytoplasm**\n",
    "\n",
    "&#x1F453; **FYI:** This code block uses the cytoplasm mask to create qpproximation of the nuclei. The nuclei \"seeds\" will be used to distinguish between individual cells in the image. The process includes a [binary opening](https://scikit-image.org/docs/stable/api/skimage.morphology.html#skimage.morphology.binary_opening) of the inverted cytoplasm masks; the binary opening step increases the likelihood that the nuclei and extracellular space are separated (i.e., without gaps connecting them). The nuclei objects are then selected by removing them and comparing what was removed to the previous output using a logical exclusive or function. The final nuclei output is then cleaned up with a fill and filter step.\n",
    "\n",
    "#### `A. Select nuclei from cytoplasm`\n",
    "\n",
    "#### &#x1F6D1; &#x270D; **User Input Required:**\n",
    "\n",
    "Please specify the following values:\n",
    "- `max_nuc_width`: the maximum expected width of the nuclei\n",
    "\n",
    "***Hint: if the background area is still included then your \"max_nuc_width\" value is too large.***\n",
    "\n",
    "*Note: the fill_and_filter_linear_size function is utilized here, but only the small object feature is initiated.*"
   ]
  },
  {
   "cell_type": "code",
   "execution_count": 15,
   "metadata": {},
   "outputs": [],
   "source": [
    "#### USER INPUT REQUIRED ###\n",
    "max_nuc_width = 350"
   ]
  },
  {
   "cell_type": "markdown",
   "metadata": {},
   "source": [
    "#### &#x1F3C3; **Run code; no user input required**\n",
    "\n",
    "&#x1F453; **FYI:** This code block selects the nuclei using the settings above.\n",
    "\n",
    "Use the Napari viewer to iteratively adjust the filter settings as needed. "
   ]
  },
  {
   "cell_type": "code",
   "execution_count": 16,
   "metadata": {},
   "outputs": [
    {
     "data": {
      "text/plain": [
       "<Image layer '5-Nuc: select nuclei' at 0x1bbf6cf0c10>"
      ]
     },
     "execution_count": 16,
     "metadata": {},
     "output_type": "execute_result"
    }
   ],
   "source": [
    "# invert cytoplasm mask\n",
    "cytoplasm_inverse = 1 - cytoplasm_mask\n",
    "\n",
    "# binary opening of inverted aggregate cytoplasm mask (erosion -> dilation)\n",
    "cytoplasm_inv_opened = binary_opening(cytoplasm_inverse, footprint=np.ones([3,3,3]))\n",
    "\n",
    "# fill nuclei in aggregate cytoplasm mask (hole size = user input)\n",
    "nuc_removed = fill_and_filter_linear_size(cytoplasm_inv_opened, \n",
    "                                          hole_max=0, \n",
    "                                          hole_min=0, \n",
    "                                          min_size=max_nuc_width, \n",
    "                                          method='3D')\n",
    "\n",
    "# logical **XOR** of the cytoplasm and the filled in cytoplasm resulting in the nucleus and any artifacts from binary opening\n",
    "nuc_objs = np.logical_xor(cytoplasm_inv_opened, nuc_removed)\n",
    "\n",
    "# adding image to Napari as a new layer\n",
    "viewer.add_image(nuc_objs, scale=scale, name=\"5-Nuc: select nuclei\", blending=\"additive\", opacity=0.3)"
   ]
  },
  {
   "cell_type": "markdown",
   "metadata": {},
   "source": [
    "### `B. Filter out small objects from nuclei mask`\n",
    "\n",
    "&#x1F453; **FYI:** This code removes small objects from the nuclei mask generated above.\n",
    "\n",
    "#### &#x1F6D1; &#x270D; **User Input Required:**\n",
    "\n",
    "Please specify the following values:\n",
    "- `nuc_min_obj_width`: the width of the largest object to be removed; any object smaller than this size will be removed\n",
    "\n",
    "*Note: the fill_and_filter_linear_size function is utilized here, but only the small object feature is initiated.*"
   ]
  },
  {
   "cell_type": "code",
   "execution_count": 17,
   "metadata": {},
   "outputs": [],
   "source": [
    "#### USER INPUT REQUIRED ###\n",
    "nuc_min_obj_width = 15"
   ]
  },
  {
   "cell_type": "markdown",
   "metadata": {},
   "source": [
    "#### &#x1F3C3; **Run code; no user input required**\n",
    "\n",
    "&#x1F453; **FYI:** This code block removes small objects using the settings above.\n",
    "\n",
    "Use the Napari viewer to iteratively adjust the filter settings as needed. "
   ]
  },
  {
   "cell_type": "code",
   "execution_count": 18,
   "metadata": {},
   "outputs": [
    {
     "data": {
      "text/plain": [
       "<Image layer '5-Nuc: Nuclei cleaned' at 0x1bbf67bdf60>"
      ]
     },
     "execution_count": 18,
     "metadata": {},
     "output_type": "execute_result"
    }
   ],
   "source": [
    "# remove small objects\n",
    "nuc_cleaned = fill_and_filter_linear_size(nuc_objs, \n",
    "                                          hole_max=0, \n",
    "                                          hole_min=0, \n",
    "                                          min_size=nuc_min_obj_width, \n",
    "                                          method='3D')\n",
    "nuc_labels = label_uint16(nuc_cleaned)\n",
    "\n",
    "# adding image to Napari as a new layer\n",
    "viewer.add_image(nuc_labels, scale=scale, name=\"5-Nuc: Nuclei cleaned\", colormap='blue')"
   ]
  },
  {
   "cell_type": "markdown",
   "metadata": {},
   "source": [
    "### **`STEP 6` - Combine nucleus masks and cytoplasm masks**\n",
    "\n",
    "&#x1F453; **FYI:** This code block adds the final nucleus and cytoplasm objects together to create the final cell mask. Then, the fill and filter function is applied to clean up any errors.\n",
    "\n",
    "#### &#x1F6D1; &#x270D; **User Input Required:**\n",
    "\n",
    "Please specify the following values:\n",
    "- `hole_max_width`: the width of the largest hole to be filled between the nuclei seeds and the cytoplasm mask"
   ]
  },
  {
   "cell_type": "code",
   "execution_count": 19,
   "metadata": {},
   "outputs": [],
   "source": [
    "#### USER INPUT REQUIRED ###\n",
    "cell_hole_max_width = 20"
   ]
  },
  {
   "cell_type": "markdown",
   "metadata": {},
   "source": [
    "#### &#x1F3C3; **Run code; no user input required**\n",
    "&#x1F453; **FYI:** This code block creates the cell mask and cleans it up using the settings specified above."
   ]
  },
  {
   "cell_type": "code",
   "execution_count": 20,
   "metadata": {},
   "outputs": [
    {
     "data": {
      "text/plain": [
       "<Image layer '6-Cell: Create cell mask' at 0x1bbf46e55d0>"
      ]
     },
     "execution_count": 20,
     "metadata": {},
     "output_type": "execute_result"
    }
   ],
   "source": [
    "# logical **OR** of the nucleus and cytoplasm\n",
    "cells = np.logical_or(nuc_labels, cytoplasm_mask)\n",
    "\n",
    "# fill gaps (hole size = user input)\n",
    "cell_multiple = fill_and_filter_linear_size(cells, \n",
    "                                            hole_min=0,\n",
    "                                            hole_max=cell_hole_max_width,\n",
    "                                            min_size=0,\n",
    "                                            method='3D')\n",
    "\n",
    "# adding image to Napari as a new layer\n",
    "viewer.add_image(cell_multiple, scale=scale, name=\"6-Cell: Create cell mask\")"
   ]
  },
  {
   "cell_type": "markdown",
   "metadata": {},
   "source": [
    "-----\n",
    "## **POST-POST-PROCESSING**"
   ]
  },
  {
   "cell_type": "markdown",
   "metadata": {},
   "source": [
    "### **`STEP 7` - Label cells based on nuclei 'seeds'; isolate highest intensity**\n",
    "\n",
    "#### &#x1F3C3; **Run code; no user input required**\n",
    "\n",
    "&#x1F453; **FYI:** This code block takes the semantic segmentation of the cell and creates an `instance segmentation`. The process is accomplished with the [watershed](https://scikit-image.org/docs/stable/api/skimage.segmentation.html#skimage.segmentation.watershed) function where the nuclei are used as seeds to determine the approximate center of each cell. The cell and associated nucleus with the highest combined organelle intensity is then selected for downstream single-cell analysis.\n",
    "\n",
    "Then, the cell with the highest combined intensity is selected.\n",
    "\n",
    "***Note: if there is more than one cell still appearing in the image, you may not have been able to segment a nuclei object associated to that cell. Consider repeating the nuclei segmentation steps above to improve your outcome here.***\n",
    "\n",
    "*In the Napari viewer, the image is added as a \"labels\" layer where each object appears as a different color. There should only be a single nucleus and cytoplasm remaining at this stage.*"
   ]
  },
  {
   "cell_type": "code",
   "execution_count": 21,
   "metadata": {},
   "outputs": [
    {
     "data": {
      "text/plain": [
       "<Labels layer '7-Cell: Select one cell' at 0x1bbf696e500>"
      ]
     },
     "execution_count": 21,
     "metadata": {},
     "output_type": "execute_result"
    }
   ],
   "source": [
    "# perform a masked inverted watershed with the aggregate cellmask segmentation and the nuclei seeds\n",
    "cell_labels = masked_inverted_watershed(cell_multiple, markers=nuc_labels, mask=cell_multiple, method='3D')\n",
    "\n",
    "# create a composite from each intensity channel after they have been min-max normalized\n",
    "norm_channels = [(min_max_intensity_normalization(img_data[c])) for c in range(len(img_data))]\n",
    "normed_signal = np.stack(norm_channels, axis=0)\n",
    "\n",
    "normed_composite = normed_signal.sum(axis=0)\n",
    "\n",
    "# find the cell mask that has the highest intensity\n",
    "all_labels = np.unique(cell_labels)[1:]\n",
    "total_signal = [normed_composite[cell_labels == label].sum() for label in all_labels]\n",
    "\n",
    "keep_label = all_labels[np.argmax(total_signal)]\n",
    "good_cell = cell_labels == keep_label\n",
    "\n",
    "# adding image to Napari as a new layer\n",
    "viewer.layers.clear()\n",
    "viewer.add_image(struct_img_raw, scale=scale)\n",
    "viewer.add_labels(good_cell, scale=scale, name=\"7-Cell: Select one cell\")"
   ]
  },
  {
   "cell_type": "markdown",
   "metadata": {},
   "source": [
    "-----\n",
    "## **POST-POST-PROCESSING**"
   ]
  },
  {
   "cell_type": "markdown",
   "metadata": {},
   "source": [
    "### **`STEP 8` - Segmentation of single nucleus from cytoplasm; cell mask applied**\n",
    "\n",
    "#### &#x1F6D1; &#x270D; **User Input Required:**\n",
    "\n",
    "Please specify the following values:\n",
    "- `cyto_small_object_width`: the width of the largest object to be removed; any object smaller than this size will be removed\n",
    "\n",
    "*Note: the fill_and_filter_linear_size function is utilized here, but only the small object feature is initiated.*"
   ]
  },
  {
   "cell_type": "code",
   "execution_count": 22,
   "metadata": {},
   "outputs": [],
   "source": [
    "#### USER INPUT REQUIRED ###\n",
    "cyto_small_object_width2 = 10"
   ]
  },
  {
   "cell_type": "markdown",
   "metadata": {},
   "source": [
    "#### &#x1F3C3; **Run code; no user input required**\n",
    "&#x1F453; **FYI:** This code block masks a single nuclei and single cytoplasm based on the individual cell selected above. \n",
    "\n",
    "*In the Napari viewer, the image is added as a \"labels\" layer where each object appears as a different color. There should only be a single nucleus and cytoplasm remaining at this stage.*"
   ]
  },
  {
   "cell_type": "code",
   "execution_count": 23,
   "metadata": {},
   "outputs": [
    {
     "data": {
      "image/png": "[encoded data removed]",
      "text/html": [
       "<img src=\"data:image/png;base64,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\" alt=\"\"></img>"
      ],
      "text/plain": [
       "<napari.utils.notebook_display.NotebookScreenshot at 0x1bbf6341870>"
      ]
     },
     "execution_count": 23,
     "metadata": {},
     "output_type": "execute_result"
    }
   ],
   "source": [
    "# logical **AND** of the cellmask and aggregate cytoplasm mask\n",
    "good_cyto = apply_mask(cytoplasm_mask, good_cell).astype(bool)\n",
    "\n",
    "# invert cytoplasm mask and clear border (nucleus mask)\n",
    "good_cyto_inverse = 1 - good_cyto\n",
    "nuc_single = clear_border(good_cyto_inverse)\n",
    "\n",
    "# remove small objects\n",
    "good_nuc = fill_and_filter_linear_size(nuc_single,\n",
    "                                       hole_min=0,\n",
    "                                       hole_max=0,\n",
    "                                       min_size=cyto_small_object_width2,\n",
    "                                       method='3D').astype(bool)\n",
    "\n",
    "# adding image to Napari as a new layer\n",
    "viewer.grid.enabled = True\n",
    "viewer.add_labels(good_nuc, scale=scale, name=\"8-Nuc: Select one nucleus\")\n",
    "viewer.add_labels(good_cyto, scale=scale, name=\"8-Cyto: Select one cytoplasm\")\n",
    "viewer.reset_view()\n",
    "\n",
    "# screenshot viewer\n",
    "nbscreenshot(viewer, canvas_only = False)"
   ]
  },
  {
   "cell_type": "markdown",
   "metadata": {},
   "source": [
    "-----\n",
    "## **EXPORT**"
   ]
  },
  {
   "cell_type": "markdown",
   "metadata": {},
   "source": [
    "### **`STEP 9` - Stack masks**\n",
    "\n",
    "#### &#x1F3C3; **Run code; no user input required**\n",
    "&#x1F453; **FYI:** This code block stacks the single nucleus, cell, and cytoplasm masks into one multichannel image."
   ]
  },
  {
   "cell_type": "code",
   "execution_count": 24,
   "metadata": {},
   "outputs": [
    {
     "name": "stdout",
     "output_type": "stream",
     "text": [
      "Stack mask file structure: (2, 18, 1688, 1688)\n",
      "The dimension of '2' represents the 'nucleus' and 'cell' channels, in that order.\n"
     ]
    }
   ],
   "source": [
    "stack = stack_masks(nuc_mask=good_nuc, cellmask=good_cell)\n",
    "print(f\"Stack mask file structure: {np.shape(stack)}\")\n",
    "print(f\"The dimension of '2' represents the 'nucleus' and 'cell' channels, in that order.\")"
   ]
  },
  {
   "cell_type": "markdown",
   "metadata": {},
   "source": [
    "-----\n",
    "## **SAVING**"
   ]
  },
  {
   "cell_type": "markdown",
   "metadata": {},
   "source": [
    "## **`Saving` - Save the segmentation output**\n",
    "\n",
    "#### &#x1F3C3; **Run code; no user input required**\n",
    "&#x1F453; **FYI:** This code block saves the instance segmentation output to the `out_data_path` specified earlier."
   ]
  },
  {
   "cell_type": "code",
   "execution_count": 25,
   "metadata": {},
   "outputs": [
    {
     "name": "stdout",
     "output_type": "stream",
     "text": [
      "saved file: 05052022_astro_control_2_Linear unmixing_0_cmle.ome-masks_B\n"
     ]
    }
   ],
   "source": [
    "out_file_n = export_inferred_organelle(stack, \"masks_B\", meta_dict, out_data_path)"
   ]
  },
  {
   "cell_type": "markdown",
   "metadata": {},
   "source": [
    "-----\n",
    "-----\n",
    "## **Define functions**\n",
    "The following code includes an example of how the workflow steps above are combined into functions. The final combined `infer_masks_B` function can be run below to process a single image. It is included in the [batch process notebook](batch_process_segmentations.ipynb) to run the above analysis on multiple cells. \n",
    "\n",
    "This function can utilized from infer-subc using:\n",
    "```python\n",
    "infer_subc.organelles.masks.infer_masks_B()\n",
    "```"
   ]
  },
  {
   "cell_type": "markdown",
   "metadata": {},
   "source": [
    "#### &#x1F3C3; **Run code; no user input required**\n",
    "&#x1F453; **FYI:** This code block defines the `_infer_cytoplasm_fromcomposite()`, function. It is applied below."
   ]
  },
  {
   "cell_type": "code",
   "execution_count": 26,
   "metadata": {},
   "outputs": [],
   "source": [
    "##########################\n",
    "# infer_cytoplasm_fromcomposite\n",
    "# alternative workflow \"b\"\n",
    "##########################\n",
    "def _infer_cytoplasm_fromcomposite(in_img: np.ndarray,\n",
    "                                  weights: list[int],\n",
    "                                  rescale: bool,\n",
    "                                  median_sz: int,\n",
    "                                  gauss_sig: float,\n",
    "                                  mo_method: str,\n",
    "                                  mo_adjust: float,\n",
    "                                  mo_cutoff_size: int,\n",
    "                                  min_hole_w: int,\n",
    "                                  max_hole_w: int,\n",
    "                                  small_obj_w: int,\n",
    "                                  fill_filter_method: str\n",
    "                                  ) -> np.ndarray:\n",
    "    \"\"\"\n",
    "    Procedure to infer cellmask from linear unmixed input.\n",
    "\n",
    "    Parameters\n",
    "    ------------\n",
    "    in_img: \n",
    "        a 3d image containing all the channels\n",
    "    weights:\n",
    "        a list of int that corresond to the weights for each channel in the composite; use 0 if a channel should not be included in the composite image\n",
    "    rescale:\n",
    "        True = rescale composite\n",
    "        False = don't rescale composite\n",
    "    nuclei_labels: \n",
    "        a 3d image containing the inferred nuclei labels\n",
    "    median_sz: \n",
    "        width of median filter for _cellmask_ signal\n",
    "    gauss_sig: \n",
    "        sigma for gaussian smoothing of _cellmask_ signal\n",
    "    mo_method: \n",
    "         which method to use for calculating global threshold. Options include:\n",
    "         \"triangle\" (or \"tri\"), \"median\" (or \"med\"), and \"ave_tri_med\" (or \"ave\").\n",
    "         \"ave\" refers the average of \"triangle\" threshold and \"mean\" threshold.\n",
    "    mo_adjust: \n",
    "        Masked Object threshold `local_adjust`\n",
    "    mo_cutoff_size: \n",
    "        Masked Object threshold `size_min`\n",
    "    max_hole_w: \n",
    "        hole filling cutoff for cellmask signal post-processing\n",
    "    small_obj_w: \n",
    "        minimu object size cutoff for cellmask signal post-processing\n",
    "    fill_filter_method:\n",
    "        determines if fill and filter should be run 'sice-by-slice' or in '3D' \n",
    "\n",
    "    Returns\n",
    "    -------------\n",
    "    cellmask_mask:\n",
    "        a logical/labels object defining boundaries of cellmask\n",
    "\n",
    "    \"\"\"\n",
    "    ###################\n",
    "    # EXTRACT\n",
    "    ###################\n",
    "    struct_img = make_aggregate(in_img, *weights, rescale)\n",
    "\n",
    "    ###################\n",
    "    # PRE_PROCESSING\n",
    "    ###################                         \n",
    "    struct_img = scale_and_smooth(struct_img,\n",
    "                                   median_size = median_sz, \n",
    "                                   gauss_sigma = gauss_sig)\n",
    "    \n",
    "\n",
    "    struct_img_non_lin = non_linear_cellmask_transform(struct_img)\n",
    "\n",
    "    ###################\n",
    "    # CORE_PROCESSING\n",
    "    ###################\n",
    "    struct_obj = masked_object_thresh(struct_img_non_lin, \n",
    "                                      global_method=mo_method, \n",
    "                                      cutoff_size=mo_cutoff_size, \n",
    "                                      local_adjust=mo_adjust)               \n",
    "\n",
    "    ###################\n",
    "    # POST_PROCESSING\n",
    "    ###################\n",
    "    struct_obj = fill_and_filter_linear_size(struct_obj, \n",
    "                                             hole_min=min_hole_w, \n",
    "                                             hole_max=max_hole_w, \n",
    "                                             min_size= small_obj_w,\n",
    "                                             method=fill_filter_method)\n",
    "\n",
    "    ###################\n",
    "    # POST- POST_PROCESSING\n",
    "    ###################\n",
    "    cellmask_out = label_bool_as_uint16(struct_obj)\n",
    "\n",
    "    return cellmask_out"
   ]
  },
  {
   "cell_type": "markdown",
   "metadata": {},
   "source": [
    "#### &#x1F3C3; **Run code; no user input required**\n",
    "\n",
    "&#x1F453; **FYI:** This code block applies the function above to your test image. The settings specified above are applied here."
   ]
  },
  {
   "cell_type": "code",
   "execution_count": 27,
   "metadata": {},
   "outputs": [
    {
     "name": "stdout",
     "output_type": "stream",
     "text": [
      "The segmentation output here matches the output created above: True\n"
     ]
    }
   ],
   "source": [
    "_CY_object = _infer_cytoplasm_fromcomposite(img_data,\n",
    "                                                 [w0, w1, w2, w3, w4, w5, w6, w7, w8, w9],\n",
    "                                                 cyto_rescale,\n",
    "                                                 cyto_med_filter_size,\n",
    "                                                 cyto_gaussian_smoothing_sigma,\n",
    "                                                 cyto_thresh_method,\n",
    "                                                 cyto_thresh_adj,\n",
    "                                                 cyto_cutoff_size,\n",
    "                                                 cyto_hole_min_width,\n",
    "                                                 cyto_hole_max_width,\n",
    "                                                 cyto_small_object_width,\n",
    "                                                 cyto_fill_filter_method)\n",
    "\n",
    "# confirm this output matches the output saved above\n",
    "print(f\"The segmentation output here matches the output created above: {np.all(cytoplasm_mask == _CY_object)}\")"
   ]
  },
  {
   "cell_type": "code",
   "execution_count": 28,
   "metadata": {},
   "outputs": [
    {
     "name": "stdout",
     "output_type": "stream",
     "text": [
      "The segmentation output here matches the output created above: True\n"
     ]
    }
   ],
   "source": [
    "from infer_subc.organelles.cytoplasm import infer_cytoplasm_fromcomposite\n",
    "CY = infer_cytoplasm_fromcomposite(img_data,\n",
    "                                    [w0, w1, w2, w3, w4, w5, w6, w7, w8, w9],\n",
    "                                    cyto_rescale,\n",
    "                                    cyto_med_filter_size,\n",
    "                                    cyto_gaussian_smoothing_sigma,\n",
    "                                    cyto_thresh_method,\n",
    "                                    cyto_thresh_adj,\n",
    "                                    cyto_cutoff_size,\n",
    "                                    cyto_hole_min_width,\n",
    "                                    cyto_hole_max_width,\n",
    "                                    cyto_small_object_width,\n",
    "                                    cyto_fill_filter_method) \n",
    "\n",
    "# confirm this output matches the output saved above\n",
    "print(f\"The segmentation output here matches the output created above: {np.all(CY == _CY_object)}\")"
   ]
  },
  {
   "cell_type": "markdown",
   "metadata": {},
   "source": [
    "#### &#x1F3C3; **Run code; no user input required**\n",
    "&#x1F453; **FYI:** This code block defines the `segment_nuclei_seeds()`, function. It is applied below."
   ]
  },
  {
   "cell_type": "code",
   "execution_count": 29,
   "metadata": {},
   "outputs": [],
   "source": [
    "def _segment_nuclei_seeds(cyto_seg: np.ndarray,\n",
    "                          max_nuclei_width: int,\n",
    "                          small_obj_width: int):\n",
    "    \"\"\" \n",
    "    Procedure to segment approximations of the nuclei from a binary mask of the cytoplasm (image with more than one cell)\n",
    "    \n",
    "    Parameters\n",
    "    ----------\n",
    "    cyto_seg: np.ndarray\n",
    "        a binary mask of the cytoplasm\n",
    "    max_nuclei_width: int\n",
    "        the maximum expected width of the nuclei\n",
    "    small_obj_width: int\n",
    "        width of the any small objects that may be left over after nuclei are selected (i.e., errors in the seg)\n",
    "\n",
    "    Returns\n",
    "    ----------\n",
    "    nuclei mask:\n",
    "        a labeled image of one or more nuclei\n",
    "    \"\"\"\n",
    "    # create the inverse of the cytoplasm and increase likelihood for object separation with binary opening\n",
    "    cytoplasm_inverse = 1 - cyto_seg\n",
    "    cytoplasm_inv_opened = binary_opening(cytoplasm_inverse, footprint=np.ones([3,3,3]))\n",
    "\n",
    "    # isolate the nuclei objects that fill be used as seeds for watershed\n",
    "    # these aren't exactly the inverse of the cytoplasm because of the binary opening\n",
    "    nuc_removed = fill_and_filter_linear_size(cytoplasm_inv_opened, \n",
    "                                            hole_max=0, \n",
    "                                            hole_min=0, \n",
    "                                            min_size=max_nuclei_width, \n",
    "                                            method='3D')\n",
    "\n",
    "    nuc_objs = np.logical_xor(cytoplasm_inv_opened, nuc_removed)\n",
    "\n",
    "    # remove an small debris leftover that aren't the correct size for nuclei\n",
    "    nuc_cleaned = fill_and_filter_linear_size(nuc_objs, \n",
    "                                            hole_max=0, \n",
    "                                            hole_min=0, \n",
    "                                            min_size=small_obj_width, \n",
    "                                            method='3D')\n",
    "    \n",
    "\n",
    "    return label_uint16(nuc_cleaned)"
   ]
  },
  {
   "cell_type": "markdown",
   "metadata": {},
   "source": [
    "#### &#x1F3C3; **Run code; no user input required**\n",
    "\n",
    "&#x1F453; **FYI:** This code block applies the function above to your test image. The settings specified above are applied here."
   ]
  },
  {
   "cell_type": "code",
   "execution_count": 30,
   "metadata": {},
   "outputs": [
    {
     "name": "stdout",
     "output_type": "stream",
     "text": [
      "The segmentation output here matches the output created above: True\n"
     ]
    }
   ],
   "source": [
    "_NU_object = _segment_nuclei_seeds(cytoplasm_mask, \n",
    "                                   max_nuclei_width=max_nuc_width,\n",
    "                                   small_obj_width=nuc_min_obj_width)\n",
    "\n",
    "\n",
    "# confirm this output matches the output saved above\n",
    "print(f\"The segmentation output here matches the output created above: {np.all(nuc_labels == _NU_object)}\")"
   ]
  },
  {
   "cell_type": "code",
   "execution_count": 31,
   "metadata": {},
   "outputs": [
    {
     "name": "stdout",
     "output_type": "stream",
     "text": [
      "The segmentation output here matches the output created above: True\n"
     ]
    }
   ],
   "source": [
    "from infer_subc.organelles.nuclei import segment_nuclei_seeds\n",
    "NU = segment_nuclei_seeds(cytoplasm_mask, \n",
    "                          max_nuclei_width=max_nuc_width, \n",
    "                          small_obj_width=nuc_min_obj_width)\n",
    "\n",
    "\n",
    "# confirm this output matches the output saved above\n",
    "print(f\"The segmentation output here matches the output created above: {np.all(NU == _NU_object)}\")"
   ]
  },
  {
   "cell_type": "markdown",
   "metadata": {},
   "source": [
    "#### &#x1F3C3; **Run code; no user input required**\n",
    "&#x1F453; **FYI:** This code block defines the `combine_cytoplasm_and_nuclei()`, function. It is applied below."
   ]
  },
  {
   "cell_type": "code",
   "execution_count": 32,
   "metadata": {},
   "outputs": [],
   "source": [
    "def _combine_cytoplasm_and_nuclei(cyto_seg: np.ndarray,\n",
    "                                  nuc_seg: np.ndarray,\n",
    "                                  fillhole_max: int):\n",
    "    \"\"\"\n",
    "    Function to combine the the cytoplasm and nuclei segmentations to produce the entire cell mask.\n",
    "\n",
    "    Parameters:\n",
    "    ----------\n",
    "    cyto_seg: np.ndarray,\n",
    "        image containing the cytoplasm segmentation\n",
    "    nuc_seg: np.ndarray,\n",
    "        image containing the nuclei segmentation\n",
    "    fillhole_max: int\n",
    "        size of the gaps between the nuclei and cytoplasm (usually small)\n",
    "    \"\"\" \n",
    "    \n",
    "    cells = np.logical_or(cyto_seg.astype(bool), nuc_seg.astype(bool))\n",
    "\n",
    "    cell_multiple = fill_and_filter_linear_size(cells, \n",
    "                                                hole_min=0,\n",
    "                                                hole_max=fillhole_max,\n",
    "                                                min_size=0,\n",
    "                                                method='3D')\n",
    "    \n",
    "    cell_area = cell_multiple.astype(bool)\n",
    "\n",
    "    return cell_area"
   ]
  },
  {
   "cell_type": "markdown",
   "metadata": {},
   "source": [
    "#### &#x1F3C3; **Run code; no user input required**\n",
    "\n",
    "&#x1F453; **FYI:** This code block applies the function above to your test image. The settings specified above are applied here."
   ]
  },
  {
   "cell_type": "code",
   "execution_count": 33,
   "metadata": {},
   "outputs": [
    {
     "name": "stdout",
     "output_type": "stream",
     "text": [
      "The segmentation output here matches the output created above: True\n"
     ]
    }
   ],
   "source": [
    "_CM_object = _combine_cytoplasm_and_nuclei(cytoplasm_mask, \n",
    "                                               nuc_labels, \n",
    "                                               cell_hole_max_width)\n",
    "\n",
    "# confirm this output matches the output saved above\n",
    "print(f\"The segmentation output here matches the output created above: {np.all(cell_multiple == _CM_object)}\")"
   ]
  },
  {
   "cell_type": "code",
   "execution_count": 34,
   "metadata": {},
   "outputs": [
    {
     "name": "stdout",
     "output_type": "stream",
     "text": [
      "The segmentation output here matches the output created above: True\n"
     ]
    }
   ],
   "source": [
    "from infer_subc.organelles.cellmask import combine_cytoplasm_and_nuclei\n",
    "CM = combine_cytoplasm_and_nuclei(cytoplasm_mask, \n",
    "                                               nuc_labels, \n",
    "                                               cell_hole_max_width)\n",
    "\n",
    "# confirm this output matches the output saved above\n",
    "print(f\"The segmentation output here matches the output created above: {np.all(CM == _CM_object)}\")"
   ]
  },
  {
   "cell_type": "markdown",
   "metadata": {},
   "source": [
    "#### &#x1F3C3; **Run code; no user input required**\n",
    "&#x1F453; **FYI:** This code block defines the `select_highest_intensity_cell()`, function. It is applied below."
   ]
  },
  {
   "cell_type": "code",
   "execution_count": 35,
   "metadata": {},
   "outputs": [],
   "source": [
    "def _select_highest_intensity_cell(raw_image: np.ndarray,\n",
    "                                   cell_seg: np.ndarray,\n",
    "                                   nuc_seg: np.ndarray):\n",
    "    \"\"\" \n",
    "    Create an instance segmentation of the cell area using a watershed operation based on nuclei seeds.\n",
    "    Then, select the cell with the highest combined organelle intensity.\n",
    "\n",
    "    Parameters:\n",
    "    ----------\n",
    "    raw_image: np.ndarray,\n",
    "        gray scale 3D multi-channel numpy array (CZYX)\n",
    "    cell_seg: np.ndarray,\n",
    "        binary cell segmentation with multiple cells in the FOV\n",
    "    nuc_seg: np.ndarray,\n",
    "        labeled nuclei segmentation with each nuclei having a different ID number (e.g., the result of the skimage label() function)\n",
    "    # labels_to_consider: Union(list, None)\n",
    "    #     a list of labels that should be considered when determining the highest intensity. Default is None which utilizes all possible labels in the cell image\n",
    "        \n",
    "    Output\n",
    "    ----------\n",
    "    good_cell: np.ndarray  \n",
    "        a binary image of the single cell with the highest total fluorescence intensity\n",
    "    \"\"\"\n",
    "    # instance segmentation of cell area with watershed function\n",
    "    cell_labels = masked_inverted_watershed(cell_seg, markers=nuc_seg, mask=cell_seg, method='3D')\n",
    "\n",
    "    # TODO: add this for if multiple cells of interest\n",
    "    # target_labels = None\n",
    "    # labels_in = cell_labels\n",
    "\n",
    "    # if target_labels is None:\n",
    "    #     all_labels = np.unique(cell_labels)[1:]\n",
    "    # else:\n",
    "    #     all_labels = np.unique(target_labels)[1:]\n",
    "\n",
    "    # create composite of all fluorescence channels after min-max normalization\n",
    "    norm_channels = [(min_max_intensity_normalization(raw_image[c])) for c in range(len(raw_image))]\n",
    "    normed_signal = np.stack(norm_channels, axis=0)\n",
    "    normed_composite = normed_signal.sum(axis=0)\n",
    "\n",
    "    # list of cell IDs to measure intensity of\n",
    "    all_labels = np.unique(cell_labels)[1:]\n",
    "\n",
    "    # measure total intensity in each cell from the ID list\n",
    "    total_signal = [normed_composite[cell_labels == label].sum() for label in all_labels]\n",
    "\n",
    "    # select the cell with the highest total intensity\n",
    "    keep_label = all_labels[np.argmax(total_signal)]\n",
    "    good_cell = cell_labels == keep_label\n",
    "\n",
    "    return good_cell"
   ]
  },
  {
   "cell_type": "markdown",
   "metadata": {},
   "source": [
    "#### &#x1F3C3; **Run code; no user input required**\n",
    "\n",
    "&#x1F453; **FYI:** This code block applies the function above to your test image. The settings specified above are applied here."
   ]
  },
  {
   "cell_type": "code",
   "execution_count": 36,
   "metadata": {},
   "outputs": [
    {
     "name": "stdout",
     "output_type": "stream",
     "text": [
      "The segmentation output here matches the output created above: True\n"
     ]
    }
   ],
   "source": [
    "_good_CM = _select_highest_intensity_cell(img_data, \n",
    "                                          cell_multiple, \n",
    "                                          nuc_labels)\n",
    "\n",
    "# confirm this output matches the output saved above\n",
    "print(f\"The segmentation output here matches the output created above: {np.all(good_cell == _good_CM)}\")"
   ]
  },
  {
   "cell_type": "code",
   "execution_count": 37,
   "metadata": {},
   "outputs": [
    {
     "name": "stdout",
     "output_type": "stream",
     "text": [
      "The segmentation output here matches the output created above: True\n"
     ]
    }
   ],
   "source": [
    "from infer_subc.organelles.cellmask import select_highest_intensity_cell\n",
    "good_CM = select_highest_intensity_cell(img_data, \n",
    "                                         cell_multiple, \n",
    "                                         nuc_labels)\n",
    "\n",
    "# confirm this output matches the output saved above\n",
    "print(f\"The segmentation output here matches the output created above: {np.all(good_CM == _good_CM)}\")"
   ]
  },
  {
   "cell_type": "markdown",
   "metadata": {},
   "source": [
    "#### &#x1F3C3; **Run code; no user input required**\n",
    "&#x1F453; **FYI:** This code block defines the `mask_cytoplasm_nuclei()`, function. It is applied below."
   ]
  },
  {
   "cell_type": "code",
   "execution_count": 38,
   "metadata": {},
   "outputs": [],
   "source": [
    "def _mask_cytoplasm_nuclei(cellmask: np.ndarray,\n",
    "                           cyto_seg: np.ndarray,\n",
    "                           small_obj_size: int):\n",
    "    \"\"\" \n",
    "    mask the cytoplasm with the cell mask to isolate the cytoplasmic area of intereste.\n",
    "    create a single nuclei segmentation from the inverse of the cytoplasm (no binary opening)\n",
    "\n",
    "    Parameters:\n",
    "    ----------\n",
    "    cellmask: \n",
    "        binary segmentation of a single cell\n",
    "    cyto_seg:\n",
    "        semantic segmentation of cytoplasm from multiple cells in an image\n",
    "    small_obj_size:\n",
    "        size of small objects to be removed from the final nucleus segmentation image\n",
    "    \"\"\"\n",
    "\n",
    "    good_cyto = apply_mask(cyto_seg, cellmask).astype(bool)\n",
    "\n",
    "    good_cyto_inverse = 1 - good_cyto\n",
    "\n",
    "    nuc_single = clear_border(good_cyto_inverse)\n",
    "\n",
    "    good_nuc = fill_and_filter_linear_size(nuc_single,\n",
    "                                        hole_min=0,\n",
    "                                        hole_max=0, \n",
    "                                        min_size=small_obj_size,\n",
    "                                        method='3D')\n",
    "    \n",
    "    # return good_nuc, good_cyto\n",
    "    # stack = stack_masks(nuc_mask=good_nuc, cellmask=cellmask, cyto_mask=good_cyto)\n",
    "    # Changed due to only nuc & cell output and addition of Step 9\n",
    "\n",
    "    return good_nuc"
   ]
  },
  {
   "cell_type": "markdown",
   "metadata": {},
   "source": [
    "#### &#x1F3C3; **Run code; no user input required**\n",
    "\n",
    "&#x1F453; **FYI:** This code block applies the function above to your test image. The settings specified above are applied here."
   ]
  },
  {
   "cell_type": "code",
   "execution_count": 39,
   "metadata": {},
   "outputs": [
    {
     "name": "stdout",
     "output_type": "stream",
     "text": [
      "The segmentation output here matches the output created above: True\n"
     ]
    }
   ],
   "source": [
    "_good_nuc = _mask_cytoplasm_nuclei(good_cell, \n",
    "                                  cytoplasm_mask, \n",
    "                                  cyto_small_object_width2)\n",
    "\n",
    "# confirm this output matches the output saved above\n",
    "print(f\"The segmentation output here matches the output created above: {np.all(good_nuc == _good_nuc)}\")"
   ]
  },
  {
   "cell_type": "code",
   "execution_count": 40,
   "metadata": {},
   "outputs": [
    {
     "name": "stdout",
     "output_type": "stream",
     "text": [
      "The segmentation output here matches the output created above: True\n"
     ]
    }
   ],
   "source": [
    "from infer_subc.organelles.nuclei import mask_cytoplasm_nuclei\n",
    "good_NUC = mask_cytoplasm_nuclei(good_cell, \n",
    "                                cytoplasm_mask, \n",
    "                                cyto_small_object_width2)\n",
    "\n",
    "# confirm this output matches the output saved above\n",
    "print(f\"The segmentation output here matches the output created above: {np.all(good_NUC == _good_nuc)}\")"
   ]
  },
  {
   "cell_type": "markdown",
   "metadata": {},
   "source": [
    "#### &#x1F3C3; **Run code; no user input required**\n",
    "&#x1F453; **FYI:** This code block defines the `infer_masks_B()`, function, the complete function that combines the three above and that will be used for batch processing. It is applied below."
   ]
  },
  {
   "cell_type": "code",
   "execution_count": 41,
   "metadata": {},
   "outputs": [],
   "source": [
    "def _infer_masks_B(in_img: np.ndarray,\n",
    "                   cyto_weights: list[int],\n",
    "                   cyto_rescale: bool,\n",
    "                   cyto_median_sz: int,\n",
    "                   cyto_gauss_sig: float,\n",
    "                   cyto_mo_method: str,\n",
    "                   cyto_mo_adjust: float,\n",
    "                   cyto_mo_cutoff_size: int,\n",
    "                   cyto_min_hole_w: int,\n",
    "                   cyto_max_hole_w: int,\n",
    "                   cyto_small_obj_w: int,\n",
    "                   cyto_fill_filter_method: str,\n",
    "                   max_nuclei_width: int,\n",
    "                   nuc_small_obj_width: int,\n",
    "                   cell_fillhole_max: int,\n",
    "                   cyto_small_object_width2: int) -> np.ndarray:\n",
    "    \n",
    "    \"\"\"\n",
    "    Procedure to infer cellmask from linear unmixed input.\n",
    "\n",
    "    Parameters\n",
    "    ------------\n",
    "    in_img: \n",
    "        a 3d image containing all the channels\n",
    "    weights:\n",
    "        a list of int that corresond to the weights for each channel in the composite; use 0 if a channel should not be included in the composite image\n",
    "    rescale:\n",
    "        True = rescale composite\n",
    "        False = don't rescale composite\n",
    "    nuclei_labels: \n",
    "        a 3d image containing the inferred nuclei labels\n",
    "    median_sz: \n",
    "        width of median filter for _cellmask_ signal\n",
    "    gauss_sig: \n",
    "        sigma for gaussian smoothing of _cellmask_ signal\n",
    "    mo_method: \n",
    "         which method to use for calculating global threshold. Options include:\n",
    "         \"triangle\" (or \"tri\"), \"median\" (or \"med\"), and \"ave_tri_med\" (or \"ave\").\n",
    "         \"ave\" refers the average of \"triangle\" threshold and \"mean\" threshold.\n",
    "    mo_adjust: \n",
    "        Masked Object threshold `local_adjust`\n",
    "    mo_cutoff_size: \n",
    "        Masked Object threshold `size_min`\n",
    "    max_hole_w: \n",
    "        hole filling cutoff for cellmask signal post-processing\n",
    "    small_obj_w: \n",
    "        minimum object size cutoff for cellmask signal post-processing\n",
    "    fill_filter_method:\n",
    "        determines if fill and filter should be run 'sice-by-slice' or in '3D' \n",
    "    cyto_fillhole_max: int\n",
    "        size of the gaps between the nuclei and cytoplasm (usually small)\n",
    "    max_nuclei_width: int\n",
    "        the maximum expected width of the nuclei\n",
    "    nuc_small_obj_width: int\n",
    "        width of the any small objects that may be left over after nuclei are selected (i.e., errors in the seg)\n",
    "    cell_fillhole_max: int\n",
    "        size of the gaps between the nuclei and cytoplasm (usually small)\n",
    "    cyto_small_object_width2: int\n",
    "        size of the gaps between the nuclei and cytoplasm (usually small)\n",
    "\n",
    "    Returns\n",
    "    -------------\n",
    "    mask_stack:\n",
    "        a three channel np.ndarray constisting of the nucleus, cell and cytoplasm masks (one object per channel)\n",
    "\n",
    "    \"\"\"\n",
    "    cytoplasms = infer_cytoplasm_fromcomposite(in_img, \n",
    "                                       cyto_weights,\n",
    "                                       cyto_rescale,\n",
    "                                       cyto_median_sz,\n",
    "                                       cyto_gauss_sig,\n",
    "                                       cyto_mo_method,\n",
    "                                       cyto_mo_adjust,\n",
    "                                       cyto_mo_cutoff_size,\n",
    "                                       cyto_min_hole_w,\n",
    "                                       cyto_max_hole_w,\n",
    "                                       cyto_small_obj_w,\n",
    "                                       cyto_fill_filter_method)\n",
    "    \n",
    "    nuclei_seeds = segment_nuclei_seeds(cytoplasms, \n",
    "                              max_nuclei_width, \n",
    "                              nuc_small_obj_width)\n",
    "    \n",
    "    cellmasks = combine_cytoplasm_and_nuclei(cytoplasms, nuclei_seeds, cell_fillhole_max)\n",
    "    \n",
    "    good_CM = select_highest_intensity_cell(in_img, cellmasks, nuclei_seeds)\n",
    "    \n",
    "    good_nuc = mask_cytoplasm_nuclei(good_CM, cytoplasms, cyto_small_object_width2)\n",
    "    \n",
    "    stack = stack_masks(nuc_mask=good_nuc, cellmask=good_CM)\n",
    "\n",
    "    return stack\n"
   ]
  },
  {
   "cell_type": "markdown",
   "metadata": {},
   "source": [
    "#### &#x1F3C3; **Run code; no user input required**\n",
    "\n",
    "&#x1F453; **FYI:** This code block applies the function above to your test image. The settings specified above are applied here."
   ]
  },
  {
   "cell_type": "code",
   "execution_count": 42,
   "metadata": {},
   "outputs": [
    {
     "name": "stdout",
     "output_type": "stream",
     "text": [
      "The segmentation output here matches the output created above: True\n"
     ]
    }
   ],
   "source": [
    "_stack_M = _infer_masks_B(img_data,\n",
    "                          [w0, w1, w2, w3, w4, w5, w6, w7, w8, w9],\n",
    "                          cyto_rescale,\n",
    "                          cyto_med_filter_size,\n",
    "                          cyto_gaussian_smoothing_sigma,\n",
    "                          cyto_thresh_method,\n",
    "                          cyto_thresh_adj,\n",
    "                          cyto_cutoff_size,\n",
    "                          cyto_hole_min_width,\n",
    "                          cyto_hole_max_width,\n",
    "                          cyto_small_object_width,\n",
    "                          cyto_fill_filter_method,\n",
    "                          max_nuc_width,\n",
    "                          nuc_min_obj_width,\n",
    "                          cell_hole_max_width,\n",
    "                          cyto_small_object_width2)\n",
    "\n",
    "# confirm this output matches the output saved above\n",
    "print(f\"The segmentation output here matches the output created above: {np.all(stack == _stack_M)}\")"
   ]
  },
  {
   "cell_type": "code",
   "execution_count": null,
   "metadata": {},
   "outputs": [],
   "source": [
    "from infer_subc.organelles.masks import infer_masks_B\n",
    "stack_M = infer_masks_B(img_data,\n",
    "                          [w0, w1, w2, w3, w4, w5, w6, w7, w8, w9],\n",
    "                          cyto_rescale,\n",
    "                          cyto_med_filter_size,\n",
    "                          cyto_gaussian_smoothing_sigma,\n",
    "                          cyto_thresh_method,\n",
    "                          cyto_thresh_adj,\n",
    "                          cyto_cutoff_size,\n",
    "                          cyto_hole_min_width,\n",
    "                          cyto_hole_max_width,\n",
    "                          cyto_small_object_width,\n",
    "                          cyto_fill_filter_method,\n",
    "                          max_nuc_width,\n",
    "                          nuc_min_obj_width,\n",
    "                          cell_hole_max_width,\n",
    "                          cyto_small_object_width2)\n",
    "\n",
    "# confirm this output matches the output saved above\n",
    "print(f\"The segmentation output here matches the output created above: {np.all(stack_M == _stack_M)}\")"
   ]
  },
  {
   "cell_type": "markdown",
   "metadata": {},
   "source": [
    "-------------\n",
    "### ✅ **INFER MASKS COMPLETE!**\n",
    "\n",
    "Now that a single cell has been identified for analysis, the organelle segmentions need to be completed. Continue on to complete the organelle notebooks (1.2 through 1.7) associated to each of the organelles you would like to include in your analysis:\n",
    "- Infer [`lysosomes`](1.2_infer_lysosome.ipynb)\n",
    "- Infer [`mitochondria`](1.3_infer_mitochondria.ipynb)\n",
    "- Infer [`golgi`](1.4_infer_golgi.ipynb)\n",
    "- Infer [`peroxisomes`](1.5_infer_peroxisome.ipynb)\n",
    "- Infer [`endoplasmic reticulum (ER)`](1.6_infer_ER.ipynb)\n",
    "- Infer [`lipid droplets`](1.7_infer_lipid_droplet.ipynb)"
   ]
  }
 ],
 "metadata": {
  "kernelspec": {
   "display_name": "infer-subc-sc",
   "language": "python",
   "name": "python3"
  },
  "language_info": {
   "codemirror_mode": {
    "name": "ipython",
    "version": 3
   },
   "file_extension": ".py",
   "mimetype": "text/x-python",
   "name": "python",
   "nbconvert_exporter": "python",
   "pygments_lexer": "ipython3",
   "version": "3.10.15"
  },
  "orig_nbformat": 4
 },
 "nbformat": 4,
 "nbformat_minor": 2
}
