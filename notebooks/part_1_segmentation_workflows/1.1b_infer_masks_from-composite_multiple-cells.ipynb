{
 "cells": [
  {
   "cell_type": "markdown",
   "metadata": {},
   "source": [
    "# **Infer `Cellmask` and `Nucleus`**\n",
    "\n",
    "***Prior to this notebook, you should have already run through [1.0_image_setup](1.0_image_setup.ipynb).***\n",
    "\n",
    "### ➡️ **Input:**\n",
    "In this workflow, a single or multi-channel confocal microscopy image of fluorescently tagged organelles will be used to \"infer\" (or segment) the cell and nucleus masks. The following setup is recommended for this pipeline:\n",
    "\n",
    "| **Imaging Requirements**|[**Masks Workflow (B)**](./1.1b_infer_masks_from-composite_multiple-cells.ipynb)| \n",
    "| :------------------------------------- |  :------:  |\n",
    "| Nuclei Marker                          |     ✘     |\n",
    "| Cell Membrane Marker                   |     ✘     |\n",
    "| Cytoplasmic Organelles                 |     ✔     |\n",
    "| Number of cells per image              |  Single or Multiple |\n",
    "| Applicable with sample data         | Astrocyte |\n",
    "\n",
    "*If your images are not compatible with this setup, consider the other 1.1_Masks Workflows available:*\n",
    "\n",
    "| **Imaging Requirements**|[**Masks Workflow**](./1.1_infer_masks_from-composite_with_nuc.ipynb)|[**Masks Workflow (A)**](./1.1a_infer_masks_from-composite_single_cell.ipynb)|[**Masks Workflow (C)**](./1.1c_infer_masks_from-composite_neuron_with_pm.ipynb)|[**Masks Workflow (D)**](./1.1d_infer_masks_from-composite_ipsc.ipynb)|\n",
    "| :------------------------------------- |  :------:  |  :------:  |  :------:  |  :------:  |\n",
    "| Nuclei Marker                          |     ✔     |      ✘     |     ✔     |     ✔     |\n",
    "| Cell Membrane Marker                   |     ✘     |      ✘     |     ✔     |     ✔     |\n",
    "| Cytoplasmic Organelles                 |     ✔     |      ✔     |     ✔     |     ✔     |\n",
    "| Number of cells per image              |  Single or Multiple  |   Single   | Single or Multiple | Single or Multiple |\n",
    "| Applicable with sample data         |  ✘  |   Neuron_1   | Neuron_2| IPSC |\n",
    "\n",
    "*This workflow utilizes similar logic to `Masks A`, but can be applied to images with multiple cells per field of view.*\n",
    "\n",
    "### **Included in this Notebook:**\n",
    "1. **Infer *cytoplasm*** - Segment the ***cytoplasm*** from a composite image of multiple organelle markers combined. The ***cell*** and ***nucleus*** masks will be derived from this image.\n",
    "    \n",
    "    *The combination of organelle markers used to create the composite image for the cytoplasm segmentation is based on the assumption that the organelle labels used will \"fill up\" the entire cytoplasm (not including the nucleus). This is NOT the most accurate method to determine the cell area, but is required in the case where membrane and nuclei markers can not be used or are not included. It is important to consider the specifics of your system as the cell type and labeling method may differ from the example used to optimize this workflow.*\n",
    "\n",
    "2. **Infer *nucleus*** - Segment the ***nucleus*** from an exclusive or (XOR) of the ***cytoplasm*** mask and a hole-filled version of the ***cytoplasm*** mask.\n",
    "3. **Infer *cellmask***\n",
    "Segment the ***cellmask*** by combining the ***nucleus*** and ***cytoplasm*** masks. To create an instance segmentation of the cellmask, the nuclei will be used as the seeds for the watershed operation. Then, the cell with the highest combined fluorescence intensity will be considered the main cell for analysis and everything else will be discarded. The nuclei and cytoplasm associated to that cell will be selected by masking.\n",
    "-----"
   ]
  },
  {
   "cell_type": "markdown",
   "metadata": {},
   "source": [
    "### 👣 **Summary of steps**  \n",
    "\n",
    "➡️ **EXTRACTION**\n",
    "- **`STEP 1`** - Create composite image\n",
    "\n",
    "    - determine weight to apply to each channel of the intensity image (w# = user input)\n",
    "    - rescale summed image intensities (rescale = user input)\n",
    "\n",
    "**PRE-PROCESSING**\n",
    "- **`STEP 2`** - Rescale and smooth image\n",
    "\n",
    "    - rescale intensity of composite image (min=0, max=1)\n",
    "    - median filter (median size = user input)\n",
    "    - gaussian filter (sigma = user input)\n",
    "\n",
    "- **`STEP 3`** - Log transform + Scharr edge detection\n",
    "\n",
    "    - perform a log transformation on the image\n",
    "    - apply Scharr edge detection filter\n",
    "    - combine log image and Scharr edge filtered intensity image\n",
    " \n",
    "**CORE PROCESSING**\n",
    "- **`STEP 4`** - Semantic segmentation of the cytoplasm\n",
    "\n",
    "    - (A) apply MO thresholding method from the Allen Cell [aicssegmentation](https://github.com/AllenCell/aics-segmentation) package (threshold options = user input)\n",
    "    - (B) fill holes and remove small objects (hole size = user input, object size = user input, method = user input)\n",
    "    \n",
    "- **`STEP 5`** - Segmentation of nuclei ‘seeds’ from cytoplasm\n",
    "\n",
    "    - (A) binary opening of inverted aggregate cytoplasm mask; remove the nuclei in aggregate cytoplasm mask (hole size = user input) and select the removed items with a logical **XOR** with the inverted cytoplasm\n",
    "    - (B) remove small objects (object size = user input)\n",
    "    \n",
    "- **`STEP 6`** - Combine nucleus masks and cytoplasm masks\n",
    "\n",
    "    - logical **OR** of the nucleus and cytoplasm\n",
    "    - fill gaps (hole size = user input)\n",
    "\n",
    "**POST-PROCESSING**\n",
    "- **`STEP 7`** - Label cells based on nuclei 'seeds'; isolate highest intensity\n",
    "\n",
    "    - perform a masked inverted watershed with the aggregate cellmask segmentation and the nuclei seeds\n",
    "    - select the label with the highest total intensity\n",
    "\n",
    "**POST-POST-PROCESSING**\n",
    "- **`STEP 8`** - Segmentation of single nucleus from cytoplasm; cell mask applied\n",
    "\n",
    "    - logical **AND** of the cellmask and aggregate cytoplasm mask\n",
    "    - invert cytoplasm mask and clear border (nucleus mask)\n",
    "    - fill holes (hole size = user input)\n",
    "    - remove small objects (object size = user input)\n",
    "\n",
    "**EXPORT** ➡️\n",
    "- **`STEP 9`** - Stack masks\n",
    "\n",
    "    - stack masks in order of nucleus, cellmask and cytoplasm mask"
   ]
  },
  {
   "cell_type": "markdown",
   "metadata": {},
   "source": [
    "---------------------\n",
    "## **IMPORTS AND LOAD IMAGE**\n",
    "Details about the functions included in this subsection are outlined in the [`1.0_image_setup`](1.0_image_setup.ipynb) notebook. Please visit that notebook first if you are confused about any of the code included here."
   ]
  },
  {
   "cell_type": "markdown",
   "metadata": {},
   "source": [
    "#### &#x1F3C3; **Run code; no user input required**"
   ]
  },
  {
   "cell_type": "code",
   "execution_count": 1,
   "metadata": {},
   "outputs": [],
   "source": [
    "from pathlib import Path\n",
    "import os\n",
    "\n",
    "import numpy as np\n",
    "import pandas as pd\n",
    "import napari\n",
    "from napari.utils.notebook_display import nbscreenshot\n",
    "\n",
    "from skimage.segmentation import clear_border\n",
    "from skimage.morphology import binary_opening\n",
    "from skimage.measure import label\n",
    "\n",
    "from infer_subc.core.file_io import (read_czi_image,\n",
    "                                     export_inferred_organelle,\n",
    "                                     list_image_files,\n",
    "                                     sample_input)        \n",
    "from infer_subc.core.img import *\n",
    "from infer_subc.organelles import non_linear_cellmask_transform\n",
    "\n",
    "%load_ext autoreload\n",
    "%autoreload 2\n"
   ]
  },
  {
   "cell_type": "markdown",
   "metadata": {},
   "source": [
    "#### &#x1F6D1; &#x270D; **User Input Required:**\n",
    "\n",
    "Please specify the following information about your data: `im_type`, `data_root_path`, `in_data_path`, and `out_data_path`."
   ]
  },
  {
   "cell_type": "code",
   "execution_count": 2,
   "metadata": {},
   "outputs": [],
   "source": [
    "### USER INPUT REQUIRED ###\n",
    "# If using the sample data, set cell_type to \"astrocyte\":\n",
    "# If not using the sample data, set cell_type to None\n",
    "sample_data_type = \"astrocyte\"\n",
    "\n",
    "# If you are not using the sample data, please edit \"USER SPECIFIED\" as necessary.\n",
    "## Define the path to the directory that contains the input image folder.\n",
    "data_root_path = Path(\"USER SPECIFIED\")\n",
    "\n",
    "# Specify the file type of your raw data that will be analyzed. Ex) \".czi\" or \".tiff\"\n",
    "im_type = \"USER SPECIFIED\"\n",
    "\n",
    "## Specify which subfolder that contains the input data and the input data file extension\n",
    "in_data_path = data_root_path / \"USER SPECIFIED\"\n",
    "\n",
    "## Specify the output folder to save the segmentation outputs if.\n",
    "## If its not already created, the code below will create it for you\n",
    "out_data_path = data_root_path / \"USER SPECIFIED\""
   ]
  },
  {
   "cell_type": "markdown",
   "metadata": {},
   "source": [
    "#### &#x1F3C3; **Run code; no user input required**"
   ]
  },
  {
   "cell_type": "code",
   "execution_count": 3,
   "metadata": {},
   "outputs": [
    {
     "data": {
      "text/html": [
       "<div>\n",
       "<style scoped>\n",
       "    .dataframe tbody tr th:only-of-type {\n",
       "        vertical-align: middle;\n",
       "    }\n",
       "\n",
       "    .dataframe tbody tr th {\n",
       "        vertical-align: top;\n",
       "    }\n",
       "\n",
       "    .dataframe thead th {\n",
       "        text-align: right;\n",
       "    }\n",
       "</style>\n",
       "<table border=\"1\" class=\"dataframe\">\n",
       "  <thead>\n",
       "    <tr style=\"text-align: right;\">\n",
       "      <th></th>\n",
       "      <th>Image Name</th>\n",
       "    </tr>\n",
       "  </thead>\n",
       "  <tbody>\n",
       "    <tr>\n",
       "      <th>0</th>\n",
       "      <td>c:\\Users\\redre\\Documents\\CohenLab\\scohen_lab_repo\\infer-subc\\sample_data\\example_astrocyte\\raw\\05122022_astro_control_2_Linear unmixing_0_cmle.ome.tiff</td>\n",
       "    </tr>\n",
       "  </tbody>\n",
       "</table>\n",
       "</div>"
      ],
      "text/plain": [
       "                                                                                                                                                Image Name\n",
       "0  c:\\Users\\redre\\Documents\\CohenLab\\scohen_lab_repo\\infer-subc\\sample_data\\example_astrocyte\\raw\\05122022_astro_control_2_Linear unmixing_0_cmle.ome.tiff"
      ]
     },
     "execution_count": 3,
     "metadata": {},
     "output_type": "execute_result"
    }
   ],
   "source": [
    "# If sample_data_type is set to \"astrocyte\", then the sample data is used and the directories are set\n",
    "if sample_data_type != None:\n",
    "    data_root_path, im_type, in_data_path, out_data_path = sample_input(sample_data_type)\n",
    "    \n",
    "# list files in the input folder\n",
    "img_file_list = list_image_files(in_data_path,im_type)\n",
    "pd.set_option('display.max_colwidth', None)\n",
    "pd.DataFrame({\"Image Name\":img_file_list})"
   ]
  },
  {
   "cell_type": "markdown",
   "metadata": {},
   "source": [
    "#### &#x1F6D1; &#x270D; **User Input Required:**\n",
    "\n",
    "Use the list above to specify which image you wish to analyze based on its index: `test_img_n`"
   ]
  },
  {
   "cell_type": "code",
   "execution_count": 4,
   "metadata": {},
   "outputs": [],
   "source": [
    "#### USER INPUT REQUIRED ###\n",
    "test_img_n = 0"
   ]
  },
  {
   "cell_type": "markdown",
   "metadata": {},
   "source": [
    "#### &#x1F3C3; **Run code; no user input required**"
   ]
  },
  {
   "cell_type": "code",
   "execution_count": 5,
   "metadata": {},
   "outputs": [
    {
     "name": "stdout",
     "output_type": "stream",
     "text": [
      "Metadata information\n",
      "File path: c:\\Users\\redre\\Documents\\CohenLab\\scohen_lab_repo\\infer-subc\\sample_data\\example_astrocyte\\raw\\05122022_astro_control_2_Linear unmixing_0_cmle.ome.tiff\n",
      "Channel 0 name: 05122022_astro_control_2_Linear unmixing_0_cmle.ome :: Channel:0\n",
      "Channel 1 name: 05122022_astro_control_2_Linear unmixing_0_cmle.ome :: Channel:1\n",
      "Channel 2 name: 05122022_astro_control_2_Linear unmixing_0_cmle.ome :: Channel:2\n",
      "Channel 3 name: 05122022_astro_control_2_Linear unmixing_0_cmle.ome :: Channel:3\n",
      "Channel 4 name: 05122022_astro_control_2_Linear unmixing_0_cmle.ome :: Channel:4\n",
      "Channel 5 name: 05122022_astro_control_2_Linear unmixing_0_cmle.ome :: Channel:5\n",
      "Scale (ZYX): (0.396091, 0.079947, 0.079947)\n",
      "Channel axis: 0\n",
      "\n",
      "Proceed to Napari window to view your selected image.\n"
     ]
    }
   ],
   "source": [
    "# load image and metadata\n",
    "test_img_name = img_file_list[test_img_n]\n",
    "img_data,meta_dict = read_czi_image(test_img_name)\n",
    "\n",
    "# metadata\n",
    "channel_names = meta_dict['name']\n",
    "meta = meta_dict['metadata']['aicsimage']\n",
    "scale = meta_dict['scale']\n",
    "channel_axis = meta_dict['channel_axis']\n",
    "file_path = meta_dict['file_name']\n",
    "print(\"Metadata information\")\n",
    "print(f\"File path: {file_path}\")\n",
    "for i in list(range(len(channel_names))):\n",
    "    print(f\"Channel {i} name: {channel_names[i]}\")\n",
    "print(f\"Scale (ZYX): {scale}\")\n",
    "print(f\"Channel axis: {channel_axis}\")\n",
    "\n",
    "# open viewer and add images\n",
    "viewer = napari.Viewer()\n",
    "for i in list(range(len(channel_names))):\n",
    "    viewer.add_image(img_data[i],\n",
    "                     scale=scale,\n",
    "                     name=f\"Channel {i}\")\n",
    "viewer.grid.enabled = True\n",
    "viewer.reset_view()\n",
    "print(\"\\nProceed to Napari window to view your selected image.\")"
   ]
  },
  {
   "cell_type": "markdown",
   "metadata": {},
   "source": [
    "-----\n",
    "\n",
    "## **EXTRACTION**"
   ]
  },
  {
   "cell_type": "markdown",
   "metadata": {},
   "source": [
    "### **`STEP 1` - Create composite image**\n",
    "\n",
    "&#x1F453; **FYI:** This code block creates a composite image of the organelle channels. The intensity of each channel is combined with specified weights. The resulting composite will be used to segment the cytoplasm area. \n",
    "\n",
    "*Hint: combine organelles in a way that produces a relatively even intensity throughout the cell.* \n",
    "\n",
    "#### &#x1F6D1; &#x270D; **User Input Required:**\n",
    "\n",
    "Please specify the following values:\n",
    "- `w0`: the weight of channel 0 (the first channel); a value of 0 will exclude this channel from the compostite; large values will cause this channel to be more prominent in the final composite image\n",
    "- `w1`: the weight of channel 1\n",
    "- `w2`: the weight of channel 2\n",
    "- `w3`: the weight of channel 3\n",
    "- `w4`: the weight of channel 4\n",
    "- `w5`: the weight of channel 5\n",
    "- `w6`: the weight of channel 6\n",
    "- `w7`: the weight of channel 7\n",
    "- `w8`: the weight of channel 8\n",
    "- `w9`: the weight of channel 9\n",
    "- `rescale`: \"True\" rescales the image so that the pixel/voxel with the highest intensity is set to 1 and the one with the lowest intensity is set to 0; \"False\" leaves the combined intensity values as is after the composite is made"
   ]
  },
  {
   "cell_type": "code",
   "execution_count": 6,
   "metadata": {},
   "outputs": [],
   "source": [
    "#### USER INPUT REQUIRED ###\n",
    "w0 = 2\n",
    "w1 = 2\n",
    "w2 = 3\n",
    "w3 = 1\n",
    "w4 = 4\n",
    "w5 = 2\n",
    "w6 = 0\n",
    "w7 = 0\n",
    "w8 = 0\n",
    "w9 = 0\n",
    "\n",
    "cyto_rescale = True"
   ]
  },
  {
   "cell_type": "markdown",
   "metadata": {},
   "source": [
    "#### &#x1F3C3; **Run code; no user input required**\n",
    "\n",
    "&#x1F453; **FYI:** This code block creates the composite and optionally rescales the image based on the settings above. The image is then added to Napari as a new layer for visual comparison to the input image. \n",
    "\n",
    "Use the Napari viewer to iteratively adjust the smoothing settings selected above."
   ]
  },
  {
   "cell_type": "code",
   "execution_count": 7,
   "metadata": {},
   "outputs": [
    {
     "data": {
      "text/plain": [
       "<Image layer '1-Cyto: Create composite' at 0x29a7da0a350>"
      ]
     },
     "execution_count": 7,
     "metadata": {},
     "output_type": "execute_result"
    }
   ],
   "source": [
    "# make aggregate and optionally rescale\n",
    "struct_img_raw = make_aggregate(img_data,\n",
    "                                weight_ch0= w0,\n",
    "                                weight_ch1= w1,\n",
    "                                weight_ch2= w2,\n",
    "                                weight_ch3= w3,\n",
    "                                weight_ch4= w4,\n",
    "                                weight_ch5= w5,\n",
    "                                weight_ch6= w6,\n",
    "                                weight_ch7= w7,\n",
    "                                weight_ch8= w8,\n",
    "                                weight_ch9= w9,\n",
    "                                rescale = cyto_rescale)\n",
    "\n",
    "# adding image to Napari as a new layer\n",
    "viewer.layers.clear()\n",
    "viewer.grid.enabled = False\n",
    "viewer.reset_view()\n",
    "viewer.add_image(img_data, scale=scale)\n",
    "viewer.add_image(struct_img_raw, scale=scale, name=\"1-Cyto: Create composite\")"
   ]
  },
  {
   "cell_type": "markdown",
   "metadata": {},
   "source": [
    "-----\n",
    "## **PRE-PROCESSING**"
   ]
  },
  {
   "cell_type": "markdown",
   "metadata": {},
   "source": [
    "### **`STEP 2` - Rescale and smooth image**\n",
    "\n",
    "&#x1F453; **FYI:** This code block rescales the image so that the pixel/voxel with the highest intensity is set to 1 and the one with the lowest intensity is set to 0. The image is then *optionally* smoothed using a Gaussian and/or median filter. \n",
    "\n",
    "<mark> Include more information on the Gaussian and median filtering methods here </mark>\n",
    "\n",
    "#### &#x1F6D1; &#x270D; **User Input Required:**\n",
    "\n",
    "Please specify the amount of filter to use for each method. Higher values indicate more smoothing:\n",
    "- `med_filter_size`: the size of the median filter to apply; if 0 is used, no filter will be applied\n",
    "- `gaussian_smoothing_sigma`: the sigma to apply in the Gaussian filtering step; if 0 is used, no filter will be applied"
   ]
  },
  {
   "cell_type": "code",
   "execution_count": 8,
   "metadata": {},
   "outputs": [],
   "source": [
    "#### USER INPUT REQUIRED ###\n",
    "cyto_med_filter_size = 0\n",
    "cyto_gaussian_smoothing_sigma = 0"
   ]
  },
  {
   "cell_type": "markdown",
   "metadata": {},
   "source": [
    "#### &#x1F3C3; **Run code; no user input required**\n",
    "\n",
    "&#x1F453; **FYI:** This code block rescales the image and applies the specified median and Gaussian filters. The image is then added to Napari as a new layer for visual comparison to the input image. \n",
    "\n",
    "Use the Napari viewer to iteratively adjust the smoothing settings selected above."
   ]
  },
  {
   "cell_type": "code",
   "execution_count": 9,
   "metadata": {},
   "outputs": [
    {
     "data": {
      "text/plain": [
       "<Image layer '2-Cyto: Rescale and Smooth' at 0x29a0c23e9e0>"
      ]
     },
     "execution_count": 9,
     "metadata": {},
     "output_type": "execute_result"
    }
   ],
   "source": [
    "# rescaling and smoothing input image\n",
    "structure_img_smooth = scale_and_smooth(struct_img_raw,\n",
    "                                        median_size = cyto_med_filter_size, \n",
    "                                        gauss_sigma = cyto_gaussian_smoothing_sigma)\n",
    "\n",
    "\n",
    "# adding image to Napari as a new layer\n",
    "viewer.add_image(structure_img_smooth, scale=scale, name=\"2-Cyto: Rescale and Smooth\")"
   ]
  },
  {
   "cell_type": "markdown",
   "metadata": {},
   "source": [
    "### **`STEP 3` - Log transform + Scharr edge detection**\n",
    "\n",
    "#### &#x1F3C3; **Run code; no user input required**\n",
    "\n",
    "&#x1F453; **FYI:** This code block applies a log transform and the [Scharr](https://scikit-image.org/docs/stable/api/skimage.filters.html#skimage.filters.scharr) edge detection filter.\n",
    "\n",
    "Use the Napari viewer to iteratively adjust the filter settings as needed.\n",
    "\n",
    "*Hint: it may be helpful to readjust the composite and smoothing settings to improve the outcome of this step.*"
   ]
  },
  {
   "cell_type": "code",
   "execution_count": 10,
   "metadata": {},
   "outputs": [
    {
     "data": {
      "text/plain": [
       "<Image layer '3-Cyto: Log Scharr edge detection' at 0x29a0279a770>"
      ]
     },
     "execution_count": 10,
     "metadata": {},
     "output_type": "execute_result"
    }
   ],
   "source": [
    "# log scale the image, apply the scharr edge detection filter to logged image, add the two images together\n",
    "composite_cytomask = non_linear_cellmask_transform(structure_img_smooth)\n",
    "\n",
    "# adding image to Napari as a new layer\n",
    "viewer.add_image(composite_cytomask, scale=scale, name=\"3-Cyto: Log Scharr edge detection\")"
   ]
  },
  {
   "cell_type": "markdown",
   "metadata": {},
   "source": [
    "-----\n",
    "## **CORE-PROCESSING**"
   ]
  },
  {
   "cell_type": "markdown",
   "metadata": {},
   "source": [
    "### **`STEP 4` - Semantic segmentation of the cytoplasm**\n",
    "#### `A. Global + local thresholding (AICSSeg – MO)`\n",
    "\n",
    "&#x1F453; **FYI:** This code block creates a semantic segmentation of the cytoplasmic area. `Semantic segmentation` is the process of deciding whether a pixel/voxel should be included in an object (labeled with a value of 1) or should be considered as part of the background (labeled with a value of 0). A semantic segmentation does not discern individual objects from one another.\n",
    "\n",
    "The masked_object_filter utilizes the 'MO' filter from the [`aics-segmentation`](https://github.com/AllenCell/aics-segmentation) package. AICS documentation states: \"The algorithm is a hybrid thresholding method combining two levels of thresholds. The steps are: [1] a global threshold is calculated, [2] extract each individual connected componet after applying the global threshold, [3] remove small objects, [4] within each remaining object, a local Otsu threshold is calculated and applied with an optional local threshold adjustment ratio (to make the segmentation more and less conservative). An extra check can be used in step [4], which requires the local Otsu threshold larger than 1/3 of global Otsu threhsold and otherwise this connected component is discarded.\"\n",
    "\n",
    "#### &#x1F6D1; &#x270D; **User Input Required:**\n",
    "\n",
    "Please specify the following values:\n",
    "- `thresh_method`: the global thresholding method; options include 'tri'/'triangle, 'med'/'median' or 'ave'/'ave_tri_med'. Triangle implements the [skimage.filters.threshold_triangle](https://scikit-image.org/docs/stable/api/skimage.filters.html#skimage.filters.threshold_triangle) method, median utilizes the 50th percentile of the intensities, and ave uses the average of the two methods to calculate the lower bound of the global threshold.\n",
    "- `cell_wise_min_area`: the minimum expected size of your object; smaller objects will be removed prior to local thresholding\n",
    "- `thresh_adj`: adjustment to make to the local threshold; larger values make the segmentation more stringent (less area included)"
   ]
  },
  {
   "cell_type": "code",
   "execution_count": 11,
   "metadata": {},
   "outputs": [],
   "source": [
    "#### USER INPUT REQUIRED ###\n",
    "cyto_thresh_method = 'med'\n",
    "cyto_cutoff_size =  200\n",
    "cyto_thresh_adj = 0.914286"
   ]
  },
  {
   "cell_type": "markdown",
   "metadata": {},
   "source": [
    "#### &#x1F3C3; **Run code; no user input required**\n",
    "\n",
    "&#x1F453; **FYI:** This code block executes the MO filter using the settings above.\n",
    "\n",
    "Use the Napari viewer to iteratively adjust the filter settings as needed."
   ]
  },
  {
   "cell_type": "code",
   "execution_count": 12,
   "metadata": {},
   "outputs": [
    {
     "data": {
      "text/plain": [
       "<Image layer '4-Cyto: MO filter' at 0x29a0b47ae00>"
      ]
     },
     "execution_count": 12,
     "metadata": {},
     "output_type": "execute_result"
    }
   ],
   "source": [
    "# threshold the composite image after log/edge detection using the MO filter function from aicssegmentation - this applies a global threshold, then a local threshold to produce a semantic segmentation\n",
    "bw = masked_object_thresh(composite_cytomask, \n",
    "                          global_method=cyto_thresh_method, \n",
    "                          cutoff_size=cyto_cutoff_size, \n",
    "                          local_adjust=cyto_thresh_adj)\n",
    "\n",
    "# adding image to Napari as a new layer\n",
    "viewer.add_image(bw, scale=scale, name=\"4-Cyto: MO filter\", opacity=0.3, colormap=\"cyan\", blending='additive')"
   ]
  },
  {
   "cell_type": "markdown",
   "metadata": {},
   "source": [
    "#### `B - Remove small holes and objects`\n",
    "\n",
    "&#x1F453; **FYI:** This code block cleans up the semantic segmentation by filling small holes and/or removing small objects that can be considered errors in the initial segmentation. \n",
    "\n",
    "#### &#x1F6D1; &#x270D; **User Input Required:**\n",
    "\n",
    "Please specify the following values:\n",
    "- `hole_min_width`: the width of the smallest hole to be filled\n",
    "- `hole_max_width`: the width of the largest hole to be filled\n",
    "- `small_object_width`: the width of the largest object to be removed; any object smaller than this size will be removed\n",
    "- `fill_filter_method`: \"3D\" processes the image taking into account segmentation values in three dimensions (XYZ); \"slice-by-slice\" processes each Z-slice in the image separately, not considering the segmentation results in higher or lower Z planes."
   ]
  },
  {
   "cell_type": "code",
   "execution_count": 13,
   "metadata": {},
   "outputs": [],
   "source": [
    "#### USER INPUT REQUIRED ###\n",
    "cyto_hole_min_width = 0\n",
    "cyto_hole_max_width = 50\n",
    "\n",
    "cyto_small_object_width = 50\n",
    "\n",
    "cyto_fill_filter_method = \"slice_by_slice\""
   ]
  },
  {
   "cell_type": "markdown",
   "metadata": {},
   "source": [
    "#### &#x1F3C3; **Run code; no user input required**\n",
    "\n",
    "&#x1F453; **FYI:** This code block fills small holes and removes small objects using the settings above.\n",
    "\n",
    "Use the Napari viewer to iteratively adjust the filter settings as needed. "
   ]
  },
  {
   "cell_type": "code",
   "execution_count": 14,
   "metadata": {},
   "outputs": [
    {
     "data": {
      "text/plain": [
       "<Image layer '4-Cyto: Fill holes and remove small objects' at 0x29a00b13670>"
      ]
     },
     "execution_count": 14,
     "metadata": {},
     "output_type": "execute_result"
    }
   ],
   "source": [
    "# fill small holes and remove small objects\n",
    "cleaned_img2 = fill_and_filter_linear_size(bw, \n",
    "                                           hole_min=cyto_hole_min_width, \n",
    "                                           hole_max=cyto_hole_max_width, \n",
    "                                           min_size=cyto_small_object_width,\n",
    "                                           method=cyto_fill_filter_method)\n",
    "\n",
    "# force all sections of the cytoplasm to be labeled as 1 even if they are separated\n",
    "cytoplasm_mask = label_bool_as_uint16(cleaned_img2)\n",
    "\n",
    "# adding image to Napari as a new layer\n",
    "viewer.add_image(cytoplasm_mask, scale=scale, name=\"4-Cyto: Fill holes and remove small objects\", colormap=\"magenta\")"
   ]
  },
  {
   "cell_type": "markdown",
   "metadata": {},
   "source": [
    "### **`STEP 5` - Segmentation of nuclei ‘seeds’ from cytoplasm**\n",
    "\n",
    "&#x1F453; **FYI:** This code block uses the cytoplasm mask to create qpproximation of the nuclei. The nuclei \"seeds\" will be used to distinguish between individual cells in the image. The process includes a [binary opening](https://scikit-image.org/docs/stable/api/skimage.morphology.html#skimage.morphology.binary_opening) of the inverted cytoplasm masks; the binary opening step increases the likelihood that the nuclei and extracellular space are separated (i.e., without gaps connecting them). The nuclei objects are then selected by removing them and comparing what was removed to the previous output using a logical exclusive or function. The final nuclei output is then cleaned up with a fill and filter step.\n",
    "\n",
    "#### `A. Select nuclei from cytoplasm`\n",
    "\n",
    "#### &#x1F6D1; &#x270D; **User Input Required:**\n",
    "\n",
    "Please specify the following values:\n",
    "- `max_nuc_width`: the maximum expected width of the nuclei\n",
    "\n",
    "***Hint: if the background area is still included then your \"max_nuc_width\" value is too large.***\n",
    "\n",
    "*Note: the fill_and_filter_linear_size function is utilized here, but only the small object feature is initiated.*"
   ]
  },
  {
   "cell_type": "code",
   "execution_count": 15,
   "metadata": {},
   "outputs": [],
   "source": [
    "#### USER INPUT REQUIRED ###\n",
    "max_nuc_width = 350"
   ]
  },
  {
   "cell_type": "markdown",
   "metadata": {},
   "source": [
    "#### &#x1F3C3; **Run code; no user input required**\n",
    "\n",
    "&#x1F453; **FYI:** This code block selects the nuclei using the settings above.\n",
    "\n",
    "Use the Napari viewer to iteratively adjust the filter settings as needed. "
   ]
  },
  {
   "cell_type": "code",
   "execution_count": 16,
   "metadata": {},
   "outputs": [
    {
     "data": {
      "text/plain": [
       "<Image layer '5-Nuc: select nuclei' at 0x29a08b5eb90>"
      ]
     },
     "execution_count": 16,
     "metadata": {},
     "output_type": "execute_result"
    }
   ],
   "source": [
    "# invert cytoplasm mask\n",
    "cytoplasm_inverse = 1 - cytoplasm_mask\n",
    "\n",
    "# binary opening of inverted aggregate cytoplasm mask (erosion -> dilation)\n",
    "cytoplasm_inv_opened = binary_opening(cytoplasm_inverse, footprint=np.ones([3,3,3]))\n",
    "\n",
    "# fill nuclei in aggregate cytoplasm mask (hole size = user input)\n",
    "nuc_removed = fill_and_filter_linear_size(cytoplasm_inv_opened, \n",
    "                                          hole_max=0, \n",
    "                                          hole_min=0, \n",
    "                                          min_size=max_nuc_width, \n",
    "                                          method='3D')\n",
    "\n",
    "# logical **XOR** of the cytoplasm and the filled in cytoplasm resulting in the nucleus and any artifacts from binary opening\n",
    "nuc_objs = np.logical_xor(cytoplasm_inv_opened, nuc_removed)\n",
    "\n",
    "# adding image to Napari as a new layer\n",
    "viewer.add_image(nuc_objs, scale=scale, name=\"5-Nuc: select nuclei\", blending=\"additive\", opacity=0.3)"
   ]
  },
  {
   "cell_type": "markdown",
   "metadata": {},
   "source": [
    "### `B. Filter out small objects from nuclei mask`\n",
    "\n",
    "&#x1F453; **FYI:** This code removes small objects from the nuclei mask generated above.\n",
    "\n",
    "#### &#x1F6D1; &#x270D; **User Input Required:**\n",
    "\n",
    "Please specify the following values:\n",
    "- `nuc_min_obj_width`: the width of the largest object to be removed; any object smaller than this size will be removed\n",
    "\n",
    "*Note: the fill_and_filter_linear_size function is utilized here, but only the small object feature is initiated.*"
   ]
  },
  {
   "cell_type": "code",
   "execution_count": 17,
   "metadata": {},
   "outputs": [],
   "source": [
    "#### USER INPUT REQUIRED ###\n",
    "nuc_min_obj_width = 15"
   ]
  },
  {
   "cell_type": "markdown",
   "metadata": {},
   "source": [
    "#### &#x1F3C3; **Run code; no user input required**\n",
    "\n",
    "&#x1F453; **FYI:** This code block removes small objects using the settings above.\n",
    "\n",
    "Use the Napari viewer to iteratively adjust the filter settings as needed. "
   ]
  },
  {
   "cell_type": "code",
   "execution_count": 18,
   "metadata": {},
   "outputs": [
    {
     "data": {
      "text/plain": [
       "<Image layer '5-Nuc: Nuclei cleaned' at 0x29a0b7eea70>"
      ]
     },
     "execution_count": 18,
     "metadata": {},
     "output_type": "execute_result"
    }
   ],
   "source": [
    "# remove small objects\n",
    "nuc_cleaned = fill_and_filter_linear_size(nuc_objs, \n",
    "                                          hole_max=0, \n",
    "                                          hole_min=0, \n",
    "                                          min_size=nuc_min_obj_width, \n",
    "                                          method='3D')\n",
    "nuc_labels = label_uint16(nuc_cleaned)\n",
    "\n",
    "# adding image to Napari as a new layer\n",
    "viewer.add_image(nuc_labels, scale=scale, name=\"5-Nuc: Nuclei cleaned\", colormap='blue')"
   ]
  },
  {
   "cell_type": "markdown",
   "metadata": {},
   "source": [
    "### **`STEP 6` - Combine nucleus masks and cytoplasm masks**\n",
    "\n",
    "&#x1F453; **FYI:** This code block adds the final nucleus and cytoplasm objects together to create the final cell mask. Then, the fill and filter function is applied to clean up any errors.\n",
    "\n",
    "#### &#x1F6D1; &#x270D; **User Input Required:**\n",
    "\n",
    "Please specify the following values:\n",
    "- `hole_max_width`: the width of the largest hole to be filled between the nuclei seeds and the cytoplasm mask"
   ]
  },
  {
   "cell_type": "code",
   "execution_count": 19,
   "metadata": {},
   "outputs": [],
   "source": [
    "#### USER INPUT REQUIRED ###\n",
    "cell_hole_max_width = 20"
   ]
  },
  {
   "cell_type": "markdown",
   "metadata": {},
   "source": [
    "#### &#x1F3C3; **Run code; no user input required**\n",
    "&#x1F453; **FYI:** This code block creates the cell mask and cleans it up using the settings specified above."
   ]
  },
  {
   "cell_type": "code",
   "execution_count": 20,
   "metadata": {},
   "outputs": [
    {
     "data": {
      "text/plain": [
       "<Image layer '6-Cell: Create cell mask' at 0x29a08019db0>"
      ]
     },
     "execution_count": 20,
     "metadata": {},
     "output_type": "execute_result"
    }
   ],
   "source": [
    "# logical **OR** of the nucleus and cytoplasm\n",
    "cells = np.logical_or(nuc_labels, cytoplasm_mask)\n",
    "\n",
    "# fill gaps (hole size = user input)\n",
    "cell_multiple = fill_and_filter_linear_size(cells, \n",
    "                                            hole_min=0,\n",
    "                                            hole_max=cell_hole_max_width,\n",
    "                                            min_size=0,\n",
    "                                            method='3D')\n",
    "\n",
    "# adding image to Napari as a new layer\n",
    "viewer.add_image(cell_multiple, scale=scale, name=\"6-Cell: Create cell mask\")"
   ]
  },
  {
   "cell_type": "markdown",
   "metadata": {},
   "source": [
    "-----\n",
    "## **POST-POST-PROCESSING**"
   ]
  },
  {
   "cell_type": "markdown",
   "metadata": {},
   "source": [
    "### **`STEP 7` - Label cells based on nuclei 'seeds'; isolate highest intensity**\n",
    "\n",
    "#### &#x1F3C3; **Run code; no user input required**\n",
    "\n",
    "&#x1F453; **FYI:** This code block takes the semantic segmentation of the cell and creates an `instance segmentation`. The process is accomplished with the [watershed](https://scikit-image.org/docs/stable/api/skimage.segmentation.html#skimage.segmentation.watershed) function where the nuclei are used as seeds to determine the approximate center of each cell. The cell and associated nucleus with the highest combined organelle intensity is then selected for downstream single-cell analysis.\n",
    "\n",
    "Then, the cell with the highest combined intensity is selected.\n",
    "\n",
    "***Note: if there is more than one cell still appearing in the image, you may not have been able to segment a nuclei object associated to that cell. Consider repeating the nuclei segmentation steps above to improve your outcome here.***\n",
    "\n",
    "*In the Napari viewer, the image is added as a \"labels\" layer where each object appears as a different color. There should only be a single nucleus and cytoplasm remaining at this stage.*"
   ]
  },
  {
   "cell_type": "code",
   "execution_count": 21,
   "metadata": {},
   "outputs": [
    {
     "data": {
      "text/plain": [
       "<Labels layer '7-Cell: Select one cell' at 0x29a0aacb7c0>"
      ]
     },
     "execution_count": 21,
     "metadata": {},
     "output_type": "execute_result"
    }
   ],
   "source": [
    "# perform a masked inverted watershed with the aggregate cellmask segmentation and the nuclei seeds\n",
    "cell_labels = masked_inverted_watershed(cell_multiple, markers=nuc_labels, mask=cell_multiple, method='3D')\n",
    "\n",
    "# create a composite from each intensity channel after they have been min-max normalized\n",
    "norm_channels = [(min_max_intensity_normalization(img_data[c])) for c in range(len(img_data))]\n",
    "normed_signal = np.stack(norm_channels, axis=0)\n",
    "\n",
    "normed_composite = normed_signal.sum(axis=0)\n",
    "\n",
    "# find the cell mask that has the highest intensity\n",
    "all_labels = np.unique(cell_labels)[1:]\n",
    "total_signal = [normed_composite[cell_labels == label].sum() for label in all_labels]\n",
    "\n",
    "keep_label = all_labels[np.argmax(total_signal)]\n",
    "good_cell = cell_labels == keep_label\n",
    "\n",
    "# adding image to Napari as a new layer\n",
    "viewer.layers.clear()\n",
    "viewer.add_image(struct_img_raw, scale=scale)\n",
    "viewer.add_labels(good_cell, scale=scale, name=\"7-Cell: Select one cell\")"
   ]
  },
  {
   "cell_type": "markdown",
   "metadata": {},
   "source": [
    "-----\n",
    "## **POST-POST-PROCESSING**"
   ]
  },
  {
   "cell_type": "markdown",
   "metadata": {},
   "source": [
    "### **`STEP 8` - Segmentation of single nucleus from cytoplasm; cell mask applied**\n",
    "\n",
    "#### &#x1F6D1; &#x270D; **User Input Required:**\n",
    "\n",
    "Please specify the following values:\n",
    "- `cyto_small_object_width`: the width of the largest object to be removed; any object smaller than this size will be removed\n",
    "\n",
    "*Note: the fill_and_filter_linear_size function is utilized here, but only the small object feature is initiated.*"
   ]
  },
  {
   "cell_type": "code",
   "execution_count": 22,
   "metadata": {},
   "outputs": [],
   "source": [
    "#### USER INPUT REQUIRED ###\n",
    "cyto_small_object_width2 = 10"
   ]
  },
  {
   "cell_type": "markdown",
   "metadata": {},
   "source": [
    "#### &#x1F3C3; **Run code; no user input required**\n",
    "&#x1F453; **FYI:** This code block masks a single nuclei and single cytoplasm based on the individual cell selected above. \n",
    "\n",
    "*In the Napari viewer, the image is added as a \"labels\" layer where each object appears as a different color. There should only be a single nucleus and cytoplasm remaining at this stage.*"
   ]
  },
  {
   "cell_type": "code",
   "execution_count": 23,
   "metadata": {},
   "outputs": [
    {
     "data": {
      "image/png": "[encoded data removed]",
      "text/html": [
       "<img src=\"data:image/png;base64,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\" alt=\"\"></img>"
      ],
      "text/plain": [
       "<napari.utils.notebook_display.NotebookScreenshot at 0x29a07d18880>"
      ]
     },
     "execution_count": 23,
     "metadata": {},
     "output_type": "execute_result"
    }
   ],
   "source": [
    "# logical **AND** of the cellmask and aggregate cytoplasm mask\n",
    "good_cyto = apply_mask(cytoplasm_mask, good_cell).astype(bool)\n",
    "\n",
    "# invert cytoplasm mask and clear border (nucleus mask)\n",
    "good_cyto_inverse = 1 - good_cyto\n",
    "nuc_single = clear_border(good_cyto_inverse)\n",
    "\n",
    "# remove small objects\n",
    "good_nuc = fill_and_filter_linear_size(nuc_single,\n",
    "                                       hole_min=0,\n",
    "                                       hole_max=0,\n",
    "                                       min_size=cyto_small_object_width2,\n",
    "                                       method='3D').astype(bool)\n",
    "\n",
    "# adding image to Napari as a new layer\n",
    "viewer.grid.enabled = True\n",
    "viewer.add_labels(good_nuc, scale=scale, name=\"8-Nuc: Select one nucleus\")\n",
    "viewer.add_labels(good_cyto, scale=scale, name=\"8-Cyto: Select one cytoplasm\")\n",
    "viewer.reset_view()\n",
    "\n",
    "# screenshot viewer\n",
    "nbscreenshot(viewer, canvas_only = False)"
   ]
  },
  {
   "cell_type": "markdown",
   "metadata": {},
   "source": [
    "-----\n",
    "## **EXPORT**"
   ]
  },
  {
   "cell_type": "markdown",
   "metadata": {},
   "source": [
    "### **`STEP 9` - Stack masks**\n",
    "\n",
    "#### &#x1F3C3; **Run code; no user input required**\n",
    "&#x1F453; **FYI:** This code block stacks the single nucleus, cell, and cytoplasm masks into one multichannel image."
   ]
  },
  {
   "cell_type": "code",
   "execution_count": null,
   "metadata": {},
   "outputs": [
    {
     "name": "stdout",
     "output_type": "stream",
     "text": [
      "Stack mask file structure: (2, 21, 1688, 1688)\n",
      "The dimension of '3' represents the 'nucleus', 'cell', and 'cytoplasm' channel, in that order.\n"
     ]
    }
   ],
   "source": [
    "stack = stack_masks(nuc_mask=good_nuc, cellmask=good_cell)\n",
    "print(f\"Stack mask file structure: {np.shape(stack)}\")\n",
    "print(f\"The dimension of '2' represents the 'nucleus' and 'cell' channels, in that order.\")"
   ]
  },
  {
   "cell_type": "markdown",
   "metadata": {},
   "source": [
    "-----\n",
    "## **SAVING**"
   ]
  },
  {
   "cell_type": "markdown",
   "metadata": {},
   "source": [
    "## **`Saving` - Save the segmentation output**\n",
    "\n",
    "#### &#x1F3C3; **Run code; no user input required**\n",
    "&#x1F453; **FYI:** This code block saves the instance segmentation output to the `out_data_path` specified earlier."
   ]
  },
  {
   "cell_type": "code",
   "execution_count": 25,
   "metadata": {},
   "outputs": [
    {
     "name": "stdout",
     "output_type": "stream",
     "text": [
      "saved file: 05122022_astro_control_2_Linear unmixing_0_cmle.ome-masks_B\n"
     ]
    }
   ],
   "source": [
    "out_file_n = export_inferred_organelle(stack, \"masks_B\", meta_dict, out_data_path)"
   ]
  },
  {
   "cell_type": "markdown",
   "metadata": {},
   "source": [
    "-----\n",
    "-----\n",
    "## **Define functions**\n",
    "The following code includes an example of how the workflow steps above are combined into functions. The final combined `infer_masks_B` function can be run below to process a single image. It is included in the [batch process notebook](batch_process_segmentations.ipynb) to run the above analysis on multiple cells. \n",
    "\n",
    "This function can utilized from infer-subc using:\n",
    "```python\n",
    "infer_subc.organelles.masks.infer_masks_B()\n",
    "```"
   ]
  },
  {
   "cell_type": "markdown",
   "metadata": {},
   "source": [
    "#### &#x1F3C3; **Run code; no user input required**\n",
    "&#x1F453; **FYI:** This code block defines the `_infer_cytoplasm_fromcomposite()`, function. It is applied below."
   ]
  },
  {
   "cell_type": "code",
   "execution_count": 26,
   "metadata": {},
   "outputs": [],
   "source": [
    "##########################\n",
    "# infer_cytoplasm_fromcomposite\n",
    "# alternative workflow \"b\"\n",
    "##########################\n",
    "def _infer_cytoplasm_fromcomposite(in_img: np.ndarray,\n",
    "                                  weights: list[int],\n",
    "                                  rescale: bool,\n",
    "                                  median_sz: int,\n",
    "                                  gauss_sig: float,\n",
    "                                  mo_method: str,\n",
    "                                  mo_adjust: float,\n",
    "                                  mo_cutoff_size: int,\n",
    "                                  min_hole_w: int,\n",
    "                                  max_hole_w: int,\n",
    "                                  small_obj_w: int,\n",
    "                                  fill_filter_method: str\n",
    "                                  ) -> np.ndarray:\n",
    "    \"\"\"\n",
    "    Procedure to infer cellmask from linear unmixed input.\n",
    "\n",
    "    Parameters\n",
    "    ------------\n",
    "    in_img: \n",
    "        a 3d image containing all the channels\n",
    "    weights:\n",
    "        a list of int that corresond to the weights for each channel in the composite; use 0 if a channel should not be included in the composite image\n",
    "    rescale:\n",
    "        True = rescale composite\n",
    "        False = don't rescale composite\n",
    "    nuclei_labels: \n",
    "        a 3d image containing the inferred nuclei labels\n",
    "    median_sz: \n",
    "        width of median filter for _cellmask_ signal\n",
    "    gauss_sig: \n",
    "        sigma for gaussian smoothing of _cellmask_ signal\n",
    "    mo_method: \n",
    "         which method to use for calculating global threshold. Options include:\n",
    "         \"triangle\" (or \"tri\"), \"median\" (or \"med\"), and \"ave_tri_med\" (or \"ave\").\n",
    "         \"ave\" refers the average of \"triangle\" threshold and \"mean\" threshold.\n",
    "    mo_adjust: \n",
    "        Masked Object threshold `local_adjust`\n",
    "    mo_cutoff_size: \n",
    "        Masked Object threshold `size_min`\n",
    "    max_hole_w: \n",
    "        hole filling cutoff for cellmask signal post-processing\n",
    "    small_obj_w: \n",
    "        minimu object size cutoff for cellmask signal post-processing\n",
    "    fill_filter_method:\n",
    "        determines if fill and filter should be run 'sice-by-slice' or in '3D' \n",
    "\n",
    "    Returns\n",
    "    -------------\n",
    "    cellmask_mask:\n",
    "        a logical/labels object defining boundaries of cellmask\n",
    "\n",
    "    \"\"\"\n",
    "    ###################\n",
    "    # EXTRACT\n",
    "    ###################\n",
    "    struct_img = make_aggregate(in_img, *weights, rescale)\n",
    "\n",
    "    ###################\n",
    "    # PRE_PROCESSING\n",
    "    ###################                         \n",
    "    struct_img = scale_and_smooth(struct_img,\n",
    "                                   median_size = median_sz, \n",
    "                                   gauss_sigma = gauss_sig)\n",
    "    \n",
    "\n",
    "    struct_img_non_lin = non_linear_cellmask_transform(struct_img)\n",
    "\n",
    "    ###################\n",
    "    # CORE_PROCESSING\n",
    "    ###################\n",
    "    struct_obj = masked_object_thresh(struct_img_non_lin, \n",
    "                                      global_method=mo_method, \n",
    "                                      cutoff_size=mo_cutoff_size, \n",
    "                                      local_adjust=mo_adjust)               \n",
    "\n",
    "    ###################\n",
    "    # POST_PROCESSING\n",
    "    ###################\n",
    "    struct_obj = fill_and_filter_linear_size(struct_obj, \n",
    "                                             hole_min=min_hole_w, \n",
    "                                             hole_max=max_hole_w, \n",
    "                                             min_size= small_obj_w,\n",
    "                                             method=fill_filter_method)\n",
    "\n",
    "    ###################\n",
    "    # POST- POST_PROCESSING\n",
    "    ###################\n",
    "    cellmask_out = label_bool_as_uint16(struct_obj)\n",
    "\n",
    "    return cellmask_out"
   ]
  },
  {
   "cell_type": "markdown",
   "metadata": {},
   "source": [
    "#### &#x1F3C3; **Run code; no user input required**\n",
    "\n",
    "&#x1F453; **FYI:** This code block applies the function above to your test image. The settings specified above are applied here."
   ]
  },
  {
   "cell_type": "code",
   "execution_count": 27,
   "metadata": {},
   "outputs": [
    {
     "name": "stdout",
     "output_type": "stream",
     "text": [
      "The segmentation output here matches the output created above: True\n"
     ]
    }
   ],
   "source": [
    "_CY_object = _infer_cytoplasm_fromcomposite(img_data,\n",
    "                                                 [w0, w1, w2, w3, w4, w5, w6, w7, w8, w9],\n",
    "                                                 cyto_rescale,\n",
    "                                                 cyto_med_filter_size,\n",
    "                                                 cyto_gaussian_smoothing_sigma,\n",
    "                                                 cyto_thresh_method,\n",
    "                                                 cyto_thresh_adj,\n",
    "                                                 cyto_cutoff_size,\n",
    "                                                 cyto_hole_min_width,\n",
    "                                                 cyto_hole_max_width,\n",
    "                                                 cyto_small_object_width,\n",
    "                                                 cyto_fill_filter_method)\n",
    "\n",
    "# confirm this output matches the output saved above\n",
    "print(f\"The segmentation output here matches the output created above: {np.all(cytoplasm_mask == _CY_object)}\")"
   ]
  },
  {
   "cell_type": "code",
   "execution_count": 28,
   "metadata": {},
   "outputs": [
    {
     "name": "stdout",
     "output_type": "stream",
     "text": [
      "The segmentation output here matches the output created above: True\n"
     ]
    }
   ],
   "source": [
    "from infer_subc.organelles.cytoplasm import infer_cytoplasm_fromcomposite\n",
    "CY = infer_cytoplasm_fromcomposite(img_data,\n",
    "                                    [w0, w1, w2, w3, w4, w5, w6, w7, w8, w9],\n",
    "                                    cyto_rescale,\n",
    "                                    cyto_med_filter_size,\n",
    "                                    cyto_gaussian_smoothing_sigma,\n",
    "                                    cyto_thresh_method,\n",
    "                                    cyto_thresh_adj,\n",
    "                                    cyto_cutoff_size,\n",
    "                                    cyto_hole_min_width,\n",
    "                                    cyto_hole_max_width,\n",
    "                                    cyto_small_object_width,\n",
    "                                    cyto_fill_filter_method) \n",
    "\n",
    "# confirm this output matches the output saved above\n",
    "print(f\"The segmentation output here matches the output created above: {np.all(CY == _CY_object)}\")"
   ]
  },
  {
   "cell_type": "markdown",
   "metadata": {},
   "source": [
    "#### &#x1F3C3; **Run code; no user input required**\n",
    "&#x1F453; **FYI:** This code block defines the `segment_nuclei_seeds()`, function. It is applied below."
   ]
  },
  {
   "cell_type": "code",
   "execution_count": 29,
   "metadata": {},
   "outputs": [],
   "source": [
    "def _segment_nuclei_seeds(cyto_seg: np.ndarray,\n",
    "                          max_nuclei_width: int,\n",
    "                          small_obj_width: int):\n",
    "    \"\"\" \n",
    "    Procedure to segment approximations of the nuclei from a binary mask of the cytoplasm (image with more than one cell)\n",
    "    \n",
    "    Parameters\n",
    "    ----------\n",
    "    cyto_seg: np.ndarray\n",
    "        a binary mask of the cytoplasm\n",
    "    max_nuclei_width: int\n",
    "        the maximum expected width of the nuclei\n",
    "    small_obj_width: int\n",
    "        width of the any small objects that may be left over after nuclei are selected (i.e., errors in the seg)\n",
    "\n",
    "    Returns\n",
    "    ----------\n",
    "    nuclei mask:\n",
    "        a labeled image of one or more nuclei\n",
    "    \"\"\"\n",
    "    # create the inverse of the cytoplasm and increase likelihood for object separation with binary opening\n",
    "    cytoplasm_inverse = 1 - cyto_seg\n",
    "    cytoplasm_inv_opened = binary_opening(cytoplasm_inverse, footprint=np.ones([3,3,3]))\n",
    "\n",
    "    # isolate the nuclei objects that fill be used as seeds for watershed\n",
    "    # these aren't exactly the inverse of the cytoplasm because of the binary opening\n",
    "    nuc_removed = fill_and_filter_linear_size(cytoplasm_inv_opened, \n",
    "                                            hole_max=0, \n",
    "                                            hole_min=0, \n",
    "                                            min_size=max_nuclei_width, \n",
    "                                            method='3D')\n",
    "\n",
    "    nuc_objs = np.logical_xor(cytoplasm_inv_opened, nuc_removed)\n",
    "\n",
    "    # remove an small debris leftover that aren't the correct size for nuclei\n",
    "    nuc_cleaned = fill_and_filter_linear_size(nuc_objs, \n",
    "                                            hole_max=0, \n",
    "                                            hole_min=0, \n",
    "                                            min_size=small_obj_width, \n",
    "                                            method='3D')\n",
    "    \n",
    "\n",
    "    return label_uint16(nuc_cleaned)"
   ]
  },
  {
   "cell_type": "markdown",
   "metadata": {},
   "source": [
    "#### &#x1F3C3; **Run code; no user input required**\n",
    "\n",
    "&#x1F453; **FYI:** This code block applies the function above to your test image. The settings specified above are applied here."
   ]
  },
  {
   "cell_type": "code",
   "execution_count": 30,
   "metadata": {},
   "outputs": [
    {
     "name": "stdout",
     "output_type": "stream",
     "text": [
      "The segmentation output here matches the output created above: True\n"
     ]
    }
   ],
   "source": [
    "_NU_object = _segment_nuclei_seeds(cytoplasm_mask, \n",
    "                                   max_nuclei_width=max_nuc_width,\n",
    "                                   small_obj_width=nuc_min_obj_width)\n",
    "\n",
    "\n",
    "# confirm this output matches the output saved above\n",
    "print(f\"The segmentation output here matches the output created above: {np.all(nuc_labels == _NU_object)}\")"
   ]
  },
  {
   "cell_type": "code",
   "execution_count": 31,
   "metadata": {},
   "outputs": [
    {
     "name": "stdout",
     "output_type": "stream",
     "text": [
      "The segmentation output here matches the output created above: True\n"
     ]
    }
   ],
   "source": [
    "from infer_subc.organelles.nuclei import segment_nuclei_seeds\n",
    "NU = segment_nuclei_seeds(cytoplasm_mask, \n",
    "                          max_nuclei_width=max_nuc_width, \n",
    "                          small_obj_width=nuc_min_obj_width)\n",
    "\n",
    "\n",
    "# confirm this output matches the output saved above\n",
    "print(f\"The segmentation output here matches the output created above: {np.all(NU == _NU_object)}\")"
   ]
  },
  {
   "cell_type": "markdown",
   "metadata": {},
   "source": [
    "#### &#x1F3C3; **Run code; no user input required**\n",
    "&#x1F453; **FYI:** This code block defines the `combine_cytoplasm_and_nuclei()`, function. It is applied below."
   ]
  },
  {
   "cell_type": "code",
   "execution_count": 32,
   "metadata": {},
   "outputs": [],
   "source": [
    "def _combine_cytoplasm_and_nuclei(cyto_seg: np.ndarray,\n",
    "                                  nuc_seg: np.ndarray,\n",
    "                                  fillhole_max: int):\n",
    "    \"\"\"\n",
    "    Function to combine the the cytoplasm and nuclei segmentations to produce the entire cell mask.\n",
    "\n",
    "    Parameters:\n",
    "    ----------\n",
    "    cyto_seg: np.ndarray,\n",
    "        image containing the cytoplasm segmentation\n",
    "    nuc_seg: np.ndarray,\n",
    "        image containing the nuclei segmentation\n",
    "    fillhole_max: int\n",
    "        size of the gaps between the nuclei and cytoplasm (usually small)\n",
    "    \"\"\" \n",
    "    \n",
    "    cells = np.logical_or(cyto_seg.astype(bool), nuc_seg.astype(bool))\n",
    "\n",
    "    cell_multiple = fill_and_filter_linear_size(cells, \n",
    "                                                hole_min=0,\n",
    "                                                hole_max=fillhole_max,\n",
    "                                                min_size=0,\n",
    "                                                method='3D')\n",
    "    \n",
    "    cell_area = cell_multiple.astype(bool)\n",
    "\n",
    "    return cell_area"
   ]
  },
  {
   "cell_type": "markdown",
   "metadata": {},
   "source": [
    "#### &#x1F3C3; **Run code; no user input required**\n",
    "\n",
    "&#x1F453; **FYI:** This code block applies the function above to your test image. The settings specified above are applied here."
   ]
  },
  {
   "cell_type": "code",
   "execution_count": 33,
   "metadata": {},
   "outputs": [
    {
     "name": "stdout",
     "output_type": "stream",
     "text": [
      "The segmentation output here matches the output created above: True\n"
     ]
    }
   ],
   "source": [
    "_CM_object = _combine_cytoplasm_and_nuclei(cytoplasm_mask, \n",
    "                                               nuc_labels, \n",
    "                                               cell_hole_max_width)\n",
    "\n",
    "# confirm this output matches the output saved above\n",
    "print(f\"The segmentation output here matches the output created above: {np.all(cell_multiple == _CM_object)}\")"
   ]
  },
  {
   "cell_type": "code",
   "execution_count": 34,
   "metadata": {},
   "outputs": [
    {
     "name": "stdout",
     "output_type": "stream",
     "text": [
      "The segmentation output here matches the output created above: True\n"
     ]
    }
   ],
   "source": [
    "from infer_subc.organelles.cellmask import combine_cytoplasm_and_nuclei\n",
    "CM = combine_cytoplasm_and_nuclei(cytoplasm_mask, \n",
    "                                               nuc_labels, \n",
    "                                               cell_hole_max_width)\n",
    "\n",
    "# confirm this output matches the output saved above\n",
    "print(f\"The segmentation output here matches the output created above: {np.all(CM == _CM_object)}\")"
   ]
  },
  {
   "cell_type": "markdown",
   "metadata": {},
   "source": [
    "#### &#x1F3C3; **Run code; no user input required**\n",
    "&#x1F453; **FYI:** This code block defines the `select_highest_intensity_cell()`, function. It is applied below."
   ]
  },
  {
   "cell_type": "code",
   "execution_count": 35,
   "metadata": {},
   "outputs": [],
   "source": [
    "def _select_highest_intensity_cell(raw_image: np.ndarray,\n",
    "                                   cell_seg: np.ndarray,\n",
    "                                   nuc_seg: np.ndarray):\n",
    "    \"\"\" \n",
    "    Create an instance segmentation of the cell area using a watershed operation based on nuclei seeds.\n",
    "    Then, select the cell with the highest combined organelle intensity.\n",
    "\n",
    "    Parameters:\n",
    "    ----------\n",
    "    raw_image: np.ndarray,\n",
    "        gray scale 3D multi-channel numpy array (CZYX)\n",
    "    cell_seg: np.ndarray,\n",
    "        binary cell segmentation with multiple cells in the FOV\n",
    "    nuc_seg: np.ndarray,\n",
    "        labeled nuclei segmentation with each nuclei having a different ID number (e.g., the result of the skimage label() function)\n",
    "    # labels_to_consider: Union(list, None)\n",
    "    #     a list of labels that should be considered when determining the highest intensity. Default is None which utilizes all possible labels in the cell image\n",
    "        \n",
    "    Output\n",
    "    ----------\n",
    "    good_cell: np.ndarray  \n",
    "        a binary image of the single cell with the highest total fluorescence intensity\n",
    "    \"\"\"\n",
    "    # instance segmentation of cell area with watershed function\n",
    "    cell_labels = masked_inverted_watershed(cell_seg, markers=nuc_seg, mask=cell_seg, method='3D')\n",
    "\n",
    "    # TODO: add this for if multiple cells of interest\n",
    "    # target_labels = None\n",
    "    # labels_in = cell_labels\n",
    "\n",
    "    # if target_labels is None:\n",
    "    #     all_labels = np.unique(cell_labels)[1:]\n",
    "    # else:\n",
    "    #     all_labels = np.unique(target_labels)[1:]\n",
    "\n",
    "    # create composite of all fluorescence channels after min-max normalization\n",
    "    norm_channels = [(min_max_intensity_normalization(raw_image[c])) for c in range(len(raw_image))]\n",
    "    normed_signal = np.stack(norm_channels, axis=0)\n",
    "    normed_composite = normed_signal.sum(axis=0)\n",
    "\n",
    "    # list of cell IDs to measure intensity of\n",
    "    all_labels = np.unique(cell_labels)[1:]\n",
    "\n",
    "    # measure total intensity in each cell from the ID list\n",
    "    total_signal = [normed_composite[cell_labels == label].sum() for label in all_labels]\n",
    "\n",
    "    # select the cell with the highest total intensity\n",
    "    keep_label = all_labels[np.argmax(total_signal)]\n",
    "    good_cell = cell_labels == keep_label\n",
    "\n",
    "    return good_cell"
   ]
  },
  {
   "cell_type": "markdown",
   "metadata": {},
   "source": [
    "#### &#x1F3C3; **Run code; no user input required**\n",
    "\n",
    "&#x1F453; **FYI:** This code block applies the function above to your test image. The settings specified above are applied here."
   ]
  },
  {
   "cell_type": "code",
   "execution_count": 36,
   "metadata": {},
   "outputs": [
    {
     "name": "stdout",
     "output_type": "stream",
     "text": [
      "The segmentation output here matches the output created above: True\n"
     ]
    }
   ],
   "source": [
    "_good_CM = _select_highest_intensity_cell(img_data, \n",
    "                                          cell_multiple, \n",
    "                                          nuc_labels)\n",
    "\n",
    "# confirm this output matches the output saved above\n",
    "print(f\"The segmentation output here matches the output created above: {np.all(good_cell == _good_CM)}\")"
   ]
  },
  {
   "cell_type": "code",
   "execution_count": 37,
   "metadata": {},
   "outputs": [
    {
     "name": "stdout",
     "output_type": "stream",
     "text": [
      "The segmentation output here matches the output created above: True\n"
     ]
    }
   ],
   "source": [
    "from infer_subc.organelles.cellmask import select_highest_intensity_cell\n",
    "good_CM = select_highest_intensity_cell(img_data, \n",
    "                                         cell_multiple, \n",
    "                                         nuc_labels)\n",
    "\n",
    "# confirm this output matches the output saved above\n",
    "print(f\"The segmentation output here matches the output created above: {np.all(good_CM == _good_CM)}\")"
   ]
  },
  {
   "cell_type": "markdown",
   "metadata": {},
   "source": [
    "#### &#x1F3C3; **Run code; no user input required**\n",
    "&#x1F453; **FYI:** This code block defines the `mask_cytoplasm_nuclei()`, function. It is applied below."
   ]
  },
  {
   "cell_type": "code",
   "execution_count": 38,
   "metadata": {},
   "outputs": [],
   "source": [
    "def _mask_cytoplasm_nuclei(cellmask: np.ndarray,\n",
    "                           cyto_seg: np.ndarray,\n",
    "                           small_obj_size: int):\n",
    "    \"\"\" \n",
    "    mask the cytoplasm with the cell mask to isolate the cytoplasmic area of intereste.\n",
    "    create a single nuclei segmentation from the inverse of the cytoplasm (no binary opening)\n",
    "\n",
    "    Parameters:\n",
    "    ----------\n",
    "    cellmask: \n",
    "        binary segmentation of a single cell\n",
    "    cyto_seg:\n",
    "        semantic segmentation of cytoplasm from multiple cells in an image\n",
    "    small_obj_size:\n",
    "        size of small objects to be removed from the final nucleus segmentation image\n",
    "    \"\"\"\n",
    "\n",
    "    good_cyto = apply_mask(cyto_seg, cellmask).astype(bool)\n",
    "\n",
    "    good_cyto_inverse = 1 - good_cyto\n",
    "\n",
    "    nuc_single = clear_border(good_cyto_inverse)\n",
    "\n",
    "    good_nuc = fill_and_filter_linear_size(nuc_single,\n",
    "                                        hole_min=0,\n",
    "                                        hole_max=0, \n",
    "                                        min_size=small_obj_size,\n",
    "                                        method='3D')\n",
    "    \n",
    "    # return good_nuc, good_cyto\n",
    "    # stack = stack_masks(nuc_mask=good_nuc, cellmask=cellmask, cyto_mask=good_cyto)\n",
    "    # Changed due to only nuc & cell output and addition of Step 9\n",
    "\n",
    "    return good_nuc"
   ]
  },
  {
   "cell_type": "markdown",
   "metadata": {},
   "source": [
    "#### &#x1F3C3; **Run code; no user input required**\n",
    "\n",
    "&#x1F453; **FYI:** This code block applies the function above to your test image. The settings specified above are applied here."
   ]
  },
  {
   "cell_type": "code",
   "execution_count": 39,
   "metadata": {},
   "outputs": [
    {
     "name": "stdout",
     "output_type": "stream",
     "text": [
      "The segmentation output here matches the output created above: True\n"
     ]
    }
   ],
   "source": [
    "_good_nuc = _mask_cytoplasm_nuclei(good_cell, \n",
    "                                  cytoplasm_mask, \n",
    "                                  cyto_small_object_width2)\n",
    "\n",
    "# confirm this output matches the output saved above\n",
    "print(f\"The segmentation output here matches the output created above: {np.all(good_nuc == _good_nuc)}\")"
   ]
  },
  {
   "cell_type": "code",
   "execution_count": 40,
   "metadata": {},
   "outputs": [
    {
     "name": "stdout",
     "output_type": "stream",
     "text": [
      "The segmentation output here matches the output created above: True\n"
     ]
    }
   ],
   "source": [
    "from infer_subc.organelles.nuclei import mask_cytoplasm_nuclei\n",
    "good_NUC = mask_cytoplasm_nuclei(good_cell, \n",
    "                                cytoplasm_mask, \n",
    "                                cyto_small_object_width2)\n",
    "\n",
    "# confirm this output matches the output saved above\n",
    "print(f\"The segmentation output here matches the output created above: {np.all(good_NUC == _good_nuc)}\")"
   ]
  },
  {
   "cell_type": "markdown",
   "metadata": {},
   "source": [
    "#### &#x1F3C3; **Run code; no user input required**\n",
    "&#x1F453; **FYI:** This code block defines the `infer_masks_B()`, function, the complete function that combines the three above and that will be used for batch processing. It is applied below."
   ]
  },
  {
   "cell_type": "code",
   "execution_count": 41,
   "metadata": {},
   "outputs": [],
   "source": [
    "def _infer_masks_B(in_img: np.ndarray,\n",
    "                   cyto_weights: list[int],\n",
    "                   cyto_rescale: bool,\n",
    "                   cyto_median_sz: int,\n",
    "                   cyto_gauss_sig: float,\n",
    "                   cyto_mo_method: str,\n",
    "                   cyto_mo_adjust: float,\n",
    "                   cyto_mo_cutoff_size: int,\n",
    "                   cyto_min_hole_w: int,\n",
    "                   cyto_max_hole_w: int,\n",
    "                   cyto_small_obj_w: int,\n",
    "                   cyto_fill_filter_method: str,\n",
    "                   max_nuclei_width: int,\n",
    "                   nuc_small_obj_width: int,\n",
    "                   cell_fillhole_max: int,\n",
    "                   cyto_small_object_width2: int) -> np.ndarray:\n",
    "    \n",
    "    \"\"\"\n",
    "    Procedure to infer cellmask from linear unmixed input.\n",
    "\n",
    "    Parameters\n",
    "    ------------\n",
    "    in_img: \n",
    "        a 3d image containing all the channels\n",
    "    weights:\n",
    "        a list of int that corresond to the weights for each channel in the composite; use 0 if a channel should not be included in the composite image\n",
    "    rescale:\n",
    "        True = rescale composite\n",
    "        False = don't rescale composite\n",
    "    nuclei_labels: \n",
    "        a 3d image containing the inferred nuclei labels\n",
    "    median_sz: \n",
    "        width of median filter for _cellmask_ signal\n",
    "    gauss_sig: \n",
    "        sigma for gaussian smoothing of _cellmask_ signal\n",
    "    mo_method: \n",
    "         which method to use for calculating global threshold. Options include:\n",
    "         \"triangle\" (or \"tri\"), \"median\" (or \"med\"), and \"ave_tri_med\" (or \"ave\").\n",
    "         \"ave\" refers the average of \"triangle\" threshold and \"mean\" threshold.\n",
    "    mo_adjust: \n",
    "        Masked Object threshold `local_adjust`\n",
    "    mo_cutoff_size: \n",
    "        Masked Object threshold `size_min`\n",
    "    max_hole_w: \n",
    "        hole filling cutoff for cellmask signal post-processing\n",
    "    small_obj_w: \n",
    "        minimum object size cutoff for cellmask signal post-processing\n",
    "    fill_filter_method:\n",
    "        determines if fill and filter should be run 'sice-by-slice' or in '3D' \n",
    "    cyto_fillhole_max: int\n",
    "        size of the gaps between the nuclei and cytoplasm (usually small)\n",
    "    max_nuclei_width: int\n",
    "        the maximum expected width of the nuclei\n",
    "    nuc_small_obj_width: int\n",
    "        width of the any small objects that may be left over after nuclei are selected (i.e., errors in the seg)\n",
    "    cell_fillhole_max: int\n",
    "        size of the gaps between the nuclei and cytoplasm (usually small)\n",
    "    cyto_small_object_width2: int\n",
    "        size of the gaps between the nuclei and cytoplasm (usually small)\n",
    "\n",
    "    Returns\n",
    "    -------------\n",
    "    mask_stack:\n",
    "        a three channel np.ndarray constisting of the nucleus, cell and cytoplasm masks (one object per channel)\n",
    "\n",
    "    \"\"\"\n",
    "    cytoplasms = infer_cytoplasm_fromcomposite(in_img, \n",
    "                                       cyto_weights,\n",
    "                                       cyto_rescale,\n",
    "                                       cyto_median_sz,\n",
    "                                       cyto_gauss_sig,\n",
    "                                       cyto_mo_method,\n",
    "                                       cyto_mo_adjust,\n",
    "                                       cyto_mo_cutoff_size,\n",
    "                                       cyto_min_hole_w,\n",
    "                                       cyto_max_hole_w,\n",
    "                                       cyto_small_obj_w,\n",
    "                                       cyto_fill_filter_method)\n",
    "    \n",
    "    nuclei_seeds = segment_nuclei_seeds(cytoplasms, \n",
    "                              max_nuclei_width, \n",
    "                              nuc_small_obj_width)\n",
    "    \n",
    "    cellmasks = combine_cytoplasm_and_nuclei(cytoplasms, nuclei_seeds, cell_fillhole_max)\n",
    "    \n",
    "    good_CM = select_highest_intensity_cell(in_img, cellmasks, nuclei_seeds)\n",
    "    \n",
    "    good_nuc = mask_cytoplasm_nuclei(good_CM, cytoplasms, cyto_small_object_width2)\n",
    "    \n",
    "    stack = stack_masks(nuc_mask=good_nuc, cellmask=good_CM)\n",
    "\n",
    "    return stack\n"
   ]
  },
  {
   "cell_type": "markdown",
   "metadata": {},
   "source": [
    "#### &#x1F3C3; **Run code; no user input required**\n",
    "\n",
    "&#x1F453; **FYI:** This code block applies the function above to your test image. The settings specified above are applied here."
   ]
  },
  {
   "cell_type": "code",
   "execution_count": 42,
   "metadata": {},
   "outputs": [
    {
     "name": "stdout",
     "output_type": "stream",
     "text": [
      "The segmentation output here matches the output created above: True\n"
     ]
    }
   ],
   "source": [
    "_stack_M = _infer_masks_B(img_data,\n",
    "                          [w0, w1, w2, w3, w4, w5, w6, w7, w8, w9],\n",
    "                          cyto_rescale,\n",
    "                          cyto_med_filter_size,\n",
    "                          cyto_gaussian_smoothing_sigma,\n",
    "                          cyto_thresh_method,\n",
    "                          cyto_thresh_adj,\n",
    "                          cyto_cutoff_size,\n",
    "                          cyto_hole_min_width,\n",
    "                          cyto_hole_max_width,\n",
    "                          cyto_small_object_width,\n",
    "                          cyto_fill_filter_method,\n",
    "                          max_nuc_width,\n",
    "                          nuc_min_obj_width,\n",
    "                          cell_hole_max_width,\n",
    "                          cyto_small_object_width2)\n",
    "\n",
    "# confirm this output matches the output saved above\n",
    "print(f\"The segmentation output here matches the output created above: {np.all(stack == _stack_M)}\")"
   ]
  },
  {
   "cell_type": "code",
   "execution_count": 43,
   "metadata": {},
   "outputs": [
    {
     "name": "stdout",
     "output_type": "stream",
     "text": [
      "The segmentation output here matches the output created above: True\n"
     ]
    },
    {
     "name": "stderr",
     "output_type": "stream",
     "text": [
      "C:\\Users\\redre\\Documents\\CohenLab\\scohen_lab_repo\\organelle-segmenter-plugin\\organelle_segmenter_plugin\\controller\\workflow_select_controller.py:26: FutureWarning: This event will be removed in 0.5.0. Please use viewer.layers.events instead\n",
      "  self.viewer.events.layers_change.connect(self._handle_layers_change)\n"
     ]
    },
    {
     "name": "stdout",
     "output_type": "stream",
     "text": [
      "masks_B.json, \n",
      "wtf \n",
      "btn_run_clicked - 0: {'rescale': True, 'weight_ch0': 2, 'weight_ch1': 2, 'weight_ch2': 3, 'weight_ch3': 1, 'weight_ch4': 4, 'weight_ch5': 2, 'weight_ch6': 0, 'weight_ch7': 0, 'weight_ch8': 0, 'weight_ch9': 0}\n",
      "selecting 0: struct_img_raw:masks_B\n",
      "btn_run_clicked - 0: {'rescale': True, 'weight_ch0': 2, 'weight_ch1': 2, 'weight_ch2': 3, 'weight_ch3': 1, 'weight_ch4': 4, 'weight_ch5': 2, 'weight_ch6': 0, 'weight_ch7': 0, 'weight_ch8': 0, 'weight_ch9': 0}\n",
      "wtf \n",
      "btn_run_clicked - 0: {'rescale': True, 'weight_ch0': 2, 'weight_ch1': 2, 'weight_ch2': 3, 'weight_ch3': 1, 'weight_ch4': 4, 'weight_ch5': 2, 'weight_ch6': 0, 'weight_ch7': 0, 'weight_ch8': 0, 'weight_ch9': 0}\n",
      "wtf \n",
      "btn_run_clicked - 0: {'rescale': True, 'weight_ch0': 2, 'weight_ch1': 2, 'weight_ch2': 3, 'weight_ch3': 1, 'weight_ch4': 4, 'weight_ch5': 2, 'weight_ch6': 0, 'weight_ch7': 0, 'weight_ch8': 0, 'weight_ch9': 0}\n",
      "selecting 0: struct_img_raw:masks_B\n",
      "btn_run_clicked - 0: {'rescale': True, 'weight_ch0': 2, 'weight_ch1': 2, 'weight_ch2': 3, 'weight_ch3': 1, 'weight_ch4': 4, 'weight_ch5': 2, 'weight_ch6': 0, 'weight_ch7': 0, 'weight_ch8': 0, 'weight_ch9': 0}\n",
      "selecting 1: Create composite image\n",
      "btn_run_clicked - 1: {'gauss_sigma': 0.0, 'median_size': 0}\n",
      "selecting 1: Create composite image\n",
      "btn_run_clicked - 1: {'gauss_sigma': 0.0, 'median_size': 0}\n",
      "selecting 1: Create composite image\n",
      "btn_run_clicked - 1: {'gauss_sigma': 0.0, 'median_size': 0}\n",
      "masks_B.json, \n",
      "selecting 0: b:masks_B\n",
      "btn_run_clicked - 0: {'rescale': True, 'weight_ch0': 2, 'weight_ch1': 2, 'weight_ch2': 3, 'weight_ch3': 1, 'weight_ch4': 4, 'weight_ch5': 2, 'weight_ch6': 0, 'weight_ch7': 0, 'weight_ch8': 0, 'weight_ch9': 0}\n",
      "selecting 1: Create composite image\n",
      "btn_run_clicked - 1: {'gauss_sigma': 0.0, 'median_size': 0}\n",
      "selecting 2: Rescale and smooth image\n",
      "btn_run_clicked - 2: None\n",
      "selecting 3: Log transform + Scharr edge detection\n",
      "btn_run_clicked - 3: {'cutoff_size': 200, 'fill_filter_method': 'slice_by_slice', 'global_method': 'median', 'local_adjust': 0.914286, 'max_hole_width': 50, 'min_hole_width': 0, 'small_obj_width': 50}\n",
      "selecting 0: b:masks_B\n",
      "btn_run_clicked - 0: {'rescale': True, 'weight_ch0': 2, 'weight_ch1': 2, 'weight_ch2': 3, 'weight_ch3': 1, 'weight_ch4': 4, 'weight_ch5': 2, 'weight_ch6': 0, 'weight_ch7': 0, 'weight_ch8': 0, 'weight_ch9': 0}\n",
      "selecting 1: Create composite image\n",
      "btn_run_clicked - 1: {'gauss_sigma': 0.0, 'median_size': 0}\n",
      "selecting 2: Rescale and smooth image\n",
      "btn_run_clicked - 2: None\n",
      "selecting 3: Log transform + Scharr edge detection\n",
      "btn_run_clicked - 3: {'cutoff_size': 200, 'fill_filter_method': 'slice_by_slice', 'global_method': 'median', 'local_adjust': 0.914286, 'max_hole_width': 50, 'min_hole_width': 0, 'small_obj_width': 50}\n",
      "selecting 4: Semantic segmentation of the cytoplasm\n",
      "btn_run_clicked - 4: {'max_nuclei_width': 350, 'small_obj_width': 15}\n",
      "selecting 4: Semantic segmentation of the cytoplasm\n",
      "selecting 5: Segmentation of nuclei 'seeds' from cytoplasm\n",
      "btn_run_clicked - 5: {'max_hole_width': 20}\n",
      "selecting 0: b:masks_B\n",
      "selecting 6: Combine nucleus and cytoplasm masks\n",
      "selecting 5: Segmentation of nuclei 'seeds' from cytoplasm\n",
      "btn_run_clicked - 6: None\n"
     ]
    }
   ],
   "source": [
    "from infer_subc.organelles.masks import infer_masks_B\n",
    "stack_M = infer_masks_B(img_data,\n",
    "                          [w0, w1, w2, w3, w4, w5, w6, w7, w8, w9],\n",
    "                          cyto_rescale,\n",
    "                          cyto_med_filter_size,\n",
    "                          cyto_gaussian_smoothing_sigma,\n",
    "                          cyto_thresh_method,\n",
    "                          cyto_thresh_adj,\n",
    "                          cyto_cutoff_size,\n",
    "                          cyto_hole_min_width,\n",
    "                          cyto_hole_max_width,\n",
    "                          cyto_small_object_width,\n",
    "                          cyto_fill_filter_method,\n",
    "                          max_nuc_width,\n",
    "                          nuc_min_obj_width,\n",
    "                          cell_hole_max_width,\n",
    "                          cyto_small_object_width2)\n",
    "\n",
    "# confirm this output matches the output saved above\n",
    "print(f\"The segmentation output here matches the output created above: {np.all(stack_M == _stack_M)}\")"
   ]
  },
  {
   "cell_type": "markdown",
   "metadata": {},
   "source": [
    "-------------\n",
    "### ✅ **INFER MASKS COMPLETE!**\n",
    "\n",
    "Now that a single cell has been identified for analysis, the organelle segmentions need to be completed. Continue on to complete the organelle notebooks (1.2 through 1.7) associated to each of the organelles you would like to include in your analysis:\n",
    "- Infer [`lysosomes`](1.2_infer_lysosome.ipynb)\n",
    "- Infer [`mitochondria`](1.3_infer_mitochondria.ipynb)\n",
    "- Infer [`golgi`](1.4_infer_golgi.ipynb)\n",
    "- Infer [`peroxisomes`](1.5_infer_peroxisome.ipynb)\n",
    "- Infer [`endoplasmic reticulum (ER)`](1.6_infer_ER.ipynb)\n",
    "- Infer [`lipid droplets`](1.7_infer_lipid_droplet.ipynb)"
   ]
  }
 ],
 "metadata": {
  "kernelspec": {
   "display_name": "infer-subc-sc",
   "language": "python",
   "name": "python3"
  },
  "language_info": {
   "codemirror_mode": {
    "name": "ipython",
    "version": 3
   },
   "file_extension": ".py",
   "mimetype": "text/x-python",
   "name": "python",
   "nbconvert_exporter": "python",
   "pygments_lexer": "ipython3",
   "version": "3.10.15"
  },
  "orig_nbformat": 4
 },
 "nbformat": 4,
 "nbformat_minor": 2
}
