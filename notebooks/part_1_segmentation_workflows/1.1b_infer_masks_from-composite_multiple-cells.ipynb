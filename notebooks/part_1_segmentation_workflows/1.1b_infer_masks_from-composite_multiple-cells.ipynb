{
 "cells": [
  {
   "cell_type": "markdown",
   "metadata": {},
   "source": [
    "# **Infer `Cellmask` and `Nucleus`**\n",
    "\n",
    "***Prior to this notebook, you should have already run through [1.0_image_setup](1.0_image_setup.ipynb).***\n",
    "\n",
    "### ➡️ **Input:**\n",
    "In this workflow, a single or multi-channel confocal microscopy image of fluorescently tagged organelles will be used to \"infer\" (or segment) the cell and nucleus masks. The following setup is recommended for this pipeline:\n",
    "\n",
    "| **Imaging Requirements**|[**Masks Workflow (B)**](./1.1b_infer_masks_from-composite_multiple-cells.ipynb)| \n",
    "| :------------------------------------- |  :------:  |\n",
    "| Nuclei Marker                          |     ✘     |\n",
    "| Cell Membrane Marker                   |     ✘     |\n",
    "| Cytoplasmic Organelles                 |     ✔     |\n",
    "| Number of cells per image              |  Multiple |\n",
    "| Applicable with sample data         | Astrocyte |\n",
    "\n",
    "*If your images are not compatible with this setup, consider the other 1.1_Masks Workflows available:*\n",
    "\n",
    "| **Imaging Requirements**|[**Masks Workflow**](./1.1_infer_masks_from-composite_with_nuc.ipynb)|[**Masks Workflow (A)**](./1.1a_infer_masks_from-composite_single_cell.ipynb)|[**Masks Workflow (C)**](./1.1c_infer_masks_from-composite_neuron_with_pm.ipynb)|\n",
    "| :------------------------------------- |  :------:  |  :------:  |  :------:  |\n",
    "| Nuclei Marker                          |     ✔     |      ✘     |     ✔     |\n",
    "| Cell Membrane Marker                   |     ✘     |      ✘     |     ✔     |\n",
    "| Cytoplasmic Organelles                 |     ✔     |      ✔     |     ✔     |\n",
    "| Number of cells per image              |  Single or Multiple  |   Single   | Single or Multiple |\n",
    "| Applicable with sample data         |  ✘  |   Neuron_1   | Neuron_2|\n",
    "\n",
    "*This workflow utilizes similar logic to `Masks A`, but can be applied to images with multiple cells per field of view.*\n",
    "\n",
    "### **Included in this Notebook:**\n",
    "1. **Infer *cytoplasm*** - Segment the ***cytoplasm*** from a composite image of multiple organelle markers combined. The ***cell*** and ***nucleus*** masks will be derived from this image.\n",
    "    \n",
    "    *The combination of organelle markers used to create the composite image for the cytoplasm segmentation is based on the assumption that the organelle labels used will \"fill up\" the entire cytoplasm (not including the nucleus). This is NOT the most accurate method to determine the cell area, but is required in the case where membrane and nuclei markers can not be used or are not included. It is important to consider the specifics of your system as the cell type and labeling method may differ from the example used to optimize this workflow.*\n",
    "\n",
    "2. **Infer *nucleus*** - Segment the ***nucleus*** from an exclusive or (XOR) of the ***cytoplasm*** mask and a hole-filled version of the ***cytoplasm*** mask.\n",
    "3. **Infer *cellmask***\n",
    "Segment the ***cellmask*** by combining the ***nucleus*** and ***cytoplasm*** masks. To create an instance segmentation of the cellmask, the nuclei will be used as the seeds for the watershed operation. Then, the cell with the highest combined fluorescence intensity will be considered the main cell for analysis and everything else will be discarded. The nuclei and cytoplasm associated to that cell will be selected by masking.\n",
    "-----"
   ]
  },
  {
   "cell_type": "markdown",
   "metadata": {},
   "source": [
    "### 👣 **Summary of steps**  \n",
    "\n",
    "➡️ **EXTRACTION**\n",
    "- **`STEP 1`** - Create composite image\n",
    "\n",
    "    - determine weight to apply to each channel of the intensity image (w# = user input)\n",
    "    - rescale summed image intensities (rescale = user input)\n",
    "\n",
    "**PRE-PROCESSING**\n",
    "- **`STEP 2`** - Rescale and smooth image\n",
    "\n",
    "    - rescale intensity of composite image (min=0, max=1)\n",
    "    - median filter (median size = user input)\n",
    "    - gaussian filter (sigma = user input)\n",
    "\n",
    "- **`STEP 3`** - Log transform + Scharr edge detection\n",
    "\n",
    "    - perform a log transformation on the image\n",
    "    - apply Scharr edge detection filter\n",
    "    - combine log image and Scharr edge filtered intensity image\n",
    " \n",
    "**CORE PROCESSING**\n",
    "- **`STEP 4`** - Semantic segmentation of the cytoplasm\n",
    "\n",
    "    - (A) apply MO thresholding method from the Allen Cell [aicssegmentation](https://github.com/AllenCell/aics-segmentation) package (threshold options = user input)\n",
    "    - (B) fill holes and remove small objects (hole size = user input, object size = user input, method = user input)\n",
    "    \n",
    "- **`STEP 5`** - Segmentation of nuclei ‘seeds’ from cytoplasm\n",
    "\n",
    "    - (A) binary opening of inverted aggregate cytoplasm mask; remove the nuclei in aggregate cytoplasm mask (hole size = user input) and select the removed items with a logical **XOR** with the inverted cytoplasm\n",
    "    - (B) remove small objects (object size = user input)\n",
    "    \n",
    "- **`STEP 6`** - Combine nucleus masks and cytoplasm masks\n",
    "\n",
    "    - logical **OR** of the nucleus and cytoplasm\n",
    "    - fill gaps (hole size = user input)\n",
    "\n",
    "**POST-PROCESSING**\n",
    "- **`STEP 7`** - Label cells based on nuclei 'seeds'; isolate highest intensity\n",
    "\n",
    "    - perform a masked inverted watershed with the aggregate cellmask segmentation and the nuclei seeds\n",
    "    - select the label with the highest total intensity\n",
    "\n",
    "**POST-POST-PROCESSING**\n",
    "- **`STEP 8`** - Segmentation of single nucleus from cytoplasm; cell mask applied\n",
    "\n",
    "    - logical **AND** of the cellmask and aggregate cytoplasm mask\n",
    "    - invert cytoplasm mask and clear border (nucleus mask)\n",
    "    - fill holes (hole size = user input)\n",
    "    - remove small objects (object size = user input)\n",
    "\n",
    "**EXPORT** ➡️\n",
    "- **`STEP 9`** - Stack masks\n",
    "\n",
    "    - stack masks in order of nucleus, cellmask and cytoplasm mask"
   ]
  },
  {
   "cell_type": "markdown",
   "metadata": {},
   "source": [
    "---------------------\n",
    "## **IMPORTS AND LOAD IMAGE**\n",
    "Details about the functions included in this subsection are outlined in the [`1.0_image_setup`](1.0_image_setup.ipynb) notebook. Please visit that notebook first if you are confused about any of the code included here."
   ]
  },
  {
   "cell_type": "markdown",
   "metadata": {},
   "source": [
    "#### &#x1F3C3; **Run code; no user input required**"
   ]
  },
  {
   "cell_type": "code",
   "execution_count": 1,
   "metadata": {},
   "outputs": [],
   "source": [
    "from pathlib import Path\n",
    "import os\n",
    "\n",
    "import numpy as np\n",
    "import pandas as pd\n",
    "import napari\n",
    "from napari.utils.notebook_display import nbscreenshot\n",
    "\n",
    "from skimage.segmentation import clear_border\n",
    "from skimage.morphology import binary_opening\n",
    "from skimage.measure import label\n",
    "\n",
    "from infer_subc.core.file_io import (read_czi_image,\n",
    "                                     export_inferred_organelle,\n",
    "                                     list_image_files,\n",
    "                                     sample_input)        \n",
    "from infer_subc.core.img import *\n",
    "from infer_subc.organelles import non_linear_cellmask_transform\n",
    "\n",
    "%load_ext autoreload\n",
    "%autoreload 2\n"
   ]
  },
  {
   "cell_type": "markdown",
   "metadata": {},
   "source": [
    "#### &#x1F6D1; &#x270D; **User Input Required:**\n",
    "\n",
    "Please specify the following information about your data: `im_type`, `data_root_path`, `in_data_path`, and `out_data_path`."
   ]
  },
  {
   "cell_type": "code",
   "execution_count": 2,
   "metadata": {},
   "outputs": [],
   "source": [
    "### USER INPUT REQUIRED ###\n",
    "# If using the sample data, set cell_type to \"astrocyte\":\n",
    "# If not using the sample data, set cell_type to None\n",
    "sample_data_type = \"astrocyte\"\n",
    "\n",
    "# If you are not using the sample data, please edit \"USER SPECIFIED\" as necessary.\n",
    "## Define the path to the directory that contains the input image folder.\n",
    "data_root_path = Path(\"USER SPECIFIED\")\n",
    "\n",
    "# Specify the file type of your raw data that will be analyzed. Ex) \".czi\" or \".tiff\"\n",
    "im_type = \"USER SPECIFIED\"\n",
    "\n",
    "## Specify which subfolder that contains the input data and the input data file extension\n",
    "in_data_path = data_root_path / \"USER SPECIFIED\"\n",
    "\n",
    "## Specify the output folder to save the segmentation outputs if.\n",
    "## If its not already created, the code below will create it for you\n",
    "out_data_path = data_root_path / \"USER SPECIFIED\""
   ]
  },
  {
   "cell_type": "markdown",
   "metadata": {},
   "source": [
    "#### &#x1F3C3; **Run code; no user input required**"
   ]
  },
  {
   "cell_type": "code",
   "execution_count": 3,
   "metadata": {},
   "outputs": [
    {
     "data": {
      "text/html": [
       "<div>\n",
       "<style scoped>\n",
       "    .dataframe tbody tr th:only-of-type {\n",
       "        vertical-align: middle;\n",
       "    }\n",
       "\n",
       "    .dataframe tbody tr th {\n",
       "        vertical-align: top;\n",
       "    }\n",
       "\n",
       "    .dataframe thead th {\n",
       "        text-align: right;\n",
       "    }\n",
       "</style>\n",
       "<table border=\"1\" class=\"dataframe\">\n",
       "  <thead>\n",
       "    <tr style=\"text-align: right;\">\n",
       "      <th></th>\n",
       "      <th>Image Name</th>\n",
       "    </tr>\n",
       "  </thead>\n",
       "  <tbody>\n",
       "    <tr>\n",
       "      <th>0</th>\n",
       "      <td>c:\\Users\\redre\\Documents\\CohenLab\\scohen_lab_repo\\infer-subc\\sample_data\\example_astrocyte\\raw\\05052022_astro_control_2_Linear unmixing_0_cmle.ome.tiff</td>\n",
       "    </tr>\n",
       "  </tbody>\n",
       "</table>\n",
       "</div>"
      ],
      "text/plain": [
       "                                                                                                                                                Image Name\n",
       "0  c:\\Users\\redre\\Documents\\CohenLab\\scohen_lab_repo\\infer-subc\\sample_data\\example_astrocyte\\raw\\05052022_astro_control_2_Linear unmixing_0_cmle.ome.tiff"
      ]
     },
     "execution_count": 3,
     "metadata": {},
     "output_type": "execute_result"
    }
   ],
   "source": [
    "# If sample_data_type is set to \"astrocyte\", then the sample data is used and the directories are set\n",
    "if sample_data_type != None:\n",
    "    data_root_path, im_type, in_data_path, out_data_path = sample_input(sample_data_type)\n",
    "    \n",
    "# list files in the input folder\n",
    "img_file_list = list_image_files(in_data_path,im_type)\n",
    "pd.set_option('display.max_colwidth', None)\n",
    "pd.DataFrame({\"Image Name\":img_file_list})"
   ]
  },
  {
   "cell_type": "markdown",
   "metadata": {},
   "source": [
    "#### &#x1F6D1; &#x270D; **User Input Required:**\n",
    "\n",
    "Use the list above to specify which image you wish to analyze based on its index: `test_img_n`"
   ]
  },
  {
   "cell_type": "code",
   "execution_count": 4,
   "metadata": {},
   "outputs": [],
   "source": [
    "#### USER INPUT REQUIRED ###\n",
    "test_img_n = 0"
   ]
  },
  {
   "cell_type": "markdown",
   "metadata": {},
   "source": [
    "#### &#x1F3C3; **Run code; no user input required**"
   ]
  },
  {
   "cell_type": "code",
   "execution_count": 5,
   "metadata": {},
   "outputs": [
    {
     "name": "stdout",
     "output_type": "stream",
     "text": [
      "Metadata information\n",
      "File path: c:\\Users\\redre\\Documents\\CohenLab\\scohen_lab_repo\\infer-subc\\sample_data\\example_astrocyte\\raw\\05052022_astro_control_2_Linear unmixing_0_cmle.ome.tiff\n",
      "Channel 0 name: 05052022_astro_control_2_Linear unmixing_0_cmle.ome :: Channel:0\n",
      "Channel 1 name: 05052022_astro_control_2_Linear unmixing_0_cmle.ome :: Channel:1\n",
      "Channel 2 name: 05052022_astro_control_2_Linear unmixing_0_cmle.ome :: Channel:2\n",
      "Channel 3 name: 05052022_astro_control_2_Linear unmixing_0_cmle.ome :: Channel:3\n",
      "Channel 4 name: 05052022_astro_control_2_Linear unmixing_0_cmle.ome :: Channel:4\n",
      "Channel 5 name: 05052022_astro_control_2_Linear unmixing_0_cmle.ome :: Channel:5\n",
      "Scale (ZYX): (0.396091, 0.079947, 0.079947)\n",
      "Channel axis: 0\n",
      "\n",
      "Proceed to Napari window to view your selected image.\n"
     ]
    }
   ],
   "source": [
    "# load image and metadata\n",
    "test_img_name = img_file_list[test_img_n]\n",
    "img_data,meta_dict = read_czi_image(test_img_name)\n",
    "\n",
    "# metadata\n",
    "channel_names = meta_dict['name']\n",
    "meta = meta_dict['metadata']['aicsimage']\n",
    "scale = meta_dict['scale']\n",
    "channel_axis = meta_dict['channel_axis']\n",
    "file_path = meta_dict['file_name']\n",
    "print(\"Metadata information\")\n",
    "print(f\"File path: {file_path}\")\n",
    "for i in list(range(len(channel_names))):\n",
    "    print(f\"Channel {i} name: {channel_names[i]}\")\n",
    "print(f\"Scale (ZYX): {scale}\")\n",
    "print(f\"Channel axis: {channel_axis}\")\n",
    "\n",
    "# open viewer and add images\n",
    "viewer = napari.Viewer()\n",
    "for i in list(range(len(channel_names))):\n",
    "    viewer.add_image(img_data[i],\n",
    "                     scale=scale,\n",
    "                     name=f\"Channel {i}\")\n",
    "viewer.grid.enabled = True\n",
    "viewer.reset_view()\n",
    "print(\"\\nProceed to Napari window to view your selected image.\")"
   ]
  },
  {
   "cell_type": "markdown",
   "metadata": {},
   "source": [
    "-----\n",
    "\n",
    "## **EXTRACTION**"
   ]
  },
  {
   "cell_type": "markdown",
   "metadata": {},
   "source": [
    "### **`STEP 1` - Create composite image**\n",
    "\n",
    "&#x1F453; **FYI:** This code block creates a composite image of the organelle channels. The intensity of each channel is combined with specified weights. The resulting composite will be used to segment the cytoplasm area. \n",
    "\n",
    "*Hint: combine organelles in a way that produces a relatively even intensity throughout the cell.* \n",
    "\n",
    "#### &#x1F6D1; &#x270D; **User Input Required:**\n",
    "\n",
    "Please specify the following values:\n",
    "- `w0`: the weight of channel 0 (the first channel); a value of 0 will exclude this channel from the compostite; large values will cause this channel to be more prominent in the final composite image\n",
    "- `w1`: the weight of channel 1\n",
    "- `w2`: the weight of channel 2\n",
    "- `w3`: the weight of channel 3\n",
    "- `w4`: the weight of channel 4\n",
    "- `w5`: the weight of channel 5\n",
    "- `w6`: the weight of channel 6\n",
    "- `w7`: the weight of channel 7\n",
    "- `w8`: the weight of channel 8\n",
    "- `w9`: the weight of channel 9\n",
    "- `rescale`: \"True\" rescales the image so that the pixel/voxel with the highest intensity is set to 1 and the one with the lowest intensity is set to 0; \"False\" leaves the combined intensity values as is after the composite is made"
   ]
  },
  {
   "cell_type": "markdown",
   "metadata": {},
   "source": [
    "## **`STEP 1` - Create composite image**"
   ]
  },
  {
   "cell_type": "markdown",
   "metadata": {},
   "source": [
    "- determine weight to apply to each channel of the intensity image (w# = user input)\n",
    "- rescale summed image intensities (rescale = user input)"
   ]
  },
  {
   "cell_type": "code",
   "execution_count": 6,
   "metadata": {},
   "outputs": [],
   "source": [
    "#### USER INPUT REQUIRED ###\n",
    "w0 = 2\n",
    "w1 = 2\n",
    "w2 = 3\n",
    "w3 = 1\n",
    "w4 = 4\n",
    "w5 = 2\n",
    "w6 = 0\n",
    "w7 = 0\n",
    "w8 = 0\n",
    "w9 = 0\n",
    "\n",
    "cyto_rescale = True"
   ]
  },
  {
   "cell_type": "markdown",
   "metadata": {},
   "source": [
    "#### &#x1F3C3; **Run code; no user input required**\n",
    "\n",
    "&#x1F453; **FYI:** This code block creates the composite and optionally rescales the image based on the settings above. The image is then added to Napari as a new layer for visual comparison to the input image. \n",
    "\n",
    "Use the Napari viewer to iteratively adjust the smoothing settings selected above."
   ]
  },
  {
   "cell_type": "code",
   "execution_count": 7,
   "metadata": {},
   "outputs": [
    {
     "data": {
      "text/plain": [
       "<Image layer '1-Cyto: Create composite' at 0x2cbfbb05f60>"
      ]
     },
     "execution_count": 7,
     "metadata": {},
     "output_type": "execute_result"
    }
   ],
   "source": [
    "# make aggregate and optionally rescale\n",
    "struct_img_raw = make_aggregate(img_data,\n",
    "                                weight_ch0= w0,\n",
    "                                weight_ch1= w1,\n",
    "                                weight_ch2= w2,\n",
    "                                weight_ch3= w3,\n",
    "                                weight_ch4= w4,\n",
    "                                weight_ch5= w5,\n",
    "                                weight_ch6= w6,\n",
    "                                weight_ch7= w7,\n",
    "                                weight_ch8= w8,\n",
    "                                weight_ch9= w9,\n",
    "                                rescale = cyto_rescale)\n",
    "\n",
    "# adding image to Napari as a new layer\n",
    "viewer.layers.clear()\n",
    "viewer.grid.enabled = False\n",
    "viewer.reset_view()\n",
    "viewer.add_image(img_data, scale=scale)\n",
    "viewer.add_image(struct_img_raw, scale=scale, name=\"1-Cyto: Create composite\")"
   ]
  },
  {
   "cell_type": "markdown",
   "metadata": {},
   "source": [
    "-----\n",
    "## **PRE-PROCESSING**"
   ]
  },
  {
   "cell_type": "markdown",
   "metadata": {},
   "source": [
    "## **`STEP 2` - Rescale and smooth image**\n",
    "\n",
    "&#x1F453; **FYI:** This code block rescales the image so that the pixel/voxel with the highest intensity is set to 1 and the one with the lowest intensity is set to 0. The image is then *optionally* smoothed using a Gaussian and/or median filter. \n",
    "\n",
    "<mark> Include more information on the Gaussian and median filtering methods here </mark>\n",
    "\n",
    "#### &#x1F6D1; &#x270D; **User Input Required:**\n",
    "\n",
    "Please specify the amount of filter to use for each method. Higher values indicate more smoothing:\n",
    "- `med_filter_size`: the size of the median filter to apply; if 0 is used, no filter will be applied\n",
    "- `gaussian_smoothing_sigma`: the sigma to apply in the Gaussian filtering step; if 0 is used, no filter will be applied"
   ]
  },
  {
   "cell_type": "code",
   "execution_count": 8,
   "metadata": {},
   "outputs": [],
   "source": [
    "#### USER INPUT REQUIRED ###\n",
    "cyto_med_filter_size = 0\n",
    "cyto_gaussian_smoothing_sigma = 0"
   ]
  },
  {
   "cell_type": "markdown",
   "metadata": {},
   "source": [
    "#### &#x1F3C3; **Run code; no user input required**\n",
    "\n",
    "&#x1F453; **FYI:** This code block rescales the image and applies the specified median and Gaussian filters. The image is then added to Napari as a new layer for visual comparison to the input image. \n",
    "\n",
    "Use the Napari viewer to iteratively adjust the smoothing settings selected above."
   ]
  },
  {
   "cell_type": "code",
   "execution_count": 9,
   "metadata": {},
   "outputs": [
    {
     "data": {
      "text/plain": [
       "<Image layer '2-Cyto: Rescale and Smooth' at 0x2cbf91b3d30>"
      ]
     },
     "execution_count": 9,
     "metadata": {},
     "output_type": "execute_result"
    }
   ],
   "source": [
    "# rescaling and smoothing input image\n",
    "structure_img_smooth = scale_and_smooth(struct_img_raw,\n",
    "                                        median_size = cyto_med_filter_size, \n",
    "                                        gauss_sigma = cyto_gaussian_smoothing_sigma)\n",
    "\n",
    "\n",
    "# adding image to Napari as a new layer\n",
    "viewer.add_image(structure_img_smooth, scale=scale, name=\"2-Cyto: Rescale and Smooth\")"
   ]
  },
  {
   "cell_type": "markdown",
   "metadata": {},
   "source": [
    "### **`STEP 3` - Log transform + Scharr edge detection**\n",
    "\n",
    "#### &#x1F3C3; **Run code; no user input required**\n",
    "\n",
    "&#x1F453; **FYI:** This code block applies a log transform and the [Scharr](https://scikit-image.org/docs/stable/api/skimage.filters.html#skimage.filters.scharr) edge detection filter.\n",
    "\n",
    "Use the Napari viewer to iteratively adjust the filter settings as needed.\n",
    "\n",
    "*Hint: it may be helpful to readjust the composite and smoothing settings to improve the outcome of this step.*"
   ]
  },
  {
   "cell_type": "code",
   "execution_count": null,
   "metadata": {},
   "outputs": [
    {
     "data": {
      "text/plain": [
       "<Image layer '3-Cyto: Log Scharr edge detectiong' at 0x2cbfb8bd570>"
      ]
     },
     "execution_count": 10,
     "metadata": {},
     "output_type": "execute_result"
    }
   ],
   "source": [
    "# log scale the image, apply the scharr edge detection filter to logged image, add the two images together\n",
    "composite_cytomask = non_linear_cellmask_transform(structure_img_smooth)\n",
    "\n",
    "# adding image to Napari as a new layer\n",
    "viewer.add_image(composite_cytomask, scale=scale, name=\"3-Cyto: Log Scharr edge detection\")"
   ]
  },
  {
   "cell_type": "markdown",
   "metadata": {},
   "source": [
    "-----\n",
    "## **CORE-PROCESSING**"
   ]
  },
  {
   "cell_type": "markdown",
   "metadata": {},
   "source": [
    "### **`STEP 4` - Semantic segmentation of the cytoplasm**\n",
    "#### `A. Global + local thresholding (AICSSeg – MO)`\n",
    "\n",
    "&#x1F453; **FYI:** This code block creates a semantic segmentation of the cytoplasmic area. `Semantic segmentation` is the process of deciding whether a pixel/voxel should be included in an object (labeled with a value of 1) or should be considered as part of the background (labeled with a value of 0). A semantic segmentation does not discern individual objects from one another.\n",
    "\n",
    "The masked_object_filter utilizes the 'MO' filter from the [`aics-segmentation`](https://github.com/AllenCell/aics-segmentation) package. AICS documentation states: \"The algorithm is a hybrid thresholding method combining two levels of thresholds. The steps are: [1] a global threshold is calculated, [2] extract each individual connected componet after applying the global threshold, [3] remove small objects, [4] within each remaining object, a local Otsu threshold is calculated and applied with an optional local threshold adjustment ratio (to make the segmentation more and less conservative). An extra check can be used in step [4], which requires the local Otsu threshold larger than 1/3 of global Otsu threhsold and otherwise this connected component is discarded.\"\n",
    "\n",
    "#### &#x1F6D1; &#x270D; **User Input Required:**\n",
    "\n",
    "Please specify the following values:\n",
    "- `thresh_method`: the global thresholding method; options include 'tri'/'triangle, 'med'/'median' or 'ave'/'ave_tri_med'. Triangle implements the [skimage.filters.threshold_triangle](https://scikit-image.org/docs/stable/api/skimage.filters.html#skimage.filters.threshold_triangle) method, median utilizes the 50th percentile of the intensities, and ave uses the average of the two methods to calculate the lower bound of the global threshold.\n",
    "- `cell_wise_min_area`: the minimum expected size of your object; smaller objects will be removed prior to local thresholding\n",
    "- `thresh_adj`: adjustment to make to the local threshold; larger values make the segmentation more stringent (less area included)"
   ]
  },
  {
   "cell_type": "code",
   "execution_count": 11,
   "metadata": {},
   "outputs": [],
   "source": [
    "#### USER INPUT REQUIRED ###\n",
    "cyto_thresh_method = 'med'\n",
    "cyto_cutoff_size =  200\n",
    "cyto_thresh_adj = 0.914286"
   ]
  },
  {
   "cell_type": "markdown",
   "metadata": {},
   "source": [
    "#### &#x1F3C3; **Run code; no user input required**\n",
    "\n",
    "&#x1F453; **FYI:** This code block executes the MO filter using the settings above.\n",
    "\n",
    "Use the Napari viewer to iteratively adjust the filter settings as needed."
   ]
  },
  {
   "cell_type": "code",
   "execution_count": 12,
   "metadata": {},
   "outputs": [
    {
     "data": {
      "text/plain": [
       "<Image layer '4-Cyto: MO filter' at 0x2cb87b14940>"
      ]
     },
     "execution_count": 12,
     "metadata": {},
     "output_type": "execute_result"
    }
   ],
   "source": [
    "# threshold the composite image after log/edge detection using the MO filter function from aicssegmentation - this applies a global threshold, then a local threshold to produce a semantic segmentation\n",
    "bw = masked_object_thresh(composite_cytomask, \n",
    "                          global_method=cyto_thresh_method, \n",
    "                          cutoff_size=cyto_cutoff_size, \n",
    "                          local_adjust=cyto_thresh_adj)\n",
    "\n",
    "# adding image to Napari as a new layer\n",
    "viewer.add_image(bw, scale=scale, name=\"4-Cyto: MO filter\", opacity=0.3, colormap=\"cyan\", blending='additive')"
   ]
  },
  {
   "cell_type": "markdown",
   "metadata": {},
   "source": [
    "#### `B - Remove small holes and objects`\n",
    "\n",
    "&#x1F453; **FYI:** This code block cleans up the semantic segmentation by filling small holes and/or removing small objects that can be considered errors in the initial segmentation. \n",
    "\n",
    "#### &#x1F6D1; &#x270D; **User Input Required:**\n",
    "\n",
    "Please specify the following values:\n",
    "- `hole_min_width`: the width of the smallest hole to be filled\n",
    "- `hole_max_width`: the width of the largest hole to be filled\n",
    "- `small_object_width`: the width of the largest object to be removed; any object smaller than this size will be removed\n",
    "- `fill_filter_method`: \"3D\" processes the image taking into account segmentation values in three dimensions (XYZ); \"slice-by-slice\" processes each Z-slice in the image separately, not considering the segmentation results in higher or lower Z planes."
   ]
  },
  {
   "cell_type": "code",
   "execution_count": 13,
   "metadata": {},
   "outputs": [],
   "source": [
    "#### USER INPUT REQUIRED ###\n",
    "cyto_hole_min_width = 0\n",
    "cyto_hole_max_width = 50\n",
    "\n",
    "cyto_small_object_width = 50\n",
    "\n",
    "cyto_fill_filter_method = \"slice_by_slice\""
   ]
  },
  {
   "cell_type": "markdown",
   "metadata": {},
   "source": [
    "#### &#x1F3C3; **Run code; no user input required**\n",
    "\n",
    "&#x1F453; **FYI:** This code block fills small holes and removes small objects using the settings above.\n",
    "\n",
    "Use the Napari viewer to iteratively adjust the filter settings as needed. "
   ]
  },
  {
   "cell_type": "code",
   "execution_count": 14,
   "metadata": {},
   "outputs": [
    {
     "data": {
      "text/plain": [
       "<Image layer '4-Cyto: Fill holes and remove small objects' at 0x2cb87ef6410>"
      ]
     },
     "execution_count": 14,
     "metadata": {},
     "output_type": "execute_result"
    }
   ],
   "source": [
    "# fill small holes and remove small objects\n",
    "cleaned_img2 = fill_and_filter_linear_size(bw, \n",
    "                                           hole_min=cyto_hole_min_width, \n",
    "                                           hole_max=cyto_hole_max_width, \n",
    "                                           min_size=cyto_small_object_width,\n",
    "                                           method=cyto_fill_filter_method)\n",
    "\n",
    "# force all sections of the cytoplasm to be labeled as 1 even if they are separated\n",
    "cytoplasm_mask = label_bool_as_uint16(cleaned_img2)\n",
    "\n",
    "# adding image to Napari as a new layer\n",
    "viewer.add_image(cytoplasm_mask, scale=scale, name=\"4-Cyto: Fill holes and remove small objects\", colormap=\"magenta\")"
   ]
  },
  {
   "cell_type": "markdown",
   "metadata": {},
   "source": [
    "### **`STEP 5` - Segmentation of nuclei ‘seeds’ from cytoplasm**\n",
    "\n",
    "&#x1F453; **FYI:** This code block uses the cytoplasm mask to create qpproximation of the nuclei. The nuclei \"seeds\" will be used to distinguish between individual cells in the image. The process includes a [binary opening](https://scikit-image.org/docs/stable/api/skimage.morphology.html#skimage.morphology.binary_opening) of the inverted cytoplasm masks; the binary opening step increases the likelihood that the nuclei and extracellular space are separated (i.e., without gaps connecting them). The nuclei objects are then selected by removing them and comparing what was removed to the previous output using a logical exclusive or function. The final nuclei output is then cleaned up with a fill and filter step.\n",
    "\n",
    "#### `A. Select nuclei from cytoplasm`\n",
    "\n",
    "#### &#x1F6D1; &#x270D; **User Input Required:**\n",
    "\n",
    "Please specify the following values:\n",
    "- `max_nuc_width`: the maximum expected width of the nuclei\n",
    "\n",
    "***Hint: if the background area is still included then your \"max_nuc_width\" value is too large.***\n",
    "\n",
    "*Note: the fill_and_filter_linear_size function is utilized here, but only the small object feature is initiated.*"
   ]
  },
  {
   "cell_type": "code",
   "execution_count": 15,
   "metadata": {},
   "outputs": [],
   "source": [
    "#### USER INPUT REQUIRED ###\n",
    "max_nuc_width = 350"
   ]
  },
  {
   "cell_type": "markdown",
   "metadata": {},
   "source": [
    "#### &#x1F3C3; **Run code; no user input required**\n",
    "\n",
    "&#x1F453; **FYI:** This code block selects the nuclei using the settings above.\n",
    "\n",
    "Use the Napari viewer to iteratively adjust the filter settings as needed. "
   ]
  },
  {
   "cell_type": "code",
   "execution_count": 16,
   "metadata": {},
   "outputs": [
    {
     "data": {
      "text/plain": [
       "<Image layer '5-Nuc: select nuclei' at 0x2cb83282b30>"
      ]
     },
     "execution_count": 16,
     "metadata": {},
     "output_type": "execute_result"
    }
   ],
   "source": [
    "# invert cytoplasm mask\n",
    "cytoplasm_inverse = 1 - cytoplasm_mask\n",
    "\n",
    "# binary opening of inverted aggregate cytoplasm mask (erosion -> dilation)\n",
    "cytoplasm_inv_opened = binary_opening(cytoplasm_inverse, footprint=np.ones([3,3,3]))\n",
    "\n",
    "# fill nuclei in aggregate cytoplasm mask (hole size = user input)\n",
    "nuc_removed = fill_and_filter_linear_size(cytoplasm_inv_opened, \n",
    "                                          hole_max=0, \n",
    "                                          hole_min=0, \n",
    "                                          min_size=max_nuc_width, \n",
    "                                          method='3D')\n",
    "\n",
    "# logical **XOR** of the cytoplasm and the filled in cytoplasm resulting in the nucleus and any artifacts from binary opening\n",
    "nuc_objs = np.logical_xor(cytoplasm_inv_opened, nuc_removed)\n",
    "\n",
    "# adding image to Napari as a new layer\n",
    "viewer.add_image(nuc_objs, scale=scale, name=\"5-Nuc: select nuclei\", blending=\"additive\", opacity=0.3)"
   ]
  },
  {
   "cell_type": "markdown",
   "metadata": {},
   "source": [
    "### `B. Filter out small objects from nuclei mask`\n",
    "\n",
    "&#x1F453; **FYI:** This code removes small objects from the nuclei mask generated above.\n",
    "\n",
    "#### &#x1F6D1; &#x270D; **User Input Required:**\n",
    "\n",
    "Please specify the following values:\n",
    "- `nuc_min_obj_width`: the width of the largest object to be removed; any object smaller than this size will be removed\n",
    "\n",
    "*Note: the fill_and_filter_linear_size function is utilized here, but only the small object feature is initiated.*"
   ]
  },
  {
   "cell_type": "code",
   "execution_count": 17,
   "metadata": {},
   "outputs": [],
   "source": [
    "#### USER INPUT REQUIRED ###\n",
    "nuc_min_obj_width = 15"
   ]
  },
  {
   "cell_type": "markdown",
   "metadata": {},
   "source": [
    "#### &#x1F3C3; **Run code; no user input required**\n",
    "\n",
    "&#x1F453; **FYI:** This code block removes small objects using the settings above.\n",
    "\n",
    "Use the Napari viewer to iteratively adjust the filter settings as needed. "
   ]
  },
  {
   "cell_type": "code",
   "execution_count": 18,
   "metadata": {},
   "outputs": [
    {
     "data": {
      "text/plain": [
       "<Image layer '5-Nuc: Nuclei cleaned' at 0x2cb846ec280>"
      ]
     },
     "execution_count": 18,
     "metadata": {},
     "output_type": "execute_result"
    }
   ],
   "source": [
    "# remove small objects\n",
    "nuc_cleaned = fill_and_filter_linear_size(nuc_objs, \n",
    "                                          hole_max=0, \n",
    "                                          hole_min=0, \n",
    "                                          min_size=nuc_min_obj_width, \n",
    "                                          method='3D')\n",
    "nuc_labels = label_uint16(nuc_cleaned)\n",
    "\n",
    "# adding image to Napari as a new layer\n",
    "viewer.add_image(nuc_labels, scale=scale, name=\"5-Nuc: Nuclei cleaned\", colormap='blue')"
   ]
  },
  {
   "cell_type": "markdown",
   "metadata": {},
   "source": [
    "### **`STEP 6` - Combine nucleus masks and cytoplasm masks**\n",
    "\n",
    "&#x1F453; **FYI:** This code block adds the final nucleus and cytoplasm objects together to create the final cell mask. Then, the fill and filter function is applied to clean up any errors.\n",
    "\n",
    "#### &#x1F6D1; &#x270D; **User Input Required:**\n",
    "\n",
    "Please specify the following values:\n",
    "- `hole_max_width`: the width of the largest hole to be filled between the nuclei seeds and the cytoplasm mask"
   ]
  },
  {
   "cell_type": "code",
   "execution_count": 19,
   "metadata": {},
   "outputs": [],
   "source": [
    "#### USER INPUT REQUIRED ###\n",
    "cell_hole_max_width = 20"
   ]
  },
  {
   "cell_type": "markdown",
   "metadata": {},
   "source": [
    "#### &#x1F3C3; **Run code; no user input required**\n",
    "&#x1F453; **FYI:** This code block creates the cell mask and cleans it up using the settings specified above."
   ]
  },
  {
   "cell_type": "code",
   "execution_count": 20,
   "metadata": {},
   "outputs": [
    {
     "data": {
      "text/plain": [
       "<Image layer '6-Cell: Create cell mask' at 0x2cb84fd4d60>"
      ]
     },
     "execution_count": 20,
     "metadata": {},
     "output_type": "execute_result"
    }
   ],
   "source": [
    "# logical **OR** of the nucleus and cytoplasm\n",
    "cells = np.logical_or(nuc_labels, cytoplasm_mask)\n",
    "\n",
    "# fill gaps (hole size = user input)\n",
    "cell_multiple = fill_and_filter_linear_size(cells, \n",
    "                                            hole_min=0,\n",
    "                                            hole_max=cell_hole_max_width,\n",
    "                                            min_size=0,\n",
    "                                            method='3D')\n",
    "\n",
    "# adding image to Napari as a new layer\n",
    "viewer.add_image(cell_multiple, scale=scale, name=\"6-Cell: Create cell mask\")"
   ]
  },
  {
   "cell_type": "markdown",
   "metadata": {},
   "source": [
    "-----\n",
    "## **POST-POST-PROCESSING**"
   ]
  },
  {
   "cell_type": "markdown",
   "metadata": {},
   "source": [
    "### **`STEP 7` - Label cells based on nuclei 'seeds'; isolate highest intensity**\n",
    "\n",
    "#### &#x1F3C3; **Run code; no user input required**\n",
    "\n",
    "&#x1F453; **FYI:** This code block takes the semantic segmentation of the cell and creates an `instance segmentation`. The process is accomplished with the [watershed](https://scikit-image.org/docs/stable/api/skimage.segmentation.html#skimage.segmentation.watershed) function where the nuclei are used as seeds to determine the approximate center of each cell. The cell and associated nucleus with the highest combined organelle intensity is then selected for downstream single-cell analysis.\n",
    "\n",
    "Then, the cell with the highest combined intensity is selected.\n",
    "\n",
    "***Note: if there is more than one cell still appearing in the image, you may not have been able to segment a nuclei object associated to that cell. Consider repeating the nuclei segmentation steps above to improve your outcome here.***\n",
    "\n",
    "*In the Napari viewer, the image is added as a \"labels\" layer where each object appears as a different color. There should only be a single nucleus and cytoplasm remaining at this stage.*"
   ]
  },
  {
   "cell_type": "code",
   "execution_count": 21,
   "metadata": {},
   "outputs": [
    {
     "data": {
      "text/plain": [
       "<Labels layer '7-Cell: Select one cell' at 0x2cb8790c760>"
      ]
     },
     "execution_count": 21,
     "metadata": {},
     "output_type": "execute_result"
    }
   ],
   "source": [
    "# perform a masked inverted watershed with the aggregate cellmask segmentation and the nuclei seeds\n",
    "cell_labels = masked_inverted_watershed(cell_multiple, markers=nuc_labels, mask=cell_multiple, method='3D')\n",
    "\n",
    "# create a composite from each intensity channel after they have been min-max normalized\n",
    "norm_channels = [(min_max_intensity_normalization(img_data[c])) for c in range(len(img_data))]\n",
    "normed_signal = np.stack(norm_channels, axis=0)\n",
    "\n",
    "normed_composite = normed_signal.sum(axis=0)\n",
    "\n",
    "# find the cell mask that has the highest intensity\n",
    "all_labels = np.unique(cell_labels)[1:]\n",
    "total_signal = [normed_composite[cell_labels == label].sum() for label in all_labels]\n",
    "\n",
    "keep_label = all_labels[np.argmax(total_signal)]\n",
    "good_cell = cell_labels == keep_label\n",
    "\n",
    "# adding image to Napari as a new layer\n",
    "viewer.layers.clear()\n",
    "viewer.add_image(struct_img_raw, scale=scale)\n",
    "viewer.add_labels(good_cell, scale=scale, name=\"7-Cell: Select one cell\")"
   ]
  },
  {
   "cell_type": "markdown",
   "metadata": {},
   "source": [
    "-----\n",
    "## **POST-POST-PROCESSING**"
   ]
  },
  {
   "cell_type": "markdown",
   "metadata": {},
   "source": [
    "### **`STEP 8` - Segmentation of single nucleus from cytoplasm; cell mask applied**\n",
    "\n",
    "#### &#x1F6D1; &#x270D; **User Input Required:**\n",
    "\n",
    "Please specify the following values:\n",
    "- `cyto_small_object_width`: the width of the largest object to be removed; any object smaller than this size will be removed\n",
    "\n",
    "*Note: the fill_and_filter_linear_size function is utilized here, but only the small object feature is initiated.*"
   ]
  },
  {
   "cell_type": "code",
   "execution_count": 22,
   "metadata": {},
   "outputs": [],
   "source": [
    "#### USER INPUT REQUIRED ###\n",
    "cyto_small_object_width2 = 10"
   ]
  },
  {
   "cell_type": "markdown",
   "metadata": {},
   "source": [
    "#### &#x1F3C3; **Run code; no user input required**\n",
    "&#x1F453; **FYI:** This code block masks a single nuclei and single cytoplasm based on the individual cell selected above. \n",
    "\n",
    "*In the Napari viewer, the image is added as a \"labels\" layer where each object appears as a different color. There should only be a single nucleus and cytoplasm remaining at this stage.*"
   ]
  },
  {
   "cell_type": "code",
   "execution_count": 23,
   "metadata": {},
   "outputs": [
    {
     "data": {
      "image/png": "[encoded data removed]",
      "text/html": [
       "<img src=\"data:image/png;base64,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\" alt=\"\"></img>"
      ],
      "text/plain": [
       "<napari.utils.notebook_display.NotebookScreenshot at 0x2cbff773850>"
      ]
     },
     "execution_count": 23,
     "metadata": {},
     "output_type": "execute_result"
    }
   ],
   "source": [
    "# logical **AND** of the cellmask and aggregate cytoplasm mask\n",
    "good_cyto = apply_mask(cytoplasm_mask, good_cell).astype(bool)\n",
    "\n",
    "# invert cytoplasm mask and clear border (nucleus mask)\n",
    "good_cyto_inverse = 1 - good_cyto\n",
    "nuc_single = clear_border(good_cyto_inverse)\n",
    "\n",
    "# remove small objects\n",
    "good_nuc = fill_and_filter_linear_size(nuc_single,\n",
    "                                       hole_min=0,\n",
    "                                       hole_max=0,\n",
    "                                       min_size=cyto_small_object_width2,\n",
    "                                       method='3D').astype(bool)\n",
    "\n",
    "# adding image to Napari as a new layer\n",
    "viewer.grid.enabled = True\n",
    "viewer.add_labels(good_nuc, scale=scale, name=\"8-Nuc: Select one nucleus\")\n",
    "viewer.add_labels(good_cyto, scale=scale, name=\"8-Cyto: Select one cytoplasm\")\n",
    "viewer.reset_view()\n",
    "\n",
    "# screenshot viewer\n",
    "nbscreenshot(viewer, canvas_only = False)"
   ]
  },
  {
   "cell_type": "markdown",
   "metadata": {},
   "source": [
    "## **`STEP 9` - Stack masks**\n",
    "\n",
    "#### &#x1F3C3; **Run code; no user input required**\n",
    "&#x1F453; **FYI:** This code block stacks the single nucleus, cell, and cytoplasm masks into one multichannel image."
   ]
  },
  {
   "cell_type": "code",
   "execution_count": 24,
   "metadata": {},
   "outputs": [
    {
     "name": "stdout",
     "output_type": "stream",
     "text": [
      "Stack mask file structure: (3, 18, 1688, 1688)\n",
      "The dimension of '3' represents the 'nucleus', 'cell', and 'cytoplasm' channel, in that order.\n"
     ]
    }
   ],
   "source": [
    "stack = stack_masks(nuc_mask=good_nuc, cellmask=good_cell, cyto_mask=good_cyto)\n",
    "print(f\"Stack mask file structure: {np.shape(stack)}\")\n",
    "print(f\"The dimension of '3' represents the 'nucleus', 'cell', and 'cytoplasm' channel, in that order.\")"
   ]
  },
  {
   "cell_type": "markdown",
   "metadata": {},
   "source": [
    "-----\n",
    "## **SAVING**"
   ]
  },
  {
   "cell_type": "markdown",
   "metadata": {},
   "source": [
    "## **`Saving` - Save the segmentation output**\n",
    "\n",
    "#### &#x1F3C3; **Run code; no user input required**\n",
    "&#x1F453; **FYI:** This code block saves the instance segmentation output to the `out_data_path` specified earlier."
   ]
  },
  {
   "cell_type": "code",
   "execution_count": 25,
   "metadata": {},
   "outputs": [
    {
     "name": "stdout",
     "output_type": "stream",
     "text": [
      "saved file: 05052022_astro_control_2_Linear unmixing_0_cmle.ome-masks_B\n"
     ]
    }
   ],
   "source": [
    "out_file_n = export_inferred_organelle(stack, \"masks_B\", meta_dict, out_data_path)"
   ]
  },
  {
   "cell_type": "markdown",
   "metadata": {},
   "source": [
    "-----\n",
    "-----\n",
    "## **Define functions**\n",
    "The following code includes an example of how the workflow steps above are combined into functions. The final combined `infer_masks_B` function can be run below to process a single image. It is included in the [batch process notebook](batch_process_segmentations.ipynb) to run the above analysis on multiple cells. \n",
    "\n",
    "This function can utilized from infer-subc using:\n",
    "```python\n",
    "infer_subc.organelles.masks.infer_masks_B()\n",
    "```"
   ]
  },
  {
   "cell_type": "markdown",
   "metadata": {},
   "source": [
    "#### &#x1F3C3; **Run code; no user input required**\n",
    "&#x1F453; **FYI:** This code block defines the `_infer_cytoplasm_fromcomposite()`, function. It is applied below."
   ]
  },
  {
   "cell_type": "code",
   "execution_count": 26,
   "metadata": {},
   "outputs": [],
   "source": [
    "##########################\n",
    "# infer_cytoplasm_fromcomposite\n",
    "# alternative workflow \"b\"\n",
    "##########################\n",
    "def _infer_cytoplasm_fromcomposite(in_img: np.ndarray,\n",
    "                                  weights: list[int],\n",
    "                                  rescale: bool,\n",
    "                                  median_sz: int,\n",
    "                                  gauss_sig: float,\n",
    "                                  mo_method: str,\n",
    "                                  mo_adjust: float,\n",
    "                                  mo_cutoff_size: int,\n",
    "                                  min_hole_w: int,\n",
    "                                  max_hole_w: int,\n",
    "                                  small_obj_w: int,\n",
    "                                  fill_filter_method: str\n",
    "                                  ) -> np.ndarray:\n",
    "    \"\"\"\n",
    "    Procedure to infer cellmask from linear unmixed input.\n",
    "\n",
    "    Parameters\n",
    "    ------------\n",
    "    in_img: \n",
    "        a 3d image containing all the channels\n",
    "    weights:\n",
    "        a list of int that corresond to the weights for each channel in the composite; use 0 if a channel should not be included in the composite image\n",
    "    rescale:\n",
    "        True = rescale composite\n",
    "        False = don't rescale composite\n",
    "    nuclei_labels: \n",
    "        a 3d image containing the inferred nuclei labels\n",
    "    median_sz: \n",
    "        width of median filter for _cellmask_ signal\n",
    "    gauss_sig: \n",
    "        sigma for gaussian smoothing of _cellmask_ signal\n",
    "    mo_method: \n",
    "         which method to use for calculating global threshold. Options include:\n",
    "         \"triangle\" (or \"tri\"), \"median\" (or \"med\"), and \"ave_tri_med\" (or \"ave\").\n",
    "         \"ave\" refers the average of \"triangle\" threshold and \"mean\" threshold.\n",
    "    mo_adjust: \n",
    "        Masked Object threshold `local_adjust`\n",
    "    mo_cutoff_size: \n",
    "        Masked Object threshold `size_min`\n",
    "    max_hole_w: \n",
    "        hole filling cutoff for cellmask signal post-processing\n",
    "    small_obj_w: \n",
    "        minimu object size cutoff for cellmask signal post-processing\n",
    "    fill_filter_method:\n",
    "        determines if fill and filter should be run 'sice-by-slice' or in '3D' \n",
    "\n",
    "    Returns\n",
    "    -------------\n",
    "    cellmask_mask:\n",
    "        a logical/labels object defining boundaries of cellmask\n",
    "\n",
    "    \"\"\"\n",
    "    ###################\n",
    "    # EXTRACT\n",
    "    ###################\n",
    "    struct_img = make_aggregate(in_img, *weights, rescale)\n",
    "\n",
    "    ###################\n",
    "    # PRE_PROCESSING\n",
    "    ###################                         \n",
    "    struct_img = scale_and_smooth(struct_img,\n",
    "                                   median_size = median_sz, \n",
    "                                   gauss_sigma = gauss_sig)\n",
    "    \n",
    "\n",
    "    struct_img_non_lin = non_linear_cellmask_transform(struct_img)\n",
    "\n",
    "    ###################\n",
    "    # CORE_PROCESSING\n",
    "    ###################\n",
    "    struct_obj = masked_object_thresh(struct_img_non_lin, \n",
    "                                      global_method=mo_method, \n",
    "                                      cutoff_size=mo_cutoff_size, \n",
    "                                      local_adjust=mo_adjust)               \n",
    "\n",
    "    ###################\n",
    "    # POST_PROCESSING\n",
    "    ###################\n",
    "    struct_obj = fill_and_filter_linear_size(struct_obj, \n",
    "                                             hole_min=min_hole_w, \n",
    "                                             hole_max=max_hole_w, \n",
    "                                             min_size= small_obj_w,\n",
    "                                             method=fill_filter_method)\n",
    "\n",
    "    ###################\n",
    "    # POST- POST_PROCESSING\n",
    "    ###################\n",
    "    cellmask_out = label_bool_as_uint16(struct_obj)\n",
    "\n",
    "    return cellmask_out"
   ]
  },
  {
   "cell_type": "markdown",
   "metadata": {},
   "source": [
    "#### &#x1F3C3; **Run code; no user input required**\n",
    "\n",
    "&#x1F453; **FYI:** This code block applies the function above to your test image. The settings specified above are applied here."
   ]
  },
  {
   "cell_type": "code",
   "execution_count": 27,
   "metadata": {},
   "outputs": [
    {
     "name": "stdout",
     "output_type": "stream",
     "text": [
      "The segmentation output here matches the output created above: True\n"
     ]
    }
   ],
   "source": [
    "_CY_object = _infer_cytoplasm_fromcomposite(img_data,\n",
    "                                                 [w0, w1, w2, w3, w4, w5, w6, w7, w8, w9],\n",
    "                                                 cyto_rescale,\n",
    "                                                 cyto_med_filter_size,\n",
    "                                                 cyto_gaussian_smoothing_sigma,\n",
    "                                                 cyto_thresh_method,\n",
    "                                                 cyto_thresh_adj,\n",
    "                                                 cyto_cutoff_size,\n",
    "                                                 cyto_hole_min_width,\n",
    "                                                 cyto_hole_max_width,\n",
    "                                                 cyto_small_object_width,\n",
    "                                                 cyto_fill_filter_method)\n",
    "\n",
    "# confirm this output matches the output saved above\n",
    "print(f\"The segmentation output here matches the output created above: {np.all(cytoplasm_mask == _CY_object)}\")"
   ]
  },
  {
   "cell_type": "code",
   "execution_count": 28,
   "metadata": {},
   "outputs": [
    {
     "name": "stdout",
     "output_type": "stream",
     "text": [
      "The segmentation output here matches the output created above: True\n"
     ]
    }
   ],
   "source": [
    "from infer_subc.organelles.cytoplasm import infer_cytoplasm_fromcomposite\n",
    "CY = infer_cytoplasm_fromcomposite(img_data,\n",
    "                                    [w0, w1, w2, w3, w4, w5, w6, w7, w8, w9],\n",
    "                                    cyto_rescale,\n",
    "                                    cyto_med_filter_size,\n",
    "                                    cyto_gaussian_smoothing_sigma,\n",
    "                                    cyto_thresh_method,\n",
    "                                    cyto_thresh_adj,\n",
    "                                    cyto_cutoff_size,\n",
    "                                    cyto_hole_min_width,\n",
    "                                    cyto_hole_max_width,\n",
    "                                    cyto_small_object_width,\n",
    "                                    cyto_fill_filter_method) \n",
    "\n",
    "# confirm this output matches the output saved above\n",
    "print(f\"The segmentation output here matches the output created above: {np.all(CY == _CY_object)}\")"
   ]
  },
  {
   "cell_type": "markdown",
   "metadata": {},
   "source": [
    "#### &#x1F3C3; **Run code; no user input required**\n",
    "&#x1F453; **FYI:** This code block defines the `segment_nuclei_seeds()`, function. It is applied below."
   ]
  },
  {
   "cell_type": "code",
   "execution_count": 29,
   "metadata": {},
   "outputs": [],
   "source": [
    "def _segment_nuclei_seeds(cyto_seg: np.ndarray,\n",
    "                          max_nuclei_width: int,\n",
    "                          small_obj_width: int):\n",
    "    \"\"\" \n",
    "    Procedure to segment approximations of the nuclei from a binary mask of the cytoplasm (image with more than one cell)\n",
    "    \n",
    "    Parameters\n",
    "    ----------\n",
    "    cyto_seg: np.ndarray\n",
    "        a binary mask of the cytoplasm\n",
    "    max_nuclei_width: int\n",
    "        the maximum expected width of the nuclei\n",
    "    small_obj_width: int\n",
    "        width of the any small objects that may be left over after nuclei are selected (i.e., errors in the seg)\n",
    "\n",
    "    Returns\n",
    "    ----------\n",
    "    nuclei mask:\n",
    "        a labeled image of one or more nuclei\n",
    "    \"\"\"\n",
    "    # create the inverse of the cytoplasm and increase likelihood for object separation with binary opening\n",
    "    cytoplasm_inverse = 1 - cyto_seg\n",
    "    cytoplasm_inv_opened = binary_opening(cytoplasm_inverse, footprint=np.ones([3,3,3]))\n",
    "\n",
    "    # isolate the nuclei objects that fill be used as seeds for watershed\n",
    "    # these aren't exactly the inverse of the cytoplasm because of the binary opening\n",
    "    nuc_removed = fill_and_filter_linear_size(cytoplasm_inv_opened, \n",
    "                                            hole_max=0, \n",
    "                                            hole_min=0, \n",
    "                                            min_size=max_nuclei_width, \n",
    "                                            method='3D')\n",
    "\n",
    "    nuc_objs = np.logical_xor(cytoplasm_inv_opened, nuc_removed)\n",
    "\n",
    "    # remove an small debris leftover that aren't the correct size for nuclei\n",
    "    nuc_cleaned = fill_and_filter_linear_size(nuc_objs, \n",
    "                                            hole_max=0, \n",
    "                                            hole_min=0, \n",
    "                                            min_size=small_obj_width, \n",
    "                                            method='3D')\n",
    "    \n",
    "\n",
    "    return label_uint16(nuc_cleaned)"
   ]
  },
  {
   "cell_type": "markdown",
   "metadata": {},
   "source": [
    "#### &#x1F3C3; **Run code; no user input required**\n",
    "\n",
    "&#x1F453; **FYI:** This code block applies the function above to your test image. The settings specified above are applied here."
   ]
  },
  {
   "cell_type": "code",
   "execution_count": 30,
   "metadata": {},
   "outputs": [
    {
     "name": "stdout",
     "output_type": "stream",
     "text": [
      "The segmentation output here matches the output created above: True\n"
     ]
    }
   ],
   "source": [
    "_NU_object = _segment_nuclei_seeds(cytoplasm_mask, \n",
    "                                   max_nuclei_width=max_nuc_width,\n",
    "                                   small_obj_width=nuc_min_obj_width)\n",
    "\n",
    "\n",
    "# confirm this output matches the output saved above\n",
    "print(f\"The segmentation output here matches the output created above: {np.all(nuc_labels == _NU_object)}\")"
   ]
  },
  {
   "cell_type": "code",
   "execution_count": 31,
   "metadata": {},
   "outputs": [
    {
     "name": "stdout",
     "output_type": "stream",
     "text": [
      "The segmentation output here matches the output created above: True\n"
     ]
    }
   ],
   "source": [
    "from infer_subc.organelles.nuclei import segment_nuclei_seeds\n",
    "NU = segment_nuclei_seeds(cytoplasm_mask, \n",
    "                          max_nuclei_width=max_nuc_width, \n",
    "                          small_obj_width=nuc_min_obj_width)\n",
    "\n",
    "\n",
    "# confirm this output matches the output saved above\n",
    "print(f\"The segmentation output here matches the output created above: {np.all(NU == _NU_object)}\")"
   ]
  },
  {
   "cell_type": "markdown",
   "metadata": {},
   "source": [
    "#### &#x1F3C3; **Run code; no user input required**\n",
    "&#x1F453; **FYI:** This code block defines the `combine_cytoplasm_and_nuclei()`, function. It is applied below."
   ]
  },
  {
   "cell_type": "code",
   "execution_count": 32,
   "metadata": {},
   "outputs": [],
   "source": [
    "def _combine_cytoplasm_and_nuclei(cyto_seg: np.ndarray,\n",
    "                                  nuc_seg: np.ndarray,\n",
    "                                  fillhole_max: int):\n",
    "    \"\"\"\n",
    "    Function to combine the the cytoplasm and nuclei segmentations to produce the entire cell mask.\n",
    "\n",
    "    Parameters:\n",
    "    ----------\n",
    "    cyto_seg: np.ndarray,\n",
    "        image containing the cytoplasm segmentation\n",
    "    nuc_seg: np.ndarray,\n",
    "        image containing the nuclei segmentation\n",
    "    fillhole_max: int\n",
    "        size of the gaps between the nuclei and cytoplasm (usually small)\n",
    "    \"\"\" \n",
    "    \n",
    "    cells = np.logical_or(cyto_seg.astype(bool), nuc_seg.astype(bool))\n",
    "\n",
    "    cell_multiple = fill_and_filter_linear_size(cells, \n",
    "                                                hole_min=0,\n",
    "                                                hole_max=fillhole_max,\n",
    "                                                min_size=0,\n",
    "                                                method='3D')\n",
    "    \n",
    "    cell_area = cell_multiple.astype(bool)\n",
    "\n",
    "    return cell_area"
   ]
  },
  {
   "cell_type": "markdown",
   "metadata": {},
   "source": [
    "#### &#x1F3C3; **Run code; no user input required**\n",
    "\n",
    "&#x1F453; **FYI:** This code block applies the function above to your test image. The settings specified above are applied here."
   ]
  },
  {
   "cell_type": "code",
   "execution_count": 33,
   "metadata": {},
   "outputs": [
    {
     "name": "stdout",
     "output_type": "stream",
     "text": [
      "The segmentation output here matches the output created above: True\n"
     ]
    }
   ],
   "source": [
    "_CM_object = _combine_cytoplasm_and_nuclei(cytoplasm_mask, \n",
    "                                               nuc_labels, \n",
    "                                               cell_hole_max_width)\n",
    "\n",
    "# confirm this output matches the output saved above\n",
    "print(f\"The segmentation output here matches the output created above: {np.all(cell_multiple == _CM_object)}\")"
   ]
  },
  {
   "cell_type": "code",
   "execution_count": 34,
   "metadata": {},
   "outputs": [
    {
     "name": "stdout",
     "output_type": "stream",
     "text": [
      "The segmentation output here matches the output created above: True\n"
     ]
    }
   ],
   "source": [
    "from infer_subc.organelles.cellmask import combine_cytoplasm_and_nuclei\n",
    "CM = combine_cytoplasm_and_nuclei(cytoplasm_mask, \n",
    "                                               nuc_labels, \n",
    "                                               cell_hole_max_width)\n",
    "\n",
    "# confirm this output matches the output saved above\n",
    "print(f\"The segmentation output here matches the output created above: {np.all(CM == _CM_object)}\")"
   ]
  },
  {
   "cell_type": "markdown",
   "metadata": {},
   "source": [
    "#### &#x1F3C3; **Run code; no user input required**\n",
    "&#x1F453; **FYI:** This code block defines the `select_highest_intensity_cell()`, function. It is applied below."
   ]
  },
  {
   "cell_type": "code",
   "execution_count": 35,
   "metadata": {},
   "outputs": [],
   "source": [
    "def _select_highest_intensity_cell(raw_image: np.ndarray,\n",
    "                                   cell_seg: np.ndarray,\n",
    "                                   nuc_seg: np.ndarray):\n",
    "    \"\"\" \n",
    "    Create an instance segmentation of the cell area using a watershed operation based on nuclei seeds.\n",
    "    Then, select the cell with the highest combined organelle intensity.\n",
    "\n",
    "    Parameters:\n",
    "    ----------\n",
    "    raw_image: np.ndarray,\n",
    "        gray scale 3D multi-channel numpy array (CZYX)\n",
    "    cell_seg: np.ndarray,\n",
    "        binary cell segmentation with multiple cells in the FOV\n",
    "    nuc_seg: np.ndarray,\n",
    "        labeled nuclei segmentation with each nuclei having a different ID number (e.g., the result of the skimage label() function)\n",
    "    # labels_to_consider: Union(list, None)\n",
    "    #     a list of labels that should be considered when determining the highest intensity. Default is None which utilizes all possible labels in the cell image\n",
    "        \n",
    "    Output\n",
    "    ----------\n",
    "    good_cell: np.ndarray  \n",
    "        a binary image of the single cell with the highest total fluorescence intensity\n",
    "    \"\"\"\n",
    "    # instance segmentation of cell area with watershed function\n",
    "    cell_labels = masked_inverted_watershed(cell_seg, markers=nuc_seg, mask=cell_seg, method='3D')\n",
    "\n",
    "    # TODO: add this for if multiple cells of interest\n",
    "    # target_labels = None\n",
    "    # labels_in = cell_labels\n",
    "\n",
    "    # if target_labels is None:\n",
    "    #     all_labels = np.unique(cell_labels)[1:]\n",
    "    # else:\n",
    "    #     all_labels = np.unique(target_labels)[1:]\n",
    "\n",
    "    # create composite of all fluorescence channels after min-max normalization\n",
    "    norm_channels = [(min_max_intensity_normalization(raw_image[c])) for c in range(len(raw_image))]\n",
    "    normed_signal = np.stack(norm_channels, axis=0)\n",
    "    normed_composite = normed_signal.sum(axis=0)\n",
    "\n",
    "    # list of cell IDs to measure intensity of\n",
    "    all_labels = np.unique(cell_labels)[1:]\n",
    "\n",
    "    # measure total intensity in each cell from the ID list\n",
    "    total_signal = [normed_composite[cell_labels == label].sum() for label in all_labels]\n",
    "\n",
    "    # select the cell with the highest total intensity\n",
    "    keep_label = all_labels[np.argmax(total_signal)]\n",
    "    good_cell = cell_labels == keep_label\n",
    "\n",
    "    return good_cell"
   ]
  },
  {
   "cell_type": "markdown",
   "metadata": {},
   "source": [
    "#### &#x1F3C3; **Run code; no user input required**\n",
    "\n",
    "&#x1F453; **FYI:** This code block applies the function above to your test image. The settings specified above are applied here."
   ]
  },
  {
   "cell_type": "code",
   "execution_count": 36,
   "metadata": {},
   "outputs": [
    {
     "name": "stdout",
     "output_type": "stream",
     "text": [
      "The segmentation output here matches the output created above: True\n"
     ]
    }
   ],
   "source": [
    "_good_CM = _select_highest_intensity_cell(img_data, \n",
    "                                          cell_multiple, \n",
    "                                          nuc_labels)\n",
    "\n",
    "# confirm this output matches the output saved above\n",
    "print(f\"The segmentation output here matches the output created above: {np.all(good_cell == _good_CM)}\")"
   ]
  },
  {
   "cell_type": "code",
   "execution_count": 37,
   "metadata": {},
   "outputs": [
    {
     "name": "stdout",
     "output_type": "stream",
     "text": [
      "The segmentation output here matches the output created above: True\n"
     ]
    }
   ],
   "source": [
    "from infer_subc.organelles.cellmask import select_highest_intensity_cell\n",
    "good_CM = select_highest_intensity_cell(img_data, \n",
    "                                         cell_multiple, \n",
    "                                         nuc_labels)\n",
    "\n",
    "# confirm this output matches the output saved above\n",
    "print(f\"The segmentation output here matches the output created above: {np.all(good_CM == _good_CM)}\")"
   ]
  },
  {
   "cell_type": "markdown",
   "metadata": {},
   "source": [
    "#### &#x1F3C3; **Run code; no user input required**\n",
    "&#x1F453; **FYI:** This code block defines the `mask_cytoplasm_nuclei()`, function. It is applied below."
   ]
  },
  {
   "cell_type": "code",
   "execution_count": 38,
   "metadata": {},
   "outputs": [],
   "source": [
    "def _mask_cytoplasm_nuclei(cellmask: np.ndarray,\n",
    "                           cyto_seg: np.ndarray,\n",
    "                           small_obj_size: int):\n",
    "    \"\"\" \n",
    "    mask the cytoplasm with the cell mask to isolate the cytoplasmic area of intereste.\n",
    "    create a single nuclei segmentation from the inverse of the cytoplas (no binary opening)\n",
    "\n",
    "    Parameters:\n",
    "    ----------\n",
    "    cellmask: \n",
    "        binary segmentation of a single cell\n",
    "    cyto_seg:\n",
    "        semantic segmentation of cytoplasm from multiple cells in an image\n",
    "    small_obj_size:\n",
    "        size of small objects to be removed from the final nucleus segmentation image\n",
    "    \"\"\"\n",
    "\n",
    "    good_cyto = apply_mask(cyto_seg, cellmask).astype(bool)\n",
    "\n",
    "    good_cyto_inverse = 1 - good_cyto\n",
    "\n",
    "    nuc_single = clear_border(good_cyto_inverse)\n",
    "\n",
    "    good_nuc = fill_and_filter_linear_size(nuc_single,\n",
    "                                        hole_min=0,\n",
    "                                        hole_max=0, \n",
    "                                        min_size=small_obj_size,\n",
    "                                        method='3D')\n",
    "    \n",
    "    # return good_nuc, good_cyto\n",
    "\n",
    "    stack = stack_masks(nuc_mask=good_nuc, cellmask=cellmask, cyto_mask=good_cyto)\n",
    "    \n",
    "    return stack"
   ]
  },
  {
   "cell_type": "markdown",
   "metadata": {},
   "source": [
    "#### &#x1F3C3; **Run code; no user input required**\n",
    "\n",
    "&#x1F453; **FYI:** This code block applies the function above to your test image. The settings specified above are applied here."
   ]
  },
  {
   "cell_type": "code",
   "execution_count": 39,
   "metadata": {},
   "outputs": [
    {
     "name": "stdout",
     "output_type": "stream",
     "text": [
      "The segmentation output here matches the output created above: True\n"
     ]
    }
   ],
   "source": [
    "_good_MS = _mask_cytoplasm_nuclei(good_cell, \n",
    "                                  cytoplasm_mask, \n",
    "                                  cyto_small_object_width2)\n",
    "\n",
    "# confirm this output matches the output saved above\n",
    "print(f\"The segmentation output here matches the output created above: {np.all(stack == _good_MS)}\")"
   ]
  },
  {
   "cell_type": "code",
   "execution_count": 40,
   "metadata": {},
   "outputs": [
    {
     "name": "stdout",
     "output_type": "stream",
     "text": [
      "The segmentation output here matches the output created above: True\n"
     ]
    }
   ],
   "source": [
    "from infer_subc.organelles.nuclei import mask_cytoplasm_nuclei\n",
    "good_MS = mask_cytoplasm_nuclei(good_cell, \n",
    "                                cytoplasm_mask, \n",
    "                                cyto_small_object_width2)\n",
    "\n",
    "# confirm this output matches the output saved above\n",
    "print(f\"The segmentation output here matches the output created above: {np.all(good_MS == _good_MS)}\")"
   ]
  },
  {
   "cell_type": "markdown",
   "metadata": {},
   "source": [
    "#### &#x1F3C3; **Run code; no user input required**\n",
    "&#x1F453; **FYI:** This code block defines the `infer_masks_B()`, function, the complete function that combines the three above and that will be used for batch processing. It is applied below."
   ]
  },
  {
   "cell_type": "code",
   "execution_count": 41,
   "metadata": {},
   "outputs": [],
   "source": [
    "def _infer_masks_B(in_img: np.ndarray,\n",
    "                   cyto_weights: list[int],\n",
    "                   cyto_rescale: bool,\n",
    "                   cyto_median_sz: int,\n",
    "                   cyto_gauss_sig: float,\n",
    "                   cyto_mo_method: str,\n",
    "                   cyto_mo_adjust: float,\n",
    "                   cyto_mo_cutoff_size: int,\n",
    "                   cyto_min_hole_w: int,\n",
    "                   cyto_max_hole_w: int,\n",
    "                   cyto_small_obj_w: int,\n",
    "                   cyto_fill_filter_method: str,\n",
    "                   max_nuclei_width: int,\n",
    "                   nuc_small_obj_width: int,\n",
    "                   cell_fillhole_max: int,\n",
    "                   cyto_small_object_width2: int) -> np.ndarray:\n",
    "    \n",
    "    \"\"\"\n",
    "    Procedure to infer cellmask from linear unmixed input.\n",
    "\n",
    "    Parameters\n",
    "    ------------\n",
    "    in_img: \n",
    "        a 3d image containing all the channels\n",
    "    weights:\n",
    "        a list of int that corresond to the weights for each channel in the composite; use 0 if a channel should not be included in the composite image\n",
    "    rescale:\n",
    "        True = rescale composite\n",
    "        False = don't rescale composite\n",
    "    nuclei_labels: \n",
    "        a 3d image containing the inferred nuclei labels\n",
    "    median_sz: \n",
    "        width of median filter for _cellmask_ signal\n",
    "    gauss_sig: \n",
    "        sigma for gaussian smoothing of _cellmask_ signal\n",
    "    mo_method: \n",
    "         which method to use for calculating global threshold. Options include:\n",
    "         \"triangle\" (or \"tri\"), \"median\" (or \"med\"), and \"ave_tri_med\" (or \"ave\").\n",
    "         \"ave\" refers the average of \"triangle\" threshold and \"mean\" threshold.\n",
    "    mo_adjust: \n",
    "        Masked Object threshold `local_adjust`\n",
    "    mo_cutoff_size: \n",
    "        Masked Object threshold `size_min`\n",
    "    max_hole_w: \n",
    "        hole filling cutoff for cellmask signal post-processing\n",
    "    small_obj_w: \n",
    "        minimu object size cutoff for cellmask signal post-processing\n",
    "    fill_filter_method:\n",
    "        determines if fill and filter should be run 'sice-by-slice' or in '3D' \n",
    "    cyto_fillhole_max: int\n",
    "        size of the gaps between the nuclei and cytoplasm (usually small)\n",
    "    max_nuclei_width: int\n",
    "        the maximum expected width of the nuclei\n",
    "    nuc_small_obj_width: int\n",
    "        width of the any small objects that may be left over after nuclei are selected (i.e., errors in the seg)\n",
    "    cell_fillhole_max: int\n",
    "        size of the gaps between the nuclei and cytoplasm (usually small)\n",
    "    cyto_small_object_width2: int\n",
    "        size of the gaps between the nuclei and cytoplasm (usually small)\n",
    "\n",
    "    Returns\n",
    "    -------------\n",
    "    mask_stack:\n",
    "        a three channel np.ndarray constisting of the nucleus, cell and cytoplasm masks (one object per channel)\n",
    "\n",
    "    \"\"\"\n",
    "    cytoplasms = infer_cytoplasm_fromcomposite(in_img, \n",
    "                                       cyto_weights,\n",
    "                                       cyto_rescale,\n",
    "                                       cyto_median_sz,\n",
    "                                       cyto_gauss_sig,\n",
    "                                       cyto_mo_method,\n",
    "                                       cyto_mo_adjust,\n",
    "                                       cyto_mo_cutoff_size,\n",
    "                                       cyto_min_hole_w,\n",
    "                                       cyto_max_hole_w,\n",
    "                                       cyto_small_obj_w,\n",
    "                                       cyto_fill_filter_method)\n",
    "    \n",
    "    nuclei_seeds = segment_nuclei_seeds(cytoplasms, \n",
    "                              max_nuclei_width, \n",
    "                              nuc_small_obj_width)\n",
    "    \n",
    "    cellmasks = combine_cytoplasm_and_nuclei(cytoplasms, nuclei_seeds, cell_fillhole_max)\n",
    "    \n",
    "    good_CM = select_highest_intensity_cell(in_img, cellmasks, nuclei_seeds)\n",
    "    \n",
    "    mask_stack = mask_cytoplasm_nuclei(good_CM, cytoplasms, cyto_small_object_width2)\n",
    "    \n",
    "    return mask_stack\n"
   ]
  },
  {
   "cell_type": "markdown",
   "metadata": {},
   "source": [
    "#### &#x1F3C3; **Run code; no user input required**\n",
    "\n",
    "&#x1F453; **FYI:** This code block applies the function above to your test image. The settings specified above are applied here."
   ]
  },
  {
   "cell_type": "code",
   "execution_count": 42,
   "metadata": {},
   "outputs": [
    {
     "name": "stdout",
     "output_type": "stream",
     "text": [
      "The segmentation output here matches the output created above: True\n"
     ]
    }
   ],
   "source": [
    "_stack_M = _infer_masks_B(img_data,\n",
    "                          [w0, w1, w2, w3, w4, w5, w6, w7, w8, w9],\n",
    "                          cyto_rescale,\n",
    "                          cyto_med_filter_size,\n",
    "                          cyto_gaussian_smoothing_sigma,\n",
    "                          cyto_thresh_method,\n",
    "                          cyto_thresh_adj,\n",
    "                          cyto_cutoff_size,\n",
    "                          cyto_hole_min_width,\n",
    "                          cyto_hole_max_width,\n",
    "                          cyto_small_object_width,\n",
    "                          cyto_fill_filter_method,\n",
    "                          max_nuc_width,\n",
    "                          nuc_min_obj_width,\n",
    "                          cell_hole_max_width,\n",
    "                          cyto_small_object_width2)\n",
    "\n",
    "# confirm this output matches the output saved above\n",
    "print(f\"The segmentation output here matches the output created above: {np.all(stack == _stack_M)}\")"
   ]
  },
  {
   "cell_type": "code",
   "execution_count": null,
   "metadata": {},
   "outputs": [
    {
     "name": "stdout",
     "output_type": "stream",
     "text": [
      "The segmentation output here matches the output created above: True\n"
     ]
    },
    {
     "name": "stderr",
     "output_type": "stream",
     "text": [
      "WARNING: monitorData: Unable to obtain handle for monitor '\\\\.\\DISPLAY1', defaulting to 96 DPI.\n",
      "22-Apr-25 15:13:59 - vispy    - WARNING  - monitorData: Unable to obtain handle for monitor '\\\\.\\DISPLAY1', defaulting to 96 DPI.\n"
     ]
    }
   ],
   "source": [
    "from infer_subc.organelles.masks import infer_masks_B\n",
    "stack_M = infer_masks_B(img_data,\n",
    "                          [w0, w1, w2, w3, w4, w5, w6, w7, w8, w9],\n",
    "                          cyto_rescale,\n",
    "                          cyto_med_filter_size,\n",
    "                          cyto_gaussian_smoothing_sigma,\n",
    "                          cyto_thresh_method,\n",
    "                          cyto_thresh_adj,\n",
    "                          cyto_cutoff_size,\n",
    "                          cyto_hole_min_width,\n",
    "                          cyto_hole_max_width,\n",
    "                          cyto_small_object_width,\n",
    "                          cyto_fill_filter_method,\n",
    "                          max_nuc_width,\n",
    "                          nuc_min_obj_width,\n",
    "                          cell_hole_max_width,\n",
    "                          cyto_small_object_width2)\n",
    "\n",
    "# confirm this output matches the output saved above\n",
    "print(f\"The segmentation output here matches the output created above: {np.all(stack_M == _stack_M)}\")"
   ]
  },
  {
   "cell_type": "markdown",
   "metadata": {},
   "source": [
    "-------------\n",
    "### ✅ **INFER MASKS COMPLETE!**\n",
    "\n",
    "Now that a single cell has been identified for analysis, the organelle segmentions need to be completed. Continue on to complete the organelle notebooks (1.2 through 1.7) associated to each of the organelles you would like to include in your analysis:\n",
    "- Infer [`lysosomes`](1.2_infer_lysosome.ipynb)\n",
    "- Infer [`mitochondria`](1.3_infer_mitochondria.ipynb)\n",
    "- Infer [`golgi`](1.4_infer_golgi.ipynb)\n",
    "- Infer [`peroxisomes`](1.5_infer_peroxisome.ipynb)\n",
    "- Infer [`endoplasmic reticulum (ER)`](1.6_infer_ER.ipynb)\n",
    "- Infer [`lipid droplets`](1.7_infer_lipid_droplet.ipynb)"
   ]
  }
 ],
 "metadata": {
  "kernelspec": {
   "display_name": "infer-subc-sc",
   "language": "python",
   "name": "python3"
  },
  "language_info": {
   "codemirror_mode": {
    "name": "ipython",
    "version": 3
   },
   "file_extension": ".py",
   "mimetype": "text/x-python",
   "name": "python",
   "nbconvert_exporter": "python",
   "pygments_lexer": "ipython3",
   "version": "3.10.15"
  },
  "orig_nbformat": 4
 },
 "nbformat": 4,
 "nbformat_minor": 2
}
