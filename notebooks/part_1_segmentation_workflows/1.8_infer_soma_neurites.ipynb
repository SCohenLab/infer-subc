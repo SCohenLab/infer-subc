{
 "cells": [
  {
   "cell_type": "markdown",
   "id": "56633a13",
   "metadata": {},
   "source": [
    "# **Infer Soma And Neurites From Cellmask**\n",
    "\n",
    "***Prior to this notebook, you should have already run through [1.0_image_setup](1.0_image_setup.ipynb) and [1.1_infer_masks](1.1_infer_masks_from-composite_with_nuc.ipynb), [1.1a_infer_masks](1.1a_infer_masks_from-composite_single_cell.ipynb), or [1.1b_infer_masks](1.1b_infer_masks_from-composite_multiple-cells.ipynb).***\n",
    "\n",
    "### ➡️ **Input:**\n",
    "In this workflow, the neuron cellmask segmentation will be used to \"infer\" the locations of the soma (or cell body) and the neurites as separate objects based on their shape. No intensity images are necessary for this workflow.\n",
    "\n",
    "### 🍃 **Soma vs Neurites**\n",
    "Neurons are morphologically complex cell types containing mulitple subcellular regions that each carry out specific functions. One basic subregion classification discernable in most confocal microscopy images of a neuron is the distinction between the soma (or cell body) and the neurites (e.g., dendrites and axons). Here, the segmentation of the neurites from the soma is included to enable downstream comparisons of organelles between subregions.\n",
    "\n",
    "Organelle morphology, distribution, and interactions have been shown to be distinct between different functional regions of cells. For example, the morphological differences in mitochondria between the soma and neurites of a neuron show larger mitochondria volume in neurites than in the soma of the same cell [[1](https://pmc.ncbi.nlm.nih.gov/articles/PMC8423436/)]. Golgi have also been shown to differ in distribution throughout a neuron at different stages of neuronal development as the golgi engages in dendritic golgi translocation, eventually leaving golgi outposts during neuronal maturation [[2](https://doi.org/10.1016/j.celrep.2023.112709)]. Moreover, the interactions between ribosomes and the endoplasmic reticulum are more abundant in the soma and dendrites of neurons as compared to that of the axon [[3](https://pmc.ncbi.nlm.nih.gov/articles/PMC8143122/)].\n",
    "\n",
    "Comparing across distinct subregions enables specific phenotypes underlying cellular physiology to be linked to morphologically distinct subregions of cells. The organelle morphology, interactions, and distribution measurements carried out in [Part 2](/notebooks/part_2_quantification/) are carried out and summarized for the entire cell and within each subregion as part of the Organelle Signature Analysis.\n",
    "\n",
    "\n",
    "-----"
   ]
  },
  {
   "cell_type": "markdown",
   "id": "d13f88a4",
   "metadata": {},
   "source": [
    "### 👣 **Summary of steps**  \n",
    "\n",
    "➡️ **EXTRACTION**\n",
    "- **`STEP 1`** - Extraction of cellmask\n",
    "\n",
    "    - Determine whether cellmask file is a multichannel image or not\n",
    "    - If cellmask file is a multichannel image, choose the cellmask channel\n",
    "\n",
    "**PRE-PROCESSING**\n",
    "- **`STEP 2`** - Calculate radii of cell(s)\n",
    "    \n",
    "    - Choose between binary and isotropic segmentation methods\n",
    "    - Rescale the cell mask to half its original size to reduce upcoming computational and memory requirements\n",
    "    - Determine range of possible radii\n",
    "    - Apply an erosion to rescaled mask using specified method & determine remaining volume\n",
    "        - If no remaining volume, remove all radii above the used radii from radii range\n",
    "        - If there is remaining volume, remove all radii below used radii from radii range \n",
    "        - Repeat until 1 or 2 values remain in the radii range\n",
    "    - Assign determined radius to a label for its corresponding cell\n",
    "\n",
    "**CORE PROCESSING**\n",
    "- **`STEP 3`** - Segment initial soma mask\n",
    "\n",
    "    - Determine radius for cell(s) based on their label\n",
    "    - Apply an erosion the original cellmask using specified method\n",
    "    - Dilate from post-erosion remaining values using the specified method\n",
    "    - Re-mask image with original cellmask segmentation\n",
    "\n",
    "- **`STEP 4`** - Segment initial neurite mask\n",
    "\n",
    "    - Determine radius for cell(s) based on their label\n",
    "    - Mask the inverse of the initial soma mask with the original cellmask\n",
    "    - Remove neurite segmentation below size determined by radius\n",
    "\n",
    "**POST-PROCESSING**\n",
    "- **`STEP 5`** - Clean soma segmentation\n",
    "\n",
    "    - Mask the inverse of the newly made neurite mask with the original cellmask to get small outcrops\n",
    "    - Remove loose specks that are not connected to soma\n",
    "\n",
    "- **`STEP 6`** - Clean neurite segmentation\n",
    "\n",
    "    - Mask the inverse of the newly made soma mask with the original cellmask\n",
    "\n",
    "**POST-POST-PROCESSING** \n",
    "- **`STEP 7`** - Stack masks\n",
    "\n",
    "    - Stack masks in order of cleaned soma mask, cleaned neurites mask\n",
    "\n",
    "**EXPORT** ➡️\n",
    "- Save stacked masks to output file location\n"
   ]
  },
  {
   "cell_type": "markdown",
   "id": "9fcde10f",
   "metadata": {},
   "source": [
    "---------------------\n",
    "## **IMPORTS AND LOAD IMAGE**\n",
    "Details about the functions included in this subsection are outlined in the [`1.0_image_setup`](1.0_image_setup.ipynb) notebook. Please visit that notebook first if you are confused about any of the code included here."
   ]
  },
  {
   "cell_type": "markdown",
   "id": "cc1c5968",
   "metadata": {},
   "source": [
    "#### &#x1F3C3; **Run code; no user input required**"
   ]
  },
  {
   "cell_type": "code",
   "execution_count": null,
   "id": "1143afd3",
   "metadata": {},
   "outputs": [],
   "source": [
    "from pathlib import Path\n",
    "import os, sys\n",
    "import numpy as np\n",
    "from infer_subc.core.file_io import (list_image_files, \n",
    "                                     read_czi_image, \n",
    "                                     read_tiff_image,\n",
    "                                     export_inferred_organelle)\n",
    "from infer_subc.utils.batch import find_segmentation_tiff_files\n",
    "from infer_subc.core.img import size_filter_linear_size, select_cellmask_from_img\n",
    "from infer_subc.organelles.cellmask import (find_radius, \n",
    "                                            infer_soma_from_mask, \n",
    "                                            infer_neurites_from_mask, \n",
    "                                            clean_soma_from_neurites, \n",
    "                                            clean_neurites_from_soma)\n",
    "\n",
    "import napari\n",
    "from napari.utils.notebook_display import nbscreenshot\n",
    "from skimage.morphology import isotropic_opening, isotropic_dilation, isotropic_erosion, binary_opening, binary_dilation, binary_erosion, disk, ball\n",
    "from skimage.measure import label\n",
    "from scipy.ndimage import zoom\n",
    "import pandas as pd"
   ]
  },
  {
   "cell_type": "markdown",
   "id": "24b67402",
   "metadata": {},
   "source": [
    "#### &#x1F6D1; &#x270D; **User Input Required:**\n",
    "\n",
    "Please specify the following information about your data: `im_type`, `data_root_path`, `in_data_path`, and `out_data_path`."
   ]
  },
  {
   "cell_type": "code",
   "execution_count": null,
   "id": "9f146cda",
   "metadata": {},
   "outputs": [],
   "source": [
    "#### USER INPUT REQUIRED ###\n",
    "im_type = \".tiff\"\n",
    "# data_root_path = Path(os.path.expanduser(\"~\")) / \"Documents/Python Scripts/Infer-subc-2D\"\n",
    "# in_data_path = Path(\"C:/Users/zscoman/Documents/Python Scripts/Infer-subc-2D/neurites/segmentations\")\n",
    "# out_data_path = Path(\"C:/Users/zscoman/Documents/Python Scripts/Infer-subc-2D/neurites/segmentations/out\")\n",
    "\n",
    "data_root_path = Path(os.path.expanduser(\"~\")) / \"Documents/Python Scripts/Infer-subc-2D/neurites\"\n",
    "in_data_path = data_root_path / \"raw\"\n",
    "out_data_path = data_root_path / \"segmentations\""
   ]
  },
  {
   "cell_type": "markdown",
   "id": "2542ab4e",
   "metadata": {},
   "source": [
    "#### &#x1F3C3; **Run code; no user input required**"
   ]
  },
  {
   "cell_type": "code",
   "execution_count": null,
   "id": "b8efa41a",
   "metadata": {},
   "outputs": [],
   "source": [
    "# list files in the input folder\n",
    "img_file_list = list_image_files(in_data_path,im_type)\n",
    "pd.set_option('display.max_colwidth', None)\n",
    "pd.DataFrame({\"Image Name\":img_file_list})"
   ]
  },
  {
   "cell_type": "markdown",
   "id": "7ef9951d",
   "metadata": {},
   "source": [
    "#### &#x1F6D1; &#x270D; **User Input Required:**\n",
    "\n",
    "Use the list above to specify which image you wish to analyze based on its index: `test_img_n`"
   ]
  },
  {
   "cell_type": "code",
   "execution_count": null,
   "id": "f41662bf",
   "metadata": {},
   "outputs": [],
   "source": [
    "#### USER INPUT REQUIRED ###\n",
    "test_img_n = 0"
   ]
  },
  {
   "cell_type": "markdown",
   "id": "ad79d67d",
   "metadata": {},
   "source": [
    "#### &#x1F3C3; **Run code; no user input required**"
   ]
  },
  {
   "cell_type": "code",
   "execution_count": null,
   "id": "c867300d",
   "metadata": {},
   "outputs": [],
   "source": [
    "# load image and metadata\n",
    "test_img_name = img_file_list[test_img_n]\n",
    "img_data,meta_dict = read_czi_image(test_img_name)\n",
    "\n",
    "# metadata\n",
    "channel_names = meta_dict['name']\n",
    "meta = meta_dict['metadata']['aicsimage']\n",
    "scale = meta_dict['scale']\n",
    "channel_axis = meta_dict['channel_axis']\n",
    "file_path = meta_dict['file_name']\n",
    "print(\"Metadata information\")\n",
    "print(f\"File path: {file_path}\")\n",
    "for i in list(range(len(channel_names))):\n",
    "    print(f\"Channel {i} name: {channel_names[i]}\")\n",
    "print(f\"Scale (ZYX): {scale}\")\n",
    "print(f\"Channel axis: {channel_axis}\")\n",
    "\n",
    "# open viewer and add images\n",
    "viewer = napari.Viewer()\n",
    "for i in list(range(len(channel_names))):\n",
    "    viewer.add_image(img_data[i],\n",
    "                     scale=scale,\n",
    "                     name=f\"Channel {i}\")\n",
    "    \n",
    "cellmask = read_tiff_image(find_segmentation_tiff_files(file_path, ['cell'], out_data_path, '-')['cell'])\n",
    "viewer.add_labels(cellmask, scale=scale, name=\"cellmask\")\n",
    "viewer.grid.enabled = True\n",
    "viewer.reset_view()\n",
    "print(\"\\nProceed to Napari window to view your selected raw image.\")"
   ]
  },
  {
   "cell_type": "markdown",
   "id": "7903fc7b",
   "metadata": {},
   "source": [
    "-----\n",
    "\n",
    "## **EXTRACTION**"
   ]
  },
  {
   "cell_type": "markdown",
   "id": "9222d160",
   "metadata": {},
   "source": [
    "### **`STEP 1` - Read in Cell Mask**\n",
    "\n",
    "#### &#x1F6D1; &#x270D; **User Input Required:**\n",
    "\n",
    "Please determine whether the cellmask file has both the nucleus and the cellmask within it.\n",
    "- `nuc_present`: a True/False statement of whether the cellmask file contains the nucleus mask\n",
    "If the cellmask does contain the nucleus mask, we will automatically collect only channel 0 (which should be the cellmask)\n",
    "- `chan`: an int for the channel the cellmask is located in within the cellmask file for files with both the nucleus and cellmask stacked together. If nuc_present is set to False, this value can be ignored"
   ]
  },
  {
   "cell_type": "code",
   "execution_count": null,
   "id": "60c1d83f",
   "metadata": {},
   "outputs": [],
   "source": [
    "#### USER INPUT REQUIRED ###\n",
    "multichannel_input = False\n",
    "chan = 0"
   ]
  },
  {
   "cell_type": "markdown",
   "id": "19ca3464",
   "metadata": {},
   "source": [
    "#### &#x1F3C3; **Run code; no user input required**\n",
    "\n",
    "&#x1F453; **FYI:** This code block extracts the cell mask from the cell mask and nucleus mask combined image. It will be the only part of the original image used in the rest of this workflow. The cell mask channel is added to the Napari viewer."
   ]
  },
  {
   "cell_type": "code",
   "execution_count": null,
   "id": "b2bda16f",
   "metadata": {},
   "outputs": [],
   "source": [
    "if multichannel_input:\n",
    "    cell_mask = cellmask[chan]\n",
    "    viewer.add_image(cell_mask, name=\"Cell Mask\", scale=scale)\n",
    "else:\n",
    "    cell_mask = cellmask\n",
    "    viewer.add_image(cell_mask, name=\"Cell Mask\", scale=scale)\n",
    "viewer.grid.enabled = False"
   ]
  },
  {
   "cell_type": "markdown",
   "id": "fad57a6d",
   "metadata": {},
   "source": [
    "-----\n",
    "## **PRE-PROCESSING**"
   ]
  },
  {
   "cell_type": "markdown",
   "id": "8c1b666c",
   "metadata": {},
   "source": [
    "### **`STEP 2` - Calculate Radii of Cell(s)**"
   ]
  },
  {
   "cell_type": "markdown",
   "id": "8e5bcc2b",
   "metadata": {},
   "source": [
    "#### &#x1F6D1; &#x270D; **User Input Required:**\n",
    "\n",
    "Decide whether to use isotropic or binary methods. Isotropic methods are more memory and time efficient; however, they are more likely to undersegment the soma as compared to binary methods. Binary methods are more likely to oversegment the soma as compared to the isotropic methods, so they should be used if having the initial segment of the neurites included in the soma region is desired.\n",
    "\n",
    "The binary method uses a saucer-like shape as the footprint; whereas the isotropic method uses a spherical shape as the footprint. The \"saucer\" is comprised of 3 2-Dimensional disks stacked into a 3-Dimensional space whereas the ball assumes the same number of voxels wide as it is tall and deep. \n",
    "\n",
    "In cases where the soma is more circular, using isotropic methods will be executed faster, and the more circular the cell is, less of the cell will be considered part of the neurites. The binary methods on the other hand will be more saucer shaped, allowing for more of a irregular shaped soma. Binary methods require higher processing power, and are executed slower than isotropic methods.\n",
    "\n",
    "The determined radius is used to recreate a saucer or sphere for the actual segmentation of the soma from the neurites in the following step."
   ]
  },
  {
   "cell_type": "code",
   "execution_count": null,
   "id": "b080d26e",
   "metadata": {},
   "outputs": [],
   "source": [
    "# Options are 'isotropic' or 'binary'\n",
    "method = 'binary'"
   ]
  },
  {
   "cell_type": "markdown",
   "id": "84302470",
   "metadata": {},
   "source": [
    "#### &#x1F3C3; **Run code; no user input required**\n",
    "\n",
    "&#x1F453; **FYI:** This code block contains a loop that continues until there are only 1 or 2 values remaining in the radii range for each cell within the image.\n",
    "\n",
    "First, the block of code creates a range of possible radii. These radii are then sorted through by checking the efficacy of the radius in the middle of the range of possible radii, and removing either all radii above the tested radius value or below the tested radius value from the list. The above process is repeated until there are only 1 or 2 values remaining in the radii range.\n",
    "\n",
    "The way that the code checks the efficacy of the radius in the range is either developing a version of the \"saucer\" that will be used to segment the soma and neurites from the cell mask or using an isotropic erosion method to segment the soma from the cellmask via a sphere. The \"saucer\" is comprised of 3 2-Dimensional disks stacked into a 3-Dimensional space. The top and bottom disk are set to a shorter radius than the center disk. \n",
    "\n",
    "The efficacy of the radius is deemed as whether the radius results in an absence of cell mask or not. If there is an absence of cell mask, the radius is deemed too large, and it alongside all radii above it are removed from the possible radii. If there is no absence of cell mask, the radius is deemed too small, and all radii that are below it are removed from the possible radii. This process repeats until there are only 1 or 2 possible radii remaining, at which point, the average radius of the remaining radii is selected, and divided by 2.\n",
    "\n",
    "When the final radius value is determined, the block of code outputs an image with the cell(s) labeled with the radius value and the cell number with no other modifications from the cell mask image. \n",
    "> NOTE: The label given to each cell is defined as $('radius$ $of$ $the$ $cell'$ $×$ $10^n)$ $+$ $'cell$ $number'$ where $n$ is the number of digits in total number of cells. \n",
    "\n",
    "> For example, in an image with 11 total cells, $'cell$ $number'$ 6 with a $radius$ of 16 would be given a label of 1606."
   ]
  },
  {
   "cell_type": "code",
   "execution_count": null,
   "id": "58b38d4c",
   "metadata": {},
   "outputs": [],
   "source": [
    "radii_mask = np.zeros_like(cell_mask)\n",
    "cell_mask_resize = zoom(cell_mask.copy(), (1, 0.5, 0.5))\n",
    "zz, yy, xx = cell_mask_resize.shape\n",
    "\n",
    "cell_nums = np.unique(cell_mask[cell_mask != 0])\n",
    "label_factor = 10 ** cell_nums.max()\n",
    "\n",
    "for cell_num in cell_nums:\n",
    "    test_img = (cell_mask_resize == cell_num)\n",
    "    rad_range = [i+1 for i in range(yy // 4)]  # Dividing by 4 because mask is resized\n",
    "\n",
    "    if method == 'isotropic':\n",
    "        while len(rad_range) > 2:\n",
    "            rad = rad_range[len(rad_range) // 2]\n",
    "            print(f\"Trying radius of {rad}\")\n",
    "            if np.all(isotropic_erosion(test_img.astype(np.uint8), rad) == 0):\n",
    "                rad_range = rad_range[:rad_range.index(rad)]\n",
    "                print(f\"{rad} is too large\")\n",
    "            else:\n",
    "                rad_range = rad_range[rad_range.index(rad)+1:]\n",
    "                print(f\"{rad} is too small\")\n",
    "            print(f\"{len(rad_range)} possible radii remaining\")\n",
    "    elif method == 'binary':\n",
    "        while len(rad_range) > 2:\n",
    "            rad = rad_range[len(rad_range) // 2]\n",
    "            print(f\"Trying radius of {rad}\")\n",
    "            edge = disk(rad // 4)\n",
    "            middle = disk(rad)\n",
    "            w = (middle.shape[0] - edge.shape[0]) // 2\n",
    "            edge = np.pad(edge, ((w, w), (w, w)), mode='constant', constant_values=0)\n",
    "            fp = np.stack((edge, middle, edge))\n",
    "            if np.all(binary_erosion(test_img.astype(np.uint8), fp) == 0):\n",
    "                rad_range = rad_range[:rad_range.index(rad)]\n",
    "                print(f\"{rad} is too large\")\n",
    "            else:\n",
    "                rad_range = rad_range[rad_range.index(rad)+1:]\n",
    "                print(f\"{rad} is too small\")\n",
    "            print(f\"{len(rad_range)} possible radii remaining\")\n",
    "\n",
    "    if len(rad_range) == 1:\n",
    "        opti_rad = rad_range[0] // 2\n",
    "    elif len(rad_range) == 2:\n",
    "        opti_rad = (rad_range[0] + rad_range[1]) // 4\n",
    "    radii_mask[cell_mask == cell_num] = (opti_rad * label_factor) + cell_num"
   ]
  },
  {
   "cell_type": "code",
   "execution_count": null,
   "id": "a8f2f38a",
   "metadata": {},
   "outputs": [],
   "source": [
    "# radii_mask = np.zeros_like(cell_mask)\n",
    "# cell_mask_resize = zoom(cell_mask.copy(), (1, 0.5, 0.5))\n",
    "# zz, yy, xx = np.shape(cell_mask_resize)\n",
    "\n",
    "# cell_nums = np.unique(cell_mask[cell_mask != 0])\n",
    "# label_factor = 10 ** cell_nums.max()\n",
    "\n",
    "# for cell_num in cell_nums:\n",
    "#     rad_range = [i+1 for i in list(range(yy // 4))] #determines a range of radii to test for each cell\n",
    "#                                                     # Dividing by 4 because the cell mask is resized to half the original size\n",
    "#     test_img = np.zeros_like(cell_mask_resize)\n",
    "#     test_img[cell_mask_resize == cell_num] = 1\n",
    "#     if method == 'isotropic':\n",
    "#         while len(rad_range) > 2:\n",
    "#             rad = rad_range[((len(rad_range)) // 2)]\n",
    "#             print(f\"Trying radius of {rad}\")\n",
    "#             if np.array_equal(isotropic_erosion(test_img.copy(), rad), np.zeros_like(test_img)):\n",
    "#                 rad_range = rad_range[:(rad_range.index(rad))]\n",
    "#                 print(f\"{rad} is too large\")\n",
    "#             else:\n",
    "#                 rad_range = rad_range[(rad_range.index(rad)+1):]\n",
    "#                 print(f\"{rad} is too small\")\n",
    "#             print(f\"{len(rad_range)} possible radii remaining\")\n",
    "#     elif method == 'binary':\n",
    "#         while len(rad_range) > 2:\n",
    "#             rad = rad_range[((len(rad_range)) // 2)]\n",
    "#             print(f\"Trying radius of {rad}\")\n",
    "#             edge = disk(rad//4)\n",
    "#             middle = disk(rad)\n",
    "#             w = (np.shape(middle)[0] - np.shape(edge)[0])//2\n",
    "#             edge = np.pad(edge, ((w,w),(w,w)), mode = 'constant', constant_values=0)\n",
    "#             fp = np.stack((edge, middle, edge))\n",
    "#             if np.array_equal(binary_erosion(test_img, fp), np.zeros_like(test_img)):\n",
    "#                 rad_range = rad_range[:(rad_range.index(rad))]\n",
    "#                 print(f\"{rad} is too large\")\n",
    "#             else:\n",
    "#                 rad_range = rad_range[(rad_range.index(rad)+1):]\n",
    "#                 print(f\"{rad} is too small\")\n",
    "#             print(f\"{len(rad_range)} possible radii remaining\")\n",
    "\n",
    "#     if len(rad_range) == 1:\n",
    "#         opti_rad = rad_range[0]//2\n",
    "#     elif len(rad_range) == 2:\n",
    "#         opti_rad = (rad_range[0] + rad_range[1])//4\n",
    "#     radii_mask[cell_mask == cell_num] = (opti_rad*label_factor) + cell_num"
   ]
  },
  {
   "cell_type": "markdown",
   "id": "db27a836",
   "metadata": {},
   "source": [
    "-----\n",
    "## **CORE-PROCESSING**"
   ]
  },
  {
   "cell_type": "markdown",
   "id": "ebc13f8f",
   "metadata": {},
   "source": [
    "### **`STEP 3` - Segment Initial Soma Mask**"
   ]
  },
  {
   "cell_type": "markdown",
   "id": "572fd040",
   "metadata": {},
   "source": [
    "#### &#x1F6D1; &#x270D; **User Input Required:**\n",
    "\n",
    "For ideal functionality, you should use the same method here as was used above. Changing methods can result in parts of the soma being heavily under or oversegmented. In the worst case scenario, this may result in a complete absence of a soma; however, in the best case scenario, this may result in a soma that is segmented slightly better than what would have happened if you chose the same method as earlier."
   ]
  },
  {
   "cell_type": "code",
   "execution_count": null,
   "id": "abf01e68",
   "metadata": {},
   "outputs": [],
   "source": [
    "# Options are 'isotropic' or 'binary'\n",
    "method = 'binary'"
   ]
  },
  {
   "cell_type": "markdown",
   "id": "0a8bae96",
   "metadata": {},
   "source": [
    "#### &#x1F3C3; **Run code; no user input required**\n",
    "&#x1F453; **FYI:** This block of code output a soma segmentation for each cell using the radii determined in step 2.\n",
    "\n",
    "To collect the radii determined in step 2, this block of code undoes the math used to label the cells in search of the cell's radius value. This radius value is then used to segment the soma from the cell mask in either the \"saucer\" used in binary segmentaiton or the sphere used in isotropic segmentation. The \"saucer\" is comprised of 3 2-Dimensional disks stacked into a 3-Dimensional space where the top and bottom disk are set to a shorter radius than the center disk. Meanwhile, the sphere is equidimensional in shape with the radius of it being exactly what was determined in step 2 at all angles.\n",
    "\n",
    "While code in this step is similar to that of step 3, this step uses the enlarged version of the cell mask, not the resized version used for the determination of the optimal radius. This results in a more accurate version of the cell mask being segmented rather than the shrunken down version used to assist with processing speed and memory usage.\n",
    "\n",
    "Afterwards, the soma segmentation is added to Napari for visualization."
   ]
  },
  {
   "cell_type": "code",
   "execution_count": null,
   "id": "2fba9d7a",
   "metadata": {},
   "outputs": [],
   "source": [
    "soma_out_1 = np.zeros_like(cell_mask)\n",
    "\n",
    "cell_nums = np.unique(cell_mask[cell_mask != 0])\n",
    "label_factor = 10 ** cell_nums.max()\n",
    "\n",
    "for cell_num in cell_nums:\n",
    "    soma_img_solo = (cell_mask == cell_num)\n",
    "    opti_rad = np.unique(radii_mask[soma_img_solo])[0]\n",
    "    opti_rad = (opti_rad - cell_num) / label_factor\n",
    "\n",
    "    if method == 'isotropic':\n",
    "        neurites_removed = isotropic_opening(soma_img_solo.astype(np.uint8), opti_rad)\n",
    "        soma_initial = isotropic_dilation(neurites_removed, opti_rad) & soma_img_solo\n",
    "    elif method == 'binary':\n",
    "        edge = disk(int(opti_rad // 2))\n",
    "        middle = disk(int(opti_rad))\n",
    "        w = (middle.shape[0] - edge.shape[0]) // 2\n",
    "        edge = np.pad(edge, ((w, w), (w, w)), mode='constant', constant_values=0)\n",
    "        fp = np.stack((edge, middle, edge))\n",
    "        neurites_removed = binary_opening(soma_img_solo.astype(np.uint8), fp)\n",
    "        viewer.add_image(neurites_removed, scale=scale)\n",
    "        soma_initial = binary_dilation(neurites_removed, footprint=ball(int(opti_rad // 2))) & soma_img_solo\n",
    "        viewer.add_image(soma_initial, scale=scale)\n",
    "    else:\n",
    "        raise ValueError(f\"method of {method} was given, but only 'isotropic' or 'binary' is allowed.\")\n",
    "\n",
    "    soma_out_1[soma_initial] = cell_num\n",
    "\n",
    "viewer.add_labels(soma_out_1, scale=scale, name=\"Initial Soma Segmentations\")"
   ]
  },
  {
   "cell_type": "code",
   "execution_count": null,
   "id": "c964da27",
   "metadata": {},
   "outputs": [],
   "source": [
    "# soma_out_1 = np.zeros_like(cell_mask)\n",
    "\n",
    "# cell_nums = np.unique(cell_mask[cell_mask != 0])\n",
    "# label_factor = 10 ** cell_nums.max()\n",
    "\n",
    "# for cell_num in cell_nums:\n",
    "#     soma_img_solo = np.zeros_like(cell_mask)\n",
    "#     soma_img_solo[cell_mask == cell_num] = 1\n",
    "\n",
    "#     opti_rad = np.unique(radii_mask[cell_mask == cell_num])[0]\n",
    "#     opti_rad = (opti_rad - cell_num) / label_factor\n",
    "\n",
    "#     if method == 'isotropic':\n",
    "#         neurites_removed = isotropic_opening(soma_img_solo, opti_rad)\n",
    "#         soma_initial = isotropic_dilation(neurites_removed, (opti_rad)) * soma_img_solo\n",
    "#     elif method == 'binary':\n",
    "#         edge = disk(opti_rad//2)\n",
    "#         middle = disk(opti_rad)\n",
    "#         w = (np.shape(middle)[0] - np.shape(edge)[0])//2\n",
    "#         edge = np.pad(edge, ((w,w),(w,w)), mode = 'constant', constant_values=0)\n",
    "#         fp = np.stack((edge, middle, edge))\n",
    "#         neurites_removed = binary_opening(soma_img_solo, fp)\n",
    "#         viewer.add_image(neurites_removed, scale=scale)\n",
    "#         soma_initial = binary_dilation(neurites_removed, footprint=ball((opti_rad)//2)) * soma_img_solo\n",
    "#         viewer.add_image(soma_initial, scale=scale)\n",
    "#     else: \n",
    "#         raise ValueError(f\"method of {method} was given, but only 'isotropic' or 'binary' is allowed.\")\n",
    "\n",
    "#     soma_out_1[soma_initial == 1] = cell_num #ensures that the only spot changed is the target cell\n",
    "# viewer.add_labels(soma_out_1, scale=scale, name=\"Initial Soma Segmentations\")"
   ]
  },
  {
   "cell_type": "markdown",
   "id": "c7dfa4b2",
   "metadata": {},
   "source": [
    "### **`STEP 4` - Segment Initial Neurite Mask**"
   ]
  },
  {
   "cell_type": "markdown",
   "id": "b9adba2b",
   "metadata": {},
   "source": [
    "#### &#x1F6D1; &#x270D; **User Input Required:**\n",
    "\n",
    "Once again, for ideal functionality, you should use the same method here as was used above. Changing methods can result in parts of the neurites being excluded from the neurite segmentation that should otherwise be included or vice versa. In the worst case scenario, the parts of the neurites that should be included in the neurite segmentation will be instead included as a part of the soma later down the pipeline. In the best case scenario, there will be little to no difference from choosing the other method as this will be corrected when cleaning the soma and neurite segmentations later down the pipeline."
   ]
  },
  {
   "cell_type": "code",
   "execution_count": null,
   "id": "2f25a16d",
   "metadata": {},
   "outputs": [],
   "source": [
    "# Options are 'isotropic' or 'binary'\n",
    "method = 'binary'"
   ]
  },
  {
   "cell_type": "markdown",
   "id": "532e8a41",
   "metadata": {},
   "source": [
    "#### &#x1F3C3; **Run code; no user input required**\n",
    "\n",
    "&#x1F453; **FYI:** This code block uses the inverse of the soma found in the previous step to segment the neurites from the original cell mask.\n",
    "\n",
    "Using the radii found in step 2, smaller sections of the neurites are temporarily removed from the segmentation to check if they would serve better as part of the soma. To collect the radii determined in step 2, this block of code also undoes the math used to label the cells in search of the cell's radius value. "
   ]
  },
  {
   "cell_type": "code",
   "execution_count": null,
   "id": "33c845cf",
   "metadata": {},
   "outputs": [],
   "source": [
    "neurites_out_1 = np.zeros_like(cell_mask)\n",
    "\n",
    "cell_nums = np.unique(cell_mask[cell_mask != 0])\n",
    "label_factor = 10 ** cell_nums.max()\n",
    "binary_soma = soma_out_1 > 0\n",
    "\n",
    "for cell_num in cell_nums:\n",
    "    solo_mask = (cell_mask == cell_num)\n",
    "    opti_rad = np.unique(radii_mask[solo_mask])[0]\n",
    "    opti_rad = (opti_rad - cell_num) / label_factor\n",
    "\n",
    "    neurite_mask = ~binary_soma & solo_mask\n",
    "    if method == 'isotropic':\n",
    "        filtered = size_filter_linear_size(img=label(neurite_mask), min_size=(opti_rad*2), method='3D') * solo_mask\n",
    "    elif method == 'binary':\n",
    "        filtered = size_filter_linear_size(img=label(neurite_mask), min_size=(opti_rad//2), method='3D') * solo_mask\n",
    "    else:\n",
    "        raise ValueError(f\"method of {method} was given, but only 'isotropic' or 'binary' is allowed.\")\n",
    "\n",
    "    neurite_labels = label(filtered)\n",
    "    neurite_labels[neurite_labels > 0] = (neurite_labels[neurite_labels > 0] * label_factor) + cell_num\n",
    "    neurites_out_1[solo_mask] = neurite_labels[solo_mask]\n",
    "\n",
    "viewer.add_labels(neurites_out_1, scale=scale, name=\"Initial Neurite Segmentations\")"
   ]
  },
  {
   "cell_type": "code",
   "execution_count": null,
   "id": "f1a098d1",
   "metadata": {},
   "outputs": [],
   "source": [
    "# neurites_out_1 = np.zeros_like(cell_mask)\n",
    "\n",
    "# cell_nums = np.unique(cell_mask[cell_mask != 0])\n",
    "# label_factor = 10 ** cell_nums.max()\n",
    "\n",
    "# for cell_num in cell_nums:\n",
    "#     solo_mask = np.zeros_like(cell_mask)\n",
    "#     binary_soma = np.zeros_like(cell_mask)\n",
    "#     solo_mask[cell_mask==cell_num] = 1\n",
    "#     binary_soma[soma_out_1 > 0] = 1\n",
    "#     opti_rad = np.unique(radii_mask[cell_mask == cell_num])[0]\n",
    "#     opti_rad = (opti_rad - cell_num) / label_factor\n",
    "#     if method == 'isotropic':\n",
    "#         neurites1 = ~(binary_soma.astype(bool)) & (solo_mask == 1)\n",
    "#         neurites1 = label(size_filter_linear_size(img=label(neurites1), min_size=(opti_rad*2), method='3D') * solo_mask)               #objects below a certain size are not considered neurites initially \n",
    "#     elif method == 'binary':\n",
    "#         neurites1 = ~(binary_soma.astype(bool)) & (solo_mask == 1)\n",
    "#         neurites1 = label(size_filter_linear_size(img=label(neurites1), min_size=(opti_rad//2), method='3D') * solo_mask)              #objects below a certain size are not considered neurites initially\n",
    "#     else: \n",
    "#         raise ValueError(f\"method of {method} was given, but only 'isotropic' or 'binary' is allowed.\")\n",
    "#     neurites1[neurites1 > 0] = (neurites1[neurites1 > 0] * label_factor) + cell_num # relabels the neurites\n",
    "#     neurites_out_1[solo_mask == 1] = neurites1[solo_mask==1] #ensures that the only spot changed is the target cell\n",
    "\n",
    "# viewer.add_labels(neurites_out_1, scale=scale, name=\"Initial Neurite Segmentations\")"
   ]
  },
  {
   "cell_type": "markdown",
   "id": "b5f1f9ef",
   "metadata": {},
   "source": [
    "-----\n",
    "## **POST-PROCESSING**"
   ]
  },
  {
   "cell_type": "markdown",
   "id": "3e9cdd33",
   "metadata": {},
   "source": [
    "### **`STEP 5` - Cleaned Soma Segmentation**"
   ]
  },
  {
   "cell_type": "markdown",
   "id": "4a168088",
   "metadata": {},
   "source": [
    "#### &#x1F3C3; **Run code; no user input required**\n",
    "\n",
    "The below block of code takes smaller areas of the neurite segmentation, and checks if they are directly connected to the soma segmentation. If so, these areas are considered a part of the soma rather than the neurites. If there are parts of the neurite mask that were not directly connected with the soma mask, those parts are temporarily removed to be included in the neurite mask in the following step."
   ]
  },
  {
   "cell_type": "code",
   "execution_count": null,
   "id": "65b4d78d",
   "metadata": {},
   "outputs": [],
   "source": [
    "soma_out_2 = np.zeros_like(cell_mask)\n",
    "\n",
    "cell_nums = np.unique(cell_mask[cell_mask != 0])\n",
    "label_factor = 10 ** cell_nums.max()\n",
    "\n",
    "# Create a mask for all neurites at once\n",
    "neurites_mask = (neurites_out_1 % label_factor) > 0\n",
    "\n",
    "# For each cell, mask soma regions in one go\n",
    "soma_mask = (~neurites_mask) & (cell_mask != 0)\n",
    "\n",
    "# Find the most common value in soma_mask for each cell and assign only those pixels\n",
    "for cell_num in cell_nums:\n",
    "    cell_region = (cell_mask == cell_num)\n",
    "    soma_region = soma_mask & cell_region\n",
    "    # Only keep the largest connected region (most common value)\n",
    "    if np.any(soma_region):\n",
    "        bincount = np.bincount(soma_region.ravel())\n",
    "        main_val = np.argmax(bincount[1:]) + 1 if len(bincount) > 1 else 1\n",
    "        soma_region = soma_region & (soma_region == main_val)\n",
    "        soma_out_2[cell_region] = soma_region[cell_region] * cell_num\n",
    "\n",
    "viewer.add_labels(soma_out_2, scale=scale, name=\"Cleaned Soma Segmentation\")"
   ]
  },
  {
   "cell_type": "code",
   "execution_count": null,
   "id": "6124d687",
   "metadata": {},
   "outputs": [],
   "source": [
    "# soma_out_2 = np.zeros_like(cell_mask)\n",
    "\n",
    "# cell_nums = np.unique(cell_mask[cell_mask != 0])\n",
    "# label_factor = 10 ** cell_nums.max()\n",
    "\n",
    "# for cell_num in cell_nums:\n",
    "#     solo_mask = np.zeros_like(cell_mask)\n",
    "#     solo_mask[cell_mask==cell_num] = 1\n",
    "#     neurites = np.zeros_like(cell_mask)\n",
    "#     neurites[(neurites_out_1 % label_factor) == cell_num] = 1\n",
    "#     soma = ~(neurites.astype(bool)) & (solo_mask == 1)\n",
    "#     soma[soma!=np.bincount(np.ravel(soma)[np.ravel(soma)!= 0]).argmax()] = 0\n",
    "#     soma_out_2[cell_mask == cell_num] = soma[cell_mask == cell_num] * cell_num\n",
    "    \n",
    "# viewer.add_labels(soma_out_2, scale=scale, name=\"Cleaned Soma Segmentation\")"
   ]
  },
  {
   "cell_type": "markdown",
   "id": "1def5e36",
   "metadata": {},
   "source": [
    "### **`STEP 6` - Cleaned Neurite Segmentation**"
   ]
  },
  {
   "cell_type": "markdown",
   "id": "f68b0576",
   "metadata": {},
   "source": [
    "#### &#x1F3C3; **Run code; no user input required**\n",
    "\n",
    "The below block of code uses the cleaned up soma segmentation to resegment the neurites from the cell mask. Any sections of the neurites that were small, but were not directly attached to the soma are reconsidered as neurites whereas any small sections of the neurites that were directly attached to the soma are no longer considered neurites. This section of code also ensures that any section of the cell mask that the neurites are present in, the soma is not and vice versa."
   ]
  },
  {
   "cell_type": "code",
   "execution_count": null,
   "id": "0d4592bf",
   "metadata": {},
   "outputs": [],
   "source": [
    "cell_nums = np.unique(cell_mask[cell_mask != 0])\n",
    "binary_soma = soma_out_2 > 0\n",
    "\n",
    "# Create a mask for all neurites at once\n",
    "neurites_mask = (~binary_soma) & (cell_mask != 0)\n",
    "\n",
    "# Label all neurite regions in one call\n",
    "neurites_labels = label(neurites_mask)\n",
    "\n",
    "# Relabel to encode cell number\n",
    "label_factor = 10 ** cell_nums.max()\n",
    "neurites_out_2 = np.zeros_like(cell_mask)\n",
    "for cell_num in cell_nums:\n",
    "    neurites_out_2[(cell_mask == cell_num) & (neurites_mask > 0)] = (neurites_labels[(cell_mask == cell_num) & (neurites_mask > 0)] * label_factor) + cell_num\n",
    "\n",
    "viewer.add_labels(neurites_out_2, scale=scale, name=\"Cleaned Neurite Segmentations\")"
   ]
  },
  {
   "cell_type": "code",
   "execution_count": null,
   "id": "5d0b61c2",
   "metadata": {},
   "outputs": [],
   "source": [
    "# neurites_out_2 = np.zeros_like(cell_mask)\n",
    "\n",
    "# cell_nums = np.unique(cell_mask[cell_mask != 0])\n",
    "# label_factor = 10 ** cell_nums.max()\n",
    "\n",
    "# for cell_num in cell_nums:\n",
    "#     solo_mask = np.zeros_like(cell_mask)\n",
    "#     solo_mask[cell_mask==cell_num] = 1\n",
    "#     binary_soma = np.zeros_like(cell_mask)\n",
    "#     binary_soma[soma_out_2 > 0] = 1\n",
    "#     neurites = ~(binary_soma.astype(bool)) & (solo_mask == 1)\n",
    "#     neurites[neurites > 0] = (label(neurites[neurites > 0]) * label_factor) + cell_num\n",
    "#     neurites_out_2[solo_mask == 1] = neurites[solo_mask == 1] #ensures that the only spot changed is the target cell\n",
    "\n",
    "# neurites_out_2 = label(neurites_out_2)\n",
    "# viewer.add_labels(neurites_out_2, scale=scale, name=\"Cleaned Neurite Segmentations\")"
   ]
  },
  {
   "cell_type": "markdown",
   "id": "d16e89b7",
   "metadata": {},
   "source": [
    "-----\n",
    "## **POST-POST-PROCESSING**"
   ]
  },
  {
   "cell_type": "markdown",
   "id": "3d304abb",
   "metadata": {},
   "source": [
    "### **`STEP 7` - Stacking Soma & Neurites**"
   ]
  },
  {
   "cell_type": "markdown",
   "id": "662c9112",
   "metadata": {},
   "source": [
    "#### &#x1F3C3; **Run code; no user input required**\n",
    "\n",
    "The below block of code stacks the masks into one file for exports. These masks will need to be unstacked through the [quality_check_segmentations notebook](quality_check_segmentations.ipynb) to be used in the quantification workflows."
   ]
  },
  {
   "cell_type": "code",
   "execution_count": null,
   "id": "b28bd71d",
   "metadata": {},
   "outputs": [],
   "source": [
    "soma_neurites = np.stack([soma_out_2, neurites_out_2])\n",
    "viewer.add_labels(soma_neurites, scale=scale, name=\"Soma and Neurites Stacked\")"
   ]
  },
  {
   "cell_type": "markdown",
   "id": "001f3ad5",
   "metadata": {},
   "source": [
    "-----\n",
    "## **SAVING**"
   ]
  },
  {
   "cell_type": "markdown",
   "id": "69f2d0bb",
   "metadata": {},
   "source": [
    "## **`Saving` - Save the segmentation output**\n",
    "\n",
    "#### &#x1F3C3; **Run code; no user input required**\n",
    "&#x1F453; **FYI:** This code block saves the instance segmentation output to the `out_data_path` specified earlier."
   ]
  },
  {
   "cell_type": "code",
   "execution_count": null,
   "id": "135110be",
   "metadata": {},
   "outputs": [],
   "source": [
    "# Saving file\n",
    "out_file_n = export_inferred_organelle(soma_neurites, \"soma_neurites\", meta_dict, out_data_path)\n",
    "print(f\"saved to: {out_data_path}\")"
   ]
  },
  {
   "cell_type": "markdown",
   "id": "21eef2dc",
   "metadata": {},
   "source": [
    "-----\n",
    "-----\n",
    "## **Define `infer_soma_neurites()` function**\n",
    "The following code includes an example of how the workflow steps above are combined into one function. This function can be run below to process a single image. It is included in the [batch process notebook](batch_process_segmentations.ipynb) to run the above segmentation on multiple images. "
   ]
  },
  {
   "cell_type": "markdown",
   "id": "585cd266",
   "metadata": {},
   "source": [
    "#### &#x1F3C3; **Run code; no user input required**\n",
    "\n",
    "### Define Function to Segment Soma & Neurites\n",
    "infer_soma_neurites() takes in a mask segmentation and outputs a stacked numpy array containing the soma and the neurites in different channels."
   ]
  },
  {
   "cell_type": "code",
   "execution_count": null,
   "id": "fdab74ff",
   "metadata": {},
   "outputs": [],
   "source": [
    "def _infer_soma_neurites(in_seg: np.ndarray, multichannel_input: bool=False, chan: int=0, method: str='binary'):\n",
    "\n",
    "    ###################\n",
    "    # EXTRACT\n",
    "    ###################  \n",
    "    cell_mask = select_cellmask_from_img(in_seg, multichannel_input=multichannel_input, chan=chan)\n",
    "\n",
    "    ###################\n",
    "    # PRE_PROCESSING\n",
    "    ################### \n",
    "    radii_mask = find_radius(cell_mask, method)\n",
    "\n",
    "    ###################\n",
    "    # CORE_PROCESSING\n",
    "    ###################\n",
    "    soma_initial = infer_soma_from_mask(cell_mask, radii_mask, method)\n",
    "\n",
    "    neurites_initial = infer_neurites_from_mask(cell_mask, radii_mask, soma_initial, method)\n",
    "\n",
    "    ###################\n",
    "    # POST_PROCESSING\n",
    "    ################### \n",
    "    soma_cleaned = clean_soma_from_neurites(cell_mask, neurites_initial)\n",
    "\n",
    "    neurites_cleaned = clean_neurites_from_soma(cell_mask, soma_cleaned)\n",
    "\n",
    "    ###################\n",
    "    # POST_POST_PROCESSING\n",
    "    ################### \n",
    "    soma_neurites = np.stack([soma_cleaned, neurites_cleaned])\n",
    "    \n",
    "    return soma_neurites"
   ]
  },
  {
   "cell_type": "code",
   "execution_count": null,
   "id": "ed2c5c4f",
   "metadata": {},
   "outputs": [],
   "source": [
    "somneu = _infer_soma_neurites(cell_mask,  multichannel_input=multichannel_input, chan=chan, method=method)\n",
    "\n",
    "#confirm this output matches the output saved above\n",
    "print(f\"The segmentation output here matches the output created above: {np.all(somneu == soma_neurites)}\")"
   ]
  },
  {
   "cell_type": "code",
   "execution_count": null,
   "id": "eedb0596",
   "metadata": {},
   "outputs": [],
   "source": [
    "# import soma_neurite function from infer_subc.organelles.cellmask and run soma and neurite segmentation function \n",
    "from infer_subc.organelles.cellmask import infer_soma_neurites\n",
    "som_neu_obj = infer_soma_neurites(cell_mask,  multichannel_input=multichannel_input, chan=chan, method=method)\n",
    "\n",
    "\n",
    "#confirm this output matches the output saved above\n",
    "print(f\"The segmentation output here matches the output created above: {np.all(soma_neurites == som_neu_obj)}\")\n",
    "\n",
    "# adding image to Napari as a new layer\n",
    "viewer.add_labels(somneu, scale=scale, name=\"infer_soma_neurites() output\")\n",
    "viewer.grid.enabled = True\n",
    "viewer.reset_view()\n",
    "\n",
    "# screenshot viewer\n",
    "nbscreenshot(viewer, canvas_only = False)\n"
   ]
  },
  {
   "cell_type": "markdown",
   "id": "44373be5",
   "metadata": {},
   "source": [
    "-------------\n",
    "### ✅ **INFER LIPID DROPLETS COMPLETE!**\n",
    "\n",
    "Continue on to other notebooks as needed:\n",
    "- Infer [`lysosomes`](1.2_infer_lysosome.ipynb)\n",
    "- Infer [`mitochondria`](1.3_infer_mitochondria.ipynb)\n",
    "- Infer [`golgi`](1.4_infer_golgi.ipynb)\n",
    "- Infer [`peroxisomes`](1.5_infer_peroxisome.ipynb)\n",
    "- Infer [`endoplasmic reticulum (ER)`](1.6_infer_ER.ipynb)\n",
    "- Infer [`lipid droplets`](1.7_infer_lipid_droplet.ipynb)\n",
    "\n",
    "Or proceed to batch processing here: [batch process notebook](batch_process_segmentations.ipynb)"
   ]
  }
 ],
 "metadata": {
  "kernelspec": {
   "display_name": "infer-subc",
   "language": "python",
   "name": "python3"
  },
  "language_info": {
   "codemirror_mode": {
    "name": "ipython",
    "version": 3
   },
   "file_extension": ".py",
   "mimetype": "text/x-python",
   "name": "python",
   "nbconvert_exporter": "python",
   "pygments_lexer": "ipython3",
   "version": "3.10.13"
  }
 },
 "nbformat": 4,
 "nbformat_minor": 5
}
