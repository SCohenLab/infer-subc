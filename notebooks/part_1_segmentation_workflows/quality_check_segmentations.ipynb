{
 "cells": [
  {
   "cell_type": "markdown",
   "metadata": {},
   "source": [
    "# Quality check segmentations\n",
    "\n",
    "***Prior to this notebook, you should have already completed the organelle and masks segmentations using notebooks 1.0 through 1.7 and/or batch_processing_segmentations OR completed segmentations using the `infe-subc` plugin for Napari.***\n",
    "\n",
    "### **Purpose**\n",
    "The purpose of this notebook is to:\n",
    "1. Visually inspect the segmentation outputs for each image in your dataset (***optional***)\n",
    "    We highly recommend going through this process. It is especially important for datasets where errors in the segmentations can have large impacts on the downstream statistical outcomes (e.g., datasets that do NOT have 100+ images per condition).\n",
    "2. Separation of the `masks` file into separate `cell` and `nuc` segmentation files (***required***)\n",
    "    This is required for downstream analysis in `infer-subc`. For some background, this step is required due to technical limitations of the Napari plugin; each workflow can only output one file, but the segmentations of the nucleus and cell are derived from the same workflows.\n",
    "\n",
    "### ➡️ **Input**\n",
    "The following files will be used as input in this notebook:\n",
    "1. \"Raw\" confocal microscopy image (\".tiff\", \".tif\", or \".czi\") where each channel of the image represents one of the organelles being segmented\n",
    "2. The segmentation files created in `infer-subc` Notebooks or Napari plugin.\n",
    "\n",
    "You will also need the following:\n",
    "1. An empty folder to save segmentation files after editing, if necessary\n",
    "2. An empty folder to save the FINAL segmentation dataset (e.g., combining edited files with original segmentation files that did not need editing)\n",
    "\n",
    "### **Output** ➡️\n",
    "The output from this notebook will include:\n",
    "1. A new folder containing any edited mask files saved as \".tiff\"\n",
    "2. A new folder containing ALL FINAL segmentation files that are ready for quantification\n",
    "\n",
    "-----"
   ]
  },
  {
   "cell_type": "markdown",
   "metadata": {},
   "source": [
    "### 👣 **Summary of steps**  \n",
    "\n",
    "➡️ **QUALITY CHECK SEGMENTATIONS**\n",
    "- **`Step 1`** - Define the paths to your data and final output location\n",
    "\n",
    "- **`Step 2`** - Import and visualize organelle and region segmentations\n",
    "\n",
    "- **`Step 3`** - Edit individual segmentations (***optional***) and quality check segmentations before quantification\n",
    "\n",
    "- **`Step 4`** - Save organelle and region segmentations into specified folder\n",
    "\n",
    "    This step will also save the cell and nuclei segmentations as separate files (***required***)"
   ]
  },
  {
   "cell_type": "markdown",
   "metadata": {},
   "source": [
    "---------------------\n",
    "## **IMPORTS**\n",
    "Details about the functions included in this subsection are outlined in the [`1.0_image_setup`](1.0_image_setup.ipynb) notebook. Please visit that notebook first if you are confused about any of the code included here."
   ]
  },
  {
   "cell_type": "markdown",
   "metadata": {},
   "source": [
    "#### &#x1F3C3; **Run code; no user input required**"
   ]
  },
  {
   "cell_type": "code",
   "execution_count": 1,
   "metadata": {},
   "outputs": [
    {
     "name": "stderr",
     "output_type": "stream",
     "text": [
      "WARNING: QWindowsWindow::setGeometry: Unable to set geometry 1086x657+640+337 (frame: 1104x704+631+299) on QWidgetWindow/\"_QtMainWindowClassWindow\" on \"\\\\.\\DISPLAY1\". Resulting geometry: 905x825+638+330 (frame: 923x872+629+292) margins: 9, 38, 9, 9 minimum size: 385x515 MINMAXINFO maxSize=0,0 maxpos=0,0 mintrack=403,562 maxtrack=0,0)\n",
      "05-Mar-25 08:58:33 - vispy    - WARNING  - QWindowsWindow::setGeometry: Unable to set geometry 1086x657+640+337 (frame: 1104x704+631+299) on QWidgetWindow/\"_QtMainWindowClassWindow\" on \"\\\\.\\DISPLAY1\". Resulting geometry: 905x825+638+330 (frame: 923x872+629+292) margins: 9, 38, 9, 9 minimum size: 385x515 MINMAXINFO maxSize=0,0 maxpos=0,0 mintrack=403,562 maxtrack=0,0)\n"
     ]
    }
   ],
   "source": [
    "from pathlib import Path\n",
    "import pandas as pd\n",
    "import numpy as np\n",
    "\n",
    "import napari\n",
    "viewer = napari.Viewer()\n",
    "\n",
    "from infer_subc.core.file_io import (read_czi_image,\n",
    "                                        export_inferred_organelle,\n",
    "                                        import_inferred_organelle,\n",
    "                                        list_image_files,)\n",
    "from infer_subc.core.img import apply_mask, label_bool_as_uint16\n",
    "\n",
    "%load_ext autoreload\n",
    "%autoreload 2"
   ]
  },
  {
   "cell_type": "markdown",
   "metadata": {},
   "source": [
    "-----\n",
    "\n",
    "## **QUALITY CHECK OF SEGMENTATIONS**"
   ]
  },
  {
   "cell_type": "markdown",
   "metadata": {},
   "source": [
    "### **`STEP 1` - Define the paths to your data**\n",
    "\n",
    "#### &#x1F6D1; &#x270D; **User Input Required:**\n",
    "\n",
    "Please specify the following information about your data: \n",
    "- `raw_path`: A string or a Path object of the path to your raw (e.g., intensity) images that will be the input for segmentation\n",
    "- `seg_path`: A string or a Path object of the path where the segmentation outputs will be saved\n",
    "- `location_tosave_edited_segmentations`: A string or a Path object to a NEW folder where you will save segmentation files after editting them.\n",
    "- `location_tosave_fullset_gooddata`: A string or a Path object to a NEW folder that will contain all of the FINAL segmentation files (e.g., it will combine the newly saved edited segmentation files with and of the original segmentation files that did not need editing)\n",
    "- `raw_file_type`: The raw file type (e.g., \".tiff\" or \".czi\")\n",
    "- `seg_file_type`: The segmentation file type (e.g., \".tiff\" or \".tif\" if you were using infer-subc notebooks or Napari plugin)\n",
    "- `{seg-name}_suffix`: the ending of your segmentation files that follows the \"-\"; usually this will just include \"lyso\", but may include more characters if the settings file in Napari or the 'splitter' in the notebooks contained additional information. *If the segmentation listed was not included in your analysis, type `None`."
   ]
  },
  {
   "cell_type": "code",
   "execution_count": 2,
   "metadata": {},
   "outputs": [],
   "source": [
    "#### USER INPUT REQUIRED ###\n",
    "raw_data = \"E:/Experiments (C2-117 - current)/C2-121/C2-121_deconvolution\"\n",
    "seg_path = \"E:/Experiments (C2-117 - current)/C2-121/20230921_C2-121_3D-analysis/20230921_C2-121_segmentation\"\n",
    "\n",
    "location_tosave_edited_segmentations = \"E:/Experiments (C2-117 - current)/C2-121/20230921_C2-121_3D-analysis/20240102_C2-121_segmentation-edits\"\n",
    "location_tosave_fullset_gooddata = \"E:/Experiments (C2-117 - current)/C2-121/20230921_C2-121_3D-analysis/C2-121_good-segs\"\n",
    "\n",
    "raw_file_type = \".tiff\"\n",
    "seg_file_type = \".tiff\"\n",
    "\n",
    "mask_suffix = \"masks_A\"\n",
    "lyso_suffix = \"lyso\"\n",
    "mito_suffix = \"mito\"\n",
    "golgi_suffix = \"golgi\"\n",
    "perox_suffix = \"perox\"\n",
    "ER_suffix = \"ER\"\n",
    "LD_suffix = \"LD\""
   ]
  },
  {
   "cell_type": "markdown",
   "metadata": {},
   "source": [
    "#### &#x1F6D1; &#x270D; ***Optional* User Input Required:**\n",
    "\n",
    "&#x1F453; **FYI:** If you ran the batch processing more than once, you can include information about the additional segmentation location and file suffixes here. If you do **NOT** have a second file location, for each object below, please indicate: `None`\n",
    "\n",
    "***Important:** Only one location for each segmentation type will be used. If `lyso_suffix` and `lyso_suffix_2` are both specified, **ONLY** `lyso_suffix_2` will be visualized below.*"
   ]
  },
  {
   "cell_type": "code",
   "execution_count": 3,
   "metadata": {},
   "outputs": [],
   "source": [
    "#### Optional - USER INPUT REQUIRED ###\n",
    "seg_path_2 = None\n",
    "\n",
    "mask_suffix_2 = None\n",
    "lyso_suffix_2 = None\n",
    "mito_suffix_2 = None\n",
    "golgi_suffix_2 = None\n",
    "perox_suffix_2 = None\n",
    "ER_suffix_2 = None\n",
    "LD_suffix_2 = None"
   ]
  },
  {
   "cell_type": "markdown",
   "metadata": {},
   "source": [
    "#### &#x1F3C3; **Run code; no user input required**\n",
    "&#x1F453; **FYI:** This code block will print the list of raw file names in your raw_path. You will want to review each file in the list for accurate segmentations. The next set of code blocks will walk you how to do this."
   ]
  },
  {
   "cell_type": "code",
   "execution_count": 4,
   "metadata": {},
   "outputs": [
    {
     "data": {
      "text/html": [
       "<div>\n",
       "<style scoped>\n",
       "    .dataframe tbody tr th:only-of-type {\n",
       "        vertical-align: middle;\n",
       "    }\n",
       "\n",
       "    .dataframe tbody tr th {\n",
       "        vertical-align: top;\n",
       "    }\n",
       "\n",
       "    .dataframe thead th {\n",
       "        text-align: right;\n",
       "    }\n",
       "</style>\n",
       "<table border=\"1\" class=\"dataframe\">\n",
       "  <thead>\n",
       "    <tr style=\"text-align: right;\">\n",
       "      <th></th>\n",
       "      <th>Image Name</th>\n",
       "    </tr>\n",
       "  </thead>\n",
       "  <tbody>\n",
       "    <tr>\n",
       "      <th>0</th>\n",
       "      <td>E:\\Experiments (C2-117 - current)\\C2-121\\C2-121_deconvolution\\20230727_C2-121_conditioned_well 2_cell 1_50uM NaAsO_Linear unmixing_0_cmle.ome.tiff</td>\n",
       "    </tr>\n",
       "    <tr>\n",
       "      <th>1</th>\n",
       "      <td>E:\\Experiments (C2-117 - current)\\C2-121\\C2-121_deconvolution\\20230727_C2-121_conditioned_well 2_cell 2_50uM NaAsO_Linear unmixing_0_cmle.ome.tiff</td>\n",
       "    </tr>\n",
       "    <tr>\n",
       "      <th>2</th>\n",
       "      <td>E:\\Experiments (C2-117 - current)\\C2-121\\C2-121_deconvolution\\20230727_C2-121_conditioned_well 2_cell 3_50uM NaAsO_Linear unmixing_0_cmle.ome.tiff</td>\n",
       "    </tr>\n",
       "    <tr>\n",
       "      <th>3</th>\n",
       "      <td>E:\\Experiments (C2-117 - current)\\C2-121\\C2-121_deconvolution\\20230727_C2-121_conditioned_well 2_cell 4_50uM NaAsO_Linear unmixing_0_cmle.ome.tiff</td>\n",
       "    </tr>\n",
       "    <tr>\n",
       "      <th>4</th>\n",
       "      <td>E:\\Experiments (C2-117 - current)\\C2-121\\C2-121_deconvolution\\20230727_C2-121_conditioned_well 3_cell 1_25nM TG_Linear unmixing_0_cmle.ome.tiff</td>\n",
       "    </tr>\n",
       "    <tr>\n",
       "      <th>5</th>\n",
       "      <td>E:\\Experiments (C2-117 - current)\\C2-121\\C2-121_deconvolution\\20230727_C2-121_conditioned_well 3_cell 2_25nM TG_Linear unmixing_0_cmle.ome.tiff</td>\n",
       "    </tr>\n",
       "    <tr>\n",
       "      <th>6</th>\n",
       "      <td>E:\\Experiments (C2-117 - current)\\C2-121\\C2-121_deconvolution\\20230727_C2-121_conditioned_well 3_cell 3_25nM TG_Linear unmixing_0_cmle.ome.tiff</td>\n",
       "    </tr>\n",
       "    <tr>\n",
       "      <th>7</th>\n",
       "      <td>E:\\Experiments (C2-117 - current)\\C2-121\\C2-121_deconvolution\\20230727_C2-121_conditioned_well 3_cell 4_25nM TG_Linear unmixing_0_cmle.ome.tiff</td>\n",
       "    </tr>\n",
       "    <tr>\n",
       "      <th>8</th>\n",
       "      <td>E:\\Experiments (C2-117 - current)\\C2-121\\C2-121_deconvolution\\20230727_C2-121_conditioned_well 3_cell 5_25nM TG_Linear unmixing_0_cmle.ome.tiff</td>\n",
       "    </tr>\n",
       "    <tr>\n",
       "      <th>9</th>\n",
       "      <td>E:\\Experiments (C2-117 - current)\\C2-121\\C2-121_deconvolution\\20230727_C2-121_conditioned_well 4_cell 1_untreated_Linear unmixing_0_cmle.ome.tiff</td>\n",
       "    </tr>\n",
       "    <tr>\n",
       "      <th>10</th>\n",
       "      <td>E:\\Experiments (C2-117 - current)\\C2-121\\C2-121_deconvolution\\20230727_C2-121_conditioned_well 4_cell 2_untreated_Linear unmixing_0_cmle.ome.tiff</td>\n",
       "    </tr>\n",
       "    <tr>\n",
       "      <th>11</th>\n",
       "      <td>E:\\Experiments (C2-117 - current)\\C2-121\\C2-121_deconvolution\\20230727_C2-121_conditioned_well 4_cell 3_untreated_Linear unmixing_0_cmle.ome.tiff</td>\n",
       "    </tr>\n",
       "    <tr>\n",
       "      <th>12</th>\n",
       "      <td>E:\\Experiments (C2-117 - current)\\C2-121\\C2-121_deconvolution\\20230727_C2-121_conditioned_well 4_cell 4_untreated_Linear unmixing_0_cmle.ome.tiff</td>\n",
       "    </tr>\n",
       "    <tr>\n",
       "      <th>13</th>\n",
       "      <td>E:\\Experiments (C2-117 - current)\\C2-121\\C2-121_deconvolution\\20230727_C2-121_conditioned_well 4_cell 5_untreated_Linear unmixing_0_cmle.ome.tiff</td>\n",
       "    </tr>\n",
       "    <tr>\n",
       "      <th>14</th>\n",
       "      <td>E:\\Experiments (C2-117 - current)\\C2-121\\C2-121_deconvolution\\20230727_C2-121_conditioned_well 5_cell 1_50uM NaAsO  washout_Linear unmixing_0_cmle.ome.tiff</td>\n",
       "    </tr>\n",
       "    <tr>\n",
       "      <th>15</th>\n",
       "      <td>E:\\Experiments (C2-117 - current)\\C2-121\\C2-121_deconvolution\\20230727_C2-121_conditioned_well 5_cell 2_50uM NaAsO  washout_Linear unmixing_0_cmle.ome.tiff</td>\n",
       "    </tr>\n",
       "    <tr>\n",
       "      <th>16</th>\n",
       "      <td>E:\\Experiments (C2-117 - current)\\C2-121\\C2-121_deconvolution\\20230727_C2-121_conditioned_well 5_cell 3_50uM NaAsO  washout_Linear unmixing_0_cmle.ome.tiff</td>\n",
       "    </tr>\n",
       "    <tr>\n",
       "      <th>17</th>\n",
       "      <td>E:\\Experiments (C2-117 - current)\\C2-121\\C2-121_deconvolution\\20230727_C2-121_conditioned_well 5_cell 4_50uM NaAsO  washout_Linear unmixing_0_cmle.ome.tiff</td>\n",
       "    </tr>\n",
       "    <tr>\n",
       "      <th>18</th>\n",
       "      <td>E:\\Experiments (C2-117 - current)\\C2-121\\C2-121_deconvolution\\20230727_C2-121_conditioned_well 5_cell 5_50uM NaAsO  washout_Linear unmixing_0_cmle.ome.tiff</td>\n",
       "    </tr>\n",
       "    <tr>\n",
       "      <th>19</th>\n",
       "      <td>E:\\Experiments (C2-117 - current)\\C2-121\\C2-121_deconvolution\\20230727_C2-121_conditioned_well 6_cell 1_25nM TG_Linear unmixing_0_cmle.ome.tiff</td>\n",
       "    </tr>\n",
       "    <tr>\n",
       "      <th>20</th>\n",
       "      <td>E:\\Experiments (C2-117 - current)\\C2-121\\C2-121_deconvolution\\20230727_C2-121_conditioned_well 6_cell 2_25nM TG_Linear unmixing_0_cmle.ome.tiff</td>\n",
       "    </tr>\n",
       "    <tr>\n",
       "      <th>21</th>\n",
       "      <td>E:\\Experiments (C2-117 - current)\\C2-121\\C2-121_deconvolution\\20230727_C2-121_conditioned_well 6_cell 3_25nM TG_Linear unmixing_0_cmle.ome.tiff</td>\n",
       "    </tr>\n",
       "    <tr>\n",
       "      <th>22</th>\n",
       "      <td>E:\\Experiments (C2-117 - current)\\C2-121\\C2-121_deconvolution\\20230727_C2-121_conditioned_well 6_cell 4_25nM TG_Linear unmixing_0_cmle.ome.tiff</td>\n",
       "    </tr>\n",
       "    <tr>\n",
       "      <th>23</th>\n",
       "      <td>E:\\Experiments (C2-117 - current)\\C2-121\\C2-121_deconvolution\\20230727_C2-121_conditioned_well 6_cell 5_25nM TG_Linear unmixing_0_cmle.ome.tiff</td>\n",
       "    </tr>\n",
       "    <tr>\n",
       "      <th>24</th>\n",
       "      <td>E:\\Experiments (C2-117 - current)\\C2-121\\C2-121_deconvolution\\20230727_C2-121_conditioned_well 7_cell 1_50uM NaAsO_Linear unmixing_0_cmle.ome.tiff</td>\n",
       "    </tr>\n",
       "    <tr>\n",
       "      <th>25</th>\n",
       "      <td>E:\\Experiments (C2-117 - current)\\C2-121\\C2-121_deconvolution\\20230727_C2-121_conditioned_well 7_cell 2_50uM NaAsO_Linear unmixing_0_cmle.ome.tiff</td>\n",
       "    </tr>\n",
       "    <tr>\n",
       "      <th>26</th>\n",
       "      <td>E:\\Experiments (C2-117 - current)\\C2-121\\C2-121_deconvolution\\20230727_C2-121_conditioned_well 7_cell 3_50uM NaAsO_Linear unmixing_0_cmle.ome.tiff</td>\n",
       "    </tr>\n",
       "    <tr>\n",
       "      <th>27</th>\n",
       "      <td>E:\\Experiments (C2-117 - current)\\C2-121\\C2-121_deconvolution\\20230727_C2-121_conditioned_well 7_cell 4_50uM NaAsO_Linear unmixing_0_cmle.ome.tiff</td>\n",
       "    </tr>\n",
       "    <tr>\n",
       "      <th>28</th>\n",
       "      <td>E:\\Experiments (C2-117 - current)\\C2-121\\C2-121_deconvolution\\20230727_C2-121_conditioned_well 7_cell 5_50uM NaAsO_Linear unmixing_0_cmle.ome.tiff</td>\n",
       "    </tr>\n",
       "    <tr>\n",
       "      <th>29</th>\n",
       "      <td>E:\\Experiments (C2-117 - current)\\C2-121\\C2-121_deconvolution\\20230727_C2-121_conditioned_well 8_cell 1_untreated_Linear unmixing_0_cmle.ome.tiff</td>\n",
       "    </tr>\n",
       "    <tr>\n",
       "      <th>30</th>\n",
       "      <td>E:\\Experiments (C2-117 - current)\\C2-121\\C2-121_deconvolution\\20230727_C2-121_conditioned_well 8_cell 2_untreated_Linear unmixing_0_cmle.ome.tiff</td>\n",
       "    </tr>\n",
       "    <tr>\n",
       "      <th>31</th>\n",
       "      <td>E:\\Experiments (C2-117 - current)\\C2-121\\C2-121_deconvolution\\20230727_C2-121_conditioned_well 8_cell 3_untreated_Linear unmixing_0_cmle.ome.tiff</td>\n",
       "    </tr>\n",
       "    <tr>\n",
       "      <th>32</th>\n",
       "      <td>E:\\Experiments (C2-117 - current)\\C2-121\\C2-121_deconvolution\\20230727_C2-121_conditioned_well 8_cell 4_untreated_Linear unmixing_0_cmle.ome.tiff</td>\n",
       "    </tr>\n",
       "    <tr>\n",
       "      <th>33</th>\n",
       "      <td>E:\\Experiments (C2-117 - current)\\C2-121\\C2-121_deconvolution\\20230727_C2-121_unconditioned_well 10_cell 1_25nM TG_Linear unmixing_0_cmle.ome.tiff</td>\n",
       "    </tr>\n",
       "    <tr>\n",
       "      <th>34</th>\n",
       "      <td>E:\\Experiments (C2-117 - current)\\C2-121\\C2-121_deconvolution\\20230727_C2-121_unconditioned_well 10_cell 2_25nM TG_Linear unmixing_0_cmle.ome.tiff</td>\n",
       "    </tr>\n",
       "    <tr>\n",
       "      <th>35</th>\n",
       "      <td>E:\\Experiments (C2-117 - current)\\C2-121\\C2-121_deconvolution\\20230727_C2-121_unconditioned_well 10_cell 3_25nM TG_Linear unmixing_0_cmle.ome.tiff</td>\n",
       "    </tr>\n",
       "    <tr>\n",
       "      <th>36</th>\n",
       "      <td>E:\\Experiments (C2-117 - current)\\C2-121\\C2-121_deconvolution\\20230727_C2-121_unconditioned_well 10_cell 4_25nM TG_Linear unmixing_0_cmle.ome.tiff</td>\n",
       "    </tr>\n",
       "    <tr>\n",
       "      <th>37</th>\n",
       "      <td>E:\\Experiments (C2-117 - current)\\C2-121\\C2-121_deconvolution\\20230727_C2-121_unconditioned_well 11_cell 1_50uM NaAsO_Linear unmixing_0_cmle.ome.tiff</td>\n",
       "    </tr>\n",
       "    <tr>\n",
       "      <th>38</th>\n",
       "      <td>E:\\Experiments (C2-117 - current)\\C2-121\\C2-121_deconvolution\\20230727_C2-121_unconditioned_well 11_cell 3_50uM NaAsO_Linear unmixing_0_cmle.ome.tiff</td>\n",
       "    </tr>\n",
       "    <tr>\n",
       "      <th>39</th>\n",
       "      <td>E:\\Experiments (C2-117 - current)\\C2-121\\C2-121_deconvolution\\20230727_C2-121_unconditioned_well 11_cell 4_50uM NaAsO_Linear unmixing_0_cmle.ome.tiff</td>\n",
       "    </tr>\n",
       "    <tr>\n",
       "      <th>40</th>\n",
       "      <td>E:\\Experiments (C2-117 - current)\\C2-121\\C2-121_deconvolution\\20230727_C2-121_unconditioned_well 11_cell 5_50uM NaAsO_Linear unmixing_0_cmle.ome.tiff</td>\n",
       "    </tr>\n",
       "    <tr>\n",
       "      <th>41</th>\n",
       "      <td>E:\\Experiments (C2-117 - current)\\C2-121\\C2-121_deconvolution\\20230727_C2-121_unconditioned_well 12_cell 1_untreated_Linear unmixing_0_cmle.ome.tiff</td>\n",
       "    </tr>\n",
       "    <tr>\n",
       "      <th>42</th>\n",
       "      <td>E:\\Experiments (C2-117 - current)\\C2-121\\C2-121_deconvolution\\20230727_C2-121_unconditioned_well 12_cell 2_untreated_Linear unmixing_0_cmle.ome.tiff</td>\n",
       "    </tr>\n",
       "    <tr>\n",
       "      <th>43</th>\n",
       "      <td>E:\\Experiments (C2-117 - current)\\C2-121\\C2-121_deconvolution\\20230727_C2-121_unconditioned_well 12_cell 3_untreated_Linear unmixing_0_cmle.ome.tiff</td>\n",
       "    </tr>\n",
       "    <tr>\n",
       "      <th>44</th>\n",
       "      <td>E:\\Experiments (C2-117 - current)\\C2-121\\C2-121_deconvolution\\20230727_C2-121_unconditioned_well 12_cell 4_untreated_Linear unmixing_0_cmle.ome.tiff</td>\n",
       "    </tr>\n",
       "    <tr>\n",
       "      <th>45</th>\n",
       "      <td>E:\\Experiments (C2-117 - current)\\C2-121\\C2-121_deconvolution\\20230727_C2-121_unconditioned_well 9_cell 1_50uM NaAsO  washout_Linear unmixing_0_cmle.ome.tiff</td>\n",
       "    </tr>\n",
       "    <tr>\n",
       "      <th>46</th>\n",
       "      <td>E:\\Experiments (C2-117 - current)\\C2-121\\C2-121_deconvolution\\20230727_C2-121_unconditioned_well 9_cell 2_50uM NaAsO  washout_Linear unmixing_0_cmle.ome.tiff</td>\n",
       "    </tr>\n",
       "    <tr>\n",
       "      <th>47</th>\n",
       "      <td>E:\\Experiments (C2-117 - current)\\C2-121\\C2-121_deconvolution\\20230727_C2-121_unconditioned_well 9_cell 3_50uM NaAsO  washout_Linear unmixing_0_cmle.ome.tiff</td>\n",
       "    </tr>\n",
       "    <tr>\n",
       "      <th>48</th>\n",
       "      <td>E:\\Experiments (C2-117 - current)\\C2-121\\C2-121_deconvolution\\20230727_C2-121_unconditioned_well 9_cell 4_50uM NaAsO  washout_Linear unmixing_0_cmle.ome.tiff</td>\n",
       "    </tr>\n",
       "    <tr>\n",
       "      <th>49</th>\n",
       "      <td>E:\\Experiments (C2-117 - current)\\C2-121\\C2-121_deconvolution\\20230727_C2-121_unconditioned_well 9_cell 5_50uM NaAsO  washout_Linear unmixing_0_cmle.ome.tiff</td>\n",
       "    </tr>\n",
       "  </tbody>\n",
       "</table>\n",
       "</div>"
      ],
      "text/plain": [
       "                                                                                                                                                       Image Name\n",
       "0              E:\\Experiments (C2-117 - current)\\C2-121\\C2-121_deconvolution\\20230727_C2-121_conditioned_well 2_cell 1_50uM NaAsO_Linear unmixing_0_cmle.ome.tiff\n",
       "1              E:\\Experiments (C2-117 - current)\\C2-121\\C2-121_deconvolution\\20230727_C2-121_conditioned_well 2_cell 2_50uM NaAsO_Linear unmixing_0_cmle.ome.tiff\n",
       "2              E:\\Experiments (C2-117 - current)\\C2-121\\C2-121_deconvolution\\20230727_C2-121_conditioned_well 2_cell 3_50uM NaAsO_Linear unmixing_0_cmle.ome.tiff\n",
       "3              E:\\Experiments (C2-117 - current)\\C2-121\\C2-121_deconvolution\\20230727_C2-121_conditioned_well 2_cell 4_50uM NaAsO_Linear unmixing_0_cmle.ome.tiff\n",
       "4                 E:\\Experiments (C2-117 - current)\\C2-121\\C2-121_deconvolution\\20230727_C2-121_conditioned_well 3_cell 1_25nM TG_Linear unmixing_0_cmle.ome.tiff\n",
       "5                 E:\\Experiments (C2-117 - current)\\C2-121\\C2-121_deconvolution\\20230727_C2-121_conditioned_well 3_cell 2_25nM TG_Linear unmixing_0_cmle.ome.tiff\n",
       "6                 E:\\Experiments (C2-117 - current)\\C2-121\\C2-121_deconvolution\\20230727_C2-121_conditioned_well 3_cell 3_25nM TG_Linear unmixing_0_cmle.ome.tiff\n",
       "7                 E:\\Experiments (C2-117 - current)\\C2-121\\C2-121_deconvolution\\20230727_C2-121_conditioned_well 3_cell 4_25nM TG_Linear unmixing_0_cmle.ome.tiff\n",
       "8                 E:\\Experiments (C2-117 - current)\\C2-121\\C2-121_deconvolution\\20230727_C2-121_conditioned_well 3_cell 5_25nM TG_Linear unmixing_0_cmle.ome.tiff\n",
       "9               E:\\Experiments (C2-117 - current)\\C2-121\\C2-121_deconvolution\\20230727_C2-121_conditioned_well 4_cell 1_untreated_Linear unmixing_0_cmle.ome.tiff\n",
       "10              E:\\Experiments (C2-117 - current)\\C2-121\\C2-121_deconvolution\\20230727_C2-121_conditioned_well 4_cell 2_untreated_Linear unmixing_0_cmle.ome.tiff\n",
       "11              E:\\Experiments (C2-117 - current)\\C2-121\\C2-121_deconvolution\\20230727_C2-121_conditioned_well 4_cell 3_untreated_Linear unmixing_0_cmle.ome.tiff\n",
       "12              E:\\Experiments (C2-117 - current)\\C2-121\\C2-121_deconvolution\\20230727_C2-121_conditioned_well 4_cell 4_untreated_Linear unmixing_0_cmle.ome.tiff\n",
       "13              E:\\Experiments (C2-117 - current)\\C2-121\\C2-121_deconvolution\\20230727_C2-121_conditioned_well 4_cell 5_untreated_Linear unmixing_0_cmle.ome.tiff\n",
       "14    E:\\Experiments (C2-117 - current)\\C2-121\\C2-121_deconvolution\\20230727_C2-121_conditioned_well 5_cell 1_50uM NaAsO  washout_Linear unmixing_0_cmle.ome.tiff\n",
       "15    E:\\Experiments (C2-117 - current)\\C2-121\\C2-121_deconvolution\\20230727_C2-121_conditioned_well 5_cell 2_50uM NaAsO  washout_Linear unmixing_0_cmle.ome.tiff\n",
       "16    E:\\Experiments (C2-117 - current)\\C2-121\\C2-121_deconvolution\\20230727_C2-121_conditioned_well 5_cell 3_50uM NaAsO  washout_Linear unmixing_0_cmle.ome.tiff\n",
       "17    E:\\Experiments (C2-117 - current)\\C2-121\\C2-121_deconvolution\\20230727_C2-121_conditioned_well 5_cell 4_50uM NaAsO  washout_Linear unmixing_0_cmle.ome.tiff\n",
       "18    E:\\Experiments (C2-117 - current)\\C2-121\\C2-121_deconvolution\\20230727_C2-121_conditioned_well 5_cell 5_50uM NaAsO  washout_Linear unmixing_0_cmle.ome.tiff\n",
       "19                E:\\Experiments (C2-117 - current)\\C2-121\\C2-121_deconvolution\\20230727_C2-121_conditioned_well 6_cell 1_25nM TG_Linear unmixing_0_cmle.ome.tiff\n",
       "20                E:\\Experiments (C2-117 - current)\\C2-121\\C2-121_deconvolution\\20230727_C2-121_conditioned_well 6_cell 2_25nM TG_Linear unmixing_0_cmle.ome.tiff\n",
       "21                E:\\Experiments (C2-117 - current)\\C2-121\\C2-121_deconvolution\\20230727_C2-121_conditioned_well 6_cell 3_25nM TG_Linear unmixing_0_cmle.ome.tiff\n",
       "22                E:\\Experiments (C2-117 - current)\\C2-121\\C2-121_deconvolution\\20230727_C2-121_conditioned_well 6_cell 4_25nM TG_Linear unmixing_0_cmle.ome.tiff\n",
       "23                E:\\Experiments (C2-117 - current)\\C2-121\\C2-121_deconvolution\\20230727_C2-121_conditioned_well 6_cell 5_25nM TG_Linear unmixing_0_cmle.ome.tiff\n",
       "24             E:\\Experiments (C2-117 - current)\\C2-121\\C2-121_deconvolution\\20230727_C2-121_conditioned_well 7_cell 1_50uM NaAsO_Linear unmixing_0_cmle.ome.tiff\n",
       "25             E:\\Experiments (C2-117 - current)\\C2-121\\C2-121_deconvolution\\20230727_C2-121_conditioned_well 7_cell 2_50uM NaAsO_Linear unmixing_0_cmle.ome.tiff\n",
       "26             E:\\Experiments (C2-117 - current)\\C2-121\\C2-121_deconvolution\\20230727_C2-121_conditioned_well 7_cell 3_50uM NaAsO_Linear unmixing_0_cmle.ome.tiff\n",
       "27             E:\\Experiments (C2-117 - current)\\C2-121\\C2-121_deconvolution\\20230727_C2-121_conditioned_well 7_cell 4_50uM NaAsO_Linear unmixing_0_cmle.ome.tiff\n",
       "28             E:\\Experiments (C2-117 - current)\\C2-121\\C2-121_deconvolution\\20230727_C2-121_conditioned_well 7_cell 5_50uM NaAsO_Linear unmixing_0_cmle.ome.tiff\n",
       "29              E:\\Experiments (C2-117 - current)\\C2-121\\C2-121_deconvolution\\20230727_C2-121_conditioned_well 8_cell 1_untreated_Linear unmixing_0_cmle.ome.tiff\n",
       "30              E:\\Experiments (C2-117 - current)\\C2-121\\C2-121_deconvolution\\20230727_C2-121_conditioned_well 8_cell 2_untreated_Linear unmixing_0_cmle.ome.tiff\n",
       "31              E:\\Experiments (C2-117 - current)\\C2-121\\C2-121_deconvolution\\20230727_C2-121_conditioned_well 8_cell 3_untreated_Linear unmixing_0_cmle.ome.tiff\n",
       "32              E:\\Experiments (C2-117 - current)\\C2-121\\C2-121_deconvolution\\20230727_C2-121_conditioned_well 8_cell 4_untreated_Linear unmixing_0_cmle.ome.tiff\n",
       "33             E:\\Experiments (C2-117 - current)\\C2-121\\C2-121_deconvolution\\20230727_C2-121_unconditioned_well 10_cell 1_25nM TG_Linear unmixing_0_cmle.ome.tiff\n",
       "34             E:\\Experiments (C2-117 - current)\\C2-121\\C2-121_deconvolution\\20230727_C2-121_unconditioned_well 10_cell 2_25nM TG_Linear unmixing_0_cmle.ome.tiff\n",
       "35             E:\\Experiments (C2-117 - current)\\C2-121\\C2-121_deconvolution\\20230727_C2-121_unconditioned_well 10_cell 3_25nM TG_Linear unmixing_0_cmle.ome.tiff\n",
       "36             E:\\Experiments (C2-117 - current)\\C2-121\\C2-121_deconvolution\\20230727_C2-121_unconditioned_well 10_cell 4_25nM TG_Linear unmixing_0_cmle.ome.tiff\n",
       "37          E:\\Experiments (C2-117 - current)\\C2-121\\C2-121_deconvolution\\20230727_C2-121_unconditioned_well 11_cell 1_50uM NaAsO_Linear unmixing_0_cmle.ome.tiff\n",
       "38          E:\\Experiments (C2-117 - current)\\C2-121\\C2-121_deconvolution\\20230727_C2-121_unconditioned_well 11_cell 3_50uM NaAsO_Linear unmixing_0_cmle.ome.tiff\n",
       "39          E:\\Experiments (C2-117 - current)\\C2-121\\C2-121_deconvolution\\20230727_C2-121_unconditioned_well 11_cell 4_50uM NaAsO_Linear unmixing_0_cmle.ome.tiff\n",
       "40          E:\\Experiments (C2-117 - current)\\C2-121\\C2-121_deconvolution\\20230727_C2-121_unconditioned_well 11_cell 5_50uM NaAsO_Linear unmixing_0_cmle.ome.tiff\n",
       "41           E:\\Experiments (C2-117 - current)\\C2-121\\C2-121_deconvolution\\20230727_C2-121_unconditioned_well 12_cell 1_untreated_Linear unmixing_0_cmle.ome.tiff\n",
       "42           E:\\Experiments (C2-117 - current)\\C2-121\\C2-121_deconvolution\\20230727_C2-121_unconditioned_well 12_cell 2_untreated_Linear unmixing_0_cmle.ome.tiff\n",
       "43           E:\\Experiments (C2-117 - current)\\C2-121\\C2-121_deconvolution\\20230727_C2-121_unconditioned_well 12_cell 3_untreated_Linear unmixing_0_cmle.ome.tiff\n",
       "44           E:\\Experiments (C2-117 - current)\\C2-121\\C2-121_deconvolution\\20230727_C2-121_unconditioned_well 12_cell 4_untreated_Linear unmixing_0_cmle.ome.tiff\n",
       "45  E:\\Experiments (C2-117 - current)\\C2-121\\C2-121_deconvolution\\20230727_C2-121_unconditioned_well 9_cell 1_50uM NaAsO  washout_Linear unmixing_0_cmle.ome.tiff\n",
       "46  E:\\Experiments (C2-117 - current)\\C2-121\\C2-121_deconvolution\\20230727_C2-121_unconditioned_well 9_cell 2_50uM NaAsO  washout_Linear unmixing_0_cmle.ome.tiff\n",
       "47  E:\\Experiments (C2-117 - current)\\C2-121\\C2-121_deconvolution\\20230727_C2-121_unconditioned_well 9_cell 3_50uM NaAsO  washout_Linear unmixing_0_cmle.ome.tiff\n",
       "48  E:\\Experiments (C2-117 - current)\\C2-121\\C2-121_deconvolution\\20230727_C2-121_unconditioned_well 9_cell 4_50uM NaAsO  washout_Linear unmixing_0_cmle.ome.tiff\n",
       "49  E:\\Experiments (C2-117 - current)\\C2-121\\C2-121_deconvolution\\20230727_C2-121_unconditioned_well 9_cell 5_50uM NaAsO  washout_Linear unmixing_0_cmle.ome.tiff"
      ]
     },
     "execution_count": 4,
     "metadata": {},
     "output_type": "execute_result"
    }
   ],
   "source": [
    "raw_file_list = list_image_files(Path(raw_data),\".tiff\")\n",
    "\n",
    "pd.set_option('display.max_colwidth', None)\n",
    "pd.DataFrame({\"Image Name\":raw_file_list})"
   ]
  },
  {
   "cell_type": "markdown",
   "metadata": {},
   "source": [
    "### **`STEP 2` - Import and visualize organelle and region segmentations**\n",
    "\n",
    "#### &#x1F6D1; &#x270D; **User Input Required:**\n",
    "&#x1F53C; Use the list  above to determine the index of the image you would like to look at."
   ]
  },
  {
   "cell_type": "code",
   "execution_count": 5,
   "metadata": {},
   "outputs": [],
   "source": [
    "#### USER INPUT REQUIRED ###\n",
    "num = 11"
   ]
  },
  {
   "cell_type": "markdown",
   "metadata": {},
   "source": [
    "#### &#x1F3C3; **Run code; no user input required**\n",
    "&#x1F453; **FYI:** This code block will import the segmentation files associated to the raw image you selected above. The raw image and segmentations will be included in a Napari viewer for visual inspection."
   ]
  },
  {
   "cell_type": "code",
   "execution_count": 6,
   "metadata": {},
   "outputs": [
    {
     "name": "stdout",
     "output_type": "stream",
     "text": [
      "Image name:\n",
      "20230727_C2-121_conditioned_well 4_cell 3_untreated_Linear unmixing_0_cmle.ome\n",
      "loaded  inferred 4D `masks_A`  from E:\\Experiments (C2-117 - current)\\C2-121\\20230921_C2-121_3D-analysis\\20230921_C2-121_segmentation \n",
      "loaded  inferred 3D `lyso`  from E:\\Experiments (C2-117 - current)\\C2-121\\20230921_C2-121_3D-analysis\\20230921_C2-121_segmentation \n",
      "loaded  inferred 3D `mito`  from E:\\Experiments (C2-117 - current)\\C2-121\\20230921_C2-121_3D-analysis\\20230921_C2-121_segmentation \n",
      "loaded  inferred 3D `golgi`  from E:\\Experiments (C2-117 - current)\\C2-121\\20230921_C2-121_3D-analysis\\20230921_C2-121_segmentation \n",
      "loaded  inferred 3D `perox`  from E:\\Experiments (C2-117 - current)\\C2-121\\20230921_C2-121_3D-analysis\\20230921_C2-121_segmentation \n",
      "loaded  inferred 3D `ER`  from E:\\Experiments (C2-117 - current)\\C2-121\\20230921_C2-121_3D-analysis\\20230921_C2-121_segmentation \n",
      "loaded  inferred 3D `LD`  from E:\\Experiments (C2-117 - current)\\C2-121\\20230921_C2-121_3D-analysis\\20230921_C2-121_segmentation \n"
     ]
    }
   ],
   "source": [
    "raw_img_data, raw_meta_dict = read_czi_image(raw_file_list[num])\n",
    "print(\"Image name:\")\n",
    "print(raw_meta_dict['name'][0].split(\" :: \")[0])\n",
    "\n",
    "if mask_suffix is not None:\n",
    "    mask_seg = import_inferred_organelle(mask_suffix, raw_meta_dict, Path(seg_path), seg_file_type)\n",
    "    cell_seg = mask_seg[1]\n",
    "    nuc_seg = mask_seg[2]\n",
    "if lyso_suffix is not None:\n",
    "    lyso_seg = import_inferred_organelle(lyso_suffix, raw_meta_dict, Path(seg_path), seg_file_type)\n",
    "if mito_suffix is not None:\n",
    "    mito_seg = import_inferred_organelle(mito_suffix, raw_meta_dict, Path(seg_path), seg_file_type)\n",
    "if golgi_suffix is not None:\n",
    "    golgi_seg = import_inferred_organelle(golgi_suffix, raw_meta_dict, Path(seg_path), seg_file_type)\n",
    "if perox_suffix is not None:\n",
    "    perox_seg = import_inferred_organelle(perox_suffix, raw_meta_dict, Path(seg_path), seg_file_type)\n",
    "if ER_suffix is not None:\n",
    "    ER_seg = import_inferred_organelle(ER_suffix, raw_meta_dict, Path(seg_path), seg_file_type)\n",
    "if LD_suffix is not None:\n",
    "    LD_seg = import_inferred_organelle(LD_suffix, raw_meta_dict, Path(seg_path), seg_file_type)\n",
    "\n",
    "if seg_path_2 is not None:\n",
    "    if mask_suffix_2 is not None:\n",
    "        mask_seg = import_inferred_organelle(mask_suffix_2, raw_meta_dict, Path(seg_path_2), seg_file_type)\n",
    "        cell_seg = mask_seg[1]\n",
    "        nuc_seg = mask_seg[2]\n",
    "    if lyso_suffix_2 is not None:\n",
    "        lyso_seg = import_inferred_organelle(lyso_suffix_2, raw_meta_dict, Path(seg_path_2), seg_file_type)\n",
    "    if mito_suffix_2 is not None:\n",
    "        mito_seg = import_inferred_organelle(mito_suffix_2, raw_meta_dict, Path(seg_path_2), seg_file_type)\n",
    "    if golgi_suffix_2 is not None:\n",
    "        golgi_seg = import_inferred_organelle(golgi_suffix_2, raw_meta_dict, Path(seg_path_2), seg_file_type)\n",
    "    if perox_suffix_2 is not None:\n",
    "        perox_seg = import_inferred_organelle(perox_suffix_2, raw_meta_dict, Path(seg_path_2), seg_file_type)\n",
    "    if ER_suffix_2 is not None:\n",
    "        ER_seg = import_inferred_organelle(ER_suffix_2, raw_meta_dict, Path(seg_path_2), seg_file_type)\n",
    "    if LD_suffix_2 is not None:\n",
    "        LD_seg = import_inferred_organelle(LD_suffix_2, raw_meta_dict, Path(seg_path_2), seg_file_type)\n",
    "\n",
    "viewer.layers.clear()\n",
    "if np.any(LD_seg):\n",
    "    viewer.add_image(raw_img_data[0], name='LD_raw', blending='additive')\n",
    "    viewer.add_image(LD_seg, opacity=0.3, name='LD_raw', colormap='magenta')\n",
    "if np.any(ER_seg):\n",
    "    viewer.add_image(raw_img_data[1], name='ER_raw', blending='additive')\n",
    "    viewer.add_image(ER_seg, opacity=0.3, name='ER_raw', colormap='red')\n",
    "if np.any(golgi_seg):\n",
    "    viewer.add_image(raw_img_data[2], name='GL_raw', blending='additive')\n",
    "    viewer.add_image(golgi_seg, opacity=0.3, name='GL_raw', colormap='yellow')\n",
    "if np.any(lyso_seg):\n",
    "    viewer.add_image(raw_img_data[3], name='LS_raw', blending='additive')\n",
    "    viewer.add_image(lyso_seg, opacity=0.3, name='LS_raw', colormap='cyan')\n",
    "if np.any(mito_seg):\n",
    "    viewer.add_image(raw_img_data[4], name='MT_raw', blending='additive')\n",
    "    viewer.add_image(mito_seg, opacity=0.3, name='MT_raw', colormap='green')\n",
    "if np.any(perox_seg):\n",
    "    viewer.add_image(raw_img_data[5], name='PO_raw', blending='additive')\n",
    "    viewer.add_image(perox_seg, opacity=0.3, name='PO_raw', colormap='bop orange')\n",
    "if np.any(mask_seg):\n",
    "    viewer.add_image(mask_seg, opacity=0.3, name=\"masks_seg\")\n",
    "    viewer.add_image(cell_seg, opacity=0.3, name=\"cell_seg\")\n",
    "    viewer.add_image(nuc_seg, opacity=0.3, name=\"nuc_seg\")"
   ]
  },
  {
   "cell_type": "markdown",
   "metadata": {},
   "source": [
    "> #### &#x1F6D1; **STOP: Use the `Napari` window to review all of the segmentations for this image.** &#x1F50E;\n",
    ">\n",
    "> **At this point, take note of which segmentations need to be edited, if any. Once you are finished reviewing the segmentations for this image, continue on to the next sections to:**\n",
    "> 1) Edit the segmentation (if necessary), then\n",
    "> 2) Save the final set of segmentations for this image in a new folder. This step will also save the `cell` and `nuc` segmentation files separately in the final analysis location."
   ]
  },
  {
   "cell_type": "markdown",
   "metadata": {},
   "source": [
    "### **`STEP 3` - Edit individual segmentations *(optional)* and quality check segmentations before quantification**\n",
    "\n",
    "#### &#x1F6D1; &#x270D; **User Input Required:**\n",
    "Now that you visually inspected your image and the segmentation output files, indicate below which of the segmentation you would like to edit, if any, by typing one of the following options for each segmentation type:\n",
    "- `True`: for any files you want to edit\n",
    "- `False`: for any that you do not want to edit OR if you did not include that segmentations in your analysis"
   ]
  },
  {
   "cell_type": "code",
   "execution_count": 7,
   "metadata": {},
   "outputs": [],
   "source": [
    "#### USER INPUT REQUIRED ###\n",
    "edit_cell = False\n",
    "edit_nuc = False\n",
    "edit_LD = False \n",
    "edit_ER = False\n",
    "edit_golgi = True\n",
    "edit_lyso = False\n",
    "edit_mito = False\n",
    "edit_perox = False"
   ]
  },
  {
   "cell_type": "markdown",
   "metadata": {},
   "source": [
    "#### &#x1F3C3; **Run code; no user input required** \n",
    "&#x1F440; ***See code block output for instructions:***\n",
    "\n",
    "For the following blocks of code, run them without any changes. Read the output of each cell for further instructions!!\n",
    "\n",
    "**Important:** These blocks of code check your segmentations for the following assumptions:\n",
    "- One cell in the cell mask file\n",
    "- One nuclei within the specified cell mask\n",
    "- The ER is a single object (if it is not, the code will force it to be labeled as one object automatically; no additional user editting will be required)\n",
    "\n",
    "If these assumptions are not followed, instructions will be included in the output of that cell."
   ]
  },
  {
   "cell_type": "code",
   "execution_count": 8,
   "metadata": {},
   "outputs": [
    {
     "name": "stdout",
     "output_type": "stream",
     "text": [
      "Continue - run the next block of code\n"
     ]
    }
   ],
   "source": [
    "if np.size(np.unique(cell_seg)) > 2:\n",
    "    print(\"Your cell mask segmentation contains MORE THAN ONE cell mask object. For quantification, you must only have ONE cell mask object.\")\n",
    "    viewer.layers.clear()\n",
    "    viewer.add_image(raw_img_data)\n",
    "    viewer.add_labels(cell_seg)\n",
    "    print(\"Head to the Napari window to edit your Cell segmentation!\")\n",
    "elif edit_cell is True:\n",
    "    viewer.layers.clear()\n",
    "    viewer.add_image(raw_img_data)\n",
    "    viewer.add_labels(cell_seg)\n",
    "    print(\"Head to the Napari window!\")\n",
    "    print(\"You can edit your segmentation as needed there.\")\n",
    "    print(\"Be sure to save the new segmentation using File > Save in the Napari window. You should save it to the folder you listed as 'location_tosave_edited_segmentations'\")\n",
    "elif edit_cell is False:\n",
    "    print(\"Continue - run the next block of code\")\n",
    "else:\n",
    "    print(\"There is an error somewhere!\")"
   ]
  },
  {
   "cell_type": "code",
   "execution_count": 9,
   "metadata": {},
   "outputs": [
    {
     "name": "stdout",
     "output_type": "stream",
     "text": [
      "Continue - run the next block of code\n"
     ]
    }
   ],
   "source": [
    "single_nuc = apply_mask(nuc_seg, cell_seg)\n",
    "len = np.size(np.unique(single_nuc))\n",
    "\n",
    "if len != 2:\n",
    "    print(f\"Your nucleus mask segmentation contains {len-1} nuc objects. For quantification, you must only have ONE nuc object per cell.\")\n",
    "    viewer.layers.clear()\n",
    "    viewer.add_image(raw_img_data)\n",
    "    viewer.add_labels(nuc_seg)\n",
    "    print(\"Head to the Napari window to edit your Nuc segmentation!\")\n",
    "elif edit_nuc is True:\n",
    "    viewer.layers.clear()\n",
    "    viewer.add_image(raw_img_data)\n",
    "    viewer.add_labels(nuc_seg)\n",
    "    print(\"Head to the Napari window!\")\n",
    "    print(\"You can edit your segmentation as needed there.\")\n",
    "    print(\"Be sure to save the new segmentation using File > Save in the Napari window. You should save it to the folder you listed as 'location_tosave_edited_segmentations'\")\n",
    "elif edit_nuc is False:\n",
    "    print(\"Continue - run the next block of code\")\n",
    "else:\n",
    "    print(\"There is an error somewhere!\")"
   ]
  },
  {
   "cell_type": "code",
   "execution_count": 10,
   "metadata": {},
   "outputs": [
    {
     "name": "stdout",
     "output_type": "stream",
     "text": [
      "Continue - run the next block of code\n"
     ]
    }
   ],
   "source": [
    "if edit_LD is True:\n",
    "    viewer.layers.clear()\n",
    "    viewer.add_image(raw_img_data)\n",
    "    viewer.add_labels(LD_seg)\n",
    "    print(\"Head to the Napari window!\")\n",
    "    print(\"You can edit your segmentation as needed there.\")\n",
    "    print(\"Be sure to save the new segmentation using File > Save in the Napari window. You should save it to the folder you listed as 'location_tosave_edited_segmentations'\")\n",
    "elif edit_LD is False:\n",
    "    print(\"Continue - run the next block of code\")\n",
    "else:\n",
    "    print(\"There is an error somewhere!\")"
   ]
  },
  {
   "cell_type": "code",
   "execution_count": 11,
   "metadata": {},
   "outputs": [
    {
     "name": "stdout",
     "output_type": "stream",
     "text": [
      "Continue - run the next block of code\n"
     ]
    }
   ],
   "source": [
    "if np.size(np.unique(ER_seg)) > 2:\n",
    "    print(\"Your ER segmentation contains MORE THAN ONE ER object. For infer-subc quantification, we assume that the ER is one continuous object.\")\n",
    "    ER_seg = label_bool_as_uint16(ER_seg)\n",
    "    print(\"Your ER segmentation has been updated. All of the objects have been given the same ID number and will be considered one object during quantification.\")\n",
    "elif edit_ER is True:\n",
    "    viewer.layers.clear()\n",
    "    viewer.add_image(raw_img_data)\n",
    "    viewer.add_labels(ER_seg)\n",
    "    print(\"Head to the Napari window!\")\n",
    "    print(\"You can edit your segmentation as needed there.\")\n",
    "    print(\"Be sure to save the new segmentation using File > Save in the Napari window. You should save it to the folder you listed as 'location_tosave_edited_segmentations'\")\n",
    "elif edit_ER is False:\n",
    "    print(\"Continue - run the next block of code\")\n",
    "else:\n",
    "    print(\"There is an error somewhere!\")"
   ]
  },
  {
   "cell_type": "code",
   "execution_count": 12,
   "metadata": {},
   "outputs": [
    {
     "name": "stdout",
     "output_type": "stream",
     "text": [
      "Head to the Napari window!\n",
      "You can edit your segmentation as needed there.\n",
      "Be sure to save the new segmentation using File > Save in the Napari window. You should save it to the folder you listed as 'location_tosave_edited_segmentations'\n"
     ]
    }
   ],
   "source": [
    "if edit_golgi is True:\n",
    "    viewer.layers.clear()\n",
    "    viewer.add_image(raw_img_data)\n",
    "    viewer.add_labels(golgi_seg)\n",
    "    print(\"Head to the Napari window!\")\n",
    "    print(\"You can edit your segmentation as needed there.\")\n",
    "    print(\"Be sure to save the new segmentation using File > Save in the Napari window. You should save it to the folder you listed as 'location_tosave_edited_segmentations'\")\n",
    "elif edit_golgi is False:\n",
    "    print(\"Continue - run the next block of code\")\n",
    "else:\n",
    "    print(\"There is an error somewhere!\")"
   ]
  },
  {
   "cell_type": "code",
   "execution_count": 53,
   "metadata": {},
   "outputs": [
    {
     "name": "stdout",
     "output_type": "stream",
     "text": [
      "Continue - run the next block of code\n"
     ]
    }
   ],
   "source": [
    "if edit_lyso is True:\n",
    "    viewer.layers.clear()\n",
    "    viewer.add_image(raw_img_data)\n",
    "    viewer.add_labels(lyso_seg)\n",
    "    print(\"Head to the Napari window!\")\n",
    "    print(\"You can edit your segmentation as needed there.\")\n",
    "    print(\"Be sure to save the new segmentation using File > Save in the Napari window. You should save it to the folder you listed as 'location_tosave_edited_segmentations'\")\n",
    "elif edit_lyso is False:\n",
    "    print(\"Continue - run the next block of code\")\n",
    "else:\n",
    "    print(\"There is an error somewhere!\")"
   ]
  },
  {
   "cell_type": "code",
   "execution_count": 54,
   "metadata": {},
   "outputs": [
    {
     "name": "stdout",
     "output_type": "stream",
     "text": [
      "Continue - run the next block of code\n"
     ]
    }
   ],
   "source": [
    "if edit_mito is True:\n",
    "    viewer.layers.clear()\n",
    "    viewer.add_image(raw_img_data)\n",
    "    viewer.add_labels(mito_seg)\n",
    "    print(\"Head to the Napari window!\")\n",
    "    print(\"You can edit your segmentation as needed there.\")\n",
    "    print(\"Be sure to save the new segmentation using File > Save in the Napari window. You should save it to the folder you listed as 'location_tosave_edited_segmentations'\")\n",
    "elif edit_mito is False:\n",
    "    print(\"Continue - run the next block of code\")\n",
    "else:\n",
    "    print(\"There is an error somewhere!\")"
   ]
  },
  {
   "cell_type": "code",
   "execution_count": 55,
   "metadata": {},
   "outputs": [
    {
     "name": "stdout",
     "output_type": "stream",
     "text": [
      "Continue - run the next block of code\n"
     ]
    },
    {
     "name": "stderr",
     "output_type": "stream",
     "text": [
      "WARNING: monitorData: Unable to obtain handle for monitor '\\\\.\\DISPLAY2', defaulting to 96 DPI.\n",
      "10-Feb-25 08:04:44 - vispy    - WARNING  - monitorData: Unable to obtain handle for monitor '\\\\.\\DISPLAY2', defaulting to 96 DPI.\n",
      "WARNING: monitorData: Unable to obtain handle for monitor '\\\\.\\DISPLAY2', defaulting to 96 DPI.\n",
      "10-Feb-25 08:04:44 - vispy    - WARNING  - monitorData: Unable to obtain handle for monitor '\\\\.\\DISPLAY2', defaulting to 96 DPI.\n",
      "WARNING: monitorData: Unable to obtain handle for monitor '\\\\.\\DISPLAY2', defaulting to 96 DPI.\n",
      "10-Feb-25 08:04:44 - vispy    - WARNING  - monitorData: Unable to obtain handle for monitor '\\\\.\\DISPLAY2', defaulting to 96 DPI.\n",
      "WARNING: monitorData: Unable to obtain handle for monitor '\\\\.\\DISPLAY2', defaulting to 96 DPI.\n",
      "10-Feb-25 08:04:44 - vispy    - WARNING  - monitorData: Unable to obtain handle for monitor '\\\\.\\DISPLAY2', defaulting to 96 DPI.\n"
     ]
    }
   ],
   "source": [
    "if edit_perox is True:\n",
    "    viewer.layers.clear()\n",
    "    viewer.add_image(raw_img_data)\n",
    "    viewer.add_labels(perox_seg)\n",
    "    print(\"Head to the Napari window!\")\n",
    "    print(\"You can edit your segmentation as needed there.\")\n",
    "    print(\"Be sure to save the new segmentation using File > Save in the Napari window. You should save it to the folder you listed as 'location_tosave_edited_segmentations'\")\n",
    "elif edit_perox is False:\n",
    "    print(\"Continue - run the next block of code\")\n",
    "else:\n",
    "    print(\"There is an error somewhere!\")"
   ]
  },
  {
   "cell_type": "code",
   "execution_count": null,
   "metadata": {},
   "outputs": [
    {
     "name": "stdout",
     "output_type": "stream",
     "text": [
      "Continue - run the next block of code\n"
     ]
    },
    {
     "name": "stderr",
     "output_type": "stream",
     "text": [
      "WARNING: monitorData: Unable to obtain handle for monitor '\\\\.\\DISPLAY2', defaulting to 96 DPI.\n",
      "10-Feb-25 08:04:44 - vispy    - WARNING  - monitorData: Unable to obtain handle for monitor '\\\\.\\DISPLAY2', defaulting to 96 DPI.\n",
      "WARNING: monitorData: Unable to obtain handle for monitor '\\\\.\\DISPLAY2', defaulting to 96 DPI.\n",
      "10-Feb-25 08:04:44 - vispy    - WARNING  - monitorData: Unable to obtain handle for monitor '\\\\.\\DISPLAY2', defaulting to 96 DPI.\n",
      "WARNING: monitorData: Unable to obtain handle for monitor '\\\\.\\DISPLAY2', defaulting to 96 DPI.\n",
      "10-Feb-25 08:04:44 - vispy    - WARNING  - monitorData: Unable to obtain handle for monitor '\\\\.\\DISPLAY2', defaulting to 96 DPI.\n",
      "WARNING: monitorData: Unable to obtain handle for monitor '\\\\.\\DISPLAY2', defaulting to 96 DPI.\n",
      "10-Feb-25 08:04:44 - vispy    - WARNING  - monitorData: Unable to obtain handle for monitor '\\\\.\\DISPLAY2', defaulting to 96 DPI.\n"
     ]
    }
   ],
   "source": [
    "if edit_LD is True:\n",
    "    viewer.layers.clear()\n",
    "    viewer.add_image(raw_img_data)\n",
    "    viewer.add_labels(LD_seg)\n",
    "    print(\"Head to the Napari window!\")\n",
    "    print(\"You can edit your segmentation as needed there.\")\n",
    "    print(\"Be sure to save the new segmentation using File > Save in the Napari window. You should save it to the folder you listed as 'location_tosave_edited_segmentations'\")\n",
    "elif edit_LD is False:\n",
    "    print(\"Continue - run the next block of code\")\n",
    "else:\n",
    "    print(\"There is an error somewhere!\")"
   ]
  },
  {
   "cell_type": "markdown",
   "metadata": {},
   "source": [
    "### **`STEP 4` - Save final organelle and region segmentations into specified folder**\n",
    "\n",
    "#### &#x1F3C3; **Run code; no user input required**\n",
    "\n",
    "&#x1F453; **FYI:** This code block combines the newly editted segmentation file(s) with any of the segmentation files that did not need editting. They are saved into a NEW file location (specified in the beginning of this notebook) that will be used as the input for `Part 2 - Organelle Quantification`. "
   ]
  },
  {
   "cell_type": "code",
   "execution_count": null,
   "metadata": {},
   "outputs": [],
   "source": [
    "if edit_cell is True:\n",
    "    cell_seg = import_inferred_organelle(\"cell\", raw_meta_dict, location_tosave_edited_segmentations, seg_file_type)\n",
    "    out_file_n = export_inferred_organelle(cell_seg, \"cell\", raw_meta_dict, Path(location_tosave_fullset_gooddata))\n",
    "elif edit_cell is False:\n",
    "    cell_seg = mask_seg[1]\n",
    "    out_file_n = export_inferred_organelle(cell_seg, \"cell\", raw_meta_dict, Path(location_tosave_fullset_gooddata))\n",
    "else:\n",
    "    print(\"There is an error somewhere!\")"
   ]
  },
  {
   "cell_type": "code",
   "execution_count": null,
   "metadata": {},
   "outputs": [],
   "source": [
    "if edit_nuc is True:\n",
    "    nuc_seg = import_inferred_organelle(\"nuc\", raw_meta_dict, location_tosave_edited_segmentations, seg_file_type)\n",
    "    out_file_n = export_inferred_organelle(cell_seg, \"nuc\", raw_meta_dict, Path(location_tosave_fullset_gooddata))\n",
    "elif edit_cell is False:\n",
    "    nuc_seg = mask_seg[2]\n",
    "    out_file_n = export_inferred_organelle(cell_seg, \"nuc\", raw_meta_dict, Path(location_tosave_fullset_gooddata))\n",
    "else:\n",
    "    print(\"There is an error somewhere!\")"
   ]
  },
  {
   "cell_type": "code",
   "execution_count": null,
   "metadata": {},
   "outputs": [],
   "source": [
    "if edit_LD is True:\n",
    "    LD_seg = import_inferred_organelle(\"LD\", raw_meta_dict, location_tosave_edited_segmentations, seg_file_type)\n",
    "    out_file_n = export_inferred_organelle(LD_seg, \"LD\", raw_meta_dict, Path(location_tosave_fullset_gooddata))\n",
    "elif edit_LD is False:\n",
    "    out_file_n = export_inferred_organelle(LD_seg, \"LD\", raw_meta_dict, Path(location_tosave_fullset_gooddata))\n",
    "else:\n",
    "    print(\"There is an error somewhere!\")"
   ]
  },
  {
   "cell_type": "code",
   "execution_count": null,
   "metadata": {},
   "outputs": [],
   "source": [
    "if edit_ER is True:\n",
    "    ER_seg = import_inferred_organelle(\"ER\", raw_meta_dict, location_tosave_edited_segmentations, seg_file_type)\n",
    "    out_file_n = export_inferred_organelle(ER_seg, \"ER\", raw_meta_dict, Path(location_tosave_fullset_gooddata))\n",
    "elif edit_ER is False:\n",
    "    out_file_n = export_inferred_organelle(ER_seg, \"ER\", raw_meta_dict, Path(location_tosave_fullset_gooddata))\n",
    "else:\n",
    "    print(\"There is an error somewhere!\")"
   ]
  },
  {
   "cell_type": "code",
   "execution_count": null,
   "metadata": {},
   "outputs": [],
   "source": [
    "if edit_golgi is True:\n",
    "    golgi_seg = import_inferred_organelle(\"golgi\", raw_meta_dict, location_tosave_edited_segmentations, seg_file_type)\n",
    "    out_file_n = export_inferred_organelle(golgi_seg, \"golgi\", raw_meta_dict, Path(location_tosave_fullset_gooddata))\n",
    "elif edit_golgi is False:\n",
    "    out_file_n = export_inferred_organelle(golgi_seg, \"golgi\", raw_meta_dict, Path(location_tosave_fullset_gooddata))\n",
    "else:\n",
    "    print(\"There is an error somewhere!\")"
   ]
  },
  {
   "cell_type": "code",
   "execution_count": null,
   "metadata": {},
   "outputs": [],
   "source": [
    "if edit_lyso is True:\n",
    "    lyso_seg = import_inferred_organelle(\"lyso\", raw_meta_dict, location_tosave_edited_segmentations, seg_file_type)\n",
    "    out_file_n = export_inferred_organelle(lyso_seg, \"lyso\", raw_meta_dict, Path(location_tosave_fullset_gooddata))\n",
    "elif edit_lyso is False:\n",
    "    out_file_n = export_inferred_organelle(lyso_seg, \"lyso\", raw_meta_dict, Path(location_tosave_fullset_gooddata))\n",
    "else:\n",
    "    print(\"There is an error somewhere!\")"
   ]
  },
  {
   "cell_type": "code",
   "execution_count": null,
   "metadata": {},
   "outputs": [],
   "source": [
    "if edit_mito is True:\n",
    "    mito_seg = import_inferred_organelle(\"mito\", raw_meta_dict, location_tosave_edited_segmentations, seg_file_type)\n",
    "    out_file_n = export_inferred_organelle(mito_seg, \"mito\", raw_meta_dict, Path(location_tosave_fullset_gooddata))\n",
    "elif edit_mito is False:\n",
    "    out_file_n = export_inferred_organelle(mito_seg, \"mito\", raw_meta_dict, Path(location_tosave_fullset_gooddata))\n",
    "else:\n",
    "    print(\"There is an error somewhere!\")"
   ]
  },
  {
   "cell_type": "code",
   "execution_count": null,
   "metadata": {},
   "outputs": [],
   "source": [
    "if edit_perox is True:\n",
    "    perox_seg = import_inferred_organelle(\"perox\", raw_meta_dict, location_tosave_edited_segmentations, seg_file_type)\n",
    "    out_file_n = export_inferred_organelle(perox_seg, \"perox\", raw_meta_dict, Path(location_tosave_fullset_gooddata))\n",
    "elif edit_perox is False:\n",
    "    out_file_n = export_inferred_organelle(perox_seg, \"perox\", raw_meta_dict, Path(location_tosave_fullset_gooddata))\n",
    "else:\n",
    "    print(\"There is an error somewhere!\")"
   ]
  },
  {
   "cell_type": "markdown",
   "metadata": {},
   "source": [
    "> ### 🔁🔁 **Repeat `Steps 2-4` above for *EACH IMAGE* in your dataset.**  \n",
    ">\n",
    "> You've now completed the quality check for one image. Repeat these steps for each image in your dataset by selecting the next image in the list at the beginning of `Part 2` above."
   ]
  },
  {
   "cell_type": "markdown",
   "metadata": {},
   "source": [
    "-----\n",
    "### 🎉 **CONGRATULATIONS!! You've successfully completed `infer-subc Part 1 - Segmentation Workflows`.**\n",
    "\n",
    "Continue on to `infer-subc Part 2 - Organelle Quantification`. An overview is included in the `2.0_quantification_setup` notebook."
   ]
  }
 ],
 "metadata": {
  "kernelspec": {
   "display_name": "infer-subc-scohen",
   "language": "python",
   "name": "python3"
  },
  "language_info": {
   "codemirror_mode": {
    "name": "ipython",
    "version": 3
   },
   "file_extension": ".py",
   "mimetype": "text/x-python",
   "name": "python",
   "nbconvert_exporter": "python",
   "pygments_lexer": "ipython3",
   "version": "3.10.15"
  }
 },
 "nbformat": 4,
 "nbformat_minor": 2
}
