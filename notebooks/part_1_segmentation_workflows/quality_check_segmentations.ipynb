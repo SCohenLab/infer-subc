{
 "cells": [
  {
   "cell_type": "markdown",
   "metadata": {},
   "source": [
    "# **Quality check segmentations**\n",
    "\n",
    "***Prior to this notebook, you should have already completed the organelle and masks segmentations using notebooks 1.0 through 1.7 and/or batch_processing_segmentations OR completed segmentations using the `infer-subc` plugin for Napari.***\n",
    "\n",
    "### **Purpose**\n",
    "The purpose of this notebook is to:\n",
    "1. Visually inspect the segmentation outputs for each image in your dataset (***optional***)\n",
    "\n",
    "    We highly recommend going through this process. It is especially important for datasets where errors in the segmentations can have large impacts on the downstream statistical outcomes (e.g., datasets that do NOT have ~100+ images per condition for example).\n",
    "2. Separation of the `masks` file into separate `cell` and `nuc` segmentation files (***required***)\n",
    "\n",
    "    This is required for downstream analysis in `infer-subc` Part 2. For some background, this step is required due to technical limitations of the Napari plugin; each workflow can only output one file, but the segmentations of the nucleus and cell are derived from the same workflows.\n",
    "\n",
    "### ➡️ **Input**\n",
    "The following files will be used as input in this notebook:\n",
    "1. \"Raw\" confocal microscopy image (\".tiff\", \".tif\", or \".czi\") where each channel of the image represents one of the organelles being segmented\n",
    "2. The segmentation files created in `infer-subc` Notebooks or Napari plugin or derived from alternative segmentation tools.\n",
    "\n",
    "You will also need the following:\n",
    "1. An empty folder to save segmentation files after editing\n",
    "2. An empty folder to save the FINAL segmentation dataset (e.g., combining edited files with original segmentation files that did not need editing)\n",
    "\n",
    "### **Output** ➡️\n",
    "The output from this notebook will include:\n",
    "1. A new folder containing any edited mask files saved as \".tiff\"\n",
    "2. A new folder containing ALL FINAL segmentation files that are ready for quantification\n",
    "\n",
    "-----"
   ]
  },
  {
   "cell_type": "markdown",
   "metadata": {},
   "source": [
    "### 👣 **Summary of steps**  \n",
    "\n",
    "➡️ **QUALITY CHECK SEGMENTATIONS**\n",
    "- **`Step 1`** - Define the paths to your data and final output location\n",
    "\n",
    "- **`Step 2`** - Import and visualize organelle and region segmentations\n",
    "\n",
    "- **`Step 3`** - Edit individual segmentations (***optional***) and quality check segmentations before quantification\n",
    "\n",
    "- **`Step 4`** - Save organelle and region segmentations into specified folder\n",
    "\n",
    "    This step will also save the cell and nuclei segmentations as separate files (***required***)"
   ]
  },
  {
   "cell_type": "markdown",
   "metadata": {},
   "source": [
    "---------------------\n",
    "## **IMPORTS**"
   ]
  },
  {
   "cell_type": "markdown",
   "metadata": {},
   "source": [
    "#### &#x1F3C3; **Run code; no user input required**"
   ]
  },
  {
   "cell_type": "code",
   "execution_count": null,
   "metadata": {},
   "outputs": [],
   "source": [
    "from pathlib import Path\n",
    "import pandas as pd\n",
    "import numpy as np\n",
    "\n",
    "import napari\n",
    "viewer = napari.Viewer()\n",
    "\n",
    "from infer_subc.core.file_io import (read_czi_image,\n",
    "                                        export_inferred_organelle,\n",
    "                                        import_inferred_organelle,\n",
    "                                        list_image_files,)\n",
    "from infer_subc.core.img import apply_mask, label_bool_as_uint16, label\n",
    "from infer_subc.utils.batch import QC_filter\n",
    "\n",
    "%load_ext autoreload\n",
    "%autoreload 2"
   ]
  },
  {
   "cell_type": "markdown",
   "metadata": {},
   "source": [
    "-----\n",
    "\n",
    "## **QUALITY CHECK OF SEGMENTATIONS**"
   ]
  },
  {
   "cell_type": "markdown",
   "metadata": {},
   "source": [
    "### **`STEP 1` - Define the paths to your data**\n",
    "\n",
    "#### &#x1F6D1; &#x270D; **User Input Required:**\n",
    "\n",
    "Please specify the following information about your data: \n",
    "- `raw_path`: A string of the path to your raw (e.g., intensity) images that were used as the input for segmentation\n",
    "- `seg_path`: A string of the path where the segmentation outputs will be saved\n",
    "- `location_tosave_edited_segmentations`: A string to a empty folder where you will save segmentation files after editing them.\n",
    "- `location_tosave_fullset_gooddata`: A string to a empty folder that will contain all of the FINAL segmentation files (e.g., it will combine the newly saved edited segmentation files with any of the original segmentation files that did not need editing)\n",
    "- `raw_file_type`: The raw file type (e.g., \".tiff\" or \".czi\")\n",
    "- `seg_file_type`: The segmentation file type (e.g., \".tiff\" or \".tif\" if you were using infer-subc notebooks or Napari plugin)\n",
    "- `{seg-name}_suffix`: the ending of your segmentation file name; this usually just includes the segmentation suffix (e.g., 'lyso'), but may also include additional text if the settings file in Napari or the 'name_suffix' in the batch_process_segmentation notebook contained additional text. *If the segmentation listed was not included in your analysis, type `None`*.\n",
    "- `{seg-name}_ch`: the index of the channel in the raw intensity image used to generate the associated segmentation. Channel indexes begin at 0 for channel 1.\n",
    "\n",
    "<mark>build in sample data use here for testing out this notebook with the sample data<mark>"
   ]
  },
  {
   "cell_type": "code",
   "execution_count": null,
   "metadata": {},
   "outputs": [],
   "source": [
    "#### USER INPUT REQUIRED ###\n",
    "raw_data = \"E:/Experiments (C2-117 - current)/C2-121/C2-121_deconvolution\"\n",
    "seg_path = \"E:/Experiments (C2-117 - current)/C2-121/20230921_C2-121_3D-analysis/20230921_C2-121_segmentation\"\n",
    "\n",
    "location_tosave_edited_segmentations = \"E:/Experiments (C2-117 - current)/C2-121/20230921_C2-121_3D-analysis/20240102_C2-121_segmentation-edits\"\n",
    "location_tosave_fullset_gooddata = \"E:/Experiments (C2-117 - current)/C2-121/20230921_C2-121_3D-analysis/C2-121_good-segs\"\n",
    "\n",
    "raw_file_type = \".tiff\"\n",
    "seg_file_type = \".tiff\"\n",
    "\n",
    "lyso_ch = 3\n",
    "mito_ch = 4\n",
    "golgi_ch = 2\n",
    "perox_ch = 5\n",
    "ER_ch = 1\n",
    "LD_ch = 0\n",
    "\n",
    "mask_suffix = \"masks_A\"\n",
    "lyso_suffix = \"lyso\"\n",
    "mito_suffix = \"mito\"\n",
    "golgi_suffix = \"golgi\"\n",
    "perox_suffix = \"perox\"\n",
    "ER_suffix = \"ER\"\n",
    "LD_suffix = \"LD\"\n",
    "# eventually transition to this formatting: \n",
    "# suffix = ['masks_A', 'lyso', 'mito', 'golgi', 'perox', 'ER', 'LD']\n",
    "# ch = [None, 1, 2, 3, 4, 5, 0]"
   ]
  },
  {
   "cell_type": "markdown",
   "metadata": {},
   "source": [
    "#### &#x1F6D1; &#x270D; ***Optional* User Input Required:**\n",
    "\n",
    "&#x1F453; **FYI:** If you ran the batch processing more than once, you can include information about the additional segmentation location and file suffixes here. If you do **NOT** have a second file location, for each object below, please indicate: `None`\n",
    "\n",
    "***Important:** Only one location for each segmentation type will be used. If `lyso_suffix` and `lyso_suffix_2` are both specified, **ONLY** `lyso_suffix_2` will be visualized below.*"
   ]
  },
  {
   "cell_type": "code",
   "execution_count": null,
   "metadata": {},
   "outputs": [],
   "source": [
    "#### Optional - USER INPUT REQUIRED ###\n",
    "seg_path_2 = None\n",
    "\n",
    "mask_suffix_2 = None\n",
    "lyso_suffix_2 = None\n",
    "mito_suffix_2 = None\n",
    "golgi_suffix_2 = None\n",
    "perox_suffix_2 = None\n",
    "ER_suffix_2 = None\n",
    "LD_suffix_2 = None"
   ]
  },
  {
   "cell_type": "markdown",
   "metadata": {},
   "source": [
    "#### &#x1F3C3; **Run code; no user input required**\n",
    "&#x1F453; **FYI:** This code block will print the list of raw file names in your raw_path. You will want to review each file in the list for accurate segmentations. The next set of code blocks will walk you how to do this."
   ]
  },
  {
   "cell_type": "code",
   "execution_count": null,
   "metadata": {},
   "outputs": [],
   "source": [
    "raw_file_list = list_image_files(Path(raw_data),\".tiff\")\n",
    "\n",
    "pd.set_option('display.max_colwidth', None)\n",
    "pd.DataFrame({\"Image Name\":raw_file_list})"
   ]
  },
  {
   "cell_type": "markdown",
   "metadata": {},
   "source": [
    "### **`STEP 2` - Import and visualize organelle and region segmentations**\n",
    "\n",
    "#### &#x1F6D1; &#x270D; **User Input Required:**\n",
    "&#x1F53C; Use the list  above to determine the index of the image you would like to look at. Eventually, you should look at all images. The pipeline below will indicate when you need to return here to repeat for the next image in the list."
   ]
  },
  {
   "cell_type": "code",
   "execution_count": null,
   "metadata": {},
   "outputs": [],
   "source": [
    "#### USER INPUT REQUIRED ###\n",
    "num = 11"
   ]
  },
  {
   "cell_type": "markdown",
   "metadata": {},
   "source": [
    "#### &#x1F3C3; **Run code; no user input required**\n",
    "&#x1F453; **FYI:** This code block will import the segmentation files associated to the raw image you selected above. The raw image and segmentations will be included in a Napari viewer for visual inspection."
   ]
  },
  {
   "cell_type": "code",
   "execution_count": null,
   "metadata": {},
   "outputs": [],
   "source": [
    "raw_img_data, raw_meta_dict = read_czi_image(raw_file_list[num])\n",
    "print(\"Image name:\")\n",
    "print(raw_meta_dict['name'][0].split(\" :: \")[0])\n",
    "\n",
    "if mask_suffix is not None:\n",
    "    mask_seg = import_inferred_organelle(mask_suffix, raw_meta_dict, Path(seg_path), seg_file_type)\n",
    "    cell_seg = mask_seg[1]\n",
    "    nuc_seg = mask_seg[0]\n",
    "if lyso_suffix is not None:\n",
    "    lyso_seg = import_inferred_organelle(lyso_suffix, raw_meta_dict, Path(seg_path), seg_file_type)\n",
    "if mito_suffix is not None:\n",
    "    mito_seg = import_inferred_organelle(mito_suffix, raw_meta_dict, Path(seg_path), seg_file_type)\n",
    "if golgi_suffix is not None:\n",
    "    golgi_seg = import_inferred_organelle(golgi_suffix, raw_meta_dict, Path(seg_path), seg_file_type)\n",
    "if perox_suffix is not None:\n",
    "    perox_seg = import_inferred_organelle(perox_suffix, raw_meta_dict, Path(seg_path), seg_file_type)\n",
    "if ER_suffix is not None:\n",
    "    ER_seg = import_inferred_organelle(ER_suffix, raw_meta_dict, Path(seg_path), seg_file_type)\n",
    "if LD_suffix is not None:\n",
    "    LD_seg = import_inferred_organelle(LD_suffix, raw_meta_dict, Path(seg_path), seg_file_type)\n",
    "\n",
    "if seg_path_2 is not None:\n",
    "    if mask_suffix_2 is not None:\n",
    "        mask_seg = import_inferred_organelle(mask_suffix_2, raw_meta_dict, Path(seg_path_2), seg_file_type)\n",
    "        cell_seg = mask_seg[1]\n",
    "        nuc_seg = mask_seg[0]\n",
    "        mask_suffix = mask_suffix_2\n",
    "    if lyso_suffix_2 is not None:\n",
    "        lyso_seg = import_inferred_organelle(lyso_suffix_2, raw_meta_dict, Path(seg_path_2), seg_file_type)\n",
    "        lyso_suffix = lyso_suffix_2\n",
    "    if mito_suffix_2 is not None:\n",
    "        mito_seg = import_inferred_organelle(mito_suffix_2, raw_meta_dict, Path(seg_path_2), seg_file_type)\n",
    "        mito_suffix = mito_suffix_2\n",
    "    if golgi_suffix_2 is not None:\n",
    "        golgi_seg = import_inferred_organelle(golgi_suffix_2, raw_meta_dict, Path(seg_path_2), seg_file_type)\n",
    "        golgi_suffix = golgi_suffix_2\n",
    "    if perox_suffix_2 is not None:\n",
    "        perox_seg = import_inferred_organelle(perox_suffix_2, raw_meta_dict, Path(seg_path_2), seg_file_type)\n",
    "        perox_suffix = perox_suffix_2\n",
    "    if ER_suffix_2 is not None:\n",
    "        ER_seg = import_inferred_organelle(ER_suffix_2, raw_meta_dict, Path(seg_path_2), seg_file_type)\n",
    "        ER_suffix = ER_suffix_2\n",
    "    if LD_suffix_2 is not None:\n",
    "        LD_seg = import_inferred_organelle(LD_suffix_2, raw_meta_dict, Path(seg_path_2), seg_file_type)\n",
    "        LD_suffix = LD_suffix_2\n",
    "\n",
    "viewer.layers.clear()\n",
    "if np.any(LD_seg):\n",
    "    viewer.add_image(raw_img_data[LD_ch], name=f'{LD_suffix}_raw', blending='additive')\n",
    "    viewer.add_image(LD_seg, opacity=0.3, name=f'{LD_suffix}_seg', colormap='magenta')\n",
    "if np.any(ER_seg):\n",
    "    viewer.add_image(raw_img_data[ER_ch], name=f'{ER_suffix}_raw', blending='additive')\n",
    "    viewer.add_image(ER_seg, opacity=0.3, name=f'{ER_suffix}_seg', colormap='red')\n",
    "if np.any(golgi_seg):\n",
    "    viewer.add_image(raw_img_data[golgi_ch], name=f'{golgi_suffix}_raw', blending='additive')\n",
    "    viewer.add_image(golgi_seg, opacity=0.3, name=f'{golgi_suffix}_seg', colormap='yellow')\n",
    "if np.any(lyso_seg):\n",
    "    viewer.add_image(raw_img_data[lyso_ch], name=f'{lyso_suffix}_raw', blending='additive')\n",
    "    viewer.add_image(lyso_seg, opacity=0.3, name=f'{lyso_suffix}_seg', colormap='cyan')\n",
    "if np.any(mito_seg):\n",
    "    viewer.add_image(raw_img_data[mito_ch], name=f'{mito_suffix}_raw', blending='additive')\n",
    "    viewer.add_image(mito_seg, opacity=0.3, name=f'{mito_suffix}_seg', colormap='green')\n",
    "if np.any(perox_seg):\n",
    "    viewer.add_image(raw_img_data[perox_ch], name=f'{perox_suffix}_raw', blending='additive')\n",
    "    viewer.add_image(perox_seg, opacity=0.3, name=f'{perox_suffix}_seg', colormap='bop orange')\n",
    "if np.any(mask_seg):\n",
    "    viewer.add_image(mask_seg, opacity=0.3, name=f'{mask_suffix}_seg')\n",
    "    viewer.add_image(cell_seg, opacity=0.3, name=\"cell_seg\")\n",
    "    viewer.add_image(nuc_seg, opacity=0.3, name=\"nuc_seg\")"
   ]
  },
  {
   "cell_type": "markdown",
   "metadata": {},
   "source": [
    "> #### &#x1F6D1; **STOP: Use the `Napari` window to review all of the segmentations for this image.** &#x1F50E;\n",
    ">\n",
    "> **At this point, take note of which segmentations need to be edited, if any. Once you are finished reviewing the segmentations for this image, continue on to the next sections to:**\n",
    "> 1) Edit the segmentation (if necessary), then\n",
    "> 2) Save the final set of segmentations for this image in a new folder. This step will also save the `cell` and `nuc` segmentation files separately in the final analysis location."
   ]
  },
  {
   "cell_type": "markdown",
   "metadata": {},
   "source": [
    "### **`STEP 3` - Edit *(optional)* and quality check segmentations**\n",
    "\n",
    "#### &#x1F6D1; &#x270D; **User Input Required:**\n",
    "Now that you visually inspected your image and the segmentation output files, indicate below which of the segmentations you would like to edit, if any, by typing one of the following options for each segmentation type:\n",
    "- `True`: for any files you want to edit\n",
    "- `False`: for any that you do not want to edit OR if you did not include that segmentation in your analysis\n",
    "\n",
    "Additionally, you have the option to choose a filter to apply to your cells that may not meet assumptions specified below. Indicate the filter, if any, you would like the computer to apply to correct for the assumptions by typing one of the following options for each segmentation type:\n",
    "- `\"largest\"`: only the largest nonzero object will be considered\n",
    "- `\"brightest\"`: only the brightest object from a composite of all layers of the raw image will be considered\n",
    "- `any integer value`: only objects that are larger than the specified number of voxels will be considered\n",
    "- `None`: no filtering will be applied"
   ]
  },
  {
   "cell_type": "code",
   "execution_count": null,
   "metadata": {},
   "outputs": [],
   "source": [
    "#### USER INPUT REQUIRED ###\n",
    "edit_cell = False\n",
    "filter_cell = None\n",
    "edit_nuc = False\n",
    "filter_nuc = None\n",
    "edit_LD = False \n",
    "edit_ER = False\n",
    "edit_golgi = False\n",
    "edit_lyso = False\n",
    "edit_mito = False\n",
    "edit_perox = False"
   ]
  },
  {
   "cell_type": "markdown",
   "metadata": {},
   "source": [
    "#### &#x1F3C3; **Run code; no user input required** \n",
    "&#x1F440; ***See code block output for instructions:***\n",
    "\n",
    "For the following blocks of code, run them without any changes, and do not edit the naming of the layers in Napari. Read the output of each cell for further instructions!!\n",
    "\n",
    "**Important:** These blocks of code check your segmentations for the following assumptions:\n",
    "- One cell in the cell mask file\n",
    "- One nuclei within the specified cell mask\n",
    "- The ER is a single object (if it is not, the code will force it to be labeled as one object automatically; no additional user editting will be required)\n",
    "\n",
    "If these assumptions are not met in your image, the computer will attempt to automatically correct your image based on the filter_object value above (where object refers to the individual object). If you do not wish the computer to make any automatic corrections, set the filter_object value to None. Additional instructions will be included in the output of the code block."
   ]
  },
  {
   "cell_type": "code",
   "execution_count": null,
   "metadata": {},
   "outputs": [],
   "source": [
    "if edit_cell is True:\n",
    "    viewer.layers.clear()\n",
    "    viewer.add_image(raw_img_data)\n",
    "    viewer.add_labels(cell_seg)\n",
    "    print(\"Head to the Napari window!\")\n",
    "    print(\"You can edit your segmentation as needed there, then run the next block of code.\")\n",
    "elif edit_cell is False:\n",
    "    print(\"Continue - run the next block of code\")\n",
    "else:\n",
    "    print(\"There is an error somewhere!\")"
   ]
  },
  {
   "cell_type": "code",
   "execution_count": null,
   "metadata": {},
   "outputs": [],
   "source": [
    "# QC for object number per image\n",
    "if (np.size(np.unique(label(viewer.layers['cell_seg'].data))) > 2):\n",
    "    print(\"Your cell mask segmentation contains MORE THAN ONE cell mask object. For quantification, you must only have ONE cell mask object, attempting to correct this automatically...\")\n",
    "    \n",
    "    filtered_cell_seg = QC_filter(viewer.layers['cell_seg'].data, raw_img_data, method=filter_cell)\n",
    "\n",
    "    if np.size(np.unique(filtered_cell_seg)) == 2:\n",
    "        print(\"The image has been processed to automatical remove any small objects.\")\n",
    "        cell_seg = filtered_cell_seg\n",
    "        viewer.add_labels(filtered_cell_seg, name=\"filtered_cell_seg\")\n",
    "        print(\"Head to the Napari window to see your filtered cell segmentation output!\")\n",
    "        print(\"If satisfied, run the next block of code.\")\n",
    "        print(\"Note: if further edits are desired, please edit the cell_seg layer instead of the filtered_cell_seg layer, then rerun this block of code.\")\n",
    "        \n",
    "    elif np.size(np.unique(filtered_cell_seg)) > 2:\n",
    "        print(\"We tried to remove small objects, but there are still multiple cell mask objects in the image. Please try other 'filter_cell' values above or edit the segmentation manually in Napari.\")\n",
    "        viewer.add_labels(filtered_cell_seg, name=\"filtered_cell_seg\")\n",
    "        print(\"Head to the Napari window to see your filtered cell segmentation output!\")\n",
    "        print(\"Note: any edits made to the filtered_cell_seg layer will not be saved. Direct desired edits to the cell_seg layer instead, then rerun this block of code.\")\n",
    "\n",
    "    else:\n",
    "        print(\"There are no cell mask objects in the image. Please check your segmentation files, and/or filter_cell value and try again. If necessary, rerun the previous code block to reset the image.\")"
   ]
  },
  {
   "cell_type": "code",
   "execution_count": null,
   "metadata": {},
   "outputs": [],
   "source": [
    "if edit_nuc is True:\n",
    "    viewer.layers.clear()\n",
    "    viewer.add_image(raw_img_data)\n",
    "    viewer.add_labels(nuc_seg)\n",
    "    print(\"Head to the Napari window!\")\n",
    "    print(\"You can edit your segmentation as needed there, then run the next block of code.\")\n",
    "elif edit_nuc is False:\n",
    "    print(\"Continue - run the next block of code\")\n",
    "else:\n",
    "    print(\"There is an error somewhere!\")"
   ]
  },
  {
   "cell_type": "code",
   "execution_count": null,
   "metadata": {},
   "outputs": [],
   "source": [
    "# QC for object number per image\n",
    "if (np.size(np.unique(label(apply_mask(viewer.layers['nuc_seg'].data, cell_seg)))) > 2):\n",
    "    print(\"Your nucleus segmentation contains MORE THAN ONE nucleus object within the cell mask. For quantification, you must only have ONE nucleus mask object, attempting to correct this automatically...\")\n",
    "    \n",
    "    filtered_nuc_seg = QC_filter(viewer.layers['nuc_seg'].data, raw_img_data, method=filter_nuc)\n",
    "\n",
    "    if np.size(np.unique(filtered_nuc_seg)) == 2:\n",
    "        print(\"The image has been processed to automatical remove any small objects.\")\n",
    "        nuc_seg = filtered_nuc_seg\n",
    "        viewer.add_labels(filtered_nuc_seg, name=\"filtered_nuc_seg\")\n",
    "        print(\"Head to the Napari window to see your filtered nuc segmentation output!\")\n",
    "        print(\"If satisfied, run the next block of code.\")\n",
    "        print(\"Note: if further edits are desired, please edit the nuc_seg layer instead of the filtered_nuc_seg layer, then rerun this block of code.\")\n",
    "        \n",
    "    elif np.size(np.unique(filtered_nuc_seg)) > 2:\n",
    "        print(\"We tried to remove small objects, but there are still multiple nucleus objects in the image. Please try other 'filter_nuc' values above or edit the segmentation manually in Napari.\")\n",
    "        viewer.add_labels(filtered_nuc_seg, name=\"filtered_nuc_seg\")\n",
    "        print(\"Head to the Napari window to see your filtered nucleus segmentation output!\")\n",
    "        print(\"Note: any edits made to the filtered_nuc_seg layer will not be saved. Direct desired edits to the nuc_seg layer instead, then rerun this block of code.\")\n",
    "    else:\n",
    "        print(\"There are no nucleus objects in the image. Please check your segmentation files, and/or filter_nuc value and try again. If necessary, rerun the previous code block to reset the image.\")\n",
    "\n",
    "else:\n",
    "    print(\"Continue - run the next block of code\")"
   ]
  },
  {
   "cell_type": "code",
   "execution_count": null,
   "metadata": {},
   "outputs": [],
   "source": [
    "if edit_LD is True:\n",
    "    viewer.layers.clear()\n",
    "    viewer.add_image(raw_img_data)\n",
    "    viewer.add_labels(LD_seg)\n",
    "    print(\"Head to the Napari window!\")\n",
    "    print(\"You can edit your segmentation as needed there, then run the next block of code.\")\n",
    "elif edit_LD is False:\n",
    "    print(\"Continue - run the next block of code\")\n",
    "else:\n",
    "    print(\"There is an error somewhere!\")"
   ]
  },
  {
   "cell_type": "code",
   "execution_count": null,
   "metadata": {},
   "outputs": [],
   "source": [
    "if edit_LD is True:\n",
    "    LD_seg = viewer.layers['LD_seg'].data\n",
    "print(\"Your LD segmentation been has stored to local memory.\")\n",
    "print(\"Continue - run the next block of code\")"
   ]
  },
  {
   "cell_type": "code",
   "execution_count": null,
   "metadata": {},
   "outputs": [],
   "source": [
    "if np.size(np.unique(ER_seg)) > 2:\n",
    "    print(\"Your ER segmentation contains MORE THAN ONE ER object. For infer-subc quantification, we assume that the ER is one continuous object.\")\n",
    "    ER_seg = label_bool_as_uint16(ER_seg)\n",
    "    print(\"Your ER segmentation has been updated. All of the objects have been given the same ID number and will be considered one object during quantification.\")\n",
    "elif edit_ER is True:\n",
    "    viewer.add_image(raw_img_data)\n",
    "    viewer.add_labels(ER_seg)\n",
    "    print(\"Head to the Napari window!\")\n",
    "    print(\"You can edit your segmentation as needed there.\")\n",
    "elif edit_ER is False:\n",
    "    print(\"Continue - run the next block of code\")\n",
    "else:\n",
    "    print(\"There is an error somewhere!\")"
   ]
  },
  {
   "cell_type": "code",
   "execution_count": null,
   "metadata": {},
   "outputs": [],
   "source": [
    "if edit_ER is True:\n",
    "    ER_seg = viewer.layers['ER_seg'].data\n",
    "print(\"Your ER segmentation been has stored to local memory.\")\n",
    "print(\"Continue - run the next block of code\")"
   ]
  },
  {
   "cell_type": "code",
   "execution_count": null,
   "metadata": {},
   "outputs": [],
   "source": [
    "if edit_golgi is True:\n",
    "    viewer.layers.clear()\n",
    "    viewer.add_image(raw_img_data)\n",
    "    viewer.add_labels(golgi_seg)\n",
    "    print(\"Head to the Napari window!\")\n",
    "    print(\"You can edit your segmentation as needed there.\")\n",
    "elif edit_golgi is False:\n",
    "    print(\"Continue - run the next block of code\")\n",
    "else:\n",
    "    print(\"There is an error somewhere!\")"
   ]
  },
  {
   "cell_type": "code",
   "execution_count": null,
   "metadata": {},
   "outputs": [],
   "source": [
    "if edit_golgi is True:\n",
    "    golgi_seg = viewer.layers['golgi_seg'].data\n",
    "print(\"Your golgi segmentation been has stored to local memory.\")\n",
    "print(\"Continue - run the next block of code\")"
   ]
  },
  {
   "cell_type": "code",
   "execution_count": null,
   "metadata": {},
   "outputs": [],
   "source": [
    "if edit_lyso is True:\n",
    "    viewer.layers.clear()\n",
    "    viewer.add_image(raw_img_data)\n",
    "    viewer.add_labels(lyso_seg)\n",
    "    print(\"Head to the Napari window!\")\n",
    "    print(\"You can edit your segmentation as needed there.\")\n",
    "elif edit_lyso is False:\n",
    "    print(\"Continue - run the next block of code\")\n",
    "else:\n",
    "    print(\"There is an error somewhere!\")"
   ]
  },
  {
   "cell_type": "code",
   "execution_count": null,
   "metadata": {},
   "outputs": [],
   "source": [
    "if edit_lyso is True:\n",
    "    lyso_seg = viewer.layers['lyso_seg'].data\n",
    "print(\"Your lyso segmentation been has stored to local memory.\")\n",
    "print(\"Continue - run the next block of code\")"
   ]
  },
  {
   "cell_type": "code",
   "execution_count": null,
   "metadata": {},
   "outputs": [],
   "source": [
    "if edit_mito is True:\n",
    "    viewer.layers.clear()\n",
    "    viewer.add_image(raw_img_data)\n",
    "    viewer.add_labels(mito_seg)\n",
    "    print(\"Head to the Napari window!\")\n",
    "    print(\"You can edit your segmentation as needed there.\")\n",
    "elif edit_mito is False:\n",
    "    print(\"Continue - run the next block of code\")\n",
    "else:\n",
    "    print(\"There is an error somewhere!\")"
   ]
  },
  {
   "cell_type": "code",
   "execution_count": null,
   "metadata": {},
   "outputs": [],
   "source": [
    "if edit_mito is True:\n",
    "    mito_seg = viewer.layers['mito_seg'].data\n",
    "print(\"Your mito segmentation been has stored to local memory.\")\n",
    "print(\"Continue - run the next block of code\")"
   ]
  },
  {
   "cell_type": "code",
   "execution_count": null,
   "metadata": {},
   "outputs": [],
   "source": [
    "if edit_perox is True:\n",
    "    viewer.layers.clear()\n",
    "    viewer.add_image(raw_img_data)\n",
    "    viewer.add_labels(perox_seg)\n",
    "    print(\"Head to the Napari window!\")\n",
    "    print(\"You can edit your segmentation as needed there.\")\n",
    "elif edit_perox is False:\n",
    "    print(\"Continue - run the next block of code\")\n",
    "else:\n",
    "    print(\"There is an error somewhere!\")"
   ]
  },
  {
   "cell_type": "code",
   "execution_count": null,
   "metadata": {},
   "outputs": [],
   "source": [
    "if edit_perox is True:\n",
    "    perox_seg = viewer.layers['perox_seg'].data\n",
    "print(\"Your perox segmentation been has stored to local memory.\")\n",
    "print(\"Continue - run the next block of code\")"
   ]
  },
  {
   "cell_type": "markdown",
   "metadata": {},
   "source": [
    "### **`STEP 4` - Save final organelle and region segmentations into specified folder**\n",
    "\n",
    "#### &#x1F3C3; **Run code; no user input required**\n",
    "\n",
    "&#x1F453; **FYI:** This code block combines the newly editted segmentation file(s) with any of the segmentation files that did not need editting. They are saved into a NEW file location (specified in the beginning of this notebook) that will be used as the input for `Part 2 - Organelle Quantification`."
   ]
  },
  {
   "cell_type": "code",
   "execution_count": null,
   "metadata": {},
   "outputs": [],
   "source": [
    "if edit_cell is True:\n",
    "    out_file_n = export_inferred_organelle(cell_seg, \"cell\", raw_meta_dict, Path(location_tosave_edited_segmentations))\n",
    "    out_file_n = export_inferred_organelle(cell_seg, \"cell\", raw_meta_dict, Path(location_tosave_fullset_gooddata))\n",
    "elif edit_cell is False:\n",
    "    cell_seg = mask_seg[1]\n",
    "    out_file_n = export_inferred_organelle(cell_seg, \"cell\", raw_meta_dict, Path(location_tosave_fullset_gooddata))\n",
    "else:\n",
    "    print(\"There is an error somewhere!\")"
   ]
  },
  {
   "cell_type": "code",
   "execution_count": null,
   "metadata": {},
   "outputs": [],
   "source": [
    "if edit_nuc is True:\n",
    "    out_file_n = export_inferred_organelle(nuc_seg, \"nuc\", raw_meta_dict, Path(location_tosave_edited_segmentations))\n",
    "    out_file_n = export_inferred_organelle(nuc_seg, \"nuc\", raw_meta_dict, Path(location_tosave_fullset_gooddata))\n",
    "elif edit_cell is False:\n",
    "    nuc_seg = mask_seg[0]\n",
    "    out_file_n = export_inferred_organelle(nuc_seg, \"nuc\", raw_meta_dict, Path(location_tosave_fullset_gooddata))\n",
    "else:\n",
    "    print(\"There is an error somewhere!\")"
   ]
  },
  {
   "cell_type": "code",
   "execution_count": null,
   "metadata": {},
   "outputs": [],
   "source": [
    "if edit_LD is True:\n",
    "    out_file_n = export_inferred_organelle(LD_seg, \"LD\", raw_meta_dict, Path(location_tosave_edited_segmentations))\n",
    "    out_file_n = export_inferred_organelle(LD_seg, \"LD\", raw_meta_dict, Path(location_tosave_fullset_gooddata))\n",
    "elif edit_LD is False:\n",
    "    out_file_n = export_inferred_organelle(LD_seg, \"LD\", raw_meta_dict, Path(location_tosave_fullset_gooddata))\n",
    "else:\n",
    "    print(\"There is an error somewhere!\")"
   ]
  },
  {
   "cell_type": "code",
   "execution_count": null,
   "metadata": {},
   "outputs": [],
   "source": [
    "if edit_ER is True:\n",
    "    out_file_n = export_inferred_organelle(ER_seg, \"ER\", raw_meta_dict, Path(location_tosave_edited_segmentations))\n",
    "    out_file_n = export_inferred_organelle(ER_seg, \"ER\", raw_meta_dict, Path(location_tosave_fullset_gooddata))\n",
    "elif edit_ER is False:\n",
    "    out_file_n = export_inferred_organelle(ER_seg, \"ER\", raw_meta_dict, Path(location_tosave_fullset_gooddata))\n",
    "else:\n",
    "    print(\"There is an error somewhere!\")"
   ]
  },
  {
   "cell_type": "code",
   "execution_count": null,
   "metadata": {},
   "outputs": [],
   "source": [
    "if edit_golgi is True:\n",
    "    out_file_n = export_inferred_organelle(golgi_seg, \"golgi\", raw_meta_dict, Path(location_tosave_edited_segmentations))\n",
    "    out_file_n = export_inferred_organelle(golgi_seg, \"golgi\", raw_meta_dict, Path(location_tosave_fullset_gooddata))\n",
    "elif edit_golgi is False:\n",
    "    out_file_n = export_inferred_organelle(golgi_seg, \"golgi\", raw_meta_dict, Path(location_tosave_fullset_gooddata))\n",
    "else:\n",
    "    print(\"There is an error somewhere!\")"
   ]
  },
  {
   "cell_type": "code",
   "execution_count": null,
   "metadata": {},
   "outputs": [],
   "source": [
    "if edit_lyso is True:\n",
    "    out_file_n = export_inferred_organelle(lyso_seg, \"lyso\", raw_meta_dict, Path(location_tosave_edited_segmentations))\n",
    "    out_file_n = export_inferred_organelle(lyso_seg, \"lyso\", raw_meta_dict, Path(location_tosave_fullset_gooddata))\n",
    "elif edit_lyso is False:\n",
    "    out_file_n = export_inferred_organelle(lyso_seg, \"lyso\", raw_meta_dict, Path(location_tosave_fullset_gooddata))\n",
    "else:\n",
    "    print(\"There is an error somewhere!\")"
   ]
  },
  {
   "cell_type": "code",
   "execution_count": null,
   "metadata": {},
   "outputs": [],
   "source": [
    "if edit_mito is True:\n",
    "    out_file_n = export_inferred_organelle(mito_seg, \"mito\", raw_meta_dict, Path(location_tosave_edited_segmentations))\n",
    "    out_file_n = export_inferred_organelle(mito_seg, \"mito\", raw_meta_dict, Path(location_tosave_fullset_gooddata))\n",
    "elif edit_mito is False:\n",
    "    out_file_n = export_inferred_organelle(mito_seg, \"mito\", raw_meta_dict, Path(location_tosave_fullset_gooddata))\n",
    "else:\n",
    "    print(\"There is an error somewhere!\")"
   ]
  },
  {
   "cell_type": "code",
   "execution_count": null,
   "metadata": {},
   "outputs": [],
   "source": [
    "if edit_perox is True:\n",
    "    out_file_n = export_inferred_organelle(perox_seg, \"perox\", raw_meta_dict, Path(location_tosave_edited_segmentations))\n",
    "    out_file_n = export_inferred_organelle(perox_seg, \"perox\", raw_meta_dict, Path(location_tosave_fullset_gooddata))\n",
    "elif edit_perox is False:\n",
    "    out_file_n = export_inferred_organelle(perox_seg, \"perox\", raw_meta_dict, Path(location_tosave_fullset_gooddata))\n",
    "else:\n",
    "    print(\"There is an error somewhere!\")"
   ]
  },
  {
   "cell_type": "markdown",
   "metadata": {},
   "source": [
    "> ### 🔁🔁 **Repeat `Steps 2-4` above for *EACH IMAGE* in your dataset.**  \n",
    ">\n",
    "> You've now completed the quality check for one image. Repeat these steps for each image in your dataset by selecting the next image in the list at the beginning of `Step 2` above."
   ]
  },
  {
   "cell_type": "markdown",
   "metadata": {},
   "source": [
    "-----\n",
    "### 🎉 **CONGRATULATIONS!! You've successfully completed `infer-subc Part 1 - Segmentation Workflows`.**\n",
    "\n",
    "Continue on to `infer-subc Part 2 - Organelle Quantification`. An overview is included in the [`2.0_quantification_setup`](..\\part_2_quantification\\2.0_quantification_setup.ipynb) notebook."
   ]
  }
 ],
 "metadata": {
  "kernelspec": {
   "display_name": "infer-subc",
   "language": "python",
   "name": "python3"
  },
  "language_info": {
   "codemirror_mode": {
    "name": "ipython",
    "version": 3
   },
   "file_extension": ".py",
   "mimetype": "text/x-python",
   "name": "python",
   "nbconvert_exporter": "python",
   "pygments_lexer": "ipython3",
   "version": "3.10.13"
  }
 },
 "nbformat": 4,
 "nbformat_minor": 2
}
