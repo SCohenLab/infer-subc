{
 "cells": [
  {
   "cell_type": "markdown",
   "metadata": {},
   "source": [
    "# &#x1F50D; Checking segmentation outputs from Organelle-Segmenter-Plugin\n",
    "\n",
    "### &#x1F4D6; **How to:** \n",
    "\n",
    "Advance through each block of code sequentially by pressing `Shift`+`Enter`.\n",
    "\n",
    "If a block of code contains &#x1F53D; follow the written instructions to fill in the blanks below that line before running it.\n",
    "```python\n",
    "#### USER INPUT REQUIRED ###\n",
    "``` "
   ]
  },
  {
   "cell_type": "markdown",
   "metadata": {},
   "source": [
    "---------\n",
    "## **Final Workflow *(Quality Check)***\n",
    "\n",
    "### summary of steps\n",
    "\n",
    "**QUALITY CHECK OF SEGMENTATIONS**\n",
    "\n",
    "- **`0`** - Establish data and output paths *(preliminary step)*\n",
    "\n",
    "- **`1`** - Import organelle and region segmentations\n",
    "\n",
    "**EDITING SEGMENTATIONS**\n",
    "\n",
    "- **`2`** - Edit/Review individual segmentations *(optional)*\n",
    "\n",
    "**SAVE ALL CORRECT SEGMENTATIONS** - into one folder for quantification\n",
    "\n",
    "- **`3`** - Save organelle and region segmentations into specified folder\n",
    "\n",
    "**EXECUTE QUANTIFICATION**\n",
    "\n",
    "- Run `batch_process_quantification` function\n",
    "- Run `batch_summary_stats` function"
   ]
  },
  {
   "cell_type": "markdown",
   "metadata": {},
   "source": [
    "________________\n",
    "## \t**IMPORTS**"
   ]
  },
  {
   "cell_type": "markdown",
   "metadata": {},
   "source": [
    "#### &#x1F3C3; **Run code; no user input required**\n",
    "\n",
    "&#x1F453; **FYI:** This code block loads all of the necessary python packages and functions you will need for this notebook. Additionally, a [Napari](https://napari.org/stable/) window will open; this is where you will be able to visual the segmentations."
   ]
  },
  {
   "cell_type": "code",
   "execution_count": null,
   "metadata": {},
   "outputs": [],
   "source": [
    "from pathlib import Path\n",
    "import pandas as pd\n",
    "\n",
    "import napari\n",
    "\n",
    "from infer_subc.core.file_io import (read_czi_image,\n",
    "                                        export_inferred_organelle,\n",
    "                                        import_inferred_organelle,\n",
    "                                        list_image_files,)\n",
    "\n",
    "from infer_subc.utils.stats_helpers import batch_process_quantification, batch_summary_stats\n",
    "\n",
    "%load_ext autoreload\n",
    "%autoreload 2\n",
    "\n",
    "viewer = napari.Viewer()"
   ]
  },
  {
   "cell_type": "markdown",
   "metadata": {},
   "source": [
    "__________________________\n",
    "# ***QUALITY CHECK OF SEGMENTATIONS***"
   ]
  },
  {
   "cell_type": "markdown",
   "metadata": {},
   "source": [
    "## **`0` - Establish data and output paths *(preliminary step)***"
   ]
  },
  {
   "cell_type": "markdown",
   "metadata": {},
   "source": [
    "#### &#x1F6D1; &#x270D; **User Input Required:**"
   ]
  },
  {
   "cell_type": "code",
   "execution_count": null,
   "metadata": {},
   "outputs": [],
   "source": [
    "#### USER INPUT REQUIRED ###\n",
    "# Copy and paste the paths to the folders where your data is saved inside the quotation marks below. \n",
    "# If you have more than one segmentation data folder, include it in the segmentation_data_2 line. If not, type None wihtout quotation marks\n",
    "# NOTE: for windows, use \"/\" \n",
    "raw_data = \"D:/Experiments (C2-117 - current)/C2-121/C2-121_deconvolution\"\n",
    "segmentation_data = \"D:/Experiments (C2-117 - current)/C2-121/20230921_C2-121_3D-analysis/20230921_C2-121_segmentation\"\n",
    "\n",
    "location_tosave_edited_segmentations = \"D:/Experiments (C2-117 - current)/C2-121/20230921_C2-121_3D-analysis/20240102_C2-121_segmentation-edits\"\n",
    "location_tosave_fullset_gooddata = \"D:/Experiments (C2-117 - current)/C2-121/20230921_C2-121_3D-analysis/C2-121_good-segs\"\n",
    "\n",
    "# In quotation marks, include the extension of the file type for your SEGMENTATION and RAW images\n",
    "raw_file_type = \".tiff\"\n",
    "seg_file_type = \".tiff\"\n",
    "\n",
    "# In quotation marks, write the suffix associated to each segmentation file. If you don't have that image \n",
    "mask_suffix = \"masks_A\"\n",
    "lyso_suffix = \"lyso\"\n",
    "mito_suffix = \"mito\"\n",
    "golgi_suffix = \"golgi\"\n",
    "perox_suffix = \"perox\"\n",
    "ER_suffix = \"ER\"\n",
    "LD_suffix = \"LD\""
   ]
  },
  {
   "cell_type": "code",
   "execution_count": null,
   "metadata": {},
   "outputs": [],
   "source": [
    "#### Optional - USER INPUT REQUIRED ###\n",
    "# If your segmentations are saved in more than one folder, fill in the information below about the second file location. If not, type None wihtout quotation marks in all of the lines below.\n",
    "# Copy and paste the paths to the folders where your data is saved inside the quotation marks below. \n",
    "segmentation_data_2 = None\n",
    "\n",
    "# In quotation marks, write the suffix associated to each segmentation file; if \n",
    "mask_suffix_2 = None\n",
    "lyso_suffix_2 = None\n",
    "mito_suffix_2 = None\n",
    "golgi_suffix_2 = None\n",
    "perox_suffix_2 = None\n",
    "ER_suffix_2 = None\n",
    "LD_suffix_2 = None"
   ]
  },
  {
   "cell_type": "markdown",
   "metadata": {},
   "source": [
    "### &#x1F3C3; **Run code; no user input required**"
   ]
  },
  {
   "cell_type": "code",
   "execution_count": null,
   "metadata": {},
   "outputs": [
    {
     "data": {
      "text/html": [
       "<div>\n",
       "<style scoped>\n",
       "    .dataframe tbody tr th:only-of-type {\n",
       "        vertical-align: middle;\n",
       "    }\n",
       "\n",
       "    .dataframe tbody tr th {\n",
       "        vertical-align: top;\n",
       "    }\n",
       "\n",
       "    .dataframe thead th {\n",
       "        text-align: right;\n",
       "    }\n",
       "</style>\n",
       "<table border=\"1\" class=\"dataframe\">\n",
       "  <thead>\n",
       "    <tr style=\"text-align: right;\">\n",
       "      <th></th>\n",
       "      <th>Image Name</th>\n",
       "    </tr>\n",
       "  </thead>\n",
       "  <tbody>\n",
       "    <tr>\n",
       "      <th>0</th>\n",
       "      <td>D:\\Experiments (C2-117 - current)\\C2-121\\C2-121_deconvolution\\20230727_C2-121_conditioned_well 2_cell 1_50uM NaAsO_Linear unmixing_0_cmle.ome.tiff</td>\n",
       "    </tr>\n",
       "    <tr>\n",
       "      <th>1</th>\n",
       "      <td>D:\\Experiments (C2-117 - current)\\C2-121\\C2-121_deconvolution\\20230727_C2-121_conditioned_well 2_cell 2_50uM NaAsO_Linear unmixing_0_cmle.ome.tiff</td>\n",
       "    </tr>\n",
       "    <tr>\n",
       "      <th>2</th>\n",
       "      <td>D:\\Experiments (C2-117 - current)\\C2-121\\C2-121_deconvolution\\20230727_C2-121_conditioned_well 2_cell 3_50uM NaAsO_Linear unmixing_0_cmle.ome.tiff</td>\n",
       "    </tr>\n",
       "    <tr>\n",
       "      <th>3</th>\n",
       "      <td>D:\\Experiments (C2-117 - current)\\C2-121\\C2-121_deconvolution\\20230727_C2-121_conditioned_well 2_cell 4_50uM NaAsO_Linear unmixing_0_cmle.ome.tiff</td>\n",
       "    </tr>\n",
       "    <tr>\n",
       "      <th>4</th>\n",
       "      <td>D:\\Experiments (C2-117 - current)\\C2-121\\C2-121_deconvolution\\20230727_C2-121_conditioned_well 3_cell 1_25nM TG_Linear unmixing_0_cmle.ome.tiff</td>\n",
       "    </tr>\n",
       "    <tr>\n",
       "      <th>5</th>\n",
       "      <td>D:\\Experiments (C2-117 - current)\\C2-121\\C2-121_deconvolution\\20230727_C2-121_conditioned_well 3_cell 2_25nM TG_Linear unmixing_0_cmle.ome.tiff</td>\n",
       "    </tr>\n",
       "    <tr>\n",
       "      <th>6</th>\n",
       "      <td>D:\\Experiments (C2-117 - current)\\C2-121\\C2-121_deconvolution\\20230727_C2-121_conditioned_well 3_cell 3_25nM TG_Linear unmixing_0_cmle.ome.tiff</td>\n",
       "    </tr>\n",
       "    <tr>\n",
       "      <th>7</th>\n",
       "      <td>D:\\Experiments (C2-117 - current)\\C2-121\\C2-121_deconvolution\\20230727_C2-121_conditioned_well 3_cell 4_25nM TG_Linear unmixing_0_cmle.ome.tiff</td>\n",
       "    </tr>\n",
       "    <tr>\n",
       "      <th>8</th>\n",
       "      <td>D:\\Experiments (C2-117 - current)\\C2-121\\C2-121_deconvolution\\20230727_C2-121_conditioned_well 3_cell 5_25nM TG_Linear unmixing_0_cmle.ome.tiff</td>\n",
       "    </tr>\n",
       "    <tr>\n",
       "      <th>9</th>\n",
       "      <td>D:\\Experiments (C2-117 - current)\\C2-121\\C2-121_deconvolution\\20230727_C2-121_conditioned_well 4_cell 1_untreated_Linear unmixing_0_cmle.ome.tiff</td>\n",
       "    </tr>\n",
       "    <tr>\n",
       "      <th>10</th>\n",
       "      <td>D:\\Experiments (C2-117 - current)\\C2-121\\C2-121_deconvolution\\20230727_C2-121_conditioned_well 4_cell 2_untreated_Linear unmixing_0_cmle.ome.tiff</td>\n",
       "    </tr>\n",
       "    <tr>\n",
       "      <th>11</th>\n",
       "      <td>D:\\Experiments (C2-117 - current)\\C2-121\\C2-121_deconvolution\\20230727_C2-121_conditioned_well 4_cell 3_untreated_Linear unmixing_0_cmle.ome.tiff</td>\n",
       "    </tr>\n",
       "    <tr>\n",
       "      <th>12</th>\n",
       "      <td>D:\\Experiments (C2-117 - current)\\C2-121\\C2-121_deconvolution\\20230727_C2-121_conditioned_well 4_cell 4_untreated_Linear unmixing_0_cmle.ome.tiff</td>\n",
       "    </tr>\n",
       "    <tr>\n",
       "      <th>13</th>\n",
       "      <td>D:\\Experiments (C2-117 - current)\\C2-121\\C2-121_deconvolution\\20230727_C2-121_conditioned_well 4_cell 5_untreated_Linear unmixing_0_cmle.ome.tiff</td>\n",
       "    </tr>\n",
       "    <tr>\n",
       "      <th>14</th>\n",
       "      <td>D:\\Experiments (C2-117 - current)\\C2-121\\C2-121_deconvolution\\20230727_C2-121_conditioned_well 5_cell 1_50uM NaAsO  washout_Linear unmixing_0_cmle.ome.tiff</td>\n",
       "    </tr>\n",
       "    <tr>\n",
       "      <th>15</th>\n",
       "      <td>D:\\Experiments (C2-117 - current)\\C2-121\\C2-121_deconvolution\\20230727_C2-121_conditioned_well 5_cell 2_50uM NaAsO  washout_Linear unmixing_0_cmle.ome.tiff</td>\n",
       "    </tr>\n",
       "    <tr>\n",
       "      <th>16</th>\n",
       "      <td>D:\\Experiments (C2-117 - current)\\C2-121\\C2-121_deconvolution\\20230727_C2-121_conditioned_well 5_cell 3_50uM NaAsO  washout_Linear unmixing_0_cmle.ome.tiff</td>\n",
       "    </tr>\n",
       "    <tr>\n",
       "      <th>17</th>\n",
       "      <td>D:\\Experiments (C2-117 - current)\\C2-121\\C2-121_deconvolution\\20230727_C2-121_conditioned_well 5_cell 4_50uM NaAsO  washout_Linear unmixing_0_cmle.ome.tiff</td>\n",
       "    </tr>\n",
       "    <tr>\n",
       "      <th>18</th>\n",
       "      <td>D:\\Experiments (C2-117 - current)\\C2-121\\C2-121_deconvolution\\20230727_C2-121_conditioned_well 5_cell 5_50uM NaAsO  washout_Linear unmixing_0_cmle.ome.tiff</td>\n",
       "    </tr>\n",
       "    <tr>\n",
       "      <th>19</th>\n",
       "      <td>D:\\Experiments (C2-117 - current)\\C2-121\\C2-121_deconvolution\\20230727_C2-121_conditioned_well 6_cell 1_25nM TG_Linear unmixing_0_cmle.ome.tiff</td>\n",
       "    </tr>\n",
       "    <tr>\n",
       "      <th>20</th>\n",
       "      <td>D:\\Experiments (C2-117 - current)\\C2-121\\C2-121_deconvolution\\20230727_C2-121_conditioned_well 6_cell 2_25nM TG_Linear unmixing_0_cmle.ome.tiff</td>\n",
       "    </tr>\n",
       "    <tr>\n",
       "      <th>21</th>\n",
       "      <td>D:\\Experiments (C2-117 - current)\\C2-121\\C2-121_deconvolution\\20230727_C2-121_conditioned_well 6_cell 3_25nM TG_Linear unmixing_0_cmle.ome.tiff</td>\n",
       "    </tr>\n",
       "    <tr>\n",
       "      <th>22</th>\n",
       "      <td>D:\\Experiments (C2-117 - current)\\C2-121\\C2-121_deconvolution\\20230727_C2-121_conditioned_well 6_cell 4_25nM TG_Linear unmixing_0_cmle.ome.tiff</td>\n",
       "    </tr>\n",
       "    <tr>\n",
       "      <th>23</th>\n",
       "      <td>D:\\Experiments (C2-117 - current)\\C2-121\\C2-121_deconvolution\\20230727_C2-121_conditioned_well 6_cell 5_25nM TG_Linear unmixing_0_cmle.ome.tiff</td>\n",
       "    </tr>\n",
       "    <tr>\n",
       "      <th>24</th>\n",
       "      <td>D:\\Experiments (C2-117 - current)\\C2-121\\C2-121_deconvolution\\20230727_C2-121_conditioned_well 7_cell 1_50uM NaAsO_Linear unmixing_0_cmle.ome.tiff</td>\n",
       "    </tr>\n",
       "    <tr>\n",
       "      <th>25</th>\n",
       "      <td>D:\\Experiments (C2-117 - current)\\C2-121\\C2-121_deconvolution\\20230727_C2-121_conditioned_well 7_cell 2_50uM NaAsO_Linear unmixing_0_cmle.ome.tiff</td>\n",
       "    </tr>\n",
       "    <tr>\n",
       "      <th>26</th>\n",
       "      <td>D:\\Experiments (C2-117 - current)\\C2-121\\C2-121_deconvolution\\20230727_C2-121_conditioned_well 7_cell 3_50uM NaAsO_Linear unmixing_0_cmle.ome.tiff</td>\n",
       "    </tr>\n",
       "    <tr>\n",
       "      <th>27</th>\n",
       "      <td>D:\\Experiments (C2-117 - current)\\C2-121\\C2-121_deconvolution\\20230727_C2-121_conditioned_well 7_cell 4_50uM NaAsO_Linear unmixing_0_cmle.ome.tiff</td>\n",
       "    </tr>\n",
       "    <tr>\n",
       "      <th>28</th>\n",
       "      <td>D:\\Experiments (C2-117 - current)\\C2-121\\C2-121_deconvolution\\20230727_C2-121_conditioned_well 7_cell 5_50uM NaAsO_Linear unmixing_0_cmle.ome.tiff</td>\n",
       "    </tr>\n",
       "    <tr>\n",
       "      <th>29</th>\n",
       "      <td>D:\\Experiments (C2-117 - current)\\C2-121\\C2-121_deconvolution\\20230727_C2-121_conditioned_well 8_cell 1_untreated_Linear unmixing_0_cmle.ome.tiff</td>\n",
       "    </tr>\n",
       "    <tr>\n",
       "      <th>30</th>\n",
       "      <td>D:\\Experiments (C2-117 - current)\\C2-121\\C2-121_deconvolution\\20230727_C2-121_conditioned_well 8_cell 2_untreated_Linear unmixing_0_cmle.ome.tiff</td>\n",
       "    </tr>\n",
       "    <tr>\n",
       "      <th>31</th>\n",
       "      <td>D:\\Experiments (C2-117 - current)\\C2-121\\C2-121_deconvolution\\20230727_C2-121_conditioned_well 8_cell 3_untreated_Linear unmixing_0_cmle.ome.tiff</td>\n",
       "    </tr>\n",
       "    <tr>\n",
       "      <th>32</th>\n",
       "      <td>D:\\Experiments (C2-117 - current)\\C2-121\\C2-121_deconvolution\\20230727_C2-121_conditioned_well 8_cell 4_untreated_Linear unmixing_0_cmle.ome.tiff</td>\n",
       "    </tr>\n",
       "    <tr>\n",
       "      <th>33</th>\n",
       "      <td>D:\\Experiments (C2-117 - current)\\C2-121\\C2-121_deconvolution\\20230727_C2-121_unconditioned_well 10_cell 1_25nM TG_Linear unmixing_0_cmle.ome.tiff</td>\n",
       "    </tr>\n",
       "    <tr>\n",
       "      <th>34</th>\n",
       "      <td>D:\\Experiments (C2-117 - current)\\C2-121\\C2-121_deconvolution\\20230727_C2-121_unconditioned_well 10_cell 2_25nM TG_Linear unmixing_0_cmle.ome.tiff</td>\n",
       "    </tr>\n",
       "    <tr>\n",
       "      <th>35</th>\n",
       "      <td>D:\\Experiments (C2-117 - current)\\C2-121\\C2-121_deconvolution\\20230727_C2-121_unconditioned_well 10_cell 3_25nM TG_Linear unmixing_0_cmle.ome.tiff</td>\n",
       "    </tr>\n",
       "    <tr>\n",
       "      <th>36</th>\n",
       "      <td>D:\\Experiments (C2-117 - current)\\C2-121\\C2-121_deconvolution\\20230727_C2-121_unconditioned_well 10_cell 4_25nM TG_Linear unmixing_0_cmle.ome.tiff</td>\n",
       "    </tr>\n",
       "    <tr>\n",
       "      <th>37</th>\n",
       "      <td>D:\\Experiments (C2-117 - current)\\C2-121\\C2-121_deconvolution\\20230727_C2-121_unconditioned_well 11_cell 1_50uM NaAsO_Linear unmixing_0_cmle.ome.tiff</td>\n",
       "    </tr>\n",
       "    <tr>\n",
       "      <th>38</th>\n",
       "      <td>D:\\Experiments (C2-117 - current)\\C2-121\\C2-121_deconvolution\\20230727_C2-121_unconditioned_well 11_cell 3_50uM NaAsO_Linear unmixing_0_cmle.ome.tiff</td>\n",
       "    </tr>\n",
       "    <tr>\n",
       "      <th>39</th>\n",
       "      <td>D:\\Experiments (C2-117 - current)\\C2-121\\C2-121_deconvolution\\20230727_C2-121_unconditioned_well 11_cell 4_50uM NaAsO_Linear unmixing_0_cmle.ome.tiff</td>\n",
       "    </tr>\n",
       "    <tr>\n",
       "      <th>40</th>\n",
       "      <td>D:\\Experiments (C2-117 - current)\\C2-121\\C2-121_deconvolution\\20230727_C2-121_unconditioned_well 11_cell 5_50uM NaAsO_Linear unmixing_0_cmle.ome.tiff</td>\n",
       "    </tr>\n",
       "    <tr>\n",
       "      <th>41</th>\n",
       "      <td>D:\\Experiments (C2-117 - current)\\C2-121\\C2-121_deconvolution\\20230727_C2-121_unconditioned_well 12_cell 1_untreated_Linear unmixing_0_cmle.ome.tiff</td>\n",
       "    </tr>\n",
       "    <tr>\n",
       "      <th>42</th>\n",
       "      <td>D:\\Experiments (C2-117 - current)\\C2-121\\C2-121_deconvolution\\20230727_C2-121_unconditioned_well 12_cell 2_untreated_Linear unmixing_0_cmle.ome.tiff</td>\n",
       "    </tr>\n",
       "    <tr>\n",
       "      <th>43</th>\n",
       "      <td>D:\\Experiments (C2-117 - current)\\C2-121\\C2-121_deconvolution\\20230727_C2-121_unconditioned_well 12_cell 3_untreated_Linear unmixing_0_cmle.ome.tiff</td>\n",
       "    </tr>\n",
       "    <tr>\n",
       "      <th>44</th>\n",
       "      <td>D:\\Experiments (C2-117 - current)\\C2-121\\C2-121_deconvolution\\20230727_C2-121_unconditioned_well 12_cell 4_untreated_Linear unmixing_0_cmle.ome.tiff</td>\n",
       "    </tr>\n",
       "    <tr>\n",
       "      <th>45</th>\n",
       "      <td>D:\\Experiments (C2-117 - current)\\C2-121\\C2-121_deconvolution\\20230727_C2-121_unconditioned_well 9_cell 1_50uM NaAsO  washout_Linear unmixing_0_cmle.ome.tiff</td>\n",
       "    </tr>\n",
       "    <tr>\n",
       "      <th>46</th>\n",
       "      <td>D:\\Experiments (C2-117 - current)\\C2-121\\C2-121_deconvolution\\20230727_C2-121_unconditioned_well 9_cell 2_50uM NaAsO  washout_Linear unmixing_0_cmle.ome.tiff</td>\n",
       "    </tr>\n",
       "    <tr>\n",
       "      <th>47</th>\n",
       "      <td>D:\\Experiments (C2-117 - current)\\C2-121\\C2-121_deconvolution\\20230727_C2-121_unconditioned_well 9_cell 3_50uM NaAsO  washout_Linear unmixing_0_cmle.ome.tiff</td>\n",
       "    </tr>\n",
       "    <tr>\n",
       "      <th>48</th>\n",
       "      <td>D:\\Experiments (C2-117 - current)\\C2-121\\C2-121_deconvolution\\20230727_C2-121_unconditioned_well 9_cell 4_50uM NaAsO  washout_Linear unmixing_0_cmle.ome.tiff</td>\n",
       "    </tr>\n",
       "    <tr>\n",
       "      <th>49</th>\n",
       "      <td>D:\\Experiments (C2-117 - current)\\C2-121\\C2-121_deconvolution\\20230727_C2-121_unconditioned_well 9_cell 5_50uM NaAsO  washout_Linear unmixing_0_cmle.ome.tiff</td>\n",
       "    </tr>\n",
       "  </tbody>\n",
       "</table>\n",
       "</div>"
      ],
      "text/plain": [
       "                                                                                                                                                       Image Name\n",
       "0              D:\\Experiments (C2-117 - current)\\C2-121\\C2-121_deconvolution\\20230727_C2-121_conditioned_well 2_cell 1_50uM NaAsO_Linear unmixing_0_cmle.ome.tiff\n",
       "1              D:\\Experiments (C2-117 - current)\\C2-121\\C2-121_deconvolution\\20230727_C2-121_conditioned_well 2_cell 2_50uM NaAsO_Linear unmixing_0_cmle.ome.tiff\n",
       "2              D:\\Experiments (C2-117 - current)\\C2-121\\C2-121_deconvolution\\20230727_C2-121_conditioned_well 2_cell 3_50uM NaAsO_Linear unmixing_0_cmle.ome.tiff\n",
       "3              D:\\Experiments (C2-117 - current)\\C2-121\\C2-121_deconvolution\\20230727_C2-121_conditioned_well 2_cell 4_50uM NaAsO_Linear unmixing_0_cmle.ome.tiff\n",
       "4                 D:\\Experiments (C2-117 - current)\\C2-121\\C2-121_deconvolution\\20230727_C2-121_conditioned_well 3_cell 1_25nM TG_Linear unmixing_0_cmle.ome.tiff\n",
       "5                 D:\\Experiments (C2-117 - current)\\C2-121\\C2-121_deconvolution\\20230727_C2-121_conditioned_well 3_cell 2_25nM TG_Linear unmixing_0_cmle.ome.tiff\n",
       "6                 D:\\Experiments (C2-117 - current)\\C2-121\\C2-121_deconvolution\\20230727_C2-121_conditioned_well 3_cell 3_25nM TG_Linear unmixing_0_cmle.ome.tiff\n",
       "7                 D:\\Experiments (C2-117 - current)\\C2-121\\C2-121_deconvolution\\20230727_C2-121_conditioned_well 3_cell 4_25nM TG_Linear unmixing_0_cmle.ome.tiff\n",
       "8                 D:\\Experiments (C2-117 - current)\\C2-121\\C2-121_deconvolution\\20230727_C2-121_conditioned_well 3_cell 5_25nM TG_Linear unmixing_0_cmle.ome.tiff\n",
       "9               D:\\Experiments (C2-117 - current)\\C2-121\\C2-121_deconvolution\\20230727_C2-121_conditioned_well 4_cell 1_untreated_Linear unmixing_0_cmle.ome.tiff\n",
       "10              D:\\Experiments (C2-117 - current)\\C2-121\\C2-121_deconvolution\\20230727_C2-121_conditioned_well 4_cell 2_untreated_Linear unmixing_0_cmle.ome.tiff\n",
       "11              D:\\Experiments (C2-117 - current)\\C2-121\\C2-121_deconvolution\\20230727_C2-121_conditioned_well 4_cell 3_untreated_Linear unmixing_0_cmle.ome.tiff\n",
       "12              D:\\Experiments (C2-117 - current)\\C2-121\\C2-121_deconvolution\\20230727_C2-121_conditioned_well 4_cell 4_untreated_Linear unmixing_0_cmle.ome.tiff\n",
       "13              D:\\Experiments (C2-117 - current)\\C2-121\\C2-121_deconvolution\\20230727_C2-121_conditioned_well 4_cell 5_untreated_Linear unmixing_0_cmle.ome.tiff\n",
       "14    D:\\Experiments (C2-117 - current)\\C2-121\\C2-121_deconvolution\\20230727_C2-121_conditioned_well 5_cell 1_50uM NaAsO  washout_Linear unmixing_0_cmle.ome.tiff\n",
       "15    D:\\Experiments (C2-117 - current)\\C2-121\\C2-121_deconvolution\\20230727_C2-121_conditioned_well 5_cell 2_50uM NaAsO  washout_Linear unmixing_0_cmle.ome.tiff\n",
       "16    D:\\Experiments (C2-117 - current)\\C2-121\\C2-121_deconvolution\\20230727_C2-121_conditioned_well 5_cell 3_50uM NaAsO  washout_Linear unmixing_0_cmle.ome.tiff\n",
       "17    D:\\Experiments (C2-117 - current)\\C2-121\\C2-121_deconvolution\\20230727_C2-121_conditioned_well 5_cell 4_50uM NaAsO  washout_Linear unmixing_0_cmle.ome.tiff\n",
       "18    D:\\Experiments (C2-117 - current)\\C2-121\\C2-121_deconvolution\\20230727_C2-121_conditioned_well 5_cell 5_50uM NaAsO  washout_Linear unmixing_0_cmle.ome.tiff\n",
       "19                D:\\Experiments (C2-117 - current)\\C2-121\\C2-121_deconvolution\\20230727_C2-121_conditioned_well 6_cell 1_25nM TG_Linear unmixing_0_cmle.ome.tiff\n",
       "20                D:\\Experiments (C2-117 - current)\\C2-121\\C2-121_deconvolution\\20230727_C2-121_conditioned_well 6_cell 2_25nM TG_Linear unmixing_0_cmle.ome.tiff\n",
       "21                D:\\Experiments (C2-117 - current)\\C2-121\\C2-121_deconvolution\\20230727_C2-121_conditioned_well 6_cell 3_25nM TG_Linear unmixing_0_cmle.ome.tiff\n",
       "22                D:\\Experiments (C2-117 - current)\\C2-121\\C2-121_deconvolution\\20230727_C2-121_conditioned_well 6_cell 4_25nM TG_Linear unmixing_0_cmle.ome.tiff\n",
       "23                D:\\Experiments (C2-117 - current)\\C2-121\\C2-121_deconvolution\\20230727_C2-121_conditioned_well 6_cell 5_25nM TG_Linear unmixing_0_cmle.ome.tiff\n",
       "24             D:\\Experiments (C2-117 - current)\\C2-121\\C2-121_deconvolution\\20230727_C2-121_conditioned_well 7_cell 1_50uM NaAsO_Linear unmixing_0_cmle.ome.tiff\n",
       "25             D:\\Experiments (C2-117 - current)\\C2-121\\C2-121_deconvolution\\20230727_C2-121_conditioned_well 7_cell 2_50uM NaAsO_Linear unmixing_0_cmle.ome.tiff\n",
       "26             D:\\Experiments (C2-117 - current)\\C2-121\\C2-121_deconvolution\\20230727_C2-121_conditioned_well 7_cell 3_50uM NaAsO_Linear unmixing_0_cmle.ome.tiff\n",
       "27             D:\\Experiments (C2-117 - current)\\C2-121\\C2-121_deconvolution\\20230727_C2-121_conditioned_well 7_cell 4_50uM NaAsO_Linear unmixing_0_cmle.ome.tiff\n",
       "28             D:\\Experiments (C2-117 - current)\\C2-121\\C2-121_deconvolution\\20230727_C2-121_conditioned_well 7_cell 5_50uM NaAsO_Linear unmixing_0_cmle.ome.tiff\n",
       "29              D:\\Experiments (C2-117 - current)\\C2-121\\C2-121_deconvolution\\20230727_C2-121_conditioned_well 8_cell 1_untreated_Linear unmixing_0_cmle.ome.tiff\n",
       "30              D:\\Experiments (C2-117 - current)\\C2-121\\C2-121_deconvolution\\20230727_C2-121_conditioned_well 8_cell 2_untreated_Linear unmixing_0_cmle.ome.tiff\n",
       "31              D:\\Experiments (C2-117 - current)\\C2-121\\C2-121_deconvolution\\20230727_C2-121_conditioned_well 8_cell 3_untreated_Linear unmixing_0_cmle.ome.tiff\n",
       "32              D:\\Experiments (C2-117 - current)\\C2-121\\C2-121_deconvolution\\20230727_C2-121_conditioned_well 8_cell 4_untreated_Linear unmixing_0_cmle.ome.tiff\n",
       "33             D:\\Experiments (C2-117 - current)\\C2-121\\C2-121_deconvolution\\20230727_C2-121_unconditioned_well 10_cell 1_25nM TG_Linear unmixing_0_cmle.ome.tiff\n",
       "34             D:\\Experiments (C2-117 - current)\\C2-121\\C2-121_deconvolution\\20230727_C2-121_unconditioned_well 10_cell 2_25nM TG_Linear unmixing_0_cmle.ome.tiff\n",
       "35             D:\\Experiments (C2-117 - current)\\C2-121\\C2-121_deconvolution\\20230727_C2-121_unconditioned_well 10_cell 3_25nM TG_Linear unmixing_0_cmle.ome.tiff\n",
       "36             D:\\Experiments (C2-117 - current)\\C2-121\\C2-121_deconvolution\\20230727_C2-121_unconditioned_well 10_cell 4_25nM TG_Linear unmixing_0_cmle.ome.tiff\n",
       "37          D:\\Experiments (C2-117 - current)\\C2-121\\C2-121_deconvolution\\20230727_C2-121_unconditioned_well 11_cell 1_50uM NaAsO_Linear unmixing_0_cmle.ome.tiff\n",
       "38          D:\\Experiments (C2-117 - current)\\C2-121\\C2-121_deconvolution\\20230727_C2-121_unconditioned_well 11_cell 3_50uM NaAsO_Linear unmixing_0_cmle.ome.tiff\n",
       "39          D:\\Experiments (C2-117 - current)\\C2-121\\C2-121_deconvolution\\20230727_C2-121_unconditioned_well 11_cell 4_50uM NaAsO_Linear unmixing_0_cmle.ome.tiff\n",
       "40          D:\\Experiments (C2-117 - current)\\C2-121\\C2-121_deconvolution\\20230727_C2-121_unconditioned_well 11_cell 5_50uM NaAsO_Linear unmixing_0_cmle.ome.tiff\n",
       "41           D:\\Experiments (C2-117 - current)\\C2-121\\C2-121_deconvolution\\20230727_C2-121_unconditioned_well 12_cell 1_untreated_Linear unmixing_0_cmle.ome.tiff\n",
       "42           D:\\Experiments (C2-117 - current)\\C2-121\\C2-121_deconvolution\\20230727_C2-121_unconditioned_well 12_cell 2_untreated_Linear unmixing_0_cmle.ome.tiff\n",
       "43           D:\\Experiments (C2-117 - current)\\C2-121\\C2-121_deconvolution\\20230727_C2-121_unconditioned_well 12_cell 3_untreated_Linear unmixing_0_cmle.ome.tiff\n",
       "44           D:\\Experiments (C2-117 - current)\\C2-121\\C2-121_deconvolution\\20230727_C2-121_unconditioned_well 12_cell 4_untreated_Linear unmixing_0_cmle.ome.tiff\n",
       "45  D:\\Experiments (C2-117 - current)\\C2-121\\C2-121_deconvolution\\20230727_C2-121_unconditioned_well 9_cell 1_50uM NaAsO  washout_Linear unmixing_0_cmle.ome.tiff\n",
       "46  D:\\Experiments (C2-117 - current)\\C2-121\\C2-121_deconvolution\\20230727_C2-121_unconditioned_well 9_cell 2_50uM NaAsO  washout_Linear unmixing_0_cmle.ome.tiff\n",
       "47  D:\\Experiments (C2-117 - current)\\C2-121\\C2-121_deconvolution\\20230727_C2-121_unconditioned_well 9_cell 3_50uM NaAsO  washout_Linear unmixing_0_cmle.ome.tiff\n",
       "48  D:\\Experiments (C2-117 - current)\\C2-121\\C2-121_deconvolution\\20230727_C2-121_unconditioned_well 9_cell 4_50uM NaAsO  washout_Linear unmixing_0_cmle.ome.tiff\n",
       "49  D:\\Experiments (C2-117 - current)\\C2-121\\C2-121_deconvolution\\20230727_C2-121_unconditioned_well 9_cell 5_50uM NaAsO  washout_Linear unmixing_0_cmle.ome.tiff"
      ]
     },
     "metadata": {},
     "output_type": "display_data"
    }
   ],
   "source": [
    "raw_file_list = list_image_files(Path(raw_data),\".tiff\")\n",
    "\n",
    "pd.set_option('display.max_colwidth', None)\n",
    "pd.DataFrame({\"Image Name\":raw_file_list})"
   ]
  },
  {
   "cell_type": "markdown",
   "metadata": {},
   "source": [
    "#### &#x1F6D1; &#x270D; **User Input required:**\n",
    "&#x1F53C; Use the list  above to determine the index of the image you would like to look at."
   ]
  },
  {
   "cell_type": "code",
   "execution_count": null,
   "metadata": {},
   "outputs": [],
   "source": [
    "#### USER INPUT REQUIRED ###\n",
    "# Utilizing the list above as reference, change this index number (left column in table) to select a specific image\n",
    "num = 26"
   ]
  },
  {
   "cell_type": "markdown",
   "metadata": {},
   "source": [
    "## **`1` - Import organelle and region segmentations**"
   ]
  },
  {
   "cell_type": "markdown",
   "metadata": {},
   "source": [
    "### &#x1F3C3; **Run code; no user input required**"
   ]
  },
  {
   "cell_type": "code",
   "execution_count": null,
   "metadata": {},
   "outputs": [
    {
     "name": "stdout",
     "output_type": "stream",
     "text": [
      "Image name:\n",
      "20230727_C2-121_conditioned_well 7_cell 3_50uM NaAsO_Linear unmixing_0_cmle.ome\n",
      "loaded  inferred 4D `masks_A`  from D:\\Experiments (C2-117 - current)\\C2-121\\20230921_C2-121_3D-analysis\\20230921_C2-121_segmentation \n",
      "loaded  inferred 3D `lyso`  from D:\\Experiments (C2-117 - current)\\C2-121\\20230921_C2-121_3D-analysis\\20230921_C2-121_segmentation \n",
      "loaded  inferred 3D `mito`  from D:\\Experiments (C2-117 - current)\\C2-121\\20230921_C2-121_3D-analysis\\20230921_C2-121_segmentation \n",
      "loaded  inferred 3D `golgi`  from D:\\Experiments (C2-117 - current)\\C2-121\\20230921_C2-121_3D-analysis\\20230921_C2-121_segmentation \n",
      "loaded  inferred 3D `perox`  from D:\\Experiments (C2-117 - current)\\C2-121\\20230921_C2-121_3D-analysis\\20230921_C2-121_segmentation \n",
      "loaded  inferred 3D `ER`  from D:\\Experiments (C2-117 - current)\\C2-121\\20230921_C2-121_3D-analysis\\20230921_C2-121_segmentation \n",
      "loaded  inferred 3D `LD`  from D:\\Experiments (C2-117 - current)\\C2-121\\20230921_C2-121_3D-analysis\\20230921_C2-121_segmentation \n"
     ]
    },
    {
     "data": {
      "text/plain": [
       "<Image layer 'mask_seg' at 0x15b128ad4e0>"
      ]
     },
     "metadata": {},
     "output_type": "display_data"
    }
   ],
   "source": [
    "raw_img_data, raw_meta_dict = read_czi_image(raw_file_list[num])\n",
    "print(\"Image name:\")\n",
    "print(raw_meta_dict['name'][0].split(\" :: \")[0])\n",
    "\n",
    "mask_seg = import_inferred_organelle(mask_suffix, raw_meta_dict, Path(segmentation_data), seg_file_type)\n",
    "lyso_seg = import_inferred_organelle(lyso_suffix, raw_meta_dict, Path(segmentation_data), seg_file_type)\n",
    "mito_seg = import_inferred_organelle(mito_suffix, raw_meta_dict, Path(segmentation_data), seg_file_type)\n",
    "golgi_seg = import_inferred_organelle(golgi_suffix, raw_meta_dict, Path(segmentation_data), seg_file_type)\n",
    "perox_seg = import_inferred_organelle(perox_suffix, raw_meta_dict, Path(segmentation_data), seg_file_type)\n",
    "ER_seg = import_inferred_organelle(ER_suffix, raw_meta_dict, Path(segmentation_data), seg_file_type)\n",
    "LD_seg = import_inferred_organelle(LD_suffix, raw_meta_dict, Path(segmentation_data), seg_file_type)\n",
    "\n",
    "if segmentation_data_2 is not None:\n",
    "    mask_seg = import_inferred_organelle(mask_suffix, raw_meta_dict, Path(segmentation_data_2), seg_file_type)\n",
    "    lyso_seg = import_inferred_organelle(lyso_suffix, raw_meta_dict, Path(segmentation_data_2), seg_file_type)\n",
    "    mito_seg = import_inferred_organelle(mito_suffix, raw_meta_dict, Path(segmentation_data_2), seg_file_type)\n",
    "    golgi_seg = import_inferred_organelle(golgi_suffix, raw_meta_dict, Path(segmentation_data_2), seg_file_type)\n",
    "    perox_seg = import_inferred_organelle(perox_suffix, raw_meta_dict, Path(segmentation_data_2), seg_file_type)\n",
    "    ER_seg = import_inferred_organelle(ER_suffix, raw_meta_dict, Path(segmentation_data_2), seg_file_type)\n",
    "    LD_seg = import_inferred_organelle(LD_suffix, raw_meta_dict, Path(segmentation_data_2), seg_file_type)\n",
    "\n",
    "viewer.layers.clear()\n",
    "viewer.add_image(raw_img_data[0], name='LD_raw', blending='additive')\n",
    "viewer.add_image(LD_seg, opacity=0.3, colormap='magenta')\n",
    "viewer.add_image(raw_img_data[1], name='ER_raw', blending='additive')\n",
    "viewer.add_image(ER_seg, opacity=0.3, colormap='red')\n",
    "viewer.add_image(raw_img_data[2], name='GL_raw', blending='additive')\n",
    "viewer.add_image(golgi_seg, opacity=0.3, colormap='yellow')\n",
    "viewer.add_image(raw_img_data[3], name='LS_raw', blending='additive')\n",
    "viewer.add_image(lyso_seg, opacity=0.3, colormap='cyan')\n",
    "viewer.add_image(raw_img_data[4], name='MT_raw', blending='additive')\n",
    "viewer.add_image(mito_seg, opacity=0.3, colormap='green')\n",
    "viewer.add_image(raw_img_data[5], name='PO_raw', blending='additive')\n",
    "viewer.add_image(perox_seg, opacity=0.3, colormap='bop orange')\n",
    "viewer.add_image(mask_seg, opacity=0.3)"
   ]
  },
  {
   "cell_type": "markdown",
   "metadata": {},
   "source": [
    "### &#x1F6D1; **STOP: Use the `Napari` window to review all of the segmentations for this image.** &#x1F50E;\n",
    "\n",
    "> ##### At this point, take note of which segmentations need to be edited, if any. Once you are finished reviewing the images, continue on to the next sections to 1) Edit the segmentation (if necessary) or 2) Save the final set of segmentations for this image in a new folder. This will make preparing for quantitative analysis much simpler."
   ]
  },
  {
   "cell_type": "markdown",
   "metadata": {},
   "source": [
    "__________________________\n",
    "# ***EDITING SEGMENTATIONS***"
   ]
  },
  {
   "cell_type": "markdown",
   "metadata": {},
   "source": [
    "## **`2` - Edit/Review individual segmentations *(optional)***"
   ]
  },
  {
   "cell_type": "markdown",
   "metadata": {},
   "source": [
    "#### &#x1F6D1; &#x270D; **User Input:**"
   ]
  },
  {
   "cell_type": "code",
   "execution_count": null,
   "metadata": {},
   "outputs": [],
   "source": [
    "#### USER INPUT REQUIRED ###\n",
    "# Indicate which segmentations need editing by typing True. If the segmentations are good and do not need editing, indicate False.\n",
    "edit_cell = False\n",
    "edit_nuc = False\n",
    "edit_LD = False \n",
    "edit_ER = False\n",
    "edit_golgi = True\n",
    "edit_lyso = False\n",
    "edit_mito = False\n",
    "edit_perox = False"
   ]
  },
  {
   "cell_type": "markdown",
   "metadata": {},
   "source": [
    "### &#x1F3C3; **Run code; no user input required** \n",
    "### &#x1F440; **See code block output for instructions**"
   ]
  },
  {
   "cell_type": "code",
   "execution_count": null,
   "metadata": {},
   "outputs": [
    {
     "name": "stdout",
     "output_type": "stream",
     "text": [
      "Continue - run the next block of code\n"
     ]
    }
   ],
   "source": [
    "if edit_cell is True:\n",
    "    viewer.layers.clear()\n",
    "    viewer.add_image(raw_img_data)\n",
    "    viewer.add_labels(mask_seg[1])\n",
    "    print(\"Head to the Napari window!\")\n",
    "    print(\"You can edit your segmentation as needed there.\")\n",
    "    print(\"Be sure to save the new segmentation using File > Save in the Napari window. You should save it to the folder you listed as 'location_tosave_edited_segmentations'\")\n",
    "elif edit_cell is False:\n",
    "    print(\"Continue - run the next block of code\")\n",
    "else:\n",
    "    print(\"There is an error somewhere!\")"
   ]
  },
  {
   "cell_type": "code",
   "execution_count": null,
   "metadata": {},
   "outputs": [
    {
     "name": "stdout",
     "output_type": "stream",
     "text": [
      "Continue - run the next block of code\n"
     ]
    }
   ],
   "source": [
    "if edit_nuc is True:\n",
    "    viewer.layers.clear()\n",
    "    viewer.add_image(raw_img_data)\n",
    "    viewer.add_labels(mask_seg[2])\n",
    "    print(\"Head to the Napari window!\")\n",
    "    print(\"You can edit your segmentation as needed there.\")\n",
    "    print(\"Be sure to save the new segmentation using File > Save in the Napari window. You should save it to the folder you listed as 'location_tosave_edited_segmentations'\")\n",
    "elif edit_nuc is False:\n",
    "    print(\"Continue - run the next block of code\")\n",
    "else:\n",
    "    print(\"There is an error somewhere!\")"
   ]
  },
  {
   "cell_type": "code",
   "execution_count": null,
   "metadata": {},
   "outputs": [
    {
     "name": "stdout",
     "output_type": "stream",
     "text": [
      "Continue - run the next block of code\n"
     ]
    }
   ],
   "source": [
    "if edit_LD is True:\n",
    "    viewer.layers.clear()\n",
    "    viewer.add_image(raw_img_data)\n",
    "    viewer.add_labels(LD_seg)\n",
    "    print(\"Head to the Napari window!\")\n",
    "    print(\"You can edit your segmentation as needed there.\")\n",
    "    print(\"Be sure to save the new segmentation using File > Save in the Napari window. You should save it to the folder you listed as 'location_tosave_edited_segmentations'\")\n",
    "elif edit_LD is False:\n",
    "    print(\"Continue - run the next block of code\")\n",
    "else:\n",
    "    print(\"There is an error somewhere!\")"
   ]
  },
  {
   "cell_type": "code",
   "execution_count": null,
   "metadata": {},
   "outputs": [
    {
     "name": "stdout",
     "output_type": "stream",
     "text": [
      "Continue - run the next block of code\n"
     ]
    }
   ],
   "source": [
    "if edit_ER is True:\n",
    "    viewer.layers.clear()\n",
    "    viewer.add_image(raw_img_data)\n",
    "    viewer.add_labels(ER_seg)\n",
    "    print(\"Head to the Napari window!\")\n",
    "    print(\"You can edit your segmentation as needed there.\")\n",
    "    print(\"Be sure to save the new segmentation using File > Save in the Napari window. You should save it to the folder you listed as 'location_tosave_edited_segmentations'\")\n",
    "elif edit_ER is False:\n",
    "    print(\"Continue - run the next block of code\")\n",
    "else:\n",
    "    print(\"There is an error somewhere!\")"
   ]
  },
  {
   "cell_type": "code",
   "execution_count": null,
   "metadata": {},
   "outputs": [
    {
     "name": "stdout",
     "output_type": "stream",
     "text": [
      "Head to the Napari window!\n",
      "You can edit your segmentation as needed there.\n",
      "Be sure to save the new segmentation using File > Save in the Napari window. You should save it to the folder you listed as 'location_tosave_edited_segmentations'\n"
     ]
    },
    {
     "name": "stderr",
     "output_type": "stream",
     "text": [
      "c:\\Users\\Shannon\\anaconda3\\envs\\infer-subc\\lib\\site-packages\\napari\\utils\\_proxies.py:188: FutureWarning: This event will be removed in 0.5.0. Please use viewer.layers.events instead\n",
      "  return self.create(self.__wrapped__(*args, **kwargs))\n"
     ]
    }
   ],
   "source": [
    "if edit_golgi is True:\n",
    "    viewer.layers.clear()\n",
    "    viewer.add_image(raw_img_data)\n",
    "    viewer.add_labels(golgi_seg)\n",
    "    print(\"Head to the Napari window!\")\n",
    "    print(\"You can edit your segmentation as needed there.\")\n",
    "    print(\"Be sure to save the new segmentation using File > Save in the Napari window. You should save it to the folder you listed as 'location_tosave_edited_segmentations'\")\n",
    "elif edit_golgi is False:\n",
    "    print(\"Continue - run the next block of code\")\n",
    "else:\n",
    "    print(\"There is an error somewhere!\")"
   ]
  },
  {
   "cell_type": "code",
   "execution_count": null,
   "metadata": {},
   "outputs": [],
   "source": [
    "if edit_lyso is True:\n",
    "    viewer.layers.clear()\n",
    "    viewer.add_image(raw_img_data)\n",
    "    viewer.add_labels(lyso_seg)\n",
    "    print(\"Head to the Napari window!\")\n",
    "    print(\"You can edit your segmentation as needed there.\")\n",
    "    print(\"Be sure to save the new segmentation using File > Save in the Napari window. You should save it to the folder you listed as 'location_tosave_edited_segmentations'\")\n",
    "elif edit_lyso is False:\n",
    "    print(\"Continue - run the next block of code\")\n",
    "else:\n",
    "    print(\"There is an error somewhere!\")"
   ]
  },
  {
   "cell_type": "code",
   "execution_count": null,
   "metadata": {},
   "outputs": [],
   "source": [
    "if edit_mito is True:\n",
    "    viewer.layers.clear()\n",
    "    viewer.add_image(raw_img_data)\n",
    "    viewer.add_labels(mito_seg)\n",
    "    print(\"Head to the Napari window!\")\n",
    "    print(\"You can edit your segmentation as needed there.\")\n",
    "    print(\"Be sure to save the new segmentation using File > Save in the Napari window. You should save it to the folder you listed as 'location_tosave_edited_segmentations'\")\n",
    "elif edit_mito is False:\n",
    "    print(\"Continue - run the next block of code\")\n",
    "else:\n",
    "    print(\"There is an error somewhere!\")"
   ]
  },
  {
   "cell_type": "code",
   "execution_count": null,
   "metadata": {},
   "outputs": [],
   "source": [
    "if edit_perox is True:\n",
    "    viewer.layers.clear()\n",
    "    viewer.add_image(raw_img_data)\n",
    "    viewer.add_labels(perox_seg)\n",
    "    print(\"Head to the Napari window!\")\n",
    "    print(\"You can edit your segmentation as needed there.\")\n",
    "    print(\"Be sure to save the new segmentation using File > Save in the Napari window. You should save it to the folder you listed as 'location_tosave_edited_segmentations'\")\n",
    "elif edit_perox is False:\n",
    "    print(\"Continue - run the next block of code\")\n",
    "else:\n",
    "    print(\"There is an error somewhere!\")"
   ]
  },
  {
   "cell_type": "markdown",
   "metadata": {},
   "source": [
    "__________________\n",
    "# ***SAVE ALL CORRECT SEGMENTATIONS** - into one folder for quantification*"
   ]
  },
  {
   "cell_type": "markdown",
   "metadata": {},
   "source": [
    "## **`3` - Save organelle and region segmentations into specified folder**"
   ]
  },
  {
   "cell_type": "code",
   "execution_count": null,
   "metadata": {},
   "outputs": [],
   "source": [
    "if edit_cell is True:\n",
    "    cell_seg = import_inferred_organelle(\"cell\", raw_meta_dict, location_tosave_edited_segmentations, seg_file_type)\n",
    "    out_file_n = export_inferred_organelle(cell_seg, \"cell\", raw_meta_dict, Path(location_tosave_fullset_gooddata))\n",
    "elif edit_cell is False:\n",
    "    cell_seg = mask_seg[1]\n",
    "    out_file_n = export_inferred_organelle(cell_seg, \"cell\", raw_meta_dict, Path(location_tosave_fullset_gooddata))\n",
    "else:\n",
    "    print(\"There is an error somewhere!\")"
   ]
  },
  {
   "cell_type": "code",
   "execution_count": null,
   "metadata": {},
   "outputs": [],
   "source": [
    "if edit_nuc is True:\n",
    "    nuc_seg = import_inferred_organelle(\"nuc\", raw_meta_dict, location_tosave_edited_segmentations, seg_file_type)\n",
    "    out_file_n = export_inferred_organelle(cell_seg, \"nuc\", raw_meta_dict, Path(location_tosave_fullset_gooddata))\n",
    "elif edit_cell is False:\n",
    "    nuc_seg = mask_seg[2]\n",
    "    out_file_n = export_inferred_organelle(cell_seg, \"nuc\", raw_meta_dict, Path(location_tosave_fullset_gooddata))\n",
    "else:\n",
    "    print(\"There is an error somewhere!\")"
   ]
  },
  {
   "cell_type": "code",
   "execution_count": null,
   "metadata": {},
   "outputs": [],
   "source": [
    "if edit_LD is True:\n",
    "    LD_seg = import_inferred_organelle(\"LD\", raw_meta_dict, location_tosave_edited_segmentations, seg_file_type)\n",
    "    out_file_n = export_inferred_organelle(LD_seg, \"LD\", raw_meta_dict, Path(location_tosave_fullset_gooddata))\n",
    "elif edit_LD is False:\n",
    "    out_file_n = export_inferred_organelle(LD_seg, \"LD\", raw_meta_dict, Path(location_tosave_fullset_gooddata))\n",
    "else:\n",
    "    print(\"There is an error somewhere!\")"
   ]
  },
  {
   "cell_type": "code",
   "execution_count": null,
   "metadata": {},
   "outputs": [],
   "source": [
    "if edit_ER is True:\n",
    "    ER_seg = import_inferred_organelle(\"ER\", raw_meta_dict, location_tosave_edited_segmentations, seg_file_type)\n",
    "    out_file_n = export_inferred_organelle(ER_seg, \"ER\", raw_meta_dict, Path(location_tosave_fullset_gooddata))\n",
    "elif edit_ER is False:\n",
    "    out_file_n = export_inferred_organelle(ER_seg, \"ER\", raw_meta_dict, Path(location_tosave_fullset_gooddata))\n",
    "else:\n",
    "    print(\"There is an error somewhere!\")"
   ]
  },
  {
   "cell_type": "code",
   "execution_count": null,
   "metadata": {},
   "outputs": [],
   "source": [
    "if edit_golgi is True:\n",
    "    golgi_seg = import_inferred_organelle(\"golgi\", raw_meta_dict, location_tosave_edited_segmentations, seg_file_type)\n",
    "    out_file_n = export_inferred_organelle(golgi_seg, \"golgi\", raw_meta_dict, Path(location_tosave_fullset_gooddata))\n",
    "elif edit_golgi is False:\n",
    "    out_file_n = export_inferred_organelle(golgi_seg, \"golgi\", raw_meta_dict, Path(location_tosave_fullset_gooddata))\n",
    "else:\n",
    "    print(\"There is an error somewhere!\")"
   ]
  },
  {
   "cell_type": "code",
   "execution_count": null,
   "metadata": {},
   "outputs": [],
   "source": [
    "if edit_lyso is True:\n",
    "    lyso_seg = import_inferred_organelle(\"lyso\", raw_meta_dict, location_tosave_edited_segmentations, seg_file_type)\n",
    "    out_file_n = export_inferred_organelle(lyso_seg, \"lyso\", raw_meta_dict, Path(location_tosave_fullset_gooddata))\n",
    "elif edit_lyso is False:\n",
    "    out_file_n = export_inferred_organelle(lyso_seg, \"lyso\", raw_meta_dict, Path(location_tosave_fullset_gooddata))\n",
    "else:\n",
    "    print(\"There is an error somewhere!\")"
   ]
  },
  {
   "cell_type": "code",
   "execution_count": null,
   "metadata": {},
   "outputs": [],
   "source": [
    "if edit_mito is True:\n",
    "    mito_seg = import_inferred_organelle(\"mito\", raw_meta_dict, location_tosave_edited_segmentations, seg_file_type)\n",
    "    out_file_n = export_inferred_organelle(mito_seg, \"mito\", raw_meta_dict, Path(location_tosave_fullset_gooddata))\n",
    "elif edit_mito is False:\n",
    "    out_file_n = export_inferred_organelle(mito_seg, \"mito\", raw_meta_dict, Path(location_tosave_fullset_gooddata))\n",
    "else:\n",
    "    print(\"There is an error somewhere!\")"
   ]
  },
  {
   "cell_type": "code",
   "execution_count": null,
   "metadata": {},
   "outputs": [],
   "source": [
    "if edit_perox is True:\n",
    "    perox_seg = import_inferred_organelle(\"perox\", raw_meta_dict, location_tosave_edited_segmentations, seg_file_type)\n",
    "    out_file_n = export_inferred_organelle(perox_seg, \"perox\", raw_meta_dict, Path(location_tosave_fullset_gooddata))\n",
    "elif edit_perox is False:\n",
    "    out_file_n = export_inferred_organelle(perox_seg, \"perox\", raw_meta_dict, Path(location_tosave_fullset_gooddata))\n",
    "else:\n",
    "    print(\"There is an error somewhere!\")"
   ]
  }
 ],
 "metadata": {
  "language_info": {
   "name": "python"
  }
 },
 "nbformat": 4,
 "nbformat_minor": 2
}
