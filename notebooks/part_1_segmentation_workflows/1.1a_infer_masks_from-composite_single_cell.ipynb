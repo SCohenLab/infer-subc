{
 "cells": [
  {
   "cell_type": "markdown",
   "metadata": {},
   "source": [
    "# **Infer `Cellmask` and `Nucleus`**\n",
    "\n",
    "***Prior to this notebook, you should have already run through [1.0_image_setup](1.0_image_setup.ipynb).***\n",
    "\n",
    "### ➡️ **Input:**\n",
    "In this workflow, a single or multi-channel confocal microscopy image of fluorescently tagged organelles will be used to \"infer\" (or segment) the cell and nucleus masks. The following setup is recommended for this pipeline:\n",
    "\n",
    "| **Imaging Requirements**|[**Masks Workflow (A)**](./1.1a_infer_masks_from-composite_single_cell.ipynb)|\n",
    "| :------------------------------------- |  :------:  |\n",
    "| Nuclei Marker                          |      ✘     |\n",
    "| Cell Membrane Marker                   |      ✘     |\n",
    "| Cytoplasmic Organelles                 |      ✔     |\n",
    "| Number of cells per image              |   Single   |\n",
    "| Applicable with sample data         |  Neuron_1   |\n",
    "\n",
    "*If your images are not compatible with this setup, consider the other 1.1_Masks Workflows available:*\n",
    "\n",
    "| **Imaging Requirements**|[**Masks Workflow**](./1.1_infer_masks_from-composite_with_nuc.ipynb)|[**Masks Workflow (B)**](./1.1b_infer_masks_from-composite_multiple-cells.ipynb)|[**Masks Workflow (C)**](./1.1c_infer_masks_from-composite_neuron_with_pm.ipynb)|\n",
    "| :------------------------------------- |  :------:  |  :------:  |  :------:  |\n",
    "| Nuclei Marker                          |     ✔     |     ✘     |     ✔     |\n",
    "| Cell Membrane Marker                   |     ✘     |     ✘     |     ✔     |\n",
    "| Cytoplasmic Organelles                 |     ✔     |     ✔     |     ✔     |\n",
    "| Number of cells per image              |  Single or Multiple  |  Multiple |  Single or Multiple |\n",
    "| Applicable with sample data         |  ✘  |  Astrocyte | Neuron_2|\n",
    "\n",
    "### **Included in this Notebook:**\n",
    "1. **Infer *cytoplasm*** - Segment the ***cytoplasm*** from a composite image of multiple organelle markers combined. The ***cell*** and ***nucleus*** masks will be derived from this image.\n",
    "    \n",
    "    *The combination of organelle markers used to create the composite image for the cytoplasm segmentation is based on the assumption that the organelle labels used will \"fill up\" the entire cytoplasm (not including the nucleus). This is NOT the most accurate method to determine the cell area, but is required in the case where membrane and nuclei markers can not be used or are not included. It is important to consider the specifics of your system as the cell type and labeling method may differ from the example used to optimize this workflow.*\n",
    "\n",
    "2. **Infer *nucleus*** - Segment the ***nucleus*** from an exclusive or (XOR) of the ***cytoplasm*** mask and a hole-filled version of the ***cytoplasm*** mask.\n",
    "3. **Infer *cellmask***\n",
    "Segment the ***cellmask*** by combining the ***nucleus*** and ***cytoplasm*** masks.\n",
    "-----"
   ]
  },
  {
   "cell_type": "markdown",
   "metadata": {},
   "source": [
    "### 👣 **Summary of steps**  \n",
    "\n",
    "➡️ **EXTRACTION**\n",
    "- **`STEP 1`** - Create composite image\n",
    "\n",
    "    - determine weight to apply to each channel of the intensity image (w# = user input)\n",
    "    - rescale summed image intensities (rescale = user input)\n",
    "\n",
    "**PRE-PROCESSING**\n",
    "- **`STEP 2`** - Rescale and smooth image\n",
    "\n",
    "    - rescale intensity of composite image (min=0, max=1)\n",
    "    - median filter (median size = user input)\n",
    "    - gaussian filter (sigma = user input)\n",
    "    \n",
    "- **`STEP 3`** - Log transform + Scharr edge detection\n",
    "\n",
    "    - perform a log transformation on the image\n",
    "    - apply Scharr edge detection filter\n",
    "    - combine log image and Scharr edge filtered intensity image\n",
    " \n",
    "**CORE PROCESSING**\n",
    "- **`STEP 4`** - Global + local thresholding (AICSSeg – MO) of cytoplasm\n",
    "\n",
    "    - apply MO thresholding method from the Allen Cell [aicssegmentation](https://github.com/AllenCell/aics-segmentation) package (threshold options = user input)\n",
    "\n",
    "**POST-PROCESSING**\n",
    "- **`STEP 5`** - Remove small holes and objects\n",
    "\n",
    "    - fill holes (hole size = user input)\n",
    "    - remove small objects (object size = user input)\n",
    "    - filter method = (method = user input)\n",
    "\n",
    "**POST-POST-PROCESSING**\n",
    "- **`STEP 6`** - Create nucleus mask from cytoplasm mask\n",
    "\n",
    "    - binary dilation\n",
    "    - fill nucleus (hole size = user input)\n",
    "    - binary erosion\n",
    "    - logical **XOR** of the cytoplasm and the filled in cytoplasm resulting in the nucleus and any artifacts from dilation/erosion\n",
    "    - remove small objects (object size = user input)\n",
    "\n",
    "\n",
    "- **`STEP 7`** - Create cellmask from cytoplasm and nucleus mask\n",
    "\n",
    "    - logical **OR** of the nucleus and cytoplasm\n",
    "    - fill small holes (hole size = user input)\n",
    "    - remove small objects (object size = user input)\n",
    "\n",
    "**OUTPUT** ➡️ \n",
    "- **`STEP 8`** - Stack masks\n",
    "\n",
    "    - Stack masks in order of nucleus, cellmask and cytoplasm mask"
   ]
  },
  {
   "cell_type": "markdown",
   "metadata": {},
   "source": [
    "---------------------\n",
    "## **IMPORTS AND LOAD IMAGE**\n",
    "Details about the functions included in this subsection are outlined in the [`1.0_image_setup`](1.0_image_setup.ipynb) notebook. Please visit that notebook first if you are confused about any of the code included here."
   ]
  },
  {
   "cell_type": "markdown",
   "metadata": {},
   "source": [
    "#### &#x1F3C3; **Run code; no user input required**"
   ]
  },
  {
   "cell_type": "code",
   "execution_count": 2,
   "metadata": {},
   "outputs": [],
   "source": [
    "from pathlib import Path\n",
    "import os\n",
    "\n",
    "import numpy as np\n",
    "import pandas as pd\n",
    "import napari\n",
    "from napari.utils.notebook_display import nbscreenshot\n",
    "\n",
    "from skimage.morphology import binary_dilation, binary_erosion\n",
    "\n",
    "from infer_subc.core.file_io import (read_czi_image, \n",
    "                                     export_inferred_organelle,\n",
    "                                     list_image_files,\n",
    "                                     sample_input)\n",
    "from infer_subc.core.img import *\n",
    "from infer_subc.organelles import non_linear_cellmask_transform\n",
    "\n",
    "%load_ext autoreload\n",
    "%autoreload 2"
   ]
  },
  {
   "cell_type": "markdown",
   "metadata": {},
   "source": [
    "#### &#x1F6D1; &#x270D; **User Input Required:**\n",
    "\n",
    "Please specify the following information about your data: `im_type`, `data_root_path`, `in_data_path`, and `out_data_path`."
   ]
  },
  {
   "cell_type": "code",
   "execution_count": 7,
   "metadata": {},
   "outputs": [],
   "source": [
    "### USER INPUT REQUIRED ###\n",
    "# If using the sample data, set cell_type to \"neuron\":\n",
    "# If not using the sample data, set cell_type to None\n",
    "sample_data_type = \"neuron_1\"\n",
    "\n",
    "# If you are not using the sample data, please edit \"USER SPECIFIED\" as necessary.\n",
    "## Define the path to the directory that contains the input image folder.\n",
    "data_root_path = Path(\"USER SPECIFIED\")\n",
    "\n",
    "# Specify the file type of your raw data that will be analyzed. Ex) \".czi\" or \".tiff\"\n",
    "im_type = \"USER SPECIFIED\"\n",
    "\n",
    "## Specify which subfolder that contains the input data and the input data file extension\n",
    "in_data_path = data_root_path / \"USER SPECIFIED\"\n",
    "\n",
    "## Specify the output folder to save the segmentation outputs if.\n",
    "## If its not already created, the code below will creat it for you\n",
    "out_data_path = data_root_path / \"USER SPECIFIED\""
   ]
  },
  {
   "cell_type": "markdown",
   "metadata": {},
   "source": [
    "#### &#x1F3C3; **Run code; no user input required**"
   ]
  },
  {
   "cell_type": "code",
   "execution_count": 8,
   "metadata": {},
   "outputs": [
    {
     "data": {
      "text/html": [
       "<div>\n",
       "<style scoped>\n",
       "    .dataframe tbody tr th:only-of-type {\n",
       "        vertical-align: middle;\n",
       "    }\n",
       "\n",
       "    .dataframe tbody tr th {\n",
       "        vertical-align: top;\n",
       "    }\n",
       "\n",
       "    .dataframe thead th {\n",
       "        text-align: right;\n",
       "    }\n",
       "</style>\n",
       "<table border=\"1\" class=\"dataframe\">\n",
       "  <thead>\n",
       "    <tr style=\"text-align: right;\">\n",
       "      <th></th>\n",
       "      <th>Image Name</th>\n",
       "    </tr>\n",
       "  </thead>\n",
       "  <tbody>\n",
       "    <tr>\n",
       "      <th>0</th>\n",
       "      <td>c:\\Users\\redre\\Documents\\CohenLab\\scohen_lab_repo\\infer-subc\\sample_data\\example_neuron_1\\raw\\20230727_C2-121_conditioned_well 4_cell 3_untreated_Linear unmixing_0_cmle.ome.tiff</td>\n",
       "    </tr>\n",
       "  </tbody>\n",
       "</table>\n",
       "</div>"
      ],
      "text/plain": [
       "                                                                                                                                                                          Image Name\n",
       "0  c:\\Users\\redre\\Documents\\CohenLab\\scohen_lab_repo\\infer-subc\\sample_data\\example_neuron_1\\raw\\20230727_C2-121_conditioned_well 4_cell 3_untreated_Linear unmixing_0_cmle.ome.tiff"
      ]
     },
     "execution_count": 8,
     "metadata": {},
     "output_type": "execute_result"
    }
   ],
   "source": [
    "# If sample_data_type is set \"neuron\", then the sample data is used and the directories are set\n",
    "if sample_data_type != None:\n",
    "    data_root_path, im_type, in_data_path, out_data_path = sample_input(sample_data_type)\n",
    "\n",
    "# list files in the input folder\n",
    "img_file_list = list_image_files(in_data_path,im_type)\n",
    "pd.set_option('display.max_colwidth', None)\n",
    "pd.DataFrame({\"Image Name\":img_file_list})"
   ]
  },
  {
   "cell_type": "markdown",
   "metadata": {},
   "source": [
    "#### &#x1F6D1; &#x270D; **User Input Required:**\n",
    "\n",
    "Use the list above to specify which image you wish to analyze based on its index: `test_img_n`"
   ]
  },
  {
   "cell_type": "code",
   "execution_count": 4,
   "metadata": {},
   "outputs": [],
   "source": [
    "#### USER INPUT REQUIRED ###\n",
    "test_img_n = 0"
   ]
  },
  {
   "cell_type": "markdown",
   "metadata": {},
   "source": [
    "#### &#x1F3C3; **Run code; no user input required**"
   ]
  },
  {
   "cell_type": "code",
   "execution_count": 5,
   "metadata": {},
   "outputs": [
    {
     "name": "stdout",
     "output_type": "stream",
     "text": [
      "Metadata information\n",
      "File path: c:\\Users\\redre\\Documents\\CohenLab\\scohen_lab_repo\\infer-subc\\sample_data\\example_neuron\\raw\\20230727_C2-121_conditioned_well 4_cell 3_untreated_Linear unmixing_0_cmle.ome.tiff\n",
      "Channel 0 name: 20230727_C2-121_conditioned_well 4_cell 3_untreated_Linear unmixing_0_cmle.ome :: Channel:0\n",
      "Channel 1 name: 20230727_C2-121_conditioned_well 4_cell 3_untreated_Linear unmixing_0_cmle.ome :: Channel:1\n",
      "Channel 2 name: 20230727_C2-121_conditioned_well 4_cell 3_untreated_Linear unmixing_0_cmle.ome :: Channel:2\n",
      "Channel 3 name: 20230727_C2-121_conditioned_well 4_cell 3_untreated_Linear unmixing_0_cmle.ome :: Channel:3\n",
      "Channel 4 name: 20230727_C2-121_conditioned_well 4_cell 3_untreated_Linear unmixing_0_cmle.ome :: Channel:4\n",
      "Channel 5 name: 20230727_C2-121_conditioned_well 4_cell 3_untreated_Linear unmixing_0_cmle.ome :: Channel:5\n",
      "Scale (ZYX): (0.410594, 0.079947, 0.079947)\n",
      "Channel axis: 0\n",
      "\n",
      "Proceed to Napari window to view your selected image.\n"
     ]
    }
   ],
   "source": [
    "# load image and metadata\n",
    "test_img_name = img_file_list[test_img_n]\n",
    "img_data,meta_dict = read_czi_image(test_img_name)\n",
    "\n",
    "# metadata\n",
    "channel_names = meta_dict['name']\n",
    "meta = meta_dict['metadata']['aicsimage']\n",
    "scale = meta_dict['scale']\n",
    "channel_axis = meta_dict['channel_axis']\n",
    "file_path = meta_dict['file_name']\n",
    "print(\"Metadata information\")\n",
    "print(f\"File path: {file_path}\")\n",
    "for i in list(range(len(channel_names))):\n",
    "    print(f\"Channel {i} name: {channel_names[i]}\")\n",
    "print(f\"Scale (ZYX): {scale}\")\n",
    "print(f\"Channel axis: {channel_axis}\")\n",
    "\n",
    "# open viewer and add images\n",
    "viewer = napari.Viewer()\n",
    "for i in list(range(len(channel_names))):\n",
    "    viewer.add_image(img_data[i],\n",
    "                     scale=scale,\n",
    "                     name=f\"Channel {i}\")\n",
    "viewer.grid.enabled = True\n",
    "viewer.reset_view()\n",
    "print(\"\\nProceed to Napari window to view your selected image.\")"
   ]
  },
  {
   "cell_type": "markdown",
   "metadata": {},
   "source": [
    "-----\n",
    "\n",
    "## **EXTRACTION**"
   ]
  },
  {
   "cell_type": "markdown",
   "metadata": {},
   "source": [
    "### **`STEP 1` - Create composite image**\n",
    "\n",
    "&#x1F453; **FYI:** This code block creates a composite image of the organelle channels. The intensity of each channel is combined with specified weights. The resulting composite will be used to segment the cytoplasm area. \n",
    "\n",
    "*Hint: combine organelles in a way that produces a relatively even intensity throughout the cell.* \n",
    "\n",
    "#### &#x1F6D1; &#x270D; **User Input Required:**\n",
    "\n",
    "Please specify the following values:\n",
    "- `w0`: the weight of channel 0 (the first channel); a value of 0 will exclude this channel from the compostite; large values will cause this channel to be more prominent in the final composite image\n",
    "- `w1`: the weight of channel 1\n",
    "- `w2`: the weight of channel 2\n",
    "- `w3`: the weight of channel 3\n",
    "- `w4`: the weight of channel 4\n",
    "- `w5`: the weight of channel 5\n",
    "- `w6`: the weight of channel 6\n",
    "- `w7`: the weight of channel 7\n",
    "- `w8`: the weight of channel 8\n",
    "- `w9`: the weight of channel 9\n",
    "- `rescale`: \"True\" rescales the image so that the pixel/voxel with the highest intensity is set to 1 and the one with the lowest intensity is set to 0; \"False\" leaves the combined intensity values as is after the composite is made"
   ]
  },
  {
   "cell_type": "code",
   "execution_count": 6,
   "metadata": {},
   "outputs": [],
   "source": [
    "#### USER INPUT REQUIRED ###\n",
    "w0 = 1\n",
    "w1 = 4\n",
    "w2 = 1\n",
    "w3 = 1\n",
    "w4 = 0\n",
    "w5 = 2\n",
    "w6 = 0\n",
    "w7 = 0\n",
    "w8 = 0\n",
    "w9 = 0\n",
    "cyto_rescale = True"
   ]
  },
  {
   "cell_type": "markdown",
   "metadata": {},
   "source": [
    "#### &#x1F3C3; **Run code; no user input required**\n",
    "\n",
    "&#x1F453; **FYI:** This code block creates the composite and optionally rescales the image based on the settings above. The image is then added to Napari as a new layer for visual comparison to the input image. \n",
    "\n",
    "Use the Napari viewer to iteratively adjust the weights selected above."
   ]
  },
  {
   "cell_type": "code",
   "execution_count": 7,
   "metadata": {},
   "outputs": [
    {
     "data": {
      "text/plain": [
       "<Image layer '1-Cyto: Create composite' at 0x1a942a3e980>"
      ]
     },
     "execution_count": 7,
     "metadata": {},
     "output_type": "execute_result"
    }
   ],
   "source": [
    "# make aggregate and optionally rescale\n",
    "struct_img_raw = make_aggregate(img_data,\n",
    "                                weight_ch0= w0,\n",
    "                                weight_ch1= w1,\n",
    "                                weight_ch2= w2,\n",
    "                                weight_ch3= w3,\n",
    "                                weight_ch4= w4,\n",
    "                                weight_ch5= w5,\n",
    "                                weight_ch6= w6,\n",
    "                                weight_ch7= w7,\n",
    "                                weight_ch8= w8,\n",
    "                                weight_ch9= w9,\n",
    "                                rescale = cyto_rescale)\n",
    "\n",
    "# adding image to Napari as a new layer\n",
    "viewer.layers.clear()\n",
    "viewer.grid.enabled = False\n",
    "viewer.reset_view()\n",
    "viewer.add_image(img_data, scale=scale)\n",
    "viewer.add_image(struct_img_raw, scale=scale, name=\"1-Cyto: Create composite\")"
   ]
  },
  {
   "cell_type": "markdown",
   "metadata": {},
   "source": [
    "-----\n",
    "## **PRE-PROCESSING**"
   ]
  },
  {
   "cell_type": "markdown",
   "metadata": {},
   "source": [
    "### **`STEP 2` - Rescale and smooth image**\n",
    "\n",
    "&#x1F453; **FYI:** This code block rescales the image so that the pixel/voxel with the highest intensity is set to 1 and the one with the lowest intensity is set to 0. The image is then *optionally* smoothed using a Gaussian and/or median filter. \n",
    "\n",
    "<mark> Include more information on the Gaussian and median filtering methods here </mark>\n",
    "\n",
    "#### &#x1F6D1; &#x270D; **User Input Required:**\n",
    "\n",
    "Please specify the amount of filter to use for each method. Higher values indicate more smoothing:\n",
    "- `med_filter_size`: the size of the median filter to apply; if 0 is used, no filter will be applied\n",
    "- `gaussian_smoothing_sigma`: the sigma to apply in the Gaussian filtering step; if 0 is used, no filter will be applied"
   ]
  },
  {
   "cell_type": "code",
   "execution_count": 8,
   "metadata": {},
   "outputs": [],
   "source": [
    "#### USER INPUT REQUIRED ###\n",
    "cyto_med_filter_size = 0\n",
    "cyto_gaussian_smoothing_sigma = 0"
   ]
  },
  {
   "cell_type": "markdown",
   "metadata": {},
   "source": [
    "#### &#x1F3C3; **Run code; no user input required**\n",
    "\n",
    "&#x1F453; **FYI:** This code block rescales the image and applies the specified median and Gaussian filters. The image is then added to Napari as a new layer for visual comparison to the input image. \n",
    "\n",
    "Use the Napari viewer to iteratively adjust the smoothing settings selected above."
   ]
  },
  {
   "cell_type": "code",
   "execution_count": 9,
   "metadata": {},
   "outputs": [
    {
     "data": {
      "text/plain": [
       "<Image layer '2-Cyto: Rescale and Smooth' at 0x1a93de7c9a0>"
      ]
     },
     "execution_count": 9,
     "metadata": {},
     "output_type": "execute_result"
    }
   ],
   "source": [
    "# rescaling and smoothing input image\n",
    "structure_img_smooth = scale_and_smooth(struct_img_raw,\n",
    "                                        median_size = cyto_med_filter_size, \n",
    "                                        gauss_sigma = cyto_gaussian_smoothing_sigma)\n",
    "\n",
    "\n",
    "# adding image to Napari as a new layer\n",
    "viewer.add_image(structure_img_smooth, scale=scale, name=\"2-Cyto: Rescale and Smooth\")"
   ]
  },
  {
   "cell_type": "markdown",
   "metadata": {},
   "source": [
    "### **`STEP 3` - Log transform + Scharr edge detection**\n",
    "\n",
    "#### &#x1F3C3; **Run code; no user input required**\n",
    "\n",
    "&#x1F453; **FYI:** This code block applies a log transform and the [Scharr](https://scikit-image.org/docs/stable/api/skimage.filters.html#skimage.filters.scharr) edge detection filter.\n",
    "\n",
    "Use the Napari viewer to iteratively adjust the filter settings as needed.\n",
    "\n",
    "*Hint: it may be helpful to readjust the composite and smoothing settings to improve the outcome of this step.*"
   ]
  },
  {
   "cell_type": "code",
   "execution_count": 10,
   "metadata": {},
   "outputs": [
    {
     "data": {
      "text/plain": [
       "<Image layer '3-Cyto: Log Scharr edge detectiong' at 0x1a94a714190>"
      ]
     },
     "execution_count": 10,
     "metadata": {},
     "output_type": "execute_result"
    }
   ],
   "source": [
    "# log scale the image, apply the scharr edge detection filter to logged image, add the two images together\n",
    "composite_cytomask = non_linear_cellmask_transform(structure_img_smooth)\n",
    "\n",
    "# adding image to Napari as a new layer\n",
    "viewer.add_image(composite_cytomask, scale=scale, name=\"3-Cyto: Log Scharr edge detectiong\")"
   ]
  },
  {
   "cell_type": "markdown",
   "metadata": {},
   "source": [
    "-----\n",
    "## **CORE-PROCESSING**"
   ]
  },
  {
   "cell_type": "markdown",
   "metadata": {},
   "source": [
    "### **`STEP 4` - Global + local thresholding (AICSSeg – MO)**\n",
    "\n",
    "&#x1F453; **FYI:** This code block creates a semantic segmentation of the cytoplasmic area. `Semantic segmentation` is the process of deciding whether a pixel/voxel should be included in an object (labeled with a value of 1) or should be considered as part of the background (labeled with a value of 0). A semantic segmentation does not discern individual objects from one another.\n",
    "\n",
    "The masked_object_filter utilizes the 'MO' filter from the [`aics-segmentation`](https://github.com/AllenCell/aics-segmentation) package. AICS documentation states: \"The algorithm is a hybrid thresholding method combining two levels of thresholds. The steps are: [1] a global threshold is calculated, [2] extract each individual connected componet after applying the global threshold, [3] remove small objects, [4] within each remaining object, a local Otsu threshold is calculated and applied with an optional local threshold adjustment ratio (to make the segmentation more and less conservative). An extra check can be used in step [4], which requires the local Otsu threshold larger than 1/3 of global Otsu threhsold and otherwise this connected component is discarded.\"\n",
    "\n",
    "#### &#x1F6D1; &#x270D; **User Input Required:**\n",
    "\n",
    "Please specify the following values:\n",
    "- `thresh_method`: the global thresholding method; options include 'tri'/'triangle, 'med'/'median' or 'ave'/'ave_tri_med'. Triangle implements the [skimage.filters.threshold_triangle](https://scikit-image.org/docs/stable/api/skimage.filters.html#skimage.filters.threshold_triangle) method, median utilizes the 50th percentile of the intensities, and ave uses the average of the two methods to calculate the lower bound of the global threshold.\n",
    "- `cell_wise_min_area`: the minimum expected size of your object; smaller objects will be removed prior to local thresholding\n",
    "- `thresh_adj`: adjustment to make to the local threshold; larger values make the segmentation more stringent (less area included)"
   ]
  },
  {
   "cell_type": "code",
   "execution_count": 11,
   "metadata": {},
   "outputs": [],
   "source": [
    "#### USER INPUT REQUIRED ###\n",
    "cyto_thresh_method = 'ave'\n",
    "cyto_cutoff_size =  50\n",
    "cyto_thresh_adj = 0.05"
   ]
  },
  {
   "cell_type": "markdown",
   "metadata": {},
   "source": [
    "#### &#x1F3C3; **Run code; no user input required**\n",
    "\n",
    "&#x1F453; **FYI:** This code block executes the MO filter using the settings above.\n",
    "\n",
    "Use the Napari viewer to iteratively adjust the filter settings as needed."
   ]
  },
  {
   "cell_type": "code",
   "execution_count": 12,
   "metadata": {},
   "outputs": [
    {
     "data": {
      "text/plain": [
       "<Image layer '4-Cyto: MO filter' at 0x1a9475f3790>"
      ]
     },
     "execution_count": 12,
     "metadata": {},
     "output_type": "execute_result"
    }
   ],
   "source": [
    "# threshold the composite image after log/edge detection using the MO filter function from aicssegmentation - this applies a global threshold, then a local threshold to produce a semantic segmentation\n",
    "bw = masked_object_thresh(composite_cytomask, \n",
    "                          global_method=cyto_thresh_method, \n",
    "                          cutoff_size=cyto_cutoff_size, \n",
    "                          local_adjust=cyto_thresh_adj)\n",
    "\n",
    "# adding image to Napari as a new layer\n",
    "viewer.add_image(bw, scale=scale, name=\"4-Cyto: MO filter\", opacity=0.3, colormap=\"cyan\", blending='additive')"
   ]
  },
  {
   "cell_type": "markdown",
   "metadata": {},
   "source": [
    "-----\n",
    "## **POST-PROCESSING**"
   ]
  },
  {
   "cell_type": "markdown",
   "metadata": {},
   "source": [
    "### **`STEP 5` - Remove small holes and objects**\n",
    "\n",
    "&#x1F453; **FYI:** This code block cleans up the semantic segmentation by filling small holes and/or removing small objects that can be considered errors in the initial segmentation. \n",
    "\n",
    "#### &#x1F6D1; &#x270D; **User Input Required:**\n",
    "\n",
    "Please specify the following values:\n",
    "- `hole_min_width`: the width of the smallest hole to be filled\n",
    "- `hole_max_width`: the width of the largest hole to be filled\n",
    "- `small_object_width`: the width of the largest object to be removed; any object smaller than this size will be removed\n",
    "- `fill_filter_method`: \"3D\" processes the image taking into account segmentation values in three dimensions (XYZ); \"slice-by-slice\" processes each Z-slice in the image separately, not considering the segmentation results in higher or lower Z planes."
   ]
  },
  {
   "cell_type": "code",
   "execution_count": 13,
   "metadata": {},
   "outputs": [],
   "source": [
    "#### USER INPUT REQUIRED ###\n",
    "cyto_hole_min_width = 0\n",
    "cyto_hole_max_width = 30\n",
    "\n",
    "cyto_small_object_width = 10\n",
    "\n",
    "cyto_fill_filter_method = \"slice_by_slice\""
   ]
  },
  {
   "cell_type": "markdown",
   "metadata": {},
   "source": [
    "#### &#x1F3C3; **Run code; no user input required**\n",
    "\n",
    "&#x1F453; **FYI:** This code block fills small holes and removes small objects using the settings above.\n",
    "\n",
    "Use the Napari viewer to iteratively adjust the filter settings as needed. "
   ]
  },
  {
   "cell_type": "code",
   "execution_count": 14,
   "metadata": {},
   "outputs": [
    {
     "data": {
      "text/plain": [
       "<Image layer '5-Cyto: Fill holes and remove small objects' at 0x1a948247e80>"
      ]
     },
     "execution_count": 14,
     "metadata": {},
     "output_type": "execute_result"
    }
   ],
   "source": [
    "# fill small holes and remove small objects\n",
    "cleaned_img2 = fill_and_filter_linear_size(bw, \n",
    "                                           hole_min=cyto_hole_min_width, \n",
    "                                           hole_max=cyto_hole_max_width, \n",
    "                                           min_size=cyto_small_object_width,\n",
    "                                           method=cyto_fill_filter_method)\n",
    "\n",
    "# force all sections of the cytoplasm to be labeled as 1 even if they are separated\n",
    "cytoplasm_mask = label_bool_as_uint16(cleaned_img2)\n",
    "\n",
    "# adding image to Napari as a new layer\n",
    "viewer.add_image(cytoplasm_mask, scale=scale, name=\"5-Cyto: Fill holes and remove small objects\", colormap=\"magenta\")"
   ]
  },
  {
   "cell_type": "markdown",
   "metadata": {},
   "source": [
    "-----\n",
    "## **POST-POST-PROCESSING**"
   ]
  },
  {
   "cell_type": "markdown",
   "metadata": {},
   "source": [
    "### **`STEP 6` - Create nucleus mask from cytoplasm mask**\n",
    "\n",
    "&#x1F453; **FYI:** This code block dilates the cytoplasm mask, fills the nucleus hole in the cytoplasm mask to generate the cell mask, and erodes the mask back to its original size.\n",
    "\n",
    "#### &#x1F6D1; &#x270D; **User Input Required:**\n",
    "\n",
    "Please specify the following values:\n",
    "- `hole_min_width`: the width of the smallest hole to be filled\n",
    "- `hole_max_width`: the width of the largest hole to be filled\n",
    "- `fill_filter_method`: \"3D\" processes the image taking into account segmentation values in three dimensions (XYZ); \"slice-by-slice\" processes each Z-slice in the image separately, not considering the segmentation results in higher or lower Z planes.\n",
    "\n",
    "*Note: the fill_and_filter_linear_size function is utilized here, but only the hole feature is initiated.*"
   ]
  },
  {
   "cell_type": "code",
   "execution_count": 15,
   "metadata": {},
   "outputs": [],
   "source": [
    "#### USER INPUT REQUIRED ###\n",
    "nuc_hole_min_width = 0\n",
    "nuc_hole_max_width = 400\n",
    "nuc_fill_filter_method = \"3D\""
   ]
  },
  {
   "cell_type": "markdown",
   "metadata": {},
   "source": [
    "#### &#x1F3C3; **Run code; no user input required**\n",
    "\n",
    "&#x1F453; **FYI:** This code block fills the nucleus hole using the settings above.\n",
    "\n",
    "Use the Napari viewer to iteratively adjust the filter settings as needed. "
   ]
  },
  {
   "cell_type": "code",
   "execution_count": 16,
   "metadata": {},
   "outputs": [
    {
     "data": {
      "text/plain": [
       "<Image layer '6-Cell: Fill nucleus hole' at 0x1a948c3ac50>"
      ]
     },
     "execution_count": 16,
     "metadata": {},
     "output_type": "execute_result"
    }
   ],
   "source": [
    "# dilate mask area\n",
    "cytoplasm_dilated = binary_dilation(cytoplasm_mask)\n",
    "\n",
    "# fill the hole of the nucleus\n",
    "cytoplasm_filled = fill_and_filter_linear_size(cytoplasm_dilated, \n",
    "                                               hole_min=nuc_hole_min_width, \n",
    "                                               hole_max=nuc_hole_max_width, \n",
    "                                               min_size=0, \n",
    "                                               method=nuc_fill_filter_method)\n",
    "\n",
    "# erode the filled object to return the outter edge to approximately how it was\n",
    "cytoplasm_eroded = binary_erosion(cytoplasm_filled)\n",
    "\n",
    "# adding image to Napari as a new layer\n",
    "viewer.add_image(cytoplasm_eroded, scale=scale, name=\"6-Cell: Fill nucleus hole\", blending=\"additive\", opacity=0.3)"
   ]
  },
  {
   "cell_type": "markdown",
   "metadata": {},
   "source": [
    "&#x1F453; **FYI:** This code block extracts the nucleus by applying a \"logical exclusive or\" to the cell mask from the cytoplasm mask. Then, any remaining small objects are removed.\n",
    "\n",
    "#### &#x1F6D1; &#x270D; **User Input Required:**\n",
    "\n",
    "Please specify the following values:\n",
    "- `nuc_small_object_width`: the width of the largest object to be removed; any object smaller than this size will be removed\n",
    "- `nuc_fill_filter_method`: \"3D\" processes the image taking into account segmentation values in three dimensions (XYZ); \"slice-by-slice\" processes each Z-slice in the image separately, not considering the segmentation results in higher or lower Z planes.\n",
    "\n",
    "*Note: the fill_and_filter_linear_size function is utilized here, but only the small object feature is initiated.*\n"
   ]
  },
  {
   "cell_type": "code",
   "execution_count": 17,
   "metadata": {},
   "outputs": [],
   "source": [
    "#### USER INPUT REQUIRED ###\n",
    "nuc_small_object_width = 20\n",
    "nuc_fill_filter_method2 = \"3D\""
   ]
  },
  {
   "cell_type": "markdown",
   "metadata": {},
   "source": [
    "#### &#x1F3C3; **Run code; no user input required**\n",
    "\n",
    "&#x1F453; **FYI:** This code block creates the nucleus mask and removes small objects using the settings above.\n",
    "\n",
    "Use the Napari viewer to iteratively adjust the filter settings as needed. "
   ]
  },
  {
   "cell_type": "code",
   "execution_count": 18,
   "metadata": {},
   "outputs": [
    {
     "data": {
      "text/plain": [
       "<Image layer '6-Nuc: Extract nuc' at 0x1a94b17d3c0>"
      ]
     },
     "execution_count": 18,
     "metadata": {},
     "output_type": "execute_result"
    }
   ],
   "source": [
    "# create nucleus\n",
    "nuclei_xor = np.logical_xor(cytoplasm_mask, cytoplasm_eroded)\n",
    "\n",
    "# remove small objects\n",
    "nuc_cleaned_img = fill_and_filter_linear_size(nuclei_xor, \n",
    "                                              hole_min=0, \n",
    "                                              hole_max=0, \n",
    "                                              min_size=nuc_small_object_width, \n",
    "                                              method=nuc_fill_filter_method2)\n",
    "nuclei_labels = label_bool_as_uint16(nuc_cleaned_img)\n",
    "\n",
    "# adding image to Napari as a new layer\n",
    "viewer.add_image(nuclei_labels, scale=scale, name=\"6-Nuc: Extract nuc\", colormap='blue')"
   ]
  },
  {
   "cell_type": "markdown",
   "metadata": {},
   "source": [
    "### **`STEP 7` - Create cellmask from cytoplasm and nucleus mask**\n",
    "\n",
    "&#x1F453; **FYI:** This code block adds the final nucleus and cytoplasm objects together to create the final cell mask. Then, the fill and filter function is applied to clean up any errors.\n",
    "\n",
    "#### &#x1F6D1; &#x270D; **User Input Required:**\n",
    "\n",
    "Please specify the following values:\n",
    "- `hole_min_width`: the width of the smallest hole to be filled\n",
    "- `hole_max_width`: the width of the largest hole to be filled\n",
    "- `small_object_width`: the width of the largest object to be removed; any object smaller than this size will be removed\n",
    "- `fill_filter_method`: \"3D\" processes the image taking into account segmentation values in three dimensions (XYZ); \"slice-by-slice\" processes each Z-slice in the image separately, not considering the segmentation results in higher or lower Z planes."
   ]
  },
  {
   "cell_type": "code",
   "execution_count": 19,
   "metadata": {},
   "outputs": [],
   "source": [
    "#### USER INPUT REQUIRED ###\n",
    "cell_min_hole_width = 0\n",
    "cell_max_hole_width = 0\n",
    "\n",
    "cell_small_obj_width = 0\n",
    "\n",
    "cell_fill_method = \"3D\""
   ]
  },
  {
   "cell_type": "markdown",
   "metadata": {},
   "source": [
    "#### &#x1F3C3; **Run code; no user input required**\n",
    "&#x1F453; **FYI:** This code block creates the cell mask and cleans it up using the settings specified above."
   ]
  },
  {
   "cell_type": "code",
   "execution_count": null,
   "metadata": {},
   "outputs": [
    {
     "data": {
      "text/plain": [
       "<Image layer '7-Cell: Create cell mask' at 0x1a94908b4f0>"
      ]
     },
     "execution_count": 20,
     "metadata": {},
     "output_type": "execute_result"
    }
   ],
   "source": [
    "# create cell mask\n",
    "cell = np.logical_or(cytoplasm_mask, nuclei_labels)\n",
    "\n",
    "# fill small holes and remove small objects\n",
    "cleaned_img = fill_and_filter_linear_size(cell, \n",
    "                                          hole_min=cell_min_hole_width, \n",
    "                                          hole_max=cell_max_hole_width, \n",
    "                                          min_size=cell_small_obj_width, \n",
    "                                          method=cell_fill_method)\n",
    "cell_mask = label_bool_as_uint16(cleaned_img)\n",
    "\n",
    "# adding image to Napari as a new layer\n",
    "viewer.add_image(cell_mask, scale=scale, name=\"7-Cell: Create cell mask\")\n",
    "\n",
    "# screenshot viewer\n",
    "nbscreenshot(viewer, canvas_only = False)"
   ]
  },
  {
   "cell_type": "markdown",
   "metadata": {},
   "source": [
    "### **`STEP 8` - Stack masks**\n",
    "\n",
    "#### &#x1F3C3; **Run code; no user input required**\n",
    "&#x1F453; **FYI:** This code block stacks the single nucleus, cell, and cytoplasm masks into one multichannel image."
   ]
  },
  {
   "cell_type": "code",
   "execution_count": 21,
   "metadata": {},
   "outputs": [],
   "source": [
    "stack = stack_masks(nuc_mask=nuclei_labels, cellmask=cell_mask, cyto_mask=cytoplasm_mask)"
   ]
  },
  {
   "cell_type": "markdown",
   "metadata": {},
   "source": [
    "-----\n",
    "## **SAVING**"
   ]
  },
  {
   "cell_type": "markdown",
   "metadata": {},
   "source": [
    "## **`Saving` - Save the segmentation output**\n",
    "\n",
    "#### &#x1F3C3; **Run code; no user input required**\n",
    "&#x1F453; **FYI:** This code block saves the instance segmentation output to the `out_data_path` specified earlier."
   ]
  },
  {
   "cell_type": "code",
   "execution_count": 22,
   "metadata": {},
   "outputs": [
    {
     "name": "stdout",
     "output_type": "stream",
     "text": [
      "saved file: 20230727_C2-121_conditioned_well 4_cell 3_untreated_Linear unmixing_0_cmle.ome-masks_A\n"
     ]
    }
   ],
   "source": [
    "out_file_n = export_inferred_organelle(stack, \"masks_A\", meta_dict, out_data_path)"
   ]
  },
  {
   "cell_type": "markdown",
   "metadata": {},
   "source": [
    "-----\n",
    "-----\n",
    "## **Define functions**\n",
    "The following code includes an example of how the workflow steps above are combined into functions. The final combined `infer_masks_A` function can be run below to process a single image. It is included in the [batch process notebook](batch_process_segmentations.ipynb) to run the above analysis on multiple cells. \n",
    "\n",
    "This function can utilized from infer-subc using:\n",
    "```python\n",
    "infer_subc.organelles.masks.infer_masks_A()\n",
    "```"
   ]
  },
  {
   "cell_type": "markdown",
   "metadata": {},
   "source": [
    "#### &#x1F3C3; **Run code; no user input required**\n",
    "&#x1F453; **FYI:** This code block defines the `infer_cytoplasm_fromcomposite()`, function. It is applied below."
   ]
  },
  {
   "cell_type": "code",
   "execution_count": 23,
   "metadata": {},
   "outputs": [],
   "source": [
    "##########################\n",
    "# infer_cytoplasm_fromcomposite\n",
    "# alternative workflow \"a\"\n",
    "##########################\n",
    "def _infer_cytoplasm_fromcomposite(in_img: np.ndarray,\n",
    "                                  weights: list[int],\n",
    "                                  rescale: bool,\n",
    "                                  median_sz: int,\n",
    "                                  gauss_sig: float,\n",
    "                                  mo_method: str,\n",
    "                                  mo_adjust: float,\n",
    "                                  mo_cutoff_size: int,\n",
    "                                  min_hole_w: int,\n",
    "                                  max_hole_w: int,\n",
    "                                  small_obj_w: int,\n",
    "                                  fill_filter_method: str\n",
    "                                  ) -> np.ndarray:\n",
    "    \"\"\"\n",
    "    Procedure to infer cellmask from linear unmixed input.\n",
    "\n",
    "    Parameters\n",
    "    ------------\n",
    "    in_img: \n",
    "        a 3d image containing all the channels\n",
    "    weights:\n",
    "        a list of int that corresond to the weights for each channel in the composite; use 0 if a channel should not be included in the composite image\n",
    "    rescale:\n",
    "        True = rescale composite\n",
    "        False = don't rescale composite\n",
    "    nuclei_labels: \n",
    "        a 3d image containing the inferred nuclei labels\n",
    "    median_sz: \n",
    "        width of median filter for _cellmask_ signal\n",
    "    gauss_sig: \n",
    "        sigma for gaussian smoothing of _cellmask_ signal\n",
    "    mo_method: \n",
    "         which method to use for calculating global threshold. Options include:\n",
    "         \"triangle\" (or \"tri\"), \"median\" (or \"med\"), and \"ave_tri_med\" (or \"ave\").\n",
    "         \"ave\" refers the average of \"triangle\" threshold and \"mean\" threshold.\n",
    "    mo_adjust: \n",
    "        Masked Object threshold `local_adjust`\n",
    "    mo_cutoff_size: \n",
    "        Masked Object threshold `size_min`\n",
    "    max_hole_w: \n",
    "        hole filling cutoff for cellmask signal post-processing\n",
    "    small_obj_w: \n",
    "        minimum object size cutoff for cellmask signal post-processing\n",
    "    fill_filter_method:\n",
    "        determines if fill and filter should be run 'sice-by-slice' or in '3D' \n",
    "\n",
    "    Returns\n",
    "    -------------\n",
    "    cellmask_mask:\n",
    "        a logical/labels object defining boundaries of cellmask\n",
    "\n",
    "    \"\"\"\n",
    "    ###################\n",
    "    # EXTRACT\n",
    "    ###################\n",
    "    struct_img = make_aggregate(in_img, *weights, rescale)\n",
    "\n",
    "    ###################\n",
    "    # PRE_PROCESSING\n",
    "    ###################                         \n",
    "    struct_img = scale_and_smooth(struct_img,\n",
    "                                   median_size = median_sz, \n",
    "                                   gauss_sigma = gauss_sig)\n",
    "    \n",
    "\n",
    "    struct_img_non_lin = non_linear_cellmask_transform(struct_img)\n",
    "\n",
    "    ###################\n",
    "    # CORE_PROCESSING\n",
    "    ###################\n",
    "    struct_obj = masked_object_thresh(struct_img_non_lin, \n",
    "                                      global_method=mo_method, \n",
    "                                      cutoff_size=mo_cutoff_size, \n",
    "                                      local_adjust=mo_adjust)               \n",
    "\n",
    "    ###################\n",
    "    # POST_PROCESSING\n",
    "    ###################\n",
    "    struct_obj = fill_and_filter_linear_size(struct_obj, \n",
    "                                             hole_min=min_hole_w, \n",
    "                                             hole_max=max_hole_w, \n",
    "                                             min_size= small_obj_w,\n",
    "                                             method=fill_filter_method)\n",
    "\n",
    "    ###################\n",
    "    # POST- POST_PROCESSING\n",
    "    ###################\n",
    "    cellmask_out = label_bool_as_uint16(struct_obj)\n",
    "\n",
    "    return cellmask_out"
   ]
  },
  {
   "cell_type": "markdown",
   "metadata": {},
   "source": [
    "#### &#x1F3C3; **Run code; no user input required**\n",
    "\n",
    "&#x1F453; **FYI:** This code block applies the function above to your test image. The settings specified above are applied here."
   ]
  },
  {
   "cell_type": "code",
   "execution_count": 24,
   "metadata": {},
   "outputs": [
    {
     "name": "stdout",
     "output_type": "stream",
     "text": [
      "The segmentation output here matches the output created above: True\n"
     ]
    }
   ],
   "source": [
    "_CY_object = _infer_cytoplasm_fromcomposite(img_data,\n",
    "                                            [w0, w1, w2, w3, w4, w5, w6, w7, w8, w9],\n",
    "                                            cyto_rescale,\n",
    "                                            cyto_med_filter_size,\n",
    "                                            cyto_gaussian_smoothing_sigma,\n",
    "                                            cyto_thresh_method,\n",
    "                                            cyto_thresh_adj,\n",
    "                                            cyto_cutoff_size,\n",
    "                                            cyto_hole_min_width,\n",
    "                                            cyto_hole_max_width,\n",
    "                                            cyto_small_object_width,\n",
    "                                            cyto_fill_filter_method) \n",
    "\n",
    "# confirm this output matches the output saved above\n",
    "print(f\"The segmentation output here matches the output created above: {np.all(cytoplasm_mask == _CY_object)}\")"
   ]
  },
  {
   "cell_type": "code",
   "execution_count": 25,
   "metadata": {},
   "outputs": [
    {
     "name": "stdout",
     "output_type": "stream",
     "text": [
      "The segmentation output here matches the output created above: True\n"
     ]
    }
   ],
   "source": [
    "from infer_subc.organelles.cytoplasm import infer_cytoplasm_fromcomposite\n",
    "CY = infer_cytoplasm_fromcomposite(img_data,\n",
    "                                    [w0, w1, w2, w3, w4, w5, w6, w7, w8, w9],\n",
    "                                    cyto_rescale,\n",
    "                                    cyto_med_filter_size,\n",
    "                                    cyto_gaussian_smoothing_sigma,\n",
    "                                    cyto_thresh_method,\n",
    "                                    cyto_thresh_adj,\n",
    "                                    cyto_cutoff_size,\n",
    "                                    cyto_hole_min_width,\n",
    "                                    cyto_hole_max_width,\n",
    "                                    cyto_small_object_width,\n",
    "                                    cyto_fill_filter_method) \n",
    "\n",
    "# confirm this output matches the output saved above\n",
    "print(f\"The segmentation output here matches the output created above: {np.all(CY == _CY_object)}\")"
   ]
  },
  {
   "cell_type": "markdown",
   "metadata": {},
   "source": [
    "#### &#x1F3C3; **Run code; no user input required**\n",
    "&#x1F453; **FYI:** This code block defines the `infer_nuclei_fromcytoplasm()`, function. It is applied below."
   ]
  },
  {
   "cell_type": "code",
   "execution_count": 26,
   "metadata": {},
   "outputs": [],
   "source": [
    "##########################\n",
    "#  _infer_nuclei_fromcytoplasm\n",
    "##########################\n",
    "def _infer_nuclei_fromcytoplasm(cytoplasm_mask: np.ndarray, \n",
    "                                nuc_min_hole_w: int,\n",
    "                                nuc_max_hole_w: int,\n",
    "                                nuc_fill_method: str,\n",
    "                                small_obj_w: int,\n",
    "                                fill_filter_method: str\n",
    "                                ) -> np.ndarray:\n",
    "    \"\"\"\n",
    "    Procedure to infer nuclei from linear unmixed input.\n",
    "\n",
    "    Parameters\n",
    "    ------------\n",
    "    cytoplasm_mask: np.ndarray\n",
    "        a 3d image of the cytoplasm segmentation\n",
    "    max_hole_w: int\n",
    "        hole filling cutoff to fill the nuclei\n",
    "    small_obj_w: int\n",
    "        object size cutoff to remove artifacts from dilation/erosion steps\n",
    "    fill_filter_method: str\n",
    "        to filter artifacts in \"3D\" or \"slice-by-slice\"\n",
    "\n",
    "    Returns\n",
    "    -------------\n",
    "    nuclei_object\n",
    "        mask defined extent of NU\n",
    "    \n",
    "    \"\"\"\n",
    "\n",
    "    ###################\n",
    "    # PRE_PROCESSING\n",
    "    ###################                \n",
    "    cytoplasm_dilated = binary_dilation(cytoplasm_mask)\n",
    "\n",
    "    cytoplasm_filled = fill_and_filter_linear_size(cytoplasm_dilated, \n",
    "                                                   hole_min=nuc_min_hole_w, \n",
    "                                                   hole_max=nuc_max_hole_w, \n",
    "                                                   min_size=0, \n",
    "                                                   method=nuc_fill_method)\n",
    "\n",
    "    cytoplasm_eroded = binary_erosion(cytoplasm_filled)\n",
    "\n",
    "    ###################\n",
    "    # CORE_PROCESSING\n",
    "    ###################\n",
    "    nuclei_xor = np.logical_xor(cytoplasm_mask, cytoplasm_eroded)\n",
    "\n",
    "    ###################\n",
    "    # POST_PROCESSING\n",
    "    ###################\n",
    "    nuclei_object = fill_and_filter_linear_size(nuclei_xor, \n",
    "                                                hole_min=0, \n",
    "                                                hole_max=0, \n",
    "                                                min_size=small_obj_w,\n",
    "                                                method=fill_filter_method)\n",
    "\n",
    "    nuclei_labels = label_uint16(nuclei_object)\n",
    "\n",
    "    return nuclei_labels"
   ]
  },
  {
   "cell_type": "markdown",
   "metadata": {},
   "source": [
    "#### &#x1F3C3; **Run code; no user input required**\n",
    "\n",
    "&#x1F453; **FYI:** This code block applies the function above to your test image. The settings specified above are applied here."
   ]
  },
  {
   "cell_type": "code",
   "execution_count": 27,
   "metadata": {},
   "outputs": [
    {
     "name": "stdout",
     "output_type": "stream",
     "text": [
      "The segmentation output here matches the output created above: True\n"
     ]
    }
   ],
   "source": [
    "_NU_object = _infer_nuclei_fromcytoplasm(cytoplasm_mask, \n",
    "                                         nuc_hole_min_width,\n",
    "                                         nuc_hole_max_width,\n",
    "                                         nuc_fill_filter_method, \n",
    "                                         nuc_small_object_width,\n",
    "                                         nuc_fill_filter_method2)\n",
    "\n",
    "# confirm this output matches the output saved above\n",
    "print(f\"The segmentation output here matches the output created above: {np.all(nuclei_labels == _NU_object)}\")"
   ]
  },
  {
   "cell_type": "code",
   "execution_count": 28,
   "metadata": {},
   "outputs": [
    {
     "name": "stdout",
     "output_type": "stream",
     "text": [
      "The segmentation output here matches the output created above: True\n"
     ]
    }
   ],
   "source": [
    "from infer_subc.organelles.nuclei import infer_nuclei_fromcytoplasm\n",
    "NU = infer_nuclei_fromcytoplasm(cytoplasm_mask, \n",
    "                                         nuc_hole_min_width,\n",
    "                                         nuc_hole_max_width,\n",
    "                                         nuc_fill_filter_method, \n",
    "                                         nuc_small_object_width,\n",
    "                                         nuc_fill_filter_method2)\n",
    "\n",
    "# confirm this output matches the output saved above\n",
    "print(f\"The segmentation output here matches the output created above: {np.all(NU == _NU_object)}\")"
   ]
  },
  {
   "cell_type": "markdown",
   "metadata": {},
   "source": [
    "#### &#x1F3C3; **Run code; no user input required**\n",
    "&#x1F453; **FYI:** This code block defines the `infer_cellmask_fromcytoplasm()`, function. It is applied below."
   ]
  },
  {
   "cell_type": "code",
   "execution_count": 29,
   "metadata": {},
   "outputs": [],
   "source": [
    "##########################\n",
    "#  infer_cellmask_fromcytoplasm\n",
    "##########################\n",
    "def _infer_cellmask_fromcytoplasm(cytoplasm_mask: np.ndarray,\n",
    "                                  nucleus_mask: np.ndarray,\n",
    "                                  min_hole_width: int,\n",
    "                                  max_hole_width: int,\n",
    "                                  small_obj_width: int,\n",
    "                                  fill_filter_method: str\n",
    "                                  ) -> np.ndarray:\n",
    "    \"\"\"\n",
    "    Procedure to infer 3D nuclei segmentation from multichannel z-stack input.\n",
    "\n",
    "    Parameters\n",
    "    ------------\n",
    "    cytoplasm_mask: np.ndarray\n",
    "        3D image containing the mask of the cytoplasm\n",
    "    nucleus_mask: np.ndarray\n",
    "        3D image containing the mask of the nucleus\n",
    "    min_hole_width: int\n",
    "        minimum size of holes to fill in final cell mask\n",
    "    max_hole_width: int,\n",
    "        maximum size of holes to fill in final cell mask\n",
    "    small_obj_w: int\n",
    "        minimum object size cutoff to remove from final cell mask; likely not required since small objects were removed from cytoplasm mask\n",
    "    fill_method: str\n",
    "        method for fill and filter; either \"3D\" or \"slice_by_slice\"\n",
    "\n",
    "    Returns\n",
    "    -------------\n",
    "    cell_mask\n",
    "        mask defined extent of the entire cell\n",
    "    \n",
    "    \"\"\"\n",
    "\n",
    "    ###################\n",
    "    # CORE_PROCESSING\n",
    "    ###################\n",
    "    cell = np.logical_or(nucleus_mask, cytoplasm_mask)\n",
    "\n",
    "    ###################\n",
    "    # POST_PROCESSING\n",
    "    ###################\n",
    "    cleaned_img = fill_and_filter_linear_size(cell, \n",
    "                                              hole_min=min_hole_width, \n",
    "                                              hole_max=max_hole_width, \n",
    "                                              min_size=small_obj_width, \n",
    "                                              method=fill_filter_method)\n",
    "\n",
    "    ###################\n",
    "    # LABELING\n",
    "    ###################\n",
    "    cell_mask = label_bool_as_uint16(cleaned_img)\n",
    "\n",
    "    return cell_mask"
   ]
  },
  {
   "cell_type": "markdown",
   "metadata": {},
   "source": [
    "#### &#x1F3C3; **Run code; no user input required**\n",
    "\n",
    "&#x1F453; **FYI:** This code block applies the function above to your test image. The settings specified above are applied here."
   ]
  },
  {
   "cell_type": "code",
   "execution_count": 30,
   "metadata": {},
   "outputs": [
    {
     "name": "stdout",
     "output_type": "stream",
     "text": [
      "The segmentation output here matches the output created above: True\n"
     ]
    }
   ],
   "source": [
    "_CM_object = _infer_cellmask_fromcytoplasm(cytoplasm_mask = cytoplasm_mask, \n",
    "                                            nucleus_mask = nuclei_labels,\n",
    "                                            min_hole_width = cell_min_hole_width,\n",
    "                                            max_hole_width = cell_max_hole_width,\n",
    "                                            small_obj_width = cell_small_obj_width,\n",
    "                                            fill_filter_method = cell_fill_method)\n",
    "\n",
    "# confirm this output matches the output saved above\n",
    "print(f\"The segmentation output here matches the output created above: {np.all(cell_mask == _CM_object)}\")"
   ]
  },
  {
   "cell_type": "code",
   "execution_count": 31,
   "metadata": {},
   "outputs": [
    {
     "name": "stdout",
     "output_type": "stream",
     "text": [
      "The segmentation output here matches the output created above: True\n"
     ]
    }
   ],
   "source": [
    "from infer_subc.organelles.cellmask import infer_cellmask_fromcytoplasm\n",
    "CM = infer_cellmask_fromcytoplasm(cytoplasm_mask = cytoplasm_mask, \n",
    "                                nucleus_mask = nuclei_labels,\n",
    "                                min_hole_width = cell_min_hole_width,\n",
    "                                max_hole_width = cell_max_hole_width,\n",
    "                                small_obj_width = cell_small_obj_width,\n",
    "                                fill_filter_method = cell_fill_method)\n",
    "\n",
    "# confirm this output matches the output saved above\n",
    "print(f\"The segmentation output here matches the output created above: {np.all(CM == _CM_object)}\")"
   ]
  },
  {
   "cell_type": "markdown",
   "metadata": {},
   "source": [
    "#### &#x1F3C3; **Run code; no user input required**\n",
    "&#x1F453; **FYI:** This code block defines the `infer_masks_A()`, function, the complete function that combines the three above and that will be used for batch processing. It is applied below."
   ]
  },
  {
   "cell_type": "code",
   "execution_count": 32,
   "metadata": {},
   "outputs": [],
   "source": [
    "def _infer_masks_A(in_img: np.ndarray,\n",
    "                    cyto_weights: list[int],\n",
    "                    cyto_rescale: bool,\n",
    "                    cyto_median_sz: int,\n",
    "                    cyto_gauss_sig: float,\n",
    "                    cyto_mo_method: str,\n",
    "                    cyto_mo_adjust: float,\n",
    "                    cyto_mo_cutoff_size: int,\n",
    "                    cyto_min_hole_w: int,\n",
    "                    cyto_max_hole_w: int,\n",
    "                    cyto_small_obj_w: int,\n",
    "                    cyto_fill_filter_method: str,\n",
    "                    nuc_min_hole_w: int,\n",
    "                    nuc_max_hole_w: int,\n",
    "                    nuc_fill_method: str,\n",
    "                    nuc_small_obj_w: int,\n",
    "                    nuc_fill_filter_method: str,\n",
    "                    cell_min_hole_width: int,\n",
    "                    cell_max_hole_width: int,\n",
    "                    cell_small_obj_width: int,\n",
    "                    cell_fill_filter_method: str\n",
    "                    ) -> np.ndarray:\n",
    "    \"\"\"\n",
    "    Procedure to infer cellmask from linear unmixed input.\n",
    "\n",
    "    Parameters\n",
    "    ------------\n",
    "    in_img: \n",
    "        a 3d image containing all the channels\n",
    "    cyto_weights:\n",
    "        a list of int that corresond to the weights for each channel in the composite; use 0 if a channel should not be included in the composite image\n",
    "    cyto_rescale:\n",
    "        True = rescale composite\n",
    "        False = don't rescale composite\n",
    "    cyto_median_sz: \n",
    "        width of median filter for _cellmask_ signal\n",
    "    cyto_gauss_sig: \n",
    "        sigma for gaussian smoothing of _cellmask_ signal\n",
    "    cyto_mo_method: \n",
    "         which method to use for calculating global threshold. Options include:\n",
    "         \"triangle\" (or \"tri\"), \"median\" (or \"med\"), and \"ave_tri_med\" (or \"ave\").\n",
    "         \"ave\" refers the average of \"triangle\" threshold and \"mean\" threshold.\n",
    "    cyto_mo_adjust: \n",
    "        Masked Object threshold `local_adjust`\n",
    "    cyto_mo_cutoff_size: \n",
    "        Masked Object threshold `size_min`\n",
    "    cyto_max_hole_w: \n",
    "        hole filling cutoff for cellmask signal post-processing\n",
    "    cyto_small_obj_w: \n",
    "        minimum object size cutoff for cellmask signal post-processing\n",
    "    cyto_fill_filter_method:\n",
    "        determines if fill and filter should be run 'sice-by-slice' or in '3D' \n",
    "    nuc_max_hole_w: int\n",
    "        hole filling cutoff to fill the nuclei\n",
    "    nuc_small_obj_w: int\n",
    "        object size cutoff to remove artifacts from dilation/erosion steps\n",
    "    nuc_fill_filter_method: str\n",
    "        to filter artifacts in \"3D\" or \"slice-by-slice\"\n",
    "    cell_min_hole_width: int\n",
    "        minimum size of holes to fill in final cell mask\n",
    "    cell_max_hole_width: int,\n",
    "        maximum size of holes to fill in final cell mask\n",
    "    cell_small_obj_w: int\n",
    "        minimum object size cutoff to remove from final cell mask; likely not required since small objects were removed from cytoplasm mask\n",
    "    cell_fill_method: str\n",
    "        method for fill and filter; either \"3D\" or \"slice_by_slice\"\n",
    "\n",
    "    Returns\n",
    "    -------------\n",
    "    mask_stack:\n",
    "        a logical/labels object defining boundaries of nucleus, cell mask, and cytoplasm\n",
    "\n",
    "    \"\"\"\n",
    "    \n",
    "    cyto_obj = infer_cytoplasm_fromcomposite(in_img,\n",
    "                                            cyto_weights,\n",
    "                                            cyto_rescale,\n",
    "                                            cyto_median_sz,\n",
    "                                            cyto_gauss_sig,\n",
    "                                            cyto_mo_method,\n",
    "                                            cyto_mo_adjust,\n",
    "                                            cyto_mo_cutoff_size,\n",
    "                                            cyto_min_hole_w,\n",
    "                                            cyto_max_hole_w,\n",
    "                                            cyto_small_obj_w,\n",
    "                                            cyto_fill_filter_method) \n",
    "    \n",
    "    nuc_obj = infer_nuclei_fromcytoplasm(cyto_obj, \n",
    "                                         nuc_min_hole_w,\n",
    "                                         nuc_max_hole_w,\n",
    "                                         nuc_fill_method, \n",
    "                                         nuc_small_obj_w,\n",
    "                                         nuc_fill_filter_method)\n",
    "    \n",
    "    cell_obj = infer_cellmask_fromcytoplasm(cytoplasm_mask = cyto_obj, \n",
    "                                            nucleus_mask = nuc_obj,\n",
    "                                            min_hole_width = cell_min_hole_width,\n",
    "                                            max_hole_width = cell_max_hole_width,\n",
    "                                            small_obj_width = cell_small_obj_width,\n",
    "                                            fill_filter_method = cell_fill_filter_method)\n",
    "    \n",
    "    stack = stack_masks(nuc_mask=nuc_obj, cellmask=cell_obj, cyto_mask=cyto_obj)\n",
    "\n",
    "    return stack"
   ]
  },
  {
   "cell_type": "markdown",
   "metadata": {},
   "source": [
    "#### &#x1F3C3; **Run code; no user input required**\n",
    "\n",
    "&#x1F453; **FYI:** This code block applies the function above to your test image. The settings specified above are applied here."
   ]
  },
  {
   "cell_type": "code",
   "execution_count": 33,
   "metadata": {},
   "outputs": [
    {
     "name": "stdout",
     "output_type": "stream",
     "text": [
      "The segmentation output here matches the output created above: True\n"
     ]
    }
   ],
   "source": [
    "_masks_stack =  _infer_masks_A(in_img = img_data,\n",
    "                              cyto_weights = [w0, w1, w2, w3, w4, w5, w6, w7, w8, w9],\n",
    "                              cyto_rescale = cyto_rescale,\n",
    "                              cyto_median_sz = cyto_med_filter_size,\n",
    "                              cyto_gauss_sig = cyto_gaussian_smoothing_sigma,\n",
    "                              cyto_mo_method = cyto_thresh_method,\n",
    "                              cyto_mo_adjust = cyto_thresh_adj,\n",
    "                              cyto_mo_cutoff_size = cyto_cutoff_size,\n",
    "                              cyto_min_hole_w = cyto_hole_min_width,\n",
    "                              cyto_max_hole_w = cyto_hole_max_width,\n",
    "                              cyto_small_obj_w = cyto_small_object_width,\n",
    "                              cyto_fill_filter_method = cyto_fill_filter_method,\n",
    "                              nuc_min_hole_w = nuc_hole_min_width,\n",
    "                              nuc_max_hole_w = nuc_hole_max_width,\n",
    "                              nuc_fill_method = nuc_fill_filter_method,\n",
    "                              nuc_small_obj_w = nuc_small_object_width,\n",
    "                              nuc_fill_filter_method = nuc_fill_filter_method2,\n",
    "                              cell_min_hole_width = cell_min_hole_width,\n",
    "                              cell_max_hole_width = cell_max_hole_width,\n",
    "                              cell_small_obj_width = cell_small_obj_width,\n",
    "                              cell_fill_filter_method = cell_fill_method)\n",
    "\n",
    "# confirm this output matches the output saved above\n",
    "print(f\"The segmentation output here matches the output created above: {np.all(stack == _masks_stack)}\")"
   ]
  },
  {
   "cell_type": "code",
   "execution_count": 34,
   "metadata": {},
   "outputs": [
    {
     "name": "stdout",
     "output_type": "stream",
     "text": [
      "The segmentation output here matches the output created above: True\n"
     ]
    }
   ],
   "source": [
    "from infer_subc.organelles.masks import infer_masks_A\n",
    "MS =  infer_masks_A(in_img = img_data,\n",
    "                              cyto_weights = [w0, w1, w2, w3, w4, w5, w6, w7, w8, w9],\n",
    "                              cyto_rescale = cyto_rescale,\n",
    "                              cyto_median_sz = cyto_med_filter_size,\n",
    "                              cyto_gauss_sig = cyto_gaussian_smoothing_sigma,\n",
    "                              cyto_mo_method = cyto_thresh_method,\n",
    "                              cyto_mo_adjust = cyto_thresh_adj,\n",
    "                              cyto_mo_cutoff_size = cyto_cutoff_size,\n",
    "                              cyto_min_hole_w = cyto_hole_min_width,\n",
    "                              cyto_max_hole_w = cyto_hole_max_width,\n",
    "                              cyto_small_obj_w = cyto_small_object_width,\n",
    "                              cyto_fill_filter_method = cyto_fill_filter_method,\n",
    "                              nuc_min_hole_w = nuc_hole_min_width,\n",
    "                              nuc_max_hole_w = nuc_hole_max_width,\n",
    "                              nuc_fill_method = nuc_fill_filter_method,\n",
    "                              nuc_small_obj_w = nuc_small_object_width,\n",
    "                              nuc_fill_filter_method = nuc_fill_filter_method2,\n",
    "                              cell_min_hole_width = cell_min_hole_width,\n",
    "                              cell_max_hole_width = cell_max_hole_width,\n",
    "                              cell_small_obj_width = cell_small_obj_width,\n",
    "                              cell_fill_filter_method = cell_fill_method)\n",
    "\n",
    "# confirm this output matches the output saved above\n",
    "print(f\"The segmentation output here matches the output created above: {np.all(MS == _masks_stack)}\")"
   ]
  },
  {
   "cell_type": "markdown",
   "metadata": {},
   "source": [
    "-------------\n",
    "### ✅ **INFER MASKS COMPLETE!**\n",
    "\n",
    "Now that a single cell has been identified for analysis, the organelle segmentions need to be completed. Continue on to complete the organelle notebooks (1.2 through 1.7) associated to each of the organelles you would like to include in your analysis:\n",
    "- Infer [`lysosomes`](1.2_infer_lysosome.ipynb)\n",
    "- Infer [`mitochondria`](1.3_infer_mitochondria.ipynb)\n",
    "- Infer [`golgi`](1.4_infer_golgi.ipynb)\n",
    "- Infer [`peroxisomes`](1.5_infer_peroxisome.ipynb)\n",
    "- Infer [`endoplasmic reticulum (ER)`](1.6_infer_ER.ipynb)\n",
    "- Infer [`lipid droplets`](1.7_infer_lipid_droplet.ipynb)"
   ]
  }
 ],
 "metadata": {
  "kernelspec": {
   "display_name": "infer-subc-sc",
   "language": "python",
   "name": "python3"
  },
  "language_info": {
   "codemirror_mode": {
    "name": "ipython",
    "version": 3
   },
   "file_extension": ".py",
   "mimetype": "text/x-python",
   "name": "python",
   "nbconvert_exporter": "python",
   "pygments_lexer": "ipython3",
   "version": "3.10.15"
  }
 },
 "nbformat": 4,
 "nbformat_minor": 2
}
