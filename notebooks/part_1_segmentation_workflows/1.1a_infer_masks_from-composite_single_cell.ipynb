{
 "cells": [
  {
   "cell_type": "markdown",
   "metadata": {},
   "source": [
    "# **Infer `Cellmask` and `Nucleus`**\n",
    "\n",
    "***Prior to this notebook, you should have already run through [1.0_image_setup](1.0_image_setup.ipynb).***\n",
    "\n",
    "### ➡️ **Input:**\n",
    "In this workflow, a single or multi-channel confocal microscopy image of fluorescently tagged organelles will be used to \"infer\" (or segment) the cell and nucleus masks. The following setup is recommended for this pipeline:\n",
    "\n",
    "| **Imaging Requirements**|[**Masks Workflow (A)**](./1.1a_infer_masks_from-composite_single_cell.ipynb)|\n",
    "| :------------------------------------- |  :------:  |\n",
    "| Nuclei Marker                          |      ✘     |\n",
    "| Cell Membrane Marker                   |      ✘     |\n",
    "| Cytoplasmic Organelles                 |      ✔     |\n",
    "| Number of cells per image              |   Single   |\n",
    "| Applicable with sample data         |  Neuron_1   |\n",
    "\n",
    "*If your images are not compatible with this setup, consider the other 1.1_Masks Workflows available:*\n",
    "\n",
    "| **Imaging Requirements**|[**Masks Workflow**](./1.1_infer_masks_from-composite_with_nuc.ipynb)|[**Masks Workflow (B)**](./1.1b_infer_masks_from-composite_multiple-cells.ipynb)|[**Masks Workflow (C)**](./1.1c_infer_masks_from-composite_neuron_with_pm.ipynb)|[**Masks Workflow (D)**](./1.1d_infer_masks_from-composite_ipsc.ipynb)|\n",
    "| :------------------------------------- |  :------:  |  :------:  |  :------:  |  :------:  |\n",
    "| Nuclei Marker                          |     ✔     |     ✘     |     ✔     |     ✔     |\n",
    "| Cell Membrane Marker                   |     ✘     |     ✘     |     ✔     |     ✔     |\n",
    "| Cytoplasmic Organelles                 |     ✔     |     ✔     |     ✔     |     ✔     |\n",
    "| Number of cells per image              |  Single or Multiple  |  Single or Multiple |  Single or Multiple |  Single or Multiple |\n",
    "| Applicable with sample data         |  ✘  |  Astrocyte | Neuron_2| IPSC |\n",
    "\n",
    "### **Included in this Notebook:**\n",
    "1. **Infer *cytoplasm*** - Segment the ***cytoplasm*** from a composite image of multiple organelle markers combined. The ***cell*** and ***nucleus*** masks will be derived from this image.\n",
    "    \n",
    "    *The combination of organelle markers used to create the composite image for the cytoplasm segmentation is based on the assumption that the organelle labels used will \"fill up\" the entire cytoplasm (not including the nucleus). This is NOT the most accurate method to determine the cell area, but is required in the case where membrane and nuclei markers can not be used or are not included. It is important to consider the specifics of your system as the cell type and labeling method may differ from the example used to optimize this workflow.*\n",
    "\n",
    "2. **Infer *nucleus*** - Segment the ***nucleus*** from an exclusive or (XOR) of the ***cytoplasm*** mask and a hole-filled version of the ***cytoplasm*** mask.\n",
    "3. **Infer *cellmask***\n",
    "Segment the ***cellmask*** by combining the ***nucleus*** and ***cytoplasm*** masks.\n",
    "-----"
   ]
  },
  {
   "cell_type": "markdown",
   "metadata": {},
   "source": [
    "### 👣 **Summary of steps**  \n",
    "\n",
    "➡️ **EXTRACTION**\n",
    "- **`STEP 1`** - Create composite image\n",
    "\n",
    "    - determine weight to apply to each channel of the intensity image (w# = user input)\n",
    "    - rescale summed image intensities (rescale = user input)\n",
    "\n",
    "**PRE-PROCESSING**\n",
    "- **`STEP 2`** - Rescale and smooth image\n",
    "\n",
    "    - rescale intensity of composite image (min=0, max=1)\n",
    "    - median filter (median size = user input)\n",
    "    - gaussian filter (sigma = user input)\n",
    "    \n",
    "- **`STEP 3`** - Log transform + Scharr edge detection\n",
    "\n",
    "    - perform a log transformation on the image\n",
    "    - apply Scharr edge detection filter\n",
    "    - combine log image and Scharr edge filtered intensity image\n",
    " \n",
    "**CORE PROCESSING**\n",
    "- **`STEP 4`** - Global + local thresholding (AICSSeg – MO) of cytoplasm\n",
    "\n",
    "    - apply MO thresholding method from the Allen Cell [aicssegmentation](https://github.com/AllenCell/aics-segmentation) package (threshold options = user input)\n",
    "\n",
    "**POST-PROCESSING**\n",
    "- **`STEP 5`** - Remove small holes and objects\n",
    "\n",
    "    - fill holes (hole size = user input)\n",
    "    - remove small objects (object size = user input)\n",
    "    - filter method = (method = user input)\n",
    "\n",
    "**POST-POST-PROCESSING**\n",
    "- **`STEP 6`** - Create nucleus mask from cytoplasm mask\n",
    "\n",
    "    - binary dilation\n",
    "    - fill nucleus (hole size = user input)\n",
    "    - binary erosion\n",
    "    - logical **XOR** of the cytoplasm and the filled in cytoplasm resulting in the nucleus and any artifacts from dilation/erosion\n",
    "    - remove small objects (object size = user input)\n",
    "\n",
    "\n",
    "- **`STEP 7`** - Create cellmask from cytoplasm and nucleus mask\n",
    "\n",
    "    - logical **OR** of the nucleus and cytoplasm\n",
    "    - fill small holes (hole size = user input)\n",
    "    - remove small objects (object size = user input)\n",
    "\n",
    "**OUTPUT** ➡️ \n",
    "- **`STEP 8`** - Stack masks\n",
    "\n",
    "    - Stack masks in order of nucleus, cellmask and cytoplasm mask"
   ]
  },
  {
   "cell_type": "markdown",
   "metadata": {},
   "source": [
    "---------------------\n",
    "## **IMPORTS AND LOAD IMAGE**\n",
    "Details about the functions included in this subsection are outlined in the [`1.0_image_setup`](1.0_image_setup.ipynb) notebook. Please visit that notebook first if you are confused about any of the code included here."
   ]
  },
  {
   "cell_type": "markdown",
   "metadata": {},
   "source": [
    "#### &#x1F3C3; **Run code; no user input required**"
   ]
  },
  {
   "cell_type": "code",
   "execution_count": 1,
   "metadata": {},
   "outputs": [],
   "source": [
    "from pathlib import Path\n",
    "import os\n",
    "\n",
    "import numpy as np\n",
    "import pandas as pd\n",
    "import napari\n",
    "from napari.utils.notebook_display import nbscreenshot\n",
    "\n",
    "from skimage.morphology import binary_dilation, binary_erosion\n",
    "\n",
    "from infer_subc.core.file_io import (read_czi_image, \n",
    "                                     export_inferred_organelle,\n",
    "                                     list_image_files,\n",
    "                                     sample_input)\n",
    "from infer_subc.core.img import *\n",
    "from infer_subc.organelles import non_linear_cellmask_transform\n",
    "\n",
    "%load_ext autoreload\n",
    "%autoreload 2"
   ]
  },
  {
   "cell_type": "markdown",
   "metadata": {},
   "source": [
    "#### &#x1F6D1; &#x270D; **User Input Required:**\n",
    "\n",
    "Please specify the following information about your data: `im_type`, `data_root_path`, `in_data_path`, and `out_data_path`."
   ]
  },
  {
   "cell_type": "code",
   "execution_count": 2,
   "metadata": {},
   "outputs": [],
   "source": [
    "### USER INPUT REQUIRED ###\n",
    "# If using the sample data, set cell_type to \"neuron_1\":\n",
    "# If not using the sample data, set cell_type to None\n",
    "sample_data_type = \"neuron_1\"\n",
    "\n",
    "# If you are not using the sample data, please edit \"USER SPECIFIED\" as necessary.\n",
    "## Define the path to the directory that contains the input image folder.\n",
    "data_root_path = Path(\"USER SPECIFIED\")\n",
    "\n",
    "# Specify the file type of your raw data that will be analyzed. Ex) \".czi\" or \".tiff\"\n",
    "im_type = \"USER SPECIFIED\"\n",
    "\n",
    "## Specify which subfolder that contains the input data and the input data file extension\n",
    "in_data_path = data_root_path / \"USER SPECIFIED\"\n",
    "\n",
    "## Specify the output folder to save the segmentation outputs if.\n",
    "## If its not already created, the code below will creat it for you\n",
    "out_data_path = data_root_path / \"USER SPECIFIED\""
   ]
  },
  {
   "cell_type": "markdown",
   "metadata": {},
   "source": [
    "#### &#x1F3C3; **Run code; no user input required**"
   ]
  },
  {
   "cell_type": "code",
   "execution_count": null,
   "metadata": {},
   "outputs": [],
   "source": [
    "# If sample_data_type is set \"neuron_1\", then the sample data is used and the directories are set\n",
    "if sample_data_type != None:\n",
    "    data_root_path, im_type, in_data_path, out_data_path = sample_input(sample_data_type)\n",
    "\n",
    "# list files in the input folder\n",
    "img_file_list = list_image_files(in_data_path,im_type)\n",
    "pd.set_option('display.max_colwidth', None)\n",
    "pd.DataFrame({\"Image Name\":img_file_list})"
   ]
  },
  {
   "cell_type": "markdown",
   "metadata": {},
   "source": [
    "#### &#x1F6D1; &#x270D; **User Input Required:**\n",
    "\n",
    "Use the list above to specify which image you wish to analyze based on its index: `test_img_n`"
   ]
  },
  {
   "cell_type": "code",
   "execution_count": 4,
   "metadata": {},
   "outputs": [],
   "source": [
    "#### USER INPUT REQUIRED ###\n",
    "test_img_n = 0"
   ]
  },
  {
   "cell_type": "markdown",
   "metadata": {},
   "source": [
    "#### &#x1F3C3; **Run code; no user input required**"
   ]
  },
  {
   "cell_type": "code",
   "execution_count": 5,
   "metadata": {},
   "outputs": [
    {
     "name": "stdout",
     "output_type": "stream",
     "text": [
      "Metadata information\n",
      "File path: c:\\Users\\redre\\Documents\\CohenLab\\scohen_lab_repo\\infer-subc\\sample_data\\example_neuron_1\\raw\\20230727_C2-121_conditioned_well 4_cell 1_untreated_Linear unmixing_0_cmle.ome.tiff\n",
      "Channel 0 name: 20230727_C2-121_conditioned_well 4_cell 1_untreated_Linear unmixing_0_cmle.ome :: Channel:0\n",
      "Channel 1 name: 20230727_C2-121_conditioned_well 4_cell 1_untreated_Linear unmixing_0_cmle.ome :: Channel:1\n",
      "Channel 2 name: 20230727_C2-121_conditioned_well 4_cell 1_untreated_Linear unmixing_0_cmle.ome :: Channel:2\n",
      "Channel 3 name: 20230727_C2-121_conditioned_well 4_cell 1_untreated_Linear unmixing_0_cmle.ome :: Channel:3\n",
      "Channel 4 name: 20230727_C2-121_conditioned_well 4_cell 1_untreated_Linear unmixing_0_cmle.ome :: Channel:4\n",
      "Channel 5 name: 20230727_C2-121_conditioned_well 4_cell 1_untreated_Linear unmixing_0_cmle.ome :: Channel:5\n",
      "Scale (ZYX): (0.410594, 0.079947, 0.079947)\n",
      "Channel axis: 0\n",
      "\n",
      "Proceed to Napari window to view your selected image.\n"
     ]
    }
   ],
   "source": [
    "# load image and metadata\n",
    "test_img_name = img_file_list[test_img_n]\n",
    "img_data,meta_dict = read_czi_image(test_img_name)\n",
    "\n",
    "# metadata\n",
    "channel_names = meta_dict['name']\n",
    "meta = meta_dict['metadata']['aicsimage']\n",
    "scale = meta_dict['scale']\n",
    "channel_axis = meta_dict['channel_axis']\n",
    "file_path = meta_dict['file_name']\n",
    "print(\"Metadata information\")\n",
    "print(f\"File path: {file_path}\")\n",
    "for i in list(range(len(channel_names))):\n",
    "    print(f\"Channel {i} name: {channel_names[i]}\")\n",
    "print(f\"Scale (ZYX): {scale}\")\n",
    "print(f\"Channel axis: {channel_axis}\")\n",
    "\n",
    "# open viewer and add images\n",
    "viewer = napari.Viewer()\n",
    "for i in list(range(len(channel_names))):\n",
    "    viewer.add_image(img_data[i],\n",
    "                     scale=scale,\n",
    "                     name=f\"Channel {i}\")\n",
    "viewer.grid.enabled = True\n",
    "viewer.reset_view()\n",
    "print(\"\\nProceed to Napari window to view your selected image.\")"
   ]
  },
  {
   "cell_type": "markdown",
   "metadata": {},
   "source": [
    "-----\n",
    "\n",
    "## **EXTRACTION**"
   ]
  },
  {
   "cell_type": "markdown",
   "metadata": {},
   "source": [
    "### **`STEP 1` - Create composite image**\n",
    "\n",
    "&#x1F453; **FYI:** This code block creates a composite image of the organelle channels. The intensity of each channel is combined with specified weights. The resulting composite will be used to segment the cytoplasm area. \n",
    "\n",
    "*Hint: combine organelles in a way that produces a relatively even intensity throughout the cell.* \n",
    "\n",
    "#### &#x1F6D1; &#x270D; **User Input Required:**\n",
    "\n",
    "Please specify the following values:\n",
    "- `w0`: the weight of channel 0 (the first channel); a value of 0 will exclude this channel from the compostite; large values will cause this channel to be more prominent in the final composite image\n",
    "- `w1`: the weight of channel 1\n",
    "- `w2`: the weight of channel 2\n",
    "- `w3`: the weight of channel 3\n",
    "- `w4`: the weight of channel 4\n",
    "- `w5`: the weight of channel 5\n",
    "- `w6`: the weight of channel 6\n",
    "- `w7`: the weight of channel 7\n",
    "- `w8`: the weight of channel 8\n",
    "- `w9`: the weight of channel 9\n",
    "- `rescale`: \"True\" rescales the image so that the pixel/voxel with the highest intensity is set to 1 and the one with the lowest intensity is set to 0; \"False\" leaves the combined intensity values as is after the composite is made"
   ]
  },
  {
   "cell_type": "code",
   "execution_count": 6,
   "metadata": {},
   "outputs": [],
   "source": [
    "#### USER INPUT REQUIRED ###\n",
    "w0 = 1\n",
    "w1 = 4\n",
    "w2 = 1\n",
    "w3 = 1\n",
    "w4 = 0\n",
    "w5 = 2\n",
    "w6 = 0\n",
    "w7 = 0\n",
    "w8 = 0\n",
    "w9 = 0\n",
    "cyto_rescale = True"
   ]
  },
  {
   "cell_type": "markdown",
   "metadata": {},
   "source": [
    "#### &#x1F3C3; **Run code; no user input required**\n",
    "\n",
    "&#x1F453; **FYI:** This code block creates the composite and optionally rescales the image based on the settings above. The image is then added to Napari as a new layer for visual comparison to the input image. \n",
    "\n",
    "Use the Napari viewer to iteratively adjust the weights selected above."
   ]
  },
  {
   "cell_type": "code",
   "execution_count": 7,
   "metadata": {},
   "outputs": [
    {
     "data": {
      "text/plain": [
       "<Image layer '1-Cyto: Create composite' at 0x27a37a494b0>"
      ]
     },
     "execution_count": 7,
     "metadata": {},
     "output_type": "execute_result"
    }
   ],
   "source": [
    "# make aggregate and optionally rescale\n",
    "struct_img_raw = make_aggregate(img_data,\n",
    "                                weight_ch0= w0,\n",
    "                                weight_ch1= w1,\n",
    "                                weight_ch2= w2,\n",
    "                                weight_ch3= w3,\n",
    "                                weight_ch4= w4,\n",
    "                                weight_ch5= w5,\n",
    "                                weight_ch6= w6,\n",
    "                                weight_ch7= w7,\n",
    "                                weight_ch8= w8,\n",
    "                                weight_ch9= w9,\n",
    "                                rescale = cyto_rescale)\n",
    "\n",
    "# adding image to Napari as a new layer\n",
    "viewer.layers.clear()\n",
    "viewer.grid.enabled = False\n",
    "viewer.reset_view()\n",
    "viewer.add_image(img_data, scale=scale)\n",
    "viewer.add_image(struct_img_raw, scale=scale, name=\"1-Cyto: Create composite\")"
   ]
  },
  {
   "cell_type": "markdown",
   "metadata": {},
   "source": [
    "-----\n",
    "## **PRE-PROCESSING**"
   ]
  },
  {
   "cell_type": "markdown",
   "metadata": {},
   "source": [
    "### **`STEP 2` - Rescale and smooth image**\n",
    "\n",
    "&#x1F453; **FYI:** This code block rescales the image so that the pixel/voxel with the highest intensity is set to 1 and the one with the lowest intensity is set to 0. The image is then *optionally* smoothed using a Gaussian and/or median filter. \n",
    "\n",
    "<mark> Include more information on the Gaussian and median filtering methods here </mark>\n",
    "\n",
    "#### &#x1F6D1; &#x270D; **User Input Required:**\n",
    "\n",
    "Please specify the amount of filter to use for each method. Higher values indicate more smoothing:\n",
    "- `med_filter_size`: the size of the median filter to apply; if 0 is used, no filter will be applied\n",
    "- `gaussian_smoothing_sigma`: the sigma to apply in the Gaussian filtering step; if 0 is used, no filter will be applied"
   ]
  },
  {
   "cell_type": "code",
   "execution_count": 8,
   "metadata": {},
   "outputs": [],
   "source": [
    "#### USER INPUT REQUIRED ###\n",
    "cyto_med_filter_size = 0\n",
    "cyto_gaussian_smoothing_sigma = 0"
   ]
  },
  {
   "cell_type": "markdown",
   "metadata": {},
   "source": [
    "#### &#x1F3C3; **Run code; no user input required**\n",
    "\n",
    "&#x1F453; **FYI:** This code block rescales the image and applies the specified median and Gaussian filters. The image is then added to Napari as a new layer for visual comparison to the input image. \n",
    "\n",
    "Use the Napari viewer to iteratively adjust the smoothing settings selected above."
   ]
  },
  {
   "cell_type": "code",
   "execution_count": 9,
   "metadata": {},
   "outputs": [
    {
     "data": {
      "text/plain": [
       "<Image layer '2-Cyto: Rescale and Smooth' at 0x27a3b493520>"
      ]
     },
     "execution_count": 9,
     "metadata": {},
     "output_type": "execute_result"
    }
   ],
   "source": [
    "# rescaling and smoothing input image\n",
    "structure_img_smooth = scale_and_smooth(struct_img_raw,\n",
    "                                        median_size = cyto_med_filter_size, \n",
    "                                        gauss_sigma = cyto_gaussian_smoothing_sigma)\n",
    "\n",
    "\n",
    "# adding image to Napari as a new layer\n",
    "viewer.add_image(structure_img_smooth, scale=scale, name=\"2-Cyto: Rescale and Smooth\")"
   ]
  },
  {
   "cell_type": "markdown",
   "metadata": {},
   "source": [
    "### **`STEP 3` - Log transform + Scharr edge detection**\n",
    "\n",
    "#### &#x1F3C3; **Run code; no user input required**\n",
    "\n",
    "&#x1F453; **FYI:** This code block applies a log transform and the [Scharr](https://scikit-image.org/docs/stable/api/skimage.filters.html#skimage.filters.scharr) edge detection filter.\n",
    "\n",
    "Use the Napari viewer to iteratively adjust the filter settings as needed.\n",
    "\n",
    "*Hint: it may be helpful to readjust the composite and smoothing settings to improve the outcome of this step.*"
   ]
  },
  {
   "cell_type": "code",
   "execution_count": 10,
   "metadata": {},
   "outputs": [
    {
     "data": {
      "text/plain": [
       "<Image layer '3-Cyto: Log Scharr edge detectiong' at 0x27a43c927a0>"
      ]
     },
     "execution_count": 10,
     "metadata": {},
     "output_type": "execute_result"
    }
   ],
   "source": [
    "# log scale the image, apply the scharr edge detection filter to logged image, add the two images together\n",
    "composite_cytomask = non_linear_cellmask_transform(structure_img_smooth)\n",
    "\n",
    "# adding image to Napari as a new layer\n",
    "viewer.add_image(composite_cytomask, scale=scale, name=\"3-Cyto: Log Scharr edge detectiong\")"
   ]
  },
  {
   "cell_type": "markdown",
   "metadata": {},
   "source": [
    "-----\n",
    "## **CORE-PROCESSING**"
   ]
  },
  {
   "cell_type": "markdown",
   "metadata": {},
   "source": [
    "### **`STEP 4` - Global + local thresholding (AICSSeg – MO)**\n",
    "\n",
    "&#x1F453; **FYI:** This code block creates a semantic segmentation of the cytoplasmic area. `Semantic segmentation` is the process of deciding whether a pixel/voxel should be included in an object (labeled with a value of 1) or should be considered as part of the background (labeled with a value of 0). A semantic segmentation does not discern individual objects from one another.\n",
    "\n",
    "The masked_object_filter utilizes the 'MO' filter from the [`aics-segmentation`](https://github.com/AllenCell/aics-segmentation) package. AICS documentation states: \"The algorithm is a hybrid thresholding method combining two levels of thresholds. The steps are: [1] a global threshold is calculated, [2] extract each individual connected componet after applying the global threshold, [3] remove small objects, [4] within each remaining object, a local Otsu threshold is calculated and applied with an optional local threshold adjustment ratio (to make the segmentation more and less conservative). An extra check can be used in step [4], which requires the local Otsu threshold larger than 1/3 of global Otsu threhsold and otherwise this connected component is discarded.\"\n",
    "\n",
    "#### &#x1F6D1; &#x270D; **User Input Required:**\n",
    "\n",
    "Please specify the following values:\n",
    "- `thresh_method`: the global thresholding method; options include 'tri'/'triangle, 'med'/'median' or 'ave'/'ave_tri_med'. Triangle implements the [skimage.filters.threshold_triangle](https://scikit-image.org/docs/stable/api/skimage.filters.html#skimage.filters.threshold_triangle) method, median utilizes the 50th percentile of the intensities, and ave uses the average of the two methods to calculate the lower bound of the global threshold.\n",
    "- `cell_wise_min_area`: the minimum expected size of your object; smaller objects will be removed prior to local thresholding\n",
    "- `thresh_adj`: adjustment to make to the local threshold; larger values make the segmentation more stringent (less area included)"
   ]
  },
  {
   "cell_type": "code",
   "execution_count": 11,
   "metadata": {},
   "outputs": [],
   "source": [
    "#### USER INPUT REQUIRED ###\n",
    "cyto_thresh_method = 'ave'\n",
    "cyto_cutoff_size =  50\n",
    "cyto_thresh_adj = 0.05"
   ]
  },
  {
   "cell_type": "markdown",
   "metadata": {},
   "source": [
    "#### &#x1F3C3; **Run code; no user input required**\n",
    "\n",
    "&#x1F453; **FYI:** This code block executes the MO filter using the settings above.\n",
    "\n",
    "Use the Napari viewer to iteratively adjust the filter settings as needed."
   ]
  },
  {
   "cell_type": "code",
   "execution_count": 12,
   "metadata": {},
   "outputs": [
    {
     "data": {
      "text/plain": [
       "<Image layer '4-Cyto: MO filter' at 0x27a41f50ac0>"
      ]
     },
     "execution_count": 12,
     "metadata": {},
     "output_type": "execute_result"
    }
   ],
   "source": [
    "# threshold the composite image after log/edge detection using the MO filter function from aicssegmentation - this applies a global threshold, then a local threshold to produce a semantic segmentation\n",
    "bw = masked_object_thresh(composite_cytomask, \n",
    "                          global_method=cyto_thresh_method, \n",
    "                          cutoff_size=cyto_cutoff_size, \n",
    "                          local_adjust=cyto_thresh_adj)\n",
    "\n",
    "# adding image to Napari as a new layer\n",
    "viewer.add_image(bw, scale=scale, name=\"4-Cyto: MO filter\", opacity=0.3, colormap=\"cyan\", blending='additive')"
   ]
  },
  {
   "cell_type": "markdown",
   "metadata": {},
   "source": [
    "-----\n",
    "## **POST-PROCESSING**"
   ]
  },
  {
   "cell_type": "markdown",
   "metadata": {},
   "source": [
    "### **`STEP 5` - Remove small holes and objects**\n",
    "\n",
    "&#x1F453; **FYI:** This code block cleans up the semantic segmentation by filling small holes and/or removing small objects that can be considered errors in the initial segmentation. \n",
    "\n",
    "#### &#x1F6D1; &#x270D; **User Input Required:**\n",
    "\n",
    "Please specify the following values:\n",
    "- `hole_min_width`: the width of the smallest hole to be filled\n",
    "- `hole_max_width`: the width of the largest hole to be filled\n",
    "- `small_object_width`: the width of the largest object to be removed; any object smaller than this size will be removed\n",
    "- `fill_filter_method`: \"3D\" processes the image taking into account segmentation values in three dimensions (XYZ); \"slice-by-slice\" processes each Z-slice in the image separately, not considering the segmentation results in higher or lower Z planes."
   ]
  },
  {
   "cell_type": "code",
   "execution_count": 13,
   "metadata": {},
   "outputs": [],
   "source": [
    "#### USER INPUT REQUIRED ###\n",
    "cyto_hole_min_width = 0\n",
    "cyto_hole_max_width = 30\n",
    "\n",
    "cyto_small_object_width = 10\n",
    "\n",
    "cyto_fill_filter_method = \"slice_by_slice\""
   ]
  },
  {
   "cell_type": "markdown",
   "metadata": {},
   "source": [
    "#### &#x1F3C3; **Run code; no user input required**\n",
    "\n",
    "&#x1F453; **FYI:** This code block fills small holes and removes small objects using the settings above.\n",
    "\n",
    "Use the Napari viewer to iteratively adjust the filter settings as needed. "
   ]
  },
  {
   "cell_type": "code",
   "execution_count": 14,
   "metadata": {},
   "outputs": [
    {
     "data": {
      "text/plain": [
       "<Image layer '5-Cyto: Fill holes and remove small objects' at 0x27a38767c70>"
      ]
     },
     "execution_count": 14,
     "metadata": {},
     "output_type": "execute_result"
    }
   ],
   "source": [
    "# fill small holes and remove small objects\n",
    "cleaned_img2 = fill_and_filter_linear_size(bw, \n",
    "                                           hole_min=cyto_hole_min_width, \n",
    "                                           hole_max=cyto_hole_max_width, \n",
    "                                           min_size=cyto_small_object_width,\n",
    "                                           method=cyto_fill_filter_method)\n",
    "\n",
    "# force all sections of the cytoplasm to be labeled as 1 even if they are separated\n",
    "cytoplasm_mask = label_bool_as_uint16(cleaned_img2)\n",
    "\n",
    "# adding image to Napari as a new layer\n",
    "viewer.add_image(cytoplasm_mask, scale=scale, name=\"5-Cyto: Fill holes and remove small objects\", colormap=\"magenta\")"
   ]
  },
  {
   "cell_type": "markdown",
   "metadata": {},
   "source": [
    "-----\n",
    "## **POST-POST-PROCESSING**"
   ]
  },
  {
   "cell_type": "markdown",
   "metadata": {},
   "source": [
    "### **`STEP 6` - Create nucleus mask from cytoplasm mask**\n",
    "\n",
    "&#x1F453; **FYI:** This code block dilates the cytoplasm mask, fills the nucleus hole in the cytoplasm mask to generate the cell mask, and erodes the mask back to its original size.\n",
    "\n",
    "#### &#x1F6D1; &#x270D; **User Input Required:**\n",
    "\n",
    "Please specify the following values:\n",
    "- `hole_min_width`: the width of the smallest hole to be filled\n",
    "- `hole_max_width`: the width of the largest hole to be filled\n",
    "- `fill_filter_method`: \"3D\" processes the image taking into account segmentation values in three dimensions (XYZ); \"slice-by-slice\" processes each Z-slice in the image separately, not considering the segmentation results in higher or lower Z planes.\n",
    "\n",
    "*Note: the fill_and_filter_linear_size function is utilized here, but only the hole feature is initiated.*"
   ]
  },
  {
   "cell_type": "code",
   "execution_count": 15,
   "metadata": {},
   "outputs": [],
   "source": [
    "#### USER INPUT REQUIRED ###\n",
    "nuc_hole_min_width = 0\n",
    "nuc_hole_max_width = 400\n",
    "nuc_fill_filter_method = \"3D\""
   ]
  },
  {
   "cell_type": "markdown",
   "metadata": {},
   "source": [
    "#### &#x1F3C3; **Run code; no user input required**\n",
    "\n",
    "&#x1F453; **FYI:** This code block fills the nucleus hole using the settings above.\n",
    "\n",
    "Use the Napari viewer to iteratively adjust the filter settings as needed. "
   ]
  },
  {
   "cell_type": "code",
   "execution_count": 16,
   "metadata": {},
   "outputs": [
    {
     "data": {
      "text/plain": [
       "<Image layer '6-Cell: Fill nucleus hole' at 0x27a42224400>"
      ]
     },
     "execution_count": 16,
     "metadata": {},
     "output_type": "execute_result"
    }
   ],
   "source": [
    "# dilate mask area\n",
    "cytoplasm_dilated = binary_dilation(cytoplasm_mask)\n",
    "\n",
    "# fill the hole of the nucleus\n",
    "cytoplasm_filled = fill_and_filter_linear_size(cytoplasm_dilated, \n",
    "                                               hole_min=nuc_hole_min_width, \n",
    "                                               hole_max=nuc_hole_max_width, \n",
    "                                               min_size=0, \n",
    "                                               method=nuc_fill_filter_method)\n",
    "\n",
    "# erode the filled object to return the outter edge to approximately how it was\n",
    "cytoplasm_eroded = binary_erosion(cytoplasm_filled)\n",
    "\n",
    "# adding image to Napari as a new layer\n",
    "viewer.add_image(cytoplasm_eroded, scale=scale, name=\"6-Cell: Fill nucleus hole\", blending=\"additive\", opacity=0.3)"
   ]
  },
  {
   "cell_type": "markdown",
   "metadata": {},
   "source": [
    "&#x1F453; **FYI:** This code block extracts the nucleus by applying a \"logical exclusive or\" to the cell mask from the cytoplasm mask. Then, any remaining small objects are removed.\n",
    "\n",
    "#### &#x1F6D1; &#x270D; **User Input Required:**\n",
    "\n",
    "Please specify the following values:\n",
    "- `nuc_small_object_width`: the width of the largest object to be removed; any object smaller than this size will be removed\n",
    "- `nuc_fill_filter_method`: \"3D\" processes the image taking into account segmentation values in three dimensions (XYZ); \"slice-by-slice\" processes each Z-slice in the image separately, not considering the segmentation results in higher or lower Z planes.\n",
    "\n",
    "*Note: the fill_and_filter_linear_size function is utilized here, but only the small object feature is initiated.*\n"
   ]
  },
  {
   "cell_type": "code",
   "execution_count": 17,
   "metadata": {},
   "outputs": [],
   "source": [
    "#### USER INPUT REQUIRED ###\n",
    "nuc_small_object_width = 20\n",
    "nuc_fill_filter_method2 = \"3D\""
   ]
  },
  {
   "cell_type": "markdown",
   "metadata": {},
   "source": [
    "#### &#x1F3C3; **Run code; no user input required**\n",
    "\n",
    "&#x1F453; **FYI:** This code block creates the nucleus mask and removes small objects using the settings above.\n",
    "\n",
    "Use the Napari viewer to iteratively adjust the filter settings as needed. "
   ]
  },
  {
   "cell_type": "code",
   "execution_count": 18,
   "metadata": {},
   "outputs": [
    {
     "data": {
      "text/plain": [
       "<Image layer '6-Nuc: Extract nuc' at 0x27a420be9b0>"
      ]
     },
     "execution_count": 18,
     "metadata": {},
     "output_type": "execute_result"
    }
   ],
   "source": [
    "# create nucleus\n",
    "nuclei_xor = np.logical_xor(cytoplasm_mask, cytoplasm_eroded)\n",
    "\n",
    "# remove small objects\n",
    "nuc_cleaned_img = fill_and_filter_linear_size(nuclei_xor, \n",
    "                                              hole_min=0, \n",
    "                                              hole_max=0, \n",
    "                                              min_size=nuc_small_object_width, \n",
    "                                              method=nuc_fill_filter_method2)\n",
    "nuclei_labels = label_bool_as_uint16(nuc_cleaned_img)\n",
    "\n",
    "# adding image to Napari as a new layer\n",
    "viewer.add_image(nuclei_labels, scale=scale, name=\"6-Nuc: Extract nuc\", colormap='blue')"
   ]
  },
  {
   "cell_type": "markdown",
   "metadata": {},
   "source": [
    "### **`STEP 7` - Create cellmask from cytoplasm and nucleus mask**\n",
    "\n",
    "&#x1F453; **FYI:** This code block adds the final nucleus and cytoplasm objects together to create the final cell mask. Then, the fill and filter function is applied to clean up any errors.\n",
    "\n",
    "#### &#x1F6D1; &#x270D; **User Input Required:**\n",
    "\n",
    "Please specify the following values:\n",
    "- `hole_min_width`: the width of the smallest hole to be filled\n",
    "- `hole_max_width`: the width of the largest hole to be filled\n",
    "- `small_object_width`: the width of the largest object to be removed; any object smaller than this size will be removed\n",
    "- `fill_filter_method`: \"3D\" processes the image taking into account segmentation values in three dimensions (XYZ); \"slice-by-slice\" processes each Z-slice in the image separately, not considering the segmentation results in higher or lower Z planes."
   ]
  },
  {
   "cell_type": "code",
   "execution_count": 19,
   "metadata": {},
   "outputs": [],
   "source": [
    "#### USER INPUT REQUIRED ###\n",
    "cell_min_hole_width = 0\n",
    "cell_max_hole_width = 0\n",
    "\n",
    "cell_small_obj_width = 0\n",
    "\n",
    "cell_fill_method = \"3D\""
   ]
  },
  {
   "cell_type": "markdown",
   "metadata": {},
   "source": [
    "#### &#x1F3C3; **Run code; no user input required**\n",
    "&#x1F453; **FYI:** This code block creates the cell mask and cleans it up using the settings specified above."
   ]
  },
  {
   "cell_type": "code",
   "execution_count": 20,
   "metadata": {},
   "outputs": [
    {
     "data": {
      "image/png": "[encoded data removed]",
      "text/html": [
       "<img src=\"data:image/png;base64,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\" alt=\"\"></img>"
      ],
      "text/plain": [
       "<napari.utils.notebook_display.NotebookScreenshot at 0x27a463217e0>"
      ]
     },
     "execution_count": 20,
     "metadata": {},
     "output_type": "execute_result"
    }
   ],
   "source": [
    "# create cell mask\n",
    "cell = np.logical_or(cytoplasm_mask, nuclei_labels)\n",
    "\n",
    "# fill small holes and remove small objects\n",
    "cleaned_img = fill_and_filter_linear_size(cell, \n",
    "                                          hole_min=cell_min_hole_width, \n",
    "                                          hole_max=cell_max_hole_width, \n",
    "                                          min_size=cell_small_obj_width, \n",
    "                                          method=cell_fill_method)\n",
    "cell_mask = label_bool_as_uint16(cleaned_img)\n",
    "\n",
    "# adding image to Napari as a new layer\n",
    "viewer.add_image(cell_mask, scale=scale, name=\"7-Cell: Create cell mask\")\n",
    "\n",
    "# screenshot viewer\n",
    "nbscreenshot(viewer, canvas_only = False)"
   ]
  },
  {
   "cell_type": "markdown",
   "metadata": {},
   "source": [
    "### **`STEP 8` - Stack masks**\n",
    "\n",
    "#### &#x1F3C3; **Run code; no user input required**\n",
    "&#x1F453; **FYI:** This code block stacks the single nucleus, cell, and cytoplasm masks into one multichannel image."
   ]
  },
  {
   "cell_type": "code",
   "execution_count": null,
   "metadata": {},
   "outputs": [],
   "source": [
    "stack = stack_masks(nuc_mask=nuclei_labels, cellmask=cell_mask)\n",
    "print(f\"Stack mask file structure: {np.shape(stack)}\")\n",
    "print(f\"The dimension of '2' represents the 'nucleus' and 'cell' channels, in that order.\")"
   ]
  },
  {
   "cell_type": "markdown",
   "metadata": {},
   "source": [
    "-----\n",
    "## **SAVING**"
   ]
  },
  {
   "cell_type": "markdown",
   "metadata": {},
   "source": [
    "## **`Saving` - Save the segmentation output**\n",
    "\n",
    "#### &#x1F3C3; **Run code; no user input required**\n",
    "&#x1F453; **FYI:** This code block saves the instance segmentation output to the `out_data_path` specified earlier."
   ]
  },
  {
   "cell_type": "code",
   "execution_count": 23,
   "metadata": {},
   "outputs": [
    {
     "name": "stdout",
     "output_type": "stream",
     "text": [
      "saved file: 20230727_C2-121_conditioned_well 4_cell 1_untreated_Linear unmixing_0_cmle.ome-masks_A\n"
     ]
    }
   ],
   "source": [
    "out_file_n = export_inferred_organelle(stack, \"masks_A\", meta_dict, out_data_path)"
   ]
  },
  {
   "cell_type": "markdown",
   "metadata": {},
   "source": [
    "-----\n",
    "-----\n",
    "## **Define functions**\n",
    "The following code includes an example of how the workflow steps above are combined into functions. The final combined `infer_masks_A` function can be run below to process a single image. It is included in the [batch process notebook](batch_process_segmentations.ipynb) to run the above analysis on multiple cells. \n",
    "\n",
    "This function can utilized from infer-subc using:\n",
    "```python\n",
    "infer_subc.organelles.masks.infer_masks_A()\n",
    "```"
   ]
  },
  {
   "cell_type": "markdown",
   "metadata": {},
   "source": [
    "#### &#x1F3C3; **Run code; no user input required**\n",
    "&#x1F453; **FYI:** This code block defines the `infer_cytoplasm_fromcomposite()`, function. It is applied below."
   ]
  },
  {
   "cell_type": "code",
   "execution_count": 24,
   "metadata": {},
   "outputs": [],
   "source": [
    "##########################\n",
    "# infer_cytoplasm_fromcomposite\n",
    "# alternative workflow \"a\"\n",
    "##########################\n",
    "def _infer_cytoplasm_fromcomposite(in_img: np.ndarray,\n",
    "                                  weights: list[int],\n",
    "                                  rescale: bool,\n",
    "                                  median_sz: int,\n",
    "                                  gauss_sig: float,\n",
    "                                  mo_method: str,\n",
    "                                  mo_adjust: float,\n",
    "                                  mo_cutoff_size: int,\n",
    "                                  min_hole_w: int,\n",
    "                                  max_hole_w: int,\n",
    "                                  small_obj_w: int,\n",
    "                                  fill_filter_method: str\n",
    "                                  ) -> np.ndarray:\n",
    "    \"\"\"\n",
    "    Procedure to infer cellmask from linear unmixed input.\n",
    "\n",
    "    Parameters\n",
    "    ------------\n",
    "    in_img: \n",
    "        a 3d image containing all the channels\n",
    "    weights:\n",
    "        a list of int that corresond to the weights for each channel in the composite; use 0 if a channel should not be included in the composite image\n",
    "    rescale:\n",
    "        True = rescale composite\n",
    "        False = don't rescale composite\n",
    "    nuclei_labels: \n",
    "        a 3d image containing the inferred nuclei labels\n",
    "    median_sz: \n",
    "        width of median filter for _cellmask_ signal\n",
    "    gauss_sig: \n",
    "        sigma for gaussian smoothing of _cellmask_ signal\n",
    "    mo_method: \n",
    "         which method to use for calculating global threshold. Options include:\n",
    "         \"triangle\" (or \"tri\"), \"median\" (or \"med\"), and \"ave_tri_med\" (or \"ave\").\n",
    "         \"ave\" refers the average of \"triangle\" threshold and \"mean\" threshold.\n",
    "    mo_adjust: \n",
    "        Masked Object threshold `local_adjust`\n",
    "    mo_cutoff_size: \n",
    "        Masked Object threshold `size_min`\n",
    "    max_hole_w: \n",
    "        hole filling cutoff for cellmask signal post-processing\n",
    "    small_obj_w: \n",
    "        minimum object size cutoff for cellmask signal post-processing\n",
    "    fill_filter_method:\n",
    "        determines if fill and filter should be run 'sice-by-slice' or in '3D' \n",
    "\n",
    "    Returns\n",
    "    -------------\n",
    "    cellmask_mask:\n",
    "        a logical/labels object defining boundaries of cellmask\n",
    "\n",
    "    \"\"\"\n",
    "    ###################\n",
    "    # EXTRACT\n",
    "    ###################\n",
    "    struct_img = make_aggregate(in_img, *weights, rescale)\n",
    "\n",
    "    ###################\n",
    "    # PRE_PROCESSING\n",
    "    ###################                         \n",
    "    struct_img = scale_and_smooth(struct_img,\n",
    "                                   median_size = median_sz, \n",
    "                                   gauss_sigma = gauss_sig)\n",
    "    \n",
    "\n",
    "    struct_img_non_lin = non_linear_cellmask_transform(struct_img)\n",
    "\n",
    "    ###################\n",
    "    # CORE_PROCESSING\n",
    "    ###################\n",
    "    struct_obj = masked_object_thresh(struct_img_non_lin, \n",
    "                                      global_method=mo_method, \n",
    "                                      cutoff_size=mo_cutoff_size, \n",
    "                                      local_adjust=mo_adjust)               \n",
    "\n",
    "    ###################\n",
    "    # POST_PROCESSING\n",
    "    ###################\n",
    "    struct_obj = fill_and_filter_linear_size(struct_obj, \n",
    "                                             hole_min=min_hole_w, \n",
    "                                             hole_max=max_hole_w, \n",
    "                                             min_size= small_obj_w,\n",
    "                                             method=fill_filter_method)\n",
    "\n",
    "    ###################\n",
    "    # POST- POST_PROCESSING\n",
    "    ###################\n",
    "    cellmask_out = label_bool_as_uint16(struct_obj)\n",
    "\n",
    "    return cellmask_out"
   ]
  },
  {
   "cell_type": "markdown",
   "metadata": {},
   "source": [
    "#### &#x1F3C3; **Run code; no user input required**\n",
    "\n",
    "&#x1F453; **FYI:** This code block applies the function above to your test image. The settings specified above are applied here."
   ]
  },
  {
   "cell_type": "code",
   "execution_count": 25,
   "metadata": {},
   "outputs": [
    {
     "name": "stdout",
     "output_type": "stream",
     "text": [
      "The segmentation output here matches the output created above: True\n"
     ]
    }
   ],
   "source": [
    "_CY_object = _infer_cytoplasm_fromcomposite(img_data,\n",
    "                                            [w0, w1, w2, w3, w4, w5, w6, w7, w8, w9],\n",
    "                                            cyto_rescale,\n",
    "                                            cyto_med_filter_size,\n",
    "                                            cyto_gaussian_smoothing_sigma,\n",
    "                                            cyto_thresh_method,\n",
    "                                            cyto_thresh_adj,\n",
    "                                            cyto_cutoff_size,\n",
    "                                            cyto_hole_min_width,\n",
    "                                            cyto_hole_max_width,\n",
    "                                            cyto_small_object_width,\n",
    "                                            cyto_fill_filter_method) \n",
    "\n",
    "# confirm this output matches the output saved above\n",
    "print(f\"The segmentation output here matches the output created above: {np.all(cytoplasm_mask == _CY_object)}\")"
   ]
  },
  {
   "cell_type": "code",
   "execution_count": 26,
   "metadata": {},
   "outputs": [
    {
     "name": "stdout",
     "output_type": "stream",
     "text": [
      "The segmentation output here matches the output created above: True\n"
     ]
    }
   ],
   "source": [
    "from infer_subc.organelles.cytoplasm import infer_cytoplasm_fromcomposite\n",
    "CY = infer_cytoplasm_fromcomposite(img_data,\n",
    "                                    [w0, w1, w2, w3, w4, w5, w6, w7, w8, w9],\n",
    "                                    cyto_rescale,\n",
    "                                    cyto_med_filter_size,\n",
    "                                    cyto_gaussian_smoothing_sigma,\n",
    "                                    cyto_thresh_method,\n",
    "                                    cyto_thresh_adj,\n",
    "                                    cyto_cutoff_size,\n",
    "                                    cyto_hole_min_width,\n",
    "                                    cyto_hole_max_width,\n",
    "                                    cyto_small_object_width,\n",
    "                                    cyto_fill_filter_method) \n",
    "\n",
    "# confirm this output matches the output saved above\n",
    "print(f\"The segmentation output here matches the output created above: {np.all(CY == _CY_object)}\")"
   ]
  },
  {
   "cell_type": "markdown",
   "metadata": {},
   "source": [
    "#### &#x1F3C3; **Run code; no user input required**\n",
    "&#x1F453; **FYI:** This code block defines the `infer_nuclei_fromcytoplasm()`, function. It is applied below."
   ]
  },
  {
   "cell_type": "code",
   "execution_count": 27,
   "metadata": {},
   "outputs": [],
   "source": [
    "##########################\n",
    "#  _infer_nuclei_fromcytoplasm\n",
    "##########################\n",
    "def _infer_nuclei_fromcytoplasm(cytoplasm_mask: np.ndarray, \n",
    "                                nuc_min_hole_w: int,\n",
    "                                nuc_max_hole_w: int,\n",
    "                                nuc_fill_method: str,\n",
    "                                small_obj_w: int,\n",
    "                                fill_filter_method: str\n",
    "                                ) -> np.ndarray:\n",
    "    \"\"\"\n",
    "    Procedure to infer nuclei from linear unmixed input.\n",
    "\n",
    "    Parameters\n",
    "    ------------\n",
    "    cytoplasm_mask: np.ndarray\n",
    "        a 3d image of the cytoplasm segmentation\n",
    "    max_hole_w: int\n",
    "        hole filling cutoff to fill the nuclei\n",
    "    small_obj_w: int\n",
    "        object size cutoff to remove artifacts from dilation/erosion steps\n",
    "    fill_filter_method: str\n",
    "        to filter artifacts in \"3D\" or \"slice-by-slice\"\n",
    "\n",
    "    Returns\n",
    "    -------------\n",
    "    nuclei_object\n",
    "        mask defined extent of NU\n",
    "    \n",
    "    \"\"\"\n",
    "\n",
    "    ###################\n",
    "    # PRE_PROCESSING\n",
    "    ###################                \n",
    "    cytoplasm_dilated = binary_dilation(cytoplasm_mask)\n",
    "\n",
    "    cytoplasm_filled = fill_and_filter_linear_size(cytoplasm_dilated, \n",
    "                                                   hole_min=nuc_min_hole_w, \n",
    "                                                   hole_max=nuc_max_hole_w, \n",
    "                                                   min_size=0, \n",
    "                                                   method=nuc_fill_method)\n",
    "\n",
    "    cytoplasm_eroded = binary_erosion(cytoplasm_filled)\n",
    "\n",
    "    ###################\n",
    "    # CORE_PROCESSING\n",
    "    ###################\n",
    "    nuclei_xor = np.logical_xor(cytoplasm_mask, cytoplasm_eroded)\n",
    "\n",
    "    ###################\n",
    "    # POST_PROCESSING\n",
    "    ###################\n",
    "    nuclei_object = fill_and_filter_linear_size(nuclei_xor, \n",
    "                                                hole_min=0, \n",
    "                                                hole_max=0, \n",
    "                                                min_size=small_obj_w,\n",
    "                                                method=fill_filter_method)\n",
    "\n",
    "    nuclei_labels = label_uint16(nuclei_object)\n",
    "\n",
    "    return nuclei_labels"
   ]
  },
  {
   "cell_type": "markdown",
   "metadata": {},
   "source": [
    "#### &#x1F3C3; **Run code; no user input required**\n",
    "\n",
    "&#x1F453; **FYI:** This code block applies the function above to your test image. The settings specified above are applied here."
   ]
  },
  {
   "cell_type": "code",
   "execution_count": 28,
   "metadata": {},
   "outputs": [
    {
     "name": "stdout",
     "output_type": "stream",
     "text": [
      "The segmentation output here matches the output created above: True\n"
     ]
    }
   ],
   "source": [
    "_NU_object = _infer_nuclei_fromcytoplasm(cytoplasm_mask, \n",
    "                                         nuc_hole_min_width,\n",
    "                                         nuc_hole_max_width,\n",
    "                                         nuc_fill_filter_method, \n",
    "                                         nuc_small_object_width,\n",
    "                                         nuc_fill_filter_method2)\n",
    "\n",
    "# confirm this output matches the output saved above\n",
    "print(f\"The segmentation output here matches the output created above: {np.all(nuclei_labels == _NU_object)}\")"
   ]
  },
  {
   "cell_type": "code",
   "execution_count": 29,
   "metadata": {},
   "outputs": [
    {
     "name": "stdout",
     "output_type": "stream",
     "text": [
      "The segmentation output here matches the output created above: True\n"
     ]
    }
   ],
   "source": [
    "from infer_subc.organelles.nuclei import infer_nuclei_fromcytoplasm\n",
    "NU = infer_nuclei_fromcytoplasm(cytoplasm_mask, \n",
    "                                         nuc_hole_min_width,\n",
    "                                         nuc_hole_max_width,\n",
    "                                         nuc_fill_filter_method, \n",
    "                                         nuc_small_object_width,\n",
    "                                         nuc_fill_filter_method2)\n",
    "\n",
    "# confirm this output matches the output saved above\n",
    "print(f\"The segmentation output here matches the output created above: {np.all(NU == _NU_object)}\")"
   ]
  },
  {
   "cell_type": "markdown",
   "metadata": {},
   "source": [
    "#### &#x1F3C3; **Run code; no user input required**\n",
    "&#x1F453; **FYI:** This code block defines the `infer_cellmask_fromcytoplasm()`, function. It is applied below."
   ]
  },
  {
   "cell_type": "code",
   "execution_count": 30,
   "metadata": {},
   "outputs": [],
   "source": [
    "##########################\n",
    "#  infer_cellmask_fromcytoplasm\n",
    "##########################\n",
    "def _infer_cellmask_fromcytoplasm(cytoplasm_mask: np.ndarray,\n",
    "                                  nucleus_mask: np.ndarray,\n",
    "                                  min_hole_width: int,\n",
    "                                  max_hole_width: int,\n",
    "                                  small_obj_width: int,\n",
    "                                  fill_filter_method: str\n",
    "                                  ) -> np.ndarray:\n",
    "    \"\"\"\n",
    "    Procedure to infer 3D nuclei segmentation from multichannel z-stack input.\n",
    "\n",
    "    Parameters\n",
    "    ------------\n",
    "    cytoplasm_mask: np.ndarray\n",
    "        3D image containing the mask of the cytoplasm\n",
    "    nucleus_mask: np.ndarray\n",
    "        3D image containing the mask of the nucleus\n",
    "    min_hole_width: int\n",
    "        minimum size of holes to fill in final cell mask\n",
    "    max_hole_width: int,\n",
    "        maximum size of holes to fill in final cell mask\n",
    "    small_obj_w: int\n",
    "        minimum object size cutoff to remove from final cell mask; likely not required since small objects were removed from cytoplasm mask\n",
    "    fill_method: str\n",
    "        method for fill and filter; either \"3D\" or \"slice_by_slice\"\n",
    "\n",
    "    Returns\n",
    "    -------------\n",
    "    cell_mask\n",
    "        mask defined extent of the entire cell\n",
    "    \n",
    "    \"\"\"\n",
    "\n",
    "    ###################\n",
    "    # CORE_PROCESSING\n",
    "    ###################\n",
    "    cell = np.logical_or(nucleus_mask, cytoplasm_mask)\n",
    "\n",
    "    ###################\n",
    "    # POST_PROCESSING\n",
    "    ###################\n",
    "    cleaned_img = fill_and_filter_linear_size(cell, \n",
    "                                              hole_min=min_hole_width, \n",
    "                                              hole_max=max_hole_width, \n",
    "                                              min_size=small_obj_width, \n",
    "                                              method=fill_filter_method)\n",
    "\n",
    "    ###################\n",
    "    # LABELING\n",
    "    ###################\n",
    "    cell_mask = label_bool_as_uint16(cleaned_img)\n",
    "\n",
    "    return cell_mask"
   ]
  },
  {
   "cell_type": "markdown",
   "metadata": {},
   "source": [
    "#### &#x1F3C3; **Run code; no user input required**\n",
    "\n",
    "&#x1F453; **FYI:** This code block applies the function above to your test image. The settings specified above are applied here."
   ]
  },
  {
   "cell_type": "code",
   "execution_count": 31,
   "metadata": {},
   "outputs": [
    {
     "name": "stdout",
     "output_type": "stream",
     "text": [
      "The segmentation output here matches the output created above: True\n"
     ]
    }
   ],
   "source": [
    "_CM_object = _infer_cellmask_fromcytoplasm(cytoplasm_mask = cytoplasm_mask, \n",
    "                                            nucleus_mask = nuclei_labels,\n",
    "                                            min_hole_width = cell_min_hole_width,\n",
    "                                            max_hole_width = cell_max_hole_width,\n",
    "                                            small_obj_width = cell_small_obj_width,\n",
    "                                            fill_filter_method = cell_fill_method)\n",
    "\n",
    "# confirm this output matches the output saved above\n",
    "print(f\"The segmentation output here matches the output created above: {np.all(cell_mask == _CM_object)}\")"
   ]
  },
  {
   "cell_type": "code",
   "execution_count": 32,
   "metadata": {},
   "outputs": [
    {
     "name": "stdout",
     "output_type": "stream",
     "text": [
      "The segmentation output here matches the output created above: True\n"
     ]
    }
   ],
   "source": [
    "from infer_subc.organelles.cellmask import infer_cellmask_fromcytoplasm\n",
    "CM = infer_cellmask_fromcytoplasm(cytoplasm_mask = cytoplasm_mask, \n",
    "                                nucleus_mask = nuclei_labels,\n",
    "                                min_hole_width = cell_min_hole_width,\n",
    "                                max_hole_width = cell_max_hole_width,\n",
    "                                small_obj_width = cell_small_obj_width,\n",
    "                                fill_filter_method = cell_fill_method)\n",
    "\n",
    "# confirm this output matches the output saved above\n",
    "print(f\"The segmentation output here matches the output created above: {np.all(CM == _CM_object)}\")"
   ]
  },
  {
   "cell_type": "markdown",
   "metadata": {},
   "source": [
    "#### &#x1F3C3; **Run code; no user input required**\n",
    "&#x1F453; **FYI:** This code block defines the `infer_masks_A()`, function, the complete function that combines the three above and that will be used for batch processing. It is applied below."
   ]
  },
  {
   "cell_type": "code",
   "execution_count": 33,
   "metadata": {},
   "outputs": [],
   "source": [
    "def _infer_masks_A(in_img: np.ndarray,\n",
    "                    cyto_weights: list[int],\n",
    "                    cyto_rescale: bool,\n",
    "                    cyto_median_sz: int,\n",
    "                    cyto_gauss_sig: float,\n",
    "                    cyto_mo_method: str,\n",
    "                    cyto_mo_adjust: float,\n",
    "                    cyto_mo_cutoff_size: int,\n",
    "                    cyto_min_hole_w: int,\n",
    "                    cyto_max_hole_w: int,\n",
    "                    cyto_small_obj_w: int,\n",
    "                    cyto_fill_filter_method: str,\n",
    "                    nuc_min_hole_w: int,\n",
    "                    nuc_max_hole_w: int,\n",
    "                    nuc_fill_method: str,\n",
    "                    nuc_small_obj_w: int,\n",
    "                    nuc_fill_filter_method: str,\n",
    "                    cell_min_hole_width: int,\n",
    "                    cell_max_hole_width: int,\n",
    "                    cell_small_obj_width: int,\n",
    "                    cell_fill_filter_method: str\n",
    "                    ) -> np.ndarray:\n",
    "    \"\"\"\n",
    "    Procedure to infer cellmask from linear unmixed input.\n",
    "\n",
    "    Parameters\n",
    "    ------------\n",
    "    in_img: \n",
    "        a 3d image containing all the channels\n",
    "    cyto_weights:\n",
    "        a list of int that corresond to the weights for each channel in the composite; use 0 if a channel should not be included in the composite image\n",
    "    cyto_rescale:\n",
    "        True = rescale composite\n",
    "        False = don't rescale composite\n",
    "    cyto_median_sz: \n",
    "        width of median filter for _cellmask_ signal\n",
    "    cyto_gauss_sig: \n",
    "        sigma for gaussian smoothing of _cellmask_ signal\n",
    "    cyto_mo_method: \n",
    "         which method to use for calculating global threshold. Options include:\n",
    "         \"triangle\" (or \"tri\"), \"median\" (or \"med\"), and \"ave_tri_med\" (or \"ave\").\n",
    "         \"ave\" refers the average of \"triangle\" threshold and \"mean\" threshold.\n",
    "    cyto_mo_adjust: \n",
    "        Masked Object threshold `local_adjust`\n",
    "    cyto_mo_cutoff_size: \n",
    "        Masked Object threshold `size_min`\n",
    "    cyto_max_hole_w: \n",
    "        hole filling cutoff for cellmask signal post-processing\n",
    "    cyto_small_obj_w: \n",
    "        minimum object size cutoff for cellmask signal post-processing\n",
    "    cyto_fill_filter_method:\n",
    "        determines if fill and filter should be run 'sice-by-slice' or in '3D' \n",
    "    nuc_max_hole_w: int\n",
    "        hole filling cutoff to fill the nuclei\n",
    "    nuc_small_obj_w: int\n",
    "        object size cutoff to remove artifacts from dilation/erosion steps\n",
    "    nuc_fill_filter_method: str\n",
    "        to filter artifacts in \"3D\" or \"slice-by-slice\"\n",
    "    cell_min_hole_width: int\n",
    "        minimum size of holes to fill in final cell mask\n",
    "    cell_max_hole_width: int,\n",
    "        maximum size of holes to fill in final cell mask\n",
    "    cell_small_obj_w: int\n",
    "        minimum object size cutoff to remove from final cell mask; likely not required since small objects were removed from cytoplasm mask\n",
    "    cell_fill_method: str\n",
    "        method for fill and filter; either \"3D\" or \"slice_by_slice\"\n",
    "\n",
    "    Returns\n",
    "    -------------\n",
    "    mask_stack:\n",
    "        a logical/labels object defining boundaries of nucleus and cellmask\n",
    "\n",
    "    \"\"\"\n",
    "    \n",
    "    cyto_obj = infer_cytoplasm_fromcomposite(in_img,\n",
    "                                            cyto_weights,\n",
    "                                            cyto_rescale,\n",
    "                                            cyto_median_sz,\n",
    "                                            cyto_gauss_sig,\n",
    "                                            cyto_mo_method,\n",
    "                                            cyto_mo_adjust,\n",
    "                                            cyto_mo_cutoff_size,\n",
    "                                            cyto_min_hole_w,\n",
    "                                            cyto_max_hole_w,\n",
    "                                            cyto_small_obj_w,\n",
    "                                            cyto_fill_filter_method) \n",
    "    \n",
    "    nuc_obj = infer_nuclei_fromcytoplasm(cyto_obj, \n",
    "                                         nuc_min_hole_w,\n",
    "                                         nuc_max_hole_w,\n",
    "                                         nuc_fill_method, \n",
    "                                         nuc_small_obj_w,\n",
    "                                         nuc_fill_filter_method)\n",
    "    \n",
    "    cell_obj = infer_cellmask_fromcytoplasm(cytoplasm_mask = cyto_obj, \n",
    "                                            nucleus_mask = nuc_obj,\n",
    "                                            min_hole_width = cell_min_hole_width,\n",
    "                                            max_hole_width = cell_max_hole_width,\n",
    "                                            small_obj_width = cell_small_obj_width,\n",
    "                                            fill_filter_method = cell_fill_filter_method)\n",
    "    \n",
    "    stack = stack_masks(nuc_mask=nuc_obj, cellmask=cell_obj)\n",
    "\n",
    "    return stack"
   ]
  },
  {
   "cell_type": "markdown",
   "metadata": {},
   "source": [
    "#### &#x1F3C3; **Run code; no user input required**\n",
    "\n",
    "&#x1F453; **FYI:** This code block applies the function above to your test image. The settings specified above are applied here."
   ]
  },
  {
   "cell_type": "code",
   "execution_count": 34,
   "metadata": {},
   "outputs": [
    {
     "name": "stdout",
     "output_type": "stream",
     "text": [
      "The segmentation output here matches the output created above: True\n"
     ]
    }
   ],
   "source": [
    "_masks_stack =  _infer_masks_A(in_img = img_data,\n",
    "                              cyto_weights = [w0, w1, w2, w3, w4, w5, w6, w7, w8, w9],\n",
    "                              cyto_rescale = cyto_rescale,\n",
    "                              cyto_median_sz = cyto_med_filter_size,\n",
    "                              cyto_gauss_sig = cyto_gaussian_smoothing_sigma,\n",
    "                              cyto_mo_method = cyto_thresh_method,\n",
    "                              cyto_mo_adjust = cyto_thresh_adj,\n",
    "                              cyto_mo_cutoff_size = cyto_cutoff_size,\n",
    "                              cyto_min_hole_w = cyto_hole_min_width,\n",
    "                              cyto_max_hole_w = cyto_hole_max_width,\n",
    "                              cyto_small_obj_w = cyto_small_object_width,\n",
    "                              cyto_fill_filter_method = cyto_fill_filter_method,\n",
    "                              nuc_min_hole_w = nuc_hole_min_width,\n",
    "                              nuc_max_hole_w = nuc_hole_max_width,\n",
    "                              nuc_fill_method = nuc_fill_filter_method,\n",
    "                              nuc_small_obj_w = nuc_small_object_width,\n",
    "                              nuc_fill_filter_method = nuc_fill_filter_method2,\n",
    "                              cell_min_hole_width = cell_min_hole_width,\n",
    "                              cell_max_hole_width = cell_max_hole_width,\n",
    "                              cell_small_obj_width = cell_small_obj_width,\n",
    "                              cell_fill_filter_method = cell_fill_method)\n",
    "\n",
    "# confirm this output matches the output saved above\n",
    "print(f\"The segmentation output here matches the output created above: {np.all(stack == _masks_stack)}\")"
   ]
  },
  {
   "cell_type": "code",
   "execution_count": 35,
   "metadata": {},
   "outputs": [
    {
     "name": "stdout",
     "output_type": "stream",
     "text": [
      "The segmentation output here matches the output created above: True\n"
     ]
    }
   ],
   "source": [
    "from infer_subc.organelles.masks import infer_masks_A\n",
    "MS =  infer_masks_A(in_img = img_data,\n",
    "                              cyto_weights = [w0, w1, w2, w3, w4, w5, w6, w7, w8, w9],\n",
    "                              cyto_rescale = cyto_rescale,\n",
    "                              cyto_median_sz = cyto_med_filter_size,\n",
    "                              cyto_gauss_sig = cyto_gaussian_smoothing_sigma,\n",
    "                              cyto_mo_method = cyto_thresh_method,\n",
    "                              cyto_mo_adjust = cyto_thresh_adj,\n",
    "                              cyto_mo_cutoff_size = cyto_cutoff_size,\n",
    "                              cyto_min_hole_w = cyto_hole_min_width,\n",
    "                              cyto_max_hole_w = cyto_hole_max_width,\n",
    "                              cyto_small_obj_w = cyto_small_object_width,\n",
    "                              cyto_fill_filter_method = cyto_fill_filter_method,\n",
    "                              nuc_min_hole_w = nuc_hole_min_width,\n",
    "                              nuc_max_hole_w = nuc_hole_max_width,\n",
    "                              nuc_fill_method = nuc_fill_filter_method,\n",
    "                              nuc_small_obj_w = nuc_small_object_width,\n",
    "                              nuc_fill_filter_method = nuc_fill_filter_method2,\n",
    "                              cell_min_hole_width = cell_min_hole_width,\n",
    "                              cell_max_hole_width = cell_max_hole_width,\n",
    "                              cell_small_obj_width = cell_small_obj_width,\n",
    "                              cell_fill_filter_method = cell_fill_method)\n",
    "\n",
    "# confirm this output matches the output saved above\n",
    "print(f\"The segmentation output here matches the output created above: {np.all(MS == _masks_stack)}\")"
   ]
  },
  {
   "cell_type": "markdown",
   "metadata": {},
   "source": [
    "-------------\n",
    "### ✅ **INFER MASKS COMPLETE!**\n",
    "\n",
    "Now that a single cell has been identified for analysis, the organelle segmentions need to be completed. Continue on to complete the organelle notebooks (1.2 through 1.7) associated to each of the organelles you would like to include in your analysis:\n",
    "- Infer [`lysosomes`](1.2_infer_lysosome.ipynb)\n",
    "- Infer [`mitochondria`](1.3_infer_mitochondria.ipynb)\n",
    "- Infer [`golgi`](1.4_infer_golgi.ipynb)\n",
    "- Infer [`peroxisomes`](1.5_infer_peroxisome.ipynb)\n",
    "- Infer [`endoplasmic reticulum (ER)`](1.6_infer_ER.ipynb)\n",
    "- Infer [`lipid droplets`](1.7_infer_lipid_droplet.ipynb)"
   ]
  }
 ],
 "metadata": {
  "kernelspec": {
   "display_name": "infer-subc-sc",
   "language": "python",
   "name": "python3"
  },
  "language_info": {
   "codemirror_mode": {
    "name": "ipython",
    "version": 3
   },
   "file_extension": ".py",
   "mimetype": "text/x-python",
   "name": "python",
   "nbconvert_exporter": "python",
   "pygments_lexer": "ipython3",
   "version": "3.10.15"
  }
 },
 "nbformat": 4,
 "nbformat_minor": 2
}
