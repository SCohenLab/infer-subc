{
 "cells": [
  {
   "cell_type": "markdown",
   "metadata": {},
   "source": [
    "# **Infer `Cellmask` and `Nucleus`**\n",
    "\n",
    "***Prior to this notebook, you should have already run through [1.0_image_setup](1.0_image_setup.ipynb).***\n",
    "\n",
    "### ➡️ **Input:**\n",
    "In this workflow, a single or multi-channel confocal microscopy image of fluorescently tagged organelles will be used to \"infer\" (or segment) the cell and nucleus masks. The following setup is recommended for this pipeline:\n",
    "\n",
    "| **Imaging Requirements**|[**Masks Workflow (A)**](./1.1a_infer_masks_from-composite_single_cell.ipynb)|\n",
    "| :------------------------------------- |  :------:  |\n",
    "| Nuclei Marker                          |      ✘     |\n",
    "| Cell Membrane Marker                   |      ✘     |\n",
    "| Cytoplasmic Organelles                 |      ✔     |\n",
    "| Number of cells per image              |   Single   |\n",
    "\n",
    "*If you images are not compatible with this setup, consider the other 1.1_Masks Workflows available:*\n",
    "\n",
    "| **Imaging Requirements**|[**Masks Workflow**](./1.1_infer_masks_from-composite_with_nuc.ipynb)|[**Masks Workflow (B)**](./1.1b_infer_masks_from-composite_multiple-cells.ipynb)| \n",
    "| :------------------------------------- |  :------:  |  :------:  |\n",
    "| Nuclei Marker                          |     ✔     |     ✘     |\n",
    "| Cell Membrane Marker                   |     ✘     |     ✘     |\n",
    "| Cytoplasmic Organelles                 |     ✔     |     ✔     |\n",
    "| Number of cells per image              |  Single or Multiple  |  Multiple |\n",
    "\n",
    "### **Included in this Notebook:**\n",
    "1. **Infer *cytoplasm*** - Segment the ***cytoplasm*** from a composite image of multiple organelle markers combined. The ***cell*** and ***nucleus*** masks will be derived from this mask.\n",
    "    \n",
    "    *The combination of organelle markers used to create the composite image for the cytoplasm segmentation is based on the assumption that the organelle labels used will \"fill up\" the entire cytoplasm (not including the nucleus). This is NOT the most accurate method to determine the cell area, but is required in the case where membrane and nuclei markers can not be used or are not included. It is important to consider specifics of your system as the cell type and labeling method may differ from the example above.*\n",
    "\n",
    "2. **Infer *nucleus*** - Segment the ***nucleus*** from an exclusive or (XOR) of the ***cytoplasm*** mask and a hole-filled version of the ***cytoplasm*** mask.\n",
    "3. **Infer *cellmask***\n",
    "Segment the ***cellmask*** by combining the ***nucleus*** and ***cytoplasm*** masks.\n",
    "-----"
   ]
  },
  {
   "cell_type": "markdown",
   "metadata": {},
   "source": [
    "### 👣 **Summary of steps**  \n",
    "\n",
    "➡️ **EXTRACTION**\n",
    "- **`STEP 1`** - Create composite image\n",
    "\n",
    "    - determine weight to apply to each channel of the intensity image (w# = user input)\n",
    "    - rescale summed image intensities (rescale = user input)\n",
    "\n",
    "**PRE-PROCESSING**\n",
    "- **`STEP 2`** - Rescale and smooth image\n",
    "\n",
    "    - rescale intensity of composite image (min=0, max=1)\n",
    "    - median filter (median size = user input)\n",
    "    - gaussian filter (sigma = user input)\n",
    "    \n",
    "- **`STEP 3`** - Log transform + Scharr edge detection\n",
    "\n",
    "    - perform a log transformation on the image\n",
    "    - apply Scharr edge detection filter\n",
    "    - combine log image and Scharr edge filtered intensity image\n",
    " \n",
    "**CORE PROCESSING**\n",
    "- **`STEP 4`** - Global + local thresholding (AICSSeg – MO)\n",
    "\n",
    "    - apply MO thresholding method from the Allen Cell [aicssegmentation](https://github.com/AllenCell/aics-segmentation) package (threshold options = user input)\n",
    "\n",
    "**POST-PROCESSING**\n",
    "- **`STEP 5`** - Remove small holes and objects\n",
    "\n",
    "    - fill holes (hole size = user input)\n",
    "    - remove small objects (object size = user input)\n",
    "    - filter method = (method = user input)\n",
    "\n",
    "**POST-POST-PROCESSING**\n",
    "- **`STEP 6`** - Create nucleus mask from cytoplasm mask\n",
    "\n",
    "    - binary dilation\n",
    "    - fill nucleus (hole size = user input)\n",
    "    - binary erosion\n",
    "    - logical **XOR** of the cytoplasm and the filled in cytoplasm resulting in the nucleus and any artifacts from dilation/erosion\n",
    "    - remove small objects (object size = user input)\n",
    "\n",
    "\n",
    "- **`STEP 7`** - Create cellmask from cytoplasm and nucleus mask\n",
    "\n",
    "    - logical **OR** of the nucleus and cytoplasm\n",
    "    - fill small holes (hole size = user input)\n",
    "    - remove small objects (object size = user input)\n",
    "\n",
    "**OUTPUT** ➡️ \n",
    "- **`STEP 8`** - Stack masks\n",
    "\n",
    "    - Stack masks in order of nucleus, cellmask and cytoplasm mask"
   ]
  },
  {
   "cell_type": "markdown",
   "metadata": {},
   "source": [
    "---------------------\n",
    "## **IMPORTS AND LOAD IMAGE**\n",
    "Details about the functions included in this subsection are outlined in the [`1.0_image_setup`](1.0_image_setup.ipynb) notebook. Please visit that notebook first if you are confused about any of the code included here."
   ]
  },
  {
   "cell_type": "markdown",
   "metadata": {},
   "source": [
    "#### &#x1F3C3; **Run code; no user input required**"
   ]
  },
  {
   "cell_type": "code",
   "execution_count": 4,
   "metadata": {},
   "outputs": [
    {
     "name": "stdout",
     "output_type": "stream",
     "text": [
      "The autoreload extension is already loaded. To reload it, use:\n",
      "  %reload_ext autoreload\n"
     ]
    }
   ],
   "source": [
    "from pathlib import Path\n",
    "import os\n",
    "\n",
    "import numpy as np\n",
    "import pandas as pd\n",
    "import napari\n",
    "from napari.utils.notebook_display import nbscreenshot\n",
    "\n",
    "from skimage.morphology import binary_dilation, binary_erosion\n",
    "\n",
    "from infer_subc.core.file_io import (read_czi_image, \n",
    "                                     export_inferred_organelle,\n",
    "                                     list_image_files)\n",
    "                  \n",
    "from infer_subc.core.img import *\n",
    "from infer_subc.organelles import non_linear_cellmask_transform\n",
    "\n",
    "%load_ext autoreload\n",
    "%autoreload 2"
   ]
  },
  {
   "cell_type": "markdown",
   "metadata": {},
   "source": [
    "#### &#x1F6D1; &#x270D; **User Input Required:**\n",
    "\n",
    "Please specify the following information about your data: `im_type`, `data_root_path`, `in_data_path`, and `out_data_path`."
   ]
  },
  {
   "cell_type": "code",
   "execution_count": 5,
   "metadata": {},
   "outputs": [],
   "source": [
    "#### USER INPUT REQUIRED ###\n",
    "im_type = \".czi\"\n",
    "data_root_path = Path(os.path.expanduser(\"~\")) / \"Documents/Python_Scripts/Infer-subc\"\n",
    "in_data_path = data_root_path / \"raw\"\n",
    "out_data_path = data_root_path / \"out\""
   ]
  },
  {
   "cell_type": "markdown",
   "metadata": {},
   "source": [
    "#### &#x1F3C3; **Run code; no user input required**"
   ]
  },
  {
   "cell_type": "code",
   "execution_count": 6,
   "metadata": {},
   "outputs": [
    {
     "data": {
      "text/html": [
       "<div>\n",
       "<style scoped>\n",
       "    .dataframe tbody tr th:only-of-type {\n",
       "        vertical-align: middle;\n",
       "    }\n",
       "\n",
       "    .dataframe tbody tr th {\n",
       "        vertical-align: top;\n",
       "    }\n",
       "\n",
       "    .dataframe thead th {\n",
       "        text-align: right;\n",
       "    }\n",
       "</style>\n",
       "<table border=\"1\" class=\"dataframe\">\n",
       "  <thead>\n",
       "    <tr style=\"text-align: right;\">\n",
       "      <th></th>\n",
       "      <th>Image Name</th>\n",
       "    </tr>\n",
       "  </thead>\n",
       "  <tbody>\n",
       "    <tr>\n",
       "      <th>0</th>\n",
       "      <td>C:\\Users\\Shannon\\Documents\\Python_Scripts\\Infer-subc\\raw\\11252023_MSi08L_iPSCs_undiff_BR1_N20_Unmixing.czi</td>\n",
       "    </tr>\n",
       "    <tr>\n",
       "      <th>1</th>\n",
       "      <td>C:\\Users\\Shannon\\Documents\\Python_Scripts\\Infer-subc\\raw\\24hrs-Ctrl +oleicAcid 50uM_2_Unmixing.czi</td>\n",
       "    </tr>\n",
       "    <tr>\n",
       "      <th>2</th>\n",
       "      <td>C:\\Users\\Shannon\\Documents\\Python_Scripts\\Infer-subc\\raw\\24hrs-Ctrl +oleicAcid 50uM_3_Unmixing.czi</td>\n",
       "    </tr>\n",
       "    <tr>\n",
       "      <th>3</th>\n",
       "      <td>C:\\Users\\Shannon\\Documents\\Python_Scripts\\Infer-subc\\raw\\a24hrs-Ctrl +oleicAcid 50uM_10_Unmixing.czi</td>\n",
       "    </tr>\n",
       "    <tr>\n",
       "      <th>4</th>\n",
       "      <td>C:\\Users\\Shannon\\Documents\\Python_Scripts\\Infer-subc\\raw\\a24hrs-Ctrl +oleicAcid 50uM_4_Unmixing.czi</td>\n",
       "    </tr>\n",
       "    <tr>\n",
       "      <th>5</th>\n",
       "      <td>C:\\Users\\Shannon\\Documents\\Python_Scripts\\Infer-subc\\raw\\a24hrs-Ctrl_10_Unmixing.czi</td>\n",
       "    </tr>\n",
       "    <tr>\n",
       "      <th>6</th>\n",
       "      <td>C:\\Users\\Shannon\\Documents\\Python_Scripts\\Infer-subc\\raw\\a24hrs-Ctrl_14_Unmixing.czi</td>\n",
       "    </tr>\n",
       "    <tr>\n",
       "      <th>7</th>\n",
       "      <td>C:\\Users\\Shannon\\Documents\\Python_Scripts\\Infer-subc\\raw\\a48hrs-Ctrl + oleic acid_01_Unmixing.czi</td>\n",
       "    </tr>\n",
       "    <tr>\n",
       "      <th>8</th>\n",
       "      <td>C:\\Users\\Shannon\\Documents\\Python_Scripts\\Infer-subc\\raw\\a48hrs-Ctrl + oleic acid_02_Unmixing.czi</td>\n",
       "    </tr>\n",
       "    <tr>\n",
       "      <th>9</th>\n",
       "      <td>C:\\Users\\Shannon\\Documents\\Python_Scripts\\Infer-subc\\raw\\a48hrs-Ctrl + oleic acid_07_Unmixing.czi</td>\n",
       "    </tr>\n",
       "    <tr>\n",
       "      <th>10</th>\n",
       "      <td>C:\\Users\\Shannon\\Documents\\Python_Scripts\\Infer-subc\\raw\\a48hrs-Ctrl_10_Unmixing.czi</td>\n",
       "    </tr>\n",
       "    <tr>\n",
       "      <th>11</th>\n",
       "      <td>C:\\Users\\Shannon\\Documents\\Python_Scripts\\Infer-subc\\raw\\a48hrs-Ctrl_7_Unmixing.czi</td>\n",
       "    </tr>\n",
       "    <tr>\n",
       "      <th>12</th>\n",
       "      <td>C:\\Users\\Shannon\\Documents\\Python_Scripts\\Infer-subc\\raw\\a48hrs-Ctrl_8_Unmixing.czi</td>\n",
       "    </tr>\n",
       "    <tr>\n",
       "      <th>13</th>\n",
       "      <td>C:\\Users\\Shannon\\Documents\\Python_Scripts\\Infer-subc\\raw\\a48hrs-Ctrl_9_Unmixing.czi</td>\n",
       "    </tr>\n",
       "  </tbody>\n",
       "</table>\n",
       "</div>"
      ],
      "text/plain": [
       "                                                                                                    Image Name\n",
       "0   C:\\Users\\Shannon\\Documents\\Python_Scripts\\Infer-subc\\raw\\11252023_MSi08L_iPSCs_undiff_BR1_N20_Unmixing.czi\n",
       "1           C:\\Users\\Shannon\\Documents\\Python_Scripts\\Infer-subc\\raw\\24hrs-Ctrl +oleicAcid 50uM_2_Unmixing.czi\n",
       "2           C:\\Users\\Shannon\\Documents\\Python_Scripts\\Infer-subc\\raw\\24hrs-Ctrl +oleicAcid 50uM_3_Unmixing.czi\n",
       "3         C:\\Users\\Shannon\\Documents\\Python_Scripts\\Infer-subc\\raw\\a24hrs-Ctrl +oleicAcid 50uM_10_Unmixing.czi\n",
       "4          C:\\Users\\Shannon\\Documents\\Python_Scripts\\Infer-subc\\raw\\a24hrs-Ctrl +oleicAcid 50uM_4_Unmixing.czi\n",
       "5                         C:\\Users\\Shannon\\Documents\\Python_Scripts\\Infer-subc\\raw\\a24hrs-Ctrl_10_Unmixing.czi\n",
       "6                         C:\\Users\\Shannon\\Documents\\Python_Scripts\\Infer-subc\\raw\\a24hrs-Ctrl_14_Unmixing.czi\n",
       "7            C:\\Users\\Shannon\\Documents\\Python_Scripts\\Infer-subc\\raw\\a48hrs-Ctrl + oleic acid_01_Unmixing.czi\n",
       "8            C:\\Users\\Shannon\\Documents\\Python_Scripts\\Infer-subc\\raw\\a48hrs-Ctrl + oleic acid_02_Unmixing.czi\n",
       "9            C:\\Users\\Shannon\\Documents\\Python_Scripts\\Infer-subc\\raw\\a48hrs-Ctrl + oleic acid_07_Unmixing.czi\n",
       "10                        C:\\Users\\Shannon\\Documents\\Python_Scripts\\Infer-subc\\raw\\a48hrs-Ctrl_10_Unmixing.czi\n",
       "11                         C:\\Users\\Shannon\\Documents\\Python_Scripts\\Infer-subc\\raw\\a48hrs-Ctrl_7_Unmixing.czi\n",
       "12                         C:\\Users\\Shannon\\Documents\\Python_Scripts\\Infer-subc\\raw\\a48hrs-Ctrl_8_Unmixing.czi\n",
       "13                         C:\\Users\\Shannon\\Documents\\Python_Scripts\\Infer-subc\\raw\\a48hrs-Ctrl_9_Unmixing.czi"
      ]
     },
     "execution_count": 6,
     "metadata": {},
     "output_type": "execute_result"
    }
   ],
   "source": [
    "# list files in the input folder\n",
    "img_file_list = list_image_files(in_data_path,im_type)\n",
    "pd.set_option('display.max_colwidth', None)\n",
    "pd.DataFrame({\"Image Name\":img_file_list})"
   ]
  },
  {
   "cell_type": "markdown",
   "metadata": {},
   "source": [
    "#### &#x1F6D1; &#x270D; **User Input Required:**\n",
    "\n",
    "Use the list above to specify which image you wish to analyze based on its index: `test_img_n`"
   ]
  },
  {
   "cell_type": "code",
   "execution_count": 7,
   "metadata": {},
   "outputs": [],
   "source": [
    "#### USER INPUT REQUIRED ###\n",
    "test_img_n = 5"
   ]
  },
  {
   "cell_type": "markdown",
   "metadata": {},
   "source": [
    "#### &#x1F3C3; **Run code; no user input required**"
   ]
  },
  {
   "cell_type": "code",
   "execution_count": 8,
   "metadata": {},
   "outputs": [
    {
     "name": "stdout",
     "output_type": "stream",
     "text": [
      "Metadata information\n",
      "File path: C:\\Users\\Shannon\\Documents\\Python_Scripts\\Infer-subc\\raw\\a24hrs-Ctrl_10_Unmixing.czi\n",
      "Channel 0 name: 0 :: a24hrs-Ctrl_10_Unmixing-0 :: Nuclei_Jan22\n",
      "Channel 1 name: 0 :: a24hrs-Ctrl_10_Unmixing-0 :: Lyso+405_Jan22\n",
      "Channel 2 name: 0 :: a24hrs-Ctrl_10_Unmixing-0 :: Mito+405_Jan22\n",
      "Channel 3 name: 0 :: a24hrs-Ctrl_10_Unmixing-0 :: Golgi+405_Jan22\n",
      "Channel 4 name: 0 :: a24hrs-Ctrl_10_Unmixing-0 :: Peroxy+405_Jan22\n",
      "Channel 5 name: 0 :: a24hrs-Ctrl_10_Unmixing-0 :: ER+405_Jan22\n",
      "Channel 6 name: 0 :: a24hrs-Ctrl_10_Unmixing-0 :: BODIPY+405low_Jan22\n",
      "Channel 7 name: 0 :: a24hrs-Ctrl_10_Unmixing-0 :: Residuals\n",
      "Scale (ZYX): (0.3891184878080979, 0.07987165184837317, 0.07987165184837318)\n",
      "Channel axis: 0\n"
     ]
    },
    {
     "name": "stderr",
     "output_type": "stream",
     "text": [
      "WARNING: QWindowsWindow::setGeometry: Unable to set geometry 1924x1978+640-803 (frame: 1942x2025+631-841) on QWidgetWindow/\"_QtMainWindowClassWindow\" on \"\\\\.\\DISPLAY1\". Resulting geometry: 1924x2255+641-796 (frame: 1942x2302+632-834) margins: 9, 38, 9, 9 minimum size: 385x515 MINMAXINFO maxSize=0,0 maxpos=0,0 mintrack=403,562 maxtrack=0,0)\n",
      "20-Nov-24 13:28:39 - vispy    - WARNING  - QWindowsWindow::setGeometry: Unable to set geometry 1924x1978+640-803 (frame: 1942x2025+631-841) on QWidgetWindow/\"_QtMainWindowClassWindow\" on \"\\\\.\\DISPLAY1\". Resulting geometry: 1924x2255+641-796 (frame: 1942x2302+632-834) margins: 9, 38, 9, 9 minimum size: 385x515 MINMAXINFO maxSize=0,0 maxpos=0,0 mintrack=403,562 maxtrack=0,0)\n"
     ]
    },
    {
     "name": "stdout",
     "output_type": "stream",
     "text": [
      "\n",
      "Proceed to Napari window to view your selected image.\n"
     ]
    }
   ],
   "source": [
    "# load image and metadata\n",
    "test_img_name = img_file_list[test_img_n]\n",
    "img_data,meta_dict = read_czi_image(test_img_name)\n",
    "\n",
    "# metadata\n",
    "channel_names = meta_dict['name']\n",
    "meta = meta_dict['metadata']['aicsimage']\n",
    "scale = meta_dict['scale']\n",
    "channel_axis = meta_dict['channel_axis']\n",
    "file_path = meta_dict['file_name']\n",
    "print(\"Metadata information\")\n",
    "print(f\"File path: {file_path}\")\n",
    "for i in list(range(len(channel_names))):\n",
    "    print(f\"Channel {i} name: {channel_names[i]}\")\n",
    "print(f\"Scale (ZYX): {scale}\")\n",
    "print(f\"Channel axis: {channel_axis}\")\n",
    "\n",
    "# open viewer and add images\n",
    "viewer = napari.Viewer()\n",
    "for i in list(range(len(channel_names))):\n",
    "    viewer.add_image(img_data[i],\n",
    "                     scale=scale,\n",
    "                     name=f\"Channel {i}\")\n",
    "viewer.grid.enabled = True\n",
    "viewer.reset_view()\n",
    "print(\"\\nProceed to Napari window to view your selected image.\")"
   ]
  },
  {
   "cell_type": "markdown",
   "metadata": {},
   "source": [
    "-----\n",
    "\n",
    "## **EXTRACTION**"
   ]
  },
  {
   "cell_type": "markdown",
   "metadata": {},
   "source": [
    "### **`STEP 1` - Create composite image**\n",
    "\n",
    "&#x1F453; **FYI:** This code block creates a composite image of the organelle channels. The intensity of each channel in combined together with specified weights. The resulting composite will be used to segment the cell area. *Hint: combine organelles in a way that produces a relatively even intensity throughout the cell.* \n",
    "\n",
    "#### &#x1F6D1; &#x270D; **User Input Required:**\n",
    "\n",
    "Please specify the following values:\n",
    "- `w0`: the weight of channel 0 (the first channel); a value of 0 will exclude this channel from the compostite; large values will cause this channel to be more prominent in the final composite image\n",
    "- `w1`: the weight of channel 1\n",
    "- `w2`: the weight of channel 2\n",
    "- `w3`: the weight of channel 3\n",
    "- `w4`: the weight of channel 4\n",
    "- `w5`: the weight of channel 5\n",
    "- `w6`: the weight of channel 6\n",
    "- `w7`: the weight of channel 7\n",
    "- `w8`: the weight of channel 8\n",
    "- `w9`: the weight of channel 9\n",
    "- `rescale`: \"True\" rescales the image so that the pixel/voxel with the highest intensity is set to 1 and the one with the lowest intensity is set to 0; \"False\" leaves the combined intensity values as is after the composite is made"
   ]
  },
  {
   "cell_type": "code",
   "execution_count": 9,
   "metadata": {},
   "outputs": [],
   "source": [
    "#### USER INPUT REQUIRED ###\n",
    "w0 = 0\n",
    "w1 = 4\n",
    "w2 = 1\n",
    "w3 = 1\n",
    "w4 = 2\n",
    "w5 = 2\n",
    "w6 = 0\n",
    "w7 = 0\n",
    "w8 = 0\n",
    "w9 = 0\n",
    "\n",
    "rescale = True"
   ]
  },
  {
   "cell_type": "markdown",
   "metadata": {},
   "source": [
    "#### &#x1F3C3; **Run code; no user input required**\n",
    "\n",
    "&#x1F453; **FYI:** This code block creates the composite and optionally rescales the image based on the settings above. The image is then added to Napari as a new layer for visual comparison to the input image. \n",
    "\n",
    "Use the Napari viewer to iteratively adjust the smoothing settings selected above."
   ]
  },
  {
   "cell_type": "code",
   "execution_count": 10,
   "metadata": {},
   "outputs": [
    {
     "data": {
      "text/plain": [
       "<Image layer '1-Cyto: Create composite' at 0x12914c2b760>"
      ]
     },
     "execution_count": 10,
     "metadata": {},
     "output_type": "execute_result"
    }
   ],
   "source": [
    "# make aggregate and optionally rescale\n",
    "struct_img_raw = make_aggregate(img_data,\n",
    "               weight_ch0= w0,\n",
    "               weight_ch1= w1,\n",
    "               weight_ch2= w2,\n",
    "               weight_ch3= w3,\n",
    "               weight_ch4= w4,\n",
    "               weight_ch5= w5,\n",
    "               weight_ch6= w6,\n",
    "               weight_ch7= w7,\n",
    "               weight_ch8= w8,\n",
    "               weight_ch9= w9,\n",
    "               rescale = rescale)\n",
    "\n",
    "# adding image to Napari as a new layer\n",
    "viewer.grid.enabled = False\n",
    "viewer.reset_view()\n",
    "viewer.add_image(struct_img_raw, scale=scale, name=\"1-Cyto: Create composite\")"
   ]
  },
  {
   "cell_type": "markdown",
   "metadata": {},
   "source": [
    "-----\n",
    "## **PRE-PROCESSING**"
   ]
  },
  {
   "cell_type": "markdown",
   "metadata": {},
   "source": [
    "## **`STEP 2` - Rescale and smooth image**\n",
    "\n",
    "&#x1F453; **FYI:** This code block rescales the image so that the pixel/voxel with the highest intensity is set to 1 and the one with the lowest intensity is set to 0. The image is then *optionally* smoothed using a Gaussian and/or median filter. \n",
    "\n",
    "<mark> Include more information on the Gaussian and median filtering methods here </mark>\n",
    "\n",
    "#### &#x1F6D1; &#x270D; **User Input Required:**\n",
    "\n",
    "Please specify the amount of filter to use for each method. Higher values indicate more smoothing:\n",
    "- `med_filter_size`: the size of the median filter to apply; if 0 is used, no filter will be applied\n",
    "- `gaussian_smoothing_sigma`: the sigma to apply in the Gaussian filtering step; if 0 is used, no filter will be applied"
   ]
  },
  {
   "cell_type": "code",
   "execution_count": 11,
   "metadata": {},
   "outputs": [],
   "source": [
    "#### USER INPUT REQUIRED ###\n",
    "med_filter_size = 0\n",
    "gaussian_smoothing_sigma = 0"
   ]
  },
  {
   "cell_type": "markdown",
   "metadata": {},
   "source": [
    "#### &#x1F3C3; **Run code; no user input required**\n",
    "\n",
    "&#x1F453; **FYI:** This code block rescales the image and applies the specified median and Gaussian filters. The image is then added to Napari as a new layer for visual comparison to the input image. \n",
    "\n",
    "Use the Napari viewer to iteratively adjust the smoothing settings selected above."
   ]
  },
  {
   "cell_type": "code",
   "execution_count": 12,
   "metadata": {},
   "outputs": [
    {
     "data": {
      "text/plain": [
       "<Image layer '2-Cyto: Rescale and Smooth' at 0x12913213e50>"
      ]
     },
     "execution_count": 12,
     "metadata": {},
     "output_type": "execute_result"
    }
   ],
   "source": [
    "# rescaling and smoothing input image\n",
    "structure_img_smooth = scale_and_smooth(struct_img_raw,\n",
    "                                        median_size = med_filter_size, \n",
    "                                        gauss_sigma = gaussian_smoothing_sigma)\n",
    "\n",
    "\n",
    "# adding image to Napari as a new layer\n",
    "viewer.add_image(structure_img_smooth, scale=scale, name=\"2-Cyto: Rescale and Smooth\")"
   ]
  },
  {
   "cell_type": "markdown",
   "metadata": {},
   "source": [
    "## **`STEP 3` - Log transform + Scharr edge detection**"
   ]
  },
  {
   "cell_type": "markdown",
   "metadata": {},
   "source": [
    "- perform a log transformation on the image\n",
    "- apply Scharr edge detection filter\n",
    "- combine log image and Scharr edge filtered intensity image"
   ]
  },
  {
   "cell_type": "code",
   "execution_count": null,
   "metadata": {},
   "outputs": [],
   "source": [
    "# log scale the image, apply the scharr edge detection filter to logged image, add the two images together\n",
    "composite_cellmask = non_linear_cellmask_transform(structure_img_smooth)"
   ]
  },
  {
   "cell_type": "markdown",
   "metadata": {},
   "source": [
    "# ***CORE-PROCESSING prototype - masks_A***"
   ]
  },
  {
   "cell_type": "markdown",
   "metadata": {},
   "source": [
    "## **`STEP 4` - Global + local thresholding (AICSSeg – MO) from the Allen Cell [aicssegmentation](https://github.com/AllenCell/aics-segmentation) package**"
   ]
  },
  {
   "attachments": {},
   "cell_type": "markdown",
   "metadata": {},
   "source": [
    "- apply MO thresholding method from the Allen Cell [aicssegmentation](https://github.com/AllenCell/aics-segmentation) package (threshold options = user input)"
   ]
  },
  {
   "cell_type": "code",
   "execution_count": null,
   "metadata": {},
   "outputs": [],
   "source": [
    "# threshold the composite image after log/edge detection using the MO filter function from aicssegmentation - this applies a global threshold, then a local threshold to produce a semantic segmentation\n",
    "thresh_method = 'ave'\n",
    "cutoff_size =  50\n",
    "thresh_adj = 0.2\n",
    "\n",
    "bw = masked_object_thresh(composite_cellmask, \n",
    "                          global_method=thresh_method, \n",
    "                          cutoff_size=cutoff_size, \n",
    "                          local_adjust=thresh_adj)"
   ]
  },
  {
   "cell_type": "markdown",
   "metadata": {},
   "source": [
    "# ***POST-PROCESSING prototype - masks_A***"
   ]
  },
  {
   "cell_type": "markdown",
   "metadata": {},
   "source": [
    "## **`STEP 5` - Remove small holes and objects**"
   ]
  },
  {
   "attachments": {},
   "cell_type": "markdown",
   "metadata": {},
   "source": [
    "- fill holes (hole size = user input)\n",
    "- remove small objects (object size = user input)\n",
    "- filter method = (method = user input)"
   ]
  },
  {
   "cell_type": "markdown",
   "metadata": {},
   "source": [
    "> ###### 📝 **the size parameters are by convention defined as one dimensional \"width\", so the inputs to the functions are _squared_ i.e. raised to the power of 2: `**2` for 2D analysis. For volumetric (3D) analysis this would be _cubed_: `**3`.**"
   ]
  },
  {
   "cell_type": "code",
   "execution_count": null,
   "metadata": {},
   "outputs": [],
   "source": [
    "hole_min_width = 0\n",
    "hole_max_width = 30\n",
    "\n",
    "small_object_width = 10\n",
    "\n",
    "fill_filter_method = \"3D\"\n",
    "\n",
    "cleaned_img2 = fill_and_filter_linear_size(bw, \n",
    "                                           hole_min=hole_min_width, \n",
    "                                           hole_max=hole_max_width, \n",
    "                                           min_size= small_object_width,\n",
    "                                           method=fill_filter_method)"
   ]
  },
  {
   "attachments": {},
   "cell_type": "markdown",
   "metadata": {},
   "source": [
    "###### Labels a boolean version of the cytoplasm mask to a uint16 array"
   ]
  },
  {
   "cell_type": "code",
   "execution_count": null,
   "metadata": {},
   "outputs": [],
   "source": [
    "cytoplasm_mask = label_bool_as_uint16(cleaned_img2)"
   ]
  },
  {
   "cell_type": "markdown",
   "metadata": {},
   "source": [
    "Define `_infer_cytoplasm_fromcomposite` function"
   ]
  },
  {
   "cell_type": "code",
   "execution_count": null,
   "metadata": {},
   "outputs": [],
   "source": [
    "##########################\n",
    "# infer_cytoplasm_fromcomposite\n",
    "# alternative workflow \"a\"\n",
    "##########################\n",
    "def _infer_cytoplasm_fromcomposite(in_img: np.ndarray,\n",
    "                                  weights: list[int],\n",
    "                                  median_sz: int,\n",
    "                                  gauss_sig: float,\n",
    "                                  mo_method: str,\n",
    "                                  mo_adjust: float,\n",
    "                                  mo_cutoff_size: int,\n",
    "                                  min_hole_w: int,\n",
    "                                  max_hole_w: int,\n",
    "                                  small_obj_w: int,\n",
    "                                  fill_filter_method: str\n",
    "                                  ) -> np.ndarray:\n",
    "    \"\"\"\n",
    "    Procedure to infer cellmask from linear unmixed input.\n",
    "\n",
    "    Parameters\n",
    "    ------------\n",
    "    in_img: \n",
    "        a 3d image containing all the channels\n",
    "    weights:\n",
    "        a list of int that corresond to the weights for each channel in the composite; use 0 if a channel should not be included in the composite image\n",
    "    nuclei_labels: \n",
    "        a 3d image containing the inferred nuclei labels\n",
    "    median_sz: \n",
    "        width of median filter for _cellmask_ signal\n",
    "    gauss_sig: \n",
    "        sigma for gaussian smoothing of _cellmask_ signal\n",
    "    mo_method: \n",
    "         which method to use for calculating global threshold. Options include:\n",
    "         \"triangle\" (or \"tri\"), \"median\" (or \"med\"), and \"ave_tri_med\" (or \"ave\").\n",
    "         \"ave\" refers the average of \"triangle\" threshold and \"mean\" threshold.\n",
    "    mo_adjust: \n",
    "        Masked Object threshold `local_adjust`\n",
    "    mo_cutoff_size: \n",
    "        Masked Object threshold `size_min`\n",
    "    max_hole_w: \n",
    "        hole filling cutoff for cellmask signal post-processing\n",
    "    small_obj_w: \n",
    "        minimu object size cutoff for cellmask signal post-processing\n",
    "    watershed_method:\n",
    "        determines if the watershed should be run 'sice-by-slice' or in '3D' \n",
    "\n",
    "    Returns\n",
    "    -------------\n",
    "    cellmask_mask:\n",
    "        a logical/labels object defining boundaries of cellmask\n",
    "\n",
    "    \"\"\"\n",
    "    ###################\n",
    "    # EXTRACT\n",
    "    ###################\n",
    "    struct_img = weighted_aggregate(in_img, *weights)\n",
    "\n",
    "    ###################\n",
    "    # PRE_PROCESSING\n",
    "    ###################                         \n",
    "    struct_img = scale_and_smooth(struct_img,\n",
    "                                   median_size = median_sz, \n",
    "                                   gauss_sigma = gauss_sig)\n",
    "    \n",
    "\n",
    "    struct_img_non_lin = non_linear_cellmask_transform(struct_img)\n",
    "\n",
    "    ###################\n",
    "    # CORE_PROCESSING\n",
    "    ###################\n",
    "    struct_obj = masked_object_thresh(struct_img_non_lin, \n",
    "                                      global_method=mo_method, \n",
    "                                      cutoff_size=mo_cutoff_size, \n",
    "                                      local_adjust=mo_adjust)               \n",
    "\n",
    "    ###################\n",
    "    # POST_PROCESSING\n",
    "    ###################\n",
    "    struct_obj = fill_and_filter_linear_size(struct_obj, \n",
    "                                             hole_min=min_hole_w, \n",
    "                                             hole_max=max_hole_w, \n",
    "                                             min_size= small_obj_w,\n",
    "                                             method=fill_filter_method)\n",
    "\n",
    "    ###################\n",
    "    # POST- POST_PROCESSING\n",
    "    ###################\n",
    "    cellmask_out = label_bool_as_uint16(struct_obj)\n",
    "\n",
    "    return cellmask_out"
   ]
  },
  {
   "cell_type": "markdown",
   "metadata": {},
   "source": [
    "Run `_infer_cytoplasm_fromcomposite` function"
   ]
  },
  {
   "cell_type": "code",
   "execution_count": null,
   "metadata": {},
   "outputs": [],
   "source": [
    "###################\n",
    "# PARAMETERS\n",
    "###################   \n",
    "weights = [0, 4, 1, 1, 2, 2]\n",
    "median_sz = 0\n",
    "gauss_sig = 0\n",
    "mo_method = \"ave\"\n",
    "mo_adjust = 0.2\n",
    "mo_cutoff_size = 50\n",
    "hole_min_width = 0\n",
    "hole_max_width = 30\n",
    "small_obj_w = 10\n",
    "fill_filter_method = '3D'\n",
    "\n",
    "_CY_object = _infer_cytoplasm_fromcomposite(img_data,\n",
    "                                            weights,\n",
    "                                            median_sz,\n",
    "                                            gauss_sig,\n",
    "                                            mo_method,\n",
    "                                            mo_adjust,\n",
    "                                            mo_cutoff_size,\n",
    "                                            hole_min_width,\n",
    "                                            hole_max_width,\n",
    "                                            small_obj_w,\n",
    "                                            fill_filter_method) \n",
    "\n",
    "_CY_object.dtype"
   ]
  },
  {
   "cell_type": "code",
   "execution_count": null,
   "metadata": {},
   "outputs": [],
   "source": [
    "np.all(cytoplasm_mask == _CY_object)"
   ]
  },
  {
   "cell_type": "markdown",
   "metadata": {},
   "source": [
    "# ***POST-POST-PROCESSING prototype - masks_A***"
   ]
  },
  {
   "cell_type": "markdown",
   "metadata": {},
   "source": [
    "## **`STEP 6` - Create nucleus mask from cytoplasm mask**"
   ]
  },
  {
   "cell_type": "markdown",
   "metadata": {},
   "source": [
    "- binary dilation\n",
    "- fill nucleus (hole size = user input)\n",
    "- binary erosion"
   ]
  },
  {
   "cell_type": "code",
   "execution_count": null,
   "metadata": {},
   "outputs": [],
   "source": [
    "cytoplasm_dilated = binary_dilation(cytoplasm_mask)\n",
    "\n",
    "hole_min_width = 0\n",
    "hole_max_width = 500\n",
    "small_obj_width = 0\n",
    "fill_filter_method = \"3D\"\n",
    "cytoplasm_filled = fill_and_filter_linear_size(cytoplasm_dilated, hole_min=hole_min_width, hole_max=hole_max_width, min_size=small_obj_width, method=fill_filter_method)\n",
    "\n",
    "cytoplasm_eroded = binary_erosion(cytoplasm_filled)"
   ]
  },
  {
   "cell_type": "markdown",
   "metadata": {},
   "source": [
    "- logical **XOR** of the cytoplasm and the filled in cytoplasm resulting in the nucleus and any artifacts from dilation/erosion"
   ]
  },
  {
   "cell_type": "code",
   "execution_count": null,
   "metadata": {},
   "outputs": [],
   "source": [
    "nuclei_xor = np.logical_xor(cytoplasm_mask, cytoplasm_eroded)"
   ]
  },
  {
   "cell_type": "markdown",
   "metadata": {},
   "source": [
    "- remove small objects (object size = user input)"
   ]
  },
  {
   "cell_type": "code",
   "execution_count": null,
   "metadata": {},
   "outputs": [],
   "source": [
    "nuc_small_object_width = 20\n",
    "\n",
    "nuc_cleaned_img = fill_and_filter_linear_size(nuclei_xor, hole_min=0, hole_max=0, min_size=nuc_small_object_width, method=\"3D\")"
   ]
  },
  {
   "cell_type": "markdown",
   "metadata": {},
   "source": [
    "###### Labels a boolean version of the nuclei labels to a uint16 array"
   ]
  },
  {
   "cell_type": "code",
   "execution_count": null,
   "metadata": {},
   "outputs": [],
   "source": [
    "###################\n",
    "# LABELING\n",
    "###################\n",
    "# create instance segmentation based on connectivity\n",
    "nuclei_labels = label_bool_as_uint16(nuc_cleaned_img)"
   ]
  },
  {
   "cell_type": "code",
   "execution_count": null,
   "metadata": {},
   "outputs": [],
   "source": [
    "nuclei_labels.dtype"
   ]
  },
  {
   "cell_type": "markdown",
   "metadata": {},
   "source": [
    "Define `_infer_nuclei_fromcytoplasm` function"
   ]
  },
  {
   "cell_type": "code",
   "execution_count": null,
   "metadata": {},
   "outputs": [],
   "source": [
    "##########################\n",
    "#  _infer_nuclei_fromcytoplasm\n",
    "##########################\n",
    "def _infer_nuclei_fromcytoplasm(cytoplasm_mask: np.ndarray, \n",
    "                                nuc_min_hole_w: int,\n",
    "                                nuc_max_hole_w: int,\n",
    "                                nuc_fill_method: str,\n",
    "                                small_obj_w: int,\n",
    "                                fill_filter_method: str\n",
    "                                ) -> np.ndarray:\n",
    "    \"\"\"\n",
    "    Procedure to infer nuclei from linear unmixed input.\n",
    "\n",
    "    Parameters\n",
    "    ------------\n",
    "    cytoplasm_mask: np.ndarray\n",
    "        a 3d image of the cytoplasm segmentation\n",
    "    max_hole_w: int\n",
    "        hole filling cutoff to fill the nuclei\n",
    "    small_obj_w: int\n",
    "        object size cutoff to remove artifacts from dilation/erosion steps\n",
    "    fill_filter_method: str\n",
    "        to filter artifacts in \"3D\" or \"slice-by-slice\"\n",
    "\n",
    "    Returns\n",
    "    -------------\n",
    "    nuclei_object\n",
    "        mask defined extent of NU\n",
    "    \n",
    "    \"\"\"\n",
    "\n",
    "    ###################\n",
    "    # PRE_PROCESSING\n",
    "    ###################                \n",
    "    cytoplasm_dilated = binary_dilation(cytoplasm_mask)\n",
    "\n",
    "    cytoplasm_filled = fill_and_filter_linear_size(cytoplasm_dilated, \n",
    "                                                   hole_min=nuc_min_hole_w, \n",
    "                                                   hole_max=nuc_max_hole_w, \n",
    "                                                   min_size=0, \n",
    "                                                   method=nuc_fill_method)\n",
    "\n",
    "    cytoplasm_eroded = binary_erosion(cytoplasm_filled)\n",
    "\n",
    "    ###################\n",
    "    # CORE_PROCESSING\n",
    "    ###################\n",
    "    nuclei_xor = np.logical_xor(cytoplasm_mask, cytoplasm_eroded)\n",
    "\n",
    "    ###################\n",
    "    # POST_PROCESSING\n",
    "    ###################\n",
    "    nuclei_object = fill_and_filter_linear_size(nuclei_xor, \n",
    "                                                hole_min=0, \n",
    "                                                hole_max=0, \n",
    "                                                min_size=small_obj_w,\n",
    "                                                method=fill_filter_method)\n",
    "\n",
    "    nuclei_labels = label_uint16(nuclei_object)\n",
    "\n",
    "    return nuclei_labels"
   ]
  },
  {
   "cell_type": "markdown",
   "metadata": {},
   "source": [
    "Run `_infer_nuclei_fromcytoplasm` function"
   ]
  },
  {
   "cell_type": "code",
   "execution_count": null,
   "metadata": {},
   "outputs": [],
   "source": [
    "nuc_min_hole_w = 0\n",
    "nuc_max_hole_w = 500\n",
    "nuc_fill_method = \"3D\"\n",
    "small_obj_w = 20\n",
    "fill_filter_method = \"3D\"\n",
    "\n",
    "_NU_object = _infer_nuclei_fromcytoplasm(cytoplasm_mask,\n",
    "                                nuc_min_hole_w,\n",
    "                                nuc_max_hole_w,\n",
    "                                nuc_fill_method,\n",
    "                                small_obj_w,\n",
    "                                fill_filter_method)\n",
    "\n",
    "_NU_object.dtype"
   ]
  },
  {
   "cell_type": "markdown",
   "metadata": {},
   "source": [
    "## **`STEP 7` - Create cellmask from cytoplasm and nucleus mask**"
   ]
  },
  {
   "cell_type": "markdown",
   "metadata": {},
   "source": [
    "- logical **OR** of the nucleus and cytoplasm"
   ]
  },
  {
   "cell_type": "code",
   "execution_count": null,
   "metadata": {},
   "outputs": [],
   "source": [
    "cell = np.logical_or(_NU_object, _CY_object)"
   ]
  },
  {
   "cell_type": "markdown",
   "metadata": {},
   "source": [
    "- fill small holes (hole size = user input)\n",
    "- remove small objects (object size = user input)"
   ]
  },
  {
   "cell_type": "code",
   "execution_count": null,
   "metadata": {},
   "outputs": [],
   "source": [
    "min_hole_width = 0\n",
    "max_hole_width = 30\n",
    "small_obj_width = 0\n",
    "fill_method = \"3D\"\n",
    "\n",
    "cleaned_img = fill_and_filter_linear_size(cell, \n",
    "                                          hole_min=min_hole_width, \n",
    "                                          hole_max=max_hole_width, \n",
    "                                          min_size=small_obj_width, \n",
    "                                          method=fill_method)"
   ]
  },
  {
   "cell_type": "markdown",
   "metadata": {},
   "source": [
    "###### Labels a boolean version of the cell mask to a uint16 array"
   ]
  },
  {
   "cell_type": "code",
   "execution_count": null,
   "metadata": {},
   "outputs": [],
   "source": [
    "# create instance segmentation based on connectivity\n",
    "cell_mask = label_bool_as_uint16(cleaned_img)"
   ]
  },
  {
   "cell_type": "code",
   "execution_count": null,
   "metadata": {},
   "outputs": [],
   "source": [
    "cell_mask.dtype"
   ]
  },
  {
   "cell_type": "markdown",
   "metadata": {},
   "source": [
    "# ***EXPORT prototype - masks_A***"
   ]
  },
  {
   "cell_type": "markdown",
   "metadata": {},
   "source": [
    "## **`STEP 8` - Stack masks**"
   ]
  },
  {
   "cell_type": "markdown",
   "metadata": {},
   "source": [
    "- Stack masks in order of nucleus, cellmask and cytoplasm mask"
   ]
  },
  {
   "cell_type": "code",
   "execution_count": null,
   "metadata": {},
   "outputs": [],
   "source": [
    "stack = stack_masks(nuc_mask=_NU_object, cellmask=cell_mask, cyto_mask=_CY_object)"
   ]
  },
  {
   "cell_type": "code",
   "execution_count": null,
   "metadata": {},
   "outputs": [],
   "source": [
    "out_file_n = export_inferred_organelle(stack, \"masks_A\", meta_dict, out_data_path)"
   ]
  },
  {
   "cell_type": "markdown",
   "metadata": {},
   "source": [
    "## **Visualize `nucleus`, `cellmask` and `cytoplasm`**"
   ]
  },
  {
   "cell_type": "code",
   "execution_count": null,
   "metadata": {},
   "outputs": [],
   "source": [
    "viewer_masks_A = napari.Viewer(title = \"masks_A\",\n",
    "                           ndisplay=3)\n",
    "viewer_masks_A.grid.enabled = True"
   ]
  },
  {
   "cell_type": "code",
   "execution_count": null,
   "metadata": {},
   "outputs": [],
   "source": [
    "viewer_masks_A.add_image(stack[2].astype(bool),\n",
    "                      scale = scale,\n",
    "                      name = 'Cytoplasm')\n",
    "\n",
    "viewer_masks_A.add_image(stack[1].astype(bool),\n",
    "                      scale = scale,\n",
    "                      name = 'Cellmask')\n",
    "\n",
    "viewer_masks_A.add_image(stack[0].astype(bool),\n",
    "                      scale = scale,\n",
    "                      name = 'Nucleus')\n",
    "\n",
    "viewer_masks_A.reset_view()\n",
    "\n",
    "nbscreenshot(viewer_masks_A,\n",
    "             canvas_only = True)"
   ]
  },
  {
   "cell_type": "markdown",
   "metadata": {},
   "source": [
    "-------------\n",
    "### NEXT: INFER LYSOSOME\n",
    "\n",
    "proceed to [1.2_infer_lysosome.ipynb](./1.2_infer_lysosome.ipynb)"
   ]
  }
 ],
 "metadata": {
  "kernelspec": {
   "display_name": "infer-subc-scohen",
   "language": "python",
   "name": "python3"
  },
  "language_info": {
   "codemirror_mode": {
    "name": "ipython",
    "version": 3
   },
   "file_extension": ".py",
   "mimetype": "text/x-python",
   "name": "python",
   "nbconvert_exporter": "python",
   "pygments_lexer": "ipython3",
   "version": "3.10.15"
  }
 },
 "nbformat": 4,
 "nbformat_minor": 2
}
