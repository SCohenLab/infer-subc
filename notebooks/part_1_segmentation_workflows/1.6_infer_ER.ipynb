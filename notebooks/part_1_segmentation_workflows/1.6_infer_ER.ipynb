{
 "cells": [
  {
   "attachments": {},
   "cell_type": "markdown",
   "metadata": {},
   "source": [
    "# Infer **`Endoplasmic Reticulum (ER)`**\n",
    "\n",
    "***Prior to this notebook, you should have already run through [1.0_image_setup](1.0_image_setup.ipynb).***\n",
    "\n",
    "In notebooks 1.2 through 1.7, we will go over the implementation of `infer-subc` in the a Napari plugin called  `organelle-segmenter-plugin`. The steps outlined in each notebook correlate to the workflow steps from the plugin. Here, you will gain knownledge of what `infer-subc` functions are involved in each of those steps. \n",
    "\n",
    "The segmentation workflows are completely independent of each other and can be run in any order. The current notebook segments the `ER`. Notebooks for the segmentation of other organelles can be found here:\n",
    "- Infer [`lysosomes`](1.2_infer_lysosome.ipynb)\n",
    "- Infer [`mitochondria`](1.3_infer_mitochondria.ipynb)\n",
    "- Infer [`golgi`](1.4_infer_golgi.ipynb)\n",
    "- Infer [`peroxisomes`](1.5_infer_peroxisome.ipynb)\n",
    "- Infer [`lipid droplets`](1.7_infer_lipid_droplet.ipynb)\n",
    "\n",
    "***Note:** These notebooks do not include a batch processing option. They are simply explanations of the steps included in the Napari plugin. If you would like to batch process your images in a Jupyter notebook instead of the plugin, you can use the [batch process segmentation](batch_process_segmentations.ipynb) notebook.*\n",
    "\n",
    "### **Single cell analysis**\n",
    "Each workflow segments organelles from the entire image, irrespective of the cell mask identified in notebook 1.1. To attain a single-cell analysis, the mask will be applied to the organelle segmentation outputs before quantification in the `part_2_quantification` notebooks. \n",
    "\n",
    "### **ER** 🕸️\n",
    "The endoplasmic reticulum (ER) is the primary site of protein and lipid synthesis in the cell. It also plays a major role in the organization, trafficking, and regulation of other membrane-bound organelles through ER membrane contact sites. The ER is usually composed of one continuous network of tubules and membrane sheets, but can, under certain conditions, fragment into separate networks. \n",
    "\n",
    "⚠️ ***IMPORTANT: In this workflow, the ER is labeled as one object, even if there are regions of the ER separate from each other.***\n",
    "\n",
    "### **Fluorescence labeling strategies** 🔆 \n",
    "The ER can be fluorescently labeled in live and fixed cells by staining for endogenous proteins, targeting fluorescent proteins to the membrane or lumen using genetically encoded markers, or with dye-based approaches. The labeling approach used and resolution of your images can result in different staining outcomes that can impact the segmentation steps below. This is particularly important when trying to segment fine ER tubule structures. Higher resultion imaging or deconvolution may be beneficial to improve the segmentation outcomes.\n",
    "\n",
    "This workflow was optimized for images of fluorescently tagged Sec61-beta, a membrane protein. The fluorophore is localized to the luminal side of the ER in an effort to reduce overestimation of the the fine tubular structures that may occurring with a cytoplasmic facing tag. We have opted to include a two step segmentation method to segment the bulk of the ER using a combined global and local thresholding method as well as a method that focuses on tubular structures.\n",
    "\n",
    "***We advise that you test the segmentation process on a small, pilot dataset before committing to a particular labeling strategy and segmentation approach.***\n",
    "\n",
    "-----"
   ]
  },
  {
   "cell_type": "markdown",
   "metadata": {},
   "source": [
    "### 👣 **Summary of steps**  \n",
    "\n",
    "➡️ **EXTRACTION**\n",
    "- **`STEP 1`** - Select a channel for segmentation\n",
    "\n",
    "    - select single channel containing the ER marker (channel number = user input)\n",
    "\n",
    "**PRE-PROCESSING**\n",
    "- **`STEP 2`** - Rescale and smooth image\n",
    "\n",
    "  - rescale intensity of composite image (min=0, max=1)\n",
    "  - median filter (median size = user input)\n",
    "  - gaussian filter (sigma = user input)\n",
    "\n",
    "**CORE-PROCESSING**\n",
    "- **`STEP 3`** - Global + local thresholding (AICSSeg – MO)\n",
    "\n",
    "    - apply MO thresholding method from the Allen Cell [aicssegmentation](https://github.com/AllenCell/aics-segmentation) package (threshold options = user input)\n",
    "\n",
    "- **`STEP 4`** - ‘Filament’ threshold method (AICSSeg)\n",
    "\n",
    "  - apply \"filament\"/\"vessel\" thresholding method (for tubular objects) from the Allen Cell [aicssegmentation](https://github.com/AllenCell/aics-segmentation) package (size scale and threshold cutoff = user input)\n",
    "\n",
    "- **`STEP 5`** - Combine Segmentations (logical or)\n",
    "\n",
    "  - combine the two segmentations with logical *OR*\n",
    "\n",
    "**POST-PROCESSING**\n",
    "- **`STEP 6`** - Remove small holes and objects\n",
    "\n",
    "  - fill holes (hole size = user input)\n",
    "  - remove small objects (object size = user input)\n",
    "  - filter method (method = user input)\n",
    "\n",
    "**POST-POST-PROCESSING**\n",
    "- **`STEP 7`** - Create one object (as unt16)\n",
    "\n",
    "  - label all ER \"objects\" 1/True\n",
    "\n",
    "**EXPORT** ➡️ \n",
    "- save labeled ***ER*** (ER) as unsigned integer 16-bit tif files\n",
    "\n",
    "\n",
    "*The Allen Cell Segmenter procedure included an edge proserving smoothing method followed by the \"filament\" thresholding method (find the Sec61b script [here](https://github.com/AllenCell/aics-segmentation/blob/main/aicssegmentation/structure_wrapper/seg_sec61b.py)). We have opted to exclude the edge preserving smoothing method and also include to MO threshold method as it segments densely packed ER better*"
   ]
  },
  {
   "cell_type": "markdown",
   "metadata": {},
   "source": [
    "---------------------\n",
    "## **IMPORTS AND LOAD IMAGE**\n",
    "Details about the functions included in this subsection are outlined in the [`1.0_image_setup`](1.0_image_setup.ipynb) notebook. Please visit that notebook first if you are confused about any of the code included here."
   ]
  },
  {
   "cell_type": "markdown",
   "metadata": {},
   "source": [
    "#### &#x1F3C3; **Run code; no user input required**"
   ]
  },
  {
   "cell_type": "code",
   "execution_count": 1,
   "metadata": {},
   "outputs": [],
   "source": [
    "# top level imports\n",
    "from pathlib import Path\n",
    "import os\n",
    "\n",
    "import numpy as np\n",
    "import pandas as pd\n",
    "import napari\n",
    "from napari.utils.notebook_display import nbscreenshot\n",
    "\n",
    "from infer_subc.core.file_io import (read_czi_image,\n",
    "                                     export_inferred_organelle,\n",
    "                                     list_image_files,\n",
    "                                     sample_input)\n",
    "from infer_subc.core.img import *\n",
    " \n",
    "%load_ext autoreload\n",
    "%autoreload 2"
   ]
  },
  {
   "cell_type": "markdown",
   "metadata": {},
   "source": [
    "#### &#x1F6D1; &#x270D; **User Input Required:**\n",
    "\n",
    "Please specify the following information about your data: `im_type`, `data_root_path`, `in_data_path`, and `out_data_path`."
   ]
  },
  {
   "cell_type": "code",
   "execution_count": 2,
   "metadata": {},
   "outputs": [],
   "source": [
    "### USER INPUT REQUIRED ###\n",
    "# If using the sample data, select which cell type you would like analyze (\"neuron_1\", \"astrocyte\", \"neuron_2\" or \"ipsc\"):\n",
    "# If not using the sample data, set cell_type to None\n",
    "sample_data_type = \"neuron_1\"\n",
    "\n",
    "# Specify which file you'd like to segment from the img_file_list\n",
    "test_img_n = 0\n",
    "\n",
    "# If you are not using the sample data, please edit \"USER SPECIFIED\" as necessary.\n",
    "## Define the path to the directory that contains the input image folder.\n",
    "data_root_path = Path(\"USER SPECIFIED\")\n",
    "\n",
    "# Specify the file type of your raw data that will be analyzed. Ex) \".czi\" or \".tiff\"\n",
    "im_type = \"USER SPECIFIED\"\n",
    "\n",
    "## Specify which subfolder that contains the input data and the input data file extension\n",
    "in_data_path = data_root_path / \"USER SPECIFIED\"\n",
    "\n",
    "## Specify the output folder to save the segmentation outputs if.\n",
    "## If its not already created, the code below will creat it for you\n",
    "out_data_path = data_root_path / \"USER SPECIFIED\""
   ]
  },
  {
   "cell_type": "markdown",
   "metadata": {},
   "source": [
    "#### &#x1F3C3; **Run code; no user input required**"
   ]
  },
  {
   "cell_type": "code",
   "execution_count": 3,
   "metadata": {},
   "outputs": [
    {
     "data": {
      "text/html": [
       "<div>\n",
       "<style scoped>\n",
       "    .dataframe tbody tr th:only-of-type {\n",
       "        vertical-align: middle;\n",
       "    }\n",
       "\n",
       "    .dataframe tbody tr th {\n",
       "        vertical-align: top;\n",
       "    }\n",
       "\n",
       "    .dataframe thead th {\n",
       "        text-align: right;\n",
       "    }\n",
       "</style>\n",
       "<table border=\"1\" class=\"dataframe\">\n",
       "  <thead>\n",
       "    <tr style=\"text-align: right;\">\n",
       "      <th></th>\n",
       "      <th>Image Name</th>\n",
       "    </tr>\n",
       "  </thead>\n",
       "  <tbody>\n",
       "    <tr>\n",
       "      <th>0</th>\n",
       "      <td>c:\\Users\\redre\\Documents\\CohenLab\\scohen_lab_repo\\infer-subc\\sample_data\\example_neuron_1\\raw\\20230727_C2-121_conditioned_well 4_cell 1_untreated_Linear unmixing_0_cmle.ome.tiff</td>\n",
       "    </tr>\n",
       "  </tbody>\n",
       "</table>\n",
       "</div>"
      ],
      "text/plain": [
       "                                                                                                                                                                          Image Name\n",
       "0  c:\\Users\\redre\\Documents\\CohenLab\\scohen_lab_repo\\infer-subc\\sample_data\\example_neuron_1\\raw\\20230727_C2-121_conditioned_well 4_cell 1_untreated_Linear unmixing_0_cmle.ome.tiff"
      ]
     },
     "execution_count": 3,
     "metadata": {},
     "output_type": "execute_result"
    }
   ],
   "source": [
    "# If sample_data_type is set to \"neuron_1\", \"astrocyte\", \"neuron_2\" or \"ipsc\", then the sample data is used and the directories are set\n",
    "if sample_data_type != None:\n",
    "    data_root_path, im_type, in_data_path, out_data_path = sample_input(sample_data_type)\n",
    "\n",
    "# list files in the input folder\n",
    "img_file_list = list_image_files(in_data_path,im_type)\n",
    "pd.set_option('display.max_colwidth', None)\n",
    "pd.DataFrame({\"Image Name\":img_file_list})"
   ]
  },
  {
   "cell_type": "markdown",
   "metadata": {},
   "source": [
    "#### &#x1F6D1; &#x270D; **User Input Required:**\n",
    "\n",
    "Use the list above to specify which image you wish to analyze based on its index: `test_img_n`"
   ]
  },
  {
   "cell_type": "code",
   "execution_count": 4,
   "metadata": {},
   "outputs": [],
   "source": [
    "#### USER INPUT REQUIRED ###\n",
    "test_img_n = 0"
   ]
  },
  {
   "cell_type": "markdown",
   "metadata": {},
   "source": [
    "#### &#x1F3C3; **Run code; no user input required**"
   ]
  },
  {
   "cell_type": "code",
   "execution_count": 5,
   "metadata": {},
   "outputs": [
    {
     "name": "stdout",
     "output_type": "stream",
     "text": [
      "Metadata information\n",
      "File path: c:\\Users\\redre\\Documents\\CohenLab\\scohen_lab_repo\\infer-subc\\sample_data\\example_neuron_1\\raw\\20230727_C2-121_conditioned_well 4_cell 1_untreated_Linear unmixing_0_cmle.ome.tiff\n",
      "Channel 0 name: 20230727_C2-121_conditioned_well 4_cell 1_untreated_Linear unmixing_0_cmle.ome :: Channel:0\n",
      "Channel 1 name: 20230727_C2-121_conditioned_well 4_cell 1_untreated_Linear unmixing_0_cmle.ome :: Channel:1\n",
      "Channel 2 name: 20230727_C2-121_conditioned_well 4_cell 1_untreated_Linear unmixing_0_cmle.ome :: Channel:2\n",
      "Channel 3 name: 20230727_C2-121_conditioned_well 4_cell 1_untreated_Linear unmixing_0_cmle.ome :: Channel:3\n",
      "Channel 4 name: 20230727_C2-121_conditioned_well 4_cell 1_untreated_Linear unmixing_0_cmle.ome :: Channel:4\n",
      "Channel 5 name: 20230727_C2-121_conditioned_well 4_cell 1_untreated_Linear unmixing_0_cmle.ome :: Channel:5\n",
      "Scale (ZYX): (0.410594, 0.079947, 0.079947)\n",
      "Channel axis: 0\n",
      "\n",
      "Proceed to Napari window to view your selected image.\n"
     ]
    }
   ],
   "source": [
    "# load image and metadata\n",
    "test_img_name = img_file_list[test_img_n]\n",
    "img_data,meta_dict = read_czi_image(test_img_name)\n",
    "\n",
    "# metadata\n",
    "channel_names = meta_dict['name']\n",
    "meta = meta_dict['metadata']['aicsimage']\n",
    "scale = meta_dict['scale']\n",
    "channel_axis = meta_dict['channel_axis']\n",
    "file_path = meta_dict['file_name']\n",
    "print(\"Metadata information\")\n",
    "print(f\"File path: {file_path}\")\n",
    "for i in list(range(len(channel_names))):\n",
    "    print(f\"Channel {i} name: {channel_names[i]}\")\n",
    "print(f\"Scale (ZYX): {scale}\")\n",
    "print(f\"Channel axis: {channel_axis}\")\n",
    "\n",
    "# open viewer and add images\n",
    "viewer = napari.Viewer()\n",
    "for i in list(range(len(channel_names))):\n",
    "    viewer.add_image(img_data[i],\n",
    "                     scale=scale,\n",
    "                     name=f\"Channel {i}\")\n",
    "viewer.grid.enabled = True\n",
    "viewer.reset_view()\n",
    "print(\"\\nProceed to Napari window to view your selected image.\")"
   ]
  },
  {
   "cell_type": "markdown",
   "metadata": {},
   "source": [
    "-----\n",
    "\n",
    "## **EXTRACTION**"
   ]
  },
  {
   "cell_type": "markdown",
   "metadata": {},
   "source": [
    "### **`STEP 1` - Select a channel for segmentation**\n",
    "\n",
    "#### &#x1F6D1; &#x270D; **User Input Required:**\n",
    "\n",
    "Please specify which channel includes your ER label:\n",
    "- `ER_CH`: the index of the channel containing your ER label. Image indexing begin with 0, not 1. Reference the channel numbers indicated in the Napari window for easy reference.\n",
    "\n",
    "⚙️ **SAMPLE DATA SETTINGS**\n",
    "\n",
    "If using the sample data, here are the correct channel indices\n",
    "\n",
    "|**Cell type**|ER_CH| \n",
    "| :------------------------------------- |  :------:  |\n",
    "|Neuron 1|`1`|\n",
    "|Astrocyte|`1`|\n",
    "|Neuron 2|`0`|\n",
    "|IPSC|`6`|"
   ]
  },
  {
   "cell_type": "code",
   "execution_count": 6,
   "metadata": {},
   "outputs": [],
   "source": [
    "#### USER INPUT REQUIRED ###\n",
    "ER_CH = 1"
   ]
  },
  {
   "cell_type": "markdown",
   "metadata": {},
   "source": [
    "#### &#x1F3C3; **Run code; no user input required**\n",
    "\n",
    "&#x1F453; **FYI:** This code block extracts the ER channel from your multi- (or single) channel image. It will be the only part of the image used in the rest of this workflow. The single mitochondria channel is added to the Napari viewer."
   ]
  },
  {
   "cell_type": "code",
   "execution_count": 7,
   "metadata": {},
   "outputs": [
    {
     "data": {
      "text/plain": [
       "<Image layer '1 - Extract ER' at 0x244895b0040>"
      ]
     },
     "execution_count": 7,
     "metadata": {},
     "output_type": "execute_result"
    }
   ],
   "source": [
    "# select channel\n",
    "raw_ER = select_channel_from_raw(img_data, ER_CH)\n",
    "\n",
    "# clear napari and add single channel as a new layer\n",
    "viewer.layers.clear()\n",
    "viewer.grid.enabled = False\n",
    "viewer.add_image(raw_ER, scale=scale, name=\"1 - Extract ER\")"
   ]
  },
  {
   "cell_type": "markdown",
   "metadata": {},
   "source": [
    "-----\n",
    "## **PRE-PROCESSING**"
   ]
  },
  {
   "cell_type": "markdown",
   "metadata": {},
   "source": [
    "### **`STEP 2` - Rescale and smooth image**\n",
    "\n",
    "&#x1F453; **FYI:** This code block rescales the image so that the pixel/voxel with the highest intensity is set to 1 and the one with the lowest intensity is set to 0. The image is then *optionally* smoothed using a Gaussian and/or median filter. \n",
    "\n",
    "<mark> Include more information on the Gaussian and median filtering methods here </mark>\n",
    "\n",
    "#### &#x1F6D1; &#x270D; **User Input Required:**\n",
    "\n",
    "Please specify the amount of filter to use for each method. Higher values indicate more smoothing:\n",
    "- `median_filter_size`: the size of the median filter to apply; if 0 is used, no filter will be applied\n",
    "- `gaussian_smoothing_sigma`: the sigma to apply in the Gaussian filtering step; if 0 is used, no filter will be applied"
   ]
  },
  {
   "cell_type": "markdown",
   "metadata": {},
   "source": [
    "⚙️ **SAMPLE DATA SETTINGS**\n",
    "\n",
    "If using the sample data, here are the recommended parameters for each cell type\n",
    "\n",
    "|**Cell type**|median_filter_size|gaussian_smoothing_sigma| \n",
    "| :------------------------------------- |  :------:  |  :------:  |\n",
    "|Neuron 1|`0`|`0.0`|\n",
    "|Astrocyte|`0`|`0.0`|\n",
    "|Neuron 2|`0`|`0.0`|\n",
    "|IPSC|`0`|`0.0`|"
   ]
  },
  {
   "cell_type": "code",
   "execution_count": 8,
   "metadata": {},
   "outputs": [],
   "source": [
    "#### USER INPUT REQUIRED ###\n",
    "median_filter_size = 0\n",
    "gaussian_smoothing_sigma = 0.0"
   ]
  },
  {
   "cell_type": "markdown",
   "metadata": {},
   "source": [
    "#### &#x1F3C3; **Run code; no user input required**\n",
    "\n",
    "&#x1F453; **FYI:** This code block rescales the image and applies the specified median and Gaussian filters. The image is then added to Napari as a new layer for visual comparison to the input image. \n",
    "\n",
    "Use the Napari viewer to iteratively adjust the smoothing settings selected above."
   ]
  },
  {
   "cell_type": "code",
   "execution_count": 9,
   "metadata": {},
   "outputs": [
    {
     "data": {
      "text/plain": [
       "<Image layer '2 - Rescale and Smooth' at 0x244892827a0>"
      ]
     },
     "execution_count": 9,
     "metadata": {},
     "output_type": "execute_result"
    }
   ],
   "source": [
    "# rescaling and smoothing input image\n",
    "struct_img = scale_and_smooth(raw_ER,\n",
    "                              median_size = median_filter_size, \n",
    "                              gauss_sigma = gaussian_smoothing_sigma)\n",
    "\n",
    "# adding image to Napari as a new layer\n",
    "viewer.add_image(struct_img, scale=scale, name=\"2 - Rescale and Smooth\")"
   ]
  },
  {
   "cell_type": "markdown",
   "metadata": {},
   "source": [
    "-----\n",
    "## **CORE-PROCESSING**"
   ]
  },
  {
   "cell_type": "markdown",
   "metadata": {},
   "source": [
    "### **`STEP 3` - Global + local thresholding (AICSSeg – MO)**\n",
    "\n",
    "&#x1F453; **FYI:** This code block is the first of two semantic segmentation steps that are combined together in a later step. `Semantic segmentation` is the process of deciding whether a pixel/voxel should be included in an object (labeled with a value of 1) or should be considered as part of the background (labeled with a value of 0). A semantic segmentation does not discern individual objects from one another.\n",
    "\n",
    "The masked_object_filter utilizes the 'MO' filter from the [`aics-segmentation`](https://github.com/AllenCell/aics-segmentation) package. AICS documentation states: \"The algorithm is a hybrid thresholding method combining two levels of thresholds. The steps are: [1] a global threshold is calculated, [2] extract each individual connected componet after applying the global threshold, [3] remove small objects, [4] within each remaining object, a local Otsu threshold is calculated and applied with an optional local threshold adjustment ratio (to make the segmentation more and less conservative). An extra check can be used in step [4], which requires the local Otsu threshold larger than 1/3 of global Otsu threhsold and otherwise this connected component is discarded.\"\n",
    "\n",
    "#### &#x1F6D1; &#x270D; **User Input Required:**\n",
    "\n",
    "Please specify the following values:\n",
    "- `thresh_method`: the global thresholding method; options include 'tri'/'triangle, 'med'/'median' or 'ave'/'ave_tri_med'. Triangle implements the [skimage.filters.threshold_triangle](https://scikit-image.org/docs/stable/api/skimage.filters.html#skimage.filters.threshold_triangle) method, median utilizes the 50th percentile of the intensities, and ave uses the average of the two methods to calculate the lower bound of the global threshold.\n",
    "- `cell_wise_min_area`: the minimum expected size of your object; smaller objects will be removed prior to local thresholding\n",
    "- `thresh_adj`: adjustment to make to the local threshold; larger values make the segmentation more stringent (less area included)"
   ]
  },
  {
   "cell_type": "markdown",
   "metadata": {},
   "source": [
    "⚙️ **SAMPLE DATA SETTINGS**\n",
    "\n",
    "If using the sample data, here are the recommended parameters for each cell type\n",
    "\n",
    "|**Cell type**|thresh_method|cell_wise_min_area|thresh_adj|\n",
    "| :------------------------------------- |  :------:  |  :------:  |  :------:  |\n",
    "|Neuron 1|`'triangle'`|`1200`|`.5`|\n",
    "|Astrocyte|`'ave_tri_med'`|`1200`|`.5`|\n",
    "|Neuron 2|`'triangle'`|`1200`|`1.5`|\n",
    "|IPSC|`'triangle'`|`2000`|`0.8`|"
   ]
  },
  {
   "cell_type": "code",
   "execution_count": 10,
   "metadata": {},
   "outputs": [],
   "source": [
    "#### USER INPUT REQUIRED ###\n",
    "thresh_method = 'triangle'\n",
    "cell_wise_min_area = 1200\n",
    "thresh_adj = 0.5"
   ]
  },
  {
   "cell_type": "markdown",
   "metadata": {},
   "source": [
    "#### &#x1F3C3; **Run code; no user input required**\n",
    "\n",
    "&#x1F453; **FYI:** This code block executes the MO filter using the settings above.\n",
    "\n",
    "Use the Napari viewer to iteratively adjust the filter settings as needed."
   ]
  },
  {
   "cell_type": "code",
   "execution_count": 11,
   "metadata": {},
   "outputs": [
    {
     "data": {
      "text/plain": [
       "<Image layer '3 - MO filter' at 0x2448c2f7970>"
      ]
     },
     "execution_count": 11,
     "metadata": {},
     "output_type": "execute_result"
    }
   ],
   "source": [
    "# segment the ER with this global and local thresholding method\n",
    "bw_MO_test = masked_object_thresh(struct_img,\n",
    "                          global_method=thresh_method, \n",
    "                          cutoff_size=cell_wise_min_area, \n",
    "                          local_adjust=thresh_adj)\n",
    "\n",
    "# adding image to Napari as a new layer\n",
    "viewer.add_image(bw_MO_test, scale=scale, name=\"3 - MO filter\", opacity=0.3, colormap=\"cyan\", blending='additive')"
   ]
  },
  {
   "cell_type": "markdown",
   "metadata": {},
   "source": [
    "### **`STEP 4` - ‘Filament’ threshold method (AICSSeg)**\n",
    "\n",
    "&#x1F453; **FYI:** This code block is the second semantic segmentation step that will be combined with the dot filter results.\n",
    "\n",
    "The 'filament' filter is derived from the [`aics-segmentation`](https://github.com/AllenCell/aics-segmentation) package. It utilizes up to three scale (object size) and cutoff (threshold) pairs for objects of different size and intensity. This function is specifically designed to segment filamentous or tubular objects.\n",
    "\n",
    "#### &#x1F6D1; &#x270D; **User Input Required:**\n",
    "\n",
    "Please specify the scale and cutoff values for each pair:\n",
    "- `fil_scale_1`: the size scale for the first scale/cutoff pair; larger values correlate to selection of larger objects\n",
    "- `fil_cut_1`: the threshold cutoff value for the first scale/cutoff pair; small cutoffs tend to yield more dots that are larger in volume; larger cutoffs tend to yield less dots that are slimmer.\n",
    "- `fil_scale_2`: the size scale for the second scale/cutoff pair; this can be set to 0 if a second scale/cutoff pair isn't needed\n",
    "- `fil_cut_2`: the threshold cutoff value for the second scale/cutoff pair; this can be set to 0 if a second scale/cutoff pair isn't needed\n",
    "- `fil_scale_3`: the size scale for the third scale/cutoff pair; this can be set to 0 if a third scale/cutoff pair isn't needed\n",
    "- `fil_cut_3`: the threshold cutoff value for the third scale/cutoff pair; this can be set to 0 if a third scale/cutoff pair isn't needed\n",
    "- `fil_method`: \"3D\" processes the image taking into account intensities in three dimensions (XYZ); \"slice-by-slice\" processes each Z-slice in the image separately, not considering any intensity in higher or lower Z planes."
   ]
  },
  {
   "cell_type": "markdown",
   "metadata": {},
   "source": [
    "⚙️ **SAMPLE DATA SETTINGS**\n",
    "\n",
    "If using the sample data, here are the recommended parameters for each cell type\n",
    "\n",
    "|**Cell type**|fil_scale_1|fil_cut_1|fil_scale_2|fil_cut_2|fil_scale_3|fil_cut_3|fil_method|\n",
    "| :------------------------------------- |  :------:  |  :------:  |  :------:  |  :------:  |  :------:  |  :------:  |  :------:  |\n",
    "|Neuron 1|`1.5`|`0.001`|`1`|`0.001`|`0`|`0`|`\"3D\"`|\n",
    "|Astrocyte|`0.5`|`0.001`|`1`|`0.001`|`0`|`0`|`\"3D\"`|\n",
    "|Neuron 2|`1.0`|`0.03`|`0.5`|`0.02`|`0.2`|`0.02`|`\"slice_by_slice\"`|\n",
    "|IPSC|`2.0`|`0.07`|`1.0`|`0.007`|`0.5`|`0.005`|`\"slice_by_slice\"`|"
   ]
  },
  {
   "cell_type": "code",
   "execution_count": 12,
   "metadata": {},
   "outputs": [],
   "source": [
    "#### USER INPUT REQUIRED ###\n",
    "fil_scale_1 = 1.5\n",
    "fil_cut_1 = 0.001\n",
    "\n",
    "fil_scale_2 = 1\n",
    "fil_cut_2 = 0.001\n",
    "\n",
    "fil_scale_3 = 0\n",
    "fil_cut_3 = 0\n",
    "\n",
    "fil_method = \"3D\""
   ]
  },
  {
   "cell_type": "markdown",
   "metadata": {},
   "source": [
    "#### &#x1F3C3; **Run code; no user input required**\n",
    "\n",
    "&#x1F453; **FYI:** This code block executes the filament filter using the settings above.\n",
    "\n",
    "Use the Napari viewer to iteratively adjust the filter settings as needed. \n",
    "\n",
    "*Hint: it is helpful to adjust sellect the scale/cutoff filters one at a time and then combine them once each pair's settings are confirmed.*"
   ]
  },
  {
   "cell_type": "code",
   "execution_count": 13,
   "metadata": {},
   "outputs": [
    {
     "data": {
      "text/plain": [
       "<Image layer '4 - Filament filter' at 0x244930305e0>"
      ]
     },
     "execution_count": 13,
     "metadata": {},
     "output_type": "execute_result"
    }
   ],
   "source": [
    "# apply the 2D or 3D versions of the AICSsegmentation filament filter with multiple scales\n",
    "bw_filament_test = filament_filter_3(struct_img,\n",
    "                                    fil_scale_1,\n",
    "                                    fil_cut_1,\n",
    "                                    fil_scale_2,\n",
    "                                    fil_cut_2,\n",
    "                                    fil_scale_3,\n",
    "                                    fil_cut_3,\n",
    "                                    fil_method)\n",
    "\n",
    "# adding image to Napari as a new layer\n",
    "viewer.add_image(bw_filament_test, scale=scale, name=\"4 - Filament filter\", opacity=0.3, colormap=\"magenta\", blending='additive')"
   ]
  },
  {
   "cell_type": "markdown",
   "metadata": {},
   "source": [
    "### **`STEP 5` - Combine Segmentations**\n",
    "\n",
    "#### &#x1F3C3; **Run code; no user input required**\n",
    "\n",
    "&#x1F453; **FYI:** This code block combines the dot and filament filter outputs together using the \"logical or\" operation. The resulting semantic segmentation can be viewed in Napari."
   ]
  },
  {
   "cell_type": "code",
   "execution_count": 14,
   "metadata": {},
   "outputs": [
    {
     "data": {
      "text/plain": [
       "<Image layer '5 - Combined Semantic Segmentation' at 0x24493dedb40>"
      ]
     },
     "execution_count": 14,
     "metadata": {},
     "output_type": "execute_result"
    }
   ],
   "source": [
    "# combine the two segmentations together\n",
    "bw_test = np.logical_or(bw_MO_test, bw_filament_test)\n",
    "\n",
    "# adding image to Napari as a new layer\n",
    "viewer.add_image(bw_test, scale=scale, name=\"5 - Combined Semantic Segmentation\", colormap=\"green\")"
   ]
  },
  {
   "cell_type": "markdown",
   "metadata": {},
   "source": [
    "-----\n",
    "## **POST-PROCESSING**"
   ]
  },
  {
   "cell_type": "markdown",
   "metadata": {},
   "source": [
    "### **`STEP 6` - Remove small holes and objects**\n",
    "\n",
    "&#x1F453; **FYI:** This code block cleans up the semantic segmentation by filling small holes and/or removing small objects that can be considered errors in the initial segmentation. \n",
    "\n",
    "#### &#x1F6D1; &#x270D; **User Input Required:**\n",
    "\n",
    "Please specify the following values:\n",
    "- `hole_min_width`: the width of the smallest hole to be filled\n",
    "- `hole_max_width`: the width of the largest hole to be filled\n",
    "- `small_object_width`: the width of the largest object to be removed; any object smaller than this size will be removed\n",
    "- `fill_filter_method`: \"3D\" processes the image taking into account segmentation values in three dimensions (XYZ); \"slice-by-slice\" processes each Z-slice in the image separately, not considering the segmentation results in higher or lower Z planes."
   ]
  },
  {
   "cell_type": "markdown",
   "metadata": {},
   "source": [
    "⚙️ **SAMPLE DATA SETTINGS**\n",
    "\n",
    "If using the sample data, here are the recommended parameters for each cell type\n",
    "\n",
    "|**Cell type**|hole_min_width|hole_max_width|small_object_width|fill_filter_method|\n",
    "| :------------------------------------- |  :------:  |  :------:  |  :------:  |  :------:  |\n",
    "|Neuron 1|`0`|`0`|`1`|`\"3D\"`|\n",
    "|Astrocyte|`0`|`0`|`1`|`\"3D\"`|\n",
    "|Neuron 2|`0`|`0`|`0`|`\"3D\"`|\n",
    "|IPSC|`0`|`0`|`2`|`\"3D\"`|"
   ]
  },
  {
   "cell_type": "code",
   "execution_count": 15,
   "metadata": {},
   "outputs": [],
   "source": [
    "#### USER INPUT REQUIRED ###\n",
    "hole_min_width = 0\n",
    "hole_max_width = 0\n",
    "\n",
    "small_object_width = 1\n",
    "\n",
    "fill_filter_method = \"3D\""
   ]
  },
  {
   "cell_type": "markdown",
   "metadata": {},
   "source": [
    "#### &#x1F3C3; **Run code; no user input required**\n",
    "\n",
    "&#x1F453; **FYI:** This code block fills small holes and removes small objects using the settings above.\n",
    "\n",
    "Use the Napari viewer to iteratively adjust the filter settings as needed. \n",
    "\n",
    "*Hint: white pixels/voxels are the ones remaining after this step*"
   ]
  },
  {
   "cell_type": "code",
   "execution_count": 16,
   "metadata": {},
   "outputs": [
    {
     "data": {
      "text/plain": [
       "<Image layer '6 - Fill holes and remove small objects' at 0x24495762800>"
      ]
     },
     "execution_count": 16,
     "metadata": {},
     "output_type": "execute_result"
    }
   ],
   "source": [
    "# fill holes and removed small objects\n",
    "cleaned_img2 = fill_and_filter_linear_size(bw_test, \n",
    "                                           hole_min=hole_min_width, \n",
    "                                           hole_max=hole_max_width, \n",
    "                                           min_size=small_object_width,\n",
    "                                           method=fill_filter_method)\n",
    "\n",
    "# adding image to Napari as a new layer\n",
    "viewer.add_image(cleaned_img2, scale=scale, name=\"6 - Fill holes and remove small objects\", colormap=\"magenta\", blending=\"additive\")"
   ]
  },
  {
   "cell_type": "markdown",
   "metadata": {},
   "source": [
    "-----\n",
    "## **POST-POST-PROCESSING**"
   ]
  },
  {
   "cell_type": "markdown",
   "metadata": {},
   "source": [
    "## **`STEP 7` - Label objects**\n",
    "\n",
    "#### &#x1F3C3; **Run code; no user input required**\n",
    "&#x1F453; **FYI:** This code block created a 16-bit binary image where all ER objects are assigned the value of 1. This step is included because we are assuming that the ER is one continuous network.\n",
    "\n",
    "*In the Napari viewer, the image is added as a \"labels\" layer where each object appears as a different color. You should only see one colored object.*"
   ]
  },
  {
   "cell_type": "code",
   "execution_count": 17,
   "metadata": {},
   "outputs": [
    {
     "data": {
      "text/plain": [
       "<Labels layer '7 - Instance segmentation' at 0x24491f04b20>"
      ]
     },
     "execution_count": 17,
     "metadata": {},
     "output_type": "execute_result"
    }
   ],
   "source": [
    "# create binary image\n",
    "ER_labels = label_bool_as_uint16(cleaned_img2)\n",
    "\n",
    "# adding image to Napari as a new layer\n",
    "viewer.add_labels(ER_labels, scale=scale, name=\"7 - Instance segmentation\")"
   ]
  },
  {
   "cell_type": "markdown",
   "metadata": {},
   "source": [
    "-----\n",
    "## **SAVING**"
   ]
  },
  {
   "cell_type": "markdown",
   "metadata": {},
   "source": [
    "## **`Saving` - Save the segmentation output**\n",
    "\n",
    "#### &#x1F3C3; **Run code; no user input required**\n",
    "&#x1F453; **FYI:** This code block saves the instance segmentation output to the `out_data_path` specified earlier."
   ]
  },
  {
   "cell_type": "code",
   "execution_count": 18,
   "metadata": {},
   "outputs": [
    {
     "name": "stdout",
     "output_type": "stream",
     "text": [
      "saved file: 20230727_C2-121_conditioned_well 4_cell 1_untreated_Linear unmixing_0_cmle.ome-ER\n",
      "saved to: c:\\Users\\redre\\Documents\\CohenLab\\scohen_lab_repo\\infer-subc\\sample_data\\example_neuron_1\\seg\n"
     ]
    }
   ],
   "source": [
    "# Saving file\n",
    "out_file_n = export_inferred_organelle(ER_labels, \"ER\", meta_dict, out_data_path)\n",
    "print(f\"saved to: {out_data_path}\")"
   ]
  },
  {
   "cell_type": "markdown",
   "metadata": {},
   "source": [
    "-----\n",
    "-----\n",
    "## **Define `infer_ER()` function**\n",
    "The following code includes an example of how the workflow steps above are combined into one function. This function can be run below to process a single image. It is included in the [batch process notebook](batch_process_segmentations.ipynb) to run the above analysis on multiple cells. \n",
    "\n",
    "This function can utilized from infer-subc using: \n",
    "```python\n",
    "infer_subc.organelles.er.infer_ER()\n",
    "```\n",
    "\n",
    "#### &#x1F3C3; **Run code; no user input required**\n",
    "&#x1F453; **FYI:** This code block defines the `infer_ER()` function. It is applied below."
   ]
  },
  {
   "cell_type": "code",
   "execution_count": 19,
   "metadata": {},
   "outputs": [],
   "source": [
    "##########################\n",
    "#  infer_ER\n",
    "##########################\n",
    "def _infer_ER(\n",
    "              in_img: np.ndarray,\n",
    "              ER_ch: int,\n",
    "              median_sz: int,\n",
    "              gauss_sig: float,\n",
    "              MO_thresh_method: str,\n",
    "              MO_cutoff_size: float,\n",
    "              MO_thresh_adj: float,\n",
    "              fil_scale_1: float,\n",
    "              fil_cut_1: float,\n",
    "              fil_scale_2: float, \n",
    "              fil_cut_2: float, \n",
    "              fil_scale_3: float, \n",
    "              fil_cut_3: float,\n",
    "              fil_method: str,\n",
    "              min_hole_w: int,\n",
    "              max_hole_w: int,\n",
    "              small_obj_w: int,\n",
    "              fill_filter_method: str\n",
    "              ) -> np.ndarray:\n",
    "    \"\"\"\n",
    "    Procedure to infer peroxisome from linearly unmixed input.\n",
    "\n",
    "    Parameters\n",
    "    ------------\n",
    "    in_img: \n",
    "        a 3d image containing all the channels\n",
    "    median_sz: \n",
    "        width of median filter for signal\n",
    "    gauss_sig: \n",
    "        sigma for gaussian smoothing of  signal\n",
    "    filament_scale: \n",
    "        scale (log_sigma) for filament filter\n",
    "    filament_cut: \n",
    "        threshold for filament fitered threshold\n",
    "    small_obj_w: \n",
    "        minimu object size cutoff for nuclei post-processing\n",
    "    Returns\n",
    "    -------------\n",
    "    peroxi_object\n",
    "        mask defined extent of peroxisome object\n",
    "    \"\"\"\n",
    "\n",
    "    ###################\n",
    "    # EXTRACT\n",
    "    ###################    \n",
    "    ER = select_channel_from_raw(in_img, ER_ch)\n",
    "\n",
    "    ###################\n",
    "    # PRE_PROCESSING\n",
    "    ###################    \n",
    "    # er = normalized_edge_preserving_smoothing(er)\n",
    "    struct_img =  scale_and_smooth(ER,\n",
    "                                   median_size = median_sz, \n",
    "                                   gauss_sigma = gauss_sig)\n",
    "\n",
    "    ###################\n",
    "    # CORE_PROCESSING\n",
    "    ###################\n",
    "    bw1 = masked_object_thresh(struct_img, \n",
    "                                    global_method=MO_thresh_method, \n",
    "                                    cutoff_size=MO_cutoff_size, \n",
    "                                    local_adjust=MO_thresh_adj)\n",
    "\n",
    "    bw2 = filament_filter_3(struct_img, fil_scale_1, fil_cut_1, fil_scale_2, fil_cut_2, fil_scale_3, fil_cut_3, fil_method)\n",
    "\n",
    "    struct_obj = np.logical_or(bw1, bw2)\n",
    "    \n",
    "    ###################\n",
    "    # POST_PROCESSING\n",
    "    ################### \n",
    "    struct_obj = fill_and_filter_linear_size(struct_obj, \n",
    "                                             hole_min=min_hole_w, \n",
    "                                             hole_max=max_hole_w, \n",
    "                                             min_size=small_obj_w,\n",
    "                                             method=fill_filter_method)\n",
    "\n",
    "    ###################\n",
    "    # LABELING\n",
    "    ###################\n",
    "    \n",
    "    # ENSURE THAT there is ONLY ONE ER\n",
    "    struct_obj = label_bool_as_uint16(struct_obj)\n",
    "\n",
    "    return struct_obj "
   ]
  },
  {
   "cell_type": "markdown",
   "metadata": {},
   "source": [
    "#### &#x1F3C3; **Run code; no user input required**\n",
    "\n",
    "&#x1F453; **FYI:** This code block applies the function above to your test image. The settings specified above are applied here."
   ]
  },
  {
   "cell_type": "code",
   "execution_count": 20,
   "metadata": {},
   "outputs": [
    {
     "name": "stdout",
     "output_type": "stream",
     "text": [
      "The segmentation output here matches the output created above: True\n"
     ]
    },
    {
     "data": {
      "image/png": "[encoded data removed]",
      "text/html": [
       "<img src=\"data:image/png;base64,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\" alt=\"\"></img>"
      ],
      "text/plain": [
       "<napari.utils.notebook_display.NotebookScreenshot at 0x24496f2d570>"
      ]
     },
     "execution_count": 20,
     "metadata": {},
     "output_type": "execute_result"
    }
   ],
   "source": [
    "_ER_object =  _infer_ER(\n",
    "        img_data,\n",
    "        ER_CH,\n",
    "        median_filter_size,\n",
    "        gaussian_smoothing_sigma,\n",
    "        thresh_method,\n",
    "        cell_wise_min_area,\n",
    "        thresh_adj,\n",
    "        fil_scale_1,\n",
    "        fil_cut_1,\n",
    "        fil_scale_2,\n",
    "        fil_cut_2,\n",
    "        fil_scale_3,\n",
    "        fil_cut_3,\n",
    "        fil_method,\n",
    "        hole_min_width,\n",
    "        hole_max_width,\n",
    "        small_object_width,\n",
    "        fill_filter_method)\n",
    "\n",
    "#confirm this output matches the output saved above\n",
    "print(f\"The segmentation output here matches the output created above: {np.all(ER_labels == _ER_object)}\")\n",
    "\n",
    "# adding image to Napari as a new layer\n",
    "viewer.add_labels(_ER_object, scale=scale, name=\"infer_ER() output\")\n",
    "viewer.grid.enabled = True\n",
    "viewer.reset_view()\n",
    "\n",
    "# screenshot viewer\n",
    "nbscreenshot(viewer, canvas_only = False)"
   ]
  },
  {
   "cell_type": "markdown",
   "metadata": {},
   "source": [
    "-------------\n",
    "### ✅ **INFER ER COMPLETE!**\n",
    "\n",
    "Continue on to other notebooks as needed:\n",
    "- Infer [`lysosomes`](1.2_infer_lysosome.ipynb)\n",
    "- Infer [`mitochondria`](1.3_infer_mitochondria.ipynb)\n",
    "- Infer [`golgi`](1.4_infer_golgi.ipynb)\n",
    "- Infer [`peroxisomes`](1.5_infer_peroxisome.ipynb)\n",
    "- Infer [`lipid droplets`](1.7_infer_lipid_droplet.ipynb)\n",
    "\n",
    "Or proceed to batch processing here: [batch process notebook](batch_process_segmentations.ipynb)"
   ]
  }
 ],
 "metadata": {
  "kernelspec": {
   "display_name": "infer-subc-sc",
   "language": "python",
   "name": "python3"
  },
  "language_info": {
   "codemirror_mode": {
    "name": "ipython",
    "version": 3
   },
   "file_extension": ".py",
   "mimetype": "text/x-python",
   "name": "python",
   "nbconvert_exporter": "python",
   "pygments_lexer": "ipython3",
   "version": "3.10.15"
  },
  "orig_nbformat": 4
 },
 "nbformat": 4,
 "nbformat_minor": 2
}
