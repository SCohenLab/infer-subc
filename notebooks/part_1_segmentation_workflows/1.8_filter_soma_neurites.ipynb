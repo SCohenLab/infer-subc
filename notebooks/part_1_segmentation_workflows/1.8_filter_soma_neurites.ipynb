{
 "cells": [
  {
   "cell_type": "markdown",
   "id": "56633a13",
   "metadata": {},
   "source": [
    "# **Filter Soma And Neurites From Cellmask**\n",
    "\n",
    "***Prior to this notebook, you should have already run through [1.0_image_setup](1.0_image_setup.ipynb) and [1.1_infer_masks](1.1_infer_masks_from-composite_with_nuc.ipynb), [1.1a_infer_masks](1.1a_infer_masks_from-composite_single_cell.ipynb), or [1.1b_infer_masks](1.1b_infer_masks_from-composite_multiple-cells.ipynb).***\n",
    "\n",
    "### ➡️ **Input:**\n",
    "In this workflow, the neuron cellmask segmentation will be used to \"infer\" the locations of the soma (or cell body) and the neurites as separate objects based on their shape. No intensity images are necessary for this workflow.\n",
    "\n",
    "### 🍃 **Soma vs Neurites**\n",
    "Neurons are morphologically complex cell types containing mulitple subcellular regions that each carry out specific functions. One basic subregion classification discernable in most confocal microscopy images of a neuron is the distinction between the soma (or cell body) and the neurites (e.g., dendrites and axons). Here, the segmentation of the neurites from the soma is included to enable downstream comparisons of organelles between subregions.\n",
    "\n",
    "Organelle morphology, distribution, and interactions have been shown to be distinct between different functional regions of cells. For example, the morphological differences in mitochondria between the soma and neurites of a neuron show larger mitochondria volume in neurites than in the soma of the same cell [[1](https://pmc.ncbi.nlm.nih.gov/articles/PMC8423436/)]. Golgi have also been shown to differ in distribution throughout a neuron at different stages of neuronal development as the golgi engages in dendritic golgi translocation, eventually leaving golgi outposts during neuronal maturation [[2](https://doi.org/10.1016/j.celrep.2023.112709)]. Moreover, the interactions between ribosomes and the endoplasmic reticulum are more abundant in the soma and dendrites of neurons as compared to that of the axon [[3](https://pmc.ncbi.nlm.nih.gov/articles/PMC8143122/)].\n",
    "\n",
    "Comparing across distinct subregions enables specific phenotypes underlying cellular physiology to be linked to morphologically distinct subregions of cells. The organelle morphology, interactions, and distribution measurements carried out in [Part 2](/notebooks/part_2_quantification/) are carried out and summarized for the entire cell and within each subregion as part of the Organelle Signature Analysis.\n",
    "\n",
    "\n",
    "-----"
   ]
  },
  {
   "cell_type": "markdown",
   "id": "d13f88a4",
   "metadata": {},
   "source": [
    "### 👣 **Summary of steps**  \n",
    "\n",
    "➡️ **EXTRACTION**\n",
    "- **`STEP 1`** - Read in cellmask\n",
    "\n",
    "    - Determine whether cellmask file contains nucleus mask or not\n",
    "    - If cellmask file contains nucleus mask, choose the layer without the nucleus mask\n",
    "\n",
    "**PRE-PROCESSING**\n",
    "- **`STEP 2`** - Rescale cellmask image\n",
    "    \n",
    "    - Rescale the cell mask to half its original size to reduce upcoming computational and memory requirements\n",
    "\n",
    "- **`STEP 3`** - Determine soma radius\n",
    "\n",
    "    - Determine range of possible radii\n",
    "    - Create a saucer using radius in middle of radii range to serve as a footprint\n",
    "    - Apply an erosion to rescaled mask using the saucer & determine remaining volume\n",
    "        - If no remaining volume, remove all radii above the used radii from radii range\n",
    "        - If there is remaining volume, remove all radii below used radii from radii range \n",
    "    - Repeat until 1 or 2 values remain in the radii range\n",
    "\n",
    "**CORE PROCESSING**\n",
    "- **`STEP 4`** Segment the soma from cellmask\n",
    "\n",
    "    - Use determined radius to create a new saucer\n",
    "    - Apply an erosion using the saucer to the original cellmask\n",
    "    - Dilate from post-erosion remaining values using the saucer\n",
    "    - Re-mask image with original cellmask segmentation\n",
    "\n",
    "- **`STEP 5`** Segment neurites from cellmask\n",
    "\n",
    "    - Multiply original cellmask and the inverse of the newly made soma mask to get neurite mask\n",
    "    - Remove small outcrops and loose specks\n",
    "\n",
    "**POST-PROCESSING**\n",
    "- **`STEP 6`** Clean soma segmentation\n",
    "\n",
    "    - Multiply original cellmask and the inverse of the newly made neurite mask to get small outcrops\n",
    "    - Remove loose specks\n",
    "\n",
    "- **`STEP 7`** Clean neurites segmentation\n",
    "\n",
    "    - Multiply original cellmask and the inverse of the newly cleaned soma mask to get neurites\n",
    "    - Remove loose specks\n",
    "\n",
    "**EXPORT** ➡️\n",
    "- **`STEP 8`** - Stack masks\n",
    "\n",
    "    - Stack masks in order of soma, neurites mask\n",
    "\n",
    "<mark> New STEPS:\n",
    "\n",
    "extraction\n",
    "\n",
    "1) Extraction of CH\n",
    "\n",
    "preprocessing\n",
    "\n",
    "2) Radii calc\n",
    "    - Encode radius into cell label\n",
    "\n",
    "core\n",
    "\n",
    "3) Initial soma segmentation\n",
    "4) Initial Neurite segmentation\n",
    "\n",
    "postprocessing\n",
    "\n",
    "5) Cleaned Soma segmentation\n",
    "    - Ensure you relabel the somas here using cellmask as mask\n",
    "6) Cleaned Neurite segmentation\n",
    "    - Ensure you relabel the neurites here using cellmask as a mask\n",
    "    - newneurites = label(apply_mask(neurites, mask))+newneurites for mask in cellmask\n",
    "    - <mark> test on sampledata with crossing neurites associated to different cells, may need to draw a fake one\n",
    "\n",
    "post postprocessing\n",
    "\n",
    "7) Stack 5 & 6"
   ]
  },
  {
   "cell_type": "markdown",
   "id": "9fcde10f",
   "metadata": {},
   "source": [
    "---------------------\n",
    "## **IMPORTS AND LOAD IMAGE**\n",
    "Details about the functions included in this subsection are outlined in the [`1.0_image_setup`](1.0_image_setup.ipynb) notebook. Please visit that notebook first if you are confused about any of the code included here."
   ]
  },
  {
   "cell_type": "markdown",
   "id": "cc1c5968",
   "metadata": {},
   "source": [
    "#### &#x1F3C3; **Run code; no user input required**"
   ]
  },
  {
   "cell_type": "code",
   "execution_count": null,
   "id": "1143afd3",
   "metadata": {},
   "outputs": [],
   "source": [
    "from pathlib import Path\n",
    "import os, sys\n",
    "import numpy as np\n",
    "from infer_subc.core.file_io import (list_image_files, \n",
    "                                     read_czi_image, \n",
    "                                     read_tiff_image,\n",
    "                                     export_inferred_organelle)\n",
    "from infer_subc.utils.batch import find_segmentation_tiff_files\n",
    "from infer_subc.core.img import size_filter_linear_size\n",
    "\n",
    "import napari\n",
    "from napari.utils.notebook_display import nbscreenshot\n",
    "from skimage.morphology import isotropic_opening, isotropic_dilation, isotropic_erosion, binary_opening, binary_dilation, binary_erosion, disk, ball\n",
    "from skimage.measure import label\n",
    "from scipy.ndimage import zoom\n",
    "import pandas as pd"
   ]
  },
  {
   "cell_type": "markdown",
   "id": "24b67402",
   "metadata": {},
   "source": [
    "#### &#x1F6D1; &#x270D; **User Input Required:**\n",
    "\n",
    "Please specify the following information about your data: `im_type`, `data_root_path`, `in_data_path`, and `out_data_path`."
   ]
  },
  {
   "cell_type": "code",
   "execution_count": null,
   "id": "9f146cda",
   "metadata": {},
   "outputs": [],
   "source": [
    "#### USER INPUT REQUIRED ###\n",
    "im_type = \".tiff\"\n",
    "# data_root_path = Path(os.path.expanduser(\"~\")) / \"Documents/Python Scripts/Infer-subc-2D\"\n",
    "# in_data_path = Path(\"C:/Users/zscoman/Documents/Python Scripts/Infer-subc-2D/neurites/segmentations\")\n",
    "# out_data_path = Path(\"C:/Users/zscoman/Documents/Python Scripts/Infer-subc-2D/neurites/segmentations/out\")\n",
    "\n",
    "data_root_path = Path(os.path.expanduser(\"~\")) / \"Documents/Python Scripts/Infer-subc-2D/neurites\"\n",
    "in_data_path = data_root_path / \"raw\"\n",
    "out_data_path = data_root_path / \"segmentations\""
   ]
  },
  {
   "cell_type": "markdown",
   "id": "2542ab4e",
   "metadata": {},
   "source": [
    "#### &#x1F3C3; **Run code; no user input required**"
   ]
  },
  {
   "cell_type": "code",
   "execution_count": null,
   "id": "b8efa41a",
   "metadata": {},
   "outputs": [],
   "source": [
    "# list files in the input folder\n",
    "img_file_list = list_image_files(in_data_path,im_type)\n",
    "pd.set_option('display.max_colwidth', None)\n",
    "pd.DataFrame({\"Image Name\":img_file_list})"
   ]
  },
  {
   "cell_type": "markdown",
   "id": "7ef9951d",
   "metadata": {},
   "source": [
    "#### &#x1F6D1; &#x270D; **User Input Required:**\n",
    "\n",
    "Use the list above to specify which image you wish to analyze based on its index: `test_img_n`"
   ]
  },
  {
   "cell_type": "code",
   "execution_count": null,
   "id": "f41662bf",
   "metadata": {},
   "outputs": [],
   "source": [
    "#### USER INPUT REQUIRED ###\n",
    "test_img_n = 0"
   ]
  },
  {
   "cell_type": "markdown",
   "id": "ad79d67d",
   "metadata": {},
   "source": [
    "#### &#x1F3C3; **Run code; no user input required**"
   ]
  },
  {
   "cell_type": "code",
   "execution_count": null,
   "id": "c867300d",
   "metadata": {},
   "outputs": [],
   "source": [
    "# load image and metadata\n",
    "test_img_name = img_file_list[test_img_n]\n",
    "img_data,meta_dict = read_czi_image(test_img_name)\n",
    "\n",
    "# metadata\n",
    "channel_names = meta_dict['name']\n",
    "meta = meta_dict['metadata']['aicsimage']\n",
    "scale = meta_dict['scale']\n",
    "channel_axis = meta_dict['channel_axis']\n",
    "file_path = meta_dict['file_name']\n",
    "print(\"Metadata information\")\n",
    "print(f\"File path: {file_path}\")\n",
    "for i in list(range(len(channel_names))):\n",
    "    print(f\"Channel {i} name: {channel_names[i]}\")\n",
    "print(f\"Scale (ZYX): {scale}\")\n",
    "print(f\"Channel axis: {channel_axis}\")\n",
    "\n",
    "# open viewer and add images\n",
    "viewer = napari.Viewer()\n",
    "for i in list(range(len(channel_names))):\n",
    "    viewer.add_image(img_data[i],\n",
    "                     scale=scale,\n",
    "                     name=f\"Channel {i}\")\n",
    "    \n",
    "cellmask = read_tiff_image(find_segmentation_tiff_files(file_path, ['cell'], out_data_path, '-')['cell'])\n",
    "viewer.add_labels(cellmask, scale=scale, name=\"cellmask\")\n",
    "viewer.grid.enabled = True\n",
    "viewer.reset_view()\n",
    "print(\"\\nProceed to Napari window to view your selected raw image.\")"
   ]
  },
  {
   "cell_type": "markdown",
   "id": "7903fc7b",
   "metadata": {},
   "source": [
    "-----\n",
    "\n",
    "## **EXTRACTION**"
   ]
  },
  {
   "cell_type": "markdown",
   "id": "9222d160",
   "metadata": {},
   "source": [
    "### **`STEP 1` - Read in Cell Mask**\n",
    "\n",
    "#### &#x1F6D1; &#x270D; **User Input Required:**\n",
    "\n",
    "Please determine whether the cellmask file has both the nucleus and the cellmask within it.\n",
    "- `nuc_present`: a True/False statement of whether the cellmask file contains the nucleus mask\n",
    "If the cellmask does contain the nucleus mask, we will automatically collect only channel 0 (which should be the cellmask)\n",
    "- `chan`: an int for the channel the cellmask is located in within the cellmask file for files with both the nucleus and cellmask stacked together. If nuc_present is set to False, this value can be ignored"
   ]
  },
  {
   "cell_type": "code",
   "execution_count": null,
   "id": "60c1d83f",
   "metadata": {},
   "outputs": [],
   "source": [
    "#### USER INPUT REQUIRED ###\n",
    "multichannel_input = False\n",
    "chan = 0"
   ]
  },
  {
   "cell_type": "markdown",
   "id": "19ca3464",
   "metadata": {},
   "source": [
    "#### &#x1F3C3; **Run code; no user input required**\n",
    "\n",
    "&#x1F453; **FYI:** This code block extracts the cell mask from the cell mask and nucleus mask combined image. It will be the only part of the original image used in the rest of this workflow. The cell mask channel is added to the Napari viewer."
   ]
  },
  {
   "cell_type": "code",
   "execution_count": null,
   "id": "b2bda16f",
   "metadata": {},
   "outputs": [],
   "source": [
    "if multichannel_input:\n",
    "    cell_mask = cellmask[chan]\n",
    "    viewer.add_image(cell_mask, name=\"Cell Mask\", scale=scale)\n",
    "else:\n",
    "    cell_mask = cellmask\n",
    "    viewer.add_image(cell_mask, name=\"Cell Mask\", scale=scale)"
   ]
  },
  {
   "cell_type": "markdown",
   "id": "fad57a6d",
   "metadata": {},
   "source": [
    "-----\n",
    "## **PRE-PROCESSING**"
   ]
  },
  {
   "cell_type": "markdown",
   "id": "8c1b666c",
   "metadata": {},
   "source": [
    "### **`STEP 2` - Calculate Radii of Cell(s)**"
   ]
  },
  {
   "cell_type": "markdown",
   "id": "9911f971",
   "metadata": {},
   "source": [
    "<mark> choose binary or isotropic, include info here"
   ]
  },
  {
   "cell_type": "code",
   "execution_count": null,
   "id": "b080d26e",
   "metadata": {},
   "outputs": [],
   "source": [
    "# Options are 'isotropic' or 'binary'\n",
    "method = 'binary'"
   ]
  },
  {
   "cell_type": "markdown",
   "id": "84302470",
   "metadata": {},
   "source": [
    "<mark> calculates optimal radius based on chosen method, then saves that radius to the value of the individual cell\n",
    "\n",
    "<mark> output is an image that is nonzero in the same areas as the input image, but has the nonzero label equal to the determined optimal radius"
   ]
  },
  {
   "cell_type": "code",
   "execution_count": null,
   "id": "a8f2f38a",
   "metadata": {},
   "outputs": [],
   "source": [
    "radii_mask = np.zeros_like(cell_mask)\n",
    "cell_mask_resize = zoom(cell_mask.copy(), (1, 0.5, 0.5))\n",
    "zz, yy, xx = np.shape(cell_mask_resize)\n",
    "rad_range = [i+1 for i in list(range(yy // 2))]\n",
    "for cell_num in np.unique(label(cell_mask_resize)[cell_mask_resize != 0]):\n",
    "    rad_range = [i+1 for i in list(range(yy // 2))] #determines a range of radii to test for each cell\n",
    "    test_img = np.zeros_like(cell_mask_resize)\n",
    "    test_img[cell_mask_resize == cell_num] = 1\n",
    "    if method == 'isotropic':\n",
    "        while len(rad_range) > 2:\n",
    "            rad = rad_range[((len(rad_range)) // 2)]\n",
    "            print(f\"Trying radius of {rad}\")\n",
    "            if np.array_equal(isotropic_erosion(test_img.copy(), rad), np.zeros_like(test_img)):\n",
    "                rad_range = rad_range[:(rad_range.index(rad))]\n",
    "                print(f\"{rad} is too large\")\n",
    "            else:\n",
    "                rad_range = rad_range[(rad_range.index(rad)+1):]\n",
    "                print(f\"{rad} is too small\")\n",
    "            print(f\"{len(rad_range)} possible radii remaining\")\n",
    "    elif method == 'binary':\n",
    "        while len(rad_range) > 2:\n",
    "            rad = rad_range[((len(rad_range)) // 2)]\n",
    "            print(f\"Trying radius of {rad}\")\n",
    "            edge = disk(rad//4)\n",
    "            middle = disk(rad)\n",
    "            w = (np.shape(middle)[0] - np.shape(edge)[0])//2\n",
    "            edge = np.pad(edge, ((w,w),(w,w)), mode = 'constant', constant_values=0)\n",
    "            fp = np.stack((edge, middle, edge))\n",
    "            if np.array_equal(binary_erosion(test_img, fp), np.zeros_like(test_img)):\n",
    "                rad_range = rad_range[:(rad_range.index(rad))]\n",
    "                print(f\"{rad} is too large\")\n",
    "            else:\n",
    "                rad_range = rad_range[(rad_range.index(rad)+1):]\n",
    "                print(f\"{rad} is too small\")\n",
    "            print(f\"{len(rad_range)} possible radii remaining\")\n",
    "\n",
    "    if len(rad_range) == 1:\n",
    "        opti_rad = rad_range[0]//2\n",
    "    elif len(rad_range) == 2:\n",
    "        opti_rad = (rad_range[0] + rad_range[1])//4\n",
    "\n",
    "    radii_mask[label(cell_mask) == cell_num] = opti_rad*((10**len(str(len(np.unique(label(cell_mask_resize)[cell_mask_resize != 0]))))) + cell_num)"
   ]
  },
  {
   "cell_type": "markdown",
   "id": "db27a836",
   "metadata": {},
   "source": [
    "-----\n",
    "## **CORE-PROCESSING**"
   ]
  },
  {
   "cell_type": "markdown",
   "id": "ebc13f8f",
   "metadata": {},
   "source": [
    "### **`STEP 3` - Segment Initial Soma Mask**"
   ]
  },
  {
   "cell_type": "code",
   "execution_count": null,
   "id": "c964da27",
   "metadata": {},
   "outputs": [],
   "source": [
    "soma_img_solo = np.zeros_like(cell_mask)\n",
    "soma_out_1 = np.zeros_like(cell_mask)\n",
    "for cell_num in np.unique(label(cell_mask)[cell_mask != 0]):\n",
    "    soma_img_solo[label(cell_mask) == cell_num] = 1\n",
    "\n",
    "    opti_rad = np.unique(radii_mask[label(cell_mask) == cell_num])\n",
    "    opti_rad = (opti_rad - cell_num) / (10**len(str(len(np.unique(label(cell_mask_resize)[cell_mask_resize != 0])))))\n",
    "\n",
    "    if method == 'isotropic':\n",
    "        neurites_removed = isotropic_opening(soma_img_solo, opti_rad)\n",
    "        soma_initial = isotropic_dilation(neurites_removed, (opti_rad)) * cell_mask[cell_mask == cell_num]\n",
    "    elif method == 'binary':\n",
    "        edge = disk(opti_rad//2)\n",
    "        middle = disk(opti_rad)\n",
    "        w = (np.shape(middle)[0] - np.shape(edge)[0])//2\n",
    "        edge = np.pad(edge, ((w,w),(w,w)), mode = 'constant', constant_values=0)\n",
    "        fp = np.stack((edge, middle, edge))\n",
    "        neurites_removed = binary_opening(soma_img_solo, fp)\n",
    "        soma_initial = binary_dilation(neurites_removed, footprint=ball((opti_rad)//2)) * cell_mask[cell_mask == cell_num]\n",
    "    else: \n",
    "        raise ValueError(f\"method of {method} was given, but only 'isotropic' or 'binary' is allowed.\")\n",
    "\n",
    "    soma_out_1[label(cell_mask) == cell_num] = soma_initial[label(cell_mask) == cell_num] * cell_num #ensures that the only spot changed is the target cell\n",
    "viewer.add_labels(soma_out_1, scale=scale, name=\"Initial Soma Segmentations\", opacity=0.3, colormap=\"magenta\", blending='additive')"
   ]
  },
  {
   "cell_type": "markdown",
   "id": "c7dfa4b2",
   "metadata": {},
   "source": [
    "### **`STEP 4` - Segment Initial Neurite Mask**"
   ]
  },
  {
   "cell_type": "code",
   "execution_count": null,
   "id": "f1a098d1",
   "metadata": {},
   "outputs": [],
   "source": [
    "neurites_out_1 = np.zeros_like(cell_mask)\n",
    "for cell_num in np.unique(label(cell_mask)[cell_mask != 0]):\n",
    "    opti_rad = np.unique(radii_mask[label(cell_mask) == cell_num])\n",
    "    opti_rad = (opti_rad - cell_num) / (10**len(str(len(np.unique(label(cell_mask_resize)[cell_mask_resize != 0])))))\n",
    "\n",
    "    if method == 'isotropic':\n",
    "        neurites1 = np.invert(soma_out_1[soma_out_1 > 0].astype(bool), dtype=bool) * cell_mask[cell_mask==cell_num]\n",
    "        neurites1 = size_filter_linear_size(img=label(neurites1), min_size=(opti_rad*2), method='3D')               #objects below a certain size are not considered neurites initially \n",
    "    elif method == 'binary':\n",
    "        neurites1 = np.invert(soma_out_1[soma_out_1 > 0].astype(bool), dtype=bool) * cell_mask[cell_mask==cell_num]\n",
    "        neurites1 = size_filter_linear_size(img=label(neurites1), min_size=(opti_rad//2), method='3D')              #objects below a certain size are not considered neurites initially\n",
    "    else: \n",
    "        raise ValueError(f\"method of {method} was given, but only 'isotropic' or 'binary' is allowed.\")\n",
    "    neurites_out_1[label(cell_mask) == cell_num] = label(neurites1[label(cell_mask) == cell_num]) * ((10**len(str(len(np.unique(label(cell_mask)[cell_mask != 0]))))) + cell_num)#ensures that the only spot changed is the target cell\n",
    "\n",
    "viewer.add_labels(neurites_out_1, scale=scale, name=\"Initial Neurite Segmentations\", opacity=0.3, blending='additive')"
   ]
  },
  {
   "cell_type": "markdown",
   "id": "b5f1f9ef",
   "metadata": {},
   "source": [
    "-----\n",
    "## **POST-PROCESSING**"
   ]
  },
  {
   "cell_type": "markdown",
   "id": "3e9cdd33",
   "metadata": {},
   "source": [
    "### **`STEP 5` - Cleaned Soma Segmentation**"
   ]
  },
  {
   "cell_type": "code",
   "execution_count": null,
   "id": "6124d687",
   "metadata": {},
   "outputs": [],
   "source": [
    "soma_out_2 = np.zeros_like(cell_mask)\n",
    "for cell_num in np.unique(label(cell_mask)[cell_mask != 0]):\n",
    "    neurites = neurites_out_1[(neurites_out_1 % (10**len(str(len(np.unique(label(cell_mask)[cell_mask != 0])))))) == cell_num]\n",
    "    soma = label(np.invert(neurites.astype(bool), dtype=bool) * cell_mask[cell_mask == cell_num])\n",
    "    soma[soma!=np.bincount(np.ravel(soma)[np.ravel(soma)!= 0]).argmax()] = 0\n",
    "    soma_out_2[cell_mask == cell_num] = label(soma[cell_mask == cell_num]) * cell_num\n",
    "    soma_out_2 = label(soma_out_2)\n",
    "    \n",
    "viewer.add_image(soma_out_2, scale=scale, name=\"Cleaned Soma Segmentation\", colormap=\"green\", blending='additive')"
   ]
  },
  {
   "cell_type": "markdown",
   "id": "1def5e36",
   "metadata": {},
   "source": [
    "### **`STEP 6` - Cleaned Neurite Segmentation**"
   ]
  },
  {
   "cell_type": "code",
   "execution_count": null,
   "id": "5d0b61c2",
   "metadata": {},
   "outputs": [],
   "source": [
    "neurites_out_2 = np.zeros_like(cell_mask)\n",
    "for cell_num in np.unique(label(cell_mask)[cell_mask != 0]):\n",
    "    neurites = np.invert(soma_out_2[soma_out_2 > 0].astype(bool), dtype=bool) * cell_mask[cell_mask == cell_num]\n",
    "    neurites_out_2[label(cell_mask) == cell_num] = label(neurites[label(cell_mask) == cell_num]) * ((10**len(str(len(np.unique(label(cell_mask)[cell_mask != 0]))))) + cell_num) #ensures that the only spot changed is the target cell\n",
    "    neurites_out_2 = label(neurites_out_2)\n",
    "\n",
    "viewer.add_labels(neurites_out_2, scale=scale, name=\"Cleaned Neurite Segmentations\", opacity=0.3, blending='additive')"
   ]
  },
  {
   "cell_type": "markdown",
   "id": "3245ae3e",
   "metadata": {},
   "source": [
    "-----\n",
    "## Old Code"
   ]
  },
  {
   "cell_type": "markdown",
   "id": "b8b4d933",
   "metadata": {},
   "source": [
    "### **`STEP 2` - Rescale cellmask image**\n",
    "\n",
    "#### &#x1F3C3; **Run code; no user input required**\n",
    "&#x1F453; **FYI:** This code block rescales the image so that the memory and computational load of determining the radius is reduced. "
   ]
  },
  {
   "cell_type": "code",
   "execution_count": null,
   "id": "624982aa",
   "metadata": {},
   "outputs": [],
   "source": [
    "cell_mask_resize = zoom(cell_mask.copy(), (1, 0.5, 0.5))"
   ]
  },
  {
   "cell_type": "markdown",
   "id": "a8b90506",
   "metadata": {},
   "source": [
    "### **`STEP 3` - Determine Soma Radius**\n",
    "\n",
    "#### &#x1F6D1; &#x270D; **User Input Required:**\n",
    "\n",
    "Decide whether to use isotropic or binary methods. Isotropic methods are more memory and time efficient; however, they are more likely to undersegment the soma as compared to binary methods. Binary methods are more likely to oversegment the soma as compared to the isotropic methods, so they should be used if having the initial segment of the neurites included in the soma region is desired.\n",
    "\n",
    "The binary method uses a saucer-like shape as the footprint; whereas the isotropic method uses a spherical shape as the footprint. The \"saucer\" is comprised of 3 2-Dimensional disks stacked into a 3-Dimensional space whereas the ball assumes the same number of voxels wide as it is tall and deep.\n",
    "\n",
    "The radius is used to recreate a saucer or sphere for the actual segmentation of the soma from the neurites in the following step.\n",
    "\n",
    "<mark> add details of what each is and why you would pick one or the other, be specific"
   ]
  },
  {
   "cell_type": "code",
   "execution_count": null,
   "id": "db116cb4",
   "metadata": {},
   "outputs": [],
   "source": [
    "# Options are 'isotropic' or 'binary'\n",
    "method = 'binary'"
   ]
  },
  {
   "cell_type": "markdown",
   "id": "db4c19a7",
   "metadata": {},
   "source": [
    "#### &#x1F3C3; **Run code; no user input required**\n",
    "&#x1F453; **FYI:** This code block contains a loop that continues until there are only 1 or 2 values remaining in the radii range. \n",
    "\n",
    "First, the block of code creates a range of possible radii. These radii are then sorted through by checking the efficacy of the radius in the middle of the range of possible radii, and removing either all radii above the tested radius value or below the tested radius value from the list. The above process is repeated until there are only 1 or 2 values remaining in the radii range.\n",
    "\n",
    "The way that the code checks the efficacy of the radius in the range is either developing a version of the \"saucer\" that will be used to segment the soma and neurites from the cell mask or using an isotropic erosion method to segment the soma from the cellmask via a sphere. The \"saucer\" is comprised of 3 2-Dimensional disks stacked into a 3-Dimensional space. The top and bottom disk are set to a shorter radius than the center disk. \n",
    "\n",
    "The efficacy of the radius is deemed as whether the radius results in an absence of cell mask or not. If there is an absence of cell mask, the radius is deemed too large, and it alongside all radii above it are removed from the possible radii. If there is no absence of cell mask, the radius is deemed too small, and all radii that are below it are removed from the possible radii. This process repeats until there are only 1 or 2 possible radii remaining, at which point, the average radius of the remaining radii is selected, and divided by 2.\n",
    "\n",
    "<mark> in preparation for multiple cells, calculate and save the radii as the intensity values\n",
    "\n",
    "<mark> for instances with 2 objects with same radius, you do the same as you did for declumping with radius of 100 being 1100 and 2100"
   ]
  },
  {
   "cell_type": "code",
   "execution_count": null,
   "id": "c555c39f",
   "metadata": {},
   "outputs": [],
   "source": [
    "zz, yy, xx = np.shape(cell_mask_resize)\n",
    "rad_range = [i+1 for i in list(range(yy // 2))]\n",
    "\n",
    "if method == 'isotropic':\n",
    "    while len(rad_range) > 2:\n",
    "        rad = rad_range[((len(rad_range)) // 2)]\n",
    "        print(f\"Trying radius of {rad}\")\n",
    "        if np.array_equal(isotropic_erosion(cell_mask_resize.copy(), rad), np.zeros_like(cell_mask_resize)):\n",
    "            rad_range = rad_range[:(rad_range.index(rad))]\n",
    "            print(f\"{rad} is too large\")\n",
    "        else:\n",
    "            rad_range = rad_range[(rad_range.index(rad)+1):]\n",
    "            print(f\"{rad} is too small\")\n",
    "        print(f\"{len(rad_range)} possible radii remaining\")\n",
    "elif method == 'binary':\n",
    "    while len(rad_range) > 2:\n",
    "        rad = rad_range[((len(rad_range)) // 2)]\n",
    "        print(f\"Trying radius of {rad}\")\n",
    "        edge = disk(rad//4)\n",
    "        middle = disk(rad)\n",
    "        w = (np.shape(middle)[0] - np.shape(edge)[0])//2\n",
    "        edge = np.pad(edge, ((w,w),(w,w)), mode = 'constant', constant_values=0)\n",
    "        fp = np.stack((edge, middle, edge))\n",
    "        if np.array_equal(binary_erosion(cell_mask_resize, fp), np.zeros_like(cell_mask_resize)):\n",
    "            rad_range = rad_range[:(rad_range.index(rad))]\n",
    "            print(f\"{rad} is too large\")\n",
    "        else:\n",
    "            rad_range = rad_range[(rad_range.index(rad)+1):]\n",
    "            print(f\"{rad} is too small\")\n",
    "        print(f\"{len(rad_range)} possible radii remaining\")\n",
    "else:\n",
    "    raise ValueError(f\"method of {method} was given, but only 'isotropic' or 'binary' is allowed.\")\n",
    "\n",
    "if len(rad_range) == 1:\n",
    "    opti_rad = rad_range[0]//2\n",
    "elif len(rad_range) == 2:\n",
    "    opti_rad = (rad_range[0] + rad_range[1])//4"
   ]
  },
  {
   "cell_type": "markdown",
   "id": "8150425b",
   "metadata": {},
   "source": [
    "-----\n",
    "## **CORE-PROCESSING**"
   ]
  },
  {
   "cell_type": "markdown",
   "id": "eae4738e",
   "metadata": {},
   "source": [
    "### **`STEP 4` - Segmenting the Soma from the Cell Mask**\n",
    "\n",
    "#### &#x1F3C3; **Run code; no user input required**\n",
    "&#x1F453; **FYI:** This code block uses the radius found in the previous step to segment the soma from the original cell mask.\n",
    "\n",
    "This is done either by creating a \"saucer\" that will be used to segment the soma and neurites from the cell mask or applying an isotropic opening and dilation of the cell mask with a sphere. The \"saucer\" is comprised of 3 2-Dimensional disks stacked into a 3-Dimensional space. The top and bottom disk are set to a shorter radius than the center disk. \n",
    "\n",
    "While code in this step is similar to that of step 3, this step uses the enlarged version of the cell mask, not the resized version used for the determination of the optimal radius.\n",
    "\n",
    "Afterwards, the soma segmentation is added to Napari for visualization."
   ]
  },
  {
   "cell_type": "code",
   "execution_count": null,
   "id": "fb036a4d",
   "metadata": {},
   "outputs": [],
   "source": [
    "if method == 'isotropic':\n",
    "    neurites_removed = isotropic_opening(cell_mask, opti_rad)\n",
    "    soma1 = isotropic_dilation(neurites_removed, (opti_rad)) * cell_mask\n",
    "elif method == 'binary':\n",
    "    edge = disk(opti_rad//2)\n",
    "    middle = disk(opti_rad)\n",
    "    w = (np.shape(middle)[0] - np.shape(edge)[0])//2\n",
    "    edge = np.pad(edge, ((w,w),(w,w)), mode = 'constant', constant_values=0)\n",
    "    fp = np.stack((edge, middle, edge))\n",
    "    neurites_removed = binary_opening(cell_mask, fp)\n",
    "    soma1 = binary_dilation(neurites_removed, footprint=ball((opti_rad)//2)) * cell_mask\n",
    "else: \n",
    "    raise ValueError(f\"method of {method} was given, but only 'isotropic' or 'binary' is allowed.\")\n",
    "\n",
    "viewer.add_image(soma1, scale=scale, name=\"Initial Soma Segmentation\", opacity=0.3, colormap=\"magenta\", blending='additive')"
   ]
  },
  {
   "cell_type": "markdown",
   "id": "e6d1aa6f",
   "metadata": {},
   "source": [
    "### **`STEP 5` - Segmenting the Neurites from the Cell Mask**\n",
    "\n",
    "#### &#x1F3C3; **Run code; no user input required**\n",
    "&#x1F453; **FYI:** This code block uses the inverse of the soma found in the previous step to segment the neurites from the original cell mask.\n",
    "\n",
    "Afterwards, the neurite mask is added to napari for visualization."
   ]
  },
  {
   "cell_type": "code",
   "execution_count": null,
   "id": "95fafc3a",
   "metadata": {},
   "outputs": [],
   "source": [
    "if method == 'isotropic':\n",
    "    neurites1 = np.invert(soma1.astype(bool), dtype=bool) * cell_mask\n",
    "    neurites1 = size_filter_linear_size(img=label(neurites1), min_size=(opti_rad*2), method='3D')\n",
    "elif method == 'binary':\n",
    "    neurites1 = np.invert(soma1.astype(bool), dtype=bool) * cell_mask\n",
    "    neurites1 = size_filter_linear_size(img=label(neurites1), min_size=(opti_rad//2), method='3D')\n",
    "else: \n",
    "    raise ValueError(f\"method of {method} was given, but only 'isotropic' or 'binary' is allowed.\")\n",
    "\n",
    "\n",
    "viewer.add_image(neurites1, scale=scale, name=\"Initial Neurite Segmentation\", opacity=0.3, colormap=\"magenta\", blending='additive')"
   ]
  },
  {
   "cell_type": "markdown",
   "id": "e0a57085",
   "metadata": {},
   "source": [
    "-----\n",
    "## **POST-PROCESSING**"
   ]
  },
  {
   "cell_type": "markdown",
   "id": "2ac2f36e",
   "metadata": {},
   "source": [
    "### **`STEP 6` - Cleaning the Soma Segmentation**\n",
    "\n",
    "#### &#x1F3C3; **Run code; no user input required**\n",
    "&#x1F453; **FYI:** This code block adds the removed parts of the neurites back to the soma mask, then removes anything not connected to the soma mask."
   ]
  },
  {
   "cell_type": "code",
   "execution_count": null,
   "id": "c06f0068",
   "metadata": {},
   "outputs": [],
   "source": [
    "soma = label(np.invert(neurites1.astype(bool), dtype=bool) * cell_mask)\n",
    "soma[soma!=np.bincount(np.ravel(soma)[np.ravel(soma)!= 0]).argmax()] = 0\n",
    "soma = label(soma)\n",
    "\n",
    "viewer.add_image(soma, scale=scale, name=\"Cleaned Soma Segmentation\", colormap=\"green\", blending='additive')"
   ]
  },
  {
   "cell_type": "markdown",
   "id": "5e6f552a",
   "metadata": {},
   "source": [
    "### **`STEP 7` - Cleaning the Neurites Segmentation**\n",
    "\n",
    "<mark> do not remove anything from image!!!\n",
    "\n",
    "#### &#x1F3C3; **Run code; no user input required**\n",
    "&#x1F453; **FYI:** This code block adds the removed parts of the soma mask back to the neurites mask, then removes objects below a certain size."
   ]
  },
  {
   "cell_type": "code",
   "execution_count": null,
   "id": "6abd7430",
   "metadata": {},
   "outputs": [],
   "source": [
    "if method == 'isotropic':\n",
    "    neurites = np.invert(soma.astype(bool), dtype=bool) * cell_mask\n",
    "    neurites = size_filter_linear_size(img=label(neurites), min_size=(opti_rad*2), method='3D')\n",
    "    neurites = label(neurites)\n",
    "elif method == 'binary':\n",
    "    neurites = np.invert(soma.astype(bool), dtype=bool) * cell_mask\n",
    "    neurites = size_filter_linear_size(img=label(neurites), min_size=(opti_rad//2), method='3D')\n",
    "    neurites = label(neurites)\n",
    "else: \n",
    "    raise ValueError(f\"method of {method} was given, but only 'isotropic' or 'binary' is allowed.\")\n",
    "\n",
    "\n",
    "viewer.add_image(neurites, scale=scale, name=\"Cleaned Neurite Segmentation\", colormap=\"magenta\", blending='additive')"
   ]
  },
  {
   "cell_type": "markdown",
   "id": "430359bb",
   "metadata": {},
   "source": [
    "-----\n",
    "## **EXPORT**"
   ]
  },
  {
   "cell_type": "markdown",
   "id": "a49ae9cd",
   "metadata": {},
   "source": [
    "### **`STEP 8` - Stacking Soma and Neurites**\n",
    "\n",
    "#### &#x1F3C3; **Run code; no user input required**\n",
    "&#x1F453; **FYI:** This code block stacks the soma mask and the neurites mask into one numpy array for ease of exporting."
   ]
  },
  {
   "cell_type": "code",
   "execution_count": null,
   "id": "f8e8020e",
   "metadata": {},
   "outputs": [],
   "source": [
    "som_neu = np.stack([soma, neurites])\n",
    "viewer.add_image(som_neu, scale=scale)"
   ]
  },
  {
   "cell_type": "markdown",
   "id": "001f3ad5",
   "metadata": {},
   "source": [
    "-----\n",
    "## **SAVING**"
   ]
  },
  {
   "cell_type": "markdown",
   "id": "69f2d0bb",
   "metadata": {},
   "source": [
    "## **`Saving` - Save the segmentation output**\n",
    "\n",
    "#### &#x1F3C3; **Run code; no user input required**\n",
    "&#x1F453; **FYI:** This code block saves the instance segmentation output to the `out_data_path` specified earlier."
   ]
  },
  {
   "cell_type": "code",
   "execution_count": null,
   "id": "135110be",
   "metadata": {},
   "outputs": [],
   "source": [
    "# Saving file\n",
    "out_file_n = export_inferred_organelle(som_neu, \"soma_neurites\", meta_dict, out_data_path)\n",
    "print(f\"saved to: {out_data_path}\")"
   ]
  },
  {
   "cell_type": "markdown",
   "id": "21eef2dc",
   "metadata": {},
   "source": [
    "-----\n",
    "-----\n",
    "## **Define `filter_soma_neurites()` function**\n",
    "The following code includes an example of how the workflow steps above are combined into one function. This function can be run below to process a single image. It is included in the <mark>batch process notebook</mark> to run the above analysis on multiple cells. "
   ]
  },
  {
   "cell_type": "markdown",
   "id": "5e1ef96f",
   "metadata": {},
   "source": [
    "#### &#x1F3C3; **Run code; no user input required**\n",
    "\n",
    "### Define Function to Find Radii\n",
    "find_rad will take a pre-zoomed image and output the radius for the neurites based on this image. Rather than using a while loop, this function acts as a recursive function to improve memory usage and speed of the computational tasks. "
   ]
  },
  {
   "cell_type": "code",
   "execution_count": null,
   "id": "23ef940c",
   "metadata": {},
   "outputs": [],
   "source": [
    "def find_rad(in_seg: np.ndarray, method: str, rad_range: list = []) -> int:\n",
    "    if rad_range == []:                             # Setup of rad range\n",
    "        zz, yy, xx = np.shape(in_seg)                   # Determines width of the image\n",
    "        rad_range = [i+1 for i in list(range(yy // 4))] # Uses the width of the image to determine the possible radii\n",
    "                                                        # Must be smaller than half the size of the image\n",
    "    if len(rad_range) == 1:                         # If the rad range has only 1 value\n",
    "        return rad_range[0]//2                          # Sets rad range value / 2 as output\n",
    "    elif len(rad_range) == 2:                       # If the rad range has 2 values\n",
    "        return rad_range[1]//2                          # Sets the larger rad range value / 2 as output\n",
    "    \n",
    "    if method == 'binary':\n",
    "        rad = rad_range[((len(rad_range)) // 2)]        # Checks middle of rad range\n",
    "        print(f\"Trying radius of {rad}\")                # Updates user on progress\n",
    "        ################################################################################################################################\n",
    "        # Creates a \"Saucer\" shape for filtering (see side profile below)\n",
    "        #\n",
    "        #    D   Z\n",
    "        #    E 2 | 001111100\n",
    "        #    P 1 | 111111111\n",
    "        #    T 0 | 001111100\n",
    "        #    H   +----------- Y\n",
    "        #          012345678\n",
    "        #            WIDTH\n",
    "        #\n",
    "        edge = disk(rad//4)                                                     # Top & Bottom of Saucer\n",
    "        middle = disk(rad)                                                      # Middle of Saucer\n",
    "        w = (np.shape(middle)[0] - np.shape(edge)[0])//2                        # Determines distance between edge & middle saucer radii\n",
    "        edge = np.pad(edge, ((w,w),(w,w)), mode = 'constant', constant_values=0)# Adds emptiness to ensure saucer is equal dimensions\n",
    "        #                                Saucer components are combined:\n",
    "        fp = np.stack((edge,            #          0001111000\n",
    "                    middle,             #          1111111111\n",
    "                    edge))              #          0001111000   \n",
    "        ################################################################################################################################\n",
    "        if np.array_equal((binary_erosion(in_seg, fp)), np.zeros_like(in_seg)): # If nothing remains after erosion\n",
    "            rad_range = rad_range[:(rad_range.index(rad))]                          # Remove this radius and all larger radii from rad range\n",
    "            print(f\"{rad} is too large\")                                            # Status update\n",
    "        else:                                                                   # If something remains after erosion\n",
    "            rad_range = rad_range[(rad_range.index(rad)+1):]                        # Remove all smaller radii from rad range\n",
    "            print(f\"{rad} is too small\")                                            # Status update\n",
    "        print(f\"{len(rad_range)} possible radii remaining\")                     # Status update\n",
    "    elif method == 'isotropic':\n",
    "        rad = rad_range[((len(rad_range)) // 2)]\n",
    "        print(f\"Trying radius of {rad}\")\n",
    "        if np.array_equal(isotropic_erosion(in_seg.copy(), rad), np.zeros_like(in_seg)):\n",
    "            rad_range = rad_range[:(rad_range.index(rad))]\n",
    "            print(f\"{rad} is too large\")\n",
    "        else:\n",
    "            rad_range = rad_range[(rad_range.index(rad)+1):]\n",
    "            print(f\"{rad} is too small\")\n",
    "        print(f\"{len(rad_range)} possible radii remaining\")\n",
    "    return find_rad(in_seg, method, rad_range)                                      # Try a different radius"
   ]
  },
  {
   "cell_type": "markdown",
   "id": "585cd266",
   "metadata": {},
   "source": [
    "#### &#x1F3C3; **Run code; no user input required**\n",
    "\n",
    "### Define Function to Segment Soma & Neurites\n",
    "filter_soma_neurites takes in a mask segmentation and outputs a stacked numpy array containing the soma and the neurites in different channels."
   ]
  },
  {
   "cell_type": "code",
   "execution_count": null,
   "id": "fdab74ff",
   "metadata": {},
   "outputs": [],
   "source": [
    "def filter_soma_neurites(in_seg: np.ndarray, nuc_present: bool=False, chan: int=0, method: str='binary'):\n",
    "    if nuc_present:\n",
    "        in_seg = in_seg[chan]\n",
    "        \n",
    "    cell_mask = zoom(in_seg, (1, 0.5, 0.5)) # Make easier on memory\n",
    "    \n",
    "    rad = find_rad(cell_mask, method=method) # Find Radius\n",
    "    print(f\"Radius of {rad} found\")\n",
    "    if method == 'binary':\n",
    "        ################################################################################################################################\n",
    "        # Creates a \"Saucer\" shape for filtering (see side profile below)\n",
    "        #\n",
    "        #    D   Z\n",
    "        #    E 2 | 001111100\n",
    "        #    P 1 | 111111111\n",
    "        #    T 0 | 001111100\n",
    "        #    H   +----------- Y\n",
    "        #          012345678\n",
    "        #            WIDTH\n",
    "        #\n",
    "        edge = disk(rad//2)                                                     # Top & Bottom of Saucer\n",
    "        middle = disk(rad)                                                      # Middle of Saucer\n",
    "        w = (np.shape(middle)[0] - np.shape(edge)[0])//2                        # Determines distance between edge & middle saucer radii\n",
    "        edge = np.pad(edge, ((w,w),(w,w)), mode ='constant', constant_values=0) # Adds emptiness to ensure saucer is equal dimensions\n",
    "        #                                Saucer components are combined:\n",
    "        fp = np.stack((edge,            #          0001111000\n",
    "                    middle,             #          1111111111\n",
    "                    edge))              #          0001111000                                   \n",
    "        #################################################################################################################################\n",
    "\n",
    "        nr1 = binary_opening(in_seg, fp)                                # Opening of original image occurs w/ saucer as footprint\n",
    "        soma = binary_dilation(nr1, footprint=ball((rad)//2)) * in_seg  # Dilation of opened image occurs, masked by original image\n",
    "        neurites = np.invert(soma.astype(bool), dtype=bool) * in_seg    # Determination of the neurites from missing values of in_img\n",
    "        neurites = size_filter_linear_size(img=label(neurites), min_size=(rad//2), method='3D') # Removes small undesired segments\n",
    "        soma = label(np.invert(neurites.astype(bool), dtype=bool) * in_seg) # Determination of the soma from missing values of in_img in neurites\n",
    "        soma[soma!=np.bincount(np.ravel(soma)[np.ravel(soma)!= 0]).argmax()] = 0 # Ensures all values of the soma are the same value\n",
    "        neurites = np.invert(soma.astype(bool), dtype=bool) * in_seg # Redetermines the neurites from missing values of segmented soma\n",
    "        neurites = size_filter_linear_size(img=label(neurites), min_size=(rad//2), method='3D') # Once again removes small undesired segments\n",
    "    elif method == 'isotropic':\n",
    "        nr1 = isotropic_opening(in_seg, rad)\n",
    "        soma = isotropic_dilation(nr1, (rad)) * in_seg\n",
    "        neurites = np.invert(soma.astype(bool), dtype=bool) * in_seg\n",
    "        neurites = size_filter_linear_size(img=label(neurites), min_size=(rad*2), method='3D')\n",
    "        soma = label(np.invert(neurites.astype(bool), dtype=bool) * in_seg) # Determination of the soma from missing values of in_img in neurites\n",
    "        soma[soma!=np.bincount(np.ravel(soma)[np.ravel(soma)!= 0]).argmax()] = 0 # Ensures all values of the soma are the same value\n",
    "        neurites = np.invert(soma.astype(bool), dtype=bool) * in_seg # Redetermines the neurites from missing values of segmented soma\n",
    "        neurites = size_filter_linear_size(img=label(neurites), min_size=(rad*2), method='3D') # Once again removes small undesired segments\n",
    "    return np.stack([label(soma), label(neurites)]) #Relabels soma and neurites for outputs and stacks soma into channel 0 and neurites into 1"
   ]
  },
  {
   "cell_type": "code",
   "execution_count": null,
   "id": "ed2c5c4f",
   "metadata": {},
   "outputs": [],
   "source": [
    "somneu = filter_soma_neurites(cell_mask, method=method)\n",
    "\n",
    "#confirm this output matches the output saved above\n",
    "print(f\"The segmentation output here matches the output created above: {np.all(somneu == som_neu)}\")\n",
    "\n",
    "# adding image to Napari as a new layer\n",
    "viewer.add_labels(somneu, scale=scale, name=\"filter_soma_neurites() output\")\n",
    "viewer.grid.enabled = True\n",
    "viewer.reset_view()\n",
    "\n",
    "# screenshot viewer\n",
    "nbscreenshot(viewer, canvas_only = False)"
   ]
  }
 ],
 "metadata": {
  "kernelspec": {
   "display_name": "infer-subc",
   "language": "python",
   "name": "python3"
  },
  "language_info": {
   "codemirror_mode": {
    "name": "ipython",
    "version": 3
   },
   "file_extension": ".py",
   "mimetype": "text/x-python",
   "name": "python",
   "nbconvert_exporter": "python",
   "pygments_lexer": "ipython3",
   "version": "3.10.13"
  }
 },
 "nbformat": 4,
 "nbformat_minor": 5
}
