{
 "cells": [
  {
   "attachments": {},
   "cell_type": "markdown",
   "metadata": {},
   "source": [
    "# PUTATIVE WORKFLOW\n",
    "\n",
    "\n",
    "## WORKFLOW EDITOR PLUGIN\n",
    "- FINE-TUNE SEGMENTATIONS\n",
    "  - export workflow.jsons\n",
    "    - masks:\n",
    "      - nuclei\n",
    "      - cellmask\n",
    "      - cytoplasm\n",
    "    - organelles:\n",
    "      - lyso\n",
    "      - mito\n",
    "      - golgi\n",
    "      - perox\n",
    "      - ER\n",
    "      - LD\n",
    "\n",
    "\n",
    "## BATCHPROCESS WORKFLOW\n",
    "- BATCH PROCESS\n",
    "  - load workflow.jsons for: \n",
    "  1. masks\n",
    "    - export: masks .tiff as stack (nuclei, cellmask, cytoplasm)\n",
    "  2. organelles\n",
    "    - export individual .tiffs\n",
    "\n",
    "\n",
    "\n",
    "## NOTEBOOK ~~OR ***FUTURE*** PLUGIN~~\n",
    "- COLLECT ORGANELLE STATS\n",
    "  - extract masks.tiffs as individual\n",
    "    - nuclei, cellmask, cytoplasm\n",
    "  - collect regionprops for all organelles\n",
    "    - export .csvs\n",
    "\n",
    "\n",
    "## NOTEBOOK ~~OR __FUTURE__ PLUGIN~~\n",
    "- SUMMARIZE STUDY DATA\n",
    "  - munge .csv to create summary stats across all cells/images\n",
    "\n",
    "\n"
   ]
  },
  {
   "attachments": {},
   "cell_type": "markdown",
   "metadata": {},
   "source": [
    "_____________\n",
    "\n",
    "## TO DO\n",
    "- add \"segmentation name\" field instead of copying from workflow.json name\n",
    "\n",
    "\n",
    "- choose alternate conf_XXX.json location. \n",
    "  - strategy:  add to \"prebuilt\" list from path\n",
    "\n",
    "\n",
    "  \n",
    "  ## FILE NAME CONVENTIONS\n",
    "\n",
    "  raw file name is kept.\n",
    "\n",
    "  PREFIX = \"segmentation name\" or regionprop name.  e.g. \n",
    "  SUFFIX = \"description\" i.e. "
   ]
  },
  {
   "cell_type": "code",
   "execution_count": 1,
   "metadata": {},
   "outputs": [],
   "source": [
    "# top level imports\n",
    "from pathlib import Path\n",
    "import os, sys\n",
    "from typing import Optional, Union, Dict, List\n",
    "\n",
    "import numpy as np\n",
    "import pandas as pd\n",
    "\n",
    "import napari\n",
    "\n",
    "### import local python functions in ../infer_subc\n",
    "sys.path.append(os.path.abspath((os.path.join(os.getcwd(), '..'))))\n",
    "\n",
    "from infer_subc.core.file_io import (read_czi_image,\n",
    "                                        export_inferred_organelle,\n",
    "                                        import_inferred_organelle,\n",
    "                                        export_tiff,\n",
    "                                        list_image_files)\n",
    "\n",
    "\n",
    "\n",
    "from infer_subc.constants import *\n",
    "from infer_subc.utils.stats import *\n",
    "from infer_subc.utils.stats_helpers import *\n",
    "\n",
    "\n",
    "\n",
    "import time\n",
    "%load_ext autoreload\n",
    "%autoreload 2\n",
    "\n"
   ]
  },
  {
   "cell_type": "code",
   "execution_count": 2,
   "metadata": {},
   "outputs": [],
   "source": [
    "# this will be the example image for testing the pipeline below\n",
    "# build the datapath\n",
    "# all the imaging data goes here.\n",
    "data_root_path = Path(os.path.expanduser(\"~\")) / \"Projects/Imaging/data\"\n",
    "\n",
    "# linearly unmixed \".czi\" files are here\n",
    "int_data_path = data_root_path / \"raw\"\n",
    "im_type = \".czi\"\n",
    "\n",
    "# get the list of all files\n",
    "img_file_list = list_image_files(int_data_path,im_type)\n",
    "\n",
    "# save output \".tiff\" files here\n",
    "out_data_path = data_root_path / \"out\"\n",
    "\n",
    "if not Path.exists(out_data_path):\n",
    "    Path.mkdir(out_data_path)\n",
    "    print(f\"making {out_data_path}\")"
   ]
  },
  {
   "cell_type": "code",
   "execution_count": 3,
   "metadata": {},
   "outputs": [
    {
     "data": {
      "text/plain": [
       "PosixPath('/Users/ergonyc/Projects/Imaging/data/raw/ZSTACK_PBTOhNGN2hiPSCs_BR1_N14_Unmixed.czi')"
      ]
     },
     "execution_count": 3,
     "metadata": {},
     "output_type": "execute_result"
    }
   ],
   "source": [
    "im_path = Path(img_file_list[0])\n",
    "im_path"
   ]
  },
  {
   "cell_type": "code",
   "execution_count": null,
   "metadata": {},
   "outputs": [],
   "source": []
  },
  {
   "attachments": {},
   "cell_type": "markdown",
   "metadata": {},
   "source": [
    "## 1. get each unique cells accouding to filename\n",
    "\n",
    "\n",
    "### extract ID. e.g.\n",
    "\n",
    "### process each cell & summarize\n",
    "\n",
    "\n",
    "\n",
    "## 2. aggregate all cells into a database "
   ]
  },
  {
   "cell_type": "code",
   "execution_count": 4,
   "metadata": {},
   "outputs": [],
   "source": [
    "full_name = im_path.name\n",
    "\n",
    "cell_ids = [ Path(fn).stem.split(\"-\")[0] for fn in img_file_list]\n",
    "cell_ids = list(set(cell_ids))\n",
    "\n",
    "masks_postfix = \"masks2\"\n",
    "organelle_postfix = [\"lyso\", \"mito\",\"golgi\",\"perox\",\"ER\",\"LD\"]\n",
    "\n",
    "\n",
    "\n",
    "\n",
    "# function to get masks, and organeles\n",
    "\n",
    "def gather_segmentations(file_id:str, path_root: Path, masks_postfix: str, organelle_postfix: List[str] ) -> List[np.ndarray]:\n",
    "    \"\"\"\n",
    "    \n",
    "\n",
    "    \"\"\"\n",
    "    pass\n",
    "\n",
    "\n",
    "    # create filename ID \n",
    "\n",
    "\n",
    "    # "
   ]
  },
  {
   "cell_type": "code",
   "execution_count": 5,
   "metadata": {},
   "outputs": [],
   "source": [
    "# MASK process\n",
    "# 1. get a listof all files based on a \"prefix\" and \"suffix\" for a given path\n",
    "# dump three .tiff from teh mask multichannel tiff\n",
    "# from tifffile import imwrite, imread#, tiffcomment\n",
    "from infer_subc.core.img import label_uint16\n",
    "from infer_subc.core.file_io import export_tiff, read_tiff_image\n",
    "from typing import Union\n",
    "from pathlib import Path\n",
    "\n",
    "def _explode_mask(mask_path: Union[Path,str], postfix: str= \"masks\", im_type: str = \".tiff\") -> bool:\n",
    "    \"\"\" \n",
    "    TODO: add loggin instead of printing\n",
    "        append tiffcomments with provenance\n",
    "    \"\"\"\n",
    "    if isinstance(mask_path, str): mask_path = Path(mask_path)\n",
    "    # load image \n",
    "    full_stem = mask_path.stem\n",
    "    if full_stem.endswith(postfix):\n",
    "        stem = full_stem.rstrip(postfix)\n",
    "        image = read_tiff_image(mask_path)\n",
    "        assert image.shape[0]==3\n",
    "        \n",
    "        # make into np.uint16 labels\n",
    "        nuclei = label_uint16(image[0])\n",
    "        # export as np.uint8 (255)\n",
    "        cellmask = image[1]>0            \n",
    "        cytoplasm = image[2]>0\n",
    "\n",
    "        # write wasks\n",
    "        root_stem = mask_path.parent / stem\n",
    "        # ret1 = imwrite(f\"{root}nuclei{stem}\", nuclei)\n",
    "        ret1 = export_tiff(nuclei, f\"{stem}nuc\", mask_path.parent, None)\n",
    "        # ret2 = imwrite(f\"{root}cellmask{stem}\", cellmask)\n",
    "        ret2 = export_tiff(cellmask, f\"{stem}cell\", mask_path.parent, None)\n",
    "        # ret3 = imwrite(f\"{root}cytosol{stem}\", cytosol)\n",
    "        ret3 = export_tiff(cytoplasm, f\"{stem}cyto\", mask_path.parent, None)\n",
    "\n",
    "        print(f\"wrote {stem}-{{nuc,cell,cyto}}\")\n",
    "        return True\n",
    "    else:\n",
    "        return False\n",
    "\n",
    "\n",
    "\n",
    "def _explode_masks(root_path: Union[Path,str], postfix: str= \"masks\", im_type: str = \".tiff\"):\n",
    "    \"\"\"  \n",
    "    TODO: add loggin instead of printing\n",
    "        append tiffcomments with provenance\n",
    "    \"\"\"\n",
    "    if isinstance(root_path, str): root_path = Path(root_path)\n",
    "    img_file_list = list_image_files(root_path,im_type, postfix)\n",
    "    wrote_cnt = 0\n",
    "    for img_f in img_file_list:\n",
    "        if _explode_mask(img_f, postfix=postfix, im_type=im_type): wrote_cnt += 1\n",
    "        else: print(f\"failed to explode {img_f}\")\n",
    "    else:\n",
    "        print(f\"how thefark!!! {img_f}\")\n",
    "\n",
    "    print(f\"exploded {wrote_cnt*100./len(img_file_list)} pct of {len(img_file_list)} files\")\n",
    "    return wrote_cnt\n",
    "\n"
   ]
  },
  {
   "cell_type": "code",
   "execution_count": 6,
   "metadata": {},
   "outputs": [
    {
     "name": "stdout",
     "output_type": "stream",
     "text": [
      "exploded 100.0 pct of 35 files\n"
     ]
    },
    {
     "data": {
      "text/plain": [
       "35"
      ]
     },
     "execution_count": 6,
     "metadata": {},
     "output_type": "execute_result"
    }
   ],
   "source": [
    "from infer_subc.utils.batch import explode_masks\n",
    "\n",
    "cnt = explode_masks(out_data_path, postfix='masks2')\n",
    "cnt"
   ]
  },
  {
   "cell_type": "code",
   "execution_count": 7,
   "metadata": {},
   "outputs": [],
   "source": [
    "\n",
    "\n",
    "# all the imaging data goes here.\n",
    "data_root_path = Path(os.path.expanduser(\"~\")) / \"Projects/Imaging/data\"\n",
    "# linearly unmixed \".czi\" files are here\n",
    "raw_data_path = data_root_path / \"raw\"\n",
    "# save output \".tiff\" files here\n",
    "int_data_path = data_root_path / \"out\"\n",
    "# save stats here\n",
    "out_data_path = data_root_path / \"out\"\n"
   ]
  },
  {
   "cell_type": "code",
   "execution_count": 8,
   "metadata": {},
   "outputs": [],
   "source": [
    "raw_path = raw_data_path\n",
    "int_path = int_data_path\n",
    "out_path = out_data_path\n",
    "\n",
    "\n",
    "if isinstance(raw_path, str): raw_path = Path(raw_path)\n",
    "if isinstance(int_path, str): int_path = Path(int_path)\n",
    "if isinstance(out_path, str): out_path = Path(out_path)\n",
    "\n",
    "img_file_list = list_image_files(raw_path,\".czi\")\n",
    "\n",
    "if not Path.exists(out_path):\n",
    "    Path.mkdir(out_path)\n",
    "    print(f\"making {out_path}\")\n",
    "\n"
   ]
  },
  {
   "cell_type": "code",
   "execution_count": 9,
   "metadata": {},
   "outputs": [
    {
     "data": {
      "text/plain": [
       "[PosixPath('/Users/ergonyc/Projects/Imaging/data/raw/ZSTACK_PBTOhNGN2hiPSCs_BR1_N14_Unmixed.czi'),\n",
       " PosixPath('/Users/ergonyc/Projects/Imaging/data/raw/ZSTACK_PBTOhNGN2hiPSCs_BR1_N15_Unmixed.czi'),\n",
       " PosixPath('/Users/ergonyc/Projects/Imaging/data/raw/ZSTACK_PBTOhNGN2hiPSCs_BR1_N16_Unmixed.czi'),\n",
       " PosixPath('/Users/ergonyc/Projects/Imaging/data/raw/ZSTACK_PBTOhNGN2hiPSCs_BR1_N17_Unmixed.czi'),\n",
       " PosixPath('/Users/ergonyc/Projects/Imaging/data/raw/ZSTACK_PBTOhNGN2hiPSCs_BR1_N18_Unmixed.czi'),\n",
       " PosixPath('/Users/ergonyc/Projects/Imaging/data/raw/ZSTACK_PBTOhNGN2hiPSCs_BR1_N19_Unmixed.czi'),\n",
       " PosixPath('/Users/ergonyc/Projects/Imaging/data/raw/ZSTACK_PBTOhNGN2hiPSCs_BR1_N20_Unmixed.czi'),\n",
       " PosixPath('/Users/ergonyc/Projects/Imaging/data/raw/ZSTACK_PBTOhNGN2hiPSCs_BR1_N21_Unmixed.czi'),\n",
       " PosixPath('/Users/ergonyc/Projects/Imaging/data/raw/ZSTACK_PBTOhNGN2hiPSCs_BR1_N22_Unmixed.czi'),\n",
       " PosixPath('/Users/ergonyc/Projects/Imaging/data/raw/ZSTACK_PBTOhNGN2hiPSCs_BR1_N23_Unmixed.czi'),\n",
       " PosixPath('/Users/ergonyc/Projects/Imaging/data/raw/ZSTACK_PBTOhNGN2hiPSCs_BR2_N01_Unmixed.czi'),\n",
       " PosixPath('/Users/ergonyc/Projects/Imaging/data/raw/ZSTACK_PBTOhNGN2hiPSCs_BR2_N02_Unmixed.czi'),\n",
       " PosixPath('/Users/ergonyc/Projects/Imaging/data/raw/ZSTACK_PBTOhNGN2hiPSCs_BR2_N03_Unmixed.czi'),\n",
       " PosixPath('/Users/ergonyc/Projects/Imaging/data/raw/ZSTACK_PBTOhNGN2hiPSCs_BR2_N04_Unmixed.czi'),\n",
       " PosixPath('/Users/ergonyc/Projects/Imaging/data/raw/ZSTACK_PBTOhNGN2hiPSCs_BR2_N05_Unmixed.czi'),\n",
       " PosixPath('/Users/ergonyc/Projects/Imaging/data/raw/ZSTACK_PBTOhNGN2hiPSCs_BR2_N06_Unmixed.czi'),\n",
       " PosixPath('/Users/ergonyc/Projects/Imaging/data/raw/ZSTACK_PBTOhNGN2hiPSCs_BR2_N07_Unmixed.czi'),\n",
       " PosixPath('/Users/ergonyc/Projects/Imaging/data/raw/ZSTACK_PBTOhNGN2hiPSCs_BR2_N08_Unmixed.czi'),\n",
       " PosixPath('/Users/ergonyc/Projects/Imaging/data/raw/ZSTACK_PBTOhNGN2hiPSCs_BR2_N09_Unmixed.czi'),\n",
       " PosixPath('/Users/ergonyc/Projects/Imaging/data/raw/ZSTACK_PBTOhNGN2hiPSCs_BR2_N10_Unmixed.czi'),\n",
       " PosixPath('/Users/ergonyc/Projects/Imaging/data/raw/ZSTACK_PBTOhNGN2hiPSCs_BR3_N01_Unmixed.czi'),\n",
       " PosixPath('/Users/ergonyc/Projects/Imaging/data/raw/ZSTACK_PBTOhNGN2hiPSCs_BR3_N02_Unmixed.czi'),\n",
       " PosixPath('/Users/ergonyc/Projects/Imaging/data/raw/ZSTACK_PBTOhNGN2hiPSCs_BR3_N04_Unmixed.czi'),\n",
       " PosixPath('/Users/ergonyc/Projects/Imaging/data/raw/ZSTACK_PBTOhNGN2hiPSCs_BR3_N05_Unmixed.czi'),\n",
       " PosixPath('/Users/ergonyc/Projects/Imaging/data/raw/ZSTACK_PBTOhNGN2hiPSCs_BR3_N06_Unmixed.czi'),\n",
       " PosixPath('/Users/ergonyc/Projects/Imaging/data/raw/ZSTACK_PBTOhNGN2hiPSCs_BR3_N07_Unmixed.czi'),\n",
       " PosixPath('/Users/ergonyc/Projects/Imaging/data/raw/ZSTACK_PBTOhNGN2hiPSCs_BR3_N08_Unmixed.czi'),\n",
       " PosixPath('/Users/ergonyc/Projects/Imaging/data/raw/ZSTACK_PBTOhNGN2hiPSCs_BR3_N09_Unmixed.czi'),\n",
       " PosixPath('/Users/ergonyc/Projects/Imaging/data/raw/ZSTACK_PBTOhNGN2hiPSCs_BR3_N10_Unmixed.czi'),\n",
       " PosixPath('/Users/ergonyc/Projects/Imaging/data/raw/ZSTACK_PBTOhNGN2hiPSCs_BR3_N11_Unmixed.czi'),\n",
       " PosixPath('/Users/ergonyc/Projects/Imaging/data/raw/ZSTACK_PBTOhNGN2hiPSCs_BR3_N12_Unmixed.czi'),\n",
       " PosixPath('/Users/ergonyc/Projects/Imaging/data/raw/ZSTACK_PBTOhNGN2hiPSCs_BR3_N13_Unmixed.czi'),\n",
       " PosixPath('/Users/ergonyc/Projects/Imaging/data/raw/ZSTACK_PBTOhNGN2hiPSCs_BR3_N14_Unmixed.czi'),\n",
       " PosixPath('/Users/ergonyc/Projects/Imaging/data/raw/ZSTACK_PBTOhNGN2hiPSCs_BR3_N15_Unmixed.czi'),\n",
       " PosixPath('/Users/ergonyc/Projects/Imaging/data/raw/ZSTACK_PBTOhNGN2hiPSCs_BR3_N16_Unmixed.czi')]"
      ]
     },
     "execution_count": 9,
     "metadata": {},
     "output_type": "execute_result"
    }
   ],
   "source": [
    "img_file_list"
   ]
  },
  {
   "cell_type": "code",
   "execution_count": 10,
   "metadata": {},
   "outputs": [],
   "source": [
    "from typing import Optional, Union, Dict, List\n",
    "\n",
    "def _find_segmentation_tiff_files(prototype:Union[Path,str], organelles: List[str], int_path: Union[Path,str]) -> Dict:\n",
    "    \"\"\"\n",
    "    find the nescessary image files based on protype, the organelles involved, and paths\n",
    "    \"\"\"\n",
    "\n",
    "    # raw\n",
    "    prototype = Path(prototype)\n",
    "    if not prototype.exists():\n",
    "        print(f\"bad prototype. please choose an existing `raw` file as prototype\")\n",
    "        return dict()\n",
    "    # make sure protoype ends with czi\n",
    "\n",
    "    out_files = {\"raw\":prototype}\n",
    "\n",
    "    int_path = Path(int_path) \n",
    "    # raw\n",
    "    if not int_path.is_dir():\n",
    "        print(f\"bad path argument. please choose an existing path containing organelle segmentations\")\n",
    "        return out_files\n",
    "    \n",
    "    # cyto, cellmask\n",
    "    cyto_nm = int_path / f\"{prototype.stem}-cyto.tiff\"\n",
    "    if cyto_nm.exists():\n",
    "        out_files[\"cyto\"] = cyto_nm\n",
    "    else:\n",
    "        print(f\"cytosol mask not found.  We'll try to extract from masks \")\n",
    "        if explode_mask(int_path / f\"{prototype.stem}-masks.tiff\"): \n",
    "            out_files[\"cyto\"] = cyto_nm\n",
    "        else: \n",
    "            print(f\"failed to explode {prototype.stem}-masks.tiff\")\n",
    "            return out_files\n",
    "    \n",
    "    cellmask_nm = int_path / f\"{prototype.stem}-cellmask.tiff\"\n",
    "    if  cellmask_nm.exists():\n",
    "        out_files[\"cellmask\"] = cellmask_nm\n",
    "    else:\n",
    "        print(f\"cellmask file not found in {int_path} returning\")\n",
    "        out_files[\"cellmask\"] = None\n",
    "\n",
    "    # organelles\n",
    "    for org_n in organelles:\n",
    "        org_name = Path(int_path) / f\"{prototype.stem}-{org_n}.tiff\"\n",
    "        if org_name.exists(): \n",
    "            out_files[org_n] = org_name\n",
    "        else: \n",
    "            print(f\"{org_n} .tiff file not found in {int_path} returning\")\n",
    "            out_files[org_n] = None\n",
    "    \n",
    "    return out_files\n",
    "\n",
    "    \n"
   ]
  },
  {
   "cell_type": "code",
   "execution_count": 11,
   "metadata": {},
   "outputs": [],
   "source": [
    "from infer_subc.utils.batch import find_segmentation_tiff_files\n",
    "prototype = '/Users/ergonyc/Projects/Imaging/data/raw/ZSTACK_PBTOhNGN2hiPSCs_BR1_N14_Unmixed.czi'\n",
    "organelles = [\"nuc\",\"lyso\", \"mito\",\"golgi\",\"perox\",\"ER\",\"LD\"]\n",
    "\n",
    "filez = find_segmentation_tiff_files(prototype, organelles, out_data_path)\n",
    "\n"
   ]
  },
  {
   "cell_type": "code",
   "execution_count": 12,
   "metadata": {},
   "outputs": [
    {
     "data": {
      "text/plain": [
       "{'raw': PosixPath('/Users/ergonyc/Projects/Imaging/data/raw/ZSTACK_PBTOhNGN2hiPSCs_BR1_N14_Unmixed.czi'),\n",
       " 'cyto': PosixPath('/Users/ergonyc/Projects/Imaging/data/out/ZSTACK_PBTOhNGN2hiPSCs_BR1_N14_Unmixed-cyto.tiff'),\n",
       " 'cell': PosixPath('/Users/ergonyc/Projects/Imaging/data/out/ZSTACK_PBTOhNGN2hiPSCs_BR1_N14_Unmixed-cell.tiff'),\n",
       " 'nuc': PosixPath('/Users/ergonyc/Projects/Imaging/data/out/ZSTACK_PBTOhNGN2hiPSCs_BR1_N14_Unmixed-nuc.tiff'),\n",
       " 'lyso': PosixPath('/Users/ergonyc/Projects/Imaging/data/out/ZSTACK_PBTOhNGN2hiPSCs_BR1_N14_Unmixed-lyso.tiff'),\n",
       " 'mito': PosixPath('/Users/ergonyc/Projects/Imaging/data/out/ZSTACK_PBTOhNGN2hiPSCs_BR1_N14_Unmixed-mito.tiff'),\n",
       " 'golgi': PosixPath('/Users/ergonyc/Projects/Imaging/data/out/ZSTACK_PBTOhNGN2hiPSCs_BR1_N14_Unmixed-golgi.tiff'),\n",
       " 'perox': PosixPath('/Users/ergonyc/Projects/Imaging/data/out/ZSTACK_PBTOhNGN2hiPSCs_BR1_N14_Unmixed-perox.tiff'),\n",
       " 'ER': PosixPath('/Users/ergonyc/Projects/Imaging/data/out/ZSTACK_PBTOhNGN2hiPSCs_BR1_N14_Unmixed-ER.tiff'),\n",
       " 'LD': PosixPath('/Users/ergonyc/Projects/Imaging/data/out/ZSTACK_PBTOhNGN2hiPSCs_BR1_N14_Unmixed-LD.tiff')}"
      ]
     },
     "execution_count": 12,
     "metadata": {},
     "output_type": "execute_result"
    }
   ],
   "source": [
    "filez"
   ]
  },
  {
   "cell_type": "code",
   "execution_count": 13,
   "metadata": {},
   "outputs": [],
   "source": [
    "from infer_subc.utils.stats_helpers import make_organelle_stat_tables\n",
    "from infer_subc.constants import *\n",
    "from infer_subc.organelles import *\n",
    "from infer_subc.core.file_io import read_tiff_image, read_czi_image\n",
    "\n",
    "# names of organelles we have\n",
    "organelle_names = [\"nuc\",\"lyso\", \"mito\",\"golgi\",\"perox\",\"ER\",\"LD\"]\n",
    "\n",
    "# get the intensities\n",
    "organelle_channels = [NUC_CH, LYSO_CH,MITO_CH,GOLGI_CH,PEROX_CH,ER_CH,LD_CH]\n",
    "\n"
   ]
  },
  {
   "cell_type": "code",
   "execution_count": 15,
   "metadata": {},
   "outputs": [
    {
     "name": "stdout",
     "output_type": "stream",
     "text": [
      "[PosixPath('/Users/ergonyc/Projects/Imaging/data/raw/ZSTACK_PBTOhNGN2hiPSCs_BR1_N14_Unmixed.czi'), PosixPath('/Users/ergonyc/Projects/Imaging/data/raw/ZSTACK_PBTOhNGN2hiPSCs_BR1_N15_Unmixed.czi'), PosixPath('/Users/ergonyc/Projects/Imaging/data/raw/ZSTACK_PBTOhNGN2hiPSCs_BR1_N16_Unmixed.czi'), PosixPath('/Users/ergonyc/Projects/Imaging/data/raw/ZSTACK_PBTOhNGN2hiPSCs_BR1_N17_Unmixed.czi'), PosixPath('/Users/ergonyc/Projects/Imaging/data/raw/ZSTACK_PBTOhNGN2hiPSCs_BR1_N18_Unmixed.czi'), PosixPath('/Users/ergonyc/Projects/Imaging/data/raw/ZSTACK_PBTOhNGN2hiPSCs_BR1_N19_Unmixed.czi'), PosixPath('/Users/ergonyc/Projects/Imaging/data/raw/ZSTACK_PBTOhNGN2hiPSCs_BR1_N20_Unmixed.czi'), PosixPath('/Users/ergonyc/Projects/Imaging/data/raw/ZSTACK_PBTOhNGN2hiPSCs_BR1_N21_Unmixed.czi'), PosixPath('/Users/ergonyc/Projects/Imaging/data/raw/ZSTACK_PBTOhNGN2hiPSCs_BR1_N22_Unmixed.czi'), PosixPath('/Users/ergonyc/Projects/Imaging/data/raw/ZSTACK_PBTOhNGN2hiPSCs_BR1_N23_Unmixed.czi'), PosixPath('/Users/ergonyc/Projects/Imaging/data/raw/ZSTACK_PBTOhNGN2hiPSCs_BR2_N01_Unmixed.czi'), PosixPath('/Users/ergonyc/Projects/Imaging/data/raw/ZSTACK_PBTOhNGN2hiPSCs_BR2_N02_Unmixed.czi'), PosixPath('/Users/ergonyc/Projects/Imaging/data/raw/ZSTACK_PBTOhNGN2hiPSCs_BR2_N03_Unmixed.czi'), PosixPath('/Users/ergonyc/Projects/Imaging/data/raw/ZSTACK_PBTOhNGN2hiPSCs_BR2_N04_Unmixed.czi'), PosixPath('/Users/ergonyc/Projects/Imaging/data/raw/ZSTACK_PBTOhNGN2hiPSCs_BR2_N05_Unmixed.czi'), PosixPath('/Users/ergonyc/Projects/Imaging/data/raw/ZSTACK_PBTOhNGN2hiPSCs_BR2_N06_Unmixed.czi'), PosixPath('/Users/ergonyc/Projects/Imaging/data/raw/ZSTACK_PBTOhNGN2hiPSCs_BR2_N07_Unmixed.czi'), PosixPath('/Users/ergonyc/Projects/Imaging/data/raw/ZSTACK_PBTOhNGN2hiPSCs_BR2_N08_Unmixed.czi'), PosixPath('/Users/ergonyc/Projects/Imaging/data/raw/ZSTACK_PBTOhNGN2hiPSCs_BR2_N09_Unmixed.czi'), PosixPath('/Users/ergonyc/Projects/Imaging/data/raw/ZSTACK_PBTOhNGN2hiPSCs_BR2_N10_Unmixed.czi'), PosixPath('/Users/ergonyc/Projects/Imaging/data/raw/ZSTACK_PBTOhNGN2hiPSCs_BR3_N01_Unmixed.czi'), PosixPath('/Users/ergonyc/Projects/Imaging/data/raw/ZSTACK_PBTOhNGN2hiPSCs_BR3_N02_Unmixed.czi'), PosixPath('/Users/ergonyc/Projects/Imaging/data/raw/ZSTACK_PBTOhNGN2hiPSCs_BR3_N04_Unmixed.czi'), PosixPath('/Users/ergonyc/Projects/Imaging/data/raw/ZSTACK_PBTOhNGN2hiPSCs_BR3_N05_Unmixed.czi'), PosixPath('/Users/ergonyc/Projects/Imaging/data/raw/ZSTACK_PBTOhNGN2hiPSCs_BR3_N06_Unmixed.czi'), PosixPath('/Users/ergonyc/Projects/Imaging/data/raw/ZSTACK_PBTOhNGN2hiPSCs_BR3_N07_Unmixed.czi'), PosixPath('/Users/ergonyc/Projects/Imaging/data/raw/ZSTACK_PBTOhNGN2hiPSCs_BR3_N08_Unmixed.czi'), PosixPath('/Users/ergonyc/Projects/Imaging/data/raw/ZSTACK_PBTOhNGN2hiPSCs_BR3_N09_Unmixed.czi'), PosixPath('/Users/ergonyc/Projects/Imaging/data/raw/ZSTACK_PBTOhNGN2hiPSCs_BR3_N10_Unmixed.czi'), PosixPath('/Users/ergonyc/Projects/Imaging/data/raw/ZSTACK_PBTOhNGN2hiPSCs_BR3_N11_Unmixed.czi'), PosixPath('/Users/ergonyc/Projects/Imaging/data/raw/ZSTACK_PBTOhNGN2hiPSCs_BR3_N12_Unmixed.czi'), PosixPath('/Users/ergonyc/Projects/Imaging/data/raw/ZSTACK_PBTOhNGN2hiPSCs_BR3_N13_Unmixed.czi'), PosixPath('/Users/ergonyc/Projects/Imaging/data/raw/ZSTACK_PBTOhNGN2hiPSCs_BR3_N14_Unmixed.czi'), PosixPath('/Users/ergonyc/Projects/Imaging/data/raw/ZSTACK_PBTOhNGN2hiPSCs_BR3_N15_Unmixed.czi'), PosixPath('/Users/ergonyc/Projects/Imaging/data/raw/ZSTACK_PBTOhNGN2hiPSCs_BR3_N16_Unmixed.czi')]\n"
     ]
    },
    {
     "name": "stderr",
     "output_type": "stream",
     "text": [
      "/Users/ergonyc/miniforge3/envs/cento/lib/python3.10/site-packages/ome_types/_convenience.py:112: FutureWarning: The default XML parser will be changing from 'xmlschema' to 'lxml' in version 0.4.0.  To silence this warning, please provide the `parser` argument, specifying either 'lxml' (to opt into the new behavior), or'xmlschema' (to retain the old behavior).\n",
      "  d = to_dict(os.fspath(xml), parser=parser, validate=validate)\n",
      "/Users/ergonyc/Projects/Imaging/infer-subc/infer_subc/utils/stats.py:647: RuntimeWarning: invalid value encountered in divide\n",
      "  vi = np.sum(pixels[:,:,np.newaxis]*z.imag, axis=(0,1))\n"
     ]
    },
    {
     "name": "stdout",
     "output_type": "stream",
     "text": [
      "dumped 49x3 organelle stats (['nuc', 'lyso', 'mito', 'golgi', 'perox', 'ER', 'LD']) csvs\n"
     ]
    },
    {
     "name": "stderr",
     "output_type": "stream",
     "text": [
      "/Users/ergonyc/miniforge3/envs/cento/lib/python3.10/site-packages/ome_types/_convenience.py:112: FutureWarning: The default XML parser will be changing from 'xmlschema' to 'lxml' in version 0.4.0.  To silence this warning, please provide the `parser` argument, specifying either 'lxml' (to opt into the new behavior), or'xmlschema' (to retain the old behavior).\n",
      "  d = to_dict(os.fspath(xml), parser=parser, validate=validate)\n",
      "/Users/ergonyc/Projects/Imaging/infer-subc/infer_subc/utils/stats.py:647: RuntimeWarning: invalid value encountered in divide\n",
      "  vi = np.sum(pixels[:,:,np.newaxis]*z.imag, axis=(0,1))\n"
     ]
    },
    {
     "name": "stdout",
     "output_type": "stream",
     "text": [
      "dumped 49x3 organelle stats (['nuc', 'lyso', 'mito', 'golgi', 'perox', 'ER', 'LD']) csvs\n"
     ]
    },
    {
     "name": "stderr",
     "output_type": "stream",
     "text": [
      "/Users/ergonyc/miniforge3/envs/cento/lib/python3.10/site-packages/ome_types/_convenience.py:112: FutureWarning: The default XML parser will be changing from 'xmlschema' to 'lxml' in version 0.4.0.  To silence this warning, please provide the `parser` argument, specifying either 'lxml' (to opt into the new behavior), or'xmlschema' (to retain the old behavior).\n",
      "  d = to_dict(os.fspath(xml), parser=parser, validate=validate)\n",
      "/Users/ergonyc/Projects/Imaging/infer-subc/infer_subc/utils/stats.py:647: RuntimeWarning: invalid value encountered in divide\n",
      "  vi = np.sum(pixels[:,:,np.newaxis]*z.imag, axis=(0,1))\n",
      "/Users/ergonyc/Projects/Imaging/infer-subc/infer_subc/utils/stats.py:647: RuntimeWarning: invalid value encountered in divide\n",
      "  vi = np.sum(pixels[:,:,np.newaxis]*z.imag, axis=(0,1))\n"
     ]
    },
    {
     "name": "stdout",
     "output_type": "stream",
     "text": [
      "dumped 49x3 organelle stats (['nuc', 'lyso', 'mito', 'golgi', 'perox', 'ER', 'LD']) csvs\n"
     ]
    },
    {
     "name": "stderr",
     "output_type": "stream",
     "text": [
      "/Users/ergonyc/miniforge3/envs/cento/lib/python3.10/site-packages/ome_types/_convenience.py:112: FutureWarning: The default XML parser will be changing from 'xmlschema' to 'lxml' in version 0.4.0.  To silence this warning, please provide the `parser` argument, specifying either 'lxml' (to opt into the new behavior), or'xmlschema' (to retain the old behavior).\n",
      "  d = to_dict(os.fspath(xml), parser=parser, validate=validate)\n",
      "/Users/ergonyc/Projects/Imaging/infer-subc/infer_subc/utils/stats.py:647: RuntimeWarning: invalid value encountered in divide\n",
      "  vi = np.sum(pixels[:,:,np.newaxis]*z.imag, axis=(0,1))\n"
     ]
    },
    {
     "name": "stdout",
     "output_type": "stream",
     "text": [
      "dumped 49x3 organelle stats (['nuc', 'lyso', 'mito', 'golgi', 'perox', 'ER', 'LD']) csvs\n"
     ]
    },
    {
     "name": "stderr",
     "output_type": "stream",
     "text": [
      "/Users/ergonyc/miniforge3/envs/cento/lib/python3.10/site-packages/ome_types/_convenience.py:112: FutureWarning: The default XML parser will be changing from 'xmlschema' to 'lxml' in version 0.4.0.  To silence this warning, please provide the `parser` argument, specifying either 'lxml' (to opt into the new behavior), or'xmlschema' (to retain the old behavior).\n",
      "  d = to_dict(os.fspath(xml), parser=parser, validate=validate)\n",
      "/Users/ergonyc/Projects/Imaging/infer-subc/infer_subc/utils/stats.py:647: RuntimeWarning: invalid value encountered in divide\n",
      "  vi = np.sum(pixels[:,:,np.newaxis]*z.imag, axis=(0,1))\n"
     ]
    },
    {
     "name": "stdout",
     "output_type": "stream",
     "text": [
      "dumped 49x3 organelle stats (['nuc', 'lyso', 'mito', 'golgi', 'perox', 'ER', 'LD']) csvs\n"
     ]
    },
    {
     "name": "stderr",
     "output_type": "stream",
     "text": [
      "/Users/ergonyc/miniforge3/envs/cento/lib/python3.10/site-packages/ome_types/_convenience.py:112: FutureWarning: The default XML parser will be changing from 'xmlschema' to 'lxml' in version 0.4.0.  To silence this warning, please provide the `parser` argument, specifying either 'lxml' (to opt into the new behavior), or'xmlschema' (to retain the old behavior).\n",
      "  d = to_dict(os.fspath(xml), parser=parser, validate=validate)\n",
      "/Users/ergonyc/Projects/Imaging/infer-subc/infer_subc/utils/stats.py:647: RuntimeWarning: invalid value encountered in divide\n",
      "  vi = np.sum(pixels[:,:,np.newaxis]*z.imag, axis=(0,1))\n"
     ]
    },
    {
     "name": "stdout",
     "output_type": "stream",
     "text": [
      "dumped 49x3 organelle stats (['nuc', 'lyso', 'mito', 'golgi', 'perox', 'ER', 'LD']) csvs\n"
     ]
    },
    {
     "name": "stderr",
     "output_type": "stream",
     "text": [
      "/Users/ergonyc/miniforge3/envs/cento/lib/python3.10/site-packages/ome_types/_convenience.py:112: FutureWarning: The default XML parser will be changing from 'xmlschema' to 'lxml' in version 0.4.0.  To silence this warning, please provide the `parser` argument, specifying either 'lxml' (to opt into the new behavior), or'xmlschema' (to retain the old behavior).\n",
      "  d = to_dict(os.fspath(xml), parser=parser, validate=validate)\n",
      "/Users/ergonyc/Projects/Imaging/infer-subc/infer_subc/utils/stats.py:647: RuntimeWarning: invalid value encountered in divide\n",
      "  vi = np.sum(pixels[:,:,np.newaxis]*z.imag, axis=(0,1))\n"
     ]
    },
    {
     "name": "stdout",
     "output_type": "stream",
     "text": [
      "dumped 49x3 organelle stats (['nuc', 'lyso', 'mito', 'golgi', 'perox', 'ER', 'LD']) csvs\n"
     ]
    },
    {
     "name": "stderr",
     "output_type": "stream",
     "text": [
      "/Users/ergonyc/miniforge3/envs/cento/lib/python3.10/site-packages/ome_types/_convenience.py:112: FutureWarning: The default XML parser will be changing from 'xmlschema' to 'lxml' in version 0.4.0.  To silence this warning, please provide the `parser` argument, specifying either 'lxml' (to opt into the new behavior), or'xmlschema' (to retain the old behavior).\n",
      "  d = to_dict(os.fspath(xml), parser=parser, validate=validate)\n",
      "/Users/ergonyc/Projects/Imaging/infer-subc/infer_subc/utils/stats.py:647: RuntimeWarning: invalid value encountered in divide\n",
      "  vi = np.sum(pixels[:,:,np.newaxis]*z.imag, axis=(0,1))\n"
     ]
    },
    {
     "name": "stdout",
     "output_type": "stream",
     "text": [
      "dumped 49x3 organelle stats (['nuc', 'lyso', 'mito', 'golgi', 'perox', 'ER', 'LD']) csvs\n"
     ]
    },
    {
     "name": "stderr",
     "output_type": "stream",
     "text": [
      "/Users/ergonyc/miniforge3/envs/cento/lib/python3.10/site-packages/ome_types/_convenience.py:112: FutureWarning: The default XML parser will be changing from 'xmlschema' to 'lxml' in version 0.4.0.  To silence this warning, please provide the `parser` argument, specifying either 'lxml' (to opt into the new behavior), or'xmlschema' (to retain the old behavior).\n",
      "  d = to_dict(os.fspath(xml), parser=parser, validate=validate)\n"
     ]
    },
    {
     "name": "stdout",
     "output_type": "stream",
     "text": [
      "dumped 49x3 organelle stats (['nuc', 'lyso', 'mito', 'golgi', 'perox', 'ER', 'LD']) csvs\n"
     ]
    },
    {
     "name": "stderr",
     "output_type": "stream",
     "text": [
      "/Users/ergonyc/miniforge3/envs/cento/lib/python3.10/site-packages/ome_types/_convenience.py:112: FutureWarning: The default XML parser will be changing from 'xmlschema' to 'lxml' in version 0.4.0.  To silence this warning, please provide the `parser` argument, specifying either 'lxml' (to opt into the new behavior), or'xmlschema' (to retain the old behavior).\n",
      "  d = to_dict(os.fspath(xml), parser=parser, validate=validate)\n",
      "/Users/ergonyc/Projects/Imaging/infer-subc/infer_subc/utils/stats.py:647: RuntimeWarning: invalid value encountered in divide\n",
      "  vi = np.sum(pixels[:,:,np.newaxis]*z.imag, axis=(0,1))\n"
     ]
    },
    {
     "name": "stdout",
     "output_type": "stream",
     "text": [
      "dumped 49x3 organelle stats (['nuc', 'lyso', 'mito', 'golgi', 'perox', 'ER', 'LD']) csvs\n"
     ]
    },
    {
     "name": "stderr",
     "output_type": "stream",
     "text": [
      "/Users/ergonyc/miniforge3/envs/cento/lib/python3.10/site-packages/ome_types/_convenience.py:112: FutureWarning: The default XML parser will be changing from 'xmlschema' to 'lxml' in version 0.4.0.  To silence this warning, please provide the `parser` argument, specifying either 'lxml' (to opt into the new behavior), or'xmlschema' (to retain the old behavior).\n",
      "  d = to_dict(os.fspath(xml), parser=parser, validate=validate)\n",
      "/Users/ergonyc/Projects/Imaging/infer-subc/infer_subc/utils/stats.py:647: RuntimeWarning: invalid value encountered in divide\n",
      "  vi = np.sum(pixels[:,:,np.newaxis]*z.imag, axis=(0,1))\n"
     ]
    },
    {
     "name": "stdout",
     "output_type": "stream",
     "text": [
      "dumped 49x3 organelle stats (['nuc', 'lyso', 'mito', 'golgi', 'perox', 'ER', 'LD']) csvs\n"
     ]
    },
    {
     "name": "stderr",
     "output_type": "stream",
     "text": [
      "/Users/ergonyc/miniforge3/envs/cento/lib/python3.10/site-packages/ome_types/_convenience.py:112: FutureWarning: The default XML parser will be changing from 'xmlschema' to 'lxml' in version 0.4.0.  To silence this warning, please provide the `parser` argument, specifying either 'lxml' (to opt into the new behavior), or'xmlschema' (to retain the old behavior).\n",
      "  d = to_dict(os.fspath(xml), parser=parser, validate=validate)\n",
      "/Users/ergonyc/Projects/Imaging/infer-subc/infer_subc/utils/stats.py:647: RuntimeWarning: invalid value encountered in divide\n",
      "  vi = np.sum(pixels[:,:,np.newaxis]*z.imag, axis=(0,1))\n"
     ]
    },
    {
     "name": "stdout",
     "output_type": "stream",
     "text": [
      "dumped 49x3 organelle stats (['nuc', 'lyso', 'mito', 'golgi', 'perox', 'ER', 'LD']) csvs\n"
     ]
    },
    {
     "name": "stderr",
     "output_type": "stream",
     "text": [
      "/Users/ergonyc/miniforge3/envs/cento/lib/python3.10/site-packages/ome_types/_convenience.py:112: FutureWarning: The default XML parser will be changing from 'xmlschema' to 'lxml' in version 0.4.0.  To silence this warning, please provide the `parser` argument, specifying either 'lxml' (to opt into the new behavior), or'xmlschema' (to retain the old behavior).\n",
      "  d = to_dict(os.fspath(xml), parser=parser, validate=validate)\n",
      "/Users/ergonyc/Projects/Imaging/infer-subc/infer_subc/utils/stats.py:647: RuntimeWarning: invalid value encountered in divide\n",
      "  vi = np.sum(pixels[:,:,np.newaxis]*z.imag, axis=(0,1))\n"
     ]
    },
    {
     "name": "stdout",
     "output_type": "stream",
     "text": [
      "dumped 49x3 organelle stats (['nuc', 'lyso', 'mito', 'golgi', 'perox', 'ER', 'LD']) csvs\n"
     ]
    },
    {
     "name": "stderr",
     "output_type": "stream",
     "text": [
      "/Users/ergonyc/miniforge3/envs/cento/lib/python3.10/site-packages/ome_types/_convenience.py:112: FutureWarning: The default XML parser will be changing from 'xmlschema' to 'lxml' in version 0.4.0.  To silence this warning, please provide the `parser` argument, specifying either 'lxml' (to opt into the new behavior), or'xmlschema' (to retain the old behavior).\n",
      "  d = to_dict(os.fspath(xml), parser=parser, validate=validate)\n",
      "/Users/ergonyc/Projects/Imaging/infer-subc/infer_subc/utils/stats.py:548: RuntimeWarning: invalid value encountered in divide\n",
      "  \n",
      "/Users/ergonyc/Projects/Imaging/infer-subc/infer_subc/utils/stats.py:554: RuntimeWarning: invalid value encountered in divide\n",
      "  \n",
      "/Users/ergonyc/Projects/Imaging/infer-subc/infer_subc/utils/stats.py:559: RuntimeWarning: invalid value encountered in divide\n",
      "  \n",
      "/Users/ergonyc/Projects/Imaging/infer-subc/infer_subc/utils/stats.py:548: RuntimeWarning: invalid value encountered in divide\n",
      "  \n",
      "/Users/ergonyc/Projects/Imaging/infer-subc/infer_subc/utils/stats.py:554: RuntimeWarning: invalid value encountered in divide\n",
      "  \n",
      "/Users/ergonyc/Projects/Imaging/infer-subc/infer_subc/utils/stats.py:559: RuntimeWarning: invalid value encountered in divide\n",
      "  \n",
      "/Users/ergonyc/Projects/Imaging/infer-subc/infer_subc/utils/stats.py:647: RuntimeWarning: invalid value encountered in divide\n",
      "  vi = np.sum(pixels[:,:,np.newaxis]*z.imag, axis=(0,1))\n",
      "/Users/ergonyc/Projects/Imaging/infer-subc/infer_subc/utils/stats.py:548: RuntimeWarning: invalid value encountered in divide\n",
      "  \n",
      "/Users/ergonyc/Projects/Imaging/infer-subc/infer_subc/utils/stats.py:554: RuntimeWarning: invalid value encountered in divide\n",
      "  \n",
      "/Users/ergonyc/Projects/Imaging/infer-subc/infer_subc/utils/stats.py:559: RuntimeWarning: invalid value encountered in divide\n",
      "  \n",
      "/Users/ergonyc/Projects/Imaging/infer-subc/infer_subc/utils/stats.py:647: RuntimeWarning: invalid value encountered in divide\n",
      "  vi = np.sum(pixels[:,:,np.newaxis]*z.imag, axis=(0,1))\n",
      "/Users/ergonyc/Projects/Imaging/infer-subc/infer_subc/utils/stats.py:548: RuntimeWarning: invalid value encountered in divide\n",
      "  \n",
      "/Users/ergonyc/Projects/Imaging/infer-subc/infer_subc/utils/stats.py:554: RuntimeWarning: invalid value encountered in divide\n",
      "  \n",
      "/Users/ergonyc/Projects/Imaging/infer-subc/infer_subc/utils/stats.py:559: RuntimeWarning: invalid value encountered in divide\n",
      "  \n",
      "/Users/ergonyc/Projects/Imaging/infer-subc/infer_subc/utils/stats.py:647: RuntimeWarning: invalid value encountered in divide\n",
      "  vi = np.sum(pixels[:,:,np.newaxis]*z.imag, axis=(0,1))\n",
      "/Users/ergonyc/Projects/Imaging/infer-subc/infer_subc/utils/stats.py:548: RuntimeWarning: invalid value encountered in divide\n",
      "  \n",
      "/Users/ergonyc/Projects/Imaging/infer-subc/infer_subc/utils/stats.py:554: RuntimeWarning: invalid value encountered in divide\n",
      "  \n",
      "/Users/ergonyc/Projects/Imaging/infer-subc/infer_subc/utils/stats.py:559: RuntimeWarning: invalid value encountered in divide\n",
      "  \n",
      "/Users/ergonyc/Projects/Imaging/infer-subc/infer_subc/utils/stats.py:647: RuntimeWarning: invalid value encountered in divide\n",
      "  vi = np.sum(pixels[:,:,np.newaxis]*z.imag, axis=(0,1))\n",
      "/Users/ergonyc/Projects/Imaging/infer-subc/infer_subc/utils/stats.py:548: RuntimeWarning: invalid value encountered in divide\n",
      "  \n",
      "/Users/ergonyc/Projects/Imaging/infer-subc/infer_subc/utils/stats.py:554: RuntimeWarning: invalid value encountered in divide\n",
      "  \n",
      "/Users/ergonyc/Projects/Imaging/infer-subc/infer_subc/utils/stats.py:559: RuntimeWarning: invalid value encountered in divide\n",
      "  \n",
      "/Users/ergonyc/Projects/Imaging/infer-subc/infer_subc/utils/stats.py:647: RuntimeWarning: invalid value encountered in divide\n",
      "  vi = np.sum(pixels[:,:,np.newaxis]*z.imag, axis=(0,1))\n",
      "/Users/ergonyc/Projects/Imaging/infer-subc/infer_subc/utils/stats.py:548: RuntimeWarning: invalid value encountered in divide\n",
      "  \n",
      "/Users/ergonyc/Projects/Imaging/infer-subc/infer_subc/utils/stats.py:554: RuntimeWarning: invalid value encountered in divide\n",
      "  \n",
      "/Users/ergonyc/Projects/Imaging/infer-subc/infer_subc/utils/stats.py:559: RuntimeWarning: invalid value encountered in divide\n",
      "  \n",
      "/Users/ergonyc/Projects/Imaging/infer-subc/infer_subc/utils/stats.py:647: RuntimeWarning: invalid value encountered in divide\n",
      "  vi = np.sum(pixels[:,:,np.newaxis]*z.imag, axis=(0,1))\n"
     ]
    },
    {
     "name": "stdout",
     "output_type": "stream",
     "text": [
      "dumped 49x3 organelle stats (['nuc', 'lyso', 'mito', 'golgi', 'perox', 'ER', 'LD']) csvs\n"
     ]
    },
    {
     "name": "stderr",
     "output_type": "stream",
     "text": [
      "/Users/ergonyc/miniforge3/envs/cento/lib/python3.10/site-packages/ome_types/_convenience.py:112: FutureWarning: The default XML parser will be changing from 'xmlschema' to 'lxml' in version 0.4.0.  To silence this warning, please provide the `parser` argument, specifying either 'lxml' (to opt into the new behavior), or'xmlschema' (to retain the old behavior).\n",
      "  d = to_dict(os.fspath(xml), parser=parser, validate=validate)\n"
     ]
    },
    {
     "name": "stdout",
     "output_type": "stream",
     "text": [
      "dumped 49x3 organelle stats (['nuc', 'lyso', 'mito', 'golgi', 'perox', 'ER', 'LD']) csvs\n"
     ]
    },
    {
     "name": "stderr",
     "output_type": "stream",
     "text": [
      "/Users/ergonyc/miniforge3/envs/cento/lib/python3.10/site-packages/ome_types/_convenience.py:112: FutureWarning: The default XML parser will be changing from 'xmlschema' to 'lxml' in version 0.4.0.  To silence this warning, please provide the `parser` argument, specifying either 'lxml' (to opt into the new behavior), or'xmlschema' (to retain the old behavior).\n",
      "  d = to_dict(os.fspath(xml), parser=parser, validate=validate)\n",
      "/Users/ergonyc/Projects/Imaging/infer-subc/infer_subc/utils/stats.py:548: RuntimeWarning: invalid value encountered in divide\n",
      "  \n",
      "/Users/ergonyc/Projects/Imaging/infer-subc/infer_subc/utils/stats.py:554: RuntimeWarning: invalid value encountered in divide\n",
      "  \n",
      "/Users/ergonyc/Projects/Imaging/infer-subc/infer_subc/utils/stats.py:559: RuntimeWarning: invalid value encountered in divide\n",
      "  \n",
      "/Users/ergonyc/Projects/Imaging/infer-subc/infer_subc/utils/stats.py:548: RuntimeWarning: invalid value encountered in divide\n",
      "  \n",
      "/Users/ergonyc/Projects/Imaging/infer-subc/infer_subc/utils/stats.py:554: RuntimeWarning: invalid value encountered in divide\n",
      "  \n",
      "/Users/ergonyc/Projects/Imaging/infer-subc/infer_subc/utils/stats.py:559: RuntimeWarning: invalid value encountered in divide\n",
      "  \n",
      "/Users/ergonyc/Projects/Imaging/infer-subc/infer_subc/utils/stats.py:548: RuntimeWarning: invalid value encountered in divide\n",
      "  \n",
      "/Users/ergonyc/Projects/Imaging/infer-subc/infer_subc/utils/stats.py:554: RuntimeWarning: invalid value encountered in divide\n",
      "  \n",
      "/Users/ergonyc/Projects/Imaging/infer-subc/infer_subc/utils/stats.py:559: RuntimeWarning: invalid value encountered in divide\n",
      "  \n",
      "/Users/ergonyc/Projects/Imaging/infer-subc/infer_subc/utils/stats.py:548: RuntimeWarning: invalid value encountered in divide\n",
      "  \n",
      "/Users/ergonyc/Projects/Imaging/infer-subc/infer_subc/utils/stats.py:554: RuntimeWarning: invalid value encountered in divide\n",
      "  \n",
      "/Users/ergonyc/Projects/Imaging/infer-subc/infer_subc/utils/stats.py:559: RuntimeWarning: invalid value encountered in divide\n",
      "  \n",
      "/Users/ergonyc/Projects/Imaging/infer-subc/infer_subc/utils/stats.py:548: RuntimeWarning: invalid value encountered in divide\n",
      "  \n",
      "/Users/ergonyc/Projects/Imaging/infer-subc/infer_subc/utils/stats.py:554: RuntimeWarning: invalid value encountered in divide\n",
      "  \n",
      "/Users/ergonyc/Projects/Imaging/infer-subc/infer_subc/utils/stats.py:559: RuntimeWarning: invalid value encountered in divide\n",
      "  \n",
      "/Users/ergonyc/Projects/Imaging/infer-subc/infer_subc/utils/stats.py:548: RuntimeWarning: invalid value encountered in divide\n",
      "  \n",
      "/Users/ergonyc/Projects/Imaging/infer-subc/infer_subc/utils/stats.py:554: RuntimeWarning: invalid value encountered in divide\n",
      "  \n",
      "/Users/ergonyc/Projects/Imaging/infer-subc/infer_subc/utils/stats.py:559: RuntimeWarning: invalid value encountered in divide\n",
      "  \n",
      "/Users/ergonyc/Projects/Imaging/infer-subc/infer_subc/utils/stats.py:548: RuntimeWarning: invalid value encountered in divide\n",
      "  \n",
      "/Users/ergonyc/Projects/Imaging/infer-subc/infer_subc/utils/stats.py:554: RuntimeWarning: invalid value encountered in divide\n",
      "  \n",
      "/Users/ergonyc/Projects/Imaging/infer-subc/infer_subc/utils/stats.py:559: RuntimeWarning: invalid value encountered in divide\n",
      "  \n",
      "/Users/ergonyc/Projects/Imaging/infer-subc/infer_subc/utils/stats.py:647: RuntimeWarning: invalid value encountered in divide\n",
      "  vi = np.sum(pixels[:,:,np.newaxis]*z.imag, axis=(0,1))\n"
     ]
    },
    {
     "name": "stdout",
     "output_type": "stream",
     "text": [
      "dumped 49x3 organelle stats (['nuc', 'lyso', 'mito', 'golgi', 'perox', 'ER', 'LD']) csvs\n"
     ]
    },
    {
     "name": "stderr",
     "output_type": "stream",
     "text": [
      "/Users/ergonyc/miniforge3/envs/cento/lib/python3.10/site-packages/ome_types/_convenience.py:112: FutureWarning: The default XML parser will be changing from 'xmlschema' to 'lxml' in version 0.4.0.  To silence this warning, please provide the `parser` argument, specifying either 'lxml' (to opt into the new behavior), or'xmlschema' (to retain the old behavior).\n",
      "  d = to_dict(os.fspath(xml), parser=parser, validate=validate)\n",
      "/Users/ergonyc/Projects/Imaging/infer-subc/infer_subc/utils/stats.py:548: RuntimeWarning: invalid value encountered in divide\n",
      "  \n",
      "/Users/ergonyc/Projects/Imaging/infer-subc/infer_subc/utils/stats.py:554: RuntimeWarning: invalid value encountered in divide\n",
      "  \n",
      "/Users/ergonyc/Projects/Imaging/infer-subc/infer_subc/utils/stats.py:559: RuntimeWarning: invalid value encountered in divide\n",
      "  \n",
      "/Users/ergonyc/Projects/Imaging/infer-subc/infer_subc/utils/stats.py:548: RuntimeWarning: invalid value encountered in divide\n",
      "  \n",
      "/Users/ergonyc/Projects/Imaging/infer-subc/infer_subc/utils/stats.py:554: RuntimeWarning: invalid value encountered in divide\n",
      "  \n",
      "/Users/ergonyc/Projects/Imaging/infer-subc/infer_subc/utils/stats.py:559: RuntimeWarning: invalid value encountered in divide\n",
      "  \n",
      "/Users/ergonyc/Projects/Imaging/infer-subc/infer_subc/utils/stats.py:548: RuntimeWarning: invalid value encountered in divide\n",
      "  \n",
      "/Users/ergonyc/Projects/Imaging/infer-subc/infer_subc/utils/stats.py:554: RuntimeWarning: invalid value encountered in divide\n",
      "  \n",
      "/Users/ergonyc/Projects/Imaging/infer-subc/infer_subc/utils/stats.py:559: RuntimeWarning: invalid value encountered in divide\n",
      "  \n",
      "/Users/ergonyc/Projects/Imaging/infer-subc/infer_subc/utils/stats.py:548: RuntimeWarning: invalid value encountered in divide\n",
      "  \n",
      "/Users/ergonyc/Projects/Imaging/infer-subc/infer_subc/utils/stats.py:554: RuntimeWarning: invalid value encountered in divide\n",
      "  \n",
      "/Users/ergonyc/Projects/Imaging/infer-subc/infer_subc/utils/stats.py:559: RuntimeWarning: invalid value encountered in divide\n",
      "  \n",
      "/Users/ergonyc/Projects/Imaging/infer-subc/infer_subc/utils/stats.py:647: RuntimeWarning: invalid value encountered in divide\n",
      "  vi = np.sum(pixels[:,:,np.newaxis]*z.imag, axis=(0,1))\n",
      "/Users/ergonyc/Projects/Imaging/infer-subc/infer_subc/utils/stats.py:548: RuntimeWarning: invalid value encountered in divide\n",
      "  \n",
      "/Users/ergonyc/Projects/Imaging/infer-subc/infer_subc/utils/stats.py:554: RuntimeWarning: invalid value encountered in divide\n",
      "  \n",
      "/Users/ergonyc/Projects/Imaging/infer-subc/infer_subc/utils/stats.py:559: RuntimeWarning: invalid value encountered in divide\n",
      "  \n",
      "/Users/ergonyc/Projects/Imaging/infer-subc/infer_subc/utils/stats.py:647: RuntimeWarning: invalid value encountered in divide\n",
      "  vi = np.sum(pixels[:,:,np.newaxis]*z.imag, axis=(0,1))\n",
      "/Users/ergonyc/Projects/Imaging/infer-subc/infer_subc/utils/stats.py:548: RuntimeWarning: invalid value encountered in divide\n",
      "  \n",
      "/Users/ergonyc/Projects/Imaging/infer-subc/infer_subc/utils/stats.py:554: RuntimeWarning: invalid value encountered in divide\n",
      "  \n",
      "/Users/ergonyc/Projects/Imaging/infer-subc/infer_subc/utils/stats.py:559: RuntimeWarning: invalid value encountered in divide\n",
      "  \n",
      "/Users/ergonyc/Projects/Imaging/infer-subc/infer_subc/utils/stats.py:548: RuntimeWarning: invalid value encountered in divide\n",
      "  \n",
      "/Users/ergonyc/Projects/Imaging/infer-subc/infer_subc/utils/stats.py:554: RuntimeWarning: invalid value encountered in divide\n",
      "  \n",
      "/Users/ergonyc/Projects/Imaging/infer-subc/infer_subc/utils/stats.py:559: RuntimeWarning: invalid value encountered in divide\n",
      "  \n",
      "/Users/ergonyc/Projects/Imaging/infer-subc/infer_subc/utils/stats.py:647: RuntimeWarning: invalid value encountered in divide\n",
      "  vi = np.sum(pixels[:,:,np.newaxis]*z.imag, axis=(0,1))\n"
     ]
    },
    {
     "name": "stdout",
     "output_type": "stream",
     "text": [
      "dumped 49x3 organelle stats (['nuc', 'lyso', 'mito', 'golgi', 'perox', 'ER', 'LD']) csvs\n"
     ]
    },
    {
     "name": "stderr",
     "output_type": "stream",
     "text": [
      "/Users/ergonyc/miniforge3/envs/cento/lib/python3.10/site-packages/ome_types/_convenience.py:112: FutureWarning: The default XML parser will be changing from 'xmlschema' to 'lxml' in version 0.4.0.  To silence this warning, please provide the `parser` argument, specifying either 'lxml' (to opt into the new behavior), or'xmlschema' (to retain the old behavior).\n",
      "  d = to_dict(os.fspath(xml), parser=parser, validate=validate)\n",
      "/Users/ergonyc/Projects/Imaging/infer-subc/infer_subc/utils/stats.py:647: RuntimeWarning: invalid value encountered in divide\n",
      "  vi = np.sum(pixels[:,:,np.newaxis]*z.imag, axis=(0,1))\n",
      "/Users/ergonyc/Projects/Imaging/infer-subc/infer_subc/utils/stats.py:647: RuntimeWarning: invalid value encountered in divide\n",
      "  vi = np.sum(pixels[:,:,np.newaxis]*z.imag, axis=(0,1))\n"
     ]
    },
    {
     "name": "stdout",
     "output_type": "stream",
     "text": [
      "dumped 49x3 organelle stats (['nuc', 'lyso', 'mito', 'golgi', 'perox', 'ER', 'LD']) csvs\n"
     ]
    },
    {
     "name": "stderr",
     "output_type": "stream",
     "text": [
      "/Users/ergonyc/miniforge3/envs/cento/lib/python3.10/site-packages/ome_types/_convenience.py:112: FutureWarning: The default XML parser will be changing from 'xmlschema' to 'lxml' in version 0.4.0.  To silence this warning, please provide the `parser` argument, specifying either 'lxml' (to opt into the new behavior), or'xmlschema' (to retain the old behavior).\n",
      "  d = to_dict(os.fspath(xml), parser=parser, validate=validate)\n"
     ]
    },
    {
     "name": "stdout",
     "output_type": "stream",
     "text": [
      "dumped 49x3 organelle stats (['nuc', 'lyso', 'mito', 'golgi', 'perox', 'ER', 'LD']) csvs\n"
     ]
    },
    {
     "name": "stderr",
     "output_type": "stream",
     "text": [
      "/Users/ergonyc/miniforge3/envs/cento/lib/python3.10/site-packages/ome_types/_convenience.py:112: FutureWarning: The default XML parser will be changing from 'xmlschema' to 'lxml' in version 0.4.0.  To silence this warning, please provide the `parser` argument, specifying either 'lxml' (to opt into the new behavior), or'xmlschema' (to retain the old behavior).\n",
      "  d = to_dict(os.fspath(xml), parser=parser, validate=validate)\n",
      "/Users/ergonyc/Projects/Imaging/infer-subc/infer_subc/utils/stats.py:647: RuntimeWarning: invalid value encountered in divide\n",
      "  vi = np.sum(pixels[:,:,np.newaxis]*z.imag, axis=(0,1))\n"
     ]
    },
    {
     "name": "stdout",
     "output_type": "stream",
     "text": [
      "dumped 49x3 organelle stats (['nuc', 'lyso', 'mito', 'golgi', 'perox', 'ER', 'LD']) csvs\n"
     ]
    },
    {
     "name": "stderr",
     "output_type": "stream",
     "text": [
      "/Users/ergonyc/miniforge3/envs/cento/lib/python3.10/site-packages/ome_types/_convenience.py:112: FutureWarning: The default XML parser will be changing from 'xmlschema' to 'lxml' in version 0.4.0.  To silence this warning, please provide the `parser` argument, specifying either 'lxml' (to opt into the new behavior), or'xmlschema' (to retain the old behavior).\n",
      "  d = to_dict(os.fspath(xml), parser=parser, validate=validate)\n"
     ]
    },
    {
     "name": "stdout",
     "output_type": "stream",
     "text": [
      "dumped 49x3 organelle stats (['nuc', 'lyso', 'mito', 'golgi', 'perox', 'ER', 'LD']) csvs\n"
     ]
    },
    {
     "name": "stderr",
     "output_type": "stream",
     "text": [
      "/Users/ergonyc/miniforge3/envs/cento/lib/python3.10/site-packages/ome_types/_convenience.py:112: FutureWarning: The default XML parser will be changing from 'xmlschema' to 'lxml' in version 0.4.0.  To silence this warning, please provide the `parser` argument, specifying either 'lxml' (to opt into the new behavior), or'xmlschema' (to retain the old behavior).\n",
      "  d = to_dict(os.fspath(xml), parser=parser, validate=validate)\n",
      "/Users/ergonyc/Projects/Imaging/infer-subc/infer_subc/utils/stats.py:548: RuntimeWarning: invalid value encountered in divide\n",
      "  \n",
      "/Users/ergonyc/Projects/Imaging/infer-subc/infer_subc/utils/stats.py:554: RuntimeWarning: invalid value encountered in divide\n",
      "  \n",
      "/Users/ergonyc/Projects/Imaging/infer-subc/infer_subc/utils/stats.py:559: RuntimeWarning: invalid value encountered in divide\n",
      "  \n",
      "/Users/ergonyc/Projects/Imaging/infer-subc/infer_subc/utils/stats.py:548: RuntimeWarning: invalid value encountered in divide\n",
      "  \n",
      "/Users/ergonyc/Projects/Imaging/infer-subc/infer_subc/utils/stats.py:554: RuntimeWarning: invalid value encountered in divide\n",
      "  \n",
      "/Users/ergonyc/Projects/Imaging/infer-subc/infer_subc/utils/stats.py:559: RuntimeWarning: invalid value encountered in divide\n",
      "  \n",
      "/Users/ergonyc/Projects/Imaging/infer-subc/infer_subc/utils/stats.py:548: RuntimeWarning: invalid value encountered in divide\n",
      "  \n",
      "/Users/ergonyc/Projects/Imaging/infer-subc/infer_subc/utils/stats.py:554: RuntimeWarning: invalid value encountered in divide\n",
      "  \n",
      "/Users/ergonyc/Projects/Imaging/infer-subc/infer_subc/utils/stats.py:559: RuntimeWarning: invalid value encountered in divide\n",
      "  \n",
      "/Users/ergonyc/Projects/Imaging/infer-subc/infer_subc/utils/stats.py:548: RuntimeWarning: invalid value encountered in divide\n",
      "  \n",
      "/Users/ergonyc/Projects/Imaging/infer-subc/infer_subc/utils/stats.py:554: RuntimeWarning: invalid value encountered in divide\n",
      "  \n",
      "/Users/ergonyc/Projects/Imaging/infer-subc/infer_subc/utils/stats.py:559: RuntimeWarning: invalid value encountered in divide\n",
      "  \n",
      "/Users/ergonyc/Projects/Imaging/infer-subc/infer_subc/utils/stats.py:548: RuntimeWarning: invalid value encountered in divide\n",
      "  \n",
      "/Users/ergonyc/Projects/Imaging/infer-subc/infer_subc/utils/stats.py:554: RuntimeWarning: invalid value encountered in divide\n",
      "  \n",
      "/Users/ergonyc/Projects/Imaging/infer-subc/infer_subc/utils/stats.py:559: RuntimeWarning: invalid value encountered in divide\n",
      "  \n",
      "/Users/ergonyc/Projects/Imaging/infer-subc/infer_subc/utils/stats.py:548: RuntimeWarning: invalid value encountered in divide\n",
      "  \n",
      "/Users/ergonyc/Projects/Imaging/infer-subc/infer_subc/utils/stats.py:554: RuntimeWarning: invalid value encountered in divide\n",
      "  \n",
      "/Users/ergonyc/Projects/Imaging/infer-subc/infer_subc/utils/stats.py:559: RuntimeWarning: invalid value encountered in divide\n",
      "  \n",
      "/Users/ergonyc/Projects/Imaging/infer-subc/infer_subc/utils/stats.py:548: RuntimeWarning: invalid value encountered in divide\n",
      "  \n",
      "/Users/ergonyc/Projects/Imaging/infer-subc/infer_subc/utils/stats.py:554: RuntimeWarning: invalid value encountered in divide\n",
      "  \n",
      "/Users/ergonyc/Projects/Imaging/infer-subc/infer_subc/utils/stats.py:559: RuntimeWarning: invalid value encountered in divide\n",
      "  \n",
      "/Users/ergonyc/Projects/Imaging/infer-subc/infer_subc/utils/stats.py:647: RuntimeWarning: invalid value encountered in divide\n",
      "  vi = np.sum(pixels[:,:,np.newaxis]*z.imag, axis=(0,1))\n"
     ]
    },
    {
     "name": "stdout",
     "output_type": "stream",
     "text": [
      "dumped 49x3 organelle stats (['nuc', 'lyso', 'mito', 'golgi', 'perox', 'ER', 'LD']) csvs\n"
     ]
    },
    {
     "name": "stderr",
     "output_type": "stream",
     "text": [
      "/Users/ergonyc/miniforge3/envs/cento/lib/python3.10/site-packages/ome_types/_convenience.py:112: FutureWarning: The default XML parser will be changing from 'xmlschema' to 'lxml' in version 0.4.0.  To silence this warning, please provide the `parser` argument, specifying either 'lxml' (to opt into the new behavior), or'xmlschema' (to retain the old behavior).\n",
      "  d = to_dict(os.fspath(xml), parser=parser, validate=validate)\n",
      "/Users/ergonyc/Projects/Imaging/infer-subc/infer_subc/utils/stats.py:548: RuntimeWarning: invalid value encountered in divide\n",
      "  \n",
      "/Users/ergonyc/Projects/Imaging/infer-subc/infer_subc/utils/stats.py:554: RuntimeWarning: invalid value encountered in divide\n",
      "  \n",
      "/Users/ergonyc/Projects/Imaging/infer-subc/infer_subc/utils/stats.py:559: RuntimeWarning: invalid value encountered in divide\n",
      "  \n",
      "/Users/ergonyc/Projects/Imaging/infer-subc/infer_subc/utils/stats.py:548: RuntimeWarning: invalid value encountered in divide\n",
      "  \n",
      "/Users/ergonyc/Projects/Imaging/infer-subc/infer_subc/utils/stats.py:554: RuntimeWarning: invalid value encountered in divide\n",
      "  \n",
      "/Users/ergonyc/Projects/Imaging/infer-subc/infer_subc/utils/stats.py:559: RuntimeWarning: invalid value encountered in divide\n",
      "  \n",
      "/Users/ergonyc/Projects/Imaging/infer-subc/infer_subc/utils/stats.py:548: RuntimeWarning: invalid value encountered in divide\n",
      "  \n",
      "/Users/ergonyc/Projects/Imaging/infer-subc/infer_subc/utils/stats.py:554: RuntimeWarning: invalid value encountered in divide\n",
      "  \n",
      "/Users/ergonyc/Projects/Imaging/infer-subc/infer_subc/utils/stats.py:559: RuntimeWarning: invalid value encountered in divide\n",
      "  \n",
      "/Users/ergonyc/Projects/Imaging/infer-subc/infer_subc/utils/stats.py:548: RuntimeWarning: invalid value encountered in divide\n",
      "  \n",
      "/Users/ergonyc/Projects/Imaging/infer-subc/infer_subc/utils/stats.py:554: RuntimeWarning: invalid value encountered in divide\n",
      "  \n",
      "/Users/ergonyc/Projects/Imaging/infer-subc/infer_subc/utils/stats.py:559: RuntimeWarning: invalid value encountered in divide\n",
      "  \n",
      "/Users/ergonyc/Projects/Imaging/infer-subc/infer_subc/utils/stats.py:548: RuntimeWarning: invalid value encountered in divide\n",
      "  \n",
      "/Users/ergonyc/Projects/Imaging/infer-subc/infer_subc/utils/stats.py:554: RuntimeWarning: invalid value encountered in divide\n",
      "  \n",
      "/Users/ergonyc/Projects/Imaging/infer-subc/infer_subc/utils/stats.py:559: RuntimeWarning: invalid value encountered in divide\n",
      "  \n",
      "/Users/ergonyc/Projects/Imaging/infer-subc/infer_subc/utils/stats.py:548: RuntimeWarning: invalid value encountered in divide\n",
      "  \n",
      "/Users/ergonyc/Projects/Imaging/infer-subc/infer_subc/utils/stats.py:554: RuntimeWarning: invalid value encountered in divide\n",
      "  \n",
      "/Users/ergonyc/Projects/Imaging/infer-subc/infer_subc/utils/stats.py:559: RuntimeWarning: invalid value encountered in divide\n",
      "  \n",
      "/Users/ergonyc/Projects/Imaging/infer-subc/infer_subc/utils/stats.py:548: RuntimeWarning: invalid value encountered in divide\n",
      "  \n",
      "/Users/ergonyc/Projects/Imaging/infer-subc/infer_subc/utils/stats.py:554: RuntimeWarning: invalid value encountered in divide\n",
      "  \n",
      "/Users/ergonyc/Projects/Imaging/infer-subc/infer_subc/utils/stats.py:559: RuntimeWarning: invalid value encountered in divide\n",
      "  \n",
      "/Users/ergonyc/Projects/Imaging/infer-subc/infer_subc/utils/stats.py:647: RuntimeWarning: invalid value encountered in divide\n",
      "  vi = np.sum(pixels[:,:,np.newaxis]*z.imag, axis=(0,1))\n"
     ]
    },
    {
     "name": "stdout",
     "output_type": "stream",
     "text": [
      "dumped 49x3 organelle stats (['nuc', 'lyso', 'mito', 'golgi', 'perox', 'ER', 'LD']) csvs\n"
     ]
    },
    {
     "name": "stderr",
     "output_type": "stream",
     "text": [
      "/Users/ergonyc/miniforge3/envs/cento/lib/python3.10/site-packages/ome_types/_convenience.py:112: FutureWarning: The default XML parser will be changing from 'xmlschema' to 'lxml' in version 0.4.0.  To silence this warning, please provide the `parser` argument, specifying either 'lxml' (to opt into the new behavior), or'xmlschema' (to retain the old behavior).\n",
      "  d = to_dict(os.fspath(xml), parser=parser, validate=validate)\n",
      "/Users/ergonyc/Projects/Imaging/infer-subc/infer_subc/utils/stats.py:647: RuntimeWarning: invalid value encountered in divide\n",
      "  vi = np.sum(pixels[:,:,np.newaxis]*z.imag, axis=(0,1))\n"
     ]
    },
    {
     "name": "stdout",
     "output_type": "stream",
     "text": [
      "dumped 49x3 organelle stats (['nuc', 'lyso', 'mito', 'golgi', 'perox', 'ER', 'LD']) csvs\n"
     ]
    },
    {
     "name": "stderr",
     "output_type": "stream",
     "text": [
      "/Users/ergonyc/miniforge3/envs/cento/lib/python3.10/site-packages/ome_types/_convenience.py:112: FutureWarning: The default XML parser will be changing from 'xmlschema' to 'lxml' in version 0.4.0.  To silence this warning, please provide the `parser` argument, specifying either 'lxml' (to opt into the new behavior), or'xmlschema' (to retain the old behavior).\n",
      "  d = to_dict(os.fspath(xml), parser=parser, validate=validate)\n",
      "/Users/ergonyc/Projects/Imaging/infer-subc/infer_subc/utils/stats.py:647: RuntimeWarning: invalid value encountered in divide\n",
      "  vi = np.sum(pixels[:,:,np.newaxis]*z.imag, axis=(0,1))\n"
     ]
    },
    {
     "name": "stdout",
     "output_type": "stream",
     "text": [
      "dumped 49x3 organelle stats (['nuc', 'lyso', 'mito', 'golgi', 'perox', 'ER', 'LD']) csvs\n"
     ]
    },
    {
     "name": "stderr",
     "output_type": "stream",
     "text": [
      "/Users/ergonyc/miniforge3/envs/cento/lib/python3.10/site-packages/ome_types/_convenience.py:112: FutureWarning: The default XML parser will be changing from 'xmlschema' to 'lxml' in version 0.4.0.  To silence this warning, please provide the `parser` argument, specifying either 'lxml' (to opt into the new behavior), or'xmlschema' (to retain the old behavior).\n",
      "  d = to_dict(os.fspath(xml), parser=parser, validate=validate)\n",
      "/Users/ergonyc/Projects/Imaging/infer-subc/infer_subc/utils/stats.py:647: RuntimeWarning: invalid value encountered in divide\n",
      "  vi = np.sum(pixels[:,:,np.newaxis]*z.imag, axis=(0,1))\n"
     ]
    },
    {
     "name": "stdout",
     "output_type": "stream",
     "text": [
      "dumped 49x3 organelle stats (['nuc', 'lyso', 'mito', 'golgi', 'perox', 'ER', 'LD']) csvs\n"
     ]
    },
    {
     "name": "stderr",
     "output_type": "stream",
     "text": [
      "/Users/ergonyc/miniforge3/envs/cento/lib/python3.10/site-packages/ome_types/_convenience.py:112: FutureWarning: The default XML parser will be changing from 'xmlschema' to 'lxml' in version 0.4.0.  To silence this warning, please provide the `parser` argument, specifying either 'lxml' (to opt into the new behavior), or'xmlschema' (to retain the old behavior).\n",
      "  d = to_dict(os.fspath(xml), parser=parser, validate=validate)\n"
     ]
    },
    {
     "name": "stdout",
     "output_type": "stream",
     "text": [
      "dumped 49x3 organelle stats (['nuc', 'lyso', 'mito', 'golgi', 'perox', 'ER', 'LD']) csvs\n"
     ]
    },
    {
     "name": "stderr",
     "output_type": "stream",
     "text": [
      "/Users/ergonyc/miniforge3/envs/cento/lib/python3.10/site-packages/ome_types/_convenience.py:112: FutureWarning: The default XML parser will be changing from 'xmlschema' to 'lxml' in version 0.4.0.  To silence this warning, please provide the `parser` argument, specifying either 'lxml' (to opt into the new behavior), or'xmlschema' (to retain the old behavior).\n",
      "  d = to_dict(os.fspath(xml), parser=parser, validate=validate)\n",
      "/Users/ergonyc/Projects/Imaging/infer-subc/infer_subc/utils/stats.py:647: RuntimeWarning: invalid value encountered in divide\n",
      "  vi = np.sum(pixels[:,:,np.newaxis]*z.imag, axis=(0,1))\n"
     ]
    },
    {
     "name": "stdout",
     "output_type": "stream",
     "text": [
      "dumped 49x3 organelle stats (['nuc', 'lyso', 'mito', 'golgi', 'perox', 'ER', 'LD']) csvs\n"
     ]
    },
    {
     "name": "stderr",
     "output_type": "stream",
     "text": [
      "/Users/ergonyc/miniforge3/envs/cento/lib/python3.10/site-packages/ome_types/_convenience.py:112: FutureWarning: The default XML parser will be changing from 'xmlschema' to 'lxml' in version 0.4.0.  To silence this warning, please provide the `parser` argument, specifying either 'lxml' (to opt into the new behavior), or'xmlschema' (to retain the old behavior).\n",
      "  d = to_dict(os.fspath(xml), parser=parser, validate=validate)\n",
      "/Users/ergonyc/Projects/Imaging/infer-subc/infer_subc/utils/stats.py:647: RuntimeWarning: invalid value encountered in divide\n",
      "  vi = np.sum(pixels[:,:,np.newaxis]*z.imag, axis=(0,1))\n"
     ]
    },
    {
     "name": "stdout",
     "output_type": "stream",
     "text": [
      "dumped 49x3 organelle stats (['nuc', 'lyso', 'mito', 'golgi', 'perox', 'ER', 'LD']) csvs\n"
     ]
    },
    {
     "name": "stderr",
     "output_type": "stream",
     "text": [
      "/Users/ergonyc/miniforge3/envs/cento/lib/python3.10/site-packages/ome_types/_convenience.py:112: FutureWarning: The default XML parser will be changing from 'xmlschema' to 'lxml' in version 0.4.0.  To silence this warning, please provide the `parser` argument, specifying either 'lxml' (to opt into the new behavior), or'xmlschema' (to retain the old behavior).\n",
      "  d = to_dict(os.fspath(xml), parser=parser, validate=validate)\n",
      "/Users/ergonyc/Projects/Imaging/infer-subc/infer_subc/utils/stats.py:647: RuntimeWarning: invalid value encountered in divide\n",
      "  vi = np.sum(pixels[:,:,np.newaxis]*z.imag, axis=(0,1))\n"
     ]
    },
    {
     "name": "stdout",
     "output_type": "stream",
     "text": [
      "dumped 49x3 organelle stats (['nuc', 'lyso', 'mito', 'golgi', 'perox', 'ER', 'LD']) csvs\n"
     ]
    },
    {
     "name": "stderr",
     "output_type": "stream",
     "text": [
      "/Users/ergonyc/miniforge3/envs/cento/lib/python3.10/site-packages/ome_types/_convenience.py:112: FutureWarning: The default XML parser will be changing from 'xmlschema' to 'lxml' in version 0.4.0.  To silence this warning, please provide the `parser` argument, specifying either 'lxml' (to opt into the new behavior), or'xmlschema' (to retain the old behavior).\n",
      "  d = to_dict(os.fspath(xml), parser=parser, validate=validate)\n",
      "/Users/ergonyc/Projects/Imaging/infer-subc/infer_subc/utils/stats.py:647: RuntimeWarning: invalid value encountered in divide\n",
      "  vi = np.sum(pixels[:,:,np.newaxis]*z.imag, axis=(0,1))\n"
     ]
    },
    {
     "name": "stdout",
     "output_type": "stream",
     "text": [
      "dumped 49x3 organelle stats (['nuc', 'lyso', 'mito', 'golgi', 'perox', 'ER', 'LD']) csvs\n"
     ]
    },
    {
     "name": "stderr",
     "output_type": "stream",
     "text": [
      "/Users/ergonyc/miniforge3/envs/cento/lib/python3.10/site-packages/ome_types/_convenience.py:112: FutureWarning: The default XML parser will be changing from 'xmlschema' to 'lxml' in version 0.4.0.  To silence this warning, please provide the `parser` argument, specifying either 'lxml' (to opt into the new behavior), or'xmlschema' (to retain the old behavior).\n",
      "  d = to_dict(os.fspath(xml), parser=parser, validate=validate)\n"
     ]
    },
    {
     "name": "stdout",
     "output_type": "stream",
     "text": [
      "dumped 49x3 organelle stats (['nuc', 'lyso', 'mito', 'golgi', 'perox', 'ER', 'LD']) csvs\n"
     ]
    },
    {
     "name": "stderr",
     "output_type": "stream",
     "text": [
      "/Users/ergonyc/miniforge3/envs/cento/lib/python3.10/site-packages/ome_types/_convenience.py:112: FutureWarning: The default XML parser will be changing from 'xmlschema' to 'lxml' in version 0.4.0.  To silence this warning, please provide the `parser` argument, specifying either 'lxml' (to opt into the new behavior), or'xmlschema' (to retain the old behavior).\n",
      "  d = to_dict(os.fspath(xml), parser=parser, validate=validate)\n",
      "/Users/ergonyc/Projects/Imaging/infer-subc/infer_subc/utils/stats.py:548: RuntimeWarning: invalid value encountered in divide\n",
      "  \n",
      "/Users/ergonyc/Projects/Imaging/infer-subc/infer_subc/utils/stats.py:554: RuntimeWarning: invalid value encountered in divide\n",
      "  \n",
      "/Users/ergonyc/Projects/Imaging/infer-subc/infer_subc/utils/stats.py:559: RuntimeWarning: invalid value encountered in divide\n",
      "  \n",
      "/Users/ergonyc/Projects/Imaging/infer-subc/infer_subc/utils/stats.py:548: RuntimeWarning: invalid value encountered in divide\n",
      "  \n",
      "/Users/ergonyc/Projects/Imaging/infer-subc/infer_subc/utils/stats.py:554: RuntimeWarning: invalid value encountered in divide\n",
      "  \n",
      "/Users/ergonyc/Projects/Imaging/infer-subc/infer_subc/utils/stats.py:559: RuntimeWarning: invalid value encountered in divide\n",
      "  \n",
      "/Users/ergonyc/Projects/Imaging/infer-subc/infer_subc/utils/stats.py:548: RuntimeWarning: invalid value encountered in divide\n",
      "  \n",
      "/Users/ergonyc/Projects/Imaging/infer-subc/infer_subc/utils/stats.py:554: RuntimeWarning: invalid value encountered in divide\n",
      "  \n",
      "/Users/ergonyc/Projects/Imaging/infer-subc/infer_subc/utils/stats.py:559: RuntimeWarning: invalid value encountered in divide\n",
      "  \n",
      "/Users/ergonyc/Projects/Imaging/infer-subc/infer_subc/utils/stats.py:548: RuntimeWarning: invalid value encountered in divide\n",
      "  \n",
      "/Users/ergonyc/Projects/Imaging/infer-subc/infer_subc/utils/stats.py:554: RuntimeWarning: invalid value encountered in divide\n",
      "  \n",
      "/Users/ergonyc/Projects/Imaging/infer-subc/infer_subc/utils/stats.py:559: RuntimeWarning: invalid value encountered in divide\n",
      "  \n",
      "/Users/ergonyc/Projects/Imaging/infer-subc/infer_subc/utils/stats.py:548: RuntimeWarning: invalid value encountered in divide\n",
      "  \n",
      "/Users/ergonyc/Projects/Imaging/infer-subc/infer_subc/utils/stats.py:554: RuntimeWarning: invalid value encountered in divide\n",
      "  \n",
      "/Users/ergonyc/Projects/Imaging/infer-subc/infer_subc/utils/stats.py:559: RuntimeWarning: invalid value encountered in divide\n",
      "  \n",
      "/Users/ergonyc/Projects/Imaging/infer-subc/infer_subc/utils/stats.py:548: RuntimeWarning: invalid value encountered in divide\n",
      "  \n",
      "/Users/ergonyc/Projects/Imaging/infer-subc/infer_subc/utils/stats.py:554: RuntimeWarning: invalid value encountered in divide\n",
      "  \n",
      "/Users/ergonyc/Projects/Imaging/infer-subc/infer_subc/utils/stats.py:559: RuntimeWarning: invalid value encountered in divide\n",
      "  \n",
      "/Users/ergonyc/Projects/Imaging/infer-subc/infer_subc/utils/stats.py:548: RuntimeWarning: invalid value encountered in divide\n",
      "  \n",
      "/Users/ergonyc/Projects/Imaging/infer-subc/infer_subc/utils/stats.py:554: RuntimeWarning: invalid value encountered in divide\n",
      "  \n",
      "/Users/ergonyc/Projects/Imaging/infer-subc/infer_subc/utils/stats.py:559: RuntimeWarning: invalid value encountered in divide\n",
      "  \n",
      "/Users/ergonyc/Projects/Imaging/infer-subc/infer_subc/utils/stats.py:647: RuntimeWarning: invalid value encountered in divide\n",
      "  vi = np.sum(pixels[:,:,np.newaxis]*z.imag, axis=(0,1))\n"
     ]
    },
    {
     "name": "stdout",
     "output_type": "stream",
     "text": [
      "dumped 49x3 organelle stats (['nuc', 'lyso', 'mito', 'golgi', 'perox', 'ER', 'LD']) csvs\n"
     ]
    },
    {
     "name": "stderr",
     "output_type": "stream",
     "text": [
      "/Users/ergonyc/miniforge3/envs/cento/lib/python3.10/site-packages/ome_types/_convenience.py:112: FutureWarning: The default XML parser will be changing from 'xmlschema' to 'lxml' in version 0.4.0.  To silence this warning, please provide the `parser` argument, specifying either 'lxml' (to opt into the new behavior), or'xmlschema' (to retain the old behavior).\n",
      "  d = to_dict(os.fspath(xml), parser=parser, validate=validate)\n"
     ]
    },
    {
     "name": "stdout",
     "output_type": "stream",
     "text": [
      "dumped 49x3 organelle stats (['nuc', 'lyso', 'mito', 'golgi', 'perox', 'ER', 'LD']) csvs\n"
     ]
    },
    {
     "name": "stderr",
     "output_type": "stream",
     "text": [
      "/Users/ergonyc/miniforge3/envs/cento/lib/python3.10/site-packages/ome_types/_convenience.py:112: FutureWarning: The default XML parser will be changing from 'xmlschema' to 'lxml' in version 0.4.0.  To silence this warning, please provide the `parser` argument, specifying either 'lxml' (to opt into the new behavior), or'xmlschema' (to retain the old behavior).\n",
      "  d = to_dict(os.fspath(xml), parser=parser, validate=validate)\n"
     ]
    },
    {
     "name": "stdout",
     "output_type": "stream",
     "text": [
      "dumped 49x3 organelle stats (['nuc', 'lyso', 'mito', 'golgi', 'perox', 'ER', 'LD']) csvs\n"
     ]
    }
   ],
   "source": [
    "# for a list of \"prefixes\"  collect stats + cross stats masked by cytosol (including nuclei masked by cellmask)\n",
    "\n",
    "def dump_all_stats(int_path: Union[Path,str], out_path: Union[Path, str], raw_path: Union[Path,str], organelle_names: List[str]= [\"nuclei\",\"golgi\",\"peroxi\"], organelle_chs: List[int]= [NUC_CH,GOLGI_CH, PEROX_CH], postfix: str = \".tiff\"):\n",
    "    \"\"\"  \n",
    "    TODO: add loggin instead of printing\n",
    "        append tiffcomments with provenance\n",
    "    \"\"\"\n",
    "\n",
    "    \n",
    "    if isinstance(raw_path, str): raw_path = Path(raw_path)\n",
    "    if isinstance(int_path, str): int_path = Path(int_path)\n",
    "    if isinstance(out_path, str): out_path = Path(out_path)\n",
    "    \n",
    "    img_file_list = list_image_files(raw_path,\".czi\")\n",
    "\n",
    "    if not Path.exists(out_path):\n",
    "        Path.mkdir(out_path)\n",
    "        print(f\"making {out_path}\")\n",
    "        \n",
    "    for img_f in img_file_list:\n",
    "        filez = find_segmentation_tiff_files(img_f, organelle_names, int_path)\n",
    "        img_data,meta_dict = read_czi_image(filez[\"raw\"])\n",
    "\n",
    "        # load organelles and masks\n",
    "        cyto_mask = read_tiff_image(filez[\"cyto\"])\n",
    "        cellmask_obj = read_tiff_image(filez[\"cell\"])\n",
    "\n",
    "\n",
    "\n",
    "        # create intensities from raw as list\n",
    "        intensities = [img_data[ch] for ch in organelle_chs]\n",
    "\n",
    "        # load organelles as list\n",
    "        organelles = [read_tiff_image(filez[org]) for org in organelle_names]\n",
    "        \n",
    "        #get mask (cyto_mask)\n",
    "        nuclei_obj = organelles[ organelle_names.index(\"nuc\") ]\n",
    "\n",
    "        n_files = make_organelle_stat_tables(organelle_names, \n",
    "                                      organelles,\n",
    "                                      intensities, \n",
    "                                      nuclei_obj,\n",
    "                                      cellmask_obj,\n",
    "                                      cyto_mask, \n",
    "                                      out_data_path, \n",
    "                                      img_f,\n",
    "                                      n_rad_bins=5,\n",
    "                                      n_zernike=9)\n",
    "\n",
    "    return n_files\n",
    "\n",
    "\n",
    "\n",
    "# all the imaging data goes here.\n",
    "data_root_path = Path(os.path.expanduser(\"~\")) / \"Projects/Imaging/data\"\n",
    "# linearly unmixed \".czi\" files are here\n",
    "raw_data_path = data_root_path / \"raw\"\n",
    "# save output \".tiff\" files here\n",
    "int_data_path = data_root_path / \"out\"\n",
    "# save stats here\n",
    "out_data_path = data_root_path / \"out\"\n",
    "\n",
    "dump_all_stats(out_data_path, \n",
    "                     out_data_path, \n",
    "                     raw_data_path, \n",
    "                     organelle_names=organelle_names, \n",
    "                     organelle_chs=organelle_channels)\n",
    "\n"
   ]
  },
  {
   "attachments": {},
   "cell_type": "markdown",
   "metadata": {},
   "source": [
    "# summary statistics\n",
    "\n",
    "We now need to merge our files"
   ]
  },
  {
   "cell_type": "code",
   "execution_count": 16,
   "metadata": {},
   "outputs": [],
   "source": [
    "\n",
    "data_root_path = Path(os.path.expanduser(\"~\")) / \"Projects/Imaging/data\"\n",
    "\n",
    "# linearly unmixed \".czi\" files are here\n",
    "int_data_path = data_root_path / \"out\"\n"
   ]
  },
  {
   "cell_type": "code",
   "execution_count": 439,
   "metadata": {},
   "outputs": [],
   "source": [
    "# for a list of \"prefixes\"  collect stats + cross stats masked by cytosol (including nuclei masked by cellmask)\n",
    "\n",
    "def summarize_by_id(stats_in:pd.DataFrame,agg_fn: List) -> pd.DataFrame:\n",
    "    \"\"\" \n",
    "    \"\"\"\n",
    "    summary = stats_in.groupby(['ID']).agg(agg_fn)\n",
    "    summary.columns = [\"_\".join(col_name).rstrip('_') for col_name in summary.columns.to_flat_index()]\n",
    "    return summary\n",
    "\n",
    "\n",
    "\n",
    "def create_stats_summary(summary_df:pd.DataFrame) -> pd.DataFrame:\n",
    "    \"\"\"\n",
    "    \"\"\"\n",
    "\n",
    "    column_names = summary_df.columns\n",
    "    # ['ID', 'organelle', 'label', 'max_intensity', 'mean_intensity',\n",
    "    #     'min_intensity', 'volume', 'equivalent_diameter', 'euler_number', 'extent',\n",
    "    #     'standard_deviation_intensity', 'surface_area', 'NU_overlap',\n",
    "    #     'NU_labels', 'MY_overlap', 'MY_labels', 'GL_overlap', 'GL_labels',\n",
    "    #     'PR_overlap', 'PR_labels', 'ER_overlap', 'ER_labels', 'LD_overlap',\n",
    "    #     'LD_labels'] #minus centers and \n",
    "\n",
    "    math_cols = ['ID', 'mean_intensity',\n",
    "        'standard_deviation_intensity',\n",
    "        'min_intensity','max_intensity', 'equivalent_diameter',\n",
    "        'euler_number', 'extent']\n",
    "        \n",
    "    def fix_list_col(stats:pd.DataFrame) -> pd.DataFrame:\n",
    "        \"\"\" \n",
    "        \"\"\"\n",
    "        def str_col(x):    \n",
    "            if isinstance(x,str):\n",
    "                if x == '[]': return list()\n",
    "                xstr = x.strip(\"[]\").replace(\"'\", \"\").split(\", \")\n",
    "                return [int(x) for x in xstr]\n",
    "            else:\n",
    "                return x\n",
    "\n",
    "        \n",
    "        label_stats = pd.DataFrame() \n",
    "        for i,col in enumerate(stats.columns):    \n",
    "            label_stats[col] = stats[col].apply(str_col) if i>0 else stats[col]\n",
    "        return label_stats\n",
    "\n",
    "    def frac(x):\n",
    "        return (x>0).sum()/x.count() \n",
    "\n",
    "    vol_cols = ['ID','volume']\n",
    "    overlap_cols = ['ID'] + [col for col in column_names if col[3:]=='overlap']\n",
    "    labels_cols = ['ID'] + [col for col in column_names if col[3:]=='labels']\n",
    "   \n",
    "    agg_func_math = ['sum', 'mean', 'median', 'min', 'max', 'std','count']\n",
    "    agg_func_overlap = ['sum', 'mean', 'median','count',frac]\n",
    "    agg_func_labels = ['sum']\n",
    "    agg_func_vol = ['sum', 'mean', 'median', 'min', 'max', 'std', 'var']\n",
    "\n",
    "    math_summary = summarize_by_id( summary_df[math_cols] , agg_func_math)\n",
    "    label_stats = fix_list_col(summary_df[labels_cols])\n",
    "    label_summary = summarize_by_id( label_stats , agg_func_labels)\n",
    "    overlap_summary = summarize_by_id( summary_df[overlap_cols] ,agg_func_overlap)\n",
    "    vol_summary = summarize_by_id( summary_df[vol_cols] , agg_func_vol)\n",
    "    result = pd.concat([math_summary, vol_summary, overlap_summary, label_summary], axis=1)\n",
    "\n",
    "    result.insert(loc=0,column=\"ID\",value=result.index)\n",
    "    \n",
    "    return result\n",
    "\n",
    "\n",
    "\n",
    "# def create_proj_stats_summary(summary_df:pd.DataFrame) -> pd.DataFrame:\n",
    "#     \"\"\"\n",
    "#     \"\"\"\n",
    "#     proj_cols = ['ID', 'organelle', 'mask', 'radial_n_bins', 'radial_bins',\n",
    "#        'radial_cm_vox_cnt', 'radial_org_vox_cnt', 'radial_org_intensity',\n",
    "#        'radial_n_pix', 'radial_cm_cv', 'radial_org_cv', 'radial_img_cv',\n",
    "#        'zernike_n', 'zernike_m', 'zernike_cm_mag', 'zernike_cm_phs',\n",
    "#        'zernike_obj_mag', 'zernike_obj_phs', 'zernike_nuc_mag',\n",
    "#        'zernike_nuc_phs', 'zernike_img_mag', 'n_z', 'z', 'z_cm_vox_cnt',\n",
    "#        'z_org_vox_cnt', 'z_org_intensity', 'z_nuc_vox_cnt']\n",
    "#     def frac(x):\n",
    "#         return (x>0).sum()/x.count() \n",
    "#     vol_cols = ['ID','volume']\n",
    "#     overlap_cols = ['ID'] + [col for col in column_names if col[3:]=='overlap']\n",
    "#     labels_cols = ['ID'] + [col for col in column_names if col[3:]=='labels']  \n",
    "#     agg_func_math = ['sum', 'mean', 'median', 'min', 'max', 'std','count']\n",
    "#     agg_func_overlap = ['sum', 'mean', 'median','count',frac]\n",
    "#     agg_func_labels = ['sum']\n",
    "#     agg_func_vol = ['sum', 'mean', 'median', 'min', 'max', 'std', 'var']\n",
    "#     math_summary = summarize_by_id( summary_df[math_cols] , agg_func_math)\n",
    "#     label_stats = fix_list_col(summary_df[labels_cols])\n",
    "#     label_summary = summarize_by_id( label_stats , agg_func_labels)\n",
    "#     overlap_summary = summarize_by_id( summary_df[overlap_cols] ,agg_func_overlap)\n",
    "#     vol_summary = summarize_by_id( summary_df[vol_cols] , agg_func_vol)\n",
    "#     result = pd.concat([math_summary, vol_summary, overlap_summary, label_summary], axis=1)\n",
    "#     return result\n",
    "\n",
    "\n",
    "def summarize_by_group(stats_in:pd.DataFrame, grp_col:list, agg_fn:list) -> pd.DataFrame:\n",
    "    \"\"\" \n",
    "    \"\"\"\n",
    "    summary = stats_in.reset_index(drop=True).groupby(grp_col).agg(agg_fn)\n",
    "    summary.columns = [\"_\".join(col_name).rstrip('_') for col_name in summary.columns.to_flat_index()]\n",
    "    return summary\n",
    "\n",
    "\n",
    "def create_cross_stats_summary(summary_df:pd.DataFrame) -> pd.DataFrame:\n",
    "    \"\"\"\n",
    "    \"\"\"\n",
    "    # cross_cols = ['ID', 'organelle', 'organelle_b', 'shell', 'label_', 'label', 'volume',\n",
    "    #    'equivalent_diameter', 'centroid-0', 'centroid-1', 'centroid-2',\n",
    "    #    'bbox-0', 'bbox-1', 'bbox-2', 'bbox-3', 'bbox-4', 'bbox-5',\n",
    "    #    'surface_area', 'label_a', 'label_b']\n",
    "    cross_cols = ['ID', 'organelle', 'organelle_b', 'shell', 'label_', 'label', 'volume',\n",
    "       'equivalent_diameter','surface_area', 'label_a', 'label_b']\n",
    "\n",
    "    group_cols = ['ID','organelle_b', 'shell']\n",
    "    id_cols = ['label_','label_a', 'label_b'] \n",
    "    math_cols = ['volume','equivalent_diameter','surface_area']\n",
    "\n",
    "    def lst(x):\n",
    "        return x.to_list()\n",
    "       \n",
    "    agg_func_math = ['sum', 'mean', 'median', 'min', 'max', 'std','count']\n",
    "    agg_func_id = [lst]\n",
    "\n",
    "    math_summary = summarize_by_group( summary_df[group_cols + math_cols],group_cols, agg_func_math)\n",
    "\n",
    "    id_summary = summarize_by_group( summary_df[group_cols + id_cols],group_cols, agg_func_id)\n",
    "\n",
    "    result = pd.concat([math_summary, id_summary], axis=1)\n",
    "    return result\n",
    "\n",
    "    # now \n",
    "\n",
    "def summarize_cross_stats(summary_df:pd.DataFrame) -> pd.DataFrame:\n",
    "    \"\"\"\n",
    "    \"\"\"\n",
    "    # get shell\n",
    "    shell_summary_i = create_cross_stats_summary(summary_df.loc[summary_df[\"shell\"] == True]).reset_index().drop(\"shell\", axis = 1).add_prefix(\"shell_\")\n",
    "    # rename shell_ID to ID\n",
    "    shell_summary_i = shell_summary_i.rename(columns={\"shell_ID\":\"ID\",\"shell_organelle_b\":\"organelle_b\"})\n",
    "\n",
    "    # get non-shell\n",
    "    summary_i = create_cross_stats_summary(summary_df.loc[summary_df[\"shell\"] == False]).reset_index().drop(\"shell\", axis = 1)\n",
    "\n",
    "    summary_i = summary_i.merge(shell_summary_i,on=[\"ID\",\"organelle_b\"])\n",
    "\n",
    "    return summary_i\n",
    "\n",
    "\n",
    "\n",
    "\n",
    "def pivot_cross_stats(summary_df:pd.DataFrame) -> pd.DataFrame:\n",
    "    \"\"\"\n",
    "    \"\"\"\n",
    "    xstat_df = pd.DataFrame()\n",
    "    for i,org_b in enumerate(org_bs):\n",
    "        org_i = summary_df.loc[summary_df[\"organelle_b\"] == org_b]\n",
    "\n",
    "        # get shell\n",
    "        shell_summary_i = create_cross_stats_summary(org_i.loc[org_i[\"shell\"] == False]).reset_index().drop(\"shell\", axis = 1).add_prefix(\"shell_\")\n",
    "        # rename shell_ID to ID\n",
    "        shell_summary_i = shell_summary_i.rename(columns={\"shell_ID\":\"ID\",\"shell_organelle_b\":\"organelle_b\"})\n",
    "        # get non-shell\n",
    "        summary_i = create_cross_stats_summary(org_i.loc[org_i[\"shell\"] == False]).reset_index().drop(\"shell\", axis = 1)\n",
    "        col_orgb = organelle_to_colname[org_b]\n",
    "\n",
    "        summary_i = summary_i.merge(shell_summary_i,on=[\"ID\",\"organelle_b\"]).drop(\"organelle_b\", axis=1).add_suffix(f\"_{col_orgb}\")\n",
    "        if i>0:\n",
    "            xstat_df = pd.concat([xstat_df,summary_i], axis=1)\n",
    "        else:\n",
    "            xstat_df = summary_i\n",
    "            \n",
    "    id_cols = [col for col in xstat_df.columns if \"ID\" in col]\n",
    "    IDcol = xstat_df[id_cols[0]]\n",
    "    xstat_df = xstat_df.drop(id_cols, axis=1)\n",
    "    xstat_df.insert(loc=0,column=\"ID\",value=IDcol)\n",
    "\n",
    "    return xstat_df\n",
    "\n",
    "\n",
    "\n",
    "\n",
    "\n",
    "def summarize_organelle_stats(int_path: Union[Path,str], \n",
    "                              out_path: Union[Path, str], \n",
    "                              organelle_names: List[str]= [\"nuclei\",\"golgi\",\"peroxi\"]):\n",
    "    \"\"\"  \n",
    "    \"\"\"\n",
    "    # write out files... \n",
    "    # org_stats_tabs.append(A_stats_tab)\n",
    "    # csv_path = out_data_path / f\"{source_file.stem}-{target}-stats.csv\"\n",
    "    # csv_path = out_data_path / f\"{source_file.stem}-{target}-cross-stats.csv\"\n",
    "    # csv_path = out_data_path / f\"{source_file.stem}-{target}-proj-stats.csv\"\n",
    "    list_proj_cols = ['radial_bins',\n",
    "       'radial_cm_vox_cnt', 'radial_org_vox_cnt', 'radial_org_intensity',\n",
    "       'radial_n_pix', 'radial_cm_cv', 'radial_org_cv', 'radial_img_cv',\n",
    "       'zernike_n', 'zernike_m', 'zernike_cm_mag', 'zernike_cm_phs',\n",
    "       'zernike_obj_mag', 'zernike_obj_phs', 'zernike_nuc_mag',\n",
    "       'zernike_nuc_phs', 'zernike_img_mag','z', 'z_cm_vox_cnt',\n",
    "       'z_org_vox_cnt', 'z_org_intensity', 'z_nuc_vox_cnt'] \n",
    "    \n",
    "    def _load_list_cols(stats:pd.DataFrame, list_cols) -> pd.DataFrame:\n",
    "        \"\"\" \n",
    "        \"\"\"\n",
    "        def str_col(x):\n",
    "            if x == '[]':\n",
    "                return list()\n",
    "            else:\n",
    "                xstr = x.strip(\"[]\").replace(\"'\", \"\").split(\", \")\n",
    "            return [float(x) if x.isnumeric() else x for x in xstr]\n",
    "            \n",
    "        _stats = pd.DataFrame() \n",
    "        for col in stats.columns:    \n",
    "            _stats[col] = stats[col].apply(str_col) if col in list_cols else stats[col]\n",
    "        return _stats\n",
    "\n",
    "\n",
    "    if isinstance(int_path, str): int_path = Path(int_path)\n",
    "    if isinstance(out_path, str): out_path = Path(out_path)\n",
    "\n",
    "    if not Path.exists(out_path):\n",
    "        Path.mkdir(out_path)\n",
    "        print(f\"making {out_path}\")\n",
    "\n",
    "\n",
    "    all_stats_df = pd.DataFrame()\n",
    "    all_cross_stats_df = pd.DataFrame()\n",
    "    all_proj_stats_df = pd.DataFrame()\n",
    "    \n",
    "    for target in organelle_names:\n",
    "        print(target)\n",
    "        stat_file_list = sorted( int_path.glob(f\"*{target}-stats.csv\") )\n",
    "\n",
    "        stats_df = pd.DataFrame()\n",
    "        cross_stats_df = pd.DataFrame()\n",
    "        proj_stats_df = pd.DataFrame()\n",
    "\n",
    "        for stats_f in stat_file_list:\n",
    "            # stats load the csv\n",
    "            stats = pd.read_csv(stats_f, index_col=0)\n",
    "    \n",
    "            # projection stats\n",
    "            stem = stats_f.stem.split(\"-\")[0]\n",
    "            csv_path = int_path / f\"{stem}-{target}-proj-stats.csv\"\n",
    "            proj = pd.read_csv(csv_path, index_col=0)\n",
    "            proj = _load_list_cols(proj, list_proj_cols)\n",
    "        \n",
    "            # cross stats\n",
    "            csv_path = int_path / f\"{stem}-{target}-cross-stats.csv\"\n",
    "            cross = pd.read_csv(csv_path, index_col=0)\n",
    "        \n",
    "            stats_df = pd.concat([stats_df,stats],axis=0, join='outer')\n",
    "            proj_stats_df = pd.concat([proj_stats_df,proj],axis=0, join='outer')\n",
    "            cross_stats_df = pd.concat([cross_stats_df,cross],axis=0, join='outer')\n",
    "            \n",
    "         \n",
    "\n",
    "        ## maybe merge into all the possible files?\n",
    "        # summary_df = pd.DataFrame(index=[f.stem.split(\"-\")[0] for f in stat_file_list])\n",
    "        # cross_stats_df = pd.DataFrame(index=[f.stem.split(\"-\")[0] for f in stat_file_list])\n",
    "        # proj_stats_df = pd.DataFrame(index=[f.stem.split(\"-\")[0] for f in stat_file_list])\n",
    "\n",
    "        summary_df = create_stats_summary(stats_df)\n",
    "        summary_df.insert(loc=1,column=\"organelle\",value=target)\n",
    "        cross_summary_df = summarize_cross_stats(cross_stats_df)\n",
    "        ## cross_summary_df = pivot_cross_stats(cross_stats_df)  #makes a wide version... but has a bug\n",
    "        cross_summary_df.insert(loc=1,column=\"organelle\",value=target)\n",
    "\n",
    "        all_stats_df = pd.concat([all_stats_df,summary_df],axis=0)\n",
    "        all_proj_stats_df = pd.concat([all_proj_stats_df,proj_stats_df],axis=0)\n",
    "        all_cross_stats_df = pd.concat([all_cross_stats_df,cross_summary_df],axis=0)\n",
    "    \n",
    "\n",
    "    return all_stats_df, all_proj_stats_df, all_cross_stats_df\n",
    "        \n",
    "\n"
   ]
  },
  {
   "cell_type": "code",
   "execution_count": 440,
   "metadata": {},
   "outputs": [
    {
     "name": "stdout",
     "output_type": "stream",
     "text": [
      "nuc\n"
     ]
    },
    {
     "name": "stderr",
     "output_type": "stream",
     "text": [
      "/var/folders/0z/hvx6j8cn6yj3bqbyq6rtsxm40000gn/T/ipykernel_61246/143156871.py:254: FutureWarning: In a future version, object-dtype columns with all-bool values will not be included in reductions with bool_only=True. Explicitly cast to bool dtype instead.\n",
      "  cross_stats_df = pd.concat([cross_stats_df,cross],axis=0, join='outer')\n",
      "/var/folders/0z/hvx6j8cn6yj3bqbyq6rtsxm40000gn/T/ipykernel_61246/143156871.py:254: FutureWarning: In a future version, object-dtype columns with all-bool values will not be included in reductions with bool_only=True. Explicitly cast to bool dtype instead.\n",
      "  cross_stats_df = pd.concat([cross_stats_df,cross],axis=0, join='outer')\n",
      "/var/folders/0z/hvx6j8cn6yj3bqbyq6rtsxm40000gn/T/ipykernel_61246/143156871.py:254: FutureWarning: In a future version, object-dtype columns with all-bool values will not be included in reductions with bool_only=True. Explicitly cast to bool dtype instead.\n",
      "  cross_stats_df = pd.concat([cross_stats_df,cross],axis=0, join='outer')\n",
      "/var/folders/0z/hvx6j8cn6yj3bqbyq6rtsxm40000gn/T/ipykernel_61246/143156871.py:254: FutureWarning: In a future version, object-dtype columns with all-bool values will not be included in reductions with bool_only=True. Explicitly cast to bool dtype instead.\n",
      "  cross_stats_df = pd.concat([cross_stats_df,cross],axis=0, join='outer')\n",
      "/var/folders/0z/hvx6j8cn6yj3bqbyq6rtsxm40000gn/T/ipykernel_61246/143156871.py:254: FutureWarning: In a future version, object-dtype columns with all-bool values will not be included in reductions with bool_only=True. Explicitly cast to bool dtype instead.\n",
      "  cross_stats_df = pd.concat([cross_stats_df,cross],axis=0, join='outer')\n",
      "/var/folders/0z/hvx6j8cn6yj3bqbyq6rtsxm40000gn/T/ipykernel_61246/143156871.py:254: FutureWarning: In a future version, object-dtype columns with all-bool values will not be included in reductions with bool_only=True. Explicitly cast to bool dtype instead.\n",
      "  cross_stats_df = pd.concat([cross_stats_df,cross],axis=0, join='outer')\n",
      "/var/folders/0z/hvx6j8cn6yj3bqbyq6rtsxm40000gn/T/ipykernel_61246/143156871.py:254: FutureWarning: In a future version, object-dtype columns with all-bool values will not be included in reductions with bool_only=True. Explicitly cast to bool dtype instead.\n",
      "  cross_stats_df = pd.concat([cross_stats_df,cross],axis=0, join='outer')\n",
      "/var/folders/0z/hvx6j8cn6yj3bqbyq6rtsxm40000gn/T/ipykernel_61246/143156871.py:254: FutureWarning: In a future version, object-dtype columns with all-bool values will not be included in reductions with bool_only=True. Explicitly cast to bool dtype instead.\n",
      "  cross_stats_df = pd.concat([cross_stats_df,cross],axis=0, join='outer')\n",
      "/var/folders/0z/hvx6j8cn6yj3bqbyq6rtsxm40000gn/T/ipykernel_61246/143156871.py:254: FutureWarning: In a future version, object-dtype columns with all-bool values will not be included in reductions with bool_only=True. Explicitly cast to bool dtype instead.\n",
      "  cross_stats_df = pd.concat([cross_stats_df,cross],axis=0, join='outer')\n",
      "/var/folders/0z/hvx6j8cn6yj3bqbyq6rtsxm40000gn/T/ipykernel_61246/143156871.py:254: FutureWarning: In a future version, object-dtype columns with all-bool values will not be included in reductions with bool_only=True. Explicitly cast to bool dtype instead.\n",
      "  cross_stats_df = pd.concat([cross_stats_df,cross],axis=0, join='outer')\n",
      "/var/folders/0z/hvx6j8cn6yj3bqbyq6rtsxm40000gn/T/ipykernel_61246/143156871.py:254: FutureWarning: In a future version, object-dtype columns with all-bool values will not be included in reductions with bool_only=True. Explicitly cast to bool dtype instead.\n",
      "  cross_stats_df = pd.concat([cross_stats_df,cross],axis=0, join='outer')\n",
      "/var/folders/0z/hvx6j8cn6yj3bqbyq6rtsxm40000gn/T/ipykernel_61246/143156871.py:254: FutureWarning: In a future version, object-dtype columns with all-bool values will not be included in reductions with bool_only=True. Explicitly cast to bool dtype instead.\n",
      "  cross_stats_df = pd.concat([cross_stats_df,cross],axis=0, join='outer')\n",
      "/var/folders/0z/hvx6j8cn6yj3bqbyq6rtsxm40000gn/T/ipykernel_61246/143156871.py:254: FutureWarning: In a future version, object-dtype columns with all-bool values will not be included in reductions with bool_only=True. Explicitly cast to bool dtype instead.\n",
      "  cross_stats_df = pd.concat([cross_stats_df,cross],axis=0, join='outer')\n",
      "/var/folders/0z/hvx6j8cn6yj3bqbyq6rtsxm40000gn/T/ipykernel_61246/143156871.py:254: FutureWarning: In a future version, object-dtype columns with all-bool values will not be included in reductions with bool_only=True. Explicitly cast to bool dtype instead.\n",
      "  cross_stats_df = pd.concat([cross_stats_df,cross],axis=0, join='outer')\n",
      "/var/folders/0z/hvx6j8cn6yj3bqbyq6rtsxm40000gn/T/ipykernel_61246/143156871.py:254: FutureWarning: In a future version, object-dtype columns with all-bool values will not be included in reductions with bool_only=True. Explicitly cast to bool dtype instead.\n",
      "  cross_stats_df = pd.concat([cross_stats_df,cross],axis=0, join='outer')\n",
      "/var/folders/0z/hvx6j8cn6yj3bqbyq6rtsxm40000gn/T/ipykernel_61246/143156871.py:254: FutureWarning: In a future version, object-dtype columns with all-bool values will not be included in reductions with bool_only=True. Explicitly cast to bool dtype instead.\n",
      "  cross_stats_df = pd.concat([cross_stats_df,cross],axis=0, join='outer')\n",
      "/var/folders/0z/hvx6j8cn6yj3bqbyq6rtsxm40000gn/T/ipykernel_61246/143156871.py:254: FutureWarning: In a future version, object-dtype columns with all-bool values will not be included in reductions with bool_only=True. Explicitly cast to bool dtype instead.\n",
      "  cross_stats_df = pd.concat([cross_stats_df,cross],axis=0, join='outer')\n",
      "/var/folders/0z/hvx6j8cn6yj3bqbyq6rtsxm40000gn/T/ipykernel_61246/143156871.py:254: FutureWarning: In a future version, object-dtype columns with all-bool values will not be included in reductions with bool_only=True. Explicitly cast to bool dtype instead.\n",
      "  cross_stats_df = pd.concat([cross_stats_df,cross],axis=0, join='outer')\n",
      "/var/folders/0z/hvx6j8cn6yj3bqbyq6rtsxm40000gn/T/ipykernel_61246/143156871.py:254: FutureWarning: In a future version, object-dtype columns with all-bool values will not be included in reductions with bool_only=True. Explicitly cast to bool dtype instead.\n",
      "  cross_stats_df = pd.concat([cross_stats_df,cross],axis=0, join='outer')\n",
      "/var/folders/0z/hvx6j8cn6yj3bqbyq6rtsxm40000gn/T/ipykernel_61246/143156871.py:254: FutureWarning: In a future version, object-dtype columns with all-bool values will not be included in reductions with bool_only=True. Explicitly cast to bool dtype instead.\n",
      "  cross_stats_df = pd.concat([cross_stats_df,cross],axis=0, join='outer')\n",
      "/var/folders/0z/hvx6j8cn6yj3bqbyq6rtsxm40000gn/T/ipykernel_61246/143156871.py:254: FutureWarning: In a future version, object-dtype columns with all-bool values will not be included in reductions with bool_only=True. Explicitly cast to bool dtype instead.\n",
      "  cross_stats_df = pd.concat([cross_stats_df,cross],axis=0, join='outer')\n"
     ]
    },
    {
     "name": "stdout",
     "output_type": "stream",
     "text": [
      "lyso\n"
     ]
    },
    {
     "name": "stderr",
     "output_type": "stream",
     "text": [
      "/var/folders/0z/hvx6j8cn6yj3bqbyq6rtsxm40000gn/T/ipykernel_61246/143156871.py:254: FutureWarning: In a future version, object-dtype columns with all-bool values will not be included in reductions with bool_only=True. Explicitly cast to bool dtype instead.\n",
      "  cross_stats_df = pd.concat([cross_stats_df,cross],axis=0, join='outer')\n",
      "/var/folders/0z/hvx6j8cn6yj3bqbyq6rtsxm40000gn/T/ipykernel_61246/143156871.py:254: FutureWarning: In a future version, object-dtype columns with all-bool values will not be included in reductions with bool_only=True. Explicitly cast to bool dtype instead.\n",
      "  cross_stats_df = pd.concat([cross_stats_df,cross],axis=0, join='outer')\n",
      "/var/folders/0z/hvx6j8cn6yj3bqbyq6rtsxm40000gn/T/ipykernel_61246/143156871.py:254: FutureWarning: In a future version, object-dtype columns with all-bool values will not be included in reductions with bool_only=True. Explicitly cast to bool dtype instead.\n",
      "  cross_stats_df = pd.concat([cross_stats_df,cross],axis=0, join='outer')\n",
      "/var/folders/0z/hvx6j8cn6yj3bqbyq6rtsxm40000gn/T/ipykernel_61246/143156871.py:254: FutureWarning: In a future version, object-dtype columns with all-bool values will not be included in reductions with bool_only=True. Explicitly cast to bool dtype instead.\n",
      "  cross_stats_df = pd.concat([cross_stats_df,cross],axis=0, join='outer')\n",
      "/var/folders/0z/hvx6j8cn6yj3bqbyq6rtsxm40000gn/T/ipykernel_61246/143156871.py:254: FutureWarning: In a future version, object-dtype columns with all-bool values will not be included in reductions with bool_only=True. Explicitly cast to bool dtype instead.\n",
      "  cross_stats_df = pd.concat([cross_stats_df,cross],axis=0, join='outer')\n",
      "/var/folders/0z/hvx6j8cn6yj3bqbyq6rtsxm40000gn/T/ipykernel_61246/143156871.py:254: FutureWarning: In a future version, object-dtype columns with all-bool values will not be included in reductions with bool_only=True. Explicitly cast to bool dtype instead.\n",
      "  cross_stats_df = pd.concat([cross_stats_df,cross],axis=0, join='outer')\n",
      "/var/folders/0z/hvx6j8cn6yj3bqbyq6rtsxm40000gn/T/ipykernel_61246/143156871.py:254: FutureWarning: In a future version, object-dtype columns with all-bool values will not be included in reductions with bool_only=True. Explicitly cast to bool dtype instead.\n",
      "  cross_stats_df = pd.concat([cross_stats_df,cross],axis=0, join='outer')\n",
      "/var/folders/0z/hvx6j8cn6yj3bqbyq6rtsxm40000gn/T/ipykernel_61246/143156871.py:254: FutureWarning: In a future version, object-dtype columns with all-bool values will not be included in reductions with bool_only=True. Explicitly cast to bool dtype instead.\n",
      "  cross_stats_df = pd.concat([cross_stats_df,cross],axis=0, join='outer')\n",
      "/var/folders/0z/hvx6j8cn6yj3bqbyq6rtsxm40000gn/T/ipykernel_61246/143156871.py:254: FutureWarning: In a future version, object-dtype columns with all-bool values will not be included in reductions with bool_only=True. Explicitly cast to bool dtype instead.\n",
      "  cross_stats_df = pd.concat([cross_stats_df,cross],axis=0, join='outer')\n",
      "/var/folders/0z/hvx6j8cn6yj3bqbyq6rtsxm40000gn/T/ipykernel_61246/143156871.py:254: FutureWarning: In a future version, object-dtype columns with all-bool values will not be included in reductions with bool_only=True. Explicitly cast to bool dtype instead.\n",
      "  cross_stats_df = pd.concat([cross_stats_df,cross],axis=0, join='outer')\n",
      "/var/folders/0z/hvx6j8cn6yj3bqbyq6rtsxm40000gn/T/ipykernel_61246/143156871.py:254: FutureWarning: In a future version, object-dtype columns with all-bool values will not be included in reductions with bool_only=True. Explicitly cast to bool dtype instead.\n",
      "  cross_stats_df = pd.concat([cross_stats_df,cross],axis=0, join='outer')\n",
      "/var/folders/0z/hvx6j8cn6yj3bqbyq6rtsxm40000gn/T/ipykernel_61246/143156871.py:254: FutureWarning: In a future version, object-dtype columns with all-bool values will not be included in reductions with bool_only=True. Explicitly cast to bool dtype instead.\n",
      "  cross_stats_df = pd.concat([cross_stats_df,cross],axis=0, join='outer')\n",
      "/var/folders/0z/hvx6j8cn6yj3bqbyq6rtsxm40000gn/T/ipykernel_61246/143156871.py:254: FutureWarning: In a future version, object-dtype columns with all-bool values will not be included in reductions with bool_only=True. Explicitly cast to bool dtype instead.\n",
      "  cross_stats_df = pd.concat([cross_stats_df,cross],axis=0, join='outer')\n",
      "/var/folders/0z/hvx6j8cn6yj3bqbyq6rtsxm40000gn/T/ipykernel_61246/143156871.py:254: FutureWarning: In a future version, object-dtype columns with all-bool values will not be included in reductions with bool_only=True. Explicitly cast to bool dtype instead.\n",
      "  cross_stats_df = pd.concat([cross_stats_df,cross],axis=0, join='outer')\n",
      "/var/folders/0z/hvx6j8cn6yj3bqbyq6rtsxm40000gn/T/ipykernel_61246/143156871.py:254: FutureWarning: In a future version, object-dtype columns with all-bool values will not be included in reductions with bool_only=True. Explicitly cast to bool dtype instead.\n",
      "  cross_stats_df = pd.concat([cross_stats_df,cross],axis=0, join='outer')\n",
      "/var/folders/0z/hvx6j8cn6yj3bqbyq6rtsxm40000gn/T/ipykernel_61246/143156871.py:254: FutureWarning: In a future version, object-dtype columns with all-bool values will not be included in reductions with bool_only=True. Explicitly cast to bool dtype instead.\n",
      "  cross_stats_df = pd.concat([cross_stats_df,cross],axis=0, join='outer')\n",
      "/var/folders/0z/hvx6j8cn6yj3bqbyq6rtsxm40000gn/T/ipykernel_61246/143156871.py:254: FutureWarning: In a future version, object-dtype columns with all-bool values will not be included in reductions with bool_only=True. Explicitly cast to bool dtype instead.\n",
      "  cross_stats_df = pd.concat([cross_stats_df,cross],axis=0, join='outer')\n",
      "/var/folders/0z/hvx6j8cn6yj3bqbyq6rtsxm40000gn/T/ipykernel_61246/143156871.py:254: FutureWarning: In a future version, object-dtype columns with all-bool values will not be included in reductions with bool_only=True. Explicitly cast to bool dtype instead.\n",
      "  cross_stats_df = pd.concat([cross_stats_df,cross],axis=0, join='outer')\n",
      "/var/folders/0z/hvx6j8cn6yj3bqbyq6rtsxm40000gn/T/ipykernel_61246/143156871.py:254: FutureWarning: In a future version, object-dtype columns with all-bool values will not be included in reductions with bool_only=True. Explicitly cast to bool dtype instead.\n",
      "  cross_stats_df = pd.concat([cross_stats_df,cross],axis=0, join='outer')\n",
      "/var/folders/0z/hvx6j8cn6yj3bqbyq6rtsxm40000gn/T/ipykernel_61246/143156871.py:254: FutureWarning: In a future version, object-dtype columns with all-bool values will not be included in reductions with bool_only=True. Explicitly cast to bool dtype instead.\n",
      "  cross_stats_df = pd.concat([cross_stats_df,cross],axis=0, join='outer')\n",
      "/var/folders/0z/hvx6j8cn6yj3bqbyq6rtsxm40000gn/T/ipykernel_61246/143156871.py:254: FutureWarning: In a future version, object-dtype columns with all-bool values will not be included in reductions with bool_only=True. Explicitly cast to bool dtype instead.\n",
      "  cross_stats_df = pd.concat([cross_stats_df,cross],axis=0, join='outer')\n"
     ]
    },
    {
     "name": "stdout",
     "output_type": "stream",
     "text": [
      "mito\n"
     ]
    },
    {
     "name": "stderr",
     "output_type": "stream",
     "text": [
      "/var/folders/0z/hvx6j8cn6yj3bqbyq6rtsxm40000gn/T/ipykernel_61246/143156871.py:254: FutureWarning: In a future version, object-dtype columns with all-bool values will not be included in reductions with bool_only=True. Explicitly cast to bool dtype instead.\n",
      "  cross_stats_df = pd.concat([cross_stats_df,cross],axis=0, join='outer')\n",
      "/var/folders/0z/hvx6j8cn6yj3bqbyq6rtsxm40000gn/T/ipykernel_61246/143156871.py:254: FutureWarning: In a future version, object-dtype columns with all-bool values will not be included in reductions with bool_only=True. Explicitly cast to bool dtype instead.\n",
      "  cross_stats_df = pd.concat([cross_stats_df,cross],axis=0, join='outer')\n",
      "/var/folders/0z/hvx6j8cn6yj3bqbyq6rtsxm40000gn/T/ipykernel_61246/143156871.py:254: FutureWarning: In a future version, object-dtype columns with all-bool values will not be included in reductions with bool_only=True. Explicitly cast to bool dtype instead.\n",
      "  cross_stats_df = pd.concat([cross_stats_df,cross],axis=0, join='outer')\n",
      "/var/folders/0z/hvx6j8cn6yj3bqbyq6rtsxm40000gn/T/ipykernel_61246/143156871.py:254: FutureWarning: In a future version, object-dtype columns with all-bool values will not be included in reductions with bool_only=True. Explicitly cast to bool dtype instead.\n",
      "  cross_stats_df = pd.concat([cross_stats_df,cross],axis=0, join='outer')\n",
      "/var/folders/0z/hvx6j8cn6yj3bqbyq6rtsxm40000gn/T/ipykernel_61246/143156871.py:254: FutureWarning: In a future version, object-dtype columns with all-bool values will not be included in reductions with bool_only=True. Explicitly cast to bool dtype instead.\n",
      "  cross_stats_df = pd.concat([cross_stats_df,cross],axis=0, join='outer')\n",
      "/var/folders/0z/hvx6j8cn6yj3bqbyq6rtsxm40000gn/T/ipykernel_61246/143156871.py:254: FutureWarning: In a future version, object-dtype columns with all-bool values will not be included in reductions with bool_only=True. Explicitly cast to bool dtype instead.\n",
      "  cross_stats_df = pd.concat([cross_stats_df,cross],axis=0, join='outer')\n",
      "/var/folders/0z/hvx6j8cn6yj3bqbyq6rtsxm40000gn/T/ipykernel_61246/143156871.py:254: FutureWarning: In a future version, object-dtype columns with all-bool values will not be included in reductions with bool_only=True. Explicitly cast to bool dtype instead.\n",
      "  cross_stats_df = pd.concat([cross_stats_df,cross],axis=0, join='outer')\n",
      "/var/folders/0z/hvx6j8cn6yj3bqbyq6rtsxm40000gn/T/ipykernel_61246/143156871.py:254: FutureWarning: In a future version, object-dtype columns with all-bool values will not be included in reductions with bool_only=True. Explicitly cast to bool dtype instead.\n",
      "  cross_stats_df = pd.concat([cross_stats_df,cross],axis=0, join='outer')\n",
      "/var/folders/0z/hvx6j8cn6yj3bqbyq6rtsxm40000gn/T/ipykernel_61246/143156871.py:254: FutureWarning: In a future version, object-dtype columns with all-bool values will not be included in reductions with bool_only=True. Explicitly cast to bool dtype instead.\n",
      "  cross_stats_df = pd.concat([cross_stats_df,cross],axis=0, join='outer')\n",
      "/var/folders/0z/hvx6j8cn6yj3bqbyq6rtsxm40000gn/T/ipykernel_61246/143156871.py:254: FutureWarning: In a future version, object-dtype columns with all-bool values will not be included in reductions with bool_only=True. Explicitly cast to bool dtype instead.\n",
      "  cross_stats_df = pd.concat([cross_stats_df,cross],axis=0, join='outer')\n",
      "/var/folders/0z/hvx6j8cn6yj3bqbyq6rtsxm40000gn/T/ipykernel_61246/143156871.py:254: FutureWarning: In a future version, object-dtype columns with all-bool values will not be included in reductions with bool_only=True. Explicitly cast to bool dtype instead.\n",
      "  cross_stats_df = pd.concat([cross_stats_df,cross],axis=0, join='outer')\n",
      "/var/folders/0z/hvx6j8cn6yj3bqbyq6rtsxm40000gn/T/ipykernel_61246/143156871.py:254: FutureWarning: In a future version, object-dtype columns with all-bool values will not be included in reductions with bool_only=True. Explicitly cast to bool dtype instead.\n",
      "  cross_stats_df = pd.concat([cross_stats_df,cross],axis=0, join='outer')\n",
      "/var/folders/0z/hvx6j8cn6yj3bqbyq6rtsxm40000gn/T/ipykernel_61246/143156871.py:254: FutureWarning: In a future version, object-dtype columns with all-bool values will not be included in reductions with bool_only=True. Explicitly cast to bool dtype instead.\n",
      "  cross_stats_df = pd.concat([cross_stats_df,cross],axis=0, join='outer')\n",
      "/var/folders/0z/hvx6j8cn6yj3bqbyq6rtsxm40000gn/T/ipykernel_61246/143156871.py:254: FutureWarning: In a future version, object-dtype columns with all-bool values will not be included in reductions with bool_only=True. Explicitly cast to bool dtype instead.\n",
      "  cross_stats_df = pd.concat([cross_stats_df,cross],axis=0, join='outer')\n",
      "/var/folders/0z/hvx6j8cn6yj3bqbyq6rtsxm40000gn/T/ipykernel_61246/143156871.py:254: FutureWarning: In a future version, object-dtype columns with all-bool values will not be included in reductions with bool_only=True. Explicitly cast to bool dtype instead.\n",
      "  cross_stats_df = pd.concat([cross_stats_df,cross],axis=0, join='outer')\n",
      "/var/folders/0z/hvx6j8cn6yj3bqbyq6rtsxm40000gn/T/ipykernel_61246/143156871.py:254: FutureWarning: In a future version, object-dtype columns with all-bool values will not be included in reductions with bool_only=True. Explicitly cast to bool dtype instead.\n",
      "  cross_stats_df = pd.concat([cross_stats_df,cross],axis=0, join='outer')\n",
      "/var/folders/0z/hvx6j8cn6yj3bqbyq6rtsxm40000gn/T/ipykernel_61246/143156871.py:254: FutureWarning: In a future version, object-dtype columns with all-bool values will not be included in reductions with bool_only=True. Explicitly cast to bool dtype instead.\n",
      "  cross_stats_df = pd.concat([cross_stats_df,cross],axis=0, join='outer')\n",
      "/var/folders/0z/hvx6j8cn6yj3bqbyq6rtsxm40000gn/T/ipykernel_61246/143156871.py:254: FutureWarning: In a future version, object-dtype columns with all-bool values will not be included in reductions with bool_only=True. Explicitly cast to bool dtype instead.\n",
      "  cross_stats_df = pd.concat([cross_stats_df,cross],axis=0, join='outer')\n",
      "/var/folders/0z/hvx6j8cn6yj3bqbyq6rtsxm40000gn/T/ipykernel_61246/143156871.py:254: FutureWarning: In a future version, object-dtype columns with all-bool values will not be included in reductions with bool_only=True. Explicitly cast to bool dtype instead.\n",
      "  cross_stats_df = pd.concat([cross_stats_df,cross],axis=0, join='outer')\n",
      "/var/folders/0z/hvx6j8cn6yj3bqbyq6rtsxm40000gn/T/ipykernel_61246/143156871.py:254: FutureWarning: In a future version, object-dtype columns with all-bool values will not be included in reductions with bool_only=True. Explicitly cast to bool dtype instead.\n",
      "  cross_stats_df = pd.concat([cross_stats_df,cross],axis=0, join='outer')\n",
      "/var/folders/0z/hvx6j8cn6yj3bqbyq6rtsxm40000gn/T/ipykernel_61246/143156871.py:254: FutureWarning: In a future version, object-dtype columns with all-bool values will not be included in reductions with bool_only=True. Explicitly cast to bool dtype instead.\n",
      "  cross_stats_df = pd.concat([cross_stats_df,cross],axis=0, join='outer')\n"
     ]
    },
    {
     "name": "stdout",
     "output_type": "stream",
     "text": [
      "golgi\n"
     ]
    },
    {
     "name": "stderr",
     "output_type": "stream",
     "text": [
      "/var/folders/0z/hvx6j8cn6yj3bqbyq6rtsxm40000gn/T/ipykernel_61246/143156871.py:254: FutureWarning: In a future version, object-dtype columns with all-bool values will not be included in reductions with bool_only=True. Explicitly cast to bool dtype instead.\n",
      "  cross_stats_df = pd.concat([cross_stats_df,cross],axis=0, join='outer')\n",
      "/var/folders/0z/hvx6j8cn6yj3bqbyq6rtsxm40000gn/T/ipykernel_61246/143156871.py:254: FutureWarning: In a future version, object-dtype columns with all-bool values will not be included in reductions with bool_only=True. Explicitly cast to bool dtype instead.\n",
      "  cross_stats_df = pd.concat([cross_stats_df,cross],axis=0, join='outer')\n",
      "/var/folders/0z/hvx6j8cn6yj3bqbyq6rtsxm40000gn/T/ipykernel_61246/143156871.py:254: FutureWarning: In a future version, object-dtype columns with all-bool values will not be included in reductions with bool_only=True. Explicitly cast to bool dtype instead.\n",
      "  cross_stats_df = pd.concat([cross_stats_df,cross],axis=0, join='outer')\n",
      "/var/folders/0z/hvx6j8cn6yj3bqbyq6rtsxm40000gn/T/ipykernel_61246/143156871.py:254: FutureWarning: In a future version, object-dtype columns with all-bool values will not be included in reductions with bool_only=True. Explicitly cast to bool dtype instead.\n",
      "  cross_stats_df = pd.concat([cross_stats_df,cross],axis=0, join='outer')\n",
      "/var/folders/0z/hvx6j8cn6yj3bqbyq6rtsxm40000gn/T/ipykernel_61246/143156871.py:254: FutureWarning: In a future version, object-dtype columns with all-bool values will not be included in reductions with bool_only=True. Explicitly cast to bool dtype instead.\n",
      "  cross_stats_df = pd.concat([cross_stats_df,cross],axis=0, join='outer')\n",
      "/var/folders/0z/hvx6j8cn6yj3bqbyq6rtsxm40000gn/T/ipykernel_61246/143156871.py:254: FutureWarning: In a future version, object-dtype columns with all-bool values will not be included in reductions with bool_only=True. Explicitly cast to bool dtype instead.\n",
      "  cross_stats_df = pd.concat([cross_stats_df,cross],axis=0, join='outer')\n",
      "/var/folders/0z/hvx6j8cn6yj3bqbyq6rtsxm40000gn/T/ipykernel_61246/143156871.py:254: FutureWarning: In a future version, object-dtype columns with all-bool values will not be included in reductions with bool_only=True. Explicitly cast to bool dtype instead.\n",
      "  cross_stats_df = pd.concat([cross_stats_df,cross],axis=0, join='outer')\n",
      "/var/folders/0z/hvx6j8cn6yj3bqbyq6rtsxm40000gn/T/ipykernel_61246/143156871.py:254: FutureWarning: In a future version, object-dtype columns with all-bool values will not be included in reductions with bool_only=True. Explicitly cast to bool dtype instead.\n",
      "  cross_stats_df = pd.concat([cross_stats_df,cross],axis=0, join='outer')\n",
      "/var/folders/0z/hvx6j8cn6yj3bqbyq6rtsxm40000gn/T/ipykernel_61246/143156871.py:254: FutureWarning: In a future version, object-dtype columns with all-bool values will not be included in reductions with bool_only=True. Explicitly cast to bool dtype instead.\n",
      "  cross_stats_df = pd.concat([cross_stats_df,cross],axis=0, join='outer')\n",
      "/var/folders/0z/hvx6j8cn6yj3bqbyq6rtsxm40000gn/T/ipykernel_61246/143156871.py:254: FutureWarning: In a future version, object-dtype columns with all-bool values will not be included in reductions with bool_only=True. Explicitly cast to bool dtype instead.\n",
      "  cross_stats_df = pd.concat([cross_stats_df,cross],axis=0, join='outer')\n",
      "/var/folders/0z/hvx6j8cn6yj3bqbyq6rtsxm40000gn/T/ipykernel_61246/143156871.py:254: FutureWarning: In a future version, object-dtype columns with all-bool values will not be included in reductions with bool_only=True. Explicitly cast to bool dtype instead.\n",
      "  cross_stats_df = pd.concat([cross_stats_df,cross],axis=0, join='outer')\n",
      "/var/folders/0z/hvx6j8cn6yj3bqbyq6rtsxm40000gn/T/ipykernel_61246/143156871.py:254: FutureWarning: In a future version, object-dtype columns with all-bool values will not be included in reductions with bool_only=True. Explicitly cast to bool dtype instead.\n",
      "  cross_stats_df = pd.concat([cross_stats_df,cross],axis=0, join='outer')\n",
      "/var/folders/0z/hvx6j8cn6yj3bqbyq6rtsxm40000gn/T/ipykernel_61246/143156871.py:254: FutureWarning: In a future version, object-dtype columns with all-bool values will not be included in reductions with bool_only=True. Explicitly cast to bool dtype instead.\n",
      "  cross_stats_df = pd.concat([cross_stats_df,cross],axis=0, join='outer')\n",
      "/var/folders/0z/hvx6j8cn6yj3bqbyq6rtsxm40000gn/T/ipykernel_61246/143156871.py:254: FutureWarning: In a future version, object-dtype columns with all-bool values will not be included in reductions with bool_only=True. Explicitly cast to bool dtype instead.\n",
      "  cross_stats_df = pd.concat([cross_stats_df,cross],axis=0, join='outer')\n",
      "/var/folders/0z/hvx6j8cn6yj3bqbyq6rtsxm40000gn/T/ipykernel_61246/143156871.py:254: FutureWarning: In a future version, object-dtype columns with all-bool values will not be included in reductions with bool_only=True. Explicitly cast to bool dtype instead.\n",
      "  cross_stats_df = pd.concat([cross_stats_df,cross],axis=0, join='outer')\n",
      "/var/folders/0z/hvx6j8cn6yj3bqbyq6rtsxm40000gn/T/ipykernel_61246/143156871.py:254: FutureWarning: In a future version, object-dtype columns with all-bool values will not be included in reductions with bool_only=True. Explicitly cast to bool dtype instead.\n",
      "  cross_stats_df = pd.concat([cross_stats_df,cross],axis=0, join='outer')\n",
      "/var/folders/0z/hvx6j8cn6yj3bqbyq6rtsxm40000gn/T/ipykernel_61246/143156871.py:254: FutureWarning: In a future version, object-dtype columns with all-bool values will not be included in reductions with bool_only=True. Explicitly cast to bool dtype instead.\n",
      "  cross_stats_df = pd.concat([cross_stats_df,cross],axis=0, join='outer')\n",
      "/var/folders/0z/hvx6j8cn6yj3bqbyq6rtsxm40000gn/T/ipykernel_61246/143156871.py:254: FutureWarning: In a future version, object-dtype columns with all-bool values will not be included in reductions with bool_only=True. Explicitly cast to bool dtype instead.\n",
      "  cross_stats_df = pd.concat([cross_stats_df,cross],axis=0, join='outer')\n",
      "/var/folders/0z/hvx6j8cn6yj3bqbyq6rtsxm40000gn/T/ipykernel_61246/143156871.py:254: FutureWarning: In a future version, object-dtype columns with all-bool values will not be included in reductions with bool_only=True. Explicitly cast to bool dtype instead.\n",
      "  cross_stats_df = pd.concat([cross_stats_df,cross],axis=0, join='outer')\n",
      "/var/folders/0z/hvx6j8cn6yj3bqbyq6rtsxm40000gn/T/ipykernel_61246/143156871.py:254: FutureWarning: In a future version, object-dtype columns with all-bool values will not be included in reductions with bool_only=True. Explicitly cast to bool dtype instead.\n",
      "  cross_stats_df = pd.concat([cross_stats_df,cross],axis=0, join='outer')\n",
      "/var/folders/0z/hvx6j8cn6yj3bqbyq6rtsxm40000gn/T/ipykernel_61246/143156871.py:254: FutureWarning: In a future version, object-dtype columns with all-bool values will not be included in reductions with bool_only=True. Explicitly cast to bool dtype instead.\n",
      "  cross_stats_df = pd.concat([cross_stats_df,cross],axis=0, join='outer')\n"
     ]
    },
    {
     "name": "stdout",
     "output_type": "stream",
     "text": [
      "perox\n"
     ]
    },
    {
     "name": "stderr",
     "output_type": "stream",
     "text": [
      "/var/folders/0z/hvx6j8cn6yj3bqbyq6rtsxm40000gn/T/ipykernel_61246/143156871.py:254: FutureWarning: In a future version, object-dtype columns with all-bool values will not be included in reductions with bool_only=True. Explicitly cast to bool dtype instead.\n",
      "  cross_stats_df = pd.concat([cross_stats_df,cross],axis=0, join='outer')\n",
      "/var/folders/0z/hvx6j8cn6yj3bqbyq6rtsxm40000gn/T/ipykernel_61246/143156871.py:254: FutureWarning: In a future version, object-dtype columns with all-bool values will not be included in reductions with bool_only=True. Explicitly cast to bool dtype instead.\n",
      "  cross_stats_df = pd.concat([cross_stats_df,cross],axis=0, join='outer')\n",
      "/var/folders/0z/hvx6j8cn6yj3bqbyq6rtsxm40000gn/T/ipykernel_61246/143156871.py:254: FutureWarning: In a future version, object-dtype columns with all-bool values will not be included in reductions with bool_only=True. Explicitly cast to bool dtype instead.\n",
      "  cross_stats_df = pd.concat([cross_stats_df,cross],axis=0, join='outer')\n",
      "/var/folders/0z/hvx6j8cn6yj3bqbyq6rtsxm40000gn/T/ipykernel_61246/143156871.py:254: FutureWarning: In a future version, object-dtype columns with all-bool values will not be included in reductions with bool_only=True. Explicitly cast to bool dtype instead.\n",
      "  cross_stats_df = pd.concat([cross_stats_df,cross],axis=0, join='outer')\n",
      "/var/folders/0z/hvx6j8cn6yj3bqbyq6rtsxm40000gn/T/ipykernel_61246/143156871.py:254: FutureWarning: In a future version, object-dtype columns with all-bool values will not be included in reductions with bool_only=True. Explicitly cast to bool dtype instead.\n",
      "  cross_stats_df = pd.concat([cross_stats_df,cross],axis=0, join='outer')\n",
      "/var/folders/0z/hvx6j8cn6yj3bqbyq6rtsxm40000gn/T/ipykernel_61246/143156871.py:254: FutureWarning: In a future version, object-dtype columns with all-bool values will not be included in reductions with bool_only=True. Explicitly cast to bool dtype instead.\n",
      "  cross_stats_df = pd.concat([cross_stats_df,cross],axis=0, join='outer')\n",
      "/var/folders/0z/hvx6j8cn6yj3bqbyq6rtsxm40000gn/T/ipykernel_61246/143156871.py:254: FutureWarning: In a future version, object-dtype columns with all-bool values will not be included in reductions with bool_only=True. Explicitly cast to bool dtype instead.\n",
      "  cross_stats_df = pd.concat([cross_stats_df,cross],axis=0, join='outer')\n",
      "/var/folders/0z/hvx6j8cn6yj3bqbyq6rtsxm40000gn/T/ipykernel_61246/143156871.py:254: FutureWarning: In a future version, object-dtype columns with all-bool values will not be included in reductions with bool_only=True. Explicitly cast to bool dtype instead.\n",
      "  cross_stats_df = pd.concat([cross_stats_df,cross],axis=0, join='outer')\n",
      "/var/folders/0z/hvx6j8cn6yj3bqbyq6rtsxm40000gn/T/ipykernel_61246/143156871.py:254: FutureWarning: In a future version, object-dtype columns with all-bool values will not be included in reductions with bool_only=True. Explicitly cast to bool dtype instead.\n",
      "  cross_stats_df = pd.concat([cross_stats_df,cross],axis=0, join='outer')\n",
      "/var/folders/0z/hvx6j8cn6yj3bqbyq6rtsxm40000gn/T/ipykernel_61246/143156871.py:254: FutureWarning: In a future version, object-dtype columns with all-bool values will not be included in reductions with bool_only=True. Explicitly cast to bool dtype instead.\n",
      "  cross_stats_df = pd.concat([cross_stats_df,cross],axis=0, join='outer')\n",
      "/var/folders/0z/hvx6j8cn6yj3bqbyq6rtsxm40000gn/T/ipykernel_61246/143156871.py:254: FutureWarning: In a future version, object-dtype columns with all-bool values will not be included in reductions with bool_only=True. Explicitly cast to bool dtype instead.\n",
      "  cross_stats_df = pd.concat([cross_stats_df,cross],axis=0, join='outer')\n",
      "/var/folders/0z/hvx6j8cn6yj3bqbyq6rtsxm40000gn/T/ipykernel_61246/143156871.py:254: FutureWarning: In a future version, object-dtype columns with all-bool values will not be included in reductions with bool_only=True. Explicitly cast to bool dtype instead.\n",
      "  cross_stats_df = pd.concat([cross_stats_df,cross],axis=0, join='outer')\n",
      "/var/folders/0z/hvx6j8cn6yj3bqbyq6rtsxm40000gn/T/ipykernel_61246/143156871.py:254: FutureWarning: In a future version, object-dtype columns with all-bool values will not be included in reductions with bool_only=True. Explicitly cast to bool dtype instead.\n",
      "  cross_stats_df = pd.concat([cross_stats_df,cross],axis=0, join='outer')\n",
      "/var/folders/0z/hvx6j8cn6yj3bqbyq6rtsxm40000gn/T/ipykernel_61246/143156871.py:254: FutureWarning: In a future version, object-dtype columns with all-bool values will not be included in reductions with bool_only=True. Explicitly cast to bool dtype instead.\n",
      "  cross_stats_df = pd.concat([cross_stats_df,cross],axis=0, join='outer')\n",
      "/var/folders/0z/hvx6j8cn6yj3bqbyq6rtsxm40000gn/T/ipykernel_61246/143156871.py:254: FutureWarning: In a future version, object-dtype columns with all-bool values will not be included in reductions with bool_only=True. Explicitly cast to bool dtype instead.\n",
      "  cross_stats_df = pd.concat([cross_stats_df,cross],axis=0, join='outer')\n",
      "/var/folders/0z/hvx6j8cn6yj3bqbyq6rtsxm40000gn/T/ipykernel_61246/143156871.py:254: FutureWarning: In a future version, object-dtype columns with all-bool values will not be included in reductions with bool_only=True. Explicitly cast to bool dtype instead.\n",
      "  cross_stats_df = pd.concat([cross_stats_df,cross],axis=0, join='outer')\n",
      "/var/folders/0z/hvx6j8cn6yj3bqbyq6rtsxm40000gn/T/ipykernel_61246/143156871.py:254: FutureWarning: In a future version, object-dtype columns with all-bool values will not be included in reductions with bool_only=True. Explicitly cast to bool dtype instead.\n",
      "  cross_stats_df = pd.concat([cross_stats_df,cross],axis=0, join='outer')\n",
      "/var/folders/0z/hvx6j8cn6yj3bqbyq6rtsxm40000gn/T/ipykernel_61246/143156871.py:254: FutureWarning: In a future version, object-dtype columns with all-bool values will not be included in reductions with bool_only=True. Explicitly cast to bool dtype instead.\n",
      "  cross_stats_df = pd.concat([cross_stats_df,cross],axis=0, join='outer')\n",
      "/var/folders/0z/hvx6j8cn6yj3bqbyq6rtsxm40000gn/T/ipykernel_61246/143156871.py:254: FutureWarning: In a future version, object-dtype columns with all-bool values will not be included in reductions with bool_only=True. Explicitly cast to bool dtype instead.\n",
      "  cross_stats_df = pd.concat([cross_stats_df,cross],axis=0, join='outer')\n",
      "/var/folders/0z/hvx6j8cn6yj3bqbyq6rtsxm40000gn/T/ipykernel_61246/143156871.py:254: FutureWarning: In a future version, object-dtype columns with all-bool values will not be included in reductions with bool_only=True. Explicitly cast to bool dtype instead.\n",
      "  cross_stats_df = pd.concat([cross_stats_df,cross],axis=0, join='outer')\n",
      "/var/folders/0z/hvx6j8cn6yj3bqbyq6rtsxm40000gn/T/ipykernel_61246/143156871.py:254: FutureWarning: In a future version, object-dtype columns with all-bool values will not be included in reductions with bool_only=True. Explicitly cast to bool dtype instead.\n",
      "  cross_stats_df = pd.concat([cross_stats_df,cross],axis=0, join='outer')\n",
      "/var/folders/0z/hvx6j8cn6yj3bqbyq6rtsxm40000gn/T/ipykernel_61246/143156871.py:254: FutureWarning: In a future version, object-dtype columns with all-bool values will not be included in reductions with bool_only=True. Explicitly cast to bool dtype instead.\n",
      "  cross_stats_df = pd.concat([cross_stats_df,cross],axis=0, join='outer')\n",
      "/var/folders/0z/hvx6j8cn6yj3bqbyq6rtsxm40000gn/T/ipykernel_61246/143156871.py:254: FutureWarning: In a future version, object-dtype columns with all-bool values will not be included in reductions with bool_only=True. Explicitly cast to bool dtype instead.\n",
      "  cross_stats_df = pd.concat([cross_stats_df,cross],axis=0, join='outer')\n",
      "/var/folders/0z/hvx6j8cn6yj3bqbyq6rtsxm40000gn/T/ipykernel_61246/143156871.py:254: FutureWarning: In a future version, object-dtype columns with all-bool values will not be included in reductions with bool_only=True. Explicitly cast to bool dtype instead.\n",
      "  cross_stats_df = pd.concat([cross_stats_df,cross],axis=0, join='outer')\n",
      "/var/folders/0z/hvx6j8cn6yj3bqbyq6rtsxm40000gn/T/ipykernel_61246/143156871.py:254: FutureWarning: In a future version, object-dtype columns with all-bool values will not be included in reductions with bool_only=True. Explicitly cast to bool dtype instead.\n",
      "  cross_stats_df = pd.concat([cross_stats_df,cross],axis=0, join='outer')\n",
      "/var/folders/0z/hvx6j8cn6yj3bqbyq6rtsxm40000gn/T/ipykernel_61246/143156871.py:254: FutureWarning: In a future version, object-dtype columns with all-bool values will not be included in reductions with bool_only=True. Explicitly cast to bool dtype instead.\n",
      "  cross_stats_df = pd.concat([cross_stats_df,cross],axis=0, join='outer')\n",
      "/var/folders/0z/hvx6j8cn6yj3bqbyq6rtsxm40000gn/T/ipykernel_61246/143156871.py:254: FutureWarning: In a future version, object-dtype columns with all-bool values will not be included in reductions with bool_only=True. Explicitly cast to bool dtype instead.\n",
      "  cross_stats_df = pd.concat([cross_stats_df,cross],axis=0, join='outer')\n",
      "/var/folders/0z/hvx6j8cn6yj3bqbyq6rtsxm40000gn/T/ipykernel_61246/143156871.py:254: FutureWarning: In a future version, object-dtype columns with all-bool values will not be included in reductions with bool_only=True. Explicitly cast to bool dtype instead.\n",
      "  cross_stats_df = pd.concat([cross_stats_df,cross],axis=0, join='outer')\n",
      "/var/folders/0z/hvx6j8cn6yj3bqbyq6rtsxm40000gn/T/ipykernel_61246/143156871.py:254: FutureWarning: In a future version, object-dtype columns with all-bool values will not be included in reductions with bool_only=True. Explicitly cast to bool dtype instead.\n",
      "  cross_stats_df = pd.concat([cross_stats_df,cross],axis=0, join='outer')\n",
      "/var/folders/0z/hvx6j8cn6yj3bqbyq6rtsxm40000gn/T/ipykernel_61246/143156871.py:254: FutureWarning: In a future version, object-dtype columns with all-bool values will not be included in reductions with bool_only=True. Explicitly cast to bool dtype instead.\n",
      "  cross_stats_df = pd.concat([cross_stats_df,cross],axis=0, join='outer')\n",
      "/var/folders/0z/hvx6j8cn6yj3bqbyq6rtsxm40000gn/T/ipykernel_61246/143156871.py:254: FutureWarning: In a future version, object-dtype columns with all-bool values will not be included in reductions with bool_only=True. Explicitly cast to bool dtype instead.\n",
      "  cross_stats_df = pd.concat([cross_stats_df,cross],axis=0, join='outer')\n",
      "/var/folders/0z/hvx6j8cn6yj3bqbyq6rtsxm40000gn/T/ipykernel_61246/143156871.py:254: FutureWarning: In a future version, object-dtype columns with all-bool values will not be included in reductions with bool_only=True. Explicitly cast to bool dtype instead.\n",
      "  cross_stats_df = pd.concat([cross_stats_df,cross],axis=0, join='outer')\n"
     ]
    },
    {
     "name": "stdout",
     "output_type": "stream",
     "text": [
      "ER\n"
     ]
    },
    {
     "name": "stderr",
     "output_type": "stream",
     "text": [
      "/var/folders/0z/hvx6j8cn6yj3bqbyq6rtsxm40000gn/T/ipykernel_61246/143156871.py:254: FutureWarning: In a future version, object-dtype columns with all-bool values will not be included in reductions with bool_only=True. Explicitly cast to bool dtype instead.\n",
      "  cross_stats_df = pd.concat([cross_stats_df,cross],axis=0, join='outer')\n",
      "/var/folders/0z/hvx6j8cn6yj3bqbyq6rtsxm40000gn/T/ipykernel_61246/143156871.py:254: FutureWarning: In a future version, object-dtype columns with all-bool values will not be included in reductions with bool_only=True. Explicitly cast to bool dtype instead.\n",
      "  cross_stats_df = pd.concat([cross_stats_df,cross],axis=0, join='outer')\n",
      "/var/folders/0z/hvx6j8cn6yj3bqbyq6rtsxm40000gn/T/ipykernel_61246/143156871.py:254: FutureWarning: In a future version, object-dtype columns with all-bool values will not be included in reductions with bool_only=True. Explicitly cast to bool dtype instead.\n",
      "  cross_stats_df = pd.concat([cross_stats_df,cross],axis=0, join='outer')\n",
      "/var/folders/0z/hvx6j8cn6yj3bqbyq6rtsxm40000gn/T/ipykernel_61246/143156871.py:254: FutureWarning: In a future version, object-dtype columns with all-bool values will not be included in reductions with bool_only=True. Explicitly cast to bool dtype instead.\n",
      "  cross_stats_df = pd.concat([cross_stats_df,cross],axis=0, join='outer')\n",
      "/var/folders/0z/hvx6j8cn6yj3bqbyq6rtsxm40000gn/T/ipykernel_61246/143156871.py:254: FutureWarning: In a future version, object-dtype columns with all-bool values will not be included in reductions with bool_only=True. Explicitly cast to bool dtype instead.\n",
      "  cross_stats_df = pd.concat([cross_stats_df,cross],axis=0, join='outer')\n",
      "/var/folders/0z/hvx6j8cn6yj3bqbyq6rtsxm40000gn/T/ipykernel_61246/143156871.py:254: FutureWarning: In a future version, object-dtype columns with all-bool values will not be included in reductions with bool_only=True. Explicitly cast to bool dtype instead.\n",
      "  cross_stats_df = pd.concat([cross_stats_df,cross],axis=0, join='outer')\n",
      "/var/folders/0z/hvx6j8cn6yj3bqbyq6rtsxm40000gn/T/ipykernel_61246/143156871.py:254: FutureWarning: In a future version, object-dtype columns with all-bool values will not be included in reductions with bool_only=True. Explicitly cast to bool dtype instead.\n",
      "  cross_stats_df = pd.concat([cross_stats_df,cross],axis=0, join='outer')\n",
      "/var/folders/0z/hvx6j8cn6yj3bqbyq6rtsxm40000gn/T/ipykernel_61246/143156871.py:254: FutureWarning: In a future version, object-dtype columns with all-bool values will not be included in reductions with bool_only=True. Explicitly cast to bool dtype instead.\n",
      "  cross_stats_df = pd.concat([cross_stats_df,cross],axis=0, join='outer')\n",
      "/var/folders/0z/hvx6j8cn6yj3bqbyq6rtsxm40000gn/T/ipykernel_61246/143156871.py:254: FutureWarning: In a future version, object-dtype columns with all-bool values will not be included in reductions with bool_only=True. Explicitly cast to bool dtype instead.\n",
      "  cross_stats_df = pd.concat([cross_stats_df,cross],axis=0, join='outer')\n",
      "/var/folders/0z/hvx6j8cn6yj3bqbyq6rtsxm40000gn/T/ipykernel_61246/143156871.py:254: FutureWarning: In a future version, object-dtype columns with all-bool values will not be included in reductions with bool_only=True. Explicitly cast to bool dtype instead.\n",
      "  cross_stats_df = pd.concat([cross_stats_df,cross],axis=0, join='outer')\n",
      "/var/folders/0z/hvx6j8cn6yj3bqbyq6rtsxm40000gn/T/ipykernel_61246/143156871.py:254: FutureWarning: In a future version, object-dtype columns with all-bool values will not be included in reductions with bool_only=True. Explicitly cast to bool dtype instead.\n",
      "  cross_stats_df = pd.concat([cross_stats_df,cross],axis=0, join='outer')\n",
      "/var/folders/0z/hvx6j8cn6yj3bqbyq6rtsxm40000gn/T/ipykernel_61246/143156871.py:254: FutureWarning: In a future version, object-dtype columns with all-bool values will not be included in reductions with bool_only=True. Explicitly cast to bool dtype instead.\n",
      "  cross_stats_df = pd.concat([cross_stats_df,cross],axis=0, join='outer')\n",
      "/var/folders/0z/hvx6j8cn6yj3bqbyq6rtsxm40000gn/T/ipykernel_61246/143156871.py:254: FutureWarning: In a future version, object-dtype columns with all-bool values will not be included in reductions with bool_only=True. Explicitly cast to bool dtype instead.\n",
      "  cross_stats_df = pd.concat([cross_stats_df,cross],axis=0, join='outer')\n",
      "/var/folders/0z/hvx6j8cn6yj3bqbyq6rtsxm40000gn/T/ipykernel_61246/143156871.py:254: FutureWarning: In a future version, object-dtype columns with all-bool values will not be included in reductions with bool_only=True. Explicitly cast to bool dtype instead.\n",
      "  cross_stats_df = pd.concat([cross_stats_df,cross],axis=0, join='outer')\n",
      "/var/folders/0z/hvx6j8cn6yj3bqbyq6rtsxm40000gn/T/ipykernel_61246/143156871.py:254: FutureWarning: In a future version, object-dtype columns with all-bool values will not be included in reductions with bool_only=True. Explicitly cast to bool dtype instead.\n",
      "  cross_stats_df = pd.concat([cross_stats_df,cross],axis=0, join='outer')\n",
      "/var/folders/0z/hvx6j8cn6yj3bqbyq6rtsxm40000gn/T/ipykernel_61246/143156871.py:254: FutureWarning: In a future version, object-dtype columns with all-bool values will not be included in reductions with bool_only=True. Explicitly cast to bool dtype instead.\n",
      "  cross_stats_df = pd.concat([cross_stats_df,cross],axis=0, join='outer')\n",
      "/var/folders/0z/hvx6j8cn6yj3bqbyq6rtsxm40000gn/T/ipykernel_61246/143156871.py:254: FutureWarning: In a future version, object-dtype columns with all-bool values will not be included in reductions with bool_only=True. Explicitly cast to bool dtype instead.\n",
      "  cross_stats_df = pd.concat([cross_stats_df,cross],axis=0, join='outer')\n",
      "/var/folders/0z/hvx6j8cn6yj3bqbyq6rtsxm40000gn/T/ipykernel_61246/143156871.py:254: FutureWarning: In a future version, object-dtype columns with all-bool values will not be included in reductions with bool_only=True. Explicitly cast to bool dtype instead.\n",
      "  cross_stats_df = pd.concat([cross_stats_df,cross],axis=0, join='outer')\n",
      "/var/folders/0z/hvx6j8cn6yj3bqbyq6rtsxm40000gn/T/ipykernel_61246/143156871.py:254: FutureWarning: In a future version, object-dtype columns with all-bool values will not be included in reductions with bool_only=True. Explicitly cast to bool dtype instead.\n",
      "  cross_stats_df = pd.concat([cross_stats_df,cross],axis=0, join='outer')\n",
      "/var/folders/0z/hvx6j8cn6yj3bqbyq6rtsxm40000gn/T/ipykernel_61246/143156871.py:254: FutureWarning: In a future version, object-dtype columns with all-bool values will not be included in reductions with bool_only=True. Explicitly cast to bool dtype instead.\n",
      "  cross_stats_df = pd.concat([cross_stats_df,cross],axis=0, join='outer')\n",
      "/var/folders/0z/hvx6j8cn6yj3bqbyq6rtsxm40000gn/T/ipykernel_61246/143156871.py:254: FutureWarning: In a future version, object-dtype columns with all-bool values will not be included in reductions with bool_only=True. Explicitly cast to bool dtype instead.\n",
      "  cross_stats_df = pd.concat([cross_stats_df,cross],axis=0, join='outer')\n"
     ]
    },
    {
     "name": "stdout",
     "output_type": "stream",
     "text": [
      "LD\n"
     ]
    },
    {
     "name": "stderr",
     "output_type": "stream",
     "text": [
      "/var/folders/0z/hvx6j8cn6yj3bqbyq6rtsxm40000gn/T/ipykernel_61246/143156871.py:254: FutureWarning: In a future version, object-dtype columns with all-bool values will not be included in reductions with bool_only=True. Explicitly cast to bool dtype instead.\n",
      "  cross_stats_df = pd.concat([cross_stats_df,cross],axis=0, join='outer')\n",
      "/var/folders/0z/hvx6j8cn6yj3bqbyq6rtsxm40000gn/T/ipykernel_61246/143156871.py:254: FutureWarning: In a future version, object-dtype columns with all-bool values will not be included in reductions with bool_only=True. Explicitly cast to bool dtype instead.\n",
      "  cross_stats_df = pd.concat([cross_stats_df,cross],axis=0, join='outer')\n",
      "/var/folders/0z/hvx6j8cn6yj3bqbyq6rtsxm40000gn/T/ipykernel_61246/143156871.py:254: FutureWarning: In a future version, object-dtype columns with all-bool values will not be included in reductions with bool_only=True. Explicitly cast to bool dtype instead.\n",
      "  cross_stats_df = pd.concat([cross_stats_df,cross],axis=0, join='outer')\n",
      "/var/folders/0z/hvx6j8cn6yj3bqbyq6rtsxm40000gn/T/ipykernel_61246/143156871.py:254: FutureWarning: In a future version, object-dtype columns with all-bool values will not be included in reductions with bool_only=True. Explicitly cast to bool dtype instead.\n",
      "  cross_stats_df = pd.concat([cross_stats_df,cross],axis=0, join='outer')\n",
      "/var/folders/0z/hvx6j8cn6yj3bqbyq6rtsxm40000gn/T/ipykernel_61246/143156871.py:254: FutureWarning: In a future version, object-dtype columns with all-bool values will not be included in reductions with bool_only=True. Explicitly cast to bool dtype instead.\n",
      "  cross_stats_df = pd.concat([cross_stats_df,cross],axis=0, join='outer')\n",
      "/var/folders/0z/hvx6j8cn6yj3bqbyq6rtsxm40000gn/T/ipykernel_61246/143156871.py:254: FutureWarning: In a future version, object-dtype columns with all-bool values will not be included in reductions with bool_only=True. Explicitly cast to bool dtype instead.\n",
      "  cross_stats_df = pd.concat([cross_stats_df,cross],axis=0, join='outer')\n",
      "/var/folders/0z/hvx6j8cn6yj3bqbyq6rtsxm40000gn/T/ipykernel_61246/143156871.py:254: FutureWarning: In a future version, object-dtype columns with all-bool values will not be included in reductions with bool_only=True. Explicitly cast to bool dtype instead.\n",
      "  cross_stats_df = pd.concat([cross_stats_df,cross],axis=0, join='outer')\n",
      "/var/folders/0z/hvx6j8cn6yj3bqbyq6rtsxm40000gn/T/ipykernel_61246/143156871.py:254: FutureWarning: In a future version, object-dtype columns with all-bool values will not be included in reductions with bool_only=True. Explicitly cast to bool dtype instead.\n",
      "  cross_stats_df = pd.concat([cross_stats_df,cross],axis=0, join='outer')\n",
      "/var/folders/0z/hvx6j8cn6yj3bqbyq6rtsxm40000gn/T/ipykernel_61246/143156871.py:254: FutureWarning: In a future version, object-dtype columns with all-bool values will not be included in reductions with bool_only=True. Explicitly cast to bool dtype instead.\n",
      "  cross_stats_df = pd.concat([cross_stats_df,cross],axis=0, join='outer')\n",
      "/var/folders/0z/hvx6j8cn6yj3bqbyq6rtsxm40000gn/T/ipykernel_61246/143156871.py:254: FutureWarning: In a future version, object-dtype columns with all-bool values will not be included in reductions with bool_only=True. Explicitly cast to bool dtype instead.\n",
      "  cross_stats_df = pd.concat([cross_stats_df,cross],axis=0, join='outer')\n",
      "/var/folders/0z/hvx6j8cn6yj3bqbyq6rtsxm40000gn/T/ipykernel_61246/143156871.py:254: FutureWarning: In a future version, object-dtype columns with all-bool values will not be included in reductions with bool_only=True. Explicitly cast to bool dtype instead.\n",
      "  cross_stats_df = pd.concat([cross_stats_df,cross],axis=0, join='outer')\n",
      "/var/folders/0z/hvx6j8cn6yj3bqbyq6rtsxm40000gn/T/ipykernel_61246/143156871.py:254: FutureWarning: In a future version, object-dtype columns with all-bool values will not be included in reductions with bool_only=True. Explicitly cast to bool dtype instead.\n",
      "  cross_stats_df = pd.concat([cross_stats_df,cross],axis=0, join='outer')\n",
      "/var/folders/0z/hvx6j8cn6yj3bqbyq6rtsxm40000gn/T/ipykernel_61246/143156871.py:254: FutureWarning: In a future version, object-dtype columns with all-bool values will not be included in reductions with bool_only=True. Explicitly cast to bool dtype instead.\n",
      "  cross_stats_df = pd.concat([cross_stats_df,cross],axis=0, join='outer')\n",
      "/var/folders/0z/hvx6j8cn6yj3bqbyq6rtsxm40000gn/T/ipykernel_61246/143156871.py:254: FutureWarning: In a future version, object-dtype columns with all-bool values will not be included in reductions with bool_only=True. Explicitly cast to bool dtype instead.\n",
      "  cross_stats_df = pd.concat([cross_stats_df,cross],axis=0, join='outer')\n",
      "/var/folders/0z/hvx6j8cn6yj3bqbyq6rtsxm40000gn/T/ipykernel_61246/143156871.py:254: FutureWarning: In a future version, object-dtype columns with all-bool values will not be included in reductions with bool_only=True. Explicitly cast to bool dtype instead.\n",
      "  cross_stats_df = pd.concat([cross_stats_df,cross],axis=0, join='outer')\n",
      "/var/folders/0z/hvx6j8cn6yj3bqbyq6rtsxm40000gn/T/ipykernel_61246/143156871.py:254: FutureWarning: In a future version, object-dtype columns with all-bool values will not be included in reductions with bool_only=True. Explicitly cast to bool dtype instead.\n",
      "  cross_stats_df = pd.concat([cross_stats_df,cross],axis=0, join='outer')\n",
      "/var/folders/0z/hvx6j8cn6yj3bqbyq6rtsxm40000gn/T/ipykernel_61246/143156871.py:254: FutureWarning: In a future version, object-dtype columns with all-bool values will not be included in reductions with bool_only=True. Explicitly cast to bool dtype instead.\n",
      "  cross_stats_df = pd.concat([cross_stats_df,cross],axis=0, join='outer')\n",
      "/var/folders/0z/hvx6j8cn6yj3bqbyq6rtsxm40000gn/T/ipykernel_61246/143156871.py:254: FutureWarning: In a future version, object-dtype columns with all-bool values will not be included in reductions with bool_only=True. Explicitly cast to bool dtype instead.\n",
      "  cross_stats_df = pd.concat([cross_stats_df,cross],axis=0, join='outer')\n",
      "/var/folders/0z/hvx6j8cn6yj3bqbyq6rtsxm40000gn/T/ipykernel_61246/143156871.py:254: FutureWarning: In a future version, object-dtype columns with all-bool values will not be included in reductions with bool_only=True. Explicitly cast to bool dtype instead.\n",
      "  cross_stats_df = pd.concat([cross_stats_df,cross],axis=0, join='outer')\n",
      "/var/folders/0z/hvx6j8cn6yj3bqbyq6rtsxm40000gn/T/ipykernel_61246/143156871.py:254: FutureWarning: In a future version, object-dtype columns with all-bool values will not be included in reductions with bool_only=True. Explicitly cast to bool dtype instead.\n",
      "  cross_stats_df = pd.concat([cross_stats_df,cross],axis=0, join='outer')\n",
      "/var/folders/0z/hvx6j8cn6yj3bqbyq6rtsxm40000gn/T/ipykernel_61246/143156871.py:254: FutureWarning: In a future version, object-dtype columns with all-bool values will not be included in reductions with bool_only=True. Explicitly cast to bool dtype instead.\n",
      "  cross_stats_df = pd.concat([cross_stats_df,cross],axis=0, join='outer')\n",
      "/var/folders/0z/hvx6j8cn6yj3bqbyq6rtsxm40000gn/T/ipykernel_61246/143156871.py:254: FutureWarning: In a future version, object-dtype columns with all-bool values will not be included in reductions with bool_only=True. Explicitly cast to bool dtype instead.\n",
      "  cross_stats_df = pd.concat([cross_stats_df,cross],axis=0, join='outer')\n",
      "/var/folders/0z/hvx6j8cn6yj3bqbyq6rtsxm40000gn/T/ipykernel_61246/143156871.py:254: FutureWarning: In a future version, object-dtype columns with all-bool values will not be included in reductions with bool_only=True. Explicitly cast to bool dtype instead.\n",
      "  cross_stats_df = pd.concat([cross_stats_df,cross],axis=0, join='outer')\n",
      "/var/folders/0z/hvx6j8cn6yj3bqbyq6rtsxm40000gn/T/ipykernel_61246/143156871.py:254: FutureWarning: In a future version, object-dtype columns with all-bool values will not be included in reductions with bool_only=True. Explicitly cast to bool dtype instead.\n",
      "  cross_stats_df = pd.concat([cross_stats_df,cross],axis=0, join='outer')\n",
      "/var/folders/0z/hvx6j8cn6yj3bqbyq6rtsxm40000gn/T/ipykernel_61246/143156871.py:254: FutureWarning: In a future version, object-dtype columns with all-bool values will not be included in reductions with bool_only=True. Explicitly cast to bool dtype instead.\n",
      "  cross_stats_df = pd.concat([cross_stats_df,cross],axis=0, join='outer')\n",
      "/var/folders/0z/hvx6j8cn6yj3bqbyq6rtsxm40000gn/T/ipykernel_61246/143156871.py:254: FutureWarning: In a future version, object-dtype columns with all-bool values will not be included in reductions with bool_only=True. Explicitly cast to bool dtype instead.\n",
      "  cross_stats_df = pd.concat([cross_stats_df,cross],axis=0, join='outer')\n"
     ]
    }
   ],
   "source": [
    "\n",
    "# all the imaging data goes here.\n",
    "data_root_path = Path(os.path.expanduser(\"~\")) / \"Projects/Imaging/data\"\n",
    "# linearly unmixed \".czi\" files are here\n",
    "raw_data_path = data_root_path / \"raw\"\n",
    "# save output \".tiff\" files here\n",
    "int_data_path = data_root_path / \"out\"\n",
    "# save stats here\n",
    "out_data_path = data_root_path / \"out\"\n",
    "\n",
    "all_stats_df, all_proj_stats_df, all_cross_stats_df = summarize_organelle_stats(out_data_path, \n",
    "                                                    out_data_path, \n",
    "                                                    organelle_names=organelle_names)\n",
    "# cross_stats_df = summarize_organelle_stats(out_data_path, \n",
    "#                                                     out_data_path, \n",
    "#                                                     organelle_names=organelle_names)\n"
   ]
  },
  {
   "cell_type": "code",
   "execution_count": 441,
   "metadata": {},
   "outputs": [],
   "source": [
    "\n",
    "csv_path = out_data_path / f\"summary-stats.csv\"\n",
    "all_stats_df.to_csv(csv_path)\n",
    "\n",
    "csv_path = out_data_path / f\"summary-proj-stats.csv\"\n",
    "all_proj_stats_df.to_csv(csv_path)\n",
    "\n",
    "csv_path = out_data_path / f\"summary-cross-stats.csv\"\n",
    "all_cross_stats_df.to_csv(csv_path)\n"
   ]
  },
  {
   "cell_type": "code",
   "execution_count": 435,
   "metadata": {},
   "outputs": [
    {
     "data": {
      "text/plain": [
       "((209, 100), (245, 27), (922, 51))"
      ]
     },
     "execution_count": 435,
     "metadata": {},
     "output_type": "execute_result"
    }
   ],
   "source": [
    "\n",
    "\n",
    "#summary_shell.head()\n",
    "all_stats_df.shape,all_proj_stats_df.shape, all_cross_stats_df.shape\n"
   ]
  },
  {
   "cell_type": "code",
   "execution_count": 448,
   "metadata": {},
   "outputs": [
    {
     "data": {
      "text/plain": [
       "True"
      ]
     },
     "execution_count": 448,
     "metadata": {},
     "output_type": "execute_result"
    }
   ],
   "source": [
    "stats.columns[30].endswith('_labels')"
   ]
  },
  {
   "cell_type": "code",
   "execution_count": 479,
   "metadata": {},
   "outputs": [
    {
     "data": {
      "text/html": [
       "<div>\n",
       "<style scoped>\n",
       "    .dataframe tbody tr th:only-of-type {\n",
       "        vertical-align: middle;\n",
       "    }\n",
       "\n",
       "    .dataframe tbody tr th {\n",
       "        vertical-align: top;\n",
       "    }\n",
       "\n",
       "    .dataframe thead th {\n",
       "        text-align: right;\n",
       "    }\n",
       "</style>\n",
       "<table border=\"1\" class=\"dataframe\">\n",
       "  <thead>\n",
       "    <tr style=\"text-align: right;\">\n",
       "      <th></th>\n",
       "      <th>ID</th>\n",
       "      <th>organelle</th>\n",
       "      <th>organelle_b</th>\n",
       "      <th>shell</th>\n",
       "      <th>label_</th>\n",
       "      <th>label</th>\n",
       "      <th>volume</th>\n",
       "      <th>equivalent_diameter</th>\n",
       "      <th>centroid-0</th>\n",
       "      <th>centroid-1</th>\n",
       "      <th>centroid-2</th>\n",
       "      <th>bbox-0</th>\n",
       "      <th>bbox-1</th>\n",
       "      <th>bbox-2</th>\n",
       "      <th>bbox-3</th>\n",
       "      <th>bbox-4</th>\n",
       "      <th>bbox-5</th>\n",
       "      <th>surface_area</th>\n",
       "      <th>label_a</th>\n",
       "      <th>label_b</th>\n",
       "    </tr>\n",
       "  </thead>\n",
       "  <tbody>\n",
       "    <tr>\n",
       "      <th>0</th>\n",
       "      <td>ZSTACK_PBTOhNGN2hiPSCs_BR1_N14_Unmixed</td>\n",
       "      <td>golgi</td>\n",
       "      <td>nuc</td>\n",
       "      <td>False</td>\n",
       "      <td>3_5</td>\n",
       "      <td>1</td>\n",
       "      <td>49</td>\n",
       "      <td>4.540104</td>\n",
       "      <td>4.775510</td>\n",
       "      <td>435.551020</td>\n",
       "      <td>326.306122</td>\n",
       "      <td>4</td>\n",
       "      <td>424</td>\n",
       "      <td>324</td>\n",
       "      <td>7</td>\n",
       "      <td>446</td>\n",
       "      <td>330</td>\n",
       "      <td>206.438583</td>\n",
       "      <td>3.0</td>\n",
       "      <td>5.0</td>\n",
       "    </tr>\n",
       "    <tr>\n",
       "      <th>0</th>\n",
       "      <td>ZSTACK_PBTOhNGN2hiPSCs_BR1_N14_Unmixed</td>\n",
       "      <td>golgi</td>\n",
       "      <td>nuc</td>\n",
       "      <td>True</td>\n",
       "      <td>3_5</td>\n",
       "      <td>1</td>\n",
       "      <td>36</td>\n",
       "      <td>4.096704</td>\n",
       "      <td>4.694444</td>\n",
       "      <td>435.305556</td>\n",
       "      <td>326.277778</td>\n",
       "      <td>4</td>\n",
       "      <td>424</td>\n",
       "      <td>324</td>\n",
       "      <td>7</td>\n",
       "      <td>446</td>\n",
       "      <td>330</td>\n",
       "      <td>200.611847</td>\n",
       "      <td>3.0</td>\n",
       "      <td>5.0</td>\n",
       "    </tr>\n",
       "    <tr>\n",
       "      <th>0</th>\n",
       "      <td>ZSTACK_PBTOhNGN2hiPSCs_BR1_N14_Unmixed</td>\n",
       "      <td>golgi</td>\n",
       "      <td>lyso</td>\n",
       "      <td>False</td>\n",
       "      <td>2_11</td>\n",
       "      <td>1</td>\n",
       "      <td>855</td>\n",
       "      <td>11.775766</td>\n",
       "      <td>4.169591</td>\n",
       "      <td>361.973099</td>\n",
       "      <td>325.856140</td>\n",
       "      <td>2</td>\n",
       "      <td>337</td>\n",
       "      <td>315</td>\n",
       "      <td>9</td>\n",
       "      <td>387</td>\n",
       "      <td>342</td>\n",
       "      <td>1518.698364</td>\n",
       "      <td>2.0</td>\n",
       "      <td>11.0</td>\n",
       "    </tr>\n",
       "    <tr>\n",
       "      <th>1</th>\n",
       "      <td>ZSTACK_PBTOhNGN2hiPSCs_BR1_N14_Unmixed</td>\n",
       "      <td>golgi</td>\n",
       "      <td>lyso</td>\n",
       "      <td>False</td>\n",
       "      <td>3_11</td>\n",
       "      <td>2</td>\n",
       "      <td>194</td>\n",
       "      <td>7.182369</td>\n",
       "      <td>3.025773</td>\n",
       "      <td>412.840206</td>\n",
       "      <td>334.278351</td>\n",
       "      <td>2</td>\n",
       "      <td>405</td>\n",
       "      <td>329</td>\n",
       "      <td>6</td>\n",
       "      <td>421</td>\n",
       "      <td>342</td>\n",
       "      <td>396.712830</td>\n",
       "      <td>3.0</td>\n",
       "      <td>11.0</td>\n",
       "    </tr>\n",
       "    <tr>\n",
       "      <th>2</th>\n",
       "      <td>ZSTACK_PBTOhNGN2hiPSCs_BR1_N14_Unmixed</td>\n",
       "      <td>golgi</td>\n",
       "      <td>lyso</td>\n",
       "      <td>False</td>\n",
       "      <td>4_11</td>\n",
       "      <td>3</td>\n",
       "      <td>543</td>\n",
       "      <td>10.122017</td>\n",
       "      <td>5.195212</td>\n",
       "      <td>304.834254</td>\n",
       "      <td>292.699816</td>\n",
       "      <td>3</td>\n",
       "      <td>291</td>\n",
       "      <td>276</td>\n",
       "      <td>8</td>\n",
       "      <td>315</td>\n",
       "      <td>311</td>\n",
       "      <td>1015.523987</td>\n",
       "      <td>4.0</td>\n",
       "      <td>11.0</td>\n",
       "    </tr>\n",
       "  </tbody>\n",
       "</table>\n",
       "</div>"
      ],
      "text/plain": [
       "                                       ID organelle organelle_b  shell label_  \\\n",
       "0  ZSTACK_PBTOhNGN2hiPSCs_BR1_N14_Unmixed     golgi         nuc  False    3_5   \n",
       "0  ZSTACK_PBTOhNGN2hiPSCs_BR1_N14_Unmixed     golgi         nuc   True    3_5   \n",
       "0  ZSTACK_PBTOhNGN2hiPSCs_BR1_N14_Unmixed     golgi        lyso  False   2_11   \n",
       "1  ZSTACK_PBTOhNGN2hiPSCs_BR1_N14_Unmixed     golgi        lyso  False   3_11   \n",
       "2  ZSTACK_PBTOhNGN2hiPSCs_BR1_N14_Unmixed     golgi        lyso  False   4_11   \n",
       "\n",
       "   label  volume  equivalent_diameter  centroid-0  centroid-1  centroid-2  \\\n",
       "0      1      49             4.540104    4.775510  435.551020  326.306122   \n",
       "0      1      36             4.096704    4.694444  435.305556  326.277778   \n",
       "0      1     855            11.775766    4.169591  361.973099  325.856140   \n",
       "1      2     194             7.182369    3.025773  412.840206  334.278351   \n",
       "2      3     543            10.122017    5.195212  304.834254  292.699816   \n",
       "\n",
       "   bbox-0  bbox-1  bbox-2  bbox-3  bbox-4  bbox-5  surface_area  label_a  \\\n",
       "0       4     424     324       7     446     330    206.438583      3.0   \n",
       "0       4     424     324       7     446     330    200.611847      3.0   \n",
       "0       2     337     315       9     387     342   1518.698364      2.0   \n",
       "1       2     405     329       6     421     342    396.712830      3.0   \n",
       "2       3     291     276       8     315     311   1015.523987      4.0   \n",
       "\n",
       "   label_b  \n",
       "0      5.0  \n",
       "0      5.0  \n",
       "0     11.0  \n",
       "1     11.0  \n",
       "2     11.0  "
      ]
     },
     "execution_count": 479,
     "metadata": {},
     "output_type": "execute_result"
    }
   ],
   "source": [
    "\n",
    "img_id = 'ZSTACK_PBTOhNGN2hiPSCs_BR1_N14_Unmixed'\n",
    "organelles = [\"nuc\",\"lyso\", \"mito\",\"golgi\",\"perox\",\"ER\",\"LD\"]\n",
    "target_org = organelles[3]\n",
    "in_path = int_path\n",
    "\n",
    "def fix_list_cols(in_df:pd.DataFrame, list_cols) -> pd.DataFrame:\n",
    "    \"\"\" \n",
    "    \"\"\"\n",
    "    def str_to_list(x):\n",
    "        if x == '[]':\n",
    "            return list()\n",
    "        else:\n",
    "            xstr = x.strip(\"[]\").replace(\"'\", \"\").split(\", \")\n",
    "        return [int(x) if x.isnumeric() else x for x in xstr]\n",
    "        \n",
    "    _stats = pd.DataFrame() \n",
    "    for col in in_df.columns:    \n",
    "        _stats[col] = in_df[col].apply(str_to_list) if col in list_cols else in_df[col]\n",
    "    return _stats\n",
    "\n",
    "\n",
    "csv_path = in_path / f\"{img_id}-{target_org}-stats.csv\"\n",
    "stats = pd.read_csv(csv_path, index_col=0,dtype={\"ID\":str,\"organelle\":str})\n",
    "list_cols = [col for col in stats.columns if col.endswith('_labels')]\n",
    "# stats = fix_list_cols(stats,list_cols)\n",
    "\n",
    "\n",
    "csv_path = in_path / f\"{img_id}-{target_org}-proj-stats.csv\"\n",
    "proj = pd.read_csv(csv_path, index_col=0)\n",
    "\n",
    "# z - list of ints\n",
    "# zerniek - list of floats, n,m ints\n",
    "# other - ID, organelle, mask, radial_n_bins, n_z\n",
    "\n",
    "\n",
    "csv_path = in_path / f\"{img_id}-{target_org}-cross-stats.csv\"\n",
    "cross = pd.read_csv(csv_path, index_col=0)\n",
    "\n",
    "cross.head()"
   ]
  },
  {
   "cell_type": "code",
   "execution_count": 474,
   "metadata": {},
   "outputs": [
    {
     "data": {
      "text/plain": [
       "'[11, 164, 165, 181, 182]'"
      ]
     },
     "execution_count": 474,
     "metadata": {},
     "output_type": "execute_result"
    }
   ],
   "source": [
    "stats[\"LY_labels\"][0]\n"
   ]
  },
  {
   "cell_type": "code",
   "execution_count": null,
   "metadata": {},
   "outputs": [],
   "source": [
    "\n",
    "def fix_list_cols(stats:pd.DataFrame, list_cols) -> pd.DataFrame:\n",
    "    \"\"\" \n",
    "    \"\"\"\n",
    "    def str_col(x):\n",
    "        if x == '[]':\n",
    "            return list()\n",
    "        else:\n",
    "            xstr = x.strip(\"[]\").replace(\"'\", \"\").split(\", \")\n",
    "        return [float(x) if x.isnumeric() else x for x in xstr]\n",
    "        \n",
    "    _stats = pd.DataFrame() \n",
    "    for col in stats.columns:    \n",
    "        _stats[col] = stats[col].apply(str_col) if col in list_cols else stats[col]\n",
    "    return _stats\n",
    "\n",
    "\n",
    "def load_stats_csv(in_path: Path, img_id: str, target_org: str) -> pd.DataFrame:\n",
    "    \"\"\" helper to load the basic stats csv: `img_id`-`target_organelle` -stats.csv\n",
    "    returns pandas DataFrame \"\"\"\n",
    "    csv_path = in_path / f\"{img_id}-{target_org}-stats.csv\"\n",
    "    stats = pd.read_csv(csv_path, index_col=0)\n",
    "    # need to convert columns *_labels\n",
    "    stats = _load_list_cols(proj, list_proj_cols)\n",
    "        \n",
    "\n",
    "def load_proj_stats_csv(in_path: Path, img_id: str, target_org: str) -> pd.DataFrame:\n",
    "    \"\"\" helper to load  the projection stats csv: `img_id`-`target_organelle` -proj-stats.csv\n",
    "    returns pandas DataFrame \"\"\"\n",
    "    csv_path = in_path / f\"{img_id}-{target_org}-proj-stats.csv\"\n",
    "    proj = pd.read_csv(csv_path, index_col=0)\n",
    "    proj = _load_list_cols(proj, list_proj_cols)\n",
    "        \n",
    "def load_cross_stats_csv(in_path: Path, img_id: str, target_org: str) -> pd.DataFrame:\n",
    "    \"\"\" helper to load  the cross- stats csv: `img_id`-`target_organelle` -cross-stats.csv\n",
    "    returns pandas DataFrame \"\"\"\n",
    "\n",
    "    csv_path = in_path / f\"{img_id}-{target_org}-cross-stats.csv\"\n",
    "    cross = pd.read_csv(csv_path, index_col=0)\n",
    "    cross = _load_list_cols(proj, list_proj_cols)\n",
    "        \n",
    "    \n",
    "    "
   ]
  },
  {
   "cell_type": "code",
   "execution_count": null,
   "metadata": {},
   "outputs": [],
   "source": []
  }
 ],
 "metadata": {
  "kernelspec": {
   "display_name": "napariNEW",
   "language": "python",
   "name": "python3"
  },
  "language_info": {
   "codemirror_mode": {
    "name": "ipython",
    "version": 3
   },
   "file_extension": ".py",
   "mimetype": "text/x-python",
   "name": "python",
   "nbconvert_exporter": "python",
   "pygments_lexer": "ipython3",
   "version": "3.10.10"
  },
  "orig_nbformat": 4
 },
 "nbformat": 4,
 "nbformat_minor": 2
}
