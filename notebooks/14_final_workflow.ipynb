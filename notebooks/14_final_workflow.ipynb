{
 "cells": [
  {
   "attachments": {},
   "cell_type": "markdown",
   "metadata": {},
   "source": [
    "# PUTATIVE WORKFLOW\n",
    "\n",
    "\n",
    "## WORKFLOW EDITOR PLUGIN\n",
    "- FINE-TUNE SEGMENTATIONS\n",
    "  - export workflow.jsons\n",
    "    - masks:\n",
    "      - nuclei\n",
    "      - cellmask\n",
    "      - cytoplasm\n",
    "    - organelles:\n",
    "      - lyso\n",
    "      - mito\n",
    "      - golgi\n",
    "      - perox\n",
    "      - ER\n",
    "      - LD\n",
    "\n",
    "\n",
    "## BATCHPROCESS WORKFLOW\n",
    "- BATCH PROCESS\n",
    "  - load workflow.jsons for: \n",
    "  1. masks\n",
    "    - export: masks .tiff as stack (nuclei, cellmask, cytoplasm)\n",
    "  2. organelles\n",
    "    - export individual .tiffs\n",
    "\n",
    "\n",
    "\n",
    "## NOTEBOOK ~~OR ***FUTURE*** PLUGIN~~\n",
    "- COLLECT ORGANELLE STATS\n",
    "  - extract masks.tiffs as individual\n",
    "    - nuclei, cellmask, cytoplasm\n",
    "  - collect regionprops for all organelles\n",
    "    - export .csvs\n",
    "\n",
    "\n",
    "## NOTEBOOK ~~OR __FUTURE__ PLUGIN~~\n",
    "- SUMMARIZE STUDY DATA\n",
    "  - munge .csv to create summary stats across all cells/images\n",
    "\n",
    "\n"
   ]
  },
  {
   "attachments": {},
   "cell_type": "markdown",
   "metadata": {},
   "source": [
    "_____________\n",
    "\n",
    "## TO DO\n",
    "- add \"segmentation name\" field instead of copying from workflow.json name\n",
    "\n",
    "\n",
    "- choose alternate conf_XXX.json location. \n",
    "  - strategy:  add to \"prebuilt\" list from path\n",
    "\n",
    "\n",
    "  \n",
    "  ## FILE NAME CONVENTIONS\n",
    "\n",
    "  raw file name is kept.\n",
    "\n",
    "  PREFIX = \"segmentation name\" or regionprop name.  e.g. \n",
    "  SUFFIX = \"description\" i.e. "
   ]
  },
  {
   "cell_type": "code",
   "execution_count": 1,
   "metadata": {},
   "outputs": [],
   "source": [
    "# top level imports\n",
    "from pathlib import Path\n",
    "import os, sys\n",
    "from typing import Optional, Union, Dict, List\n",
    "\n",
    "import numpy as np\n",
    "import pandas as pd\n",
    "\n",
    "import napari\n",
    "\n",
    "### import local python functions in ../infer_subc\n",
    "sys.path.append(os.path.abspath((os.path.join(os.getcwd(), '..'))))\n",
    "\n",
    "from infer_subc.core.file_io import (read_czi_image,\n",
    "                                        export_inferred_organelle,\n",
    "                                        import_inferred_organelle,\n",
    "                                        export_tiff,\n",
    "                                        list_image_files)\n",
    "\n",
    "\n",
    "\n",
    "from infer_subc.constants import *\n",
    "from infer_subc.utils.stats import *\n",
    "from infer_subc.utils.stats_helpers import *\n",
    "\n",
    "\n",
    "\n",
    "import time\n",
    "%load_ext autoreload\n",
    "%autoreload 2\n",
    "\n"
   ]
  },
  {
   "cell_type": "code",
   "execution_count": 2,
   "metadata": {},
   "outputs": [],
   "source": [
    "# this will be the example image for testing the pipeline below\n",
    "# build the datapath\n",
    "# all the imaging data goes here.\n",
    "data_root_path = Path(os.path.expanduser(\"~\")) / \"Projects/Imaging/data\"\n",
    "\n",
    "# linearly unmixed \".czi\" files are here\n",
    "int_data_path = data_root_path / \"raw\"\n",
    "im_type = \".czi\"\n",
    "\n",
    "# get the list of all files\n",
    "img_file_list = list_image_files(int_data_path,im_type)\n",
    "\n",
    "# save output \".tiff\" files here\n",
    "out_data_path = data_root_path / \"out\"\n",
    "\n",
    "if not Path.exists(out_data_path):\n",
    "    Path.mkdir(out_data_path)\n",
    "    print(f\"making {out_data_path}\")"
   ]
  },
  {
   "cell_type": "code",
   "execution_count": 3,
   "metadata": {},
   "outputs": [
    {
     "data": {
      "text/plain": [
       "PosixPath('/Users/ergonyc/Projects/Imaging/data/raw/ZSTACK_PBTOhNGN2hiPSCs_BR1_N14_Unmixed.czi')"
      ]
     },
     "execution_count": 3,
     "metadata": {},
     "output_type": "execute_result"
    }
   ],
   "source": [
    "im_path = Path(img_file_list[0])\n",
    "im_path"
   ]
  },
  {
   "cell_type": "code",
   "execution_count": null,
   "metadata": {},
   "outputs": [],
   "source": []
  },
  {
   "attachments": {},
   "cell_type": "markdown",
   "metadata": {},
   "source": [
    "## 1. get each unique cells accouding to filename\n",
    "\n",
    "\n",
    "### extract ID. e.g.\n",
    "\n",
    "### process each cell & summarize\n",
    "\n",
    "\n",
    "\n",
    "## 2. aggregate all cells into a database "
   ]
  },
  {
   "cell_type": "code",
   "execution_count": 5,
   "metadata": {},
   "outputs": [],
   "source": [
    "full_name = im_path.name\n",
    "\n",
    "cell_ids = [ Path(fn).stem.split(\"-\")[0] for fn in img_file_list]\n",
    "cell_ids = list(set(cell_ids))\n",
    "\n",
    "masks_postfix = \"masks2\"\n",
    "organelle_postfix = [\"lyso\", \"mito\",\"golgi\",\"perox\",\"ER\",\"LD\"]\n"
   ]
  },
  {
   "cell_type": "code",
   "execution_count": 6,
   "metadata": {},
   "outputs": [],
   "source": [
    "# MASK process\n",
    "# 1. get a listof all files based on a \"prefix\" and \"suffix\" for a given path\n",
    "# dump three .tiff from teh mask multichannel tiff\n",
    "# from tifffile import imwrite, imread#, tiffcomment\n",
    "from infer_subc.core.img import label_uint16\n",
    "from infer_subc.core.file_io import export_tiff, read_tiff_image\n",
    "from typing import Union\n",
    "from pathlib import Path\n",
    "\n",
    "def _explode_mask(mask_path: Union[Path,str], postfix: str= \"masks\", im_type: str = \".tiff\") -> bool:\n",
    "    \"\"\" \n",
    "    TODO: add loggin instead of printing\n",
    "        append tiffcomments with provenance\n",
    "    \"\"\"\n",
    "    if isinstance(mask_path, str): mask_path = Path(mask_path)\n",
    "    # load image \n",
    "    full_stem = mask_path.stem\n",
    "    if full_stem.endswith(postfix):\n",
    "        stem = full_stem.rstrip(postfix)\n",
    "        image = read_tiff_image(mask_path)\n",
    "        assert image.shape[0]==3\n",
    "        \n",
    "        # make into np.uint16 labels\n",
    "        nuclei = label_uint16(image[0])\n",
    "        # export as np.uint8 (255)\n",
    "        cellmask = image[1]>0            \n",
    "        cytoplasm = image[2]>0\n",
    "\n",
    "        # write wasks\n",
    "        root_stem = mask_path.parent / stem\n",
    "        # ret1 = imwrite(f\"{root}nuclei{stem}\", nuclei)\n",
    "        ret1 = export_tiff(nuclei, f\"{stem}nuc\", mask_path.parent, None)\n",
    "        # ret2 = imwrite(f\"{root}cellmask{stem}\", cellmask)\n",
    "        ret2 = export_tiff(cellmask, f\"{stem}cell\", mask_path.parent, None)\n",
    "        # ret3 = imwrite(f\"{root}cytosol{stem}\", cytosol)\n",
    "        ret3 = export_tiff(cytoplasm, f\"{stem}cyto\", mask_path.parent, None)\n",
    "\n",
    "        print(f\"wrote {stem}-{{nuc,cell,cyto}}\")\n",
    "        return True\n",
    "    else:\n",
    "        return False\n",
    "\n",
    "\n",
    "\n",
    "def _explode_masks(root_path: Union[Path,str], postfix: str= \"masks\", im_type: str = \".tiff\"):\n",
    "    \"\"\"  \n",
    "    TODO: add loggin instead of printing\n",
    "        append tiffcomments with provenance\n",
    "    \"\"\"\n",
    "    if isinstance(root_path, str): root_path = Path(root_path)\n",
    "    img_file_list = list_image_files(root_path,im_type, postfix)\n",
    "    wrote_cnt = 0\n",
    "    for img_f in img_file_list:\n",
    "        if _explode_mask(img_f, postfix=postfix, im_type=im_type): wrote_cnt += 1\n",
    "        else: print(f\"failed to explode {img_f}\")\n",
    "    else:\n",
    "        print(f\"how thefark!!! {img_f}\")\n",
    "\n",
    "    print(f\"exploded {wrote_cnt*100./len(img_file_list)} pct of {len(img_file_list)} files\")\n",
    "    return wrote_cnt\n",
    "\n"
   ]
  },
  {
   "cell_type": "code",
   "execution_count": 7,
   "metadata": {},
   "outputs": [
    {
     "name": "stdout",
     "output_type": "stream",
     "text": [
      "exploded 100.0 pct of 35 files\n"
     ]
    },
    {
     "data": {
      "text/plain": [
       "35"
      ]
     },
     "execution_count": 7,
     "metadata": {},
     "output_type": "execute_result"
    }
   ],
   "source": [
    "from infer_subc.utils.batch import explode_masks\n",
    "\n",
    "cnt = explode_masks(out_data_path, postfix='masks2')\n",
    "cnt"
   ]
  },
  {
   "cell_type": "code",
   "execution_count": 8,
   "metadata": {},
   "outputs": [],
   "source": [
    "\n",
    "\n",
    "# all the imaging data goes here.\n",
    "data_root_path = Path(os.path.expanduser(\"~\")) / \"Projects/Imaging/data\"\n",
    "# linearly unmixed \".czi\" files are here\n",
    "raw_data_path = data_root_path / \"raw\"\n",
    "# save output \".tiff\" files here\n",
    "int_data_path = data_root_path / \"out\"\n",
    "# save stats here\n",
    "out_data_path = data_root_path / \"out\"\n"
   ]
  },
  {
   "cell_type": "code",
   "execution_count": 9,
   "metadata": {},
   "outputs": [],
   "source": [
    "raw_path = raw_data_path\n",
    "int_path = int_data_path\n",
    "out_path = out_data_path\n",
    "\n",
    "\n",
    "if isinstance(raw_path, str): raw_path = Path(raw_path)\n",
    "if isinstance(int_path, str): int_path = Path(int_path)\n",
    "if isinstance(out_path, str): out_path = Path(out_path)\n",
    "\n",
    "img_file_list = list_image_files(raw_path,\".czi\")\n",
    "\n",
    "if not Path.exists(out_path):\n",
    "    Path.mkdir(out_path)\n",
    "    print(f\"making {out_path}\")\n",
    "\n"
   ]
  },
  {
   "cell_type": "code",
   "execution_count": 10,
   "metadata": {},
   "outputs": [
    {
     "data": {
      "text/plain": [
       "[PosixPath('/Users/ergonyc/Projects/Imaging/data/raw/ZSTACK_PBTOhNGN2hiPSCs_BR1_N14_Unmixed.czi'),\n",
       " PosixPath('/Users/ergonyc/Projects/Imaging/data/raw/ZSTACK_PBTOhNGN2hiPSCs_BR1_N15_Unmixed.czi'),\n",
       " PosixPath('/Users/ergonyc/Projects/Imaging/data/raw/ZSTACK_PBTOhNGN2hiPSCs_BR1_N16_Unmixed.czi'),\n",
       " PosixPath('/Users/ergonyc/Projects/Imaging/data/raw/ZSTACK_PBTOhNGN2hiPSCs_BR1_N17_Unmixed.czi'),\n",
       " PosixPath('/Users/ergonyc/Projects/Imaging/data/raw/ZSTACK_PBTOhNGN2hiPSCs_BR1_N18_Unmixed.czi'),\n",
       " PosixPath('/Users/ergonyc/Projects/Imaging/data/raw/ZSTACK_PBTOhNGN2hiPSCs_BR1_N19_Unmixed.czi'),\n",
       " PosixPath('/Users/ergonyc/Projects/Imaging/data/raw/ZSTACK_PBTOhNGN2hiPSCs_BR1_N20_Unmixed.czi'),\n",
       " PosixPath('/Users/ergonyc/Projects/Imaging/data/raw/ZSTACK_PBTOhNGN2hiPSCs_BR1_N21_Unmixed.czi'),\n",
       " PosixPath('/Users/ergonyc/Projects/Imaging/data/raw/ZSTACK_PBTOhNGN2hiPSCs_BR1_N22_Unmixed.czi'),\n",
       " PosixPath('/Users/ergonyc/Projects/Imaging/data/raw/ZSTACK_PBTOhNGN2hiPSCs_BR1_N23_Unmixed.czi'),\n",
       " PosixPath('/Users/ergonyc/Projects/Imaging/data/raw/ZSTACK_PBTOhNGN2hiPSCs_BR2_N01_Unmixed.czi'),\n",
       " PosixPath('/Users/ergonyc/Projects/Imaging/data/raw/ZSTACK_PBTOhNGN2hiPSCs_BR2_N02_Unmixed.czi'),\n",
       " PosixPath('/Users/ergonyc/Projects/Imaging/data/raw/ZSTACK_PBTOhNGN2hiPSCs_BR2_N03_Unmixed.czi'),\n",
       " PosixPath('/Users/ergonyc/Projects/Imaging/data/raw/ZSTACK_PBTOhNGN2hiPSCs_BR2_N04_Unmixed.czi'),\n",
       " PosixPath('/Users/ergonyc/Projects/Imaging/data/raw/ZSTACK_PBTOhNGN2hiPSCs_BR2_N05_Unmixed.czi'),\n",
       " PosixPath('/Users/ergonyc/Projects/Imaging/data/raw/ZSTACK_PBTOhNGN2hiPSCs_BR2_N06_Unmixed.czi'),\n",
       " PosixPath('/Users/ergonyc/Projects/Imaging/data/raw/ZSTACK_PBTOhNGN2hiPSCs_BR2_N07_Unmixed.czi'),\n",
       " PosixPath('/Users/ergonyc/Projects/Imaging/data/raw/ZSTACK_PBTOhNGN2hiPSCs_BR2_N08_Unmixed.czi'),\n",
       " PosixPath('/Users/ergonyc/Projects/Imaging/data/raw/ZSTACK_PBTOhNGN2hiPSCs_BR2_N09_Unmixed.czi'),\n",
       " PosixPath('/Users/ergonyc/Projects/Imaging/data/raw/ZSTACK_PBTOhNGN2hiPSCs_BR2_N10_Unmixed.czi'),\n",
       " PosixPath('/Users/ergonyc/Projects/Imaging/data/raw/ZSTACK_PBTOhNGN2hiPSCs_BR3_N01_Unmixed.czi'),\n",
       " PosixPath('/Users/ergonyc/Projects/Imaging/data/raw/ZSTACK_PBTOhNGN2hiPSCs_BR3_N02_Unmixed.czi'),\n",
       " PosixPath('/Users/ergonyc/Projects/Imaging/data/raw/ZSTACK_PBTOhNGN2hiPSCs_BR3_N04_Unmixed.czi'),\n",
       " PosixPath('/Users/ergonyc/Projects/Imaging/data/raw/ZSTACK_PBTOhNGN2hiPSCs_BR3_N05_Unmixed.czi'),\n",
       " PosixPath('/Users/ergonyc/Projects/Imaging/data/raw/ZSTACK_PBTOhNGN2hiPSCs_BR3_N06_Unmixed.czi'),\n",
       " PosixPath('/Users/ergonyc/Projects/Imaging/data/raw/ZSTACK_PBTOhNGN2hiPSCs_BR3_N07_Unmixed.czi'),\n",
       " PosixPath('/Users/ergonyc/Projects/Imaging/data/raw/ZSTACK_PBTOhNGN2hiPSCs_BR3_N08_Unmixed.czi'),\n",
       " PosixPath('/Users/ergonyc/Projects/Imaging/data/raw/ZSTACK_PBTOhNGN2hiPSCs_BR3_N09_Unmixed.czi'),\n",
       " PosixPath('/Users/ergonyc/Projects/Imaging/data/raw/ZSTACK_PBTOhNGN2hiPSCs_BR3_N10_Unmixed.czi'),\n",
       " PosixPath('/Users/ergonyc/Projects/Imaging/data/raw/ZSTACK_PBTOhNGN2hiPSCs_BR3_N11_Unmixed.czi'),\n",
       " PosixPath('/Users/ergonyc/Projects/Imaging/data/raw/ZSTACK_PBTOhNGN2hiPSCs_BR3_N12_Unmixed.czi'),\n",
       " PosixPath('/Users/ergonyc/Projects/Imaging/data/raw/ZSTACK_PBTOhNGN2hiPSCs_BR3_N13_Unmixed.czi'),\n",
       " PosixPath('/Users/ergonyc/Projects/Imaging/data/raw/ZSTACK_PBTOhNGN2hiPSCs_BR3_N14_Unmixed.czi'),\n",
       " PosixPath('/Users/ergonyc/Projects/Imaging/data/raw/ZSTACK_PBTOhNGN2hiPSCs_BR3_N15_Unmixed.czi'),\n",
       " PosixPath('/Users/ergonyc/Projects/Imaging/data/raw/ZSTACK_PBTOhNGN2hiPSCs_BR3_N16_Unmixed.czi')]"
      ]
     },
     "execution_count": 10,
     "metadata": {},
     "output_type": "execute_result"
    }
   ],
   "source": [
    "img_file_list"
   ]
  },
  {
   "cell_type": "code",
   "execution_count": 11,
   "metadata": {},
   "outputs": [],
   "source": [
    "from typing import Optional, Union, Dict, List\n",
    "\n",
    "def _find_segmentation_tiff_files(prototype:Union[Path,str], organelles: List[str], int_path: Union[Path,str]) -> Dict:\n",
    "    \"\"\"\n",
    "    find the nescessary image files based on protype, the organelles involved, and paths\n",
    "    \"\"\"\n",
    "\n",
    "    # raw\n",
    "    prototype = Path(prototype)\n",
    "    if not prototype.exists():\n",
    "        print(f\"bad prototype. please choose an existing `raw` file as prototype\")\n",
    "        return dict()\n",
    "    # make sure protoype ends with czi\n",
    "\n",
    "    out_files = {\"raw\":prototype}\n",
    "\n",
    "    int_path = Path(int_path) \n",
    "    # raw\n",
    "    if not int_path.is_dir():\n",
    "        print(f\"bad path argument. please choose an existing path containing organelle segmentations\")\n",
    "        return out_files\n",
    "    \n",
    "    # cyto, cellmask\n",
    "    cyto_nm = int_path / f\"{prototype.stem}-cyto.tiff\"\n",
    "    if cyto_nm.exists():\n",
    "        out_files[\"cyto\"] = cyto_nm\n",
    "    else:\n",
    "        print(f\"cytosol mask not found.  We'll try to extract from masks \")\n",
    "        if explode_mask(int_path / f\"{prototype.stem}-masks.tiff\"): \n",
    "            out_files[\"cyto\"] = cyto_nm\n",
    "        else: \n",
    "            print(f\"failed to explode {prototype.stem}-masks.tiff\")\n",
    "            return out_files\n",
    "    \n",
    "    cellmask_nm = int_path / f\"{prototype.stem}-cellmask.tiff\"\n",
    "    if  cellmask_nm.exists():\n",
    "        out_files[\"cellmask\"] = cellmask_nm\n",
    "    else:\n",
    "        print(f\"cellmask file not found in {int_path} returning\")\n",
    "        out_files[\"cellmask\"] = None\n",
    "\n",
    "    # organelles\n",
    "    for org_n in organelles:\n",
    "        org_name = Path(int_path) / f\"{prototype.stem}-{org_n}.tiff\"\n",
    "        if org_name.exists(): \n",
    "            out_files[org_n] = org_name\n",
    "        else: \n",
    "            print(f\"{org_n} .tiff file not found in {int_path} returning\")\n",
    "            out_files[org_n] = None\n",
    "    \n",
    "    return out_files\n",
    "\n",
    "    \n"
   ]
  },
  {
   "cell_type": "code",
   "execution_count": 12,
   "metadata": {},
   "outputs": [],
   "source": [
    "from infer_subc.utils.batch import find_segmentation_tiff_files\n",
    "prototype = '/Users/ergonyc/Projects/Imaging/data/raw/ZSTACK_PBTOhNGN2hiPSCs_BR1_N14_Unmixed.czi'\n",
    "organelles = [\"nuc\",\"lyso\", \"mito\",\"golgi\",\"perox\",\"ER\",\"LD\"]\n",
    "\n",
    "filez = find_segmentation_tiff_files(prototype, organelles, out_data_path)\n",
    "\n"
   ]
  },
  {
   "cell_type": "code",
   "execution_count": 13,
   "metadata": {},
   "outputs": [
    {
     "data": {
      "text/plain": [
       "{'raw': PosixPath('/Users/ergonyc/Projects/Imaging/data/raw/ZSTACK_PBTOhNGN2hiPSCs_BR1_N14_Unmixed.czi'),\n",
       " 'cyto': PosixPath('/Users/ergonyc/Projects/Imaging/data/out/ZSTACK_PBTOhNGN2hiPSCs_BR1_N14_Unmixed-cyto.tiff'),\n",
       " 'cell': PosixPath('/Users/ergonyc/Projects/Imaging/data/out/ZSTACK_PBTOhNGN2hiPSCs_BR1_N14_Unmixed-cell.tiff'),\n",
       " 'nuc': PosixPath('/Users/ergonyc/Projects/Imaging/data/out/ZSTACK_PBTOhNGN2hiPSCs_BR1_N14_Unmixed-nuc.tiff'),\n",
       " 'lyso': PosixPath('/Users/ergonyc/Projects/Imaging/data/out/ZSTACK_PBTOhNGN2hiPSCs_BR1_N14_Unmixed-lyso.tiff'),\n",
       " 'mito': PosixPath('/Users/ergonyc/Projects/Imaging/data/out/ZSTACK_PBTOhNGN2hiPSCs_BR1_N14_Unmixed-mito.tiff'),\n",
       " 'golgi': PosixPath('/Users/ergonyc/Projects/Imaging/data/out/ZSTACK_PBTOhNGN2hiPSCs_BR1_N14_Unmixed-golgi.tiff'),\n",
       " 'perox': PosixPath('/Users/ergonyc/Projects/Imaging/data/out/ZSTACK_PBTOhNGN2hiPSCs_BR1_N14_Unmixed-perox.tiff'),\n",
       " 'ER': PosixPath('/Users/ergonyc/Projects/Imaging/data/out/ZSTACK_PBTOhNGN2hiPSCs_BR1_N14_Unmixed-ER.tiff'),\n",
       " 'LD': PosixPath('/Users/ergonyc/Projects/Imaging/data/out/ZSTACK_PBTOhNGN2hiPSCs_BR1_N14_Unmixed-LD.tiff')}"
      ]
     },
     "execution_count": 13,
     "metadata": {},
     "output_type": "execute_result"
    }
   ],
   "source": [
    "filez"
   ]
  },
  {
   "cell_type": "code",
   "execution_count": 14,
   "metadata": {},
   "outputs": [],
   "source": [
    "from infer_subc.utils.stats_helpers import make_organelle_stat_tables\n",
    "from infer_subc.constants import *\n",
    "from infer_subc.organelles import *\n",
    "from infer_subc.core.file_io import read_tiff_image, read_czi_image\n",
    "\n",
    "# names of organelles we have\n",
    "organelle_names = [\"nuc\",\"lyso\", \"mito\",\"golgi\",\"perox\",\"ER\",\"LD\"]\n",
    "\n",
    "# get the intensities\n",
    "organelle_channels = [NUC_CH, LYSO_CH,MITO_CH,GOLGI_CH,PEROX_CH,ER_CH,LD_CH]\n",
    "\n"
   ]
  },
  {
   "cell_type": "code",
   "execution_count": 15,
   "metadata": {},
   "outputs": [
    {
     "name": "stderr",
     "output_type": "stream",
     "text": [
      "/Users/ergonyc/miniforge3/envs/cento/lib/python3.10/site-packages/ome_types/_convenience.py:112: FutureWarning: The default XML parser will be changing from 'xmlschema' to 'lxml' in version 0.4.0.  To silence this warning, please provide the `parser` argument, specifying either 'lxml' (to opt into the new behavior), or'xmlschema' (to retain the old behavior).\n",
      "  d = to_dict(os.fspath(xml), parser=parser, validate=validate)\n",
      "/Users/ergonyc/Projects/Imaging/infer-subc/infer_subc/utils/stats.py:668: RuntimeWarning: invalid value encountered in divide\n",
      "  magnitude = np.sqrt(vr * vr + vi * vi) / pixels.sum()\n"
     ]
    },
    {
     "name": "stdout",
     "output_type": "stream",
     "text": [
      "dumped 49x3 organelle stats (['nuc', 'lyso', 'mito', 'golgi', 'perox', 'ER', 'LD']) csvs\n"
     ]
    },
    {
     "name": "stderr",
     "output_type": "stream",
     "text": [
      "/Users/ergonyc/miniforge3/envs/cento/lib/python3.10/site-packages/ome_types/_convenience.py:112: FutureWarning: The default XML parser will be changing from 'xmlschema' to 'lxml' in version 0.4.0.  To silence this warning, please provide the `parser` argument, specifying either 'lxml' (to opt into the new behavior), or'xmlschema' (to retain the old behavior).\n",
      "  d = to_dict(os.fspath(xml), parser=parser, validate=validate)\n",
      "/Users/ergonyc/Projects/Imaging/infer-subc/infer_subc/utils/stats.py:668: RuntimeWarning: invalid value encountered in divide\n",
      "  magnitude = np.sqrt(vr * vr + vi * vi) / pixels.sum()\n"
     ]
    },
    {
     "name": "stdout",
     "output_type": "stream",
     "text": [
      "dumped 49x3 organelle stats (['nuc', 'lyso', 'mito', 'golgi', 'perox', 'ER', 'LD']) csvs\n"
     ]
    },
    {
     "name": "stderr",
     "output_type": "stream",
     "text": [
      "/Users/ergonyc/miniforge3/envs/cento/lib/python3.10/site-packages/ome_types/_convenience.py:112: FutureWarning: The default XML parser will be changing from 'xmlschema' to 'lxml' in version 0.4.0.  To silence this warning, please provide the `parser` argument, specifying either 'lxml' (to opt into the new behavior), or'xmlschema' (to retain the old behavior).\n",
      "  d = to_dict(os.fspath(xml), parser=parser, validate=validate)\n",
      "/Users/ergonyc/Projects/Imaging/infer-subc/infer_subc/utils/stats.py:668: RuntimeWarning: invalid value encountered in divide\n",
      "  magnitude = np.sqrt(vr * vr + vi * vi) / pixels.sum()\n",
      "/Users/ergonyc/Projects/Imaging/infer-subc/infer_subc/utils/stats.py:668: RuntimeWarning: invalid value encountered in divide\n",
      "  magnitude = np.sqrt(vr * vr + vi * vi) / pixels.sum()\n"
     ]
    },
    {
     "name": "stdout",
     "output_type": "stream",
     "text": [
      "dumped 49x3 organelle stats (['nuc', 'lyso', 'mito', 'golgi', 'perox', 'ER', 'LD']) csvs\n"
     ]
    },
    {
     "name": "stderr",
     "output_type": "stream",
     "text": [
      "/Users/ergonyc/miniforge3/envs/cento/lib/python3.10/site-packages/ome_types/_convenience.py:112: FutureWarning: The default XML parser will be changing from 'xmlschema' to 'lxml' in version 0.4.0.  To silence this warning, please provide the `parser` argument, specifying either 'lxml' (to opt into the new behavior), or'xmlschema' (to retain the old behavior).\n",
      "  d = to_dict(os.fspath(xml), parser=parser, validate=validate)\n",
      "/Users/ergonyc/Projects/Imaging/infer-subc/infer_subc/utils/stats.py:668: RuntimeWarning: invalid value encountered in divide\n",
      "  magnitude = np.sqrt(vr * vr + vi * vi) / pixels.sum()\n"
     ]
    },
    {
     "name": "stdout",
     "output_type": "stream",
     "text": [
      "dumped 49x3 organelle stats (['nuc', 'lyso', 'mito', 'golgi', 'perox', 'ER', 'LD']) csvs\n"
     ]
    },
    {
     "name": "stderr",
     "output_type": "stream",
     "text": [
      "/Users/ergonyc/miniforge3/envs/cento/lib/python3.10/site-packages/ome_types/_convenience.py:112: FutureWarning: The default XML parser will be changing from 'xmlschema' to 'lxml' in version 0.4.0.  To silence this warning, please provide the `parser` argument, specifying either 'lxml' (to opt into the new behavior), or'xmlschema' (to retain the old behavior).\n",
      "  d = to_dict(os.fspath(xml), parser=parser, validate=validate)\n",
      "/Users/ergonyc/Projects/Imaging/infer-subc/infer_subc/utils/stats.py:668: RuntimeWarning: invalid value encountered in divide\n",
      "  magnitude = np.sqrt(vr * vr + vi * vi) / pixels.sum()\n"
     ]
    },
    {
     "name": "stdout",
     "output_type": "stream",
     "text": [
      "dumped 49x3 organelle stats (['nuc', 'lyso', 'mito', 'golgi', 'perox', 'ER', 'LD']) csvs\n"
     ]
    },
    {
     "name": "stderr",
     "output_type": "stream",
     "text": [
      "/Users/ergonyc/miniforge3/envs/cento/lib/python3.10/site-packages/ome_types/_convenience.py:112: FutureWarning: The default XML parser will be changing from 'xmlschema' to 'lxml' in version 0.4.0.  To silence this warning, please provide the `parser` argument, specifying either 'lxml' (to opt into the new behavior), or'xmlschema' (to retain the old behavior).\n",
      "  d = to_dict(os.fspath(xml), parser=parser, validate=validate)\n",
      "/Users/ergonyc/Projects/Imaging/infer-subc/infer_subc/utils/stats.py:668: RuntimeWarning: invalid value encountered in divide\n",
      "  magnitude = np.sqrt(vr * vr + vi * vi) / pixels.sum()\n"
     ]
    },
    {
     "name": "stdout",
     "output_type": "stream",
     "text": [
      "dumped 49x3 organelle stats (['nuc', 'lyso', 'mito', 'golgi', 'perox', 'ER', 'LD']) csvs\n"
     ]
    },
    {
     "name": "stderr",
     "output_type": "stream",
     "text": [
      "/Users/ergonyc/miniforge3/envs/cento/lib/python3.10/site-packages/ome_types/_convenience.py:112: FutureWarning: The default XML parser will be changing from 'xmlschema' to 'lxml' in version 0.4.0.  To silence this warning, please provide the `parser` argument, specifying either 'lxml' (to opt into the new behavior), or'xmlschema' (to retain the old behavior).\n",
      "  d = to_dict(os.fspath(xml), parser=parser, validate=validate)\n",
      "/Users/ergonyc/Projects/Imaging/infer-subc/infer_subc/utils/stats.py:668: RuntimeWarning: invalid value encountered in divide\n",
      "  magnitude = np.sqrt(vr * vr + vi * vi) / pixels.sum()\n"
     ]
    },
    {
     "name": "stdout",
     "output_type": "stream",
     "text": [
      "dumped 49x3 organelle stats (['nuc', 'lyso', 'mito', 'golgi', 'perox', 'ER', 'LD']) csvs\n"
     ]
    },
    {
     "name": "stderr",
     "output_type": "stream",
     "text": [
      "/Users/ergonyc/miniforge3/envs/cento/lib/python3.10/site-packages/ome_types/_convenience.py:112: FutureWarning: The default XML parser will be changing from 'xmlschema' to 'lxml' in version 0.4.0.  To silence this warning, please provide the `parser` argument, specifying either 'lxml' (to opt into the new behavior), or'xmlschema' (to retain the old behavior).\n",
      "  d = to_dict(os.fspath(xml), parser=parser, validate=validate)\n",
      "/Users/ergonyc/Projects/Imaging/infer-subc/infer_subc/utils/stats.py:668: RuntimeWarning: invalid value encountered in divide\n",
      "  magnitude = np.sqrt(vr * vr + vi * vi) / pixels.sum()\n"
     ]
    },
    {
     "name": "stdout",
     "output_type": "stream",
     "text": [
      "dumped 49x3 organelle stats (['nuc', 'lyso', 'mito', 'golgi', 'perox', 'ER', 'LD']) csvs\n"
     ]
    },
    {
     "name": "stderr",
     "output_type": "stream",
     "text": [
      "/Users/ergonyc/miniforge3/envs/cento/lib/python3.10/site-packages/ome_types/_convenience.py:112: FutureWarning: The default XML parser will be changing from 'xmlschema' to 'lxml' in version 0.4.0.  To silence this warning, please provide the `parser` argument, specifying either 'lxml' (to opt into the new behavior), or'xmlschema' (to retain the old behavior).\n",
      "  d = to_dict(os.fspath(xml), parser=parser, validate=validate)\n"
     ]
    },
    {
     "name": "stdout",
     "output_type": "stream",
     "text": [
      "dumped 49x3 organelle stats (['nuc', 'lyso', 'mito', 'golgi', 'perox', 'ER', 'LD']) csvs\n"
     ]
    },
    {
     "name": "stderr",
     "output_type": "stream",
     "text": [
      "/Users/ergonyc/miniforge3/envs/cento/lib/python3.10/site-packages/ome_types/_convenience.py:112: FutureWarning: The default XML parser will be changing from 'xmlschema' to 'lxml' in version 0.4.0.  To silence this warning, please provide the `parser` argument, specifying either 'lxml' (to opt into the new behavior), or'xmlschema' (to retain the old behavior).\n",
      "  d = to_dict(os.fspath(xml), parser=parser, validate=validate)\n",
      "/Users/ergonyc/Projects/Imaging/infer-subc/infer_subc/utils/stats.py:668: RuntimeWarning: invalid value encountered in divide\n",
      "  magnitude = np.sqrt(vr * vr + vi * vi) / pixels.sum()\n"
     ]
    },
    {
     "name": "stdout",
     "output_type": "stream",
     "text": [
      "dumped 49x3 organelle stats (['nuc', 'lyso', 'mito', 'golgi', 'perox', 'ER', 'LD']) csvs\n"
     ]
    },
    {
     "name": "stderr",
     "output_type": "stream",
     "text": [
      "/Users/ergonyc/miniforge3/envs/cento/lib/python3.10/site-packages/ome_types/_convenience.py:112: FutureWarning: The default XML parser will be changing from 'xmlschema' to 'lxml' in version 0.4.0.  To silence this warning, please provide the `parser` argument, specifying either 'lxml' (to opt into the new behavior), or'xmlschema' (to retain the old behavior).\n",
      "  d = to_dict(os.fspath(xml), parser=parser, validate=validate)\n",
      "/Users/ergonyc/Projects/Imaging/infer-subc/infer_subc/utils/stats.py:668: RuntimeWarning: invalid value encountered in divide\n",
      "  magnitude = np.sqrt(vr * vr + vi * vi) / pixels.sum()\n"
     ]
    },
    {
     "name": "stdout",
     "output_type": "stream",
     "text": [
      "dumped 49x3 organelle stats (['nuc', 'lyso', 'mito', 'golgi', 'perox', 'ER', 'LD']) csvs\n"
     ]
    },
    {
     "name": "stderr",
     "output_type": "stream",
     "text": [
      "/Users/ergonyc/miniforge3/envs/cento/lib/python3.10/site-packages/ome_types/_convenience.py:112: FutureWarning: The default XML parser will be changing from 'xmlschema' to 'lxml' in version 0.4.0.  To silence this warning, please provide the `parser` argument, specifying either 'lxml' (to opt into the new behavior), or'xmlschema' (to retain the old behavior).\n",
      "  d = to_dict(os.fspath(xml), parser=parser, validate=validate)\n",
      "/Users/ergonyc/Projects/Imaging/infer-subc/infer_subc/utils/stats.py:668: RuntimeWarning: invalid value encountered in divide\n",
      "  magnitude = np.sqrt(vr * vr + vi * vi) / pixels.sum()\n"
     ]
    },
    {
     "name": "stdout",
     "output_type": "stream",
     "text": [
      "dumped 49x3 organelle stats (['nuc', 'lyso', 'mito', 'golgi', 'perox', 'ER', 'LD']) csvs\n"
     ]
    },
    {
     "name": "stderr",
     "output_type": "stream",
     "text": [
      "/Users/ergonyc/miniforge3/envs/cento/lib/python3.10/site-packages/ome_types/_convenience.py:112: FutureWarning: The default XML parser will be changing from 'xmlschema' to 'lxml' in version 0.4.0.  To silence this warning, please provide the `parser` argument, specifying either 'lxml' (to opt into the new behavior), or'xmlschema' (to retain the old behavior).\n",
      "  d = to_dict(os.fspath(xml), parser=parser, validate=validate)\n",
      "/Users/ergonyc/Projects/Imaging/infer-subc/infer_subc/utils/stats.py:668: RuntimeWarning: invalid value encountered in divide\n",
      "  magnitude = np.sqrt(vr * vr + vi * vi) / pixels.sum()\n"
     ]
    },
    {
     "name": "stdout",
     "output_type": "stream",
     "text": [
      "dumped 49x3 organelle stats (['nuc', 'lyso', 'mito', 'golgi', 'perox', 'ER', 'LD']) csvs\n"
     ]
    },
    {
     "name": "stderr",
     "output_type": "stream",
     "text": [
      "/Users/ergonyc/miniforge3/envs/cento/lib/python3.10/site-packages/ome_types/_convenience.py:112: FutureWarning: The default XML parser will be changing from 'xmlschema' to 'lxml' in version 0.4.0.  To silence this warning, please provide the `parser` argument, specifying either 'lxml' (to opt into the new behavior), or'xmlschema' (to retain the old behavior).\n",
      "  d = to_dict(os.fspath(xml), parser=parser, validate=validate)\n",
      "/Users/ergonyc/Projects/Imaging/infer-subc/infer_subc/utils/stats.py:552: RuntimeWarning: invalid value encountered in divide\n",
      "  radial_means_cmsk = np.ma.masked_array(radial_counts_cmsk / pixel_count, mask)\n",
      "/Users/ergonyc/Projects/Imaging/infer-subc/infer_subc/utils/stats.py:558: RuntimeWarning: invalid value encountered in divide\n",
      "  radial_means_obj = np.ma.masked_array(radial_counts / pixel_count, mask)\n",
      "/Users/ergonyc/Projects/Imaging/infer-subc/infer_subc/utils/stats.py:563: RuntimeWarning: invalid value encountered in divide\n",
      "  radial_means_img = np.ma.masked_array(radial_values / pixel_count, mask)\n",
      "/Users/ergonyc/Projects/Imaging/infer-subc/infer_subc/utils/stats.py:582: UserWarning: Warning: converting a masked element to nan.\n",
      "  cv_cmsk.append(float(np.mean(radial_cv_cmsk)))  #convert to float to make importing from csv more straightforward\n",
      "/Users/ergonyc/Projects/Imaging/infer-subc/infer_subc/utils/stats.py:583: UserWarning: Warning: converting a masked element to nan.\n",
      "  cv_obj.append(float(np.mean(radial_cv_obj)))\n",
      "/Users/ergonyc/Projects/Imaging/infer-subc/infer_subc/utils/stats.py:584: UserWarning: Warning: converting a masked element to nan.\n",
      "  cv_img.append(float(np.mean(radial_cv_obj)))\n",
      "/Users/ergonyc/Projects/Imaging/infer-subc/infer_subc/utils/stats.py:552: RuntimeWarning: invalid value encountered in divide\n",
      "  radial_means_cmsk = np.ma.masked_array(radial_counts_cmsk / pixel_count, mask)\n",
      "/Users/ergonyc/Projects/Imaging/infer-subc/infer_subc/utils/stats.py:558: RuntimeWarning: invalid value encountered in divide\n",
      "  radial_means_obj = np.ma.masked_array(radial_counts / pixel_count, mask)\n",
      "/Users/ergonyc/Projects/Imaging/infer-subc/infer_subc/utils/stats.py:563: RuntimeWarning: invalid value encountered in divide\n",
      "  radial_means_img = np.ma.masked_array(radial_values / pixel_count, mask)\n",
      "/Users/ergonyc/Projects/Imaging/infer-subc/infer_subc/utils/stats.py:582: UserWarning: Warning: converting a masked element to nan.\n",
      "  cv_cmsk.append(float(np.mean(radial_cv_cmsk)))  #convert to float to make importing from csv more straightforward\n",
      "/Users/ergonyc/Projects/Imaging/infer-subc/infer_subc/utils/stats.py:583: UserWarning: Warning: converting a masked element to nan.\n",
      "  cv_obj.append(float(np.mean(radial_cv_obj)))\n",
      "/Users/ergonyc/Projects/Imaging/infer-subc/infer_subc/utils/stats.py:584: UserWarning: Warning: converting a masked element to nan.\n",
      "  cv_img.append(float(np.mean(radial_cv_obj)))\n",
      "/Users/ergonyc/Projects/Imaging/infer-subc/infer_subc/utils/stats.py:668: RuntimeWarning: invalid value encountered in divide\n",
      "  magnitude = np.sqrt(vr * vr + vi * vi) / pixels.sum()\n",
      "/Users/ergonyc/Projects/Imaging/infer-subc/infer_subc/utils/stats.py:552: RuntimeWarning: invalid value encountered in divide\n",
      "  radial_means_cmsk = np.ma.masked_array(radial_counts_cmsk / pixel_count, mask)\n",
      "/Users/ergonyc/Projects/Imaging/infer-subc/infer_subc/utils/stats.py:558: RuntimeWarning: invalid value encountered in divide\n",
      "  radial_means_obj = np.ma.masked_array(radial_counts / pixel_count, mask)\n",
      "/Users/ergonyc/Projects/Imaging/infer-subc/infer_subc/utils/stats.py:563: RuntimeWarning: invalid value encountered in divide\n",
      "  radial_means_img = np.ma.masked_array(radial_values / pixel_count, mask)\n",
      "/Users/ergonyc/Projects/Imaging/infer-subc/infer_subc/utils/stats.py:582: UserWarning: Warning: converting a masked element to nan.\n",
      "  cv_cmsk.append(float(np.mean(radial_cv_cmsk)))  #convert to float to make importing from csv more straightforward\n",
      "/Users/ergonyc/Projects/Imaging/infer-subc/infer_subc/utils/stats.py:583: UserWarning: Warning: converting a masked element to nan.\n",
      "  cv_obj.append(float(np.mean(radial_cv_obj)))\n",
      "/Users/ergonyc/Projects/Imaging/infer-subc/infer_subc/utils/stats.py:584: UserWarning: Warning: converting a masked element to nan.\n",
      "  cv_img.append(float(np.mean(radial_cv_obj)))\n",
      "/Users/ergonyc/Projects/Imaging/infer-subc/infer_subc/utils/stats.py:668: RuntimeWarning: invalid value encountered in divide\n",
      "  magnitude = np.sqrt(vr * vr + vi * vi) / pixels.sum()\n",
      "/Users/ergonyc/Projects/Imaging/infer-subc/infer_subc/utils/stats.py:552: RuntimeWarning: invalid value encountered in divide\n",
      "  radial_means_cmsk = np.ma.masked_array(radial_counts_cmsk / pixel_count, mask)\n",
      "/Users/ergonyc/Projects/Imaging/infer-subc/infer_subc/utils/stats.py:558: RuntimeWarning: invalid value encountered in divide\n",
      "  radial_means_obj = np.ma.masked_array(radial_counts / pixel_count, mask)\n",
      "/Users/ergonyc/Projects/Imaging/infer-subc/infer_subc/utils/stats.py:563: RuntimeWarning: invalid value encountered in divide\n",
      "  radial_means_img = np.ma.masked_array(radial_values / pixel_count, mask)\n",
      "/Users/ergonyc/Projects/Imaging/infer-subc/infer_subc/utils/stats.py:582: UserWarning: Warning: converting a masked element to nan.\n",
      "  cv_cmsk.append(float(np.mean(radial_cv_cmsk)))  #convert to float to make importing from csv more straightforward\n",
      "/Users/ergonyc/Projects/Imaging/infer-subc/infer_subc/utils/stats.py:583: UserWarning: Warning: converting a masked element to nan.\n",
      "  cv_obj.append(float(np.mean(radial_cv_obj)))\n",
      "/Users/ergonyc/Projects/Imaging/infer-subc/infer_subc/utils/stats.py:584: UserWarning: Warning: converting a masked element to nan.\n",
      "  cv_img.append(float(np.mean(radial_cv_obj)))\n",
      "/Users/ergonyc/Projects/Imaging/infer-subc/infer_subc/utils/stats.py:668: RuntimeWarning: invalid value encountered in divide\n",
      "  magnitude = np.sqrt(vr * vr + vi * vi) / pixels.sum()\n",
      "/Users/ergonyc/Projects/Imaging/infer-subc/infer_subc/utils/stats.py:552: RuntimeWarning: invalid value encountered in divide\n",
      "  radial_means_cmsk = np.ma.masked_array(radial_counts_cmsk / pixel_count, mask)\n",
      "/Users/ergonyc/Projects/Imaging/infer-subc/infer_subc/utils/stats.py:558: RuntimeWarning: invalid value encountered in divide\n",
      "  radial_means_obj = np.ma.masked_array(radial_counts / pixel_count, mask)\n",
      "/Users/ergonyc/Projects/Imaging/infer-subc/infer_subc/utils/stats.py:563: RuntimeWarning: invalid value encountered in divide\n",
      "  radial_means_img = np.ma.masked_array(radial_values / pixel_count, mask)\n",
      "/Users/ergonyc/Projects/Imaging/infer-subc/infer_subc/utils/stats.py:582: UserWarning: Warning: converting a masked element to nan.\n",
      "  cv_cmsk.append(float(np.mean(radial_cv_cmsk)))  #convert to float to make importing from csv more straightforward\n",
      "/Users/ergonyc/Projects/Imaging/infer-subc/infer_subc/utils/stats.py:583: UserWarning: Warning: converting a masked element to nan.\n",
      "  cv_obj.append(float(np.mean(radial_cv_obj)))\n",
      "/Users/ergonyc/Projects/Imaging/infer-subc/infer_subc/utils/stats.py:584: UserWarning: Warning: converting a masked element to nan.\n",
      "  cv_img.append(float(np.mean(radial_cv_obj)))\n",
      "/Users/ergonyc/Projects/Imaging/infer-subc/infer_subc/utils/stats.py:668: RuntimeWarning: invalid value encountered in divide\n",
      "  magnitude = np.sqrt(vr * vr + vi * vi) / pixels.sum()\n",
      "/Users/ergonyc/Projects/Imaging/infer-subc/infer_subc/utils/stats.py:552: RuntimeWarning: invalid value encountered in divide\n",
      "  radial_means_cmsk = np.ma.masked_array(radial_counts_cmsk / pixel_count, mask)\n",
      "/Users/ergonyc/Projects/Imaging/infer-subc/infer_subc/utils/stats.py:558: RuntimeWarning: invalid value encountered in divide\n",
      "  radial_means_obj = np.ma.masked_array(radial_counts / pixel_count, mask)\n",
      "/Users/ergonyc/Projects/Imaging/infer-subc/infer_subc/utils/stats.py:563: RuntimeWarning: invalid value encountered in divide\n",
      "  radial_means_img = np.ma.masked_array(radial_values / pixel_count, mask)\n",
      "/Users/ergonyc/Projects/Imaging/infer-subc/infer_subc/utils/stats.py:582: UserWarning: Warning: converting a masked element to nan.\n",
      "  cv_cmsk.append(float(np.mean(radial_cv_cmsk)))  #convert to float to make importing from csv more straightforward\n",
      "/Users/ergonyc/Projects/Imaging/infer-subc/infer_subc/utils/stats.py:583: UserWarning: Warning: converting a masked element to nan.\n",
      "  cv_obj.append(float(np.mean(radial_cv_obj)))\n",
      "/Users/ergonyc/Projects/Imaging/infer-subc/infer_subc/utils/stats.py:584: UserWarning: Warning: converting a masked element to nan.\n",
      "  cv_img.append(float(np.mean(radial_cv_obj)))\n",
      "/Users/ergonyc/Projects/Imaging/infer-subc/infer_subc/utils/stats.py:668: RuntimeWarning: invalid value encountered in divide\n",
      "  magnitude = np.sqrt(vr * vr + vi * vi) / pixels.sum()\n",
      "/Users/ergonyc/Projects/Imaging/infer-subc/infer_subc/utils/stats.py:552: RuntimeWarning: invalid value encountered in divide\n",
      "  radial_means_cmsk = np.ma.masked_array(radial_counts_cmsk / pixel_count, mask)\n",
      "/Users/ergonyc/Projects/Imaging/infer-subc/infer_subc/utils/stats.py:558: RuntimeWarning: invalid value encountered in divide\n",
      "  radial_means_obj = np.ma.masked_array(radial_counts / pixel_count, mask)\n",
      "/Users/ergonyc/Projects/Imaging/infer-subc/infer_subc/utils/stats.py:563: RuntimeWarning: invalid value encountered in divide\n",
      "  radial_means_img = np.ma.masked_array(radial_values / pixel_count, mask)\n",
      "/Users/ergonyc/Projects/Imaging/infer-subc/infer_subc/utils/stats.py:582: UserWarning: Warning: converting a masked element to nan.\n",
      "  cv_cmsk.append(float(np.mean(radial_cv_cmsk)))  #convert to float to make importing from csv more straightforward\n",
      "/Users/ergonyc/Projects/Imaging/infer-subc/infer_subc/utils/stats.py:583: UserWarning: Warning: converting a masked element to nan.\n",
      "  cv_obj.append(float(np.mean(radial_cv_obj)))\n",
      "/Users/ergonyc/Projects/Imaging/infer-subc/infer_subc/utils/stats.py:584: UserWarning: Warning: converting a masked element to nan.\n",
      "  cv_img.append(float(np.mean(radial_cv_obj)))\n",
      "/Users/ergonyc/Projects/Imaging/infer-subc/infer_subc/utils/stats.py:668: RuntimeWarning: invalid value encountered in divide\n",
      "  magnitude = np.sqrt(vr * vr + vi * vi) / pixels.sum()\n"
     ]
    },
    {
     "name": "stdout",
     "output_type": "stream",
     "text": [
      "dumped 49x3 organelle stats (['nuc', 'lyso', 'mito', 'golgi', 'perox', 'ER', 'LD']) csvs\n"
     ]
    },
    {
     "name": "stderr",
     "output_type": "stream",
     "text": [
      "/Users/ergonyc/miniforge3/envs/cento/lib/python3.10/site-packages/ome_types/_convenience.py:112: FutureWarning: The default XML parser will be changing from 'xmlschema' to 'lxml' in version 0.4.0.  To silence this warning, please provide the `parser` argument, specifying either 'lxml' (to opt into the new behavior), or'xmlschema' (to retain the old behavior).\n",
      "  d = to_dict(os.fspath(xml), parser=parser, validate=validate)\n"
     ]
    },
    {
     "name": "stdout",
     "output_type": "stream",
     "text": [
      "dumped 49x3 organelle stats (['nuc', 'lyso', 'mito', 'golgi', 'perox', 'ER', 'LD']) csvs\n"
     ]
    },
    {
     "name": "stderr",
     "output_type": "stream",
     "text": [
      "/Users/ergonyc/miniforge3/envs/cento/lib/python3.10/site-packages/ome_types/_convenience.py:112: FutureWarning: The default XML parser will be changing from 'xmlschema' to 'lxml' in version 0.4.0.  To silence this warning, please provide the `parser` argument, specifying either 'lxml' (to opt into the new behavior), or'xmlschema' (to retain the old behavior).\n",
      "  d = to_dict(os.fspath(xml), parser=parser, validate=validate)\n",
      "/Users/ergonyc/Projects/Imaging/infer-subc/infer_subc/utils/stats.py:552: RuntimeWarning: invalid value encountered in divide\n",
      "  radial_means_cmsk = np.ma.masked_array(radial_counts_cmsk / pixel_count, mask)\n",
      "/Users/ergonyc/Projects/Imaging/infer-subc/infer_subc/utils/stats.py:558: RuntimeWarning: invalid value encountered in divide\n",
      "  radial_means_obj = np.ma.masked_array(radial_counts / pixel_count, mask)\n",
      "/Users/ergonyc/Projects/Imaging/infer-subc/infer_subc/utils/stats.py:563: RuntimeWarning: invalid value encountered in divide\n",
      "  radial_means_img = np.ma.masked_array(radial_values / pixel_count, mask)\n",
      "/Users/ergonyc/Projects/Imaging/infer-subc/infer_subc/utils/stats.py:552: RuntimeWarning: invalid value encountered in divide\n",
      "  radial_means_cmsk = np.ma.masked_array(radial_counts_cmsk / pixel_count, mask)\n",
      "/Users/ergonyc/Projects/Imaging/infer-subc/infer_subc/utils/stats.py:558: RuntimeWarning: invalid value encountered in divide\n",
      "  radial_means_obj = np.ma.masked_array(radial_counts / pixel_count, mask)\n",
      "/Users/ergonyc/Projects/Imaging/infer-subc/infer_subc/utils/stats.py:563: RuntimeWarning: invalid value encountered in divide\n",
      "  radial_means_img = np.ma.masked_array(radial_values / pixel_count, mask)\n",
      "/Users/ergonyc/Projects/Imaging/infer-subc/infer_subc/utils/stats.py:552: RuntimeWarning: invalid value encountered in divide\n",
      "  radial_means_cmsk = np.ma.masked_array(radial_counts_cmsk / pixel_count, mask)\n",
      "/Users/ergonyc/Projects/Imaging/infer-subc/infer_subc/utils/stats.py:558: RuntimeWarning: invalid value encountered in divide\n",
      "  radial_means_obj = np.ma.masked_array(radial_counts / pixel_count, mask)\n",
      "/Users/ergonyc/Projects/Imaging/infer-subc/infer_subc/utils/stats.py:563: RuntimeWarning: invalid value encountered in divide\n",
      "  radial_means_img = np.ma.masked_array(radial_values / pixel_count, mask)\n",
      "/Users/ergonyc/Projects/Imaging/infer-subc/infer_subc/utils/stats.py:552: RuntimeWarning: invalid value encountered in divide\n",
      "  radial_means_cmsk = np.ma.masked_array(radial_counts_cmsk / pixel_count, mask)\n",
      "/Users/ergonyc/Projects/Imaging/infer-subc/infer_subc/utils/stats.py:558: RuntimeWarning: invalid value encountered in divide\n",
      "  radial_means_obj = np.ma.masked_array(radial_counts / pixel_count, mask)\n",
      "/Users/ergonyc/Projects/Imaging/infer-subc/infer_subc/utils/stats.py:563: RuntimeWarning: invalid value encountered in divide\n",
      "  radial_means_img = np.ma.masked_array(radial_values / pixel_count, mask)\n",
      "/Users/ergonyc/Projects/Imaging/infer-subc/infer_subc/utils/stats.py:552: RuntimeWarning: invalid value encountered in divide\n",
      "  radial_means_cmsk = np.ma.masked_array(radial_counts_cmsk / pixel_count, mask)\n",
      "/Users/ergonyc/Projects/Imaging/infer-subc/infer_subc/utils/stats.py:558: RuntimeWarning: invalid value encountered in divide\n",
      "  radial_means_obj = np.ma.masked_array(radial_counts / pixel_count, mask)\n",
      "/Users/ergonyc/Projects/Imaging/infer-subc/infer_subc/utils/stats.py:563: RuntimeWarning: invalid value encountered in divide\n",
      "  radial_means_img = np.ma.masked_array(radial_values / pixel_count, mask)\n",
      "/Users/ergonyc/Projects/Imaging/infer-subc/infer_subc/utils/stats.py:552: RuntimeWarning: invalid value encountered in divide\n",
      "  radial_means_cmsk = np.ma.masked_array(radial_counts_cmsk / pixel_count, mask)\n",
      "/Users/ergonyc/Projects/Imaging/infer-subc/infer_subc/utils/stats.py:558: RuntimeWarning: invalid value encountered in divide\n",
      "  radial_means_obj = np.ma.masked_array(radial_counts / pixel_count, mask)\n",
      "/Users/ergonyc/Projects/Imaging/infer-subc/infer_subc/utils/stats.py:563: RuntimeWarning: invalid value encountered in divide\n",
      "  radial_means_img = np.ma.masked_array(radial_values / pixel_count, mask)\n",
      "/Users/ergonyc/Projects/Imaging/infer-subc/infer_subc/utils/stats.py:552: RuntimeWarning: invalid value encountered in divide\n",
      "  radial_means_cmsk = np.ma.masked_array(radial_counts_cmsk / pixel_count, mask)\n",
      "/Users/ergonyc/Projects/Imaging/infer-subc/infer_subc/utils/stats.py:558: RuntimeWarning: invalid value encountered in divide\n",
      "  radial_means_obj = np.ma.masked_array(radial_counts / pixel_count, mask)\n",
      "/Users/ergonyc/Projects/Imaging/infer-subc/infer_subc/utils/stats.py:563: RuntimeWarning: invalid value encountered in divide\n",
      "  radial_means_img = np.ma.masked_array(radial_values / pixel_count, mask)\n",
      "/Users/ergonyc/Projects/Imaging/infer-subc/infer_subc/utils/stats.py:668: RuntimeWarning: invalid value encountered in divide\n",
      "  magnitude = np.sqrt(vr * vr + vi * vi) / pixels.sum()\n"
     ]
    },
    {
     "name": "stdout",
     "output_type": "stream",
     "text": [
      "dumped 49x3 organelle stats (['nuc', 'lyso', 'mito', 'golgi', 'perox', 'ER', 'LD']) csvs\n"
     ]
    },
    {
     "name": "stderr",
     "output_type": "stream",
     "text": [
      "/Users/ergonyc/miniforge3/envs/cento/lib/python3.10/site-packages/ome_types/_convenience.py:112: FutureWarning: The default XML parser will be changing from 'xmlschema' to 'lxml' in version 0.4.0.  To silence this warning, please provide the `parser` argument, specifying either 'lxml' (to opt into the new behavior), or'xmlschema' (to retain the old behavior).\n",
      "  d = to_dict(os.fspath(xml), parser=parser, validate=validate)\n",
      "/Users/ergonyc/Projects/Imaging/infer-subc/infer_subc/utils/stats.py:552: RuntimeWarning: invalid value encountered in divide\n",
      "  radial_means_cmsk = np.ma.masked_array(radial_counts_cmsk / pixel_count, mask)\n",
      "/Users/ergonyc/Projects/Imaging/infer-subc/infer_subc/utils/stats.py:558: RuntimeWarning: invalid value encountered in divide\n",
      "  radial_means_obj = np.ma.masked_array(radial_counts / pixel_count, mask)\n",
      "/Users/ergonyc/Projects/Imaging/infer-subc/infer_subc/utils/stats.py:563: RuntimeWarning: invalid value encountered in divide\n",
      "  radial_means_img = np.ma.masked_array(radial_values / pixel_count, mask)\n",
      "/Users/ergonyc/Projects/Imaging/infer-subc/infer_subc/utils/stats.py:552: RuntimeWarning: invalid value encountered in divide\n",
      "  radial_means_cmsk = np.ma.masked_array(radial_counts_cmsk / pixel_count, mask)\n",
      "/Users/ergonyc/Projects/Imaging/infer-subc/infer_subc/utils/stats.py:558: RuntimeWarning: invalid value encountered in divide\n",
      "  radial_means_obj = np.ma.masked_array(radial_counts / pixel_count, mask)\n",
      "/Users/ergonyc/Projects/Imaging/infer-subc/infer_subc/utils/stats.py:563: RuntimeWarning: invalid value encountered in divide\n",
      "  radial_means_img = np.ma.masked_array(radial_values / pixel_count, mask)\n",
      "/Users/ergonyc/Projects/Imaging/infer-subc/infer_subc/utils/stats.py:552: RuntimeWarning: invalid value encountered in divide\n",
      "  radial_means_cmsk = np.ma.masked_array(radial_counts_cmsk / pixel_count, mask)\n",
      "/Users/ergonyc/Projects/Imaging/infer-subc/infer_subc/utils/stats.py:558: RuntimeWarning: invalid value encountered in divide\n",
      "  radial_means_obj = np.ma.masked_array(radial_counts / pixel_count, mask)\n",
      "/Users/ergonyc/Projects/Imaging/infer-subc/infer_subc/utils/stats.py:563: RuntimeWarning: invalid value encountered in divide\n",
      "  radial_means_img = np.ma.masked_array(radial_values / pixel_count, mask)\n",
      "/Users/ergonyc/Projects/Imaging/infer-subc/infer_subc/utils/stats.py:552: RuntimeWarning: invalid value encountered in divide\n",
      "  radial_means_cmsk = np.ma.masked_array(radial_counts_cmsk / pixel_count, mask)\n",
      "/Users/ergonyc/Projects/Imaging/infer-subc/infer_subc/utils/stats.py:558: RuntimeWarning: invalid value encountered in divide\n",
      "  radial_means_obj = np.ma.masked_array(radial_counts / pixel_count, mask)\n",
      "/Users/ergonyc/Projects/Imaging/infer-subc/infer_subc/utils/stats.py:563: RuntimeWarning: invalid value encountered in divide\n",
      "  radial_means_img = np.ma.masked_array(radial_values / pixel_count, mask)\n",
      "/Users/ergonyc/Projects/Imaging/infer-subc/infer_subc/utils/stats.py:668: RuntimeWarning: invalid value encountered in divide\n",
      "  magnitude = np.sqrt(vr * vr + vi * vi) / pixels.sum()\n",
      "/Users/ergonyc/Projects/Imaging/infer-subc/infer_subc/utils/stats.py:552: RuntimeWarning: invalid value encountered in divide\n",
      "  radial_means_cmsk = np.ma.masked_array(radial_counts_cmsk / pixel_count, mask)\n",
      "/Users/ergonyc/Projects/Imaging/infer-subc/infer_subc/utils/stats.py:558: RuntimeWarning: invalid value encountered in divide\n",
      "  radial_means_obj = np.ma.masked_array(radial_counts / pixel_count, mask)\n",
      "/Users/ergonyc/Projects/Imaging/infer-subc/infer_subc/utils/stats.py:563: RuntimeWarning: invalid value encountered in divide\n",
      "  radial_means_img = np.ma.masked_array(radial_values / pixel_count, mask)\n",
      "/Users/ergonyc/Projects/Imaging/infer-subc/infer_subc/utils/stats.py:668: RuntimeWarning: invalid value encountered in divide\n",
      "  magnitude = np.sqrt(vr * vr + vi * vi) / pixels.sum()\n",
      "/Users/ergonyc/Projects/Imaging/infer-subc/infer_subc/utils/stats.py:552: RuntimeWarning: invalid value encountered in divide\n",
      "  radial_means_cmsk = np.ma.masked_array(radial_counts_cmsk / pixel_count, mask)\n",
      "/Users/ergonyc/Projects/Imaging/infer-subc/infer_subc/utils/stats.py:558: RuntimeWarning: invalid value encountered in divide\n",
      "  radial_means_obj = np.ma.masked_array(radial_counts / pixel_count, mask)\n",
      "/Users/ergonyc/Projects/Imaging/infer-subc/infer_subc/utils/stats.py:563: RuntimeWarning: invalid value encountered in divide\n",
      "  radial_means_img = np.ma.masked_array(radial_values / pixel_count, mask)\n",
      "/Users/ergonyc/Projects/Imaging/infer-subc/infer_subc/utils/stats.py:552: RuntimeWarning: invalid value encountered in divide\n",
      "  radial_means_cmsk = np.ma.masked_array(radial_counts_cmsk / pixel_count, mask)\n",
      "/Users/ergonyc/Projects/Imaging/infer-subc/infer_subc/utils/stats.py:558: RuntimeWarning: invalid value encountered in divide\n",
      "  radial_means_obj = np.ma.masked_array(radial_counts / pixel_count, mask)\n",
      "/Users/ergonyc/Projects/Imaging/infer-subc/infer_subc/utils/stats.py:563: RuntimeWarning: invalid value encountered in divide\n",
      "  radial_means_img = np.ma.masked_array(radial_values / pixel_count, mask)\n",
      "/Users/ergonyc/Projects/Imaging/infer-subc/infer_subc/utils/stats.py:668: RuntimeWarning: invalid value encountered in divide\n",
      "  magnitude = np.sqrt(vr * vr + vi * vi) / pixels.sum()\n"
     ]
    },
    {
     "name": "stdout",
     "output_type": "stream",
     "text": [
      "dumped 49x3 organelle stats (['nuc', 'lyso', 'mito', 'golgi', 'perox', 'ER', 'LD']) csvs\n"
     ]
    },
    {
     "name": "stderr",
     "output_type": "stream",
     "text": [
      "/Users/ergonyc/miniforge3/envs/cento/lib/python3.10/site-packages/ome_types/_convenience.py:112: FutureWarning: The default XML parser will be changing from 'xmlschema' to 'lxml' in version 0.4.0.  To silence this warning, please provide the `parser` argument, specifying either 'lxml' (to opt into the new behavior), or'xmlschema' (to retain the old behavior).\n",
      "  d = to_dict(os.fspath(xml), parser=parser, validate=validate)\n",
      "/Users/ergonyc/Projects/Imaging/infer-subc/infer_subc/utils/stats.py:668: RuntimeWarning: invalid value encountered in divide\n",
      "  magnitude = np.sqrt(vr * vr + vi * vi) / pixels.sum()\n",
      "/Users/ergonyc/Projects/Imaging/infer-subc/infer_subc/utils/stats.py:668: RuntimeWarning: invalid value encountered in divide\n",
      "  magnitude = np.sqrt(vr * vr + vi * vi) / pixels.sum()\n"
     ]
    },
    {
     "name": "stdout",
     "output_type": "stream",
     "text": [
      "dumped 49x3 organelle stats (['nuc', 'lyso', 'mito', 'golgi', 'perox', 'ER', 'LD']) csvs\n"
     ]
    },
    {
     "name": "stderr",
     "output_type": "stream",
     "text": [
      "/Users/ergonyc/miniforge3/envs/cento/lib/python3.10/site-packages/ome_types/_convenience.py:112: FutureWarning: The default XML parser will be changing from 'xmlschema' to 'lxml' in version 0.4.0.  To silence this warning, please provide the `parser` argument, specifying either 'lxml' (to opt into the new behavior), or'xmlschema' (to retain the old behavior).\n",
      "  d = to_dict(os.fspath(xml), parser=parser, validate=validate)\n"
     ]
    },
    {
     "name": "stdout",
     "output_type": "stream",
     "text": [
      "dumped 49x3 organelle stats (['nuc', 'lyso', 'mito', 'golgi', 'perox', 'ER', 'LD']) csvs\n"
     ]
    },
    {
     "name": "stderr",
     "output_type": "stream",
     "text": [
      "/Users/ergonyc/miniforge3/envs/cento/lib/python3.10/site-packages/ome_types/_convenience.py:112: FutureWarning: The default XML parser will be changing from 'xmlschema' to 'lxml' in version 0.4.0.  To silence this warning, please provide the `parser` argument, specifying either 'lxml' (to opt into the new behavior), or'xmlschema' (to retain the old behavior).\n",
      "  d = to_dict(os.fspath(xml), parser=parser, validate=validate)\n",
      "/Users/ergonyc/Projects/Imaging/infer-subc/infer_subc/utils/stats.py:668: RuntimeWarning: invalid value encountered in divide\n",
      "  magnitude = np.sqrt(vr * vr + vi * vi) / pixels.sum()\n"
     ]
    },
    {
     "name": "stdout",
     "output_type": "stream",
     "text": [
      "dumped 49x3 organelle stats (['nuc', 'lyso', 'mito', 'golgi', 'perox', 'ER', 'LD']) csvs\n"
     ]
    },
    {
     "name": "stderr",
     "output_type": "stream",
     "text": [
      "/Users/ergonyc/miniforge3/envs/cento/lib/python3.10/site-packages/ome_types/_convenience.py:112: FutureWarning: The default XML parser will be changing from 'xmlschema' to 'lxml' in version 0.4.0.  To silence this warning, please provide the `parser` argument, specifying either 'lxml' (to opt into the new behavior), or'xmlschema' (to retain the old behavior).\n",
      "  d = to_dict(os.fspath(xml), parser=parser, validate=validate)\n"
     ]
    },
    {
     "name": "stdout",
     "output_type": "stream",
     "text": [
      "dumped 49x3 organelle stats (['nuc', 'lyso', 'mito', 'golgi', 'perox', 'ER', 'LD']) csvs\n"
     ]
    },
    {
     "name": "stderr",
     "output_type": "stream",
     "text": [
      "/Users/ergonyc/miniforge3/envs/cento/lib/python3.10/site-packages/ome_types/_convenience.py:112: FutureWarning: The default XML parser will be changing from 'xmlschema' to 'lxml' in version 0.4.0.  To silence this warning, please provide the `parser` argument, specifying either 'lxml' (to opt into the new behavior), or'xmlschema' (to retain the old behavior).\n",
      "  d = to_dict(os.fspath(xml), parser=parser, validate=validate)\n",
      "/Users/ergonyc/Projects/Imaging/infer-subc/infer_subc/utils/stats.py:552: RuntimeWarning: invalid value encountered in divide\n",
      "  radial_means_cmsk = np.ma.masked_array(radial_counts_cmsk / pixel_count, mask)\n",
      "/Users/ergonyc/Projects/Imaging/infer-subc/infer_subc/utils/stats.py:558: RuntimeWarning: invalid value encountered in divide\n",
      "  radial_means_obj = np.ma.masked_array(radial_counts / pixel_count, mask)\n",
      "/Users/ergonyc/Projects/Imaging/infer-subc/infer_subc/utils/stats.py:563: RuntimeWarning: invalid value encountered in divide\n",
      "  radial_means_img = np.ma.masked_array(radial_values / pixel_count, mask)\n",
      "/Users/ergonyc/Projects/Imaging/infer-subc/infer_subc/utils/stats.py:552: RuntimeWarning: invalid value encountered in divide\n",
      "  radial_means_cmsk = np.ma.masked_array(radial_counts_cmsk / pixel_count, mask)\n",
      "/Users/ergonyc/Projects/Imaging/infer-subc/infer_subc/utils/stats.py:558: RuntimeWarning: invalid value encountered in divide\n",
      "  radial_means_obj = np.ma.masked_array(radial_counts / pixel_count, mask)\n",
      "/Users/ergonyc/Projects/Imaging/infer-subc/infer_subc/utils/stats.py:563: RuntimeWarning: invalid value encountered in divide\n",
      "  radial_means_img = np.ma.masked_array(radial_values / pixel_count, mask)\n",
      "/Users/ergonyc/Projects/Imaging/infer-subc/infer_subc/utils/stats.py:552: RuntimeWarning: invalid value encountered in divide\n",
      "  radial_means_cmsk = np.ma.masked_array(radial_counts_cmsk / pixel_count, mask)\n",
      "/Users/ergonyc/Projects/Imaging/infer-subc/infer_subc/utils/stats.py:558: RuntimeWarning: invalid value encountered in divide\n",
      "  radial_means_obj = np.ma.masked_array(radial_counts / pixel_count, mask)\n",
      "/Users/ergonyc/Projects/Imaging/infer-subc/infer_subc/utils/stats.py:563: RuntimeWarning: invalid value encountered in divide\n",
      "  radial_means_img = np.ma.masked_array(radial_values / pixel_count, mask)\n",
      "/Users/ergonyc/Projects/Imaging/infer-subc/infer_subc/utils/stats.py:552: RuntimeWarning: invalid value encountered in divide\n",
      "  radial_means_cmsk = np.ma.masked_array(radial_counts_cmsk / pixel_count, mask)\n",
      "/Users/ergonyc/Projects/Imaging/infer-subc/infer_subc/utils/stats.py:558: RuntimeWarning: invalid value encountered in divide\n",
      "  radial_means_obj = np.ma.masked_array(radial_counts / pixel_count, mask)\n",
      "/Users/ergonyc/Projects/Imaging/infer-subc/infer_subc/utils/stats.py:563: RuntimeWarning: invalid value encountered in divide\n",
      "  radial_means_img = np.ma.masked_array(radial_values / pixel_count, mask)\n",
      "/Users/ergonyc/Projects/Imaging/infer-subc/infer_subc/utils/stats.py:552: RuntimeWarning: invalid value encountered in divide\n",
      "  radial_means_cmsk = np.ma.masked_array(radial_counts_cmsk / pixel_count, mask)\n",
      "/Users/ergonyc/Projects/Imaging/infer-subc/infer_subc/utils/stats.py:558: RuntimeWarning: invalid value encountered in divide\n",
      "  radial_means_obj = np.ma.masked_array(radial_counts / pixel_count, mask)\n",
      "/Users/ergonyc/Projects/Imaging/infer-subc/infer_subc/utils/stats.py:563: RuntimeWarning: invalid value encountered in divide\n",
      "  radial_means_img = np.ma.masked_array(radial_values / pixel_count, mask)\n",
      "/Users/ergonyc/Projects/Imaging/infer-subc/infer_subc/utils/stats.py:552: RuntimeWarning: invalid value encountered in divide\n",
      "  radial_means_cmsk = np.ma.masked_array(radial_counts_cmsk / pixel_count, mask)\n",
      "/Users/ergonyc/Projects/Imaging/infer-subc/infer_subc/utils/stats.py:558: RuntimeWarning: invalid value encountered in divide\n",
      "  radial_means_obj = np.ma.masked_array(radial_counts / pixel_count, mask)\n",
      "/Users/ergonyc/Projects/Imaging/infer-subc/infer_subc/utils/stats.py:563: RuntimeWarning: invalid value encountered in divide\n",
      "  radial_means_img = np.ma.masked_array(radial_values / pixel_count, mask)\n",
      "/Users/ergonyc/Projects/Imaging/infer-subc/infer_subc/utils/stats.py:552: RuntimeWarning: invalid value encountered in divide\n",
      "  radial_means_cmsk = np.ma.masked_array(radial_counts_cmsk / pixel_count, mask)\n",
      "/Users/ergonyc/Projects/Imaging/infer-subc/infer_subc/utils/stats.py:558: RuntimeWarning: invalid value encountered in divide\n",
      "  radial_means_obj = np.ma.masked_array(radial_counts / pixel_count, mask)\n",
      "/Users/ergonyc/Projects/Imaging/infer-subc/infer_subc/utils/stats.py:563: RuntimeWarning: invalid value encountered in divide\n",
      "  radial_means_img = np.ma.masked_array(radial_values / pixel_count, mask)\n",
      "/Users/ergonyc/Projects/Imaging/infer-subc/infer_subc/utils/stats.py:668: RuntimeWarning: invalid value encountered in divide\n",
      "  magnitude = np.sqrt(vr * vr + vi * vi) / pixels.sum()\n"
     ]
    },
    {
     "name": "stdout",
     "output_type": "stream",
     "text": [
      "dumped 49x3 organelle stats (['nuc', 'lyso', 'mito', 'golgi', 'perox', 'ER', 'LD']) csvs\n"
     ]
    },
    {
     "name": "stderr",
     "output_type": "stream",
     "text": [
      "/Users/ergonyc/miniforge3/envs/cento/lib/python3.10/site-packages/ome_types/_convenience.py:112: FutureWarning: The default XML parser will be changing from 'xmlschema' to 'lxml' in version 0.4.0.  To silence this warning, please provide the `parser` argument, specifying either 'lxml' (to opt into the new behavior), or'xmlschema' (to retain the old behavior).\n",
      "  d = to_dict(os.fspath(xml), parser=parser, validate=validate)\n",
      "/Users/ergonyc/Projects/Imaging/infer-subc/infer_subc/utils/stats.py:552: RuntimeWarning: invalid value encountered in divide\n",
      "  radial_means_cmsk = np.ma.masked_array(radial_counts_cmsk / pixel_count, mask)\n",
      "/Users/ergonyc/Projects/Imaging/infer-subc/infer_subc/utils/stats.py:558: RuntimeWarning: invalid value encountered in divide\n",
      "  radial_means_obj = np.ma.masked_array(radial_counts / pixel_count, mask)\n",
      "/Users/ergonyc/Projects/Imaging/infer-subc/infer_subc/utils/stats.py:563: RuntimeWarning: invalid value encountered in divide\n",
      "  radial_means_img = np.ma.masked_array(radial_values / pixel_count, mask)\n",
      "/Users/ergonyc/Projects/Imaging/infer-subc/infer_subc/utils/stats.py:552: RuntimeWarning: invalid value encountered in divide\n",
      "  radial_means_cmsk = np.ma.masked_array(radial_counts_cmsk / pixel_count, mask)\n",
      "/Users/ergonyc/Projects/Imaging/infer-subc/infer_subc/utils/stats.py:558: RuntimeWarning: invalid value encountered in divide\n",
      "  radial_means_obj = np.ma.masked_array(radial_counts / pixel_count, mask)\n",
      "/Users/ergonyc/Projects/Imaging/infer-subc/infer_subc/utils/stats.py:563: RuntimeWarning: invalid value encountered in divide\n",
      "  radial_means_img = np.ma.masked_array(radial_values / pixel_count, mask)\n",
      "/Users/ergonyc/Projects/Imaging/infer-subc/infer_subc/utils/stats.py:552: RuntimeWarning: invalid value encountered in divide\n",
      "  radial_means_cmsk = np.ma.masked_array(radial_counts_cmsk / pixel_count, mask)\n",
      "/Users/ergonyc/Projects/Imaging/infer-subc/infer_subc/utils/stats.py:558: RuntimeWarning: invalid value encountered in divide\n",
      "  radial_means_obj = np.ma.masked_array(radial_counts / pixel_count, mask)\n",
      "/Users/ergonyc/Projects/Imaging/infer-subc/infer_subc/utils/stats.py:563: RuntimeWarning: invalid value encountered in divide\n",
      "  radial_means_img = np.ma.masked_array(radial_values / pixel_count, mask)\n",
      "/Users/ergonyc/Projects/Imaging/infer-subc/infer_subc/utils/stats.py:552: RuntimeWarning: invalid value encountered in divide\n",
      "  radial_means_cmsk = np.ma.masked_array(radial_counts_cmsk / pixel_count, mask)\n",
      "/Users/ergonyc/Projects/Imaging/infer-subc/infer_subc/utils/stats.py:558: RuntimeWarning: invalid value encountered in divide\n",
      "  radial_means_obj = np.ma.masked_array(radial_counts / pixel_count, mask)\n",
      "/Users/ergonyc/Projects/Imaging/infer-subc/infer_subc/utils/stats.py:563: RuntimeWarning: invalid value encountered in divide\n",
      "  radial_means_img = np.ma.masked_array(radial_values / pixel_count, mask)\n",
      "/Users/ergonyc/Projects/Imaging/infer-subc/infer_subc/utils/stats.py:552: RuntimeWarning: invalid value encountered in divide\n",
      "  radial_means_cmsk = np.ma.masked_array(radial_counts_cmsk / pixel_count, mask)\n",
      "/Users/ergonyc/Projects/Imaging/infer-subc/infer_subc/utils/stats.py:558: RuntimeWarning: invalid value encountered in divide\n",
      "  radial_means_obj = np.ma.masked_array(radial_counts / pixel_count, mask)\n",
      "/Users/ergonyc/Projects/Imaging/infer-subc/infer_subc/utils/stats.py:563: RuntimeWarning: invalid value encountered in divide\n",
      "  radial_means_img = np.ma.masked_array(radial_values / pixel_count, mask)\n",
      "/Users/ergonyc/Projects/Imaging/infer-subc/infer_subc/utils/stats.py:552: RuntimeWarning: invalid value encountered in divide\n",
      "  radial_means_cmsk = np.ma.masked_array(radial_counts_cmsk / pixel_count, mask)\n",
      "/Users/ergonyc/Projects/Imaging/infer-subc/infer_subc/utils/stats.py:558: RuntimeWarning: invalid value encountered in divide\n",
      "  radial_means_obj = np.ma.masked_array(radial_counts / pixel_count, mask)\n",
      "/Users/ergonyc/Projects/Imaging/infer-subc/infer_subc/utils/stats.py:563: RuntimeWarning: invalid value encountered in divide\n",
      "  radial_means_img = np.ma.masked_array(radial_values / pixel_count, mask)\n",
      "/Users/ergonyc/Projects/Imaging/infer-subc/infer_subc/utils/stats.py:552: RuntimeWarning: invalid value encountered in divide\n",
      "  radial_means_cmsk = np.ma.masked_array(radial_counts_cmsk / pixel_count, mask)\n",
      "/Users/ergonyc/Projects/Imaging/infer-subc/infer_subc/utils/stats.py:558: RuntimeWarning: invalid value encountered in divide\n",
      "  radial_means_obj = np.ma.masked_array(radial_counts / pixel_count, mask)\n",
      "/Users/ergonyc/Projects/Imaging/infer-subc/infer_subc/utils/stats.py:563: RuntimeWarning: invalid value encountered in divide\n",
      "  radial_means_img = np.ma.masked_array(radial_values / pixel_count, mask)\n",
      "/Users/ergonyc/Projects/Imaging/infer-subc/infer_subc/utils/stats.py:668: RuntimeWarning: invalid value encountered in divide\n",
      "  magnitude = np.sqrt(vr * vr + vi * vi) / pixels.sum()\n"
     ]
    },
    {
     "name": "stdout",
     "output_type": "stream",
     "text": [
      "dumped 49x3 organelle stats (['nuc', 'lyso', 'mito', 'golgi', 'perox', 'ER', 'LD']) csvs\n"
     ]
    },
    {
     "name": "stderr",
     "output_type": "stream",
     "text": [
      "/Users/ergonyc/miniforge3/envs/cento/lib/python3.10/site-packages/ome_types/_convenience.py:112: FutureWarning: The default XML parser will be changing from 'xmlschema' to 'lxml' in version 0.4.0.  To silence this warning, please provide the `parser` argument, specifying either 'lxml' (to opt into the new behavior), or'xmlschema' (to retain the old behavior).\n",
      "  d = to_dict(os.fspath(xml), parser=parser, validate=validate)\n",
      "/Users/ergonyc/Projects/Imaging/infer-subc/infer_subc/utils/stats.py:668: RuntimeWarning: invalid value encountered in divide\n",
      "  magnitude = np.sqrt(vr * vr + vi * vi) / pixels.sum()\n"
     ]
    },
    {
     "name": "stdout",
     "output_type": "stream",
     "text": [
      "dumped 49x3 organelle stats (['nuc', 'lyso', 'mito', 'golgi', 'perox', 'ER', 'LD']) csvs\n"
     ]
    },
    {
     "name": "stderr",
     "output_type": "stream",
     "text": [
      "/Users/ergonyc/miniforge3/envs/cento/lib/python3.10/site-packages/ome_types/_convenience.py:112: FutureWarning: The default XML parser will be changing from 'xmlschema' to 'lxml' in version 0.4.0.  To silence this warning, please provide the `parser` argument, specifying either 'lxml' (to opt into the new behavior), or'xmlschema' (to retain the old behavior).\n",
      "  d = to_dict(os.fspath(xml), parser=parser, validate=validate)\n",
      "/Users/ergonyc/Projects/Imaging/infer-subc/infer_subc/utils/stats.py:668: RuntimeWarning: invalid value encountered in divide\n",
      "  magnitude = np.sqrt(vr * vr + vi * vi) / pixels.sum()\n"
     ]
    },
    {
     "name": "stdout",
     "output_type": "stream",
     "text": [
      "dumped 49x3 organelle stats (['nuc', 'lyso', 'mito', 'golgi', 'perox', 'ER', 'LD']) csvs\n"
     ]
    },
    {
     "name": "stderr",
     "output_type": "stream",
     "text": [
      "/Users/ergonyc/miniforge3/envs/cento/lib/python3.10/site-packages/ome_types/_convenience.py:112: FutureWarning: The default XML parser will be changing from 'xmlschema' to 'lxml' in version 0.4.0.  To silence this warning, please provide the `parser` argument, specifying either 'lxml' (to opt into the new behavior), or'xmlschema' (to retain the old behavior).\n",
      "  d = to_dict(os.fspath(xml), parser=parser, validate=validate)\n",
      "/Users/ergonyc/Projects/Imaging/infer-subc/infer_subc/utils/stats.py:668: RuntimeWarning: invalid value encountered in divide\n",
      "  magnitude = np.sqrt(vr * vr + vi * vi) / pixels.sum()\n"
     ]
    },
    {
     "name": "stdout",
     "output_type": "stream",
     "text": [
      "dumped 49x3 organelle stats (['nuc', 'lyso', 'mito', 'golgi', 'perox', 'ER', 'LD']) csvs\n"
     ]
    },
    {
     "name": "stderr",
     "output_type": "stream",
     "text": [
      "/Users/ergonyc/miniforge3/envs/cento/lib/python3.10/site-packages/ome_types/_convenience.py:112: FutureWarning: The default XML parser will be changing from 'xmlschema' to 'lxml' in version 0.4.0.  To silence this warning, please provide the `parser` argument, specifying either 'lxml' (to opt into the new behavior), or'xmlschema' (to retain the old behavior).\n",
      "  d = to_dict(os.fspath(xml), parser=parser, validate=validate)\n"
     ]
    },
    {
     "name": "stdout",
     "output_type": "stream",
     "text": [
      "dumped 49x3 organelle stats (['nuc', 'lyso', 'mito', 'golgi', 'perox', 'ER', 'LD']) csvs\n"
     ]
    },
    {
     "name": "stderr",
     "output_type": "stream",
     "text": [
      "/Users/ergonyc/miniforge3/envs/cento/lib/python3.10/site-packages/ome_types/_convenience.py:112: FutureWarning: The default XML parser will be changing from 'xmlschema' to 'lxml' in version 0.4.0.  To silence this warning, please provide the `parser` argument, specifying either 'lxml' (to opt into the new behavior), or'xmlschema' (to retain the old behavior).\n",
      "  d = to_dict(os.fspath(xml), parser=parser, validate=validate)\n",
      "/Users/ergonyc/Projects/Imaging/infer-subc/infer_subc/utils/stats.py:668: RuntimeWarning: invalid value encountered in divide\n",
      "  magnitude = np.sqrt(vr * vr + vi * vi) / pixels.sum()\n"
     ]
    },
    {
     "name": "stdout",
     "output_type": "stream",
     "text": [
      "dumped 49x3 organelle stats (['nuc', 'lyso', 'mito', 'golgi', 'perox', 'ER', 'LD']) csvs\n"
     ]
    },
    {
     "name": "stderr",
     "output_type": "stream",
     "text": [
      "/Users/ergonyc/miniforge3/envs/cento/lib/python3.10/site-packages/ome_types/_convenience.py:112: FutureWarning: The default XML parser will be changing from 'xmlschema' to 'lxml' in version 0.4.0.  To silence this warning, please provide the `parser` argument, specifying either 'lxml' (to opt into the new behavior), or'xmlschema' (to retain the old behavior).\n",
      "  d = to_dict(os.fspath(xml), parser=parser, validate=validate)\n",
      "/Users/ergonyc/Projects/Imaging/infer-subc/infer_subc/utils/stats.py:668: RuntimeWarning: invalid value encountered in divide\n",
      "  magnitude = np.sqrt(vr * vr + vi * vi) / pixels.sum()\n"
     ]
    },
    {
     "name": "stdout",
     "output_type": "stream",
     "text": [
      "dumped 49x3 organelle stats (['nuc', 'lyso', 'mito', 'golgi', 'perox', 'ER', 'LD']) csvs\n"
     ]
    },
    {
     "name": "stderr",
     "output_type": "stream",
     "text": [
      "/Users/ergonyc/miniforge3/envs/cento/lib/python3.10/site-packages/ome_types/_convenience.py:112: FutureWarning: The default XML parser will be changing from 'xmlschema' to 'lxml' in version 0.4.0.  To silence this warning, please provide the `parser` argument, specifying either 'lxml' (to opt into the new behavior), or'xmlschema' (to retain the old behavior).\n",
      "  d = to_dict(os.fspath(xml), parser=parser, validate=validate)\n",
      "/Users/ergonyc/Projects/Imaging/infer-subc/infer_subc/utils/stats.py:668: RuntimeWarning: invalid value encountered in divide\n",
      "  magnitude = np.sqrt(vr * vr + vi * vi) / pixels.sum()\n"
     ]
    },
    {
     "name": "stdout",
     "output_type": "stream",
     "text": [
      "dumped 49x3 organelle stats (['nuc', 'lyso', 'mito', 'golgi', 'perox', 'ER', 'LD']) csvs\n"
     ]
    },
    {
     "name": "stderr",
     "output_type": "stream",
     "text": [
      "/Users/ergonyc/miniforge3/envs/cento/lib/python3.10/site-packages/ome_types/_convenience.py:112: FutureWarning: The default XML parser will be changing from 'xmlschema' to 'lxml' in version 0.4.0.  To silence this warning, please provide the `parser` argument, specifying either 'lxml' (to opt into the new behavior), or'xmlschema' (to retain the old behavior).\n",
      "  d = to_dict(os.fspath(xml), parser=parser, validate=validate)\n",
      "/Users/ergonyc/Projects/Imaging/infer-subc/infer_subc/utils/stats.py:668: RuntimeWarning: invalid value encountered in divide\n",
      "  magnitude = np.sqrt(vr * vr + vi * vi) / pixels.sum()\n"
     ]
    },
    {
     "name": "stdout",
     "output_type": "stream",
     "text": [
      "dumped 49x3 organelle stats (['nuc', 'lyso', 'mito', 'golgi', 'perox', 'ER', 'LD']) csvs\n"
     ]
    },
    {
     "name": "stderr",
     "output_type": "stream",
     "text": [
      "/Users/ergonyc/miniforge3/envs/cento/lib/python3.10/site-packages/ome_types/_convenience.py:112: FutureWarning: The default XML parser will be changing from 'xmlschema' to 'lxml' in version 0.4.0.  To silence this warning, please provide the `parser` argument, specifying either 'lxml' (to opt into the new behavior), or'xmlschema' (to retain the old behavior).\n",
      "  d = to_dict(os.fspath(xml), parser=parser, validate=validate)\n"
     ]
    },
    {
     "name": "stdout",
     "output_type": "stream",
     "text": [
      "dumped 49x3 organelle stats (['nuc', 'lyso', 'mito', 'golgi', 'perox', 'ER', 'LD']) csvs\n"
     ]
    },
    {
     "name": "stderr",
     "output_type": "stream",
     "text": [
      "/Users/ergonyc/miniforge3/envs/cento/lib/python3.10/site-packages/ome_types/_convenience.py:112: FutureWarning: The default XML parser will be changing from 'xmlschema' to 'lxml' in version 0.4.0.  To silence this warning, please provide the `parser` argument, specifying either 'lxml' (to opt into the new behavior), or'xmlschema' (to retain the old behavior).\n",
      "  d = to_dict(os.fspath(xml), parser=parser, validate=validate)\n",
      "/Users/ergonyc/Projects/Imaging/infer-subc/infer_subc/utils/stats.py:552: RuntimeWarning: invalid value encountered in divide\n",
      "  radial_means_cmsk = np.ma.masked_array(radial_counts_cmsk / pixel_count, mask)\n",
      "/Users/ergonyc/Projects/Imaging/infer-subc/infer_subc/utils/stats.py:558: RuntimeWarning: invalid value encountered in divide\n",
      "  radial_means_obj = np.ma.masked_array(radial_counts / pixel_count, mask)\n",
      "/Users/ergonyc/Projects/Imaging/infer-subc/infer_subc/utils/stats.py:563: RuntimeWarning: invalid value encountered in divide\n",
      "  radial_means_img = np.ma.masked_array(radial_values / pixel_count, mask)\n",
      "/Users/ergonyc/Projects/Imaging/infer-subc/infer_subc/utils/stats.py:552: RuntimeWarning: invalid value encountered in divide\n",
      "  radial_means_cmsk = np.ma.masked_array(radial_counts_cmsk / pixel_count, mask)\n",
      "/Users/ergonyc/Projects/Imaging/infer-subc/infer_subc/utils/stats.py:558: RuntimeWarning: invalid value encountered in divide\n",
      "  radial_means_obj = np.ma.masked_array(radial_counts / pixel_count, mask)\n",
      "/Users/ergonyc/Projects/Imaging/infer-subc/infer_subc/utils/stats.py:563: RuntimeWarning: invalid value encountered in divide\n",
      "  radial_means_img = np.ma.masked_array(radial_values / pixel_count, mask)\n",
      "/Users/ergonyc/Projects/Imaging/infer-subc/infer_subc/utils/stats.py:552: RuntimeWarning: invalid value encountered in divide\n",
      "  radial_means_cmsk = np.ma.masked_array(radial_counts_cmsk / pixel_count, mask)\n",
      "/Users/ergonyc/Projects/Imaging/infer-subc/infer_subc/utils/stats.py:558: RuntimeWarning: invalid value encountered in divide\n",
      "  radial_means_obj = np.ma.masked_array(radial_counts / pixel_count, mask)\n",
      "/Users/ergonyc/Projects/Imaging/infer-subc/infer_subc/utils/stats.py:563: RuntimeWarning: invalid value encountered in divide\n",
      "  radial_means_img = np.ma.masked_array(radial_values / pixel_count, mask)\n",
      "/Users/ergonyc/Projects/Imaging/infer-subc/infer_subc/utils/stats.py:552: RuntimeWarning: invalid value encountered in divide\n",
      "  radial_means_cmsk = np.ma.masked_array(radial_counts_cmsk / pixel_count, mask)\n",
      "/Users/ergonyc/Projects/Imaging/infer-subc/infer_subc/utils/stats.py:558: RuntimeWarning: invalid value encountered in divide\n",
      "  radial_means_obj = np.ma.masked_array(radial_counts / pixel_count, mask)\n",
      "/Users/ergonyc/Projects/Imaging/infer-subc/infer_subc/utils/stats.py:563: RuntimeWarning: invalid value encountered in divide\n",
      "  radial_means_img = np.ma.masked_array(radial_values / pixel_count, mask)\n",
      "/Users/ergonyc/Projects/Imaging/infer-subc/infer_subc/utils/stats.py:552: RuntimeWarning: invalid value encountered in divide\n",
      "  radial_means_cmsk = np.ma.masked_array(radial_counts_cmsk / pixel_count, mask)\n",
      "/Users/ergonyc/Projects/Imaging/infer-subc/infer_subc/utils/stats.py:558: RuntimeWarning: invalid value encountered in divide\n",
      "  radial_means_obj = np.ma.masked_array(radial_counts / pixel_count, mask)\n",
      "/Users/ergonyc/Projects/Imaging/infer-subc/infer_subc/utils/stats.py:563: RuntimeWarning: invalid value encountered in divide\n",
      "  radial_means_img = np.ma.masked_array(radial_values / pixel_count, mask)\n",
      "/Users/ergonyc/Projects/Imaging/infer-subc/infer_subc/utils/stats.py:552: RuntimeWarning: invalid value encountered in divide\n",
      "  radial_means_cmsk = np.ma.masked_array(radial_counts_cmsk / pixel_count, mask)\n",
      "/Users/ergonyc/Projects/Imaging/infer-subc/infer_subc/utils/stats.py:558: RuntimeWarning: invalid value encountered in divide\n",
      "  radial_means_obj = np.ma.masked_array(radial_counts / pixel_count, mask)\n",
      "/Users/ergonyc/Projects/Imaging/infer-subc/infer_subc/utils/stats.py:563: RuntimeWarning: invalid value encountered in divide\n",
      "  radial_means_img = np.ma.masked_array(radial_values / pixel_count, mask)\n",
      "/Users/ergonyc/Projects/Imaging/infer-subc/infer_subc/utils/stats.py:552: RuntimeWarning: invalid value encountered in divide\n",
      "  radial_means_cmsk = np.ma.masked_array(radial_counts_cmsk / pixel_count, mask)\n",
      "/Users/ergonyc/Projects/Imaging/infer-subc/infer_subc/utils/stats.py:558: RuntimeWarning: invalid value encountered in divide\n",
      "  radial_means_obj = np.ma.masked_array(radial_counts / pixel_count, mask)\n",
      "/Users/ergonyc/Projects/Imaging/infer-subc/infer_subc/utils/stats.py:563: RuntimeWarning: invalid value encountered in divide\n",
      "  radial_means_img = np.ma.masked_array(radial_values / pixel_count, mask)\n",
      "/Users/ergonyc/Projects/Imaging/infer-subc/infer_subc/utils/stats.py:668: RuntimeWarning: invalid value encountered in divide\n",
      "  magnitude = np.sqrt(vr * vr + vi * vi) / pixels.sum()\n"
     ]
    },
    {
     "name": "stdout",
     "output_type": "stream",
     "text": [
      "dumped 49x3 organelle stats (['nuc', 'lyso', 'mito', 'golgi', 'perox', 'ER', 'LD']) csvs\n"
     ]
    },
    {
     "name": "stderr",
     "output_type": "stream",
     "text": [
      "/Users/ergonyc/miniforge3/envs/cento/lib/python3.10/site-packages/ome_types/_convenience.py:112: FutureWarning: The default XML parser will be changing from 'xmlschema' to 'lxml' in version 0.4.0.  To silence this warning, please provide the `parser` argument, specifying either 'lxml' (to opt into the new behavior), or'xmlschema' (to retain the old behavior).\n",
      "  d = to_dict(os.fspath(xml), parser=parser, validate=validate)\n"
     ]
    },
    {
     "name": "stdout",
     "output_type": "stream",
     "text": [
      "dumped 49x3 organelle stats (['nuc', 'lyso', 'mito', 'golgi', 'perox', 'ER', 'LD']) csvs\n"
     ]
    },
    {
     "name": "stderr",
     "output_type": "stream",
     "text": [
      "/Users/ergonyc/miniforge3/envs/cento/lib/python3.10/site-packages/ome_types/_convenience.py:112: FutureWarning: The default XML parser will be changing from 'xmlschema' to 'lxml' in version 0.4.0.  To silence this warning, please provide the `parser` argument, specifying either 'lxml' (to opt into the new behavior), or'xmlschema' (to retain the old behavior).\n",
      "  d = to_dict(os.fspath(xml), parser=parser, validate=validate)\n"
     ]
    },
    {
     "name": "stdout",
     "output_type": "stream",
     "text": [
      "dumped 49x3 organelle stats (['nuc', 'lyso', 'mito', 'golgi', 'perox', 'ER', 'LD']) csvs\n"
     ]
    },
    {
     "data": {
      "text/plain": [
       "49"
      ]
     },
     "execution_count": 15,
     "metadata": {},
     "output_type": "execute_result"
    }
   ],
   "source": [
    "# for a list of \"prefixes\"  collect stats + cross stats masked by cytosol (including nuclei masked by cellmask)\n",
    "\n",
    "def dump_allout_df(int_path: Union[Path,str], out_path: Union[Path, str], raw_path: Union[Path,str], organelle_names: List[str]= [\"nuclei\",\"golgi\",\"peroxi\"], organelle_chs: List[int]= [NUC_CH,GOLGI_CH, PEROX_CH], postfix: str = \".tiff\"):\n",
    "    \"\"\"  \n",
    "    TODO: add loggin instead of printing\n",
    "        append tiffcomments with provenance\n",
    "    \"\"\"\n",
    "\n",
    "    \n",
    "    if isinstance(raw_path, str): raw_path = Path(raw_path)\n",
    "    if isinstance(int_path, str): int_path = Path(int_path)\n",
    "    if isinstance(out_path, str): out_path = Path(out_path)\n",
    "    \n",
    "    img_file_list = list_image_files(raw_path,\".czi\")\n",
    "\n",
    "    if not Path.exists(out_path):\n",
    "        Path.mkdir(out_path)\n",
    "        print(f\"making {out_path}\")\n",
    "        \n",
    "    for img_f in img_file_list:\n",
    "        filez = find_segmentation_tiff_files(img_f, organelle_names, int_path)\n",
    "        img_data,meta_dict = read_czi_image(filez[\"raw\"])\n",
    "\n",
    "        # load organelles and masks\n",
    "        cyto_mask = read_tiff_image(filez[\"cyto\"])\n",
    "        cellmask_obj = read_tiff_image(filez[\"cell\"])\n",
    "\n",
    "\n",
    "\n",
    "        # create intensities from raw as list\n",
    "        intensities = [img_data[ch] for ch in organelle_chs]\n",
    "\n",
    "        # load organelles as list\n",
    "        organelles = [read_tiff_image(filez[org]) for org in organelle_names]\n",
    "        \n",
    "        #get mask (cyto_mask)\n",
    "        nuclei_obj = organelles[ organelle_names.index(\"nuc\") ]\n",
    "\n",
    "        n_files = make_organelle_stat_tables(organelle_names, \n",
    "                                      organelles,\n",
    "                                      intensities, \n",
    "                                      nuclei_obj,\n",
    "                                      cellmask_obj,\n",
    "                                      cyto_mask, \n",
    "                                      out_data_path, \n",
    "                                      img_f,\n",
    "                                      n_rad_bins=5,\n",
    "                                      n_zernike=9)\n",
    "\n",
    "    return n_files\n",
    "\n",
    "\n",
    "\n",
    "# all the imaging data goes here.\n",
    "data_root_path = Path(os.path.expanduser(\"~\")) / \"Projects/Imaging/data\"\n",
    "# linearly unmixed \".czi\" files are here\n",
    "raw_data_path = data_root_path / \"raw\"\n",
    "# save output \".tiff\" files here\n",
    "int_data_path = data_root_path / \"out\"\n",
    "# save stats here\n",
    "out_data_path = data_root_path / \"out\"\n",
    "\n",
    "dump_all_stats(out_data_path, \n",
    "                     out_data_path, \n",
    "                     raw_data_path, \n",
    "                     organelle_names=organelle_names, \n",
    "                     organelle_chs=organelle_channels)\n",
    "\n"
   ]
  },
  {
   "attachments": {},
   "cell_type": "markdown",
   "metadata": {},
   "source": [
    "# summary statistics\n",
    "\n",
    "We now need to merge our files"
   ]
  },
  {
   "cell_type": "markdown",
   "metadata": {},
   "source": [
    "\n",
    "-----------------\n",
    "##  SUMMARY STATS  \n",
    "> WARNING: (🚨🚨🚨🚨 WIP)\n",
    "### normalizations.\n",
    "\n",
    "- overlaps, normalized by CYTOPLASM, A, and B\n",
    "- per cell averages, medians, std, and totals\n",
    "\n",
    "These is all pandas munging and very straightforward tabular manipulation.\n"
   ]
  },
  {
   "cell_type": "code",
   "execution_count": 16,
   "metadata": {},
   "outputs": [],
   "source": [
    "\n",
    "data_root_path = Path(os.path.expanduser(\"~\")) / \"Projects/Imaging/data\"\n",
    "\n",
    "# linearly unmixed \".czi\" files are here\n",
    "int_data_path = data_root_path / \"out\"\n"
   ]
  },
  {
   "cell_type": "code",
   "execution_count": 294,
   "metadata": {},
   "outputs": [],
   "source": [
    "# for a list of \"prefixes\"  collect stats + cross stats masked by cytosol (including nuclei masked by cellmask)\n",
    "\n",
    "def summarize_by_id(stats_in:pd.DataFrame,agg_fn: List) -> pd.DataFrame:\n",
    "    \"\"\" \n",
    "    \"\"\"\n",
    "    summary = stats_in.groupby(['ID']).agg(agg_fn)\n",
    "    summary.columns = [\"_\".join(col_name).rstrip('_') for col_name in summary.columns.to_flat_index()]\n",
    "    return summary\n",
    "\n",
    "\n",
    "\n",
    "def create_stats_summary(summary_df:pd.DataFrame) -> pd.DataFrame:\n",
    "    \"\"\"\n",
    "    \"\"\"\n",
    "    column_names = summary_df.columns\n",
    "\n",
    "    def frac(x):\n",
    "        return (x>0).sum()/x.count() \n",
    "\n",
    "    math_cols = ['ID', 'mean_intensity',\n",
    "        'standard_deviation_intensity',\n",
    "        'min_intensity','max_intensity', 'equivalent_diameter',\n",
    "        'euler_number', 'extent']\n",
    "    vol_cols = ['ID','volume']\n",
    "    overlap_cols = ['ID'] + [col for col in column_names if col.endswith('_overlap')]\n",
    "    labels_cols = ['ID'] + [col for col in column_names if col.endswith('_labels')]\n",
    "   \n",
    "    agg_func_math = ['sum', 'mean', 'median', 'min', 'max', 'std','count']\n",
    "    agg_func_overlap = ['sum', 'mean', 'median','count',frac]\n",
    "    agg_func_labels = ['sum']\n",
    "    agg_func_vol = ['sum', 'mean', 'median', 'min', 'max', 'std', 'var']\n",
    "\n",
    "    math_summary = summarize_by_id( summary_df[math_cols] , agg_func_math)\n",
    "    \n",
    "    # label_stats = fix_list_col(summary_df[labels_cols])\n",
    "    label_summary = summarize_by_id( summary_df[labels_cols] , agg_func_labels)\n",
    "    overlap_summary = summarize_by_id( summary_df[overlap_cols] ,agg_func_overlap)\n",
    "    vol_summary = summarize_by_id( summary_df[vol_cols] , agg_func_vol)\n",
    "    result = pd.concat([math_summary, vol_summary, overlap_summary, label_summary], axis=1)\n",
    "\n",
    "    result.insert(loc=0,column=\"ID\",value=result.index)\n",
    "\n",
    "    return result\n",
    "\n",
    "\n",
    "def summarize_by_group(stats_in:pd.DataFrame, grp_col:list, agg_fn:list) -> pd.DataFrame:\n",
    "    \"\"\" \n",
    "    \"\"\"\n",
    "    summary = stats_in.reset_index(drop=True).groupby(grp_col).agg(agg_fn)\n",
    "    summary.columns = [\"_\".join(col_name).rstrip('_') for col_name in summary.columns.to_flat_index()]\n",
    "    return summary\n",
    "\n",
    "\n",
    "def create_cross_stats_summary(summary_df:pd.DataFrame) -> pd.DataFrame:\n",
    "    \"\"\"\n",
    "    \"\"\"\n",
    "    # cross_cols = ['ID', 'organelle', 'organelle_b', 'shell', 'label_', 'label', 'volume',\n",
    "    #    'equivalent_diameter','surface_area', 'label_a', 'label_b']\n",
    "\n",
    "    group_cols = ['ID','organelle_b', 'shell']\n",
    "    id_cols = ['label_','label_a', 'label_b'] \n",
    "    math_cols = ['volume','equivalent_diameter','surface_area']\n",
    "\n",
    "    def lst(x):\n",
    "        return x.to_list()\n",
    "       \n",
    "    agg_func_math = ['sum', 'mean', 'median', 'min', 'max', 'std','count']\n",
    "    agg_func_id = [lst]\n",
    "\n",
    "    math_summary = summarize_by_group( summary_df[group_cols + math_cols],group_cols, agg_func_math)\n",
    "\n",
    "    id_summary = summarize_by_group( summary_df[group_cols + id_cols],group_cols, agg_func_id)\n",
    "\n",
    "    result = pd.concat([math_summary, id_summary], axis=1)\n",
    "    return result\n",
    "\n",
    "    # now \n",
    "\n",
    "def summarize_cross_stats(summary_df:pd.DataFrame) -> pd.DataFrame:\n",
    "    \"\"\"\n",
    "    \"\"\"\n",
    "    # get shell\n",
    "    shell_summary_i = create_cross_stats_summary(summary_df.loc[summary_df[\"shell\"] == True]).reset_index().drop(\"shell\", axis = 1).add_prefix(\"shell_\")\n",
    "    # rename shell_ID to ID\n",
    "    shell_summary_i = shell_summary_i.rename(columns={\"shell_ID\":\"ID\",\"shell_organelle_b\":\"organelle_b\"})\n",
    "\n",
    "    # get non-shell\n",
    "    summary_i = create_cross_stats_summary(summary_df.loc[summary_df[\"shell\"] == False]).reset_index().drop(\"shell\", axis = 1)\n",
    "\n",
    "    summary_i = summary_i.merge(shell_summary_i,on=[\"ID\",\"organelle_b\"])\n",
    "\n",
    "    return summary_i\n",
    "\n",
    "\n",
    "def pivot_cross_stats(summary_df:pd.DataFrame) -> pd.DataFrame:\n",
    "    \"\"\"\n",
    "    \"\"\"\n",
    "    xstat_df = pd.DataFrame()\n",
    "    for i,org_b in enumerate(org_bs):\n",
    "        org_i = summary_df.loc[summary_df[\"organelle_b\"] == org_b]\n",
    "\n",
    "        # get shell\n",
    "        shell_summary_i = create_cross_stats_summary(org_i.loc[org_i[\"shell\"] == False]).reset_index().drop(\"shell\", axis = 1).add_prefix(\"shell_\")\n",
    "        # rename shell_ID to ID\n",
    "        shell_summary_i = shell_summary_i.rename(columns={\"shell_ID\":\"ID\",\"shell_organelle_b\":\"organelle_b\"})\n",
    "        # get non-shell\n",
    "        summary_i = create_cross_stats_summary(org_i.loc[org_i[\"shell\"] == False]).reset_index().drop(\"shell\", axis = 1)\n",
    "        col_orgb = organelle_to_colname[org_b]\n",
    "\n",
    "        summary_i = summary_i.merge(shell_summary_i,on=[\"ID\",\"organelle_b\"]).drop(\"organelle_b\", axis=1).add_suffix(f\"_{col_orgb}\")\n",
    "        if i>0:\n",
    "            xstat_df = pd.concat([xstat_df,summary_i], axis=1)\n",
    "        else:\n",
    "            xstat_df = summary_i\n",
    "            \n",
    "    id_cols = [col for col in xstat_df.columns if \"ID\" in col]\n",
    "    IDcol = xstat_df[id_cols[0]]\n",
    "    xstat_df = xstat_df.drop(id_cols, axis=1)\n",
    "    xstat_df.insert(loc=0,column=\"ID\",value=IDcol)\n",
    "\n",
    "    return xstat_df\n",
    "\n",
    "\n",
    "def fix_int_list_cols(in_df:pd.DataFrame, list_cols) -> pd.DataFrame:\n",
    "    \"\"\" \n",
    "    \"\"\"\n",
    "\n",
    "    def _str_to_list(x):\n",
    "        if x == '[]':\n",
    "            return list()\n",
    "        elif isinstance(x,float): # catch nans\n",
    "            return x\n",
    "        else:\n",
    "            xstr = x.strip(\"[]\").replace(\"'\", \"\").split(\", \")\n",
    "        return [int(float(x)) for x in xstr]\n",
    "        \n",
    "    out_df = pd.DataFrame() \n",
    "    for col in in_df.columns:    \n",
    "        out_df[col] = in_df[col].apply(_str_to_list) if col in list_cols else in_df[col]\n",
    "    return out_df\n",
    "\n",
    "def fix_float_list_cols(in_df:pd.DataFrame, list_cols) -> pd.DataFrame:\n",
    "    \"\"\" \n",
    "    \"\"\"\n",
    "    def _str_to_list(x):\n",
    "        if x == '[]':\n",
    "            return list()\n",
    "        elif isinstance(x,float): # catch nans\n",
    "            return x\n",
    "        else:\n",
    "            xstr = x.strip(\"[]\").replace(\"'\", \"\").split(\", \")\n",
    "        return [float(x) for x in xstr]\n",
    "        \n",
    "    out_df = pd.DataFrame() \n",
    "    for col in in_df.columns:    \n",
    "        out_df[col] = in_df[col].apply(_str_to_list) if col in list_cols else in_df[col]\n",
    "    return out_df\n",
    "\n",
    "def fix_str_list_cols(in_df:pd.DataFrame, list_cols) -> pd.DataFrame:\n",
    "    \"\"\" \n",
    "    \"\"\"\n",
    "    def _str_to_list(x):\n",
    "        if x == '[]':\n",
    "            return list()\n",
    "        elif isinstance(x,float): # catch nans\n",
    "            return x\n",
    "        else:\n",
    "            xstr = x.strip(\"[]\").replace(\"'\", \"\").split(\", \")\n",
    "        return [x for x in xstr]\n",
    "        \n",
    "    out_df = pd.DataFrame() \n",
    "    for col in in_df.columns:    \n",
    "        out_df[col] = in_df[col].apply(_str_to_list) if col in list_cols else in_df[col]\n",
    "    return out_df\n",
    "\n",
    "\n",
    "def load_stats_csv(in_path: Path, img_id: str, target_org: str) -> pd.DataFrame:\n",
    "    \"\"\" helper to load the basic stats csv: `img_id`-`target_organelle` -stats.csv\n",
    "    returns pandas DataFrame \"\"\"\n",
    "    csv_path = in_path / f\"{img_id}-{target_org}-stats.csv\"\n",
    "    stats = pd.read_csv(csv_path, index_col=0,dtype={\"ID\":str,\"organelle\":str})\n",
    "    # need to convert columns *_labels\n",
    "    list_cols = [col for col in stats.columns if col.endswith('_labels')]\n",
    "    stats = fix_int_list_cols(stats,list_cols)\n",
    "    return stats\n",
    "        \n",
    "\n",
    "def load_proj_stats_csv(in_path: Path, img_id: str, target_org: str) -> pd.DataFrame:\n",
    "    \"\"\" helper to load  the projection stats csv: `img_id`-`target_organelle` -proj-stats.csv\n",
    "    returns pandas DataFrame \"\"\"\n",
    "    # obj_cols =  ['ID', 'organelle','radial_n_bins','n_z']  # leave alone\n",
    "    # str_cols = [ 'radial_bins']\n",
    "    int_cols = ['radial_cm_vox_cnt', 'radial_org_vox_cnt', 'radial_org_intensity', 'radial_n_pix','zernike_n', 'zernike_m', 'z','z_cm_vox_cnt','z_org_vox_cnt', 'z_org_intensity', 'z_nuc_vox_cnt']\n",
    "    float_cols = ['radial_cm_cv', 'radial_org_cv', 'radial_img_cv','zernike_cm_mag', 'zernike_cm_phs','zernike_obj_mag', 'zernike_obj_phs', 'zernike_nuc_mag','zernike_nuc_phs', 'zernike_img_mag']\n",
    "\n",
    "    csv_path = in_path / f\"{img_id}-{target_org}-proj-stats.csv\"\n",
    "    proj = pd.read_csv(csv_path, index_col=0)\n",
    "    proj['radial_bins'] = proj['radial_bins'].values.squeeze().tolist()\n",
    "    # proj = fix_str_list_cols(proj, str_cols)\n",
    "    proj = fix_int_list_cols(proj, int_cols)\n",
    "    proj = fix_float_list_cols(proj, float_cols)\n",
    "    return proj\n",
    "        \n",
    "\n",
    "def load_cross_stats_csv(in_path: Path, img_id: str, target_org: str) -> pd.DataFrame:\n",
    "    \"\"\" helper to load  the cross- stats csv: `img_id`-`target_organelle` -cross-stats.csv\n",
    "    returns pandas DataFrame \"\"\"\n",
    "    csv_path = in_path / f\"{img_id}-{target_org}-cross-stats.csv\"\n",
    "    cross = pd.read_csv(csv_path, index_col=0)\n",
    "    return cross\n",
    "\n",
    "\n",
    "def summarize_organelle_stats(int_path: Union[Path,str], \n",
    "                              out_path: Union[Path, str], \n",
    "                              organelle_names: List[str]= [\"nuclei\",\"golgi\",\"peroxi\"]):\n",
    "    \"\"\"  \n",
    "    \"\"\"\n",
    "    # write out files... \n",
    "\n",
    "    if isinstance(int_path, str): int_path = Path(int_path)\n",
    "    if isinstance(out_path, str): out_path = Path(out_path)\n",
    "\n",
    "    if not Path.exists(out_path):\n",
    "        Path.mkdir(out_path)\n",
    "        print(f\"making {out_path}\")\n",
    "\n",
    "    all_stats_df = pd.DataFrame()\n",
    "    all_cross_stats_df = pd.DataFrame()\n",
    "    all_proj_stats_df = pd.DataFrame()\n",
    "    \n",
    "    for target in organelle_names:\n",
    "        stat_file_list = sorted( int_path.glob(f\"*{target}-stats.csv\") )\n",
    "\n",
    "        stats_df = pd.DataFrame()\n",
    "        cross_stats_df = pd.DataFrame()\n",
    "        proj_stats_df = pd.DataFrame()\n",
    "\n",
    "        for stats_f in stat_file_list:\n",
    "            stem = stats_f.stem.split(\"-\")[0]\n",
    "            # stats load the csv\n",
    "            stats = load_stats_csv(out_path,stem, target)\n",
    "            # projection stats\n",
    "            proj = load_proj_stats_csv(out_path,stem, target)\n",
    "            # cross stats\n",
    "            cross = load_cross_stats_csv(out_path,stem, target)\n",
    "\n",
    "            stats_df = pd.concat([stats_df,stats],axis=0, join='outer')\n",
    "            proj_stats_df = pd.concat([proj_stats_df,proj],axis=0, join='outer')\n",
    "            cross_stats_df = pd.concat([cross_stats_df,cross],axis=0, join='outer')\n",
    "        \n",
    "\n",
    "        ## maybe merge into all the possible files?\n",
    "        # summary_df = pd.DataFrame(index=[f.stem.split(\"-\")[0] for f in stat_file_list])\n",
    "        # cross_stats_df = pd.DataFrame(index=[f.stem.split(\"-\")[0] for f in stat_file_list])\n",
    "        # proj_stats_df = pd.DataFrame(index=[f.stem.split(\"-\")[0] for f in stat_file_list])\n",
    "\n",
    "        summary_df = create_stats_summary(stats_df)\n",
    "        summary_df.insert(loc=1,column=\"organelle\",value=target)\n",
    "        cross_summary_df = summarize_cross_stats(cross_stats_df)\n",
    "        ## cross_summary_df = pivot_cross_stats(cross_stats_df)  #makes a wide version... but has a bug\n",
    "        cross_summary_df.insert(loc=1,column=\"organelle\",value=target)\n",
    "\n",
    "        all_stats_df = pd.concat([all_stats_df,summary_df],axis=0)\n",
    "        all_proj_stats_df = pd.concat([all_proj_stats_df,proj_stats_df],axis=0)\n",
    "        all_cross_stats_df = pd.concat([all_cross_stats_df,cross_summary_df],axis=0)\n",
    "    \n",
    "\n",
    "    return all_stats_df, all_proj_stats_df, all_cross_stats_df\n",
    "        \n",
    "\n"
   ]
  },
  {
   "cell_type": "code",
   "execution_count": 305,
   "metadata": {},
   "outputs": [
    {
     "name": "stdout",
     "output_type": "stream",
     "text": [
      "nuc\n"
     ]
    },
    {
     "name": "stderr",
     "output_type": "stream",
     "text": [
      "/var/folders/0z/hvx6j8cn6yj3bqbyq6rtsxm40000gn/T/ipykernel_34641/3190897339.py:307: FutureWarning: In a future version, object-dtype columns with all-bool values will not be included in reductions with bool_only=True. Explicitly cast to bool dtype instead.\n",
      "  cross_stats_df = pd.concat([cross_stats_df,cross],axis=0, join='outer')\n",
      "/var/folders/0z/hvx6j8cn6yj3bqbyq6rtsxm40000gn/T/ipykernel_34641/3190897339.py:307: FutureWarning: In a future version, object-dtype columns with all-bool values will not be included in reductions with bool_only=True. Explicitly cast to bool dtype instead.\n",
      "  cross_stats_df = pd.concat([cross_stats_df,cross],axis=0, join='outer')\n",
      "/var/folders/0z/hvx6j8cn6yj3bqbyq6rtsxm40000gn/T/ipykernel_34641/3190897339.py:307: FutureWarning: In a future version, object-dtype columns with all-bool values will not be included in reductions with bool_only=True. Explicitly cast to bool dtype instead.\n",
      "  cross_stats_df = pd.concat([cross_stats_df,cross],axis=0, join='outer')\n",
      "/var/folders/0z/hvx6j8cn6yj3bqbyq6rtsxm40000gn/T/ipykernel_34641/3190897339.py:307: FutureWarning: In a future version, object-dtype columns with all-bool values will not be included in reductions with bool_only=True. Explicitly cast to bool dtype instead.\n",
      "  cross_stats_df = pd.concat([cross_stats_df,cross],axis=0, join='outer')\n",
      "/var/folders/0z/hvx6j8cn6yj3bqbyq6rtsxm40000gn/T/ipykernel_34641/3190897339.py:307: FutureWarning: In a future version, object-dtype columns with all-bool values will not be included in reductions with bool_only=True. Explicitly cast to bool dtype instead.\n",
      "  cross_stats_df = pd.concat([cross_stats_df,cross],axis=0, join='outer')\n",
      "/var/folders/0z/hvx6j8cn6yj3bqbyq6rtsxm40000gn/T/ipykernel_34641/3190897339.py:307: FutureWarning: In a future version, object-dtype columns with all-bool values will not be included in reductions with bool_only=True. Explicitly cast to bool dtype instead.\n",
      "  cross_stats_df = pd.concat([cross_stats_df,cross],axis=0, join='outer')\n",
      "/var/folders/0z/hvx6j8cn6yj3bqbyq6rtsxm40000gn/T/ipykernel_34641/3190897339.py:307: FutureWarning: In a future version, object-dtype columns with all-bool values will not be included in reductions with bool_only=True. Explicitly cast to bool dtype instead.\n",
      "  cross_stats_df = pd.concat([cross_stats_df,cross],axis=0, join='outer')\n",
      "/var/folders/0z/hvx6j8cn6yj3bqbyq6rtsxm40000gn/T/ipykernel_34641/3190897339.py:307: FutureWarning: In a future version, object-dtype columns with all-bool values will not be included in reductions with bool_only=True. Explicitly cast to bool dtype instead.\n",
      "  cross_stats_df = pd.concat([cross_stats_df,cross],axis=0, join='outer')\n",
      "/var/folders/0z/hvx6j8cn6yj3bqbyq6rtsxm40000gn/T/ipykernel_34641/3190897339.py:307: FutureWarning: In a future version, object-dtype columns with all-bool values will not be included in reductions with bool_only=True. Explicitly cast to bool dtype instead.\n",
      "  cross_stats_df = pd.concat([cross_stats_df,cross],axis=0, join='outer')\n",
      "/var/folders/0z/hvx6j8cn6yj3bqbyq6rtsxm40000gn/T/ipykernel_34641/3190897339.py:307: FutureWarning: In a future version, object-dtype columns with all-bool values will not be included in reductions with bool_only=True. Explicitly cast to bool dtype instead.\n",
      "  cross_stats_df = pd.concat([cross_stats_df,cross],axis=0, join='outer')\n",
      "/var/folders/0z/hvx6j8cn6yj3bqbyq6rtsxm40000gn/T/ipykernel_34641/3190897339.py:307: FutureWarning: In a future version, object-dtype columns with all-bool values will not be included in reductions with bool_only=True. Explicitly cast to bool dtype instead.\n",
      "  cross_stats_df = pd.concat([cross_stats_df,cross],axis=0, join='outer')\n",
      "/var/folders/0z/hvx6j8cn6yj3bqbyq6rtsxm40000gn/T/ipykernel_34641/3190897339.py:307: FutureWarning: In a future version, object-dtype columns with all-bool values will not be included in reductions with bool_only=True. Explicitly cast to bool dtype instead.\n",
      "  cross_stats_df = pd.concat([cross_stats_df,cross],axis=0, join='outer')\n",
      "/var/folders/0z/hvx6j8cn6yj3bqbyq6rtsxm40000gn/T/ipykernel_34641/3190897339.py:307: FutureWarning: In a future version, object-dtype columns with all-bool values will not be included in reductions with bool_only=True. Explicitly cast to bool dtype instead.\n",
      "  cross_stats_df = pd.concat([cross_stats_df,cross],axis=0, join='outer')\n",
      "/var/folders/0z/hvx6j8cn6yj3bqbyq6rtsxm40000gn/T/ipykernel_34641/3190897339.py:307: FutureWarning: In a future version, object-dtype columns with all-bool values will not be included in reductions with bool_only=True. Explicitly cast to bool dtype instead.\n",
      "  cross_stats_df = pd.concat([cross_stats_df,cross],axis=0, join='outer')\n",
      "/var/folders/0z/hvx6j8cn6yj3bqbyq6rtsxm40000gn/T/ipykernel_34641/3190897339.py:307: FutureWarning: In a future version, object-dtype columns with all-bool values will not be included in reductions with bool_only=True. Explicitly cast to bool dtype instead.\n",
      "  cross_stats_df = pd.concat([cross_stats_df,cross],axis=0, join='outer')\n",
      "/var/folders/0z/hvx6j8cn6yj3bqbyq6rtsxm40000gn/T/ipykernel_34641/3190897339.py:307: FutureWarning: In a future version, object-dtype columns with all-bool values will not be included in reductions with bool_only=True. Explicitly cast to bool dtype instead.\n",
      "  cross_stats_df = pd.concat([cross_stats_df,cross],axis=0, join='outer')\n",
      "/var/folders/0z/hvx6j8cn6yj3bqbyq6rtsxm40000gn/T/ipykernel_34641/3190897339.py:307: FutureWarning: In a future version, object-dtype columns with all-bool values will not be included in reductions with bool_only=True. Explicitly cast to bool dtype instead.\n",
      "  cross_stats_df = pd.concat([cross_stats_df,cross],axis=0, join='outer')\n",
      "/var/folders/0z/hvx6j8cn6yj3bqbyq6rtsxm40000gn/T/ipykernel_34641/3190897339.py:307: FutureWarning: In a future version, object-dtype columns with all-bool values will not be included in reductions with bool_only=True. Explicitly cast to bool dtype instead.\n",
      "  cross_stats_df = pd.concat([cross_stats_df,cross],axis=0, join='outer')\n",
      "/var/folders/0z/hvx6j8cn6yj3bqbyq6rtsxm40000gn/T/ipykernel_34641/3190897339.py:307: FutureWarning: In a future version, object-dtype columns with all-bool values will not be included in reductions with bool_only=True. Explicitly cast to bool dtype instead.\n",
      "  cross_stats_df = pd.concat([cross_stats_df,cross],axis=0, join='outer')\n",
      "/var/folders/0z/hvx6j8cn6yj3bqbyq6rtsxm40000gn/T/ipykernel_34641/3190897339.py:307: FutureWarning: In a future version, object-dtype columns with all-bool values will not be included in reductions with bool_only=True. Explicitly cast to bool dtype instead.\n",
      "  cross_stats_df = pd.concat([cross_stats_df,cross],axis=0, join='outer')\n",
      "/var/folders/0z/hvx6j8cn6yj3bqbyq6rtsxm40000gn/T/ipykernel_34641/3190897339.py:307: FutureWarning: In a future version, object-dtype columns with all-bool values will not be included in reductions with bool_only=True. Explicitly cast to bool dtype instead.\n",
      "  cross_stats_df = pd.concat([cross_stats_df,cross],axis=0, join='outer')\n"
     ]
    },
    {
     "name": "stdout",
     "output_type": "stream",
     "text": [
      "lyso\n"
     ]
    },
    {
     "name": "stderr",
     "output_type": "stream",
     "text": [
      "/var/folders/0z/hvx6j8cn6yj3bqbyq6rtsxm40000gn/T/ipykernel_34641/3190897339.py:307: FutureWarning: In a future version, object-dtype columns with all-bool values will not be included in reductions with bool_only=True. Explicitly cast to bool dtype instead.\n",
      "  cross_stats_df = pd.concat([cross_stats_df,cross],axis=0, join='outer')\n",
      "/var/folders/0z/hvx6j8cn6yj3bqbyq6rtsxm40000gn/T/ipykernel_34641/3190897339.py:307: FutureWarning: In a future version, object-dtype columns with all-bool values will not be included in reductions with bool_only=True. Explicitly cast to bool dtype instead.\n",
      "  cross_stats_df = pd.concat([cross_stats_df,cross],axis=0, join='outer')\n",
      "/var/folders/0z/hvx6j8cn6yj3bqbyq6rtsxm40000gn/T/ipykernel_34641/3190897339.py:307: FutureWarning: In a future version, object-dtype columns with all-bool values will not be included in reductions with bool_only=True. Explicitly cast to bool dtype instead.\n",
      "  cross_stats_df = pd.concat([cross_stats_df,cross],axis=0, join='outer')\n",
      "/var/folders/0z/hvx6j8cn6yj3bqbyq6rtsxm40000gn/T/ipykernel_34641/3190897339.py:307: FutureWarning: In a future version, object-dtype columns with all-bool values will not be included in reductions with bool_only=True. Explicitly cast to bool dtype instead.\n",
      "  cross_stats_df = pd.concat([cross_stats_df,cross],axis=0, join='outer')\n",
      "/var/folders/0z/hvx6j8cn6yj3bqbyq6rtsxm40000gn/T/ipykernel_34641/3190897339.py:307: FutureWarning: In a future version, object-dtype columns with all-bool values will not be included in reductions with bool_only=True. Explicitly cast to bool dtype instead.\n",
      "  cross_stats_df = pd.concat([cross_stats_df,cross],axis=0, join='outer')\n",
      "/var/folders/0z/hvx6j8cn6yj3bqbyq6rtsxm40000gn/T/ipykernel_34641/3190897339.py:307: FutureWarning: In a future version, object-dtype columns with all-bool values will not be included in reductions with bool_only=True. Explicitly cast to bool dtype instead.\n",
      "  cross_stats_df = pd.concat([cross_stats_df,cross],axis=0, join='outer')\n",
      "/var/folders/0z/hvx6j8cn6yj3bqbyq6rtsxm40000gn/T/ipykernel_34641/3190897339.py:307: FutureWarning: In a future version, object-dtype columns with all-bool values will not be included in reductions with bool_only=True. Explicitly cast to bool dtype instead.\n",
      "  cross_stats_df = pd.concat([cross_stats_df,cross],axis=0, join='outer')\n",
      "/var/folders/0z/hvx6j8cn6yj3bqbyq6rtsxm40000gn/T/ipykernel_34641/3190897339.py:307: FutureWarning: In a future version, object-dtype columns with all-bool values will not be included in reductions with bool_only=True. Explicitly cast to bool dtype instead.\n",
      "  cross_stats_df = pd.concat([cross_stats_df,cross],axis=0, join='outer')\n",
      "/var/folders/0z/hvx6j8cn6yj3bqbyq6rtsxm40000gn/T/ipykernel_34641/3190897339.py:307: FutureWarning: In a future version, object-dtype columns with all-bool values will not be included in reductions with bool_only=True. Explicitly cast to bool dtype instead.\n",
      "  cross_stats_df = pd.concat([cross_stats_df,cross],axis=0, join='outer')\n",
      "/var/folders/0z/hvx6j8cn6yj3bqbyq6rtsxm40000gn/T/ipykernel_34641/3190897339.py:307: FutureWarning: In a future version, object-dtype columns with all-bool values will not be included in reductions with bool_only=True. Explicitly cast to bool dtype instead.\n",
      "  cross_stats_df = pd.concat([cross_stats_df,cross],axis=0, join='outer')\n",
      "/var/folders/0z/hvx6j8cn6yj3bqbyq6rtsxm40000gn/T/ipykernel_34641/3190897339.py:307: FutureWarning: In a future version, object-dtype columns with all-bool values will not be included in reductions with bool_only=True. Explicitly cast to bool dtype instead.\n",
      "  cross_stats_df = pd.concat([cross_stats_df,cross],axis=0, join='outer')\n",
      "/var/folders/0z/hvx6j8cn6yj3bqbyq6rtsxm40000gn/T/ipykernel_34641/3190897339.py:307: FutureWarning: In a future version, object-dtype columns with all-bool values will not be included in reductions with bool_only=True. Explicitly cast to bool dtype instead.\n",
      "  cross_stats_df = pd.concat([cross_stats_df,cross],axis=0, join='outer')\n",
      "/var/folders/0z/hvx6j8cn6yj3bqbyq6rtsxm40000gn/T/ipykernel_34641/3190897339.py:307: FutureWarning: In a future version, object-dtype columns with all-bool values will not be included in reductions with bool_only=True. Explicitly cast to bool dtype instead.\n",
      "  cross_stats_df = pd.concat([cross_stats_df,cross],axis=0, join='outer')\n",
      "/var/folders/0z/hvx6j8cn6yj3bqbyq6rtsxm40000gn/T/ipykernel_34641/3190897339.py:307: FutureWarning: In a future version, object-dtype columns with all-bool values will not be included in reductions with bool_only=True. Explicitly cast to bool dtype instead.\n",
      "  cross_stats_df = pd.concat([cross_stats_df,cross],axis=0, join='outer')\n",
      "/var/folders/0z/hvx6j8cn6yj3bqbyq6rtsxm40000gn/T/ipykernel_34641/3190897339.py:307: FutureWarning: In a future version, object-dtype columns with all-bool values will not be included in reductions with bool_only=True. Explicitly cast to bool dtype instead.\n",
      "  cross_stats_df = pd.concat([cross_stats_df,cross],axis=0, join='outer')\n",
      "/var/folders/0z/hvx6j8cn6yj3bqbyq6rtsxm40000gn/T/ipykernel_34641/3190897339.py:307: FutureWarning: In a future version, object-dtype columns with all-bool values will not be included in reductions with bool_only=True. Explicitly cast to bool dtype instead.\n",
      "  cross_stats_df = pd.concat([cross_stats_df,cross],axis=0, join='outer')\n",
      "/var/folders/0z/hvx6j8cn6yj3bqbyq6rtsxm40000gn/T/ipykernel_34641/3190897339.py:307: FutureWarning: In a future version, object-dtype columns with all-bool values will not be included in reductions with bool_only=True. Explicitly cast to bool dtype instead.\n",
      "  cross_stats_df = pd.concat([cross_stats_df,cross],axis=0, join='outer')\n",
      "/var/folders/0z/hvx6j8cn6yj3bqbyq6rtsxm40000gn/T/ipykernel_34641/3190897339.py:307: FutureWarning: In a future version, object-dtype columns with all-bool values will not be included in reductions with bool_only=True. Explicitly cast to bool dtype instead.\n",
      "  cross_stats_df = pd.concat([cross_stats_df,cross],axis=0, join='outer')\n",
      "/var/folders/0z/hvx6j8cn6yj3bqbyq6rtsxm40000gn/T/ipykernel_34641/3190897339.py:307: FutureWarning: In a future version, object-dtype columns with all-bool values will not be included in reductions with bool_only=True. Explicitly cast to bool dtype instead.\n",
      "  cross_stats_df = pd.concat([cross_stats_df,cross],axis=0, join='outer')\n",
      "/var/folders/0z/hvx6j8cn6yj3bqbyq6rtsxm40000gn/T/ipykernel_34641/3190897339.py:307: FutureWarning: In a future version, object-dtype columns with all-bool values will not be included in reductions with bool_only=True. Explicitly cast to bool dtype instead.\n",
      "  cross_stats_df = pd.concat([cross_stats_df,cross],axis=0, join='outer')\n",
      "/var/folders/0z/hvx6j8cn6yj3bqbyq6rtsxm40000gn/T/ipykernel_34641/3190897339.py:307: FutureWarning: In a future version, object-dtype columns with all-bool values will not be included in reductions with bool_only=True. Explicitly cast to bool dtype instead.\n",
      "  cross_stats_df = pd.concat([cross_stats_df,cross],axis=0, join='outer')\n"
     ]
    },
    {
     "name": "stdout",
     "output_type": "stream",
     "text": [
      "mito\n"
     ]
    },
    {
     "name": "stderr",
     "output_type": "stream",
     "text": [
      "/var/folders/0z/hvx6j8cn6yj3bqbyq6rtsxm40000gn/T/ipykernel_34641/3190897339.py:307: FutureWarning: In a future version, object-dtype columns with all-bool values will not be included in reductions with bool_only=True. Explicitly cast to bool dtype instead.\n",
      "  cross_stats_df = pd.concat([cross_stats_df,cross],axis=0, join='outer')\n",
      "/var/folders/0z/hvx6j8cn6yj3bqbyq6rtsxm40000gn/T/ipykernel_34641/3190897339.py:307: FutureWarning: In a future version, object-dtype columns with all-bool values will not be included in reductions with bool_only=True. Explicitly cast to bool dtype instead.\n",
      "  cross_stats_df = pd.concat([cross_stats_df,cross],axis=0, join='outer')\n",
      "/var/folders/0z/hvx6j8cn6yj3bqbyq6rtsxm40000gn/T/ipykernel_34641/3190897339.py:307: FutureWarning: In a future version, object-dtype columns with all-bool values will not be included in reductions with bool_only=True. Explicitly cast to bool dtype instead.\n",
      "  cross_stats_df = pd.concat([cross_stats_df,cross],axis=0, join='outer')\n",
      "/var/folders/0z/hvx6j8cn6yj3bqbyq6rtsxm40000gn/T/ipykernel_34641/3190897339.py:307: FutureWarning: In a future version, object-dtype columns with all-bool values will not be included in reductions with bool_only=True. Explicitly cast to bool dtype instead.\n",
      "  cross_stats_df = pd.concat([cross_stats_df,cross],axis=0, join='outer')\n",
      "/var/folders/0z/hvx6j8cn6yj3bqbyq6rtsxm40000gn/T/ipykernel_34641/3190897339.py:307: FutureWarning: In a future version, object-dtype columns with all-bool values will not be included in reductions with bool_only=True. Explicitly cast to bool dtype instead.\n",
      "  cross_stats_df = pd.concat([cross_stats_df,cross],axis=0, join='outer')\n",
      "/var/folders/0z/hvx6j8cn6yj3bqbyq6rtsxm40000gn/T/ipykernel_34641/3190897339.py:307: FutureWarning: In a future version, object-dtype columns with all-bool values will not be included in reductions with bool_only=True. Explicitly cast to bool dtype instead.\n",
      "  cross_stats_df = pd.concat([cross_stats_df,cross],axis=0, join='outer')\n",
      "/var/folders/0z/hvx6j8cn6yj3bqbyq6rtsxm40000gn/T/ipykernel_34641/3190897339.py:307: FutureWarning: In a future version, object-dtype columns with all-bool values will not be included in reductions with bool_only=True. Explicitly cast to bool dtype instead.\n",
      "  cross_stats_df = pd.concat([cross_stats_df,cross],axis=0, join='outer')\n",
      "/var/folders/0z/hvx6j8cn6yj3bqbyq6rtsxm40000gn/T/ipykernel_34641/3190897339.py:307: FutureWarning: In a future version, object-dtype columns with all-bool values will not be included in reductions with bool_only=True. Explicitly cast to bool dtype instead.\n",
      "  cross_stats_df = pd.concat([cross_stats_df,cross],axis=0, join='outer')\n",
      "/var/folders/0z/hvx6j8cn6yj3bqbyq6rtsxm40000gn/T/ipykernel_34641/3190897339.py:307: FutureWarning: In a future version, object-dtype columns with all-bool values will not be included in reductions with bool_only=True. Explicitly cast to bool dtype instead.\n",
      "  cross_stats_df = pd.concat([cross_stats_df,cross],axis=0, join='outer')\n",
      "/var/folders/0z/hvx6j8cn6yj3bqbyq6rtsxm40000gn/T/ipykernel_34641/3190897339.py:307: FutureWarning: In a future version, object-dtype columns with all-bool values will not be included in reductions with bool_only=True. Explicitly cast to bool dtype instead.\n",
      "  cross_stats_df = pd.concat([cross_stats_df,cross],axis=0, join='outer')\n",
      "/var/folders/0z/hvx6j8cn6yj3bqbyq6rtsxm40000gn/T/ipykernel_34641/3190897339.py:307: FutureWarning: In a future version, object-dtype columns with all-bool values will not be included in reductions with bool_only=True. Explicitly cast to bool dtype instead.\n",
      "  cross_stats_df = pd.concat([cross_stats_df,cross],axis=0, join='outer')\n",
      "/var/folders/0z/hvx6j8cn6yj3bqbyq6rtsxm40000gn/T/ipykernel_34641/3190897339.py:307: FutureWarning: In a future version, object-dtype columns with all-bool values will not be included in reductions with bool_only=True. Explicitly cast to bool dtype instead.\n",
      "  cross_stats_df = pd.concat([cross_stats_df,cross],axis=0, join='outer')\n",
      "/var/folders/0z/hvx6j8cn6yj3bqbyq6rtsxm40000gn/T/ipykernel_34641/3190897339.py:307: FutureWarning: In a future version, object-dtype columns with all-bool values will not be included in reductions with bool_only=True. Explicitly cast to bool dtype instead.\n",
      "  cross_stats_df = pd.concat([cross_stats_df,cross],axis=0, join='outer')\n",
      "/var/folders/0z/hvx6j8cn6yj3bqbyq6rtsxm40000gn/T/ipykernel_34641/3190897339.py:307: FutureWarning: In a future version, object-dtype columns with all-bool values will not be included in reductions with bool_only=True. Explicitly cast to bool dtype instead.\n",
      "  cross_stats_df = pd.concat([cross_stats_df,cross],axis=0, join='outer')\n",
      "/var/folders/0z/hvx6j8cn6yj3bqbyq6rtsxm40000gn/T/ipykernel_34641/3190897339.py:307: FutureWarning: In a future version, object-dtype columns with all-bool values will not be included in reductions with bool_only=True. Explicitly cast to bool dtype instead.\n",
      "  cross_stats_df = pd.concat([cross_stats_df,cross],axis=0, join='outer')\n",
      "/var/folders/0z/hvx6j8cn6yj3bqbyq6rtsxm40000gn/T/ipykernel_34641/3190897339.py:307: FutureWarning: In a future version, object-dtype columns with all-bool values will not be included in reductions with bool_only=True. Explicitly cast to bool dtype instead.\n",
      "  cross_stats_df = pd.concat([cross_stats_df,cross],axis=0, join='outer')\n",
      "/var/folders/0z/hvx6j8cn6yj3bqbyq6rtsxm40000gn/T/ipykernel_34641/3190897339.py:307: FutureWarning: In a future version, object-dtype columns with all-bool values will not be included in reductions with bool_only=True. Explicitly cast to bool dtype instead.\n",
      "  cross_stats_df = pd.concat([cross_stats_df,cross],axis=0, join='outer')\n",
      "/var/folders/0z/hvx6j8cn6yj3bqbyq6rtsxm40000gn/T/ipykernel_34641/3190897339.py:307: FutureWarning: In a future version, object-dtype columns with all-bool values will not be included in reductions with bool_only=True. Explicitly cast to bool dtype instead.\n",
      "  cross_stats_df = pd.concat([cross_stats_df,cross],axis=0, join='outer')\n",
      "/var/folders/0z/hvx6j8cn6yj3bqbyq6rtsxm40000gn/T/ipykernel_34641/3190897339.py:307: FutureWarning: In a future version, object-dtype columns with all-bool values will not be included in reductions with bool_only=True. Explicitly cast to bool dtype instead.\n",
      "  cross_stats_df = pd.concat([cross_stats_df,cross],axis=0, join='outer')\n",
      "/var/folders/0z/hvx6j8cn6yj3bqbyq6rtsxm40000gn/T/ipykernel_34641/3190897339.py:307: FutureWarning: In a future version, object-dtype columns with all-bool values will not be included in reductions with bool_only=True. Explicitly cast to bool dtype instead.\n",
      "  cross_stats_df = pd.concat([cross_stats_df,cross],axis=0, join='outer')\n",
      "/var/folders/0z/hvx6j8cn6yj3bqbyq6rtsxm40000gn/T/ipykernel_34641/3190897339.py:307: FutureWarning: In a future version, object-dtype columns with all-bool values will not be included in reductions with bool_only=True. Explicitly cast to bool dtype instead.\n",
      "  cross_stats_df = pd.concat([cross_stats_df,cross],axis=0, join='outer')\n"
     ]
    },
    {
     "name": "stdout",
     "output_type": "stream",
     "text": [
      "golgi\n"
     ]
    },
    {
     "name": "stderr",
     "output_type": "stream",
     "text": [
      "/var/folders/0z/hvx6j8cn6yj3bqbyq6rtsxm40000gn/T/ipykernel_34641/3190897339.py:307: FutureWarning: In a future version, object-dtype columns with all-bool values will not be included in reductions with bool_only=True. Explicitly cast to bool dtype instead.\n",
      "  cross_stats_df = pd.concat([cross_stats_df,cross],axis=0, join='outer')\n",
      "/var/folders/0z/hvx6j8cn6yj3bqbyq6rtsxm40000gn/T/ipykernel_34641/3190897339.py:307: FutureWarning: In a future version, object-dtype columns with all-bool values will not be included in reductions with bool_only=True. Explicitly cast to bool dtype instead.\n",
      "  cross_stats_df = pd.concat([cross_stats_df,cross],axis=0, join='outer')\n",
      "/var/folders/0z/hvx6j8cn6yj3bqbyq6rtsxm40000gn/T/ipykernel_34641/3190897339.py:307: FutureWarning: In a future version, object-dtype columns with all-bool values will not be included in reductions with bool_only=True. Explicitly cast to bool dtype instead.\n",
      "  cross_stats_df = pd.concat([cross_stats_df,cross],axis=0, join='outer')\n",
      "/var/folders/0z/hvx6j8cn6yj3bqbyq6rtsxm40000gn/T/ipykernel_34641/3190897339.py:307: FutureWarning: In a future version, object-dtype columns with all-bool values will not be included in reductions with bool_only=True. Explicitly cast to bool dtype instead.\n",
      "  cross_stats_df = pd.concat([cross_stats_df,cross],axis=0, join='outer')\n",
      "/var/folders/0z/hvx6j8cn6yj3bqbyq6rtsxm40000gn/T/ipykernel_34641/3190897339.py:307: FutureWarning: In a future version, object-dtype columns with all-bool values will not be included in reductions with bool_only=True. Explicitly cast to bool dtype instead.\n",
      "  cross_stats_df = pd.concat([cross_stats_df,cross],axis=0, join='outer')\n",
      "/var/folders/0z/hvx6j8cn6yj3bqbyq6rtsxm40000gn/T/ipykernel_34641/3190897339.py:307: FutureWarning: In a future version, object-dtype columns with all-bool values will not be included in reductions with bool_only=True. Explicitly cast to bool dtype instead.\n",
      "  cross_stats_df = pd.concat([cross_stats_df,cross],axis=0, join='outer')\n",
      "/var/folders/0z/hvx6j8cn6yj3bqbyq6rtsxm40000gn/T/ipykernel_34641/3190897339.py:307: FutureWarning: In a future version, object-dtype columns with all-bool values will not be included in reductions with bool_only=True. Explicitly cast to bool dtype instead.\n",
      "  cross_stats_df = pd.concat([cross_stats_df,cross],axis=0, join='outer')\n",
      "/var/folders/0z/hvx6j8cn6yj3bqbyq6rtsxm40000gn/T/ipykernel_34641/3190897339.py:307: FutureWarning: In a future version, object-dtype columns with all-bool values will not be included in reductions with bool_only=True. Explicitly cast to bool dtype instead.\n",
      "  cross_stats_df = pd.concat([cross_stats_df,cross],axis=0, join='outer')\n",
      "/var/folders/0z/hvx6j8cn6yj3bqbyq6rtsxm40000gn/T/ipykernel_34641/3190897339.py:307: FutureWarning: In a future version, object-dtype columns with all-bool values will not be included in reductions with bool_only=True. Explicitly cast to bool dtype instead.\n",
      "  cross_stats_df = pd.concat([cross_stats_df,cross],axis=0, join='outer')\n",
      "/var/folders/0z/hvx6j8cn6yj3bqbyq6rtsxm40000gn/T/ipykernel_34641/3190897339.py:307: FutureWarning: In a future version, object-dtype columns with all-bool values will not be included in reductions with bool_only=True. Explicitly cast to bool dtype instead.\n",
      "  cross_stats_df = pd.concat([cross_stats_df,cross],axis=0, join='outer')\n",
      "/var/folders/0z/hvx6j8cn6yj3bqbyq6rtsxm40000gn/T/ipykernel_34641/3190897339.py:307: FutureWarning: In a future version, object-dtype columns with all-bool values will not be included in reductions with bool_only=True. Explicitly cast to bool dtype instead.\n",
      "  cross_stats_df = pd.concat([cross_stats_df,cross],axis=0, join='outer')\n",
      "/var/folders/0z/hvx6j8cn6yj3bqbyq6rtsxm40000gn/T/ipykernel_34641/3190897339.py:307: FutureWarning: In a future version, object-dtype columns with all-bool values will not be included in reductions with bool_only=True. Explicitly cast to bool dtype instead.\n",
      "  cross_stats_df = pd.concat([cross_stats_df,cross],axis=0, join='outer')\n",
      "/var/folders/0z/hvx6j8cn6yj3bqbyq6rtsxm40000gn/T/ipykernel_34641/3190897339.py:307: FutureWarning: In a future version, object-dtype columns with all-bool values will not be included in reductions with bool_only=True. Explicitly cast to bool dtype instead.\n",
      "  cross_stats_df = pd.concat([cross_stats_df,cross],axis=0, join='outer')\n",
      "/var/folders/0z/hvx6j8cn6yj3bqbyq6rtsxm40000gn/T/ipykernel_34641/3190897339.py:307: FutureWarning: In a future version, object-dtype columns with all-bool values will not be included in reductions with bool_only=True. Explicitly cast to bool dtype instead.\n",
      "  cross_stats_df = pd.concat([cross_stats_df,cross],axis=0, join='outer')\n",
      "/var/folders/0z/hvx6j8cn6yj3bqbyq6rtsxm40000gn/T/ipykernel_34641/3190897339.py:307: FutureWarning: In a future version, object-dtype columns with all-bool values will not be included in reductions with bool_only=True. Explicitly cast to bool dtype instead.\n",
      "  cross_stats_df = pd.concat([cross_stats_df,cross],axis=0, join='outer')\n",
      "/var/folders/0z/hvx6j8cn6yj3bqbyq6rtsxm40000gn/T/ipykernel_34641/3190897339.py:307: FutureWarning: In a future version, object-dtype columns with all-bool values will not be included in reductions with bool_only=True. Explicitly cast to bool dtype instead.\n",
      "  cross_stats_df = pd.concat([cross_stats_df,cross],axis=0, join='outer')\n",
      "/var/folders/0z/hvx6j8cn6yj3bqbyq6rtsxm40000gn/T/ipykernel_34641/3190897339.py:307: FutureWarning: In a future version, object-dtype columns with all-bool values will not be included in reductions with bool_only=True. Explicitly cast to bool dtype instead.\n",
      "  cross_stats_df = pd.concat([cross_stats_df,cross],axis=0, join='outer')\n",
      "/var/folders/0z/hvx6j8cn6yj3bqbyq6rtsxm40000gn/T/ipykernel_34641/3190897339.py:307: FutureWarning: In a future version, object-dtype columns with all-bool values will not be included in reductions with bool_only=True. Explicitly cast to bool dtype instead.\n",
      "  cross_stats_df = pd.concat([cross_stats_df,cross],axis=0, join='outer')\n",
      "/var/folders/0z/hvx6j8cn6yj3bqbyq6rtsxm40000gn/T/ipykernel_34641/3190897339.py:307: FutureWarning: In a future version, object-dtype columns with all-bool values will not be included in reductions with bool_only=True. Explicitly cast to bool dtype instead.\n",
      "  cross_stats_df = pd.concat([cross_stats_df,cross],axis=0, join='outer')\n",
      "/var/folders/0z/hvx6j8cn6yj3bqbyq6rtsxm40000gn/T/ipykernel_34641/3190897339.py:307: FutureWarning: In a future version, object-dtype columns with all-bool values will not be included in reductions with bool_only=True. Explicitly cast to bool dtype instead.\n",
      "  cross_stats_df = pd.concat([cross_stats_df,cross],axis=0, join='outer')\n",
      "/var/folders/0z/hvx6j8cn6yj3bqbyq6rtsxm40000gn/T/ipykernel_34641/3190897339.py:307: FutureWarning: In a future version, object-dtype columns with all-bool values will not be included in reductions with bool_only=True. Explicitly cast to bool dtype instead.\n",
      "  cross_stats_df = pd.concat([cross_stats_df,cross],axis=0, join='outer')\n"
     ]
    },
    {
     "name": "stdout",
     "output_type": "stream",
     "text": [
      "perox\n"
     ]
    },
    {
     "name": "stderr",
     "output_type": "stream",
     "text": [
      "/var/folders/0z/hvx6j8cn6yj3bqbyq6rtsxm40000gn/T/ipykernel_34641/3190897339.py:307: FutureWarning: In a future version, object-dtype columns with all-bool values will not be included in reductions with bool_only=True. Explicitly cast to bool dtype instead.\n",
      "  cross_stats_df = pd.concat([cross_stats_df,cross],axis=0, join='outer')\n",
      "/var/folders/0z/hvx6j8cn6yj3bqbyq6rtsxm40000gn/T/ipykernel_34641/3190897339.py:307: FutureWarning: In a future version, object-dtype columns with all-bool values will not be included in reductions with bool_only=True. Explicitly cast to bool dtype instead.\n",
      "  cross_stats_df = pd.concat([cross_stats_df,cross],axis=0, join='outer')\n",
      "/var/folders/0z/hvx6j8cn6yj3bqbyq6rtsxm40000gn/T/ipykernel_34641/3190897339.py:307: FutureWarning: In a future version, object-dtype columns with all-bool values will not be included in reductions with bool_only=True. Explicitly cast to bool dtype instead.\n",
      "  cross_stats_df = pd.concat([cross_stats_df,cross],axis=0, join='outer')\n",
      "/var/folders/0z/hvx6j8cn6yj3bqbyq6rtsxm40000gn/T/ipykernel_34641/3190897339.py:307: FutureWarning: In a future version, object-dtype columns with all-bool values will not be included in reductions with bool_only=True. Explicitly cast to bool dtype instead.\n",
      "  cross_stats_df = pd.concat([cross_stats_df,cross],axis=0, join='outer')\n",
      "/var/folders/0z/hvx6j8cn6yj3bqbyq6rtsxm40000gn/T/ipykernel_34641/3190897339.py:307: FutureWarning: In a future version, object-dtype columns with all-bool values will not be included in reductions with bool_only=True. Explicitly cast to bool dtype instead.\n",
      "  cross_stats_df = pd.concat([cross_stats_df,cross],axis=0, join='outer')\n",
      "/var/folders/0z/hvx6j8cn6yj3bqbyq6rtsxm40000gn/T/ipykernel_34641/3190897339.py:307: FutureWarning: In a future version, object-dtype columns with all-bool values will not be included in reductions with bool_only=True. Explicitly cast to bool dtype instead.\n",
      "  cross_stats_df = pd.concat([cross_stats_df,cross],axis=0, join='outer')\n",
      "/var/folders/0z/hvx6j8cn6yj3bqbyq6rtsxm40000gn/T/ipykernel_34641/3190897339.py:307: FutureWarning: In a future version, object-dtype columns with all-bool values will not be included in reductions with bool_only=True. Explicitly cast to bool dtype instead.\n",
      "  cross_stats_df = pd.concat([cross_stats_df,cross],axis=0, join='outer')\n",
      "/var/folders/0z/hvx6j8cn6yj3bqbyq6rtsxm40000gn/T/ipykernel_34641/3190897339.py:307: FutureWarning: In a future version, object-dtype columns with all-bool values will not be included in reductions with bool_only=True. Explicitly cast to bool dtype instead.\n",
      "  cross_stats_df = pd.concat([cross_stats_df,cross],axis=0, join='outer')\n",
      "/var/folders/0z/hvx6j8cn6yj3bqbyq6rtsxm40000gn/T/ipykernel_34641/3190897339.py:307: FutureWarning: In a future version, object-dtype columns with all-bool values will not be included in reductions with bool_only=True. Explicitly cast to bool dtype instead.\n",
      "  cross_stats_df = pd.concat([cross_stats_df,cross],axis=0, join='outer')\n",
      "/var/folders/0z/hvx6j8cn6yj3bqbyq6rtsxm40000gn/T/ipykernel_34641/3190897339.py:307: FutureWarning: In a future version, object-dtype columns with all-bool values will not be included in reductions with bool_only=True. Explicitly cast to bool dtype instead.\n",
      "  cross_stats_df = pd.concat([cross_stats_df,cross],axis=0, join='outer')\n",
      "/var/folders/0z/hvx6j8cn6yj3bqbyq6rtsxm40000gn/T/ipykernel_34641/3190897339.py:307: FutureWarning: In a future version, object-dtype columns with all-bool values will not be included in reductions with bool_only=True. Explicitly cast to bool dtype instead.\n",
      "  cross_stats_df = pd.concat([cross_stats_df,cross],axis=0, join='outer')\n",
      "/var/folders/0z/hvx6j8cn6yj3bqbyq6rtsxm40000gn/T/ipykernel_34641/3190897339.py:307: FutureWarning: In a future version, object-dtype columns with all-bool values will not be included in reductions with bool_only=True. Explicitly cast to bool dtype instead.\n",
      "  cross_stats_df = pd.concat([cross_stats_df,cross],axis=0, join='outer')\n",
      "/var/folders/0z/hvx6j8cn6yj3bqbyq6rtsxm40000gn/T/ipykernel_34641/3190897339.py:307: FutureWarning: In a future version, object-dtype columns with all-bool values will not be included in reductions with bool_only=True. Explicitly cast to bool dtype instead.\n",
      "  cross_stats_df = pd.concat([cross_stats_df,cross],axis=0, join='outer')\n",
      "/var/folders/0z/hvx6j8cn6yj3bqbyq6rtsxm40000gn/T/ipykernel_34641/3190897339.py:307: FutureWarning: In a future version, object-dtype columns with all-bool values will not be included in reductions with bool_only=True. Explicitly cast to bool dtype instead.\n",
      "  cross_stats_df = pd.concat([cross_stats_df,cross],axis=0, join='outer')\n",
      "/var/folders/0z/hvx6j8cn6yj3bqbyq6rtsxm40000gn/T/ipykernel_34641/3190897339.py:307: FutureWarning: In a future version, object-dtype columns with all-bool values will not be included in reductions with bool_only=True. Explicitly cast to bool dtype instead.\n",
      "  cross_stats_df = pd.concat([cross_stats_df,cross],axis=0, join='outer')\n",
      "/var/folders/0z/hvx6j8cn6yj3bqbyq6rtsxm40000gn/T/ipykernel_34641/3190897339.py:307: FutureWarning: In a future version, object-dtype columns with all-bool values will not be included in reductions with bool_only=True. Explicitly cast to bool dtype instead.\n",
      "  cross_stats_df = pd.concat([cross_stats_df,cross],axis=0, join='outer')\n",
      "/var/folders/0z/hvx6j8cn6yj3bqbyq6rtsxm40000gn/T/ipykernel_34641/3190897339.py:307: FutureWarning: In a future version, object-dtype columns with all-bool values will not be included in reductions with bool_only=True. Explicitly cast to bool dtype instead.\n",
      "  cross_stats_df = pd.concat([cross_stats_df,cross],axis=0, join='outer')\n",
      "/var/folders/0z/hvx6j8cn6yj3bqbyq6rtsxm40000gn/T/ipykernel_34641/3190897339.py:307: FutureWarning: In a future version, object-dtype columns with all-bool values will not be included in reductions with bool_only=True. Explicitly cast to bool dtype instead.\n",
      "  cross_stats_df = pd.concat([cross_stats_df,cross],axis=0, join='outer')\n",
      "/var/folders/0z/hvx6j8cn6yj3bqbyq6rtsxm40000gn/T/ipykernel_34641/3190897339.py:307: FutureWarning: In a future version, object-dtype columns with all-bool values will not be included in reductions with bool_only=True. Explicitly cast to bool dtype instead.\n",
      "  cross_stats_df = pd.concat([cross_stats_df,cross],axis=0, join='outer')\n",
      "/var/folders/0z/hvx6j8cn6yj3bqbyq6rtsxm40000gn/T/ipykernel_34641/3190897339.py:307: FutureWarning: In a future version, object-dtype columns with all-bool values will not be included in reductions with bool_only=True. Explicitly cast to bool dtype instead.\n",
      "  cross_stats_df = pd.concat([cross_stats_df,cross],axis=0, join='outer')\n",
      "/var/folders/0z/hvx6j8cn6yj3bqbyq6rtsxm40000gn/T/ipykernel_34641/3190897339.py:307: FutureWarning: In a future version, object-dtype columns with all-bool values will not be included in reductions with bool_only=True. Explicitly cast to bool dtype instead.\n",
      "  cross_stats_df = pd.concat([cross_stats_df,cross],axis=0, join='outer')\n",
      "/var/folders/0z/hvx6j8cn6yj3bqbyq6rtsxm40000gn/T/ipykernel_34641/3190897339.py:307: FutureWarning: In a future version, object-dtype columns with all-bool values will not be included in reductions with bool_only=True. Explicitly cast to bool dtype instead.\n",
      "  cross_stats_df = pd.concat([cross_stats_df,cross],axis=0, join='outer')\n",
      "/var/folders/0z/hvx6j8cn6yj3bqbyq6rtsxm40000gn/T/ipykernel_34641/3190897339.py:307: FutureWarning: In a future version, object-dtype columns with all-bool values will not be included in reductions with bool_only=True. Explicitly cast to bool dtype instead.\n",
      "  cross_stats_df = pd.concat([cross_stats_df,cross],axis=0, join='outer')\n",
      "/var/folders/0z/hvx6j8cn6yj3bqbyq6rtsxm40000gn/T/ipykernel_34641/3190897339.py:307: FutureWarning: In a future version, object-dtype columns with all-bool values will not be included in reductions with bool_only=True. Explicitly cast to bool dtype instead.\n",
      "  cross_stats_df = pd.concat([cross_stats_df,cross],axis=0, join='outer')\n",
      "/var/folders/0z/hvx6j8cn6yj3bqbyq6rtsxm40000gn/T/ipykernel_34641/3190897339.py:307: FutureWarning: In a future version, object-dtype columns with all-bool values will not be included in reductions with bool_only=True. Explicitly cast to bool dtype instead.\n",
      "  cross_stats_df = pd.concat([cross_stats_df,cross],axis=0, join='outer')\n",
      "/var/folders/0z/hvx6j8cn6yj3bqbyq6rtsxm40000gn/T/ipykernel_34641/3190897339.py:307: FutureWarning: In a future version, object-dtype columns with all-bool values will not be included in reductions with bool_only=True. Explicitly cast to bool dtype instead.\n",
      "  cross_stats_df = pd.concat([cross_stats_df,cross],axis=0, join='outer')\n",
      "/var/folders/0z/hvx6j8cn6yj3bqbyq6rtsxm40000gn/T/ipykernel_34641/3190897339.py:307: FutureWarning: In a future version, object-dtype columns with all-bool values will not be included in reductions with bool_only=True. Explicitly cast to bool dtype instead.\n",
      "  cross_stats_df = pd.concat([cross_stats_df,cross],axis=0, join='outer')\n",
      "/var/folders/0z/hvx6j8cn6yj3bqbyq6rtsxm40000gn/T/ipykernel_34641/3190897339.py:307: FutureWarning: In a future version, object-dtype columns with all-bool values will not be included in reductions with bool_only=True. Explicitly cast to bool dtype instead.\n",
      "  cross_stats_df = pd.concat([cross_stats_df,cross],axis=0, join='outer')\n",
      "/var/folders/0z/hvx6j8cn6yj3bqbyq6rtsxm40000gn/T/ipykernel_34641/3190897339.py:307: FutureWarning: In a future version, object-dtype columns with all-bool values will not be included in reductions with bool_only=True. Explicitly cast to bool dtype instead.\n",
      "  cross_stats_df = pd.concat([cross_stats_df,cross],axis=0, join='outer')\n",
      "/var/folders/0z/hvx6j8cn6yj3bqbyq6rtsxm40000gn/T/ipykernel_34641/3190897339.py:307: FutureWarning: In a future version, object-dtype columns with all-bool values will not be included in reductions with bool_only=True. Explicitly cast to bool dtype instead.\n",
      "  cross_stats_df = pd.concat([cross_stats_df,cross],axis=0, join='outer')\n",
      "/var/folders/0z/hvx6j8cn6yj3bqbyq6rtsxm40000gn/T/ipykernel_34641/3190897339.py:307: FutureWarning: In a future version, object-dtype columns with all-bool values will not be included in reductions with bool_only=True. Explicitly cast to bool dtype instead.\n",
      "  cross_stats_df = pd.concat([cross_stats_df,cross],axis=0, join='outer')\n",
      "/var/folders/0z/hvx6j8cn6yj3bqbyq6rtsxm40000gn/T/ipykernel_34641/3190897339.py:307: FutureWarning: In a future version, object-dtype columns with all-bool values will not be included in reductions with bool_only=True. Explicitly cast to bool dtype instead.\n",
      "  cross_stats_df = pd.concat([cross_stats_df,cross],axis=0, join='outer')\n"
     ]
    },
    {
     "name": "stdout",
     "output_type": "stream",
     "text": [
      "ER\n"
     ]
    },
    {
     "name": "stderr",
     "output_type": "stream",
     "text": [
      "/var/folders/0z/hvx6j8cn6yj3bqbyq6rtsxm40000gn/T/ipykernel_34641/3190897339.py:307: FutureWarning: In a future version, object-dtype columns with all-bool values will not be included in reductions with bool_only=True. Explicitly cast to bool dtype instead.\n",
      "  cross_stats_df = pd.concat([cross_stats_df,cross],axis=0, join='outer')\n",
      "/var/folders/0z/hvx6j8cn6yj3bqbyq6rtsxm40000gn/T/ipykernel_34641/3190897339.py:307: FutureWarning: In a future version, object-dtype columns with all-bool values will not be included in reductions with bool_only=True. Explicitly cast to bool dtype instead.\n",
      "  cross_stats_df = pd.concat([cross_stats_df,cross],axis=0, join='outer')\n",
      "/var/folders/0z/hvx6j8cn6yj3bqbyq6rtsxm40000gn/T/ipykernel_34641/3190897339.py:307: FutureWarning: In a future version, object-dtype columns with all-bool values will not be included in reductions with bool_only=True. Explicitly cast to bool dtype instead.\n",
      "  cross_stats_df = pd.concat([cross_stats_df,cross],axis=0, join='outer')\n",
      "/var/folders/0z/hvx6j8cn6yj3bqbyq6rtsxm40000gn/T/ipykernel_34641/3190897339.py:307: FutureWarning: In a future version, object-dtype columns with all-bool values will not be included in reductions with bool_only=True. Explicitly cast to bool dtype instead.\n",
      "  cross_stats_df = pd.concat([cross_stats_df,cross],axis=0, join='outer')\n",
      "/var/folders/0z/hvx6j8cn6yj3bqbyq6rtsxm40000gn/T/ipykernel_34641/3190897339.py:307: FutureWarning: In a future version, object-dtype columns with all-bool values will not be included in reductions with bool_only=True. Explicitly cast to bool dtype instead.\n",
      "  cross_stats_df = pd.concat([cross_stats_df,cross],axis=0, join='outer')\n",
      "/var/folders/0z/hvx6j8cn6yj3bqbyq6rtsxm40000gn/T/ipykernel_34641/3190897339.py:307: FutureWarning: In a future version, object-dtype columns with all-bool values will not be included in reductions with bool_only=True. Explicitly cast to bool dtype instead.\n",
      "  cross_stats_df = pd.concat([cross_stats_df,cross],axis=0, join='outer')\n",
      "/var/folders/0z/hvx6j8cn6yj3bqbyq6rtsxm40000gn/T/ipykernel_34641/3190897339.py:307: FutureWarning: In a future version, object-dtype columns with all-bool values will not be included in reductions with bool_only=True. Explicitly cast to bool dtype instead.\n",
      "  cross_stats_df = pd.concat([cross_stats_df,cross],axis=0, join='outer')\n",
      "/var/folders/0z/hvx6j8cn6yj3bqbyq6rtsxm40000gn/T/ipykernel_34641/3190897339.py:307: FutureWarning: In a future version, object-dtype columns with all-bool values will not be included in reductions with bool_only=True. Explicitly cast to bool dtype instead.\n",
      "  cross_stats_df = pd.concat([cross_stats_df,cross],axis=0, join='outer')\n",
      "/var/folders/0z/hvx6j8cn6yj3bqbyq6rtsxm40000gn/T/ipykernel_34641/3190897339.py:307: FutureWarning: In a future version, object-dtype columns with all-bool values will not be included in reductions with bool_only=True. Explicitly cast to bool dtype instead.\n",
      "  cross_stats_df = pd.concat([cross_stats_df,cross],axis=0, join='outer')\n",
      "/var/folders/0z/hvx6j8cn6yj3bqbyq6rtsxm40000gn/T/ipykernel_34641/3190897339.py:307: FutureWarning: In a future version, object-dtype columns with all-bool values will not be included in reductions with bool_only=True. Explicitly cast to bool dtype instead.\n",
      "  cross_stats_df = pd.concat([cross_stats_df,cross],axis=0, join='outer')\n",
      "/var/folders/0z/hvx6j8cn6yj3bqbyq6rtsxm40000gn/T/ipykernel_34641/3190897339.py:307: FutureWarning: In a future version, object-dtype columns with all-bool values will not be included in reductions with bool_only=True. Explicitly cast to bool dtype instead.\n",
      "  cross_stats_df = pd.concat([cross_stats_df,cross],axis=0, join='outer')\n",
      "/var/folders/0z/hvx6j8cn6yj3bqbyq6rtsxm40000gn/T/ipykernel_34641/3190897339.py:307: FutureWarning: In a future version, object-dtype columns with all-bool values will not be included in reductions with bool_only=True. Explicitly cast to bool dtype instead.\n",
      "  cross_stats_df = pd.concat([cross_stats_df,cross],axis=0, join='outer')\n",
      "/var/folders/0z/hvx6j8cn6yj3bqbyq6rtsxm40000gn/T/ipykernel_34641/3190897339.py:307: FutureWarning: In a future version, object-dtype columns with all-bool values will not be included in reductions with bool_only=True. Explicitly cast to bool dtype instead.\n",
      "  cross_stats_df = pd.concat([cross_stats_df,cross],axis=0, join='outer')\n",
      "/var/folders/0z/hvx6j8cn6yj3bqbyq6rtsxm40000gn/T/ipykernel_34641/3190897339.py:307: FutureWarning: In a future version, object-dtype columns with all-bool values will not be included in reductions with bool_only=True. Explicitly cast to bool dtype instead.\n",
      "  cross_stats_df = pd.concat([cross_stats_df,cross],axis=0, join='outer')\n",
      "/var/folders/0z/hvx6j8cn6yj3bqbyq6rtsxm40000gn/T/ipykernel_34641/3190897339.py:307: FutureWarning: In a future version, object-dtype columns with all-bool values will not be included in reductions with bool_only=True. Explicitly cast to bool dtype instead.\n",
      "  cross_stats_df = pd.concat([cross_stats_df,cross],axis=0, join='outer')\n",
      "/var/folders/0z/hvx6j8cn6yj3bqbyq6rtsxm40000gn/T/ipykernel_34641/3190897339.py:307: FutureWarning: In a future version, object-dtype columns with all-bool values will not be included in reductions with bool_only=True. Explicitly cast to bool dtype instead.\n",
      "  cross_stats_df = pd.concat([cross_stats_df,cross],axis=0, join='outer')\n",
      "/var/folders/0z/hvx6j8cn6yj3bqbyq6rtsxm40000gn/T/ipykernel_34641/3190897339.py:307: FutureWarning: In a future version, object-dtype columns with all-bool values will not be included in reductions with bool_only=True. Explicitly cast to bool dtype instead.\n",
      "  cross_stats_df = pd.concat([cross_stats_df,cross],axis=0, join='outer')\n",
      "/var/folders/0z/hvx6j8cn6yj3bqbyq6rtsxm40000gn/T/ipykernel_34641/3190897339.py:307: FutureWarning: In a future version, object-dtype columns with all-bool values will not be included in reductions with bool_only=True. Explicitly cast to bool dtype instead.\n",
      "  cross_stats_df = pd.concat([cross_stats_df,cross],axis=0, join='outer')\n",
      "/var/folders/0z/hvx6j8cn6yj3bqbyq6rtsxm40000gn/T/ipykernel_34641/3190897339.py:307: FutureWarning: In a future version, object-dtype columns with all-bool values will not be included in reductions with bool_only=True. Explicitly cast to bool dtype instead.\n",
      "  cross_stats_df = pd.concat([cross_stats_df,cross],axis=0, join='outer')\n",
      "/var/folders/0z/hvx6j8cn6yj3bqbyq6rtsxm40000gn/T/ipykernel_34641/3190897339.py:307: FutureWarning: In a future version, object-dtype columns with all-bool values will not be included in reductions with bool_only=True. Explicitly cast to bool dtype instead.\n",
      "  cross_stats_df = pd.concat([cross_stats_df,cross],axis=0, join='outer')\n",
      "/var/folders/0z/hvx6j8cn6yj3bqbyq6rtsxm40000gn/T/ipykernel_34641/3190897339.py:307: FutureWarning: In a future version, object-dtype columns with all-bool values will not be included in reductions with bool_only=True. Explicitly cast to bool dtype instead.\n",
      "  cross_stats_df = pd.concat([cross_stats_df,cross],axis=0, join='outer')\n"
     ]
    },
    {
     "name": "stdout",
     "output_type": "stream",
     "text": [
      "LD\n"
     ]
    },
    {
     "name": "stderr",
     "output_type": "stream",
     "text": [
      "/var/folders/0z/hvx6j8cn6yj3bqbyq6rtsxm40000gn/T/ipykernel_34641/3190897339.py:307: FutureWarning: In a future version, object-dtype columns with all-bool values will not be included in reductions with bool_only=True. Explicitly cast to bool dtype instead.\n",
      "  cross_stats_df = pd.concat([cross_stats_df,cross],axis=0, join='outer')\n",
      "/var/folders/0z/hvx6j8cn6yj3bqbyq6rtsxm40000gn/T/ipykernel_34641/3190897339.py:307: FutureWarning: In a future version, object-dtype columns with all-bool values will not be included in reductions with bool_only=True. Explicitly cast to bool dtype instead.\n",
      "  cross_stats_df = pd.concat([cross_stats_df,cross],axis=0, join='outer')\n",
      "/var/folders/0z/hvx6j8cn6yj3bqbyq6rtsxm40000gn/T/ipykernel_34641/3190897339.py:307: FutureWarning: In a future version, object-dtype columns with all-bool values will not be included in reductions with bool_only=True. Explicitly cast to bool dtype instead.\n",
      "  cross_stats_df = pd.concat([cross_stats_df,cross],axis=0, join='outer')\n",
      "/var/folders/0z/hvx6j8cn6yj3bqbyq6rtsxm40000gn/T/ipykernel_34641/3190897339.py:307: FutureWarning: In a future version, object-dtype columns with all-bool values will not be included in reductions with bool_only=True. Explicitly cast to bool dtype instead.\n",
      "  cross_stats_df = pd.concat([cross_stats_df,cross],axis=0, join='outer')\n",
      "/var/folders/0z/hvx6j8cn6yj3bqbyq6rtsxm40000gn/T/ipykernel_34641/3190897339.py:307: FutureWarning: In a future version, object-dtype columns with all-bool values will not be included in reductions with bool_only=True. Explicitly cast to bool dtype instead.\n",
      "  cross_stats_df = pd.concat([cross_stats_df,cross],axis=0, join='outer')\n",
      "/var/folders/0z/hvx6j8cn6yj3bqbyq6rtsxm40000gn/T/ipykernel_34641/3190897339.py:307: FutureWarning: In a future version, object-dtype columns with all-bool values will not be included in reductions with bool_only=True. Explicitly cast to bool dtype instead.\n",
      "  cross_stats_df = pd.concat([cross_stats_df,cross],axis=0, join='outer')\n",
      "/var/folders/0z/hvx6j8cn6yj3bqbyq6rtsxm40000gn/T/ipykernel_34641/3190897339.py:307: FutureWarning: In a future version, object-dtype columns with all-bool values will not be included in reductions with bool_only=True. Explicitly cast to bool dtype instead.\n",
      "  cross_stats_df = pd.concat([cross_stats_df,cross],axis=0, join='outer')\n",
      "/var/folders/0z/hvx6j8cn6yj3bqbyq6rtsxm40000gn/T/ipykernel_34641/3190897339.py:307: FutureWarning: In a future version, object-dtype columns with all-bool values will not be included in reductions with bool_only=True. Explicitly cast to bool dtype instead.\n",
      "  cross_stats_df = pd.concat([cross_stats_df,cross],axis=0, join='outer')\n",
      "/var/folders/0z/hvx6j8cn6yj3bqbyq6rtsxm40000gn/T/ipykernel_34641/3190897339.py:307: FutureWarning: In a future version, object-dtype columns with all-bool values will not be included in reductions with bool_only=True. Explicitly cast to bool dtype instead.\n",
      "  cross_stats_df = pd.concat([cross_stats_df,cross],axis=0, join='outer')\n",
      "/var/folders/0z/hvx6j8cn6yj3bqbyq6rtsxm40000gn/T/ipykernel_34641/3190897339.py:307: FutureWarning: In a future version, object-dtype columns with all-bool values will not be included in reductions with bool_only=True. Explicitly cast to bool dtype instead.\n",
      "  cross_stats_df = pd.concat([cross_stats_df,cross],axis=0, join='outer')\n",
      "/var/folders/0z/hvx6j8cn6yj3bqbyq6rtsxm40000gn/T/ipykernel_34641/3190897339.py:307: FutureWarning: In a future version, object-dtype columns with all-bool values will not be included in reductions with bool_only=True. Explicitly cast to bool dtype instead.\n",
      "  cross_stats_df = pd.concat([cross_stats_df,cross],axis=0, join='outer')\n",
      "/var/folders/0z/hvx6j8cn6yj3bqbyq6rtsxm40000gn/T/ipykernel_34641/3190897339.py:307: FutureWarning: In a future version, object-dtype columns with all-bool values will not be included in reductions with bool_only=True. Explicitly cast to bool dtype instead.\n",
      "  cross_stats_df = pd.concat([cross_stats_df,cross],axis=0, join='outer')\n",
      "/var/folders/0z/hvx6j8cn6yj3bqbyq6rtsxm40000gn/T/ipykernel_34641/3190897339.py:307: FutureWarning: In a future version, object-dtype columns with all-bool values will not be included in reductions with bool_only=True. Explicitly cast to bool dtype instead.\n",
      "  cross_stats_df = pd.concat([cross_stats_df,cross],axis=0, join='outer')\n",
      "/var/folders/0z/hvx6j8cn6yj3bqbyq6rtsxm40000gn/T/ipykernel_34641/3190897339.py:307: FutureWarning: In a future version, object-dtype columns with all-bool values will not be included in reductions with bool_only=True. Explicitly cast to bool dtype instead.\n",
      "  cross_stats_df = pd.concat([cross_stats_df,cross],axis=0, join='outer')\n",
      "/var/folders/0z/hvx6j8cn6yj3bqbyq6rtsxm40000gn/T/ipykernel_34641/3190897339.py:307: FutureWarning: In a future version, object-dtype columns with all-bool values will not be included in reductions with bool_only=True. Explicitly cast to bool dtype instead.\n",
      "  cross_stats_df = pd.concat([cross_stats_df,cross],axis=0, join='outer')\n",
      "/var/folders/0z/hvx6j8cn6yj3bqbyq6rtsxm40000gn/T/ipykernel_34641/3190897339.py:307: FutureWarning: In a future version, object-dtype columns with all-bool values will not be included in reductions with bool_only=True. Explicitly cast to bool dtype instead.\n",
      "  cross_stats_df = pd.concat([cross_stats_df,cross],axis=0, join='outer')\n",
      "/var/folders/0z/hvx6j8cn6yj3bqbyq6rtsxm40000gn/T/ipykernel_34641/3190897339.py:307: FutureWarning: In a future version, object-dtype columns with all-bool values will not be included in reductions with bool_only=True. Explicitly cast to bool dtype instead.\n",
      "  cross_stats_df = pd.concat([cross_stats_df,cross],axis=0, join='outer')\n",
      "/var/folders/0z/hvx6j8cn6yj3bqbyq6rtsxm40000gn/T/ipykernel_34641/3190897339.py:307: FutureWarning: In a future version, object-dtype columns with all-bool values will not be included in reductions with bool_only=True. Explicitly cast to bool dtype instead.\n",
      "  cross_stats_df = pd.concat([cross_stats_df,cross],axis=0, join='outer')\n",
      "/var/folders/0z/hvx6j8cn6yj3bqbyq6rtsxm40000gn/T/ipykernel_34641/3190897339.py:307: FutureWarning: In a future version, object-dtype columns with all-bool values will not be included in reductions with bool_only=True. Explicitly cast to bool dtype instead.\n",
      "  cross_stats_df = pd.concat([cross_stats_df,cross],axis=0, join='outer')\n",
      "/var/folders/0z/hvx6j8cn6yj3bqbyq6rtsxm40000gn/T/ipykernel_34641/3190897339.py:307: FutureWarning: In a future version, object-dtype columns with all-bool values will not be included in reductions with bool_only=True. Explicitly cast to bool dtype instead.\n",
      "  cross_stats_df = pd.concat([cross_stats_df,cross],axis=0, join='outer')\n",
      "/var/folders/0z/hvx6j8cn6yj3bqbyq6rtsxm40000gn/T/ipykernel_34641/3190897339.py:307: FutureWarning: In a future version, object-dtype columns with all-bool values will not be included in reductions with bool_only=True. Explicitly cast to bool dtype instead.\n",
      "  cross_stats_df = pd.concat([cross_stats_df,cross],axis=0, join='outer')\n",
      "/var/folders/0z/hvx6j8cn6yj3bqbyq6rtsxm40000gn/T/ipykernel_34641/3190897339.py:307: FutureWarning: In a future version, object-dtype columns with all-bool values will not be included in reductions with bool_only=True. Explicitly cast to bool dtype instead.\n",
      "  cross_stats_df = pd.concat([cross_stats_df,cross],axis=0, join='outer')\n",
      "/var/folders/0z/hvx6j8cn6yj3bqbyq6rtsxm40000gn/T/ipykernel_34641/3190897339.py:307: FutureWarning: In a future version, object-dtype columns with all-bool values will not be included in reductions with bool_only=True. Explicitly cast to bool dtype instead.\n",
      "  cross_stats_df = pd.concat([cross_stats_df,cross],axis=0, join='outer')\n",
      "/var/folders/0z/hvx6j8cn6yj3bqbyq6rtsxm40000gn/T/ipykernel_34641/3190897339.py:307: FutureWarning: In a future version, object-dtype columns with all-bool values will not be included in reductions with bool_only=True. Explicitly cast to bool dtype instead.\n",
      "  cross_stats_df = pd.concat([cross_stats_df,cross],axis=0, join='outer')\n",
      "/var/folders/0z/hvx6j8cn6yj3bqbyq6rtsxm40000gn/T/ipykernel_34641/3190897339.py:307: FutureWarning: In a future version, object-dtype columns with all-bool values will not be included in reductions with bool_only=True. Explicitly cast to bool dtype instead.\n",
      "  cross_stats_df = pd.concat([cross_stats_df,cross],axis=0, join='outer')\n",
      "/var/folders/0z/hvx6j8cn6yj3bqbyq6rtsxm40000gn/T/ipykernel_34641/3190897339.py:307: FutureWarning: In a future version, object-dtype columns with all-bool values will not be included in reductions with bool_only=True. Explicitly cast to bool dtype instead.\n",
      "  cross_stats_df = pd.concat([cross_stats_df,cross],axis=0, join='outer')\n"
     ]
    }
   ],
   "source": [
    "\n",
    "# all the imaging data goes here.\n",
    "data_root_path = Path(os.path.expanduser(\"~\")) / \"Projects/Imaging/data\"\n",
    "# linearly unmixed \".czi\" files are here\n",
    "raw_data_path = data_root_path / \"raw\"\n",
    "# save output \".tiff\" files here\n",
    "int_data_path = data_root_path / \"out\"\n",
    "# save stats here\n",
    "out_data_path = data_root_path / \"out\"\n",
    "\n",
    "\n",
    "\n",
    "\n",
    "\n",
    "all_stats_df, all_proj_stats_df, all_cross_stats_df = summarize_organelle_stats(out_data_path, \n",
    "                                                    out_data_path, \n",
    "                                                    organelle_names=organelle_names);"
   ]
  },
  {
   "cell_type": "code",
   "execution_count": 215,
   "metadata": {},
   "outputs": [
    {
     "data": {
      "text/html": [
       "<div>\n",
       "<style scoped>\n",
       "    .dataframe tbody tr th:only-of-type {\n",
       "        vertical-align: middle;\n",
       "    }\n",
       "\n",
       "    .dataframe tbody tr th {\n",
       "        vertical-align: top;\n",
       "    }\n",
       "\n",
       "    .dataframe thead th {\n",
       "        text-align: right;\n",
       "    }\n",
       "</style>\n",
       "<table border=\"1\" class=\"dataframe\">\n",
       "  <thead>\n",
       "    <tr style=\"text-align: right;\">\n",
       "      <th></th>\n",
       "      <th>ID</th>\n",
       "      <th>organelle</th>\n",
       "      <th>mean_intensity_sum</th>\n",
       "      <th>mean_intensity_mean</th>\n",
       "      <th>mean_intensity_median</th>\n",
       "      <th>mean_intensity_min</th>\n",
       "      <th>mean_intensity_max</th>\n",
       "      <th>mean_intensity_std</th>\n",
       "      <th>mean_intensity_count</th>\n",
       "      <th>standard_deviation_intensity_sum</th>\n",
       "      <th>...</th>\n",
       "      <th>GL_labels_sum</th>\n",
       "      <th>PR_labels_sum</th>\n",
       "      <th>ER_labels_sum</th>\n",
       "      <th>LD_labels_sum</th>\n",
       "      <th>NU_overlap_sum</th>\n",
       "      <th>NU_overlap_mean</th>\n",
       "      <th>NU_overlap_median</th>\n",
       "      <th>NU_overlap_count</th>\n",
       "      <th>NU_overlap_frac</th>\n",
       "      <th>NU_labels_sum</th>\n",
       "    </tr>\n",
       "    <tr>\n",
       "      <th>ID</th>\n",
       "      <th></th>\n",
       "      <th></th>\n",
       "      <th></th>\n",
       "      <th></th>\n",
       "      <th></th>\n",
       "      <th></th>\n",
       "      <th></th>\n",
       "      <th></th>\n",
       "      <th></th>\n",
       "      <th></th>\n",
       "      <th></th>\n",
       "      <th></th>\n",
       "      <th></th>\n",
       "      <th></th>\n",
       "      <th></th>\n",
       "      <th></th>\n",
       "      <th></th>\n",
       "      <th></th>\n",
       "      <th></th>\n",
       "      <th></th>\n",
       "      <th></th>\n",
       "    </tr>\n",
       "  </thead>\n",
       "  <tbody>\n",
       "    <tr>\n",
       "      <th>ZSTACK_PBTOhNGN2hiPSCs_BR1_N14_Unmixed</th>\n",
       "      <td>ZSTACK_PBTOhNGN2hiPSCs_BR1_N14_Unmixed</td>\n",
       "      <td>nuc</td>\n",
       "      <td>7529.208496</td>\n",
       "      <td>7529.208496</td>\n",
       "      <td>7529.208496</td>\n",
       "      <td>7529.208496</td>\n",
       "      <td>7529.208496</td>\n",
       "      <td>NaN</td>\n",
       "      <td>1</td>\n",
       "      <td>3910.083483</td>\n",
       "      <td>...</td>\n",
       "      <td>[3]</td>\n",
       "      <td>[3, 6, 7, 24, 26, 32, 33, 42, 48, 49, 59, 60, ...</td>\n",
       "      <td>[1]</td>\n",
       "      <td>[]</td>\n",
       "      <td>NaN</td>\n",
       "      <td>NaN</td>\n",
       "      <td>NaN</td>\n",
       "      <td>NaN</td>\n",
       "      <td>NaN</td>\n",
       "      <td>NaN</td>\n",
       "    </tr>\n",
       "    <tr>\n",
       "      <th>ZSTACK_PBTOhNGN2hiPSCs_BR1_N15_Unmixed</th>\n",
       "      <td>ZSTACK_PBTOhNGN2hiPSCs_BR1_N15_Unmixed</td>\n",
       "      <td>nuc</td>\n",
       "      <td>7877.621808</td>\n",
       "      <td>7877.621808</td>\n",
       "      <td>7877.621808</td>\n",
       "      <td>7877.621808</td>\n",
       "      <td>7877.621808</td>\n",
       "      <td>NaN</td>\n",
       "      <td>1</td>\n",
       "      <td>3427.678155</td>\n",
       "      <td>...</td>\n",
       "      <td>[3]</td>\n",
       "      <td>[78]</td>\n",
       "      <td>[1]</td>\n",
       "      <td>[]</td>\n",
       "      <td>NaN</td>\n",
       "      <td>NaN</td>\n",
       "      <td>NaN</td>\n",
       "      <td>NaN</td>\n",
       "      <td>NaN</td>\n",
       "      <td>NaN</td>\n",
       "    </tr>\n",
       "    <tr>\n",
       "      <th>ZSTACK_PBTOhNGN2hiPSCs_BR1_N16_Unmixed</th>\n",
       "      <td>ZSTACK_PBTOhNGN2hiPSCs_BR1_N16_Unmixed</td>\n",
       "      <td>nuc</td>\n",
       "      <td>8770.506566</td>\n",
       "      <td>8770.506566</td>\n",
       "      <td>8770.506566</td>\n",
       "      <td>8770.506566</td>\n",
       "      <td>8770.506566</td>\n",
       "      <td>NaN</td>\n",
       "      <td>1</td>\n",
       "      <td>5831.848097</td>\n",
       "      <td>...</td>\n",
       "      <td>[]</td>\n",
       "      <td>[]</td>\n",
       "      <td>[1]</td>\n",
       "      <td>[]</td>\n",
       "      <td>NaN</td>\n",
       "      <td>NaN</td>\n",
       "      <td>NaN</td>\n",
       "      <td>NaN</td>\n",
       "      <td>NaN</td>\n",
       "      <td>NaN</td>\n",
       "    </tr>\n",
       "    <tr>\n",
       "      <th>ZSTACK_PBTOhNGN2hiPSCs_BR1_N17_Unmixed</th>\n",
       "      <td>ZSTACK_PBTOhNGN2hiPSCs_BR1_N17_Unmixed</td>\n",
       "      <td>nuc</td>\n",
       "      <td>7394.871101</td>\n",
       "      <td>7394.871101</td>\n",
       "      <td>7394.871101</td>\n",
       "      <td>7394.871101</td>\n",
       "      <td>7394.871101</td>\n",
       "      <td>NaN</td>\n",
       "      <td>1</td>\n",
       "      <td>3292.971232</td>\n",
       "      <td>...</td>\n",
       "      <td>[1, 2]</td>\n",
       "      <td>[25, 79, 93, 100, 113, 114]</td>\n",
       "      <td>[1]</td>\n",
       "      <td>[]</td>\n",
       "      <td>NaN</td>\n",
       "      <td>NaN</td>\n",
       "      <td>NaN</td>\n",
       "      <td>NaN</td>\n",
       "      <td>NaN</td>\n",
       "      <td>NaN</td>\n",
       "    </tr>\n",
       "    <tr>\n",
       "      <th>ZSTACK_PBTOhNGN2hiPSCs_BR1_N18_Unmixed</th>\n",
       "      <td>ZSTACK_PBTOhNGN2hiPSCs_BR1_N18_Unmixed</td>\n",
       "      <td>nuc</td>\n",
       "      <td>7486.117821</td>\n",
       "      <td>7486.117821</td>\n",
       "      <td>7486.117821</td>\n",
       "      <td>7486.117821</td>\n",
       "      <td>7486.117821</td>\n",
       "      <td>NaN</td>\n",
       "      <td>1</td>\n",
       "      <td>3499.060182</td>\n",
       "      <td>...</td>\n",
       "      <td>[1, 6]</td>\n",
       "      <td>[3, 4, 9, 14, 16, 17, 23, 25, 32, 45, 48, 49, ...</td>\n",
       "      <td>[1]</td>\n",
       "      <td>[]</td>\n",
       "      <td>NaN</td>\n",
       "      <td>NaN</td>\n",
       "      <td>NaN</td>\n",
       "      <td>NaN</td>\n",
       "      <td>NaN</td>\n",
       "      <td>NaN</td>\n",
       "    </tr>\n",
       "  </tbody>\n",
       "</table>\n",
       "<p>5 rows × 100 columns</p>\n",
       "</div>"
      ],
      "text/plain": [
       "                                                                            ID  \\\n",
       "ID                                                                               \n",
       "ZSTACK_PBTOhNGN2hiPSCs_BR1_N14_Unmixed  ZSTACK_PBTOhNGN2hiPSCs_BR1_N14_Unmixed   \n",
       "ZSTACK_PBTOhNGN2hiPSCs_BR1_N15_Unmixed  ZSTACK_PBTOhNGN2hiPSCs_BR1_N15_Unmixed   \n",
       "ZSTACK_PBTOhNGN2hiPSCs_BR1_N16_Unmixed  ZSTACK_PBTOhNGN2hiPSCs_BR1_N16_Unmixed   \n",
       "ZSTACK_PBTOhNGN2hiPSCs_BR1_N17_Unmixed  ZSTACK_PBTOhNGN2hiPSCs_BR1_N17_Unmixed   \n",
       "ZSTACK_PBTOhNGN2hiPSCs_BR1_N18_Unmixed  ZSTACK_PBTOhNGN2hiPSCs_BR1_N18_Unmixed   \n",
       "\n",
       "                                       organelle  mean_intensity_sum  \\\n",
       "ID                                                                     \n",
       "ZSTACK_PBTOhNGN2hiPSCs_BR1_N14_Unmixed       nuc         7529.208496   \n",
       "ZSTACK_PBTOhNGN2hiPSCs_BR1_N15_Unmixed       nuc         7877.621808   \n",
       "ZSTACK_PBTOhNGN2hiPSCs_BR1_N16_Unmixed       nuc         8770.506566   \n",
       "ZSTACK_PBTOhNGN2hiPSCs_BR1_N17_Unmixed       nuc         7394.871101   \n",
       "ZSTACK_PBTOhNGN2hiPSCs_BR1_N18_Unmixed       nuc         7486.117821   \n",
       "\n",
       "                                        mean_intensity_mean  \\\n",
       "ID                                                            \n",
       "ZSTACK_PBTOhNGN2hiPSCs_BR1_N14_Unmixed          7529.208496   \n",
       "ZSTACK_PBTOhNGN2hiPSCs_BR1_N15_Unmixed          7877.621808   \n",
       "ZSTACK_PBTOhNGN2hiPSCs_BR1_N16_Unmixed          8770.506566   \n",
       "ZSTACK_PBTOhNGN2hiPSCs_BR1_N17_Unmixed          7394.871101   \n",
       "ZSTACK_PBTOhNGN2hiPSCs_BR1_N18_Unmixed          7486.117821   \n",
       "\n",
       "                                        mean_intensity_median  \\\n",
       "ID                                                              \n",
       "ZSTACK_PBTOhNGN2hiPSCs_BR1_N14_Unmixed            7529.208496   \n",
       "ZSTACK_PBTOhNGN2hiPSCs_BR1_N15_Unmixed            7877.621808   \n",
       "ZSTACK_PBTOhNGN2hiPSCs_BR1_N16_Unmixed            8770.506566   \n",
       "ZSTACK_PBTOhNGN2hiPSCs_BR1_N17_Unmixed            7394.871101   \n",
       "ZSTACK_PBTOhNGN2hiPSCs_BR1_N18_Unmixed            7486.117821   \n",
       "\n",
       "                                        mean_intensity_min  \\\n",
       "ID                                                           \n",
       "ZSTACK_PBTOhNGN2hiPSCs_BR1_N14_Unmixed         7529.208496   \n",
       "ZSTACK_PBTOhNGN2hiPSCs_BR1_N15_Unmixed         7877.621808   \n",
       "ZSTACK_PBTOhNGN2hiPSCs_BR1_N16_Unmixed         8770.506566   \n",
       "ZSTACK_PBTOhNGN2hiPSCs_BR1_N17_Unmixed         7394.871101   \n",
       "ZSTACK_PBTOhNGN2hiPSCs_BR1_N18_Unmixed         7486.117821   \n",
       "\n",
       "                                        mean_intensity_max  \\\n",
       "ID                                                           \n",
       "ZSTACK_PBTOhNGN2hiPSCs_BR1_N14_Unmixed         7529.208496   \n",
       "ZSTACK_PBTOhNGN2hiPSCs_BR1_N15_Unmixed         7877.621808   \n",
       "ZSTACK_PBTOhNGN2hiPSCs_BR1_N16_Unmixed         8770.506566   \n",
       "ZSTACK_PBTOhNGN2hiPSCs_BR1_N17_Unmixed         7394.871101   \n",
       "ZSTACK_PBTOhNGN2hiPSCs_BR1_N18_Unmixed         7486.117821   \n",
       "\n",
       "                                        mean_intensity_std  \\\n",
       "ID                                                           \n",
       "ZSTACK_PBTOhNGN2hiPSCs_BR1_N14_Unmixed                 NaN   \n",
       "ZSTACK_PBTOhNGN2hiPSCs_BR1_N15_Unmixed                 NaN   \n",
       "ZSTACK_PBTOhNGN2hiPSCs_BR1_N16_Unmixed                 NaN   \n",
       "ZSTACK_PBTOhNGN2hiPSCs_BR1_N17_Unmixed                 NaN   \n",
       "ZSTACK_PBTOhNGN2hiPSCs_BR1_N18_Unmixed                 NaN   \n",
       "\n",
       "                                        mean_intensity_count  \\\n",
       "ID                                                             \n",
       "ZSTACK_PBTOhNGN2hiPSCs_BR1_N14_Unmixed                     1   \n",
       "ZSTACK_PBTOhNGN2hiPSCs_BR1_N15_Unmixed                     1   \n",
       "ZSTACK_PBTOhNGN2hiPSCs_BR1_N16_Unmixed                     1   \n",
       "ZSTACK_PBTOhNGN2hiPSCs_BR1_N17_Unmixed                     1   \n",
       "ZSTACK_PBTOhNGN2hiPSCs_BR1_N18_Unmixed                     1   \n",
       "\n",
       "                                        standard_deviation_intensity_sum  ...  \\\n",
       "ID                                                                        ...   \n",
       "ZSTACK_PBTOhNGN2hiPSCs_BR1_N14_Unmixed                       3910.083483  ...   \n",
       "ZSTACK_PBTOhNGN2hiPSCs_BR1_N15_Unmixed                       3427.678155  ...   \n",
       "ZSTACK_PBTOhNGN2hiPSCs_BR1_N16_Unmixed                       5831.848097  ...   \n",
       "ZSTACK_PBTOhNGN2hiPSCs_BR1_N17_Unmixed                       3292.971232  ...   \n",
       "ZSTACK_PBTOhNGN2hiPSCs_BR1_N18_Unmixed                       3499.060182  ...   \n",
       "\n",
       "                                        GL_labels_sum  \\\n",
       "ID                                                      \n",
       "ZSTACK_PBTOhNGN2hiPSCs_BR1_N14_Unmixed            [3]   \n",
       "ZSTACK_PBTOhNGN2hiPSCs_BR1_N15_Unmixed            [3]   \n",
       "ZSTACK_PBTOhNGN2hiPSCs_BR1_N16_Unmixed             []   \n",
       "ZSTACK_PBTOhNGN2hiPSCs_BR1_N17_Unmixed         [1, 2]   \n",
       "ZSTACK_PBTOhNGN2hiPSCs_BR1_N18_Unmixed         [1, 6]   \n",
       "\n",
       "                                                                            PR_labels_sum  \\\n",
       "ID                                                                                          \n",
       "ZSTACK_PBTOhNGN2hiPSCs_BR1_N14_Unmixed  [3, 6, 7, 24, 26, 32, 33, 42, 48, 49, 59, 60, ...   \n",
       "ZSTACK_PBTOhNGN2hiPSCs_BR1_N15_Unmixed                                               [78]   \n",
       "ZSTACK_PBTOhNGN2hiPSCs_BR1_N16_Unmixed                                                 []   \n",
       "ZSTACK_PBTOhNGN2hiPSCs_BR1_N17_Unmixed                        [25, 79, 93, 100, 113, 114]   \n",
       "ZSTACK_PBTOhNGN2hiPSCs_BR1_N18_Unmixed  [3, 4, 9, 14, 16, 17, 23, 25, 32, 45, 48, 49, ...   \n",
       "\n",
       "                                        ER_labels_sum  LD_labels_sum  \\\n",
       "ID                                                                     \n",
       "ZSTACK_PBTOhNGN2hiPSCs_BR1_N14_Unmixed            [1]             []   \n",
       "ZSTACK_PBTOhNGN2hiPSCs_BR1_N15_Unmixed            [1]             []   \n",
       "ZSTACK_PBTOhNGN2hiPSCs_BR1_N16_Unmixed            [1]             []   \n",
       "ZSTACK_PBTOhNGN2hiPSCs_BR1_N17_Unmixed            [1]             []   \n",
       "ZSTACK_PBTOhNGN2hiPSCs_BR1_N18_Unmixed            [1]             []   \n",
       "\n",
       "                                        NU_overlap_sum  NU_overlap_mean  \\\n",
       "ID                                                                        \n",
       "ZSTACK_PBTOhNGN2hiPSCs_BR1_N14_Unmixed             NaN              NaN   \n",
       "ZSTACK_PBTOhNGN2hiPSCs_BR1_N15_Unmixed             NaN              NaN   \n",
       "ZSTACK_PBTOhNGN2hiPSCs_BR1_N16_Unmixed             NaN              NaN   \n",
       "ZSTACK_PBTOhNGN2hiPSCs_BR1_N17_Unmixed             NaN              NaN   \n",
       "ZSTACK_PBTOhNGN2hiPSCs_BR1_N18_Unmixed             NaN              NaN   \n",
       "\n",
       "                                       NU_overlap_median  NU_overlap_count  \\\n",
       "ID                                                                           \n",
       "ZSTACK_PBTOhNGN2hiPSCs_BR1_N14_Unmixed               NaN               NaN   \n",
       "ZSTACK_PBTOhNGN2hiPSCs_BR1_N15_Unmixed               NaN               NaN   \n",
       "ZSTACK_PBTOhNGN2hiPSCs_BR1_N16_Unmixed               NaN               NaN   \n",
       "ZSTACK_PBTOhNGN2hiPSCs_BR1_N17_Unmixed               NaN               NaN   \n",
       "ZSTACK_PBTOhNGN2hiPSCs_BR1_N18_Unmixed               NaN               NaN   \n",
       "\n",
       "                                        NU_overlap_frac  NU_labels_sum  \n",
       "ID                                                                      \n",
       "ZSTACK_PBTOhNGN2hiPSCs_BR1_N14_Unmixed              NaN            NaN  \n",
       "ZSTACK_PBTOhNGN2hiPSCs_BR1_N15_Unmixed              NaN            NaN  \n",
       "ZSTACK_PBTOhNGN2hiPSCs_BR1_N16_Unmixed              NaN            NaN  \n",
       "ZSTACK_PBTOhNGN2hiPSCs_BR1_N17_Unmixed              NaN            NaN  \n",
       "ZSTACK_PBTOhNGN2hiPSCs_BR1_N18_Unmixed              NaN            NaN  \n",
       "\n",
       "[5 rows x 100 columns]"
      ]
     },
     "execution_count": 215,
     "metadata": {},
     "output_type": "execute_result"
    }
   ],
   "source": [
    "all_stats_df.head()"
   ]
  },
  {
   "cell_type": "code",
   "execution_count": 216,
   "metadata": {},
   "outputs": [],
   "source": [
    "list_cols = [col for col in all_cross_stats_df.columns if \"label\" in col] #if col.contains(\"label\")"
   ]
  },
  {
   "cell_type": "code",
   "execution_count": 217,
   "metadata": {},
   "outputs": [
    {
     "data": {
      "text/plain": [
       "1.0"
      ]
     },
     "execution_count": 217,
     "metadata": {},
     "output_type": "execute_result"
    }
   ],
   "source": [
    "all_cross_stats_df[list_cols[2]].loc[0].values[0][0]"
   ]
  },
  {
   "cell_type": "code",
   "execution_count": 301,
   "metadata": {},
   "outputs": [],
   "source": [
    "\n",
    "csv_path = out_data_path / f\"summary-stats.csv\"\n",
    "all_stats_df.to_csv(csv_path)\n",
    "\n",
    "csv_path = out_data_path / f\"summary-proj-stats.csv\"\n",
    "all_proj_stats_df.to_csv(csv_path)\n",
    "\n",
    "csv_path = out_data_path / f\"summary-cross-stats.csv\"\n",
    "all_cross_stats_df.to_csv(csv_path)\n"
   ]
  },
  {
   "cell_type": "code",
   "execution_count": 304,
   "metadata": {},
   "outputs": [
    {
     "data": {
      "text/plain": [
       "\"['Ct\""
      ]
     },
     "execution_count": 304,
     "metadata": {},
     "output_type": "execute_result"
    }
   ],
   "source": [
    "# x = test[list_cols[2]][0]\n",
    "\n",
    "# xstr = x.strip(\"[]\").replace(\"'\", \"\").split(\", \")\n",
    "# float(xstr[0])\n",
    "# [int(float(x)) for x in xstr]\n",
    "\n",
    "# xstr\n",
    "\n",
    "test.radial_bins.iloc[0][:4]\n"
   ]
  },
  {
   "attachments": {},
   "cell_type": "markdown",
   "metadata": {},
   "source": [
    "Make some wrappers to deal with reading our summary stats into pandas properly.\n"
   ]
  },
  {
   "cell_type": "code",
   "execution_count": 297,
   "metadata": {},
   "outputs": [],
   "source": [
    "\n",
    "\n",
    "def load_summary_stats_csv(in_path: Path) -> pd.DataFrame:\n",
    "    \"\"\" helper to load the summary stats csv: summary-stats.csv\n",
    "    returns pandas DataFrame \"\"\"\n",
    "    csv_path = in_path / f\"summary-stats.csv\"\n",
    "    summary_df = pd.read_csv(csv_path, index_col=0)\n",
    "    # need to convert columns *_labels\n",
    "    list_cols = [col for col in summary_df.columns if \"labels\" in col] #if col.contains(\"label\")\n",
    "    summary_df = fix_int_list_cols(summary_df,list_cols)\n",
    "    return summary_df\n",
    "\n",
    "\n",
    "def load_summary_proj_stats_csv(in_path: Path) -> pd.DataFrame:\n",
    "    \"\"\" helper to load summary projection stats csv: summary-proj-stats.csv\n",
    "    returns pandas DataFrame \"\"\"\n",
    "    obj_cols =  ['ID', 'organelle','mask','radial_n_bins','n_z']  # leave alone\n",
    "    str_cols = [ 'radial_bins']\n",
    "    int_cols = ['radial_cm_vox_cnt', 'radial_org_vox_cnt', 'radial_org_intensity', 'radial_n_pix','zernike_n', 'zernike_m', 'z','z_cm_vox_cnt','z_org_vox_cnt', 'z_org_intensity', 'z_nuc_vox_cnt']\n",
    "    float_cols = ['radial_cm_cv', 'radial_org_cv', 'radial_img_cv','zernike_cm_mag', 'zernike_cm_phs','zernike_obj_mag', 'zernike_obj_phs', 'zernike_nuc_mag','zernike_nuc_phs', 'zernike_img_mag']\n",
    "\n",
    "    csv_path = in_path / f\"summary-proj-stats.csv\"\n",
    "    proj = pd.read_csv(csv_path, index_col=0)\n",
    "    proj = fix_str_list_cols(proj, str_cols)\n",
    "    proj = fix_int_list_cols(proj, int_cols)\n",
    "    proj = fix_float_list_cols(proj, float_cols)\n",
    "    return proj\n",
    "        \n",
    "\n",
    "def load_summary_cross_stats_csv(in_path: Path) -> pd.DataFrame:\n",
    "    \"\"\" helper to load summary cross- stats csv: summary-cross-stats.csv\n",
    "    returns pandas DataFrame \"\"\"\n",
    "\n",
    "    csv_path = in_path / f\"summary-cross-stats.csv\"\n",
    "    summary_df = pd.read_csv(csv_path, index_col=0)\n",
    "\n",
    "    list_cols = [col for col in summary_df.columns if \"label\" in col] #if col.contains(\"label\")\n",
    "    str_list_cols = [col for col in list_cols if \"__\" in col]\n",
    "    int_list_cols = [col for col in list_cols if \"__\" not in col]\n",
    "\n",
    "    summary_df = fix_str_list_cols(summary_df,str_list_cols)\n",
    "    summary_df = fix_int_list_cols(summary_df,int_list_cols)\n",
    "\n",
    "    return summary_df\n",
    "    \n"
   ]
  },
  {
   "cell_type": "code",
   "execution_count": 298,
   "metadata": {},
   "outputs": [],
   "source": [
    "\n",
    "#summary_shell.head()\n",
    "test = load_summary_stats_csv(out_data_path)\n",
    "test_proj = load_summary_proj_stats_csv(out_data_path)\n",
    "test_cross = load_summary_cross_stats_csv(out_data_path)"
   ]
  },
  {
   "cell_type": "code",
   "execution_count": 208,
   "metadata": {},
   "outputs": [],
   "source": [
    "def fix_int_list_cols(in_df:pd.DataFrame, list_cols) -> pd.DataFrame:\n",
    "    \"\"\" \n",
    "    \"\"\"\n",
    "    def _str_to_list(x):\n",
    "        if x == '[]':\n",
    "            return list()\n",
    "        else:\n",
    "            xstr = x.strip(\"[]\").replace(\"'\", \"\").split(\", \")\n",
    "        return [int(float(x)) for x in xstr]\n",
    "        \n",
    "    out_df = pd.DataFrame() \n",
    "    for col in in_df.columns:    \n",
    "        out_df[col] = in_df[col].apply(_str_to_list) if col in list_cols else in_df[col]\n",
    "    return out_df\n",
    "\n",
    "\n",
    "def load_stats_csv(in_path: Path, img_id: str, target_org: str) -> pd.DataFrame:\n",
    "    \"\"\" helper to load the basic stats csv: `img_id`-`target_organelle` -stats.csv\n",
    "    returns pandas DataFrame \"\"\"\n",
    "    csv_path = in_path / f\"{img_id}-{target_org}-stats.csv\"\n",
    "    stats = pd.read_csv(csv_path, index_col=0,dtype={\"ID\":str,\"organelle\":str})\n",
    "    # need to convert columns *_labels\n",
    "    list_cols = [col for col in stats.columns if col.endswith('_labels')]\n",
    "    stats = fix_int_list_cols(stats,list_cols)\n",
    "    return stats\n",
    "        \n",
    "\n",
    "def load_proj_stats_csv(in_path: Path, img_id: str, target_org: str) -> pd.DataFrame:\n",
    "    \"\"\" helper to load  the projection stats csv: `img_id`-`target_organelle` -proj-stats.csv\n",
    "    returns pandas DataFrame \"\"\"\n",
    "    # obj_cols =  ['ID', 'organelle','radial_n_bins','n_z']  # leave alone\n",
    "    # str_cols = [ 'radial_bins']\n",
    "    int_cols = ['radial_cm_vox_cnt', 'radial_org_vox_cnt', 'radial_org_intensity', 'radial_n_pix','zernike_n', 'zernike_m', 'z','z_cm_vox_cnt','z_org_vox_cnt', 'z_org_intensity', 'z_nuc_vox_cnt']\n",
    "    float_cols = ['radial_cm_cv', 'radial_org_cv', 'radial_img_cv','zernike_cm_mag', 'zernike_cm_phs','zernike_obj_mag', 'zernike_obj_phs', 'zernike_nuc_mag','zernike_nuc_phs', 'zernike_img_mag']\n",
    "\n",
    "    csv_path = in_path / f\"{img_id}-{target_org}-proj-stats.csv\"\n",
    "    proj = pd.read_csv(csv_path, index_col=0)\n",
    "    proj['radial_bins'] = proj['radial_bins'].values.squeeze().tolist()\n",
    "    \n",
    "    proj = fix_str_list_cols(proj, str_cols)\n",
    "    proj = fix_int_list_cols(proj, int_cols)\n",
    "    proj = fix_float_list_cols(proj, float_cols)\n",
    "    return proj\n",
    "        \n",
    "\n",
    "def load_cross_stats_csv(in_path: Path, img_id: str, target_org: str) -> pd.DataFrame:\n",
    "    \"\"\" helper to load  the cross- stats csv: `img_id`-`target_organelle` -cross-stats.csv\n",
    "    returns pandas DataFrame \"\"\"\n",
    "    csv_path = in_path / f\"{img_id}-{target_org}-cross-stats.csv\"\n",
    "    cross = pd.read_csv(csv_path, index_col=0)\n",
    "    return cross\n",
    "    \n",
    "    "
   ]
  },
  {
   "cell_type": "code",
   "execution_count": 187,
   "metadata": {},
   "outputs": [
    {
     "data": {
      "text/plain": [
       "PosixPath('/Users/ergonyc/Projects/Imaging/data/out')"
      ]
     },
     "execution_count": 187,
     "metadata": {},
     "output_type": "execute_result"
    }
   ],
   "source": [
    "out_data_path"
   ]
  },
  {
   "cell_type": "code",
   "execution_count": 188,
   "metadata": {},
   "outputs": [],
   "source": [
    "stats = load_stats_csv(out_data_path,img_id, target_org)\n",
    "proj = load_proj_stats_csv(out_data_path,img_id, target_org)\n",
    "cross = load_cross_stats_csv(out_data_path,img_id, target_org)"
   ]
  },
  {
   "cell_type": "code",
   "execution_count": 191,
   "metadata": {},
   "outputs": [],
   "source": [
    "obj_cols =  ['ID', 'organelle','mask','radial_n_bins','n_z']  # leave alone\n",
    "str_cols = [ 'radial_bins']\n",
    "int_cols = ['radial_cm_vox_cnt', 'radial_org_vox_cnt', 'radial_org_intensity', 'radial_n_pix','zernike_n', 'zernike_m', 'z','z_cm_vox_cnt','z_org_vox_cnt', 'z_org_intensity', 'z_nuc_vox_cnt']\n",
    "float_cols = ['radial_cm_cv', 'radial_org_cv', 'radial_img_cv','zernike_cm_mag', 'zernike_cm_phs','zernike_obj_mag', 'zernike_obj_phs', 'zernike_nuc_mag','zernike_nuc_phs', 'zernike_img_mag']\n",
    "\n",
    "csv_path = in_path / f\"{img_id}-{target_org}-proj-stats.csv\"\n",
    "proj = pd.read_csv(csv_path, index_col=0)\n"
   ]
  },
  {
   "cell_type": "code",
   "execution_count": 193,
   "metadata": {},
   "outputs": [],
   "source": [
    "all_cols = proj.columns\n",
    "proj['radial_bins'] = proj['radial_bins'].values.squeeze().tolist()\n"
   ]
  },
  {
   "cell_type": "code",
   "execution_count": 203,
   "metadata": {},
   "outputs": [
    {
     "data": {
      "text/plain": [
       "[7125, 8863, 1838, 149, 0]"
      ]
     },
     "execution_count": 203,
     "metadata": {},
     "output_type": "execute_result"
    }
   ],
   "source": [
    "x=proj[int_cols[1]][0]\n",
    "xstr = x.strip(\"[]\").replace(\"'\", \"\").split(\", \")\n",
    "[int(float(x)) for x in xstr]"
   ]
  },
  {
   "cell_type": "code",
   "execution_count": 205,
   "metadata": {},
   "outputs": [],
   "source": [
    "def _str_to_list(x):\n",
    "    if x == '[]':\n",
    "        return list()\n",
    "    else:\n",
    "        xstr = x.strip(\"[]\").replace(\"'\", \"\").split(\", \")\n",
    "    return [int(float(x)) for x in xstr]\n",
    "    \n",
    "in_df = proj\n",
    "out_df = pd.DataFrame() \n",
    "for col in in_df.columns:    \n",
    "    out_df[col] = in_df[col].apply(_str_to_list) if col in list_cols else in_df[col]\n",
    "\n",
    "# proj = fix_int_list_cols(proj, int_cols)\n"
   ]
  },
  {
   "cell_type": "code",
   "execution_count": 209,
   "metadata": {},
   "outputs": [],
   "source": [
    "\n",
    "proj = fix_int_list_cols(proj, int_cols)"
   ]
  },
  {
   "cell_type": "code",
   "execution_count": 211,
   "metadata": {},
   "outputs": [],
   "source": [
    "\n",
    "proj = fix_float_list_cols(proj, float_cols)"
   ]
  },
  {
   "cell_type": "code",
   "execution_count": null,
   "metadata": {},
   "outputs": [],
   "source": []
  }
 ],
 "metadata": {
  "kernelspec": {
   "display_name": "napariNEW",
   "language": "python",
   "name": "python3"
  },
  "language_info": {
   "codemirror_mode": {
    "name": "ipython",
    "version": 3
   },
   "file_extension": ".py",
   "mimetype": "text/x-python",
   "name": "python",
   "nbconvert_exporter": "python",
   "pygments_lexer": "ipython3",
   "version": "3.10.10"
  },
  "orig_nbformat": 4
 },
 "nbformat": 4,
 "nbformat_minor": 2
}
