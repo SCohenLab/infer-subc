{
 "cells": [
  {
   "cell_type": "markdown",
   "metadata": {},
   "source": [
    "# Infer ***endoplasmic reticulum*** - part 8️⃣\n",
    "\n",
    "--------------\n",
    "\n",
    "## OBJECTIVE:  ✅ Infer sub-cellular component ***endoplasmic reticulum*** (***ER***) in order to understand interactome \n",
    "\n",
    "\n",
    "\n",
    "Dependencies:\n",
    "The ***ER***  inference rely on the cytosol mask.\n"
   ]
  },
  {
   "cell_type": "markdown",
   "metadata": {},
   "source": [
    "\n",
    "## IMPORTS"
   ]
  },
  {
   "cell_type": "code",
   "execution_count": 13,
   "metadata": {},
   "outputs": [],
   "source": [
    "# top level imports\n",
    "from pathlib import Path\n",
    "import os, sys\n",
    "from collections import defaultdict\n",
    "\n",
    "import numpy as np\n",
    "from typing import Optional\n",
    "\n",
    "import aicssegmentation\n",
    "from aicssegmentation.core.pre_processing_utils import ( intensity_normalization, \n",
    "                                                         image_smoothing_gaussian_3d,  \n",
    "                                                         edge_preserving_smoothing_3d )\n",
    "from aicssegmentation.core.utils import topology_preserving_thinning, size_filter\n",
    "from aicssegmentation.core.MO_threshold import MO\n",
    "from aicssegmentation.core.vessel import filament_2d_wrapper\n",
    "                                                 \n",
    "from skimage.measure import label\n",
    "\n",
    "# # package for io \n",
    "from aicsimageio import AICSImage\n",
    "\n",
    "import napari\n",
    "\n",
    "### import local python functions in ../infer_subc_2d\n",
    "sys.path.append(os.path.abspath((os.path.join(os.getcwd(), '..'))))\n",
    "from infer_subc_2d.utils.file_io import (read_czi_image, \n",
    "                                                                    list_image_files)\n",
    "from infer_subc_2d.utils.img import *\n",
    "from infer_subc_2d.constants import (TEST_IMG_N,\n",
    "                                                                    NUC_CH ,\n",
    "                                                                    LYSO_CH ,\n",
    "                                                                    MITO_CH ,\n",
    "                                                                    GOLGI_CH ,\n",
    "                                                                    PEROXI_CH ,\n",
    "                                                                    ER_CH ,\n",
    "                                                                    LIPID_CH ,\n",
    "                                                                    RESIDUAL_CH )        \n",
    "\n",
    "from infer_subc_2d.organelles import fixed_infer_soma, fixed_infer_nuclei, infer_cytosol, find_optimal_Z\n",
    "\n",
    "\n",
    "%load_ext autoreload\n",
    "%autoreload 2\n",
    "\n",
    "\n",
    "test_img_n = TEST_IMG_N"
   ]
  },
  {
   "cell_type": "markdown",
   "metadata": {},
   "source": [
    "# IMAGE PROCESSING Objective 8:  infer ***ER***\n",
    "> Back to  [OUTLINE: Objective #5](00_pipeline_setup.ipynb#summary-of-objectives)\n",
    "\n",
    "## summary of steps\n",
    "\n",
    "Generally following the Allen Cell Segmenter procedure, but doing more aggressive contrast scaling than their prescribed contrast scaling.\n",
    "\n",
    ">sec61beta  is  good start for ER  as per from [Allen Cell](https://www.allencell.org/cell-observations/category/endoplasmic-reticulum).    \n",
    "\n",
    "using [seg_sec61b.py](https://github.com/AllenInstitute/aics-segmentation/blob/master/aics-segmentation/aicssegmentation/structure_wrapper/seg_sec61b.py)\n",
    "[seg_sec61b_dual.py](https://github.com/AllenInstitute/aics-segmentation/blob/master/aicssegmentation/structure_wrapper/seg_sec61b_dual.py)\n",
    "\n",
    "[playground_Sec61b.ipynb](https://github.com/AllenInstitute/aics-segmentation/blob/master/lookup_table_demo/playground_Sec61b.ipynb)\n",
    "\n",
    "\n",
    "### steps\n",
    "\n",
    "INPUT\n",
    "- ch 6\n",
    "- cytosol mask\n",
    "\n",
    "PRE-PROCESSING\n",
    "- edge preserving scaling\n",
    "\n",
    "CORE-PROCESSING\n",
    "- vesselness slice-by-slice\n",
    "\n",
    "POST-PROCESSING\n",
    "  - S  - remove objects less than 2x2 pixels (area = 4)\n",
    "\n",
    "OUTPUT\n",
    "- object **er** \n",
    "\n"
   ]
  },
  {
   "cell_type": "markdown",
   "metadata": {},
   "source": [
    "\n",
    "------------------------\n",
    "# LOAD RAW IMAGE DATA\n",
    "Identify path to _raw_ image data and load our example image\n"
   ]
  },
  {
   "cell_type": "code",
   "execution_count": 14,
   "metadata": {},
   "outputs": [
    {
     "name": "stderr",
     "output_type": "stream",
     "text": [
      "/opt/anaconda3/envs/napariNEW/lib/python3.9/site-packages/ome_types/_convenience.py:105: FutureWarning: The default XML parser will be changing from 'xmlschema' to 'lxml' in version 0.4.0.  To silence this warning, please provide the `parser` argument, specifying either 'lxml' (to opt into the new behavior), or'xmlschema' (to retain the old behavior).\n",
      "  d = to_dict(os.fspath(xml), parser=parser, validate=validate)\n"
     ]
    }
   ],
   "source": [
    "data_root_path = Path(os.path.expanduser(\"~\")) / \"Projects/Imaging/data\"\n",
    "\n",
    "# linearly unmixed \".czi\" files are here\n",
    "data_path = data_root_path / \"raw\"\n",
    "im_type = \".czi\"\n",
    "\n",
    "# get the list of all files\n",
    "img_file_list = list_image_files(data_path,im_type)\n",
    "test_img_name = img_file_list[test_img_n]\n",
    "\n",
    "img_data,meta_dict = read_czi_image(test_img_name)\n",
    "\n",
    "# get some top-level info about the RAW data\n",
    "channel_names = meta_dict['name']\n",
    "img = meta_dict['metadata']['aicsimage']\n",
    "scale = meta_dict['scale']\n",
    "channel_axis = meta_dict['channel_axis']\n"
   ]
  },
  {
   "cell_type": "markdown",
   "metadata": {},
   "source": [
    "## CHOOZE Z-SLICE\n",
    "\n",
    "Lets find the slice with the most overall intensity..."
   ]
  },
  {
   "cell_type": "code",
   "execution_count": 15,
   "metadata": {},
   "outputs": [
    {
     "name": "stdout",
     "output_type": "stream",
     "text": [
      "choosing _optimal_ z-slice::: 8\n"
     ]
    }
   ],
   "source": [
    "ch_to_agg = ( LYSO_CH ,\n",
    "                        MITO_CH ,\n",
    "                        GOLGI_CH ,\n",
    "                        PEROXI_CH ,\n",
    "                        ER_CH ,\n",
    "                        LIPID_CH )\n",
    "                            \n",
    "nuc_ch = NUC_CH\n",
    "optimal_Z = find_optimal_Z(img_data, nuc_ch, ch_to_agg) \n",
    "\n"
   ]
  },
  {
   "cell_type": "markdown",
   "metadata": {},
   "source": [
    "Now get the single \"optimal\" slice of all our organelle channels...."
   ]
  },
  {
   "cell_type": "code",
   "execution_count": 16,
   "metadata": {},
   "outputs": [],
   "source": [
    "img_2D = select_z_from_raw(img_data, optimal_Z)\n"
   ]
  },
  {
   "cell_type": "markdown",
   "metadata": {},
   "source": [
    "## Collect the ***cytosol*** mask\n",
    "\n",
    "i.e. inferred soma, nuclei and cytosol objects\n",
    "(takes < 1 sec)"
   ]
  },
  {
   "cell_type": "code",
   "execution_count": 17,
   "metadata": {},
   "outputs": [],
   "source": [
    "soma_mask =  fixed_infer_soma(img_2D) \n",
    "\n",
    "nuclei_object =  fixed_infer_nuclei(img_2D, soma_mask) \n",
    "cytosol_mask =  infer_cytosol( nuclei_object,soma_mask) \n",
    "\n"
   ]
  },
  {
   "cell_type": "markdown",
   "metadata": {},
   "source": [
    "## Build  ***ER***  specific inference workflow\n",
    "\n"
   ]
  },
  {
   "cell_type": "markdown",
   "metadata": {},
   "source": [
    "### INPUT"
   ]
  },
  {
   "cell_type": "code",
   "execution_count": 18,
   "metadata": {},
   "outputs": [],
   "source": [
    "###################\n",
    "# INPUT\n",
    "###################\n",
    "# raw_er   = img_2D[ER_CH].copy()\n",
    "raw_er = select_channel_from_raw(img_2D, ER_CH)\n"
   ]
  },
  {
   "cell_type": "markdown",
   "metadata": {},
   "source": [
    "### PRE-PROCESSING"
   ]
  },
  {
   "cell_type": "code",
   "execution_count": 19,
   "metadata": {},
   "outputs": [],
   "source": [
    "###################\n",
    "# PRE_PROCESSING\n",
    "###################\n",
    "struct_img = min_max_intensity_normalization( raw_er)\n",
    "\n",
    "\n",
    "# edge-preserving smoothing (Option 2, used for Sec61B)\n",
    "structure_img_smooth = edge_preserving_smoothing_3d(struct_img)\n",
    "# 10 seconds!!!!  tooooo slow... for maybe no good reason"
   ]
  },
  {
   "cell_type": "markdown",
   "metadata": {},
   "source": [
    "### CORE PROCESSING"
   ]
  },
  {
   "cell_type": "code",
   "execution_count": 20,
   "metadata": {},
   "outputs": [],
   "source": [
    "###################\n",
    "# CORE_PROCESSING\n",
    "###################\n",
    "\n",
    "################################\n",
    "## PARAMETERS for this step ##\n",
    "f2_param = [[1, 0.15]]\n",
    "################################\n",
    "\n",
    "bw = filament_2d_wrapper(structure_img_smooth, f2_param)"
   ]
  },
  {
   "cell_type": "markdown",
   "metadata": {},
   "source": [
    "### POST-PROCESSING"
   ]
  },
  {
   "cell_type": "code",
   "execution_count": 21,
   "metadata": {},
   "outputs": [],
   "source": [
    "\n",
    "###################\n",
    "# POST_PROCESSING\n",
    "###################\n",
    "################################\n",
    "## PARAMETERS for this step ##\n",
    "small_object_width = 4\n",
    "################################\n",
    "er_object = size_filter_2D(bw, \n",
    "                                                min_size= small_object_width**2, \n",
    "                                                connectivity=1)\n",
    "# ################################\n",
    "# ## PARAMETERS for this step ## from seg_sec61b.py\n",
    "# min_area = 15\n",
    "# ################################\n",
    "# bw = remove_small_objects(bw > 0, min_size=min_area, connectivity=1, in_place=False)\n",
    "# # prune slice by slice\n",
    "# for zz in range(bw.shape[0]):\n",
    "#     bw[zz, :, :] = remove_small_objects(bw[zz, :, :], min_size=3, connectivity=1, in_place=False)\n",
    "\n",
    "# ER_object = remove_small_objects(bw > 0, min_size=min_area, connectivity=1, in_place=False)\n",
    "\n"
   ]
  },
  {
   "cell_type": "markdown",
   "metadata": {},
   "source": [
    "#### Visualize with `napari`\n",
    "Visualize the first-pass segmentation and labeling with `napari`."
   ]
  },
  {
   "cell_type": "code",
   "execution_count": 22,
   "metadata": {},
   "outputs": [
    {
     "data": {
      "text/plain": [
       "<Image layer 'er_object' at 0x15447cb50>"
      ]
     },
     "execution_count": 22,
     "metadata": {},
     "output_type": "execute_result"
    }
   ],
   "source": [
    "\n",
    "viewer = napari.view_image(\n",
    "    bw,\n",
    "    scale=scale\n",
    ")\n",
    "\n",
    "\n",
    "viewer.scale_bar.visible = True\n",
    "viewer.add_image(\n",
    "    structure_img_smooth,\n",
    "    scale=scale\n",
    ")\n",
    "\n",
    "viewer.add_image(\n",
    "    er_object,\n",
    "    scale=scale\n",
    ")"
   ]
  },
  {
   "cell_type": "markdown",
   "metadata": {},
   "source": [
    "### Collect into a single `infer_endoplasmic_reticulum` function"
   ]
  },
  {
   "cell_type": "code",
   "execution_count": 23,
   "metadata": {},
   "outputs": [],
   "source": [
    "##########################\n",
    "#  infer_endoplasmic_reticulum\n",
    "##########################\n",
    "def _infer_endoplasmic_reticulum(\n",
    "                                in_img: np.ndarray,\n",
    "                                cytosol_mask: np.ndarray,\n",
    "                                filament_scale : float,\n",
    "                                filament_cut : float,\n",
    "                                small_obj_w: int,\n",
    "                            ) -> np.ndarray:\n",
    "    \"\"\"\n",
    "    Procedure to infer peroxisome from linearly unmixed input.\n",
    "\n",
    "    Parameters:\n",
    "    ------------\n",
    "    in_img: np.ndarray\n",
    "        a 3d image containing all the channels\n",
    "    cytosol_mask: np.ndarray\n",
    "        mask of cytosol\n",
    "    filament_scale: float\n",
    "        scale (log_sigma) for filament filter\n",
    "    filament_cut: float\n",
    "        threshold for filament fitered threshold\n",
    "    small_obj_w: int\n",
    "        minimu object size cutoff for nuclei post-processing\n",
    "    Returns:\n",
    "    -------------\n",
    "    peroxi_object\n",
    "        mask defined extent of peroxisome object\n",
    "    \"\"\"\n",
    "    er_ch = ER_CH\n",
    "    ###################\n",
    "    # EXTRACT\n",
    "    ###################    \n",
    "    er = select_channel_from_raw(in_img, er_ch)\n",
    "\n",
    "    ###################\n",
    "    # PRE_PROCESSING\n",
    "    ###################    \n",
    "    er = min_max_intensity_normalization(er)\n",
    "\n",
    "    # edge-preserving smoothing (Option 2, used for Sec61B)\n",
    "    er = edge_preserving_smoothing_3d(er)\n",
    "\n",
    "   ###################\n",
    "    # CORE_PROCESSING\n",
    "    ###################\n",
    "    # f2_param = [[filament_scale, filament_cut]]\n",
    "    # # f2_param = [[1, 0.15]]  # [scale_1, cutoff_1]\n",
    "    # struct_obj = filament_2d_wrapper(er, f2_param)\n",
    "    struct_obj = filament_filter(er, filament_scale, filament_cut)\n",
    "\n",
    "    ###################\n",
    "    # POST_PROCESSING\n",
    "    ################### \n",
    "    struct_obj = apply_mask(struct_obj, cytosol_mask)\n",
    "\n",
    "    struct_obj = size_filter_2D(struct_obj, \n",
    "                                                    min_size= small_obj_w**2, \n",
    "                                                    connectivity=1)\n",
    "\n",
    "    return struct_obj\n",
    "\n"
   ]
  },
  {
   "cell_type": "code",
   "execution_count": 24,
   "metadata": {},
   "outputs": [],
   "source": [
    "##########################\n",
    "#  fixed_infer_endoplasmic_reticulum\n",
    "##########################\n",
    "def _fixed_infer_endoplasmic_reticulum(in_img: np.ndarray, \n",
    "                                                cytosol_mask: Optional[np.ndarray] = None\n",
    "                                            ) -> np.ndarray:\n",
    "    \"\"\"\n",
    "    Procedure to infer endoplasmic rediculum from linearly unmixed input with *fixed parameters*\n",
    "\n",
    "    Parameters:\n",
    "    ------------\n",
    "    in_img: np.ndarray\n",
    "        a 3d image containing all the channels\n",
    "    cytosol_mask: Optional[np.ndarray] = None\n",
    "        mask\n",
    "\n",
    "    Returns:\n",
    "    -------------\n",
    "    peroxi_object\n",
    "        mask defined extent of peroxisome object\n",
    "    \"\"\"\n",
    "    filament_scale = 1\n",
    "    filament_cut = 0.15\n",
    "    small_obj_w = 2 \n",
    "    return _infer_endoplasmic_reticulum(  in_img,\n",
    "                                cytosol_mask,\n",
    "                                filament_scale,\n",
    "                                filament_cut ,\n",
    "                                small_obj_w)\n",
    "    \n",
    "    "
   ]
  },
  {
   "cell_type": "markdown",
   "metadata": {},
   "source": [
    "# TEST  `_infer_endoplasmic_reticulum` function"
   ]
  },
  {
   "cell_type": "code",
   "execution_count": 25,
   "metadata": {},
   "outputs": [],
   "source": [
    "\n",
    "_er_object =  _fixed_infer_endoplasmic_reticulum(img_2D, cytosol_mask) \n"
   ]
  },
  {
   "cell_type": "code",
   "execution_count": 26,
   "metadata": {},
   "outputs": [],
   "source": [
    "from infer_subc_2d.organelles import fixed_infer_endoplasmic_reticulum\n",
    "\n",
    "er_object =  fixed_infer_endoplasmic_reticulum(img_2D, cytosol_mask) \n"
   ]
  },
  {
   "cell_type": "code",
   "execution_count": 27,
   "metadata": {},
   "outputs": [
    {
     "data": {
      "text/plain": [
       "<Image layer '_er_object' at 0x19615fc40>"
      ]
     },
     "execution_count": 27,
     "metadata": {},
     "output_type": "execute_result"
    }
   ],
   "source": [
    "\n",
    "viewer.add_image(\n",
    "    er_object,\n",
    "    scale=scale\n",
    ")\n",
    "viewer.add_labels(\n",
    "    label(er_object),\n",
    "    scale=scale\n",
    ")\n",
    "\n",
    "\n",
    "viewer.add_image(\n",
    "    _er_object,\n",
    "    scale=scale\n",
    ")"
   ]
  },
  {
   "cell_type": "code",
   "execution_count": 29,
   "metadata": {},
   "outputs": [
    {
     "data": {
      "image/png": "[encoded data removed]",
      "text/html": [
       "<img src=\"data:image/png;base64,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\"></img>"
      ],
      "text/plain": [
       "<napari.utils.notebook_display.NotebookScreenshot at 0x1962ac670>"
      ]
     },
     "execution_count": 29,
     "metadata": {},
     "output_type": "execute_result"
    }
   ],
   "source": [
    "from napari.utils.notebook_display import nbscreenshot\n",
    "\n",
    "# viewer.dims.ndisplay = 3\n",
    "# viewer.camera.angles = (-30, 25, 120)\n",
    "nbscreenshot(viewer, canvas_only=True)"
   ]
  },
  {
   "cell_type": "code",
   "execution_count": 1,
   "metadata": {},
   "outputs": [
    {
     "name": "stdout",
     "output_type": "stream",
     "text": [
      "function fixed_infer_er is already in all_functions.json\n",
      "overwriting  fixed_infer_er\n"
     ]
    },
    {
     "data": {
      "text/plain": [
       "1"
      ]
     },
     "execution_count": 1,
     "metadata": {},
     "output_type": "execute_result"
    }
   ],
   "source": [
    "from infer_subc_2d.organelles_config.helper import add_function_spec_to_widget_json\n",
    "\n",
    "_fixed_infer_er =  {\n",
    "        \"name\": \"infer endoplasmic reticulum  (fixed parameters)\",\n",
    "        \"python::module\": \"infer_subc_2d.organelles\",\n",
    "        \"python::function\": \"fixed_infer_endoplasmic_reticulum\",\n",
    "        \"parameters\": None\n",
    "        }\n",
    "\n",
    "add_function_spec_to_widget_json(\"fixed_infer_er\",_fixed_infer_er, overwrite=True)"
   ]
  },
  {
   "cell_type": "code",
   "execution_count": 31,
   "metadata": {},
   "outputs": [
    {
     "name": "stdout",
     "output_type": "stream",
     "text": [
      "function infer_er is already in all_functions.json\n",
      "overwriting  infer_er\n"
     ]
    },
    {
     "data": {
      "text/plain": [
       "1"
      ]
     },
     "execution_count": 31,
     "metadata": {},
     "output_type": "execute_result"
    }
   ],
   "source": [
    "\n",
    "_infer_er =  {\n",
    "        \"name\": \"Infer Endoplasmic Reticulum\",\n",
    "        \"python::module\": \"infer_subc_2d.organelles\",\n",
    "        \"python::function\": \"infer_endoplasmic_reticulum\",\n",
    "        \"parameters\": {\n",
    "                \"filament_scale\": {\n",
    "                        \"data_type\": \"float\",\n",
    "                        \"increment\": 0.05,\n",
    "                        \"max\": 10,\n",
    "                        \"min\": 0,\n",
    "                        \"widget_type\": \"slider\"\n",
    "                },\n",
    "                \"filament_cut\": {\n",
    "                        \"data_type\": \"float\",\n",
    "                        \"increment\": 0.001,\n",
    "                        \"max\": 0.5,\n",
    "                        \"min\": 0,\n",
    "                        \"widget_type\": \"slider\"\n",
    "                },\n",
    "                \"small_obj_w\": {\n",
    "                        \"data_type\": \"int\",\n",
    "                        \"increment\": 1,\n",
    "                        \"max\": 50,\n",
    "                        \"min\": 1,\n",
    "                        \"widget_type\": \"slider\"\n",
    "                }\n",
    "        }\n",
    "}\n",
    "\n",
    "add_function_spec_to_widget_json(\"infer_er\", _infer_er, overwrite=True )\n",
    "\n"
   ]
  },
  {
   "cell_type": "code",
   "execution_count": 32,
   "metadata": {},
   "outputs": [
    {
     "name": "stdout",
     "output_type": "stream",
     "text": [
      "function filament_filter is already in all_functions.json\n",
      "overwriting  filament_filter\n"
     ]
    },
    {
     "data": {
      "text/plain": [
       "1"
      ]
     },
     "execution_count": 32,
     "metadata": {},
     "output_type": "execute_result"
    }
   ],
   "source": [
    "\n",
    "_filament_filter =  {\n",
    "        \"name\": \"filament filter thresholding\",\n",
    "        \"python::module\": \"infer_subc_2d.utils.img\",\n",
    "        \"python::function\": \"filament_filter\",\n",
    "        \"parameters\": {\n",
    "                \"filament_scale\": {\n",
    "                        \"data_type\": \"float\",\n",
    "                        \"increment\": 0.05,\n",
    "                        \"max\": 10,\n",
    "                        \"min\": 0,\n",
    "                        \"widget_type\": \"slider\"\n",
    "                },\n",
    "                \"filament_cut\": {\n",
    "                        \"data_type\": \"float\",\n",
    "                        \"increment\": 0.001,\n",
    "                        \"max\": 0.5,\n",
    "                        \"min\": 0,\n",
    "                        \"widget_type\": \"slider\"\n",
    "                },\n",
    "        }\n",
    "}\n",
    "\n",
    "add_function_spec_to_widget_json(\"filament_filter\", _filament_filter, overwrite=True )\n",
    "\n"
   ]
  },
  {
   "cell_type": "code",
   "execution_count": 33,
   "metadata": {},
   "outputs": [],
   "source": [
    "from infer_subc_2d.constants import ER_CH\n",
    "def make_infer_er_step_by_step_from_raw_dict():\n",
    "    \"\"\"\n",
    "    Procedure to infer mitochondria from linearly unmixed input from raw\n",
    "\n",
    "    \"\"\"\n",
    "    step_name = []\n",
    "    function_name = []\n",
    "    category =[]\n",
    "    parameter_values = []\n",
    "    parent = []\n",
    "   \n",
    "    ###################\n",
    "    # EXTRACT\n",
    "    ###################   \n",
    "    step_name = []\n",
    "    function_name = []\n",
    "    category =[]\n",
    "    parameter_values = []\n",
    "    parent = []\n",
    "   \n",
    "    ###################\n",
    "    # EXTRACT\n",
    "    ###################   \n",
    "\n",
    "    step_name.append(\"1\")\n",
    "    function_name.append(\"fixed_get_optimal_Z_img\")\n",
    "    category.append(\"extraction\")\n",
    "    parameter_values.append(None)\n",
    "    parent.append(0)\n",
    "\n",
    "    step_name.append(\"2\")\n",
    "    function_name.append(\"fixed_infer_soma\")\n",
    "    category.append(\"extraction\")\n",
    "    parameter_values.append( None )\n",
    "    parent.append(1)\n",
    "\n",
    "    step_name.append(\"3\")\n",
    "    function_name.append(\"fixed_infer_nuclei\")\n",
    "    category.append(\"extraction\")\n",
    "    parameter_values.append( None )\n",
    "    parent.append([1,2])\n",
    "\n",
    "    step_name.append(\"4\")\n",
    "    function_name.append(\"infer_cytosol\")\n",
    "    category.append(\"extraction\")\n",
    "    parameter_values.append(dict(erode_nuclei = True ))\n",
    "    parent.append([2,3])\n",
    "\n",
    "    step_name.append(\"5\")\n",
    "    function_name.append(\"select_channel_from_raw\")\n",
    "    category.append(\"extraction\")\n",
    "    parameter_values.append( dict(chan = ER_CH) )\n",
    "    parent.append(1)\n",
    "    \n",
    "    step_name.append(\"6\")\n",
    "    function_name.append(\"min_max_intensity_normalization\")\n",
    "    category.append(\"preprocessing\")\n",
    "    parameter_values.append(None)\n",
    "    parent.append(5)\n",
    "\n",
    "    step_name.append(\"7\")\n",
    "    function_name.append(\"edge_preserving_smoothing\")\n",
    "    category.append(\"preprocessing\")\n",
    "    parameter_values.append(None)\n",
    "    parent.append(6)\n",
    "\n",
    "    step_name.append(\"8\")\n",
    "    function_name.append(\"filament_filter\") \n",
    "    category.append(\"core\")\n",
    "    parameter_values.append( dict( filament_scale=1., filament_cut=.15) )\n",
    "    parent.append(7)\n",
    "\n",
    "    step_name.append(\"9\")\n",
    "    function_name.append(\"apply_mask\")\n",
    "    category.append(\"postprocessing\")\n",
    "    parameter_values.append(None)\n",
    "    parent.append([8,4])\n",
    "\n",
    "    step_name.append(\"10\")\n",
    "    function_name.append(\"size_filter_2D\")\n",
    "    category.append(\"postprocessing\")\n",
    "    parameter_values.append(dict( min_size = 2**2  ))\n",
    "    parent.append(9)\n",
    "\n",
    "    out_dict = dict()\n",
    "    for i,stepn in enumerate(step_name):\n",
    "        entry = dict(category=category[i],\n",
    "                            function=function_name[i],\n",
    "                            parameter_values=parameter_values[i],\n",
    "                            parent=parent[i]\n",
    "        )\n",
    "        if entry['parameter_values'] is None:\n",
    "            _ = entry.pop('parameter_values')\n",
    "        out_dict[stepn] = entry\n",
    "    \n",
    "    return out_dict\n",
    "\n"
   ]
  },
  {
   "cell_type": "code",
   "execution_count": 34,
   "metadata": {},
   "outputs": [
    {
     "data": {
      "text/plain": [
       "PosixPath('/Users/ahenrie/Projects/Imaging/infer-subc-2D/infer_subc_2d/organelles_config/conf_1.8.er_stepbystep_from_raw.json')"
      ]
     },
     "execution_count": 34,
     "metadata": {},
     "output_type": "execute_result"
    }
   ],
   "source": [
    "from infer_subc_2d.organelles_config.helper import write_workflow_json\n",
    "\n",
    "infer_er_stepbystep_from_raw_dict = make_infer_er_step_by_step_from_raw_dict()\n",
    "\n",
    "write_workflow_json(\"conf_1.8.er_stepbystep_from_raw\", infer_er_stepbystep_from_raw_dict)"
   ]
  },
  {
   "cell_type": "code",
   "execution_count": 35,
   "metadata": {},
   "outputs": [
    {
     "ename": "",
     "evalue": "",
     "output_type": "error",
     "traceback": [
      "\u001b[1;31mThe Kernel crashed while executing code in the the current cell or a previous cell. Please review the code in the cell(s) to identify a possible cause of the failure. Click <a href='https://aka.ms/vscodeJupyterKernelCrash'>here</a> for more info. View Jupyter <a href='command:jupyter.viewOutput'>log</a> for further details."
     ]
    }
   ],
   "source": [
    "viewer.close()"
   ]
  },
  {
   "cell_type": "markdown",
   "metadata": {},
   "source": [
    "---------------------\n",
    "\n",
    " 🚧 WIP 🚧 (🚨🚨🚨🚨 )\n",
    "\n",
    "# WORKFLOW #2 (WIP)\n",
    "as per 6/22 CellProfiler pipeline from MCZ\n",
    " \n",
    "## summary of steps\n",
    "\n",
    "INPUT\n",
    "- ch 6\n",
    "- CY mask\n",
    "\n",
    "PRE-PROCESSING\n",
    "- rescale \n",
    "- median window:4\n",
    "- non-local noise reduction\n",
    "  - size:5, distance:1, cut-off:0.1\n",
    "- identify \"TUBES\"\n",
    "  - enhance neurites\n",
    "    - > Neurites: Neurites are taken to be long, thin features of enhanced intensity. Choose this option to enhance the intensity of the neurites using the Line structures or Tubeness methods described in a later setting.  \n",
    "    - method: tubeness\n",
    "    - > Tubeness: This method is an adaptation of the method used by the ImageJ Tubeness plugin. The image is smoothed with a Gaussian. The Hessian is then computed at every point to measure the intensity gradient and the eigenvalues of the Hessian are computed to determine the magnitude of the intensity. The absolute maximum of the two eigenvalues gives a measure of the ratio of the intensity of the gradient in the direction of its most rapid descent versus in the orthogonal direction. The output image is the absolute magnitude of the highest eigenvalue if that eigenvalue is negative (white neurite on dark background), otherwise, zero. \n",
    "    - smoothing: 2 pix\n",
    "\n",
    "CORE-PROCESSING\n",
    "- identify primary objects \"TUBES\"\n",
    "    - adaptive Sauvola\n",
    "      - threshold smoothing scale: 0\n",
    "      - threshold correction factor: .6\n",
    "      - threshold bounds: (0. ,1.0)\n",
    "      - adaptive window: 20 pixels\n",
    "- identify primary objects \"SHEETS\"\n",
    "  - ER masked w/ CY\n",
    "  - adaptive Otsu\n",
    "      - diameter: (2,50)\n",
    "    - two classes\n",
    "      - threshold smoothing scale: 0\n",
    "      - threshold correction factor: 1\n",
    "      - threshold bounds: (0.18, .25)\n",
    "      - adaptive window: 10 pixels\n",
    "- combine \"TUBES\" and \"SHEETS\"\n",
    "\n",
    "\n",
    "\n",
    "OUTPUT\n",
    "- object ER\n",
    "\n",
    "\n"
   ]
  },
  {
   "cell_type": "markdown",
   "metadata": {},
   "source": [
    "### INPUT"
   ]
  },
  {
   "cell_type": "code",
   "execution_count": null,
   "metadata": {},
   "outputs": [],
   "source": [
    "\n",
    "###################\n",
    "# INPUT\n",
    "###################\n",
    "struct_img_raw = img_data[5,:,:,:].copy()\n",
    "\n",
    "# DEFAULT PARAMETERS:\n",
    "intensity_norm_param = [3.5, 15] # from Allen Cell Segmenter LAMP1  workflow\n",
    "scaling_param = [0]\n",
    "gaussian_smoothing_sigma = 1.\n",
    "gaussian_smoothing_truncate_range = 3.0\n",
    "dot_2d_sigma = 2\n",
    "dot_2d_sigma_extra = 1\n",
    "dot_2d_cutoff = 0.025\n",
    "min_area = 10\n",
    "low_level_min_size =  100\n",
    "\n",
    "med_filter_size =2  \n",
    "\n",
    "gaussian_smoothing_sigma = 10\n",
    "gaussian_smoothing_truncate_range = 3.0\n",
    "\n",
    "aicssegmentation.core.pre_processing_utils.suggest_normalization_param(struct_img_raw) #  [0., 23]\n"
   ]
  },
  {
   "cell_type": "markdown",
   "metadata": {},
   "source": [
    "### PRE-PROCESSING"
   ]
  },
  {
   "cell_type": "code",
   "execution_count": null,
   "metadata": {},
   "outputs": [],
   "source": [
    "###################\n",
    "# PRE_PROCESSING\n",
    "###################\n",
    "\n",
    "intensity_norm_param = [0] # \n",
    "\n",
    "# Linear-ish smoothing\n",
    "raw_mito = intensity_normalization( struct_img_raw ,  scaling_param=intensity_norm_param)\n",
    "\n",
    "med_filter_size =3  \n",
    "\n",
    "gaussian_smoothing_sigma = 1.3\n",
    "gaussian_smoothing_truncate_range = 3.0\n",
    "\n",
    "struct_img = median_filter(raw_mito,    size=med_filter_size  )\n",
    "\n",
    "structure_img_smooth = image_smoothing_gaussian_3d(   struct_img,\n",
    "                                                                                                                        sigma=gaussian_smoothing_sigma,\n",
    "                                                                                                                        truncate_range=gaussian_smoothing_truncate_range,\n",
    "                                                                                                                    )\n",
    "\n",
    "\n",
    "# log_img, d = log_transform( structure_img_smooth ) \n",
    "# struct_img = intensity_normalization(  log_img  ,  scaling_param=[0] )  \n",
    "\n",
    "struct_img = structure_img_smooth"
   ]
  },
  {
   "cell_type": "markdown",
   "metadata": {},
   "source": [
    "### CORE PROCESSING"
   ]
  },
  {
   "cell_type": "code",
   "execution_count": null,
   "metadata": {},
   "outputs": [],
   "source": [
    "# enhance spreckles - 40\n",
    "big_struct_rad = 40\n",
    "big_img = _enhance_speckles(struct_img.copy(),big_struct_rad, True)\n",
    "\n"
   ]
  },
  {
   "cell_type": "code",
   "execution_count": null,
   "metadata": {},
   "outputs": [],
   "source": [
    "\n",
    "# enhance spreckles - 10\n",
    "sm_struct_rad = 20\n",
    "sm_img = _enhance_speckles(struct_img.copy(),sm_struct_rad, True)\n",
    "\n",
    "\n",
    "#adaptive_otsu(big_struct) # three class - middle foreground\n",
    "# adaptive window- 20\n",
    "#size: 10,100\n",
    "# threshold smooth 1.34\n",
    "# threshold correction 1\n",
    "# threshold (0.1497,1)\n",
    "#fill holes\n",
    "# \"adatpive\" thresholds are NOT currently working... will use      \n",
    "# \"Masked Object Thresholding\" - 3D\n",
    "low_level_min_size = 10\n",
    "bw_big, _bw_low_level = MO(big_img, \n",
    "                                                global_thresh_method='ave', \n",
    "                                                object_minArea=low_level_min_size, \n",
    "                                                extra_criteria=True,\n",
    "                                                local_adjust= 0.5, \n",
    "                                                return_object=True,\n",
    "                                                dilate=True)\n",
    " # or this?                                               \n",
    "#    struct_obj = struct_img > filters.threshold_otsu(struct_img)\n",
    "#     threshold_value_log = threshold_otsu_log(struct_img)\n",
    "\n",
    "#     thresh_factor = 0.9 #from cellProfiler\n",
    "#     thresh_min = .1\n",
    "#     thresh_max = 1.\n",
    "#     threshold = min( max(threshold_value_log*thresh_factor, thresh_min), thresh_max)\n",
    "#     struct_obj = struct_img > threshold\n",
    "\n",
    "\n",
    "# enhance speckles\n",
    "#   adaptive_sauvola(sm_struct) \n",
    "# adaptive window- 10\n",
    "#size: 2,10\n",
    "# threshold smooth 1.34\n",
    "# threshold correction 1\n",
    "# threshold (0.05,1)\n",
    "#fill holes\n",
    "# \"adatpive\" thresholds are NOT currently working... will use      \n",
    "# \"Masked Object Thresholding\" - 3D\n",
    "low_level_min_size = 2\n",
    "bw_sm, _bw_low_level = MO(sm_img, \n",
    "                                                global_thresh_method='ave', \n",
    "                                                object_minArea=low_level_min_size, \n",
    "                                                extra_criteria=True,\n",
    "                                                local_adjust= 0.5, \n",
    "                                                return_object=True,\n",
    "                                                dilate=True)\n",
    " # or this?                                               \n",
    "#    struct_obj = struct_img > filters.threshold_otsu(struct_img)\n",
    "#     threshold_value_log = threshold_otsu_log(struct_img)\n",
    "#     thresh_factor = 0.9 #from cellProfiler\n",
    "#     thresh_min = .1\n",
    "#     thresh_max = 1.\n",
    "#     threshold = min( max(threshold_value_log*thresh_factor, thresh_min), thresh_max)\n",
    "#     struct_obj = struct_img > threshold\n",
    "\n"
   ]
  },
  {
   "cell_type": "markdown",
   "metadata": {},
   "source": [
    "### POST-PROCESSING"
   ]
  },
  {
   "cell_type": "code",
   "execution_count": null,
   "metadata": {},
   "outputs": [],
   "source": [
    "###################\n",
    "# POST_PROCESSING\n",
    "###################\n",
    "\n",
    "\n",
    "# 3D\n",
    "# cleaned_img = remove_small_objects(removed_holes>0, \n",
    "#                                                             min_size=minArea, \n",
    "#                                                             connectivity=1, \n",
    "#                                                             in_place=False)\n",
    "small_object_width = 10\n",
    "cleaned_img_big = size_filter(bw_big, # wrapper to remove_small_objects which can do slice by slice\n",
    "                                                         min_size= small_object_width**2,\n",
    "                                                         method = \"slice_by_slice\",\n",
    "                                                         connectivity=1)\n",
    "\n",
    "\n",
    "#                                                             in_place=False)\n",
    "small_object_width = 2\n",
    "cleaned_img_sm = size_filter(bw_sm, # wrapper to remove_small_objects which can do slice by slice\n",
    "                                                         min_size= small_object_width**2,\n",
    "                                                         method = \"slice_by_slice\",\n",
    "                                                         connectivity=1)\n",
    "\n",
    "\n",
    "\n",
    "cleaned_img = np.logical_or(cleaned_img_big, cleaned_img_sm)\n",
    "\n"
   ]
  },
  {
   "cell_type": "markdown",
   "metadata": {},
   "source": [
    "#### Visualize with `napari`\n",
    "Visualize the first-pass segmentation and labeling with `napari`."
   ]
  },
  {
   "cell_type": "code",
   "execution_count": null,
   "metadata": {},
   "outputs": [],
   "source": [
    "\n",
    "if viewer is None:\n",
    "    viewer = napari.view_image(\n",
    "        cleaned_img,\n",
    "        scale=scale\n",
    "    )\n",
    "else: \n",
    "    viewer.add_image(\n",
    "        cleaned_img,\n",
    "        scale=scale\n",
    "    )\n",
    "\n",
    "viewer.scale_bar.visible = True\n",
    "viewer.add_image(\n",
    "    cleaned_img_big,\n",
    "    scale=scale\n",
    ")\n",
    "\n",
    "viewer.add_image(\n",
    "    big_img,\n",
    "    scale=scale\n",
    ")\n",
    "viewer.add_image(\n",
    "    cleaned_img_big,\n",
    "    scale=scale\n",
    ")\n",
    "viewer.add_image(\n",
    "    sm_img,\n",
    "    scale=scale\n",
    ")"
   ]
  },
  {
   "cell_type": "markdown",
   "metadata": {},
   "source": []
  }
 ],
 "metadata": {
  "kernelspec": {
   "display_name": "Python 3.9.13 ('napariNEW')",
   "language": "python",
   "name": "python3"
  },
  "language_info": {
   "codemirror_mode": {
    "name": "ipython",
    "version": 3
   },
   "file_extension": ".py",
   "mimetype": "text/x-python",
   "name": "python",
   "nbconvert_exporter": "python",
   "pygments_lexer": "ipython3",
   "version": "3.9.13"
  },
  "orig_nbformat": 4,
  "vscode": {
   "interpreter": {
    "hash": "d6148ef1fb015fb20f0b6da2ea61c87c6b848bdf3dabb03087e5d5cd0c4607e9"
   }
  }
 },
 "nbformat": 4,
 "nbformat_minor": 2
}
