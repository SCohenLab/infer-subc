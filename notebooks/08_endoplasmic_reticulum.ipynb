{
 "cells": [
  {
   "cell_type": "markdown",
   "metadata": {},
   "source": [
    "# Infer ***endoplasmic reticulum*** - part 8️⃣\n",
    "\n",
    "--------------\n",
    "\n",
    "## OBJECTIVE:  ✅ Infer sub-cellular component ***endoplasmic reticulum*** (***ER***) in order to understand interactome \n",
    "\n",
    "\n",
    "\n",
    "Dependencies:\n",
    "The ***ER***  inference rely on the cytosol mask.\n"
   ]
  },
  {
   "cell_type": "markdown",
   "metadata": {},
   "source": [
    "\n",
    "## IMPORTS"
   ]
  },
  {
   "cell_type": "code",
   "execution_count": 1,
   "metadata": {},
   "outputs": [],
   "source": [
    "# top level imports\n",
    "from pathlib import Path\n",
    "import os, sys\n",
    "from collections import defaultdict\n",
    "\n",
    "import numpy as np\n",
    "from typing import Optional\n",
    "\n",
    "import aicssegmentation\n",
    "from aicssegmentation.core.pre_processing_utils import ( intensity_normalization, \n",
    "                                                         image_smoothing_gaussian_3d,  \n",
    "                                                         edge_preserving_smoothing_3d )\n",
    "from aicssegmentation.core.utils import topology_preserving_thinning, size_filter\n",
    "from aicssegmentation.core.MO_threshold import MO\n",
    "from aicssegmentation.core.utils import hole_filling\n",
    "from aicssegmentation.core.vessel import filament_2d_wrapper, vesselnessSliceBySlice\n",
    "from aicssegmentation.core.output_utils import   save_segmentation,  generate_segmentation_contour\n",
    "                                                 \n",
    "from skimage import filters\n",
    "from skimage.segmentation import watershed\n",
    "from skimage.feature import peak_local_max\n",
    "from skimage.morphology import remove_small_objects, binary_closing, ball , dilation, remove_small_holes   # function for post-processing (size filter)\n",
    "from skimage.measure import label\n",
    "\n",
    "# # package for io \n",
    "from aicsimageio import AICSImage\n",
    "\n",
    "import napari\n",
    "\n",
    "### import local python functions in ../infer_subc_2d\n",
    "sys.path.append(os.path.abspath((os.path.join(os.getcwd(), '..'))))\n",
    "from infer_subc_2d.utils.file_io import (read_czi_image, \n",
    "                                                                    list_image_files)\n",
    "from infer_subc_2d.utils.img import *\n",
    "from infer_subc_2d.constants import (TEST_IMG_N,\n",
    "                                                                    NUC_CH ,\n",
    "                                                                    LYSO_CH ,\n",
    "                                                                    MITO_CH ,\n",
    "                                                                    GOLGI_CH ,\n",
    "                                                                    PEROXI_CH ,\n",
    "                                                                    ER_CH ,\n",
    "                                                                    LIPID_CH ,\n",
    "                                                                    RESIDUAL_CH )        \n",
    "\n",
    "from infer_subc_2d.organelles import fixed_infer_soma, fixed_infer_nuclei, infer_cytosol, find_optimal_Z\n",
    "\n",
    "\n",
    "%load_ext autoreload\n",
    "%autoreload 2\n",
    "\n",
    "\n",
    "test_img_n = TEST_IMG_N"
   ]
  },
  {
   "cell_type": "markdown",
   "metadata": {},
   "source": [
    "# IMAGE PROCESSING Objective 8:  infer ***ER***\n",
    "> Back to  [OUTLINE: Objective #5](00_pipeline_setup.ipynb#summary-of-objectives)\n",
    "\n",
    "## summary of steps\n",
    "\n",
    "Generally following the Allen Cell Segmenter procedure, but doing more aggressive contrast scaling than their prescribed contrast scaling.\n",
    "\n",
    ">sec61beta  is  good start for ER  as per from [Allen Cell](https://www.allencell.org/cell-observations/category/endoplasmic-reticulum).    \n",
    "\n",
    "using [seg_sec61b.py](https://github.com/AllenInstitute/aics-segmentation/blob/master/aics-segmentation/aicssegmentation/structure_wrapper/seg_sec61b.py)\n",
    "[seg_sec61b_dual.py](https://github.com/AllenInstitute/aics-segmentation/blob/master/aicssegmentation/structure_wrapper/seg_sec61b_dual.py)\n",
    "\n",
    "[playground_Sec61b.ipynb](https://github.com/AllenInstitute/aics-segmentation/blob/master/lookup_table_demo/playground_Sec61b.ipynb)\n",
    "\n",
    "\n",
    "### steps\n",
    "\n",
    "INPUT\n",
    "- ch 6\n",
    "- cytosol mask\n",
    "\n",
    "PRE-PROCESSING\n",
    "- edge preserving scaling\n",
    "\n",
    "CORE-PROCESSING\n",
    "- vesselness slice-by-slice\n",
    "\n",
    "POST-PROCESSING\n",
    "  - S  - remove objects less than 2x2 pixels (area = 4)\n",
    "\n",
    "OUTPUT\n",
    "- object **er** \n",
    "\n"
   ]
  },
  {
   "cell_type": "markdown",
   "metadata": {},
   "source": [
    "\n",
    "------------------------\n",
    "# LOAD RAW IMAGE DATA\n",
    "Identify path to _raw_ image data and load our example image\n"
   ]
  },
  {
   "cell_type": "code",
   "execution_count": 2,
   "metadata": {},
   "outputs": [
    {
     "name": "stderr",
     "output_type": "stream",
     "text": [
      "/opt/anaconda3/envs/napariNEW/lib/python3.9/site-packages/ome_types/_convenience.py:105: FutureWarning: The default XML parser will be changing from 'xmlschema' to 'lxml' in version 0.4.0.  To silence this warning, please provide the `parser` argument, specifying either 'lxml' (to opt into the new behavior), or'xmlschema' (to retain the old behavior).\n",
      "  d = to_dict(os.fspath(xml), parser=parser, validate=validate)\n"
     ]
    }
   ],
   "source": [
    "data_root_path = Path(os.path.expanduser(\"~\")) / \"Projects/Imaging/data\"\n",
    "\n",
    "# linearly unmixed \".czi\" files are here\n",
    "data_path = data_root_path / \"raw\"\n",
    "im_type = \".czi\"\n",
    "\n",
    "# get the list of all files\n",
    "img_file_list = list_image_files(data_path,im_type)\n",
    "test_img_name = img_file_list[test_img_n]\n",
    "\n",
    "img_data,meta_dict = read_czi_image(test_img_name)\n",
    "\n",
    "# get some top-level info about the RAW data\n",
    "channel_names = meta_dict['name']\n",
    "img = meta_dict['metadata']['aicsimage']\n",
    "scale = meta_dict['scale']\n",
    "channel_axis = meta_dict['channel_axis']\n"
   ]
  },
  {
   "cell_type": "markdown",
   "metadata": {},
   "source": [
    "## CHOOZE Z-SLICE\n",
    "\n",
    "Lets find the slice with the most overall intensity..."
   ]
  },
  {
   "cell_type": "code",
   "execution_count": 3,
   "metadata": {},
   "outputs": [],
   "source": [
    "ch_to_agg = ( LYSO_CH ,\n",
    "                        MITO_CH ,\n",
    "                        GOLGI_CH ,\n",
    "                        PEROXI_CH ,\n",
    "                        ER_CH ,\n",
    "                        LIPID_CH )\n",
    "                            \n",
    "nuc_ch = NUC_CH\n",
    "optimal_Z = find_optimal_Z(img_data, nuc_ch, ch_to_agg) \n",
    "\n"
   ]
  },
  {
   "cell_type": "markdown",
   "metadata": {},
   "source": [
    "Now get the single \"optimal\" slice of all our organelle channels...."
   ]
  },
  {
   "cell_type": "code",
   "execution_count": 4,
   "metadata": {},
   "outputs": [],
   "source": [
    "img_2D = select_z_from_raw(img_data, optimal_Z)\n"
   ]
  },
  {
   "cell_type": "markdown",
   "metadata": {},
   "source": [
    "## Collect the ***cytosol*** mask\n",
    "\n",
    "i.e. inferred soma, nuclei and cytosol objects\n",
    "(takes < 1 sec)"
   ]
  },
  {
   "cell_type": "code",
   "execution_count": 5,
   "metadata": {},
   "outputs": [],
   "source": [
    "soma_mask =  fixed_infer_soma(img_2D) \n",
    "\n",
    "nuclei_object =  fixed_infer_nuclei(img_2D, soma_mask) \n",
    "cytosol_mask =  infer_cytosol( nuclei_object,soma_mask) \n",
    "\n"
   ]
  },
  {
   "cell_type": "markdown",
   "metadata": {},
   "source": [
    "## Build  ***ER***  specific inference workflow\n",
    "\n"
   ]
  },
  {
   "cell_type": "markdown",
   "metadata": {},
   "source": [
    "### INPUT"
   ]
  },
  {
   "cell_type": "code",
   "execution_count": 6,
   "metadata": {},
   "outputs": [],
   "source": [
    "###################\n",
    "# INPUT\n",
    "###################\n",
    "# raw_er   = img_2D[ER_CH].copy()\n",
    "raw_er = select_channel_from_raw(img_2D, ER_CH)\n"
   ]
  },
  {
   "cell_type": "markdown",
   "metadata": {},
   "source": [
    "### PRE-PROCESSING"
   ]
  },
  {
   "cell_type": "code",
   "execution_count": 7,
   "metadata": {},
   "outputs": [],
   "source": [
    "###################\n",
    "# PRE_PROCESSING\n",
    "###################\n",
    "struct_img = min_max_intensity_normalization( raw_er)\n",
    "\n",
    "\n",
    "# edge-preserving smoothing (Option 2, used for Sec61B)\n",
    "structure_img_smooth = edge_preserving_smoothing_3d(struct_img)\n",
    "# 10 seconds!!!!  tooooo slow... for maybe no good reason"
   ]
  },
  {
   "cell_type": "markdown",
   "metadata": {},
   "source": [
    "### CORE PROCESSING"
   ]
  },
  {
   "cell_type": "code",
   "execution_count": 8,
   "metadata": {},
   "outputs": [],
   "source": [
    "###################\n",
    "# CORE_PROCESSING\n",
    "###################\n",
    "\n",
    "################################\n",
    "## PARAMETERS for this step ##\n",
    "f2_param = [[1, 0.15]]\n",
    "################################\n",
    "\n",
    "bw = filament_2d_wrapper(structure_img_smooth, f2_param)"
   ]
  },
  {
   "cell_type": "markdown",
   "metadata": {},
   "source": [
    "### POST-PROCESSING"
   ]
  },
  {
   "cell_type": "code",
   "execution_count": 9,
   "metadata": {},
   "outputs": [],
   "source": [
    "\n",
    "###################\n",
    "# POST_PROCESSING\n",
    "###################\n",
    "################################\n",
    "## PARAMETERS for this step ##\n",
    "small_object_width = 4\n",
    "################################\n",
    "er_object = size_filter_2D(bw, \n",
    "                                                min_size= small_object_width**2, \n",
    "                                                connectivity=1)\n",
    "# ################################\n",
    "# ## PARAMETERS for this step ## from seg_sec61b.py\n",
    "# min_area = 15\n",
    "# ################################\n",
    "# bw = remove_small_objects(bw > 0, min_size=min_area, connectivity=1, in_place=False)\n",
    "# # prune slice by slice\n",
    "# for zz in range(bw.shape[0]):\n",
    "#     bw[zz, :, :] = remove_small_objects(bw[zz, :, :], min_size=3, connectivity=1, in_place=False)\n",
    "\n",
    "# ER_object = remove_small_objects(bw > 0, min_size=min_area, connectivity=1, in_place=False)\n",
    "\n"
   ]
  },
  {
   "cell_type": "markdown",
   "metadata": {},
   "source": [
    "#### Visualize with `napari`\n",
    "Visualize the first-pass segmentation and labeling with `napari`."
   ]
  },
  {
   "cell_type": "code",
   "execution_count": 10,
   "metadata": {},
   "outputs": [
    {
     "data": {
      "text/plain": [
       "<Image layer 'er_object' at 0x1411fe9d0>"
      ]
     },
     "execution_count": 10,
     "metadata": {},
     "output_type": "execute_result"
    }
   ],
   "source": [
    "\n",
    "viewer = napari.view_image(\n",
    "    bw,\n",
    "    scale=scale\n",
    ")\n",
    "\n",
    "\n",
    "viewer.scale_bar.visible = True\n",
    "viewer.add_image(\n",
    "    structure_img_smooth,\n",
    "    scale=scale\n",
    ")\n",
    "\n",
    "viewer.add_image(\n",
    "    er_object,\n",
    "    scale=scale\n",
    ")"
   ]
  },
  {
   "cell_type": "markdown",
   "metadata": {},
   "source": [
    "### Collect into a single `infer_endoplasmic_reticulum` function"
   ]
  },
  {
   "cell_type": "code",
   "execution_count": 14,
   "metadata": {},
   "outputs": [],
   "source": [
    "##########################\n",
    "#  infer_endoplasmic_reticulum\n",
    "##########################\n",
    "def _infer_endoplasmic_reticulum(\n",
    "                                in_img: np.ndarray,\n",
    "                                cytosol_mask: np.ndarray,\n",
    "                                filament_scale : float,\n",
    "                                filament_cut : float,\n",
    "                                small_obj_w: int,\n",
    "                            ) -> np.ndarray:\n",
    "    \"\"\"\n",
    "    Procedure to infer peroxisome from linearly unmixed input.\n",
    "\n",
    "    Parameters:\n",
    "    ------------\n",
    "    in_img: np.ndarray\n",
    "        a 3d image containing all the channels\n",
    "    cytosol_mask: np.ndarray\n",
    "        mask of cytosol\n",
    "    filament_scale: float\n",
    "        scale (log_sigma) for filament filter\n",
    "    filament_cut: float\n",
    "        threshold for filament fitered threshold\n",
    "    small_obj_w: int\n",
    "        minimu object size cutoff for nuclei post-processing\n",
    "    Returns:\n",
    "    -------------\n",
    "    peroxi_object\n",
    "        mask defined extent of peroxisome object\n",
    "    \"\"\"\n",
    "    er_ch = ER_CH\n",
    "    ###################\n",
    "    # EXTRACT\n",
    "    ###################    \n",
    "    er = select_channel_from_raw(in_img, er_ch)\n",
    "\n",
    "    ###################\n",
    "    # PRE_PROCESSING\n",
    "    ###################    \n",
    "    er = min_max_intensity_normalization(er)\n",
    "\n",
    "    # edge-preserving smoothing (Option 2, used for Sec61B)\n",
    "    er = edge_preserving_smoothing_3d(er)\n",
    "\n",
    "   ###################\n",
    "    # CORE_PROCESSING\n",
    "    ###################\n",
    "    # f2_param = [[filament_scale, filament_cut]]\n",
    "    # # f2_param = [[1, 0.15]]  # [scale_1, cutoff_1]\n",
    "    # struct_obj = filament_2d_wrapper(er, f2_param)\n",
    "    struct_obj = filament_filter(er, filament_scale, filament_cut)\n",
    "\n",
    "    ###################\n",
    "    # POST_PROCESSING\n",
    "    ################### \n",
    "    struct_obj = apply_mask(struct_obj, cytosol_mask)\n",
    "\n",
    "    struct_obj = size_filter_2D(struct_obj, \n",
    "                                                    min_size= small_obj_w**2, \n",
    "                                                    connectivity=1)\n",
    "\n",
    "    return struct_obj\n",
    "\n"
   ]
  },
  {
   "cell_type": "code",
   "execution_count": 15,
   "metadata": {},
   "outputs": [],
   "source": [
    "##########################\n",
    "#  fixed_infer_endoplasmic_reticulum\n",
    "##########################\n",
    "def _fixed_infer_endoplasmic_reticulum(in_img: np.ndarray, \n",
    "                                                cytosol_mask: Optional[np.ndarray] = None\n",
    "                                            ) -> np.ndarray:\n",
    "    \"\"\"\n",
    "    Procedure to infer endoplasmic rediculum from linearly unmixed input with *fixed parameters*\n",
    "\n",
    "    Parameters:\n",
    "    ------------\n",
    "    in_img: np.ndarray\n",
    "        a 3d image containing all the channels\n",
    "    cytosol_mask: Optional[np.ndarray] = None\n",
    "        mask\n",
    "\n",
    "    Returns:\n",
    "    -------------\n",
    "    peroxi_object\n",
    "        mask defined extent of peroxisome object\n",
    "    \"\"\"\n",
    "    filament_scale = 1\n",
    "    filament_cut = 0.15\n",
    "    small_obj_w = 2 \n",
    "    return _infer_endoplasmic_reticulum(  in_img,\n",
    "                                cytosol_mask,\n",
    "                                filament_scale,\n",
    "                                filament_cut ,\n",
    "                                small_obj_w)\n",
    "    \n",
    "    "
   ]
  },
  {
   "cell_type": "markdown",
   "metadata": {},
   "source": [
    "# TEST  `_infer_endoplasmic_reticulum` function"
   ]
  },
  {
   "cell_type": "code",
   "execution_count": 16,
   "metadata": {},
   "outputs": [],
   "source": [
    "\n",
    "_er_object =  _fixed_infer_endoplasmic_reticulum(img_2D, cytosol_mask) \n"
   ]
  },
  {
   "cell_type": "code",
   "execution_count": 17,
   "metadata": {},
   "outputs": [],
   "source": [
    "from infer_subc_2d.organelles import fixed_infer_endoplasmic_reticulum\n",
    "\n",
    "er_object =  fixed_infer_endoplasmic_reticulum(img_2D, cytosol_mask) \n"
   ]
  },
  {
   "cell_type": "code",
   "execution_count": 24,
   "metadata": {},
   "outputs": [
    {
     "data": {
      "text/plain": [
       "<Image layer '_er_object' at 0x18c2a4af0>"
      ]
     },
     "execution_count": 24,
     "metadata": {},
     "output_type": "execute_result"
    }
   ],
   "source": [
    "\n",
    "viewer.add_image(\n",
    "    er_object,\n",
    "    scale=scale\n",
    ")\n",
    "viewer.add_labels(\n",
    "    label(er_object),\n",
    "    scale=scale\n",
    ")\n",
    "\n",
    "\n",
    "viewer.add_image(\n",
    "    _er_object,\n",
    "    scale=scale\n",
    ")"
   ]
  },
  {
   "cell_type": "code",
   "execution_count": 20,
   "metadata": {},
   "outputs": [
    {
     "data": {
      "image/png": "[encoded data removed]",
      "text/html": [
       "<img src=\"data:image/png;base64,iVBORw0KGgoAAAANSUhEUgAADB4AAAdWCAYAAAAXhorqAACrvklEQVR42uzdy5LjurEFUPCG/v+XeQcO2moWN8UHwOdaE/t0l0ggAdWgIzJ3V0rpCwAAAAAAAAAAAAAAwIT/UwIAAAAAAAAAAAAAACDReAAAAAAAAAAAAAAAAEQaDwAAAAAAAAAAAAAAgEjjAQAAAAAAAAAAAAAAEGk8AAAAAAAAAAAAAAAAIo0HAAAAAAAAAAAAAABApPEAAAAAAAAAAAAAAACINB4AAAAAAAAAAAAAAACRxgMAAAAAAAAAAAAAACDSeAAAAAAAAAAAAAAAAEQaDwAAAAAAAAAAAAAAgEjjAQAAAAAAAAAAAAAAEGk8AAAAAAAAAAAAAAAAIo0HAAAAAAAAAAAAAABApPEAAAAAAAAAAAAAAACINB4AAAAAAAAAAAAAAACRxgMAAAAAAAAAAAAAACDSeAAAAAAAAAAAAAAAAEQaDwAAAAAAAAAAAAAAgEjjAQAAAAAAAAAAAAAAEGk8AAAAAAAAAAAAAAAAIo0HAAAAAAAAAAAAAABApPEAAAAAAAAAAAAAAACINB4AAAAAAAAAAAAAAACRxgMAAAAAAAAAAAAAACDSeAAAAAAAAAAAAAAAAEQaDwAAAAAAAAAAAAAAgEjjAQAAAAAAAAAAAAAAEGk8AAAAAAAAAAAAAAAAIo0HAAAAAAAAAAAAAABApPEAAAAAAAAAAAAAAACINB4AAAAAAAAAAAAAAACRxgMAAAAAAAAAAAAAACDSeAAAAAAAAAAAAAAAAEQaDwAAAAAAAAAAAAAAgEjjAQAAAAAAAAAAAAAAEGk8AAAAAAAAAAAAAAAAIo0HAAAAAAAAAAAAAABApPEAAAAAAAAAAAAAAACINB4AAAAAAAAAAAAAAACRxgMAAAAAAAAAAAAAACDSeAAAAAAAAAAAAAAAAEQaDwAAAAAAAAAAAAAAgEjjAQAAAAAAAAAAAAAAEGk8AAAAAAAAAAAAAAAAIo0HAAAAAAAAAAAAAABApPEAAAAAAAAAAAAAAACINB4AAAAAAAAAAAAAAACRxgMAAAAAAAAAAAAAACDSeAAAAAAAAAAAAAAAAEQaDwAAAAAAAAAAAAAAgEjjAQAAAAAAAAAAAAAAEGk8AAAAAAAAAAAAAAAAIo0HAAAAAAAAAAAAAABApPEAAAAAAAAAAAAAAACINB4AAAAAAAAAAAAAAACRxgMAAAAAAAAAAAAAACDSeAAAAAAAAAAAAAAAAEQaDwAAAAAAAAAAAAAAgEjjAQAAAAAAAAAAAAAAEGk8AAAAAAAAAAAAAAAAIo0HAAAAAAAAAAAAAABApPEAAAAAAAAAAAAAAACINB4AAAAAAAAAAAAAAACRxgMAAAAAAAAAAAAAACDSeAAAAAAAAAAAAAAAAEQaDwAAAAAAAAAAAAAAgEjjAQAAAAAAAAAAAAAAEGk8AAAAAAAAAAAAAAAAIo0HAAAAAAAAAAAAAABApPEAAAAAAAAAAAAAAACINB4AAAAAAAAAAAAAAACRxgMAAAAAAAAAAAAAACDSeAAAAAAAAAAAAAAAAEQaDwAAAAAAAAAAAAAAgEjjAQAAAAAAAAAAAAAAEGk8AAAAAAAAAAAAAAAAIo0HAAAAAAAAAAAAAABApPEAAAAAAAAAAAAAAACINB4AAAAAAAAAAAAAAACRxgMAAAAAAAAAAAAAACDSeAAAAAAAAAAAAAAAAEQaDwAAAAAAAAAAAAAAgEjjAQAAAAAAAAAAAAAAEGk8AAAAAAAAAAAAAAAAIo0HAAAAAAAAAAAAAABApPEAAAAAAAAAAAAAAACINB4AAAAAAAAAAAAAAACRxgMAAAAAAAAAAAAAACDSeAAAAAAAAAAAAAAAAEQaDwAAAAAAAAAAAAAAgEjjAQAAAAAAAAAAAAAAEGk8AAAAAAAAAAAAAAAAIo0HAAAAAAAAAAAAAABApPEAAAAAAAAAAAAAAACINB4AAAAAAAAAAAAAAACRxgMAAAAAAAAAAAAAACDSeAAAAAAAAAAAAAAAAEQaDwAAAAAAAAAAAAAAgEjjAQAAAAAAAAAAAAAAEGk8AAAAAAAAAAAAAAAAIo0HAAAAAAAAAAAAAABApPEAAAAAAAAAAAAAAACINB4AAAAAAAAAAAAAAACRxgMAAAAAAAAAAAAAACDSeAAAAAAAAAAAAAAAAEQaDwAAAAAAAAAAAAAAgEjjAQAAAAAAAAAAAAAAEGk8AAAAAAAAAAAAAAAAIo0HAAAAAAAAAAAAAABApPEAAAAAAAAAAAAAAACINB4AAAAAAAAAAAAAAACRxgMAAAAAAAAAAAAAACDSeAAAAAAAAAAAAAAAAEQaDwAAAAAAAAAAAAAAgEjjAQAAAAAAAAAAAAAAEGk8AAAAAAAAAAAAAAAAIo0HAAAAAAAAAAAAAABApPEAAAAAAAAAAAAAAACINB4AAAAAAAAAAAAAAACRxgMAAAAAAAAAAAAAACDSeAAAAAAAAAAAAAAAAEQaDwAAAAAAAAAAAAAAgEjjAQAAAAAAAAAAAAAAEGk8AAAAAAAAAAAAAAAAIo0HAAAAAAAAAAAAAABApPEAAAAAAAAAAAAAAACINB4AAAAAAAAAAAAAAACRxgMAAAAAAAAAAAAAACDSeAAAAAAAAAAAAAAAAEQaDwAAAAAAAAAAAAAAgEjjAQAAAAAAAAAAAAAAEGk8AAAAAAAAAAAAAAAAIo0HAAAAAAAAAAAAAABApPEAAAAAAAAAAAAAAACINB4AAAAAAAAAAAAAAACRxgMAAAAAAAAAAAAAACDSeAAAAAAAAAAAAAAAAEQaDwAAAAAAAAAAAAAAgEjjAQAAAAAAAAAAAAAAEGk8AAAAAAAAAAAAAAAAIo0HAAAAAAAAAAAAAABApPEAAAAAAAAAAAAAAACINB4AAAAAAAAAAAAAAACRxgMAAAAAAAAAAAAAACDSeAAAAAAAAAAAAAAAAEQaDwAAAAAAAAAAAAAAgEjjAQAAAAAAAAAAAAAAEGk8AAAAAAAAAAAAAAAAIo0HAAAAAAAAAAAAAABApPEAAAAAAAAAAAAAAACINB4AAAAAAAAAAAAAAACRxgMAAAAAAAAAAAAAACDSeAAAAAAAAAAAAAAAAEQaDwAAAAAAAAAAAAAAgEjjAQAAAAAAAAAAAAAAEGk8AAAAAAAAAAAAAAAAIo0HAAAAAAAAAAAAAABApPEAAAAAAAAAAAAAAACINB4AAAAAAAAAAAAAAACRxgMAAAAAAAAAAAAAACDSeAAAAAAAAAAAAAAAAEQaDwAAAAAAAAAAAAAAgEjjAQAAAAAAAAAAAAAAEGk8AAAAAAAAAAAAAAAAIo0HAAAAAAAAAAAAAABApPEAAAAAAAAAAAAAAACINB4AAAAAAAAAAAAAAACRxgMAAAAAAAAAAAAAACDSeAAAAAAAAAAAAAAAAEQaDwAAAAAAAAAAAAAAgEjjAQAAAAAAAAAAAAAAEGk8AAAAAAAAAAAAAAAAIo0HAAAAAAAAAAAAAABApPEAAAAAAAAAAAAAAACINB4AAAAAAAAAAAAAAACRxgMAAAAAAAAAAAAAACDSeAAAAAAAAAAAAAAAAEQaDwAAAAAAAAAAAAAAgEjjAQAAAAAAAAAAAAAAEGk8AAAAAAAAAAAAAAAAIo0HAAAAAAAAAAAAAABApPEAAAAAAAAAAAAAAACINB4AAAAAAAAAAAAAAACRxgMAAAAAAAAAAAAAACDSeAAAAAAAAAAAAAAAAEQaDwAAAAAAAAAAAAAAgEjjAQAAAAAAAAAAAAAAEGk8AAAAAAAAAAAAAAAAIo0HAAAAAAAAAAAAAABApPEAAAAAAAAAAAAAAACINB4AAAAAAAAAAAAAAACRxgMAAAAAAAAAAAAAACDSeAAAAAAAAAAAAAAAAEQaDwAAAAAAAAAAAAAAgEjjAQAAAAAAAAAAAAAAEGk8AAAAAAAAAAAAAAAAIo0HAAAAAAAAAAAAAABApPEAAAAAAAAAAAAAAACINB4AAAAAAAAAAAAAAACRxgMAAAAAAAAAAAAAACDSeAAAAAAAAAAAAAAAAEQaDwAAAAAAAAAAAAAAgEjjAQAAAAAAAAAAAAAAEGk8AAAAAAAAAAAAAAAAIo0HAAAAAAAAAAAAAABApPEAAAAAAAAAAAAAAACINB4AAAAAAAAAAAAAAACRxgMAAAAAAAAAAAAAACDSeAAAAAAAAAAAAAAAAEQaDwAAAAAAAAAAAAAAgEjjAQAAAAAAAAAAAAAAEGk8AAAAAAAAAAAAAAAAIo0HAAAAAAAAAAAAAABApPEAAAAAAAAAAAAAAACINB4AAAAAAAAAAAAAAACRxgMAAAAAAAAAAAAAACDSeAAAAAAAAAAAAAAAAEQaDwAAAAAAAAAAAAAAgEjjAQAAAAAAAAAAAAAAEGk8AAAAAAAAAAAAAAAAIo0HAAAAAAAAAAAAAABApPEAAAAAAAAAAAAAAACINB4AAAAAAAAAAAAAAACRxgMAAAAAAAAAAAAAACDSeAAAAAAAAAAAAAAAAEQaDwAAAAAAAAAAAAAAgEjjAQAAAAAAAAAAAAAAEGk8AAAAAAAAAAAAAAAAIo0HAAAAAAAAAAAAAABApPEAAAAAAAAAAAAAAACINB4AAAAAAAAAAAAAAACRxgMAAAAAAAAAAAAAACDSeAAAAAAAAAAAAAAAAEQaDwAAAAAAAAAAAAAAgEjjAQAAAAAAAAAAAAAAEGk8AAAAAAAAAAAAAAAAIo0HAAAAAAAAAAAAAABApPEAAAAAAAAAAAAAAACINB4AAAAAAAAAAAAAAACRxgMAAAAAAAAAAAAAACDSeAAAAAAAAAAAAAAAAEQaDwAAAAAAAAAAAAAAgEjjAQAAAAAAAAAAAAAAEGk8AAAAAAAAAAAAAAAAIo0HAAAAAAAAAAAAAABApPEAAAAAAAAAAAAAAACINB4AAAAAAAAAAAAAAACRxgMAAAAAAAAAAAAAACDSeAAAAAAAAAAAAAAAAEQaDwAAAAAAAAAAAAAAgEjjAQAAAAAAAAAAAAAAEGk8AAAAAAAAAAAAAAAAIo0HAAAAAAAAAAAAAABApPEAAAAAAAAAAAAAAACINB4AAAAAAAAAAAAAAACRxgMAAAAAAAAAAAAAACDSeAAAAAAAAAAAAAAAAEQaDwAAAAAAAAAAAAAAgEjjAQAAAAAAAAAAAAAAEGk8AAAAAAAAAAAAAAAAIo0HAAAAAAAAAAAAAABApPEAAAAAAAAAAAAAAACINB4AAAAAAAAAAAAAAACRxgMAAAAAAAAAAAAAACDSeAAAAAAAAAAAAAAAAEQaDwAAAAAAAAAAAAAAgEjjAQAAAAAAAAAAAAAAEGk8AAAAAAAAAAAAAAAAIo0HAAAAAAAAAAAAAABApPEAAAAAAAAAAAAAAACINB4AAAAAAAAAAAAAAACRxgMAAAAAAAAAAAAAACDSeAAAAAAAAAAAAAAAAEQaDwAAAAAAAAAAAAAAgEjjAQAAAAAAAAAAAAAAEGk8AAAAAAAAAAAAAAAAIo0HAAAAAAAAAAAAAABApPEAAAAAAAAAAAAAAACINB4AAAAAAAAAAAAAAACRxgMAAAAAAAAAAAAAACDSeAAAAAAAAAAAAAAAAEQaDwAAAAAAAAAAAAAAgEjjAQAAAAAAAAAAAAAAEGk8AAAAAAAAAAAAAAAAIo0HAAAAAAAAAAAAAABApPEAAAAAAAAAAAAAAACINB4AAAAAAAAAAAAAAACRxgMAAAAAAAAAAAAAACDSeAAAAAAAAAAAAAAAAEQaDwAAAAAAAAAAAAAAgEjjAQAAAAAAAAAAAAAAEGk8AAAAAAAAAAAAAAAAIo0HAAAAAAAAAAAAAABApPEAAAAAAAAAAAAAAACINB4AAAAAAAAAAAAAAACRxgMAAAAAAAAAAAAAACDSeAAAAAAAAAAAAAAAAEQaDwAAAAAAAAAAAAAAgEjjAQAAAAAAAAAAAAAAEGk8AAAAAAAAAAAAAAAAIo0HAAAAAAAAAAAAAABApPEAAAAAAAAAAAAAAACINB4AAAAAAAAAAAAAAACRxgMAAAAAAAAAAAAAACDSeAAAAAAAAAAAAAAAAEQaDwAAAAAAAAAAAAAAgEjjAQAAAAAAAAAAAAAAEGk8AAAAAAAAAAAAAAAAIo0HAAAAAAAAAAAAAABApPEAAAAAAAAAAAAAAACINB4AAAAAAAAAAAAAAACRxgMAAAAAAAAAAAAAACDSeAAAAAAAAAAAAAAAAEQaDwAAAAAAAAAAAAAAgEjjAQAAAAAAAAAAAAAAEGk8AAAAAAAAAAAAAAAAIo0HAAAAAAAAAAAAAABApPEAAAAAAAAAAAAAAACINB4AAAAAAAAAAAAAAACRxgMAAAAAAAAAAAAAACDSeAAAAAAAAAAAAAAAAEQaDwAAAAAAAAAAAAAAgEjjAQAAAAAAAAAAAAAAEGk8AAAAAAAAAAAAAAAAIo0HAAAAAAAAAAAAAABApPEAAAAAAAAAAAAAAACINB4AAAAAAAAAAAAAAACRxgMAAAAAAAAAAAAAACDSeAAAAAAAAAAAAAAAAEQaDwAAAAAAAAAAAAAAgEjjAQAAAAAAAAAAAAAAEGk8AAAAAAAAAAAAAAAAIo0HAAAAAAAAAAAAAABApPEAAAAAAAAAAAAAAACINB4AAAAAAAAAAAAAAACRxgMAAAAAAAAAAAAAACDSeAAAAAAAAAAAAAAAAEQaDwAAAAAAAAAAAAAAgEjjAQAAAAAAAAAAAAAAEGk8AAAAAAAAAAAAAAAAIo0HAAAAAAAAAAAAAABApPEAAAAAAAAAAAAAAACIPkoAAAAA0Fbf93/+rOs6hQEAAAAAAADgFiQeAAAAAAAAAAAAAAAAkcQDAAAAgEamkg72PENKAgAAAAAAAABnkHgAAAAAAAAAAAAAAABEEg8AAAAAFqiRXiCxAAAAAAAAAIA7kngAAAAAAAAAAAAAAABEXSmlVwYAAACAddYkIOxJOph6j+QEAAAAAAAAAI4k8QAAAAAAAAAAAAAAAIg+SgAAAACw3lTqwJoUBAAAAAAAAAC4C4kHAAAAAAAAAAAAAABApPEAAAAAAAAAAAAAAACIulJKrwwAAAAA9fT9v//c0nWdogAAAAAAAABwWxIPAAAAAAAAAAAAAACA6KMEAAAAAHWMkw4AAAAAAAAA4AkkHgAAAAAAAAAAAAAAAJHGAwAAAAAAAAAAAAAAINJ4AAAAAAAAAAAAAAAARBoPAAAAAAAAAAAAAACASOMBAAAAAAAAAAAAAAAQfZQAAAAA4D36vv/nv7uuUxQAAAAAAAAAZkk8AAAAAAAAAAAAAAAAIo0HAAAAAC/Sdd0/KQd93/9JQQAAAAAAAACAbxoPAAAAAAAAAAAAAACASOMBAAAAAAAAAAAAAAAQaTwAAAAAmND3fen7XiEAAAAAAAAAeD2NBwAAAAAAAAAAAAAAQPRRAgAAAIBsnHrQdV382eHv7pCUcKe1AgAAAAAAAHAuiQcAAAAAAAAAAAAAAEAk8QAAAABgQo1EgLl0hKvtEwAAAAAAAAASiQcAAAAAAAAAAAAAAEDUlVJ6ZQAAAACYN04+mEoKWPIzAAAAAAAAAHA3Eg8AAAAAAAAAAAAAAIBI4gEAAADACuNUgymtkw6WrKHlmuben95zhboBAAAAAAAAsI3EAwAAAAAAAAAAAAAAIJJ4AAAAALDB2akDS9fU4p010gskIAAAAAAAAADch8QDAAAAAAAAAAAAAAAg0ngAAAAAAAAAAAAAAABEHyUAAAAA2Kfrun/+u+/7yZ/7/vPxZ1qs4wq1WPJzqV7jv7/C/gAAAAAAAADeSOIBAAAAAAAAAAAAAAAQdaWUXhkAAAAA2pma6P+k6f21khx+JR9IPAAAAAAAAAA4h8QDAAAAAAAAAAAAAAAg+igBAAAAQFvDpP5fE/3vvr+tnloXAAAAAAAAgKeQeAAAAAAAAAAAAAAAAEQSDwAAAAAOsjcZ4I6kGQAAAAAAAADcn8QDAAAAAAAAAAAAAAAgkngAAAAA8EJzSQQ1kxmWPGu8luEz0hIAAAAAAAAArkHiAQAAAAAAAAAAAAAAEEk8AAAAAF5jmKBfc6I/9fw6l+8EBGcIAAAAAAAAcByJBwAAAAAAAAAAAAAAQNSVUnplAAAAAN7ge2J+KabmT9Vkyll1mlubswMAAAAAAAA4jsQDAAAAAAAAAAAAAAAg0ngAAAAAAAAAAAAAAABEHyUAAAAA4FvXdY/eX9/3r9w3AAAAAAAAwFYSDwAAAAAAAAAAAAAAgEjiAQAAAMCLDVP+UwrAk7xhjwAAAAAAAAAtSDwAAAAAAAAAAAAAAAAiiQcAAADAY5lw36aeQ0pCa+M0hi3vnbsDR+0DAAAAAAAA4O4kHgAAAAAAAAAAAAAAAJHEAwAAAOCxxhPz+V2rJY5OPthC0gEAAAAAAABAPRIPAAAAAAAAAAAAAACAqCulGPkHAAAAvMJ4Cr7J9/vqeFT9ptILlr77+7POGwAAAAAAAGAbiQcAAAAAAAAAAAAAAEAk8QAAAAA43NET87ne2U/5dR+2JB9IPAAAAAAAAADYT+IBAAAAAAAAAAAAAAAQaTwAAAAAAAAAAAAAAACijxIAAAAA0Frf96t/puu6+N/Dzw7/O/7ZJe8DAAAAAAAAYBmJBwAAAAAAAAAAAAAAQCTxAAAAAIBqxgkEv1IMlv7M2vcDAAAAAAAAUI/EAwAAAAAAAAAAAAAAIOpKKcbAAQAAAIeqOeGebbVvVfOUOHD0+9wtAAAAAAAAgHokHgAAAAAAAAAAAAAAANFHCQAAAICjDVPof02rp51WyQfjs5U4AAAAAAAAAHB/Eg8AAAAAAAAAAAAAAICoK6UYLQgAAAAw8vSJ/XNpE3fa86/UDIkLAAAAAAAAAPtJPAAAAAAAAAAAAAAAAKKPEgAAAABPN56Kv2YK/lOTD8b7+ZUccNd9AQAAAAAAALCfxAMAAAAAAAAAAAAAACDSeAAAAAAAAAAAAAAAAEQfJQAAAAD4re/7UkopXdc9cn9H72uo55lrAAAAAAAAAGAZiQcAAAAAAAAAAAAAAEAk8QAAAABgwnj6/jCh/+nJB3c/JwAAAAAAAADqk3gAAAAAAAAAAAAAAABEEg8AAACA090hRWBY27BW6tf21/1Y8xkAAAAAAAAA6pF4AAAAAAAAAAAAAAAARBIPAAAAgMu4U/IBx90HAAAAAAAAAM4l8QAAAAAAAAAAAAAAAIgkHgAAAABVjNMKxtPqn5wU8Ka91rKkRuku3fU7AQAAAAAAAHBXEg8AAAAAAAAAAAAAAIBI4gEAAABQ1Zbp/60n27eeOD9ef+tJ9xIWrnvfAQAAAAAAAJ5I4gEAAAAAAAAAAAAAABBpPAAAAAAAAAAAAAAAAKKulCIPHgAAANit7//9J4au69RipHZNhvc8vdZT9dyy55Z3tNYaAQAAAAAAAK5I4gEAAAAAAAAAAAAAABB9lAAAAACAo6VUiJaGBIKa75Z0AAAAAAAAALyBxAMAAAAAAAAAAAAAACCSeAAAAABUZdr738n6arLuzqREgivVcbxGZwwAAAAAAAA8mcQDAAAAAAAAAAAAAAAgkngAAAAAVGHK//E1eUqNU8LBnc4YAAAAAAAA4MkkHgAAAAAAAAAAAAAAAFFXSumVAQAAAKhlPL3eRPjpif5vr8ualAN3CAAAAAAAAOBcEg8AAAAAAAAAAAAAAIDoowQAAADAnd0pYaH22u6cLvG91jXpBwAAAAAAAAAcT+IBAAAAAAAAAAAAAAAQaTwAAAAAAAAAAAAAAACijxIAAAAANfR9P/vnXdc1ee/w3OE9U+to9e6tNWlVAwAAAAAAAABoQeIBAAAAAAAAAAAAAAAQSTwAAAAAVpub5D9OIDhqGv/4vXPrvXtCwFFJCgAAAAAAAABQisQDAAAAAAAAAAAAAABgRldKMSIPAAAAWOV74v6W9IA0sb92EsE4deHo5IOnJS20rM1ae2p51P0DAAAAAAAAeAqJBwAAAAAAAAAAAAAAQCTxAAAAAGhiy0T7NRPnx2kGU+9Nzzsr+cBE/ePuTOv7BwAAAAAAAPAmEg8AAAAAAAAAAAAAAIBI4gEAAADQ1JLJ81smza+ZaD+XilBjLfyt7a86bkkkmDsvCQcAAAAAAAAA7Ug8AAAAAAAAAAAAAAAAoo8SAAAAAC3tmUi/5Llz0jtbrYm/tV+TNtHy/gEAAAAAAACwncQDAAAAAAAAAAAAAAAg0ngAAAAAAAAAAAAAAABEXSmlVwYAAACgtb7P/wTRdd3l1nb2mp583ltrveSZ42d9f+bOZzrsw70EAAAAAAAAziDxAAAAAAAAAAAAAAAAiD5KAAAAALzd9xT5YbK8CfN/Ewa21GL4TI1nLT3Dqfc95UyfkuAAAAAAAAAA3IvEAwAAAAAAAAAAAAAAIJJ4AAAAADQ1NXn+jut/43T5cVrBklqk807JB1vv0J7nPe27JfkAAAAAAAAAaE3iAQAAAAAAAAAAAAAAEHWllF4ZAAAAgNrGk+inprJfeWL7kvW//Uzn1KzXXOLBnjXf8Uz31AIAAAAAAABgK4kHAAAAAAAAAAAAAABA9FECAAAAoIUlU9hNar/3ma5JQDjamrVJtwAAAAAAAACYJ/EAAAAAAAAAAAAAAACIJB4AAAAATBim3l95qv+V67bHnprPfXbp2r6fcbX0g+/1uJsAAAAAAADAUSQeAAAAAAAAAAAAAAAAkcYDAAAAAAAAAAAAAAAg6kopMtkBAAAAWKzv//3npK7rqj5vjeHdtde0Zw9HvxsAAAAAAACgNYkHAAAAAAAAAAAAAABAJPEAAAAAeL2pifstptabij9f8y1ncHbSwZl36Ij3AQAAAAAAAJQi8QAAAAAAAAAAAAAAAJjxUQIAAADg7b4nxQ8T5Yf/bTVFvvXzr2pu30tSEM5a79ydOeKMr1gbAAAAAAAA4D0kHgAAAAAAAAAAAAAAAFFXSjEuDQAAAPjHeLr606fyT02Tb71niQfdrnvY4o4uuQd7kgeGZ205+1qJB2+7bwAAAAAAAEAdEg8AAAAAAAAAAAAAAIDoowQAAADA4G1JB2fW99f0+6ckItSa1F/7WVvv/Z4EhPHPTt2Ho85jfP985wEAAAAAAIA5Eg8AAAAAAAAAAAAAAIBI4gEAAADwWq0m6G95/lMSDsbSZP0ttZh6RovJ/WuSCNbs71fKxdb3/HrO1Gda330AAAAAAADgWSQeAAAAAAAAAAAAAAAAkcYDAAAAAAAAAAAAAAAg+igBAAAAvFvf93/+rOu6V+35qP0uec/Uebz5Lqb6DT9bo141zn/qGeO1Df9d674tfc7c2p7+XQcAAAAAAADqkHgAAAAAAAAAAAAAAABEEg8AAACAQ6xJVrh7CsOaKfzDvtJn7laLNEl/vM+5Gu3ZX+3apHWedQYSCgAAAAAAAIAzSDwAAAAAAAAAAAAAAAAiiQcAAADAZYyny99tuvuapIOxX8kHU++5Q/LBnhq02t+v59dKY1hzpgAAAAAAAABXJvEAAAAAAAAAAAAAAACIJB4AAAAA/3WVCfqt13H0JPotU/IHc2uskRAx9fylz6mR8LDk+VM/uyUdYbzeNeu/W/rG2/YDAAAAAAAAtCXxAAAAAAAAAAAAAAAAiLpSSq8MAAAAQCt7Juoftba960mT82vvM633qOSGPdbUolU9t9RJMgAAAAAAAACAxAMAAAAAAAAAAAAAAGCGxAMAAADgdcaT72tP0j97Sv6ZCQg19r5n/Uve/+v5R53fldNAAAAAAAAAAL5JPAAAAAAAAAAAAAAAACKNBwAAAAAAAAAAAAAAQNSVUnplAAAAgPfq+//900DXda/b89X2Paxtbk1LfqZmfX45cx3Du9PPLqlj6/2sqeead7e+BwAAAAAAAAADiQcAAAAAAAAAAAAAAED0UQIAAABg0HKC+tzUdxPb16cMtDyv8fO2rK3mOqbev3TPc4kev9ISjtpfq++tRAQAAAAAAACgFokHAAAAAAAAAAAAAABAJPEAAAAAXu57GvowIf0pk9KXTrKfm4p/5nn82s9Ra/2VDNCqfnPnl/7u7BSD2mta85kr7RkAAAAAAAB4FokHAAAAAAAAAAAAAABA1JVSjEIDAAAAmpubxn7UlPz03r0T+/ckEeyZUn9WOsNZZzmVzvHrvVvq27quU2ta+s6pu7rlzgMAAAAAAACsIfEAAAAAAAAAAAAAAACIJB4AAAAAh9uTELD0mbWeW/N9S5ICrjihv8b57Ul2mHvP8NxWa2hR21Z3dcm5LK2BZAQAAAAAAADgm8QDAAAAAAAAAAAAAAAg+igBAAAAcCe/JrbfbVL7eL3j//7e79zfnbHmPe//3sueM11z3jXW3fpet76/V64BAAAAAAAAcF0SDwAAAAAAAAAAAAAAgEjjAQAAAAAAAAAAAAAAEHWlFLnqAAAAwKH6/t9/jui6bvczpmx5bs01Pv38ltSk1c+2uIdLzrrGGufubs3vwpqau+cAAAAAAADAHIkHAAAAAAAAAAAAAABA9FECAAAAoKajptan539PcN8yzX1JkgK/z3pLHa88bX+8nz33fPjMlhrVTkuQcAAAAAAAAAAsIfEAAAAAAAAAAAAAAACIulKKMX4AAABANWumuLeetl4jvcBE+HX1TdP875RmcNT9mKvfls8vSQFxrwEAAAAAAIAtJB4AAAAAAAAAAAAAAADRRwkAAACAmtLE+ynDz7Savv5rLaa+16nv1JneeR9n7qH1d2LtOnxfAAAAAAAAgFIkHgAAAAAAAAAAAAAAADO6UkqvDAAAAEArc5PTx3/XeqL60e+70/nsqcVcQsDda7w0/WDLPrfUbW8SwZbvgMQQAAAAAAAAQOIBAAAAAAAAAAAAAAAQSTwAAAAAmqoxUf8Nazp670v8qs+SZ70l8WBL3b5/bmmqwJLEgyWpBjWSDyQeAAAAAAAAwHtIPAAAAAAAAAAAAAAAACKNBwAAAAAAAAAAAAAAQPRRAgAAAOCt+r4vpZTSdd1r9triGd/1q/GeO9Vmzd0Zv2fJe+d+Zum7a53J8L7heW/6/gAAAAAAAMDbSTwAAAAAAAAAAAAAAAAiiQcAAABAU1echj6e3H53rSbPL63PXeu4ZN13uitHrVHCAQAAAAAAALyPxAMAAAAAAAAAAAAAACCSeAAAAAC83tSk+DtMdV8z4f7Xfp6S/lBDq7Ofe+64/kuSFsZJF+PPLNnH8LOtUjMAAAAAAACAZ5B4AAAAAAAAAAAAAAAARF0pxTg7AAAA4NXmpspfcQJ8mo5/VF3G71uSlrBk2v+e5y5d69qf3fOZWndwqS1rOeouAQAAAAAAAPcm8QAAAAAAAAAAAAAAAIg+SgAAAAC83feU9xqT51s5azr9r/csqV9KNZjb3541rXnmnjou2VeN/d7hngAAAAAAAADPJfEAAAAAAAAAAAAAAACIJB4AAAAAuyyd+D413f0qk9jnJs/XmGhfe59XSTpo/azxZ2onBKQ1zd3VX4kOW78LLe7xrzUDAAAAAAAALCXxAAAAAAAAAAAAAAAAiDQeAAAAAAAAAAAAAAAA0UcJAAAAgLX6vq/6nK7rbrPnJWutVZ+1zz+rjrX2+2v933+/5Z1L6zP1nppnuuacauxzb93SZ8fv+f77O3ynAQAAAAAAgOUkHgAAAAAAAAAAAAAAAFFXSumVAQAAAFhiblr6rwnnSyatb5kEX3uy+q91bkk8qLXGGmt7yx09+l7MncNRyR5L7t2eBIWWKRMAAAAAAADAtUk8AAAAAAAAAAAAAAAAIokHAAAAwGpTk8/TlPcltkxFbz1Ffst095r7W7M2U+XvcS+OOqclNWiRnlE71QQAAAAAAAC4DokHAAAAAAAAAAAAAABA9FECAAAAoIVhsvmSKehrptTXTCKotf6jpLW0nvJ/R61qcsV70WJ/ez/71PoAAAAAAADAW0k8AAAAAAAAAAAAAAAAoq6UYvwYAAAAsMrUNPM1k9L3TKM/a7p/jQnue9ec1rDnuVdMSxjv88pJDnvuxZn7OqrGLe4sAAAAAAAAcDyJBwAAAAAAAAAAAAAAQPRRAgAAAOBoe6adnzUpffzeLZPuvz+zZR8t9z63tqNSEe6UdND6rhxV46NqcaUaAAAAAAAAAOtJPAAAAAAAAAAAAAAAACKNBwAAAAAAAAAAAAAAQPRRAgAAAIDl+r5f/Zmu605b45Z3b9ljzZruqdfc2muew9E1qmVcg6P2cfR3AAAAAAAAAKhL4gEAAAAAAAAAAAAAABB1pZReGQAAAIAlpqajv22S+VET9desZXhvrfNZOwW/9jtq1LHV81M6w96UCQAAAAAAAIArk3gAAAAAAAAAAAAAAABEHyUAAAAAlqo12d5E+LrSFP4zznvPe9YmLdSqV43auNMAAAAAAADAk0k8AAAAAAAAAAAAAAAAIokHAAAAACu8YbL9EXs8Ok3h25bEA4kGdQy1V08AAAAAAAC4F4kHAAAAAAAAAAAAAABAJPEAAAAA4GbGE/uH6fHDn3///dsmy49rsyTdoEaN7lrzdJcAAAAAAAAAvkk8AAAAAAAAAAAAAAAAIokHAAAAADe1ZDr9lon2d5yCvyTZoOZ+1rzvyvtJaRmSDwAAAAAAAIBvEg8AAAAAAAAAAAAAAIBI4wEAAAAAAAAAAAAAABB9lAAAAAA4Wt/3pZRSuq5TjFFNBlO1Gf/M+L9rvn/N+SxZx5Jntb4PNZ6f9nr3uzysv+ad8jsAAAAAAAAAnkPiAQAAAAAAAAAAAAAAEEk8AAAAAJo6epL6U7Sq13jS/J6kgxrvb1Wfoybpt3rP+Llz+71TesCSNS5J/wAAAAAAAACOJfEAAAAAAAAAAAAAAACIulKKcYMAAADArLkJ5FumrZtovrw2S8zVb+nz9pxBrTX/uhdL3tP6Ll0pXeDp36MrnDcAAAAAAADwHxIPAAAAAAAAAAAAAACASOIBAAAAsNjcBPI9iQd7nvWmGv9ypbqlfaxJZxh+tta9W/o+7vcdcXYAAAAAAADQlsQDAAAAAAAAAAAAAAAgkngAAAAAHGLLJP83TTFfUp9xPe4wsX9N8sGaO1Iz6eDN9+6p3x9nCAAAAAAAAHVJPAAAAAAAAAAAAAAAACKJBwAAAMAhvieSD9PITZ6vW9s1KQKta7vnbM9aM9f7XbH2/CUfAAAAAAAAQBsSDwAAAAAAAAAAAAAAgOijBAAAAMCg5aT5qWek5w7rmEpJePNZpBrM1WZpukTN+3LF+8e7uDMAAAAAAABQl8QDAAAAAAAAAAAAAAAg0ngAAAAAAAAAAAAAAABEHyUAAACAd+r7fvPPdl3XdG3D87/fO/z/1u9+wpleuUbOD/cLAAAAAAAA7kfiAQAAAAAAAAAAAAAAEEk8AAAAAP7ratPCv9czTPN/evLBXBLF0r3PPaNm3eaetSZRY2lNTLMHAAAAAAAAOIfEAwAAAAAAAAAAAAAAIJJ4AAAAAC9levz9ziWlPtRMF2htKr0grf+O+3ujM89HGgYAAAAAAAAcQ+IBAAAAAAAAAAAAAAAQSTwAAAAAuIlxAsCaSfNnT4Rf8/7xz75hmv34LE3w/10jAAAAAAAA4DgSDwAAAAAAAAAAAAAAgEjiAQAAAHBrwxR0E+J54r2eM07AGP/5UdI6/B4AAAAAAACA55B4AAAAAAAAAAAAAAAARBIPAAAAgFs6c7r6nfZ81Qnwbzy/2jVIn3/z9P+z0x8AAAAAAADgqSQeAAAAAAAAAAAAAAAAkcYDAAAAAAAAAAAAAAAg+igBAAAAcGdd1z16f33f36om4/U+/XxqnWmq0/CzS+q45a7c/bv+a89r6gcAAAAAAABkEg8AAAAAAAAAAAAAAIBI4gEAAABwC8PE8qdPdR/cKelg71rfcqZbzmvNmZ79HZlb6zh5YM0aa9zrNSkTAAAAAAAAwF8SDwAAAAAAAAAAAAAAgKgrpfTKAAAAANxFmpT+tOnlR0+Er73WNWt6y5lS/16PkxS2vMd9AwAAAAAAgN8kHgAAAAAAAAAAAAAAANFHCQAAAOBd0oTwuxjWPZ5ofvd93fkuTZ3Pkp+FWr8Pfv35kvvndwgAAAAAAABkEg8AAAAAAAAAAAAAAICoK6UYNwcAAAAvMp78fffp3k/bT9rXlLP2umZtW5IOTJz3++cq99jdBAAAAAAAgP+QeAAAAAAAAAAAAAAAAEQfJQAAAIB3+576bZr3tc7jCWtbcqfGzx3++2npFTX2M3UGd6rTUxJW/K4EAAAAAADgbSQeAAAAAAAAAAAAAAAAkcYDAAAAAAAAAAAAAAAg6kopvTIAAADAe/X9338a6Lru1ut/2j6usq/xGmuvI9Vg6j2/6nWls291tq3P442/+7ZSewAAAAAAAJ5O4gEAAAAAAAAAAAAAABBJPAAAAAD+684T1O+efLBm2v/Za9yypjXns2cS/ZWTDubWVrO2pu/vv5N3vncAAAAAAADQgsQDAAAAAAAAAAAAAAAgkngAAAAA/LFn+nqN9215/5mJBzUmzh9d86Pv0pxfe75SmkWNu1r7Tv2q8fdnpSPUubNXuY8AAAAAAABwFIkHAAAAAAAAAAAAAABAJPEAAAAAOF2aML5kUvua6eStppEvWf/Sz25JebjylPUrnM/R+6m5jzVpDyb1n3+H1RMAAAAAAICnkngAAAAAAAAAAAAAAABEEg8AAACA062Z+r8mXWBPEsGV9tHyGSyv61It6793bVfYw9Y9n7Wm1okHa1ItAAAAAAAA4CwSDwAAAAAAAAAAAAAAgEjiAQAAAHC6NUkBaz7za1L58Jmpn2sxabzVZPMt9WP/mbU4y/T+Jfd77j4fsda717rmGveuy3caAAAAAACAq5F4AAAAAAAAAAAAAAAARBoPAAAAAAAAAAAAAACAqCul9MoAAAAA1Nb3y//Joeu609fQei1pPS3fx3F3qvUd3vP8u927K/zuuMr5t1iz3zkAAAAAAABsIfEAAAAAAAAAAAAAAACIPkoAAAAA1LRkWvl44narKeJL33OFGnD/e31Vd7trv763V0k5uNq9THUZ/nz42SWfAQAAAAAAgDGJBwAAAAAAAAAAAAAAQCTxAAAAAKhiT2rBUckE48nfRzFV/Dn3+spnuWetw2e37G/PZ/fus8U775puseUcjj47AAAAAAAA7kviAQAAAAAAAAAAAAAAEEk8AAAAAHZpORG+9WTzqQSEGpPfW655zfvPWMMT7/SZdWz93vFerzgB/6ikkjulW0yt8a5JDQAAAAAAANyDxAMAAAAAAAAAAAAAACDqSilGYQEAAACbtZyQfsbk+S37WTopfW4i+Z593XFS+xXubIuzuOL+luxnyWfG342j7t2SSf7u/Lp63eH3KgAAAAAAANci8QAAAAAAAAAAAAAAAIgkHgAAAACr1U4iOHui+ff7WyYP1N6npAO2fq9SakEtrX8fHPn74Ynnf3QdJR4AAAAAAADcn8QDAAAAAAAAAAAAAAAg0ngAAAAAAAAAAAAAAABEHyUAAAAAlur7/pD3dF33qP3sWdNULa64bq5nuDtT96XFHWr1vR0/d24/R/3uuPv5H3F2fk8BAAAAAAA8i8QDAAAAAAAAAAAAAAAg6kopRk8BAAAAq0xNst4yMXvJdP+1z/p+xtKJ22dMSf+191rTwk2A9/28QmpGq3vY4nfI0747WxIPtiRIrLlTfi8BAAAAAADcj8QDAAAAAAAAAAAAAAAg+igBAAAAsNaWVIGjbFlPrQSH8fP2PGP47N761lgL97BmYv+a+/Xr7lzpd0DN7x7tznbPOfmdBgAAAAAAcA6JBwAAAAAAAAAAAAAAQCTxAAAAANhlPHV6y4TsK06uPnuqdo1J9Pxbx6fX66z9Xamueybo+578r35LEjHW1Do9Z83zxz8r+QAAAAAAAOBYEg8AAAAAAAAAAAAAAIBI4gEAAABwmhqTqvdMK596f83p51ueZfr6ebV/83dwrl53miy/Z61vmZw/93uv1VnXeN6SuwoAAAAAAEA7Eg8AAAAAAAAAAAAAgP9n7+6WHsWRdoFChO//ltkHs/21X4oEAZKQxFonM9Vlg5QSP90RzgcgJPEAAAAAyKp0V+ozx73T9TxHksJe9/D18dd/Lp3GAHv77U177S1JB3fus6Vr1FOqBgAAAAAAwFtJPAAAAAAAAAAAAAAAAEJ+eAAAAAAAAAAAAAAAAIQ+SgAAAAA8ZVmWzX8+z/PlY975bonj/M7z95jf/7+uwd55o+8Q76mc6/gm6jbu/fXMZ1L2wfr+tnW/uzNG1zYAAAAAAEAbJB4AAAAAAAAAAAAAAACheZomLfIAAACA26Iu11e689/plN1iF+wzHcDPHK/lOT9V4x72A+XW3XrHNUm5F59JYimRvHLmPNYaAAAAAACgLokHAAAAAAAAAAAAAABASOIBAAAAcEtqx/G97thnOlef6bL9dEfsHHPuab497UfGWeM3r3Ou1IEr9+0zx0o9Tsp3c6917kQaAAAAAACAUUk8AAAAAAAAAAAAAAAAQhIPAAAAgP9z1JX62xH6bpftO52lc3XgfqKOd5Md1t/PcZ437eFW6pKyh3Vft2f39sGVPXTmO6Xusy3es9xHAQAAAAAA0kg8AAAAAAAAAAAAAAAAQhIPAAAA4OXuphekqtU9OiUpIMdxt45ZIungThfxmnXvcV/nrE2uNbiy/rgv59pvLd/LzyQ4HH029/37+13XKwAAAAAAMDKJBwAAAAAAAAAAAAAAQOijBAAAADC2HB2ta6Ui5PA79pLjrt1RP+U8e2PKkcbQk72alJhzrn2nY/q161Ddyu/rHp9lOY7V0/MPAAAAAACgJIkHAAAAAAAAAAAAAABAyA8PAAAAAAAAAAAAAACA0EcJAAAAYGzzPD96vmVZXjP3HOct9d3v363X4/vnp2pVcy1q7cVWajn62r51rjX22tvqCAAAAAAAwDGJBwAAAAAAAAAAAAAAQEjiAQAAALzcbxf41C7XZ7phv6lzdu25XunyHiUfWJ/710+re/7KNd7bmo6+n6/MM7o/9FKrK+OO9veV+t2p+Z3r7c48S9zP3vo8BwAAAAAA/iXxAAAAAAAAAAAAAAAACM3TNC3KAAAAAOOJOi/vdTTWzfi4jntq1e/M2kZjsg/KrEHrY31qnKXqFe1jezgtESV1XVpMzah9DyudFHEmYaH0GriuAAAAAACALRIPAAAAAAAAAAAAAACAkMQDAAAAGNSVTtZHn1XHc0rV8aiT+ZlO4NY/z35Qs7z3pbNrEHWLf+O6HN2zfmuSkorgPpH+LEi5v95Ru+YtpC8AAAAAAADtkHgAAAAAAAAAAAAAAACEPkoAAAAAY0rtQrzV/Zp/65PaGbxGHY/G0Pua1upaH63pmZrp9n3vesp9LeQ+/oiu1GbrnnLmnvimZ2ov659rPm/bBwAAAAAA8GYSDwAAAAAAAAAAAAAAgNA8TZP2XwAAAEA3om74W128jzow73X+Hq17czTXO/W7M46tY9dOOjhTi9H2xVNdyp9a4zd0Y7+bZEC763TFnSSXnOcFAAAAAADGIfEAAAAAAAAAAAAAAAAI+eEBAAAAAAAAAAAAAAAQ+igBAAAAvMOyLNM0TdM8z12PP/Wfp/jW4vcYvdbnyly3/v5uTa+sZ1TzUnt2fbzvefbmPeq+GPU+Z93Sr33GXI+n1jvHfbv39xUAAAAAABiVxAMAAAAAAAAAAAAAACAk8QAAAAAY1pWuya11Wn4ijSHHec50205JYShZi70O5KN13B616/1bu/lL6ejXUdLLG5+/AAAAAABA2yQeAAAAAAAAAAAAAAAAIYkHAAAAMLi3dALf6qr8nftR5+UWOzKXWrd1d/9SXan3UgRy1kc37T6v09z7IkrHGHWfnEk6eGsaxOjPt16eVfYfAAAAAACMQ+IBAAAAAAAAAAAAAAAQmqdp0nIIAAAAOrHuHPymbu+pXZNH7myeY25RHXPX7U6X6ysd2++Mf5Tr6krNR7+HjJZ4cCfpQDqI/dvKfecO+xgAAAAAAJ4j8QAAAAAAAAAAAAAAAAhJPAAAAICO6GB9XJMtPddpa37RfM7UImcn7TNd2HOv7Z3znTn+aHvobfeQM9eRtYRnntVX7vWjpZoAAAAAAEDLJB4AAAAAAAAAAAAAAAAhiQcAAADQgahTsA6/xzUauV455nynW3Tp7uulEw+unKf3PdRaakqp63a0ZADPAN7+/H7LPRoAAAAAAFom8QAAAAAAAAAAAAAAAAj54QEAAAAAAAAAAAAAABCap2lalAEAAAD6sCzb/xo/z/Pj46g9hp7q1eK8omOcOc73GKXruTfWu3M4ms9oe2g9n6fncWZtt8a6XrPR12uUexhcfaZceR64bgAAAAAAIA+JBwAAAAAAAAAAAAAAQEjiAQAAAHTkqNNvrW6+Kd3yW+qsPkrX8BzrXyItocXEgzvz2uus3/se6mUvn7m3tHBPdM+Cfu4lpZ4hAAAAAAAwOokHAAAAAAAAAAAAAABASOIBAAAAdOTpLth3upSrX/5ar8ddumN/S/Ur3eW6533+1vtgr+sx2nyglevo6Lp5Q3oKAAAAAADkJPEAAAAAAAAAAAAAAAAISTwAAACADqR25f3tyJuzO72uwO2scS459sH3GFc6TfdaN9dAH9fKKIkH9hK09RxxTQIAAAAA8GYSDwAAAAAAAAAAAAAAgNBHCQAAAGAcKV17r3TX3utsT/k1y+FOl+Yo6aAlpffoes6uhefXem89etizpa5X4Pr15t4OAAAAAAAxiQcAAAAAAAAAAAAAAEBI4gEAAAC81JWO2ild5b9/13vH7jsd03N0TL7Swb9Uzc8cd7RO7TrPY4/B+67H6Nk7yjsOAAAAAABcIfEAAAAAAAAAAAAAAAAI+eEBAAAAAAAAAAAAAAAQmqdpWpQBAAAA2rYs2//6Ps+z4jRU++izZ6yP+3vMp9d7Pb8W99+dNTgzn5TzuD6f35Nb62RdgBrPFvcaAAAAAABGI/EAAAAAAAAAAAAAAAAIfZQAAAAAoIxvt+M73fFTOibXSiJYz+f7v7/nezqdI3dqQY61bVnvaSo6igOtPc9TnjHuXQAAAAAA9EjiAQAAAAAAAAAAAAAAEJJ4AAAAAHBBrk73I3Q93qpFD/PKMcbekw9GSW546/yA9p4bKfebWklFAAAAAACQk8QDAAAAAAAAAAAAAAAgNE/TpN0XAAAANOhMh26dcsvXf13jvfWptR7RGLbOn3M/pRzrzXsytZP17+daqdd3TO4pAN7jAAAAAADgl8QDAAAAAAAAAAAAAAAg9FECAAAAaMOZzrhfOuS25an1SDnv9zNX9hn1rn/XdPn7qRoDNZ/NKfejMwlGAAAAAADwFIkHAAAAAAAAAAAAAABAaJ6mSZs7AAAAaMC62+1Wl9uUz7y9fi3VpOX1utMR/kxqwpU5j9L9/8z6t7JX7tT+dw5Pr13KHnX/BFq7L7lnAQAAAADQMokHAAAAAAAAAAAAAABAyA8PAAAAAAAAAAAAAACA0EcJAAAAoA3zPCvC/7csy+WafL97t6a/x7l6rO93vse6O7YcY7qz79bnb3kftHRNp9Qt2iu1555jXz55zxj1vgbgHgIAAAAAwNMkHgAAAAAAAAAAAAAAAKF5mqZFGQAAAKAPJTreXznvlpxj2Tpf6vH3vnunK/pTHYbPjPlOesHed4/GkLs2pdbpqW7Rd67bFjpcp67/nes29z4ovV/PrMtT922gv/e52u9bAAAAAABwhsQDAAAAAAAAAAAAAAAgJPEAAAAAOPRUB967HdTvdBSuNc+oc3qppIPU86eMoaWkg2hsubvwP3XNtZR4UHosR+e7u09yJh6kHLuF1ApgnPetHp9pAAAAAACMQeIBAAAAAAAAAAAAAAAQkngAAAAAhJ5KOrgylisd+69Ime+ZDvFHndP35lCqc3t07tqd7u/U/Mm9mrMGb+5knSMNRB2BUd633O8AAAAAAHiaxAMAAAAAAAAAAAAAACAk8QAAAAD4x53O80+NbWuMTyUeROc/k8pwJiXhzphKzf2p/ZYzbaL23v09d+nkgyhNoLf70tH4e5wnQO73GPdAAAAAAABykHgAAAAAAAAAAAAAAACEPkoAAAAAfLWcdHBlLOvPpswv6jRfIj0hVw32xtZjl+McY25p3uuu+ymd+9efzdW5f33uHq75HGP6nafO30CPz8Mr7yHudwAAAAAA5CTxAAAAAAAAAAAAAAAACPnhAQAAAAAAAAAAAAAAEJqnaVqUAQAAAPq2LP/71/t5ni9/d8uV4/VQp/X8Stdg7/hXzhsd785Yz4yxVE1yjj/lWDnW5U7dfr97NN479Ur5bu31f+qaH/n+Brz7HXCU+zYAAAAAAO2SeAAAAAAAAAAAAAAAAIQkHgAAAMAASndDH60+Z7q910oRSDn/la7+Jcfd0j7JUZsrXaNb7jSd+77Q433iqcSDN9xXgX7ud+5DAAAAAADkIPEAAAAAAAAAAAAAAAAIfZQAAAAAxvTtfBt1t31jR+47XfDv1Gbru1GH/hY6FqeOpaU9tB7zlXVLmfeZZIUciRd7x0y9tq+sSe15ue8A5L/XrO/XOd5pAAAAAAB4L4kHAAAAAAAAAAAAAABASOIBAAAADGrdzfZKl/JROuMejT+lS3CJ8+59Z925/4l1uLKHRtgzv2O/sw/u1OCp89Y6/t78dOIGKHu/biFdCQAAAACA/kg8AAAAAAAAAAAAAAAAQvM0TYsyAAAAwBhydOmfpn+77u/9cx1x86zPmXSBVmreYsfkaM+Wmmvp+Y2aDLA1rxLzOXNPTLkGj8ZYa14AnjEAAAAAANQm8QAAAAAAAAAAAAAAAAhJPAAAAIDBHXX83uto22JH+5Fqv1fPXmt/Z7+VOH/u89VOPtCNuvw+OFrTM9fi97PWBgAAAAAAgNFIPAAAAAAAAAAAAAAAAEJ+eAAAAAAAAAAAAAAAAIQ+SgAAAABjWpYl23fneW5uXi2NqZae5rwe6539aA363AO91Onos79/H+3jUfY3AAAAAAAARCQeAAAAAAAAAAAAAAAAIYkHAAAAMICtbttRx/kzneh1Vy9n9ESA9X7b20stJ2y0ck2rSZvX7dH9FQAAAAAAAEYh8QAAAAAAAAAAAAAAAAhJPAAAAICOleqK3mLX7h4TAe7UcZ0c8Pv/e+qqfiVpI+c8f8+jGz0tXusAAAAAAADQA4kHAAAAAAAAAAAAAABAaJ6maVEGAAAA6NOVzvA9ds3/HffXGzuM91iDlKSKEvPodZ+/Zd/fuXe9/T4AAAAAAAAAT5B4AAAAAAAAAAAAAAAAhD5KAAAAAP1I6R6f+t0zHcef6lq/dfw7NRh1P/TY9V2n+mv7/nf/91jDK9evtBMA7xgAAAAAADxP4gEAAAAAAAAAAAAAABCap2nSJhAAAAAacqYj+JUutHcSA57seqvr+fEatlST2uvVQ03c19LWx7UO0Oe7hpQEAAAAAICxSTwAAAAAAAAAAAAAAABCfngAAAAAAAAAAAAAAACEPkoAAAAA9GCe52mapmlZFsUIavNGo++H7/x6XeOj9dn7+zfva4BW37tSnktnns3u9QAAAAAA/ZB4AAAAAAAAAAAAAAAAhOZpmrQJBAAAgMatO8emdIdN/c5WV9qjdAHdadvaF1fWI2en+Se71l+5Nnq85veUmPPv+XPvL/cQgHe+i3oeAAAAAAD0TeIBAAAAAAAAAAAAAAAQ+igBAAAAtC+1G+xeekGO836Pn/s8lN0XKcf4XdOzSQq/nzvTqb+2aF69dmQunXQAANH7Qkoyzl6ClvdGAAAAAID+SDwAAAAAAAAAAAAAAABCEg8AAABgIHe7xx59f+vv151vdbDtc6+0uG7rDsmlxpiSgDD6/s5da/cBgLHfH+4m5HhvBAAAAADoj8QDAAAAAAAAAAAAAAAgNE/TtCgDAAAAAK3a6qocdVxOSS+40l25VvrCmRqUGIsO1AA8+Vzz/AEAAAAAaJfEAwAAAAAAAAAAAAAAICTxAAAAACCTK93i39Zh/krn/r3vnPnuCDWulXwAAKnPoxzPHwkIAAAAAADtk3gAAAAAAAAAAAAAAACEJB4AAAAAZLLu1pvSpffKd0as1ZZ1LXT7v5f+AAAln0clkw885wAAAAAAnifxAAAAAAAAAAAAAAAACPnhAQAAAAAAAAAAAAAAEJqnaVqUAQAAANqzLP/9K/s8z0PNZ6R5pc71qlFrlFK39dz36vqWvbQ1zzP77U37KWeNATj/3nPlfnrlHcp9GwAAAACgDokHAAAAAAAAAAAAAABASOIBAAAANGrk7u4lOoy3lKiQM/FgpHV3TTxzjbwpbSTnvlIjgDzvPWfup99j7X3HfRsAAAAA4BkSDwAAAAAAAAAAAAAAgJDEAwAAAGhMSrd83d3PpQpEx0vpqltqLdfnfOO6uzaeq6E6pe8rtQLI95x2bwUAAAAA6JfEAwAAAAAAAAAAAAAAICTxAAAAAAo60/k16V/kB+8Om5J8cCYdIbX+pRMPaiU4uNbURr3q3K/VDcB9FAAAAADgbSQeAAAAAAAAAAAAAAAAoY8SAAAAQDkpHfuvHuct9SpZk1p13eounzsNo9a4Wx2Hzsn3avvmOvZwLQL09B7nvgoAAAAAMCaJBwAAAAAAAAAAAAAAQEjiAQAAAFR21FFcl9hydandzX19vpQ5pHznKAHg9zs55vxU8oFrofzebCXVImW9c40x9Txbn5OsAZD3nu++CgAAAADQD4kHAAAAAAAAAAAAAABAyA8PAAAAAAAAAAAAAACA0EcJAAAAoA3LsihCgnmei3y2h/mu98j3z9/PlN5D0fGv1Nl+f/f9rcVrcz2mWtcVgHc2AAAAAAB6IPEAAAAAAAAAAAAAAAAISTwAAAAAmjVap/G7nX+jDuyl6lSi4/uVY7XQMXmdLtHD9dLSWNd7qfa1vXW+1Pro2A2Q/17s3goAAAAA0B+JBwAAAAAAAAAAAAAAQEjiAQAAADzsSufvqLP53rF67yw7amfcK13qa9difb4c3f9Tvrvujn/mfLmuhVZSN/Y69recdJA65pT9dmff6awN4J0NAAAAAIB7JB4AAAAAAAAAAAAAAAAhiQcAAADQiKjLd4pWurKXrgnX5UgpyHH+2ut/Jlmh5b24lRSQ47pfH7fWPFOSD6LP/n7HPQIAAAAAAADqkHgAAAAAAAAAAAAAAACEJB4AAADABTm7g0fH2Dv2mW7ham6euY+fY2ylutbfSVbY+u7bOuq3fJ3tpT5IPgAAAAAAAICyJB4AAAAAAAAAAAAAAAAhiQcAAABwQ9RdvVb37fV53pCA0GOH870xl5jH3j5o8Xw5r6PcSQ7rsfWw70ZPAfid15tSXwBGvH9LrAEAAAAA6IfEAwAAAAAAAAAAAAAAIOSHBwAAAAAAAAAAAAAAQOijBAAAAHDePM/TNE3Tsiyb/7xF37G2PMbRrPfHk3v16fPujaNEnXLt9/W13sN1FN2fWtovudbc/QxgjHcl93MAAAAAgPZJPAAAAAAAAAAAAAAAAELzNE2LMgAAAMA1rSUenOki3mtn2R5TJkZZh9JdiXOu7VbtcxzvqfXam0+OZIPaa3tnrACM9y7tXg8AAAAA0D6JBwAAAAAAAAAAAAAAQEjiAQAAAFwQde/uKfGglTHnmmsL8yhd/xa77pcYT461HaWD8t6eilILWtpbb0hhAQAAAAAAgDeQeAAAAAAAAAAAAAAAAIQ+SgAAAAD/E3ULT+nY3XOn7q35lZjP73lyHL+lmtdOmijdzf/sfM505a893zP7rta1UIqxAgAAAAAAAKVIPAAAAAAAAAAAAAAAAELzNE2LMgAAAMBxl/cWO3RfSWM4080+R1f+3mpaaq41art3zBzfubOXcjhTs5SUhCs1KbVOqZ/NnRxS+9qQdAAAAAAAAAB9kngAAAAAAAAAAAAAAACEJB4AAADASk+d+nOMtVbX+jd0Oq+VJnF03jspBrnnXSoloWQaR+nEg1zzTEl1aO2akHgA4B3b8wAAAAAAoE8SDwAAAAAAAAAAAAAAgJAfHgAAAAAAAAAAAAAAAKGPEgAAAMBf8zxv/vNlWZoZY86xRPPNdb6U45eqTe1zf8+XUq/vZ3KM8cx5S9Tk95hHYzhz/pw1auFesq5Nrnn1XicAAAAAAACgfRIPAAAAAAAAAAAAAACAkMQDAAAASLTXTTxnJ/MWu5evO+o/ObaWkidqzO9MrXW8z78GOWt6JpniieO1so8BeNez1vMCAAAAAKAPEg8AAAAAAAAAAAAAAIDQPE3TogwAAACQR44u31sdYNfHeTp5oFRH+Kv1OfL0GM+cv8XEi5zr1GItzuypFtelxXQBiQcA3Hn2em4AAAAAALRH4gEAAAAAAAAAAAAAABCSeAAAAACNSUk8KPHdq2NsIXUhVcvJB6U6xKemBuRe05yJB1fqd+XcV/bU09dBjT3U45hSziuVAaCt991c7w3u5wAAAAAAZUg8AAAAAAAAAAAAAAAAQhIPAAAAoDF7HWCjDq5XvpN7jD0kHzydePDEmFK7updOPKg9zyu1vpN4sHeeHOkPV2rxZM2PavBU8sGddQSgrfe42s9XAAAAAIC3k3gAAAAAAAAAAAAAAACEJB4AAABAY650bm8h8aDk+XLVrdYYo+7uV5IiciURnBnTWS12Fs6VXhDN9U63/9r7cO88Zz6TYx+cST7IkZKQex/oog3Q7nPbPRoAAAAAoCyJBwAAAAAAAAAAAAAAQMgPDwAAAAAAAAAAAAAAgNA8TdOiDAAAANCHZfnfv8bP87z793/+5T/4bO4x1T5vi2M8c57os3vujPfofFfG2NIaX513rpr/nqeVutyde4m6rcd0Zt+l1DVlzmfunz3ueYAR3nVLvxcBAAAAAHCexAMAAAAAAAAAAAAAACAk8QAAAAAG0kLiwfd8KZ3NW6jP2bHl6sR7pxt9zuSDUutylM7x9JpvjS3X9fP03j8z56fWdq/Wd5I2cnbKfuJ+CkBb7xEAAAAAAPxH4gEAAAAAAAAAAAAAABCSeAAAAAAD+e3Q3UqH2Ba7ht/pSH8lqWDr+EdjKNXpN0fqQ+kal5xnSs1zjfupGlyZewv3hRxjTKn52XVp8b4K8KZ3WvdgAAAAAIA2SDwAAAAAAAAAAAAAAABCEg8AAABgILrDlqvXnQ76LaxBrqSGq+drcR8+lf6Q+zxX1rbk2t8da+l9V2vdAfBOCwAAAAAwEokHAAAAAAAAAAAAAABASOIBAAAANCJHh/i9buK6xJ6r1xlHta3VtffMfL7nLzW2K2Pp6VrrYR+f6fZfa01K74szKSOSDwAAAAAAACCdxAMAAAAAAAAAAAAAACD0UQIAAABow7oD/W837tQO3C106j7TcZwye2hrPaLPlFqnvUSF9XlLJhC8IQXkzjyidbpy/7lyX8iVOgIAAAAAAACUJfEAAAAAAAAAAAAAAAAI+eEBAAAAAAAAAAAAAAAQ+igBAAAAtGFZlsO/m+f59TXJWYPvsX7PM0KNS9ftSo1T9vmZz5ScV+790OL1G41l65o4sx53xpHjPGdqvDVXAAAAAAAAYJvEAwAAAAAAAAAAAAAAIDRP06SlFwAAADwg6rK91bH7qCN3S53U12PNNbbU4+7VKuU7pTvo11i7lhIPctcrtY4pxyi9H85c463UM+X+kzL+O3NfJ0SUuqcAAAAAAAAA6SQeAAAAAAAAAAAAAAAAoY8SAAAAQP9a7nC/7l7eUg22vlNivFHn9q1/VqLDfm+upBfc7eqfs34lkw7OpDHkms+Vce/t+bt1LJ1QAgAAAAAAAPxL4gEAAAAAAAAAAAAAABCap2lalAEAAACel9IZvIfu3qW6vZc4bu2aX+n+fub8e8cfvTN8zrVMSc9YJ2PU2ksp3f5L77MW13i9DinzidJGUo5RK8kFAAAAAAAAWiHxAAAAAAAAAAAAAAAACEk8AAAAgEaM0q2+VOf3UkkKOeZzZSw55zNqh/sW9uFRV/zaNd9LY4jGeqYuvScf3FnbKyQeAAAAAAAA8BYSDwAAAAAAAAAAAAAAgJDEAwAAAGjEKIkHKfO5M69Rkg9yzOPMMVK64buu7q37Wbn2/zrxoPS8Wto7Je8Ho92TAQAAAAAA4A6JBwAAAAAAAAAAAAAAQMgPDwAAAAAAAAAAAAAAgNBHCQAAAOBZy7L8+fM8z00fN9Xe+b5je3qMd+azHnuu452pyZl6tVzb3tey1Xm9YT+MupYAAAAAAADQGokHAAAAAAAAAAAAAABASOIBAAAAPKxU5/Hvcded9FvodD5Cl/LfOeQY/3q9OOdO3VKuiaMkit+/j47X0jXY4jrlqEvO2m4dy/UJ0Pcz58xzwnMbAAAAAOAviQcAAAAAAAAAAAAAAEBonqZJmy4AAAAgyV7n16NO4He7xUbHb6ELbctje+seLbUXj5IP7l5HZ+bV4/4qnXgAAHee36M8bwEAAAAASpB4AAAAAAAAAAAAAAAAhD5KAAAAABxZd39N6Sq/d4ycnWOvdI/PUYPf833//5W6lB6rLr15rdf6zP7bu46Ovm8dAXjjO2et518r73AAAAAAAC2TeAAAAAAAAAAAAAAAAIQkHgAAAAChlrq/PpUqoAPueHs1R0rG+rsp6QWtJWOMcB1Hx5EQATDGc2LrPn/lHp9yXM8PAAAAAIB9Eg8AAAAAAAAAAAAAAICQxAMAAAB4SCudVnX0T9NrB9wc3f1HuY7Wn13/OVeNjmq+1fV/9HVKqUGOe5ZO1QDjPydKPDM9PwAAAAAAjkk8AAAAAAAAAAAAAAAAQn54AAAAAAAAAAAAAAAAhD5KAAAAAM+Y53mapmlaluXPP//++fv3pLlSt3Xtt9ZnlHVYz9X+yrOHtur5PY5r+Vzd7tRajQE8JwAAAAAAKEviAQAAAAAAAAAAAAAAEJqnaVqUAQAAAJ6X0n0/+uydbrB7500Zz9H398aWO6Ug9Vgpc85R0xa69I7eEf7MtXB3r5ccGwBQ7h0hShor9Q4AAAAAADAiiQcAAAAAAAAAAAAAAEBI4gEAAAA04ko39lP/EeBGqkDujq/RXK+kFfTQjTYldeBOTXKsQe06bnUhrn09nel+LPkAAOq9B+d4VtZOOgIAAAAAGJ3EAwAAAAAAAAAAAAAAICTxAAAAABqx7oq/16X1SjLAlWPUmnPK2GonApSe53rctbvi391fOc9XYhxX5re3TjnWJyX5AgC8D5d/F2j5/RgAAAAAoFUSDwAAAAAAAAAAAAAAgJDEAwAAAHiZFruuv6Uj7e88o8SD2vPKnXxwZS2vOBpb6cSDKzWSeAAAbb1rrp/zntEAAAAAADGJBwAAAAAAAAAAAAAAQOijBAAAAPBOPXR2/R1brU76T9W/pXVIHcuZNdk75pW1LbF/99INor+7Mg5dlQGgrXedree85zQAAAAAwF8SDwAAAAAAAAAAAAAAgJAfHgAAAAAAAAAAAAAAAKF5mqZFGQAAAOA9luXvfwqY57mLMX0/08J4S8w5knu+qef9PfeV79Qa45lx3NlDJa6b32OOsq8BoKd3rb13Hc9mAAAAAIC/JB4AAAAAAAAAAAAAAAChjxIAAAAA1JeaJvBEV/yz58k9rvXxznQsTnEmvSBH+sKZMemuDAD53yei53mt5zwAAAAAwAgkHgAAAAAAAAAAAAAAACGJBwAAAMDjUrq8v6UT/F4Swp2u+FFH3zPHemoNUhIJzqQY3JlP6RpE89haP+kIAIyqhSQgaUQAAAAAAH9JPAAAAAAAAAAAAAAAAEISDwAAAIAuXOlo//R5z3x3/Xdbn41SC65ISRGoXesc81gnIOQee3Tc35rdSVJY1z7nmgPAW+09twEAAAAASCPxAAAAAAAAAAAAAAAACEk8AAAAgJeJOqsz7dalha7/0RjOrOXoHX9zrFNKTe7Ube+7R9dny+kTAFDyvaz2M9AzFwAAAADgL4kHAAAAAAAAAAAAAABASOIBAAAA0IWSSQ0pHejvjPnuZ+6c7zu36DyjJ2BcmdfemuSsk07KAHD/mX7leSoBDAAAAADgPIkHAAAAAAAAAAAAAABAyA8PAAAAAAAAAAAAAACA0EcJAAAA4J3meR5+jsuy/Jnr98+j1WdvrKnz+P3cuk7rOtr7/x7rt2ZH9XrDtQcAuZ+vAAAAAAA8S+IBAAAAAAAAAAAAAAAQkngAAAAAdOVKt/h1t9xeO87XmkfUZXi05IOc+3AvMaL2fgeAEZ+3NdIPPHcBAAAAAGISDwAAAAAAAAAAAAAAgJDEAwAAAGBYtbvW1koEqDWvKPmgB6XGXLv2AAAAAAAAAC2QeAAAAAAAAAAAAAAAAITmaZoWZQAAAAC4b91lP3fX+lqJCk/Nr8aYexs/AHD8TD/7XE9JRvKeAAAAAADwl8QDAAAAAAAAAAAAAAAg9FECAAAAgDy+nXG/XXRzJxTovAsAvEFKIkGO467f3VI+CwAAAADwVhIPAAAAAAAAAAAAAACAkMQDAAAA4LStrrC6wB7X626NciconGWNAYARrN9p9pIPvP8AAAAAAPyPxAMAAAAAAAAAAAAAACDkhwcAAAAAAAAAAAAAAEDoowQAAABADsuyTNM0TfM8v+K8tefHNVv7Qk0BwHsBAAAAAADnSDwAAAAAAAAAAAAAAABCEg8AAACA01roFvuWrvW/tdapP+/+GD0tAwDe8B6a8/3IOwEAAAAAQEziAQAAAAAAAAAAAAAAEJJ4AAAAABRRq5v8mzrT1p5ragdh3YEBgB7fU73TAAAAAACkk3gAAAAAAAAAAAAAAACEJB4AAAAARdVKPmhJD3N947oAAOO9X915l/EeBAAAAACQTuIBAAAAAAAAAAAAAAAQkngAAAAA/J9vF/yvnF1gf4+tu2zemt6p53rNz7COAEAv76LeYQAAAAAA7pF4AAAAAAAAAAAAAAAAhCQeAAAAwEvtdbrP0QV2fYzf8+Xo1F/iWG9f97fXxB4CgHbfWzynAQAAAACeJfEAAAAAAAAAAAAAAAAI+eEBAAAAAAAAAAAAAAAQmqdpWpQBAAAAqGlZ/v7niHmeFaVyHa98t+V1W49ta4wpnwEA2nuee14DAAAAADxP4gEAAAAAAAAAAAAAABD6KAEAAADwNAkIzzlT65bXJWVs38+s99v3z/YdALTxLggAAAAAQHskHgAAAAAAAAAAAAAAACGJBwAAAEB1Uef5Lx3op926tHKM0dbHvgOAd79TeQcAAAAAAIhJPAAAAAAAAAAAAAAAAELzNE2LMgAAAABPyNF9f+0NnWpz1u1Mvdbn7b3WKXXU+RgAnnsm33kO/x5zfZx1ytHW+b0DAAAAAAD8JfEAAAAAAAAAAAAAAAAISTwAAAAAHlci+WCaxu9Um6Nub048iOanwzEAPPsukyvp4Ozx9lISAAAAAADeTuIBAAAAAAAAAAAAAAAQ+igBAAAAjKmn7u3fMaZ08D+aT6n0hN7rlmMvpa5Br9cKADDmu8zZ8QAAAAAA8C+JBwAAAAAAAAAAAAAAQMgPDwAAAAAAAAAAAAAAgNBHCQAAAGAcy7J0Pf55nsN5fP8u9Rilapr7+E+td0vzKFmbrXlGdRu9JgAwwnO8x3c2AAAAAIARSDwAAAAAAAAAAAAAAABCEg8AAABgAHud7690jKWPrrlRQsSZLv93atNiTdbz/P3zeryuCQDo530sem73nvgFAAAAANALiQcAAAAAAAAAAAAAAEBI4gEAAAB0bNQOr1En/yfG8NQa7tXgSuf+p2r6dHLE1vkkHQBAX++ELb7DAQAAAAC8jcQDAAAAAAAAAAAAAAAgNE/TtCgDAAAA9Cmle72ur+OsabSWpVIFjtIY7hyr9L78ns/+B4B+3nvOPLefTlUCAAAAAHgbiQcAAAAAAAAAAAAAAEDoowQAAADQj5SEgy9dX/tc2/W6Pbnm3+OdGUPqsa4kO1y5Rn7/7JoAgDbdSToAAAAAAKAOiQcAAAAAAAAAAAAAAEBI4gEAAAAMREf3/hx17d1b0x47/qbs0WheV/a3awIAvLvWfpfz/gEAAAAAjEjiAQAAAAAAAAAAAAAAEPLDAwAAAAAAAAAAAAAAIPRRAgAAAOjHPM9//rwsi6I06M667H13vf5H/7zUvqu1z8/U0bUAADz9vlf7nQkAAAAAoCaJBwAAAAAAAAAAAAAAQEjiAQAAAEBmVzr2Rx1yf4/x/f/fz76lq+7ePCUdAEDbrqQ5jfKeAgAAAAAwEokHAAAAAAAAAAAAAABASOIBAAAADECn1Xes7du6++fY1781c50AQFvWaU7rP6d81vs3AAAAAEAdEg8AAAAAAAAAAAAAAIDQPE3TogwAAAAA29bddFO620YdeFPSC/aOf2UsV8baQwffqBYp3Y91KAaAvt6hUni+AwAAAACUJfEAAAAAAAAAAAAAAAAISTwAAAAAulYiBeDqeVpJMUgZ0xVPdxI+k86wN28dkQGgv/e89fO71jsgAAAAAAD/I/EAAAAAAAAAAAAAAAAIfZQAAAAA4Ni3i+63u25KkkBK592nu/OeSW74/vPaYz6TdAAA9O9KYtNT7ykAAAAAAG8h8QAAAAAAAAAAAAAAAAhJPAAAAAC6cKXz7VN66LS7N8b13z1V+1LnjY6rQzIAeKcCAAAAAGCbxAMAAAAAAAAAAAAAACDkhwcAAAAAAAAAAAAAAEDoowQAAABAa5ZlyfLdeZ6zj+17zDtjfLJeV2qynvP3f0vUN/fYAYCx3wG9HwAAAAAA1CHxAAAAAAAAAAAAAAAACEk8AAAAgAFsdYftoftrjq62e8d4qjN/S3LOvVYd12uaI6Vh7zgtpVcAAGnPfkkHAAAAAAB1STwAAAAAAAAAAAAAAABCEg8AAACgQ6N0aD/qVJsyzzMJCDXH3nJdUS8A8EwGAAAAAOAMiQcAAAAAAAAAAAAAAEBI4gEAAAAMRJfYvzX4ph98/7f3+owyj5q1ulK/3++qNQAAAAAAAIDEAwAAAAAAAAAAAAAAYIfEAwAAABiAruz7ddnqft+z0ebTQ61dYwDg2QwAAAAA8GYSDwAAAAAAAAAAAAAAgJDEAwAAABjAqJ1ff+eTo8u/Drl9rbtkBwDo7310730u57uZ9zoAAAAAgLokHgAAAAAAAAAAAAAAACE/PAAAAAAAAAAAAAAAAELzNE0y6wEAAIChLcv//vPHPM9DzScyyjxL1mirXinfUVsAPF+v2XqG3nlHG+39DgAAAACgdRIPAAAAAAAAAAAAAACA0EcJAAAAgNGtO9rrjPueNU9xp3szAHi+bj9Pz3y29LMeAAAAAID7JB4AAAAAAAAAAAAAAAAhiQcAAADA65zpyNuidYLD3vxG6AbcQlLF+tx7nZp1YAbgjTz/AAAAAADGJvEAAAAAAAAAAAAAAAAISTwAAAAAXm+0hIAR16Xm8bb2wJmx9J6oAQC1nr9Hz0jvaAAAAAAA7ZB4AAAAAAAAAAAAAAAAhCQeAAAAAK/x7ZS713n3+3ctd9XNnQTQ83rlqFHKWq8/s7dP1ueWgAAA3nUAAAAAAHon8QAAAAAAAAAAAAAAAAjN0zRpGwMAAAC8Uko33Za600fjjbrxtzb+u/NOmUtL6QJH+0vyAQBvf+86ehZe+Q4AAAAAAGVIPAAAAAAAAAAAAAAAAEJ+eAAAAAAAAAAAAAAAAIQ+SgAAAAC81TzP0zRN07IsXY8/9Z/3vk5PWO+NM2OJ9tdo6wMAd5+zno0AAAAAAO2TeAAAAAAAAAAAAAAAAIQkHgAAAACvV7rLbkqiQjSGre/qClxvTdepBTozA8D9Z3Nq2tSV7wAAAAAAUIbEAwAAAAAAAAAAAAAAICTxAAAAAKBBkg7u1wsAAAAAAACAPCQeAAAAAAAAAAAAAAAAIYkHAAAAAIV9kwrOdOW/8p2vve+8JTXhW4Nc871znDtrCQCexXWOCwAAAADAPokHAAAAAAAAAAAAAABAaJ6mSas1AAAAgMpSu9/f7ea7Ps/T3YG35q1jMQD08d5y5pl9JenpyvG8RwAAAAAA1CHxAAAAAAAAAAAAAAAACH2UAAAAAKC+b3feM92AWz7P1XG9wZUu0QDQyzMtes7leAfZ+67nKgAAAABAXRIPAAAAAAAAAAAAAACAkB8eAAAAAAAAAAAAAAAAoY8SAAAAAKNblmWapmma5/m1NXh67t81eOO+A4C7z4/W3mG2xrh+37ryHEz5zpvf5wAAAAAAniTxAAAAAAAAAAAAAAAACEk8AAAAAIbVWsf5lsZTOgWih27/kjAAaNGdxIBe33ekBAEAAAAAtE/iAQAAAAAAAAAAAAAAEJqnadJGBgAAABjGVsfcVjratzC2qKNw6XHsdTJOPXepbsgSDwDwTnP/2bseW47ntmc0AAAAAEA7JB4AAAAAAAAAAAAAAAAhiQcAAADAEFpOOmi1PldrtT5WynevfOfsHI7mlbMGAPDkc7zWM+vus/fqsTyTAQAAAADaI/EAAAAAAAAAAAAAAAAIfZQAAAAAGElvHXKf6mB8NI7fsUQdikslHXy/k/LZ9Wf2vns0HwB4+/vNlXSg1OfqmRQiAAAAAADaI/EAAAAAAAAAAAAAAAAISTwAAAAAunSmU+6djv2j12arFi2nMByN6c5YzyQtAMBb3xNyPHulEAEAAAAA9EfiAQAAAAAAAAAAAAAAEPLDAwAAAAAAAAAAAAAAIPRRAgAAAKAny7Js/vN5nh8f05UxfL8TzeuKvXGkjDVHLdfzOXPMEjW5OvYn9xUA737Xyf0Mip7Ne89bz0EAAAAAAL4kHgAAAAAAAAAAAAAAAKF5mqZFGQAAAIDeXOkGfCct4Uz3/SvdgUt1Nz6aR61uyjmPmXvcKWt7dL7SYwRg3HeZWlp8Lh3VwLMUAAAAAKAdEg8AAAAAAAAAAAAAAIDQRwkAAACAHl3pgPv9TukOw1fSC3ImA+wda12DM2Ot3Zm59l46M79RawGAdyYAAAAAANgi8QAAAAAAAAAAAAAAAAjN0zRpzwYAAAC8QkqX+nVX4PV3Urrj1+4sfGVeZ757R6laROtSuo5n9sFT+wGAvt9L9p4bV55Vo9YCAAAAAIC6JB4AAAAAAAAAAAAAAAChjxIAAAAAb5HSpf6ok/7Wd3N24/0ev3SH316TDu7MJzX14czYtz5burYAjK1UAk+P72wAAAAAALRD4gEAAAAAAAAAAAAAABCap2nSgg0AAAB4pStd8mslHoyipdrongxA7+8lR8+00u8ptZ/fnt0AAAAAAO2QeAAAAAAAAAAAAAAAAIT88AAAAAAAAAAAAAAAAAjN0zQtygAAAAC80bIc/2eReZ4Pvxt95qmx3T3u0XlyHOPumEvUHABaeC/5PuNGe/5deX/w7AcAAAAAaIfEAwAAAAAAAAAAAAAAICTxAAAAADqy7hSr82veel6taWoH35bXa28OR+PeSn9Yd20GAO4/pyUeAAAAAADwFIkHAAAAAAAAAAAAAABASOIBAAAAdCDqEKvza5563q3jnQ6+b1nDO4kKtcb2xutJMgUALbwLvP09CQAAAACgBxIPAAAAAAAAAAAAAACA0EcJAAAAoE0td4gfpaa56vg9zpVOvqXGZF2uXVtvvzbcWwAAAAAAAIAtEg8AAAAAAAAAAAAAAICQxAMAAABoREoXdt3I86hVx/V5dNrfrv26LqUSEEZPl7iTWuDeAkAL7wCeSwAAAAAA7ZJ4AAAAAAAAAAAAAAAAhCQeAAAAQAd0fe2jjkfHP9Pplzy26tvz9ZRrv9h3gHs9Lb2b3UntAQAAAACgDokHAAAAAAAAAAAAAABAyA8PAAAAAAAAAAAAAACA0EcJAAAA4FnLsmz+83meHzt/rXMfjeWpcdT0hjmm7He1uV839QLcG9t5v+LemlonAAAAAID2SDwAAAAAAAAAAAAAAABCEg8AAACgES11dn2qS/D3+N/z/45D59v3yd31uOc9tDX2M+kRd74DALWec55TAAAAAADtkngAAAAAAAAAAAAAAACEJB4AAADAw57uwn6mk3ruDvSt1oR81nspV+f+s+flb/3X9al1bQP08FwCAAAAAAD+JfEAAAAAAAAAAAAAAAAIzdM0af8GAAAA/KEbMLn30HovXUkksA/T6namTq514G33SM8bAAAAAAC4RuIBAAAAAAAAAAAAAAAQkngAAAAAQDZ3uk2vO0zvHat2N+rvWJ7qgr1VixxjOUqmAOj1GRTdxyTuAAAAAADANRIPAAAAAAAAAAAAAACAkMQDAAAAAKo708E/pTt16W7U6zE8lbiQawxPzwegl2dTqhIpNO7NAAAAAAC0ROIBAAAAAAAAAAAAAAAQ8sMDAAAAAAAAAAAAAAAgNE/TtCgDAAAAMIpl+e8/dczzrCAdrNOV9dr6/pbce+B73tp7a2++d+rmGgGefg60fB9KfdacFc05170eAAAAAABKkHgAAAAAAAAAAAAAAACEJB4AAAAAQ5F40N865VivlK7UI+yHM92wc6ckuJ6AkvexHPeY0u8ApRIQrnBPBgAAAACgNokHAAAAAAAAAAAAAABA6KMEAAAAANT226n520H6Tmf973f2ulHfOX7JDt1X65aDNAOghpSkgPVnriSz1LoHt5R8AAAAAAAAtUg8AAAAAAAAAAAAAAAAQvM0TVrzAAAAAN3b6z7cUzf3N3agv9PlutY+OOpu3fJ6pXTm3ht/zvUByHn/rv3s33tGP52C4N4MAAAAAEBpEg8AAAAAAAAAAAAAAICQxAMAAABgCL0nHkTjf0MH4xIpD6WSI+6mB/S4z968N4E+nuO53wHupNzkSD64c3z3ZgAAAAAASpF4AAAAAAAAAAAAAAAAhCQeAAAAAEPpLfngrZ2Lt+bd41x7T0C4M1ddtYEe3wFSEnHu3O9KJx4cnce9GQAAAACAUiQeAAAAAAAAAAAAAAAAIT88AAAAAAAAAAAAAAAAQvM0TYsyAAAAAL1bluP/xDHPc5fjbnn8Oefd8/x63X855jrSvgTe835Q6t71Pd/3+Gee82fGWHteAAAAAAAg8QAAAAAAAAAAAAAAAAhJPAAAAABowNuSD2olHjyRrFCqu3VPe1bHbaDmfTXlnnMmraVWsstbnhcAAAAAAIxB4gEAAAAAAAAAAAAAABD6KAEAAADAc+50O6Z8XWt1vV6fr4dO1t8xbtW6p3kA77C+Z7Vwn1qf+8yzy30WAAAAAIDaJB4AAAAAAAAAAAAAAACheZombfUAAAAAHrbuXLzV9XikrsZ7XZ1zzPNOJ+jcY7uTvtDTmpdeU+C9z78c98wrx61970q5j0af2RqrVAQAAAAAAHKSeAAAAAAAAAAAAAAAAIQkHgAAAABD+e0ErMNvH+sUGW397nTx7q0mR3N1bQI5740p95k7iQe1kgPWY0w53953rhwPAAAAAAAiEg8AAAAAAAAAAAAAAICQxAMAAABgCFudjHX2LVvjO/Xd6zw9+rrl6u6ds/6l1rLkHAD3wtz30NQx5bp31UqHkXwAAAAAAEAOEg8AAAAAAAAAAAAAAICQHx4AAAAAAAAAAAAAAACheZqmRRkAAACA3ixL+n/SmOdZwTLW+k49U9btyvG/x+1prc/s4VL1ynmt3J2P6xQ8x1PvD3fuN2fuNaXfNY6On/u+2MOzssfnOQAAAADAW0g8AAAAAAAAAAAAAAAAQh8lAAAAAHq21xE3V0d5NZ6LHutOd+Oe1/h3vqk12Jpvju7QT3WW1tEauHPvKJ1IcOY8V+7FV+ZRWiuJA3s18ewAAAAAAHiGxAMAAAAAAAAAAAAAACAk8QAAAADoUkq32+gzrXTzfZM73ZxTvtv7WuYYf0v72rUFlHiG3Ekt6GGso9Tc8wMAAAAAYEwSDwAAAAAAAAAAAAAAgJDEAwAAAOA17nTdp5w73Y11Rn6+FinXlZQR4KnnePSdvfvR+jsp9671d1KO4b0EAAAAAICeSDwAAAAAAAAAAAAAAABCEg8AAAAAKO7b6Xmru3PUDf9Kx2nyO1qHM+uyl3wgFQG48yxpfWx30xru3BuPzi15AQAAAACAFBIPAAAAAAAAAAAAAACAkMQDAAAA4DVa7pRsDf4j6eB5rhFw/Uf37yfvLznuTXvpOt+/uzPXo/Seu3O/Mrb1szdlTJ69AAAAAACsSTwAAAAAAAAAAAAAAABCfngAAAAAAAAAAAAAAACEPkoAAAAAQAuWZfnz53meFWWlVk22zrNenxzj3jrm959ZfxjzvvM93p17SolnTm/PypR1WX82pfbuvQAAAAAARCQeAAAAAAAAAAAAAAAAoXmapkUZAAAAAKjpTKfpN3ZfrtX1/0zKROkxSbyA+vfcvXSTWtdgi8kDd+aeci9b17hEokyu87gXAwAAAADwJfEAAAAAAAAAAAAAAAAISTwAAAAAoDqJB2l1abHjuMQDGPve+/S1d2aMe/eNnEkKZ2py5162N+aUOV+9n3smAwAAAACQQuIBAAAAAAAAAAAAAAAQ+igBAAAAALXk7EBNPildr3W5hndc6y2OMbr/rD+b8p1Sc8+R2nLlO1fmk3KeaK98/5zrmSDtBgAAAACgHxIPAAAAAAAAAAAAAACAkMQDAAAAAKrpodt2C/VpcX1yd7m2N4Bc98Mrn92619RKHOjh2RLd892jAQAAAADeS+IBAAAAAAAAAAAAAAAQmqdp0p4GAAAAgMcddVF+Og1gxFpHNd1bi7esQ+mEB2j1fntmz7tO6j27ovPsHX/9nTPpBaXX9GhsAAAAAAC0R+IBAAAAAAAAAAAAAAAQ8sMDAAAAAAAAAAAAAAAg9FECAAAAAFowz/PmP1+W5bExrc8djbFlV+r3O8/192vX5Onzwdt8r4Ec9+SjY/Veo617U857yN6xUmraWt336gYAAAAAQPskHgAAAAAAAAAAAAAAACGJBwAAAAA05emO8713vE8Zf84O03c7cnNcW3Uk9do7u1e2Pv897nr/3Tlfynd72u97Y8wx/iv31Sv1q1VrSTIAAAAAAGOQeAAAAAAAAAAAAAAAAIQkHgAAAADQlL3u2iWM0rE/msfvHKJO5j2tV67aRN3W976bs7v71T0JKXvnaL+ldOxPuafcuT/Y5+WeXa0+17fGL9kFAAAAAKAfEg8AAAAAAAAAAAAAAIDQPE2TtkIAAADAq13paN7auFP12FH4bvf4p8dde6y5z5uj63nO86ec98y1cXS8u/eH1PH3us/p81lQ+5reuo6evrdY0zbnaP0BAAAAANol8QAAAAAAAAAAAAAAAAh9lAAAAACgT2e6Aufqntz6PFvQc6336l97XrXOd5QQcXf/resXnU+Xb3LcI3u6/6yvDddA/fvokzWPni32AwAAAABAuyQeAAAAAAAAAAAAAAAAIYkHAAAAAD9G7bSrc3CdfTOynvbQ3lijtap17d85vk7gngGp+yvnPWldk99jp9Zp73O1a71Xm1bWPWUdc9xLRt2zAAAAAACUIfEAAAAAAAAAAAAAAAAI+eEBAAAAAAAAAAAAAAAQmqdpkl8LAAAAvNKyxP9ZZJ7n19fibTW4U7ffWq1rua6jWrd1nUbHb3FNtvYbZfZZ7zXeu26ieaZ+p4U6XbkWojV2TwYAAAAAgDQSDwAAAAAAAAAAAAAAgJDEAwAAAOD1dDver4fOz9dqdNQ9vHRde++On9J9PefcciYf5E5pKJXK4FovX+NW53nlnvVkTWqtj1QRAAAAAACISTwAAAAAAAAAAAAAAABCHyUAAAAA+NebO4F/5/qtga7ox7XqZS/3Nt7Uz+aY19O1OTPv0mN44zW+vu+VrsnT99UW9luO9XEtAAAAAABAPRIPAAAAAAAAAAAAAACAkMQDAAAAgEyiTsy9dkyu3WF6NE/Xr7f1k6zx3H3qqNZXvvOW+3tqTY6+X6vDfq/39dT6jfQMBgAAAACA1kg8AAAAAAAAAAAAAAAAQvM0TVrWAQAAAK9wp8PznU7Wui2/ay9F652jw7i91N/+WHeYP7OGZ/bMldSCHHu29p4slQxw5j6ems7Rchf+lBSLlte/9P2yVgIFAAAAAAD0ROIBAAAAAAAAAAAAAAAQkngAAAAAvEapTsk6I9tTKXsoZZ+kdlKnv3rdGWuOe9ed7vu5O9+3nP5Rq6N+rf2WY4wtJjdEY3LPxHsZAAAAAEA5Eg8AAAAAAAAAAAAAAICQHx4AAAAAAAAAAAAAAACheZqmRRkAAACAN1uWf//zyDzPCpOxpqPWc2vv2Ev2W8pYc4xxb/+tj3/ms3fOfedYW989usZKrXXKtV17v53Z5yWuiZbudzn3H23d17zXAQAAAAC0S+IBAAAAAAAAAAAAAAAQkngAAAAAQDFvTD5I7TSv+3L5/dZirUuN8cpxr1yf0XdKdTw/kzxwNI8zXdBznvfJWuQcW0spENJm2rz3tlbzvWczAAAAAADnSTwAAAAAAAAAAAAAAABCEg8AAAAAKG6vO/XoXYh15o5rUmrePey33GM82mdnkg/2vnOUeFCr5ne6/6eMbW+Ppp77if2dOpYz6Q8lzt/S/VViTf51UB8AAAAAgDFJPAAAAAAAAAAAAAAAAEISDwAAAACopnSn+5bnvPbGjtC1u2Lf6er+5P6onXhwZX3OdL1vLfHgbi2Orula6Q85Uh+u1KLGOUvUIjXN4ImajvI8eOMzHgAAAADgTSQeAAAAAAAAAAAAAAAAoY8SAAAAAFCLLsj1tdD1/6nu3mfOU2qMtTqA1+rmnuN8PXRFX6cXnEkx2JpXifVISViodT3VGkOpeyJ19qR3AAAAAACAvkk8AAAAAAAAAAAAAAAAQvM0Tdr7AAAAANCVHjqmR2P+emLsT42hhbnXHOOVlIkrXdhTOtA/nW6xNYba+yFHLXIlh1zpBH+0N84kLKw70ueu/Zl9XGLdc6UZXEmTuJOw0vK9sdQ6SD8AAAAAAOiPxAMAAAAAAAAAAAAAACAk8QAAAACA7ozeLbp2/Wp1nG95nXJ2gP+db8657nURj1IFWkg8WI8x5fqtNf7U81xJcrjy2TvJBy3eE8/UpMVr+07N76QvSD4AAAAAAKBFEg8AAAAAAAAAAAAAAICQHx4AAAAAAAAAAAAAAACheZqmRRkAAAAA6Nmy/P1PXPM8K8qFuqlfubrmrGm0bk+s5Xcs3/PsjS3lM7XncXTvOLOWV+Z1Zu4trXvOPdvy/eZOze/sh1HuwSk18LwBAAAAAOiHxAMAAAAAAAAAAAAAACAk8QAAAACAYUg+uFcvdctfz9q1zNnB/8yeSTlmzkSAXHUtmb5QKgGh9+v1qC615rNO67i7lkfH6TmxIleNW7hHAgAAAABwncQDAAAAAAAAAAAAAAAgJPEAAAAAgGFIPMhTP3Xrv353uu2npCRcucaO6nM3IeBK3e8kOJRcg9Lzbvm+XWpeOc6TI/kg5ThXEkOkCgAAAAAAUJrEAwAAAAAAAAAAAAAAICTxAAAAAIDh3Ok8r1s0I+z9yO9ezpmKUGPsJc6bI5WgVIJDjrXoMcUkV8JGrX2eI2nnyhjvJCt4pgEAAAAAcIXEAwAAAAAAAAAAAAAAICTxAAAAAIDh5E48+BqlS/SZDt1Hn5UQ0c463t2zOY6Xcu21lLSQmhCRss9z1q+0Hq7RXPfiUmkCOZ87KWPPcdweEzAAAAAAAGiHxAMAAAAAAAAAAAAAACAk8QAAAAAAAmeSAUaY3948UzvD8+z65eyKfmad76RoXLGXRJBDjo76pa6JnHN+w3VbK/Ggh2sbAAAAAADukHgAAAAAAAAAAAAAAACE/PAAAAAAAAAAAAAAAAAIzdM0LcoAAAAAAP9alu3/dDbP89Dz3Jvfmc/S9lq2sodySZ1ryvnv1O17/FK1L1W/t93nWqyB+ysAAAAAAC2TeAAAAAAAAAAAAAAAAIQ+SgAAAAAA277dpmt1GG9lnr/zjWqgEzepe2j9mZS903NX/16vjfW4XfP1jP6MAQAAAABgDBIPAAAAAAAAAAAAAACA0DxNk1Y6AAAAAJDg25V69M7fe923dT3vc+1qrVvuvXOlE/xb9miOLvln0idc+/XWUq0BAAAAAGiRxAMAAAAAAAAAAAAAACAk8QAAAAAACD3dQZ/0NTmrxBqWTss4M/c3Jh9853xUpzO1kYBS/5pWVwAAAAAAWiTxAAAAAAAAAAAAAAAACEk8AAAAAAAO6cjd7lrclXMtW+iOL6WjbA22EhZwnwUAAAAAYHwSDwAAAAAAAAAAAAAAgNBHCQAAAAAA+nalM/q3u/r3f0fvrr6VAvCWjvI559lbzXra398x5k41AQAAAACAHCQeAAAAAAAAAAAAAAAAIT88AAAAAAAAAAAAAAAAQvM0TTJ7AQAAAADIZln++8/O8zw/du5Utcf4hnVvpa4tjgkAAAAAAHok8QAAAAAAAAAAAAAAAAhJPAAAAAAAYFijJCB859FDx/6WUgaO1l8CAgAAAAAApJF4AAAAAAAAAAAAAAAAhCQeAAAAAAAwrCuJB18p3fBLdffvuVN/Ss1rjz8ak8QDAAAAAABII/EAAAAAAAAAAAAAAAAISTwAAAAAAGA4URLBnQSEM8e50kk/19h6WpfaYy+VUFG6RpIZAAAAAAB4msQDAAAAAAAAAAAAAAAgJPEAAAAAAIDX+O0mnysFYYvEg3tz1eFf8gEAAAAAAG2ReAAAAAAAAAAAAAAAAIQkHgAAAAAAwI8SCQi/oq71uc7bQ1d8iQcAAAAAANAXiQcAAAAAAAAAAAAAAEDIDw8AAAAAAAAAAAAAAIDQRwkAAAAAAOA/8zz/+fOyLEWOy381Wdf498/qBgAAAAAAz5N4AAAAAAAAAAAAAAAAhCQeAAAAAADQvXXH/Jxd8n+PlSv94O3W6xMlHwAAAAAAAG2QeAAAAAAAAAAAAAAAAIQkHgAAAAAAAE3ImVQBAAAAAADkI/EAAAAAAAAAAAAAAAAISTwAAAAAAIBE3478y7Ls/v2dY/+KzpP73AAAAAAAAHskHgAAAAAAAAAAAAAAAKF5mqZFGQAAAAAAGME6IaBUCkCJxIOWzgcAAAAAAPBL4gEAAAAAAAAAAAAAABCSeAAAAAAAwDCeSiKQPAAAAAAAAIxM4gEAAAAAAAAAAAAAABDywwMAAAAAAAAAAAAAACD0UQIAAAAAgHYsy/Lnz/M8K8oJ63qt61lqnVI+ay0BAAAAAIBeSTwAAAAAAAAAAAAAAABC8zRNizIAAAAAALRF8oG1BAAAAAAAaIXEAwAAAAAAAAAAAAAAICTxAAAAAAAAClonHnxJPgAAAAAAAHoh8QAAAAAAAAAAAAAAAAh9lAAAAAAAAPLaSjmQcAAAAAAAAPRK4gEAAAAAAAAAAAAAABDywwMAAAAAAAAAAAAAACDkhwcAAAAAAAAAAAAAAEBonqZpUQYAAAAAAAAAAAAAAGCLxAMAAAAAAAAAAAAAACDkhwcAAAAAAAAAAAAAAEDIDw8AAAAAAAAAAAAAAICQHx4AAAAAAAAAAAAAAAAhPzwAAAAAAAAAAAAAAABCfngAAAAAAAAAAAAAAACE/PAAAAAAAAAAAAAAAAAI+eEBAAAAAAAAAAAAAAAQ+igBAAAAALUty3L4mXmeFQoAAAAAAACgARIPAAAAAAAAAAAAAACAkMQDAAAAAKr7TTNIST8AAAAAAAAA4DkSDwAAAAAAAAAAAAAAgNA8TZOWcgAAAAA0Y52A8JuOAAAAAAAAAEB9Eg8AAAAAAAAAAAAAAICQHx4AAAAAAAAAAAAAAACheZqmRRkAAAAAAAAAAAAAAIAtEg8AAAAAAAAAAAAAAICQHx4AAAAAAAAAAAAAAAAhPzwAAAAAAAAAAAAAAABCfngAAAAAAAAAAAAAAACE/PAAAAAAAAAAAAAAAAAI+eEBAAAAAAAAAAAAAAAQ8sMDAAAAAAAAAAAAAAAg5IcHAAAAAAAAAAAAAABAyA8PAAAAAAAAAAAAAACAkB8eAAAAAAAAAAAAAAAAIT88AAAAAAAAAAAAAAAAQn54AAAAAAAAAAAAAAAAhPzwAAAAAAAAAAAAAAAACPnhAQAAAAAAAAAAAAAAEPLDAwAAAAAAAAAAAAAAIOSHBwAAAAAAAAAAAAAAQMgPDwAAAAAAAAAAAAAAgJAfHgAAAAAAAAAAAAAAACE/PAAAAAAAAAAAAAAAAEJ+eAAAAAAAAAAAAAAAAIT88AAAAAAAAAAAAAAAAAj54QEAAAAAAAAAAAAAABDywwMAAAAAAAAAAAAAACDkhwcAAAAAAAAAAAAAAEDIDw8AAAAAAAAAAAAAAICQHx4AAAAAAAAAAAAAAAAhPzwAAAAAAAAAAAAAAABCfngAAAAAAAAAAAAAAACE/PAAAAAAAAAAAAAAAAAI+eEBAAAAAAAAAAAAAAAQ8sMDAAAAAAAAAAAAAAAg5IcHAAAAAAAAAAAAAABAyA8PAAAAAAAAAAAAAACAkB8eAAAAAAAAAAAAAAAAIT88AAAAAAAAAAAAAAAAQn54AAAAAAAAAAAAAAAAhPzwAAAAAAAAAAAAAAAACPnhAQAAAAAAAAAAAAAA/L/27ibE6rKP4/DvHGcmGyhN1OxFEZyKJshqo9WiIqqFSkUUZVTMwgqiVuUqVyFh0VKhRb4EErkQIheSQhYEmWEbE6J8yQTLHCfD1InxnGcRHB6e5ttML2bzdF2r+9Zz34vf/+DqfPwTCQ8AAAAAAAAAAAAAAIBIeAAAAAAAAAAAAAAAAETCAwAAAAAAAAAAAAAAIBIeAAAAAAAAAAAAAAAAkfAAAAAAAAAAAAAAAACIhAcAAAAAAAAAAAAAAEAkPAAAAAAAAAAAAAAAACLhAQAAAAAAAAAAAAAAEAkPAAAAAAAAAAAAAACASHgAAAAAAAAAAAAAAABEwgMAAAAAAAAAAAAAACASHgAAAAAAAAAAAAAAAJHwAAAAAAAAAAAAAAAAiIQHAAAAAAAAAAAAAABAJDwAAAAAAAAAAAAAAAAi4QEAAAAAAAAAAAAAABAJDwAAAAAAAAAAAAAAgEh4AAAAAAAAAAAAAAAARMIDAAAAAAAAAAAAAAAgEh4AAAAAAAAAAAAAAACR8AAAAAAAAAAAAAAAAIiEBwAAAAAAAAAAAAAAQCQ8AAAAAAAAAAAAAAAAIuEBAAAAAAAAAAAAAAAQCQ8AAAAAAAAAAAAAAIBIeAAAAAAAAAAAAAAAAETCAwAAAAAAAAAAAAAAIBIeAAAAAAAAAAAAAAAAkfAAAAAAAAAAAAAAAACIhAcAAAAAAAAAAAAAAEAkPAAAAAAAAAAAAAAAACLhAQAAAAAAAAAAAAAAEAkPAAAAAAAAAAAAAACASHgAAAAAAAAAAAAAAABEwgMAAAAAAAAAAAAAACASHgAAAAAAAAAAAAAAAJHwAAAAAAAAAAAAAAAAiIQHAAAAAAAAAAAAAABAJDwAAAAAAAAAAAAAAAAi4QEAAAAAAAAAAAAAABAJDwAAAAAAAAAAAAAAgEh4AAAAAAAAAAAAAAAARMIDAAAAAAAAAAAAAAAgEh4AAAAAAAAAAAAAAACR8AAAAAAAAAAAAAAAAIiEBwAAAAAAAAAAAAAAQCQ8AAAAAAAAAAAAAAAAIuEBAAAAAAAAAAAAAAAQCQ8AAAAAAAAAAAAAAIBIeAAAAAAAAAAAAAAAAETCAwAAAAAAAAAAAAAAIBIeAAAAAAAAAAAAAAAAkfAAAAAAAAAAAAAAAACIhAcAAAAAAAAAAAAAAEAkPAAAAAAAAAAAAAAAACLhAQAAAAAAAAAAAAAAEAkPAAAAAAAAAAAAAACASHgAAAAAAAAAAAAAAABEwgMAAAAAAAAAAAAAACASHgAAAAAAAAAAAAAAAJHwAAAAAAAAAAAAAAAAiIQHAAAAAAAAAAAAAABAJDwAAAAAAAAAAAAAAAAi4QEAAAAAAAAAAAAAABAJDwAAAAAAAAAAAAAAgEh4AAAAAAAAAAAAAAAARMIDAAAAAAAAAAAAAAAgEh4AAAAAAAAAAAAAAACR8AAAAAAAAAAAAAAAAIiEBwAAAAAAAAAAAAAAQCQ8AAAAAAAAAAAAAAAAIuEBAAAAAAAAAAAAAAAQCQ8AAAAAAAAAAAAAAIBIeAAAAAAAAAAAAAAAAETCAwAAAAAAAAAAAAAAIBIeAAAAAAAAAAAAAAAAkfAAAAAAAAAAAAAAAACIhAcAAAAAAAAAAAAAAEAkPAAAAAAAAAAAAAAAACLhAQAAAAAAAAAAAAAAEAkPAAAAAAAAAAAAAACASHgAAAAAAAAAAAAAAABEwgMAAAAAAAAAAAAAACASHgAAAAAAAAAAAAAAAJHwAAAAAAAAAAAAAAAAiIQHAAAAAAAAAAAAAABAJDwAAAAAAAAAAAAAAAAi4QEAAAAAAAAAAAAAABAJDwAAAAAAAAAAAAAAgEh4AAAAAAAAAAAAAAAARMIDAAAAAAAAAAAAAAAgEh4AAAAAAAAAAAAAAACR8AAAAAAAAAAAAAAAAIiEBwAAAAAAAAAAAAAAQCQ8AAAAAAAAAAAAAAAAIuEBAAAAAAAAAAAAAAAQCQ8AAAAAAAAAAAAAAIBIeAAAAAAAAAAAAAAAAETCAwAAAAAAAAAAAAAAIBIeAAAAAAAAAAAAAAAAkfAAAAAAAAAAAAAAAACIhAcAAAAAAAAAAAAAAEAkPAAAAAAAAAAAAAAAACLhAQAAAAAAAAAAAAAAEAkPAAAAAAAAAAAAAACASHgAAAAAAAAAAAAAAABEwgMAAAAAAAAAAAAAACASHgAAAAAAAAAAAAAAAJHwAAAAAAAAAAAAAAAAiIQHAAAAAAAAAAAAAABAJDwAAAAAAAAAAAAAAAAi4QEAAAAAAAAAAAAAABAJDwAAAAAAAAAAAAAAgEh4AAAAAAAAAAAAAAAARMIDAAAAAAAAAAAAAAAgEh4AAAAAAAAAAAAAAACR8AAAAAAAAAAAAAAAAIiEBwAAAAAAAAAAAAAAQCQ8AAAAAAAAAAAAAAAAIuEBAAAAAAAAAAAAAAAQCQ8AAAAAAAAAAAAAAIBIeAAAAAAAAAAAAAAAAETCAwAAAAAAAAAAAAAAIBIeAAAAAAAAAAAAAAAAkfAAAAAAAAAAAAAAAACIhAcAAAAAAAAAAAAAAEAkPAAAAAAAAAAAAAAAACLhAQAAAAAAAAAAAAAAEAkPAAAAAAAAAAAAAACASHgAAAAAAAAAAAAAAABEwgMAAAAAAAAAAAAAACASHgAAAAAAAAAAAAAAAJHwAAAAAAAAAAAAAAAAiIQHAAAAAAAAAAAAAABAJDwAAAAAAAAAAAAAAAAi4QEAAAAAAAAAAAAAABAJDwAAAAAAAAAAAAAAgEh4AAAAAAAAAAAAAAAARMIDAAAAAAAAAAAAAAAgEh4AAAAAAAAAAAAAAACR8AAAAAAAAAAAAAAAAIiEBwAAAAAAAAAAAAAAQCQ8AAAAAAAAAAAAAAAAIuEBAAAAAAAAAAAAAAAQCQ8AAAAAAAAAAAAAAIBIeAAAAAAAAAAAAAAAAETCAwAAAAAAAAAAAAAAIBIeAAAAAAAAAAAAAAAAkfAAAAAAAAAAAAAAAACIhAcAAAAAAAAAAAAAAEAkPAAAAAAAAAAAAAAAACLhAQAAAAAAAAAAAAAAEAkPAAAAAAAAAAAAAACASHgAAAAAAAAAAAAAAABEwgMAAAAAAAAAAAAAACASHgAAAAAAAAAAAAAAAJHwAAAAAAAAAAAAAAAAiIQHAAAAAAAAAAAAAABAJDwAAAAAAAAAAAAAAAAi4QEAAAAAAAAAAAAAABAJDwAAAAAAAAAAAAAAgEh4AAAAAAAAAAAAAAAARMIDAAAAAAAAAAAAAAAgEh4AAAAAAAAAAAAAAACR8AAAAAAAAAAAAAAAAIiEBwAAAAAAAAAAAAAAQCQ8AAAAAAAAAAAAAAAAIuEBAAAAAAAAAAAAAAAQCQ8AAAAAAAAAAAAAAIBIeAAAAAAAAAAAAAAAAETCAwAAAAAAAAAAAAAAIBIeAAAAAAAAAAAAAAAAkfAAAAAAAAAAAAAAAACIhAcAAAAAAAAAAAAAAEAkPAAAAAAAAAAAAAAAACLhAQAAAAAAAAAAAAAAEAkPAAAAAAAAAAAAAACASHgAAAAAAAAAAAAAAABEwgMAAAAAAAAAAAAAACASHgAAAAAAAAAAAAAAAJHwAAAAAAAAAAAAAAAAiIQHAAAAAAAAAAAAAABAJDwAAAAAAAAAAAAAAAAi4QEAAAAAAAAAAAAAABAJDwAAAAAAAAAAAAAAgEh4AAAAAAAAAAAAAAAARMIDAAAAAAAAAAAAAAAgEh4AAAAAAAAAAAAAAACR8AAAAAAAAAAAAAAAAIiEBwAAAAAAAAAAAAAAQCQ8AAAAAAAAAAAAAAAAIuEBAAAAAAAAAAAAAAAQCQ8AAAAAAAAAAAAAAIBIeAAAAAAAAAAAAAAAAETCAwAAAAAAAAAAAAAAIBIeAAAAAAAAAAAAAAAAkfAAAAAAAAAAAAAAAACIhAcAAAAAAAAAAAAAAEAkPAAAAAAAAAAAAAAAACLhAQAAAAAAAAAAAAAAEAkPAAAAAAAAAAAAAACASHgAAAAAAAAAAAAAAABEwgMAAAAAAAAAAAAAACASHgAAAAAAAAAAAAAAAJHwAAAAAAAAAAAAAAAAiIQHAAAAAAAAAAAAAABAJDwAAAAAAAAAAAAAAAAi4QEAAAAAAAAAAAAAABAJDwAAAAAAAAAAAAAAgEh4AAAAAAAAAAAAAAAARMIDAAAAAAAAAAAAAAAgEh4AAAAAAAAAAAAAAACR8AAAAAAAAAAAAAAAAIiEBwAAAAAAAAAAAAAAQCQ8AAAAAAAAAAAAAAAAIuEBAAAAAAAAAAAAAAAQCQ8AAAAAAAAAAAAAAIBIeAAAAAAAAAAAAAAAAETCAwAAAAAAAAAAAAAAIBIeAAAAAAAAAAAAAAAAkfAAAAAAAAAAAAAAAACIhAcAAAAAAAAAAAAAAEAkPAAAAAAAAAAAAAAAACLhAQAAAAAAAAAAAAAAEAkPAAAAAAAAAAAAAACASHgAAAAAAAAAAAAAAABEwgMAAAAAAAAAAAAAACASHgAAAAAAAAAAAAAAAJHwAAAAAAAAAAAAAAAAiIQHAAAAAAAAAAAAAABAJDwAAAAAAAAAAAAAAAAi4QEAAAAAAAAAAAAAABAJDwAAAAAAAAAAAAAAgEh4AAAAAAAAAAAAAAAARMIDAAAAAAAAAAAAAAAgEh4AAAAAAAAAAAAAAACR8AAAAAAAAAAAAAAAAIiEBwAAAAAAAAAAAAAAQCQ8AAAAAAAAAAAAAAAAIuEBAAAAAAAAAAAAAAAQCQ8AAAAAAAAAAAAAAIBIeAAAAAAAAAAAAAAAAETCAwAAAAAAAAAAAAAAIBIeAAAAAAAAAAAAAAAAkfAAAAAAAAAAAAAAAACIhAcAAAAAAAAAAAAAAEAkPAAAAAAAAAAAAAAAACLhAQAAAAAAAAAAAAAAEAkPAAAAAAAAAAAAAACASHgAAAAAAAAAAAAAAABEwgMAAAAAAAAAAAAAACASHgAAAAAAAAAAAAAAAJHwAAAAAAAAAAAAAAAAiIQHAAAAAAAAAAAAAABAJDwAAAAAAAAAAAAAAAAi4QEAAAAAAAAAAAAAABAJDwAAAAAAAAAAAAAAgEh4AAAAAAAAAAAAAAAARMIDAAAAAAAAAAAAAAAgEh4AAAAAAAAAAAAAAACR8AAAAAAAAAAAAAAAAIiEBwAAAAAAAAAAAAAAQCQ8AAAAAAAAAAAAAAAAIuEBAAAAAAAAAAAAAAAQCQ8AAAAAAAAAAAAAAIBIeAAAAAAAAAAAAAAAAETCAwAAAAAAAAAAAAAAIBIeAAAAAAAAAAAAAAAAkfAAAAAAAAAAAAAAAACIhAcAAAAAAAAAAAAAAEAkPAAAAAAAAAAAAAAAACLhAQAAAAAAAAAAAAAAEAkPAAAAAAAAAAAAAACASHgAAAAAAAAAAAAAAABEwgMAAAAAAAAAAAAAACASHgAAAAAAAAAAAAAAAJHwAAAAAAAAAAAAAAAAiIQHAAAAAAAAAAAAAABAJDwAAAAAAAAAAAAAAAAi4QEAAAAAAAAAAAAAABAJDwAAAAAAAAAAAAAAgEh4AAAAAAAAAAAAAAAARMIDAAAAAAAAAAAAAAAgEh4AAAAAAAAAAAAAAACR8AAAAAAAAAAAAAAAAIiEBwAAAAAAAAAAAAAAQCQ8AAAAAAAAAAAAAAAAIuEBAAAAAAAAAAAAAAAQCQ8AAAAAAAAAAAAAAIBIeAAAAAAAAAAAAAAAAETCAwAAAAAAAAAAAAAAIBIeAAAAAAAAAAAAAAAAkfAAAAAAAAAAAAAAAACIhAcAAAAAAAAAAAAAAEAkPAAAAAAAAAAAAAAAACLhAQAAAAAAAAAAAAAAEAkPAAAAAAAAAAAAAACASHgAAAAAAAAAAAAAAABEwgMAAAAAAAAAAAAAACASHgAAAAAAAAAAAAAAAJHwAAAAAAAAAAAAAAAAiIQHAAAAAAAAAAAAAABAJDwAAAAAAAAAAAAAAAAi4QEAAAAAAAAAAAAAABAJDwAAAAAAAAAAAAAAgEh4AAAAAAAAAAAAAAAARMIDAAAAAAAAAAAAAAAgEh4AAAAAAAAAAAAAAACR8AAAAAAAAAAAAAAAAIiEBwAAAAAAAAAAAAAAQCQ8AAAAAAAAAAAAAAAAIuEBAAAAAAAAAAAAAAAQCQ8AAAAAAAAAAAAAAIBIeAAAAAAAAAAAAAAAAETCAwAAAAAAAAAAAAAAIBIeAAAAAAAAAAAAAAAAkfAAAAAAAAAAAAAAAACIhAcAAAAAAAAAAAAAAEAkPAAAAAAAAAAAAAAAACLhAQAAAAAAAAAAAAAAEAkPAAAAAAAAAAAAAACASHgAAAAAAAAAAAAAAABEwgMAAAAAAAAAAAAAACASHgAAAAAAAAAAAAAAAJHwAAAAAAAAAAAAAAAAiIQHAAAAAAAAAAAAAABAJDwAAAAAAAAAAAAAAAAi4QEAAAAAAAAAAAAAABAJDwAAAAAAAAAAAAAAgEh4AAAAAAAAAAAAAAAARMIDAAAAAAAAAAAAAAAgEh4AAAAAAAAAAAAAAACR8AAAAAAAAAAAAAAAAIiEBwAAAAAAAAAAAAAAQCQ8AAAAAAAAAAAAAAAAIuEBAAAAAAAAAAAAAAAQCQ8AAAAAAAAAAAAAAIBIeAAAAAAAAAAAAAAAAETCAwAAAAAAAAAAAAAAIBIeAAAAAAAAAAAAAAAAkfAAAAAAAAAAAAAAAACIhAcAAAAAAAAAAAAAAEAkPAAAAAAAAAAAAAAAACLhAQAAAAAAAAAAAAAAEAkPAAAAAAAAAAAAAACASHgAAAAAAAAAAAAAAABEwgMAAAAAAAAAAAAAACASHgAAAAAAAAAAAAAAAJHwAAAAAAAAAAAAAAAAiIQHAAAAAAAAAAAAAABAJDwAAAAAAAAAAAAAAAAi4QEAAAAAAAAAAAAAABAJDwAAAAAAAAAAAAAAgEh4AAAAAAAAAAAAAAAARMIDAAAAAAAAAAAAAAAgEh4AAAAAAAAAAAAAAACR8AAAAAAAAAAAAAAAAIiEBwAAAAAAAAAAAAAAQCQ8AAAAAAAAAAAAAAAAIuEBAAAAAAAAAAAAAAAQCQ8AAAAAAAAAAAAAAIBIeAAAAAAAAAAAAAAAAETCAwAAAAAAAAAAAAAAIBIeAAAAAAAAAAAAAAAAkfAAAAAAAAAAAAAAAACIhAcAAAAAAAAAAAAAAEAkPAAAAAAAAAAAAAAAACLhAQAAAAAAAAAAAAAAEAkPAAAAAAAAAAAAAACASHgAAAAAAAAAAAAAAABEwgMAAAAAAAAAAAAAACASHgAAAAAAAAAAAAAAAJHwAAAAAAAAAAAAAAAAiIQHAAAAAAAAAAAAAABAJDwAAAAAAAAAAAAAAAAi4QEAAAAAAAAAAAAAABAJDwAAAAAAAAAAAAAAgEh4AAAAAAAAAAAAAAAARMIDAAAAAAAAAAAAAAAgEh4AAAAAAAAAAAAAAACR8AAAAAAAAAAAAAAAAIiEBwAAAAAAAAAAAAAAQCQ8AAAAAAAAAAAAAAAAIuEBAAAAAAAAAAAAAAAQCQ8AAAAAAAAAAAAAAIBIeAAAAAAAAAAAAAAAAETCAwAAAAAAAAAAAAAAIBIeAAAAAAAAAAAAAAAAkfAAAAAAAAAAAAAAAACIhAcAAAAAAAAAAAAAAEAkPAAAAAAAAAAAAAAAACLhAQAAAAAAAAAAAAAAEAkPAAAAAAAAAAAAAACASHgAAAAAAAAAAAAAAABEwgMAAAAAAAAAAAAAACASHgAAAAAAAAAAAAAAAJHwAAAAAAAAAAAAAAAAiIQHAAAAAAAAAAAAAABAJDwAAAAAAAAAAAAAAAAi4QEAAAAAAAAAAAAAABAJDwAAAAAAAAAAAAAAgEh4AAAAAAAAAAAAAAAARMIDAAAAAAAAAAAAAAAgEh4AAAAAAAAAAAAAAACR8AAAAAAAAAAAAAAAAIiEBwAAAAAAAAAAAAAAQCQ8AAAAAAAAAAAAAAAAIuEBAAAAAAAAAAAAAAAQCQ8AAAAAAAAAAAAAAIBIeAAAAAAAAAAAAAAAAETCAwAAAAAAAAAAAAAAIBIeAAAAAAAAAAAAAAAAkfAAAAAAAAAAAAAAAACIhAcAAAAAAAAAAAAAAEAkPAAAAAAAAAAAAAAAACLhAQAAAAAAAAAAAAAAEAkPAAAAAAAAAAAAAACASHgAAAAAAAAAAAAAAABEwgMAAAAAAAAAAAAAACASHgAAAAAAAAAAAAAAAJHwAAAAAAAAAAAAAAAAiIQHAAAAAAAAAAAAAABAJDwAAAAAAAAAAAAAAAAi4QEAAAAAAAAAAAAAABAJDwAAAAAAAAAAAAAAgEh4AAAAAAAAAAAAAAAARMIDAAAAAAAAAAAAAAAgEh4AAAAAAAAAAAAAAACR8AAAAAAAAAAAAAAAAIiEBwAAAAAAAAAAAAAAQCQ8AAAAAAAAAAAAAAAAIuEBAAAAAAAAAAAAAAAQCQ8AAAAAAAAAAAAAAIBIeAAAAAAAAAAAAAAAAETCAwAAAAAAAAAAAAAAIBIeAAAAAAAAAAAAAAAAkfAAAAAAAAAAAAAAAACIhAcAAAAAAAAAAAAAAEAkPAAAAAAAAAAAAAAAACLhAQAAAAAAAAAAAAAAEAkPAAAAAAAAAAAAAACASHgAAAAAAAAAAAAAAABEwgMAAAAAAAAAAAAAACASHgAAAAAAAAAAAAAAAJHwAAAAAAAAAAAAAAAAiIQHAAAAAAAAAAAAAABAJDwAAAAAAAAAAAAAAAAi4QEAAAAAAAAAAAAAABAJDwAAAAAAAAAAAAAAgEh4AAAAAAAAAAAAAAAARMIDAAAAAAAAAAAAAAAgEh4AAAAAAAAAAAAAAACR8AAAAAAAAAAAAAAAAIiEBwAAAAAAAAAAAAAAQCQ8AAAAAAAAAAAAAAAAIuEBAAAAAAAAAAAAAAAQCQ8AAAAAAAAAAAAAAIBIeAAAAAAAAAAAAAAAAETCAwAAAAAAAAAAAAAAIBIeAAAAAAAAAAAAAAAAkfAAAAAAAAAAAAAAAACIhAcAAAAAAAAAAAAAAEAkPAAAAAAAAAAAAAAAACLhAQAAAAAAAAAAAAAAEAkPAAAAAAAAAAAAAACASHgAAAAAAAAAAAAAAABEwgMAAAAAAAAAAAAAACASHgAAAAAAAAAAAAAAAJHwAAAAAAAAAAAAAAAAiIQHAAAAAAAAAAAAAABAJDwAAAAAAAAAAAAAAAAi4QEAAAAAAAAAAAAAABAJDwAAAAAAAAAAAAAAgEh4AAAAAAAAAAAAAAAARMIDAAAAAAAAAAAAAAAgEh4AAAAAAAAAAAAAAACR8AAAAAAAAAAAAAAAAIiEBwAAAAAAAAAAAAAAQCQ8AAAAAAAAAAAAAAAAIuEBAAAAAAAAAAAAAAAQCQ8AAAAAAAAAAAAAAIBIeAAAAAAAAAAAAAAAAETCAwAAAAAAAAAAAAAAIBIeAAAAAAAAAAAAAAAAkfAAAAAAAAAAAAAAAACIhAcAAAAAAAAAAAAAAEAkPAAAAAAAAAAAAAAAACLhAQAAAAAAAAAAAAAAEAkPAAAAAAAAAAAAAACASHgAAAAAAAAAAAAAAABEwgMAAAAAAAAAAAAAACASHgAAAAAAAAAAAAAAAJHwAAAAAAAAAAAAAAAAiIQHAAAAAAAAAAAAAABAJDwAAAAAAAAAAAAAAAAi4QEAAAAAAAAAAAAAABAJDwAAAAAAAAAAAAAAgEh4AAAAAAAAAAAAAAAARMIDAAAAAAAAAAAAAAAgEh4AAAAAAAAAAAAAAACR8AAAAAAAAAAAAAAAAIiEBwAAAAAAAAAAAAAAQCQ8AAAAAAAAAAAAAAAAIuEBAAAAAAAAAAAAAAAQCQ8AAAAAAAAAAAAAAIBIeAAAAAAAAAAAAAAAAETCAwAAAAAAAAAAAAAAIBIeAAAAAAAAAAAAAAAAkfAAAAAAAAAAAAAAAACIhAcAAAAAAAAAAAAAAEAkPAAAAAAAAAAAAAAAACLhAQAAAAAAAAAAAAAAEAkPAAAAAAAAAAAAAACASHgAAAAAAAAAAAAAAABEwgMAAAAAAAAAAAAAACASHgAAAAAAAAAAAAAAAJHwAAAAAAAAAAAAAAAAiIQHAAAAAAAAAAAAAABAJDwAAAAAAAAAAAAAAAAi4QEAAAAAAAAAAAAAABAJDwAAAAAAAAAAAAAAgEh4AAAAAAAAAAAAAAAARMIDAAAAAAAAAAAAAAAgEh4AAAAAAAAAAAAAAACR8AAAAAAAAAAAAAAAAIiEBwAAAAAAAAAAAAAAQCQ8AAAAAAAAAAAAAAAAIuEBAAAAAAAAAAAAAAAQCQ8AAAAAAAAAAAAAAIBIeAAAAAAAAAAAAAAAAETCAwAAAAAAAAAAAAAAIBIeAAAAAAAAAAAAAAAAkfAAAAAAAAAAAAAAAACIhAcAAAAAAAAAAAAAAEAkPAAAAAAAAAAAAAAAACLhAQAAAAAAAAAAAAAAEAkPAAAAAAAAAAAAAACASHgAAAAAAAAAAAAAAABEwgMAAAAAAAAAAAAAACASHgAAAAAAAAAAAAAAAJHwAAAAAAAAAAAAAAAAiIQHAAAAAAAAAAAAAABAJDwAAAAAAAAAAAAAAAAi4QEAAAAAAAAAAAAAABAJDwAAAAAAAAAAAAAAgEh4AAAAAAAAAAAAAAAARMIDAAAAAAAAAAAAAAAgEh4AAAAAAAAAAAAAAACR8AAAAAAAAAAAAAAAAIiEBwAAAAAAAAAAAAAAQCQ8AAAAAAAAAAAAAAAAIuEBAAAAAAAAAAAAAAAQCQ8AAAAAAAAAAAAAAIBIeAAAAAAAAAAAAAAAAETCAwAAAAAAAAAAAAAAIBIeAAAAAAAAAAAAAAAAkfAAAAAAAAAAAAAAAACIhAcAAAAAAAAAAAAAAEAkPAAAAAAAAAAAAAAAAKIuIwAAAAAAAAAAAACAf452uz3qnzcaDcMBzsu/Hd54AAAAAAAAAAAAAAAARMIDAAAAAAAAAAAAAAAgEh4AAAAAAAAAAAAAAACR8AAAAAAAAAAAAAAAAIiEBwAAAAAAAAAAAAAAQCQ8AAAAAAAAAAAAAAAAoi4jAAAAAAAAAAAAAIB/vna7bQjAeeGNBwAAAAAAAAAAAAAAQCQ8AAAAAAAAAAAAAAAAIuEBAAAAAAAAAAAAAAAQCQ8AAAAAAAAAAAAAAIBIeAAAAAAAAAAAAAAAAERdRgAAAAAAAAAAAAAA/3yNRsMQgKjdbp+zu73xAAAAAAAAAAAAAAAAiIQHAAAAAAAAAAAAAABAJDwAAAAAAAAAAAAAAAAi4QEAAAAAAAAAAAAAABAJDwAAAAAAAAAAAAAAgEh4AAAAAAAAAAAAAAAARI2qahsDAAAAAAAAAAAAAAAwGm88AAAAAAAAAAAAAAAAIuEBAAAAAAAAAAAAAAAQCQ8AAAAAAAAAAAAAAIBIeAAAAAAAAAAAAAAAAETCAwAAAAAAAAAAAAAAIBIeAAAAAAAAAAAAAAAAkfAAAAAAAAAAAAAAAACIuowAAAAAAAAAAAAAAOD/T6PRqN7e3po6dWq1Wq06fvx4DQ8PGwy/m/AAAAAAAAAAAAAAAOA8mjNnTj3//PPV09NTQ0ND9dJLL9WpU6f+8H1Tp06thx9+uG6++ea6+uqra86cOXX27Nk6ePBg7d27t955553atm1bjYyMGD7j0qiqtjEAAAAAAAAAAAAAAPy9Jk2aVIsWLarXXnut+vr6qqpqcHCw+vv76+jRo7/7vmazWYsXL66XX365+vv7f/Oz7733Xq1YsaI++eQTD4Kxv1tGAAAAAAAAAAAAAADw9+rt7a0XXnih1q9f34kO/qylS5fWunXrfhUdDA8P/+rtBnfffXdt3LixbrjhBg+DMQkPAAAAAAAAAAAAAAD+RjNmzKg1a9bUypUr65JLLvlL7ly4cGG9+uqrNW3atKr65c0Jq1atqr6+vpoyZUpNnz69Fi5cWGvXrq0ff/yxqqr6+vpq9erVdcUVV3go/CbhAQAAAAAAAAAAAADA32T+/Pm1cePGeuKJJ6rZbNbJkyfrrbfe+lN3dnd31/Lly2vWrFlVVXXixIl68skn68UXX6x9+/bV8PBwnThxonbu3FnPPPNMPffcc/XTTz9V1S/BwsDAgAfDbxIeAAAAAAAAAAAAAACcY41Go+67777aunVr3XXXXVVV9cMPP9Szzz5bK1as+FN3X3fddXXvvfdWVVWr1apXXnmlNm/eXCMjI7/67JkzZ2rDhg31+uuvV1VVs9msZcuWdaIFGI3wAAAAAAAAAAAAAADgHOvv769Vq1Z1fuB/8ODBevzxx2vDhg3V29v7p+6+//77q9n85afhhw8frk2bNo15Zv369XXkyJGqqpozZ04tWbLEQyISHgAAAAAAAAAAAAAAnGNff/11ffTRR9Vut+vTTz+tJUuW1LvvvlvtdrumTJnyh+/t6empRYsWdfbbt2+v/fv3j3nu888/r127dnX2t9xySydegP/lmwEAAAAAAAAAAAAAcI6dPHmyli9fXitXrqxHHnmk9uzZ0/m7rq6uP3zv9OnTO29RqKrasWNHtVqtMc+1Wq3atm1bZ3/rrbfWtGnTPChG1WUEAAAAAAAAAAAAAADn3rFjx2rFihV/6Z3z58+vmTNndvaHDx8e99ndu3d31pdffnnNnDmzjh075kHxK954AAAAAAAAAAAAAAAwQc2dO7e6u7urqur06dP15Zdfjvvs4OBgZ93b21vz5s0zUEYlPAAAAAAAAAAAAAAAmKAuvvjizvrAgQN15MiRcZ89fvx4Z91oNOrKK680UEYlPAAAAAAAAAAAAAAAmKAmT57cWQ8NDdXZs2fHfXZ4eLja7XZnf8011xgooxIeAAAAAAAAAAAAAABMUI1Go7P+74hgPNrtdg0PD3f2zaaflzM63wwAAAAAAAAAAAAAgH+h06dP1+HDhw2CMQkPAAAAAAAAAAAAAAD+hVqtVv38888GwZiEBwAAAAAAAAAAAAAA/0IXXXRR9fX1GQRjEh4AAAAAAAAAAAAAAExQrVars242f//Pw7u7uzvrdrttoIxKeAAAAAAAAAAAAAAAMEGdOXOms541a1ZNnjx53Ge7u7ur0Wh09vv27TNQRiU8AAAAAAAAAAAAAACYoIaGhjrryy67rKZNmzbus//92Xa7XQcOHDBQRiU8AAAAAAAAAAAAAACYoPbs2VOnTp2qqqoLL7yw5s2bN+6zM2bM6KzPnDlTBw8eNFBGJTwAAAAAAAAAAAAAAJigvvrqq/ruu+86+6uuumrcZ++5557OenBwsL7//nsDZVTCAwAAAAAAAAAAAACACer48eO1b9++zv62226rZnPsn4k3m81asGBBZ7979+46duyYgTL698UIAAAAAAAAAAAAAAAmprNnz9abb77Z2d9xxx01b968Mc9df/31NX/+/M7+ww8/rJGREQNlVMIDAAAAAAAAAAAAAIAJ7IMPPqjBwcGqqpo9e3YNDAyMeWZgYKAuvfTSqvrlrQlbtmwxSCLhAQAAAAAAAAAAAADABHbo0KFau3ZttdvtqqpatmxZLV68uLq6un712QsuuKCeeuqpevrppzt/tmnTpvriiy8MkqjLCAAAAAAAAAAAAAAAJrbVq1fXnXfeWTfddFNNnz693njjjVq3bl1t2bKlDh06VI1Go2bPnl0PPvhgDQwMVE9PT1VV7d+/v9asWWOA/KZGVbWNAQAAAAAAAAAAAADg/Lj99tvr/fffr6qqwcHB6u/vr6NHj/7ue2688cbavHlzzZ07d1yfP3LkSC1durR27NjhIfCbmkYAAAAAAAAAAAAAAHD+tNt/zf8l/9lnn9VDDz1U27dvH/OzO3furEcffVR0wLh0GQEAAAAAAAAAAAAAwPnz7bff1tatW2vSpEn1zTff1KlTp/7wXbt27aoHHnigFixYUI899lhde+211dPTU1VVw8PDtXfv3nr77bfr448/rqGhIcNnXBpV1TYGAAAAAAAAAAAAAIDzr9lsVqvV+kvuajQa1Ww2a9KkSVVV1Wq1amRkxJD5/d+lEh4AAAAAAAAAAAAAAABB0wgAAAAAAAAAAAAAAIBEeAAAAAAAAAAAAAAAAETCAwAAAAAAAAAAAAAAIBIeAAAAAAAAAAAAAAAAkfAAAAAAAAAAAAAAAACIhAcAAAAAAAAAAAAAAEAkPAAAAAAAAAAAAAAAACLhAQAAAAAAAAAAAAAAEAkPAAAAAAAAAAAAAACA6D9elpV0Kj4wlQAAAABJRU5ErkJggg==\"></img>"
      ],
      "text/plain": [
       "<napari.utils.notebook_display.NotebookScreenshot at 0x18b7b88e0>"
      ]
     },
     "execution_count": 20,
     "metadata": {},
     "output_type": "execute_result"
    }
   ],
   "source": [
    "from napari.utils.notebook_display import nbscreenshot\n",
    "\n",
    "# viewer.dims.ndisplay = 3\n",
    "# viewer.camera.angles = (-30, 25, 120)\n",
    "nbscreenshot(viewer, canvas_only=True)"
   ]
  },
  {
   "cell_type": "code",
   "execution_count": 11,
   "metadata": {},
   "outputs": [
    {
     "name": "stdout",
     "output_type": "stream",
     "text": [
      "function fixed_infer_er is already in all_functions.json\n"
     ]
    },
    {
     "data": {
      "text/plain": [
       "0"
      ]
     },
     "execution_count": 11,
     "metadata": {},
     "output_type": "execute_result"
    }
   ],
   "source": [
    "from infer_subc_2d.organelles_config.helper import add_function_spec_to_widget_json\n",
    "\n",
    "_fixed_infer_er =  {\n",
    "        \"name\": \"infer endoplasmic reticulum  (fixed parameters)\",\n",
    "        \"python::module\": \"infer_subc_2d.organelles\",\n",
    "        \"python::function\": \"fixed_infer_endoplasmic_reticulum\",\n",
    "        \"parameters\": None\n",
    "        }\n",
    "\n",
    "add_function_spec_to_widget_json(\"fixed_infer_er\",_fixed_infer_er)"
   ]
  },
  {
   "cell_type": "code",
   "execution_count": 12,
   "metadata": {},
   "outputs": [
    {
     "name": "stdout",
     "output_type": "stream",
     "text": [
      "function infer_er is already in all_functions.json\n",
      "overwriting  infer_er\n"
     ]
    },
    {
     "data": {
      "text/plain": [
       "1"
      ]
     },
     "execution_count": 12,
     "metadata": {},
     "output_type": "execute_result"
    }
   ],
   "source": [
    "\n",
    "_infer_er =  {\n",
    "        \"name\": \"Infer Endoplasmic Reticulum\",\n",
    "        \"python::module\": \"infer_subc_2d.organelles\",\n",
    "        \"python::function\": \"infer_endoplasmic_reticulum\",\n",
    "        \"parameters\": {\n",
    "                \"filament_scale\": {\n",
    "                        \"data_type\": \"float\",\n",
    "                        \"increment\": 0.05,\n",
    "                        \"max\": 10,\n",
    "                        \"min\": 0,\n",
    "                        \"widget_type\": \"slider\"\n",
    "                },\n",
    "                \"filament_cut\": {\n",
    "                        \"data_type\": \"float\",\n",
    "                        \"increment\": 0.001,\n",
    "                        \"max\": 0.5,\n",
    "                        \"min\": 0,\n",
    "                        \"widget_type\": \"slider\"\n",
    "                },\n",
    "                \"small_obj_w\": {\n",
    "                        \"data_type\": \"int\",\n",
    "                        \"increment\": 1,\n",
    "                        \"max\": 50,\n",
    "                        \"min\": 1,\n",
    "                        \"widget_type\": \"slider\"\n",
    "                }\n",
    "        }\n",
    "}\n",
    "\n",
    "add_function_spec_to_widget_json(\"infer_er\", _infer_er, overwrite=True )\n",
    "\n"
   ]
  },
  {
   "cell_type": "code",
   "execution_count": 10,
   "metadata": {},
   "outputs": [
    {
     "data": {
      "text/plain": [
       "1"
      ]
     },
     "execution_count": 10,
     "metadata": {},
     "output_type": "execute_result"
    }
   ],
   "source": [
    "\n",
    "_filament_filter =  {\n",
    "        \"name\": \"filament filter thresholding\",\n",
    "        \"python::module\": \"infer_subc_2d.utils.img\",\n",
    "        \"python::function\": \"filament_filter\",\n",
    "        \"parameters\": {\n",
    "                \"filament_scale\": {\n",
    "                        \"data_type\": \"float\",\n",
    "                        \"increment\": 0.05,\n",
    "                        \"max\": 10,\n",
    "                        \"min\": 0,\n",
    "                        \"widget_type\": \"slider\"\n",
    "                },\n",
    "                \"filament_cut\": {\n",
    "                        \"data_type\": \"float\",\n",
    "                        \"increment\": 0.001,\n",
    "                        \"max\": 0.5,\n",
    "                        \"min\": 0,\n",
    "                        \"widget_type\": \"slider\"\n",
    "                },\n",
    "        }\n",
    "}\n",
    "\n",
    "add_function_spec_to_widget_json(\"filament_filter\", _filament_filter, overwrite=True )\n",
    "\n"
   ]
  },
  {
   "cell_type": "code",
   "execution_count": 5,
   "metadata": {},
   "outputs": [],
   "source": [
    "from infer_subc_2d.constants import ER_CH\n",
    "def make_infer_er_step_by_step_from_raw_dict():\n",
    "    \"\"\"\n",
    "    Procedure to infer mitochondria from linearly unmixed input from raw\n",
    "\n",
    "    \"\"\"\n",
    "    step_name = []\n",
    "    function_name = []\n",
    "    category =[]\n",
    "    parameter_values = []\n",
    "    parent = []\n",
    "   \n",
    "    ###################\n",
    "    # EXTRACT\n",
    "    ###################   \n",
    "    step_name = []\n",
    "    function_name = []\n",
    "    category =[]\n",
    "    parameter_values = []\n",
    "    parent = []\n",
    "   \n",
    "    ###################\n",
    "    # EXTRACT\n",
    "    ###################   \n",
    "\n",
    "    step_name.append(\"1\")\n",
    "    function_name.append(\"fixed_get_optimal_Z_img\")\n",
    "    category.append(\"extraction\")\n",
    "    parameter_values.append(None)\n",
    "    parent.append(0)\n",
    "\n",
    "    step_name.append(\"2\")\n",
    "    function_name.append(\"fixed_infer_soma\")\n",
    "    category.append(\"extraction\")\n",
    "    parameter_values.append( None )\n",
    "    parent.append(1)\n",
    "\n",
    "    step_name.append(\"3\")\n",
    "    function_name.append(\"fixed_infer_nuclei\")\n",
    "    category.append(\"extraction\")\n",
    "    parameter_values.append( None )\n",
    "    parent.append([1,2])\n",
    "\n",
    "    step_name.append(\"4\")\n",
    "    function_name.append(\"infer_cytosol\")\n",
    "    category.append(\"extraction\")\n",
    "    parameter_values.append(dict(erode_nuclei = True ))\n",
    "    parent.append([2,3])\n",
    "\n",
    "    step_name.append(\"5\")\n",
    "    function_name.append(\"select_channel_from_raw\")\n",
    "    category.append(\"extraction\")\n",
    "    parameter_values.append( dict(chan = ER_CH) )\n",
    "    parent.append(1)\n",
    "    \n",
    "    step_name.append(\"6\")\n",
    "    function_name.append(\"min_max_intensity_normalization\")\n",
    "    category.append(\"preprocessing\")\n",
    "    parameter_values.append(None)\n",
    "    parent.append(5)\n",
    "\n",
    "    step_name.append(\"7\")\n",
    "    function_name.append(\"edge_preserving_smoothing\")\n",
    "    category.append(\"preprocessing\")\n",
    "    parameter_values.append(None)\n",
    "    parent.append(6)\n",
    "\n",
    "    step_name.append(\"8\")\n",
    "    function_name.append(\"filament_filter\") \n",
    "    category.append(\"core\")\n",
    "    parameter_values.append( dict( filament_scale=1., filament_cut=.15) )\n",
    "    parent.append(7)\n",
    "\n",
    "    step_name.append(\"9\")\n",
    "    function_name.append(\"apply_mask\")\n",
    "    category.append(\"postprocessing\")\n",
    "    parameter_values.append(None)\n",
    "    parent.append([8,4])\n",
    "\n",
    "    step_name.append(\"10\")\n",
    "    function_name.append(\"size_filter_2D\")\n",
    "    category.append(\"postprocessing\")\n",
    "    parameter_values.append(dict( min_size = 2**2  ))\n",
    "    parent.append(9)\n",
    "\n",
    "    out_dict = dict()\n",
    "    for i,stepn in enumerate(step_name):\n",
    "        entry = dict(category=category[i],\n",
    "                            function=function_name[i],\n",
    "                            parameter_values=parameter_values[i],\n",
    "                            parent=parent[i]\n",
    "        )\n",
    "        if entry['parameter_values'] is None:\n",
    "            _ = entry.pop('parameter_values')\n",
    "        out_dict[stepn] = entry\n",
    "    \n",
    "    return out_dict\n",
    "\n"
   ]
  },
  {
   "cell_type": "code",
   "execution_count": 6,
   "metadata": {},
   "outputs": [
    {
     "data": {
      "text/plain": [
       "PosixPath('/Users/ahenrie/Projects/Imaging/infer-subc-2D/infer_subc_2d/organelles_config/conf_infer_er_from_raw.json')"
      ]
     },
     "execution_count": 6,
     "metadata": {},
     "output_type": "execute_result"
    }
   ],
   "source": [
    "from infer_subc_2d.organelles_config.helper import write_workflow_json\n",
    "\n",
    "infer_er_stepbystep_from_raw_dict = make_infer_er_step_by_step_from_raw_dict()\n",
    "\n",
    "write_workflow_json(\"conf_infer_er_from_raw\", infer_er_stepbystep_from_raw_dict)"
   ]
  },
  {
   "cell_type": "markdown",
   "metadata": {},
   "source": [
    "---------------------\n",
    "\n",
    " 🚧 WIP 🚧 (🚨🚨🚨🚨 )\n",
    "\n",
    "# WORKFLOW #2 (WIP)\n",
    "as per 6/22 CellProfiler pipeline from MCZ\n",
    " \n",
    "## summary of steps\n",
    "\n",
    "INPUT\n",
    "- ch 6\n",
    "- CY mask\n",
    "\n",
    "PRE-PROCESSING\n",
    "- rescale \n",
    "- median window:4\n",
    "- non-local noise reduction\n",
    "  - size:5, distance:1, cut-off:0.1\n",
    "- identify \"TUBES\"\n",
    "  - enhance neurites\n",
    "    - > Neurites: Neurites are taken to be long, thin features of enhanced intensity. Choose this option to enhance the intensity of the neurites using the Line structures or Tubeness methods described in a later setting.  \n",
    "    - method: tubeness\n",
    "    - > Tubeness: This method is an adaptation of the method used by the ImageJ Tubeness plugin. The image is smoothed with a Gaussian. The Hessian is then computed at every point to measure the intensity gradient and the eigenvalues of the Hessian are computed to determine the magnitude of the intensity. The absolute maximum of the two eigenvalues gives a measure of the ratio of the intensity of the gradient in the direction of its most rapid descent versus in the orthogonal direction. The output image is the absolute magnitude of the highest eigenvalue if that eigenvalue is negative (white neurite on dark background), otherwise, zero. \n",
    "    - smoothing: 2 pix\n",
    "\n",
    "CORE-PROCESSING\n",
    "- identify primary objects \"TUBES\"\n",
    "    - adaptive Sauvola\n",
    "      - threshold smoothing scale: 0\n",
    "      - threshold correction factor: .6\n",
    "      - threshold bounds: (0. ,1.0)\n",
    "      - adaptive window: 20 pixels\n",
    "- identify primary objects \"SHEETS\"\n",
    "  - ER masked w/ CY\n",
    "  - adaptive Otsu\n",
    "      - diameter: (2,50)\n",
    "    - two classes\n",
    "      - threshold smoothing scale: 0\n",
    "      - threshold correction factor: 1\n",
    "      - threshold bounds: (0.18, .25)\n",
    "      - adaptive window: 10 pixels\n",
    "- combine \"TUBES\" and \"SHEETS\"\n",
    "\n",
    "\n",
    "\n",
    "OUTPUT\n",
    "- object ER\n",
    "\n",
    "\n"
   ]
  },
  {
   "cell_type": "markdown",
   "metadata": {},
   "source": [
    "### INPUT"
   ]
  },
  {
   "cell_type": "code",
   "execution_count": null,
   "metadata": {},
   "outputs": [],
   "source": [
    "\n",
    "###################\n",
    "# INPUT\n",
    "###################\n",
    "struct_img_raw = img_data[5,:,:,:].copy()\n",
    "\n",
    "# DEFAULT PARAMETERS:\n",
    "intensity_norm_param = [3.5, 15] # from Allen Cell Segmenter LAMP1  workflow\n",
    "scaling_param = [0]\n",
    "gaussian_smoothing_sigma = 1.\n",
    "gaussian_smoothing_truncate_range = 3.0\n",
    "dot_2d_sigma = 2\n",
    "dot_2d_sigma_extra = 1\n",
    "dot_2d_cutoff = 0.025\n",
    "min_area = 10\n",
    "low_level_min_size =  100\n",
    "\n",
    "med_filter_size =2  \n",
    "\n",
    "gaussian_smoothing_sigma = 10\n",
    "gaussian_smoothing_truncate_range = 3.0\n",
    "\n",
    "aicssegmentation.core.pre_processing_utils.suggest_normalization_param(struct_img_raw) #  [0., 23]\n"
   ]
  },
  {
   "cell_type": "markdown",
   "metadata": {},
   "source": [
    "### PRE-PROCESSING"
   ]
  },
  {
   "cell_type": "code",
   "execution_count": null,
   "metadata": {},
   "outputs": [],
   "source": [
    "###################\n",
    "# PRE_PROCESSING\n",
    "###################\n",
    "\n",
    "intensity_norm_param = [0] # \n",
    "\n",
    "# Linear-ish smoothing\n",
    "raw_mito = intensity_normalization( struct_img_raw ,  scaling_param=intensity_norm_param)\n",
    "\n",
    "med_filter_size =3  \n",
    "\n",
    "gaussian_smoothing_sigma = 1.3\n",
    "gaussian_smoothing_truncate_range = 3.0\n",
    "\n",
    "struct_img = median_filter(raw_mito,    size=med_filter_size  )\n",
    "\n",
    "structure_img_smooth = image_smoothing_gaussian_3d(   struct_img,\n",
    "                                                                                                                        sigma=gaussian_smoothing_sigma,\n",
    "                                                                                                                        truncate_range=gaussian_smoothing_truncate_range,\n",
    "                                                                                                                    )\n",
    "\n",
    "\n",
    "# log_img, d = log_transform( structure_img_smooth ) \n",
    "# struct_img = intensity_normalization(  log_img  ,  scaling_param=[0] )  \n",
    "\n",
    "struct_img = structure_img_smooth"
   ]
  },
  {
   "cell_type": "markdown",
   "metadata": {},
   "source": [
    "### CORE PROCESSING"
   ]
  },
  {
   "cell_type": "code",
   "execution_count": null,
   "metadata": {},
   "outputs": [],
   "source": [
    "# enhance spreckles - 40\n",
    "big_struct_rad = 40\n",
    "big_img = _enhance_speckles(struct_img.copy(),big_struct_rad, True)\n",
    "\n"
   ]
  },
  {
   "cell_type": "code",
   "execution_count": null,
   "metadata": {},
   "outputs": [],
   "source": [
    "\n",
    "# enhance spreckles - 10\n",
    "sm_struct_rad = 20\n",
    "sm_img = _enhance_speckles(struct_img.copy(),sm_struct_rad, True)\n",
    "\n",
    "\n",
    "#adaptive_otsu(big_struct) # three class - middle foreground\n",
    "# adaptive window- 20\n",
    "#size: 10,100\n",
    "# threshold smooth 1.34\n",
    "# threshold correction 1\n",
    "# threshold (0.1497,1)\n",
    "#fill holes\n",
    "# \"adatpive\" thresholds are NOT currently working... will use      \n",
    "# \"Masked Object Thresholding\" - 3D\n",
    "low_level_min_size = 10\n",
    "bw_big, _bw_low_level = MO(big_img, \n",
    "                                                global_thresh_method='ave', \n",
    "                                                object_minArea=low_level_min_size, \n",
    "                                                extra_criteria=True,\n",
    "                                                local_adjust= 0.5, \n",
    "                                                return_object=True,\n",
    "                                                dilate=True)\n",
    " # or this?                                               \n",
    "#    struct_obj = struct_img > filters.threshold_otsu(struct_img)\n",
    "#     threshold_value_log = threshold_otsu_log(struct_img)\n",
    "\n",
    "#     thresh_factor = 0.9 #from cellProfiler\n",
    "#     thresh_min = .1\n",
    "#     thresh_max = 1.\n",
    "#     threshold = min( max(threshold_value_log*thresh_factor, thresh_min), thresh_max)\n",
    "#     struct_obj = struct_img > threshold\n",
    "\n",
    "\n",
    "# enhance speckles\n",
    "#   adaptive_sauvola(sm_struct) \n",
    "# adaptive window- 10\n",
    "#size: 2,10\n",
    "# threshold smooth 1.34\n",
    "# threshold correction 1\n",
    "# threshold (0.05,1)\n",
    "#fill holes\n",
    "# \"adatpive\" thresholds are NOT currently working... will use      \n",
    "# \"Masked Object Thresholding\" - 3D\n",
    "low_level_min_size = 2\n",
    "bw_sm, _bw_low_level = MO(sm_img, \n",
    "                                                global_thresh_method='ave', \n",
    "                                                object_minArea=low_level_min_size, \n",
    "                                                extra_criteria=True,\n",
    "                                                local_adjust= 0.5, \n",
    "                                                return_object=True,\n",
    "                                                dilate=True)\n",
    " # or this?                                               \n",
    "#    struct_obj = struct_img > filters.threshold_otsu(struct_img)\n",
    "#     threshold_value_log = threshold_otsu_log(struct_img)\n",
    "#     thresh_factor = 0.9 #from cellProfiler\n",
    "#     thresh_min = .1\n",
    "#     thresh_max = 1.\n",
    "#     threshold = min( max(threshold_value_log*thresh_factor, thresh_min), thresh_max)\n",
    "#     struct_obj = struct_img > threshold\n",
    "\n"
   ]
  },
  {
   "cell_type": "markdown",
   "metadata": {},
   "source": [
    "### POST-PROCESSING"
   ]
  },
  {
   "cell_type": "code",
   "execution_count": null,
   "metadata": {},
   "outputs": [],
   "source": [
    "###################\n",
    "# POST_PROCESSING\n",
    "###################\n",
    "\n",
    "\n",
    "# 3D\n",
    "# cleaned_img = remove_small_objects(removed_holes>0, \n",
    "#                                                             min_size=minArea, \n",
    "#                                                             connectivity=1, \n",
    "#                                                             in_place=False)\n",
    "small_object_width = 10\n",
    "cleaned_img_big = size_filter(bw_big, # wrapper to remove_small_objects which can do slice by slice\n",
    "                                                         min_size= small_object_width**2,\n",
    "                                                         method = \"slice_by_slice\",\n",
    "                                                         connectivity=1)\n",
    "\n",
    "\n",
    "#                                                             in_place=False)\n",
    "small_object_width = 2\n",
    "cleaned_img_sm = size_filter(bw_sm, # wrapper to remove_small_objects which can do slice by slice\n",
    "                                                         min_size= small_object_width**2,\n",
    "                                                         method = \"slice_by_slice\",\n",
    "                                                         connectivity=1)\n",
    "\n",
    "\n",
    "\n",
    "cleaned_img = np.logical_or(cleaned_img_big, cleaned_img_sm)\n",
    "\n"
   ]
  },
  {
   "cell_type": "markdown",
   "metadata": {},
   "source": [
    "#### Visualize with `napari`\n",
    "Visualize the first-pass segmentation and labeling with `napari`."
   ]
  },
  {
   "cell_type": "code",
   "execution_count": null,
   "metadata": {},
   "outputs": [],
   "source": [
    "\n",
    "if viewer is None:\n",
    "    viewer = napari.view_image(\n",
    "        cleaned_img,\n",
    "        scale=scale\n",
    "    )\n",
    "else: \n",
    "    viewer.add_image(\n",
    "        cleaned_img,\n",
    "        scale=scale\n",
    "    )\n",
    "\n",
    "viewer.scale_bar.visible = True\n",
    "viewer.add_image(\n",
    "    cleaned_img_big,\n",
    "    scale=scale\n",
    ")\n",
    "\n",
    "viewer.add_image(\n",
    "    big_img,\n",
    "    scale=scale\n",
    ")\n",
    "viewer.add_image(\n",
    "    cleaned_img_big,\n",
    "    scale=scale\n",
    ")\n",
    "viewer.add_image(\n",
    "    sm_img,\n",
    "    scale=scale\n",
    ")"
   ]
  },
  {
   "cell_type": "markdown",
   "metadata": {},
   "source": []
  }
 ],
 "metadata": {
  "kernelspec": {
   "display_name": "Python 3.9.13 ('napariNEW')",
   "language": "python",
   "name": "python3"
  },
  "language_info": {
   "codemirror_mode": {
    "name": "ipython",
    "version": 3
   },
   "file_extension": ".py",
   "mimetype": "text/x-python",
   "name": "python",
   "nbconvert_exporter": "python",
   "pygments_lexer": "ipython3",
   "version": "3.9.13"
  },
  "orig_nbformat": 4,
  "vscode": {
   "interpreter": {
    "hash": "d6148ef1fb015fb20f0b6da2ea61c87c6b848bdf3dabb03087e5d5cd0c4607e9"
   }
  }
 },
 "nbformat": 4,
 "nbformat_minor": 2
}
