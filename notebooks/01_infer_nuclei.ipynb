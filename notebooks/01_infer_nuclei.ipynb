{
 "cells": [
  {
   "attachments": {},
   "cell_type": "markdown",
   "metadata": {},
   "source": [
    "# Infer ***nuclei*** - 1️⃣ \n",
    "\n",
    "--------------\n",
    "\n",
    "## OBJECTIVE: \n",
    "### ✅ Infer sub-cellular component #1: ***nuclei***  in order to understand interactome \n",
    "\n",
    "To measure shape, position, size, and interaction of eight organelles/cellular components ***nuclei***.  \n",
    "\n",
    "Dependencies:\n",
    "***Soma*** and ***cytoplasm*** inference rely on the ***nuclei*** inference.  Therefore all of the sub-cellular objects rely on the NU segmentation.\n",
    "\n",
    "\n",
    "> CONVENTION:  \"nuclei\" for the segmentation of ALL nuclei in the image.  \"nucleus\" for the ***single*** cellmask-masked version.\n"
   ]
  },
  {
   "attachments": {},
   "cell_type": "markdown",
   "metadata": {},
   "source": [
    "## preamble\n",
    "\n",
    "1. imports\n",
    "2. setup\n",
    "3. ~~choose_Z~~\n",
    "4. get cellmask mask (if available)\n",
    "5. infer-nuclei\n",
    "    * input\n",
    "    * pre-processing\n",
    "    * core processing\n",
    "    * post-processing\n",
    "    * output\n",
    "6. infer _nucleus_ : apply cellmask mask (if not available at #4)\n",
    "\n"
   ]
  },
  {
   "attachments": {},
   "cell_type": "markdown",
   "metadata": {},
   "source": [
    "\n",
    "\n",
    "### IMPORTS"
   ]
  },
  {
   "cell_type": "code",
   "execution_count": 21,
   "metadata": {},
   "outputs": [
    {
     "name": "stdout",
     "output_type": "stream",
     "text": [
      "The autoreload extension is already loaded. To reload it, use:\n",
      "  %reload_ext autoreload\n"
     ]
    }
   ],
   "source": [
    "# top level imports\n",
    "from pathlib import Path\n",
    "import os, sys\n",
    "from collections import defaultdict\n",
    "from typing import Optional, Union\n",
    "\n",
    "import numpy as np\n",
    "\n",
    "from aicssegmentation.core.pre_processing_utils import  image_smoothing_gaussian_slice_by_slice \n",
    "from skimage.measure import label\n",
    "\n",
    "# # package for io \n",
    "from aicsimageio import AICSImage\n",
    "\n",
    "import napari\n",
    "\n",
    "### import local python functions in ../infer_subc_2d\n",
    "sys.path.append(os.path.abspath((os.path.join(os.getcwd(), '..'))))\n",
    "\n",
    "from infer_subc_2d.core.file_io import (read_czi_image,\n",
    "                                                                    export_inferred_organelle,\n",
    "                                                                    list_image_files)\n",
    "\n",
    "from infer_subc_2d.core.img import *\n",
    "\n",
    "\n",
    "%load_ext autoreload\n",
    "%autoreload 2\n",
    "\n"
   ]
  },
  {
   "cell_type": "code",
   "execution_count": 22,
   "metadata": {},
   "outputs": [],
   "source": [
    "# NOTE:  these \"constants\" are only accurate for the testing MCZ dataset\n",
    "from infer_subc_2d.constants import (TEST_IMG_N,\n",
    "                                                                    NUC_CH ,\n",
    "                                                                    LYSO_CH ,\n",
    "                                                                    MITO_CH ,\n",
    "                                                                    GOLGI_CH ,\n",
    "                                                                    PEROX_CH ,\n",
    "                                                                    ER_CH ,\n",
    "                                                                    LD_CH ,\n",
    "                                                                    RESIDUAL_CH )                       "
   ]
  },
  {
   "attachments": {},
   "cell_type": "markdown",
   "metadata": {},
   "source": [
    "\n",
    "## SETUP\n",
    "\n",
    "\n",
    "CUSTOMIZE WITH: \n",
    "1. updated path to data\n",
    "2. updated folder name for \"raw\" data\n",
    "\n",
    "> NOTE: we are operating on a single \"test\" image in this notebook.  The batch-processing of all the images will be happen at the end of the notebook after we have developed/confirmed the setmentation procedures and parameter settings.\n"
   ]
  },
  {
   "cell_type": "code",
   "execution_count": 23,
   "metadata": {},
   "outputs": [],
   "source": [
    "# this will be the example image for testing the pipeline below\n",
    "test_img_n = TEST_IMG_N\n",
    "\n",
    "# build the datapath\n",
    "# all the imaging data goes here.\n",
    "data_root_path = Path(os.path.expanduser(\"~\")) / \"Projects/Imaging/data\"\n",
    "\n",
    "# linearly unmixed \".czi\" files are here\n",
    "in_data_path = data_root_path / \"raw\"\n",
    "im_type = \".czi\"\n",
    "\n",
    "# get the list of all files\n",
    "img_file_list = list_image_files(in_data_path,im_type)\n",
    "test_img_name = img_file_list[test_img_n]\n",
    "\n",
    "# save output \".tiff\" files here\n",
    "out_data_path = data_root_path / \"out\"\n",
    "\n",
    "if not Path.exists(out_data_path):\n",
    "    Path.mkdir(out_data_path)\n",
    "    print(f\"making {out_data_path}\")"
   ]
  },
  {
   "cell_type": "code",
   "execution_count": 24,
   "metadata": {},
   "outputs": [
    {
     "name": "stderr",
     "output_type": "stream",
     "text": [
      "/opt/anaconda3/envs/napariNEW/lib/python3.9/site-packages/ome_types/_convenience.py:106: FutureWarning: The default XML parser will be changing from 'xmlschema' to 'lxml' in version 0.4.0.  To silence this warning, please provide the `parser` argument, specifying either 'lxml' (to opt into the new behavior), or'xmlschema' (to retain the old behavior).\n",
      "  d = to_dict(os.fspath(xml), parser=parser, validate=validate)\n"
     ]
    }
   ],
   "source": [
    "img_data,meta_dict = read_czi_image(test_img_name)\n",
    "\n",
    "# get some top-level info about the RAW data\n",
    "channel_names = meta_dict['name']\n",
    "img = meta_dict['metadata']['aicsimage']\n",
    "scale = meta_dict['scale']\n",
    "channel_axis = meta_dict['channel_axis']\n"
   ]
  },
  {
   "attachments": {},
   "cell_type": "markdown",
   "metadata": {},
   "source": [
    "## infer ***nuclei***\n",
    " \n",
    "\n",
    "## summary of steps\n",
    "\n",
    "➡️ INPUT\n",
    "\n",
    "- channel 0\n",
    "\n",
    "PRE-PROCESSING\n",
    "-  scale to min 0, max 1.0\n",
    "- median Filter window 4\n",
    "-  gaussian 1.34\n",
    "\n",
    "CORE-PROCESSING\n",
    "  - threshold method minimum cross-entropy.  \n",
    "    - objects 50-400 pixels, \n",
    "    - threshold smoothing scale: 1.34 (later 1 pixel\n",
    "    - threshold correction factor: 0.9 (later 1.2 )\n",
    "    - lower / upper bounds  (.1,1) ?\n",
    "    - log transformed thresholding\n",
    "    - fill holes\n",
    "\n",
    "\n",
    "POST-PROCESSING\n",
    "  - fill holes\n",
    "  - remove small objects\n",
    "\n",
    "\n",
    "OUTPUT ➡️ \n",
    "- labels of NUCLEI\n",
    "\n",
    "\n",
    "> #### Note:  in later steps we will limit each analysis to a single object, but at this stage we have multiple\n",
    "\n",
    "NOTE:  using Allen Cell Segmenter  [Nucleophosmin](https://www.allencell.org/cell-observations/category/nucleophosmin) might be a good generic mechanism.  e.g.\n",
    "-  [playground_npm1.ipynb](https://github.com/AllenInstitute/aics-segmentation/blob/master/lookup_table_demo/playground_npm1.ipynb) and [npm1.py](https://github.com/AllenInstitute/aics-segmentation/blob/master/aicssegmentation/structure_wrapper/seg_npm1.py) and [npm1_SR.py](https://github.com/AllenInstitute/aics-segmentation/blob/master/aicssegmentation/structure_wrapper/seg_npm1_SR.py)\n",
    "\n",
    "\n",
    "> #### Note:  this initial inferred object -- the ***nuclei*** of the brightest cell -- is implicitly used in inferring the ***cellmask*** and ***cytoplasm*** objects.  \n"
   ]
  },
  {
   "attachments": {},
   "cell_type": "markdown",
   "metadata": {},
   "source": [
    "## INPUT prototype\n",
    "\n",
    "Get the \"raw\" signals we need to analyze as well as any other dependencies in \"inferred\" objects.  \n",
    "\n",
    "> NOTE: we are operating on a single \"test\" image in this notebook.  The batch-processing of all the images will be happen at the end of the notebook after we have developed/confirmed the setmentation procedures and parameter settings."
   ]
  },
  {
   "cell_type": "code",
   "execution_count": 25,
   "metadata": {},
   "outputs": [],
   "source": [
    "###################\n",
    "# INPUT\n",
    "###################\n",
    "raw_nuclei = select_channel_from_raw(img_data, NUC_CH)\n"
   ]
  },
  {
   "attachments": {},
   "cell_type": "markdown",
   "metadata": {},
   "source": [
    "## PRE-PROCESSING prototype\n"
   ]
  },
  {
   "cell_type": "code",
   "execution_count": 26,
   "metadata": {},
   "outputs": [],
   "source": [
    "###################\n",
    "# PRE_PROCESSING\n",
    "###################           \n",
    "# \n",
    "med_filter_size = 4   \n",
    "gaussian_smoothing_sigma = 1.34\n",
    "# nuclei = min_max_intensity_normalization(raw_nuclei )\n",
    "# nuclei = median_filter_slice_by_slice( nuclei, size=med_filter_size  )\n",
    "# nuclei = image_smoothing_gaussian_slice_by_slice(  nuclei, sigma=gaussian_smoothing_sigma)\n",
    "\n",
    "nuclei =  scale_and_smooth(raw_nuclei,\n",
    "                                                    median_sz = med_filter_size, \n",
    "                                                    gauss_sig = gaussian_smoothing_sigma)"
   ]
  },
  {
   "attachments": {},
   "cell_type": "markdown",
   "metadata": {},
   "source": [
    "\n",
    "> #### ASIDE: Thresholding\n",
    "> [Thresholding](https://en.wikipedia.org/wiki/Thresholding_%28image_processing%29) is used to create binary images. A threshold value determines the intensity value separating foreground pixels from background pixels. Foregound pixels are pixels brighter than the threshold value, background pixels are darker. In many cases, images can be adequately segmented by thresholding followed by labelling of *connected components*, which is a fancy way of saying \"groups of pixels that touch each other\".\n",
    "> \n",
    "> Different thresholding algorithms produce different results. [Otsu's method](https://en.wikipedia.org/wiki/Otsu%27s_method) and [Li's minimum cross entropy threshold](https://scikit-image.org/docs/dev/auto_examples/developers/plot_threshold_li.html) are two common algorithms. Below, we use Li. You can use `skimage.filters.threshold_<TAB>` to find different thresholding methods.\n",
    "\n",
    "_Li_ procedure  better matches the CellProfiler pipeline which simply calls it \"Minimum Cross Entropy\" .\n"
   ]
  },
  {
   "attachments": {},
   "cell_type": "markdown",
   "metadata": {},
   "source": [
    "## CORE PROCESSING prototype"
   ]
  },
  {
   "cell_type": "code",
   "execution_count": 27,
   "metadata": {},
   "outputs": [],
   "source": [
    "###################\n",
    "# CORE_PROCESSING\n",
    "###################\n",
    "\n",
    "threshold_factor = 0.9 #from cellProfiler\n",
    "thresh_min = .1\n",
    "thresh_max = 1.\n",
    "li_thresholded = apply_log_li_threshold(nuclei, thresh_factor=threshold_factor, thresh_min=thresh_min, thresh_max=thresh_max)\n"
   ]
  },
  {
   "attachments": {},
   "cell_type": "markdown",
   "metadata": {},
   "source": [
    "## POST PROCESSING prototype\n",
    "\n",
    "> NOTE: the size parameters are by convention defined as one dimensional \"width\", so the inputs to the functions need to be _squared_ i.e. raised to the power of 2: `** 2`.   For volumetric (3D) analysis this would be _cubed_:`**3`"
   ]
  },
  {
   "cell_type": "code",
   "execution_count": 28,
   "metadata": {},
   "outputs": [],
   "source": [
    "###################\n",
    "# POST_PROCESSING\n",
    "###################\n",
    "\n",
    "hole_width = 25  \n",
    "# # wrapper to remoce_small_objects\n",
    "#removed_holes = remove_small_holes(li_thresholded, hole_width ** 2 )\n",
    "removed_holes = hole_filling_linear_size(li_thresholded, hole_min=0, hole_max=hole_width)\n",
    "\n",
    "small_object_width = 15\n",
    "cleaned_img = size_filter_linear_size(removed_holes, # wrapper to remove_small_objects which can do slice by slice\n",
    "                                                                min_size= small_object_width)\n",
    "\n",
    "cleaned_img2 = fill_and_filter_linear_size(li_thresholded, hole_min=0, hole_max=hole_width, min_size= small_object_width)"
   ]
  },
  {
   "cell_type": "code",
   "execution_count": 29,
   "metadata": {},
   "outputs": [],
   "source": [
    "nuclei_object = cleaned_img\n",
    "NU_labels = label( cleaned_img )\n",
    "NU_signal = raw_nuclei\n"
   ]
  },
  {
   "attachments": {},
   "cell_type": "markdown",
   "metadata": {},
   "source": [
    "## Visualize with `napari` 1\n",
    "Visualize the first-pass segmentation and labeling with `napari`."
   ]
  },
  {
   "cell_type": "code",
   "execution_count": 30,
   "metadata": {},
   "outputs": [],
   "source": [
    "viewer = napari.Viewer()\n"
   ]
  },
  {
   "cell_type": "code",
   "execution_count": 31,
   "metadata": {},
   "outputs": [
    {
     "data": {
      "text/plain": [
       "<Labels layer 'NU_labels' at 0x13b94f190>"
      ]
     },
     "execution_count": 31,
     "metadata": {},
     "output_type": "execute_result"
    }
   ],
   "source": [
    "\n",
    "viewer.add_image(\n",
    "    nuclei_object,\n",
    "    opacity=0.3,\n",
    ")    \n",
    "\n",
    "\n",
    "viewer.add_labels(\n",
    "    NU_labels,\n",
    "    opacity=0.3,\n",
    ")\n",
    "\n"
   ]
  },
  {
   "attachments": {},
   "cell_type": "markdown",
   "metadata": {},
   "source": [
    "## SAVE inferred nuclei to .tif file\n",
    "\n",
    "Based on the _prototyping_ above define the function to infer nuclei.  \n"
   ]
  },
  {
   "cell_type": "code",
   "execution_count": 32,
   "metadata": {},
   "outputs": [
    {
     "name": "stdout",
     "output_type": "stream",
     "text": [
      ">>>>>>>>>>>> tifffile.imwrite in (0.04) sec\n",
      "saved file: None\n"
     ]
    }
   ],
   "source": [
    "\n",
    "\n",
    "out_file_n = export_inferred_organelle(nuclei_object, \"nuclei\", meta_dict, out_data_path)\n"
   ]
  },
  {
   "attachments": {},
   "cell_type": "markdown",
   "metadata": {},
   "source": [
    "## DEFINE `_infer_nuclei_fromlabel` function\n",
    "\n",
    "Based on the _prototyping_ above define the function to infer nuclei.  \n"
   ]
  },
  {
   "cell_type": "code",
   "execution_count": 33,
   "metadata": {},
   "outputs": [],
   "source": [
    "##########################\n",
    "#  _infer_nuclei\n",
    "##########################\n",
    "def _infer_nuclei_fromlabel( in_img: np.ndarray, \n",
    "                            nuc_ch: Union[int,None],\n",
    "                            median_sz: int, \n",
    "                            gauss_sig: float,\n",
    "                            thresh_factor: float,\n",
    "                            thresh_min: float,\n",
    "                            thresh_max: float,\n",
    "                            max_hole_w: int,\n",
    "                            small_obj_w: int\n",
    "                        ) -> np.ndarray:\n",
    "    \"\"\"\n",
    "    Procedure to infer nuclei from linearly unmixed input.\n",
    "\n",
    "    Parameters\n",
    "    ------------\n",
    "    in_img: np.ndarray\n",
    "        a 3d image containing all the channels\n",
    "    median_sz: int\n",
    "        width of median filter for signal\n",
    "    gauss_sig: float\n",
    "        sigma for gaussian smoothing of  signal\n",
    "    thresh_factor: float\n",
    "        adjustment factor for log Li threholding\n",
    "    thresh_min: float\n",
    "        abs min threhold for log Li threholding\n",
    "    thresh_max: float\n",
    "        abs max threhold for log Li threholding\n",
    "    max_hole_w: int\n",
    "        hole filling cutoff for nuclei post-processing\n",
    "    small_obj_w: int\n",
    "        minimu object size cutoff for nuclei post-processing\n",
    "\n",
    "    Returns\n",
    "    -------------\n",
    "    nuclei_object\n",
    "        mask defined extent of NU\n",
    "    \n",
    "    \"\"\"\n",
    "\n",
    "    ###################\n",
    "    # PRE_PROCESSING\n",
    "    ###################                \n",
    "    if nuc_ch is None:\n",
    "        nuc_ch = NUC_CH\n",
    "\n",
    "    nuclei = select_channel_from_raw(in_img, nuc_ch)\n",
    "\n",
    "    nuclei =  scale_and_smooth(nuclei,\n",
    "                        median_sz = median_sz, \n",
    "                        gauss_sig = gauss_sig)\n",
    "\n",
    "    ###################\n",
    "    # CORE_PROCESSING\n",
    "    ###################\n",
    "    nuclei_object = apply_log_li_threshold(nuclei, \n",
    "                                                                    thresh_factor=thresh_factor, \n",
    "                                                                    thresh_min=thresh_min, \n",
    "                                                                    thresh_max=thresh_max)\n",
    "\n",
    "    ###################\n",
    "    # POST_PROCESSING\n",
    "    ###################\n",
    "    nuclei_object = fill_and_filter_linear_size(nuclei_object, hole_min=0, hole_max=max_hole_w, min_size= small_obj_w)\n",
    "    return nuclei_object\n"
   ]
  },
  {
   "attachments": {},
   "cell_type": "markdown",
   "metadata": {},
   "source": [
    "## DEFINE `_fixed_infer_nuclei` function\n"
   ]
  },
  {
   "cell_type": "code",
   "execution_count": 34,
   "metadata": {},
   "outputs": [],
   "source": [
    "##########################\n",
    "#  fixed_infer_nuclei\n",
    "##########################\n",
    "def _fixed_infer_nuclei(in_img: np.ndarray) -> np.ndarray:\n",
    "    \"\"\"\n",
    "    Procedure to infer cellmask from linearly unmixed input, with a *fixed* set of parameters for each step in the procedure.  i.e. \"hard coded\"\n",
    "\n",
    "    Parameters\n",
    "    ------------\n",
    "    in_img: np.ndarray\n",
    "        a 3d image containing all the channels\n",
    " \n",
    "    Returns\n",
    "    -------------\n",
    "    nuclei_object\n",
    "        inferred nuclei\n",
    "    \n",
    "    \"\"\"\n",
    "    nuc_ch = NUC_CH\n",
    "    median_sz = 4   \n",
    "    gauss_sig = 1.34\n",
    "    threshold_factor = 0.9\n",
    "    thresh_min = 0.1\n",
    "    thresh_max = 1.0\n",
    "    max_hole_w = 25\n",
    "    small_obj_w = 15\n",
    "\n",
    "    return _infer_nuclei_fromlabel( in_img,\n",
    "                                    nuc_ch,\n",
    "                                    median_sz,\n",
    "                                    gauss_sig,\n",
    "                                    threshold_factor,\n",
    "                                    thresh_min,\n",
    "                                    thresh_max,\n",
    "                                    max_hole_w,\n",
    "                                    small_obj_w  )\n"
   ]
  },
  {
   "attachments": {},
   "cell_type": "markdown",
   "metadata": {},
   "source": [
    "---------------------\n",
    "## TEST `_infer_nuclei`  function defined above\n"
   ]
  },
  {
   "cell_type": "code",
   "execution_count": 35,
   "metadata": {},
   "outputs": [],
   "source": [
    "\n",
    "_NU_object =  _fixed_infer_nuclei(img_data) \n"
   ]
  },
  {
   "cell_type": "markdown",
   "metadata": {},
   "source": [
    "---------------------\n",
    "# TEST `infer_nuclei_fromlabel` exported functions\n",
    "\n",
    "> the prototype `_infer_nuclei` was copied to the [`.organelles.nuclei`](../infer_subc_2d/organelles/nuclei.py) sub-module \n",
    "##\n",
    "`infer_nuclei_fromlabel` procedure\n",
    "\n",
    "Use the `infer_nuclei_fromlabel` function to infer the Nucleus and export it as an _ome.tif_ for easy reference."
   ]
  },
  {
   "cell_type": "code",
   "execution_count": 36,
   "metadata": {},
   "outputs": [
    {
     "name": "stdout",
     "output_type": "stream",
     "text": [
      " in_img = (8, 16, 768, 768)\n",
      "nuclei size = (16, 768, 768)\n"
     ]
    }
   ],
   "source": [
    "from infer_subc_2d.organelles.nuclei import infer_nuclei_fromlabel, fixed_infer_nuclei\n",
    "nuclei_object =  fixed_infer_nuclei(img_data) \n"
   ]
  },
  {
   "attachments": {},
   "cell_type": "markdown",
   "metadata": {},
   "source": [
    "## Visualize  2\n"
   ]
  },
  {
   "cell_type": "code",
   "execution_count": 37,
   "metadata": {},
   "outputs": [
    {
     "data": {
      "text/plain": [
       "<Labels layer 'Labels' at 0x161cf8c10>"
      ]
     },
     "execution_count": 37,
     "metadata": {},
     "output_type": "execute_result"
    }
   ],
   "source": [
    "viewer.add_image(\n",
    "    _NU_object,\n",
    "    opacity=0.3,\n",
    ")    \n",
    "\n",
    "\n",
    "viewer.add_labels(\n",
    "    label(_NU_object),\n",
    "    opacity=0.3,\n",
    ")\n"
   ]
  },
  {
   "cell_type": "code",
   "execution_count": 38,
   "metadata": {},
   "outputs": [
    {
     "data": {
      "text/plain": [
       "<Image layer 'nuclei_object [1]' at 0x161cf8ac0>"
      ]
     },
     "execution_count": 38,
     "metadata": {},
     "output_type": "execute_result"
    }
   ],
   "source": [
    "viewer.add_image(\n",
    "    nuclei_object,\n",
    "    opacity=0.3,\n",
    ")    \n"
   ]
  },
  {
   "cell_type": "code",
   "execution_count": 39,
   "metadata": {},
   "outputs": [
    {
     "data": {
      "image/png": "[encoded data removed]",
      "text/html": [
       "<img src=\"data:image/png;base64,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\"></img>"
      ],
      "text/plain": [
       "<napari.utils.notebook_display.NotebookScreenshot at 0x1629368b0>"
      ]
     },
     "execution_count": 39,
     "metadata": {},
     "output_type": "execute_result"
    }
   ],
   "source": [
    "from napari.utils.notebook_display import nbscreenshot\n",
    "\n",
    "# viewer.dims.ndisplay = 3\n",
    "# viewer.camera.angles = (-30, 25, 120)\n",
    "nbscreenshot(viewer, canvas_only=True)\n"
   ]
  },
  {
   "cell_type": "code",
   "execution_count": 40,
   "metadata": {},
   "outputs": [],
   "source": [
    "viewer.close()"
   ]
  },
  {
   "attachments": {},
   "cell_type": "markdown",
   "metadata": {},
   "source": [
    "-------------\n",
    "## SUMMARY\n",
    "\n",
    "The above explains the overall framework.  \n",
    "\n",
    "### NEXT: INFER CELLMASK\n",
    "\n",
    "proceed to [02_infer_cellmask.ipynb](./02_infer_cellmask.ipynb)\n"
   ]
  },
  {
   "cell_type": "markdown",
   "metadata": {},
   "source": []
  }
 ],
 "metadata": {
  "kernelspec": {
   "display_name": "Python 3 (ipykernel)",
   "language": "python",
   "name": "python3"
  },
  "language_info": {
   "codemirror_mode": {
    "name": "ipython",
    "version": 3
   },
   "file_extension": ".py",
   "mimetype": "text/x-python",
   "name": "python",
   "nbconvert_exporter": "python",
   "pygments_lexer": "ipython3",
   "version": "3.9.16"
  },
  "vscode": {
   "interpreter": {
    "hash": "d6148ef1fb015fb20f0b6da2ea61c87c6b848bdf3dabb03087e5d5cd0c4607e9"
   }
  }
 },
 "nbformat": 4,
 "nbformat_minor": 2
}
