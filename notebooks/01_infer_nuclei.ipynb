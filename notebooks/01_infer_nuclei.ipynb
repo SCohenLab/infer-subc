{
 "cells": [
  {
   "attachments": {},
   "cell_type": "markdown",
   "metadata": {},
   "source": [
    "# Infer ***nuclei*** - 1️⃣ \n",
    "\n",
    "--------------\n",
    "\n",
    "## OVERVIEW\n",
    "We will start by segmenting the different cell regions - the nucleus, cell, and cytoplasm - since they will be necessary for determining which organelle are in which cell. This is integral to our single cell analysis approach.\n",
    "\n",
    "This notebook goes through the workflow steps to segment the nucleus from a fluorescent nuclei marker.\n",
    "\n",
    "\n",
    "## OBJECTIVE: \n",
    "### ✅ Infer sub-cellular component #1: ***nuclei***\n",
    "Segment the ***nuclei*** from a single channel (nuclei marker). This will be necessary to determine the other subcellular compartment - like the ***cytoplasm***. Nuclei will also be used to seed the instance segmentation of the ***cell*** area.\n",
    "\n",
    "> CONVENTION:  \"nuclei\" for the segmentation of ALL nuclei in the image.  \"nucleus\" for the ***single*** nucleus associated to the single cell being analyzed (determined in [02_infer_cellmask](./02_infer_cellmask.ipynb))."
   ]
  },
  {
   "attachments": {},
   "cell_type": "markdown",
   "metadata": {},
   "source": [
    "## IMPORTS"
   ]
  },
  {
   "cell_type": "code",
   "execution_count": 1,
   "metadata": {},
   "outputs": [],
   "source": [
    "# top level imports\n",
    "from pathlib import Path\n",
    "import os, sys\n",
    "from collections import defaultdict\n",
    "from typing import Optional, Union\n",
    "\n",
    "import numpy as np\n",
    "\n",
    "from aicssegmentation.core.pre_processing_utils import  image_smoothing_gaussian_slice_by_slice \n",
    "from skimage.measure import label\n",
    "\n",
    "# # package for io \n",
    "from aicsimageio import AICSImage\n",
    "\n",
    "import napari\n",
    "\n",
    "### import local python functions in ../infer_subc\n",
    "sys.path.append(os.path.abspath((os.path.join(os.getcwd(), '..'))))\n",
    "\n",
    "from infer_subc.core.file_io import (read_czi_image,\n",
    "                                                                    export_inferred_organelle,\n",
    "                                                                    list_image_files)\n",
    "\n",
    "from infer_subc.core.img import *\n",
    "from infer_subc.constants import (TEST_IMG_N,\n",
    "                                NUC_CH ,\n",
    "                                LYSO_CH ,\n",
    "                                MITO_CH ,\n",
    "                                GOLGI_CH ,\n",
    "                                PEROX_CH ,\n",
    "                                ER_CH ,\n",
    "                                LD_CH ,\n",
    "                                RESIDUAL_CH ) \n",
    "\n",
    "\n",
    "%load_ext autoreload\n",
    "%autoreload 2"
   ]
  },
  {
   "attachments": {},
   "cell_type": "markdown",
   "metadata": {},
   "source": [
    "## Get and load Image for processing"
   ]
  },
  {
   "cell_type": "code",
   "execution_count": 3,
   "metadata": {},
   "outputs": [],
   "source": [
    "test_img_n = TEST_IMG_N\n",
    "\n",
    "data_root_path = Path(os.path.expanduser(\"~\")) / \"Projects/Imaging/data\"\n",
    "\n",
    "in_data_path = data_root_path / \"raw\"\n",
    "im_type = \".czi\"\n",
    "\n",
    "img_file_list = list_image_files(in_data_path,im_type)\n",
    "test_img_name = img_file_list[test_img_n]\n",
    "\n",
    "out_data_path = data_root_path / \"out\"\n",
    "if not Path.exists(out_data_path):\n",
    "    Path.mkdir(out_data_path)\n",
    "    print(f\"making {out_data_path}\")"
   ]
  },
  {
   "cell_type": "code",
   "execution_count": 4,
   "metadata": {},
   "outputs": [
    {
     "name": "stderr",
     "output_type": "stream",
     "text": [
      "c:\\Users\\Shannon\\anaconda3\\envs\\infer-subc\\lib\\site-packages\\ome_types\\_convenience.py:112: FutureWarning: The default XML parser will be changing from 'xmlschema' to 'lxml' in version 0.4.0.  To silence this warning, please provide the `parser` argument, specifying either 'lxml' (to opt into the new behavior), or'xmlschema' (to retain the old behavior).\n",
      "  d = to_dict(os.fspath(xml), parser=parser, validate=validate)\n"
     ]
    }
   ],
   "source": [
    "img_data,meta_dict = read_czi_image(test_img_name)\n",
    "\n",
    "channel_names = meta_dict['name']\n",
    "img = meta_dict['metadata']['aicsimage']\n",
    "scale = meta_dict['scale']\n",
    "channel_axis = meta_dict['channel_axis']"
   ]
  },
  {
   "attachments": {},
   "cell_type": "markdown",
   "metadata": {},
   "source": [
    "----------\n",
    "## infer ***nuclei***\n",
    " \n",
    "\n",
    "#### summary of steps\n",
    "\n",
    "➡️ INPUT (extract)\n",
    "- select single channel containing the nuclei marker (channel number = user input)\n",
    "\n",
    "PRE-PROCESSING\n",
    "- rescale image intensities: \n",
    "    - min=0, max=1\n",
    "- smooth image:\n",
    "    - median filter (media size = user input)\n",
    "    - gaussian filter (sigma = user input)\n",
    "\n",
    "CORE-PROCESSING\n",
    "  - calculate threshold value:\n",
    "      - log transform image\n",
    "      - calculate Li's minimum cross entropy threshold value\n",
    "      - inverse log transform threshold value\n",
    "  - Apply threshold to image:\n",
    "      - multiple threshold value by threshold factor (user input)\n",
    "      - compare threshold min and max values (user input) to adjusted threshold value \n",
    "      - apply threshold to image\n",
    "\n",
    "POST-PROCESSING\n",
    "  - fill holes (hole size = user input)\n",
    "  - remove small objects (object size = user input)\n",
    "\n",
    "\n",
    "OUTPUT ➡️ \n",
    "- label unique nuclei objects based on connectivity\n",
    "- remove nuclei touching the edges\n",
    "- save labeled ***nuclei*** (nuc, NU) at unsigned integer 16-bit tif files\n",
    "\n",
    "\n",
    "\n"
   ]
  },
  {
   "attachments": {},
   "cell_type": "markdown",
   "metadata": {},
   "source": [
    "## EXTRACT prototype"
   ]
  },
  {
   "cell_type": "code",
   "execution_count": 5,
   "metadata": {},
   "outputs": [],
   "source": [
    "###################\n",
    "# INPUT\n",
    "###################\n",
    "raw_nuclei = select_channel_from_raw(img_data, NUC_CH)"
   ]
  },
  {
   "attachments": {},
   "cell_type": "markdown",
   "metadata": {},
   "source": [
    "## PRE-PROCESSING prototype\n"
   ]
  },
  {
   "cell_type": "code",
   "execution_count": 6,
   "metadata": {},
   "outputs": [],
   "source": [
    "###################\n",
    "# PRE_PROCESSING\n",
    "###################           \n",
    "\n",
    "med_filter_size = 4   \n",
    "gaussian_smoothing_sigma = 1.34\n",
    "\n",
    "nuclei =  scale_and_smooth(raw_nuclei,\n",
    "                           median_sz = med_filter_size, \n",
    "                           gauss_sig = gaussian_smoothing_sigma)"
   ]
  },
  {
   "attachments": {},
   "cell_type": "markdown",
   "metadata": {},
   "source": [
    "## CORE PROCESSING prototype"
   ]
  },
  {
   "attachments": {},
   "cell_type": "markdown",
   "metadata": {},
   "source": [
    "\n",
    "> #### ASIDE: Thresholding\n",
    "> [Thresholding](https://en.wikipedia.org/wiki/Thresholding_%28image_processing%29) is used to create binary images. A threshold value determines the intensity value separating foreground pixels from background pixels. Foregound pixels are pixels brighter than the threshold value, background pixels are darker. In many cases, images can be adequately segmented by thresholding followed by labelling of *connected components*, which is a fancy way of saying \"groups of pixels that touch each other\".\n",
    "> \n",
    "> Different thresholding algorithms produce different results. [Otsu's method](https://en.wikipedia.org/wiki/Otsu%27s_method) and [Li's minimum cross entropy threshold](https://scikit-image.org/docs/dev/auto_examples/developers/plot_threshold_li.html) are two common algorithms. Below, we use Li. You can use `skimage.filters.threshold_<TAB>` to find different thresholding methods.\n"
   ]
  },
  {
   "cell_type": "code",
   "execution_count": 7,
   "metadata": {},
   "outputs": [],
   "source": [
    "###################\n",
    "# CORE_PROCESSING\n",
    "###################\n",
    "\n",
    "threshold_factor = 0.9\n",
    "thresh_min = .1\n",
    "thresh_max = 1.\n",
    "\n",
    "li_thresholded = apply_log_li_threshold(nuclei, \n",
    "                                        thresh_factor=threshold_factor, \n",
    "                                        thresh_min=thresh_min, \n",
    "                                        thresh_max=thresh_max)"
   ]
  },
  {
   "attachments": {},
   "cell_type": "markdown",
   "metadata": {},
   "source": [
    "## POST PROCESSING prototype\n",
    "\n",
    "> NOTE: the size parameters are by convention defined as one dimensional \"width\", so the inputs to the functions are _squared_ i.e. raised to the power of 2: `**2` for 2D analysis. For volumetric (3D) analysis this would be _cubed_: `**3`."
   ]
  },
  {
   "cell_type": "code",
   "execution_count": 8,
   "metadata": {},
   "outputs": [],
   "source": [
    "###################\n",
    "# POST_PROCESSING\n",
    "###################\n",
    "\n",
    "hole_min_width = 0\n",
    "hole_max_width = 25  \n",
    "\n",
    "small_object_width = 15\n",
    "\n",
    "# removed_holes = hole_filling_linear_size(li_thresholded, \n",
    "#                                          hole_min=hole_min_width, \n",
    "#                                          hole_max=hole_max_width)\n",
    "# \n",
    "# cleaned_img = size_filter_linear_size(removed_holes,\n",
    "#                                       min_size=small_object_width)\n",
    "\n",
    "cleaned_img2 = fill_and_filter_linear_size(li_thresholded, \n",
    "                                           hole_min=hole_min_width, \n",
    "                                           hole_max=hole_max_width, \n",
    "                                           min_size= small_object_width)"
   ]
  },
  {
   "attachments": {},
   "cell_type": "markdown",
   "metadata": {},
   "source": [
    "## LABELING prototype"
   ]
  },
  {
   "cell_type": "code",
   "execution_count": 24,
   "metadata": {},
   "outputs": [],
   "source": [
    "###################\n",
    "# LABELING\n",
    "###################\n",
    "\n",
    "nuclei_labels = label_uint16(cleaned_img2)\n",
    "nuclei_labels_2 = get_interior_labels(cleaned_img2).astype(np.uint16)"
   ]
  },
  {
   "cell_type": "code",
   "execution_count": 25,
   "metadata": {},
   "outputs": [
    {
     "data": {
      "text/plain": [
       "(dtype('uint16'), dtype('uint16'))"
      ]
     },
     "execution_count": 25,
     "metadata": {},
     "output_type": "execute_result"
    }
   ],
   "source": [
    "nuclei_labels.dtype, nuclei_labels_2.dtype"
   ]
  },
  {
   "attachments": {},
   "cell_type": "markdown",
   "metadata": {},
   "source": [
    "## Visualize with `napari` 1\n",
    "Visualize the first-pass segmentation and labeling with `napari`."
   ]
  },
  {
   "cell_type": "code",
   "execution_count": 30,
   "metadata": {},
   "outputs": [],
   "source": [
    "viewer = napari.Viewer()"
   ]
  },
  {
   "cell_type": "code",
   "execution_count": 31,
   "metadata": {},
   "outputs": [
    {
     "data": {
      "text/plain": [
       "<Labels layer 'nuclei_labels' at 0x1e0b202f0d0>"
      ]
     },
     "execution_count": 31,
     "metadata": {},
     "output_type": "execute_result"
    }
   ],
   "source": [
    "viewer.add_image(\n",
    "    cleaned_img2,\n",
    "    opacity=0.3,)\n",
    "\n",
    "viewer.add_labels(\n",
    "    nuclei_labels,\n",
    "    opacity=0.3)"
   ]
  },
  {
   "attachments": {},
   "cell_type": "markdown",
   "metadata": {},
   "source": [
    "## SAVE inferred nuclei to .tif file\n"
   ]
  },
  {
   "cell_type": "code",
   "execution_count": 12,
   "metadata": {},
   "outputs": [
    {
     "name": "stdout",
     "output_type": "stream",
     "text": [
      "saved file: None\n"
     ]
    }
   ],
   "source": [
    "out_file_n = export_inferred_organelle(nuclei_labels, \n",
    "                                       \"nuc\", \n",
    "                                       meta_dict, \n",
    "                                       out_data_path)"
   ]
  },
  {
   "attachments": {},
   "cell_type": "markdown",
   "metadata": {},
   "source": [
    "----------\n",
    "## DEFINE `infer_nuclei_fromlabel` function\n",
    "\n",
    "Based on the _prototyping_ above define the function to infer nuclei. \n",
    "\n",
    "> NOTE: these functions mainly serve for downstream prototyping in the notebooks. Each step above has an independent function that is implemented in the plugin for easy of use."
   ]
  },
  {
   "cell_type": "code",
   "execution_count": 26,
   "metadata": {},
   "outputs": [],
   "source": [
    "##########################\n",
    "#  _infer_nuclei\n",
    "##########################\n",
    "def _infer_nuclei_fromlabel(in_img: np.ndarray, \n",
    "                            nuc_ch: Union[int,None],\n",
    "                            median_sz: int, \n",
    "                            gauss_sig: float,\n",
    "                            thresh_factor: float,\n",
    "                            thresh_min: float,\n",
    "                            thresh_max: float,\n",
    "                            min_hole_w: int,\n",
    "                            max_hole_w: int,\n",
    "                            small_obj_w: int\n",
    "                            ) -> np.ndarray:\n",
    "    \"\"\"\n",
    "    Procedure to infer nuclei from linearly unmixed input.\n",
    "\n",
    "    Parameters\n",
    "    ------------\n",
    "    in_img: np.ndarray\n",
    "        a 3d image containing all the channels\n",
    "    median_sz: int\n",
    "        width of median filter for signal\n",
    "    gauss_sig: float\n",
    "        sigma for gaussian smoothing of  signal\n",
    "    thresh_factor: float\n",
    "        adjustment factor for log Li threholding\n",
    "    thresh_min: float\n",
    "        abs min threhold for log Li threholding\n",
    "    thresh_max: float\n",
    "        abs max threhold for log Li threholding\n",
    "    max_hole_w: int\n",
    "        hole filling cutoff for nuclei post-processing\n",
    "    small_obj_w: int\n",
    "        minimu object size cutoff for nuclei post-processing\n",
    "\n",
    "    Returns\n",
    "    -------------\n",
    "    nuclei_object\n",
    "        mask defined extent of NU\n",
    "    \n",
    "    \"\"\"\n",
    "\n",
    "    ###################\n",
    "    # PRE_PROCESSING\n",
    "    ###################                \n",
    "    if nuc_ch is None:\n",
    "        nuc_ch = NUC_CH\n",
    "\n",
    "    nuclei = select_channel_from_raw(in_img, nuc_ch)\n",
    "\n",
    "    nuclei =  scale_and_smooth(nuclei,\n",
    "                        median_sz = median_sz, \n",
    "                        gauss_sig = gauss_sig)\n",
    "\n",
    "    ###################\n",
    "    # CORE_PROCESSING\n",
    "    ###################\n",
    "    nuclei_object = apply_log_li_threshold(nuclei, \n",
    "                                           thresh_factor=thresh_factor, \n",
    "                                           thresh_min=thresh_min, \n",
    "                                           thresh_max=thresh_max)\n",
    "\n",
    "    ###################\n",
    "    # POST_PROCESSING\n",
    "    ###################\n",
    "    nuclei_object = fill_and_filter_linear_size(nuclei_object, \n",
    "                                                hole_min=min_hole_w, \n",
    "                                                hole_max=max_hole_w, \n",
    "                                                min_size=small_obj_w)\n",
    "\n",
    "    nuclei_labels = label_uint16(nuclei_object)\n",
    "    \n",
    "    return get_interior_labels(nuclei_labels).astype(np.uint16)\n"
   ]
  },
  {
   "attachments": {},
   "cell_type": "markdown",
   "metadata": {},
   "source": [
    "## DEFINE `_fixed_infer_nuclei` function\n"
   ]
  },
  {
   "cell_type": "code",
   "execution_count": 27,
   "metadata": {},
   "outputs": [],
   "source": [
    "##########################\n",
    "#  fixed_infer_nuclei\n",
    "##########################\n",
    "def _fixed_infer_nuclei(in_img: np.ndarray) -> np.ndarray:\n",
    "    \"\"\"\n",
    "    Procedure to infer cellmask from linearly unmixed input, with a *fixed* set of parameters for each step in the procedure.  i.e. \"hard coded\"\n",
    "\n",
    "    Parameters\n",
    "    ------------\n",
    "    in_img: np.ndarray\n",
    "        a 3d image containing all the channels\n",
    " \n",
    "    Returns\n",
    "    -------------\n",
    "    nuclei_object\n",
    "        inferred nuclei\n",
    "    \n",
    "    \"\"\"\n",
    "    nuc_ch = NUC_CH\n",
    "    median_sz = 4   \n",
    "    gauss_sig = 1.34\n",
    "    threshold_factor = 0.9\n",
    "    thresh_min = 0.1\n",
    "    thresh_max = 1.0\n",
    "    min_hole_w = 0\n",
    "    max_hole_w = 25\n",
    "    small_obj_w = 15\n",
    "\n",
    "    return _infer_nuclei_fromlabel( in_img,\n",
    "                                    nuc_ch,\n",
    "                                    median_sz,\n",
    "                                    gauss_sig,\n",
    "                                    threshold_factor,\n",
    "                                    thresh_min,\n",
    "                                    thresh_max,\n",
    "                                    min_hole_w,\n",
    "                                    max_hole_w,\n",
    "                                    small_obj_w)\n"
   ]
  },
  {
   "attachments": {},
   "cell_type": "markdown",
   "metadata": {},
   "source": [
    "## TEST `_infer_nuclei`  function defined above"
   ]
  },
  {
   "cell_type": "code",
   "execution_count": 28,
   "metadata": {},
   "outputs": [
    {
     "data": {
      "text/plain": [
       "dtype('uint16')"
      ]
     },
     "execution_count": 28,
     "metadata": {},
     "output_type": "execute_result"
    }
   ],
   "source": [
    "\n",
    "_NU_object =  _fixed_infer_nuclei(img_data) \n",
    "\n",
    "_NU_object.dtype"
   ]
  },
  {
   "attachments": {},
   "cell_type": "markdown",
   "metadata": {},
   "source": [
    "---------------------\n",
    "# TEST `infer_nuclei_fromlabel` exported functions\n",
    "\n",
    "The prototype `_infer_nuclei` was copied to the [`.organelles.nuclei`](../infer_subc/organelles/nuclei.py) sub-module \n",
    "\n",
    "Use the `infer_nuclei_fromlabel` function to infer the Nucleus and export it as an _ome.tif_ for easy reference."
   ]
  },
  {
   "cell_type": "code",
   "execution_count": 29,
   "metadata": {},
   "outputs": [
    {
     "data": {
      "text/plain": [
       "dtype('uint16')"
      ]
     },
     "execution_count": 29,
     "metadata": {},
     "output_type": "execute_result"
    }
   ],
   "source": [
    "from infer_subc.organelles.nuclei import infer_nuclei_fromlabel, fixed_infer_nuclei\n",
    "nuclei_object =  fixed_infer_nuclei(img_data) \n",
    "\n",
    "nuclei_object.dtype"
   ]
  },
  {
   "attachments": {},
   "cell_type": "markdown",
   "metadata": {},
   "source": [
    "## Visualize  2\n"
   ]
  },
  {
   "cell_type": "code",
   "execution_count": 32,
   "metadata": {},
   "outputs": [
    {
     "data": {
      "text/plain": [
       "<Labels layer 'Labels [1]' at 0x1e0b1cb7f10>"
      ]
     },
     "execution_count": 32,
     "metadata": {},
     "output_type": "execute_result"
    }
   ],
   "source": [
    "viewer.add_image(\n",
    "    _NU_object.astype(np.uint16),\n",
    "    opacity=0.3)\n",
    "    \n",
    "viewer.add_labels(\n",
    "    _NU_object.astype(np.uint16),\n",
    "    opacity=0.3)\n",
    "\n",
    "viewer.add_labels(\n",
    "    label(_NU_object),\n",
    "    opacity=0.3)\n"
   ]
  },
  {
   "cell_type": "code",
   "execution_count": 33,
   "metadata": {},
   "outputs": [
    {
     "data": {
      "text/plain": [
       "<Image layer 'Image [1]' at 0x1e0b168c6d0>"
      ]
     },
     "execution_count": 33,
     "metadata": {},
     "output_type": "execute_result"
    }
   ],
   "source": [
    "viewer.add_image(\n",
    "    nuclei_object,\n",
    "    opacity=0.3)\n",
    "\n",
    "viewer.add_image(\n",
    "    label(nuclei_object),\n",
    "    opacity=0.3)"
   ]
  },
  {
   "cell_type": "code",
   "execution_count": 41,
   "metadata": {},
   "outputs": [
    {
     "data": {
      "text/plain": [
       "(True, True)"
      ]
     },
     "execution_count": 41,
     "metadata": {},
     "output_type": "execute_result"
    }
   ],
   "source": [
    "np.all(nuclei_labels_2 == _NU_object), np.all(_NU_object == nuclei_object)"
   ]
  },
  {
   "cell_type": "code",
   "execution_count": 42,
   "metadata": {},
   "outputs": [
    {
     "data": {
      "image/png": "[encoded data removed]",
      "text/html": [
       "<img src=\"data:image/png;base64,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\"></img>"
      ],
      "text/plain": [
       "<napari.utils.notebook_display.NotebookScreenshot at 0x1e0b5cd9180>"
      ]
     },
     "execution_count": 42,
     "metadata": {},
     "output_type": "execute_result"
    }
   ],
   "source": [
    "from napari.utils.notebook_display import nbscreenshot\n",
    "\n",
    "nbscreenshot(viewer, canvas_only=True)"
   ]
  },
  {
   "cell_type": "code",
   "execution_count": 43,
   "metadata": {},
   "outputs": [],
   "source": [
    "viewer.close()"
   ]
  },
  {
   "attachments": {},
   "cell_type": "markdown",
   "metadata": {},
   "source": [
    "-------------\n",
    "## SUMMARY\n",
    "\n",
    "The above explains the general procedure for segmenting all the nuclei in an image based on a fluorescent nuclei marker (single channel). \n",
    "\n",
    "### NEXT: INFER CELLMASK\n",
    "\n",
    "proceed to [02_infer_cellmask.ipynb](./02_infer_cellmask.ipynb)\n"
   ]
  }
 ],
 "metadata": {
  "kernelspec": {
   "display_name": "Python 3 (ipykernel)",
   "language": "python",
   "name": "python3"
  },
  "language_info": {
   "codemirror_mode": {
    "name": "ipython",
    "version": 3
   },
   "file_extension": ".py",
   "mimetype": "text/x-python",
   "name": "python",
   "nbconvert_exporter": "python",
   "pygments_lexer": "ipython3",
   "version": "3.10.11"
  },
  "vscode": {
   "interpreter": {
    "hash": "d6148ef1fb015fb20f0b6da2ea61c87c6b848bdf3dabb03087e5d5cd0c4607e9"
   }
  }
 },
 "nbformat": 4,
 "nbformat_minor": 2
}
