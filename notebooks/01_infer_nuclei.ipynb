{
 "cells": [
  {
   "attachments": {},
   "cell_type": "markdown",
   "metadata": {},
   "source": [
    "# Infer ***nuclei*** - 2️⃣ \n",
    "\n",
    "--------------\n",
    "\n",
    "## OBJECTIVE: \n",
    "### ✅ Infer sub-cellular component #2: ***nuclei***  in order to understand interactome \n",
    "\n",
    "To measure shape, position, size, and interaction of eight organelles/cellular components ***nuclei***.  \n",
    "\n",
    "Dependencies:\n",
    "***Soma*** and ***cytosol*** inference rely on the ***nuclei*** inference.  Therefore all of the sub-cellular objects rely on the NU segmentation.\n",
    "\n",
    "\n",
    "> CONVENTION:  \"nuclei\" for the segmentation of ALL nuclei in the image.  \"nucleus\" for the ***single*** soma-masked version.\n"
   ]
  },
  {
   "attachments": {},
   "cell_type": "markdown",
   "metadata": {},
   "source": [
    "## preamble\n",
    "\n",
    "1. imports\n",
    "2. setup\n",
    "3. ~~choose_Z~~\n",
    "4. get soma mask (if available)\n",
    "5. infer-nuclei\n",
    "    * input\n",
    "    * pre-processing\n",
    "    * core processing\n",
    "    * post-processing\n",
    "    * output\n",
    "6. apply soma mask (if not available at #4)\n",
    "\n"
   ]
  },
  {
   "attachments": {},
   "cell_type": "markdown",
   "metadata": {},
   "source": [
    "\n",
    "\n",
    "### IMPORTS"
   ]
  },
  {
   "cell_type": "code",
   "execution_count": 4,
   "metadata": {},
   "outputs": [],
   "source": [
    "# top level imports\n",
    "from pathlib import Path\n",
    "import os, sys\n",
    "from collections import defaultdict\n",
    "from typing import Optional, Union\n",
    "\n",
    "import numpy as np\n",
    "\n",
    "from aicssegmentation.core.pre_processing_utils import  image_smoothing_gaussian_slice_by_slice \n",
    "from skimage.measure import label\n",
    "\n",
    "# # package for io \n",
    "from aicsimageio import AICSImage\n",
    "\n",
    "import napari\n",
    "\n",
    "### import local python functions in ../infer_subc_2d\n",
    "sys.path.append(os.path.abspath((os.path.join(os.getcwd(), '..'))))\n",
    "\n",
    "from infer_subc_2d.utils.file_io import (read_czi_image,\n",
    "                                                                    export_inferred_organelle,\n",
    "                                                                    list_image_files)\n",
    "\n",
    "from infer_subc_2d.utils.img import *\n",
    "from infer_subc_2d.organelles import fixed_get_optimal_Z_image, fixed_find_optimal_Z, find_optimal_Z\n",
    "\n",
    "from infer_subc_2d.organelles import infer_soma, fixed_infer_soma\n",
    "\n",
    "%load_ext autoreload\n",
    "%autoreload 2\n",
    "\n"
   ]
  },
  {
   "attachments": {},
   "cell_type": "markdown",
   "metadata": {},
   "source": [
    "\n",
    "## SETUP\n",
    "\n",
    "\n",
    "CUSTOMIZE WITH: \n",
    "1. updated path to data\n",
    "2. updated folder name for \"raw\" data\n",
    "\n",
    "> NOTE: we are operating on a single \"test\" image in this notebook.  The batch-processing of all the images will be happen at the end of the notebook after we have developed/confirmed the setmentation procedures and parameter settings.\n"
   ]
  },
  {
   "cell_type": "code",
   "execution_count": 5,
   "metadata": {},
   "outputs": [],
   "source": [
    "# NOTE:  these \"constants\" are only accurate for the testing MCZ dataset\n",
    "from infer_subc_2d.constants import (TEST_IMG_N,\n",
    "                                                                    NUC_CH ,\n",
    "                                                                    LYSO_CH ,\n",
    "                                                                    MITO_CH ,\n",
    "                                                                    GOLGI_CH ,\n",
    "                                                                    PEROXI_CH ,\n",
    "                                                                    ER_CH ,\n",
    "                                                                    LIPID_CH ,\n",
    "                                                                    RESIDUAL_CH )                       "
   ]
  },
  {
   "cell_type": "code",
   "execution_count": 6,
   "metadata": {},
   "outputs": [],
   "source": [
    "# this will be the example image for testing the pipeline below\n",
    "test_img_n = TEST_IMG_N\n",
    "\n",
    "# build the datapath\n",
    "# all the imaging data goes here.\n",
    "data_root_path = Path(os.path.expanduser(\"~\")) / \"Projects/Imaging/data\"\n",
    "\n",
    "# linearly unmixed \".czi\" files are here\n",
    "in_data_path = data_root_path / \"raw\"\n",
    "im_type = \".czi\"\n",
    "\n",
    "# get the list of all files\n",
    "img_file_list = list_image_files(in_data_path,im_type)\n",
    "test_img_name = img_file_list[test_img_n]\n",
    "\n",
    "# save output \".tiff\" files here\n",
    "out_data_path = data_root_path / \"out\"\n",
    "\n",
    "if not Path.exists(out_data_path):\n",
    "    Path.mkdir(out_data_path)\n",
    "    print(f\"making {out_data_path}\")"
   ]
  },
  {
   "cell_type": "code",
   "execution_count": 7,
   "metadata": {},
   "outputs": [
    {
     "name": "stderr",
     "output_type": "stream",
     "text": [
      "/opt/anaconda3/envs/napariNEW/lib/python3.9/site-packages/ome_types/_convenience.py:106: FutureWarning: The default XML parser will be changing from 'xmlschema' to 'lxml' in version 0.4.0.  To silence this warning, please provide the `parser` argument, specifying either 'lxml' (to opt into the new behavior), or'xmlschema' (to retain the old behavior).\n",
      "  d = to_dict(os.fspath(xml), parser=parser, validate=validate)\n"
     ]
    }
   ],
   "source": [
    "img_data,meta_dict = read_czi_image(test_img_name)\n",
    "\n",
    "# get some top-level info about the RAW data\n",
    "channel_names = meta_dict['name']\n",
    "img = meta_dict['metadata']['aicsimage']\n",
    "scale = meta_dict['scale']\n",
    "channel_axis = meta_dict['channel_axis']\n"
   ]
  },
  {
   "attachments": {},
   "cell_type": "markdown",
   "metadata": {},
   "source": [
    "## GET SOMA MASK if available\n"
   ]
  },
  {
   "cell_type": "code",
   "execution_count": 8,
   "metadata": {},
   "outputs": [],
   "source": [
    "\n",
    "soma_mask =  None \n",
    "# TODO:  load from saved tiff if available... \n",
    "\n",
    "\n",
    "# chan_name = 'nuclei'\n",
    "# out_path = data_root_path / \"inferred_objects\" \n",
    "# object_name = 'NU_object'\n",
    "\n",
    "# NU_bioim = read_input_image( out_path/ f\"{object_name}.ome.tiff\"  )\n",
    "# NU_object = NU_bioim.image\n",
    "# NU_labels = label(NU_object)\n",
    "\n",
    "# # calculate a filter dimension for median filtering which considers the difference in scale of Z\n",
    "# z_factor = scale[0]//scale[1]\n",
    "# med_filter_size = 4 #2D \n",
    "# med_filter_size_3D = (1,med_filter_size,med_filter_size)  # set the scale for a typical median filter\n"
   ]
  },
  {
   "attachments": {},
   "cell_type": "markdown",
   "metadata": {},
   "source": [
    "## infer ***nuclei***\n",
    " \n",
    "\n",
    "## summary of steps\n",
    "\n",
    "➡️ INPUT\n",
    "\n",
    "- channel 0\n",
    "\n",
    "PRE-PROCESSING\n",
    "-  scale to min 0, max 1.0\n",
    "- median Filter window 4\n",
    "-  gaussian 1.34\n",
    "\n",
    "CORE-PROCESSING\n",
    "  - threshold method minimum cross-entropy.  \n",
    "    - objects 50-400 pixels, \n",
    "    - threshold smoothing scale: 1.34 (later 1 pixel\n",
    "    - threshold correction factor: 0.9 (later 1.2 )\n",
    "    - lower / upper bounds  (.1,1) ?\n",
    "    - log transformed thresholding\n",
    "    - fill holes\n",
    "\n",
    "\n",
    "POST-PROCESSING\n",
    "  - fill holes\n",
    "  - remove small objects\n",
    "\n",
    "\n",
    "OUTPUT ➡️ \n",
    "- labels of NUCLEI\n",
    "\n",
    "\n",
    "> #### Note:  in later steps we will limit each analysis to a single object, but at this stage we have multiple\n",
    "\n",
    "NOTE:  using Allen Cell Segmenter  [Nucleophosmin](https://www.allencell.org/cell-observations/category/nucleophosmin) might be a good generic mechanism.  e.g.\n",
    "-  [playground_npm1.ipynb](https://github.com/AllenInstitute/aics-segmentation/blob/master/lookup_table_demo/playground_npm1.ipynb) and [npm1.py](https://github.com/AllenInstitute/aics-segmentation/blob/master/aicssegmentation/structure_wrapper/seg_npm1.py) and [npm1_SR.py](https://github.com/AllenInstitute/aics-segmentation/blob/master/aicssegmentation/structure_wrapper/seg_npm1_SR.py)\n",
    "\n",
    "\n",
    "> #### Note:  this initial inferred object -- the ***nuclei*** of the brightest cell -- is implicitly used in inferring the ***soma*** and ***cytosol*** objects.  \n"
   ]
  },
  {
   "attachments": {},
   "cell_type": "markdown",
   "metadata": {},
   "source": [
    "## INPUT prototype\n",
    "\n",
    "Get the \"raw\" signals we need to analyze as well as any other dependencies in \"inferred\" objects.  \n",
    "\n",
    "> NOTE: we are operating on a single \"test\" image in this notebook.  The batch-processing of all the images will be happen at the end of the notebook after we have developed/confirmed the setmentation procedures and parameter settings."
   ]
  },
  {
   "cell_type": "code",
   "execution_count": 9,
   "metadata": {},
   "outputs": [],
   "source": [
    "###################\n",
    "# INPUT\n",
    "###################\n",
    "raw_nuclei = select_channel_from_raw(img_data, NUC_CH)\n"
   ]
  },
  {
   "attachments": {},
   "cell_type": "markdown",
   "metadata": {},
   "source": [
    "## PRE-PROCESSING prototype\n"
   ]
  },
  {
   "cell_type": "code",
   "execution_count": 10,
   "metadata": {},
   "outputs": [],
   "source": [
    "###################\n",
    "# PRE_PROCESSING\n",
    "###################           \n",
    "# \n",
    "med_filter_size = 4   \n",
    "gaussian_smoothing_sigma = 1.34\n",
    "\n",
    "# nuclei = min_max_intensity_normalization(raw_nuclei )\n",
    "# nuclei = median_filter_slice_by_slice( nuclei, size=med_filter_size  )\n",
    "# nuclei = image_smoothing_gaussian_slice_by_slice(  nuclei, sigma=gaussian_smoothing_sigma)\n",
    "\n",
    "nuclei =  scale_and_smooth(raw_nuclei,\n",
    "                                                    median_sz = med_filter_size, \n",
    "                                                    gauss_sig = gaussian_smoothing_sigma)"
   ]
  },
  {
   "attachments": {},
   "cell_type": "markdown",
   "metadata": {},
   "source": [
    "\n",
    "> #### ASIDE: Thresholding\n",
    "> [Thresholding](https://en.wikipedia.org/wiki/Thresholding_%28image_processing%29) is used to create binary images. A threshold value determines the intensity value separating foreground pixels from background pixels. Foregound pixels are pixels brighter than the threshold value, background pixels are darker. In many cases, images can be adequately segmented by thresholding followed by labelling of *connected components*, which is a fancy way of saying \"groups of pixels that touch each other\".\n",
    "> \n",
    "> Different thresholding algorithms produce different results. [Otsu's method](https://en.wikipedia.org/wiki/Otsu%27s_method) and [Li's minimum cross entropy threshold](https://scikit-image.org/docs/dev/auto_examples/developers/plot_threshold_li.html) are two common algorithms. Below, we use Li. You can use `skimage.filters.threshold_<TAB>` to find different thresholding methods.\n",
    "\n",
    "_Li_ procedure  better matches the CellProfiler pipeline which simply calls it \"Minimum Cross Entropy\" .\n"
   ]
  },
  {
   "attachments": {},
   "cell_type": "markdown",
   "metadata": {},
   "source": [
    "## CORE PROCESSING prototype"
   ]
  },
  {
   "cell_type": "code",
   "execution_count": 11,
   "metadata": {},
   "outputs": [],
   "source": [
    "###################\n",
    "# CORE_PROCESSING\n",
    "###################\n",
    "\n",
    "threshold_factor = 0.9 #from cellProfiler\n",
    "thresh_min = .1\n",
    "thresh_max = 1.\n",
    "li_thresholded = apply_log_li_threshold(nuclei, thresh_factor=threshold_factor, thresh_min=thresh_min, thresh_max=thresh_max)\n"
   ]
  },
  {
   "attachments": {},
   "cell_type": "markdown",
   "metadata": {},
   "source": [
    "## POST PROCESSING prototype\n",
    "\n",
    "> NOTE: the size parameters are by convention defined as one dimensional \"width\", so the inputs to the functions need to be _squared_ i.e. raised to the power of 2: `** 2`.   For volumetric (3D) analysis this would be _cubed_:`**3`"
   ]
  },
  {
   "cell_type": "code",
   "execution_count": 12,
   "metadata": {},
   "outputs": [],
   "source": [
    "###################\n",
    "# POST_PROCESSING\n",
    "###################\n",
    "\n",
    "hole_width = 5  \n",
    "# # wrapper to remoce_small_objects\n",
    "#removed_holes = remove_small_holes(li_thresholded, hole_width ** 2 )\n",
    "removed_holes = hole_filling_linear_size(li_thresholded, hole_min=0, hole_max=hole_width)\n",
    "\n",
    "small_object_width = 15\n",
    "cleaned_img = size_filter_linear_size(removed_holes, # wrapper to remove_small_objects which can do slice by slice\n",
    "                                                                min_size= small_object_width, \n",
    "                                                                connectivity=1)\n"
   ]
  },
  {
   "cell_type": "code",
   "execution_count": 13,
   "metadata": {},
   "outputs": [],
   "source": [
    "nuclei_object = cleaned_img\n",
    "NU_labels = label( cleaned_img )\n",
    "NU_signal = raw_nuclei"
   ]
  },
  {
   "attachments": {},
   "cell_type": "markdown",
   "metadata": {},
   "source": [
    "## Visualize with `napari` 1\n",
    "Visualize the first-pass segmentation and labeling with `napari`."
   ]
  },
  {
   "cell_type": "code",
   "execution_count": 14,
   "metadata": {},
   "outputs": [],
   "source": [
    "viewer = napari.Viewer()\n",
    "\n",
    "if soma_mask is not None:\n",
    "    viewer.add_image(soma_mask,\n",
    "        scale=scale)"
   ]
  },
  {
   "cell_type": "code",
   "execution_count": 15,
   "metadata": {},
   "outputs": [
    {
     "data": {
      "text/plain": [
       "<Labels layer 'NU_labels' at 0x16180cc70>"
      ]
     },
     "execution_count": 15,
     "metadata": {},
     "output_type": "execute_result"
    }
   ],
   "source": [
    "\n",
    "viewer.add_image(\n",
    "    nuclei_object,\n",
    "    scale=scale,\n",
    "    opacity=0.3,\n",
    ")    \n",
    "\n",
    "\n",
    "viewer.add_labels(\n",
    "    NU_labels,\n",
    "    scale=scale,\n",
    "    opacity=0.3,\n",
    ")\n",
    "\n"
   ]
  },
  {
   "attachments": {},
   "cell_type": "markdown",
   "metadata": {},
   "source": [
    "## SAVE inferred nuclei to .tif file\n",
    "\n",
    "Based on the _prototyping_ above define the function to infer nuclei.  \n"
   ]
  },
  {
   "cell_type": "code",
   "execution_count": 17,
   "metadata": {},
   "outputs": [
    {
     "name": "stderr",
     "output_type": "stream",
     "text": [
      "/opt/anaconda3/envs/napariNEW/lib/python3.9/site-packages/ome_types/_convenience.py:106: FutureWarning: The default XML parser will be changing from 'xmlschema' to 'lxml' in version 0.4.0.  To silence this warning, please provide the `parser` argument, specifying either 'lxml' (to opt into the new behavior), or'xmlschema' (to retain the old behavior).\n",
      "  d = to_dict(os.fspath(xml), parser=parser, validate=validate)\n"
     ]
    },
    {
     "name": "stdout",
     "output_type": "stream",
     "text": [
      "saved file: /Users/ahenrie/Projects/Imaging/data/out/nuclei_ZSTACK_PBTOhNGN2hiPSCs_BR3_N04_Unmixed.ome.tiff\n"
     ]
    }
   ],
   "source": [
    "\n",
    "\n",
    "out_file_n = export_inferred_organelle(nuclei_object, \"nuclei\", meta_dict, out_data_path)\n"
   ]
  },
  {
   "attachments": {},
   "cell_type": "markdown",
   "metadata": {},
   "source": [
    "## DEFINE `_infer_nuclei` function\n",
    "\n",
    "Based on the _prototyping_ above define the function to infer nuclei.  \n"
   ]
  },
  {
   "cell_type": "code",
   "execution_count": 21,
   "metadata": {},
   "outputs": [],
   "source": [
    "##########################\n",
    "#  _infer_nuclei\n",
    "##########################\n",
    "def _infer_nuclei( in_img: np.ndarray, \n",
    "                            soma_mask: np.ndarray,\n",
    "                            nuc_ch: Union[int,None],\n",
    "                            median_sz: int, \n",
    "                            gauss_sig: float,\n",
    "                            thresh_factor: float,\n",
    "                            thresh_min: float,\n",
    "                            thresh_max: float,\n",
    "                            max_hole_w: int,\n",
    "                            small_obj_w: int\n",
    "                        ) -> np.ndarray:\n",
    "    \"\"\"\n",
    "    Procedure to infer nuclei from linearly unmixed input.\n",
    "\n",
    "    Parameters\n",
    "    ------------\n",
    "    in_img: np.ndarray\n",
    "        a 3d image containing all the channels\n",
    "    soma_mask: Optional[np.ndarray] = None\n",
    "        mask\n",
    "    median_sz: int\n",
    "        width of median filter for signal\n",
    "    gauss_sig: float\n",
    "        sigma for gaussian smoothing of  signal\n",
    "    thresh_factor: float\n",
    "        adjustment factor for log Li threholding\n",
    "    thresh_min: float\n",
    "        abs min threhold for log Li threholding\n",
    "    thresh_max: float\n",
    "        abs max threhold for log Li threholding\n",
    "    max_hole_w: int\n",
    "        hole filling cutoff for nuclei post-processing\n",
    "    small_obj_w: int\n",
    "        minimu object size cutoff for nuclei post-processing\n",
    "\n",
    "    Returns\n",
    "    -------------\n",
    "    nuclei_object\n",
    "        mask defined extent of NU\n",
    "    \n",
    "    \"\"\"\n",
    "\n",
    "    ###################\n",
    "    # PRE_PROCESSING\n",
    "    ###################                \n",
    "    if nuc_ch is None:\n",
    "        nuc_ch = NUC_CH\n",
    "\n",
    "    nuclei = select_channel_from_raw(in_img, nuc_ch)\n",
    "\n",
    "    nuclei =  scale_and_smooth(nuclei,\n",
    "                        median_sz = median_sz, \n",
    "                        gauss_sig = gauss_sig)\n",
    "\n",
    "    ###################\n",
    "    # CORE_PROCESSING\n",
    "    ###################\n",
    "    nuclei_object = apply_log_li_threshold(nuclei, \n",
    "                                                                    thresh_factor=thresh_factor, \n",
    "                                                                    thresh_min=thresh_min, \n",
    "                                                                    thresh_max=thresh_max)\n",
    "\n",
    "\n",
    "    NU_labels = label(nuclei_object)\n",
    "    ###################\n",
    "    # POST_PROCESSING\n",
    "    ###################\n",
    "    nuclei_object = hole_filling_linear_size(nuclei_object, \n",
    "                                                    hole_min=0, \n",
    "                                                    hole_max=max_hole_w)\n",
    "\n",
    "    if soma_mask is not None:\n",
    "        nuclei_object = apply_mask(nuclei_object, soma_mask)\n",
    "\n",
    "    nuclei_object = size_filter_linear_size(nuclei_object, \n",
    "                                                                min_size = small_obj_w)\n",
    "\n",
    "    return nuclei_object\n"
   ]
  },
  {
   "attachments": {},
   "cell_type": "markdown",
   "metadata": {},
   "source": [
    "## DEFINE `_fixed_infer_nuclei` function\n"
   ]
  },
  {
   "cell_type": "code",
   "execution_count": 26,
   "metadata": {},
   "outputs": [],
   "source": [
    "##########################\n",
    "#  fixed_infer_nuclei\n",
    "##########################\n",
    "def _fixed_infer_nuclei(in_img: np.ndarray, soma_mask: Optional[np.ndarray] = None) -> np.ndarray:\n",
    "    \"\"\"\n",
    "    Procedure to infer soma from linearly unmixed input, with a *fixed* set of parameters for each step in the procedure.  i.e. \"hard coded\"\n",
    "\n",
    "    Parameters\n",
    "    ------------\n",
    "    in_img: np.ndarray\n",
    "        a 3d image containing all the channels\n",
    "    soma_mask: np.ndarray\n",
    "        mask\n",
    " \n",
    "    Returns\n",
    "    -------------\n",
    "    nuclei_object\n",
    "        mask defined extent of NU\n",
    "    \n",
    "    \"\"\"\n",
    "    nuc_ch = NUC_CH\n",
    "    median_sz = 4   \n",
    "    gauss_sig = 1.34\n",
    "    threshold_factor = 0.9\n",
    "    thresh_min = 0.1\n",
    "    thresh_max = 1.0\n",
    "    max_hole_w = 5\n",
    "    small_obj_w = 15\n",
    "\n",
    "    return _infer_nuclei( in_img,\n",
    "                                    soma_mask,\n",
    "                                    nuc_ch,\n",
    "                                    median_sz,\n",
    "                                    gauss_sig,\n",
    "                                    threshold_factor,\n",
    "                                    thresh_min,\n",
    "                                    thresh_max,\n",
    "                                    max_hole_w,\n",
    "                                    small_obj_w  )\n"
   ]
  },
  {
   "attachments": {},
   "cell_type": "markdown",
   "metadata": {},
   "source": [
    "---------------------\n",
    "## TEST `_infer_nuclei`  function defined above\n"
   ]
  },
  {
   "cell_type": "code",
   "execution_count": 27,
   "metadata": {},
   "outputs": [],
   "source": [
    "\n",
    "_NU_object =  _fixed_infer_nuclei(img_data, soma_mask) \n"
   ]
  },
  {
   "cell_type": "markdown",
   "metadata": {},
   "source": [
    "---------------------\n",
    "# TEST `infer_nuclei` exported functions\n",
    "\n",
    "> the prototype `_infer_nuclei` was copied to the [`.organelles.nuclei`](../infer_subc_2d/organelles/nuclei.py) sub-module \n",
    "##\n",
    "`infer_nuclei` procedure\n",
    "\n",
    "Use the `infer_nuclei` function to infer the Nucleus and export it as an _ome.tif_ for easy reference."
   ]
  },
  {
   "cell_type": "code",
   "execution_count": 31,
   "metadata": {},
   "outputs": [],
   "source": [
    "from infer_subc_2d.organelles.nuclei import infer_nuclei, fixed_infer_nuclei\n",
    "\n",
    "nuclei_object =  fixed_infer_nuclei(img_data, soma_mask) \n"
   ]
  },
  {
   "attachments": {},
   "cell_type": "markdown",
   "metadata": {},
   "source": [
    "## Visualize  2\n"
   ]
  },
  {
   "cell_type": "code",
   "execution_count": 17,
   "metadata": {},
   "outputs": [
    {
     "data": {
      "text/plain": [
       "<Labels layer 'Labels' at 0x17ea3cf70>"
      ]
     },
     "execution_count": 17,
     "metadata": {},
     "output_type": "execute_result"
    }
   ],
   "source": [
    "viewer.add_image(\n",
    "    _NU_object,\n",
    "    scale=scale,\n",
    "    opacity=0.3,\n",
    ")    \n",
    "\n",
    "\n",
    "viewer.add_labels(\n",
    "    label(_NU_object),\n",
    "    scale=scale,\n",
    "    opacity=0.3,\n",
    ")\n"
   ]
  },
  {
   "cell_type": "code",
   "execution_count": 19,
   "metadata": {},
   "outputs": [
    {
     "data": {
      "text/plain": [
       "<Image layer 'nuclei_object [1]' at 0x16a0d6430>"
      ]
     },
     "execution_count": 19,
     "metadata": {},
     "output_type": "execute_result"
    }
   ],
   "source": [
    "viewer.add_image(\n",
    "    nuclei_object,\n",
    "    scale=scale,\n",
    "    opacity=0.3,\n",
    ")    \n"
   ]
  },
  {
   "cell_type": "code",
   "execution_count": 20,
   "metadata": {},
   "outputs": [
    {
     "data": {
      "image/png": "[encoded data removed]",
      "text/html": [
       "<img src=\"data:image/png;base64,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\"></img>"
      ],
      "text/plain": [
       "<napari.utils.notebook_display.NotebookScreenshot at 0x17ecfec40>"
      ]
     },
     "execution_count": 20,
     "metadata": {},
     "output_type": "execute_result"
    }
   ],
   "source": [
    "from napari.utils.notebook_display import nbscreenshot\n",
    "\n",
    "# viewer.dims.ndisplay = 3\n",
    "# viewer.camera.angles = (-30, 25, 120)\n",
    "nbscreenshot(viewer, canvas_only=True)\n"
   ]
  },
  {
   "cell_type": "code",
   "execution_count": 21,
   "metadata": {},
   "outputs": [],
   "source": [
    "viewer.close()"
   ]
  },
  {
   "cell_type": "code",
   "execution_count": null,
   "metadata": {},
   "outputs": [],
   "source": [
    "# copy to utils.img\n",
    "def _scale_and_smooth(img_in: np.ndarray,\n",
    "                       median_sz: int = 1, \n",
    "                       gauss_sig: float = 1.34,\n",
    "                       slice_by_slice: bool=True\n",
    "                ) -> np.ndarray:\n",
    "    \"\"\"\n",
    "    helper to perform min-max scaling, and median+gaussian smoothign all at once\n",
    "    Parameters\n",
    "    ------------\n",
    "    img_in: np.ndarray\n",
    "        a 3d image\n",
    "    median_sz: int\n",
    "        width of median filter for signal\n",
    "    gauss_sig: float\n",
    "        sigma for gaussian smoothing of  signal\n",
    "    slice_by_slice: \n",
    "        NOT IMPLIMENTED.  toggles whether to do 3D operations or slice by slice in Z\n",
    "\n",
    "    Returns\n",
    "    -------------\n",
    "        np.ndimage \n",
    "\n",
    "    \"\"\"\n",
    "    img  = min_max_intensity_normalization(img_in.copy()) # is this copy nescesa\n",
    "\n",
    "    # TODO:  make non-slice-by-slice work\n",
    "    slice_by_slice = True  \n",
    "    if slice_by_slice:\n",
    "        if median_sz > 1:\n",
    "            img = median_filter_slice_by_slice(img, size=median_sz)\n",
    "        img = image_smoothing_gaussian_slice_by_slice( img, sigma=gauss_sig)\n",
    "    else: \n",
    "        print(\" PLEASE CHOOOSE 'slice-by-slice', 3D is not yet implimented\")\n",
    " \n",
    "    return img\n",
    "\n"
   ]
  },
  {
   "cell_type": "code",
   "execution_count": null,
   "metadata": {},
   "outputs": [],
   "source": [
    "# copy to utils.img\n",
    "def _get_interior_labels(img_in: np.ndarray)  -> np.ndarray:\n",
    "    \"\"\"\n",
    "    gets the labeled objects from the X,Y \"interior\" of the image. We only want to clear the objects touching the sides of the volume, but not the top and bottom, so we pad and crop the volume along the 0th axis to avoid clearing the mitotic nucleus\n",
    "\n",
    "    Parameters\n",
    "    ------------\n",
    "    img_in: np.ndarray\n",
    "        a 3d image\n",
    "\n",
    "    Returns\n",
    "    -------------\n",
    "        np.ndimage of labeled segmentations NOT touching the sides\n",
    "\n",
    "    \"\"\"\n",
    "    segmented_padded = np.pad(\n",
    "        label(img_in),\n",
    "        ((1, 1), (0, 0), (0, 0)),\n",
    "        mode='constant',\n",
    "        constant_values=0,\n",
    "    )\n",
    "    interior_labels = clear_border(segmented_padded)[1:-1]\n",
    "    return interior_labels\n",
    "\n",
    "\n",
    "lab = _get_interior_labels(struct_obj)\n"
   ]
  },
  {
   "attachments": {},
   "cell_type": "markdown",
   "metadata": {},
   "source": [
    "-----------------\n",
    "Write the `infer_nuclei` spec to the widget json "
   ]
  },
  {
   "cell_type": "code",
   "execution_count": 22,
   "metadata": {},
   "outputs": [
    {
     "name": "stdout",
     "output_type": "stream",
     "text": [
      "function fixed_infer_nuclei is already in all_functions.json\n"
     ]
    },
    {
     "data": {
      "text/plain": [
       "0"
      ]
     },
     "execution_count": 22,
     "metadata": {},
     "output_type": "execute_result"
    }
   ],
   "source": [
    "from infer_subc_2d.organelles_config.helper import add_function_spec_to_widget_json\n",
    "\n",
    "_fixed_infer_nuclei =  {\n",
    "        \"name\": \"infer nuclei  (fixed parameters)\",\n",
    "        \"python::module\": \"infer_subc_2d.organelles\",\n",
    "        \"python::function\": \"fixed_infer_nuclei\",\n",
    "        \"parameters\": None\n",
    "        }\n",
    "\n",
    "add_function_spec_to_widget_json(\"fixed_infer_nuclei\",_fixed_infer_nuclei)"
   ]
  },
  {
   "cell_type": "code",
   "execution_count": 23,
   "metadata": {},
   "outputs": [
    {
     "name": "stdout",
     "output_type": "stream",
     "text": [
      "function infer_nuclei is already in all_functions.json\n",
      "overwriting  infer_nuclei\n"
     ]
    },
    {
     "data": {
      "text/plain": [
       "1"
      ]
     },
     "execution_count": 23,
     "metadata": {},
     "output_type": "execute_result"
    }
   ],
   "source": [
    "\n",
    "_infer_nuclei =  {\n",
    "        \"name\": \"infer nuclei\",\n",
    "        \"python::module\": \"infer_subc_2d.organelles\",\n",
    "        \"python::function\": \"infer_nuclei\",\n",
    "        \"parameters\": {\n",
    "                \"median_sz\": {\n",
    "                        \"widget_type\": \"slider\",\n",
    "                        \"data_type\": \"int\",\n",
    "                        \"min\": 3,\n",
    "                        \"max\": 15,\n",
    "                        \"increment\": 1\n",
    "                },\n",
    "                \"gauss_sig\": {\n",
    "                        \"data_type\": \"float\",\n",
    "                        \"increment\": 0.25,\n",
    "                        \"max\": 15.0,\n",
    "                        \"min\": 1.25,\n",
    "                        \"widget_type\": \"slider\"\n",
    "                },\n",
    "                \"thresh_factor\": {\n",
    "                        \"data_type\": \"float\",\n",
    "                        \"increment\": 0.05,\n",
    "                        \"max\": 1.2,\n",
    "                        \"min\": 0.6,\n",
    "                        \"widget_type\": \"slider\"\n",
    "                },\n",
    "                \"thresh_min\": {\n",
    "                        \"data_type\": \"float\",\n",
    "                        \"increment\": 0.05,\n",
    "                        \"max\": .9,\n",
    "                        \"min\": 0.0,\n",
    "                        \"widget_type\": \"slider\"\n",
    "                },\n",
    "                \"thresh_max\": {\n",
    "                        \"data_type\": \"float\",\n",
    "                        \"increment\": 0.05,\n",
    "                        \"max\": 1.0,\n",
    "                        \"min\": 0.1,\n",
    "                        \"widget_type\": \"slider\"\n",
    "                },\n",
    "                \"max_hole_w\": {\n",
    "                        \"data_type\": \"int\",\n",
    "                        \"increment\": 1,\n",
    "                        \"max\": 40,\n",
    "                        \"min\": 4,\n",
    "                        \"widget_type\": \"slider\"\n",
    "                },           \n",
    "                \"small_obj_w\": {\n",
    "                        \"data_type\": \"int\",\n",
    "                        \"increment\": 1,\n",
    "                        \"max\": 50,\n",
    "                        \"min\": 1,\n",
    "                        \"widget_type\": \"slider\"\n",
    "                }\n",
    "        }\n",
    "}\n",
    "\n",
    "add_function_spec_to_widget_json(\"infer_nuclei\", _infer_nuclei, overwrite=True )\n",
    "\n"
   ]
  },
  {
   "cell_type": "code",
   "execution_count": 24,
   "metadata": {},
   "outputs": [
    {
     "name": "stdout",
     "output_type": "stream",
     "text": [
      "function median_filter_slice_by_slice is already in all_functions.json\n"
     ]
    },
    {
     "data": {
      "text/plain": [
       "0"
      ]
     },
     "execution_count": 24,
     "metadata": {},
     "output_type": "execute_result"
    }
   ],
   "source": [
    "_median_filter_slice_by_slice =  {\n",
    "                \"name\": \"Median Smoothing Slice by Slice\",\n",
    "                \"python::module\": \"infer_subc_2d.utils.img\",\n",
    "                \"python::function\": \"median_filter_slice_by_slice\",\n",
    "                \"parameters\": {\n",
    "                    \"size\": {\n",
    "                        \"widget_type\": \"slider\",\n",
    "                        \"data_type\": \"int\",\n",
    "                        \"min\": 1,\n",
    "                        \"max\": 20,\n",
    "                        \"increment\": 1\n",
    "                    }\n",
    "                }\n",
    "            } \n",
    "add_function_spec_to_widget_json(\"median_filter_slice_by_slice\",_median_filter_slice_by_slice)"
   ]
  },
  {
   "cell_type": "code",
   "execution_count": 25,
   "metadata": {},
   "outputs": [
    {
     "name": "stdout",
     "output_type": "stream",
     "text": [
      "function image_smoothing_gaussian_slice_by_slice is already in all_functions.json\n"
     ]
    },
    {
     "data": {
      "text/plain": [
       "0"
      ]
     },
     "execution_count": 25,
     "metadata": {},
     "output_type": "execute_result"
    }
   ],
   "source": [
    "\n",
    "\n",
    "_image_smoothing_gaussian_slice_by_slice = {\n",
    "        \"name\": \"Gaussian Smoothing Slice by Slice\",\n",
    "        \"python::module\": \"aicssegmentation.core.pre_processing_utils\",\n",
    "        \"python::function\": \"image_smoothing_gaussian_slice_by_slice\",\n",
    "        \"parameters\": {\n",
    "            \"sigma\": {\n",
    "                \"widget_type\": \"slider\",\n",
    "                \"data_type\": \"float\",\n",
    "                \"min\": 0.8,\n",
    "                \"max\": 20,\n",
    "                \"increment\": 0.2\n",
    "            }\n",
    "        }\n",
    "        }\n",
    "\n",
    "# json.dumps({\"image_smoothing_gaussian_slice_by_slice\": _image_smoothing_gaussian_slice_by_slice} )\n",
    "add_function_spec_to_widget_json(\"image_smoothing_gaussian_slice_by_slice\",_image_smoothing_gaussian_slice_by_slice)        \n"
   ]
  },
  {
   "cell_type": "code",
   "execution_count": 26,
   "metadata": {},
   "outputs": [
    {
     "name": "stdout",
     "output_type": "stream",
     "text": [
      "function apply_log_li_threshold is already in all_functions.json\n",
      "overwriting  apply_log_li_threshold\n"
     ]
    },
    {
     "data": {
      "text/plain": [
       "1"
      ]
     },
     "execution_count": 26,
     "metadata": {},
     "output_type": "execute_result"
    }
   ],
   "source": [
    "\n",
    "# WARNING: not a good way to set to None\n",
    "_apply_log_li_threshold = {\n",
    "        \"name\": \"threshold log Li\",\n",
    "        \"python::module\": \"infer_subc_2d.utils.img\",\n",
    "        \"python::function\": \"apply_log_li_threshold\",\n",
    "        \"parameters\": {\n",
    "            \"thresh_factor\": {\n",
    "                \"widget_type\": \"slider\",\n",
    "                \"data_type\": \"float\",\n",
    "                \"min\": 0.3,\n",
    "                \"max\": 1.1,\n",
    "                \"increment\": 0.05\n",
    "            },\n",
    "            \"thresh_min\": {\n",
    "                \"widget_type\": \"slider\",\n",
    "                \"data_type\": \"float\",\n",
    "                \"min\": 0.0,\n",
    "                \"max\": 0.8,\n",
    "                \"increment\": 0.01\n",
    "            },\n",
    "            \"thresh_max\": {\n",
    "                \"widget_type\": \"slider\",\n",
    "                \"data_type\": \"float\",\n",
    "                \"min\": 0.3,\n",
    "                \"max\": 1.0,\n",
    "                \"increment\": 0.05\n",
    "            },\n",
    "        }\n",
    "        }\n",
    "\n",
    "# json.dumps({\"apply_log_li_threshold\": _apply_log_li_threshold} )\n",
    "add_function_spec_to_widget_json(\"apply_log_li_threshold\",_apply_log_li_threshold,overwrite=True)        \n"
   ]
  },
  {
   "cell_type": "code",
   "execution_count": 27,
   "metadata": {},
   "outputs": [
    {
     "name": "stdout",
     "output_type": "stream",
     "text": [
      "function label is already in all_functions.json\n"
     ]
    },
    {
     "data": {
      "text/plain": [
       "0"
      ]
     },
     "execution_count": 27,
     "metadata": {},
     "output_type": "execute_result"
    }
   ],
   "source": [
    "\n",
    "\n",
    "    # NU_labels = label(nuclei_object)\n",
    "\n",
    "_label =  {\n",
    "        \"name\": \"label objects\",\n",
    "        \"python::module\": \"skimage.measure\",\n",
    "        \"python::function\": \"label\",\n",
    "        \"parameters\": None\n",
    "        }\n",
    "# json.dumps({\"label\":_label})\n",
    "add_function_spec_to_widget_json(\"label\",_label)        \n"
   ]
  },
  {
   "cell_type": "code",
   "execution_count": 28,
   "metadata": {},
   "outputs": [
    {
     "name": "stdout",
     "output_type": "stream",
     "text": [
      "function apply_mask is already in all_functions.json\n"
     ]
    },
    {
     "data": {
      "text/plain": [
       "0"
      ]
     },
     "execution_count": 28,
     "metadata": {},
     "output_type": "execute_result"
    }
   ],
   "source": [
    "\n",
    "#  nulei_object = apply_mask(nuclei_object, soma_mask)\n",
    "\n",
    "_apply_mask=  {\n",
    "        \"name\": \"apply mask\",\n",
    "        \"python::module\": \"infer_subc_2d.utils.img\",\n",
    "        \"python::function\": \"apply_mask\",\n",
    "        \"parameters\": None\n",
    "        }\n",
    "# json.dumps({\"apply_mask\":_apply_mask})\n",
    "add_function_spec_to_widget_json(\"apply_mask\",_apply_mask)        \n"
   ]
  },
  {
   "cell_type": "code",
   "execution_count": 29,
   "metadata": {},
   "outputs": [
    {
     "name": "stdout",
     "output_type": "stream",
     "text": [
      "function size_filter_2D is already in all_functions.json\n"
     ]
    },
    {
     "data": {
      "text/plain": [
       "0"
      ]
     },
     "execution_count": 29,
     "metadata": {},
     "output_type": "execute_result"
    }
   ],
   "source": [
    "\n",
    "    # small_object_width = 45\n",
    "    # nuclei_object = size_filter_2D(nuclei_object, \n",
    "    #                                                             min_size= small_object_width**2, \n",
    "    #                                                             connectivity=1)\n",
    "\n",
    "\n",
    "_size_filter_2D = {\n",
    "        \"name\": \"Size Filter 2D\",\n",
    "        \"python::module\": \"infer_subc_2d.utils.img\",\n",
    "        \"python::function\": \"size_filter_2D\",\n",
    "        \"parameters\": {\n",
    "            \"min_size\": {\n",
    "                \"widget_type\": \"slider\",\n",
    "                \"data_type\": \"int\",\n",
    "                \"min\": 0,\n",
    "                \"max\": 500,\n",
    "                \"increment\": 1\n",
    "            }\n",
    "        }\n",
    "    }\n",
    "# json.dumps({  \"size_filter_2D\":  _size_filter_2D   })\n",
    "\n",
    "add_function_spec_to_widget_json(\"size_filter_2D\",_size_filter_2D)        \n"
   ]
  },
  {
   "attachments": {},
   "cell_type": "markdown",
   "metadata": {},
   "source": [
    "-------------------------------\n",
    "## Write workflow .json\n",
    "Now that we've added our function specs we can compose workflows."
   ]
  },
  {
   "cell_type": "code",
   "execution_count": 30,
   "metadata": {},
   "outputs": [],
   "source": [
    "from infer_subc_2d.constants import NUC_CH\n",
    "\n",
    "\n",
    "def make_infer_nuclei_dict():\n",
    "    \"\"\"\n",
    "    Procedure to infer nuclei from linearly unmixed input.\n",
    "\n",
    "    Parameters\n",
    "    ------------\n",
    "    in_img: np.ndarray\n",
    "        a 3d image containing all the channels\n",
    "\n",
    "    soma_mask: np.ndarray\n",
    "        mask\n",
    "\n",
    "    Returns\n",
    "    -------------\n",
    "    nuclei_object\n",
    "        mask defined extent of NU\n",
    "\n",
    "    \"\"\"\n",
    "    step_name = []\n",
    "    function_name = []\n",
    "    category =[]\n",
    "    parameter_values = []\n",
    "    parent = []\n",
    "   \n",
    "    ###################\n",
    "    # EXTRACT\n",
    "    ###################   \n",
    "    step_name.append(\"1\")\n",
    "    function_name.append(\"select_channel_from_raw\")\n",
    "    category.append(\"extraction\")\n",
    "    parameter_values.append( dict(chan = NUC_CH) )\n",
    "    parent.append(0)\n",
    "\n",
    "    ###################\n",
    "    # PRE_PROCESSING\n",
    "    ###################                         \n",
    "    # nuclei = min_max_intensity_normalization(in_img[NUC_CH].copy() )\n",
    "    step_name.append(\"2\")\n",
    "    function_name.append(\"min_max_intensity_normalization\")\n",
    "    category.append(\"preprocessing\")\n",
    "    parameter_values.append(None)\n",
    "    parent.append(1)\n",
    "\n",
    "    # size = 4   \n",
    "    # nuclei = median_filter_slice_by_slice( \n",
    "    #                                                                 nuclei,\n",
    "    #                                                                 size=size  )\n",
    "    step_name.append(\"3\")\n",
    "    function_name.append(\"median_filter_slice_by_slice\")\n",
    "    category.append(\"preprocessing\")\n",
    "    parameter_values.append(dict(size = 4 ))\n",
    "    parent.append(2)\n",
    "\n",
    "    # sigma = 1.34\n",
    "    # truncate_range = 3.0\n",
    "    # nuclei = image_smoothing_gaussian_slice_by_slice(  nuclei,\n",
    "    #                                                                                             sigma=sigma,\n",
    "    #                                                                                             truncate_range = truncate_range\n",
    "    #                                                                                             )\n",
    "    step_name.append(\"4\")\n",
    "    function_name.append(\"image_smoothing_gaussian_slice_by_slice\")\n",
    "    category.append(\"preprocessing\")\n",
    "    parameter_values.append(dict( sigma = 1.34 ))\n",
    "    parent.append(3)\n",
    "\n",
    "    ###################\n",
    "    # CORE_PROCESSING\n",
    "    ###################\n",
    "    # threshold_factor = 0.9 \n",
    "    # thresh_min = .1\n",
    "    # thresh_max = 1.\n",
    "    # nuclei_object = apply_log_li_threshold(nuclei, threshold_factor=threshold_factor, thresh_min=thresh_min, thresh_max=thresh_max)\n",
    "    step_name.append(\"5\")\n",
    "    function_name.append(\"apply_log_li_threshold\")\n",
    "    category.append(\"core\")\n",
    "    parameter_values.append(dict(thresh_factor = 0.9, \n",
    "                                                            thresh_min = .1,\n",
    "                                                            thresh_max = 1.))\n",
    "    parent.append(4)\n",
    "\n",
    "\n",
    "    # NU_labels = label(nuclei_object)\n",
    "    step_name.append(\"6\")\n",
    "    function_name.append(\"label\")\n",
    "    category.append(\"core\")\n",
    "    parameter_values.append(None)\n",
    "    parent.append(5)\n",
    "\n",
    "\n",
    "    ###################\n",
    "    # POST_PROCESSING\n",
    "    ###################\n",
    "    # hole_width = 5  \n",
    "    # nuclei_object = hole_filling(nuclei_object, hole_min=0, hole_max=hole_width**2, fill_2d=True)\n",
    "    step_name.append(\"6\")\n",
    "    function_name.append(\"hole_filling\")\n",
    "    category.append(\"postprocessing\")\n",
    "    parameter_values.append(dict( hole_min=0, hole_max=5**2, fill_2d=True))\n",
    "    parent.append(5)\n",
    "\n",
    "    # # EEEEEK I don't know how to compose where the mask comes from... \n",
    "    # nuclei_object = apply_mask(nuclei_object, soma_mask)\n",
    "\n",
    "    # small_object_width = 15\n",
    "    # nuclei_object = size_filter_2D(nuclei_object, \n",
    "    #                                                             min_size= small_object_width**2, \n",
    "    #                                                             connectivity=1)\n",
    "    step_name.append(\"7\")\n",
    "    function_name.append(\"size_filter_2D\")\n",
    "    category.append(\"postprocessing\")\n",
    "    parameter_values.append(dict( min_size = 15**2  ))\n",
    "    parent.append(6)\n",
    "\n",
    "    out_dict = dict()\n",
    "    for i,stepn in enumerate(step_name):\n",
    "        entry = dict(category=category[i],\n",
    "                            function=function_name[i],\n",
    "                            parameter_values=parameter_values[i],\n",
    "                            parent=parent[i]\n",
    "        )\n",
    "        if entry['parameter_values'] is None:\n",
    "            _ = entry.pop('parameter_values')\n",
    "        out_dict[stepn] = entry\n",
    "        \n",
    "    return out_dict"
   ]
  },
  {
   "cell_type": "code",
   "execution_count": 31,
   "metadata": {},
   "outputs": [],
   "source": [
    "from infer_subc_2d.utils.directories import Directories\n",
    "import json\n",
    "\n",
    "def _write_workflow_json(wf_name, wf_dict):\n",
    "\n",
    "    # read all_functions.json into dict\n",
    "    # if not wf_name.startswith(\"conf\"):\n",
    "    #     wf_name = f\"conf_{wf_name}\"\n",
    "    path = Directories.get_structure_config_dir() / f\"{wf_name}.json\"\n",
    "\n",
    "    # re-write file\n",
    "    with open(path, \"w\") as file:\n",
    "        json.dump(wf_dict, file, indent=4, sort_keys=False)\n",
    "\n",
    "    return path\n",
    "\n",
    "\n"
   ]
  },
  {
   "cell_type": "code",
   "execution_count": 32,
   "metadata": {},
   "outputs": [
    {
     "data": {
      "text/plain": [
       "PosixPath('/Users/ahenrie/Projects/Imaging/infer-subc-2D/infer_subc_2d/organelles_config/conf_2.2.nuclei_stepbystep.json')"
      ]
     },
     "execution_count": 32,
     "metadata": {},
     "output_type": "execute_result"
    }
   ],
   "source": [
    "from infer_subc_2d.organelles_config.helper import write_workflow_json\n",
    "\n",
    "infer_nuclei_dict = make_infer_nuclei_dict()\n",
    "\n",
    "write_workflow_json(\"conf_2.2.nuclei_stepbystep\", infer_nuclei_dict)"
   ]
  },
  {
   "cell_type": "code",
   "execution_count": 33,
   "metadata": {},
   "outputs": [],
   "source": [
    "from infer_subc_2d.constants import NUC_CH\n",
    "\n",
    "\n",
    "def make_infer_nuclei_from_raw_dict():\n",
    "    \"\"\"\n",
    "    Procedure to infer nuclei from linearly unmixed input.\n",
    "\n",
    "    Parameters\n",
    "    ------------\n",
    "    in_img: np.ndarray\n",
    "        a 3d image containing all the channels\n",
    "\n",
    "    soma_mask: np.ndarray\n",
    "        mask\n",
    "\n",
    "    Returns\n",
    "    -------------\n",
    "    nuclei_object\n",
    "        mask defined extent of NU\n",
    "\n",
    "    \"\"\"\n",
    "    step_name = []\n",
    "    function_name = []\n",
    "    category =[]\n",
    "    parameter_values = []\n",
    "    parent = []\n",
    "   \n",
    "    ###################\n",
    "    # EXTRACT\n",
    "    ###################   \n",
    "\n",
    "    step_name.append(\"1\")\n",
    "    function_name.append(\"fixed_get_optimal_Z_img\")\n",
    "    category.append(\"extraction\")\n",
    "    parameter_values.append(None)\n",
    "    parent.append(0)\n",
    "\n",
    "\n",
    "    step_name.append(\"2\")\n",
    "    function_name.append(\"fixed_infer_soma\")\n",
    "    category.append(\"extraction\")\n",
    "    parameter_values.append( None )\n",
    "    parent.append(1)\n",
    "\n",
    "    step_name.append(\"3\")\n",
    "    function_name.append(\"select_channel_from_raw\")\n",
    "    category.append(\"extraction\")\n",
    "    parameter_values.append( dict(chan = NUC_CH) )\n",
    "    parent.append(1)\n",
    "\n",
    "    ###################\n",
    "    # PRE_PROCESSING\n",
    "    ###################                         \n",
    "    # nuclei = min_max_intensity_normalization(in_img[NUC_CH].copy() )\n",
    "    step_name.append(\"4\")\n",
    "    function_name.append(\"min_max_intensity_normalization\")\n",
    "    category.append(\"preprocessing\")\n",
    "    parameter_values.append(None)\n",
    "    parent.append(3)\n",
    "\n",
    "    # size = 4   \n",
    "    # nuclei = median_filter_slice_by_slice( \n",
    "    #                                                                 nuclei,\n",
    "    #                                                                 size=size  )\n",
    "    step_name.append(\"5\")\n",
    "    function_name.append(\"median_filter_slice_by_slice\")\n",
    "    category.append(\"preprocessing\")\n",
    "    parameter_values.append(dict(size = 4 ))\n",
    "    parent.append(4)\n",
    "\n",
    "    # sigma = 1.34\n",
    "    # truncate_range = 3.0\n",
    "    # nuclei = image_smoothing_gaussian_slice_by_slice(  nuclei,\n",
    "    #                                                                                             sigma=sigma,\n",
    "    #                                                                                             truncate_range = truncate_range\n",
    "    #                                                                                             )\n",
    "    step_name.append(\"6\")\n",
    "    function_name.append(\"image_smoothing_gaussian_slice_by_slice\")\n",
    "    category.append(\"preprocessing\")\n",
    "    parameter_values.append(dict( sigma = 1.34 ))\n",
    "    parent.append(5)\n",
    "\n",
    "    ###################\n",
    "    # CORE_PROCESSING\n",
    "    ###################\n",
    "    # threshold_factor = 0.9 \n",
    "    # thresh_min = .1\n",
    "    # thresh_max = 1.\n",
    "    # nuclei_object = apply_log_li_threshold(nuclei, threshold_factor=threshold_factor, thresh_min=thresh_min, thresh_max=thresh_max)\n",
    "    step_name.append(\"7\")\n",
    "    function_name.append(\"apply_log_li_threshold\")\n",
    "    category.append(\"core\")\n",
    "    parameter_values.append(dict(thresh_factor = 0.9, \n",
    "                                                            thresh_min = .1,\n",
    "                                                            thresh_max = 1.))\n",
    "    parent.append(6)\n",
    "\n",
    "\n",
    "    # NU_labels = label(nuclei_object)\n",
    "    step_name.append(\"8\")\n",
    "    function_name.append(\"label\")\n",
    "    category.append(\"core\")\n",
    "    parameter_values.append(None)\n",
    "    parent.append(7)\n",
    "\n",
    "\n",
    "    ###################\n",
    "    # POST_PROCESSING\n",
    "    ###################\n",
    "    # hole_width = 5  \n",
    "    # nuclei_object = hole_filling(nuclei_object, hole_min=0, hole_max=hole_width**2, fill_2d=True)\n",
    "    step_name.append(\"9\")\n",
    "    function_name.append(\"hole_filling\")\n",
    "    category.append(\"postprocessing\")\n",
    "    parameter_values.append(dict( hole_min=0, hole_max=5**2, fill_2d=True))\n",
    "    parent.append(8)\n",
    "\n",
    "    step_name.append(\"10\")\n",
    "    function_name.append(\"apply_mask\")\n",
    "    category.append(\"postprocessing\")\n",
    "    parameter_values.append(None)\n",
    "    parent.append([9,2])\n",
    "\n",
    "\n",
    "    # small_object_width = 15\n",
    "    # nuclei_object = size_filter_2D(nuclei_object, \n",
    "    #                                                             min_size= small_object_width**2, \n",
    "    #                                                             connectivity=1)\n",
    "    step_name.append(\"11\")\n",
    "    function_name.append(\"size_filter_2D\")\n",
    "    category.append(\"postprocessing\")\n",
    "    parameter_values.append(dict( min_size = 15**2  ))\n",
    "    parent.append(10)\n",
    "\n",
    "    out_dict = dict()\n",
    "    for i,stepn in enumerate(step_name):\n",
    "        entry = dict(category=category[i],\n",
    "                            function=function_name[i],\n",
    "                            parameter_values=parameter_values[i],\n",
    "                            parent=parent[i]\n",
    "        )\n",
    "        if entry['parameter_values'] is None:\n",
    "            _ = entry.pop('parameter_values')\n",
    "        out_dict[stepn] = entry\n",
    "        \n",
    "    return out_dict"
   ]
  },
  {
   "cell_type": "code",
   "execution_count": 34,
   "metadata": {},
   "outputs": [
    {
     "data": {
      "text/plain": [
       "PosixPath('/Users/ahenrie/Projects/Imaging/infer-subc-2D/infer_subc_2d/organelles_config/conf_1.2.nuclei_stepbystep_from_raw.json')"
      ]
     },
     "execution_count": 34,
     "metadata": {},
     "output_type": "execute_result"
    }
   ],
   "source": [
    "from infer_subc_2d.organelles_config.helper import write_workflow_json\n",
    "\n",
    "infer_nuclei_dict = make_infer_nuclei_from_raw_dict()\n",
    "\n",
    "write_workflow_json(\"conf_1.2.nuclei_stepbystep_from_raw\", infer_nuclei_dict)"
   ]
  },
  {
   "cell_type": "code",
   "execution_count": 35,
   "metadata": {},
   "outputs": [
    {
     "name": "stdout",
     "output_type": "stream",
     "text": [
      "function infer_nuclei is already in all_functions.json\n"
     ]
    },
    {
     "data": {
      "text/plain": [
       "0"
      ]
     },
     "execution_count": 35,
     "metadata": {},
     "output_type": "execute_result"
    }
   ],
   "source": [
    "from infer_subc_2d.organelles_config.helper import add_function_spec_to_widget_json\n",
    "\n",
    "_infer_nuclei =  {\n",
    "        \"name\": \"infer infer_nuclei\",\n",
    "        \"python::module\": \"infer_subc_2d.organelles\",\n",
    "        \"python::function\": \"infer_nuclei\",\n",
    "        \"parameters\": None\n",
    "        }\n",
    "\n",
    "add_function_spec_to_widget_json(\"infer_nuclei\",_infer_nuclei)"
   ]
  },
  {
   "attachments": {},
   "cell_type": "markdown",
   "metadata": {},
   "source": [
    "-------------\n",
    "## SUMMARY\n",
    "\n",
    "The above details how the nuclei object is inferred.  \n",
    "\n",
    "### NEXT: INFER CYTOSOL\n",
    "\n",
    "proceed to [03_infer_cytosol.ipynb](./03_infer_cytosol.ipynb)\n"
   ]
  },
  {
   "cell_type": "markdown",
   "metadata": {},
   "source": []
  }
 ],
 "metadata": {
  "kernelspec": {
   "display_name": "Python 3 (ipykernel)",
   "language": "python",
   "name": "python3"
  },
  "language_info": {
   "codemirror_mode": {
    "name": "ipython",
    "version": 3
   },
   "file_extension": ".py",
   "mimetype": "text/x-python",
   "name": "python",
   "nbconvert_exporter": "python",
   "pygments_lexer": "ipython3",
   "version": "3.9.16"
  },
  "vscode": {
   "interpreter": {
    "hash": "d6148ef1fb015fb20f0b6da2ea61c87c6b848bdf3dabb03087e5d5cd0c4607e9"
   }
  }
 },
 "nbformat": 4,
 "nbformat_minor": 2
}
