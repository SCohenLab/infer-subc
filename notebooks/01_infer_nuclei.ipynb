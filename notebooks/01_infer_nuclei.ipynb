{
 "cells": [
  {
   "attachments": {},
   "cell_type": "markdown",
   "metadata": {},
   "source": [
    "# Infer ***nuclei*** - 1️⃣ \n",
    "\n",
    "--------------\n",
    "\n",
    "## OBJECTIVE: \n",
    "### ✅ Infer sub-cellular component #1: ***nuclei***  in order to understand interactome \n",
    "\n",
    "To measure shape, position, size, and interaction of eight organelles/cellular components ***nuclei***.  \n",
    "\n",
    "Dependencies:\n",
    "***Soma*** and ***cytosol*** inference rely on the ***nuclei*** inference.  Therefore all of the sub-cellular objects rely on the NU segmentation.\n",
    "\n",
    "\n",
    "> CONVENTION:  \"nuclei\" for the segmentation of ALL nuclei in the image.  \"nucleus\" for the ***single*** soma-masked version.\n"
   ]
  },
  {
   "attachments": {},
   "cell_type": "markdown",
   "metadata": {},
   "source": [
    "## preamble\n",
    "\n",
    "1. imports\n",
    "2. setup\n",
    "3. ~~choose_Z~~\n",
    "4. get soma mask (if available)\n",
    "5. infer-nuclei\n",
    "    * input\n",
    "    * pre-processing\n",
    "    * core processing\n",
    "    * post-processing\n",
    "    * output\n",
    "6. infer _nucleus_ : apply soma mask (if not available at #4)\n",
    "\n"
   ]
  },
  {
   "attachments": {},
   "cell_type": "markdown",
   "metadata": {},
   "source": [
    "\n",
    "\n",
    "### IMPORTS"
   ]
  },
  {
   "cell_type": "code",
   "execution_count": 3,
   "metadata": {},
   "outputs": [],
   "source": [
    "# top level imports\n",
    "from pathlib import Path\n",
    "import os, sys\n",
    "from collections import defaultdict\n",
    "from typing import Optional, Union\n",
    "\n",
    "import numpy as np\n",
    "\n",
    "from aicssegmentation.core.pre_processing_utils import  image_smoothing_gaussian_slice_by_slice \n",
    "from skimage.measure import label\n",
    "\n",
    "# # package for io \n",
    "from aicsimageio import AICSImage\n",
    "\n",
    "import napari\n",
    "\n",
    "### import local python functions in ../infer_subc_2d\n",
    "sys.path.append(os.path.abspath((os.path.join(os.getcwd(), '..'))))\n",
    "\n",
    "from infer_subc_2d.utils.file_io import (read_czi_image,\n",
    "                                                                    export_inferred_organelle,\n",
    "                                                                    list_image_files)\n",
    "\n",
    "from infer_subc_2d.utils.img import *\n",
    "from infer_subc_2d.organelles import fixed_get_optimal_Z_image, fixed_find_optimal_Z, find_optimal_Z\n",
    "\n",
    "%load_ext autoreload\n",
    "%autoreload 2\n",
    "\n"
   ]
  },
  {
   "attachments": {},
   "cell_type": "markdown",
   "metadata": {},
   "source": [
    "\n",
    "## SETUP\n",
    "\n",
    "\n",
    "CUSTOMIZE WITH: \n",
    "1. updated path to data\n",
    "2. updated folder name for \"raw\" data\n",
    "\n",
    "> NOTE: we are operating on a single \"test\" image in this notebook.  The batch-processing of all the images will be happen at the end of the notebook after we have developed/confirmed the setmentation procedures and parameter settings.\n"
   ]
  },
  {
   "cell_type": "code",
   "execution_count": 4,
   "metadata": {},
   "outputs": [],
   "source": [
    "# NOTE:  these \"constants\" are only accurate for the testing MCZ dataset\n",
    "from infer_subc_2d.constants import (TEST_IMG_N,\n",
    "                                                                    NUC_CH ,\n",
    "                                                                    LYSO_CH ,\n",
    "                                                                    MITO_CH ,\n",
    "                                                                    GOLGI_CH ,\n",
    "                                                                    PEROXI_CH ,\n",
    "                                                                    ER_CH ,\n",
    "                                                                    LIPID_CH ,\n",
    "                                                                    RESIDUAL_CH )                       "
   ]
  },
  {
   "cell_type": "code",
   "execution_count": 5,
   "metadata": {},
   "outputs": [],
   "source": [
    "# this will be the example image for testing the pipeline below\n",
    "test_img_n = TEST_IMG_N\n",
    "\n",
    "# build the datapath\n",
    "# all the imaging data goes here.\n",
    "data_root_path = Path(os.path.expanduser(\"~\")) / \"Projects/Imaging/data\"\n",
    "\n",
    "# linearly unmixed \".czi\" files are here\n",
    "in_data_path = data_root_path / \"raw\"\n",
    "im_type = \".czi\"\n",
    "\n",
    "# get the list of all files\n",
    "img_file_list = list_image_files(in_data_path,im_type)\n",
    "test_img_name = img_file_list[test_img_n]\n",
    "\n",
    "# save output \".tiff\" files here\n",
    "out_data_path = data_root_path / \"out\"\n",
    "\n",
    "if not Path.exists(out_data_path):\n",
    "    Path.mkdir(out_data_path)\n",
    "    print(f\"making {out_data_path}\")"
   ]
  },
  {
   "cell_type": "code",
   "execution_count": 6,
   "metadata": {},
   "outputs": [
    {
     "name": "stderr",
     "output_type": "stream",
     "text": [
      "/opt/anaconda3/envs/napariNEW/lib/python3.9/site-packages/ome_types/_convenience.py:106: FutureWarning: The default XML parser will be changing from 'xmlschema' to 'lxml' in version 0.4.0.  To silence this warning, please provide the `parser` argument, specifying either 'lxml' (to opt into the new behavior), or'xmlschema' (to retain the old behavior).\n",
      "  d = to_dict(os.fspath(xml), parser=parser, validate=validate)\n"
     ]
    }
   ],
   "source": [
    "img_data,meta_dict = read_czi_image(test_img_name)\n",
    "\n",
    "# get some top-level info about the RAW data\n",
    "channel_names = meta_dict['name']\n",
    "img = meta_dict['metadata']['aicsimage']\n",
    "scale = meta_dict['scale']\n",
    "channel_axis = meta_dict['channel_axis']\n"
   ]
  },
  {
   "attachments": {},
   "cell_type": "markdown",
   "metadata": {},
   "source": [
    "## GET SOMA MASK if available\n"
   ]
  },
  {
   "cell_type": "code",
   "execution_count": 7,
   "metadata": {},
   "outputs": [],
   "source": [
    "\n",
    "soma_mask =  None \n",
    "# TODO:  load from saved tiff if available... \n",
    "\n",
    "\n",
    "# chan_name = 'nuclei'\n",
    "# out_path = data_root_path / \"inferred_objects\" \n",
    "# object_name = 'NU_object'\n",
    "\n",
    "# NU_bioim = read_input_image( out_path/ f\"{object_name}.ome.tiff\"  )\n",
    "# NU_object = NU_bioim.image\n",
    "# NU_labels = label(NU_object)\n",
    "\n",
    "# # calculate a filter dimension for median filtering which considers the difference in scale of Z\n",
    "# z_factor = scale[0]//scale[1]\n",
    "# med_filter_size = 4 #2D \n",
    "# med_filter_size_3D = (1,med_filter_size,med_filter_size)  # set the scale for a typical median filter\n"
   ]
  },
  {
   "attachments": {},
   "cell_type": "markdown",
   "metadata": {},
   "source": [
    "## infer ***nuclei***\n",
    " \n",
    "\n",
    "## summary of steps\n",
    "\n",
    "➡️ INPUT\n",
    "\n",
    "- channel 0\n",
    "\n",
    "PRE-PROCESSING\n",
    "-  scale to min 0, max 1.0\n",
    "- median Filter window 4\n",
    "-  gaussian 1.34\n",
    "\n",
    "CORE-PROCESSING\n",
    "  - threshold method minimum cross-entropy.  \n",
    "    - objects 50-400 pixels, \n",
    "    - threshold smoothing scale: 1.34 (later 1 pixel\n",
    "    - threshold correction factor: 0.9 (later 1.2 )\n",
    "    - lower / upper bounds  (.1,1) ?\n",
    "    - log transformed thresholding\n",
    "    - fill holes\n",
    "\n",
    "\n",
    "POST-PROCESSING\n",
    "  - fill holes\n",
    "  - remove small objects\n",
    "\n",
    "\n",
    "OUTPUT ➡️ \n",
    "- labels of NUCLEI\n",
    "\n",
    "\n",
    "> #### Note:  in later steps we will limit each analysis to a single object, but at this stage we have multiple\n",
    "\n",
    "NOTE:  using Allen Cell Segmenter  [Nucleophosmin](https://www.allencell.org/cell-observations/category/nucleophosmin) might be a good generic mechanism.  e.g.\n",
    "-  [playground_npm1.ipynb](https://github.com/AllenInstitute/aics-segmentation/blob/master/lookup_table_demo/playground_npm1.ipynb) and [npm1.py](https://github.com/AllenInstitute/aics-segmentation/blob/master/aicssegmentation/structure_wrapper/seg_npm1.py) and [npm1_SR.py](https://github.com/AllenInstitute/aics-segmentation/blob/master/aicssegmentation/structure_wrapper/seg_npm1_SR.py)\n",
    "\n",
    "\n",
    "> #### Note:  this initial inferred object -- the ***nuclei*** of the brightest cell -- is implicitly used in inferring the ***soma*** and ***cytosol*** objects.  \n"
   ]
  },
  {
   "attachments": {},
   "cell_type": "markdown",
   "metadata": {},
   "source": [
    "## INPUT prototype\n",
    "\n",
    "Get the \"raw\" signals we need to analyze as well as any other dependencies in \"inferred\" objects.  \n",
    "\n",
    "> NOTE: we are operating on a single \"test\" image in this notebook.  The batch-processing of all the images will be happen at the end of the notebook after we have developed/confirmed the setmentation procedures and parameter settings."
   ]
  },
  {
   "cell_type": "code",
   "execution_count": 8,
   "metadata": {},
   "outputs": [],
   "source": [
    "###################\n",
    "# INPUT\n",
    "###################\n",
    "raw_nuclei = select_channel_from_raw(img_data, NUC_CH)\n"
   ]
  },
  {
   "attachments": {},
   "cell_type": "markdown",
   "metadata": {},
   "source": [
    "## PRE-PROCESSING prototype\n"
   ]
  },
  {
   "cell_type": "code",
   "execution_count": 9,
   "metadata": {},
   "outputs": [],
   "source": [
    "###################\n",
    "# PRE_PROCESSING\n",
    "###################           \n",
    "# \n",
    "med_filter_size = 4   \n",
    "gaussian_smoothing_sigma = 1.34\n",
    "\n",
    "# nuclei = min_max_intensity_normalization(raw_nuclei )\n",
    "# nuclei = median_filter_slice_by_slice( nuclei, size=med_filter_size  )\n",
    "# nuclei = image_smoothing_gaussian_slice_by_slice(  nuclei, sigma=gaussian_smoothing_sigma)\n",
    "\n",
    "nuclei =  scale_and_smooth(raw_nuclei,\n",
    "                                                    median_sz = med_filter_size, \n",
    "                                                    gauss_sig = gaussian_smoothing_sigma)"
   ]
  },
  {
   "attachments": {},
   "cell_type": "markdown",
   "metadata": {},
   "source": [
    "\n",
    "> #### ASIDE: Thresholding\n",
    "> [Thresholding](https://en.wikipedia.org/wiki/Thresholding_%28image_processing%29) is used to create binary images. A threshold value determines the intensity value separating foreground pixels from background pixels. Foregound pixels are pixels brighter than the threshold value, background pixels are darker. In many cases, images can be adequately segmented by thresholding followed by labelling of *connected components*, which is a fancy way of saying \"groups of pixels that touch each other\".\n",
    "> \n",
    "> Different thresholding algorithms produce different results. [Otsu's method](https://en.wikipedia.org/wiki/Otsu%27s_method) and [Li's minimum cross entropy threshold](https://scikit-image.org/docs/dev/auto_examples/developers/plot_threshold_li.html) are two common algorithms. Below, we use Li. You can use `skimage.filters.threshold_<TAB>` to find different thresholding methods.\n",
    "\n",
    "_Li_ procedure  better matches the CellProfiler pipeline which simply calls it \"Minimum Cross Entropy\" .\n"
   ]
  },
  {
   "attachments": {},
   "cell_type": "markdown",
   "metadata": {},
   "source": [
    "## CORE PROCESSING prototype"
   ]
  },
  {
   "cell_type": "code",
   "execution_count": 10,
   "metadata": {},
   "outputs": [],
   "source": [
    "###################\n",
    "# CORE_PROCESSING\n",
    "###################\n",
    "\n",
    "threshold_factor = 0.9 #from cellProfiler\n",
    "thresh_min = .1\n",
    "thresh_max = 1.\n",
    "li_thresholded = apply_log_li_threshold(nuclei, thresh_factor=threshold_factor, thresh_min=thresh_min, thresh_max=thresh_max)\n"
   ]
  },
  {
   "attachments": {},
   "cell_type": "markdown",
   "metadata": {},
   "source": [
    "## POST PROCESSING prototype\n",
    "\n",
    "> NOTE: the size parameters are by convention defined as one dimensional \"width\", so the inputs to the functions need to be _squared_ i.e. raised to the power of 2: `** 2`.   For volumetric (3D) analysis this would be _cubed_:`**3`"
   ]
  },
  {
   "cell_type": "code",
   "execution_count": 11,
   "metadata": {},
   "outputs": [],
   "source": [
    "###################\n",
    "# POST_PROCESSING\n",
    "###################\n",
    "\n",
    "hole_width = 25  \n",
    "# # wrapper to remoce_small_objects\n",
    "#removed_holes = remove_small_holes(li_thresholded, hole_width ** 2 )\n",
    "removed_holes = hole_filling_linear_size(li_thresholded, hole_min=0, hole_max=hole_width)\n",
    "\n",
    "small_object_width = 15\n",
    "cleaned_img = size_filter_linear_size(removed_holes, # wrapper to remove_small_objects which can do slice by slice\n",
    "                                                                min_size= small_object_width, \n",
    "                                                                connectivity=1)\n"
   ]
  },
  {
   "cell_type": "code",
   "execution_count": 12,
   "metadata": {},
   "outputs": [],
   "source": [
    "nuclei_object = cleaned_img\n",
    "NU_labels = label( cleaned_img )\n",
    "NU_signal = raw_nuclei"
   ]
  },
  {
   "attachments": {},
   "cell_type": "markdown",
   "metadata": {},
   "source": [
    "## Visualize with `napari` 1\n",
    "Visualize the first-pass segmentation and labeling with `napari`."
   ]
  },
  {
   "cell_type": "code",
   "execution_count": 13,
   "metadata": {},
   "outputs": [],
   "source": [
    "viewer = napari.Viewer()\n",
    "\n",
    "if soma_mask is not None:\n",
    "    viewer.add_image(soma_mask,\n",
    "        scale=scale)"
   ]
  },
  {
   "cell_type": "code",
   "execution_count": 14,
   "metadata": {},
   "outputs": [
    {
     "data": {
      "text/plain": [
       "<Labels layer 'NU_labels' at 0x15fd4fca0>"
      ]
     },
     "execution_count": 14,
     "metadata": {},
     "output_type": "execute_result"
    }
   ],
   "source": [
    "\n",
    "viewer.add_image(\n",
    "    nuclei_object,\n",
    "    scale=scale,\n",
    "    opacity=0.3,\n",
    ")    \n",
    "\n",
    "\n",
    "viewer.add_labels(\n",
    "    NU_labels,\n",
    "    scale=scale,\n",
    "    opacity=0.3,\n",
    ")\n",
    "\n"
   ]
  },
  {
   "attachments": {},
   "cell_type": "markdown",
   "metadata": {},
   "source": [
    "## SAVE inferred nuclei to .tif file\n",
    "\n",
    "Based on the _prototyping_ above define the function to infer nuclei.  \n"
   ]
  },
  {
   "cell_type": "code",
   "execution_count": 15,
   "metadata": {},
   "outputs": [
    {
     "name": "stderr",
     "output_type": "stream",
     "text": [
      "/opt/anaconda3/envs/napariNEW/lib/python3.9/site-packages/ome_types/_convenience.py:106: FutureWarning: The default XML parser will be changing from 'xmlschema' to 'lxml' in version 0.4.0.  To silence this warning, please provide the `parser` argument, specifying either 'lxml' (to opt into the new behavior), or'xmlschema' (to retain the old behavior).\n",
      "  d = to_dict(os.fspath(xml), parser=parser, validate=validate)\n"
     ]
    },
    {
     "name": "stdout",
     "output_type": "stream",
     "text": [
      "saved file: /Users/ahenrie/Projects/Imaging/data/out/nuclei_ZSTACK_PBTOhNGN2hiPSCs_BR3_N04_Unmixed.ome.tiff\n"
     ]
    }
   ],
   "source": [
    "\n",
    "\n",
    "out_file_n = export_inferred_organelle(nuclei_object, \"nuclei\", meta_dict, out_data_path)\n"
   ]
  },
  {
   "attachments": {},
   "cell_type": "markdown",
   "metadata": {},
   "source": [
    "## DEFINE `_infer_nuclei` function\n",
    "\n",
    "Based on the _prototyping_ above define the function to infer nuclei.  \n"
   ]
  },
  {
   "cell_type": "code",
   "execution_count": 16,
   "metadata": {},
   "outputs": [],
   "source": [
    "##########################\n",
    "#  _infer_nuclei\n",
    "##########################\n",
    "def _infer_nuclei( in_img: np.ndarray, \n",
    "                            soma_mask: np.ndarray,\n",
    "                            nuc_ch: Union[int,None],\n",
    "                            median_sz: int, \n",
    "                            gauss_sig: float,\n",
    "                            thresh_factor: float,\n",
    "                            thresh_min: float,\n",
    "                            thresh_max: float,\n",
    "                            max_hole_w: int,\n",
    "                            small_obj_w: int\n",
    "                        ) -> np.ndarray:\n",
    "    \"\"\"\n",
    "    Procedure to infer nuclei from linearly unmixed input.\n",
    "\n",
    "    Parameters\n",
    "    ------------\n",
    "    in_img: np.ndarray\n",
    "        a 3d image containing all the channels\n",
    "    soma_mask: Optional[np.ndarray] = None\n",
    "        mask\n",
    "    median_sz: int\n",
    "        width of median filter for signal\n",
    "    gauss_sig: float\n",
    "        sigma for gaussian smoothing of  signal\n",
    "    thresh_factor: float\n",
    "        adjustment factor for log Li threholding\n",
    "    thresh_min: float\n",
    "        abs min threhold for log Li threholding\n",
    "    thresh_max: float\n",
    "        abs max threhold for log Li threholding\n",
    "    max_hole_w: int\n",
    "        hole filling cutoff for nuclei post-processing\n",
    "    small_obj_w: int\n",
    "        minimu object size cutoff for nuclei post-processing\n",
    "\n",
    "    Returns\n",
    "    -------------\n",
    "    nuclei_object\n",
    "        mask defined extent of NU\n",
    "    \n",
    "    \"\"\"\n",
    "\n",
    "    ###################\n",
    "    # PRE_PROCESSING\n",
    "    ###################                \n",
    "    if nuc_ch is None:\n",
    "        nuc_ch = NUC_CH\n",
    "\n",
    "    nuclei = select_channel_from_raw(in_img, nuc_ch)\n",
    "\n",
    "    nuclei =  scale_and_smooth(nuclei,\n",
    "                        median_sz = median_sz, \n",
    "                        gauss_sig = gauss_sig)\n",
    "\n",
    "    ###################\n",
    "    # CORE_PROCESSING\n",
    "    ###################\n",
    "    nuclei_object = apply_log_li_threshold(nuclei, \n",
    "                                                                    thresh_factor=thresh_factor, \n",
    "                                                                    thresh_min=thresh_min, \n",
    "                                                                    thresh_max=thresh_max)\n",
    "\n",
    "\n",
    "    NU_labels = label(nuclei_object)\n",
    "    ###################\n",
    "    # POST_PROCESSING\n",
    "    ###################\n",
    "    nuclei_object = hole_filling_linear_size(nuclei_object, \n",
    "                                                    hole_min=0, \n",
    "                                                    hole_max=max_hole_w)\n",
    "\n",
    "    if soma_mask is not None:\n",
    "        nuclei_object = apply_mask(nuclei_object, soma_mask)\n",
    "\n",
    "    nuclei_object = size_filter_linear_size(nuclei_object, \n",
    "                                                                min_size = small_obj_w)\n",
    "\n",
    "    return nuclei_object\n"
   ]
  },
  {
   "attachments": {},
   "cell_type": "markdown",
   "metadata": {},
   "source": [
    "## DEFINE `_fixed_infer_nuclei` function\n"
   ]
  },
  {
   "cell_type": "code",
   "execution_count": 17,
   "metadata": {},
   "outputs": [],
   "source": [
    "##########################\n",
    "#  fixed_infer_nuclei\n",
    "##########################\n",
    "def _fixed_infer_nuclei(in_img: np.ndarray, soma_mask: Optional[np.ndarray] = None) -> np.ndarray:\n",
    "    \"\"\"\n",
    "    Procedure to infer soma from linearly unmixed input, with a *fixed* set of parameters for each step in the procedure.  i.e. \"hard coded\"\n",
    "\n",
    "    Parameters\n",
    "    ------------\n",
    "    in_img: np.ndarray\n",
    "        a 3d image containing all the channels\n",
    "    soma_mask: np.ndarray\n",
    "        mask\n",
    " \n",
    "    Returns\n",
    "    -------------\n",
    "    nuclei_object\n",
    "        mask defined extent of NU\n",
    "    \n",
    "    \"\"\"\n",
    "    nuc_ch = NUC_CH\n",
    "    median_sz = 4   \n",
    "    gauss_sig = 1.34\n",
    "    threshold_factor = 0.9\n",
    "    thresh_min = 0.1\n",
    "    thresh_max = 1.0\n",
    "    max_hole_w = 25\n",
    "    small_obj_w = 15\n",
    "\n",
    "    return _infer_nuclei( in_img,\n",
    "                                    soma_mask,\n",
    "                                    nuc_ch,\n",
    "                                    median_sz,\n",
    "                                    gauss_sig,\n",
    "                                    threshold_factor,\n",
    "                                    thresh_min,\n",
    "                                    thresh_max,\n",
    "                                    max_hole_w,\n",
    "                                    small_obj_w  )\n"
   ]
  },
  {
   "attachments": {},
   "cell_type": "markdown",
   "metadata": {},
   "source": [
    "---------------------\n",
    "## TEST `_infer_nuclei`  function defined above\n"
   ]
  },
  {
   "cell_type": "code",
   "execution_count": 18,
   "metadata": {},
   "outputs": [],
   "source": [
    "\n",
    "_NU_object =  _fixed_infer_nuclei(img_data, soma_mask) \n"
   ]
  },
  {
   "cell_type": "markdown",
   "metadata": {},
   "source": [
    "---------------------\n",
    "# TEST `infer_nuclei` exported functions\n",
    "\n",
    "> the prototype `_infer_nuclei` was copied to the [`.organelles.nuclei`](../infer_subc_2d/organelles/nuclei.py) sub-module \n",
    "##\n",
    "`infer_nuclei` procedure\n",
    "\n",
    "Use the `infer_nuclei` function to infer the Nucleus and export it as an _ome.tif_ for easy reference."
   ]
  },
  {
   "cell_type": "code",
   "execution_count": 19,
   "metadata": {},
   "outputs": [],
   "source": [
    "from infer_subc_2d.organelles.nuclei import infer_nuclei, fixed_infer_nuclei\n",
    "\n",
    "nuclei_object =  fixed_infer_nuclei(img_data, soma_mask) \n"
   ]
  },
  {
   "attachments": {},
   "cell_type": "markdown",
   "metadata": {},
   "source": [
    "## Visualize  2\n"
   ]
  },
  {
   "cell_type": "code",
   "execution_count": 20,
   "metadata": {},
   "outputs": [
    {
     "data": {
      "text/plain": [
       "<Labels layer 'Labels' at 0x16ac9f100>"
      ]
     },
     "execution_count": 20,
     "metadata": {},
     "output_type": "execute_result"
    }
   ],
   "source": [
    "viewer.add_image(\n",
    "    _NU_object,\n",
    "    scale=scale,\n",
    "    opacity=0.3,\n",
    ")    \n",
    "\n",
    "\n",
    "viewer.add_labels(\n",
    "    label(_NU_object),\n",
    "    scale=scale,\n",
    "    opacity=0.3,\n",
    ")\n"
   ]
  },
  {
   "cell_type": "code",
   "execution_count": 21,
   "metadata": {},
   "outputs": [
    {
     "data": {
      "text/plain": [
       "<Image layer 'nuclei_object [1]' at 0x16ac9fdf0>"
      ]
     },
     "execution_count": 21,
     "metadata": {},
     "output_type": "execute_result"
    }
   ],
   "source": [
    "viewer.add_image(\n",
    "    nuclei_object,\n",
    "    scale=scale,\n",
    "    opacity=0.3,\n",
    ")    \n"
   ]
  },
  {
   "cell_type": "code",
   "execution_count": 22,
   "metadata": {},
   "outputs": [
    {
     "data": {
      "image/png": "[encoded data removed]",
      "text/html": [
       "<img src=\"data:image/png;base64,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\"></img>"
      ],
      "text/plain": [
       "<napari.utils.notebook_display.NotebookScreenshot at 0x16ac013d0>"
      ]
     },
     "execution_count": 22,
     "metadata": {},
     "output_type": "execute_result"
    }
   ],
   "source": [
    "from napari.utils.notebook_display import nbscreenshot\n",
    "\n",
    "# viewer.dims.ndisplay = 3\n",
    "# viewer.camera.angles = (-30, 25, 120)\n",
    "nbscreenshot(viewer, canvas_only=True)\n"
   ]
  },
  {
   "cell_type": "code",
   "execution_count": 24,
   "metadata": {},
   "outputs": [],
   "source": [
    "viewer.close()"
   ]
  },
  {
   "cell_type": "code",
   "execution_count": null,
   "metadata": {},
   "outputs": [],
   "source": [
    "# copy to utils.img\n",
    "def _scale_and_smooth(img_in: np.ndarray,\n",
    "                       median_sz: int = 1, \n",
    "                       gauss_sig: float = 1.34,\n",
    "                       slice_by_slice: bool=True\n",
    "                ) -> np.ndarray:\n",
    "    \"\"\"\n",
    "    helper to perform min-max scaling, and median+gaussian smoothign all at once\n",
    "    Parameters\n",
    "    ------------\n",
    "    img_in: np.ndarray\n",
    "        a 3d image\n",
    "    median_sz: int\n",
    "        width of median filter for signal\n",
    "    gauss_sig: float\n",
    "        sigma for gaussian smoothing of  signal\n",
    "    slice_by_slice: \n",
    "        NOT IMPLIMENTED.  toggles whether to do 3D operations or slice by slice in Z\n",
    "\n",
    "    Returns\n",
    "    -------------\n",
    "        np.ndimage \n",
    "\n",
    "    \"\"\"\n",
    "    img  = min_max_intensity_normalization(img_in.copy()) # is this copy nescesa\n",
    "\n",
    "    # TODO:  make non-slice-by-slice work\n",
    "    slice_by_slice = True  \n",
    "    if slice_by_slice:\n",
    "        if median_sz > 1:\n",
    "            img = median_filter_slice_by_slice(img, size=median_sz)\n",
    "        img = image_smoothing_gaussian_slice_by_slice( img, sigma=gauss_sig)\n",
    "    else: \n",
    "        print(\" PLEASE CHOOOSE 'slice-by-slice', 3D is not yet implimented\")\n",
    " \n",
    "    return img\n",
    "\n"
   ]
  },
  {
   "cell_type": "code",
   "execution_count": null,
   "metadata": {},
   "outputs": [],
   "source": [
    "# copy to utils.img\n",
    "def _get_interior_labels(img_in: np.ndarray)  -> np.ndarray:\n",
    "    \"\"\"\n",
    "    gets the labeled objects from the X,Y \"interior\" of the image. We only want to clear the objects touching the sides of the volume, but not the top and bottom, so we pad and crop the volume along the 0th axis to avoid clearing the mitotic nucleus\n",
    "\n",
    "    Parameters\n",
    "    ------------\n",
    "    img_in: np.ndarray\n",
    "        a 3d image\n",
    "\n",
    "    Returns\n",
    "    -------------\n",
    "        np.ndimage of labeled segmentations NOT touching the sides\n",
    "\n",
    "    \"\"\"\n",
    "    segmented_padded = np.pad(\n",
    "        label(img_in),\n",
    "        ((1, 1), (0, 0), (0, 0)),\n",
    "        mode='constant',\n",
    "        constant_values=0,\n",
    "    )\n",
    "    interior_labels = clear_border(segmented_padded)[1:-1]\n",
    "    return interior_labels\n",
    "\n",
    "\n",
    "lab = _get_interior_labels(struct_obj)\n"
   ]
  },
  {
   "attachments": {},
   "cell_type": "markdown",
   "metadata": {},
   "source": [
    "-----------------\n",
    "Write the `infer_nuclei` spec to the widget json "
   ]
  },
  {
   "cell_type": "code",
   "execution_count": 22,
   "metadata": {},
   "outputs": [
    {
     "name": "stdout",
     "output_type": "stream",
     "text": [
      "function fixed_infer_nuclei is already in all_functions.json\n"
     ]
    },
    {
     "data": {
      "text/plain": [
       "0"
      ]
     },
     "execution_count": 22,
     "metadata": {},
     "output_type": "execute_result"
    }
   ],
   "source": [
    "from infer_subc_2d.organelles_config.helper import add_function_spec_to_widget_json\n",
    "\n",
    "_fixed_infer_nuclei =  {\n",
    "        \"name\": \"infer nuclei  (fixed parameters)\",\n",
    "        \"python::module\": \"infer_subc_2d.organelles\",\n",
    "        \"python::function\": \"fixed_infer_nuclei\",\n",
    "        \"parameters\": None\n",
    "        }\n",
    "\n",
    "add_function_spec_to_widget_json(\"fixed_infer_nuclei\",_fixed_infer_nuclei)"
   ]
  },
  {
   "cell_type": "code",
   "execution_count": 23,
   "metadata": {},
   "outputs": [
    {
     "name": "stdout",
     "output_type": "stream",
     "text": [
      "function infer_nuclei is already in all_functions.json\n",
      "overwriting  infer_nuclei\n"
     ]
    },
    {
     "data": {
      "text/plain": [
       "1"
      ]
     },
     "execution_count": 23,
     "metadata": {},
     "output_type": "execute_result"
    }
   ],
   "source": [
    "\n",
    "_infer_nuclei =  {\n",
    "        \"name\": \"infer nuclei\",\n",
    "        \"python::module\": \"infer_subc_2d.organelles\",\n",
    "        \"python::function\": \"infer_nuclei\",\n",
    "        \"parameters\": {\n",
    "                \"median_sz\": {\n",
    "                        \"widget_type\": \"slider\",\n",
    "                        \"data_type\": \"int\",\n",
    "                        \"min\": 3,\n",
    "                        \"max\": 15,\n",
    "                        \"increment\": 1\n",
    "                },\n",
    "                \"gauss_sig\": {\n",
    "                        \"data_type\": \"float\",\n",
    "                        \"increment\": 0.25,\n",
    "                        \"max\": 15.0,\n",
    "                        \"min\": 1.25,\n",
    "                        \"widget_type\": \"slider\"\n",
    "                },\n",
    "                \"thresh_factor\": {\n",
    "                        \"data_type\": \"float\",\n",
    "                        \"increment\": 0.05,\n",
    "                        \"max\": 1.2,\n",
    "                        \"min\": 0.6,\n",
    "                        \"widget_type\": \"slider\"\n",
    "                },\n",
    "                \"thresh_min\": {\n",
    "                        \"data_type\": \"float\",\n",
    "                        \"increment\": 0.05,\n",
    "                        \"max\": .9,\n",
    "                        \"min\": 0.0,\n",
    "                        \"widget_type\": \"slider\"\n",
    "                },\n",
    "                \"thresh_max\": {\n",
    "                        \"data_type\": \"float\",\n",
    "                        \"increment\": 0.05,\n",
    "                        \"max\": 1.0,\n",
    "                        \"min\": 0.1,\n",
    "                        \"widget_type\": \"slider\"\n",
    "                },\n",
    "                \"max_hole_w\": {\n",
    "                        \"data_type\": \"int\",\n",
    "                        \"increment\": 1,\n",
    "                        \"max\": 40,\n",
    "                        \"min\": 4,\n",
    "                        \"widget_type\": \"slider\"\n",
    "                },           \n",
    "                \"small_obj_w\": {\n",
    "                        \"data_type\": \"int\",\n",
    "                        \"increment\": 1,\n",
    "                        \"max\": 50,\n",
    "                        \"min\": 1,\n",
    "                        \"widget_type\": \"slider\"\n",
    "                }\n",
    "        }\n",
    "}\n",
    "\n",
    "add_function_spec_to_widget_json(\"infer_nuclei\", _infer_nuclei, overwrite=True )\n",
    "\n"
   ]
  },
  {
   "cell_type": "code",
   "execution_count": 24,
   "metadata": {},
   "outputs": [
    {
     "name": "stdout",
     "output_type": "stream",
     "text": [
      "function median_filter_slice_by_slice is already in all_functions.json\n"
     ]
    },
    {
     "data": {
      "text/plain": [
       "0"
      ]
     },
     "execution_count": 24,
     "metadata": {},
     "output_type": "execute_result"
    }
   ],
   "source": [
    "_median_filter_slice_by_slice =  {\n",
    "                \"name\": \"Median Smoothing Slice by Slice\",\n",
    "                \"python::module\": \"infer_subc_2d.utils.img\",\n",
    "                \"python::function\": \"median_filter_slice_by_slice\",\n",
    "                \"parameters\": {\n",
    "                    \"size\": {\n",
    "                        \"widget_type\": \"slider\",\n",
    "                        \"data_type\": \"int\",\n",
    "                        \"min\": 1,\n",
    "                        \"max\": 20,\n",
    "                        \"increment\": 1\n",
    "                    }\n",
    "                }\n",
    "            } \n",
    "add_function_spec_to_widget_json(\"median_filter_slice_by_slice\",_median_filter_slice_by_slice)"
   ]
  },
  {
   "cell_type": "code",
   "execution_count": 25,
   "metadata": {},
   "outputs": [
    {
     "name": "stdout",
     "output_type": "stream",
     "text": [
      "function image_smoothing_gaussian_slice_by_slice is already in all_functions.json\n"
     ]
    },
    {
     "data": {
      "text/plain": [
       "0"
      ]
     },
     "execution_count": 25,
     "metadata": {},
     "output_type": "execute_result"
    }
   ],
   "source": [
    "\n",
    "\n",
    "_image_smoothing_gaussian_slice_by_slice = {\n",
    "        \"name\": \"Gaussian Smoothing Slice by Slice\",\n",
    "        \"python::module\": \"aicssegmentation.core.pre_processing_utils\",\n",
    "        \"python::function\": \"image_smoothing_gaussian_slice_by_slice\",\n",
    "        \"parameters\": {\n",
    "            \"sigma\": {\n",
    "                \"widget_type\": \"slider\",\n",
    "                \"data_type\": \"float\",\n",
    "                \"min\": 0.8,\n",
    "                \"max\": 20,\n",
    "                \"increment\": 0.2\n",
    "            }\n",
    "        }\n",
    "        }\n",
    "\n",
    "# json.dumps({\"image_smoothing_gaussian_slice_by_slice\": _image_smoothing_gaussian_slice_by_slice} )\n",
    "add_function_spec_to_widget_json(\"image_smoothing_gaussian_slice_by_slice\",_image_smoothing_gaussian_slice_by_slice)        \n"
   ]
  },
  {
   "cell_type": "code",
   "execution_count": 26,
   "metadata": {},
   "outputs": [
    {
     "name": "stdout",
     "output_type": "stream",
     "text": [
      "function apply_log_li_threshold is already in all_functions.json\n",
      "overwriting  apply_log_li_threshold\n"
     ]
    },
    {
     "data": {
      "text/plain": [
       "1"
      ]
     },
     "execution_count": 26,
     "metadata": {},
     "output_type": "execute_result"
    }
   ],
   "source": [
    "\n",
    "# WARNING: not a good way to set to None\n",
    "_apply_log_li_threshold = {\n",
    "        \"name\": \"threshold log Li\",\n",
    "        \"python::module\": \"infer_subc_2d.utils.img\",\n",
    "        \"python::function\": \"apply_log_li_threshold\",\n",
    "        \"parameters\": {\n",
    "            \"thresh_factor\": {\n",
    "                \"widget_type\": \"slider\",\n",
    "                \"data_type\": \"float\",\n",
    "                \"min\": 0.3,\n",
    "                \"max\": 1.1,\n",
    "                \"increment\": 0.05\n",
    "            },\n",
    "            \"thresh_min\": {\n",
    "                \"widget_type\": \"slider\",\n",
    "                \"data_type\": \"float\",\n",
    "                \"min\": 0.0,\n",
    "                \"max\": 0.8,\n",
    "                \"increment\": 0.01\n",
    "            },\n",
    "            \"thresh_max\": {\n",
    "                \"widget_type\": \"slider\",\n",
    "                \"data_type\": \"float\",\n",
    "                \"min\": 0.3,\n",
    "                \"max\": 1.0,\n",
    "                \"increment\": 0.05\n",
    "            },\n",
    "        }\n",
    "        }\n",
    "\n",
    "# json.dumps({\"apply_log_li_threshold\": _apply_log_li_threshold} )\n",
    "add_function_spec_to_widget_json(\"apply_log_li_threshold\",_apply_log_li_threshold,overwrite=True)        \n"
   ]
  },
  {
   "cell_type": "code",
   "execution_count": 27,
   "metadata": {},
   "outputs": [
    {
     "name": "stdout",
     "output_type": "stream",
     "text": [
      "function label is already in all_functions.json\n"
     ]
    },
    {
     "data": {
      "text/plain": [
       "0"
      ]
     },
     "execution_count": 27,
     "metadata": {},
     "output_type": "execute_result"
    }
   ],
   "source": [
    "\n",
    "\n",
    "    # NU_labels = label(nuclei_object)\n",
    "\n",
    "_label =  {\n",
    "        \"name\": \"label objects\",\n",
    "        \"python::module\": \"skimage.measure\",\n",
    "        \"python::function\": \"label\",\n",
    "        \"parameters\": None\n",
    "        }\n",
    "# json.dumps({\"label\":_label})\n",
    "add_function_spec_to_widget_json(\"label\",_label)        \n"
   ]
  },
  {
   "cell_type": "code",
   "execution_count": 28,
   "metadata": {},
   "outputs": [
    {
     "name": "stdout",
     "output_type": "stream",
     "text": [
      "function apply_mask is already in all_functions.json\n"
     ]
    },
    {
     "data": {
      "text/plain": [
       "0"
      ]
     },
     "execution_count": 28,
     "metadata": {},
     "output_type": "execute_result"
    }
   ],
   "source": [
    "\n",
    "#  nulei_object = apply_mask(nuclei_object, soma_mask)\n",
    "\n",
    "_apply_mask=  {\n",
    "        \"name\": \"apply mask\",\n",
    "        \"python::module\": \"infer_subc_2d.utils.img\",\n",
    "        \"python::function\": \"apply_mask\",\n",
    "        \"parameters\": None\n",
    "        }\n",
    "# json.dumps({\"apply_mask\":_apply_mask})\n",
    "add_function_spec_to_widget_json(\"apply_mask\",_apply_mask)        \n"
   ]
  },
  {
   "cell_type": "code",
   "execution_count": 29,
   "metadata": {},
   "outputs": [
    {
     "name": "stdout",
     "output_type": "stream",
     "text": [
      "function size_filter_2D is already in all_functions.json\n"
     ]
    },
    {
     "data": {
      "text/plain": [
       "0"
      ]
     },
     "execution_count": 29,
     "metadata": {},
     "output_type": "execute_result"
    }
   ],
   "source": [
    "\n",
    "    # small_object_width = 45\n",
    "    # nuclei_object = size_filter_2D(nuclei_object, \n",
    "    #                                                             min_size= small_object_width**2, \n",
    "    #                                                             connectivity=1)\n",
    "\n",
    "\n",
    "_size_filter_2D = {\n",
    "        \"name\": \"Size Filter 2D\",\n",
    "        \"python::module\": \"infer_subc_2d.utils.img\",\n",
    "        \"python::function\": \"size_filter_2D\",\n",
    "        \"parameters\": {\n",
    "            \"min_size\": {\n",
    "                \"widget_type\": \"slider\",\n",
    "                \"data_type\": \"int\",\n",
    "                \"min\": 0,\n",
    "                \"max\": 500,\n",
    "                \"increment\": 1\n",
    "            }\n",
    "        }\n",
    "    }\n",
    "# json.dumps({  \"size_filter_2D\":  _size_filter_2D   })\n",
    "\n",
    "add_function_spec_to_widget_json(\"size_filter_2D\",_size_filter_2D)        \n"
   ]
  },
  {
   "attachments": {},
   "cell_type": "markdown",
   "metadata": {},
   "source": [
    "-------------------------------\n",
    "## Write workflow .json\n",
    "Now that we've added our function specs we can compose workflows."
   ]
  },
  {
   "cell_type": "code",
   "execution_count": 30,
   "metadata": {},
   "outputs": [],
   "source": [
    "from infer_subc_2d.constants import NUC_CH\n",
    "\n",
    "\n",
    "def make_infer_nuclei_dict():\n",
    "    \"\"\"\n",
    "    Procedure to infer nuclei from linearly unmixed input.\n",
    "\n",
    "    Parameters\n",
    "    ------------\n",
    "    in_img: np.ndarray\n",
    "        a 3d image containing all the channels\n",
    "\n",
    "    soma_mask: np.ndarray\n",
    "        mask\n",
    "\n",
    "    Returns\n",
    "    -------------\n",
    "    nuclei_object\n",
    "        mask defined extent of NU\n",
    "\n",
    "    \"\"\"\n",
    "    step_name = []\n",
    "    function_name = []\n",
    "    category =[]\n",
    "    parameter_values = []\n",
    "    parent = []\n",
    "   \n",
    "    ###################\n",
    "    # EXTRACT\n",
    "    ###################   \n",
    "    step_name.append(\"1\")\n",
    "    function_name.append(\"select_channel_from_raw\")\n",
    "    category.append(\"extraction\")\n",
    "    parameter_values.append( dict(chan = NUC_CH) )\n",
    "    parent.append(0)\n",
    "\n",
    "    ###################\n",
    "    # PRE_PROCESSING\n",
    "    ###################                         \n",
    "    # nuclei = min_max_intensity_normalization(in_img[NUC_CH].copy() )\n",
    "    step_name.append(\"2\")\n",
    "    function_name.append(\"min_max_intensity_normalization\")\n",
    "    category.append(\"preprocessing\")\n",
    "    parameter_values.append(None)\n",
    "    parent.append(1)\n",
    "\n",
    "    # size = 4   \n",
    "    # nuclei = median_filter_slice_by_slice( \n",
    "    #                                                                 nuclei,\n",
    "    #                                                                 size=size  )\n",
    "    step_name.append(\"3\")\n",
    "    function_name.append(\"median_filter_slice_by_slice\")\n",
    "    category.append(\"preprocessing\")\n",
    "    parameter_values.append(dict(size = 4 ))\n",
    "    parent.append(2)\n",
    "\n",
    "    # sigma = 1.34\n",
    "    # truncate_range = 3.0\n",
    "    # nuclei = image_smoothing_gaussian_slice_by_slice(  nuclei,\n",
    "    #                                                                                             sigma=sigma,\n",
    "    #                                                                                             truncate_range = truncate_range\n",
    "    #                                                                                             )\n",
    "    step_name.append(\"4\")\n",
    "    function_name.append(\"image_smoothing_gaussian_slice_by_slice\")\n",
    "    category.append(\"preprocessing\")\n",
    "    parameter_values.append(dict( sigma = 1.34 ))\n",
    "    parent.append(3)\n",
    "\n",
    "    ###################\n",
    "    # CORE_PROCESSING\n",
    "    ###################\n",
    "    # threshold_factor = 0.9 \n",
    "    # thresh_min = .1\n",
    "    # thresh_max = 1.\n",
    "    # nuclei_object = apply_log_li_threshold(nuclei, threshold_factor=threshold_factor, thresh_min=thresh_min, thresh_max=thresh_max)\n",
    "    step_name.append(\"5\")\n",
    "    function_name.append(\"apply_log_li_threshold\")\n",
    "    category.append(\"core\")\n",
    "    parameter_values.append(dict(thresh_factor = 0.9, \n",
    "                                                            thresh_min = .1,\n",
    "                                                            thresh_max = 1.))\n",
    "    parent.append(4)\n",
    "\n",
    "\n",
    "    # NU_labels = label(nuclei_object)\n",
    "    step_name.append(\"6\")\n",
    "    function_name.append(\"label\")\n",
    "    category.append(\"core\")\n",
    "    parameter_values.append(None)\n",
    "    parent.append(5)\n",
    "\n",
    "\n",
    "    ###################\n",
    "    # POST_PROCESSING\n",
    "    ###################\n",
    "    # hole_width = 5  \n",
    "    # nuclei_object = hole_filling(nuclei_object, hole_min=0, hole_max=hole_width**2, fill_2d=True)\n",
    "    step_name.append(\"6\")\n",
    "    function_name.append(\"hole_filling\")\n",
    "    category.append(\"postprocessing\")\n",
    "    parameter_values.append(dict( hole_min=0, hole_max=5**2, fill_2d=True))\n",
    "    parent.append(5)\n",
    "\n",
    "    # # EEEEEK I don't know how to compose where the mask comes from... \n",
    "    # nuclei_object = apply_mask(nuclei_object, soma_mask)\n",
    "\n",
    "    # small_object_width = 15\n",
    "    # nuclei_object = size_filter_2D(nuclei_object, \n",
    "    #                                                             min_size= small_object_width**2, \n",
    "    #                                                             connectivity=1)\n",
    "    step_name.append(\"7\")\n",
    "    function_name.append(\"size_filter_2D\")\n",
    "    category.append(\"postprocessing\")\n",
    "    parameter_values.append(dict( min_size = 15**2  ))\n",
    "    parent.append(6)\n",
    "\n",
    "    out_dict = dict()\n",
    "    for i,stepn in enumerate(step_name):\n",
    "        entry = dict(category=category[i],\n",
    "                            function=function_name[i],\n",
    "                            parameter_values=parameter_values[i],\n",
    "                            parent=parent[i]\n",
    "        )\n",
    "        if entry['parameter_values'] is None:\n",
    "            _ = entry.pop('parameter_values')\n",
    "        out_dict[stepn] = entry\n",
    "        \n",
    "    return out_dict"
   ]
  },
  {
   "cell_type": "code",
   "execution_count": 31,
   "metadata": {},
   "outputs": [],
   "source": [
    "from infer_subc_2d.utils.directories import Directories\n",
    "import json\n",
    "\n",
    "def _write_workflow_json(wf_name, wf_dict):\n",
    "\n",
    "    # read all_functions.json into dict\n",
    "    # if not wf_name.startswith(\"conf\"):\n",
    "    #     wf_name = f\"conf_{wf_name}\"\n",
    "    path = Directories.get_structure_config_dir() / f\"{wf_name}.json\"\n",
    "\n",
    "    # re-write file\n",
    "    with open(path, \"w\") as file:\n",
    "        json.dump(wf_dict, file, indent=4, sort_keys=False)\n",
    "\n",
    "    return path\n",
    "\n",
    "\n"
   ]
  },
  {
   "cell_type": "code",
   "execution_count": 32,
   "metadata": {},
   "outputs": [
    {
     "data": {
      "text/plain": [
       "PosixPath('/Users/ahenrie/Projects/Imaging/infer-subc-2D/infer_subc_2d/organelles_config/conf_2.2.nuclei_stepbystep.json')"
      ]
     },
     "execution_count": 32,
     "metadata": {},
     "output_type": "execute_result"
    }
   ],
   "source": [
    "from infer_subc_2d.organelles_config.helper import write_workflow_json\n",
    "\n",
    "infer_nuclei_dict = make_infer_nuclei_dict()\n",
    "\n",
    "write_workflow_json(\"conf_2.2.nuclei_stepbystep\", infer_nuclei_dict)"
   ]
  },
  {
   "cell_type": "code",
   "execution_count": 33,
   "metadata": {},
   "outputs": [],
   "source": [
    "from infer_subc_2d.constants import NUC_CH\n",
    "\n",
    "\n",
    "def make_infer_nuclei_from_raw_dict():\n",
    "    \"\"\"\n",
    "    Procedure to infer nuclei from linearly unmixed input.\n",
    "\n",
    "    Parameters\n",
    "    ------------\n",
    "    in_img: np.ndarray\n",
    "        a 3d image containing all the channels\n",
    "\n",
    "    soma_mask: np.ndarray\n",
    "        mask\n",
    "\n",
    "    Returns\n",
    "    -------------\n",
    "    nuclei_object\n",
    "        mask defined extent of NU\n",
    "\n",
    "    \"\"\"\n",
    "    step_name = []\n",
    "    function_name = []\n",
    "    category =[]\n",
    "    parameter_values = []\n",
    "    parent = []\n",
    "   \n",
    "    ###################\n",
    "    # EXTRACT\n",
    "    ###################   \n",
    "\n",
    "    step_name.append(\"1\")\n",
    "    function_name.append(\"fixed_get_optimal_Z_img\")\n",
    "    category.append(\"extraction\")\n",
    "    parameter_values.append(None)\n",
    "    parent.append(0)\n",
    "\n",
    "\n",
    "    step_name.append(\"2\")\n",
    "    function_name.append(\"fixed_infer_soma\")\n",
    "    category.append(\"extraction\")\n",
    "    parameter_values.append( None )\n",
    "    parent.append(1)\n",
    "\n",
    "    step_name.append(\"3\")\n",
    "    function_name.append(\"select_channel_from_raw\")\n",
    "    category.append(\"extraction\")\n",
    "    parameter_values.append( dict(chan = NUC_CH) )\n",
    "    parent.append(1)\n",
    "\n",
    "    ###################\n",
    "    # PRE_PROCESSING\n",
    "    ###################                         \n",
    "    # nuclei = min_max_intensity_normalization(in_img[NUC_CH].copy() )\n",
    "    step_name.append(\"4\")\n",
    "    function_name.append(\"min_max_intensity_normalization\")\n",
    "    category.append(\"preprocessing\")\n",
    "    parameter_values.append(None)\n",
    "    parent.append(3)\n",
    "\n",
    "    # size = 4   \n",
    "    # nuclei = median_filter_slice_by_slice( \n",
    "    #                                                                 nuclei,\n",
    "    #                                                                 size=size  )\n",
    "    step_name.append(\"5\")\n",
    "    function_name.append(\"median_filter_slice_by_slice\")\n",
    "    category.append(\"preprocessing\")\n",
    "    parameter_values.append(dict(size = 4 ))\n",
    "    parent.append(4)\n",
    "\n",
    "    # sigma = 1.34\n",
    "    # truncate_range = 3.0\n",
    "    # nuclei = image_smoothing_gaussian_slice_by_slice(  nuclei,\n",
    "    #                                                                                             sigma=sigma,\n",
    "    #                                                                                             truncate_range = truncate_range\n",
    "    #                                                                                             )\n",
    "    step_name.append(\"6\")\n",
    "    function_name.append(\"image_smoothing_gaussian_slice_by_slice\")\n",
    "    category.append(\"preprocessing\")\n",
    "    parameter_values.append(dict( sigma = 1.34 ))\n",
    "    parent.append(5)\n",
    "\n",
    "    ###################\n",
    "    # CORE_PROCESSING\n",
    "    ###################\n",
    "    # threshold_factor = 0.9 \n",
    "    # thresh_min = .1\n",
    "    # thresh_max = 1.\n",
    "    # nuclei_object = apply_log_li_threshold(nuclei, threshold_factor=threshold_factor, thresh_min=thresh_min, thresh_max=thresh_max)\n",
    "    step_name.append(\"7\")\n",
    "    function_name.append(\"apply_log_li_threshold\")\n",
    "    category.append(\"core\")\n",
    "    parameter_values.append(dict(thresh_factor = 0.9, \n",
    "                                                            thresh_min = .1,\n",
    "                                                            thresh_max = 1.))\n",
    "    parent.append(6)\n",
    "\n",
    "\n",
    "    # NU_labels = label(nuclei_object)\n",
    "    step_name.append(\"8\")\n",
    "    function_name.append(\"label\")\n",
    "    category.append(\"core\")\n",
    "    parameter_values.append(None)\n",
    "    parent.append(7)\n",
    "\n",
    "\n",
    "    ###################\n",
    "    # POST_PROCESSING\n",
    "    ###################\n",
    "    # hole_width = 5  \n",
    "    # nuclei_object = hole_filling(nuclei_object, hole_min=0, hole_max=hole_width**2, fill_2d=True)\n",
    "    step_name.append(\"9\")\n",
    "    function_name.append(\"hole_filling\")\n",
    "    category.append(\"postprocessing\")\n",
    "    parameter_values.append(dict( hole_min=0, hole_max=5**2, fill_2d=True))\n",
    "    parent.append(8)\n",
    "\n",
    "    step_name.append(\"10\")\n",
    "    function_name.append(\"apply_mask\")\n",
    "    category.append(\"postprocessing\")\n",
    "    parameter_values.append(None)\n",
    "    parent.append([9,2])\n",
    "\n",
    "\n",
    "    # small_object_width = 15\n",
    "    # nuclei_object = size_filter_2D(nuclei_object, \n",
    "    #                                                             min_size= small_object_width**2, \n",
    "    #                                                             connectivity=1)\n",
    "    step_name.append(\"11\")\n",
    "    function_name.append(\"size_filter_2D\")\n",
    "    category.append(\"postprocessing\")\n",
    "    parameter_values.append(dict( min_size = 15**2  ))\n",
    "    parent.append(10)\n",
    "\n",
    "    out_dict = dict()\n",
    "    for i,stepn in enumerate(step_name):\n",
    "        entry = dict(category=category[i],\n",
    "                            function=function_name[i],\n",
    "                            parameter_values=parameter_values[i],\n",
    "                            parent=parent[i]\n",
    "        )\n",
    "        if entry['parameter_values'] is None:\n",
    "            _ = entry.pop('parameter_values')\n",
    "        out_dict[stepn] = entry\n",
    "        \n",
    "    return out_dict"
   ]
  },
  {
   "cell_type": "code",
   "execution_count": 34,
   "metadata": {},
   "outputs": [
    {
     "data": {
      "text/plain": [
       "PosixPath('/Users/ahenrie/Projects/Imaging/infer-subc-2D/infer_subc_2d/organelles_config/conf_1.2.nuclei_stepbystep_from_raw.json')"
      ]
     },
     "execution_count": 34,
     "metadata": {},
     "output_type": "execute_result"
    }
   ],
   "source": [
    "from infer_subc_2d.organelles_config.helper import write_workflow_json\n",
    "\n",
    "infer_nuclei_dict = make_infer_nuclei_from_raw_dict()\n",
    "\n",
    "write_workflow_json(\"conf_1.2.nuclei_stepbystep_from_raw\", infer_nuclei_dict)"
   ]
  },
  {
   "cell_type": "code",
   "execution_count": 35,
   "metadata": {},
   "outputs": [
    {
     "name": "stdout",
     "output_type": "stream",
     "text": [
      "function infer_nuclei is already in all_functions.json\n"
     ]
    },
    {
     "data": {
      "text/plain": [
       "0"
      ]
     },
     "execution_count": 35,
     "metadata": {},
     "output_type": "execute_result"
    }
   ],
   "source": [
    "from infer_subc_2d.organelles_config.helper import add_function_spec_to_widget_json\n",
    "\n",
    "_infer_nuclei =  {\n",
    "        \"name\": \"infer infer_nuclei\",\n",
    "        \"python::module\": \"infer_subc_2d.organelles\",\n",
    "        \"python::function\": \"infer_nuclei\",\n",
    "        \"parameters\": None\n",
    "        }\n",
    "\n",
    "add_function_spec_to_widget_json(\"infer_nuclei\",_infer_nuclei)"
   ]
  },
  {
   "attachments": {},
   "cell_type": "markdown",
   "metadata": {},
   "source": [
    "-------------\n",
    "## SUMMARY\n",
    "\n",
    "The above details how the nuclei object is inferred.  \n",
    "\n",
    "### NEXT: INFER CYTOSOL\n",
    "\n",
    "proceed to [03_infer_cytosol.ipynb](./03_infer_cytosol.ipynb)\n"
   ]
  },
  {
   "cell_type": "markdown",
   "metadata": {},
   "source": []
  }
 ],
 "metadata": {
  "kernelspec": {
   "display_name": "Python 3 (ipykernel)",
   "language": "python",
   "name": "python3"
  },
  "language_info": {
   "codemirror_mode": {
    "name": "ipython",
    "version": 3
   },
   "file_extension": ".py",
   "mimetype": "text/x-python",
   "name": "python",
   "nbconvert_exporter": "python",
   "pygments_lexer": "ipython3",
   "version": "3.9.16"
  },
  "vscode": {
   "interpreter": {
    "hash": "d6148ef1fb015fb20f0b6da2ea61c87c6b848bdf3dabb03087e5d5cd0c4607e9"
   }
  }
 },
 "nbformat": 4,
 "nbformat_minor": 2
}
