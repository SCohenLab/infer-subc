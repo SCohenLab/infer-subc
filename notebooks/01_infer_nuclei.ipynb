{
 "cells": [
  {
   "attachments": {},
   "cell_type": "markdown",
   "metadata": {},
   "source": [
    "# Infer ***nuclei*** - 1️⃣ \n",
    "\n",
    "--------------\n",
    "\n",
    "## OBJECTIVE: \n",
    "### ✅ Infer sub-cellular component #1: ***nuclei***  in order to understand interactome \n",
    "\n",
    "To measure shape, position, size, and interaction of eight organelles/cellular components ***nuclei***.  \n",
    "\n",
    "Dependencies:\n",
    "***Soma*** and ***cytosol*** inference rely on the ***nuclei*** inference.  Therefore all of the sub-cellular objects rely on the NU segmentation.\n",
    "\n",
    "\n",
    "> CONVENTION:  \"nuclei\" for the segmentation of ALL nuclei in the image.  \"nucleus\" for the ***single*** soma-masked version.\n"
   ]
  },
  {
   "attachments": {},
   "cell_type": "markdown",
   "metadata": {},
   "source": [
    "## preamble\n",
    "\n",
    "1. imports\n",
    "2. setup\n",
    "3. ~~choose_Z~~\n",
    "4. get soma mask (if available)\n",
    "5. infer-nuclei\n",
    "    * input\n",
    "    * pre-processing\n",
    "    * core processing\n",
    "    * post-processing\n",
    "    * output\n",
    "6. infer _nucleus_ : apply soma mask (if not available at #4)\n",
    "\n"
   ]
  },
  {
   "attachments": {},
   "cell_type": "markdown",
   "metadata": {},
   "source": [
    "\n",
    "\n",
    "### IMPORTS"
   ]
  },
  {
   "cell_type": "code",
   "execution_count": 1,
   "metadata": {},
   "outputs": [],
   "source": [
    "# top level imports\n",
    "from pathlib import Path\n",
    "import os, sys\n",
    "from collections import defaultdict\n",
    "from typing import Optional, Union\n",
    "\n",
    "import numpy as np\n",
    "\n",
    "from aicssegmentation.core.pre_processing_utils import  image_smoothing_gaussian_slice_by_slice \n",
    "from skimage.measure import label\n",
    "\n",
    "# # package for io \n",
    "from aicsimageio import AICSImage\n",
    "\n",
    "import napari\n",
    "\n",
    "### import local python functions in ../infer_subc_2d\n",
    "sys.path.append(os.path.abspath((os.path.join(os.getcwd(), '..'))))\n",
    "\n",
    "from infer_subc_2d.utils.file_io import (read_czi_image,\n",
    "                                                                    export_inferred_organelle,\n",
    "                                                                    list_image_files)\n",
    "\n",
    "from infer_subc_2d.utils.img import *\n",
    "from infer_subc_2d.organelles import fixed_get_optimal_Z_image, fixed_find_optimal_Z, find_optimal_Z\n",
    "\n",
    "%load_ext autoreload\n",
    "%autoreload 2\n",
    "\n"
   ]
  },
  {
   "cell_type": "code",
   "execution_count": 2,
   "metadata": {},
   "outputs": [],
   "source": [
    "# NOTE:  these \"constants\" are only accurate for the testing MCZ dataset\n",
    "from infer_subc_2d.constants import (TEST_IMG_N,\n",
    "                                                                    NUC_CH ,\n",
    "                                                                    LYSO_CH ,\n",
    "                                                                    MITO_CH ,\n",
    "                                                                    GOLGI_CH ,\n",
    "                                                                    PEROXI_CH ,\n",
    "                                                                    ER_CH ,\n",
    "                                                                    LIPID_CH ,\n",
    "                                                                    RESIDUAL_CH )                       "
   ]
  },
  {
   "attachments": {},
   "cell_type": "markdown",
   "metadata": {},
   "source": [
    "\n",
    "## SETUP\n",
    "\n",
    "\n",
    "CUSTOMIZE WITH: \n",
    "1. updated path to data\n",
    "2. updated folder name for \"raw\" data\n",
    "\n",
    "> NOTE: we are operating on a single \"test\" image in this notebook.  The batch-processing of all the images will be happen at the end of the notebook after we have developed/confirmed the setmentation procedures and parameter settings.\n"
   ]
  },
  {
   "cell_type": "code",
   "execution_count": 3,
   "metadata": {},
   "outputs": [],
   "source": [
    "# this will be the example image for testing the pipeline below\n",
    "test_img_n = TEST_IMG_N\n",
    "\n",
    "# build the datapath\n",
    "# all the imaging data goes here.\n",
    "data_root_path = Path(os.path.expanduser(\"~\")) / \"Projects/Imaging/data\"\n",
    "\n",
    "# linearly unmixed \".czi\" files are here\n",
    "in_data_path = data_root_path / \"raw\"\n",
    "im_type = \".czi\"\n",
    "\n",
    "# get the list of all files\n",
    "img_file_list = list_image_files(in_data_path,im_type)\n",
    "test_img_name = img_file_list[test_img_n]\n",
    "\n",
    "# save output \".tiff\" files here\n",
    "out_data_path = data_root_path / \"out\"\n",
    "\n",
    "if not Path.exists(out_data_path):\n",
    "    Path.mkdir(out_data_path)\n",
    "    print(f\"making {out_data_path}\")"
   ]
  },
  {
   "cell_type": "code",
   "execution_count": 4,
   "metadata": {},
   "outputs": [
    {
     "name": "stderr",
     "output_type": "stream",
     "text": [
      "/opt/anaconda3/envs/napariNEW/lib/python3.9/site-packages/ome_types/_convenience.py:106: FutureWarning: The default XML parser will be changing from 'xmlschema' to 'lxml' in version 0.4.0.  To silence this warning, please provide the `parser` argument, specifying either 'lxml' (to opt into the new behavior), or'xmlschema' (to retain the old behavior).\n",
      "  d = to_dict(os.fspath(xml), parser=parser, validate=validate)\n"
     ]
    }
   ],
   "source": [
    "img_data,meta_dict = read_czi_image(test_img_name)\n",
    "\n",
    "# get some top-level info about the RAW data\n",
    "channel_names = meta_dict['name']\n",
    "img = meta_dict['metadata']['aicsimage']\n",
    "scale = meta_dict['scale']\n",
    "channel_axis = meta_dict['channel_axis']\n"
   ]
  },
  {
   "attachments": {},
   "cell_type": "markdown",
   "metadata": {},
   "source": [
    "## infer ***nuclei***\n",
    " \n",
    "\n",
    "## summary of steps\n",
    "\n",
    "➡️ INPUT\n",
    "\n",
    "- channel 0\n",
    "\n",
    "PRE-PROCESSING\n",
    "-  scale to min 0, max 1.0\n",
    "- median Filter window 4\n",
    "-  gaussian 1.34\n",
    "\n",
    "CORE-PROCESSING\n",
    "  - threshold method minimum cross-entropy.  \n",
    "    - objects 50-400 pixels, \n",
    "    - threshold smoothing scale: 1.34 (later 1 pixel\n",
    "    - threshold correction factor: 0.9 (later 1.2 )\n",
    "    - lower / upper bounds  (.1,1) ?\n",
    "    - log transformed thresholding\n",
    "    - fill holes\n",
    "\n",
    "\n",
    "POST-PROCESSING\n",
    "  - fill holes\n",
    "  - remove small objects\n",
    "\n",
    "\n",
    "OUTPUT ➡️ \n",
    "- labels of NUCLEI\n",
    "\n",
    "\n",
    "> #### Note:  in later steps we will limit each analysis to a single object, but at this stage we have multiple\n",
    "\n",
    "NOTE:  using Allen Cell Segmenter  [Nucleophosmin](https://www.allencell.org/cell-observations/category/nucleophosmin) might be a good generic mechanism.  e.g.\n",
    "-  [playground_npm1.ipynb](https://github.com/AllenInstitute/aics-segmentation/blob/master/lookup_table_demo/playground_npm1.ipynb) and [npm1.py](https://github.com/AllenInstitute/aics-segmentation/blob/master/aicssegmentation/structure_wrapper/seg_npm1.py) and [npm1_SR.py](https://github.com/AllenInstitute/aics-segmentation/blob/master/aicssegmentation/structure_wrapper/seg_npm1_SR.py)\n",
    "\n",
    "\n",
    "> #### Note:  this initial inferred object -- the ***nuclei*** of the brightest cell -- is implicitly used in inferring the ***soma*** and ***cytosol*** objects.  \n"
   ]
  },
  {
   "attachments": {},
   "cell_type": "markdown",
   "metadata": {},
   "source": [
    "## INPUT prototype\n",
    "\n",
    "Get the \"raw\" signals we need to analyze as well as any other dependencies in \"inferred\" objects.  \n",
    "\n",
    "> NOTE: we are operating on a single \"test\" image in this notebook.  The batch-processing of all the images will be happen at the end of the notebook after we have developed/confirmed the setmentation procedures and parameter settings."
   ]
  },
  {
   "cell_type": "code",
   "execution_count": 5,
   "metadata": {},
   "outputs": [],
   "source": [
    "###################\n",
    "# INPUT\n",
    "###################\n",
    "raw_nuclei = select_channel_from_raw(img_data, NUC_CH)\n"
   ]
  },
  {
   "attachments": {},
   "cell_type": "markdown",
   "metadata": {},
   "source": [
    "## PRE-PROCESSING prototype\n"
   ]
  },
  {
   "cell_type": "code",
   "execution_count": 6,
   "metadata": {},
   "outputs": [],
   "source": [
    "###################\n",
    "# PRE_PROCESSING\n",
    "###################           \n",
    "# \n",
    "med_filter_size = 4   \n",
    "gaussian_smoothing_sigma = 1.34\n",
    "# nuclei = min_max_intensity_normalization(raw_nuclei )\n",
    "# nuclei = median_filter_slice_by_slice( nuclei, size=med_filter_size  )\n",
    "# nuclei = image_smoothing_gaussian_slice_by_slice(  nuclei, sigma=gaussian_smoothing_sigma)\n",
    "\n",
    "nuclei =  scale_and_smooth(raw_nuclei,\n",
    "                                                    median_sz = med_filter_size, \n",
    "                                                    gauss_sig = gaussian_smoothing_sigma)"
   ]
  },
  {
   "attachments": {},
   "cell_type": "markdown",
   "metadata": {},
   "source": [
    "\n",
    "> #### ASIDE: Thresholding\n",
    "> [Thresholding](https://en.wikipedia.org/wiki/Thresholding_%28image_processing%29) is used to create binary images. A threshold value determines the intensity value separating foreground pixels from background pixels. Foregound pixels are pixels brighter than the threshold value, background pixels are darker. In many cases, images can be adequately segmented by thresholding followed by labelling of *connected components*, which is a fancy way of saying \"groups of pixels that touch each other\".\n",
    "> \n",
    "> Different thresholding algorithms produce different results. [Otsu's method](https://en.wikipedia.org/wiki/Otsu%27s_method) and [Li's minimum cross entropy threshold](https://scikit-image.org/docs/dev/auto_examples/developers/plot_threshold_li.html) are two common algorithms. Below, we use Li. You can use `skimage.filters.threshold_<TAB>` to find different thresholding methods.\n",
    "\n",
    "_Li_ procedure  better matches the CellProfiler pipeline which simply calls it \"Minimum Cross Entropy\" .\n"
   ]
  },
  {
   "attachments": {},
   "cell_type": "markdown",
   "metadata": {},
   "source": [
    "## CORE PROCESSING prototype"
   ]
  },
  {
   "cell_type": "code",
   "execution_count": 7,
   "metadata": {},
   "outputs": [],
   "source": [
    "###################\n",
    "# CORE_PROCESSING\n",
    "###################\n",
    "\n",
    "threshold_factor = 0.9 #from cellProfiler\n",
    "thresh_min = .1\n",
    "thresh_max = 1.\n",
    "li_thresholded = apply_log_li_threshold(nuclei, thresh_factor=threshold_factor, thresh_min=thresh_min, thresh_max=thresh_max)\n"
   ]
  },
  {
   "attachments": {},
   "cell_type": "markdown",
   "metadata": {},
   "source": [
    "## POST PROCESSING prototype\n",
    "\n",
    "> NOTE: the size parameters are by convention defined as one dimensional \"width\", so the inputs to the functions need to be _squared_ i.e. raised to the power of 2: `** 2`.   For volumetric (3D) analysis this would be _cubed_:`**3`"
   ]
  },
  {
   "cell_type": "code",
   "execution_count": 8,
   "metadata": {},
   "outputs": [],
   "source": [
    "###################\n",
    "# POST_PROCESSING\n",
    "###################\n",
    "\n",
    "hole_width = 25  \n",
    "# # wrapper to remoce_small_objects\n",
    "#removed_holes = remove_small_holes(li_thresholded, hole_width ** 2 )\n",
    "removed_holes = hole_filling_linear_size(li_thresholded, hole_min=0, hole_max=hole_width)\n",
    "\n",
    "small_object_width = 15\n",
    "cleaned_img = size_filter_linear_size(removed_holes, # wrapper to remove_small_objects which can do slice by slice\n",
    "                                                                min_size= small_object_width)\n",
    "\n",
    "cleaned_img2 = fill_and_filter_linear_size(li_thresholded, hole_min=0, hole_max=hole_width, min_size= small_object_width)"
   ]
  },
  {
   "cell_type": "code",
   "execution_count": 9,
   "metadata": {},
   "outputs": [],
   "source": [
    "nuclei_object = cleaned_img\n",
    "NU_labels = label( cleaned_img )\n",
    "NU_signal = raw_nuclei\n"
   ]
  },
  {
   "attachments": {},
   "cell_type": "markdown",
   "metadata": {},
   "source": [
    "## Visualize with `napari` 1\n",
    "Visualize the first-pass segmentation and labeling with `napari`."
   ]
  },
  {
   "cell_type": "code",
   "execution_count": 10,
   "metadata": {},
   "outputs": [],
   "source": [
    "viewer = napari.Viewer()\n"
   ]
  },
  {
   "cell_type": "code",
   "execution_count": 11,
   "metadata": {},
   "outputs": [
    {
     "data": {
      "text/plain": [
       "<Labels layer 'NU_labels' at 0x14101a4c0>"
      ]
     },
     "execution_count": 11,
     "metadata": {},
     "output_type": "execute_result"
    }
   ],
   "source": [
    "\n",
    "viewer.add_image(\n",
    "    nuclei_object,\n",
    "    opacity=0.3,\n",
    ")    \n",
    "\n",
    "\n",
    "viewer.add_labels(\n",
    "    NU_labels,\n",
    "    opacity=0.3,\n",
    ")\n",
    "\n"
   ]
  },
  {
   "attachments": {},
   "cell_type": "markdown",
   "metadata": {},
   "source": [
    "## SAVE inferred nuclei to .tif file\n",
    "\n",
    "Based on the _prototyping_ above define the function to infer nuclei.  \n"
   ]
  },
  {
   "cell_type": "code",
   "execution_count": 15,
   "metadata": {},
   "outputs": [
    {
     "name": "stderr",
     "output_type": "stream",
     "text": [
      "/opt/anaconda3/envs/napariNEW/lib/python3.9/site-packages/ome_types/_convenience.py:106: FutureWarning: The default XML parser will be changing from 'xmlschema' to 'lxml' in version 0.4.0.  To silence this warning, please provide the `parser` argument, specifying either 'lxml' (to opt into the new behavior), or'xmlschema' (to retain the old behavior).\n",
      "  d = to_dict(os.fspath(xml), parser=parser, validate=validate)\n"
     ]
    },
    {
     "name": "stdout",
     "output_type": "stream",
     "text": [
      "saved file: /Users/ahenrie/Projects/Imaging/data/out/nuclei_ZSTACK_PBTOhNGN2hiPSCs_BR3_N04_Unmixed.ome.tiff\n"
     ]
    }
   ],
   "source": [
    "\n",
    "\n",
    "out_file_n = export_inferred_organelle(nuclei_object, \"nuclei\", meta_dict, out_data_path)\n"
   ]
  },
  {
   "attachments": {},
   "cell_type": "markdown",
   "metadata": {},
   "source": [
    "## DEFINE `_infer_nuclei` function\n",
    "\n",
    "Based on the _prototyping_ above define the function to infer nuclei.  \n"
   ]
  },
  {
   "cell_type": "code",
   "execution_count": 12,
   "metadata": {},
   "outputs": [
    {
     "name": "stderr",
     "output_type": "stream",
     "text": [
      "[autoreload of infer_subc_2d.organelles.nuclei failed: Traceback (most recent call last):\n",
      "  File \"/opt/anaconda3/envs/napariNEW/lib/python3.9/site-packages/IPython/extensions/autoreload.py\", line 261, in check\n",
      "    superreload(m, reload, self.old_objects)\n",
      "  File \"/opt/anaconda3/envs/napariNEW/lib/python3.9/site-packages/IPython/extensions/autoreload.py\", line 459, in superreload\n",
      "    module = reload(module)\n",
      "  File \"/opt/anaconda3/envs/napariNEW/lib/python3.9/importlib/__init__.py\", line 169, in reload\n",
      "    _bootstrap._exec(spec, module)\n",
      "  File \"<frozen importlib._bootstrap>\", line 613, in _exec\n",
      "  File \"<frozen importlib._bootstrap_external>\", line 846, in exec_module\n",
      "  File \"<frozen importlib._bootstrap_external>\", line 983, in get_code\n",
      "  File \"<frozen importlib._bootstrap_external>\", line 913, in source_to_code\n",
      "  File \"<frozen importlib._bootstrap>\", line 228, in _call_with_frames_removed\n",
      "  File \"/Users/ahenrie/Projects/Imaging/infer-subc-2D/infer_subc_2d/organelles/nuclei.py\", line 12\n",
      "    apply_log_li_threshold,\n",
      "    ^\n",
      "SyntaxError: invalid syntax\n",
      "]\n"
     ]
    }
   ],
   "source": [
    "##########################\n",
    "#  _infer_nuclei\n",
    "##########################\n",
    "def _infer_nuclei( in_img: np.ndarray, \n",
    "                            nuc_ch: Union[int,None],\n",
    "                            median_sz: int, \n",
    "                            gauss_sig: float,\n",
    "                            thresh_factor: float,\n",
    "                            thresh_min: float,\n",
    "                            thresh_max: float,\n",
    "                            max_hole_w: int,\n",
    "                            small_obj_w: int\n",
    "                        ) -> np.ndarray:\n",
    "    \"\"\"\n",
    "    Procedure to infer nuclei from linearly unmixed input.\n",
    "\n",
    "    Parameters\n",
    "    ------------\n",
    "    in_img: np.ndarray\n",
    "        a 3d image containing all the channels\n",
    "    median_sz: int\n",
    "        width of median filter for signal\n",
    "    gauss_sig: float\n",
    "        sigma for gaussian smoothing of  signal\n",
    "    thresh_factor: float\n",
    "        adjustment factor for log Li threholding\n",
    "    thresh_min: float\n",
    "        abs min threhold for log Li threholding\n",
    "    thresh_max: float\n",
    "        abs max threhold for log Li threholding\n",
    "    max_hole_w: int\n",
    "        hole filling cutoff for nuclei post-processing\n",
    "    small_obj_w: int\n",
    "        minimu object size cutoff for nuclei post-processing\n",
    "\n",
    "    Returns\n",
    "    -------------\n",
    "    nuclei_object\n",
    "        mask defined extent of NU\n",
    "    \n",
    "    \"\"\"\n",
    "\n",
    "    ###################\n",
    "    # PRE_PROCESSING\n",
    "    ###################                \n",
    "    if nuc_ch is None:\n",
    "        nuc_ch = NUC_CH\n",
    "\n",
    "    nuclei = select_channel_from_raw(in_img, nuc_ch)\n",
    "\n",
    "    nuclei =  scale_and_smooth(nuclei,\n",
    "                        median_sz = median_sz, \n",
    "                        gauss_sig = gauss_sig)\n",
    "\n",
    "    ###################\n",
    "    # CORE_PROCESSING\n",
    "    ###################\n",
    "    nuclei_object = apply_log_li_threshold(nuclei, \n",
    "                                                                    thresh_factor=thresh_factor, \n",
    "                                                                    thresh_min=thresh_min, \n",
    "                                                                    thresh_max=thresh_max)\n",
    "\n",
    "    ###################\n",
    "    # POST_PROCESSING\n",
    "    ###################\n",
    "    nuclei_object = fill_and_filter_linear_size(nuclei_object, hole_min=0, hole_max=max_hole_w, min_size= small_obj_w)\n",
    "    return nuclei_object\n"
   ]
  },
  {
   "attachments": {},
   "cell_type": "markdown",
   "metadata": {},
   "source": [
    "## DEFINE `_fixed_infer_nuclei` function\n"
   ]
  },
  {
   "cell_type": "code",
   "execution_count": 13,
   "metadata": {},
   "outputs": [],
   "source": [
    "##########################\n",
    "#  fixed_infer_nuclei\n",
    "##########################\n",
    "def _fixed_infer_nuclei(in_img: np.ndarray) -> np.ndarray:\n",
    "    \"\"\"\n",
    "    Procedure to infer soma from linearly unmixed input, with a *fixed* set of parameters for each step in the procedure.  i.e. \"hard coded\"\n",
    "\n",
    "    Parameters\n",
    "    ------------\n",
    "    in_img: np.ndarray\n",
    "        a 3d image containing all the channels\n",
    " \n",
    "    Returns\n",
    "    -------------\n",
    "    nuclei_object\n",
    "        inferred nuclei\n",
    "    \n",
    "    \"\"\"\n",
    "    nuc_ch = NUC_CH\n",
    "    median_sz = 4   \n",
    "    gauss_sig = 1.34\n",
    "    threshold_factor = 0.9\n",
    "    thresh_min = 0.1\n",
    "    thresh_max = 1.0\n",
    "    max_hole_w = 25\n",
    "    small_obj_w = 15\n",
    "\n",
    "    return _infer_nuclei( in_img,\n",
    "                                    nuc_ch,\n",
    "                                    median_sz,\n",
    "                                    gauss_sig,\n",
    "                                    threshold_factor,\n",
    "                                    thresh_min,\n",
    "                                    thresh_max,\n",
    "                                    max_hole_w,\n",
    "                                    small_obj_w  )\n"
   ]
  },
  {
   "attachments": {},
   "cell_type": "markdown",
   "metadata": {},
   "source": [
    "---------------------\n",
    "## TEST `_infer_nuclei`  function defined above\n"
   ]
  },
  {
   "cell_type": "code",
   "execution_count": 15,
   "metadata": {},
   "outputs": [],
   "source": [
    "\n",
    "_NU_object =  _fixed_infer_nuclei(img_data) \n"
   ]
  },
  {
   "cell_type": "markdown",
   "metadata": {},
   "source": [
    "---------------------\n",
    "# TEST `infer_nuclei` exported functions\n",
    "\n",
    "> the prototype `_infer_nuclei` was copied to the [`.organelles.nuclei`](../infer_subc_2d/organelles/nuclei.py) sub-module \n",
    "##\n",
    "`infer_nuclei` procedure\n",
    "\n",
    "Use the `infer_nuclei` function to infer the Nucleus and export it as an _ome.tif_ for easy reference."
   ]
  },
  {
   "cell_type": "code",
   "execution_count": 16,
   "metadata": {},
   "outputs": [],
   "source": [
    "from infer_subc_2d.organelles.nuclei import infer_nuclei, fixed_infer_nuclei\n",
    "\n",
    "nuclei_object =  fixed_infer_nuclei(img_data) \n"
   ]
  },
  {
   "attachments": {},
   "cell_type": "markdown",
   "metadata": {},
   "source": [
    "## Visualize  2\n"
   ]
  },
  {
   "cell_type": "code",
   "execution_count": 20,
   "metadata": {},
   "outputs": [
    {
     "data": {
      "text/plain": [
       "<Labels layer 'Labels' at 0x16dfd0190>"
      ]
     },
     "execution_count": 20,
     "metadata": {},
     "output_type": "execute_result"
    }
   ],
   "source": [
    "viewer.add_image(\n",
    "    _NU_object,\n",
    "    opacity=0.3,\n",
    ")    \n",
    "\n",
    "\n",
    "viewer.add_labels(\n",
    "    label(_NU_object),\n",
    "    opacity=0.3,\n",
    ")\n"
   ]
  },
  {
   "cell_type": "code",
   "execution_count": 21,
   "metadata": {},
   "outputs": [
    {
     "data": {
      "text/plain": [
       "<Image layer 'nuclei_object [1]' at 0x1710efa00>"
      ]
     },
     "execution_count": 21,
     "metadata": {},
     "output_type": "execute_result"
    }
   ],
   "source": [
    "viewer.add_image(\n",
    "    nuclei_object,\n",
    "    opacity=0.3,\n",
    ")    \n"
   ]
  },
  {
   "cell_type": "code",
   "execution_count": 22,
   "metadata": {},
   "outputs": [
    {
     "data": {
      "image/png": "[encoded data removed]",
      "text/html": [
       "<img src=\"data:image/png;base64,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\"></img>"
      ],
      "text/plain": [
       "<napari.utils.notebook_display.NotebookScreenshot at 0x17127c880>"
      ]
     },
     "execution_count": 22,
     "metadata": {},
     "output_type": "execute_result"
    }
   ],
   "source": [
    "from napari.utils.notebook_display import nbscreenshot\n",
    "\n",
    "# viewer.dims.ndisplay = 3\n",
    "# viewer.camera.angles = (-30, 25, 120)\n",
    "nbscreenshot(viewer, canvas_only=True)\n"
   ]
  },
  {
   "cell_type": "code",
   "execution_count": 24,
   "metadata": {},
   "outputs": [],
   "source": [
    "viewer.close()"
   ]
  },
  {
   "cell_type": "code",
   "execution_count": null,
   "metadata": {},
   "outputs": [],
   "source": [
    "# copy to utils.img\n",
    "def _scale_and_smooth(img_in: np.ndarray,\n",
    "                       median_sz: int = 1, \n",
    "                       gauss_sig: float = 1.34,\n",
    "                       slice_by_slice: bool=True\n",
    "                ) -> np.ndarray:\n",
    "    \"\"\"\n",
    "    helper to perform min-max scaling, and median+gaussian smoothign all at once\n",
    "    Parameters\n",
    "    ------------\n",
    "    img_in: np.ndarray\n",
    "        a 3d image\n",
    "    median_sz: int\n",
    "        width of median filter for signal\n",
    "    gauss_sig: float\n",
    "        sigma for gaussian smoothing of  signal\n",
    "    slice_by_slice: \n",
    "        NOT IMPLIMENTED.  toggles whether to do 3D operations or slice by slice in Z\n",
    "\n",
    "    Returns\n",
    "    -------------\n",
    "        np.ndimage \n",
    "\n",
    "    \"\"\"\n",
    "    img  = min_max_intensity_normalization(img_in.copy()) # is this copy nescesa\n",
    "\n",
    "    # TODO:  make non-slice-by-slice work\n",
    "    slice_by_slice = True  \n",
    "    if slice_by_slice:\n",
    "        if median_sz > 1:\n",
    "            img = median_filter_slice_by_slice(img, size=median_sz)\n",
    "        img = image_smoothing_gaussian_slice_by_slice( img, sigma=gauss_sig)\n",
    "    else: \n",
    "        print(\" PLEASE CHOOOSE 'slice-by-slice', 3D is not yet implimented\")\n",
    " \n",
    "    return img\n",
    "\n"
   ]
  },
  {
   "cell_type": "code",
   "execution_count": null,
   "metadata": {},
   "outputs": [],
   "source": [
    "# copy to utils.img\n",
    "def _get_interior_labels(img_in: np.ndarray)  -> np.ndarray:\n",
    "    \"\"\"\n",
    "    gets the labeled objects from the X,Y \"interior\" of the image. We only want to clear the objects touching the sides of the volume, but not the top and bottom, so we pad and crop the volume along the 0th axis to avoid clearing the mitotic nucleus\n",
    "\n",
    "    Parameters\n",
    "    ------------\n",
    "    img_in: np.ndarray\n",
    "        a 3d image\n",
    "\n",
    "    Returns\n",
    "    -------------\n",
    "        np.ndimage of labeled segmentations NOT touching the sides\n",
    "\n",
    "    \"\"\"\n",
    "    segmented_padded = np.pad(\n",
    "        label(img_in),\n",
    "        ((1, 1), (0, 0), (0, 0)),\n",
    "        mode='constant',\n",
    "        constant_values=0,\n",
    "    )\n",
    "    interior_labels = clear_border(segmented_padded)[1:-1]\n",
    "    return interior_labels\n",
    "\n",
    "\n"
   ]
  },
  {
   "cell_type": "code",
   "execution_count": null,
   "metadata": {},
   "outputs": [],
   "source": [
    "def fill_and_filter_linear_size(\n",
    "    img: np.ndarray, hole_min: int, hole_max: int, min_size: int, method: str = \"slice_by_slice\", connectivity: int = 1\n",
    ") -> np.ndarray:\n",
    "    \"\"\"wraper to aiscsegmentation `hole_filling` and `size_filter` with size argument in linear units\n",
    "\n",
    "    Parameters\n",
    "    ------------\n",
    "    img:\n",
    "        the image to filter on\n",
    "    hole_min: int\n",
    "        the minimum width of the holes to be filled\n",
    "    hole_max: int\n",
    "        the maximum width of the holes to be filled\n",
    "    min_size: int\n",
    "        the minimum size expressed as 1D length (so squared for slice-by-slice, cubed for 3D)\n",
    "    method: str\n",
    "        either \"3D\" or \"slice_by_slice\", default is \"slice_by_slice\"\n",
    "    connnectivity: int\n",
    "        the connectivity to use when computing object size\n",
    "    Returns\n",
    "    -------------\n",
    "        a binary image after hole filling and filtering small objects; np.ndarray\n",
    "    \"\"\"\n",
    "    if not img.any():\n",
    "        return img\n",
    "    img = hole_filling(img, hole_min=hole_min**2, hole_max=hole_max**2, fill_2d=True)\n",
    "    if method == \"3D\":\n",
    "        return size_filter(img, min_size=min_size**3, method=\"3D\", connectivity=connectivity)\n",
    "    elif method == \"slice_by_slice\":\n",
    "        return size_filter(img, min_size=min_size**2, method=\"slice_by_slice\", connectivity=connectivity)\n",
    "\n"
   ]
  },
  {
   "attachments": {},
   "cell_type": "markdown",
   "metadata": {},
   "source": [
    "-------------\n",
    "## SUMMARY\n",
    "\n",
    "The above details how the nuclei object is inferred.  \n",
    "\n",
    "### NEXT: INFER CYTOSOL\n",
    "\n",
    "proceed to [03_infer_cytosol.ipynb](./03_infer_cytosol.ipynb)\n"
   ]
  },
  {
   "cell_type": "markdown",
   "metadata": {},
   "source": []
  }
 ],
 "metadata": {
  "kernelspec": {
   "display_name": "Python 3 (ipykernel)",
   "language": "python",
   "name": "python3"
  },
  "language_info": {
   "codemirror_mode": {
    "name": "ipython",
    "version": 3
   },
   "file_extension": ".py",
   "mimetype": "text/x-python",
   "name": "python",
   "nbconvert_exporter": "python",
   "pygments_lexer": "ipython3",
   "version": "3.9.16"
  },
  "vscode": {
   "interpreter": {
    "hash": "d6148ef1fb015fb20f0b6da2ea61c87c6b848bdf3dabb03087e5d5cd0c4607e9"
   }
  }
 },
 "nbformat": 4,
 "nbformat_minor": 2
}
